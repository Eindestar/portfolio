{
 "cells": [
  {
   "cell_type": "markdown",
   "metadata": {
    "toc": true
   },
   "source": [
    "<h1>Содержание<span class=\"tocSkip\"></span></h1>\n",
    "<div class=\"toc\"><ul class=\"toc-item\"><li><span><a href=\"#Подготовка-данных\" data-toc-modified-id=\"Подготовка-данных-1\"><span class=\"toc-item-num\">1&nbsp;&nbsp;</span>Подготовка данных</a></span></li><li><span><a href=\"#Обучение-моделей\" data-toc-modified-id=\"Обучение-моделей-2\"><span class=\"toc-item-num\">2&nbsp;&nbsp;</span>Обучение моделей</a></span><ul class=\"toc-item\"><li><span><a href=\"#Модель-LinearRegression\" data-toc-modified-id=\"Модель-LinearRegression-2.1\"><span class=\"toc-item-num\">2.1&nbsp;&nbsp;</span>Модель LinearRegression</a></span><ul class=\"toc-item\"><li><span><a href=\"#На-выборках-c-MEstimateEncoder\" data-toc-modified-id=\"На-выборках-c-MEstimateEncoder-2.1.1\"><span class=\"toc-item-num\">2.1.1&nbsp;&nbsp;</span>На выборках c MEstimateEncoder</a></span></li></ul></li><li><span><a href=\"#Модель-CatBoostRegressor\" data-toc-modified-id=\"Модель-CatBoostRegressor-2.2\"><span class=\"toc-item-num\">2.2&nbsp;&nbsp;</span>Модель CatBoostRegressor</a></span><ul class=\"toc-item\"><li><span><a href=\"#На-выборках-без-кодировки\" data-toc-modified-id=\"На-выборках-без-кодировки-2.2.1\"><span class=\"toc-item-num\">2.2.1&nbsp;&nbsp;</span>На выборках без кодировки</a></span></li></ul></li><li><span><a href=\"#Модель-LightGBMRegressor\" data-toc-modified-id=\"Модель-LightGBMRegressor-2.3\"><span class=\"toc-item-num\">2.3&nbsp;&nbsp;</span>Модель LightGBMRegressor</a></span></li><li><span><a href=\"#RandomForestRegressor-(случайный-лес)\" data-toc-modified-id=\"RandomForestRegressor-(случайный-лес)-2.4\"><span class=\"toc-item-num\">2.4&nbsp;&nbsp;</span>RandomForestRegressor (случайный лес)</a></span></li></ul></li><li><span><a href=\"#Анализ-моделей\" data-toc-modified-id=\"Анализ-моделей-3\"><span class=\"toc-item-num\">3&nbsp;&nbsp;</span>Анализ моделей</a></span></li><li><span><a href=\"#Вывод:\" data-toc-modified-id=\"Вывод:-4\"><span class=\"toc-item-num\">4&nbsp;&nbsp;</span>Вывод:</a></span></li></ul></div>"
   ]
  },
  {
   "cell_type": "markdown",
   "metadata": {},
   "source": [
    "# Проект: Определение стоимости автомобилей"
   ]
  },
  {
   "cell_type": "markdown",
   "metadata": {},
   "source": [
    "Описание исследования:\n",
    "\n",
    "Сервис по продаже автомобилей с пробегом «Не бит, не крашен» разрабатывает приложение для привлечения новых клиентов. Данное приожение позвонит быстро узнать рыночную стоимость своего автомобиля. "
   ]
  },
  {
   "cell_type": "markdown",
   "metadata": {},
   "source": [
    "Цель исследования: \n",
    "    \n",
    "Провести анализ данных при помощи которых сервис разработает приложение для оценки рыночной стоймости автомобиля"
   ]
  },
  {
   "cell_type": "markdown",
   "metadata": {},
   "source": [
    "Задачи исследования:\n",
    "\n",
    "- 1) подготовить и обработать данные для обучения моделей\n",
    "- 2) выбрать и обучить несколько моделей.\n",
    "- 3) проанализировать результат и выбрать лучшую модель для дальнейшего использования в приложении"
   ]
  },
  {
   "cell_type": "markdown",
   "metadata": {},
   "source": [
    "Исходные данные:\n",
    "данные находятся в файле /datasets/autos.csv. \n",
    "Данные состоят из признаков\n",
    "- DateCrawled — дата скачивания анкеты из базы\n",
    "- VehicleType — тип автомобильного кузова\n",
    "- RegistrationYear — год регистрации автомобиля\n",
    "- Gearbox — тип коробки передач\n",
    "- Power — мощность (л. с.)\n",
    "- Model — модель автомобиля\n",
    "- Kilometer — пробег (км)\n",
    "- RegistrationMonth — месяц регистрации автомобиля\n",
    "- FuelType — тип топлива\n",
    "- Brand — марка автомобиля\n",
    "- Repaired — была машина в ремонте или нет\n",
    "- DateCreated — дата создания анкеты\n",
    "- NumberOfPictures — количество фотографий автомобиля\n",
    "- PostalCode — почтовый индекс владельца анкеты (пользователя)\n",
    "- LastSeen — дата последней активности пользователя\n",
    "\n",
    "Целевой признак\n",
    "- Price — цена (евро)"
   ]
  },
  {
   "cell_type": "markdown",
   "metadata": {},
   "source": [
    "## Подготовка данных"
   ]
  },
  {
   "cell_type": "code",
   "execution_count": 1,
   "metadata": {},
   "outputs": [],
   "source": [
    "#импортируем необходимые библиотеки и инструменты\n",
    "import pandas as pd \n",
    "import numpy as np \n",
    "import matplotlib.pyplot as plt\n",
    "import seaborn as sns\n",
    "import lightgbm\n",
    "import lightgbm as lgbm\n",
    "\n",
    "import time \n",
    "\n",
    "from sklearn.metrics import mean_squared_error as mse\n",
    "from sklearn.metrics import mean_absolute_error\n",
    "from sklearn.metrics import mean_squared_error\n",
    "from sklearn.model_selection import train_test_split\n",
    "from sklearn.model_selection import GridSearchCV\n",
    "from sklearn.model_selection import cross_val_score\n",
    "from sklearn.preprocessing import LabelEncoder\n",
    "from sklearn.preprocessing import StandardScaler\n",
    "from sklearn.preprocessing import OrdinalEncoder\n",
    "\n",
    "\n",
    "from sklearn.ensemble import RandomForestRegressor\n",
    "from sklearn.linear_model import LinearRegression\n",
    "from catboost import CatBoostRegressor \n",
    "from lightgbm import LGBMRegressor\n",
    "\n",
    "\n",
    "from sklearn.metrics import mean_squared_error"
   ]
  },
  {
   "cell_type": "code",
   "execution_count": 2,
   "metadata": {},
   "outputs": [],
   "source": [
    "#загрузим данные\n",
    "data = pd.read_csv('/datasets/autos.csv')"
   ]
  },
  {
   "cell_type": "code",
   "execution_count": 3,
   "metadata": {},
   "outputs": [
    {
     "data": {
      "text/html": [
       "<div>\n",
       "<style scoped>\n",
       "    .dataframe tbody tr th:only-of-type {\n",
       "        vertical-align: middle;\n",
       "    }\n",
       "\n",
       "    .dataframe tbody tr th {\n",
       "        vertical-align: top;\n",
       "    }\n",
       "\n",
       "    .dataframe thead th {\n",
       "        text-align: right;\n",
       "    }\n",
       "</style>\n",
       "<table border=\"1\" class=\"dataframe\">\n",
       "  <thead>\n",
       "    <tr style=\"text-align: right;\">\n",
       "      <th></th>\n",
       "      <th>DateCrawled</th>\n",
       "      <th>Price</th>\n",
       "      <th>VehicleType</th>\n",
       "      <th>RegistrationYear</th>\n",
       "      <th>Gearbox</th>\n",
       "      <th>Power</th>\n",
       "      <th>Model</th>\n",
       "      <th>Kilometer</th>\n",
       "      <th>RegistrationMonth</th>\n",
       "      <th>FuelType</th>\n",
       "      <th>Brand</th>\n",
       "      <th>Repaired</th>\n",
       "      <th>DateCreated</th>\n",
       "      <th>NumberOfPictures</th>\n",
       "      <th>PostalCode</th>\n",
       "      <th>LastSeen</th>\n",
       "    </tr>\n",
       "  </thead>\n",
       "  <tbody>\n",
       "    <tr>\n",
       "      <th>0</th>\n",
       "      <td>2016-03-24 11:52:17</td>\n",
       "      <td>480</td>\n",
       "      <td>NaN</td>\n",
       "      <td>1993</td>\n",
       "      <td>manual</td>\n",
       "      <td>0</td>\n",
       "      <td>golf</td>\n",
       "      <td>150000</td>\n",
       "      <td>0</td>\n",
       "      <td>petrol</td>\n",
       "      <td>volkswagen</td>\n",
       "      <td>NaN</td>\n",
       "      <td>2016-03-24 00:00:00</td>\n",
       "      <td>0</td>\n",
       "      <td>70435</td>\n",
       "      <td>2016-04-07 03:16:57</td>\n",
       "    </tr>\n",
       "    <tr>\n",
       "      <th>1</th>\n",
       "      <td>2016-03-24 10:58:45</td>\n",
       "      <td>18300</td>\n",
       "      <td>coupe</td>\n",
       "      <td>2011</td>\n",
       "      <td>manual</td>\n",
       "      <td>190</td>\n",
       "      <td>NaN</td>\n",
       "      <td>125000</td>\n",
       "      <td>5</td>\n",
       "      <td>gasoline</td>\n",
       "      <td>audi</td>\n",
       "      <td>yes</td>\n",
       "      <td>2016-03-24 00:00:00</td>\n",
       "      <td>0</td>\n",
       "      <td>66954</td>\n",
       "      <td>2016-04-07 01:46:50</td>\n",
       "    </tr>\n",
       "    <tr>\n",
       "      <th>2</th>\n",
       "      <td>2016-03-14 12:52:21</td>\n",
       "      <td>9800</td>\n",
       "      <td>suv</td>\n",
       "      <td>2004</td>\n",
       "      <td>auto</td>\n",
       "      <td>163</td>\n",
       "      <td>grand</td>\n",
       "      <td>125000</td>\n",
       "      <td>8</td>\n",
       "      <td>gasoline</td>\n",
       "      <td>jeep</td>\n",
       "      <td>NaN</td>\n",
       "      <td>2016-03-14 00:00:00</td>\n",
       "      <td>0</td>\n",
       "      <td>90480</td>\n",
       "      <td>2016-04-05 12:47:46</td>\n",
       "    </tr>\n",
       "    <tr>\n",
       "      <th>3</th>\n",
       "      <td>2016-03-17 16:54:04</td>\n",
       "      <td>1500</td>\n",
       "      <td>small</td>\n",
       "      <td>2001</td>\n",
       "      <td>manual</td>\n",
       "      <td>75</td>\n",
       "      <td>golf</td>\n",
       "      <td>150000</td>\n",
       "      <td>6</td>\n",
       "      <td>petrol</td>\n",
       "      <td>volkswagen</td>\n",
       "      <td>no</td>\n",
       "      <td>2016-03-17 00:00:00</td>\n",
       "      <td>0</td>\n",
       "      <td>91074</td>\n",
       "      <td>2016-03-17 17:40:17</td>\n",
       "    </tr>\n",
       "    <tr>\n",
       "      <th>4</th>\n",
       "      <td>2016-03-31 17:25:20</td>\n",
       "      <td>3600</td>\n",
       "      <td>small</td>\n",
       "      <td>2008</td>\n",
       "      <td>manual</td>\n",
       "      <td>69</td>\n",
       "      <td>fabia</td>\n",
       "      <td>90000</td>\n",
       "      <td>7</td>\n",
       "      <td>gasoline</td>\n",
       "      <td>skoda</td>\n",
       "      <td>no</td>\n",
       "      <td>2016-03-31 00:00:00</td>\n",
       "      <td>0</td>\n",
       "      <td>60437</td>\n",
       "      <td>2016-04-06 10:17:21</td>\n",
       "    </tr>\n",
       "  </tbody>\n",
       "</table>\n",
       "</div>"
      ],
      "text/plain": [
       "           DateCrawled  Price VehicleType  RegistrationYear Gearbox  Power  \\\n",
       "0  2016-03-24 11:52:17    480         NaN              1993  manual      0   \n",
       "1  2016-03-24 10:58:45  18300       coupe              2011  manual    190   \n",
       "2  2016-03-14 12:52:21   9800         suv              2004    auto    163   \n",
       "3  2016-03-17 16:54:04   1500       small              2001  manual     75   \n",
       "4  2016-03-31 17:25:20   3600       small              2008  manual     69   \n",
       "\n",
       "   Model  Kilometer  RegistrationMonth  FuelType       Brand Repaired  \\\n",
       "0   golf     150000                  0    petrol  volkswagen      NaN   \n",
       "1    NaN     125000                  5  gasoline        audi      yes   \n",
       "2  grand     125000                  8  gasoline        jeep      NaN   \n",
       "3   golf     150000                  6    petrol  volkswagen       no   \n",
       "4  fabia      90000                  7  gasoline       skoda       no   \n",
       "\n",
       "           DateCreated  NumberOfPictures  PostalCode             LastSeen  \n",
       "0  2016-03-24 00:00:00                 0       70435  2016-04-07 03:16:57  \n",
       "1  2016-03-24 00:00:00                 0       66954  2016-04-07 01:46:50  \n",
       "2  2016-03-14 00:00:00                 0       90480  2016-04-05 12:47:46  \n",
       "3  2016-03-17 00:00:00                 0       91074  2016-03-17 17:40:17  \n",
       "4  2016-03-31 00:00:00                 0       60437  2016-04-06 10:17:21  "
      ]
     },
     "execution_count": 3,
     "metadata": {},
     "output_type": "execute_result"
    }
   ],
   "source": [
    "#посмотрим таблицу первые 5 значений\n",
    "data.head()"
   ]
  },
  {
   "cell_type": "code",
   "execution_count": 4,
   "metadata": {},
   "outputs": [
    {
     "name": "stdout",
     "output_type": "stream",
     "text": [
      "<class 'pandas.core.frame.DataFrame'>\n",
      "RangeIndex: 354369 entries, 0 to 354368\n",
      "Data columns (total 16 columns):\n",
      " #   Column             Non-Null Count   Dtype \n",
      "---  ------             --------------   ----- \n",
      " 0   DateCrawled        354369 non-null  object\n",
      " 1   Price              354369 non-null  int64 \n",
      " 2   VehicleType        316879 non-null  object\n",
      " 3   RegistrationYear   354369 non-null  int64 \n",
      " 4   Gearbox            334536 non-null  object\n",
      " 5   Power              354369 non-null  int64 \n",
      " 6   Model              334664 non-null  object\n",
      " 7   Kilometer          354369 non-null  int64 \n",
      " 8   RegistrationMonth  354369 non-null  int64 \n",
      " 9   FuelType           321474 non-null  object\n",
      " 10  Brand              354369 non-null  object\n",
      " 11  Repaired           283215 non-null  object\n",
      " 12  DateCreated        354369 non-null  object\n",
      " 13  NumberOfPictures   354369 non-null  int64 \n",
      " 14  PostalCode         354369 non-null  int64 \n",
      " 15  LastSeen           354369 non-null  object\n",
      "dtypes: int64(7), object(9)\n",
      "memory usage: 43.3+ MB\n"
     ]
    }
   ],
   "source": [
    "#посмотрим общую информацию о \"data\"\n",
    "data.info()"
   ]
  },
  {
   "cell_type": "markdown",
   "metadata": {},
   "source": [
    "посчитаем количество строк до подготовки данных"
   ]
  },
  {
   "cell_type": "code",
   "execution_count": 5,
   "metadata": {},
   "outputs": [
    {
     "name": "stdout",
     "output_type": "stream",
     "text": [
      "354369\n"
     ]
    }
   ],
   "source": [
    "num_d = data.shape[0]\n",
    "print(num_d)"
   ]
  },
  {
   "cell_type": "markdown",
   "metadata": {},
   "source": [
    "данные состоят из 16 столбцов и 354369 строк. К сожалению в данных есть пропуски (VehicleType, Gearbox, Model, FuelType, Repaired) и так же есть признаки которые могут не пригодиться, или даже помешать. рассмотрим более подробнее"
   ]
  },
  {
   "cell_type": "markdown",
   "metadata": {},
   "source": [
    "для начала стоит избавиться от ненужных признаков:\n",
    "- DateCrawled — дата скачивания анкеты из базы\n",
    "- RegistrationMonth — месяц регистрации автомобиля, если год еще имеет значение, то месяц особо не влияет\n",
    "- DateCreated — дата создания анкеты\n",
    "- NumberOfPictures — количество фотографий автомобиля, может повлиять на шанс покупки, но не на стоймость.\n",
    "- PostalCode — почтовый индекс владельца анкеты (пользователя)- не связаны с автомобилем\n",
    "- LastSeen — дата последней активности пользователя - не связаны с автомобилем"
   ]
  },
  {
   "cell_type": "code",
   "execution_count": 6,
   "metadata": {},
   "outputs": [
    {
     "data": {
      "text/plain": [
       "4"
      ]
     },
     "execution_count": 6,
     "metadata": {},
     "output_type": "execute_result"
    }
   ],
   "source": [
    "# проверим дубликаты\n",
    "data.duplicated().sum()"
   ]
  },
  {
   "cell_type": "markdown",
   "metadata": {},
   "source": [
    "проверим последний год актуальности данных"
   ]
  },
  {
   "cell_type": "code",
   "execution_count": 7,
   "metadata": {},
   "outputs": [
    {
     "name": "stdout",
     "output_type": "stream",
     "text": [
      "2016-04-07 14:36:58\n"
     ]
    }
   ],
   "source": [
    "data_crawled = max(data['DateCrawled'])\n",
    "print(data_crawled)"
   ]
  },
  {
   "cell_type": "code",
   "execution_count": 8,
   "metadata": {},
   "outputs": [],
   "source": [
    "# удалим дубликаты\n",
    "data = data.drop_duplicates()"
   ]
  },
  {
   "cell_type": "code",
   "execution_count": 9,
   "metadata": {},
   "outputs": [],
   "source": [
    "# удалим ненужные столбцы\n",
    "data = data.drop(['DateCrawled', 'RegistrationMonth', 'DateCreated', 'NumberOfPictures', 'PostalCode', 'LastSeen'], \n",
    "                 axis='columns')"
   ]
  },
  {
   "cell_type": "code",
   "execution_count": 10,
   "metadata": {},
   "outputs": [
    {
     "name": "stdout",
     "output_type": "stream",
     "text": [
      "<class 'pandas.core.frame.DataFrame'>\n",
      "Int64Index: 354365 entries, 0 to 354368\n",
      "Data columns (total 10 columns):\n",
      " #   Column            Non-Null Count   Dtype \n",
      "---  ------            --------------   ----- \n",
      " 0   Price             354365 non-null  int64 \n",
      " 1   VehicleType       316875 non-null  object\n",
      " 2   RegistrationYear  354365 non-null  int64 \n",
      " 3   Gearbox           334532 non-null  object\n",
      " 4   Power             354365 non-null  int64 \n",
      " 5   Model             334660 non-null  object\n",
      " 6   Kilometer         354365 non-null  int64 \n",
      " 7   FuelType          321470 non-null  object\n",
      " 8   Brand             354365 non-null  object\n",
      " 9   Repaired          283211 non-null  object\n",
      "dtypes: int64(4), object(6)\n",
      "memory usage: 29.7+ MB\n"
     ]
    }
   ],
   "source": [
    "# Проверим \n",
    "data.info()"
   ]
  },
  {
   "cell_type": "code",
   "execution_count": 11,
   "metadata": {},
   "outputs": [
    {
     "data": {
      "text/html": [
       "<div>\n",
       "<style scoped>\n",
       "    .dataframe tbody tr th:only-of-type {\n",
       "        vertical-align: middle;\n",
       "    }\n",
       "\n",
       "    .dataframe tbody tr th {\n",
       "        vertical-align: top;\n",
       "    }\n",
       "\n",
       "    .dataframe thead th {\n",
       "        text-align: right;\n",
       "    }\n",
       "</style>\n",
       "<table border=\"1\" class=\"dataframe\">\n",
       "  <thead>\n",
       "    <tr style=\"text-align: right;\">\n",
       "      <th></th>\n",
       "      <th>Price</th>\n",
       "      <th>VehicleType</th>\n",
       "      <th>RegistrationYear</th>\n",
       "      <th>Gearbox</th>\n",
       "      <th>Power</th>\n",
       "      <th>Model</th>\n",
       "      <th>Kilometer</th>\n",
       "      <th>FuelType</th>\n",
       "      <th>Brand</th>\n",
       "      <th>Repaired</th>\n",
       "    </tr>\n",
       "  </thead>\n",
       "  <tbody>\n",
       "    <tr>\n",
       "      <th>0</th>\n",
       "      <td>480</td>\n",
       "      <td>NaN</td>\n",
       "      <td>1993</td>\n",
       "      <td>manual</td>\n",
       "      <td>0</td>\n",
       "      <td>golf</td>\n",
       "      <td>150000</td>\n",
       "      <td>petrol</td>\n",
       "      <td>volkswagen</td>\n",
       "      <td>NaN</td>\n",
       "    </tr>\n",
       "    <tr>\n",
       "      <th>1</th>\n",
       "      <td>18300</td>\n",
       "      <td>coupe</td>\n",
       "      <td>2011</td>\n",
       "      <td>manual</td>\n",
       "      <td>190</td>\n",
       "      <td>NaN</td>\n",
       "      <td>125000</td>\n",
       "      <td>gasoline</td>\n",
       "      <td>audi</td>\n",
       "      <td>yes</td>\n",
       "    </tr>\n",
       "    <tr>\n",
       "      <th>2</th>\n",
       "      <td>9800</td>\n",
       "      <td>suv</td>\n",
       "      <td>2004</td>\n",
       "      <td>auto</td>\n",
       "      <td>163</td>\n",
       "      <td>grand</td>\n",
       "      <td>125000</td>\n",
       "      <td>gasoline</td>\n",
       "      <td>jeep</td>\n",
       "      <td>NaN</td>\n",
       "    </tr>\n",
       "    <tr>\n",
       "      <th>3</th>\n",
       "      <td>1500</td>\n",
       "      <td>small</td>\n",
       "      <td>2001</td>\n",
       "      <td>manual</td>\n",
       "      <td>75</td>\n",
       "      <td>golf</td>\n",
       "      <td>150000</td>\n",
       "      <td>petrol</td>\n",
       "      <td>volkswagen</td>\n",
       "      <td>no</td>\n",
       "    </tr>\n",
       "    <tr>\n",
       "      <th>4</th>\n",
       "      <td>3600</td>\n",
       "      <td>small</td>\n",
       "      <td>2008</td>\n",
       "      <td>manual</td>\n",
       "      <td>69</td>\n",
       "      <td>fabia</td>\n",
       "      <td>90000</td>\n",
       "      <td>gasoline</td>\n",
       "      <td>skoda</td>\n",
       "      <td>no</td>\n",
       "    </tr>\n",
       "  </tbody>\n",
       "</table>\n",
       "</div>"
      ],
      "text/plain": [
       "   Price VehicleType  RegistrationYear Gearbox  Power  Model  Kilometer  \\\n",
       "0    480         NaN              1993  manual      0   golf     150000   \n",
       "1  18300       coupe              2011  manual    190    NaN     125000   \n",
       "2   9800         suv              2004    auto    163  grand     125000   \n",
       "3   1500       small              2001  manual     75   golf     150000   \n",
       "4   3600       small              2008  manual     69  fabia      90000   \n",
       "\n",
       "   FuelType       Brand Repaired  \n",
       "0    petrol  volkswagen      NaN  \n",
       "1  gasoline        audi      yes  \n",
       "2  gasoline        jeep      NaN  \n",
       "3    petrol  volkswagen       no  \n",
       "4  gasoline       skoda       no  "
      ]
     },
     "execution_count": 11,
     "metadata": {},
     "output_type": "execute_result"
    }
   ],
   "source": [
    "data.head()"
   ]
  },
  {
   "cell_type": "markdown",
   "metadata": {},
   "source": [
    "теперь осталось 10 признаков, и в 5 из них присутствуют пропуски "
   ]
  },
  {
   "cell_type": "code",
   "execution_count": 12,
   "metadata": {},
   "outputs": [
    {
     "data": {
      "text/html": [
       "<div>\n",
       "<style scoped>\n",
       "    .dataframe tbody tr th:only-of-type {\n",
       "        vertical-align: middle;\n",
       "    }\n",
       "\n",
       "    .dataframe tbody tr th {\n",
       "        vertical-align: top;\n",
       "    }\n",
       "\n",
       "    .dataframe thead th {\n",
       "        text-align: right;\n",
       "    }\n",
       "</style>\n",
       "<table border=\"1\" class=\"dataframe\">\n",
       "  <thead>\n",
       "    <tr style=\"text-align: right;\">\n",
       "      <th></th>\n",
       "      <th>Price</th>\n",
       "      <th>RegistrationYear</th>\n",
       "      <th>Power</th>\n",
       "      <th>Kilometer</th>\n",
       "    </tr>\n",
       "  </thead>\n",
       "  <tbody>\n",
       "    <tr>\n",
       "      <th>count</th>\n",
       "      <td>354365.000000</td>\n",
       "      <td>354365.000000</td>\n",
       "      <td>354365.000000</td>\n",
       "      <td>354365.000000</td>\n",
       "    </tr>\n",
       "    <tr>\n",
       "      <th>mean</th>\n",
       "      <td>4416.679830</td>\n",
       "      <td>2004.234481</td>\n",
       "      <td>110.093816</td>\n",
       "      <td>128211.363989</td>\n",
       "    </tr>\n",
       "    <tr>\n",
       "      <th>std</th>\n",
       "      <td>4514.176349</td>\n",
       "      <td>90.228466</td>\n",
       "      <td>189.851330</td>\n",
       "      <td>37905.083858</td>\n",
       "    </tr>\n",
       "    <tr>\n",
       "      <th>min</th>\n",
       "      <td>0.000000</td>\n",
       "      <td>1000.000000</td>\n",
       "      <td>0.000000</td>\n",
       "      <td>5000.000000</td>\n",
       "    </tr>\n",
       "    <tr>\n",
       "      <th>25%</th>\n",
       "      <td>1050.000000</td>\n",
       "      <td>1999.000000</td>\n",
       "      <td>69.000000</td>\n",
       "      <td>125000.000000</td>\n",
       "    </tr>\n",
       "    <tr>\n",
       "      <th>50%</th>\n",
       "      <td>2700.000000</td>\n",
       "      <td>2003.000000</td>\n",
       "      <td>105.000000</td>\n",
       "      <td>150000.000000</td>\n",
       "    </tr>\n",
       "    <tr>\n",
       "      <th>75%</th>\n",
       "      <td>6400.000000</td>\n",
       "      <td>2008.000000</td>\n",
       "      <td>143.000000</td>\n",
       "      <td>150000.000000</td>\n",
       "    </tr>\n",
       "    <tr>\n",
       "      <th>max</th>\n",
       "      <td>20000.000000</td>\n",
       "      <td>9999.000000</td>\n",
       "      <td>20000.000000</td>\n",
       "      <td>150000.000000</td>\n",
       "    </tr>\n",
       "  </tbody>\n",
       "</table>\n",
       "</div>"
      ],
      "text/plain": [
       "               Price  RegistrationYear          Power      Kilometer\n",
       "count  354365.000000     354365.000000  354365.000000  354365.000000\n",
       "mean     4416.679830       2004.234481     110.093816  128211.363989\n",
       "std      4514.176349         90.228466     189.851330   37905.083858\n",
       "min         0.000000       1000.000000       0.000000    5000.000000\n",
       "25%      1050.000000       1999.000000      69.000000  125000.000000\n",
       "50%      2700.000000       2003.000000     105.000000  150000.000000\n",
       "75%      6400.000000       2008.000000     143.000000  150000.000000\n",
       "max     20000.000000       9999.000000   20000.000000  150000.000000"
      ]
     },
     "execution_count": 12,
     "metadata": {},
     "output_type": "execute_result"
    }
   ],
   "source": [
    "data.describe()"
   ]
  },
  {
   "cell_type": "markdown",
   "metadata": {},
   "source": [
    "из данной таблицы видно что есть значения которые выбиваются, например стоймость автомобиля минимальная равна 0, или дата регистрации автомобиля 1000 год а максимальный 9999, мощность равна 0, или наоборот запредельная.\n",
    "нужно будет разобраться подробнее"
   ]
  },
  {
   "cell_type": "markdown",
   "metadata": {},
   "source": [
    "Рассмотрим пропуски более подробно, постромим график для наглядности, отсортируем по убыванию"
   ]
  },
  {
   "cell_type": "code",
   "execution_count": 13,
   "metadata": {},
   "outputs": [
    {
     "data": {
      "image/png": "[encoded data removed]",
      "text/plain": [
       "<Figure size 432x288 with 1 Axes>"
      ]
     },
     "metadata": {
      "needs_background": "light"
     },
     "output_type": "display_data"
    }
   ],
   "source": [
    "(data.isna().sum().sort_values(ascending=False) / data.shape[0]).plot(kind='bar');"
   ]
  },
  {
   "cell_type": "markdown",
   "metadata": {},
   "source": [
    "Самое большое количество пропусков в столбце Repaired, составляют 20% от всех данных, VehicleType и FuelType около 10%,  Gearbox и Model около 5%, просто удалить нельзя, потеряется большой объем данных."
   ]
  },
  {
   "cell_type": "markdown",
   "metadata": {},
   "source": [
    "пропуски в столбце Repaired считаю можно заменить на yes (была в ремонте), так как продавец скорее всего хотел скрыть данную информацию, для привлечения покупателей, так как если бы не была, скорее всего продавец бы указала данный факт."
   ]
  },
  {
   "cell_type": "markdown",
   "metadata": {},
   "source": [
    "рассмотрим значения в остальных столбцах"
   ]
  },
  {
   "cell_type": "code",
   "execution_count": 14,
   "metadata": {},
   "outputs": [
    {
     "data": {
      "text/plain": [
       "sedan          91457\n",
       "small          79830\n",
       "wagon          65165\n",
       "NaN            37490\n",
       "bus            28775\n",
       "convertible    20203\n",
       "coupe          16161\n",
       "suv            11996\n",
       "other           3288\n",
       "Name: VehicleType, dtype: int64"
      ]
     },
     "execution_count": 14,
     "metadata": {},
     "output_type": "execute_result"
    }
   ],
   "source": [
    "data['VehicleType'].value_counts(dropna=False)"
   ]
  },
  {
   "cell_type": "code",
   "execution_count": 15,
   "metadata": {},
   "outputs": [
    {
     "data": {
      "text/plain": [
       "sedan          91457\n",
       "small          79830\n",
       "wagon          65165\n",
       "NaN            37490\n",
       "bus            28775\n",
       "convertible    20203\n",
       "coupe          16161\n",
       "suv            11996\n",
       "other           3288\n",
       "Name: VehicleType, dtype: int64"
      ]
     },
     "execution_count": 15,
     "metadata": {},
     "output_type": "execute_result"
    }
   ],
   "source": [
    "data['VehicleType'].value_counts(dropna=False)"
   ]
  },
  {
   "cell_type": "code",
   "execution_count": 16,
   "metadata": {},
   "outputs": [
    {
     "data": {
      "text/plain": [
       "petrol      216349\n",
       "gasoline     98719\n",
       "NaN          32895\n",
       "lpg           5310\n",
       "cng            565\n",
       "hybrid         233\n",
       "other          204\n",
       "electric        90\n",
       "Name: FuelType, dtype: int64"
      ]
     },
     "execution_count": 16,
     "metadata": {},
     "output_type": "execute_result"
    }
   ],
   "source": [
    "data['FuelType'].value_counts(dropna=False)"
   ]
  },
  {
   "cell_type": "code",
   "execution_count": 17,
   "metadata": {},
   "outputs": [
    {
     "data": {
      "text/plain": [
       "manual    268249\n",
       "auto       66283\n",
       "NaN        19833\n",
       "Name: Gearbox, dtype: int64"
      ]
     },
     "execution_count": 17,
     "metadata": {},
     "output_type": "execute_result"
    }
   ],
   "source": [
    "data['Gearbox'].value_counts(dropna=False)"
   ]
  },
  {
   "cell_type": "markdown",
   "metadata": {},
   "source": [
    "пропуски в столбце Gearbox считаю можно заменить на manual (ручная коробка), так как обычно считается что ручная коробка по умолчанию, автоматическая считается дороже, следовательно обычно указывают данный факт."
   ]
  },
  {
   "cell_type": "code",
   "execution_count": 18,
   "metadata": {},
   "outputs": [
    {
     "data": {
      "text/plain": [
       "manual    268249\n",
       "auto       66283\n",
       "NaN        19833\n",
       "Name: Gearbox, dtype: int64"
      ]
     },
     "execution_count": 18,
     "metadata": {},
     "output_type": "execute_result"
    }
   ],
   "source": [
    "data['Gearbox'].value_counts(dropna=False)"
   ]
  },
  {
   "cell_type": "code",
   "execution_count": 19,
   "metadata": {},
   "outputs": [
    {
     "data": {
      "text/plain": [
       "golf                  29232\n",
       "other                 24420\n",
       "3er                   19761\n",
       "NaN                   19705\n",
       "polo                  13066\n",
       "                      ...  \n",
       "serie_2                   8\n",
       "serie_3                   4\n",
       "rangerover                4\n",
       "range_rover_evoque        2\n",
       "serie_1                   2\n",
       "Name: Model, Length: 251, dtype: int64"
      ]
     },
     "execution_count": 19,
     "metadata": {},
     "output_type": "execute_result"
    }
   ],
   "source": [
    "data['Model'].value_counts(dropna=False)"
   ]
  },
  {
   "cell_type": "markdown",
   "metadata": {},
   "source": [
    "много разных моделей, рассмотрим уникальные значения"
   ]
  },
  {
   "cell_type": "code",
   "execution_count": 20,
   "metadata": {},
   "outputs": [
    {
     "data": {
      "text/plain": [
       "array(['golf', nan, 'grand', 'fabia', '3er', '2_reihe', 'other', 'c_max',\n",
       "       '3_reihe', 'passat', 'navara', 'ka', 'polo', 'twingo', 'a_klasse',\n",
       "       'scirocco', '5er', 'meriva', 'arosa', 'c4', 'civic', 'transporter',\n",
       "       'punto', 'e_klasse', 'clio', 'kadett', 'kangoo', 'corsa', 'one',\n",
       "       'fortwo', '1er', 'b_klasse', 'signum', 'astra', 'a8', 'jetta',\n",
       "       'fiesta', 'c_klasse', 'micra', 'vito', 'sprinter', '156', 'escort',\n",
       "       'forester', 'xc_reihe', 'scenic', 'a4', 'a1', 'insignia', 'combo',\n",
       "       'focus', 'tt', 'a6', 'jazz', 'omega', 'slk', '7er', '80', '147',\n",
       "       '100', 'z_reihe', 'sportage', 'sorento', 'v40', 'ibiza', 'mustang',\n",
       "       'eos', 'touran', 'getz', 'a3', 'almera', 'megane', 'lupo', 'r19',\n",
       "       'zafira', 'caddy', 'mondeo', 'cordoba', 'colt', 'impreza',\n",
       "       'vectra', 'berlingo', 'tiguan', 'i_reihe', 'espace', 'sharan',\n",
       "       '6_reihe', 'panda', 'up', 'seicento', 'ceed', '5_reihe', 'yeti',\n",
       "       'octavia', 'mii', 'rx_reihe', '6er', 'modus', 'fox', 'matiz',\n",
       "       'beetle', 'c1', 'rio', 'touareg', 'logan', 'spider', 'cuore',\n",
       "       's_max', 'a2', 'galaxy', 'c3', 'viano', 's_klasse', '1_reihe',\n",
       "       'avensis', 'roomster', 'sl', 'kaefer', 'santa', 'cooper', 'leon',\n",
       "       '4_reihe', 'a5', '500', 'laguna', 'ptcruiser', 'clk', 'primera',\n",
       "       'x_reihe', 'exeo', '159', 'transit', 'juke', 'qashqai', 'carisma',\n",
       "       'accord', 'corolla', 'lanos', 'phaeton', 'verso', 'swift', 'rav',\n",
       "       'picanto', 'boxster', 'kalos', 'superb', 'stilo', 'alhambra',\n",
       "       'mx_reihe', 'roadster', 'ypsilon', 'cayenne', 'galant', 'justy',\n",
       "       '90', 'sirion', 'crossfire', 'agila', 'duster', 'cr_reihe', 'v50',\n",
       "       'c_reihe', 'v_klasse', 'm_klasse', 'yaris', 'c5', 'aygo', 'cc',\n",
       "       'carnival', 'fusion', '911', 'bora', 'forfour', 'm_reihe', 'cl',\n",
       "       'tigra', '300c', 'spark', 'v70', 'kuga', 'x_type', 'ducato',\n",
       "       's_type', 'x_trail', 'toledo', 'altea', 'voyager', 'calibra',\n",
       "       'bravo', 'antara', 'tucson', 'citigo', 'jimny', 'wrangler',\n",
       "       'lybra', 'q7', 'lancer', 'captiva', 'c2', 'discovery',\n",
       "       'freelander', 'sandero', 'note', '900', 'cherokee', 'clubman',\n",
       "       'samara', 'defender', '601', 'cx_reihe', 'legacy', 'pajero',\n",
       "       'auris', 'niva', 's60', 'nubira', 'vivaro', 'g_klasse', 'lodgy',\n",
       "       '850', 'range_rover', 'q3', 'serie_2', 'glk', 'charade', 'croma',\n",
       "       'outlander', 'doblo', 'musa', 'move', '9000', 'v60', '145', 'aveo',\n",
       "       '200', 'b_max', 'range_rover_sport', 'terios', 'rangerover', 'q5',\n",
       "       'range_rover_evoque', 'materia', 'delta', 'gl', 'kalina', 'amarok',\n",
       "       'elefantino', 'i3', 'kappa', 'serie_3', 'serie_1'], dtype=object)"
      ]
     },
     "execution_count": 20,
     "metadata": {},
     "output_type": "execute_result"
    }
   ],
   "source": [
    "data['Model'].unique()"
   ]
  },
  {
   "cell_type": "markdown",
   "metadata": {},
   "source": [
    "Так как много разных значений, предлагаю чтобы не удалять больше количество данных, заменить пропуски на значения unknown"
   ]
  },
  {
   "cell_type": "code",
   "execution_count": 21,
   "metadata": {},
   "outputs": [],
   "source": [
    "data = data.fillna('unknown')"
   ]
  },
  {
   "cell_type": "code",
   "execution_count": 22,
   "metadata": {},
   "outputs": [
    {
     "name": "stdout",
     "output_type": "stream",
     "text": [
      "<class 'pandas.core.frame.DataFrame'>\n",
      "Int64Index: 354365 entries, 0 to 354368\n",
      "Data columns (total 10 columns):\n",
      " #   Column            Non-Null Count   Dtype \n",
      "---  ------            --------------   ----- \n",
      " 0   Price             354365 non-null  int64 \n",
      " 1   VehicleType       354365 non-null  object\n",
      " 2   RegistrationYear  354365 non-null  int64 \n",
      " 3   Gearbox           354365 non-null  object\n",
      " 4   Power             354365 non-null  int64 \n",
      " 5   Model             354365 non-null  object\n",
      " 6   Kilometer         354365 non-null  int64 \n",
      " 7   FuelType          354365 non-null  object\n",
      " 8   Brand             354365 non-null  object\n",
      " 9   Repaired          354365 non-null  object\n",
      "dtypes: int64(4), object(6)\n",
      "memory usage: 29.7+ MB\n"
     ]
    }
   ],
   "source": [
    "data.info()"
   ]
  },
  {
   "cell_type": "code",
   "execution_count": 23,
   "metadata": {},
   "outputs": [
    {
     "data": {
      "text/plain": [
       "Price               0\n",
       "VehicleType         0\n",
       "RegistrationYear    0\n",
       "Gearbox             0\n",
       "Power               0\n",
       "Model               0\n",
       "Kilometer           0\n",
       "FuelType            0\n",
       "Brand               0\n",
       "Repaired            0\n",
       "dtype: int64"
      ]
     },
     "execution_count": 23,
     "metadata": {},
     "output_type": "execute_result"
    }
   ],
   "source": [
    "#убедимся что нет пропусков\n",
    "data.isna().sum()"
   ]
  },
  {
   "cell_type": "markdown",
   "metadata": {},
   "source": [
    "С пропусками разобрались. теперь попробуем разобраться с выбивающимися данными"
   ]
  },
  {
   "cell_type": "markdown",
   "metadata": {},
   "source": [
    "рассмотрим графики по цене, году регистрации, мощности и пробегу"
   ]
  },
  {
   "cell_type": "code",
   "execution_count": 24,
   "metadata": {},
   "outputs": [
    {
     "data": {
      "image/png": "[encoded data removed]",
      "text/plain": [
       "<Figure size 1080x720 with 1 Axes>"
      ]
     },
     "metadata": {
      "needs_background": "light"
     },
     "output_type": "display_data"
    }
   ],
   "source": [
    "data.boxplot(figsize=(15, 10))\n",
    "plt.xlabel(\"'признаки'\")\n",
    "plt.ylabel('значения')\n",
    "plt.title('общий график распределений признаков')\n",
    "plt.show();"
   ]
  },
  {
   "cell_type": "code",
   "execution_count": 25,
   "metadata": {},
   "outputs": [
    {
     "data": {
      "image/png": "[encoded data removed]",
      "text/plain": [
       "<Figure size 1080x720 with 1 Axes>"
      ]
     },
     "metadata": {
      "needs_background": "light"
     },
     "output_type": "display_data"
    }
   ],
   "source": [
    "data.boxplot(showfliers=False, figsize=(15, 10))\n",
    "plt.xlabel(\"'признаки'\")\n",
    "plt.ylabel('значения')\n",
    "plt.title('общий график распределений признаков')\n",
    "plt.show();"
   ]
  },
  {
   "cell_type": "markdown",
   "metadata": {},
   "source": [
    "Рассмотрим по мощности"
   ]
  },
  {
   "cell_type": "code",
   "execution_count": 26,
   "metadata": {},
   "outputs": [
    {
     "data": {
      "image/png": "[encoded data removed]",
      "text/plain": [
       "<Figure size 720x360 with 1 Axes>"
      ]
     },
     "metadata": {
      "needs_background": "light"
     },
     "output_type": "display_data"
    }
   ],
   "source": [
    "data.boxplot(column='Power', figsize=(10, 5))\n",
    "plt.xlabel(\"'Power'\")\n",
    "plt.ylabel('Мощность автомобиля (л.с.)')\n",
    "plt.title('Распределение мощности автомобиля')\n",
    "plt.show()"
   ]
  },
  {
   "cell_type": "markdown",
   "metadata": {},
   "source": [
    "Очень много выбросов, сильно искажают график. поискав информацию о мощностях автомобиля, узнал что максимальная мощность автомобиля на сегодняшний день составляет 2000 л.с что выше, информация не корректна."
   ]
  },
  {
   "cell_type": "code",
   "execution_count": 27,
   "metadata": {},
   "outputs": [],
   "source": [
    "#уберем значения выше 2000 л.с и меньше 10 л.с.\n",
    "data = data.query('10 < = Power <= 2000')"
   ]
  },
  {
   "cell_type": "code",
   "execution_count": 28,
   "metadata": {},
   "outputs": [
    {
     "data": {
      "image/png": "[encoded data removed]",
      "text/plain": [
       "<Figure size 720x360 with 1 Axes>"
      ]
     },
     "metadata": {
      "needs_background": "light"
     },
     "output_type": "display_data"
    }
   ],
   "source": [
    "data.boxplot(column='Power', figsize=(10, 5))\n",
    "plt.xlabel(\"'Power'\")\n",
    "plt.ylabel('Мощность автомобиля (л.с.)')\n",
    "plt.title('Распределение мощности автомобиля')\n",
    "plt.show()"
   ]
  },
  {
   "cell_type": "code",
   "execution_count": 29,
   "metadata": {},
   "outputs": [
    {
     "data": {
      "image/png": "[encoded data removed]",
      "text/plain": [
       "<Figure size 720x360 with 1 Axes>"
      ]
     },
     "metadata": {
      "needs_background": "light"
     },
     "output_type": "display_data"
    }
   ],
   "source": [
    "data.boxplot(column='RegistrationYear', figsize=(10, 5))\n",
    "plt.xlabel(\"'RegistrationYear'\")\n",
    "plt.ylabel('Год регистрации')\n",
    "plt.title('Распределение по году регистрации')\n",
    "plt.show()"
   ]
  },
  {
   "cell_type": "code",
   "execution_count": 30,
   "metadata": {},
   "outputs": [
    {
     "data": {
      "text/plain": [
       "array([2011, 2004, 2001, 2008, 1995, 1980, 2014, 1998, 2005, 2016, 2007,\n",
       "       2009, 2002, 2018, 1997, 1990, 2017, 1981, 2003, 1991, 1984, 2006,\n",
       "       1999, 2012, 1994, 2010, 2000, 1992, 2013, 1996, 1989, 2015, 1993,\n",
       "       1985, 1982, 1983, 1973, 1969, 1971, 1987, 1988, 1970, 1986, 1976,\n",
       "       1965, 1945, 1974, 1955, 1978, 1979, 1972, 1977, 1961, 1975, 1968,\n",
       "       1963, 1966, 1964, 1954, 1958, 1959, 1956, 1941, 1960, 1500, 1962,\n",
       "       1929, 1957, 1910, 1940, 1967, 1949, 1937, 1800, 1953, 2019, 1234,\n",
       "       2900, 6000, 5911, 1400, 4000, 8000, 1200, 1932, 1951, 1952, 1950,\n",
       "       5000, 1942, 1935, 3000, 6500, 1923, 1000, 1930, 9999, 1943, 1938,\n",
       "       9000, 1936, 1928, 2800, 1931, 1948, 4500, 1927, 1933, 8200, 1947,\n",
       "       1944, 3500, 1600])"
      ]
     },
     "execution_count": 30,
     "metadata": {},
     "output_type": "execute_result"
    }
   ],
   "source": [
    "data.RegistrationYear.unique()"
   ]
  },
  {
   "cell_type": "markdown",
   "metadata": {},
   "source": [
    "разброс очень большой встречается 1000 год и 10000, то обратившись за дополнительной информаций было выяснено что самый первый автомобиль был зарегистрирован еще в 1886 году, так же считаю что автомобиле старше 1980 годов попадают в разряд раритетных, и данные о них сильно могут исжаться, то предлагаю удалить значения до 1980 и после 2016 годов"
   ]
  },
  {
   "cell_type": "code",
   "execution_count": 31,
   "metadata": {},
   "outputs": [],
   "source": [
    "#уберем значения\n",
    "data = data.query('1980 <= RegistrationYear <= 2016')"
   ]
  },
  {
   "cell_type": "code",
   "execution_count": 32,
   "metadata": {},
   "outputs": [
    {
     "data": {
      "image/png": "[encoded data removed]",
      "text/plain": [
       "<Figure size 720x360 with 1 Axes>"
      ]
     },
     "metadata": {
      "needs_background": "light"
     },
     "output_type": "display_data"
    }
   ],
   "source": [
    "data.boxplot(column='RegistrationYear', figsize=(10, 5))\n",
    "plt.xlabel(\"'RegistrationYear'\")\n",
    "plt.ylabel('Год регистрации')\n",
    "plt.title('Распределение по году регистрации')\n",
    "plt.show()"
   ]
  },
  {
   "cell_type": "code",
   "execution_count": 33,
   "metadata": {},
   "outputs": [
    {
     "data": {
      "image/png": "[encoded data removed]",
      "text/plain": [
       "<Figure size 720x360 with 1 Axes>"
      ]
     },
     "metadata": {
      "needs_background": "light"
     },
     "output_type": "display_data"
    }
   ],
   "source": [
    "data.boxplot(column='RegistrationYear', figsize=(10, 5))\n",
    "plt.xlabel(\"'RegistrationYear'\")\n",
    "plt.ylabel('Год регистрации')\n",
    "plt.title('Распределение по году регистрации')\n",
    "plt.show()"
   ]
  },
  {
   "cell_type": "markdown",
   "metadata": {},
   "source": [
    "рассмотрим разброс цен"
   ]
  },
  {
   "cell_type": "code",
   "execution_count": 34,
   "metadata": {},
   "outputs": [
    {
     "data": {
      "image/png": "[encoded data removed]",
      "text/plain": [
       "<Figure size 720x360 with 1 Axes>"
      ]
     },
     "metadata": {
      "needs_background": "light"
     },
     "output_type": "display_data"
    }
   ],
   "source": [
    "data.Price.hist(bins=100,figsize=(10,5))\n",
    "plt.title('распределения стоимости автомобилей')\n",
    "plt.xlabel('Стоимость, Евро')\n",
    "plt.ylabel('Количество')\n",
    "plt.show()"
   ]
  },
  {
   "cell_type": "code",
   "execution_count": 35,
   "metadata": {},
   "outputs": [
    {
     "data": {
      "image/png": "[encoded data removed]",
      "text/plain": [
       "<Figure size 720x360 with 1 Axes>"
      ]
     },
     "metadata": {
      "needs_background": "light"
     },
     "output_type": "display_data"
    }
   ],
   "source": [
    "data.boxplot(column='Price', figsize=(10, 5))\n",
    "plt.xlabel(\"'Price'\")\n",
    "plt.ylabel('Цена')\n",
    "plt.title('Распределение по цене')\n",
    "plt.show()"
   ]
  },
  {
   "cell_type": "markdown",
   "metadata": {},
   "source": [
    "предлагаю максимальную стоймость автомобиля не трогать, а значения ниже 100 евро удалить, так как автомобиль может быть разбит, и продавец продает его на запчасти, а такие автомобили нам в обучении не нужны."
   ]
  },
  {
   "cell_type": "code",
   "execution_count": 36,
   "metadata": {},
   "outputs": [],
   "source": [
    "data = data.query('100 <= Price')"
   ]
  },
  {
   "cell_type": "code",
   "execution_count": 37,
   "metadata": {},
   "outputs": [
    {
     "data": {
      "image/png": "[encoded data removed]",
      "text/plain": [
       "<Figure size 720x360 with 1 Axes>"
      ]
     },
     "metadata": {
      "needs_background": "light"
     },
     "output_type": "display_data"
    }
   ],
   "source": [
    "data.Price.hist(bins=100,figsize=(10,5))\n",
    "plt.title('распределения стоимости автомобилей')\n",
    "plt.xlabel('Стоимость, Евро')\n",
    "plt.ylabel('Количество')\n",
    "plt.show()"
   ]
  },
  {
   "cell_type": "code",
   "execution_count": 38,
   "metadata": {},
   "outputs": [
    {
     "data": {
      "image/png": "[encoded data removed]",
      "text/plain": [
       "<Figure size 720x360 with 1 Axes>"
      ]
     },
     "metadata": {
      "needs_background": "light"
     },
     "output_type": "display_data"
    }
   ],
   "source": [
    "data.boxplot(column='Price', figsize=(10, 5))\n",
    "plt.xlabel(\"'Price'\")\n",
    "plt.ylabel('Цена')\n",
    "plt.title('Распределение по стоймости автомобиля')\n",
    "plt.show()"
   ]
  },
  {
   "cell_type": "markdown",
   "metadata": {},
   "source": [
    "проверим распределение по пробегу автомобиля"
   ]
  },
  {
   "cell_type": "code",
   "execution_count": 39,
   "metadata": {},
   "outputs": [
    {
     "data": {
      "image/png": "[encoded data removed]",
      "text/plain": [
       "<Figure size 720x360 with 1 Axes>"
      ]
     },
     "metadata": {
      "needs_background": "light"
     },
     "output_type": "display_data"
    }
   ],
   "source": [
    "data.boxplot(column='Kilometer', figsize=(10, 5))\n",
    "plt.xlabel(\"'Kilometer'\")\n",
    "plt.ylabel('пробег (км)')\n",
    "plt.title('Распределение по пробегу автомобиля')\n",
    "plt.show()"
   ]
  },
  {
   "cell_type": "code",
   "execution_count": 40,
   "metadata": {},
   "outputs": [
    {
     "data": {
      "image/png": "[encoded data removed]",
      "text/plain": [
       "<Figure size 720x360 with 1 Axes>"
      ]
     },
     "metadata": {
      "needs_background": "light"
     },
     "output_type": "display_data"
    }
   ],
   "source": [
    "data.Price.hist(bins=50,figsize=(10,5))\n",
    "plt.title('распределения пробега')\n",
    "plt.xlabel('Пробег, км')\n",
    "plt.ylabel('расстояние')\n",
    "plt.show()"
   ]
  },
  {
   "cell_type": "markdown",
   "metadata": {},
   "source": [
    "по пробегу считаю не стоит редактировать, так как значения во многом реалистиченые"
   ]
  },
  {
   "cell_type": "code",
   "execution_count": 41,
   "metadata": {},
   "outputs": [
    {
     "name": "stdout",
     "output_type": "stream",
     "text": [
      "<class 'pandas.core.frame.DataFrame'>\n",
      "Int64Index: 293219 entries, 1 to 354368\n",
      "Data columns (total 10 columns):\n",
      " #   Column            Non-Null Count   Dtype \n",
      "---  ------            --------------   ----- \n",
      " 0   Price             293219 non-null  int64 \n",
      " 1   VehicleType       293219 non-null  object\n",
      " 2   RegistrationYear  293219 non-null  int64 \n",
      " 3   Gearbox           293219 non-null  object\n",
      " 4   Power             293219 non-null  int64 \n",
      " 5   Model             293219 non-null  object\n",
      " 6   Kilometer         293219 non-null  int64 \n",
      " 7   FuelType          293219 non-null  object\n",
      " 8   Brand             293219 non-null  object\n",
      " 9   Repaired          293219 non-null  object\n",
      "dtypes: int64(4), object(6)\n",
      "memory usage: 24.6+ MB\n"
     ]
    }
   ],
   "source": [
    "data.info()"
   ]
  },
  {
   "cell_type": "code",
   "execution_count": 42,
   "metadata": {},
   "outputs": [
    {
     "data": {
      "text/plain": [
       "38915"
      ]
     },
     "execution_count": 42,
     "metadata": {},
     "output_type": "execute_result"
    }
   ],
   "source": [
    "# проверим дубликаты\n",
    "data.duplicated().sum()"
   ]
  },
  {
   "cell_type": "code",
   "execution_count": 43,
   "metadata": {},
   "outputs": [],
   "source": [
    "#удалим дубликаты\n",
    "data = data.drop_duplicates()"
   ]
  },
  {
   "cell_type": "markdown",
   "metadata": {},
   "source": [
    "количество строк после подготовки данных"
   ]
  },
  {
   "cell_type": "code",
   "execution_count": 44,
   "metadata": {},
   "outputs": [
    {
     "name": "stdout",
     "output_type": "stream",
     "text": [
      "Количество строк данных после подготовки: 254304\n"
     ]
    }
   ],
   "source": [
    "num_p = data.shape[0]\n",
    "print('Количество строк данных после подготовки:', num_p)"
   ]
  },
  {
   "cell_type": "markdown",
   "metadata": {},
   "source": [
    "посчитаем сколько данных было потеряно"
   ]
  },
  {
   "cell_type": "code",
   "execution_count": 45,
   "metadata": {},
   "outputs": [
    {
     "name": "stdout",
     "output_type": "stream",
     "text": [
      "потери 28.24%\n"
     ]
    }
   ],
   "source": [
    "poteri = (1-num_p/num_d)\n",
    "print('потери {:.2%}'.format(poteri))"
   ]
  },
  {
   "cell_type": "code",
   "execution_count": 46,
   "metadata": {},
   "outputs": [
    {
     "data": {
      "text/html": [
       "<div>\n",
       "<style scoped>\n",
       "    .dataframe tbody tr th:only-of-type {\n",
       "        vertical-align: middle;\n",
       "    }\n",
       "\n",
       "    .dataframe tbody tr th {\n",
       "        vertical-align: top;\n",
       "    }\n",
       "\n",
       "    .dataframe thead th {\n",
       "        text-align: right;\n",
       "    }\n",
       "</style>\n",
       "<table border=\"1\" class=\"dataframe\">\n",
       "  <thead>\n",
       "    <tr style=\"text-align: right;\">\n",
       "      <th></th>\n",
       "      <th>Price</th>\n",
       "      <th>RegistrationYear</th>\n",
       "      <th>Power</th>\n",
       "      <th>Kilometer</th>\n",
       "    </tr>\n",
       "  </thead>\n",
       "  <tbody>\n",
       "    <tr>\n",
       "      <th>count</th>\n",
       "      <td>254304.000000</td>\n",
       "      <td>254304.000000</td>\n",
       "      <td>254304.000000</td>\n",
       "      <td>254304.000000</td>\n",
       "    </tr>\n",
       "    <tr>\n",
       "      <th>mean</th>\n",
       "      <td>4934.702152</td>\n",
       "      <td>2003.144571</td>\n",
       "      <td>122.759925</td>\n",
       "      <td>127556.605480</td>\n",
       "    </tr>\n",
       "    <tr>\n",
       "      <th>std</th>\n",
       "      <td>4646.898358</td>\n",
       "      <td>6.005806</td>\n",
       "      <td>64.327093</td>\n",
       "      <td>37128.108753</td>\n",
       "    </tr>\n",
       "    <tr>\n",
       "      <th>min</th>\n",
       "      <td>100.000000</td>\n",
       "      <td>1980.000000</td>\n",
       "      <td>10.000000</td>\n",
       "      <td>5000.000000</td>\n",
       "    </tr>\n",
       "    <tr>\n",
       "      <th>25%</th>\n",
       "      <td>1399.000000</td>\n",
       "      <td>1999.000000</td>\n",
       "      <td>80.000000</td>\n",
       "      <td>125000.000000</td>\n",
       "    </tr>\n",
       "    <tr>\n",
       "      <th>50%</th>\n",
       "      <td>3290.000000</td>\n",
       "      <td>2003.000000</td>\n",
       "      <td>115.000000</td>\n",
       "      <td>150000.000000</td>\n",
       "    </tr>\n",
       "    <tr>\n",
       "      <th>75%</th>\n",
       "      <td>7000.000000</td>\n",
       "      <td>2007.000000</td>\n",
       "      <td>150.000000</td>\n",
       "      <td>150000.000000</td>\n",
       "    </tr>\n",
       "    <tr>\n",
       "      <th>max</th>\n",
       "      <td>20000.000000</td>\n",
       "      <td>2016.000000</td>\n",
       "      <td>2000.000000</td>\n",
       "      <td>150000.000000</td>\n",
       "    </tr>\n",
       "  </tbody>\n",
       "</table>\n",
       "</div>"
      ],
      "text/plain": [
       "               Price  RegistrationYear          Power      Kilometer\n",
       "count  254304.000000     254304.000000  254304.000000  254304.000000\n",
       "mean     4934.702152       2003.144571     122.759925  127556.605480\n",
       "std      4646.898358          6.005806      64.327093   37128.108753\n",
       "min       100.000000       1980.000000      10.000000    5000.000000\n",
       "25%      1399.000000       1999.000000      80.000000  125000.000000\n",
       "50%      3290.000000       2003.000000     115.000000  150000.000000\n",
       "75%      7000.000000       2007.000000     150.000000  150000.000000\n",
       "max     20000.000000       2016.000000    2000.000000  150000.000000"
      ]
     },
     "execution_count": 46,
     "metadata": {},
     "output_type": "execute_result"
    }
   ],
   "source": [
    "data.describe()"
   ]
  },
  {
   "cell_type": "code",
   "execution_count": 47,
   "metadata": {},
   "outputs": [
    {
     "data": {
      "text/html": [
       "<div>\n",
       "<style scoped>\n",
       "    .dataframe tbody tr th:only-of-type {\n",
       "        vertical-align: middle;\n",
       "    }\n",
       "\n",
       "    .dataframe tbody tr th {\n",
       "        vertical-align: top;\n",
       "    }\n",
       "\n",
       "    .dataframe thead th {\n",
       "        text-align: right;\n",
       "    }\n",
       "</style>\n",
       "<table border=\"1\" class=\"dataframe\">\n",
       "  <thead>\n",
       "    <tr style=\"text-align: right;\">\n",
       "      <th></th>\n",
       "      <th>Price</th>\n",
       "      <th>RegistrationYear</th>\n",
       "      <th>Power</th>\n",
       "      <th>Kilometer</th>\n",
       "    </tr>\n",
       "  </thead>\n",
       "  <tbody>\n",
       "    <tr>\n",
       "      <th>Price</th>\n",
       "      <td>1.000000</td>\n",
       "      <td>0.557496</td>\n",
       "      <td>0.413694</td>\n",
       "      <td>-0.379384</td>\n",
       "    </tr>\n",
       "    <tr>\n",
       "      <th>RegistrationYear</th>\n",
       "      <td>0.557496</td>\n",
       "      <td>1.000000</td>\n",
       "      <td>0.093134</td>\n",
       "      <td>-0.355076</td>\n",
       "    </tr>\n",
       "    <tr>\n",
       "      <th>Power</th>\n",
       "      <td>0.413694</td>\n",
       "      <td>0.093134</td>\n",
       "      <td>1.000000</td>\n",
       "      <td>0.100579</td>\n",
       "    </tr>\n",
       "    <tr>\n",
       "      <th>Kilometer</th>\n",
       "      <td>-0.379384</td>\n",
       "      <td>-0.355076</td>\n",
       "      <td>0.100579</td>\n",
       "      <td>1.000000</td>\n",
       "    </tr>\n",
       "  </tbody>\n",
       "</table>\n",
       "</div>"
      ],
      "text/plain": [
       "                     Price  RegistrationYear     Power  Kilometer\n",
       "Price             1.000000          0.557496  0.413694  -0.379384\n",
       "RegistrationYear  0.557496          1.000000  0.093134  -0.355076\n",
       "Power             0.413694          0.093134  1.000000   0.100579\n",
       "Kilometer        -0.379384         -0.355076  0.100579   1.000000"
      ]
     },
     "execution_count": 47,
     "metadata": {},
     "output_type": "execute_result"
    }
   ],
   "source": [
    "data.corr()"
   ]
  },
  {
   "cell_type": "markdown",
   "metadata": {},
   "source": [
    "Вывод:\n",
    "В данной работе было изучены данные сервиса по продаже автомобилей с пробегом:\n",
    "- в фаиле 16 столбцов и 354369 строк\n",
    "- Уладил столбцы с ненужными признаками\n",
    "- в фаиле присутствую пропуски и выбросы\n",
    "- было обнаружено и удалено 4 дубликата\n",
    "- были отредактированы выбросы в годах регистрации, мощностей автомобилей\n",
    "- обработаны пропуски.\n",
    "- Проверена корреляция"
   ]
  },
  {
   "cell_type": "markdown",
   "metadata": {},
   "source": [
    "## Обучение моделей"
   ]
  },
  {
   "cell_type": "markdown",
   "metadata": {},
   "source": [
    "- Подготовим выборки для обучения моделей.\n",
    "- выделим признаки и целевой признак разделим на обучающую и тестовую выборку 75% на 25%.\n",
    "- Подготовим три типа признаков для кроссвалидации:\n",
    "- некодированные - features.\n",
    "- Закодированные методом OHE. Название features_ohe.\n",
    "- Закодированные методом OE. Название features_oe."
   ]
  },
  {
   "cell_type": "code",
   "execution_count": 48,
   "metadata": {},
   "outputs": [],
   "source": [
    "#выделим признаки и целевой признак:\n",
    "features = data.drop('Price', axis=1)\n",
    "target = data.Price"
   ]
  },
  {
   "cell_type": "code",
   "execution_count": 49,
   "metadata": {},
   "outputs": [],
   "source": [
    "#разделим на обучающую и тестовую выборку 75 на 25:\n",
    "features_train, features_test, target_train, target_test = train_test_split(features,\n",
    "                                                                            target, \n",
    "                                                                            test_size=.25,\n",
    "                                                                            random_state=12345)"
   ]
  },
  {
   "cell_type": "code",
   "execution_count": 50,
   "metadata": {},
   "outputs": [],
   "source": [
    "#закодируем признаки с помощью OHE:\n",
    "features_ohe = pd.get_dummies(features, drop_first=True)\n",
    "\n",
    "features_train_ohe, features_test_ohe, target_train_ohe, target_test_ohe = train_test_split(features_ohe,\n",
    "                                                                                            target,\n",
    "                                                                                            test_size=.25,\n",
    "                                                                                            random_state=12345)"
   ]
  },
  {
   "cell_type": "code",
   "execution_count": 51,
   "metadata": {},
   "outputs": [],
   "source": [
    "#encoder = OrdinalEncoder()\n",
    "#features_train_oe = features[['VehicleType','FuelType','Brand','Model', 'Gearbox', 'Repaired']]\n",
    "#features_train_oe = pd.DataFrame(encoder.fit_transform(features_train),\n",
    "                                 #columns=features_train.columns,\n",
    "                                 #index=features_train.index)\n",
    "\n",
    "#features_train_oe = features_oe.loc[features_train.index, :]\n",
    "#features_test_oe = features_oe.loc[features_test.index, :]\n",
    "#features_test_oe = features_test[['VehicleType','FuelType','Brand','Model', 'Gearbox', 'Repaired']]\n",
    "\n",
    "#target_train_oe = target_train.copy()\n",
    "#target_test_oe = target_test.copy()"
   ]
  },
  {
   "cell_type": "code",
   "execution_count": 52,
   "metadata": {},
   "outputs": [
    {
     "data": {
      "text/html": [
       "<div>\n",
       "<style scoped>\n",
       "    .dataframe tbody tr th:only-of-type {\n",
       "        vertical-align: middle;\n",
       "    }\n",
       "\n",
       "    .dataframe tbody tr th {\n",
       "        vertical-align: top;\n",
       "    }\n",
       "\n",
       "    .dataframe thead th {\n",
       "        text-align: right;\n",
       "    }\n",
       "</style>\n",
       "<table border=\"1\" class=\"dataframe\">\n",
       "  <thead>\n",
       "    <tr style=\"text-align: right;\">\n",
       "      <th></th>\n",
       "      <th>VehicleType</th>\n",
       "      <th>RegistrationYear</th>\n",
       "      <th>Gearbox</th>\n",
       "      <th>Power</th>\n",
       "      <th>Model</th>\n",
       "      <th>Kilometer</th>\n",
       "      <th>FuelType</th>\n",
       "      <th>Brand</th>\n",
       "      <th>Repaired</th>\n",
       "    </tr>\n",
       "  </thead>\n",
       "  <tbody>\n",
       "    <tr>\n",
       "      <th>178593</th>\n",
       "      <td>0.0</td>\n",
       "      <td>2008</td>\n",
       "      <td>0.0</td>\n",
       "      <td>170</td>\n",
       "      <td>220.0</td>\n",
       "      <td>150000</td>\n",
       "      <td>2.0</td>\n",
       "      <td>38.0</td>\n",
       "      <td>0.0</td>\n",
       "    </tr>\n",
       "    <tr>\n",
       "      <th>88746</th>\n",
       "      <td>5.0</td>\n",
       "      <td>2009</td>\n",
       "      <td>1.0</td>\n",
       "      <td>69</td>\n",
       "      <td>13.0</td>\n",
       "      <td>80000</td>\n",
       "      <td>6.0</td>\n",
       "      <td>9.0</td>\n",
       "      <td>0.0</td>\n",
       "    </tr>\n",
       "    <tr>\n",
       "      <th>58726</th>\n",
       "      <td>1.0</td>\n",
       "      <td>2004</td>\n",
       "      <td>1.0</td>\n",
       "      <td>73</td>\n",
       "      <td>56.0</td>\n",
       "      <td>125000</td>\n",
       "      <td>6.0</td>\n",
       "      <td>5.0</td>\n",
       "      <td>0.0</td>\n",
       "    </tr>\n",
       "    <tr>\n",
       "      <th>19912</th>\n",
       "      <td>4.0</td>\n",
       "      <td>2006</td>\n",
       "      <td>1.0</td>\n",
       "      <td>102</td>\n",
       "      <td>163.0</td>\n",
       "      <td>70000</td>\n",
       "      <td>6.0</td>\n",
       "      <td>31.0</td>\n",
       "      <td>0.0</td>\n",
       "    </tr>\n",
       "    <tr>\n",
       "      <th>158023</th>\n",
       "      <td>5.0</td>\n",
       "      <td>2000</td>\n",
       "      <td>1.0</td>\n",
       "      <td>68</td>\n",
       "      <td>166.0</td>\n",
       "      <td>150000</td>\n",
       "      <td>6.0</td>\n",
       "      <td>31.0</td>\n",
       "      <td>0.0</td>\n",
       "    </tr>\n",
       "  </tbody>\n",
       "</table>\n",
       "</div>"
      ],
      "text/plain": [
       "        VehicleType  RegistrationYear  Gearbox  Power  Model  Kilometer  \\\n",
       "178593          0.0              2008      0.0    170  220.0     150000   \n",
       "88746           5.0              2009      1.0     69   13.0      80000   \n",
       "58726           1.0              2004      1.0     73   56.0     125000   \n",
       "19912           4.0              2006      1.0    102  163.0      70000   \n",
       "158023          5.0              2000      1.0     68  166.0     150000   \n",
       "\n",
       "        FuelType  Brand  Repaired  \n",
       "178593       2.0   38.0       0.0  \n",
       "88746        6.0    9.0       0.0  \n",
       "58726        6.0    5.0       0.0  \n",
       "19912        6.0   31.0       0.0  \n",
       "158023       6.0   31.0       0.0  "
      ]
     },
     "execution_count": 52,
     "metadata": {},
     "output_type": "execute_result"
    }
   ],
   "source": [
    "#копирем данные\n",
    "features_train_oe = features_train.copy()\n",
    "features_test_oe = features_test.copy()\n",
    "# выделяем категории\n",
    "category_features_oe = ['VehicleType','FuelType','Brand','Model', 'Gearbox', 'Repaired']\n",
    "\n",
    "encoder = OrdinalEncoder()\n",
    "#учим кодировщик на выборке features_train_oe\n",
    "encoder.fit(features_train_oe[category_features_oe])\n",
    "#перекодируем выборки features_train_oe и features_test_oe\n",
    "features_train_oe[category_features_oe] = encoder.transform(features_train_oe[category_features_oe])\n",
    "features_test_oe[category_features_oe] = encoder.transform(features_test_oe[category_features_oe])\n",
    "\n",
    "target_train_oe = target_train.copy()\n",
    "target_test_oe = target_test.copy()\n",
    "\n",
    "features_test_oe.head()"
   ]
  },
  {
   "cell_type": "code",
   "execution_count": 53,
   "metadata": {},
   "outputs": [
    {
     "name": "stdout",
     "output_type": "stream",
     "text": [
      "Collecting category_encoders\n",
      "  Downloading category_encoders-2.6.2-py2.py3-none-any.whl (81 kB)\n",
      "\u001b[K     |████████████████████████████████| 81 kB 1.1 MB/s eta 0:00:011\n",
      "\u001b[?25hRequirement already satisfied: patsy>=0.5.1 in /opt/conda/lib/python3.9/site-packages (from category_encoders) (0.5.2)\n",
      "Requirement already satisfied: scipy>=1.0.0 in /opt/conda/lib/python3.9/site-packages (from category_encoders) (1.9.1)\n",
      "Requirement already satisfied: scikit-learn>=0.20.0 in /opt/conda/lib/python3.9/site-packages (from category_encoders) (0.24.1)\n",
      "Requirement already satisfied: statsmodels>=0.9.0 in /opt/conda/lib/python3.9/site-packages (from category_encoders) (0.13.2)\n",
      "Requirement already satisfied: numpy>=1.14.0 in /opt/conda/lib/python3.9/site-packages (from category_encoders) (1.21.1)\n",
      "Requirement already satisfied: pandas>=1.0.5 in /opt/conda/lib/python3.9/site-packages (from category_encoders) (1.2.4)\n",
      "Requirement already satisfied: python-dateutil>=2.7.3 in /opt/conda/lib/python3.9/site-packages (from pandas>=1.0.5->category_encoders) (2.8.1)\n",
      "Requirement already satisfied: pytz>=2017.3 in /opt/conda/lib/python3.9/site-packages (from pandas>=1.0.5->category_encoders) (2021.1)\n",
      "Requirement already satisfied: six in /opt/conda/lib/python3.9/site-packages (from patsy>=0.5.1->category_encoders) (1.16.0)\n",
      "Requirement already satisfied: joblib>=0.11 in /opt/conda/lib/python3.9/site-packages (from scikit-learn>=0.20.0->category_encoders) (1.1.0)\n",
      "Requirement already satisfied: threadpoolctl>=2.0.0 in /opt/conda/lib/python3.9/site-packages (from scikit-learn>=0.20.0->category_encoders) (3.1.0)\n",
      "Requirement already satisfied: packaging>=21.3 in /opt/conda/lib/python3.9/site-packages (from statsmodels>=0.9.0->category_encoders) (21.3)\n",
      "Requirement already satisfied: pyparsing!=3.0.5,>=2.0.2 in /opt/conda/lib/python3.9/site-packages (from packaging>=21.3->statsmodels>=0.9.0->category_encoders) (2.4.7)\n",
      "Installing collected packages: category-encoders\n",
      "Successfully installed category-encoders-2.6.2\n"
     ]
    }
   ],
   "source": [
    "!pip install category_encoders\n",
    "import category_encoders as ce\n",
    "encoder = ce.MEstimateEncoder()"
   ]
  },
  {
   "cell_type": "code",
   "execution_count": 54,
   "metadata": {},
   "outputs": [],
   "source": [
    "features_train_mes = pd.DataFrame(encoder.fit_transform(features_train, target_train))\n",
    "features_test_mes = pd.DataFrame(encoder.transform(features_test, target_test))\n",
    "target_train_mes = target_train.copy()\n",
    "target_test_mes = target_test.copy()"
   ]
  },
  {
   "cell_type": "code",
   "execution_count": 55,
   "metadata": {},
   "outputs": [
    {
     "name": "stdout",
     "output_type": "stream",
     "text": [
      "(190728, 9)\n",
      "(63576, 9)\n",
      "(190728,)\n",
      "(63576,)\n"
     ]
    }
   ],
   "source": [
    "print(features_train_mes.shape)\n",
    "print(features_test_mes.shape)\n",
    "print(target_train_mes.shape)\n",
    "print(target_test_mes.shape)"
   ]
  },
  {
   "cell_type": "markdown",
   "metadata": {},
   "source": [
    "Проверим размеры выборок"
   ]
  },
  {
   "cell_type": "code",
   "execution_count": 56,
   "metadata": {},
   "outputs": [
    {
     "name": "stdout",
     "output_type": "stream",
     "text": [
      "(190728, 309)\n",
      "(63576, 309)\n",
      "(190728,)\n",
      "(63576,)\n"
     ]
    }
   ],
   "source": [
    "print(features_train_ohe.shape)\n",
    "print(features_test_ohe.shape)\n",
    "print(target_train_ohe.shape)\n",
    "print(target_test_ohe.shape)"
   ]
  },
  {
   "cell_type": "code",
   "execution_count": 57,
   "metadata": {},
   "outputs": [
    {
     "name": "stdout",
     "output_type": "stream",
     "text": [
      "(190728, 9)\n",
      "(63576, 9)\n",
      "(190728,)\n",
      "(63576,)\n"
     ]
    }
   ],
   "source": [
    "print(features_train_oe.shape)\n",
    "print(features_test_oe.shape)\n",
    "print(target_train_oe.shape)\n",
    "print(target_test_oe.shape)"
   ]
  },
  {
   "cell_type": "code",
   "execution_count": 58,
   "metadata": {},
   "outputs": [
    {
     "name": "stdout",
     "output_type": "stream",
     "text": [
      "(190728, 9)\n",
      "(63576, 9)\n",
      "(190728,)\n",
      "(63576,)\n"
     ]
    }
   ],
   "source": [
    "print(features_train.shape)\n",
    "print(features_test.shape)\n",
    "print(target_train.shape)\n",
    "print(target_test.shape)"
   ]
  },
  {
   "cell_type": "markdown",
   "metadata": {},
   "source": [
    "Выберем следующие регрессоры для обучения модели:\n",
    "- LinearRegression\n",
    "- CatBoostRegressor\n",
    "- LGBMRegressor\n",
    "- RandomForestRegressor\n",
    "\n",
    "Для изучения всех моделей в качестве метрики воспользуемся MSE и в финальной таблице переведем в RMSE. "
   ]
  },
  {
   "cell_type": "markdown",
   "metadata": {},
   "source": [
    "### Модель LinearRegression"
   ]
  },
  {
   "cell_type": "markdown",
   "metadata": {},
   "source": [
    "#### На выборках c MEstimateEncoder"
   ]
  },
  {
   "cell_type": "code",
   "execution_count": 59,
   "metadata": {},
   "outputs": [
    {
     "name": "stdout",
     "output_type": "stream",
     "text": [
      "RMSE линейной регрессии MEstimateEncoder: 2741.0\n",
      "Время: 1.0\n",
      "CPU times: user 542 ms, sys: 498 ms, total: 1.04 s\n",
      "Wall time: 1 s\n"
     ]
    }
   ],
   "source": [
    "%%time\n",
    "start = time.time()\n",
    "model_lr = LinearRegression()\n",
    "model_lr.fit(features_train_mes, target_train_mes)\n",
    "cvs_rmse_lr =((cross_val_score(model_lr,\n",
    "                               features_train_mes,\n",
    "                               target_train_mes,\n",
    "                               cv=5,\n",
    "                               scoring='neg_mean_squared_error').mean()* -1)** .5).round()\n",
    "print('RMSE линейной регрессии MEstimateEncoder:',cvs_rmse_lr)\n",
    "end = time.time()\n",
    "time_lr=round(end-start,1)\n",
    "print('Время:', time_lr)"
   ]
  },
  {
   "cell_type": "code",
   "execution_count": 60,
   "metadata": {},
   "outputs": [
    {
     "name": "stdout",
     "output_type": "stream",
     "text": [
      "RMSE линейной регрессии MEstimateEncoder: 2753.0\n"
     ]
    }
   ],
   "source": [
    "target_predict = model_lr.predict(features_test_mes)\n",
    "\n",
    "rmse_lr_mes = (mean_squared_error(target_test_mes, target_predict) ** 0.5).round()\n",
    "print('RMSE линейной регрессии MEstimateEncoder:',rmse_lr_mes)"
   ]
  },
  {
   "cell_type": "markdown",
   "metadata": {},
   "source": [
    "Лучший RMSE = 2741 получился моделью LinearRegression  больше 2500, уже не подходит, время обучения 1 сек."
   ]
  },
  {
   "cell_type": "markdown",
   "metadata": {},
   "source": [
    "### Модель CatBoostRegressor"
   ]
  },
  {
   "cell_type": "markdown",
   "metadata": {},
   "source": [
    "#### На выборках без кодировки"
   ]
  },
  {
   "cell_type": "code",
   "execution_count": 61,
   "metadata": {},
   "outputs": [
    {
     "name": "stdout",
     "output_type": "stream",
     "text": [
      "RMSE модели CatBoostRegressor выборки без кодирования =: 1592.0\n",
      "Время: 166.4\n",
      "CPU times: user 2min 39s, sys: 968 ms, total: 2min 40s\n",
      "Wall time: 2min 46s\n"
     ]
    }
   ],
   "source": [
    "%%time\n",
    "start = time.time()\n",
    "model_cbr = CatBoostRegressor(learning_rate=0.5, \n",
    "                              iterations=200, \n",
    "                              random_state=12345, \n",
    "                              verbose=False, \n",
    "                              cat_features=['VehicleType','FuelType','Brand','Model', 'Gearbox', 'Repaired']) \n",
    "\n",
    "RMSE_CBR_cv = ((cross_val_score(model_cbr,\n",
    "                                features_train, \n",
    "                                target_train, \n",
    "                                cv=5, \n",
    "                                scoring='neg_mean_squared_error').mean() * -1) ** 0.5).round()\n",
    "print('RMSE модели CatBoostRegressor выборки без кодирования =:', RMSE_CBR_cv)\n",
    "end = time.time()\n",
    "time_cbr=round(end-start,1)\n",
    "print('Время:', time_cbr)"
   ]
  },
  {
   "cell_type": "markdown",
   "metadata": {},
   "source": [
    "Лучший RMSE = 1592 получился моделью CatBoostRegressor меньше 2500, уже подходит, время обучения 2.мин 44.сек"
   ]
  },
  {
   "cell_type": "markdown",
   "metadata": {},
   "source": [
    "### Модель LightGBMRegressor"
   ]
  },
  {
   "cell_type": "code",
   "execution_count": 62,
   "metadata": {},
   "outputs": [
    {
     "name": "stdout",
     "output_type": "stream",
     "text": [
      "{'learning_rate': 0.1, 'num_leaves': 200, 'random_state': 12345}\n",
      "\n",
      "RMSE модели LGBMRegressor =: 1540.0\n",
      "Время: 448.0\n",
      "CPU times: user 7min 20s, sys: 4.47 s, total: 7min 24s\n",
      "Wall time: 7min 27s\n"
     ]
    }
   ],
   "source": [
    "%%time\n",
    "start = time.time()\n",
    "model_lgbmr = LGBMRegressor() \n",
    "parameters = [{'num_leaves':[50, 100, 200], 'learning_rate':[0.1, 0.3, 0.5], 'random_state':[12345]}]\n",
    "\n",
    "\n",
    "clf = GridSearchCV(model_lgbmr, parameters, scoring='neg_mean_squared_error')\n",
    "clf.fit(features_train_mes, target_train_mes)\n",
    "\n",
    "print(clf.best_params_)\n",
    "print()\n",
    "\n",
    "means = clf.cv_results_['mean_test_score']\n",
    "\n",
    "rsme_lgbmr_mes = ((max(means) * -1) ** 0.5).round()\n",
    "print('RMSE модели LGBMRegressor =:', rsme_lgbmr_mes)\n",
    "end = time.time()\n",
    "time_lgbmr=round(end-start,1)\n",
    "print('Время:', time_lgbmr)"
   ]
  },
  {
   "cell_type": "code",
   "execution_count": 63,
   "metadata": {},
   "outputs": [
    {
     "name": "stdout",
     "output_type": "stream",
     "text": [
      "RMSE модели LGBMRegressor тестовой =: 1539.0\n",
      "Время:\n",
      "CPU times: user 11.5 s, sys: 87.4 ms, total: 11.5 s\n",
      "Wall time: 11.6 s\n"
     ]
    }
   ],
   "source": [
    "%%time\n",
    "\n",
    "model_lgbmr = LGBMRegressor(learning_rate=0.3, num_leaves=200, random_state=12345)\n",
    "model_lgbmr.fit(features_train_mes, target_train_mes)\n",
    "target_predict = model_lgbmr.predict(features_test_mes)\n",
    "rsme_lgbmr =(mean_squared_error(target_test, target_predict) ** 0.5).round()\n",
    "print('RMSE модели LGBMRegressor тестовой =:', rsme_lgbmr)\n",
    "print('Время:')"
   ]
  },
  {
   "cell_type": "markdown",
   "metadata": {},
   "source": [
    "Лучший RMSE = 1509 получился моделью LightGBMRegressor меньше 2500, подходит. Время 6 минут 35 сек."
   ]
  },
  {
   "cell_type": "markdown",
   "metadata": {},
   "source": [
    "### RandomForestRegressor (случайный лес)"
   ]
  },
  {
   "cell_type": "code",
   "execution_count": 64,
   "metadata": {},
   "outputs": [
    {
     "name": "stdout",
     "output_type": "stream",
     "text": [
      "rmse_rfr модели: 1663.0\n",
      " Гиперпараметры модели:\n",
      " RandomForestRegressor(random_state=12345)\n",
      "Время: 146.5\n",
      "CPU times: user 2min 24s, sys: 1.94 s, total: 2min 26s\n",
      "Wall time: 2min 26s\n"
     ]
    }
   ],
   "source": [
    "%%time\n",
    "start = time.time()\n",
    "model_rf = RandomForestRegressor(random_state=12345, criterion='mse',warm_start=False, n_estimators=100)\n",
    "model_rf.fit(features_train_oe, target_train_oe)\n",
    "rmse_rfr = ((cross_val_score(model_rf, features_train_oe, target_train_oe, \n",
    "                             scoring='neg_mean_squared_error', cv=3).mean() * -1) ** 0.5).round()\n",
    "print('rmse_rfr модели:', rmse_rfr)\n",
    "print(' Гиперпараметры модели:\\n',model_rf)\n",
    "end = time.time()\n",
    "time_rfr=round(end-start,1)\n",
    "print('Время:', time_rfr)"
   ]
  },
  {
   "cell_type": "code",
   "execution_count": 65,
   "metadata": {},
   "outputs": [
    {
     "name": "stdout",
     "output_type": "stream",
     "text": [
      "RMSE модели RandomForestRegressor выборки OE =: 1636.0\n",
      "CPU times: user 2.68 s, sys: 3.08 ms, total: 2.68 s\n",
      "Wall time: 2.69 s\n"
     ]
    }
   ],
   "source": [
    "%%time\n",
    "pred_rfr=model_rf.predict(features_test_oe)\n",
    "rmse_rfr_oe = (mean_squared_error(target_test_oe,pred_rfr)** 0.5).round()\n",
    "print('RMSE модели RandomForestRegressor выборки OE =:', rmse_rfr_oe)"
   ]
  },
  {
   "cell_type": "markdown",
   "metadata": {},
   "source": [
    "RMSE = 1663 получился моделью RandomForestRegressor меньше 2500, уже подходит."
   ]
  },
  {
   "cell_type": "markdown",
   "metadata": {},
   "source": [
    "## Анализ моделей"
   ]
  },
  {
   "cell_type": "code",
   "execution_count": 66,
   "metadata": {},
   "outputs": [
    {
     "data": {
      "text/html": [
       "<div>\n",
       "<style scoped>\n",
       "    .dataframe tbody tr th:only-of-type {\n",
       "        vertical-align: middle;\n",
       "    }\n",
       "\n",
       "    .dataframe tbody tr th {\n",
       "        vertical-align: top;\n",
       "    }\n",
       "\n",
       "    .dataframe thead th {\n",
       "        text-align: right;\n",
       "    }\n",
       "</style>\n",
       "<table border=\"1\" class=\"dataframe\">\n",
       "  <thead>\n",
       "    <tr style=\"text-align: right;\">\n",
       "      <th></th>\n",
       "      <th>модель</th>\n",
       "      <th>время, сек</th>\n",
       "      <th>RMSE</th>\n",
       "    </tr>\n",
       "  </thead>\n",
       "  <tbody>\n",
       "    <tr>\n",
       "      <th>0</th>\n",
       "      <td>LinearRegression</td>\n",
       "      <td>1.0</td>\n",
       "      <td>2741.0</td>\n",
       "    </tr>\n",
       "    <tr>\n",
       "      <th>1</th>\n",
       "      <td>CatBoostRegressor</td>\n",
       "      <td>166.4</td>\n",
       "      <td>1592.0</td>\n",
       "    </tr>\n",
       "    <tr>\n",
       "      <th>2</th>\n",
       "      <td>LGB</td>\n",
       "      <td>448.0</td>\n",
       "      <td>1540.0</td>\n",
       "    </tr>\n",
       "    <tr>\n",
       "      <th>3</th>\n",
       "      <td>RandomForestRegressor</td>\n",
       "      <td>146.5</td>\n",
       "      <td>1663.0</td>\n",
       "    </tr>\n",
       "  </tbody>\n",
       "</table>\n",
       "</div>"
      ],
      "text/plain": [
       "                  модель  время, сек    RMSE\n",
       "0       LinearRegression         1.0  2741.0\n",
       "1      CatBoostRegressor       166.4  1592.0\n",
       "2                    LGB       448.0  1540.0\n",
       "3  RandomForestRegressor       146.5  1663.0"
      ]
     },
     "execution_count": 66,
     "metadata": {},
     "output_type": "execute_result"
    }
   ],
   "source": [
    "models = [['LinearRegression', time_lr, cvs_rmse_lr.round()], ['CatBoostRegressor', time_cbr, RMSE_CBR_cv.round()], \n",
    "          ['LGB', time_lgbmr, rsme_lgbmr_mes.round()], ['RandomForestRegressor', time_rfr, rmse_rfr.round()]]\n",
    "          \n",
    "data_models = pd.DataFrame(models, columns = ['модель', 'время, сек', 'RMSE']) \n",
    "          \n",
    "data_models"
   ]
  },
  {
   "cell_type": "markdown",
   "metadata": {},
   "source": [
    "## Вывод: \n",
    "лучшая модель получилась LGBMRegressor выборки = 1540, время обучения составил  391 сек."
   ]
  }
 ],
 "metadata": {
  "ExecuteTimeLog": [
   {
    "duration": 2109,
    "start_time": "2023-09-04T17:21:27.887Z"
   },
   {
    "duration": 3974,
    "start_time": "2023-09-04T17:21:29.999Z"
   },
   {
    "duration": 20,
    "start_time": "2023-09-04T17:21:33.979Z"
   },
   {
    "duration": 226,
    "start_time": "2023-09-04T17:21:34.001Z"
   },
   {
    "duration": 37,
    "start_time": "2023-09-04T17:45:49.459Z"
   },
   {
    "duration": 149,
    "start_time": "2023-09-04T17:45:50.234Z"
   },
   {
    "duration": 26,
    "start_time": "2023-09-04T17:46:02.563Z"
   },
   {
    "duration": 51,
    "start_time": "2023-09-04T17:55:59.595Z"
   },
   {
    "duration": 1859,
    "start_time": "2023-09-04T17:56:10.576Z"
   },
   {
    "duration": 3365,
    "start_time": "2023-09-04T17:56:12.437Z"
   },
   {
    "duration": 16,
    "start_time": "2023-09-04T17:56:15.803Z"
   },
   {
    "duration": 161,
    "start_time": "2023-09-04T17:56:15.821Z"
   },
   {
    "duration": 34,
    "start_time": "2023-09-04T17:56:15.983Z"
   },
   {
    "duration": 113,
    "start_time": "2023-09-04T17:56:16.019Z"
   },
   {
    "duration": 22,
    "start_time": "2023-09-04T17:56:16.133Z"
   },
   {
    "duration": 70,
    "start_time": "2023-09-04T17:56:16.159Z"
   },
   {
    "duration": 129,
    "start_time": "2023-09-04T18:04:22.384Z"
   },
   {
    "duration": 3,
    "start_time": "2023-09-04T18:04:39.696Z"
   },
   {
    "duration": 4,
    "start_time": "2023-09-04T18:04:44.776Z"
   },
   {
    "duration": 3,
    "start_time": "2023-09-04T18:05:03.120Z"
   },
   {
    "duration": 146,
    "start_time": "2023-09-04T18:05:08.207Z"
   },
   {
    "duration": 298,
    "start_time": "2023-09-04T18:05:17.792Z"
   },
   {
    "duration": 269,
    "start_time": "2023-09-04T18:05:27.983Z"
   },
   {
    "duration": 330,
    "start_time": "2023-09-04T18:05:41.028Z"
   },
   {
    "duration": 110,
    "start_time": "2023-09-04T18:06:22.595Z"
   },
   {
    "duration": 108,
    "start_time": "2023-09-04T18:06:26.331Z"
   },
   {
    "duration": 301,
    "start_time": "2023-09-04T18:06:55.568Z"
   },
   {
    "duration": 327,
    "start_time": "2023-09-04T18:07:13.017Z"
   },
   {
    "duration": 11,
    "start_time": "2023-09-04T18:15:22.929Z"
   },
   {
    "duration": 4,
    "start_time": "2023-09-04T18:15:29.883Z"
   },
   {
    "duration": 11,
    "start_time": "2023-09-04T18:19:19.104Z"
   },
   {
    "duration": 9,
    "start_time": "2023-09-04T18:19:45.581Z"
   },
   {
    "duration": 18,
    "start_time": "2023-09-04T18:20:05.469Z"
   },
   {
    "duration": 14,
    "start_time": "2023-09-04T18:20:20.592Z"
   },
   {
    "duration": 185,
    "start_time": "2023-09-04T18:20:45.265Z"
   },
   {
    "duration": 19,
    "start_time": "2023-09-04T18:20:52.669Z"
   },
   {
    "duration": 4,
    "start_time": "2023-09-04T18:23:17.518Z"
   },
   {
    "duration": 12,
    "start_time": "2023-09-04T18:23:25.110Z"
   },
   {
    "duration": 18,
    "start_time": "2023-09-04T18:23:44.965Z"
   },
   {
    "duration": 14,
    "start_time": "2023-09-04T18:24:02.994Z"
   },
   {
    "duration": 12,
    "start_time": "2023-09-04T18:29:45.969Z"
   },
   {
    "duration": 44,
    "start_time": "2023-09-04T18:29:50.944Z"
   },
   {
    "duration": 1831,
    "start_time": "2023-09-06T17:33:45.162Z"
   },
   {
    "duration": 1178,
    "start_time": "2023-09-06T17:33:46.994Z"
   },
   {
    "duration": 15,
    "start_time": "2023-09-06T17:33:48.174Z"
   },
   {
    "duration": 173,
    "start_time": "2023-09-06T17:33:48.191Z"
   },
   {
    "duration": 23,
    "start_time": "2023-09-06T17:33:48.366Z"
   },
   {
    "duration": 114,
    "start_time": "2023-09-06T17:33:48.390Z"
   },
   {
    "duration": 9,
    "start_time": "2023-09-06T17:33:48.506Z"
   },
   {
    "duration": 80,
    "start_time": "2023-09-06T17:33:48.517Z"
   },
   {
    "duration": 250,
    "start_time": "2023-09-06T17:33:48.599Z"
   },
   {
    "duration": 28,
    "start_time": "2023-09-06T17:33:48.851Z"
   },
   {
    "duration": 63,
    "start_time": "2023-09-06T17:33:48.884Z"
   },
   {
    "duration": 45,
    "start_time": "2023-09-06T17:33:48.949Z"
   },
   {
    "duration": 53,
    "start_time": "2023-09-06T17:33:48.996Z"
   },
   {
    "duration": 37,
    "start_time": "2023-09-06T17:33:49.051Z"
   },
   {
    "duration": 1455,
    "start_time": "2023-09-06T17:35:13.344Z"
   },
   {
    "duration": 23,
    "start_time": "2023-09-06T17:35:29.710Z"
   },
   {
    "duration": 91,
    "start_time": "2023-09-06T17:42:17.199Z"
   },
   {
    "duration": 128,
    "start_time": "2023-09-06T17:42:25.473Z"
   },
   {
    "duration": 115,
    "start_time": "2023-09-06T17:42:25.809Z"
   },
   {
    "duration": 166,
    "start_time": "2023-09-06T17:48:01.024Z"
   },
   {
    "duration": 1467,
    "start_time": "2023-09-06T17:49:14.723Z"
   },
   {
    "duration": 823,
    "start_time": "2023-09-06T17:49:16.192Z"
   },
   {
    "duration": 20,
    "start_time": "2023-09-06T17:49:17.016Z"
   },
   {
    "duration": 146,
    "start_time": "2023-09-06T17:49:17.038Z"
   },
   {
    "duration": 439,
    "start_time": "2023-09-06T17:49:17.186Z"
   },
   {
    "duration": 475,
    "start_time": "2023-09-06T17:49:17.626Z"
   },
   {
    "duration": 33,
    "start_time": "2023-09-06T17:49:18.103Z"
   },
   {
    "duration": 131,
    "start_time": "2023-09-06T17:49:18.138Z"
   },
   {
    "duration": 11,
    "start_time": "2023-09-06T17:49:18.270Z"
   },
   {
    "duration": 78,
    "start_time": "2023-09-06T17:49:18.282Z"
   },
   {
    "duration": 243,
    "start_time": "2023-09-06T17:49:18.362Z"
   },
   {
    "duration": 30,
    "start_time": "2023-09-06T17:49:18.607Z"
   },
   {
    "duration": 36,
    "start_time": "2023-09-06T17:49:18.639Z"
   },
   {
    "duration": 52,
    "start_time": "2023-09-06T17:49:18.678Z"
   },
   {
    "duration": 35,
    "start_time": "2023-09-06T17:49:18.731Z"
   },
   {
    "duration": 50,
    "start_time": "2023-09-06T17:49:18.768Z"
   },
   {
    "duration": 30,
    "start_time": "2023-09-06T17:49:18.823Z"
   },
   {
    "duration": 125,
    "start_time": "2023-09-06T17:49:18.855Z"
   },
   {
    "duration": 104,
    "start_time": "2023-09-06T17:49:18.982Z"
   },
   {
    "duration": 168,
    "start_time": "2023-09-06T17:49:19.088Z"
   },
   {
    "duration": 140,
    "start_time": "2023-09-06T17:49:56.545Z"
   },
   {
    "duration": 1473,
    "start_time": "2023-09-06T17:50:07.713Z"
   },
   {
    "duration": 831,
    "start_time": "2023-09-06T17:50:09.188Z"
   },
   {
    "duration": 17,
    "start_time": "2023-09-06T17:50:10.020Z"
   },
   {
    "duration": 193,
    "start_time": "2023-09-06T17:50:10.038Z"
   },
   {
    "duration": 486,
    "start_time": "2023-09-06T17:50:10.234Z"
   },
   {
    "duration": 458,
    "start_time": "2023-09-06T17:50:10.724Z"
   },
   {
    "duration": 502,
    "start_time": "2023-09-06T17:50:11.184Z"
   },
   {
    "duration": 37,
    "start_time": "2023-09-06T17:50:11.688Z"
   },
   {
    "duration": 103,
    "start_time": "2023-09-06T17:50:11.727Z"
   },
   {
    "duration": 11,
    "start_time": "2023-09-06T17:50:11.832Z"
   },
   {
    "duration": 64,
    "start_time": "2023-09-06T17:50:11.844Z"
   },
   {
    "duration": 264,
    "start_time": "2023-09-06T17:50:11.910Z"
   },
   {
    "duration": 22,
    "start_time": "2023-09-06T17:50:12.175Z"
   },
   {
    "duration": 52,
    "start_time": "2023-09-06T17:50:12.200Z"
   },
   {
    "duration": 46,
    "start_time": "2023-09-06T17:50:12.254Z"
   },
   {
    "duration": 40,
    "start_time": "2023-09-06T17:50:12.303Z"
   },
   {
    "duration": 45,
    "start_time": "2023-09-06T17:50:12.345Z"
   },
   {
    "duration": 57,
    "start_time": "2023-09-06T17:50:12.392Z"
   },
   {
    "duration": 139,
    "start_time": "2023-09-06T17:50:12.451Z"
   },
   {
    "duration": 98,
    "start_time": "2023-09-06T17:50:12.591Z"
   },
   {
    "duration": 177,
    "start_time": "2023-09-06T17:50:12.691Z"
   },
   {
    "duration": 116,
    "start_time": "2023-09-06T17:50:25.600Z"
   },
   {
    "duration": 91,
    "start_time": "2023-09-06T17:51:59.753Z"
   },
   {
    "duration": 368,
    "start_time": "2023-09-06T17:57:48.029Z"
   },
   {
    "duration": 8,
    "start_time": "2023-09-06T18:05:08.164Z"
   },
   {
    "duration": 1363,
    "start_time": "2023-09-06T18:05:14.817Z"
   },
   {
    "duration": 439,
    "start_time": "2023-09-06T18:06:03.521Z"
   },
   {
    "duration": 376,
    "start_time": "2023-09-06T18:06:21.137Z"
   },
   {
    "duration": 8,
    "start_time": "2023-09-06T18:08:55.741Z"
   },
   {
    "duration": 41,
    "start_time": "2023-09-06T18:09:03.933Z"
   },
   {
    "duration": 366,
    "start_time": "2023-09-06T18:09:15.217Z"
   },
   {
    "duration": 429,
    "start_time": "2023-09-06T18:12:24.597Z"
   },
   {
    "duration": 7,
    "start_time": "2023-09-06T18:20:03.252Z"
   },
   {
    "duration": 8,
    "start_time": "2023-09-06T18:23:47.618Z"
   },
   {
    "duration": 9,
    "start_time": "2023-09-06T18:23:58.045Z"
   },
   {
    "duration": 8,
    "start_time": "2023-09-06T18:24:05.006Z"
   },
   {
    "duration": 29,
    "start_time": "2023-09-06T18:27:24.707Z"
   },
   {
    "duration": 480,
    "start_time": "2023-09-06T18:27:32.468Z"
   },
   {
    "duration": 29,
    "start_time": "2023-09-06T18:28:44.918Z"
   },
   {
    "duration": 25,
    "start_time": "2023-09-06T18:28:59.761Z"
   },
   {
    "duration": 461,
    "start_time": "2023-09-06T18:29:05.727Z"
   },
   {
    "duration": 271,
    "start_time": "2023-09-06T18:42:05.318Z"
   },
   {
    "duration": 257,
    "start_time": "2023-09-06T18:42:11.374Z"
   },
   {
    "duration": 226,
    "start_time": "2023-09-06T18:42:46.546Z"
   },
   {
    "duration": 406,
    "start_time": "2023-09-06T18:42:51.779Z"
   },
   {
    "duration": 284,
    "start_time": "2023-09-06T18:43:00.549Z"
   },
   {
    "duration": 304,
    "start_time": "2023-09-06T18:43:12.969Z"
   },
   {
    "duration": 327,
    "start_time": "2023-09-06T18:43:25.373Z"
   },
   {
    "duration": 456,
    "start_time": "2023-09-06T18:44:19.258Z"
   },
   {
    "duration": 9,
    "start_time": "2023-09-06T18:53:22.832Z"
   },
   {
    "duration": 29,
    "start_time": "2023-09-06T18:53:55.324Z"
   },
   {
    "duration": 335,
    "start_time": "2023-09-06T18:54:04.121Z"
   },
   {
    "duration": 25,
    "start_time": "2023-09-06T18:54:21.676Z"
   },
   {
    "duration": 412,
    "start_time": "2023-09-06T18:54:23.621Z"
   },
   {
    "duration": 245,
    "start_time": "2023-09-06T18:54:35.007Z"
   },
   {
    "duration": 237,
    "start_time": "2023-09-06T18:54:42.405Z"
   },
   {
    "duration": 1486,
    "start_time": "2023-09-06T18:54:55.413Z"
   },
   {
    "duration": 827,
    "start_time": "2023-09-06T18:54:56.901Z"
   },
   {
    "duration": 16,
    "start_time": "2023-09-06T18:54:57.730Z"
   },
   {
    "duration": 195,
    "start_time": "2023-09-06T18:54:57.748Z"
   },
   {
    "duration": 475,
    "start_time": "2023-09-06T18:54:57.945Z"
   },
   {
    "duration": 538,
    "start_time": "2023-09-06T18:54:58.422Z"
   },
   {
    "duration": 36,
    "start_time": "2023-09-06T18:54:58.962Z"
   },
   {
    "duration": 170,
    "start_time": "2023-09-06T18:54:59.000Z"
   },
   {
    "duration": 103,
    "start_time": "2023-09-06T18:54:59.172Z"
   },
   {
    "duration": 75,
    "start_time": "2023-09-06T18:54:59.277Z"
   },
   {
    "duration": 249,
    "start_time": "2023-09-06T18:54:59.353Z"
   },
   {
    "duration": 26,
    "start_time": "2023-09-06T18:54:59.604Z"
   },
   {
    "duration": 36,
    "start_time": "2023-09-06T18:54:59.632Z"
   },
   {
    "duration": 149,
    "start_time": "2023-09-06T18:54:59.670Z"
   },
   {
    "duration": 45,
    "start_time": "2023-09-06T18:54:59.821Z"
   },
   {
    "duration": 37,
    "start_time": "2023-09-06T18:54:59.868Z"
   },
   {
    "duration": 27,
    "start_time": "2023-09-06T18:54:59.906Z"
   },
   {
    "duration": 113,
    "start_time": "2023-09-06T18:54:59.935Z"
   },
   {
    "duration": 102,
    "start_time": "2023-09-06T18:55:00.050Z"
   },
   {
    "duration": 99,
    "start_time": "2023-09-06T18:55:00.154Z"
   },
   {
    "duration": 1484,
    "start_time": "2023-09-06T18:55:00.254Z"
   },
   {
    "duration": 361,
    "start_time": "2023-09-06T18:55:01.740Z"
   },
   {
    "duration": 74,
    "start_time": "2023-09-06T18:55:02.103Z"
   },
   {
    "duration": 492,
    "start_time": "2023-09-06T18:55:02.179Z"
   },
   {
    "duration": 423,
    "start_time": "2023-09-06T18:55:02.673Z"
   },
   {
    "duration": 6,
    "start_time": "2023-09-06T18:55:03.097Z"
   },
   {
    "duration": 204,
    "start_time": "2023-09-06T18:55:03.104Z"
   },
   {
    "duration": 565,
    "start_time": "2023-09-06T18:55:03.311Z"
   },
   {
    "duration": 46,
    "start_time": "2023-09-06T18:55:03.878Z"
   },
   {
    "duration": 552,
    "start_time": "2023-09-06T18:55:03.926Z"
   },
   {
    "duration": 220,
    "start_time": "2023-09-06T18:55:04.480Z"
   },
   {
    "duration": 441,
    "start_time": "2023-09-06T18:55:04.701Z"
   },
   {
    "duration": 25,
    "start_time": "2023-09-06T18:55:05.143Z"
   },
   {
    "duration": 527,
    "start_time": "2023-09-06T18:55:05.170Z"
   },
   {
    "duration": 433,
    "start_time": "2023-09-06T18:55:50.769Z"
   },
   {
    "duration": 435,
    "start_time": "2023-09-06T18:58:18.932Z"
   },
   {
    "duration": 449,
    "start_time": "2023-09-06T18:58:32.717Z"
   },
   {
    "duration": 384,
    "start_time": "2023-09-06T18:58:42.853Z"
   },
   {
    "duration": 319,
    "start_time": "2023-09-06T18:58:53.505Z"
   },
   {
    "duration": 374,
    "start_time": "2023-09-06T18:59:00.466Z"
   },
   {
    "duration": 1388,
    "start_time": "2023-09-06T18:59:07.606Z"
   },
   {
    "duration": 915,
    "start_time": "2023-09-06T18:59:16.210Z"
   },
   {
    "duration": 207,
    "start_time": "2023-09-06T18:59:23.443Z"
   },
   {
    "duration": 172,
    "start_time": "2023-09-06T18:59:28.011Z"
   },
   {
    "duration": 212,
    "start_time": "2023-09-06T18:59:41.244Z"
   },
   {
    "duration": 33,
    "start_time": "2023-09-06T19:01:49.609Z"
   },
   {
    "duration": 87,
    "start_time": "2023-09-06T19:02:29.236Z"
   },
   {
    "duration": 51,
    "start_time": "2023-09-06T19:02:51.676Z"
   },
   {
    "duration": 112,
    "start_time": "2023-09-06T19:38:33.454Z"
   },
   {
    "duration": 21,
    "start_time": "2023-09-06T19:38:40.849Z"
   },
   {
    "duration": 21,
    "start_time": "2023-09-06T19:38:47.159Z"
   },
   {
    "duration": 10,
    "start_time": "2023-09-06T19:39:32.109Z"
   },
   {
    "duration": 64,
    "start_time": "2023-09-06T19:39:41.924Z"
   },
   {
    "duration": 1286,
    "start_time": "2023-09-06T19:40:29.813Z"
   },
   {
    "duration": 11,
    "start_time": "2023-09-06T19:42:11.066Z"
   },
   {
    "duration": 1564,
    "start_time": "2023-09-06T19:42:52.606Z"
   },
   {
    "duration": 840,
    "start_time": "2023-09-06T19:42:54.172Z"
   },
   {
    "duration": 18,
    "start_time": "2023-09-06T19:42:55.014Z"
   },
   {
    "duration": 151,
    "start_time": "2023-09-06T19:42:55.034Z"
   },
   {
    "duration": 471,
    "start_time": "2023-09-06T19:42:55.187Z"
   },
   {
    "duration": 539,
    "start_time": "2023-09-06T19:42:55.660Z"
   },
   {
    "duration": 44,
    "start_time": "2023-09-06T19:42:56.201Z"
   },
   {
    "duration": 98,
    "start_time": "2023-09-06T19:42:56.247Z"
   },
   {
    "duration": 10,
    "start_time": "2023-09-06T19:42:56.347Z"
   },
   {
    "duration": 70,
    "start_time": "2023-09-06T19:42:56.358Z"
   },
   {
    "duration": 262,
    "start_time": "2023-09-06T19:42:56.429Z"
   },
   {
    "duration": 31,
    "start_time": "2023-09-06T19:42:56.693Z"
   },
   {
    "duration": 35,
    "start_time": "2023-09-06T19:42:56.726Z"
   },
   {
    "duration": 36,
    "start_time": "2023-09-06T19:42:56.763Z"
   },
   {
    "duration": 53,
    "start_time": "2023-09-06T19:42:56.800Z"
   },
   {
    "duration": 48,
    "start_time": "2023-09-06T19:42:56.854Z"
   },
   {
    "duration": 38,
    "start_time": "2023-09-06T19:42:56.904Z"
   },
   {
    "duration": 116,
    "start_time": "2023-09-06T19:42:56.943Z"
   },
   {
    "duration": 95,
    "start_time": "2023-09-06T19:42:57.061Z"
   },
   {
    "duration": 96,
    "start_time": "2023-09-06T19:42:57.157Z"
   },
   {
    "duration": 1372,
    "start_time": "2023-09-06T19:42:57.255Z"
   },
   {
    "duration": 367,
    "start_time": "2023-09-06T19:42:58.629Z"
   },
   {
    "duration": 74,
    "start_time": "2023-09-06T19:42:58.997Z"
   },
   {
    "duration": 427,
    "start_time": "2023-09-06T19:42:59.072Z"
   },
   {
    "duration": 451,
    "start_time": "2023-09-06T19:42:59.500Z"
   },
   {
    "duration": 7,
    "start_time": "2023-09-06T19:42:59.953Z"
   },
   {
    "duration": 32,
    "start_time": "2023-09-06T19:42:59.962Z"
   },
   {
    "duration": 528,
    "start_time": "2023-09-06T19:42:59.996Z"
   },
   {
    "duration": 27,
    "start_time": "2023-09-06T19:43:00.526Z"
   },
   {
    "duration": 484,
    "start_time": "2023-09-06T19:43:00.555Z"
   },
   {
    "duration": 276,
    "start_time": "2023-09-06T19:43:01.040Z"
   },
   {
    "duration": 447,
    "start_time": "2023-09-06T19:43:01.318Z"
   },
   {
    "duration": 25,
    "start_time": "2023-09-06T19:43:01.767Z"
   },
   {
    "duration": 311,
    "start_time": "2023-09-06T19:43:01.794Z"
   },
   {
    "duration": 529,
    "start_time": "2023-09-06T19:43:02.107Z"
   },
   {
    "duration": 454,
    "start_time": "2023-09-06T19:43:02.637Z"
   },
   {
    "duration": 317,
    "start_time": "2023-09-06T19:43:03.092Z"
   },
   {
    "duration": 102,
    "start_time": "2023-09-06T19:43:03.411Z"
   },
   {
    "duration": 59,
    "start_time": "2023-09-06T19:43:03.523Z"
   },
   {
    "duration": 42,
    "start_time": "2023-09-06T19:43:03.584Z"
   },
   {
    "duration": 14,
    "start_time": "2023-09-06T19:43:03.630Z"
   },
   {
    "duration": 110,
    "start_time": "2023-09-06T19:43:03.646Z"
   },
   {
    "duration": 1160,
    "start_time": "2023-09-06T19:43:03.758Z"
   },
   {
    "duration": 604,
    "start_time": "2023-09-06T19:43:04.919Z"
   },
   {
    "duration": 6,
    "start_time": "2023-09-06T19:43:51.709Z"
   },
   {
    "duration": 4,
    "start_time": "2023-09-06T19:45:33.362Z"
   },
   {
    "duration": 4,
    "start_time": "2023-09-06T19:45:55.455Z"
   },
   {
    "duration": 4,
    "start_time": "2023-09-06T19:46:39.659Z"
   },
   {
    "duration": 3,
    "start_time": "2023-09-06T19:47:08.640Z"
   },
   {
    "duration": 188,
    "start_time": "2023-09-06T19:48:32.932Z"
   },
   {
    "duration": 1433,
    "start_time": "2023-09-06T19:49:02.650Z"
   },
   {
    "duration": 876,
    "start_time": "2023-09-06T19:49:04.086Z"
   },
   {
    "duration": 16,
    "start_time": "2023-09-06T19:49:04.963Z"
   },
   {
    "duration": 152,
    "start_time": "2023-09-06T19:49:04.980Z"
   },
   {
    "duration": 491,
    "start_time": "2023-09-06T19:49:05.134Z"
   },
   {
    "duration": 602,
    "start_time": "2023-09-06T19:49:05.626Z"
   },
   {
    "duration": 39,
    "start_time": "2023-09-06T19:49:06.229Z"
   },
   {
    "duration": 103,
    "start_time": "2023-09-06T19:49:06.270Z"
   },
   {
    "duration": 10,
    "start_time": "2023-09-06T19:49:06.375Z"
   },
   {
    "duration": 69,
    "start_time": "2023-09-06T19:49:06.387Z"
   },
   {
    "duration": 253,
    "start_time": "2023-09-06T19:49:06.458Z"
   },
   {
    "duration": 25,
    "start_time": "2023-09-06T19:49:06.713Z"
   },
   {
    "duration": 53,
    "start_time": "2023-09-06T19:49:06.740Z"
   },
   {
    "duration": 70,
    "start_time": "2023-09-06T19:49:06.796Z"
   },
   {
    "duration": 83,
    "start_time": "2023-09-06T19:49:06.867Z"
   },
   {
    "duration": 78,
    "start_time": "2023-09-06T19:49:06.951Z"
   },
   {
    "duration": 77,
    "start_time": "2023-09-06T19:49:07.031Z"
   },
   {
    "duration": 231,
    "start_time": "2023-09-06T19:49:07.109Z"
   },
   {
    "duration": 95,
    "start_time": "2023-09-06T19:49:07.342Z"
   },
   {
    "duration": 96,
    "start_time": "2023-09-06T19:49:07.438Z"
   },
   {
    "duration": 1334,
    "start_time": "2023-09-06T19:49:07.536Z"
   },
   {
    "duration": 442,
    "start_time": "2023-09-06T19:49:08.871Z"
   },
   {
    "duration": 80,
    "start_time": "2023-09-06T19:49:09.314Z"
   },
   {
    "duration": 367,
    "start_time": "2023-09-06T19:49:09.395Z"
   },
   {
    "duration": 434,
    "start_time": "2023-09-06T19:49:09.763Z"
   },
   {
    "duration": 7,
    "start_time": "2023-09-06T19:49:10.198Z"
   },
   {
    "duration": 66,
    "start_time": "2023-09-06T19:49:10.206Z"
   },
   {
    "duration": 486,
    "start_time": "2023-09-06T19:49:10.274Z"
   },
   {
    "duration": 26,
    "start_time": "2023-09-06T19:49:10.762Z"
   },
   {
    "duration": 444,
    "start_time": "2023-09-06T19:49:10.790Z"
   },
   {
    "duration": 285,
    "start_time": "2023-09-06T19:49:11.235Z"
   },
   {
    "duration": 445,
    "start_time": "2023-09-06T19:49:11.523Z"
   },
   {
    "duration": 23,
    "start_time": "2023-09-06T19:49:11.970Z"
   },
   {
    "duration": 290,
    "start_time": "2023-09-06T19:49:11.995Z"
   },
   {
    "duration": 432,
    "start_time": "2023-09-06T19:49:12.287Z"
   },
   {
    "duration": 569,
    "start_time": "2023-09-06T19:49:12.720Z"
   },
   {
    "duration": 207,
    "start_time": "2023-09-06T19:49:13.291Z"
   },
   {
    "duration": 97,
    "start_time": "2023-09-06T19:49:13.500Z"
   },
   {
    "duration": 60,
    "start_time": "2023-09-06T19:49:13.599Z"
   },
   {
    "duration": 28,
    "start_time": "2023-09-06T19:49:13.661Z"
   },
   {
    "duration": 31,
    "start_time": "2023-09-06T19:49:13.693Z"
   },
   {
    "duration": 71,
    "start_time": "2023-09-06T19:49:13.726Z"
   },
   {
    "duration": 1079,
    "start_time": "2023-09-06T19:49:13.799Z"
   },
   {
    "duration": 644,
    "start_time": "2023-09-06T19:49:14.880Z"
   },
   {
    "duration": 4,
    "start_time": "2023-09-06T19:49:15.526Z"
   },
   {
    "duration": 18,
    "start_time": "2023-09-06T19:49:15.532Z"
   },
   {
    "duration": 10,
    "start_time": "2023-09-06T19:49:15.552Z"
   },
   {
    "duration": 45565,
    "start_time": "2023-09-06T19:49:15.564Z"
   },
   {
    "duration": 913,
    "start_time": "2023-09-06T19:50:05.912Z"
   },
   {
    "duration": 118,
    "start_time": "2023-09-06T19:50:06.918Z"
   },
   {
    "duration": 1473,
    "start_time": "2023-09-06T19:57:10.588Z"
   },
   {
    "duration": 898,
    "start_time": "2023-09-06T19:57:12.063Z"
   },
   {
    "duration": 16,
    "start_time": "2023-09-06T19:57:12.963Z"
   },
   {
    "duration": 158,
    "start_time": "2023-09-06T19:57:12.982Z"
   },
   {
    "duration": 553,
    "start_time": "2023-09-06T19:57:13.142Z"
   },
   {
    "duration": 553,
    "start_time": "2023-09-06T19:57:13.697Z"
   },
   {
    "duration": 40,
    "start_time": "2023-09-06T19:57:14.252Z"
   },
   {
    "duration": 119,
    "start_time": "2023-09-06T19:57:14.294Z"
   },
   {
    "duration": 15,
    "start_time": "2023-09-06T19:57:14.415Z"
   },
   {
    "duration": 76,
    "start_time": "2023-09-06T19:57:14.433Z"
   },
   {
    "duration": 279,
    "start_time": "2023-09-06T19:57:14.511Z"
   },
   {
    "duration": 32,
    "start_time": "2023-09-06T19:57:14.792Z"
   },
   {
    "duration": 44,
    "start_time": "2023-09-06T19:57:14.827Z"
   },
   {
    "duration": 66,
    "start_time": "2023-09-06T19:57:14.873Z"
   },
   {
    "duration": 294,
    "start_time": "2023-09-06T19:57:14.941Z"
   },
   {
    "duration": 220,
    "start_time": "2023-09-06T19:57:15.237Z"
   },
   {
    "duration": 68,
    "start_time": "2023-09-06T19:57:15.459Z"
   },
   {
    "duration": 175,
    "start_time": "2023-09-06T19:57:15.529Z"
   },
   {
    "duration": 117,
    "start_time": "2023-09-06T19:57:15.706Z"
   },
   {
    "duration": 137,
    "start_time": "2023-09-06T19:57:15.826Z"
   },
   {
    "duration": 1505,
    "start_time": "2023-09-06T19:57:15.965Z"
   },
   {
    "duration": 461,
    "start_time": "2023-09-06T19:57:17.472Z"
   },
   {
    "duration": 75,
    "start_time": "2023-09-06T19:57:17.934Z"
   },
   {
    "duration": 412,
    "start_time": "2023-09-06T19:57:18.023Z"
   },
   {
    "duration": 563,
    "start_time": "2023-09-06T19:57:18.437Z"
   },
   {
    "duration": 6,
    "start_time": "2023-09-06T19:57:19.002Z"
   },
   {
    "duration": 39,
    "start_time": "2023-09-06T19:57:19.009Z"
   },
   {
    "duration": 474,
    "start_time": "2023-09-06T19:57:19.053Z"
   },
   {
    "duration": 27,
    "start_time": "2023-09-06T19:57:19.529Z"
   },
   {
    "duration": 472,
    "start_time": "2023-09-06T19:57:19.558Z"
   },
   {
    "duration": 341,
    "start_time": "2023-09-06T19:57:20.032Z"
   },
   {
    "duration": 551,
    "start_time": "2023-09-06T19:57:20.375Z"
   },
   {
    "duration": 29,
    "start_time": "2023-09-06T19:57:20.928Z"
   },
   {
    "duration": 319,
    "start_time": "2023-09-06T19:57:20.959Z"
   },
   {
    "duration": 555,
    "start_time": "2023-09-06T19:57:21.280Z"
   },
   {
    "duration": 653,
    "start_time": "2023-09-06T19:57:21.836Z"
   },
   {
    "duration": 257,
    "start_time": "2023-09-06T19:57:22.490Z"
   },
   {
    "duration": 109,
    "start_time": "2023-09-06T19:57:22.750Z"
   },
   {
    "duration": 130,
    "start_time": "2023-09-06T19:57:22.861Z"
   },
   {
    "duration": 92,
    "start_time": "2023-09-06T19:57:22.993Z"
   },
   {
    "duration": 74,
    "start_time": "2023-09-06T19:57:23.087Z"
   },
   {
    "duration": 313,
    "start_time": "2023-09-06T19:57:23.163Z"
   },
   {
    "duration": 1597,
    "start_time": "2023-09-06T19:57:23.478Z"
   },
   {
    "duration": 769,
    "start_time": "2023-09-06T19:57:25.076Z"
   },
   {
    "duration": 13,
    "start_time": "2023-09-06T19:57:25.848Z"
   },
   {
    "duration": 258,
    "start_time": "2023-09-06T19:57:25.863Z"
   },
   {
    "duration": 105,
    "start_time": "2023-09-06T19:57:26.123Z"
   },
   {
    "duration": 40595,
    "start_time": "2023-09-06T19:57:26.230Z"
   },
   {
    "duration": 898,
    "start_time": "2023-09-06T19:58:06.827Z"
   },
   {
    "duration": 7,
    "start_time": "2023-09-06T19:58:07.726Z"
   },
   {
    "duration": 189,
    "start_time": "2023-09-06T19:58:07.734Z"
   },
   {
    "duration": 99,
    "start_time": "2023-09-06T19:58:07.925Z"
   },
   {
    "duration": 186,
    "start_time": "2023-09-06T19:58:08.028Z"
   },
   {
    "duration": 322,
    "start_time": "2023-09-06T19:58:08.215Z"
   },
   {
    "duration": 154,
    "start_time": "2023-09-06T19:58:08.538Z"
   },
   {
    "duration": 1460,
    "start_time": "2023-09-06T19:59:07.907Z"
   },
   {
    "duration": 828,
    "start_time": "2023-09-06T19:59:09.368Z"
   },
   {
    "duration": 16,
    "start_time": "2023-09-06T19:59:10.198Z"
   },
   {
    "duration": 168,
    "start_time": "2023-09-06T19:59:10.224Z"
   },
   {
    "duration": 466,
    "start_time": "2023-09-06T19:59:10.395Z"
   },
   {
    "duration": 507,
    "start_time": "2023-09-06T19:59:10.863Z"
   },
   {
    "duration": 37,
    "start_time": "2023-09-06T19:59:11.372Z"
   },
   {
    "duration": 100,
    "start_time": "2023-09-06T19:59:11.411Z"
   },
   {
    "duration": 112,
    "start_time": "2023-09-06T19:59:11.513Z"
   },
   {
    "duration": 86,
    "start_time": "2023-09-06T19:59:11.627Z"
   },
   {
    "duration": 252,
    "start_time": "2023-09-06T19:59:11.715Z"
   },
   {
    "duration": 21,
    "start_time": "2023-09-06T19:59:11.969Z"
   },
   {
    "duration": 77,
    "start_time": "2023-09-06T19:59:11.992Z"
   },
   {
    "duration": 72,
    "start_time": "2023-09-06T19:59:12.072Z"
   },
   {
    "duration": 53,
    "start_time": "2023-09-06T19:59:12.145Z"
   },
   {
    "duration": 57,
    "start_time": "2023-09-06T19:59:12.199Z"
   },
   {
    "duration": 54,
    "start_time": "2023-09-06T19:59:12.258Z"
   },
   {
    "duration": 119,
    "start_time": "2023-09-06T19:59:12.313Z"
   },
   {
    "duration": 104,
    "start_time": "2023-09-06T19:59:12.433Z"
   },
   {
    "duration": 95,
    "start_time": "2023-09-06T19:59:12.539Z"
   },
   {
    "duration": 1376,
    "start_time": "2023-09-06T19:59:12.636Z"
   },
   {
    "duration": 441,
    "start_time": "2023-09-06T19:59:14.013Z"
   },
   {
    "duration": 83,
    "start_time": "2023-09-06T19:59:14.456Z"
   },
   {
    "duration": 365,
    "start_time": "2023-09-06T19:59:14.541Z"
   },
   {
    "duration": 441,
    "start_time": "2023-09-06T19:59:14.908Z"
   },
   {
    "duration": 6,
    "start_time": "2023-09-06T19:59:15.351Z"
   },
   {
    "duration": 40,
    "start_time": "2023-09-06T19:59:15.358Z"
   },
   {
    "duration": 463,
    "start_time": "2023-09-06T19:59:15.399Z"
   },
   {
    "duration": 30,
    "start_time": "2023-09-06T19:59:15.863Z"
   },
   {
    "duration": 501,
    "start_time": "2023-09-06T19:59:15.896Z"
   },
   {
    "duration": 279,
    "start_time": "2023-09-06T19:59:16.399Z"
   },
   {
    "duration": 455,
    "start_time": "2023-09-06T19:59:16.680Z"
   },
   {
    "duration": 25,
    "start_time": "2023-09-06T19:59:17.137Z"
   },
   {
    "duration": 301,
    "start_time": "2023-09-06T19:59:17.164Z"
   },
   {
    "duration": 436,
    "start_time": "2023-09-06T19:59:17.467Z"
   },
   {
    "duration": 568,
    "start_time": "2023-09-06T19:59:17.904Z"
   },
   {
    "duration": 215,
    "start_time": "2023-09-06T19:59:18.473Z"
   },
   {
    "duration": 91,
    "start_time": "2023-09-06T19:59:18.690Z"
   },
   {
    "duration": 74,
    "start_time": "2023-09-06T19:59:18.783Z"
   },
   {
    "duration": 30,
    "start_time": "2023-09-06T19:59:18.858Z"
   },
   {
    "duration": 17,
    "start_time": "2023-09-06T19:59:18.893Z"
   },
   {
    "duration": 94,
    "start_time": "2023-09-06T19:59:18.911Z"
   },
   {
    "duration": 1105,
    "start_time": "2023-09-06T19:59:19.007Z"
   },
   {
    "duration": 646,
    "start_time": "2023-09-06T19:59:20.114Z"
   },
   {
    "duration": 5,
    "start_time": "2023-09-06T19:59:20.762Z"
   },
   {
    "duration": 33,
    "start_time": "2023-09-06T19:59:20.768Z"
   },
   {
    "duration": 86,
    "start_time": "2023-09-06T19:59:20.803Z"
   },
   {
    "duration": 22635,
    "start_time": "2023-09-06T19:59:20.891Z"
   },
   {
    "duration": 897,
    "start_time": "2023-09-06T19:59:43.528Z"
   },
   {
    "duration": 7,
    "start_time": "2023-09-06T19:59:44.427Z"
   },
   {
    "duration": 158,
    "start_time": "2023-09-06T19:59:44.436Z"
   },
   {
    "duration": 10,
    "start_time": "2023-09-06T19:59:44.624Z"
   },
   {
    "duration": 96,
    "start_time": "2023-09-06T19:59:44.636Z"
   },
   {
    "duration": 95205,
    "start_time": "2023-09-06T19:59:44.824Z"
   },
   {
    "duration": 1000,
    "start_time": "2023-09-06T20:01:20.031Z"
   },
   {
    "duration": 435364,
    "start_time": "2023-09-06T20:01:21.033Z"
   },
   {
    "duration": 32033,
    "start_time": "2023-09-06T20:08:36.399Z"
   },
   {
    "duration": 178,
    "start_time": "2023-09-06T20:09:08.433Z"
   },
   {
    "duration": 12,
    "start_time": "2023-09-06T20:09:08.613Z"
   },
   {
    "duration": 443084,
    "start_time": "2023-09-06T20:09:08.627Z"
   },
   {
    "duration": 33180,
    "start_time": "2023-09-06T20:16:31.712Z"
   },
   {
    "duration": 84,
    "start_time": "2023-09-06T20:17:04.895Z"
   },
   {
    "duration": 6,
    "start_time": "2023-09-06T20:17:04.981Z"
   },
   {
    "duration": 204,
    "start_time": "2023-09-06T20:17:04.989Z"
   },
   {
    "duration": 88,
    "start_time": "2023-09-06T20:17:05.195Z"
   },
   {
    "duration": 5,
    "start_time": "2023-09-06T20:17:05.285Z"
   },
   {
    "duration": 696544,
    "start_time": "2023-09-06T20:17:05.291Z"
   },
   {
    "duration": 15090,
    "start_time": "2023-09-06T20:28:41.837Z"
   },
   {
    "duration": 1110,
    "start_time": "2023-09-06T20:28:56.929Z"
   },
   {
    "duration": 10,
    "start_time": "2023-09-06T20:28:58.041Z"
   },
   {
    "duration": 455887,
    "start_time": "2023-09-06T20:28:58.053Z"
   },
   {
    "duration": 7410,
    "start_time": "2023-09-06T20:36:34.024Z"
   },
   {
    "duration": 612,
    "start_time": "2023-09-06T20:36:41.436Z"
   },
   {
    "duration": 75,
    "start_time": "2023-09-06T20:36:42.050Z"
   },
   {
    "duration": 1712,
    "start_time": "2023-09-07T16:58:29.697Z"
   },
   {
    "duration": 1111,
    "start_time": "2023-09-07T16:58:31.411Z"
   },
   {
    "duration": 18,
    "start_time": "2023-09-07T16:58:32.524Z"
   },
   {
    "duration": 142,
    "start_time": "2023-09-07T16:58:32.543Z"
   },
   {
    "duration": 447,
    "start_time": "2023-09-07T16:58:32.688Z"
   },
   {
    "duration": 447,
    "start_time": "2023-09-07T16:58:33.137Z"
   },
   {
    "duration": 34,
    "start_time": "2023-09-07T16:58:33.585Z"
   },
   {
    "duration": 99,
    "start_time": "2023-09-07T16:58:33.621Z"
   },
   {
    "duration": 17,
    "start_time": "2023-09-07T16:58:33.721Z"
   },
   {
    "duration": 55,
    "start_time": "2023-09-07T16:58:33.739Z"
   },
   {
    "duration": 258,
    "start_time": "2023-09-07T16:58:33.795Z"
   },
   {
    "duration": 21,
    "start_time": "2023-09-07T16:58:34.055Z"
   },
   {
    "duration": 44,
    "start_time": "2023-09-07T16:58:34.077Z"
   },
   {
    "duration": 44,
    "start_time": "2023-09-07T16:58:34.123Z"
   },
   {
    "duration": 35,
    "start_time": "2023-09-07T16:58:34.168Z"
   },
   {
    "duration": 51,
    "start_time": "2023-09-07T16:58:34.205Z"
   },
   {
    "duration": 29,
    "start_time": "2023-09-07T16:58:34.257Z"
   },
   {
    "duration": 111,
    "start_time": "2023-09-07T16:58:34.288Z"
   },
   {
    "duration": 92,
    "start_time": "2023-09-07T16:58:34.401Z"
   },
   {
    "duration": 129,
    "start_time": "2023-09-07T16:58:34.495Z"
   },
   {
    "duration": 1285,
    "start_time": "2023-09-07T16:58:34.634Z"
   },
   {
    "duration": 433,
    "start_time": "2023-09-07T16:58:35.920Z"
   },
   {
    "duration": 70,
    "start_time": "2023-09-07T16:58:36.354Z"
   },
   {
    "duration": 359,
    "start_time": "2023-09-07T16:58:36.425Z"
   },
   {
    "duration": 401,
    "start_time": "2023-09-07T16:58:36.786Z"
   },
   {
    "duration": 7,
    "start_time": "2023-09-07T16:58:37.189Z"
   },
   {
    "duration": 57,
    "start_time": "2023-09-07T16:58:37.197Z"
   },
   {
    "duration": 393,
    "start_time": "2023-09-07T16:58:37.255Z"
   },
   {
    "duration": 27,
    "start_time": "2023-09-07T16:58:37.649Z"
   },
   {
    "duration": 412,
    "start_time": "2023-09-07T16:58:37.678Z"
   },
   {
    "duration": 271,
    "start_time": "2023-09-07T16:58:38.092Z"
   },
   {
    "duration": 424,
    "start_time": "2023-09-07T16:58:38.364Z"
   },
   {
    "duration": 23,
    "start_time": "2023-09-07T16:58:38.789Z"
   },
   {
    "duration": 260,
    "start_time": "2023-09-07T16:58:38.814Z"
   },
   {
    "duration": 407,
    "start_time": "2023-09-07T16:58:39.076Z"
   },
   {
    "duration": 541,
    "start_time": "2023-09-07T16:58:39.485Z"
   },
   {
    "duration": 225,
    "start_time": "2023-09-07T16:58:40.028Z"
   },
   {
    "duration": 91,
    "start_time": "2023-09-07T16:58:40.255Z"
   },
   {
    "duration": 139,
    "start_time": "2023-09-07T16:58:40.347Z"
   },
   {
    "duration": 29,
    "start_time": "2023-09-07T16:58:40.488Z"
   },
   {
    "duration": 23,
    "start_time": "2023-09-07T16:58:40.521Z"
   },
   {
    "duration": 64,
    "start_time": "2023-09-07T16:58:40.545Z"
   },
   {
    "duration": 1073,
    "start_time": "2023-09-07T16:58:40.611Z"
   },
   {
    "duration": 591,
    "start_time": "2023-09-07T16:58:41.686Z"
   },
   {
    "duration": 3,
    "start_time": "2023-09-07T16:58:42.279Z"
   },
   {
    "duration": 7,
    "start_time": "2023-09-07T16:58:42.284Z"
   },
   {
    "duration": 5,
    "start_time": "2023-09-07T16:58:42.292Z"
   },
   {
    "duration": 21039,
    "start_time": "2023-09-07T16:58:42.298Z"
   },
   {
    "duration": 898,
    "start_time": "2023-09-07T16:59:03.339Z"
   },
   {
    "duration": 8,
    "start_time": "2023-09-07T16:59:04.239Z"
   },
   {
    "duration": 152,
    "start_time": "2023-09-07T16:59:04.249Z"
   },
   {
    "duration": 40,
    "start_time": "2023-09-07T16:59:04.402Z"
   },
   {
    "duration": 95,
    "start_time": "2023-09-07T16:59:04.446Z"
   },
   {
    "duration": 87093,
    "start_time": "2023-09-07T16:59:04.543Z"
   },
   {
    "duration": 1201,
    "start_time": "2023-09-07T17:00:31.639Z"
   },
   {
    "duration": 412553,
    "start_time": "2023-09-07T17:00:32.842Z"
   },
   {
    "duration": 31194,
    "start_time": "2023-09-07T17:07:25.397Z"
   },
   {
    "duration": 166,
    "start_time": "2023-09-07T17:07:56.593Z"
   },
   {
    "duration": 4,
    "start_time": "2023-09-07T17:07:56.761Z"
   },
   {
    "duration": 416114,
    "start_time": "2023-09-07T17:07:56.767Z"
   },
   {
    "duration": 32714,
    "start_time": "2023-09-07T17:14:52.882Z"
   },
   {
    "duration": 96,
    "start_time": "2023-09-07T17:15:25.598Z"
   },
   {
    "duration": 5,
    "start_time": "2023-09-07T17:15:25.695Z"
   },
   {
    "duration": 4050,
    "start_time": "2023-09-07T17:15:25.701Z"
   },
   {
    "duration": 152,
    "start_time": "2023-09-07T17:15:29.752Z"
   },
   {
    "duration": 14,
    "start_time": "2023-09-07T17:15:29.906Z"
   },
   {
    "duration": 657121,
    "start_time": "2023-09-07T17:15:29.922Z"
   },
   {
    "duration": 19012,
    "start_time": "2023-09-07T17:26:27.044Z"
   },
   {
    "duration": 1184,
    "start_time": "2023-09-07T17:26:46.057Z"
   },
   {
    "duration": 5,
    "start_time": "2023-09-07T17:26:47.242Z"
   },
   {
    "duration": 461487,
    "start_time": "2023-09-07T17:26:47.249Z"
   },
   {
    "duration": 7715,
    "start_time": "2023-09-07T17:34:28.737Z"
   },
   {
    "duration": 589,
    "start_time": "2023-09-07T17:34:36.453Z"
   },
   {
    "duration": 4,
    "start_time": "2023-09-07T17:34:37.044Z"
   },
   {
    "duration": 104,
    "start_time": "2023-09-07T17:53:50.746Z"
   },
   {
    "duration": 61910,
    "start_time": "2023-09-07T17:55:08.636Z"
   },
   {
    "duration": 2433,
    "start_time": "2023-09-07T17:56:18.688Z"
   },
   {
    "duration": 5303,
    "start_time": "2023-09-07T17:56:33.692Z"
   },
   {
    "duration": 140,
    "start_time": "2023-09-09T07:18:32.602Z"
   },
   {
    "duration": 1631,
    "start_time": "2023-09-09T07:24:16.059Z"
   },
   {
    "duration": 1143,
    "start_time": "2023-09-09T07:24:17.692Z"
   },
   {
    "duration": 16,
    "start_time": "2023-09-09T07:24:18.836Z"
   },
   {
    "duration": 161,
    "start_time": "2023-09-09T07:24:18.854Z"
   },
   {
    "duration": 429,
    "start_time": "2023-09-09T07:24:19.017Z"
   },
   {
    "duration": 471,
    "start_time": "2023-09-09T07:24:19.447Z"
   },
   {
    "duration": 36,
    "start_time": "2023-09-09T07:24:19.920Z"
   },
   {
    "duration": 241,
    "start_time": "2023-09-09T07:24:19.957Z"
   },
   {
    "duration": 48,
    "start_time": "2023-09-09T07:24:20.200Z"
   },
   {
    "duration": 94,
    "start_time": "2023-09-09T07:24:20.251Z"
   },
   {
    "duration": 256,
    "start_time": "2023-09-09T07:24:20.347Z"
   },
   {
    "duration": 28,
    "start_time": "2023-09-09T07:24:20.604Z"
   },
   {
    "duration": 61,
    "start_time": "2023-09-09T07:24:20.634Z"
   },
   {
    "duration": 72,
    "start_time": "2023-09-09T07:24:20.696Z"
   },
   {
    "duration": 50,
    "start_time": "2023-09-09T07:24:20.769Z"
   },
   {
    "duration": 48,
    "start_time": "2023-09-09T07:24:20.821Z"
   },
   {
    "duration": 27,
    "start_time": "2023-09-09T07:24:20.871Z"
   },
   {
    "duration": 169,
    "start_time": "2023-09-09T07:24:20.900Z"
   },
   {
    "duration": 121,
    "start_time": "2023-09-09T07:24:21.071Z"
   },
   {
    "duration": 99,
    "start_time": "2023-09-09T07:24:21.194Z"
   },
   {
    "duration": 1329,
    "start_time": "2023-09-09T07:24:21.295Z"
   },
   {
    "duration": 470,
    "start_time": "2023-09-09T07:24:22.625Z"
   },
   {
    "duration": 76,
    "start_time": "2023-09-09T07:24:23.096Z"
   },
   {
    "duration": 389,
    "start_time": "2023-09-09T07:24:23.174Z"
   },
   {
    "duration": 444,
    "start_time": "2023-09-09T07:24:23.564Z"
   },
   {
    "duration": 6,
    "start_time": "2023-09-09T07:24:24.009Z"
   },
   {
    "duration": 179,
    "start_time": "2023-09-09T07:24:24.025Z"
   },
   {
    "duration": 636,
    "start_time": "2023-09-09T07:24:24.207Z"
   },
   {
    "duration": 24,
    "start_time": "2023-09-09T07:24:24.845Z"
   },
   {
    "duration": 480,
    "start_time": "2023-09-09T07:24:24.871Z"
   },
   {
    "duration": 279,
    "start_time": "2023-09-09T07:24:25.353Z"
   },
   {
    "duration": 518,
    "start_time": "2023-09-09T07:24:25.634Z"
   },
   {
    "duration": 25,
    "start_time": "2023-09-09T07:24:26.154Z"
   },
   {
    "duration": 279,
    "start_time": "2023-09-09T07:24:26.181Z"
   },
   {
    "duration": 452,
    "start_time": "2023-09-09T07:24:26.462Z"
   },
   {
    "duration": 576,
    "start_time": "2023-09-09T07:24:26.916Z"
   },
   {
    "duration": 212,
    "start_time": "2023-09-09T07:24:27.494Z"
   },
   {
    "duration": 94,
    "start_time": "2023-09-09T07:24:27.707Z"
   },
   {
    "duration": 60,
    "start_time": "2023-09-09T07:24:27.803Z"
   },
   {
    "duration": 29,
    "start_time": "2023-09-09T07:24:27.865Z"
   },
   {
    "duration": 30,
    "start_time": "2023-09-09T07:24:27.895Z"
   },
   {
    "duration": 75,
    "start_time": "2023-09-09T07:24:27.928Z"
   },
   {
    "duration": 1148,
    "start_time": "2023-09-09T07:24:28.005Z"
   },
   {
    "duration": 652,
    "start_time": "2023-09-09T07:24:29.155Z"
   },
   {
    "duration": 3,
    "start_time": "2023-09-09T07:24:29.809Z"
   },
   {
    "duration": 4,
    "start_time": "2023-09-09T07:24:29.824Z"
   },
   {
    "duration": 4,
    "start_time": "2023-09-09T07:24:29.830Z"
   },
   {
    "duration": 28596,
    "start_time": "2023-09-09T07:24:29.835Z"
   },
   {
    "duration": 193,
    "start_time": "2023-09-09T07:24:58.433Z"
   },
   {
    "duration": 112396,
    "start_time": "2023-09-09T07:24:58.630Z"
   },
   {
    "duration": 937,
    "start_time": "2023-09-09T07:26:51.027Z"
   },
   {
    "duration": 159,
    "start_time": "2023-09-09T07:26:51.966Z"
   },
   {
    "duration": 0,
    "start_time": "2023-09-09T07:26:52.127Z"
   },
   {
    "duration": 0,
    "start_time": "2023-09-09T07:26:52.128Z"
   },
   {
    "duration": 0,
    "start_time": "2023-09-09T07:26:52.129Z"
   },
   {
    "duration": 0,
    "start_time": "2023-09-09T07:26:52.130Z"
   },
   {
    "duration": 0,
    "start_time": "2023-09-09T07:26:52.131Z"
   },
   {
    "duration": 0,
    "start_time": "2023-09-09T07:26:52.132Z"
   },
   {
    "duration": 0,
    "start_time": "2023-09-09T07:26:52.133Z"
   },
   {
    "duration": 0,
    "start_time": "2023-09-09T07:26:52.134Z"
   },
   {
    "duration": 0,
    "start_time": "2023-09-09T07:26:52.135Z"
   },
   {
    "duration": 0,
    "start_time": "2023-09-09T07:26:52.136Z"
   },
   {
    "duration": 0,
    "start_time": "2023-09-09T07:26:52.137Z"
   },
   {
    "duration": 0,
    "start_time": "2023-09-09T07:26:52.138Z"
   },
   {
    "duration": 0,
    "start_time": "2023-09-09T07:26:52.139Z"
   },
   {
    "duration": 441259,
    "start_time": "2023-09-09T07:28:59.467Z"
   },
   {
    "duration": 439754,
    "start_time": "2023-09-09T07:38:04.356Z"
   },
   {
    "duration": 34151,
    "start_time": "2023-09-09T07:50:11.686Z"
   },
   {
    "duration": 447060,
    "start_time": "2023-09-09T07:53:08.262Z"
   },
   {
    "duration": 33269,
    "start_time": "2023-09-09T08:05:10.026Z"
   },
   {
    "duration": 1977,
    "start_time": "2023-09-09T08:06:49.851Z"
   },
   {
    "duration": 12,
    "start_time": "2023-09-09T08:10:10.142Z"
   },
   {
    "duration": 4120,
    "start_time": "2023-09-09T08:11:35.212Z"
   },
   {
    "duration": 107,
    "start_time": "2023-09-09T08:31:26.006Z"
   },
   {
    "duration": 1628,
    "start_time": "2023-09-09T08:42:26.346Z"
   },
   {
    "duration": 954,
    "start_time": "2023-09-09T08:42:27.976Z"
   },
   {
    "duration": 17,
    "start_time": "2023-09-09T08:42:28.932Z"
   },
   {
    "duration": 148,
    "start_time": "2023-09-09T08:42:28.951Z"
   },
   {
    "duration": 518,
    "start_time": "2023-09-09T08:42:29.102Z"
   },
   {
    "duration": 515,
    "start_time": "2023-09-09T08:42:29.621Z"
   },
   {
    "duration": 37,
    "start_time": "2023-09-09T08:42:30.138Z"
   },
   {
    "duration": 208,
    "start_time": "2023-09-09T08:42:30.176Z"
   },
   {
    "duration": 308,
    "start_time": "2023-09-09T08:42:30.387Z"
   },
   {
    "duration": 112,
    "start_time": "2023-09-09T08:42:30.696Z"
   },
   {
    "duration": 318,
    "start_time": "2023-09-09T08:42:30.810Z"
   },
   {
    "duration": 23,
    "start_time": "2023-09-09T08:42:31.130Z"
   },
   {
    "duration": 54,
    "start_time": "2023-09-09T08:42:31.155Z"
   },
   {
    "duration": 52,
    "start_time": "2023-09-09T08:42:31.213Z"
   },
   {
    "duration": 98,
    "start_time": "2023-09-09T08:42:31.267Z"
   },
   {
    "duration": 46,
    "start_time": "2023-09-09T08:42:31.366Z"
   },
   {
    "duration": 59,
    "start_time": "2023-09-09T08:42:31.414Z"
   },
   {
    "duration": 67,
    "start_time": "2023-09-09T08:42:31.474Z"
   },
   {
    "duration": 84,
    "start_time": "2023-09-09T08:42:31.543Z"
   },
   {
    "duration": 128,
    "start_time": "2023-09-09T08:42:31.630Z"
   },
   {
    "duration": 107,
    "start_time": "2023-09-09T08:42:31.760Z"
   },
   {
    "duration": 142,
    "start_time": "2023-09-09T08:42:31.869Z"
   },
   {
    "duration": 1491,
    "start_time": "2023-09-09T08:42:32.013Z"
   },
   {
    "duration": 465,
    "start_time": "2023-09-09T08:42:33.505Z"
   },
   {
    "duration": 86,
    "start_time": "2023-09-09T08:42:33.972Z"
   },
   {
    "duration": 440,
    "start_time": "2023-09-09T08:42:34.060Z"
   },
   {
    "duration": 567,
    "start_time": "2023-09-09T08:42:34.502Z"
   },
   {
    "duration": 8,
    "start_time": "2023-09-09T08:42:35.071Z"
   },
   {
    "duration": 48,
    "start_time": "2023-09-09T08:42:35.081Z"
   },
   {
    "duration": 536,
    "start_time": "2023-09-09T08:42:35.131Z"
   },
   {
    "duration": 28,
    "start_time": "2023-09-09T08:42:35.669Z"
   },
   {
    "duration": 656,
    "start_time": "2023-09-09T08:42:35.699Z"
   },
   {
    "duration": 367,
    "start_time": "2023-09-09T08:42:36.357Z"
   },
   {
    "duration": 502,
    "start_time": "2023-09-09T08:42:36.726Z"
   },
   {
    "duration": 28,
    "start_time": "2023-09-09T08:42:37.230Z"
   },
   {
    "duration": 296,
    "start_time": "2023-09-09T08:42:37.260Z"
   },
   {
    "duration": 467,
    "start_time": "2023-09-09T08:42:37.558Z"
   },
   {
    "duration": 561,
    "start_time": "2023-09-09T08:42:38.027Z"
   },
   {
    "duration": 216,
    "start_time": "2023-09-09T08:42:38.590Z"
   },
   {
    "duration": 94,
    "start_time": "2023-09-09T08:42:38.808Z"
   },
   {
    "duration": 64,
    "start_time": "2023-09-09T08:42:38.907Z"
   },
   {
    "duration": 30,
    "start_time": "2023-09-09T08:42:38.972Z"
   },
   {
    "duration": 33,
    "start_time": "2023-09-09T08:42:39.004Z"
   },
   {
    "duration": 86,
    "start_time": "2023-09-09T08:42:39.039Z"
   },
   {
    "duration": 1153,
    "start_time": "2023-09-09T08:42:39.126Z"
   },
   {
    "duration": 651,
    "start_time": "2023-09-09T08:42:40.281Z"
   },
   {
    "duration": 6,
    "start_time": "2023-09-09T08:42:40.934Z"
   },
   {
    "duration": 19,
    "start_time": "2023-09-09T08:42:40.942Z"
   },
   {
    "duration": 22,
    "start_time": "2023-09-09T08:42:40.962Z"
   },
   {
    "duration": 26549,
    "start_time": "2023-09-09T08:42:40.986Z"
   },
   {
    "duration": 286,
    "start_time": "2023-09-09T08:43:07.537Z"
   },
   {
    "duration": 154508,
    "start_time": "2023-09-09T08:43:07.826Z"
   },
   {
    "duration": 898,
    "start_time": "2023-09-09T08:45:42.428Z"
   },
   {
    "duration": 1559,
    "start_time": "2023-09-09T08:48:53.280Z"
   },
   {
    "duration": 935,
    "start_time": "2023-09-09T08:48:54.841Z"
   },
   {
    "duration": 19,
    "start_time": "2023-09-09T08:48:55.778Z"
   },
   {
    "duration": 273,
    "start_time": "2023-09-09T08:48:55.799Z"
   },
   {
    "duration": 507,
    "start_time": "2023-09-09T08:48:56.075Z"
   },
   {
    "duration": 551,
    "start_time": "2023-09-09T08:48:56.584Z"
   },
   {
    "duration": 32,
    "start_time": "2023-09-09T08:48:57.139Z"
   },
   {
    "duration": 111,
    "start_time": "2023-09-09T08:48:57.173Z"
   },
   {
    "duration": 10,
    "start_time": "2023-09-09T08:48:57.285Z"
   },
   {
    "duration": 74,
    "start_time": "2023-09-09T08:48:57.296Z"
   },
   {
    "duration": 263,
    "start_time": "2023-09-09T08:48:57.372Z"
   },
   {
    "duration": 24,
    "start_time": "2023-09-09T08:48:57.636Z"
   },
   {
    "duration": 76,
    "start_time": "2023-09-09T08:48:57.661Z"
   },
   {
    "duration": 35,
    "start_time": "2023-09-09T08:48:57.741Z"
   },
   {
    "duration": 73,
    "start_time": "2023-09-09T08:48:57.777Z"
   },
   {
    "duration": 21,
    "start_time": "2023-09-09T08:48:57.852Z"
   },
   {
    "duration": 53,
    "start_time": "2023-09-09T08:48:57.875Z"
   },
   {
    "duration": 82,
    "start_time": "2023-09-09T08:48:57.930Z"
   },
   {
    "duration": 40,
    "start_time": "2023-09-09T08:48:58.014Z"
   },
   {
    "duration": 144,
    "start_time": "2023-09-09T08:48:58.055Z"
   },
   {
    "duration": 106,
    "start_time": "2023-09-09T08:48:58.201Z"
   },
   {
    "duration": 102,
    "start_time": "2023-09-09T08:48:58.309Z"
   },
   {
    "duration": 1425,
    "start_time": "2023-09-09T08:48:58.432Z"
   },
   {
    "duration": 476,
    "start_time": "2023-09-09T08:48:59.858Z"
   },
   {
    "duration": 95,
    "start_time": "2023-09-09T08:49:00.337Z"
   },
   {
    "duration": 402,
    "start_time": "2023-09-09T08:49:00.438Z"
   },
   {
    "duration": 524,
    "start_time": "2023-09-09T08:49:00.841Z"
   },
   {
    "duration": 6,
    "start_time": "2023-09-09T08:49:01.367Z"
   },
   {
    "duration": 73,
    "start_time": "2023-09-09T08:49:01.375Z"
   },
   {
    "duration": 646,
    "start_time": "2023-09-09T08:49:01.450Z"
   },
   {
    "duration": 41,
    "start_time": "2023-09-09T08:49:02.098Z"
   },
   {
    "duration": 499,
    "start_time": "2023-09-09T08:49:02.141Z"
   },
   {
    "duration": 302,
    "start_time": "2023-09-09T08:49:02.642Z"
   },
   {
    "duration": 462,
    "start_time": "2023-09-09T08:49:02.946Z"
   },
   {
    "duration": 39,
    "start_time": "2023-09-09T08:49:03.410Z"
   },
   {
    "duration": 417,
    "start_time": "2023-09-09T08:49:03.450Z"
   },
   {
    "duration": 482,
    "start_time": "2023-09-09T08:49:03.869Z"
   },
   {
    "duration": 571,
    "start_time": "2023-09-09T08:49:04.353Z"
   },
   {
    "duration": 218,
    "start_time": "2023-09-09T08:49:04.928Z"
   },
   {
    "duration": 102,
    "start_time": "2023-09-09T08:49:05.148Z"
   },
   {
    "duration": 53,
    "start_time": "2023-09-09T08:49:05.254Z"
   },
   {
    "duration": 30,
    "start_time": "2023-09-09T08:49:05.334Z"
   },
   {
    "duration": 22,
    "start_time": "2023-09-09T08:49:05.367Z"
   },
   {
    "duration": 127,
    "start_time": "2023-09-09T08:49:05.390Z"
   },
   {
    "duration": 1182,
    "start_time": "2023-09-09T08:49:05.519Z"
   },
   {
    "duration": 660,
    "start_time": "2023-09-09T08:49:06.703Z"
   },
   {
    "duration": 3,
    "start_time": "2023-09-09T08:49:07.365Z"
   },
   {
    "duration": 10,
    "start_time": "2023-09-09T08:49:07.369Z"
   },
   {
    "duration": 7,
    "start_time": "2023-09-09T08:49:07.381Z"
   },
   {
    "duration": 41142,
    "start_time": "2023-09-09T08:49:07.389Z"
   },
   {
    "duration": 202,
    "start_time": "2023-09-09T08:49:48.533Z"
   },
   {
    "duration": 121289,
    "start_time": "2023-09-09T08:49:48.742Z"
   },
   {
    "duration": 1033,
    "start_time": "2023-09-09T08:51:50.033Z"
   },
   {
    "duration": 443525,
    "start_time": "2023-09-09T08:51:51.125Z"
   },
   {
    "duration": 33653,
    "start_time": "2023-09-09T08:59:14.652Z"
   },
   {
    "duration": 432366,
    "start_time": "2023-09-09T08:59:48.307Z"
   },
   {
    "duration": 33245,
    "start_time": "2023-09-09T09:07:00.675Z"
   },
   {
    "duration": 2158,
    "start_time": "2023-09-09T09:07:33.922Z"
   },
   {
    "duration": 4590,
    "start_time": "2023-09-09T09:07:36.082Z"
   },
   {
    "duration": 0,
    "start_time": "2023-09-09T09:07:40.674Z"
   },
   {
    "duration": 0,
    "start_time": "2023-09-09T09:07:40.675Z"
   },
   {
    "duration": 0,
    "start_time": "2023-09-09T09:07:40.677Z"
   },
   {
    "duration": 0,
    "start_time": "2023-09-09T09:07:40.678Z"
   },
   {
    "duration": 0,
    "start_time": "2023-09-09T09:07:40.679Z"
   },
   {
    "duration": 0,
    "start_time": "2023-09-09T09:07:40.680Z"
   },
   {
    "duration": 0,
    "start_time": "2023-09-09T09:07:40.681Z"
   },
   {
    "duration": 0,
    "start_time": "2023-09-09T09:07:40.683Z"
   },
   {
    "duration": 0,
    "start_time": "2023-09-09T09:07:40.685Z"
   },
   {
    "duration": 145816,
    "start_time": "2023-09-09T09:07:59.345Z"
   },
   {
    "duration": 5165,
    "start_time": "2023-09-09T09:11:08.369Z"
   },
   {
    "duration": 5311,
    "start_time": "2023-09-09T09:19:19.440Z"
   },
   {
    "duration": 5278,
    "start_time": "2023-09-09T09:19:38.520Z"
   },
   {
    "duration": 148,
    "start_time": "2023-09-09T09:20:10.939Z"
   },
   {
    "duration": 188,
    "start_time": "2023-09-09T09:23:10.020Z"
   },
   {
    "duration": 148,
    "start_time": "2023-09-09T09:23:25.798Z"
   },
   {
    "duration": 102,
    "start_time": "2023-09-09T09:25:00.017Z"
   },
   {
    "duration": 103,
    "start_time": "2023-09-09T09:25:59.838Z"
   },
   {
    "duration": 104,
    "start_time": "2023-09-09T09:26:59.151Z"
   },
   {
    "duration": 663719,
    "start_time": "2023-09-09T09:27:07.116Z"
   },
   {
    "duration": 65896,
    "start_time": "2023-09-09T09:39:44.051Z"
   },
   {
    "duration": 841453,
    "start_time": "2023-09-09T09:41:09.682Z"
   },
   {
    "duration": 8840,
    "start_time": "2023-09-09T09:58:58.890Z"
   },
   {
    "duration": 102,
    "start_time": "2023-09-09T10:04:34.328Z"
   },
   {
    "duration": 28,
    "start_time": "2023-09-09T10:05:12.236Z"
   },
   {
    "duration": 3353,
    "start_time": "2023-09-09T10:05:13.246Z"
   },
   {
    "duration": 87,
    "start_time": "2023-09-09T10:20:15.408Z"
   },
   {
    "duration": 126,
    "start_time": "2023-09-09T10:20:37.420Z"
   },
   {
    "duration": 526020,
    "start_time": "2023-09-09T10:22:13.206Z"
   },
   {
    "duration": 2,
    "start_time": "2023-09-09T10:30:59.228Z"
   },
   {
    "duration": 299,
    "start_time": "2023-09-09T10:33:00.380Z"
   },
   {
    "duration": 4911,
    "start_time": "2023-09-09T10:33:38.032Z"
   },
   {
    "duration": 4858,
    "start_time": "2023-09-09T10:36:14.722Z"
   },
   {
    "duration": 5329,
    "start_time": "2023-09-09T10:37:21.499Z"
   },
   {
    "duration": 3,
    "start_time": "2023-09-09T10:37:59.986Z"
   },
   {
    "duration": 5162,
    "start_time": "2023-09-09T10:38:01.890Z"
   },
   {
    "duration": 4773,
    "start_time": "2023-09-09T10:38:40.461Z"
   },
   {
    "duration": 63775,
    "start_time": "2023-09-09T10:39:35.803Z"
   },
   {
    "duration": 3554,
    "start_time": "2023-09-09T10:43:01.290Z"
   },
   {
    "duration": 10,
    "start_time": "2023-09-09T10:59:25.062Z"
   },
   {
    "duration": 2,
    "start_time": "2023-09-09T10:59:52.212Z"
   },
   {
    "duration": 3,
    "start_time": "2023-09-09T10:59:52.993Z"
   },
   {
    "duration": 12,
    "start_time": "2023-09-09T11:00:51.242Z"
   },
   {
    "duration": 31,
    "start_time": "2023-09-09T11:01:32.170Z"
   },
   {
    "duration": 82,
    "start_time": "2023-09-09T11:04:53.908Z"
   },
   {
    "duration": 3,
    "start_time": "2023-09-09T11:05:35.444Z"
   },
   {
    "duration": 113,
    "start_time": "2023-09-09T11:05:37.940Z"
   },
   {
    "duration": 4,
    "start_time": "2023-09-09T11:05:59.231Z"
   },
   {
    "duration": 136,
    "start_time": "2023-09-09T11:05:59.887Z"
   },
   {
    "duration": 123,
    "start_time": "2023-09-09T11:06:48.748Z"
   },
   {
    "duration": 815946,
    "start_time": "2023-09-09T11:07:05.990Z"
   },
   {
    "duration": 39561,
    "start_time": "2023-09-09T11:20:51.476Z"
   },
   {
    "duration": 149,
    "start_time": "2023-09-09T11:21:48.998Z"
   },
   {
    "duration": 1021,
    "start_time": "2023-09-09T11:22:00.609Z"
   },
   {
    "duration": 11,
    "start_time": "2023-09-09T11:22:24.322Z"
   },
   {
    "duration": 4,
    "start_time": "2023-09-09T11:22:34.036Z"
   },
   {
    "duration": 11,
    "start_time": "2023-09-09T11:33:25.007Z"
   },
   {
    "duration": 12,
    "start_time": "2023-09-09T11:34:03.187Z"
   },
   {
    "duration": 12,
    "start_time": "2023-09-09T11:34:29.534Z"
   },
   {
    "duration": 13,
    "start_time": "2023-09-09T11:35:24.132Z"
   },
   {
    "duration": 12,
    "start_time": "2023-09-09T11:36:41.055Z"
   },
   {
    "duration": 1788,
    "start_time": "2023-09-10T06:16:27.963Z"
   },
   {
    "duration": 1296,
    "start_time": "2023-09-10T06:16:29.753Z"
   },
   {
    "duration": 20,
    "start_time": "2023-09-10T06:16:31.051Z"
   },
   {
    "duration": 213,
    "start_time": "2023-09-10T06:16:31.073Z"
   },
   {
    "duration": 551,
    "start_time": "2023-09-10T06:16:31.287Z"
   },
   {
    "duration": 563,
    "start_time": "2023-09-10T06:16:31.840Z"
   },
   {
    "duration": 45,
    "start_time": "2023-09-10T06:16:32.405Z"
   },
   {
    "duration": 190,
    "start_time": "2023-09-10T06:16:32.453Z"
   },
   {
    "duration": 15,
    "start_time": "2023-09-10T06:16:32.645Z"
   },
   {
    "duration": 93,
    "start_time": "2023-09-10T06:16:32.664Z"
   },
   {
    "duration": 310,
    "start_time": "2023-09-10T06:16:32.759Z"
   },
   {
    "duration": 38,
    "start_time": "2023-09-10T06:16:33.071Z"
   },
   {
    "duration": 54,
    "start_time": "2023-09-10T06:16:33.112Z"
   },
   {
    "duration": 54,
    "start_time": "2023-09-10T06:16:33.167Z"
   },
   {
    "duration": 40,
    "start_time": "2023-09-10T06:16:33.222Z"
   },
   {
    "duration": 23,
    "start_time": "2023-09-10T06:16:33.264Z"
   },
   {
    "duration": 56,
    "start_time": "2023-09-10T06:16:33.289Z"
   },
   {
    "duration": 68,
    "start_time": "2023-09-10T06:16:33.347Z"
   },
   {
    "duration": 24,
    "start_time": "2023-09-10T06:16:33.417Z"
   },
   {
    "duration": 157,
    "start_time": "2023-09-10T06:16:33.443Z"
   },
   {
    "duration": 179,
    "start_time": "2023-09-10T06:16:33.602Z"
   },
   {
    "duration": 113,
    "start_time": "2023-09-10T06:16:33.784Z"
   },
   {
    "duration": 1561,
    "start_time": "2023-09-10T06:16:33.899Z"
   },
   {
    "duration": 495,
    "start_time": "2023-09-10T06:16:35.462Z"
   },
   {
    "duration": 85,
    "start_time": "2023-09-10T06:16:35.959Z"
   },
   {
    "duration": 409,
    "start_time": "2023-09-10T06:16:36.046Z"
   },
   {
    "duration": 522,
    "start_time": "2023-09-10T06:16:36.457Z"
   },
   {
    "duration": 6,
    "start_time": "2023-09-10T06:16:36.983Z"
   },
   {
    "duration": 40,
    "start_time": "2023-09-10T06:16:36.991Z"
   },
   {
    "duration": 496,
    "start_time": "2023-09-10T06:16:37.033Z"
   },
   {
    "duration": 26,
    "start_time": "2023-09-10T06:16:37.532Z"
   },
   {
    "duration": 519,
    "start_time": "2023-09-10T06:16:37.560Z"
   },
   {
    "duration": 319,
    "start_time": "2023-09-10T06:16:38.082Z"
   },
   {
    "duration": 521,
    "start_time": "2023-09-10T06:16:38.403Z"
   },
   {
    "duration": 29,
    "start_time": "2023-09-10T06:16:38.925Z"
   },
   {
    "duration": 321,
    "start_time": "2023-09-10T06:16:38.956Z"
   },
   {
    "duration": 564,
    "start_time": "2023-09-10T06:16:39.279Z"
   },
   {
    "duration": 623,
    "start_time": "2023-09-10T06:16:39.845Z"
   },
   {
    "duration": 251,
    "start_time": "2023-09-10T06:16:40.470Z"
   },
   {
    "duration": 107,
    "start_time": "2023-09-10T06:16:40.723Z"
   },
   {
    "duration": 79,
    "start_time": "2023-09-10T06:16:40.832Z"
   },
   {
    "duration": 36,
    "start_time": "2023-09-10T06:16:40.913Z"
   },
   {
    "duration": 16,
    "start_time": "2023-09-10T06:16:40.951Z"
   },
   {
    "duration": 105,
    "start_time": "2023-09-10T06:16:40.968Z"
   },
   {
    "duration": 1383,
    "start_time": "2023-09-10T06:16:41.075Z"
   },
   {
    "duration": 740,
    "start_time": "2023-09-10T06:16:42.460Z"
   },
   {
    "duration": 4,
    "start_time": "2023-09-10T06:16:43.202Z"
   },
   {
    "duration": 4,
    "start_time": "2023-09-10T06:16:43.210Z"
   },
   {
    "duration": 6,
    "start_time": "2023-09-10T06:16:43.215Z"
   },
   {
    "duration": 42687,
    "start_time": "2023-09-10T06:16:43.223Z"
   },
   {
    "duration": 300,
    "start_time": "2023-09-10T06:17:25.913Z"
   },
   {
    "duration": 152307,
    "start_time": "2023-09-10T06:17:26.215Z"
   },
   {
    "duration": 1094,
    "start_time": "2023-09-10T06:19:58.534Z"
   },
   {
    "duration": 492537,
    "start_time": "2023-09-10T06:19:59.631Z"
   },
   {
    "duration": 35855,
    "start_time": "2023-09-10T06:28:12.171Z"
   },
   {
    "duration": 469703,
    "start_time": "2023-09-10T06:28:48.028Z"
   },
   {
    "duration": 36458,
    "start_time": "2023-09-10T06:36:37.733Z"
   },
   {
    "duration": 157942,
    "start_time": "2023-09-10T06:37:14.193Z"
   },
   {
    "duration": 6008,
    "start_time": "2023-09-10T06:39:52.138Z"
   },
   {
    "duration": 129,
    "start_time": "2023-09-10T06:39:58.148Z"
   },
   {
    "duration": 6145936,
    "start_time": "2023-09-10T06:39:58.279Z"
   },
   {
    "duration": 21817,
    "start_time": "2023-09-10T08:22:24.218Z"
   },
   {
    "duration": 617381,
    "start_time": "2023-09-10T08:22:46.036Z"
   },
   {
    "duration": 16006,
    "start_time": "2023-09-10T08:33:03.419Z"
   },
   {
    "duration": 572900,
    "start_time": "2023-09-10T08:33:19.427Z"
   },
   {
    "duration": 5135,
    "start_time": "2023-09-10T08:42:52.328Z"
   },
   {
    "duration": 66754,
    "start_time": "2023-09-10T08:42:57.465Z"
   },
   {
    "duration": 833891,
    "start_time": "2023-09-10T08:44:04.221Z"
   },
   {
    "duration": 15713,
    "start_time": "2023-09-10T08:57:58.113Z"
   },
   {
    "duration": 3,
    "start_time": "2023-09-10T08:58:13.828Z"
   },
   {
    "duration": 29,
    "start_time": "2023-09-10T08:58:13.833Z"
   },
   {
    "duration": 38,
    "start_time": "2023-09-10T08:58:13.910Z"
   },
   {
    "duration": 11,
    "start_time": "2023-09-10T09:12:02.149Z"
   },
   {
    "duration": 1596,
    "start_time": "2023-09-10T14:29:35.051Z"
   },
   {
    "duration": 2838,
    "start_time": "2023-09-10T14:29:36.649Z"
   },
   {
    "duration": 16,
    "start_time": "2023-09-10T14:29:39.489Z"
   },
   {
    "duration": 155,
    "start_time": "2023-09-10T14:29:39.507Z"
   },
   {
    "duration": 456,
    "start_time": "2023-09-10T14:29:39.664Z"
   },
   {
    "duration": 525,
    "start_time": "2023-09-10T14:29:40.122Z"
   },
   {
    "duration": 35,
    "start_time": "2023-09-10T14:29:40.649Z"
   },
   {
    "duration": 106,
    "start_time": "2023-09-10T14:29:40.686Z"
   },
   {
    "duration": 10,
    "start_time": "2023-09-10T14:29:40.794Z"
   },
   {
    "duration": 86,
    "start_time": "2023-09-10T14:29:40.808Z"
   },
   {
    "duration": 280,
    "start_time": "2023-09-10T14:29:40.896Z"
   },
   {
    "duration": 24,
    "start_time": "2023-09-10T14:29:41.177Z"
   },
   {
    "duration": 57,
    "start_time": "2023-09-10T14:29:41.203Z"
   },
   {
    "duration": 37,
    "start_time": "2023-09-10T14:29:41.262Z"
   },
   {
    "duration": 49,
    "start_time": "2023-09-10T14:29:41.301Z"
   },
   {
    "duration": 26,
    "start_time": "2023-09-10T14:29:41.352Z"
   },
   {
    "duration": 35,
    "start_time": "2023-09-10T14:29:41.380Z"
   },
   {
    "duration": 53,
    "start_time": "2023-09-10T14:29:41.417Z"
   },
   {
    "duration": 21,
    "start_time": "2023-09-10T14:29:41.471Z"
   },
   {
    "duration": 131,
    "start_time": "2023-09-10T14:29:41.494Z"
   },
   {
    "duration": 173,
    "start_time": "2023-09-10T14:29:41.626Z"
   },
   {
    "duration": 92,
    "start_time": "2023-09-10T14:29:41.801Z"
   },
   {
    "duration": 1417,
    "start_time": "2023-09-10T14:29:41.895Z"
   },
   {
    "duration": 355,
    "start_time": "2023-09-10T14:29:43.314Z"
   },
   {
    "duration": 64,
    "start_time": "2023-09-10T14:29:43.670Z"
   },
   {
    "duration": 396,
    "start_time": "2023-09-10T14:29:43.735Z"
   },
   {
    "duration": 455,
    "start_time": "2023-09-10T14:29:44.135Z"
   },
   {
    "duration": 6,
    "start_time": "2023-09-10T14:29:44.593Z"
   },
   {
    "duration": 27,
    "start_time": "2023-09-10T14:29:44.600Z"
   },
   {
    "duration": 468,
    "start_time": "2023-09-10T14:29:44.629Z"
   },
   {
    "duration": 25,
    "start_time": "2023-09-10T14:29:45.098Z"
   },
   {
    "duration": 431,
    "start_time": "2023-09-10T14:29:45.125Z"
   },
   {
    "duration": 282,
    "start_time": "2023-09-10T14:29:45.558Z"
   },
   {
    "duration": 502,
    "start_time": "2023-09-10T14:29:45.844Z"
   },
   {
    "duration": 25,
    "start_time": "2023-09-10T14:29:46.349Z"
   },
   {
    "duration": 298,
    "start_time": "2023-09-10T14:29:46.376Z"
   },
   {
    "duration": 570,
    "start_time": "2023-09-10T14:29:46.676Z"
   },
   {
    "duration": 429,
    "start_time": "2023-09-10T14:29:47.247Z"
   },
   {
    "duration": 217,
    "start_time": "2023-09-10T14:29:47.677Z"
   },
   {
    "duration": 96,
    "start_time": "2023-09-10T14:29:47.895Z"
   },
   {
    "duration": 69,
    "start_time": "2023-09-10T14:29:47.993Z"
   },
   {
    "duration": 30,
    "start_time": "2023-09-10T14:29:48.064Z"
   },
   {
    "duration": 14,
    "start_time": "2023-09-10T14:29:48.095Z"
   },
   {
    "duration": 90,
    "start_time": "2023-09-10T14:29:48.111Z"
   },
   {
    "duration": 1186,
    "start_time": "2023-09-10T14:29:48.203Z"
   },
   {
    "duration": 685,
    "start_time": "2023-09-10T14:29:49.391Z"
   },
   {
    "duration": 4,
    "start_time": "2023-09-10T14:29:50.078Z"
   },
   {
    "duration": 14,
    "start_time": "2023-09-10T14:29:50.084Z"
   },
   {
    "duration": 4,
    "start_time": "2023-09-10T14:29:50.100Z"
   },
   {
    "duration": 31651,
    "start_time": "2023-09-10T14:29:50.106Z"
   },
   {
    "duration": 110,
    "start_time": "2023-09-10T14:30:21.845Z"
   },
   {
    "duration": 429267,
    "start_time": "2023-09-10T14:30:21.958Z"
   },
   {
    "duration": 32769,
    "start_time": "2023-09-10T14:37:31.226Z"
   },
   {
    "duration": 426233,
    "start_time": "2023-09-10T14:38:03.997Z"
   },
   {
    "duration": 32762,
    "start_time": "2023-09-10T14:45:10.231Z"
   },
   {
    "duration": 145954,
    "start_time": "2023-09-10T14:45:42.994Z"
   },
   {
    "duration": 206,
    "start_time": "2023-09-10T14:48:08.952Z"
   },
   {
    "duration": 1654,
    "start_time": "2023-09-10T15:41:05.261Z"
   },
   {
    "duration": 817,
    "start_time": "2023-09-10T15:41:06.917Z"
   },
   {
    "duration": 17,
    "start_time": "2023-09-10T15:41:07.735Z"
   },
   {
    "duration": 141,
    "start_time": "2023-09-10T15:41:07.754Z"
   },
   {
    "duration": 451,
    "start_time": "2023-09-10T15:41:07.897Z"
   },
   {
    "duration": 474,
    "start_time": "2023-09-10T15:41:08.349Z"
   },
   {
    "duration": 46,
    "start_time": "2023-09-10T15:41:08.825Z"
   },
   {
    "duration": 97,
    "start_time": "2023-09-10T15:41:08.872Z"
   },
   {
    "duration": 10,
    "start_time": "2023-09-10T15:41:08.971Z"
   },
   {
    "duration": 67,
    "start_time": "2023-09-10T15:41:08.983Z"
   },
   {
    "duration": 238,
    "start_time": "2023-09-10T15:41:09.051Z"
   },
   {
    "duration": 22,
    "start_time": "2023-09-10T15:41:09.290Z"
   },
   {
    "duration": 41,
    "start_time": "2023-09-10T15:41:09.313Z"
   },
   {
    "duration": 35,
    "start_time": "2023-09-10T15:41:09.355Z"
   },
   {
    "duration": 37,
    "start_time": "2023-09-10T15:41:09.391Z"
   },
   {
    "duration": 20,
    "start_time": "2023-09-10T15:41:09.444Z"
   },
   {
    "duration": 62,
    "start_time": "2023-09-10T15:41:09.465Z"
   },
   {
    "duration": 42,
    "start_time": "2023-09-10T15:41:09.528Z"
   },
   {
    "duration": 26,
    "start_time": "2023-09-10T15:41:09.571Z"
   },
   {
    "duration": 118,
    "start_time": "2023-09-10T15:41:09.599Z"
   },
   {
    "duration": 102,
    "start_time": "2023-09-10T15:41:09.719Z"
   },
   {
    "duration": 86,
    "start_time": "2023-09-10T15:41:09.822Z"
   },
   {
    "duration": 1325,
    "start_time": "2023-09-10T15:41:09.909Z"
   },
   {
    "duration": 429,
    "start_time": "2023-09-10T15:41:11.236Z"
   },
   {
    "duration": 78,
    "start_time": "2023-09-10T15:41:11.666Z"
   },
   {
    "duration": 345,
    "start_time": "2023-09-10T15:41:11.746Z"
   },
   {
    "duration": 408,
    "start_time": "2023-09-10T15:41:12.093Z"
   },
   {
    "duration": 6,
    "start_time": "2023-09-10T15:41:12.506Z"
   },
   {
    "duration": 41,
    "start_time": "2023-09-10T15:41:12.513Z"
   },
   {
    "duration": 416,
    "start_time": "2023-09-10T15:41:12.556Z"
   },
   {
    "duration": 25,
    "start_time": "2023-09-10T15:41:12.973Z"
   },
   {
    "duration": 472,
    "start_time": "2023-09-10T15:41:12.999Z"
   },
   {
    "duration": 319,
    "start_time": "2023-09-10T15:41:13.472Z"
   },
   {
    "duration": 548,
    "start_time": "2023-09-10T15:41:13.793Z"
   },
   {
    "duration": 29,
    "start_time": "2023-09-10T15:41:14.343Z"
   },
   {
    "duration": 295,
    "start_time": "2023-09-10T15:41:14.374Z"
   },
   {
    "duration": 479,
    "start_time": "2023-09-10T15:41:14.671Z"
   },
   {
    "duration": 572,
    "start_time": "2023-09-10T15:41:15.152Z"
   },
   {
    "duration": 232,
    "start_time": "2023-09-10T15:41:15.725Z"
   },
   {
    "duration": 102,
    "start_time": "2023-09-10T15:41:15.959Z"
   },
   {
    "duration": 54,
    "start_time": "2023-09-10T15:41:16.063Z"
   },
   {
    "duration": 45,
    "start_time": "2023-09-10T15:41:16.119Z"
   },
   {
    "duration": 14,
    "start_time": "2023-09-10T15:41:16.166Z"
   },
   {
    "duration": 87,
    "start_time": "2023-09-10T15:41:16.181Z"
   },
   {
    "duration": 1078,
    "start_time": "2023-09-10T15:41:16.270Z"
   },
   {
    "duration": 659,
    "start_time": "2023-09-10T15:41:17.349Z"
   },
   {
    "duration": 4,
    "start_time": "2023-09-10T15:41:18.009Z"
   },
   {
    "duration": 5,
    "start_time": "2023-09-10T15:41:18.014Z"
   },
   {
    "duration": 12,
    "start_time": "2023-09-10T15:41:18.020Z"
   },
   {
    "duration": 28216,
    "start_time": "2023-09-10T15:41:18.033Z"
   },
   {
    "duration": 295,
    "start_time": "2023-09-10T15:41:46.251Z"
   },
   {
    "duration": 419894,
    "start_time": "2023-09-10T15:41:46.548Z"
   },
   {
    "duration": 31502,
    "start_time": "2023-09-10T15:48:46.444Z"
   },
   {
    "duration": 418239,
    "start_time": "2023-09-10T15:49:17.949Z"
   },
   {
    "duration": 31907,
    "start_time": "2023-09-10T15:56:16.190Z"
   },
   {
    "duration": 138512,
    "start_time": "2023-09-10T15:56:48.099Z"
   },
   {
    "duration": 205,
    "start_time": "2023-09-10T15:59:06.613Z"
   },
   {
    "duration": 1892639,
    "start_time": "2023-09-10T15:59:06.820Z"
   },
   {
    "duration": 18900,
    "start_time": "2023-09-10T16:30:39.460Z"
   },
   {
    "duration": 394887,
    "start_time": "2023-09-10T16:30:58.361Z"
   },
   {
    "duration": 10912,
    "start_time": "2023-09-10T16:37:33.250Z"
   },
   {
    "duration": 513617,
    "start_time": "2023-09-10T16:37:44.165Z"
   },
   {
    "duration": 4526,
    "start_time": "2023-09-10T16:46:17.784Z"
   },
   {
    "duration": 56343,
    "start_time": "2023-09-10T16:46:22.312Z"
   },
   {
    "duration": 3176,
    "start_time": "2023-09-10T16:47:18.657Z"
   },
   {
    "duration": 182,
    "start_time": "2023-09-10T16:47:21.835Z"
   },
   {
    "duration": 99,
    "start_time": "2023-09-10T16:47:22.018Z"
   },
   {
    "duration": 87,
    "start_time": "2023-09-10T16:47:22.119Z"
   },
   {
    "duration": 118,
    "start_time": "2023-09-10T16:50:08.986Z"
   },
   {
    "duration": 97,
    "start_time": "2023-09-10T16:50:25.649Z"
   },
   {
    "duration": 91,
    "start_time": "2023-09-10T16:50:45.053Z"
   },
   {
    "duration": 111,
    "start_time": "2023-09-10T16:50:54.891Z"
   },
   {
    "duration": 104,
    "start_time": "2023-09-10T16:54:17.953Z"
   },
   {
    "duration": 12,
    "start_time": "2023-09-10T16:55:18.416Z"
   },
   {
    "duration": 97,
    "start_time": "2023-09-10T16:55:36.691Z"
   },
   {
    "duration": 10,
    "start_time": "2023-09-10T16:55:54.653Z"
   },
   {
    "duration": 5,
    "start_time": "2023-09-10T16:56:59.907Z"
   },
   {
    "duration": 6,
    "start_time": "2023-09-10T16:57:37.367Z"
   },
   {
    "duration": 13,
    "start_time": "2023-09-10T16:57:47.923Z"
   },
   {
    "duration": 9,
    "start_time": "2023-09-10T16:58:16.879Z"
   },
   {
    "duration": 15,
    "start_time": "2023-09-10T17:04:50.712Z"
   },
   {
    "duration": 141,
    "start_time": "2023-09-10T17:08:49.934Z"
   },
   {
    "duration": 146,
    "start_time": "2023-09-10T17:09:21.284Z"
   },
   {
    "duration": 1928,
    "start_time": "2023-09-11T18:23:43.317Z"
   },
   {
    "duration": 1267,
    "start_time": "2023-09-11T18:23:45.247Z"
   },
   {
    "duration": 18,
    "start_time": "2023-09-11T18:23:46.516Z"
   },
   {
    "duration": 240,
    "start_time": "2023-09-11T18:23:46.535Z"
   },
   {
    "duration": 519,
    "start_time": "2023-09-11T18:23:46.777Z"
   },
   {
    "duration": 129,
    "start_time": "2023-09-11T18:23:47.302Z"
   },
   {
    "duration": 0,
    "start_time": "2023-09-11T18:23:47.436Z"
   },
   {
    "duration": 0,
    "start_time": "2023-09-11T18:23:47.437Z"
   },
   {
    "duration": 0,
    "start_time": "2023-09-11T18:23:47.438Z"
   },
   {
    "duration": 0,
    "start_time": "2023-09-11T18:23:47.439Z"
   },
   {
    "duration": 0,
    "start_time": "2023-09-11T18:23:47.440Z"
   },
   {
    "duration": 0,
    "start_time": "2023-09-11T18:23:47.442Z"
   },
   {
    "duration": 0,
    "start_time": "2023-09-11T18:23:47.443Z"
   },
   {
    "duration": 0,
    "start_time": "2023-09-11T18:23:47.444Z"
   },
   {
    "duration": 0,
    "start_time": "2023-09-11T18:23:47.446Z"
   },
   {
    "duration": 0,
    "start_time": "2023-09-11T18:23:47.447Z"
   },
   {
    "duration": 0,
    "start_time": "2023-09-11T18:23:47.449Z"
   },
   {
    "duration": 0,
    "start_time": "2023-09-11T18:23:47.450Z"
   },
   {
    "duration": 0,
    "start_time": "2023-09-11T18:23:47.451Z"
   },
   {
    "duration": 0,
    "start_time": "2023-09-11T18:23:47.452Z"
   },
   {
    "duration": 0,
    "start_time": "2023-09-11T18:23:47.453Z"
   },
   {
    "duration": 0,
    "start_time": "2023-09-11T18:23:47.454Z"
   },
   {
    "duration": 0,
    "start_time": "2023-09-11T18:23:47.455Z"
   },
   {
    "duration": 0,
    "start_time": "2023-09-11T18:23:47.456Z"
   },
   {
    "duration": 0,
    "start_time": "2023-09-11T18:23:47.458Z"
   },
   {
    "duration": 0,
    "start_time": "2023-09-11T18:23:47.459Z"
   },
   {
    "duration": 0,
    "start_time": "2023-09-11T18:23:47.461Z"
   },
   {
    "duration": 0,
    "start_time": "2023-09-11T18:23:47.502Z"
   },
   {
    "duration": 0,
    "start_time": "2023-09-11T18:23:47.503Z"
   },
   {
    "duration": 0,
    "start_time": "2023-09-11T18:23:47.504Z"
   },
   {
    "duration": 0,
    "start_time": "2023-09-11T18:23:47.505Z"
   },
   {
    "duration": 0,
    "start_time": "2023-09-11T18:23:47.506Z"
   },
   {
    "duration": 0,
    "start_time": "2023-09-11T18:23:47.507Z"
   },
   {
    "duration": 0,
    "start_time": "2023-09-11T18:23:47.509Z"
   },
   {
    "duration": 0,
    "start_time": "2023-09-11T18:23:47.510Z"
   },
   {
    "duration": 0,
    "start_time": "2023-09-11T18:23:47.511Z"
   },
   {
    "duration": 0,
    "start_time": "2023-09-11T18:23:47.512Z"
   },
   {
    "duration": 0,
    "start_time": "2023-09-11T18:23:47.513Z"
   },
   {
    "duration": 0,
    "start_time": "2023-09-11T18:23:47.514Z"
   },
   {
    "duration": 0,
    "start_time": "2023-09-11T18:23:47.515Z"
   },
   {
    "duration": 0,
    "start_time": "2023-09-11T18:23:47.517Z"
   },
   {
    "duration": 1,
    "start_time": "2023-09-11T18:23:47.517Z"
   },
   {
    "duration": 0,
    "start_time": "2023-09-11T18:23:47.519Z"
   },
   {
    "duration": 0,
    "start_time": "2023-09-11T18:23:47.520Z"
   },
   {
    "duration": 0,
    "start_time": "2023-09-11T18:23:47.521Z"
   },
   {
    "duration": 0,
    "start_time": "2023-09-11T18:23:47.522Z"
   },
   {
    "duration": 0,
    "start_time": "2023-09-11T18:23:47.523Z"
   },
   {
    "duration": 0,
    "start_time": "2023-09-11T18:23:47.524Z"
   },
   {
    "duration": 0,
    "start_time": "2023-09-11T18:23:47.525Z"
   },
   {
    "duration": 0,
    "start_time": "2023-09-11T18:23:47.526Z"
   },
   {
    "duration": 0,
    "start_time": "2023-09-11T18:23:47.527Z"
   },
   {
    "duration": 0,
    "start_time": "2023-09-11T18:23:47.528Z"
   },
   {
    "duration": 0,
    "start_time": "2023-09-11T18:23:47.529Z"
   },
   {
    "duration": 0,
    "start_time": "2023-09-11T18:23:47.530Z"
   },
   {
    "duration": 0,
    "start_time": "2023-09-11T18:23:47.532Z"
   },
   {
    "duration": 0,
    "start_time": "2023-09-11T18:23:47.533Z"
   },
   {
    "duration": 0,
    "start_time": "2023-09-11T18:23:47.534Z"
   },
   {
    "duration": 0,
    "start_time": "2023-09-11T18:23:47.535Z"
   },
   {
    "duration": 0,
    "start_time": "2023-09-11T18:23:47.536Z"
   },
   {
    "duration": 0,
    "start_time": "2023-09-11T18:23:47.601Z"
   },
   {
    "duration": 0,
    "start_time": "2023-09-11T18:23:47.603Z"
   },
   {
    "duration": 0,
    "start_time": "2023-09-11T18:23:47.605Z"
   },
   {
    "duration": 0,
    "start_time": "2023-09-11T18:23:47.606Z"
   },
   {
    "duration": 0,
    "start_time": "2023-09-11T18:23:47.608Z"
   },
   {
    "duration": 0,
    "start_time": "2023-09-11T18:23:47.609Z"
   },
   {
    "duration": 0,
    "start_time": "2023-09-11T18:23:47.611Z"
   },
   {
    "duration": 0,
    "start_time": "2023-09-11T18:23:47.612Z"
   },
   {
    "duration": 0,
    "start_time": "2023-09-11T18:23:47.614Z"
   },
   {
    "duration": 22,
    "start_time": "2023-09-11T18:24:53.401Z"
   },
   {
    "duration": 31,
    "start_time": "2023-09-11T18:26:43.487Z"
   },
   {
    "duration": 1571,
    "start_time": "2023-09-11T18:29:09.774Z"
   },
   {
    "duration": 921,
    "start_time": "2023-09-11T18:29:11.347Z"
   },
   {
    "duration": 32,
    "start_time": "2023-09-11T18:29:12.270Z"
   },
   {
    "duration": 181,
    "start_time": "2023-09-11T18:29:12.305Z"
   },
   {
    "duration": 529,
    "start_time": "2023-09-11T18:29:12.488Z"
   },
   {
    "duration": 32,
    "start_time": "2023-09-11T18:29:13.019Z"
   },
   {
    "duration": 554,
    "start_time": "2023-09-11T18:29:13.053Z"
   },
   {
    "duration": 36,
    "start_time": "2023-09-11T18:29:13.609Z"
   },
   {
    "duration": 132,
    "start_time": "2023-09-11T18:29:13.647Z"
   },
   {
    "duration": 25,
    "start_time": "2023-09-11T18:29:13.783Z"
   },
   {
    "duration": 79,
    "start_time": "2023-09-11T18:29:13.810Z"
   },
   {
    "duration": 287,
    "start_time": "2023-09-11T18:29:13.891Z"
   },
   {
    "duration": 3,
    "start_time": "2023-09-11T18:29:14.180Z"
   },
   {
    "duration": 63,
    "start_time": "2023-09-11T18:29:14.185Z"
   },
   {
    "duration": 78,
    "start_time": "2023-09-11T18:29:14.251Z"
   },
   {
    "duration": 41,
    "start_time": "2023-09-11T18:29:14.331Z"
   },
   {
    "duration": 57,
    "start_time": "2023-09-11T18:29:14.374Z"
   },
   {
    "duration": 15,
    "start_time": "2023-09-11T18:29:14.432Z"
   },
   {
    "duration": 46,
    "start_time": "2023-09-11T18:29:14.449Z"
   },
   {
    "duration": 55,
    "start_time": "2023-09-11T18:29:14.496Z"
   },
   {
    "duration": 31,
    "start_time": "2023-09-11T18:29:14.553Z"
   },
   {
    "duration": 185,
    "start_time": "2023-09-11T18:29:14.586Z"
   },
   {
    "duration": 129,
    "start_time": "2023-09-11T18:29:14.774Z"
   },
   {
    "duration": 115,
    "start_time": "2023-09-11T18:29:14.905Z"
   },
   {
    "duration": 78,
    "start_time": "2023-09-11T18:29:15.023Z"
   },
   {
    "duration": 0,
    "start_time": "2023-09-11T18:29:15.104Z"
   },
   {
    "duration": 0,
    "start_time": "2023-09-11T18:29:15.105Z"
   },
   {
    "duration": 0,
    "start_time": "2023-09-11T18:29:15.106Z"
   },
   {
    "duration": 0,
    "start_time": "2023-09-11T18:29:15.107Z"
   },
   {
    "duration": 0,
    "start_time": "2023-09-11T18:29:15.109Z"
   },
   {
    "duration": 0,
    "start_time": "2023-09-11T18:29:15.110Z"
   },
   {
    "duration": 0,
    "start_time": "2023-09-11T18:29:15.111Z"
   },
   {
    "duration": 0,
    "start_time": "2023-09-11T18:29:15.112Z"
   },
   {
    "duration": 0,
    "start_time": "2023-09-11T18:29:15.113Z"
   },
   {
    "duration": 0,
    "start_time": "2023-09-11T18:29:15.115Z"
   },
   {
    "duration": 0,
    "start_time": "2023-09-11T18:29:15.116Z"
   },
   {
    "duration": 0,
    "start_time": "2023-09-11T18:29:15.117Z"
   },
   {
    "duration": 0,
    "start_time": "2023-09-11T18:29:15.118Z"
   },
   {
    "duration": 0,
    "start_time": "2023-09-11T18:29:15.119Z"
   },
   {
    "duration": 0,
    "start_time": "2023-09-11T18:29:15.121Z"
   },
   {
    "duration": 0,
    "start_time": "2023-09-11T18:29:15.122Z"
   },
   {
    "duration": 0,
    "start_time": "2023-09-11T18:29:15.123Z"
   },
   {
    "duration": 0,
    "start_time": "2023-09-11T18:29:15.124Z"
   },
   {
    "duration": 0,
    "start_time": "2023-09-11T18:29:15.125Z"
   },
   {
    "duration": 0,
    "start_time": "2023-09-11T18:29:15.127Z"
   },
   {
    "duration": 0,
    "start_time": "2023-09-11T18:29:15.128Z"
   },
   {
    "duration": 0,
    "start_time": "2023-09-11T18:29:15.130Z"
   },
   {
    "duration": 0,
    "start_time": "2023-09-11T18:29:15.131Z"
   },
   {
    "duration": 0,
    "start_time": "2023-09-11T18:29:15.132Z"
   },
   {
    "duration": 0,
    "start_time": "2023-09-11T18:29:15.133Z"
   },
   {
    "duration": 0,
    "start_time": "2023-09-11T18:29:15.135Z"
   },
   {
    "duration": 0,
    "start_time": "2023-09-11T18:29:15.136Z"
   },
   {
    "duration": 0,
    "start_time": "2023-09-11T18:29:15.137Z"
   },
   {
    "duration": 0,
    "start_time": "2023-09-11T18:29:15.138Z"
   },
   {
    "duration": 0,
    "start_time": "2023-09-11T18:29:15.141Z"
   },
   {
    "duration": 1,
    "start_time": "2023-09-11T18:29:15.201Z"
   },
   {
    "duration": 0,
    "start_time": "2023-09-11T18:29:15.203Z"
   },
   {
    "duration": 0,
    "start_time": "2023-09-11T18:29:15.205Z"
   },
   {
    "duration": 1,
    "start_time": "2023-09-11T18:29:15.206Z"
   },
   {
    "duration": 0,
    "start_time": "2023-09-11T18:29:15.208Z"
   },
   {
    "duration": 0,
    "start_time": "2023-09-11T18:29:15.209Z"
   },
   {
    "duration": 0,
    "start_time": "2023-09-11T18:29:15.211Z"
   },
   {
    "duration": 0,
    "start_time": "2023-09-11T18:29:15.212Z"
   },
   {
    "duration": 0,
    "start_time": "2023-09-11T18:29:15.214Z"
   },
   {
    "duration": 0,
    "start_time": "2023-09-11T18:29:15.215Z"
   },
   {
    "duration": 0,
    "start_time": "2023-09-11T18:29:15.217Z"
   },
   {
    "duration": 0,
    "start_time": "2023-09-11T18:29:15.218Z"
   },
   {
    "duration": 1671,
    "start_time": "2023-09-11T18:30:43.636Z"
   },
   {
    "duration": 940,
    "start_time": "2023-09-11T18:30:45.310Z"
   },
   {
    "duration": 19,
    "start_time": "2023-09-11T18:30:46.252Z"
   },
   {
    "duration": 224,
    "start_time": "2023-09-11T18:30:46.274Z"
   },
   {
    "duration": 563,
    "start_time": "2023-09-11T18:30:46.500Z"
   },
   {
    "duration": 38,
    "start_time": "2023-09-11T18:30:47.064Z"
   },
   {
    "duration": 552,
    "start_time": "2023-09-11T18:30:47.104Z"
   },
   {
    "duration": 34,
    "start_time": "2023-09-11T18:30:47.658Z"
   },
   {
    "duration": 107,
    "start_time": "2023-09-11T18:30:47.702Z"
   },
   {
    "duration": 13,
    "start_time": "2023-09-11T18:30:47.811Z"
   },
   {
    "duration": 82,
    "start_time": "2023-09-11T18:30:47.826Z"
   },
   {
    "duration": 277,
    "start_time": "2023-09-11T18:30:47.910Z"
   },
   {
    "duration": 2,
    "start_time": "2023-09-11T18:30:48.201Z"
   },
   {
    "duration": 50,
    "start_time": "2023-09-11T18:30:48.205Z"
   },
   {
    "duration": 67,
    "start_time": "2023-09-11T18:30:48.257Z"
   },
   {
    "duration": 47,
    "start_time": "2023-09-11T18:30:48.326Z"
   },
   {
    "duration": 46,
    "start_time": "2023-09-11T18:30:48.375Z"
   },
   {
    "duration": 6,
    "start_time": "2023-09-11T18:30:48.423Z"
   },
   {
    "duration": 58,
    "start_time": "2023-09-11T18:30:48.431Z"
   },
   {
    "duration": 66,
    "start_time": "2023-09-11T18:30:48.491Z"
   },
   {
    "duration": 143,
    "start_time": "2023-09-11T18:30:48.559Z"
   },
   {
    "duration": 171,
    "start_time": "2023-09-11T18:30:48.705Z"
   },
   {
    "duration": 106,
    "start_time": "2023-09-11T18:30:48.878Z"
   },
   {
    "duration": 177,
    "start_time": "2023-09-11T18:30:48.985Z"
   },
   {
    "duration": 1632,
    "start_time": "2023-09-11T18:30:49.164Z"
   },
   {
    "duration": 1585,
    "start_time": "2023-09-11T18:30:50.801Z"
   },
   {
    "duration": 418,
    "start_time": "2023-09-11T18:30:52.388Z"
   },
   {
    "duration": 67,
    "start_time": "2023-09-11T18:30:52.810Z"
   },
   {
    "duration": 424,
    "start_time": "2023-09-11T18:30:52.879Z"
   },
   {
    "duration": 496,
    "start_time": "2023-09-11T18:30:53.305Z"
   },
   {
    "duration": 7,
    "start_time": "2023-09-11T18:30:53.803Z"
   },
   {
    "duration": 48,
    "start_time": "2023-09-11T18:30:53.812Z"
   },
   {
    "duration": 488,
    "start_time": "2023-09-11T18:30:53.862Z"
   },
   {
    "duration": 575,
    "start_time": "2023-09-11T18:30:54.352Z"
   },
   {
    "duration": 338,
    "start_time": "2023-09-11T18:30:54.930Z"
   },
   {
    "duration": 483,
    "start_time": "2023-09-11T18:30:55.270Z"
   },
   {
    "duration": 25,
    "start_time": "2023-09-11T18:30:55.756Z"
   },
   {
    "duration": 317,
    "start_time": "2023-09-11T18:30:55.783Z"
   },
   {
    "duration": 589,
    "start_time": "2023-09-11T18:30:56.102Z"
   },
   {
    "duration": 510,
    "start_time": "2023-09-11T18:30:56.693Z"
   },
   {
    "duration": 244,
    "start_time": "2023-09-11T18:30:57.205Z"
   },
   {
    "duration": 105,
    "start_time": "2023-09-11T18:30:57.452Z"
   },
   {
    "duration": 76,
    "start_time": "2023-09-11T18:30:57.559Z"
   },
   {
    "duration": 30,
    "start_time": "2023-09-11T18:30:57.636Z"
   },
   {
    "duration": 35,
    "start_time": "2023-09-11T18:30:57.669Z"
   },
   {
    "duration": 69,
    "start_time": "2023-09-11T18:30:57.706Z"
   },
   {
    "duration": 1262,
    "start_time": "2023-09-11T18:30:57.778Z"
   },
   {
    "duration": 651,
    "start_time": "2023-09-11T18:30:59.042Z"
   },
   {
    "duration": 7,
    "start_time": "2023-09-11T18:30:59.695Z"
   },
   {
    "duration": 26,
    "start_time": "2023-09-11T18:30:59.703Z"
   },
   {
    "duration": 13,
    "start_time": "2023-09-11T18:30:59.731Z"
   },
   {
    "duration": 37962,
    "start_time": "2023-09-11T18:30:59.746Z"
   },
   {
    "duration": 199,
    "start_time": "2023-09-11T18:31:37.710Z"
   },
   {
    "duration": 485358,
    "start_time": "2023-09-11T18:31:37.911Z"
   },
   {
    "duration": 36209,
    "start_time": "2023-09-11T18:39:43.271Z"
   },
   {
    "duration": 1735,
    "start_time": "2023-09-11T18:46:15.298Z"
   },
   {
    "duration": 984,
    "start_time": "2023-09-11T18:46:17.035Z"
   },
   {
    "duration": 17,
    "start_time": "2023-09-11T18:46:18.021Z"
   },
   {
    "duration": 172,
    "start_time": "2023-09-11T18:46:18.039Z"
   },
   {
    "duration": 127,
    "start_time": "2023-09-11T18:46:18.214Z"
   },
   {
    "duration": 0,
    "start_time": "2023-09-11T18:46:18.346Z"
   },
   {
    "duration": 0,
    "start_time": "2023-09-11T18:46:18.347Z"
   },
   {
    "duration": 0,
    "start_time": "2023-09-11T18:46:18.348Z"
   },
   {
    "duration": 0,
    "start_time": "2023-09-11T18:46:18.349Z"
   },
   {
    "duration": 0,
    "start_time": "2023-09-11T18:46:18.350Z"
   },
   {
    "duration": 1,
    "start_time": "2023-09-11T18:46:18.351Z"
   },
   {
    "duration": 0,
    "start_time": "2023-09-11T18:46:18.353Z"
   },
   {
    "duration": 0,
    "start_time": "2023-09-11T18:46:18.354Z"
   },
   {
    "duration": 0,
    "start_time": "2023-09-11T18:46:18.355Z"
   },
   {
    "duration": 0,
    "start_time": "2023-09-11T18:46:18.356Z"
   },
   {
    "duration": 0,
    "start_time": "2023-09-11T18:46:18.357Z"
   },
   {
    "duration": 0,
    "start_time": "2023-09-11T18:46:18.358Z"
   },
   {
    "duration": 0,
    "start_time": "2023-09-11T18:46:18.359Z"
   },
   {
    "duration": 0,
    "start_time": "2023-09-11T18:46:18.361Z"
   },
   {
    "duration": 0,
    "start_time": "2023-09-11T18:46:18.362Z"
   },
   {
    "duration": 0,
    "start_time": "2023-09-11T18:46:18.363Z"
   },
   {
    "duration": 0,
    "start_time": "2023-09-11T18:46:18.364Z"
   },
   {
    "duration": 0,
    "start_time": "2023-09-11T18:46:18.365Z"
   },
   {
    "duration": 0,
    "start_time": "2023-09-11T18:46:18.366Z"
   },
   {
    "duration": 0,
    "start_time": "2023-09-11T18:46:18.402Z"
   },
   {
    "duration": 0,
    "start_time": "2023-09-11T18:46:18.403Z"
   },
   {
    "duration": 0,
    "start_time": "2023-09-11T18:46:18.404Z"
   },
   {
    "duration": 0,
    "start_time": "2023-09-11T18:46:18.405Z"
   },
   {
    "duration": 0,
    "start_time": "2023-09-11T18:46:18.406Z"
   },
   {
    "duration": 0,
    "start_time": "2023-09-11T18:46:18.408Z"
   },
   {
    "duration": 0,
    "start_time": "2023-09-11T18:46:18.409Z"
   },
   {
    "duration": 0,
    "start_time": "2023-09-11T18:46:18.410Z"
   },
   {
    "duration": 0,
    "start_time": "2023-09-11T18:46:18.412Z"
   },
   {
    "duration": 0,
    "start_time": "2023-09-11T18:46:18.413Z"
   },
   {
    "duration": 0,
    "start_time": "2023-09-11T18:46:18.414Z"
   },
   {
    "duration": 0,
    "start_time": "2023-09-11T18:46:18.415Z"
   },
   {
    "duration": 0,
    "start_time": "2023-09-11T18:46:18.416Z"
   },
   {
    "duration": 0,
    "start_time": "2023-09-11T18:46:18.417Z"
   },
   {
    "duration": 0,
    "start_time": "2023-09-11T18:46:18.418Z"
   },
   {
    "duration": 0,
    "start_time": "2023-09-11T18:46:18.420Z"
   },
   {
    "duration": 0,
    "start_time": "2023-09-11T18:46:18.421Z"
   },
   {
    "duration": 0,
    "start_time": "2023-09-11T18:46:18.422Z"
   },
   {
    "duration": 0,
    "start_time": "2023-09-11T18:46:18.423Z"
   },
   {
    "duration": 0,
    "start_time": "2023-09-11T18:46:18.424Z"
   },
   {
    "duration": 0,
    "start_time": "2023-09-11T18:46:18.425Z"
   },
   {
    "duration": 0,
    "start_time": "2023-09-11T18:46:18.426Z"
   },
   {
    "duration": 0,
    "start_time": "2023-09-11T18:46:18.427Z"
   },
   {
    "duration": 0,
    "start_time": "2023-09-11T18:46:18.428Z"
   },
   {
    "duration": 0,
    "start_time": "2023-09-11T18:46:18.429Z"
   },
   {
    "duration": 0,
    "start_time": "2023-09-11T18:46:18.430Z"
   },
   {
    "duration": 0,
    "start_time": "2023-09-11T18:46:18.431Z"
   },
   {
    "duration": 0,
    "start_time": "2023-09-11T18:46:18.432Z"
   },
   {
    "duration": 0,
    "start_time": "2023-09-11T18:46:18.433Z"
   },
   {
    "duration": 0,
    "start_time": "2023-09-11T18:46:18.434Z"
   },
   {
    "duration": 0,
    "start_time": "2023-09-11T18:46:18.435Z"
   },
   {
    "duration": 0,
    "start_time": "2023-09-11T18:46:18.436Z"
   },
   {
    "duration": 0,
    "start_time": "2023-09-11T18:46:18.437Z"
   },
   {
    "duration": 0,
    "start_time": "2023-09-11T18:46:18.438Z"
   },
   {
    "duration": 0,
    "start_time": "2023-09-11T18:46:18.439Z"
   },
   {
    "duration": 0,
    "start_time": "2023-09-11T18:46:18.501Z"
   },
   {
    "duration": 0,
    "start_time": "2023-09-11T18:46:18.503Z"
   },
   {
    "duration": 0,
    "start_time": "2023-09-11T18:46:18.504Z"
   },
   {
    "duration": 0,
    "start_time": "2023-09-11T18:46:18.505Z"
   },
   {
    "duration": 0,
    "start_time": "2023-09-11T18:46:18.506Z"
   },
   {
    "duration": 0,
    "start_time": "2023-09-11T18:46:18.507Z"
   },
   {
    "duration": 0,
    "start_time": "2023-09-11T18:46:18.508Z"
   },
   {
    "duration": 0,
    "start_time": "2023-09-11T18:46:18.509Z"
   },
   {
    "duration": 0,
    "start_time": "2023-09-11T18:46:18.510Z"
   },
   {
    "duration": 0,
    "start_time": "2023-09-11T18:46:18.512Z"
   },
   {
    "duration": 0,
    "start_time": "2023-09-11T18:46:18.512Z"
   },
   {
    "duration": 0,
    "start_time": "2023-09-11T18:46:18.513Z"
   },
   {
    "duration": 154,
    "start_time": "2023-09-11T18:46:49.558Z"
   },
   {
    "duration": 143,
    "start_time": "2023-09-11T18:47:03.428Z"
   },
   {
    "duration": 10,
    "start_time": "2023-09-11T18:47:19.030Z"
   },
   {
    "duration": 12,
    "start_time": "2023-09-11T18:47:56.304Z"
   },
   {
    "duration": 4,
    "start_time": "2023-09-11T18:48:01.642Z"
   },
   {
    "duration": 1639,
    "start_time": "2023-09-11T18:48:32.828Z"
   },
   {
    "duration": 990,
    "start_time": "2023-09-11T18:48:34.469Z"
   },
   {
    "duration": 23,
    "start_time": "2023-09-11T18:48:35.461Z"
   },
   {
    "duration": 173,
    "start_time": "2023-09-11T18:48:35.501Z"
   },
   {
    "duration": 3,
    "start_time": "2023-09-11T18:48:35.676Z"
   },
   {
    "duration": 529,
    "start_time": "2023-09-11T18:48:35.681Z"
   },
   {
    "duration": 48,
    "start_time": "2023-09-11T18:48:36.212Z"
   },
   {
    "duration": 565,
    "start_time": "2023-09-11T18:48:36.262Z"
   },
   {
    "duration": 37,
    "start_time": "2023-09-11T18:48:36.829Z"
   },
   {
    "duration": 123,
    "start_time": "2023-09-11T18:48:36.869Z"
   },
   {
    "duration": 16,
    "start_time": "2023-09-11T18:48:36.994Z"
   },
   {
    "duration": 77,
    "start_time": "2023-09-11T18:48:37.012Z"
   },
   {
    "duration": 278,
    "start_time": "2023-09-11T18:48:37.091Z"
   },
   {
    "duration": 3,
    "start_time": "2023-09-11T18:48:37.371Z"
   },
   {
    "duration": 97,
    "start_time": "2023-09-11T18:48:37.375Z"
   },
   {
    "duration": 44,
    "start_time": "2023-09-11T18:48:37.475Z"
   },
   {
    "duration": 59,
    "start_time": "2023-09-11T18:48:37.520Z"
   },
   {
    "duration": 54,
    "start_time": "2023-09-11T18:48:37.581Z"
   },
   {
    "duration": 3,
    "start_time": "2023-09-11T18:48:37.637Z"
   },
   {
    "duration": 68,
    "start_time": "2023-09-11T18:48:37.642Z"
   },
   {
    "duration": 61,
    "start_time": "2023-09-11T18:48:37.712Z"
   },
   {
    "duration": 54,
    "start_time": "2023-09-11T18:48:37.774Z"
   },
   {
    "duration": 158,
    "start_time": "2023-09-11T18:48:37.830Z"
   },
   {
    "duration": 122,
    "start_time": "2023-09-11T18:48:37.990Z"
   },
   {
    "duration": 108,
    "start_time": "2023-09-11T18:48:38.114Z"
   },
   {
    "duration": 1718,
    "start_time": "2023-09-11T18:48:38.224Z"
   },
   {
    "duration": 1561,
    "start_time": "2023-09-11T18:48:39.943Z"
   },
   {
    "duration": 434,
    "start_time": "2023-09-11T18:48:41.510Z"
   },
   {
    "duration": 80,
    "start_time": "2023-09-11T18:48:41.946Z"
   },
   {
    "duration": 466,
    "start_time": "2023-09-11T18:48:42.028Z"
   },
   {
    "duration": 529,
    "start_time": "2023-09-11T18:48:42.497Z"
   },
   {
    "duration": 8,
    "start_time": "2023-09-11T18:48:43.028Z"
   },
   {
    "duration": 66,
    "start_time": "2023-09-11T18:48:43.038Z"
   },
   {
    "duration": 477,
    "start_time": "2023-09-11T18:48:43.106Z"
   },
   {
    "duration": 495,
    "start_time": "2023-09-11T18:48:43.585Z"
   },
   {
    "duration": 343,
    "start_time": "2023-09-11T18:48:44.082Z"
   },
   {
    "duration": 582,
    "start_time": "2023-09-11T18:48:44.427Z"
   },
   {
    "duration": 29,
    "start_time": "2023-09-11T18:48:45.011Z"
   },
   {
    "duration": 314,
    "start_time": "2023-09-11T18:48:45.042Z"
   },
   {
    "duration": 597,
    "start_time": "2023-09-11T18:48:45.358Z"
   },
   {
    "duration": 488,
    "start_time": "2023-09-11T18:48:45.957Z"
   },
   {
    "duration": 254,
    "start_time": "2023-09-11T18:48:46.448Z"
   },
   {
    "duration": 109,
    "start_time": "2023-09-11T18:48:46.704Z"
   },
   {
    "duration": 174,
    "start_time": "2023-09-11T18:48:46.815Z"
   },
   {
    "duration": 3,
    "start_time": "2023-09-11T18:48:46.991Z"
   },
   {
    "duration": 81,
    "start_time": "2023-09-11T18:48:47.002Z"
   },
   {
    "duration": 0,
    "start_time": "2023-09-11T18:48:47.085Z"
   },
   {
    "duration": 0,
    "start_time": "2023-09-11T18:48:47.088Z"
   },
   {
    "duration": 0,
    "start_time": "2023-09-11T18:48:47.091Z"
   },
   {
    "duration": 0,
    "start_time": "2023-09-11T18:48:47.092Z"
   },
   {
    "duration": 0,
    "start_time": "2023-09-11T18:48:47.094Z"
   },
   {
    "duration": 0,
    "start_time": "2023-09-11T18:48:47.095Z"
   },
   {
    "duration": 0,
    "start_time": "2023-09-11T18:48:47.097Z"
   },
   {
    "duration": 0,
    "start_time": "2023-09-11T18:48:47.098Z"
   },
   {
    "duration": 0,
    "start_time": "2023-09-11T18:48:47.099Z"
   },
   {
    "duration": 0,
    "start_time": "2023-09-11T18:48:47.100Z"
   },
   {
    "duration": 0,
    "start_time": "2023-09-11T18:48:47.101Z"
   },
   {
    "duration": 0,
    "start_time": "2023-09-11T18:48:47.102Z"
   },
   {
    "duration": 0,
    "start_time": "2023-09-11T18:48:47.103Z"
   },
   {
    "duration": 0,
    "start_time": "2023-09-11T18:48:47.104Z"
   },
   {
    "duration": 0,
    "start_time": "2023-09-11T18:48:47.106Z"
   },
   {
    "duration": 0,
    "start_time": "2023-09-11T18:48:47.107Z"
   },
   {
    "duration": 0,
    "start_time": "2023-09-11T18:48:47.108Z"
   },
   {
    "duration": 0,
    "start_time": "2023-09-11T18:48:47.109Z"
   },
   {
    "duration": 0,
    "start_time": "2023-09-11T18:48:47.110Z"
   },
   {
    "duration": 0,
    "start_time": "2023-09-11T18:48:47.112Z"
   },
   {
    "duration": 0,
    "start_time": "2023-09-11T18:48:47.114Z"
   },
   {
    "duration": 0,
    "start_time": "2023-09-11T18:48:47.115Z"
   },
   {
    "duration": 0,
    "start_time": "2023-09-11T18:48:47.116Z"
   },
   {
    "duration": 0,
    "start_time": "2023-09-11T18:48:47.117Z"
   },
   {
    "duration": 0,
    "start_time": "2023-09-11T18:48:47.118Z"
   },
   {
    "duration": 3,
    "start_time": "2023-09-11T18:49:08.226Z"
   },
   {
    "duration": 86,
    "start_time": "2023-09-11T18:49:55.623Z"
   },
   {
    "duration": 3,
    "start_time": "2023-09-11T18:50:01.167Z"
   },
   {
    "duration": 143,
    "start_time": "2023-09-11T18:51:11.798Z"
   },
   {
    "duration": 150,
    "start_time": "2023-09-11T18:51:12.630Z"
   },
   {
    "duration": 157,
    "start_time": "2023-09-11T18:51:46.045Z"
   },
   {
    "duration": 80,
    "start_time": "2023-09-11T18:53:23.284Z"
   },
   {
    "duration": 4,
    "start_time": "2023-09-11T18:53:29.845Z"
   },
   {
    "duration": 77,
    "start_time": "2023-09-11T18:53:33.778Z"
   },
   {
    "duration": 4,
    "start_time": "2023-09-11T18:53:38.478Z"
   },
   {
    "duration": 166,
    "start_time": "2023-09-11T19:00:51.356Z"
   },
   {
    "duration": 3,
    "start_time": "2023-09-11T19:00:51.974Z"
   },
   {
    "duration": 5,
    "start_time": "2023-09-11T19:00:53.395Z"
   },
   {
    "duration": 95,
    "start_time": "2023-09-11T19:00:59.640Z"
   },
   {
    "duration": 89,
    "start_time": "2023-09-11T19:01:07.662Z"
   },
   {
    "duration": 76,
    "start_time": "2023-09-11T19:01:12.466Z"
   },
   {
    "duration": 3,
    "start_time": "2023-09-11T19:01:52.708Z"
   },
   {
    "duration": 5,
    "start_time": "2023-09-11T19:02:11.118Z"
   },
   {
    "duration": 4,
    "start_time": "2023-09-11T19:02:45.902Z"
   },
   {
    "duration": 4,
    "start_time": "2023-09-11T19:02:50.374Z"
   },
   {
    "duration": 1627,
    "start_time": "2023-09-11T19:13:03.308Z"
   },
   {
    "duration": 956,
    "start_time": "2023-09-11T19:13:04.937Z"
   },
   {
    "duration": 19,
    "start_time": "2023-09-11T19:13:05.895Z"
   },
   {
    "duration": 170,
    "start_time": "2023-09-11T19:13:05.916Z"
   },
   {
    "duration": 4,
    "start_time": "2023-09-11T19:13:06.088Z"
   },
   {
    "duration": 573,
    "start_time": "2023-09-11T19:13:06.102Z"
   },
   {
    "duration": 55,
    "start_time": "2023-09-11T19:13:06.677Z"
   },
   {
    "duration": 559,
    "start_time": "2023-09-11T19:13:06.734Z"
   },
   {
    "duration": 43,
    "start_time": "2023-09-11T19:13:07.294Z"
   },
   {
    "duration": 106,
    "start_time": "2023-09-11T19:13:07.339Z"
   },
   {
    "duration": 22,
    "start_time": "2023-09-11T19:13:07.447Z"
   },
   {
    "duration": 84,
    "start_time": "2023-09-11T19:13:07.470Z"
   },
   {
    "duration": 280,
    "start_time": "2023-09-11T19:13:07.556Z"
   },
   {
    "duration": 2,
    "start_time": "2023-09-11T19:13:07.839Z"
   },
   {
    "duration": 54,
    "start_time": "2023-09-11T19:13:07.843Z"
   },
   {
    "duration": 51,
    "start_time": "2023-09-11T19:13:07.899Z"
   },
   {
    "duration": 50,
    "start_time": "2023-09-11T19:13:07.951Z"
   },
   {
    "duration": 64,
    "start_time": "2023-09-11T19:13:08.002Z"
   },
   {
    "duration": 14,
    "start_time": "2023-09-11T19:13:08.068Z"
   },
   {
    "duration": 73,
    "start_time": "2023-09-11T19:13:08.083Z"
   },
   {
    "duration": 52,
    "start_time": "2023-09-11T19:13:08.158Z"
   },
   {
    "duration": 38,
    "start_time": "2023-09-11T19:13:08.211Z"
   },
   {
    "duration": 150,
    "start_time": "2023-09-11T19:13:08.251Z"
   },
   {
    "duration": 108,
    "start_time": "2023-09-11T19:13:08.402Z"
   },
   {
    "duration": 135,
    "start_time": "2023-09-11T19:13:08.512Z"
   },
   {
    "duration": 1539,
    "start_time": "2023-09-11T19:13:08.649Z"
   },
   {
    "duration": 1598,
    "start_time": "2023-09-11T19:13:10.190Z"
   },
   {
    "duration": 393,
    "start_time": "2023-09-11T19:13:11.789Z"
   },
   {
    "duration": 81,
    "start_time": "2023-09-11T19:13:12.184Z"
   },
   {
    "duration": 448,
    "start_time": "2023-09-11T19:13:12.266Z"
   },
   {
    "duration": 512,
    "start_time": "2023-09-11T19:13:12.715Z"
   },
   {
    "duration": 6,
    "start_time": "2023-09-11T19:13:13.229Z"
   },
   {
    "duration": 58,
    "start_time": "2023-09-11T19:13:13.236Z"
   },
   {
    "duration": 535,
    "start_time": "2023-09-11T19:13:13.296Z"
   },
   {
    "duration": 489,
    "start_time": "2023-09-11T19:13:13.834Z"
   },
   {
    "duration": 308,
    "start_time": "2023-09-11T19:13:14.325Z"
   },
   {
    "duration": 587,
    "start_time": "2023-09-11T19:13:14.635Z"
   },
   {
    "duration": 30,
    "start_time": "2023-09-11T19:13:15.224Z"
   },
   {
    "duration": 659,
    "start_time": "2023-09-11T19:13:15.256Z"
   },
   {
    "duration": 655,
    "start_time": "2023-09-11T19:13:15.917Z"
   },
   {
    "duration": 476,
    "start_time": "2023-09-11T19:13:16.576Z"
   },
   {
    "duration": 232,
    "start_time": "2023-09-11T19:13:17.054Z"
   },
   {
    "duration": 99,
    "start_time": "2023-09-11T19:13:17.288Z"
   },
   {
    "duration": 150,
    "start_time": "2023-09-11T19:13:17.390Z"
   },
   {
    "duration": 3,
    "start_time": "2023-09-11T19:13:17.542Z"
   },
   {
    "duration": 9,
    "start_time": "2023-09-11T19:13:17.546Z"
   },
   {
    "duration": 14,
    "start_time": "2023-09-11T19:13:17.557Z"
   },
   {
    "duration": 58,
    "start_time": "2023-09-11T19:13:17.573Z"
   },
   {
    "duration": 31,
    "start_time": "2023-09-11T19:13:17.632Z"
   },
   {
    "duration": 14,
    "start_time": "2023-09-11T19:13:17.665Z"
   },
   {
    "duration": 102,
    "start_time": "2023-09-11T19:13:17.681Z"
   },
   {
    "duration": 1288,
    "start_time": "2023-09-11T19:13:17.785Z"
   },
   {
    "duration": 634,
    "start_time": "2023-09-11T19:13:19.075Z"
   },
   {
    "duration": 5,
    "start_time": "2023-09-11T19:13:19.711Z"
   },
   {
    "duration": 7,
    "start_time": "2023-09-11T19:13:19.717Z"
   },
   {
    "duration": 10,
    "start_time": "2023-09-11T19:13:19.726Z"
   },
   {
    "duration": 32780,
    "start_time": "2023-09-11T19:13:19.737Z"
   },
   {
    "duration": 111,
    "start_time": "2023-09-11T19:13:52.603Z"
   },
   {
    "duration": 456215,
    "start_time": "2023-09-11T19:13:52.717Z"
   },
   {
    "duration": 33721,
    "start_time": "2023-09-11T19:21:28.934Z"
   },
   {
    "duration": 2189,
    "start_time": "2023-09-12T17:01:44.452Z"
   },
   {
    "duration": 0,
    "start_time": "2023-09-12T17:01:46.646Z"
   },
   {
    "duration": 0,
    "start_time": "2023-09-12T17:01:46.651Z"
   },
   {
    "duration": 0,
    "start_time": "2023-09-12T17:01:46.652Z"
   },
   {
    "duration": 0,
    "start_time": "2023-09-12T17:01:46.655Z"
   },
   {
    "duration": 0,
    "start_time": "2023-09-12T17:01:46.659Z"
   },
   {
    "duration": 0,
    "start_time": "2023-09-12T17:01:46.662Z"
   },
   {
    "duration": 0,
    "start_time": "2023-09-12T17:01:46.666Z"
   },
   {
    "duration": 0,
    "start_time": "2023-09-12T17:01:46.666Z"
   },
   {
    "duration": 0,
    "start_time": "2023-09-12T17:01:46.667Z"
   },
   {
    "duration": 0,
    "start_time": "2023-09-12T17:01:46.668Z"
   },
   {
    "duration": 0,
    "start_time": "2023-09-12T17:01:46.669Z"
   },
   {
    "duration": 0,
    "start_time": "2023-09-12T17:01:46.670Z"
   },
   {
    "duration": 0,
    "start_time": "2023-09-12T17:01:46.670Z"
   },
   {
    "duration": 0,
    "start_time": "2023-09-12T17:01:46.672Z"
   },
   {
    "duration": 0,
    "start_time": "2023-09-12T17:01:46.675Z"
   },
   {
    "duration": 0,
    "start_time": "2023-09-12T17:01:46.675Z"
   },
   {
    "duration": 0,
    "start_time": "2023-09-12T17:01:46.676Z"
   },
   {
    "duration": 0,
    "start_time": "2023-09-12T17:01:46.679Z"
   },
   {
    "duration": 0,
    "start_time": "2023-09-12T17:01:46.681Z"
   },
   {
    "duration": 0,
    "start_time": "2023-09-12T17:01:46.682Z"
   },
   {
    "duration": 0,
    "start_time": "2023-09-12T17:01:46.684Z"
   },
   {
    "duration": 0,
    "start_time": "2023-09-12T17:01:46.685Z"
   },
   {
    "duration": 0,
    "start_time": "2023-09-12T17:01:46.686Z"
   },
   {
    "duration": 0,
    "start_time": "2023-09-12T17:01:46.687Z"
   },
   {
    "duration": 0,
    "start_time": "2023-09-12T17:01:46.688Z"
   },
   {
    "duration": 0,
    "start_time": "2023-09-12T17:01:46.689Z"
   },
   {
    "duration": 0,
    "start_time": "2023-09-12T17:01:46.691Z"
   },
   {
    "duration": 0,
    "start_time": "2023-09-12T17:01:46.692Z"
   },
   {
    "duration": 0,
    "start_time": "2023-09-12T17:01:46.694Z"
   },
   {
    "duration": 0,
    "start_time": "2023-09-12T17:01:46.696Z"
   },
   {
    "duration": 1,
    "start_time": "2023-09-12T17:01:46.697Z"
   },
   {
    "duration": 0,
    "start_time": "2023-09-12T17:01:46.699Z"
   },
   {
    "duration": 0,
    "start_time": "2023-09-12T17:01:46.701Z"
   },
   {
    "duration": 1,
    "start_time": "2023-09-12T17:01:46.702Z"
   },
   {
    "duration": 0,
    "start_time": "2023-09-12T17:01:46.752Z"
   },
   {
    "duration": 0,
    "start_time": "2023-09-12T17:01:46.755Z"
   },
   {
    "duration": 0,
    "start_time": "2023-09-12T17:01:46.756Z"
   },
   {
    "duration": 0,
    "start_time": "2023-09-12T17:01:46.757Z"
   },
   {
    "duration": 0,
    "start_time": "2023-09-12T17:01:46.758Z"
   },
   {
    "duration": 0,
    "start_time": "2023-09-12T17:01:46.759Z"
   },
   {
    "duration": 0,
    "start_time": "2023-09-12T17:01:46.760Z"
   },
   {
    "duration": 0,
    "start_time": "2023-09-12T17:01:46.763Z"
   },
   {
    "duration": 0,
    "start_time": "2023-09-12T17:01:46.764Z"
   },
   {
    "duration": 0,
    "start_time": "2023-09-12T17:01:46.765Z"
   },
   {
    "duration": 0,
    "start_time": "2023-09-12T17:01:46.766Z"
   },
   {
    "duration": 0,
    "start_time": "2023-09-12T17:01:46.767Z"
   },
   {
    "duration": 0,
    "start_time": "2023-09-12T17:01:46.768Z"
   },
   {
    "duration": 0,
    "start_time": "2023-09-12T17:01:46.768Z"
   },
   {
    "duration": 0,
    "start_time": "2023-09-12T17:01:46.769Z"
   },
   {
    "duration": 0,
    "start_time": "2023-09-12T17:01:46.772Z"
   },
   {
    "duration": 0,
    "start_time": "2023-09-12T17:01:46.772Z"
   },
   {
    "duration": 0,
    "start_time": "2023-09-12T17:01:46.773Z"
   },
   {
    "duration": 0,
    "start_time": "2023-09-12T17:01:46.776Z"
   },
   {
    "duration": 0,
    "start_time": "2023-09-12T17:01:46.777Z"
   },
   {
    "duration": 0,
    "start_time": "2023-09-12T17:01:46.778Z"
   },
   {
    "duration": 0,
    "start_time": "2023-09-12T17:01:46.780Z"
   },
   {
    "duration": 0,
    "start_time": "2023-09-12T17:01:46.781Z"
   },
   {
    "duration": 0,
    "start_time": "2023-09-12T17:01:46.782Z"
   },
   {
    "duration": 0,
    "start_time": "2023-09-12T17:01:46.783Z"
   },
   {
    "duration": 0,
    "start_time": "2023-09-12T17:01:46.784Z"
   },
   {
    "duration": 0,
    "start_time": "2023-09-12T17:01:46.785Z"
   },
   {
    "duration": 0,
    "start_time": "2023-09-12T17:01:46.787Z"
   },
   {
    "duration": 0,
    "start_time": "2023-09-12T17:01:46.788Z"
   },
   {
    "duration": 0,
    "start_time": "2023-09-12T17:01:46.790Z"
   },
   {
    "duration": 0,
    "start_time": "2023-09-12T17:01:46.791Z"
   },
   {
    "duration": 0,
    "start_time": "2023-09-12T17:01:46.792Z"
   },
   {
    "duration": 0,
    "start_time": "2023-09-12T17:01:46.793Z"
   },
   {
    "duration": 0,
    "start_time": "2023-09-12T17:01:46.794Z"
   },
   {
    "duration": 0,
    "start_time": "2023-09-12T17:01:46.850Z"
   },
   {
    "duration": 0,
    "start_time": "2023-09-12T17:01:46.851Z"
   },
   {
    "duration": 0,
    "start_time": "2023-09-12T17:01:46.860Z"
   },
   {
    "duration": 0,
    "start_time": "2023-09-12T17:01:46.860Z"
   },
   {
    "duration": 0,
    "start_time": "2023-09-12T17:01:46.861Z"
   },
   {
    "duration": 0,
    "start_time": "2023-09-12T17:01:46.862Z"
   },
   {
    "duration": 5821,
    "start_time": "2023-09-12T17:03:10.202Z"
   },
   {
    "duration": 0,
    "start_time": "2023-09-12T17:03:16.026Z"
   },
   {
    "duration": 1,
    "start_time": "2023-09-12T17:03:16.027Z"
   },
   {
    "duration": 0,
    "start_time": "2023-09-12T17:03:16.029Z"
   },
   {
    "duration": 0,
    "start_time": "2023-09-12T17:03:16.029Z"
   },
   {
    "duration": 0,
    "start_time": "2023-09-12T17:03:16.031Z"
   },
   {
    "duration": 0,
    "start_time": "2023-09-12T17:03:16.032Z"
   },
   {
    "duration": 0,
    "start_time": "2023-09-12T17:03:16.054Z"
   },
   {
    "duration": 0,
    "start_time": "2023-09-12T17:03:16.055Z"
   },
   {
    "duration": 0,
    "start_time": "2023-09-12T17:03:16.056Z"
   },
   {
    "duration": 0,
    "start_time": "2023-09-12T17:03:16.057Z"
   },
   {
    "duration": 0,
    "start_time": "2023-09-12T17:03:16.058Z"
   },
   {
    "duration": 0,
    "start_time": "2023-09-12T17:03:16.064Z"
   },
   {
    "duration": 0,
    "start_time": "2023-09-12T17:03:16.065Z"
   },
   {
    "duration": 0,
    "start_time": "2023-09-12T17:03:16.067Z"
   },
   {
    "duration": 0,
    "start_time": "2023-09-12T17:03:16.067Z"
   },
   {
    "duration": 0,
    "start_time": "2023-09-12T17:03:16.068Z"
   },
   {
    "duration": 0,
    "start_time": "2023-09-12T17:03:16.069Z"
   },
   {
    "duration": 0,
    "start_time": "2023-09-12T17:03:16.070Z"
   },
   {
    "duration": 0,
    "start_time": "2023-09-12T17:03:16.071Z"
   },
   {
    "duration": 0,
    "start_time": "2023-09-12T17:03:16.072Z"
   },
   {
    "duration": 0,
    "start_time": "2023-09-12T17:03:16.073Z"
   },
   {
    "duration": 0,
    "start_time": "2023-09-12T17:03:16.075Z"
   },
   {
    "duration": 0,
    "start_time": "2023-09-12T17:03:16.077Z"
   },
   {
    "duration": 0,
    "start_time": "2023-09-12T17:03:16.078Z"
   },
   {
    "duration": 0,
    "start_time": "2023-09-12T17:03:16.080Z"
   },
   {
    "duration": 0,
    "start_time": "2023-09-12T17:03:16.081Z"
   },
   {
    "duration": 0,
    "start_time": "2023-09-12T17:03:16.083Z"
   },
   {
    "duration": 0,
    "start_time": "2023-09-12T17:03:16.084Z"
   },
   {
    "duration": 0,
    "start_time": "2023-09-12T17:03:16.085Z"
   },
   {
    "duration": 0,
    "start_time": "2023-09-12T17:03:16.087Z"
   },
   {
    "duration": 0,
    "start_time": "2023-09-12T17:03:16.088Z"
   },
   {
    "duration": 0,
    "start_time": "2023-09-12T17:03:16.089Z"
   },
   {
    "duration": 0,
    "start_time": "2023-09-12T17:03:16.091Z"
   },
   {
    "duration": 0,
    "start_time": "2023-09-12T17:03:16.093Z"
   },
   {
    "duration": 0,
    "start_time": "2023-09-12T17:03:16.094Z"
   },
   {
    "duration": 0,
    "start_time": "2023-09-12T17:03:16.095Z"
   },
   {
    "duration": 0,
    "start_time": "2023-09-12T17:03:16.097Z"
   },
   {
    "duration": 0,
    "start_time": "2023-09-12T17:03:16.098Z"
   },
   {
    "duration": 0,
    "start_time": "2023-09-12T17:03:16.152Z"
   },
   {
    "duration": 0,
    "start_time": "2023-09-12T17:03:16.154Z"
   },
   {
    "duration": 0,
    "start_time": "2023-09-12T17:03:16.156Z"
   },
   {
    "duration": 0,
    "start_time": "2023-09-12T17:03:16.157Z"
   },
   {
    "duration": 0,
    "start_time": "2023-09-12T17:03:16.158Z"
   },
   {
    "duration": 0,
    "start_time": "2023-09-12T17:03:16.161Z"
   },
   {
    "duration": 0,
    "start_time": "2023-09-12T17:03:16.162Z"
   },
   {
    "duration": 0,
    "start_time": "2023-09-12T17:03:16.162Z"
   },
   {
    "duration": 0,
    "start_time": "2023-09-12T17:03:16.168Z"
   },
   {
    "duration": 0,
    "start_time": "2023-09-12T17:03:16.169Z"
   },
   {
    "duration": 0,
    "start_time": "2023-09-12T17:03:16.170Z"
   },
   {
    "duration": 1,
    "start_time": "2023-09-12T17:03:16.175Z"
   },
   {
    "duration": 0,
    "start_time": "2023-09-12T17:03:16.177Z"
   },
   {
    "duration": 0,
    "start_time": "2023-09-12T17:03:16.178Z"
   },
   {
    "duration": 0,
    "start_time": "2023-09-12T17:03:16.180Z"
   },
   {
    "duration": 0,
    "start_time": "2023-09-12T17:03:16.181Z"
   },
   {
    "duration": 0,
    "start_time": "2023-09-12T17:03:16.182Z"
   },
   {
    "duration": 0,
    "start_time": "2023-09-12T17:03:16.183Z"
   },
   {
    "duration": 0,
    "start_time": "2023-09-12T17:03:16.185Z"
   },
   {
    "duration": 0,
    "start_time": "2023-09-12T17:03:16.187Z"
   },
   {
    "duration": 0,
    "start_time": "2023-09-12T17:03:16.190Z"
   },
   {
    "duration": 0,
    "start_time": "2023-09-12T17:03:16.191Z"
   },
   {
    "duration": 0,
    "start_time": "2023-09-12T17:03:16.193Z"
   },
   {
    "duration": 0,
    "start_time": "2023-09-12T17:03:16.194Z"
   },
   {
    "duration": 0,
    "start_time": "2023-09-12T17:03:16.196Z"
   },
   {
    "duration": 0,
    "start_time": "2023-09-12T17:03:16.197Z"
   },
   {
    "duration": 0,
    "start_time": "2023-09-12T17:03:16.199Z"
   },
   {
    "duration": 0,
    "start_time": "2023-09-12T17:03:16.251Z"
   },
   {
    "duration": 0,
    "start_time": "2023-09-12T17:03:16.252Z"
   },
   {
    "duration": 0,
    "start_time": "2023-09-12T17:03:16.253Z"
   },
   {
    "duration": 0,
    "start_time": "2023-09-12T17:03:16.253Z"
   },
   {
    "duration": 0,
    "start_time": "2023-09-12T17:03:16.254Z"
   },
   {
    "duration": 0,
    "start_time": "2023-09-12T17:03:16.255Z"
   },
   {
    "duration": 0,
    "start_time": "2023-09-12T17:03:16.257Z"
   },
   {
    "duration": 0,
    "start_time": "2023-09-12T17:03:16.257Z"
   },
   {
    "duration": 0,
    "start_time": "2023-09-12T17:03:16.258Z"
   },
   {
    "duration": 1831,
    "start_time": "2023-09-12T17:03:44.988Z"
   },
   {
    "duration": 1261,
    "start_time": "2023-09-12T17:03:46.821Z"
   },
   {
    "duration": 17,
    "start_time": "2023-09-12T17:03:48.084Z"
   },
   {
    "duration": 175,
    "start_time": "2023-09-12T17:03:48.104Z"
   },
   {
    "duration": 4,
    "start_time": "2023-09-12T17:03:48.281Z"
   },
   {
    "duration": 480,
    "start_time": "2023-09-12T17:03:48.286Z"
   },
   {
    "duration": 31,
    "start_time": "2023-09-12T17:03:48.769Z"
   },
   {
    "duration": 535,
    "start_time": "2023-09-12T17:03:48.802Z"
   },
   {
    "duration": 44,
    "start_time": "2023-09-12T17:03:49.338Z"
   },
   {
    "duration": 114,
    "start_time": "2023-09-12T17:03:49.384Z"
   },
   {
    "duration": 15,
    "start_time": "2023-09-12T17:03:49.500Z"
   },
   {
    "duration": 81,
    "start_time": "2023-09-12T17:03:49.517Z"
   },
   {
    "duration": 277,
    "start_time": "2023-09-12T17:03:49.600Z"
   },
   {
    "duration": 3,
    "start_time": "2023-09-12T17:03:49.880Z"
   },
   {
    "duration": 50,
    "start_time": "2023-09-12T17:03:49.884Z"
   },
   {
    "duration": 56,
    "start_time": "2023-09-12T17:03:49.936Z"
   },
   {
    "duration": 38,
    "start_time": "2023-09-12T17:03:49.993Z"
   },
   {
    "duration": 57,
    "start_time": "2023-09-12T17:03:50.033Z"
   },
   {
    "duration": 9,
    "start_time": "2023-09-12T17:03:50.092Z"
   },
   {
    "duration": 37,
    "start_time": "2023-09-12T17:03:50.102Z"
   },
   {
    "duration": 45,
    "start_time": "2023-09-12T17:03:50.151Z"
   },
   {
    "duration": 22,
    "start_time": "2023-09-12T17:03:50.198Z"
   },
   {
    "duration": 144,
    "start_time": "2023-09-12T17:03:50.221Z"
   },
   {
    "duration": 99,
    "start_time": "2023-09-12T17:03:50.369Z"
   },
   {
    "duration": 109,
    "start_time": "2023-09-12T17:03:50.469Z"
   },
   {
    "duration": 1544,
    "start_time": "2023-09-12T17:03:50.583Z"
   },
   {
    "duration": 1477,
    "start_time": "2023-09-12T17:03:52.129Z"
   },
   {
    "duration": 392,
    "start_time": "2023-09-12T17:03:53.608Z"
   },
   {
    "duration": 74,
    "start_time": "2023-09-12T17:03:54.002Z"
   },
   {
    "duration": 364,
    "start_time": "2023-09-12T17:03:54.078Z"
   },
   {
    "duration": 429,
    "start_time": "2023-09-12T17:03:54.449Z"
   },
   {
    "duration": 6,
    "start_time": "2023-09-12T17:03:54.879Z"
   },
   {
    "duration": 23,
    "start_time": "2023-09-12T17:03:54.886Z"
   },
   {
    "duration": 430,
    "start_time": "2023-09-12T17:03:54.910Z"
   },
   {
    "duration": 397,
    "start_time": "2023-09-12T17:03:55.342Z"
   },
   {
    "duration": 345,
    "start_time": "2023-09-12T17:03:55.741Z"
   },
   {
    "duration": 687,
    "start_time": "2023-09-12T17:03:56.090Z"
   },
   {
    "duration": 71,
    "start_time": "2023-09-12T17:03:56.779Z"
   },
   {
    "duration": 623,
    "start_time": "2023-09-12T17:03:56.851Z"
   },
   {
    "duration": 1218,
    "start_time": "2023-09-12T17:03:57.476Z"
   },
   {
    "duration": 503,
    "start_time": "2023-09-12T17:03:58.702Z"
   },
   {
    "duration": 238,
    "start_time": "2023-09-12T17:03:59.207Z"
   },
   {
    "duration": 83,
    "start_time": "2023-09-12T17:03:59.449Z"
   },
   {
    "duration": 143,
    "start_time": "2023-09-12T17:03:59.534Z"
   },
   {
    "duration": 3,
    "start_time": "2023-09-12T17:03:59.679Z"
   },
   {
    "duration": 8,
    "start_time": "2023-09-12T17:03:59.683Z"
   },
   {
    "duration": 13,
    "start_time": "2023-09-12T17:03:59.692Z"
   },
   {
    "duration": 59,
    "start_time": "2023-09-12T17:03:59.707Z"
   },
   {
    "duration": 25,
    "start_time": "2023-09-12T17:03:59.767Z"
   },
   {
    "duration": 12,
    "start_time": "2023-09-12T17:03:59.794Z"
   },
   {
    "duration": 85,
    "start_time": "2023-09-12T17:03:59.807Z"
   },
   {
    "duration": 931,
    "start_time": "2023-09-12T17:03:59.894Z"
   },
   {
    "duration": 637,
    "start_time": "2023-09-12T17:04:00.826Z"
   },
   {
    "duration": 2388,
    "start_time": "2023-09-12T17:04:01.464Z"
   },
   {
    "duration": 0,
    "start_time": "2023-09-12T17:04:03.855Z"
   },
   {
    "duration": 0,
    "start_time": "2023-09-12T17:04:03.859Z"
   },
   {
    "duration": 0,
    "start_time": "2023-09-12T17:04:03.863Z"
   },
   {
    "duration": 0,
    "start_time": "2023-09-12T17:04:03.865Z"
   },
   {
    "duration": 0,
    "start_time": "2023-09-12T17:04:03.866Z"
   },
   {
    "duration": 0,
    "start_time": "2023-09-12T17:04:03.867Z"
   },
   {
    "duration": 0,
    "start_time": "2023-09-12T17:04:03.868Z"
   },
   {
    "duration": 0,
    "start_time": "2023-09-12T17:04:03.869Z"
   },
   {
    "duration": 0,
    "start_time": "2023-09-12T17:04:03.870Z"
   },
   {
    "duration": 0,
    "start_time": "2023-09-12T17:04:03.871Z"
   },
   {
    "duration": 0,
    "start_time": "2023-09-12T17:04:03.872Z"
   },
   {
    "duration": 0,
    "start_time": "2023-09-12T17:04:03.873Z"
   },
   {
    "duration": 0,
    "start_time": "2023-09-12T17:04:03.874Z"
   },
   {
    "duration": 0,
    "start_time": "2023-09-12T17:04:03.876Z"
   },
   {
    "duration": 0,
    "start_time": "2023-09-12T17:04:03.876Z"
   },
   {
    "duration": 0,
    "start_time": "2023-09-12T17:04:03.878Z"
   },
   {
    "duration": 0,
    "start_time": "2023-09-12T17:04:03.879Z"
   },
   {
    "duration": 0,
    "start_time": "2023-09-12T17:04:03.880Z"
   },
   {
    "duration": 0,
    "start_time": "2023-09-12T17:04:03.881Z"
   },
   {
    "duration": 0,
    "start_time": "2023-09-12T17:04:03.882Z"
   },
   {
    "duration": 0,
    "start_time": "2023-09-12T17:04:03.883Z"
   },
   {
    "duration": 16,
    "start_time": "2023-09-12T17:06:01.004Z"
   },
   {
    "duration": 2243,
    "start_time": "2023-09-12T17:08:20.938Z"
   },
   {
    "duration": 10,
    "start_time": "2023-09-12T17:08:37.599Z"
   },
   {
    "duration": 2229,
    "start_time": "2023-09-12T17:08:55.407Z"
   },
   {
    "duration": 13,
    "start_time": "2023-09-12T17:09:10.897Z"
   },
   {
    "duration": 3,
    "start_time": "2023-09-12T17:09:24.413Z"
   },
   {
    "duration": 12,
    "start_time": "2023-09-12T17:09:26.777Z"
   },
   {
    "duration": 1594,
    "start_time": "2023-09-12T17:09:57.192Z"
   },
   {
    "duration": 4,
    "start_time": "2023-09-12T17:10:01.095Z"
   },
   {
    "duration": 3,
    "start_time": "2023-09-12T17:13:10.101Z"
   },
   {
    "duration": 4,
    "start_time": "2023-09-12T17:13:12.226Z"
   },
   {
    "duration": 1584,
    "start_time": "2023-09-12T17:13:13.765Z"
   },
   {
    "duration": 4,
    "start_time": "2023-09-12T17:13:15.356Z"
   },
   {
    "duration": 4,
    "start_time": "2023-09-12T17:22:48.357Z"
   },
   {
    "duration": 4,
    "start_time": "2023-09-12T17:22:51.163Z"
   },
   {
    "duration": 3,
    "start_time": "2023-09-12T17:22:51.821Z"
   },
   {
    "duration": 44098,
    "start_time": "2023-09-12T17:28:07.568Z"
   },
   {
    "duration": 143270,
    "start_time": "2023-09-12T17:38:41.386Z"
   },
   {
    "duration": 34092,
    "start_time": "2023-09-12T17:55:02.666Z"
   },
   {
    "duration": 33038,
    "start_time": "2023-09-12T17:55:54.629Z"
   },
   {
    "duration": 368,
    "start_time": "2023-09-12T17:56:56.193Z"
   },
   {
    "duration": 1401,
    "start_time": "2023-09-12T17:59:13.102Z"
   },
   {
    "duration": 832,
    "start_time": "2023-09-12T17:59:14.505Z"
   },
   {
    "duration": 24,
    "start_time": "2023-09-12T17:59:15.338Z"
   },
   {
    "duration": 155,
    "start_time": "2023-09-12T17:59:15.364Z"
   },
   {
    "duration": 3,
    "start_time": "2023-09-12T17:59:15.520Z"
   },
   {
    "duration": 465,
    "start_time": "2023-09-12T17:59:15.524Z"
   },
   {
    "duration": 27,
    "start_time": "2023-09-12T17:59:15.990Z"
   },
   {
    "duration": 585,
    "start_time": "2023-09-12T17:59:16.019Z"
   },
   {
    "duration": 34,
    "start_time": "2023-09-12T17:59:16.606Z"
   },
   {
    "duration": 117,
    "start_time": "2023-09-12T17:59:16.642Z"
   },
   {
    "duration": 12,
    "start_time": "2023-09-12T17:59:16.760Z"
   },
   {
    "duration": 56,
    "start_time": "2023-09-12T17:59:16.773Z"
   },
   {
    "duration": 255,
    "start_time": "2023-09-12T17:59:16.831Z"
   },
   {
    "duration": 2,
    "start_time": "2023-09-12T17:59:17.088Z"
   },
   {
    "duration": 36,
    "start_time": "2023-09-12T17:59:17.092Z"
   },
   {
    "duration": 54,
    "start_time": "2023-09-12T17:59:17.130Z"
   },
   {
    "duration": 32,
    "start_time": "2023-09-12T17:59:17.186Z"
   },
   {
    "duration": 53,
    "start_time": "2023-09-12T17:59:17.220Z"
   },
   {
    "duration": 2,
    "start_time": "2023-09-12T17:59:17.275Z"
   },
   {
    "duration": 38,
    "start_time": "2023-09-12T17:59:17.278Z"
   },
   {
    "duration": 59,
    "start_time": "2023-09-12T17:59:17.318Z"
   },
   {
    "duration": 24,
    "start_time": "2023-09-12T17:59:17.379Z"
   },
   {
    "duration": 121,
    "start_time": "2023-09-12T17:59:17.405Z"
   },
   {
    "duration": 108,
    "start_time": "2023-09-12T17:59:17.528Z"
   },
   {
    "duration": 94,
    "start_time": "2023-09-12T17:59:17.637Z"
   },
   {
    "duration": 1427,
    "start_time": "2023-09-12T17:59:17.733Z"
   },
   {
    "duration": 1380,
    "start_time": "2023-09-12T17:59:19.162Z"
   },
   {
    "duration": 362,
    "start_time": "2023-09-12T17:59:20.555Z"
   },
   {
    "duration": 69,
    "start_time": "2023-09-12T17:59:20.919Z"
   },
   {
    "duration": 384,
    "start_time": "2023-09-12T17:59:20.990Z"
   },
   {
    "duration": 444,
    "start_time": "2023-09-12T17:59:21.375Z"
   },
   {
    "duration": 6,
    "start_time": "2023-09-12T17:59:21.820Z"
   },
   {
    "duration": 40,
    "start_time": "2023-09-12T17:59:21.827Z"
   },
   {
    "duration": 412,
    "start_time": "2023-09-12T17:59:21.868Z"
   },
   {
    "duration": 421,
    "start_time": "2023-09-12T17:59:22.282Z"
   },
   {
    "duration": 289,
    "start_time": "2023-09-12T17:59:22.704Z"
   },
   {
    "duration": 433,
    "start_time": "2023-09-12T17:59:22.995Z"
   },
   {
    "duration": 36,
    "start_time": "2023-09-12T17:59:23.429Z"
   },
   {
    "duration": 252,
    "start_time": "2023-09-12T17:59:23.467Z"
   },
   {
    "duration": 521,
    "start_time": "2023-09-12T17:59:23.720Z"
   },
   {
    "duration": 450,
    "start_time": "2023-09-12T17:59:24.243Z"
   },
   {
    "duration": 209,
    "start_time": "2023-09-12T17:59:24.695Z"
   },
   {
    "duration": 90,
    "start_time": "2023-09-12T17:59:24.906Z"
   },
   {
    "duration": 195,
    "start_time": "2023-09-12T17:59:24.997Z"
   },
   {
    "duration": 2,
    "start_time": "2023-09-12T17:59:25.194Z"
   },
   {
    "duration": 7,
    "start_time": "2023-09-12T17:59:25.198Z"
   },
   {
    "duration": 10,
    "start_time": "2023-09-12T17:59:25.207Z"
   },
   {
    "duration": 61,
    "start_time": "2023-09-12T17:59:25.218Z"
   },
   {
    "duration": 27,
    "start_time": "2023-09-12T17:59:25.280Z"
   },
   {
    "duration": 12,
    "start_time": "2023-09-12T17:59:25.309Z"
   },
   {
    "duration": 79,
    "start_time": "2023-09-12T17:59:25.322Z"
   },
   {
    "duration": 1055,
    "start_time": "2023-09-12T17:59:25.402Z"
   },
   {
    "duration": 623,
    "start_time": "2023-09-12T17:59:26.458Z"
   },
   {
    "duration": 53,
    "start_time": "2023-09-12T17:59:27.082Z"
   },
   {
    "duration": 2,
    "start_time": "2023-09-12T17:59:27.136Z"
   },
   {
    "duration": 1711,
    "start_time": "2023-09-12T17:59:27.149Z"
   },
   {
    "duration": 4,
    "start_time": "2023-09-12T17:59:28.861Z"
   },
   {
    "duration": 4,
    "start_time": "2023-09-12T17:59:28.867Z"
   },
   {
    "duration": 8,
    "start_time": "2023-09-12T17:59:28.872Z"
   },
   {
    "duration": 4,
    "start_time": "2023-09-12T17:59:28.881Z"
   },
   {
    "duration": 38174,
    "start_time": "2023-09-12T17:59:28.886Z"
   },
   {
    "duration": 536,
    "start_time": "2023-09-12T18:00:07.063Z"
   },
   {
    "duration": 0,
    "start_time": "2023-09-12T18:00:07.601Z"
   },
   {
    "duration": 0,
    "start_time": "2023-09-12T18:00:07.603Z"
   },
   {
    "duration": 0,
    "start_time": "2023-09-12T18:00:07.605Z"
   },
   {
    "duration": 0,
    "start_time": "2023-09-12T18:00:07.606Z"
   },
   {
    "duration": 0,
    "start_time": "2023-09-12T18:00:07.607Z"
   },
   {
    "duration": 0,
    "start_time": "2023-09-12T18:00:07.609Z"
   },
   {
    "duration": 0,
    "start_time": "2023-09-12T18:00:07.610Z"
   },
   {
    "duration": 0,
    "start_time": "2023-09-12T18:00:07.612Z"
   },
   {
    "duration": 0,
    "start_time": "2023-09-12T18:00:07.613Z"
   },
   {
    "duration": 0,
    "start_time": "2023-09-12T18:00:07.614Z"
   },
   {
    "duration": 0,
    "start_time": "2023-09-12T18:00:07.616Z"
   },
   {
    "duration": 0,
    "start_time": "2023-09-12T18:00:07.617Z"
   },
   {
    "duration": 0,
    "start_time": "2023-09-12T18:00:07.619Z"
   },
   {
    "duration": 0,
    "start_time": "2023-09-12T18:00:07.651Z"
   },
   {
    "duration": 0,
    "start_time": "2023-09-12T18:00:07.652Z"
   },
   {
    "duration": 0,
    "start_time": "2023-09-12T18:00:07.655Z"
   },
   {
    "duration": 0,
    "start_time": "2023-09-12T18:00:07.656Z"
   },
   {
    "duration": 297,
    "start_time": "2023-09-12T18:00:13.457Z"
   },
   {
    "duration": 68,
    "start_time": "2023-09-12T18:01:03.068Z"
   },
   {
    "duration": 51,
    "start_time": "2023-09-12T18:01:06.708Z"
   },
   {
    "duration": 12,
    "start_time": "2023-09-12T18:01:16.285Z"
   },
   {
    "duration": 892,
    "start_time": "2023-09-12T18:01:57.796Z"
   },
   {
    "duration": 3,
    "start_time": "2023-09-12T18:05:46.493Z"
   },
   {
    "duration": 3,
    "start_time": "2023-09-12T18:05:46.933Z"
   },
   {
    "duration": 192293,
    "start_time": "2023-09-12T18:19:56.571Z"
   },
   {
    "duration": 1409,
    "start_time": "2023-09-12T18:29:50.021Z"
   },
   {
    "duration": 808,
    "start_time": "2023-09-12T18:29:51.431Z"
   },
   {
    "duration": 25,
    "start_time": "2023-09-12T18:29:52.240Z"
   },
   {
    "duration": 151,
    "start_time": "2023-09-12T18:29:52.267Z"
   },
   {
    "duration": 3,
    "start_time": "2023-09-12T18:29:52.419Z"
   },
   {
    "duration": 471,
    "start_time": "2023-09-12T18:29:52.424Z"
   },
   {
    "duration": 35,
    "start_time": "2023-09-12T18:29:52.897Z"
   },
   {
    "duration": 513,
    "start_time": "2023-09-12T18:29:52.934Z"
   },
   {
    "duration": 40,
    "start_time": "2023-09-12T18:29:53.449Z"
   },
   {
    "duration": 106,
    "start_time": "2023-09-12T18:29:53.492Z"
   },
   {
    "duration": 17,
    "start_time": "2023-09-12T18:29:53.600Z"
   },
   {
    "duration": 63,
    "start_time": "2023-09-12T18:29:53.619Z"
   },
   {
    "duration": 236,
    "start_time": "2023-09-12T18:29:53.683Z"
   },
   {
    "duration": 2,
    "start_time": "2023-09-12T18:29:53.921Z"
   },
   {
    "duration": 54,
    "start_time": "2023-09-12T18:29:53.925Z"
   },
   {
    "duration": 34,
    "start_time": "2023-09-12T18:29:53.981Z"
   },
   {
    "duration": 47,
    "start_time": "2023-09-12T18:29:54.016Z"
   },
   {
    "duration": 33,
    "start_time": "2023-09-12T18:29:54.064Z"
   },
   {
    "duration": 11,
    "start_time": "2023-09-12T18:29:54.100Z"
   },
   {
    "duration": 39,
    "start_time": "2023-09-12T18:29:54.113Z"
   },
   {
    "duration": 35,
    "start_time": "2023-09-12T18:29:54.164Z"
   },
   {
    "duration": 20,
    "start_time": "2023-09-12T18:29:54.200Z"
   },
   {
    "duration": 137,
    "start_time": "2023-09-12T18:29:54.222Z"
   },
   {
    "duration": 95,
    "start_time": "2023-09-12T18:29:54.364Z"
   },
   {
    "duration": 100,
    "start_time": "2023-09-12T18:29:54.464Z"
   },
   {
    "duration": 1341,
    "start_time": "2023-09-12T18:29:54.566Z"
   },
   {
    "duration": 1478,
    "start_time": "2023-09-12T18:29:55.908Z"
   },
   {
    "duration": 390,
    "start_time": "2023-09-12T18:29:57.390Z"
   },
   {
    "duration": 83,
    "start_time": "2023-09-12T18:29:57.782Z"
   },
   {
    "duration": 371,
    "start_time": "2023-09-12T18:29:57.866Z"
   },
   {
    "duration": 424,
    "start_time": "2023-09-12T18:29:58.239Z"
   },
   {
    "duration": 5,
    "start_time": "2023-09-12T18:29:58.665Z"
   },
   {
    "duration": 33,
    "start_time": "2023-09-12T18:29:58.671Z"
   },
   {
    "duration": 397,
    "start_time": "2023-09-12T18:29:58.706Z"
   },
   {
    "duration": 406,
    "start_time": "2023-09-12T18:29:59.104Z"
   },
   {
    "duration": 256,
    "start_time": "2023-09-12T18:29:59.511Z"
   },
   {
    "duration": 405,
    "start_time": "2023-09-12T18:29:59.769Z"
   },
   {
    "duration": 22,
    "start_time": "2023-09-12T18:30:00.176Z"
   },
   {
    "duration": 280,
    "start_time": "2023-09-12T18:30:00.200Z"
   },
   {
    "duration": 532,
    "start_time": "2023-09-12T18:30:00.482Z"
   },
   {
    "duration": 438,
    "start_time": "2023-09-12T18:30:01.015Z"
   },
   {
    "duration": 212,
    "start_time": "2023-09-12T18:30:01.454Z"
   },
   {
    "duration": 87,
    "start_time": "2023-09-12T18:30:01.668Z"
   },
   {
    "duration": 148,
    "start_time": "2023-09-12T18:30:01.762Z"
   },
   {
    "duration": 2,
    "start_time": "2023-09-12T18:30:01.912Z"
   },
   {
    "duration": 47,
    "start_time": "2023-09-12T18:30:01.915Z"
   },
   {
    "duration": 29,
    "start_time": "2023-09-12T18:30:01.963Z"
   },
   {
    "duration": 79,
    "start_time": "2023-09-12T18:30:01.994Z"
   },
   {
    "duration": 47,
    "start_time": "2023-09-12T18:30:02.074Z"
   },
   {
    "duration": 25,
    "start_time": "2023-09-12T18:30:02.123Z"
   },
   {
    "duration": 105,
    "start_time": "2023-09-12T18:30:02.156Z"
   },
   {
    "duration": 1027,
    "start_time": "2023-09-12T18:30:02.263Z"
   },
   {
    "duration": 618,
    "start_time": "2023-09-12T18:30:03.291Z"
   },
   {
    "duration": 65,
    "start_time": "2023-09-12T18:30:03.911Z"
   },
   {
    "duration": 3,
    "start_time": "2023-09-12T18:30:03.977Z"
   },
   {
    "duration": 1753,
    "start_time": "2023-09-12T18:30:03.982Z"
   },
   {
    "duration": 4,
    "start_time": "2023-09-12T18:30:05.737Z"
   },
   {
    "duration": 17,
    "start_time": "2023-09-12T18:30:05.751Z"
   },
   {
    "duration": 15,
    "start_time": "2023-09-12T18:30:05.769Z"
   },
   {
    "duration": 14,
    "start_time": "2023-09-12T18:30:05.786Z"
   },
   {
    "duration": 986,
    "start_time": "2023-09-12T18:30:05.802Z"
   },
   {
    "duration": 70,
    "start_time": "2023-09-12T18:30:06.790Z"
   },
   {
    "duration": 4,
    "start_time": "2023-09-12T18:30:06.865Z"
   },
   {
    "duration": 14,
    "start_time": "2023-09-12T18:30:06.950Z"
   },
   {
    "duration": 95,
    "start_time": "2023-09-12T18:30:06.966Z"
   },
   {
    "duration": 23,
    "start_time": "2023-09-12T18:30:07.062Z"
   },
   {
    "duration": 6,
    "start_time": "2023-09-12T18:30:07.086Z"
   },
   {
    "duration": 7,
    "start_time": "2023-09-12T18:30:07.093Z"
   },
   {
    "duration": 4,
    "start_time": "2023-09-12T18:30:07.101Z"
   },
   {
    "duration": 9,
    "start_time": "2023-09-12T18:30:07.106Z"
   },
   {
    "duration": 4,
    "start_time": "2023-09-12T18:30:07.116Z"
   },
   {
    "duration": 192660,
    "start_time": "2023-09-12T18:30:07.121Z"
   },
   {
    "duration": 202,
    "start_time": "2023-09-12T18:33:19.783Z"
   },
   {
    "duration": 3,
    "start_time": "2023-09-12T18:33:19.987Z"
   },
   {
    "duration": 1531,
    "start_time": "2023-09-12T18:35:30.180Z"
   },
   {
    "duration": 925,
    "start_time": "2023-09-12T18:35:31.713Z"
   },
   {
    "duration": 22,
    "start_time": "2023-09-12T18:35:32.640Z"
   },
   {
    "duration": 186,
    "start_time": "2023-09-12T18:35:32.664Z"
   },
   {
    "duration": 16,
    "start_time": "2023-09-12T18:35:32.852Z"
   },
   {
    "duration": 485,
    "start_time": "2023-09-12T18:35:32.872Z"
   },
   {
    "duration": 37,
    "start_time": "2023-09-12T18:35:33.359Z"
   },
   {
    "duration": 548,
    "start_time": "2023-09-12T18:35:33.398Z"
   },
   {
    "duration": 37,
    "start_time": "2023-09-12T18:35:33.948Z"
   },
   {
    "duration": 142,
    "start_time": "2023-09-12T18:35:33.987Z"
   },
   {
    "duration": 23,
    "start_time": "2023-09-12T18:35:34.131Z"
   },
   {
    "duration": 86,
    "start_time": "2023-09-12T18:35:34.155Z"
   },
   {
    "duration": 266,
    "start_time": "2023-09-12T18:35:34.242Z"
   },
   {
    "duration": 2,
    "start_time": "2023-09-12T18:35:34.510Z"
   },
   {
    "duration": 59,
    "start_time": "2023-09-12T18:35:34.514Z"
   },
   {
    "duration": 35,
    "start_time": "2023-09-12T18:35:34.576Z"
   },
   {
    "duration": 72,
    "start_time": "2023-09-12T18:35:34.613Z"
   },
   {
    "duration": 32,
    "start_time": "2023-09-12T18:35:34.687Z"
   },
   {
    "duration": 27,
    "start_time": "2023-09-12T18:35:34.721Z"
   },
   {
    "duration": 45,
    "start_time": "2023-09-12T18:35:34.754Z"
   },
   {
    "duration": 34,
    "start_time": "2023-09-12T18:35:34.801Z"
   },
   {
    "duration": 42,
    "start_time": "2023-09-12T18:35:34.836Z"
   },
   {
    "duration": 135,
    "start_time": "2023-09-12T18:35:34.879Z"
   },
   {
    "duration": 107,
    "start_time": "2023-09-12T18:35:35.016Z"
   },
   {
    "duration": 98,
    "start_time": "2023-09-12T18:35:35.125Z"
   },
   {
    "duration": 1596,
    "start_time": "2023-09-12T18:35:35.225Z"
   },
   {
    "duration": 1554,
    "start_time": "2023-09-12T18:35:36.823Z"
   },
   {
    "duration": 404,
    "start_time": "2023-09-12T18:35:38.382Z"
   },
   {
    "duration": 71,
    "start_time": "2023-09-12T18:35:38.787Z"
   },
   {
    "duration": 404,
    "start_time": "2023-09-12T18:35:38.866Z"
   },
   {
    "duration": 477,
    "start_time": "2023-09-12T18:35:39.272Z"
   },
   {
    "duration": 12,
    "start_time": "2023-09-12T18:35:39.751Z"
   },
   {
    "duration": 39,
    "start_time": "2023-09-12T18:35:39.764Z"
   },
   {
    "duration": 524,
    "start_time": "2023-09-12T18:35:39.805Z"
   },
   {
    "duration": 572,
    "start_time": "2023-09-12T18:35:40.331Z"
   },
   {
    "duration": 311,
    "start_time": "2023-09-12T18:35:40.905Z"
   },
   {
    "duration": 478,
    "start_time": "2023-09-12T18:35:41.218Z"
   },
   {
    "duration": 31,
    "start_time": "2023-09-12T18:35:41.698Z"
   },
   {
    "duration": 348,
    "start_time": "2023-09-12T18:35:41.730Z"
   },
   {
    "duration": 549,
    "start_time": "2023-09-12T18:35:42.080Z"
   },
   {
    "duration": 496,
    "start_time": "2023-09-12T18:35:42.630Z"
   },
   {
    "duration": 242,
    "start_time": "2023-09-12T18:35:43.128Z"
   },
   {
    "duration": 85,
    "start_time": "2023-09-12T18:35:43.376Z"
   },
   {
    "duration": 160,
    "start_time": "2023-09-12T18:35:43.463Z"
   },
   {
    "duration": 2,
    "start_time": "2023-09-12T18:35:43.624Z"
   },
   {
    "duration": 13,
    "start_time": "2023-09-12T18:35:43.627Z"
   },
   {
    "duration": 20,
    "start_time": "2023-09-12T18:35:43.641Z"
   },
   {
    "duration": 50,
    "start_time": "2023-09-12T18:35:43.671Z"
   },
   {
    "duration": 31,
    "start_time": "2023-09-12T18:35:43.723Z"
   },
   {
    "duration": 20,
    "start_time": "2023-09-12T18:35:43.755Z"
   },
   {
    "duration": 62,
    "start_time": "2023-09-12T18:35:43.778Z"
   },
   {
    "duration": 1177,
    "start_time": "2023-09-12T18:35:43.850Z"
   },
   {
    "duration": 667,
    "start_time": "2023-09-12T18:35:45.029Z"
   },
   {
    "duration": 67,
    "start_time": "2023-09-12T18:35:45.697Z"
   },
   {
    "duration": 6,
    "start_time": "2023-09-12T18:35:45.769Z"
   },
   {
    "duration": 1997,
    "start_time": "2023-09-12T18:35:45.777Z"
   },
   {
    "duration": 4,
    "start_time": "2023-09-12T18:35:47.776Z"
   },
   {
    "duration": 7,
    "start_time": "2023-09-12T18:35:47.781Z"
   },
   {
    "duration": 16,
    "start_time": "2023-09-12T18:35:47.790Z"
   },
   {
    "duration": 5,
    "start_time": "2023-09-12T18:35:47.807Z"
   },
   {
    "duration": 975,
    "start_time": "2023-09-12T18:35:47.813Z"
   },
   {
    "duration": 104,
    "start_time": "2023-09-12T18:35:48.854Z"
   },
   {
    "duration": 9,
    "start_time": "2023-09-12T18:35:48.966Z"
   },
   {
    "duration": 7,
    "start_time": "2023-09-12T18:35:49.049Z"
   },
   {
    "duration": 8,
    "start_time": "2023-09-12T18:35:49.061Z"
   },
   {
    "duration": 5,
    "start_time": "2023-09-12T18:35:49.070Z"
   },
   {
    "duration": 6,
    "start_time": "2023-09-12T18:35:49.077Z"
   },
   {
    "duration": 8,
    "start_time": "2023-09-12T18:35:49.084Z"
   },
   {
    "duration": 6,
    "start_time": "2023-09-12T18:35:49.093Z"
   },
   {
    "duration": 6,
    "start_time": "2023-09-12T18:35:49.100Z"
   },
   {
    "duration": 8,
    "start_time": "2023-09-12T18:35:49.107Z"
   },
   {
    "duration": 197457,
    "start_time": "2023-09-12T18:35:49.117Z"
   },
   {
    "duration": 211,
    "start_time": "2023-09-12T18:39:06.576Z"
   },
   {
    "duration": 2,
    "start_time": "2023-09-12T18:39:06.788Z"
   },
   {
    "duration": 16,
    "start_time": "2023-09-12T18:39:06.792Z"
   },
   {
    "duration": 12,
    "start_time": "2023-09-12T18:39:06.809Z"
   },
   {
    "duration": 1462,
    "start_time": "2023-09-12T19:16:36.930Z"
   },
   {
    "duration": 872,
    "start_time": "2023-09-12T19:16:38.394Z"
   },
   {
    "duration": 17,
    "start_time": "2023-09-12T19:16:39.268Z"
   },
   {
    "duration": 149,
    "start_time": "2023-09-12T19:16:39.286Z"
   },
   {
    "duration": 2,
    "start_time": "2023-09-12T19:16:39.437Z"
   },
   {
    "duration": 478,
    "start_time": "2023-09-12T19:16:39.441Z"
   },
   {
    "duration": 36,
    "start_time": "2023-09-12T19:16:39.920Z"
   },
   {
    "duration": 510,
    "start_time": "2023-09-12T19:16:39.957Z"
   },
   {
    "duration": 36,
    "start_time": "2023-09-12T19:16:40.470Z"
   },
   {
    "duration": 126,
    "start_time": "2023-09-12T19:16:40.508Z"
   },
   {
    "duration": 39,
    "start_time": "2023-09-12T19:16:40.636Z"
   },
   {
    "duration": 61,
    "start_time": "2023-09-12T19:16:40.677Z"
   },
   {
    "duration": 251,
    "start_time": "2023-09-12T19:16:40.739Z"
   },
   {
    "duration": 2,
    "start_time": "2023-09-12T19:16:40.993Z"
   },
   {
    "duration": 44,
    "start_time": "2023-09-12T19:16:40.996Z"
   },
   {
    "duration": 45,
    "start_time": "2023-09-12T19:16:41.042Z"
   },
   {
    "duration": 44,
    "start_time": "2023-09-12T19:16:41.089Z"
   },
   {
    "duration": 51,
    "start_time": "2023-09-12T19:16:41.134Z"
   },
   {
    "duration": 10,
    "start_time": "2023-09-12T19:16:41.187Z"
   },
   {
    "duration": 43,
    "start_time": "2023-09-12T19:16:41.199Z"
   },
   {
    "duration": 47,
    "start_time": "2023-09-12T19:16:41.244Z"
   },
   {
    "duration": 22,
    "start_time": "2023-09-12T19:16:41.292Z"
   },
   {
    "duration": 128,
    "start_time": "2023-09-12T19:16:41.316Z"
   },
   {
    "duration": 101,
    "start_time": "2023-09-12T19:16:41.445Z"
   },
   {
    "duration": 104,
    "start_time": "2023-09-12T19:16:41.547Z"
   },
   {
    "duration": 1444,
    "start_time": "2023-09-12T19:16:41.659Z"
   },
   {
    "duration": 1428,
    "start_time": "2023-09-12T19:16:43.106Z"
   },
   {
    "duration": 383,
    "start_time": "2023-09-12T19:16:44.536Z"
   },
   {
    "duration": 72,
    "start_time": "2023-09-12T19:16:44.920Z"
   },
   {
    "duration": 408,
    "start_time": "2023-09-12T19:16:44.994Z"
   },
   {
    "duration": 420,
    "start_time": "2023-09-12T19:16:45.404Z"
   },
   {
    "duration": 5,
    "start_time": "2023-09-12T19:16:45.826Z"
   },
   {
    "duration": 39,
    "start_time": "2023-09-12T19:16:45.832Z"
   },
   {
    "duration": 529,
    "start_time": "2023-09-12T19:16:45.873Z"
   },
   {
    "duration": 430,
    "start_time": "2023-09-12T19:16:46.403Z"
   },
   {
    "duration": 281,
    "start_time": "2023-09-12T19:16:46.835Z"
   },
   {
    "duration": 452,
    "start_time": "2023-09-12T19:16:47.117Z"
   },
   {
    "duration": 23,
    "start_time": "2023-09-12T19:16:47.571Z"
   },
   {
    "duration": 275,
    "start_time": "2023-09-12T19:16:47.595Z"
   },
   {
    "duration": 530,
    "start_time": "2023-09-12T19:16:47.871Z"
   },
   {
    "duration": 440,
    "start_time": "2023-09-12T19:16:48.406Z"
   },
   {
    "duration": 202,
    "start_time": "2023-09-12T19:16:48.847Z"
   },
   {
    "duration": 116,
    "start_time": "2023-09-12T19:16:49.051Z"
   },
   {
    "duration": 148,
    "start_time": "2023-09-12T19:16:49.169Z"
   },
   {
    "duration": 3,
    "start_time": "2023-09-12T19:16:49.319Z"
   },
   {
    "duration": 5,
    "start_time": "2023-09-12T19:16:49.324Z"
   },
   {
    "duration": 8,
    "start_time": "2023-09-12T19:16:49.331Z"
   },
   {
    "duration": 50,
    "start_time": "2023-09-12T19:16:49.349Z"
   },
   {
    "duration": 27,
    "start_time": "2023-09-12T19:16:49.401Z"
   },
   {
    "duration": 28,
    "start_time": "2023-09-12T19:16:49.429Z"
   },
   {
    "duration": 63,
    "start_time": "2023-09-12T19:16:49.460Z"
   },
   {
    "duration": 1057,
    "start_time": "2023-09-12T19:16:49.525Z"
   },
   {
    "duration": 607,
    "start_time": "2023-09-12T19:16:50.583Z"
   },
   {
    "duration": 60,
    "start_time": "2023-09-12T19:16:51.192Z"
   },
   {
    "duration": 3,
    "start_time": "2023-09-12T19:16:51.259Z"
   },
   {
    "duration": 1738,
    "start_time": "2023-09-12T19:16:51.263Z"
   },
   {
    "duration": 3,
    "start_time": "2023-09-12T19:16:53.003Z"
   },
   {
    "duration": 23,
    "start_time": "2023-09-12T19:16:53.008Z"
   },
   {
    "duration": 20,
    "start_time": "2023-09-12T19:16:53.033Z"
   },
   {
    "duration": 9,
    "start_time": "2023-09-12T19:16:53.055Z"
   },
   {
    "duration": 917,
    "start_time": "2023-09-12T19:16:53.066Z"
   },
   {
    "duration": 163,
    "start_time": "2023-09-12T19:16:53.986Z"
   },
   {
    "duration": 3,
    "start_time": "2023-09-12T19:16:54.159Z"
   },
   {
    "duration": 3,
    "start_time": "2023-09-12T19:16:54.167Z"
   },
   {
    "duration": 12,
    "start_time": "2023-09-12T19:16:54.250Z"
   },
   {
    "duration": 7,
    "start_time": "2023-09-12T19:16:54.265Z"
   },
   {
    "duration": 5,
    "start_time": "2023-09-12T19:16:54.273Z"
   },
   {
    "duration": 7,
    "start_time": "2023-09-12T19:16:54.280Z"
   },
   {
    "duration": 5,
    "start_time": "2023-09-12T19:16:54.289Z"
   },
   {
    "duration": 26,
    "start_time": "2023-09-12T19:16:54.296Z"
   },
   {
    "duration": 17,
    "start_time": "2023-09-12T19:16:54.324Z"
   },
   {
    "duration": 193767,
    "start_time": "2023-09-12T19:16:54.342Z"
   },
   {
    "duration": 222,
    "start_time": "2023-09-12T19:20:08.111Z"
   },
   {
    "duration": 2,
    "start_time": "2023-09-12T19:20:08.335Z"
   },
   {
    "duration": 22,
    "start_time": "2023-09-12T19:20:08.339Z"
   },
   {
    "duration": 2,
    "start_time": "2023-09-12T19:20:08.363Z"
   },
   {
    "duration": 1539,
    "start_time": "2023-09-12T19:42:00.139Z"
   },
   {
    "duration": 906,
    "start_time": "2023-09-12T19:42:01.680Z"
   },
   {
    "duration": 18,
    "start_time": "2023-09-12T19:42:02.587Z"
   },
   {
    "duration": 213,
    "start_time": "2023-09-12T19:42:02.607Z"
   },
   {
    "duration": 3,
    "start_time": "2023-09-12T19:42:02.821Z"
   },
   {
    "duration": 513,
    "start_time": "2023-09-12T19:42:02.825Z"
   },
   {
    "duration": 46,
    "start_time": "2023-09-12T19:42:03.339Z"
   },
   {
    "duration": 546,
    "start_time": "2023-09-12T19:42:03.386Z"
   },
   {
    "duration": 51,
    "start_time": "2023-09-12T19:42:03.933Z"
   },
   {
    "duration": 110,
    "start_time": "2023-09-12T19:42:03.987Z"
   },
   {
    "duration": 13,
    "start_time": "2023-09-12T19:42:04.099Z"
   },
   {
    "duration": 76,
    "start_time": "2023-09-12T19:42:04.114Z"
   },
   {
    "duration": 270,
    "start_time": "2023-09-12T19:42:04.192Z"
   },
   {
    "duration": 13,
    "start_time": "2023-09-12T19:42:04.465Z"
   },
   {
    "duration": 32,
    "start_time": "2023-09-12T19:42:04.482Z"
   },
   {
    "duration": 48,
    "start_time": "2023-09-12T19:42:04.515Z"
   },
   {
    "duration": 36,
    "start_time": "2023-09-12T19:42:04.573Z"
   },
   {
    "duration": 36,
    "start_time": "2023-09-12T19:42:04.610Z"
   },
   {
    "duration": 20,
    "start_time": "2023-09-12T19:42:04.648Z"
   },
   {
    "duration": 39,
    "start_time": "2023-09-12T19:42:04.672Z"
   },
   {
    "duration": 47,
    "start_time": "2023-09-12T19:42:04.713Z"
   },
   {
    "duration": 29,
    "start_time": "2023-09-12T19:42:04.762Z"
   },
   {
    "duration": 127,
    "start_time": "2023-09-12T19:42:04.793Z"
   },
   {
    "duration": 109,
    "start_time": "2023-09-12T19:42:04.922Z"
   },
   {
    "duration": 107,
    "start_time": "2023-09-12T19:42:05.032Z"
   },
   {
    "duration": 1649,
    "start_time": "2023-09-12T19:42:05.141Z"
   },
   {
    "duration": 1579,
    "start_time": "2023-09-12T19:42:06.792Z"
   },
   {
    "duration": 414,
    "start_time": "2023-09-12T19:42:08.381Z"
   },
   {
    "duration": 77,
    "start_time": "2023-09-12T19:42:08.796Z"
   },
   {
    "duration": 423,
    "start_time": "2023-09-12T19:42:08.876Z"
   },
   {
    "duration": 482,
    "start_time": "2023-09-12T19:42:09.301Z"
   },
   {
    "duration": 7,
    "start_time": "2023-09-12T19:42:09.785Z"
   },
   {
    "duration": 28,
    "start_time": "2023-09-12T19:42:09.794Z"
   },
   {
    "duration": 496,
    "start_time": "2023-09-12T19:42:09.823Z"
   },
   {
    "duration": 472,
    "start_time": "2023-09-12T19:42:10.321Z"
   },
   {
    "duration": 298,
    "start_time": "2023-09-12T19:42:10.795Z"
   },
   {
    "duration": 477,
    "start_time": "2023-09-12T19:42:11.095Z"
   },
   {
    "duration": 31,
    "start_time": "2023-09-12T19:42:11.574Z"
   },
   {
    "duration": 324,
    "start_time": "2023-09-12T19:42:11.607Z"
   },
   {
    "duration": 672,
    "start_time": "2023-09-12T19:42:11.932Z"
   },
   {
    "duration": 477,
    "start_time": "2023-09-12T19:42:12.606Z"
   },
   {
    "duration": 286,
    "start_time": "2023-09-12T19:42:13.085Z"
   },
   {
    "duration": 107,
    "start_time": "2023-09-12T19:42:13.373Z"
   },
   {
    "duration": 166,
    "start_time": "2023-09-12T19:42:13.481Z"
   },
   {
    "duration": 4,
    "start_time": "2023-09-12T19:42:13.648Z"
   },
   {
    "duration": 4,
    "start_time": "2023-09-12T19:42:13.654Z"
   },
   {
    "duration": 13,
    "start_time": "2023-09-12T19:42:13.660Z"
   },
   {
    "duration": 59,
    "start_time": "2023-09-12T19:42:13.674Z"
   },
   {
    "duration": 53,
    "start_time": "2023-09-12T19:42:13.734Z"
   },
   {
    "duration": 13,
    "start_time": "2023-09-12T19:42:13.788Z"
   },
   {
    "duration": 91,
    "start_time": "2023-09-12T19:42:13.803Z"
   },
   {
    "duration": 1261,
    "start_time": "2023-09-12T19:42:13.895Z"
   },
   {
    "duration": 668,
    "start_time": "2023-09-12T19:42:15.160Z"
   },
   {
    "duration": 68,
    "start_time": "2023-09-12T19:42:15.830Z"
   },
   {
    "duration": 2,
    "start_time": "2023-09-12T19:42:15.900Z"
   },
   {
    "duration": 2082,
    "start_time": "2023-09-12T19:42:15.903Z"
   },
   {
    "duration": 3,
    "start_time": "2023-09-12T19:42:17.987Z"
   },
   {
    "duration": 8,
    "start_time": "2023-09-12T19:42:17.992Z"
   },
   {
    "duration": 5,
    "start_time": "2023-09-12T19:42:18.001Z"
   },
   {
    "duration": 9,
    "start_time": "2023-09-12T19:42:18.008Z"
   },
   {
    "duration": 1058,
    "start_time": "2023-09-12T19:42:18.018Z"
   },
   {
    "duration": 98,
    "start_time": "2023-09-12T19:42:19.085Z"
   },
   {
    "duration": 3,
    "start_time": "2023-09-12T19:42:19.253Z"
   },
   {
    "duration": 13,
    "start_time": "2023-09-12T19:42:19.258Z"
   },
   {
    "duration": 9,
    "start_time": "2023-09-12T19:42:19.274Z"
   },
   {
    "duration": 14,
    "start_time": "2023-09-12T19:42:19.350Z"
   },
   {
    "duration": 4,
    "start_time": "2023-09-12T19:42:19.366Z"
   },
   {
    "duration": 5,
    "start_time": "2023-09-12T19:42:19.371Z"
   },
   {
    "duration": 5,
    "start_time": "2023-09-12T19:42:19.377Z"
   },
   {
    "duration": 8,
    "start_time": "2023-09-12T19:42:19.383Z"
   },
   {
    "duration": 15,
    "start_time": "2023-09-12T19:42:19.393Z"
   },
   {
    "duration": 192462,
    "start_time": "2023-09-12T19:42:19.409Z"
   },
   {
    "duration": 198,
    "start_time": "2023-09-12T19:45:31.872Z"
   },
   {
    "duration": 2,
    "start_time": "2023-09-12T19:45:32.072Z"
   },
   {
    "duration": 30,
    "start_time": "2023-09-12T19:45:32.075Z"
   },
   {
    "duration": 11,
    "start_time": "2023-09-12T19:45:32.107Z"
   },
   {
    "duration": 1524,
    "start_time": "2023-09-12T19:57:01.255Z"
   },
   {
    "duration": 851,
    "start_time": "2023-09-12T19:57:02.781Z"
   },
   {
    "duration": 25,
    "start_time": "2023-09-12T19:57:03.634Z"
   },
   {
    "duration": 150,
    "start_time": "2023-09-12T19:57:03.660Z"
   },
   {
    "duration": 3,
    "start_time": "2023-09-12T19:57:03.812Z"
   },
   {
    "duration": 480,
    "start_time": "2023-09-12T19:57:03.816Z"
   },
   {
    "duration": 26,
    "start_time": "2023-09-12T19:57:04.298Z"
   },
   {
    "duration": 503,
    "start_time": "2023-09-12T19:57:04.325Z"
   },
   {
    "duration": 40,
    "start_time": "2023-09-12T19:57:04.829Z"
   },
   {
    "duration": 109,
    "start_time": "2023-09-12T19:57:04.870Z"
   },
   {
    "duration": 10,
    "start_time": "2023-09-12T19:57:04.980Z"
   },
   {
    "duration": 66,
    "start_time": "2023-09-12T19:57:04.991Z"
   },
   {
    "duration": 238,
    "start_time": "2023-09-12T19:57:05.060Z"
   },
   {
    "duration": 2,
    "start_time": "2023-09-12T19:57:05.301Z"
   },
   {
    "duration": 57,
    "start_time": "2023-09-12T19:57:05.304Z"
   },
   {
    "duration": 44,
    "start_time": "2023-09-12T19:57:05.363Z"
   },
   {
    "duration": 56,
    "start_time": "2023-09-12T19:57:05.409Z"
   },
   {
    "duration": 50,
    "start_time": "2023-09-12T19:57:05.466Z"
   },
   {
    "duration": 27,
    "start_time": "2023-09-12T19:57:05.517Z"
   },
   {
    "duration": 47,
    "start_time": "2023-09-12T19:57:05.545Z"
   },
   {
    "duration": 37,
    "start_time": "2023-09-12T19:57:05.594Z"
   },
   {
    "duration": 67,
    "start_time": "2023-09-12T19:57:05.632Z"
   },
   {
    "duration": 132,
    "start_time": "2023-09-12T19:57:05.700Z"
   },
   {
    "duration": 97,
    "start_time": "2023-09-12T19:57:05.833Z"
   },
   {
    "duration": 97,
    "start_time": "2023-09-12T19:57:05.931Z"
   },
   {
    "duration": 1463,
    "start_time": "2023-09-12T19:57:06.030Z"
   },
   {
    "duration": 1515,
    "start_time": "2023-09-12T19:57:07.494Z"
   },
   {
    "duration": 417,
    "start_time": "2023-09-12T19:57:09.010Z"
   },
   {
    "duration": 84,
    "start_time": "2023-09-12T19:57:09.429Z"
   },
   {
    "duration": 384,
    "start_time": "2023-09-12T19:57:09.514Z"
   },
   {
    "duration": 443,
    "start_time": "2023-09-12T19:57:09.899Z"
   },
   {
    "duration": 6,
    "start_time": "2023-09-12T19:57:10.359Z"
   },
   {
    "duration": 24,
    "start_time": "2023-09-12T19:57:10.366Z"
   },
   {
    "duration": 411,
    "start_time": "2023-09-12T19:57:10.392Z"
   },
   {
    "duration": 413,
    "start_time": "2023-09-12T19:57:10.805Z"
   },
   {
    "duration": 270,
    "start_time": "2023-09-12T19:57:11.220Z"
   },
   {
    "duration": 408,
    "start_time": "2023-09-12T19:57:11.491Z"
   },
   {
    "duration": 22,
    "start_time": "2023-09-12T19:57:11.900Z"
   },
   {
    "duration": 296,
    "start_time": "2023-09-12T19:57:11.924Z"
   },
   {
    "duration": 581,
    "start_time": "2023-09-12T19:57:12.222Z"
   },
   {
    "duration": 461,
    "start_time": "2023-09-12T19:57:12.808Z"
   },
   {
    "duration": 230,
    "start_time": "2023-09-12T19:57:13.271Z"
   },
   {
    "duration": 100,
    "start_time": "2023-09-12T19:57:13.502Z"
   },
   {
    "duration": 163,
    "start_time": "2023-09-12T19:57:13.603Z"
   },
   {
    "duration": 3,
    "start_time": "2023-09-12T19:57:13.767Z"
   },
   {
    "duration": 7,
    "start_time": "2023-09-12T19:57:13.771Z"
   },
   {
    "duration": 9,
    "start_time": "2023-09-12T19:57:13.779Z"
   },
   {
    "duration": 72,
    "start_time": "2023-09-12T19:57:13.789Z"
   },
   {
    "duration": 28,
    "start_time": "2023-09-12T19:57:13.864Z"
   },
   {
    "duration": 13,
    "start_time": "2023-09-12T19:57:13.894Z"
   },
   {
    "duration": 75,
    "start_time": "2023-09-12T19:57:13.909Z"
   },
   {
    "duration": 1026,
    "start_time": "2023-09-12T19:57:13.986Z"
   },
   {
    "duration": 588,
    "start_time": "2023-09-12T19:57:15.014Z"
   },
   {
    "duration": 62,
    "start_time": "2023-09-12T19:57:15.603Z"
   },
   {
    "duration": 3,
    "start_time": "2023-09-12T19:57:15.666Z"
   },
   {
    "duration": 1772,
    "start_time": "2023-09-12T19:57:15.670Z"
   },
   {
    "duration": 3,
    "start_time": "2023-09-12T19:57:17.444Z"
   },
   {
    "duration": 19,
    "start_time": "2023-09-12T19:57:17.450Z"
   },
   {
    "duration": 3,
    "start_time": "2023-09-12T19:57:17.473Z"
   },
   {
    "duration": 6,
    "start_time": "2023-09-12T19:57:17.477Z"
   },
   {
    "duration": 1005,
    "start_time": "2023-09-12T19:57:17.485Z"
   },
   {
    "duration": 99,
    "start_time": "2023-09-12T19:57:18.554Z"
   },
   {
    "duration": 2,
    "start_time": "2023-09-12T19:57:18.654Z"
   },
   {
    "duration": 2,
    "start_time": "2023-09-12T19:57:18.658Z"
   },
   {
    "duration": 93,
    "start_time": "2023-09-12T19:57:18.662Z"
   },
   {
    "duration": 35,
    "start_time": "2023-09-12T19:57:18.761Z"
   },
   {
    "duration": 63,
    "start_time": "2023-09-12T19:57:18.797Z"
   },
   {
    "duration": 8,
    "start_time": "2023-09-12T19:57:18.862Z"
   },
   {
    "duration": 7,
    "start_time": "2023-09-12T19:57:18.871Z"
   },
   {
    "duration": 5,
    "start_time": "2023-09-12T19:57:18.879Z"
   },
   {
    "duration": 8,
    "start_time": "2023-09-12T19:57:18.885Z"
   },
   {
    "duration": 190526,
    "start_time": "2023-09-12T19:57:18.894Z"
   },
   {
    "duration": 248,
    "start_time": "2023-09-12T20:00:29.421Z"
   },
   {
    "duration": 3,
    "start_time": "2023-09-12T20:00:29.670Z"
   },
   {
    "duration": 13,
    "start_time": "2023-09-12T20:00:29.674Z"
   },
   {
    "duration": 6,
    "start_time": "2023-09-12T20:00:29.688Z"
   },
   {
    "duration": 1298,
    "start_time": "2023-09-12T20:00:29.695Z"
   },
   {
    "duration": 136074,
    "start_time": "2023-09-12T20:00:30.996Z"
   },
   {
    "duration": 2,
    "start_time": "2023-09-12T20:02:47.073Z"
   },
   {
    "duration": 5,
    "start_time": "2023-09-12T20:02:47.150Z"
   },
   {
    "duration": 60111,
    "start_time": "2023-09-12T20:02:47.156Z"
   },
   {
    "duration": 3076,
    "start_time": "2023-09-12T20:03:47.268Z"
   },
   {
    "duration": 17,
    "start_time": "2023-09-12T20:03:50.345Z"
   },
   {
    "duration": 3079,
    "start_time": "2023-09-12T20:04:45.449Z"
   },
   {
    "duration": 12,
    "start_time": "2023-09-12T20:05:47.455Z"
   },
   {
    "duration": 12,
    "start_time": "2023-09-12T20:06:16.840Z"
   },
   {
    "duration": 21,
    "start_time": "2023-09-12T20:08:34.444Z"
   },
   {
    "duration": 110,
    "start_time": "2023-09-12T20:09:07.008Z"
   },
   {
    "duration": 1369,
    "start_time": "2023-09-12T20:57:12.803Z"
   },
   {
    "duration": 828,
    "start_time": "2023-09-12T20:57:14.174Z"
   },
   {
    "duration": 16,
    "start_time": "2023-09-12T20:57:15.004Z"
   },
   {
    "duration": 177,
    "start_time": "2023-09-12T20:57:15.021Z"
   },
   {
    "duration": 3,
    "start_time": "2023-09-12T20:57:15.200Z"
   },
   {
    "duration": 461,
    "start_time": "2023-09-12T20:57:15.204Z"
   },
   {
    "duration": 27,
    "start_time": "2023-09-12T20:57:15.666Z"
   },
   {
    "duration": 487,
    "start_time": "2023-09-12T20:57:15.694Z"
   },
   {
    "duration": 35,
    "start_time": "2023-09-12T20:57:16.183Z"
   },
   {
    "duration": 121,
    "start_time": "2023-09-12T20:57:16.220Z"
   },
   {
    "duration": 22,
    "start_time": "2023-09-12T20:57:16.342Z"
   },
   {
    "duration": 65,
    "start_time": "2023-09-12T20:57:16.372Z"
   },
   {
    "duration": 247,
    "start_time": "2023-09-12T20:57:16.439Z"
   },
   {
    "duration": 2,
    "start_time": "2023-09-12T20:57:16.689Z"
   },
   {
    "duration": 52,
    "start_time": "2023-09-12T20:57:16.692Z"
   },
   {
    "duration": 55,
    "start_time": "2023-09-12T20:57:16.745Z"
   },
   {
    "duration": 60,
    "start_time": "2023-09-12T20:57:16.801Z"
   },
   {
    "duration": 37,
    "start_time": "2023-09-12T20:57:16.862Z"
   },
   {
    "duration": 17,
    "start_time": "2023-09-12T20:57:16.900Z"
   },
   {
    "duration": 47,
    "start_time": "2023-09-12T20:57:16.918Z"
   },
   {
    "duration": 40,
    "start_time": "2023-09-12T20:57:16.967Z"
   },
   {
    "duration": 26,
    "start_time": "2023-09-12T20:57:17.009Z"
   },
   {
    "duration": 147,
    "start_time": "2023-09-12T20:57:17.049Z"
   },
   {
    "duration": 102,
    "start_time": "2023-09-12T20:57:17.198Z"
   },
   {
    "duration": 103,
    "start_time": "2023-09-12T20:57:17.301Z"
   },
   {
    "duration": 1385,
    "start_time": "2023-09-12T20:57:17.405Z"
   },
   {
    "duration": 1395,
    "start_time": "2023-09-12T20:57:18.792Z"
   },
   {
    "duration": 370,
    "start_time": "2023-09-12T20:57:20.189Z"
   },
   {
    "duration": 60,
    "start_time": "2023-09-12T20:57:20.560Z"
   },
   {
    "duration": 379,
    "start_time": "2023-09-12T20:57:20.622Z"
   },
   {
    "duration": 446,
    "start_time": "2023-09-12T20:57:21.003Z"
   },
   {
    "duration": 12,
    "start_time": "2023-09-12T20:57:21.451Z"
   },
   {
    "duration": 27,
    "start_time": "2023-09-12T20:57:21.464Z"
   },
   {
    "duration": 418,
    "start_time": "2023-09-12T20:57:21.493Z"
   },
   {
    "duration": 402,
    "start_time": "2023-09-12T20:57:21.913Z"
   },
   {
    "duration": 264,
    "start_time": "2023-09-12T20:57:22.317Z"
   },
   {
    "duration": 417,
    "start_time": "2023-09-12T20:57:22.583Z"
   },
   {
    "duration": 22,
    "start_time": "2023-09-12T20:57:23.002Z"
   },
   {
    "duration": 259,
    "start_time": "2023-09-12T20:57:23.026Z"
   },
   {
    "duration": 492,
    "start_time": "2023-09-12T20:57:23.286Z"
   },
   {
    "duration": 421,
    "start_time": "2023-09-12T20:57:23.782Z"
   },
   {
    "duration": 194,
    "start_time": "2023-09-12T20:57:24.205Z"
   },
   {
    "duration": 93,
    "start_time": "2023-09-12T20:57:24.401Z"
   },
   {
    "duration": 140,
    "start_time": "2023-09-12T20:57:24.496Z"
   },
   {
    "duration": 2,
    "start_time": "2023-09-12T20:57:24.638Z"
   },
   {
    "duration": 13,
    "start_time": "2023-09-12T20:57:24.642Z"
   },
   {
    "duration": 9,
    "start_time": "2023-09-12T20:57:24.660Z"
   },
   {
    "duration": 54,
    "start_time": "2023-09-12T20:57:24.670Z"
   },
   {
    "duration": 36,
    "start_time": "2023-09-12T20:57:24.726Z"
   },
   {
    "duration": 14,
    "start_time": "2023-09-12T20:57:24.763Z"
   },
   {
    "duration": 62,
    "start_time": "2023-09-12T20:57:24.778Z"
   },
   {
    "duration": 975,
    "start_time": "2023-09-12T20:57:24.842Z"
   },
   {
    "duration": 679,
    "start_time": "2023-09-12T20:57:25.819Z"
   },
   {
    "duration": 65,
    "start_time": "2023-09-12T20:57:26.499Z"
   },
   {
    "duration": 3,
    "start_time": "2023-09-12T20:57:26.566Z"
   },
   {
    "duration": 1719,
    "start_time": "2023-09-12T20:57:26.570Z"
   },
   {
    "duration": 4,
    "start_time": "2023-09-12T20:57:28.290Z"
   },
   {
    "duration": 15,
    "start_time": "2023-09-12T20:57:28.295Z"
   },
   {
    "duration": 25,
    "start_time": "2023-09-12T20:57:28.312Z"
   },
   {
    "duration": 6,
    "start_time": "2023-09-12T20:57:28.339Z"
   },
   {
    "duration": 938,
    "start_time": "2023-09-12T20:57:28.347Z"
   },
   {
    "duration": 73,
    "start_time": "2023-09-12T20:57:29.287Z"
   },
   {
    "duration": 4,
    "start_time": "2023-09-12T20:57:29.362Z"
   },
   {
    "duration": 84,
    "start_time": "2023-09-12T20:57:29.368Z"
   },
   {
    "duration": 6,
    "start_time": "2023-09-12T20:57:29.454Z"
   },
   {
    "duration": 6,
    "start_time": "2023-09-12T20:57:29.462Z"
   },
   {
    "duration": 91,
    "start_time": "2023-09-12T20:57:29.469Z"
   },
   {
    "duration": 4,
    "start_time": "2023-09-12T20:57:29.562Z"
   },
   {
    "duration": 13,
    "start_time": "2023-09-12T20:57:29.568Z"
   },
   {
    "duration": 4,
    "start_time": "2023-09-12T20:57:29.582Z"
   },
   {
    "duration": 8,
    "start_time": "2023-09-12T20:57:29.587Z"
   },
   {
    "duration": 190622,
    "start_time": "2023-09-12T20:57:29.596Z"
   },
   {
    "duration": 202,
    "start_time": "2023-09-12T21:00:40.220Z"
   },
   {
    "duration": 2,
    "start_time": "2023-09-12T21:00:40.424Z"
   },
   {
    "duration": 36,
    "start_time": "2023-09-12T21:00:40.427Z"
   },
   {
    "duration": 10,
    "start_time": "2023-09-12T21:00:40.466Z"
   },
   {
    "duration": 300,
    "start_time": "2023-09-13T03:39:04.782Z"
   },
   {
    "duration": 1986,
    "start_time": "2023-09-13T03:39:15.259Z"
   },
   {
    "duration": 1213,
    "start_time": "2023-09-13T03:39:17.247Z"
   },
   {
    "duration": 16,
    "start_time": "2023-09-13T03:39:18.462Z"
   },
   {
    "duration": 165,
    "start_time": "2023-09-13T03:39:18.480Z"
   },
   {
    "duration": 4,
    "start_time": "2023-09-13T03:39:18.646Z"
   },
   {
    "duration": 529,
    "start_time": "2023-09-13T03:39:18.651Z"
   },
   {
    "duration": 31,
    "start_time": "2023-09-13T03:39:19.182Z"
   },
   {
    "duration": 557,
    "start_time": "2023-09-13T03:39:19.215Z"
   },
   {
    "duration": 34,
    "start_time": "2023-09-13T03:39:19.774Z"
   },
   {
    "duration": 133,
    "start_time": "2023-09-13T03:39:19.812Z"
   },
   {
    "duration": 12,
    "start_time": "2023-09-13T03:39:19.947Z"
   },
   {
    "duration": 69,
    "start_time": "2023-09-13T03:39:19.961Z"
   },
   {
    "duration": 285,
    "start_time": "2023-09-13T03:39:20.032Z"
   },
   {
    "duration": 6,
    "start_time": "2023-09-13T03:39:20.319Z"
   },
   {
    "duration": 68,
    "start_time": "2023-09-13T03:39:20.327Z"
   },
   {
    "duration": 56,
    "start_time": "2023-09-13T03:39:20.397Z"
   },
   {
    "duration": 47,
    "start_time": "2023-09-13T03:39:20.454Z"
   },
   {
    "duration": 51,
    "start_time": "2023-09-13T03:39:20.503Z"
   },
   {
    "duration": 6,
    "start_time": "2023-09-13T03:39:20.556Z"
   },
   {
    "duration": 55,
    "start_time": "2023-09-13T03:39:20.564Z"
   },
   {
    "duration": 51,
    "start_time": "2023-09-13T03:39:20.621Z"
   },
   {
    "duration": 25,
    "start_time": "2023-09-13T03:39:20.674Z"
   },
   {
    "duration": 149,
    "start_time": "2023-09-13T03:39:20.701Z"
   },
   {
    "duration": 121,
    "start_time": "2023-09-13T03:39:20.852Z"
   },
   {
    "duration": 112,
    "start_time": "2023-09-13T03:39:20.974Z"
   },
   {
    "duration": 1534,
    "start_time": "2023-09-13T03:39:21.087Z"
   },
   {
    "duration": 1562,
    "start_time": "2023-09-13T03:39:22.623Z"
   },
   {
    "duration": 417,
    "start_time": "2023-09-13T03:39:24.190Z"
   },
   {
    "duration": 92,
    "start_time": "2023-09-13T03:39:24.609Z"
   },
   {
    "duration": 444,
    "start_time": "2023-09-13T03:39:24.703Z"
   },
   {
    "duration": 533,
    "start_time": "2023-09-13T03:39:25.148Z"
   },
   {
    "duration": 6,
    "start_time": "2023-09-13T03:39:25.683Z"
   },
   {
    "duration": 33,
    "start_time": "2023-09-13T03:39:25.691Z"
   },
   {
    "duration": 487,
    "start_time": "2023-09-13T03:39:25.726Z"
   },
   {
    "duration": 448,
    "start_time": "2023-09-13T03:39:26.215Z"
   },
   {
    "duration": 307,
    "start_time": "2023-09-13T03:39:26.665Z"
   },
   {
    "duration": 465,
    "start_time": "2023-09-13T03:39:26.975Z"
   },
   {
    "duration": 27,
    "start_time": "2023-09-13T03:39:27.442Z"
   },
   {
    "duration": 305,
    "start_time": "2023-09-13T03:39:27.471Z"
   },
   {
    "duration": 572,
    "start_time": "2023-09-13T03:39:27.778Z"
   },
   {
    "duration": 481,
    "start_time": "2023-09-13T03:39:28.352Z"
   },
   {
    "duration": 247,
    "start_time": "2023-09-13T03:39:28.835Z"
   },
   {
    "duration": 108,
    "start_time": "2023-09-13T03:39:29.084Z"
   },
   {
    "duration": 161,
    "start_time": "2023-09-13T03:39:29.194Z"
   },
   {
    "duration": 3,
    "start_time": "2023-09-13T03:39:29.356Z"
   },
   {
    "duration": 7,
    "start_time": "2023-09-13T03:39:29.360Z"
   },
   {
    "duration": 9,
    "start_time": "2023-09-13T03:39:29.368Z"
   },
   {
    "duration": 68,
    "start_time": "2023-09-13T03:39:29.379Z"
   },
   {
    "duration": 30,
    "start_time": "2023-09-13T03:39:29.449Z"
   },
   {
    "duration": 14,
    "start_time": "2023-09-13T03:39:29.481Z"
   },
   {
    "duration": 97,
    "start_time": "2023-09-13T03:39:29.497Z"
   },
   {
    "duration": 1195,
    "start_time": "2023-09-13T03:39:29.596Z"
   },
   {
    "duration": 705,
    "start_time": "2023-09-13T03:39:30.793Z"
   },
   {
    "duration": 131,
    "start_time": "2023-09-13T03:39:31.500Z"
   },
   {
    "duration": 0,
    "start_time": "2023-09-13T03:39:31.632Z"
   },
   {
    "duration": 0,
    "start_time": "2023-09-13T03:39:31.633Z"
   },
   {
    "duration": 0,
    "start_time": "2023-09-13T03:39:31.635Z"
   },
   {
    "duration": 0,
    "start_time": "2023-09-13T03:39:31.646Z"
   },
   {
    "duration": 0,
    "start_time": "2023-09-13T03:39:31.647Z"
   },
   {
    "duration": 0,
    "start_time": "2023-09-13T03:39:31.649Z"
   },
   {
    "duration": 0,
    "start_time": "2023-09-13T03:39:31.650Z"
   },
   {
    "duration": 0,
    "start_time": "2023-09-13T03:39:31.651Z"
   },
   {
    "duration": 0,
    "start_time": "2023-09-13T03:39:31.653Z"
   },
   {
    "duration": 0,
    "start_time": "2023-09-13T03:39:31.654Z"
   },
   {
    "duration": 0,
    "start_time": "2023-09-13T03:39:31.655Z"
   },
   {
    "duration": 0,
    "start_time": "2023-09-13T03:39:31.657Z"
   },
   {
    "duration": 0,
    "start_time": "2023-09-13T03:39:31.659Z"
   },
   {
    "duration": 0,
    "start_time": "2023-09-13T03:39:31.660Z"
   },
   {
    "duration": 0,
    "start_time": "2023-09-13T03:39:31.662Z"
   },
   {
    "duration": 0,
    "start_time": "2023-09-13T03:39:31.663Z"
   },
   {
    "duration": 0,
    "start_time": "2023-09-13T03:39:31.665Z"
   },
   {
    "duration": 0,
    "start_time": "2023-09-13T03:39:31.667Z"
   },
   {
    "duration": 0,
    "start_time": "2023-09-13T03:39:31.668Z"
   },
   {
    "duration": 0,
    "start_time": "2023-09-13T03:39:31.670Z"
   },
   {
    "duration": 0,
    "start_time": "2023-09-13T03:39:31.671Z"
   },
   {
    "duration": 0,
    "start_time": "2023-09-13T03:39:31.673Z"
   },
   {
    "duration": 0,
    "start_time": "2023-09-13T03:39:31.674Z"
   },
   {
    "duration": 0,
    "start_time": "2023-09-13T03:39:31.676Z"
   },
   {
    "duration": 0,
    "start_time": "2023-09-13T03:39:31.678Z"
   },
   {
    "duration": 0,
    "start_time": "2023-09-13T03:39:31.680Z"
   },
   {
    "duration": 0,
    "start_time": "2023-09-13T03:39:31.682Z"
   },
   {
    "duration": 0,
    "start_time": "2023-09-13T03:39:31.683Z"
   },
   {
    "duration": 0,
    "start_time": "2023-09-13T03:39:31.685Z"
   },
   {
    "duration": 10,
    "start_time": "2023-09-13T03:40:01.410Z"
   },
   {
    "duration": 10,
    "start_time": "2023-09-13T03:40:02.435Z"
   },
   {
    "duration": 9,
    "start_time": "2023-09-13T03:40:12.794Z"
   },
   {
    "duration": 1628,
    "start_time": "2023-09-13T03:40:28.925Z"
   },
   {
    "duration": 901,
    "start_time": "2023-09-13T03:40:30.555Z"
   },
   {
    "duration": 18,
    "start_time": "2023-09-13T03:40:31.458Z"
   },
   {
    "duration": 195,
    "start_time": "2023-09-13T03:40:31.478Z"
   },
   {
    "duration": 3,
    "start_time": "2023-09-13T03:40:31.674Z"
   },
   {
    "duration": 611,
    "start_time": "2023-09-13T03:40:31.679Z"
   },
   {
    "duration": 34,
    "start_time": "2023-09-13T03:40:32.292Z"
   },
   {
    "duration": 755,
    "start_time": "2023-09-13T03:40:32.328Z"
   },
   {
    "duration": 37,
    "start_time": "2023-09-13T03:40:33.085Z"
   },
   {
    "duration": 137,
    "start_time": "2023-09-13T03:40:33.125Z"
   },
   {
    "duration": 23,
    "start_time": "2023-09-13T03:40:33.263Z"
   },
   {
    "duration": 74,
    "start_time": "2023-09-13T03:40:33.288Z"
   },
   {
    "duration": 271,
    "start_time": "2023-09-13T03:40:33.364Z"
   },
   {
    "duration": 10,
    "start_time": "2023-09-13T03:40:33.637Z"
   },
   {
    "duration": 50,
    "start_time": "2023-09-13T03:40:33.648Z"
   },
   {
    "duration": 47,
    "start_time": "2023-09-13T03:40:33.700Z"
   },
   {
    "duration": 55,
    "start_time": "2023-09-13T03:40:33.749Z"
   },
   {
    "duration": 44,
    "start_time": "2023-09-13T03:40:33.806Z"
   },
   {
    "duration": 4,
    "start_time": "2023-09-13T03:40:33.852Z"
   },
   {
    "duration": 66,
    "start_time": "2023-09-13T03:40:33.857Z"
   },
   {
    "duration": 52,
    "start_time": "2023-09-13T03:40:33.925Z"
   },
   {
    "duration": 33,
    "start_time": "2023-09-13T03:40:33.979Z"
   },
   {
    "duration": 155,
    "start_time": "2023-09-13T03:40:34.013Z"
   },
   {
    "duration": 112,
    "start_time": "2023-09-13T03:40:34.169Z"
   },
   {
    "duration": 106,
    "start_time": "2023-09-13T03:40:34.282Z"
   },
   {
    "duration": 1571,
    "start_time": "2023-09-13T03:40:34.390Z"
   },
   {
    "duration": 1495,
    "start_time": "2023-09-13T03:40:35.963Z"
   },
   {
    "duration": 418,
    "start_time": "2023-09-13T03:40:37.463Z"
   },
   {
    "duration": 72,
    "start_time": "2023-09-13T03:40:37.883Z"
   },
   {
    "duration": 419,
    "start_time": "2023-09-13T03:40:37.957Z"
   },
   {
    "duration": 465,
    "start_time": "2023-09-13T03:40:38.377Z"
   },
   {
    "duration": 9,
    "start_time": "2023-09-13T03:40:38.844Z"
   },
   {
    "duration": 58,
    "start_time": "2023-09-13T03:40:38.854Z"
   },
   {
    "duration": 539,
    "start_time": "2023-09-13T03:40:38.914Z"
   },
   {
    "duration": 471,
    "start_time": "2023-09-13T03:40:39.456Z"
   },
   {
    "duration": 310,
    "start_time": "2023-09-13T03:40:39.929Z"
   },
   {
    "duration": 483,
    "start_time": "2023-09-13T03:40:40.241Z"
   },
   {
    "duration": 38,
    "start_time": "2023-09-13T03:40:40.726Z"
   },
   {
    "duration": 304,
    "start_time": "2023-09-13T03:40:40.766Z"
   },
   {
    "duration": 564,
    "start_time": "2023-09-13T03:40:41.072Z"
   },
   {
    "duration": 482,
    "start_time": "2023-09-13T03:40:41.638Z"
   },
   {
    "duration": 238,
    "start_time": "2023-09-13T03:40:42.122Z"
   },
   {
    "duration": 103,
    "start_time": "2023-09-13T03:40:42.361Z"
   },
   {
    "duration": 162,
    "start_time": "2023-09-13T03:40:42.466Z"
   },
   {
    "duration": 3,
    "start_time": "2023-09-13T03:40:42.630Z"
   },
   {
    "duration": 27,
    "start_time": "2023-09-13T03:40:42.634Z"
   },
   {
    "duration": 15,
    "start_time": "2023-09-13T03:40:42.663Z"
   },
   {
    "duration": 73,
    "start_time": "2023-09-13T03:40:42.680Z"
   },
   {
    "duration": 31,
    "start_time": "2023-09-13T03:40:42.755Z"
   },
   {
    "duration": 15,
    "start_time": "2023-09-13T03:40:42.788Z"
   },
   {
    "duration": 83,
    "start_time": "2023-09-13T03:40:42.805Z"
   },
   {
    "duration": 1118,
    "start_time": "2023-09-13T03:40:42.890Z"
   },
   {
    "duration": 664,
    "start_time": "2023-09-13T03:40:44.010Z"
   },
   {
    "duration": 124,
    "start_time": "2023-09-13T03:40:44.675Z"
   },
   {
    "duration": 0,
    "start_time": "2023-09-13T03:40:44.801Z"
   },
   {
    "duration": 0,
    "start_time": "2023-09-13T03:40:44.802Z"
   },
   {
    "duration": 0,
    "start_time": "2023-09-13T03:40:44.804Z"
   },
   {
    "duration": 0,
    "start_time": "2023-09-13T03:40:44.805Z"
   },
   {
    "duration": 0,
    "start_time": "2023-09-13T03:40:44.806Z"
   },
   {
    "duration": 0,
    "start_time": "2023-09-13T03:40:44.808Z"
   },
   {
    "duration": 0,
    "start_time": "2023-09-13T03:40:44.809Z"
   },
   {
    "duration": 0,
    "start_time": "2023-09-13T03:40:44.810Z"
   },
   {
    "duration": 0,
    "start_time": "2023-09-13T03:40:44.811Z"
   },
   {
    "duration": 0,
    "start_time": "2023-09-13T03:40:44.812Z"
   },
   {
    "duration": 0,
    "start_time": "2023-09-13T03:40:44.814Z"
   },
   {
    "duration": 1,
    "start_time": "2023-09-13T03:40:44.814Z"
   },
   {
    "duration": 0,
    "start_time": "2023-09-13T03:40:44.816Z"
   },
   {
    "duration": 0,
    "start_time": "2023-09-13T03:40:44.817Z"
   },
   {
    "duration": 0,
    "start_time": "2023-09-13T03:40:44.818Z"
   },
   {
    "duration": 0,
    "start_time": "2023-09-13T03:40:44.819Z"
   },
   {
    "duration": 0,
    "start_time": "2023-09-13T03:40:44.820Z"
   },
   {
    "duration": 0,
    "start_time": "2023-09-13T03:40:44.821Z"
   },
   {
    "duration": 0,
    "start_time": "2023-09-13T03:40:44.821Z"
   },
   {
    "duration": 0,
    "start_time": "2023-09-13T03:40:44.822Z"
   },
   {
    "duration": 0,
    "start_time": "2023-09-13T03:40:44.822Z"
   },
   {
    "duration": 0,
    "start_time": "2023-09-13T03:40:44.823Z"
   },
   {
    "duration": 0,
    "start_time": "2023-09-13T03:40:44.824Z"
   },
   {
    "duration": 0,
    "start_time": "2023-09-13T03:40:44.848Z"
   },
   {
    "duration": 0,
    "start_time": "2023-09-13T03:40:44.849Z"
   },
   {
    "duration": 0,
    "start_time": "2023-09-13T03:40:44.850Z"
   },
   {
    "duration": 0,
    "start_time": "2023-09-13T03:40:44.851Z"
   },
   {
    "duration": 0,
    "start_time": "2023-09-13T03:40:44.851Z"
   },
   {
    "duration": 0,
    "start_time": "2023-09-13T03:40:44.852Z"
   },
   {
    "duration": 10,
    "start_time": "2023-09-13T03:44:44.107Z"
   },
   {
    "duration": 9,
    "start_time": "2023-09-13T03:44:57.939Z"
   },
   {
    "duration": 141,
    "start_time": "2023-09-13T03:46:25.082Z"
   },
   {
    "duration": 3342,
    "start_time": "2023-09-13T03:46:38.906Z"
   },
   {
    "duration": 1883,
    "start_time": "2023-09-13T03:46:47.262Z"
   },
   {
    "duration": 3,
    "start_time": "2023-09-13T03:46:51.676Z"
   },
   {
    "duration": 4,
    "start_time": "2023-09-13T03:47:12.322Z"
   },
   {
    "duration": 4,
    "start_time": "2023-09-13T03:47:16.246Z"
   },
   {
    "duration": 4,
    "start_time": "2023-09-13T03:47:17.208Z"
   },
   {
    "duration": 395906,
    "start_time": "2023-09-13T03:47:29.650Z"
   },
   {
    "duration": 12704,
    "start_time": "2023-09-13T03:54:05.558Z"
   },
   {
    "duration": 61855,
    "start_time": "2023-09-13T03:55:47.028Z"
   },
   {
    "duration": 10,
    "start_time": "2023-09-13T04:00:02.434Z"
   },
   {
    "duration": 192581,
    "start_time": "2023-09-13T04:01:18.942Z"
   },
   {
    "duration": 3317,
    "start_time": "2023-09-13T04:04:39.571Z"
   },
   {
    "duration": 1566,
    "start_time": "2023-09-13T04:05:22.343Z"
   },
   {
    "duration": 908,
    "start_time": "2023-09-13T04:05:23.911Z"
   },
   {
    "duration": 17,
    "start_time": "2023-09-13T04:05:24.821Z"
   },
   {
    "duration": 163,
    "start_time": "2023-09-13T04:05:24.847Z"
   },
   {
    "duration": 29,
    "start_time": "2023-09-13T04:05:25.012Z"
   },
   {
    "duration": 550,
    "start_time": "2023-09-13T04:05:25.044Z"
   },
   {
    "duration": 32,
    "start_time": "2023-09-13T04:05:25.596Z"
   },
   {
    "duration": 560,
    "start_time": "2023-09-13T04:05:25.630Z"
   },
   {
    "duration": 37,
    "start_time": "2023-09-13T04:05:26.192Z"
   },
   {
    "duration": 110,
    "start_time": "2023-09-13T04:05:26.246Z"
   },
   {
    "duration": 12,
    "start_time": "2023-09-13T04:05:26.358Z"
   },
   {
    "duration": 80,
    "start_time": "2023-09-13T04:05:26.372Z"
   },
   {
    "duration": 275,
    "start_time": "2023-09-13T04:05:26.454Z"
   },
   {
    "duration": 3,
    "start_time": "2023-09-13T04:05:26.731Z"
   },
   {
    "duration": 49,
    "start_time": "2023-09-13T04:05:26.736Z"
   },
   {
    "duration": 47,
    "start_time": "2023-09-13T04:05:26.787Z"
   },
   {
    "duration": 51,
    "start_time": "2023-09-13T04:05:26.836Z"
   },
   {
    "duration": 44,
    "start_time": "2023-09-13T04:05:26.889Z"
   },
   {
    "duration": 3,
    "start_time": "2023-09-13T04:05:26.946Z"
   },
   {
    "duration": 47,
    "start_time": "2023-09-13T04:05:26.950Z"
   },
   {
    "duration": 53,
    "start_time": "2023-09-13T04:05:26.998Z"
   },
   {
    "duration": 26,
    "start_time": "2023-09-13T04:05:27.053Z"
   },
   {
    "duration": 143,
    "start_time": "2023-09-13T04:05:27.080Z"
   },
   {
    "duration": 112,
    "start_time": "2023-09-13T04:05:27.225Z"
   },
   {
    "duration": 109,
    "start_time": "2023-09-13T04:05:27.338Z"
   },
   {
    "duration": 1546,
    "start_time": "2023-09-13T04:05:27.449Z"
   },
   {
    "duration": 1570,
    "start_time": "2023-09-13T04:05:28.997Z"
   },
   {
    "duration": 429,
    "start_time": "2023-09-13T04:05:30.571Z"
   },
   {
    "duration": 78,
    "start_time": "2023-09-13T04:05:31.002Z"
   },
   {
    "duration": 417,
    "start_time": "2023-09-13T04:05:31.082Z"
   },
   {
    "duration": 503,
    "start_time": "2023-09-13T04:05:31.501Z"
   },
   {
    "duration": 6,
    "start_time": "2023-09-13T04:05:32.006Z"
   },
   {
    "duration": 54,
    "start_time": "2023-09-13T04:05:32.014Z"
   },
   {
    "duration": 469,
    "start_time": "2023-09-13T04:05:32.070Z"
   },
   {
    "duration": 463,
    "start_time": "2023-09-13T04:05:32.540Z"
   },
   {
    "duration": 296,
    "start_time": "2023-09-13T04:05:33.005Z"
   },
   {
    "duration": 466,
    "start_time": "2023-09-13T04:05:33.303Z"
   },
   {
    "duration": 24,
    "start_time": "2023-09-13T04:05:33.770Z"
   },
   {
    "duration": 308,
    "start_time": "2023-09-13T04:05:33.796Z"
   },
   {
    "duration": 544,
    "start_time": "2023-09-13T04:05:34.105Z"
   },
   {
    "duration": 471,
    "start_time": "2023-09-13T04:05:34.651Z"
   },
   {
    "duration": 295,
    "start_time": "2023-09-13T04:05:35.124Z"
   },
   {
    "duration": 102,
    "start_time": "2023-09-13T04:05:35.421Z"
   },
   {
    "duration": 160,
    "start_time": "2023-09-13T04:05:35.525Z"
   },
   {
    "duration": 2,
    "start_time": "2023-09-13T04:05:35.687Z"
   },
   {
    "duration": 9,
    "start_time": "2023-09-13T04:05:35.691Z"
   },
   {
    "duration": 8,
    "start_time": "2023-09-13T04:05:35.701Z"
   },
   {
    "duration": 78,
    "start_time": "2023-09-13T04:05:35.710Z"
   },
   {
    "duration": 32,
    "start_time": "2023-09-13T04:05:35.790Z"
   },
   {
    "duration": 34,
    "start_time": "2023-09-13T04:05:35.823Z"
   },
   {
    "duration": 75,
    "start_time": "2023-09-13T04:05:35.859Z"
   },
   {
    "duration": 1093,
    "start_time": "2023-09-13T04:05:35.936Z"
   },
   {
    "duration": 653,
    "start_time": "2023-09-13T04:05:37.030Z"
   },
   {
    "duration": 2722,
    "start_time": "2023-09-13T04:05:37.685Z"
   },
   {
    "duration": 2122,
    "start_time": "2023-09-13T04:05:40.409Z"
   },
   {
    "duration": 4,
    "start_time": "2023-09-13T04:05:42.533Z"
   },
   {
    "duration": 5,
    "start_time": "2023-09-13T04:05:42.547Z"
   },
   {
    "duration": 7,
    "start_time": "2023-09-13T04:05:42.553Z"
   },
   {
    "duration": 12,
    "start_time": "2023-09-13T04:05:42.562Z"
   },
   {
    "duration": 1273,
    "start_time": "2023-09-13T04:05:42.576Z"
   },
   {
    "duration": 106,
    "start_time": "2023-09-13T04:05:43.852Z"
   },
   {
    "duration": 92,
    "start_time": "2023-09-13T04:05:43.962Z"
   },
   {
    "duration": 100,
    "start_time": "2023-09-13T04:05:44.057Z"
   },
   {
    "duration": 16,
    "start_time": "2023-09-13T04:05:44.159Z"
   },
   {
    "duration": 4,
    "start_time": "2023-09-13T04:05:44.177Z"
   },
   {
    "duration": 5,
    "start_time": "2023-09-13T04:05:44.183Z"
   },
   {
    "duration": 12,
    "start_time": "2023-09-13T04:05:44.190Z"
   },
   {
    "duration": 18,
    "start_time": "2023-09-13T04:05:44.204Z"
   },
   {
    "duration": 13,
    "start_time": "2023-09-13T04:05:44.223Z"
   },
   {
    "duration": 8,
    "start_time": "2023-09-13T04:05:44.237Z"
   },
   {
    "duration": 210605,
    "start_time": "2023-09-13T04:05:44.246Z"
   },
   {
    "duration": 224,
    "start_time": "2023-09-13T04:09:14.853Z"
   },
   {
    "duration": 2,
    "start_time": "2023-09-13T04:09:15.079Z"
   },
   {
    "duration": 25,
    "start_time": "2023-09-13T04:09:15.083Z"
   },
   {
    "duration": 34,
    "start_time": "2023-09-13T04:09:15.110Z"
   },
   {
    "duration": 409809,
    "start_time": "2023-09-13T04:09:15.146Z"
   },
   {
    "duration": 14302,
    "start_time": "2023-09-13T04:16:04.957Z"
   },
   {
    "duration": 2,
    "start_time": "2023-09-13T04:16:19.261Z"
   },
   {
    "duration": 12,
    "start_time": "2023-09-13T04:16:19.265Z"
   },
   {
    "duration": 193471,
    "start_time": "2023-09-13T04:16:19.279Z"
   },
   {
    "duration": 3274,
    "start_time": "2023-09-13T04:19:32.752Z"
   },
   {
    "duration": 17,
    "start_time": "2023-09-13T04:19:36.034Z"
   },
   {
    "duration": 1751,
    "start_time": "2023-09-13T16:27:57.967Z"
   },
   {
    "duration": 1257,
    "start_time": "2023-09-13T16:27:59.721Z"
   },
   {
    "duration": 19,
    "start_time": "2023-09-13T16:28:00.980Z"
   },
   {
    "duration": 260,
    "start_time": "2023-09-13T16:28:01.001Z"
   },
   {
    "duration": 3,
    "start_time": "2023-09-13T16:28:01.263Z"
   },
   {
    "duration": 635,
    "start_time": "2023-09-13T16:28:01.268Z"
   },
   {
    "duration": 31,
    "start_time": "2023-09-13T16:28:01.905Z"
   },
   {
    "duration": 602,
    "start_time": "2023-09-13T16:28:01.938Z"
   },
   {
    "duration": 36,
    "start_time": "2023-09-13T16:28:02.541Z"
   },
   {
    "duration": 109,
    "start_time": "2023-09-13T16:28:02.580Z"
   },
   {
    "duration": 23,
    "start_time": "2023-09-13T16:28:02.690Z"
   },
   {
    "duration": 81,
    "start_time": "2023-09-13T16:28:02.715Z"
   },
   {
    "duration": 262,
    "start_time": "2023-09-13T16:28:02.798Z"
   },
   {
    "duration": 2,
    "start_time": "2023-09-13T16:28:03.061Z"
   },
   {
    "duration": 172,
    "start_time": "2023-09-13T16:28:03.065Z"
   },
   {
    "duration": 72,
    "start_time": "2023-09-13T16:28:03.239Z"
   },
   {
    "duration": 193,
    "start_time": "2023-09-13T16:28:03.313Z"
   },
   {
    "duration": 69,
    "start_time": "2023-09-13T16:28:03.508Z"
   },
   {
    "duration": 231,
    "start_time": "2023-09-13T16:28:03.579Z"
   },
   {
    "duration": 385,
    "start_time": "2023-09-13T16:28:03.812Z"
   },
   {
    "duration": 90,
    "start_time": "2023-09-13T16:28:04.199Z"
   },
   {
    "duration": 31,
    "start_time": "2023-09-13T16:28:04.291Z"
   },
   {
    "duration": 141,
    "start_time": "2023-09-13T16:28:04.324Z"
   },
   {
    "duration": 111,
    "start_time": "2023-09-13T16:28:04.466Z"
   },
   {
    "duration": 133,
    "start_time": "2023-09-13T16:28:04.579Z"
   },
   {
    "duration": 1579,
    "start_time": "2023-09-13T16:28:04.714Z"
   },
   {
    "duration": 1550,
    "start_time": "2023-09-13T16:28:06.294Z"
   },
   {
    "duration": 423,
    "start_time": "2023-09-13T16:28:07.849Z"
   },
   {
    "duration": 91,
    "start_time": "2023-09-13T16:28:08.274Z"
   },
   {
    "duration": 413,
    "start_time": "2023-09-13T16:28:08.367Z"
   },
   {
    "duration": 433,
    "start_time": "2023-09-13T16:28:08.782Z"
   },
   {
    "duration": 6,
    "start_time": "2023-09-13T16:28:09.217Z"
   },
   {
    "duration": 113,
    "start_time": "2023-09-13T16:28:09.224Z"
   },
   {
    "duration": 417,
    "start_time": "2023-09-13T16:28:09.339Z"
   },
   {
    "duration": 440,
    "start_time": "2023-09-13T16:28:09.758Z"
   },
   {
    "duration": 312,
    "start_time": "2023-09-13T16:28:10.202Z"
   },
   {
    "duration": 449,
    "start_time": "2023-09-13T16:28:10.516Z"
   },
   {
    "duration": 24,
    "start_time": "2023-09-13T16:28:10.967Z"
   },
   {
    "duration": 346,
    "start_time": "2023-09-13T16:28:11.002Z"
   },
   {
    "duration": 553,
    "start_time": "2023-09-13T16:28:11.350Z"
   },
   {
    "duration": 460,
    "start_time": "2023-09-13T16:28:11.905Z"
   },
   {
    "duration": 230,
    "start_time": "2023-09-13T16:28:12.367Z"
   },
   {
    "duration": 82,
    "start_time": "2023-09-13T16:28:12.600Z"
   },
   {
    "duration": 150,
    "start_time": "2023-09-13T16:28:12.684Z"
   },
   {
    "duration": 155,
    "start_time": "2023-09-13T16:28:12.836Z"
   },
   {
    "duration": 10,
    "start_time": "2023-09-13T16:28:12.992Z"
   },
   {
    "duration": 27,
    "start_time": "2023-09-13T16:28:13.004Z"
   },
   {
    "duration": 82,
    "start_time": "2023-09-13T16:28:13.033Z"
   },
   {
    "duration": 26,
    "start_time": "2023-09-13T16:28:13.117Z"
   },
   {
    "duration": 70,
    "start_time": "2023-09-13T16:28:13.145Z"
   },
   {
    "duration": 52,
    "start_time": "2023-09-13T16:28:13.217Z"
   },
   {
    "duration": 812,
    "start_time": "2023-09-13T16:28:13.271Z"
   },
   {
    "duration": 536,
    "start_time": "2023-09-13T16:28:14.084Z"
   },
   {
    "duration": 3588,
    "start_time": "2023-09-13T16:28:14.622Z"
   },
   {
    "duration": 1462,
    "start_time": "2023-09-13T16:28:18.212Z"
   },
   {
    "duration": 4,
    "start_time": "2023-09-13T16:28:19.675Z"
   },
   {
    "duration": 10,
    "start_time": "2023-09-13T16:28:19.680Z"
   },
   {
    "duration": 10,
    "start_time": "2023-09-13T16:28:19.692Z"
   },
   {
    "duration": 6,
    "start_time": "2023-09-13T16:28:19.704Z"
   },
   {
    "duration": 1090,
    "start_time": "2023-09-13T16:28:19.714Z"
   },
   {
    "duration": 103,
    "start_time": "2023-09-13T16:28:20.806Z"
   },
   {
    "duration": 199,
    "start_time": "2023-09-13T16:28:20.912Z"
   },
   {
    "duration": 19,
    "start_time": "2023-09-13T16:28:21.113Z"
   },
   {
    "duration": 34,
    "start_time": "2023-09-13T16:28:21.134Z"
   },
   {
    "duration": 41,
    "start_time": "2023-09-13T16:28:21.170Z"
   },
   {
    "duration": 20,
    "start_time": "2023-09-13T16:28:21.212Z"
   },
   {
    "duration": 18,
    "start_time": "2023-09-13T16:28:21.234Z"
   },
   {
    "duration": 17,
    "start_time": "2023-09-13T16:28:21.254Z"
   },
   {
    "duration": 29,
    "start_time": "2023-09-13T16:28:21.272Z"
   },
   {
    "duration": 52,
    "start_time": "2023-09-13T16:28:21.303Z"
   },
   {
    "duration": 1520,
    "start_time": "2023-09-13T16:29:09.047Z"
   },
   {
    "duration": 910,
    "start_time": "2023-09-13T16:29:10.570Z"
   },
   {
    "duration": 21,
    "start_time": "2023-09-13T16:29:11.482Z"
   },
   {
    "duration": 172,
    "start_time": "2023-09-13T16:29:11.505Z"
   },
   {
    "duration": 3,
    "start_time": "2023-09-13T16:29:11.679Z"
   },
   {
    "duration": 525,
    "start_time": "2023-09-13T16:29:11.684Z"
   },
   {
    "duration": 31,
    "start_time": "2023-09-13T16:29:12.211Z"
   },
   {
    "duration": 647,
    "start_time": "2023-09-13T16:29:12.243Z"
   },
   {
    "duration": 42,
    "start_time": "2023-09-13T16:29:12.891Z"
   },
   {
    "duration": 182,
    "start_time": "2023-09-13T16:29:12.936Z"
   },
   {
    "duration": 54,
    "start_time": "2023-09-13T16:29:13.120Z"
   },
   {
    "duration": 114,
    "start_time": "2023-09-13T16:29:13.176Z"
   },
   {
    "duration": 258,
    "start_time": "2023-09-13T16:29:13.291Z"
   },
   {
    "duration": 2,
    "start_time": "2023-09-13T16:29:13.551Z"
   },
   {
    "duration": 61,
    "start_time": "2023-09-13T16:29:13.554Z"
   },
   {
    "duration": 57,
    "start_time": "2023-09-13T16:29:13.617Z"
   },
   {
    "duration": 69,
    "start_time": "2023-09-13T16:29:13.675Z"
   },
   {
    "duration": 52,
    "start_time": "2023-09-13T16:29:13.746Z"
   },
   {
    "duration": 53,
    "start_time": "2023-09-13T16:29:13.800Z"
   },
   {
    "duration": 91,
    "start_time": "2023-09-13T16:29:13.854Z"
   },
   {
    "duration": 136,
    "start_time": "2023-09-13T16:29:13.947Z"
   },
   {
    "duration": 147,
    "start_time": "2023-09-13T16:29:14.085Z"
   },
   {
    "duration": 189,
    "start_time": "2023-09-13T16:29:14.233Z"
   },
   {
    "duration": 113,
    "start_time": "2023-09-13T16:29:14.424Z"
   },
   {
    "duration": 127,
    "start_time": "2023-09-13T16:29:14.539Z"
   },
   {
    "duration": 1578,
    "start_time": "2023-09-13T16:29:14.668Z"
   },
   {
    "duration": 1535,
    "start_time": "2023-09-13T16:29:16.248Z"
   },
   {
    "duration": 429,
    "start_time": "2023-09-13T16:29:17.789Z"
   },
   {
    "duration": 83,
    "start_time": "2023-09-13T16:29:18.220Z"
   },
   {
    "duration": 380,
    "start_time": "2023-09-13T16:29:18.305Z"
   },
   {
    "duration": 449,
    "start_time": "2023-09-13T16:29:18.688Z"
   },
   {
    "duration": 8,
    "start_time": "2023-09-13T16:29:19.140Z"
   },
   {
    "duration": 41,
    "start_time": "2023-09-13T16:29:19.150Z"
   },
   {
    "duration": 439,
    "start_time": "2023-09-13T16:29:19.193Z"
   },
   {
    "duration": 427,
    "start_time": "2023-09-13T16:29:19.633Z"
   },
   {
    "duration": 316,
    "start_time": "2023-09-13T16:29:20.062Z"
   },
   {
    "duration": 456,
    "start_time": "2023-09-13T16:29:20.379Z"
   },
   {
    "duration": 22,
    "start_time": "2023-09-13T16:29:20.837Z"
   },
   {
    "duration": 312,
    "start_time": "2023-09-13T16:29:20.860Z"
   },
   {
    "duration": 518,
    "start_time": "2023-09-13T16:29:21.173Z"
   },
   {
    "duration": 454,
    "start_time": "2023-09-13T16:29:21.693Z"
   },
   {
    "duration": 260,
    "start_time": "2023-09-13T16:29:22.148Z"
   },
   {
    "duration": 99,
    "start_time": "2023-09-13T16:29:22.410Z"
   },
   {
    "duration": 155,
    "start_time": "2023-09-13T16:29:22.510Z"
   },
   {
    "duration": 155,
    "start_time": "2023-09-13T16:29:22.667Z"
   },
   {
    "duration": 4,
    "start_time": "2023-09-13T16:29:22.823Z"
   },
   {
    "duration": 26,
    "start_time": "2023-09-13T16:29:22.828Z"
   },
   {
    "duration": 67,
    "start_time": "2023-09-13T16:29:22.856Z"
   },
   {
    "duration": 25,
    "start_time": "2023-09-13T16:29:22.925Z"
   },
   {
    "duration": 17,
    "start_time": "2023-09-13T16:29:22.952Z"
   },
   {
    "duration": 77,
    "start_time": "2023-09-13T16:29:22.971Z"
   },
   {
    "duration": 875,
    "start_time": "2023-09-13T16:29:23.050Z"
   },
   {
    "duration": 558,
    "start_time": "2023-09-13T16:29:23.927Z"
   },
   {
    "duration": 2398,
    "start_time": "2023-09-13T16:29:24.486Z"
   },
   {
    "duration": 1460,
    "start_time": "2023-09-13T16:29:26.886Z"
   },
   {
    "duration": 4,
    "start_time": "2023-09-13T16:29:28.348Z"
   },
   {
    "duration": 94,
    "start_time": "2023-09-13T16:29:28.354Z"
   },
   {
    "duration": 61,
    "start_time": "2023-09-13T16:29:28.450Z"
   },
   {
    "duration": 143,
    "start_time": "2023-09-13T16:29:28.513Z"
   },
   {
    "duration": 1169,
    "start_time": "2023-09-13T16:29:28.658Z"
   },
   {
    "duration": 78,
    "start_time": "2023-09-13T16:29:29.829Z"
   },
   {
    "duration": 94,
    "start_time": "2023-09-13T16:29:29.910Z"
   },
   {
    "duration": 6,
    "start_time": "2023-09-13T16:29:30.006Z"
   },
   {
    "duration": 3,
    "start_time": "2023-09-13T16:29:30.102Z"
   },
   {
    "duration": 73,
    "start_time": "2023-09-13T16:29:30.107Z"
   },
   {
    "duration": 39,
    "start_time": "2023-09-13T16:29:30.182Z"
   },
   {
    "duration": 41,
    "start_time": "2023-09-13T16:29:30.223Z"
   },
   {
    "duration": 22,
    "start_time": "2023-09-13T16:29:30.266Z"
   },
   {
    "duration": 46,
    "start_time": "2023-09-13T16:29:30.290Z"
   },
   {
    "duration": 65,
    "start_time": "2023-09-13T16:29:30.338Z"
   },
   {
    "duration": 169706,
    "start_time": "2023-09-13T16:29:30.404Z"
   },
   {
    "duration": 199,
    "start_time": "2023-09-13T16:32:20.112Z"
   },
   {
    "duration": 3,
    "start_time": "2023-09-13T16:32:20.313Z"
   },
   {
    "duration": 50,
    "start_time": "2023-09-13T16:32:20.317Z"
   },
   {
    "duration": 17,
    "start_time": "2023-09-13T16:32:20.368Z"
   },
   {
    "duration": 853724,
    "start_time": "2023-09-13T16:32:20.387Z"
   },
   {
    "duration": 12809,
    "start_time": "2023-09-13T16:46:34.112Z"
   },
   {
    "duration": 2,
    "start_time": "2023-09-13T16:46:46.923Z"
   },
   {
    "duration": 75,
    "start_time": "2023-09-13T16:46:46.927Z"
   },
   {
    "duration": 151315,
    "start_time": "2023-09-13T16:46:47.003Z"
   },
   {
    "duration": 2736,
    "start_time": "2023-09-13T16:49:18.320Z"
   },
   {
    "duration": 14,
    "start_time": "2023-09-13T16:49:21.062Z"
   },
   {
    "duration": 1604,
    "start_time": "2023-09-13T17:04:19.070Z"
   },
   {
    "duration": 964,
    "start_time": "2023-09-13T17:04:20.676Z"
   },
   {
    "duration": 17,
    "start_time": "2023-09-13T17:04:21.642Z"
   },
   {
    "duration": 178,
    "start_time": "2023-09-13T17:04:21.661Z"
   },
   {
    "duration": 3,
    "start_time": "2023-09-13T17:04:21.841Z"
   },
   {
    "duration": 572,
    "start_time": "2023-09-13T17:04:21.846Z"
   },
   {
    "duration": 28,
    "start_time": "2023-09-13T17:04:22.419Z"
   },
   {
    "duration": 585,
    "start_time": "2023-09-13T17:04:22.449Z"
   },
   {
    "duration": 39,
    "start_time": "2023-09-13T17:04:23.035Z"
   },
   {
    "duration": 107,
    "start_time": "2023-09-13T17:04:23.077Z"
   },
   {
    "duration": 17,
    "start_time": "2023-09-13T17:04:23.186Z"
   },
   {
    "duration": 64,
    "start_time": "2023-09-13T17:04:23.205Z"
   },
   {
    "duration": 275,
    "start_time": "2023-09-13T17:04:23.271Z"
   },
   {
    "duration": 3,
    "start_time": "2023-09-13T17:04:23.547Z"
   },
   {
    "duration": 64,
    "start_time": "2023-09-13T17:04:23.552Z"
   },
   {
    "duration": 54,
    "start_time": "2023-09-13T17:04:23.618Z"
   },
   {
    "duration": 45,
    "start_time": "2023-09-13T17:04:23.674Z"
   },
   {
    "duration": 52,
    "start_time": "2023-09-13T17:04:23.720Z"
   },
   {
    "duration": 21,
    "start_time": "2023-09-13T17:04:23.774Z"
   },
   {
    "duration": 56,
    "start_time": "2023-09-13T17:04:23.797Z"
   },
   {
    "duration": 44,
    "start_time": "2023-09-13T17:04:23.855Z"
   },
   {
    "duration": 48,
    "start_time": "2023-09-13T17:04:23.901Z"
   },
   {
    "duration": 129,
    "start_time": "2023-09-13T17:04:23.952Z"
   },
   {
    "duration": 112,
    "start_time": "2023-09-13T17:04:24.083Z"
   },
   {
    "duration": 126,
    "start_time": "2023-09-13T17:04:24.201Z"
   },
   {
    "duration": 1595,
    "start_time": "2023-09-13T17:04:24.329Z"
   },
   {
    "duration": 1573,
    "start_time": "2023-09-13T17:04:25.926Z"
   },
   {
    "duration": 422,
    "start_time": "2023-09-13T17:04:27.504Z"
   },
   {
    "duration": 97,
    "start_time": "2023-09-13T17:04:27.928Z"
   },
   {
    "duration": 414,
    "start_time": "2023-09-13T17:04:28.027Z"
   },
   {
    "duration": 631,
    "start_time": "2023-09-13T17:04:28.442Z"
   },
   {
    "duration": 6,
    "start_time": "2023-09-13T17:04:29.074Z"
   },
   {
    "duration": 68,
    "start_time": "2023-09-13T17:04:29.082Z"
   },
   {
    "duration": 452,
    "start_time": "2023-09-13T17:04:29.151Z"
   },
   {
    "duration": 462,
    "start_time": "2023-09-13T17:04:29.605Z"
   },
   {
    "duration": 321,
    "start_time": "2023-09-13T17:04:30.069Z"
   },
   {
    "duration": 479,
    "start_time": "2023-09-13T17:04:30.392Z"
   },
   {
    "duration": 32,
    "start_time": "2023-09-13T17:04:30.872Z"
   },
   {
    "duration": 298,
    "start_time": "2023-09-13T17:04:30.906Z"
   },
   {
    "duration": 562,
    "start_time": "2023-09-13T17:04:31.206Z"
   },
   {
    "duration": 478,
    "start_time": "2023-09-13T17:04:31.770Z"
   },
   {
    "duration": 237,
    "start_time": "2023-09-13T17:04:32.249Z"
   },
   {
    "duration": 114,
    "start_time": "2023-09-13T17:04:32.488Z"
   },
   {
    "duration": 161,
    "start_time": "2023-09-13T17:04:32.604Z"
   },
   {
    "duration": 150,
    "start_time": "2023-09-13T17:04:32.767Z"
   },
   {
    "duration": 3,
    "start_time": "2023-09-13T17:04:32.919Z"
   },
   {
    "duration": 29,
    "start_time": "2023-09-13T17:04:32.923Z"
   },
   {
    "duration": 77,
    "start_time": "2023-09-13T17:04:32.953Z"
   },
   {
    "duration": 26,
    "start_time": "2023-09-13T17:04:33.031Z"
   },
   {
    "duration": 17,
    "start_time": "2023-09-13T17:04:33.059Z"
   },
   {
    "duration": 82,
    "start_time": "2023-09-13T17:04:33.077Z"
   },
   {
    "duration": 878,
    "start_time": "2023-09-13T17:04:33.161Z"
   },
   {
    "duration": 3,
    "start_time": "2023-09-13T17:04:34.041Z"
   },
   {
    "duration": 135,
    "start_time": "2023-09-13T17:04:34.045Z"
   },
   {
    "duration": 0,
    "start_time": "2023-09-13T17:04:34.181Z"
   },
   {
    "duration": 0,
    "start_time": "2023-09-13T17:04:34.183Z"
   },
   {
    "duration": 0,
    "start_time": "2023-09-13T17:04:34.184Z"
   },
   {
    "duration": 0,
    "start_time": "2023-09-13T17:04:34.185Z"
   },
   {
    "duration": 0,
    "start_time": "2023-09-13T17:04:34.186Z"
   },
   {
    "duration": 0,
    "start_time": "2023-09-13T17:04:34.187Z"
   },
   {
    "duration": 0,
    "start_time": "2023-09-13T17:04:34.188Z"
   },
   {
    "duration": 0,
    "start_time": "2023-09-13T17:04:34.189Z"
   },
   {
    "duration": 0,
    "start_time": "2023-09-13T17:04:34.201Z"
   },
   {
    "duration": 0,
    "start_time": "2023-09-13T17:04:34.202Z"
   },
   {
    "duration": 1,
    "start_time": "2023-09-13T17:04:34.203Z"
   },
   {
    "duration": 0,
    "start_time": "2023-09-13T17:04:34.205Z"
   },
   {
    "duration": 0,
    "start_time": "2023-09-13T17:04:34.206Z"
   },
   {
    "duration": 0,
    "start_time": "2023-09-13T17:04:34.207Z"
   },
   {
    "duration": 0,
    "start_time": "2023-09-13T17:04:34.208Z"
   },
   {
    "duration": 0,
    "start_time": "2023-09-13T17:04:34.209Z"
   },
   {
    "duration": 457,
    "start_time": "2023-09-13T17:06:22.495Z"
   },
   {
    "duration": 64,
    "start_time": "2023-09-13T17:06:26.078Z"
   },
   {
    "duration": 12,
    "start_time": "2023-09-13T17:06:39.522Z"
   },
   {
    "duration": 4,
    "start_time": "2023-09-13T17:07:09.658Z"
   },
   {
    "duration": 2469,
    "start_time": "2023-09-13T17:07:16.988Z"
   },
   {
    "duration": 1485,
    "start_time": "2023-09-13T17:07:22.765Z"
   },
   {
    "duration": 4,
    "start_time": "2023-09-13T17:07:25.154Z"
   },
   {
    "duration": 1563,
    "start_time": "2023-09-13T17:13:22.699Z"
   },
   {
    "duration": 1046,
    "start_time": "2023-09-13T17:13:24.264Z"
   },
   {
    "duration": 18,
    "start_time": "2023-09-13T17:13:25.312Z"
   },
   {
    "duration": 217,
    "start_time": "2023-09-13T17:13:25.332Z"
   },
   {
    "duration": 4,
    "start_time": "2023-09-13T17:13:25.551Z"
   },
   {
    "duration": 583,
    "start_time": "2023-09-13T17:13:25.557Z"
   },
   {
    "duration": 32,
    "start_time": "2023-09-13T17:13:26.142Z"
   },
   {
    "duration": 626,
    "start_time": "2023-09-13T17:13:26.175Z"
   },
   {
    "duration": 40,
    "start_time": "2023-09-13T17:13:26.803Z"
   },
   {
    "duration": 134,
    "start_time": "2023-09-13T17:13:26.845Z"
   },
   {
    "duration": 43,
    "start_time": "2023-09-13T17:13:26.981Z"
   },
   {
    "duration": 100,
    "start_time": "2023-09-13T17:13:27.027Z"
   },
   {
    "duration": 282,
    "start_time": "2023-09-13T17:13:27.129Z"
   },
   {
    "duration": 3,
    "start_time": "2023-09-13T17:13:27.415Z"
   },
   {
    "duration": 63,
    "start_time": "2023-09-13T17:13:27.419Z"
   },
   {
    "duration": 50,
    "start_time": "2023-09-13T17:13:27.483Z"
   },
   {
    "duration": 73,
    "start_time": "2023-09-13T17:13:27.534Z"
   },
   {
    "duration": 64,
    "start_time": "2023-09-13T17:13:27.609Z"
   },
   {
    "duration": 30,
    "start_time": "2023-09-13T17:13:27.675Z"
   },
   {
    "duration": 55,
    "start_time": "2023-09-13T17:13:27.706Z"
   },
   {
    "duration": 69,
    "start_time": "2023-09-13T17:13:27.763Z"
   },
   {
    "duration": 51,
    "start_time": "2023-09-13T17:13:27.834Z"
   },
   {
    "duration": 165,
    "start_time": "2023-09-13T17:13:27.887Z"
   },
   {
    "duration": 116,
    "start_time": "2023-09-13T17:13:28.053Z"
   },
   {
    "duration": 112,
    "start_time": "2023-09-13T17:13:28.171Z"
   },
   {
    "duration": 1701,
    "start_time": "2023-09-13T17:13:28.285Z"
   },
   {
    "duration": 1675,
    "start_time": "2023-09-13T17:13:29.988Z"
   },
   {
    "duration": 437,
    "start_time": "2023-09-13T17:13:31.666Z"
   },
   {
    "duration": 79,
    "start_time": "2023-09-13T17:13:32.105Z"
   },
   {
    "duration": 418,
    "start_time": "2023-09-13T17:13:32.187Z"
   },
   {
    "duration": 456,
    "start_time": "2023-09-13T17:13:32.607Z"
   },
   {
    "duration": 6,
    "start_time": "2023-09-13T17:13:33.065Z"
   },
   {
    "duration": 90,
    "start_time": "2023-09-13T17:13:33.073Z"
   },
   {
    "duration": 477,
    "start_time": "2023-09-13T17:13:33.165Z"
   },
   {
    "duration": 479,
    "start_time": "2023-09-13T17:13:33.644Z"
   },
   {
    "duration": 350,
    "start_time": "2023-09-13T17:13:34.126Z"
   },
   {
    "duration": 614,
    "start_time": "2023-09-13T17:13:34.479Z"
   },
   {
    "duration": 28,
    "start_time": "2023-09-13T17:13:35.102Z"
   },
   {
    "duration": 320,
    "start_time": "2023-09-13T17:13:35.132Z"
   },
   {
    "duration": 587,
    "start_time": "2023-09-13T17:13:35.454Z"
   },
   {
    "duration": 487,
    "start_time": "2023-09-13T17:13:36.045Z"
   },
   {
    "duration": 246,
    "start_time": "2023-09-13T17:13:36.534Z"
   },
   {
    "duration": 97,
    "start_time": "2023-09-13T17:13:36.782Z"
   },
   {
    "duration": 149,
    "start_time": "2023-09-13T17:13:36.881Z"
   },
   {
    "duration": 154,
    "start_time": "2023-09-13T17:13:37.031Z"
   },
   {
    "duration": 3,
    "start_time": "2023-09-13T17:13:37.187Z"
   },
   {
    "duration": 29,
    "start_time": "2023-09-13T17:13:37.191Z"
   },
   {
    "duration": 92,
    "start_time": "2023-09-13T17:13:37.222Z"
   },
   {
    "duration": 30,
    "start_time": "2023-09-13T17:13:37.316Z"
   },
   {
    "duration": 14,
    "start_time": "2023-09-13T17:13:37.348Z"
   },
   {
    "duration": 83,
    "start_time": "2023-09-13T17:13:37.364Z"
   },
   {
    "duration": 892,
    "start_time": "2023-09-13T17:13:37.449Z"
   },
   {
    "duration": 3,
    "start_time": "2023-09-13T17:13:38.344Z"
   },
   {
    "duration": 561,
    "start_time": "2023-09-13T17:13:38.349Z"
   },
   {
    "duration": 69,
    "start_time": "2023-09-13T17:13:38.912Z"
   },
   {
    "duration": 2637,
    "start_time": "2023-09-13T17:13:38.983Z"
   },
   {
    "duration": 1645,
    "start_time": "2023-09-13T17:13:41.622Z"
   },
   {
    "duration": 4,
    "start_time": "2023-09-13T17:13:43.269Z"
   },
   {
    "duration": 25,
    "start_time": "2023-09-13T17:13:43.275Z"
   },
   {
    "duration": 41,
    "start_time": "2023-09-13T17:13:43.302Z"
   },
   {
    "duration": 51,
    "start_time": "2023-09-13T17:13:43.345Z"
   },
   {
    "duration": 1208,
    "start_time": "2023-09-13T17:13:43.398Z"
   },
   {
    "duration": 101,
    "start_time": "2023-09-13T17:13:44.609Z"
   },
   {
    "duration": 179886,
    "start_time": "2023-09-13T17:13:44.717Z"
   },
   {
    "duration": 250,
    "start_time": "2023-09-13T17:16:44.605Z"
   },
   {
    "duration": 599650,
    "start_time": "2023-09-13T17:16:44.857Z"
   },
   {
    "duration": 11493,
    "start_time": "2023-09-13T17:26:44.509Z"
   },
   {
    "duration": 145,
    "start_time": "2023-09-13T17:26:56.004Z"
   },
   {
    "duration": 95,
    "start_time": "2023-09-13T17:26:56.151Z"
   },
   {
    "duration": 12,
    "start_time": "2023-09-13T17:26:56.248Z"
   },
   {
    "duration": 1651,
    "start_time": "2023-09-13T17:48:08.185Z"
   },
   {
    "duration": 957,
    "start_time": "2023-09-13T17:48:09.838Z"
   },
   {
    "duration": 17,
    "start_time": "2023-09-13T17:48:10.797Z"
   },
   {
    "duration": 181,
    "start_time": "2023-09-13T17:48:10.816Z"
   },
   {
    "duration": 4,
    "start_time": "2023-09-13T17:48:11.002Z"
   },
   {
    "duration": 540,
    "start_time": "2023-09-13T17:48:11.008Z"
   },
   {
    "duration": 30,
    "start_time": "2023-09-13T17:48:11.550Z"
   },
   {
    "duration": 609,
    "start_time": "2023-09-13T17:48:11.582Z"
   },
   {
    "duration": 52,
    "start_time": "2023-09-13T17:48:12.193Z"
   },
   {
    "duration": 190,
    "start_time": "2023-09-13T17:48:12.247Z"
   },
   {
    "duration": 16,
    "start_time": "2023-09-13T17:48:12.438Z"
   },
   {
    "duration": 112,
    "start_time": "2023-09-13T17:48:12.456Z"
   },
   {
    "duration": 277,
    "start_time": "2023-09-13T17:48:12.570Z"
   },
   {
    "duration": 51,
    "start_time": "2023-09-13T17:48:12.851Z"
   },
   {
    "duration": 40,
    "start_time": "2023-09-13T17:48:12.904Z"
   },
   {
    "duration": 57,
    "start_time": "2023-09-13T17:48:12.946Z"
   },
   {
    "duration": 46,
    "start_time": "2023-09-13T17:48:13.004Z"
   },
   {
    "duration": 51,
    "start_time": "2023-09-13T17:48:13.051Z"
   },
   {
    "duration": 48,
    "start_time": "2023-09-13T17:48:13.104Z"
   },
   {
    "duration": 41,
    "start_time": "2023-09-13T17:48:13.154Z"
   },
   {
    "duration": 131,
    "start_time": "2023-09-13T17:48:13.196Z"
   },
   {
    "duration": 109,
    "start_time": "2023-09-13T17:48:13.328Z"
   },
   {
    "duration": 106,
    "start_time": "2023-09-13T17:48:13.438Z"
   },
   {
    "duration": 1701,
    "start_time": "2023-09-13T17:48:13.545Z"
   },
   {
    "duration": 1578,
    "start_time": "2023-09-13T17:48:15.248Z"
   },
   {
    "duration": 396,
    "start_time": "2023-09-13T17:48:16.827Z"
   },
   {
    "duration": 78,
    "start_time": "2023-09-13T17:48:17.224Z"
   },
   {
    "duration": 366,
    "start_time": "2023-09-13T17:48:17.304Z"
   },
   {
    "duration": 441,
    "start_time": "2023-09-13T17:48:17.672Z"
   },
   {
    "duration": 8,
    "start_time": "2023-09-13T17:48:18.115Z"
   },
   {
    "duration": 28,
    "start_time": "2023-09-13T17:48:18.125Z"
   },
   {
    "duration": 444,
    "start_time": "2023-09-13T17:48:18.155Z"
   },
   {
    "duration": 436,
    "start_time": "2023-09-13T17:48:18.601Z"
   },
   {
    "duration": 289,
    "start_time": "2023-09-13T17:48:19.039Z"
   },
   {
    "duration": 427,
    "start_time": "2023-09-13T17:48:19.330Z"
   },
   {
    "duration": 23,
    "start_time": "2023-09-13T17:48:19.759Z"
   },
   {
    "duration": 311,
    "start_time": "2023-09-13T17:48:19.784Z"
   },
   {
    "duration": 555,
    "start_time": "2023-09-13T17:48:20.097Z"
   },
   {
    "duration": 461,
    "start_time": "2023-09-13T17:48:20.654Z"
   },
   {
    "duration": 229,
    "start_time": "2023-09-13T17:48:21.117Z"
   },
   {
    "duration": 84,
    "start_time": "2023-09-13T17:48:21.350Z"
   },
   {
    "duration": 148,
    "start_time": "2023-09-13T17:48:21.435Z"
   },
   {
    "duration": 158,
    "start_time": "2023-09-13T17:48:21.585Z"
   },
   {
    "duration": 3,
    "start_time": "2023-09-13T17:48:21.745Z"
   },
   {
    "duration": 27,
    "start_time": "2023-09-13T17:48:21.750Z"
   },
   {
    "duration": 64,
    "start_time": "2023-09-13T17:48:21.778Z"
   },
   {
    "duration": 38,
    "start_time": "2023-09-13T17:48:21.844Z"
   },
   {
    "duration": 22,
    "start_time": "2023-09-13T17:48:21.884Z"
   },
   {
    "duration": 52,
    "start_time": "2023-09-13T17:48:21.908Z"
   },
   {
    "duration": 882,
    "start_time": "2023-09-13T17:48:21.962Z"
   },
   {
    "duration": 3,
    "start_time": "2023-09-13T17:48:22.845Z"
   },
   {
    "duration": 539,
    "start_time": "2023-09-13T17:48:22.850Z"
   },
   {
    "duration": 0,
    "start_time": "2023-09-13T17:48:23.391Z"
   },
   {
    "duration": 0,
    "start_time": "2023-09-13T17:48:23.393Z"
   },
   {
    "duration": 0,
    "start_time": "2023-09-13T17:48:23.402Z"
   },
   {
    "duration": 0,
    "start_time": "2023-09-13T17:48:23.403Z"
   },
   {
    "duration": 0,
    "start_time": "2023-09-13T17:48:23.405Z"
   },
   {
    "duration": 0,
    "start_time": "2023-09-13T17:48:23.406Z"
   },
   {
    "duration": 0,
    "start_time": "2023-09-13T17:48:23.408Z"
   },
   {
    "duration": 0,
    "start_time": "2023-09-13T17:48:23.410Z"
   },
   {
    "duration": 0,
    "start_time": "2023-09-13T17:48:23.411Z"
   },
   {
    "duration": 0,
    "start_time": "2023-09-13T17:48:23.412Z"
   },
   {
    "duration": 0,
    "start_time": "2023-09-13T17:48:23.414Z"
   },
   {
    "duration": 0,
    "start_time": "2023-09-13T17:48:23.416Z"
   },
   {
    "duration": 0,
    "start_time": "2023-09-13T17:48:23.417Z"
   },
   {
    "duration": 0,
    "start_time": "2023-09-13T17:48:23.419Z"
   },
   {
    "duration": 0,
    "start_time": "2023-09-13T17:48:23.421Z"
   },
   {
    "duration": 0,
    "start_time": "2023-09-13T17:48:23.422Z"
   },
   {
    "duration": 477,
    "start_time": "2023-09-13T17:50:10.963Z"
   },
   {
    "duration": 76,
    "start_time": "2023-09-13T17:50:12.551Z"
   },
   {
    "duration": 1648,
    "start_time": "2023-09-13T17:50:18.482Z"
   },
   {
    "duration": 1035,
    "start_time": "2023-09-13T17:50:20.133Z"
   },
   {
    "duration": 23,
    "start_time": "2023-09-13T17:50:21.170Z"
   },
   {
    "duration": 165,
    "start_time": "2023-09-13T17:50:21.200Z"
   },
   {
    "duration": 3,
    "start_time": "2023-09-13T17:50:21.367Z"
   },
   {
    "duration": 541,
    "start_time": "2023-09-13T17:50:21.371Z"
   },
   {
    "duration": 34,
    "start_time": "2023-09-13T17:50:21.915Z"
   },
   {
    "duration": 695,
    "start_time": "2023-09-13T17:50:21.951Z"
   },
   {
    "duration": 43,
    "start_time": "2023-09-13T17:50:22.649Z"
   },
   {
    "duration": 113,
    "start_time": "2023-09-13T17:50:22.704Z"
   },
   {
    "duration": 23,
    "start_time": "2023-09-13T17:50:22.819Z"
   },
   {
    "duration": 87,
    "start_time": "2023-09-13T17:50:22.843Z"
   },
   {
    "duration": 289,
    "start_time": "2023-09-13T17:50:22.931Z"
   },
   {
    "duration": 47,
    "start_time": "2023-09-13T17:50:23.222Z"
   },
   {
    "duration": 61,
    "start_time": "2023-09-13T17:50:23.271Z"
   },
   {
    "duration": 58,
    "start_time": "2023-09-13T17:50:23.334Z"
   },
   {
    "duration": 44,
    "start_time": "2023-09-13T17:50:23.394Z"
   },
   {
    "duration": 49,
    "start_time": "2023-09-13T17:50:23.441Z"
   },
   {
    "duration": 57,
    "start_time": "2023-09-13T17:50:23.491Z"
   },
   {
    "duration": 51,
    "start_time": "2023-09-13T17:50:23.551Z"
   },
   {
    "duration": 141,
    "start_time": "2023-09-13T17:50:23.604Z"
   },
   {
    "duration": 118,
    "start_time": "2023-09-13T17:50:23.747Z"
   },
   {
    "duration": 112,
    "start_time": "2023-09-13T17:50:23.867Z"
   },
   {
    "duration": 1833,
    "start_time": "2023-09-13T17:50:23.981Z"
   },
   {
    "duration": 1715,
    "start_time": "2023-09-13T17:50:25.816Z"
   },
   {
    "duration": 450,
    "start_time": "2023-09-13T17:50:27.534Z"
   },
   {
    "duration": 85,
    "start_time": "2023-09-13T17:50:27.986Z"
   },
   {
    "duration": 457,
    "start_time": "2023-09-13T17:50:28.075Z"
   },
   {
    "duration": 678,
    "start_time": "2023-09-13T17:50:28.543Z"
   },
   {
    "duration": 6,
    "start_time": "2023-09-13T17:50:29.223Z"
   },
   {
    "duration": 41,
    "start_time": "2023-09-13T17:50:29.231Z"
   },
   {
    "duration": 478,
    "start_time": "2023-09-13T17:50:29.274Z"
   },
   {
    "duration": 429,
    "start_time": "2023-09-13T17:50:29.754Z"
   },
   {
    "duration": 337,
    "start_time": "2023-09-13T17:50:30.187Z"
   },
   {
    "duration": 501,
    "start_time": "2023-09-13T17:50:30.526Z"
   },
   {
    "duration": 26,
    "start_time": "2023-09-13T17:50:31.029Z"
   },
   {
    "duration": 363,
    "start_time": "2023-09-13T17:50:31.058Z"
   },
   {
    "duration": 578,
    "start_time": "2023-09-13T17:50:31.423Z"
   },
   {
    "duration": 523,
    "start_time": "2023-09-13T17:50:32.003Z"
   },
   {
    "duration": 302,
    "start_time": "2023-09-13T17:50:32.528Z"
   },
   {
    "duration": 116,
    "start_time": "2023-09-13T17:50:32.832Z"
   },
   {
    "duration": 190,
    "start_time": "2023-09-13T17:50:32.950Z"
   },
   {
    "duration": 156,
    "start_time": "2023-09-13T17:50:33.142Z"
   },
   {
    "duration": 5,
    "start_time": "2023-09-13T17:50:33.302Z"
   },
   {
    "duration": 119,
    "start_time": "2023-09-13T17:50:33.308Z"
   },
   {
    "duration": 83,
    "start_time": "2023-09-13T17:50:33.429Z"
   },
   {
    "duration": 31,
    "start_time": "2023-09-13T17:50:33.514Z"
   },
   {
    "duration": 23,
    "start_time": "2023-09-13T17:50:33.547Z"
   },
   {
    "duration": 129,
    "start_time": "2023-09-13T17:50:33.572Z"
   },
   {
    "duration": 954,
    "start_time": "2023-09-13T17:50:33.703Z"
   },
   {
    "duration": 4,
    "start_time": "2023-09-13T17:50:34.659Z"
   },
   {
    "duration": 529,
    "start_time": "2023-09-13T17:50:34.665Z"
   },
   {
    "duration": 91,
    "start_time": "2023-09-13T17:50:35.196Z"
   },
   {
    "duration": 2732,
    "start_time": "2023-09-13T17:50:35.289Z"
   },
   {
    "duration": 1645,
    "start_time": "2023-09-13T17:50:38.024Z"
   },
   {
    "duration": 4,
    "start_time": "2023-09-13T17:50:39.671Z"
   },
   {
    "duration": 15,
    "start_time": "2023-09-13T17:50:39.677Z"
   },
   {
    "duration": 12,
    "start_time": "2023-09-13T17:50:39.694Z"
   },
   {
    "duration": 9,
    "start_time": "2023-09-13T17:50:39.709Z"
   },
   {
    "duration": 1120,
    "start_time": "2023-09-13T17:50:39.720Z"
   },
   {
    "duration": 104,
    "start_time": "2023-09-13T17:50:40.909Z"
   },
   {
    "duration": 183771,
    "start_time": "2023-09-13T17:50:41.018Z"
   },
   {
    "duration": 282,
    "start_time": "2023-09-13T17:53:44.801Z"
   },
   {
    "duration": 1639,
    "start_time": "2023-09-13T18:01:29.634Z"
   },
   {
    "duration": 995,
    "start_time": "2023-09-13T18:01:31.275Z"
   },
   {
    "duration": 19,
    "start_time": "2023-09-13T18:01:32.272Z"
   },
   {
    "duration": 182,
    "start_time": "2023-09-13T18:01:32.303Z"
   },
   {
    "duration": 4,
    "start_time": "2023-09-13T18:01:32.487Z"
   },
   {
    "duration": 544,
    "start_time": "2023-09-13T18:01:32.501Z"
   },
   {
    "duration": 32,
    "start_time": "2023-09-13T18:01:33.047Z"
   },
   {
    "duration": 611,
    "start_time": "2023-09-13T18:01:33.081Z"
   },
   {
    "duration": 43,
    "start_time": "2023-09-13T18:01:33.694Z"
   },
   {
    "duration": 114,
    "start_time": "2023-09-13T18:01:33.739Z"
   },
   {
    "duration": 23,
    "start_time": "2023-09-13T18:01:33.854Z"
   },
   {
    "duration": 91,
    "start_time": "2023-09-13T18:01:33.878Z"
   },
   {
    "duration": 286,
    "start_time": "2023-09-13T18:01:33.971Z"
   },
   {
    "duration": 48,
    "start_time": "2023-09-13T18:01:34.259Z"
   },
   {
    "duration": 46,
    "start_time": "2023-09-13T18:01:34.310Z"
   },
   {
    "duration": 56,
    "start_time": "2023-09-13T18:01:34.358Z"
   },
   {
    "duration": 42,
    "start_time": "2023-09-13T18:01:34.415Z"
   },
   {
    "duration": 46,
    "start_time": "2023-09-13T18:01:34.459Z"
   },
   {
    "duration": 64,
    "start_time": "2023-09-13T18:01:34.507Z"
   },
   {
    "duration": 43,
    "start_time": "2023-09-13T18:01:34.573Z"
   },
   {
    "duration": 150,
    "start_time": "2023-09-13T18:01:34.618Z"
   },
   {
    "duration": 140,
    "start_time": "2023-09-13T18:01:34.770Z"
   },
   {
    "duration": 116,
    "start_time": "2023-09-13T18:01:34.912Z"
   },
   {
    "duration": 1603,
    "start_time": "2023-09-13T18:01:35.030Z"
   },
   {
    "duration": 1668,
    "start_time": "2023-09-13T18:01:36.635Z"
   },
   {
    "duration": 441,
    "start_time": "2023-09-13T18:01:38.305Z"
   },
   {
    "duration": 83,
    "start_time": "2023-09-13T18:01:38.748Z"
   },
   {
    "duration": 391,
    "start_time": "2023-09-13T18:01:38.836Z"
   },
   {
    "duration": 464,
    "start_time": "2023-09-13T18:01:39.228Z"
   },
   {
    "duration": 13,
    "start_time": "2023-09-13T18:01:39.694Z"
   },
   {
    "duration": 30,
    "start_time": "2023-09-13T18:01:39.709Z"
   },
   {
    "duration": 470,
    "start_time": "2023-09-13T18:01:39.741Z"
   },
   {
    "duration": 414,
    "start_time": "2023-09-13T18:01:40.213Z"
   },
   {
    "duration": 316,
    "start_time": "2023-09-13T18:01:40.628Z"
   },
   {
    "duration": 452,
    "start_time": "2023-09-13T18:01:40.946Z"
   },
   {
    "duration": 26,
    "start_time": "2023-09-13T18:01:41.401Z"
   },
   {
    "duration": 305,
    "start_time": "2023-09-13T18:01:41.429Z"
   },
   {
    "duration": 527,
    "start_time": "2023-09-13T18:01:41.736Z"
   },
   {
    "duration": 460,
    "start_time": "2023-09-13T18:01:42.265Z"
   },
   {
    "duration": 251,
    "start_time": "2023-09-13T18:01:42.727Z"
   },
   {
    "duration": 91,
    "start_time": "2023-09-13T18:01:42.980Z"
   },
   {
    "duration": 142,
    "start_time": "2023-09-13T18:01:43.073Z"
   },
   {
    "duration": 154,
    "start_time": "2023-09-13T18:01:43.217Z"
   },
   {
    "duration": 4,
    "start_time": "2023-09-13T18:01:43.373Z"
   },
   {
    "duration": 40,
    "start_time": "2023-09-13T18:01:43.379Z"
   },
   {
    "duration": 61,
    "start_time": "2023-09-13T18:01:43.421Z"
   },
   {
    "duration": 38,
    "start_time": "2023-09-13T18:01:43.484Z"
   },
   {
    "duration": 13,
    "start_time": "2023-09-13T18:01:43.524Z"
   },
   {
    "duration": 69,
    "start_time": "2023-09-13T18:01:43.539Z"
   },
   {
    "duration": 874,
    "start_time": "2023-09-13T18:01:43.609Z"
   },
   {
    "duration": 3,
    "start_time": "2023-09-13T18:01:44.485Z"
   },
   {
    "duration": 549,
    "start_time": "2023-09-13T18:01:44.490Z"
   },
   {
    "duration": 69,
    "start_time": "2023-09-13T18:01:45.041Z"
   },
   {
    "duration": 2629,
    "start_time": "2023-09-13T18:01:45.112Z"
   },
   {
    "duration": 1523,
    "start_time": "2023-09-13T18:01:47.742Z"
   },
   {
    "duration": 4,
    "start_time": "2023-09-13T18:01:49.267Z"
   },
   {
    "duration": 7,
    "start_time": "2023-09-13T18:01:49.273Z"
   },
   {
    "duration": 20,
    "start_time": "2023-09-13T18:01:49.282Z"
   },
   {
    "duration": 7,
    "start_time": "2023-09-13T18:01:49.303Z"
   },
   {
    "duration": 1121,
    "start_time": "2023-09-13T18:01:49.312Z"
   },
   {
    "duration": 103,
    "start_time": "2023-09-13T18:01:50.503Z"
   },
   {
    "duration": 168568,
    "start_time": "2023-09-13T18:01:50.609Z"
   },
   {
    "duration": 207,
    "start_time": "2023-09-13T18:04:39.179Z"
   },
   {
    "duration": 387628,
    "start_time": "2023-09-13T18:04:39.389Z"
   },
   {
    "duration": 12139,
    "start_time": "2023-09-13T18:11:07.019Z"
   },
   {
    "duration": 161,
    "start_time": "2023-09-13T18:11:19.160Z"
   },
   {
    "duration": 98,
    "start_time": "2023-09-13T18:11:19.323Z"
   },
   {
    "duration": 12,
    "start_time": "2023-09-13T18:11:19.423Z"
   },
   {
    "duration": 1895,
    "start_time": "2023-09-13T18:13:56.286Z"
   },
   {
    "duration": 922,
    "start_time": "2023-09-13T18:13:58.183Z"
   },
   {
    "duration": 17,
    "start_time": "2023-09-13T18:13:59.107Z"
   },
   {
    "duration": 185,
    "start_time": "2023-09-13T18:13:59.126Z"
   },
   {
    "duration": 3,
    "start_time": "2023-09-13T18:13:59.312Z"
   },
   {
    "duration": 547,
    "start_time": "2023-09-13T18:13:59.316Z"
   },
   {
    "duration": 37,
    "start_time": "2023-09-13T18:13:59.865Z"
   },
   {
    "duration": 639,
    "start_time": "2023-09-13T18:13:59.903Z"
   },
   {
    "duration": 41,
    "start_time": "2023-09-13T18:14:00.544Z"
   },
   {
    "duration": 160,
    "start_time": "2023-09-13T18:14:00.587Z"
   },
   {
    "duration": 111,
    "start_time": "2023-09-13T18:14:00.749Z"
   },
   {
    "duration": 296,
    "start_time": "2023-09-13T18:14:00.862Z"
   },
   {
    "duration": 264,
    "start_time": "2023-09-13T18:14:01.159Z"
   },
   {
    "duration": 37,
    "start_time": "2023-09-13T18:14:01.425Z"
   },
   {
    "duration": 70,
    "start_time": "2023-09-13T18:14:01.463Z"
   },
   {
    "duration": 129,
    "start_time": "2023-09-13T18:14:01.534Z"
   },
   {
    "duration": 62,
    "start_time": "2023-09-13T18:14:01.664Z"
   },
   {
    "duration": 66,
    "start_time": "2023-09-13T18:14:01.727Z"
   },
   {
    "duration": 85,
    "start_time": "2023-09-13T18:14:01.795Z"
   },
   {
    "duration": 81,
    "start_time": "2023-09-13T18:14:01.882Z"
   },
   {
    "duration": 284,
    "start_time": "2023-09-13T18:14:01.965Z"
   },
   {
    "duration": 110,
    "start_time": "2023-09-13T18:14:02.251Z"
   },
   {
    "duration": 133,
    "start_time": "2023-09-13T18:14:02.363Z"
   },
   {
    "duration": 1582,
    "start_time": "2023-09-13T18:14:02.498Z"
   },
   {
    "duration": 1632,
    "start_time": "2023-09-13T18:14:04.081Z"
   },
   {
    "duration": 413,
    "start_time": "2023-09-13T18:14:05.715Z"
   },
   {
    "duration": 77,
    "start_time": "2023-09-13T18:14:06.130Z"
   },
   {
    "duration": 380,
    "start_time": "2023-09-13T18:14:06.211Z"
   },
   {
    "duration": 446,
    "start_time": "2023-09-13T18:14:06.593Z"
   },
   {
    "duration": 6,
    "start_time": "2023-09-13T18:14:07.041Z"
   },
   {
    "duration": 43,
    "start_time": "2023-09-13T18:14:07.048Z"
   },
   {
    "duration": 431,
    "start_time": "2023-09-13T18:14:07.092Z"
   },
   {
    "duration": 418,
    "start_time": "2023-09-13T18:14:07.525Z"
   },
   {
    "duration": 310,
    "start_time": "2023-09-13T18:14:07.945Z"
   },
   {
    "duration": 467,
    "start_time": "2023-09-13T18:14:08.257Z"
   },
   {
    "duration": 27,
    "start_time": "2023-09-13T18:14:08.726Z"
   },
   {
    "duration": 300,
    "start_time": "2023-09-13T18:14:08.755Z"
   },
   {
    "duration": 534,
    "start_time": "2023-09-13T18:14:09.057Z"
   },
   {
    "duration": 458,
    "start_time": "2023-09-13T18:14:09.593Z"
   },
   {
    "duration": 241,
    "start_time": "2023-09-13T18:14:10.052Z"
   },
   {
    "duration": 95,
    "start_time": "2023-09-13T18:14:10.295Z"
   },
   {
    "duration": 147,
    "start_time": "2023-09-13T18:14:10.401Z"
   },
   {
    "duration": 152,
    "start_time": "2023-09-13T18:14:10.550Z"
   },
   {
    "duration": 3,
    "start_time": "2023-09-13T18:14:10.704Z"
   },
   {
    "duration": 29,
    "start_time": "2023-09-13T18:14:10.709Z"
   },
   {
    "duration": 68,
    "start_time": "2023-09-13T18:14:10.740Z"
   },
   {
    "duration": 32,
    "start_time": "2023-09-13T18:14:10.811Z"
   },
   {
    "duration": 15,
    "start_time": "2023-09-13T18:14:10.845Z"
   },
   {
    "duration": 82,
    "start_time": "2023-09-13T18:14:10.863Z"
   },
   {
    "duration": 898,
    "start_time": "2023-09-13T18:14:10.947Z"
   },
   {
    "duration": 2,
    "start_time": "2023-09-13T18:14:11.847Z"
   },
   {
    "duration": 575,
    "start_time": "2023-09-13T18:14:11.851Z"
   },
   {
    "duration": 76,
    "start_time": "2023-09-13T18:14:12.429Z"
   },
   {
    "duration": 2690,
    "start_time": "2023-09-13T18:14:12.507Z"
   },
   {
    "duration": 1499,
    "start_time": "2023-09-13T18:14:15.198Z"
   },
   {
    "duration": 4,
    "start_time": "2023-09-13T18:14:16.700Z"
   },
   {
    "duration": 170,
    "start_time": "2023-09-13T18:14:16.706Z"
   },
   {
    "duration": 210,
    "start_time": "2023-09-13T18:14:16.877Z"
   },
   {
    "duration": 116,
    "start_time": "2023-09-13T18:14:17.088Z"
   },
   {
    "duration": 1196,
    "start_time": "2023-09-13T18:14:17.206Z"
   },
   {
    "duration": 15,
    "start_time": "2023-09-13T18:14:18.404Z"
   },
   {
    "duration": 168690,
    "start_time": "2023-09-13T18:14:18.421Z"
   },
   {
    "duration": 223,
    "start_time": "2023-09-13T18:17:07.113Z"
   },
   {
    "duration": 1608,
    "start_time": "2023-09-13T18:54:56.659Z"
   },
   {
    "duration": 989,
    "start_time": "2023-09-13T18:54:58.270Z"
   },
   {
    "duration": 18,
    "start_time": "2023-09-13T18:54:59.261Z"
   },
   {
    "duration": 181,
    "start_time": "2023-09-13T18:54:59.281Z"
   },
   {
    "duration": 3,
    "start_time": "2023-09-13T18:54:59.464Z"
   },
   {
    "duration": 559,
    "start_time": "2023-09-13T18:54:59.469Z"
   },
   {
    "duration": 33,
    "start_time": "2023-09-13T18:55:00.030Z"
   },
   {
    "duration": 739,
    "start_time": "2023-09-13T18:55:00.065Z"
   },
   {
    "duration": 39,
    "start_time": "2023-09-13T18:55:00.806Z"
   },
   {
    "duration": 250,
    "start_time": "2023-09-13T18:55:00.848Z"
   },
   {
    "duration": 719,
    "start_time": "2023-09-13T18:55:01.101Z"
   },
   {
    "duration": 277,
    "start_time": "2023-09-13T18:55:01.822Z"
   },
   {
    "duration": 290,
    "start_time": "2023-09-13T18:55:02.101Z"
   },
   {
    "duration": 47,
    "start_time": "2023-09-13T18:55:02.394Z"
   },
   {
    "duration": 90,
    "start_time": "2023-09-13T18:55:02.443Z"
   },
   {
    "duration": 71,
    "start_time": "2023-09-13T18:55:02.536Z"
   },
   {
    "duration": 60,
    "start_time": "2023-09-13T18:55:02.609Z"
   },
   {
    "duration": 55,
    "start_time": "2023-09-13T18:55:02.671Z"
   },
   {
    "duration": 296,
    "start_time": "2023-09-13T18:55:02.728Z"
   },
   {
    "duration": 270,
    "start_time": "2023-09-13T18:55:03.026Z"
   },
   {
    "duration": 203,
    "start_time": "2023-09-13T18:55:03.298Z"
   },
   {
    "duration": 144,
    "start_time": "2023-09-13T18:55:03.503Z"
   },
   {
    "duration": 111,
    "start_time": "2023-09-13T18:55:03.649Z"
   },
   {
    "duration": 1726,
    "start_time": "2023-09-13T18:55:03.763Z"
   },
   {
    "duration": 1656,
    "start_time": "2023-09-13T18:55:05.491Z"
   },
   {
    "duration": 401,
    "start_time": "2023-09-13T18:55:07.149Z"
   },
   {
    "duration": 96,
    "start_time": "2023-09-13T18:55:07.551Z"
   },
   {
    "duration": 380,
    "start_time": "2023-09-13T18:55:07.650Z"
   },
   {
    "duration": 434,
    "start_time": "2023-09-13T18:55:08.032Z"
   },
   {
    "duration": 5,
    "start_time": "2023-09-13T18:55:08.467Z"
   },
   {
    "duration": 46,
    "start_time": "2023-09-13T18:55:08.473Z"
   },
   {
    "duration": 462,
    "start_time": "2023-09-13T18:55:08.520Z"
   },
   {
    "duration": 473,
    "start_time": "2023-09-13T18:55:08.984Z"
   },
   {
    "duration": 320,
    "start_time": "2023-09-13T18:55:09.459Z"
   },
   {
    "duration": 456,
    "start_time": "2023-09-13T18:55:09.780Z"
   },
   {
    "duration": 23,
    "start_time": "2023-09-13T18:55:10.238Z"
   },
   {
    "duration": 313,
    "start_time": "2023-09-13T18:55:10.263Z"
   },
   {
    "duration": 557,
    "start_time": "2023-09-13T18:55:10.579Z"
   },
   {
    "duration": 485,
    "start_time": "2023-09-13T18:55:11.138Z"
   },
   {
    "duration": 235,
    "start_time": "2023-09-13T18:55:11.625Z"
   },
   {
    "duration": 87,
    "start_time": "2023-09-13T18:55:11.861Z"
   },
   {
    "duration": 152,
    "start_time": "2023-09-13T18:55:11.950Z"
   },
   {
    "duration": 159,
    "start_time": "2023-09-13T18:55:12.104Z"
   },
   {
    "duration": 3,
    "start_time": "2023-09-13T18:55:12.265Z"
   },
   {
    "duration": 13,
    "start_time": "2023-09-13T18:55:12.270Z"
   },
   {
    "duration": 55,
    "start_time": "2023-09-13T18:55:12.285Z"
   },
   {
    "duration": 26,
    "start_time": "2023-09-13T18:55:12.342Z"
   },
   {
    "duration": 33,
    "start_time": "2023-09-13T18:55:12.370Z"
   },
   {
    "duration": 48,
    "start_time": "2023-09-13T18:55:12.405Z"
   },
   {
    "duration": 848,
    "start_time": "2023-09-13T18:55:12.454Z"
   },
   {
    "duration": 3,
    "start_time": "2023-09-13T18:55:13.304Z"
   },
   {
    "duration": 467,
    "start_time": "2023-09-13T18:55:13.310Z"
   },
   {
    "duration": 70,
    "start_time": "2023-09-13T18:55:13.778Z"
   },
   {
    "duration": 2612,
    "start_time": "2023-09-13T18:55:13.850Z"
   },
   {
    "duration": 1536,
    "start_time": "2023-09-13T18:55:16.465Z"
   },
   {
    "duration": 4,
    "start_time": "2023-09-13T18:55:18.003Z"
   },
   {
    "duration": 11,
    "start_time": "2023-09-13T18:55:18.009Z"
   },
   {
    "duration": 14,
    "start_time": "2023-09-13T18:55:18.023Z"
   },
   {
    "duration": 52,
    "start_time": "2023-09-13T18:55:18.039Z"
   },
   {
    "duration": 1213,
    "start_time": "2023-09-13T18:55:18.093Z"
   },
   {
    "duration": 103,
    "start_time": "2023-09-13T18:55:19.310Z"
   },
   {
    "duration": 1588,
    "start_time": "2023-09-13T18:58:11.743Z"
   },
   {
    "duration": 978,
    "start_time": "2023-09-13T18:58:13.333Z"
   },
   {
    "duration": 25,
    "start_time": "2023-09-13T18:58:14.313Z"
   },
   {
    "duration": 184,
    "start_time": "2023-09-13T18:58:14.341Z"
   },
   {
    "duration": 4,
    "start_time": "2023-09-13T18:58:14.527Z"
   },
   {
    "duration": 632,
    "start_time": "2023-09-13T18:58:14.532Z"
   },
   {
    "duration": 48,
    "start_time": "2023-09-13T18:58:15.166Z"
   },
   {
    "duration": 585,
    "start_time": "2023-09-13T18:58:15.216Z"
   },
   {
    "duration": 40,
    "start_time": "2023-09-13T18:58:15.803Z"
   },
   {
    "duration": 118,
    "start_time": "2023-09-13T18:58:15.846Z"
   },
   {
    "duration": 14,
    "start_time": "2023-09-13T18:58:15.966Z"
   },
   {
    "duration": 65,
    "start_time": "2023-09-13T18:58:16.002Z"
   },
   {
    "duration": 300,
    "start_time": "2023-09-13T18:58:16.069Z"
   },
   {
    "duration": 44,
    "start_time": "2023-09-13T18:58:16.371Z"
   },
   {
    "duration": 45,
    "start_time": "2023-09-13T18:58:16.417Z"
   },
   {
    "duration": 56,
    "start_time": "2023-09-13T18:58:16.464Z"
   },
   {
    "duration": 50,
    "start_time": "2023-09-13T18:58:16.522Z"
   },
   {
    "duration": 53,
    "start_time": "2023-09-13T18:58:16.574Z"
   },
   {
    "duration": 40,
    "start_time": "2023-09-13T18:58:16.628Z"
   },
   {
    "duration": 39,
    "start_time": "2023-09-13T18:58:16.670Z"
   },
   {
    "duration": 137,
    "start_time": "2023-09-13T18:58:16.711Z"
   },
   {
    "duration": 127,
    "start_time": "2023-09-13T18:58:16.850Z"
   },
   {
    "duration": 100,
    "start_time": "2023-09-13T18:58:16.979Z"
   },
   {
    "duration": 1625,
    "start_time": "2023-09-13T18:58:17.080Z"
   },
   {
    "duration": 1600,
    "start_time": "2023-09-13T18:58:18.707Z"
   },
   {
    "duration": 434,
    "start_time": "2023-09-13T18:58:20.309Z"
   },
   {
    "duration": 105,
    "start_time": "2023-09-13T18:58:20.745Z"
   },
   {
    "duration": 395,
    "start_time": "2023-09-13T18:58:20.854Z"
   },
   {
    "duration": 448,
    "start_time": "2023-09-13T18:58:21.251Z"
   },
   {
    "duration": 7,
    "start_time": "2023-09-13T18:58:21.701Z"
   },
   {
    "duration": 31,
    "start_time": "2023-09-13T18:58:21.710Z"
   },
   {
    "duration": 474,
    "start_time": "2023-09-13T18:58:21.742Z"
   },
   {
    "duration": 452,
    "start_time": "2023-09-13T18:58:22.219Z"
   },
   {
    "duration": 317,
    "start_time": "2023-09-13T18:58:22.673Z"
   },
   {
    "duration": 467,
    "start_time": "2023-09-13T18:58:22.992Z"
   },
   {
    "duration": 40,
    "start_time": "2023-09-13T18:58:23.461Z"
   },
   {
    "duration": 312,
    "start_time": "2023-09-13T18:58:23.503Z"
   },
   {
    "duration": 572,
    "start_time": "2023-09-13T18:58:23.817Z"
   },
   {
    "duration": 526,
    "start_time": "2023-09-13T18:58:24.391Z"
   },
   {
    "duration": 241,
    "start_time": "2023-09-13T18:58:24.920Z"
   },
   {
    "duration": 90,
    "start_time": "2023-09-13T18:58:25.163Z"
   },
   {
    "duration": 155,
    "start_time": "2023-09-13T18:58:25.255Z"
   },
   {
    "duration": 152,
    "start_time": "2023-09-13T18:58:25.412Z"
   },
   {
    "duration": 4,
    "start_time": "2023-09-13T18:58:25.566Z"
   },
   {
    "duration": 19,
    "start_time": "2023-09-13T18:58:25.571Z"
   },
   {
    "duration": 52,
    "start_time": "2023-09-13T18:58:25.591Z"
   },
   {
    "duration": 26,
    "start_time": "2023-09-13T18:58:25.645Z"
   },
   {
    "duration": 33,
    "start_time": "2023-09-13T18:58:25.673Z"
   },
   {
    "duration": 52,
    "start_time": "2023-09-13T18:58:25.707Z"
   },
   {
    "duration": 932,
    "start_time": "2023-09-13T18:58:25.761Z"
   },
   {
    "duration": 6,
    "start_time": "2023-09-13T18:58:26.695Z"
   },
   {
    "duration": 469,
    "start_time": "2023-09-13T18:58:26.703Z"
   },
   {
    "duration": 74,
    "start_time": "2023-09-13T18:58:27.174Z"
   },
   {
    "duration": 2827,
    "start_time": "2023-09-13T18:58:27.250Z"
   },
   {
    "duration": 1510,
    "start_time": "2023-09-13T18:58:30.079Z"
   },
   {
    "duration": 13,
    "start_time": "2023-09-13T18:58:31.591Z"
   },
   {
    "duration": 77,
    "start_time": "2023-09-13T18:58:31.606Z"
   },
   {
    "duration": 105,
    "start_time": "2023-09-13T18:58:31.685Z"
   },
   {
    "duration": 82,
    "start_time": "2023-09-13T18:58:31.793Z"
   },
   {
    "duration": 1138,
    "start_time": "2023-09-13T18:58:31.877Z"
   },
   {
    "duration": 99,
    "start_time": "2023-09-13T18:58:33.102Z"
   },
   {
    "duration": 174017,
    "start_time": "2023-09-13T18:58:33.206Z"
   },
   {
    "duration": 1878,
    "start_time": "2023-09-14T03:41:31.915Z"
   },
   {
    "duration": 1499,
    "start_time": "2023-09-14T03:41:33.795Z"
   },
   {
    "duration": 28,
    "start_time": "2023-09-14T03:41:35.295Z"
   },
   {
    "duration": 167,
    "start_time": "2023-09-14T03:41:35.329Z"
   },
   {
    "duration": 8,
    "start_time": "2023-09-14T03:41:35.498Z"
   },
   {
    "duration": 546,
    "start_time": "2023-09-14T03:41:35.514Z"
   },
   {
    "duration": 30,
    "start_time": "2023-09-14T03:41:36.062Z"
   },
   {
    "duration": 578,
    "start_time": "2023-09-14T03:41:36.105Z"
   },
   {
    "duration": 48,
    "start_time": "2023-09-14T03:41:36.684Z"
   },
   {
    "duration": 128,
    "start_time": "2023-09-14T03:41:36.735Z"
   },
   {
    "duration": 12,
    "start_time": "2023-09-14T03:41:36.865Z"
   },
   {
    "duration": 81,
    "start_time": "2023-09-14T03:41:36.879Z"
   },
   {
    "duration": 296,
    "start_time": "2023-09-14T03:41:36.962Z"
   },
   {
    "duration": 68,
    "start_time": "2023-09-14T03:41:37.261Z"
   },
   {
    "duration": 41,
    "start_time": "2023-09-14T03:41:37.332Z"
   },
   {
    "duration": 58,
    "start_time": "2023-09-14T03:41:37.375Z"
   },
   {
    "duration": 39,
    "start_time": "2023-09-14T03:41:37.435Z"
   },
   {
    "duration": 66,
    "start_time": "2023-09-14T03:41:37.476Z"
   },
   {
    "duration": 41,
    "start_time": "2023-09-14T03:41:37.543Z"
   },
   {
    "duration": 58,
    "start_time": "2023-09-14T03:41:37.586Z"
   },
   {
    "duration": 154,
    "start_time": "2023-09-14T03:41:37.646Z"
   },
   {
    "duration": 134,
    "start_time": "2023-09-14T03:41:37.811Z"
   },
   {
    "duration": 121,
    "start_time": "2023-09-14T03:41:37.948Z"
   },
   {
    "duration": 1750,
    "start_time": "2023-09-14T03:41:38.070Z"
   },
   {
    "duration": 1910,
    "start_time": "2023-09-14T03:41:39.822Z"
   },
   {
    "duration": 462,
    "start_time": "2023-09-14T03:41:41.734Z"
   },
   {
    "duration": 73,
    "start_time": "2023-09-14T03:41:42.198Z"
   },
   {
    "duration": 493,
    "start_time": "2023-09-14T03:41:42.277Z"
   },
   {
    "duration": 534,
    "start_time": "2023-09-14T03:41:42.772Z"
   },
   {
    "duration": 19,
    "start_time": "2023-09-14T03:41:43.308Z"
   },
   {
    "duration": 25,
    "start_time": "2023-09-14T03:41:43.332Z"
   },
   {
    "duration": 500,
    "start_time": "2023-09-14T03:41:43.359Z"
   },
   {
    "duration": 488,
    "start_time": "2023-09-14T03:41:43.861Z"
   },
   {
    "duration": 404,
    "start_time": "2023-09-14T03:41:44.351Z"
   },
   {
    "duration": 561,
    "start_time": "2023-09-14T03:41:44.757Z"
   },
   {
    "duration": 23,
    "start_time": "2023-09-14T03:41:45.326Z"
   },
   {
    "duration": 410,
    "start_time": "2023-09-14T03:41:45.351Z"
   },
   {
    "duration": 627,
    "start_time": "2023-09-14T03:41:45.762Z"
   },
   {
    "duration": 555,
    "start_time": "2023-09-14T03:41:46.392Z"
   },
   {
    "duration": 245,
    "start_time": "2023-09-14T03:41:46.949Z"
   },
   {
    "duration": 107,
    "start_time": "2023-09-14T03:41:47.201Z"
   },
   {
    "duration": 169,
    "start_time": "2023-09-14T03:41:47.310Z"
   },
   {
    "duration": 207,
    "start_time": "2023-09-14T03:41:47.481Z"
   },
   {
    "duration": 4,
    "start_time": "2023-09-14T03:41:47.690Z"
   },
   {
    "duration": 25,
    "start_time": "2023-09-14T03:41:47.705Z"
   },
   {
    "duration": 108,
    "start_time": "2023-09-14T03:41:47.733Z"
   },
   {
    "duration": 33,
    "start_time": "2023-09-14T03:41:47.843Z"
   },
   {
    "duration": 24,
    "start_time": "2023-09-14T03:41:47.879Z"
   },
   {
    "duration": 74,
    "start_time": "2023-09-14T03:41:47.912Z"
   },
   {
    "duration": 989,
    "start_time": "2023-09-14T03:41:47.988Z"
   },
   {
    "duration": 3,
    "start_time": "2023-09-14T03:41:48.980Z"
   },
   {
    "duration": 622,
    "start_time": "2023-09-14T03:41:48.985Z"
   },
   {
    "duration": 74,
    "start_time": "2023-09-14T03:41:49.611Z"
   },
   {
    "duration": 3678,
    "start_time": "2023-09-14T03:41:49.687Z"
   },
   {
    "duration": 1752,
    "start_time": "2023-09-14T03:41:53.367Z"
   },
   {
    "duration": 9,
    "start_time": "2023-09-14T03:41:55.121Z"
   },
   {
    "duration": 8,
    "start_time": "2023-09-14T03:41:55.132Z"
   },
   {
    "duration": 6,
    "start_time": "2023-09-14T03:41:55.142Z"
   },
   {
    "duration": 5,
    "start_time": "2023-09-14T03:41:55.149Z"
   },
   {
    "duration": 1156,
    "start_time": "2023-09-14T03:41:55.156Z"
   },
   {
    "duration": 104,
    "start_time": "2023-09-14T03:41:56.314Z"
   },
   {
    "duration": 185106,
    "start_time": "2023-09-14T03:41:56.423Z"
   },
   {
    "duration": 1724,
    "start_time": "2023-09-14T16:45:40.264Z"
   },
   {
    "duration": 1110,
    "start_time": "2023-09-14T16:45:41.990Z"
   },
   {
    "duration": 15,
    "start_time": "2023-09-14T16:45:43.102Z"
   },
   {
    "duration": 132,
    "start_time": "2023-09-14T16:45:43.118Z"
   },
   {
    "duration": 3,
    "start_time": "2023-09-14T16:45:43.253Z"
   },
   {
    "duration": 457,
    "start_time": "2023-09-14T16:45:43.257Z"
   },
   {
    "duration": 37,
    "start_time": "2023-09-14T16:45:43.716Z"
   },
   {
    "duration": 501,
    "start_time": "2023-09-14T16:45:43.755Z"
   },
   {
    "duration": 37,
    "start_time": "2023-09-14T16:45:44.257Z"
   },
   {
    "duration": 104,
    "start_time": "2023-09-14T16:45:44.296Z"
   },
   {
    "duration": 11,
    "start_time": "2023-09-14T16:45:44.402Z"
   },
   {
    "duration": 78,
    "start_time": "2023-09-14T16:45:44.414Z"
   },
   {
    "duration": 252,
    "start_time": "2023-09-14T16:45:44.494Z"
   },
   {
    "duration": 37,
    "start_time": "2023-09-14T16:45:44.750Z"
   },
   {
    "duration": 55,
    "start_time": "2023-09-14T16:45:44.788Z"
   },
   {
    "duration": 37,
    "start_time": "2023-09-14T16:45:44.845Z"
   },
   {
    "duration": 36,
    "start_time": "2023-09-14T16:45:44.884Z"
   },
   {
    "duration": 45,
    "start_time": "2023-09-14T16:45:44.922Z"
   },
   {
    "duration": 54,
    "start_time": "2023-09-14T16:45:44.968Z"
   },
   {
    "duration": 103,
    "start_time": "2023-09-14T16:45:45.024Z"
   },
   {
    "duration": 141,
    "start_time": "2023-09-14T16:45:45.129Z"
   },
   {
    "duration": 96,
    "start_time": "2023-09-14T16:45:45.272Z"
   },
   {
    "duration": 97,
    "start_time": "2023-09-14T16:45:45.370Z"
   },
   {
    "duration": 1387,
    "start_time": "2023-09-14T16:45:45.468Z"
   },
   {
    "duration": 1276,
    "start_time": "2023-09-14T16:45:46.857Z"
   },
   {
    "duration": 355,
    "start_time": "2023-09-14T16:45:48.134Z"
   },
   {
    "duration": 69,
    "start_time": "2023-09-14T16:45:48.490Z"
   },
   {
    "duration": 319,
    "start_time": "2023-09-14T16:45:48.560Z"
   },
   {
    "duration": 381,
    "start_time": "2023-09-14T16:45:48.881Z"
   },
   {
    "duration": 5,
    "start_time": "2023-09-14T16:45:49.263Z"
   },
   {
    "duration": 26,
    "start_time": "2023-09-14T16:45:49.270Z"
   },
   {
    "duration": 360,
    "start_time": "2023-09-14T16:45:49.297Z"
   },
   {
    "duration": 338,
    "start_time": "2023-09-14T16:45:49.659Z"
   },
   {
    "duration": 252,
    "start_time": "2023-09-14T16:45:49.999Z"
   },
   {
    "duration": 347,
    "start_time": "2023-09-14T16:45:50.253Z"
   },
   {
    "duration": 19,
    "start_time": "2023-09-14T16:45:50.602Z"
   },
   {
    "duration": 267,
    "start_time": "2023-09-14T16:45:50.623Z"
   },
   {
    "duration": 447,
    "start_time": "2023-09-14T16:45:50.891Z"
   },
   {
    "duration": 364,
    "start_time": "2023-09-14T16:45:51.340Z"
   },
   {
    "duration": 188,
    "start_time": "2023-09-14T16:45:51.705Z"
   },
   {
    "duration": 74,
    "start_time": "2023-09-14T16:45:51.896Z"
   },
   {
    "duration": 124,
    "start_time": "2023-09-14T16:45:51.972Z"
   },
   {
    "duration": 131,
    "start_time": "2023-09-14T16:45:52.098Z"
   },
   {
    "duration": 3,
    "start_time": "2023-09-14T16:45:52.230Z"
   },
   {
    "duration": 16,
    "start_time": "2023-09-14T16:45:52.234Z"
   },
   {
    "duration": 67,
    "start_time": "2023-09-14T16:45:52.252Z"
   },
   {
    "duration": 22,
    "start_time": "2023-09-14T16:45:52.320Z"
   },
   {
    "duration": 30,
    "start_time": "2023-09-14T16:45:52.344Z"
   },
   {
    "duration": 46,
    "start_time": "2023-09-14T16:45:52.375Z"
   },
   {
    "duration": 713,
    "start_time": "2023-09-14T16:45:52.422Z"
   },
   {
    "duration": 2,
    "start_time": "2023-09-14T16:45:53.137Z"
   },
   {
    "duration": 402,
    "start_time": "2023-09-14T16:45:53.141Z"
   },
   {
    "duration": 54,
    "start_time": "2023-09-14T16:45:53.544Z"
   },
   {
    "duration": 3323,
    "start_time": "2023-09-14T16:45:53.599Z"
   },
   {
    "duration": 1219,
    "start_time": "2023-09-14T16:45:56.924Z"
   },
   {
    "duration": 5,
    "start_time": "2023-09-14T16:45:58.145Z"
   },
   {
    "duration": 5,
    "start_time": "2023-09-14T16:45:58.151Z"
   },
   {
    "duration": 10,
    "start_time": "2023-09-14T16:45:58.158Z"
   },
   {
    "duration": 12,
    "start_time": "2023-09-14T16:45:58.169Z"
   },
   {
    "duration": 995,
    "start_time": "2023-09-14T16:45:58.182Z"
   },
   {
    "duration": 101,
    "start_time": "2023-09-14T16:45:59.252Z"
   },
   {
    "duration": 150715,
    "start_time": "2023-09-14T16:45:59.356Z"
   },
   {
    "duration": 905589,
    "start_time": "2023-09-14T16:48:30.072Z"
   },
   {
    "duration": 10289,
    "start_time": "2023-09-14T17:03:35.662Z"
   },
   {
    "duration": 292,
    "start_time": "2023-09-14T17:03:45.953Z"
   },
   {
    "duration": 248,
    "start_time": "2023-09-14T17:03:46.246Z"
   },
   {
    "duration": 10,
    "start_time": "2023-09-14T17:03:46.495Z"
   },
   {
    "duration": 169,
    "start_time": "2023-09-14T17:18:48.492Z"
   },
   {
    "duration": 3,
    "start_time": "2023-09-14T17:19:28.589Z"
   },
   {
    "duration": 158,
    "start_time": "2023-09-14T17:21:45.502Z"
   },
   {
    "duration": 2380,
    "start_time": "2023-09-14T17:26:18.842Z"
   },
   {
    "duration": 505,
    "start_time": "2023-09-14T17:32:12.180Z"
   },
   {
    "duration": 4,
    "start_time": "2023-09-14T17:32:13.014Z"
   },
   {
    "duration": 126903,
    "start_time": "2023-09-14T17:32:19.626Z"
   },
   {
    "duration": 2160,
    "start_time": "2023-09-14T17:35:35.391Z"
   },
   {
    "duration": 429,
    "start_time": "2023-09-14T17:36:54.401Z"
   },
   {
    "duration": 3,
    "start_time": "2023-09-14T17:36:56.625Z"
   },
   {
    "duration": 127291,
    "start_time": "2023-09-14T17:37:04.327Z"
   },
   {
    "duration": 2237,
    "start_time": "2023-09-14T17:39:45.210Z"
   },
   {
    "duration": 9,
    "start_time": "2023-09-14T17:40:24.146Z"
   },
   {
    "duration": 249,
    "start_time": "2023-09-14T17:44:50.436Z"
   },
   {
    "duration": 4,
    "start_time": "2023-09-14T17:44:53.015Z"
   },
   {
    "duration": 124696,
    "start_time": "2023-09-14T17:45:00.218Z"
   },
   {
    "duration": 124771,
    "start_time": "2023-09-14T17:47:48.771Z"
   },
   {
    "duration": 124606,
    "start_time": "2023-09-14T17:52:14.453Z"
   },
   {
    "duration": 75,
    "start_time": "2023-09-14T17:57:27.961Z"
   },
   {
    "duration": 126323,
    "start_time": "2023-09-14T17:57:40.945Z"
   },
   {
    "duration": 2481,
    "start_time": "2023-09-14T18:04:57.449Z"
   },
   {
    "duration": 2456,
    "start_time": "2023-09-14T18:06:53.390Z"
   },
   {
    "duration": 2364,
    "start_time": "2023-09-14T18:07:19.806Z"
   },
   {
    "duration": 1380,
    "start_time": "2023-09-14T18:08:50.786Z"
   },
   {
    "duration": 801,
    "start_time": "2023-09-14T18:08:52.168Z"
   },
   {
    "duration": 15,
    "start_time": "2023-09-14T18:08:52.970Z"
   },
   {
    "duration": 139,
    "start_time": "2023-09-14T18:08:52.987Z"
   },
   {
    "duration": 3,
    "start_time": "2023-09-14T18:08:53.128Z"
   },
   {
    "duration": 445,
    "start_time": "2023-09-14T18:08:53.132Z"
   },
   {
    "duration": 26,
    "start_time": "2023-09-14T18:08:53.579Z"
   },
   {
    "duration": 487,
    "start_time": "2023-09-14T18:08:53.607Z"
   },
   {
    "duration": 32,
    "start_time": "2023-09-14T18:08:54.096Z"
   },
   {
    "duration": 122,
    "start_time": "2023-09-14T18:08:54.130Z"
   },
   {
    "duration": 12,
    "start_time": "2023-09-14T18:08:54.255Z"
   },
   {
    "duration": 56,
    "start_time": "2023-09-14T18:08:54.268Z"
   },
   {
    "duration": 262,
    "start_time": "2023-09-14T18:08:54.325Z"
   },
   {
    "duration": 34,
    "start_time": "2023-09-14T18:08:54.589Z"
   },
   {
    "duration": 52,
    "start_time": "2023-09-14T18:08:54.625Z"
   },
   {
    "duration": 34,
    "start_time": "2023-09-14T18:08:54.679Z"
   },
   {
    "duration": 44,
    "start_time": "2023-09-14T18:08:54.714Z"
   },
   {
    "duration": 33,
    "start_time": "2023-09-14T18:08:54.760Z"
   },
   {
    "duration": 50,
    "start_time": "2023-09-14T18:08:54.794Z"
   },
   {
    "duration": 34,
    "start_time": "2023-09-14T18:08:54.845Z"
   },
   {
    "duration": 156,
    "start_time": "2023-09-14T18:08:54.881Z"
   },
   {
    "duration": 89,
    "start_time": "2023-09-14T18:08:55.038Z"
   },
   {
    "duration": 100,
    "start_time": "2023-09-14T18:08:55.128Z"
   },
   {
    "duration": 1450,
    "start_time": "2023-09-14T18:08:55.230Z"
   },
   {
    "duration": 1351,
    "start_time": "2023-09-14T18:08:56.681Z"
   },
   {
    "duration": 346,
    "start_time": "2023-09-14T18:08:58.034Z"
   },
   {
    "duration": 71,
    "start_time": "2023-09-14T18:08:58.382Z"
   },
   {
    "duration": 323,
    "start_time": "2023-09-14T18:08:58.455Z"
   },
   {
    "duration": 403,
    "start_time": "2023-09-14T18:08:58.779Z"
   },
   {
    "duration": 6,
    "start_time": "2023-09-14T18:08:59.184Z"
   },
   {
    "duration": 122,
    "start_time": "2023-09-14T18:08:59.191Z"
   },
   {
    "duration": 331,
    "start_time": "2023-09-14T18:08:59.315Z"
   },
   {
    "duration": 356,
    "start_time": "2023-09-14T18:08:59.650Z"
   },
   {
    "duration": 266,
    "start_time": "2023-09-14T18:09:00.008Z"
   },
   {
    "duration": 421,
    "start_time": "2023-09-14T18:09:00.276Z"
   },
   {
    "duration": 25,
    "start_time": "2023-09-14T18:09:00.699Z"
   },
   {
    "duration": 294,
    "start_time": "2023-09-14T18:09:00.726Z"
   },
   {
    "duration": 471,
    "start_time": "2023-09-14T18:09:01.022Z"
   },
   {
    "duration": 404,
    "start_time": "2023-09-14T18:09:01.495Z"
   },
   {
    "duration": 213,
    "start_time": "2023-09-14T18:09:01.900Z"
   },
   {
    "duration": 96,
    "start_time": "2023-09-14T18:09:02.117Z"
   },
   {
    "duration": 242,
    "start_time": "2023-09-14T18:09:02.215Z"
   },
   {
    "duration": 140,
    "start_time": "2023-09-14T18:09:02.459Z"
   },
   {
    "duration": 4,
    "start_time": "2023-09-14T18:09:02.600Z"
   },
   {
    "duration": 101,
    "start_time": "2023-09-14T18:09:02.606Z"
   },
   {
    "duration": 83,
    "start_time": "2023-09-14T18:09:02.710Z"
   },
   {
    "duration": 29,
    "start_time": "2023-09-14T18:09:02.795Z"
   },
   {
    "duration": 11,
    "start_time": "2023-09-14T18:09:02.826Z"
   },
   {
    "duration": 65,
    "start_time": "2023-09-14T18:09:02.838Z"
   },
   {
    "duration": 841,
    "start_time": "2023-09-14T18:09:02.905Z"
   },
   {
    "duration": 483,
    "start_time": "2023-09-14T18:09:03.747Z"
   },
   {
    "duration": 2373,
    "start_time": "2023-09-14T18:09:04.231Z"
   },
   {
    "duration": 1385,
    "start_time": "2023-09-14T18:09:06.606Z"
   },
   {
    "duration": 3,
    "start_time": "2023-09-14T18:09:07.992Z"
   },
   {
    "duration": 8,
    "start_time": "2023-09-14T18:09:07.997Z"
   },
   {
    "duration": 5,
    "start_time": "2023-09-14T18:09:08.006Z"
   },
   {
    "duration": 11,
    "start_time": "2023-09-14T18:09:08.012Z"
   },
   {
    "duration": 1231,
    "start_time": "2023-09-14T18:09:08.025Z"
   },
   {
    "duration": 97,
    "start_time": "2023-09-14T18:09:09.265Z"
   },
   {
    "duration": 164204,
    "start_time": "2023-09-14T18:09:09.369Z"
   },
   {
    "duration": 1640,
    "start_time": "2023-09-14T19:01:48.581Z"
   },
   {
    "duration": 943,
    "start_time": "2023-09-14T19:01:50.224Z"
   },
   {
    "duration": 16,
    "start_time": "2023-09-14T19:01:51.169Z"
   },
   {
    "duration": 171,
    "start_time": "2023-09-14T19:01:51.187Z"
   },
   {
    "duration": 4,
    "start_time": "2023-09-14T19:01:51.360Z"
   },
   {
    "duration": 511,
    "start_time": "2023-09-14T19:01:51.365Z"
   },
   {
    "duration": 35,
    "start_time": "2023-09-14T19:01:51.878Z"
   },
   {
    "duration": 654,
    "start_time": "2023-09-14T19:01:51.915Z"
   },
   {
    "duration": 42,
    "start_time": "2023-09-14T19:01:52.571Z"
   },
   {
    "duration": 174,
    "start_time": "2023-09-14T19:01:52.615Z"
   },
   {
    "duration": 11,
    "start_time": "2023-09-14T19:01:52.791Z"
   },
   {
    "duration": 69,
    "start_time": "2023-09-14T19:01:52.804Z"
   },
   {
    "duration": 358,
    "start_time": "2023-09-14T19:01:52.874Z"
   },
   {
    "duration": 52,
    "start_time": "2023-09-14T19:01:53.236Z"
   },
   {
    "duration": 94,
    "start_time": "2023-09-14T19:01:53.289Z"
   },
   {
    "duration": 47,
    "start_time": "2023-09-14T19:01:53.385Z"
   },
   {
    "duration": 68,
    "start_time": "2023-09-14T19:01:53.434Z"
   },
   {
    "duration": 73,
    "start_time": "2023-09-14T19:01:53.504Z"
   },
   {
    "duration": 86,
    "start_time": "2023-09-14T19:01:53.580Z"
   },
   {
    "duration": 47,
    "start_time": "2023-09-14T19:01:53.669Z"
   },
   {
    "duration": 205,
    "start_time": "2023-09-14T19:01:53.718Z"
   },
   {
    "duration": 185,
    "start_time": "2023-09-14T19:01:53.925Z"
   },
   {
    "duration": 174,
    "start_time": "2023-09-14T19:01:54.113Z"
   },
   {
    "duration": 2430,
    "start_time": "2023-09-14T19:01:54.290Z"
   },
   {
    "duration": 1419,
    "start_time": "2023-09-14T19:01:56.722Z"
   },
   {
    "duration": 375,
    "start_time": "2023-09-14T19:01:58.142Z"
   },
   {
    "duration": 74,
    "start_time": "2023-09-14T19:01:58.519Z"
   },
   {
    "duration": 413,
    "start_time": "2023-09-14T19:01:58.598Z"
   },
   {
    "duration": 394,
    "start_time": "2023-09-14T19:01:59.013Z"
   },
   {
    "duration": 9,
    "start_time": "2023-09-14T19:01:59.408Z"
   },
   {
    "duration": 46,
    "start_time": "2023-09-14T19:01:59.418Z"
   },
   {
    "duration": 429,
    "start_time": "2023-09-14T19:01:59.466Z"
   },
   {
    "duration": 393,
    "start_time": "2023-09-14T19:01:59.897Z"
   },
   {
    "duration": 353,
    "start_time": "2023-09-14T19:02:00.292Z"
   },
   {
    "duration": 658,
    "start_time": "2023-09-14T19:02:00.648Z"
   },
   {
    "duration": 45,
    "start_time": "2023-09-14T19:02:01.308Z"
   },
   {
    "duration": 386,
    "start_time": "2023-09-14T19:02:01.356Z"
   },
   {
    "duration": 568,
    "start_time": "2023-09-14T19:02:01.744Z"
   },
   {
    "duration": 657,
    "start_time": "2023-09-14T19:02:02.314Z"
   },
   {
    "duration": 292,
    "start_time": "2023-09-14T19:02:02.973Z"
   },
   {
    "duration": 149,
    "start_time": "2023-09-14T19:02:03.270Z"
   },
   {
    "duration": 214,
    "start_time": "2023-09-14T19:02:03.421Z"
   },
   {
    "duration": 185,
    "start_time": "2023-09-14T19:02:03.637Z"
   },
   {
    "duration": 3,
    "start_time": "2023-09-14T19:02:03.824Z"
   },
   {
    "duration": 5,
    "start_time": "2023-09-14T19:02:03.829Z"
   },
   {
    "duration": 72,
    "start_time": "2023-09-14T19:02:03.836Z"
   },
   {
    "duration": 45,
    "start_time": "2023-09-14T19:02:03.910Z"
   },
   {
    "duration": 13,
    "start_time": "2023-09-14T19:02:03.957Z"
   },
   {
    "duration": 59,
    "start_time": "2023-09-14T19:02:03.971Z"
   },
   {
    "duration": 818,
    "start_time": "2023-09-14T19:02:04.031Z"
   },
   {
    "duration": 747,
    "start_time": "2023-09-14T19:02:04.851Z"
   },
   {
    "duration": 2338,
    "start_time": "2023-09-14T19:02:05.602Z"
   },
   {
    "duration": 1483,
    "start_time": "2023-09-14T19:02:07.943Z"
   },
   {
    "duration": 5,
    "start_time": "2023-09-14T19:02:09.427Z"
   },
   {
    "duration": 16,
    "start_time": "2023-09-14T19:02:09.434Z"
   },
   {
    "duration": 26,
    "start_time": "2023-09-14T19:02:09.451Z"
   },
   {
    "duration": 7,
    "start_time": "2023-09-14T19:02:09.479Z"
   },
   {
    "duration": 1175,
    "start_time": "2023-09-14T19:02:09.488Z"
   },
   {
    "duration": 93,
    "start_time": "2023-09-14T19:02:10.667Z"
   },
   {
    "duration": 206774,
    "start_time": "2023-09-14T19:02:10.765Z"
   },
   {
    "duration": 1685,
    "start_time": "2023-09-14T20:37:39.795Z"
   },
   {
    "duration": 958,
    "start_time": "2023-09-14T20:37:41.482Z"
   },
   {
    "duration": 35,
    "start_time": "2023-09-14T20:37:42.442Z"
   },
   {
    "duration": 166,
    "start_time": "2023-09-14T20:37:42.483Z"
   },
   {
    "duration": 3,
    "start_time": "2023-09-14T20:37:42.650Z"
   },
   {
    "duration": 489,
    "start_time": "2023-09-14T20:37:42.655Z"
   },
   {
    "duration": 39,
    "start_time": "2023-09-14T20:37:43.146Z"
   },
   {
    "duration": 548,
    "start_time": "2023-09-14T20:37:43.186Z"
   },
   {
    "duration": 51,
    "start_time": "2023-09-14T20:37:43.736Z"
   },
   {
    "duration": 127,
    "start_time": "2023-09-14T20:37:43.790Z"
   },
   {
    "duration": 12,
    "start_time": "2023-09-14T20:37:43.919Z"
   },
   {
    "duration": 78,
    "start_time": "2023-09-14T20:37:43.932Z"
   },
   {
    "duration": 311,
    "start_time": "2023-09-14T20:37:44.011Z"
   },
   {
    "duration": 56,
    "start_time": "2023-09-14T20:37:44.323Z"
   },
   {
    "duration": 38,
    "start_time": "2023-09-14T20:37:44.380Z"
   },
   {
    "duration": 72,
    "start_time": "2023-09-14T20:37:44.420Z"
   },
   {
    "duration": 38,
    "start_time": "2023-09-14T20:37:44.494Z"
   },
   {
    "duration": 61,
    "start_time": "2023-09-14T20:37:44.534Z"
   },
   {
    "duration": 71,
    "start_time": "2023-09-14T20:37:44.597Z"
   },
   {
    "duration": 28,
    "start_time": "2023-09-14T20:37:44.673Z"
   },
   {
    "duration": 139,
    "start_time": "2023-09-14T20:37:44.703Z"
   },
   {
    "duration": 124,
    "start_time": "2023-09-14T20:37:44.844Z"
   },
   {
    "duration": 118,
    "start_time": "2023-09-14T20:37:44.972Z"
   },
   {
    "duration": 1561,
    "start_time": "2023-09-14T20:37:45.092Z"
   },
   {
    "duration": 1389,
    "start_time": "2023-09-14T20:37:46.655Z"
   },
   {
    "duration": 384,
    "start_time": "2023-09-14T20:37:48.045Z"
   },
   {
    "duration": 89,
    "start_time": "2023-09-14T20:37:48.430Z"
   },
   {
    "duration": 351,
    "start_time": "2023-09-14T20:37:48.523Z"
   },
   {
    "duration": 396,
    "start_time": "2023-09-14T20:37:48.876Z"
   },
   {
    "duration": 6,
    "start_time": "2023-09-14T20:37:49.274Z"
   },
   {
    "duration": 26,
    "start_time": "2023-09-14T20:37:49.281Z"
   },
   {
    "duration": 394,
    "start_time": "2023-09-14T20:37:49.308Z"
   },
   {
    "duration": 384,
    "start_time": "2023-09-14T20:37:49.704Z"
   },
   {
    "duration": 262,
    "start_time": "2023-09-14T20:37:50.090Z"
   },
   {
    "duration": 385,
    "start_time": "2023-09-14T20:37:50.355Z"
   },
   {
    "duration": 29,
    "start_time": "2023-09-14T20:37:50.741Z"
   },
   {
    "duration": 271,
    "start_time": "2023-09-14T20:37:50.772Z"
   },
   {
    "duration": 465,
    "start_time": "2023-09-14T20:37:51.045Z"
   },
   {
    "duration": 398,
    "start_time": "2023-09-14T20:37:51.512Z"
   },
   {
    "duration": 206,
    "start_time": "2023-09-14T20:37:51.912Z"
   },
   {
    "duration": 84,
    "start_time": "2023-09-14T20:37:52.119Z"
   },
   {
    "duration": 131,
    "start_time": "2023-09-14T20:37:52.205Z"
   },
   {
    "duration": 145,
    "start_time": "2023-09-14T20:37:52.338Z"
   },
   {
    "duration": 3,
    "start_time": "2023-09-14T20:37:52.485Z"
   },
   {
    "duration": 5,
    "start_time": "2023-09-14T20:37:52.490Z"
   },
   {
    "duration": 54,
    "start_time": "2023-09-14T20:37:52.496Z"
   },
   {
    "duration": 27,
    "start_time": "2023-09-14T20:37:52.553Z"
   },
   {
    "duration": 10,
    "start_time": "2023-09-14T20:37:52.582Z"
   },
   {
    "duration": 72,
    "start_time": "2023-09-14T20:37:52.594Z"
   },
   {
    "duration": 751,
    "start_time": "2023-09-14T20:37:52.667Z"
   },
   {
    "duration": 491,
    "start_time": "2023-09-14T20:37:53.419Z"
   },
   {
    "duration": 2336,
    "start_time": "2023-09-14T20:37:53.912Z"
   },
   {
    "duration": 1370,
    "start_time": "2023-09-14T20:37:56.259Z"
   },
   {
    "duration": 3,
    "start_time": "2023-09-14T20:37:57.630Z"
   },
   {
    "duration": 37,
    "start_time": "2023-09-14T20:37:57.635Z"
   },
   {
    "duration": 51,
    "start_time": "2023-09-14T20:37:57.674Z"
   },
   {
    "duration": 32,
    "start_time": "2023-09-14T20:37:57.726Z"
   },
   {
    "duration": 1103,
    "start_time": "2023-09-14T20:37:57.760Z"
   },
   {
    "duration": 99,
    "start_time": "2023-09-14T20:37:58.865Z"
   },
   {
    "duration": 157739,
    "start_time": "2023-09-14T20:37:58.967Z"
   },
   {
    "duration": 1885,
    "start_time": "2023-09-15T02:41:53.499Z"
   },
   {
    "duration": 1445,
    "start_time": "2023-09-15T02:41:55.386Z"
   },
   {
    "duration": 18,
    "start_time": "2023-09-15T02:41:56.832Z"
   },
   {
    "duration": 190,
    "start_time": "2023-09-15T02:41:56.851Z"
   },
   {
    "duration": 4,
    "start_time": "2023-09-15T02:41:57.042Z"
   },
   {
    "duration": 536,
    "start_time": "2023-09-15T02:41:57.047Z"
   },
   {
    "duration": 47,
    "start_time": "2023-09-15T02:41:57.585Z"
   },
   {
    "duration": 576,
    "start_time": "2023-09-15T02:41:57.634Z"
   },
   {
    "duration": 37,
    "start_time": "2023-09-15T02:41:58.216Z"
   },
   {
    "duration": 115,
    "start_time": "2023-09-15T02:41:58.256Z"
   },
   {
    "duration": 14,
    "start_time": "2023-09-15T02:41:58.373Z"
   },
   {
    "duration": 79,
    "start_time": "2023-09-15T02:41:58.389Z"
   },
   {
    "duration": 338,
    "start_time": "2023-09-15T02:41:58.470Z"
   },
   {
    "duration": 46,
    "start_time": "2023-09-15T02:41:58.810Z"
   },
   {
    "duration": 61,
    "start_time": "2023-09-15T02:41:58.859Z"
   },
   {
    "duration": 41,
    "start_time": "2023-09-15T02:41:58.924Z"
   },
   {
    "duration": 57,
    "start_time": "2023-09-15T02:41:58.966Z"
   },
   {
    "duration": 42,
    "start_time": "2023-09-15T02:41:59.029Z"
   },
   {
    "duration": 56,
    "start_time": "2023-09-15T02:41:59.073Z"
   },
   {
    "duration": 26,
    "start_time": "2023-09-15T02:41:59.131Z"
   },
   {
    "duration": 161,
    "start_time": "2023-09-15T02:41:59.159Z"
   },
   {
    "duration": 120,
    "start_time": "2023-09-15T02:41:59.323Z"
   },
   {
    "duration": 119,
    "start_time": "2023-09-15T02:41:59.444Z"
   },
   {
    "duration": 1723,
    "start_time": "2023-09-15T02:41:59.565Z"
   },
   {
    "duration": 1849,
    "start_time": "2023-09-15T02:42:01.289Z"
   },
   {
    "duration": 458,
    "start_time": "2023-09-15T02:42:03.140Z"
   },
   {
    "duration": 75,
    "start_time": "2023-09-15T02:42:03.606Z"
   },
   {
    "duration": 412,
    "start_time": "2023-09-15T02:42:03.685Z"
   },
   {
    "duration": 519,
    "start_time": "2023-09-15T02:42:04.108Z"
   },
   {
    "duration": 14,
    "start_time": "2023-09-15T02:42:04.628Z"
   },
   {
    "duration": 43,
    "start_time": "2023-09-15T02:42:04.644Z"
   },
   {
    "duration": 531,
    "start_time": "2023-09-15T02:42:04.690Z"
   },
   {
    "duration": 464,
    "start_time": "2023-09-15T02:42:05.229Z"
   },
   {
    "duration": 344,
    "start_time": "2023-09-15T02:42:05.695Z"
   },
   {
    "duration": 511,
    "start_time": "2023-09-15T02:42:06.040Z"
   },
   {
    "duration": 28,
    "start_time": "2023-09-15T02:42:06.554Z"
   },
   {
    "duration": 357,
    "start_time": "2023-09-15T02:42:06.584Z"
   },
   {
    "duration": 595,
    "start_time": "2023-09-15T02:42:06.942Z"
   },
   {
    "duration": 500,
    "start_time": "2023-09-15T02:42:07.538Z"
   },
   {
    "duration": 243,
    "start_time": "2023-09-15T02:42:08.039Z"
   },
   {
    "duration": 103,
    "start_time": "2023-09-15T02:42:08.284Z"
   },
   {
    "duration": 190,
    "start_time": "2023-09-15T02:42:08.388Z"
   },
   {
    "duration": 195,
    "start_time": "2023-09-15T02:42:08.580Z"
   },
   {
    "duration": 5,
    "start_time": "2023-09-15T02:42:08.777Z"
   },
   {
    "duration": 50,
    "start_time": "2023-09-15T02:42:08.784Z"
   },
   {
    "duration": 97,
    "start_time": "2023-09-15T02:42:08.835Z"
   },
   {
    "duration": 26,
    "start_time": "2023-09-15T02:42:08.934Z"
   },
   {
    "duration": 12,
    "start_time": "2023-09-15T02:42:08.963Z"
   },
   {
    "duration": 79,
    "start_time": "2023-09-15T02:42:08.977Z"
   },
   {
    "duration": 883,
    "start_time": "2023-09-15T02:42:09.058Z"
   },
   {
    "duration": 587,
    "start_time": "2023-09-15T02:42:09.943Z"
   },
   {
    "duration": 3715,
    "start_time": "2023-09-15T02:42:10.533Z"
   },
   {
    "duration": 1754,
    "start_time": "2023-09-15T02:42:14.250Z"
   },
   {
    "duration": 6,
    "start_time": "2023-09-15T02:42:16.010Z"
   },
   {
    "duration": 67,
    "start_time": "2023-09-15T02:42:16.021Z"
   },
   {
    "duration": 53,
    "start_time": "2023-09-15T02:42:16.090Z"
   },
   {
    "duration": 28,
    "start_time": "2023-09-15T02:42:16.144Z"
   },
   {
    "duration": 1064,
    "start_time": "2023-09-15T02:42:16.174Z"
   },
   {
    "duration": 24,
    "start_time": "2023-09-15T02:42:17.309Z"
   },
   {
    "duration": 184453,
    "start_time": "2023-09-15T02:42:17.411Z"
   },
   {
    "duration": 1654,
    "start_time": "2023-09-15T03:56:04.346Z"
   },
   {
    "duration": 1049,
    "start_time": "2023-09-15T03:56:06.012Z"
   },
   {
    "duration": 17,
    "start_time": "2023-09-15T03:56:07.062Z"
   },
   {
    "duration": 212,
    "start_time": "2023-09-15T03:56:07.081Z"
   },
   {
    "duration": 8,
    "start_time": "2023-09-15T03:56:07.296Z"
   },
   {
    "duration": 564,
    "start_time": "2023-09-15T03:56:07.316Z"
   },
   {
    "duration": 50,
    "start_time": "2023-09-15T03:56:07.881Z"
   },
   {
    "duration": 702,
    "start_time": "2023-09-15T03:56:07.932Z"
   },
   {
    "duration": 41,
    "start_time": "2023-09-15T03:56:08.636Z"
   },
   {
    "duration": 158,
    "start_time": "2023-09-15T03:56:08.679Z"
   },
   {
    "duration": 12,
    "start_time": "2023-09-15T03:56:08.839Z"
   },
   {
    "duration": 92,
    "start_time": "2023-09-15T03:56:08.852Z"
   },
   {
    "duration": 308,
    "start_time": "2023-09-15T03:56:08.945Z"
   },
   {
    "duration": 57,
    "start_time": "2023-09-15T03:56:09.257Z"
   },
   {
    "duration": 41,
    "start_time": "2023-09-15T03:56:09.317Z"
   },
   {
    "duration": 53,
    "start_time": "2023-09-15T03:56:09.359Z"
   },
   {
    "duration": 47,
    "start_time": "2023-09-15T03:56:09.417Z"
   },
   {
    "duration": 64,
    "start_time": "2023-09-15T03:56:09.466Z"
   },
   {
    "duration": 48,
    "start_time": "2023-09-15T03:56:09.531Z"
   },
   {
    "duration": 64,
    "start_time": "2023-09-15T03:56:09.581Z"
   },
   {
    "duration": 150,
    "start_time": "2023-09-15T03:56:09.647Z"
   },
   {
    "duration": 126,
    "start_time": "2023-09-15T03:56:09.799Z"
   },
   {
    "duration": 123,
    "start_time": "2023-09-15T03:56:09.927Z"
   },
   {
    "duration": 1804,
    "start_time": "2023-09-15T03:56:10.051Z"
   },
   {
    "duration": 1781,
    "start_time": "2023-09-15T03:56:11.857Z"
   },
   {
    "duration": 454,
    "start_time": "2023-09-15T03:56:13.640Z"
   },
   {
    "duration": 76,
    "start_time": "2023-09-15T03:56:14.096Z"
   },
   {
    "duration": 467,
    "start_time": "2023-09-15T03:56:14.173Z"
   },
   {
    "duration": 510,
    "start_time": "2023-09-15T03:56:14.643Z"
   },
   {
    "duration": 6,
    "start_time": "2023-09-15T03:56:15.154Z"
   },
   {
    "duration": 119,
    "start_time": "2023-09-15T03:56:15.162Z"
   },
   {
    "duration": 476,
    "start_time": "2023-09-15T03:56:15.283Z"
   },
   {
    "duration": 471,
    "start_time": "2023-09-15T03:56:15.760Z"
   },
   {
    "duration": 346,
    "start_time": "2023-09-15T03:56:16.233Z"
   },
   {
    "duration": 497,
    "start_time": "2023-09-15T03:56:16.581Z"
   },
   {
    "duration": 41,
    "start_time": "2023-09-15T03:56:17.079Z"
   },
   {
    "duration": 319,
    "start_time": "2023-09-15T03:56:17.121Z"
   },
   {
    "duration": 579,
    "start_time": "2023-09-15T03:56:17.442Z"
   },
   {
    "duration": 484,
    "start_time": "2023-09-15T03:56:18.022Z"
   },
   {
    "duration": 278,
    "start_time": "2023-09-15T03:56:18.511Z"
   },
   {
    "duration": 108,
    "start_time": "2023-09-15T03:56:18.793Z"
   },
   {
    "duration": 146,
    "start_time": "2023-09-15T03:56:18.913Z"
   },
   {
    "duration": 168,
    "start_time": "2023-09-15T03:56:19.060Z"
   },
   {
    "duration": 4,
    "start_time": "2023-09-15T03:56:19.230Z"
   },
   {
    "duration": 64,
    "start_time": "2023-09-15T03:56:19.235Z"
   },
   {
    "duration": 54,
    "start_time": "2023-09-15T03:56:19.301Z"
   },
   {
    "duration": 26,
    "start_time": "2023-09-15T03:56:19.357Z"
   },
   {
    "duration": 36,
    "start_time": "2023-09-15T03:56:19.384Z"
   },
   {
    "duration": 52,
    "start_time": "2023-09-15T03:56:19.422Z"
   },
   {
    "duration": 899,
    "start_time": "2023-09-15T03:56:19.476Z"
   },
   {
    "duration": 615,
    "start_time": "2023-09-15T03:56:20.376Z"
   },
   {
    "duration": 2651,
    "start_time": "2023-09-15T03:56:20.992Z"
   },
   {
    "duration": 1795,
    "start_time": "2023-09-15T03:56:23.645Z"
   },
   {
    "duration": 4,
    "start_time": "2023-09-15T03:56:25.442Z"
   },
   {
    "duration": 6,
    "start_time": "2023-09-15T03:56:25.448Z"
   },
   {
    "duration": 9,
    "start_time": "2023-09-15T03:56:25.456Z"
   },
   {
    "duration": 15,
    "start_time": "2023-09-15T03:56:25.466Z"
   },
   {
    "duration": 1147,
    "start_time": "2023-09-15T03:56:25.483Z"
   },
   {
    "duration": 100,
    "start_time": "2023-09-15T03:56:26.703Z"
   },
   {
    "duration": 189120,
    "start_time": "2023-09-15T03:56:26.805Z"
   },
   {
    "duration": 1712,
    "start_time": "2023-09-15T04:14:42.885Z"
   },
   {
    "duration": 1054,
    "start_time": "2023-09-15T04:14:44.599Z"
   },
   {
    "duration": 17,
    "start_time": "2023-09-15T04:14:45.655Z"
   },
   {
    "duration": 204,
    "start_time": "2023-09-15T04:14:45.674Z"
   },
   {
    "duration": 3,
    "start_time": "2023-09-15T04:14:45.880Z"
   },
   {
    "duration": 598,
    "start_time": "2023-09-15T04:14:45.885Z"
   },
   {
    "duration": 50,
    "start_time": "2023-09-15T04:14:46.484Z"
   },
   {
    "duration": 593,
    "start_time": "2023-09-15T04:14:46.536Z"
   },
   {
    "duration": 40,
    "start_time": "2023-09-15T04:14:47.133Z"
   },
   {
    "duration": 128,
    "start_time": "2023-09-15T04:14:47.174Z"
   },
   {
    "duration": 17,
    "start_time": "2023-09-15T04:14:47.313Z"
   },
   {
    "duration": 82,
    "start_time": "2023-09-15T04:14:47.332Z"
   },
   {
    "duration": 309,
    "start_time": "2023-09-15T04:14:47.416Z"
   },
   {
    "duration": 40,
    "start_time": "2023-09-15T04:14:47.730Z"
   },
   {
    "duration": 70,
    "start_time": "2023-09-15T04:14:47.771Z"
   },
   {
    "duration": 39,
    "start_time": "2023-09-15T04:14:47.843Z"
   },
   {
    "duration": 61,
    "start_time": "2023-09-15T04:14:47.883Z"
   },
   {
    "duration": 43,
    "start_time": "2023-09-15T04:14:47.946Z"
   },
   {
    "duration": 72,
    "start_time": "2023-09-15T04:14:47.990Z"
   },
   {
    "duration": 78,
    "start_time": "2023-09-15T04:14:48.064Z"
   },
   {
    "duration": 153,
    "start_time": "2023-09-15T04:14:48.144Z"
   },
   {
    "duration": 144,
    "start_time": "2023-09-15T04:14:48.299Z"
   },
   {
    "duration": 138,
    "start_time": "2023-09-15T04:14:48.445Z"
   },
   {
    "duration": 1860,
    "start_time": "2023-09-15T04:14:48.585Z"
   },
   {
    "duration": 1800,
    "start_time": "2023-09-15T04:14:50.447Z"
   },
   {
    "duration": 497,
    "start_time": "2023-09-15T04:14:52.248Z"
   },
   {
    "duration": 83,
    "start_time": "2023-09-15T04:14:52.747Z"
   },
   {
    "duration": 449,
    "start_time": "2023-09-15T04:14:52.832Z"
   },
   {
    "duration": 551,
    "start_time": "2023-09-15T04:14:53.283Z"
   },
   {
    "duration": 7,
    "start_time": "2023-09-15T04:14:53.836Z"
   },
   {
    "duration": 42,
    "start_time": "2023-09-15T04:14:53.844Z"
   },
   {
    "duration": 508,
    "start_time": "2023-09-15T04:14:53.887Z"
   },
   {
    "duration": 574,
    "start_time": "2023-09-15T04:14:54.397Z"
   },
   {
    "duration": 343,
    "start_time": "2023-09-15T04:14:54.973Z"
   },
   {
    "duration": 511,
    "start_time": "2023-09-15T04:14:55.320Z"
   },
   {
    "duration": 23,
    "start_time": "2023-09-15T04:14:55.832Z"
   },
   {
    "duration": 381,
    "start_time": "2023-09-15T04:14:55.857Z"
   },
   {
    "duration": 599,
    "start_time": "2023-09-15T04:14:56.240Z"
   },
   {
    "duration": 506,
    "start_time": "2023-09-15T04:14:56.841Z"
   },
   {
    "duration": 263,
    "start_time": "2023-09-15T04:14:57.349Z"
   },
   {
    "duration": 107,
    "start_time": "2023-09-15T04:14:57.621Z"
   },
   {
    "duration": 167,
    "start_time": "2023-09-15T04:14:57.731Z"
   },
   {
    "duration": 177,
    "start_time": "2023-09-15T04:14:57.899Z"
   },
   {
    "duration": 3,
    "start_time": "2023-09-15T04:14:58.078Z"
   },
   {
    "duration": 46,
    "start_time": "2023-09-15T04:14:58.083Z"
   },
   {
    "duration": 123,
    "start_time": "2023-09-15T04:14:58.131Z"
   },
   {
    "duration": 26,
    "start_time": "2023-09-15T04:14:58.256Z"
   },
   {
    "duration": 33,
    "start_time": "2023-09-15T04:14:58.283Z"
   },
   {
    "duration": 49,
    "start_time": "2023-09-15T04:14:58.326Z"
   },
   {
    "duration": 935,
    "start_time": "2023-09-15T04:14:58.377Z"
   },
   {
    "duration": 585,
    "start_time": "2023-09-15T04:14:59.317Z"
   },
   {
    "duration": 3011,
    "start_time": "2023-09-15T04:14:59.908Z"
   },
   {
    "duration": 1720,
    "start_time": "2023-09-15T04:15:02.926Z"
   },
   {
    "duration": 7,
    "start_time": "2023-09-15T04:15:04.649Z"
   },
   {
    "duration": 417,
    "start_time": "2023-09-15T04:15:04.658Z"
   },
   {
    "duration": 280,
    "start_time": "2023-09-15T04:15:05.078Z"
   },
   {
    "duration": 46,
    "start_time": "2023-09-15T04:15:05.361Z"
   },
   {
    "duration": 1025,
    "start_time": "2023-09-15T04:15:05.409Z"
   },
   {
    "duration": 88,
    "start_time": "2023-09-15T04:15:06.437Z"
   },
   {
    "duration": 186526,
    "start_time": "2023-09-15T04:15:06.530Z"
   },
   {
    "duration": 1805,
    "start_time": "2023-09-15T15:04:27.236Z"
   },
   {
    "duration": 1207,
    "start_time": "2023-09-15T15:04:29.043Z"
   },
   {
    "duration": 17,
    "start_time": "2023-09-15T15:04:30.252Z"
   },
   {
    "duration": 382,
    "start_time": "2023-09-15T15:04:30.271Z"
   },
   {
    "duration": 140,
    "start_time": "2023-09-15T15:04:30.655Z"
   },
   {
    "duration": 638,
    "start_time": "2023-09-15T15:04:30.798Z"
   },
   {
    "duration": 66,
    "start_time": "2023-09-15T15:04:31.439Z"
   },
   {
    "duration": 857,
    "start_time": "2023-09-15T15:04:31.507Z"
   },
   {
    "duration": 42,
    "start_time": "2023-09-15T15:04:32.366Z"
   },
   {
    "duration": 144,
    "start_time": "2023-09-15T15:04:32.410Z"
   },
   {
    "duration": 19,
    "start_time": "2023-09-15T15:04:32.557Z"
   },
   {
    "duration": 86,
    "start_time": "2023-09-15T15:04:32.578Z"
   },
   {
    "duration": 254,
    "start_time": "2023-09-15T15:04:32.666Z"
   },
   {
    "duration": 39,
    "start_time": "2023-09-15T15:04:32.921Z"
   },
   {
    "duration": 61,
    "start_time": "2023-09-15T15:04:32.962Z"
   },
   {
    "duration": 56,
    "start_time": "2023-09-15T15:04:33.025Z"
   },
   {
    "duration": 58,
    "start_time": "2023-09-15T15:04:33.082Z"
   },
   {
    "duration": 40,
    "start_time": "2023-09-15T15:04:33.142Z"
   },
   {
    "duration": 70,
    "start_time": "2023-09-15T15:04:33.184Z"
   },
   {
    "duration": 67,
    "start_time": "2023-09-15T15:04:33.256Z"
   },
   {
    "duration": 155,
    "start_time": "2023-09-15T15:04:33.325Z"
   },
   {
    "duration": 112,
    "start_time": "2023-09-15T15:04:33.482Z"
   },
   {
    "duration": 110,
    "start_time": "2023-09-15T15:04:33.595Z"
   },
   {
    "duration": 1550,
    "start_time": "2023-09-15T15:04:33.707Z"
   },
   {
    "duration": 1660,
    "start_time": "2023-09-15T15:04:35.259Z"
   },
   {
    "duration": 432,
    "start_time": "2023-09-15T15:04:36.921Z"
   },
   {
    "duration": 72,
    "start_time": "2023-09-15T15:04:37.354Z"
   },
   {
    "duration": 379,
    "start_time": "2023-09-15T15:04:37.430Z"
   },
   {
    "duration": 446,
    "start_time": "2023-09-15T15:04:37.811Z"
   },
   {
    "duration": 7,
    "start_time": "2023-09-15T15:04:38.259Z"
   },
   {
    "duration": 34,
    "start_time": "2023-09-15T15:04:38.268Z"
   },
   {
    "duration": 465,
    "start_time": "2023-09-15T15:04:38.304Z"
   },
   {
    "duration": 416,
    "start_time": "2023-09-15T15:04:38.771Z"
   },
   {
    "duration": 321,
    "start_time": "2023-09-15T15:04:39.189Z"
   },
   {
    "duration": 469,
    "start_time": "2023-09-15T15:04:39.512Z"
   },
   {
    "duration": 29,
    "start_time": "2023-09-15T15:04:39.984Z"
   },
   {
    "duration": 326,
    "start_time": "2023-09-15T15:04:40.015Z"
   },
   {
    "duration": 562,
    "start_time": "2023-09-15T15:04:40.343Z"
   },
   {
    "duration": 475,
    "start_time": "2023-09-15T15:04:40.907Z"
   },
   {
    "duration": 232,
    "start_time": "2023-09-15T15:04:41.384Z"
   },
   {
    "duration": 88,
    "start_time": "2023-09-15T15:04:41.618Z"
   },
   {
    "duration": 142,
    "start_time": "2023-09-15T15:04:41.708Z"
   },
   {
    "duration": 168,
    "start_time": "2023-09-15T15:04:41.852Z"
   },
   {
    "duration": 4,
    "start_time": "2023-09-15T15:04:42.022Z"
   },
   {
    "duration": 27,
    "start_time": "2023-09-15T15:04:42.028Z"
   },
   {
    "duration": 64,
    "start_time": "2023-09-15T15:04:42.057Z"
   },
   {
    "duration": 27,
    "start_time": "2023-09-15T15:04:42.123Z"
   },
   {
    "duration": 29,
    "start_time": "2023-09-15T15:04:42.152Z"
   },
   {
    "duration": 52,
    "start_time": "2023-09-15T15:04:42.183Z"
   },
   {
    "duration": 829,
    "start_time": "2023-09-15T15:04:42.237Z"
   },
   {
    "duration": 530,
    "start_time": "2023-09-15T15:04:43.068Z"
   },
   {
    "duration": 3101,
    "start_time": "2023-09-15T15:04:43.600Z"
   },
   {
    "duration": 1576,
    "start_time": "2023-09-15T15:04:46.703Z"
   },
   {
    "duration": 4,
    "start_time": "2023-09-15T15:04:48.282Z"
   },
   {
    "duration": 37,
    "start_time": "2023-09-15T15:04:48.287Z"
   },
   {
    "duration": 60,
    "start_time": "2023-09-15T15:04:48.325Z"
   },
   {
    "duration": 24,
    "start_time": "2023-09-15T15:04:48.386Z"
   },
   {
    "duration": 1100,
    "start_time": "2023-09-15T15:04:48.411Z"
   },
   {
    "duration": 104,
    "start_time": "2023-09-15T15:04:49.582Z"
   },
   {
    "duration": 168638,
    "start_time": "2023-09-15T15:04:49.688Z"
   },
   {
    "duration": 390860,
    "start_time": "2023-09-15T15:07:38.328Z"
   },
   {
    "duration": 14305,
    "start_time": "2023-09-15T15:14:09.190Z"
   },
   {
    "duration": 144062,
    "start_time": "2023-09-15T15:14:23.497Z"
   },
   {
    "duration": 2760,
    "start_time": "2023-09-15T15:16:47.561Z"
   },
   {
    "duration": 11,
    "start_time": "2023-09-15T15:16:50.322Z"
   },
   {
    "duration": 44,
    "start_time": "2023-09-15T17:56:07.708Z"
   },
   {
    "duration": 1534,
    "start_time": "2023-09-15T17:56:13.587Z"
   },
   {
    "duration": 2733,
    "start_time": "2023-09-15T17:56:15.123Z"
   },
   {
    "duration": 16,
    "start_time": "2023-09-15T17:56:17.857Z"
   },
   {
    "duration": 135,
    "start_time": "2023-09-15T17:56:17.874Z"
   },
   {
    "duration": 3,
    "start_time": "2023-09-15T17:56:18.011Z"
   },
   {
    "duration": 426,
    "start_time": "2023-09-15T17:56:18.015Z"
   },
   {
    "duration": 26,
    "start_time": "2023-09-15T17:56:18.444Z"
   },
   {
    "duration": 466,
    "start_time": "2023-09-15T17:56:18.471Z"
   },
   {
    "duration": 41,
    "start_time": "2023-09-15T17:56:18.938Z"
   },
   {
    "duration": 95,
    "start_time": "2023-09-15T17:56:18.982Z"
   },
   {
    "duration": 11,
    "start_time": "2023-09-15T17:56:19.079Z"
   },
   {
    "duration": 61,
    "start_time": "2023-09-15T17:56:19.091Z"
   },
   {
    "duration": 223,
    "start_time": "2023-09-15T17:56:19.153Z"
   },
   {
    "duration": 33,
    "start_time": "2023-09-15T17:56:19.377Z"
   },
   {
    "duration": 48,
    "start_time": "2023-09-15T17:56:19.412Z"
   },
   {
    "duration": 33,
    "start_time": "2023-09-15T17:56:19.461Z"
   },
   {
    "duration": 34,
    "start_time": "2023-09-15T17:56:19.496Z"
   },
   {
    "duration": 33,
    "start_time": "2023-09-15T17:56:19.544Z"
   },
   {
    "duration": 38,
    "start_time": "2023-09-15T17:56:19.578Z"
   },
   {
    "duration": 29,
    "start_time": "2023-09-15T17:56:19.618Z"
   },
   {
    "duration": 117,
    "start_time": "2023-09-15T17:56:19.648Z"
   },
   {
    "duration": 95,
    "start_time": "2023-09-15T17:56:19.767Z"
   },
   {
    "duration": 88,
    "start_time": "2023-09-15T17:56:19.863Z"
   },
   {
    "duration": 1294,
    "start_time": "2023-09-15T17:56:19.953Z"
   },
   {
    "duration": 1314,
    "start_time": "2023-09-15T17:56:21.249Z"
   },
   {
    "duration": 379,
    "start_time": "2023-09-15T17:56:22.565Z"
   },
   {
    "duration": 60,
    "start_time": "2023-09-15T17:56:22.945Z"
   },
   {
    "duration": 325,
    "start_time": "2023-09-15T17:56:23.009Z"
   },
   {
    "duration": 345,
    "start_time": "2023-09-15T17:56:23.336Z"
   },
   {
    "duration": 5,
    "start_time": "2023-09-15T17:56:23.682Z"
   },
   {
    "duration": 23,
    "start_time": "2023-09-15T17:56:23.690Z"
   },
   {
    "duration": 357,
    "start_time": "2023-09-15T17:56:23.715Z"
   },
   {
    "duration": 387,
    "start_time": "2023-09-15T17:56:24.074Z"
   },
   {
    "duration": 243,
    "start_time": "2023-09-15T17:56:24.463Z"
   },
   {
    "duration": 358,
    "start_time": "2023-09-15T17:56:24.709Z"
   },
   {
    "duration": 21,
    "start_time": "2023-09-15T17:56:25.068Z"
   },
   {
    "duration": 251,
    "start_time": "2023-09-15T17:56:25.091Z"
   },
   {
    "duration": 428,
    "start_time": "2023-09-15T17:56:25.345Z"
   },
   {
    "duration": 355,
    "start_time": "2023-09-15T17:56:25.774Z"
   },
   {
    "duration": 213,
    "start_time": "2023-09-15T17:56:26.131Z"
   },
   {
    "duration": 82,
    "start_time": "2023-09-15T17:56:26.346Z"
   },
   {
    "duration": 133,
    "start_time": "2023-09-15T17:56:26.430Z"
   },
   {
    "duration": 138,
    "start_time": "2023-09-15T17:56:26.565Z"
   },
   {
    "duration": 3,
    "start_time": "2023-09-15T17:56:26.705Z"
   },
   {
    "duration": 9,
    "start_time": "2023-09-15T17:56:26.710Z"
   },
   {
    "duration": 55,
    "start_time": "2023-09-15T17:56:26.721Z"
   },
   {
    "duration": 24,
    "start_time": "2023-09-15T17:56:26.777Z"
   },
   {
    "duration": 9,
    "start_time": "2023-09-15T17:56:26.803Z"
   },
   {
    "duration": 65,
    "start_time": "2023-09-15T17:56:26.814Z"
   },
   {
    "duration": 836,
    "start_time": "2023-09-15T17:56:26.880Z"
   },
   {
    "duration": 469,
    "start_time": "2023-09-15T17:56:27.718Z"
   },
   {
    "duration": 0,
    "start_time": "2023-09-15T17:56:28.189Z"
   },
   {
    "duration": 0,
    "start_time": "2023-09-15T17:56:28.190Z"
   },
   {
    "duration": 0,
    "start_time": "2023-09-15T17:56:28.191Z"
   },
   {
    "duration": 0,
    "start_time": "2023-09-15T17:56:28.192Z"
   },
   {
    "duration": 0,
    "start_time": "2023-09-15T17:56:28.192Z"
   },
   {
    "duration": 0,
    "start_time": "2023-09-15T17:56:28.193Z"
   },
   {
    "duration": 0,
    "start_time": "2023-09-15T17:56:28.194Z"
   },
   {
    "duration": 0,
    "start_time": "2023-09-15T17:56:28.195Z"
   },
   {
    "duration": 0,
    "start_time": "2023-09-15T17:56:28.196Z"
   },
   {
    "duration": 0,
    "start_time": "2023-09-15T17:56:28.197Z"
   },
   {
    "duration": 0,
    "start_time": "2023-09-15T17:56:28.198Z"
   },
   {
    "duration": 0,
    "start_time": "2023-09-15T17:56:28.200Z"
   },
   {
    "duration": 0,
    "start_time": "2023-09-15T17:56:28.201Z"
   },
   {
    "duration": 0,
    "start_time": "2023-09-15T17:56:28.202Z"
   },
   {
    "duration": 398,
    "start_time": "2023-09-15T17:56:54.044Z"
   },
   {
    "duration": 357,
    "start_time": "2023-09-15T17:57:10.834Z"
   },
   {
    "duration": 342,
    "start_time": "2023-09-15T17:57:36.319Z"
   },
   {
    "duration": 9,
    "start_time": "2023-09-15T17:57:52.932Z"
   },
   {
    "duration": 337,
    "start_time": "2023-09-15T17:58:05.213Z"
   },
   {
    "duration": 332,
    "start_time": "2023-09-15T18:14:06.613Z"
   },
   {
    "duration": 4,
    "start_time": "2023-09-15T18:14:14.989Z"
   },
   {
    "duration": 1377,
    "start_time": "2023-09-15T18:16:15.881Z"
   },
   {
    "duration": 784,
    "start_time": "2023-09-15T18:16:17.260Z"
   },
   {
    "duration": 14,
    "start_time": "2023-09-15T18:16:18.046Z"
   },
   {
    "duration": 154,
    "start_time": "2023-09-15T18:16:18.062Z"
   },
   {
    "duration": 3,
    "start_time": "2023-09-15T18:16:18.219Z"
   },
   {
    "duration": 428,
    "start_time": "2023-09-15T18:16:18.223Z"
   },
   {
    "duration": 27,
    "start_time": "2023-09-15T18:16:18.652Z"
   },
   {
    "duration": 459,
    "start_time": "2023-09-15T18:16:18.681Z"
   },
   {
    "duration": 34,
    "start_time": "2023-09-15T18:16:19.141Z"
   },
   {
    "duration": 101,
    "start_time": "2023-09-15T18:16:19.177Z"
   },
   {
    "duration": 14,
    "start_time": "2023-09-15T18:16:19.280Z"
   },
   {
    "duration": 77,
    "start_time": "2023-09-15T18:16:19.295Z"
   },
   {
    "duration": 229,
    "start_time": "2023-09-15T18:16:19.374Z"
   },
   {
    "duration": 41,
    "start_time": "2023-09-15T18:16:19.606Z"
   },
   {
    "duration": 38,
    "start_time": "2023-09-15T18:16:19.649Z"
   },
   {
    "duration": 50,
    "start_time": "2023-09-15T18:16:19.689Z"
   },
   {
    "duration": 37,
    "start_time": "2023-09-15T18:16:19.740Z"
   },
   {
    "duration": 54,
    "start_time": "2023-09-15T18:16:19.778Z"
   },
   {
    "duration": 40,
    "start_time": "2023-09-15T18:16:19.834Z"
   },
   {
    "duration": 24,
    "start_time": "2023-09-15T18:16:19.875Z"
   },
   {
    "duration": 114,
    "start_time": "2023-09-15T18:16:19.900Z"
   },
   {
    "duration": 96,
    "start_time": "2023-09-15T18:16:20.016Z"
   },
   {
    "duration": 87,
    "start_time": "2023-09-15T18:16:20.113Z"
   },
   {
    "duration": 1291,
    "start_time": "2023-09-15T18:16:20.202Z"
   },
   {
    "duration": 1338,
    "start_time": "2023-09-15T18:16:21.494Z"
   },
   {
    "duration": 371,
    "start_time": "2023-09-15T18:16:22.834Z"
   },
   {
    "duration": 70,
    "start_time": "2023-09-15T18:16:23.206Z"
   },
   {
    "duration": 315,
    "start_time": "2023-09-15T18:16:23.278Z"
   },
   {
    "duration": 351,
    "start_time": "2023-09-15T18:16:23.595Z"
   },
   {
    "duration": 5,
    "start_time": "2023-09-15T18:16:23.947Z"
   },
   {
    "duration": 33,
    "start_time": "2023-09-15T18:16:23.954Z"
   },
   {
    "duration": 428,
    "start_time": "2023-09-15T18:16:23.989Z"
   },
   {
    "duration": 350,
    "start_time": "2023-09-15T18:16:24.418Z"
   },
   {
    "duration": 269,
    "start_time": "2023-09-15T18:16:24.769Z"
   },
   {
    "duration": 365,
    "start_time": "2023-09-15T18:16:25.044Z"
   },
   {
    "duration": 20,
    "start_time": "2023-09-15T18:16:25.410Z"
   },
   {
    "duration": 262,
    "start_time": "2023-09-15T18:16:25.432Z"
   },
   {
    "duration": 450,
    "start_time": "2023-09-15T18:16:25.696Z"
   },
   {
    "duration": 407,
    "start_time": "2023-09-15T18:16:26.147Z"
   },
   {
    "duration": 201,
    "start_time": "2023-09-15T18:16:26.555Z"
   },
   {
    "duration": 84,
    "start_time": "2023-09-15T18:16:26.760Z"
   },
   {
    "duration": 140,
    "start_time": "2023-09-15T18:16:26.846Z"
   },
   {
    "duration": 140,
    "start_time": "2023-09-15T18:16:26.988Z"
   },
   {
    "duration": 3,
    "start_time": "2023-09-15T18:16:27.130Z"
   },
   {
    "duration": 11,
    "start_time": "2023-09-15T18:16:27.134Z"
   },
   {
    "duration": 48,
    "start_time": "2023-09-15T18:16:27.146Z"
   },
   {
    "duration": 23,
    "start_time": "2023-09-15T18:16:27.196Z"
   },
   {
    "duration": 26,
    "start_time": "2023-09-15T18:16:27.220Z"
   },
   {
    "duration": 50,
    "start_time": "2023-09-15T18:16:27.248Z"
   },
   {
    "duration": 766,
    "start_time": "2023-09-15T18:16:27.299Z"
   },
   {
    "duration": 449,
    "start_time": "2023-09-15T18:16:28.067Z"
   },
   {
    "duration": 3157,
    "start_time": "2023-09-15T18:16:28.518Z"
   },
   {
    "duration": 1244,
    "start_time": "2023-09-15T18:16:31.677Z"
   },
   {
    "duration": 4,
    "start_time": "2023-09-15T18:16:32.923Z"
   },
   {
    "duration": 9,
    "start_time": "2023-09-15T18:16:32.928Z"
   },
   {
    "duration": 120,
    "start_time": "2023-09-15T18:16:32.945Z"
   },
   {
    "duration": 0,
    "start_time": "2023-09-15T18:16:33.066Z"
   },
   {
    "duration": 0,
    "start_time": "2023-09-15T18:16:33.067Z"
   },
   {
    "duration": 0,
    "start_time": "2023-09-15T18:16:33.069Z"
   },
   {
    "duration": 0,
    "start_time": "2023-09-15T18:16:33.070Z"
   },
   {
    "duration": 0,
    "start_time": "2023-09-15T18:16:33.071Z"
   },
   {
    "duration": 0,
    "start_time": "2023-09-15T18:16:33.072Z"
   },
   {
    "duration": 0,
    "start_time": "2023-09-15T18:16:33.073Z"
   },
   {
    "duration": 0,
    "start_time": "2023-09-15T18:16:33.074Z"
   },
   {
    "duration": 0,
    "start_time": "2023-09-15T18:16:33.075Z"
   },
   {
    "duration": 1817,
    "start_time": "2023-09-15T20:17:46.331Z"
   },
   {
    "duration": 1367,
    "start_time": "2023-09-15T20:17:48.150Z"
   },
   {
    "duration": 27,
    "start_time": "2023-09-15T20:17:49.520Z"
   },
   {
    "duration": 175,
    "start_time": "2023-09-15T20:17:49.549Z"
   },
   {
    "duration": 5,
    "start_time": "2023-09-15T20:17:49.727Z"
   },
   {
    "duration": 593,
    "start_time": "2023-09-15T20:17:49.734Z"
   },
   {
    "duration": 33,
    "start_time": "2023-09-15T20:17:50.329Z"
   },
   {
    "duration": 598,
    "start_time": "2023-09-15T20:17:50.364Z"
   },
   {
    "duration": 47,
    "start_time": "2023-09-15T20:17:50.964Z"
   },
   {
    "duration": 124,
    "start_time": "2023-09-15T20:17:51.014Z"
   },
   {
    "duration": 15,
    "start_time": "2023-09-15T20:17:51.140Z"
   },
   {
    "duration": 90,
    "start_time": "2023-09-15T20:17:51.157Z"
   },
   {
    "duration": 291,
    "start_time": "2023-09-15T20:17:51.250Z"
   },
   {
    "duration": 42,
    "start_time": "2023-09-15T20:17:51.542Z"
   },
   {
    "duration": 60,
    "start_time": "2023-09-15T20:17:51.585Z"
   },
   {
    "duration": 97,
    "start_time": "2023-09-15T20:17:51.647Z"
   },
   {
    "duration": 91,
    "start_time": "2023-09-15T20:17:51.746Z"
   },
   {
    "duration": 52,
    "start_time": "2023-09-15T20:17:51.840Z"
   },
   {
    "duration": 75,
    "start_time": "2023-09-15T20:17:51.894Z"
   },
   {
    "duration": 47,
    "start_time": "2023-09-15T20:17:51.971Z"
   },
   {
    "duration": 133,
    "start_time": "2023-09-15T20:17:52.020Z"
   },
   {
    "duration": 177,
    "start_time": "2023-09-15T20:17:52.155Z"
   },
   {
    "duration": 323,
    "start_time": "2023-09-15T20:17:52.334Z"
   },
   {
    "duration": 1867,
    "start_time": "2023-09-15T20:17:52.660Z"
   },
   {
    "duration": 1787,
    "start_time": "2023-09-15T20:17:54.529Z"
   },
   {
    "duration": 462,
    "start_time": "2023-09-15T20:17:56.318Z"
   },
   {
    "duration": 107,
    "start_time": "2023-09-15T20:17:56.783Z"
   },
   {
    "duration": 467,
    "start_time": "2023-09-15T20:17:56.896Z"
   },
   {
    "duration": 495,
    "start_time": "2023-09-15T20:17:57.365Z"
   },
   {
    "duration": 9,
    "start_time": "2023-09-15T20:17:57.863Z"
   },
   {
    "duration": 47,
    "start_time": "2023-09-15T20:17:57.874Z"
   },
   {
    "duration": 491,
    "start_time": "2023-09-15T20:17:57.923Z"
   },
   {
    "duration": 515,
    "start_time": "2023-09-15T20:17:58.416Z"
   },
   {
    "duration": 331,
    "start_time": "2023-09-15T20:17:58.933Z"
   },
   {
    "duration": 658,
    "start_time": "2023-09-15T20:17:59.266Z"
   },
   {
    "duration": 24,
    "start_time": "2023-09-15T20:17:59.926Z"
   },
   {
    "duration": 348,
    "start_time": "2023-09-15T20:17:59.952Z"
   },
   {
    "duration": 700,
    "start_time": "2023-09-15T20:18:00.302Z"
   },
   {
    "duration": 561,
    "start_time": "2023-09-15T20:18:01.005Z"
   },
   {
    "duration": 260,
    "start_time": "2023-09-15T20:18:01.568Z"
   },
   {
    "duration": 168,
    "start_time": "2023-09-15T20:18:01.831Z"
   },
   {
    "duration": 171,
    "start_time": "2023-09-15T20:18:02.009Z"
   },
   {
    "duration": 193,
    "start_time": "2023-09-15T20:18:02.183Z"
   },
   {
    "duration": 5,
    "start_time": "2023-09-15T20:18:02.379Z"
   },
   {
    "duration": 23,
    "start_time": "2023-09-15T20:18:02.386Z"
   },
   {
    "duration": 73,
    "start_time": "2023-09-15T20:18:02.411Z"
   },
   {
    "duration": 50,
    "start_time": "2023-09-15T20:18:02.486Z"
   },
   {
    "duration": 17,
    "start_time": "2023-09-15T20:18:02.538Z"
   },
   {
    "duration": 116,
    "start_time": "2023-09-15T20:18:02.558Z"
   },
   {
    "duration": 1042,
    "start_time": "2023-09-15T20:18:02.676Z"
   },
   {
    "duration": 473,
    "start_time": "2023-09-15T20:18:03.720Z"
   },
   {
    "duration": 3658,
    "start_time": "2023-09-15T20:18:04.195Z"
   },
   {
    "duration": 1494,
    "start_time": "2023-09-15T20:18:07.855Z"
   },
   {
    "duration": 4,
    "start_time": "2023-09-15T20:18:09.351Z"
   },
   {
    "duration": 13,
    "start_time": "2023-09-15T20:18:09.357Z"
   },
   {
    "duration": 153,
    "start_time": "2023-09-15T20:18:09.372Z"
   },
   {
    "duration": 0,
    "start_time": "2023-09-15T20:18:09.527Z"
   },
   {
    "duration": 0,
    "start_time": "2023-09-15T20:18:09.528Z"
   },
   {
    "duration": 0,
    "start_time": "2023-09-15T20:18:09.530Z"
   },
   {
    "duration": 0,
    "start_time": "2023-09-15T20:18:09.531Z"
   },
   {
    "duration": 0,
    "start_time": "2023-09-15T20:18:09.533Z"
   },
   {
    "duration": 0,
    "start_time": "2023-09-15T20:18:09.535Z"
   },
   {
    "duration": 0,
    "start_time": "2023-09-15T20:18:09.536Z"
   },
   {
    "duration": 0,
    "start_time": "2023-09-15T20:18:09.538Z"
   },
   {
    "duration": 0,
    "start_time": "2023-09-15T20:18:09.539Z"
   },
   {
    "duration": 1650,
    "start_time": "2023-09-15T20:18:53.188Z"
   },
   {
    "duration": 1062,
    "start_time": "2023-09-15T20:18:54.841Z"
   },
   {
    "duration": 21,
    "start_time": "2023-09-15T20:18:55.904Z"
   },
   {
    "duration": 173,
    "start_time": "2023-09-15T20:18:55.927Z"
   },
   {
    "duration": 9,
    "start_time": "2023-09-15T20:18:56.102Z"
   },
   {
    "duration": 577,
    "start_time": "2023-09-15T20:18:56.113Z"
   },
   {
    "duration": 34,
    "start_time": "2023-09-15T20:18:56.693Z"
   },
   {
    "duration": 593,
    "start_time": "2023-09-15T20:18:56.730Z"
   },
   {
    "duration": 39,
    "start_time": "2023-09-15T20:18:57.325Z"
   },
   {
    "duration": 136,
    "start_time": "2023-09-15T20:18:57.366Z"
   },
   {
    "duration": 11,
    "start_time": "2023-09-15T20:18:57.509Z"
   },
   {
    "duration": 75,
    "start_time": "2023-09-15T20:18:57.522Z"
   },
   {
    "duration": 288,
    "start_time": "2023-09-15T20:18:57.598Z"
   },
   {
    "duration": 52,
    "start_time": "2023-09-15T20:18:57.890Z"
   },
   {
    "duration": 52,
    "start_time": "2023-09-15T20:18:57.944Z"
   },
   {
    "duration": 66,
    "start_time": "2023-09-15T20:18:57.997Z"
   },
   {
    "duration": 47,
    "start_time": "2023-09-15T20:18:58.065Z"
   },
   {
    "duration": 64,
    "start_time": "2023-09-15T20:18:58.114Z"
   },
   {
    "duration": 63,
    "start_time": "2023-09-15T20:18:58.180Z"
   },
   {
    "duration": 33,
    "start_time": "2023-09-15T20:18:58.244Z"
   },
   {
    "duration": 142,
    "start_time": "2023-09-15T20:18:58.279Z"
   },
   {
    "duration": 118,
    "start_time": "2023-09-15T20:18:58.423Z"
   },
   {
    "duration": 126,
    "start_time": "2023-09-15T20:18:58.543Z"
   },
   {
    "duration": 1737,
    "start_time": "2023-09-15T20:18:58.672Z"
   },
   {
    "duration": 1992,
    "start_time": "2023-09-15T20:19:00.411Z"
   },
   {
    "duration": 586,
    "start_time": "2023-09-15T20:19:02.405Z"
   },
   {
    "duration": 99,
    "start_time": "2023-09-15T20:19:02.994Z"
   },
   {
    "duration": 435,
    "start_time": "2023-09-15T20:19:03.095Z"
   },
   {
    "duration": 522,
    "start_time": "2023-09-15T20:19:03.533Z"
   },
   {
    "duration": 9,
    "start_time": "2023-09-15T20:19:04.058Z"
   },
   {
    "duration": 48,
    "start_time": "2023-09-15T20:19:04.069Z"
   },
   {
    "duration": 537,
    "start_time": "2023-09-15T20:19:04.119Z"
   },
   {
    "duration": 501,
    "start_time": "2023-09-15T20:19:04.658Z"
   },
   {
    "duration": 401,
    "start_time": "2023-09-15T20:19:05.161Z"
   },
   {
    "duration": 507,
    "start_time": "2023-09-15T20:19:05.566Z"
   },
   {
    "duration": 35,
    "start_time": "2023-09-15T20:19:06.075Z"
   },
   {
    "duration": 322,
    "start_time": "2023-09-15T20:19:06.113Z"
   },
   {
    "duration": 652,
    "start_time": "2023-09-15T20:19:06.437Z"
   },
   {
    "duration": 570,
    "start_time": "2023-09-15T20:19:07.091Z"
   },
   {
    "duration": 253,
    "start_time": "2023-09-15T20:19:07.663Z"
   },
   {
    "duration": 106,
    "start_time": "2023-09-15T20:19:07.923Z"
   },
   {
    "duration": 155,
    "start_time": "2023-09-15T20:19:08.031Z"
   },
   {
    "duration": 162,
    "start_time": "2023-09-15T20:19:08.188Z"
   },
   {
    "duration": 4,
    "start_time": "2023-09-15T20:19:08.352Z"
   },
   {
    "duration": 5,
    "start_time": "2023-09-15T20:19:08.358Z"
   },
   {
    "duration": 87,
    "start_time": "2023-09-15T20:19:08.365Z"
   },
   {
    "duration": 38,
    "start_time": "2023-09-15T20:19:08.454Z"
   },
   {
    "duration": 26,
    "start_time": "2023-09-15T20:19:08.494Z"
   },
   {
    "duration": 52,
    "start_time": "2023-09-15T20:19:08.522Z"
   },
   {
    "duration": 949,
    "start_time": "2023-09-15T20:19:08.576Z"
   },
   {
    "duration": 428,
    "start_time": "2023-09-15T20:19:09.527Z"
   },
   {
    "duration": 2557,
    "start_time": "2023-09-15T20:19:09.957Z"
   },
   {
    "duration": 1530,
    "start_time": "2023-09-15T20:19:12.517Z"
   },
   {
    "duration": 7,
    "start_time": "2023-09-15T20:19:14.049Z"
   },
   {
    "duration": 6,
    "start_time": "2023-09-15T20:19:14.058Z"
   },
   {
    "duration": 5,
    "start_time": "2023-09-15T20:19:14.066Z"
   },
   {
    "duration": 10,
    "start_time": "2023-09-15T20:19:14.074Z"
   },
   {
    "duration": 1131,
    "start_time": "2023-09-15T20:19:14.086Z"
   },
   {
    "duration": 107,
    "start_time": "2023-09-15T20:19:15.219Z"
   },
   {
    "duration": 177515,
    "start_time": "2023-09-15T20:19:15.328Z"
   },
   {
    "duration": 2236472,
    "start_time": "2023-09-15T20:22:12.845Z"
   },
   {
    "duration": 11493,
    "start_time": "2023-09-15T20:59:29.318Z"
   },
   {
    "duration": 148168,
    "start_time": "2023-09-15T20:59:40.812Z"
   },
   {
    "duration": 205,
    "start_time": "2023-09-15T21:02:08.981Z"
   },
   {
    "duration": 12,
    "start_time": "2023-09-15T21:02:09.187Z"
   },
   {
    "duration": 58,
    "start_time": "2023-09-16T04:22:22.107Z"
   },
   {
    "duration": 1707,
    "start_time": "2023-09-16T04:22:27.857Z"
   },
   {
    "duration": 1265,
    "start_time": "2023-09-16T04:22:29.566Z"
   },
   {
    "duration": 19,
    "start_time": "2023-09-16T04:22:30.833Z"
   },
   {
    "duration": 379,
    "start_time": "2023-09-16T04:22:30.854Z"
   },
   {
    "duration": 4,
    "start_time": "2023-09-16T04:22:31.235Z"
   },
   {
    "duration": 674,
    "start_time": "2023-09-16T04:22:31.241Z"
   },
   {
    "duration": 29,
    "start_time": "2023-09-16T04:22:31.916Z"
   },
   {
    "duration": 598,
    "start_time": "2023-09-16T04:22:31.946Z"
   },
   {
    "duration": 42,
    "start_time": "2023-09-16T04:22:32.547Z"
   },
   {
    "duration": 113,
    "start_time": "2023-09-16T04:22:32.591Z"
   },
   {
    "duration": 13,
    "start_time": "2023-09-16T04:22:32.705Z"
   },
   {
    "duration": 71,
    "start_time": "2023-09-16T04:22:32.719Z"
   },
   {
    "duration": 271,
    "start_time": "2023-09-16T04:22:32.791Z"
   },
   {
    "duration": 43,
    "start_time": "2023-09-16T04:22:33.064Z"
   },
   {
    "duration": 47,
    "start_time": "2023-09-16T04:22:33.109Z"
   },
   {
    "duration": 47,
    "start_time": "2023-09-16T04:22:33.157Z"
   },
   {
    "duration": 57,
    "start_time": "2023-09-16T04:22:33.205Z"
   },
   {
    "duration": 47,
    "start_time": "2023-09-16T04:22:33.264Z"
   },
   {
    "duration": 65,
    "start_time": "2023-09-16T04:22:33.312Z"
   },
   {
    "duration": 38,
    "start_time": "2023-09-16T04:22:33.379Z"
   },
   {
    "duration": 148,
    "start_time": "2023-09-16T04:22:33.419Z"
   },
   {
    "duration": 102,
    "start_time": "2023-09-16T04:22:33.569Z"
   },
   {
    "duration": 175,
    "start_time": "2023-09-16T04:22:33.673Z"
   },
   {
    "duration": 1583,
    "start_time": "2023-09-16T04:22:33.849Z"
   },
   {
    "duration": 1438,
    "start_time": "2023-09-16T04:22:35.434Z"
   },
   {
    "duration": 406,
    "start_time": "2023-09-16T04:22:36.874Z"
   },
   {
    "duration": 86,
    "start_time": "2023-09-16T04:22:37.282Z"
   },
   {
    "duration": 430,
    "start_time": "2023-09-16T04:22:37.373Z"
   },
   {
    "duration": 435,
    "start_time": "2023-09-16T04:22:37.805Z"
   },
   {
    "duration": 6,
    "start_time": "2023-09-16T04:22:38.242Z"
   },
   {
    "duration": 29,
    "start_time": "2023-09-16T04:22:38.250Z"
   },
   {
    "duration": 453,
    "start_time": "2023-09-16T04:22:38.282Z"
   },
   {
    "duration": 421,
    "start_time": "2023-09-16T04:22:38.736Z"
   },
   {
    "duration": 294,
    "start_time": "2023-09-16T04:22:39.158Z"
   },
   {
    "duration": 449,
    "start_time": "2023-09-16T04:22:39.454Z"
   },
   {
    "duration": 21,
    "start_time": "2023-09-16T04:22:39.905Z"
   },
   {
    "duration": 416,
    "start_time": "2023-09-16T04:22:39.927Z"
   },
   {
    "duration": 486,
    "start_time": "2023-09-16T04:22:40.345Z"
   },
   {
    "duration": 422,
    "start_time": "2023-09-16T04:22:40.833Z"
   },
   {
    "duration": 217,
    "start_time": "2023-09-16T04:22:41.256Z"
   },
   {
    "duration": 107,
    "start_time": "2023-09-16T04:22:41.475Z"
   },
   {
    "duration": 137,
    "start_time": "2023-09-16T04:22:41.584Z"
   },
   {
    "duration": 148,
    "start_time": "2023-09-16T04:22:41.723Z"
   },
   {
    "duration": 3,
    "start_time": "2023-09-16T04:22:41.873Z"
   },
   {
    "duration": 9,
    "start_time": "2023-09-16T04:22:41.878Z"
   },
   {
    "duration": 54,
    "start_time": "2023-09-16T04:22:41.888Z"
   },
   {
    "duration": 24,
    "start_time": "2023-09-16T04:22:41.944Z"
   },
   {
    "duration": 32,
    "start_time": "2023-09-16T04:22:41.969Z"
   },
   {
    "duration": 48,
    "start_time": "2023-09-16T04:22:42.003Z"
   },
   {
    "duration": 796,
    "start_time": "2023-09-16T04:22:42.053Z"
   },
   {
    "duration": 3,
    "start_time": "2023-09-16T04:22:42.851Z"
   },
   {
    "duration": 461,
    "start_time": "2023-09-16T04:22:42.856Z"
   },
   {
    "duration": 0,
    "start_time": "2023-09-16T04:22:43.319Z"
   },
   {
    "duration": 0,
    "start_time": "2023-09-16T04:22:43.321Z"
   },
   {
    "duration": 0,
    "start_time": "2023-09-16T04:22:43.322Z"
   },
   {
    "duration": 0,
    "start_time": "2023-09-16T04:22:43.323Z"
   },
   {
    "duration": 0,
    "start_time": "2023-09-16T04:22:43.325Z"
   },
   {
    "duration": 0,
    "start_time": "2023-09-16T04:22:43.326Z"
   },
   {
    "duration": 0,
    "start_time": "2023-09-16T04:22:43.328Z"
   },
   {
    "duration": 0,
    "start_time": "2023-09-16T04:22:43.329Z"
   },
   {
    "duration": 0,
    "start_time": "2023-09-16T04:22:43.331Z"
   },
   {
    "duration": 0,
    "start_time": "2023-09-16T04:22:43.332Z"
   },
   {
    "duration": 0,
    "start_time": "2023-09-16T04:22:43.334Z"
   },
   {
    "duration": 0,
    "start_time": "2023-09-16T04:22:43.335Z"
   },
   {
    "duration": 0,
    "start_time": "2023-09-16T04:22:43.336Z"
   },
   {
    "duration": 0,
    "start_time": "2023-09-16T04:22:43.338Z"
   },
   {
    "duration": 808,
    "start_time": "2023-09-16T04:23:32.194Z"
   },
   {
    "duration": 825,
    "start_time": "2023-09-16T04:23:59.918Z"
   },
   {
    "duration": 3,
    "start_time": "2023-09-16T04:24:09.580Z"
   },
   {
    "duration": 147089,
    "start_time": "2023-09-16T04:24:17.508Z"
   },
   {
    "duration": 2662,
    "start_time": "2023-09-16T04:26:44.602Z"
   },
   {
    "duration": 1546,
    "start_time": "2023-09-16T05:07:27.637Z"
   },
   {
    "duration": 903,
    "start_time": "2023-09-16T05:07:29.185Z"
   },
   {
    "duration": 18,
    "start_time": "2023-09-16T05:07:30.090Z"
   },
   {
    "duration": 282,
    "start_time": "2023-09-16T05:07:30.109Z"
   },
   {
    "duration": 3,
    "start_time": "2023-09-16T05:07:30.394Z"
   },
   {
    "duration": 610,
    "start_time": "2023-09-16T05:07:30.401Z"
   },
   {
    "duration": 34,
    "start_time": "2023-09-16T05:07:31.012Z"
   },
   {
    "duration": 586,
    "start_time": "2023-09-16T05:07:31.047Z"
   },
   {
    "duration": 35,
    "start_time": "2023-09-16T05:07:31.635Z"
   },
   {
    "duration": 404,
    "start_time": "2023-09-16T05:07:31.672Z"
   },
   {
    "duration": 379,
    "start_time": "2023-09-16T05:07:32.078Z"
   },
   {
    "duration": 366,
    "start_time": "2023-09-16T05:07:32.459Z"
   },
   {
    "duration": 258,
    "start_time": "2023-09-16T05:07:32.826Z"
   },
   {
    "duration": 50,
    "start_time": "2023-09-16T05:07:33.087Z"
   },
   {
    "duration": 335,
    "start_time": "2023-09-16T05:07:33.139Z"
   },
   {
    "duration": 158,
    "start_time": "2023-09-16T05:07:33.476Z"
   },
   {
    "duration": 52,
    "start_time": "2023-09-16T05:07:33.636Z"
   },
   {
    "duration": 50,
    "start_time": "2023-09-16T05:07:33.690Z"
   },
   {
    "duration": 54,
    "start_time": "2023-09-16T05:07:33.742Z"
   },
   {
    "duration": 27,
    "start_time": "2023-09-16T05:07:33.798Z"
   },
   {
    "duration": 132,
    "start_time": "2023-09-16T05:07:33.827Z"
   },
   {
    "duration": 120,
    "start_time": "2023-09-16T05:07:33.962Z"
   },
   {
    "duration": 101,
    "start_time": "2023-09-16T05:07:34.083Z"
   },
   {
    "duration": 1662,
    "start_time": "2023-09-16T05:07:34.186Z"
   },
   {
    "duration": 1496,
    "start_time": "2023-09-16T05:07:35.850Z"
   },
   {
    "duration": 448,
    "start_time": "2023-09-16T05:07:37.348Z"
   },
   {
    "duration": 70,
    "start_time": "2023-09-16T05:07:37.802Z"
   },
   {
    "duration": 381,
    "start_time": "2023-09-16T05:07:37.874Z"
   },
   {
    "duration": 445,
    "start_time": "2023-09-16T05:07:38.258Z"
   },
   {
    "duration": 7,
    "start_time": "2023-09-16T05:07:38.704Z"
   },
   {
    "duration": 35,
    "start_time": "2023-09-16T05:07:38.713Z"
   },
   {
    "duration": 410,
    "start_time": "2023-09-16T05:07:38.749Z"
   },
   {
    "duration": 403,
    "start_time": "2023-09-16T05:07:39.161Z"
   },
   {
    "duration": 313,
    "start_time": "2023-09-16T05:07:39.566Z"
   },
   {
    "duration": 427,
    "start_time": "2023-09-16T05:07:39.881Z"
   },
   {
    "duration": 22,
    "start_time": "2023-09-16T05:07:40.310Z"
   },
   {
    "duration": 301,
    "start_time": "2023-09-16T05:07:40.334Z"
   },
   {
    "duration": 505,
    "start_time": "2023-09-16T05:07:40.637Z"
   },
   {
    "duration": 425,
    "start_time": "2023-09-16T05:07:41.144Z"
   },
   {
    "duration": 216,
    "start_time": "2023-09-16T05:07:41.571Z"
   },
   {
    "duration": 88,
    "start_time": "2023-09-16T05:07:41.791Z"
   },
   {
    "duration": 144,
    "start_time": "2023-09-16T05:07:41.881Z"
   },
   {
    "duration": 146,
    "start_time": "2023-09-16T05:07:42.028Z"
   },
   {
    "duration": 3,
    "start_time": "2023-09-16T05:07:42.176Z"
   },
   {
    "duration": 8,
    "start_time": "2023-09-16T05:07:42.181Z"
   },
   {
    "duration": 54,
    "start_time": "2023-09-16T05:07:42.191Z"
   },
   {
    "duration": 26,
    "start_time": "2023-09-16T05:07:42.246Z"
   },
   {
    "duration": 33,
    "start_time": "2023-09-16T05:07:42.273Z"
   },
   {
    "duration": 50,
    "start_time": "2023-09-16T05:07:42.307Z"
   },
   {
    "duration": 813,
    "start_time": "2023-09-16T05:07:42.359Z"
   },
   {
    "duration": 3,
    "start_time": "2023-09-16T05:07:43.174Z"
   },
   {
    "duration": 791,
    "start_time": "2023-09-16T05:07:43.179Z"
   },
   {
    "duration": 3474,
    "start_time": "2023-09-16T05:07:43.971Z"
   },
   {
    "duration": 1407,
    "start_time": "2023-09-16T05:07:47.447Z"
   },
   {
    "duration": 3,
    "start_time": "2023-09-16T05:07:48.856Z"
   },
   {
    "duration": 16,
    "start_time": "2023-09-16T05:07:48.860Z"
   },
   {
    "duration": 11,
    "start_time": "2023-09-16T05:07:48.878Z"
   },
   {
    "duration": 12,
    "start_time": "2023-09-16T05:07:48.891Z"
   },
   {
    "duration": 1017,
    "start_time": "2023-09-16T05:07:48.905Z"
   },
   {
    "duration": 106,
    "start_time": "2023-09-16T05:07:50.002Z"
   },
   {
    "duration": 166433,
    "start_time": "2023-09-16T05:07:50.111Z"
   },
   {
    "duration": 447970,
    "start_time": "2023-09-16T05:10:36.546Z"
   },
   {
    "duration": 11606,
    "start_time": "2023-09-16T05:18:04.518Z"
   },
   {
    "duration": 146536,
    "start_time": "2023-09-16T05:18:16.126Z"
   },
   {
    "duration": 2694,
    "start_time": "2023-09-16T05:20:42.664Z"
   },
   {
    "duration": 10,
    "start_time": "2023-09-16T05:20:45.360Z"
   }
  ],
  "kernelspec": {
   "display_name": "Python 3 (ipykernel)",
   "language": "python",
   "name": "python3"
  },
  "language_info": {
   "codemirror_mode": {
    "name": "ipython",
    "version": 3
   },
   "file_extension": ".py",
   "mimetype": "text/x-python",
   "name": "python",
   "nbconvert_exporter": "python",
   "pygments_lexer": "ipython3",
   "version": "3.9.5"
  },
  "toc": {
   "base_numbering": 1,
   "nav_menu": {},
   "number_sections": true,
   "sideBar": true,
   "skip_h1_title": true,
   "title_cell": "Содержание",
   "title_sidebar": "Contents",
   "toc_cell": true,
   "toc_position": {
    "height": "calc(100% - 180px)",
    "left": "10px",
    "top": "150px",
    "width": "260.188px"
   },
   "toc_section_display": true,
   "toc_window_display": true
  }
 },
 "nbformat": 4,
 "nbformat_minor": 2
}
