{
 "cells": [
  {
   "cell_type": "markdown",
   "id": "153df157",
   "metadata": {
    "deletable": false,
    "editable": false,
    "id": "c81daeeb"
   },
   "source": [
    "# Исследование надежности заемщиков\n"
   ]
  },
  {
   "cell_type": "markdown",
   "id": "3d3164d1",
   "metadata": {
    "deletable": false,
    "editable": false,
    "id": "827c20bf"
   },
   "source": [
    "Во второй части проекта вы выполните шаги 3 и 4. Их вручную проверит ревьюер.\n",
    "Чтобы вам не пришлось писать код заново для шагов 1 и 2, мы добавили авторские решения в ячейки с кодом. \n",
    "\n"
   ]
  },
  {
   "cell_type": "markdown",
   "id": "3d1994c8",
   "metadata": {
    "deletable": false,
    "editable": false,
    "id": "744d7639"
   },
   "source": [
    "## Откройте таблицу и изучите общую информацию о данных"
   ]
  },
  {
   "cell_type": "markdown",
   "id": "8cf3f7a3",
   "metadata": {
    "deletable": false,
    "editable": false,
    "id": "e7a14c31"
   },
   "source": [
    "**Задание 1. Импортируйте библиотеку pandas. Считайте данные из csv-файла в датафрейм и сохраните в переменную `data`. Путь к файлу:**\n",
    "\n",
    "`/datasets/data.csv`"
   ]
  },
  {
   "cell_type": "code",
   "execution_count": 1,
   "id": "10417bcb",
   "metadata": {
    "deletable": false,
    "id": "7bcf75c9"
   },
   "outputs": [],
   "source": [
    "import pandas as pd\n",
    "\n",
    "try:\n",
    "    data = pd.read_csv('/datasets/data.csv')\n",
    "except:\n",
    "    data = pd.read_csv('https://code.s3.yandex.net/datasets/data.csv')"
   ]
  },
  {
   "cell_type": "markdown",
   "id": "e5217264",
   "metadata": {
    "deletable": false,
    "editable": false,
    "id": "b8038fe3"
   },
   "source": [
    "**Задание 2. Выведите первые 20 строчек датафрейма `data` на экран.**"
   ]
  },
  {
   "cell_type": "code",
   "execution_count": 2,
   "id": "0cb337c8",
   "metadata": {
    "deletable": false,
    "id": "2a7cab99",
    "outputId": "1a8f3ef2-d323-4ec2-ddf7-89670b5944c4"
   },
   "outputs": [
    {
     "data": {
      "text/html": [
       "<div>\n",
       "<style scoped>\n",
       "    .dataframe tbody tr th:only-of-type {\n",
       "        vertical-align: middle;\n",
       "    }\n",
       "\n",
       "    .dataframe tbody tr th {\n",
       "        vertical-align: top;\n",
       "    }\n",
       "\n",
       "    .dataframe thead th {\n",
       "        text-align: right;\n",
       "    }\n",
       "</style>\n",
       "<table border=\"1\" class=\"dataframe\">\n",
       "  <thead>\n",
       "    <tr style=\"text-align: right;\">\n",
       "      <th></th>\n",
       "      <th>children</th>\n",
       "      <th>days_employed</th>\n",
       "      <th>dob_years</th>\n",
       "      <th>education</th>\n",
       "      <th>education_id</th>\n",
       "      <th>family_status</th>\n",
       "      <th>family_status_id</th>\n",
       "      <th>gender</th>\n",
       "      <th>income_type</th>\n",
       "      <th>debt</th>\n",
       "      <th>total_income</th>\n",
       "      <th>purpose</th>\n",
       "    </tr>\n",
       "  </thead>\n",
       "  <tbody>\n",
       "    <tr>\n",
       "      <th>0</th>\n",
       "      <td>1</td>\n",
       "      <td>-8437.673028</td>\n",
       "      <td>42</td>\n",
       "      <td>высшее</td>\n",
       "      <td>0</td>\n",
       "      <td>женат / замужем</td>\n",
       "      <td>0</td>\n",
       "      <td>F</td>\n",
       "      <td>сотрудник</td>\n",
       "      <td>0</td>\n",
       "      <td>253875.639453</td>\n",
       "      <td>покупка жилья</td>\n",
       "    </tr>\n",
       "    <tr>\n",
       "      <th>1</th>\n",
       "      <td>1</td>\n",
       "      <td>-4024.803754</td>\n",
       "      <td>36</td>\n",
       "      <td>среднее</td>\n",
       "      <td>1</td>\n",
       "      <td>женат / замужем</td>\n",
       "      <td>0</td>\n",
       "      <td>F</td>\n",
       "      <td>сотрудник</td>\n",
       "      <td>0</td>\n",
       "      <td>112080.014102</td>\n",
       "      <td>приобретение автомобиля</td>\n",
       "    </tr>\n",
       "    <tr>\n",
       "      <th>2</th>\n",
       "      <td>0</td>\n",
       "      <td>-5623.422610</td>\n",
       "      <td>33</td>\n",
       "      <td>Среднее</td>\n",
       "      <td>1</td>\n",
       "      <td>женат / замужем</td>\n",
       "      <td>0</td>\n",
       "      <td>M</td>\n",
       "      <td>сотрудник</td>\n",
       "      <td>0</td>\n",
       "      <td>145885.952297</td>\n",
       "      <td>покупка жилья</td>\n",
       "    </tr>\n",
       "    <tr>\n",
       "      <th>3</th>\n",
       "      <td>3</td>\n",
       "      <td>-4124.747207</td>\n",
       "      <td>32</td>\n",
       "      <td>среднее</td>\n",
       "      <td>1</td>\n",
       "      <td>женат / замужем</td>\n",
       "      <td>0</td>\n",
       "      <td>M</td>\n",
       "      <td>сотрудник</td>\n",
       "      <td>0</td>\n",
       "      <td>267628.550329</td>\n",
       "      <td>дополнительное образование</td>\n",
       "    </tr>\n",
       "    <tr>\n",
       "      <th>4</th>\n",
       "      <td>0</td>\n",
       "      <td>340266.072047</td>\n",
       "      <td>53</td>\n",
       "      <td>среднее</td>\n",
       "      <td>1</td>\n",
       "      <td>гражданский брак</td>\n",
       "      <td>1</td>\n",
       "      <td>F</td>\n",
       "      <td>пенсионер</td>\n",
       "      <td>0</td>\n",
       "      <td>158616.077870</td>\n",
       "      <td>сыграть свадьбу</td>\n",
       "    </tr>\n",
       "    <tr>\n",
       "      <th>5</th>\n",
       "      <td>0</td>\n",
       "      <td>-926.185831</td>\n",
       "      <td>27</td>\n",
       "      <td>высшее</td>\n",
       "      <td>0</td>\n",
       "      <td>гражданский брак</td>\n",
       "      <td>1</td>\n",
       "      <td>M</td>\n",
       "      <td>компаньон</td>\n",
       "      <td>0</td>\n",
       "      <td>255763.565419</td>\n",
       "      <td>покупка жилья</td>\n",
       "    </tr>\n",
       "    <tr>\n",
       "      <th>6</th>\n",
       "      <td>0</td>\n",
       "      <td>-2879.202052</td>\n",
       "      <td>43</td>\n",
       "      <td>высшее</td>\n",
       "      <td>0</td>\n",
       "      <td>женат / замужем</td>\n",
       "      <td>0</td>\n",
       "      <td>F</td>\n",
       "      <td>компаньон</td>\n",
       "      <td>0</td>\n",
       "      <td>240525.971920</td>\n",
       "      <td>операции с жильем</td>\n",
       "    </tr>\n",
       "    <tr>\n",
       "      <th>7</th>\n",
       "      <td>0</td>\n",
       "      <td>-152.779569</td>\n",
       "      <td>50</td>\n",
       "      <td>СРЕДНЕЕ</td>\n",
       "      <td>1</td>\n",
       "      <td>женат / замужем</td>\n",
       "      <td>0</td>\n",
       "      <td>M</td>\n",
       "      <td>сотрудник</td>\n",
       "      <td>0</td>\n",
       "      <td>135823.934197</td>\n",
       "      <td>образование</td>\n",
       "    </tr>\n",
       "    <tr>\n",
       "      <th>8</th>\n",
       "      <td>2</td>\n",
       "      <td>-6929.865299</td>\n",
       "      <td>35</td>\n",
       "      <td>ВЫСШЕЕ</td>\n",
       "      <td>0</td>\n",
       "      <td>гражданский брак</td>\n",
       "      <td>1</td>\n",
       "      <td>F</td>\n",
       "      <td>сотрудник</td>\n",
       "      <td>0</td>\n",
       "      <td>95856.832424</td>\n",
       "      <td>на проведение свадьбы</td>\n",
       "    </tr>\n",
       "    <tr>\n",
       "      <th>9</th>\n",
       "      <td>0</td>\n",
       "      <td>-2188.756445</td>\n",
       "      <td>41</td>\n",
       "      <td>среднее</td>\n",
       "      <td>1</td>\n",
       "      <td>женат / замужем</td>\n",
       "      <td>0</td>\n",
       "      <td>M</td>\n",
       "      <td>сотрудник</td>\n",
       "      <td>0</td>\n",
       "      <td>144425.938277</td>\n",
       "      <td>покупка жилья для семьи</td>\n",
       "    </tr>\n",
       "    <tr>\n",
       "      <th>10</th>\n",
       "      <td>2</td>\n",
       "      <td>-4171.483647</td>\n",
       "      <td>36</td>\n",
       "      <td>высшее</td>\n",
       "      <td>0</td>\n",
       "      <td>женат / замужем</td>\n",
       "      <td>0</td>\n",
       "      <td>M</td>\n",
       "      <td>компаньон</td>\n",
       "      <td>0</td>\n",
       "      <td>113943.491460</td>\n",
       "      <td>покупка недвижимости</td>\n",
       "    </tr>\n",
       "    <tr>\n",
       "      <th>11</th>\n",
       "      <td>0</td>\n",
       "      <td>-792.701887</td>\n",
       "      <td>40</td>\n",
       "      <td>среднее</td>\n",
       "      <td>1</td>\n",
       "      <td>женат / замужем</td>\n",
       "      <td>0</td>\n",
       "      <td>F</td>\n",
       "      <td>сотрудник</td>\n",
       "      <td>0</td>\n",
       "      <td>77069.234271</td>\n",
       "      <td>покупка коммерческой недвижимости</td>\n",
       "    </tr>\n",
       "    <tr>\n",
       "      <th>12</th>\n",
       "      <td>0</td>\n",
       "      <td>NaN</td>\n",
       "      <td>65</td>\n",
       "      <td>среднее</td>\n",
       "      <td>1</td>\n",
       "      <td>гражданский брак</td>\n",
       "      <td>1</td>\n",
       "      <td>M</td>\n",
       "      <td>пенсионер</td>\n",
       "      <td>0</td>\n",
       "      <td>NaN</td>\n",
       "      <td>сыграть свадьбу</td>\n",
       "    </tr>\n",
       "    <tr>\n",
       "      <th>13</th>\n",
       "      <td>0</td>\n",
       "      <td>-1846.641941</td>\n",
       "      <td>54</td>\n",
       "      <td>неоконченное высшее</td>\n",
       "      <td>2</td>\n",
       "      <td>женат / замужем</td>\n",
       "      <td>0</td>\n",
       "      <td>F</td>\n",
       "      <td>сотрудник</td>\n",
       "      <td>0</td>\n",
       "      <td>130458.228857</td>\n",
       "      <td>приобретение автомобиля</td>\n",
       "    </tr>\n",
       "    <tr>\n",
       "      <th>14</th>\n",
       "      <td>0</td>\n",
       "      <td>-1844.956182</td>\n",
       "      <td>56</td>\n",
       "      <td>высшее</td>\n",
       "      <td>0</td>\n",
       "      <td>гражданский брак</td>\n",
       "      <td>1</td>\n",
       "      <td>F</td>\n",
       "      <td>компаньон</td>\n",
       "      <td>1</td>\n",
       "      <td>165127.911772</td>\n",
       "      <td>покупка жилой недвижимости</td>\n",
       "    </tr>\n",
       "    <tr>\n",
       "      <th>15</th>\n",
       "      <td>1</td>\n",
       "      <td>-972.364419</td>\n",
       "      <td>26</td>\n",
       "      <td>среднее</td>\n",
       "      <td>1</td>\n",
       "      <td>женат / замужем</td>\n",
       "      <td>0</td>\n",
       "      <td>F</td>\n",
       "      <td>сотрудник</td>\n",
       "      <td>0</td>\n",
       "      <td>116820.904450</td>\n",
       "      <td>строительство собственной недвижимости</td>\n",
       "    </tr>\n",
       "    <tr>\n",
       "      <th>16</th>\n",
       "      <td>0</td>\n",
       "      <td>-1719.934226</td>\n",
       "      <td>35</td>\n",
       "      <td>среднее</td>\n",
       "      <td>1</td>\n",
       "      <td>женат / замужем</td>\n",
       "      <td>0</td>\n",
       "      <td>F</td>\n",
       "      <td>сотрудник</td>\n",
       "      <td>0</td>\n",
       "      <td>289202.704229</td>\n",
       "      <td>недвижимость</td>\n",
       "    </tr>\n",
       "    <tr>\n",
       "      <th>17</th>\n",
       "      <td>0</td>\n",
       "      <td>-2369.999720</td>\n",
       "      <td>33</td>\n",
       "      <td>высшее</td>\n",
       "      <td>0</td>\n",
       "      <td>гражданский брак</td>\n",
       "      <td>1</td>\n",
       "      <td>M</td>\n",
       "      <td>сотрудник</td>\n",
       "      <td>0</td>\n",
       "      <td>90410.586745</td>\n",
       "      <td>строительство недвижимости</td>\n",
       "    </tr>\n",
       "    <tr>\n",
       "      <th>18</th>\n",
       "      <td>0</td>\n",
       "      <td>400281.136913</td>\n",
       "      <td>53</td>\n",
       "      <td>среднее</td>\n",
       "      <td>1</td>\n",
       "      <td>вдовец / вдова</td>\n",
       "      <td>2</td>\n",
       "      <td>F</td>\n",
       "      <td>пенсионер</td>\n",
       "      <td>0</td>\n",
       "      <td>56823.777243</td>\n",
       "      <td>на покупку подержанного автомобиля</td>\n",
       "    </tr>\n",
       "    <tr>\n",
       "      <th>19</th>\n",
       "      <td>0</td>\n",
       "      <td>-10038.818549</td>\n",
       "      <td>48</td>\n",
       "      <td>СРЕДНЕЕ</td>\n",
       "      <td>1</td>\n",
       "      <td>в разводе</td>\n",
       "      <td>3</td>\n",
       "      <td>F</td>\n",
       "      <td>сотрудник</td>\n",
       "      <td>0</td>\n",
       "      <td>242831.107982</td>\n",
       "      <td>на покупку своего автомобиля</td>\n",
       "    </tr>\n",
       "  </tbody>\n",
       "</table>\n",
       "</div>"
      ],
      "text/plain": [
       "    children  days_employed  dob_years            education  education_id  \\\n",
       "0          1   -8437.673028         42               высшее             0   \n",
       "1          1   -4024.803754         36              среднее             1   \n",
       "2          0   -5623.422610         33              Среднее             1   \n",
       "3          3   -4124.747207         32              среднее             1   \n",
       "4          0  340266.072047         53              среднее             1   \n",
       "5          0    -926.185831         27               высшее             0   \n",
       "6          0   -2879.202052         43               высшее             0   \n",
       "7          0    -152.779569         50              СРЕДНЕЕ             1   \n",
       "8          2   -6929.865299         35               ВЫСШЕЕ             0   \n",
       "9          0   -2188.756445         41              среднее             1   \n",
       "10         2   -4171.483647         36               высшее             0   \n",
       "11         0    -792.701887         40              среднее             1   \n",
       "12         0            NaN         65              среднее             1   \n",
       "13         0   -1846.641941         54  неоконченное высшее             2   \n",
       "14         0   -1844.956182         56               высшее             0   \n",
       "15         1    -972.364419         26              среднее             1   \n",
       "16         0   -1719.934226         35              среднее             1   \n",
       "17         0   -2369.999720         33               высшее             0   \n",
       "18         0  400281.136913         53              среднее             1   \n",
       "19         0  -10038.818549         48              СРЕДНЕЕ             1   \n",
       "\n",
       "       family_status  family_status_id gender income_type  debt  \\\n",
       "0    женат / замужем                 0      F   сотрудник     0   \n",
       "1    женат / замужем                 0      F   сотрудник     0   \n",
       "2    женат / замужем                 0      M   сотрудник     0   \n",
       "3    женат / замужем                 0      M   сотрудник     0   \n",
       "4   гражданский брак                 1      F   пенсионер     0   \n",
       "5   гражданский брак                 1      M   компаньон     0   \n",
       "6    женат / замужем                 0      F   компаньон     0   \n",
       "7    женат / замужем                 0      M   сотрудник     0   \n",
       "8   гражданский брак                 1      F   сотрудник     0   \n",
       "9    женат / замужем                 0      M   сотрудник     0   \n",
       "10   женат / замужем                 0      M   компаньон     0   \n",
       "11   женат / замужем                 0      F   сотрудник     0   \n",
       "12  гражданский брак                 1      M   пенсионер     0   \n",
       "13   женат / замужем                 0      F   сотрудник     0   \n",
       "14  гражданский брак                 1      F   компаньон     1   \n",
       "15   женат / замужем                 0      F   сотрудник     0   \n",
       "16   женат / замужем                 0      F   сотрудник     0   \n",
       "17  гражданский брак                 1      M   сотрудник     0   \n",
       "18    вдовец / вдова                 2      F   пенсионер     0   \n",
       "19         в разводе                 3      F   сотрудник     0   \n",
       "\n",
       "     total_income                                 purpose  \n",
       "0   253875.639453                           покупка жилья  \n",
       "1   112080.014102                 приобретение автомобиля  \n",
       "2   145885.952297                           покупка жилья  \n",
       "3   267628.550329              дополнительное образование  \n",
       "4   158616.077870                         сыграть свадьбу  \n",
       "5   255763.565419                           покупка жилья  \n",
       "6   240525.971920                       операции с жильем  \n",
       "7   135823.934197                             образование  \n",
       "8    95856.832424                   на проведение свадьбы  \n",
       "9   144425.938277                 покупка жилья для семьи  \n",
       "10  113943.491460                    покупка недвижимости  \n",
       "11   77069.234271       покупка коммерческой недвижимости  \n",
       "12            NaN                         сыграть свадьбу  \n",
       "13  130458.228857                 приобретение автомобиля  \n",
       "14  165127.911772              покупка жилой недвижимости  \n",
       "15  116820.904450  строительство собственной недвижимости  \n",
       "16  289202.704229                            недвижимость  \n",
       "17   90410.586745              строительство недвижимости  \n",
       "18   56823.777243      на покупку подержанного автомобиля  \n",
       "19  242831.107982            на покупку своего автомобиля  "
      ]
     },
     "execution_count": 2,
     "metadata": {},
     "output_type": "execute_result"
    }
   ],
   "source": [
    "data.head(20)"
   ]
  },
  {
   "cell_type": "markdown",
   "id": "5a28b994",
   "metadata": {
    "deletable": false,
    "editable": false,
    "id": "1c12e233"
   },
   "source": [
    "**Задание 3. Выведите основную информацию о датафрейме с помощью метода `info()`.**"
   ]
  },
  {
   "cell_type": "code",
   "execution_count": 3,
   "id": "e98e377e",
   "metadata": {
    "deletable": false,
    "id": "2b757bca",
    "outputId": "15376089-8dad-46c9-b520-c05248d43158"
   },
   "outputs": [
    {
     "name": "stdout",
     "output_type": "stream",
     "text": [
      "<class 'pandas.core.frame.DataFrame'>\n",
      "RangeIndex: 21525 entries, 0 to 21524\n",
      "Data columns (total 12 columns):\n",
      " #   Column            Non-Null Count  Dtype  \n",
      "---  ------            --------------  -----  \n",
      " 0   children          21525 non-null  int64  \n",
      " 1   days_employed     19351 non-null  float64\n",
      " 2   dob_years         21525 non-null  int64  \n",
      " 3   education         21525 non-null  object \n",
      " 4   education_id      21525 non-null  int64  \n",
      " 5   family_status     21525 non-null  object \n",
      " 6   family_status_id  21525 non-null  int64  \n",
      " 7   gender            21525 non-null  object \n",
      " 8   income_type       21525 non-null  object \n",
      " 9   debt              21525 non-null  int64  \n",
      " 10  total_income      19351 non-null  float64\n",
      " 11  purpose           21525 non-null  object \n",
      "dtypes: float64(2), int64(5), object(5)\n",
      "memory usage: 2.0+ MB\n"
     ]
    }
   ],
   "source": [
    "data.info()"
   ]
  },
  {
   "cell_type": "markdown",
   "id": "20511a2d",
   "metadata": {
    "deletable": false,
    "editable": false,
    "id": "333ec665"
   },
   "source": [
    "## Предобработка данных"
   ]
  },
  {
   "cell_type": "markdown",
   "id": "cf9b177d",
   "metadata": {
    "deletable": false,
    "editable": false,
    "id": "02d92d53"
   },
   "source": [
    "### Удаление пропусков"
   ]
  },
  {
   "cell_type": "markdown",
   "id": "9f47c9c3",
   "metadata": {
    "deletable": false,
    "editable": false,
    "id": "cd84967c"
   },
   "source": [
    "**Задание 4. Выведите количество пропущенных значений для каждого столбца. Используйте комбинацию двух методов.**"
   ]
  },
  {
   "cell_type": "code",
   "execution_count": 4,
   "id": "a0d34714",
   "metadata": {
    "deletable": false,
    "id": "7f9b2309",
    "outputId": "81f4d817-781c-465c-ed15-91ce4446810d"
   },
   "outputs": [
    {
     "data": {
      "text/plain": [
       "children               0\n",
       "days_employed       2174\n",
       "dob_years              0\n",
       "education              0\n",
       "education_id           0\n",
       "family_status          0\n",
       "family_status_id       0\n",
       "gender                 0\n",
       "income_type            0\n",
       "debt                   0\n",
       "total_income        2174\n",
       "purpose                0\n",
       "dtype: int64"
      ]
     },
     "execution_count": 4,
     "metadata": {},
     "output_type": "execute_result"
    }
   ],
   "source": [
    "data.isna().sum()"
   ]
  },
  {
   "cell_type": "markdown",
   "id": "70fee1df",
   "metadata": {
    "deletable": false,
    "editable": false,
    "id": "db86e27b"
   },
   "source": [
    "**Задание 5. В двух столбцах есть пропущенные значения. Один из них — `days_employed`. Пропуски в этом столбце вы обработаете на следующем этапе. Другой столбец с пропущенными значениями — `total_income` — хранит данные о доходах. На сумму дохода сильнее всего влияет тип занятости, поэтому заполнить пропуски в этом столбце нужно медианным значением по каждому типу из столбца `income_type`. Например, у человека с типом занятости `сотрудник` пропуск в столбце `total_income` должен быть заполнен медианным доходом среди всех записей с тем же типом.**"
   ]
  },
  {
   "cell_type": "code",
   "execution_count": 5,
   "id": "c88ae563",
   "metadata": {
    "deletable": false,
    "id": "42006a93"
   },
   "outputs": [],
   "source": [
    "for t in data['income_type'].unique():\n",
    "    data.loc[(data['income_type'] == t) & (data['total_income'].isna()), 'total_income'] = \\\n",
    "    data.loc[(data['income_type'] == t), 'total_income'].median()"
   ]
  },
  {
   "cell_type": "markdown",
   "id": "fd31ea99",
   "metadata": {
    "deletable": false,
    "editable": false,
    "id": "89da5ece"
   },
   "source": [
    "### Обработка аномальных значений"
   ]
  },
  {
   "cell_type": "markdown",
   "id": "29b8f62f",
   "metadata": {
    "deletable": false,
    "editable": false,
    "id": "57964554"
   },
   "source": [
    "**Задание 6. В данных могут встречаться артефакты (аномалии) — значения, которые не отражают действительность и появились по какой-то ошибке. таким артефактом будет отрицательное количество дней трудового стажа в столбце `days_employed`. Для реальных данных это нормально. Обработайте значения в этом столбце: замените все отрицательные значения положительными с помощью метода `abs()`.**"
   ]
  },
  {
   "cell_type": "code",
   "execution_count": 6,
   "id": "cbf3ee55",
   "metadata": {
    "deletable": false,
    "id": "f6f055bf"
   },
   "outputs": [],
   "source": [
    "data['days_employed'] = data['days_employed'].abs()"
   ]
  },
  {
   "cell_type": "markdown",
   "id": "7ab2648c",
   "metadata": {
    "deletable": false,
    "editable": false,
    "id": "6107dd2f"
   },
   "source": [
    "**Задание 7. Для каждого типа занятости выведите медианное значение трудового стажа `days_employed` в днях.**"
   ]
  },
  {
   "cell_type": "code",
   "execution_count": 7,
   "id": "e99385c3",
   "metadata": {
    "deletable": false,
    "id": "85a5faf6",
    "outputId": "801ef80e-522b-4668-f34e-565af7432bcf"
   },
   "outputs": [
    {
     "data": {
      "text/plain": [
       "income_type\n",
       "безработный        366413.652744\n",
       "в декрете            3296.759962\n",
       "госслужащий          2689.368353\n",
       "компаньон            1547.382223\n",
       "пенсионер          365213.306266\n",
       "предприниматель       520.848083\n",
       "сотрудник            1574.202821\n",
       "студент               578.751554\n",
       "Name: days_employed, dtype: float64"
      ]
     },
     "execution_count": 7,
     "metadata": {},
     "output_type": "execute_result"
    }
   ],
   "source": [
    "data.groupby('income_type')['days_employed'].agg('median')"
   ]
  },
  {
   "cell_type": "markdown",
   "id": "d8a2864d",
   "metadata": {
    "deletable": false,
    "editable": false,
    "id": "38d1a030"
   },
   "source": [
    "У двух типов (безработные и пенсионеры) получатся аномально большие значения. Исправить такие значения сложно, поэтому оставьте их как есть. Тем более этот столбец не понадобится вам для исследования."
   ]
  },
  {
   "cell_type": "markdown",
   "id": "cb865799",
   "metadata": {
    "deletable": false,
    "editable": false,
    "id": "d8a9f147"
   },
   "source": [
    "**Задание 8. Выведите перечень уникальных значений столбца `children`.**"
   ]
  },
  {
   "cell_type": "code",
   "execution_count": 8,
   "id": "dbe7c01f",
   "metadata": {
    "deletable": false,
    "id": "ef5056eb",
    "outputId": "6975b15c-7f95-4697-d16d-a0c79b657b03"
   },
   "outputs": [
    {
     "data": {
      "text/plain": [
       "array([ 1,  0,  3,  2, -1,  4, 20,  5])"
      ]
     },
     "execution_count": 8,
     "metadata": {},
     "output_type": "execute_result"
    }
   ],
   "source": [
    "data['children'].unique()"
   ]
  },
  {
   "cell_type": "markdown",
   "id": "d886317c",
   "metadata": {
    "deletable": false,
    "editable": false,
    "id": "40b9ebf2"
   },
   "source": [
    "**Задание 9. В столбце `children` есть два аномальных значения. Удалите строки, в которых встречаются такие аномальные значения из датафрейма `data`.**"
   ]
  },
  {
   "cell_type": "code",
   "execution_count": 9,
   "id": "e9fb04f5",
   "metadata": {
    "deletable": false,
    "id": "3ff9801d"
   },
   "outputs": [],
   "source": [
    "data = data[(data['children'] != -1) & (data['children'] != 20)]"
   ]
  },
  {
   "cell_type": "markdown",
   "id": "0e18b0b7",
   "metadata": {
    "deletable": false,
    "editable": false,
    "id": "bbc4d0ce"
   },
   "source": [
    "**Задание 10. Ещё раз выведите перечень уникальных значений столбца `children`, чтобы убедиться, что артефакты удалены.**"
   ]
  },
  {
   "cell_type": "code",
   "execution_count": 10,
   "id": "0b08e7b9",
   "metadata": {
    "deletable": false,
    "id": "ad4fa8b7",
    "outputId": "b2097101-d49d-44d9-901b-32a65c9463d1"
   },
   "outputs": [
    {
     "data": {
      "text/plain": [
       "array([1, 0, 3, 2, 4, 5])"
      ]
     },
     "execution_count": 10,
     "metadata": {},
     "output_type": "execute_result"
    }
   ],
   "source": [
    "data['children'].unique()"
   ]
  },
  {
   "cell_type": "markdown",
   "id": "a78075f3",
   "metadata": {
    "deletable": false,
    "editable": false,
    "id": "75440b63"
   },
   "source": [
    "### Удаление пропусков (продолжение)"
   ]
  },
  {
   "cell_type": "markdown",
   "id": "0b5bb634",
   "metadata": {
    "deletable": false,
    "editable": false,
    "id": "f4ea573f"
   },
   "source": [
    "**Задание 11. Заполните пропуски в столбце `days_employed` медианными значениями по каждого типа занятости `income_type`.**"
   ]
  },
  {
   "cell_type": "code",
   "execution_count": 11,
   "id": "6a4297df",
   "metadata": {
    "deletable": false,
    "id": "af6b1a7e"
   },
   "outputs": [],
   "source": [
    "for t in data['income_type'].unique():\n",
    "    data.loc[(data['income_type'] == t) & (data['days_employed'].isna()), 'days_employed'] = \\\n",
    "    data.loc[(data['income_type'] == t), 'days_employed'].median()"
   ]
  },
  {
   "cell_type": "markdown",
   "id": "bb1b77a0",
   "metadata": {
    "deletable": false,
    "editable": false,
    "id": "2753f40d"
   },
   "source": [
    "**Задание 12. Убедитесь, что все пропуски заполнены. Проверьте себя и ещё раз выведите количество пропущенных значений для каждого столбца с помощью двух методов.**"
   ]
  },
  {
   "cell_type": "code",
   "execution_count": 12,
   "id": "b3b504e6",
   "metadata": {
    "deletable": false,
    "id": "55f78bc2",
    "outputId": "8da1e4e1-358e-4e87-98c9-f261bce0a7b2"
   },
   "outputs": [
    {
     "data": {
      "text/plain": [
       "children            0\n",
       "days_employed       0\n",
       "dob_years           0\n",
       "education           0\n",
       "education_id        0\n",
       "family_status       0\n",
       "family_status_id    0\n",
       "gender              0\n",
       "income_type         0\n",
       "debt                0\n",
       "total_income        0\n",
       "purpose             0\n",
       "dtype: int64"
      ]
     },
     "execution_count": 12,
     "metadata": {},
     "output_type": "execute_result"
    }
   ],
   "source": [
    "data.isna().sum()"
   ]
  },
  {
   "cell_type": "markdown",
   "id": "45884bfc",
   "metadata": {
    "deletable": false,
    "editable": false,
    "id": "ddc81e43"
   },
   "source": [
    "### Изменение типов данных"
   ]
  },
  {
   "cell_type": "markdown",
   "id": "036f0444",
   "metadata": {
    "deletable": false,
    "editable": false,
    "id": "42d19d24"
   },
   "source": [
    "**Задание 13. Замените вещественный тип данных в столбце `total_income` на целочисленный с помощью метода `astype()`.**"
   ]
  },
  {
   "cell_type": "code",
   "execution_count": 13,
   "id": "9a8c5554",
   "metadata": {
    "deletable": false,
    "id": "920b65ad"
   },
   "outputs": [],
   "source": [
    "data['total_income'] = data['total_income'].astype(int)"
   ]
  },
  {
   "cell_type": "markdown",
   "id": "24b802b8",
   "metadata": {
    "deletable": false,
    "editable": false,
    "id": "80c420ba"
   },
   "source": [
    "### Обработка дубликатов"
   ]
  },
  {
   "cell_type": "markdown",
   "id": "31f60258",
   "metadata": {
    "deletable": false,
    "editable": false
   },
   "source": [
    "**Задание 14. Обработайте неявные дубликаты в столбце `education`. В этом столбце есть одни и те же значения, но записанные по-разному: с использованием заглавных и строчных букв. Приведите их к нижнему регистру. Проверьте остальные столбцы.**"
   ]
  },
  {
   "cell_type": "code",
   "execution_count": 14,
   "id": "3ff75559",
   "metadata": {
    "deletable": false
   },
   "outputs": [],
   "source": [
    "data['education'] = data['education'].str.lower()"
   ]
  },
  {
   "cell_type": "markdown",
   "id": "8ecefbc2",
   "metadata": {
    "deletable": false,
    "editable": false,
    "id": "dc587695"
   },
   "source": [
    "**Задание 15. Выведите на экран количество строк-дубликатов в данных. Если такие строки присутствуют, удалите их.**"
   ]
  },
  {
   "cell_type": "code",
   "execution_count": 15,
   "id": "68b7915a",
   "metadata": {
    "deletable": false,
    "id": "3ee445e4",
    "outputId": "9684deba-1934-42d1-99e1-cda61740f822"
   },
   "outputs": [
    {
     "data": {
      "text/plain": [
       "71"
      ]
     },
     "execution_count": 15,
     "metadata": {},
     "output_type": "execute_result"
    }
   ],
   "source": [
    "data.duplicated().sum()"
   ]
  },
  {
   "cell_type": "code",
   "execution_count": 16,
   "id": "36ee7abe",
   "metadata": {
    "deletable": false,
    "id": "8575fe05"
   },
   "outputs": [],
   "source": [
    "data = data.drop_duplicates()"
   ]
  },
  {
   "cell_type": "markdown",
   "id": "c8c71289",
   "metadata": {
    "deletable": false,
    "editable": false,
    "id": "9904cf55"
   },
   "source": [
    "### Категоризация данных"
   ]
  },
  {
   "cell_type": "markdown",
   "id": "4db4000c",
   "metadata": {
    "deletable": false,
    "editable": false,
    "id": "72fcc8a2"
   },
   "source": [
    "**Задание 16. На основании диапазонов, указанных ниже, создайте в датафрейме `data` столбец `total_income_category` с категориями:**\n",
    "\n",
    "- 0–30000 — `'E'`;\n",
    "- 30001–50000 — `'D'`;\n",
    "- 50001–200000 — `'C'`;\n",
    "- 200001–1000000 — `'B'`;\n",
    "- 1000001 и выше — `'A'`.\n",
    "\n",
    "\n",
    "**Например, кредитополучателю с доходом 25000 нужно назначить категорию `'E'`, а клиенту, получающему 235000, — `'B'`. Используйте собственную функцию с именем `categorize_income()` и метод `apply()`.**"
   ]
  },
  {
   "cell_type": "code",
   "execution_count": 17,
   "id": "19e17127",
   "metadata": {
    "deletable": false,
    "id": "e1771346"
   },
   "outputs": [],
   "source": [
    "def categorize_income(income):\n",
    "    try:\n",
    "        if 0 <= income <= 30000:\n",
    "            return 'E'\n",
    "        elif 30001 <= income <= 50000:\n",
    "            return 'D'\n",
    "        elif 50001 <= income <= 200000:\n",
    "            return 'C'\n",
    "        elif 200001 <= income <= 1000000:\n",
    "            return 'B'\n",
    "        elif income >= 1000001:\n",
    "            return 'A'\n",
    "    except:\n",
    "        pass"
   ]
  },
  {
   "cell_type": "code",
   "execution_count": 18,
   "id": "d47ed93c",
   "metadata": {
    "deletable": false,
    "id": "d5f3586d"
   },
   "outputs": [],
   "source": [
    "data['total_income_category'] = data['total_income'].apply(categorize_income)"
   ]
  },
  {
   "cell_type": "markdown",
   "id": "a925fb0c",
   "metadata": {
    "deletable": false,
    "editable": false,
    "id": "dde49b5c"
   },
   "source": [
    "**Задание 17. Выведите на экран перечень уникальных целей взятия кредита из столбца `purpose`.**"
   ]
  },
  {
   "cell_type": "code",
   "execution_count": 19,
   "id": "e4b4357c",
   "metadata": {
    "deletable": false,
    "id": "f67ce9b3",
    "outputId": "673c12d9-7d7e-4ae0-9812-c622c89dd244"
   },
   "outputs": [
    {
     "data": {
      "text/plain": [
       "array(['покупка жилья', 'приобретение автомобиля',\n",
       "       'дополнительное образование', 'сыграть свадьбу',\n",
       "       'операции с жильем', 'образование', 'на проведение свадьбы',\n",
       "       'покупка жилья для семьи', 'покупка недвижимости',\n",
       "       'покупка коммерческой недвижимости', 'покупка жилой недвижимости',\n",
       "       'строительство собственной недвижимости', 'недвижимость',\n",
       "       'строительство недвижимости', 'на покупку подержанного автомобиля',\n",
       "       'на покупку своего автомобиля',\n",
       "       'операции с коммерческой недвижимостью',\n",
       "       'строительство жилой недвижимости', 'жилье',\n",
       "       'операции со своей недвижимостью', 'автомобили',\n",
       "       'заняться образованием', 'сделка с подержанным автомобилем',\n",
       "       'получение образования', 'автомобиль', 'свадьба',\n",
       "       'получение дополнительного образования', 'покупка своего жилья',\n",
       "       'операции с недвижимостью', 'получение высшего образования',\n",
       "       'свой автомобиль', 'сделка с автомобилем',\n",
       "       'профильное образование', 'высшее образование',\n",
       "       'покупка жилья для сдачи', 'на покупку автомобиля', 'ремонт жилью',\n",
       "       'заняться высшим образованием'], dtype=object)"
      ]
     },
     "execution_count": 19,
     "metadata": {},
     "output_type": "execute_result"
    }
   ],
   "source": [
    "data['purpose'].unique()"
   ]
  },
  {
   "cell_type": "markdown",
   "id": "9847530c",
   "metadata": {
    "deletable": false,
    "editable": false,
    "id": "85d0aef0"
   },
   "source": [
    "**Задание 18. Создайте функцию, которая на основании данных из столбца `purpose` сформирует новый столбец `purpose_category`, в который войдут следующие категории:**\n",
    "\n",
    "- `'операции с автомобилем'`,\n",
    "- `'операции с недвижимостью'`,\n",
    "- `'проведение свадьбы'`,\n",
    "- `'получение образования'`.\n",
    "\n",
    "**Например, если в столбце `purpose` находится подстрока `'на покупку автомобиля'`, то в столбце `purpose_category` должна появиться строка `'операции с автомобилем'`.**\n",
    "\n",
    "**Используйте собственную функцию с именем `categorize_purpose()` и метод `apply()`. Изучите данные в столбце `purpose` и определите, какие подстроки помогут вам правильно определить категорию.**"
   ]
  },
  {
   "cell_type": "code",
   "execution_count": 20,
   "id": "3b081886",
   "metadata": {
    "deletable": false,
    "id": "e149fab4"
   },
   "outputs": [],
   "source": [
    "def categorize_purpose(row):\n",
    "    try:\n",
    "        if 'автом' in row:\n",
    "            return 'операции с автомобилем'\n",
    "        elif 'жил' in row or 'недвиж' in row:\n",
    "            return 'операции с недвижимостью'\n",
    "        elif 'свад' in row:\n",
    "            return 'проведение свадьбы'\n",
    "        elif 'образов' in row:\n",
    "            return 'получение образования'\n",
    "    except:\n",
    "        return 'нет категории'"
   ]
  },
  {
   "cell_type": "code",
   "execution_count": 21,
   "id": "d1f4231b",
   "metadata": {
    "deletable": false,
    "id": "bf36e69b"
   },
   "outputs": [],
   "source": [
    "data['purpose_category'] = data['purpose'].apply(categorize_purpose)"
   ]
  },
  {
   "cell_type": "markdown",
   "id": "b159da50",
   "metadata": {},
   "source": [
    "## Шаг 3. Исследуйте данные и ответьте на вопросы"
   ]
  },
  {
   "cell_type": "markdown",
   "id": "d5713e1d",
   "metadata": {
    "deletable": false,
    "editable": false,
    "id": "09b242bf"
   },
   "source": [
    "### Шаг 3. Исследуйте данные и ответьте на вопросы"
   ]
  },
  {
   "cell_type": "markdown",
   "id": "81cec46b",
   "metadata": {
    "deletable": false,
    "editable": false,
    "id": "c5d66278"
   },
   "source": [
    "#### 3.1 Есть ли зависимость между количеством детей и возвратом кредита в срок?"
   ]
  },
  {
   "cell_type": "code",
   "execution_count": 22,
   "id": "150c096f",
   "metadata": {
    "deletable": false,
    "id": "2cacfc4a"
   },
   "outputs": [
    {
     "data": {
      "text/html": [
       "<div>\n",
       "<style scoped>\n",
       "    .dataframe tbody tr th:only-of-type {\n",
       "        vertical-align: middle;\n",
       "    }\n",
       "\n",
       "    .dataframe tbody tr th {\n",
       "        vertical-align: top;\n",
       "    }\n",
       "\n",
       "    .dataframe thead th {\n",
       "        text-align: right;\n",
       "    }\n",
       "</style>\n",
       "<table border=\"1\" class=\"dataframe\">\n",
       "  <thead>\n",
       "    <tr style=\"text-align: right;\">\n",
       "      <th></th>\n",
       "      <th>count_children</th>\n",
       "      <th>sum_children</th>\n",
       "      <th>result_children</th>\n",
       "    </tr>\n",
       "    <tr>\n",
       "      <th>children</th>\n",
       "      <th></th>\n",
       "      <th></th>\n",
       "      <th></th>\n",
       "    </tr>\n",
       "  </thead>\n",
       "  <tbody>\n",
       "    <tr>\n",
       "      <th>5</th>\n",
       "      <td>9</td>\n",
       "      <td>0</td>\n",
       "      <td>0.000</td>\n",
       "    </tr>\n",
       "    <tr>\n",
       "      <th>0</th>\n",
       "      <td>14091</td>\n",
       "      <td>1063</td>\n",
       "      <td>0.075</td>\n",
       "    </tr>\n",
       "    <tr>\n",
       "      <th>3</th>\n",
       "      <td>330</td>\n",
       "      <td>27</td>\n",
       "      <td>0.082</td>\n",
       "    </tr>\n",
       "    <tr>\n",
       "      <th>1</th>\n",
       "      <td>4808</td>\n",
       "      <td>444</td>\n",
       "      <td>0.092</td>\n",
       "    </tr>\n",
       "    <tr>\n",
       "      <th>2</th>\n",
       "      <td>2052</td>\n",
       "      <td>194</td>\n",
       "      <td>0.095</td>\n",
       "    </tr>\n",
       "    <tr>\n",
       "      <th>4</th>\n",
       "      <td>41</td>\n",
       "      <td>4</td>\n",
       "      <td>0.098</td>\n",
       "    </tr>\n",
       "  </tbody>\n",
       "</table>\n",
       "</div>"
      ],
      "text/plain": [
       "          count_children  sum_children  result_children\n",
       "children                                               \n",
       "5                      9             0            0.000\n",
       "0                  14091          1063            0.075\n",
       "3                    330            27            0.082\n",
       "1                   4808           444            0.092\n",
       "2                   2052           194            0.095\n",
       "4                     41             4            0.098"
      ]
     },
     "execution_count": 22,
     "metadata": {},
     "output_type": "execute_result"
    }
   ],
   "source": [
    "# Создаем таблицу\n",
    "debt_from_children = pd.DataFrame()\n",
    "# Создаем столбцы\n",
    "debt_from_children['count_children'] = data.groupby('children')['debt'].count()\n",
    "debt_from_children['sum_children'] = data.groupby('children')['debt'].sum()\n",
    "# Считаем долю\n",
    "debt_from_children['result_children'] = round(debt_from_children['sum_children'] / \n",
    "                                              debt_from_children['count_children'], 3) \n",
    "# Сортируем по столбцу доля лолжников по возрастанию\n",
    "debt_from_children.sort_values('result_children', ascending = True)\n",
    "# Ваш код будет здесь. Вы можете создавать новые ячейки."
   ]
  },
  {
   "cell_type": "markdown",
   "id": "d0089313",
   "metadata": {
    "deletable": false,
    "id": "3a6b99ec"
   },
   "source": [
    "**Вывод:** \n",
    "     Зависимость между количествов кредитов и возвратом в срок кредита имеется, но не сильная. \n",
    "     У людей без детей меньше просрочек по кредиту, что говорит о том что они более платежеспособны.\n",
    "     Люди, у которых 1-2 ребенка, допускают практически одинаковую просрочку по кредитам.\n",
    "     Клиенты у которых 3-ое детей меньше допускают чем остальные, возможно связано это с более ответственным подходом к оформлению кредита. \n",
    "     Семьи с 4 детьми допускают наибольший процент невозвратности кредитов, возможно, ввиду серьезной финансовой нагрузки.\n",
    "     У людей имеющих 5 детей не имеется просрочки в данной выборке, возможно из за малого количества таких семей, так как финансовая нагрузка должна быть в сравнении с семьями с 3 или 4 детьми.\n"
   ]
  },
  {
   "cell_type": "markdown",
   "id": "5cab7954",
   "metadata": {
    "deletable": false,
    "editable": false,
    "id": "97be82ca"
   },
   "source": [
    "#### 3.2 Есть ли зависимость между семейным положением и возвратом кредита в срок?"
   ]
  },
  {
   "cell_type": "code",
   "execution_count": 23,
   "id": "de61ed84",
   "metadata": {
    "deletable": false,
    "id": "dc3f7ee8"
   },
   "outputs": [
    {
     "data": {
      "text/html": [
       "<div>\n",
       "<style scoped>\n",
       "    .dataframe tbody tr th:only-of-type {\n",
       "        vertical-align: middle;\n",
       "    }\n",
       "\n",
       "    .dataframe tbody tr th {\n",
       "        vertical-align: top;\n",
       "    }\n",
       "\n",
       "    .dataframe thead th {\n",
       "        text-align: right;\n",
       "    }\n",
       "</style>\n",
       "<table border=\"1\" class=\"dataframe\">\n",
       "  <thead>\n",
       "    <tr style=\"text-align: right;\">\n",
       "      <th></th>\n",
       "      <th>sum_family_status</th>\n",
       "      <th>count_family_status</th>\n",
       "      <th>result_family_status</th>\n",
       "    </tr>\n",
       "    <tr>\n",
       "      <th>family_status</th>\n",
       "      <th></th>\n",
       "      <th></th>\n",
       "      <th></th>\n",
       "    </tr>\n",
       "  </thead>\n",
       "  <tbody>\n",
       "    <tr>\n",
       "      <th>вдовец / вдова</th>\n",
       "      <td>63</td>\n",
       "      <td>951</td>\n",
       "      <td>0.066</td>\n",
       "    </tr>\n",
       "    <tr>\n",
       "      <th>в разводе</th>\n",
       "      <td>84</td>\n",
       "      <td>1189</td>\n",
       "      <td>0.071</td>\n",
       "    </tr>\n",
       "    <tr>\n",
       "      <th>женат / замужем</th>\n",
       "      <td>927</td>\n",
       "      <td>12261</td>\n",
       "      <td>0.076</td>\n",
       "    </tr>\n",
       "    <tr>\n",
       "      <th>гражданский брак</th>\n",
       "      <td>385</td>\n",
       "      <td>4134</td>\n",
       "      <td>0.093</td>\n",
       "    </tr>\n",
       "    <tr>\n",
       "      <th>Не женат / не замужем</th>\n",
       "      <td>273</td>\n",
       "      <td>2796</td>\n",
       "      <td>0.098</td>\n",
       "    </tr>\n",
       "  </tbody>\n",
       "</table>\n",
       "</div>"
      ],
      "text/plain": [
       "                       sum_family_status  count_family_status  \\\n",
       "family_status                                                   \n",
       "вдовец / вдова                        63                  951   \n",
       "в разводе                             84                 1189   \n",
       "женат / замужем                      927                12261   \n",
       "гражданский брак                     385                 4134   \n",
       "Не женат / не замужем                273                 2796   \n",
       "\n",
       "                       result_family_status  \n",
       "family_status                                \n",
       "вдовец / вдова                        0.066  \n",
       "в разводе                             0.071  \n",
       "женат / замужем                       0.076  \n",
       "гражданский брак                      0.093  \n",
       "Не женат / не замужем                 0.098  "
      ]
     },
     "execution_count": 23,
     "metadata": {},
     "output_type": "execute_result"
    }
   ],
   "source": [
    "# Создаем таблицу\n",
    "debt_from_family_status = pd.DataFrame()\n",
    "# Создаем столбцы\n",
    "debt_from_family_status['sum_family_status'] = data.groupby('family_status')['debt'].sum()\n",
    "debt_from_family_status['count_family_status'] = data.groupby('family_status')['debt'].count()\n",
    "# Считаем долю\n",
    "debt_from_family_status['result_family_status'] = round(debt_from_family_status['sum_family_status'] / \n",
    "                                                        debt_from_family_status['count_family_status'], 3) \n",
    "# Сортируем по столбцу доля лолжников по возрастанию\n",
    "debt_from_family_status.sort_values('result_family_status', ascending = True)\n",
    "# Ваш код будет здесь. Вы можете создавать новые ячейки."
   ]
  },
  {
   "cell_type": "markdown",
   "id": "95968bab",
   "metadata": {
    "deletable": false,
    "id": "1cef7837"
   },
   "source": [
    "**Вывод:** \n",
    "     Люди, относящиеся к категории вдовцы и в разводе, имеют меньше просрочек по кредиту, можно выделить ряд причин: финансовая самоятоятельность, возраст, ответсвенность.\n",
    "     Люди, которые находятся в браке, имеют чуть большую долю невозвратных кредитов. Здесь возможны такие факторы, как наличие детей и финансовые трудности.\n",
    "     Люди в гражданском браке и люди, не состоящие в браке, имеют самую низкую долю возвратности кредитов. Причины этому могут быть разные: наличие детей, молодой возраст, недостаточный доход, слабая ответственность и прочее.\n"
   ]
  },
  {
   "cell_type": "markdown",
   "id": "d139dbe6",
   "metadata": {
    "deletable": false,
    "editable": false,
    "id": "1e8b2fca"
   },
   "source": [
    "#### 3.3 Есть ли зависимость между уровнем дохода и возвратом кредита в срок?"
   ]
  },
  {
   "cell_type": "code",
   "execution_count": 24,
   "id": "d8866754",
   "metadata": {
    "deletable": false,
    "id": "cd7e3720"
   },
   "outputs": [
    {
     "data": {
      "text/html": [
       "<div>\n",
       "<style scoped>\n",
       "    .dataframe tbody tr th:only-of-type {\n",
       "        vertical-align: middle;\n",
       "    }\n",
       "\n",
       "    .dataframe tbody tr th {\n",
       "        vertical-align: top;\n",
       "    }\n",
       "\n",
       "    .dataframe thead th {\n",
       "        text-align: right;\n",
       "    }\n",
       "</style>\n",
       "<table border=\"1\" class=\"dataframe\">\n",
       "  <thead>\n",
       "    <tr style=\"text-align: right;\">\n",
       "      <th></th>\n",
       "      <th>sum</th>\n",
       "      <th>count</th>\n",
       "      <th>conversion</th>\n",
       "    </tr>\n",
       "    <tr>\n",
       "      <th>total_income_id</th>\n",
       "      <th></th>\n",
       "      <th></th>\n",
       "      <th></th>\n",
       "    </tr>\n",
       "  </thead>\n",
       "  <tbody>\n",
       "    <tr>\n",
       "      <th>D</th>\n",
       "      <td>21</td>\n",
       "      <td>349</td>\n",
       "      <td>0.060</td>\n",
       "    </tr>\n",
       "    <tr>\n",
       "      <th>B</th>\n",
       "      <td>354</td>\n",
       "      <td>5014</td>\n",
       "      <td>0.071</td>\n",
       "    </tr>\n",
       "    <tr>\n",
       "      <th>A</th>\n",
       "      <td>2</td>\n",
       "      <td>25</td>\n",
       "      <td>0.080</td>\n",
       "    </tr>\n",
       "    <tr>\n",
       "      <th>C</th>\n",
       "      <td>1353</td>\n",
       "      <td>15921</td>\n",
       "      <td>0.085</td>\n",
       "    </tr>\n",
       "    <tr>\n",
       "      <th>E</th>\n",
       "      <td>2</td>\n",
       "      <td>22</td>\n",
       "      <td>0.091</td>\n",
       "    </tr>\n",
       "  </tbody>\n",
       "</table>\n",
       "</div>"
      ],
      "text/plain": [
       "                  sum  count  conversion\n",
       "total_income_id                         \n",
       "D                  21    349       0.060\n",
       "B                 354   5014       0.071\n",
       "A                   2     25       0.080\n",
       "C                1353  15921       0.085\n",
       "E                   2     22       0.091"
      ]
     },
     "execution_count": 24,
     "metadata": {},
     "output_type": "execute_result"
    }
   ],
   "source": [
    "# Создаем таблицу\n",
    "debt_from_total_income = pd.DataFrame()\n",
    "data['total_income_id'] = data['total_income_category']\n",
    "# Создаем столбцы\n",
    "debt_from_total_income['sum'] = data.groupby('total_income_id')['debt'].sum()\n",
    "debt_from_total_income['count'] = data.groupby('total_income_id')['debt'].count()\n",
    "# Считаем долю\n",
    "debt_from_total_income['conversion'] = round(debt_from_total_income['sum'] / \n",
    "                                             debt_from_total_income['count'],3)\n",
    "# Сортируем по столбцу доля лолжников по возрастанию\n",
    "debt_from_total_income.sort_values('conversion', ascending = True)\n",
    "# Ваш код будет здесь. Вы можете создавать новые ячейки."
   ]
  },
  {
   "cell_type": "markdown",
   "id": "9ba1acb7",
   "metadata": {
    "deletable": false,
    "id": "e8593def"
   },
   "source": [
    "**Вывод:** \n",
    "Самая высокая вероятность не вернуть кредит у людей с доходом до 30 тысяч, связано с низкой платежеспособностью и другими обременениями.  \n",
    "Самая низкая вероятность не вернуть кредит у людей с доходностью от 30 до 50 тысяч, скромные доходы не позволяют клиентам переплачивать за кредит и платить не устойки, поэтому клиенты более дисциплинированные и ответственные.\n",
    "Но, если убрать из выборки клиентов категории А и Е, всвязи с тем что количество таких клиентов гораздо меньше чем остальных категориях, и результат может поменяться очень сильно даже из за одного клиента, то клиенты категории С доход которых  от 50 до 200 имеют высокую вероятность, относительно остальных, не вернуть кредит. Возможно, это объясняется тем, что это основная масса людей, которые имеют семью, детей, дополнительные обязательства, в случаи недобровольной потери работы невсегда можно быстро найти новую работу с таким же доходом."
   ]
  },
  {
   "cell_type": "markdown",
   "id": "235eb20f",
   "metadata": {
    "deletable": false,
    "editable": false,
    "id": "99ecbd1f"
   },
   "source": [
    "#### 3.4 Как разные цели кредита влияют на его возврат в срок?"
   ]
  },
  {
   "cell_type": "code",
   "execution_count": 25,
   "id": "bbcea095",
   "metadata": {
    "deletable": false,
    "id": "2b687290"
   },
   "outputs": [
    {
     "data": {
      "text/html": [
       "<div>\n",
       "<style scoped>\n",
       "    .dataframe tbody tr th:only-of-type {\n",
       "        vertical-align: middle;\n",
       "    }\n",
       "\n",
       "    .dataframe tbody tr th {\n",
       "        vertical-align: top;\n",
       "    }\n",
       "\n",
       "    .dataframe thead th {\n",
       "        text-align: right;\n",
       "    }\n",
       "</style>\n",
       "<table border=\"1\" class=\"dataframe\">\n",
       "  <thead>\n",
       "    <tr style=\"text-align: right;\">\n",
       "      <th></th>\n",
       "      <th>sum_purpose_category</th>\n",
       "      <th>count_purpose_category</th>\n",
       "      <th>result_purpose_category</th>\n",
       "    </tr>\n",
       "    <tr>\n",
       "      <th>purpose_category</th>\n",
       "      <th></th>\n",
       "      <th></th>\n",
       "      <th></th>\n",
       "    </tr>\n",
       "  </thead>\n",
       "  <tbody>\n",
       "    <tr>\n",
       "      <th>операции с недвижимостью</th>\n",
       "      <td>780</td>\n",
       "      <td>10751</td>\n",
       "      <td>0.073</td>\n",
       "    </tr>\n",
       "    <tr>\n",
       "      <th>проведение свадьбы</th>\n",
       "      <td>183</td>\n",
       "      <td>2313</td>\n",
       "      <td>0.079</td>\n",
       "    </tr>\n",
       "    <tr>\n",
       "      <th>операции с автомобилем</th>\n",
       "      <td>400</td>\n",
       "      <td>4279</td>\n",
       "      <td>0.093</td>\n",
       "    </tr>\n",
       "    <tr>\n",
       "      <th>получение образования</th>\n",
       "      <td>369</td>\n",
       "      <td>3988</td>\n",
       "      <td>0.093</td>\n",
       "    </tr>\n",
       "  </tbody>\n",
       "</table>\n",
       "</div>"
      ],
      "text/plain": [
       "                          sum_purpose_category  count_purpose_category  \\\n",
       "purpose_category                                                         \n",
       "операции с недвижимостью                   780                   10751   \n",
       "проведение свадьбы                         183                    2313   \n",
       "операции с автомобилем                     400                    4279   \n",
       "получение образования                      369                    3988   \n",
       "\n",
       "                          result_purpose_category  \n",
       "purpose_category                                   \n",
       "операции с недвижимостью                    0.073  \n",
       "проведение свадьбы                          0.079  \n",
       "операции с автомобилем                      0.093  \n",
       "получение образования                       0.093  "
      ]
     },
     "execution_count": 25,
     "metadata": {},
     "output_type": "execute_result"
    }
   ],
   "source": [
    "# Создаем таблицу\n",
    "debt_from_purpose_category = pd.DataFrame()\n",
    "# Создаем столбцы\n",
    "debt_from_purpose_category['sum_purpose_category'] = data.groupby('purpose_category')['debt'].sum()\n",
    "debt_from_purpose_category['count_purpose_category'] = data.groupby('purpose_category')['debt'].count()\n",
    "# Считаем долю\n",
    "debt_from_purpose_category['result_purpose_category'] = round(debt_from_purpose_category['sum_purpose_category'] / \n",
    "                                                              debt_from_purpose_category['count_purpose_category'],3) \n",
    "debt_from_purpose_category.sort_values('result_purpose_category', ascending = True)\n",
    "# Ваш код будет здесь. Вы можете создавать новые ячейки."
   ]
  },
  {
   "cell_type": "markdown",
   "id": "136b081f",
   "metadata": {
    "deletable": false,
    "id": "b4bb2ce6"
   },
   "source": [
    "**Вывод:** \n",
    " Возврат кредита выше при покупки квартиры и проведения свадьбы, данные покупки не являются спонтаными и требуют серьезного подхода, как следствие клиенты более ответственно и дисцплинировано подходят к кредиту, так же в вопросе свадьбой решают два человека в семье, и в большинстве случаев с квартирой решают вопрос с семьей. Покупка автомобиля и получения образования существенно ниже стоимости квартиры, поэтому здесь могут подойти к оформлению кредита менее ответственно."
   ]
  },
  {
   "cell_type": "markdown",
   "id": "2ba66ad0",
   "metadata": {
    "deletable": false,
    "editable": false,
    "id": "09c3ac4c"
   },
   "source": [
    "#### 3.5 Приведите возможные причины появления пропусков в исходных данных."
   ]
  },
  {
   "cell_type": "markdown",
   "id": "7e3de7a5",
   "metadata": {
    "deletable": false,
    "id": "9da2ceda"
   },
   "source": [
    "*Ответ:* пропуски здесь были в столбцах days_employed - общий трудовой стаж в днях  и total_income - ежемесячный доход. В первую очередь, человеческий фактор, кто-то, возможно, не захотел отвечать. Такж стоит отметить, что количество пропусков в столбцах одинаковы, можно сделать вывод, что заполнение одного из столбцов влияет на заполненность другого столбца, или техническая ошибка произошла."
   ]
  },
  {
   "cell_type": "markdown",
   "id": "bf774164",
   "metadata": {
    "deletable": false,
    "editable": false,
    "id": "7b0487d6"
   },
   "source": [
    "#### 3.6 Объясните, почему заполнить пропуски медианным значением — лучшее решение для количественных переменных."
   ]
  },
  {
   "cell_type": "markdown",
   "id": "45087704",
   "metadata": {
    "deletable": false,
    "id": "7ecf2b8e"
   },
   "source": [
    "*Ответ:* медианное значение лучше всего отражает выборку в целом, в случае, если есть незаполненные данные. Среднее арифметическое отражает ситуацию некорректно, так как не учитывает разброс данных."
   ]
  },
  {
   "cell_type": "markdown",
   "id": "640aac1e",
   "metadata": {
    "deletable": false,
    "editable": false,
    "id": "6db5255a"
   },
   "source": [
    "### Шаг 4: общий вывод."
   ]
  },
  {
   "cell_type": "markdown",
   "id": "ae3bf04f",
   "metadata": {
    "deletable": false,
    "id": "bad65432"
   },
   "source": [
    "\n",
    "При иследовании надежности заемщиков были предобработаны данные. В таблице были обнаружены пропуски в разделах о доходах и трудовом стаже, причинами появления которых могут быть: неверный ввод данных, сокрытие информации, повреждение файла данных при сохранении, технические проблемы. Заполнение пропусков для количественных переменных медианой является лучшим решением из-за устойчивости медианы к выбросам и аномальным значениям. Так же в таблице были исправлены или убраны аномальные значения, проведена категоризация данных по доходам и целям кредитования.\n",
    "\n",
    "В целом можно сделать вывод:\n",
    "\n",
    "    - 1) Клиенты без детей имеют меньшую  вероятность задолжености 7,5% в сравнению с семьями детьми 9,2% - 9,5%\n",
    "    - 2) Холостые и живущие в гражданском браке пары больше подвержены риску стать должниками 9,8% - 9,3%, чем люди, относящиеся к категории вдовцы и в разводе 6,6% - 7,1%.\n",
    "    - 3) Категория людей со средним доходом (30–50 тыс. руб.) меньше подвержены риску стать должниками 6%, чем клиенты с доходностью от 50 до 200 тысяч 8,5%\n",
    "    - 4) Клиенты, берущие кредиты на свадьбу или квартиру меньше подвержены риску стать должниками 7,3%-7,9%, нежели клиенты берущие кредит на образование или на автомобиль 9,3%. \n",
    "    \n",
    "Люди, которые с наибольшей вероятностью допустят просрочку по кредиту, вероятно, будут иметь детей, возможно будут состоять в гражданском браке, а более вероятно, что не будут состоять в браке вовсе, и их доход будет существенно низок. Также, возможно, что целью кредита будет получение образования или покупка автомобиля, а также прочие относительно невысокие по стоимости товары и услуги. Совпадение нескольких факторов может говорить о том, что в будущем возможны просрочки по кредиту. \n",
    "    "
   ]
  }
 ],
 "metadata": {
  "ExecuteTimeLog": [
   {
    "duration": 52,
    "start_time": "2023-05-03T03:07:18.650Z"
   },
   {
    "duration": 717,
    "start_time": "2023-05-03T03:08:49.220Z"
   },
   {
    "duration": 21,
    "start_time": "2023-05-03T03:08:49.939Z"
   },
   {
    "duration": 14,
    "start_time": "2023-05-03T03:08:49.961Z"
   },
   {
    "duration": 10,
    "start_time": "2023-05-03T03:08:49.977Z"
   },
   {
    "duration": 48,
    "start_time": "2023-05-03T03:08:49.988Z"
   },
   {
    "duration": 4,
    "start_time": "2023-05-03T03:08:50.037Z"
   },
   {
    "duration": 26,
    "start_time": "2023-05-03T03:08:50.042Z"
   },
   {
    "duration": 13,
    "start_time": "2023-05-03T03:08:50.069Z"
   },
   {
    "duration": 16,
    "start_time": "2023-05-03T03:08:50.084Z"
   },
   {
    "duration": 9,
    "start_time": "2023-05-03T03:08:50.104Z"
   },
   {
    "duration": 39,
    "start_time": "2023-05-03T03:08:50.115Z"
   },
   {
    "duration": 8,
    "start_time": "2023-05-03T03:08:50.156Z"
   },
   {
    "duration": 15,
    "start_time": "2023-05-03T03:08:50.166Z"
   },
   {
    "duration": 22,
    "start_time": "2023-05-03T03:08:50.182Z"
   },
   {
    "duration": 22,
    "start_time": "2023-05-03T03:08:50.206Z"
   },
   {
    "duration": 18,
    "start_time": "2023-05-03T03:08:50.230Z"
   },
   {
    "duration": 3,
    "start_time": "2023-05-03T03:08:50.250Z"
   },
   {
    "duration": 23,
    "start_time": "2023-05-03T03:08:50.255Z"
   },
   {
    "duration": 10,
    "start_time": "2023-05-03T03:08:50.280Z"
   },
   {
    "duration": 25,
    "start_time": "2023-05-03T03:08:50.291Z"
   },
   {
    "duration": 37,
    "start_time": "2023-05-03T03:08:50.317Z"
   },
   {
    "duration": 25,
    "start_time": "2023-05-03T03:08:50.355Z"
   },
   {
    "duration": 3,
    "start_time": "2023-05-03T03:08:50.381Z"
   },
   {
    "duration": 9,
    "start_time": "2023-05-03T03:08:50.385Z"
   },
   {
    "duration": 11,
    "start_time": "2023-05-03T03:08:50.395Z"
   },
   {
    "duration": 19,
    "start_time": "2023-05-03T03:34:01.202Z"
   },
   {
    "duration": 19,
    "start_time": "2023-05-03T03:47:16.844Z"
   },
   {
    "duration": 444,
    "start_time": "2023-05-03T03:53:16.772Z"
   },
   {
    "duration": 21,
    "start_time": "2023-05-03T03:53:17.218Z"
   },
   {
    "duration": 18,
    "start_time": "2023-05-03T03:53:17.241Z"
   },
   {
    "duration": 10,
    "start_time": "2023-05-03T03:53:17.262Z"
   },
   {
    "duration": 40,
    "start_time": "2023-05-03T03:53:17.273Z"
   },
   {
    "duration": 21,
    "start_time": "2023-05-03T03:53:17.315Z"
   },
   {
    "duration": 15,
    "start_time": "2023-05-03T03:53:17.337Z"
   },
   {
    "duration": 5,
    "start_time": "2023-05-03T03:53:17.353Z"
   },
   {
    "duration": 9,
    "start_time": "2023-05-03T03:53:17.359Z"
   },
   {
    "duration": 4,
    "start_time": "2023-05-03T03:53:17.370Z"
   },
   {
    "duration": 34,
    "start_time": "2023-05-03T03:53:17.376Z"
   },
   {
    "duration": 31,
    "start_time": "2023-05-03T03:53:17.412Z"
   },
   {
    "duration": 4,
    "start_time": "2023-05-03T03:53:17.444Z"
   },
   {
    "duration": 13,
    "start_time": "2023-05-03T03:53:17.449Z"
   },
   {
    "duration": 23,
    "start_time": "2023-05-03T03:53:17.464Z"
   },
   {
    "duration": 17,
    "start_time": "2023-05-03T03:53:17.488Z"
   },
   {
    "duration": 29,
    "start_time": "2023-05-03T03:53:17.506Z"
   },
   {
    "duration": 10,
    "start_time": "2023-05-03T03:53:17.536Z"
   },
   {
    "duration": 10,
    "start_time": "2023-05-03T03:53:17.548Z"
   },
   {
    "duration": 4,
    "start_time": "2023-05-03T03:53:17.560Z"
   },
   {
    "duration": 13,
    "start_time": "2023-05-03T03:53:17.566Z"
   },
   {
    "duration": 38,
    "start_time": "2023-05-03T03:53:17.581Z"
   },
   {
    "duration": 25,
    "start_time": "2023-05-03T03:53:17.634Z"
   },
   {
    "duration": 26,
    "start_time": "2023-05-03T03:53:17.661Z"
   },
   {
    "duration": 24,
    "start_time": "2023-05-03T03:53:17.688Z"
   },
   {
    "duration": 466,
    "start_time": "2023-05-03T03:53:48.847Z"
   },
   {
    "duration": 27,
    "start_time": "2023-05-03T03:53:49.315Z"
   },
   {
    "duration": 20,
    "start_time": "2023-05-03T03:53:49.344Z"
   },
   {
    "duration": 9,
    "start_time": "2023-05-03T03:53:49.367Z"
   },
   {
    "duration": 42,
    "start_time": "2023-05-03T03:53:49.377Z"
   },
   {
    "duration": 3,
    "start_time": "2023-05-03T03:53:49.435Z"
   },
   {
    "duration": 10,
    "start_time": "2023-05-03T03:53:49.440Z"
   },
   {
    "duration": 4,
    "start_time": "2023-05-03T03:53:49.452Z"
   },
   {
    "duration": 17,
    "start_time": "2023-05-03T03:53:49.457Z"
   },
   {
    "duration": 4,
    "start_time": "2023-05-03T03:53:49.478Z"
   },
   {
    "duration": 55,
    "start_time": "2023-05-03T03:53:49.484Z"
   },
   {
    "duration": 10,
    "start_time": "2023-05-03T03:53:49.540Z"
   },
   {
    "duration": 7,
    "start_time": "2023-05-03T03:53:49.552Z"
   },
   {
    "duration": 15,
    "start_time": "2023-05-03T03:53:49.560Z"
   },
   {
    "duration": 24,
    "start_time": "2023-05-03T03:53:49.576Z"
   },
   {
    "duration": 42,
    "start_time": "2023-05-03T03:53:49.601Z"
   },
   {
    "duration": 4,
    "start_time": "2023-05-03T03:53:49.644Z"
   },
   {
    "duration": 17,
    "start_time": "2023-05-03T03:53:49.649Z"
   },
   {
    "duration": 8,
    "start_time": "2023-05-03T03:53:49.668Z"
   },
   {
    "duration": 5,
    "start_time": "2023-05-03T03:53:49.677Z"
   },
   {
    "duration": 15,
    "start_time": "2023-05-03T03:53:49.683Z"
   },
   {
    "duration": 39,
    "start_time": "2023-05-03T03:53:49.699Z"
   },
   {
    "duration": 20,
    "start_time": "2023-05-03T03:53:49.739Z"
   },
   {
    "duration": 18,
    "start_time": "2023-05-03T03:53:49.760Z"
   },
   {
    "duration": 19,
    "start_time": "2023-05-03T03:53:49.779Z"
   },
   {
    "duration": 50,
    "start_time": "2023-05-03T18:49:25.941Z"
   },
   {
    "duration": 723,
    "start_time": "2023-05-03T18:49:35.655Z"
   },
   {
    "duration": 23,
    "start_time": "2023-05-03T18:49:36.380Z"
   },
   {
    "duration": 15,
    "start_time": "2023-05-03T18:49:36.405Z"
   },
   {
    "duration": 10,
    "start_time": "2023-05-03T18:49:36.422Z"
   },
   {
    "duration": 45,
    "start_time": "2023-05-03T18:49:36.435Z"
   },
   {
    "duration": 4,
    "start_time": "2023-05-03T18:49:36.481Z"
   },
   {
    "duration": 11,
    "start_time": "2023-05-03T18:49:36.487Z"
   },
   {
    "duration": 4,
    "start_time": "2023-05-03T18:49:36.499Z"
   },
   {
    "duration": 14,
    "start_time": "2023-05-03T18:49:36.505Z"
   },
   {
    "duration": 4,
    "start_time": "2023-05-03T18:49:36.520Z"
   },
   {
    "duration": 33,
    "start_time": "2023-05-03T18:49:36.548Z"
   },
   {
    "duration": 11,
    "start_time": "2023-05-03T18:49:36.582Z"
   },
   {
    "duration": 4,
    "start_time": "2023-05-03T18:49:36.595Z"
   },
   {
    "duration": 12,
    "start_time": "2023-05-03T18:49:36.601Z"
   },
   {
    "duration": 50,
    "start_time": "2023-05-03T18:49:36.615Z"
   },
   {
    "duration": 16,
    "start_time": "2023-05-03T18:49:36.667Z"
   },
   {
    "duration": 3,
    "start_time": "2023-05-03T18:49:36.685Z"
   },
   {
    "duration": 20,
    "start_time": "2023-05-03T18:49:36.689Z"
   },
   {
    "duration": 6,
    "start_time": "2023-05-03T18:49:36.710Z"
   },
   {
    "duration": 5,
    "start_time": "2023-05-03T18:49:36.717Z"
   },
   {
    "duration": 29,
    "start_time": "2023-05-03T18:49:36.723Z"
   },
   {
    "duration": 69,
    "start_time": "2023-05-03T18:49:36.753Z"
   },
   {
    "duration": 1,
    "start_time": "2023-05-03T18:49:36.823Z"
   },
   {
    "duration": 0,
    "start_time": "2023-05-03T18:49:36.824Z"
   },
   {
    "duration": 0,
    "start_time": "2023-05-03T18:49:36.825Z"
   },
   {
    "duration": 13,
    "start_time": "2023-05-03T18:50:28.078Z"
   },
   {
    "duration": 12,
    "start_time": "2023-05-03T18:51:36.904Z"
   },
   {
    "duration": 16,
    "start_time": "2023-05-03T18:56:06.275Z"
   },
   {
    "duration": 15,
    "start_time": "2023-05-03T18:56:13.602Z"
   },
   {
    "duration": 14,
    "start_time": "2023-05-03T18:56:29.756Z"
   },
   {
    "duration": 13,
    "start_time": "2023-05-03T18:57:01.237Z"
   },
   {
    "duration": 16,
    "start_time": "2023-05-03T19:01:35.584Z"
   },
   {
    "duration": 16,
    "start_time": "2023-05-03T19:02:04.120Z"
   },
   {
    "duration": 16,
    "start_time": "2023-05-03T19:03:11.207Z"
   },
   {
    "duration": 23,
    "start_time": "2023-05-03T19:05:25.754Z"
   },
   {
    "duration": 10,
    "start_time": "2023-05-03T19:07:50.176Z"
   },
   {
    "duration": 12,
    "start_time": "2023-05-03T19:08:02.858Z"
   },
   {
    "duration": 8,
    "start_time": "2023-05-03T19:08:54.400Z"
   },
   {
    "duration": 24,
    "start_time": "2023-05-03T19:09:17.499Z"
   },
   {
    "duration": 13,
    "start_time": "2023-05-03T19:09:42.137Z"
   },
   {
    "duration": 12,
    "start_time": "2023-05-03T19:13:18.045Z"
   },
   {
    "duration": 9,
    "start_time": "2023-05-03T19:14:19.284Z"
   },
   {
    "duration": 21,
    "start_time": "2023-05-03T19:14:27.288Z"
   },
   {
    "duration": 1384,
    "start_time": "2023-05-03T19:15:01.508Z"
   },
   {
    "duration": 16,
    "start_time": "2023-05-03T19:15:23.962Z"
   },
   {
    "duration": 17,
    "start_time": "2023-05-03T19:15:40.338Z"
   },
   {
    "duration": 14,
    "start_time": "2023-05-03T19:16:12.640Z"
   },
   {
    "duration": 18,
    "start_time": "2023-05-03T19:16:23.785Z"
   },
   {
    "duration": 14,
    "start_time": "2023-05-03T19:16:28.911Z"
   },
   {
    "duration": 15,
    "start_time": "2023-05-03T19:17:10.293Z"
   },
   {
    "duration": 15,
    "start_time": "2023-05-03T19:18:20.985Z"
   },
   {
    "duration": 16,
    "start_time": "2023-05-03T19:38:15.442Z"
   },
   {
    "duration": 16,
    "start_time": "2023-05-03T19:40:03.269Z"
   },
   {
    "duration": 18,
    "start_time": "2023-05-03T20:16:46.276Z"
   },
   {
    "duration": 16,
    "start_time": "2023-05-03T20:17:07.017Z"
   },
   {
    "duration": 14,
    "start_time": "2023-05-03T20:17:16.132Z"
   },
   {
    "duration": 424,
    "start_time": "2023-05-03T20:17:48.003Z"
   },
   {
    "duration": 21,
    "start_time": "2023-05-03T20:17:48.429Z"
   },
   {
    "duration": 15,
    "start_time": "2023-05-03T20:17:48.452Z"
   },
   {
    "duration": 9,
    "start_time": "2023-05-03T20:17:48.470Z"
   },
   {
    "duration": 38,
    "start_time": "2023-05-03T20:17:48.480Z"
   },
   {
    "duration": 3,
    "start_time": "2023-05-03T20:17:48.520Z"
   },
   {
    "duration": 27,
    "start_time": "2023-05-03T20:17:48.525Z"
   },
   {
    "duration": 7,
    "start_time": "2023-05-03T20:17:48.554Z"
   },
   {
    "duration": 9,
    "start_time": "2023-05-03T20:17:48.562Z"
   },
   {
    "duration": 5,
    "start_time": "2023-05-03T20:17:48.574Z"
   },
   {
    "duration": 30,
    "start_time": "2023-05-03T20:17:48.581Z"
   },
   {
    "duration": 8,
    "start_time": "2023-05-03T20:17:48.613Z"
   },
   {
    "duration": 4,
    "start_time": "2023-05-03T20:17:48.622Z"
   },
   {
    "duration": 12,
    "start_time": "2023-05-03T20:17:48.649Z"
   },
   {
    "duration": 26,
    "start_time": "2023-05-03T20:17:48.662Z"
   },
   {
    "duration": 16,
    "start_time": "2023-05-03T20:17:48.690Z"
   },
   {
    "duration": 3,
    "start_time": "2023-05-03T20:17:48.707Z"
   },
   {
    "duration": 13,
    "start_time": "2023-05-03T20:17:48.712Z"
   },
   {
    "duration": 27,
    "start_time": "2023-05-03T20:17:48.726Z"
   },
   {
    "duration": 3,
    "start_time": "2023-05-03T20:17:48.755Z"
   },
   {
    "duration": 10,
    "start_time": "2023-05-03T20:17:48.760Z"
   },
   {
    "duration": 12,
    "start_time": "2023-05-03T20:17:48.772Z"
   },
   {
    "duration": 15,
    "start_time": "2023-05-03T20:17:48.785Z"
   },
   {
    "duration": 15,
    "start_time": "2023-05-03T20:17:48.801Z"
   },
   {
    "duration": 49,
    "start_time": "2023-05-03T20:17:48.817Z"
   },
   {
    "duration": 437,
    "start_time": "2023-05-03T22:33:29.943Z"
   },
   {
    "duration": 25,
    "start_time": "2023-05-03T22:33:30.382Z"
   },
   {
    "duration": 35,
    "start_time": "2023-05-03T22:33:30.409Z"
   },
   {
    "duration": 27,
    "start_time": "2023-05-03T22:33:30.445Z"
   },
   {
    "duration": 57,
    "start_time": "2023-05-03T22:33:30.474Z"
   },
   {
    "duration": 5,
    "start_time": "2023-05-03T22:33:30.533Z"
   },
   {
    "duration": 33,
    "start_time": "2023-05-03T22:33:30.539Z"
   },
   {
    "duration": 14,
    "start_time": "2023-05-03T22:33:30.574Z"
   },
   {
    "duration": 30,
    "start_time": "2023-05-03T22:33:30.590Z"
   },
   {
    "duration": 30,
    "start_time": "2023-05-03T22:33:30.628Z"
   },
   {
    "duration": 64,
    "start_time": "2023-05-03T22:33:30.660Z"
   },
   {
    "duration": 12,
    "start_time": "2023-05-03T22:33:30.726Z"
   },
   {
    "duration": 22,
    "start_time": "2023-05-03T22:33:30.741Z"
   },
   {
    "duration": 31,
    "start_time": "2023-05-03T22:33:30.766Z"
   },
   {
    "duration": 37,
    "start_time": "2023-05-03T22:33:30.802Z"
   },
   {
    "duration": 16,
    "start_time": "2023-05-03T22:33:30.841Z"
   },
   {
    "duration": 20,
    "start_time": "2023-05-03T22:33:30.858Z"
   },
   {
    "duration": 70,
    "start_time": "2023-05-03T22:33:30.879Z"
   },
   {
    "duration": 33,
    "start_time": "2023-05-03T22:33:30.951Z"
   },
   {
    "duration": 24,
    "start_time": "2023-05-03T22:33:30.985Z"
   },
   {
    "duration": 38,
    "start_time": "2023-05-03T22:33:31.011Z"
   },
   {
    "duration": 36,
    "start_time": "2023-05-03T22:33:31.051Z"
   },
   {
    "duration": 39,
    "start_time": "2023-05-03T22:33:31.089Z"
   },
   {
    "duration": 45,
    "start_time": "2023-05-03T22:33:31.129Z"
   },
   {
    "duration": 28,
    "start_time": "2023-05-03T22:33:31.175Z"
   },
   {
    "duration": 696,
    "start_time": "2023-05-12T04:10:10.661Z"
   },
   {
    "duration": 19,
    "start_time": "2023-05-12T04:10:11.359Z"
   },
   {
    "duration": 13,
    "start_time": "2023-05-12T04:10:11.379Z"
   },
   {
    "duration": 18,
    "start_time": "2023-05-12T04:10:11.393Z"
   },
   {
    "duration": 30,
    "start_time": "2023-05-12T04:10:11.413Z"
   },
   {
    "duration": 3,
    "start_time": "2023-05-12T04:10:11.445Z"
   },
   {
    "duration": 11,
    "start_time": "2023-05-12T04:10:11.449Z"
   },
   {
    "duration": 4,
    "start_time": "2023-05-12T04:10:11.461Z"
   },
   {
    "duration": 29,
    "start_time": "2023-05-12T04:10:11.466Z"
   },
   {
    "duration": 8,
    "start_time": "2023-05-12T04:10:11.498Z"
   },
   {
    "duration": 46,
    "start_time": "2023-05-12T04:10:11.508Z"
   },
   {
    "duration": 11,
    "start_time": "2023-05-12T04:10:11.556Z"
   },
   {
    "duration": 26,
    "start_time": "2023-05-12T04:10:11.569Z"
   },
   {
    "duration": 10,
    "start_time": "2023-05-12T04:10:11.597Z"
   },
   {
    "duration": 19,
    "start_time": "2023-05-12T04:10:11.609Z"
   },
   {
    "duration": 15,
    "start_time": "2023-05-12T04:10:11.629Z"
   },
   {
    "duration": 4,
    "start_time": "2023-05-12T04:10:11.645Z"
   },
   {
    "duration": 15,
    "start_time": "2023-05-12T04:10:11.650Z"
   },
   {
    "duration": 29,
    "start_time": "2023-05-12T04:10:11.666Z"
   },
   {
    "duration": 8,
    "start_time": "2023-05-12T04:10:11.697Z"
   },
   {
    "duration": 17,
    "start_time": "2023-05-12T04:10:11.706Z"
   },
   {
    "duration": 13,
    "start_time": "2023-05-12T04:10:11.724Z"
   },
   {
    "duration": 15,
    "start_time": "2023-05-12T04:10:11.738Z"
   },
   {
    "duration": 40,
    "start_time": "2023-05-12T04:10:11.755Z"
   },
   {
    "duration": 15,
    "start_time": "2023-05-12T04:10:11.797Z"
   },
   {
    "duration": 455,
    "start_time": "2023-05-12T04:12:15.575Z"
   },
   {
    "duration": 21,
    "start_time": "2023-05-12T04:12:16.031Z"
   },
   {
    "duration": 15,
    "start_time": "2023-05-12T04:12:16.053Z"
   },
   {
    "duration": 46,
    "start_time": "2023-05-12T04:12:16.069Z"
   },
   {
    "duration": 45,
    "start_time": "2023-05-12T04:12:16.116Z"
   },
   {
    "duration": 3,
    "start_time": "2023-05-12T04:12:16.162Z"
   },
   {
    "duration": 16,
    "start_time": "2023-05-12T04:12:16.167Z"
   },
   {
    "duration": 12,
    "start_time": "2023-05-12T04:12:16.184Z"
   },
   {
    "duration": 22,
    "start_time": "2023-05-12T04:12:16.201Z"
   },
   {
    "duration": 6,
    "start_time": "2023-05-12T04:12:16.226Z"
   },
   {
    "duration": 35,
    "start_time": "2023-05-12T04:12:16.235Z"
   },
   {
    "duration": 12,
    "start_time": "2023-05-12T04:12:16.272Z"
   },
   {
    "duration": 19,
    "start_time": "2023-05-12T04:12:16.285Z"
   },
   {
    "duration": 27,
    "start_time": "2023-05-12T04:12:16.305Z"
   },
   {
    "duration": 21,
    "start_time": "2023-05-12T04:12:16.334Z"
   },
   {
    "duration": 15,
    "start_time": "2023-05-12T04:12:16.356Z"
   },
   {
    "duration": 3,
    "start_time": "2023-05-12T04:12:16.372Z"
   },
   {
    "duration": 17,
    "start_time": "2023-05-12T04:12:16.376Z"
   },
   {
    "duration": 33,
    "start_time": "2023-05-12T04:12:16.394Z"
   },
   {
    "duration": 6,
    "start_time": "2023-05-12T04:12:16.429Z"
   },
   {
    "duration": 11,
    "start_time": "2023-05-12T04:12:16.437Z"
   },
   {
    "duration": 18,
    "start_time": "2023-05-12T04:12:16.450Z"
   },
   {
    "duration": 13,
    "start_time": "2023-05-12T04:12:16.469Z"
   },
   {
    "duration": 15,
    "start_time": "2023-05-12T04:12:16.483Z"
   },
   {
    "duration": 40,
    "start_time": "2023-05-12T04:12:16.503Z"
   },
   {
    "duration": 473,
    "start_time": "2023-05-12T04:13:02.362Z"
   },
   {
    "duration": 21,
    "start_time": "2023-05-12T04:13:02.837Z"
   },
   {
    "duration": 16,
    "start_time": "2023-05-12T04:13:02.859Z"
   },
   {
    "duration": 19,
    "start_time": "2023-05-12T04:13:02.877Z"
   },
   {
    "duration": 47,
    "start_time": "2023-05-12T04:13:02.898Z"
   },
   {
    "duration": 4,
    "start_time": "2023-05-12T04:13:02.947Z"
   },
   {
    "duration": 21,
    "start_time": "2023-05-12T04:13:02.953Z"
   },
   {
    "duration": 19,
    "start_time": "2023-05-12T04:13:02.975Z"
   },
   {
    "duration": 26,
    "start_time": "2023-05-12T04:13:02.996Z"
   },
   {
    "duration": 5,
    "start_time": "2023-05-12T04:13:03.024Z"
   },
   {
    "duration": 40,
    "start_time": "2023-05-12T04:13:03.031Z"
   },
   {
    "duration": 9,
    "start_time": "2023-05-12T04:13:03.073Z"
   },
   {
    "duration": 6,
    "start_time": "2023-05-12T04:13:03.083Z"
   },
   {
    "duration": 26,
    "start_time": "2023-05-12T04:13:03.090Z"
   },
   {
    "duration": 37,
    "start_time": "2023-05-12T04:13:03.118Z"
   },
   {
    "duration": 15,
    "start_time": "2023-05-12T04:13:03.156Z"
   },
   {
    "duration": 4,
    "start_time": "2023-05-12T04:13:03.173Z"
   },
   {
    "duration": 35,
    "start_time": "2023-05-12T04:13:03.179Z"
   },
   {
    "duration": 8,
    "start_time": "2023-05-12T04:13:03.216Z"
   },
   {
    "duration": 6,
    "start_time": "2023-05-12T04:13:03.225Z"
   },
   {
    "duration": 11,
    "start_time": "2023-05-12T04:13:03.232Z"
   },
   {
    "duration": 15,
    "start_time": "2023-05-12T04:13:03.244Z"
   },
   {
    "duration": 18,
    "start_time": "2023-05-12T04:13:03.260Z"
   },
   {
    "duration": 18,
    "start_time": "2023-05-12T04:13:03.280Z"
   },
   {
    "duration": 18,
    "start_time": "2023-05-12T04:13:03.300Z"
   },
   {
    "duration": 496,
    "start_time": "2023-05-12T04:16:55.984Z"
   },
   {
    "duration": 31,
    "start_time": "2023-05-12T04:16:56.482Z"
   },
   {
    "duration": 21,
    "start_time": "2023-05-12T04:16:56.515Z"
   },
   {
    "duration": 18,
    "start_time": "2023-05-12T04:16:56.539Z"
   },
   {
    "duration": 63,
    "start_time": "2023-05-12T04:16:56.558Z"
   },
   {
    "duration": 4,
    "start_time": "2023-05-12T04:16:56.623Z"
   },
   {
    "duration": 20,
    "start_time": "2023-05-12T04:16:56.629Z"
   },
   {
    "duration": 5,
    "start_time": "2023-05-12T04:16:56.651Z"
   },
   {
    "duration": 9,
    "start_time": "2023-05-12T04:16:56.658Z"
   },
   {
    "duration": 13,
    "start_time": "2023-05-12T04:16:56.670Z"
   },
   {
    "duration": 46,
    "start_time": "2023-05-12T04:16:56.685Z"
   },
   {
    "duration": 9,
    "start_time": "2023-05-12T04:16:56.732Z"
   },
   {
    "duration": 4,
    "start_time": "2023-05-12T04:16:56.743Z"
   },
   {
    "duration": 18,
    "start_time": "2023-05-12T04:16:56.748Z"
   },
   {
    "duration": 37,
    "start_time": "2023-05-12T04:16:56.767Z"
   },
   {
    "duration": 17,
    "start_time": "2023-05-12T04:16:56.806Z"
   },
   {
    "duration": 5,
    "start_time": "2023-05-12T04:16:56.824Z"
   },
   {
    "duration": 21,
    "start_time": "2023-05-12T04:16:56.830Z"
   },
   {
    "duration": 6,
    "start_time": "2023-05-12T04:16:56.853Z"
   },
   {
    "duration": 4,
    "start_time": "2023-05-12T04:16:56.860Z"
   },
   {
    "duration": 17,
    "start_time": "2023-05-12T04:16:56.865Z"
   },
   {
    "duration": 21,
    "start_time": "2023-05-12T04:16:56.884Z"
   },
   {
    "duration": 17,
    "start_time": "2023-05-12T04:16:56.906Z"
   },
   {
    "duration": 43,
    "start_time": "2023-05-12T04:16:56.925Z"
   },
   {
    "duration": 17,
    "start_time": "2023-05-12T04:16:56.969Z"
   },
   {
    "duration": 414,
    "start_time": "2023-05-12T04:20:46.445Z"
   },
   {
    "duration": 20,
    "start_time": "2023-05-12T04:20:46.861Z"
   },
   {
    "duration": 31,
    "start_time": "2023-05-12T04:20:46.883Z"
   },
   {
    "duration": 18,
    "start_time": "2023-05-12T04:20:46.916Z"
   },
   {
    "duration": 67,
    "start_time": "2023-05-12T04:20:46.935Z"
   },
   {
    "duration": 3,
    "start_time": "2023-05-12T04:20:47.004Z"
   },
   {
    "duration": 12,
    "start_time": "2023-05-12T04:20:47.008Z"
   },
   {
    "duration": 5,
    "start_time": "2023-05-12T04:20:47.021Z"
   },
   {
    "duration": 24,
    "start_time": "2023-05-12T04:20:47.027Z"
   },
   {
    "duration": 4,
    "start_time": "2023-05-12T04:20:47.054Z"
   },
   {
    "duration": 51,
    "start_time": "2023-05-12T04:20:47.059Z"
   },
   {
    "duration": 10,
    "start_time": "2023-05-12T04:20:47.111Z"
   },
   {
    "duration": 13,
    "start_time": "2023-05-12T04:20:47.122Z"
   },
   {
    "duration": 12,
    "start_time": "2023-05-12T04:20:47.137Z"
   },
   {
    "duration": 22,
    "start_time": "2023-05-12T04:20:47.151Z"
   },
   {
    "duration": 35,
    "start_time": "2023-05-12T04:20:47.175Z"
   },
   {
    "duration": 5,
    "start_time": "2023-05-12T04:20:47.212Z"
   },
   {
    "duration": 31,
    "start_time": "2023-05-12T04:20:47.219Z"
   },
   {
    "duration": 7,
    "start_time": "2023-05-12T04:20:47.251Z"
   },
   {
    "duration": 4,
    "start_time": "2023-05-12T04:20:47.259Z"
   },
   {
    "duration": 10,
    "start_time": "2023-05-12T04:20:47.264Z"
   },
   {
    "duration": 31,
    "start_time": "2023-05-12T04:20:47.276Z"
   },
   {
    "duration": 19,
    "start_time": "2023-05-12T04:20:47.309Z"
   },
   {
    "duration": 44,
    "start_time": "2023-05-12T04:20:47.329Z"
   },
   {
    "duration": 17,
    "start_time": "2023-05-12T04:20:47.374Z"
   },
   {
    "duration": 487,
    "start_time": "2023-05-12T19:11:07.915Z"
   },
   {
    "duration": 27,
    "start_time": "2023-05-12T19:11:08.404Z"
   },
   {
    "duration": 26,
    "start_time": "2023-05-12T19:11:08.433Z"
   },
   {
    "duration": 19,
    "start_time": "2023-05-12T19:11:08.472Z"
   },
   {
    "duration": 47,
    "start_time": "2023-05-12T19:11:08.494Z"
   },
   {
    "duration": 6,
    "start_time": "2023-05-12T19:11:08.543Z"
   },
   {
    "duration": 41,
    "start_time": "2023-05-12T19:11:08.551Z"
   },
   {
    "duration": 5,
    "start_time": "2023-05-12T19:11:08.593Z"
   },
   {
    "duration": 9,
    "start_time": "2023-05-12T19:11:08.599Z"
   },
   {
    "duration": 5,
    "start_time": "2023-05-12T19:11:08.610Z"
   },
   {
    "duration": 48,
    "start_time": "2023-05-12T19:11:08.616Z"
   },
   {
    "duration": 14,
    "start_time": "2023-05-12T19:11:08.666Z"
   },
   {
    "duration": 6,
    "start_time": "2023-05-12T19:11:08.682Z"
   },
   {
    "duration": 15,
    "start_time": "2023-05-12T19:11:08.691Z"
   },
   {
    "duration": 30,
    "start_time": "2023-05-12T19:11:08.708Z"
   },
   {
    "duration": 34,
    "start_time": "2023-05-12T19:11:08.740Z"
   },
   {
    "duration": 9,
    "start_time": "2023-05-12T19:11:08.777Z"
   },
   {
    "duration": 17,
    "start_time": "2023-05-12T19:11:08.787Z"
   },
   {
    "duration": 14,
    "start_time": "2023-05-12T19:11:08.805Z"
   },
   {
    "duration": 4,
    "start_time": "2023-05-12T19:11:08.820Z"
   },
   {
    "duration": 34,
    "start_time": "2023-05-12T19:11:08.825Z"
   },
   {
    "duration": 20,
    "start_time": "2023-05-12T19:11:08.867Z"
   },
   {
    "duration": 23,
    "start_time": "2023-05-12T19:11:08.889Z"
   },
   {
    "duration": 17,
    "start_time": "2023-05-12T19:11:08.914Z"
   },
   {
    "duration": 24,
    "start_time": "2023-05-12T19:11:08.933Z"
   },
   {
    "duration": 723,
    "start_time": "2024-03-02T10:44:01.086Z"
   },
   {
    "duration": 21,
    "start_time": "2024-03-02T10:44:01.811Z"
   },
   {
    "duration": 110,
    "start_time": "2024-03-02T10:44:01.833Z"
   },
   {
    "duration": 69,
    "start_time": "2024-03-02T10:44:01.944Z"
   },
   {
    "duration": 51,
    "start_time": "2024-03-02T10:44:02.015Z"
   },
   {
    "duration": 15,
    "start_time": "2024-03-02T10:44:02.068Z"
   },
   {
    "duration": 25,
    "start_time": "2024-03-02T10:44:02.085Z"
   },
   {
    "duration": 16,
    "start_time": "2024-03-02T10:44:02.112Z"
   },
   {
    "duration": 27,
    "start_time": "2024-03-02T10:44:02.130Z"
   },
   {
    "duration": 21,
    "start_time": "2024-03-02T10:44:02.159Z"
   },
   {
    "duration": 67,
    "start_time": "2024-03-02T10:44:02.182Z"
   },
   {
    "duration": 11,
    "start_time": "2024-03-02T10:44:02.250Z"
   },
   {
    "duration": 38,
    "start_time": "2024-03-02T10:44:02.263Z"
   },
   {
    "duration": 86,
    "start_time": "2024-03-02T10:44:02.304Z"
   },
   {
    "duration": 47,
    "start_time": "2024-03-02T10:44:02.392Z"
   },
   {
    "duration": 17,
    "start_time": "2024-03-02T10:44:02.441Z"
   },
   {
    "duration": 16,
    "start_time": "2024-03-02T10:44:02.459Z"
   },
   {
    "duration": 30,
    "start_time": "2024-03-02T10:44:02.476Z"
   },
   {
    "duration": 11,
    "start_time": "2024-03-02T10:44:02.508Z"
   },
   {
    "duration": 4,
    "start_time": "2024-03-02T10:44:02.521Z"
   },
   {
    "duration": 14,
    "start_time": "2024-03-02T10:44:02.526Z"
   },
   {
    "duration": 22,
    "start_time": "2024-03-02T10:44:02.542Z"
   },
   {
    "duration": 17,
    "start_time": "2024-03-02T10:44:02.565Z"
   },
   {
    "duration": 25,
    "start_time": "2024-03-02T10:44:02.583Z"
   },
   {
    "duration": 23,
    "start_time": "2024-03-02T10:44:02.610Z"
   },
   {
    "duration": 495,
    "start_time": "2024-03-02T10:52:38.460Z"
   },
   {
    "duration": 22,
    "start_time": "2024-03-02T10:52:38.957Z"
   },
   {
    "duration": 15,
    "start_time": "2024-03-02T10:52:38.980Z"
   },
   {
    "duration": 13,
    "start_time": "2024-03-02T10:52:38.997Z"
   },
   {
    "duration": 56,
    "start_time": "2024-03-02T10:52:39.013Z"
   },
   {
    "duration": 3,
    "start_time": "2024-03-02T10:52:39.071Z"
   },
   {
    "duration": 13,
    "start_time": "2024-03-02T10:52:39.076Z"
   },
   {
    "duration": 8,
    "start_time": "2024-03-02T10:52:39.091Z"
   },
   {
    "duration": 18,
    "start_time": "2024-03-02T10:52:39.100Z"
   },
   {
    "duration": 10,
    "start_time": "2024-03-02T10:52:39.119Z"
   },
   {
    "duration": 43,
    "start_time": "2024-03-02T10:52:39.131Z"
   },
   {
    "duration": 10,
    "start_time": "2024-03-02T10:52:39.176Z"
   },
   {
    "duration": 9,
    "start_time": "2024-03-02T10:52:39.187Z"
   },
   {
    "duration": 34,
    "start_time": "2024-03-02T10:52:39.198Z"
   },
   {
    "duration": 26,
    "start_time": "2024-03-02T10:52:39.234Z"
   },
   {
    "duration": 17,
    "start_time": "2024-03-02T10:52:39.261Z"
   },
   {
    "duration": 4,
    "start_time": "2024-03-02T10:52:39.280Z"
   },
   {
    "duration": 47,
    "start_time": "2024-03-02T10:52:39.285Z"
   },
   {
    "duration": 43,
    "start_time": "2024-03-02T10:52:39.334Z"
   },
   {
    "duration": 25,
    "start_time": "2024-03-02T10:52:39.379Z"
   },
   {
    "duration": 26,
    "start_time": "2024-03-02T10:52:39.406Z"
   },
   {
    "duration": 26,
    "start_time": "2024-03-02T10:52:39.434Z"
   },
   {
    "duration": 32,
    "start_time": "2024-03-02T10:52:39.461Z"
   },
   {
    "duration": 26,
    "start_time": "2024-03-02T10:52:39.495Z"
   },
   {
    "duration": 28,
    "start_time": "2024-03-02T10:52:39.523Z"
   },
   {
    "duration": 470,
    "start_time": "2024-03-02T11:00:35.599Z"
   },
   {
    "duration": 22,
    "start_time": "2024-03-02T11:00:36.072Z"
   },
   {
    "duration": 68,
    "start_time": "2024-03-02T11:00:36.095Z"
   },
   {
    "duration": 10,
    "start_time": "2024-03-02T11:00:36.165Z"
   },
   {
    "duration": 48,
    "start_time": "2024-03-02T11:00:36.176Z"
   },
   {
    "duration": 3,
    "start_time": "2024-03-02T11:00:36.226Z"
   },
   {
    "duration": 22,
    "start_time": "2024-03-02T11:00:36.231Z"
   },
   {
    "duration": 14,
    "start_time": "2024-03-02T11:00:36.255Z"
   },
   {
    "duration": 19,
    "start_time": "2024-03-02T11:00:36.270Z"
   },
   {
    "duration": 28,
    "start_time": "2024-03-02T11:00:36.291Z"
   },
   {
    "duration": 42,
    "start_time": "2024-03-02T11:00:36.320Z"
   },
   {
    "duration": 10,
    "start_time": "2024-03-02T11:00:36.364Z"
   },
   {
    "duration": 5,
    "start_time": "2024-03-02T11:00:36.375Z"
   },
   {
    "duration": 11,
    "start_time": "2024-03-02T11:00:36.383Z"
   },
   {
    "duration": 28,
    "start_time": "2024-03-02T11:00:36.395Z"
   },
   {
    "duration": 18,
    "start_time": "2024-03-02T11:00:36.424Z"
   },
   {
    "duration": 22,
    "start_time": "2024-03-02T11:00:36.443Z"
   },
   {
    "duration": 26,
    "start_time": "2024-03-02T11:00:36.467Z"
   },
   {
    "duration": 13,
    "start_time": "2024-03-02T11:00:36.494Z"
   },
   {
    "duration": 3,
    "start_time": "2024-03-02T11:00:36.509Z"
   },
   {
    "duration": 12,
    "start_time": "2024-03-02T11:00:36.513Z"
   },
   {
    "duration": 14,
    "start_time": "2024-03-02T11:00:36.526Z"
   },
   {
    "duration": 25,
    "start_time": "2024-03-02T11:00:36.541Z"
   },
   {
    "duration": 33,
    "start_time": "2024-03-02T11:00:36.568Z"
   },
   {
    "duration": 25,
    "start_time": "2024-03-02T11:00:36.602Z"
   }
  ],
  "colab": {
   "name": "dpp_template_part2.ipynb",
   "provenance": []
  },
  "kernelspec": {
   "display_name": "Python 3 (ipykernel)",
   "language": "python",
   "name": "python3"
  },
  "language_info": {
   "codemirror_mode": {
    "name": "ipython",
    "version": 3
   },
   "file_extension": ".py",
   "mimetype": "text/x-python",
   "name": "python",
   "nbconvert_exporter": "python",
   "pygments_lexer": "ipython3",
   "version": "3.9.5"
  },
  "toc": {
   "base_numbering": 1,
   "nav_menu": {},
   "number_sections": true,
   "sideBar": true,
   "skip_h1_title": true,
   "title_cell": "Table of Contents",
   "title_sidebar": "Contents",
   "toc_cell": false,
   "toc_position": {},
   "toc_section_display": true,
   "toc_window_display": true
  }
 },
 "nbformat": 4,
 "nbformat_minor": 5
}
