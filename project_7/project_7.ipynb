{
 "cells": [
  {
   "cell_type": "markdown",
   "metadata": {
    "toc": true
   },
   "source": [
    "<h1>Содержание<span class=\"tocSkip\"></span></h1>\n",
    "<div class=\"toc\"><ul class=\"toc-item\"><li><span><a href=\"#Подготовка-данных\" data-toc-modified-id=\"Подготовка-данных-1\"><span class=\"toc-item-num\">1&nbsp;&nbsp;</span>Подготовка данных</a></span><ul class=\"toc-item\"><li><span><a href=\"#Загрузим-библиотеки\" data-toc-modified-id=\"Загрузим-библиотеки-1.1\"><span class=\"toc-item-num\">1.1&nbsp;&nbsp;</span>Загрузим библиотеки</a></span></li><li><span><a href=\"#Загрузим-данные\" data-toc-modified-id=\"Загрузим-данные-1.2\"><span class=\"toc-item-num\">1.2&nbsp;&nbsp;</span>Загрузим данные</a></span></li><li><span><a href=\"#Изучим-и-подготовим-данные\" data-toc-modified-id=\"Изучим-и-подготовим-данные-1.3\"><span class=\"toc-item-num\">1.3&nbsp;&nbsp;</span>Изучим и подготовим данные</a></span></li><li><span><a href=\"#Работа-с-пропусками\" data-toc-modified-id=\"Работа-с-пропусками-1.4\"><span class=\"toc-item-num\">1.4&nbsp;&nbsp;</span>Работа с пропусками</a></span></li><li><span><a href=\"#Рассмотрим-выбросы\" data-toc-modified-id=\"Рассмотрим-выбросы-1.5\"><span class=\"toc-item-num\">1.5&nbsp;&nbsp;</span>Рассмотрим выбросы</a></span></li><li><span><a href=\"#Вывод\" data-toc-modified-id=\"Вывод-1.6\"><span class=\"toc-item-num\">1.6&nbsp;&nbsp;</span>Вывод</a></span></li></ul></li><li><span><a href=\"#Исследование-задачи\" data-toc-modified-id=\"Исследование-задачи-2\"><span class=\"toc-item-num\">2&nbsp;&nbsp;</span>Исследование задачи</a></span><ul class=\"toc-item\"><li><span><a href=\"#Изучим-данные-в-стобцах\" data-toc-modified-id=\"Изучим-данные-в-стобцах-2.1\"><span class=\"toc-item-num\">2.1&nbsp;&nbsp;</span>Изучим данные в стобцах</a></span></li><li><span><a href=\"#Рассмотрим-данные-по-оттокам-и-оставшимся-клиентам\" data-toc-modified-id=\"Рассмотрим-данные-по-оттокам-и-оставшимся-клиентам-2.2\"><span class=\"toc-item-num\">2.2&nbsp;&nbsp;</span>Рассмотрим данные по оттокам и оставшимся клиентам</a></span></li><li><span><a href=\"#Подготовка-данных-для-машинного-обучения\" data-toc-modified-id=\"Подготовка-данных-для-машинного-обучения-2.3\"><span class=\"toc-item-num\">2.3&nbsp;&nbsp;</span>Подготовка данных для машинного обучения</a></span></li><li><span><a href=\"#Сформируем-выборки\" data-toc-modified-id=\"Сформируем-выборки-2.4\"><span class=\"toc-item-num\">2.4&nbsp;&nbsp;</span>Сформируем выборки</a></span></li><li><span><a href=\"#Применение-модели-машинного-обучения\" data-toc-modified-id=\"Применение-модели-машинного-обучения-2.5\"><span class=\"toc-item-num\">2.5&nbsp;&nbsp;</span>Применение модели машинного обучения</a></span><ul class=\"toc-item\"><li><span><a href=\"#Дерево-решений\" data-toc-modified-id=\"Дерево-решений-2.5.1\"><span class=\"toc-item-num\">2.5.1&nbsp;&nbsp;</span>Дерево решений</a></span></li><li><span><a href=\"#Случайный-лес\" data-toc-modified-id=\"Случайный-лес-2.5.2\"><span class=\"toc-item-num\">2.5.2&nbsp;&nbsp;</span>Случайный лес</a></span></li><li><span><a href=\"#Логистическая-регрессия\" data-toc-modified-id=\"Логистическая-регрессия-2.5.3\"><span class=\"toc-item-num\">2.5.3&nbsp;&nbsp;</span>Логистическая регрессия</a></span></li></ul></li><li><span><a href=\"#Исследование-баланса-классов-выборки\" data-toc-modified-id=\"Исследование-баланса-классов-выборки-2.6\"><span class=\"toc-item-num\">2.6&nbsp;&nbsp;</span>Исследование баланса классов выборки</a></span></li><li><span><a href=\"#Проверка-адекватности\" data-toc-modified-id=\"Проверка-адекватности-2.7\"><span class=\"toc-item-num\">2.7&nbsp;&nbsp;</span>Проверка адекватности</a></span></li><li><span><a href=\"#Построим-матрицы-ошибок-для-моделей\" data-toc-modified-id=\"Построим-матрицы-ошибок-для-моделей-2.8\"><span class=\"toc-item-num\">2.8&nbsp;&nbsp;</span>Построим матрицы ошибок для моделей</a></span></li><li><span><a href=\"#Вывод\" data-toc-modified-id=\"Вывод-2.9\"><span class=\"toc-item-num\">2.9&nbsp;&nbsp;</span>Вывод</a></span></li></ul></li><li><span><a href=\"#Борьба-с-дисбалансом\" data-toc-modified-id=\"Борьба-с-дисбалансом-3\"><span class=\"toc-item-num\">3&nbsp;&nbsp;</span>Борьба с дисбалансом</a></span><ul class=\"toc-item\"><li><span><a href=\"#Рассмотрим-взвешивание-классов\" data-toc-modified-id=\"Рассмотрим-взвешивание-классов-3.1\"><span class=\"toc-item-num\">3.1&nbsp;&nbsp;</span>Рассмотрим взвешивание классов</a></span><ul class=\"toc-item\"><li><span><a href=\"#Дерево-решений\" data-toc-modified-id=\"Дерево-решений-3.1.1\"><span class=\"toc-item-num\">3.1.1&nbsp;&nbsp;</span>Дерево решений</a></span></li><li><span><a href=\"#Случайный-лес\" data-toc-modified-id=\"Случайный-лес-3.1.2\"><span class=\"toc-item-num\">3.1.2&nbsp;&nbsp;</span>Случайный лес</a></span></li><li><span><a href=\"#Логистическая-регрессия\" data-toc-modified-id=\"Логистическая-регрессия-3.1.3\"><span class=\"toc-item-num\">3.1.3&nbsp;&nbsp;</span>Логистическая регрессия</a></span></li></ul></li><li><span><a href=\"#Уменьшение-выборки\" data-toc-modified-id=\"Уменьшение-выборки-3.2\"><span class=\"toc-item-num\">3.2&nbsp;&nbsp;</span>Уменьшение выборки</a></span><ul class=\"toc-item\"><li><span><a href=\"#Дерево-решений\" data-toc-modified-id=\"Дерево-решений-3.2.1\"><span class=\"toc-item-num\">3.2.1&nbsp;&nbsp;</span>Дерево решений</a></span></li><li><span><a href=\"#Случайный-лес\" data-toc-modified-id=\"Случайный-лес-3.2.2\"><span class=\"toc-item-num\">3.2.2&nbsp;&nbsp;</span>Случайный лес</a></span></li><li><span><a href=\"#Логистическая-регрессия\" data-toc-modified-id=\"Логистическая-регрессия-3.2.3\"><span class=\"toc-item-num\">3.2.3&nbsp;&nbsp;</span>Логистическая регрессия</a></span></li></ul></li><li><span><a href=\"#Увеличение-выборки\" data-toc-modified-id=\"Увеличение-выборки-3.3\"><span class=\"toc-item-num\">3.3&nbsp;&nbsp;</span>Увеличение выборки</a></span><ul class=\"toc-item\"><li><span><a href=\"#Дерево-решений\" data-toc-modified-id=\"Дерево-решений-3.3.1\"><span class=\"toc-item-num\">3.3.1&nbsp;&nbsp;</span>Дерево решений</a></span></li><li><span><a href=\"#Случайный-лес\" data-toc-modified-id=\"Случайный-лес-3.3.2\"><span class=\"toc-item-num\">3.3.2&nbsp;&nbsp;</span>Случайный лес</a></span></li><li><span><a href=\"#Логистическая-регрессия\" data-toc-modified-id=\"Логистическая-регрессия-3.3.3\"><span class=\"toc-item-num\">3.3.3&nbsp;&nbsp;</span>Логистическая регрессия</a></span></li></ul></li><li><span><a href=\"#Вывод:\" data-toc-modified-id=\"Вывод:-3.4\"><span class=\"toc-item-num\">3.4&nbsp;&nbsp;</span>Вывод:</a></span></li></ul></li><li><span><a href=\"#Тестирование-модели\" data-toc-modified-id=\"Тестирование-модели-4\"><span class=\"toc-item-num\">4&nbsp;&nbsp;</span>Тестирование модели</a></span></li><li><span><a href=\"#Общий-вывод\" data-toc-modified-id=\"Общий-вывод-5\"><span class=\"toc-item-num\">5&nbsp;&nbsp;</span>Общий вывод</a></span></li></ul></div>"
   ]
  },
  {
   "cell_type": "markdown",
   "metadata": {},
   "source": [
    "# Отток клиентов"
   ]
  },
  {
   "cell_type": "markdown",
   "metadata": {},
   "source": [
    "Из «Бета-Банка» стали уходить клиенты. Каждый месяц. Немного, но заметно. Банковские маркетологи посчитали: сохранять текущих клиентов дешевле, чем привлекать новых.\n",
    "\n",
    "Нужно спрогнозировать, уйдёт клиент из банка в ближайшее время или нет. Вам предоставлены исторические данные о поведении клиентов и расторжении договоров с банком. \n",
    "\n",
    "Постройте модель с предельно большим значением *F1*-меры. Чтобы сдать проект успешно, нужно довести метрику до 0.59. Проверьте *F1*-меру на тестовой выборке самостоятельно.\n",
    "\n",
    "Дополнительно измеряйте *AUC-ROC*, сравнивайте её значение с *F1*-мерой.\n",
    "\n",
    "Источник данных: [https://www.kaggle.com/barelydedicated/bank-customer-churn-modeling](https://www.kaggle.com/barelydedicated/bank-customer-churn-modeling)"
   ]
  },
  {
   "cell_type": "markdown",
   "metadata": {},
   "source": [
    "## Подготовка данных"
   ]
  },
  {
   "cell_type": "markdown",
   "metadata": {},
   "source": [
    "### Загрузим библиотеки"
   ]
  },
  {
   "cell_type": "code",
   "execution_count": 1,
   "metadata": {},
   "outputs": [],
   "source": [
    "import pandas as pd\n",
    "import matplotlib.pyplot as plt\n",
    "import numpy as np\n",
    "\n",
    "from sklearn.preprocessing import MinMaxScaler\n",
    "from sklearn.utils import shuffle\n",
    "from sklearn.model_selection import train_test_split, GridSearchCV\n",
    "from sklearn.metrics import accuracy_score\n",
    "from sklearn.metrics import recall_score\n",
    "from sklearn.metrics import precision_score\n",
    "from sklearn.metrics import roc_auc_score\n",
    "from sklearn.metrics import f1_score\n",
    "from sklearn.metrics import roc_curve\n",
    "from sklearn.metrics import confusion_matrix\n",
    "\n",
    "from sklearn.linear_model import LogisticRegression\n",
    "from sklearn.ensemble import RandomForestClassifier\n",
    "from sklearn.preprocessing import StandardScaler\n",
    "from sklearn.tree import DecisionTreeClassifier\n",
    "from sklearn.dummy import DummyClassifier"
   ]
  },
  {
   "cell_type": "code",
   "execution_count": 2,
   "metadata": {},
   "outputs": [],
   "source": [
    "# отключим некритические предупреждения в коде\n",
    "import warnings\n",
    "warnings.filterwarnings(\"ignore\")"
   ]
  },
  {
   "cell_type": "markdown",
   "metadata": {},
   "source": [
    "### Загрузим данные"
   ]
  },
  {
   "cell_type": "code",
   "execution_count": 3,
   "metadata": {},
   "outputs": [],
   "source": [
    "# загрузим данные, создадим датасет data\n",
    "data = pd.read_csv('/datasets/Churn.csv')"
   ]
  },
  {
   "cell_type": "markdown",
   "metadata": {},
   "source": [
    "### Изучим и подготовим данные"
   ]
  },
  {
   "cell_type": "code",
   "execution_count": 4,
   "metadata": {},
   "outputs": [
    {
     "data": {
      "text/html": [
       "<div>\n",
       "<style scoped>\n",
       "    .dataframe tbody tr th:only-of-type {\n",
       "        vertical-align: middle;\n",
       "    }\n",
       "\n",
       "    .dataframe tbody tr th {\n",
       "        vertical-align: top;\n",
       "    }\n",
       "\n",
       "    .dataframe thead th {\n",
       "        text-align: right;\n",
       "    }\n",
       "</style>\n",
       "<table border=\"1\" class=\"dataframe\">\n",
       "  <thead>\n",
       "    <tr style=\"text-align: right;\">\n",
       "      <th></th>\n",
       "      <th>RowNumber</th>\n",
       "      <th>CustomerId</th>\n",
       "      <th>Surname</th>\n",
       "      <th>CreditScore</th>\n",
       "      <th>Geography</th>\n",
       "      <th>Gender</th>\n",
       "      <th>Age</th>\n",
       "      <th>Tenure</th>\n",
       "      <th>Balance</th>\n",
       "      <th>NumOfProducts</th>\n",
       "      <th>HasCrCard</th>\n",
       "      <th>IsActiveMember</th>\n",
       "      <th>EstimatedSalary</th>\n",
       "      <th>Exited</th>\n",
       "    </tr>\n",
       "  </thead>\n",
       "  <tbody>\n",
       "    <tr>\n",
       "      <th>0</th>\n",
       "      <td>1</td>\n",
       "      <td>15634602</td>\n",
       "      <td>Hargrave</td>\n",
       "      <td>619</td>\n",
       "      <td>France</td>\n",
       "      <td>Female</td>\n",
       "      <td>42</td>\n",
       "      <td>2.0</td>\n",
       "      <td>0.00</td>\n",
       "      <td>1</td>\n",
       "      <td>1</td>\n",
       "      <td>1</td>\n",
       "      <td>101348.88</td>\n",
       "      <td>1</td>\n",
       "    </tr>\n",
       "    <tr>\n",
       "      <th>1</th>\n",
       "      <td>2</td>\n",
       "      <td>15647311</td>\n",
       "      <td>Hill</td>\n",
       "      <td>608</td>\n",
       "      <td>Spain</td>\n",
       "      <td>Female</td>\n",
       "      <td>41</td>\n",
       "      <td>1.0</td>\n",
       "      <td>83807.86</td>\n",
       "      <td>1</td>\n",
       "      <td>0</td>\n",
       "      <td>1</td>\n",
       "      <td>112542.58</td>\n",
       "      <td>0</td>\n",
       "    </tr>\n",
       "    <tr>\n",
       "      <th>2</th>\n",
       "      <td>3</td>\n",
       "      <td>15619304</td>\n",
       "      <td>Onio</td>\n",
       "      <td>502</td>\n",
       "      <td>France</td>\n",
       "      <td>Female</td>\n",
       "      <td>42</td>\n",
       "      <td>8.0</td>\n",
       "      <td>159660.80</td>\n",
       "      <td>3</td>\n",
       "      <td>1</td>\n",
       "      <td>0</td>\n",
       "      <td>113931.57</td>\n",
       "      <td>1</td>\n",
       "    </tr>\n",
       "    <tr>\n",
       "      <th>3</th>\n",
       "      <td>4</td>\n",
       "      <td>15701354</td>\n",
       "      <td>Boni</td>\n",
       "      <td>699</td>\n",
       "      <td>France</td>\n",
       "      <td>Female</td>\n",
       "      <td>39</td>\n",
       "      <td>1.0</td>\n",
       "      <td>0.00</td>\n",
       "      <td>2</td>\n",
       "      <td>0</td>\n",
       "      <td>0</td>\n",
       "      <td>93826.63</td>\n",
       "      <td>0</td>\n",
       "    </tr>\n",
       "    <tr>\n",
       "      <th>4</th>\n",
       "      <td>5</td>\n",
       "      <td>15737888</td>\n",
       "      <td>Mitchell</td>\n",
       "      <td>850</td>\n",
       "      <td>Spain</td>\n",
       "      <td>Female</td>\n",
       "      <td>43</td>\n",
       "      <td>2.0</td>\n",
       "      <td>125510.82</td>\n",
       "      <td>1</td>\n",
       "      <td>1</td>\n",
       "      <td>1</td>\n",
       "      <td>79084.10</td>\n",
       "      <td>0</td>\n",
       "    </tr>\n",
       "  </tbody>\n",
       "</table>\n",
       "</div>"
      ],
      "text/plain": [
       "   RowNumber  CustomerId   Surname  CreditScore Geography  Gender  Age  \\\n",
       "0          1    15634602  Hargrave          619    France  Female   42   \n",
       "1          2    15647311      Hill          608     Spain  Female   41   \n",
       "2          3    15619304      Onio          502    France  Female   42   \n",
       "3          4    15701354      Boni          699    France  Female   39   \n",
       "4          5    15737888  Mitchell          850     Spain  Female   43   \n",
       "\n",
       "   Tenure    Balance  NumOfProducts  HasCrCard  IsActiveMember  \\\n",
       "0     2.0       0.00              1          1               1   \n",
       "1     1.0   83807.86              1          0               1   \n",
       "2     8.0  159660.80              3          1               0   \n",
       "3     1.0       0.00              2          0               0   \n",
       "4     2.0  125510.82              1          1               1   \n",
       "\n",
       "   EstimatedSalary  Exited  \n",
       "0        101348.88       1  \n",
       "1        112542.58       0  \n",
       "2        113931.57       1  \n",
       "3         93826.63       0  \n",
       "4         79084.10       0  "
      ]
     },
     "execution_count": 4,
     "metadata": {},
     "output_type": "execute_result"
    }
   ],
   "source": [
    "# выведим первые 5 строк таблицы\n",
    "data.head()"
   ]
  },
  {
   "cell_type": "code",
   "execution_count": 5,
   "metadata": {},
   "outputs": [
    {
     "data": {
      "text/plain": [
       "(10000, 14)"
      ]
     },
     "execution_count": 5,
     "metadata": {},
     "output_type": "execute_result"
    }
   ],
   "source": [
    "# посмотрим на размер датасета\n",
    "data.shape"
   ]
  },
  {
   "cell_type": "code",
   "execution_count": 6,
   "metadata": {},
   "outputs": [
    {
     "name": "stdout",
     "output_type": "stream",
     "text": [
      "<class 'pandas.core.frame.DataFrame'>\n",
      "RangeIndex: 10000 entries, 0 to 9999\n",
      "Data columns (total 14 columns):\n",
      " #   Column           Non-Null Count  Dtype  \n",
      "---  ------           --------------  -----  \n",
      " 0   RowNumber        10000 non-null  int64  \n",
      " 1   CustomerId       10000 non-null  int64  \n",
      " 2   Surname          10000 non-null  object \n",
      " 3   CreditScore      10000 non-null  int64  \n",
      " 4   Geography        10000 non-null  object \n",
      " 5   Gender           10000 non-null  object \n",
      " 6   Age              10000 non-null  int64  \n",
      " 7   Tenure           9091 non-null   float64\n",
      " 8   Balance          10000 non-null  float64\n",
      " 9   NumOfProducts    10000 non-null  int64  \n",
      " 10  HasCrCard        10000 non-null  int64  \n",
      " 11  IsActiveMember   10000 non-null  int64  \n",
      " 12  EstimatedSalary  10000 non-null  float64\n",
      " 13  Exited           10000 non-null  int64  \n",
      "dtypes: float64(3), int64(8), object(3)\n",
      "memory usage: 1.1+ MB\n"
     ]
    }
   ],
   "source": [
    "# посмотрим информацию по таблице\n",
    "data.info()"
   ]
  },
  {
   "cell_type": "code",
   "execution_count": 7,
   "metadata": {},
   "outputs": [
    {
     "data": {
      "text/html": [
       "<div>\n",
       "<style scoped>\n",
       "    .dataframe tbody tr th:only-of-type {\n",
       "        vertical-align: middle;\n",
       "    }\n",
       "\n",
       "    .dataframe tbody tr th {\n",
       "        vertical-align: top;\n",
       "    }\n",
       "\n",
       "    .dataframe thead th {\n",
       "        text-align: right;\n",
       "    }\n",
       "</style>\n",
       "<table border=\"1\" class=\"dataframe\">\n",
       "  <thead>\n",
       "    <tr style=\"text-align: right;\">\n",
       "      <th></th>\n",
       "      <th>RowNumber</th>\n",
       "      <th>CustomerId</th>\n",
       "      <th>CreditScore</th>\n",
       "      <th>Age</th>\n",
       "      <th>Tenure</th>\n",
       "      <th>Balance</th>\n",
       "      <th>NumOfProducts</th>\n",
       "      <th>HasCrCard</th>\n",
       "      <th>IsActiveMember</th>\n",
       "      <th>EstimatedSalary</th>\n",
       "      <th>Exited</th>\n",
       "    </tr>\n",
       "  </thead>\n",
       "  <tbody>\n",
       "    <tr>\n",
       "      <th>count</th>\n",
       "      <td>10000.00000</td>\n",
       "      <td>1.000000e+04</td>\n",
       "      <td>10000.000000</td>\n",
       "      <td>10000.000000</td>\n",
       "      <td>9091.000000</td>\n",
       "      <td>10000.000000</td>\n",
       "      <td>10000.000000</td>\n",
       "      <td>10000.00000</td>\n",
       "      <td>10000.000000</td>\n",
       "      <td>10000.000000</td>\n",
       "      <td>10000.000000</td>\n",
       "    </tr>\n",
       "    <tr>\n",
       "      <th>mean</th>\n",
       "      <td>5000.50000</td>\n",
       "      <td>1.569094e+07</td>\n",
       "      <td>650.528800</td>\n",
       "      <td>38.921800</td>\n",
       "      <td>4.997690</td>\n",
       "      <td>76485.889288</td>\n",
       "      <td>1.530200</td>\n",
       "      <td>0.70550</td>\n",
       "      <td>0.515100</td>\n",
       "      <td>100090.239881</td>\n",
       "      <td>0.203700</td>\n",
       "    </tr>\n",
       "    <tr>\n",
       "      <th>std</th>\n",
       "      <td>2886.89568</td>\n",
       "      <td>7.193619e+04</td>\n",
       "      <td>96.653299</td>\n",
       "      <td>10.487806</td>\n",
       "      <td>2.894723</td>\n",
       "      <td>62397.405202</td>\n",
       "      <td>0.581654</td>\n",
       "      <td>0.45584</td>\n",
       "      <td>0.499797</td>\n",
       "      <td>57510.492818</td>\n",
       "      <td>0.402769</td>\n",
       "    </tr>\n",
       "    <tr>\n",
       "      <th>min</th>\n",
       "      <td>1.00000</td>\n",
       "      <td>1.556570e+07</td>\n",
       "      <td>350.000000</td>\n",
       "      <td>18.000000</td>\n",
       "      <td>0.000000</td>\n",
       "      <td>0.000000</td>\n",
       "      <td>1.000000</td>\n",
       "      <td>0.00000</td>\n",
       "      <td>0.000000</td>\n",
       "      <td>11.580000</td>\n",
       "      <td>0.000000</td>\n",
       "    </tr>\n",
       "    <tr>\n",
       "      <th>25%</th>\n",
       "      <td>2500.75000</td>\n",
       "      <td>1.562853e+07</td>\n",
       "      <td>584.000000</td>\n",
       "      <td>32.000000</td>\n",
       "      <td>2.000000</td>\n",
       "      <td>0.000000</td>\n",
       "      <td>1.000000</td>\n",
       "      <td>0.00000</td>\n",
       "      <td>0.000000</td>\n",
       "      <td>51002.110000</td>\n",
       "      <td>0.000000</td>\n",
       "    </tr>\n",
       "    <tr>\n",
       "      <th>50%</th>\n",
       "      <td>5000.50000</td>\n",
       "      <td>1.569074e+07</td>\n",
       "      <td>652.000000</td>\n",
       "      <td>37.000000</td>\n",
       "      <td>5.000000</td>\n",
       "      <td>97198.540000</td>\n",
       "      <td>1.000000</td>\n",
       "      <td>1.00000</td>\n",
       "      <td>1.000000</td>\n",
       "      <td>100193.915000</td>\n",
       "      <td>0.000000</td>\n",
       "    </tr>\n",
       "    <tr>\n",
       "      <th>75%</th>\n",
       "      <td>7500.25000</td>\n",
       "      <td>1.575323e+07</td>\n",
       "      <td>718.000000</td>\n",
       "      <td>44.000000</td>\n",
       "      <td>7.000000</td>\n",
       "      <td>127644.240000</td>\n",
       "      <td>2.000000</td>\n",
       "      <td>1.00000</td>\n",
       "      <td>1.000000</td>\n",
       "      <td>149388.247500</td>\n",
       "      <td>0.000000</td>\n",
       "    </tr>\n",
       "    <tr>\n",
       "      <th>max</th>\n",
       "      <td>10000.00000</td>\n",
       "      <td>1.581569e+07</td>\n",
       "      <td>850.000000</td>\n",
       "      <td>92.000000</td>\n",
       "      <td>10.000000</td>\n",
       "      <td>250898.090000</td>\n",
       "      <td>4.000000</td>\n",
       "      <td>1.00000</td>\n",
       "      <td>1.000000</td>\n",
       "      <td>199992.480000</td>\n",
       "      <td>1.000000</td>\n",
       "    </tr>\n",
       "  </tbody>\n",
       "</table>\n",
       "</div>"
      ],
      "text/plain": [
       "         RowNumber    CustomerId   CreditScore           Age       Tenure  \\\n",
       "count  10000.00000  1.000000e+04  10000.000000  10000.000000  9091.000000   \n",
       "mean    5000.50000  1.569094e+07    650.528800     38.921800     4.997690   \n",
       "std     2886.89568  7.193619e+04     96.653299     10.487806     2.894723   \n",
       "min        1.00000  1.556570e+07    350.000000     18.000000     0.000000   \n",
       "25%     2500.75000  1.562853e+07    584.000000     32.000000     2.000000   \n",
       "50%     5000.50000  1.569074e+07    652.000000     37.000000     5.000000   \n",
       "75%     7500.25000  1.575323e+07    718.000000     44.000000     7.000000   \n",
       "max    10000.00000  1.581569e+07    850.000000     92.000000    10.000000   \n",
       "\n",
       "             Balance  NumOfProducts    HasCrCard  IsActiveMember  \\\n",
       "count   10000.000000   10000.000000  10000.00000    10000.000000   \n",
       "mean    76485.889288       1.530200      0.70550        0.515100   \n",
       "std     62397.405202       0.581654      0.45584        0.499797   \n",
       "min         0.000000       1.000000      0.00000        0.000000   \n",
       "25%         0.000000       1.000000      0.00000        0.000000   \n",
       "50%     97198.540000       1.000000      1.00000        1.000000   \n",
       "75%    127644.240000       2.000000      1.00000        1.000000   \n",
       "max    250898.090000       4.000000      1.00000        1.000000   \n",
       "\n",
       "       EstimatedSalary        Exited  \n",
       "count     10000.000000  10000.000000  \n",
       "mean     100090.239881      0.203700  \n",
       "std       57510.492818      0.402769  \n",
       "min          11.580000      0.000000  \n",
       "25%       51002.110000      0.000000  \n",
       "50%      100193.915000      0.000000  \n",
       "75%      149388.247500      0.000000  \n",
       "max      199992.480000      1.000000  "
      ]
     },
     "execution_count": 7,
     "metadata": {},
     "output_type": "execute_result"
    }
   ],
   "source": [
    "data.describe()"
   ]
  },
  {
   "cell_type": "code",
   "execution_count": 8,
   "metadata": {},
   "outputs": [
    {
     "data": {
      "text/plain": [
       "Index(['RowNumber', 'CustomerId', 'Surname', 'CreditScore', 'Geography',\n",
       "       'Gender', 'Age', 'Tenure', 'Balance', 'NumOfProducts', 'HasCrCard',\n",
       "       'IsActiveMember', 'EstimatedSalary', 'Exited'],\n",
       "      dtype='object')"
      ]
     },
     "execution_count": 8,
     "metadata": {},
     "output_type": "execute_result"
    }
   ],
   "source": [
    "#  Посмотрим названия полей\n",
    "data.columns"
   ]
  },
  {
   "cell_type": "markdown",
   "metadata": {},
   "source": [
    "- RowNumber — индекс строки в данных\n",
    "- CustomerId — уникальный идентификатор клиента\n",
    "- Surname — фамилия\n",
    "- CreditScore — кредитный рейтинг\n",
    "- Geography — страна проживания\n",
    "- Gender — пол\n",
    "- Age — возраст\n",
    "- Tenure — сколько лет человек является клиентом банка\n",
    "- Balance — баланс на счёте\n",
    "- NumOfProducts — количество продуктов банка, используемых клиентом\n",
    "- HasCrCard — наличие кредитной карты\n",
    "- IsActiveMember — активность клиента\n",
    "- EstimatedSalary — предполагаемая зарплата"
   ]
  },
  {
   "cell_type": "markdown",
   "metadata": {},
   "source": [
    "Целевым признаком является столбец Exited — факт ухода клиента"
   ]
  },
  {
   "cell_type": "code",
   "execution_count": 9,
   "metadata": {},
   "outputs": [],
   "source": [
    "# Приведем в порядок названия полей\n",
    "data = data.rename(columns={'RowNumber':'Row_Number', 'CustomerId':'Customer_Id', 'CreditScore':'Credit_Score',\n",
    "       'NumOfProducts':'Num_Of_Products', 'HasCrCard':'Has_Cr_Card',\n",
    "       'IsActiveMember':'Is_Active_Member', 'EstimatedSalary':'Estimated_Salary'})"
   ]
  },
  {
   "cell_type": "code",
   "execution_count": 10,
   "metadata": {},
   "outputs": [],
   "source": [
    "# Переведем названия в нижний регистр\n",
    "data.columns = data.columns.str.lower()"
   ]
  },
  {
   "cell_type": "code",
   "execution_count": 11,
   "metadata": {},
   "outputs": [
    {
     "data": {
      "text/plain": [
       "Index(['row_number', 'customer_id', 'surname', 'credit_score', 'geography',\n",
       "       'gender', 'age', 'tenure', 'balance', 'num_of_products', 'has_cr_card',\n",
       "       'is_active_member', 'estimated_salary', 'exited'],\n",
       "      dtype='object')"
      ]
     },
     "execution_count": 11,
     "metadata": {},
     "output_type": "execute_result"
    }
   ],
   "source": [
    "# проверим скорректированные названия\n",
    "data.columns"
   ]
  },
  {
   "cell_type": "markdown",
   "metadata": {},
   "source": [
    "### Работа с пропусками"
   ]
  },
  {
   "cell_type": "code",
   "execution_count": 12,
   "metadata": {},
   "outputs": [
    {
     "data": {
      "text/plain": [
       "row_number            0\n",
       "customer_id           0\n",
       "surname               0\n",
       "credit_score          0\n",
       "geography             0\n",
       "gender                0\n",
       "age                   0\n",
       "tenure              909\n",
       "balance               0\n",
       "num_of_products       0\n",
       "has_cr_card           0\n",
       "is_active_member      0\n",
       "estimated_salary      0\n",
       "exited                0\n",
       "dtype: int64"
      ]
     },
     "execution_count": 12,
     "metadata": {},
     "output_type": "execute_result"
    }
   ],
   "source": [
    "# посмотрим пропуски\n",
    "data.isna().sum()"
   ]
  },
  {
   "cell_type": "markdown",
   "metadata": {},
   "source": [
    "В признаке \"tenure\" присутствуют пропуски. Нужно разобраться в причинах и повозможности обработать их. Рассмотрим более подробно данные с пропусками."
   ]
  },
  {
   "cell_type": "code",
   "execution_count": 13,
   "metadata": {},
   "outputs": [
    {
     "data": {
      "text/html": [
       "<div>\n",
       "<style scoped>\n",
       "    .dataframe tbody tr th:only-of-type {\n",
       "        vertical-align: middle;\n",
       "    }\n",
       "\n",
       "    .dataframe tbody tr th {\n",
       "        vertical-align: top;\n",
       "    }\n",
       "\n",
       "    .dataframe thead th {\n",
       "        text-align: right;\n",
       "    }\n",
       "</style>\n",
       "<table border=\"1\" class=\"dataframe\">\n",
       "  <thead>\n",
       "    <tr style=\"text-align: right;\">\n",
       "      <th></th>\n",
       "      <th>row_number</th>\n",
       "      <th>customer_id</th>\n",
       "      <th>surname</th>\n",
       "      <th>credit_score</th>\n",
       "      <th>geography</th>\n",
       "      <th>gender</th>\n",
       "      <th>age</th>\n",
       "      <th>tenure</th>\n",
       "      <th>balance</th>\n",
       "      <th>num_of_products</th>\n",
       "      <th>has_cr_card</th>\n",
       "      <th>is_active_member</th>\n",
       "      <th>estimated_salary</th>\n",
       "      <th>exited</th>\n",
       "    </tr>\n",
       "  </thead>\n",
       "  <tbody>\n",
       "    <tr>\n",
       "      <th>30</th>\n",
       "      <td>31</td>\n",
       "      <td>15589475</td>\n",
       "      <td>Azikiwe</td>\n",
       "      <td>591</td>\n",
       "      <td>Spain</td>\n",
       "      <td>Female</td>\n",
       "      <td>39</td>\n",
       "      <td>NaN</td>\n",
       "      <td>0.00</td>\n",
       "      <td>3</td>\n",
       "      <td>1</td>\n",
       "      <td>0</td>\n",
       "      <td>140469.38</td>\n",
       "      <td>1</td>\n",
       "    </tr>\n",
       "    <tr>\n",
       "      <th>48</th>\n",
       "      <td>49</td>\n",
       "      <td>15766205</td>\n",
       "      <td>Yin</td>\n",
       "      <td>550</td>\n",
       "      <td>Germany</td>\n",
       "      <td>Male</td>\n",
       "      <td>38</td>\n",
       "      <td>NaN</td>\n",
       "      <td>103391.38</td>\n",
       "      <td>1</td>\n",
       "      <td>0</td>\n",
       "      <td>1</td>\n",
       "      <td>90878.13</td>\n",
       "      <td>0</td>\n",
       "    </tr>\n",
       "    <tr>\n",
       "      <th>51</th>\n",
       "      <td>52</td>\n",
       "      <td>15768193</td>\n",
       "      <td>Trevisani</td>\n",
       "      <td>585</td>\n",
       "      <td>Germany</td>\n",
       "      <td>Male</td>\n",
       "      <td>36</td>\n",
       "      <td>NaN</td>\n",
       "      <td>146050.97</td>\n",
       "      <td>2</td>\n",
       "      <td>0</td>\n",
       "      <td>0</td>\n",
       "      <td>86424.57</td>\n",
       "      <td>0</td>\n",
       "    </tr>\n",
       "    <tr>\n",
       "      <th>53</th>\n",
       "      <td>54</td>\n",
       "      <td>15702298</td>\n",
       "      <td>Parkhill</td>\n",
       "      <td>655</td>\n",
       "      <td>Germany</td>\n",
       "      <td>Male</td>\n",
       "      <td>41</td>\n",
       "      <td>NaN</td>\n",
       "      <td>125561.97</td>\n",
       "      <td>1</td>\n",
       "      <td>0</td>\n",
       "      <td>0</td>\n",
       "      <td>164040.94</td>\n",
       "      <td>1</td>\n",
       "    </tr>\n",
       "    <tr>\n",
       "      <th>60</th>\n",
       "      <td>61</td>\n",
       "      <td>15651280</td>\n",
       "      <td>Hunter</td>\n",
       "      <td>742</td>\n",
       "      <td>Germany</td>\n",
       "      <td>Male</td>\n",
       "      <td>35</td>\n",
       "      <td>NaN</td>\n",
       "      <td>136857.00</td>\n",
       "      <td>1</td>\n",
       "      <td>0</td>\n",
       "      <td>0</td>\n",
       "      <td>84509.57</td>\n",
       "      <td>0</td>\n",
       "    </tr>\n",
       "    <tr>\n",
       "      <th>...</th>\n",
       "      <td>...</td>\n",
       "      <td>...</td>\n",
       "      <td>...</td>\n",
       "      <td>...</td>\n",
       "      <td>...</td>\n",
       "      <td>...</td>\n",
       "      <td>...</td>\n",
       "      <td>...</td>\n",
       "      <td>...</td>\n",
       "      <td>...</td>\n",
       "      <td>...</td>\n",
       "      <td>...</td>\n",
       "      <td>...</td>\n",
       "      <td>...</td>\n",
       "    </tr>\n",
       "    <tr>\n",
       "      <th>9944</th>\n",
       "      <td>9945</td>\n",
       "      <td>15703923</td>\n",
       "      <td>Cameron</td>\n",
       "      <td>744</td>\n",
       "      <td>Germany</td>\n",
       "      <td>Male</td>\n",
       "      <td>41</td>\n",
       "      <td>NaN</td>\n",
       "      <td>190409.34</td>\n",
       "      <td>2</td>\n",
       "      <td>1</td>\n",
       "      <td>1</td>\n",
       "      <td>138361.48</td>\n",
       "      <td>0</td>\n",
       "    </tr>\n",
       "    <tr>\n",
       "      <th>9956</th>\n",
       "      <td>9957</td>\n",
       "      <td>15707861</td>\n",
       "      <td>Nucci</td>\n",
       "      <td>520</td>\n",
       "      <td>France</td>\n",
       "      <td>Female</td>\n",
       "      <td>46</td>\n",
       "      <td>NaN</td>\n",
       "      <td>85216.61</td>\n",
       "      <td>1</td>\n",
       "      <td>1</td>\n",
       "      <td>0</td>\n",
       "      <td>117369.52</td>\n",
       "      <td>1</td>\n",
       "    </tr>\n",
       "    <tr>\n",
       "      <th>9964</th>\n",
       "      <td>9965</td>\n",
       "      <td>15642785</td>\n",
       "      <td>Douglas</td>\n",
       "      <td>479</td>\n",
       "      <td>France</td>\n",
       "      <td>Male</td>\n",
       "      <td>34</td>\n",
       "      <td>NaN</td>\n",
       "      <td>117593.48</td>\n",
       "      <td>2</td>\n",
       "      <td>0</td>\n",
       "      <td>0</td>\n",
       "      <td>113308.29</td>\n",
       "      <td>0</td>\n",
       "    </tr>\n",
       "    <tr>\n",
       "      <th>9985</th>\n",
       "      <td>9986</td>\n",
       "      <td>15586914</td>\n",
       "      <td>Nepean</td>\n",
       "      <td>659</td>\n",
       "      <td>France</td>\n",
       "      <td>Male</td>\n",
       "      <td>36</td>\n",
       "      <td>NaN</td>\n",
       "      <td>123841.49</td>\n",
       "      <td>2</td>\n",
       "      <td>1</td>\n",
       "      <td>0</td>\n",
       "      <td>96833.00</td>\n",
       "      <td>0</td>\n",
       "    </tr>\n",
       "    <tr>\n",
       "      <th>9999</th>\n",
       "      <td>10000</td>\n",
       "      <td>15628319</td>\n",
       "      <td>Walker</td>\n",
       "      <td>792</td>\n",
       "      <td>France</td>\n",
       "      <td>Female</td>\n",
       "      <td>28</td>\n",
       "      <td>NaN</td>\n",
       "      <td>130142.79</td>\n",
       "      <td>1</td>\n",
       "      <td>1</td>\n",
       "      <td>0</td>\n",
       "      <td>38190.78</td>\n",
       "      <td>0</td>\n",
       "    </tr>\n",
       "  </tbody>\n",
       "</table>\n",
       "<p>909 rows × 14 columns</p>\n",
       "</div>"
      ],
      "text/plain": [
       "      row_number  customer_id    surname  credit_score geography  gender  age  \\\n",
       "30            31     15589475    Azikiwe           591     Spain  Female   39   \n",
       "48            49     15766205        Yin           550   Germany    Male   38   \n",
       "51            52     15768193  Trevisani           585   Germany    Male   36   \n",
       "53            54     15702298   Parkhill           655   Germany    Male   41   \n",
       "60            61     15651280     Hunter           742   Germany    Male   35   \n",
       "...          ...          ...        ...           ...       ...     ...  ...   \n",
       "9944        9945     15703923    Cameron           744   Germany    Male   41   \n",
       "9956        9957     15707861      Nucci           520    France  Female   46   \n",
       "9964        9965     15642785    Douglas           479    France    Male   34   \n",
       "9985        9986     15586914     Nepean           659    France    Male   36   \n",
       "9999       10000     15628319     Walker           792    France  Female   28   \n",
       "\n",
       "      tenure    balance  num_of_products  has_cr_card  is_active_member  \\\n",
       "30       NaN       0.00                3            1                 0   \n",
       "48       NaN  103391.38                1            0                 1   \n",
       "51       NaN  146050.97                2            0                 0   \n",
       "53       NaN  125561.97                1            0                 0   \n",
       "60       NaN  136857.00                1            0                 0   \n",
       "...      ...        ...              ...          ...               ...   \n",
       "9944     NaN  190409.34                2            1                 1   \n",
       "9956     NaN   85216.61                1            1                 0   \n",
       "9964     NaN  117593.48                2            0                 0   \n",
       "9985     NaN  123841.49                2            1                 0   \n",
       "9999     NaN  130142.79                1            1                 0   \n",
       "\n",
       "      estimated_salary  exited  \n",
       "30           140469.38       1  \n",
       "48            90878.13       0  \n",
       "51            86424.57       0  \n",
       "53           164040.94       1  \n",
       "60            84509.57       0  \n",
       "...                ...     ...  \n",
       "9944         138361.48       0  \n",
       "9956         117369.52       1  \n",
       "9964         113308.29       0  \n",
       "9985          96833.00       0  \n",
       "9999          38190.78       0  \n",
       "\n",
       "[909 rows x 14 columns]"
      ]
     },
     "execution_count": 13,
     "metadata": {},
     "output_type": "execute_result"
    }
   ],
   "source": [
    "data[data['tenure'].isna()==True]"
   ]
  },
  {
   "cell_type": "code",
   "execution_count": 14,
   "metadata": {},
   "outputs": [
    {
     "name": "stdout",
     "output_type": "stream",
     "text": [
      "10.0 % пропусков в данных\n"
     ]
    }
   ],
   "source": [
    "#рассчитаем объем пропусков\n",
    "print((data['tenure'].isna().sum()/data['tenure'].count()).round(2)*100,'% пропусков в данных')"
   ]
  },
  {
   "cell_type": "code",
   "execution_count": 15,
   "metadata": {},
   "outputs": [
    {
     "data": {
      "text/plain": [
       "1.0     952\n",
       "2.0     950\n",
       "8.0     933\n",
       "3.0     928\n",
       "5.0     927\n",
       "7.0     925\n",
       "4.0     885\n",
       "9.0     882\n",
       "6.0     881\n",
       "10.0    446\n",
       "0.0     382\n",
       "Name: tenure, dtype: int64"
      ]
     },
     "execution_count": 15,
     "metadata": {},
     "output_type": "execute_result"
    }
   ],
   "source": [
    "data['tenure'].value_counts()"
   ]
  },
  {
   "cell_type": "code",
   "execution_count": 16,
   "metadata": {},
   "outputs": [
    {
     "data": {
      "image/png": "[encoded data removed]",
      "text/plain": [
       "<Figure size 432x288 with 1 Axes>"
      ]
     },
     "metadata": {
      "needs_background": "light"
     },
     "output_type": "display_data"
    }
   ],
   "source": [
    "# построим гистограмму по столбцу Tenure\n",
    "data['tenure'].hist(bins=11)\n",
    "plt.show()"
   ]
  },
  {
   "cell_type": "code",
   "execution_count": 17,
   "metadata": {},
   "outputs": [
    {
     "data": {
      "text/plain": [
       "5.0"
      ]
     },
     "execution_count": 17,
     "metadata": {},
     "output_type": "execute_result"
    }
   ],
   "source": [
    "# посмотрим медиану\n",
    "data['tenure'].median()"
   ]
  },
  {
   "cell_type": "code",
   "execution_count": 18,
   "metadata": {},
   "outputs": [
    {
     "data": {
      "text/plain": [
       "4.997690023099769"
      ]
     },
     "execution_count": 18,
     "metadata": {},
     "output_type": "execute_result"
    }
   ],
   "source": [
    "# посмотрим среднее значение\n",
    "data['tenure'].mean()"
   ]
  },
  {
   "cell_type": "markdown",
   "metadata": {},
   "source": [
    "Остальные данные не повреждены, все данные находятся в пределах нормы.\n",
    "\n",
    "Причинами отсутствия данных может быть либо техническая ошибка при переносе данных или возможно, что данные клиенты новые для банка, и данные могут еще не отражаться в столбце \"сколько лет является клиентом банка\".\n",
    "\n",
    "Данные с пропусками можно либо удалить, либо заменить на 0, так как может быть, что это новые клиенты и данные о них еще не подгрузились, можно так же заменить на среднее значения.\n",
    "\n",
    "но так как объем пропусков составляет 10%, что значительно может повлиять на результат, считаю что лучше заменить их на случайные величины в пределах данных, чтобы неиспортить исходные данные."
   ]
  },
  {
   "cell_type": "code",
   "execution_count": 19,
   "metadata": {},
   "outputs": [],
   "source": [
    "# заменим пропуски на случайные величины\n",
    "rnd_numbers = (np.random.randint(0,10,size=data['tenure'].isna().sum()))\n",
    "data.loc[data['tenure'].isna(),'tenure']=rnd_numbers"
   ]
  },
  {
   "cell_type": "code",
   "execution_count": 20,
   "metadata": {},
   "outputs": [
    {
     "name": "stdout",
     "output_type": "stream",
     "text": [
      "<class 'pandas.core.frame.DataFrame'>\n",
      "RangeIndex: 10000 entries, 0 to 9999\n",
      "Data columns (total 14 columns):\n",
      " #   Column            Non-Null Count  Dtype  \n",
      "---  ------            --------------  -----  \n",
      " 0   row_number        10000 non-null  int64  \n",
      " 1   customer_id       10000 non-null  int64  \n",
      " 2   surname           10000 non-null  object \n",
      " 3   credit_score      10000 non-null  int64  \n",
      " 4   geography         10000 non-null  object \n",
      " 5   gender            10000 non-null  object \n",
      " 6   age               10000 non-null  int64  \n",
      " 7   tenure            10000 non-null  float64\n",
      " 8   balance           10000 non-null  float64\n",
      " 9   num_of_products   10000 non-null  int64  \n",
      " 10  has_cr_card       10000 non-null  int64  \n",
      " 11  is_active_member  10000 non-null  int64  \n",
      " 12  estimated_salary  10000 non-null  float64\n",
      " 13  exited            10000 non-null  int64  \n",
      "dtypes: float64(3), int64(8), object(3)\n",
      "memory usage: 1.1+ MB\n"
     ]
    }
   ],
   "source": [
    "data.info()"
   ]
  },
  {
   "cell_type": "code",
   "execution_count": 21,
   "metadata": {},
   "outputs": [
    {
     "data": {
      "text/plain": [
       "0"
      ]
     },
     "execution_count": 21,
     "metadata": {},
     "output_type": "execute_result"
    }
   ],
   "source": [
    "# проверим\n",
    "data['tenure'].isna().sum()"
   ]
  },
  {
   "cell_type": "code",
   "execution_count": 22,
   "metadata": {},
   "outputs": [
    {
     "data": {
      "image/png": "[encoded data removed]",
      "text/plain": [
       "<Figure size 432x288 with 1 Axes>"
      ]
     },
     "metadata": {
      "needs_background": "light"
     },
     "output_type": "display_data"
    }
   ],
   "source": [
    "# построим гистограмму по столбцу Tenure после замены на рандомные числа\n",
    "data['tenure'].hist(bins=11)\n",
    "plt.show()"
   ]
  },
  {
   "cell_type": "markdown",
   "metadata": {},
   "source": [
    "Успешно заменили пропуски в признаке"
   ]
  },
  {
   "cell_type": "code",
   "execution_count": 23,
   "metadata": {},
   "outputs": [
    {
     "data": {
      "text/plain": [
       "0"
      ]
     },
     "execution_count": 23,
     "metadata": {},
     "output_type": "execute_result"
    }
   ],
   "source": [
    "#проверим дубликаты\n",
    "data.duplicated().sum()"
   ]
  },
  {
   "cell_type": "code",
   "execution_count": 24,
   "metadata": {},
   "outputs": [
    {
     "data": {
      "text/plain": [
       "0"
      ]
     },
     "execution_count": 24,
     "metadata": {},
     "output_type": "execute_result"
    }
   ],
   "source": [
    "#проверим дубликаты в уникальном идентификаторе клиента\n",
    "data['customer_id'].duplicated().sum()"
   ]
  },
  {
   "cell_type": "markdown",
   "metadata": {},
   "source": [
    "### Рассмотрим выбросы"
   ]
  },
  {
   "cell_type": "code",
   "execution_count": 25,
   "metadata": {},
   "outputs": [
    {
     "data": {
      "image/png": "[encoded data removed]",
      "text/plain": [
       "<Figure size 1872x1872 with 12 Axes>"
      ]
     },
     "metadata": {
      "needs_background": "light"
     },
     "output_type": "display_data"
    }
   ],
   "source": [
    "# посмотрим распределения по всем полям\n",
    "data.hist(figsize=(26,26), bins=30)\n",
    "plt.show()"
   ]
  },
  {
   "cell_type": "markdown",
   "metadata": {},
   "source": [
    "рассмотрев диаграммы распределения, можно увидить некоторые выбросы, но выглядят они естественно, например баланс на счете равный 0 у большенства клиентов, или кредитный рейтинг максимальный."
   ]
  },
  {
   "cell_type": "markdown",
   "metadata": {},
   "source": [
    "### Вывод"
   ]
  },
  {
   "cell_type": "markdown",
   "metadata": {},
   "source": [
    "В данной работе были изучены данные клиентов «Бета-Банка». Создали датасет data на 10000 строк (уникальных клиентов) и 14 столбцов (признаков). Данные были изучены и подготовлены для исследования:\n",
    "- провели информация о таблице\n",
    "- названия столбцов привели к нижнему регистру и к змеиному коду.\n",
    "- в столбце tenure были обнаружены пропуски в размере 10% от всего датасета. Так как данных много, и они сильно могут повлиять на изучение, было решено заменить их на рандомные значения в пределах данных от 0 до 10%\n",
    "- Изучены выбрасы, в данном датасете были обнаружены выбросы, которые выглядят естественно."
   ]
  },
  {
   "cell_type": "markdown",
   "metadata": {},
   "source": [
    "## Исследование задачи"
   ]
  },
  {
   "cell_type": "markdown",
   "metadata": {},
   "source": [
    "### Изучим данные в стобцах"
   ]
  },
  {
   "cell_type": "code",
   "execution_count": 26,
   "metadata": {},
   "outputs": [
    {
     "data": {
      "text/plain": [
       "row_number            int64\n",
       "customer_id           int64\n",
       "surname              object\n",
       "credit_score          int64\n",
       "geography            object\n",
       "gender               object\n",
       "age                   int64\n",
       "tenure              float64\n",
       "balance             float64\n",
       "num_of_products       int64\n",
       "has_cr_card           int64\n",
       "is_active_member      int64\n",
       "estimated_salary    float64\n",
       "exited                int64\n",
       "dtype: object"
      ]
     },
     "execution_count": 26,
     "metadata": {},
     "output_type": "execute_result"
    }
   ],
   "source": [
    "# Посмотрим тип данных в столбцах\n",
    "data.dtypes"
   ]
  },
  {
   "cell_type": "code",
   "execution_count": 27,
   "metadata": {},
   "outputs": [
    {
     "data": {
      "text/plain": [
       "France     5014\n",
       "Germany    2509\n",
       "Spain      2477\n",
       "Name: geography, dtype: int64"
      ]
     },
     "execution_count": 27,
     "metadata": {},
     "output_type": "execute_result"
    }
   ],
   "source": [
    "# Посмотрим значения по столбцу Geography\n",
    "data['geography'].value_counts()"
   ]
  },
  {
   "cell_type": "code",
   "execution_count": 28,
   "metadata": {},
   "outputs": [
    {
     "data": {
      "text/plain": [
       "Male      5457\n",
       "Female    4543\n",
       "Name: gender, dtype: int64"
      ]
     },
     "execution_count": 28,
     "metadata": {},
     "output_type": "execute_result"
    }
   ],
   "source": [
    "# Посмотрим значения по столбцу Gender\n",
    "data['gender'].value_counts()"
   ]
  },
  {
   "cell_type": "markdown",
   "metadata": {},
   "source": [
    "### Рассмотрим данные по оттокам и оставшимся клиентам"
   ]
  },
  {
   "cell_type": "markdown",
   "metadata": {},
   "source": [
    "Посмотрим на гистограмму значений оттока и оставшихся клиентов:"
   ]
  },
  {
   "cell_type": "code",
   "execution_count": 29,
   "metadata": {},
   "outputs": [
    {
     "data": {
      "text/plain": [
       "<AxesSubplot:title={'center':'Соотношение оставшихся и ушедших клиентов'}>"
      ]
     },
     "execution_count": 29,
     "metadata": {},
     "output_type": "execute_result"
    },
    {
     "data": {
      "image/png": "[encoded data removed]",
      "text/plain": [
       "<Figure size 720x432 with 1 Axes>"
      ]
     },
     "metadata": {
      "needs_background": "light"
     },
     "output_type": "display_data"
    }
   ],
   "source": [
    "data['exited'].value_counts().plot(kind='bar',grid=True,figsize=(10,6),title='Соотношение оставшихся и ушедших клиентов')"
   ]
  },
  {
   "cell_type": "markdown",
   "metadata": {},
   "source": [
    "Вывод: при изучении выявлено соотношение ушедших и оставшихся клиентов 1:4, такое соотношение показывает что присутствует дисбаланс в данных.\n"
   ]
  },
  {
   "cell_type": "markdown",
   "metadata": {},
   "source": [
    "Рассмотрим зависимость возраста на отток клиентов"
   ]
  },
  {
   "cell_type": "code",
   "execution_count": 30,
   "metadata": {},
   "outputs": [
    {
     "data": {
      "image/png": "[encoded data removed]",
      "text/plain": [
       "<Figure size 1080x432 with 1 Axes>"
      ]
     },
     "metadata": {
      "needs_background": "light"
     },
     "output_type": "display_data"
    }
   ],
   "source": [
    "data.groupby('age')['exited'].sum().plot(figsize=(15,6),kind='bar',title='Гистограмма возраста и оттока')\n",
    "plt.show()"
   ]
  },
  {
   "cell_type": "markdown",
   "metadata": {},
   "source": [
    "По гистограмме распределения видно, что отток зависит от возраста и распределяется нормально. Больше всего уходит клиентов в возрасте от 37 до 52 лет."
   ]
  },
  {
   "cell_type": "markdown",
   "metadata": {},
   "source": [
    "Рассмотрим зависимость между тем сколько клиент уже обслуживается в банке на отток клиентов"
   ]
  },
  {
   "cell_type": "code",
   "execution_count": 31,
   "metadata": {},
   "outputs": [
    {
     "data": {
      "image/png": "[encoded data removed]",
      "text/plain": [
       "<Figure size 1080x432 with 1 Axes>"
      ]
     },
     "metadata": {
      "needs_background": "light"
     },
     "output_type": "display_data"
    }
   ],
   "source": [
    "data.groupby('tenure')['exited'].count().plot(figsize=(15,6),kind='bar',title='Гистограмма сколько лет человек является клиентом банка и оттока')\n",
    "plt.show()"
   ]
  },
  {
   "cell_type": "markdown",
   "metadata": {},
   "source": [
    "На данной гисторгамме видна равномерное распределение, что независимо от срока клиент может уйти из банка, но можно увидеть, что те кто только пришел, и те кто обслуживаются 10 лет, меньше уходят."
   ]
  },
  {
   "cell_type": "markdown",
   "metadata": {},
   "source": [
    "Построим гистограмму зависимости баланса денег у тех кто ушел и тех кто остался:"
   ]
  },
  {
   "cell_type": "code",
   "execution_count": 32,
   "metadata": {},
   "outputs": [
    {
     "data": {
      "text/plain": [
       "<AxesSubplot:title={'center':'Гистограмма медианного баланса денег у тех кто ушел и тех кто остался'}, xlabel='exited'>"
      ]
     },
     "execution_count": 32,
     "metadata": {},
     "output_type": "execute_result"
    },
    {
     "data": {
      "image/png": "[encoded data removed]",
      "text/plain": [
       "<Figure size 432x288 with 1 Axes>"
      ]
     },
     "metadata": {
      "needs_background": "light"
     },
     "output_type": "display_data"
    }
   ],
   "source": [
    "data.groupby('exited')['balance'].median().plot(kind\n",
    "                                              ='bar',title\n",
    "                                              ='Гистограмма медианного баланса денег у тех кто ушел и тех кто остался')"
   ]
  },
  {
   "cell_type": "markdown",
   "metadata": {},
   "source": [
    "На гистограмме видно, что зависимость не сильная, но среднее значение баланса немного выше у тех кто ушел. Посчитаем корреляцию Пирсона:"
   ]
  },
  {
   "cell_type": "code",
   "execution_count": 33,
   "metadata": {},
   "outputs": [
    {
     "data": {
      "text/html": [
       "<div>\n",
       "<style scoped>\n",
       "    .dataframe tbody tr th:only-of-type {\n",
       "        vertical-align: middle;\n",
       "    }\n",
       "\n",
       "    .dataframe tbody tr th {\n",
       "        vertical-align: top;\n",
       "    }\n",
       "\n",
       "    .dataframe thead th {\n",
       "        text-align: right;\n",
       "    }\n",
       "</style>\n",
       "<table border=\"1\" class=\"dataframe\">\n",
       "  <thead>\n",
       "    <tr style=\"text-align: right;\">\n",
       "      <th></th>\n",
       "      <th>row_number</th>\n",
       "      <th>customer_id</th>\n",
       "      <th>credit_score</th>\n",
       "      <th>age</th>\n",
       "      <th>tenure</th>\n",
       "      <th>balance</th>\n",
       "      <th>num_of_products</th>\n",
       "      <th>has_cr_card</th>\n",
       "      <th>is_active_member</th>\n",
       "      <th>estimated_salary</th>\n",
       "      <th>exited</th>\n",
       "    </tr>\n",
       "  </thead>\n",
       "  <tbody>\n",
       "    <tr>\n",
       "      <th>row_number</th>\n",
       "      <td>1.000000</td>\n",
       "      <td>0.004202</td>\n",
       "      <td>0.005840</td>\n",
       "      <td>0.000783</td>\n",
       "      <td>-0.006369</td>\n",
       "      <td>-0.009067</td>\n",
       "      <td>0.007246</td>\n",
       "      <td>0.000599</td>\n",
       "      <td>0.012044</td>\n",
       "      <td>-0.005988</td>\n",
       "      <td>-0.016571</td>\n",
       "    </tr>\n",
       "    <tr>\n",
       "      <th>customer_id</th>\n",
       "      <td>0.004202</td>\n",
       "      <td>1.000000</td>\n",
       "      <td>0.005308</td>\n",
       "      <td>0.009497</td>\n",
       "      <td>-0.014652</td>\n",
       "      <td>-0.012419</td>\n",
       "      <td>0.016972</td>\n",
       "      <td>-0.014025</td>\n",
       "      <td>0.001665</td>\n",
       "      <td>0.015271</td>\n",
       "      <td>-0.006248</td>\n",
       "    </tr>\n",
       "    <tr>\n",
       "      <th>credit_score</th>\n",
       "      <td>0.005840</td>\n",
       "      <td>0.005308</td>\n",
       "      <td>1.000000</td>\n",
       "      <td>-0.003965</td>\n",
       "      <td>0.010820</td>\n",
       "      <td>0.006268</td>\n",
       "      <td>0.012238</td>\n",
       "      <td>-0.005458</td>\n",
       "      <td>0.025651</td>\n",
       "      <td>-0.001384</td>\n",
       "      <td>-0.027094</td>\n",
       "    </tr>\n",
       "    <tr>\n",
       "      <th>age</th>\n",
       "      <td>0.000783</td>\n",
       "      <td>0.009497</td>\n",
       "      <td>-0.003965</td>\n",
       "      <td>1.000000</td>\n",
       "      <td>-0.009757</td>\n",
       "      <td>0.028308</td>\n",
       "      <td>-0.030680</td>\n",
       "      <td>-0.011721</td>\n",
       "      <td>0.085472</td>\n",
       "      <td>-0.007201</td>\n",
       "      <td>0.285323</td>\n",
       "    </tr>\n",
       "    <tr>\n",
       "      <th>tenure</th>\n",
       "      <td>-0.006369</td>\n",
       "      <td>-0.014652</td>\n",
       "      <td>0.010820</td>\n",
       "      <td>-0.009757</td>\n",
       "      <td>1.000000</td>\n",
       "      <td>-0.007555</td>\n",
       "      <td>0.013334</td>\n",
       "      <td>0.020264</td>\n",
       "      <td>-0.026754</td>\n",
       "      <td>0.010850</td>\n",
       "      <td>-0.018635</td>\n",
       "    </tr>\n",
       "    <tr>\n",
       "      <th>balance</th>\n",
       "      <td>-0.009067</td>\n",
       "      <td>-0.012419</td>\n",
       "      <td>0.006268</td>\n",
       "      <td>0.028308</td>\n",
       "      <td>-0.007555</td>\n",
       "      <td>1.000000</td>\n",
       "      <td>-0.304180</td>\n",
       "      <td>-0.014858</td>\n",
       "      <td>-0.010084</td>\n",
       "      <td>0.012797</td>\n",
       "      <td>0.118533</td>\n",
       "    </tr>\n",
       "    <tr>\n",
       "      <th>num_of_products</th>\n",
       "      <td>0.007246</td>\n",
       "      <td>0.016972</td>\n",
       "      <td>0.012238</td>\n",
       "      <td>-0.030680</td>\n",
       "      <td>0.013334</td>\n",
       "      <td>-0.304180</td>\n",
       "      <td>1.000000</td>\n",
       "      <td>0.003183</td>\n",
       "      <td>0.009612</td>\n",
       "      <td>0.014204</td>\n",
       "      <td>-0.047820</td>\n",
       "    </tr>\n",
       "    <tr>\n",
       "      <th>has_cr_card</th>\n",
       "      <td>0.000599</td>\n",
       "      <td>-0.014025</td>\n",
       "      <td>-0.005458</td>\n",
       "      <td>-0.011721</td>\n",
       "      <td>0.020264</td>\n",
       "      <td>-0.014858</td>\n",
       "      <td>0.003183</td>\n",
       "      <td>1.000000</td>\n",
       "      <td>-0.011866</td>\n",
       "      <td>-0.009933</td>\n",
       "      <td>-0.007138</td>\n",
       "    </tr>\n",
       "    <tr>\n",
       "      <th>is_active_member</th>\n",
       "      <td>0.012044</td>\n",
       "      <td>0.001665</td>\n",
       "      <td>0.025651</td>\n",
       "      <td>0.085472</td>\n",
       "      <td>-0.026754</td>\n",
       "      <td>-0.010084</td>\n",
       "      <td>0.009612</td>\n",
       "      <td>-0.011866</td>\n",
       "      <td>1.000000</td>\n",
       "      <td>-0.011421</td>\n",
       "      <td>-0.156128</td>\n",
       "    </tr>\n",
       "    <tr>\n",
       "      <th>estimated_salary</th>\n",
       "      <td>-0.005988</td>\n",
       "      <td>0.015271</td>\n",
       "      <td>-0.001384</td>\n",
       "      <td>-0.007201</td>\n",
       "      <td>0.010850</td>\n",
       "      <td>0.012797</td>\n",
       "      <td>0.014204</td>\n",
       "      <td>-0.009933</td>\n",
       "      <td>-0.011421</td>\n",
       "      <td>1.000000</td>\n",
       "      <td>0.012097</td>\n",
       "    </tr>\n",
       "    <tr>\n",
       "      <th>exited</th>\n",
       "      <td>-0.016571</td>\n",
       "      <td>-0.006248</td>\n",
       "      <td>-0.027094</td>\n",
       "      <td>0.285323</td>\n",
       "      <td>-0.018635</td>\n",
       "      <td>0.118533</td>\n",
       "      <td>-0.047820</td>\n",
       "      <td>-0.007138</td>\n",
       "      <td>-0.156128</td>\n",
       "      <td>0.012097</td>\n",
       "      <td>1.000000</td>\n",
       "    </tr>\n",
       "  </tbody>\n",
       "</table>\n",
       "</div>"
      ],
      "text/plain": [
       "                  row_number  customer_id  credit_score       age    tenure  \\\n",
       "row_number          1.000000     0.004202      0.005840  0.000783 -0.006369   \n",
       "customer_id         0.004202     1.000000      0.005308  0.009497 -0.014652   \n",
       "credit_score        0.005840     0.005308      1.000000 -0.003965  0.010820   \n",
       "age                 0.000783     0.009497     -0.003965  1.000000 -0.009757   \n",
       "tenure             -0.006369    -0.014652      0.010820 -0.009757  1.000000   \n",
       "balance            -0.009067    -0.012419      0.006268  0.028308 -0.007555   \n",
       "num_of_products     0.007246     0.016972      0.012238 -0.030680  0.013334   \n",
       "has_cr_card         0.000599    -0.014025     -0.005458 -0.011721  0.020264   \n",
       "is_active_member    0.012044     0.001665      0.025651  0.085472 -0.026754   \n",
       "estimated_salary   -0.005988     0.015271     -0.001384 -0.007201  0.010850   \n",
       "exited             -0.016571    -0.006248     -0.027094  0.285323 -0.018635   \n",
       "\n",
       "                   balance  num_of_products  has_cr_card  is_active_member  \\\n",
       "row_number       -0.009067         0.007246     0.000599          0.012044   \n",
       "customer_id      -0.012419         0.016972    -0.014025          0.001665   \n",
       "credit_score      0.006268         0.012238    -0.005458          0.025651   \n",
       "age               0.028308        -0.030680    -0.011721          0.085472   \n",
       "tenure           -0.007555         0.013334     0.020264         -0.026754   \n",
       "balance           1.000000        -0.304180    -0.014858         -0.010084   \n",
       "num_of_products  -0.304180         1.000000     0.003183          0.009612   \n",
       "has_cr_card      -0.014858         0.003183     1.000000         -0.011866   \n",
       "is_active_member -0.010084         0.009612    -0.011866          1.000000   \n",
       "estimated_salary  0.012797         0.014204    -0.009933         -0.011421   \n",
       "exited            0.118533        -0.047820    -0.007138         -0.156128   \n",
       "\n",
       "                  estimated_salary    exited  \n",
       "row_number               -0.005988 -0.016571  \n",
       "customer_id               0.015271 -0.006248  \n",
       "credit_score             -0.001384 -0.027094  \n",
       "age                      -0.007201  0.285323  \n",
       "tenure                    0.010850 -0.018635  \n",
       "balance                   0.012797  0.118533  \n",
       "num_of_products           0.014204 -0.047820  \n",
       "has_cr_card              -0.009933 -0.007138  \n",
       "is_active_member         -0.011421 -0.156128  \n",
       "estimated_salary          1.000000  0.012097  \n",
       "exited                    0.012097  1.000000  "
      ]
     },
     "execution_count": 33,
     "metadata": {},
     "output_type": "execute_result"
    }
   ],
   "source": [
    "data.corr()"
   ]
  },
  {
   "cell_type": "markdown",
   "metadata": {},
   "source": [
    "Видно, что все признаки не сильно коррелируются с целевым признаком. Скорее всего там зависимость сложнее."
   ]
  },
  {
   "cell_type": "markdown",
   "metadata": {},
   "source": [
    "### Подготовка данных для машинного обучения"
   ]
  },
  {
   "cell_type": "code",
   "execution_count": 34,
   "metadata": {},
   "outputs": [
    {
     "data": {
      "text/html": [
       "<div>\n",
       "<style scoped>\n",
       "    .dataframe tbody tr th:only-of-type {\n",
       "        vertical-align: middle;\n",
       "    }\n",
       "\n",
       "    .dataframe tbody tr th {\n",
       "        vertical-align: top;\n",
       "    }\n",
       "\n",
       "    .dataframe thead th {\n",
       "        text-align: right;\n",
       "    }\n",
       "</style>\n",
       "<table border=\"1\" class=\"dataframe\">\n",
       "  <thead>\n",
       "    <tr style=\"text-align: right;\">\n",
       "      <th></th>\n",
       "      <th>credit_score</th>\n",
       "      <th>geography</th>\n",
       "      <th>gender</th>\n",
       "      <th>age</th>\n",
       "      <th>tenure</th>\n",
       "      <th>balance</th>\n",
       "      <th>num_of_products</th>\n",
       "      <th>has_cr_card</th>\n",
       "      <th>is_active_member</th>\n",
       "      <th>estimated_salary</th>\n",
       "      <th>exited</th>\n",
       "    </tr>\n",
       "  </thead>\n",
       "  <tbody>\n",
       "    <tr>\n",
       "      <th>0</th>\n",
       "      <td>619</td>\n",
       "      <td>France</td>\n",
       "      <td>Female</td>\n",
       "      <td>42</td>\n",
       "      <td>2.0</td>\n",
       "      <td>0.00</td>\n",
       "      <td>1</td>\n",
       "      <td>1</td>\n",
       "      <td>1</td>\n",
       "      <td>101348.88</td>\n",
       "      <td>1</td>\n",
       "    </tr>\n",
       "    <tr>\n",
       "      <th>1</th>\n",
       "      <td>608</td>\n",
       "      <td>Spain</td>\n",
       "      <td>Female</td>\n",
       "      <td>41</td>\n",
       "      <td>1.0</td>\n",
       "      <td>83807.86</td>\n",
       "      <td>1</td>\n",
       "      <td>0</td>\n",
       "      <td>1</td>\n",
       "      <td>112542.58</td>\n",
       "      <td>0</td>\n",
       "    </tr>\n",
       "    <tr>\n",
       "      <th>2</th>\n",
       "      <td>502</td>\n",
       "      <td>France</td>\n",
       "      <td>Female</td>\n",
       "      <td>42</td>\n",
       "      <td>8.0</td>\n",
       "      <td>159660.80</td>\n",
       "      <td>3</td>\n",
       "      <td>1</td>\n",
       "      <td>0</td>\n",
       "      <td>113931.57</td>\n",
       "      <td>1</td>\n",
       "    </tr>\n",
       "    <tr>\n",
       "      <th>3</th>\n",
       "      <td>699</td>\n",
       "      <td>France</td>\n",
       "      <td>Female</td>\n",
       "      <td>39</td>\n",
       "      <td>1.0</td>\n",
       "      <td>0.00</td>\n",
       "      <td>2</td>\n",
       "      <td>0</td>\n",
       "      <td>0</td>\n",
       "      <td>93826.63</td>\n",
       "      <td>0</td>\n",
       "    </tr>\n",
       "    <tr>\n",
       "      <th>4</th>\n",
       "      <td>850</td>\n",
       "      <td>Spain</td>\n",
       "      <td>Female</td>\n",
       "      <td>43</td>\n",
       "      <td>2.0</td>\n",
       "      <td>125510.82</td>\n",
       "      <td>1</td>\n",
       "      <td>1</td>\n",
       "      <td>1</td>\n",
       "      <td>79084.10</td>\n",
       "      <td>0</td>\n",
       "    </tr>\n",
       "  </tbody>\n",
       "</table>\n",
       "</div>"
      ],
      "text/plain": [
       "   credit_score geography  gender  age  tenure    balance  num_of_products  \\\n",
       "0           619    France  Female   42     2.0       0.00                1   \n",
       "1           608     Spain  Female   41     1.0   83807.86                1   \n",
       "2           502    France  Female   42     8.0  159660.80                3   \n",
       "3           699    France  Female   39     1.0       0.00                2   \n",
       "4           850     Spain  Female   43     2.0  125510.82                1   \n",
       "\n",
       "   has_cr_card  is_active_member  estimated_salary  exited  \n",
       "0            1                 1         101348.88       1  \n",
       "1            0                 1         112542.58       0  \n",
       "2            1                 0         113931.57       1  \n",
       "3            0                 0          93826.63       0  \n",
       "4            1                 1          79084.10       0  "
      ]
     },
     "execution_count": 34,
     "metadata": {},
     "output_type": "execute_result"
    }
   ],
   "source": [
    "#Обозначим новый датафрейм \"data_ml\" — данные для машинного обучения\n",
    "#Удалим столбцы-идентификаторы, не представляющие ценностия для алгоритма \n",
    "for_drop = ['row_number','customer_id', 'surname']\n",
    "data_ml = data.drop(for_drop, axis=1)\n",
    "data_ml.head()"
   ]
  },
  {
   "cell_type": "code",
   "execution_count": 35,
   "metadata": {},
   "outputs": [
    {
     "data": {
      "text/plain": [
       "(10000, 11)"
      ]
     },
     "execution_count": 35,
     "metadata": {},
     "output_type": "execute_result"
    }
   ],
   "source": [
    "#проверим данные, что лишнего не удалили\n",
    "data_ml.shape"
   ]
  },
  {
   "cell_type": "code",
   "execution_count": 36,
   "metadata": {},
   "outputs": [
    {
     "data": {
      "text/html": [
       "<div>\n",
       "<style scoped>\n",
       "    .dataframe tbody tr th:only-of-type {\n",
       "        vertical-align: middle;\n",
       "    }\n",
       "\n",
       "    .dataframe tbody tr th {\n",
       "        vertical-align: top;\n",
       "    }\n",
       "\n",
       "    .dataframe thead th {\n",
       "        text-align: right;\n",
       "    }\n",
       "</style>\n",
       "<table border=\"1\" class=\"dataframe\">\n",
       "  <thead>\n",
       "    <tr style=\"text-align: right;\">\n",
       "      <th></th>\n",
       "      <th>credit_score</th>\n",
       "      <th>age</th>\n",
       "      <th>tenure</th>\n",
       "      <th>balance</th>\n",
       "      <th>num_of_products</th>\n",
       "      <th>has_cr_card</th>\n",
       "      <th>is_active_member</th>\n",
       "      <th>estimated_salary</th>\n",
       "      <th>exited</th>\n",
       "      <th>geography_Germany</th>\n",
       "      <th>geography_Spain</th>\n",
       "      <th>gender_Male</th>\n",
       "    </tr>\n",
       "  </thead>\n",
       "  <tbody>\n",
       "    <tr>\n",
       "      <th>0</th>\n",
       "      <td>619</td>\n",
       "      <td>42</td>\n",
       "      <td>2.0</td>\n",
       "      <td>0.00</td>\n",
       "      <td>1</td>\n",
       "      <td>1</td>\n",
       "      <td>1</td>\n",
       "      <td>101348.88</td>\n",
       "      <td>1</td>\n",
       "      <td>0</td>\n",
       "      <td>0</td>\n",
       "      <td>0</td>\n",
       "    </tr>\n",
       "    <tr>\n",
       "      <th>1</th>\n",
       "      <td>608</td>\n",
       "      <td>41</td>\n",
       "      <td>1.0</td>\n",
       "      <td>83807.86</td>\n",
       "      <td>1</td>\n",
       "      <td>0</td>\n",
       "      <td>1</td>\n",
       "      <td>112542.58</td>\n",
       "      <td>0</td>\n",
       "      <td>0</td>\n",
       "      <td>1</td>\n",
       "      <td>0</td>\n",
       "    </tr>\n",
       "    <tr>\n",
       "      <th>2</th>\n",
       "      <td>502</td>\n",
       "      <td>42</td>\n",
       "      <td>8.0</td>\n",
       "      <td>159660.80</td>\n",
       "      <td>3</td>\n",
       "      <td>1</td>\n",
       "      <td>0</td>\n",
       "      <td>113931.57</td>\n",
       "      <td>1</td>\n",
       "      <td>0</td>\n",
       "      <td>0</td>\n",
       "      <td>0</td>\n",
       "    </tr>\n",
       "    <tr>\n",
       "      <th>3</th>\n",
       "      <td>699</td>\n",
       "      <td>39</td>\n",
       "      <td>1.0</td>\n",
       "      <td>0.00</td>\n",
       "      <td>2</td>\n",
       "      <td>0</td>\n",
       "      <td>0</td>\n",
       "      <td>93826.63</td>\n",
       "      <td>0</td>\n",
       "      <td>0</td>\n",
       "      <td>0</td>\n",
       "      <td>0</td>\n",
       "    </tr>\n",
       "    <tr>\n",
       "      <th>4</th>\n",
       "      <td>850</td>\n",
       "      <td>43</td>\n",
       "      <td>2.0</td>\n",
       "      <td>125510.82</td>\n",
       "      <td>1</td>\n",
       "      <td>1</td>\n",
       "      <td>1</td>\n",
       "      <td>79084.10</td>\n",
       "      <td>0</td>\n",
       "      <td>0</td>\n",
       "      <td>1</td>\n",
       "      <td>0</td>\n",
       "    </tr>\n",
       "  </tbody>\n",
       "</table>\n",
       "</div>"
      ],
      "text/plain": [
       "   credit_score  age  tenure    balance  num_of_products  has_cr_card  \\\n",
       "0           619   42     2.0       0.00                1            1   \n",
       "1           608   41     1.0   83807.86                1            0   \n",
       "2           502   42     8.0  159660.80                3            1   \n",
       "3           699   39     1.0       0.00                2            0   \n",
       "4           850   43     2.0  125510.82                1            1   \n",
       "\n",
       "   is_active_member  estimated_salary  exited  geography_Germany  \\\n",
       "0                 1         101348.88       1                  0   \n",
       "1                 1         112542.58       0                  0   \n",
       "2                 0         113931.57       1                  0   \n",
       "3                 0          93826.63       0                  0   \n",
       "4                 1          79084.10       0                  0   \n",
       "\n",
       "   geography_Spain  gender_Male  \n",
       "0                0            0  \n",
       "1                1            0  \n",
       "2                0            0  \n",
       "3                0            0  \n",
       "4                1            0  "
      ]
     },
     "execution_count": 36,
     "metadata": {},
     "output_type": "execute_result"
    }
   ],
   "source": [
    "# Данные подготовим методом OHE, что позволит нам использовать разные модели и не словить дамми ловушку\n",
    "data_ml = pd.get_dummies(data_ml, drop_first=True)\n",
    "data_ml.head()"
   ]
  },
  {
   "cell_type": "code",
   "execution_count": 37,
   "metadata": {},
   "outputs": [
    {
     "data": {
      "text/plain": [
       "(10000, 12)"
      ]
     },
     "execution_count": 37,
     "metadata": {},
     "output_type": "execute_result"
    }
   ],
   "source": [
    "data_ml.shape"
   ]
  },
  {
   "cell_type": "markdown",
   "metadata": {},
   "source": [
    "Вывод В новом датафрейме кол-во столбцов увеличелост на 1 (стало 12) Столбец Geography содержал 3 класса, Gender_Male 2 класса — в результате мы получили только 2 и 1 столбцов соответственно, что позволяет избежать дами-ловушки."
   ]
  },
  {
   "cell_type": "markdown",
   "metadata": {},
   "source": [
    "### Сформируем выборки"
   ]
  },
  {
   "cell_type": "markdown",
   "metadata": {},
   "source": [
    "Разделим данные на выборки: Обучаюащя (features_train target_train) - 60, Валидационная (features_valid target_valid) - 20, тестовая (features_test target_test) - 20"
   ]
  },
  {
   "cell_type": "code",
   "execution_count": 38,
   "metadata": {},
   "outputs": [],
   "source": [
    "#Разделим на признаки и целевой признак\n",
    "features = data_ml.drop('exited', axis=1)\n",
    "target = data_ml['exited']"
   ]
  },
  {
   "cell_type": "code",
   "execution_count": 39,
   "metadata": {},
   "outputs": [],
   "source": [
    "#Обучающая 60%\n",
    "features_train, features_validtest, target_train, target_validtest = train_test_split(features,\n",
    "                                                    target,\n",
    "                                                    train_size=0.6,\n",
    "                                                    random_state=12345)"
   ]
  },
  {
   "cell_type": "code",
   "execution_count": 40,
   "metadata": {},
   "outputs": [],
   "source": [
    "#Валидационная и тестовая соответственно поровну по 20% от общей\n",
    "features_valid, features_test, target_valid, target_test = train_test_split(features_validtest,\n",
    "                                                    target_validtest,\n",
    "                                                    train_size=0.5,\n",
    "                                                    random_state=12345)"
   ]
  },
  {
   "cell_type": "code",
   "execution_count": 41,
   "metadata": {},
   "outputs": [
    {
     "data": {
      "text/html": [
       "<div>\n",
       "<style scoped>\n",
       "    .dataframe tbody tr th:only-of-type {\n",
       "        vertical-align: middle;\n",
       "    }\n",
       "\n",
       "    .dataframe tbody tr th {\n",
       "        vertical-align: top;\n",
       "    }\n",
       "\n",
       "    .dataframe thead th {\n",
       "        text-align: right;\n",
       "    }\n",
       "</style>\n",
       "<table border=\"1\" class=\"dataframe\">\n",
       "  <thead>\n",
       "    <tr style=\"text-align: right;\">\n",
       "      <th></th>\n",
       "      <th>credit_score</th>\n",
       "      <th>age</th>\n",
       "      <th>tenure</th>\n",
       "      <th>balance</th>\n",
       "      <th>num_of_products</th>\n",
       "      <th>has_cr_card</th>\n",
       "      <th>is_active_member</th>\n",
       "      <th>estimated_salary</th>\n",
       "      <th>geography_Germany</th>\n",
       "      <th>geography_Spain</th>\n",
       "      <th>gender_Male</th>\n",
       "    </tr>\n",
       "  </thead>\n",
       "  <tbody>\n",
       "    <tr>\n",
       "      <th>7479</th>\n",
       "      <td>567</td>\n",
       "      <td>35</td>\n",
       "      <td>8.0</td>\n",
       "      <td>153137.74</td>\n",
       "      <td>1</td>\n",
       "      <td>1</td>\n",
       "      <td>0</td>\n",
       "      <td>88659.07</td>\n",
       "      <td>0</td>\n",
       "      <td>1</td>\n",
       "      <td>1</td>\n",
       "    </tr>\n",
       "    <tr>\n",
       "      <th>3411</th>\n",
       "      <td>711</td>\n",
       "      <td>37</td>\n",
       "      <td>8.0</td>\n",
       "      <td>113899.92</td>\n",
       "      <td>1</td>\n",
       "      <td>0</td>\n",
       "      <td>0</td>\n",
       "      <td>80215.20</td>\n",
       "      <td>0</td>\n",
       "      <td>0</td>\n",
       "      <td>0</td>\n",
       "    </tr>\n",
       "    <tr>\n",
       "      <th>6027</th>\n",
       "      <td>850</td>\n",
       "      <td>44</td>\n",
       "      <td>3.0</td>\n",
       "      <td>140393.65</td>\n",
       "      <td>2</td>\n",
       "      <td>0</td>\n",
       "      <td>1</td>\n",
       "      <td>186285.52</td>\n",
       "      <td>1</td>\n",
       "      <td>0</td>\n",
       "      <td>1</td>\n",
       "    </tr>\n",
       "    <tr>\n",
       "      <th>1247</th>\n",
       "      <td>512</td>\n",
       "      <td>24</td>\n",
       "      <td>6.0</td>\n",
       "      <td>0.00</td>\n",
       "      <td>2</td>\n",
       "      <td>1</td>\n",
       "      <td>0</td>\n",
       "      <td>37654.31</td>\n",
       "      <td>0</td>\n",
       "      <td>0</td>\n",
       "      <td>1</td>\n",
       "    </tr>\n",
       "    <tr>\n",
       "      <th>3716</th>\n",
       "      <td>665</td>\n",
       "      <td>27</td>\n",
       "      <td>2.0</td>\n",
       "      <td>147435.96</td>\n",
       "      <td>1</td>\n",
       "      <td>0</td>\n",
       "      <td>0</td>\n",
       "      <td>187508.06</td>\n",
       "      <td>1</td>\n",
       "      <td>0</td>\n",
       "      <td>0</td>\n",
       "    </tr>\n",
       "  </tbody>\n",
       "</table>\n",
       "</div>"
      ],
      "text/plain": [
       "      credit_score  age  tenure    balance  num_of_products  has_cr_card  \\\n",
       "7479           567   35     8.0  153137.74                1            1   \n",
       "3411           711   37     8.0  113899.92                1            0   \n",
       "6027           850   44     3.0  140393.65                2            0   \n",
       "1247           512   24     6.0       0.00                2            1   \n",
       "3716           665   27     2.0  147435.96                1            0   \n",
       "\n",
       "      is_active_member  estimated_salary  geography_Germany  geography_Spain  \\\n",
       "7479                 0          88659.07                  0                1   \n",
       "3411                 0          80215.20                  0                0   \n",
       "6027                 1         186285.52                  1                0   \n",
       "1247                 0          37654.31                  0                0   \n",
       "3716                 0         187508.06                  1                0   \n",
       "\n",
       "      gender_Male  \n",
       "7479            1  \n",
       "3411            0  \n",
       "6027            1  \n",
       "1247            1  \n",
       "3716            0  "
      ]
     },
     "execution_count": 41,
     "metadata": {},
     "output_type": "execute_result"
    }
   ],
   "source": [
    "features_train.head()"
   ]
  },
  {
   "cell_type": "code",
   "execution_count": 42,
   "metadata": {},
   "outputs": [],
   "source": [
    "#Для масштабирования методом scaler зафиксируем численные признаки\n",
    "numeric = ['credit_score', 'age', 'tenure', 'balance', 'num_of_products', 'estimated_salary']"
   ]
  },
  {
   "cell_type": "code",
   "execution_count": 43,
   "metadata": {},
   "outputs": [
    {
     "data": {
      "text/plain": [
       "StandardScaler()"
      ]
     },
     "execution_count": 43,
     "metadata": {},
     "output_type": "execute_result"
    }
   ],
   "source": [
    "scaler = StandardScaler()\n",
    "scaler.fit(features_train[numeric])"
   ]
  },
  {
   "cell_type": "code",
   "execution_count": 44,
   "metadata": {},
   "outputs": [
    {
     "data": {
      "text/html": [
       "<div>\n",
       "<style scoped>\n",
       "    .dataframe tbody tr th:only-of-type {\n",
       "        vertical-align: middle;\n",
       "    }\n",
       "\n",
       "    .dataframe tbody tr th {\n",
       "        vertical-align: top;\n",
       "    }\n",
       "\n",
       "    .dataframe thead th {\n",
       "        text-align: right;\n",
       "    }\n",
       "</style>\n",
       "<table border=\"1\" class=\"dataframe\">\n",
       "  <thead>\n",
       "    <tr style=\"text-align: right;\">\n",
       "      <th></th>\n",
       "      <th>credit_score</th>\n",
       "      <th>age</th>\n",
       "      <th>tenure</th>\n",
       "      <th>balance</th>\n",
       "      <th>num_of_products</th>\n",
       "      <th>has_cr_card</th>\n",
       "      <th>is_active_member</th>\n",
       "      <th>estimated_salary</th>\n",
       "      <th>geography_Germany</th>\n",
       "      <th>geography_Spain</th>\n",
       "      <th>gender_Male</th>\n",
       "    </tr>\n",
       "  </thead>\n",
       "  <tbody>\n",
       "    <tr>\n",
       "      <th>7479</th>\n",
       "      <td>-0.886751</td>\n",
       "      <td>-0.373192</td>\n",
       "      <td>1.043845</td>\n",
       "      <td>1.232271</td>\n",
       "      <td>-0.891560</td>\n",
       "      <td>1</td>\n",
       "      <td>0</td>\n",
       "      <td>-0.187705</td>\n",
       "      <td>0</td>\n",
       "      <td>1</td>\n",
       "      <td>1</td>\n",
       "    </tr>\n",
       "    <tr>\n",
       "      <th>3411</th>\n",
       "      <td>0.608663</td>\n",
       "      <td>-0.183385</td>\n",
       "      <td>1.043845</td>\n",
       "      <td>0.600563</td>\n",
       "      <td>-0.891560</td>\n",
       "      <td>0</td>\n",
       "      <td>0</td>\n",
       "      <td>-0.333945</td>\n",
       "      <td>0</td>\n",
       "      <td>0</td>\n",
       "      <td>0</td>\n",
       "    </tr>\n",
       "    <tr>\n",
       "      <th>6027</th>\n",
       "      <td>2.052152</td>\n",
       "      <td>0.480939</td>\n",
       "      <td>-0.687432</td>\n",
       "      <td>1.027098</td>\n",
       "      <td>0.830152</td>\n",
       "      <td>0</td>\n",
       "      <td>1</td>\n",
       "      <td>1.503095</td>\n",
       "      <td>1</td>\n",
       "      <td>0</td>\n",
       "      <td>1</td>\n",
       "    </tr>\n",
       "    <tr>\n",
       "      <th>1247</th>\n",
       "      <td>-1.457915</td>\n",
       "      <td>-1.417129</td>\n",
       "      <td>0.351334</td>\n",
       "      <td>-1.233163</td>\n",
       "      <td>0.830152</td>\n",
       "      <td>1</td>\n",
       "      <td>0</td>\n",
       "      <td>-1.071061</td>\n",
       "      <td>0</td>\n",
       "      <td>0</td>\n",
       "      <td>1</td>\n",
       "    </tr>\n",
       "    <tr>\n",
       "      <th>3716</th>\n",
       "      <td>0.130961</td>\n",
       "      <td>-1.132419</td>\n",
       "      <td>-1.033688</td>\n",
       "      <td>1.140475</td>\n",
       "      <td>-0.891560</td>\n",
       "      <td>0</td>\n",
       "      <td>0</td>\n",
       "      <td>1.524268</td>\n",
       "      <td>1</td>\n",
       "      <td>0</td>\n",
       "      <td>0</td>\n",
       "    </tr>\n",
       "  </tbody>\n",
       "</table>\n",
       "</div>"
      ],
      "text/plain": [
       "      credit_score       age    tenure   balance  num_of_products  \\\n",
       "7479     -0.886751 -0.373192  1.043845  1.232271        -0.891560   \n",
       "3411      0.608663 -0.183385  1.043845  0.600563        -0.891560   \n",
       "6027      2.052152  0.480939 -0.687432  1.027098         0.830152   \n",
       "1247     -1.457915 -1.417129  0.351334 -1.233163         0.830152   \n",
       "3716      0.130961 -1.132419 -1.033688  1.140475        -0.891560   \n",
       "\n",
       "      has_cr_card  is_active_member  estimated_salary  geography_Germany  \\\n",
       "7479            1                 0         -0.187705                  0   \n",
       "3411            0                 0         -0.333945                  0   \n",
       "6027            0                 1          1.503095                  1   \n",
       "1247            1                 0         -1.071061                  0   \n",
       "3716            0                 0          1.524268                  1   \n",
       "\n",
       "      geography_Spain  gender_Male  \n",
       "7479                1            1  \n",
       "3411                0            0  \n",
       "6027                0            1  \n",
       "1247                0            1  \n",
       "3716                0            0  "
      ]
     },
     "execution_count": 44,
     "metadata": {},
     "output_type": "execute_result"
    }
   ],
   "source": [
    "#Масштабируем численные признаки обучающей выборки\n",
    "features_train[numeric] = scaler.transform(features_train[numeric])\n",
    "features_train.head()"
   ]
  },
  {
   "cell_type": "code",
   "execution_count": 45,
   "metadata": {},
   "outputs": [
    {
     "data": {
      "text/html": [
       "<div>\n",
       "<style scoped>\n",
       "    .dataframe tbody tr th:only-of-type {\n",
       "        vertical-align: middle;\n",
       "    }\n",
       "\n",
       "    .dataframe tbody tr th {\n",
       "        vertical-align: top;\n",
       "    }\n",
       "\n",
       "    .dataframe thead th {\n",
       "        text-align: right;\n",
       "    }\n",
       "</style>\n",
       "<table border=\"1\" class=\"dataframe\">\n",
       "  <thead>\n",
       "    <tr style=\"text-align: right;\">\n",
       "      <th></th>\n",
       "      <th>credit_score</th>\n",
       "      <th>age</th>\n",
       "      <th>tenure</th>\n",
       "      <th>balance</th>\n",
       "      <th>num_of_products</th>\n",
       "      <th>has_cr_card</th>\n",
       "      <th>is_active_member</th>\n",
       "      <th>estimated_salary</th>\n",
       "      <th>geography_Germany</th>\n",
       "      <th>geography_Spain</th>\n",
       "      <th>gender_Male</th>\n",
       "    </tr>\n",
       "  </thead>\n",
       "  <tbody>\n",
       "    <tr>\n",
       "      <th>8532</th>\n",
       "      <td>-0.699824</td>\n",
       "      <td>-0.373192</td>\n",
       "      <td>-1.033688</td>\n",
       "      <td>-1.233163</td>\n",
       "      <td>0.830152</td>\n",
       "      <td>1</td>\n",
       "      <td>0</td>\n",
       "      <td>-0.015173</td>\n",
       "      <td>0</td>\n",
       "      <td>0</td>\n",
       "      <td>0</td>\n",
       "    </tr>\n",
       "    <tr>\n",
       "      <th>5799</th>\n",
       "      <td>-0.284431</td>\n",
       "      <td>0.575842</td>\n",
       "      <td>-0.687432</td>\n",
       "      <td>-1.233163</td>\n",
       "      <td>-0.891560</td>\n",
       "      <td>1</td>\n",
       "      <td>1</td>\n",
       "      <td>1.471724</td>\n",
       "      <td>0</td>\n",
       "      <td>0</td>\n",
       "      <td>0</td>\n",
       "    </tr>\n",
       "    <tr>\n",
       "      <th>5511</th>\n",
       "      <td>0.151731</td>\n",
       "      <td>-0.657902</td>\n",
       "      <td>-1.726199</td>\n",
       "      <td>0.438711</td>\n",
       "      <td>-0.891560</td>\n",
       "      <td>1</td>\n",
       "      <td>0</td>\n",
       "      <td>-1.367107</td>\n",
       "      <td>1</td>\n",
       "      <td>0</td>\n",
       "      <td>1</td>\n",
       "    </tr>\n",
       "    <tr>\n",
       "      <th>7365</th>\n",
       "      <td>-0.876366</td>\n",
       "      <td>-0.278288</td>\n",
       "      <td>1.736355</td>\n",
       "      <td>1.239884</td>\n",
       "      <td>-0.891560</td>\n",
       "      <td>1</td>\n",
       "      <td>1</td>\n",
       "      <td>-0.786517</td>\n",
       "      <td>0</td>\n",
       "      <td>1</td>\n",
       "      <td>0</td>\n",
       "    </tr>\n",
       "    <tr>\n",
       "      <th>7367</th>\n",
       "      <td>-0.481743</td>\n",
       "      <td>0.291132</td>\n",
       "      <td>1.736355</td>\n",
       "      <td>-1.233163</td>\n",
       "      <td>0.830152</td>\n",
       "      <td>1</td>\n",
       "      <td>0</td>\n",
       "      <td>1.358533</td>\n",
       "      <td>0</td>\n",
       "      <td>1</td>\n",
       "      <td>1</td>\n",
       "    </tr>\n",
       "  </tbody>\n",
       "</table>\n",
       "</div>"
      ],
      "text/plain": [
       "      credit_score       age    tenure   balance  num_of_products  \\\n",
       "8532     -0.699824 -0.373192 -1.033688 -1.233163         0.830152   \n",
       "5799     -0.284431  0.575842 -0.687432 -1.233163        -0.891560   \n",
       "5511      0.151731 -0.657902 -1.726199  0.438711        -0.891560   \n",
       "7365     -0.876366 -0.278288  1.736355  1.239884        -0.891560   \n",
       "7367     -0.481743  0.291132  1.736355 -1.233163         0.830152   \n",
       "\n",
       "      has_cr_card  is_active_member  estimated_salary  geography_Germany  \\\n",
       "8532            1                 0         -0.015173                  0   \n",
       "5799            1                 1          1.471724                  0   \n",
       "5511            1                 0         -1.367107                  1   \n",
       "7365            1                 1         -0.786517                  0   \n",
       "7367            1                 0          1.358533                  0   \n",
       "\n",
       "      geography_Spain  gender_Male  \n",
       "8532                0            0  \n",
       "5799                0            0  \n",
       "5511                0            1  \n",
       "7365                1            0  \n",
       "7367                1            1  "
      ]
     },
     "execution_count": 45,
     "metadata": {},
     "output_type": "execute_result"
    }
   ],
   "source": [
    "#Масштабируем численные признаки валидационной выборки \n",
    "features_valid[numeric] = scaler.transform(features_valid[numeric])\n",
    "features_valid.head()"
   ]
  },
  {
   "cell_type": "code",
   "execution_count": 46,
   "metadata": {},
   "outputs": [
    {
     "data": {
      "text/html": [
       "<div>\n",
       "<style scoped>\n",
       "    .dataframe tbody tr th:only-of-type {\n",
       "        vertical-align: middle;\n",
       "    }\n",
       "\n",
       "    .dataframe tbody tr th {\n",
       "        vertical-align: top;\n",
       "    }\n",
       "\n",
       "    .dataframe thead th {\n",
       "        text-align: right;\n",
       "    }\n",
       "</style>\n",
       "<table border=\"1\" class=\"dataframe\">\n",
       "  <thead>\n",
       "    <tr style=\"text-align: right;\">\n",
       "      <th></th>\n",
       "      <th>credit_score</th>\n",
       "      <th>age</th>\n",
       "      <th>tenure</th>\n",
       "      <th>balance</th>\n",
       "      <th>num_of_products</th>\n",
       "      <th>has_cr_card</th>\n",
       "      <th>is_active_member</th>\n",
       "      <th>estimated_salary</th>\n",
       "      <th>geography_Germany</th>\n",
       "      <th>geography_Spain</th>\n",
       "      <th>gender_Male</th>\n",
       "    </tr>\n",
       "  </thead>\n",
       "  <tbody>\n",
       "    <tr>\n",
       "      <th>7041</th>\n",
       "      <td>-2.226392</td>\n",
       "      <td>-0.088482</td>\n",
       "      <td>-1.033688</td>\n",
       "      <td>-1.233163</td>\n",
       "      <td>0.830152</td>\n",
       "      <td>1</td>\n",
       "      <td>0</td>\n",
       "      <td>0.647083</td>\n",
       "      <td>0</td>\n",
       "      <td>0</td>\n",
       "      <td>1</td>\n",
       "    </tr>\n",
       "    <tr>\n",
       "      <th>5709</th>\n",
       "      <td>-0.087120</td>\n",
       "      <td>0.006422</td>\n",
       "      <td>1.390100</td>\n",
       "      <td>-1.233163</td>\n",
       "      <td>-0.891560</td>\n",
       "      <td>1</td>\n",
       "      <td>0</td>\n",
       "      <td>-1.658410</td>\n",
       "      <td>0</td>\n",
       "      <td>0</td>\n",
       "      <td>0</td>\n",
       "    </tr>\n",
       "    <tr>\n",
       "      <th>7117</th>\n",
       "      <td>-0.917905</td>\n",
       "      <td>-0.752805</td>\n",
       "      <td>0.005078</td>\n",
       "      <td>0.722307</td>\n",
       "      <td>-0.891560</td>\n",
       "      <td>1</td>\n",
       "      <td>1</td>\n",
       "      <td>-1.369334</td>\n",
       "      <td>0</td>\n",
       "      <td>1</td>\n",
       "      <td>1</td>\n",
       "    </tr>\n",
       "    <tr>\n",
       "      <th>7775</th>\n",
       "      <td>-0.253277</td>\n",
       "      <td>0.101325</td>\n",
       "      <td>1.736355</td>\n",
       "      <td>-1.233163</td>\n",
       "      <td>0.830152</td>\n",
       "      <td>1</td>\n",
       "      <td>0</td>\n",
       "      <td>0.075086</td>\n",
       "      <td>0</td>\n",
       "      <td>1</td>\n",
       "      <td>1</td>\n",
       "    </tr>\n",
       "    <tr>\n",
       "      <th>8735</th>\n",
       "      <td>0.785204</td>\n",
       "      <td>-0.847708</td>\n",
       "      <td>1.736355</td>\n",
       "      <td>0.615625</td>\n",
       "      <td>-0.891560</td>\n",
       "      <td>0</td>\n",
       "      <td>1</td>\n",
       "      <td>-1.070919</td>\n",
       "      <td>0</td>\n",
       "      <td>0</td>\n",
       "      <td>1</td>\n",
       "    </tr>\n",
       "  </tbody>\n",
       "</table>\n",
       "</div>"
      ],
      "text/plain": [
       "      credit_score       age    tenure   balance  num_of_products  \\\n",
       "7041     -2.226392 -0.088482 -1.033688 -1.233163         0.830152   \n",
       "5709     -0.087120  0.006422  1.390100 -1.233163        -0.891560   \n",
       "7117     -0.917905 -0.752805  0.005078  0.722307        -0.891560   \n",
       "7775     -0.253277  0.101325  1.736355 -1.233163         0.830152   \n",
       "8735      0.785204 -0.847708  1.736355  0.615625        -0.891560   \n",
       "\n",
       "      has_cr_card  is_active_member  estimated_salary  geography_Germany  \\\n",
       "7041            1                 0          0.647083                  0   \n",
       "5709            1                 0         -1.658410                  0   \n",
       "7117            1                 1         -1.369334                  0   \n",
       "7775            1                 0          0.075086                  0   \n",
       "8735            0                 1         -1.070919                  0   \n",
       "\n",
       "      geography_Spain  gender_Male  \n",
       "7041                0            1  \n",
       "5709                0            0  \n",
       "7117                1            1  \n",
       "7775                1            1  \n",
       "8735                0            1  "
      ]
     },
     "execution_count": 46,
     "metadata": {},
     "output_type": "execute_result"
    }
   ],
   "source": [
    "#Масштабируем численные признаки тестовой выборки \n",
    "features_test[numeric] = scaler.transform(features_test[numeric])\n",
    "features_test.head()"
   ]
  },
  {
   "cell_type": "markdown",
   "metadata": {},
   "source": [
    "В результате мы получили масштабированные признаки для трех выборок. Перейдем к обучению моделей."
   ]
  },
  {
   "cell_type": "markdown",
   "metadata": {},
   "source": [
    "### Применение модели машинного обучения"
   ]
  },
  {
   "cell_type": "markdown",
   "metadata": {},
   "source": [
    "Теперь обучим несколько моделей без учета дисбаланса, и посмотрим на ключевые метрики - Recall, Precision и F1-score.\n",
    "Перед этим подберем оптимальные гиперпараметры для моделей на основании метрики F1-score."
   ]
  },
  {
   "cell_type": "markdown",
   "metadata": {},
   "source": [
    "#### Дерево решений"
   ]
  },
  {
   "cell_type": "code",
   "execution_count": 47,
   "metadata": {},
   "outputs": [
    {
     "name": "stdout",
     "output_type": "stream",
     "text": [
      "Оптимальная глубина дерева = 9\n",
      "Качество модели -  0.5747126436781609\n"
     ]
    }
   ],
   "source": [
    "# дерево решений - подберем лучшие гиперпараметры\n",
    "best_model = None\n",
    "best_f1 = 0\n",
    "for depth in range(1, 10):\n",
    "    model_tree = DecisionTreeClassifier(random_state=12345,\n",
    "                                        max_depth=depth)\n",
    "    model_tree.fit(features_train, target_train)\n",
    "    predictions_valid_tree = model_tree.predict(features_valid)\n",
    "    f1_tree = f1_score(target_valid, predictions_valid_tree)\n",
    "    if f1_tree > best_f1:\n",
    "        best_model = model_tree\n",
    "        best_depth = depth\n",
    "        best_f1 = f1_tree\n",
    "\n",
    "print('Оптимальная глубина дерева =', best_depth) \n",
    "print('Качество модели - ', best_f1)"
   ]
  },
  {
   "cell_type": "code",
   "execution_count": 48,
   "metadata": {},
   "outputs": [],
   "source": [
    "# обучаем модель с оптимальными значениями гиперпараметров\n",
    "model_tree = DecisionTreeClassifier(random_state=12345,\n",
    "                                    max_depth=6)\n",
    "model_tree.fit(features_train, target_train)\n",
    "predictions_valid_tree = model_tree.predict(features_valid)"
   ]
  },
  {
   "cell_type": "code",
   "execution_count": 49,
   "metadata": {},
   "outputs": [
    {
     "name": "stdout",
     "output_type": "stream",
     "text": [
      "Accuracy_tree: 0.858\n",
      "Recall_tree: 0.44976076555023925\n",
      "Precision_tree: 0.7768595041322314\n",
      "best_f1: 0.5696969696969697\n"
     ]
    }
   ],
   "source": [
    "print(\"Accuracy_tree:\", accuracy_score(target_valid, predictions_valid_tree))\n",
    "print(\"Recall_tree:\", recall_score(target_valid, predictions_valid_tree))\n",
    "print(\"Precision_tree:\", precision_score(target_valid, predictions_valid_tree))\n",
    "print(\"best_f1:\", f1_score(target_valid, predictions_valid_tree))"
   ]
  },
  {
   "cell_type": "markdown",
   "metadata": {},
   "source": [
    "#### Случайный лес"
   ]
  },
  {
   "cell_type": "code",
   "execution_count": 50,
   "metadata": {},
   "outputs": [
    {
     "name": "stdout",
     "output_type": "stream",
     "text": [
      "Оптимальное количество оценок = 60\n",
      "Оптимальная глубина дерева = 8\n",
      "Качество модели -  0.5633802816901409\n"
     ]
    }
   ],
   "source": [
    "# случайный лес - подберем лучшие гиперпараметры\n",
    "best_model = None\n",
    "for est in range(10, 101, 10):\n",
    "    for depth in range(1, 10):\n",
    "        model_forest = RandomForestClassifier(random_state=12345,\n",
    "                                              n_estimators=est, \n",
    "                                              max_depth=depth)\n",
    "        model_forest.fit(features_train, target_train)\n",
    "        predictions_valid_forest = model_forest.predict(features_valid)\n",
    "        f1_forest = f1_score(target_valid, predictions_valid_forest)\n",
    "        if f1_forest > best_f1:\n",
    "            best_model = model_forest\n",
    "            best_est = est\n",
    "            best_depth = depth\n",
    "\n",
    "print('Оптимальное количество оценок =', best_est)\n",
    "print('Оптимальная глубина дерева =', best_depth)\n",
    "print('Качество модели - ', f1_forest)"
   ]
  },
  {
   "cell_type": "code",
   "execution_count": 51,
   "metadata": {},
   "outputs": [],
   "source": [
    "# обучаем модель с оптимальными значениями гиперпараметров\n",
    "\n",
    "model_forest = RandomForestClassifier(random_state=12345, \n",
    "                                      n_estimators=100, \n",
    "                                      max_depth=9)\n",
    "model_forest.fit(features_train, target_train)\n",
    "predictions_valid_forest = model_forest.predict(features_valid)"
   ]
  },
  {
   "cell_type": "code",
   "execution_count": 52,
   "metadata": {},
   "outputs": [
    {
     "name": "stdout",
     "output_type": "stream",
     "text": [
      "Accuracy_forest: 0.8605\n",
      "Recall_forest: 0.430622009569378\n",
      "Precision_forest: 0.8144796380090498\n",
      "F1_forest: 0.5633802816901409\n"
     ]
    }
   ],
   "source": [
    "print(\"Accuracy_forest:\", accuracy_score(target_valid, predictions_valid_forest))\n",
    "print(\"Recall_forest:\", recall_score(target_valid, predictions_valid_forest))\n",
    "print(\"Precision_forest:\", precision_score(target_valid, predictions_valid_forest))\n",
    "print(\"F1_forest:\", f1_score(target_valid, predictions_valid_forest))"
   ]
  },
  {
   "cell_type": "markdown",
   "metadata": {},
   "source": [
    "#### Логистическая регрессия"
   ]
  },
  {
   "cell_type": "code",
   "execution_count": 53,
   "metadata": {},
   "outputs": [],
   "source": [
    "# логистическая регрессия - подберем лучшие гиперпараметры\n",
    "model_log = LogisticRegression(random_state=12345,\n",
    "                               solver='liblinear')\n",
    "# обучаем модель на тренировочной выборке\n",
    "model_log.fit(features_train, target_train)\n",
    "# получаем предсказания на валидационной выборке\n",
    "predictions_valid_log = model_log.predict(features_valid)"
   ]
  },
  {
   "cell_type": "code",
   "execution_count": 54,
   "metadata": {},
   "outputs": [
    {
     "name": "stdout",
     "output_type": "stream",
     "text": [
      "Accuracy_log: 0.8025\n",
      "Recall_log: 0.23684210526315788\n",
      "Precision_log: 0.5657142857142857\n",
      "F1_log: 0.33389544688026984\n"
     ]
    }
   ],
   "source": [
    "print(\"Accuracy_log:\", accuracy_score(target_valid, predictions_valid_log))\n",
    "print(\"Recall_log:\", recall_score(target_valid, predictions_valid_log))\n",
    "print(\"Precision_log:\", precision_score(target_valid, predictions_valid_log))\n",
    "print(\"F1_log:\", f1_score(target_valid, predictions_valid_log))"
   ]
  },
  {
   "cell_type": "markdown",
   "metadata": {},
   "source": [
    "В результате проведения обучения без учета дисбаланса:\n",
    "- Дерево решений F1 = 0.5696\n",
    "- Случайный лес F1 = 0.5732\n",
    "- Логистическая регрессия F1 = 0.3350\n",
    "\n",
    "Таким образом наилучшее значение метрики F1-score демонстрирует модель случайный лес, дерево решений немного ниже, так же наибольшее значение метрики accuracy = 0,86 наблюдается у модели случайный лес."
   ]
  },
  {
   "cell_type": "markdown",
   "metadata": {},
   "source": [
    "### Исследование баланса классов выборки"
   ]
  },
  {
   "cell_type": "code",
   "execution_count": 55,
   "metadata": {},
   "outputs": [
    {
     "data": {
      "text/plain": [
       "0    0.800667\n",
       "1    0.199333\n",
       "Name: exited, dtype: float64"
      ]
     },
     "execution_count": 55,
     "metadata": {},
     "output_type": "execute_result"
    }
   ],
   "source": [
    "target_train.value_counts(normalize = 1)"
   ]
  },
  {
   "cell_type": "code",
   "execution_count": 56,
   "metadata": {},
   "outputs": [
    {
     "data": {
      "image/png": "[encoded data removed]",
      "text/plain": [
       "<Figure size 144x144 with 1 Axes>"
      ]
     },
     "metadata": {
      "needs_background": "light"
     },
     "output_type": "display_data"
    }
   ],
   "source": [
    "# Построим диаграмму баланса классов\n",
    "target_train.plot(kind ='hist', bins=2, title='диаграмма баланса', figsize=(2,2));"
   ]
  },
  {
   "cell_type": "markdown",
   "metadata": {},
   "source": [
    "Как мы выяснили в нашей выборке отрицательны ответов ≈80% , положитительных ≈ 20%. С уверенностью можем сказать что имеется дисбаланс."
   ]
  },
  {
   "cell_type": "markdown",
   "metadata": {},
   "source": [
    "### Проверка адекватности"
   ]
  },
  {
   "cell_type": "markdown",
   "metadata": {},
   "source": [
    "Проверим качество моделей до борьбы с дисбалансом"
   ]
  },
  {
   "cell_type": "code",
   "execution_count": 57,
   "metadata": {},
   "outputs": [],
   "source": [
    "#Заранее напишем функцию для изучия полноты, точности и F1-меры\n",
    "def rec_prec_f1(target_valid, prediction):\n",
    "    print(\"Полнота\" , recall_score(target_valid, prediction))\n",
    "    print(\"Точность\", precision_score(target_valid, prediction))\n",
    "    print(\"F1-мера\", f1_score(target_valid, prediction))"
   ]
  },
  {
   "cell_type": "code",
   "execution_count": 58,
   "metadata": {},
   "outputs": [],
   "source": [
    "# Функция для отображения соотношения ответов моделей (сколько 0, сколько 1)\n",
    "def all_models_share(features_train, target_train, features_valid, target_valid):\n",
    "    model_DTC = DecisionTreeClassifier(random_state=1515)\n",
    "    model_DTC.fit(features_train, target_train)\n",
    "    DTC_share = pd.Series(model_DTC.predict(features_valid)).value_counts(normalize = 1)\n",
    "    \n",
    "    \n",
    "    \n",
    "    model_RFC = RandomForestClassifier(random_state=1515, n_estimators = 100)\n",
    "    model_RFC.fit(features_train, target_train)\n",
    "    RFC_share = pd.Series(model_RFC.predict(features_valid)).value_counts(normalize = 1)\n",
    "    \n",
    "    model_LgR = LogisticRegression(solver = 'liblinear')\n",
    "    model_LgR.fit(features_train, target_train)\n",
    "    LgR_share = pd.Series(model_LgR.predict(features_valid)).value_counts(normalize = 1)\n",
    "    \n",
    "\n",
    "    \n",
    "    print(\"Доли ответов:\" \"Дерево решений\", DTC_share, \"Случайный лес \", RFC_share, \"Логистческая регрессия\", LgR_share)"
   ]
  },
  {
   "cell_type": "code",
   "execution_count": 59,
   "metadata": {},
   "outputs": [
    {
     "name": "stdout",
     "output_type": "stream",
     "text": [
      "Доли ответов:Дерево решений 0    0.7875\n",
      "1    0.2125\n",
      "dtype: float64 Случайный лес  0    0.8735\n",
      "1    0.1265\n",
      "dtype: float64 Логистческая регрессия 0    0.9125\n",
      "1    0.0875\n",
      "dtype: float64\n"
     ]
    }
   ],
   "source": [
    "#Применим функцию отображения соотношения ответов моделей\n",
    "all_models_share(features_train, target_train, features_valid, target_valid)"
   ]
  },
  {
   "cell_type": "markdown",
   "metadata": {},
   "source": [
    "Логистичесая регрессия показывала самую высокую точность, далее случайный лес и в конце дерево решений\n",
    "\n",
    "С учетом дисбаланса результата неудивительно что модели с большой вероятностью будут выдавать ответ 0."
   ]
  },
  {
   "cell_type": "markdown",
   "metadata": {},
   "source": [
    "### Построим матрицы ошибок для моделей"
   ]
  },
  {
   "cell_type": "markdown",
   "metadata": {},
   "source": [
    "Случайный лес"
   ]
  },
  {
   "cell_type": "code",
   "execution_count": 60,
   "metadata": {},
   "outputs": [
    {
     "data": {
      "text/plain": [
       "array([[1523,   59],\n",
       "       [ 224,  194]])"
      ]
     },
     "execution_count": 60,
     "metadata": {},
     "output_type": "execute_result"
    }
   ],
   "source": [
    "model_RFC = RandomForestClassifier(random_state=1515, n_estimators = 100)\n",
    "model_RFC.fit(features_train, target_train)\n",
    "RFC_prediction = model_RFC.predict(features_valid)\n",
    "confusion_matrix(target_valid, RFC_prediction)"
   ]
  },
  {
   "cell_type": "code",
   "execution_count": 61,
   "metadata": {},
   "outputs": [
    {
     "name": "stdout",
     "output_type": "stream",
     "text": [
      "Полнота 0.46411483253588515\n",
      "Точность 0.766798418972332\n",
      "F1-мера 0.5782414307004471\n"
     ]
    }
   ],
   "source": [
    "rec_prec_f1(target_valid, RFC_prediction)"
   ]
  },
  {
   "cell_type": "code",
   "execution_count": 62,
   "metadata": {},
   "outputs": [
    {
     "data": {
      "text/plain": [
       "0.8440681349391176"
      ]
     },
     "execution_count": 62,
     "metadata": {},
     "output_type": "execute_result"
    }
   ],
   "source": [
    "#Расчет roc_auc_RFC\n",
    "RFC_probabilities_one_valid = model_RFC.predict_proba(features_valid)[:, 1]\n",
    "\n",
    "auc_roc_RFC = roc_auc_score(target_valid, RFC_probabilities_one_valid)\n",
    "\n",
    "auc_roc_RFC"
   ]
  },
  {
   "cell_type": "markdown",
   "metadata": {},
   "source": [
    "Случайный лес примерно равную пропорцию позитивных и негативных предсказаний, выдает заметно больше качественных предсказаний, но также сильно склоняется к ложно позитивным предсказаниям (FP). Точность и качество также низкое."
   ]
  },
  {
   "cell_type": "markdown",
   "metadata": {},
   "source": [
    "Дерево решений"
   ]
  },
  {
   "cell_type": "code",
   "execution_count": 63,
   "metadata": {},
   "outputs": [
    {
     "data": {
      "text/plain": [
       "array([[1368,  214],\n",
       "       [ 207,  211]])"
      ]
     },
     "execution_count": 63,
     "metadata": {},
     "output_type": "execute_result"
    }
   ],
   "source": [
    "#Матрица ошибок для дерево решений\n",
    "model_DTC = DecisionTreeClassifier(random_state=1515)\n",
    "model_DTC.fit(features_train, target_train)\n",
    "DTC_prediction = model_DTC.predict(features_valid)\n",
    "confusion_matrix(target_valid, DTC_prediction)"
   ]
  },
  {
   "cell_type": "markdown",
   "metadata": {},
   "source": [
    "Матрица показала, что дерево решений склонно выдавать позитивные предсказания, очень высокое количество ложных позитивных предсказания (FP)."
   ]
  },
  {
   "cell_type": "code",
   "execution_count": 64,
   "metadata": {},
   "outputs": [
    {
     "name": "stdout",
     "output_type": "stream",
     "text": [
      "Полнота 0.5047846889952153\n",
      "Точность 0.4964705882352941\n",
      "F1-мера 0.5005931198102017\n"
     ]
    }
   ],
   "source": [
    "rec_prec_f1(target_valid, DTC_prediction)"
   ]
  },
  {
   "cell_type": "code",
   "execution_count": 65,
   "metadata": {},
   "outputs": [
    {
     "data": {
      "text/plain": [
       "0.6847564405785179"
      ]
     },
     "execution_count": 65,
     "metadata": {},
     "output_type": "execute_result"
    }
   ],
   "source": [
    "#Расчет roc_auc_DTC\n",
    "DTC_probabilities_one_valid = model_DTC.predict_proba(features_valid)[:, 1]\n",
    "\n",
    "auc_roc_DTC = roc_auc_score(target_valid, DTC_probabilities_one_valid)\n",
    "\n",
    "auc_roc_DTC"
   ]
  },
  {
   "cell_type": "markdown",
   "metadata": {},
   "source": [
    "F1 имеет низкое значение, следовательно низкое качество модели, проблема в точности."
   ]
  },
  {
   "cell_type": "markdown",
   "metadata": {},
   "source": [
    "Логистическая регрессия"
   ]
  },
  {
   "cell_type": "code",
   "execution_count": 66,
   "metadata": {},
   "outputs": [
    {
     "data": {
      "text/plain": [
       "array([[1506,   76],\n",
       "       [ 319,   99]])"
      ]
     },
     "execution_count": 66,
     "metadata": {},
     "output_type": "execute_result"
    }
   ],
   "source": [
    "#Матрица ошибок для логистической регрессии\n",
    "model_LgR = LogisticRegression(solver = 'liblinear')\n",
    "model_LgR.fit(features_train, target_train)\n",
    "LgR_prediction = model_LgR.predict(features_valid)\n",
    "confusion_matrix(target_valid, LgR_prediction)"
   ]
  },
  {
   "cell_type": "code",
   "execution_count": 67,
   "metadata": {},
   "outputs": [
    {
     "name": "stdout",
     "output_type": "stream",
     "text": [
      "Полнота 0.23684210526315788\n",
      "Точность 0.5657142857142857\n",
      "F1-мера 0.33389544688026984\n"
     ]
    }
   ],
   "source": [
    "rec_prec_f1(target_valid, LgR_prediction)"
   ]
  },
  {
   "cell_type": "code",
   "execution_count": 68,
   "metadata": {},
   "outputs": [
    {
     "data": {
      "text/plain": [
       "0.758882826535365"
      ]
     },
     "execution_count": 68,
     "metadata": {},
     "output_type": "execute_result"
    }
   ],
   "source": [
    "#Для логистической регрессии расчитаем метрику AUC-ROC\n",
    "LgR_probabilities_one_valid = model_LgR.predict_proba(features_valid)[:, 1]\n",
    "\n",
    "auc_roc_LgR = roc_auc_score(target_valid, LgR_probabilities_one_valid)\n",
    "\n",
    "auc_roc_LgR"
   ]
  },
  {
   "cell_type": "code",
   "execution_count": 69,
   "metadata": {},
   "outputs": [],
   "source": [
    "def plot_roc_curve(fper, tper):\n",
    "    plt.plot(fper, tper, color='red', label='ROC')\n",
    "    plt.plot([0, 1], [0, 1], color='green', linestyle='--')\n",
    "    plt.xlim([0.0, 1.0])\n",
    "    plt.ylim([0.0, 1.0])\n",
    "    plt.xlabel('False Positive Rate')\n",
    "    plt.ylabel('True Positive Rate')\n",
    "    plt.title('ROC-кривая')\n",
    "    plt.legend()\n",
    "    plt.show()"
   ]
  },
  {
   "cell_type": "code",
   "execution_count": 70,
   "metadata": {},
   "outputs": [
    {
     "data": {
      "image/png": "[encoded data removed]",
      "text/plain": [
       "<Figure size 432x288 with 1 Axes>"
      ]
     },
     "metadata": {
      "needs_background": "light"
     },
     "output_type": "display_data"
    }
   ],
   "source": [
    "fper, tper, thresholds = roc_curve(target_valid, LgR_probabilities_one_valid)\n",
    "plot_roc_curve(fper, tper)"
   ]
  },
  {
   "cell_type": "code",
   "execution_count": 71,
   "metadata": {},
   "outputs": [
    {
     "name": "stdout",
     "output_type": "stream",
     "text": [
      "Score 0.703\n",
      "AUC-ROC 0.7638958619396439\n"
     ]
    },
    {
     "data": {
      "image/png": "[encoded data removed]",
      "text/plain": [
       "<Figure size 432x288 with 1 Axes>"
      ]
     },
     "metadata": {
      "needs_background": "light"
     },
     "output_type": "display_data"
    }
   ],
   "source": [
    "#Попробуем обучать логистическую регресию сбалансировав классы\n",
    "model_LgR = LogisticRegression(solver = 'liblinear', class_weight='balanced')\n",
    "model_LgR.fit(features_train, target_train)\n",
    "LgR_probabilities_one_valid_class_weight = model_LgR.predict_proba(features_valid)[:, 1]\n",
    "print(\"Score\", model_LgR.score(features_valid, target_valid))\n",
    "print(\"AUC-ROC\", roc_auc_score(target_valid, LgR_probabilities_one_valid_class_weight))\n",
    "\n",
    "fper, tper, thresholds = roc_curve(target_valid, LgR_probabilities_one_valid_class_weight) \n",
    "plot_roc_curve(fper, tper)"
   ]
  },
  {
   "cell_type": "markdown",
   "metadata": {},
   "source": [
    "Высокая точность модели объясняется высокой долей негативных ответов в валидационной выборке."
   ]
  },
  {
   "cell_type": "markdown",
   "metadata": {},
   "source": [
    "### Вывод\n",
    "Была проведена работа по исследованию данных.\n",
    "- Изучили данные в столбцах.\n",
    "- Рассмотрели зависимость оттока клиентов от возраста (клиенты от 37 до 52 чаще уходят из банка), баланса (клиенты с большей суммой чаще уходят), длительности обслуживания клиента в банке (распределены равномерны, зависимость не обнаружена)\n",
    "- Провели подготовку данных для обучения, удалили столбцы которые не влияют 'row_number','customer_id', 'surname'\n",
    "- Сформировали выборку на обучающую, валидационную и тестовую, масштабировали данные.\n",
    "- Применили модели машинного обучения, результатом стала точность: Дерево решений F1 = 0.5754, Случайный лес F1 = 0.5696, Логистическая регрессия F1 = 0.3394, таким образом наилучшее значение метрики F1-score демонстрирует модель Дерево решений, в то время как наибольшее значение метрики accuracy = 0,86 наблюдается у модели случайный лес.\n",
    "- исследовали баланс данных, В данных сущестует дисбаланс классов в отношении 1:4, возможно он влияет на качество изучаемых моделей.\n",
    "- Провели проверку адекватности, логистичесая регрессия показывала самую высокую точность, далее случайный лес и в конце дерево решений\n",
    "- Построили матрицу ошибок модели, высокая точность модели объясняется высокой долей негативных ответов в валидационной выборке."
   ]
  },
  {
   "cell_type": "markdown",
   "metadata": {},
   "source": [
    "## Борьба с дисбалансом"
   ]
  },
  {
   "cell_type": "markdown",
   "metadata": {},
   "source": [
    "Как мы выяснили ранее в нашей выборке отрицательны ответов ≈80% , положитительных ≈ 20%."
   ]
  },
  {
   "cell_type": "markdown",
   "metadata": {},
   "source": [
    "Рассмотрим 3 метода борьбы с дисбалансом классов:\n",
    "- Взвешивание классов\n",
    "- Увеличение выборки (upsampling)\n",
    "- Уменьшение выборки (downsampling)"
   ]
  },
  {
   "cell_type": "markdown",
   "metadata": {},
   "source": [
    "### Рассмотрим взвешивание классов"
   ]
  },
  {
   "cell_type": "markdown",
   "metadata": {},
   "source": [
    "#### Дерево решений"
   ]
  },
  {
   "cell_type": "code",
   "execution_count": 72,
   "metadata": {},
   "outputs": [
    {
     "name": "stdout",
     "output_type": "stream",
     "text": [
      "Оптимальная глубина дерева = 5\n",
      "Качество модели -  0.5963791267305644\n"
     ]
    }
   ],
   "source": [
    "# дерево решений - подберем лучшие гиперпараметры\n",
    "best_model = None\n",
    "best_f1 = 0\n",
    "for depth in range(1, 10):\n",
    "    model_tree = DecisionTreeClassifier(random_state=12345,\n",
    "                                        max_depth=depth,\n",
    "                                        class_weight='balanced')\n",
    "    model_tree.fit(features_train, target_train)\n",
    "    predictions_valid_tree = model_tree.predict(features_valid)\n",
    "    f1_tree = f1_score(target_valid, predictions_valid_tree)\n",
    "    if f1_tree > best_f1:\n",
    "        best_model = model_tree\n",
    "        best_depth = depth\n",
    "        best_f1 = f1_tree\n",
    "\n",
    "print('Оптимальная глубина дерева =', best_depth) \n",
    "print('Качество модели - ', best_f1)"
   ]
  },
  {
   "cell_type": "code",
   "execution_count": 73,
   "metadata": {},
   "outputs": [],
   "source": [
    "# обучаем модель с оптимальными значениями гиперпараметров\n",
    "model_tree = DecisionTreeClassifier(random_state=12345,\n",
    "                                    max_depth=5,\n",
    "                                    class_weight='balanced')\n",
    "model_tree.fit(features_train, target_train)\n",
    "predictions_valid_tree = model_tree.predict(features_valid)"
   ]
  },
  {
   "cell_type": "code",
   "execution_count": 74,
   "metadata": {},
   "outputs": [
    {
     "name": "stdout",
     "output_type": "stream",
     "text": [
      "Recall_tree: 0.6698564593301436\n",
      "Precision_tree: 0.5374280230326296\n",
      "F1_tree: 0.5963791267305644\n",
      "ROC-AUC_tree: 0.8310244134068074\n"
     ]
    }
   ],
   "source": [
    "print(\"Recall_tree:\", recall_score(target_valid, predictions_valid_tree))\n",
    "print(\"Precision_tree:\", precision_score(target_valid, predictions_valid_tree))\n",
    "print(\"F1_tree:\", f1_score(target_valid, predictions_valid_tree))\n",
    "\n",
    "probabilities_valid = model_tree.predict_proba(features_valid)\n",
    "probabilities_one_valid = probabilities_valid[:, 1]\n",
    "print(\"ROC-AUC_tree:\", roc_auc_score(target_valid, probabilities_one_valid))"
   ]
  },
  {
   "cell_type": "markdown",
   "metadata": {},
   "source": [
    "#### Случайный лес"
   ]
  },
  {
   "cell_type": "code",
   "execution_count": 75,
   "metadata": {},
   "outputs": [
    {
     "name": "stdout",
     "output_type": "stream",
     "text": [
      "Оптимальное количество оценок = 100\n",
      "Оптимальная глубина дерева = 9\n"
     ]
    }
   ],
   "source": [
    "# случайный лес - подберем лучшие гиперпараметры\n",
    "best_model = None\n",
    "for est in range(10, 101, 10):\n",
    "    for depth in range(1, 10):\n",
    "        model_forest = RandomForestClassifier(random_state=12345,\n",
    "                                              n_estimators=est, \n",
    "                                              max_depth=depth,\n",
    "                                              class_weight='balanced')\n",
    "        model_forest.fit(features_train, target_train)\n",
    "        predictions_valid_forest = model_forest.predict(features_valid)\n",
    "        f1_forest = f1_score(target_valid, predictions_valid_forest)\n",
    "        if f1_forest > best_f1:\n",
    "            best_model = model_forest\n",
    "            best_est = est\n",
    "            best_depth = depth\n",
    "\n",
    "print('Оптимальное количество оценок =', best_est)\n",
    "print('Оптимальная глубина дерева =', best_depth)"
   ]
  },
  {
   "cell_type": "code",
   "execution_count": 76,
   "metadata": {},
   "outputs": [],
   "source": [
    "# обучаем модель с оптимальными значениями гиперпараметров\n",
    "model_forest = RandomForestClassifier(random_state=12345, \n",
    "                                      n_estimators=100, \n",
    "                                      max_depth=9,\n",
    "                                      class_weight='balanced')\n",
    "model_forest.fit(features_train, target_train)\n",
    "predictions_valid_forest = model_forest.predict(features_valid)"
   ]
  },
  {
   "cell_type": "code",
   "execution_count": 77,
   "metadata": {},
   "outputs": [
    {
     "name": "stdout",
     "output_type": "stream",
     "text": [
      "Recall_forest: 0.6578947368421053\n",
      "Precision_forest: 0.6017505470459519\n",
      "F1_forest: 0.6285714285714286\n",
      "ROC-AUC_forest: 0.8540972302034249\n"
     ]
    }
   ],
   "source": [
    "print(\"Recall_forest:\", recall_score(target_valid, predictions_valid_forest))\n",
    "print(\"Precision_forest:\", precision_score(target_valid, predictions_valid_forest))\n",
    "print(\"F1_forest:\", f1_score(target_valid, predictions_valid_forest))\n",
    "\n",
    "probabilities_valid = model_forest.predict_proba(features_valid)\n",
    "probabilities_one_valid = probabilities_valid[:, 1]\n",
    "print(\"ROC-AUC_forest:\", roc_auc_score(target_valid, probabilities_one_valid))"
   ]
  },
  {
   "cell_type": "markdown",
   "metadata": {},
   "source": [
    "#### Логистическая регрессия"
   ]
  },
  {
   "cell_type": "code",
   "execution_count": 78,
   "metadata": {},
   "outputs": [],
   "source": [
    "model_log = LogisticRegression(random_state=12345,\n",
    "                               solver='liblinear',\n",
    "                               class_weight='balanced')\n",
    "\n",
    "model_log.fit(features_train, target_train)\n",
    "predictions_valid_log = model_log.predict(features_valid)"
   ]
  },
  {
   "cell_type": "code",
   "execution_count": 79,
   "metadata": {},
   "outputs": [
    {
     "name": "stdout",
     "output_type": "stream",
     "text": [
      "Recall_log: 0.6866028708133971\n",
      "Precision_log: 0.38266666666666665\n",
      "F1_log: 0.4914383561643835\n",
      "ROC-AUC_log: 0.7638958619396439\n"
     ]
    }
   ],
   "source": [
    "print(\"Recall_log:\", recall_score(target_valid, predictions_valid_log))\n",
    "print(\"Precision_log:\", precision_score(target_valid, predictions_valid_log))\n",
    "print(\"F1_log:\", f1_score(target_valid, predictions_valid_log))\n",
    "\n",
    "probabilities_valid = model_log.predict_proba(features_valid)\n",
    "probabilities_one_valid = probabilities_valid[:, 1]\n",
    "print(\"ROC-AUC_log:\", roc_auc_score(target_valid, probabilities_one_valid))"
   ]
  },
  {
   "cell_type": "markdown",
   "metadata": {},
   "source": [
    "Вывод: \n",
    "В результате проведения обучения c учетом дисбаланса методом взвешивания классов\n",
    "- Дерево решений F1 = 0.5963\n",
    "- Случайный лес F1 = 0.6219\n",
    "- Логистическая регрессия F1 = 0.4884\n",
    "\n",
    "Таким образом наилучшее значение метрики F1-score демонстрирует модель случайный лес F1=0,6219, в то же время и Дерево решений принимает меньше значение F1 = 0.5963.\n",
    "взвешевание классов не на много улучшило качество модели, попробуем использовать другие методы."
   ]
  },
  {
   "cell_type": "markdown",
   "metadata": {},
   "source": [
    "### Уменьшение выборки"
   ]
  },
  {
   "cell_type": "code",
   "execution_count": 80,
   "metadata": {},
   "outputs": [
    {
     "name": "stdout",
     "output_type": "stream",
     "text": [
      "(2397, 11)\n",
      "(2397,)\n"
     ]
    }
   ],
   "source": [
    "# уменьшим выборку в 4 раза, так как положительный класс больше отрицательного в 4 раза\n",
    "def downsample(features, target, fraction):\n",
    "    features_zeros = features[target == 0]\n",
    "    features_ones = features[target == 1]\n",
    "    target_zeros = target[target == 0]\n",
    "    target_ones = target[target == 1]\n",
    "\n",
    "    # fractioning samples\n",
    "    features_downsampled = pd.concat([features_zeros.sample(frac=fraction, random_state=12345)] +\n",
    "                                     [features_ones])\n",
    "    target_downsampled = pd.concat([target_zeros.sample(frac=fraction, random_state=12345)] +\n",
    "                                   [target_ones])\n",
    "    \n",
    "    features_downsampled = shuffle(features_downsampled, random_state=12345)\n",
    "    target_downsampled = shuffle(target_downsampled, random_state=12345)\n",
    "\n",
    "    return features_downsampled, target_downsampled\n",
    "\n",
    "features_downsampled, target_downsampled = downsample(features_train, target_train, 0.25)\n",
    "\n",
    "print(features_downsampled.shape)\n",
    "print(target_downsampled.shape)"
   ]
  },
  {
   "cell_type": "markdown",
   "metadata": {},
   "source": [
    "#### Дерево решений"
   ]
  },
  {
   "cell_type": "code",
   "execution_count": 81,
   "metadata": {},
   "outputs": [
    {
     "name": "stdout",
     "output_type": "stream",
     "text": [
      "Оптимальная глубина дерева = 5\n",
      "Качество модели -  0.5931174089068827\n"
     ]
    }
   ],
   "source": [
    "# дерево решений - подберем лучшие гиперпараметры\n",
    "best_model = None\n",
    "best_f1 = 0\n",
    "for depth in range(1, 10):\n",
    "    model_tree = DecisionTreeClassifier(random_state=12345,\n",
    "                                        max_depth=depth)\n",
    "    model_tree.fit(features_downsampled, target_downsampled)\n",
    "    predictions_valid_tree = model_tree.predict(features_valid)\n",
    "    f1_tree = f1_score(target_valid, predictions_valid_tree)\n",
    "    if f1_tree > best_f1:\n",
    "        best_model = model_tree\n",
    "        best_depth = depth\n",
    "        best_f1 = f1_tree\n",
    "\n",
    "print('Оптимальная глубина дерева =', best_depth) \n",
    "print('Качество модели - ', best_f1)"
   ]
  },
  {
   "cell_type": "code",
   "execution_count": 82,
   "metadata": {},
   "outputs": [
    {
     "name": "stdout",
     "output_type": "stream",
     "text": [
      "Recall_tree: 0.7009569377990431\n",
      "Precision_tree: 0.5140350877192983\n",
      "F1_tree: 0.5931174089068827\n",
      "ROC-AUC_tree: 0.82291433531536\n"
     ]
    }
   ],
   "source": [
    "model_tree = DecisionTreeClassifier(random_state=12345,\n",
    "                                    max_depth=5)\n",
    "model_tree.fit(features_downsampled, target_downsampled)\n",
    "predictions_valid_tree = model_tree.predict(features_valid)\n",
    "\n",
    "print(\"Recall_tree:\", recall_score(target_valid, predictions_valid_tree))\n",
    "print(\"Precision_tree:\", precision_score(target_valid, predictions_valid_tree))\n",
    "print(\"F1_tree:\", f1_score(target_valid, predictions_valid_tree))\n",
    "\n",
    "probabilities_valid = model_tree.predict_proba(features_valid)\n",
    "probabilities_one_valid = probabilities_valid[:, 1]\n",
    "print(\"ROC-AUC_tree:\", roc_auc_score(target_valid, probabilities_one_valid))"
   ]
  },
  {
   "cell_type": "markdown",
   "metadata": {},
   "source": [
    "#### Случайный лес"
   ]
  },
  {
   "cell_type": "code",
   "execution_count": 83,
   "metadata": {},
   "outputs": [
    {
     "name": "stdout",
     "output_type": "stream",
     "text": [
      "Оптимальное количество оценок = 100\n",
      "Оптимальная глубина дерева = 9\n"
     ]
    }
   ],
   "source": [
    "# случайный лес - подберем лучшие гиперпараметры\n",
    "best_model = None\n",
    "for est in range(10, 101, 10):\n",
    "    for depth in range(1, 10):\n",
    "        model_forest = RandomForestClassifier(random_state=12345,\n",
    "                                              n_estimators=est, \n",
    "                                              max_depth=depth)\n",
    "        model_forest.fit(features_downsampled, target_downsampled)\n",
    "        predictions_valid_forest = model_forest.predict(features_valid)\n",
    "        f1_forest = f1_score(target_valid, predictions_valid_forest)\n",
    "        if f1_forest > best_f1:\n",
    "            best_model = model_forest\n",
    "            best_est = est\n",
    "            best_depth = depth\n",
    "\n",
    "print('Оптимальное количество оценок =', best_est)\n",
    "print('Оптимальная глубина дерева =', best_depth)"
   ]
  },
  {
   "cell_type": "code",
   "execution_count": 84,
   "metadata": {},
   "outputs": [
    {
     "name": "stdout",
     "output_type": "stream",
     "text": [
      "Recall_forest: 0.7392344497607656\n",
      "Precision_forest: 0.49047619047619045\n",
      "F1_forest: 0.5896946564885497\n",
      "ROC-AUC_forest: 0.8482524694681193\n"
     ]
    }
   ],
   "source": [
    "model_forest = RandomForestClassifier(random_state=12345, \n",
    "                                      n_estimators=100, \n",
    "                                      max_depth=8)\n",
    "model_forest.fit(features_downsampled, target_downsampled)\n",
    "predictions_valid_forest = model_forest.predict(features_valid)\n",
    "\n",
    "print(\"Recall_forest:\", recall_score(target_valid, predictions_valid_forest))\n",
    "print(\"Precision_forest:\", precision_score(target_valid, predictions_valid_forest))\n",
    "print(\"F1_forest:\", f1_score(target_valid, predictions_valid_forest))\n",
    "\n",
    "probabilities_valid = model_forest.predict_proba(features_valid)\n",
    "probabilities_one_valid = probabilities_valid[:, 1]\n",
    "print(\"ROC-AUC_forest:\", roc_auc_score(target_valid, probabilities_one_valid))"
   ]
  },
  {
   "cell_type": "markdown",
   "metadata": {},
   "source": [
    "#### Логистическая регрессия"
   ]
  },
  {
   "cell_type": "code",
   "execution_count": 85,
   "metadata": {},
   "outputs": [
    {
     "name": "stdout",
     "output_type": "stream",
     "text": [
      "Recall_log: 0.6818181818181818\n",
      "Precision_log: 0.3825503355704698\n",
      "F1_log: 0.4901117798796217\n",
      "ROC-AUC_log: 0.762711787513837\n"
     ]
    }
   ],
   "source": [
    "model_log = LogisticRegression(random_state=12345,\n",
    "                               solver='liblinear')\n",
    "\n",
    "model_log.fit(features_downsampled, target_downsampled)\n",
    "predictions_valid_log = model_log.predict(features_valid)\n",
    "\n",
    "print(\"Recall_log:\", recall_score(target_valid, predictions_valid_log))\n",
    "print(\"Precision_log:\", precision_score(target_valid, predictions_valid_log))\n",
    "print(\"F1_log:\", f1_score(target_valid, predictions_valid_log))\n",
    "\n",
    "probabilities_valid = model_log.predict_proba(features_valid)\n",
    "probabilities_one_valid = probabilities_valid[:, 1]\n",
    "print(\"ROC-AUC_log:\", roc_auc_score(target_valid, probabilities_one_valid))"
   ]
  },
  {
   "cell_type": "markdown",
   "metadata": {},
   "source": [
    "Вывод: \n",
    "В результате проведения обучения c учетом дисбаланса методом уменьшения выборки\n",
    "- Дерево решений F1 = 0.5931\n",
    "- Случайный лес F1 = 0.6083\n",
    "- Логистическая регрессия F1 = 0.4840\n",
    "\n",
    "Таким образом наилучшее значение метрики F1-score демонстрирует модель случайный лес F1=0,6083, в то же время и дерево решений принимает примерно такое же значение F1 = 0.5931.\n",
    "уменьшение выборки не улучшило качество модели, попробуем использовать обратный метод."
   ]
  },
  {
   "cell_type": "markdown",
   "metadata": {},
   "source": [
    "### Увеличение выборки"
   ]
  },
  {
   "cell_type": "code",
   "execution_count": 86,
   "metadata": {},
   "outputs": [
    {
     "name": "stdout",
     "output_type": "stream",
     "text": [
      "(9588, 11)\n",
      "(9588,)\n"
     ]
    }
   ],
   "source": [
    "# увеличим выборку в 4 раза, так как отрицательный класс больше положительного в 4 раза\n",
    "def upsample(features, target, repeat):\n",
    "    features_zeros = features[target == 0]\n",
    "    features_ones = features[target == 1]\n",
    "    target_zeros = target[target == 0]\n",
    "    target_ones = target[target == 1]\n",
    "    \n",
    "    # сцепляем выборки\n",
    "    features_upsampled = pd.concat([features_zeros] + [features_ones] * repeat)\n",
    "    target_upsampled = pd.concat([target_zeros] + [target_ones] * repeat)\n",
    "    \n",
    "    # перемешиваем значения, чтобы они не шли друг за другом \n",
    "    features_upsampled = shuffle(features_upsampled, random_state=12345)\n",
    "    target_upsampled = shuffle(target_upsampled, random_state=12345)\n",
    "    return features_upsampled, target_upsampled\n",
    "\n",
    "features_upsampled, target_upsampled = upsample(features_train, target_train, 4)\n",
    "\n",
    "print(features_upsampled.shape)\n",
    "print(target_upsampled.shape)"
   ]
  },
  {
   "cell_type": "markdown",
   "metadata": {},
   "source": [
    "#### Дерево решений"
   ]
  },
  {
   "cell_type": "code",
   "execution_count": 87,
   "metadata": {},
   "outputs": [
    {
     "name": "stdout",
     "output_type": "stream",
     "text": [
      "Оптимальная глубина дерева = 5\n",
      "Качество модели -  0.5963791267305644\n"
     ]
    }
   ],
   "source": [
    "# дерево решений - подберем лучшие гиперпараметры\n",
    "best_model = None\n",
    "best_f1 = 0\n",
    "for depth in range(1, 10):\n",
    "    model_tree = DecisionTreeClassifier(random_state=12345,\n",
    "                                        max_depth=depth)\n",
    "    model_tree.fit(features_upsampled, target_upsampled)\n",
    "    predictions_valid_tree = model_tree.predict(features_valid)\n",
    "    f1_tree = f1_score(target_valid, predictions_valid_tree)\n",
    "    if f1_tree > best_f1:\n",
    "        best_model = model_tree\n",
    "        best_depth = depth\n",
    "        best_f1 = f1_tree\n",
    "\n",
    "print('Оптимальная глубина дерева =', best_depth) \n",
    "print('Качество модели - ', best_f1)"
   ]
  },
  {
   "cell_type": "code",
   "execution_count": 88,
   "metadata": {},
   "outputs": [
    {
     "name": "stdout",
     "output_type": "stream",
     "text": [
      "Recall_tree: 0.6698564593301436\n",
      "Precision_tree: 0.5374280230326296\n",
      "F1_tree: 0.5963791267305644\n",
      "ROC-AUC_tree: 0.8310244134068074\n"
     ]
    }
   ],
   "source": [
    "model_tree = DecisionTreeClassifier(random_state=12345,\n",
    "                                    max_depth=5)\n",
    "model_tree.fit(features_upsampled, target_upsampled)\n",
    "predictions_valid_tree = model_tree.predict(features_valid)\n",
    "\n",
    "print(\"Recall_tree:\", recall_score(target_valid, predictions_valid_tree))\n",
    "print(\"Precision_tree:\", precision_score(target_valid, predictions_valid_tree))\n",
    "print(\"F1_tree:\", f1_score(target_valid, predictions_valid_tree))\n",
    "\n",
    "probabilities_valid = model_tree.predict_proba(features_valid)\n",
    "probabilities_one_valid = probabilities_valid[:, 1]\n",
    "print(\"ROC-AUC_tree:\", roc_auc_score(target_valid, probabilities_one_valid))"
   ]
  },
  {
   "cell_type": "markdown",
   "metadata": {},
   "source": [
    "#### Случайный лес"
   ]
  },
  {
   "cell_type": "code",
   "execution_count": 89,
   "metadata": {},
   "outputs": [
    {
     "name": "stdout",
     "output_type": "stream",
     "text": [
      "Оптимальное количество оценок = 100\n",
      "Оптимальная глубина дерева = 9\n"
     ]
    }
   ],
   "source": [
    "# случайный лес - подберем лучшие гиперпараметры\n",
    "best_model = None\n",
    "for est in range(10, 101, 10):\n",
    "    for depth in range(1, 10):\n",
    "        model_forest = RandomForestClassifier(random_state=12345,\n",
    "                                              n_estimators=est, \n",
    "                                              max_depth=depth)\n",
    "        model_forest.fit(features_upsampled, target_upsampled)\n",
    "        predictions_valid_forest = model_forest.predict(features_valid)\n",
    "        f1_forest = f1_score(target_valid, predictions_valid_forest)\n",
    "        if f1_forest > best_f1:\n",
    "            best_model = model_forest\n",
    "            best_est = est\n",
    "            best_depth = depth\n",
    "\n",
    "print('Оптимальное количество оценок =', best_est)\n",
    "print('Оптимальная глубина дерева =', best_depth)"
   ]
  },
  {
   "cell_type": "code",
   "execution_count": 90,
   "metadata": {},
   "outputs": [
    {
     "name": "stdout",
     "output_type": "stream",
     "text": [
      "Recall_forest: 0.715311004784689\n",
      "Precision_forest: 0.5652173913043478\n",
      "F1_forest: 0.6314677930306231\n",
      "ROC-AUC_forest: 0.8539565930110876\n"
     ]
    }
   ],
   "source": [
    "model_forest = RandomForestClassifier(random_state=12345, \n",
    "                                      n_estimators=100, \n",
    "                                      max_depth=9)\n",
    "model_forest.fit(features_upsampled, target_upsampled)\n",
    "predictions_valid_forest = model_forest.predict(features_valid)\n",
    "\n",
    "print(\"Recall_forest:\", recall_score(target_valid, predictions_valid_forest))\n",
    "print(\"Precision_forest:\", precision_score(target_valid, predictions_valid_forest))\n",
    "print(\"F1_forest:\", f1_score(target_valid, predictions_valid_forest))\n",
    "\n",
    "probabilities_valid = model_forest.predict_proba(features_valid)\n",
    "probabilities_one_valid = probabilities_valid[:, 1]\n",
    "print(\"ROC-AUC_forest:\", roc_auc_score(target_valid, probabilities_one_valid))"
   ]
  },
  {
   "cell_type": "markdown",
   "metadata": {},
   "source": [
    "#### Логистическая регрессия"
   ]
  },
  {
   "cell_type": "code",
   "execution_count": 91,
   "metadata": {},
   "outputs": [
    {
     "name": "stdout",
     "output_type": "stream",
     "text": [
      "Recall_log: 0.6842105263157895\n",
      "Precision_log: 0.3818424566088118\n",
      "F1_log: 0.4901456726649529\n",
      "ROC-AUC_log: 0.7638792274330235\n"
     ]
    }
   ],
   "source": [
    "model_log = LogisticRegression(random_state=12345,\n",
    "                               solver='liblinear')\n",
    "model_log.fit(features_upsampled, target_upsampled)\n",
    "predictions_valid_log = model_log.predict(features_valid)\n",
    "\n",
    "print(\"Recall_log:\", recall_score(target_valid, predictions_valid_log))\n",
    "print(\"Precision_log:\", precision_score(target_valid, predictions_valid_log))\n",
    "print(\"F1_log:\", f1_score(target_valid, predictions_valid_log))\n",
    "\n",
    "probabilities_valid = model_log.predict_proba(features_valid)\n",
    "probabilities_one_valid = probabilities_valid[:, 1]\n",
    "print(\"ROC-AUC_log:\", roc_auc_score(target_valid, probabilities_one_valid))"
   ]
  },
  {
   "cell_type": "markdown",
   "metadata": {},
   "source": [
    "Вывод: \n",
    "В результате проведения обучения c учетом дисбаланса методом увеличения выборки\n",
    "- Дерево решений F1 = 0.5963\n",
    "- Случайный лес F1 = 0,6212\n",
    "- Логистическая регрессия F1 = 0.4871\n",
    "\n",
    "Таким образом наилучшее значение метрики F1-score демонстрирует модель случайный лес F1=0,6212"
   ]
  },
  {
   "cell_type": "markdown",
   "metadata": {},
   "source": [
    "### Вывод:\n",
    "\n",
    "Наибольшее значение метрики F1-score получено на модели Случайный лес при помощи взвешивания классов F1=0.6219. Поэтому для тестирования будем использовать эту модель.\n",
    "Значение метрики AUC-ROC всегда стабильно выше F1-score и колеблется в районе 85%.\n",
    "С гиперпараметрами:\n",
    "- Оптимальное количество оценок = 100\n",
    "- Оптимальная глубина дерева = 9"
   ]
  },
  {
   "cell_type": "markdown",
   "metadata": {},
   "source": [
    "## Тестирование модели"
   ]
  },
  {
   "cell_type": "markdown",
   "metadata": {},
   "source": [
    "Проведем тестирование модели с помощью случайного леса методом взвешивания классов. гиперпараметры используем уже из исследования:\n",
    "- Оптимальное количество оценок = 100\n",
    "- Оптимальная глубина дерева = 9"
   ]
  },
  {
   "cell_type": "code",
   "execution_count": 94,
   "metadata": {},
   "outputs": [
    {
     "name": "stdout",
     "output_type": "stream",
     "text": [
      "Recall_forest: 0.6430260047281324\n",
      "Precision_forest: 0.591304347826087\n",
      "F1_forest: 0.6160815402038504\n",
      "ROC-AUC_forest: 0.85836140380859\n"
     ]
    }
   ],
   "source": [
    "# обучаем модель с оптимальными значениями гиперпараметров\n",
    "model_forest = RandomForestClassifier(random_state=12345, \n",
    "                                      n_estimators=100, \n",
    "                                      max_depth=9,\n",
    "                                      class_weight='balanced')\n",
    "model_forest.fit(features_train, target_train)\n",
    "predictions_valid_forest = model_forest.predict(features_test)\n",
    "print(\"Recall_forest:\", recall_score(target_test, predictions_valid_forest))\n",
    "print(\"Precision_forest:\", precision_score(target_test, predictions_valid_forest))\n",
    "print(\"F1_forest:\", f1_score(target_test, predictions_valid_forest))\n",
    "\n",
    "probabilities_valid = model_forest.predict_proba(features_test)\n",
    "probabilities_one_valid = probabilities_valid[:, 1]\n",
    "print(\"ROC-AUC_forest:\", roc_auc_score(target_test, probabilities_one_valid))"
   ]
  },
  {
   "cell_type": "markdown",
   "metadata": {},
   "source": [
    "## Общий вывод\n",
    "\n",
    "Проведено прогнозирование оттока клиентов банка на основе исторических данных поведения клиентов.\n",
    "Построена модель с предельно большим значением F1-меры\n",
    "\n",
    "В рамках подготовки данных скорректированы наименования полей, проанализированы выбросы и дубликаты, проработаны проработаны пропуски.\n",
    "\n",
    "Категориальные признаки переведены в дамми переменные.\n",
    "\n",
    "В результате проведения обучения без учета дисбаланса:\n",
    "- Дерево решений F1 = 0.5702\n",
    "- Случайный лес F1 = 0.5798\n",
    "- Логистическая регрессия F1 = 0.3305\n",
    "\n",
    "Таким образом наилучшее значение метрики F1-score демонстрирует модель случайный лес, дерево решений немного ниже, так же наибольшее значение метрики accuracy = 0,86 наблюдается у модели случайный лес.\n",
    "В первоначальные данных наблюдался значительный дисбаланс (80% ответов целевого признака были негативными и только 20% позитивными), из-за чего обученная на этих данных модель не проходила проверку на адекватность. Все модели не первоначальных данных характеризовались высокой степенью ошибок и низким качеством взвешенной величины (F1) — модели показывали низкие результаты точности и полноты.\n",
    "\n",
    "В рамках борьбы с дисбалансом классов было рассмотрено 3 метода:\n",
    "\n",
    "Взвешивание классов\n",
    "Увеличение выборки (upsampling)\n",
    "Уменьшение выборки (downsampling)\n",
    "\n",
    "Мы устранили дисбаланс классов в обучающей выборки методом взвешивания классов\n",
    "\n",
    "В результате борьбы с дисбанансом классов были получены следующие выводы:\n",
    "\n",
    "В результате проведения обучения c учетом дисбаланса методом взвешивания классов\n",
    "\n",
    "Дерево решений F1 = 0.5963\n",
    "Случайный лес F1 = 0.6312\n",
    "Логистическая регрессия F1 = 0.4892\n",
    "Таким образом наилучшее значение метрики F1-score демонстрирует модель случайный лес F1=0,6312, в то же время и Дерево решений принимает меньше значение F1 = 0.5931. взвешевание классов не на много улучшило качество модели, попробуем использовать другие методы.\n",
    "\n",
    "Вывод: \n",
    "В результате проведения обучения c учетом дисбаланса методом уменьшения выборки\n",
    "- Дерево решений F1 = 0.5931\n",
    "- Случайный лес F1 = 0.5954\n",
    "- Логистическая регрессия F1 = 0.4892\n",
    "\n",
    "Таким образом наилучшее значение метрики F1-score демонстрирует модель случайный лес F1=0,5954, в то же время и Дерево решений принимает примерно такое же значение F1 = 0.5931.\n",
    "уменьшение выборки не улучшило качество модели, попробуем использовать обратный метод.\n",
    "\n",
    "В результате проведения обучения c учетом дисбаланса методом увеличения выборки\n",
    "\n",
    "Дерево решений F1 = 0.5963\n",
    "Случайный лес F1 = 0,6201\n",
    "Логистическая регрессия F1 = 0.4879\n",
    "Таким образом наилучшее значение метрики F1-score демонстрирует модель случайный лес F1=0,6201\n",
    "\n",
    "Наибольшее значение метрики F1-score получено на модели Случайный лес при помощи взвешивания классов F1=0.63. Поэтому для тестирования будем использовать эту модель.\n",
    "Значение метрики AUC-ROC всегда стабильно выше F1-score и колеблется в районе 85%.\n",
    "С гиперпараметрами:\n",
    "- Оптимальное количество оценок = 100\n",
    "- Оптимальная глубина дерева = 9\n",
    "\n",
    "Провели тестирование модели с помощью случайного леса методом взвешивания классов. гиперпараметры используем уже из исследования:\n",
    "- Оптимальное количество оценок = 100\n",
    "- Оптимальная глубина дерева = 9\n",
    "\n",
    "результатом тестирования получили F1_tree: 0.6160, что удалось достичь меры F1>0.59"
   ]
  }
 ],
 "metadata": {
  "ExecuteTimeLog": [
   {
    "duration": 1507,
    "start_time": "2023-07-08T04:31:12.581Z"
   },
   {
    "duration": 76,
    "start_time": "2023-07-08T04:31:14.090Z"
   },
   {
    "duration": 15,
    "start_time": "2023-07-08T04:31:14.167Z"
   },
   {
    "duration": 112,
    "start_time": "2023-07-08T04:31:14.183Z"
   },
   {
    "duration": 0,
    "start_time": "2023-07-08T04:31:14.297Z"
   },
   {
    "duration": 0,
    "start_time": "2023-07-08T04:31:14.298Z"
   },
   {
    "duration": 0,
    "start_time": "2023-07-08T04:31:14.299Z"
   },
   {
    "duration": 0,
    "start_time": "2023-07-08T04:31:14.300Z"
   },
   {
    "duration": 0,
    "start_time": "2023-07-08T04:31:14.301Z"
   },
   {
    "duration": 0,
    "start_time": "2023-07-08T04:31:14.302Z"
   },
   {
    "duration": 0,
    "start_time": "2023-07-08T04:31:14.304Z"
   },
   {
    "duration": 0,
    "start_time": "2023-07-08T04:31:14.305Z"
   },
   {
    "duration": 0,
    "start_time": "2023-07-08T04:31:14.306Z"
   },
   {
    "duration": 0,
    "start_time": "2023-07-08T04:31:14.307Z"
   },
   {
    "duration": 0,
    "start_time": "2023-07-08T04:31:14.308Z"
   },
   {
    "duration": 0,
    "start_time": "2023-07-08T04:31:14.308Z"
   },
   {
    "duration": 0,
    "start_time": "2023-07-08T04:31:14.309Z"
   },
   {
    "duration": 1557,
    "start_time": "2023-07-08T04:32:02.383Z"
   },
   {
    "duration": 40,
    "start_time": "2023-07-08T04:32:03.943Z"
   },
   {
    "duration": 18,
    "start_time": "2023-07-08T04:32:03.984Z"
   },
   {
    "duration": 4,
    "start_time": "2023-07-08T04:32:04.003Z"
   },
   {
    "duration": 16,
    "start_time": "2023-07-08T04:32:04.010Z"
   },
   {
    "duration": 58,
    "start_time": "2023-07-08T04:32:04.028Z"
   },
   {
    "duration": 5,
    "start_time": "2023-07-08T04:32:04.087Z"
   },
   {
    "duration": 8,
    "start_time": "2023-07-08T04:32:04.093Z"
   },
   {
    "duration": 8,
    "start_time": "2023-07-08T04:32:04.103Z"
   },
   {
    "duration": 17,
    "start_time": "2023-07-08T04:32:04.113Z"
   },
   {
    "duration": 15,
    "start_time": "2023-07-08T04:32:04.131Z"
   },
   {
    "duration": 5,
    "start_time": "2023-07-08T04:32:04.148Z"
   },
   {
    "duration": 7,
    "start_time": "2023-07-08T04:32:04.156Z"
   },
   {
    "duration": 11,
    "start_time": "2023-07-08T04:32:04.167Z"
   },
   {
    "duration": 22,
    "start_time": "2023-07-08T04:32:04.181Z"
   },
   {
    "duration": 6,
    "start_time": "2023-07-08T04:32:04.205Z"
   },
   {
    "duration": 79,
    "start_time": "2023-07-08T04:32:53.763Z"
   },
   {
    "duration": 0,
    "start_time": "2023-07-08T04:32:53.844Z"
   },
   {
    "duration": 0,
    "start_time": "2023-07-08T04:32:53.848Z"
   },
   {
    "duration": 0,
    "start_time": "2023-07-08T04:32:53.849Z"
   },
   {
    "duration": 0,
    "start_time": "2023-07-08T04:32:53.850Z"
   },
   {
    "duration": 0,
    "start_time": "2023-07-08T04:32:53.852Z"
   },
   {
    "duration": 0,
    "start_time": "2023-07-08T04:32:53.853Z"
   },
   {
    "duration": 0,
    "start_time": "2023-07-08T04:32:53.855Z"
   },
   {
    "duration": 0,
    "start_time": "2023-07-08T04:32:53.856Z"
   },
   {
    "duration": 0,
    "start_time": "2023-07-08T04:32:53.857Z"
   },
   {
    "duration": 0,
    "start_time": "2023-07-08T04:32:53.858Z"
   },
   {
    "duration": 0,
    "start_time": "2023-07-08T04:32:53.859Z"
   },
   {
    "duration": 0,
    "start_time": "2023-07-08T04:32:53.860Z"
   },
   {
    "duration": 0,
    "start_time": "2023-07-08T04:32:53.861Z"
   },
   {
    "duration": 0,
    "start_time": "2023-07-08T04:32:53.862Z"
   },
   {
    "duration": 0,
    "start_time": "2023-07-08T04:32:53.863Z"
   },
   {
    "duration": 264,
    "start_time": "2023-07-08T04:35:36.980Z"
   },
   {
    "duration": 0,
    "start_time": "2023-07-08T04:35:37.246Z"
   },
   {
    "duration": 0,
    "start_time": "2023-07-08T04:35:37.247Z"
   },
   {
    "duration": 0,
    "start_time": "2023-07-08T04:35:37.248Z"
   },
   {
    "duration": 0,
    "start_time": "2023-07-08T04:35:37.249Z"
   },
   {
    "duration": 0,
    "start_time": "2023-07-08T04:35:37.250Z"
   },
   {
    "duration": 0,
    "start_time": "2023-07-08T04:35:37.251Z"
   },
   {
    "duration": 0,
    "start_time": "2023-07-08T04:35:37.252Z"
   },
   {
    "duration": 0,
    "start_time": "2023-07-08T04:35:37.253Z"
   },
   {
    "duration": 0,
    "start_time": "2023-07-08T04:35:37.254Z"
   },
   {
    "duration": 0,
    "start_time": "2023-07-08T04:35:37.255Z"
   },
   {
    "duration": 0,
    "start_time": "2023-07-08T04:35:37.256Z"
   },
   {
    "duration": 0,
    "start_time": "2023-07-08T04:35:37.257Z"
   },
   {
    "duration": 0,
    "start_time": "2023-07-08T04:35:37.258Z"
   },
   {
    "duration": 0,
    "start_time": "2023-07-08T04:35:37.259Z"
   },
   {
    "duration": 0,
    "start_time": "2023-07-08T04:35:37.260Z"
   },
   {
    "duration": 121,
    "start_time": "2023-07-08T04:35:54.711Z"
   },
   {
    "duration": 0,
    "start_time": "2023-07-08T04:35:54.834Z"
   },
   {
    "duration": 0,
    "start_time": "2023-07-08T04:35:54.835Z"
   },
   {
    "duration": 0,
    "start_time": "2023-07-08T04:35:54.837Z"
   },
   {
    "duration": 0,
    "start_time": "2023-07-08T04:35:54.838Z"
   },
   {
    "duration": 0,
    "start_time": "2023-07-08T04:35:54.839Z"
   },
   {
    "duration": 0,
    "start_time": "2023-07-08T04:35:54.840Z"
   },
   {
    "duration": 0,
    "start_time": "2023-07-08T04:35:54.841Z"
   },
   {
    "duration": 0,
    "start_time": "2023-07-08T04:35:54.842Z"
   },
   {
    "duration": 0,
    "start_time": "2023-07-08T04:35:54.843Z"
   },
   {
    "duration": 0,
    "start_time": "2023-07-08T04:35:54.844Z"
   },
   {
    "duration": 0,
    "start_time": "2023-07-08T04:35:54.845Z"
   },
   {
    "duration": 0,
    "start_time": "2023-07-08T04:35:54.847Z"
   },
   {
    "duration": 0,
    "start_time": "2023-07-08T04:35:54.848Z"
   },
   {
    "duration": 0,
    "start_time": "2023-07-08T04:35:54.849Z"
   },
   {
    "duration": 0,
    "start_time": "2023-07-08T04:35:54.849Z"
   },
   {
    "duration": 1526,
    "start_time": "2023-07-08T04:36:11.423Z"
   },
   {
    "duration": 39,
    "start_time": "2023-07-08T04:36:12.950Z"
   },
   {
    "duration": 14,
    "start_time": "2023-07-08T04:36:12.990Z"
   },
   {
    "duration": 20,
    "start_time": "2023-07-08T04:36:13.005Z"
   },
   {
    "duration": 13,
    "start_time": "2023-07-08T04:36:13.027Z"
   },
   {
    "duration": 37,
    "start_time": "2023-07-08T04:36:13.042Z"
   },
   {
    "duration": 3,
    "start_time": "2023-07-08T04:36:13.081Z"
   },
   {
    "duration": 14,
    "start_time": "2023-07-08T04:36:13.085Z"
   },
   {
    "duration": 9,
    "start_time": "2023-07-08T04:36:13.101Z"
   },
   {
    "duration": 21,
    "start_time": "2023-07-08T04:36:13.111Z"
   },
   {
    "duration": 17,
    "start_time": "2023-07-08T04:36:13.133Z"
   },
   {
    "duration": 19,
    "start_time": "2023-07-08T04:36:13.151Z"
   },
   {
    "duration": 17,
    "start_time": "2023-07-08T04:36:13.172Z"
   },
   {
    "duration": 23,
    "start_time": "2023-07-08T04:36:13.191Z"
   },
   {
    "duration": 22,
    "start_time": "2023-07-08T04:36:13.216Z"
   },
   {
    "duration": 4,
    "start_time": "2023-07-08T04:36:13.240Z"
   },
   {
    "duration": 68,
    "start_time": "2023-07-08T08:44:18.152Z"
   },
   {
    "duration": 2124,
    "start_time": "2023-07-08T08:44:37.996Z"
   },
   {
    "duration": 125,
    "start_time": "2023-07-08T08:44:40.122Z"
   },
   {
    "duration": 0,
    "start_time": "2023-07-08T08:44:40.249Z"
   },
   {
    "duration": 0,
    "start_time": "2023-07-08T08:44:40.251Z"
   },
   {
    "duration": 0,
    "start_time": "2023-07-08T08:44:40.258Z"
   },
   {
    "duration": 0,
    "start_time": "2023-07-08T08:44:40.259Z"
   },
   {
    "duration": 0,
    "start_time": "2023-07-08T08:44:40.260Z"
   },
   {
    "duration": 0,
    "start_time": "2023-07-08T08:44:40.265Z"
   },
   {
    "duration": 0,
    "start_time": "2023-07-08T08:44:40.266Z"
   },
   {
    "duration": 0,
    "start_time": "2023-07-08T08:44:40.267Z"
   },
   {
    "duration": 0,
    "start_time": "2023-07-08T08:44:40.268Z"
   },
   {
    "duration": 0,
    "start_time": "2023-07-08T08:44:40.268Z"
   },
   {
    "duration": 0,
    "start_time": "2023-07-08T08:44:40.269Z"
   },
   {
    "duration": 0,
    "start_time": "2023-07-08T08:44:40.270Z"
   },
   {
    "duration": 0,
    "start_time": "2023-07-08T08:44:40.271Z"
   },
   {
    "duration": 0,
    "start_time": "2023-07-08T08:44:40.272Z"
   },
   {
    "duration": 0,
    "start_time": "2023-07-08T08:44:40.272Z"
   },
   {
    "duration": 0,
    "start_time": "2023-07-08T08:44:40.273Z"
   },
   {
    "duration": 0,
    "start_time": "2023-07-08T08:44:40.274Z"
   },
   {
    "duration": 1703,
    "start_time": "2023-07-08T08:45:46.688Z"
   },
   {
    "duration": 124,
    "start_time": "2023-07-08T08:45:48.394Z"
   },
   {
    "duration": 0,
    "start_time": "2023-07-08T08:45:48.520Z"
   },
   {
    "duration": 0,
    "start_time": "2023-07-08T08:45:48.521Z"
   },
   {
    "duration": 0,
    "start_time": "2023-07-08T08:45:48.522Z"
   },
   {
    "duration": 0,
    "start_time": "2023-07-08T08:45:48.523Z"
   },
   {
    "duration": 0,
    "start_time": "2023-07-08T08:45:48.524Z"
   },
   {
    "duration": 1,
    "start_time": "2023-07-08T08:45:48.525Z"
   },
   {
    "duration": 0,
    "start_time": "2023-07-08T08:45:48.526Z"
   },
   {
    "duration": 0,
    "start_time": "2023-07-08T08:45:48.527Z"
   },
   {
    "duration": 0,
    "start_time": "2023-07-08T08:45:48.528Z"
   },
   {
    "duration": 0,
    "start_time": "2023-07-08T08:45:48.529Z"
   },
   {
    "duration": 0,
    "start_time": "2023-07-08T08:45:48.531Z"
   },
   {
    "duration": 0,
    "start_time": "2023-07-08T08:45:48.531Z"
   },
   {
    "duration": 0,
    "start_time": "2023-07-08T08:45:48.532Z"
   },
   {
    "duration": 0,
    "start_time": "2023-07-08T08:45:48.533Z"
   },
   {
    "duration": 0,
    "start_time": "2023-07-08T08:45:48.535Z"
   },
   {
    "duration": 0,
    "start_time": "2023-07-08T08:45:48.535Z"
   },
   {
    "duration": 0,
    "start_time": "2023-07-08T08:45:48.537Z"
   },
   {
    "duration": 1711,
    "start_time": "2023-07-08T08:46:24.606Z"
   },
   {
    "duration": 4,
    "start_time": "2023-07-08T08:46:26.319Z"
   },
   {
    "duration": 457,
    "start_time": "2023-07-08T08:46:26.324Z"
   },
   {
    "duration": 20,
    "start_time": "2023-07-08T08:46:26.789Z"
   },
   {
    "duration": 4,
    "start_time": "2023-07-08T08:46:26.812Z"
   },
   {
    "duration": 14,
    "start_time": "2023-07-08T08:46:26.818Z"
   },
   {
    "duration": 52,
    "start_time": "2023-07-08T08:46:26.834Z"
   },
   {
    "duration": 5,
    "start_time": "2023-07-08T08:46:26.888Z"
   },
   {
    "duration": 10,
    "start_time": "2023-07-08T08:46:26.895Z"
   },
   {
    "duration": 4,
    "start_time": "2023-07-08T08:46:26.907Z"
   },
   {
    "duration": 13,
    "start_time": "2023-07-08T08:46:26.913Z"
   },
   {
    "duration": 11,
    "start_time": "2023-07-08T08:46:26.928Z"
   },
   {
    "duration": 3275,
    "start_time": "2023-07-08T08:46:26.941Z"
   },
   {
    "duration": 0,
    "start_time": "2023-07-08T08:46:30.218Z"
   },
   {
    "duration": 0,
    "start_time": "2023-07-08T08:46:30.220Z"
   },
   {
    "duration": 0,
    "start_time": "2023-07-08T08:46:30.221Z"
   },
   {
    "duration": 0,
    "start_time": "2023-07-08T08:46:30.222Z"
   },
   {
    "duration": 0,
    "start_time": "2023-07-08T08:46:30.224Z"
   },
   {
    "duration": 0,
    "start_time": "2023-07-08T08:46:30.225Z"
   },
   {
    "duration": 1978,
    "start_time": "2023-07-08T08:46:53.618Z"
   },
   {
    "duration": 3,
    "start_time": "2023-07-08T08:46:55.598Z"
   },
   {
    "duration": 53,
    "start_time": "2023-07-08T08:46:55.603Z"
   },
   {
    "duration": 28,
    "start_time": "2023-07-08T08:46:55.657Z"
   },
   {
    "duration": 5,
    "start_time": "2023-07-08T08:46:55.687Z"
   },
   {
    "duration": 25,
    "start_time": "2023-07-08T08:46:55.693Z"
   },
   {
    "duration": 60,
    "start_time": "2023-07-08T08:46:55.721Z"
   },
   {
    "duration": 5,
    "start_time": "2023-07-08T08:46:55.784Z"
   },
   {
    "duration": 13,
    "start_time": "2023-07-08T08:46:55.790Z"
   },
   {
    "duration": 4,
    "start_time": "2023-07-08T08:46:55.804Z"
   },
   {
    "duration": 9,
    "start_time": "2023-07-08T08:46:55.810Z"
   },
   {
    "duration": 9,
    "start_time": "2023-07-08T08:46:55.821Z"
   },
   {
    "duration": 44,
    "start_time": "2023-07-08T08:46:55.831Z"
   },
   {
    "duration": 6,
    "start_time": "2023-07-08T08:46:55.882Z"
   },
   {
    "duration": 15,
    "start_time": "2023-07-08T08:46:55.889Z"
   },
   {
    "duration": 12,
    "start_time": "2023-07-08T08:46:55.906Z"
   },
   {
    "duration": 8,
    "start_time": "2023-07-08T08:46:55.919Z"
   },
   {
    "duration": 20,
    "start_time": "2023-07-08T08:46:55.929Z"
   },
   {
    "duration": 17,
    "start_time": "2023-07-08T08:46:55.951Z"
   },
   {
    "duration": 1838,
    "start_time": "2023-07-08T09:08:36.292Z"
   },
   {
    "duration": 1876,
    "start_time": "2023-07-08T09:08:44.131Z"
   },
   {
    "duration": 6,
    "start_time": "2023-07-08T09:08:46.012Z"
   },
   {
    "duration": 66,
    "start_time": "2023-07-08T09:08:46.020Z"
   },
   {
    "duration": 34,
    "start_time": "2023-07-08T09:08:46.088Z"
   },
   {
    "duration": 5,
    "start_time": "2023-07-08T09:08:46.124Z"
   },
   {
    "duration": 23,
    "start_time": "2023-07-08T09:08:46.131Z"
   },
   {
    "duration": 69,
    "start_time": "2023-07-08T09:08:46.156Z"
   },
   {
    "duration": 4,
    "start_time": "2023-07-08T09:08:46.227Z"
   },
   {
    "duration": 20,
    "start_time": "2023-07-08T09:08:46.234Z"
   },
   {
    "duration": 34,
    "start_time": "2023-07-08T09:08:46.257Z"
   },
   {
    "duration": 17,
    "start_time": "2023-07-08T09:08:46.293Z"
   },
   {
    "duration": 22,
    "start_time": "2023-07-08T09:08:46.312Z"
   },
   {
    "duration": 68,
    "start_time": "2023-07-08T09:08:46.336Z"
   },
   {
    "duration": 1606,
    "start_time": "2023-07-08T09:08:46.408Z"
   },
   {
    "duration": 0,
    "start_time": "2023-07-08T09:08:48.016Z"
   },
   {
    "duration": 0,
    "start_time": "2023-07-08T09:08:48.017Z"
   },
   {
    "duration": 0,
    "start_time": "2023-07-08T09:08:48.018Z"
   },
   {
    "duration": 0,
    "start_time": "2023-07-08T09:08:48.020Z"
   },
   {
    "duration": 0,
    "start_time": "2023-07-08T09:08:48.021Z"
   },
   {
    "duration": 0,
    "start_time": "2023-07-08T09:08:48.022Z"
   },
   {
    "duration": 1434,
    "start_time": "2023-07-08T09:09:14.415Z"
   },
   {
    "duration": 16,
    "start_time": "2023-07-08T09:09:27.102Z"
   },
   {
    "duration": 8,
    "start_time": "2023-07-08T09:09:35.576Z"
   },
   {
    "duration": 111,
    "start_time": "2023-07-08T09:10:00.827Z"
   },
   {
    "duration": 5,
    "start_time": "2023-07-08T09:10:20.748Z"
   },
   {
    "duration": 5,
    "start_time": "2023-07-08T09:10:48.204Z"
   },
   {
    "duration": 5,
    "start_time": "2023-07-08T09:10:58.899Z"
   },
   {
    "duration": 12,
    "start_time": "2023-07-08T09:11:45.163Z"
   },
   {
    "duration": 1708,
    "start_time": "2023-07-08T09:11:52.199Z"
   },
   {
    "duration": 4,
    "start_time": "2023-07-08T09:11:53.915Z"
   },
   {
    "duration": 57,
    "start_time": "2023-07-08T09:11:53.922Z"
   },
   {
    "duration": 25,
    "start_time": "2023-07-08T09:11:53.981Z"
   },
   {
    "duration": 5,
    "start_time": "2023-07-08T09:11:54.011Z"
   },
   {
    "duration": 19,
    "start_time": "2023-07-08T09:11:54.019Z"
   },
   {
    "duration": 86,
    "start_time": "2023-07-08T09:11:54.039Z"
   },
   {
    "duration": 6,
    "start_time": "2023-07-08T09:11:54.127Z"
   },
   {
    "duration": 15,
    "start_time": "2023-07-08T09:11:54.135Z"
   },
   {
    "duration": 20,
    "start_time": "2023-07-08T09:11:54.153Z"
   },
   {
    "duration": 10,
    "start_time": "2023-07-08T09:11:54.175Z"
   },
   {
    "duration": 32,
    "start_time": "2023-07-08T09:11:54.187Z"
   },
   {
    "duration": 22,
    "start_time": "2023-07-08T09:11:54.222Z"
   },
   {
    "duration": 4,
    "start_time": "2023-07-08T09:11:54.246Z"
   },
   {
    "duration": 23,
    "start_time": "2023-07-08T09:11:54.252Z"
   },
   {
    "duration": 23,
    "start_time": "2023-07-08T09:11:54.276Z"
   },
   {
    "duration": 6,
    "start_time": "2023-07-08T09:11:54.302Z"
   },
   {
    "duration": 11,
    "start_time": "2023-07-08T09:11:54.311Z"
   },
   {
    "duration": 20,
    "start_time": "2023-07-08T09:11:54.323Z"
   },
   {
    "duration": 6,
    "start_time": "2023-07-08T09:11:54.345Z"
   },
   {
    "duration": 1936,
    "start_time": "2023-07-08T09:38:11.626Z"
   },
   {
    "duration": 2,
    "start_time": "2023-07-08T09:38:13.565Z"
   },
   {
    "duration": 87,
    "start_time": "2023-07-08T09:38:13.569Z"
   },
   {
    "duration": 38,
    "start_time": "2023-07-08T09:38:13.659Z"
   },
   {
    "duration": 11,
    "start_time": "2023-07-08T09:38:13.700Z"
   },
   {
    "duration": 54,
    "start_time": "2023-07-08T09:38:13.713Z"
   },
   {
    "duration": 68,
    "start_time": "2023-07-08T09:38:13.769Z"
   },
   {
    "duration": 5,
    "start_time": "2023-07-08T09:38:13.839Z"
   },
   {
    "duration": 35,
    "start_time": "2023-07-08T09:38:13.846Z"
   },
   {
    "duration": 16,
    "start_time": "2023-07-08T09:38:13.883Z"
   },
   {
    "duration": 37,
    "start_time": "2023-07-08T09:38:13.902Z"
   },
   {
    "duration": 9,
    "start_time": "2023-07-08T09:38:13.945Z"
   },
   {
    "duration": 79,
    "start_time": "2023-07-08T09:38:13.956Z"
   },
   {
    "duration": 7,
    "start_time": "2023-07-08T09:38:14.038Z"
   },
   {
    "duration": 39,
    "start_time": "2023-07-08T09:38:14.047Z"
   },
   {
    "duration": 11,
    "start_time": "2023-07-08T09:38:14.089Z"
   },
   {
    "duration": 5,
    "start_time": "2023-07-08T09:38:14.106Z"
   },
   {
    "duration": 256,
    "start_time": "2023-07-08T09:38:14.114Z"
   },
   {
    "duration": 0,
    "start_time": "2023-07-08T09:38:14.380Z"
   },
   {
    "duration": 0,
    "start_time": "2023-07-08T09:38:14.381Z"
   },
   {
    "duration": 0,
    "start_time": "2023-07-08T09:38:14.382Z"
   },
   {
    "duration": 0,
    "start_time": "2023-07-08T09:38:14.384Z"
   },
   {
    "duration": 1646,
    "start_time": "2023-07-08T09:39:07.684Z"
   },
   {
    "duration": 3,
    "start_time": "2023-07-08T09:39:09.332Z"
   },
   {
    "duration": 91,
    "start_time": "2023-07-08T09:39:09.337Z"
   },
   {
    "duration": 17,
    "start_time": "2023-07-08T09:39:09.430Z"
   },
   {
    "duration": 43,
    "start_time": "2023-07-08T09:39:09.450Z"
   },
   {
    "duration": 15,
    "start_time": "2023-07-08T09:39:09.505Z"
   },
   {
    "duration": 73,
    "start_time": "2023-07-08T09:39:09.522Z"
   },
   {
    "duration": 5,
    "start_time": "2023-07-08T09:39:09.601Z"
   },
   {
    "duration": 9,
    "start_time": "2023-07-08T09:39:09.608Z"
   },
   {
    "duration": 13,
    "start_time": "2023-07-08T09:39:09.619Z"
   },
   {
    "duration": 45,
    "start_time": "2023-07-08T09:39:09.635Z"
   },
   {
    "duration": 10,
    "start_time": "2023-07-08T09:39:09.699Z"
   },
   {
    "duration": 54,
    "start_time": "2023-07-08T09:39:09.711Z"
   },
   {
    "duration": 6,
    "start_time": "2023-07-08T09:39:09.768Z"
   },
   {
    "duration": 12,
    "start_time": "2023-07-08T09:39:09.779Z"
   },
   {
    "duration": 22,
    "start_time": "2023-07-08T09:39:09.793Z"
   },
   {
    "duration": 7,
    "start_time": "2023-07-08T09:39:09.817Z"
   },
   {
    "duration": 23,
    "start_time": "2023-07-08T09:39:09.826Z"
   },
   {
    "duration": 34,
    "start_time": "2023-07-08T09:39:09.851Z"
   },
   {
    "duration": 13,
    "start_time": "2023-07-08T09:39:09.887Z"
   },
   {
    "duration": 108,
    "start_time": "2023-07-08T09:39:09.902Z"
   },
   {
    "duration": 6,
    "start_time": "2023-07-08T09:39:10.012Z"
   },
   {
    "duration": 1622,
    "start_time": "2023-07-08T09:40:37.710Z"
   },
   {
    "duration": 3,
    "start_time": "2023-07-08T09:40:39.334Z"
   },
   {
    "duration": 67,
    "start_time": "2023-07-08T09:40:39.339Z"
   },
   {
    "duration": 18,
    "start_time": "2023-07-08T09:40:39.408Z"
   },
   {
    "duration": 8,
    "start_time": "2023-07-08T09:40:39.428Z"
   },
   {
    "duration": 16,
    "start_time": "2023-07-08T09:40:39.437Z"
   },
   {
    "duration": 61,
    "start_time": "2023-07-08T09:40:39.455Z"
   },
   {
    "duration": 5,
    "start_time": "2023-07-08T09:40:39.518Z"
   },
   {
    "duration": 7,
    "start_time": "2023-07-08T09:40:39.525Z"
   },
   {
    "duration": 3,
    "start_time": "2023-07-08T09:40:39.536Z"
   },
   {
    "duration": 24,
    "start_time": "2023-07-08T09:40:39.541Z"
   },
   {
    "duration": 22,
    "start_time": "2023-07-08T09:40:39.567Z"
   },
   {
    "duration": 27,
    "start_time": "2023-07-08T09:40:39.595Z"
   },
   {
    "duration": 5,
    "start_time": "2023-07-08T09:40:39.624Z"
   },
   {
    "duration": 19,
    "start_time": "2023-07-08T09:40:39.631Z"
   },
   {
    "duration": 168,
    "start_time": "2023-07-08T09:40:39.666Z"
   },
   {
    "duration": 6,
    "start_time": "2023-07-08T09:40:39.836Z"
   },
   {
    "duration": 12,
    "start_time": "2023-07-08T09:40:39.844Z"
   },
   {
    "duration": 13,
    "start_time": "2023-07-08T09:40:39.864Z"
   },
   {
    "duration": 17,
    "start_time": "2023-07-08T09:40:39.879Z"
   },
   {
    "duration": 6,
    "start_time": "2023-07-08T09:40:39.905Z"
   },
   {
    "duration": 141,
    "start_time": "2023-07-08T09:40:39.912Z"
   },
   {
    "duration": 0,
    "start_time": "2023-07-08T09:40:40.055Z"
   },
   {
    "duration": 0,
    "start_time": "2023-07-08T09:40:40.056Z"
   },
   {
    "duration": 153,
    "start_time": "2023-07-08T09:40:56.588Z"
   },
   {
    "duration": 20,
    "start_time": "2023-07-08T09:41:05.415Z"
   },
   {
    "duration": 5,
    "start_time": "2023-07-08T09:41:09.002Z"
   },
   {
    "duration": 1858,
    "start_time": "2023-07-08T09:45:37.357Z"
   },
   {
    "duration": 16,
    "start_time": "2023-07-08T09:45:39.217Z"
   },
   {
    "duration": 84,
    "start_time": "2023-07-08T09:45:39.235Z"
   },
   {
    "duration": 25,
    "start_time": "2023-07-08T09:45:39.322Z"
   },
   {
    "duration": 6,
    "start_time": "2023-07-08T09:45:39.350Z"
   },
   {
    "duration": 27,
    "start_time": "2023-07-08T09:45:39.366Z"
   },
   {
    "duration": 53,
    "start_time": "2023-07-08T09:45:39.396Z"
   },
   {
    "duration": 5,
    "start_time": "2023-07-08T09:45:39.451Z"
   },
   {
    "duration": 25,
    "start_time": "2023-07-08T09:45:39.457Z"
   },
   {
    "duration": 10,
    "start_time": "2023-07-08T09:45:39.485Z"
   },
   {
    "duration": 22,
    "start_time": "2023-07-08T09:45:39.497Z"
   },
   {
    "duration": 14,
    "start_time": "2023-07-08T09:45:39.521Z"
   },
   {
    "duration": 35,
    "start_time": "2023-07-08T09:45:39.538Z"
   },
   {
    "duration": 7,
    "start_time": "2023-07-08T09:45:39.579Z"
   },
   {
    "duration": 29,
    "start_time": "2023-07-08T09:45:39.588Z"
   },
   {
    "duration": 199,
    "start_time": "2023-07-08T09:45:39.624Z"
   },
   {
    "duration": 5,
    "start_time": "2023-07-08T09:45:39.825Z"
   },
   {
    "duration": 17,
    "start_time": "2023-07-08T09:45:39.832Z"
   },
   {
    "duration": 23,
    "start_time": "2023-07-08T09:45:39.851Z"
   },
   {
    "duration": 31,
    "start_time": "2023-07-08T09:45:39.876Z"
   },
   {
    "duration": 29,
    "start_time": "2023-07-08T09:45:39.912Z"
   },
   {
    "duration": 200,
    "start_time": "2023-07-08T09:45:39.943Z"
   },
   {
    "duration": 58,
    "start_time": "2023-07-08T09:45:40.145Z"
   },
   {
    "duration": 25,
    "start_time": "2023-07-08T09:45:40.208Z"
   },
   {
    "duration": 2532,
    "start_time": "2023-07-08T09:49:31.937Z"
   },
   {
    "duration": 11,
    "start_time": "2023-07-08T09:54:43.992Z"
   },
   {
    "duration": 133,
    "start_time": "2023-07-08T09:55:03.599Z"
   },
   {
    "duration": 8,
    "start_time": "2023-07-08T09:55:11.571Z"
   },
   {
    "duration": 8,
    "start_time": "2023-07-08T09:55:27.737Z"
   },
   {
    "duration": 201,
    "start_time": "2023-07-08T10:04:39.739Z"
   },
   {
    "duration": 1143,
    "start_time": "2023-07-08T10:05:19.386Z"
   },
   {
    "duration": 291,
    "start_time": "2023-07-08T10:06:01.432Z"
   },
   {
    "duration": 155,
    "start_time": "2023-07-08T10:12:51.489Z"
   },
   {
    "duration": 32,
    "start_time": "2023-07-08T10:13:54.337Z"
   },
   {
    "duration": 45,
    "start_time": "2023-07-08T10:18:15.485Z"
   },
   {
    "duration": 21,
    "start_time": "2023-07-08T10:18:38.127Z"
   },
   {
    "duration": 5,
    "start_time": "2023-07-08T10:19:23.054Z"
   },
   {
    "duration": 22,
    "start_time": "2023-07-08T10:19:55.483Z"
   },
   {
    "duration": 26,
    "start_time": "2023-07-08T10:20:34.942Z"
   },
   {
    "duration": 6,
    "start_time": "2023-07-08T10:54:19.114Z"
   },
   {
    "duration": 8,
    "start_time": "2023-07-08T10:58:58.822Z"
   },
   {
    "duration": 20,
    "start_time": "2023-07-08T10:59:43.599Z"
   },
   {
    "duration": 8,
    "start_time": "2023-07-08T10:59:45.113Z"
   },
   {
    "duration": 18,
    "start_time": "2023-07-08T11:01:12.025Z"
   },
   {
    "duration": 4,
    "start_time": "2023-07-08T11:01:12.898Z"
   },
   {
    "duration": 1797,
    "start_time": "2023-07-08T13:27:53.359Z"
   },
   {
    "duration": 7,
    "start_time": "2023-07-08T13:27:55.158Z"
   },
   {
    "duration": 57,
    "start_time": "2023-07-08T13:27:55.170Z"
   },
   {
    "duration": 20,
    "start_time": "2023-07-08T13:27:55.229Z"
   },
   {
    "duration": 5,
    "start_time": "2023-07-08T13:27:55.251Z"
   },
   {
    "duration": 50,
    "start_time": "2023-07-08T13:27:55.258Z"
   },
   {
    "duration": 54,
    "start_time": "2023-07-08T13:27:55.310Z"
   },
   {
    "duration": 18,
    "start_time": "2023-07-08T13:27:55.373Z"
   },
   {
    "duration": 13,
    "start_time": "2023-07-08T13:27:55.392Z"
   },
   {
    "duration": 13,
    "start_time": "2023-07-08T13:27:55.407Z"
   },
   {
    "duration": 9,
    "start_time": "2023-07-08T13:27:55.422Z"
   },
   {
    "duration": 18,
    "start_time": "2023-07-08T13:27:55.433Z"
   },
   {
    "duration": 48,
    "start_time": "2023-07-08T13:27:55.453Z"
   },
   {
    "duration": 7,
    "start_time": "2023-07-08T13:27:55.505Z"
   },
   {
    "duration": 15,
    "start_time": "2023-07-08T13:27:55.515Z"
   },
   {
    "duration": 163,
    "start_time": "2023-07-08T13:27:55.532Z"
   },
   {
    "duration": 6,
    "start_time": "2023-07-08T13:27:55.698Z"
   },
   {
    "duration": 20,
    "start_time": "2023-07-08T13:27:55.706Z"
   },
   {
    "duration": 12,
    "start_time": "2023-07-08T13:27:55.728Z"
   },
   {
    "duration": 22,
    "start_time": "2023-07-08T13:27:55.741Z"
   },
   {
    "duration": 16,
    "start_time": "2023-07-08T13:27:55.770Z"
   },
   {
    "duration": 157,
    "start_time": "2023-07-08T13:27:55.788Z"
   },
   {
    "duration": 19,
    "start_time": "2023-07-08T13:27:55.948Z"
   },
   {
    "duration": 8,
    "start_time": "2023-07-08T13:27:55.971Z"
   },
   {
    "duration": 2401,
    "start_time": "2023-07-08T13:27:55.981Z"
   },
   {
    "duration": 7,
    "start_time": "2023-07-08T13:27:58.384Z"
   },
   {
    "duration": 7,
    "start_time": "2023-07-08T13:27:58.393Z"
   },
   {
    "duration": 14,
    "start_time": "2023-07-08T13:27:58.401Z"
   },
   {
    "duration": 160,
    "start_time": "2023-07-08T13:27:58.417Z"
   },
   {
    "duration": 1077,
    "start_time": "2023-07-08T13:27:58.579Z"
   },
   {
    "duration": 194,
    "start_time": "2023-07-08T13:27:59.661Z"
   },
   {
    "duration": 151,
    "start_time": "2023-07-08T13:27:59.856Z"
   },
   {
    "duration": 22,
    "start_time": "2023-07-08T13:28:00.009Z"
   },
   {
    "duration": 46,
    "start_time": "2023-07-08T13:28:00.033Z"
   },
   {
    "duration": 31,
    "start_time": "2023-07-08T13:28:00.081Z"
   },
   {
    "duration": 43,
    "start_time": "2023-07-08T13:28:00.114Z"
   },
   {
    "duration": 44,
    "start_time": "2023-07-08T13:28:00.159Z"
   },
   {
    "duration": 23,
    "start_time": "2023-07-08T13:28:00.205Z"
   },
   {
    "duration": 32,
    "start_time": "2023-07-08T13:28:00.231Z"
   },
   {
    "duration": 273,
    "start_time": "2023-07-08T13:28:00.265Z"
   },
   {
    "duration": 22,
    "start_time": "2023-07-08T13:28:00.543Z"
   },
   {
    "duration": 26,
    "start_time": "2023-07-08T13:28:00.567Z"
   },
   {
    "duration": 43,
    "start_time": "2023-07-08T13:28:00.596Z"
   },
   {
    "duration": 60,
    "start_time": "2023-07-08T13:28:00.641Z"
   },
   {
    "duration": 41,
    "start_time": "2023-07-08T13:28:00.703Z"
   },
   {
    "duration": 77,
    "start_time": "2023-07-08T13:28:00.747Z"
   },
   {
    "duration": 25,
    "start_time": "2023-07-08T13:28:00.826Z"
   },
   {
    "duration": 507,
    "start_time": "2023-07-08T13:28:00.854Z"
   },
   {
    "duration": 8,
    "start_time": "2023-07-08T13:31:04.846Z"
   },
   {
    "duration": 98,
    "start_time": "2023-07-08T13:31:05.913Z"
   },
   {
    "duration": 4,
    "start_time": "2023-07-08T13:32:10.430Z"
   },
   {
    "duration": 73,
    "start_time": "2023-07-08T13:32:12.897Z"
   },
   {
    "duration": 1614,
    "start_time": "2023-07-08T13:32:44.788Z"
   },
   {
    "duration": 3,
    "start_time": "2023-07-08T13:32:46.405Z"
   },
   {
    "duration": 46,
    "start_time": "2023-07-08T13:32:46.410Z"
   },
   {
    "duration": 26,
    "start_time": "2023-07-08T13:32:46.458Z"
   },
   {
    "duration": 5,
    "start_time": "2023-07-08T13:32:46.486Z"
   },
   {
    "duration": 18,
    "start_time": "2023-07-08T13:32:46.493Z"
   },
   {
    "duration": 81,
    "start_time": "2023-07-08T13:32:46.514Z"
   },
   {
    "duration": 6,
    "start_time": "2023-07-08T13:32:46.597Z"
   },
   {
    "duration": 30,
    "start_time": "2023-07-08T13:32:46.605Z"
   },
   {
    "duration": 22,
    "start_time": "2023-07-08T13:32:46.637Z"
   },
   {
    "duration": 90,
    "start_time": "2023-07-08T13:32:46.667Z"
   },
   {
    "duration": 49,
    "start_time": "2023-07-08T13:32:46.761Z"
   },
   {
    "duration": 116,
    "start_time": "2023-07-08T13:32:46.813Z"
   },
   {
    "duration": 7,
    "start_time": "2023-07-08T13:32:46.934Z"
   },
   {
    "duration": 11,
    "start_time": "2023-07-08T13:32:46.943Z"
   },
   {
    "duration": 157,
    "start_time": "2023-07-08T13:32:46.956Z"
   },
   {
    "duration": 7,
    "start_time": "2023-07-08T13:32:47.115Z"
   },
   {
    "duration": 6,
    "start_time": "2023-07-08T13:32:47.124Z"
   },
   {
    "duration": 32,
    "start_time": "2023-07-08T13:32:47.131Z"
   },
   {
    "duration": 20,
    "start_time": "2023-07-08T13:32:47.171Z"
   },
   {
    "duration": 5,
    "start_time": "2023-07-08T13:32:47.192Z"
   },
   {
    "duration": 150,
    "start_time": "2023-07-08T13:32:47.199Z"
   },
   {
    "duration": 29,
    "start_time": "2023-07-08T13:32:47.351Z"
   },
   {
    "duration": 6,
    "start_time": "2023-07-08T13:32:47.382Z"
   },
   {
    "duration": 2247,
    "start_time": "2023-07-08T13:32:47.390Z"
   },
   {
    "duration": 7,
    "start_time": "2023-07-08T13:32:49.640Z"
   },
   {
    "duration": 12,
    "start_time": "2023-07-08T13:32:49.649Z"
   },
   {
    "duration": 21,
    "start_time": "2023-07-08T13:32:49.663Z"
   },
   {
    "duration": 210,
    "start_time": "2023-07-08T13:32:49.686Z"
   },
   {
    "duration": 1035,
    "start_time": "2023-07-08T13:32:49.898Z"
   },
   {
    "duration": 209,
    "start_time": "2023-07-08T13:32:50.936Z"
   },
   {
    "duration": 141,
    "start_time": "2023-07-08T13:32:51.147Z"
   },
   {
    "duration": 31,
    "start_time": "2023-07-08T13:32:51.290Z"
   },
   {
    "duration": 19,
    "start_time": "2023-07-08T13:32:51.323Z"
   },
   {
    "duration": 18,
    "start_time": "2023-07-08T13:32:51.361Z"
   },
   {
    "duration": 27,
    "start_time": "2023-07-08T13:32:51.381Z"
   },
   {
    "duration": 16,
    "start_time": "2023-07-08T13:32:51.410Z"
   },
   {
    "duration": 11,
    "start_time": "2023-07-08T13:32:51.428Z"
   },
   {
    "duration": 10,
    "start_time": "2023-07-08T13:32:51.440Z"
   },
   {
    "duration": 165,
    "start_time": "2023-07-08T13:32:51.452Z"
   },
   {
    "duration": 13,
    "start_time": "2023-07-08T13:32:51.622Z"
   },
   {
    "duration": 26,
    "start_time": "2023-07-08T13:32:51.637Z"
   },
   {
    "duration": 33,
    "start_time": "2023-07-08T13:32:51.665Z"
   },
   {
    "duration": 45,
    "start_time": "2023-07-08T13:32:51.701Z"
   },
   {
    "duration": 32,
    "start_time": "2023-07-08T13:32:51.748Z"
   },
   {
    "duration": 20,
    "start_time": "2023-07-08T13:32:51.782Z"
   },
   {
    "duration": 15,
    "start_time": "2023-07-08T13:32:51.804Z"
   },
   {
    "duration": 344,
    "start_time": "2023-07-08T13:32:51.821Z"
   },
   {
    "duration": 7,
    "start_time": "2023-07-08T13:32:52.167Z"
   },
   {
    "duration": 203,
    "start_time": "2023-07-08T13:32:52.176Z"
   },
   {
    "duration": 4,
    "start_time": "2023-07-08T13:32:52.381Z"
   },
   {
    "duration": 89,
    "start_time": "2023-07-08T13:32:52.387Z"
   },
   {
    "duration": 7,
    "start_time": "2023-07-08T13:33:02.617Z"
   },
   {
    "duration": 1675,
    "start_time": "2023-07-08T13:33:33.340Z"
   },
   {
    "duration": 3,
    "start_time": "2023-07-08T13:33:35.017Z"
   },
   {
    "duration": 54,
    "start_time": "2023-07-08T13:33:35.022Z"
   },
   {
    "duration": 22,
    "start_time": "2023-07-08T13:33:35.078Z"
   },
   {
    "duration": 5,
    "start_time": "2023-07-08T13:33:35.103Z"
   },
   {
    "duration": 22,
    "start_time": "2023-07-08T13:33:35.110Z"
   },
   {
    "duration": 68,
    "start_time": "2023-07-08T13:33:35.134Z"
   },
   {
    "duration": 5,
    "start_time": "2023-07-08T13:33:35.204Z"
   },
   {
    "duration": 17,
    "start_time": "2023-07-08T13:33:35.211Z"
   },
   {
    "duration": 10,
    "start_time": "2023-07-08T13:33:35.230Z"
   },
   {
    "duration": 9,
    "start_time": "2023-07-08T13:33:35.242Z"
   },
   {
    "duration": 24,
    "start_time": "2023-07-08T13:33:35.259Z"
   },
   {
    "duration": 67,
    "start_time": "2023-07-08T13:33:35.284Z"
   },
   {
    "duration": 9,
    "start_time": "2023-07-08T13:33:35.356Z"
   },
   {
    "duration": 19,
    "start_time": "2023-07-08T13:33:35.368Z"
   },
   {
    "duration": 170,
    "start_time": "2023-07-08T13:33:35.389Z"
   },
   {
    "duration": 17,
    "start_time": "2023-07-08T13:33:35.562Z"
   },
   {
    "duration": 11,
    "start_time": "2023-07-08T13:33:35.581Z"
   },
   {
    "duration": 18,
    "start_time": "2023-07-08T13:33:35.594Z"
   },
   {
    "duration": 30,
    "start_time": "2023-07-08T13:33:35.614Z"
   },
   {
    "duration": 7,
    "start_time": "2023-07-08T13:33:35.646Z"
   },
   {
    "duration": 197,
    "start_time": "2023-07-08T13:33:35.655Z"
   },
   {
    "duration": 18,
    "start_time": "2023-07-08T13:33:35.854Z"
   },
   {
    "duration": 14,
    "start_time": "2023-07-08T13:33:35.879Z"
   },
   {
    "duration": 2258,
    "start_time": "2023-07-08T13:33:35.895Z"
   },
   {
    "duration": 15,
    "start_time": "2023-07-08T13:33:38.156Z"
   },
   {
    "duration": 15,
    "start_time": "2023-07-08T13:33:38.177Z"
   },
   {
    "duration": 24,
    "start_time": "2023-07-08T13:33:38.193Z"
   },
   {
    "duration": 162,
    "start_time": "2023-07-08T13:33:38.219Z"
   },
   {
    "duration": 1027,
    "start_time": "2023-07-08T13:33:38.383Z"
   },
   {
    "duration": 235,
    "start_time": "2023-07-08T13:33:39.413Z"
   },
   {
    "duration": 169,
    "start_time": "2023-07-08T13:33:39.650Z"
   },
   {
    "duration": 21,
    "start_time": "2023-07-08T13:33:39.821Z"
   },
   {
    "duration": 45,
    "start_time": "2023-07-08T13:33:39.844Z"
   },
   {
    "duration": 5,
    "start_time": "2023-07-08T13:33:39.892Z"
   },
   {
    "duration": 36,
    "start_time": "2023-07-08T13:33:39.898Z"
   },
   {
    "duration": 6,
    "start_time": "2023-07-08T13:33:39.936Z"
   },
   {
    "duration": 20,
    "start_time": "2023-07-08T13:33:39.943Z"
   },
   {
    "duration": 16,
    "start_time": "2023-07-08T13:33:39.968Z"
   },
   {
    "duration": 169,
    "start_time": "2023-07-08T13:33:39.990Z"
   },
   {
    "duration": 28,
    "start_time": "2023-07-08T13:33:40.164Z"
   },
   {
    "duration": 11,
    "start_time": "2023-07-08T13:33:40.195Z"
   },
   {
    "duration": 43,
    "start_time": "2023-07-08T13:33:40.208Z"
   },
   {
    "duration": 36,
    "start_time": "2023-07-08T13:33:40.253Z"
   },
   {
    "duration": 28,
    "start_time": "2023-07-08T13:33:40.291Z"
   },
   {
    "duration": 49,
    "start_time": "2023-07-08T13:33:40.320Z"
   },
   {
    "duration": 7,
    "start_time": "2023-07-08T13:33:40.377Z"
   },
   {
    "duration": 305,
    "start_time": "2023-07-08T13:33:40.385Z"
   },
   {
    "duration": 78,
    "start_time": "2023-07-08T13:33:40.692Z"
   },
   {
    "duration": 173,
    "start_time": "2023-07-08T13:33:40.773Z"
   },
   {
    "duration": 7,
    "start_time": "2023-07-08T13:33:40.964Z"
   },
   {
    "duration": 7,
    "start_time": "2023-07-08T13:33:40.976Z"
   },
   {
    "duration": 974,
    "start_time": "2023-07-08T13:33:58.697Z"
   },
   {
    "duration": 1659,
    "start_time": "2023-07-08T13:38:25.066Z"
   },
   {
    "duration": 3,
    "start_time": "2023-07-08T13:38:26.727Z"
   },
   {
    "duration": 63,
    "start_time": "2023-07-08T13:38:26.732Z"
   },
   {
    "duration": 20,
    "start_time": "2023-07-08T13:38:26.798Z"
   },
   {
    "duration": 15,
    "start_time": "2023-07-08T13:38:26.820Z"
   },
   {
    "duration": 35,
    "start_time": "2023-07-08T13:38:26.837Z"
   },
   {
    "duration": 55,
    "start_time": "2023-07-08T13:38:26.884Z"
   },
   {
    "duration": 4,
    "start_time": "2023-07-08T13:38:26.941Z"
   },
   {
    "duration": 11,
    "start_time": "2023-07-08T13:38:26.947Z"
   },
   {
    "duration": 19,
    "start_time": "2023-07-08T13:38:26.963Z"
   },
   {
    "duration": 7,
    "start_time": "2023-07-08T13:38:26.985Z"
   },
   {
    "duration": 23,
    "start_time": "2023-07-08T13:38:26.993Z"
   },
   {
    "duration": 34,
    "start_time": "2023-07-08T13:38:27.019Z"
   },
   {
    "duration": 5,
    "start_time": "2023-07-08T13:38:27.055Z"
   },
   {
    "duration": 21,
    "start_time": "2023-07-08T13:38:27.062Z"
   },
   {
    "duration": 189,
    "start_time": "2023-07-08T13:38:27.086Z"
   },
   {
    "duration": 6,
    "start_time": "2023-07-08T13:38:27.280Z"
   },
   {
    "duration": 12,
    "start_time": "2023-07-08T13:38:27.288Z"
   },
   {
    "duration": 11,
    "start_time": "2023-07-08T13:38:27.302Z"
   },
   {
    "duration": 34,
    "start_time": "2023-07-08T13:38:27.315Z"
   },
   {
    "duration": 17,
    "start_time": "2023-07-08T13:38:27.351Z"
   },
   {
    "duration": 154,
    "start_time": "2023-07-08T13:38:27.371Z"
   },
   {
    "duration": 12,
    "start_time": "2023-07-08T13:38:27.527Z"
   },
   {
    "duration": 8,
    "start_time": "2023-07-08T13:38:27.541Z"
   },
   {
    "duration": 2315,
    "start_time": "2023-07-08T13:38:27.550Z"
   },
   {
    "duration": 7,
    "start_time": "2023-07-08T13:38:29.871Z"
   },
   {
    "duration": 14,
    "start_time": "2023-07-08T13:38:29.881Z"
   },
   {
    "duration": 7,
    "start_time": "2023-07-08T13:38:29.899Z"
   },
   {
    "duration": 184,
    "start_time": "2023-07-08T13:38:29.908Z"
   },
   {
    "duration": 1008,
    "start_time": "2023-07-08T13:38:30.094Z"
   },
   {
    "duration": 222,
    "start_time": "2023-07-08T13:38:31.105Z"
   },
   {
    "duration": 205,
    "start_time": "2023-07-08T13:38:31.329Z"
   },
   {
    "duration": 47,
    "start_time": "2023-07-08T13:38:31.537Z"
   },
   {
    "duration": 115,
    "start_time": "2023-07-08T13:38:31.587Z"
   },
   {
    "duration": 34,
    "start_time": "2023-07-08T13:38:31.705Z"
   },
   {
    "duration": 63,
    "start_time": "2023-07-08T13:38:31.741Z"
   },
   {
    "duration": 6,
    "start_time": "2023-07-08T13:38:31.806Z"
   },
   {
    "duration": 39,
    "start_time": "2023-07-08T13:38:31.814Z"
   },
   {
    "duration": 33,
    "start_time": "2023-07-08T13:38:31.855Z"
   },
   {
    "duration": 18,
    "start_time": "2023-07-08T13:38:31.891Z"
   },
   {
    "duration": 209,
    "start_time": "2023-07-08T13:38:31.911Z"
   },
   {
    "duration": 20,
    "start_time": "2023-07-08T13:38:32.124Z"
   },
   {
    "duration": 37,
    "start_time": "2023-07-08T13:38:32.147Z"
   },
   {
    "duration": 35,
    "start_time": "2023-07-08T13:38:32.187Z"
   },
   {
    "duration": 25,
    "start_time": "2023-07-08T13:38:32.225Z"
   },
   {
    "duration": 31,
    "start_time": "2023-07-08T13:38:32.252Z"
   },
   {
    "duration": 5,
    "start_time": "2023-07-08T13:38:32.285Z"
   },
   {
    "duration": 330,
    "start_time": "2023-07-08T13:38:32.292Z"
   },
   {
    "duration": 45,
    "start_time": "2023-07-08T13:38:32.624Z"
   },
   {
    "duration": 192,
    "start_time": "2023-07-08T13:38:32.671Z"
   },
   {
    "duration": 6,
    "start_time": "2023-07-08T13:38:32.870Z"
   },
   {
    "duration": 7,
    "start_time": "2023-07-08T13:38:32.881Z"
   },
   {
    "duration": 976,
    "start_time": "2023-07-08T13:38:32.890Z"
   },
   {
    "duration": 995,
    "start_time": "2023-07-08T13:38:33.868Z"
   },
   {
    "duration": 13,
    "start_time": "2023-07-08T13:38:34.864Z"
   },
   {
    "duration": 64,
    "start_time": "2023-07-08T13:38:34.879Z"
   },
   {
    "duration": 53,
    "start_time": "2023-07-08T13:38:34.945Z"
   },
   {
    "duration": 12,
    "start_time": "2023-07-08T13:38:35.001Z"
   },
   {
    "duration": 13,
    "start_time": "2023-07-08T13:38:35.016Z"
   },
   {
    "duration": 62,
    "start_time": "2023-07-08T13:38:35.032Z"
   },
   {
    "duration": 86,
    "start_time": "2023-07-08T13:38:35.097Z"
   },
   {
    "duration": 102,
    "start_time": "2023-07-08T13:38:35.186Z"
   },
   {
    "duration": 15,
    "start_time": "2023-07-08T13:38:35.290Z"
   },
   {
    "duration": 235,
    "start_time": "2023-07-08T13:38:35.371Z"
   },
   {
    "duration": 321,
    "start_time": "2023-07-08T13:38:35.607Z"
   },
   {
    "duration": 1679,
    "start_time": "2023-07-08T13:42:01.406Z"
   },
   {
    "duration": 3,
    "start_time": "2023-07-08T13:42:03.087Z"
   },
   {
    "duration": 56,
    "start_time": "2023-07-08T13:42:03.093Z"
   },
   {
    "duration": 30,
    "start_time": "2023-07-08T13:42:03.152Z"
   },
   {
    "duration": 4,
    "start_time": "2023-07-08T13:42:03.186Z"
   },
   {
    "duration": 17,
    "start_time": "2023-07-08T13:42:03.192Z"
   },
   {
    "duration": 71,
    "start_time": "2023-07-08T13:42:03.210Z"
   },
   {
    "duration": 5,
    "start_time": "2023-07-08T13:42:03.283Z"
   },
   {
    "duration": 11,
    "start_time": "2023-07-08T13:42:03.290Z"
   },
   {
    "duration": 4,
    "start_time": "2023-07-08T13:42:03.304Z"
   },
   {
    "duration": 8,
    "start_time": "2023-07-08T13:42:03.310Z"
   },
   {
    "duration": 41,
    "start_time": "2023-07-08T13:42:03.320Z"
   },
   {
    "duration": 30,
    "start_time": "2023-07-08T13:42:03.368Z"
   },
   {
    "duration": 7,
    "start_time": "2023-07-08T13:42:03.403Z"
   },
   {
    "duration": 14,
    "start_time": "2023-07-08T13:42:03.411Z"
   },
   {
    "duration": 166,
    "start_time": "2023-07-08T13:42:03.427Z"
   },
   {
    "duration": 6,
    "start_time": "2023-07-08T13:42:03.595Z"
   },
   {
    "duration": 22,
    "start_time": "2023-07-08T13:42:03.603Z"
   },
   {
    "duration": 36,
    "start_time": "2023-07-08T13:42:03.627Z"
   },
   {
    "duration": 22,
    "start_time": "2023-07-08T13:42:03.671Z"
   },
   {
    "duration": 7,
    "start_time": "2023-07-08T13:42:03.695Z"
   },
   {
    "duration": 142,
    "start_time": "2023-07-08T13:42:03.705Z"
   },
   {
    "duration": 27,
    "start_time": "2023-07-08T13:42:03.849Z"
   },
   {
    "duration": 7,
    "start_time": "2023-07-08T13:42:03.878Z"
   },
   {
    "duration": 2493,
    "start_time": "2023-07-08T13:42:03.887Z"
   },
   {
    "duration": 7,
    "start_time": "2023-07-08T13:42:06.385Z"
   },
   {
    "duration": 12,
    "start_time": "2023-07-08T13:42:06.394Z"
   },
   {
    "duration": 7,
    "start_time": "2023-07-08T13:42:06.407Z"
   },
   {
    "duration": 193,
    "start_time": "2023-07-08T13:42:06.416Z"
   },
   {
    "duration": 1059,
    "start_time": "2023-07-08T13:42:06.611Z"
   },
   {
    "duration": 199,
    "start_time": "2023-07-08T13:42:07.672Z"
   },
   {
    "duration": 146,
    "start_time": "2023-07-08T13:42:07.873Z"
   },
   {
    "duration": 26,
    "start_time": "2023-07-08T13:42:08.022Z"
   },
   {
    "duration": 22,
    "start_time": "2023-07-08T13:42:08.061Z"
   },
   {
    "duration": 5,
    "start_time": "2023-07-08T13:42:08.086Z"
   },
   {
    "duration": 25,
    "start_time": "2023-07-08T13:42:08.092Z"
   },
   {
    "duration": 4,
    "start_time": "2023-07-08T13:42:08.119Z"
   },
   {
    "duration": 37,
    "start_time": "2023-07-08T13:42:08.124Z"
   },
   {
    "duration": 14,
    "start_time": "2023-07-08T13:42:08.163Z"
   },
   {
    "duration": 182,
    "start_time": "2023-07-08T13:42:08.180Z"
   },
   {
    "duration": 18,
    "start_time": "2023-07-08T13:42:08.369Z"
   },
   {
    "duration": 3,
    "start_time": "2023-07-08T13:42:08.389Z"
   },
   {
    "duration": 12,
    "start_time": "2023-07-08T13:42:08.394Z"
   },
   {
    "duration": 25,
    "start_time": "2023-07-08T13:42:08.408Z"
   },
   {
    "duration": 53,
    "start_time": "2023-07-08T13:42:08.435Z"
   },
   {
    "duration": 23,
    "start_time": "2023-07-08T13:42:08.491Z"
   },
   {
    "duration": 5,
    "start_time": "2023-07-08T13:42:08.516Z"
   },
   {
    "duration": 442,
    "start_time": "2023-07-08T13:42:08.523Z"
   },
   {
    "duration": 8,
    "start_time": "2023-07-08T13:42:08.969Z"
   },
   {
    "duration": 106,
    "start_time": "2023-07-08T13:42:08.982Z"
   },
   {
    "duration": 6,
    "start_time": "2023-07-08T13:42:09.091Z"
   },
   {
    "duration": 16,
    "start_time": "2023-07-08T13:42:09.099Z"
   },
   {
    "duration": 949,
    "start_time": "2023-07-08T13:42:09.117Z"
   },
   {
    "duration": 909,
    "start_time": "2023-07-08T13:42:10.068Z"
   },
   {
    "duration": 10,
    "start_time": "2023-07-08T13:42:10.979Z"
   },
   {
    "duration": 89,
    "start_time": "2023-07-08T13:42:10.991Z"
   },
   {
    "duration": 42,
    "start_time": "2023-07-08T13:42:11.082Z"
   },
   {
    "duration": 10,
    "start_time": "2023-07-08T13:42:11.126Z"
   },
   {
    "duration": 39,
    "start_time": "2023-07-08T13:42:11.138Z"
   },
   {
    "duration": 43,
    "start_time": "2023-07-08T13:42:11.179Z"
   },
   {
    "duration": 123,
    "start_time": "2023-07-08T13:42:11.263Z"
   },
   {
    "duration": 17,
    "start_time": "2023-07-08T13:42:11.388Z"
   },
   {
    "duration": 67,
    "start_time": "2023-07-08T13:42:11.408Z"
   },
   {
    "duration": 253,
    "start_time": "2023-07-08T13:42:11.482Z"
   },
   {
    "duration": 366,
    "start_time": "2023-07-08T13:42:11.738Z"
   },
   {
    "duration": 7,
    "start_time": "2023-07-08T13:42:12.106Z"
   },
   {
    "duration": 19,
    "start_time": "2023-07-08T13:42:12.115Z"
   },
   {
    "duration": 20,
    "start_time": "2023-07-08T13:42:12.136Z"
   },
   {
    "duration": 23,
    "start_time": "2023-07-08T13:42:12.158Z"
   },
   {
    "duration": 10,
    "start_time": "2023-07-08T13:42:12.183Z"
   },
   {
    "duration": 19,
    "start_time": "2023-07-08T13:42:12.196Z"
   },
   {
    "duration": 44,
    "start_time": "2023-07-08T13:42:12.217Z"
   },
   {
    "duration": 160,
    "start_time": "2023-07-08T13:42:12.264Z"
   },
   {
    "duration": 340,
    "start_time": "2023-07-08T13:42:12.427Z"
   },
   {
    "duration": 491,
    "start_time": "2023-07-08T13:42:12.771Z"
   },
   {
    "duration": 152,
    "start_time": "2023-07-08T13:42:13.265Z"
   },
   {
    "duration": 51,
    "start_time": "2023-07-08T13:42:13.419Z"
   },
   {
    "duration": 332,
    "start_time": "2023-07-08T13:42:13.481Z"
   },
   {
    "duration": 47,
    "start_time": "2023-07-08T13:42:13.816Z"
   },
   {
    "duration": 197,
    "start_time": "2023-07-08T13:42:13.865Z"
   },
   {
    "duration": 24,
    "start_time": "2023-07-08T13:42:14.065Z"
   },
   {
    "duration": 1661,
    "start_time": "2023-07-08T13:55:43.631Z"
   },
   {
    "duration": 5,
    "start_time": "2023-07-08T13:55:45.295Z"
   },
   {
    "duration": 72,
    "start_time": "2023-07-08T13:55:45.302Z"
   },
   {
    "duration": 22,
    "start_time": "2023-07-08T13:55:45.380Z"
   },
   {
    "duration": 4,
    "start_time": "2023-07-08T13:55:45.405Z"
   },
   {
    "duration": 52,
    "start_time": "2023-07-08T13:55:45.411Z"
   },
   {
    "duration": 64,
    "start_time": "2023-07-08T13:55:45.466Z"
   },
   {
    "duration": 6,
    "start_time": "2023-07-08T13:55:45.533Z"
   },
   {
    "duration": 8,
    "start_time": "2023-07-08T13:55:45.541Z"
   },
   {
    "duration": 13,
    "start_time": "2023-07-08T13:55:45.559Z"
   },
   {
    "duration": 10,
    "start_time": "2023-07-08T13:55:45.577Z"
   },
   {
    "duration": 20,
    "start_time": "2023-07-08T13:55:45.589Z"
   },
   {
    "duration": 27,
    "start_time": "2023-07-08T13:55:45.611Z"
   },
   {
    "duration": 11,
    "start_time": "2023-07-08T13:55:45.660Z"
   },
   {
    "duration": 18,
    "start_time": "2023-07-08T13:55:45.674Z"
   },
   {
    "duration": 165,
    "start_time": "2023-07-08T13:55:45.694Z"
   },
   {
    "duration": 9,
    "start_time": "2023-07-08T13:55:45.868Z"
   },
   {
    "duration": 14,
    "start_time": "2023-07-08T13:55:45.880Z"
   },
   {
    "duration": 6,
    "start_time": "2023-07-08T13:55:45.897Z"
   },
   {
    "duration": 15,
    "start_time": "2023-07-08T13:55:45.905Z"
   },
   {
    "duration": 6,
    "start_time": "2023-07-08T13:55:45.922Z"
   },
   {
    "duration": 204,
    "start_time": "2023-07-08T13:55:45.930Z"
   },
   {
    "duration": 34,
    "start_time": "2023-07-08T13:55:46.136Z"
   },
   {
    "duration": 8,
    "start_time": "2023-07-08T13:55:46.172Z"
   },
   {
    "duration": 2471,
    "start_time": "2023-07-08T13:55:46.182Z"
   },
   {
    "duration": 14,
    "start_time": "2023-07-08T13:55:48.655Z"
   },
   {
    "duration": 17,
    "start_time": "2023-07-08T13:55:48.673Z"
   },
   {
    "duration": 7,
    "start_time": "2023-07-08T13:55:48.692Z"
   },
   {
    "duration": 181,
    "start_time": "2023-07-08T13:55:48.701Z"
   },
   {
    "duration": 1078,
    "start_time": "2023-07-08T13:55:48.884Z"
   },
   {
    "duration": 215,
    "start_time": "2023-07-08T13:55:49.964Z"
   },
   {
    "duration": 145,
    "start_time": "2023-07-08T13:55:50.181Z"
   },
   {
    "duration": 33,
    "start_time": "2023-07-08T13:55:50.328Z"
   },
   {
    "duration": 32,
    "start_time": "2023-07-08T13:55:50.364Z"
   },
   {
    "duration": 4,
    "start_time": "2023-07-08T13:55:50.398Z"
   },
   {
    "duration": 31,
    "start_time": "2023-07-08T13:55:50.403Z"
   },
   {
    "duration": 4,
    "start_time": "2023-07-08T13:55:50.436Z"
   },
   {
    "duration": 22,
    "start_time": "2023-07-08T13:55:50.442Z"
   },
   {
    "duration": 10,
    "start_time": "2023-07-08T13:55:50.465Z"
   },
   {
    "duration": 147,
    "start_time": "2023-07-08T13:55:50.477Z"
   },
   {
    "duration": 12,
    "start_time": "2023-07-08T13:55:50.630Z"
   },
   {
    "duration": 36,
    "start_time": "2023-07-08T13:55:50.643Z"
   },
   {
    "duration": 16,
    "start_time": "2023-07-08T13:55:50.681Z"
   },
   {
    "duration": 31,
    "start_time": "2023-07-08T13:55:50.698Z"
   },
   {
    "duration": 33,
    "start_time": "2023-07-08T13:55:50.731Z"
   },
   {
    "duration": 30,
    "start_time": "2023-07-08T13:55:50.767Z"
   },
   {
    "duration": 7,
    "start_time": "2023-07-08T13:55:50.799Z"
   },
   {
    "duration": 360,
    "start_time": "2023-07-08T13:55:50.809Z"
   },
   {
    "duration": 13,
    "start_time": "2023-07-08T13:55:51.172Z"
   },
   {
    "duration": 199,
    "start_time": "2023-07-08T13:55:51.187Z"
   },
   {
    "duration": 5,
    "start_time": "2023-07-08T13:55:51.388Z"
   },
   {
    "duration": 6,
    "start_time": "2023-07-08T13:55:51.395Z"
   },
   {
    "duration": 1059,
    "start_time": "2023-07-08T13:55:51.404Z"
   },
   {
    "duration": 888,
    "start_time": "2023-07-08T13:55:52.465Z"
   },
   {
    "duration": 14,
    "start_time": "2023-07-08T13:55:53.355Z"
   },
   {
    "duration": 80,
    "start_time": "2023-07-08T13:55:53.371Z"
   },
   {
    "duration": 47,
    "start_time": "2023-07-08T13:55:53.453Z"
   },
   {
    "duration": 10,
    "start_time": "2023-07-08T13:55:53.502Z"
   },
   {
    "duration": 11,
    "start_time": "2023-07-08T13:55:53.514Z"
   },
   {
    "duration": 41,
    "start_time": "2023-07-08T13:55:53.560Z"
   },
   {
    "duration": 83,
    "start_time": "2023-07-08T13:55:53.604Z"
   },
   {
    "duration": 94,
    "start_time": "2023-07-08T13:55:53.690Z"
   },
   {
    "duration": 99,
    "start_time": "2023-07-08T13:55:53.792Z"
   },
   {
    "duration": 233,
    "start_time": "2023-07-08T13:55:53.894Z"
   },
   {
    "duration": 449,
    "start_time": "2023-07-08T13:55:54.130Z"
   },
   {
    "duration": 10,
    "start_time": "2023-07-08T13:55:54.581Z"
   },
   {
    "duration": 18,
    "start_time": "2023-07-08T13:55:54.595Z"
   },
   {
    "duration": 25,
    "start_time": "2023-07-08T13:55:54.616Z"
   },
   {
    "duration": 27,
    "start_time": "2023-07-08T13:55:54.643Z"
   },
   {
    "duration": 9,
    "start_time": "2023-07-08T13:55:54.672Z"
   },
   {
    "duration": 30,
    "start_time": "2023-07-08T13:55:54.683Z"
   },
   {
    "duration": 14,
    "start_time": "2023-07-08T13:55:54.715Z"
   },
   {
    "duration": 172,
    "start_time": "2023-07-08T13:55:54.731Z"
   },
   {
    "duration": 368,
    "start_time": "2023-07-08T13:55:54.905Z"
   },
   {
    "duration": 499,
    "start_time": "2023-07-08T13:55:55.278Z"
   },
   {
    "duration": 211,
    "start_time": "2023-07-08T13:55:55.780Z"
   },
   {
    "duration": 12,
    "start_time": "2023-07-08T13:55:55.993Z"
   },
   {
    "duration": 355,
    "start_time": "2023-07-08T13:55:56.007Z"
   },
   {
    "duration": 28,
    "start_time": "2023-07-08T13:55:56.372Z"
   },
   {
    "duration": 64,
    "start_time": "2023-07-08T13:55:56.402Z"
   },
   {
    "duration": 22,
    "start_time": "2023-07-08T13:55:56.469Z"
   },
   {
    "duration": 377,
    "start_time": "2023-07-08T13:55:56.570Z"
   },
   {
    "duration": 45,
    "start_time": "2023-07-08T13:55:56.949Z"
   },
   {
    "duration": 26,
    "start_time": "2023-07-08T13:55:56.996Z"
   },
   {
    "duration": 7,
    "start_time": "2023-07-08T13:55:57.024Z"
   },
   {
    "duration": 35,
    "start_time": "2023-07-08T13:55:57.033Z"
   },
   {
    "duration": 1859,
    "start_time": "2023-07-08T15:28:29.776Z"
   },
   {
    "duration": 3,
    "start_time": "2023-07-08T15:28:31.638Z"
   },
   {
    "duration": 180,
    "start_time": "2023-07-08T15:28:31.643Z"
   },
   {
    "duration": 20,
    "start_time": "2023-07-08T15:28:31.825Z"
   },
   {
    "duration": 46,
    "start_time": "2023-07-08T15:28:31.847Z"
   },
   {
    "duration": 38,
    "start_time": "2023-07-08T15:28:31.897Z"
   },
   {
    "duration": 85,
    "start_time": "2023-07-08T15:28:31.937Z"
   },
   {
    "duration": 5,
    "start_time": "2023-07-08T15:28:32.024Z"
   },
   {
    "duration": 35,
    "start_time": "2023-07-08T15:28:32.031Z"
   },
   {
    "duration": 30,
    "start_time": "2023-07-08T15:28:32.069Z"
   },
   {
    "duration": 8,
    "start_time": "2023-07-08T15:28:32.110Z"
   },
   {
    "duration": 11,
    "start_time": "2023-07-08T15:28:32.120Z"
   },
   {
    "duration": 44,
    "start_time": "2023-07-08T15:28:32.134Z"
   },
   {
    "duration": 10,
    "start_time": "2023-07-08T15:28:32.180Z"
   },
   {
    "duration": 23,
    "start_time": "2023-07-08T15:28:32.192Z"
   },
   {
    "duration": 182,
    "start_time": "2023-07-08T15:28:32.217Z"
   },
   {
    "duration": 14,
    "start_time": "2023-07-08T15:28:32.401Z"
   },
   {
    "duration": 13,
    "start_time": "2023-07-08T15:28:32.420Z"
   },
   {
    "duration": 7,
    "start_time": "2023-07-08T15:28:32.436Z"
   },
   {
    "duration": 25,
    "start_time": "2023-07-08T15:28:32.445Z"
   },
   {
    "duration": 19,
    "start_time": "2023-07-08T15:28:32.480Z"
   },
   {
    "duration": 140,
    "start_time": "2023-07-08T15:28:32.506Z"
   },
   {
    "duration": 22,
    "start_time": "2023-07-08T15:28:32.648Z"
   },
   {
    "duration": 22,
    "start_time": "2023-07-08T15:28:32.673Z"
   },
   {
    "duration": 2634,
    "start_time": "2023-07-08T15:28:32.703Z"
   },
   {
    "duration": 6,
    "start_time": "2023-07-08T15:28:35.340Z"
   },
   {
    "duration": 20,
    "start_time": "2023-07-08T15:28:35.348Z"
   },
   {
    "duration": 9,
    "start_time": "2023-07-08T15:28:35.377Z"
   },
   {
    "duration": 190,
    "start_time": "2023-07-08T15:28:35.389Z"
   },
   {
    "duration": 1138,
    "start_time": "2023-07-08T15:28:35.590Z"
   },
   {
    "duration": 216,
    "start_time": "2023-07-08T15:28:36.730Z"
   },
   {
    "duration": 159,
    "start_time": "2023-07-08T15:28:36.949Z"
   },
   {
    "duration": 20,
    "start_time": "2023-07-08T15:28:37.116Z"
   },
   {
    "duration": 15,
    "start_time": "2023-07-08T15:28:37.138Z"
   },
   {
    "duration": 18,
    "start_time": "2023-07-08T15:28:37.154Z"
   },
   {
    "duration": 57,
    "start_time": "2023-07-08T15:28:37.174Z"
   },
   {
    "duration": 4,
    "start_time": "2023-07-08T15:28:37.233Z"
   },
   {
    "duration": 14,
    "start_time": "2023-07-08T15:28:37.239Z"
   },
   {
    "duration": 12,
    "start_time": "2023-07-08T15:28:37.255Z"
   },
   {
    "duration": 168,
    "start_time": "2023-07-08T15:28:37.269Z"
   },
   {
    "duration": 19,
    "start_time": "2023-07-08T15:28:37.440Z"
   },
   {
    "duration": 14,
    "start_time": "2023-07-08T15:28:37.461Z"
   },
   {
    "duration": 18,
    "start_time": "2023-07-08T15:28:37.483Z"
   },
   {
    "duration": 28,
    "start_time": "2023-07-08T15:28:37.503Z"
   },
   {
    "duration": 41,
    "start_time": "2023-07-08T15:28:37.534Z"
   },
   {
    "duration": 32,
    "start_time": "2023-07-08T15:28:37.577Z"
   },
   {
    "duration": 7,
    "start_time": "2023-07-08T15:28:37.611Z"
   },
   {
    "duration": 350,
    "start_time": "2023-07-08T15:28:37.620Z"
   },
   {
    "duration": 13,
    "start_time": "2023-07-08T15:28:37.972Z"
   },
   {
    "duration": 187,
    "start_time": "2023-07-08T15:28:37.988Z"
   },
   {
    "duration": 12,
    "start_time": "2023-07-08T15:28:38.176Z"
   },
   {
    "duration": 19,
    "start_time": "2023-07-08T15:28:38.192Z"
   },
   {
    "duration": 961,
    "start_time": "2023-07-08T15:28:38.213Z"
   },
   {
    "duration": 1027,
    "start_time": "2023-07-08T15:28:39.176Z"
   },
   {
    "duration": 10,
    "start_time": "2023-07-08T15:28:40.208Z"
   },
   {
    "duration": 87,
    "start_time": "2023-07-08T15:28:40.220Z"
   },
   {
    "duration": 57,
    "start_time": "2023-07-08T15:28:40.310Z"
   },
   {
    "duration": 12,
    "start_time": "2023-07-08T15:28:40.372Z"
   },
   {
    "duration": 28,
    "start_time": "2023-07-08T15:28:40.386Z"
   },
   {
    "duration": 57,
    "start_time": "2023-07-08T15:28:40.417Z"
   },
   {
    "duration": 21,
    "start_time": "2023-07-08T15:28:40.478Z"
   },
   {
    "duration": 102,
    "start_time": "2023-07-08T15:28:40.501Z"
   },
   {
    "duration": 69,
    "start_time": "2023-07-08T15:28:40.609Z"
   },
   {
    "duration": 237,
    "start_time": "2023-07-08T15:28:40.696Z"
   },
   {
    "duration": 414,
    "start_time": "2023-07-08T15:28:40.936Z"
   },
   {
    "duration": 205,
    "start_time": "2023-07-08T15:28:41.362Z"
   },
   {
    "duration": 36,
    "start_time": "2023-07-08T15:28:41.571Z"
   },
   {
    "duration": 14,
    "start_time": "2023-07-08T15:28:41.612Z"
   },
   {
    "duration": 24482,
    "start_time": "2023-07-08T15:28:41.628Z"
   },
   {
    "duration": 636,
    "start_time": "2023-07-08T15:29:06.112Z"
   },
   {
    "duration": 68,
    "start_time": "2023-07-08T15:29:06.750Z"
   },
   {
    "duration": 20,
    "start_time": "2023-07-08T15:29:06.820Z"
   },
   {
    "duration": 112,
    "start_time": "2023-07-08T15:29:06.871Z"
   },
   {
    "duration": 76,
    "start_time": "2023-07-08T15:29:06.985Z"
   },
   {
    "duration": 130,
    "start_time": "2023-07-08T15:29:07.066Z"
   },
   {
    "duration": 34,
    "start_time": "2023-07-08T15:29:07.198Z"
   },
   {
    "duration": 14613,
    "start_time": "2023-07-08T15:29:07.234Z"
   },
   {
    "duration": 83,
    "start_time": "2023-07-08T15:29:21.849Z"
   },
   {
    "duration": 138,
    "start_time": "2023-07-08T15:29:21.934Z"
   },
   {
    "duration": 101,
    "start_time": "2023-07-08T15:29:22.079Z"
   },
   {
    "duration": 217,
    "start_time": "2023-07-08T15:29:22.191Z"
   },
   {
    "duration": 60,
    "start_time": "2023-07-08T15:29:22.416Z"
   },
   {
    "duration": 29953,
    "start_time": "2023-07-08T15:29:22.479Z"
   },
   {
    "duration": 131,
    "start_time": "2023-07-08T15:29:52.435Z"
   },
   {
    "duration": 111,
    "start_time": "2023-07-08T15:29:52.568Z"
   },
   {
    "duration": 88,
    "start_time": "2023-07-08T15:29:52.682Z"
   },
   {
    "duration": 214,
    "start_time": "2023-07-08T15:29:52.772Z"
   },
   {
    "duration": 0,
    "start_time": "2023-07-08T15:29:52.992Z"
   },
   {
    "duration": 0,
    "start_time": "2023-07-08T15:29:52.994Z"
   },
   {
    "duration": 0,
    "start_time": "2023-07-08T15:29:52.995Z"
   },
   {
    "duration": 0,
    "start_time": "2023-07-08T15:29:52.996Z"
   },
   {
    "duration": 7,
    "start_time": "2023-07-08T15:31:51.288Z"
   },
   {
    "duration": 5,
    "start_time": "2023-07-08T15:32:25.027Z"
   },
   {
    "duration": 20,
    "start_time": "2023-07-08T15:32:26.157Z"
   },
   {
    "duration": 4,
    "start_time": "2023-07-08T15:32:26.653Z"
   },
   {
    "duration": 5,
    "start_time": "2023-07-08T15:32:32.246Z"
   },
   {
    "duration": 5,
    "start_time": "2023-07-08T15:33:02.748Z"
   },
   {
    "duration": 21637,
    "start_time": "2023-07-08T15:33:25.496Z"
   },
   {
    "duration": 737,
    "start_time": "2023-07-08T15:33:47.136Z"
   },
   {
    "duration": 133,
    "start_time": "2023-07-08T15:33:47.875Z"
   },
   {
    "duration": 1523,
    "start_time": "2023-07-08T15:34:26.017Z"
   },
   {
    "duration": 3,
    "start_time": "2023-07-08T15:34:27.541Z"
   },
   {
    "duration": 55,
    "start_time": "2023-07-08T15:34:27.546Z"
   },
   {
    "duration": 19,
    "start_time": "2023-07-08T15:34:27.603Z"
   },
   {
    "duration": 4,
    "start_time": "2023-07-08T15:34:27.624Z"
   },
   {
    "duration": 24,
    "start_time": "2023-07-08T15:34:27.630Z"
   },
   {
    "duration": 47,
    "start_time": "2023-07-08T15:34:27.656Z"
   },
   {
    "duration": 4,
    "start_time": "2023-07-08T15:34:27.705Z"
   },
   {
    "duration": 13,
    "start_time": "2023-07-08T15:34:27.710Z"
   },
   {
    "duration": 6,
    "start_time": "2023-07-08T15:34:27.726Z"
   },
   {
    "duration": 9,
    "start_time": "2023-07-08T15:34:27.734Z"
   },
   {
    "duration": 25,
    "start_time": "2023-07-08T15:34:27.745Z"
   },
   {
    "duration": 31,
    "start_time": "2023-07-08T15:34:27.772Z"
   },
   {
    "duration": 4,
    "start_time": "2023-07-08T15:34:27.805Z"
   },
   {
    "duration": 11,
    "start_time": "2023-07-08T15:34:27.811Z"
   },
   {
    "duration": 150,
    "start_time": "2023-07-08T15:34:27.824Z"
   },
   {
    "duration": 6,
    "start_time": "2023-07-08T15:34:27.976Z"
   },
   {
    "duration": 6,
    "start_time": "2023-07-08T15:34:27.984Z"
   },
   {
    "duration": 7,
    "start_time": "2023-07-08T15:34:27.992Z"
   },
   {
    "duration": 18,
    "start_time": "2023-07-08T15:34:28.001Z"
   },
   {
    "duration": 6,
    "start_time": "2023-07-08T15:34:28.022Z"
   },
   {
    "duration": 140,
    "start_time": "2023-07-08T15:34:28.060Z"
   },
   {
    "duration": 11,
    "start_time": "2023-07-08T15:34:28.202Z"
   },
   {
    "duration": 11,
    "start_time": "2023-07-08T15:34:28.215Z"
   },
   {
    "duration": 2225,
    "start_time": "2023-07-08T15:34:28.228Z"
   },
   {
    "duration": 12,
    "start_time": "2023-07-08T15:34:30.455Z"
   },
   {
    "duration": 13,
    "start_time": "2023-07-08T15:34:30.471Z"
   },
   {
    "duration": 26,
    "start_time": "2023-07-08T15:34:30.489Z"
   },
   {
    "duration": 172,
    "start_time": "2023-07-08T15:34:30.517Z"
   },
   {
    "duration": 996,
    "start_time": "2023-07-08T15:34:30.690Z"
   },
   {
    "duration": 202,
    "start_time": "2023-07-08T15:34:31.688Z"
   },
   {
    "duration": 139,
    "start_time": "2023-07-08T15:34:31.892Z"
   },
   {
    "duration": 32,
    "start_time": "2023-07-08T15:34:32.033Z"
   },
   {
    "duration": 19,
    "start_time": "2023-07-08T15:34:32.068Z"
   },
   {
    "duration": 12,
    "start_time": "2023-07-08T15:34:32.088Z"
   },
   {
    "duration": 31,
    "start_time": "2023-07-08T15:34:32.102Z"
   },
   {
    "duration": 37,
    "start_time": "2023-07-08T15:34:32.135Z"
   },
   {
    "duration": 10,
    "start_time": "2023-07-08T15:34:32.174Z"
   },
   {
    "duration": 23,
    "start_time": "2023-07-08T15:34:32.186Z"
   },
   {
    "duration": 190,
    "start_time": "2023-07-08T15:34:32.212Z"
   },
   {
    "duration": 18,
    "start_time": "2023-07-08T15:34:32.404Z"
   },
   {
    "duration": 7,
    "start_time": "2023-07-08T15:34:32.424Z"
   },
   {
    "duration": 39,
    "start_time": "2023-07-08T15:34:32.433Z"
   },
   {
    "duration": 30,
    "start_time": "2023-07-08T15:34:32.477Z"
   },
   {
    "duration": 20,
    "start_time": "2023-07-08T15:34:32.509Z"
   },
   {
    "duration": 46,
    "start_time": "2023-07-08T15:34:32.531Z"
   },
   {
    "duration": 5,
    "start_time": "2023-07-08T15:34:32.579Z"
   },
   {
    "duration": 277,
    "start_time": "2023-07-08T15:34:32.586Z"
   },
   {
    "duration": 12,
    "start_time": "2023-07-08T15:34:32.873Z"
   },
   {
    "duration": 144,
    "start_time": "2023-07-08T15:34:32.959Z"
   },
   {
    "duration": 3,
    "start_time": "2023-07-08T15:34:33.105Z"
   },
   {
    "duration": 9,
    "start_time": "2023-07-08T15:34:33.110Z"
   },
   {
    "duration": 840,
    "start_time": "2023-07-08T15:34:33.121Z"
   },
   {
    "duration": 928,
    "start_time": "2023-07-08T15:34:33.963Z"
   },
   {
    "duration": 12,
    "start_time": "2023-07-08T15:34:34.894Z"
   },
   {
    "duration": 82,
    "start_time": "2023-07-08T15:34:34.908Z"
   },
   {
    "duration": 44,
    "start_time": "2023-07-08T15:34:34.992Z"
   },
   {
    "duration": 36,
    "start_time": "2023-07-08T15:34:35.038Z"
   },
   {
    "duration": 11,
    "start_time": "2023-07-08T15:34:35.077Z"
   },
   {
    "duration": 74,
    "start_time": "2023-07-08T15:34:35.090Z"
   },
   {
    "duration": 14,
    "start_time": "2023-07-08T15:34:35.170Z"
   },
   {
    "duration": 16,
    "start_time": "2023-07-08T15:34:35.262Z"
   },
   {
    "duration": 5,
    "start_time": "2023-07-08T15:34:35.281Z"
   },
   {
    "duration": 250,
    "start_time": "2023-07-08T15:34:35.358Z"
   },
   {
    "duration": 276,
    "start_time": "2023-07-08T15:34:35.610Z"
   },
   {
    "duration": 194,
    "start_time": "2023-07-08T15:34:35.888Z"
   },
   {
    "duration": 27,
    "start_time": "2023-07-08T15:34:36.084Z"
   },
   {
    "duration": 15,
    "start_time": "2023-07-08T15:34:36.112Z"
   },
   {
    "duration": 20814,
    "start_time": "2023-07-08T15:34:36.129Z"
   },
   {
    "duration": 597,
    "start_time": "2023-07-08T15:34:56.945Z"
   },
   {
    "duration": 61,
    "start_time": "2023-07-08T15:34:57.543Z"
   },
   {
    "duration": 54,
    "start_time": "2023-07-08T15:34:57.606Z"
   },
   {
    "duration": 107,
    "start_time": "2023-07-08T15:34:57.668Z"
   },
   {
    "duration": 93,
    "start_time": "2023-07-08T15:34:57.777Z"
   },
   {
    "duration": 173,
    "start_time": "2023-07-08T15:34:57.875Z"
   },
   {
    "duration": 29,
    "start_time": "2023-07-08T15:34:58.063Z"
   },
   {
    "duration": 13080,
    "start_time": "2023-07-08T15:34:58.093Z"
   },
   {
    "duration": 63,
    "start_time": "2023-07-08T15:35:11.176Z"
   },
   {
    "duration": 118,
    "start_time": "2023-07-08T15:35:11.241Z"
   },
   {
    "duration": 101,
    "start_time": "2023-07-08T15:35:11.362Z"
   },
   {
    "duration": 202,
    "start_time": "2023-07-08T15:35:11.468Z"
   },
   {
    "duration": 49,
    "start_time": "2023-07-08T15:35:11.679Z"
   },
   {
    "duration": 27632,
    "start_time": "2023-07-08T15:35:11.730Z"
   },
   {
    "duration": 107,
    "start_time": "2023-07-08T15:35:39.369Z"
   },
   {
    "duration": 192,
    "start_time": "2023-07-08T15:35:39.478Z"
   },
   {
    "duration": 101,
    "start_time": "2023-07-08T15:35:39.672Z"
   },
   {
    "duration": 7,
    "start_time": "2023-07-08T15:35:39.776Z"
   },
   {
    "duration": 45,
    "start_time": "2023-07-08T15:35:39.786Z"
   },
   {
    "duration": 11,
    "start_time": "2023-07-08T15:35:39.833Z"
   },
   {
    "duration": 11,
    "start_time": "2023-07-08T15:35:39.846Z"
   },
   {
    "duration": 9,
    "start_time": "2023-07-08T15:35:39.863Z"
   },
   {
    "duration": 20747,
    "start_time": "2023-07-08T15:35:39.874Z"
   },
   {
    "duration": 746,
    "start_time": "2023-07-08T15:36:00.624Z"
   },
   {
    "duration": 134,
    "start_time": "2023-07-08T15:36:01.376Z"
   },
   {
    "duration": 2,
    "start_time": "2023-07-08T16:08:38.651Z"
   },
   {
    "duration": 3,
    "start_time": "2023-07-08T16:11:46.921Z"
   },
   {
    "duration": 167,
    "start_time": "2023-07-08T17:52:25.526Z"
   },
   {
    "duration": 1550,
    "start_time": "2023-07-08T19:05:14.702Z"
   },
   {
    "duration": 6,
    "start_time": "2023-07-08T19:05:16.253Z"
   },
   {
    "duration": 46,
    "start_time": "2023-07-08T19:05:16.260Z"
   },
   {
    "duration": 17,
    "start_time": "2023-07-08T19:05:16.308Z"
   },
   {
    "duration": 3,
    "start_time": "2023-07-08T19:05:16.329Z"
   },
   {
    "duration": 13,
    "start_time": "2023-07-08T19:05:16.334Z"
   },
   {
    "duration": 49,
    "start_time": "2023-07-08T19:05:16.349Z"
   },
   {
    "duration": 4,
    "start_time": "2023-07-08T19:05:16.400Z"
   },
   {
    "duration": 5,
    "start_time": "2023-07-08T19:05:16.406Z"
   },
   {
    "duration": 7,
    "start_time": "2023-07-08T19:05:16.413Z"
   },
   {
    "duration": 5,
    "start_time": "2023-07-08T19:05:16.421Z"
   },
   {
    "duration": 37,
    "start_time": "2023-07-08T19:05:16.428Z"
   },
   {
    "duration": 21,
    "start_time": "2023-07-08T19:05:16.467Z"
   },
   {
    "duration": 4,
    "start_time": "2023-07-08T19:05:16.491Z"
   },
   {
    "duration": 8,
    "start_time": "2023-07-08T19:05:16.498Z"
   },
   {
    "duration": 171,
    "start_time": "2023-07-08T19:05:16.508Z"
   },
   {
    "duration": 5,
    "start_time": "2023-07-08T19:05:16.680Z"
   },
   {
    "duration": 6,
    "start_time": "2023-07-08T19:05:16.687Z"
   },
   {
    "duration": 9,
    "start_time": "2023-07-08T19:05:16.695Z"
   },
   {
    "duration": 16,
    "start_time": "2023-07-08T19:05:16.706Z"
   },
   {
    "duration": 4,
    "start_time": "2023-07-08T19:05:16.724Z"
   },
   {
    "duration": 156,
    "start_time": "2023-07-08T19:05:16.730Z"
   },
   {
    "duration": 12,
    "start_time": "2023-07-08T19:05:16.887Z"
   },
   {
    "duration": 5,
    "start_time": "2023-07-08T19:05:16.901Z"
   },
   {
    "duration": 2162,
    "start_time": "2023-07-08T19:05:16.907Z"
   },
   {
    "duration": 6,
    "start_time": "2023-07-08T19:05:19.071Z"
   },
   {
    "duration": 23,
    "start_time": "2023-07-08T19:05:19.078Z"
   },
   {
    "duration": 11,
    "start_time": "2023-07-08T19:05:19.103Z"
   },
   {
    "duration": 149,
    "start_time": "2023-07-08T19:05:19.116Z"
   },
   {
    "duration": 923,
    "start_time": "2023-07-08T19:05:19.267Z"
   },
   {
    "duration": 178,
    "start_time": "2023-07-08T19:05:20.192Z"
   },
   {
    "duration": 129,
    "start_time": "2023-07-08T19:05:20.372Z"
   },
   {
    "duration": 19,
    "start_time": "2023-07-08T19:05:20.503Z"
   },
   {
    "duration": 63,
    "start_time": "2023-07-08T19:05:20.524Z"
   },
   {
    "duration": 148,
    "start_time": "2023-07-08T19:05:20.588Z"
   },
   {
    "duration": 101,
    "start_time": "2023-07-08T19:05:20.738Z"
   },
   {
    "duration": 21,
    "start_time": "2023-07-08T19:05:20.841Z"
   },
   {
    "duration": 5,
    "start_time": "2023-07-08T19:05:20.992Z"
   },
   {
    "duration": 22,
    "start_time": "2023-07-08T19:05:20.998Z"
   },
   {
    "duration": 26,
    "start_time": "2023-07-08T19:05:21.021Z"
   },
   {
    "duration": 17,
    "start_time": "2023-07-08T19:05:21.049Z"
   },
   {
    "duration": 13,
    "start_time": "2023-07-08T19:05:21.068Z"
   },
   {
    "duration": 13,
    "start_time": "2023-07-08T19:05:21.083Z"
   },
   {
    "duration": 46,
    "start_time": "2023-07-08T19:05:21.098Z"
   },
   {
    "duration": 21,
    "start_time": "2023-07-08T19:05:21.146Z"
   },
   {
    "duration": 26,
    "start_time": "2023-07-08T19:05:21.169Z"
   },
   {
    "duration": 4,
    "start_time": "2023-07-08T19:05:21.196Z"
   },
   {
    "duration": 259,
    "start_time": "2023-07-08T19:05:21.202Z"
   },
   {
    "duration": 99,
    "start_time": "2023-07-08T19:05:21.463Z"
   },
   {
    "duration": 160,
    "start_time": "2023-07-08T19:05:21.563Z"
   },
   {
    "duration": 3,
    "start_time": "2023-07-08T19:05:21.725Z"
   },
   {
    "duration": 9,
    "start_time": "2023-07-08T19:05:21.729Z"
   },
   {
    "duration": 752,
    "start_time": "2023-07-08T19:05:21.739Z"
   },
   {
    "duration": 850,
    "start_time": "2023-07-08T19:05:22.494Z"
   },
   {
    "duration": 18,
    "start_time": "2023-07-08T19:05:23.345Z"
   },
   {
    "duration": 55,
    "start_time": "2023-07-08T19:05:23.364Z"
   },
   {
    "duration": 47,
    "start_time": "2023-07-08T19:05:23.420Z"
   },
   {
    "duration": 8,
    "start_time": "2023-07-08T19:05:23.468Z"
   },
   {
    "duration": 11,
    "start_time": "2023-07-08T19:05:23.477Z"
   },
   {
    "duration": 72,
    "start_time": "2023-07-08T19:05:23.490Z"
   },
   {
    "duration": 97,
    "start_time": "2023-07-08T19:05:23.564Z"
   },
   {
    "duration": 11,
    "start_time": "2023-07-08T19:05:23.663Z"
   },
   {
    "duration": 86,
    "start_time": "2023-07-08T19:05:23.675Z"
   },
   {
    "duration": 219,
    "start_time": "2023-07-08T19:05:23.763Z"
   },
   {
    "duration": 339,
    "start_time": "2023-07-08T19:05:23.984Z"
   },
   {
    "duration": 157,
    "start_time": "2023-07-08T19:05:24.325Z"
   },
   {
    "duration": 18,
    "start_time": "2023-07-08T19:05:24.484Z"
   },
   {
    "duration": 12,
    "start_time": "2023-07-08T19:05:24.504Z"
   },
   {
    "duration": 19031,
    "start_time": "2023-07-08T19:05:24.518Z"
   },
   {
    "duration": 557,
    "start_time": "2023-07-08T19:05:43.551Z"
   },
   {
    "duration": 72,
    "start_time": "2023-07-08T19:05:44.111Z"
   },
   {
    "duration": 27,
    "start_time": "2023-07-08T19:05:44.186Z"
   },
   {
    "duration": 147,
    "start_time": "2023-07-08T19:05:44.214Z"
   },
   {
    "duration": 99,
    "start_time": "2023-07-08T19:05:44.363Z"
   },
   {
    "duration": 83,
    "start_time": "2023-07-08T19:05:44.463Z"
   },
   {
    "duration": 36,
    "start_time": "2023-07-08T19:05:44.547Z"
   },
   {
    "duration": 12106,
    "start_time": "2023-07-08T19:05:44.585Z"
   },
   {
    "duration": 51,
    "start_time": "2023-07-08T19:05:56.693Z"
   },
   {
    "duration": 122,
    "start_time": "2023-07-08T19:05:56.746Z"
   },
   {
    "duration": 108,
    "start_time": "2023-07-08T19:05:56.960Z"
   },
   {
    "duration": 206,
    "start_time": "2023-07-08T19:05:57.070Z"
   },
   {
    "duration": 34,
    "start_time": "2023-07-08T19:05:57.279Z"
   },
   {
    "duration": 25367,
    "start_time": "2023-07-08T19:05:57.315Z"
   },
   {
    "duration": 99,
    "start_time": "2023-07-08T19:06:22.683Z"
   },
   {
    "duration": 83,
    "start_time": "2023-07-08T19:06:22.783Z"
   },
   {
    "duration": 100,
    "start_time": "2023-07-08T19:06:22.868Z"
   },
   {
    "duration": 6,
    "start_time": "2023-07-08T19:06:23.059Z"
   },
   {
    "duration": 40,
    "start_time": "2023-07-08T19:06:23.067Z"
   },
   {
    "duration": 38,
    "start_time": "2023-07-08T19:06:23.109Z"
   },
   {
    "duration": 61,
    "start_time": "2023-07-08T19:06:23.148Z"
   },
   {
    "duration": 19066,
    "start_time": "2023-07-08T19:06:23.211Z"
   },
   {
    "duration": 613,
    "start_time": "2023-07-08T19:06:42.279Z"
   },
   {
    "duration": 120,
    "start_time": "2023-07-08T19:06:42.894Z"
   },
   {
    "duration": 1569,
    "start_time": "2023-07-21T03:31:52.716Z"
   },
   {
    "duration": 3,
    "start_time": "2023-07-21T03:31:54.287Z"
   },
   {
    "duration": 85,
    "start_time": "2023-07-21T03:31:54.292Z"
   },
   {
    "duration": 16,
    "start_time": "2023-07-21T03:31:54.379Z"
   },
   {
    "duration": 6,
    "start_time": "2023-07-21T03:31:54.396Z"
   },
   {
    "duration": 22,
    "start_time": "2023-07-21T03:31:54.404Z"
   },
   {
    "duration": 61,
    "start_time": "2023-07-21T03:31:54.428Z"
   },
   {
    "duration": 4,
    "start_time": "2023-07-21T03:31:54.491Z"
   },
   {
    "duration": 9,
    "start_time": "2023-07-21T03:31:54.496Z"
   },
   {
    "duration": 9,
    "start_time": "2023-07-21T03:31:54.507Z"
   },
   {
    "duration": 8,
    "start_time": "2023-07-21T03:31:54.517Z"
   },
   {
    "duration": 24,
    "start_time": "2023-07-21T03:31:54.526Z"
   },
   {
    "duration": 20,
    "start_time": "2023-07-21T03:31:54.552Z"
   },
   {
    "duration": 4,
    "start_time": "2023-07-21T03:31:54.574Z"
   },
   {
    "duration": 15,
    "start_time": "2023-07-21T03:31:54.580Z"
   },
   {
    "duration": 125,
    "start_time": "2023-07-21T03:31:54.596Z"
   },
   {
    "duration": 7,
    "start_time": "2023-07-21T03:31:54.723Z"
   },
   {
    "duration": 26,
    "start_time": "2023-07-21T03:31:54.733Z"
   },
   {
    "duration": 19,
    "start_time": "2023-07-21T03:31:54.761Z"
   },
   {
    "duration": 20,
    "start_time": "2023-07-21T03:31:54.781Z"
   },
   {
    "duration": 19,
    "start_time": "2023-07-21T03:31:54.803Z"
   },
   {
    "duration": 154,
    "start_time": "2023-07-21T03:31:54.826Z"
   },
   {
    "duration": 11,
    "start_time": "2023-07-21T03:31:54.982Z"
   },
   {
    "duration": 25,
    "start_time": "2023-07-21T03:31:54.994Z"
   },
   {
    "duration": 1744,
    "start_time": "2023-07-21T03:31:55.021Z"
   },
   {
    "duration": 5,
    "start_time": "2023-07-21T03:31:56.767Z"
   },
   {
    "duration": 12,
    "start_time": "2023-07-21T03:31:56.773Z"
   },
   {
    "duration": 6,
    "start_time": "2023-07-21T03:31:56.789Z"
   },
   {
    "duration": 126,
    "start_time": "2023-07-21T03:31:56.796Z"
   },
   {
    "duration": 786,
    "start_time": "2023-07-21T03:31:56.924Z"
   },
   {
    "duration": 152,
    "start_time": "2023-07-21T03:31:57.712Z"
   },
   {
    "duration": 106,
    "start_time": "2023-07-21T03:31:57.866Z"
   },
   {
    "duration": 17,
    "start_time": "2023-07-21T03:31:57.973Z"
   },
   {
    "duration": 12,
    "start_time": "2023-07-21T03:31:57.991Z"
   },
   {
    "duration": 4,
    "start_time": "2023-07-21T03:31:58.020Z"
   },
   {
    "duration": 19,
    "start_time": "2023-07-21T03:31:58.025Z"
   },
   {
    "duration": 4,
    "start_time": "2023-07-21T03:31:58.045Z"
   },
   {
    "duration": 8,
    "start_time": "2023-07-21T03:31:58.051Z"
   },
   {
    "duration": 9,
    "start_time": "2023-07-21T03:31:58.061Z"
   },
   {
    "duration": 125,
    "start_time": "2023-07-21T03:31:58.071Z"
   },
   {
    "duration": 10,
    "start_time": "2023-07-21T03:31:58.198Z"
   },
   {
    "duration": 13,
    "start_time": "2023-07-21T03:31:58.209Z"
   },
   {
    "duration": 11,
    "start_time": "2023-07-21T03:31:58.223Z"
   },
   {
    "duration": 19,
    "start_time": "2023-07-21T03:31:58.236Z"
   },
   {
    "duration": 15,
    "start_time": "2023-07-21T03:31:58.257Z"
   },
   {
    "duration": 14,
    "start_time": "2023-07-21T03:31:58.273Z"
   },
   {
    "duration": 159,
    "start_time": "2023-07-21T03:31:58.289Z"
   },
   {
    "duration": 25,
    "start_time": "2023-07-21T03:31:58.449Z"
   },
   {
    "duration": 9,
    "start_time": "2023-07-21T03:31:58.475Z"
   },
   {
    "duration": 17841,
    "start_time": "2023-07-21T03:31:58.486Z"
   },
   {
    "duration": 522,
    "start_time": "2023-07-21T03:32:16.329Z"
   },
   {
    "duration": 10,
    "start_time": "2023-07-21T03:32:16.853Z"
   },
   {
    "duration": 64,
    "start_time": "2023-07-21T03:32:16.865Z"
   },
   {
    "duration": 104,
    "start_time": "2023-07-21T03:32:16.931Z"
   },
   {
    "duration": 85,
    "start_time": "2023-07-21T03:32:17.037Z"
   },
   {
    "duration": 123,
    "start_time": "2023-07-21T03:32:17.124Z"
   },
   {
    "duration": 0,
    "start_time": "2023-07-21T03:32:17.250Z"
   },
   {
    "duration": 0,
    "start_time": "2023-07-21T03:32:17.251Z"
   },
   {
    "duration": 0,
    "start_time": "2023-07-21T03:32:17.253Z"
   },
   {
    "duration": 0,
    "start_time": "2023-07-21T03:32:17.254Z"
   },
   {
    "duration": 0,
    "start_time": "2023-07-21T03:32:17.255Z"
   },
   {
    "duration": 0,
    "start_time": "2023-07-21T03:32:17.257Z"
   },
   {
    "duration": 0,
    "start_time": "2023-07-21T03:32:17.258Z"
   },
   {
    "duration": 0,
    "start_time": "2023-07-21T03:32:17.259Z"
   },
   {
    "duration": 0,
    "start_time": "2023-07-21T03:32:17.261Z"
   },
   {
    "duration": 0,
    "start_time": "2023-07-21T03:32:17.262Z"
   },
   {
    "duration": 0,
    "start_time": "2023-07-21T03:32:17.263Z"
   },
   {
    "duration": 0,
    "start_time": "2023-07-21T03:32:17.264Z"
   },
   {
    "duration": 0,
    "start_time": "2023-07-21T03:32:17.265Z"
   },
   {
    "duration": 0,
    "start_time": "2023-07-21T03:32:17.266Z"
   },
   {
    "duration": 0,
    "start_time": "2023-07-21T03:32:17.267Z"
   },
   {
    "duration": 0,
    "start_time": "2023-07-21T03:32:17.269Z"
   },
   {
    "duration": 0,
    "start_time": "2023-07-21T03:32:17.270Z"
   },
   {
    "duration": 0,
    "start_time": "2023-07-21T03:32:17.271Z"
   },
   {
    "duration": 0,
    "start_time": "2023-07-21T03:32:17.272Z"
   },
   {
    "duration": 0,
    "start_time": "2023-07-21T03:32:17.273Z"
   },
   {
    "duration": 0,
    "start_time": "2023-07-21T03:32:17.274Z"
   },
   {
    "duration": 0,
    "start_time": "2023-07-21T03:32:17.275Z"
   },
   {
    "duration": 0,
    "start_time": "2023-07-21T03:32:17.276Z"
   },
   {
    "duration": 0,
    "start_time": "2023-07-21T03:32:17.277Z"
   },
   {
    "duration": 0,
    "start_time": "2023-07-21T03:32:17.278Z"
   },
   {
    "duration": 0,
    "start_time": "2023-07-21T03:32:17.279Z"
   },
   {
    "duration": 0,
    "start_time": "2023-07-21T03:32:17.280Z"
   },
   {
    "duration": 0,
    "start_time": "2023-07-21T03:32:17.281Z"
   },
   {
    "duration": 0,
    "start_time": "2023-07-21T03:32:17.282Z"
   },
   {
    "duration": 0,
    "start_time": "2023-07-21T03:32:17.283Z"
   },
   {
    "duration": 0,
    "start_time": "2023-07-21T03:32:17.284Z"
   },
   {
    "duration": 0,
    "start_time": "2023-07-21T03:32:17.285Z"
   },
   {
    "duration": 0,
    "start_time": "2023-07-21T03:32:17.285Z"
   },
   {
    "duration": 0,
    "start_time": "2023-07-21T03:32:17.321Z"
   },
   {
    "duration": 0,
    "start_time": "2023-07-21T03:32:17.323Z"
   },
   {
    "duration": 0,
    "start_time": "2023-07-21T03:32:17.324Z"
   },
   {
    "duration": 0,
    "start_time": "2023-07-21T03:32:17.325Z"
   },
   {
    "duration": 0,
    "start_time": "2023-07-21T03:32:17.325Z"
   },
   {
    "duration": 82,
    "start_time": "2023-07-21T03:33:39.874Z"
   },
   {
    "duration": 67,
    "start_time": "2023-07-21T03:33:50.906Z"
   },
   {
    "duration": 1499,
    "start_time": "2023-07-21T03:33:59.704Z"
   },
   {
    "duration": 2,
    "start_time": "2023-07-21T03:34:01.205Z"
   },
   {
    "duration": 100,
    "start_time": "2023-07-21T03:34:01.220Z"
   },
   {
    "duration": 37,
    "start_time": "2023-07-21T03:34:01.322Z"
   },
   {
    "duration": 96,
    "start_time": "2023-07-21T03:34:01.360Z"
   },
   {
    "duration": 79,
    "start_time": "2023-07-21T03:34:01.458Z"
   },
   {
    "duration": 53,
    "start_time": "2023-07-21T03:34:01.538Z"
   },
   {
    "duration": 5,
    "start_time": "2023-07-21T03:34:01.592Z"
   },
   {
    "duration": 24,
    "start_time": "2023-07-21T03:34:01.599Z"
   },
   {
    "duration": 22,
    "start_time": "2023-07-21T03:34:01.625Z"
   },
   {
    "duration": 14,
    "start_time": "2023-07-21T03:34:01.649Z"
   },
   {
    "duration": 13,
    "start_time": "2023-07-21T03:34:01.665Z"
   },
   {
    "duration": 36,
    "start_time": "2023-07-21T03:34:01.680Z"
   },
   {
    "duration": 9,
    "start_time": "2023-07-21T03:34:01.717Z"
   },
   {
    "duration": 29,
    "start_time": "2023-07-21T03:34:01.728Z"
   },
   {
    "duration": 146,
    "start_time": "2023-07-21T03:34:01.759Z"
   },
   {
    "duration": 16,
    "start_time": "2023-07-21T03:34:01.907Z"
   },
   {
    "duration": 30,
    "start_time": "2023-07-21T03:34:01.925Z"
   },
   {
    "duration": 37,
    "start_time": "2023-07-21T03:34:01.956Z"
   },
   {
    "duration": 36,
    "start_time": "2023-07-21T03:34:01.995Z"
   },
   {
    "duration": 16,
    "start_time": "2023-07-21T03:34:02.033Z"
   },
   {
    "duration": 131,
    "start_time": "2023-07-21T03:34:02.050Z"
   },
   {
    "duration": 13,
    "start_time": "2023-07-21T03:34:02.183Z"
   },
   {
    "duration": 10,
    "start_time": "2023-07-21T03:34:02.197Z"
   },
   {
    "duration": 1877,
    "start_time": "2023-07-21T03:34:02.221Z"
   },
   {
    "duration": 6,
    "start_time": "2023-07-21T03:34:04.099Z"
   },
   {
    "duration": 26,
    "start_time": "2023-07-21T03:34:04.106Z"
   },
   {
    "duration": 12,
    "start_time": "2023-07-21T03:34:04.137Z"
   },
   {
    "duration": 139,
    "start_time": "2023-07-21T03:34:04.151Z"
   },
   {
    "duration": 918,
    "start_time": "2023-07-21T03:34:04.292Z"
   },
   {
    "duration": 158,
    "start_time": "2023-07-21T03:34:05.213Z"
   },
   {
    "duration": 112,
    "start_time": "2023-07-21T03:34:05.373Z"
   },
   {
    "duration": 17,
    "start_time": "2023-07-21T03:34:05.487Z"
   },
   {
    "duration": 27,
    "start_time": "2023-07-21T03:34:05.506Z"
   },
   {
    "duration": 45,
    "start_time": "2023-07-21T03:34:05.535Z"
   },
   {
    "duration": 37,
    "start_time": "2023-07-21T03:34:05.581Z"
   },
   {
    "duration": 21,
    "start_time": "2023-07-21T03:34:05.622Z"
   },
   {
    "duration": 40,
    "start_time": "2023-07-21T03:34:05.645Z"
   },
   {
    "duration": 46,
    "start_time": "2023-07-21T03:34:05.687Z"
   },
   {
    "duration": 144,
    "start_time": "2023-07-21T03:34:05.735Z"
   },
   {
    "duration": 12,
    "start_time": "2023-07-21T03:34:05.881Z"
   },
   {
    "duration": 35,
    "start_time": "2023-07-21T03:34:05.894Z"
   },
   {
    "duration": 31,
    "start_time": "2023-07-21T03:34:05.930Z"
   },
   {
    "duration": 36,
    "start_time": "2023-07-21T03:34:05.963Z"
   },
   {
    "duration": 38,
    "start_time": "2023-07-21T03:34:06.001Z"
   },
   {
    "duration": 38,
    "start_time": "2023-07-21T03:34:06.041Z"
   },
   {
    "duration": 183,
    "start_time": "2023-07-21T03:34:06.081Z"
   },
   {
    "duration": 24,
    "start_time": "2023-07-21T03:34:06.266Z"
   },
   {
    "duration": 43,
    "start_time": "2023-07-21T03:34:06.292Z"
   },
   {
    "duration": 17763,
    "start_time": "2023-07-21T03:34:06.337Z"
   },
   {
    "duration": 488,
    "start_time": "2023-07-21T03:34:24.101Z"
   },
   {
    "duration": 9,
    "start_time": "2023-07-21T03:34:24.591Z"
   },
   {
    "duration": 39,
    "start_time": "2023-07-21T03:34:24.601Z"
   },
   {
    "duration": 87,
    "start_time": "2023-07-21T03:34:24.642Z"
   },
   {
    "duration": 98,
    "start_time": "2023-07-21T03:34:24.731Z"
   },
   {
    "duration": 140,
    "start_time": "2023-07-21T03:34:24.831Z"
   },
   {
    "duration": 3,
    "start_time": "2023-07-21T03:34:24.974Z"
   },
   {
    "duration": 12,
    "start_time": "2023-07-21T03:34:24.979Z"
   },
   {
    "duration": 731,
    "start_time": "2023-07-21T03:34:24.992Z"
   },
   {
    "duration": 727,
    "start_time": "2023-07-21T03:34:25.727Z"
   },
   {
    "duration": 11,
    "start_time": "2023-07-21T03:34:26.455Z"
   },
   {
    "duration": 70,
    "start_time": "2023-07-21T03:34:26.468Z"
   },
   {
    "duration": 34,
    "start_time": "2023-07-21T03:34:26.540Z"
   },
   {
    "duration": 10,
    "start_time": "2023-07-21T03:34:26.576Z"
   },
   {
    "duration": 48,
    "start_time": "2023-07-21T03:34:26.588Z"
   },
   {
    "duration": 84,
    "start_time": "2023-07-21T03:34:26.638Z"
   },
   {
    "duration": 115,
    "start_time": "2023-07-21T03:34:26.724Z"
   },
   {
    "duration": 24,
    "start_time": "2023-07-21T03:34:26.841Z"
   },
   {
    "duration": 16,
    "start_time": "2023-07-21T03:34:26.920Z"
   },
   {
    "duration": 130,
    "start_time": "2023-07-21T03:34:27.021Z"
   },
   {
    "duration": 275,
    "start_time": "2023-07-21T03:34:27.153Z"
   },
   {
    "duration": 143,
    "start_time": "2023-07-21T03:34:27.429Z"
   },
   {
    "duration": 19,
    "start_time": "2023-07-21T03:34:27.574Z"
   },
   {
    "duration": 30,
    "start_time": "2023-07-21T03:34:27.594Z"
   },
   {
    "duration": 18046,
    "start_time": "2023-07-21T03:34:27.626Z"
   },
   {
    "duration": 514,
    "start_time": "2023-07-21T03:34:45.674Z"
   },
   {
    "duration": 55,
    "start_time": "2023-07-21T03:34:46.190Z"
   },
   {
    "duration": 82,
    "start_time": "2023-07-21T03:34:46.247Z"
   },
   {
    "duration": 19,
    "start_time": "2023-07-21T03:34:46.420Z"
   },
   {
    "duration": 201,
    "start_time": "2023-07-21T03:34:46.441Z"
   },
   {
    "duration": 96,
    "start_time": "2023-07-21T03:34:46.644Z"
   },
   {
    "duration": 19,
    "start_time": "2023-07-21T03:34:46.745Z"
   },
   {
    "duration": 11013,
    "start_time": "2023-07-21T03:34:46.765Z"
   },
   {
    "duration": 57,
    "start_time": "2023-07-21T03:34:57.779Z"
   },
   {
    "duration": 89,
    "start_time": "2023-07-21T03:34:57.838Z"
   },
   {
    "duration": 200,
    "start_time": "2023-07-21T03:34:57.929Z"
   },
   {
    "duration": 183,
    "start_time": "2023-07-21T03:34:58.131Z"
   },
   {
    "duration": 33,
    "start_time": "2023-07-21T03:34:58.315Z"
   },
   {
    "duration": 23342,
    "start_time": "2023-07-21T03:34:58.350Z"
   },
   {
    "duration": 98,
    "start_time": "2023-07-21T03:35:21.694Z"
   },
   {
    "duration": 138,
    "start_time": "2023-07-21T03:35:21.793Z"
   },
   {
    "duration": 432,
    "start_time": "2023-07-21T03:35:21.933Z"
   },
   {
    "duration": 578,
    "start_time": "2023-07-21T03:35:22.367Z"
   },
   {
    "duration": 0,
    "start_time": "2023-07-21T03:35:22.947Z"
   },
   {
    "duration": 493,
    "start_time": "2023-07-21T03:36:23.402Z"
   },
   {
    "duration": 550,
    "start_time": "2023-07-21T03:36:34.942Z"
   },
   {
    "duration": 329,
    "start_time": "2023-07-21T03:37:14.496Z"
   },
   {
    "duration": 11,
    "start_time": "2023-07-21T03:37:23.456Z"
   },
   {
    "duration": 111,
    "start_time": "2023-07-21T03:37:33.824Z"
   },
   {
    "duration": 223,
    "start_time": "2023-07-21T03:45:12.202Z"
   },
   {
    "duration": 10,
    "start_time": "2023-07-21T03:45:35.416Z"
   },
   {
    "duration": 17428,
    "start_time": "2023-07-21T03:45:45.114Z"
   },
   {
    "duration": 509,
    "start_time": "2023-07-21T03:46:11.282Z"
   },
   {
    "duration": 10,
    "start_time": "2023-07-21T03:46:12.200Z"
   },
   {
    "duration": 148,
    "start_time": "2023-07-21T03:47:02.974Z"
   },
   {
    "duration": 109,
    "start_time": "2023-07-21T03:47:57.388Z"
   },
   {
    "duration": 117,
    "start_time": "2023-07-21T03:48:08.120Z"
   },
   {
    "duration": 108,
    "start_time": "2023-07-21T03:49:29.744Z"
   },
   {
    "duration": 115,
    "start_time": "2023-07-21T03:49:49.013Z"
   },
   {
    "duration": 11024,
    "start_time": "2023-07-21T03:56:56.134Z"
   },
   {
    "duration": 47,
    "start_time": "2023-07-21T03:57:07.160Z"
   },
   {
    "duration": 23637,
    "start_time": "2023-07-21T03:58:12.006Z"
   },
   {
    "duration": 812,
    "start_time": "2023-07-21T03:58:39.638Z"
   },
   {
    "duration": 24615,
    "start_time": "2023-07-21T03:59:43.478Z"
   },
   {
    "duration": 181,
    "start_time": "2023-07-21T04:00:17.348Z"
   },
   {
    "duration": 727,
    "start_time": "2023-07-21T04:00:30.560Z"
   },
   {
    "duration": 17554,
    "start_time": "2023-07-21T04:01:13.157Z"
   },
   {
    "duration": 564,
    "start_time": "2023-07-21T04:01:37.112Z"
   },
   {
    "duration": 66,
    "start_time": "2023-07-21T04:01:40.448Z"
   },
   {
    "duration": 1362,
    "start_time": "2023-07-21T04:01:48.577Z"
   },
   {
    "duration": 3,
    "start_time": "2023-07-21T04:01:49.941Z"
   },
   {
    "duration": 64,
    "start_time": "2023-07-21T04:01:49.945Z"
   },
   {
    "duration": 15,
    "start_time": "2023-07-21T04:01:50.010Z"
   },
   {
    "duration": 37,
    "start_time": "2023-07-21T04:01:50.027Z"
   },
   {
    "duration": 38,
    "start_time": "2023-07-21T04:01:50.065Z"
   },
   {
    "duration": 43,
    "start_time": "2023-07-21T04:01:50.104Z"
   },
   {
    "duration": 3,
    "start_time": "2023-07-21T04:01:50.149Z"
   },
   {
    "duration": 20,
    "start_time": "2023-07-21T04:01:50.154Z"
   },
   {
    "duration": 20,
    "start_time": "2023-07-21T04:01:50.176Z"
   },
   {
    "duration": 24,
    "start_time": "2023-07-21T04:01:50.198Z"
   },
   {
    "duration": 50,
    "start_time": "2023-07-21T04:01:50.223Z"
   },
   {
    "duration": 46,
    "start_time": "2023-07-21T04:01:50.275Z"
   },
   {
    "duration": 28,
    "start_time": "2023-07-21T04:01:50.323Z"
   },
   {
    "duration": 88,
    "start_time": "2023-07-21T04:01:50.353Z"
   },
   {
    "duration": 139,
    "start_time": "2023-07-21T04:01:50.442Z"
   },
   {
    "duration": 4,
    "start_time": "2023-07-21T04:01:50.582Z"
   },
   {
    "duration": 30,
    "start_time": "2023-07-21T04:01:50.588Z"
   },
   {
    "duration": 23,
    "start_time": "2023-07-21T04:01:50.620Z"
   },
   {
    "duration": 40,
    "start_time": "2023-07-21T04:01:50.645Z"
   },
   {
    "duration": 17,
    "start_time": "2023-07-21T04:01:50.687Z"
   },
   {
    "duration": 145,
    "start_time": "2023-07-21T04:01:50.706Z"
   },
   {
    "duration": 11,
    "start_time": "2023-07-21T04:01:50.853Z"
   },
   {
    "duration": 23,
    "start_time": "2023-07-21T04:01:50.866Z"
   },
   {
    "duration": 1731,
    "start_time": "2023-07-21T04:01:50.890Z"
   },
   {
    "duration": 6,
    "start_time": "2023-07-21T04:01:52.623Z"
   },
   {
    "duration": 29,
    "start_time": "2023-07-21T04:01:52.630Z"
   },
   {
    "duration": 33,
    "start_time": "2023-07-21T04:01:52.663Z"
   },
   {
    "duration": 148,
    "start_time": "2023-07-21T04:01:52.698Z"
   },
   {
    "duration": 821,
    "start_time": "2023-07-21T04:01:52.848Z"
   },
   {
    "duration": 154,
    "start_time": "2023-07-21T04:01:53.671Z"
   },
   {
    "duration": 111,
    "start_time": "2023-07-21T04:01:53.827Z"
   },
   {
    "duration": 16,
    "start_time": "2023-07-21T04:01:53.941Z"
   },
   {
    "duration": 24,
    "start_time": "2023-07-21T04:01:53.959Z"
   },
   {
    "duration": 22,
    "start_time": "2023-07-21T04:01:53.985Z"
   },
   {
    "duration": 29,
    "start_time": "2023-07-21T04:01:54.008Z"
   },
   {
    "duration": 10,
    "start_time": "2023-07-21T04:01:54.038Z"
   },
   {
    "duration": 11,
    "start_time": "2023-07-21T04:01:54.049Z"
   },
   {
    "duration": 16,
    "start_time": "2023-07-21T04:01:54.061Z"
   },
   {
    "duration": 115,
    "start_time": "2023-07-21T04:01:54.078Z"
   },
   {
    "duration": 10,
    "start_time": "2023-07-21T04:01:54.194Z"
   },
   {
    "duration": 9,
    "start_time": "2023-07-21T04:01:54.205Z"
   },
   {
    "duration": 10,
    "start_time": "2023-07-21T04:01:54.216Z"
   },
   {
    "duration": 27,
    "start_time": "2023-07-21T04:01:54.227Z"
   },
   {
    "duration": 22,
    "start_time": "2023-07-21T04:01:54.256Z"
   },
   {
    "duration": 15,
    "start_time": "2023-07-21T04:01:54.280Z"
   },
   {
    "duration": 150,
    "start_time": "2023-07-21T04:01:54.296Z"
   },
   {
    "duration": 23,
    "start_time": "2023-07-21T04:01:54.448Z"
   },
   {
    "duration": 10,
    "start_time": "2023-07-21T04:01:54.473Z"
   },
   {
    "duration": 17521,
    "start_time": "2023-07-21T04:01:54.484Z"
   },
   {
    "duration": 541,
    "start_time": "2023-07-21T04:02:12.007Z"
   },
   {
    "duration": 11,
    "start_time": "2023-07-21T04:02:12.550Z"
   },
   {
    "duration": 58,
    "start_time": "2023-07-21T04:02:12.563Z"
   },
   {
    "duration": 104,
    "start_time": "2023-07-21T04:02:12.623Z"
   },
   {
    "duration": 14,
    "start_time": "2023-07-21T04:02:12.729Z"
   },
   {
    "duration": 93,
    "start_time": "2023-07-21T04:02:12.745Z"
   },
   {
    "duration": 5,
    "start_time": "2023-07-21T04:02:12.840Z"
   },
   {
    "duration": 19,
    "start_time": "2023-07-21T04:02:12.847Z"
   },
   {
    "duration": 774,
    "start_time": "2023-07-21T04:02:12.868Z"
   },
   {
    "duration": 762,
    "start_time": "2023-07-21T04:02:13.720Z"
   },
   {
    "duration": 7,
    "start_time": "2023-07-21T04:02:14.484Z"
   },
   {
    "duration": 92,
    "start_time": "2023-07-21T04:02:14.493Z"
   },
   {
    "duration": 35,
    "start_time": "2023-07-21T04:02:14.587Z"
   },
   {
    "duration": 12,
    "start_time": "2023-07-21T04:02:14.623Z"
   },
   {
    "duration": 21,
    "start_time": "2023-07-21T04:02:14.636Z"
   },
   {
    "duration": 66,
    "start_time": "2023-07-21T04:02:14.659Z"
   },
   {
    "duration": 203,
    "start_time": "2023-07-21T04:02:14.727Z"
   },
   {
    "duration": 40,
    "start_time": "2023-07-21T04:02:14.931Z"
   },
   {
    "duration": 108,
    "start_time": "2023-07-21T04:02:15.022Z"
   },
   {
    "duration": 145,
    "start_time": "2023-07-21T04:02:15.132Z"
   },
   {
    "duration": 376,
    "start_time": "2023-07-21T04:02:15.279Z"
   },
   {
    "duration": 164,
    "start_time": "2023-07-21T04:02:15.656Z"
   },
   {
    "duration": 18,
    "start_time": "2023-07-21T04:02:15.822Z"
   },
   {
    "duration": 33,
    "start_time": "2023-07-21T04:02:15.842Z"
   },
   {
    "duration": 17601,
    "start_time": "2023-07-21T04:02:15.876Z"
   },
   {
    "duration": 482,
    "start_time": "2023-07-21T04:02:33.479Z"
   },
   {
    "duration": 43,
    "start_time": "2023-07-21T04:02:33.963Z"
   },
   {
    "duration": 28,
    "start_time": "2023-07-21T04:02:34.008Z"
   },
   {
    "duration": 191,
    "start_time": "2023-07-21T04:02:34.040Z"
   },
   {
    "duration": 195,
    "start_time": "2023-07-21T04:02:34.234Z"
   },
   {
    "duration": 93,
    "start_time": "2023-07-21T04:02:34.431Z"
   },
   {
    "duration": 26,
    "start_time": "2023-07-21T04:02:34.528Z"
   },
   {
    "duration": 11809,
    "start_time": "2023-07-21T04:02:34.556Z"
   },
   {
    "duration": 62,
    "start_time": "2023-07-21T04:02:46.367Z"
   },
   {
    "duration": 91,
    "start_time": "2023-07-21T04:02:46.431Z"
   },
   {
    "duration": 105,
    "start_time": "2023-07-21T04:02:46.524Z"
   },
   {
    "duration": 185,
    "start_time": "2023-07-21T04:02:46.630Z"
   },
   {
    "duration": 34,
    "start_time": "2023-07-21T04:02:46.817Z"
   },
   {
    "duration": 23204,
    "start_time": "2023-07-21T04:02:46.853Z"
   },
   {
    "duration": 727,
    "start_time": "2023-07-21T04:03:10.059Z"
   },
   {
    "duration": 240,
    "start_time": "2023-07-21T04:03:10.787Z"
   },
   {
    "duration": 452,
    "start_time": "2023-07-21T04:03:11.030Z"
   },
   {
    "duration": 299,
    "start_time": "2023-07-21T04:04:51.617Z"
   },
   {
    "duration": 20,
    "start_time": "2023-07-21T04:10:48.399Z"
   },
   {
    "duration": 10,
    "start_time": "2023-07-21T04:10:49.853Z"
   },
   {
    "duration": 345,
    "start_time": "2023-07-21T04:19:24.679Z"
   },
   {
    "duration": 296,
    "start_time": "2023-07-21T04:19:38.531Z"
   },
   {
    "duration": 282,
    "start_time": "2023-07-21T04:22:16.594Z"
   },
   {
    "duration": 268,
    "start_time": "2023-07-21T04:22:35.009Z"
   },
   {
    "duration": 548,
    "start_time": "2023-07-21T04:24:33.755Z"
   },
   {
    "duration": 339,
    "start_time": "2023-07-21T04:24:44.317Z"
   },
   {
    "duration": 100,
    "start_time": "2023-07-21T16:29:25.992Z"
   },
   {
    "duration": 47,
    "start_time": "2023-07-23T06:58:16.545Z"
   },
   {
    "duration": 1688,
    "start_time": "2023-07-23T06:59:12.714Z"
   },
   {
    "duration": 3,
    "start_time": "2023-07-23T06:59:14.404Z"
   },
   {
    "duration": 182,
    "start_time": "2023-07-23T06:59:14.408Z"
   },
   {
    "duration": 18,
    "start_time": "2023-07-23T06:59:14.592Z"
   },
   {
    "duration": 24,
    "start_time": "2023-07-23T06:59:14.612Z"
   },
   {
    "duration": 14,
    "start_time": "2023-07-23T06:59:14.638Z"
   },
   {
    "duration": 41,
    "start_time": "2023-07-23T06:59:14.654Z"
   },
   {
    "duration": 5,
    "start_time": "2023-07-23T06:59:14.696Z"
   },
   {
    "duration": 14,
    "start_time": "2023-07-23T06:59:14.703Z"
   },
   {
    "duration": 5,
    "start_time": "2023-07-23T06:59:14.719Z"
   },
   {
    "duration": 6,
    "start_time": "2023-07-23T06:59:14.726Z"
   },
   {
    "duration": 12,
    "start_time": "2023-07-23T06:59:14.734Z"
   },
   {
    "duration": 23,
    "start_time": "2023-07-23T06:59:14.748Z"
   },
   {
    "duration": 6,
    "start_time": "2023-07-23T06:59:14.774Z"
   },
   {
    "duration": 33,
    "start_time": "2023-07-23T06:59:14.781Z"
   },
   {
    "duration": 145,
    "start_time": "2023-07-23T06:59:14.816Z"
   },
   {
    "duration": 6,
    "start_time": "2023-07-23T06:59:14.962Z"
   },
   {
    "duration": 8,
    "start_time": "2023-07-23T06:59:14.969Z"
   },
   {
    "duration": 5,
    "start_time": "2023-07-23T06:59:14.978Z"
   },
   {
    "duration": 32,
    "start_time": "2023-07-23T06:59:14.985Z"
   },
   {
    "duration": 4,
    "start_time": "2023-07-23T06:59:15.019Z"
   },
   {
    "duration": 165,
    "start_time": "2023-07-23T06:59:15.025Z"
   },
   {
    "duration": 22,
    "start_time": "2023-07-23T06:59:15.192Z"
   },
   {
    "duration": 5,
    "start_time": "2023-07-23T06:59:15.215Z"
   },
   {
    "duration": 1970,
    "start_time": "2023-07-23T06:59:15.221Z"
   },
   {
    "duration": 6,
    "start_time": "2023-07-23T06:59:17.192Z"
   },
   {
    "duration": 26,
    "start_time": "2023-07-23T06:59:17.200Z"
   },
   {
    "duration": 7,
    "start_time": "2023-07-23T06:59:17.228Z"
   },
   {
    "duration": 133,
    "start_time": "2023-07-23T06:59:17.237Z"
   },
   {
    "duration": 904,
    "start_time": "2023-07-23T06:59:17.372Z"
   },
   {
    "duration": 185,
    "start_time": "2023-07-23T06:59:18.278Z"
   },
   {
    "duration": 126,
    "start_time": "2023-07-23T06:59:18.464Z"
   },
   {
    "duration": 34,
    "start_time": "2023-07-23T06:59:18.591Z"
   },
   {
    "duration": 15,
    "start_time": "2023-07-23T06:59:18.627Z"
   },
   {
    "duration": 18,
    "start_time": "2023-07-23T06:59:18.644Z"
   },
   {
    "duration": 27,
    "start_time": "2023-07-23T06:59:18.664Z"
   },
   {
    "duration": 4,
    "start_time": "2023-07-23T06:59:18.693Z"
   },
   {
    "duration": 18,
    "start_time": "2023-07-23T06:59:18.698Z"
   },
   {
    "duration": 7,
    "start_time": "2023-07-23T06:59:18.718Z"
   },
   {
    "duration": 138,
    "start_time": "2023-07-23T06:59:18.727Z"
   },
   {
    "duration": 11,
    "start_time": "2023-07-23T06:59:18.870Z"
   },
   {
    "duration": 16,
    "start_time": "2023-07-23T06:59:18.883Z"
   },
   {
    "duration": 18,
    "start_time": "2023-07-23T06:59:18.900Z"
   },
   {
    "duration": 34,
    "start_time": "2023-07-23T06:59:18.920Z"
   },
   {
    "duration": 18,
    "start_time": "2023-07-23T06:59:18.956Z"
   },
   {
    "duration": 18,
    "start_time": "2023-07-23T06:59:18.976Z"
   },
   {
    "duration": 169,
    "start_time": "2023-07-23T06:59:18.995Z"
   },
   {
    "duration": 21,
    "start_time": "2023-07-23T06:59:19.166Z"
   },
   {
    "duration": 10,
    "start_time": "2023-07-23T06:59:19.189Z"
   },
   {
    "duration": 19173,
    "start_time": "2023-07-23T06:59:19.214Z"
   },
   {
    "duration": 525,
    "start_time": "2023-07-23T06:59:38.389Z"
   },
   {
    "duration": 10,
    "start_time": "2023-07-23T06:59:38.916Z"
   },
   {
    "duration": 43,
    "start_time": "2023-07-23T06:59:38.928Z"
   },
   {
    "duration": 141,
    "start_time": "2023-07-23T06:59:38.973Z"
   },
   {
    "duration": 30,
    "start_time": "2023-07-23T06:59:39.116Z"
   },
   {
    "duration": 99,
    "start_time": "2023-07-23T06:59:39.147Z"
   },
   {
    "duration": 3,
    "start_time": "2023-07-23T06:59:39.248Z"
   },
   {
    "duration": 16,
    "start_time": "2023-07-23T06:59:39.253Z"
   },
   {
    "duration": 843,
    "start_time": "2023-07-23T06:59:39.271Z"
   },
   {
    "duration": 778,
    "start_time": "2023-07-23T06:59:40.116Z"
   },
   {
    "duration": 17,
    "start_time": "2023-07-23T06:59:40.896Z"
   },
   {
    "duration": 69,
    "start_time": "2023-07-23T06:59:40.915Z"
   },
   {
    "duration": 36,
    "start_time": "2023-07-23T06:59:40.986Z"
   },
   {
    "duration": 9,
    "start_time": "2023-07-23T06:59:41.023Z"
   },
   {
    "duration": 18,
    "start_time": "2023-07-23T06:59:41.034Z"
   },
   {
    "duration": 61,
    "start_time": "2023-07-23T06:59:41.054Z"
   },
   {
    "duration": 100,
    "start_time": "2023-07-23T06:59:41.116Z"
   },
   {
    "duration": 100,
    "start_time": "2023-07-23T06:59:41.221Z"
   },
   {
    "duration": 102,
    "start_time": "2023-07-23T06:59:41.323Z"
   },
   {
    "duration": 218,
    "start_time": "2023-07-23T06:59:41.427Z"
   },
   {
    "duration": 290,
    "start_time": "2023-07-23T06:59:41.646Z"
   },
   {
    "duration": 158,
    "start_time": "2023-07-23T06:59:41.938Z"
   },
   {
    "duration": 26,
    "start_time": "2023-07-23T06:59:42.098Z"
   },
   {
    "duration": 15,
    "start_time": "2023-07-23T06:59:42.126Z"
   },
   {
    "duration": 19377,
    "start_time": "2023-07-23T06:59:42.142Z"
   },
   {
    "duration": 554,
    "start_time": "2023-07-23T07:00:01.521Z"
   },
   {
    "duration": 61,
    "start_time": "2023-07-23T07:00:02.077Z"
   },
   {
    "duration": 21,
    "start_time": "2023-07-23T07:00:02.140Z"
   },
   {
    "duration": 167,
    "start_time": "2023-07-23T07:00:02.164Z"
   },
   {
    "duration": 235,
    "start_time": "2023-07-23T07:00:02.333Z"
   },
   {
    "duration": 272,
    "start_time": "2023-07-23T07:00:02.570Z"
   },
   {
    "duration": 233,
    "start_time": "2023-07-23T07:00:02.843Z"
   },
   {
    "duration": 12520,
    "start_time": "2023-07-23T07:00:03.078Z"
   },
   {
    "duration": 362,
    "start_time": "2023-07-23T07:00:15.600Z"
   },
   {
    "duration": 150,
    "start_time": "2023-07-23T07:00:15.964Z"
   },
   {
    "duration": 105,
    "start_time": "2023-07-23T07:00:16.116Z"
   },
   {
    "duration": 192,
    "start_time": "2023-07-23T07:00:16.222Z"
   },
   {
    "duration": 34,
    "start_time": "2023-07-23T07:00:16.416Z"
   },
   {
    "duration": 26849,
    "start_time": "2023-07-23T07:00:16.452Z"
   },
   {
    "duration": 804,
    "start_time": "2023-07-23T07:00:43.303Z"
   },
   {
    "duration": 112,
    "start_time": "2023-07-23T07:00:44.108Z"
   },
   {
    "duration": 758,
    "start_time": "2023-07-23T07:00:44.222Z"
   },
   {
    "duration": 601,
    "start_time": "2023-07-23T07:02:29.181Z"
   },
   {
    "duration": 566,
    "start_time": "2023-07-23T07:08:56.201Z"
   }
  ],
  "kernelspec": {
   "display_name": "Python 3 (ipykernel)",
   "language": "python",
   "name": "python3"
  },
  "language_info": {
   "codemirror_mode": {
    "name": "ipython",
    "version": 3
   },
   "file_extension": ".py",
   "mimetype": "text/x-python",
   "name": "python",
   "nbconvert_exporter": "python",
   "pygments_lexer": "ipython3",
   "version": "3.9.5"
  },
  "toc": {
   "base_numbering": 1,
   "nav_menu": {},
   "number_sections": true,
   "sideBar": true,
   "skip_h1_title": true,
   "title_cell": "Содержание",
   "title_sidebar": "Contents",
   "toc_cell": true,
   "toc_position": {
    "height": "calc(100% - 180px)",
    "left": "10px",
    "top": "150px",
    "width": "194.201px"
   },
   "toc_section_display": true,
   "toc_window_display": false
  }
 },
 "nbformat": 4,
 "nbformat_minor": 2
}
