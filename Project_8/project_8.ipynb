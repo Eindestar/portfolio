{
 "cells": [
  {
   "cell_type": "markdown",
   "metadata": {
    "toc": true
   },
   "source": [
    "<h1>Содержание<span class=\"tocSkip\"></span></h1>\n",
    "<div class=\"toc\"><ul class=\"toc-item\"><li><span><a href=\"#Загрузка-и-подготовка-данных\" data-toc-modified-id=\"Загрузка-и-подготовка-данных-1\"><span class=\"toc-item-num\">1&nbsp;&nbsp;</span>Загрузка и подготовка данных</a></span><ul class=\"toc-item\"><li><span><a href=\"#Выведим-данные-по-регионам\" data-toc-modified-id=\"Выведим-данные-по-регионам-1.1\"><span class=\"toc-item-num\">1.1&nbsp;&nbsp;</span>Выведим данные по регионам</a></span><ul class=\"toc-item\"><li><span><a href=\"#Выведим-данные-геологоразведки-1-региона\" data-toc-modified-id=\"Выведим-данные-геологоразведки-1-региона-1.1.1\"><span class=\"toc-item-num\">1.1.1&nbsp;&nbsp;</span>Выведим данные геологоразведки 1 региона</a></span></li><li><span><a href=\"#Выведим-данные-геологоразведки-2-региона\" data-toc-modified-id=\"Выведим-данные-геологоразведки-2-региона-1.1.2\"><span class=\"toc-item-num\">1.1.2&nbsp;&nbsp;</span>Выведим данные геологоразведки 2 региона</a></span></li><li><span><a href=\"#Выведим-данные-геологоразведки-3-региона\" data-toc-modified-id=\"Выведим-данные-геологоразведки-3-региона-1.1.3\"><span class=\"toc-item-num\">1.1.3&nbsp;&nbsp;</span>Выведим данные геологоразведки 3 региона</a></span></li></ul></li><li><span><a href=\"#Проверим-данные\" data-toc-modified-id=\"Проверим-данные-1.2\"><span class=\"toc-item-num\">1.2&nbsp;&nbsp;</span>Проверим данные</a></span><ul class=\"toc-item\"><li><span><a href=\"#Проверка-датафреймвов-на-наличие-явных-дубликатов\" data-toc-modified-id=\"Проверка-датафреймвов-на-наличие-явных-дубликатов-1.2.1\"><span class=\"toc-item-num\">1.2.1&nbsp;&nbsp;</span>Проверка датафреймвов на наличие явных дубликатов</a></span></li><li><span><a href=\"#Проверим-пропущенные-значения\" data-toc-modified-id=\"Проверим-пропущенные-значения-1.2.2\"><span class=\"toc-item-num\">1.2.2&nbsp;&nbsp;</span>Проверим пропущенные значения</a></span></li><li><span><a href=\"#Проверим-корреляцию-данных\" data-toc-modified-id=\"Проверим-корреляцию-данных-1.2.3\"><span class=\"toc-item-num\">1.2.3&nbsp;&nbsp;</span>Проверим корреляцию данных</a></span></li></ul></li><li><span><a href=\"#Построим-графики-распределния-данных\" data-toc-modified-id=\"Построим-графики-распределния-данных-1.3\"><span class=\"toc-item-num\">1.3&nbsp;&nbsp;</span>Построим графики распределния данных</a></span></li><li><span><a href=\"#Выводы\" data-toc-modified-id=\"Выводы-1.4\"><span class=\"toc-item-num\">1.4&nbsp;&nbsp;</span>Выводы</a></span></li></ul></li><li><span><a href=\"#Обучение-и-проверка-модели\" data-toc-modified-id=\"Обучение-и-проверка-модели-2\"><span class=\"toc-item-num\">2&nbsp;&nbsp;</span>Обучение и проверка модели</a></span><ul class=\"toc-item\"><li><span><a href=\"#Разобьем-данные-на-обучающую-и-валидационную-выборки-в-соотношении-75:25\" data-toc-modified-id=\"Разобьем-данные-на-обучающую-и-валидационную-выборки-в-соотношении-75:25-2.1\"><span class=\"toc-item-num\">2.1&nbsp;&nbsp;</span>Разобьем данные на обучающую и валидационную выборки в соотношении 75:25</a></span><ul class=\"toc-item\"><li><span><a href=\"#Разобьем-данные-1-региона\" data-toc-modified-id=\"Разобьем-данные-1-региона-2.1.1\"><span class=\"toc-item-num\">2.1.1&nbsp;&nbsp;</span>Разобьем данные 1 региона</a></span></li><li><span><a href=\"#Разобьем-данные-2-региона\" data-toc-modified-id=\"Разобьем-данные-2-региона-2.1.2\"><span class=\"toc-item-num\">2.1.2&nbsp;&nbsp;</span>Разобьем данные 2 региона</a></span></li><li><span><a href=\"#Разобьем-данные-3-региона\" data-toc-modified-id=\"Разобьем-данные-3-региона-2.1.3\"><span class=\"toc-item-num\">2.1.3&nbsp;&nbsp;</span>Разобьем данные 3 региона</a></span></li></ul></li><li><span><a href=\"#Обучение-модели\" data-toc-modified-id=\"Обучение-модели-2.2\"><span class=\"toc-item-num\">2.2&nbsp;&nbsp;</span>Обучение модели</a></span><ul class=\"toc-item\"><li><span><a href=\"#Обучение-модели-1-региона\" data-toc-modified-id=\"Обучение-модели-1-региона-2.2.1\"><span class=\"toc-item-num\">2.2.1&nbsp;&nbsp;</span>Обучение модели 1 региона</a></span></li><li><span><a href=\"#Обучение-модели-2-региона\" data-toc-modified-id=\"Обучение-модели-2-региона-2.2.2\"><span class=\"toc-item-num\">2.2.2&nbsp;&nbsp;</span>Обучение модели 2 региона</a></span></li><li><span><a href=\"#Обучение-модели-3-региона\" data-toc-modified-id=\"Обучение-модели-3-региона-2.2.3\"><span class=\"toc-item-num\">2.2.3&nbsp;&nbsp;</span>Обучение модели 3 региона</a></span></li></ul></li></ul></li><li><span><a href=\"#Подготовка-к-расчёту-прибыли\" data-toc-modified-id=\"Подготовка-к-расчёту-прибыли-3\"><span class=\"toc-item-num\">3&nbsp;&nbsp;</span>Подготовка к расчёту прибыли</a></span><ul class=\"toc-item\"><li><span><a href=\"#Все-ключевые-значения-для-расчётов-сохраним-в-отдельных-переменных\" data-toc-modified-id=\"Все-ключевые-значения-для-расчётов-сохраним-в-отдельных-переменных-3.1\"><span class=\"toc-item-num\">3.1&nbsp;&nbsp;</span>Все ключевые значения для расчётов сохраним в отдельных переменных</a></span></li><li><span><a href=\"#Рассчитаем-достаточный-объём-сырья-для-безубыточной-разработки-новой-скважины\" data-toc-modified-id=\"Рассчитаем-достаточный-объём-сырья-для-безубыточной-разработки-новой-скважины-3.2\"><span class=\"toc-item-num\">3.2&nbsp;&nbsp;</span>Рассчитаем достаточный объём сырья для безубыточной разработки новой скважины</a></span></li><li><span><a href=\"#Сравним-полученный-объём-сырья-со-средним-запасом-в-каждом-регионе\" data-toc-modified-id=\"Сравним-полученный-объём-сырья-со-средним-запасом-в-каждом-регионе-3.3\"><span class=\"toc-item-num\">3.3&nbsp;&nbsp;</span>Сравним полученный объём сырья со средним запасом в каждом регионе</a></span></li></ul></li><li><span><a href=\"#Расчёт-прибыли-и-рисков\" data-toc-modified-id=\"Расчёт-прибыли-и-рисков-4\"><span class=\"toc-item-num\">4&nbsp;&nbsp;</span>Расчёт прибыли и рисков</a></span><ul class=\"toc-item\"><li><span><a href=\"#Выберем-скважины-с-максимальными-значениями-предсказаний\" data-toc-modified-id=\"Выберем-скважины-с-максимальными-значениями-предсказаний-4.1\"><span class=\"toc-item-num\">4.1&nbsp;&nbsp;</span>Выберем скважины с максимальными значениями предсказаний</a></span></li><li><span><a href=\"#Просуммируем-целевое-значение-объёма-сырья,-соответствующее-этим-предсказаниям\" data-toc-modified-id=\"Просуммируем-целевое-значение-объёма-сырья,-соответствующее-этим-предсказаниям-4.2\"><span class=\"toc-item-num\">4.2&nbsp;&nbsp;</span>Просуммируем целевое значение объёма сырья, соответствующее этим предсказаниям</a></span></li><li><span><a href=\"#Рассчитаем-прибыль-для-полученного-объёма-сырья.\" data-toc-modified-id=\"Рассчитаем-прибыль-для-полученного-объёма-сырья.-4.3\"><span class=\"toc-item-num\">4.3&nbsp;&nbsp;</span>Рассчитаем прибыль для полученного объёма сырья.</a></span></li></ul></li><li><span><a href=\"#Посчитать-риски-и-прибыль-для-каждого-региона:\" data-toc-modified-id=\"Посчитать-риски-и-прибыль-для-каждого-региона:-5\"><span class=\"toc-item-num\">5&nbsp;&nbsp;</span>Посчитать риски и прибыль для каждого региона:</a></span></li><li><span><a href=\"#Дополнительное-задание\" data-toc-modified-id=\"Дополнительное-задание-6\"><span class=\"toc-item-num\">6&nbsp;&nbsp;</span>Дополнительное задание</a></span></li><li><span><a href=\"#Заключение\" data-toc-modified-id=\"Заключение-7\"><span class=\"toc-item-num\">7&nbsp;&nbsp;</span>Заключение</a></span></li></ul></div>"
   ]
  },
  {
   "cell_type": "markdown",
   "metadata": {},
   "source": [
    "# Выбор локации для скважины"
   ]
  },
  {
   "cell_type": "markdown",
   "metadata": {},
   "source": [
    "Допустим, вы работаете в добывающей компании «ГлавРосГосНефть». Нужно решить, где бурить новую скважину.\n",
    "\n",
    "Вам предоставлены пробы нефти в трёх регионах: в каждом 10 000 месторождений, где измерили качество нефти и объём её запасов. Постройте модель машинного обучения, которая поможет определить регион, где добыча принесёт наибольшую прибыль. Проанализируйте возможную прибыль и риски техникой *Bootstrap.*\n",
    "\n",
    "Шаги для выбора локации:\n",
    "\n",
    "- В избранном регионе ищут месторождения, для каждого определяют значения признаков;\n",
    "- Строят модель и оценивают объём запасов;\n",
    "- Выбирают месторождения с самым высокими оценками значений. Количество месторождений зависит от бюджета компании и стоимости разработки одной скважины;\n",
    "- Прибыль равна суммарной прибыли отобранных месторождений."
   ]
  },
  {
   "cell_type": "markdown",
   "metadata": {},
   "source": [
    "Инструкция по выполнению проекта\n",
    "- 1.Загрузите и подготовьте данные. Поясните порядок действий.\n",
    "- 2.Обучите и проверьте модель для каждого региона:\n",
    " - 2.1. Разбейте данные на обучающую и валидационную выборки в соотношении 75:25.\n",
    " - 2.2. Обучите модель и сделайте предсказания на валидационной выборке.\n",
    " - 2.3. Сохраните предсказания и правильные ответы на валидационной выборке.\n",
    " - 2.4. Напечатайте на экране средний запас предсказанного сырья и RMSE модели.\n",
    " - 2.5. Проанализируйте результаты.\n",
    "- 3.Подготовьтесь к расчёту прибыли:\n",
    " - 3.1. Все ключевые значения для расчётов сохраните в отдельных переменных.\n",
    " - 3.2. Рассчитайте достаточный объём сырья для безубыточной разработки новой скважины. Сравните полученный объём сырья со средним запасом в каждом регионе. \n",
    " - 3.3. Напишите выводы по этапу подготовки расчёта прибыли.\n",
    "- 4.Напишите функцию для расчёта прибыли по выбранным скважинам и предсказаниям модели:\n",
    " - 4.1. Выберите скважины с максимальными значениями предсказаний. \n",
    " - 4.2. Просуммируйте целевое значение объёма сырья, соответствующее этим предсказаниям.\n",
    " - 4.3. Рассчитайте прибыль для полученного объёма сырья.\n",
    "- 5.Посчитайте риски и прибыль для каждого региона:\n",
    " - 5.1. Примените технику Bootstrap с 1000 выборок, чтобы найти распределение прибыли.\n",
    " - 5.2. Найдите среднюю прибыль, 95%-й доверительный интервал и риск убытков. Убыток — это отрицательная прибыль.\n",
    " - 5.3. Напишите выводы: предложите регион для разработки скважин и обоснуйте выбор."
   ]
  },
  {
   "cell_type": "markdown",
   "metadata": {},
   "source": [
    "Описание данных\n",
    "\n",
    "Данные геологоразведки трёх регионов находятся в файлах: \n",
    "- /datasets/geo_data_0.csv.\n",
    "- /datasets/geo_data_1.csv. \n",
    "- /datasets/geo_data_2.csv.\n",
    "\n",
    "id — уникальный идентификатор скважины;\n",
    "f0, f1, f2 — три признака точек (неважно, что они означают, но сами признаки значимы);\n",
    "product — объём запасов в скважине (тыс. баррелей).\n",
    "\n",
    "Условия задачи:\n",
    "\n",
    "Для обучения модели подходит только линейная регрессия (остальные — недостаточно предсказуемые).\n",
    "При разведке региона исследуют 500 точек, из которых с помощью машинного обучения выбирают 200 лучших для разработки.\n",
    "Бюджет на разработку скважин в регионе — 10 млрд рублей.\n",
    "При нынешних ценах один баррель сырья приносит 450 рублей дохода. Доход с каждой единицы продукта составляет 450 тыс. рублей, поскольку объём указан в тысячах баррелей.\n",
    "После оценки рисков нужно оставить лишь те регионы, в которых вероятность убытков меньше 2.5%. Среди них выбирают регион с наибольшей средней прибылью."
   ]
  },
  {
   "cell_type": "markdown",
   "metadata": {},
   "source": [
    "## Загрузка и подготовка данных"
   ]
  },
  {
   "cell_type": "code",
   "execution_count": 1,
   "metadata": {},
   "outputs": [
    {
     "data": {
      "text/html": [
       "<style>.container { width:90% !important; }</style>"
      ],
      "text/plain": [
       "<IPython.core.display.HTML object>"
      ]
     },
     "metadata": {},
     "output_type": "display_data"
    }
   ],
   "source": [
    "# Импортируем библиотеки\n",
    "\n",
    "import warnings\n",
    "warnings.filterwarnings('ignore')\n",
    "\n",
    "import matplotlib\n",
    "%matplotlib inline\n",
    "\n",
    "import pandas as pd\n",
    "import seaborn as sns\n",
    "import numpy as np\n",
    "from scipy import stats as st\n",
    "\n",
    "import matplotlib.pyplot as plt\n",
    "from numpy.random import RandomState\n",
    "from tqdm.auto import tqdm\n",
    "\n",
    "from sklearn.model_selection import train_test_split\n",
    "from sklearn.linear_model import LinearRegression \n",
    "from sklearn.metrics import mean_squared_error, r2_score\n",
    "from IPython.core.display import display, HTML\n",
    "display(HTML(\"<style>.container { width:90% !important; }</style>\"))"
   ]
  },
  {
   "cell_type": "code",
   "execution_count": 2,
   "metadata": {},
   "outputs": [],
   "source": [
    "# Загружаем данные\n",
    "data_0 = pd.read_csv('/datasets/geo_data_0.csv')\n",
    "data_1 = pd.read_csv('/datasets/geo_data_1.csv')\n",
    "data_2 = pd.read_csv('/datasets/geo_data_2.csv')"
   ]
  },
  {
   "cell_type": "markdown",
   "metadata": {},
   "source": [
    "### Выведим данные по регионам"
   ]
  },
  {
   "cell_type": "markdown",
   "metadata": {},
   "source": [
    "#### Выведим данные геологоразведки 1 региона"
   ]
  },
  {
   "cell_type": "code",
   "execution_count": 3,
   "metadata": {},
   "outputs": [
    {
     "data": {
      "text/html": [
       "<div>\n",
       "<style scoped>\n",
       "    .dataframe tbody tr th:only-of-type {\n",
       "        vertical-align: middle;\n",
       "    }\n",
       "\n",
       "    .dataframe tbody tr th {\n",
       "        vertical-align: top;\n",
       "    }\n",
       "\n",
       "    .dataframe thead th {\n",
       "        text-align: right;\n",
       "    }\n",
       "</style>\n",
       "<table border=\"1\" class=\"dataframe\">\n",
       "  <thead>\n",
       "    <tr style=\"text-align: right;\">\n",
       "      <th></th>\n",
       "      <th>id</th>\n",
       "      <th>f0</th>\n",
       "      <th>f1</th>\n",
       "      <th>f2</th>\n",
       "      <th>product</th>\n",
       "    </tr>\n",
       "  </thead>\n",
       "  <tbody>\n",
       "    <tr>\n",
       "      <th>0</th>\n",
       "      <td>txEyH</td>\n",
       "      <td>0.705745</td>\n",
       "      <td>-0.497823</td>\n",
       "      <td>1.221170</td>\n",
       "      <td>105.280062</td>\n",
       "    </tr>\n",
       "    <tr>\n",
       "      <th>1</th>\n",
       "      <td>2acmU</td>\n",
       "      <td>1.334711</td>\n",
       "      <td>-0.340164</td>\n",
       "      <td>4.365080</td>\n",
       "      <td>73.037750</td>\n",
       "    </tr>\n",
       "    <tr>\n",
       "      <th>2</th>\n",
       "      <td>409Wp</td>\n",
       "      <td>1.022732</td>\n",
       "      <td>0.151990</td>\n",
       "      <td>1.419926</td>\n",
       "      <td>85.265647</td>\n",
       "    </tr>\n",
       "    <tr>\n",
       "      <th>3</th>\n",
       "      <td>iJLyR</td>\n",
       "      <td>-0.032172</td>\n",
       "      <td>0.139033</td>\n",
       "      <td>2.978566</td>\n",
       "      <td>168.620776</td>\n",
       "    </tr>\n",
       "    <tr>\n",
       "      <th>4</th>\n",
       "      <td>Xdl7t</td>\n",
       "      <td>1.988431</td>\n",
       "      <td>0.155413</td>\n",
       "      <td>4.751769</td>\n",
       "      <td>154.036647</td>\n",
       "    </tr>\n",
       "  </tbody>\n",
       "</table>\n",
       "</div>"
      ],
      "text/plain": [
       "      id        f0        f1        f2     product\n",
       "0  txEyH  0.705745 -0.497823  1.221170  105.280062\n",
       "1  2acmU  1.334711 -0.340164  4.365080   73.037750\n",
       "2  409Wp  1.022732  0.151990  1.419926   85.265647\n",
       "3  iJLyR -0.032172  0.139033  2.978566  168.620776\n",
       "4  Xdl7t  1.988431  0.155413  4.751769  154.036647"
      ]
     },
     "execution_count": 3,
     "metadata": {},
     "output_type": "execute_result"
    }
   ],
   "source": [
    "data_0.head()"
   ]
  },
  {
   "cell_type": "code",
   "execution_count": 4,
   "metadata": {},
   "outputs": [
    {
     "name": "stdout",
     "output_type": "stream",
     "text": [
      "<class 'pandas.core.frame.DataFrame'>\n",
      "RangeIndex: 100000 entries, 0 to 99999\n",
      "Data columns (total 5 columns):\n",
      " #   Column   Non-Null Count   Dtype  \n",
      "---  ------   --------------   -----  \n",
      " 0   id       100000 non-null  object \n",
      " 1   f0       100000 non-null  float64\n",
      " 2   f1       100000 non-null  float64\n",
      " 3   f2       100000 non-null  float64\n",
      " 4   product  100000 non-null  float64\n",
      "dtypes: float64(4), object(1)\n",
      "memory usage: 3.8+ MB\n"
     ]
    }
   ],
   "source": [
    "data_0.info()"
   ]
  },
  {
   "cell_type": "code",
   "execution_count": 5,
   "metadata": {},
   "outputs": [
    {
     "data": {
      "text/html": [
       "<div>\n",
       "<style scoped>\n",
       "    .dataframe tbody tr th:only-of-type {\n",
       "        vertical-align: middle;\n",
       "    }\n",
       "\n",
       "    .dataframe tbody tr th {\n",
       "        vertical-align: top;\n",
       "    }\n",
       "\n",
       "    .dataframe thead th {\n",
       "        text-align: right;\n",
       "    }\n",
       "</style>\n",
       "<table border=\"1\" class=\"dataframe\">\n",
       "  <thead>\n",
       "    <tr style=\"text-align: right;\">\n",
       "      <th></th>\n",
       "      <th>f0</th>\n",
       "      <th>f1</th>\n",
       "      <th>f2</th>\n",
       "      <th>product</th>\n",
       "    </tr>\n",
       "  </thead>\n",
       "  <tbody>\n",
       "    <tr>\n",
       "      <th>count</th>\n",
       "      <td>100000.000000</td>\n",
       "      <td>100000.000000</td>\n",
       "      <td>100000.000000</td>\n",
       "      <td>100000.000000</td>\n",
       "    </tr>\n",
       "    <tr>\n",
       "      <th>mean</th>\n",
       "      <td>0.500419</td>\n",
       "      <td>0.250143</td>\n",
       "      <td>2.502647</td>\n",
       "      <td>92.500000</td>\n",
       "    </tr>\n",
       "    <tr>\n",
       "      <th>std</th>\n",
       "      <td>0.871832</td>\n",
       "      <td>0.504433</td>\n",
       "      <td>3.248248</td>\n",
       "      <td>44.288691</td>\n",
       "    </tr>\n",
       "    <tr>\n",
       "      <th>min</th>\n",
       "      <td>-1.408605</td>\n",
       "      <td>-0.848218</td>\n",
       "      <td>-12.088328</td>\n",
       "      <td>0.000000</td>\n",
       "    </tr>\n",
       "    <tr>\n",
       "      <th>25%</th>\n",
       "      <td>-0.072580</td>\n",
       "      <td>-0.200881</td>\n",
       "      <td>0.287748</td>\n",
       "      <td>56.497507</td>\n",
       "    </tr>\n",
       "    <tr>\n",
       "      <th>50%</th>\n",
       "      <td>0.502360</td>\n",
       "      <td>0.250252</td>\n",
       "      <td>2.515969</td>\n",
       "      <td>91.849972</td>\n",
       "    </tr>\n",
       "    <tr>\n",
       "      <th>75%</th>\n",
       "      <td>1.073581</td>\n",
       "      <td>0.700646</td>\n",
       "      <td>4.715088</td>\n",
       "      <td>128.564089</td>\n",
       "    </tr>\n",
       "    <tr>\n",
       "      <th>max</th>\n",
       "      <td>2.362331</td>\n",
       "      <td>1.343769</td>\n",
       "      <td>16.003790</td>\n",
       "      <td>185.364347</td>\n",
       "    </tr>\n",
       "  </tbody>\n",
       "</table>\n",
       "</div>"
      ],
      "text/plain": [
       "                  f0             f1             f2        product\n",
       "count  100000.000000  100000.000000  100000.000000  100000.000000\n",
       "mean        0.500419       0.250143       2.502647      92.500000\n",
       "std         0.871832       0.504433       3.248248      44.288691\n",
       "min        -1.408605      -0.848218     -12.088328       0.000000\n",
       "25%        -0.072580      -0.200881       0.287748      56.497507\n",
       "50%         0.502360       0.250252       2.515969      91.849972\n",
       "75%         1.073581       0.700646       4.715088     128.564089\n",
       "max         2.362331       1.343769      16.003790     185.364347"
      ]
     },
     "execution_count": 5,
     "metadata": {},
     "output_type": "execute_result"
    }
   ],
   "source": [
    "data_0.describe()"
   ]
  },
  {
   "cell_type": "code",
   "execution_count": 6,
   "metadata": {},
   "outputs": [
    {
     "data": {
      "text/plain": [
       "(100000, 5)"
      ]
     },
     "execution_count": 6,
     "metadata": {},
     "output_type": "execute_result"
    }
   ],
   "source": [
    "data_0.shape"
   ]
  },
  {
   "cell_type": "markdown",
   "metadata": {},
   "source": [
    "#### Выведим данные геологоразведки 2 региона"
   ]
  },
  {
   "cell_type": "code",
   "execution_count": 7,
   "metadata": {},
   "outputs": [
    {
     "data": {
      "text/html": [
       "<div>\n",
       "<style scoped>\n",
       "    .dataframe tbody tr th:only-of-type {\n",
       "        vertical-align: middle;\n",
       "    }\n",
       "\n",
       "    .dataframe tbody tr th {\n",
       "        vertical-align: top;\n",
       "    }\n",
       "\n",
       "    .dataframe thead th {\n",
       "        text-align: right;\n",
       "    }\n",
       "</style>\n",
       "<table border=\"1\" class=\"dataframe\">\n",
       "  <thead>\n",
       "    <tr style=\"text-align: right;\">\n",
       "      <th></th>\n",
       "      <th>id</th>\n",
       "      <th>f0</th>\n",
       "      <th>f1</th>\n",
       "      <th>f2</th>\n",
       "      <th>product</th>\n",
       "    </tr>\n",
       "  </thead>\n",
       "  <tbody>\n",
       "    <tr>\n",
       "      <th>0</th>\n",
       "      <td>kBEdx</td>\n",
       "      <td>-15.001348</td>\n",
       "      <td>-8.276000</td>\n",
       "      <td>-0.005876</td>\n",
       "      <td>3.179103</td>\n",
       "    </tr>\n",
       "    <tr>\n",
       "      <th>1</th>\n",
       "      <td>62mP7</td>\n",
       "      <td>14.272088</td>\n",
       "      <td>-3.475083</td>\n",
       "      <td>0.999183</td>\n",
       "      <td>26.953261</td>\n",
       "    </tr>\n",
       "    <tr>\n",
       "      <th>2</th>\n",
       "      <td>vyE1P</td>\n",
       "      <td>6.263187</td>\n",
       "      <td>-5.948386</td>\n",
       "      <td>5.001160</td>\n",
       "      <td>134.766305</td>\n",
       "    </tr>\n",
       "    <tr>\n",
       "      <th>3</th>\n",
       "      <td>KcrkZ</td>\n",
       "      <td>-13.081196</td>\n",
       "      <td>-11.506057</td>\n",
       "      <td>4.999415</td>\n",
       "      <td>137.945408</td>\n",
       "    </tr>\n",
       "    <tr>\n",
       "      <th>4</th>\n",
       "      <td>AHL4O</td>\n",
       "      <td>12.702195</td>\n",
       "      <td>-8.147433</td>\n",
       "      <td>5.004363</td>\n",
       "      <td>134.766305</td>\n",
       "    </tr>\n",
       "  </tbody>\n",
       "</table>\n",
       "</div>"
      ],
      "text/plain": [
       "      id         f0         f1        f2     product\n",
       "0  kBEdx -15.001348  -8.276000 -0.005876    3.179103\n",
       "1  62mP7  14.272088  -3.475083  0.999183   26.953261\n",
       "2  vyE1P   6.263187  -5.948386  5.001160  134.766305\n",
       "3  KcrkZ -13.081196 -11.506057  4.999415  137.945408\n",
       "4  AHL4O  12.702195  -8.147433  5.004363  134.766305"
      ]
     },
     "execution_count": 7,
     "metadata": {},
     "output_type": "execute_result"
    }
   ],
   "source": [
    "data_1.head()"
   ]
  },
  {
   "cell_type": "code",
   "execution_count": 8,
   "metadata": {},
   "outputs": [
    {
     "name": "stdout",
     "output_type": "stream",
     "text": [
      "<class 'pandas.core.frame.DataFrame'>\n",
      "RangeIndex: 100000 entries, 0 to 99999\n",
      "Data columns (total 5 columns):\n",
      " #   Column   Non-Null Count   Dtype  \n",
      "---  ------   --------------   -----  \n",
      " 0   id       100000 non-null  object \n",
      " 1   f0       100000 non-null  float64\n",
      " 2   f1       100000 non-null  float64\n",
      " 3   f2       100000 non-null  float64\n",
      " 4   product  100000 non-null  float64\n",
      "dtypes: float64(4), object(1)\n",
      "memory usage: 3.8+ MB\n"
     ]
    }
   ],
   "source": [
    "data_1.info()"
   ]
  },
  {
   "cell_type": "code",
   "execution_count": 9,
   "metadata": {},
   "outputs": [
    {
     "data": {
      "text/html": [
       "<div>\n",
       "<style scoped>\n",
       "    .dataframe tbody tr th:only-of-type {\n",
       "        vertical-align: middle;\n",
       "    }\n",
       "\n",
       "    .dataframe tbody tr th {\n",
       "        vertical-align: top;\n",
       "    }\n",
       "\n",
       "    .dataframe thead th {\n",
       "        text-align: right;\n",
       "    }\n",
       "</style>\n",
       "<table border=\"1\" class=\"dataframe\">\n",
       "  <thead>\n",
       "    <tr style=\"text-align: right;\">\n",
       "      <th></th>\n",
       "      <th>f0</th>\n",
       "      <th>f1</th>\n",
       "      <th>f2</th>\n",
       "      <th>product</th>\n",
       "    </tr>\n",
       "  </thead>\n",
       "  <tbody>\n",
       "    <tr>\n",
       "      <th>count</th>\n",
       "      <td>100000.000000</td>\n",
       "      <td>100000.000000</td>\n",
       "      <td>100000.000000</td>\n",
       "      <td>100000.000000</td>\n",
       "    </tr>\n",
       "    <tr>\n",
       "      <th>mean</th>\n",
       "      <td>1.141296</td>\n",
       "      <td>-4.796579</td>\n",
       "      <td>2.494541</td>\n",
       "      <td>68.825000</td>\n",
       "    </tr>\n",
       "    <tr>\n",
       "      <th>std</th>\n",
       "      <td>8.965932</td>\n",
       "      <td>5.119872</td>\n",
       "      <td>1.703572</td>\n",
       "      <td>45.944423</td>\n",
       "    </tr>\n",
       "    <tr>\n",
       "      <th>min</th>\n",
       "      <td>-31.609576</td>\n",
       "      <td>-26.358598</td>\n",
       "      <td>-0.018144</td>\n",
       "      <td>0.000000</td>\n",
       "    </tr>\n",
       "    <tr>\n",
       "      <th>25%</th>\n",
       "      <td>-6.298551</td>\n",
       "      <td>-8.267985</td>\n",
       "      <td>1.000021</td>\n",
       "      <td>26.953261</td>\n",
       "    </tr>\n",
       "    <tr>\n",
       "      <th>50%</th>\n",
       "      <td>1.153055</td>\n",
       "      <td>-4.813172</td>\n",
       "      <td>2.011479</td>\n",
       "      <td>57.085625</td>\n",
       "    </tr>\n",
       "    <tr>\n",
       "      <th>75%</th>\n",
       "      <td>8.621015</td>\n",
       "      <td>-1.332816</td>\n",
       "      <td>3.999904</td>\n",
       "      <td>107.813044</td>\n",
       "    </tr>\n",
       "    <tr>\n",
       "      <th>max</th>\n",
       "      <td>29.421755</td>\n",
       "      <td>18.734063</td>\n",
       "      <td>5.019721</td>\n",
       "      <td>137.945408</td>\n",
       "    </tr>\n",
       "  </tbody>\n",
       "</table>\n",
       "</div>"
      ],
      "text/plain": [
       "                  f0             f1             f2        product\n",
       "count  100000.000000  100000.000000  100000.000000  100000.000000\n",
       "mean        1.141296      -4.796579       2.494541      68.825000\n",
       "std         8.965932       5.119872       1.703572      45.944423\n",
       "min       -31.609576     -26.358598      -0.018144       0.000000\n",
       "25%        -6.298551      -8.267985       1.000021      26.953261\n",
       "50%         1.153055      -4.813172       2.011479      57.085625\n",
       "75%         8.621015      -1.332816       3.999904     107.813044\n",
       "max        29.421755      18.734063       5.019721     137.945408"
      ]
     },
     "execution_count": 9,
     "metadata": {},
     "output_type": "execute_result"
    }
   ],
   "source": [
    "data_1.describe()"
   ]
  },
  {
   "cell_type": "code",
   "execution_count": 10,
   "metadata": {},
   "outputs": [
    {
     "data": {
      "text/plain": [
       "(100000, 5)"
      ]
     },
     "execution_count": 10,
     "metadata": {},
     "output_type": "execute_result"
    }
   ],
   "source": [
    "data_1.shape"
   ]
  },
  {
   "cell_type": "markdown",
   "metadata": {},
   "source": [
    "#### Выведим данные геологоразведки 3 региона"
   ]
  },
  {
   "cell_type": "code",
   "execution_count": 11,
   "metadata": {},
   "outputs": [
    {
     "data": {
      "text/html": [
       "<div>\n",
       "<style scoped>\n",
       "    .dataframe tbody tr th:only-of-type {\n",
       "        vertical-align: middle;\n",
       "    }\n",
       "\n",
       "    .dataframe tbody tr th {\n",
       "        vertical-align: top;\n",
       "    }\n",
       "\n",
       "    .dataframe thead th {\n",
       "        text-align: right;\n",
       "    }\n",
       "</style>\n",
       "<table border=\"1\" class=\"dataframe\">\n",
       "  <thead>\n",
       "    <tr style=\"text-align: right;\">\n",
       "      <th></th>\n",
       "      <th>id</th>\n",
       "      <th>f0</th>\n",
       "      <th>f1</th>\n",
       "      <th>f2</th>\n",
       "      <th>product</th>\n",
       "    </tr>\n",
       "  </thead>\n",
       "  <tbody>\n",
       "    <tr>\n",
       "      <th>0</th>\n",
       "      <td>fwXo0</td>\n",
       "      <td>-1.146987</td>\n",
       "      <td>0.963328</td>\n",
       "      <td>-0.828965</td>\n",
       "      <td>27.758673</td>\n",
       "    </tr>\n",
       "    <tr>\n",
       "      <th>1</th>\n",
       "      <td>WJtFt</td>\n",
       "      <td>0.262778</td>\n",
       "      <td>0.269839</td>\n",
       "      <td>-2.530187</td>\n",
       "      <td>56.069697</td>\n",
       "    </tr>\n",
       "    <tr>\n",
       "      <th>2</th>\n",
       "      <td>ovLUW</td>\n",
       "      <td>0.194587</td>\n",
       "      <td>0.289035</td>\n",
       "      <td>-5.586433</td>\n",
       "      <td>62.871910</td>\n",
       "    </tr>\n",
       "    <tr>\n",
       "      <th>3</th>\n",
       "      <td>q6cA6</td>\n",
       "      <td>2.236060</td>\n",
       "      <td>-0.553760</td>\n",
       "      <td>0.930038</td>\n",
       "      <td>114.572842</td>\n",
       "    </tr>\n",
       "    <tr>\n",
       "      <th>4</th>\n",
       "      <td>WPMUX</td>\n",
       "      <td>-0.515993</td>\n",
       "      <td>1.716266</td>\n",
       "      <td>5.899011</td>\n",
       "      <td>149.600746</td>\n",
       "    </tr>\n",
       "  </tbody>\n",
       "</table>\n",
       "</div>"
      ],
      "text/plain": [
       "      id        f0        f1        f2     product\n",
       "0  fwXo0 -1.146987  0.963328 -0.828965   27.758673\n",
       "1  WJtFt  0.262778  0.269839 -2.530187   56.069697\n",
       "2  ovLUW  0.194587  0.289035 -5.586433   62.871910\n",
       "3  q6cA6  2.236060 -0.553760  0.930038  114.572842\n",
       "4  WPMUX -0.515993  1.716266  5.899011  149.600746"
      ]
     },
     "execution_count": 11,
     "metadata": {},
     "output_type": "execute_result"
    }
   ],
   "source": [
    "data_2.head()"
   ]
  },
  {
   "cell_type": "code",
   "execution_count": 12,
   "metadata": {},
   "outputs": [
    {
     "name": "stdout",
     "output_type": "stream",
     "text": [
      "<class 'pandas.core.frame.DataFrame'>\n",
      "RangeIndex: 100000 entries, 0 to 99999\n",
      "Data columns (total 5 columns):\n",
      " #   Column   Non-Null Count   Dtype  \n",
      "---  ------   --------------   -----  \n",
      " 0   id       100000 non-null  object \n",
      " 1   f0       100000 non-null  float64\n",
      " 2   f1       100000 non-null  float64\n",
      " 3   f2       100000 non-null  float64\n",
      " 4   product  100000 non-null  float64\n",
      "dtypes: float64(4), object(1)\n",
      "memory usage: 3.8+ MB\n"
     ]
    }
   ],
   "source": [
    "data_2.info()"
   ]
  },
  {
   "cell_type": "code",
   "execution_count": 13,
   "metadata": {},
   "outputs": [
    {
     "data": {
      "text/html": [
       "<div>\n",
       "<style scoped>\n",
       "    .dataframe tbody tr th:only-of-type {\n",
       "        vertical-align: middle;\n",
       "    }\n",
       "\n",
       "    .dataframe tbody tr th {\n",
       "        vertical-align: top;\n",
       "    }\n",
       "\n",
       "    .dataframe thead th {\n",
       "        text-align: right;\n",
       "    }\n",
       "</style>\n",
       "<table border=\"1\" class=\"dataframe\">\n",
       "  <thead>\n",
       "    <tr style=\"text-align: right;\">\n",
       "      <th></th>\n",
       "      <th>f0</th>\n",
       "      <th>f1</th>\n",
       "      <th>f2</th>\n",
       "      <th>product</th>\n",
       "    </tr>\n",
       "  </thead>\n",
       "  <tbody>\n",
       "    <tr>\n",
       "      <th>count</th>\n",
       "      <td>100000.000000</td>\n",
       "      <td>100000.000000</td>\n",
       "      <td>100000.000000</td>\n",
       "      <td>100000.000000</td>\n",
       "    </tr>\n",
       "    <tr>\n",
       "      <th>mean</th>\n",
       "      <td>0.002023</td>\n",
       "      <td>-0.002081</td>\n",
       "      <td>2.495128</td>\n",
       "      <td>95.000000</td>\n",
       "    </tr>\n",
       "    <tr>\n",
       "      <th>std</th>\n",
       "      <td>1.732045</td>\n",
       "      <td>1.730417</td>\n",
       "      <td>3.473445</td>\n",
       "      <td>44.749921</td>\n",
       "    </tr>\n",
       "    <tr>\n",
       "      <th>min</th>\n",
       "      <td>-8.760004</td>\n",
       "      <td>-7.084020</td>\n",
       "      <td>-11.970335</td>\n",
       "      <td>0.000000</td>\n",
       "    </tr>\n",
       "    <tr>\n",
       "      <th>25%</th>\n",
       "      <td>-1.162288</td>\n",
       "      <td>-1.174820</td>\n",
       "      <td>0.130359</td>\n",
       "      <td>59.450441</td>\n",
       "    </tr>\n",
       "    <tr>\n",
       "      <th>50%</th>\n",
       "      <td>0.009424</td>\n",
       "      <td>-0.009482</td>\n",
       "      <td>2.484236</td>\n",
       "      <td>94.925613</td>\n",
       "    </tr>\n",
       "    <tr>\n",
       "      <th>75%</th>\n",
       "      <td>1.158535</td>\n",
       "      <td>1.163678</td>\n",
       "      <td>4.858794</td>\n",
       "      <td>130.595027</td>\n",
       "    </tr>\n",
       "    <tr>\n",
       "      <th>max</th>\n",
       "      <td>7.238262</td>\n",
       "      <td>7.844801</td>\n",
       "      <td>16.739402</td>\n",
       "      <td>190.029838</td>\n",
       "    </tr>\n",
       "  </tbody>\n",
       "</table>\n",
       "</div>"
      ],
      "text/plain": [
       "                  f0             f1             f2        product\n",
       "count  100000.000000  100000.000000  100000.000000  100000.000000\n",
       "mean        0.002023      -0.002081       2.495128      95.000000\n",
       "std         1.732045       1.730417       3.473445      44.749921\n",
       "min        -8.760004      -7.084020     -11.970335       0.000000\n",
       "25%        -1.162288      -1.174820       0.130359      59.450441\n",
       "50%         0.009424      -0.009482       2.484236      94.925613\n",
       "75%         1.158535       1.163678       4.858794     130.595027\n",
       "max         7.238262       7.844801      16.739402     190.029838"
      ]
     },
     "execution_count": 13,
     "metadata": {},
     "output_type": "execute_result"
    }
   ],
   "source": [
    "data_2.describe()"
   ]
  },
  {
   "cell_type": "code",
   "execution_count": 14,
   "metadata": {},
   "outputs": [
    {
     "data": {
      "text/plain": [
       "(100000, 5)"
      ]
     },
     "execution_count": 14,
     "metadata": {},
     "output_type": "execute_result"
    }
   ],
   "source": [
    "data_2.shape"
   ]
  },
  {
   "cell_type": "markdown",
   "metadata": {},
   "source": [
    "### Проверим данные"
   ]
  },
  {
   "cell_type": "markdown",
   "metadata": {},
   "source": [
    "#### Проверка датафреймвов на наличие явных дубликатов"
   ]
  },
  {
   "cell_type": "code",
   "execution_count": 15,
   "metadata": {},
   "outputs": [
    {
     "data": {
      "text/plain": [
       "0"
      ]
     },
     "execution_count": 15,
     "metadata": {},
     "output_type": "execute_result"
    }
   ],
   "source": [
    "data_0.duplicated().sum()"
   ]
  },
  {
   "cell_type": "code",
   "execution_count": 16,
   "metadata": {},
   "outputs": [
    {
     "data": {
      "text/plain": [
       "0"
      ]
     },
     "execution_count": 16,
     "metadata": {},
     "output_type": "execute_result"
    }
   ],
   "source": [
    "data_1.duplicated().sum()"
   ]
  },
  {
   "cell_type": "code",
   "execution_count": 17,
   "metadata": {},
   "outputs": [
    {
     "data": {
      "text/plain": [
       "0"
      ]
     },
     "execution_count": 17,
     "metadata": {},
     "output_type": "execute_result"
    }
   ],
   "source": [
    "data_2.duplicated().sum()"
   ]
  },
  {
   "cell_type": "markdown",
   "metadata": {},
   "source": [
    "Проверим дубликаты по id"
   ]
  },
  {
   "cell_type": "code",
   "execution_count": 18,
   "metadata": {},
   "outputs": [
    {
     "data": {
      "text/plain": [
       "10"
      ]
     },
     "execution_count": 18,
     "metadata": {},
     "output_type": "execute_result"
    }
   ],
   "source": [
    "data_0['id'].duplicated().sum()"
   ]
  },
  {
   "cell_type": "code",
   "execution_count": 19,
   "metadata": {},
   "outputs": [
    {
     "data": {
      "text/plain": [
       "bsk9y    2\n",
       "HZww2    2\n",
       "74z30    2\n",
       "QcMuo    2\n",
       "fiKDv    2\n",
       "Tdehs    2\n",
       "bxg6G    2\n",
       "AGS9W    2\n",
       "TtcGQ    2\n",
       "A5aEY    2\n",
       "1wYQX    1\n",
       "YGN2T    1\n",
       "W3RQ1    1\n",
       "EIU1d    1\n",
       "j0flm    1\n",
       "Name: id, dtype: int64"
      ]
     },
     "execution_count": 19,
     "metadata": {},
     "output_type": "execute_result"
    }
   ],
   "source": [
    "data_0['id'].value_counts().head(15)"
   ]
  },
  {
   "cell_type": "code",
   "execution_count": 20,
   "metadata": {},
   "outputs": [
    {
     "data": {
      "text/plain": [
       "4"
      ]
     },
     "execution_count": 20,
     "metadata": {},
     "output_type": "execute_result"
    }
   ],
   "source": [
    "data_1['id'].duplicated().sum()"
   ]
  },
  {
   "cell_type": "code",
   "execution_count": 21,
   "metadata": {},
   "outputs": [
    {
     "data": {
      "text/plain": [
       "5ltQ6    2\n",
       "bfPNe    2\n",
       "wt4Uk    2\n",
       "LHZR0    2\n",
       "lwv6z    1\n",
       "Name: id, dtype: int64"
      ]
     },
     "execution_count": 21,
     "metadata": {},
     "output_type": "execute_result"
    }
   ],
   "source": [
    "data_1['id'].value_counts().head()"
   ]
  },
  {
   "cell_type": "code",
   "execution_count": 22,
   "metadata": {},
   "outputs": [
    {
     "data": {
      "text/plain": [
       "4"
      ]
     },
     "execution_count": 22,
     "metadata": {},
     "output_type": "execute_result"
    }
   ],
   "source": [
    "data_2['id'].duplicated().sum()"
   ]
  },
  {
   "cell_type": "code",
   "execution_count": 23,
   "metadata": {},
   "outputs": [
    {
     "data": {
      "text/plain": [
       "KUPhW    2\n",
       "xCHr8    2\n",
       "VF7Jo    2\n",
       "Vcm5J    2\n",
       "Ess6D    1\n",
       "Name: id, dtype: int64"
      ]
     },
     "execution_count": 23,
     "metadata": {},
     "output_type": "execute_result"
    }
   ],
   "source": [
    "data_2['id'].value_counts().head()"
   ]
  },
  {
   "cell_type": "code",
   "execution_count": 24,
   "metadata": {},
   "outputs": [
    {
     "name": "stdout",
     "output_type": "stream",
     "text": [
      "          id        f0        f1        f2    product\n",
      "1364   bxg6G  0.411645  0.856830 -3.653440  73.604260\n",
      "41724  bxg6G -0.823752  0.546319  3.630479  93.007798\n"
     ]
    }
   ],
   "source": [
    "print(data_0.query('id == \"bxg6G\"'))"
   ]
  },
  {
   "cell_type": "code",
   "execution_count": 25,
   "metadata": {},
   "outputs": [
    {
     "name": "stdout",
     "output_type": "stream",
     "text": [
      "          id         f0         f1        f2     product\n",
      "5849   5ltQ6  -3.435401 -12.296043  1.999796   57.085625\n",
      "84461  5ltQ6  18.213839   2.191999  3.993869  107.813044\n"
     ]
    }
   ],
   "source": [
    "print(data_1.query('id == \"5ltQ6\"'))"
   ]
  },
  {
   "cell_type": "code",
   "execution_count": 26,
   "metadata": {},
   "outputs": [
    {
     "name": "stdout",
     "output_type": "stream",
     "text": [
      "          id        f0        f1        f2     product\n",
      "45404  KUPhW  0.231846 -1.698941  4.990775   11.716299\n",
      "55967  KUPhW  1.211150  3.176408  5.543540  132.831802\n"
     ]
    }
   ],
   "source": [
    "print(data_2.query('id == \"KUPhW\"'))"
   ]
  },
  {
   "cell_type": "markdown",
   "metadata": {},
   "source": [
    "при проверки дубликатов на id было обнаружено несколько дубликатов в 1 скважине 10, во 2 и 3 по 4.\n",
    "Проверив данные по первым дубликатам было обнаружено что ключевые значения f1,f2,f3, product различаются. так как по условиям что данные синтетические: детали контрактов и характеристики месторождений не разглашаются, можно предположить что это искуственная ошибка. И так как дубликатов меньше 0,01% от всех данных, то считаю удалив или оставив их в данных на результат не окажет сильного влияния, поэтому решено оставить дубликаты, тем более что id не входит в ключевые значения."
   ]
  },
  {
   "cell_type": "markdown",
   "metadata": {},
   "source": [
    "#### Проверим пропущенные значения"
   ]
  },
  {
   "cell_type": "code",
   "execution_count": 27,
   "metadata": {},
   "outputs": [
    {
     "data": {
      "text/plain": [
       "id         0\n",
       "f0         0\n",
       "f1         0\n",
       "f2         0\n",
       "product    0\n",
       "dtype: int64"
      ]
     },
     "execution_count": 27,
     "metadata": {},
     "output_type": "execute_result"
    }
   ],
   "source": [
    "data_0.isna().sum()"
   ]
  },
  {
   "cell_type": "code",
   "execution_count": 28,
   "metadata": {},
   "outputs": [
    {
     "data": {
      "text/plain": [
       "id         0\n",
       "f0         0\n",
       "f1         0\n",
       "f2         0\n",
       "product    0\n",
       "dtype: int64"
      ]
     },
     "execution_count": 28,
     "metadata": {},
     "output_type": "execute_result"
    }
   ],
   "source": [
    "data_1.isna().sum()"
   ]
  },
  {
   "cell_type": "code",
   "execution_count": 29,
   "metadata": {},
   "outputs": [
    {
     "data": {
      "text/plain": [
       "id         0\n",
       "f0         0\n",
       "f1         0\n",
       "f2         0\n",
       "product    0\n",
       "dtype: int64"
      ]
     },
     "execution_count": 29,
     "metadata": {},
     "output_type": "execute_result"
    }
   ],
   "source": [
    "data_2.isna().sum()"
   ]
  },
  {
   "cell_type": "markdown",
   "metadata": {},
   "source": [
    "#### Проверим корреляцию данных"
   ]
  },
  {
   "cell_type": "code",
   "execution_count": 30,
   "metadata": {},
   "outputs": [
    {
     "data": {
      "text/html": [
       "<style  type=\"text/css\" >\n",
       "#T_8a926_row0_col0,#T_8a926_row1_col1,#T_8a926_row2_col2,#T_8a926_row3_col3{\n",
       "            background-color:  #b40426;\n",
       "            color:  #f1f1f1;\n",
       "        }#T_8a926_row0_col1,#T_8a926_row0_col2,#T_8a926_row1_col0,#T_8a926_row1_col3{\n",
       "            background-color:  #3b4cc0;\n",
       "            color:  #f1f1f1;\n",
       "        }#T_8a926_row0_col3{\n",
       "            background-color:  #98b9ff;\n",
       "            color:  #000000;\n",
       "        }#T_8a926_row1_col2{\n",
       "            background-color:  #3c4ec2;\n",
       "            color:  #f1f1f1;\n",
       "        }#T_8a926_row2_col0{\n",
       "            background-color:  #9fbfff;\n",
       "            color:  #000000;\n",
       "        }#T_8a926_row2_col1{\n",
       "            background-color:  #a1c0ff;\n",
       "            color:  #000000;\n",
       "        }#T_8a926_row2_col3{\n",
       "            background-color:  #edd2c3;\n",
       "            color:  #000000;\n",
       "        }#T_8a926_row3_col0{\n",
       "            background-color:  #c1d4f4;\n",
       "            color:  #000000;\n",
       "        }#T_8a926_row3_col1{\n",
       "            background-color:  #7295f4;\n",
       "            color:  #000000;\n",
       "        }#T_8a926_row3_col2{\n",
       "            background-color:  #d9dce1;\n",
       "            color:  #000000;\n",
       "        }</style><table id=\"T_8a926_\" ><thead>    <tr>        <th class=\"blank level0\" ></th>        <th class=\"col_heading level0 col0\" >f0</th>        <th class=\"col_heading level0 col1\" >f1</th>        <th class=\"col_heading level0 col2\" >f2</th>        <th class=\"col_heading level0 col3\" >product</th>    </tr></thead><tbody>\n",
       "                <tr>\n",
       "                        <th id=\"T_8a926_level0_row0\" class=\"row_heading level0 row0\" >f0</th>\n",
       "                        <td id=\"T_8a926_row0_col0\" class=\"data row0 col0\" >1.000000</td>\n",
       "                        <td id=\"T_8a926_row0_col1\" class=\"data row0 col1\" >-0.440723</td>\n",
       "                        <td id=\"T_8a926_row0_col2\" class=\"data row0 col2\" >-0.003153</td>\n",
       "                        <td id=\"T_8a926_row0_col3\" class=\"data row0 col3\" >0.143536</td>\n",
       "            </tr>\n",
       "            <tr>\n",
       "                        <th id=\"T_8a926_level0_row1\" class=\"row_heading level0 row1\" >f1</th>\n",
       "                        <td id=\"T_8a926_row1_col0\" class=\"data row1 col0\" >-0.440723</td>\n",
       "                        <td id=\"T_8a926_row1_col1\" class=\"data row1 col1\" >1.000000</td>\n",
       "                        <td id=\"T_8a926_row1_col2\" class=\"data row1 col2\" >0.001724</td>\n",
       "                        <td id=\"T_8a926_row1_col3\" class=\"data row1 col3\" >-0.192356</td>\n",
       "            </tr>\n",
       "            <tr>\n",
       "                        <th id=\"T_8a926_level0_row2\" class=\"row_heading level0 row2\" >f2</th>\n",
       "                        <td id=\"T_8a926_row2_col0\" class=\"data row2 col0\" >-0.003153</td>\n",
       "                        <td id=\"T_8a926_row2_col1\" class=\"data row2 col1\" >0.001724</td>\n",
       "                        <td id=\"T_8a926_row2_col2\" class=\"data row2 col2\" >1.000000</td>\n",
       "                        <td id=\"T_8a926_row2_col3\" class=\"data row2 col3\" >0.483663</td>\n",
       "            </tr>\n",
       "            <tr>\n",
       "                        <th id=\"T_8a926_level0_row3\" class=\"row_heading level0 row3\" >product</th>\n",
       "                        <td id=\"T_8a926_row3_col0\" class=\"data row3 col0\" >0.143536</td>\n",
       "                        <td id=\"T_8a926_row3_col1\" class=\"data row3 col1\" >-0.192356</td>\n",
       "                        <td id=\"T_8a926_row3_col2\" class=\"data row3 col2\" >0.483663</td>\n",
       "                        <td id=\"T_8a926_row3_col3\" class=\"data row3 col3\" >1.000000</td>\n",
       "            </tr>\n",
       "    </tbody></table>"
      ],
      "text/plain": [
       "<pandas.io.formats.style.Styler at 0x7f2b1963fe20>"
      ]
     },
     "execution_count": 30,
     "metadata": {},
     "output_type": "execute_result"
    }
   ],
   "source": [
    "data_0.corr().style.background_gradient(cmap='coolwarm')"
   ]
  },
  {
   "cell_type": "code",
   "execution_count": 31,
   "metadata": {},
   "outputs": [
    {
     "data": {
      "text/html": [
       "<style  type=\"text/css\" >\n",
       "#T_8af0a_row0_col0,#T_8af0a_row1_col1,#T_8af0a_row2_col2,#T_8af0a_row2_col3,#T_8af0a_row3_col2,#T_8af0a_row3_col3{\n",
       "            background-color:  #b40426;\n",
       "            color:  #f1f1f1;\n",
       "        }#T_8af0a_row0_col1{\n",
       "            background-color:  #779af7;\n",
       "            color:  #000000;\n",
       "        }#T_8af0a_row0_col2,#T_8af0a_row0_col3,#T_8af0a_row1_col2,#T_8af0a_row3_col0,#T_8af0a_row3_col1{\n",
       "            background-color:  #3b4cc0;\n",
       "            color:  #f1f1f1;\n",
       "        }#T_8af0a_row1_col0{\n",
       "            background-color:  #7da0f9;\n",
       "            color:  #000000;\n",
       "        }#T_8af0a_row1_col3{\n",
       "            background-color:  #4055c8;\n",
       "            color:  #f1f1f1;\n",
       "        }#T_8af0a_row2_col0{\n",
       "            background-color:  #4358cb;\n",
       "            color:  #f1f1f1;\n",
       "        }#T_8af0a_row2_col1{\n",
       "            background-color:  #3c4ec2;\n",
       "            color:  #f1f1f1;\n",
       "        }</style><table id=\"T_8af0a_\" ><thead>    <tr>        <th class=\"blank level0\" ></th>        <th class=\"col_heading level0 col0\" >f0</th>        <th class=\"col_heading level0 col1\" >f1</th>        <th class=\"col_heading level0 col2\" >f2</th>        <th class=\"col_heading level0 col3\" >product</th>    </tr></thead><tbody>\n",
       "                <tr>\n",
       "                        <th id=\"T_8af0a_level0_row0\" class=\"row_heading level0 row0\" >f0</th>\n",
       "                        <td id=\"T_8af0a_row0_col0\" class=\"data row0 col0\" >1.000000</td>\n",
       "                        <td id=\"T_8af0a_row0_col1\" class=\"data row0 col1\" >0.182287</td>\n",
       "                        <td id=\"T_8af0a_row0_col2\" class=\"data row0 col2\" >-0.001777</td>\n",
       "                        <td id=\"T_8af0a_row0_col3\" class=\"data row0 col3\" >-0.030491</td>\n",
       "            </tr>\n",
       "            <tr>\n",
       "                        <th id=\"T_8af0a_level0_row1\" class=\"row_heading level0 row1\" >f1</th>\n",
       "                        <td id=\"T_8af0a_row1_col0\" class=\"data row1 col0\" >0.182287</td>\n",
       "                        <td id=\"T_8af0a_row1_col1\" class=\"data row1 col1\" >1.000000</td>\n",
       "                        <td id=\"T_8af0a_row1_col2\" class=\"data row1 col2\" >-0.002595</td>\n",
       "                        <td id=\"T_8af0a_row1_col3\" class=\"data row1 col3\" >-0.010155</td>\n",
       "            </tr>\n",
       "            <tr>\n",
       "                        <th id=\"T_8af0a_level0_row2\" class=\"row_heading level0 row2\" >f2</th>\n",
       "                        <td id=\"T_8af0a_row2_col0\" class=\"data row2 col0\" >-0.001777</td>\n",
       "                        <td id=\"T_8af0a_row2_col1\" class=\"data row2 col1\" >-0.002595</td>\n",
       "                        <td id=\"T_8af0a_row2_col2\" class=\"data row2 col2\" >1.000000</td>\n",
       "                        <td id=\"T_8af0a_row2_col3\" class=\"data row2 col3\" >0.999397</td>\n",
       "            </tr>\n",
       "            <tr>\n",
       "                        <th id=\"T_8af0a_level0_row3\" class=\"row_heading level0 row3\" >product</th>\n",
       "                        <td id=\"T_8af0a_row3_col0\" class=\"data row3 col0\" >-0.030491</td>\n",
       "                        <td id=\"T_8af0a_row3_col1\" class=\"data row3 col1\" >-0.010155</td>\n",
       "                        <td id=\"T_8af0a_row3_col2\" class=\"data row3 col2\" >0.999397</td>\n",
       "                        <td id=\"T_8af0a_row3_col3\" class=\"data row3 col3\" >1.000000</td>\n",
       "            </tr>\n",
       "    </tbody></table>"
      ],
      "text/plain": [
       "<pandas.io.formats.style.Styler at 0x7f2b1964b1c0>"
      ]
     },
     "execution_count": 31,
     "metadata": {},
     "output_type": "execute_result"
    }
   ],
   "source": [
    "data_1.corr().style.background_gradient(cmap='coolwarm')"
   ]
  },
  {
   "cell_type": "code",
   "execution_count": 32,
   "metadata": {},
   "outputs": [
    {
     "data": {
      "text/html": [
       "<style  type=\"text/css\" >\n",
       "#T_a245f_row0_col0,#T_a245f_row1_col1,#T_a245f_row2_col2,#T_a245f_row3_col3{\n",
       "            background-color:  #b40426;\n",
       "            color:  #f1f1f1;\n",
       "        }#T_a245f_row0_col1,#T_a245f_row0_col2,#T_a245f_row0_col3,#T_a245f_row1_col0,#T_a245f_row1_col2,#T_a245f_row1_col3,#T_a245f_row2_col0,#T_a245f_row2_col1,#T_a245f_row3_col0,#T_a245f_row3_col1{\n",
       "            background-color:  #3b4cc0;\n",
       "            color:  #f1f1f1;\n",
       "        }#T_a245f_row2_col3,#T_a245f_row3_col2{\n",
       "            background-color:  #cedaeb;\n",
       "            color:  #000000;\n",
       "        }</style><table id=\"T_a245f_\" ><thead>    <tr>        <th class=\"blank level0\" ></th>        <th class=\"col_heading level0 col0\" >f0</th>        <th class=\"col_heading level0 col1\" >f1</th>        <th class=\"col_heading level0 col2\" >f2</th>        <th class=\"col_heading level0 col3\" >product</th>    </tr></thead><tbody>\n",
       "                <tr>\n",
       "                        <th id=\"T_a245f_level0_row0\" class=\"row_heading level0 row0\" >f0</th>\n",
       "                        <td id=\"T_a245f_row0_col0\" class=\"data row0 col0\" >1.000000</td>\n",
       "                        <td id=\"T_a245f_row0_col1\" class=\"data row0 col1\" >0.000528</td>\n",
       "                        <td id=\"T_a245f_row0_col2\" class=\"data row0 col2\" >-0.000448</td>\n",
       "                        <td id=\"T_a245f_row0_col3\" class=\"data row0 col3\" >-0.001987</td>\n",
       "            </tr>\n",
       "            <tr>\n",
       "                        <th id=\"T_a245f_level0_row1\" class=\"row_heading level0 row1\" >f1</th>\n",
       "                        <td id=\"T_a245f_row1_col0\" class=\"data row1 col0\" >0.000528</td>\n",
       "                        <td id=\"T_a245f_row1_col1\" class=\"data row1 col1\" >1.000000</td>\n",
       "                        <td id=\"T_a245f_row1_col2\" class=\"data row1 col2\" >0.000779</td>\n",
       "                        <td id=\"T_a245f_row1_col3\" class=\"data row1 col3\" >-0.001012</td>\n",
       "            </tr>\n",
       "            <tr>\n",
       "                        <th id=\"T_a245f_level0_row2\" class=\"row_heading level0 row2\" >f2</th>\n",
       "                        <td id=\"T_a245f_row2_col0\" class=\"data row2 col0\" >-0.000448</td>\n",
       "                        <td id=\"T_a245f_row2_col1\" class=\"data row2 col1\" >0.000779</td>\n",
       "                        <td id=\"T_a245f_row2_col2\" class=\"data row2 col2\" >1.000000</td>\n",
       "                        <td id=\"T_a245f_row2_col3\" class=\"data row2 col3\" >0.445871</td>\n",
       "            </tr>\n",
       "            <tr>\n",
       "                        <th id=\"T_a245f_level0_row3\" class=\"row_heading level0 row3\" >product</th>\n",
       "                        <td id=\"T_a245f_row3_col0\" class=\"data row3 col0\" >-0.001987</td>\n",
       "                        <td id=\"T_a245f_row3_col1\" class=\"data row3 col1\" >-0.001012</td>\n",
       "                        <td id=\"T_a245f_row3_col2\" class=\"data row3 col2\" >0.445871</td>\n",
       "                        <td id=\"T_a245f_row3_col3\" class=\"data row3 col3\" >1.000000</td>\n",
       "            </tr>\n",
       "    </tbody></table>"
      ],
      "text/plain": [
       "<pandas.io.formats.style.Styler at 0x7f2b194b2d30>"
      ]
     },
     "execution_count": 32,
     "metadata": {},
     "output_type": "execute_result"
    }
   ],
   "source": [
    "data_2.corr().style.background_gradient(cmap='coolwarm')"
   ]
  },
  {
   "cell_type": "markdown",
   "metadata": {},
   "source": [
    "Построим гистограммы распределения"
   ]
  },
  {
   "cell_type": "code",
   "execution_count": 33,
   "metadata": {},
   "outputs": [
    {
     "data": {
      "image/png": "[encoded data removed]",
      "text/plain": [
       "<Figure size 864x576 with 4 Axes>"
      ]
     },
     "metadata": {
      "needs_background": "light"
     },
     "output_type": "display_data"
    }
   ],
   "source": [
    "data_0.hist(bins=50, figsize = (12,8), color='blue');"
   ]
  },
  {
   "cell_type": "code",
   "execution_count": 34,
   "metadata": {},
   "outputs": [
    {
     "data": {
      "image/png": "[encoded data removed]",
      "text/plain": [
       "<Figure size 864x576 with 4 Axes>"
      ]
     },
     "metadata": {
      "needs_background": "light"
     },
     "output_type": "display_data"
    }
   ],
   "source": [
    "data_1.hist(bins=50, figsize = (12,8), color='blue');"
   ]
  },
  {
   "cell_type": "code",
   "execution_count": 35,
   "metadata": {},
   "outputs": [
    {
     "data": {
      "image/png": "[encoded data removed]",
      "text/plain": [
       "<Figure size 864x576 with 4 Axes>"
      ]
     },
     "metadata": {
      "needs_background": "light"
     },
     "output_type": "display_data"
    }
   ],
   "source": [
    "data_2.hist(bins=50, figsize = (12,8), color='blue');"
   ]
  },
  {
   "cell_type": "markdown",
   "metadata": {},
   "source": [
    "Распределение данных в разных регионах сильно различаются между собой. Во втором регионе сильно выделяются данные по f2 и product"
   ]
  },
  {
   "cell_type": "markdown",
   "metadata": {},
   "source": [
    "### Построим графики распределния данных"
   ]
  },
  {
   "cell_type": "code",
   "execution_count": 36,
   "metadata": {},
   "outputs": [
    {
     "data": {
      "image/png": "[encoded data removed]",
      "text/plain": [
       "<Figure size 864x504 with 1 Axes>"
      ]
     },
     "metadata": {
      "needs_background": "light"
     },
     "output_type": "display_data"
    }
   ],
   "source": [
    "plt.title('Графики распределения запасов сырья в регионах')\n",
    "ax=data_0['product'].plot(kind='hist',figsize=(12,7),grid=True, legend=True, alpha=0.7, histtype='step', linewidth=5, label='1 регион')\n",
    "ax1=data_1['product'].plot(kind='hist',figsize=(12,7),grid=True, legend=True, alpha=0.7,histtype='step', linewidth=5, label='2 регион', ax=ax)\n",
    "data_2['product'].plot(kind='hist',figsize=(12,7),grid=True, legend=True, alpha=0.7,histtype='step', linewidth=5, label='3 регион', ax=ax1)\n",
    "plt.xlabel('Распределение данных по запасам сырья в регионах')\n",
    "plt.ylabel('Запасы сырья, тыс.баррелей')\n",
    "plt.show()"
   ]
  },
  {
   "cell_type": "code",
   "execution_count": 37,
   "metadata": {},
   "outputs": [
    {
     "data": {
      "image/png": "[encoded data removed]",
      "text/plain": [
       "<Figure size 864x504 with 1 Axes>"
      ]
     },
     "metadata": {
      "needs_background": "light"
     },
     "output_type": "display_data"
    }
   ],
   "source": [
    "plt.title('Графики распределения по признаку f0')\n",
    "ax=data_0['f0'].plot(kind='hist',figsize=(12,7),grid=True, legend=True, alpha=0.7, histtype='step', linewidth=5, label='1 регион')\n",
    "ax1=data_1['f0'].plot(kind='hist',figsize=(12,7),grid=True, legend=True, alpha=0.7,histtype='step', linewidth=5, label='2 регион', ax=ax)\n",
    "data_2['f0'].plot(kind='hist',figsize=(12,7),grid=True, legend=True, alpha=0.7,histtype='step', linewidth=5, label='3 регион', ax=ax1)\n",
    "plt.xlabel('Распределение данных по признаку f0')\n",
    "plt.ylabel('Значение')\n",
    "plt.show()"
   ]
  },
  {
   "cell_type": "code",
   "execution_count": 38,
   "metadata": {},
   "outputs": [
    {
     "data": {
      "image/png": "[encoded data removed]",
      "text/plain": [
       "<Figure size 864x504 with 1 Axes>"
      ]
     },
     "metadata": {
      "needs_background": "light"
     },
     "output_type": "display_data"
    }
   ],
   "source": [
    "plt.title('Графики распределения по признаку f1')\n",
    "ax=data_0['f1'].plot(kind='hist',figsize=(12,7),grid=True, legend=True, alpha=0.7, histtype='step', linewidth=5, label='1 регион')\n",
    "ax1=data_1['f1'].plot(kind='hist',figsize=(12,7),grid=True, legend=True, alpha=0.7,histtype='step', linewidth=5, label='2 регион', ax=ax)\n",
    "data_2['f1'].plot(kind='hist',figsize=(12,7),grid=True, legend=True, alpha=0.7,histtype='step', linewidth=5, label='3 регион', ax=ax1)\n",
    "plt.xlabel('Распределение данных по признаку f1')\n",
    "plt.ylabel('Значение')\n",
    "plt.show()"
   ]
  },
  {
   "cell_type": "code",
   "execution_count": 39,
   "metadata": {},
   "outputs": [
    {
     "data": {
      "image/png": "[encoded data removed]",
      "text/plain": [
       "<Figure size 864x504 with 1 Axes>"
      ]
     },
     "metadata": {
      "needs_background": "light"
     },
     "output_type": "display_data"
    }
   ],
   "source": [
    "plt.title('Графики распределения по признаку f2')\n",
    "ax=data_0['f2'].plot(kind='hist',figsize=(12,7),grid=True, legend=True, alpha=0.7, histtype='step', linewidth=5, label='1 регион')\n",
    "ax1=data_1['f2'].plot(kind='hist',figsize=(12,7),grid=True, legend=True, alpha=0.7,histtype='step', linewidth=5, label='2 регион', ax=ax)\n",
    "data_2['f2'].plot(kind='hist',figsize=(12,7),grid=True, legend=True, alpha=0.7,histtype='step', linewidth=5, label='3 регион', ax=ax1)\n",
    "plt.xlabel('Распределение данных по признаку f2')\n",
    "plt.ylabel('Значение')\n",
    "plt.show()"
   ]
  },
  {
   "cell_type": "markdown",
   "metadata": {},
   "source": [
    "### Выводы"
   ]
  },
  {
   "cell_type": "markdown",
   "metadata": {},
   "source": [
    "На данном этапе работы была проведена загрузка, изучение и подготовка данных:\n",
    "- загрузили данные о регионах\n",
    "- Получили информацию о данных\n",
    "- Размер трёх выборок одинаковый, данные представлены в одном мастштабе\n",
    "- Все признаки являются численными\n",
    "- Названия столбцов не стали менять, так как соответсвуют стилю\n",
    "- дубликатов и пропусков не обнаружено\n",
    "- проверили типы данных.\n",
    "- Провели проверку кореляции данных, В датасете data1 обнаружили очень сильную, с коэффициентом корреляции Пирсона равным 1,зависимость между f2 и product\n",
    "- Построили график распределении данных по запасам сырья в регионах\n",
    "\n",
    "Для обучения моделей следует использовать линейную регрессию, поэтому Масштабирование численных признаков проводить не нужно."
   ]
  },
  {
   "cell_type": "markdown",
   "metadata": {},
   "source": [
    "## Обучение и проверка модели"
   ]
  },
  {
   "cell_type": "markdown",
   "metadata": {},
   "source": [
    "на данном этапе нам необходимо:\n",
    "- Разбить данные на обучающую и валидационную выборки в соотношении 75:25.\n",
    "- Обучить модель и сделать предсказания на валидационной выборке.\n",
    "- Сохранить предсказания и правильные ответы на валидационной выборке.\n",
    "- Напечатать на экране средний запас предсказанного сырья и RMSE модели.\n",
    "- Проанализировать результаты."
   ]
  },
  {
   "cell_type": "markdown",
   "metadata": {},
   "source": [
    "### Разобьем данные на обучающую и валидационную выборки в соотношении 75:25"
   ]
  },
  {
   "cell_type": "markdown",
   "metadata": {},
   "source": [
    "#### Разобьем данные 1 региона"
   ]
  },
  {
   "cell_type": "code",
   "execution_count": 40,
   "metadata": {},
   "outputs": [
    {
     "data": {
      "text/plain": [
       "(75000, 5)"
      ]
     },
     "metadata": {},
     "output_type": "display_data"
    },
    {
     "data": {
      "text/plain": [
       "(25000, 5)"
      ]
     },
     "execution_count": 40,
     "metadata": {},
     "output_type": "execute_result"
    }
   ],
   "source": [
    "data_0_train, data_0_valid = train_test_split(data_0, test_size=.25, random_state=12345)\n",
    "display(data_0_train.shape)\n",
    "data_0_valid.shape"
   ]
  },
  {
   "cell_type": "code",
   "execution_count": 41,
   "metadata": {},
   "outputs": [],
   "source": [
    "features_train_0 = data_0_train.drop(['id', 'product'], axis=1)\n",
    "target_train_0 = data_0_train['product']\n",
    "features_valid_0 = data_0_valid.drop(['id', 'product'], axis=1)\n",
    "target_valid_0 = data_0_valid['product']"
   ]
  },
  {
   "cell_type": "markdown",
   "metadata": {},
   "source": [
    "#### Разобьем данные 2 региона"
   ]
  },
  {
   "cell_type": "code",
   "execution_count": 42,
   "metadata": {},
   "outputs": [
    {
     "data": {
      "text/plain": [
       "(75000, 5)"
      ]
     },
     "metadata": {},
     "output_type": "display_data"
    },
    {
     "data": {
      "text/plain": [
       "(25000, 5)"
      ]
     },
     "execution_count": 42,
     "metadata": {},
     "output_type": "execute_result"
    }
   ],
   "source": [
    "data_1_train, data_1_valid = train_test_split(data_1, test_size=.25, random_state=12345)\n",
    "display(data_1_train.shape)\n",
    "data_1_valid.shape"
   ]
  },
  {
   "cell_type": "code",
   "execution_count": 43,
   "metadata": {},
   "outputs": [],
   "source": [
    "features_train_1 = data_1_train.drop(['id', 'product'], axis=1)\n",
    "target_train_1 = data_1_train['product']\n",
    "features_valid_1 = data_1_valid.drop(['id', 'product'], axis=1)\n",
    "target_valid_1 = data_1_valid['product']"
   ]
  },
  {
   "cell_type": "markdown",
   "metadata": {},
   "source": [
    "#### Разобьем данные 3 региона"
   ]
  },
  {
   "cell_type": "code",
   "execution_count": 44,
   "metadata": {},
   "outputs": [
    {
     "data": {
      "text/plain": [
       "(75000, 5)"
      ]
     },
     "metadata": {},
     "output_type": "display_data"
    },
    {
     "data": {
      "text/plain": [
       "(25000, 5)"
      ]
     },
     "execution_count": 44,
     "metadata": {},
     "output_type": "execute_result"
    }
   ],
   "source": [
    "data_2_train, data_2_valid = train_test_split(data_2, test_size=.25, random_state=12345)\n",
    "display(data_2_train.shape)\n",
    "data_2_valid.shape"
   ]
  },
  {
   "cell_type": "code",
   "execution_count": 45,
   "metadata": {},
   "outputs": [],
   "source": [
    "features_train_2 = data_2_train.drop(['id', 'product'], axis=1)\n",
    "target_train_2 = data_2_train['product']\n",
    "features_valid_2 = data_2_valid.drop(['id', 'product'], axis=1)\n",
    "target_valid_2 = data_2_valid['product']"
   ]
  },
  {
   "cell_type": "markdown",
   "metadata": {},
   "source": [
    "### Обучение модели"
   ]
  },
  {
   "cell_type": "markdown",
   "metadata": {},
   "source": [
    "#### Обучение модели 1 региона "
   ]
  },
  {
   "cell_type": "code",
   "execution_count": 46,
   "metadata": {},
   "outputs": [],
   "source": [
    "model_0=LinearRegression()\n",
    "model_0.fit(features_train_0,target_train_0)\n",
    "predict_0=model_0.predict(features_valid_0)"
   ]
  },
  {
   "cell_type": "markdown",
   "metadata": {},
   "source": [
    "Вычисления корня из среднеквадратичной ошибки (RMSE)"
   ]
  },
  {
   "cell_type": "code",
   "execution_count": 47,
   "metadata": {},
   "outputs": [
    {
     "name": "stdout",
     "output_type": "stream",
     "text": [
      "Среднеквадратичная ошибка RMSE: 37.58\n"
     ]
    }
   ],
   "source": [
    "rmse_0 = mean_squared_error(target_valid_0, predict_0)**0.5\n",
    "print('Среднеквадратичная ошибка RMSE: %.2f'% rmse_0)"
   ]
  },
  {
   "cell_type": "markdown",
   "metadata": {},
   "source": [
    "Найдем коэффициент детерминации"
   ]
  },
  {
   "cell_type": "code",
   "execution_count": 48,
   "metadata": {},
   "outputs": [
    {
     "name": "stdout",
     "output_type": "stream",
     "text": [
      "Коэффициент детерминации: 0.28\n"
     ]
    }
   ],
   "source": [
    "print('Коэффициент детерминации: %.2f' % r2_score(target_valid_0, predict_0))"
   ]
  },
  {
   "cell_type": "markdown",
   "metadata": {},
   "source": [
    "Вычисление среднего запаса предсказанного сырья"
   ]
  },
  {
   "cell_type": "code",
   "execution_count": 49,
   "metadata": {},
   "outputs": [
    {
     "name": "stdout",
     "output_type": "stream",
     "text": [
      "средний запас предсказанного сырья: 92.59256778438035 тыс. баррелей\n"
     ]
    }
   ],
   "source": [
    "product_pred_mean_0 = predict_0.mean()\n",
    "print('средний запас предсказанного сырья:', product_pred_mean_0, 'тыс. баррелей')"
   ]
  },
  {
   "cell_type": "markdown",
   "metadata": {},
   "source": [
    "#### Обучение модели 2 региона "
   ]
  },
  {
   "cell_type": "code",
   "execution_count": 50,
   "metadata": {},
   "outputs": [],
   "source": [
    "model_1 = LinearRegression()\n",
    "model_1.fit(features_train_1, target_train_1)\n",
    "predict_1 = model_1.predict(features_valid_1)"
   ]
  },
  {
   "cell_type": "markdown",
   "metadata": {},
   "source": [
    "Вычисления корня из среднеквадратичной ошибки (RMSE)"
   ]
  },
  {
   "cell_type": "code",
   "execution_count": 51,
   "metadata": {},
   "outputs": [
    {
     "data": {
      "text/plain": [
       "0.893099286775617"
      ]
     },
     "execution_count": 51,
     "metadata": {},
     "output_type": "execute_result"
    }
   ],
   "source": [
    "rmse_1 = mean_squared_error(target_valid_1, predict_1) ** .5\n",
    "rmse_1"
   ]
  },
  {
   "cell_type": "markdown",
   "metadata": {},
   "source": [
    "Найдем коэффициент детерминации"
   ]
  },
  {
   "cell_type": "code",
   "execution_count": 52,
   "metadata": {},
   "outputs": [
    {
     "name": "stdout",
     "output_type": "stream",
     "text": [
      "Коэффициент детерминации: 1.00\n"
     ]
    }
   ],
   "source": [
    "print('Коэффициент детерминации: %.2f' % r2_score(target_valid_1, predict_1))"
   ]
  },
  {
   "cell_type": "markdown",
   "metadata": {},
   "source": [
    "Вычисление среднего запаса предсказанного сырья"
   ]
  },
  {
   "cell_type": "code",
   "execution_count": 53,
   "metadata": {},
   "outputs": [
    {
     "name": "stdout",
     "output_type": "stream",
     "text": [
      "средний запас предсказанного сырья: 68.728546895446 тыс. баррелей\n"
     ]
    }
   ],
   "source": [
    "product_pred_mean_1 = predict_1.mean()\n",
    "print('средний запас предсказанного сырья:', product_pred_mean_1, 'тыс. баррелей')"
   ]
  },
  {
   "cell_type": "markdown",
   "metadata": {},
   "source": [
    "#### Обучение модели 3 региона "
   ]
  },
  {
   "cell_type": "code",
   "execution_count": 54,
   "metadata": {},
   "outputs": [],
   "source": [
    "model_2 = LinearRegression()\n",
    "model_2.fit(features_train_2, target_train_2)\n",
    "predict_2 = model_2.predict(features_valid_2)"
   ]
  },
  {
   "cell_type": "markdown",
   "metadata": {},
   "source": [
    "Вычисления корня из среднеквадратичной ошибки (RMSE)"
   ]
  },
  {
   "cell_type": "code",
   "execution_count": 55,
   "metadata": {},
   "outputs": [
    {
     "data": {
      "text/plain": [
       "40.02970873393434"
      ]
     },
     "execution_count": 55,
     "metadata": {},
     "output_type": "execute_result"
    }
   ],
   "source": [
    "rmse_2 = mean_squared_error(target_valid_2, predict_2) ** .5\n",
    "rmse_2"
   ]
  },
  {
   "cell_type": "markdown",
   "metadata": {},
   "source": [
    "Найдем коэффициент детерминации"
   ]
  },
  {
   "cell_type": "code",
   "execution_count": 56,
   "metadata": {},
   "outputs": [
    {
     "name": "stdout",
     "output_type": "stream",
     "text": [
      "Коэффициент детерминации: 0.21\n"
     ]
    }
   ],
   "source": [
    "print('Коэффициент детерминации: %.2f' % r2_score(target_valid_2, predict_2))"
   ]
  },
  {
   "cell_type": "markdown",
   "metadata": {},
   "source": [
    "Вычисление среднего запаса предсказанного сырья"
   ]
  },
  {
   "cell_type": "code",
   "execution_count": 57,
   "metadata": {},
   "outputs": [
    {
     "name": "stdout",
     "output_type": "stream",
     "text": [
      "средний запас предсказанного сырья: 94.96504596800489 тыс. баррелей\n"
     ]
    }
   ],
   "source": [
    "product_pred_mean_2 = predict_2.mean()\n",
    "print('средний запас предсказанного сырья:', product_pred_mean_2, 'тыс. баррелей')"
   ]
  },
  {
   "cell_type": "markdown",
   "metadata": {},
   "source": [
    "Сгруппируем ответы"
   ]
  },
  {
   "cell_type": "code",
   "execution_count": 58,
   "metadata": {},
   "outputs": [
    {
     "data": {
      "text/html": [
       "<div>\n",
       "<style scoped>\n",
       "    .dataframe tbody tr th:only-of-type {\n",
       "        vertical-align: middle;\n",
       "    }\n",
       "\n",
       "    .dataframe tbody tr th {\n",
       "        vertical-align: top;\n",
       "    }\n",
       "\n",
       "    .dataframe thead th {\n",
       "        text-align: right;\n",
       "    }\n",
       "</style>\n",
       "<table border=\"1\" class=\"dataframe\">\n",
       "  <thead>\n",
       "    <tr style=\"text-align: right;\">\n",
       "      <th></th>\n",
       "      <th>1 регион</th>\n",
       "      <th>2 регион</th>\n",
       "      <th>3 регион</th>\n",
       "    </tr>\n",
       "  </thead>\n",
       "  <tbody>\n",
       "    <tr>\n",
       "      <th>средний запас предсказанного сырья</th>\n",
       "      <td>92.592568</td>\n",
       "      <td>68.728547</td>\n",
       "      <td>94.965046</td>\n",
       "    </tr>\n",
       "    <tr>\n",
       "      <th>RMSE модели</th>\n",
       "      <td>37.579422</td>\n",
       "      <td>0.893099</td>\n",
       "      <td>40.029709</td>\n",
       "    </tr>\n",
       "  </tbody>\n",
       "</table>\n",
       "</div>"
      ],
      "text/plain": [
       "                                     1 регион   2 регион   3 регион\n",
       "средний запас предсказанного сырья  92.592568  68.728547  94.965046\n",
       "RMSE модели                         37.579422   0.893099  40.029709"
      ]
     },
     "execution_count": 58,
     "metadata": {},
     "output_type": "execute_result"
    }
   ],
   "source": [
    "comparison_tabl = pd.DataFrame(index=['средний запас предсказанного сырья',\n",
    "                                      'RMSE модели'], columns=['1 регион','2 регион','3 регион'])\n",
    "comparison_tabl['1 регион'] = predict_0.mean(), rmse_0\n",
    "comparison_tabl['2 регион'] = predict_1.mean(), rmse_1\n",
    "comparison_tabl['3 регион'] = predict_2.mean(), rmse_2\n",
    "comparison_tabl"
   ]
  },
  {
   "cell_type": "markdown",
   "metadata": {},
   "source": [
    "На данном этапе были обучены модели и проверены на качество предсказания метрикой RMSE, которая определяет величину среднеквадратичной ошибки в предсказании модели:\n",
    "\n",
    "Разделены все данные на обучающую и валидационную выборки в соотношении 75:25.\n",
    "\n",
    "Выполнены предсказания на валидационной выборке.\n",
    "\n",
    "Для каждого региона обучена модель логистической регрессии и получены предсказания среднего запаса сырья в скважине:\n",
    "- Предсказанный средний запас сырья в скважине первого региона 92.6 при отклонении 37.6\n",
    "- Предсказанный средний запас сырья в скважине второго региона 68.7 при отклонении 0.89\n",
    "- Предсказанный средний запас сырья в скважине третьего региона 95 при отконении 40\n",
    "\n",
    "\n",
    "Исходя из полученных данных в нашей сводной таблицы, можно заметить, что величина RMSE во втором регионе сильно отличается от двух других. Наименьшее отклонение во втором регионе, но в нём в среднем меньше запасов сырья. "
   ]
  },
  {
   "cell_type": "markdown",
   "metadata": {},
   "source": [
    "## Подготовка к расчёту прибыли"
   ]
  },
  {
   "cell_type": "markdown",
   "metadata": {},
   "source": [
    "План работы:\n",
    "\n",
    "3.1. Все ключевые значения для расчётов сохраните в отдельных переменных.\n",
    "\n",
    "3.2. Рассчитайте достаточный объём сырья для безубыточной разработки новой скважины. Сравните полученный объём сырья со средним запасом в каждом регионе.\n",
    "\n",
    "3.3. Напишите выводы по этапу подготовки расчёта прибыли."
   ]
  },
  {
   "cell_type": "markdown",
   "metadata": {},
   "source": [
    "### Все ключевые значения для расчётов сохраним в отдельных переменных"
   ]
  },
  {
   "cell_type": "markdown",
   "metadata": {},
   "source": [
    "При разведке региона исследуюем 500 точек, из которых с помощью машинного обучения выберем 200 лучших для разработки.\n",
    "Бюджет на разработку скважин в регионе — 10 млрд рублей.\n",
    "При нынешних ценах один баррель сырья приносит 450 рублей дохода. Доход с каждой единицы продукта составляет 450 тыс.\n",
    "рублей, поскольку объём указан в тысячах баррелей.\n",
    "После оценки рисков оставим лишь те регионы, в которых вероятность убытков меньше 2.5%. Среди них выберем регион с наибольшей средней прибылью."
   ]
  },
  {
   "cell_type": "code",
   "execution_count": 59,
   "metadata": {},
   "outputs": [],
   "source": [
    "BUDGET = 10000000 #Бюджет на разработку скважин в регионе, тыс.руб\n",
    "INCOME_ONE_PROD = 450 #Доход с каждой единицы продукта, тыс.руб\n",
    "POINT_RESEARCH = 500 #Точки исследования.\n",
    "DEVELOPMENT_POINTS = 200 #Точки разработки.\n",
    "target_probability_losses = 2.5/100 # вероятность убытков\n",
    "product_mean_0 = data_0['product'].mean()\n",
    "product_mean_1 = data_1['product'].mean()\n",
    "product_mean_2 = data_2['product'].mean()"
   ]
  },
  {
   "cell_type": "code",
   "execution_count": 60,
   "metadata": {},
   "outputs": [
    {
     "name": "stdout",
     "output_type": "stream",
     "text": [
      "Cредний запас сырья в 1 регионе: 92.50 тыс.баррелей\n",
      "Cредний запас сырья в 2 регионе: 68.83 тыс.баррелей\n",
      "Cредний запас сырья в 3 регионе: 95.00 тыс.баррелей\n"
     ]
    }
   ],
   "source": [
    "print('Cредний запас сырья в 1 регионе: %.2f тыс.баррелей'%product_mean_0)\n",
    "print('Cредний запас сырья в 2 регионе: %.2f тыс.баррелей'%product_mean_1)\n",
    "print('Cредний запас сырья в 3 регионе: %.2f тыс.баррелей'%product_mean_2)"
   ]
  },
  {
   "cell_type": "code",
   "execution_count": 61,
   "metadata": {},
   "outputs": [
    {
     "name": "stdout",
     "output_type": "stream",
     "text": [
      "Бюджет на разработку одной скважины: 50.0 млн.руб\n"
     ]
    }
   ],
   "source": [
    "budg_per_1_point=(BUDGET/DEVELOPMENT_POINTS)# тыс.руб\n",
    "print('Бюджет на разработку одной скважины:', budg_per_1_point/1000,'млн.руб')"
   ]
  },
  {
   "cell_type": "markdown",
   "metadata": {},
   "source": [
    "### Рассчитаем достаточный объём сырья для безубыточной разработки новой скважины"
   ]
  },
  {
   "cell_type": "code",
   "execution_count": 62,
   "metadata": {},
   "outputs": [
    {
     "name": "stdout",
     "output_type": "stream",
     "text": [
      "Объём каждой скважины для безубыточной разработки должен составлять не менее: 111.11 тыс.баррелей\n"
     ]
    }
   ],
   "source": [
    "d_o=budg_per_1_point/INCOME_ONE_PROD\n",
    "print('Объём каждой скважины для безубыточной разработки должен составлять не менее: %.2f'%d_o,'тыс.баррелей')"
   ]
  },
  {
   "cell_type": "markdown",
   "metadata": {},
   "source": [
    "### Сравним полученный объём сырья со средним запасом в каждом регионе"
   ]
  },
  {
   "cell_type": "markdown",
   "metadata": {},
   "source": [
    "1 регион"
   ]
  },
  {
   "cell_type": "code",
   "execution_count": 63,
   "metadata": {},
   "outputs": [
    {
     "data": {
      "text/html": [
       "<div>\n",
       "<style scoped>\n",
       "    .dataframe tbody tr th:only-of-type {\n",
       "        vertical-align: middle;\n",
       "    }\n",
       "\n",
       "    .dataframe tbody tr th {\n",
       "        vertical-align: top;\n",
       "    }\n",
       "\n",
       "    .dataframe thead th {\n",
       "        text-align: right;\n",
       "    }\n",
       "</style>\n",
       "<table border=\"1\" class=\"dataframe\">\n",
       "  <thead>\n",
       "    <tr style=\"text-align: right;\">\n",
       "      <th></th>\n",
       "      <th>id</th>\n",
       "      <th>f0</th>\n",
       "      <th>f1</th>\n",
       "      <th>f2</th>\n",
       "      <th>product</th>\n",
       "      <th>profit</th>\n",
       "    </tr>\n",
       "  </thead>\n",
       "  <tbody>\n",
       "    <tr>\n",
       "      <th>0</th>\n",
       "      <td>txEyH</td>\n",
       "      <td>0.705745</td>\n",
       "      <td>-0.497823</td>\n",
       "      <td>1.221170</td>\n",
       "      <td>105.280062</td>\n",
       "      <td>47376.03</td>\n",
       "    </tr>\n",
       "    <tr>\n",
       "      <th>1</th>\n",
       "      <td>2acmU</td>\n",
       "      <td>1.334711</td>\n",
       "      <td>-0.340164</td>\n",
       "      <td>4.365080</td>\n",
       "      <td>73.037750</td>\n",
       "      <td>32866.99</td>\n",
       "    </tr>\n",
       "    <tr>\n",
       "      <th>2</th>\n",
       "      <td>409Wp</td>\n",
       "      <td>1.022732</td>\n",
       "      <td>0.151990</td>\n",
       "      <td>1.419926</td>\n",
       "      <td>85.265647</td>\n",
       "      <td>38369.54</td>\n",
       "    </tr>\n",
       "    <tr>\n",
       "      <th>3</th>\n",
       "      <td>iJLyR</td>\n",
       "      <td>-0.032172</td>\n",
       "      <td>0.139033</td>\n",
       "      <td>2.978566</td>\n",
       "      <td>168.620776</td>\n",
       "      <td>75879.35</td>\n",
       "    </tr>\n",
       "    <tr>\n",
       "      <th>4</th>\n",
       "      <td>Xdl7t</td>\n",
       "      <td>1.988431</td>\n",
       "      <td>0.155413</td>\n",
       "      <td>4.751769</td>\n",
       "      <td>154.036647</td>\n",
       "      <td>69316.49</td>\n",
       "    </tr>\n",
       "  </tbody>\n",
       "</table>\n",
       "</div>"
      ],
      "text/plain": [
       "      id        f0        f1        f2     product    profit\n",
       "0  txEyH  0.705745 -0.497823  1.221170  105.280062  47376.03\n",
       "1  2acmU  1.334711 -0.340164  4.365080   73.037750  32866.99\n",
       "2  409Wp  1.022732  0.151990  1.419926   85.265647  38369.54\n",
       "3  iJLyR -0.032172  0.139033  2.978566  168.620776  75879.35\n",
       "4  Xdl7t  1.988431  0.155413  4.751769  154.036647  69316.49"
      ]
     },
     "execution_count": 63,
     "metadata": {},
     "output_type": "execute_result"
    }
   ],
   "source": [
    "data_0['profit']=(data_0['product']*(INCOME_ONE_PROD)).round(2) # profit, тыс.руб\n",
    "data_0.head()"
   ]
  },
  {
   "cell_type": "code",
   "execution_count": 64,
   "metadata": {},
   "outputs": [
    {
     "name": "stdout",
     "output_type": "stream",
     "text": [
      "Разница объёма сырья для безубыточной разработки скважины по 1 региону составляет 18.61 тыс.баррелей\n"
     ]
    }
   ],
   "source": [
    "print('Разница объёма сырья для безубыточной разработки '\n",
    "      'скважины по 1 региону составляет {:.2f} тыс.баррелей'.format(d_o-product_mean_0))"
   ]
  },
  {
   "cell_type": "markdown",
   "metadata": {},
   "source": [
    "2 регион"
   ]
  },
  {
   "cell_type": "code",
   "execution_count": 65,
   "metadata": {},
   "outputs": [
    {
     "data": {
      "text/html": [
       "<div>\n",
       "<style scoped>\n",
       "    .dataframe tbody tr th:only-of-type {\n",
       "        vertical-align: middle;\n",
       "    }\n",
       "\n",
       "    .dataframe tbody tr th {\n",
       "        vertical-align: top;\n",
       "    }\n",
       "\n",
       "    .dataframe thead th {\n",
       "        text-align: right;\n",
       "    }\n",
       "</style>\n",
       "<table border=\"1\" class=\"dataframe\">\n",
       "  <thead>\n",
       "    <tr style=\"text-align: right;\">\n",
       "      <th></th>\n",
       "      <th>id</th>\n",
       "      <th>f0</th>\n",
       "      <th>f1</th>\n",
       "      <th>f2</th>\n",
       "      <th>product</th>\n",
       "      <th>profit</th>\n",
       "    </tr>\n",
       "  </thead>\n",
       "  <tbody>\n",
       "    <tr>\n",
       "      <th>0</th>\n",
       "      <td>kBEdx</td>\n",
       "      <td>-15.001348</td>\n",
       "      <td>-8.276000</td>\n",
       "      <td>-0.005876</td>\n",
       "      <td>3.179103</td>\n",
       "      <td>1430.60</td>\n",
       "    </tr>\n",
       "    <tr>\n",
       "      <th>1</th>\n",
       "      <td>62mP7</td>\n",
       "      <td>14.272088</td>\n",
       "      <td>-3.475083</td>\n",
       "      <td>0.999183</td>\n",
       "      <td>26.953261</td>\n",
       "      <td>12128.97</td>\n",
       "    </tr>\n",
       "    <tr>\n",
       "      <th>2</th>\n",
       "      <td>vyE1P</td>\n",
       "      <td>6.263187</td>\n",
       "      <td>-5.948386</td>\n",
       "      <td>5.001160</td>\n",
       "      <td>134.766305</td>\n",
       "      <td>60644.84</td>\n",
       "    </tr>\n",
       "    <tr>\n",
       "      <th>3</th>\n",
       "      <td>KcrkZ</td>\n",
       "      <td>-13.081196</td>\n",
       "      <td>-11.506057</td>\n",
       "      <td>4.999415</td>\n",
       "      <td>137.945408</td>\n",
       "      <td>62075.43</td>\n",
       "    </tr>\n",
       "    <tr>\n",
       "      <th>4</th>\n",
       "      <td>AHL4O</td>\n",
       "      <td>12.702195</td>\n",
       "      <td>-8.147433</td>\n",
       "      <td>5.004363</td>\n",
       "      <td>134.766305</td>\n",
       "      <td>60644.84</td>\n",
       "    </tr>\n",
       "  </tbody>\n",
       "</table>\n",
       "</div>"
      ],
      "text/plain": [
       "      id         f0         f1        f2     product    profit\n",
       "0  kBEdx -15.001348  -8.276000 -0.005876    3.179103   1430.60\n",
       "1  62mP7  14.272088  -3.475083  0.999183   26.953261  12128.97\n",
       "2  vyE1P   6.263187  -5.948386  5.001160  134.766305  60644.84\n",
       "3  KcrkZ -13.081196 -11.506057  4.999415  137.945408  62075.43\n",
       "4  AHL4O  12.702195  -8.147433  5.004363  134.766305  60644.84"
      ]
     },
     "execution_count": 65,
     "metadata": {},
     "output_type": "execute_result"
    }
   ],
   "source": [
    "data_1['profit']=(data_1['product']*(INCOME_ONE_PROD)).round(2) # profit, тыс.руб\n",
    "data_1.head()"
   ]
  },
  {
   "cell_type": "code",
   "execution_count": 66,
   "metadata": {},
   "outputs": [
    {
     "name": "stdout",
     "output_type": "stream",
     "text": [
      "Разница объёма сырья для безубыточной разработки скважины по 2 региону составляет 42.29 тыс.баррелей\n"
     ]
    }
   ],
   "source": [
    "print('Разница объёма сырья для безубыточной разработки '\n",
    "      'скважины по 2 региону составляет {:.2f} тыс.баррелей'.format(d_o-product_mean_1))"
   ]
  },
  {
   "cell_type": "markdown",
   "metadata": {},
   "source": [
    "2 регион"
   ]
  },
  {
   "cell_type": "code",
   "execution_count": 67,
   "metadata": {},
   "outputs": [
    {
     "data": {
      "text/html": [
       "<div>\n",
       "<style scoped>\n",
       "    .dataframe tbody tr th:only-of-type {\n",
       "        vertical-align: middle;\n",
       "    }\n",
       "\n",
       "    .dataframe tbody tr th {\n",
       "        vertical-align: top;\n",
       "    }\n",
       "\n",
       "    .dataframe thead th {\n",
       "        text-align: right;\n",
       "    }\n",
       "</style>\n",
       "<table border=\"1\" class=\"dataframe\">\n",
       "  <thead>\n",
       "    <tr style=\"text-align: right;\">\n",
       "      <th></th>\n",
       "      <th>id</th>\n",
       "      <th>f0</th>\n",
       "      <th>f1</th>\n",
       "      <th>f2</th>\n",
       "      <th>product</th>\n",
       "      <th>profit</th>\n",
       "    </tr>\n",
       "  </thead>\n",
       "  <tbody>\n",
       "    <tr>\n",
       "      <th>0</th>\n",
       "      <td>fwXo0</td>\n",
       "      <td>-1.146987</td>\n",
       "      <td>0.963328</td>\n",
       "      <td>-0.828965</td>\n",
       "      <td>27.758673</td>\n",
       "      <td>12491.40</td>\n",
       "    </tr>\n",
       "    <tr>\n",
       "      <th>1</th>\n",
       "      <td>WJtFt</td>\n",
       "      <td>0.262778</td>\n",
       "      <td>0.269839</td>\n",
       "      <td>-2.530187</td>\n",
       "      <td>56.069697</td>\n",
       "      <td>25231.36</td>\n",
       "    </tr>\n",
       "    <tr>\n",
       "      <th>2</th>\n",
       "      <td>ovLUW</td>\n",
       "      <td>0.194587</td>\n",
       "      <td>0.289035</td>\n",
       "      <td>-5.586433</td>\n",
       "      <td>62.871910</td>\n",
       "      <td>28292.36</td>\n",
       "    </tr>\n",
       "    <tr>\n",
       "      <th>3</th>\n",
       "      <td>q6cA6</td>\n",
       "      <td>2.236060</td>\n",
       "      <td>-0.553760</td>\n",
       "      <td>0.930038</td>\n",
       "      <td>114.572842</td>\n",
       "      <td>51557.78</td>\n",
       "    </tr>\n",
       "    <tr>\n",
       "      <th>4</th>\n",
       "      <td>WPMUX</td>\n",
       "      <td>-0.515993</td>\n",
       "      <td>1.716266</td>\n",
       "      <td>5.899011</td>\n",
       "      <td>149.600746</td>\n",
       "      <td>67320.34</td>\n",
       "    </tr>\n",
       "  </tbody>\n",
       "</table>\n",
       "</div>"
      ],
      "text/plain": [
       "      id        f0        f1        f2     product    profit\n",
       "0  fwXo0 -1.146987  0.963328 -0.828965   27.758673  12491.40\n",
       "1  WJtFt  0.262778  0.269839 -2.530187   56.069697  25231.36\n",
       "2  ovLUW  0.194587  0.289035 -5.586433   62.871910  28292.36\n",
       "3  q6cA6  2.236060 -0.553760  0.930038  114.572842  51557.78\n",
       "4  WPMUX -0.515993  1.716266  5.899011  149.600746  67320.34"
      ]
     },
     "execution_count": 67,
     "metadata": {},
     "output_type": "execute_result"
    }
   ],
   "source": [
    "data_2['profit']=(data_2['product']*(INCOME_ONE_PROD)).round(2) # profit, тыс.руб\n",
    "data_2.head()"
   ]
  },
  {
   "cell_type": "code",
   "execution_count": 68,
   "metadata": {},
   "outputs": [
    {
     "name": "stdout",
     "output_type": "stream",
     "text": [
      "Разница объёма сырья для безубыточной разработки скважины по 3 региону составляет 16.11 тыс.баррелей\n"
     ]
    }
   ],
   "source": [
    "print('Разница объёма сырья для безубыточной разработки '\n",
    "      'скважины по 3 региону составляет {:.2f} тыс.баррелей'.format(d_o-product_mean_2))"
   ]
  },
  {
   "cell_type": "markdown",
   "metadata": {},
   "source": [
    "Выводы\n",
    "    \n",
    "На данном этапе работы был вычислин необходимый запас для безубыточной разработки должен составлять не менее - 111 тыс.баррелей\n",
    "Исходя из полученных данных\n",
    "- 1 регион на 18,6 тыс. бараллей меньше необходимого \n",
    "- 2 регион на 42,3 тыс. бараллей меньше необходимого\n",
    "- 3 регион на 16,1 тыс. бараллей меньше необходимого\n",
    "\n",
    "становится очевидно, что среднее количество запасов сырья по регионам недостаточное даже для окупаемости разработки, требуется выбрать скважины с максимальными запасами"
   ]
  },
  {
   "cell_type": "markdown",
   "metadata": {},
   "source": [
    "## Расчёт прибыли и рисков "
   ]
  },
  {
   "cell_type": "markdown",
   "metadata": {},
   "source": [
    "Напишите функцию для расчёта прибыли по выбранным скважинам и предсказаниям модели:\n",
    "\n",
    " 4.1. Выберите скважины с максимальными значениями предсказаний. \n",
    " \n",
    " 4.2. Просуммируйте целевое значение объёма сырья, соответствующее этим предсказаниям.\n",
    " \n",
    " 4.3. Рассчитайте прибыль для полученного объёма сырья."
   ]
  },
  {
   "cell_type": "markdown",
   "metadata": {},
   "source": [
    "### Выберем скважины с максимальными значениями предсказаний"
   ]
  },
  {
   "cell_type": "code",
   "execution_count": 69,
   "metadata": {},
   "outputs": [
    {
     "data": {
      "text/plain": [
       "array([ 95.89495185,  77.57258261,  77.89263965, ...,  61.50983303,\n",
       "       118.18039721, 118.16939229])"
      ]
     },
     "execution_count": 69,
     "metadata": {},
     "output_type": "execute_result"
    }
   ],
   "source": [
    "predict_0"
   ]
  },
  {
   "cell_type": "markdown",
   "metadata": {},
   "source": [
    "Выполним привязку индексов скважин к предсказаниям модели и отсорируем список по убыванию"
   ]
  },
  {
   "cell_type": "code",
   "execution_count": 70,
   "metadata": {},
   "outputs": [
    {
     "data": {
      "text/plain": [
       "93073    180.180713\n",
       "46784    176.252213\n",
       "78948    175.850623\n",
       "43388    175.658429\n",
       "6496     173.299686\n",
       "            ...    \n",
       "30488    148.507064\n",
       "98799    148.481767\n",
       "53840    148.476498\n",
       "4638     148.436761\n",
       "75908    148.365941\n",
       "Length: 200, dtype: float64"
      ]
     },
     "execution_count": 70,
     "metadata": {},
     "output_type": "execute_result"
    }
   ],
   "source": [
    "probs_sorted_0 = pd.Series(predict_0, index=target_valid_0.index).sort_values(ascending=False)\n",
    "selected_max_0 = probs_sorted_0[:DEVELOPMENT_POINTS]\n",
    "selected_max_0"
   ]
  },
  {
   "cell_type": "markdown",
   "metadata": {},
   "source": [
    "### Просуммируем целевое значение объёма сырья, соответствующее этим предсказаниям"
   ]
  },
  {
   "cell_type": "markdown",
   "metadata": {},
   "source": [
    "т.к. затраты на разработку будут пущены только на 200 скважин, просуммируем показатели скважин исходя из максимальных значений предсказаний нашей модели по объёму сырья для получения максимальной прибыли."
   ]
  },
  {
   "cell_type": "code",
   "execution_count": 71,
   "metadata": {},
   "outputs": [
    {
     "name": "stdout",
     "output_type": "stream",
     "text": [
      "Суммарный запас сырья в 200 лучших скважинах составит: 31102.33 тыс.баррелей\n"
     ]
    }
   ],
   "source": [
    "selected_max_0_sum = selected_max_0.sum()\n",
    "print('Суммарный запас сырья в',DEVELOPMENT_POINTS,'лучших скважинах составит: %.2f тыс.баррелей'%selected_max_0_sum)"
   ]
  },
  {
   "cell_type": "markdown",
   "metadata": {},
   "source": [
    "### Рассчитаем прибыль для полученного объёма сырья."
   ]
  },
  {
   "cell_type": "code",
   "execution_count": 72,
   "metadata": {},
   "outputs": [
    {
     "name": "stdout",
     "output_type": "stream",
     "text": [
      "Прибыль для полученного объёма сырья составит 3996048.88 тыс.рублей\n"
     ]
    }
   ],
   "source": [
    "profit_pred_0=(selected_max_0_sum*INCOME_ONE_PROD)-BUDGET\n",
    "print('Прибыль для полученного объёма сырья составит %.2f тыс.рублей'%profit_pred_0)"
   ]
  },
  {
   "cell_type": "markdown",
   "metadata": {},
   "source": [
    "Создадим функцию для вычисления данных"
   ]
  },
  {
   "cell_type": "code",
   "execution_count": 73,
   "metadata": {},
   "outputs": [],
   "source": [
    "def profit_for_vp(predict,target,count):\n",
    "    probs_sorted = pd.Series(predict, index=target.index).sort_values(ascending=False)\n",
    "    selected_max = probs_sorted[:count].sum().round(2)\n",
    "    profit_pred=(selected_max*INCOME_ONE_PROD)-BUDGET\n",
    "    print('Суммарный запас сырья в', DEVELOPMENT_POINTS,'лучших скважинах составит: %.2f тыс.баррелей'%selected_max)\n",
    "    print('Прибыль для полученного объёма сырья составит %.2f млн.рублей'%(profit_pred/1000))\n",
    "    return selected_max"
   ]
  },
  {
   "cell_type": "markdown",
   "metadata": {},
   "source": [
    "Рассчитаем суммарный запас и прибыль для 1 региона"
   ]
  },
  {
   "cell_type": "code",
   "execution_count": 74,
   "metadata": {},
   "outputs": [
    {
     "name": "stdout",
     "output_type": "stream",
     "text": [
      "Суммарный запас сырья в 200 лучших скважинах составит: 31102.33 тыс.баррелей\n",
      "Прибыль для полученного объёма сырья составит 3996.05 млн.рублей\n"
     ]
    }
   ],
   "source": [
    "selected_max_0=profit_for_vp(predict_0,target_valid_0,DEVELOPMENT_POINTS)"
   ]
  },
  {
   "cell_type": "markdown",
   "metadata": {},
   "source": [
    "Рассчитаем суммарный запас и прибыль для 2 региона"
   ]
  },
  {
   "cell_type": "code",
   "execution_count": 75,
   "metadata": {},
   "outputs": [
    {
     "name": "stdout",
     "output_type": "stream",
     "text": [
      "Суммарный запас сырья в 200 лучших скважинах составит: 27746.03 тыс.баррелей\n",
      "Прибыль для полученного объёма сырья составит 2485.71 млн.рублей\n"
     ]
    }
   ],
   "source": [
    "selected_max_1=profit_for_vp(predict_1,target_valid_1,DEVELOPMENT_POINTS)"
   ]
  },
  {
   "cell_type": "markdown",
   "metadata": {},
   "source": [
    "Рассчитаем суммарный запас и прибыль для 3 региона"
   ]
  },
  {
   "cell_type": "code",
   "execution_count": 76,
   "metadata": {},
   "outputs": [
    {
     "name": "stdout",
     "output_type": "stream",
     "text": [
      "Суммарный запас сырья в 200 лучших скважинах составит: 29603.90 тыс.баррелей\n",
      "Прибыль для полученного объёма сырья составит 3321.76 млн.рублей\n"
     ]
    }
   ],
   "source": [
    "selected_max_2=profit_for_vp(predict_2,target_valid_2,DEVELOPMENT_POINTS)"
   ]
  },
  {
   "cell_type": "markdown",
   "metadata": {},
   "source": [
    "Вывод:\n",
    "\n",
    "В данном этапе работы:\n",
    "- Создали функцию для расчёта прибыли по выбранным скважинам и предсказаниям модели:\n",
    "- Выбали скважины с максимальными значениями предсказаний. \n",
    "- Просуммировали целевое значение объёма сырья, соответствующее этим предсказаниям.\n",
    "- Рассчитали прибыль для полученного объёма сырья.\n",
    "\n",
    "в 1 регионе:\n",
    "\n",
    "Суммарный запас сырья в 200 лучших скважинах составит: 31102.33 тыс.баррелей\n",
    "Прибыль для полученного объёма сырья составит 3996.05 млн.рублей\n",
    "\n",
    "во 2 регионе\n",
    "\n",
    "Суммарный запас сырья в 200 лучших скважинах составит: 27746.03 тыс.баррелей\n",
    "Прибыль для полученного объёма сырья составит 2485.71 млн.рублей\n",
    "\n",
    "в 3 регионе \n",
    "\n",
    "Суммарный запас сырья в 200 лучших скважинах составит: 29603.90 тыс.баррелей\n",
    "Прибыль для полученного объёма сырья составит 3321.75 млн.рублей\n",
    "\n",
    "все три региона потенциально прибыльные, для определения наиболее выгодного с точки зрения окупаемости вложений и рисков убытка проведём расчёт вероятности в следующем разделе."
   ]
  },
  {
   "cell_type": "markdown",
   "metadata": {},
   "source": [
    "## Посчитать риски и прибыль для каждого региона:"
   ]
  },
  {
   "cell_type": "markdown",
   "metadata": {},
   "source": [
    "План работы:\n",
    "    \n",
    "- Примените технику Bootstrap с 1000 выборок, чтобы найти распределение прибыли.\n",
    "- Найдите среднюю прибыль, 95%-й доверительный интервал и риск убытков. Убыток — это отрицательная прибыль.\n",
    "- Напишите выводы: предложите регион для разработки скважин и обоснуйте выбор."
   ]
  },
  {
   "cell_type": "code",
   "execution_count": 77,
   "metadata": {},
   "outputs": [],
   "source": [
    "def profit_for_vp2(predict,target,count):\n",
    "    probs_sorted = pd.Series(predict).sort_values(ascending=False)\n",
    "    selected_points = target[probs_sorted.index][:count]\n",
    "    product = selected_points.sum()\n",
    "    revenue = product * INCOME_ONE_PROD\n",
    "    return revenue - BUDGET"
   ]
  },
  {
   "cell_type": "code",
   "execution_count": 78,
   "metadata": {},
   "outputs": [],
   "source": [
    "def bootstap_1000(target,predict):\n",
    "    values = []\n",
    "    count=0\n",
    "    state = np.random.RandomState(12345)\n",
    "    predict_e = pd.Series(predict, index=target.index)\n",
    "    \n",
    "    for i in tqdm(range(1000)):\n",
    "        target_subsample = target.sample(n=POINT_RESEARCH,replace=True, random_state=state)\n",
    "  \n",
    "        probs_subsample = predict_e[target_subsample.index]\n",
    "        values.append(profit_for_vp2(probs_subsample,target_subsample, DEVELOPMENT_POINTS))\n",
    "    for i in values:\n",
    "        if i < 0:\n",
    "            count +=1\n",
    "            \n",
    "    values = pd.Series(values)\n",
    "    mean = values.mean()\n",
    "    confidence_interval = st.t.interval(0.95, len(values)-1, values.mean(), values.sem())\n",
    "    low_95 = values.quantile(0.025)\n",
    "    high_95 = values.quantile(0.975)\n",
    "    \n",
    "    plt.title('Распределение прибыли')\n",
    "    values.plot(kind=\"hist\", grid=True, figsize=(8,5))\n",
    "    plt.axvline(x=mean, color='b', label='axvline - full height')\n",
    "    plt.axvline(x=low_95, color='b', label='axvline - full height')\n",
    "    plt.axvline(x=high_95, color='b', label='axvline - full height')\n",
    "    plt.xlabel('Прибыль, тыс.руб')\n",
    "    plt.ylabel('Количество')\n",
    "    plt.show()\n",
    "    \n",
    "    \n",
    "    P = (mean/1000).round(2)\n",
    "    Y = (count/1000)*100\n",
    "    print(\"Средняя прибыль: {:.2f} млн.руб\".format(mean/1000))\n",
    "    print('С вероятностью 95% прибыль в данном регионе будет составлять от: {:.2f} млн.руб до: {:.2f} млн.руб'.format((low_95/1000),(high_95/1000)))\n",
    "    print(\"95%-ый доверительный интервал: от {:.2f} млн.руб до {:.2f} млн.руб\". format((confidence_interval[0]/1000),(confidence_interval[1]/1000)))\n",
    "    print ('Процент вероятности убытка в данном регионе составит {:.1%}'.format(count/1000))\n",
    "    return P,Y,values"
   ]
  },
  {
   "cell_type": "markdown",
   "metadata": {},
   "source": [
    "Распределение прибыли 1 регион"
   ]
  },
  {
   "cell_type": "code",
   "execution_count": 79,
   "metadata": {},
   "outputs": [
    {
     "data": {
      "application/vnd.jupyter.widget-view+json": {
       "model_id": "1188fdbce6ec49c6af9b31b7bd844777",
       "version_major": 2,
       "version_minor": 0
      },
      "text/plain": [
       "  0%|          | 0/1000 [00:00<?, ?it/s]"
      ]
     },
     "metadata": {},
     "output_type": "display_data"
    },
    {
     "data": {
      "image/png": "[encoded data removed]",
      "text/plain": [
       "<Figure size 576x360 with 1 Axes>"
      ]
     },
     "metadata": {
      "needs_background": "light"
     },
     "output_type": "display_data"
    },
    {
     "name": "stdout",
     "output_type": "stream",
     "text": [
      "Средняя прибыль: 425.94 млн.руб\n",
      "С вероятностью 95% прибыль в данном регионе будет составлять от: -102.09 млн.руб до: 947.98 млн.руб\n",
      "95%-ый доверительный интервал: от 408.73 млн.руб до 443.14 млн.руб\n",
      "Процент вероятности убытка в данном регионе составит 6.0%\n"
     ]
    }
   ],
   "source": [
    "P_0, Y_0, values_0=bootstap_1000(target_valid_0,predict_0)"
   ]
  },
  {
   "cell_type": "markdown",
   "metadata": {},
   "source": [
    "Распределение прибыли 2 регион"
   ]
  },
  {
   "cell_type": "code",
   "execution_count": 80,
   "metadata": {},
   "outputs": [
    {
     "data": {
      "application/vnd.jupyter.widget-view+json": {
       "model_id": "1f906e31c7064689acf150889f1b3416",
       "version_major": 2,
       "version_minor": 0
      },
      "text/plain": [
       "  0%|          | 0/1000 [00:00<?, ?it/s]"
      ]
     },
     "metadata": {},
     "output_type": "display_data"
    },
    {
     "data": {
      "image/png": "[encoded data removed]",
      "text/plain": [
       "<Figure size 576x360 with 1 Axes>"
      ]
     },
     "metadata": {
      "needs_background": "light"
     },
     "output_type": "display_data"
    },
    {
     "name": "stdout",
     "output_type": "stream",
     "text": [
      "Средняя прибыль: 515.22 млн.руб\n",
      "С вероятностью 95% прибыль в данном регионе будет составлять от: 68.87 млн.руб до: 931.55 млн.руб\n",
      "95%-ый доверительный интервал: от 501.62 млн.руб до 528.82 млн.руб\n",
      "Процент вероятности убытка в данном регионе составит 1.0%\n"
     ]
    }
   ],
   "source": [
    "P_1, Y_1, values_1=bootstap_1000(target_valid_1,predict_1)"
   ]
  },
  {
   "cell_type": "markdown",
   "metadata": {},
   "source": [
    "Распределение прибыли 3 регион"
   ]
  },
  {
   "cell_type": "code",
   "execution_count": 81,
   "metadata": {},
   "outputs": [
    {
     "data": {
      "application/vnd.jupyter.widget-view+json": {
       "model_id": "1dff3b8394414e0ba1174a205ec95ac1",
       "version_major": 2,
       "version_minor": 0
      },
      "text/plain": [
       "  0%|          | 0/1000 [00:00<?, ?it/s]"
      ]
     },
     "metadata": {},
     "output_type": "display_data"
    },
    {
     "data": {
      "image/png": "[encoded data removed]",
      "text/plain": [
       "<Figure size 576x360 with 1 Axes>"
      ]
     },
     "metadata": {
      "needs_background": "light"
     },
     "output_type": "display_data"
    },
    {
     "name": "stdout",
     "output_type": "stream",
     "text": [
      "Средняя прибыль: 435.01 млн.руб\n",
      "С вероятностью 95% прибыль в данном регионе будет составлять от: -128.88 млн.руб до: 969.71 млн.руб\n",
      "95%-ый доверительный интервал: от 417.45 млн.руб до 452.56 млн.руб\n",
      "Процент вероятности убытка в данном регионе составит 6.4%\n"
     ]
    }
   ],
   "source": [
    "P_2, Y_2, values_2=bootstap_1000(target_valid_2,predict_2)"
   ]
  },
  {
   "cell_type": "markdown",
   "metadata": {},
   "source": [
    "После оценки рисков оставим лишь те регионы, в которых вероятность убытков меньше 2.5%. Среди них выберем регион с наибольшей средней прибылью"
   ]
  },
  {
   "cell_type": "markdown",
   "metadata": {},
   "source": [
    "Сравним среднюю прибыль, вероятность убытка и суммарный запас сырья трёх представленных регионов в таблице"
   ]
  },
  {
   "cell_type": "code",
   "execution_count": 82,
   "metadata": {},
   "outputs": [
    {
     "data": {
      "text/html": [
       "<div>\n",
       "<style scoped>\n",
       "    .dataframe tbody tr th:only-of-type {\n",
       "        vertical-align: middle;\n",
       "    }\n",
       "\n",
       "    .dataframe tbody tr th {\n",
       "        vertical-align: top;\n",
       "    }\n",
       "\n",
       "    .dataframe thead th {\n",
       "        text-align: right;\n",
       "    }\n",
       "</style>\n",
       "<table border=\"1\" class=\"dataframe\">\n",
       "  <thead>\n",
       "    <tr style=\"text-align: right;\">\n",
       "      <th></th>\n",
       "      <th>1 регион</th>\n",
       "      <th>2 регион</th>\n",
       "      <th>3 регион</th>\n",
       "    </tr>\n",
       "  </thead>\n",
       "  <tbody>\n",
       "    <tr>\n",
       "      <th>Средняя прибыль в регионе, млн.руб</th>\n",
       "      <td>425.94</td>\n",
       "      <td>515.22</td>\n",
       "      <td>435.01</td>\n",
       "    </tr>\n",
       "    <tr>\n",
       "      <th>Суммарный запас сырья, тыс.баррелей</th>\n",
       "      <td>31102.33</td>\n",
       "      <td>27746.03</td>\n",
       "      <td>29603.90</td>\n",
       "    </tr>\n",
       "    <tr>\n",
       "      <th>Вероятность убытка, %</th>\n",
       "      <td>6.00</td>\n",
       "      <td>1.00</td>\n",
       "      <td>6.40</td>\n",
       "    </tr>\n",
       "  </tbody>\n",
       "</table>\n",
       "</div>"
      ],
      "text/plain": [
       "                                     1 регион  2 регион  3 регион\n",
       "Средняя прибыль в регионе, млн.руб     425.94    515.22    435.01\n",
       "Суммарный запас сырья, тыс.баррелей  31102.33  27746.03  29603.90\n",
       "Вероятность убытка, %                    6.00      1.00      6.40"
      ]
     },
     "execution_count": 82,
     "metadata": {},
     "output_type": "execute_result"
    }
   ],
   "source": [
    "comparison_tabl = pd.DataFrame(index=['Средняя прибыль в регионе, млн.руб','Суммарный запас сырья, тыс.баррелей','Вероятность убытка, %'], columns=['1 регион','2 регион','3 регион'])\n",
    "comparison_tabl['1 регион'] = P_0, selected_max_0,Y_0\n",
    "comparison_tabl['2 регион'] = P_1, selected_max_1,Y_1\n",
    "comparison_tabl['3 регион'] = P_2, selected_max_2,Y_2\n",
    "comparison_tabl"
   ]
  },
  {
   "cell_type": "code",
   "execution_count": 83,
   "metadata": {},
   "outputs": [
    {
     "data": {
      "image/png": "[encoded data removed]",
      "text/plain": [
       "<Figure size 576x360 with 1 Axes>"
      ]
     },
     "metadata": {
      "needs_background": "light"
     },
     "output_type": "display_data"
    }
   ],
   "source": [
    "comparison_tabl.astype('float').iloc[0,:].plot(kind=\"bar\", figsize=(8,5), grid=True, alpha=0.7, subplots=True)\n",
    "plt.title('Средняя прибыль трёх представленных регионов')\n",
    "plt.ylabel('Средняя прибыль в регионе, млн.руб')\n",
    "plt.show()"
   ]
  },
  {
   "cell_type": "code",
   "execution_count": 84,
   "metadata": {},
   "outputs": [
    {
     "data": {
      "image/png": "[encoded data removed]",
      "text/plain": [
       "<Figure size 432x432 with 1 Axes>"
      ]
     },
     "metadata": {},
     "output_type": "display_data"
    }
   ],
   "source": [
    "comparison_tabl.astype('float').iloc[1,:].plot(kind='pie', figsize=(6,6),autopct='%1.1f%%', subplots=True)\n",
    "plt.title('Суммарный запас сырья, тыс.баррелей')\n",
    "plt.ylabel('')\n",
    "plt.show()"
   ]
  },
  {
   "cell_type": "markdown",
   "metadata": {},
   "source": [
    "Вывод\n",
    "\n",
    "в данном разделе были произведены следующие действия:\n",
    "- Применили технику Bootstrap с 1000 выборок, чтобы найти распределение прибыли.\n",
    "- Нашли среднюю прибыль, 95%-й доверительный интервал и риск убытков. Убыток — это отрицательная прибыль.\n",
    "\n",
    "Согласно распределению среднего значения прибыли с региона, самым прибыльным оказался 2 регион, средняя прибыль в этом регионе составит 515,22 млн.рублей, вероятность убытков 1%, что меньше 2.5%.\n",
    "\n",
    "Два других региона не прошли отбор по минимально допустимому порогу убытка в 2,5%. Таким образом не смотря на сравнительно меньшие запасы сырья 27746.03 тыс.баррелей, по сравнению с другими регионами, средняя доходность со скважин во втором регионе прогнозируется выше других."
   ]
  },
  {
   "cell_type": "markdown",
   "metadata": {},
   "source": [
    "## Дополнительное задание"
   ]
  },
  {
   "cell_type": "markdown",
   "metadata": {},
   "source": [
    "оценить риски для процесса с использованием модели и со случайным выбором 200 скважин в каждом регионе, сделать визуализацию распределений прибыли, совместив два графика (с моделью и без) для каждого региона"
   ]
  },
  {
   "cell_type": "markdown",
   "metadata": {},
   "source": [
    "создадим случайный список 200 скважин на примере 1 региона"
   ]
  },
  {
   "cell_type": "code",
   "execution_count": 85,
   "metadata": {},
   "outputs": [
    {
     "data": {
      "text/plain": [
       "47996     50.515938\n",
       "62485     30.604098\n",
       "33511     64.593173\n",
       "8347     138.784277\n",
       "46546     71.897955\n",
       "            ...    \n",
       "88230    104.858384\n",
       "34627     23.845100\n",
       "69970    104.436363\n",
       "59021    136.949097\n",
       "40791    157.963444\n",
       "Name: product, Length: 200, dtype: float64"
      ]
     },
     "execution_count": 85,
     "metadata": {},
     "output_type": "execute_result"
    }
   ],
   "source": [
    "# Создаем pandas Series из predict_0 с индексами из target_valid_0.index\n",
    "probs_sorted_0_0 = pd.Series(data_0['product'], index=target_valid_0.index)\n",
    "\n",
    "# Случайная перестановка всех элементов в Series\n",
    "probs_sorted_0_0_random = probs_sorted_0_0.sample(frac=1)\n",
    "selected_random = probs_sorted_0_0_random[:DEVELOPMENT_POINTS]\n",
    "selected_random"
   ]
  },
  {
   "cell_type": "code",
   "execution_count": 86,
   "metadata": {},
   "outputs": [],
   "source": [
    "def profit_for_random(data,target,count):\n",
    "    # Создаем pandas Series из predict с индексами из target.index\n",
    "    probs_sorted_random = pd.Series(data['product'], index=target.index)\n",
    "    # Случайная перестановка всех элементов в Series\n",
    "    probs_sorted_random = probs_sorted_random.sample(frac=1)\n",
    "    selected_random = probs_sorted_random[:count].sum()\n",
    "    profit_pred_random=(selected_random*INCOME_ONE_PROD)-BUDGET\n",
    "    print('Суммарный запас сырья в', DEVELOPMENT_POINTS,'лучших скважинах составит: %.2f тыс.баррелей'%selected_random)\n",
    "    print('Прибыль для полученного объёма сырья составит %.2f млн.рублей'%(profit_pred_random/1000))"
   ]
  },
  {
   "cell_type": "code",
   "execution_count": 87,
   "metadata": {},
   "outputs": [
    {
     "name": "stdout",
     "output_type": "stream",
     "text": [
      "Суммарный запас сырья в 200 лучших скважинах составит: 18208.20 тыс.баррелей\n",
      "Прибыль для полученного объёма сырья составит -1806.31 млн.рублей\n"
     ]
    }
   ],
   "source": [
    "profit_for_random(data_0,target_valid_0,DEVELOPMENT_POINTS)"
   ]
  },
  {
   "cell_type": "code",
   "execution_count": 88,
   "metadata": {},
   "outputs": [
    {
     "name": "stdout",
     "output_type": "stream",
     "text": [
      "Суммарный запас сырья в 200 лучших скважинах составит: 13150.84 тыс.баррелей\n",
      "Прибыль для полученного объёма сырья составит -4082.12 млн.рублей\n"
     ]
    }
   ],
   "source": [
    "profit_for_random(data_1,target_valid_1,DEVELOPMENT_POINTS)"
   ]
  },
  {
   "cell_type": "code",
   "execution_count": 89,
   "metadata": {},
   "outputs": [
    {
     "name": "stdout",
     "output_type": "stream",
     "text": [
      "Суммарный запас сырья в 200 лучших скважинах составит: 19756.13 тыс.баррелей\n",
      "Прибыль для полученного объёма сырья составит -1109.74 млн.рублей\n"
     ]
    }
   ],
   "source": [
    "profit_for_random(data_2,target_valid_2,DEVELOPMENT_POINTS)"
   ]
  },
  {
   "cell_type": "code",
   "execution_count": 90,
   "metadata": {},
   "outputs": [],
   "source": [
    "def profit_for_random(data,target,count):\n",
    "     # Создаем pandas Series из predict с индексами из target.index\n",
    "    probs_sorted_random = pd.Series(data, index=target.index)\n",
    "    # Случайная перестановка всех элементов в Series\n",
    "    probs_sorted_random = probs_sorted_random.sample(frac=1)\n",
    "    selected_random = probs_sorted_random[:count].sum()\n",
    "    product_random = selected_random.sum()\n",
    "    revenue_random = product_random * INCOME_ONE_PROD\n",
    "    return revenue_random - BUDGET"
   ]
  },
  {
   "cell_type": "code",
   "execution_count": 98,
   "metadata": {},
   "outputs": [],
   "source": [
    "def bootstap_random(target, data):\n",
    "    values = []\n",
    "    count=0\n",
    "    state = np.random.RandomState(12345)\n",
    "    predict_e = pd.Series(data['product'], index=target.index)\n",
    "    \n",
    "    for i in tqdm(range(1000)):\n",
    "#         target_subsample = target.sample(n=POINT_RESEARCH,replace=True, random_state=state)\n",
    "  \n",
    "#         probs_subsample = predict_e[target_subsample.index]\n",
    "#         values.append(profit_for_random(probs_subsample,target_subsample, DEVELOPMENT_POINTS))\n",
    "        values.append(target.sample(n=DEVELOPMENT_POINTS, replace=True, random_state=state).sum() * INCOME_ONE_PROD - BUDGET)\n",
    "    for i in values:\n",
    "        if i < 0:\n",
    "            count +=1\n",
    "            \n",
    "    values = pd.Series(values)\n",
    "    mean = values.mean()\n",
    "    confidence_interval = st.t.interval(0.95, len(values)-1, values.mean(), values.sem())\n",
    "    low_95 = values.quantile(0.025)\n",
    "    high_95 = values.quantile(0.975)\n",
    "    \n",
    "    plt.title('Распределение прибыли')\n",
    "    values.plot(kind=\"hist\", grid=True, figsize=(8,5))\n",
    "    plt.axvline(x=mean, color='b', label='axvline - full height')\n",
    "    plt.axvline(x=low_95, color='b', label='axvline - full height')\n",
    "    plt.axvline(x=high_95, color='b', label='axvline - full height')\n",
    "    plt.xlabel('Прибыль, тыс.руб')\n",
    "    plt.ylabel('Количество')\n",
    "    plt.show()\n",
    "    \n",
    "    \n",
    "    print(\"Средняя прибыль: {:.2f} млн.руб\".format(mean/1000))\n",
    "    print('С вероятностью 95% прибыль в данном регионе будет составлять от: {:.2f} млн.руб до: {:.2f} млн.руб'.format((low_95/1000),(high_95/1000)))\n",
    "    print(\"95%-ый доверительный интервал: от {:.2f} млн.руб до {:.2f} млн.руб\". format((confidence_interval[0]/1000),(confidence_interval[1]/1000)))\n",
    "    print ('Процент вероятности убытка в данном регионе составит {:.1%}'.format(count/1000))\n",
    "    return values"
   ]
  },
  {
   "cell_type": "code",
   "execution_count": 99,
   "metadata": {},
   "outputs": [
    {
     "data": {
      "application/vnd.jupyter.widget-view+json": {
       "model_id": "40d8e6fd1cd94e2e96b04591aa151328",
       "version_major": 2,
       "version_minor": 0
      },
      "text/plain": [
       "  0%|          | 0/1000 [00:00<?, ?it/s]"
      ]
     },
     "metadata": {},
     "output_type": "display_data"
    },
    {
     "data": {
      "image/png": "[encoded data removed]",
      "text/plain": [
       "<Figure size 576x360 with 1 Axes>"
      ]
     },
     "metadata": {
      "needs_background": "light"
     },
     "output_type": "display_data"
    },
    {
     "name": "stdout",
     "output_type": "stream",
     "text": [
      "Средняя прибыль: -1702.30 млн.руб\n",
      "С вероятностью 95% прибыль в данном регионе будет составлять от: -2215.05 млн.руб до: -1171.70 млн.руб\n",
      "95%-ый доверительный интервал: от -1719.17 млн.руб до -1685.44 млн.руб\n",
      "Процент вероятности убытка в данном регионе составит 100.0%\n"
     ]
    }
   ],
   "source": [
    "values_r0=bootstap_random(target_valid_0,data_0)"
   ]
  },
  {
   "cell_type": "code",
   "execution_count": 100,
   "metadata": {},
   "outputs": [
    {
     "data": {
      "application/vnd.jupyter.widget-view+json": {
       "model_id": "e557cea2350b49abae025cf4f72d66fb",
       "version_major": 2,
       "version_minor": 0
      },
      "text/plain": [
       "  0%|          | 0/1000 [00:00<?, ?it/s]"
      ]
     },
     "metadata": {},
     "output_type": "display_data"
    },
    {
     "data": {
      "image/png": "[encoded data removed]",
      "text/plain": [
       "<Figure size 576x360 with 1 Axes>"
      ]
     },
     "metadata": {
      "needs_background": "light"
     },
     "output_type": "display_data"
    },
    {
     "name": "stdout",
     "output_type": "stream",
     "text": [
      "Средняя прибыль: -3817.50 млн.руб\n",
      "С вероятностью 95% прибыль в данном регионе будет составлять от: -4415.34 млн.руб до: -3235.16 млн.руб\n",
      "95%-ый доверительный интервал: от -3836.04 млн.руб до -3798.97 млн.руб\n",
      "Процент вероятности убытка в данном регионе составит 100.0%\n"
     ]
    }
   ],
   "source": [
    "values_r1=bootstap_random(target_valid_1,data_1)"
   ]
  },
  {
   "cell_type": "code",
   "execution_count": 101,
   "metadata": {},
   "outputs": [
    {
     "data": {
      "application/vnd.jupyter.widget-view+json": {
       "model_id": "a8acb40d4fae496f94e9292fef208750",
       "version_major": 2,
       "version_minor": 0
      },
      "text/plain": [
       "  0%|          | 0/1000 [00:00<?, ?it/s]"
      ]
     },
     "metadata": {},
     "output_type": "display_data"
    },
    {
     "data": {
      "image/png": "[encoded data removed]",
      "text/plain": [
       "<Figure size 576x360 with 1 Axes>"
      ]
     },
     "metadata": {
      "needs_background": "light"
     },
     "output_type": "display_data"
    },
    {
     "name": "stdout",
     "output_type": "stream",
     "text": [
      "Средняя прибыль: -1447.74 млн.руб\n",
      "С вероятностью 95% прибыль в данном регионе будет составлять от: -2013.09 млн.руб до: -903.26 млн.руб\n",
      "95%-ый доверительный интервал: от -1465.73 млн.руб до -1429.75 млн.руб\n",
      "Процент вероятности убытка в данном регионе составит 100.0%\n"
     ]
    }
   ],
   "source": [
    "values_r2=bootstap_random(target_valid_2,data_2)"
   ]
  },
  {
   "cell_type": "markdown",
   "metadata": {},
   "source": [
    "создадим графики сравнения распределения прибыли по регионам"
   ]
  },
  {
   "cell_type": "code",
   "execution_count": 95,
   "metadata": {},
   "outputs": [
    {
     "data": {
      "image/png": "[encoded data removed]",
      "text/plain": [
       "<Figure size 576x360 with 1 Axes>"
      ]
     },
     "metadata": {
      "needs_background": "light"
     },
     "output_type": "display_data"
    }
   ],
   "source": [
    "plt.title('Распределение прибыли в 1 регионе')\n",
    "#график рандомные скважины\n",
    "values_r0.plot(kind=\"hist\", grid=True, figsize=(8,5))\n",
    "#график лучшие скважины\n",
    "values_0.plot(kind=\"hist\", grid=True, figsize=(8,5))\n",
    "plt.xlabel('Прибыль, тыс.руб')\n",
    "plt.ylabel('Количество')\n",
    "plt.show()"
   ]
  },
  {
   "cell_type": "code",
   "execution_count": 96,
   "metadata": {},
   "outputs": [
    {
     "data": {
      "image/png": "[encoded data removed]",
      "text/plain": [
       "<Figure size 576x360 with 1 Axes>"
      ]
     },
     "metadata": {
      "needs_background": "light"
     },
     "output_type": "display_data"
    }
   ],
   "source": [
    "plt.title('Распределение прибыли во 2 регионе')\n",
    "values_r1.plot(kind=\"hist\", grid=True, figsize=(8,5))\n",
    "values_1.plot(kind=\"hist\", grid=True, figsize=(8,5))\n",
    "plt.xlabel('Прибыль, тыс.руб')\n",
    "plt.ylabel('Количество')\n",
    "plt.show()"
   ]
  },
  {
   "cell_type": "code",
   "execution_count": 97,
   "metadata": {},
   "outputs": [
    {
     "data": {
      "image/png": "[encoded data removed]",
      "text/plain": [
       "<Figure size 576x360 with 1 Axes>"
      ]
     },
     "metadata": {
      "needs_background": "light"
     },
     "output_type": "display_data"
    }
   ],
   "source": [
    "plt.title('Распределение прибыли в 3 регионе')\n",
    "values_r2.plot(kind=\"hist\", grid=True, figsize=(8,5))\n",
    "values_2.plot(kind=\"hist\", grid=True, figsize=(8,5))\n",
    "plt.xlabel('Прибыль, тыс.руб')\n",
    "plt.ylabel('Количество')\n",
    "plt.show()"
   ]
  },
  {
   "cell_type": "markdown",
   "metadata": {},
   "source": [
    "Из данного исследования видно что при случайном выборе скважин все регионы будут убыточными, а вероятность убытка достигает 100%\n",
    "Во втором регионе сильная разница между лучшими скважинами и в случайном выборе."
   ]
  },
  {
   "cell_type": "markdown",
   "metadata": {},
   "source": [
    "## Заключение"
   ]
  },
  {
   "cell_type": "markdown",
   "metadata": {},
   "source": [
    "В данной работе мы провели исследование данных по запасам в скважинах трёх регионов, в каждом из которых были данные о запасах сырья по 100 тыс.скважинам. При работе с данными мы обнаружили, что средний запас ресурсов по регионам недостаточен даже для окупаемости вложений на разработку и для того, чтобы иметь уверенность в перспективе разработки по регионам, мы обучили модель и выполнили предсказания при помощи линейной регрессии, а так же применили технологию bootstrap с разделением каждого предсказанного значения прибыли по регионам на 1000 выборок.\n",
    "\n",
    "По результату полученных данных мы определили доверительный интревал получения прибыли в 95%, ограничив вероятность убытка величиной менее 2,5%. И на основе этих данных смогли выбрать более перспективный регион для разработки 200 скважин.\n",
    "\n",
    "Таким образом не смотря на сравнительно меньшие предсказания запасов сырья в 27.75 млн.баррелей (по сравнению с другими регионами), с величиной вероятного возникновения убытка в 1,1%, но с превышающей средней прибылью в 489.66 млн.рублей мы сдели выбор в сторону разработки 200 скважин во 2 регионе."
   ]
  },
  {
   "cell_type": "markdown",
   "metadata": {},
   "source": [
    "Для выполнения поставленной задачи были обработаны данные трёх регионов с 10000 месторождений в каждом.\n",
    "Для составления прогноза по объёму запасов в каждом регионе была создана модель линейной регрессии.\n",
    "Наиболее точные предсказания оказались у модели второго региона: средний запас сырья в скважине 68.7 при отклонении 0.89, предсказания по первому и третьему региону получились схожими между собой\n",
    "Рассчитан достаточный объём сырья для безубыточной разработки новой скважины - 111\n",
    "Для расчёта распределения прибыли применена техника Bootstrap с 1000 выборок, которая показала, что наиболее подходящий для разработки регион - второй, так как у него наименьшая вероятность убытков и наибольшая средняя возможная прибыль"
   ]
  }
 ],
 "metadata": {
  "ExecuteTimeLog": [
   {
    "duration": 1695,
    "start_time": "2023-07-23T11:02:34.568Z"
   },
   {
    "duration": 1229,
    "start_time": "2023-07-23T11:02:36.265Z"
   },
   {
    "duration": 75,
    "start_time": "2023-07-23T11:02:37.497Z"
   },
   {
    "duration": 1804,
    "start_time": "2023-07-23T11:04:10.421Z"
   },
   {
    "duration": 456,
    "start_time": "2023-07-23T11:04:12.227Z"
   },
   {
    "duration": 61,
    "start_time": "2023-07-23T11:04:12.685Z"
   },
   {
    "duration": 1497,
    "start_time": "2023-07-23T11:05:36.894Z"
   },
   {
    "duration": 421,
    "start_time": "2023-07-23T11:05:38.393Z"
   },
   {
    "duration": 18,
    "start_time": "2023-07-23T11:05:38.816Z"
   },
   {
    "duration": 54,
    "start_time": "2023-07-23T11:05:38.835Z"
   },
   {
    "duration": 35,
    "start_time": "2023-07-23T11:05:38.890Z"
   },
   {
    "duration": 1581,
    "start_time": "2023-07-23T11:08:33.253Z"
   },
   {
    "duration": 493,
    "start_time": "2023-07-23T11:08:34.836Z"
   },
   {
    "duration": 18,
    "start_time": "2023-07-23T11:08:35.331Z"
   },
   {
    "duration": 59,
    "start_time": "2023-07-23T11:08:35.351Z"
   },
   {
    "duration": 96,
    "start_time": "2023-07-23T11:08:35.413Z"
   },
   {
    "duration": 8,
    "start_time": "2023-07-23T11:08:35.510Z"
   },
   {
    "duration": 21,
    "start_time": "2023-07-23T11:08:35.520Z"
   },
   {
    "duration": 63,
    "start_time": "2023-07-23T11:08:35.543Z"
   },
   {
    "duration": 136,
    "start_time": "2023-07-23T11:08:35.607Z"
   },
   {
    "duration": 0,
    "start_time": "2023-07-23T11:08:35.745Z"
   },
   {
    "duration": 0,
    "start_time": "2023-07-23T11:08:35.746Z"
   },
   {
    "duration": 10,
    "start_time": "2023-07-23T11:09:02.197Z"
   },
   {
    "duration": 14,
    "start_time": "2023-07-23T11:09:02.517Z"
   },
   {
    "duration": 33,
    "start_time": "2023-07-23T11:09:11.493Z"
   },
   {
    "duration": 147,
    "start_time": "2023-07-23T11:12:19.027Z"
   },
   {
    "duration": 1597,
    "start_time": "2023-07-23T11:12:36.753Z"
   },
   {
    "duration": 441,
    "start_time": "2023-07-23T11:12:38.355Z"
   },
   {
    "duration": 13,
    "start_time": "2023-07-23T11:12:38.797Z"
   },
   {
    "duration": 28,
    "start_time": "2023-07-23T11:12:38.812Z"
   },
   {
    "duration": 41,
    "start_time": "2023-07-23T11:12:38.842Z"
   },
   {
    "duration": 13,
    "start_time": "2023-07-23T11:12:38.885Z"
   },
   {
    "duration": 27,
    "start_time": "2023-07-23T11:12:38.900Z"
   },
   {
    "duration": 46,
    "start_time": "2023-07-23T11:12:38.928Z"
   },
   {
    "duration": 10,
    "start_time": "2023-07-23T11:12:38.976Z"
   },
   {
    "duration": 14,
    "start_time": "2023-07-23T11:12:38.988Z"
   },
   {
    "duration": 65,
    "start_time": "2023-07-23T11:12:39.004Z"
   },
   {
    "duration": 119,
    "start_time": "2023-07-23T11:12:39.070Z"
   },
   {
    "duration": 4,
    "start_time": "2023-07-23T11:13:58.570Z"
   },
   {
    "duration": 5,
    "start_time": "2023-07-23T11:14:18.839Z"
   },
   {
    "duration": 4,
    "start_time": "2023-07-23T11:14:31.221Z"
   },
   {
    "duration": 66,
    "start_time": "2023-07-23T11:17:23.136Z"
   },
   {
    "duration": 64,
    "start_time": "2023-07-23T11:17:23.449Z"
   },
   {
    "duration": 42,
    "start_time": "2023-07-23T11:17:23.859Z"
   },
   {
    "duration": 29,
    "start_time": "2023-07-23T11:19:48.814Z"
   },
   {
    "duration": 20,
    "start_time": "2023-07-23T11:19:49.058Z"
   },
   {
    "duration": 19,
    "start_time": "2023-07-23T11:19:51.752Z"
   },
   {
    "duration": 75,
    "start_time": "2023-07-23T11:22:32.286Z"
   },
   {
    "duration": 29,
    "start_time": "2023-07-23T11:22:58.513Z"
   },
   {
    "duration": 28,
    "start_time": "2023-07-23T11:22:59.841Z"
   },
   {
    "duration": 19,
    "start_time": "2023-07-23T11:23:03.169Z"
   },
   {
    "duration": 281,
    "start_time": "2023-07-23T11:27:47.072Z"
   },
   {
    "duration": 15,
    "start_time": "2023-07-23T11:47:19.974Z"
   },
   {
    "duration": 20,
    "start_time": "2023-07-23T11:49:28.854Z"
   },
   {
    "duration": 1501,
    "start_time": "2023-07-23T11:53:26.645Z"
   },
   {
    "duration": 370,
    "start_time": "2023-07-23T11:53:28.147Z"
   },
   {
    "duration": 18,
    "start_time": "2023-07-23T11:53:28.519Z"
   },
   {
    "duration": 17,
    "start_time": "2023-07-23T11:53:28.538Z"
   },
   {
    "duration": 35,
    "start_time": "2023-07-23T11:53:28.558Z"
   },
   {
    "duration": 3,
    "start_time": "2023-07-23T11:53:28.595Z"
   },
   {
    "duration": 39,
    "start_time": "2023-07-23T11:53:28.599Z"
   },
   {
    "duration": 28,
    "start_time": "2023-07-23T11:53:28.640Z"
   },
   {
    "duration": 33,
    "start_time": "2023-07-23T11:53:28.670Z"
   },
   {
    "duration": 3,
    "start_time": "2023-07-23T11:53:28.705Z"
   },
   {
    "duration": 25,
    "start_time": "2023-07-23T11:53:28.709Z"
   },
   {
    "duration": 21,
    "start_time": "2023-07-23T11:53:28.736Z"
   },
   {
    "duration": 33,
    "start_time": "2023-07-23T11:53:28.759Z"
   },
   {
    "duration": 4,
    "start_time": "2023-07-23T11:53:28.795Z"
   },
   {
    "duration": 110,
    "start_time": "2023-07-23T11:53:28.800Z"
   },
   {
    "duration": 44,
    "start_time": "2023-07-23T11:53:28.912Z"
   },
   {
    "duration": 45,
    "start_time": "2023-07-23T11:53:28.957Z"
   },
   {
    "duration": 27,
    "start_time": "2023-07-23T11:53:29.004Z"
   },
   {
    "duration": 9,
    "start_time": "2023-07-23T11:53:29.033Z"
   },
   {
    "duration": 15,
    "start_time": "2023-07-23T11:53:29.044Z"
   },
   {
    "duration": 61,
    "start_time": "2023-07-23T11:53:29.060Z"
   },
   {
    "duration": 27,
    "start_time": "2023-07-23T11:53:29.122Z"
   },
   {
    "duration": 18,
    "start_time": "2023-07-23T11:53:29.151Z"
   },
   {
    "duration": 278,
    "start_time": "2023-07-23T11:53:29.171Z"
   },
   {
    "duration": 12,
    "start_time": "2023-07-23T11:53:29.451Z"
   },
   {
    "duration": 93,
    "start_time": "2023-07-23T11:53:29.465Z"
   },
   {
    "duration": 19,
    "start_time": "2023-07-23T11:53:29.559Z"
   },
   {
    "duration": 18,
    "start_time": "2023-07-23T11:53:29.580Z"
   },
   {
    "duration": 128,
    "start_time": "2023-07-23T11:56:26.738Z"
   },
   {
    "duration": 1460,
    "start_time": "2023-07-23T11:57:23.213Z"
   },
   {
    "duration": 451,
    "start_time": "2023-07-23T11:57:24.675Z"
   },
   {
    "duration": 13,
    "start_time": "2023-07-23T11:57:25.127Z"
   },
   {
    "duration": 34,
    "start_time": "2023-07-23T11:57:25.142Z"
   },
   {
    "duration": 48,
    "start_time": "2023-07-23T11:57:25.179Z"
   },
   {
    "duration": 7,
    "start_time": "2023-07-23T11:57:25.228Z"
   },
   {
    "duration": 37,
    "start_time": "2023-07-23T11:57:25.236Z"
   },
   {
    "duration": 28,
    "start_time": "2023-07-23T11:57:25.274Z"
   },
   {
    "duration": 56,
    "start_time": "2023-07-23T11:57:25.304Z"
   },
   {
    "duration": 9,
    "start_time": "2023-07-23T11:57:25.362Z"
   },
   {
    "duration": 36,
    "start_time": "2023-07-23T11:57:25.372Z"
   },
   {
    "duration": 21,
    "start_time": "2023-07-23T11:57:25.410Z"
   },
   {
    "duration": 45,
    "start_time": "2023-07-23T11:57:25.433Z"
   },
   {
    "duration": 11,
    "start_time": "2023-07-23T11:57:25.480Z"
   },
   {
    "duration": 61,
    "start_time": "2023-07-23T11:57:25.492Z"
   },
   {
    "duration": 55,
    "start_time": "2023-07-23T11:57:25.555Z"
   },
   {
    "duration": 65,
    "start_time": "2023-07-23T11:57:25.612Z"
   },
   {
    "duration": 14,
    "start_time": "2023-07-23T11:57:25.679Z"
   },
   {
    "duration": 25,
    "start_time": "2023-07-23T11:57:25.695Z"
   },
   {
    "duration": 35,
    "start_time": "2023-07-23T11:57:25.722Z"
   },
   {
    "duration": 71,
    "start_time": "2023-07-23T11:57:25.759Z"
   },
   {
    "duration": 17,
    "start_time": "2023-07-23T11:57:25.832Z"
   },
   {
    "duration": 32,
    "start_time": "2023-07-23T11:57:25.851Z"
   },
   {
    "duration": 266,
    "start_time": "2023-07-23T11:57:25.885Z"
   },
   {
    "duration": 14,
    "start_time": "2023-07-23T11:57:26.152Z"
   },
   {
    "duration": 51,
    "start_time": "2023-07-23T11:57:26.167Z"
   },
   {
    "duration": 84,
    "start_time": "2023-07-23T11:57:26.220Z"
   },
   {
    "duration": 20,
    "start_time": "2023-07-23T11:57:26.305Z"
   },
   {
    "duration": 130,
    "start_time": "2023-07-23T11:57:26.327Z"
   },
   {
    "duration": 0,
    "start_time": "2023-07-23T11:57:26.458Z"
   },
   {
    "duration": 0,
    "start_time": "2023-07-23T11:57:26.460Z"
   },
   {
    "duration": 49,
    "start_time": "2023-07-23T11:58:44.811Z"
   },
   {
    "duration": 1434,
    "start_time": "2023-07-23T11:59:21.029Z"
   },
   {
    "duration": 374,
    "start_time": "2023-07-23T11:59:22.465Z"
   },
   {
    "duration": 13,
    "start_time": "2023-07-23T11:59:22.841Z"
   },
   {
    "duration": 19,
    "start_time": "2023-07-23T11:59:22.860Z"
   },
   {
    "duration": 62,
    "start_time": "2023-07-23T11:59:22.881Z"
   },
   {
    "duration": 4,
    "start_time": "2023-07-23T11:59:22.944Z"
   },
   {
    "duration": 19,
    "start_time": "2023-07-23T11:59:22.949Z"
   },
   {
    "duration": 30,
    "start_time": "2023-07-23T11:59:22.970Z"
   },
   {
    "duration": 65,
    "start_time": "2023-07-23T11:59:23.002Z"
   },
   {
    "duration": 5,
    "start_time": "2023-07-23T11:59:23.069Z"
   },
   {
    "duration": 19,
    "start_time": "2023-07-23T11:59:23.076Z"
   },
   {
    "duration": 35,
    "start_time": "2023-07-23T11:59:23.098Z"
   },
   {
    "duration": 42,
    "start_time": "2023-07-23T11:59:23.135Z"
   },
   {
    "duration": 5,
    "start_time": "2023-07-23T11:59:23.179Z"
   },
   {
    "duration": 87,
    "start_time": "2023-07-23T11:59:23.186Z"
   },
   {
    "duration": 57,
    "start_time": "2023-07-23T11:59:23.275Z"
   },
   {
    "duration": 52,
    "start_time": "2023-07-23T11:59:23.334Z"
   },
   {
    "duration": 10,
    "start_time": "2023-07-23T11:59:23.388Z"
   },
   {
    "duration": 36,
    "start_time": "2023-07-23T11:59:23.400Z"
   },
   {
    "duration": 14,
    "start_time": "2023-07-23T11:59:23.438Z"
   },
   {
    "duration": 59,
    "start_time": "2023-07-23T11:59:23.454Z"
   },
   {
    "duration": 34,
    "start_time": "2023-07-23T11:59:23.514Z"
   },
   {
    "duration": 18,
    "start_time": "2023-07-23T11:59:23.550Z"
   },
   {
    "duration": 301,
    "start_time": "2023-07-23T11:59:23.570Z"
   },
   {
    "duration": 14,
    "start_time": "2023-07-23T11:59:23.873Z"
   },
   {
    "duration": 48,
    "start_time": "2023-07-23T11:59:23.889Z"
   },
   {
    "duration": 29,
    "start_time": "2023-07-23T11:59:23.939Z"
   },
   {
    "duration": 29,
    "start_time": "2023-07-23T11:59:23.970Z"
   },
   {
    "duration": 159,
    "start_time": "2023-07-23T11:59:24.000Z"
   },
   {
    "duration": 0,
    "start_time": "2023-07-23T11:59:24.161Z"
   },
   {
    "duration": 0,
    "start_time": "2023-07-23T11:59:24.162Z"
   },
   {
    "duration": 0,
    "start_time": "2023-07-23T11:59:24.163Z"
   },
   {
    "duration": 1566,
    "start_time": "2023-07-23T12:00:37.545Z"
   },
   {
    "duration": 384,
    "start_time": "2023-07-23T12:00:39.114Z"
   },
   {
    "duration": 13,
    "start_time": "2023-07-23T12:00:39.500Z"
   },
   {
    "duration": 24,
    "start_time": "2023-07-23T12:00:39.515Z"
   },
   {
    "duration": 38,
    "start_time": "2023-07-23T12:00:39.542Z"
   },
   {
    "duration": 4,
    "start_time": "2023-07-23T12:00:39.581Z"
   },
   {
    "duration": 24,
    "start_time": "2023-07-23T12:00:39.586Z"
   },
   {
    "duration": 31,
    "start_time": "2023-07-23T12:00:39.612Z"
   },
   {
    "duration": 36,
    "start_time": "2023-07-23T12:00:39.644Z"
   },
   {
    "duration": 8,
    "start_time": "2023-07-23T12:00:39.682Z"
   },
   {
    "duration": 12,
    "start_time": "2023-07-23T12:00:39.692Z"
   },
   {
    "duration": 33,
    "start_time": "2023-07-23T12:00:39.706Z"
   },
   {
    "duration": 34,
    "start_time": "2023-07-23T12:00:39.741Z"
   },
   {
    "duration": 3,
    "start_time": "2023-07-23T12:00:39.778Z"
   },
   {
    "duration": 76,
    "start_time": "2023-07-23T12:00:39.783Z"
   },
   {
    "duration": 43,
    "start_time": "2023-07-23T12:00:39.861Z"
   },
   {
    "duration": 62,
    "start_time": "2023-07-23T12:00:39.906Z"
   },
   {
    "duration": 10,
    "start_time": "2023-07-23T12:00:39.970Z"
   },
   {
    "duration": 14,
    "start_time": "2023-07-23T12:00:39.982Z"
   },
   {
    "duration": 10,
    "start_time": "2023-07-23T12:00:39.997Z"
   },
   {
    "duration": 74,
    "start_time": "2023-07-23T12:00:40.008Z"
   },
   {
    "duration": 17,
    "start_time": "2023-07-23T12:00:40.084Z"
   },
   {
    "duration": 43,
    "start_time": "2023-07-23T12:00:40.103Z"
   },
   {
    "duration": 271,
    "start_time": "2023-07-23T12:00:40.148Z"
   },
   {
    "duration": 18,
    "start_time": "2023-07-23T12:00:40.421Z"
   },
   {
    "duration": 40,
    "start_time": "2023-07-23T12:00:40.442Z"
   },
   {
    "duration": 21,
    "start_time": "2023-07-23T12:00:40.484Z"
   },
   {
    "duration": 25,
    "start_time": "2023-07-23T12:00:40.506Z"
   },
   {
    "duration": 143,
    "start_time": "2023-07-23T12:00:40.533Z"
   },
   {
    "duration": 0,
    "start_time": "2023-07-23T12:00:40.678Z"
   },
   {
    "duration": 0,
    "start_time": "2023-07-23T12:00:40.679Z"
   },
   {
    "duration": 0,
    "start_time": "2023-07-23T12:00:40.681Z"
   },
   {
    "duration": 30,
    "start_time": "2023-07-23T12:02:08.323Z"
   },
   {
    "duration": 22,
    "start_time": "2023-07-23T12:03:25.656Z"
   },
   {
    "duration": 22,
    "start_time": "2023-07-23T12:03:34.071Z"
   },
   {
    "duration": 31,
    "start_time": "2023-07-23T12:03:41.519Z"
   },
   {
    "duration": 8,
    "start_time": "2023-07-23T12:04:30.154Z"
   },
   {
    "duration": 118,
    "start_time": "2023-07-23T12:04:34.224Z"
   },
   {
    "duration": 85,
    "start_time": "2023-07-23T12:07:02.870Z"
   },
   {
    "duration": 16,
    "start_time": "2023-07-23T12:07:23.621Z"
   },
   {
    "duration": 11,
    "start_time": "2023-07-23T12:07:25.238Z"
   },
   {
    "duration": 4,
    "start_time": "2023-07-23T12:07:28.045Z"
   },
   {
    "duration": 3,
    "start_time": "2023-07-23T12:07:29.968Z"
   },
   {
    "duration": 5,
    "start_time": "2023-07-23T12:07:47.555Z"
   },
   {
    "duration": 5,
    "start_time": "2023-07-23T12:07:49.072Z"
   },
   {
    "duration": 9,
    "start_time": "2023-07-23T12:08:07.394Z"
   },
   {
    "duration": 1533,
    "start_time": "2023-07-23T14:20:00.166Z"
   },
   {
    "duration": 753,
    "start_time": "2023-07-23T14:20:01.702Z"
   },
   {
    "duration": 13,
    "start_time": "2023-07-23T14:20:02.456Z"
   },
   {
    "duration": 121,
    "start_time": "2023-07-23T14:20:02.471Z"
   },
   {
    "duration": 84,
    "start_time": "2023-07-23T14:20:02.594Z"
   },
   {
    "duration": 17,
    "start_time": "2023-07-23T14:20:02.680Z"
   },
   {
    "duration": 49,
    "start_time": "2023-07-23T14:20:02.699Z"
   },
   {
    "duration": 57,
    "start_time": "2023-07-23T14:20:02.749Z"
   },
   {
    "duration": 55,
    "start_time": "2023-07-23T14:20:02.808Z"
   },
   {
    "duration": 20,
    "start_time": "2023-07-23T14:20:02.866Z"
   },
   {
    "duration": 21,
    "start_time": "2023-07-23T14:20:02.888Z"
   },
   {
    "duration": 69,
    "start_time": "2023-07-23T14:20:02.911Z"
   },
   {
    "duration": 40,
    "start_time": "2023-07-23T14:20:02.982Z"
   },
   {
    "duration": 5,
    "start_time": "2023-07-23T14:20:03.024Z"
   },
   {
    "duration": 86,
    "start_time": "2023-07-23T14:20:03.030Z"
   },
   {
    "duration": 34,
    "start_time": "2023-07-23T14:20:03.117Z"
   },
   {
    "duration": 80,
    "start_time": "2023-07-23T14:20:03.152Z"
   },
   {
    "duration": 37,
    "start_time": "2023-07-23T14:20:03.234Z"
   },
   {
    "duration": 52,
    "start_time": "2023-07-23T14:20:03.273Z"
   },
   {
    "duration": 34,
    "start_time": "2023-07-23T14:20:03.327Z"
   },
   {
    "duration": 60,
    "start_time": "2023-07-23T14:20:03.362Z"
   },
   {
    "duration": 15,
    "start_time": "2023-07-23T14:20:03.424Z"
   },
   {
    "duration": 29,
    "start_time": "2023-07-23T14:20:03.440Z"
   },
   {
    "duration": 243,
    "start_time": "2023-07-23T14:20:03.470Z"
   },
   {
    "duration": 16,
    "start_time": "2023-07-23T14:20:03.715Z"
   },
   {
    "duration": 148,
    "start_time": "2023-07-23T14:20:03.732Z"
   },
   {
    "duration": 148,
    "start_time": "2023-07-23T14:20:03.881Z"
   },
   {
    "duration": 0,
    "start_time": "2023-07-23T14:20:04.031Z"
   },
   {
    "duration": 0,
    "start_time": "2023-07-23T14:20:04.032Z"
   },
   {
    "duration": 0,
    "start_time": "2023-07-23T14:20:04.034Z"
   },
   {
    "duration": 0,
    "start_time": "2023-07-23T14:20:04.035Z"
   },
   {
    "duration": 1,
    "start_time": "2023-07-23T14:20:04.036Z"
   },
   {
    "duration": 0,
    "start_time": "2023-07-23T14:20:04.038Z"
   },
   {
    "duration": 0,
    "start_time": "2023-07-23T14:20:04.040Z"
   },
   {
    "duration": 20,
    "start_time": "2023-07-23T14:20:25.636Z"
   },
   {
    "duration": 20,
    "start_time": "2023-07-23T14:20:28.788Z"
   },
   {
    "duration": 9,
    "start_time": "2023-07-23T14:20:34.122Z"
   },
   {
    "duration": 10,
    "start_time": "2023-07-23T14:20:37.610Z"
   },
   {
    "duration": 7,
    "start_time": "2023-07-23T14:23:25.736Z"
   },
   {
    "duration": 25,
    "start_time": "2023-07-23T14:23:30.068Z"
   },
   {
    "duration": 18,
    "start_time": "2023-07-23T14:23:32.532Z"
   },
   {
    "duration": 17,
    "start_time": "2023-07-23T14:23:35.246Z"
   },
   {
    "duration": 4,
    "start_time": "2023-07-23T14:23:41.572Z"
   },
   {
    "duration": 13,
    "start_time": "2023-07-23T14:23:50.559Z"
   },
   {
    "duration": 5,
    "start_time": "2023-07-23T14:23:51.326Z"
   },
   {
    "duration": 4,
    "start_time": "2023-07-23T14:23:54.930Z"
   },
   {
    "duration": 17,
    "start_time": "2023-07-23T14:26:09.679Z"
   },
   {
    "duration": 19,
    "start_time": "2023-07-23T14:26:29.560Z"
   },
   {
    "duration": 13,
    "start_time": "2023-07-23T14:30:09.984Z"
   },
   {
    "duration": 5,
    "start_time": "2023-07-23T14:30:11.320Z"
   },
   {
    "duration": 6,
    "start_time": "2023-07-23T14:30:12.584Z"
   },
   {
    "duration": 4,
    "start_time": "2023-07-23T14:30:32.777Z"
   },
   {
    "duration": 1465,
    "start_time": "2023-07-23T14:36:13.779Z"
   },
   {
    "duration": 335,
    "start_time": "2023-07-23T14:36:15.246Z"
   },
   {
    "duration": 12,
    "start_time": "2023-07-23T14:36:15.583Z"
   },
   {
    "duration": 27,
    "start_time": "2023-07-23T14:36:15.597Z"
   },
   {
    "duration": 29,
    "start_time": "2023-07-23T14:36:15.626Z"
   },
   {
    "duration": 3,
    "start_time": "2023-07-23T14:36:15.657Z"
   },
   {
    "duration": 26,
    "start_time": "2023-07-23T14:36:15.661Z"
   },
   {
    "duration": 16,
    "start_time": "2023-07-23T14:36:15.689Z"
   },
   {
    "duration": 28,
    "start_time": "2023-07-23T14:36:15.706Z"
   },
   {
    "duration": 3,
    "start_time": "2023-07-23T14:36:15.735Z"
   },
   {
    "duration": 30,
    "start_time": "2023-07-23T14:36:15.739Z"
   },
   {
    "duration": 27,
    "start_time": "2023-07-23T14:36:15.771Z"
   },
   {
    "duration": 29,
    "start_time": "2023-07-23T14:36:15.799Z"
   },
   {
    "duration": 3,
    "start_time": "2023-07-23T14:36:15.830Z"
   },
   {
    "duration": 45,
    "start_time": "2023-07-23T14:36:15.834Z"
   },
   {
    "duration": 45,
    "start_time": "2023-07-23T14:36:15.880Z"
   },
   {
    "duration": 36,
    "start_time": "2023-07-23T14:36:15.927Z"
   },
   {
    "duration": 9,
    "start_time": "2023-07-23T14:36:15.964Z"
   },
   {
    "duration": 14,
    "start_time": "2023-07-23T14:36:15.974Z"
   },
   {
    "duration": 31,
    "start_time": "2023-07-23T14:36:15.990Z"
   },
   {
    "duration": 55,
    "start_time": "2023-07-23T14:36:16.023Z"
   },
   {
    "duration": 19,
    "start_time": "2023-07-23T14:36:16.080Z"
   },
   {
    "duration": 20,
    "start_time": "2023-07-23T14:36:16.121Z"
   },
   {
    "duration": 251,
    "start_time": "2023-07-23T14:36:16.142Z"
   },
   {
    "duration": 29,
    "start_time": "2023-07-23T14:36:16.395Z"
   },
   {
    "duration": 36,
    "start_time": "2023-07-23T14:36:16.426Z"
   },
   {
    "duration": 15,
    "start_time": "2023-07-23T14:36:16.464Z"
   },
   {
    "duration": 31,
    "start_time": "2023-07-23T14:36:16.480Z"
   },
   {
    "duration": 21,
    "start_time": "2023-07-23T14:36:16.513Z"
   },
   {
    "duration": 17,
    "start_time": "2023-07-23T14:36:16.536Z"
   },
   {
    "duration": 165,
    "start_time": "2023-07-23T14:36:16.556Z"
   },
   {
    "duration": 15,
    "start_time": "2023-07-23T14:36:16.723Z"
   },
   {
    "duration": 113,
    "start_time": "2023-07-23T14:36:16.740Z"
   },
   {
    "duration": 0,
    "start_time": "2023-07-23T14:36:16.854Z"
   },
   {
    "duration": 0,
    "start_time": "2023-07-23T14:36:16.855Z"
   },
   {
    "duration": 0,
    "start_time": "2023-07-23T14:36:16.857Z"
   },
   {
    "duration": 0,
    "start_time": "2023-07-23T14:36:16.858Z"
   },
   {
    "duration": 0,
    "start_time": "2023-07-23T14:36:16.860Z"
   },
   {
    "duration": 3,
    "start_time": "2023-07-23T14:39:00.204Z"
   },
   {
    "duration": 8,
    "start_time": "2023-07-23T14:40:05.468Z"
   },
   {
    "duration": 1344,
    "start_time": "2023-07-23T14:44:29.632Z"
   },
   {
    "duration": 369,
    "start_time": "2023-07-23T14:44:30.978Z"
   },
   {
    "duration": 13,
    "start_time": "2023-07-23T14:44:31.348Z"
   },
   {
    "duration": 48,
    "start_time": "2023-07-23T14:44:31.363Z"
   },
   {
    "duration": 49,
    "start_time": "2023-07-23T14:44:31.413Z"
   },
   {
    "duration": 13,
    "start_time": "2023-07-23T14:44:31.463Z"
   },
   {
    "duration": 40,
    "start_time": "2023-07-23T14:44:31.477Z"
   },
   {
    "duration": 45,
    "start_time": "2023-07-23T14:44:31.519Z"
   },
   {
    "duration": 43,
    "start_time": "2023-07-23T14:44:31.566Z"
   },
   {
    "duration": 5,
    "start_time": "2023-07-23T14:44:31.611Z"
   },
   {
    "duration": 36,
    "start_time": "2023-07-23T14:44:31.617Z"
   },
   {
    "duration": 38,
    "start_time": "2023-07-23T14:44:31.655Z"
   },
   {
    "duration": 41,
    "start_time": "2023-07-23T14:44:31.695Z"
   },
   {
    "duration": 3,
    "start_time": "2023-07-23T14:44:31.738Z"
   },
   {
    "duration": 50,
    "start_time": "2023-07-23T14:44:31.743Z"
   },
   {
    "duration": 38,
    "start_time": "2023-07-23T14:44:31.795Z"
   },
   {
    "duration": 38,
    "start_time": "2023-07-23T14:44:31.835Z"
   },
   {
    "duration": 29,
    "start_time": "2023-07-23T14:44:31.875Z"
   },
   {
    "duration": 32,
    "start_time": "2023-07-23T14:44:31.905Z"
   },
   {
    "duration": 13,
    "start_time": "2023-07-23T14:44:31.939Z"
   },
   {
    "duration": 57,
    "start_time": "2023-07-23T14:44:31.953Z"
   },
   {
    "duration": 15,
    "start_time": "2023-07-23T14:44:32.012Z"
   },
   {
    "duration": 55,
    "start_time": "2023-07-23T14:44:32.029Z"
   },
   {
    "duration": 256,
    "start_time": "2023-07-23T14:44:32.085Z"
   },
   {
    "duration": 18,
    "start_time": "2023-07-23T14:44:32.343Z"
   },
   {
    "duration": 23,
    "start_time": "2023-07-23T14:44:32.362Z"
   },
   {
    "duration": 32,
    "start_time": "2023-07-23T14:44:32.386Z"
   },
   {
    "duration": 26,
    "start_time": "2023-07-23T14:44:32.421Z"
   },
   {
    "duration": 54,
    "start_time": "2023-07-23T14:44:32.448Z"
   },
   {
    "duration": 17,
    "start_time": "2023-07-23T14:44:32.503Z"
   },
   {
    "duration": 41,
    "start_time": "2023-07-23T14:44:32.522Z"
   },
   {
    "duration": 163,
    "start_time": "2023-07-23T14:44:32.565Z"
   },
   {
    "duration": 47,
    "start_time": "2023-07-23T14:44:32.729Z"
   },
   {
    "duration": 46,
    "start_time": "2023-07-23T14:44:32.778Z"
   },
   {
    "duration": 63,
    "start_time": "2023-07-23T14:44:32.826Z"
   },
   {
    "duration": 100,
    "start_time": "2023-07-23T14:44:32.922Z"
   },
   {
    "duration": 31,
    "start_time": "2023-07-23T14:44:33.023Z"
   },
   {
    "duration": 25,
    "start_time": "2023-07-23T14:44:33.056Z"
   },
   {
    "duration": 54,
    "start_time": "2023-07-23T14:44:33.083Z"
   },
   {
    "duration": 115,
    "start_time": "2023-07-23T14:48:11.585Z"
   },
   {
    "duration": 15,
    "start_time": "2023-07-23T14:48:21.890Z"
   },
   {
    "duration": 4,
    "start_time": "2023-07-23T14:48:23.794Z"
   },
   {
    "duration": 4,
    "start_time": "2023-07-23T14:49:36.830Z"
   },
   {
    "duration": 4,
    "start_time": "2023-07-23T14:49:38.431Z"
   },
   {
    "duration": 6,
    "start_time": "2023-07-23T14:50:26.641Z"
   },
   {
    "duration": 111,
    "start_time": "2023-07-23T14:51:01.504Z"
   },
   {
    "duration": 91,
    "start_time": "2023-07-23T14:51:25.421Z"
   },
   {
    "duration": 84,
    "start_time": "2023-07-23T14:51:45.978Z"
   },
   {
    "duration": 94,
    "start_time": "2023-07-23T14:52:14.024Z"
   },
   {
    "duration": 98,
    "start_time": "2023-07-23T14:52:22.546Z"
   },
   {
    "duration": 83,
    "start_time": "2023-07-23T14:52:38.892Z"
   },
   {
    "duration": 3,
    "start_time": "2023-07-23T14:53:57.631Z"
   },
   {
    "duration": 106,
    "start_time": "2023-07-23T14:54:08.708Z"
   },
   {
    "duration": 89,
    "start_time": "2023-07-23T14:54:39.230Z"
   },
   {
    "duration": 13,
    "start_time": "2023-07-23T14:55:12.334Z"
   },
   {
    "duration": 99,
    "start_time": "2023-07-23T15:05:29.354Z"
   },
   {
    "duration": 1427,
    "start_time": "2023-07-23T15:05:41.013Z"
   },
   {
    "duration": 409,
    "start_time": "2023-07-23T15:05:42.442Z"
   },
   {
    "duration": 19,
    "start_time": "2023-07-23T15:05:42.853Z"
   },
   {
    "duration": 40,
    "start_time": "2023-07-23T15:05:42.875Z"
   },
   {
    "duration": 42,
    "start_time": "2023-07-23T15:05:42.918Z"
   },
   {
    "duration": 5,
    "start_time": "2023-07-23T15:05:42.962Z"
   },
   {
    "duration": 20,
    "start_time": "2023-07-23T15:05:42.969Z"
   },
   {
    "duration": 34,
    "start_time": "2023-07-23T15:05:42.991Z"
   },
   {
    "duration": 50,
    "start_time": "2023-07-23T15:05:43.027Z"
   },
   {
    "duration": 5,
    "start_time": "2023-07-23T15:05:43.080Z"
   },
   {
    "duration": 55,
    "start_time": "2023-07-23T15:05:43.087Z"
   },
   {
    "duration": 27,
    "start_time": "2023-07-23T15:05:43.144Z"
   },
   {
    "duration": 37,
    "start_time": "2023-07-23T15:05:43.174Z"
   },
   {
    "duration": 7,
    "start_time": "2023-07-23T15:05:43.214Z"
   },
   {
    "duration": 44,
    "start_time": "2023-07-23T15:05:43.222Z"
   },
   {
    "duration": 63,
    "start_time": "2023-07-23T15:05:43.268Z"
   },
   {
    "duration": 47,
    "start_time": "2023-07-23T15:05:43.333Z"
   },
   {
    "duration": 12,
    "start_time": "2023-07-23T15:05:43.382Z"
   },
   {
    "duration": 34,
    "start_time": "2023-07-23T15:05:43.395Z"
   },
   {
    "duration": 11,
    "start_time": "2023-07-23T15:05:43.431Z"
   },
   {
    "duration": 63,
    "start_time": "2023-07-23T15:05:43.443Z"
   },
   {
    "duration": 32,
    "start_time": "2023-07-23T15:05:43.508Z"
   },
   {
    "duration": 22,
    "start_time": "2023-07-23T15:05:43.542Z"
   },
   {
    "duration": 323,
    "start_time": "2023-07-23T15:05:43.566Z"
   },
   {
    "duration": 20,
    "start_time": "2023-07-23T15:05:43.891Z"
   },
   {
    "duration": 20,
    "start_time": "2023-07-23T15:05:43.921Z"
   },
   {
    "duration": 32,
    "start_time": "2023-07-23T15:05:43.943Z"
   },
   {
    "duration": 15,
    "start_time": "2023-07-23T15:05:43.977Z"
   },
   {
    "duration": 40,
    "start_time": "2023-07-23T15:05:43.994Z"
   },
   {
    "duration": 6,
    "start_time": "2023-07-23T15:05:44.036Z"
   },
   {
    "duration": 34,
    "start_time": "2023-07-23T15:05:44.044Z"
   },
   {
    "duration": 114,
    "start_time": "2023-07-23T15:05:44.122Z"
   },
   {
    "duration": 24,
    "start_time": "2023-07-23T15:05:44.238Z"
   },
   {
    "duration": 84,
    "start_time": "2023-07-23T15:05:44.263Z"
   },
   {
    "duration": 0,
    "start_time": "2023-07-23T15:05:44.349Z"
   },
   {
    "duration": 0,
    "start_time": "2023-07-23T15:05:44.350Z"
   },
   {
    "duration": 0,
    "start_time": "2023-07-23T15:05:44.351Z"
   },
   {
    "duration": 0,
    "start_time": "2023-07-23T15:05:44.352Z"
   },
   {
    "duration": 0,
    "start_time": "2023-07-23T15:05:44.354Z"
   },
   {
    "duration": 0,
    "start_time": "2023-07-23T15:05:44.354Z"
   },
   {
    "duration": 0,
    "start_time": "2023-07-23T15:05:44.356Z"
   },
   {
    "duration": 0,
    "start_time": "2023-07-23T15:05:44.358Z"
   },
   {
    "duration": 0,
    "start_time": "2023-07-23T15:05:44.360Z"
   },
   {
    "duration": 113,
    "start_time": "2023-07-23T15:06:49.554Z"
   },
   {
    "duration": 3,
    "start_time": "2023-07-23T15:07:26.266Z"
   },
   {
    "duration": 89,
    "start_time": "2023-07-23T15:07:38.706Z"
   },
   {
    "duration": 3,
    "start_time": "2023-07-23T15:07:43.248Z"
   },
   {
    "duration": 14,
    "start_time": "2023-07-23T15:07:57.334Z"
   },
   {
    "duration": 5,
    "start_time": "2023-07-23T15:07:59.145Z"
   },
   {
    "duration": 5,
    "start_time": "2023-07-23T15:08:00.672Z"
   },
   {
    "duration": 4,
    "start_time": "2023-07-23T15:08:09.242Z"
   },
   {
    "duration": 4,
    "start_time": "2023-07-23T15:08:27.582Z"
   },
   {
    "duration": 26,
    "start_time": "2023-07-23T15:08:30.018Z"
   },
   {
    "duration": 6,
    "start_time": "2023-07-23T15:08:31.568Z"
   },
   {
    "duration": 4,
    "start_time": "2023-07-23T15:08:35.651Z"
   },
   {
    "duration": 118,
    "start_time": "2023-07-23T15:08:43.668Z"
   },
   {
    "duration": 3,
    "start_time": "2023-07-23T15:09:11.066Z"
   },
   {
    "duration": 14,
    "start_time": "2023-07-23T15:09:14.672Z"
   },
   {
    "duration": 121,
    "start_time": "2023-07-23T15:10:11.994Z"
   },
   {
    "duration": 107,
    "start_time": "2023-07-23T15:11:18.739Z"
   },
   {
    "duration": 3,
    "start_time": "2023-07-23T15:19:03.746Z"
   },
   {
    "duration": 4,
    "start_time": "2023-07-23T15:19:26.990Z"
   },
   {
    "duration": 1384,
    "start_time": "2023-07-23T15:19:55.497Z"
   },
   {
    "duration": 398,
    "start_time": "2023-07-23T15:19:56.883Z"
   },
   {
    "duration": 13,
    "start_time": "2023-07-23T15:19:57.283Z"
   },
   {
    "duration": 31,
    "start_time": "2023-07-23T15:19:57.297Z"
   },
   {
    "duration": 41,
    "start_time": "2023-07-23T15:19:57.330Z"
   },
   {
    "duration": 4,
    "start_time": "2023-07-23T15:19:57.373Z"
   },
   {
    "duration": 27,
    "start_time": "2023-07-23T15:19:57.378Z"
   },
   {
    "duration": 35,
    "start_time": "2023-07-23T15:19:57.407Z"
   },
   {
    "duration": 51,
    "start_time": "2023-07-23T15:19:57.443Z"
   },
   {
    "duration": 18,
    "start_time": "2023-07-23T15:19:57.495Z"
   },
   {
    "duration": 25,
    "start_time": "2023-07-23T15:19:57.514Z"
   },
   {
    "duration": 31,
    "start_time": "2023-07-23T15:19:57.540Z"
   },
   {
    "duration": 79,
    "start_time": "2023-07-23T15:19:57.572Z"
   },
   {
    "duration": 14,
    "start_time": "2023-07-23T15:19:57.654Z"
   },
   {
    "duration": 70,
    "start_time": "2023-07-23T15:19:57.669Z"
   },
   {
    "duration": 41,
    "start_time": "2023-07-23T15:19:57.740Z"
   },
   {
    "duration": 63,
    "start_time": "2023-07-23T15:19:57.783Z"
   },
   {
    "duration": 15,
    "start_time": "2023-07-23T15:19:57.848Z"
   },
   {
    "duration": 51,
    "start_time": "2023-07-23T15:19:57.865Z"
   },
   {
    "duration": 28,
    "start_time": "2023-07-23T15:19:57.918Z"
   },
   {
    "duration": 87,
    "start_time": "2023-07-23T15:19:57.948Z"
   },
   {
    "duration": 17,
    "start_time": "2023-07-23T15:19:58.036Z"
   },
   {
    "duration": 34,
    "start_time": "2023-07-23T15:19:58.055Z"
   },
   {
    "duration": 290,
    "start_time": "2023-07-23T15:19:58.091Z"
   },
   {
    "duration": 26,
    "start_time": "2023-07-23T15:19:58.382Z"
   },
   {
    "duration": 8,
    "start_time": "2023-07-23T15:19:58.421Z"
   },
   {
    "duration": 53,
    "start_time": "2023-07-23T15:19:58.431Z"
   },
   {
    "duration": 17,
    "start_time": "2023-07-23T15:19:58.486Z"
   },
   {
    "duration": 58,
    "start_time": "2023-07-23T15:19:58.505Z"
   },
   {
    "duration": 76,
    "start_time": "2023-07-23T15:19:58.565Z"
   },
   {
    "duration": 52,
    "start_time": "2023-07-23T15:19:58.643Z"
   },
   {
    "duration": 32,
    "start_time": "2023-07-23T15:19:58.697Z"
   },
   {
    "duration": 117,
    "start_time": "2023-07-23T15:19:58.731Z"
   },
   {
    "duration": 41,
    "start_time": "2023-07-23T15:19:58.849Z"
   },
   {
    "duration": 35,
    "start_time": "2023-07-23T15:19:58.891Z"
   },
   {
    "duration": 207,
    "start_time": "2023-07-23T15:19:58.928Z"
   },
   {
    "duration": 26,
    "start_time": "2023-07-23T15:19:59.137Z"
   },
   {
    "duration": 8,
    "start_time": "2023-07-23T15:19:59.165Z"
   },
   {
    "duration": 48,
    "start_time": "2023-07-23T15:19:59.175Z"
   },
   {
    "duration": 97,
    "start_time": "2023-07-23T15:19:59.225Z"
   },
   {
    "duration": 5,
    "start_time": "2023-07-23T15:19:59.329Z"
   },
   {
    "duration": 17,
    "start_time": "2023-07-23T15:19:59.335Z"
   },
   {
    "duration": 68,
    "start_time": "2023-07-23T15:19:59.354Z"
   },
   {
    "duration": 4,
    "start_time": "2023-07-23T15:34:07.751Z"
   },
   {
    "duration": 5,
    "start_time": "2023-07-23T15:34:21.022Z"
   },
   {
    "duration": 4,
    "start_time": "2023-07-23T15:37:27.636Z"
   },
   {
    "duration": 5,
    "start_time": "2023-07-23T15:38:00.469Z"
   },
   {
    "duration": 4,
    "start_time": "2023-07-23T15:38:00.974Z"
   },
   {
    "duration": 4,
    "start_time": "2023-07-23T15:38:01.506Z"
   },
   {
    "duration": 4,
    "start_time": "2023-07-23T15:40:44.316Z"
   },
   {
    "duration": 38,
    "start_time": "2023-07-23T15:42:50.608Z"
   },
   {
    "duration": 19,
    "start_time": "2023-07-23T15:44:42.335Z"
   },
   {
    "duration": 116,
    "start_time": "2023-07-23T15:46:21.353Z"
   },
   {
    "duration": 11,
    "start_time": "2023-07-23T15:49:35.646Z"
   },
   {
    "duration": 12,
    "start_time": "2023-07-23T15:50:13.918Z"
   },
   {
    "duration": 12,
    "start_time": "2023-07-23T15:50:47.539Z"
   },
   {
    "duration": 9,
    "start_time": "2023-07-23T15:50:51.307Z"
   },
   {
    "duration": 3,
    "start_time": "2023-07-23T15:51:12.144Z"
   },
   {
    "duration": 3,
    "start_time": "2023-07-23T15:51:55.214Z"
   },
   {
    "duration": 104,
    "start_time": "2023-07-23T15:52:25.267Z"
   },
   {
    "duration": 104,
    "start_time": "2023-07-23T15:52:52.957Z"
   },
   {
    "duration": 4,
    "start_time": "2023-07-23T15:53:08.808Z"
   },
   {
    "duration": 99,
    "start_time": "2023-07-23T15:53:43.718Z"
   },
   {
    "duration": 3,
    "start_time": "2023-07-23T15:53:48.590Z"
   },
   {
    "duration": 3,
    "start_time": "2023-07-23T15:53:58.841Z"
   },
   {
    "duration": 13,
    "start_time": "2023-07-23T15:54:24.948Z"
   },
   {
    "duration": 11,
    "start_time": "2023-07-23T15:55:55.424Z"
   },
   {
    "duration": 3,
    "start_time": "2023-07-23T15:56:19.035Z"
   },
   {
    "duration": 3,
    "start_time": "2023-07-23T15:56:27.854Z"
   },
   {
    "duration": 3,
    "start_time": "2023-07-23T15:56:57.708Z"
   },
   {
    "duration": 14,
    "start_time": "2023-07-23T15:56:59.867Z"
   },
   {
    "duration": 6,
    "start_time": "2023-07-23T15:57:02.736Z"
   },
   {
    "duration": 3,
    "start_time": "2023-07-23T16:00:06.310Z"
   },
   {
    "duration": 4,
    "start_time": "2023-07-23T16:04:46.476Z"
   },
   {
    "duration": 9,
    "start_time": "2023-07-23T16:06:31.576Z"
   },
   {
    "duration": 3,
    "start_time": "2023-07-23T16:08:56.188Z"
   },
   {
    "duration": 9,
    "start_time": "2023-07-23T16:10:42.580Z"
   },
   {
    "duration": 3,
    "start_time": "2023-07-23T16:11:12.688Z"
   },
   {
    "duration": 3,
    "start_time": "2023-07-23T16:12:37.756Z"
   },
   {
    "duration": 19,
    "start_time": "2023-07-23T16:13:15.056Z"
   },
   {
    "duration": 3,
    "start_time": "2023-07-23T16:13:49.706Z"
   },
   {
    "duration": 7,
    "start_time": "2023-07-23T16:13:52.120Z"
   },
   {
    "duration": 7,
    "start_time": "2023-07-23T16:14:33.534Z"
   },
   {
    "duration": 338,
    "start_time": "2023-07-23T16:14:53.546Z"
   },
   {
    "duration": 15,
    "start_time": "2023-07-23T16:14:53.920Z"
   },
   {
    "duration": 6,
    "start_time": "2023-07-23T16:15:00.788Z"
   },
   {
    "duration": 3,
    "start_time": "2023-07-23T16:24:34.108Z"
   },
   {
    "duration": 7,
    "start_time": "2023-07-23T16:24:50.535Z"
   },
   {
    "duration": 1748,
    "start_time": "2023-07-23T16:25:19.410Z"
   },
   {
    "duration": 1961,
    "start_time": "2023-07-23T16:25:41.146Z"
   },
   {
    "duration": 1668,
    "start_time": "2023-07-23T16:26:05.334Z"
   },
   {
    "duration": 11,
    "start_time": "2023-07-23T16:28:12.170Z"
   },
   {
    "duration": 10,
    "start_time": "2023-07-23T16:36:25.383Z"
   },
   {
    "duration": 110,
    "start_time": "2023-07-23T16:36:55.906Z"
   },
   {
    "duration": 78,
    "start_time": "2023-07-23T16:37:10.688Z"
   },
   {
    "duration": 1351,
    "start_time": "2023-07-23T16:38:00.031Z"
   },
   {
    "duration": 359,
    "start_time": "2023-07-23T16:38:01.384Z"
   },
   {
    "duration": 72,
    "start_time": "2023-07-23T16:38:01.744Z"
   },
   {
    "duration": 177,
    "start_time": "2023-07-23T16:38:01.818Z"
   },
   {
    "duration": 72,
    "start_time": "2023-07-23T16:38:01.997Z"
   },
   {
    "duration": 106,
    "start_time": "2023-07-23T16:38:02.070Z"
   },
   {
    "duration": 51,
    "start_time": "2023-07-23T16:38:02.178Z"
   },
   {
    "duration": 60,
    "start_time": "2023-07-23T16:38:02.230Z"
   },
   {
    "duration": 40,
    "start_time": "2023-07-23T16:38:02.292Z"
   },
   {
    "duration": 4,
    "start_time": "2023-07-23T16:38:02.334Z"
   },
   {
    "duration": 57,
    "start_time": "2023-07-23T16:38:02.339Z"
   },
   {
    "duration": 37,
    "start_time": "2023-07-23T16:38:02.397Z"
   },
   {
    "duration": 98,
    "start_time": "2023-07-23T16:38:02.435Z"
   },
   {
    "duration": 68,
    "start_time": "2023-07-23T16:38:02.537Z"
   },
   {
    "duration": 196,
    "start_time": "2023-07-23T16:38:02.607Z"
   },
   {
    "duration": 126,
    "start_time": "2023-07-23T16:38:02.805Z"
   },
   {
    "duration": 60,
    "start_time": "2023-07-23T16:38:02.933Z"
   },
   {
    "duration": 9,
    "start_time": "2023-07-23T16:38:02.995Z"
   },
   {
    "duration": 137,
    "start_time": "2023-07-23T16:38:03.005Z"
   },
   {
    "duration": 113,
    "start_time": "2023-07-23T16:38:03.143Z"
   },
   {
    "duration": 112,
    "start_time": "2023-07-23T16:38:03.258Z"
   },
   {
    "duration": 58,
    "start_time": "2023-07-23T16:38:03.372Z"
   },
   {
    "duration": 50,
    "start_time": "2023-07-23T16:38:03.431Z"
   },
   {
    "duration": 279,
    "start_time": "2023-07-23T16:38:03.484Z"
   },
   {
    "duration": 17,
    "start_time": "2023-07-23T16:38:03.764Z"
   },
   {
    "duration": 17,
    "start_time": "2023-07-23T16:38:03.783Z"
   },
   {
    "duration": 47,
    "start_time": "2023-07-23T16:38:03.802Z"
   },
   {
    "duration": 8,
    "start_time": "2023-07-23T16:38:03.851Z"
   },
   {
    "duration": 54,
    "start_time": "2023-07-23T16:38:03.860Z"
   },
   {
    "duration": 34,
    "start_time": "2023-07-23T16:38:03.916Z"
   },
   {
    "duration": 38,
    "start_time": "2023-07-23T16:38:03.951Z"
   },
   {
    "duration": 34,
    "start_time": "2023-07-23T16:38:03.990Z"
   },
   {
    "duration": 129,
    "start_time": "2023-07-23T16:38:04.026Z"
   },
   {
    "duration": 44,
    "start_time": "2023-07-23T16:38:04.157Z"
   },
   {
    "duration": 75,
    "start_time": "2023-07-23T16:38:04.203Z"
   },
   {
    "duration": 142,
    "start_time": "2023-07-23T16:38:04.280Z"
   },
   {
    "duration": 15,
    "start_time": "2023-07-23T16:38:04.424Z"
   },
   {
    "duration": 45,
    "start_time": "2023-07-23T16:38:04.440Z"
   },
   {
    "duration": 52,
    "start_time": "2023-07-23T16:38:04.491Z"
   },
   {
    "duration": 184,
    "start_time": "2023-07-23T16:38:04.545Z"
   },
   {
    "duration": 8,
    "start_time": "2023-07-23T16:38:04.733Z"
   },
   {
    "duration": 20,
    "start_time": "2023-07-23T16:38:04.743Z"
   },
   {
    "duration": 37,
    "start_time": "2023-07-23T16:38:04.765Z"
   },
   {
    "duration": 31,
    "start_time": "2023-07-23T16:38:04.804Z"
   },
   {
    "duration": 49,
    "start_time": "2023-07-23T16:38:04.837Z"
   },
   {
    "duration": 87,
    "start_time": "2023-07-23T16:38:04.888Z"
   },
   {
    "duration": 82,
    "start_time": "2023-07-23T16:38:04.977Z"
   },
   {
    "duration": 69,
    "start_time": "2023-07-23T16:38:05.062Z"
   },
   {
    "duration": 39,
    "start_time": "2023-07-23T16:38:05.133Z"
   },
   {
    "duration": 64,
    "start_time": "2023-07-23T16:38:05.173Z"
   },
   {
    "duration": 40,
    "start_time": "2023-07-23T16:38:05.238Z"
   },
   {
    "duration": 84,
    "start_time": "2023-07-23T16:38:05.279Z"
   },
   {
    "duration": 67,
    "start_time": "2023-07-23T16:38:05.365Z"
   },
   {
    "duration": 72,
    "start_time": "2023-07-23T16:38:05.434Z"
   },
   {
    "duration": 136,
    "start_time": "2023-07-23T16:38:05.508Z"
   },
   {
    "duration": 197,
    "start_time": "2023-07-23T16:38:05.645Z"
   },
   {
    "duration": 132,
    "start_time": "2023-07-23T16:38:05.843Z"
   },
   {
    "duration": 52,
    "start_time": "2023-07-23T16:38:05.976Z"
   },
   {
    "duration": 27,
    "start_time": "2023-07-23T16:38:06.029Z"
   },
   {
    "duration": 141,
    "start_time": "2023-07-23T16:38:06.058Z"
   },
   {
    "duration": 79,
    "start_time": "2023-07-23T16:38:06.200Z"
   },
   {
    "duration": 27,
    "start_time": "2023-07-23T16:38:06.281Z"
   },
   {
    "duration": 201,
    "start_time": "2023-07-23T16:38:06.310Z"
   },
   {
    "duration": 1480,
    "start_time": "2023-07-23T16:38:06.513Z"
   },
   {
    "duration": 1579,
    "start_time": "2023-07-23T16:38:07.994Z"
   },
   {
    "duration": 1552,
    "start_time": "2023-07-23T16:38:09.574Z"
   },
   {
    "duration": 11,
    "start_time": "2023-07-23T16:38:11.128Z"
   },
   {
    "duration": 130,
    "start_time": "2023-07-23T16:38:11.140Z"
   },
   {
    "duration": 94,
    "start_time": "2023-07-23T16:38:11.272Z"
   },
   {
    "duration": 1954,
    "start_time": "2023-07-23T20:26:58.244Z"
   },
   {
    "duration": 409,
    "start_time": "2023-07-23T20:27:00.200Z"
   },
   {
    "duration": 13,
    "start_time": "2023-07-23T20:27:00.610Z"
   },
   {
    "duration": 42,
    "start_time": "2023-07-23T20:27:00.633Z"
   },
   {
    "duration": 60,
    "start_time": "2023-07-23T20:27:00.676Z"
   },
   {
    "duration": 15,
    "start_time": "2023-07-23T20:27:00.739Z"
   },
   {
    "duration": 41,
    "start_time": "2023-07-23T20:27:00.755Z"
   },
   {
    "duration": 36,
    "start_time": "2023-07-23T20:27:00.797Z"
   },
   {
    "duration": 52,
    "start_time": "2023-07-23T20:27:00.835Z"
   },
   {
    "duration": 6,
    "start_time": "2023-07-23T20:27:00.889Z"
   },
   {
    "duration": 79,
    "start_time": "2023-07-23T20:27:00.897Z"
   },
   {
    "duration": 72,
    "start_time": "2023-07-23T20:27:00.977Z"
   },
   {
    "duration": 74,
    "start_time": "2023-07-23T20:27:01.050Z"
   },
   {
    "duration": 28,
    "start_time": "2023-07-23T20:27:01.126Z"
   },
   {
    "duration": 86,
    "start_time": "2023-07-23T20:27:01.156Z"
   },
   {
    "duration": 41,
    "start_time": "2023-07-23T20:27:01.247Z"
   },
   {
    "duration": 83,
    "start_time": "2023-07-23T20:27:01.289Z"
   },
   {
    "duration": 14,
    "start_time": "2023-07-23T20:27:01.374Z"
   },
   {
    "duration": 34,
    "start_time": "2023-07-23T20:27:01.389Z"
   },
   {
    "duration": 59,
    "start_time": "2023-07-23T20:27:01.424Z"
   },
   {
    "duration": 125,
    "start_time": "2023-07-23T20:27:01.484Z"
   },
   {
    "duration": 52,
    "start_time": "2023-07-23T20:27:01.611Z"
   },
   {
    "duration": 87,
    "start_time": "2023-07-23T20:27:01.665Z"
   },
   {
    "duration": 377,
    "start_time": "2023-07-23T20:27:01.754Z"
   },
   {
    "duration": 25,
    "start_time": "2023-07-23T20:27:02.133Z"
   },
   {
    "duration": 105,
    "start_time": "2023-07-23T20:27:02.160Z"
   },
   {
    "duration": 93,
    "start_time": "2023-07-23T20:27:02.267Z"
   },
   {
    "duration": 183,
    "start_time": "2023-07-23T20:27:02.364Z"
   },
   {
    "duration": 78,
    "start_time": "2023-07-23T20:27:02.549Z"
   },
   {
    "duration": 15,
    "start_time": "2023-07-23T20:27:02.628Z"
   },
   {
    "duration": 57,
    "start_time": "2023-07-23T20:27:02.646Z"
   },
   {
    "duration": 153,
    "start_time": "2023-07-23T20:27:02.734Z"
   },
   {
    "duration": 167,
    "start_time": "2023-07-23T20:27:02.889Z"
   },
   {
    "duration": 27,
    "start_time": "2023-07-23T20:27:03.057Z"
   },
   {
    "duration": 44,
    "start_time": "2023-07-23T20:27:03.085Z"
   },
   {
    "duration": 217,
    "start_time": "2023-07-23T20:27:03.132Z"
   },
   {
    "duration": 48,
    "start_time": "2023-07-23T20:27:03.351Z"
   },
   {
    "duration": 23,
    "start_time": "2023-07-23T20:27:03.400Z"
   },
   {
    "duration": 40,
    "start_time": "2023-07-23T20:27:03.425Z"
   },
   {
    "duration": 69,
    "start_time": "2023-07-23T20:27:03.468Z"
   },
   {
    "duration": 133,
    "start_time": "2023-07-23T20:27:03.539Z"
   },
   {
    "duration": 12,
    "start_time": "2023-07-23T20:27:03.674Z"
   },
   {
    "duration": 13,
    "start_time": "2023-07-23T20:27:03.688Z"
   },
   {
    "duration": 13,
    "start_time": "2023-07-23T20:27:03.703Z"
   },
   {
    "duration": 27,
    "start_time": "2023-07-23T20:27:03.718Z"
   },
   {
    "duration": 6,
    "start_time": "2023-07-23T20:27:03.747Z"
   },
   {
    "duration": 9,
    "start_time": "2023-07-23T20:27:03.754Z"
   },
   {
    "duration": 24,
    "start_time": "2023-07-23T20:27:03.765Z"
   },
   {
    "duration": 4,
    "start_time": "2023-07-23T20:27:03.791Z"
   },
   {
    "duration": 18,
    "start_time": "2023-07-23T20:27:03.796Z"
   },
   {
    "duration": 12,
    "start_time": "2023-07-23T20:27:03.816Z"
   },
   {
    "duration": 91,
    "start_time": "2023-07-23T20:27:03.829Z"
   },
   {
    "duration": 32,
    "start_time": "2023-07-23T20:27:03.922Z"
   },
   {
    "duration": 71,
    "start_time": "2023-07-23T20:27:03.956Z"
   },
   {
    "duration": 50,
    "start_time": "2023-07-23T20:27:04.028Z"
   },
   {
    "duration": 27,
    "start_time": "2023-07-23T20:27:04.079Z"
   },
   {
    "duration": 6,
    "start_time": "2023-07-23T20:27:04.109Z"
   },
   {
    "duration": 15,
    "start_time": "2023-07-23T20:27:04.117Z"
   },
   {
    "duration": 34,
    "start_time": "2023-07-23T20:27:04.134Z"
   },
   {
    "duration": 27,
    "start_time": "2023-07-23T20:27:04.170Z"
   },
   {
    "duration": 14,
    "start_time": "2023-07-23T20:27:04.198Z"
   },
   {
    "duration": 11,
    "start_time": "2023-07-23T20:27:04.214Z"
   },
   {
    "duration": 15,
    "start_time": "2023-07-23T20:27:04.227Z"
   },
   {
    "duration": 1649,
    "start_time": "2023-07-23T20:27:04.244Z"
   },
   {
    "duration": 1668,
    "start_time": "2023-07-23T20:27:05.894Z"
   },
   {
    "duration": 1755,
    "start_time": "2023-07-23T20:27:07.563Z"
   },
   {
    "duration": 22,
    "start_time": "2023-07-23T20:27:09.320Z"
   },
   {
    "duration": 147,
    "start_time": "2023-07-23T20:27:09.343Z"
   },
   {
    "duration": 106,
    "start_time": "2023-07-23T20:27:09.492Z"
   },
   {
    "duration": 63,
    "start_time": "2023-07-24T16:37:49.311Z"
   },
   {
    "duration": 8125,
    "start_time": "2023-07-24T16:37:58.586Z"
   },
   {
    "duration": 2053,
    "start_time": "2023-07-24T16:38:06.713Z"
   },
   {
    "duration": 13,
    "start_time": "2023-07-24T16:38:08.767Z"
   },
   {
    "duration": 16,
    "start_time": "2023-07-24T16:38:08.781Z"
   },
   {
    "duration": 41,
    "start_time": "2023-07-24T16:38:08.800Z"
   },
   {
    "duration": 5,
    "start_time": "2023-07-24T16:38:08.847Z"
   },
   {
    "duration": 10,
    "start_time": "2023-07-24T16:38:08.853Z"
   },
   {
    "duration": 19,
    "start_time": "2023-07-24T16:38:08.864Z"
   },
   {
    "duration": 64,
    "start_time": "2023-07-24T16:38:08.884Z"
   },
   {
    "duration": 3,
    "start_time": "2023-07-24T16:38:08.950Z"
   },
   {
    "duration": 15,
    "start_time": "2023-07-24T16:38:08.955Z"
   },
   {
    "duration": 15,
    "start_time": "2023-07-24T16:38:08.972Z"
   },
   {
    "duration": 73,
    "start_time": "2023-07-24T16:38:08.988Z"
   },
   {
    "duration": 5,
    "start_time": "2023-07-24T16:38:09.065Z"
   },
   {
    "duration": 104,
    "start_time": "2023-07-24T16:38:09.072Z"
   },
   {
    "duration": 85,
    "start_time": "2023-07-24T16:38:09.179Z"
   },
   {
    "duration": 74,
    "start_time": "2023-07-24T16:38:09.266Z"
   },
   {
    "duration": 2106,
    "start_time": "2023-07-24T16:38:09.342Z"
   },
   {
    "duration": 0,
    "start_time": "2023-07-24T16:38:11.455Z"
   },
   {
    "duration": 0,
    "start_time": "2023-07-24T16:38:11.456Z"
   },
   {
    "duration": 0,
    "start_time": "2023-07-24T16:38:11.457Z"
   },
   {
    "duration": 0,
    "start_time": "2023-07-24T16:38:11.459Z"
   },
   {
    "duration": 0,
    "start_time": "2023-07-24T16:38:11.460Z"
   },
   {
    "duration": 0,
    "start_time": "2023-07-24T16:38:11.462Z"
   },
   {
    "duration": 0,
    "start_time": "2023-07-24T16:38:11.463Z"
   },
   {
    "duration": 0,
    "start_time": "2023-07-24T16:38:11.463Z"
   },
   {
    "duration": 0,
    "start_time": "2023-07-24T16:38:11.465Z"
   },
   {
    "duration": 0,
    "start_time": "2023-07-24T16:38:11.466Z"
   },
   {
    "duration": 0,
    "start_time": "2023-07-24T16:38:11.467Z"
   },
   {
    "duration": 0,
    "start_time": "2023-07-24T16:38:11.468Z"
   },
   {
    "duration": 0,
    "start_time": "2023-07-24T16:38:11.470Z"
   },
   {
    "duration": 0,
    "start_time": "2023-07-24T16:38:11.471Z"
   },
   {
    "duration": 0,
    "start_time": "2023-07-24T16:38:11.472Z"
   },
   {
    "duration": 0,
    "start_time": "2023-07-24T16:38:11.473Z"
   },
   {
    "duration": 0,
    "start_time": "2023-07-24T16:38:11.474Z"
   },
   {
    "duration": 0,
    "start_time": "2023-07-24T16:38:11.475Z"
   },
   {
    "duration": 0,
    "start_time": "2023-07-24T16:38:11.476Z"
   },
   {
    "duration": 0,
    "start_time": "2023-07-24T16:38:11.477Z"
   },
   {
    "duration": 0,
    "start_time": "2023-07-24T16:38:11.478Z"
   },
   {
    "duration": 0,
    "start_time": "2023-07-24T16:38:11.479Z"
   },
   {
    "duration": 0,
    "start_time": "2023-07-24T16:38:11.480Z"
   },
   {
    "duration": 0,
    "start_time": "2023-07-24T16:38:11.481Z"
   },
   {
    "duration": 0,
    "start_time": "2023-07-24T16:38:11.482Z"
   },
   {
    "duration": 0,
    "start_time": "2023-07-24T16:38:11.483Z"
   },
   {
    "duration": 0,
    "start_time": "2023-07-24T16:38:11.484Z"
   },
   {
    "duration": 0,
    "start_time": "2023-07-24T16:38:11.485Z"
   },
   {
    "duration": 0,
    "start_time": "2023-07-24T16:38:11.486Z"
   },
   {
    "duration": 0,
    "start_time": "2023-07-24T16:38:11.487Z"
   },
   {
    "duration": 0,
    "start_time": "2023-07-24T16:38:11.488Z"
   },
   {
    "duration": 0,
    "start_time": "2023-07-24T16:38:11.489Z"
   },
   {
    "duration": 0,
    "start_time": "2023-07-24T16:38:11.490Z"
   },
   {
    "duration": 0,
    "start_time": "2023-07-24T16:38:11.517Z"
   },
   {
    "duration": 0,
    "start_time": "2023-07-24T16:38:11.521Z"
   },
   {
    "duration": 0,
    "start_time": "2023-07-24T16:38:11.527Z"
   },
   {
    "duration": 0,
    "start_time": "2023-07-24T16:38:11.528Z"
   },
   {
    "duration": 0,
    "start_time": "2023-07-24T16:38:11.529Z"
   },
   {
    "duration": 0,
    "start_time": "2023-07-24T16:38:11.541Z"
   },
   {
    "duration": 0,
    "start_time": "2023-07-24T16:38:11.541Z"
   },
   {
    "duration": 0,
    "start_time": "2023-07-24T16:38:11.542Z"
   },
   {
    "duration": 0,
    "start_time": "2023-07-24T16:38:11.545Z"
   },
   {
    "duration": 0,
    "start_time": "2023-07-24T16:38:11.547Z"
   },
   {
    "duration": 0,
    "start_time": "2023-07-24T16:38:11.548Z"
   },
   {
    "duration": 0,
    "start_time": "2023-07-24T16:38:11.549Z"
   },
   {
    "duration": 0,
    "start_time": "2023-07-24T16:38:11.550Z"
   },
   {
    "duration": 0,
    "start_time": "2023-07-24T16:38:11.551Z"
   },
   {
    "duration": 0,
    "start_time": "2023-07-24T16:38:11.551Z"
   },
   {
    "duration": 0,
    "start_time": "2023-07-24T16:38:11.552Z"
   },
   {
    "duration": 0,
    "start_time": "2023-07-24T16:38:11.553Z"
   },
   {
    "duration": 0,
    "start_time": "2023-07-24T16:38:11.554Z"
   },
   {
    "duration": 0,
    "start_time": "2023-07-24T16:38:11.555Z"
   },
   {
    "duration": 18,
    "start_time": "2023-07-24T16:38:27.960Z"
   },
   {
    "duration": 21,
    "start_time": "2023-07-24T16:38:42.837Z"
   },
   {
    "duration": 17,
    "start_time": "2023-07-24T16:38:51.848Z"
   },
   {
    "duration": 81,
    "start_time": "2023-07-24T16:40:43.990Z"
   },
   {
    "duration": 56,
    "start_time": "2023-07-24T16:41:06.480Z"
   },
   {
    "duration": 202,
    "start_time": "2023-07-24T16:41:17.316Z"
   },
   {
    "duration": 57,
    "start_time": "2023-07-24T16:41:20.846Z"
   },
   {
    "duration": 74,
    "start_time": "2023-07-24T16:41:49.554Z"
   },
   {
    "duration": 67,
    "start_time": "2023-07-24T16:41:56.711Z"
   },
   {
    "duration": 118,
    "start_time": "2023-07-24T16:44:38.121Z"
   },
   {
    "duration": 131,
    "start_time": "2023-07-24T16:45:17.660Z"
   },
   {
    "duration": 451,
    "start_time": "2023-07-24T16:45:36.196Z"
   },
   {
    "duration": 12,
    "start_time": "2023-07-24T16:47:49.791Z"
   },
   {
    "duration": 10,
    "start_time": "2023-07-24T16:48:50.887Z"
   },
   {
    "duration": 83,
    "start_time": "2023-07-24T16:49:57.786Z"
   },
   {
    "duration": 9,
    "start_time": "2023-07-24T16:50:08.744Z"
   },
   {
    "duration": 1448,
    "start_time": "2023-07-24T17:00:26.685Z"
   },
   {
    "duration": 420,
    "start_time": "2023-07-24T17:00:28.135Z"
   },
   {
    "duration": 11,
    "start_time": "2023-07-24T17:00:28.556Z"
   },
   {
    "duration": 36,
    "start_time": "2023-07-24T17:00:28.569Z"
   },
   {
    "duration": 59,
    "start_time": "2023-07-24T17:00:28.606Z"
   },
   {
    "duration": 4,
    "start_time": "2023-07-24T17:00:28.667Z"
   },
   {
    "duration": 24,
    "start_time": "2023-07-24T17:00:28.672Z"
   },
   {
    "duration": 28,
    "start_time": "2023-07-24T17:00:28.698Z"
   },
   {
    "duration": 55,
    "start_time": "2023-07-24T17:00:28.727Z"
   },
   {
    "duration": 42,
    "start_time": "2023-07-24T17:00:28.785Z"
   },
   {
    "duration": 20,
    "start_time": "2023-07-24T17:00:28.829Z"
   },
   {
    "duration": 32,
    "start_time": "2023-07-24T17:00:28.851Z"
   },
   {
    "duration": 40,
    "start_time": "2023-07-24T17:00:28.885Z"
   },
   {
    "duration": 6,
    "start_time": "2023-07-24T17:00:28.927Z"
   },
   {
    "duration": 64,
    "start_time": "2023-07-24T17:00:28.934Z"
   },
   {
    "duration": 48,
    "start_time": "2023-07-24T17:00:29.000Z"
   },
   {
    "duration": 83,
    "start_time": "2023-07-24T17:00:29.049Z"
   },
   {
    "duration": 108,
    "start_time": "2023-07-24T17:00:29.141Z"
   },
   {
    "duration": 52,
    "start_time": "2023-07-24T17:00:29.251Z"
   },
   {
    "duration": 34,
    "start_time": "2023-07-24T17:00:29.305Z"
   },
   {
    "duration": 90,
    "start_time": "2023-07-24T17:00:29.341Z"
   },
   {
    "duration": 28,
    "start_time": "2023-07-24T17:00:29.433Z"
   },
   {
    "duration": 68,
    "start_time": "2023-07-24T17:00:29.462Z"
   },
   {
    "duration": 11,
    "start_time": "2023-07-24T17:00:29.539Z"
   },
   {
    "duration": 15,
    "start_time": "2023-07-24T17:00:29.552Z"
   },
   {
    "duration": 10,
    "start_time": "2023-07-24T17:00:29.568Z"
   },
   {
    "duration": 24,
    "start_time": "2023-07-24T17:00:29.579Z"
   },
   {
    "duration": 22,
    "start_time": "2023-07-24T17:00:29.608Z"
   },
   {
    "duration": 11,
    "start_time": "2023-07-24T17:00:29.650Z"
   },
   {
    "duration": 89,
    "start_time": "2023-07-24T17:00:29.664Z"
   },
   {
    "duration": 22,
    "start_time": "2023-07-24T17:00:29.756Z"
   },
   {
    "duration": 38,
    "start_time": "2023-07-24T17:00:29.781Z"
   },
   {
    "duration": 379,
    "start_time": "2023-07-24T17:00:29.829Z"
   },
   {
    "duration": 30,
    "start_time": "2023-07-24T17:00:30.209Z"
   },
   {
    "duration": 22,
    "start_time": "2023-07-24T17:00:30.240Z"
   },
   {
    "duration": 34,
    "start_time": "2023-07-24T17:00:30.264Z"
   },
   {
    "duration": 47,
    "start_time": "2023-07-24T17:00:30.300Z"
   },
   {
    "duration": 45,
    "start_time": "2023-07-24T17:00:30.349Z"
   },
   {
    "duration": 9,
    "start_time": "2023-07-24T17:00:30.396Z"
   },
   {
    "duration": 52,
    "start_time": "2023-07-24T17:00:30.407Z"
   },
   {
    "duration": 69,
    "start_time": "2023-07-24T17:00:30.461Z"
   },
   {
    "duration": 111,
    "start_time": "2023-07-24T17:00:30.532Z"
   },
   {
    "duration": 29,
    "start_time": "2023-07-24T17:00:30.646Z"
   },
   {
    "duration": 72,
    "start_time": "2023-07-24T17:00:30.677Z"
   },
   {
    "duration": 81,
    "start_time": "2023-07-24T17:00:30.752Z"
   },
   {
    "duration": 132,
    "start_time": "2023-07-24T17:00:30.834Z"
   },
   {
    "duration": 209,
    "start_time": "2023-07-24T17:00:30.968Z"
   },
   {
    "duration": 189,
    "start_time": "2023-07-24T17:00:31.178Z"
   },
   {
    "duration": 67,
    "start_time": "2023-07-24T17:00:31.369Z"
   },
   {
    "duration": 81,
    "start_time": "2023-07-24T17:00:31.442Z"
   },
   {
    "duration": 29,
    "start_time": "2023-07-24T17:00:31.526Z"
   },
   {
    "duration": 75,
    "start_time": "2023-07-24T17:00:31.557Z"
   },
   {
    "duration": 28,
    "start_time": "2023-07-24T17:00:31.634Z"
   },
   {
    "duration": 89,
    "start_time": "2023-07-24T17:00:31.664Z"
   },
   {
    "duration": 354,
    "start_time": "2023-07-24T17:00:31.755Z"
   },
   {
    "duration": 147,
    "start_time": "2023-07-24T17:00:32.112Z"
   },
   {
    "duration": 37,
    "start_time": "2023-07-24T17:00:32.261Z"
   },
   {
    "duration": 28,
    "start_time": "2023-07-24T17:00:32.300Z"
   },
   {
    "duration": 33,
    "start_time": "2023-07-24T17:00:32.334Z"
   },
   {
    "duration": 21,
    "start_time": "2023-07-24T17:00:32.369Z"
   },
   {
    "duration": 55,
    "start_time": "2023-07-24T17:00:32.393Z"
   },
   {
    "duration": 109,
    "start_time": "2023-07-24T17:00:32.451Z"
   },
   {
    "duration": 58,
    "start_time": "2023-07-24T17:00:32.562Z"
   },
   {
    "duration": 35,
    "start_time": "2023-07-24T17:00:32.622Z"
   },
   {
    "duration": 32,
    "start_time": "2023-07-24T17:00:32.659Z"
   },
   {
    "duration": 29,
    "start_time": "2023-07-24T17:00:32.693Z"
   },
   {
    "duration": 33,
    "start_time": "2023-07-24T17:00:32.723Z"
   },
   {
    "duration": 31,
    "start_time": "2023-07-24T17:00:32.758Z"
   },
   {
    "duration": 48,
    "start_time": "2023-07-24T17:00:32.791Z"
   },
   {
    "duration": 15,
    "start_time": "2023-07-24T17:00:32.841Z"
   },
   {
    "duration": 10,
    "start_time": "2023-07-24T17:00:32.858Z"
   },
   {
    "duration": 26,
    "start_time": "2023-07-24T17:00:32.869Z"
   },
   {
    "duration": 1987,
    "start_time": "2023-07-24T17:00:32.896Z"
   },
   {
    "duration": 1922,
    "start_time": "2023-07-24T17:00:34.885Z"
   },
   {
    "duration": 1845,
    "start_time": "2023-07-24T17:00:36.809Z"
   },
   {
    "duration": 10,
    "start_time": "2023-07-24T17:00:38.656Z"
   },
   {
    "duration": 212,
    "start_time": "2023-07-24T17:00:38.667Z"
   },
   {
    "duration": 104,
    "start_time": "2023-07-24T17:00:38.881Z"
   },
   {
    "duration": 138,
    "start_time": "2023-07-24T17:04:59.256Z"
   },
   {
    "duration": 15,
    "start_time": "2023-07-24T17:05:10.968Z"
   },
   {
    "duration": 14,
    "start_time": "2023-07-24T17:05:34.459Z"
   },
   {
    "duration": 1693,
    "start_time": "2023-07-24T17:05:42.910Z"
   },
   {
    "duration": 17,
    "start_time": "2023-07-24T17:06:02.202Z"
   },
   {
    "duration": 612,
    "start_time": "2023-07-24T17:06:23.448Z"
   },
   {
    "duration": 11,
    "start_time": "2023-07-24T17:06:38.536Z"
   },
   {
    "duration": 674,
    "start_time": "2023-07-24T17:06:43.960Z"
   },
   {
    "duration": 499,
    "start_time": "2023-07-24T17:07:45.931Z"
   },
   {
    "duration": 423,
    "start_time": "2023-07-24T17:07:54.325Z"
   },
   {
    "duration": 1353,
    "start_time": "2023-07-24T17:08:01.655Z"
   },
   {
    "duration": 1525,
    "start_time": "2023-07-24T17:08:25.064Z"
   },
   {
    "duration": 391,
    "start_time": "2023-07-24T17:08:26.591Z"
   },
   {
    "duration": 11,
    "start_time": "2023-07-24T17:08:26.984Z"
   },
   {
    "duration": 36,
    "start_time": "2023-07-24T17:08:26.998Z"
   },
   {
    "duration": 34,
    "start_time": "2023-07-24T17:08:27.036Z"
   },
   {
    "duration": 5,
    "start_time": "2023-07-24T17:08:27.071Z"
   },
   {
    "duration": 18,
    "start_time": "2023-07-24T17:08:27.077Z"
   },
   {
    "duration": 39,
    "start_time": "2023-07-24T17:08:27.097Z"
   },
   {
    "duration": 43,
    "start_time": "2023-07-24T17:08:27.137Z"
   },
   {
    "duration": 6,
    "start_time": "2023-07-24T17:08:27.182Z"
   },
   {
    "duration": 27,
    "start_time": "2023-07-24T17:08:27.189Z"
   },
   {
    "duration": 34,
    "start_time": "2023-07-24T17:08:27.218Z"
   },
   {
    "duration": 41,
    "start_time": "2023-07-24T17:08:27.254Z"
   },
   {
    "duration": 3,
    "start_time": "2023-07-24T17:08:27.297Z"
   },
   {
    "duration": 62,
    "start_time": "2023-07-24T17:08:27.302Z"
   },
   {
    "duration": 41,
    "start_time": "2023-07-24T17:08:27.366Z"
   },
   {
    "duration": 50,
    "start_time": "2023-07-24T17:08:27.412Z"
   },
   {
    "duration": 16,
    "start_time": "2023-07-24T17:08:27.463Z"
   },
   {
    "duration": 90,
    "start_time": "2023-07-24T17:08:27.480Z"
   },
   {
    "duration": 20,
    "start_time": "2023-07-24T17:08:27.572Z"
   },
   {
    "duration": 87,
    "start_time": "2023-07-24T17:08:27.594Z"
   },
   {
    "duration": 17,
    "start_time": "2023-07-24T17:08:27.683Z"
   },
   {
    "duration": 70,
    "start_time": "2023-07-24T17:08:27.702Z"
   },
   {
    "duration": 15,
    "start_time": "2023-07-24T17:08:27.774Z"
   },
   {
    "duration": 9,
    "start_time": "2023-07-24T17:08:27.791Z"
   },
   {
    "duration": 40,
    "start_time": "2023-07-24T17:08:27.802Z"
   },
   {
    "duration": 22,
    "start_time": "2023-07-24T17:08:27.843Z"
   },
   {
    "duration": 62,
    "start_time": "2023-07-24T17:08:27.868Z"
   },
   {
    "duration": 32,
    "start_time": "2023-07-24T17:08:27.931Z"
   },
   {
    "duration": 64,
    "start_time": "2023-07-24T17:08:27.965Z"
   },
   {
    "duration": 19,
    "start_time": "2023-07-24T17:08:28.030Z"
   },
   {
    "duration": 21,
    "start_time": "2023-07-24T17:08:28.050Z"
   },
   {
    "duration": 996,
    "start_time": "2023-07-24T17:08:28.072Z"
   },
   {
    "duration": 272,
    "start_time": "2023-07-24T17:08:29.070Z"
   },
   {
    "duration": 20,
    "start_time": "2023-07-24T17:08:29.344Z"
   },
   {
    "duration": 27,
    "start_time": "2023-07-24T17:08:29.366Z"
   },
   {
    "duration": 38,
    "start_time": "2023-07-24T17:08:29.395Z"
   },
   {
    "duration": 7,
    "start_time": "2023-07-24T17:08:29.434Z"
   },
   {
    "duration": 37,
    "start_time": "2023-07-24T17:08:29.443Z"
   },
   {
    "duration": 7,
    "start_time": "2023-07-24T17:08:29.482Z"
   },
   {
    "duration": 44,
    "start_time": "2023-07-24T17:08:29.490Z"
   },
   {
    "duration": 5,
    "start_time": "2023-07-24T17:08:29.535Z"
   },
   {
    "duration": 83,
    "start_time": "2023-07-24T17:08:29.542Z"
   },
   {
    "duration": 13,
    "start_time": "2023-07-24T17:08:29.627Z"
   },
   {
    "duration": 97,
    "start_time": "2023-07-24T17:08:29.642Z"
   },
   {
    "duration": 71,
    "start_time": "2023-07-24T17:08:29.743Z"
   },
   {
    "duration": 8,
    "start_time": "2023-07-24T17:08:29.826Z"
   },
   {
    "duration": 16,
    "start_time": "2023-07-24T17:08:29.914Z"
   },
   {
    "duration": 26,
    "start_time": "2023-07-24T17:08:29.932Z"
   },
   {
    "duration": 59,
    "start_time": "2023-07-24T17:08:29.960Z"
   },
   {
    "duration": 100,
    "start_time": "2023-07-24T17:08:30.023Z"
   },
   {
    "duration": 16,
    "start_time": "2023-07-24T17:08:30.126Z"
   },
   {
    "duration": 23,
    "start_time": "2023-07-24T17:08:30.144Z"
   },
   {
    "duration": 15,
    "start_time": "2023-07-24T17:08:30.169Z"
   },
   {
    "duration": 45,
    "start_time": "2023-07-24T17:08:30.186Z"
   },
   {
    "duration": 23,
    "start_time": "2023-07-24T17:08:30.234Z"
   },
   {
    "duration": 28,
    "start_time": "2023-07-24T17:08:30.259Z"
   },
   {
    "duration": 37,
    "start_time": "2023-07-24T17:08:30.289Z"
   },
   {
    "duration": 9,
    "start_time": "2023-07-24T17:08:30.329Z"
   },
   {
    "duration": 45,
    "start_time": "2023-07-24T17:08:30.339Z"
   },
   {
    "duration": 13,
    "start_time": "2023-07-24T17:08:30.386Z"
   },
   {
    "duration": 49,
    "start_time": "2023-07-24T17:08:30.401Z"
   },
   {
    "duration": 9,
    "start_time": "2023-07-24T17:08:30.452Z"
   },
   {
    "duration": 177,
    "start_time": "2023-07-24T17:08:30.462Z"
   },
   {
    "duration": 210,
    "start_time": "2023-07-24T17:08:30.640Z"
   },
   {
    "duration": 156,
    "start_time": "2023-07-24T17:08:30.852Z"
   },
   {
    "duration": 86,
    "start_time": "2023-07-24T17:08:31.010Z"
   },
   {
    "duration": 56,
    "start_time": "2023-07-24T17:08:31.098Z"
   },
   {
    "duration": 198,
    "start_time": "2023-07-24T17:08:31.156Z"
   },
   {
    "duration": 134,
    "start_time": "2023-07-24T17:08:31.356Z"
   },
   {
    "duration": 54,
    "start_time": "2023-07-24T17:08:31.492Z"
   },
   {
    "duration": 50,
    "start_time": "2023-07-24T17:08:31.547Z"
   },
   {
    "duration": 41,
    "start_time": "2023-07-24T17:08:31.599Z"
   },
   {
    "duration": 1834,
    "start_time": "2023-07-24T17:08:31.642Z"
   },
   {
    "duration": 1904,
    "start_time": "2023-07-24T17:08:33.478Z"
   },
   {
    "duration": 1911,
    "start_time": "2023-07-24T17:08:35.384Z"
   },
   {
    "duration": 27,
    "start_time": "2023-07-24T17:08:37.297Z"
   },
   {
    "duration": 139,
    "start_time": "2023-07-24T17:08:37.335Z"
   },
   {
    "duration": 115,
    "start_time": "2023-07-24T17:08:37.475Z"
   },
   {
    "duration": 1549,
    "start_time": "2023-07-24T17:09:14.906Z"
   },
   {
    "duration": 1561,
    "start_time": "2023-07-24T17:09:33.067Z"
   },
   {
    "duration": 1499,
    "start_time": "2023-07-24T17:09:44.741Z"
   },
   {
    "duration": 1134,
    "start_time": "2023-07-24T17:09:54.891Z"
   },
   {
    "duration": 154,
    "start_time": "2023-07-24T17:11:07.142Z"
   },
   {
    "duration": 3205,
    "start_time": "2023-07-24T17:11:15.754Z"
   },
   {
    "duration": 1517,
    "start_time": "2023-07-24T17:12:14.265Z"
   },
   {
    "duration": 396,
    "start_time": "2023-07-24T17:12:15.784Z"
   },
   {
    "duration": 10,
    "start_time": "2023-07-24T17:12:16.182Z"
   },
   {
    "duration": 31,
    "start_time": "2023-07-24T17:12:16.194Z"
   },
   {
    "duration": 36,
    "start_time": "2023-07-24T17:12:16.228Z"
   },
   {
    "duration": 3,
    "start_time": "2023-07-24T17:12:16.266Z"
   },
   {
    "duration": 14,
    "start_time": "2023-07-24T17:12:16.271Z"
   },
   {
    "duration": 37,
    "start_time": "2023-07-24T17:12:16.286Z"
   },
   {
    "duration": 39,
    "start_time": "2023-07-24T17:12:16.325Z"
   },
   {
    "duration": 4,
    "start_time": "2023-07-24T17:12:16.365Z"
   },
   {
    "duration": 14,
    "start_time": "2023-07-24T17:12:16.370Z"
   },
   {
    "duration": 38,
    "start_time": "2023-07-24T17:12:16.386Z"
   },
   {
    "duration": 35,
    "start_time": "2023-07-24T17:12:16.426Z"
   },
   {
    "duration": 4,
    "start_time": "2023-07-24T17:12:16.463Z"
   },
   {
    "duration": 109,
    "start_time": "2023-07-24T17:12:16.468Z"
   },
   {
    "duration": 49,
    "start_time": "2023-07-24T17:12:16.579Z"
   },
   {
    "duration": 50,
    "start_time": "2023-07-24T17:12:16.630Z"
   },
   {
    "duration": 17,
    "start_time": "2023-07-24T17:12:16.682Z"
   },
   {
    "duration": 83,
    "start_time": "2023-07-24T17:12:16.700Z"
   },
   {
    "duration": 25,
    "start_time": "2023-07-24T17:12:16.785Z"
   },
   {
    "duration": 72,
    "start_time": "2023-07-24T17:12:16.812Z"
   },
   {
    "duration": 18,
    "start_time": "2023-07-24T17:12:16.885Z"
   },
   {
    "duration": 76,
    "start_time": "2023-07-24T17:12:16.905Z"
   },
   {
    "duration": 10,
    "start_time": "2023-07-24T17:12:16.983Z"
   },
   {
    "duration": 19,
    "start_time": "2023-07-24T17:12:16.995Z"
   },
   {
    "duration": 29,
    "start_time": "2023-07-24T17:12:17.016Z"
   },
   {
    "duration": 9,
    "start_time": "2023-07-24T17:12:17.049Z"
   },
   {
    "duration": 9,
    "start_time": "2023-07-24T17:12:17.060Z"
   },
   {
    "duration": 22,
    "start_time": "2023-07-24T17:12:17.070Z"
   },
   {
    "duration": 77,
    "start_time": "2023-07-24T17:12:17.093Z"
   },
   {
    "duration": 17,
    "start_time": "2023-07-24T17:12:17.171Z"
   },
   {
    "duration": 38,
    "start_time": "2023-07-24T17:12:17.190Z"
   },
   {
    "duration": 950,
    "start_time": "2023-07-24T17:12:17.230Z"
   },
   {
    "duration": 865,
    "start_time": "2023-07-24T17:12:18.182Z"
   },
   {
    "duration": 873,
    "start_time": "2023-07-24T17:12:19.049Z"
   },
   {
    "duration": 296,
    "start_time": "2023-07-24T17:12:19.930Z"
   },
   {
    "duration": 28,
    "start_time": "2023-07-24T17:12:20.228Z"
   },
   {
    "duration": 11,
    "start_time": "2023-07-24T17:12:20.258Z"
   },
   {
    "duration": 46,
    "start_time": "2023-07-24T17:12:20.271Z"
   },
   {
    "duration": 8,
    "start_time": "2023-07-24T17:12:20.319Z"
   },
   {
    "duration": 56,
    "start_time": "2023-07-24T17:12:20.333Z"
   },
   {
    "duration": 6,
    "start_time": "2023-07-24T17:12:20.391Z"
   },
   {
    "duration": 49,
    "start_time": "2023-07-24T17:12:20.398Z"
   },
   {
    "duration": 78,
    "start_time": "2023-07-24T17:12:20.449Z"
   },
   {
    "duration": 92,
    "start_time": "2023-07-24T17:12:20.529Z"
   },
   {
    "duration": 45,
    "start_time": "2023-07-24T17:12:20.629Z"
   },
   {
    "duration": 68,
    "start_time": "2023-07-24T17:12:20.677Z"
   },
   {
    "duration": 88,
    "start_time": "2023-07-24T17:12:20.747Z"
   },
   {
    "duration": 101,
    "start_time": "2023-07-24T17:12:20.839Z"
   },
   {
    "duration": 54,
    "start_time": "2023-07-24T17:12:20.942Z"
   },
   {
    "duration": 51,
    "start_time": "2023-07-24T17:12:20.999Z"
   },
   {
    "duration": 73,
    "start_time": "2023-07-24T17:12:21.054Z"
   },
   {
    "duration": 9,
    "start_time": "2023-07-24T17:12:21.140Z"
   },
   {
    "duration": 65,
    "start_time": "2023-07-24T17:12:21.152Z"
   },
   {
    "duration": 43,
    "start_time": "2023-07-24T17:12:21.221Z"
   },
   {
    "duration": 6,
    "start_time": "2023-07-24T17:12:21.266Z"
   },
   {
    "duration": 13,
    "start_time": "2023-07-24T17:12:21.274Z"
   },
   {
    "duration": 16,
    "start_time": "2023-07-24T17:12:21.289Z"
   },
   {
    "duration": 13,
    "start_time": "2023-07-24T17:12:21.307Z"
   },
   {
    "duration": 31,
    "start_time": "2023-07-24T17:12:21.322Z"
   },
   {
    "duration": 4,
    "start_time": "2023-07-24T17:12:21.356Z"
   },
   {
    "duration": 34,
    "start_time": "2023-07-24T17:12:21.362Z"
   },
   {
    "duration": 19,
    "start_time": "2023-07-24T17:12:21.399Z"
   },
   {
    "duration": 31,
    "start_time": "2023-07-24T17:12:21.420Z"
   },
   {
    "duration": 9,
    "start_time": "2023-07-24T17:12:21.453Z"
   },
   {
    "duration": 35,
    "start_time": "2023-07-24T17:12:21.465Z"
   },
   {
    "duration": 29,
    "start_time": "2023-07-24T17:12:21.502Z"
   },
   {
    "duration": 18,
    "start_time": "2023-07-24T17:12:21.533Z"
   },
   {
    "duration": 10,
    "start_time": "2023-07-24T17:12:21.554Z"
   },
   {
    "duration": 15,
    "start_time": "2023-07-24T17:12:21.566Z"
   },
   {
    "duration": 18,
    "start_time": "2023-07-24T17:12:21.583Z"
   },
   {
    "duration": 9,
    "start_time": "2023-07-24T17:12:21.604Z"
   },
   {
    "duration": 30,
    "start_time": "2023-07-24T17:12:21.617Z"
   },
   {
    "duration": 25,
    "start_time": "2023-07-24T17:12:21.648Z"
   },
   {
    "duration": 30,
    "start_time": "2023-07-24T17:12:21.675Z"
   },
   {
    "duration": 1985,
    "start_time": "2023-07-24T17:12:21.707Z"
   },
   {
    "duration": 2138,
    "start_time": "2023-07-24T17:12:23.694Z"
   },
   {
    "duration": 1932,
    "start_time": "2023-07-24T17:12:25.836Z"
   },
   {
    "duration": 10,
    "start_time": "2023-07-24T17:12:27.770Z"
   },
   {
    "duration": 169,
    "start_time": "2023-07-24T17:12:27.782Z"
   },
   {
    "duration": 104,
    "start_time": "2023-07-24T17:12:27.953Z"
   },
   {
    "duration": 937,
    "start_time": "2023-07-24T17:13:55.166Z"
   },
   {
    "duration": 1029,
    "start_time": "2023-07-24T17:14:12.190Z"
   },
   {
    "duration": 1692,
    "start_time": "2023-07-24T17:14:20.431Z"
   },
   {
    "duration": 482,
    "start_time": "2023-07-24T17:14:22.128Z"
   },
   {
    "duration": 19,
    "start_time": "2023-07-24T17:14:22.611Z"
   },
   {
    "duration": 23,
    "start_time": "2023-07-24T17:14:22.635Z"
   },
   {
    "duration": 61,
    "start_time": "2023-07-24T17:14:22.661Z"
   },
   {
    "duration": 7,
    "start_time": "2023-07-24T17:14:22.725Z"
   },
   {
    "duration": 18,
    "start_time": "2023-07-24T17:14:22.738Z"
   },
   {
    "duration": 22,
    "start_time": "2023-07-24T17:14:22.758Z"
   },
   {
    "duration": 56,
    "start_time": "2023-07-24T17:14:22.782Z"
   },
   {
    "duration": 5,
    "start_time": "2023-07-24T17:14:22.840Z"
   },
   {
    "duration": 19,
    "start_time": "2023-07-24T17:14:22.847Z"
   },
   {
    "duration": 23,
    "start_time": "2023-07-24T17:14:22.868Z"
   },
   {
    "duration": 69,
    "start_time": "2023-07-24T17:14:22.893Z"
   },
   {
    "duration": 4,
    "start_time": "2023-07-24T17:14:22.966Z"
   },
   {
    "duration": 90,
    "start_time": "2023-07-24T17:14:22.972Z"
   },
   {
    "duration": 108,
    "start_time": "2023-07-24T17:14:23.064Z"
   },
   {
    "duration": 67,
    "start_time": "2023-07-24T17:14:23.175Z"
   },
   {
    "duration": 20,
    "start_time": "2023-07-24T17:14:23.244Z"
   },
   {
    "duration": 101,
    "start_time": "2023-07-24T17:14:23.266Z"
   },
   {
    "duration": 19,
    "start_time": "2023-07-24T17:14:23.370Z"
   },
   {
    "duration": 108,
    "start_time": "2023-07-24T17:14:23.391Z"
   },
   {
    "duration": 30,
    "start_time": "2023-07-24T17:14:23.501Z"
   },
   {
    "duration": 140,
    "start_time": "2023-07-24T17:14:23.533Z"
   },
   {
    "duration": 13,
    "start_time": "2023-07-24T17:14:23.676Z"
   },
   {
    "duration": 39,
    "start_time": "2023-07-24T17:14:23.690Z"
   },
   {
    "duration": 12,
    "start_time": "2023-07-24T17:14:23.732Z"
   },
   {
    "duration": 38,
    "start_time": "2023-07-24T17:14:23.746Z"
   },
   {
    "duration": 23,
    "start_time": "2023-07-24T17:14:23.786Z"
   },
   {
    "duration": 23,
    "start_time": "2023-07-24T17:14:23.811Z"
   },
   {
    "duration": 76,
    "start_time": "2023-07-24T17:14:23.838Z"
   },
   {
    "duration": 33,
    "start_time": "2023-07-24T17:14:23.919Z"
   },
   {
    "duration": 30,
    "start_time": "2023-07-24T17:14:23.954Z"
   },
   {
    "duration": 1063,
    "start_time": "2023-07-24T17:14:23.986Z"
   },
   {
    "duration": 908,
    "start_time": "2023-07-24T17:14:25.051Z"
   },
   {
    "duration": 900,
    "start_time": "2023-07-24T17:14:25.961Z"
   },
   {
    "duration": 320,
    "start_time": "2023-07-24T17:14:26.864Z"
   },
   {
    "duration": 46,
    "start_time": "2023-07-24T17:14:27.188Z"
   },
   {
    "duration": 13,
    "start_time": "2023-07-24T17:14:27.236Z"
   },
   {
    "duration": 52,
    "start_time": "2023-07-24T17:14:27.252Z"
   },
   {
    "duration": 18,
    "start_time": "2023-07-24T17:14:27.306Z"
   },
   {
    "duration": 47,
    "start_time": "2023-07-24T17:14:27.334Z"
   },
   {
    "duration": 10,
    "start_time": "2023-07-24T17:14:27.384Z"
   },
   {
    "duration": 120,
    "start_time": "2023-07-24T17:14:27.397Z"
   },
   {
    "duration": 6,
    "start_time": "2023-07-24T17:14:27.524Z"
   },
   {
    "duration": 97,
    "start_time": "2023-07-24T17:14:27.532Z"
   },
   {
    "duration": 11,
    "start_time": "2023-07-24T17:14:27.638Z"
   },
   {
    "duration": 18,
    "start_time": "2023-07-24T17:14:27.651Z"
   },
   {
    "duration": 65,
    "start_time": "2023-07-24T17:14:27.671Z"
   },
   {
    "duration": 81,
    "start_time": "2023-07-24T17:14:27.740Z"
   },
   {
    "duration": 11,
    "start_time": "2023-07-24T17:14:27.829Z"
   },
   {
    "duration": 23,
    "start_time": "2023-07-24T17:14:27.842Z"
   },
   {
    "duration": 151,
    "start_time": "2023-07-24T17:14:27.866Z"
   },
   {
    "duration": 30,
    "start_time": "2023-07-24T17:14:28.019Z"
   },
   {
    "duration": 24,
    "start_time": "2023-07-24T17:14:28.051Z"
   },
   {
    "duration": 15,
    "start_time": "2023-07-24T17:14:28.077Z"
   },
   {
    "duration": 7,
    "start_time": "2023-07-24T17:14:28.094Z"
   },
   {
    "duration": 3,
    "start_time": "2023-07-24T17:14:28.103Z"
   },
   {
    "duration": 19,
    "start_time": "2023-07-24T17:14:28.108Z"
   },
   {
    "duration": 9,
    "start_time": "2023-07-24T17:14:28.131Z"
   },
   {
    "duration": 32,
    "start_time": "2023-07-24T17:14:28.143Z"
   },
   {
    "duration": 14,
    "start_time": "2023-07-24T17:14:28.177Z"
   },
   {
    "duration": 41,
    "start_time": "2023-07-24T17:14:28.193Z"
   },
   {
    "duration": 15,
    "start_time": "2023-07-24T17:14:28.236Z"
   },
   {
    "duration": 33,
    "start_time": "2023-07-24T17:14:28.253Z"
   },
   {
    "duration": 5,
    "start_time": "2023-07-24T17:14:28.288Z"
   },
   {
    "duration": 24,
    "start_time": "2023-07-24T17:14:28.294Z"
   },
   {
    "duration": 14,
    "start_time": "2023-07-24T17:14:28.325Z"
   },
   {
    "duration": 12,
    "start_time": "2023-07-24T17:14:28.340Z"
   },
   {
    "duration": 12,
    "start_time": "2023-07-24T17:14:28.354Z"
   },
   {
    "duration": 14,
    "start_time": "2023-07-24T17:14:28.367Z"
   },
   {
    "duration": 27,
    "start_time": "2023-07-24T17:14:28.383Z"
   },
   {
    "duration": 48,
    "start_time": "2023-07-24T17:14:28.412Z"
   },
   {
    "duration": 28,
    "start_time": "2023-07-24T17:14:28.463Z"
   },
   {
    "duration": 36,
    "start_time": "2023-07-24T17:14:28.493Z"
   },
   {
    "duration": 29,
    "start_time": "2023-07-24T17:14:28.531Z"
   },
   {
    "duration": 1811,
    "start_time": "2023-07-24T17:14:28.562Z"
   },
   {
    "duration": 1885,
    "start_time": "2023-07-24T17:14:30.374Z"
   },
   {
    "duration": 1986,
    "start_time": "2023-07-24T17:14:32.261Z"
   },
   {
    "duration": 12,
    "start_time": "2023-07-24T17:14:34.249Z"
   },
   {
    "duration": 186,
    "start_time": "2023-07-24T17:14:34.263Z"
   },
   {
    "duration": 151,
    "start_time": "2023-07-24T17:14:34.454Z"
   },
   {
    "duration": 2505,
    "start_time": "2023-07-24T17:20:14.304Z"
   },
   {
    "duration": 1738,
    "start_time": "2023-07-24T17:20:23.945Z"
   },
   {
    "duration": 406,
    "start_time": "2023-07-24T17:20:25.687Z"
   },
   {
    "duration": 46,
    "start_time": "2023-07-24T17:20:26.095Z"
   },
   {
    "duration": 29,
    "start_time": "2023-07-24T17:20:26.145Z"
   },
   {
    "duration": 55,
    "start_time": "2023-07-24T17:20:26.186Z"
   },
   {
    "duration": 5,
    "start_time": "2023-07-24T17:20:26.244Z"
   },
   {
    "duration": 30,
    "start_time": "2023-07-24T17:20:26.252Z"
   },
   {
    "duration": 23,
    "start_time": "2023-07-24T17:20:26.284Z"
   },
   {
    "duration": 59,
    "start_time": "2023-07-24T17:20:26.312Z"
   },
   {
    "duration": 5,
    "start_time": "2023-07-24T17:20:26.374Z"
   },
   {
    "duration": 38,
    "start_time": "2023-07-24T17:20:26.380Z"
   },
   {
    "duration": 26,
    "start_time": "2023-07-24T17:20:26.421Z"
   },
   {
    "duration": 38,
    "start_time": "2023-07-24T17:20:26.450Z"
   },
   {
    "duration": 35,
    "start_time": "2023-07-24T17:20:26.492Z"
   },
   {
    "duration": 57,
    "start_time": "2023-07-24T17:20:26.529Z"
   },
   {
    "duration": 77,
    "start_time": "2023-07-24T17:20:26.588Z"
   },
   {
    "duration": 81,
    "start_time": "2023-07-24T17:20:26.666Z"
   },
   {
    "duration": 34,
    "start_time": "2023-07-24T17:20:26.750Z"
   },
   {
    "duration": 119,
    "start_time": "2023-07-24T17:20:26.786Z"
   },
   {
    "duration": 33,
    "start_time": "2023-07-24T17:20:26.907Z"
   },
   {
    "duration": 55,
    "start_time": "2023-07-24T17:20:26.942Z"
   },
   {
    "duration": 23,
    "start_time": "2023-07-24T17:20:27.018Z"
   },
   {
    "duration": 111,
    "start_time": "2023-07-24T17:20:27.043Z"
   },
   {
    "duration": 17,
    "start_time": "2023-07-24T17:20:27.156Z"
   },
   {
    "duration": 15,
    "start_time": "2023-07-24T17:20:27.176Z"
   },
   {
    "duration": 41,
    "start_time": "2023-07-24T17:20:27.192Z"
   },
   {
    "duration": 12,
    "start_time": "2023-07-24T17:20:27.235Z"
   },
   {
    "duration": 14,
    "start_time": "2023-07-24T17:20:27.249Z"
   },
   {
    "duration": 16,
    "start_time": "2023-07-24T17:20:27.267Z"
   },
   {
    "duration": 133,
    "start_time": "2023-07-24T17:20:27.285Z"
   },
   {
    "duration": 32,
    "start_time": "2023-07-24T17:20:27.430Z"
   },
   {
    "duration": 31,
    "start_time": "2023-07-24T17:20:27.465Z"
   },
   {
    "duration": 969,
    "start_time": "2023-07-24T17:20:27.499Z"
   },
   {
    "duration": 935,
    "start_time": "2023-07-24T17:20:28.469Z"
   },
   {
    "duration": 1120,
    "start_time": "2023-07-24T17:20:29.407Z"
   },
   {
    "duration": 307,
    "start_time": "2023-07-24T17:20:30.531Z"
   },
   {
    "duration": 2391,
    "start_time": "2023-07-24T17:20:30.841Z"
   },
   {
    "duration": 0,
    "start_time": "2023-07-24T17:20:33.236Z"
   },
   {
    "duration": 0,
    "start_time": "2023-07-24T17:20:33.237Z"
   },
   {
    "duration": 0,
    "start_time": "2023-07-24T17:20:33.238Z"
   },
   {
    "duration": 0,
    "start_time": "2023-07-24T17:20:33.239Z"
   },
   {
    "duration": 0,
    "start_time": "2023-07-24T17:20:33.374Z"
   },
   {
    "duration": 0,
    "start_time": "2023-07-24T17:20:33.376Z"
   },
   {
    "duration": 0,
    "start_time": "2023-07-24T17:20:33.377Z"
   },
   {
    "duration": 0,
    "start_time": "2023-07-24T17:20:33.379Z"
   },
   {
    "duration": 0,
    "start_time": "2023-07-24T17:20:33.380Z"
   },
   {
    "duration": 0,
    "start_time": "2023-07-24T17:20:33.381Z"
   },
   {
    "duration": 0,
    "start_time": "2023-07-24T17:20:33.382Z"
   },
   {
    "duration": 0,
    "start_time": "2023-07-24T17:20:33.383Z"
   },
   {
    "duration": 0,
    "start_time": "2023-07-24T17:20:33.384Z"
   },
   {
    "duration": 0,
    "start_time": "2023-07-24T17:20:33.385Z"
   },
   {
    "duration": 0,
    "start_time": "2023-07-24T17:20:33.386Z"
   },
   {
    "duration": 0,
    "start_time": "2023-07-24T17:20:33.387Z"
   },
   {
    "duration": 0,
    "start_time": "2023-07-24T17:20:33.388Z"
   },
   {
    "duration": 0,
    "start_time": "2023-07-24T17:20:33.413Z"
   },
   {
    "duration": 0,
    "start_time": "2023-07-24T17:20:33.414Z"
   },
   {
    "duration": 0,
    "start_time": "2023-07-24T17:20:33.415Z"
   },
   {
    "duration": 0,
    "start_time": "2023-07-24T17:20:33.415Z"
   },
   {
    "duration": 0,
    "start_time": "2023-07-24T17:20:33.416Z"
   },
   {
    "duration": 0,
    "start_time": "2023-07-24T17:20:33.417Z"
   },
   {
    "duration": 0,
    "start_time": "2023-07-24T17:20:33.418Z"
   },
   {
    "duration": 0,
    "start_time": "2023-07-24T17:20:33.418Z"
   },
   {
    "duration": 0,
    "start_time": "2023-07-24T17:20:33.419Z"
   },
   {
    "duration": 0,
    "start_time": "2023-07-24T17:20:33.419Z"
   },
   {
    "duration": 0,
    "start_time": "2023-07-24T17:20:33.420Z"
   },
   {
    "duration": 0,
    "start_time": "2023-07-24T17:20:33.420Z"
   },
   {
    "duration": 0,
    "start_time": "2023-07-24T17:20:33.421Z"
   },
   {
    "duration": 0,
    "start_time": "2023-07-24T17:20:33.424Z"
   },
   {
    "duration": 0,
    "start_time": "2023-07-24T17:20:33.428Z"
   },
   {
    "duration": 0,
    "start_time": "2023-07-24T17:20:33.429Z"
   },
   {
    "duration": 0,
    "start_time": "2023-07-24T17:20:33.430Z"
   },
   {
    "duration": 0,
    "start_time": "2023-07-24T17:20:33.434Z"
   },
   {
    "duration": 0,
    "start_time": "2023-07-24T17:20:33.435Z"
   },
   {
    "duration": 0,
    "start_time": "2023-07-24T17:20:33.436Z"
   },
   {
    "duration": 0,
    "start_time": "2023-07-24T17:20:33.439Z"
   },
   {
    "duration": 0,
    "start_time": "2023-07-24T17:20:33.440Z"
   },
   {
    "duration": 0,
    "start_time": "2023-07-24T17:20:33.441Z"
   },
   {
    "duration": 0,
    "start_time": "2023-07-24T17:20:33.442Z"
   },
   {
    "duration": 0,
    "start_time": "2023-07-24T17:20:33.443Z"
   },
   {
    "duration": 0,
    "start_time": "2023-07-24T17:20:33.444Z"
   },
   {
    "duration": 0,
    "start_time": "2023-07-24T17:20:33.447Z"
   },
   {
    "duration": 0,
    "start_time": "2023-07-24T17:20:33.448Z"
   },
   {
    "duration": 285,
    "start_time": "2023-07-24T17:21:59.036Z"
   },
   {
    "duration": 264,
    "start_time": "2023-07-24T17:24:15.638Z"
   },
   {
    "duration": 287,
    "start_time": "2023-07-24T17:25:03.427Z"
   },
   {
    "duration": 240,
    "start_time": "2023-07-24T17:25:36.737Z"
   },
   {
    "duration": 138,
    "start_time": "2023-07-24T17:34:29.497Z"
   },
   {
    "duration": 1582,
    "start_time": "2023-07-24T17:38:09.975Z"
   },
   {
    "duration": 471,
    "start_time": "2023-07-24T17:38:11.559Z"
   },
   {
    "duration": 26,
    "start_time": "2023-07-24T17:38:12.034Z"
   },
   {
    "duration": 16,
    "start_time": "2023-07-24T17:38:12.062Z"
   },
   {
    "duration": 60,
    "start_time": "2023-07-24T17:38:12.081Z"
   },
   {
    "duration": 9,
    "start_time": "2023-07-24T17:38:12.143Z"
   },
   {
    "duration": 49,
    "start_time": "2023-07-24T17:38:12.154Z"
   },
   {
    "duration": 36,
    "start_time": "2023-07-24T17:38:12.205Z"
   },
   {
    "duration": 53,
    "start_time": "2023-07-24T17:38:12.243Z"
   },
   {
    "duration": 4,
    "start_time": "2023-07-24T17:38:12.299Z"
   },
   {
    "duration": 28,
    "start_time": "2023-07-24T17:38:12.305Z"
   },
   {
    "duration": 25,
    "start_time": "2023-07-24T17:38:12.336Z"
   },
   {
    "duration": 37,
    "start_time": "2023-07-24T17:38:12.363Z"
   },
   {
    "duration": 4,
    "start_time": "2023-07-24T17:38:12.403Z"
   },
   {
    "duration": 88,
    "start_time": "2023-07-24T17:38:12.410Z"
   },
   {
    "duration": 53,
    "start_time": "2023-07-24T17:38:12.500Z"
   },
   {
    "duration": 88,
    "start_time": "2023-07-24T17:38:12.554Z"
   },
   {
    "duration": 24,
    "start_time": "2023-07-24T17:38:12.650Z"
   },
   {
    "duration": 91,
    "start_time": "2023-07-24T17:38:12.676Z"
   },
   {
    "duration": 21,
    "start_time": "2023-07-24T17:38:12.768Z"
   },
   {
    "duration": 91,
    "start_time": "2023-07-24T17:38:12.791Z"
   },
   {
    "duration": 21,
    "start_time": "2023-07-24T17:38:12.884Z"
   },
   {
    "duration": 68,
    "start_time": "2023-07-24T17:38:12.916Z"
   },
   {
    "duration": 17,
    "start_time": "2023-07-24T17:38:12.986Z"
   },
   {
    "duration": 16,
    "start_time": "2023-07-24T17:38:13.005Z"
   },
   {
    "duration": 28,
    "start_time": "2023-07-24T17:38:13.023Z"
   },
   {
    "duration": 14,
    "start_time": "2023-07-24T17:38:13.053Z"
   },
   {
    "duration": 14,
    "start_time": "2023-07-24T17:38:13.069Z"
   },
   {
    "duration": 10,
    "start_time": "2023-07-24T17:38:13.084Z"
   },
   {
    "duration": 79,
    "start_time": "2023-07-24T17:38:13.095Z"
   },
   {
    "duration": 18,
    "start_time": "2023-07-24T17:38:13.176Z"
   },
   {
    "duration": 41,
    "start_time": "2023-07-24T17:38:13.196Z"
   },
   {
    "duration": 950,
    "start_time": "2023-07-24T17:38:13.239Z"
   },
   {
    "duration": 847,
    "start_time": "2023-07-24T17:38:14.191Z"
   },
   {
    "duration": 841,
    "start_time": "2023-07-24T17:38:15.040Z"
   },
   {
    "duration": 286,
    "start_time": "2023-07-24T17:38:15.883Z"
   },
   {
    "duration": 277,
    "start_time": "2023-07-24T17:38:16.171Z"
   },
   {
    "duration": 387,
    "start_time": "2023-07-24T17:38:16.450Z"
   },
   {
    "duration": 243,
    "start_time": "2023-07-24T17:38:16.838Z"
   },
   {
    "duration": 48,
    "start_time": "2023-07-24T17:38:17.084Z"
   },
   {
    "duration": 9,
    "start_time": "2023-07-24T17:38:17.140Z"
   },
   {
    "duration": 26,
    "start_time": "2023-07-24T17:38:17.151Z"
   },
   {
    "duration": 7,
    "start_time": "2023-07-24T17:38:17.179Z"
   },
   {
    "duration": 79,
    "start_time": "2023-07-24T17:38:17.188Z"
   },
   {
    "duration": 8,
    "start_time": "2023-07-24T17:38:17.269Z"
   },
   {
    "duration": 39,
    "start_time": "2023-07-24T17:38:17.279Z"
   },
   {
    "duration": 6,
    "start_time": "2023-07-24T17:38:17.322Z"
   },
   {
    "duration": 95,
    "start_time": "2023-07-24T17:38:17.330Z"
   },
   {
    "duration": 9,
    "start_time": "2023-07-24T17:38:17.428Z"
   },
   {
    "duration": 75,
    "start_time": "2023-07-24T17:38:17.439Z"
   },
   {
    "duration": 16,
    "start_time": "2023-07-24T17:38:17.517Z"
   },
   {
    "duration": 75,
    "start_time": "2023-07-24T17:38:17.541Z"
   },
   {
    "duration": 9,
    "start_time": "2023-07-24T17:38:17.623Z"
   },
   {
    "duration": 23,
    "start_time": "2023-07-24T17:38:17.634Z"
   },
   {
    "duration": 64,
    "start_time": "2023-07-24T17:38:17.660Z"
   },
   {
    "duration": 11,
    "start_time": "2023-07-24T17:38:17.731Z"
   },
   {
    "duration": 6,
    "start_time": "2023-07-24T17:38:17.745Z"
   },
   {
    "duration": 71,
    "start_time": "2023-07-24T17:38:17.754Z"
   },
   {
    "duration": 7,
    "start_time": "2023-07-24T17:38:17.829Z"
   },
   {
    "duration": 6,
    "start_time": "2023-07-24T17:38:17.837Z"
   },
   {
    "duration": 8,
    "start_time": "2023-07-24T17:38:17.845Z"
   },
   {
    "duration": 16,
    "start_time": "2023-07-24T17:38:17.855Z"
   },
   {
    "duration": 18,
    "start_time": "2023-07-24T17:38:17.873Z"
   },
   {
    "duration": 25,
    "start_time": "2023-07-24T17:38:17.893Z"
   },
   {
    "duration": 19,
    "start_time": "2023-07-24T17:38:17.920Z"
   },
   {
    "duration": 4,
    "start_time": "2023-07-24T17:38:17.941Z"
   },
   {
    "duration": 21,
    "start_time": "2023-07-24T17:38:17.948Z"
   },
   {
    "duration": 4,
    "start_time": "2023-07-24T17:38:17.971Z"
   },
   {
    "duration": 11,
    "start_time": "2023-07-24T17:38:17.977Z"
   },
   {
    "duration": 37,
    "start_time": "2023-07-24T17:38:17.989Z"
   },
   {
    "duration": 14,
    "start_time": "2023-07-24T17:38:18.034Z"
   },
   {
    "duration": 9,
    "start_time": "2023-07-24T17:38:18.050Z"
   },
   {
    "duration": 5,
    "start_time": "2023-07-24T17:38:18.061Z"
   },
   {
    "duration": 18,
    "start_time": "2023-07-24T17:38:18.068Z"
   },
   {
    "duration": 8,
    "start_time": "2023-07-24T17:38:18.088Z"
   },
   {
    "duration": 8,
    "start_time": "2023-07-24T17:38:18.098Z"
   },
   {
    "duration": 11,
    "start_time": "2023-07-24T17:38:18.108Z"
   },
   {
    "duration": 23,
    "start_time": "2023-07-24T17:38:18.121Z"
   },
   {
    "duration": 1926,
    "start_time": "2023-07-24T17:38:18.146Z"
   },
   {
    "duration": 2201,
    "start_time": "2023-07-24T17:38:20.074Z"
   },
   {
    "duration": 1857,
    "start_time": "2023-07-24T17:38:22.277Z"
   },
   {
    "duration": 13,
    "start_time": "2023-07-24T17:38:24.135Z"
   },
   {
    "duration": 146,
    "start_time": "2023-07-24T17:38:24.150Z"
   },
   {
    "duration": 105,
    "start_time": "2023-07-24T17:38:24.298Z"
   },
   {
    "duration": 1623,
    "start_time": "2023-07-24T17:43:20.006Z"
   },
   {
    "duration": 422,
    "start_time": "2023-07-24T17:43:21.633Z"
   },
   {
    "duration": 12,
    "start_time": "2023-07-24T17:43:22.056Z"
   },
   {
    "duration": 28,
    "start_time": "2023-07-24T17:43:22.070Z"
   },
   {
    "duration": 60,
    "start_time": "2023-07-24T17:43:22.100Z"
   },
   {
    "duration": 4,
    "start_time": "2023-07-24T17:43:22.163Z"
   },
   {
    "duration": 30,
    "start_time": "2023-07-24T17:43:22.169Z"
   },
   {
    "duration": 51,
    "start_time": "2023-07-24T17:43:22.201Z"
   },
   {
    "duration": 70,
    "start_time": "2023-07-24T17:43:22.255Z"
   },
   {
    "duration": 5,
    "start_time": "2023-07-24T17:43:22.336Z"
   },
   {
    "duration": 34,
    "start_time": "2023-07-24T17:43:22.343Z"
   },
   {
    "duration": 48,
    "start_time": "2023-07-24T17:43:22.380Z"
   },
   {
    "duration": 42,
    "start_time": "2023-07-24T17:43:22.436Z"
   },
   {
    "duration": 5,
    "start_time": "2023-07-24T17:43:22.479Z"
   },
   {
    "duration": 145,
    "start_time": "2023-07-24T17:43:22.487Z"
   },
   {
    "duration": 62,
    "start_time": "2023-07-24T17:43:22.636Z"
   },
   {
    "duration": 54,
    "start_time": "2023-07-24T17:43:22.700Z"
   },
   {
    "duration": 17,
    "start_time": "2023-07-24T17:43:22.756Z"
   },
   {
    "duration": 104,
    "start_time": "2023-07-24T17:43:22.775Z"
   },
   {
    "duration": 17,
    "start_time": "2023-07-24T17:43:22.881Z"
   },
   {
    "duration": 91,
    "start_time": "2023-07-24T17:43:22.900Z"
   },
   {
    "duration": 30,
    "start_time": "2023-07-24T17:43:22.993Z"
   },
   {
    "duration": 101,
    "start_time": "2023-07-24T17:43:23.031Z"
   },
   {
    "duration": 14,
    "start_time": "2023-07-24T17:43:23.134Z"
   },
   {
    "duration": 20,
    "start_time": "2023-07-24T17:43:23.149Z"
   },
   {
    "duration": 19,
    "start_time": "2023-07-24T17:43:23.171Z"
   },
   {
    "duration": 33,
    "start_time": "2023-07-24T17:43:23.192Z"
   },
   {
    "duration": 18,
    "start_time": "2023-07-24T17:43:23.235Z"
   },
   {
    "duration": 18,
    "start_time": "2023-07-24T17:43:23.255Z"
   },
   {
    "duration": 107,
    "start_time": "2023-07-24T17:43:23.276Z"
   },
   {
    "duration": 46,
    "start_time": "2023-07-24T17:43:23.385Z"
   },
   {
    "duration": 34,
    "start_time": "2023-07-24T17:43:23.433Z"
   },
   {
    "duration": 1196,
    "start_time": "2023-07-24T17:43:23.469Z"
   },
   {
    "duration": 788,
    "start_time": "2023-07-24T17:43:24.666Z"
   },
   {
    "duration": 793,
    "start_time": "2023-07-24T17:43:25.456Z"
   },
   {
    "duration": 263,
    "start_time": "2023-07-24T17:43:26.251Z"
   },
   {
    "duration": 244,
    "start_time": "2023-07-24T17:43:26.515Z"
   },
   {
    "duration": 372,
    "start_time": "2023-07-24T17:43:26.761Z"
   },
   {
    "duration": 232,
    "start_time": "2023-07-24T17:43:27.135Z"
   },
   {
    "duration": 28,
    "start_time": "2023-07-24T17:43:27.370Z"
   },
   {
    "duration": 8,
    "start_time": "2023-07-24T17:43:27.417Z"
   },
   {
    "duration": 70,
    "start_time": "2023-07-24T17:43:27.427Z"
   },
   {
    "duration": 17,
    "start_time": "2023-07-24T17:43:27.499Z"
   },
   {
    "duration": 43,
    "start_time": "2023-07-24T17:43:27.521Z"
   },
   {
    "duration": 10,
    "start_time": "2023-07-24T17:43:27.566Z"
   },
   {
    "duration": 149,
    "start_time": "2023-07-24T17:43:27.578Z"
   },
   {
    "duration": 16,
    "start_time": "2023-07-24T17:43:27.729Z"
   },
   {
    "duration": 91,
    "start_time": "2023-07-24T17:43:27.747Z"
   },
   {
    "duration": 21,
    "start_time": "2023-07-24T17:43:27.840Z"
   },
   {
    "duration": 42,
    "start_time": "2023-07-24T17:43:27.863Z"
   },
   {
    "duration": 21,
    "start_time": "2023-07-24T17:43:27.908Z"
   },
   {
    "duration": 86,
    "start_time": "2023-07-24T17:43:27.931Z"
   },
   {
    "duration": 26,
    "start_time": "2023-07-24T17:43:28.019Z"
   },
   {
    "duration": 78,
    "start_time": "2023-07-24T17:43:28.047Z"
   },
   {
    "duration": 94,
    "start_time": "2023-07-24T17:43:28.127Z"
   },
   {
    "duration": 22,
    "start_time": "2023-07-24T17:43:28.224Z"
   },
   {
    "duration": 46,
    "start_time": "2023-07-24T17:43:28.248Z"
   },
   {
    "duration": 27,
    "start_time": "2023-07-24T17:43:28.296Z"
   },
   {
    "duration": 35,
    "start_time": "2023-07-24T17:43:28.325Z"
   },
   {
    "duration": 49,
    "start_time": "2023-07-24T17:43:28.362Z"
   },
   {
    "duration": 21,
    "start_time": "2023-07-24T17:43:28.414Z"
   },
   {
    "duration": 32,
    "start_time": "2023-07-24T17:43:28.437Z"
   },
   {
    "duration": 58,
    "start_time": "2023-07-24T17:43:28.472Z"
   },
   {
    "duration": 29,
    "start_time": "2023-07-24T17:43:28.532Z"
   },
   {
    "duration": 32,
    "start_time": "2023-07-24T17:43:28.564Z"
   },
   {
    "duration": 20,
    "start_time": "2023-07-24T17:43:28.597Z"
   },
   {
    "duration": 46,
    "start_time": "2023-07-24T17:43:28.619Z"
   },
   {
    "duration": 17,
    "start_time": "2023-07-24T17:43:28.667Z"
   },
   {
    "duration": 55,
    "start_time": "2023-07-24T17:43:28.686Z"
   },
   {
    "duration": 59,
    "start_time": "2023-07-24T17:43:28.743Z"
   },
   {
    "duration": 37,
    "start_time": "2023-07-24T17:43:28.804Z"
   },
   {
    "duration": 30,
    "start_time": "2023-07-24T17:43:28.842Z"
   },
   {
    "duration": 50,
    "start_time": "2023-07-24T17:43:28.874Z"
   },
   {
    "duration": 44,
    "start_time": "2023-07-24T17:43:28.926Z"
   },
   {
    "duration": 32,
    "start_time": "2023-07-24T17:43:28.971Z"
   },
   {
    "duration": 39,
    "start_time": "2023-07-24T17:43:29.004Z"
   },
   {
    "duration": 24,
    "start_time": "2023-07-24T17:43:29.044Z"
   },
   {
    "duration": 15,
    "start_time": "2023-07-24T17:43:29.070Z"
   },
   {
    "duration": 1956,
    "start_time": "2023-07-24T17:43:29.086Z"
   },
   {
    "duration": 1790,
    "start_time": "2023-07-24T17:43:31.044Z"
   },
   {
    "duration": 1900,
    "start_time": "2023-07-24T17:43:32.839Z"
   },
   {
    "duration": 24,
    "start_time": "2023-07-24T17:43:34.746Z"
   },
   {
    "duration": 172,
    "start_time": "2023-07-24T17:43:34.773Z"
   },
   {
    "duration": 113,
    "start_time": "2023-07-24T17:43:34.947Z"
   },
   {
    "duration": 2060,
    "start_time": "2023-07-24T17:56:07.501Z"
   },
   {
    "duration": 538,
    "start_time": "2023-07-24T17:56:09.563Z"
   },
   {
    "duration": 16,
    "start_time": "2023-07-24T17:56:10.103Z"
   },
   {
    "duration": 30,
    "start_time": "2023-07-24T17:56:10.121Z"
   },
   {
    "duration": 66,
    "start_time": "2023-07-24T17:56:10.154Z"
   },
   {
    "duration": 17,
    "start_time": "2023-07-24T17:56:10.224Z"
   },
   {
    "duration": 36,
    "start_time": "2023-07-24T17:56:10.243Z"
   },
   {
    "duration": 68,
    "start_time": "2023-07-24T17:56:10.281Z"
   },
   {
    "duration": 55,
    "start_time": "2023-07-24T17:56:10.351Z"
   },
   {
    "duration": 4,
    "start_time": "2023-07-24T17:56:10.408Z"
   },
   {
    "duration": 51,
    "start_time": "2023-07-24T17:56:10.416Z"
   },
   {
    "duration": 51,
    "start_time": "2023-07-24T17:56:10.469Z"
   },
   {
    "duration": 55,
    "start_time": "2023-07-24T17:56:10.524Z"
   },
   {
    "duration": 6,
    "start_time": "2023-07-24T17:56:10.583Z"
   },
   {
    "duration": 99,
    "start_time": "2023-07-24T17:56:10.591Z"
   },
   {
    "duration": 59,
    "start_time": "2023-07-24T17:56:10.693Z"
   },
   {
    "duration": 78,
    "start_time": "2023-07-24T17:56:10.755Z"
   },
   {
    "duration": 29,
    "start_time": "2023-07-24T17:56:10.835Z"
   },
   {
    "duration": 135,
    "start_time": "2023-07-24T17:56:10.866Z"
   },
   {
    "duration": 37,
    "start_time": "2023-07-24T17:56:11.004Z"
   },
   {
    "duration": 116,
    "start_time": "2023-07-24T17:56:11.043Z"
   },
   {
    "duration": 34,
    "start_time": "2023-07-24T17:56:11.162Z"
   },
   {
    "duration": 133,
    "start_time": "2023-07-24T17:56:11.198Z"
   },
   {
    "duration": 18,
    "start_time": "2023-07-24T17:56:11.332Z"
   },
   {
    "duration": 16,
    "start_time": "2023-07-24T17:56:11.352Z"
   },
   {
    "duration": 21,
    "start_time": "2023-07-24T17:56:11.371Z"
   },
   {
    "duration": 14,
    "start_time": "2023-07-24T17:56:11.395Z"
   },
   {
    "duration": 12,
    "start_time": "2023-07-24T17:56:11.415Z"
   },
   {
    "duration": 47,
    "start_time": "2023-07-24T17:56:11.428Z"
   },
   {
    "duration": 57,
    "start_time": "2023-07-24T17:56:11.477Z"
   },
   {
    "duration": 20,
    "start_time": "2023-07-24T17:56:11.535Z"
   },
   {
    "duration": 34,
    "start_time": "2023-07-24T17:56:11.557Z"
   },
   {
    "duration": 1101,
    "start_time": "2023-07-24T17:56:11.593Z"
   },
   {
    "duration": 788,
    "start_time": "2023-07-24T17:56:12.697Z"
   },
   {
    "duration": 1021,
    "start_time": "2023-07-24T17:56:13.487Z"
   },
   {
    "duration": 338,
    "start_time": "2023-07-24T17:56:14.510Z"
   },
   {
    "duration": 294,
    "start_time": "2023-07-24T17:56:14.850Z"
   },
   {
    "duration": 379,
    "start_time": "2023-07-24T17:56:15.146Z"
   },
   {
    "duration": 312,
    "start_time": "2023-07-24T17:56:15.531Z"
   },
   {
    "duration": 19,
    "start_time": "2023-07-24T17:56:15.845Z"
   },
   {
    "duration": 19,
    "start_time": "2023-07-24T17:56:15.868Z"
   },
   {
    "duration": 48,
    "start_time": "2023-07-24T17:56:15.888Z"
   },
   {
    "duration": 7,
    "start_time": "2023-07-24T17:56:15.938Z"
   },
   {
    "duration": 34,
    "start_time": "2023-07-24T17:56:15.947Z"
   },
   {
    "duration": 7,
    "start_time": "2023-07-24T17:56:15.982Z"
   },
   {
    "duration": 133,
    "start_time": "2023-07-24T17:56:15.990Z"
   },
   {
    "duration": 13,
    "start_time": "2023-07-24T17:56:16.125Z"
   },
   {
    "duration": 13,
    "start_time": "2023-07-24T17:56:16.142Z"
   },
   {
    "duration": 75,
    "start_time": "2023-07-24T17:56:16.158Z"
   },
   {
    "duration": 100,
    "start_time": "2023-07-24T17:56:16.235Z"
   },
   {
    "duration": 73,
    "start_time": "2023-07-24T17:56:16.343Z"
   },
   {
    "duration": 16,
    "start_time": "2023-07-24T17:56:16.419Z"
   },
   {
    "duration": 11,
    "start_time": "2023-07-24T17:56:16.437Z"
   },
   {
    "duration": 68,
    "start_time": "2023-07-24T17:56:16.450Z"
   },
   {
    "duration": 12,
    "start_time": "2023-07-24T17:56:16.522Z"
   },
   {
    "duration": 82,
    "start_time": "2023-07-24T17:56:16.538Z"
   },
   {
    "duration": 5,
    "start_time": "2023-07-24T17:56:16.623Z"
   },
   {
    "duration": 14,
    "start_time": "2023-07-24T17:56:16.631Z"
   },
   {
    "duration": 6,
    "start_time": "2023-07-24T17:56:16.647Z"
   },
   {
    "duration": 13,
    "start_time": "2023-07-24T17:56:16.655Z"
   },
   {
    "duration": 17,
    "start_time": "2023-07-24T17:56:16.670Z"
   },
   {
    "duration": 25,
    "start_time": "2023-07-24T17:56:16.689Z"
   },
   {
    "duration": 38,
    "start_time": "2023-07-24T17:56:16.716Z"
   },
   {
    "duration": 4,
    "start_time": "2023-07-24T17:56:16.756Z"
   },
   {
    "duration": 16,
    "start_time": "2023-07-24T17:56:16.761Z"
   },
   {
    "duration": 3,
    "start_time": "2023-07-24T17:56:16.779Z"
   },
   {
    "duration": 15,
    "start_time": "2023-07-24T17:56:16.784Z"
   },
   {
    "duration": 21,
    "start_time": "2023-07-24T17:56:16.800Z"
   },
   {
    "duration": 27,
    "start_time": "2023-07-24T17:56:16.822Z"
   },
   {
    "duration": 13,
    "start_time": "2023-07-24T17:56:16.850Z"
   },
   {
    "duration": 126,
    "start_time": "2023-07-24T17:56:16.864Z"
   },
   {
    "duration": 0,
    "start_time": "2023-07-24T17:56:16.992Z"
   },
   {
    "duration": 0,
    "start_time": "2023-07-24T17:56:16.993Z"
   },
   {
    "duration": 0,
    "start_time": "2023-07-24T17:56:16.995Z"
   },
   {
    "duration": 0,
    "start_time": "2023-07-24T17:56:16.997Z"
   },
   {
    "duration": 0,
    "start_time": "2023-07-24T17:56:16.998Z"
   },
   {
    "duration": 0,
    "start_time": "2023-07-24T17:56:16.999Z"
   },
   {
    "duration": 0,
    "start_time": "2023-07-24T17:56:17.001Z"
   },
   {
    "duration": 0,
    "start_time": "2023-07-24T17:56:17.003Z"
   },
   {
    "duration": 0,
    "start_time": "2023-07-24T17:56:17.005Z"
   },
   {
    "duration": 0,
    "start_time": "2023-07-24T17:56:17.006Z"
   },
   {
    "duration": 0,
    "start_time": "2023-07-24T17:56:17.008Z"
   },
   {
    "duration": 0,
    "start_time": "2023-07-24T17:56:17.009Z"
   },
   {
    "duration": 1,
    "start_time": "2023-07-24T17:56:17.011Z"
   },
   {
    "duration": 124,
    "start_time": "2023-07-24T17:56:38.457Z"
   },
   {
    "duration": 5,
    "start_time": "2023-07-24T17:56:45.708Z"
   },
   {
    "duration": 4,
    "start_time": "2023-07-24T17:56:51.473Z"
   },
   {
    "duration": 125,
    "start_time": "2023-07-24T17:57:20.844Z"
   },
   {
    "duration": 4,
    "start_time": "2023-07-24T17:57:27.194Z"
   },
   {
    "duration": 4,
    "start_time": "2023-07-24T17:57:37.581Z"
   },
   {
    "duration": 1605,
    "start_time": "2023-07-24T17:57:54.474Z"
   },
   {
    "duration": 398,
    "start_time": "2023-07-24T17:57:56.081Z"
   },
   {
    "duration": 13,
    "start_time": "2023-07-24T17:57:56.481Z"
   },
   {
    "duration": 40,
    "start_time": "2023-07-24T17:57:56.496Z"
   },
   {
    "duration": 49,
    "start_time": "2023-07-24T17:57:56.546Z"
   },
   {
    "duration": 5,
    "start_time": "2023-07-24T17:57:56.597Z"
   },
   {
    "duration": 19,
    "start_time": "2023-07-24T17:57:56.613Z"
   },
   {
    "duration": 19,
    "start_time": "2023-07-24T17:57:56.634Z"
   },
   {
    "duration": 40,
    "start_time": "2023-07-24T17:57:56.655Z"
   },
   {
    "duration": 9,
    "start_time": "2023-07-24T17:57:56.714Z"
   },
   {
    "duration": 19,
    "start_time": "2023-07-24T17:57:56.730Z"
   },
   {
    "duration": 19,
    "start_time": "2023-07-24T17:57:56.754Z"
   },
   {
    "duration": 48,
    "start_time": "2023-07-24T17:57:56.775Z"
   },
   {
    "duration": 12,
    "start_time": "2023-07-24T17:57:56.829Z"
   },
   {
    "duration": 83,
    "start_time": "2023-07-24T17:57:56.848Z"
   },
   {
    "duration": 59,
    "start_time": "2023-07-24T17:57:56.938Z"
   },
   {
    "duration": 54,
    "start_time": "2023-07-24T17:57:56.999Z"
   },
   {
    "duration": 29,
    "start_time": "2023-07-24T17:57:57.055Z"
   },
   {
    "duration": 116,
    "start_time": "2023-07-24T17:57:57.086Z"
   },
   {
    "duration": 31,
    "start_time": "2023-07-24T17:57:57.204Z"
   },
   {
    "duration": 58,
    "start_time": "2023-07-24T17:57:57.238Z"
   },
   {
    "duration": 45,
    "start_time": "2023-07-24T17:57:57.298Z"
   },
   {
    "duration": 108,
    "start_time": "2023-07-24T17:57:57.345Z"
   },
   {
    "duration": 16,
    "start_time": "2023-07-24T17:57:57.455Z"
   },
   {
    "duration": 29,
    "start_time": "2023-07-24T17:57:57.472Z"
   },
   {
    "duration": 38,
    "start_time": "2023-07-24T17:57:57.503Z"
   },
   {
    "duration": 12,
    "start_time": "2023-07-24T17:57:57.543Z"
   },
   {
    "duration": 16,
    "start_time": "2023-07-24T17:57:57.557Z"
   },
   {
    "duration": 11,
    "start_time": "2023-07-24T17:57:57.575Z"
   },
   {
    "duration": 85,
    "start_time": "2023-07-24T17:57:57.588Z"
   },
   {
    "duration": 25,
    "start_time": "2023-07-24T17:57:57.675Z"
   },
   {
    "duration": 35,
    "start_time": "2023-07-24T17:57:57.702Z"
   },
   {
    "duration": 954,
    "start_time": "2023-07-24T17:57:57.739Z"
   },
   {
    "duration": 1181,
    "start_time": "2023-07-24T17:57:58.696Z"
   },
   {
    "duration": 1021,
    "start_time": "2023-07-24T17:57:59.879Z"
   },
   {
    "duration": 354,
    "start_time": "2023-07-24T17:58:00.902Z"
   },
   {
    "duration": 342,
    "start_time": "2023-07-24T17:58:01.258Z"
   },
   {
    "duration": 504,
    "start_time": "2023-07-24T17:58:01.602Z"
   },
   {
    "duration": 373,
    "start_time": "2023-07-24T17:58:02.109Z"
   },
   {
    "duration": 50,
    "start_time": "2023-07-24T17:58:02.484Z"
   },
   {
    "duration": 18,
    "start_time": "2023-07-24T17:58:02.549Z"
   },
   {
    "duration": 92,
    "start_time": "2023-07-24T17:58:02.573Z"
   },
   {
    "duration": 13,
    "start_time": "2023-07-24T17:58:02.668Z"
   },
   {
    "duration": 98,
    "start_time": "2023-07-24T17:58:02.683Z"
   },
   {
    "duration": 84,
    "start_time": "2023-07-24T17:58:02.783Z"
   },
   {
    "duration": 60,
    "start_time": "2023-07-24T17:58:02.869Z"
   },
   {
    "duration": 12,
    "start_time": "2023-07-24T17:58:02.931Z"
   },
   {
    "duration": 88,
    "start_time": "2023-07-24T17:58:02.945Z"
   },
   {
    "duration": 42,
    "start_time": "2023-07-24T17:58:03.035Z"
   },
   {
    "duration": 137,
    "start_time": "2023-07-24T17:58:03.079Z"
   },
   {
    "duration": 18,
    "start_time": "2023-07-24T17:58:03.226Z"
   },
   {
    "duration": 63,
    "start_time": "2023-07-24T17:58:03.258Z"
   },
   {
    "duration": 28,
    "start_time": "2023-07-24T17:58:03.327Z"
   },
   {
    "duration": 84,
    "start_time": "2023-07-24T17:58:03.358Z"
   },
   {
    "duration": 81,
    "start_time": "2023-07-24T17:58:03.453Z"
   },
   {
    "duration": 89,
    "start_time": "2023-07-24T17:58:03.543Z"
   },
   {
    "duration": 15,
    "start_time": "2023-07-24T17:58:03.639Z"
   },
   {
    "duration": 25,
    "start_time": "2023-07-24T17:58:03.663Z"
   },
   {
    "duration": 8,
    "start_time": "2023-07-24T17:58:03.691Z"
   },
   {
    "duration": 22,
    "start_time": "2023-07-24T17:58:03.703Z"
   },
   {
    "duration": 9,
    "start_time": "2023-07-24T17:58:03.729Z"
   },
   {
    "duration": 25,
    "start_time": "2023-07-24T17:58:03.740Z"
   },
   {
    "duration": 42,
    "start_time": "2023-07-24T17:58:03.767Z"
   },
   {
    "duration": 8,
    "start_time": "2023-07-24T17:58:03.811Z"
   },
   {
    "duration": 32,
    "start_time": "2023-07-24T17:58:03.821Z"
   },
   {
    "duration": 16,
    "start_time": "2023-07-24T17:58:03.855Z"
   },
   {
    "duration": 18,
    "start_time": "2023-07-24T17:58:03.874Z"
   },
   {
    "duration": 4,
    "start_time": "2023-07-24T17:58:03.894Z"
   },
   {
    "duration": 34,
    "start_time": "2023-07-24T17:58:03.900Z"
   },
   {
    "duration": 17,
    "start_time": "2023-07-24T17:58:03.936Z"
   },
   {
    "duration": 5,
    "start_time": "2023-07-24T17:58:03.955Z"
   },
   {
    "duration": 10,
    "start_time": "2023-07-24T17:58:03.962Z"
   },
   {
    "duration": 24,
    "start_time": "2023-07-24T17:58:03.973Z"
   },
   {
    "duration": 12,
    "start_time": "2023-07-24T17:58:04.002Z"
   },
   {
    "duration": 13,
    "start_time": "2023-07-24T17:58:04.016Z"
   },
   {
    "duration": 9,
    "start_time": "2023-07-24T17:58:04.032Z"
   },
   {
    "duration": 4,
    "start_time": "2023-07-24T17:58:04.043Z"
   },
   {
    "duration": 10,
    "start_time": "2023-07-24T17:58:04.050Z"
   },
   {
    "duration": 224,
    "start_time": "2023-07-24T17:58:04.063Z"
   },
   {
    "duration": 0,
    "start_time": "2023-07-24T17:58:04.289Z"
   },
   {
    "duration": 0,
    "start_time": "2023-07-24T17:58:04.295Z"
   },
   {
    "duration": 0,
    "start_time": "2023-07-24T17:58:04.297Z"
   },
   {
    "duration": 0,
    "start_time": "2023-07-24T17:58:04.299Z"
   },
   {
    "duration": 0,
    "start_time": "2023-07-24T17:58:04.324Z"
   },
   {
    "duration": 11,
    "start_time": "2023-07-24T17:59:45.567Z"
   },
   {
    "duration": 2297,
    "start_time": "2023-07-24T17:59:48.529Z"
   },
   {
    "duration": 1818,
    "start_time": "2023-07-24T17:59:57.247Z"
   },
   {
    "duration": 2200,
    "start_time": "2023-07-24T18:00:00.548Z"
   },
   {
    "duration": 6,
    "start_time": "2023-07-24T18:01:47.337Z"
   },
   {
    "duration": 2207,
    "start_time": "2023-07-24T18:02:08.595Z"
   },
   {
    "duration": 1838,
    "start_time": "2023-07-24T18:02:10.804Z"
   },
   {
    "duration": 23,
    "start_time": "2023-07-24T18:02:12.644Z"
   },
   {
    "duration": 40,
    "start_time": "2023-07-24T18:02:12.670Z"
   },
   {
    "duration": 60,
    "start_time": "2023-07-24T18:02:12.713Z"
   },
   {
    "duration": 6,
    "start_time": "2023-07-24T18:02:12.776Z"
   },
   {
    "duration": 33,
    "start_time": "2023-07-24T18:02:12.784Z"
   },
   {
    "duration": 32,
    "start_time": "2023-07-24T18:02:12.821Z"
   },
   {
    "duration": 75,
    "start_time": "2023-07-24T18:02:12.856Z"
   },
   {
    "duration": 5,
    "start_time": "2023-07-24T18:02:12.934Z"
   },
   {
    "duration": 12,
    "start_time": "2023-07-24T18:02:12.941Z"
   },
   {
    "duration": 20,
    "start_time": "2023-07-24T18:02:12.955Z"
   },
   {
    "duration": 42,
    "start_time": "2023-07-24T18:02:12.977Z"
   },
   {
    "duration": 6,
    "start_time": "2023-07-24T18:02:13.024Z"
   },
   {
    "duration": 110,
    "start_time": "2023-07-24T18:02:13.033Z"
   },
   {
    "duration": 47,
    "start_time": "2023-07-24T18:02:13.144Z"
   },
   {
    "duration": 92,
    "start_time": "2023-07-24T18:02:13.193Z"
   },
   {
    "duration": 30,
    "start_time": "2023-07-24T18:02:13.286Z"
   },
   {
    "duration": 60,
    "start_time": "2023-07-24T18:02:13.318Z"
   },
   {
    "duration": 36,
    "start_time": "2023-07-24T18:02:13.380Z"
   },
   {
    "duration": 121,
    "start_time": "2023-07-24T18:02:13.419Z"
   },
   {
    "duration": 40,
    "start_time": "2023-07-24T18:02:13.542Z"
   },
   {
    "duration": 139,
    "start_time": "2023-07-24T18:02:13.585Z"
   },
   {
    "duration": 18,
    "start_time": "2023-07-24T18:02:13.726Z"
   },
   {
    "duration": 25,
    "start_time": "2023-07-24T18:02:13.746Z"
   },
   {
    "duration": 51,
    "start_time": "2023-07-24T18:02:13.773Z"
   },
   {
    "duration": 21,
    "start_time": "2023-07-24T18:02:13.827Z"
   },
   {
    "duration": 15,
    "start_time": "2023-07-24T18:02:13.851Z"
   },
   {
    "duration": 16,
    "start_time": "2023-07-24T18:02:13.869Z"
   },
   {
    "duration": 162,
    "start_time": "2023-07-24T18:02:13.888Z"
   },
   {
    "duration": 29,
    "start_time": "2023-07-24T18:02:14.052Z"
   },
   {
    "duration": 73,
    "start_time": "2023-07-24T18:02:14.083Z"
   },
   {
    "duration": 992,
    "start_time": "2023-07-24T18:02:14.159Z"
   },
   {
    "duration": 1081,
    "start_time": "2023-07-24T18:02:15.159Z"
   },
   {
    "duration": 933,
    "start_time": "2023-07-24T18:02:16.241Z"
   },
   {
    "duration": 299,
    "start_time": "2023-07-24T18:02:17.177Z"
   },
   {
    "duration": 347,
    "start_time": "2023-07-24T18:02:17.478Z"
   },
   {
    "duration": 490,
    "start_time": "2023-07-24T18:02:17.828Z"
   },
   {
    "duration": 279,
    "start_time": "2023-07-24T18:02:18.320Z"
   },
   {
    "duration": 54,
    "start_time": "2023-07-24T18:02:18.602Z"
   },
   {
    "duration": 11,
    "start_time": "2023-07-24T18:02:18.674Z"
   },
   {
    "duration": 36,
    "start_time": "2023-07-24T18:02:18.688Z"
   },
   {
    "duration": 8,
    "start_time": "2023-07-24T18:02:18.729Z"
   },
   {
    "duration": 49,
    "start_time": "2023-07-24T18:02:18.742Z"
   },
   {
    "duration": 9,
    "start_time": "2023-07-24T18:02:18.797Z"
   },
   {
    "duration": 60,
    "start_time": "2023-07-24T18:02:18.808Z"
   },
   {
    "duration": 8,
    "start_time": "2023-07-24T18:02:18.874Z"
   },
   {
    "duration": 60,
    "start_time": "2023-07-24T18:02:18.885Z"
   },
   {
    "duration": 21,
    "start_time": "2023-07-24T18:02:18.947Z"
   },
   {
    "duration": 48,
    "start_time": "2023-07-24T18:02:19.014Z"
   },
   {
    "duration": 60,
    "start_time": "2023-07-24T18:02:19.064Z"
   },
   {
    "duration": 94,
    "start_time": "2023-07-24T18:02:19.125Z"
   },
   {
    "duration": 108,
    "start_time": "2023-07-24T18:02:19.220Z"
   },
   {
    "duration": 60,
    "start_time": "2023-07-24T18:02:19.330Z"
   },
   {
    "duration": 41,
    "start_time": "2023-07-24T18:02:19.392Z"
   },
   {
    "duration": 82,
    "start_time": "2023-07-24T18:02:19.435Z"
   },
   {
    "duration": 30,
    "start_time": "2023-07-24T18:02:19.519Z"
   },
   {
    "duration": 34,
    "start_time": "2023-07-24T18:02:19.551Z"
   },
   {
    "duration": 73,
    "start_time": "2023-07-24T18:02:19.588Z"
   },
   {
    "duration": 7,
    "start_time": "2023-07-24T18:02:19.665Z"
   },
   {
    "duration": 9,
    "start_time": "2023-07-24T18:02:19.674Z"
   },
   {
    "duration": 6,
    "start_time": "2023-07-24T18:02:19.685Z"
   },
   {
    "duration": 28,
    "start_time": "2023-07-24T18:02:19.692Z"
   },
   {
    "duration": 4,
    "start_time": "2023-07-24T18:02:19.722Z"
   },
   {
    "duration": 43,
    "start_time": "2023-07-24T18:02:19.728Z"
   },
   {
    "duration": 5,
    "start_time": "2023-07-24T18:02:19.772Z"
   },
   {
    "duration": 26,
    "start_time": "2023-07-24T18:02:19.778Z"
   },
   {
    "duration": 5,
    "start_time": "2023-07-24T18:02:19.806Z"
   },
   {
    "duration": 16,
    "start_time": "2023-07-24T18:02:19.813Z"
   },
   {
    "duration": 28,
    "start_time": "2023-07-24T18:02:19.831Z"
   },
   {
    "duration": 24,
    "start_time": "2023-07-24T18:02:19.861Z"
   },
   {
    "duration": 15,
    "start_time": "2023-07-24T18:02:19.888Z"
   },
   {
    "duration": 15,
    "start_time": "2023-07-24T18:02:19.905Z"
   },
   {
    "duration": 50,
    "start_time": "2023-07-24T18:02:19.922Z"
   },
   {
    "duration": 33,
    "start_time": "2023-07-24T18:02:19.974Z"
   },
   {
    "duration": 26,
    "start_time": "2023-07-24T18:02:20.009Z"
   },
   {
    "duration": 12,
    "start_time": "2023-07-24T18:02:20.037Z"
   },
   {
    "duration": 37,
    "start_time": "2023-07-24T18:02:20.052Z"
   },
   {
    "duration": 2125,
    "start_time": "2023-07-24T18:02:20.091Z"
   },
   {
    "duration": 2121,
    "start_time": "2023-07-24T18:02:22.221Z"
   },
   {
    "duration": 2052,
    "start_time": "2023-07-24T18:02:24.344Z"
   },
   {
    "duration": 27,
    "start_time": "2023-07-24T18:02:26.398Z"
   },
   {
    "duration": 194,
    "start_time": "2023-07-24T18:02:26.427Z"
   },
   {
    "duration": 102,
    "start_time": "2023-07-24T18:02:26.626Z"
   },
   {
    "duration": 16,
    "start_time": "2023-07-24T18:07:14.735Z"
   },
   {
    "duration": 2588,
    "start_time": "2023-07-24T18:07:20.938Z"
   },
   {
    "duration": 8,
    "start_time": "2023-07-24T18:11:50.798Z"
   },
   {
    "duration": 2178,
    "start_time": "2023-07-24T18:11:54.368Z"
   },
   {
    "duration": 11,
    "start_time": "2023-07-24T18:12:51.164Z"
   },
   {
    "duration": 2553,
    "start_time": "2023-07-24T18:12:54.653Z"
   },
   {
    "duration": 140,
    "start_time": "2023-07-24T18:13:33.260Z"
   },
   {
    "duration": 2917,
    "start_time": "2023-07-24T18:13:35.640Z"
   },
   {
    "duration": 110,
    "start_time": "2023-07-24T18:14:35.171Z"
   },
   {
    "duration": 1872,
    "start_time": "2023-07-24T18:14:37.199Z"
   },
   {
    "duration": 11,
    "start_time": "2023-07-24T18:14:50.133Z"
   },
   {
    "duration": 1973,
    "start_time": "2023-07-24T18:14:52.431Z"
   },
   {
    "duration": 12,
    "start_time": "2023-07-24T18:15:23.519Z"
   },
   {
    "duration": 2053,
    "start_time": "2023-07-24T18:15:25.768Z"
   },
   {
    "duration": 12,
    "start_time": "2023-07-24T18:16:09.532Z"
   },
   {
    "duration": 2031,
    "start_time": "2023-07-24T18:16:12.028Z"
   },
   {
    "duration": 8,
    "start_time": "2023-07-24T18:17:37.360Z"
   },
   {
    "duration": 2215,
    "start_time": "2023-07-24T18:17:40.537Z"
   },
   {
    "duration": 11,
    "start_time": "2023-07-24T18:19:02.196Z"
   },
   {
    "duration": 1982,
    "start_time": "2023-07-24T18:19:04.404Z"
   },
   {
    "duration": 2104,
    "start_time": "2023-07-24T18:19:15.868Z"
   },
   {
    "duration": 1852,
    "start_time": "2023-07-24T18:19:17.975Z"
   },
   {
    "duration": 17,
    "start_time": "2023-07-24T18:19:19.830Z"
   },
   {
    "duration": 36,
    "start_time": "2023-07-24T18:19:19.849Z"
   },
   {
    "duration": 63,
    "start_time": "2023-07-24T18:19:19.890Z"
   },
   {
    "duration": 5,
    "start_time": "2023-07-24T18:19:19.955Z"
   },
   {
    "duration": 16,
    "start_time": "2023-07-24T18:19:19.962Z"
   },
   {
    "duration": 35,
    "start_time": "2023-07-24T18:19:19.981Z"
   },
   {
    "duration": 52,
    "start_time": "2023-07-24T18:19:20.026Z"
   },
   {
    "duration": 6,
    "start_time": "2023-07-24T18:19:20.080Z"
   },
   {
    "duration": 68,
    "start_time": "2023-07-24T18:19:20.088Z"
   },
   {
    "duration": 48,
    "start_time": "2023-07-24T18:19:20.158Z"
   },
   {
    "duration": 52,
    "start_time": "2023-07-24T18:19:20.208Z"
   },
   {
    "duration": 5,
    "start_time": "2023-07-24T18:19:20.265Z"
   },
   {
    "duration": 107,
    "start_time": "2023-07-24T18:19:20.272Z"
   },
   {
    "duration": 59,
    "start_time": "2023-07-24T18:19:20.382Z"
   },
   {
    "duration": 47,
    "start_time": "2023-07-24T18:19:20.443Z"
   },
   {
    "duration": 50,
    "start_time": "2023-07-24T18:19:20.492Z"
   },
   {
    "duration": 88,
    "start_time": "2023-07-24T18:19:20.547Z"
   },
   {
    "duration": 37,
    "start_time": "2023-07-24T18:19:20.638Z"
   },
   {
    "duration": 93,
    "start_time": "2023-07-24T18:19:20.678Z"
   },
   {
    "duration": 17,
    "start_time": "2023-07-24T18:19:20.773Z"
   },
   {
    "duration": 85,
    "start_time": "2023-07-24T18:19:20.791Z"
   },
   {
    "duration": 26,
    "start_time": "2023-07-24T18:19:20.878Z"
   },
   {
    "duration": 21,
    "start_time": "2023-07-24T18:19:20.906Z"
   },
   {
    "duration": 13,
    "start_time": "2023-07-24T18:19:20.936Z"
   },
   {
    "duration": 31,
    "start_time": "2023-07-24T18:19:20.951Z"
   },
   {
    "duration": 31,
    "start_time": "2023-07-24T18:19:20.984Z"
   },
   {
    "duration": 20,
    "start_time": "2023-07-24T18:19:21.022Z"
   },
   {
    "duration": 107,
    "start_time": "2023-07-24T18:19:21.044Z"
   },
   {
    "duration": 29,
    "start_time": "2023-07-24T18:19:21.153Z"
   },
   {
    "duration": 43,
    "start_time": "2023-07-24T18:19:21.184Z"
   },
   {
    "duration": 1085,
    "start_time": "2023-07-24T18:19:21.235Z"
   },
   {
    "duration": 966,
    "start_time": "2023-07-24T18:19:22.321Z"
   },
   {
    "duration": 955,
    "start_time": "2023-07-24T18:19:23.290Z"
   },
   {
    "duration": 318,
    "start_time": "2023-07-24T18:19:24.247Z"
   },
   {
    "duration": 294,
    "start_time": "2023-07-24T18:19:24.567Z"
   },
   {
    "duration": 394,
    "start_time": "2023-07-24T18:19:24.863Z"
   },
   {
    "duration": 286,
    "start_time": "2023-07-24T18:19:25.259Z"
   },
   {
    "duration": 27,
    "start_time": "2023-07-24T18:19:25.547Z"
   },
   {
    "duration": 8,
    "start_time": "2023-07-24T18:19:25.584Z"
   },
   {
    "duration": 57,
    "start_time": "2023-07-24T18:19:25.595Z"
   },
   {
    "duration": 6,
    "start_time": "2023-07-24T18:19:25.655Z"
   },
   {
    "duration": 50,
    "start_time": "2023-07-24T18:19:25.663Z"
   },
   {
    "duration": 11,
    "start_time": "2023-07-24T18:19:25.724Z"
   },
   {
    "duration": 34,
    "start_time": "2023-07-24T18:19:25.739Z"
   },
   {
    "duration": 10,
    "start_time": "2023-07-24T18:19:25.814Z"
   },
   {
    "duration": 7,
    "start_time": "2023-07-24T18:19:25.828Z"
   },
   {
    "duration": 78,
    "start_time": "2023-07-24T18:19:25.838Z"
   },
   {
    "duration": 97,
    "start_time": "2023-07-24T18:19:25.919Z"
   },
   {
    "duration": 6,
    "start_time": "2023-07-24T18:19:26.019Z"
   },
   {
    "duration": 7,
    "start_time": "2023-07-24T18:19:26.027Z"
   },
   {
    "duration": 81,
    "start_time": "2023-07-24T18:19:26.036Z"
   },
   {
    "duration": 30,
    "start_time": "2023-07-24T18:19:26.119Z"
   },
   {
    "duration": 69,
    "start_time": "2023-07-24T18:19:26.154Z"
   },
   {
    "duration": 13,
    "start_time": "2023-07-24T18:19:26.228Z"
   },
   {
    "duration": 27,
    "start_time": "2023-07-24T18:19:26.313Z"
   },
   {
    "duration": 28,
    "start_time": "2023-07-24T18:19:26.342Z"
   },
   {
    "duration": 26,
    "start_time": "2023-07-24T18:19:26.372Z"
   },
   {
    "duration": 14,
    "start_time": "2023-07-24T18:19:26.401Z"
   },
   {
    "duration": 30,
    "start_time": "2023-07-24T18:19:26.418Z"
   },
   {
    "duration": 6,
    "start_time": "2023-07-24T18:19:26.451Z"
   },
   {
    "duration": 98,
    "start_time": "2023-07-24T18:19:26.460Z"
   },
   {
    "duration": 4,
    "start_time": "2023-07-24T18:19:26.560Z"
   },
   {
    "duration": 39,
    "start_time": "2023-07-24T18:19:26.566Z"
   },
   {
    "duration": 34,
    "start_time": "2023-07-24T18:19:26.607Z"
   },
   {
    "duration": 24,
    "start_time": "2023-07-24T18:19:26.643Z"
   },
   {
    "duration": 38,
    "start_time": "2023-07-24T18:19:26.670Z"
   },
   {
    "duration": 23,
    "start_time": "2023-07-24T18:19:26.710Z"
   },
   {
    "duration": 11,
    "start_time": "2023-07-24T18:19:26.738Z"
   },
   {
    "duration": 24,
    "start_time": "2023-07-24T18:19:26.752Z"
   },
   {
    "duration": 17,
    "start_time": "2023-07-24T18:19:26.779Z"
   },
   {
    "duration": 33,
    "start_time": "2023-07-24T18:19:26.799Z"
   },
   {
    "duration": 30,
    "start_time": "2023-07-24T18:19:26.834Z"
   },
   {
    "duration": 19,
    "start_time": "2023-07-24T18:19:26.866Z"
   },
   {
    "duration": 36,
    "start_time": "2023-07-24T18:19:26.888Z"
   },
   {
    "duration": 30,
    "start_time": "2023-07-24T18:19:26.926Z"
   },
   {
    "duration": 42,
    "start_time": "2023-07-24T18:19:26.958Z"
   },
   {
    "duration": 1991,
    "start_time": "2023-07-24T18:19:27.003Z"
   },
   {
    "duration": 2281,
    "start_time": "2023-07-24T18:19:29.015Z"
   },
   {
    "duration": 2224,
    "start_time": "2023-07-24T18:19:31.298Z"
   },
   {
    "duration": 19,
    "start_time": "2023-07-24T18:19:33.524Z"
   },
   {
    "duration": 197,
    "start_time": "2023-07-24T18:19:33.545Z"
   },
   {
    "duration": 141,
    "start_time": "2023-07-24T18:19:33.744Z"
   },
   {
    "duration": 130,
    "start_time": "2023-07-24T18:49:01.832Z"
   },
   {
    "duration": 12,
    "start_time": "2023-07-24T18:49:34.281Z"
   },
   {
    "duration": 3,
    "start_time": "2023-07-24T18:58:53.361Z"
   },
   {
    "duration": 17,
    "start_time": "2023-07-24T18:59:05.658Z"
   },
   {
    "duration": 10,
    "start_time": "2023-07-24T18:59:32.282Z"
   },
   {
    "duration": 13,
    "start_time": "2023-07-24T19:00:00.539Z"
   },
   {
    "duration": 124,
    "start_time": "2023-07-24T19:00:55.929Z"
   },
   {
    "duration": 12,
    "start_time": "2023-07-24T19:03:53.683Z"
   },
   {
    "duration": 12,
    "start_time": "2023-07-24T19:14:45.085Z"
   },
   {
    "duration": 15,
    "start_time": "2023-07-24T19:15:24.246Z"
   },
   {
    "duration": 15,
    "start_time": "2023-07-24T19:18:36.175Z"
   },
   {
    "duration": 1984,
    "start_time": "2023-07-25T16:26:38.641Z"
   },
   {
    "duration": 1258,
    "start_time": "2023-07-25T16:26:40.627Z"
   },
   {
    "duration": 33,
    "start_time": "2023-07-25T16:26:41.887Z"
   },
   {
    "duration": 47,
    "start_time": "2023-07-25T16:26:41.923Z"
   },
   {
    "duration": 125,
    "start_time": "2023-07-25T16:26:41.973Z"
   },
   {
    "duration": 18,
    "start_time": "2023-07-25T16:26:42.099Z"
   },
   {
    "duration": 41,
    "start_time": "2023-07-25T16:26:42.118Z"
   },
   {
    "duration": 35,
    "start_time": "2023-07-25T16:26:42.161Z"
   },
   {
    "duration": 76,
    "start_time": "2023-07-25T16:26:42.198Z"
   },
   {
    "duration": 4,
    "start_time": "2023-07-25T16:26:42.275Z"
   },
   {
    "duration": 18,
    "start_time": "2023-07-25T16:26:42.280Z"
   },
   {
    "duration": 67,
    "start_time": "2023-07-25T16:26:42.299Z"
   },
   {
    "duration": 49,
    "start_time": "2023-07-25T16:26:42.368Z"
   },
   {
    "duration": 9,
    "start_time": "2023-07-25T16:26:42.420Z"
   },
   {
    "duration": 60,
    "start_time": "2023-07-25T16:26:42.430Z"
   },
   {
    "duration": 65,
    "start_time": "2023-07-25T16:26:42.492Z"
   },
   {
    "duration": 49,
    "start_time": "2023-07-25T16:26:42.559Z"
   },
   {
    "duration": 40,
    "start_time": "2023-07-25T16:26:42.613Z"
   },
   {
    "duration": 93,
    "start_time": "2023-07-25T16:26:42.655Z"
   },
   {
    "duration": 41,
    "start_time": "2023-07-25T16:26:42.749Z"
   },
   {
    "duration": 90,
    "start_time": "2023-07-25T16:26:42.793Z"
   },
   {
    "duration": 23,
    "start_time": "2023-07-25T16:26:42.885Z"
   },
   {
    "duration": 66,
    "start_time": "2023-07-25T16:26:42.926Z"
   },
   {
    "duration": 53,
    "start_time": "2023-07-25T16:26:42.994Z"
   },
   {
    "duration": 29,
    "start_time": "2023-07-25T16:26:43.049Z"
   },
   {
    "duration": 62,
    "start_time": "2023-07-25T16:26:43.080Z"
   },
   {
    "duration": 23,
    "start_time": "2023-07-25T16:26:43.143Z"
   },
   {
    "duration": 19,
    "start_time": "2023-07-25T16:26:43.167Z"
   },
   {
    "duration": 60,
    "start_time": "2023-07-25T16:26:43.187Z"
   },
   {
    "duration": 97,
    "start_time": "2023-07-25T16:26:43.250Z"
   },
   {
    "duration": 19,
    "start_time": "2023-07-25T16:26:43.349Z"
   },
   {
    "duration": 39,
    "start_time": "2023-07-25T16:26:43.370Z"
   },
   {
    "duration": 972,
    "start_time": "2023-07-25T16:26:43.410Z"
   },
   {
    "duration": 769,
    "start_time": "2023-07-25T16:26:44.383Z"
   },
   {
    "duration": 900,
    "start_time": "2023-07-25T16:26:45.154Z"
   },
   {
    "duration": 396,
    "start_time": "2023-07-25T16:26:46.057Z"
   },
   {
    "duration": 316,
    "start_time": "2023-07-25T16:26:46.456Z"
   },
   {
    "duration": 375,
    "start_time": "2023-07-25T16:26:46.774Z"
   },
   {
    "duration": 294,
    "start_time": "2023-07-25T16:26:47.150Z"
   },
   {
    "duration": 14,
    "start_time": "2023-07-25T16:26:47.446Z"
   },
   {
    "duration": 14,
    "start_time": "2023-07-25T16:26:47.464Z"
   },
   {
    "duration": 57,
    "start_time": "2023-07-25T16:26:47.480Z"
   },
   {
    "duration": 30,
    "start_time": "2023-07-25T16:26:47.544Z"
   },
   {
    "duration": 69,
    "start_time": "2023-07-25T16:26:47.576Z"
   },
   {
    "duration": 12,
    "start_time": "2023-07-25T16:26:47.647Z"
   },
   {
    "duration": 31,
    "start_time": "2023-07-25T16:26:47.661Z"
   },
   {
    "duration": 55,
    "start_time": "2023-07-25T16:26:47.694Z"
   },
   {
    "duration": 36,
    "start_time": "2023-07-25T16:26:47.814Z"
   },
   {
    "duration": 32,
    "start_time": "2023-07-25T16:26:47.852Z"
   },
   {
    "duration": 72,
    "start_time": "2023-07-25T16:26:47.887Z"
   },
   {
    "duration": 195,
    "start_time": "2023-07-25T16:26:47.962Z"
   },
   {
    "duration": 29,
    "start_time": "2023-07-25T16:26:48.159Z"
   },
   {
    "duration": 80,
    "start_time": "2023-07-25T16:26:48.190Z"
   },
   {
    "duration": 53,
    "start_time": "2023-07-25T16:26:48.272Z"
   },
   {
    "duration": 115,
    "start_time": "2023-07-25T16:26:48.358Z"
   },
   {
    "duration": 38,
    "start_time": "2023-07-25T16:26:48.475Z"
   },
   {
    "duration": 29,
    "start_time": "2023-07-25T16:26:48.533Z"
   },
   {
    "duration": 86,
    "start_time": "2023-07-25T16:26:48.564Z"
   },
   {
    "duration": 32,
    "start_time": "2023-07-25T16:26:48.652Z"
   },
   {
    "duration": 70,
    "start_time": "2023-07-25T16:26:48.686Z"
   },
   {
    "duration": 12,
    "start_time": "2023-07-25T16:26:48.758Z"
   },
   {
    "duration": 23,
    "start_time": "2023-07-25T16:26:48.772Z"
   },
   {
    "duration": 63,
    "start_time": "2023-07-25T16:26:48.797Z"
   },
   {
    "duration": 7,
    "start_time": "2023-07-25T16:26:48.862Z"
   },
   {
    "duration": 62,
    "start_time": "2023-07-25T16:26:48.871Z"
   },
   {
    "duration": 12,
    "start_time": "2023-07-25T16:26:48.941Z"
   },
   {
    "duration": 41,
    "start_time": "2023-07-25T16:26:48.955Z"
   },
   {
    "duration": 45,
    "start_time": "2023-07-25T16:26:48.997Z"
   },
   {
    "duration": 8,
    "start_time": "2023-07-25T16:26:49.044Z"
   },
   {
    "duration": 15,
    "start_time": "2023-07-25T16:26:49.054Z"
   },
   {
    "duration": 12,
    "start_time": "2023-07-25T16:26:49.071Z"
   },
   {
    "duration": 57,
    "start_time": "2023-07-25T16:26:49.085Z"
   },
   {
    "duration": 11,
    "start_time": "2023-07-25T16:26:49.144Z"
   },
   {
    "duration": 15,
    "start_time": "2023-07-25T16:26:49.157Z"
   },
   {
    "duration": 13,
    "start_time": "2023-07-25T16:26:49.174Z"
   },
   {
    "duration": 20,
    "start_time": "2023-07-25T16:26:49.189Z"
   },
   {
    "duration": 33,
    "start_time": "2023-07-25T16:26:49.216Z"
   },
   {
    "duration": 10,
    "start_time": "2023-07-25T16:26:49.251Z"
   },
   {
    "duration": 1811,
    "start_time": "2023-07-25T16:26:49.262Z"
   },
   {
    "duration": 1834,
    "start_time": "2023-07-25T16:26:51.075Z"
   },
   {
    "duration": 1930,
    "start_time": "2023-07-25T16:26:52.911Z"
   },
   {
    "duration": 10,
    "start_time": "2023-07-25T16:26:54.846Z"
   },
   {
    "duration": 203,
    "start_time": "2023-07-25T16:26:54.858Z"
   },
   {
    "duration": 0,
    "start_time": "2023-07-25T16:26:55.064Z"
   },
   {
    "duration": 0,
    "start_time": "2023-07-25T16:26:55.065Z"
   },
   {
    "duration": 14,
    "start_time": "2023-07-25T16:29:34.967Z"
   },
   {
    "duration": 18,
    "start_time": "2023-07-25T16:30:10.761Z"
   },
   {
    "duration": 21,
    "start_time": "2023-07-25T16:30:32.122Z"
   },
   {
    "duration": 2531,
    "start_time": "2023-07-25T16:31:45.415Z"
   },
   {
    "duration": 635,
    "start_time": "2023-07-25T16:31:47.949Z"
   },
   {
    "duration": 10,
    "start_time": "2023-07-25T16:31:48.586Z"
   },
   {
    "duration": 77,
    "start_time": "2023-07-25T16:31:48.597Z"
   },
   {
    "duration": 54,
    "start_time": "2023-07-25T16:31:48.676Z"
   },
   {
    "duration": 14,
    "start_time": "2023-07-25T16:31:48.732Z"
   },
   {
    "duration": 10,
    "start_time": "2023-07-25T16:31:48.748Z"
   },
   {
    "duration": 30,
    "start_time": "2023-07-25T16:31:48.760Z"
   },
   {
    "duration": 52,
    "start_time": "2023-07-25T16:31:48.792Z"
   },
   {
    "duration": 6,
    "start_time": "2023-07-25T16:31:48.846Z"
   },
   {
    "duration": 12,
    "start_time": "2023-07-25T16:31:48.854Z"
   },
   {
    "duration": 49,
    "start_time": "2023-07-25T16:31:48.868Z"
   },
   {
    "duration": 43,
    "start_time": "2023-07-25T16:31:48.926Z"
   },
   {
    "duration": 4,
    "start_time": "2023-07-25T16:31:48.973Z"
   },
   {
    "duration": 70,
    "start_time": "2023-07-25T16:31:48.978Z"
   },
   {
    "duration": 54,
    "start_time": "2023-07-25T16:31:49.050Z"
   },
   {
    "duration": 58,
    "start_time": "2023-07-25T16:31:49.105Z"
   },
   {
    "duration": 17,
    "start_time": "2023-07-25T16:31:49.165Z"
   },
   {
    "duration": 112,
    "start_time": "2023-07-25T16:31:49.184Z"
   },
   {
    "duration": 44,
    "start_time": "2023-07-25T16:31:49.298Z"
   },
   {
    "duration": 45,
    "start_time": "2023-07-25T16:31:49.343Z"
   },
   {
    "duration": 34,
    "start_time": "2023-07-25T16:31:49.390Z"
   },
   {
    "duration": 89,
    "start_time": "2023-07-25T16:31:49.425Z"
   },
   {
    "duration": 18,
    "start_time": "2023-07-25T16:31:49.519Z"
   },
   {
    "duration": 20,
    "start_time": "2023-07-25T16:31:49.543Z"
   },
   {
    "duration": 14,
    "start_time": "2023-07-25T16:31:49.565Z"
   },
   {
    "duration": 9,
    "start_time": "2023-07-25T16:31:49.580Z"
   },
   {
    "duration": 42,
    "start_time": "2023-07-25T16:31:49.592Z"
   },
   {
    "duration": 13,
    "start_time": "2023-07-25T16:31:49.639Z"
   },
   {
    "duration": 67,
    "start_time": "2023-07-25T16:31:49.654Z"
   },
   {
    "duration": 20,
    "start_time": "2023-07-25T16:31:49.722Z"
   },
   {
    "duration": 24,
    "start_time": "2023-07-25T16:31:49.744Z"
   },
   {
    "duration": 860,
    "start_time": "2023-07-25T16:31:49.769Z"
   },
   {
    "duration": 766,
    "start_time": "2023-07-25T16:31:50.632Z"
   },
   {
    "duration": 854,
    "start_time": "2023-07-25T16:31:51.405Z"
   },
   {
    "duration": 288,
    "start_time": "2023-07-25T16:31:52.261Z"
   },
   {
    "duration": 278,
    "start_time": "2023-07-25T16:31:52.551Z"
   },
   {
    "duration": 356,
    "start_time": "2023-07-25T16:31:52.835Z"
   },
   {
    "duration": 289,
    "start_time": "2023-07-25T16:31:53.193Z"
   },
   {
    "duration": 33,
    "start_time": "2023-07-25T16:31:53.485Z"
   },
   {
    "duration": 48,
    "start_time": "2023-07-25T16:31:53.522Z"
   },
   {
    "duration": 23,
    "start_time": "2023-07-25T16:31:53.572Z"
   },
   {
    "duration": 41,
    "start_time": "2023-07-25T16:31:53.597Z"
   },
   {
    "duration": 73,
    "start_time": "2023-07-25T16:31:53.640Z"
   },
   {
    "duration": 49,
    "start_time": "2023-07-25T16:31:53.715Z"
   },
   {
    "duration": 23,
    "start_time": "2023-07-25T16:31:53.765Z"
   },
   {
    "duration": 97,
    "start_time": "2023-07-25T16:31:53.810Z"
   },
   {
    "duration": 45,
    "start_time": "2023-07-25T16:31:53.908Z"
   },
   {
    "duration": 21,
    "start_time": "2023-07-25T16:31:53.955Z"
   },
   {
    "duration": 65,
    "start_time": "2023-07-25T16:31:53.978Z"
   },
   {
    "duration": 11,
    "start_time": "2023-07-25T16:31:54.047Z"
   },
   {
    "duration": 24,
    "start_time": "2023-07-25T16:31:54.110Z"
   },
   {
    "duration": 117,
    "start_time": "2023-07-25T16:31:54.135Z"
   },
   {
    "duration": 36,
    "start_time": "2023-07-25T16:31:54.258Z"
   },
   {
    "duration": 41,
    "start_time": "2023-07-25T16:31:54.296Z"
   },
   {
    "duration": 97,
    "start_time": "2023-07-25T16:31:54.347Z"
   },
   {
    "duration": 17,
    "start_time": "2023-07-25T16:31:54.446Z"
   },
   {
    "duration": 27,
    "start_time": "2023-07-25T16:31:54.465Z"
   },
   {
    "duration": 37,
    "start_time": "2023-07-25T16:31:54.495Z"
   },
   {
    "duration": 37,
    "start_time": "2023-07-25T16:31:54.534Z"
   },
   {
    "duration": 76,
    "start_time": "2023-07-25T16:31:54.572Z"
   },
   {
    "duration": 20,
    "start_time": "2023-07-25T16:31:54.649Z"
   },
   {
    "duration": 72,
    "start_time": "2023-07-25T16:31:54.670Z"
   },
   {
    "duration": 3,
    "start_time": "2023-07-25T16:31:54.744Z"
   },
   {
    "duration": 19,
    "start_time": "2023-07-25T16:31:54.748Z"
   },
   {
    "duration": 19,
    "start_time": "2023-07-25T16:31:54.768Z"
   },
   {
    "duration": 51,
    "start_time": "2023-07-25T16:31:54.789Z"
   },
   {
    "duration": 12,
    "start_time": "2023-07-25T16:31:54.842Z"
   },
   {
    "duration": 6,
    "start_time": "2023-07-25T16:31:54.855Z"
   },
   {
    "duration": 11,
    "start_time": "2023-07-25T16:31:54.862Z"
   },
   {
    "duration": 9,
    "start_time": "2023-07-25T16:31:54.874Z"
   },
   {
    "duration": 6,
    "start_time": "2023-07-25T16:31:54.885Z"
   },
   {
    "duration": 6,
    "start_time": "2023-07-25T16:31:54.892Z"
   },
   {
    "duration": 33,
    "start_time": "2023-07-25T16:31:54.914Z"
   },
   {
    "duration": 31,
    "start_time": "2023-07-25T16:31:54.949Z"
   },
   {
    "duration": 7,
    "start_time": "2023-07-25T16:31:54.981Z"
   },
   {
    "duration": 38,
    "start_time": "2023-07-25T16:31:54.990Z"
   },
   {
    "duration": 27,
    "start_time": "2023-07-25T16:31:55.034Z"
   },
   {
    "duration": 1794,
    "start_time": "2023-07-25T16:31:55.062Z"
   },
   {
    "duration": 1901,
    "start_time": "2023-07-25T16:31:56.857Z"
   },
   {
    "duration": 1799,
    "start_time": "2023-07-25T16:31:58.759Z"
   },
   {
    "duration": 10,
    "start_time": "2023-07-25T16:32:00.559Z"
   },
   {
    "duration": 196,
    "start_time": "2023-07-25T16:32:00.570Z"
   },
   {
    "duration": 0,
    "start_time": "2023-07-25T16:32:00.767Z"
   },
   {
    "duration": 0,
    "start_time": "2023-07-25T16:32:00.769Z"
   },
   {
    "duration": 3485,
    "start_time": "2023-07-25T16:33:57.950Z"
   },
   {
    "duration": 407,
    "start_time": "2023-07-25T16:34:01.436Z"
   },
   {
    "duration": 12,
    "start_time": "2023-07-25T16:34:01.845Z"
   },
   {
    "duration": 234,
    "start_time": "2023-07-25T16:34:01.858Z"
   },
   {
    "duration": 93,
    "start_time": "2023-07-25T16:34:02.094Z"
   },
   {
    "duration": 113,
    "start_time": "2023-07-25T16:34:02.189Z"
   },
   {
    "duration": 63,
    "start_time": "2023-07-25T16:34:02.304Z"
   },
   {
    "duration": 98,
    "start_time": "2023-07-25T16:34:02.368Z"
   },
   {
    "duration": 192,
    "start_time": "2023-07-25T16:34:02.468Z"
   },
   {
    "duration": 259,
    "start_time": "2023-07-25T16:34:02.662Z"
   },
   {
    "duration": 147,
    "start_time": "2023-07-25T16:34:02.932Z"
   },
   {
    "duration": 163,
    "start_time": "2023-07-25T16:34:03.081Z"
   },
   {
    "duration": 85,
    "start_time": "2023-07-25T16:34:03.252Z"
   },
   {
    "duration": 51,
    "start_time": "2023-07-25T16:34:03.340Z"
   },
   {
    "duration": 140,
    "start_time": "2023-07-25T16:34:03.393Z"
   },
   {
    "duration": 99,
    "start_time": "2023-07-25T16:34:03.534Z"
   },
   {
    "duration": 121,
    "start_time": "2023-07-25T16:34:03.635Z"
   },
   {
    "duration": 40,
    "start_time": "2023-07-25T16:34:03.758Z"
   },
   {
    "duration": 151,
    "start_time": "2023-07-25T16:34:03.800Z"
   },
   {
    "duration": 80,
    "start_time": "2023-07-25T16:34:03.953Z"
   },
   {
    "duration": 182,
    "start_time": "2023-07-25T16:34:04.035Z"
   },
   {
    "duration": 67,
    "start_time": "2023-07-25T16:34:04.219Z"
   },
   {
    "duration": 156,
    "start_time": "2023-07-25T16:34:04.288Z"
   },
   {
    "duration": 67,
    "start_time": "2023-07-25T16:34:04.450Z"
   },
   {
    "duration": 40,
    "start_time": "2023-07-25T16:34:04.530Z"
   },
   {
    "duration": 68,
    "start_time": "2023-07-25T16:34:04.572Z"
   },
   {
    "duration": 102,
    "start_time": "2023-07-25T16:34:04.642Z"
   },
   {
    "duration": 112,
    "start_time": "2023-07-25T16:34:04.749Z"
   },
   {
    "duration": 94,
    "start_time": "2023-07-25T16:34:04.863Z"
   },
   {
    "duration": 110,
    "start_time": "2023-07-25T16:34:04.959Z"
   },
   {
    "duration": 19,
    "start_time": "2023-07-25T16:34:05.071Z"
   },
   {
    "duration": 64,
    "start_time": "2023-07-25T16:34:05.091Z"
   },
   {
    "duration": 917,
    "start_time": "2023-07-25T16:34:05.157Z"
   },
   {
    "duration": 845,
    "start_time": "2023-07-25T16:34:06.076Z"
   },
   {
    "duration": 829,
    "start_time": "2023-07-25T16:34:06.927Z"
   },
   {
    "duration": 343,
    "start_time": "2023-07-25T16:34:07.762Z"
   },
   {
    "duration": 374,
    "start_time": "2023-07-25T16:34:08.115Z"
   },
   {
    "duration": 440,
    "start_time": "2023-07-25T16:34:08.490Z"
   },
   {
    "duration": 296,
    "start_time": "2023-07-25T16:34:08.932Z"
   },
   {
    "duration": 30,
    "start_time": "2023-07-25T16:34:09.234Z"
   },
   {
    "duration": 13,
    "start_time": "2023-07-25T16:34:09.270Z"
   },
   {
    "duration": 92,
    "start_time": "2023-07-25T16:34:09.284Z"
   },
   {
    "duration": 18,
    "start_time": "2023-07-25T16:34:09.378Z"
   },
   {
    "duration": 73,
    "start_time": "2023-07-25T16:34:09.397Z"
   },
   {
    "duration": 7,
    "start_time": "2023-07-25T16:34:09.472Z"
   },
   {
    "duration": 109,
    "start_time": "2023-07-25T16:34:09.485Z"
   },
   {
    "duration": 169,
    "start_time": "2023-07-25T16:34:09.597Z"
   },
   {
    "duration": 23,
    "start_time": "2023-07-25T16:34:09.769Z"
   },
   {
    "duration": 62,
    "start_time": "2023-07-25T16:34:09.795Z"
   },
   {
    "duration": 63,
    "start_time": "2023-07-25T16:34:09.859Z"
   },
   {
    "duration": 91,
    "start_time": "2023-07-25T16:34:09.924Z"
   },
   {
    "duration": 136,
    "start_time": "2023-07-25T16:34:10.017Z"
   },
   {
    "duration": 11,
    "start_time": "2023-07-25T16:34:10.155Z"
   },
   {
    "duration": 44,
    "start_time": "2023-07-25T16:34:10.168Z"
   },
   {
    "duration": 139,
    "start_time": "2023-07-25T16:34:10.228Z"
   },
   {
    "duration": 17,
    "start_time": "2023-07-25T16:34:10.370Z"
   },
   {
    "duration": 51,
    "start_time": "2023-07-25T16:34:10.389Z"
   },
   {
    "duration": 19,
    "start_time": "2023-07-25T16:34:10.443Z"
   },
   {
    "duration": 13,
    "start_time": "2023-07-25T16:34:10.464Z"
   },
   {
    "duration": 10,
    "start_time": "2023-07-25T16:34:10.481Z"
   },
   {
    "duration": 60,
    "start_time": "2023-07-25T16:34:10.493Z"
   },
   {
    "duration": 34,
    "start_time": "2023-07-25T16:34:10.555Z"
   },
   {
    "duration": 76,
    "start_time": "2023-07-25T16:34:10.591Z"
   },
   {
    "duration": 4,
    "start_time": "2023-07-25T16:34:10.668Z"
   },
   {
    "duration": 63,
    "start_time": "2023-07-25T16:34:10.674Z"
   },
   {
    "duration": 14,
    "start_time": "2023-07-25T16:34:10.738Z"
   },
   {
    "duration": 26,
    "start_time": "2023-07-25T16:34:10.754Z"
   },
   {
    "duration": 9,
    "start_time": "2023-07-25T16:34:10.782Z"
   },
   {
    "duration": 50,
    "start_time": "2023-07-25T16:34:10.793Z"
   },
   {
    "duration": 16,
    "start_time": "2023-07-25T16:34:10.845Z"
   },
   {
    "duration": 12,
    "start_time": "2023-07-25T16:34:10.862Z"
   },
   {
    "duration": 8,
    "start_time": "2023-07-25T16:34:10.875Z"
   },
   {
    "duration": 11,
    "start_time": "2023-07-25T16:34:10.885Z"
   },
   {
    "duration": 58,
    "start_time": "2023-07-25T16:34:10.898Z"
   },
   {
    "duration": 16,
    "start_time": "2023-07-25T16:34:10.959Z"
   },
   {
    "duration": 6,
    "start_time": "2023-07-25T16:34:10.977Z"
   },
   {
    "duration": 7,
    "start_time": "2023-07-25T16:34:10.985Z"
   },
   {
    "duration": 63,
    "start_time": "2023-07-25T16:34:10.994Z"
   },
   {
    "duration": 1709,
    "start_time": "2023-07-25T16:34:11.059Z"
   },
   {
    "duration": 2019,
    "start_time": "2023-07-25T16:34:12.769Z"
   },
   {
    "duration": 1928,
    "start_time": "2023-07-25T16:34:14.791Z"
   },
   {
    "duration": 12,
    "start_time": "2023-07-25T16:34:16.721Z"
   },
   {
    "duration": 167,
    "start_time": "2023-07-25T16:34:16.734Z"
   },
   {
    "duration": 0,
    "start_time": "2023-07-25T16:34:16.905Z"
   },
   {
    "duration": 0,
    "start_time": "2023-07-25T16:34:16.907Z"
   },
   {
    "duration": 33,
    "start_time": "2023-07-25T16:35:11.230Z"
   },
   {
    "duration": 270,
    "start_time": "2023-07-25T16:35:16.826Z"
   },
   {
    "duration": 162,
    "start_time": "2023-07-25T16:35:22.163Z"
   },
   {
    "duration": 4739,
    "start_time": "2023-07-25T16:35:30.644Z"
   },
   {
    "duration": 552,
    "start_time": "2023-07-25T16:35:35.385Z"
   },
   {
    "duration": 38,
    "start_time": "2023-07-25T16:35:35.938Z"
   },
   {
    "duration": 102,
    "start_time": "2023-07-25T16:35:35.978Z"
   },
   {
    "duration": 109,
    "start_time": "2023-07-25T16:35:36.083Z"
   },
   {
    "duration": 69,
    "start_time": "2023-07-25T16:35:36.194Z"
   },
   {
    "duration": 68,
    "start_time": "2023-07-25T16:35:36.265Z"
   },
   {
    "duration": 48,
    "start_time": "2023-07-25T16:35:36.334Z"
   },
   {
    "duration": 110,
    "start_time": "2023-07-25T16:35:36.384Z"
   },
   {
    "duration": 54,
    "start_time": "2023-07-25T16:35:36.496Z"
   },
   {
    "duration": 51,
    "start_time": "2023-07-25T16:35:36.552Z"
   },
   {
    "duration": 81,
    "start_time": "2023-07-25T16:35:36.605Z"
   },
   {
    "duration": 86,
    "start_time": "2023-07-25T16:35:36.688Z"
   },
   {
    "duration": 5,
    "start_time": "2023-07-25T16:35:36.778Z"
   },
   {
    "duration": 96,
    "start_time": "2023-07-25T16:35:36.785Z"
   },
   {
    "duration": 67,
    "start_time": "2023-07-25T16:35:36.883Z"
   },
   {
    "duration": 85,
    "start_time": "2023-07-25T16:35:36.952Z"
   },
   {
    "duration": 22,
    "start_time": "2023-07-25T16:35:37.038Z"
   },
   {
    "duration": 171,
    "start_time": "2023-07-25T16:35:37.062Z"
   },
   {
    "duration": 40,
    "start_time": "2023-07-25T16:35:37.234Z"
   },
   {
    "duration": 90,
    "start_time": "2023-07-25T16:35:37.276Z"
   },
   {
    "duration": 19,
    "start_time": "2023-07-25T16:35:37.371Z"
   },
   {
    "duration": 73,
    "start_time": "2023-07-25T16:35:37.392Z"
   },
   {
    "duration": 15,
    "start_time": "2023-07-25T16:35:37.467Z"
   },
   {
    "duration": 12,
    "start_time": "2023-07-25T16:35:37.484Z"
   },
   {
    "duration": 48,
    "start_time": "2023-07-25T16:35:37.497Z"
   },
   {
    "duration": 31,
    "start_time": "2023-07-25T16:35:37.547Z"
   },
   {
    "duration": 71,
    "start_time": "2023-07-25T16:35:37.580Z"
   },
   {
    "duration": 21,
    "start_time": "2023-07-25T16:35:37.652Z"
   },
   {
    "duration": 88,
    "start_time": "2023-07-25T16:35:37.675Z"
   },
   {
    "duration": 21,
    "start_time": "2023-07-25T16:35:37.765Z"
   },
   {
    "duration": 30,
    "start_time": "2023-07-25T16:35:37.787Z"
   },
   {
    "duration": 1035,
    "start_time": "2023-07-25T16:35:37.825Z"
   },
   {
    "duration": 879,
    "start_time": "2023-07-25T16:35:38.862Z"
   },
   {
    "duration": 965,
    "start_time": "2023-07-25T16:35:39.744Z"
   },
   {
    "duration": 318,
    "start_time": "2023-07-25T16:35:40.717Z"
   },
   {
    "duration": 349,
    "start_time": "2023-07-25T16:35:41.037Z"
   },
   {
    "duration": 442,
    "start_time": "2023-07-25T16:35:41.388Z"
   },
   {
    "duration": 283,
    "start_time": "2023-07-25T16:35:41.832Z"
   },
   {
    "duration": 23,
    "start_time": "2023-07-25T16:35:42.128Z"
   },
   {
    "duration": 11,
    "start_time": "2023-07-25T16:35:42.156Z"
   },
   {
    "duration": 44,
    "start_time": "2023-07-25T16:35:42.168Z"
   },
   {
    "duration": 35,
    "start_time": "2023-07-25T16:35:42.214Z"
   },
   {
    "duration": 38,
    "start_time": "2023-07-25T16:35:42.251Z"
   },
   {
    "duration": 7,
    "start_time": "2023-07-25T16:35:42.292Z"
   },
   {
    "duration": 142,
    "start_time": "2023-07-25T16:35:42.301Z"
   },
   {
    "duration": 9,
    "start_time": "2023-07-25T16:35:42.444Z"
   },
   {
    "duration": 105,
    "start_time": "2023-07-25T16:35:42.462Z"
   },
   {
    "duration": 12,
    "start_time": "2023-07-25T16:35:42.569Z"
   },
   {
    "duration": 28,
    "start_time": "2023-07-25T16:35:42.583Z"
   },
   {
    "duration": 135,
    "start_time": "2023-07-25T16:35:42.613Z"
   },
   {
    "duration": 11,
    "start_time": "2023-07-25T16:35:42.750Z"
   },
   {
    "duration": 31,
    "start_time": "2023-07-25T16:35:42.763Z"
   },
   {
    "duration": 54,
    "start_time": "2023-07-25T16:35:42.796Z"
   },
   {
    "duration": 69,
    "start_time": "2023-07-25T16:35:42.852Z"
   },
   {
    "duration": 130,
    "start_time": "2023-07-25T16:35:42.923Z"
   },
   {
    "duration": 32,
    "start_time": "2023-07-25T16:35:43.056Z"
   },
   {
    "duration": 29,
    "start_time": "2023-07-25T16:35:43.090Z"
   },
   {
    "duration": 41,
    "start_time": "2023-07-25T16:35:43.121Z"
   },
   {
    "duration": 13,
    "start_time": "2023-07-25T16:35:43.164Z"
   },
   {
    "duration": 9,
    "start_time": "2023-07-25T16:35:43.178Z"
   },
   {
    "duration": 10,
    "start_time": "2023-07-25T16:35:43.188Z"
   },
   {
    "duration": 61,
    "start_time": "2023-07-25T16:35:43.206Z"
   },
   {
    "duration": 3,
    "start_time": "2023-07-25T16:35:43.269Z"
   },
   {
    "duration": 17,
    "start_time": "2023-07-25T16:35:43.274Z"
   },
   {
    "duration": 24,
    "start_time": "2023-07-25T16:35:43.293Z"
   },
   {
    "duration": 39,
    "start_time": "2023-07-25T16:35:43.322Z"
   },
   {
    "duration": 12,
    "start_time": "2023-07-25T16:35:43.363Z"
   },
   {
    "duration": 17,
    "start_time": "2023-07-25T16:35:43.377Z"
   },
   {
    "duration": 66,
    "start_time": "2023-07-25T16:35:43.395Z"
   },
   {
    "duration": 4,
    "start_time": "2023-07-25T16:35:43.462Z"
   },
   {
    "duration": 9,
    "start_time": "2023-07-25T16:35:43.467Z"
   },
   {
    "duration": 17,
    "start_time": "2023-07-25T16:35:43.477Z"
   },
   {
    "duration": 87,
    "start_time": "2023-07-25T16:35:43.495Z"
   },
   {
    "duration": 36,
    "start_time": "2023-07-25T16:35:43.583Z"
   },
   {
    "duration": 34,
    "start_time": "2023-07-25T16:35:43.620Z"
   },
   {
    "duration": 5,
    "start_time": "2023-07-25T16:35:43.656Z"
   },
   {
    "duration": 100,
    "start_time": "2023-07-25T16:35:43.662Z"
   },
   {
    "duration": 1957,
    "start_time": "2023-07-25T16:35:43.764Z"
   },
   {
    "duration": 1851,
    "start_time": "2023-07-25T16:35:45.729Z"
   },
   {
    "duration": 1842,
    "start_time": "2023-07-25T16:35:47.582Z"
   },
   {
    "duration": 12,
    "start_time": "2023-07-25T16:35:49.431Z"
   },
   {
    "duration": 153,
    "start_time": "2023-07-25T16:35:49.445Z"
   },
   {
    "duration": 122,
    "start_time": "2023-07-25T16:35:49.601Z"
   },
   {
    "duration": 147,
    "start_time": "2023-07-25T16:35:49.726Z"
   },
   {
    "duration": 11,
    "start_time": "2023-07-25T16:39:03.860Z"
   },
   {
    "duration": 1857,
    "start_time": "2023-07-25T16:39:09.724Z"
   },
   {
    "duration": 166,
    "start_time": "2023-07-25T16:39:26.948Z"
   },
   {
    "duration": 12,
    "start_time": "2023-07-25T16:39:32.755Z"
   },
   {
    "duration": 9,
    "start_time": "2023-07-25T16:39:44.642Z"
   },
   {
    "duration": 1803,
    "start_time": "2023-07-25T16:39:50.726Z"
   },
   {
    "duration": 7,
    "start_time": "2023-07-25T16:40:07.778Z"
   },
   {
    "duration": 1713,
    "start_time": "2023-07-25T16:40:11.562Z"
   },
   {
    "duration": 9,
    "start_time": "2023-07-25T16:40:42.835Z"
   },
   {
    "duration": 1426,
    "start_time": "2023-07-25T16:40:46.936Z"
   },
   {
    "duration": 6,
    "start_time": "2023-07-25T16:41:13.768Z"
   },
   {
    "duration": 1512,
    "start_time": "2023-07-25T16:41:19.638Z"
   },
   {
    "duration": 24,
    "start_time": "2023-07-25T16:42:06.125Z"
   },
   {
    "duration": 35,
    "start_time": "2023-07-25T16:42:09.145Z"
   },
   {
    "duration": 10,
    "start_time": "2023-07-25T16:42:50.030Z"
   },
   {
    "duration": 1615,
    "start_time": "2023-07-25T16:42:51.765Z"
   },
   {
    "duration": 18,
    "start_time": "2023-07-25T16:43:01.331Z"
   },
   {
    "duration": 1511,
    "start_time": "2023-07-25T16:43:03.826Z"
   },
   {
    "duration": 12,
    "start_time": "2023-07-25T16:43:19.342Z"
   },
   {
    "duration": 1549,
    "start_time": "2023-07-25T16:43:21.526Z"
   },
   {
    "duration": 2308,
    "start_time": "2023-07-25T16:44:05.244Z"
   },
   {
    "duration": 1133,
    "start_time": "2023-07-25T16:44:07.555Z"
   },
   {
    "duration": 39,
    "start_time": "2023-07-25T16:44:08.689Z"
   },
   {
    "duration": 20,
    "start_time": "2023-07-25T16:44:08.739Z"
   },
   {
    "duration": 34,
    "start_time": "2023-07-25T16:44:08.762Z"
   },
   {
    "duration": 33,
    "start_time": "2023-07-25T16:44:08.798Z"
   },
   {
    "duration": 19,
    "start_time": "2023-07-25T16:44:08.834Z"
   },
   {
    "duration": 22,
    "start_time": "2023-07-25T16:44:08.854Z"
   },
   {
    "duration": 68,
    "start_time": "2023-07-25T16:44:08.878Z"
   },
   {
    "duration": 5,
    "start_time": "2023-07-25T16:44:08.950Z"
   },
   {
    "duration": 16,
    "start_time": "2023-07-25T16:44:08.956Z"
   },
   {
    "duration": 80,
    "start_time": "2023-07-25T16:44:08.974Z"
   },
   {
    "duration": 73,
    "start_time": "2023-07-25T16:44:09.056Z"
   },
   {
    "duration": 3,
    "start_time": "2023-07-25T16:44:09.133Z"
   },
   {
    "duration": 88,
    "start_time": "2023-07-25T16:44:09.141Z"
   },
   {
    "duration": 47,
    "start_time": "2023-07-25T16:44:09.231Z"
   },
   {
    "duration": 78,
    "start_time": "2023-07-25T16:44:09.280Z"
   },
   {
    "duration": 14,
    "start_time": "2023-07-25T16:44:09.359Z"
   },
   {
    "duration": 80,
    "start_time": "2023-07-25T16:44:09.374Z"
   },
   {
    "duration": 18,
    "start_time": "2023-07-25T16:44:09.456Z"
   },
   {
    "duration": 82,
    "start_time": "2023-07-25T16:44:09.475Z"
   },
   {
    "duration": 17,
    "start_time": "2023-07-25T16:44:09.560Z"
   },
   {
    "duration": 90,
    "start_time": "2023-07-25T16:44:09.579Z"
   },
   {
    "duration": 10,
    "start_time": "2023-07-25T16:44:09.670Z"
   },
   {
    "duration": 32,
    "start_time": "2023-07-25T16:44:09.682Z"
   },
   {
    "duration": 43,
    "start_time": "2023-07-25T16:44:09.715Z"
   },
   {
    "duration": 9,
    "start_time": "2023-07-25T16:44:09.759Z"
   },
   {
    "duration": 23,
    "start_time": "2023-07-25T16:44:09.769Z"
   },
   {
    "duration": 42,
    "start_time": "2023-07-25T16:44:09.794Z"
   },
   {
    "duration": 250,
    "start_time": "2023-07-25T16:44:09.838Z"
   },
   {
    "duration": 47,
    "start_time": "2023-07-25T16:44:10.090Z"
   },
   {
    "duration": 40,
    "start_time": "2023-07-25T16:44:10.138Z"
   },
   {
    "duration": 880,
    "start_time": "2023-07-25T16:44:10.180Z"
   },
   {
    "duration": 829,
    "start_time": "2023-07-25T16:44:11.062Z"
   },
   {
    "duration": 876,
    "start_time": "2023-07-25T16:44:11.892Z"
   },
   {
    "duration": 305,
    "start_time": "2023-07-25T16:44:12.770Z"
   },
   {
    "duration": 289,
    "start_time": "2023-07-25T16:44:13.076Z"
   },
   {
    "duration": 391,
    "start_time": "2023-07-25T16:44:13.367Z"
   },
   {
    "duration": 262,
    "start_time": "2023-07-25T16:44:13.766Z"
   },
   {
    "duration": 27,
    "start_time": "2023-07-25T16:44:14.029Z"
   },
   {
    "duration": 6,
    "start_time": "2023-07-25T16:44:14.061Z"
   },
   {
    "duration": 20,
    "start_time": "2023-07-25T16:44:14.069Z"
   },
   {
    "duration": 37,
    "start_time": "2023-07-25T16:44:14.090Z"
   },
   {
    "duration": 34,
    "start_time": "2023-07-25T16:44:14.128Z"
   },
   {
    "duration": 6,
    "start_time": "2023-07-25T16:44:14.163Z"
   },
   {
    "duration": 79,
    "start_time": "2023-07-25T16:44:14.171Z"
   },
   {
    "duration": 6,
    "start_time": "2023-07-25T16:44:14.254Z"
   },
   {
    "duration": 138,
    "start_time": "2023-07-25T16:44:14.310Z"
   },
   {
    "duration": 18,
    "start_time": "2023-07-25T16:44:14.450Z"
   },
   {
    "duration": 13,
    "start_time": "2023-07-25T16:44:14.469Z"
   },
   {
    "duration": 37,
    "start_time": "2023-07-25T16:44:14.484Z"
   },
   {
    "duration": 128,
    "start_time": "2023-07-25T16:44:14.523Z"
   },
   {
    "duration": 10,
    "start_time": "2023-07-25T16:44:14.652Z"
   },
   {
    "duration": 10,
    "start_time": "2023-07-25T16:44:14.664Z"
   },
   {
    "duration": 5,
    "start_time": "2023-07-25T16:44:14.676Z"
   },
   {
    "duration": 122,
    "start_time": "2023-07-25T16:44:14.699Z"
   },
   {
    "duration": 33,
    "start_time": "2023-07-25T16:44:14.822Z"
   },
   {
    "duration": 15,
    "start_time": "2023-07-25T16:44:14.856Z"
   },
   {
    "duration": 6,
    "start_time": "2023-07-25T16:44:14.872Z"
   },
   {
    "duration": 13,
    "start_time": "2023-07-25T16:44:14.880Z"
   },
   {
    "duration": 47,
    "start_time": "2023-07-25T16:44:14.894Z"
   },
   {
    "duration": 18,
    "start_time": "2023-07-25T16:44:14.942Z"
   },
   {
    "duration": 14,
    "start_time": "2023-07-25T16:44:14.962Z"
   },
   {
    "duration": 3,
    "start_time": "2023-07-25T16:44:14.977Z"
   },
   {
    "duration": 13,
    "start_time": "2023-07-25T16:44:14.981Z"
   },
   {
    "duration": 56,
    "start_time": "2023-07-25T16:44:14.996Z"
   },
   {
    "duration": 31,
    "start_time": "2023-07-25T16:44:15.053Z"
   },
   {
    "duration": 53,
    "start_time": "2023-07-25T16:44:15.086Z"
   },
   {
    "duration": 35,
    "start_time": "2023-07-25T16:44:15.141Z"
   },
   {
    "duration": 59,
    "start_time": "2023-07-25T16:44:15.178Z"
   },
   {
    "duration": 10,
    "start_time": "2023-07-25T16:44:15.242Z"
   },
   {
    "duration": 21,
    "start_time": "2023-07-25T16:44:15.253Z"
   },
   {
    "duration": 12,
    "start_time": "2023-07-25T16:44:15.276Z"
   },
   {
    "duration": 62,
    "start_time": "2023-07-25T16:44:15.290Z"
   },
   {
    "duration": 18,
    "start_time": "2023-07-25T16:44:15.354Z"
   },
   {
    "duration": 68,
    "start_time": "2023-07-25T16:44:15.373Z"
   },
   {
    "duration": 17,
    "start_time": "2023-07-25T16:44:15.448Z"
   },
   {
    "duration": 15,
    "start_time": "2023-07-25T16:44:15.466Z"
   },
   {
    "duration": 2003,
    "start_time": "2023-07-25T16:44:15.484Z"
   },
   {
    "duration": 1794,
    "start_time": "2023-07-25T16:44:17.489Z"
   },
   {
    "duration": 1777,
    "start_time": "2023-07-25T16:44:19.285Z"
   },
   {
    "duration": 13,
    "start_time": "2023-07-25T16:44:21.064Z"
   },
   {
    "duration": 205,
    "start_time": "2023-07-25T16:44:21.079Z"
   },
   {
    "duration": 151,
    "start_time": "2023-07-25T16:44:21.286Z"
   },
   {
    "duration": 203,
    "start_time": "2023-07-25T16:44:21.446Z"
   },
   {
    "duration": 44,
    "start_time": "2023-07-25T20:08:47.933Z"
   },
   {
    "duration": 1308,
    "start_time": "2023-07-25T20:09:04.355Z"
   },
   {
    "duration": 328,
    "start_time": "2023-07-25T20:09:05.665Z"
   },
   {
    "duration": 15,
    "start_time": "2023-07-25T20:09:05.995Z"
   },
   {
    "duration": 24,
    "start_time": "2023-07-25T20:09:06.012Z"
   },
   {
    "duration": 40,
    "start_time": "2023-07-25T20:09:06.038Z"
   },
   {
    "duration": 23,
    "start_time": "2023-07-25T20:09:06.079Z"
   },
   {
    "duration": 16,
    "start_time": "2023-07-25T20:09:06.104Z"
   },
   {
    "duration": 34,
    "start_time": "2023-07-25T20:09:06.122Z"
   },
   {
    "duration": 35,
    "start_time": "2023-07-25T20:09:06.158Z"
   },
   {
    "duration": 4,
    "start_time": "2023-07-25T20:09:06.196Z"
   },
   {
    "duration": 16,
    "start_time": "2023-07-25T20:09:06.202Z"
   },
   {
    "duration": 13,
    "start_time": "2023-07-25T20:09:06.219Z"
   },
   {
    "duration": 31,
    "start_time": "2023-07-25T20:09:06.233Z"
   },
   {
    "duration": 3,
    "start_time": "2023-07-25T20:09:06.265Z"
   },
   {
    "duration": 55,
    "start_time": "2023-07-25T20:09:06.269Z"
   },
   {
    "duration": 38,
    "start_time": "2023-07-25T20:09:06.325Z"
   },
   {
    "duration": 50,
    "start_time": "2023-07-25T20:09:06.364Z"
   },
   {
    "duration": 13,
    "start_time": "2023-07-25T20:09:06.415Z"
   },
   {
    "duration": 60,
    "start_time": "2023-07-25T20:09:06.430Z"
   },
   {
    "duration": 14,
    "start_time": "2023-07-25T20:09:06.491Z"
   },
   {
    "duration": 36,
    "start_time": "2023-07-25T20:09:06.506Z"
   },
   {
    "duration": 14,
    "start_time": "2023-07-25T20:09:06.543Z"
   },
   {
    "duration": 55,
    "start_time": "2023-07-25T20:09:06.558Z"
   },
   {
    "duration": 9,
    "start_time": "2023-07-25T20:09:06.614Z"
   },
   {
    "duration": 8,
    "start_time": "2023-07-25T20:09:06.624Z"
   },
   {
    "duration": 15,
    "start_time": "2023-07-25T20:09:06.634Z"
   },
   {
    "duration": 11,
    "start_time": "2023-07-25T20:09:06.651Z"
   },
   {
    "duration": 8,
    "start_time": "2023-07-25T20:09:06.666Z"
   },
   {
    "duration": 28,
    "start_time": "2023-07-25T20:09:06.675Z"
   },
   {
    "duration": 52,
    "start_time": "2023-07-25T20:09:06.705Z"
   },
   {
    "duration": 17,
    "start_time": "2023-07-25T20:09:06.759Z"
   },
   {
    "duration": 35,
    "start_time": "2023-07-25T20:09:06.777Z"
   },
   {
    "duration": 696,
    "start_time": "2023-07-25T20:09:06.814Z"
   },
   {
    "duration": 630,
    "start_time": "2023-07-25T20:09:07.512Z"
   },
   {
    "duration": 639,
    "start_time": "2023-07-25T20:09:08.143Z"
   },
   {
    "duration": 232,
    "start_time": "2023-07-25T20:09:08.783Z"
   },
   {
    "duration": 221,
    "start_time": "2023-07-25T20:09:09.017Z"
   },
   {
    "duration": 290,
    "start_time": "2023-07-25T20:09:09.240Z"
   },
   {
    "duration": 213,
    "start_time": "2023-07-25T20:09:09.531Z"
   },
   {
    "duration": 13,
    "start_time": "2023-07-25T20:09:09.745Z"
   },
   {
    "duration": 5,
    "start_time": "2023-07-25T20:09:09.760Z"
   },
   {
    "duration": 20,
    "start_time": "2023-07-25T20:09:09.766Z"
   },
   {
    "duration": 16,
    "start_time": "2023-07-25T20:09:09.787Z"
   },
   {
    "duration": 34,
    "start_time": "2023-07-25T20:09:09.805Z"
   },
   {
    "duration": 7,
    "start_time": "2023-07-25T20:09:09.840Z"
   },
   {
    "duration": 18,
    "start_time": "2023-07-25T20:09:09.848Z"
   },
   {
    "duration": 135,
    "start_time": "2023-07-25T20:09:09.867Z"
   },
   {
    "duration": 44,
    "start_time": "2023-07-25T20:09:10.004Z"
   },
   {
    "duration": 7,
    "start_time": "2023-07-25T20:09:10.050Z"
   },
   {
    "duration": 21,
    "start_time": "2023-07-25T20:09:10.058Z"
   },
   {
    "duration": 131,
    "start_time": "2023-07-25T20:09:10.080Z"
   },
   {
    "duration": 19,
    "start_time": "2023-07-25T20:09:10.213Z"
   },
   {
    "duration": 29,
    "start_time": "2023-07-25T20:09:10.233Z"
   },
   {
    "duration": 39,
    "start_time": "2023-07-25T20:09:10.263Z"
   },
   {
    "duration": 223,
    "start_time": "2023-07-25T20:09:10.304Z"
   },
   {
    "duration": 21,
    "start_time": "2023-07-25T20:09:10.528Z"
   },
   {
    "duration": 12,
    "start_time": "2023-07-25T20:09:10.550Z"
   },
   {
    "duration": 25,
    "start_time": "2023-07-25T20:09:10.563Z"
   },
   {
    "duration": 30,
    "start_time": "2023-07-25T20:09:10.589Z"
   },
   {
    "duration": 4,
    "start_time": "2023-07-25T20:09:10.621Z"
   },
   {
    "duration": 14,
    "start_time": "2023-07-25T20:09:10.626Z"
   },
   {
    "duration": 16,
    "start_time": "2023-07-25T20:09:10.641Z"
   },
   {
    "duration": 24,
    "start_time": "2023-07-25T20:09:10.659Z"
   },
   {
    "duration": 12,
    "start_time": "2023-07-25T20:09:10.684Z"
   },
   {
    "duration": 25,
    "start_time": "2023-07-25T20:09:10.697Z"
   },
   {
    "duration": 11,
    "start_time": "2023-07-25T20:09:10.724Z"
   },
   {
    "duration": 20,
    "start_time": "2023-07-25T20:09:10.737Z"
   },
   {
    "duration": 5,
    "start_time": "2023-07-25T20:09:10.759Z"
   },
   {
    "duration": 19,
    "start_time": "2023-07-25T20:09:10.765Z"
   },
   {
    "duration": 15,
    "start_time": "2023-07-25T20:09:10.786Z"
   },
   {
    "duration": 6,
    "start_time": "2023-07-25T20:09:10.802Z"
   },
   {
    "duration": 11,
    "start_time": "2023-07-25T20:09:10.809Z"
   },
   {
    "duration": 25,
    "start_time": "2023-07-25T20:09:10.821Z"
   },
   {
    "duration": 40,
    "start_time": "2023-07-25T20:09:10.847Z"
   },
   {
    "duration": 6,
    "start_time": "2023-07-25T20:09:10.889Z"
   },
   {
    "duration": 10,
    "start_time": "2023-07-25T20:09:10.896Z"
   },
   {
    "duration": 17,
    "start_time": "2023-07-25T20:09:10.907Z"
   },
   {
    "duration": 18,
    "start_time": "2023-07-25T20:09:10.925Z"
   },
   {
    "duration": 1394,
    "start_time": "2023-07-25T20:09:10.945Z"
   },
   {
    "duration": 1399,
    "start_time": "2023-07-25T20:09:12.340Z"
   },
   {
    "duration": 1397,
    "start_time": "2023-07-25T20:09:13.740Z"
   },
   {
    "duration": 9,
    "start_time": "2023-07-25T20:09:15.142Z"
   },
   {
    "duration": 120,
    "start_time": "2023-07-25T20:09:15.152Z"
   },
   {
    "duration": 89,
    "start_time": "2023-07-25T20:09:15.274Z"
   },
   {
    "duration": 5,
    "start_time": "2023-07-25T20:09:15.365Z"
   },
   {
    "duration": 8,
    "start_time": "2023-07-25T20:09:15.372Z"
   },
   {
    "duration": 20,
    "start_time": "2023-07-25T20:09:15.382Z"
   },
   {
    "duration": 6,
    "start_time": "2023-07-25T20:09:15.404Z"
   },
   {
    "duration": 14,
    "start_time": "2023-07-25T20:09:15.411Z"
   },
   {
    "duration": 3,
    "start_time": "2023-07-25T20:10:44.414Z"
   },
   {
    "duration": 6,
    "start_time": "2023-07-25T20:10:45.357Z"
   },
   {
    "duration": 3,
    "start_time": "2023-07-25T20:11:08.757Z"
   },
   {
    "duration": 6,
    "start_time": "2023-07-25T20:11:09.306Z"
   },
   {
    "duration": 6,
    "start_time": "2023-07-25T20:11:10.857Z"
   },
   {
    "duration": 6,
    "start_time": "2023-07-25T20:11:11.553Z"
   },
   {
    "duration": 5,
    "start_time": "2023-07-25T20:12:55.959Z"
   },
   {
    "duration": 7,
    "start_time": "2023-07-25T20:12:56.646Z"
   },
   {
    "duration": 3,
    "start_time": "2023-07-25T20:13:28.559Z"
   },
   {
    "duration": 5,
    "start_time": "2023-07-25T20:13:29.389Z"
   },
   {
    "duration": 5,
    "start_time": "2023-07-25T20:13:33.136Z"
   },
   {
    "duration": 5,
    "start_time": "2023-07-25T20:13:35.014Z"
   },
   {
    "duration": 105,
    "start_time": "2023-07-25T20:15:14.456Z"
   },
   {
    "duration": 6,
    "start_time": "2023-07-25T20:16:55.501Z"
   },
   {
    "duration": 8,
    "start_time": "2023-07-25T20:18:30.605Z"
   },
   {
    "duration": 4,
    "start_time": "2023-07-25T20:19:24.570Z"
   },
   {
    "duration": 4,
    "start_time": "2023-07-25T20:19:25.037Z"
   },
   {
    "duration": 4,
    "start_time": "2023-07-25T20:19:25.814Z"
   },
   {
    "duration": 4,
    "start_time": "2023-07-25T20:19:26.517Z"
   },
   {
    "duration": 4,
    "start_time": "2023-07-25T20:19:29.350Z"
   },
   {
    "duration": 5,
    "start_time": "2023-07-25T20:19:29.799Z"
   },
   {
    "duration": 4,
    "start_time": "2023-07-25T20:19:30.535Z"
   },
   {
    "duration": 5,
    "start_time": "2023-07-25T20:19:30.842Z"
   },
   {
    "duration": 3,
    "start_time": "2023-07-25T20:24:10.830Z"
   },
   {
    "duration": 7,
    "start_time": "2023-07-25T20:24:11.432Z"
   },
   {
    "duration": 1343,
    "start_time": "2023-07-25T20:24:11.919Z"
   },
   {
    "duration": 1408,
    "start_time": "2023-07-25T20:24:14.538Z"
   },
   {
    "duration": 1471,
    "start_time": "2023-07-25T20:24:15.948Z"
   },
   {
    "duration": 32,
    "start_time": "2023-07-25T20:24:25.625Z"
   },
   {
    "duration": 3,
    "start_time": "2023-07-25T20:24:41.991Z"
   },
   {
    "duration": 7,
    "start_time": "2023-07-25T20:24:42.526Z"
   },
   {
    "duration": 740,
    "start_time": "2023-07-25T20:24:43.212Z"
   },
   {
    "duration": 881,
    "start_time": "2023-07-25T20:24:52.452Z"
   },
   {
    "duration": 823,
    "start_time": "2023-07-25T20:25:01.130Z"
   },
   {
    "duration": 11,
    "start_time": "2023-07-26T17:02:30.186Z"
   },
   {
    "duration": 51,
    "start_time": "2023-07-26T17:02:34.775Z"
   },
   {
    "duration": 1730,
    "start_time": "2023-07-26T17:02:44.585Z"
   },
   {
    "duration": 801,
    "start_time": "2023-07-26T17:02:46.318Z"
   },
   {
    "duration": 12,
    "start_time": "2023-07-26T17:02:47.120Z"
   },
   {
    "duration": 17,
    "start_time": "2023-07-26T17:02:47.134Z"
   },
   {
    "duration": 51,
    "start_time": "2023-07-26T17:02:47.153Z"
   },
   {
    "duration": 3,
    "start_time": "2023-07-26T17:02:47.206Z"
   },
   {
    "duration": 39,
    "start_time": "2023-07-26T17:02:47.211Z"
   },
   {
    "duration": 33,
    "start_time": "2023-07-26T17:02:47.252Z"
   },
   {
    "duration": 33,
    "start_time": "2023-07-26T17:02:47.287Z"
   },
   {
    "duration": 3,
    "start_time": "2023-07-26T17:02:47.321Z"
   },
   {
    "duration": 40,
    "start_time": "2023-07-26T17:02:47.326Z"
   },
   {
    "duration": 34,
    "start_time": "2023-07-26T17:02:47.367Z"
   },
   {
    "duration": 53,
    "start_time": "2023-07-26T17:02:47.402Z"
   },
   {
    "duration": 3,
    "start_time": "2023-07-26T17:02:47.458Z"
   },
   {
    "duration": 60,
    "start_time": "2023-07-26T17:02:47.463Z"
   },
   {
    "duration": 39,
    "start_time": "2023-07-26T17:02:47.525Z"
   },
   {
    "duration": 47,
    "start_time": "2023-07-26T17:02:47.566Z"
   },
   {
    "duration": 16,
    "start_time": "2023-07-26T17:02:47.614Z"
   },
   {
    "duration": 74,
    "start_time": "2023-07-26T17:02:47.631Z"
   },
   {
    "duration": 19,
    "start_time": "2023-07-26T17:02:47.706Z"
   },
   {
    "duration": 65,
    "start_time": "2023-07-26T17:02:47.726Z"
   },
   {
    "duration": 17,
    "start_time": "2023-07-26T17:02:47.793Z"
   },
   {
    "duration": 67,
    "start_time": "2023-07-26T17:02:47.812Z"
   },
   {
    "duration": 16,
    "start_time": "2023-07-26T17:02:47.881Z"
   },
   {
    "duration": 35,
    "start_time": "2023-07-26T17:02:47.898Z"
   },
   {
    "duration": 12,
    "start_time": "2023-07-26T17:02:47.934Z"
   },
   {
    "duration": 33,
    "start_time": "2023-07-26T17:02:47.947Z"
   },
   {
    "duration": 31,
    "start_time": "2023-07-26T17:02:47.981Z"
   },
   {
    "duration": 10,
    "start_time": "2023-07-26T17:02:48.014Z"
   },
   {
    "duration": 84,
    "start_time": "2023-07-26T17:02:48.026Z"
   },
   {
    "duration": 20,
    "start_time": "2023-07-26T17:02:48.112Z"
   },
   {
    "duration": 21,
    "start_time": "2023-07-26T17:02:48.134Z"
   },
   {
    "duration": 895,
    "start_time": "2023-07-26T17:02:48.170Z"
   },
   {
    "duration": 793,
    "start_time": "2023-07-26T17:02:49.067Z"
   },
   {
    "duration": 785,
    "start_time": "2023-07-26T17:02:49.862Z"
   },
   {
    "duration": 271,
    "start_time": "2023-07-26T17:02:50.649Z"
   },
   {
    "duration": 255,
    "start_time": "2023-07-26T17:02:50.922Z"
   },
   {
    "duration": 346,
    "start_time": "2023-07-26T17:02:51.179Z"
   },
   {
    "duration": 263,
    "start_time": "2023-07-26T17:02:51.527Z"
   },
   {
    "duration": 18,
    "start_time": "2023-07-26T17:02:51.791Z"
   },
   {
    "duration": 8,
    "start_time": "2023-07-26T17:02:51.814Z"
   },
   {
    "duration": 37,
    "start_time": "2023-07-26T17:02:51.823Z"
   },
   {
    "duration": 27,
    "start_time": "2023-07-26T17:02:51.862Z"
   },
   {
    "duration": 68,
    "start_time": "2023-07-26T17:02:51.891Z"
   },
   {
    "duration": 6,
    "start_time": "2023-07-26T17:02:51.961Z"
   },
   {
    "duration": 28,
    "start_time": "2023-07-26T17:02:51.969Z"
   },
   {
    "duration": 174,
    "start_time": "2023-07-26T17:02:52.000Z"
   },
   {
    "duration": 13,
    "start_time": "2023-07-26T17:02:52.176Z"
   },
   {
    "duration": 14,
    "start_time": "2023-07-26T17:02:52.191Z"
   },
   {
    "duration": 20,
    "start_time": "2023-07-26T17:02:52.207Z"
   },
   {
    "duration": 149,
    "start_time": "2023-07-26T17:02:52.229Z"
   },
   {
    "duration": 27,
    "start_time": "2023-07-26T17:02:52.379Z"
   },
   {
    "duration": 8,
    "start_time": "2023-07-26T17:02:52.407Z"
   },
   {
    "duration": 41,
    "start_time": "2023-07-26T17:02:52.416Z"
   },
   {
    "duration": 117,
    "start_time": "2023-07-26T17:02:52.460Z"
   },
   {
    "duration": 28,
    "start_time": "2023-07-26T17:02:52.579Z"
   },
   {
    "duration": 18,
    "start_time": "2023-07-26T17:02:52.670Z"
   },
   {
    "duration": 23,
    "start_time": "2023-07-26T17:02:52.690Z"
   },
   {
    "duration": 6,
    "start_time": "2023-07-26T17:02:52.714Z"
   },
   {
    "duration": 32,
    "start_time": "2023-07-26T17:02:52.722Z"
   },
   {
    "duration": 15,
    "start_time": "2023-07-26T17:02:52.756Z"
   },
   {
    "duration": 15,
    "start_time": "2023-07-26T17:02:52.773Z"
   },
   {
    "duration": 24,
    "start_time": "2023-07-26T17:02:52.789Z"
   },
   {
    "duration": 9,
    "start_time": "2023-07-26T17:02:52.814Z"
   },
   {
    "duration": 18,
    "start_time": "2023-07-26T17:02:52.824Z"
   },
   {
    "duration": 3,
    "start_time": "2023-07-26T17:02:52.844Z"
   },
   {
    "duration": 41,
    "start_time": "2023-07-26T17:02:52.849Z"
   },
   {
    "duration": 27,
    "start_time": "2023-07-26T17:02:52.892Z"
   },
   {
    "duration": 38,
    "start_time": "2023-07-26T17:02:52.921Z"
   },
   {
    "duration": 24,
    "start_time": "2023-07-26T17:02:52.961Z"
   },
   {
    "duration": 13,
    "start_time": "2023-07-26T17:02:52.986Z"
   },
   {
    "duration": 17,
    "start_time": "2023-07-26T17:02:53.001Z"
   },
   {
    "duration": 7,
    "start_time": "2023-07-26T17:02:53.019Z"
   },
   {
    "duration": 16,
    "start_time": "2023-07-26T17:02:53.027Z"
   },
   {
    "duration": 24,
    "start_time": "2023-07-26T17:02:53.045Z"
   },
   {
    "duration": 19,
    "start_time": "2023-07-26T17:02:53.071Z"
   },
   {
    "duration": 14,
    "start_time": "2023-07-26T17:02:53.091Z"
   },
   {
    "duration": 8,
    "start_time": "2023-07-26T17:02:53.107Z"
   },
   {
    "duration": 1754,
    "start_time": "2023-07-26T17:02:53.117Z"
   },
   {
    "duration": 1778,
    "start_time": "2023-07-26T17:02:54.872Z"
   },
   {
    "duration": 1783,
    "start_time": "2023-07-26T17:02:56.651Z"
   },
   {
    "duration": 11,
    "start_time": "2023-07-26T17:02:58.435Z"
   },
   {
    "duration": 138,
    "start_time": "2023-07-26T17:02:58.448Z"
   },
   {
    "duration": 98,
    "start_time": "2023-07-26T17:02:58.588Z"
   },
   {
    "duration": 7,
    "start_time": "2023-07-26T17:02:58.688Z"
   },
   {
    "duration": 12,
    "start_time": "2023-07-26T17:02:58.697Z"
   },
   {
    "duration": 13,
    "start_time": "2023-07-26T17:02:58.710Z"
   },
   {
    "duration": 7,
    "start_time": "2023-07-26T17:02:58.724Z"
   },
   {
    "duration": 6,
    "start_time": "2023-07-26T17:02:58.733Z"
   },
   {
    "duration": 24,
    "start_time": "2023-07-26T17:02:58.740Z"
   },
   {
    "duration": 12,
    "start_time": "2023-07-26T17:02:58.766Z"
   },
   {
    "duration": 1051,
    "start_time": "2023-07-26T17:02:58.780Z"
   },
   {
    "duration": 1049,
    "start_time": "2023-07-26T17:02:59.833Z"
   },
   {
    "duration": 1057,
    "start_time": "2023-07-26T17:03:00.884Z"
   },
   {
    "duration": 106,
    "start_time": "2023-07-26T17:04:06.448Z"
   },
   {
    "duration": 1900,
    "start_time": "2023-07-26T17:04:09.934Z"
   },
   {
    "duration": 8,
    "start_time": "2023-07-26T17:06:57.730Z"
   },
   {
    "duration": 1812,
    "start_time": "2023-07-26T17:07:00.432Z"
   },
   {
    "duration": 8,
    "start_time": "2023-07-26T17:07:16.854Z"
   },
   {
    "duration": 1792,
    "start_time": "2023-07-26T17:07:19.043Z"
   },
   {
    "duration": 7,
    "start_time": "2023-07-26T17:07:35.122Z"
   },
   {
    "duration": 1797,
    "start_time": "2023-07-26T17:07:37.374Z"
   },
   {
    "duration": 8,
    "start_time": "2023-07-26T17:07:46.986Z"
   },
   {
    "duration": 1761,
    "start_time": "2023-07-26T17:07:48.696Z"
   },
   {
    "duration": 7,
    "start_time": "2023-07-26T17:15:29.506Z"
   },
   {
    "duration": 1774,
    "start_time": "2023-07-26T17:15:32.058Z"
   },
   {
    "duration": 1841,
    "start_time": "2023-07-26T17:15:37.142Z"
   },
   {
    "duration": 1739,
    "start_time": "2023-07-26T17:15:44.896Z"
   },
   {
    "duration": 11,
    "start_time": "2023-07-26T17:16:03.370Z"
   },
   {
    "duration": 15,
    "start_time": "2023-07-26T17:16:16.740Z"
   },
   {
    "duration": 12,
    "start_time": "2023-07-26T17:16:40.610Z"
   },
   {
    "duration": 8,
    "start_time": "2023-07-26T17:17:58.910Z"
   },
   {
    "duration": 1821,
    "start_time": "2023-07-26T17:18:01.940Z"
   },
   {
    "duration": 7,
    "start_time": "2023-07-26T17:18:33.674Z"
   },
   {
    "duration": 1740,
    "start_time": "2023-07-26T17:18:35.806Z"
   },
   {
    "duration": 182,
    "start_time": "2023-07-26T17:18:54.538Z"
   },
   {
    "duration": 7,
    "start_time": "2023-07-26T17:19:04.572Z"
   },
   {
    "duration": 6,
    "start_time": "2023-07-26T17:19:08.960Z"
   },
   {
    "duration": 1775,
    "start_time": "2023-07-26T17:19:11.396Z"
   },
   {
    "duration": 7,
    "start_time": "2023-07-26T17:19:42.208Z"
   },
   {
    "duration": 1834,
    "start_time": "2023-07-26T17:19:45.220Z"
   },
   {
    "duration": 7,
    "start_time": "2023-07-26T17:19:57.744Z"
   },
   {
    "duration": 1865,
    "start_time": "2023-07-26T17:20:00.896Z"
   },
   {
    "duration": 8,
    "start_time": "2023-07-26T17:20:14.775Z"
   },
   {
    "duration": 1805,
    "start_time": "2023-07-26T17:20:18.542Z"
   },
   {
    "duration": 7,
    "start_time": "2023-07-26T17:25:51.072Z"
   },
   {
    "duration": 9,
    "start_time": "2023-07-26T17:26:39.092Z"
   },
   {
    "duration": 9,
    "start_time": "2023-07-26T17:26:47.371Z"
   },
   {
    "duration": 1755,
    "start_time": "2023-07-26T17:27:02.718Z"
   },
   {
    "duration": 7,
    "start_time": "2023-07-26T17:27:19.304Z"
   },
   {
    "duration": 1740,
    "start_time": "2023-07-26T17:27:20.400Z"
   },
   {
    "duration": 7,
    "start_time": "2023-07-26T17:27:53.936Z"
   },
   {
    "duration": 1507,
    "start_time": "2023-07-26T17:27:54.922Z"
   },
   {
    "duration": 1563,
    "start_time": "2023-07-26T17:28:11.331Z"
   },
   {
    "duration": 7,
    "start_time": "2023-07-26T17:28:33.429Z"
   },
   {
    "duration": 1777,
    "start_time": "2023-07-26T17:28:33.843Z"
   },
   {
    "duration": 1798,
    "start_time": "2023-07-26T17:29:08.724Z"
   },
   {
    "duration": 4,
    "start_time": "2023-07-26T17:30:04.560Z"
   },
   {
    "duration": 9,
    "start_time": "2023-07-26T17:30:29.870Z"
   },
   {
    "duration": 5,
    "start_time": "2023-07-26T17:30:40.348Z"
   },
   {
    "duration": 8,
    "start_time": "2023-07-26T17:31:36.795Z"
   },
   {
    "duration": 1780,
    "start_time": "2023-07-26T17:31:40.912Z"
   },
   {
    "duration": 1819,
    "start_time": "2023-07-26T17:32:25.502Z"
   },
   {
    "duration": 1752,
    "start_time": "2023-07-26T17:32:37.992Z"
   },
   {
    "duration": 103,
    "start_time": "2023-07-26T17:37:15.996Z"
   },
   {
    "duration": 1800,
    "start_time": "2023-07-26T17:37:17.722Z"
   },
   {
    "duration": 4,
    "start_time": "2023-07-26T17:37:30.254Z"
   },
   {
    "duration": 1854,
    "start_time": "2023-07-26T17:38:04.706Z"
   },
   {
    "duration": 4,
    "start_time": "2023-07-26T17:38:15.016Z"
   },
   {
    "duration": 11,
    "start_time": "2023-07-26T17:38:51.306Z"
   },
   {
    "duration": 4,
    "start_time": "2023-07-26T17:38:52.020Z"
   },
   {
    "duration": 8,
    "start_time": "2023-07-26T17:39:16.251Z"
   },
   {
    "duration": 1799,
    "start_time": "2023-07-26T17:39:26.539Z"
   },
   {
    "duration": 2,
    "start_time": "2023-07-26T17:39:59.914Z"
   },
   {
    "duration": 3,
    "start_time": "2023-07-26T17:40:08.365Z"
   },
   {
    "duration": 6,
    "start_time": "2023-07-26T17:40:16.564Z"
   },
   {
    "duration": 1790,
    "start_time": "2023-07-26T17:40:24.714Z"
   },
   {
    "duration": 4,
    "start_time": "2023-07-26T17:40:55.876Z"
   },
   {
    "duration": 3,
    "start_time": "2023-07-26T17:41:07.062Z"
   },
   {
    "duration": 4,
    "start_time": "2023-07-26T17:41:13.486Z"
   },
   {
    "duration": 4,
    "start_time": "2023-07-26T17:41:24.408Z"
   },
   {
    "duration": 1797,
    "start_time": "2023-07-26T17:41:37.442Z"
   },
   {
    "duration": 379,
    "start_time": "2023-07-26T17:41:39.241Z"
   },
   {
    "duration": 12,
    "start_time": "2023-07-26T17:41:39.622Z"
   },
   {
    "duration": 17,
    "start_time": "2023-07-26T17:41:39.636Z"
   },
   {
    "duration": 50,
    "start_time": "2023-07-26T17:41:39.655Z"
   },
   {
    "duration": 4,
    "start_time": "2023-07-26T17:41:39.707Z"
   },
   {
    "duration": 12,
    "start_time": "2023-07-26T17:41:39.713Z"
   },
   {
    "duration": 27,
    "start_time": "2023-07-26T17:41:39.727Z"
   },
   {
    "duration": 47,
    "start_time": "2023-07-26T17:41:39.756Z"
   },
   {
    "duration": 3,
    "start_time": "2023-07-26T17:41:39.805Z"
   },
   {
    "duration": 12,
    "start_time": "2023-07-26T17:41:39.810Z"
   },
   {
    "duration": 17,
    "start_time": "2023-07-26T17:41:39.824Z"
   },
   {
    "duration": 55,
    "start_time": "2023-07-26T17:41:39.843Z"
   },
   {
    "duration": 4,
    "start_time": "2023-07-26T17:41:39.902Z"
   },
   {
    "duration": 54,
    "start_time": "2023-07-26T17:41:39.908Z"
   },
   {
    "duration": 47,
    "start_time": "2023-07-26T17:41:39.971Z"
   },
   {
    "duration": 65,
    "start_time": "2023-07-26T17:41:40.020Z"
   },
   {
    "duration": 16,
    "start_time": "2023-07-26T17:41:40.087Z"
   },
   {
    "duration": 67,
    "start_time": "2023-07-26T17:41:40.105Z"
   },
   {
    "duration": 18,
    "start_time": "2023-07-26T17:41:40.174Z"
   },
   {
    "duration": 58,
    "start_time": "2023-07-26T17:41:40.193Z"
   },
   {
    "duration": 26,
    "start_time": "2023-07-26T17:41:40.253Z"
   },
   {
    "duration": 66,
    "start_time": "2023-07-26T17:41:40.281Z"
   },
   {
    "duration": 11,
    "start_time": "2023-07-26T17:41:40.349Z"
   },
   {
    "duration": 14,
    "start_time": "2023-07-26T17:41:40.361Z"
   },
   {
    "duration": 10,
    "start_time": "2023-07-26T17:41:40.376Z"
   },
   {
    "duration": 14,
    "start_time": "2023-07-26T17:41:40.387Z"
   },
   {
    "duration": 27,
    "start_time": "2023-07-26T17:41:40.402Z"
   },
   {
    "duration": 11,
    "start_time": "2023-07-26T17:41:40.430Z"
   },
   {
    "duration": 70,
    "start_time": "2023-07-26T17:41:40.443Z"
   },
   {
    "duration": 18,
    "start_time": "2023-07-26T17:41:40.514Z"
   },
   {
    "duration": 18,
    "start_time": "2023-07-26T17:41:40.534Z"
   },
   {
    "duration": 924,
    "start_time": "2023-07-26T17:41:40.570Z"
   },
   {
    "duration": 806,
    "start_time": "2023-07-26T17:41:41.496Z"
   },
   {
    "duration": 825,
    "start_time": "2023-07-26T17:41:42.305Z"
   },
   {
    "duration": 272,
    "start_time": "2023-07-26T17:41:43.132Z"
   },
   {
    "duration": 258,
    "start_time": "2023-07-26T17:41:43.406Z"
   },
   {
    "duration": 355,
    "start_time": "2023-07-26T17:41:43.666Z"
   },
   {
    "duration": 243,
    "start_time": "2023-07-26T17:41:44.022Z"
   },
   {
    "duration": 21,
    "start_time": "2023-07-26T17:41:44.266Z"
   },
   {
    "duration": 7,
    "start_time": "2023-07-26T17:41:44.292Z"
   },
   {
    "duration": 27,
    "start_time": "2023-07-26T17:41:44.301Z"
   },
   {
    "duration": 6,
    "start_time": "2023-07-26T17:41:44.330Z"
   },
   {
    "duration": 40,
    "start_time": "2023-07-26T17:41:44.337Z"
   },
   {
    "duration": 6,
    "start_time": "2023-07-26T17:41:44.379Z"
   },
   {
    "duration": 19,
    "start_time": "2023-07-26T17:41:44.387Z"
   },
   {
    "duration": 165,
    "start_time": "2023-07-26T17:41:44.408Z"
   },
   {
    "duration": 9,
    "start_time": "2023-07-26T17:41:44.575Z"
   },
   {
    "duration": 8,
    "start_time": "2023-07-26T17:41:44.587Z"
   },
   {
    "duration": 20,
    "start_time": "2023-07-26T17:41:44.596Z"
   },
   {
    "duration": 154,
    "start_time": "2023-07-26T17:41:44.618Z"
   },
   {
    "duration": 11,
    "start_time": "2023-07-26T17:41:44.774Z"
   },
   {
    "duration": 26,
    "start_time": "2023-07-26T17:41:44.787Z"
   },
   {
    "duration": 39,
    "start_time": "2023-07-26T17:41:44.815Z"
   },
   {
    "duration": 121,
    "start_time": "2023-07-26T17:41:44.857Z"
   },
   {
    "duration": 52,
    "start_time": "2023-07-26T17:41:44.981Z"
   },
   {
    "duration": 38,
    "start_time": "2023-07-26T17:41:45.035Z"
   },
   {
    "duration": 26,
    "start_time": "2023-07-26T17:41:45.075Z"
   },
   {
    "duration": 41,
    "start_time": "2023-07-26T17:41:45.103Z"
   },
   {
    "duration": 50,
    "start_time": "2023-07-26T17:41:45.146Z"
   },
   {
    "duration": 28,
    "start_time": "2023-07-26T17:41:45.197Z"
   },
   {
    "duration": 16,
    "start_time": "2023-07-26T17:41:45.226Z"
   },
   {
    "duration": 19,
    "start_time": "2023-07-26T17:41:45.243Z"
   },
   {
    "duration": 26,
    "start_time": "2023-07-26T17:41:45.264Z"
   },
   {
    "duration": 33,
    "start_time": "2023-07-26T17:41:45.292Z"
   },
   {
    "duration": 7,
    "start_time": "2023-07-26T17:41:45.326Z"
   },
   {
    "duration": 32,
    "start_time": "2023-07-26T17:41:45.334Z"
   },
   {
    "duration": 19,
    "start_time": "2023-07-26T17:41:45.368Z"
   },
   {
    "duration": 65,
    "start_time": "2023-07-26T17:41:45.388Z"
   },
   {
    "duration": 29,
    "start_time": "2023-07-26T17:41:45.455Z"
   },
   {
    "duration": 21,
    "start_time": "2023-07-26T17:41:45.486Z"
   },
   {
    "duration": 40,
    "start_time": "2023-07-26T17:41:45.508Z"
   },
   {
    "duration": 50,
    "start_time": "2023-07-26T17:41:45.550Z"
   },
   {
    "duration": 54,
    "start_time": "2023-07-26T17:41:45.602Z"
   },
   {
    "duration": 27,
    "start_time": "2023-07-26T17:41:45.657Z"
   },
   {
    "duration": 37,
    "start_time": "2023-07-26T17:41:45.685Z"
   },
   {
    "duration": 18,
    "start_time": "2023-07-26T17:41:45.724Z"
   },
   {
    "duration": 35,
    "start_time": "2023-07-26T17:41:45.744Z"
   },
   {
    "duration": 1849,
    "start_time": "2023-07-26T17:41:45.781Z"
   },
   {
    "duration": 124,
    "start_time": "2023-07-26T17:41:47.631Z"
   },
   {
    "duration": 0,
    "start_time": "2023-07-26T17:41:47.757Z"
   },
   {
    "duration": 0,
    "start_time": "2023-07-26T17:41:47.758Z"
   },
   {
    "duration": 0,
    "start_time": "2023-07-26T17:41:47.759Z"
   },
   {
    "duration": 0,
    "start_time": "2023-07-26T17:41:47.760Z"
   },
   {
    "duration": 0,
    "start_time": "2023-07-26T17:41:47.761Z"
   },
   {
    "duration": 0,
    "start_time": "2023-07-26T17:41:47.770Z"
   },
   {
    "duration": 0,
    "start_time": "2023-07-26T17:41:47.771Z"
   },
   {
    "duration": 0,
    "start_time": "2023-07-26T17:41:47.772Z"
   },
   {
    "duration": 0,
    "start_time": "2023-07-26T17:41:47.774Z"
   },
   {
    "duration": 0,
    "start_time": "2023-07-26T17:41:47.775Z"
   },
   {
    "duration": 0,
    "start_time": "2023-07-26T17:41:47.776Z"
   },
   {
    "duration": 0,
    "start_time": "2023-07-26T17:41:47.777Z"
   },
   {
    "duration": 0,
    "start_time": "2023-07-26T17:41:47.778Z"
   },
   {
    "duration": 0,
    "start_time": "2023-07-26T17:41:47.779Z"
   },
   {
    "duration": 0,
    "start_time": "2023-07-26T17:41:47.780Z"
   },
   {
    "duration": 0,
    "start_time": "2023-07-26T17:41:47.781Z"
   },
   {
    "duration": 0,
    "start_time": "2023-07-26T17:41:47.782Z"
   },
   {
    "duration": 0,
    "start_time": "2023-07-26T17:41:47.783Z"
   },
   {
    "duration": 9,
    "start_time": "2023-07-26T18:30:08.106Z"
   },
   {
    "duration": 11,
    "start_time": "2023-07-26T18:30:26.150Z"
   },
   {
    "duration": 8,
    "start_time": "2023-07-26T18:31:12.495Z"
   },
   {
    "duration": 11,
    "start_time": "2023-07-26T18:31:17.920Z"
   },
   {
    "duration": 1804,
    "start_time": "2023-07-26T18:31:21.829Z"
   },
   {
    "duration": 10,
    "start_time": "2023-07-26T18:31:26.805Z"
   },
   {
    "duration": 9,
    "start_time": "2023-07-26T18:31:37.013Z"
   },
   {
    "duration": 1786,
    "start_time": "2023-07-26T18:34:07.864Z"
   },
   {
    "duration": 1852,
    "start_time": "2023-07-26T18:34:25.988Z"
   },
   {
    "duration": 4,
    "start_time": "2023-07-26T18:34:30.240Z"
   },
   {
    "duration": 1741,
    "start_time": "2023-07-26T18:34:57.420Z"
   },
   {
    "duration": 1794,
    "start_time": "2023-07-26T18:35:11.640Z"
   },
   {
    "duration": 3,
    "start_time": "2023-07-26T18:35:19.969Z"
   },
   {
    "duration": 1820,
    "start_time": "2023-07-26T18:35:45.636Z"
   },
   {
    "duration": 4,
    "start_time": "2023-07-26T18:35:57.210Z"
   },
   {
    "duration": 11,
    "start_time": "2023-07-26T18:36:25.168Z"
   },
   {
    "duration": 7,
    "start_time": "2023-07-26T18:40:05.932Z"
   },
   {
    "duration": 1774,
    "start_time": "2023-07-26T18:40:10.050Z"
   },
   {
    "duration": 1841,
    "start_time": "2023-07-26T18:40:20.696Z"
   },
   {
    "duration": 4,
    "start_time": "2023-07-26T18:40:31.089Z"
   },
   {
    "duration": 11,
    "start_time": "2023-07-26T18:40:43.638Z"
   },
   {
    "duration": 11,
    "start_time": "2023-07-26T18:40:50.402Z"
   },
   {
    "duration": 133,
    "start_time": "2023-07-26T18:41:21.914Z"
   },
   {
    "duration": 81,
    "start_time": "2023-07-26T18:41:37.326Z"
   },
   {
    "duration": 14,
    "start_time": "2023-07-26T18:43:25.402Z"
   },
   {
    "duration": 5,
    "start_time": "2023-07-26T18:43:31.650Z"
   },
   {
    "duration": 4,
    "start_time": "2023-07-26T18:43:36.844Z"
   },
   {
    "duration": 82,
    "start_time": "2023-07-26T18:45:18.396Z"
   },
   {
    "duration": 146,
    "start_time": "2023-07-26T18:45:23.236Z"
   },
   {
    "duration": 112,
    "start_time": "2023-07-26T18:45:42.652Z"
   },
   {
    "duration": 144,
    "start_time": "2023-07-26T18:45:50.312Z"
   },
   {
    "duration": 115,
    "start_time": "2023-07-26T18:45:58.484Z"
   },
   {
    "duration": 102,
    "start_time": "2023-07-26T18:46:18.942Z"
   },
   {
    "duration": 84,
    "start_time": "2023-07-26T18:48:09.812Z"
   },
   {
    "duration": 8,
    "start_time": "2023-07-26T18:48:21.890Z"
   },
   {
    "duration": 1860,
    "start_time": "2023-07-26T18:48:32.788Z"
   },
   {
    "duration": 82,
    "start_time": "2023-07-26T18:48:42.910Z"
   },
   {
    "duration": 4,
    "start_time": "2023-07-26T18:48:46.796Z"
   },
   {
    "duration": 127,
    "start_time": "2023-07-26T18:48:59.707Z"
   },
   {
    "duration": 82,
    "start_time": "2023-07-26T18:49:07.655Z"
   },
   {
    "duration": 108,
    "start_time": "2023-07-26T18:49:16.095Z"
   },
   {
    "duration": 120,
    "start_time": "2023-07-26T18:49:27.064Z"
   },
   {
    "duration": 138,
    "start_time": "2023-07-26T18:50:35.498Z"
   },
   {
    "duration": 9,
    "start_time": "2023-07-26T18:50:40.789Z"
   },
   {
    "duration": 1956,
    "start_time": "2023-07-26T18:50:45.387Z"
   },
   {
    "duration": 130,
    "start_time": "2023-07-26T18:51:00.652Z"
   },
   {
    "duration": 93,
    "start_time": "2023-07-26T18:52:53.806Z"
   },
   {
    "duration": 7,
    "start_time": "2023-07-26T18:52:57.222Z"
   },
   {
    "duration": 1940,
    "start_time": "2023-07-26T18:53:02.506Z"
   },
   {
    "duration": 1971,
    "start_time": "2023-07-26T18:53:10.672Z"
   },
   {
    "duration": 16,
    "start_time": "2023-07-26T18:53:34.271Z"
   },
   {
    "duration": 1964,
    "start_time": "2023-07-26T18:53:41.589Z"
   },
   {
    "duration": 4,
    "start_time": "2023-07-26T18:53:45.016Z"
   },
   {
    "duration": 1830,
    "start_time": "2023-07-26T18:53:50.124Z"
   },
   {
    "duration": 1999,
    "start_time": "2023-07-26T18:53:55.064Z"
   },
   {
    "duration": 4,
    "start_time": "2023-07-26T18:54:05.542Z"
   },
   {
    "duration": 88,
    "start_time": "2023-07-26T18:54:24.338Z"
   },
   {
    "duration": 1970,
    "start_time": "2023-07-26T18:54:30.866Z"
   },
   {
    "duration": 4,
    "start_time": "2023-07-26T18:54:39.760Z"
   },
   {
    "duration": 12,
    "start_time": "2023-07-26T18:54:55.852Z"
   },
   {
    "duration": 1891,
    "start_time": "2023-07-26T18:55:10.556Z"
   },
   {
    "duration": 6,
    "start_time": "2023-07-26T18:55:15.406Z"
   },
   {
    "duration": 11,
    "start_time": "2023-07-26T18:55:19.300Z"
   },
   {
    "duration": 11,
    "start_time": "2023-07-26T18:55:53.148Z"
   },
   {
    "duration": 1980,
    "start_time": "2023-07-26T18:56:01.556Z"
   },
   {
    "duration": 11,
    "start_time": "2023-07-26T18:56:09.789Z"
   },
   {
    "duration": 1515,
    "start_time": "2023-07-26T18:56:58.489Z"
   },
   {
    "duration": 406,
    "start_time": "2023-07-26T18:57:00.006Z"
   },
   {
    "duration": 13,
    "start_time": "2023-07-26T18:57:00.413Z"
   },
   {
    "duration": 70,
    "start_time": "2023-07-26T18:57:00.427Z"
   },
   {
    "duration": 86,
    "start_time": "2023-07-26T18:57:00.499Z"
   },
   {
    "duration": 21,
    "start_time": "2023-07-26T18:57:00.587Z"
   },
   {
    "duration": 108,
    "start_time": "2023-07-26T18:57:00.610Z"
   },
   {
    "duration": 77,
    "start_time": "2023-07-26T18:57:00.720Z"
   },
   {
    "duration": 81,
    "start_time": "2023-07-26T18:57:00.799Z"
   },
   {
    "duration": 37,
    "start_time": "2023-07-26T18:57:00.882Z"
   },
   {
    "duration": 36,
    "start_time": "2023-07-26T18:57:00.921Z"
   },
   {
    "duration": 66,
    "start_time": "2023-07-26T18:57:00.959Z"
   },
   {
    "duration": 74,
    "start_time": "2023-07-26T18:57:01.027Z"
   },
   {
    "duration": 12,
    "start_time": "2023-07-26T18:57:01.104Z"
   },
   {
    "duration": 100,
    "start_time": "2023-07-26T18:57:01.117Z"
   },
   {
    "duration": 68,
    "start_time": "2023-07-26T18:57:01.219Z"
   },
   {
    "duration": 52,
    "start_time": "2023-07-26T18:57:01.288Z"
   },
   {
    "duration": 18,
    "start_time": "2023-07-26T18:57:01.342Z"
   },
   {
    "duration": 107,
    "start_time": "2023-07-26T18:57:01.361Z"
   },
   {
    "duration": 52,
    "start_time": "2023-07-26T18:57:01.470Z"
   },
   {
    "duration": 102,
    "start_time": "2023-07-26T18:57:01.524Z"
   },
   {
    "duration": 36,
    "start_time": "2023-07-26T18:57:01.628Z"
   },
   {
    "duration": 93,
    "start_time": "2023-07-26T18:57:01.666Z"
   },
   {
    "duration": 36,
    "start_time": "2023-07-26T18:57:01.760Z"
   },
   {
    "duration": 28,
    "start_time": "2023-07-26T18:57:01.798Z"
   },
   {
    "duration": 25,
    "start_time": "2023-07-26T18:57:01.827Z"
   },
   {
    "duration": 46,
    "start_time": "2023-07-26T18:57:01.854Z"
   },
   {
    "duration": 50,
    "start_time": "2023-07-26T18:57:01.902Z"
   },
   {
    "duration": 44,
    "start_time": "2023-07-26T18:57:01.953Z"
   },
   {
    "duration": 96,
    "start_time": "2023-07-26T18:57:01.999Z"
   },
   {
    "duration": 19,
    "start_time": "2023-07-26T18:57:02.096Z"
   },
   {
    "duration": 99,
    "start_time": "2023-07-26T18:57:02.117Z"
   },
   {
    "duration": 1007,
    "start_time": "2023-07-26T18:57:02.218Z"
   },
   {
    "duration": 842,
    "start_time": "2023-07-26T18:57:03.226Z"
   },
   {
    "duration": 898,
    "start_time": "2023-07-26T18:57:04.071Z"
   },
   {
    "duration": 292,
    "start_time": "2023-07-26T18:57:04.970Z"
   },
   {
    "duration": 281,
    "start_time": "2023-07-26T18:57:05.264Z"
   },
   {
    "duration": 417,
    "start_time": "2023-07-26T18:57:05.547Z"
   },
   {
    "duration": 270,
    "start_time": "2023-07-26T18:57:05.966Z"
   },
   {
    "duration": 19,
    "start_time": "2023-07-26T18:57:06.238Z"
   },
   {
    "duration": 9,
    "start_time": "2023-07-26T18:57:06.278Z"
   },
   {
    "duration": 27,
    "start_time": "2023-07-26T18:57:06.289Z"
   },
   {
    "duration": 6,
    "start_time": "2023-07-26T18:57:06.317Z"
   },
   {
    "duration": 43,
    "start_time": "2023-07-26T18:57:06.325Z"
   },
   {
    "duration": 11,
    "start_time": "2023-07-26T18:57:06.375Z"
   },
   {
    "duration": 97,
    "start_time": "2023-07-26T18:57:06.388Z"
   },
   {
    "duration": 22,
    "start_time": "2023-07-26T18:57:06.574Z"
   },
   {
    "duration": 20,
    "start_time": "2023-07-26T18:57:06.598Z"
   },
   {
    "duration": 20,
    "start_time": "2023-07-26T18:57:06.621Z"
   },
   {
    "duration": 51,
    "start_time": "2023-07-26T18:57:06.644Z"
   },
   {
    "duration": 116,
    "start_time": "2023-07-26T18:57:06.775Z"
   },
   {
    "duration": 6,
    "start_time": "2023-07-26T18:57:06.893Z"
   },
   {
    "duration": 5,
    "start_time": "2023-07-26T18:57:06.902Z"
   },
   {
    "duration": 12,
    "start_time": "2023-07-26T18:57:06.909Z"
   },
   {
    "duration": 60,
    "start_time": "2023-07-26T18:57:06.924Z"
   },
   {
    "duration": 97,
    "start_time": "2023-07-26T18:57:06.986Z"
   },
   {
    "duration": 17,
    "start_time": "2023-07-26T18:57:07.086Z"
   },
   {
    "duration": 13,
    "start_time": "2023-07-26T18:57:07.105Z"
   },
   {
    "duration": 5,
    "start_time": "2023-07-26T18:57:07.119Z"
   },
   {
    "duration": 11,
    "start_time": "2023-07-26T18:57:07.125Z"
   },
   {
    "duration": 10,
    "start_time": "2023-07-26T18:57:07.138Z"
   },
   {
    "duration": 8,
    "start_time": "2023-07-26T18:57:07.150Z"
   },
   {
    "duration": 30,
    "start_time": "2023-07-26T18:57:07.160Z"
   },
   {
    "duration": 7,
    "start_time": "2023-07-26T18:57:07.192Z"
   },
   {
    "duration": 16,
    "start_time": "2023-07-26T18:57:07.201Z"
   },
   {
    "duration": 3,
    "start_time": "2023-07-26T18:57:07.219Z"
   },
   {
    "duration": 19,
    "start_time": "2023-07-26T18:57:07.223Z"
   },
   {
    "duration": 3,
    "start_time": "2023-07-26T18:57:07.244Z"
   },
   {
    "duration": 7,
    "start_time": "2023-07-26T18:57:07.248Z"
   },
   {
    "duration": 28,
    "start_time": "2023-07-26T18:57:07.275Z"
   },
   {
    "duration": 4,
    "start_time": "2023-07-26T18:57:07.305Z"
   },
   {
    "duration": 35,
    "start_time": "2023-07-26T18:57:07.310Z"
   },
   {
    "duration": 9,
    "start_time": "2023-07-26T18:57:07.347Z"
   },
   {
    "duration": 12,
    "start_time": "2023-07-26T18:57:07.357Z"
   },
   {
    "duration": 22,
    "start_time": "2023-07-26T18:57:07.374Z"
   },
   {
    "duration": 40,
    "start_time": "2023-07-26T18:57:07.397Z"
   },
   {
    "duration": 4,
    "start_time": "2023-07-26T18:57:07.439Z"
   },
   {
    "duration": 8,
    "start_time": "2023-07-26T18:57:07.445Z"
   },
   {
    "duration": 1986,
    "start_time": "2023-07-26T18:57:07.455Z"
   },
   {
    "duration": 1917,
    "start_time": "2023-07-26T18:57:09.442Z"
   },
   {
    "duration": 2013,
    "start_time": "2023-07-26T18:57:11.361Z"
   },
   {
    "duration": 17,
    "start_time": "2023-07-26T18:57:13.377Z"
   },
   {
    "duration": 150,
    "start_time": "2023-07-26T18:57:13.396Z"
   },
   {
    "duration": 108,
    "start_time": "2023-07-26T18:57:13.548Z"
   },
   {
    "duration": 22,
    "start_time": "2023-07-26T18:57:13.657Z"
   },
   {
    "duration": 28,
    "start_time": "2023-07-26T18:57:13.682Z"
   },
   {
    "duration": 17,
    "start_time": "2023-07-26T18:57:13.712Z"
   },
   {
    "duration": 22,
    "start_time": "2023-07-26T18:57:13.731Z"
   },
   {
    "duration": 12,
    "start_time": "2023-07-26T18:57:13.755Z"
   },
   {
    "duration": 26,
    "start_time": "2023-07-26T18:57:13.769Z"
   },
   {
    "duration": 15,
    "start_time": "2023-07-26T18:57:13.797Z"
   },
   {
    "duration": 1091,
    "start_time": "2023-07-26T18:57:13.813Z"
   },
   {
    "duration": 1152,
    "start_time": "2023-07-26T18:57:14.906Z"
   },
   {
    "duration": 1190,
    "start_time": "2023-07-26T18:57:16.072Z"
   },
   {
    "duration": 4,
    "start_time": "2023-07-26T18:59:47.704Z"
   },
   {
    "duration": 13,
    "start_time": "2023-07-26T18:59:50.869Z"
   },
   {
    "duration": 4,
    "start_time": "2023-07-26T19:00:03.742Z"
   },
   {
    "duration": 4,
    "start_time": "2023-07-26T19:00:27.428Z"
   },
   {
    "duration": 11,
    "start_time": "2023-07-26T19:00:29.145Z"
   },
   {
    "duration": 4,
    "start_time": "2023-07-26T19:00:30.020Z"
   },
   {
    "duration": 9,
    "start_time": "2023-07-26T19:01:00.148Z"
   },
   {
    "duration": 7,
    "start_time": "2023-07-26T19:01:01.262Z"
   },
   {
    "duration": 12,
    "start_time": "2023-07-26T19:01:29.849Z"
   },
   {
    "duration": 104,
    "start_time": "2023-07-26T19:08:44.929Z"
   },
   {
    "duration": 1085,
    "start_time": "2023-07-26T19:09:17.487Z"
   },
   {
    "duration": 223,
    "start_time": "2023-07-26T19:10:03.589Z"
   },
   {
    "duration": 10,
    "start_time": "2023-07-26T19:10:10.509Z"
   },
   {
    "duration": 1229,
    "start_time": "2023-07-26T19:10:16.526Z"
   },
   {
    "duration": 101,
    "start_time": "2023-07-26T19:10:22.289Z"
   },
   {
    "duration": 7,
    "start_time": "2023-07-26T19:10:49.094Z"
   },
   {
    "duration": 1181,
    "start_time": "2023-07-26T19:10:52.468Z"
   },
   {
    "duration": 107,
    "start_time": "2023-07-26T19:11:07.489Z"
   },
   {
    "duration": 111,
    "start_time": "2023-07-26T19:11:18.520Z"
   },
   {
    "duration": 236,
    "start_time": "2023-07-26T19:11:37.210Z"
   },
   {
    "duration": 224,
    "start_time": "2023-07-26T19:11:46.646Z"
   },
   {
    "duration": 7,
    "start_time": "2023-07-26T19:12:15.671Z"
   },
   {
    "duration": 1179,
    "start_time": "2023-07-26T19:12:18.552Z"
   },
   {
    "duration": 175,
    "start_time": "2023-07-26T19:12:24.404Z"
   },
   {
    "duration": 151,
    "start_time": "2023-07-26T19:12:38.387Z"
   },
   {
    "duration": 1143,
    "start_time": "2023-07-26T19:13:45.729Z"
   },
   {
    "duration": 240,
    "start_time": "2023-07-26T19:14:02.465Z"
   },
   {
    "duration": 175,
    "start_time": "2023-07-26T19:17:12.140Z"
   },
   {
    "duration": 1588,
    "start_time": "2023-07-26T19:17:44.001Z"
   },
   {
    "duration": 434,
    "start_time": "2023-07-26T19:17:45.591Z"
   },
   {
    "duration": 17,
    "start_time": "2023-07-26T19:17:46.027Z"
   },
   {
    "duration": 36,
    "start_time": "2023-07-26T19:17:46.048Z"
   },
   {
    "duration": 58,
    "start_time": "2023-07-26T19:17:46.087Z"
   },
   {
    "duration": 23,
    "start_time": "2023-07-26T19:17:46.148Z"
   },
   {
    "duration": 10,
    "start_time": "2023-07-26T19:17:46.174Z"
   },
   {
    "duration": 46,
    "start_time": "2023-07-26T19:17:46.186Z"
   },
   {
    "duration": 59,
    "start_time": "2023-07-26T19:17:46.236Z"
   },
   {
    "duration": 20,
    "start_time": "2023-07-26T19:17:46.299Z"
   },
   {
    "duration": 34,
    "start_time": "2023-07-26T19:17:46.322Z"
   },
   {
    "duration": 31,
    "start_time": "2023-07-26T19:17:46.359Z"
   },
   {
    "duration": 92,
    "start_time": "2023-07-26T19:17:46.392Z"
   },
   {
    "duration": 12,
    "start_time": "2023-07-26T19:17:46.487Z"
   },
   {
    "duration": 137,
    "start_time": "2023-07-26T19:17:46.501Z"
   },
   {
    "duration": 91,
    "start_time": "2023-07-26T19:17:46.640Z"
   },
   {
    "duration": 75,
    "start_time": "2023-07-26T19:17:46.736Z"
   },
   {
    "duration": 36,
    "start_time": "2023-07-26T19:17:46.813Z"
   },
   {
    "duration": 80,
    "start_time": "2023-07-26T19:17:46.851Z"
   },
   {
    "duration": 27,
    "start_time": "2023-07-26T19:17:46.932Z"
   },
   {
    "duration": 118,
    "start_time": "2023-07-26T19:17:46.961Z"
   },
   {
    "duration": 21,
    "start_time": "2023-07-26T19:17:47.081Z"
   },
   {
    "duration": 68,
    "start_time": "2023-07-26T19:17:47.104Z"
   },
   {
    "duration": 11,
    "start_time": "2023-07-26T19:17:47.174Z"
   },
   {
    "duration": 19,
    "start_time": "2023-07-26T19:17:47.187Z"
   },
   {
    "duration": 13,
    "start_time": "2023-07-26T19:17:47.208Z"
   },
   {
    "duration": 20,
    "start_time": "2023-07-26T19:17:47.222Z"
   },
   {
    "duration": 20,
    "start_time": "2023-07-26T19:17:47.277Z"
   },
   {
    "duration": 17,
    "start_time": "2023-07-26T19:17:47.300Z"
   },
   {
    "duration": 85,
    "start_time": "2023-07-26T19:17:47.319Z"
   },
   {
    "duration": 20,
    "start_time": "2023-07-26T19:17:47.406Z"
   },
   {
    "duration": 49,
    "start_time": "2023-07-26T19:17:47.428Z"
   },
   {
    "duration": 976,
    "start_time": "2023-07-26T19:17:47.479Z"
   },
   {
    "duration": 918,
    "start_time": "2023-07-26T19:17:48.457Z"
   },
   {
    "duration": 870,
    "start_time": "2023-07-26T19:17:49.378Z"
   },
   {
    "duration": 301,
    "start_time": "2023-07-26T19:17:50.250Z"
   },
   {
    "duration": 290,
    "start_time": "2023-07-26T19:17:50.553Z"
   },
   {
    "duration": 402,
    "start_time": "2023-07-26T19:17:50.844Z"
   },
   {
    "duration": 277,
    "start_time": "2023-07-26T19:17:51.248Z"
   },
   {
    "duration": 20,
    "start_time": "2023-07-26T19:17:51.527Z"
   },
   {
    "duration": 23,
    "start_time": "2023-07-26T19:17:51.549Z"
   },
   {
    "duration": 55,
    "start_time": "2023-07-26T19:17:51.574Z"
   },
   {
    "duration": 8,
    "start_time": "2023-07-26T19:17:51.631Z"
   },
   {
    "duration": 21,
    "start_time": "2023-07-26T19:17:51.642Z"
   },
   {
    "duration": 16,
    "start_time": "2023-07-26T19:17:51.665Z"
   },
   {
    "duration": 42,
    "start_time": "2023-07-26T19:17:51.684Z"
   },
   {
    "duration": 45,
    "start_time": "2023-07-26T19:17:51.731Z"
   },
   {
    "duration": 116,
    "start_time": "2023-07-26T19:17:51.781Z"
   },
   {
    "duration": 15,
    "start_time": "2023-07-26T19:17:51.899Z"
   },
   {
    "duration": 35,
    "start_time": "2023-07-26T19:17:51.916Z"
   },
   {
    "duration": 117,
    "start_time": "2023-07-26T19:17:51.955Z"
   },
   {
    "duration": 6,
    "start_time": "2023-07-26T19:17:52.075Z"
   },
   {
    "duration": 26,
    "start_time": "2023-07-26T19:17:52.083Z"
   },
   {
    "duration": 81,
    "start_time": "2023-07-26T19:17:52.111Z"
   },
   {
    "duration": 103,
    "start_time": "2023-07-26T19:17:52.198Z"
   },
   {
    "duration": 9,
    "start_time": "2023-07-26T19:17:52.303Z"
   },
   {
    "duration": 17,
    "start_time": "2023-07-26T19:17:52.315Z"
   },
   {
    "duration": 33,
    "start_time": "2023-07-26T19:17:52.334Z"
   },
   {
    "duration": 38,
    "start_time": "2023-07-26T19:17:52.368Z"
   },
   {
    "duration": 6,
    "start_time": "2023-07-26T19:17:52.409Z"
   },
   {
    "duration": 30,
    "start_time": "2023-07-26T19:17:52.417Z"
   },
   {
    "duration": 26,
    "start_time": "2023-07-26T19:17:52.449Z"
   },
   {
    "duration": 34,
    "start_time": "2023-07-26T19:17:52.479Z"
   },
   {
    "duration": 4,
    "start_time": "2023-07-26T19:17:52.515Z"
   },
   {
    "duration": 40,
    "start_time": "2023-07-26T19:17:52.522Z"
   },
   {
    "duration": 4,
    "start_time": "2023-07-26T19:17:52.565Z"
   },
   {
    "duration": 52,
    "start_time": "2023-07-26T19:17:52.572Z"
   },
   {
    "duration": 16,
    "start_time": "2023-07-26T19:17:52.626Z"
   },
   {
    "duration": 6,
    "start_time": "2023-07-26T19:17:52.645Z"
   },
   {
    "duration": 13,
    "start_time": "2023-07-26T19:17:52.653Z"
   },
   {
    "duration": 45,
    "start_time": "2023-07-26T19:17:52.668Z"
   },
   {
    "duration": 23,
    "start_time": "2023-07-26T19:17:52.716Z"
   },
   {
    "duration": 20,
    "start_time": "2023-07-26T19:17:52.741Z"
   },
   {
    "duration": 34,
    "start_time": "2023-07-26T19:17:52.764Z"
   },
   {
    "duration": 27,
    "start_time": "2023-07-26T19:17:52.799Z"
   },
   {
    "duration": 17,
    "start_time": "2023-07-26T19:17:52.828Z"
   },
   {
    "duration": 8,
    "start_time": "2023-07-26T19:17:52.847Z"
   },
   {
    "duration": 22,
    "start_time": "2023-07-26T19:17:52.858Z"
   },
   {
    "duration": 2070,
    "start_time": "2023-07-26T19:17:52.888Z"
   },
   {
    "duration": 2192,
    "start_time": "2023-07-26T19:17:54.960Z"
   },
   {
    "duration": 2102,
    "start_time": "2023-07-26T19:17:57.155Z"
   },
   {
    "duration": 24,
    "start_time": "2023-07-26T19:17:59.263Z"
   },
   {
    "duration": 160,
    "start_time": "2023-07-26T19:17:59.292Z"
   },
   {
    "duration": 110,
    "start_time": "2023-07-26T19:17:59.454Z"
   },
   {
    "duration": 12,
    "start_time": "2023-07-26T19:17:59.573Z"
   },
   {
    "duration": 19,
    "start_time": "2023-07-26T19:17:59.588Z"
   },
   {
    "duration": 31,
    "start_time": "2023-07-26T19:17:59.610Z"
   },
   {
    "duration": 8,
    "start_time": "2023-07-26T19:17:59.643Z"
   },
   {
    "duration": 8,
    "start_time": "2023-07-26T19:17:59.653Z"
   },
   {
    "duration": 40,
    "start_time": "2023-07-26T19:17:59.663Z"
   },
   {
    "duration": 11,
    "start_time": "2023-07-26T19:17:59.705Z"
   },
   {
    "duration": 1243,
    "start_time": "2023-07-26T19:17:59.718Z"
   },
   {
    "duration": 1213,
    "start_time": "2023-07-26T19:18:00.964Z"
   },
   {
    "duration": 1293,
    "start_time": "2023-07-26T19:18:02.179Z"
   },
   {
    "duration": 247,
    "start_time": "2023-07-26T19:18:03.475Z"
   },
   {
    "duration": 330,
    "start_time": "2023-07-26T19:18:03.724Z"
   },
   {
    "duration": 220,
    "start_time": "2023-07-26T19:18:04.056Z"
   },
   {
    "duration": 16,
    "start_time": "2023-07-26T19:22:03.089Z"
   },
   {
    "duration": 1834,
    "start_time": "2023-07-26T19:22:06.705Z"
   },
   {
    "duration": 8,
    "start_time": "2023-07-26T19:22:28.512Z"
   },
   {
    "duration": 2133,
    "start_time": "2023-07-26T19:22:32.025Z"
   },
   {
    "duration": 1756,
    "start_time": "2023-07-26T19:24:56.208Z"
   },
   {
    "duration": 510,
    "start_time": "2023-07-26T19:24:57.966Z"
   },
   {
    "duration": 16,
    "start_time": "2023-07-26T19:24:58.478Z"
   },
   {
    "duration": 35,
    "start_time": "2023-07-26T19:24:58.496Z"
   },
   {
    "duration": 61,
    "start_time": "2023-07-26T19:24:58.533Z"
   },
   {
    "duration": 4,
    "start_time": "2023-07-26T19:24:58.597Z"
   },
   {
    "duration": 20,
    "start_time": "2023-07-26T19:24:58.603Z"
   },
   {
    "duration": 23,
    "start_time": "2023-07-26T19:24:58.626Z"
   },
   {
    "duration": 60,
    "start_time": "2023-07-26T19:24:58.651Z"
   },
   {
    "duration": 5,
    "start_time": "2023-07-26T19:24:58.713Z"
   },
   {
    "duration": 16,
    "start_time": "2023-07-26T19:24:58.719Z"
   },
   {
    "duration": 45,
    "start_time": "2023-07-26T19:24:58.736Z"
   },
   {
    "duration": 95,
    "start_time": "2023-07-26T19:24:58.782Z"
   },
   {
    "duration": 4,
    "start_time": "2023-07-26T19:24:58.881Z"
   },
   {
    "duration": 86,
    "start_time": "2023-07-26T19:24:58.886Z"
   },
   {
    "duration": 186,
    "start_time": "2023-07-26T19:24:58.974Z"
   },
   {
    "duration": 90,
    "start_time": "2023-07-26T19:24:59.163Z"
   },
   {
    "duration": 21,
    "start_time": "2023-07-26T19:24:59.255Z"
   },
   {
    "duration": 96,
    "start_time": "2023-07-26T19:24:59.278Z"
   },
   {
    "duration": 27,
    "start_time": "2023-07-26T19:24:59.377Z"
   },
   {
    "duration": 65,
    "start_time": "2023-07-26T19:24:59.407Z"
   },
   {
    "duration": 34,
    "start_time": "2023-07-26T19:24:59.474Z"
   },
   {
    "duration": 193,
    "start_time": "2023-07-26T19:24:59.511Z"
   },
   {
    "duration": 69,
    "start_time": "2023-07-26T19:24:59.707Z"
   },
   {
    "duration": 29,
    "start_time": "2023-07-26T19:24:59.778Z"
   },
   {
    "duration": 13,
    "start_time": "2023-07-26T19:24:59.809Z"
   },
   {
    "duration": 16,
    "start_time": "2023-07-26T19:24:59.825Z"
   },
   {
    "duration": 37,
    "start_time": "2023-07-26T19:24:59.843Z"
   },
   {
    "duration": 17,
    "start_time": "2023-07-26T19:24:59.883Z"
   },
   {
    "duration": 190,
    "start_time": "2023-07-26T19:24:59.904Z"
   },
   {
    "duration": 21,
    "start_time": "2023-07-26T19:25:00.095Z"
   },
   {
    "duration": 61,
    "start_time": "2023-07-26T19:25:00.118Z"
   },
   {
    "duration": 1249,
    "start_time": "2023-07-26T19:25:00.182Z"
   },
   {
    "duration": 961,
    "start_time": "2023-07-26T19:25:01.433Z"
   },
   {
    "duration": 911,
    "start_time": "2023-07-26T19:25:02.396Z"
   },
   {
    "duration": 284,
    "start_time": "2023-07-26T19:25:03.309Z"
   },
   {
    "duration": 281,
    "start_time": "2023-07-26T19:25:03.595Z"
   },
   {
    "duration": 410,
    "start_time": "2023-07-26T19:25:03.878Z"
   },
   {
    "duration": 275,
    "start_time": "2023-07-26T19:25:04.290Z"
   },
   {
    "duration": 20,
    "start_time": "2023-07-26T19:25:04.570Z"
   },
   {
    "duration": 8,
    "start_time": "2023-07-26T19:25:04.596Z"
   },
   {
    "duration": 27,
    "start_time": "2023-07-26T19:25:04.606Z"
   },
   {
    "duration": 7,
    "start_time": "2023-07-26T19:25:04.635Z"
   },
   {
    "duration": 41,
    "start_time": "2023-07-26T19:25:04.670Z"
   },
   {
    "duration": 8,
    "start_time": "2023-07-26T19:25:04.714Z"
   },
   {
    "duration": 152,
    "start_time": "2023-07-26T19:25:04.724Z"
   },
   {
    "duration": 93,
    "start_time": "2023-07-26T19:25:04.881Z"
   },
   {
    "duration": 11,
    "start_time": "2023-07-26T19:25:04.975Z"
   },
   {
    "duration": 8,
    "start_time": "2023-07-26T19:25:04.988Z"
   },
   {
    "duration": 32,
    "start_time": "2023-07-26T19:25:04.998Z"
   },
   {
    "duration": 42,
    "start_time": "2023-07-26T19:25:05.033Z"
   },
   {
    "duration": 100,
    "start_time": "2023-07-26T19:25:05.077Z"
   },
   {
    "duration": 17,
    "start_time": "2023-07-26T19:25:05.179Z"
   },
   {
    "duration": 32,
    "start_time": "2023-07-26T19:25:05.199Z"
   },
   {
    "duration": 6,
    "start_time": "2023-07-26T19:25:05.234Z"
   },
   {
    "duration": 111,
    "start_time": "2023-07-26T19:25:05.272Z"
   },
   {
    "duration": 14,
    "start_time": "2023-07-26T19:25:05.385Z"
   },
   {
    "duration": 24,
    "start_time": "2023-07-26T19:25:05.401Z"
   },
   {
    "duration": 31,
    "start_time": "2023-07-26T19:25:05.427Z"
   },
   {
    "duration": 15,
    "start_time": "2023-07-26T19:25:05.460Z"
   },
   {
    "duration": 17,
    "start_time": "2023-07-26T19:25:05.477Z"
   },
   {
    "duration": 18,
    "start_time": "2023-07-26T19:25:05.496Z"
   },
   {
    "duration": 22,
    "start_time": "2023-07-26T19:25:05.515Z"
   },
   {
    "duration": 7,
    "start_time": "2023-07-26T19:25:05.539Z"
   },
   {
    "duration": 21,
    "start_time": "2023-07-26T19:25:05.547Z"
   },
   {
    "duration": 7,
    "start_time": "2023-07-26T19:25:05.572Z"
   },
   {
    "duration": 37,
    "start_time": "2023-07-26T19:25:05.581Z"
   },
   {
    "duration": 99,
    "start_time": "2023-07-26T19:25:05.619Z"
   },
   {
    "duration": 22,
    "start_time": "2023-07-26T19:25:05.720Z"
   },
   {
    "duration": 22,
    "start_time": "2023-07-26T19:25:05.744Z"
   },
   {
    "duration": 5,
    "start_time": "2023-07-26T19:25:05.768Z"
   },
   {
    "duration": 7,
    "start_time": "2023-07-26T19:25:05.774Z"
   },
   {
    "duration": 8,
    "start_time": "2023-07-26T19:25:05.783Z"
   },
   {
    "duration": 37,
    "start_time": "2023-07-26T19:25:05.793Z"
   },
   {
    "duration": 15,
    "start_time": "2023-07-26T19:25:05.832Z"
   },
   {
    "duration": 24,
    "start_time": "2023-07-26T19:25:05.849Z"
   },
   {
    "duration": 5,
    "start_time": "2023-07-26T19:25:05.875Z"
   },
   {
    "duration": 24,
    "start_time": "2023-07-26T19:25:05.882Z"
   },
   {
    "duration": 2140,
    "start_time": "2023-07-26T19:25:05.908Z"
   },
   {
    "duration": 1897,
    "start_time": "2023-07-26T19:25:08.050Z"
   },
   {
    "duration": 2002,
    "start_time": "2023-07-26T19:25:09.949Z"
   },
   {
    "duration": 22,
    "start_time": "2023-07-26T19:25:11.954Z"
   },
   {
    "duration": 142,
    "start_time": "2023-07-26T19:25:11.978Z"
   },
   {
    "duration": 112,
    "start_time": "2023-07-26T19:25:12.122Z"
   },
   {
    "duration": 9,
    "start_time": "2023-07-26T19:25:12.236Z"
   },
   {
    "duration": 11,
    "start_time": "2023-07-26T19:25:12.247Z"
   },
   {
    "duration": 11,
    "start_time": "2023-07-26T19:25:12.271Z"
   },
   {
    "duration": 6,
    "start_time": "2023-07-26T19:25:12.283Z"
   },
   {
    "duration": 23,
    "start_time": "2023-07-26T19:25:12.291Z"
   },
   {
    "duration": 8,
    "start_time": "2023-07-26T19:25:12.317Z"
   },
   {
    "duration": 11,
    "start_time": "2023-07-26T19:25:12.327Z"
   },
   {
    "duration": 1150,
    "start_time": "2023-07-26T19:25:12.339Z"
   },
   {
    "duration": 1166,
    "start_time": "2023-07-26T19:25:13.491Z"
   },
   {
    "duration": 1076,
    "start_time": "2023-07-26T19:25:14.660Z"
   },
   {
    "duration": 304,
    "start_time": "2023-07-26T19:25:15.739Z"
   },
   {
    "duration": 201,
    "start_time": "2023-07-26T19:25:16.045Z"
   },
   {
    "duration": 186,
    "start_time": "2023-07-26T19:25:16.248Z"
   },
   {
    "duration": 158,
    "start_time": "2023-07-26T19:28:56.298Z"
   },
   {
    "duration": 12,
    "start_time": "2023-07-26T19:30:22.942Z"
   },
   {
    "duration": 9,
    "start_time": "2023-07-26T19:32:56.172Z"
   },
   {
    "duration": 4,
    "start_time": "2023-07-26T19:33:41.865Z"
   },
   {
    "duration": 17,
    "start_time": "2023-07-26T19:33:43.388Z"
   },
   {
    "duration": 44,
    "start_time": "2023-07-26T19:33:44.818Z"
   },
   {
    "duration": 1515,
    "start_time": "2023-07-26T19:33:59.287Z"
   },
   {
    "duration": 445,
    "start_time": "2023-07-26T19:34:00.805Z"
   },
   {
    "duration": 14,
    "start_time": "2023-07-26T19:34:01.251Z"
   },
   {
    "duration": 68,
    "start_time": "2023-07-26T19:34:01.270Z"
   },
   {
    "duration": 92,
    "start_time": "2023-07-26T19:34:01.340Z"
   },
   {
    "duration": 56,
    "start_time": "2023-07-26T19:34:01.434Z"
   },
   {
    "duration": 59,
    "start_time": "2023-07-26T19:34:01.493Z"
   },
   {
    "duration": 82,
    "start_time": "2023-07-26T19:34:01.554Z"
   },
   {
    "duration": 67,
    "start_time": "2023-07-26T19:34:01.639Z"
   },
   {
    "duration": 37,
    "start_time": "2023-07-26T19:34:01.709Z"
   },
   {
    "duration": 63,
    "start_time": "2023-07-26T19:34:01.748Z"
   },
   {
    "duration": 58,
    "start_time": "2023-07-26T19:34:01.813Z"
   },
   {
    "duration": 76,
    "start_time": "2023-07-26T19:34:01.873Z"
   },
   {
    "duration": 7,
    "start_time": "2023-07-26T19:34:01.951Z"
   },
   {
    "duration": 109,
    "start_time": "2023-07-26T19:34:01.959Z"
   },
   {
    "duration": 63,
    "start_time": "2023-07-26T19:34:02.070Z"
   },
   {
    "duration": 85,
    "start_time": "2023-07-26T19:34:02.135Z"
   },
   {
    "duration": 29,
    "start_time": "2023-07-26T19:34:02.222Z"
   },
   {
    "duration": 104,
    "start_time": "2023-07-26T19:34:02.253Z"
   },
   {
    "duration": 75,
    "start_time": "2023-07-26T19:34:02.359Z"
   },
   {
    "duration": 134,
    "start_time": "2023-07-26T19:34:02.436Z"
   },
   {
    "duration": 116,
    "start_time": "2023-07-26T19:34:02.573Z"
   },
   {
    "duration": 79,
    "start_time": "2023-07-26T19:34:02.691Z"
   },
   {
    "duration": 52,
    "start_time": "2023-07-26T19:34:02.773Z"
   },
   {
    "duration": 27,
    "start_time": "2023-07-26T19:34:02.828Z"
   },
   {
    "duration": 29,
    "start_time": "2023-07-26T19:34:02.857Z"
   },
   {
    "duration": 51,
    "start_time": "2023-07-26T19:34:02.888Z"
   },
   {
    "duration": 56,
    "start_time": "2023-07-26T19:34:02.944Z"
   },
   {
    "duration": 37,
    "start_time": "2023-07-26T19:34:03.002Z"
   },
   {
    "duration": 98,
    "start_time": "2023-07-26T19:34:03.041Z"
   },
   {
    "duration": 19,
    "start_time": "2023-07-26T19:34:03.141Z"
   },
   {
    "duration": 50,
    "start_time": "2023-07-26T19:34:03.162Z"
   },
   {
    "duration": 1045,
    "start_time": "2023-07-26T19:34:03.214Z"
   },
   {
    "duration": 912,
    "start_time": "2023-07-26T19:34:04.261Z"
   },
   {
    "duration": 921,
    "start_time": "2023-07-26T19:34:05.175Z"
   },
   {
    "duration": 346,
    "start_time": "2023-07-26T19:34:06.099Z"
   },
   {
    "duration": 367,
    "start_time": "2023-07-26T19:34:06.448Z"
   },
   {
    "duration": 408,
    "start_time": "2023-07-26T19:34:06.818Z"
   },
   {
    "duration": 297,
    "start_time": "2023-07-26T19:34:07.229Z"
   },
   {
    "duration": 28,
    "start_time": "2023-07-26T19:34:07.528Z"
   },
   {
    "duration": 14,
    "start_time": "2023-07-26T19:34:07.560Z"
   },
   {
    "duration": 44,
    "start_time": "2023-07-26T19:34:07.579Z"
   },
   {
    "duration": 8,
    "start_time": "2023-07-26T19:34:07.625Z"
   },
   {
    "duration": 45,
    "start_time": "2023-07-26T19:34:07.635Z"
   },
   {
    "duration": 19,
    "start_time": "2023-07-26T19:34:07.682Z"
   },
   {
    "duration": 168,
    "start_time": "2023-07-26T19:34:07.704Z"
   },
   {
    "duration": 6,
    "start_time": "2023-07-26T19:34:07.874Z"
   },
   {
    "duration": 24,
    "start_time": "2023-07-26T19:34:07.882Z"
   },
   {
    "duration": 10,
    "start_time": "2023-07-26T19:34:07.908Z"
   },
   {
    "duration": 66,
    "start_time": "2023-07-26T19:34:07.920Z"
   },
   {
    "duration": 7,
    "start_time": "2023-07-26T19:34:07.989Z"
   },
   {
    "duration": 77,
    "start_time": "2023-07-26T19:34:07.998Z"
   },
   {
    "duration": 38,
    "start_time": "2023-07-26T19:34:08.077Z"
   },
   {
    "duration": 69,
    "start_time": "2023-07-26T19:34:08.118Z"
   },
   {
    "duration": 6,
    "start_time": "2023-07-26T19:34:08.189Z"
   },
   {
    "duration": 23,
    "start_time": "2023-07-26T19:34:08.271Z"
   },
   {
    "duration": 16,
    "start_time": "2023-07-26T19:34:08.295Z"
   },
   {
    "duration": 16,
    "start_time": "2023-07-26T19:34:08.314Z"
   },
   {
    "duration": 12,
    "start_time": "2023-07-26T19:34:08.332Z"
   },
   {
    "duration": 36,
    "start_time": "2023-07-26T19:34:08.346Z"
   },
   {
    "duration": 36,
    "start_time": "2023-07-26T19:34:08.384Z"
   },
   {
    "duration": 12,
    "start_time": "2023-07-26T19:34:08.422Z"
   },
   {
    "duration": 46,
    "start_time": "2023-07-26T19:34:08.436Z"
   },
   {
    "duration": 19,
    "start_time": "2023-07-26T19:34:08.484Z"
   },
   {
    "duration": 17,
    "start_time": "2023-07-26T19:34:08.505Z"
   },
   {
    "duration": 7,
    "start_time": "2023-07-26T19:34:08.524Z"
   },
   {
    "duration": 42,
    "start_time": "2023-07-26T19:34:08.533Z"
   },
   {
    "duration": 21,
    "start_time": "2023-07-26T19:34:08.577Z"
   },
   {
    "duration": 27,
    "start_time": "2023-07-26T19:34:08.600Z"
   },
   {
    "duration": 18,
    "start_time": "2023-07-26T19:34:08.629Z"
   },
   {
    "duration": 5,
    "start_time": "2023-07-26T19:34:08.650Z"
   },
   {
    "duration": 8,
    "start_time": "2023-07-26T19:34:08.656Z"
   },
   {
    "duration": 25,
    "start_time": "2023-07-26T19:34:08.666Z"
   },
   {
    "duration": 12,
    "start_time": "2023-07-26T19:34:08.693Z"
   },
   {
    "duration": 10,
    "start_time": "2023-07-26T19:34:08.707Z"
   },
   {
    "duration": 8,
    "start_time": "2023-07-26T19:34:08.719Z"
   },
   {
    "duration": 4,
    "start_time": "2023-07-26T19:34:08.729Z"
   },
   {
    "duration": 20,
    "start_time": "2023-07-26T19:34:08.735Z"
   },
   {
    "duration": 2102,
    "start_time": "2023-07-26T19:34:08.757Z"
   },
   {
    "duration": 2032,
    "start_time": "2023-07-26T19:34:10.861Z"
   },
   {
    "duration": 2082,
    "start_time": "2023-07-26T19:34:12.896Z"
   },
   {
    "duration": 15,
    "start_time": "2023-07-26T19:34:14.987Z"
   },
   {
    "duration": 214,
    "start_time": "2023-07-26T19:34:15.004Z"
   },
   {
    "duration": 109,
    "start_time": "2023-07-26T19:34:15.220Z"
   },
   {
    "duration": 9,
    "start_time": "2023-07-26T19:34:15.331Z"
   },
   {
    "duration": 19,
    "start_time": "2023-07-26T19:34:15.342Z"
   },
   {
    "duration": 45,
    "start_time": "2023-07-26T19:34:15.363Z"
   },
   {
    "duration": 20,
    "start_time": "2023-07-26T19:34:15.410Z"
   },
   {
    "duration": 22,
    "start_time": "2023-07-26T19:34:15.431Z"
   },
   {
    "duration": 38,
    "start_time": "2023-07-26T19:34:15.455Z"
   },
   {
    "duration": 29,
    "start_time": "2023-07-26T19:34:15.496Z"
   },
   {
    "duration": 228,
    "start_time": "2023-07-26T19:34:15.527Z"
   },
   {
    "duration": 0,
    "start_time": "2023-07-26T19:34:15.756Z"
   },
   {
    "duration": 0,
    "start_time": "2023-07-26T19:34:15.758Z"
   },
   {
    "duration": 0,
    "start_time": "2023-07-26T19:34:15.759Z"
   },
   {
    "duration": 0,
    "start_time": "2023-07-26T19:34:15.761Z"
   },
   {
    "duration": 0,
    "start_time": "2023-07-26T19:34:15.770Z"
   },
   {
    "duration": 11,
    "start_time": "2023-07-26T19:36:49.121Z"
   },
   {
    "duration": 15,
    "start_time": "2023-07-26T19:36:50.557Z"
   },
   {
    "duration": 1600,
    "start_time": "2023-07-26T19:37:54.835Z"
   },
   {
    "duration": 443,
    "start_time": "2023-07-26T19:37:56.438Z"
   },
   {
    "duration": 13,
    "start_time": "2023-07-26T19:37:56.883Z"
   },
   {
    "duration": 63,
    "start_time": "2023-07-26T19:37:56.898Z"
   },
   {
    "duration": 76,
    "start_time": "2023-07-26T19:37:56.963Z"
   },
   {
    "duration": 4,
    "start_time": "2023-07-26T19:37:57.041Z"
   },
   {
    "duration": 53,
    "start_time": "2023-07-26T19:37:57.046Z"
   },
   {
    "duration": 72,
    "start_time": "2023-07-26T19:37:57.101Z"
   },
   {
    "duration": 74,
    "start_time": "2023-07-26T19:37:57.176Z"
   },
   {
    "duration": 27,
    "start_time": "2023-07-26T19:37:57.253Z"
   },
   {
    "duration": 44,
    "start_time": "2023-07-26T19:37:57.282Z"
   },
   {
    "duration": 59,
    "start_time": "2023-07-26T19:37:57.328Z"
   },
   {
    "duration": 68,
    "start_time": "2023-07-26T19:37:57.389Z"
   },
   {
    "duration": 4,
    "start_time": "2023-07-26T19:37:57.459Z"
   },
   {
    "duration": 91,
    "start_time": "2023-07-26T19:37:57.465Z"
   },
   {
    "duration": 44,
    "start_time": "2023-07-26T19:37:57.558Z"
   },
   {
    "duration": 59,
    "start_time": "2023-07-26T19:37:57.603Z"
   },
   {
    "duration": 24,
    "start_time": "2023-07-26T19:37:57.664Z"
   },
   {
    "duration": 85,
    "start_time": "2023-07-26T19:37:57.690Z"
   },
   {
    "duration": 46,
    "start_time": "2023-07-26T19:37:57.777Z"
   },
   {
    "duration": 73,
    "start_time": "2023-07-26T19:37:57.825Z"
   },
   {
    "duration": 27,
    "start_time": "2023-07-26T19:37:57.899Z"
   },
   {
    "duration": 71,
    "start_time": "2023-07-26T19:37:57.928Z"
   },
   {
    "duration": 11,
    "start_time": "2023-07-26T19:37:58.001Z"
   },
   {
    "duration": 26,
    "start_time": "2023-07-26T19:37:58.014Z"
   },
   {
    "duration": 27,
    "start_time": "2023-07-26T19:37:58.042Z"
   },
   {
    "duration": 16,
    "start_time": "2023-07-26T19:37:58.070Z"
   },
   {
    "duration": 10,
    "start_time": "2023-07-26T19:37:58.091Z"
   },
   {
    "duration": 38,
    "start_time": "2023-07-26T19:37:58.103Z"
   },
   {
    "duration": 99,
    "start_time": "2023-07-26T19:37:58.143Z"
   },
   {
    "duration": 20,
    "start_time": "2023-07-26T19:37:58.243Z"
   },
   {
    "duration": 32,
    "start_time": "2023-07-26T19:37:58.271Z"
   },
   {
    "duration": 948,
    "start_time": "2023-07-26T19:37:58.305Z"
   },
   {
    "duration": 795,
    "start_time": "2023-07-26T19:37:59.255Z"
   },
   {
    "duration": 826,
    "start_time": "2023-07-26T19:38:00.052Z"
   },
   {
    "duration": 285,
    "start_time": "2023-07-26T19:38:00.880Z"
   },
   {
    "duration": 258,
    "start_time": "2023-07-26T19:38:01.171Z"
   },
   {
    "duration": 364,
    "start_time": "2023-07-26T19:38:01.431Z"
   },
   {
    "duration": 278,
    "start_time": "2023-07-26T19:38:01.797Z"
   },
   {
    "duration": 22,
    "start_time": "2023-07-26T19:38:02.077Z"
   },
   {
    "duration": 53,
    "start_time": "2023-07-26T19:38:02.101Z"
   },
   {
    "duration": 92,
    "start_time": "2023-07-26T19:38:02.156Z"
   },
   {
    "duration": 28,
    "start_time": "2023-07-26T19:38:02.250Z"
   },
   {
    "duration": 82,
    "start_time": "2023-07-26T19:38:02.280Z"
   },
   {
    "duration": 12,
    "start_time": "2023-07-26T19:38:02.364Z"
   },
   {
    "duration": 36,
    "start_time": "2023-07-26T19:38:02.378Z"
   },
   {
    "duration": 105,
    "start_time": "2023-07-26T19:38:02.472Z"
   },
   {
    "duration": 26,
    "start_time": "2023-07-26T19:38:02.579Z"
   },
   {
    "duration": 75,
    "start_time": "2023-07-26T19:38:02.607Z"
   },
   {
    "duration": 49,
    "start_time": "2023-07-26T19:38:02.683Z"
   },
   {
    "duration": 42,
    "start_time": "2023-07-26T19:38:02.734Z"
   },
   {
    "duration": 120,
    "start_time": "2023-07-26T19:38:02.779Z"
   },
   {
    "duration": 30,
    "start_time": "2023-07-26T19:38:02.901Z"
   },
   {
    "duration": 39,
    "start_time": "2023-07-26T19:38:02.932Z"
   },
   {
    "duration": 101,
    "start_time": "2023-07-26T19:38:02.974Z"
   },
   {
    "duration": 132,
    "start_time": "2023-07-26T19:38:03.078Z"
   },
   {
    "duration": 24,
    "start_time": "2023-07-26T19:38:03.212Z"
   },
   {
    "duration": 30,
    "start_time": "2023-07-26T19:38:03.238Z"
   },
   {
    "duration": 33,
    "start_time": "2023-07-26T19:38:03.270Z"
   },
   {
    "duration": 48,
    "start_time": "2023-07-26T19:38:03.305Z"
   },
   {
    "duration": 29,
    "start_time": "2023-07-26T19:38:03.355Z"
   },
   {
    "duration": 53,
    "start_time": "2023-07-26T19:38:03.386Z"
   },
   {
    "duration": 34,
    "start_time": "2023-07-26T19:38:03.441Z"
   },
   {
    "duration": 8,
    "start_time": "2023-07-26T19:38:03.477Z"
   },
   {
    "duration": 119,
    "start_time": "2023-07-26T19:38:03.487Z"
   },
   {
    "duration": 122,
    "start_time": "2023-07-26T19:38:03.608Z"
   },
   {
    "duration": 99,
    "start_time": "2023-07-26T19:38:03.732Z"
   },
   {
    "duration": 22,
    "start_time": "2023-07-26T19:38:03.832Z"
   },
   {
    "duration": 29,
    "start_time": "2023-07-26T19:38:03.856Z"
   },
   {
    "duration": 19,
    "start_time": "2023-07-26T19:38:03.887Z"
   },
   {
    "duration": 24,
    "start_time": "2023-07-26T19:38:03.907Z"
   },
   {
    "duration": 53,
    "start_time": "2023-07-26T19:38:03.933Z"
   },
   {
    "duration": 19,
    "start_time": "2023-07-26T19:38:03.987Z"
   },
   {
    "duration": 39,
    "start_time": "2023-07-26T19:38:04.008Z"
   },
   {
    "duration": 31,
    "start_time": "2023-07-26T19:38:04.049Z"
   },
   {
    "duration": 17,
    "start_time": "2023-07-26T19:38:04.082Z"
   },
   {
    "duration": 28,
    "start_time": "2023-07-26T19:38:04.101Z"
   },
   {
    "duration": 28,
    "start_time": "2023-07-26T19:38:04.131Z"
   },
   {
    "duration": 1901,
    "start_time": "2023-07-26T19:38:04.161Z"
   },
   {
    "duration": 1979,
    "start_time": "2023-07-26T19:38:06.070Z"
   },
   {
    "duration": 1980,
    "start_time": "2023-07-26T19:38:08.052Z"
   },
   {
    "duration": 13,
    "start_time": "2023-07-26T19:38:10.039Z"
   },
   {
    "duration": 159,
    "start_time": "2023-07-26T19:38:10.072Z"
   },
   {
    "duration": 302,
    "start_time": "2023-07-26T19:38:10.234Z"
   },
   {
    "duration": 11,
    "start_time": "2023-07-26T19:38:10.538Z"
   },
   {
    "duration": 42,
    "start_time": "2023-07-26T19:38:10.551Z"
   },
   {
    "duration": 149,
    "start_time": "2023-07-26T19:38:10.595Z"
   },
   {
    "duration": 0,
    "start_time": "2023-07-26T19:38:10.745Z"
   },
   {
    "duration": 0,
    "start_time": "2023-07-26T19:38:10.747Z"
   },
   {
    "duration": 0,
    "start_time": "2023-07-26T19:38:10.748Z"
   },
   {
    "duration": 0,
    "start_time": "2023-07-26T19:38:10.749Z"
   },
   {
    "duration": 0,
    "start_time": "2023-07-26T19:38:10.750Z"
   },
   {
    "duration": 0,
    "start_time": "2023-07-26T19:38:10.751Z"
   },
   {
    "duration": 0,
    "start_time": "2023-07-26T19:38:10.752Z"
   },
   {
    "duration": 0,
    "start_time": "2023-07-26T19:38:10.753Z"
   },
   {
    "duration": 0,
    "start_time": "2023-07-26T19:38:10.754Z"
   },
   {
    "duration": 0,
    "start_time": "2023-07-26T19:38:10.772Z"
   },
   {
    "duration": 6,
    "start_time": "2023-07-26T19:39:45.946Z"
   },
   {
    "duration": 24,
    "start_time": "2023-07-26T19:39:47.117Z"
   },
   {
    "duration": 6,
    "start_time": "2023-07-26T19:40:50.154Z"
   },
   {
    "duration": 13,
    "start_time": "2023-07-26T19:40:50.692Z"
   },
   {
    "duration": 5,
    "start_time": "2023-07-26T19:40:55.684Z"
   },
   {
    "duration": 15,
    "start_time": "2023-07-26T19:41:00.206Z"
   },
   {
    "duration": 6,
    "start_time": "2023-07-26T19:41:01.268Z"
   },
   {
    "duration": 18,
    "start_time": "2023-07-26T19:41:02.482Z"
   },
   {
    "duration": 23,
    "start_time": "2023-07-26T19:41:03.969Z"
   },
   {
    "duration": 17,
    "start_time": "2023-07-26T19:41:58.637Z"
   },
   {
    "duration": 6,
    "start_time": "2023-07-26T19:42:02.557Z"
   },
   {
    "duration": 16,
    "start_time": "2023-07-26T19:42:03.021Z"
   },
   {
    "duration": 14,
    "start_time": "2023-07-26T19:42:31.884Z"
   },
   {
    "duration": 5,
    "start_time": "2023-07-26T19:42:38.648Z"
   },
   {
    "duration": 18,
    "start_time": "2023-07-26T19:42:39.202Z"
   },
   {
    "duration": 5,
    "start_time": "2023-07-26T19:42:49.737Z"
   },
   {
    "duration": 23,
    "start_time": "2023-07-26T19:42:50.300Z"
   },
   {
    "duration": 8,
    "start_time": "2023-07-26T19:43:01.785Z"
   },
   {
    "duration": 4,
    "start_time": "2023-07-26T19:43:27.284Z"
   },
   {
    "duration": 8,
    "start_time": "2023-07-26T19:43:27.714Z"
   },
   {
    "duration": 8,
    "start_time": "2023-07-26T19:43:28.404Z"
   },
   {
    "duration": 9,
    "start_time": "2023-07-26T19:43:29.240Z"
   },
   {
    "duration": 4,
    "start_time": "2023-07-26T19:43:42.894Z"
   },
   {
    "duration": 11,
    "start_time": "2023-07-26T19:43:53.546Z"
   },
   {
    "duration": 17,
    "start_time": "2023-07-26T19:43:55.185Z"
   },
   {
    "duration": 2377,
    "start_time": "2023-07-26T19:44:02.406Z"
   },
   {
    "duration": 7,
    "start_time": "2023-07-26T19:45:52.478Z"
   },
   {
    "duration": 23,
    "start_time": "2023-07-26T19:45:53.782Z"
   },
   {
    "duration": 5,
    "start_time": "2023-07-26T19:46:01.790Z"
   },
   {
    "duration": 12,
    "start_time": "2023-07-26T19:46:02.232Z"
   },
   {
    "duration": 21,
    "start_time": "2023-07-26T19:46:03.268Z"
   },
   {
    "duration": 4,
    "start_time": "2023-07-26T19:46:57.178Z"
   },
   {
    "duration": 10,
    "start_time": "2023-07-26T19:46:57.710Z"
   },
   {
    "duration": 18,
    "start_time": "2023-07-26T19:46:59.932Z"
   },
   {
    "duration": 1602,
    "start_time": "2023-07-26T19:48:35.094Z"
   },
   {
    "duration": 410,
    "start_time": "2023-07-26T19:48:36.698Z"
   },
   {
    "duration": 13,
    "start_time": "2023-07-26T19:48:37.110Z"
   },
   {
    "duration": 20,
    "start_time": "2023-07-26T19:48:37.124Z"
   },
   {
    "duration": 53,
    "start_time": "2023-07-26T19:48:37.146Z"
   },
   {
    "duration": 4,
    "start_time": "2023-07-26T19:48:37.201Z"
   },
   {
    "duration": 11,
    "start_time": "2023-07-26T19:48:37.207Z"
   },
   {
    "duration": 26,
    "start_time": "2023-07-26T19:48:37.219Z"
   },
   {
    "duration": 60,
    "start_time": "2023-07-26T19:48:37.247Z"
   },
   {
    "duration": 4,
    "start_time": "2023-07-26T19:48:37.311Z"
   },
   {
    "duration": 17,
    "start_time": "2023-07-26T19:48:37.317Z"
   },
   {
    "duration": 39,
    "start_time": "2023-07-26T19:48:37.336Z"
   },
   {
    "duration": 38,
    "start_time": "2023-07-26T19:48:37.377Z"
   },
   {
    "duration": 4,
    "start_time": "2023-07-26T19:48:37.417Z"
   },
   {
    "duration": 73,
    "start_time": "2023-07-26T19:48:37.423Z"
   },
   {
    "duration": 48,
    "start_time": "2023-07-26T19:48:37.498Z"
   },
   {
    "duration": 64,
    "start_time": "2023-07-26T19:48:37.547Z"
   },
   {
    "duration": 23,
    "start_time": "2023-07-26T19:48:37.613Z"
   },
   {
    "duration": 87,
    "start_time": "2023-07-26T19:48:37.639Z"
   },
   {
    "duration": 32,
    "start_time": "2023-07-26T19:48:37.728Z"
   },
   {
    "duration": 64,
    "start_time": "2023-07-26T19:48:37.762Z"
   },
   {
    "duration": 16,
    "start_time": "2023-07-26T19:48:37.828Z"
   },
   {
    "duration": 67,
    "start_time": "2023-07-26T19:48:37.845Z"
   },
   {
    "duration": 17,
    "start_time": "2023-07-26T19:48:37.914Z"
   },
   {
    "duration": 54,
    "start_time": "2023-07-26T19:48:37.932Z"
   },
   {
    "duration": 9,
    "start_time": "2023-07-26T19:48:37.988Z"
   },
   {
    "duration": 30,
    "start_time": "2023-07-26T19:48:37.999Z"
   },
   {
    "duration": 11,
    "start_time": "2023-07-26T19:48:38.033Z"
   },
   {
    "duration": 17,
    "start_time": "2023-07-26T19:48:38.045Z"
   },
   {
    "duration": 65,
    "start_time": "2023-07-26T19:48:38.064Z"
   },
   {
    "duration": 20,
    "start_time": "2023-07-26T19:48:38.131Z"
   },
   {
    "duration": 35,
    "start_time": "2023-07-26T19:48:38.152Z"
   },
   {
    "duration": 982,
    "start_time": "2023-07-26T19:48:38.189Z"
   },
   {
    "duration": 902,
    "start_time": "2023-07-26T19:48:39.173Z"
   },
   {
    "duration": 823,
    "start_time": "2023-07-26T19:48:40.078Z"
   },
   {
    "duration": 308,
    "start_time": "2023-07-26T19:48:40.903Z"
   },
   {
    "duration": 279,
    "start_time": "2023-07-26T19:48:41.213Z"
   },
   {
    "duration": 379,
    "start_time": "2023-07-26T19:48:41.494Z"
   },
   {
    "duration": 261,
    "start_time": "2023-07-26T19:48:41.874Z"
   },
   {
    "duration": 34,
    "start_time": "2023-07-26T19:48:42.138Z"
   },
   {
    "duration": 8,
    "start_time": "2023-07-26T19:48:42.174Z"
   },
   {
    "duration": 36,
    "start_time": "2023-07-26T19:48:42.184Z"
   },
   {
    "duration": 7,
    "start_time": "2023-07-26T19:48:42.222Z"
   },
   {
    "duration": 53,
    "start_time": "2023-07-26T19:48:42.231Z"
   },
   {
    "duration": 9,
    "start_time": "2023-07-26T19:48:42.286Z"
   },
   {
    "duration": 76,
    "start_time": "2023-07-26T19:48:42.297Z"
   },
   {
    "duration": 118,
    "start_time": "2023-07-26T19:48:42.375Z"
   },
   {
    "duration": 20,
    "start_time": "2023-07-26T19:48:42.495Z"
   },
   {
    "duration": 15,
    "start_time": "2023-07-26T19:48:42.517Z"
   },
   {
    "duration": 23,
    "start_time": "2023-07-26T19:48:42.534Z"
   },
   {
    "duration": 20,
    "start_time": "2023-07-26T19:48:42.560Z"
   },
   {
    "duration": 189,
    "start_time": "2023-07-26T19:48:42.584Z"
   },
   {
    "duration": 9,
    "start_time": "2023-07-26T19:48:42.776Z"
   },
   {
    "duration": 32,
    "start_time": "2023-07-26T19:48:42.787Z"
   },
   {
    "duration": 60,
    "start_time": "2023-07-26T19:48:42.822Z"
   },
   {
    "duration": 8,
    "start_time": "2023-07-26T19:48:42.971Z"
   },
   {
    "duration": 10,
    "start_time": "2023-07-26T19:48:42.981Z"
   },
   {
    "duration": 35,
    "start_time": "2023-07-26T19:48:42.993Z"
   },
   {
    "duration": 18,
    "start_time": "2023-07-26T19:48:43.030Z"
   },
   {
    "duration": 30,
    "start_time": "2023-07-26T19:48:43.050Z"
   },
   {
    "duration": 16,
    "start_time": "2023-07-26T19:48:43.082Z"
   },
   {
    "duration": 41,
    "start_time": "2023-07-26T19:48:43.100Z"
   },
   {
    "duration": 27,
    "start_time": "2023-07-26T19:48:43.143Z"
   },
   {
    "duration": 8,
    "start_time": "2023-07-26T19:48:43.172Z"
   },
   {
    "duration": 21,
    "start_time": "2023-07-26T19:48:43.182Z"
   },
   {
    "duration": 3,
    "start_time": "2023-07-26T19:48:43.205Z"
   },
   {
    "duration": 28,
    "start_time": "2023-07-26T19:48:43.211Z"
   },
   {
    "duration": 14,
    "start_time": "2023-07-26T19:48:43.241Z"
   },
   {
    "duration": 19,
    "start_time": "2023-07-26T19:48:43.257Z"
   },
   {
    "duration": 20,
    "start_time": "2023-07-26T19:48:43.278Z"
   },
   {
    "duration": 23,
    "start_time": "2023-07-26T19:48:43.300Z"
   },
   {
    "duration": 46,
    "start_time": "2023-07-26T19:48:43.325Z"
   },
   {
    "duration": 20,
    "start_time": "2023-07-26T19:48:43.373Z"
   },
   {
    "duration": 15,
    "start_time": "2023-07-26T19:48:43.395Z"
   },
   {
    "duration": 22,
    "start_time": "2023-07-26T19:48:43.412Z"
   },
   {
    "duration": 10,
    "start_time": "2023-07-26T19:48:43.436Z"
   },
   {
    "duration": 4,
    "start_time": "2023-07-26T19:48:43.448Z"
   },
   {
    "duration": 11,
    "start_time": "2023-07-26T19:48:43.455Z"
   },
   {
    "duration": 1885,
    "start_time": "2023-07-26T19:48:43.468Z"
   },
   {
    "duration": 2003,
    "start_time": "2023-07-26T19:48:45.355Z"
   },
   {
    "duration": 2026,
    "start_time": "2023-07-26T19:48:47.361Z"
   },
   {
    "duration": 12,
    "start_time": "2023-07-26T19:48:49.392Z"
   },
   {
    "duration": 148,
    "start_time": "2023-07-26T19:48:49.405Z"
   },
   {
    "duration": 101,
    "start_time": "2023-07-26T19:48:49.554Z"
   },
   {
    "duration": 20,
    "start_time": "2023-07-26T19:48:49.657Z"
   },
   {
    "duration": 5,
    "start_time": "2023-07-26T19:48:49.680Z"
   },
   {
    "duration": 13,
    "start_time": "2023-07-26T19:48:49.687Z"
   },
   {
    "duration": 9,
    "start_time": "2023-07-26T19:48:49.702Z"
   },
   {
    "duration": 13,
    "start_time": "2023-07-26T19:48:49.712Z"
   },
   {
    "duration": 18,
    "start_time": "2023-07-26T19:48:49.727Z"
   },
   {
    "duration": 8,
    "start_time": "2023-07-26T19:48:49.747Z"
   },
   {
    "duration": 2097,
    "start_time": "2023-07-26T19:48:49.757Z"
   },
   {
    "duration": 0,
    "start_time": "2023-07-26T19:48:51.856Z"
   },
   {
    "duration": 0,
    "start_time": "2023-07-26T19:48:51.858Z"
   },
   {
    "duration": 0,
    "start_time": "2023-07-26T19:48:51.859Z"
   },
   {
    "duration": 0,
    "start_time": "2023-07-26T19:48:51.861Z"
   },
   {
    "duration": 0,
    "start_time": "2023-07-26T19:48:51.862Z"
   },
   {
    "duration": 8,
    "start_time": "2023-07-26T19:49:19.399Z"
   },
   {
    "duration": 24,
    "start_time": "2023-07-26T19:49:20.764Z"
   },
   {
    "duration": 11,
    "start_time": "2023-07-26T19:51:50.475Z"
   },
   {
    "duration": 1046,
    "start_time": "2023-07-26T19:51:51.740Z"
   },
   {
    "duration": 4,
    "start_time": "2023-07-26T19:54:05.708Z"
   },
   {
    "duration": 8,
    "start_time": "2023-07-26T19:54:06.584Z"
   },
   {
    "duration": 1141,
    "start_time": "2023-07-26T19:54:07.776Z"
   },
   {
    "duration": 16,
    "start_time": "2023-07-26T19:54:14.892Z"
   },
   {
    "duration": 15,
    "start_time": "2023-07-26T19:54:17.814Z"
   },
   {
    "duration": 1157,
    "start_time": "2023-07-26T19:54:29.008Z"
   },
   {
    "duration": 1139,
    "start_time": "2023-07-26T19:54:31.039Z"
   },
   {
    "duration": 1642,
    "start_time": "2023-07-26T19:54:51.463Z"
   },
   {
    "duration": 432,
    "start_time": "2023-07-26T19:54:53.108Z"
   },
   {
    "duration": 12,
    "start_time": "2023-07-26T19:54:53.542Z"
   },
   {
    "duration": 32,
    "start_time": "2023-07-26T19:54:53.556Z"
   },
   {
    "duration": 54,
    "start_time": "2023-07-26T19:54:53.590Z"
   },
   {
    "duration": 5,
    "start_time": "2023-07-26T19:54:53.645Z"
   },
   {
    "duration": 29,
    "start_time": "2023-07-26T19:54:53.652Z"
   },
   {
    "duration": 50,
    "start_time": "2023-07-26T19:54:53.683Z"
   },
   {
    "duration": 59,
    "start_time": "2023-07-26T19:54:53.735Z"
   },
   {
    "duration": 18,
    "start_time": "2023-07-26T19:54:53.797Z"
   },
   {
    "duration": 32,
    "start_time": "2023-07-26T19:54:53.816Z"
   },
   {
    "duration": 31,
    "start_time": "2023-07-26T19:54:53.850Z"
   },
   {
    "duration": 54,
    "start_time": "2023-07-26T19:54:53.883Z"
   },
   {
    "duration": 5,
    "start_time": "2023-07-26T19:54:53.939Z"
   },
   {
    "duration": 73,
    "start_time": "2023-07-26T19:54:53.946Z"
   },
   {
    "duration": 59,
    "start_time": "2023-07-26T19:54:54.021Z"
   },
   {
    "duration": 56,
    "start_time": "2023-07-26T19:54:54.084Z"
   },
   {
    "duration": 19,
    "start_time": "2023-07-26T19:54:54.142Z"
   },
   {
    "duration": 93,
    "start_time": "2023-07-26T19:54:54.172Z"
   },
   {
    "duration": 45,
    "start_time": "2023-07-26T19:54:54.267Z"
   },
   {
    "duration": 80,
    "start_time": "2023-07-26T19:54:54.315Z"
   },
   {
    "duration": 19,
    "start_time": "2023-07-26T19:54:54.397Z"
   },
   {
    "duration": 95,
    "start_time": "2023-07-26T19:54:54.418Z"
   },
   {
    "duration": 12,
    "start_time": "2023-07-26T19:54:54.515Z"
   },
   {
    "duration": 26,
    "start_time": "2023-07-26T19:54:54.529Z"
   },
   {
    "duration": 16,
    "start_time": "2023-07-26T19:54:54.557Z"
   },
   {
    "duration": 17,
    "start_time": "2023-07-26T19:54:54.576Z"
   },
   {
    "duration": 12,
    "start_time": "2023-07-26T19:54:54.598Z"
   },
   {
    "duration": 9,
    "start_time": "2023-07-26T19:54:54.611Z"
   },
   {
    "duration": 93,
    "start_time": "2023-07-26T19:54:54.622Z"
   },
   {
    "duration": 20,
    "start_time": "2023-07-26T19:54:54.717Z"
   },
   {
    "duration": 43,
    "start_time": "2023-07-26T19:54:54.739Z"
   },
   {
    "duration": 1242,
    "start_time": "2023-07-26T19:54:54.784Z"
   },
   {
    "duration": 951,
    "start_time": "2023-07-26T19:54:56.028Z"
   },
   {
    "duration": 885,
    "start_time": "2023-07-26T19:54:56.981Z"
   },
   {
    "duration": 292,
    "start_time": "2023-07-26T19:54:57.869Z"
   },
   {
    "duration": 299,
    "start_time": "2023-07-26T19:54:58.164Z"
   },
   {
    "duration": 426,
    "start_time": "2023-07-26T19:54:58.464Z"
   },
   {
    "duration": 265,
    "start_time": "2023-07-26T19:54:58.892Z"
   },
   {
    "duration": 37,
    "start_time": "2023-07-26T19:54:59.160Z"
   },
   {
    "duration": 6,
    "start_time": "2023-07-26T19:54:59.199Z"
   },
   {
    "duration": 30,
    "start_time": "2023-07-26T19:54:59.207Z"
   },
   {
    "duration": 7,
    "start_time": "2023-07-26T19:54:59.239Z"
   },
   {
    "duration": 52,
    "start_time": "2023-07-26T19:54:59.248Z"
   },
   {
    "duration": 6,
    "start_time": "2023-07-26T19:54:59.302Z"
   },
   {
    "duration": 67,
    "start_time": "2023-07-26T19:54:59.309Z"
   },
   {
    "duration": 8,
    "start_time": "2023-07-26T19:54:59.379Z"
   },
   {
    "duration": 123,
    "start_time": "2023-07-26T19:54:59.390Z"
   },
   {
    "duration": 78,
    "start_time": "2023-07-26T19:54:59.515Z"
   },
   {
    "duration": 25,
    "start_time": "2023-07-26T19:54:59.595Z"
   },
   {
    "duration": 108,
    "start_time": "2023-07-26T19:54:59.674Z"
   },
   {
    "duration": 9,
    "start_time": "2023-07-26T19:54:59.784Z"
   },
   {
    "duration": 10,
    "start_time": "2023-07-26T19:54:59.795Z"
   },
   {
    "duration": 14,
    "start_time": "2023-07-26T19:54:59.808Z"
   },
   {
    "duration": 72,
    "start_time": "2023-07-26T19:54:59.825Z"
   },
   {
    "duration": 18,
    "start_time": "2023-07-26T19:54:59.972Z"
   },
   {
    "duration": 25,
    "start_time": "2023-07-26T19:54:59.993Z"
   },
   {
    "duration": 135,
    "start_time": "2023-07-26T19:55:00.020Z"
   },
   {
    "duration": 60,
    "start_time": "2023-07-26T19:55:00.158Z"
   },
   {
    "duration": 27,
    "start_time": "2023-07-26T19:55:00.220Z"
   },
   {
    "duration": 75,
    "start_time": "2023-07-26T19:55:00.250Z"
   },
   {
    "duration": 99,
    "start_time": "2023-07-26T19:55:00.327Z"
   },
   {
    "duration": 84,
    "start_time": "2023-07-26T19:55:00.428Z"
   },
   {
    "duration": 37,
    "start_time": "2023-07-26T19:55:00.515Z"
   },
   {
    "duration": 65,
    "start_time": "2023-07-26T19:55:00.554Z"
   },
   {
    "duration": 28,
    "start_time": "2023-07-26T19:55:00.620Z"
   },
   {
    "duration": 48,
    "start_time": "2023-07-26T19:55:00.650Z"
   },
   {
    "duration": 51,
    "start_time": "2023-07-26T19:55:00.700Z"
   },
   {
    "duration": 58,
    "start_time": "2023-07-26T19:55:00.753Z"
   },
   {
    "duration": 50,
    "start_time": "2023-07-26T19:55:00.813Z"
   },
   {
    "duration": 50,
    "start_time": "2023-07-26T19:55:00.865Z"
   },
   {
    "duration": 80,
    "start_time": "2023-07-26T19:55:00.917Z"
   },
   {
    "duration": 52,
    "start_time": "2023-07-26T19:55:01.001Z"
   },
   {
    "duration": 67,
    "start_time": "2023-07-26T19:55:01.055Z"
   },
   {
    "duration": 46,
    "start_time": "2023-07-26T19:55:01.124Z"
   },
   {
    "duration": 50,
    "start_time": "2023-07-26T19:55:01.175Z"
   },
   {
    "duration": 60,
    "start_time": "2023-07-26T19:55:01.227Z"
   },
   {
    "duration": 121,
    "start_time": "2023-07-26T19:55:01.291Z"
   },
   {
    "duration": 2171,
    "start_time": "2023-07-26T19:55:01.416Z"
   },
   {
    "duration": 2207,
    "start_time": "2023-07-26T19:55:03.590Z"
   },
   {
    "duration": 2248,
    "start_time": "2023-07-26T19:55:05.799Z"
   },
   {
    "duration": 36,
    "start_time": "2023-07-26T19:55:08.053Z"
   },
   {
    "duration": 158,
    "start_time": "2023-07-26T19:55:08.093Z"
   },
   {
    "duration": 111,
    "start_time": "2023-07-26T19:55:08.254Z"
   },
   {
    "duration": 24,
    "start_time": "2023-07-26T19:55:08.366Z"
   },
   {
    "duration": 9,
    "start_time": "2023-07-26T19:55:08.393Z"
   },
   {
    "duration": 15,
    "start_time": "2023-07-26T19:55:08.404Z"
   },
   {
    "duration": 15,
    "start_time": "2023-07-26T19:55:08.420Z"
   },
   {
    "duration": 6,
    "start_time": "2023-07-26T19:55:08.437Z"
   },
   {
    "duration": 8,
    "start_time": "2023-07-26T19:55:08.446Z"
   },
   {
    "duration": 28,
    "start_time": "2023-07-26T19:55:08.456Z"
   },
   {
    "duration": 1189,
    "start_time": "2023-07-26T19:55:08.487Z"
   },
   {
    "duration": 1198,
    "start_time": "2023-07-26T19:55:09.680Z"
   },
   {
    "duration": 1161,
    "start_time": "2023-07-26T19:55:10.883Z"
   },
   {
    "duration": 310,
    "start_time": "2023-07-26T19:55:12.046Z"
   },
   {
    "duration": 193,
    "start_time": "2023-07-26T19:55:12.357Z"
   },
   {
    "duration": 207,
    "start_time": "2023-07-26T19:55:12.551Z"
   },
   {
    "duration": 165,
    "start_time": "2023-07-26T20:05:23.310Z"
   },
   {
    "duration": 2623,
    "start_time": "2023-07-26T21:58:46.976Z"
   },
   {
    "duration": 764,
    "start_time": "2023-07-26T21:58:49.602Z"
   },
   {
    "duration": 11,
    "start_time": "2023-07-26T21:58:50.367Z"
   },
   {
    "duration": 23,
    "start_time": "2023-07-26T21:58:50.381Z"
   },
   {
    "duration": 38,
    "start_time": "2023-07-26T21:58:50.406Z"
   },
   {
    "duration": 4,
    "start_time": "2023-07-26T21:58:50.446Z"
   },
   {
    "duration": 27,
    "start_time": "2023-07-26T21:58:50.452Z"
   },
   {
    "duration": 29,
    "start_time": "2023-07-26T21:58:50.481Z"
   },
   {
    "duration": 38,
    "start_time": "2023-07-26T21:58:50.512Z"
   },
   {
    "duration": 3,
    "start_time": "2023-07-26T21:58:50.553Z"
   },
   {
    "duration": 17,
    "start_time": "2023-07-26T21:58:50.570Z"
   },
   {
    "duration": 30,
    "start_time": "2023-07-26T21:58:50.589Z"
   },
   {
    "duration": 33,
    "start_time": "2023-07-26T21:58:50.620Z"
   },
   {
    "duration": 4,
    "start_time": "2023-07-26T21:58:50.654Z"
   },
   {
    "duration": 45,
    "start_time": "2023-07-26T21:58:50.659Z"
   },
   {
    "duration": 39,
    "start_time": "2023-07-26T21:58:50.706Z"
   },
   {
    "duration": 57,
    "start_time": "2023-07-26T21:58:50.747Z"
   },
   {
    "duration": 18,
    "start_time": "2023-07-26T21:58:50.806Z"
   },
   {
    "duration": 70,
    "start_time": "2023-07-26T21:58:50.825Z"
   },
   {
    "duration": 17,
    "start_time": "2023-07-26T21:58:50.897Z"
   },
   {
    "duration": 67,
    "start_time": "2023-07-26T21:58:50.915Z"
   },
   {
    "duration": 17,
    "start_time": "2023-07-26T21:58:50.984Z"
   },
   {
    "duration": 48,
    "start_time": "2023-07-26T21:58:51.003Z"
   },
   {
    "duration": 24,
    "start_time": "2023-07-26T21:58:51.053Z"
   },
   {
    "duration": 9,
    "start_time": "2023-07-26T21:58:51.079Z"
   },
   {
    "duration": 11,
    "start_time": "2023-07-26T21:58:51.089Z"
   },
   {
    "duration": 26,
    "start_time": "2023-07-26T21:58:51.101Z"
   },
   {
    "duration": 9,
    "start_time": "2023-07-26T21:58:51.131Z"
   },
   {
    "duration": 19,
    "start_time": "2023-07-26T21:58:51.141Z"
   },
   {
    "duration": 72,
    "start_time": "2023-07-26T21:58:51.162Z"
   },
   {
    "duration": 35,
    "start_time": "2023-07-26T21:58:51.235Z"
   },
   {
    "duration": 19,
    "start_time": "2023-07-26T21:58:51.272Z"
   },
   {
    "duration": 886,
    "start_time": "2023-07-26T21:58:51.293Z"
   },
   {
    "duration": 824,
    "start_time": "2023-07-26T21:58:52.180Z"
   },
   {
    "duration": 790,
    "start_time": "2023-07-26T21:58:53.005Z"
   },
   {
    "duration": 270,
    "start_time": "2023-07-26T21:58:53.797Z"
   },
   {
    "duration": 270,
    "start_time": "2023-07-26T21:58:54.071Z"
   },
   {
    "duration": 372,
    "start_time": "2023-07-26T21:58:54.343Z"
   },
   {
    "duration": 257,
    "start_time": "2023-07-26T21:58:54.717Z"
   },
   {
    "duration": 19,
    "start_time": "2023-07-26T21:58:54.976Z"
   },
   {
    "duration": 8,
    "start_time": "2023-07-26T21:58:54.997Z"
   },
   {
    "duration": 36,
    "start_time": "2023-07-26T21:58:55.006Z"
   },
   {
    "duration": 8,
    "start_time": "2023-07-26T21:58:55.044Z"
   },
   {
    "duration": 36,
    "start_time": "2023-07-26T21:58:55.054Z"
   },
   {
    "duration": 7,
    "start_time": "2023-07-26T21:58:55.092Z"
   },
   {
    "duration": 76,
    "start_time": "2023-07-26T21:58:55.100Z"
   },
   {
    "duration": 5,
    "start_time": "2023-07-26T21:58:55.179Z"
   },
   {
    "duration": 18,
    "start_time": "2023-07-26T21:58:55.271Z"
   },
   {
    "duration": 22,
    "start_time": "2023-07-26T21:58:55.291Z"
   },
   {
    "duration": 66,
    "start_time": "2023-07-26T21:58:55.314Z"
   },
   {
    "duration": 6,
    "start_time": "2023-07-26T21:58:55.471Z"
   },
   {
    "duration": 34,
    "start_time": "2023-07-26T21:58:55.479Z"
   },
   {
    "duration": 12,
    "start_time": "2023-07-26T21:58:55.515Z"
   },
   {
    "duration": 50,
    "start_time": "2023-07-26T21:58:55.529Z"
   },
   {
    "duration": 92,
    "start_time": "2023-07-26T21:58:55.581Z"
   },
   {
    "duration": 9,
    "start_time": "2023-07-26T21:58:55.675Z"
   },
   {
    "duration": 85,
    "start_time": "2023-07-26T21:58:55.686Z"
   },
   {
    "duration": 12,
    "start_time": "2023-07-26T21:58:55.773Z"
   },
   {
    "duration": 16,
    "start_time": "2023-07-26T21:58:55.786Z"
   },
   {
    "duration": 7,
    "start_time": "2023-07-26T21:58:55.803Z"
   },
   {
    "duration": 6,
    "start_time": "2023-07-26T21:58:55.811Z"
   },
   {
    "duration": 15,
    "start_time": "2023-07-26T21:58:55.819Z"
   },
   {
    "duration": 15,
    "start_time": "2023-07-26T21:58:55.835Z"
   },
   {
    "duration": 20,
    "start_time": "2023-07-26T21:58:55.851Z"
   },
   {
    "duration": 11,
    "start_time": "2023-07-26T21:58:55.872Z"
   },
   {
    "duration": 3,
    "start_time": "2023-07-26T21:58:55.885Z"
   },
   {
    "duration": 15,
    "start_time": "2023-07-26T21:58:55.890Z"
   },
   {
    "duration": 3,
    "start_time": "2023-07-26T21:58:55.906Z"
   },
   {
    "duration": 10,
    "start_time": "2023-07-26T21:58:55.911Z"
   },
   {
    "duration": 18,
    "start_time": "2023-07-26T21:58:55.922Z"
   },
   {
    "duration": 3,
    "start_time": "2023-07-26T21:58:55.942Z"
   },
   {
    "duration": 3,
    "start_time": "2023-07-26T21:58:55.971Z"
   },
   {
    "duration": 8,
    "start_time": "2023-07-26T21:58:55.975Z"
   },
   {
    "duration": 9,
    "start_time": "2023-07-26T21:58:55.984Z"
   },
   {
    "duration": 11,
    "start_time": "2023-07-26T21:58:55.994Z"
   },
   {
    "duration": 6,
    "start_time": "2023-07-26T21:58:56.006Z"
   },
   {
    "duration": 16,
    "start_time": "2023-07-26T21:58:56.014Z"
   },
   {
    "duration": 14,
    "start_time": "2023-07-26T21:58:56.032Z"
   },
   {
    "duration": 1888,
    "start_time": "2023-07-26T21:58:56.047Z"
   },
   {
    "duration": 1826,
    "start_time": "2023-07-26T21:58:57.937Z"
   },
   {
    "duration": 1816,
    "start_time": "2023-07-26T21:58:59.764Z"
   },
   {
    "duration": 11,
    "start_time": "2023-07-26T21:59:01.585Z"
   },
   {
    "duration": 150,
    "start_time": "2023-07-26T21:59:01.598Z"
   },
   {
    "duration": 96,
    "start_time": "2023-07-26T21:59:01.749Z"
   },
   {
    "duration": 9,
    "start_time": "2023-07-26T21:59:01.846Z"
   },
   {
    "duration": 19,
    "start_time": "2023-07-26T21:59:01.856Z"
   },
   {
    "duration": 23,
    "start_time": "2023-07-26T21:59:01.877Z"
   },
   {
    "duration": 19,
    "start_time": "2023-07-26T21:59:01.902Z"
   },
   {
    "duration": 23,
    "start_time": "2023-07-26T21:59:01.923Z"
   },
   {
    "duration": 23,
    "start_time": "2023-07-26T21:59:01.948Z"
   },
   {
    "duration": 26,
    "start_time": "2023-07-26T21:59:01.973Z"
   },
   {
    "duration": 1050,
    "start_time": "2023-07-26T21:59:02.001Z"
   },
   {
    "duration": 1001,
    "start_time": "2023-07-26T21:59:03.053Z"
   },
   {
    "duration": 1068,
    "start_time": "2023-07-26T21:59:04.055Z"
   },
   {
    "duration": 284,
    "start_time": "2023-07-26T21:59:05.125Z"
   },
   {
    "duration": 184,
    "start_time": "2023-07-26T21:59:05.411Z"
   },
   {
    "duration": 194,
    "start_time": "2023-07-26T21:59:05.597Z"
   },
   {
    "duration": 8,
    "start_time": "2023-07-26T22:00:53.087Z"
   },
   {
    "duration": 479,
    "start_time": "2023-07-26T22:00:57.441Z"
   },
   {
    "duration": 486,
    "start_time": "2023-07-26T22:01:06.967Z"
   },
   {
    "duration": 487,
    "start_time": "2023-07-26T22:01:13.565Z"
   },
   {
    "duration": 171,
    "start_time": "2023-07-26T22:01:28.344Z"
   },
   {
    "duration": 5,
    "start_time": "2023-07-26T22:01:56.673Z"
   }
  ],
  "kernelspec": {
   "display_name": "Python 3 (ipykernel)",
   "language": "python",
   "name": "python3"
  },
  "language_info": {
   "codemirror_mode": {
    "name": "ipython",
    "version": 3
   },
   "file_extension": ".py",
   "mimetype": "text/x-python",
   "name": "python",
   "nbconvert_exporter": "python",
   "pygments_lexer": "ipython3",
   "version": "3.9.5"
  },
  "toc": {
   "base_numbering": 1,
   "nav_menu": {},
   "number_sections": true,
   "sideBar": true,
   "skip_h1_title": true,
   "title_cell": "Содержание",
   "title_sidebar": "Contents",
   "toc_cell": true,
   "toc_position": {
    "height": "calc(100% - 180px)",
    "left": "10px",
    "top": "150px",
    "width": "165px"
   },
   "toc_section_display": true,
   "toc_window_display": false
  }
 },
 "nbformat": 4,
 "nbformat_minor": 2
}
