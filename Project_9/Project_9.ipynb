{
 "cells": [
  {
   "cell_type": "markdown",
   "metadata": {
    "toc": true
   },
   "source": [
    "<h1>Содержание<span class=\"tocSkip\"></span></h1>\n",
    "<div class=\"toc\"><ul class=\"toc-item\"><li><span><a href=\"#Подготовка-данных\" data-toc-modified-id=\"Подготовка-данных-1\"><span class=\"toc-item-num\">1&nbsp;&nbsp;</span>Подготовка данных</a></span><ul class=\"toc-item\"><li><span><a href=\"#Загрузим-и-рассмотрим-данные\" data-toc-modified-id=\"Загрузим-и-рассмотрим-данные-1.1\"><span class=\"toc-item-num\">1.1&nbsp;&nbsp;</span>Загрузим и рассмотрим данные</a></span></li><li><span><a href=\"#Проверим,-что-эффективность-обогащения-рассчитана-правильно.\" data-toc-modified-id=\"Проверим,-что-эффективность-обогащения-рассчитана-правильно.-1.2\"><span class=\"toc-item-num\">1.2&nbsp;&nbsp;</span>Проверим, что эффективность обогащения рассчитана правильно.</a></span></li><li><span><a href=\"#Проанализируем-признаки,-недоступные-в-тестовой-выборке.\" data-toc-modified-id=\"Проанализируем-признаки,-недоступные-в-тестовой-выборке.-1.3\"><span class=\"toc-item-num\">1.3&nbsp;&nbsp;</span>Проанализируем признаки, недоступные в тестовой выборке.</a></span></li><li><span><a href=\"#Проведем-предобработку-данных\" data-toc-modified-id=\"Проведем-предобработку-данных-1.4\"><span class=\"toc-item-num\">1.4&nbsp;&nbsp;</span>Проведем предобработку данных</a></span></li></ul></li><li><span><a href=\"#Анализ-данных\" data-toc-modified-id=\"Анализ-данных-2\"><span class=\"toc-item-num\">2&nbsp;&nbsp;</span>Анализ данных</a></span><ul class=\"toc-item\"><li><span><a href=\"#Посмотрим,-как-меняется-концентрация-металлов-(Au,-Ag,-Pb)-на-различных-этапах.\" data-toc-modified-id=\"Посмотрим,-как-меняется-концентрация-металлов-(Au,-Ag,-Pb)-на-различных-этапах.-2.1\"><span class=\"toc-item-num\">2.1&nbsp;&nbsp;</span>Посмотрим, как меняется концентрация металлов (Au, Ag, Pb) на различных этапах.</a></span></li><li><span><a href=\"#Сравним-распределения-размеров-гранул-исходного-сырья-на-обучающей-и-тестовой-выборках.\" data-toc-modified-id=\"Сравним-распределения-размеров-гранул-исходного-сырья-на-обучающей-и-тестовой-выборках.-2.2\"><span class=\"toc-item-num\">2.2&nbsp;&nbsp;</span>Сравним распределения размеров гранул исходного сырья на обучающей и тестовой выборках.</a></span></li><li><span><a href=\"#Исследуем-суммарную-концентрацию-металлов-на-разных-стадиях.\" data-toc-modified-id=\"Исследуем-суммарную-концентрацию-металлов-на-разных-стадиях.-2.3\"><span class=\"toc-item-num\">2.3&nbsp;&nbsp;</span>Исследуем суммарную концентрацию металлов на разных стадиях.</a></span></li></ul></li><li><span><a href=\"#Построим-модель\" data-toc-modified-id=\"Построим-модель-3\"><span class=\"toc-item-num\">3&nbsp;&nbsp;</span>Построим модель</a></span><ul class=\"toc-item\"><li><span><a href=\"#Напишим-функцию-для-вычисления-итоговой-sMAPE.\" data-toc-modified-id=\"Напишим-функцию-для-вычисления-итоговой-sMAPE.-3.1\"><span class=\"toc-item-num\">3.1&nbsp;&nbsp;</span>Напишим функцию для вычисления итоговой sMAPE.</a></span></li><li><span><a href=\"#Обучим-разные-модели-и-оцените-их-качество-кросс-валидацией.\" data-toc-modified-id=\"Обучим-разные-модели-и-оцените-их-качество-кросс-валидацией.-3.2\"><span class=\"toc-item-num\">3.2&nbsp;&nbsp;</span>Обучим разные модели и оцените их качество кросс-валидацией.</a></span></li><li><span><a href=\"#Выберим-лучшую-модель-и-проверьте-её-на-тестовой-выборке\" data-toc-modified-id=\"Выберим-лучшую-модель-и-проверьте-её-на-тестовой-выборке-3.3\"><span class=\"toc-item-num\">3.3&nbsp;&nbsp;</span>Выберим лучшую модель и проверьте её на тестовой выборке</a></span></li></ul></li><li><span><a href=\"#Вывод\" data-toc-modified-id=\"Вывод-4\"><span class=\"toc-item-num\">4&nbsp;&nbsp;</span>Вывод</a></span></li></ul></div>"
   ]
  },
  {
   "cell_type": "markdown",
   "metadata": {},
   "source": [
    "# Восстановление золота из руды"
   ]
  },
  {
   "cell_type": "markdown",
   "metadata": {},
   "source": [
    "Подготовьте прототип модели машинного обучения для «Цифры». Компания разрабатывает решения для эффективной работы промышленных предприятий.\n",
    "\n",
    "Модель должна предсказать коэффициент восстановления золота из золотосодержащей руды. Используйте данные с параметрами добычи и очистки. \n",
    "\n",
    "Модель поможет оптимизировать производство, чтобы не запускать предприятие с убыточными характеристиками.\n",
    "\n",
    "Вам нужно:\n",
    "\n",
    "1. Подготовить данные;\n",
    "2. Провести исследовательский анализ данных;\n",
    "3. Построить и обучить модель.\n",
    "\n",
    "Чтобы выполнить проект, обращайтесь к библиотекам *pandas*, *matplotlib* и *sklearn.* Вам поможет их документация."
   ]
  },
  {
   "cell_type": "markdown",
   "metadata": {},
   "source": [
    "Данные находятся в трёх файлах:\n",
    "    \n",
    "gold_industry_train.csv — обучающая выборка;\n",
    "\n",
    "gold_industry_test.csv — тестовая выборка;\n",
    "\n",
    "gold_industry_full.csv — исходные данные.\n",
    "\n",
    "Данные индексируются датой и временем получения информации (признак date). Соседние по времени параметры часто похожи.\n",
    "Некоторые параметры недоступны, потому что замеряются и/или рассчитываются значительно позже. Из-за этого в тестовой выборке отсутствуют некоторые признаки, которые могут быть в обучающей. Также в тестовом наборе нет целевых признаков.\n",
    "Исходный датасет содержит обучающую и тестовую выборки со всеми признаками.\n",
    "В вашем распоряжении сырые данные: их просто выгрузили из хранилища. Прежде чем приступить к построению модели, проверьте по нашей инструкции их на корректность.\n",
    "Инструкция по выполнению проекта\n",
    "\n",
    "1. Подготовьте данные\n",
    "- 1.1. Откройте файлы и изучите их.\n",
    "- 1.2. Проверьте, что эффективность обогащения рассчитана правильно. Вычислите её на обучающей выборке для признака rougher.output.recovery. Найдите MAE между вашими расчётами и значением признака. Опишите выводы.\n",
    "- 1.3. Проанализируйте признаки, недоступные в тестовой выборке. Что это за параметры? К какому типу относятся?\n",
    "- 1.4. Проведите предобработку данных.\n",
    "\n",
    "2. Проанализируйте данные\n",
    "- 2.1. Посмотрите, как меняется концентрация металлов (Au, Ag, Pb) на различных этапах: в сырье, в черновом концентрате, в концентрате после первой очистки и в финальном концентрате. Какие особенности имеют распределения? Опишите выводы.\n",
    "- 2.2.  Сравните распределения размеров гранул исходного сырья на обучающей и тестовой выборках. Если распределения сильно отличаются друг от друга, оценка модели будет неправильной.\n",
    "- 2.3. Исследуйте суммарную концентрацию металлов на разных стадиях: в сырье, в черновом концентрате, в концентрате после первой очистки и в финальном концентрате.\n",
    "\n",
    "3. Постройте модель\n",
    "- 3.1. Напишите функцию для вычисления итоговой sMAPE.\n",
    "- 3.2. Обучите разные модели и оцените их качество кросс-валидацией. Выберите лучшую модель и проверьте её на тестовой выборке. Опишите выводы.\n",
    "    \n",
    "Вам пригодятся формулы метрик качества:"
   ]
  },
  {
   "cell_type": "markdown",
   "metadata": {},
   "source": [
    "## Подготовка данных"
   ]
  },
  {
   "cell_type": "code",
   "execution_count": 1,
   "metadata": {},
   "outputs": [],
   "source": [
    "# Загрузим библиотеки\n",
    "import pandas as pd\n",
    "import matplotlib.pyplot as plt\n",
    "import numpy as np\n",
    "\n",
    "from sklearn.ensemble import RandomForestRegressor\n",
    "from sklearn.linear_model import LinearRegression\n",
    "from sklearn import tree\n",
    "from sklearn.tree import DecisionTreeRegressor\n",
    "from sklearn.tree import DecisionTreeClassifier\n",
    "from sklearn.ensemble import RandomForestClassifier\n",
    "from sklearn.ensemble import ExtraTreesRegressor\n",
    "from sklearn.model_selection import train_test_split\n",
    "from sklearn.preprocessing import StandardScaler\n",
    "from sklearn.metrics import accuracy_score,classification_report, confusion_matrix,r2_score,roc_curve,\\\n",
    "f1_score,mean_squared_error,roc_auc_score,recall_score,precision_score,\\\n",
    "make_scorer,precision_recall_curve,mean_absolute_error\n",
    "from sklearn.preprocessing import PolynomialFeatures\n",
    "from sklearn.linear_model import Ridge\n",
    "from sklearn.model_selection import cross_val_score\n",
    "from sklearn.model_selection import GridSearchCV\n",
    "from sklearn.pipeline import Pipeline, make_pipeline\n",
    "from sklearn.impute import KNNImputer\n",
    "from sklearn.dummy import DummyRegressor\n",
    "from sklearn.model_selection import GridSearchCV\n",
    "from sklearn.model_selection import RandomizedSearchCV\n",
    "from tqdm.notebook import tqdm\n",
    "\n",
    "import warnings\n",
    "warnings.filterwarnings('ignore')"
   ]
  },
  {
   "cell_type": "markdown",
   "metadata": {},
   "source": [
    "### Загрузим и рассмотрим данные"
   ]
  },
  {
   "cell_type": "code",
   "execution_count": 2,
   "metadata": {},
   "outputs": [],
   "source": [
    "# загрузим данные\n",
    "data_full = pd.read_csv('/datasets/gold_industry_full.csv')\n",
    "data_train = pd.read_csv('/datasets/gold_industry_train.csv')\n",
    "data_test = pd.read_csv('/datasets/gold_industry_test.csv')"
   ]
  },
  {
   "cell_type": "markdown",
   "metadata": {},
   "source": [
    "Получим инфромацию по данным, будем использовать .info(), .head(),"
   ]
  },
  {
   "cell_type": "code",
   "execution_count": 3,
   "metadata": {
    "scrolled": true
   },
   "outputs": [
    {
     "name": "stdout",
     "output_type": "stream",
     "text": [
      "<class 'pandas.core.frame.DataFrame'>\n",
      "RangeIndex: 19439 entries, 0 to 19438\n",
      "Data columns (total 87 columns):\n",
      " #   Column                                              Non-Null Count  Dtype  \n",
      "---  ------                                              --------------  -----  \n",
      " 0   date                                                19439 non-null  object \n",
      " 1   rougher.input.feed_au                               19439 non-null  float64\n",
      " 2   rougher.input.feed_ag                               19439 non-null  float64\n",
      " 3   rougher.input.feed_pb                               19339 non-null  float64\n",
      " 4   rougher.input.feed_sol                              19340 non-null  float64\n",
      " 5   rougher.input.feed_rate                             19428 non-null  float64\n",
      " 6   rougher.input.feed_size                             19294 non-null  float64\n",
      " 7   rougher.input.floatbank10_sulfate                   19405 non-null  float64\n",
      " 8   rougher.input.floatbank10_xanthate                  19431 non-null  float64\n",
      " 9   rougher.state.floatbank10_a_air                     19438 non-null  float64\n",
      " 10  rougher.state.floatbank10_a_level                   19438 non-null  float64\n",
      " 11  rougher.state.floatbank10_b_air                     19438 non-null  float64\n",
      " 12  rougher.state.floatbank10_b_level                   19438 non-null  float64\n",
      " 13  rougher.state.floatbank10_c_air                     19438 non-null  float64\n",
      " 14  rougher.state.floatbank10_c_level                   19438 non-null  float64\n",
      " 15  rougher.state.floatbank10_d_air                     19439 non-null  float64\n",
      " 16  rougher.state.floatbank10_d_level                   19439 non-null  float64\n",
      " 17  rougher.state.floatbank10_e_air                     19003 non-null  float64\n",
      " 18  rougher.state.floatbank10_e_level                   19439 non-null  float64\n",
      " 19  rougher.state.floatbank10_f_air                     19439 non-null  float64\n",
      " 20  rougher.state.floatbank10_f_level                   19439 non-null  float64\n",
      " 21  rougher.input.floatbank11_sulfate                   19395 non-null  float64\n",
      " 22  rougher.input.floatbank11_xanthate                  18986 non-null  float64\n",
      " 23  rougher.calculation.sulfate_to_au_concentrate       19437 non-null  float64\n",
      " 24  rougher.calculation.floatbank10_sulfate_to_au_feed  19437 non-null  float64\n",
      " 25  rougher.calculation.floatbank11_sulfate_to_au_feed  19437 non-null  float64\n",
      " 26  rougher.calculation.au_pb_ratio                     19439 non-null  float64\n",
      " 27  rougher.output.concentrate_au                       19439 non-null  float64\n",
      " 28  rougher.output.concentrate_ag                       19439 non-null  float64\n",
      " 29  rougher.output.concentrate_pb                       19439 non-null  float64\n",
      " 30  rougher.output.concentrate_sol                      19416 non-null  float64\n",
      " 31  rougher.output.recovery                             19439 non-null  float64\n",
      " 32  rougher.output.tail_au                              19439 non-null  float64\n",
      " 33  rougher.output.tail_ag                              19438 non-null  float64\n",
      " 34  rougher.output.tail_pb                              19439 non-null  float64\n",
      " 35  rougher.output.tail_sol                             19439 non-null  float64\n",
      " 36  primary_cleaner.input.sulfate                       19415 non-null  float64\n",
      " 37  primary_cleaner.input.depressant                    19402 non-null  float64\n",
      " 38  primary_cleaner.input.feed_size                     19439 non-null  float64\n",
      " 39  primary_cleaner.input.xanthate                      19335 non-null  float64\n",
      " 40  primary_cleaner.state.floatbank8_a_air              19435 non-null  float64\n",
      " 41  primary_cleaner.state.floatbank8_a_level            19438 non-null  float64\n",
      " 42  primary_cleaner.state.floatbank8_b_air              19435 non-null  float64\n",
      " 43  primary_cleaner.state.floatbank8_b_level            19438 non-null  float64\n",
      " 44  primary_cleaner.state.floatbank8_c_air              19437 non-null  float64\n",
      " 45  primary_cleaner.state.floatbank8_c_level            19438 non-null  float64\n",
      " 46  primary_cleaner.state.floatbank8_d_air              19436 non-null  float64\n",
      " 47  primary_cleaner.state.floatbank8_d_level            19438 non-null  float64\n",
      " 48  primary_cleaner.output.concentrate_au               19439 non-null  float64\n",
      " 49  primary_cleaner.output.concentrate_ag               19439 non-null  float64\n",
      " 50  primary_cleaner.output.concentrate_pb               19323 non-null  float64\n",
      " 51  primary_cleaner.output.concentrate_sol              19069 non-null  float64\n",
      " 52  primary_cleaner.output.tail_au                      19439 non-null  float64\n",
      " 53  primary_cleaner.output.tail_ag                      19435 non-null  float64\n",
      " 54  primary_cleaner.output.tail_pb                      19418 non-null  float64\n",
      " 55  primary_cleaner.output.tail_sol                     19377 non-null  float64\n",
      " 56  secondary_cleaner.state.floatbank2_a_air            19219 non-null  float64\n",
      " 57  secondary_cleaner.state.floatbank2_a_level          19438 non-null  float64\n",
      " 58  secondary_cleaner.state.floatbank2_b_air            19416 non-null  float64\n",
      " 59  secondary_cleaner.state.floatbank2_b_level          19438 non-null  float64\n",
      " 60  secondary_cleaner.state.floatbank3_a_air            19426 non-null  float64\n",
      " 61  secondary_cleaner.state.floatbank3_a_level          19438 non-null  float64\n",
      " 62  secondary_cleaner.state.floatbank3_b_air            19438 non-null  float64\n",
      " 63  secondary_cleaner.state.floatbank3_b_level          19438 non-null  float64\n",
      " 64  secondary_cleaner.state.floatbank4_a_air            19433 non-null  float64\n",
      " 65  secondary_cleaner.state.floatbank4_a_level          19438 non-null  float64\n",
      " 66  secondary_cleaner.state.floatbank4_b_air            19438 non-null  float64\n",
      " 67  secondary_cleaner.state.floatbank4_b_level          19438 non-null  float64\n",
      " 68  secondary_cleaner.state.floatbank5_a_air            19438 non-null  float64\n",
      " 69  secondary_cleaner.state.floatbank5_a_level          19438 non-null  float64\n",
      " 70  secondary_cleaner.state.floatbank5_b_air            19438 non-null  float64\n",
      " 71  secondary_cleaner.state.floatbank5_b_level          19438 non-null  float64\n",
      " 72  secondary_cleaner.state.floatbank6_a_air            19437 non-null  float64\n",
      " 73  secondary_cleaner.state.floatbank6_a_level          19438 non-null  float64\n",
      " 74  secondary_cleaner.output.tail_au                    19439 non-null  float64\n",
      " 75  secondary_cleaner.output.tail_ag                    19437 non-null  float64\n",
      " 76  secondary_cleaner.output.tail_pb                    19427 non-null  float64\n",
      " 77  secondary_cleaner.output.tail_sol                   17691 non-null  float64\n",
      " 78  final.output.concentrate_au                         19439 non-null  float64\n",
      " 79  final.output.concentrate_ag                         19438 non-null  float64\n",
      " 80  final.output.concentrate_pb                         19438 non-null  float64\n",
      " 81  final.output.concentrate_sol                        19228 non-null  float64\n",
      " 82  final.output.recovery                               19439 non-null  float64\n",
      " 83  final.output.tail_au                                19439 non-null  float64\n",
      " 84  final.output.tail_ag                                19438 non-null  float64\n",
      " 85  final.output.tail_pb                                19338 non-null  float64\n",
      " 86  final.output.tail_sol                               19433 non-null  float64\n",
      "dtypes: float64(86), object(1)\n",
      "memory usage: 12.9+ MB\n"
     ]
    }
   ],
   "source": [
    "data_full.info()"
   ]
  },
  {
   "cell_type": "code",
   "execution_count": 4,
   "metadata": {
    "scrolled": true
   },
   "outputs": [
    {
     "name": "stdout",
     "output_type": "stream",
     "text": [
      "<class 'pandas.core.frame.DataFrame'>\n",
      "RangeIndex: 14579 entries, 0 to 14578\n",
      "Data columns (total 87 columns):\n",
      " #   Column                                              Non-Null Count  Dtype  \n",
      "---  ------                                              --------------  -----  \n",
      " 0   date                                                14579 non-null  object \n",
      " 1   rougher.input.feed_au                               14579 non-null  float64\n",
      " 2   rougher.input.feed_ag                               14579 non-null  float64\n",
      " 3   rougher.input.feed_pb                               14507 non-null  float64\n",
      " 4   rougher.input.feed_sol                              14502 non-null  float64\n",
      " 5   rougher.input.feed_rate                             14572 non-null  float64\n",
      " 6   rougher.input.feed_size                             14478 non-null  float64\n",
      " 7   rougher.input.floatbank10_sulfate                   14548 non-null  float64\n",
      " 8   rougher.input.floatbank10_xanthate                  14572 non-null  float64\n",
      " 9   rougher.state.floatbank10_a_air                     14579 non-null  float64\n",
      " 10  rougher.state.floatbank10_a_level                   14579 non-null  float64\n",
      " 11  rougher.state.floatbank10_b_air                     14579 non-null  float64\n",
      " 12  rougher.state.floatbank10_b_level                   14579 non-null  float64\n",
      " 13  rougher.state.floatbank10_c_air                     14579 non-null  float64\n",
      " 14  rougher.state.floatbank10_c_level                   14579 non-null  float64\n",
      " 15  rougher.state.floatbank10_d_air                     14579 non-null  float64\n",
      " 16  rougher.state.floatbank10_d_level                   14579 non-null  float64\n",
      " 17  rougher.state.floatbank10_e_air                     14150 non-null  float64\n",
      " 18  rougher.state.floatbank10_e_level                   14579 non-null  float64\n",
      " 19  rougher.state.floatbank10_f_air                     14579 non-null  float64\n",
      " 20  rougher.state.floatbank10_f_level                   14579 non-null  float64\n",
      " 21  rougher.input.floatbank11_sulfate                   14543 non-null  float64\n",
      " 22  rougher.input.floatbank11_xanthate                  14172 non-null  float64\n",
      " 23  rougher.calculation.sulfate_to_au_concentrate       14578 non-null  float64\n",
      " 24  rougher.calculation.floatbank10_sulfate_to_au_feed  14578 non-null  float64\n",
      " 25  rougher.calculation.floatbank11_sulfate_to_au_feed  14578 non-null  float64\n",
      " 26  rougher.calculation.au_pb_ratio                     14579 non-null  float64\n",
      " 27  rougher.output.concentrate_au                       14579 non-null  float64\n",
      " 28  rougher.output.concentrate_ag                       14579 non-null  float64\n",
      " 29  rougher.output.concentrate_pb                       14579 non-null  float64\n",
      " 30  rougher.output.concentrate_sol                      14561 non-null  float64\n",
      " 31  rougher.output.recovery                             14579 non-null  float64\n",
      " 32  rougher.output.tail_au                              14579 non-null  float64\n",
      " 33  rougher.output.tail_ag                              14578 non-null  float64\n",
      " 34  rougher.output.tail_pb                              14579 non-null  float64\n",
      " 35  rougher.output.tail_sol                             14579 non-null  float64\n",
      " 36  primary_cleaner.input.sulfate                       14556 non-null  float64\n",
      " 37  primary_cleaner.input.depressant                    14551 non-null  float64\n",
      " 38  primary_cleaner.input.feed_size                     14579 non-null  float64\n",
      " 39  primary_cleaner.input.xanthate                      14518 non-null  float64\n",
      " 40  primary_cleaner.state.floatbank8_a_air              14576 non-null  float64\n",
      " 41  primary_cleaner.state.floatbank8_a_level            14579 non-null  float64\n",
      " 42  primary_cleaner.state.floatbank8_b_air              14576 non-null  float64\n",
      " 43  primary_cleaner.state.floatbank8_b_level            14579 non-null  float64\n",
      " 44  primary_cleaner.state.floatbank8_c_air              14579 non-null  float64\n",
      " 45  primary_cleaner.state.floatbank8_c_level            14579 non-null  float64\n",
      " 46  primary_cleaner.state.floatbank8_d_air              14578 non-null  float64\n",
      " 47  primary_cleaner.state.floatbank8_d_level            14579 non-null  float64\n",
      " 48  primary_cleaner.output.concentrate_au               14579 non-null  float64\n",
      " 49  primary_cleaner.output.concentrate_ag               14579 non-null  float64\n",
      " 50  primary_cleaner.output.concentrate_pb               14491 non-null  float64\n",
      " 51  primary_cleaner.output.concentrate_sol              14314 non-null  float64\n",
      " 52  primary_cleaner.output.tail_au                      14579 non-null  float64\n",
      " 53  primary_cleaner.output.tail_ag                      14575 non-null  float64\n",
      " 54  primary_cleaner.output.tail_pb                      14573 non-null  float64\n",
      " 55  primary_cleaner.output.tail_sol                     14534 non-null  float64\n",
      " 56  secondary_cleaner.state.floatbank2_a_air            14485 non-null  float64\n",
      " 57  secondary_cleaner.state.floatbank2_a_level          14579 non-null  float64\n",
      " 58  secondary_cleaner.state.floatbank2_b_air            14557 non-null  float64\n",
      " 59  secondary_cleaner.state.floatbank2_b_level          14579 non-null  float64\n",
      " 60  secondary_cleaner.state.floatbank3_a_air            14567 non-null  float64\n",
      " 61  secondary_cleaner.state.floatbank3_a_level          14579 non-null  float64\n",
      " 62  secondary_cleaner.state.floatbank3_b_air            14579 non-null  float64\n",
      " 63  secondary_cleaner.state.floatbank3_b_level          14579 non-null  float64\n",
      " 64  secondary_cleaner.state.floatbank4_a_air            14574 non-null  float64\n",
      " 65  secondary_cleaner.state.floatbank4_a_level          14579 non-null  float64\n",
      " 66  secondary_cleaner.state.floatbank4_b_air            14579 non-null  float64\n",
      " 67  secondary_cleaner.state.floatbank4_b_level          14579 non-null  float64\n",
      " 68  secondary_cleaner.state.floatbank5_a_air            14579 non-null  float64\n",
      " 69  secondary_cleaner.state.floatbank5_a_level          14579 non-null  float64\n",
      " 70  secondary_cleaner.state.floatbank5_b_air            14579 non-null  float64\n",
      " 71  secondary_cleaner.state.floatbank5_b_level          14579 non-null  float64\n",
      " 72  secondary_cleaner.state.floatbank6_a_air            14578 non-null  float64\n",
      " 73  secondary_cleaner.state.floatbank6_a_level          14579 non-null  float64\n",
      " 74  secondary_cleaner.output.tail_au                    14579 non-null  float64\n",
      " 75  secondary_cleaner.output.tail_ag                    14578 non-null  float64\n",
      " 76  secondary_cleaner.output.tail_pb                    14575 non-null  float64\n",
      " 77  secondary_cleaner.output.tail_sol                   13659 non-null  float64\n",
      " 78  final.output.concentrate_au                         14579 non-null  float64\n",
      " 79  final.output.concentrate_ag                         14578 non-null  float64\n",
      " 80  final.output.concentrate_pb                         14578 non-null  float64\n",
      " 81  final.output.concentrate_sol                        14387 non-null  float64\n",
      " 82  final.output.recovery                               14579 non-null  float64\n",
      " 83  final.output.tail_au                                14579 non-null  float64\n",
      " 84  final.output.tail_ag                                14578 non-null  float64\n",
      " 85  final.output.tail_pb                                14504 non-null  float64\n",
      " 86  final.output.tail_sol                               14574 non-null  float64\n",
      "dtypes: float64(86), object(1)\n",
      "memory usage: 9.7+ MB\n"
     ]
    }
   ],
   "source": [
    "data_train.info()"
   ]
  },
  {
   "cell_type": "code",
   "execution_count": 5,
   "metadata": {
    "scrolled": true
   },
   "outputs": [
    {
     "name": "stdout",
     "output_type": "stream",
     "text": [
      "<class 'pandas.core.frame.DataFrame'>\n",
      "RangeIndex: 4860 entries, 0 to 4859\n",
      "Data columns (total 53 columns):\n",
      " #   Column                                      Non-Null Count  Dtype  \n",
      "---  ------                                      --------------  -----  \n",
      " 0   date                                        4860 non-null   object \n",
      " 1   rougher.input.feed_au                       4860 non-null   float64\n",
      " 2   rougher.input.feed_ag                       4860 non-null   float64\n",
      " 3   rougher.input.feed_pb                       4832 non-null   float64\n",
      " 4   rougher.input.feed_sol                      4838 non-null   float64\n",
      " 5   rougher.input.feed_rate                     4856 non-null   float64\n",
      " 6   rougher.input.feed_size                     4816 non-null   float64\n",
      " 7   rougher.input.floatbank10_sulfate           4857 non-null   float64\n",
      " 8   rougher.input.floatbank10_xanthate          4859 non-null   float64\n",
      " 9   rougher.state.floatbank10_a_air             4859 non-null   float64\n",
      " 10  rougher.state.floatbank10_a_level           4859 non-null   float64\n",
      " 11  rougher.state.floatbank10_b_air             4859 non-null   float64\n",
      " 12  rougher.state.floatbank10_b_level           4859 non-null   float64\n",
      " 13  rougher.state.floatbank10_c_air             4859 non-null   float64\n",
      " 14  rougher.state.floatbank10_c_level           4859 non-null   float64\n",
      " 15  rougher.state.floatbank10_d_air             4860 non-null   float64\n",
      " 16  rougher.state.floatbank10_d_level           4860 non-null   float64\n",
      " 17  rougher.state.floatbank10_e_air             4853 non-null   float64\n",
      " 18  rougher.state.floatbank10_e_level           4860 non-null   float64\n",
      " 19  rougher.state.floatbank10_f_air             4860 non-null   float64\n",
      " 20  rougher.state.floatbank10_f_level           4860 non-null   float64\n",
      " 21  rougher.input.floatbank11_sulfate           4852 non-null   float64\n",
      " 22  rougher.input.floatbank11_xanthate          4814 non-null   float64\n",
      " 23  primary_cleaner.input.sulfate               4859 non-null   float64\n",
      " 24  primary_cleaner.input.depressant            4851 non-null   float64\n",
      " 25  primary_cleaner.input.feed_size             4860 non-null   float64\n",
      " 26  primary_cleaner.input.xanthate              4817 non-null   float64\n",
      " 27  primary_cleaner.state.floatbank8_a_air      4859 non-null   float64\n",
      " 28  primary_cleaner.state.floatbank8_a_level    4859 non-null   float64\n",
      " 29  primary_cleaner.state.floatbank8_b_air      4859 non-null   float64\n",
      " 30  primary_cleaner.state.floatbank8_b_level    4859 non-null   float64\n",
      " 31  primary_cleaner.state.floatbank8_c_air      4858 non-null   float64\n",
      " 32  primary_cleaner.state.floatbank8_c_level    4859 non-null   float64\n",
      " 33  primary_cleaner.state.floatbank8_d_air      4858 non-null   float64\n",
      " 34  primary_cleaner.state.floatbank8_d_level    4859 non-null   float64\n",
      " 35  secondary_cleaner.state.floatbank2_a_air    4734 non-null   float64\n",
      " 36  secondary_cleaner.state.floatbank2_a_level  4859 non-null   float64\n",
      " 37  secondary_cleaner.state.floatbank2_b_air    4859 non-null   float64\n",
      " 38  secondary_cleaner.state.floatbank2_b_level  4859 non-null   float64\n",
      " 39  secondary_cleaner.state.floatbank3_a_air    4859 non-null   float64\n",
      " 40  secondary_cleaner.state.floatbank3_a_level  4859 non-null   float64\n",
      " 41  secondary_cleaner.state.floatbank3_b_air    4859 non-null   float64\n",
      " 42  secondary_cleaner.state.floatbank3_b_level  4859 non-null   float64\n",
      " 43  secondary_cleaner.state.floatbank4_a_air    4859 non-null   float64\n",
      " 44  secondary_cleaner.state.floatbank4_a_level  4859 non-null   float64\n",
      " 45  secondary_cleaner.state.floatbank4_b_air    4859 non-null   float64\n",
      " 46  secondary_cleaner.state.floatbank4_b_level  4859 non-null   float64\n",
      " 47  secondary_cleaner.state.floatbank5_a_air    4859 non-null   float64\n",
      " 48  secondary_cleaner.state.floatbank5_a_level  4859 non-null   float64\n",
      " 49  secondary_cleaner.state.floatbank5_b_air    4859 non-null   float64\n",
      " 50  secondary_cleaner.state.floatbank5_b_level  4859 non-null   float64\n",
      " 51  secondary_cleaner.state.floatbank6_a_air    4859 non-null   float64\n",
      " 52  secondary_cleaner.state.floatbank6_a_level  4859 non-null   float64\n",
      "dtypes: float64(52), object(1)\n",
      "memory usage: 2.0+ MB\n"
     ]
    }
   ],
   "source": [
    "data_test.info()"
   ]
  },
  {
   "cell_type": "code",
   "execution_count": 6,
   "metadata": {},
   "outputs": [
    {
     "data": {
      "text/html": [
       "<div>\n",
       "<style scoped>\n",
       "    .dataframe tbody tr th:only-of-type {\n",
       "        vertical-align: middle;\n",
       "    }\n",
       "\n",
       "    .dataframe tbody tr th {\n",
       "        vertical-align: top;\n",
       "    }\n",
       "\n",
       "    .dataframe thead th {\n",
       "        text-align: right;\n",
       "    }\n",
       "</style>\n",
       "<table border=\"1\" class=\"dataframe\">\n",
       "  <thead>\n",
       "    <tr style=\"text-align: right;\">\n",
       "      <th></th>\n",
       "      <th>date</th>\n",
       "      <th>rougher.input.feed_au</th>\n",
       "      <th>rougher.input.feed_ag</th>\n",
       "      <th>rougher.input.feed_pb</th>\n",
       "      <th>rougher.input.feed_sol</th>\n",
       "      <th>rougher.input.feed_rate</th>\n",
       "      <th>rougher.input.feed_size</th>\n",
       "      <th>rougher.input.floatbank10_sulfate</th>\n",
       "      <th>rougher.input.floatbank10_xanthate</th>\n",
       "      <th>rougher.state.floatbank10_a_air</th>\n",
       "      <th>...</th>\n",
       "      <th>secondary_cleaner.output.tail_sol</th>\n",
       "      <th>final.output.concentrate_au</th>\n",
       "      <th>final.output.concentrate_ag</th>\n",
       "      <th>final.output.concentrate_pb</th>\n",
       "      <th>final.output.concentrate_sol</th>\n",
       "      <th>final.output.recovery</th>\n",
       "      <th>final.output.tail_au</th>\n",
       "      <th>final.output.tail_ag</th>\n",
       "      <th>final.output.tail_pb</th>\n",
       "      <th>final.output.tail_sol</th>\n",
       "    </tr>\n",
       "  </thead>\n",
       "  <tbody>\n",
       "    <tr>\n",
       "      <th>0</th>\n",
       "      <td>2016-01-15 00:00:00</td>\n",
       "      <td>6.486150</td>\n",
       "      <td>6.100378</td>\n",
       "      <td>2.284912</td>\n",
       "      <td>36.808594</td>\n",
       "      <td>523.546326</td>\n",
       "      <td>55.486599</td>\n",
       "      <td>11.986616</td>\n",
       "      <td>6.007990</td>\n",
       "      <td>999.706909</td>\n",
       "      <td>...</td>\n",
       "      <td>8.764648</td>\n",
       "      <td>42.192020</td>\n",
       "      <td>6.055403</td>\n",
       "      <td>9.889648</td>\n",
       "      <td>5.507324</td>\n",
       "      <td>70.541216</td>\n",
       "      <td>2.143149</td>\n",
       "      <td>10.411962</td>\n",
       "      <td>0.895447</td>\n",
       "      <td>16.904297</td>\n",
       "    </tr>\n",
       "    <tr>\n",
       "      <th>1</th>\n",
       "      <td>2016-01-15 01:00:00</td>\n",
       "      <td>6.478583</td>\n",
       "      <td>6.161113</td>\n",
       "      <td>2.266033</td>\n",
       "      <td>35.753385</td>\n",
       "      <td>525.290581</td>\n",
       "      <td>57.278666</td>\n",
       "      <td>11.971193</td>\n",
       "      <td>6.005766</td>\n",
       "      <td>1000.286398</td>\n",
       "      <td>...</td>\n",
       "      <td>9.001494</td>\n",
       "      <td>42.701629</td>\n",
       "      <td>6.029369</td>\n",
       "      <td>9.968944</td>\n",
       "      <td>5.257781</td>\n",
       "      <td>69.266198</td>\n",
       "      <td>2.224930</td>\n",
       "      <td>10.462676</td>\n",
       "      <td>0.927452</td>\n",
       "      <td>16.634514</td>\n",
       "    </tr>\n",
       "    <tr>\n",
       "      <th>2</th>\n",
       "      <td>2016-01-15 02:00:00</td>\n",
       "      <td>6.362222</td>\n",
       "      <td>6.116455</td>\n",
       "      <td>2.159622</td>\n",
       "      <td>35.971630</td>\n",
       "      <td>530.026610</td>\n",
       "      <td>57.510649</td>\n",
       "      <td>11.920603</td>\n",
       "      <td>6.197377</td>\n",
       "      <td>999.719565</td>\n",
       "      <td>...</td>\n",
       "      <td>8.842896</td>\n",
       "      <td>42.657501</td>\n",
       "      <td>6.055926</td>\n",
       "      <td>10.213995</td>\n",
       "      <td>5.383759</td>\n",
       "      <td>68.116445</td>\n",
       "      <td>2.257889</td>\n",
       "      <td>10.507046</td>\n",
       "      <td>0.953716</td>\n",
       "      <td>16.208849</td>\n",
       "    </tr>\n",
       "    <tr>\n",
       "      <th>3</th>\n",
       "      <td>2016-01-15 03:00:00</td>\n",
       "      <td>6.118189</td>\n",
       "      <td>6.043309</td>\n",
       "      <td>2.037807</td>\n",
       "      <td>36.862241</td>\n",
       "      <td>542.590390</td>\n",
       "      <td>57.792734</td>\n",
       "      <td>11.630094</td>\n",
       "      <td>6.203177</td>\n",
       "      <td>999.814770</td>\n",
       "      <td>...</td>\n",
       "      <td>9.122857</td>\n",
       "      <td>42.689819</td>\n",
       "      <td>6.047977</td>\n",
       "      <td>9.977019</td>\n",
       "      <td>4.858634</td>\n",
       "      <td>68.347543</td>\n",
       "      <td>2.146849</td>\n",
       "      <td>10.422762</td>\n",
       "      <td>0.883763</td>\n",
       "      <td>16.532835</td>\n",
       "    </tr>\n",
       "    <tr>\n",
       "      <th>4</th>\n",
       "      <td>2016-01-15 04:00:00</td>\n",
       "      <td>5.663707</td>\n",
       "      <td>6.060915</td>\n",
       "      <td>1.786875</td>\n",
       "      <td>34.347666</td>\n",
       "      <td>540.531893</td>\n",
       "      <td>56.047189</td>\n",
       "      <td>10.957755</td>\n",
       "      <td>6.198826</td>\n",
       "      <td>999.678690</td>\n",
       "      <td>...</td>\n",
       "      <td>8.871028</td>\n",
       "      <td>42.774141</td>\n",
       "      <td>6.148599</td>\n",
       "      <td>10.142511</td>\n",
       "      <td>4.939416</td>\n",
       "      <td>66.927016</td>\n",
       "      <td>2.055292</td>\n",
       "      <td>10.360302</td>\n",
       "      <td>0.792826</td>\n",
       "      <td>16.525686</td>\n",
       "    </tr>\n",
       "  </tbody>\n",
       "</table>\n",
       "<p>5 rows × 87 columns</p>\n",
       "</div>"
      ],
      "text/plain": [
       "                  date  rougher.input.feed_au  rougher.input.feed_ag  \\\n",
       "0  2016-01-15 00:00:00               6.486150               6.100378   \n",
       "1  2016-01-15 01:00:00               6.478583               6.161113   \n",
       "2  2016-01-15 02:00:00               6.362222               6.116455   \n",
       "3  2016-01-15 03:00:00               6.118189               6.043309   \n",
       "4  2016-01-15 04:00:00               5.663707               6.060915   \n",
       "\n",
       "   rougher.input.feed_pb  rougher.input.feed_sol  rougher.input.feed_rate  \\\n",
       "0               2.284912               36.808594               523.546326   \n",
       "1               2.266033               35.753385               525.290581   \n",
       "2               2.159622               35.971630               530.026610   \n",
       "3               2.037807               36.862241               542.590390   \n",
       "4               1.786875               34.347666               540.531893   \n",
       "\n",
       "   rougher.input.feed_size  rougher.input.floatbank10_sulfate  \\\n",
       "0                55.486599                          11.986616   \n",
       "1                57.278666                          11.971193   \n",
       "2                57.510649                          11.920603   \n",
       "3                57.792734                          11.630094   \n",
       "4                56.047189                          10.957755   \n",
       "\n",
       "   rougher.input.floatbank10_xanthate  rougher.state.floatbank10_a_air  ...  \\\n",
       "0                            6.007990                       999.706909  ...   \n",
       "1                            6.005766                      1000.286398  ...   \n",
       "2                            6.197377                       999.719565  ...   \n",
       "3                            6.203177                       999.814770  ...   \n",
       "4                            6.198826                       999.678690  ...   \n",
       "\n",
       "   secondary_cleaner.output.tail_sol  final.output.concentrate_au  \\\n",
       "0                           8.764648                    42.192020   \n",
       "1                           9.001494                    42.701629   \n",
       "2                           8.842896                    42.657501   \n",
       "3                           9.122857                    42.689819   \n",
       "4                           8.871028                    42.774141   \n",
       "\n",
       "   final.output.concentrate_ag  final.output.concentrate_pb  \\\n",
       "0                     6.055403                     9.889648   \n",
       "1                     6.029369                     9.968944   \n",
       "2                     6.055926                    10.213995   \n",
       "3                     6.047977                     9.977019   \n",
       "4                     6.148599                    10.142511   \n",
       "\n",
       "   final.output.concentrate_sol  final.output.recovery  final.output.tail_au  \\\n",
       "0                      5.507324              70.541216              2.143149   \n",
       "1                      5.257781              69.266198              2.224930   \n",
       "2                      5.383759              68.116445              2.257889   \n",
       "3                      4.858634              68.347543              2.146849   \n",
       "4                      4.939416              66.927016              2.055292   \n",
       "\n",
       "   final.output.tail_ag  final.output.tail_pb  final.output.tail_sol  \n",
       "0             10.411962              0.895447              16.904297  \n",
       "1             10.462676              0.927452              16.634514  \n",
       "2             10.507046              0.953716              16.208849  \n",
       "3             10.422762              0.883763              16.532835  \n",
       "4             10.360302              0.792826              16.525686  \n",
       "\n",
       "[5 rows x 87 columns]"
      ]
     },
     "execution_count": 6,
     "metadata": {},
     "output_type": "execute_result"
    }
   ],
   "source": [
    "data_full.head()"
   ]
  },
  {
   "cell_type": "code",
   "execution_count": 7,
   "metadata": {},
   "outputs": [
    {
     "data": {
      "text/html": [
       "<div>\n",
       "<style scoped>\n",
       "    .dataframe tbody tr th:only-of-type {\n",
       "        vertical-align: middle;\n",
       "    }\n",
       "\n",
       "    .dataframe tbody tr th {\n",
       "        vertical-align: top;\n",
       "    }\n",
       "\n",
       "    .dataframe thead th {\n",
       "        text-align: right;\n",
       "    }\n",
       "</style>\n",
       "<table border=\"1\" class=\"dataframe\">\n",
       "  <thead>\n",
       "    <tr style=\"text-align: right;\">\n",
       "      <th></th>\n",
       "      <th>date</th>\n",
       "      <th>rougher.input.feed_au</th>\n",
       "      <th>rougher.input.feed_ag</th>\n",
       "      <th>rougher.input.feed_pb</th>\n",
       "      <th>rougher.input.feed_sol</th>\n",
       "      <th>rougher.input.feed_rate</th>\n",
       "      <th>rougher.input.feed_size</th>\n",
       "      <th>rougher.input.floatbank10_sulfate</th>\n",
       "      <th>rougher.input.floatbank10_xanthate</th>\n",
       "      <th>rougher.state.floatbank10_a_air</th>\n",
       "      <th>...</th>\n",
       "      <th>secondary_cleaner.output.tail_sol</th>\n",
       "      <th>final.output.concentrate_au</th>\n",
       "      <th>final.output.concentrate_ag</th>\n",
       "      <th>final.output.concentrate_pb</th>\n",
       "      <th>final.output.concentrate_sol</th>\n",
       "      <th>final.output.recovery</th>\n",
       "      <th>final.output.tail_au</th>\n",
       "      <th>final.output.tail_ag</th>\n",
       "      <th>final.output.tail_pb</th>\n",
       "      <th>final.output.tail_sol</th>\n",
       "    </tr>\n",
       "  </thead>\n",
       "  <tbody>\n",
       "    <tr>\n",
       "      <th>0</th>\n",
       "      <td>2016-01-15 00:00:00</td>\n",
       "      <td>6.486150</td>\n",
       "      <td>6.100378</td>\n",
       "      <td>2.284912</td>\n",
       "      <td>36.808594</td>\n",
       "      <td>523.546326</td>\n",
       "      <td>55.486599</td>\n",
       "      <td>11.986616</td>\n",
       "      <td>6.007990</td>\n",
       "      <td>999.706909</td>\n",
       "      <td>...</td>\n",
       "      <td>8.764648</td>\n",
       "      <td>42.192020</td>\n",
       "      <td>6.055403</td>\n",
       "      <td>9.889648</td>\n",
       "      <td>5.507324</td>\n",
       "      <td>70.541216</td>\n",
       "      <td>2.143149</td>\n",
       "      <td>10.411962</td>\n",
       "      <td>0.895447</td>\n",
       "      <td>16.904297</td>\n",
       "    </tr>\n",
       "    <tr>\n",
       "      <th>1</th>\n",
       "      <td>2016-01-15 01:00:00</td>\n",
       "      <td>6.478583</td>\n",
       "      <td>6.161113</td>\n",
       "      <td>2.266033</td>\n",
       "      <td>35.753385</td>\n",
       "      <td>525.290581</td>\n",
       "      <td>57.278666</td>\n",
       "      <td>11.971193</td>\n",
       "      <td>6.005766</td>\n",
       "      <td>1000.286398</td>\n",
       "      <td>...</td>\n",
       "      <td>9.001494</td>\n",
       "      <td>42.701629</td>\n",
       "      <td>6.029369</td>\n",
       "      <td>9.968944</td>\n",
       "      <td>5.257781</td>\n",
       "      <td>69.266198</td>\n",
       "      <td>2.224930</td>\n",
       "      <td>10.462676</td>\n",
       "      <td>0.927452</td>\n",
       "      <td>16.634514</td>\n",
       "    </tr>\n",
       "    <tr>\n",
       "      <th>2</th>\n",
       "      <td>2016-01-15 02:00:00</td>\n",
       "      <td>6.362222</td>\n",
       "      <td>6.116455</td>\n",
       "      <td>2.159622</td>\n",
       "      <td>35.971630</td>\n",
       "      <td>530.026610</td>\n",
       "      <td>57.510649</td>\n",
       "      <td>11.920603</td>\n",
       "      <td>6.197377</td>\n",
       "      <td>999.719565</td>\n",
       "      <td>...</td>\n",
       "      <td>8.842896</td>\n",
       "      <td>42.657501</td>\n",
       "      <td>6.055926</td>\n",
       "      <td>10.213995</td>\n",
       "      <td>5.383759</td>\n",
       "      <td>68.116445</td>\n",
       "      <td>2.257889</td>\n",
       "      <td>10.507046</td>\n",
       "      <td>0.953716</td>\n",
       "      <td>16.208849</td>\n",
       "    </tr>\n",
       "    <tr>\n",
       "      <th>3</th>\n",
       "      <td>2016-01-15 03:00:00</td>\n",
       "      <td>6.118189</td>\n",
       "      <td>6.043309</td>\n",
       "      <td>2.037807</td>\n",
       "      <td>36.862241</td>\n",
       "      <td>542.590390</td>\n",
       "      <td>57.792734</td>\n",
       "      <td>11.630094</td>\n",
       "      <td>6.203177</td>\n",
       "      <td>999.814770</td>\n",
       "      <td>...</td>\n",
       "      <td>9.122857</td>\n",
       "      <td>42.689819</td>\n",
       "      <td>6.047977</td>\n",
       "      <td>9.977019</td>\n",
       "      <td>4.858634</td>\n",
       "      <td>68.347543</td>\n",
       "      <td>2.146849</td>\n",
       "      <td>10.422762</td>\n",
       "      <td>0.883763</td>\n",
       "      <td>16.532835</td>\n",
       "    </tr>\n",
       "    <tr>\n",
       "      <th>4</th>\n",
       "      <td>2016-01-15 04:00:00</td>\n",
       "      <td>5.663707</td>\n",
       "      <td>6.060915</td>\n",
       "      <td>1.786875</td>\n",
       "      <td>34.347666</td>\n",
       "      <td>540.531893</td>\n",
       "      <td>56.047189</td>\n",
       "      <td>10.957755</td>\n",
       "      <td>6.198826</td>\n",
       "      <td>999.678690</td>\n",
       "      <td>...</td>\n",
       "      <td>8.871028</td>\n",
       "      <td>42.774141</td>\n",
       "      <td>6.148599</td>\n",
       "      <td>10.142511</td>\n",
       "      <td>4.939416</td>\n",
       "      <td>66.927016</td>\n",
       "      <td>2.055292</td>\n",
       "      <td>10.360302</td>\n",
       "      <td>0.792826</td>\n",
       "      <td>16.525686</td>\n",
       "    </tr>\n",
       "  </tbody>\n",
       "</table>\n",
       "<p>5 rows × 87 columns</p>\n",
       "</div>"
      ],
      "text/plain": [
       "                  date  rougher.input.feed_au  rougher.input.feed_ag  \\\n",
       "0  2016-01-15 00:00:00               6.486150               6.100378   \n",
       "1  2016-01-15 01:00:00               6.478583               6.161113   \n",
       "2  2016-01-15 02:00:00               6.362222               6.116455   \n",
       "3  2016-01-15 03:00:00               6.118189               6.043309   \n",
       "4  2016-01-15 04:00:00               5.663707               6.060915   \n",
       "\n",
       "   rougher.input.feed_pb  rougher.input.feed_sol  rougher.input.feed_rate  \\\n",
       "0               2.284912               36.808594               523.546326   \n",
       "1               2.266033               35.753385               525.290581   \n",
       "2               2.159622               35.971630               530.026610   \n",
       "3               2.037807               36.862241               542.590390   \n",
       "4               1.786875               34.347666               540.531893   \n",
       "\n",
       "   rougher.input.feed_size  rougher.input.floatbank10_sulfate  \\\n",
       "0                55.486599                          11.986616   \n",
       "1                57.278666                          11.971193   \n",
       "2                57.510649                          11.920603   \n",
       "3                57.792734                          11.630094   \n",
       "4                56.047189                          10.957755   \n",
       "\n",
       "   rougher.input.floatbank10_xanthate  rougher.state.floatbank10_a_air  ...  \\\n",
       "0                            6.007990                       999.706909  ...   \n",
       "1                            6.005766                      1000.286398  ...   \n",
       "2                            6.197377                       999.719565  ...   \n",
       "3                            6.203177                       999.814770  ...   \n",
       "4                            6.198826                       999.678690  ...   \n",
       "\n",
       "   secondary_cleaner.output.tail_sol  final.output.concentrate_au  \\\n",
       "0                           8.764648                    42.192020   \n",
       "1                           9.001494                    42.701629   \n",
       "2                           8.842896                    42.657501   \n",
       "3                           9.122857                    42.689819   \n",
       "4                           8.871028                    42.774141   \n",
       "\n",
       "   final.output.concentrate_ag  final.output.concentrate_pb  \\\n",
       "0                     6.055403                     9.889648   \n",
       "1                     6.029369                     9.968944   \n",
       "2                     6.055926                    10.213995   \n",
       "3                     6.047977                     9.977019   \n",
       "4                     6.148599                    10.142511   \n",
       "\n",
       "   final.output.concentrate_sol  final.output.recovery  final.output.tail_au  \\\n",
       "0                      5.507324              70.541216              2.143149   \n",
       "1                      5.257781              69.266198              2.224930   \n",
       "2                      5.383759              68.116445              2.257889   \n",
       "3                      4.858634              68.347543              2.146849   \n",
       "4                      4.939416              66.927016              2.055292   \n",
       "\n",
       "   final.output.tail_ag  final.output.tail_pb  final.output.tail_sol  \n",
       "0             10.411962              0.895447              16.904297  \n",
       "1             10.462676              0.927452              16.634514  \n",
       "2             10.507046              0.953716              16.208849  \n",
       "3             10.422762              0.883763              16.532835  \n",
       "4             10.360302              0.792826              16.525686  \n",
       "\n",
       "[5 rows x 87 columns]"
      ]
     },
     "execution_count": 7,
     "metadata": {},
     "output_type": "execute_result"
    }
   ],
   "source": [
    "data_train.head()"
   ]
  },
  {
   "cell_type": "code",
   "execution_count": 8,
   "metadata": {},
   "outputs": [
    {
     "data": {
      "text/html": [
       "<div>\n",
       "<style scoped>\n",
       "    .dataframe tbody tr th:only-of-type {\n",
       "        vertical-align: middle;\n",
       "    }\n",
       "\n",
       "    .dataframe tbody tr th {\n",
       "        vertical-align: top;\n",
       "    }\n",
       "\n",
       "    .dataframe thead th {\n",
       "        text-align: right;\n",
       "    }\n",
       "</style>\n",
       "<table border=\"1\" class=\"dataframe\">\n",
       "  <thead>\n",
       "    <tr style=\"text-align: right;\">\n",
       "      <th></th>\n",
       "      <th>date</th>\n",
       "      <th>rougher.input.feed_au</th>\n",
       "      <th>rougher.input.feed_ag</th>\n",
       "      <th>rougher.input.feed_pb</th>\n",
       "      <th>rougher.input.feed_sol</th>\n",
       "      <th>rougher.input.feed_rate</th>\n",
       "      <th>rougher.input.feed_size</th>\n",
       "      <th>rougher.input.floatbank10_sulfate</th>\n",
       "      <th>rougher.input.floatbank10_xanthate</th>\n",
       "      <th>rougher.state.floatbank10_a_air</th>\n",
       "      <th>...</th>\n",
       "      <th>secondary_cleaner.state.floatbank4_a_air</th>\n",
       "      <th>secondary_cleaner.state.floatbank4_a_level</th>\n",
       "      <th>secondary_cleaner.state.floatbank4_b_air</th>\n",
       "      <th>secondary_cleaner.state.floatbank4_b_level</th>\n",
       "      <th>secondary_cleaner.state.floatbank5_a_air</th>\n",
       "      <th>secondary_cleaner.state.floatbank5_a_level</th>\n",
       "      <th>secondary_cleaner.state.floatbank5_b_air</th>\n",
       "      <th>secondary_cleaner.state.floatbank5_b_level</th>\n",
       "      <th>secondary_cleaner.state.floatbank6_a_air</th>\n",
       "      <th>secondary_cleaner.state.floatbank6_a_level</th>\n",
       "    </tr>\n",
       "  </thead>\n",
       "  <tbody>\n",
       "    <tr>\n",
       "      <th>0</th>\n",
       "      <td>2017-12-09 14:59:59</td>\n",
       "      <td>4.365491</td>\n",
       "      <td>6.158718</td>\n",
       "      <td>3.875727</td>\n",
       "      <td>39.135119</td>\n",
       "      <td>555.820208</td>\n",
       "      <td>94.544358</td>\n",
       "      <td>6.146982</td>\n",
       "      <td>9.308612</td>\n",
       "      <td>1196.238112</td>\n",
       "      <td>...</td>\n",
       "      <td>23.018622</td>\n",
       "      <td>-500.492702</td>\n",
       "      <td>20.020205</td>\n",
       "      <td>-500.220296</td>\n",
       "      <td>17.963512</td>\n",
       "      <td>-499.939490</td>\n",
       "      <td>12.990306</td>\n",
       "      <td>-500.080993</td>\n",
       "      <td>19.990336</td>\n",
       "      <td>-499.191575</td>\n",
       "    </tr>\n",
       "    <tr>\n",
       "      <th>1</th>\n",
       "      <td>2017-12-09 15:59:59</td>\n",
       "      <td>4.362781</td>\n",
       "      <td>6.048130</td>\n",
       "      <td>3.902537</td>\n",
       "      <td>39.713906</td>\n",
       "      <td>544.731687</td>\n",
       "      <td>123.742430</td>\n",
       "      <td>6.210119</td>\n",
       "      <td>9.297709</td>\n",
       "      <td>1201.904177</td>\n",
       "      <td>...</td>\n",
       "      <td>23.024963</td>\n",
       "      <td>-501.153409</td>\n",
       "      <td>20.054122</td>\n",
       "      <td>-500.314711</td>\n",
       "      <td>17.979515</td>\n",
       "      <td>-499.272871</td>\n",
       "      <td>12.992404</td>\n",
       "      <td>-499.976268</td>\n",
       "      <td>20.013986</td>\n",
       "      <td>-500.625471</td>\n",
       "    </tr>\n",
       "    <tr>\n",
       "      <th>2</th>\n",
       "      <td>2017-12-09 16:59:59</td>\n",
       "      <td>5.081681</td>\n",
       "      <td>6.082745</td>\n",
       "      <td>4.564078</td>\n",
       "      <td>37.208683</td>\n",
       "      <td>558.155110</td>\n",
       "      <td>82.610855</td>\n",
       "      <td>7.363824</td>\n",
       "      <td>9.003562</td>\n",
       "      <td>1200.826926</td>\n",
       "      <td>...</td>\n",
       "      <td>22.993827</td>\n",
       "      <td>-501.559663</td>\n",
       "      <td>20.029144</td>\n",
       "      <td>-500.000662</td>\n",
       "      <td>18.012723</td>\n",
       "      <td>-500.024764</td>\n",
       "      <td>13.016445</td>\n",
       "      <td>-500.058432</td>\n",
       "      <td>19.973767</td>\n",
       "      <td>-501.394155</td>\n",
       "    </tr>\n",
       "    <tr>\n",
       "      <th>3</th>\n",
       "      <td>2017-12-09 17:59:59</td>\n",
       "      <td>5.145949</td>\n",
       "      <td>6.084374</td>\n",
       "      <td>4.768124</td>\n",
       "      <td>36.808874</td>\n",
       "      <td>539.713765</td>\n",
       "      <td>77.984784</td>\n",
       "      <td>6.927072</td>\n",
       "      <td>8.955597</td>\n",
       "      <td>1199.292489</td>\n",
       "      <td>...</td>\n",
       "      <td>23.032807</td>\n",
       "      <td>-501.287889</td>\n",
       "      <td>19.977466</td>\n",
       "      <td>-500.159903</td>\n",
       "      <td>17.980463</td>\n",
       "      <td>-500.504602</td>\n",
       "      <td>12.949071</td>\n",
       "      <td>-500.009937</td>\n",
       "      <td>20.010332</td>\n",
       "      <td>-508.337973</td>\n",
       "    </tr>\n",
       "    <tr>\n",
       "      <th>4</th>\n",
       "      <td>2017-12-09 18:59:59</td>\n",
       "      <td>5.735249</td>\n",
       "      <td>6.165220</td>\n",
       "      <td>4.512346</td>\n",
       "      <td>37.810642</td>\n",
       "      <td>558.713584</td>\n",
       "      <td>86.434874</td>\n",
       "      <td>7.823471</td>\n",
       "      <td>7.490356</td>\n",
       "      <td>1198.005449</td>\n",
       "      <td>...</td>\n",
       "      <td>23.001911</td>\n",
       "      <td>-499.947838</td>\n",
       "      <td>20.023735</td>\n",
       "      <td>-499.713680</td>\n",
       "      <td>17.990955</td>\n",
       "      <td>-500.334769</td>\n",
       "      <td>13.007523</td>\n",
       "      <td>-499.968459</td>\n",
       "      <td>19.995999</td>\n",
       "      <td>-499.788805</td>\n",
       "    </tr>\n",
       "  </tbody>\n",
       "</table>\n",
       "<p>5 rows × 53 columns</p>\n",
       "</div>"
      ],
      "text/plain": [
       "                  date  rougher.input.feed_au  rougher.input.feed_ag  \\\n",
       "0  2017-12-09 14:59:59               4.365491               6.158718   \n",
       "1  2017-12-09 15:59:59               4.362781               6.048130   \n",
       "2  2017-12-09 16:59:59               5.081681               6.082745   \n",
       "3  2017-12-09 17:59:59               5.145949               6.084374   \n",
       "4  2017-12-09 18:59:59               5.735249               6.165220   \n",
       "\n",
       "   rougher.input.feed_pb  rougher.input.feed_sol  rougher.input.feed_rate  \\\n",
       "0               3.875727               39.135119               555.820208   \n",
       "1               3.902537               39.713906               544.731687   \n",
       "2               4.564078               37.208683               558.155110   \n",
       "3               4.768124               36.808874               539.713765   \n",
       "4               4.512346               37.810642               558.713584   \n",
       "\n",
       "   rougher.input.feed_size  rougher.input.floatbank10_sulfate  \\\n",
       "0                94.544358                           6.146982   \n",
       "1               123.742430                           6.210119   \n",
       "2                82.610855                           7.363824   \n",
       "3                77.984784                           6.927072   \n",
       "4                86.434874                           7.823471   \n",
       "\n",
       "   rougher.input.floatbank10_xanthate  rougher.state.floatbank10_a_air  ...  \\\n",
       "0                            9.308612                      1196.238112  ...   \n",
       "1                            9.297709                      1201.904177  ...   \n",
       "2                            9.003562                      1200.826926  ...   \n",
       "3                            8.955597                      1199.292489  ...   \n",
       "4                            7.490356                      1198.005449  ...   \n",
       "\n",
       "   secondary_cleaner.state.floatbank4_a_air  \\\n",
       "0                                 23.018622   \n",
       "1                                 23.024963   \n",
       "2                                 22.993827   \n",
       "3                                 23.032807   \n",
       "4                                 23.001911   \n",
       "\n",
       "   secondary_cleaner.state.floatbank4_a_level  \\\n",
       "0                                 -500.492702   \n",
       "1                                 -501.153409   \n",
       "2                                 -501.559663   \n",
       "3                                 -501.287889   \n",
       "4                                 -499.947838   \n",
       "\n",
       "   secondary_cleaner.state.floatbank4_b_air  \\\n",
       "0                                 20.020205   \n",
       "1                                 20.054122   \n",
       "2                                 20.029144   \n",
       "3                                 19.977466   \n",
       "4                                 20.023735   \n",
       "\n",
       "   secondary_cleaner.state.floatbank4_b_level  \\\n",
       "0                                 -500.220296   \n",
       "1                                 -500.314711   \n",
       "2                                 -500.000662   \n",
       "3                                 -500.159903   \n",
       "4                                 -499.713680   \n",
       "\n",
       "   secondary_cleaner.state.floatbank5_a_air  \\\n",
       "0                                 17.963512   \n",
       "1                                 17.979515   \n",
       "2                                 18.012723   \n",
       "3                                 17.980463   \n",
       "4                                 17.990955   \n",
       "\n",
       "   secondary_cleaner.state.floatbank5_a_level  \\\n",
       "0                                 -499.939490   \n",
       "1                                 -499.272871   \n",
       "2                                 -500.024764   \n",
       "3                                 -500.504602   \n",
       "4                                 -500.334769   \n",
       "\n",
       "   secondary_cleaner.state.floatbank5_b_air  \\\n",
       "0                                 12.990306   \n",
       "1                                 12.992404   \n",
       "2                                 13.016445   \n",
       "3                                 12.949071   \n",
       "4                                 13.007523   \n",
       "\n",
       "   secondary_cleaner.state.floatbank5_b_level  \\\n",
       "0                                 -500.080993   \n",
       "1                                 -499.976268   \n",
       "2                                 -500.058432   \n",
       "3                                 -500.009937   \n",
       "4                                 -499.968459   \n",
       "\n",
       "   secondary_cleaner.state.floatbank6_a_air  \\\n",
       "0                                 19.990336   \n",
       "1                                 20.013986   \n",
       "2                                 19.973767   \n",
       "3                                 20.010332   \n",
       "4                                 19.995999   \n",
       "\n",
       "   secondary_cleaner.state.floatbank6_a_level  \n",
       "0                                 -499.191575  \n",
       "1                                 -500.625471  \n",
       "2                                 -501.394155  \n",
       "3                                 -508.337973  \n",
       "4                                 -499.788805  \n",
       "\n",
       "[5 rows x 53 columns]"
      ]
     },
     "execution_count": 8,
     "metadata": {},
     "output_type": "execute_result"
    }
   ],
   "source": [
    "data_test.head()"
   ]
  },
  {
   "cell_type": "code",
   "execution_count": 9,
   "metadata": {},
   "outputs": [
    {
     "data": {
      "text/plain": [
       "(19439, 87)"
      ]
     },
     "execution_count": 9,
     "metadata": {},
     "output_type": "execute_result"
    }
   ],
   "source": [
    "data_full.shape"
   ]
  },
  {
   "cell_type": "code",
   "execution_count": 10,
   "metadata": {},
   "outputs": [
    {
     "data": {
      "text/plain": [
       "(14579, 87)"
      ]
     },
     "execution_count": 10,
     "metadata": {},
     "output_type": "execute_result"
    }
   ],
   "source": [
    "data_train.shape"
   ]
  },
  {
   "cell_type": "code",
   "execution_count": 11,
   "metadata": {},
   "outputs": [
    {
     "data": {
      "text/plain": [
       "(4860, 53)"
      ]
     },
     "execution_count": 11,
     "metadata": {},
     "output_type": "execute_result"
    }
   ],
   "source": [
    "data_test.shape"
   ]
  },
  {
   "cell_type": "markdown",
   "metadata": {},
   "source": [
    "Исходные данные 19439 строк и 87 столбцов, обучающая выборка состоит из 14579 строк и 87 столбцов.\n",
    "в тестовой выборке 4860 строк но 53 столбца, на 34 столбца меньше чем в других данных.\n",
    "Если по количество строк все сходится то в столбцах явное различие присутствует, ниже попробуем разобрать какие столбцы отсутсвуют.\n",
    "\n",
    "В каждом датасете присутсвую пропуски, об этом говорилось в условии что \"Некоторые параметры недоступны, потому что замеряются и/или рассчитываются значительно позже.\"\n",
    "\n",
    "все значения в столбцах имееют формат float64, и только data - object"
   ]
  },
  {
   "cell_type": "code",
   "execution_count": 12,
   "metadata": {},
   "outputs": [
    {
     "data": {
      "text/html": [
       "<div>\n",
       "<style scoped>\n",
       "    .dataframe tbody tr th:only-of-type {\n",
       "        vertical-align: middle;\n",
       "    }\n",
       "\n",
       "    .dataframe tbody tr th {\n",
       "        vertical-align: top;\n",
       "    }\n",
       "\n",
       "    .dataframe thead th {\n",
       "        text-align: right;\n",
       "    }\n",
       "</style>\n",
       "<table border=\"1\" class=\"dataframe\">\n",
       "  <thead>\n",
       "    <tr style=\"text-align: right;\">\n",
       "      <th></th>\n",
       "      <th>rougher.input.feed_au</th>\n",
       "      <th>rougher.input.feed_ag</th>\n",
       "      <th>rougher.input.feed_pb</th>\n",
       "      <th>rougher.input.feed_sol</th>\n",
       "      <th>rougher.input.feed_rate</th>\n",
       "      <th>rougher.input.feed_size</th>\n",
       "      <th>rougher.input.floatbank10_sulfate</th>\n",
       "      <th>rougher.input.floatbank10_xanthate</th>\n",
       "      <th>rougher.state.floatbank10_a_air</th>\n",
       "      <th>rougher.state.floatbank10_a_level</th>\n",
       "      <th>...</th>\n",
       "      <th>secondary_cleaner.output.tail_sol</th>\n",
       "      <th>final.output.concentrate_au</th>\n",
       "      <th>final.output.concentrate_ag</th>\n",
       "      <th>final.output.concentrate_pb</th>\n",
       "      <th>final.output.concentrate_sol</th>\n",
       "      <th>final.output.recovery</th>\n",
       "      <th>final.output.tail_au</th>\n",
       "      <th>final.output.tail_ag</th>\n",
       "      <th>final.output.tail_pb</th>\n",
       "      <th>final.output.tail_sol</th>\n",
       "    </tr>\n",
       "  </thead>\n",
       "  <tbody>\n",
       "    <tr>\n",
       "      <th>count</th>\n",
       "      <td>19439.000000</td>\n",
       "      <td>19439.000000</td>\n",
       "      <td>19339.000000</td>\n",
       "      <td>19340.000000</td>\n",
       "      <td>19428.000000</td>\n",
       "      <td>19294.000000</td>\n",
       "      <td>19405.000000</td>\n",
       "      <td>19431.000000</td>\n",
       "      <td>19438.000000</td>\n",
       "      <td>19438.000000</td>\n",
       "      <td>...</td>\n",
       "      <td>17691.000000</td>\n",
       "      <td>19439.000000</td>\n",
       "      <td>19438.000000</td>\n",
       "      <td>19438.000000</td>\n",
       "      <td>19228.000000</td>\n",
       "      <td>19439.000000</td>\n",
       "      <td>19439.000000</td>\n",
       "      <td>19438.000000</td>\n",
       "      <td>19338.000000</td>\n",
       "      <td>19433.000000</td>\n",
       "    </tr>\n",
       "    <tr>\n",
       "      <th>mean</th>\n",
       "      <td>8.266097</td>\n",
       "      <td>8.794927</td>\n",
       "      <td>3.598085</td>\n",
       "      <td>36.695114</td>\n",
       "      <td>478.320042</td>\n",
       "      <td>58.970310</td>\n",
       "      <td>12.334373</td>\n",
       "      <td>6.021474</td>\n",
       "      <td>1105.315068</td>\n",
       "      <td>-376.610690</td>\n",
       "      <td>...</td>\n",
       "      <td>7.167247</td>\n",
       "      <td>44.076513</td>\n",
       "      <td>5.168470</td>\n",
       "      <td>9.978895</td>\n",
       "      <td>9.501224</td>\n",
       "      <td>67.050208</td>\n",
       "      <td>3.042467</td>\n",
       "      <td>9.688589</td>\n",
       "      <td>2.705795</td>\n",
       "      <td>10.583728</td>\n",
       "    </tr>\n",
       "    <tr>\n",
       "      <th>std</th>\n",
       "      <td>1.955092</td>\n",
       "      <td>1.936847</td>\n",
       "      <td>1.049486</td>\n",
       "      <td>5.145445</td>\n",
       "      <td>105.373758</td>\n",
       "      <td>21.634478</td>\n",
       "      <td>3.427317</td>\n",
       "      <td>1.127263</td>\n",
       "      <td>160.826798</td>\n",
       "      <td>93.909667</td>\n",
       "      <td>...</td>\n",
       "      <td>3.916079</td>\n",
       "      <td>5.129784</td>\n",
       "      <td>1.372348</td>\n",
       "      <td>1.669240</td>\n",
       "      <td>2.787537</td>\n",
       "      <td>10.125840</td>\n",
       "      <td>0.922808</td>\n",
       "      <td>2.328642</td>\n",
       "      <td>0.949077</td>\n",
       "      <td>2.868782</td>\n",
       "    </tr>\n",
       "    <tr>\n",
       "      <th>min</th>\n",
       "      <td>0.010000</td>\n",
       "      <td>0.010000</td>\n",
       "      <td>0.010000</td>\n",
       "      <td>0.010000</td>\n",
       "      <td>0.002986</td>\n",
       "      <td>0.046369</td>\n",
       "      <td>0.001083</td>\n",
       "      <td>0.000568</td>\n",
       "      <td>-0.042069</td>\n",
       "      <td>-657.949759</td>\n",
       "      <td>...</td>\n",
       "      <td>0.000000</td>\n",
       "      <td>0.000000</td>\n",
       "      <td>0.000000</td>\n",
       "      <td>0.000000</td>\n",
       "      <td>0.000000</td>\n",
       "      <td>0.000000</td>\n",
       "      <td>0.000000</td>\n",
       "      <td>0.000000</td>\n",
       "      <td>0.000000</td>\n",
       "      <td>0.000000</td>\n",
       "    </tr>\n",
       "    <tr>\n",
       "      <th>25%</th>\n",
       "      <td>6.854384</td>\n",
       "      <td>7.237967</td>\n",
       "      <td>2.887280</td>\n",
       "      <td>34.207799</td>\n",
       "      <td>416.525453</td>\n",
       "      <td>47.435103</td>\n",
       "      <td>10.000362</td>\n",
       "      <td>5.398678</td>\n",
       "      <td>999.661867</td>\n",
       "      <td>-499.835165</td>\n",
       "      <td>...</td>\n",
       "      <td>3.845475</td>\n",
       "      <td>43.402215</td>\n",
       "      <td>4.251240</td>\n",
       "      <td>9.137262</td>\n",
       "      <td>7.722820</td>\n",
       "      <td>63.299712</td>\n",
       "      <td>2.461138</td>\n",
       "      <td>8.062878</td>\n",
       "      <td>2.040119</td>\n",
       "      <td>8.938947</td>\n",
       "    </tr>\n",
       "    <tr>\n",
       "      <th>50%</th>\n",
       "      <td>8.125839</td>\n",
       "      <td>8.593574</td>\n",
       "      <td>3.534895</td>\n",
       "      <td>37.202650</td>\n",
       "      <td>499.416120</td>\n",
       "      <td>54.610197</td>\n",
       "      <td>12.001174</td>\n",
       "      <td>6.008273</td>\n",
       "      <td>1001.072890</td>\n",
       "      <td>-300.263994</td>\n",
       "      <td>...</td>\n",
       "      <td>7.685827</td>\n",
       "      <td>45.011244</td>\n",
       "      <td>5.066094</td>\n",
       "      <td>10.102433</td>\n",
       "      <td>9.218961</td>\n",
       "      <td>68.172738</td>\n",
       "      <td>2.984909</td>\n",
       "      <td>9.743623</td>\n",
       "      <td>2.748730</td>\n",
       "      <td>10.622456</td>\n",
       "    </tr>\n",
       "    <tr>\n",
       "      <th>75%</th>\n",
       "      <td>9.769917</td>\n",
       "      <td>10.213771</td>\n",
       "      <td>4.244161</td>\n",
       "      <td>40.039133</td>\n",
       "      <td>550.172183</td>\n",
       "      <td>65.023044</td>\n",
       "      <td>14.716595</td>\n",
       "      <td>6.798051</td>\n",
       "      <td>1205.620588</td>\n",
       "      <td>-299.981998</td>\n",
       "      <td>...</td>\n",
       "      <td>10.411296</td>\n",
       "      <td>46.275313</td>\n",
       "      <td>5.895527</td>\n",
       "      <td>11.035769</td>\n",
       "      <td>10.947813</td>\n",
       "      <td>72.686642</td>\n",
       "      <td>3.571351</td>\n",
       "      <td>11.134294</td>\n",
       "      <td>3.333216</td>\n",
       "      <td>12.104271</td>\n",
       "    </tr>\n",
       "    <tr>\n",
       "      <th>max</th>\n",
       "      <td>13.731330</td>\n",
       "      <td>14.596026</td>\n",
       "      <td>7.142594</td>\n",
       "      <td>53.477742</td>\n",
       "      <td>717.508837</td>\n",
       "      <td>484.967466</td>\n",
       "      <td>36.118275</td>\n",
       "      <td>9.703448</td>\n",
       "      <td>1521.980372</td>\n",
       "      <td>-273.776101</td>\n",
       "      <td>...</td>\n",
       "      <td>26.000772</td>\n",
       "      <td>52.756638</td>\n",
       "      <td>16.001945</td>\n",
       "      <td>17.031899</td>\n",
       "      <td>19.615720</td>\n",
       "      <td>100.000000</td>\n",
       "      <td>8.245022</td>\n",
       "      <td>19.552149</td>\n",
       "      <td>5.804178</td>\n",
       "      <td>22.317730</td>\n",
       "    </tr>\n",
       "  </tbody>\n",
       "</table>\n",
       "<p>8 rows × 86 columns</p>\n",
       "</div>"
      ],
      "text/plain": [
       "       rougher.input.feed_au  rougher.input.feed_ag  rougher.input.feed_pb  \\\n",
       "count           19439.000000           19439.000000           19339.000000   \n",
       "mean                8.266097               8.794927               3.598085   \n",
       "std                 1.955092               1.936847               1.049486   \n",
       "min                 0.010000               0.010000               0.010000   \n",
       "25%                 6.854384               7.237967               2.887280   \n",
       "50%                 8.125839               8.593574               3.534895   \n",
       "75%                 9.769917              10.213771               4.244161   \n",
       "max                13.731330              14.596026               7.142594   \n",
       "\n",
       "       rougher.input.feed_sol  rougher.input.feed_rate  \\\n",
       "count            19340.000000             19428.000000   \n",
       "mean                36.695114               478.320042   \n",
       "std                  5.145445               105.373758   \n",
       "min                  0.010000                 0.002986   \n",
       "25%                 34.207799               416.525453   \n",
       "50%                 37.202650               499.416120   \n",
       "75%                 40.039133               550.172183   \n",
       "max                 53.477742               717.508837   \n",
       "\n",
       "       rougher.input.feed_size  rougher.input.floatbank10_sulfate  \\\n",
       "count             19294.000000                       19405.000000   \n",
       "mean                 58.970310                          12.334373   \n",
       "std                  21.634478                           3.427317   \n",
       "min                   0.046369                           0.001083   \n",
       "25%                  47.435103                          10.000362   \n",
       "50%                  54.610197                          12.001174   \n",
       "75%                  65.023044                          14.716595   \n",
       "max                 484.967466                          36.118275   \n",
       "\n",
       "       rougher.input.floatbank10_xanthate  rougher.state.floatbank10_a_air  \\\n",
       "count                        19431.000000                     19438.000000   \n",
       "mean                             6.021474                      1105.315068   \n",
       "std                              1.127263                       160.826798   \n",
       "min                              0.000568                        -0.042069   \n",
       "25%                              5.398678                       999.661867   \n",
       "50%                              6.008273                      1001.072890   \n",
       "75%                              6.798051                      1205.620588   \n",
       "max                              9.703448                      1521.980372   \n",
       "\n",
       "       rougher.state.floatbank10_a_level  ...  \\\n",
       "count                       19438.000000  ...   \n",
       "mean                         -376.610690  ...   \n",
       "std                            93.909667  ...   \n",
       "min                          -657.949759  ...   \n",
       "25%                          -499.835165  ...   \n",
       "50%                          -300.263994  ...   \n",
       "75%                          -299.981998  ...   \n",
       "max                          -273.776101  ...   \n",
       "\n",
       "       secondary_cleaner.output.tail_sol  final.output.concentrate_au  \\\n",
       "count                       17691.000000                 19439.000000   \n",
       "mean                            7.167247                    44.076513   \n",
       "std                             3.916079                     5.129784   \n",
       "min                             0.000000                     0.000000   \n",
       "25%                             3.845475                    43.402215   \n",
       "50%                             7.685827                    45.011244   \n",
       "75%                            10.411296                    46.275313   \n",
       "max                            26.000772                    52.756638   \n",
       "\n",
       "       final.output.concentrate_ag  final.output.concentrate_pb  \\\n",
       "count                 19438.000000                 19438.000000   \n",
       "mean                      5.168470                     9.978895   \n",
       "std                       1.372348                     1.669240   \n",
       "min                       0.000000                     0.000000   \n",
       "25%                       4.251240                     9.137262   \n",
       "50%                       5.066094                    10.102433   \n",
       "75%                       5.895527                    11.035769   \n",
       "max                      16.001945                    17.031899   \n",
       "\n",
       "       final.output.concentrate_sol  final.output.recovery  \\\n",
       "count                  19228.000000           19439.000000   \n",
       "mean                       9.501224              67.050208   \n",
       "std                        2.787537              10.125840   \n",
       "min                        0.000000               0.000000   \n",
       "25%                        7.722820              63.299712   \n",
       "50%                        9.218961              68.172738   \n",
       "75%                       10.947813              72.686642   \n",
       "max                       19.615720             100.000000   \n",
       "\n",
       "       final.output.tail_au  final.output.tail_ag  final.output.tail_pb  \\\n",
       "count          19439.000000          19438.000000          19338.000000   \n",
       "mean               3.042467              9.688589              2.705795   \n",
       "std                0.922808              2.328642              0.949077   \n",
       "min                0.000000              0.000000              0.000000   \n",
       "25%                2.461138              8.062878              2.040119   \n",
       "50%                2.984909              9.743623              2.748730   \n",
       "75%                3.571351             11.134294              3.333216   \n",
       "max                8.245022             19.552149              5.804178   \n",
       "\n",
       "       final.output.tail_sol  \n",
       "count           19433.000000  \n",
       "mean               10.583728  \n",
       "std                 2.868782  \n",
       "min                 0.000000  \n",
       "25%                 8.938947  \n",
       "50%                10.622456  \n",
       "75%                12.104271  \n",
       "max                22.317730  \n",
       "\n",
       "[8 rows x 86 columns]"
      ]
     },
     "execution_count": 12,
     "metadata": {},
     "output_type": "execute_result"
    }
   ],
   "source": [
    "data_full.describe()"
   ]
  },
  {
   "cell_type": "code",
   "execution_count": 13,
   "metadata": {},
   "outputs": [
    {
     "data": {
      "text/html": [
       "<div>\n",
       "<style scoped>\n",
       "    .dataframe tbody tr th:only-of-type {\n",
       "        vertical-align: middle;\n",
       "    }\n",
       "\n",
       "    .dataframe tbody tr th {\n",
       "        vertical-align: top;\n",
       "    }\n",
       "\n",
       "    .dataframe thead th {\n",
       "        text-align: right;\n",
       "    }\n",
       "</style>\n",
       "<table border=\"1\" class=\"dataframe\">\n",
       "  <thead>\n",
       "    <tr style=\"text-align: right;\">\n",
       "      <th></th>\n",
       "      <th>rougher.input.feed_au</th>\n",
       "      <th>rougher.input.feed_ag</th>\n",
       "      <th>rougher.input.feed_pb</th>\n",
       "      <th>rougher.input.feed_sol</th>\n",
       "      <th>rougher.input.feed_rate</th>\n",
       "      <th>rougher.input.feed_size</th>\n",
       "      <th>rougher.input.floatbank10_sulfate</th>\n",
       "      <th>rougher.input.floatbank10_xanthate</th>\n",
       "      <th>rougher.state.floatbank10_a_air</th>\n",
       "      <th>rougher.state.floatbank10_a_level</th>\n",
       "      <th>...</th>\n",
       "      <th>secondary_cleaner.output.tail_sol</th>\n",
       "      <th>final.output.concentrate_au</th>\n",
       "      <th>final.output.concentrate_ag</th>\n",
       "      <th>final.output.concentrate_pb</th>\n",
       "      <th>final.output.concentrate_sol</th>\n",
       "      <th>final.output.recovery</th>\n",
       "      <th>final.output.tail_au</th>\n",
       "      <th>final.output.tail_ag</th>\n",
       "      <th>final.output.tail_pb</th>\n",
       "      <th>final.output.tail_sol</th>\n",
       "    </tr>\n",
       "  </thead>\n",
       "  <tbody>\n",
       "    <tr>\n",
       "      <th>count</th>\n",
       "      <td>14579.000000</td>\n",
       "      <td>14579.000000</td>\n",
       "      <td>14507.000000</td>\n",
       "      <td>14502.000000</td>\n",
       "      <td>14572.000000</td>\n",
       "      <td>14478.000000</td>\n",
       "      <td>14548.000000</td>\n",
       "      <td>14572.000000</td>\n",
       "      <td>14579.000000</td>\n",
       "      <td>14579.000000</td>\n",
       "      <td>...</td>\n",
       "      <td>13659.000000</td>\n",
       "      <td>14579.000000</td>\n",
       "      <td>14578.000000</td>\n",
       "      <td>14578.000000</td>\n",
       "      <td>14387.000000</td>\n",
       "      <td>14579.000000</td>\n",
       "      <td>14579.000000</td>\n",
       "      <td>14578.000000</td>\n",
       "      <td>14504.000000</td>\n",
       "      <td>14574.000000</td>\n",
       "    </tr>\n",
       "    <tr>\n",
       "      <th>mean</th>\n",
       "      <td>8.352941</td>\n",
       "      <td>8.877460</td>\n",
       "      <td>3.604221</td>\n",
       "      <td>36.561420</td>\n",
       "      <td>474.332784</td>\n",
       "      <td>58.922712</td>\n",
       "      <td>12.427399</td>\n",
       "      <td>5.994854</td>\n",
       "      <td>1104.208278</td>\n",
       "      <td>-379.367166</td>\n",
       "      <td>...</td>\n",
       "      <td>7.111347</td>\n",
       "      <td>43.979499</td>\n",
       "      <td>5.192145</td>\n",
       "      <td>9.923809</td>\n",
       "      <td>9.566676</td>\n",
       "      <td>66.759066</td>\n",
       "      <td>3.087939</td>\n",
       "      <td>9.731972</td>\n",
       "      <td>2.719985</td>\n",
       "      <td>10.612745</td>\n",
       "    </tr>\n",
       "    <tr>\n",
       "      <th>std</th>\n",
       "      <td>1.934376</td>\n",
       "      <td>1.922536</td>\n",
       "      <td>1.056063</td>\n",
       "      <td>5.209823</td>\n",
       "      <td>108.503552</td>\n",
       "      <td>22.407410</td>\n",
       "      <td>3.428939</td>\n",
       "      <td>1.152873</td>\n",
       "      <td>162.235606</td>\n",
       "      <td>94.652311</td>\n",
       "      <td>...</td>\n",
       "      <td>3.909951</td>\n",
       "      <td>5.471437</td>\n",
       "      <td>1.388014</td>\n",
       "      <td>1.706976</td>\n",
       "      <td>2.805654</td>\n",
       "      <td>10.619709</td>\n",
       "      <td>0.915187</td>\n",
       "      <td>2.358143</td>\n",
       "      <td>0.958929</td>\n",
       "      <td>2.871075</td>\n",
       "    </tr>\n",
       "    <tr>\n",
       "      <th>min</th>\n",
       "      <td>0.010000</td>\n",
       "      <td>0.010000</td>\n",
       "      <td>0.010000</td>\n",
       "      <td>0.010000</td>\n",
       "      <td>0.002986</td>\n",
       "      <td>0.049194</td>\n",
       "      <td>0.001083</td>\n",
       "      <td>0.000568</td>\n",
       "      <td>-0.042069</td>\n",
       "      <td>-657.949759</td>\n",
       "      <td>...</td>\n",
       "      <td>0.000000</td>\n",
       "      <td>0.000000</td>\n",
       "      <td>0.000000</td>\n",
       "      <td>0.000000</td>\n",
       "      <td>0.000000</td>\n",
       "      <td>0.000000</td>\n",
       "      <td>0.000000</td>\n",
       "      <td>0.000000</td>\n",
       "      <td>0.000000</td>\n",
       "      <td>0.000000</td>\n",
       "    </tr>\n",
       "    <tr>\n",
       "      <th>25%</th>\n",
       "      <td>6.932996</td>\n",
       "      <td>7.341922</td>\n",
       "      <td>2.880490</td>\n",
       "      <td>34.093951</td>\n",
       "      <td>411.048483</td>\n",
       "      <td>47.278490</td>\n",
       "      <td>10.002832</td>\n",
       "      <td>5.304167</td>\n",
       "      <td>999.644856</td>\n",
       "      <td>-499.861797</td>\n",
       "      <td>...</td>\n",
       "      <td>3.784897</td>\n",
       "      <td>43.345906</td>\n",
       "      <td>4.283347</td>\n",
       "      <td>9.103183</td>\n",
       "      <td>7.860030</td>\n",
       "      <td>63.114596</td>\n",
       "      <td>2.505287</td>\n",
       "      <td>8.088928</td>\n",
       "      <td>2.036512</td>\n",
       "      <td>9.013412</td>\n",
       "    </tr>\n",
       "    <tr>\n",
       "      <th>50%</th>\n",
       "      <td>8.225284</td>\n",
       "      <td>8.715859</td>\n",
       "      <td>3.532399</td>\n",
       "      <td>37.097511</td>\n",
       "      <td>498.187968</td>\n",
       "      <td>54.361187</td>\n",
       "      <td>12.003320</td>\n",
       "      <td>6.003053</td>\n",
       "      <td>1000.982624</td>\n",
       "      <td>-300.314199</td>\n",
       "      <td>...</td>\n",
       "      <td>7.629968</td>\n",
       "      <td>44.975014</td>\n",
       "      <td>5.118647</td>\n",
       "      <td>10.046455</td>\n",
       "      <td>9.301970</td>\n",
       "      <td>67.962788</td>\n",
       "      <td>3.029238</td>\n",
       "      <td>9.818512</td>\n",
       "      <td>2.774847</td>\n",
       "      <td>10.670515</td>\n",
       "    </tr>\n",
       "    <tr>\n",
       "      <th>75%</th>\n",
       "      <td>9.832210</td>\n",
       "      <td>10.255843</td>\n",
       "      <td>4.257282</td>\n",
       "      <td>39.899799</td>\n",
       "      <td>549.586552</td>\n",
       "      <td>64.464926</td>\n",
       "      <td>14.929903</td>\n",
       "      <td>6.796632</td>\n",
       "      <td>1292.663971</td>\n",
       "      <td>-299.989315</td>\n",
       "      <td>...</td>\n",
       "      <td>10.367050</td>\n",
       "      <td>46.275153</td>\n",
       "      <td>5.925380</td>\n",
       "      <td>10.981203</td>\n",
       "      <td>11.001573</td>\n",
       "      <td>72.598187</td>\n",
       "      <td>3.614098</td>\n",
       "      <td>11.169187</td>\n",
       "      <td>3.353845</td>\n",
       "      <td>12.130827</td>\n",
       "    </tr>\n",
       "    <tr>\n",
       "      <th>max</th>\n",
       "      <td>13.731330</td>\n",
       "      <td>14.596026</td>\n",
       "      <td>7.052325</td>\n",
       "      <td>53.475325</td>\n",
       "      <td>717.508837</td>\n",
       "      <td>484.967466</td>\n",
       "      <td>36.118275</td>\n",
       "      <td>9.703448</td>\n",
       "      <td>1512.299531</td>\n",
       "      <td>-273.776101</td>\n",
       "      <td>...</td>\n",
       "      <td>26.000772</td>\n",
       "      <td>52.756638</td>\n",
       "      <td>16.001945</td>\n",
       "      <td>16.705297</td>\n",
       "      <td>19.423912</td>\n",
       "      <td>100.000000</td>\n",
       "      <td>8.245022</td>\n",
       "      <td>19.552149</td>\n",
       "      <td>5.804178</td>\n",
       "      <td>22.317730</td>\n",
       "    </tr>\n",
       "  </tbody>\n",
       "</table>\n",
       "<p>8 rows × 86 columns</p>\n",
       "</div>"
      ],
      "text/plain": [
       "       rougher.input.feed_au  rougher.input.feed_ag  rougher.input.feed_pb  \\\n",
       "count           14579.000000           14579.000000           14507.000000   \n",
       "mean                8.352941               8.877460               3.604221   \n",
       "std                 1.934376               1.922536               1.056063   \n",
       "min                 0.010000               0.010000               0.010000   \n",
       "25%                 6.932996               7.341922               2.880490   \n",
       "50%                 8.225284               8.715859               3.532399   \n",
       "75%                 9.832210              10.255843               4.257282   \n",
       "max                13.731330              14.596026               7.052325   \n",
       "\n",
       "       rougher.input.feed_sol  rougher.input.feed_rate  \\\n",
       "count            14502.000000             14572.000000   \n",
       "mean                36.561420               474.332784   \n",
       "std                  5.209823               108.503552   \n",
       "min                  0.010000                 0.002986   \n",
       "25%                 34.093951               411.048483   \n",
       "50%                 37.097511               498.187968   \n",
       "75%                 39.899799               549.586552   \n",
       "max                 53.475325               717.508837   \n",
       "\n",
       "       rougher.input.feed_size  rougher.input.floatbank10_sulfate  \\\n",
       "count             14478.000000                       14548.000000   \n",
       "mean                 58.922712                          12.427399   \n",
       "std                  22.407410                           3.428939   \n",
       "min                   0.049194                           0.001083   \n",
       "25%                  47.278490                          10.002832   \n",
       "50%                  54.361187                          12.003320   \n",
       "75%                  64.464926                          14.929903   \n",
       "max                 484.967466                          36.118275   \n",
       "\n",
       "       rougher.input.floatbank10_xanthate  rougher.state.floatbank10_a_air  \\\n",
       "count                        14572.000000                     14579.000000   \n",
       "mean                             5.994854                      1104.208278   \n",
       "std                              1.152873                       162.235606   \n",
       "min                              0.000568                        -0.042069   \n",
       "25%                              5.304167                       999.644856   \n",
       "50%                              6.003053                      1000.982624   \n",
       "75%                              6.796632                      1292.663971   \n",
       "max                              9.703448                      1512.299531   \n",
       "\n",
       "       rougher.state.floatbank10_a_level  ...  \\\n",
       "count                       14579.000000  ...   \n",
       "mean                         -379.367166  ...   \n",
       "std                            94.652311  ...   \n",
       "min                          -657.949759  ...   \n",
       "25%                          -499.861797  ...   \n",
       "50%                          -300.314199  ...   \n",
       "75%                          -299.989315  ...   \n",
       "max                          -273.776101  ...   \n",
       "\n",
       "       secondary_cleaner.output.tail_sol  final.output.concentrate_au  \\\n",
       "count                       13659.000000                 14579.000000   \n",
       "mean                            7.111347                    43.979499   \n",
       "std                             3.909951                     5.471437   \n",
       "min                             0.000000                     0.000000   \n",
       "25%                             3.784897                    43.345906   \n",
       "50%                             7.629968                    44.975014   \n",
       "75%                            10.367050                    46.275153   \n",
       "max                            26.000772                    52.756638   \n",
       "\n",
       "       final.output.concentrate_ag  final.output.concentrate_pb  \\\n",
       "count                 14578.000000                 14578.000000   \n",
       "mean                      5.192145                     9.923809   \n",
       "std                       1.388014                     1.706976   \n",
       "min                       0.000000                     0.000000   \n",
       "25%                       4.283347                     9.103183   \n",
       "50%                       5.118647                    10.046455   \n",
       "75%                       5.925380                    10.981203   \n",
       "max                      16.001945                    16.705297   \n",
       "\n",
       "       final.output.concentrate_sol  final.output.recovery  \\\n",
       "count                  14387.000000           14579.000000   \n",
       "mean                       9.566676              66.759066   \n",
       "std                        2.805654              10.619709   \n",
       "min                        0.000000               0.000000   \n",
       "25%                        7.860030              63.114596   \n",
       "50%                        9.301970              67.962788   \n",
       "75%                       11.001573              72.598187   \n",
       "max                       19.423912             100.000000   \n",
       "\n",
       "       final.output.tail_au  final.output.tail_ag  final.output.tail_pb  \\\n",
       "count          14579.000000          14578.000000          14504.000000   \n",
       "mean               3.087939              9.731972              2.719985   \n",
       "std                0.915187              2.358143              0.958929   \n",
       "min                0.000000              0.000000              0.000000   \n",
       "25%                2.505287              8.088928              2.036512   \n",
       "50%                3.029238              9.818512              2.774847   \n",
       "75%                3.614098             11.169187              3.353845   \n",
       "max                8.245022             19.552149              5.804178   \n",
       "\n",
       "       final.output.tail_sol  \n",
       "count           14574.000000  \n",
       "mean               10.612745  \n",
       "std                 2.871075  \n",
       "min                 0.000000  \n",
       "25%                 9.013412  \n",
       "50%                10.670515  \n",
       "75%                12.130827  \n",
       "max                22.317730  \n",
       "\n",
       "[8 rows x 86 columns]"
      ]
     },
     "execution_count": 13,
     "metadata": {},
     "output_type": "execute_result"
    }
   ],
   "source": [
    "data_train.describe()"
   ]
  },
  {
   "cell_type": "code",
   "execution_count": 14,
   "metadata": {},
   "outputs": [
    {
     "data": {
      "text/html": [
       "<div>\n",
       "<style scoped>\n",
       "    .dataframe tbody tr th:only-of-type {\n",
       "        vertical-align: middle;\n",
       "    }\n",
       "\n",
       "    .dataframe tbody tr th {\n",
       "        vertical-align: top;\n",
       "    }\n",
       "\n",
       "    .dataframe thead th {\n",
       "        text-align: right;\n",
       "    }\n",
       "</style>\n",
       "<table border=\"1\" class=\"dataframe\">\n",
       "  <thead>\n",
       "    <tr style=\"text-align: right;\">\n",
       "      <th></th>\n",
       "      <th>rougher.input.feed_au</th>\n",
       "      <th>rougher.input.feed_ag</th>\n",
       "      <th>rougher.input.feed_pb</th>\n",
       "      <th>rougher.input.feed_sol</th>\n",
       "      <th>rougher.input.feed_rate</th>\n",
       "      <th>rougher.input.feed_size</th>\n",
       "      <th>rougher.input.floatbank10_sulfate</th>\n",
       "      <th>rougher.input.floatbank10_xanthate</th>\n",
       "      <th>rougher.state.floatbank10_a_air</th>\n",
       "      <th>rougher.state.floatbank10_a_level</th>\n",
       "      <th>...</th>\n",
       "      <th>secondary_cleaner.state.floatbank4_a_air</th>\n",
       "      <th>secondary_cleaner.state.floatbank4_a_level</th>\n",
       "      <th>secondary_cleaner.state.floatbank4_b_air</th>\n",
       "      <th>secondary_cleaner.state.floatbank4_b_level</th>\n",
       "      <th>secondary_cleaner.state.floatbank5_a_air</th>\n",
       "      <th>secondary_cleaner.state.floatbank5_a_level</th>\n",
       "      <th>secondary_cleaner.state.floatbank5_b_air</th>\n",
       "      <th>secondary_cleaner.state.floatbank5_b_level</th>\n",
       "      <th>secondary_cleaner.state.floatbank6_a_air</th>\n",
       "      <th>secondary_cleaner.state.floatbank6_a_level</th>\n",
       "    </tr>\n",
       "  </thead>\n",
       "  <tbody>\n",
       "    <tr>\n",
       "      <th>count</th>\n",
       "      <td>4860.000000</td>\n",
       "      <td>4860.000000</td>\n",
       "      <td>4832.000000</td>\n",
       "      <td>4838.000000</td>\n",
       "      <td>4856.000000</td>\n",
       "      <td>4816.000000</td>\n",
       "      <td>4857.000000</td>\n",
       "      <td>4859.000000</td>\n",
       "      <td>4859.000000</td>\n",
       "      <td>4859.000000</td>\n",
       "      <td>...</td>\n",
       "      <td>4.859000e+03</td>\n",
       "      <td>4859.000000</td>\n",
       "      <td>4.859000e+03</td>\n",
       "      <td>4859.000000</td>\n",
       "      <td>4859.000000</td>\n",
       "      <td>4859.000000</td>\n",
       "      <td>4859.000000</td>\n",
       "      <td>4859.000000</td>\n",
       "      <td>4859.000000</td>\n",
       "      <td>4859.000000</td>\n",
       "    </tr>\n",
       "    <tr>\n",
       "      <th>mean</th>\n",
       "      <td>8.005584</td>\n",
       "      <td>8.547348</td>\n",
       "      <td>3.579662</td>\n",
       "      <td>37.095864</td>\n",
       "      <td>490.285103</td>\n",
       "      <td>59.113400</td>\n",
       "      <td>12.055735</td>\n",
       "      <td>6.101308</td>\n",
       "      <td>1108.635895</td>\n",
       "      <td>-368.340127</td>\n",
       "      <td>...</td>\n",
       "      <td>1.985770e+01</td>\n",
       "      <td>-488.665140</td>\n",
       "      <td>1.557025e+01</td>\n",
       "      <td>-464.176507</td>\n",
       "      <td>16.594103</td>\n",
       "      <td>-490.815250</td>\n",
       "      <td>12.945971</td>\n",
       "      <td>-489.583564</td>\n",
       "      <td>19.053888</td>\n",
       "      <td>-504.678924</td>\n",
       "    </tr>\n",
       "    <tr>\n",
       "      <th>std</th>\n",
       "      <td>1.993590</td>\n",
       "      <td>1.958601</td>\n",
       "      <td>1.029377</td>\n",
       "      <td>4.926284</td>\n",
       "      <td>94.371623</td>\n",
       "      <td>19.125122</td>\n",
       "      <td>3.407642</td>\n",
       "      <td>1.042754</td>\n",
       "      <td>156.493143</td>\n",
       "      <td>91.155929</td>\n",
       "      <td>...</td>\n",
       "      <td>5.913105e+00</td>\n",
       "      <td>44.392714</td>\n",
       "      <td>4.927361e+00</td>\n",
       "      <td>65.706994</td>\n",
       "      <td>5.724305</td>\n",
       "      <td>32.258443</td>\n",
       "      <td>5.533176</td>\n",
       "      <td>37.084609</td>\n",
       "      <td>5.548996</td>\n",
       "      <td>38.690186</td>\n",
       "    </tr>\n",
       "    <tr>\n",
       "      <th>min</th>\n",
       "      <td>0.010000</td>\n",
       "      <td>0.010000</td>\n",
       "      <td>0.010000</td>\n",
       "      <td>0.010000</td>\n",
       "      <td>0.012786</td>\n",
       "      <td>0.046369</td>\n",
       "      <td>0.018907</td>\n",
       "      <td>0.015783</td>\n",
       "      <td>300.792494</td>\n",
       "      <td>-600.568138</td>\n",
       "      <td>...</td>\n",
       "      <td>1.079872e-16</td>\n",
       "      <td>-799.704969</td>\n",
       "      <td>2.489718e-17</td>\n",
       "      <td>-799.860767</td>\n",
       "      <td>-0.371498</td>\n",
       "      <td>-797.142475</td>\n",
       "      <td>1.358469</td>\n",
       "      <td>-800.006180</td>\n",
       "      <td>0.160386</td>\n",
       "      <td>-809.734800</td>\n",
       "    </tr>\n",
       "    <tr>\n",
       "      <th>25%</th>\n",
       "      <td>6.574363</td>\n",
       "      <td>6.975898</td>\n",
       "      <td>2.903612</td>\n",
       "      <td>34.510841</td>\n",
       "      <td>434.099695</td>\n",
       "      <td>47.596984</td>\n",
       "      <td>9.890429</td>\n",
       "      <td>5.499808</td>\n",
       "      <td>999.715729</td>\n",
       "      <td>-499.731972</td>\n",
       "      <td>...</td>\n",
       "      <td>1.501123e+01</td>\n",
       "      <td>-500.704004</td>\n",
       "      <td>1.202172e+01</td>\n",
       "      <td>-500.196517</td>\n",
       "      <td>11.073822</td>\n",
       "      <td>-500.483564</td>\n",
       "      <td>9.011890</td>\n",
       "      <td>-500.129913</td>\n",
       "      <td>14.963953</td>\n",
       "      <td>-500.668501</td>\n",
       "    </tr>\n",
       "    <tr>\n",
       "      <th>50%</th>\n",
       "      <td>7.812923</td>\n",
       "      <td>8.179714</td>\n",
       "      <td>3.540772</td>\n",
       "      <td>37.499761</td>\n",
       "      <td>502.118742</td>\n",
       "      <td>55.509481</td>\n",
       "      <td>11.997859</td>\n",
       "      <td>6.099805</td>\n",
       "      <td>1001.414798</td>\n",
       "      <td>-300.181367</td>\n",
       "      <td>...</td>\n",
       "      <td>1.996807e+01</td>\n",
       "      <td>-499.892919</td>\n",
       "      <td>1.501240e+01</td>\n",
       "      <td>-499.540776</td>\n",
       "      <td>16.631195</td>\n",
       "      <td>-499.873136</td>\n",
       "      <td>11.999417</td>\n",
       "      <td>-499.955304</td>\n",
       "      <td>19.960006</td>\n",
       "      <td>-500.033769</td>\n",
       "    </tr>\n",
       "    <tr>\n",
       "      <th>75%</th>\n",
       "      <td>9.556589</td>\n",
       "      <td>10.084339</td>\n",
       "      <td>4.199847</td>\n",
       "      <td>40.461315</td>\n",
       "      <td>555.596563</td>\n",
       "      <td>66.661547</td>\n",
       "      <td>14.496072</td>\n",
       "      <td>6.802101</td>\n",
       "      <td>1202.837565</td>\n",
       "      <td>-299.961547</td>\n",
       "      <td>...</td>\n",
       "      <td>2.498900e+01</td>\n",
       "      <td>-498.652030</td>\n",
       "      <td>1.999949e+01</td>\n",
       "      <td>-400.302329</td>\n",
       "      <td>19.983191</td>\n",
       "      <td>-498.852815</td>\n",
       "      <td>15.004198</td>\n",
       "      <td>-499.643776</td>\n",
       "      <td>24.974583</td>\n",
       "      <td>-499.460134</td>\n",
       "    </tr>\n",
       "    <tr>\n",
       "      <th>max</th>\n",
       "      <td>13.417156</td>\n",
       "      <td>14.533698</td>\n",
       "      <td>7.142594</td>\n",
       "      <td>53.477742</td>\n",
       "      <td>702.523396</td>\n",
       "      <td>363.989699</td>\n",
       "      <td>30.010759</td>\n",
       "      <td>9.396928</td>\n",
       "      <td>1521.980372</td>\n",
       "      <td>-281.039299</td>\n",
       "      <td>...</td>\n",
       "      <td>3.008450e+01</td>\n",
       "      <td>-383.373053</td>\n",
       "      <td>2.398898e+01</td>\n",
       "      <td>-114.250832</td>\n",
       "      <td>33.215996</td>\n",
       "      <td>-288.963521</td>\n",
       "      <td>24.177106</td>\n",
       "      <td>-141.934397</td>\n",
       "      <td>32.028529</td>\n",
       "      <td>-104.427459</td>\n",
       "    </tr>\n",
       "  </tbody>\n",
       "</table>\n",
       "<p>8 rows × 52 columns</p>\n",
       "</div>"
      ],
      "text/plain": [
       "       rougher.input.feed_au  rougher.input.feed_ag  rougher.input.feed_pb  \\\n",
       "count            4860.000000            4860.000000            4832.000000   \n",
       "mean                8.005584               8.547348               3.579662   \n",
       "std                 1.993590               1.958601               1.029377   \n",
       "min                 0.010000               0.010000               0.010000   \n",
       "25%                 6.574363               6.975898               2.903612   \n",
       "50%                 7.812923               8.179714               3.540772   \n",
       "75%                 9.556589              10.084339               4.199847   \n",
       "max                13.417156              14.533698               7.142594   \n",
       "\n",
       "       rougher.input.feed_sol  rougher.input.feed_rate  \\\n",
       "count             4838.000000              4856.000000   \n",
       "mean                37.095864               490.285103   \n",
       "std                  4.926284                94.371623   \n",
       "min                  0.010000                 0.012786   \n",
       "25%                 34.510841               434.099695   \n",
       "50%                 37.499761               502.118742   \n",
       "75%                 40.461315               555.596563   \n",
       "max                 53.477742               702.523396   \n",
       "\n",
       "       rougher.input.feed_size  rougher.input.floatbank10_sulfate  \\\n",
       "count              4816.000000                        4857.000000   \n",
       "mean                 59.113400                          12.055735   \n",
       "std                  19.125122                           3.407642   \n",
       "min                   0.046369                           0.018907   \n",
       "25%                  47.596984                           9.890429   \n",
       "50%                  55.509481                          11.997859   \n",
       "75%                  66.661547                          14.496072   \n",
       "max                 363.989699                          30.010759   \n",
       "\n",
       "       rougher.input.floatbank10_xanthate  rougher.state.floatbank10_a_air  \\\n",
       "count                         4859.000000                      4859.000000   \n",
       "mean                             6.101308                      1108.635895   \n",
       "std                              1.042754                       156.493143   \n",
       "min                              0.015783                       300.792494   \n",
       "25%                              5.499808                       999.715729   \n",
       "50%                              6.099805                      1001.414798   \n",
       "75%                              6.802101                      1202.837565   \n",
       "max                              9.396928                      1521.980372   \n",
       "\n",
       "       rougher.state.floatbank10_a_level  ...  \\\n",
       "count                        4859.000000  ...   \n",
       "mean                         -368.340127  ...   \n",
       "std                            91.155929  ...   \n",
       "min                          -600.568138  ...   \n",
       "25%                          -499.731972  ...   \n",
       "50%                          -300.181367  ...   \n",
       "75%                          -299.961547  ...   \n",
       "max                          -281.039299  ...   \n",
       "\n",
       "       secondary_cleaner.state.floatbank4_a_air  \\\n",
       "count                              4.859000e+03   \n",
       "mean                               1.985770e+01   \n",
       "std                                5.913105e+00   \n",
       "min                                1.079872e-16   \n",
       "25%                                1.501123e+01   \n",
       "50%                                1.996807e+01   \n",
       "75%                                2.498900e+01   \n",
       "max                                3.008450e+01   \n",
       "\n",
       "       secondary_cleaner.state.floatbank4_a_level  \\\n",
       "count                                 4859.000000   \n",
       "mean                                  -488.665140   \n",
       "std                                     44.392714   \n",
       "min                                   -799.704969   \n",
       "25%                                   -500.704004   \n",
       "50%                                   -499.892919   \n",
       "75%                                   -498.652030   \n",
       "max                                   -383.373053   \n",
       "\n",
       "       secondary_cleaner.state.floatbank4_b_air  \\\n",
       "count                              4.859000e+03   \n",
       "mean                               1.557025e+01   \n",
       "std                                4.927361e+00   \n",
       "min                                2.489718e-17   \n",
       "25%                                1.202172e+01   \n",
       "50%                                1.501240e+01   \n",
       "75%                                1.999949e+01   \n",
       "max                                2.398898e+01   \n",
       "\n",
       "       secondary_cleaner.state.floatbank4_b_level  \\\n",
       "count                                 4859.000000   \n",
       "mean                                  -464.176507   \n",
       "std                                     65.706994   \n",
       "min                                   -799.860767   \n",
       "25%                                   -500.196517   \n",
       "50%                                   -499.540776   \n",
       "75%                                   -400.302329   \n",
       "max                                   -114.250832   \n",
       "\n",
       "       secondary_cleaner.state.floatbank5_a_air  \\\n",
       "count                               4859.000000   \n",
       "mean                                  16.594103   \n",
       "std                                    5.724305   \n",
       "min                                   -0.371498   \n",
       "25%                                   11.073822   \n",
       "50%                                   16.631195   \n",
       "75%                                   19.983191   \n",
       "max                                   33.215996   \n",
       "\n",
       "       secondary_cleaner.state.floatbank5_a_level  \\\n",
       "count                                 4859.000000   \n",
       "mean                                  -490.815250   \n",
       "std                                     32.258443   \n",
       "min                                   -797.142475   \n",
       "25%                                   -500.483564   \n",
       "50%                                   -499.873136   \n",
       "75%                                   -498.852815   \n",
       "max                                   -288.963521   \n",
       "\n",
       "       secondary_cleaner.state.floatbank5_b_air  \\\n",
       "count                               4859.000000   \n",
       "mean                                  12.945971   \n",
       "std                                    5.533176   \n",
       "min                                    1.358469   \n",
       "25%                                    9.011890   \n",
       "50%                                   11.999417   \n",
       "75%                                   15.004198   \n",
       "max                                   24.177106   \n",
       "\n",
       "       secondary_cleaner.state.floatbank5_b_level  \\\n",
       "count                                 4859.000000   \n",
       "mean                                  -489.583564   \n",
       "std                                     37.084609   \n",
       "min                                   -800.006180   \n",
       "25%                                   -500.129913   \n",
       "50%                                   -499.955304   \n",
       "75%                                   -499.643776   \n",
       "max                                   -141.934397   \n",
       "\n",
       "       secondary_cleaner.state.floatbank6_a_air  \\\n",
       "count                               4859.000000   \n",
       "mean                                  19.053888   \n",
       "std                                    5.548996   \n",
       "min                                    0.160386   \n",
       "25%                                   14.963953   \n",
       "50%                                   19.960006   \n",
       "75%                                   24.974583   \n",
       "max                                   32.028529   \n",
       "\n",
       "       secondary_cleaner.state.floatbank6_a_level  \n",
       "count                                 4859.000000  \n",
       "mean                                  -504.678924  \n",
       "std                                     38.690186  \n",
       "min                                   -809.734800  \n",
       "25%                                   -500.668501  \n",
       "50%                                   -500.033769  \n",
       "75%                                   -499.460134  \n",
       "max                                   -104.427459  \n",
       "\n",
       "[8 rows x 52 columns]"
      ]
     },
     "execution_count": 14,
     "metadata": {},
     "output_type": "execute_result"
    }
   ],
   "source": [
    "data_test.describe()"
   ]
  },
  {
   "cell_type": "markdown",
   "metadata": {},
   "source": [
    "при беглом взгляде сильных различий в значения между таблицами не увидел, можно так же построить графики, но думаю пока в них нет необходимости"
   ]
  },
  {
   "cell_type": "markdown",
   "metadata": {},
   "source": [
    "### Проверим, что эффективность обогащения рассчитана правильно. \n",
    "Вычислим её на обучающей выборке для признака rougher.output.recovery. \n",
    "Найдем MAE между нашими расчётами и значением признака. Опишим выводы."
   ]
  },
  {
   "cell_type": "markdown",
   "metadata": {},
   "source": [
    "Эффективность обогащения рассчитывается по формуле\n"
   ]
  },
  {
   "cell_type": "markdown",
   "metadata": {},
   "source": [
    "recovery = (C*(F-T))/(F*(C-T))*100%"
   ]
  },
  {
   "cell_type": "markdown",
   "metadata": {},
   "source": [
    "где:\n",
    "\n",
    "C — доля золота в концентрате после флотации/очистки;\n",
    "\n",
    "F — доля золота в сырье/концентрате до флотации/очистки;\n",
    "\n",
    "T — доля золота в отвальных хвостах после флотации/очистки.\n",
    "\n",
    "Для прогноза коэффициента нужно найти долю золота в концентратах и хвостах. Причём важен не только финальный продукт, но и черновой концентрат."
   ]
  },
  {
   "cell_type": "markdown",
   "metadata": {},
   "source": [
    "присвоим значения постоянным"
   ]
  },
  {
   "cell_type": "code",
   "execution_count": 15,
   "metadata": {},
   "outputs": [],
   "source": [
    "C = data_train['rougher.output.concentrate_au']\n",
    "F = data_train['rougher.input.feed_au']\n",
    "T = data_train['rougher.output.tail_au']"
   ]
  },
  {
   "cell_type": "markdown",
   "metadata": {},
   "source": [
    "проведем рассчет recovery по формуле"
   ]
  },
  {
   "cell_type": "code",
   "execution_count": 16,
   "metadata": {},
   "outputs": [],
   "source": [
    "recovery = (C*(F - T))/(F*(C - T))*100"
   ]
  },
  {
   "cell_type": "code",
   "execution_count": 17,
   "metadata": {},
   "outputs": [
    {
     "data": {
      "text/plain": [
       "0        87.107763\n",
       "1        86.843261\n",
       "2        86.842308\n",
       "3        87.226430\n",
       "4        86.688794\n",
       "           ...    \n",
       "14574    87.684717\n",
       "14575    90.677361\n",
       "14576    89.574376\n",
       "14577    87.724007\n",
       "14578    88.890579\n",
       "Length: 14579, dtype: float64"
      ]
     },
     "execution_count": 17,
     "metadata": {},
     "output_type": "execute_result"
    }
   ],
   "source": [
    "recovery"
   ]
  },
  {
   "cell_type": "markdown",
   "metadata": {},
   "source": [
    "присвоем R значение признака rougher.output.recovery, фактическому значению"
   ]
  },
  {
   "cell_type": "code",
   "execution_count": 18,
   "metadata": {},
   "outputs": [],
   "source": [
    "R = data_train['rougher.output.recovery']"
   ]
  },
  {
   "cell_type": "markdown",
   "metadata": {},
   "source": [
    "вычислим MAE"
   ]
  },
  {
   "cell_type": "code",
   "execution_count": 19,
   "metadata": {},
   "outputs": [
    {
     "name": "stdout",
     "output_type": "stream",
     "text": [
      "MAE = 9.83758577644259e-15\n"
     ]
    }
   ],
   "source": [
    "print('MAE =', mean_absolute_error(R, recovery))"
   ]
  },
  {
   "cell_type": "markdown",
   "metadata": {},
   "source": [
    "Вывод \n",
    "\n",
    "МАЕ равна 9.83758577644259e-15, что практически равно 0, поэтому можно считать что расчётная эффективность обогащения практически равна фактической, это доказывает что расчеты верны\n"
   ]
  },
  {
   "cell_type": "markdown",
   "metadata": {},
   "source": [
    "### Проанализируем признаки, недоступные в тестовой выборке."
   ]
  },
  {
   "cell_type": "markdown",
   "metadata": {},
   "source": [
    "выведим столбцы которые есть в data.full но отсутствуют в data.test"
   ]
  },
  {
   "cell_type": "code",
   "execution_count": 20,
   "metadata": {
    "scrolled": true
   },
   "outputs": [
    {
     "data": {
      "text/plain": [
       "['final.output.tail_au',\n",
       " 'rougher.calculation.floatbank11_sulfate_to_au_feed',\n",
       " 'primary_cleaner.output.concentrate_au',\n",
       " 'rougher.calculation.sulfate_to_au_concentrate',\n",
       " 'primary_cleaner.output.concentrate_pb',\n",
       " 'rougher.output.tail_sol',\n",
       " 'rougher.output.concentrate_au',\n",
       " 'final.output.tail_pb',\n",
       " 'primary_cleaner.output.tail_sol',\n",
       " 'rougher.calculation.floatbank10_sulfate_to_au_feed',\n",
       " 'primary_cleaner.output.concentrate_ag',\n",
       " 'primary_cleaner.output.tail_ag',\n",
       " 'final.output.concentrate_sol',\n",
       " 'secondary_cleaner.output.tail_sol',\n",
       " 'rougher.output.concentrate_ag',\n",
       " 'final.output.tail_ag',\n",
       " 'rougher.output.tail_ag',\n",
       " 'primary_cleaner.output.tail_pb',\n",
       " 'rougher.output.concentrate_pb',\n",
       " 'rougher.output.recovery',\n",
       " 'final.output.tail_sol',\n",
       " 'secondary_cleaner.output.tail_ag',\n",
       " 'primary_cleaner.output.concentrate_sol',\n",
       " 'rougher.calculation.au_pb_ratio',\n",
       " 'secondary_cleaner.output.tail_pb',\n",
       " 'final.output.concentrate_pb',\n",
       " 'rougher.output.tail_au',\n",
       " 'final.output.concentrate_au',\n",
       " 'secondary_cleaner.output.tail_au',\n",
       " 'final.output.recovery',\n",
       " 'final.output.concentrate_ag',\n",
       " 'rougher.output.tail_pb',\n",
       " 'primary_cleaner.output.tail_au',\n",
       " 'rougher.output.concentrate_sol']"
      ]
     },
     "execution_count": 20,
     "metadata": {},
     "output_type": "execute_result"
    }
   ],
   "source": [
    "list(set(data_full.columns) - set(data_test.columns))"
   ]
  },
  {
   "cell_type": "markdown",
   "metadata": {},
   "source": [
    "Изучив подробнее данные столбцы можно увидеть что отсутствуют 34 признака:\n",
    "- 9 признаков из этапа final\n",
    "- 4 признака из этапа secondary_cleaner\n",
    "- 4 признака rougher.calculation\n",
    "- 9 признаков из этапа rougher\n",
    "- 8 признаков из этапа primary_cleaner\n",
    "\n",
    "Так как по условию нужно спрогнозировать сразу две величины:\n",
    "эффективность обогащения чернового концентрата rougher.output.recovery;\n",
    "эффективность обогащения финального концентрата final.output.recovery.\n",
    "\n",
    "Нас будут интересовать 2 целевых признака: rougher.output.recovery и final.output.recovery.\n",
    "\n",
    "Необходимо будет добавить эти два целевых признака в тестовую выборку, и разобрать признаки в обучающей выборке "
   ]
  },
  {
   "cell_type": "markdown",
   "metadata": {},
   "source": [
    "### Проведем предобработку данных"
   ]
  },
  {
   "cell_type": "markdown",
   "metadata": {},
   "source": [
    "приведем данные в столбце с датой в необходимый формат"
   ]
  },
  {
   "cell_type": "code",
   "execution_count": 21,
   "metadata": {},
   "outputs": [],
   "source": [
    "data_full['date'] = pd.to_datetime(data_full['date'], format='%Y-%m-%dT%H:%M:%S')\n",
    "data_train['date'] = pd.to_datetime(data_train['date'], format='%Y-%m-%dT%H:%M:%S')\n",
    "data_test['date'] = pd.to_datetime(data_test['date'], format='%Y-%m-%dT%H:%M:%S')"
   ]
  },
  {
   "cell_type": "markdown",
   "metadata": {},
   "source": [
    "проверим данные на дубликаты в data_full, и на всякий случай в data_train и data_test"
   ]
  },
  {
   "cell_type": "code",
   "execution_count": 22,
   "metadata": {},
   "outputs": [
    {
     "name": "stdout",
     "output_type": "stream",
     "text": [
      "дубликаты в data_full: 0\n",
      "дубликаты в data_train: 0\n",
      "дубликаты в data_test: 0\n"
     ]
    }
   ],
   "source": [
    "print('дубликаты в data_full:', data_full.duplicated().sum())\n",
    "print('дубликаты в data_train:',data_train.duplicated().sum())\n",
    "print('дубликаты в data_test:',data_test.duplicated().sum())"
   ]
  },
  {
   "cell_type": "markdown",
   "metadata": {},
   "source": [
    "Добавим целевые признаки в тестовую выборку"
   ]
  },
  {
   "cell_type": "code",
   "execution_count": 23,
   "metadata": {},
   "outputs": [],
   "source": [
    "data_test = (\n",
    "    (data_test\n",
    "    .merge(data_full[['date', 'final.output.recovery', 'rougher.output.recovery']],\n",
    "          how='outer', on='date'))\n",
    "    .dropna(subset=['rougher.input.feed_au'])\n",
    ")"
   ]
  },
  {
   "cell_type": "code",
   "execution_count": 24,
   "metadata": {
    "scrolled": true
   },
   "outputs": [
    {
     "name": "stdout",
     "output_type": "stream",
     "text": [
      "<class 'pandas.core.frame.DataFrame'>\n",
      "Int64Index: 4860 entries, 0 to 4859\n",
      "Data columns (total 55 columns):\n",
      " #   Column                                      Non-Null Count  Dtype         \n",
      "---  ------                                      --------------  -----         \n",
      " 0   date                                        4860 non-null   datetime64[ns]\n",
      " 1   rougher.input.feed_au                       4860 non-null   float64       \n",
      " 2   rougher.input.feed_ag                       4860 non-null   float64       \n",
      " 3   rougher.input.feed_pb                       4832 non-null   float64       \n",
      " 4   rougher.input.feed_sol                      4838 non-null   float64       \n",
      " 5   rougher.input.feed_rate                     4856 non-null   float64       \n",
      " 6   rougher.input.feed_size                     4816 non-null   float64       \n",
      " 7   rougher.input.floatbank10_sulfate           4857 non-null   float64       \n",
      " 8   rougher.input.floatbank10_xanthate          4859 non-null   float64       \n",
      " 9   rougher.state.floatbank10_a_air             4859 non-null   float64       \n",
      " 10  rougher.state.floatbank10_a_level           4859 non-null   float64       \n",
      " 11  rougher.state.floatbank10_b_air             4859 non-null   float64       \n",
      " 12  rougher.state.floatbank10_b_level           4859 non-null   float64       \n",
      " 13  rougher.state.floatbank10_c_air             4859 non-null   float64       \n",
      " 14  rougher.state.floatbank10_c_level           4859 non-null   float64       \n",
      " 15  rougher.state.floatbank10_d_air             4860 non-null   float64       \n",
      " 16  rougher.state.floatbank10_d_level           4860 non-null   float64       \n",
      " 17  rougher.state.floatbank10_e_air             4853 non-null   float64       \n",
      " 18  rougher.state.floatbank10_e_level           4860 non-null   float64       \n",
      " 19  rougher.state.floatbank10_f_air             4860 non-null   float64       \n",
      " 20  rougher.state.floatbank10_f_level           4860 non-null   float64       \n",
      " 21  rougher.input.floatbank11_sulfate           4852 non-null   float64       \n",
      " 22  rougher.input.floatbank11_xanthate          4814 non-null   float64       \n",
      " 23  primary_cleaner.input.sulfate               4859 non-null   float64       \n",
      " 24  primary_cleaner.input.depressant            4851 non-null   float64       \n",
      " 25  primary_cleaner.input.feed_size             4860 non-null   float64       \n",
      " 26  primary_cleaner.input.xanthate              4817 non-null   float64       \n",
      " 27  primary_cleaner.state.floatbank8_a_air      4859 non-null   float64       \n",
      " 28  primary_cleaner.state.floatbank8_a_level    4859 non-null   float64       \n",
      " 29  primary_cleaner.state.floatbank8_b_air      4859 non-null   float64       \n",
      " 30  primary_cleaner.state.floatbank8_b_level    4859 non-null   float64       \n",
      " 31  primary_cleaner.state.floatbank8_c_air      4858 non-null   float64       \n",
      " 32  primary_cleaner.state.floatbank8_c_level    4859 non-null   float64       \n",
      " 33  primary_cleaner.state.floatbank8_d_air      4858 non-null   float64       \n",
      " 34  primary_cleaner.state.floatbank8_d_level    4859 non-null   float64       \n",
      " 35  secondary_cleaner.state.floatbank2_a_air    4734 non-null   float64       \n",
      " 36  secondary_cleaner.state.floatbank2_a_level  4859 non-null   float64       \n",
      " 37  secondary_cleaner.state.floatbank2_b_air    4859 non-null   float64       \n",
      " 38  secondary_cleaner.state.floatbank2_b_level  4859 non-null   float64       \n",
      " 39  secondary_cleaner.state.floatbank3_a_air    4859 non-null   float64       \n",
      " 40  secondary_cleaner.state.floatbank3_a_level  4859 non-null   float64       \n",
      " 41  secondary_cleaner.state.floatbank3_b_air    4859 non-null   float64       \n",
      " 42  secondary_cleaner.state.floatbank3_b_level  4859 non-null   float64       \n",
      " 43  secondary_cleaner.state.floatbank4_a_air    4859 non-null   float64       \n",
      " 44  secondary_cleaner.state.floatbank4_a_level  4859 non-null   float64       \n",
      " 45  secondary_cleaner.state.floatbank4_b_air    4859 non-null   float64       \n",
      " 46  secondary_cleaner.state.floatbank4_b_level  4859 non-null   float64       \n",
      " 47  secondary_cleaner.state.floatbank5_a_air    4859 non-null   float64       \n",
      " 48  secondary_cleaner.state.floatbank5_a_level  4859 non-null   float64       \n",
      " 49  secondary_cleaner.state.floatbank5_b_air    4859 non-null   float64       \n",
      " 50  secondary_cleaner.state.floatbank5_b_level  4859 non-null   float64       \n",
      " 51  secondary_cleaner.state.floatbank6_a_air    4859 non-null   float64       \n",
      " 52  secondary_cleaner.state.floatbank6_a_level  4859 non-null   float64       \n",
      " 53  final.output.recovery                       4860 non-null   float64       \n",
      " 54  rougher.output.recovery                     4860 non-null   float64       \n",
      "dtypes: datetime64[ns](1), float64(54)\n",
      "memory usage: 2.1 MB\n"
     ]
    }
   ],
   "source": [
    "data_test.info()"
   ]
  },
  {
   "cell_type": "code",
   "execution_count": 25,
   "metadata": {},
   "outputs": [
    {
     "data": {
      "text/plain": [
       "(4860, 55)"
      ]
     },
     "execution_count": 25,
     "metadata": {},
     "output_type": "execute_result"
    }
   ],
   "source": [
    "data_test.shape"
   ]
  },
  {
   "cell_type": "markdown",
   "metadata": {},
   "source": [
    "строк так же осталось 4860, но уже столбцов 55"
   ]
  },
  {
   "cell_type": "markdown",
   "metadata": {},
   "source": [
    "Удалим данные из обучающей выборки, которые отсутсвуют в тестовой выборке"
   ]
  },
  {
   "cell_type": "code",
   "execution_count": 26,
   "metadata": {},
   "outputs": [],
   "source": [
    "data_train = data_train.drop(list(set(data_train.columns) - set(data_test.columns)), axis=1)"
   ]
  },
  {
   "cell_type": "code",
   "execution_count": 27,
   "metadata": {
    "scrolled": true
   },
   "outputs": [
    {
     "name": "stdout",
     "output_type": "stream",
     "text": [
      "<class 'pandas.core.frame.DataFrame'>\n",
      "RangeIndex: 14579 entries, 0 to 14578\n",
      "Data columns (total 55 columns):\n",
      " #   Column                                      Non-Null Count  Dtype         \n",
      "---  ------                                      --------------  -----         \n",
      " 0   date                                        14579 non-null  datetime64[ns]\n",
      " 1   rougher.input.feed_au                       14579 non-null  float64       \n",
      " 2   rougher.input.feed_ag                       14579 non-null  float64       \n",
      " 3   rougher.input.feed_pb                       14507 non-null  float64       \n",
      " 4   rougher.input.feed_sol                      14502 non-null  float64       \n",
      " 5   rougher.input.feed_rate                     14572 non-null  float64       \n",
      " 6   rougher.input.feed_size                     14478 non-null  float64       \n",
      " 7   rougher.input.floatbank10_sulfate           14548 non-null  float64       \n",
      " 8   rougher.input.floatbank10_xanthate          14572 non-null  float64       \n",
      " 9   rougher.state.floatbank10_a_air             14579 non-null  float64       \n",
      " 10  rougher.state.floatbank10_a_level           14579 non-null  float64       \n",
      " 11  rougher.state.floatbank10_b_air             14579 non-null  float64       \n",
      " 12  rougher.state.floatbank10_b_level           14579 non-null  float64       \n",
      " 13  rougher.state.floatbank10_c_air             14579 non-null  float64       \n",
      " 14  rougher.state.floatbank10_c_level           14579 non-null  float64       \n",
      " 15  rougher.state.floatbank10_d_air             14579 non-null  float64       \n",
      " 16  rougher.state.floatbank10_d_level           14579 non-null  float64       \n",
      " 17  rougher.state.floatbank10_e_air             14150 non-null  float64       \n",
      " 18  rougher.state.floatbank10_e_level           14579 non-null  float64       \n",
      " 19  rougher.state.floatbank10_f_air             14579 non-null  float64       \n",
      " 20  rougher.state.floatbank10_f_level           14579 non-null  float64       \n",
      " 21  rougher.input.floatbank11_sulfate           14543 non-null  float64       \n",
      " 22  rougher.input.floatbank11_xanthate          14172 non-null  float64       \n",
      " 23  rougher.output.recovery                     14579 non-null  float64       \n",
      " 24  primary_cleaner.input.sulfate               14556 non-null  float64       \n",
      " 25  primary_cleaner.input.depressant            14551 non-null  float64       \n",
      " 26  primary_cleaner.input.feed_size             14579 non-null  float64       \n",
      " 27  primary_cleaner.input.xanthate              14518 non-null  float64       \n",
      " 28  primary_cleaner.state.floatbank8_a_air      14576 non-null  float64       \n",
      " 29  primary_cleaner.state.floatbank8_a_level    14579 non-null  float64       \n",
      " 30  primary_cleaner.state.floatbank8_b_air      14576 non-null  float64       \n",
      " 31  primary_cleaner.state.floatbank8_b_level    14579 non-null  float64       \n",
      " 32  primary_cleaner.state.floatbank8_c_air      14579 non-null  float64       \n",
      " 33  primary_cleaner.state.floatbank8_c_level    14579 non-null  float64       \n",
      " 34  primary_cleaner.state.floatbank8_d_air      14578 non-null  float64       \n",
      " 35  primary_cleaner.state.floatbank8_d_level    14579 non-null  float64       \n",
      " 36  secondary_cleaner.state.floatbank2_a_air    14485 non-null  float64       \n",
      " 37  secondary_cleaner.state.floatbank2_a_level  14579 non-null  float64       \n",
      " 38  secondary_cleaner.state.floatbank2_b_air    14557 non-null  float64       \n",
      " 39  secondary_cleaner.state.floatbank2_b_level  14579 non-null  float64       \n",
      " 40  secondary_cleaner.state.floatbank3_a_air    14567 non-null  float64       \n",
      " 41  secondary_cleaner.state.floatbank3_a_level  14579 non-null  float64       \n",
      " 42  secondary_cleaner.state.floatbank3_b_air    14579 non-null  float64       \n",
      " 43  secondary_cleaner.state.floatbank3_b_level  14579 non-null  float64       \n",
      " 44  secondary_cleaner.state.floatbank4_a_air    14574 non-null  float64       \n",
      " 45  secondary_cleaner.state.floatbank4_a_level  14579 non-null  float64       \n",
      " 46  secondary_cleaner.state.floatbank4_b_air    14579 non-null  float64       \n",
      " 47  secondary_cleaner.state.floatbank4_b_level  14579 non-null  float64       \n",
      " 48  secondary_cleaner.state.floatbank5_a_air    14579 non-null  float64       \n",
      " 49  secondary_cleaner.state.floatbank5_a_level  14579 non-null  float64       \n",
      " 50  secondary_cleaner.state.floatbank5_b_air    14579 non-null  float64       \n",
      " 51  secondary_cleaner.state.floatbank5_b_level  14579 non-null  float64       \n",
      " 52  secondary_cleaner.state.floatbank6_a_air    14578 non-null  float64       \n",
      " 53  secondary_cleaner.state.floatbank6_a_level  14579 non-null  float64       \n",
      " 54  final.output.recovery                       14579 non-null  float64       \n",
      "dtypes: datetime64[ns](1), float64(54)\n",
      "memory usage: 6.1 MB\n"
     ]
    }
   ],
   "source": [
    "data_train.info()"
   ]
  },
  {
   "cell_type": "code",
   "execution_count": 28,
   "metadata": {},
   "outputs": [
    {
     "data": {
      "text/plain": [
       "(14579, 55)"
      ]
     },
     "execution_count": 28,
     "metadata": {},
     "output_type": "execute_result"
    }
   ],
   "source": [
    "data_train.shape"
   ]
  },
  {
   "cell_type": "markdown",
   "metadata": {},
   "source": [
    "строки так же остались 14579, столбцы уменьшились, стало 55"
   ]
  },
  {
   "cell_type": "markdown",
   "metadata": {},
   "source": [
    "Обработаем пропущенные значения, можно выделить несколько способов обработки:\n",
    "удаление пропусков, если их небольшое количество и не будут влиять на выборку,\n",
    "заменить пропуски 0,\n",
    "заменить пропуски средними значениями\n",
    "в условиях есть подсказка, что соседние по времени параметры часто похожи, можно попробовать заполнить пропущенные значения близкими по дате и времени."
   ]
  },
  {
   "cell_type": "markdown",
   "metadata": {},
   "source": [
    "для данной задачи попробуем воспользоваться методом Pandas ffill()\n",
    "Метод pandas ffill() позволяет нам заполнить значение NaN во фрейме данных. Ffill означает перенаправление заполнения. Это означает, что нулевые значения заменяются данными из предыдущего столбца или строки."
   ]
  },
  {
   "cell_type": "code",
   "execution_count": 29,
   "metadata": {},
   "outputs": [],
   "source": [
    "#data_train = pd.concat([data_train.ffill(), data_train.bfill()]).groupby(level=0).mean()\n",
    "#data_test = pd.concat([data_test.ffill(), data_test.bfill()]).groupby(level=0).mean()"
   ]
  },
  {
   "cell_type": "code",
   "execution_count": 30,
   "metadata": {},
   "outputs": [],
   "source": [
    "data_train = data_train.fillna(method='ffill').fillna(method='bfill')"
   ]
  },
  {
   "cell_type": "code",
   "execution_count": 31,
   "metadata": {},
   "outputs": [],
   "source": [
    "data_test = data_test.fillna(method='ffill').fillna(method='bfill')"
   ]
  },
  {
   "cell_type": "code",
   "execution_count": 32,
   "metadata": {
    "scrolled": true
   },
   "outputs": [
    {
     "name": "stdout",
     "output_type": "stream",
     "text": [
      "<class 'pandas.core.frame.DataFrame'>\n",
      "RangeIndex: 14579 entries, 0 to 14578\n",
      "Data columns (total 55 columns):\n",
      " #   Column                                      Non-Null Count  Dtype         \n",
      "---  ------                                      --------------  -----         \n",
      " 0   date                                        14579 non-null  datetime64[ns]\n",
      " 1   rougher.input.feed_au                       14579 non-null  float64       \n",
      " 2   rougher.input.feed_ag                       14579 non-null  float64       \n",
      " 3   rougher.input.feed_pb                       14579 non-null  float64       \n",
      " 4   rougher.input.feed_sol                      14579 non-null  float64       \n",
      " 5   rougher.input.feed_rate                     14579 non-null  float64       \n",
      " 6   rougher.input.feed_size                     14579 non-null  float64       \n",
      " 7   rougher.input.floatbank10_sulfate           14579 non-null  float64       \n",
      " 8   rougher.input.floatbank10_xanthate          14579 non-null  float64       \n",
      " 9   rougher.state.floatbank10_a_air             14579 non-null  float64       \n",
      " 10  rougher.state.floatbank10_a_level           14579 non-null  float64       \n",
      " 11  rougher.state.floatbank10_b_air             14579 non-null  float64       \n",
      " 12  rougher.state.floatbank10_b_level           14579 non-null  float64       \n",
      " 13  rougher.state.floatbank10_c_air             14579 non-null  float64       \n",
      " 14  rougher.state.floatbank10_c_level           14579 non-null  float64       \n",
      " 15  rougher.state.floatbank10_d_air             14579 non-null  float64       \n",
      " 16  rougher.state.floatbank10_d_level           14579 non-null  float64       \n",
      " 17  rougher.state.floatbank10_e_air             14579 non-null  float64       \n",
      " 18  rougher.state.floatbank10_e_level           14579 non-null  float64       \n",
      " 19  rougher.state.floatbank10_f_air             14579 non-null  float64       \n",
      " 20  rougher.state.floatbank10_f_level           14579 non-null  float64       \n",
      " 21  rougher.input.floatbank11_sulfate           14579 non-null  float64       \n",
      " 22  rougher.input.floatbank11_xanthate          14579 non-null  float64       \n",
      " 23  rougher.output.recovery                     14579 non-null  float64       \n",
      " 24  primary_cleaner.input.sulfate               14579 non-null  float64       \n",
      " 25  primary_cleaner.input.depressant            14579 non-null  float64       \n",
      " 26  primary_cleaner.input.feed_size             14579 non-null  float64       \n",
      " 27  primary_cleaner.input.xanthate              14579 non-null  float64       \n",
      " 28  primary_cleaner.state.floatbank8_a_air      14579 non-null  float64       \n",
      " 29  primary_cleaner.state.floatbank8_a_level    14579 non-null  float64       \n",
      " 30  primary_cleaner.state.floatbank8_b_air      14579 non-null  float64       \n",
      " 31  primary_cleaner.state.floatbank8_b_level    14579 non-null  float64       \n",
      " 32  primary_cleaner.state.floatbank8_c_air      14579 non-null  float64       \n",
      " 33  primary_cleaner.state.floatbank8_c_level    14579 non-null  float64       \n",
      " 34  primary_cleaner.state.floatbank8_d_air      14579 non-null  float64       \n",
      " 35  primary_cleaner.state.floatbank8_d_level    14579 non-null  float64       \n",
      " 36  secondary_cleaner.state.floatbank2_a_air    14579 non-null  float64       \n",
      " 37  secondary_cleaner.state.floatbank2_a_level  14579 non-null  float64       \n",
      " 38  secondary_cleaner.state.floatbank2_b_air    14579 non-null  float64       \n",
      " 39  secondary_cleaner.state.floatbank2_b_level  14579 non-null  float64       \n",
      " 40  secondary_cleaner.state.floatbank3_a_air    14579 non-null  float64       \n",
      " 41  secondary_cleaner.state.floatbank3_a_level  14579 non-null  float64       \n",
      " 42  secondary_cleaner.state.floatbank3_b_air    14579 non-null  float64       \n",
      " 43  secondary_cleaner.state.floatbank3_b_level  14579 non-null  float64       \n",
      " 44  secondary_cleaner.state.floatbank4_a_air    14579 non-null  float64       \n",
      " 45  secondary_cleaner.state.floatbank4_a_level  14579 non-null  float64       \n",
      " 46  secondary_cleaner.state.floatbank4_b_air    14579 non-null  float64       \n",
      " 47  secondary_cleaner.state.floatbank4_b_level  14579 non-null  float64       \n",
      " 48  secondary_cleaner.state.floatbank5_a_air    14579 non-null  float64       \n",
      " 49  secondary_cleaner.state.floatbank5_a_level  14579 non-null  float64       \n",
      " 50  secondary_cleaner.state.floatbank5_b_air    14579 non-null  float64       \n",
      " 51  secondary_cleaner.state.floatbank5_b_level  14579 non-null  float64       \n",
      " 52  secondary_cleaner.state.floatbank6_a_air    14579 non-null  float64       \n",
      " 53  secondary_cleaner.state.floatbank6_a_level  14579 non-null  float64       \n",
      " 54  final.output.recovery                       14579 non-null  float64       \n",
      "dtypes: datetime64[ns](1), float64(54)\n",
      "memory usage: 6.1 MB\n"
     ]
    }
   ],
   "source": [
    "data_train.info()"
   ]
  },
  {
   "cell_type": "code",
   "execution_count": 33,
   "metadata": {
    "scrolled": true
   },
   "outputs": [
    {
     "name": "stdout",
     "output_type": "stream",
     "text": [
      "<class 'pandas.core.frame.DataFrame'>\n",
      "Int64Index: 4860 entries, 0 to 4859\n",
      "Data columns (total 55 columns):\n",
      " #   Column                                      Non-Null Count  Dtype         \n",
      "---  ------                                      --------------  -----         \n",
      " 0   date                                        4860 non-null   datetime64[ns]\n",
      " 1   rougher.input.feed_au                       4860 non-null   float64       \n",
      " 2   rougher.input.feed_ag                       4860 non-null   float64       \n",
      " 3   rougher.input.feed_pb                       4860 non-null   float64       \n",
      " 4   rougher.input.feed_sol                      4860 non-null   float64       \n",
      " 5   rougher.input.feed_rate                     4860 non-null   float64       \n",
      " 6   rougher.input.feed_size                     4860 non-null   float64       \n",
      " 7   rougher.input.floatbank10_sulfate           4860 non-null   float64       \n",
      " 8   rougher.input.floatbank10_xanthate          4860 non-null   float64       \n",
      " 9   rougher.state.floatbank10_a_air             4860 non-null   float64       \n",
      " 10  rougher.state.floatbank10_a_level           4860 non-null   float64       \n",
      " 11  rougher.state.floatbank10_b_air             4860 non-null   float64       \n",
      " 12  rougher.state.floatbank10_b_level           4860 non-null   float64       \n",
      " 13  rougher.state.floatbank10_c_air             4860 non-null   float64       \n",
      " 14  rougher.state.floatbank10_c_level           4860 non-null   float64       \n",
      " 15  rougher.state.floatbank10_d_air             4860 non-null   float64       \n",
      " 16  rougher.state.floatbank10_d_level           4860 non-null   float64       \n",
      " 17  rougher.state.floatbank10_e_air             4860 non-null   float64       \n",
      " 18  rougher.state.floatbank10_e_level           4860 non-null   float64       \n",
      " 19  rougher.state.floatbank10_f_air             4860 non-null   float64       \n",
      " 20  rougher.state.floatbank10_f_level           4860 non-null   float64       \n",
      " 21  rougher.input.floatbank11_sulfate           4860 non-null   float64       \n",
      " 22  rougher.input.floatbank11_xanthate          4860 non-null   float64       \n",
      " 23  primary_cleaner.input.sulfate               4860 non-null   float64       \n",
      " 24  primary_cleaner.input.depressant            4860 non-null   float64       \n",
      " 25  primary_cleaner.input.feed_size             4860 non-null   float64       \n",
      " 26  primary_cleaner.input.xanthate              4860 non-null   float64       \n",
      " 27  primary_cleaner.state.floatbank8_a_air      4860 non-null   float64       \n",
      " 28  primary_cleaner.state.floatbank8_a_level    4860 non-null   float64       \n",
      " 29  primary_cleaner.state.floatbank8_b_air      4860 non-null   float64       \n",
      " 30  primary_cleaner.state.floatbank8_b_level    4860 non-null   float64       \n",
      " 31  primary_cleaner.state.floatbank8_c_air      4860 non-null   float64       \n",
      " 32  primary_cleaner.state.floatbank8_c_level    4860 non-null   float64       \n",
      " 33  primary_cleaner.state.floatbank8_d_air      4860 non-null   float64       \n",
      " 34  primary_cleaner.state.floatbank8_d_level    4860 non-null   float64       \n",
      " 35  secondary_cleaner.state.floatbank2_a_air    4860 non-null   float64       \n",
      " 36  secondary_cleaner.state.floatbank2_a_level  4860 non-null   float64       \n",
      " 37  secondary_cleaner.state.floatbank2_b_air    4860 non-null   float64       \n",
      " 38  secondary_cleaner.state.floatbank2_b_level  4860 non-null   float64       \n",
      " 39  secondary_cleaner.state.floatbank3_a_air    4860 non-null   float64       \n",
      " 40  secondary_cleaner.state.floatbank3_a_level  4860 non-null   float64       \n",
      " 41  secondary_cleaner.state.floatbank3_b_air    4860 non-null   float64       \n",
      " 42  secondary_cleaner.state.floatbank3_b_level  4860 non-null   float64       \n",
      " 43  secondary_cleaner.state.floatbank4_a_air    4860 non-null   float64       \n",
      " 44  secondary_cleaner.state.floatbank4_a_level  4860 non-null   float64       \n",
      " 45  secondary_cleaner.state.floatbank4_b_air    4860 non-null   float64       \n",
      " 46  secondary_cleaner.state.floatbank4_b_level  4860 non-null   float64       \n",
      " 47  secondary_cleaner.state.floatbank5_a_air    4860 non-null   float64       \n",
      " 48  secondary_cleaner.state.floatbank5_a_level  4860 non-null   float64       \n",
      " 49  secondary_cleaner.state.floatbank5_b_air    4860 non-null   float64       \n",
      " 50  secondary_cleaner.state.floatbank5_b_level  4860 non-null   float64       \n",
      " 51  secondary_cleaner.state.floatbank6_a_air    4860 non-null   float64       \n",
      " 52  secondary_cleaner.state.floatbank6_a_level  4860 non-null   float64       \n",
      " 53  final.output.recovery                       4860 non-null   float64       \n",
      " 54  rougher.output.recovery                     4860 non-null   float64       \n",
      "dtypes: datetime64[ns](1), float64(54)\n",
      "memory usage: 2.1 MB\n"
     ]
    }
   ],
   "source": [
    "data_test.info()"
   ]
  },
  {
   "cell_type": "markdown",
   "metadata": {},
   "source": [
    "В данном пункте мы привели значения в столбце data в необходимый формат.\n",
    "Нашли пропущенные столбцы в data_test и удалили их из data_train\n",
    "добавили признаки 'final.output.recovery', 'rougher.output.recovery'\n",
    "проверили дубликаты и пропуски.\n",
    "Пропуски заполнили ближайшими данными из других строк"
   ]
  },
  {
   "cell_type": "markdown",
   "metadata": {},
   "source": [
    "## Анализ данных"
   ]
  },
  {
   "cell_type": "markdown",
   "metadata": {},
   "source": [
    "### Посмотрим, как меняется концентрация металлов (Au, Ag, Pb) на различных этапах.\n",
    "\n",
    "в сырье, в черновом концентрате, в концентрате после первой очистки и в финальном концентрате. "
   ]
  },
  {
   "cell_type": "markdown",
   "metadata": {},
   "source": [
    "посчитаем среднии значения концентрации для каждого металла на разных этапах обработки"
   ]
  },
  {
   "cell_type": "code",
   "execution_count": 34,
   "metadata": {},
   "outputs": [],
   "source": [
    "# концентрация в сырье\n",
    "r_au = data_full['rougher.input.feed_au'].mean()\n",
    "r_ag = data_full['rougher.input.feed_ag'].mean()\n",
    "r_pb = data_full['rougher.input.feed_pb'].mean()\n",
    "# концентрация в черновом концентрате\n",
    "r_o_au = data_full['rougher.output.concentrate_au'].mean()\n",
    "r_o_ag = data_full['rougher.output.concentrate_ag'].mean()\n",
    "r_o_pb = data_full['rougher.output.concentrate_pb'].mean()\n",
    "# концентрация после первой очистки\n",
    "p_c_au = data_full['primary_cleaner.output.concentrate_au'].mean()\n",
    "p_c_ag = data_full['primary_cleaner.output.concentrate_ag'].mean()\n",
    "p_c_pb = data_full['primary_cleaner.output.concentrate_pb'].mean()\n",
    "# концентрация в финальном концентрате\n",
    "f_au = data_full['final.output.concentrate_au'].mean()\n",
    "f_ag = data_full['final.output.concentrate_ag'].mean()\n",
    "f_pb = data_full['final.output.concentrate_pb'].mean()"
   ]
  },
  {
   "cell_type": "markdown",
   "metadata": {},
   "source": [
    "рассмотрим средние значения данных, внесем в таблицу для наглядности"
   ]
  },
  {
   "cell_type": "code",
   "execution_count": 35,
   "metadata": {},
   "outputs": [
    {
     "data": {
      "text/html": [
       "<div>\n",
       "<style scoped>\n",
       "    .dataframe tbody tr th:only-of-type {\n",
       "        vertical-align: middle;\n",
       "    }\n",
       "\n",
       "    .dataframe tbody tr th {\n",
       "        vertical-align: top;\n",
       "    }\n",
       "\n",
       "    .dataframe thead th {\n",
       "        text-align: right;\n",
       "    }\n",
       "</style>\n",
       "<table border=\"1\" class=\"dataframe\">\n",
       "  <thead>\n",
       "    <tr style=\"text-align: right;\">\n",
       "      <th></th>\n",
       "      <th>Концентрация в сырье, до флотации</th>\n",
       "      <th>Концентрация черновом концентрате, после флотации</th>\n",
       "      <th>Концентрация после первичной очистки</th>\n",
       "      <th>Концентрация в финальном концентрате</th>\n",
       "    </tr>\n",
       "  </thead>\n",
       "  <tbody>\n",
       "    <tr>\n",
       "      <th>Золото</th>\n",
       "      <td>8.266097</td>\n",
       "      <td>19.772000</td>\n",
       "      <td>32.119400</td>\n",
       "      <td>44.076513</td>\n",
       "    </tr>\n",
       "    <tr>\n",
       "      <th>Серебро</th>\n",
       "      <td>8.794927</td>\n",
       "      <td>11.994759</td>\n",
       "      <td>8.442408</td>\n",
       "      <td>5.168470</td>\n",
       "    </tr>\n",
       "    <tr>\n",
       "      <th>Свинец</th>\n",
       "      <td>3.598085</td>\n",
       "      <td>7.606272</td>\n",
       "      <td>9.829530</td>\n",
       "      <td>9.978895</td>\n",
       "    </tr>\n",
       "  </tbody>\n",
       "</table>\n",
       "</div>"
      ],
      "text/plain": [
       "         Концентрация в сырье, до флотации  \\\n",
       "Золото                            8.266097   \n",
       "Серебро                           8.794927   \n",
       "Свинец                            3.598085   \n",
       "\n",
       "         Концентрация черновом концентрате, после флотации  \\\n",
       "Золото                                           19.772000   \n",
       "Серебро                                          11.994759   \n",
       "Свинец                                            7.606272   \n",
       "\n",
       "         Концентрация после первичной очистки  \\\n",
       "Золото                              32.119400   \n",
       "Серебро                              8.442408   \n",
       "Свинец                               9.829530   \n",
       "\n",
       "         Концентрация в финальном концентрате  \n",
       "Золото                              44.076513  \n",
       "Серебро                              5.168470  \n",
       "Свинец                               9.978895  "
      ]
     },
     "execution_count": 35,
     "metadata": {},
     "output_type": "execute_result"
    }
   ],
   "source": [
    "tabl = pd.DataFrame(index=['Золото','Серебро','Свинец'], \n",
    "                    columns=['Концентрация в сырье, до флотации','Концентрация черновом концентрате, после флотации', \n",
    "                             'Концентрация после первичной очистки','Концентрация в финальном концентрате'])\n",
    "\n",
    "tabl['Концентрация в сырье, до флотации'] = r_au, r_ag, r_pb\n",
    "tabl['Концентрация черновом концентрате, после флотации'] = r_o_au, r_o_ag, r_o_pb\n",
    "tabl['Концентрация после первичной очистки'] = p_c_au, p_c_ag, p_c_pb\n",
    "tabl['Концентрация в финальном концентрате'] = f_au, f_ag, f_pb,\n",
    "\n",
    "tabl"
   ]
  },
  {
   "cell_type": "code",
   "execution_count": 36,
   "metadata": {},
   "outputs": [
    {
     "name": "stdout",
     "output_type": "stream",
     "text": [
      "Изменение концентрации Золота в 5.332203481342313 раз\n",
      "Изменение концентрации Свинца в 2.7733905617626364 раз\n"
     ]
    }
   ],
   "source": [
    "print('Изменение концентрации Золота в', f_au/r_au,'раз')\n",
    "print('Изменение концентрации Свинца в', f_pb/r_pb,'раз')"
   ]
  },
  {
   "cell_type": "markdown",
   "metadata": {},
   "source": [
    "Вывод\n",
    "\n",
    "Проанализировав данные можно увидеть, что концентрация Золота и Свинца увеличились с каждыми этапом обработки. Золото с 8,26 до 44,07, практиески в 5 раз больше, а Свинец с 3,59 до 9,97 в 3 раза больше.\n",
    "\n",
    "концентрация Серебра же после первой и последующих очисток уменьшилось, возможно серебро изымалось и использовалось в других обработках."
   ]
  },
  {
   "cell_type": "markdown",
   "metadata": {},
   "source": [
    "### Сравним распределения размеров гранул исходного сырья на обучающей и тестовой выборках. \n",
    "Если распределения сильно отличаются друг от друга, оценка модели будет неправильной."
   ]
  },
  {
   "cell_type": "markdown",
   "metadata": {},
   "source": [
    "Построим диаграммы распределения размеров гранул"
   ]
  },
  {
   "cell_type": "code",
   "execution_count": 37,
   "metadata": {},
   "outputs": [
    {
     "data": {
      "image/png": "[encoded data removed]",
      "text/plain": [
       "<Figure size 720x360 with 1 Axes>"
      ]
     },
     "metadata": {
      "needs_background": "light"
     },
     "output_type": "display_data"
    }
   ],
   "source": [
    "plt.title('Распределение размеров гранул исходного сырья')\n",
    "#график в обучающей выборке\n",
    "data_train['rougher.input.feed_size'].plot(kind=\"hist\", grid=True, bins=200, figsize=(10,5))\n",
    "mean_tr = data_train['rougher.input.feed_size'].mean()\n",
    "#график в тестовой выборке\n",
    "data_test['rougher.input.feed_size'].plot(kind=\"hist\", grid=True, bins=200, figsize=(10,5))\n",
    "mean_t = data_test['rougher.input.feed_size'].mean()\n",
    "plt.legend(['обучающая выборка','тестовая выборка'])\n",
    "plt.axvline(x=mean_tr, color='r', label='axvline - full height')\n",
    "plt.axvline(x=mean_t, color='g', label='axvline - full height')\n",
    "plt.xlabel('размер гранул')\n",
    "plt.ylabel('Количество')\n",
    "plt.show()"
   ]
  },
  {
   "cell_type": "markdown",
   "metadata": {},
   "source": [
    "по графику видно что распределение размеров гранул в обучающей и тестовой выборке примерно равны, Средние значения так же примерно равны, поэтому проводить какие либо дополнительные корректировки не нужно. "
   ]
  },
  {
   "cell_type": "code",
   "execution_count": 38,
   "metadata": {},
   "outputs": [
    {
     "data": {
      "image/png": "[encoded data removed]",
      "text/plain": [
       "<Figure size 1440x720 with 1 Axes>"
      ]
     },
     "metadata": {
      "needs_background": "light"
     },
     "output_type": "display_data"
    }
   ],
   "source": [
    "plt.figure(figsize=(20, 10))\n",
    "\n",
    "data_train['rougher.input.feed_size'].plot.kde(label='Обучающая выборка')\n",
    "data_test['rougher.input.feed_size'].plot.kde(label='Тестовая выборка')\n",
    "\n",
    "plt.xlim(0, 150)\n",
    "\n",
    "plt.title(\"Распределение размеров гранул в выборках\")\n",
    "plt.xlabel(\"Количество гранул\")\n",
    "plt.ylabel(\"Размер гранул\")\n",
    "plt.grid(True)\n",
    "plt.legend()\n",
    "plt.show;"
   ]
  },
  {
   "cell_type": "markdown",
   "metadata": {},
   "source": [
    "### Исследуем суммарную концентрацию металлов на разных стадиях.\n",
    "\n",
    "в сырье, в черновом концентрате, в концентрате после первой очистки и в финальном концентрате."
   ]
  },
  {
   "cell_type": "markdown",
   "metadata": {},
   "source": [
    "Посчитаем суммарную концентрацию металлов на разных стадиях"
   ]
  },
  {
   "cell_type": "code",
   "execution_count": 39,
   "metadata": {},
   "outputs": [],
   "source": [
    "#Сумарная концентрация золота, серебра и свинца в сырье\n",
    "s_r = (data_full['rougher.input.feed_au'] + \n",
    "       data_full['rougher.input.feed_ag'] + \n",
    "       data_full['rougher.input.feed_pb'])\n",
    "#Сумарная концентрация золота, серебра и свинца в черновом концентрате\n",
    "s_r_o = (data_full['rougher.output.concentrate_au'] +\n",
    "         data_full['rougher.output.concentrate_ag'] +\n",
    "         data_full['rougher.output.concentrate_pb'])\n",
    "#Сумарная концентрация золота, серебра и свинца в концентрате после первой очистки \n",
    "s_p_c = (data_full['primary_cleaner.output.concentrate_au'] +\n",
    "         data_full['primary_cleaner.output.concentrate_ag'] +\n",
    "         data_full['primary_cleaner.output.concentrate_pb'])\n",
    "#Сумарная концентрация золота, серебра и свинца в финальном концентрате.\n",
    "s_f = (data_full['final.output.concentrate_au'] +\n",
    "       data_full['final.output.concentrate_ag'] +\n",
    "       data_full['final.output.concentrate_pb'])"
   ]
  },
  {
   "cell_type": "code",
   "execution_count": 40,
   "metadata": {},
   "outputs": [
    {
     "data": {
      "image/png": "[encoded data removed]",
      "text/plain": [
       "<Figure size 720x360 with 1 Axes>"
      ]
     },
     "metadata": {
      "needs_background": "light"
     },
     "output_type": "display_data"
    }
   ],
   "source": [
    "plt.title('Распределение суммарных концентраций металлов на разных стадиях.')\n",
    "#график распределения в сырье\n",
    "s_r.plot(kind=\"hist\", grid=True, bins=200, figsize=(10,5))\n",
    "#график распределения в черновом концентрате\n",
    "s_r_o.plot(kind=\"hist\", grid=True, bins=200, figsize=(10,5))\n",
    "#график распределения после первой очистки\n",
    "s_p_c.plot(kind=\"hist\", grid=True, bins=200, figsize=(10,5))\n",
    "#график распределения в финальном концентрате\n",
    "s_f.plot(kind=\"hist\", grid=True, bins=200, figsize=(10,5))\n",
    "\n",
    "\n",
    "plt.legend(['концентрат в сырье','черновой концентрат', 'концентрат после первой очистки','финальный коцентрат'])\n",
    "plt.xlabel('концентрат')\n",
    "plt.ylabel('Количество')\n",
    "plt.show()"
   ]
  },
  {
   "cell_type": "markdown",
   "metadata": {},
   "source": [
    "в обобщенном графике видно что присутствуют выбросы в районе 0, рассмотрим графики по отдельности"
   ]
  },
  {
   "cell_type": "code",
   "execution_count": 41,
   "metadata": {},
   "outputs": [
    {
     "data": {
      "image/png": "[encoded data removed]",
      "text/plain": [
       "<Figure size 720x360 with 1 Axes>"
      ]
     },
     "metadata": {
      "needs_background": "light"
     },
     "output_type": "display_data"
    }
   ],
   "source": [
    "plt.title('Распределение суммарных концентраций металлов в сырье.')\n",
    "#график распределения в сырье\n",
    "s_r.plot(kind=\"hist\", grid=True, bins=200, figsize=(10,5))\n",
    "\n",
    "plt.legend(['концентрат в сырье'])\n",
    "plt.xlabel('концентрация')\n",
    "plt.ylabel('Количество')\n",
    "plt.show()"
   ]
  },
  {
   "cell_type": "code",
   "execution_count": 42,
   "metadata": {},
   "outputs": [
    {
     "data": {
      "image/png": "[encoded data removed]",
      "text/plain": [
       "<Figure size 720x360 with 1 Axes>"
      ]
     },
     "metadata": {
      "needs_background": "light"
     },
     "output_type": "display_data"
    }
   ],
   "source": [
    "plt.title('Распределение суммарных концентраций металлов в черновом концентрате.')\n",
    "\n",
    "#график распределения в черновом концентрате\n",
    "s_r_o.plot(kind=\"hist\", grid=True, bins=200, figsize=(10,5))\n",
    "\n",
    "plt.legend(['черновой концентрат'])\n",
    "plt.xlabel('концентрация')\n",
    "plt.ylabel('Количество')\n",
    "plt.show()"
   ]
  },
  {
   "cell_type": "code",
   "execution_count": 43,
   "metadata": {},
   "outputs": [
    {
     "data": {
      "image/png": "[encoded data removed]",
      "text/plain": [
       "<Figure size 720x360 with 1 Axes>"
      ]
     },
     "metadata": {
      "needs_background": "light"
     },
     "output_type": "display_data"
    }
   ],
   "source": [
    "plt.title('Распределение суммарных концентраций металлов после первой очистки.')\n",
    "#график распределения после первой очистки\n",
    "s_p_c.plot(kind=\"hist\", grid=True, bins=200, figsize=(10,5))\n",
    "\n",
    "plt.legend(['концентрат после первой очистки'])\n",
    "plt.xlabel('концентрация')\n",
    "plt.ylabel('Количество')\n",
    "plt.show()"
   ]
  },
  {
   "cell_type": "code",
   "execution_count": 44,
   "metadata": {},
   "outputs": [
    {
     "data": {
      "image/png": "[encoded data removed]",
      "text/plain": [
       "<Figure size 720x360 with 1 Axes>"
      ]
     },
     "metadata": {
      "needs_background": "light"
     },
     "output_type": "display_data"
    }
   ],
   "source": [
    "plt.title('Распределение суммарных концентраций металлов в финальном концентрате.')\n",
    "\n",
    "#график распределения в финальном концентрате\n",
    "s_f.plot(kind=\"hist\", grid=True, bins=200, figsize=(10,5))\n",
    "\n",
    "\n",
    "plt.legend(['финальный коцентрат'])\n",
    "plt.xlabel('концентрация')\n",
    "plt.ylabel('Количество')\n",
    "plt.show()"
   ]
  },
  {
   "cell_type": "markdown",
   "metadata": {},
   "source": [
    "Выбросы в районе 0 присутствуют во всех графиках, отчетливее всего в черновом концентрате и после первой чистки, и немного в финальном концентрате"
   ]
  },
  {
   "cell_type": "markdown",
   "metadata": {},
   "source": [
    "Избавимся от выбросов, удалим данные Золота, Серебра и Свинца, которые меньше 1, возможно можно взять и 30, 40 или даже 50, но так как они распределены без выбросов, а выбросы только в районе 0, то думаю меньше 1 значения данных можно удалить."
   ]
  },
  {
   "cell_type": "code",
   "execution_count": 47,
   "metadata": {},
   "outputs": [],
   "source": [
    "data_full['rougher.input.feed_sum']=data_full['rougher.input.feed_au']+data_full['rougher.input.feed_ag']+data_full['rougher.input.feed_pb']\n",
    "\n",
    "data_full['rougher.output.concentrate_sum']=data_full['rougher.output.concentrate_au']+data_full['rougher.output.concentrate_ag']+data_full['rougher.output.concentrate_pb']\n",
    "\n",
    "data_full['primary_cleaner.output.concentrate_sum']=data_full['primary_cleaner.output.concentrate_au']+data_full['primary_cleaner.output.concentrate_ag']+data_full['primary_cleaner.output.concentrate_pb']\n",
    "\n",
    "data_full['final.output.concentrate_sum']=data_full['final.output.concentrate_au']+data_full['final.output.concentrate_ag']+data_full['final.output.concentrate_pb']\n"
   ]
  },
  {
   "cell_type": "code",
   "execution_count": 48,
   "metadata": {},
   "outputs": [
    {
     "data": {
      "text/html": [
       "<div>\n",
       "<style scoped>\n",
       "    .dataframe tbody tr th:only-of-type {\n",
       "        vertical-align: middle;\n",
       "    }\n",
       "\n",
       "    .dataframe tbody tr th {\n",
       "        vertical-align: top;\n",
       "    }\n",
       "\n",
       "    .dataframe thead th {\n",
       "        text-align: right;\n",
       "    }\n",
       "</style>\n",
       "<table border=\"1\" class=\"dataframe\">\n",
       "  <thead>\n",
       "    <tr style=\"text-align: right;\">\n",
       "      <th></th>\n",
       "      <th>date</th>\n",
       "      <th>rougher.input.feed_au</th>\n",
       "      <th>rougher.input.feed_ag</th>\n",
       "      <th>rougher.input.feed_pb</th>\n",
       "      <th>rougher.input.feed_sol</th>\n",
       "      <th>rougher.input.feed_rate</th>\n",
       "      <th>rougher.input.feed_size</th>\n",
       "      <th>rougher.input.floatbank10_sulfate</th>\n",
       "      <th>rougher.input.floatbank10_xanthate</th>\n",
       "      <th>rougher.state.floatbank10_a_air</th>\n",
       "      <th>...</th>\n",
       "      <th>final.output.concentrate_sol</th>\n",
       "      <th>final.output.recovery</th>\n",
       "      <th>final.output.tail_au</th>\n",
       "      <th>final.output.tail_ag</th>\n",
       "      <th>final.output.tail_pb</th>\n",
       "      <th>final.output.tail_sol</th>\n",
       "      <th>rougher.input.feed_sum</th>\n",
       "      <th>rougher.output.concentrate_sum</th>\n",
       "      <th>primary_cleaner.output.concentrate_sum</th>\n",
       "      <th>final.output.concentrate_sum</th>\n",
       "    </tr>\n",
       "  </thead>\n",
       "  <tbody>\n",
       "    <tr>\n",
       "      <th>0</th>\n",
       "      <td>2016-01-15 00:00:00</td>\n",
       "      <td>6.486150</td>\n",
       "      <td>6.100378</td>\n",
       "      <td>2.284912</td>\n",
       "      <td>36.808594</td>\n",
       "      <td>523.546326</td>\n",
       "      <td>55.486599</td>\n",
       "      <td>11.986616</td>\n",
       "      <td>6.007990</td>\n",
       "      <td>999.706909</td>\n",
       "      <td>...</td>\n",
       "      <td>5.507324</td>\n",
       "      <td>70.541216</td>\n",
       "      <td>2.143149</td>\n",
       "      <td>10.411962</td>\n",
       "      <td>0.895447</td>\n",
       "      <td>16.904297</td>\n",
       "      <td>14.871440</td>\n",
       "      <td>38.395653</td>\n",
       "      <td>53.111627</td>\n",
       "      <td>58.137072</td>\n",
       "    </tr>\n",
       "    <tr>\n",
       "      <th>1</th>\n",
       "      <td>2016-01-15 01:00:00</td>\n",
       "      <td>6.478583</td>\n",
       "      <td>6.161113</td>\n",
       "      <td>2.266033</td>\n",
       "      <td>35.753385</td>\n",
       "      <td>525.290581</td>\n",
       "      <td>57.278666</td>\n",
       "      <td>11.971193</td>\n",
       "      <td>6.005766</td>\n",
       "      <td>1000.286398</td>\n",
       "      <td>...</td>\n",
       "      <td>5.257781</td>\n",
       "      <td>69.266198</td>\n",
       "      <td>2.224930</td>\n",
       "      <td>10.462676</td>\n",
       "      <td>0.927452</td>\n",
       "      <td>16.634514</td>\n",
       "      <td>14.905729</td>\n",
       "      <td>38.945647</td>\n",
       "      <td>53.174338</td>\n",
       "      <td>58.699942</td>\n",
       "    </tr>\n",
       "    <tr>\n",
       "      <th>2</th>\n",
       "      <td>2016-01-15 02:00:00</td>\n",
       "      <td>6.362222</td>\n",
       "      <td>6.116455</td>\n",
       "      <td>2.159622</td>\n",
       "      <td>35.971630</td>\n",
       "      <td>530.026610</td>\n",
       "      <td>57.510649</td>\n",
       "      <td>11.920603</td>\n",
       "      <td>6.197377</td>\n",
       "      <td>999.719565</td>\n",
       "      <td>...</td>\n",
       "      <td>5.383759</td>\n",
       "      <td>68.116445</td>\n",
       "      <td>2.257889</td>\n",
       "      <td>10.507046</td>\n",
       "      <td>0.953716</td>\n",
       "      <td>16.208849</td>\n",
       "      <td>14.638299</td>\n",
       "      <td>38.649756</td>\n",
       "      <td>52.927464</td>\n",
       "      <td>58.927421</td>\n",
       "    </tr>\n",
       "    <tr>\n",
       "      <th>3</th>\n",
       "      <td>2016-01-15 03:00:00</td>\n",
       "      <td>6.118189</td>\n",
       "      <td>6.043309</td>\n",
       "      <td>2.037807</td>\n",
       "      <td>36.862241</td>\n",
       "      <td>542.590390</td>\n",
       "      <td>57.792734</td>\n",
       "      <td>11.630094</td>\n",
       "      <td>6.203177</td>\n",
       "      <td>999.814770</td>\n",
       "      <td>...</td>\n",
       "      <td>4.858634</td>\n",
       "      <td>68.347543</td>\n",
       "      <td>2.146849</td>\n",
       "      <td>10.422762</td>\n",
       "      <td>0.883763</td>\n",
       "      <td>16.532835</td>\n",
       "      <td>14.199305</td>\n",
       "      <td>38.411473</td>\n",
       "      <td>43.979185</td>\n",
       "      <td>58.714815</td>\n",
       "    </tr>\n",
       "    <tr>\n",
       "      <th>4</th>\n",
       "      <td>2016-01-15 04:00:00</td>\n",
       "      <td>5.663707</td>\n",
       "      <td>6.060915</td>\n",
       "      <td>1.786875</td>\n",
       "      <td>34.347666</td>\n",
       "      <td>540.531893</td>\n",
       "      <td>56.047189</td>\n",
       "      <td>10.957755</td>\n",
       "      <td>6.198826</td>\n",
       "      <td>999.678690</td>\n",
       "      <td>...</td>\n",
       "      <td>4.939416</td>\n",
       "      <td>66.927016</td>\n",
       "      <td>2.055292</td>\n",
       "      <td>10.360302</td>\n",
       "      <td>0.792826</td>\n",
       "      <td>16.525686</td>\n",
       "      <td>13.511497</td>\n",
       "      <td>38.867359</td>\n",
       "      <td>52.121146</td>\n",
       "      <td>59.065251</td>\n",
       "    </tr>\n",
       "  </tbody>\n",
       "</table>\n",
       "<p>5 rows × 91 columns</p>\n",
       "</div>"
      ],
      "text/plain": [
       "                 date  rougher.input.feed_au  rougher.input.feed_ag  \\\n",
       "0 2016-01-15 00:00:00               6.486150               6.100378   \n",
       "1 2016-01-15 01:00:00               6.478583               6.161113   \n",
       "2 2016-01-15 02:00:00               6.362222               6.116455   \n",
       "3 2016-01-15 03:00:00               6.118189               6.043309   \n",
       "4 2016-01-15 04:00:00               5.663707               6.060915   \n",
       "\n",
       "   rougher.input.feed_pb  rougher.input.feed_sol  rougher.input.feed_rate  \\\n",
       "0               2.284912               36.808594               523.546326   \n",
       "1               2.266033               35.753385               525.290581   \n",
       "2               2.159622               35.971630               530.026610   \n",
       "3               2.037807               36.862241               542.590390   \n",
       "4               1.786875               34.347666               540.531893   \n",
       "\n",
       "   rougher.input.feed_size  rougher.input.floatbank10_sulfate  \\\n",
       "0                55.486599                          11.986616   \n",
       "1                57.278666                          11.971193   \n",
       "2                57.510649                          11.920603   \n",
       "3                57.792734                          11.630094   \n",
       "4                56.047189                          10.957755   \n",
       "\n",
       "   rougher.input.floatbank10_xanthate  rougher.state.floatbank10_a_air  ...  \\\n",
       "0                            6.007990                       999.706909  ...   \n",
       "1                            6.005766                      1000.286398  ...   \n",
       "2                            6.197377                       999.719565  ...   \n",
       "3                            6.203177                       999.814770  ...   \n",
       "4                            6.198826                       999.678690  ...   \n",
       "\n",
       "   final.output.concentrate_sol  final.output.recovery  final.output.tail_au  \\\n",
       "0                      5.507324              70.541216              2.143149   \n",
       "1                      5.257781              69.266198              2.224930   \n",
       "2                      5.383759              68.116445              2.257889   \n",
       "3                      4.858634              68.347543              2.146849   \n",
       "4                      4.939416              66.927016              2.055292   \n",
       "\n",
       "   final.output.tail_ag  final.output.tail_pb  final.output.tail_sol  \\\n",
       "0             10.411962              0.895447              16.904297   \n",
       "1             10.462676              0.927452              16.634514   \n",
       "2             10.507046              0.953716              16.208849   \n",
       "3             10.422762              0.883763              16.532835   \n",
       "4             10.360302              0.792826              16.525686   \n",
       "\n",
       "   rougher.input.feed_sum  rougher.output.concentrate_sum  \\\n",
       "0               14.871440                       38.395653   \n",
       "1               14.905729                       38.945647   \n",
       "2               14.638299                       38.649756   \n",
       "3               14.199305                       38.411473   \n",
       "4               13.511497                       38.867359   \n",
       "\n",
       "   primary_cleaner.output.concentrate_sum  final.output.concentrate_sum  \n",
       "0                               53.111627                     58.137072  \n",
       "1                               53.174338                     58.699942  \n",
       "2                               52.927464                     58.927421  \n",
       "3                               43.979185                     58.714815  \n",
       "4                               52.121146                     59.065251  \n",
       "\n",
       "[5 rows x 91 columns]"
      ]
     },
     "execution_count": 48,
     "metadata": {},
     "output_type": "execute_result"
    }
   ],
   "source": [
    "data_full.head()"
   ]
  },
  {
   "cell_type": "code",
   "execution_count": 49,
   "metadata": {},
   "outputs": [
    {
     "data": {
      "text/html": [
       "<div>\n",
       "<style scoped>\n",
       "    .dataframe tbody tr th:only-of-type {\n",
       "        vertical-align: middle;\n",
       "    }\n",
       "\n",
       "    .dataframe tbody tr th {\n",
       "        vertical-align: top;\n",
       "    }\n",
       "\n",
       "    .dataframe thead th {\n",
       "        text-align: right;\n",
       "    }\n",
       "</style>\n",
       "<table border=\"1\" class=\"dataframe\">\n",
       "  <thead>\n",
       "    <tr style=\"text-align: right;\">\n",
       "      <th></th>\n",
       "      <th>index</th>\n",
       "      <th>date</th>\n",
       "      <th>rougher.input.feed_au</th>\n",
       "      <th>rougher.input.feed_ag</th>\n",
       "      <th>rougher.input.feed_pb</th>\n",
       "      <th>rougher.input.feed_sol</th>\n",
       "      <th>rougher.input.feed_rate</th>\n",
       "      <th>rougher.input.feed_size</th>\n",
       "      <th>rougher.input.floatbank10_sulfate</th>\n",
       "      <th>rougher.input.floatbank10_xanthate</th>\n",
       "      <th>...</th>\n",
       "      <th>final.output.concentrate_sol</th>\n",
       "      <th>final.output.recovery</th>\n",
       "      <th>final.output.tail_au</th>\n",
       "      <th>final.output.tail_ag</th>\n",
       "      <th>final.output.tail_pb</th>\n",
       "      <th>final.output.tail_sol</th>\n",
       "      <th>rougher.input.feed_sum</th>\n",
       "      <th>rougher.output.concentrate_sum</th>\n",
       "      <th>primary_cleaner.output.concentrate_sum</th>\n",
       "      <th>final.output.concentrate_sum</th>\n",
       "    </tr>\n",
       "  </thead>\n",
       "  <tbody>\n",
       "    <tr>\n",
       "      <th>0</th>\n",
       "      <td>0</td>\n",
       "      <td>2016-01-15 00:00:00</td>\n",
       "      <td>6.486150</td>\n",
       "      <td>6.100378</td>\n",
       "      <td>2.284912</td>\n",
       "      <td>36.808594</td>\n",
       "      <td>523.546326</td>\n",
       "      <td>55.486599</td>\n",
       "      <td>11.986616</td>\n",
       "      <td>6.007990</td>\n",
       "      <td>...</td>\n",
       "      <td>5.507324</td>\n",
       "      <td>70.541216</td>\n",
       "      <td>2.143149</td>\n",
       "      <td>10.411962</td>\n",
       "      <td>0.895447</td>\n",
       "      <td>16.904297</td>\n",
       "      <td>14.871440</td>\n",
       "      <td>38.395653</td>\n",
       "      <td>53.111627</td>\n",
       "      <td>58.137072</td>\n",
       "    </tr>\n",
       "    <tr>\n",
       "      <th>1</th>\n",
       "      <td>1</td>\n",
       "      <td>2016-01-15 01:00:00</td>\n",
       "      <td>6.478583</td>\n",
       "      <td>6.161113</td>\n",
       "      <td>2.266033</td>\n",
       "      <td>35.753385</td>\n",
       "      <td>525.290581</td>\n",
       "      <td>57.278666</td>\n",
       "      <td>11.971193</td>\n",
       "      <td>6.005766</td>\n",
       "      <td>...</td>\n",
       "      <td>5.257781</td>\n",
       "      <td>69.266198</td>\n",
       "      <td>2.224930</td>\n",
       "      <td>10.462676</td>\n",
       "      <td>0.927452</td>\n",
       "      <td>16.634514</td>\n",
       "      <td>14.905729</td>\n",
       "      <td>38.945647</td>\n",
       "      <td>53.174338</td>\n",
       "      <td>58.699942</td>\n",
       "    </tr>\n",
       "    <tr>\n",
       "      <th>2</th>\n",
       "      <td>2</td>\n",
       "      <td>2016-01-15 02:00:00</td>\n",
       "      <td>6.362222</td>\n",
       "      <td>6.116455</td>\n",
       "      <td>2.159622</td>\n",
       "      <td>35.971630</td>\n",
       "      <td>530.026610</td>\n",
       "      <td>57.510649</td>\n",
       "      <td>11.920603</td>\n",
       "      <td>6.197377</td>\n",
       "      <td>...</td>\n",
       "      <td>5.383759</td>\n",
       "      <td>68.116445</td>\n",
       "      <td>2.257889</td>\n",
       "      <td>10.507046</td>\n",
       "      <td>0.953716</td>\n",
       "      <td>16.208849</td>\n",
       "      <td>14.638299</td>\n",
       "      <td>38.649756</td>\n",
       "      <td>52.927464</td>\n",
       "      <td>58.927421</td>\n",
       "    </tr>\n",
       "    <tr>\n",
       "      <th>3</th>\n",
       "      <td>3</td>\n",
       "      <td>2016-01-15 03:00:00</td>\n",
       "      <td>6.118189</td>\n",
       "      <td>6.043309</td>\n",
       "      <td>2.037807</td>\n",
       "      <td>36.862241</td>\n",
       "      <td>542.590390</td>\n",
       "      <td>57.792734</td>\n",
       "      <td>11.630094</td>\n",
       "      <td>6.203177</td>\n",
       "      <td>...</td>\n",
       "      <td>4.858634</td>\n",
       "      <td>68.347543</td>\n",
       "      <td>2.146849</td>\n",
       "      <td>10.422762</td>\n",
       "      <td>0.883763</td>\n",
       "      <td>16.532835</td>\n",
       "      <td>14.199305</td>\n",
       "      <td>38.411473</td>\n",
       "      <td>43.979185</td>\n",
       "      <td>58.714815</td>\n",
       "    </tr>\n",
       "    <tr>\n",
       "      <th>4</th>\n",
       "      <td>4</td>\n",
       "      <td>2016-01-15 04:00:00</td>\n",
       "      <td>5.663707</td>\n",
       "      <td>6.060915</td>\n",
       "      <td>1.786875</td>\n",
       "      <td>34.347666</td>\n",
       "      <td>540.531893</td>\n",
       "      <td>56.047189</td>\n",
       "      <td>10.957755</td>\n",
       "      <td>6.198826</td>\n",
       "      <td>...</td>\n",
       "      <td>4.939416</td>\n",
       "      <td>66.927016</td>\n",
       "      <td>2.055292</td>\n",
       "      <td>10.360302</td>\n",
       "      <td>0.792826</td>\n",
       "      <td>16.525686</td>\n",
       "      <td>13.511497</td>\n",
       "      <td>38.867359</td>\n",
       "      <td>52.121146</td>\n",
       "      <td>59.065251</td>\n",
       "    </tr>\n",
       "  </tbody>\n",
       "</table>\n",
       "<p>5 rows × 92 columns</p>\n",
       "</div>"
      ],
      "text/plain": [
       "   index                date  rougher.input.feed_au  rougher.input.feed_ag  \\\n",
       "0      0 2016-01-15 00:00:00               6.486150               6.100378   \n",
       "1      1 2016-01-15 01:00:00               6.478583               6.161113   \n",
       "2      2 2016-01-15 02:00:00               6.362222               6.116455   \n",
       "3      3 2016-01-15 03:00:00               6.118189               6.043309   \n",
       "4      4 2016-01-15 04:00:00               5.663707               6.060915   \n",
       "\n",
       "   rougher.input.feed_pb  rougher.input.feed_sol  rougher.input.feed_rate  \\\n",
       "0               2.284912               36.808594               523.546326   \n",
       "1               2.266033               35.753385               525.290581   \n",
       "2               2.159622               35.971630               530.026610   \n",
       "3               2.037807               36.862241               542.590390   \n",
       "4               1.786875               34.347666               540.531893   \n",
       "\n",
       "   rougher.input.feed_size  rougher.input.floatbank10_sulfate  \\\n",
       "0                55.486599                          11.986616   \n",
       "1                57.278666                          11.971193   \n",
       "2                57.510649                          11.920603   \n",
       "3                57.792734                          11.630094   \n",
       "4                56.047189                          10.957755   \n",
       "\n",
       "   rougher.input.floatbank10_xanthate  ...  final.output.concentrate_sol  \\\n",
       "0                            6.007990  ...                      5.507324   \n",
       "1                            6.005766  ...                      5.257781   \n",
       "2                            6.197377  ...                      5.383759   \n",
       "3                            6.203177  ...                      4.858634   \n",
       "4                            6.198826  ...                      4.939416   \n",
       "\n",
       "   final.output.recovery  final.output.tail_au  final.output.tail_ag  \\\n",
       "0              70.541216              2.143149             10.411962   \n",
       "1              69.266198              2.224930             10.462676   \n",
       "2              68.116445              2.257889             10.507046   \n",
       "3              68.347543              2.146849             10.422762   \n",
       "4              66.927016              2.055292             10.360302   \n",
       "\n",
       "   final.output.tail_pb  final.output.tail_sol  rougher.input.feed_sum  \\\n",
       "0              0.895447              16.904297               14.871440   \n",
       "1              0.927452              16.634514               14.905729   \n",
       "2              0.953716              16.208849               14.638299   \n",
       "3              0.883763              16.532835               14.199305   \n",
       "4              0.792826              16.525686               13.511497   \n",
       "\n",
       "   rougher.output.concentrate_sum  primary_cleaner.output.concentrate_sum  \\\n",
       "0                       38.395653                               53.111627   \n",
       "1                       38.945647                               53.174338   \n",
       "2                       38.649756                               52.927464   \n",
       "3                       38.411473                               43.979185   \n",
       "4                       38.867359                               52.121146   \n",
       "\n",
       "   final.output.concentrate_sum  \n",
       "0                     58.137072  \n",
       "1                     58.699942  \n",
       "2                     58.927421  \n",
       "3                     58.714815  \n",
       "4                     59.065251  \n",
       "\n",
       "[5 rows x 92 columns]"
      ]
     },
     "execution_count": 49,
     "metadata": {},
     "output_type": "execute_result"
    }
   ],
   "source": [
    "data_full=data_full[data_full['rougher.input.feed_sum']>1]\n",
    "data_full=data_full[data_full['rougher.output.concentrate_sum']>1]\n",
    "data_full=data_full[data_full['primary_cleaner.output.concentrate_sum']>1]\n",
    "data_full=data_full[data_full['final.output.concentrate_sum']>1]\n",
    "data_full=data_full.reset_index()\n",
    "data_full.head(5)"
   ]
  },
  {
   "cell_type": "code",
   "execution_count": 51,
   "metadata": {},
   "outputs": [],
   "source": [
    "data_train = data_train.set_index('date')\n",
    "data_full = data_full.set_index('date')\n",
    "data_train = data_train.loc[data_train.index.isin(data_full.index)]"
   ]
  },
  {
   "cell_type": "code",
   "execution_count": 52,
   "metadata": {},
   "outputs": [],
   "source": [
    "#Сумарная концентрация золота, серебра и свинца в сырье\n",
    "s_r = (data_full['rougher.input.feed_au'] + \n",
    "       data_full['rougher.input.feed_ag'] + \n",
    "       data_full['rougher.input.feed_pb'])\n",
    "#Сумарная концентрация золота, серебра и свинца в черновом концентрате\n",
    "s_r_o = (data_full['rougher.output.concentrate_au'] +\n",
    "         data_full['rougher.output.concentrate_ag'] +\n",
    "         data_full['rougher.output.concentrate_pb'])\n",
    "#Сумарная концентрация золота, серебра и свинца в концентрате после первой очистки \n",
    "s_p_c = (data_full['primary_cleaner.output.concentrate_au'] +\n",
    "         data_full['primary_cleaner.output.concentrate_ag'] +\n",
    "         data_full['primary_cleaner.output.concentrate_pb'])\n",
    "#Сумарная концентрация золота, серебра и свинца в финальном концентрате.\n",
    "s_f = (data_full['final.output.concentrate_au'] +\n",
    "       data_full['final.output.concentrate_ag'] +\n",
    "       data_full['final.output.concentrate_pb'])"
   ]
  },
  {
   "cell_type": "code",
   "execution_count": 53,
   "metadata": {},
   "outputs": [
    {
     "data": {
      "image/png": "[encoded data removed]",
      "text/plain": [
       "<Figure size 720x360 with 1 Axes>"
      ]
     },
     "metadata": {
      "needs_background": "light"
     },
     "output_type": "display_data"
    }
   ],
   "source": [
    "plt.title('Распределение суммарных концентраций металлов на разных стадиях.')\n",
    "#график распределения в сырье\n",
    "s_r.plot(kind=\"hist\", grid=True, bins=200, figsize=(10,5))\n",
    "#график распределения в черновом концентрате\n",
    "s_r_o.plot(kind=\"hist\", grid=True, bins=200, figsize=(10,5))\n",
    "#график распределения после первой очистки\n",
    "s_p_c.plot(kind=\"hist\", grid=True, bins=200, figsize=(10,5))\n",
    "#график распределения в финальном концентрате\n",
    "s_f.plot(kind=\"hist\", grid=True, bins=200, figsize=(10,5))\n",
    "\n",
    "\n",
    "plt.legend(['концентрат в сырье','черновой концентрат', 'концентрат после первой очистки','финальный коцентрат'])\n",
    "plt.xlabel('концентрат')\n",
    "plt.ylabel('Количество')\n",
    "plt.show()"
   ]
  },
  {
   "cell_type": "code",
   "execution_count": 54,
   "metadata": {},
   "outputs": [
    {
     "name": "stdout",
     "output_type": "stream",
     "text": [
      "<class 'pandas.core.frame.DataFrame'>\n",
      "DatetimeIndex: 13773 entries, 2016-01-15 00:00:00 to 2017-12-09 13:59:59\n",
      "Data columns (total 54 columns):\n",
      " #   Column                                      Non-Null Count  Dtype  \n",
      "---  ------                                      --------------  -----  \n",
      " 0   rougher.input.feed_au                       13773 non-null  float64\n",
      " 1   rougher.input.feed_ag                       13773 non-null  float64\n",
      " 2   rougher.input.feed_pb                       13773 non-null  float64\n",
      " 3   rougher.input.feed_sol                      13773 non-null  float64\n",
      " 4   rougher.input.feed_rate                     13773 non-null  float64\n",
      " 5   rougher.input.feed_size                     13773 non-null  float64\n",
      " 6   rougher.input.floatbank10_sulfate           13773 non-null  float64\n",
      " 7   rougher.input.floatbank10_xanthate          13773 non-null  float64\n",
      " 8   rougher.state.floatbank10_a_air             13773 non-null  float64\n",
      " 9   rougher.state.floatbank10_a_level           13773 non-null  float64\n",
      " 10  rougher.state.floatbank10_b_air             13773 non-null  float64\n",
      " 11  rougher.state.floatbank10_b_level           13773 non-null  float64\n",
      " 12  rougher.state.floatbank10_c_air             13773 non-null  float64\n",
      " 13  rougher.state.floatbank10_c_level           13773 non-null  float64\n",
      " 14  rougher.state.floatbank10_d_air             13773 non-null  float64\n",
      " 15  rougher.state.floatbank10_d_level           13773 non-null  float64\n",
      " 16  rougher.state.floatbank10_e_air             13773 non-null  float64\n",
      " 17  rougher.state.floatbank10_e_level           13773 non-null  float64\n",
      " 18  rougher.state.floatbank10_f_air             13773 non-null  float64\n",
      " 19  rougher.state.floatbank10_f_level           13773 non-null  float64\n",
      " 20  rougher.input.floatbank11_sulfate           13773 non-null  float64\n",
      " 21  rougher.input.floatbank11_xanthate          13773 non-null  float64\n",
      " 22  rougher.output.recovery                     13773 non-null  float64\n",
      " 23  primary_cleaner.input.sulfate               13773 non-null  float64\n",
      " 24  primary_cleaner.input.depressant            13773 non-null  float64\n",
      " 25  primary_cleaner.input.feed_size             13773 non-null  float64\n",
      " 26  primary_cleaner.input.xanthate              13773 non-null  float64\n",
      " 27  primary_cleaner.state.floatbank8_a_air      13773 non-null  float64\n",
      " 28  primary_cleaner.state.floatbank8_a_level    13773 non-null  float64\n",
      " 29  primary_cleaner.state.floatbank8_b_air      13773 non-null  float64\n",
      " 30  primary_cleaner.state.floatbank8_b_level    13773 non-null  float64\n",
      " 31  primary_cleaner.state.floatbank8_c_air      13773 non-null  float64\n",
      " 32  primary_cleaner.state.floatbank8_c_level    13773 non-null  float64\n",
      " 33  primary_cleaner.state.floatbank8_d_air      13773 non-null  float64\n",
      " 34  primary_cleaner.state.floatbank8_d_level    13773 non-null  float64\n",
      " 35  secondary_cleaner.state.floatbank2_a_air    13773 non-null  float64\n",
      " 36  secondary_cleaner.state.floatbank2_a_level  13773 non-null  float64\n",
      " 37  secondary_cleaner.state.floatbank2_b_air    13773 non-null  float64\n",
      " 38  secondary_cleaner.state.floatbank2_b_level  13773 non-null  float64\n",
      " 39  secondary_cleaner.state.floatbank3_a_air    13773 non-null  float64\n",
      " 40  secondary_cleaner.state.floatbank3_a_level  13773 non-null  float64\n",
      " 41  secondary_cleaner.state.floatbank3_b_air    13773 non-null  float64\n",
      " 42  secondary_cleaner.state.floatbank3_b_level  13773 non-null  float64\n",
      " 43  secondary_cleaner.state.floatbank4_a_air    13773 non-null  float64\n",
      " 44  secondary_cleaner.state.floatbank4_a_level  13773 non-null  float64\n",
      " 45  secondary_cleaner.state.floatbank4_b_air    13773 non-null  float64\n",
      " 46  secondary_cleaner.state.floatbank4_b_level  13773 non-null  float64\n",
      " 47  secondary_cleaner.state.floatbank5_a_air    13773 non-null  float64\n",
      " 48  secondary_cleaner.state.floatbank5_a_level  13773 non-null  float64\n",
      " 49  secondary_cleaner.state.floatbank5_b_air    13773 non-null  float64\n",
      " 50  secondary_cleaner.state.floatbank5_b_level  13773 non-null  float64\n",
      " 51  secondary_cleaner.state.floatbank6_a_air    13773 non-null  float64\n",
      " 52  secondary_cleaner.state.floatbank6_a_level  13773 non-null  float64\n",
      " 53  final.output.recovery                       13773 non-null  float64\n",
      "dtypes: float64(54)\n",
      "memory usage: 5.8 MB\n"
     ]
    }
   ],
   "source": [
    "data_train.info()"
   ]
  },
  {
   "cell_type": "code",
   "execution_count": 55,
   "metadata": {},
   "outputs": [],
   "source": [
    "data_test.drop('date', axis= 1 , inplace= True)"
   ]
  },
  {
   "cell_type": "code",
   "execution_count": 56,
   "metadata": {},
   "outputs": [
    {
     "name": "stdout",
     "output_type": "stream",
     "text": [
      "<class 'pandas.core.frame.DataFrame'>\n",
      "Int64Index: 4860 entries, 0 to 4859\n",
      "Data columns (total 54 columns):\n",
      " #   Column                                      Non-Null Count  Dtype  \n",
      "---  ------                                      --------------  -----  \n",
      " 0   rougher.input.feed_au                       4860 non-null   float64\n",
      " 1   rougher.input.feed_ag                       4860 non-null   float64\n",
      " 2   rougher.input.feed_pb                       4860 non-null   float64\n",
      " 3   rougher.input.feed_sol                      4860 non-null   float64\n",
      " 4   rougher.input.feed_rate                     4860 non-null   float64\n",
      " 5   rougher.input.feed_size                     4860 non-null   float64\n",
      " 6   rougher.input.floatbank10_sulfate           4860 non-null   float64\n",
      " 7   rougher.input.floatbank10_xanthate          4860 non-null   float64\n",
      " 8   rougher.state.floatbank10_a_air             4860 non-null   float64\n",
      " 9   rougher.state.floatbank10_a_level           4860 non-null   float64\n",
      " 10  rougher.state.floatbank10_b_air             4860 non-null   float64\n",
      " 11  rougher.state.floatbank10_b_level           4860 non-null   float64\n",
      " 12  rougher.state.floatbank10_c_air             4860 non-null   float64\n",
      " 13  rougher.state.floatbank10_c_level           4860 non-null   float64\n",
      " 14  rougher.state.floatbank10_d_air             4860 non-null   float64\n",
      " 15  rougher.state.floatbank10_d_level           4860 non-null   float64\n",
      " 16  rougher.state.floatbank10_e_air             4860 non-null   float64\n",
      " 17  rougher.state.floatbank10_e_level           4860 non-null   float64\n",
      " 18  rougher.state.floatbank10_f_air             4860 non-null   float64\n",
      " 19  rougher.state.floatbank10_f_level           4860 non-null   float64\n",
      " 20  rougher.input.floatbank11_sulfate           4860 non-null   float64\n",
      " 21  rougher.input.floatbank11_xanthate          4860 non-null   float64\n",
      " 22  primary_cleaner.input.sulfate               4860 non-null   float64\n",
      " 23  primary_cleaner.input.depressant            4860 non-null   float64\n",
      " 24  primary_cleaner.input.feed_size             4860 non-null   float64\n",
      " 25  primary_cleaner.input.xanthate              4860 non-null   float64\n",
      " 26  primary_cleaner.state.floatbank8_a_air      4860 non-null   float64\n",
      " 27  primary_cleaner.state.floatbank8_a_level    4860 non-null   float64\n",
      " 28  primary_cleaner.state.floatbank8_b_air      4860 non-null   float64\n",
      " 29  primary_cleaner.state.floatbank8_b_level    4860 non-null   float64\n",
      " 30  primary_cleaner.state.floatbank8_c_air      4860 non-null   float64\n",
      " 31  primary_cleaner.state.floatbank8_c_level    4860 non-null   float64\n",
      " 32  primary_cleaner.state.floatbank8_d_air      4860 non-null   float64\n",
      " 33  primary_cleaner.state.floatbank8_d_level    4860 non-null   float64\n",
      " 34  secondary_cleaner.state.floatbank2_a_air    4860 non-null   float64\n",
      " 35  secondary_cleaner.state.floatbank2_a_level  4860 non-null   float64\n",
      " 36  secondary_cleaner.state.floatbank2_b_air    4860 non-null   float64\n",
      " 37  secondary_cleaner.state.floatbank2_b_level  4860 non-null   float64\n",
      " 38  secondary_cleaner.state.floatbank3_a_air    4860 non-null   float64\n",
      " 39  secondary_cleaner.state.floatbank3_a_level  4860 non-null   float64\n",
      " 40  secondary_cleaner.state.floatbank3_b_air    4860 non-null   float64\n",
      " 41  secondary_cleaner.state.floatbank3_b_level  4860 non-null   float64\n",
      " 42  secondary_cleaner.state.floatbank4_a_air    4860 non-null   float64\n",
      " 43  secondary_cleaner.state.floatbank4_a_level  4860 non-null   float64\n",
      " 44  secondary_cleaner.state.floatbank4_b_air    4860 non-null   float64\n",
      " 45  secondary_cleaner.state.floatbank4_b_level  4860 non-null   float64\n",
      " 46  secondary_cleaner.state.floatbank5_a_air    4860 non-null   float64\n",
      " 47  secondary_cleaner.state.floatbank5_a_level  4860 non-null   float64\n",
      " 48  secondary_cleaner.state.floatbank5_b_air    4860 non-null   float64\n",
      " 49  secondary_cleaner.state.floatbank5_b_level  4860 non-null   float64\n",
      " 50  secondary_cleaner.state.floatbank6_a_air    4860 non-null   float64\n",
      " 51  secondary_cleaner.state.floatbank6_a_level  4860 non-null   float64\n",
      " 52  final.output.recovery                       4860 non-null   float64\n",
      " 53  rougher.output.recovery                     4860 non-null   float64\n",
      "dtypes: float64(54)\n",
      "memory usage: 2.0 MB\n"
     ]
    }
   ],
   "source": [
    "data_test.info()"
   ]
  },
  {
   "cell_type": "markdown",
   "metadata": {},
   "source": [
    "Вывод\n",
    "\n",
    "Проведя анализ и построив графики концентраций металлов на разных этапах, мы видим что после каждого этапа очистки суммарная концентрация растет. так же были обнаружены выбросы, которые постарались удалить."
   ]
  },
  {
   "cell_type": "markdown",
   "metadata": {},
   "source": [
    "## Построим модель"
   ]
  },
  {
   "cell_type": "markdown",
   "metadata": {},
   "source": [
    "### Напишим функцию для вычисления итоговой sMAPE."
   ]
  },
  {
   "cell_type": "markdown",
   "metadata": {},
   "source": [
    "Для решения задачи введём новую метрику качества — sMAPE (англ. Symmetric Mean Absolute Percentage Error, «симметричное среднее абсолютное процентное отклонение»)."
   ]
  },
  {
   "cell_type": "markdown",
   "metadata": {},
   "source": [
    "Напишем функции для рассчета sMAPE (sMAPE) и итогового sMAPE (final_sMAPE)."
   ]
  },
  {
   "cell_type": "code",
   "execution_count": 57,
   "metadata": {},
   "outputs": [],
   "source": [
    "def sMAPE (target, predictions):\n",
    "    return 1*100/len(target) * np.sum(2 * np.abs(predictions - target) / \n",
    "                                    (np.abs(target) + np.abs(predictions)))"
   ]
  },
  {
   "cell_type": "code",
   "execution_count": 58,
   "metadata": {},
   "outputs": [],
   "source": [
    "def final_sMAPE(sMAPE_rougher,sMAPE_final):\n",
    "    return (0.25*sMAPE_rougher + 0.75*sMAPE_final)"
   ]
  },
  {
   "cell_type": "markdown",
   "metadata": {},
   "source": [
    "функции записали, приступим к обучении модели"
   ]
  },
  {
   "cell_type": "markdown",
   "metadata": {},
   "source": [
    "### Обучим разные модели и оцените их качество кросс-валидацией."
   ]
  },
  {
   "cell_type": "markdown",
   "metadata": {},
   "source": [
    "Обучение моделей и выбор лучшей.\n",
    "\n",
    "Для начала подготовим features и target для обучающей выборки.\n",
    "\n",
    "Нужно спрогнозировать сразу две величины:\n",
    "эффективность обогащения чернового концентрата rougher.output.recovery;\n",
    "эффективность обогащения финального концентрата final.output.recovery.\n",
    "\n",
    "target_rougher - целевой признак(эффективность обогащения чернового концентрата)\n",
    "\n",
    "predict_rougher - предсказание эффективности обогащения чернового концентрата\n",
    "\n",
    "target_final - целевой признак(эффективность обогащения финального концентрата)\n",
    "\n",
    "predict_final - предсказание эффективности обогащения финального концентрата"
   ]
  },
  {
   "cell_type": "code",
   "execution_count": 59,
   "metadata": {},
   "outputs": [],
   "source": [
    "features_train = data_train.drop(['rougher.output.recovery', 'final.output.recovery'], axis=1)\n",
    "# Черновой концентрат\n",
    "target_train_rougher = data_train['rougher.output.recovery']\n",
    "# Финальный концентрат\n",
    "target_train_final = data_train['final.output.recovery']"
   ]
  },
  {
   "cell_type": "code",
   "execution_count": 60,
   "metadata": {},
   "outputs": [],
   "source": [
    "score = make_scorer(sMAPE, greater_is_better=False)"
   ]
  },
  {
   "cell_type": "markdown",
   "metadata": {},
   "source": [
    "Воспользуемся масштабированием данных"
   ]
  },
  {
   "cell_type": "code",
   "execution_count": 61,
   "metadata": {},
   "outputs": [],
   "source": [
    "scaler = StandardScaler()\n",
    "scaler.fit(features_train)\n",
    "features_train = scaler.transform(features_train)"
   ]
  },
  {
   "cell_type": "markdown",
   "metadata": {},
   "source": [
    "Проверим модели ( Дерево решений, Линейная регрессия, Случайный лес) методом кросс-валидации, найдем лучший результат и воспользуемся им в дальнейшей работе "
   ]
  },
  {
   "cell_type": "code",
   "execution_count": 62,
   "metadata": {},
   "outputs": [
    {
     "name": "stdout",
     "output_type": "stream",
     "text": [
      "Средняя оценка качества модели: 9.222425466996432\n"
     ]
    }
   ],
   "source": [
    "#Дерево Решений\n",
    "model_dtr = DecisionTreeRegressor(random_state=12345)\n",
    "scores = cross_val_score(model_dtr, features_train, target_train_rougher, scoring=score, cv=3)\n",
    "final_score = -1*scores.mean()\n",
    "print('Средняя оценка качества модели:', final_score)\n",
    "\n",
    "# model — необученная модель для кросс-валидации;\n",
    "# features — признаки;\n",
    "# target — целевой признак;\n",
    "# cv — число блоков для кросс-валидации (по умолчанию их три)."
   ]
  },
  {
   "cell_type": "markdown",
   "metadata": {},
   "source": [
    "рассчитаем значение sMape и максимальную глубину в сырье "
   ]
  },
  {
   "cell_type": "code",
   "execution_count": 63,
   "metadata": {},
   "outputs": [
    {
     "name": "stdout",
     "output_type": "stream",
     "text": [
      "В сырье sMAPE равно: 6.77 \n",
      "Максимальная глубина: 5\n"
     ]
    }
   ],
   "source": [
    "parametrs_rougher = { 'max_depth': range (1,20) }\n",
    "model_d = DecisionTreeRegressor(random_state=12345)  \n",
    "grid_rougher = GridSearchCV(model_d, parametrs_rougher, cv=3, scoring=score)\n",
    "grid_rougher.fit(features_train, target_train_rougher)\n",
    "best_score_r = -1*grid_rougher.best_score_\n",
    "parametrs_r_gs = pd.Series(grid_rougher.best_params_)[0]\n",
    "print('В сырье sMAPE равно: {:.2f}'.format(best_score_r), '\\nМаксимальная глубина:',parametrs_r_gs)"
   ]
  },
  {
   "cell_type": "markdown",
   "metadata": {},
   "source": [
    "рассчитаем значение sMape и максимальную глубину для финальной стадии "
   ]
  },
  {
   "cell_type": "code",
   "execution_count": 64,
   "metadata": {},
   "outputs": [
    {
     "name": "stdout",
     "output_type": "stream",
     "text": [
      "в финальной стадии sMAPE равно: 9.35 \n",
      "Максимальная глубина: 2\n"
     ]
    }
   ],
   "source": [
    "parametrs_f = {'max_depth': range (1,20)}\n",
    "model_df = DecisionTreeRegressor(random_state=12345)         \n",
    "grid_r = GridSearchCV(model_df, parametrs_f, cv=3, scoring=score)\n",
    "grid_r.fit(features_train, target_train_final)\n",
    "parametrs_f_gs=pd.Series(grid_r.best_params_)[0]\n",
    "best_score_f = -1*grid_r.best_score_\n",
    "print('в финальной стадии sMAPE равно: {:.2f}'.format(best_score_f), '\\nМаксимальная глубина:',parametrs_f_gs)\n"
   ]
  },
  {
   "cell_type": "markdown",
   "metadata": {},
   "source": [
    "рассчитаем итоговое sMAPE для модели Дерева решений"
   ]
  },
  {
   "cell_type": "code",
   "execution_count": 65,
   "metadata": {},
   "outputs": [
    {
     "name": "stdout",
     "output_type": "stream",
     "text": [
      "Итоговое sMAPE модели Дерева решений:  8.700681069169775\n"
     ]
    }
   ],
   "source": [
    "final_score = final_sMAPE(best_score_r,best_score_f)\n",
    "print('Итоговое sMAPE модели Дерева решений: ', final_score) "
   ]
  },
  {
   "cell_type": "code",
   "execution_count": 66,
   "metadata": {},
   "outputs": [
    {
     "name": "stdout",
     "output_type": "stream",
     "text": [
      "Средняя оценка качества модели: 8.042199357426156\n"
     ]
    }
   ],
   "source": [
    "# Линейная регрессия\n",
    "model_lr = LinearRegression()\n",
    "scores = cross_val_score(model_lr, features_train, target_train_rougher, scoring=score, cv=3)\n",
    "final_score = -1* scores.mean()\n",
    "print('Средняя оценка качества модели:', final_score)"
   ]
  },
  {
   "cell_type": "markdown",
   "metadata": {},
   "source": [
    "Подберём параметры для модели Линейная регрессия при помощи GridSearchCV"
   ]
  },
  {
   "cell_type": "markdown",
   "metadata": {},
   "source": [
    "Введем параметры "
   ]
  },
  {
   "cell_type": "code",
   "execution_count": 67,
   "metadata": {},
   "outputs": [],
   "source": [
    "parametrs = { 'fit_intercept': [True],\n",
    "              'normalize': [True, False]}"
   ]
  },
  {
   "cell_type": "markdown",
   "metadata": {},
   "source": [
    "в сырье "
   ]
  },
  {
   "cell_type": "code",
   "execution_count": 68,
   "metadata": {},
   "outputs": [
    {
     "name": "stdout",
     "output_type": "stream",
     "text": [
      "В сырье sMAPE равно: 8.04 \n",
      "fit_intercept: True \n",
      "normalize: True\n"
     ]
    }
   ],
   "source": [
    "model_lr_rougher = LinearRegression()\n",
    "grid_lr_rougher = GridSearchCV(model_lr_rougher, parametrs, cv=3, scoring=score)\n",
    "grid_lr_rougher.fit(features_train, target_train_rougher)\n",
    "\n",
    "fit_intercept_rougher=pd.Series(grid_lr_rougher.best_params_)[0]\n",
    "normalize_rougher=pd.Series(grid_lr_rougher.best_params_)[1]\n",
    "\n",
    "result_lr_rougher =-1* grid_lr_rougher.best_score_\n",
    "print('В сырье sMAPE равно: {:.2f}'.format(result_lr_rougher), '\\nfit_intercept:',fit_intercept_rougher, '\\nnormalize:',normalize_rougher)"
   ]
  },
  {
   "cell_type": "code",
   "execution_count": 69,
   "metadata": {},
   "outputs": [
    {
     "name": "stdout",
     "output_type": "stream",
     "text": [
      "В сырье sMAPE равно: 10.82 \n",
      "fit_intercept: True \n",
      "normalize: True\n"
     ]
    }
   ],
   "source": [
    "model_lr_final = LinearRegression()\n",
    "grid_lr_final = GridSearchCV(model_lr_final, parametrs, cv=3, scoring=score)\n",
    "grid_lr_final.fit(features_train, target_train_final)\n",
    "\n",
    "fit_intercept_final = pd.Series(grid_lr_final.best_params_)[0]\n",
    "normalize_final = pd.Series(grid_lr_final.best_params_)[1]\n",
    "\n",
    "result_lr_final = -1*grid_lr_final.best_score_\n",
    "print('В сырье sMAPE равно: {:.2f}'.format(result_lr_final), '\\nfit_intercept:',fit_intercept_final, '\\nnormalize:',normalize_final)"
   ]
  },
  {
   "cell_type": "code",
   "execution_count": 70,
   "metadata": {},
   "outputs": [
    {
     "name": "stdout",
     "output_type": "stream",
     "text": [
      "Итоговое sMAPE модели Линейной регрессии:  10.124768524031008\n"
     ]
    }
   ],
   "source": [
    "final_score = final_sMAPE(result_lr_rougher,result_lr_final)\n",
    "print('Итоговое sMAPE модели Линейной регрессии: ',final_score) "
   ]
  },
  {
   "cell_type": "code",
   "execution_count": 71,
   "metadata": {},
   "outputs": [
    {
     "name": "stdout",
     "output_type": "stream",
     "text": [
      "Средняя оценка качества модели: 6.8925837356394695\n"
     ]
    }
   ],
   "source": [
    "# Случайный лес\n",
    "model_rf = RandomForestRegressor(random_state=12345, n_estimators=10)\n",
    "scores = cross_val_score(model_rf, features_train, target_train_rougher, scoring=score, cv=3)\n",
    "final_score = -1* scores.mean()\n",
    "print('Средняя оценка качества модели:', final_score)"
   ]
  },
  {
   "cell_type": "markdown",
   "metadata": {},
   "source": [
    "Обучение модели линейной регрессией показало лучшую оценку, воспользуемся ею в дальнейшей работе"
   ]
  },
  {
   "cell_type": "markdown",
   "metadata": {},
   "source": [
    "в сырье"
   ]
  },
  {
   "cell_type": "code",
   "execution_count": 72,
   "metadata": {},
   "outputs": [],
   "source": [
    "#best_model = None\n",
    "#best_result_r = 100\n",
    "#best_est_r = 0\n",
    "#best_depth_r = 0\n",
    "#for est in tqdm(range(1,10, 2)):\n",
    "    #for depth in tqdm(range (1,13,2), leave=False):\n",
    "        #model_rf = RandomForestRegressor(random_state=12345, n_estimators=est, max_depth=depth)\n",
    "\n",
    "        #result_rf = -1*cross_val_score(model_rf,features_train,target_train_rougher, cv=3, scoring=score).mean()\n",
    "     \n",
    "\n",
    "        #if result_rf < best_result_r:\n",
    "            #best_model = model_rf\n",
    "            #best_result_r = result_rf\n",
    "            #best_est_r = est\n",
    "            #best_depth_r = depth\n",
    "\n",
    "#print(\"Значение sMAPE наилучшей модели для целевого признака `в сырье`:\", best_result_r.round(2), \"\\nКоличество деревьев:\", best_est_r, \"\\nМаксимальная глубина:\", best_depth_r)"
   ]
  },
  {
   "cell_type": "markdown",
   "metadata": {},
   "source": [
    "в финальной стадии"
   ]
  },
  {
   "cell_type": "code",
   "execution_count": 73,
   "metadata": {},
   "outputs": [],
   "source": [
    "#best_model = None\n",
    "#best_result_f = 100\n",
    "#best_est_f = 0\n",
    "#best_depth_f = 0\n",
    "#for est in tqdm(range(1,10, 2)):\n",
    "    #for depth in tqdm(range (1,13, 2), leave=False):\n",
    "        #model_rff = RandomForestRegressor(random_state=12345, n_estimators=est, max_depth=depth)\n",
    "    \n",
    "        #result_rf = -1*cross_val_score(model_rff,features_train,target_train_final, cv=3, scoring=score).mean() \n",
    "        #if result_rf < best_result_f:\n",
    "            #best_model = model_rff\n",
    "            #best_result_f = result_rf\n",
    "            #best_est_f = est\n",
    "            #best_depth_f = depth\n",
    "\n",
    "#print(\"Значение sMAPE наилучшей модели для целевого признака `final.output.recovery`:\", best_result_f.round(2), \"\\nКоличество деревьев:\", best_est_f, \"\\nМаксимальная глубина:\", best_depth_f)"
   ]
  },
  {
   "cell_type": "markdown",
   "metadata": {},
   "source": [
    "Итоговое значение"
   ]
  },
  {
   "cell_type": "code",
   "execution_count": 74,
   "metadata": {},
   "outputs": [],
   "source": [
    "#fin_score_rff =final_sMAPE(best_result_r,best_result_f)\n",
    "#print('Итоговое значение sMAPE модели Случайный лес при подборе циклом `for`: ',fin_score_rff.round(2)) "
   ]
  },
  {
   "cell_type": "markdown",
   "metadata": {},
   "source": [
    "### Выберим лучшую модель и проверьте её на тестовой выборке"
   ]
  },
  {
   "cell_type": "markdown",
   "metadata": {},
   "source": [
    "Для начала подготовим features и target для тестовой выборки"
   ]
  },
  {
   "cell_type": "code",
   "execution_count": 75,
   "metadata": {},
   "outputs": [],
   "source": [
    "target_rougher_test = data_test['rougher.output.recovery']\n",
    "target_final_test = data_test['final.output.recovery']\n",
    "features_test = data_test.drop(['final.output.recovery', 'rougher.output.recovery'], axis='columns')"
   ]
  },
  {
   "cell_type": "markdown",
   "metadata": {},
   "source": [
    "Масштабируем признаки"
   ]
  },
  {
   "cell_type": "code",
   "execution_count": 76,
   "metadata": {},
   "outputs": [],
   "source": [
    "features_test = scaler.transform(features_test)"
   ]
  },
  {
   "cell_type": "markdown",
   "metadata": {},
   "source": [
    "Обучим с помощью модели Линейная регрессия"
   ]
  },
  {
   "cell_type": "code",
   "execution_count": 77,
   "metadata": {},
   "outputs": [
    {
     "name": "stdout",
     "output_type": "stream",
     "text": [
      "Средняя оценка качества модели: 8.042199357426156\n"
     ]
    }
   ],
   "source": [
    "model_lr_r = LinearRegression()\n",
    "scores = cross_val_score(model_lr_r, features_train, target_train_rougher, scoring=score, cv=3)\n",
    "final_score = -1*scores.mean()\n",
    "print('Средняя оценка качества модели:', final_score)"
   ]
  },
  {
   "cell_type": "code",
   "execution_count": 78,
   "metadata": {},
   "outputs": [
    {
     "name": "stdout",
     "output_type": "stream",
     "text": [
      "Средняя оценка качества модели: 10.818958246232627\n"
     ]
    }
   ],
   "source": [
    "model_lr_f = LinearRegression()\n",
    "scores = cross_val_score(model_lr_f, features_train, target_train_final, scoring=score, cv=3)\n",
    "final_score = -1*scores.mean()\n",
    "print('Средняя оценка качества модели:', final_score)"
   ]
  },
  {
   "cell_type": "code",
   "execution_count": 79,
   "metadata": {},
   "outputs": [],
   "source": [
    "lr_rougher = model_lr_r.fit(features_train, target_train_rougher)\n",
    "lr_final = model_lr_f.fit(features_train, target_train_final)"
   ]
  },
  {
   "cell_type": "markdown",
   "metadata": {},
   "source": [
    "подготовим данные для подсчета sMape"
   ]
  },
  {
   "cell_type": "code",
   "execution_count": 80,
   "metadata": {},
   "outputs": [],
   "source": [
    "lr_predictions_rougher = lr_rougher.predict(features_test)\n",
    "lr_predictions_final = lr_final.predict(features_test)"
   ]
  },
  {
   "cell_type": "markdown",
   "metadata": {},
   "source": [
    "Посчитаем sMAPE для обоих признаков и итоговый."
   ]
  },
  {
   "cell_type": "code",
   "execution_count": 81,
   "metadata": {},
   "outputs": [
    {
     "data": {
      "text/plain": [
       "4.516642656957592"
      ]
     },
     "execution_count": 81,
     "metadata": {},
     "output_type": "execute_result"
    }
   ],
   "source": [
    "sMAPE_rougher = sMAPE(target_rougher_test, lr_predictions_rougher)\n",
    "sMAPE_rougher"
   ]
  },
  {
   "cell_type": "code",
   "execution_count": 82,
   "metadata": {},
   "outputs": [
    {
     "data": {
      "text/plain": [
       "7.867665579411511"
      ]
     },
     "execution_count": 82,
     "metadata": {},
     "output_type": "execute_result"
    }
   ],
   "source": [
    "sMAPE_final = sMAPE(target_final_test, lr_predictions_final)\n",
    "sMAPE_final"
   ]
  },
  {
   "cell_type": "code",
   "execution_count": 83,
   "metadata": {},
   "outputs": [
    {
     "name": "stdout",
     "output_type": "stream",
     "text": [
      "final_sMAPE\n"
     ]
    },
    {
     "data": {
      "text/plain": [
       "7.029909848798032"
      ]
     },
     "execution_count": 83,
     "metadata": {},
     "output_type": "execute_result"
    }
   ],
   "source": [
    "print('final_sMAPE')\n",
    "final_sMAPE(sMAPE_rougher, sMAPE_final)"
   ]
  },
  {
   "cell_type": "code",
   "execution_count": 84,
   "metadata": {},
   "outputs": [],
   "source": [
    "#model_lr_rougher = LinearRegression()\n",
    "#grid_lr_rougher = GridSearchCV(model_lr_rougher, parametrs, cv=3, scoring=score)\n",
    "#grid_lr_rougher.fit(features_test, target_rougher_test)\n",
    "#\n",
    "#result_lr_rougher = -1*grid_lr_rougher.best_score_\n",
    "#print('В сырье sMAPE равно: {:.2f}'.format(result_lr_rougher))"
   ]
  },
  {
   "cell_type": "code",
   "execution_count": 85,
   "metadata": {},
   "outputs": [],
   "source": [
    "#model_lr_final = LinearRegression()\n",
    "#grid_lr_final = GridSearchCV(model_lr_final, parametrs, cv=3, scoring=score)\n",
    "#grid_lr_final.fit(features_test, target_final_test)\n",
    "\n",
    "#result_lr_final =-1* grid_lr_final.best_score_\n",
    "#print('В сырье sMAPE равно: {:.2f}'.format(result_lr_final))"
   ]
  },
  {
   "cell_type": "code",
   "execution_count": 86,
   "metadata": {},
   "outputs": [
    {
     "data": {
      "text/plain": [
       "4.5166426569575915"
      ]
     },
     "execution_count": 86,
     "metadata": {},
     "output_type": "execute_result"
    }
   ],
   "source": [
    "model_lr_rougher = LinearRegression(fit_intercept=fit_intercept_rougher, normalize=normalize_rougher)\n",
    "model_lr_rougher.fit(features_train, target_train_rougher)\n",
    "pred_lr_rougher= model_lr_rougher.predict(features_test)\n",
    "result_lr_rougher = sMAPE(target_rougher_test,pred_lr_rougher)\n",
    "result_lr_rougher"
   ]
  },
  {
   "cell_type": "code",
   "execution_count": 87,
   "metadata": {},
   "outputs": [
    {
     "data": {
      "text/plain": [
       "7.867665579411511"
      ]
     },
     "execution_count": 87,
     "metadata": {},
     "output_type": "execute_result"
    }
   ],
   "source": [
    "model_lr_final = LinearRegression(fit_intercept=fit_intercept_final, normalize=normalize_final)\n",
    "model_lr_final.fit(features_train, target_train_final)\n",
    "pred_lr_final = model_lr_final.predict(features_test)\n",
    "result_lr_final = sMAPE(target_final_test,pred_lr_final)\n",
    "result_lr_final"
   ]
  },
  {
   "cell_type": "code",
   "execution_count": 88,
   "metadata": {},
   "outputs": [
    {
     "name": "stdout",
     "output_type": "stream",
     "text": [
      "Итоговое sMAPE модели Линейной регрессии:  7.029909848798031\n"
     ]
    }
   ],
   "source": [
    "final_score = final_sMAPE(result_lr_rougher,result_lr_final)\n",
    "print('Итоговое sMAPE модели Линейной регрессии: ',final_score) "
   ]
  },
  {
   "cell_type": "markdown",
   "metadata": {},
   "source": [
    "Проверим качество модели, сравнив с константной. Для этого будем использовать модель DummyRegressor."
   ]
  },
  {
   "cell_type": "markdown",
   "metadata": {},
   "source": [
    "DummyRegressor-это регрессор,который делает прогнозы,используя простые правила.\n",
    "\n",
    "Этот регрессор полезен в качестве простого базиса для сравнения с другими (реальными)регрессорами.\n",
    "\n",
    "параметры: \n",
    "strategy{“mean”, “median”, “quantile”, “constant”}, default=”mean”\n",
    "Стратегия использования для создания прогнозов.\n",
    "\n",
    "- «среднее»: всегда предсказывает среднее значение тренировочного набора\n",
    "- «медиана»: всегда предсказывает медиану тренировочного набора\n",
    "- «квантиль»: всегда предсказывает указанный квантиль обучающего набора, снабженный параметром квантиля.\n",
    "- «константа»: всегда предсказывает постоянное значение, предоставленное пользователем.\n",
    "\n",
    "Воспользуемся средними значениями "
   ]
  },
  {
   "cell_type": "code",
   "execution_count": 89,
   "metadata": {},
   "outputs": [],
   "source": [
    "dummy_r = DummyRegressor(strategy = 'mean')\n",
    "dummy_f = DummyRegressor(strategy = 'mean')\n",
    "\n",
    "dummy_rougher = dummy_r.fit(features_train, target_train_rougher)\n",
    "dummy_predictions_rougher = dummy_rougher.predict(features_test)\n",
    "\n",
    "dummy_final = dummy_f.fit(features_train, target_train_final)\n",
    "dummy_predictions_final = dummy_final.predict(features_test)"
   ]
  },
  {
   "cell_type": "code",
   "execution_count": 90,
   "metadata": {},
   "outputs": [],
   "source": [
    "sMAPE_rougher_dummy = sMAPE(target_rougher_test, dummy_predictions_rougher)"
   ]
  },
  {
   "cell_type": "code",
   "execution_count": 91,
   "metadata": {},
   "outputs": [],
   "source": [
    "sMAPE_final_dummy = sMAPE(target_final_test, dummy_predictions_final)"
   ]
  },
  {
   "cell_type": "code",
   "execution_count": 92,
   "metadata": {},
   "outputs": [
    {
     "name": "stdout",
     "output_type": "stream",
     "text": [
      "final_sMAPE\n"
     ]
    },
    {
     "data": {
      "text/plain": [
       "8.442424997559186"
      ]
     },
     "execution_count": 92,
     "metadata": {},
     "output_type": "execute_result"
    }
   ],
   "source": [
    "print('final_sMAPE')\n",
    "final_sMAPE(sMAPE_rougher_dummy, sMAPE_final_dummy)"
   ]
  },
  {
   "cell_type": "markdown",
   "metadata": {},
   "source": [
    "Обученная модель показала final_sMAPE 7.03 а константа 8,44. Можно считать что обученная модель адекватна. "
   ]
  },
  {
   "cell_type": "markdown",
   "metadata": {},
   "source": [
    "## Вывод"
   ]
  },
  {
   "cell_type": "markdown",
   "metadata": {},
   "source": [
    "В данной работе нам требовалось подготовить прототип модели машинного обучения для «Цифры». Модель должна предсказать коэффициент восстановления золота из золотосодержащей руды. Для этого были Использованы данные с параметрами добычи и очистки.\n",
    "\n",
    "Работа состоит из 3 частей:\n",
    "- Подготовка данных\n",
    "- Проведение исследовательского анализа данных\n",
    "- Построение и обучение модели.\n",
    "\n",
    "Для выполния проекта, использовались библиотекам pandas, matplotlib, sklearn и другие. \n",
    "\n",
    "В 1 части Подготовке данных былы изучены данные в трех фаилах:\n",
    "\n",
    "- gold_industry_train.csv — обучающая выборка;\n",
    "- gold_industry_test.csv — тестовая выборка;\n",
    "- gold_industry_full.csv — исходные данные.\n",
    "\n",
    "Исходные данные 19439 строк и 87 столбцов, обучающая выборка состоит из 14579 строк и 87 столбцов. в тестовой выборке 4860 строк но 53 столбца, на 34 столбца меньше чем в других данных. Если по количество строк все сходится то в столбцах явное различие присутствует, ниже попробуем разобрать какие столбцы отсутсвуют.\n",
    "\n",
    "В каждом датасете присутсвую пропуски, об этом говорилось в условии что \"Некоторые параметры недоступны, потому что замеряются и/или рассчитываются значительно позже.\"\n",
    "\n",
    "все значения в столбцах имееют формат float64, и только data - object\n",
    "\n",
    "1.2. в данном пункте проверили, что эффективность обогащения рассчитана правильно. Вычислили её на обучающей выборке для признака rougher.output.recovery, найшли MAE между расчётами и значением признака. \n",
    "МАЕ равна 9.83758577644259e-15, что практически равно 0, поэтому можно считать что расчётная эффективность обогащения практически равна фактической, это доказывает что расчеты верны.\n",
    "\n",
    "в пункте 1.3. Проанализировали признаки, недоступные в тестовой выборке. \n",
    "из всех признаков которые отсутствуют, нам необходимы только 2 целевых признака: rougher.output.recovery и final.output.recovery.\n",
    "\n",
    "1.4. Провели предобработку данных, проанализируйте данные, привели столбец дата в нужный формат, проверили на дубликаты и пропуски, удалили из обучающей выборке данные отсутствущие в тестовой выборке, и добавили в тестовую выборку необходимые параметры.\n",
    "\n",
    "в 2 части провели анализ данных.\n",
    "\n",
    "2.1. Рассмотрели как меняется концентрация металлов (Au, Ag, Pb) на различных этапах: в сырье, в черновом концентрате, в концентрате после первой очистки и в финальном концентрате. Проанализировав данные можно увидеть, что концентрация Золота и Свинца увеличились с каждыми этапом обработки. Золото с 8,26 до 44,07, практиески в 5 раз больше, а Свинец с 3,59 до 9,97 в 3 раза больше. Концентрация Серебра же после первой и последующих очисток уменьшилось, возможно серебро изымалось и использовалось в других обработках.\n",
    "\n",
    "2.2. Сравнили распределение размеров гранул исходного сырья на обучающей и тестовой выборках. По графику видно что распределение размеров гранул в обучающей и тестовой выборке примерно равны, Средние значения так же примерно равны, поэтому проводить какие либо дополнительные корректировки не нужно. \n",
    "\n",
    "2.3. Исследовали суммарную концентрацию металлов на разных стадиях: в сырье, в черновом концентрате, в концентрате после первой очистки и в финальном концентрате.\n",
    "Проведя анализ и построив графики концентраций металлов на разных этапах, мы видим что после каждого этапа очистки суммарная концентрация растет. так же были обнаружены выбросы, которые постарались удалить.\n",
    "\n",
    "в 3 пункте построили модель, написали функцию для вычисления итоговой sMAPE, Обучили разные модели и оцените их качество кросс-валидацией. Выбрали лучшую модель Линейную регресию и проверили её на тестовой выборке.\n",
    "Обученная модель показала final_sMAPE 7.97 а константа 8,84. Можно считать что обученная модель адекватна. \n",
    "И ее можно использовать для предсказания коэффициенат восстановления золота из золотосодержащей руды.\n"
   ]
  }
 ],
 "metadata": {
  "ExecuteTimeLog": [
   {
    "duration": 1919,
    "start_time": "2023-07-28T13:03:18.296Z"
   },
   {
    "duration": 1978,
    "start_time": "2023-07-28T13:05:01.614Z"
   },
   {
    "duration": 2143,
    "start_time": "2023-07-28T13:05:03.594Z"
   },
   {
    "duration": 46,
    "start_time": "2023-07-28T13:06:26.978Z"
   },
   {
    "duration": 1824,
    "start_time": "2023-07-28T13:06:58.311Z"
   },
   {
    "duration": 798,
    "start_time": "2023-07-28T13:07:00.138Z"
   },
   {
    "duration": 22,
    "start_time": "2023-07-28T13:07:00.938Z"
   },
   {
    "duration": 80,
    "start_time": "2023-07-28T13:07:00.962Z"
   },
   {
    "duration": 43,
    "start_time": "2023-07-28T13:07:01.044Z"
   },
   {
    "duration": 34,
    "start_time": "2023-07-28T13:09:11.120Z"
   },
   {
    "duration": 16,
    "start_time": "2023-07-28T13:09:20.596Z"
   },
   {
    "duration": 24,
    "start_time": "2023-07-28T13:09:30.261Z"
   },
   {
    "duration": 22,
    "start_time": "2023-07-28T13:09:37.608Z"
   },
   {
    "duration": 6,
    "start_time": "2023-07-28T13:49:39.512Z"
   },
   {
    "duration": 5,
    "start_time": "2023-07-28T13:49:55.541Z"
   },
   {
    "duration": 4,
    "start_time": "2023-07-28T13:49:55.925Z"
   },
   {
    "duration": 267,
    "start_time": "2023-07-28T13:50:41.308Z"
   },
   {
    "duration": 245,
    "start_time": "2023-07-28T13:50:41.604Z"
   },
   {
    "duration": 135,
    "start_time": "2023-07-28T13:50:41.964Z"
   },
   {
    "duration": 11,
    "start_time": "2023-07-28T14:19:35.044Z"
   },
   {
    "duration": 4,
    "start_time": "2023-07-28T14:28:00.424Z"
   },
   {
    "duration": 12,
    "start_time": "2023-07-28T14:28:07.059Z"
   },
   {
    "duration": 125,
    "start_time": "2023-07-28T14:28:25.741Z"
   },
   {
    "duration": 3,
    "start_time": "2023-07-28T14:29:11.066Z"
   },
   {
    "duration": 152,
    "start_time": "2023-07-28T14:29:11.353Z"
   },
   {
    "duration": 85,
    "start_time": "2023-07-28T14:29:25.747Z"
   },
   {
    "duration": 1549,
    "start_time": "2023-07-28T14:29:36.945Z"
   },
   {
    "duration": 766,
    "start_time": "2023-07-28T14:29:38.497Z"
   },
   {
    "duration": 20,
    "start_time": "2023-07-28T14:29:39.265Z"
   },
   {
    "duration": 20,
    "start_time": "2023-07-28T14:29:39.287Z"
   },
   {
    "duration": 15,
    "start_time": "2023-07-28T14:29:39.310Z"
   },
   {
    "duration": 53,
    "start_time": "2023-07-28T14:29:39.327Z"
   },
   {
    "duration": 27,
    "start_time": "2023-07-28T14:29:39.383Z"
   },
   {
    "duration": 51,
    "start_time": "2023-07-28T14:29:39.413Z"
   },
   {
    "duration": 10,
    "start_time": "2023-07-28T14:29:39.467Z"
   },
   {
    "duration": 15,
    "start_time": "2023-07-28T14:29:39.479Z"
   },
   {
    "duration": 20,
    "start_time": "2023-07-28T14:29:39.496Z"
   },
   {
    "duration": 275,
    "start_time": "2023-07-28T14:29:39.518Z"
   },
   {
    "duration": 248,
    "start_time": "2023-07-28T14:29:39.795Z"
   },
   {
    "duration": 145,
    "start_time": "2023-07-28T14:29:40.046Z"
   },
   {
    "duration": 3,
    "start_time": "2023-07-28T14:29:40.193Z"
   },
   {
    "duration": 117,
    "start_time": "2023-07-28T14:29:40.198Z"
   },
   {
    "duration": 111,
    "start_time": "2023-07-28T14:30:40.096Z"
   },
   {
    "duration": 161,
    "start_time": "2023-07-28T14:30:45.188Z"
   },
   {
    "duration": 86,
    "start_time": "2023-07-28T14:30:51.495Z"
   },
   {
    "duration": 7,
    "start_time": "2023-07-28T14:31:41.099Z"
   },
   {
    "duration": 6,
    "start_time": "2023-07-28T14:31:46.440Z"
   },
   {
    "duration": 5,
    "start_time": "2023-07-28T14:32:01.201Z"
   },
   {
    "duration": 6,
    "start_time": "2023-07-28T14:36:32.900Z"
   },
   {
    "duration": 4,
    "start_time": "2023-07-28T14:36:49.947Z"
   },
   {
    "duration": 6,
    "start_time": "2023-07-28T14:36:50.243Z"
   },
   {
    "duration": 6,
    "start_time": "2023-07-28T14:36:50.719Z"
   },
   {
    "duration": 117,
    "start_time": "2023-07-28T14:37:22.637Z"
   },
   {
    "duration": 10,
    "start_time": "2023-07-28T14:37:22.935Z"
   },
   {
    "duration": 3,
    "start_time": "2023-07-28T14:37:29.957Z"
   },
   {
    "duration": 3,
    "start_time": "2023-07-28T14:37:39.457Z"
   },
   {
    "duration": 6,
    "start_time": "2023-07-28T14:37:39.735Z"
   },
   {
    "duration": 5,
    "start_time": "2023-07-28T14:37:59.691Z"
   },
   {
    "duration": 11,
    "start_time": "2023-07-28T14:38:29.096Z"
   },
   {
    "duration": 9,
    "start_time": "2023-07-28T14:38:49.789Z"
   },
   {
    "duration": 5,
    "start_time": "2023-07-28T14:39:07.111Z"
   },
   {
    "duration": 5,
    "start_time": "2023-07-28T14:42:29.016Z"
   },
   {
    "duration": 1497,
    "start_time": "2023-07-28T14:42:34.647Z"
   },
   {
    "duration": 803,
    "start_time": "2023-07-28T14:42:36.146Z"
   },
   {
    "duration": 21,
    "start_time": "2023-07-28T14:42:36.953Z"
   },
   {
    "duration": 20,
    "start_time": "2023-07-28T14:42:36.976Z"
   },
   {
    "duration": 15,
    "start_time": "2023-07-28T14:42:36.998Z"
   },
   {
    "duration": 63,
    "start_time": "2023-07-28T14:42:37.015Z"
   },
   {
    "duration": 22,
    "start_time": "2023-07-28T14:42:37.080Z"
   },
   {
    "duration": 23,
    "start_time": "2023-07-28T14:42:37.104Z"
   },
   {
    "duration": 27,
    "start_time": "2023-07-28T14:42:37.128Z"
   },
   {
    "duration": 6,
    "start_time": "2023-07-28T14:42:37.158Z"
   },
   {
    "duration": 6,
    "start_time": "2023-07-28T14:42:37.166Z"
   },
   {
    "duration": 290,
    "start_time": "2023-07-28T14:42:37.174Z"
   },
   {
    "duration": 249,
    "start_time": "2023-07-28T14:42:37.468Z"
   },
   {
    "duration": 145,
    "start_time": "2023-07-28T14:42:37.719Z"
   },
   {
    "duration": 3,
    "start_time": "2023-07-28T14:42:37.865Z"
   },
   {
    "duration": 17,
    "start_time": "2023-07-28T14:42:37.870Z"
   },
   {
    "duration": 10,
    "start_time": "2023-07-28T14:42:37.889Z"
   },
   {
    "duration": 9,
    "start_time": "2023-07-28T14:42:37.901Z"
   },
   {
    "duration": 14,
    "start_time": "2023-07-28T14:42:37.914Z"
   },
   {
    "duration": 10,
    "start_time": "2023-07-28T14:42:37.930Z"
   },
   {
    "duration": 6,
    "start_time": "2023-07-28T14:43:59.549Z"
   },
   {
    "duration": 6,
    "start_time": "2023-07-28T14:44:00.336Z"
   },
   {
    "duration": 5,
    "start_time": "2023-07-28T14:44:52.706Z"
   },
   {
    "duration": 6,
    "start_time": "2023-07-28T14:44:53.455Z"
   },
   {
    "duration": 2,
    "start_time": "2023-07-28T14:44:54.825Z"
   },
   {
    "duration": 4,
    "start_time": "2023-07-28T14:44:55.453Z"
   },
   {
    "duration": 3,
    "start_time": "2023-07-28T14:58:07.585Z"
   },
   {
    "duration": 5,
    "start_time": "2023-07-28T14:58:08.581Z"
   },
   {
    "duration": 3,
    "start_time": "2023-07-28T14:58:38.403Z"
   },
   {
    "duration": 291,
    "start_time": "2023-07-28T14:58:38.726Z"
   },
   {
    "duration": 5,
    "start_time": "2023-07-28T14:58:39.259Z"
   },
   {
    "duration": 5,
    "start_time": "2023-07-28T14:58:45.116Z"
   },
   {
    "duration": 123,
    "start_time": "2023-07-28T14:58:55.483Z"
   },
   {
    "duration": 5,
    "start_time": "2023-07-28T14:59:13.463Z"
   },
   {
    "duration": 5,
    "start_time": "2023-07-28T14:59:17.519Z"
   },
   {
    "duration": 5,
    "start_time": "2023-07-28T14:59:32.985Z"
   },
   {
    "duration": 3,
    "start_time": "2023-07-28T15:02:03.906Z"
   },
   {
    "duration": 5,
    "start_time": "2023-07-28T15:02:05.730Z"
   },
   {
    "duration": 5,
    "start_time": "2023-07-28T15:13:17.767Z"
   },
   {
    "duration": 3,
    "start_time": "2023-07-28T15:19:40.988Z"
   },
   {
    "duration": 3,
    "start_time": "2023-07-28T15:19:59.899Z"
   },
   {
    "duration": 13,
    "start_time": "2023-07-28T15:20:00.168Z"
   },
   {
    "duration": 4,
    "start_time": "2023-07-28T15:20:06.363Z"
   },
   {
    "duration": 13,
    "start_time": "2023-07-28T15:20:06.800Z"
   },
   {
    "duration": 1596,
    "start_time": "2023-07-28T15:20:18.005Z"
   },
   {
    "duration": 799,
    "start_time": "2023-07-28T15:20:19.603Z"
   },
   {
    "duration": 30,
    "start_time": "2023-07-28T15:20:20.404Z"
   },
   {
    "duration": 39,
    "start_time": "2023-07-28T15:20:20.437Z"
   },
   {
    "duration": 20,
    "start_time": "2023-07-28T15:20:20.479Z"
   },
   {
    "duration": 58,
    "start_time": "2023-07-28T15:20:20.501Z"
   },
   {
    "duration": 24,
    "start_time": "2023-07-28T15:20:20.562Z"
   },
   {
    "duration": 23,
    "start_time": "2023-07-28T15:20:20.588Z"
   },
   {
    "duration": 10,
    "start_time": "2023-07-28T15:20:20.614Z"
   },
   {
    "duration": 4,
    "start_time": "2023-07-28T15:20:20.652Z"
   },
   {
    "duration": 31,
    "start_time": "2023-07-28T15:20:20.658Z"
   },
   {
    "duration": 272,
    "start_time": "2023-07-28T15:20:20.691Z"
   },
   {
    "duration": 259,
    "start_time": "2023-07-28T15:20:20.965Z"
   },
   {
    "duration": 153,
    "start_time": "2023-07-28T15:20:21.227Z"
   },
   {
    "duration": 4,
    "start_time": "2023-07-28T15:20:21.382Z"
   },
   {
    "duration": 23,
    "start_time": "2023-07-28T15:20:21.387Z"
   },
   {
    "duration": 44,
    "start_time": "2023-07-28T15:20:21.412Z"
   },
   {
    "duration": 26,
    "start_time": "2023-07-28T15:20:21.459Z"
   },
   {
    "duration": 25,
    "start_time": "2023-07-28T15:20:21.488Z"
   },
   {
    "duration": 12,
    "start_time": "2023-07-28T15:20:21.516Z"
   },
   {
    "duration": 138,
    "start_time": "2023-07-28T15:20:21.530Z"
   },
   {
    "duration": 3,
    "start_time": "2023-07-28T15:24:21.987Z"
   },
   {
    "duration": 10,
    "start_time": "2023-07-28T15:24:22.449Z"
   },
   {
    "duration": 19,
    "start_time": "2023-07-28T15:24:48.931Z"
   },
   {
    "duration": 6,
    "start_time": "2023-07-28T15:25:00.283Z"
   },
   {
    "duration": 29,
    "start_time": "2023-07-28T15:40:02.228Z"
   },
   {
    "duration": 116,
    "start_time": "2023-07-28T15:48:23.304Z"
   },
   {
    "duration": 234,
    "start_time": "2023-07-28T15:49:36.833Z"
   },
   {
    "duration": 235,
    "start_time": "2023-07-28T15:52:13.161Z"
   },
   {
    "duration": 230,
    "start_time": "2023-07-28T15:52:24.017Z"
   },
   {
    "duration": 36,
    "start_time": "2023-07-28T16:01:47.584Z"
   },
   {
    "duration": 15,
    "start_time": "2023-07-28T16:02:01.806Z"
   },
   {
    "duration": 85,
    "start_time": "2023-07-28T16:02:56.387Z"
   },
   {
    "duration": 18,
    "start_time": "2023-07-28T16:02:59.211Z"
   },
   {
    "duration": 22,
    "start_time": "2023-07-28T16:13:48.986Z"
   },
   {
    "duration": 15,
    "start_time": "2023-07-28T16:14:12.652Z"
   },
   {
    "duration": 6,
    "start_time": "2023-07-28T16:16:34.083Z"
   },
   {
    "duration": 15,
    "start_time": "2023-07-28T16:16:54.938Z"
   },
   {
    "duration": 14,
    "start_time": "2023-07-28T16:17:59.435Z"
   },
   {
    "duration": 5,
    "start_time": "2023-07-28T16:18:02.974Z"
   },
   {
    "duration": 5,
    "start_time": "2023-07-28T16:18:16.642Z"
   },
   {
    "duration": 14,
    "start_time": "2023-07-28T16:27:24.941Z"
   },
   {
    "duration": 49,
    "start_time": "2023-07-28T16:27:28.046Z"
   },
   {
    "duration": 15,
    "start_time": "2023-07-28T16:27:29.039Z"
   },
   {
    "duration": 13,
    "start_time": "2023-07-28T16:27:29.716Z"
   },
   {
    "duration": 53,
    "start_time": "2023-07-30T07:37:59.994Z"
   },
   {
    "duration": 1558,
    "start_time": "2023-07-30T07:38:10.786Z"
   },
   {
    "duration": 2008,
    "start_time": "2023-07-30T07:38:12.345Z"
   },
   {
    "duration": 19,
    "start_time": "2023-07-30T07:38:14.355Z"
   },
   {
    "duration": 26,
    "start_time": "2023-07-30T07:38:14.376Z"
   },
   {
    "duration": 18,
    "start_time": "2023-07-30T07:38:14.404Z"
   },
   {
    "duration": 22,
    "start_time": "2023-07-30T07:38:14.424Z"
   },
   {
    "duration": 17,
    "start_time": "2023-07-30T07:38:14.448Z"
   },
   {
    "duration": 39,
    "start_time": "2023-07-30T07:38:14.466Z"
   },
   {
    "duration": 5,
    "start_time": "2023-07-30T07:38:14.507Z"
   },
   {
    "duration": 9,
    "start_time": "2023-07-30T07:38:14.514Z"
   },
   {
    "duration": 15,
    "start_time": "2023-07-30T07:38:14.524Z"
   },
   {
    "duration": 225,
    "start_time": "2023-07-30T07:38:14.540Z"
   },
   {
    "duration": 194,
    "start_time": "2023-07-30T07:38:14.767Z"
   },
   {
    "duration": 111,
    "start_time": "2023-07-30T07:38:14.964Z"
   },
   {
    "duration": 3,
    "start_time": "2023-07-30T07:38:15.076Z"
   },
   {
    "duration": 21,
    "start_time": "2023-07-30T07:38:15.080Z"
   },
   {
    "duration": 11,
    "start_time": "2023-07-30T07:38:15.102Z"
   },
   {
    "duration": 4,
    "start_time": "2023-07-30T07:38:15.114Z"
   },
   {
    "duration": 8,
    "start_time": "2023-07-30T07:38:15.120Z"
   },
   {
    "duration": 12,
    "start_time": "2023-07-30T07:38:15.129Z"
   },
   {
    "duration": 23,
    "start_time": "2023-07-30T07:38:15.143Z"
   },
   {
    "duration": 247,
    "start_time": "2023-07-30T07:38:15.167Z"
   },
   {
    "duration": 21,
    "start_time": "2023-07-30T07:38:15.416Z"
   },
   {
    "duration": 16,
    "start_time": "2023-07-30T07:38:15.439Z"
   },
   {
    "duration": 3,
    "start_time": "2023-07-30T07:38:15.457Z"
   },
   {
    "duration": 6,
    "start_time": "2023-07-30T07:38:15.461Z"
   },
   {
    "duration": 33,
    "start_time": "2023-07-30T07:38:15.469Z"
   },
   {
    "duration": 4,
    "start_time": "2023-07-30T07:38:15.503Z"
   },
   {
    "duration": 60,
    "start_time": "2023-07-30T07:38:15.509Z"
   },
   {
    "duration": 11,
    "start_time": "2023-07-30T07:38:15.570Z"
   },
   {
    "duration": 25,
    "start_time": "2023-07-30T07:38:15.582Z"
   },
   {
    "duration": 5,
    "start_time": "2023-07-30T07:38:15.608Z"
   },
   {
    "duration": 32,
    "start_time": "2023-07-30T07:38:15.614Z"
   },
   {
    "duration": 21,
    "start_time": "2023-07-30T07:39:30.632Z"
   },
   {
    "duration": 14,
    "start_time": "2023-07-30T07:40:06.789Z"
   },
   {
    "duration": 12,
    "start_time": "2023-07-30T07:40:38.443Z"
   },
   {
    "duration": 7,
    "start_time": "2023-07-30T07:41:12.067Z"
   },
   {
    "duration": 14,
    "start_time": "2023-07-30T07:41:14.517Z"
   },
   {
    "duration": 119,
    "start_time": "2023-07-30T07:42:11.746Z"
   },
   {
    "duration": 12,
    "start_time": "2023-07-30T07:42:38.830Z"
   },
   {
    "duration": 6,
    "start_time": "2023-07-30T07:47:30.100Z"
   },
   {
    "duration": 4,
    "start_time": "2023-07-30T07:47:49.322Z"
   },
   {
    "duration": 4,
    "start_time": "2023-07-30T07:48:33.914Z"
   },
   {
    "duration": 4,
    "start_time": "2023-07-30T07:49:03.228Z"
   },
   {
    "duration": 5,
    "start_time": "2023-07-30T07:50:05.279Z"
   },
   {
    "duration": 13,
    "start_time": "2023-07-30T07:52:21.032Z"
   },
   {
    "duration": 4,
    "start_time": "2023-07-30T07:53:43.465Z"
   },
   {
    "duration": 14,
    "start_time": "2023-07-30T07:54:09.019Z"
   },
   {
    "duration": 14,
    "start_time": "2023-07-30T07:54:53.045Z"
   },
   {
    "duration": 13,
    "start_time": "2023-07-30T07:54:58.546Z"
   },
   {
    "duration": 13,
    "start_time": "2023-07-30T07:56:17.691Z"
   },
   {
    "duration": 15,
    "start_time": "2023-07-30T07:57:44.785Z"
   },
   {
    "duration": 14,
    "start_time": "2023-07-30T07:58:36.530Z"
   },
   {
    "duration": 1301,
    "start_time": "2023-07-30T07:58:52.203Z"
   },
   {
    "duration": 704,
    "start_time": "2023-07-30T07:58:53.506Z"
   },
   {
    "duration": 18,
    "start_time": "2023-07-30T07:58:54.212Z"
   },
   {
    "duration": 15,
    "start_time": "2023-07-30T07:58:54.232Z"
   },
   {
    "duration": 21,
    "start_time": "2023-07-30T07:58:54.250Z"
   },
   {
    "duration": 36,
    "start_time": "2023-07-30T07:58:54.273Z"
   },
   {
    "duration": 17,
    "start_time": "2023-07-30T07:58:54.310Z"
   },
   {
    "duration": 19,
    "start_time": "2023-07-30T07:58:54.329Z"
   },
   {
    "duration": 19,
    "start_time": "2023-07-30T07:58:54.349Z"
   },
   {
    "duration": 7,
    "start_time": "2023-07-30T07:58:54.370Z"
   },
   {
    "duration": 21,
    "start_time": "2023-07-30T07:58:54.379Z"
   },
   {
    "duration": 246,
    "start_time": "2023-07-30T07:58:54.402Z"
   },
   {
    "duration": 187,
    "start_time": "2023-07-30T07:58:54.649Z"
   },
   {
    "duration": 102,
    "start_time": "2023-07-30T07:58:54.839Z"
   },
   {
    "duration": 3,
    "start_time": "2023-07-30T07:58:54.943Z"
   },
   {
    "duration": 13,
    "start_time": "2023-07-30T07:58:54.948Z"
   },
   {
    "duration": 12,
    "start_time": "2023-07-30T07:58:54.963Z"
   },
   {
    "duration": 19,
    "start_time": "2023-07-30T07:58:54.977Z"
   },
   {
    "duration": 10,
    "start_time": "2023-07-30T07:58:54.998Z"
   },
   {
    "duration": 10,
    "start_time": "2023-07-30T07:58:55.010Z"
   },
   {
    "duration": 49,
    "start_time": "2023-07-30T07:58:55.022Z"
   },
   {
    "duration": 220,
    "start_time": "2023-07-30T07:58:55.074Z"
   },
   {
    "duration": 17,
    "start_time": "2023-07-30T07:58:55.295Z"
   },
   {
    "duration": 16,
    "start_time": "2023-07-30T07:58:55.315Z"
   },
   {
    "duration": 5,
    "start_time": "2023-07-30T07:58:55.332Z"
   },
   {
    "duration": 10,
    "start_time": "2023-07-30T07:58:55.339Z"
   },
   {
    "duration": 19,
    "start_time": "2023-07-30T07:58:55.350Z"
   },
   {
    "duration": 4,
    "start_time": "2023-07-30T07:58:55.370Z"
   },
   {
    "duration": 59,
    "start_time": "2023-07-30T07:58:55.375Z"
   },
   {
    "duration": 11,
    "start_time": "2023-07-30T07:58:55.435Z"
   },
   {
    "duration": 11,
    "start_time": "2023-07-30T07:58:55.448Z"
   },
   {
    "duration": 11,
    "start_time": "2023-07-30T07:58:55.460Z"
   },
   {
    "duration": 5,
    "start_time": "2023-07-30T07:58:55.472Z"
   },
   {
    "duration": 17,
    "start_time": "2023-07-30T07:58:55.500Z"
   },
   {
    "duration": 135,
    "start_time": "2023-07-30T07:58:55.519Z"
   },
   {
    "duration": 13,
    "start_time": "2023-07-30T08:00:03.732Z"
   },
   {
    "duration": 121,
    "start_time": "2023-07-30T08:00:28.449Z"
   },
   {
    "duration": 13,
    "start_time": "2023-07-30T08:00:40.509Z"
   },
   {
    "duration": 6,
    "start_time": "2023-07-30T08:01:04.170Z"
   },
   {
    "duration": 7,
    "start_time": "2023-07-30T08:01:06.056Z"
   },
   {
    "duration": 10,
    "start_time": "2023-07-30T08:01:10.683Z"
   },
   {
    "duration": 3,
    "start_time": "2023-07-30T08:08:38.162Z"
   },
   {
    "duration": 4,
    "start_time": "2023-07-30T08:09:27.896Z"
   },
   {
    "duration": 203,
    "start_time": "2023-07-30T08:23:10.573Z"
   },
   {
    "duration": 176,
    "start_time": "2023-07-30T08:23:25.806Z"
   },
   {
    "duration": 187,
    "start_time": "2023-07-30T08:23:41.161Z"
   },
   {
    "duration": 452,
    "start_time": "2023-07-30T08:24:08.626Z"
   },
   {
    "duration": 147,
    "start_time": "2023-07-30T08:24:22.357Z"
   },
   {
    "duration": 150,
    "start_time": "2023-07-30T08:24:35.406Z"
   },
   {
    "duration": 172,
    "start_time": "2023-07-30T08:25:12.970Z"
   },
   {
    "duration": 858,
    "start_time": "2023-07-30T08:25:19.116Z"
   },
   {
    "duration": 850,
    "start_time": "2023-07-30T08:25:37.208Z"
   },
   {
    "duration": 488,
    "start_time": "2023-07-30T08:25:45.080Z"
   },
   {
    "duration": 259,
    "start_time": "2023-07-30T08:26:01.790Z"
   },
   {
    "duration": 261,
    "start_time": "2023-07-30T08:26:26.581Z"
   },
   {
    "duration": 134,
    "start_time": "2023-07-30T08:28:49.977Z"
   },
   {
    "duration": 134,
    "start_time": "2023-07-30T08:29:10.375Z"
   },
   {
    "duration": 149,
    "start_time": "2023-07-30T08:29:18.361Z"
   },
   {
    "duration": 228,
    "start_time": "2023-07-30T08:31:47.328Z"
   },
   {
    "duration": 311,
    "start_time": "2023-07-30T08:32:42.761Z"
   },
   {
    "duration": 251,
    "start_time": "2023-07-30T08:32:50.916Z"
   },
   {
    "duration": 192,
    "start_time": "2023-07-30T08:32:56.711Z"
   },
   {
    "duration": 150,
    "start_time": "2023-07-30T08:33:02.973Z"
   },
   {
    "duration": 296,
    "start_time": "2023-07-30T08:33:06.961Z"
   },
   {
    "duration": 299,
    "start_time": "2023-07-30T08:33:11.469Z"
   },
   {
    "duration": 424,
    "start_time": "2023-07-30T08:34:42.899Z"
   },
   {
    "duration": 358,
    "start_time": "2023-07-30T08:34:51.654Z"
   },
   {
    "duration": 367,
    "start_time": "2023-07-30T08:35:09.665Z"
   },
   {
    "duration": 402,
    "start_time": "2023-07-30T08:36:55.858Z"
   },
   {
    "duration": 393,
    "start_time": "2023-07-30T08:37:05.006Z"
   },
   {
    "duration": 360,
    "start_time": "2023-07-30T08:37:22.462Z"
   },
   {
    "duration": 409,
    "start_time": "2023-07-30T08:37:27.281Z"
   },
   {
    "duration": 469,
    "start_time": "2023-07-30T08:38:44.562Z"
   },
   {
    "duration": 519,
    "start_time": "2023-07-30T08:38:53.628Z"
   },
   {
    "duration": 1423,
    "start_time": "2023-07-30T08:39:09.578Z"
   },
   {
    "duration": 854,
    "start_time": "2023-07-30T08:39:30.865Z"
   },
   {
    "duration": 865,
    "start_time": "2023-07-30T08:46:10.282Z"
   },
   {
    "duration": 1021,
    "start_time": "2023-07-30T08:46:38.311Z"
   },
   {
    "duration": 891,
    "start_time": "2023-07-30T08:47:04.019Z"
   },
   {
    "duration": 960,
    "start_time": "2023-07-30T08:48:07.313Z"
   },
   {
    "duration": 349,
    "start_time": "2023-07-30T08:48:23.006Z"
   },
   {
    "duration": 956,
    "start_time": "2023-07-30T08:48:35.322Z"
   },
   {
    "duration": 760,
    "start_time": "2023-07-30T08:49:03.672Z"
   },
   {
    "duration": 859,
    "start_time": "2023-07-30T08:49:11.283Z"
   },
   {
    "duration": 298,
    "start_time": "2023-07-30T08:53:04.728Z"
   },
   {
    "duration": 3,
    "start_time": "2023-07-30T08:53:11.286Z"
   },
   {
    "duration": 5,
    "start_time": "2023-07-30T08:53:19.076Z"
   },
   {
    "duration": 9,
    "start_time": "2023-07-30T08:55:21.715Z"
   },
   {
    "duration": 4,
    "start_time": "2023-07-30T08:55:25.027Z"
   },
   {
    "duration": 6,
    "start_time": "2023-07-30T08:55:25.652Z"
   },
   {
    "duration": 7,
    "start_time": "2023-07-30T08:56:40.776Z"
   },
   {
    "duration": 2,
    "start_time": "2023-07-30T08:56:49.127Z"
   },
   {
    "duration": 4,
    "start_time": "2023-07-30T08:56:54.276Z"
   },
   {
    "duration": 5,
    "start_time": "2023-07-30T08:58:18.087Z"
   },
   {
    "duration": 6,
    "start_time": "2023-07-30T08:58:26.617Z"
   },
   {
    "duration": 4,
    "start_time": "2023-07-30T08:58:51.356Z"
   },
   {
    "duration": 6,
    "start_time": "2023-07-30T08:58:51.975Z"
   },
   {
    "duration": 5,
    "start_time": "2023-07-30T09:02:21.597Z"
   },
   {
    "duration": 7,
    "start_time": "2023-07-30T09:02:22.213Z"
   },
   {
    "duration": 868,
    "start_time": "2023-07-30T09:03:29.056Z"
   },
   {
    "duration": 1359,
    "start_time": "2023-07-30T09:07:55.419Z"
   },
   {
    "duration": 388,
    "start_time": "2023-07-30T09:09:40.064Z"
   },
   {
    "duration": 376,
    "start_time": "2023-07-30T09:09:58.884Z"
   },
   {
    "duration": 378,
    "start_time": "2023-07-30T09:10:30.021Z"
   },
   {
    "duration": 476,
    "start_time": "2023-07-30T09:11:12.476Z"
   },
   {
    "duration": 430,
    "start_time": "2023-07-30T09:11:34.893Z"
   },
   {
    "duration": 421,
    "start_time": "2023-07-30T09:12:44.287Z"
   },
   {
    "duration": 374,
    "start_time": "2023-07-30T09:12:58.705Z"
   },
   {
    "duration": 517,
    "start_time": "2023-07-30T09:13:05.809Z"
   },
   {
    "duration": 373,
    "start_time": "2023-07-30T09:13:19.614Z"
   },
   {
    "duration": 87,
    "start_time": "2023-07-30T09:35:20.682Z"
   },
   {
    "duration": 1308,
    "start_time": "2023-07-30T09:35:38.667Z"
   },
   {
    "duration": 670,
    "start_time": "2023-07-30T09:35:39.977Z"
   },
   {
    "duration": 19,
    "start_time": "2023-07-30T09:35:40.649Z"
   },
   {
    "duration": 30,
    "start_time": "2023-07-30T09:35:40.669Z"
   },
   {
    "duration": 12,
    "start_time": "2023-07-30T09:35:40.702Z"
   },
   {
    "duration": 20,
    "start_time": "2023-07-30T09:35:40.716Z"
   },
   {
    "duration": 18,
    "start_time": "2023-07-30T09:35:40.738Z"
   },
   {
    "duration": 45,
    "start_time": "2023-07-30T09:35:40.758Z"
   },
   {
    "duration": 8,
    "start_time": "2023-07-30T09:35:40.805Z"
   },
   {
    "duration": 10,
    "start_time": "2023-07-30T09:35:40.815Z"
   },
   {
    "duration": 4,
    "start_time": "2023-07-30T09:35:40.826Z"
   },
   {
    "duration": 224,
    "start_time": "2023-07-30T09:35:40.831Z"
   },
   {
    "duration": 190,
    "start_time": "2023-07-30T09:35:41.056Z"
   },
   {
    "duration": 105,
    "start_time": "2023-07-30T09:35:41.249Z"
   },
   {
    "duration": 2,
    "start_time": "2023-07-30T09:35:41.356Z"
   },
   {
    "duration": 11,
    "start_time": "2023-07-30T09:35:41.359Z"
   },
   {
    "duration": 7,
    "start_time": "2023-07-30T09:35:41.372Z"
   },
   {
    "duration": 6,
    "start_time": "2023-07-30T09:35:41.380Z"
   },
   {
    "duration": 13,
    "start_time": "2023-07-30T09:35:41.387Z"
   },
   {
    "duration": 3,
    "start_time": "2023-07-30T09:35:41.402Z"
   },
   {
    "duration": 24,
    "start_time": "2023-07-30T09:35:41.406Z"
   },
   {
    "duration": 236,
    "start_time": "2023-07-30T09:35:41.431Z"
   },
   {
    "duration": 16,
    "start_time": "2023-07-30T09:35:41.668Z"
   },
   {
    "duration": 24,
    "start_time": "2023-07-30T09:35:41.686Z"
   },
   {
    "duration": 3,
    "start_time": "2023-07-30T09:35:41.712Z"
   },
   {
    "duration": 13,
    "start_time": "2023-07-30T09:35:41.717Z"
   },
   {
    "duration": 31,
    "start_time": "2023-07-30T09:35:41.732Z"
   },
   {
    "duration": 3,
    "start_time": "2023-07-30T09:35:41.764Z"
   },
   {
    "duration": 39,
    "start_time": "2023-07-30T09:35:41.769Z"
   },
   {
    "duration": 11,
    "start_time": "2023-07-30T09:35:41.810Z"
   },
   {
    "duration": 9,
    "start_time": "2023-07-30T09:35:41.822Z"
   },
   {
    "duration": 6,
    "start_time": "2023-07-30T09:35:41.832Z"
   },
   {
    "duration": 17,
    "start_time": "2023-07-30T09:35:41.839Z"
   },
   {
    "duration": 9,
    "start_time": "2023-07-30T09:35:41.857Z"
   },
   {
    "duration": 861,
    "start_time": "2023-07-30T09:35:41.868Z"
   },
   {
    "duration": 5,
    "start_time": "2023-07-30T09:35:42.731Z"
   },
   {
    "duration": 1259,
    "start_time": "2023-07-30T09:35:42.737Z"
   },
   {
    "duration": 386,
    "start_time": "2023-07-30T09:35:43.999Z"
   },
   {
    "duration": 482,
    "start_time": "2023-07-30T09:35:44.386Z"
   },
   {
    "duration": 385,
    "start_time": "2023-07-30T09:35:44.869Z"
   },
   {
    "duration": 415,
    "start_time": "2023-07-30T09:35:45.257Z"
   },
   {
    "duration": 85,
    "start_time": "2023-07-30T09:35:45.674Z"
   },
   {
    "duration": 62,
    "start_time": "2023-07-30T09:36:56.359Z"
   },
   {
    "duration": 6,
    "start_time": "2023-07-30T09:37:25.207Z"
   },
   {
    "duration": 1225,
    "start_time": "2023-07-30T09:37:41.863Z"
   },
   {
    "duration": 4,
    "start_time": "2023-07-30T09:49:01.627Z"
   },
   {
    "duration": 3,
    "start_time": "2023-07-30T09:49:02.800Z"
   },
   {
    "duration": 8,
    "start_time": "2023-07-30T11:12:31.468Z"
   },
   {
    "duration": 3,
    "start_time": "2023-07-30T11:12:32.589Z"
   },
   {
    "duration": 1556,
    "start_time": "2023-07-30T11:12:38.556Z"
   },
   {
    "duration": 2301,
    "start_time": "2023-07-30T11:12:40.114Z"
   },
   {
    "duration": 19,
    "start_time": "2023-07-30T11:12:42.417Z"
   },
   {
    "duration": 20,
    "start_time": "2023-07-30T11:12:42.438Z"
   },
   {
    "duration": 18,
    "start_time": "2023-07-30T11:12:42.459Z"
   },
   {
    "duration": 24,
    "start_time": "2023-07-30T11:12:42.478Z"
   },
   {
    "duration": 20,
    "start_time": "2023-07-30T11:12:42.504Z"
   },
   {
    "duration": 28,
    "start_time": "2023-07-30T11:12:42.526Z"
   },
   {
    "duration": 4,
    "start_time": "2023-07-30T11:12:42.571Z"
   },
   {
    "duration": 21,
    "start_time": "2023-07-30T11:12:42.578Z"
   },
   {
    "duration": 27,
    "start_time": "2023-07-30T11:12:42.600Z"
   },
   {
    "duration": 289,
    "start_time": "2023-07-30T11:12:42.628Z"
   },
   {
    "duration": 282,
    "start_time": "2023-07-30T11:12:42.918Z"
   },
   {
    "duration": 137,
    "start_time": "2023-07-30T11:12:43.201Z"
   },
   {
    "duration": 3,
    "start_time": "2023-07-30T11:12:43.340Z"
   },
   {
    "duration": 18,
    "start_time": "2023-07-30T11:12:43.345Z"
   },
   {
    "duration": 12,
    "start_time": "2023-07-30T11:12:43.365Z"
   },
   {
    "duration": 5,
    "start_time": "2023-07-30T11:12:43.378Z"
   },
   {
    "duration": 17,
    "start_time": "2023-07-30T11:12:43.385Z"
   },
   {
    "duration": 10,
    "start_time": "2023-07-30T11:12:43.404Z"
   },
   {
    "duration": 26,
    "start_time": "2023-07-30T11:12:43.415Z"
   },
   {
    "duration": 239,
    "start_time": "2023-07-30T11:12:43.443Z"
   },
   {
    "duration": 20,
    "start_time": "2023-07-30T11:12:43.684Z"
   },
   {
    "duration": 12,
    "start_time": "2023-07-30T11:12:43.705Z"
   },
   {
    "duration": 4,
    "start_time": "2023-07-30T11:12:43.719Z"
   },
   {
    "duration": 8,
    "start_time": "2023-07-30T11:12:43.724Z"
   },
   {
    "duration": 41,
    "start_time": "2023-07-30T11:12:43.733Z"
   },
   {
    "duration": 4,
    "start_time": "2023-07-30T11:12:43.777Z"
   },
   {
    "duration": 56,
    "start_time": "2023-07-30T11:12:43.782Z"
   },
   {
    "duration": 12,
    "start_time": "2023-07-30T11:12:43.840Z"
   },
   {
    "duration": 20,
    "start_time": "2023-07-30T11:12:43.853Z"
   },
   {
    "duration": 9,
    "start_time": "2023-07-30T11:12:43.875Z"
   },
   {
    "duration": 19,
    "start_time": "2023-07-30T11:12:43.886Z"
   },
   {
    "duration": 12,
    "start_time": "2023-07-30T11:12:43.906Z"
   },
   {
    "duration": 1021,
    "start_time": "2023-07-30T11:12:43.919Z"
   },
   {
    "duration": 8,
    "start_time": "2023-07-30T11:12:44.942Z"
   },
   {
    "duration": 1544,
    "start_time": "2023-07-30T11:12:44.951Z"
   },
   {
    "duration": 562,
    "start_time": "2023-07-30T11:12:46.497Z"
   },
   {
    "duration": 592,
    "start_time": "2023-07-30T11:12:47.061Z"
   },
   {
    "duration": 466,
    "start_time": "2023-07-30T11:12:47.655Z"
   },
   {
    "duration": 479,
    "start_time": "2023-07-30T11:12:48.122Z"
   },
   {
    "duration": 82,
    "start_time": "2023-07-30T11:12:48.603Z"
   },
   {
    "duration": 7,
    "start_time": "2023-07-30T11:12:48.687Z"
   },
   {
    "duration": 1591,
    "start_time": "2023-07-30T11:12:48.695Z"
   },
   {
    "duration": 3,
    "start_time": "2023-07-30T11:12:50.287Z"
   },
   {
    "duration": 32,
    "start_time": "2023-07-30T11:12:50.292Z"
   },
   {
    "duration": 3,
    "start_time": "2023-07-30T11:19:21.447Z"
   },
   {
    "duration": 3,
    "start_time": "2023-07-30T11:20:20.070Z"
   },
   {
    "duration": 3,
    "start_time": "2023-07-30T11:20:21.771Z"
   },
   {
    "duration": 6,
    "start_time": "2023-07-30T11:24:30.288Z"
   },
   {
    "duration": 107,
    "start_time": "2023-07-30T11:25:28.179Z"
   },
   {
    "duration": 9,
    "start_time": "2023-07-30T11:25:52.811Z"
   },
   {
    "duration": 3,
    "start_time": "2023-07-30T11:26:00.498Z"
   },
   {
    "duration": 3,
    "start_time": "2023-07-30T11:26:01.199Z"
   },
   {
    "duration": 6,
    "start_time": "2023-07-30T11:26:02.095Z"
   },
   {
    "duration": 9,
    "start_time": "2023-07-30T11:26:03.687Z"
   },
   {
    "duration": 2,
    "start_time": "2023-07-30T11:27:24.244Z"
   },
   {
    "duration": 6,
    "start_time": "2023-07-30T11:31:07.591Z"
   },
   {
    "duration": 3,
    "start_time": "2023-07-30T11:31:08.503Z"
   },
   {
    "duration": 15,
    "start_time": "2023-07-30T11:31:10.480Z"
   },
   {
    "duration": 1413,
    "start_time": "2023-07-30T11:32:32.115Z"
   },
   {
    "duration": 730,
    "start_time": "2023-07-30T11:32:33.530Z"
   },
   {
    "duration": 20,
    "start_time": "2023-07-30T11:32:34.262Z"
   },
   {
    "duration": 23,
    "start_time": "2023-07-30T11:32:34.284Z"
   },
   {
    "duration": 17,
    "start_time": "2023-07-30T11:32:34.309Z"
   },
   {
    "duration": 32,
    "start_time": "2023-07-30T11:32:34.327Z"
   },
   {
    "duration": 38,
    "start_time": "2023-07-30T11:32:34.361Z"
   },
   {
    "duration": 37,
    "start_time": "2023-07-30T11:32:34.401Z"
   },
   {
    "duration": 16,
    "start_time": "2023-07-30T11:32:34.440Z"
   },
   {
    "duration": 10,
    "start_time": "2023-07-30T11:32:34.458Z"
   },
   {
    "duration": 7,
    "start_time": "2023-07-30T11:32:34.470Z"
   },
   {
    "duration": 273,
    "start_time": "2023-07-30T11:32:34.478Z"
   },
   {
    "duration": 237,
    "start_time": "2023-07-30T11:32:34.752Z"
   },
   {
    "duration": 134,
    "start_time": "2023-07-30T11:32:34.993Z"
   },
   {
    "duration": 3,
    "start_time": "2023-07-30T11:32:35.128Z"
   },
   {
    "duration": 10,
    "start_time": "2023-07-30T11:32:35.133Z"
   },
   {
    "duration": 6,
    "start_time": "2023-07-30T11:32:35.144Z"
   },
   {
    "duration": 20,
    "start_time": "2023-07-30T11:32:35.151Z"
   },
   {
    "duration": 12,
    "start_time": "2023-07-30T11:32:35.172Z"
   },
   {
    "duration": 7,
    "start_time": "2023-07-30T11:32:35.186Z"
   },
   {
    "duration": 32,
    "start_time": "2023-07-30T11:32:35.195Z"
   },
   {
    "duration": 242,
    "start_time": "2023-07-30T11:32:35.229Z"
   },
   {
    "duration": 19,
    "start_time": "2023-07-30T11:32:35.473Z"
   },
   {
    "duration": 11,
    "start_time": "2023-07-30T11:32:35.494Z"
   },
   {
    "duration": 4,
    "start_time": "2023-07-30T11:32:35.506Z"
   },
   {
    "duration": 8,
    "start_time": "2023-07-30T11:32:35.512Z"
   },
   {
    "duration": 22,
    "start_time": "2023-07-30T11:32:35.521Z"
   },
   {
    "duration": 4,
    "start_time": "2023-07-30T11:32:35.571Z"
   },
   {
    "duration": 46,
    "start_time": "2023-07-30T11:32:35.576Z"
   },
   {
    "duration": 13,
    "start_time": "2023-07-30T11:32:35.624Z"
   },
   {
    "duration": 40,
    "start_time": "2023-07-30T11:32:35.638Z"
   },
   {
    "duration": 7,
    "start_time": "2023-07-30T11:32:35.680Z"
   },
   {
    "duration": 25,
    "start_time": "2023-07-30T11:32:35.689Z"
   },
   {
    "duration": 15,
    "start_time": "2023-07-30T11:32:35.715Z"
   },
   {
    "duration": 1068,
    "start_time": "2023-07-30T11:32:35.732Z"
   },
   {
    "duration": 7,
    "start_time": "2023-07-30T11:32:36.802Z"
   },
   {
    "duration": 1514,
    "start_time": "2023-07-30T11:32:36.810Z"
   },
   {
    "duration": 465,
    "start_time": "2023-07-30T11:32:38.326Z"
   },
   {
    "duration": 632,
    "start_time": "2023-07-30T11:32:38.793Z"
   },
   {
    "duration": 469,
    "start_time": "2023-07-30T11:32:39.426Z"
   },
   {
    "duration": 484,
    "start_time": "2023-07-30T11:32:39.900Z"
   },
   {
    "duration": 85,
    "start_time": "2023-07-30T11:32:40.387Z"
   },
   {
    "duration": 8,
    "start_time": "2023-07-30T11:32:40.474Z"
   },
   {
    "duration": 1516,
    "start_time": "2023-07-30T11:32:40.484Z"
   },
   {
    "duration": 3,
    "start_time": "2023-07-30T11:32:42.003Z"
   },
   {
    "duration": 18,
    "start_time": "2023-07-30T11:32:42.007Z"
   },
   {
    "duration": 14,
    "start_time": "2023-07-30T11:32:42.027Z"
   },
   {
    "duration": 10,
    "start_time": "2023-07-30T11:32:42.043Z"
   },
   {
    "duration": 122,
    "start_time": "2023-07-30T11:32:42.054Z"
   },
   {
    "duration": 5,
    "start_time": "2023-07-30T11:34:12.103Z"
   },
   {
    "duration": 1425,
    "start_time": "2023-07-30T11:34:19.720Z"
   },
   {
    "duration": 739,
    "start_time": "2023-07-30T11:34:21.147Z"
   },
   {
    "duration": 18,
    "start_time": "2023-07-30T11:34:21.888Z"
   },
   {
    "duration": 17,
    "start_time": "2023-07-30T11:34:21.908Z"
   },
   {
    "duration": 13,
    "start_time": "2023-07-30T11:34:21.928Z"
   },
   {
    "duration": 47,
    "start_time": "2023-07-30T11:34:21.942Z"
   },
   {
    "duration": 21,
    "start_time": "2023-07-30T11:34:21.991Z"
   },
   {
    "duration": 24,
    "start_time": "2023-07-30T11:34:22.013Z"
   },
   {
    "duration": 7,
    "start_time": "2023-07-30T11:34:22.039Z"
   },
   {
    "duration": 4,
    "start_time": "2023-07-30T11:34:22.072Z"
   },
   {
    "duration": 8,
    "start_time": "2023-07-30T11:34:22.077Z"
   },
   {
    "duration": 272,
    "start_time": "2023-07-30T11:34:22.087Z"
   },
   {
    "duration": 230,
    "start_time": "2023-07-30T11:34:22.360Z"
   },
   {
    "duration": 140,
    "start_time": "2023-07-30T11:34:22.594Z"
   },
   {
    "duration": 3,
    "start_time": "2023-07-30T11:34:22.736Z"
   },
   {
    "duration": 20,
    "start_time": "2023-07-30T11:34:22.741Z"
   },
   {
    "duration": 9,
    "start_time": "2023-07-30T11:34:22.762Z"
   },
   {
    "duration": 3,
    "start_time": "2023-07-30T11:34:22.773Z"
   },
   {
    "duration": 10,
    "start_time": "2023-07-30T11:34:22.777Z"
   },
   {
    "duration": 8,
    "start_time": "2023-07-30T11:34:22.788Z"
   },
   {
    "duration": 30,
    "start_time": "2023-07-30T11:34:22.797Z"
   },
   {
    "duration": 272,
    "start_time": "2023-07-30T11:34:22.829Z"
   },
   {
    "duration": 20,
    "start_time": "2023-07-30T11:34:23.103Z"
   },
   {
    "duration": 12,
    "start_time": "2023-07-30T11:34:23.125Z"
   },
   {
    "duration": 17,
    "start_time": "2023-07-30T11:34:23.139Z"
   },
   {
    "duration": 28,
    "start_time": "2023-07-30T11:34:23.158Z"
   },
   {
    "duration": 24,
    "start_time": "2023-07-30T11:34:23.188Z"
   },
   {
    "duration": 4,
    "start_time": "2023-07-30T11:34:23.215Z"
   },
   {
    "duration": 58,
    "start_time": "2023-07-30T11:34:23.221Z"
   },
   {
    "duration": 12,
    "start_time": "2023-07-30T11:34:23.280Z"
   },
   {
    "duration": 11,
    "start_time": "2023-07-30T11:34:23.294Z"
   },
   {
    "duration": 15,
    "start_time": "2023-07-30T11:34:23.307Z"
   },
   {
    "duration": 32,
    "start_time": "2023-07-30T11:34:23.324Z"
   },
   {
    "duration": 30,
    "start_time": "2023-07-30T11:34:23.358Z"
   },
   {
    "duration": 990,
    "start_time": "2023-07-30T11:34:23.390Z"
   },
   {
    "duration": 8,
    "start_time": "2023-07-30T11:34:24.382Z"
   },
   {
    "duration": 1548,
    "start_time": "2023-07-30T11:34:24.392Z"
   },
   {
    "duration": 529,
    "start_time": "2023-07-30T11:34:25.942Z"
   },
   {
    "duration": 666,
    "start_time": "2023-07-30T11:34:26.473Z"
   },
   {
    "duration": 481,
    "start_time": "2023-07-30T11:34:27.140Z"
   },
   {
    "duration": 488,
    "start_time": "2023-07-30T11:34:27.625Z"
   },
   {
    "duration": 78,
    "start_time": "2023-07-30T11:34:28.115Z"
   },
   {
    "duration": 6,
    "start_time": "2023-07-30T11:34:28.195Z"
   },
   {
    "duration": 1558,
    "start_time": "2023-07-30T11:34:28.203Z"
   },
   {
    "duration": 7,
    "start_time": "2023-07-30T11:34:29.763Z"
   },
   {
    "duration": 17,
    "start_time": "2023-07-30T11:34:29.772Z"
   },
   {
    "duration": 15,
    "start_time": "2023-07-30T11:34:29.790Z"
   },
   {
    "duration": 21,
    "start_time": "2023-07-30T11:34:29.807Z"
   },
   {
    "duration": 121,
    "start_time": "2023-07-30T11:34:29.830Z"
   },
   {
    "duration": 1522,
    "start_time": "2023-07-30T11:37:13.843Z"
   },
   {
    "duration": 746,
    "start_time": "2023-07-30T11:37:15.367Z"
   },
   {
    "duration": 20,
    "start_time": "2023-07-30T11:37:16.114Z"
   },
   {
    "duration": 18,
    "start_time": "2023-07-30T11:37:16.137Z"
   },
   {
    "duration": 14,
    "start_time": "2023-07-30T11:37:16.170Z"
   },
   {
    "duration": 34,
    "start_time": "2023-07-30T11:37:16.186Z"
   },
   {
    "duration": 21,
    "start_time": "2023-07-30T11:37:16.223Z"
   },
   {
    "duration": 61,
    "start_time": "2023-07-30T11:37:16.246Z"
   },
   {
    "duration": 29,
    "start_time": "2023-07-30T11:37:16.309Z"
   },
   {
    "duration": 21,
    "start_time": "2023-07-30T11:37:16.341Z"
   },
   {
    "duration": 23,
    "start_time": "2023-07-30T11:37:16.364Z"
   },
   {
    "duration": 282,
    "start_time": "2023-07-30T11:37:16.389Z"
   },
   {
    "duration": 242,
    "start_time": "2023-07-30T11:37:16.673Z"
   },
   {
    "duration": 135,
    "start_time": "2023-07-30T11:37:16.916Z"
   },
   {
    "duration": 3,
    "start_time": "2023-07-30T11:37:17.053Z"
   },
   {
    "duration": 16,
    "start_time": "2023-07-30T11:37:17.058Z"
   },
   {
    "duration": 12,
    "start_time": "2023-07-30T11:37:17.076Z"
   },
   {
    "duration": 22,
    "start_time": "2023-07-30T11:37:17.089Z"
   },
   {
    "duration": 24,
    "start_time": "2023-07-30T11:37:17.112Z"
   },
   {
    "duration": 20,
    "start_time": "2023-07-30T11:37:17.138Z"
   },
   {
    "duration": 40,
    "start_time": "2023-07-30T11:37:17.160Z"
   },
   {
    "duration": 264,
    "start_time": "2023-07-30T11:37:17.202Z"
   },
   {
    "duration": 21,
    "start_time": "2023-07-30T11:37:17.468Z"
   },
   {
    "duration": 20,
    "start_time": "2023-07-30T11:37:17.491Z"
   },
   {
    "duration": 4,
    "start_time": "2023-07-30T11:37:17.513Z"
   },
   {
    "duration": 22,
    "start_time": "2023-07-30T11:37:17.518Z"
   },
   {
    "duration": 23,
    "start_time": "2023-07-30T11:37:17.542Z"
   },
   {
    "duration": 3,
    "start_time": "2023-07-30T11:37:17.570Z"
   },
   {
    "duration": 46,
    "start_time": "2023-07-30T11:37:17.575Z"
   },
   {
    "duration": 13,
    "start_time": "2023-07-30T11:37:17.623Z"
   },
   {
    "duration": 33,
    "start_time": "2023-07-30T11:37:17.638Z"
   },
   {
    "duration": 8,
    "start_time": "2023-07-30T11:37:17.672Z"
   },
   {
    "duration": 19,
    "start_time": "2023-07-30T11:37:17.682Z"
   },
   {
    "duration": 17,
    "start_time": "2023-07-30T11:37:17.703Z"
   },
   {
    "duration": 974,
    "start_time": "2023-07-30T11:37:17.721Z"
   },
   {
    "duration": 8,
    "start_time": "2023-07-30T11:37:18.696Z"
   },
   {
    "duration": 1578,
    "start_time": "2023-07-30T11:37:18.706Z"
   },
   {
    "duration": 487,
    "start_time": "2023-07-30T11:37:20.286Z"
   },
   {
    "duration": 603,
    "start_time": "2023-07-30T11:37:20.775Z"
   },
   {
    "duration": 468,
    "start_time": "2023-07-30T11:37:21.380Z"
   },
   {
    "duration": 486,
    "start_time": "2023-07-30T11:37:21.850Z"
   },
   {
    "duration": 85,
    "start_time": "2023-07-30T11:37:22.338Z"
   },
   {
    "duration": 7,
    "start_time": "2023-07-30T11:37:22.424Z"
   },
   {
    "duration": 1649,
    "start_time": "2023-07-30T11:37:22.433Z"
   },
   {
    "duration": 3,
    "start_time": "2023-07-30T11:37:24.084Z"
   },
   {
    "duration": 28,
    "start_time": "2023-07-30T11:37:24.088Z"
   },
   {
    "duration": 36,
    "start_time": "2023-07-30T11:37:24.118Z"
   },
   {
    "duration": 21,
    "start_time": "2023-07-30T11:37:24.156Z"
   },
   {
    "duration": 122,
    "start_time": "2023-07-30T11:37:24.179Z"
   },
   {
    "duration": 1463,
    "start_time": "2023-07-30T11:38:30.080Z"
   },
   {
    "duration": 786,
    "start_time": "2023-07-30T11:38:31.544Z"
   },
   {
    "duration": 23,
    "start_time": "2023-07-30T11:38:32.331Z"
   },
   {
    "duration": 27,
    "start_time": "2023-07-30T11:38:32.356Z"
   },
   {
    "duration": 23,
    "start_time": "2023-07-30T11:38:32.385Z"
   },
   {
    "duration": 25,
    "start_time": "2023-07-30T11:38:32.410Z"
   },
   {
    "duration": 25,
    "start_time": "2023-07-30T11:38:32.436Z"
   },
   {
    "duration": 27,
    "start_time": "2023-07-30T11:38:32.470Z"
   },
   {
    "duration": 6,
    "start_time": "2023-07-30T11:38:32.499Z"
   },
   {
    "duration": 6,
    "start_time": "2023-07-30T11:38:32.507Z"
   },
   {
    "duration": 7,
    "start_time": "2023-07-30T11:38:32.515Z"
   },
   {
    "duration": 276,
    "start_time": "2023-07-30T11:38:32.523Z"
   },
   {
    "duration": 227,
    "start_time": "2023-07-30T11:38:32.800Z"
   },
   {
    "duration": 136,
    "start_time": "2023-07-30T11:38:33.030Z"
   },
   {
    "duration": 6,
    "start_time": "2023-07-30T11:38:33.167Z"
   },
   {
    "duration": 38,
    "start_time": "2023-07-30T11:38:33.174Z"
   },
   {
    "duration": 17,
    "start_time": "2023-07-30T11:38:33.213Z"
   },
   {
    "duration": 27,
    "start_time": "2023-07-30T11:38:33.231Z"
   },
   {
    "duration": 13,
    "start_time": "2023-07-30T11:38:33.260Z"
   },
   {
    "duration": 8,
    "start_time": "2023-07-30T11:38:33.274Z"
   },
   {
    "duration": 32,
    "start_time": "2023-07-30T11:38:33.283Z"
   },
   {
    "duration": 232,
    "start_time": "2023-07-30T11:38:33.317Z"
   },
   {
    "duration": 26,
    "start_time": "2023-07-30T11:38:33.551Z"
   },
   {
    "duration": 40,
    "start_time": "2023-07-30T11:38:33.578Z"
   },
   {
    "duration": 20,
    "start_time": "2023-07-30T11:38:33.620Z"
   },
   {
    "duration": 10,
    "start_time": "2023-07-30T11:38:33.642Z"
   },
   {
    "duration": 26,
    "start_time": "2023-07-30T11:38:33.653Z"
   },
   {
    "duration": 4,
    "start_time": "2023-07-30T11:38:33.680Z"
   },
   {
    "duration": 65,
    "start_time": "2023-07-30T11:38:33.685Z"
   },
   {
    "duration": 13,
    "start_time": "2023-07-30T11:38:33.752Z"
   },
   {
    "duration": 34,
    "start_time": "2023-07-30T11:38:33.766Z"
   },
   {
    "duration": 13,
    "start_time": "2023-07-30T11:38:33.802Z"
   },
   {
    "duration": 12,
    "start_time": "2023-07-30T11:38:33.817Z"
   },
   {
    "duration": 8,
    "start_time": "2023-07-30T11:38:33.831Z"
   },
   {
    "duration": 951,
    "start_time": "2023-07-30T11:38:33.841Z"
   },
   {
    "duration": 8,
    "start_time": "2023-07-30T11:38:34.794Z"
   },
   {
    "duration": 1786,
    "start_time": "2023-07-30T11:38:34.804Z"
   },
   {
    "duration": 469,
    "start_time": "2023-07-30T11:38:36.592Z"
   },
   {
    "duration": 579,
    "start_time": "2023-07-30T11:38:37.063Z"
   },
   {
    "duration": 474,
    "start_time": "2023-07-30T11:38:37.643Z"
   },
   {
    "duration": 493,
    "start_time": "2023-07-30T11:38:38.121Z"
   },
   {
    "duration": 86,
    "start_time": "2023-07-30T11:38:38.615Z"
   },
   {
    "duration": 9,
    "start_time": "2023-07-30T11:38:38.703Z"
   },
   {
    "duration": 1625,
    "start_time": "2023-07-30T11:38:38.713Z"
   },
   {
    "duration": 3,
    "start_time": "2023-07-30T11:38:40.340Z"
   },
   {
    "duration": 30,
    "start_time": "2023-07-30T11:38:40.345Z"
   },
   {
    "duration": 41,
    "start_time": "2023-07-30T11:38:40.377Z"
   },
   {
    "duration": 29,
    "start_time": "2023-07-30T11:38:40.420Z"
   },
   {
    "duration": 134,
    "start_time": "2023-07-30T11:38:40.451Z"
   },
   {
    "duration": 17,
    "start_time": "2023-07-30T11:41:04.144Z"
   },
   {
    "duration": 5,
    "start_time": "2023-07-30T11:43:44.839Z"
   },
   {
    "duration": 4,
    "start_time": "2023-07-30T11:43:55.736Z"
   },
   {
    "duration": 21,
    "start_time": "2023-07-30T11:43:56.351Z"
   },
   {
    "duration": 12,
    "start_time": "2023-07-30T11:44:17.860Z"
   },
   {
    "duration": 6,
    "start_time": "2023-07-30T11:45:02.892Z"
   },
   {
    "duration": 4,
    "start_time": "2023-07-30T11:45:24.796Z"
   },
   {
    "duration": 5,
    "start_time": "2023-07-30T11:46:17.347Z"
   },
   {
    "duration": 13,
    "start_time": "2023-07-30T11:46:17.895Z"
   },
   {
    "duration": 4,
    "start_time": "2023-07-30T11:46:35.984Z"
   },
   {
    "duration": 5,
    "start_time": "2023-07-30T11:46:41.396Z"
   },
   {
    "duration": 5,
    "start_time": "2023-07-30T11:47:07.807Z"
   },
   {
    "duration": 10870,
    "start_time": "2023-07-30T11:47:08.339Z"
   },
   {
    "duration": 5,
    "start_time": "2023-07-30T11:47:56.555Z"
   },
   {
    "duration": 10665,
    "start_time": "2023-07-30T11:47:57.314Z"
   },
   {
    "duration": 21,
    "start_time": "2023-07-30T11:56:04.872Z"
   },
   {
    "duration": 6,
    "start_time": "2023-07-30T11:56:25.047Z"
   },
   {
    "duration": 4,
    "start_time": "2023-07-30T11:56:26.272Z"
   },
   {
    "duration": 5,
    "start_time": "2023-07-30T11:56:27.684Z"
   },
   {
    "duration": 16,
    "start_time": "2023-07-30T11:56:34.247Z"
   },
   {
    "duration": 9,
    "start_time": "2023-07-30T12:01:28.647Z"
   },
   {
    "duration": 2682,
    "start_time": "2023-07-30T12:02:07.463Z"
   },
   {
    "duration": 13,
    "start_time": "2023-07-30T12:05:24.826Z"
   },
   {
    "duration": 1506,
    "start_time": "2023-07-30T12:06:17.757Z"
   },
   {
    "duration": 728,
    "start_time": "2023-07-30T12:06:19.265Z"
   },
   {
    "duration": 18,
    "start_time": "2023-07-30T12:06:19.995Z"
   },
   {
    "duration": 17,
    "start_time": "2023-07-30T12:06:20.014Z"
   },
   {
    "duration": 18,
    "start_time": "2023-07-30T12:06:20.033Z"
   },
   {
    "duration": 43,
    "start_time": "2023-07-30T12:06:20.052Z"
   },
   {
    "duration": 19,
    "start_time": "2023-07-30T12:06:20.096Z"
   },
   {
    "duration": 27,
    "start_time": "2023-07-30T12:06:20.116Z"
   },
   {
    "duration": 19,
    "start_time": "2023-07-30T12:06:20.144Z"
   },
   {
    "duration": 29,
    "start_time": "2023-07-30T12:06:20.164Z"
   },
   {
    "duration": 17,
    "start_time": "2023-07-30T12:06:20.195Z"
   },
   {
    "duration": 266,
    "start_time": "2023-07-30T12:06:20.213Z"
   },
   {
    "duration": 231,
    "start_time": "2023-07-30T12:06:20.481Z"
   },
   {
    "duration": 144,
    "start_time": "2023-07-30T12:06:20.715Z"
   },
   {
    "duration": 10,
    "start_time": "2023-07-30T12:06:20.861Z"
   },
   {
    "duration": 19,
    "start_time": "2023-07-30T12:06:20.872Z"
   },
   {
    "duration": 40,
    "start_time": "2023-07-30T12:06:20.893Z"
   },
   {
    "duration": 8,
    "start_time": "2023-07-30T12:06:20.934Z"
   },
   {
    "duration": 31,
    "start_time": "2023-07-30T12:06:20.944Z"
   },
   {
    "duration": 24,
    "start_time": "2023-07-30T12:06:20.977Z"
   },
   {
    "duration": 51,
    "start_time": "2023-07-30T12:06:21.003Z"
   },
   {
    "duration": 238,
    "start_time": "2023-07-30T12:06:21.056Z"
   },
   {
    "duration": 20,
    "start_time": "2023-07-30T12:06:21.295Z"
   },
   {
    "duration": 33,
    "start_time": "2023-07-30T12:06:21.316Z"
   },
   {
    "duration": 20,
    "start_time": "2023-07-30T12:06:21.351Z"
   },
   {
    "duration": 25,
    "start_time": "2023-07-30T12:06:21.372Z"
   },
   {
    "duration": 113,
    "start_time": "2023-07-30T12:06:21.399Z"
   },
   {
    "duration": 4,
    "start_time": "2023-07-30T12:06:21.514Z"
   },
   {
    "duration": 59,
    "start_time": "2023-07-30T12:06:21.520Z"
   },
   {
    "duration": 12,
    "start_time": "2023-07-30T12:06:21.581Z"
   },
   {
    "duration": 36,
    "start_time": "2023-07-30T12:06:21.594Z"
   },
   {
    "duration": 11,
    "start_time": "2023-07-30T12:06:21.632Z"
   },
   {
    "duration": 25,
    "start_time": "2023-07-30T12:06:21.644Z"
   },
   {
    "duration": 37,
    "start_time": "2023-07-30T12:06:21.671Z"
   },
   {
    "duration": 944,
    "start_time": "2023-07-30T12:06:21.709Z"
   },
   {
    "duration": 6,
    "start_time": "2023-07-30T12:06:22.654Z"
   },
   {
    "duration": 1479,
    "start_time": "2023-07-30T12:06:22.662Z"
   },
   {
    "duration": 463,
    "start_time": "2023-07-30T12:06:24.143Z"
   },
   {
    "duration": 594,
    "start_time": "2023-07-30T12:06:24.607Z"
   },
   {
    "duration": 460,
    "start_time": "2023-07-30T12:06:25.203Z"
   },
   {
    "duration": 456,
    "start_time": "2023-07-30T12:06:25.667Z"
   },
   {
    "duration": 81,
    "start_time": "2023-07-30T12:06:26.125Z"
   },
   {
    "duration": 6,
    "start_time": "2023-07-30T12:06:26.208Z"
   },
   {
    "duration": 1605,
    "start_time": "2023-07-30T12:06:26.216Z"
   },
   {
    "duration": 3,
    "start_time": "2023-07-30T12:06:27.823Z"
   },
   {
    "duration": 24,
    "start_time": "2023-07-30T12:06:27.827Z"
   },
   {
    "duration": 137,
    "start_time": "2023-07-30T12:06:27.852Z"
   },
   {
    "duration": 0,
    "start_time": "2023-07-30T12:06:27.990Z"
   },
   {
    "duration": 0,
    "start_time": "2023-07-30T12:06:27.992Z"
   },
   {
    "duration": 0,
    "start_time": "2023-07-30T12:06:27.993Z"
   },
   {
    "duration": 0,
    "start_time": "2023-07-30T12:06:27.994Z"
   },
   {
    "duration": 0,
    "start_time": "2023-07-30T12:06:27.996Z"
   },
   {
    "duration": 0,
    "start_time": "2023-07-30T12:06:27.997Z"
   },
   {
    "duration": 6,
    "start_time": "2023-07-30T12:07:09.251Z"
   },
   {
    "duration": 3,
    "start_time": "2023-07-30T12:07:11.183Z"
   },
   {
    "duration": 2490,
    "start_time": "2023-07-30T12:07:12.883Z"
   },
   {
    "duration": 4,
    "start_time": "2023-07-30T12:07:19.114Z"
   },
   {
    "duration": 10599,
    "start_time": "2023-07-30T12:07:20.107Z"
   },
   {
    "duration": 1401,
    "start_time": "2023-07-30T12:09:53.248Z"
   },
   {
    "duration": 769,
    "start_time": "2023-07-30T12:09:54.651Z"
   },
   {
    "duration": 18,
    "start_time": "2023-07-30T12:09:55.422Z"
   },
   {
    "duration": 16,
    "start_time": "2023-07-30T12:09:55.441Z"
   },
   {
    "duration": 12,
    "start_time": "2023-07-30T12:09:55.471Z"
   },
   {
    "duration": 29,
    "start_time": "2023-07-30T12:09:55.484Z"
   },
   {
    "duration": 18,
    "start_time": "2023-07-30T12:09:55.515Z"
   },
   {
    "duration": 37,
    "start_time": "2023-07-30T12:09:55.534Z"
   },
   {
    "duration": 20,
    "start_time": "2023-07-30T12:09:55.572Z"
   },
   {
    "duration": 10,
    "start_time": "2023-07-30T12:09:55.594Z"
   },
   {
    "duration": 6,
    "start_time": "2023-07-30T12:09:55.605Z"
   },
   {
    "duration": 250,
    "start_time": "2023-07-30T12:09:55.613Z"
   },
   {
    "duration": 221,
    "start_time": "2023-07-30T12:09:55.864Z"
   },
   {
    "duration": 140,
    "start_time": "2023-07-30T12:09:56.088Z"
   },
   {
    "duration": 3,
    "start_time": "2023-07-30T12:09:56.229Z"
   },
   {
    "duration": 24,
    "start_time": "2023-07-30T12:09:56.233Z"
   },
   {
    "duration": 15,
    "start_time": "2023-07-30T12:09:56.259Z"
   },
   {
    "duration": 24,
    "start_time": "2023-07-30T12:09:56.276Z"
   },
   {
    "duration": 27,
    "start_time": "2023-07-30T12:09:56.301Z"
   },
   {
    "duration": 12,
    "start_time": "2023-07-30T12:09:56.330Z"
   },
   {
    "duration": 43,
    "start_time": "2023-07-30T12:09:56.344Z"
   },
   {
    "duration": 297,
    "start_time": "2023-07-30T12:09:56.389Z"
   },
   {
    "duration": 19,
    "start_time": "2023-07-30T12:09:56.688Z"
   },
   {
    "duration": 12,
    "start_time": "2023-07-30T12:09:56.709Z"
   },
   {
    "duration": 15,
    "start_time": "2023-07-30T12:09:56.723Z"
   },
   {
    "duration": 21,
    "start_time": "2023-07-30T12:09:56.740Z"
   },
   {
    "duration": 97,
    "start_time": "2023-07-30T12:09:56.763Z"
   },
   {
    "duration": 4,
    "start_time": "2023-07-30T12:09:56.862Z"
   },
   {
    "duration": 75,
    "start_time": "2023-07-30T12:09:56.867Z"
   },
   {
    "duration": 12,
    "start_time": "2023-07-30T12:09:56.943Z"
   },
   {
    "duration": 38,
    "start_time": "2023-07-30T12:09:56.956Z"
   },
   {
    "duration": 14,
    "start_time": "2023-07-30T12:09:56.995Z"
   },
   {
    "duration": 33,
    "start_time": "2023-07-30T12:09:57.011Z"
   },
   {
    "duration": 31,
    "start_time": "2023-07-30T12:09:57.045Z"
   },
   {
    "duration": 914,
    "start_time": "2023-07-30T12:09:57.078Z"
   },
   {
    "duration": 8,
    "start_time": "2023-07-30T12:09:57.993Z"
   },
   {
    "duration": 1547,
    "start_time": "2023-07-30T12:09:58.002Z"
   },
   {
    "duration": 495,
    "start_time": "2023-07-30T12:09:59.551Z"
   },
   {
    "duration": 635,
    "start_time": "2023-07-30T12:10:00.048Z"
   },
   {
    "duration": 495,
    "start_time": "2023-07-30T12:10:00.685Z"
   },
   {
    "duration": 482,
    "start_time": "2023-07-30T12:10:01.185Z"
   },
   {
    "duration": 82,
    "start_time": "2023-07-30T12:10:01.670Z"
   },
   {
    "duration": 18,
    "start_time": "2023-07-30T12:10:01.754Z"
   },
   {
    "duration": 1598,
    "start_time": "2023-07-30T12:10:01.774Z"
   },
   {
    "duration": 3,
    "start_time": "2023-07-30T12:10:03.374Z"
   },
   {
    "duration": 18,
    "start_time": "2023-07-30T12:10:03.378Z"
   },
   {
    "duration": 17,
    "start_time": "2023-07-30T12:10:03.398Z"
   },
   {
    "duration": 34,
    "start_time": "2023-07-30T12:10:03.417Z"
   },
   {
    "duration": 2546,
    "start_time": "2023-07-30T12:10:03.452Z"
   },
   {
    "duration": 5,
    "start_time": "2023-07-30T12:10:05.999Z"
   },
   {
    "duration": 10966,
    "start_time": "2023-07-30T12:10:06.005Z"
   },
   {
    "duration": 0,
    "start_time": "2023-07-30T12:10:16.972Z"
   },
   {
    "duration": 5,
    "start_time": "2023-07-30T12:13:55.459Z"
   },
   {
    "duration": 10535,
    "start_time": "2023-07-30T12:14:03.575Z"
   },
   {
    "duration": 5,
    "start_time": "2023-07-30T12:15:27.608Z"
   },
   {
    "duration": 10683,
    "start_time": "2023-07-30T12:15:28.415Z"
   },
   {
    "duration": 11,
    "start_time": "2023-07-30T12:16:20.579Z"
   },
   {
    "duration": 14,
    "start_time": "2023-07-30T12:16:32.075Z"
   },
   {
    "duration": 12,
    "start_time": "2023-07-30T12:18:05.691Z"
   },
   {
    "duration": 5,
    "start_time": "2023-07-30T12:18:19.039Z"
   },
   {
    "duration": 3,
    "start_time": "2023-07-30T12:18:20.272Z"
   },
   {
    "duration": 6,
    "start_time": "2023-07-30T12:18:21.408Z"
   },
   {
    "duration": 3,
    "start_time": "2023-07-30T12:18:22.643Z"
   },
   {
    "duration": 2605,
    "start_time": "2023-07-30T12:18:25.720Z"
   },
   {
    "duration": 25,
    "start_time": "2023-07-30T12:18:28.327Z"
   },
   {
    "duration": 9,
    "start_time": "2023-07-30T12:18:29.468Z"
   },
   {
    "duration": 4,
    "start_time": "2023-07-30T12:18:35.452Z"
   },
   {
    "duration": 10804,
    "start_time": "2023-07-30T12:18:36.147Z"
   },
   {
    "duration": 36,
    "start_time": "2023-07-30T12:18:46.953Z"
   },
   {
    "duration": 22792,
    "start_time": "2023-07-30T12:19:31.248Z"
   },
   {
    "duration": 10,
    "start_time": "2023-07-30T12:20:38.071Z"
   },
   {
    "duration": 12,
    "start_time": "2023-07-30T12:21:09.375Z"
   },
   {
    "duration": 33,
    "start_time": "2023-07-30T12:21:29.640Z"
   },
   {
    "duration": 27,
    "start_time": "2023-07-30T12:21:31.267Z"
   },
   {
    "duration": 4,
    "start_time": "2023-07-30T12:21:32.267Z"
   },
   {
    "duration": 14262,
    "start_time": "2023-07-30T12:21:54.904Z"
   },
   {
    "duration": 14045,
    "start_time": "2023-07-30T12:22:28.851Z"
   },
   {
    "duration": 13760,
    "start_time": "2023-07-30T12:26:14.076Z"
   },
   {
    "duration": 13820,
    "start_time": "2023-07-30T12:27:04.344Z"
   },
   {
    "duration": 13583,
    "start_time": "2023-07-30T12:27:46.890Z"
   },
   {
    "duration": 13841,
    "start_time": "2023-07-30T12:28:36.868Z"
   },
   {
    "duration": 2607,
    "start_time": "2023-07-30T12:56:44.394Z"
   },
   {
    "duration": 768,
    "start_time": "2023-07-30T12:56:47.004Z"
   },
   {
    "duration": 15532,
    "start_time": "2023-07-30T12:56:47.775Z"
   },
   {
    "duration": 17,
    "start_time": "2023-07-30T12:58:08.767Z"
   },
   {
    "duration": 11,
    "start_time": "2023-07-30T13:00:07.688Z"
   },
   {
    "duration": 5,
    "start_time": "2023-07-30T13:00:50.670Z"
   },
   {
    "duration": 9,
    "start_time": "2023-07-30T13:00:51.848Z"
   },
   {
    "duration": 13,
    "start_time": "2023-07-30T13:01:59.170Z"
   },
   {
    "duration": 11,
    "start_time": "2023-07-30T13:02:38.855Z"
   },
   {
    "duration": 11,
    "start_time": "2023-07-30T13:02:42.790Z"
   },
   {
    "duration": 9,
    "start_time": "2023-07-30T13:02:54.159Z"
   },
   {
    "duration": 1605,
    "start_time": "2023-07-30T13:05:05.952Z"
   },
   {
    "duration": 755,
    "start_time": "2023-07-30T13:05:07.559Z"
   },
   {
    "duration": 19,
    "start_time": "2023-07-30T13:05:08.315Z"
   },
   {
    "duration": 16,
    "start_time": "2023-07-30T13:05:08.335Z"
   },
   {
    "duration": 26,
    "start_time": "2023-07-30T13:05:08.352Z"
   },
   {
    "duration": 33,
    "start_time": "2023-07-30T13:05:08.380Z"
   },
   {
    "duration": 23,
    "start_time": "2023-07-30T13:05:08.415Z"
   },
   {
    "duration": 36,
    "start_time": "2023-07-30T13:05:08.440Z"
   },
   {
    "duration": 19,
    "start_time": "2023-07-30T13:05:08.478Z"
   },
   {
    "duration": 13,
    "start_time": "2023-07-30T13:05:08.498Z"
   },
   {
    "duration": 8,
    "start_time": "2023-07-30T13:05:08.512Z"
   },
   {
    "duration": 275,
    "start_time": "2023-07-30T13:05:08.522Z"
   },
   {
    "duration": 266,
    "start_time": "2023-07-30T13:05:08.799Z"
   },
   {
    "duration": 137,
    "start_time": "2023-07-30T13:05:09.073Z"
   },
   {
    "duration": 3,
    "start_time": "2023-07-30T13:05:09.212Z"
   },
   {
    "duration": 13,
    "start_time": "2023-07-30T13:05:09.216Z"
   },
   {
    "duration": 13,
    "start_time": "2023-07-30T13:05:09.231Z"
   },
   {
    "duration": 27,
    "start_time": "2023-07-30T13:05:09.245Z"
   },
   {
    "duration": 8,
    "start_time": "2023-07-30T13:05:09.273Z"
   },
   {
    "duration": 6,
    "start_time": "2023-07-30T13:05:09.283Z"
   },
   {
    "duration": 35,
    "start_time": "2023-07-30T13:05:09.291Z"
   },
   {
    "duration": 242,
    "start_time": "2023-07-30T13:05:09.327Z"
   },
   {
    "duration": 21,
    "start_time": "2023-07-30T13:05:09.571Z"
   },
   {
    "duration": 14,
    "start_time": "2023-07-30T13:05:09.594Z"
   },
   {
    "duration": 4,
    "start_time": "2023-07-30T13:05:09.610Z"
   },
   {
    "duration": 12,
    "start_time": "2023-07-30T13:05:09.616Z"
   },
   {
    "duration": 103,
    "start_time": "2023-07-30T13:05:09.629Z"
   },
   {
    "duration": 4,
    "start_time": "2023-07-30T13:05:09.734Z"
   },
   {
    "duration": 55,
    "start_time": "2023-07-30T13:05:09.740Z"
   },
   {
    "duration": 12,
    "start_time": "2023-07-30T13:05:09.797Z"
   },
   {
    "duration": 13,
    "start_time": "2023-07-30T13:05:09.812Z"
   },
   {
    "duration": 10,
    "start_time": "2023-07-30T13:05:09.828Z"
   },
   {
    "duration": 43,
    "start_time": "2023-07-30T13:05:09.839Z"
   },
   {
    "duration": 7,
    "start_time": "2023-07-30T13:05:09.884Z"
   },
   {
    "duration": 989,
    "start_time": "2023-07-30T13:05:09.892Z"
   },
   {
    "duration": 7,
    "start_time": "2023-07-30T13:05:10.883Z"
   },
   {
    "duration": 1787,
    "start_time": "2023-07-30T13:05:10.891Z"
   },
   {
    "duration": 592,
    "start_time": "2023-07-30T13:05:12.680Z"
   },
   {
    "duration": 632,
    "start_time": "2023-07-30T13:05:13.274Z"
   },
   {
    "duration": 477,
    "start_time": "2023-07-30T13:05:13.908Z"
   },
   {
    "duration": 516,
    "start_time": "2023-07-30T13:05:14.389Z"
   },
   {
    "duration": 89,
    "start_time": "2023-07-30T13:05:14.907Z"
   },
   {
    "duration": 8,
    "start_time": "2023-07-30T13:05:14.998Z"
   },
   {
    "duration": 1663,
    "start_time": "2023-07-30T13:05:15.009Z"
   },
   {
    "duration": 4,
    "start_time": "2023-07-30T13:05:16.674Z"
   },
   {
    "duration": 18,
    "start_time": "2023-07-30T13:05:16.679Z"
   },
   {
    "duration": 22,
    "start_time": "2023-07-30T13:05:16.699Z"
   },
   {
    "duration": 19,
    "start_time": "2023-07-30T13:05:16.723Z"
   },
   {
    "duration": 2635,
    "start_time": "2023-07-30T13:05:16.744Z"
   },
   {
    "duration": 27,
    "start_time": "2023-07-30T13:05:19.381Z"
   },
   {
    "duration": 58,
    "start_time": "2023-07-30T13:05:19.410Z"
   },
   {
    "duration": 4,
    "start_time": "2023-07-30T13:05:19.469Z"
   },
   {
    "duration": 21,
    "start_time": "2023-07-30T13:05:19.475Z"
   },
   {
    "duration": 138,
    "start_time": "2023-07-30T13:05:19.498Z"
   },
   {
    "duration": 0,
    "start_time": "2023-07-30T13:05:19.638Z"
   },
   {
    "duration": 0,
    "start_time": "2023-07-30T13:05:19.639Z"
   },
   {
    "duration": 0,
    "start_time": "2023-07-30T13:05:19.640Z"
   },
   {
    "duration": 0,
    "start_time": "2023-07-30T13:05:19.641Z"
   },
   {
    "duration": 0,
    "start_time": "2023-07-30T13:05:19.642Z"
   },
   {
    "duration": 0,
    "start_time": "2023-07-30T13:05:19.643Z"
   },
   {
    "duration": 0,
    "start_time": "2023-07-30T13:05:19.644Z"
   },
   {
    "duration": 0,
    "start_time": "2023-07-30T13:05:19.645Z"
   },
   {
    "duration": 0,
    "start_time": "2023-07-30T13:05:19.646Z"
   },
   {
    "duration": 0,
    "start_time": "2023-07-30T13:05:19.647Z"
   },
   {
    "duration": 0,
    "start_time": "2023-07-30T13:05:19.648Z"
   },
   {
    "duration": 0,
    "start_time": "2023-07-30T13:05:19.649Z"
   },
   {
    "duration": 0,
    "start_time": "2023-07-30T13:05:19.650Z"
   },
   {
    "duration": 0,
    "start_time": "2023-07-30T13:05:19.651Z"
   },
   {
    "duration": 6,
    "start_time": "2023-07-30T13:10:51.167Z"
   },
   {
    "duration": 5,
    "start_time": "2023-07-30T13:12:11.589Z"
   },
   {
    "duration": 6,
    "start_time": "2023-07-30T13:12:12.068Z"
   },
   {
    "duration": 19,
    "start_time": "2023-07-30T13:16:06.059Z"
   },
   {
    "duration": 16,
    "start_time": "2023-07-30T13:16:31.055Z"
   },
   {
    "duration": 1450,
    "start_time": "2023-07-30T13:17:07.186Z"
   },
   {
    "duration": 791,
    "start_time": "2023-07-30T13:17:08.638Z"
   },
   {
    "duration": 19,
    "start_time": "2023-07-30T13:17:09.431Z"
   },
   {
    "duration": 24,
    "start_time": "2023-07-30T13:17:09.452Z"
   },
   {
    "duration": 14,
    "start_time": "2023-07-30T13:17:09.479Z"
   },
   {
    "duration": 41,
    "start_time": "2023-07-30T13:17:09.494Z"
   },
   {
    "duration": 21,
    "start_time": "2023-07-30T13:17:09.537Z"
   },
   {
    "duration": 30,
    "start_time": "2023-07-30T13:17:09.560Z"
   },
   {
    "duration": 33,
    "start_time": "2023-07-30T13:17:09.592Z"
   },
   {
    "duration": 37,
    "start_time": "2023-07-30T13:17:09.627Z"
   },
   {
    "duration": 12,
    "start_time": "2023-07-30T13:17:09.665Z"
   },
   {
    "duration": 260,
    "start_time": "2023-07-30T13:17:09.679Z"
   },
   {
    "duration": 234,
    "start_time": "2023-07-30T13:17:09.940Z"
   },
   {
    "duration": 136,
    "start_time": "2023-07-30T13:17:10.177Z"
   },
   {
    "duration": 3,
    "start_time": "2023-07-30T13:17:10.315Z"
   },
   {
    "duration": 19,
    "start_time": "2023-07-30T13:17:10.320Z"
   },
   {
    "duration": 6,
    "start_time": "2023-07-30T13:17:10.340Z"
   },
   {
    "duration": 15,
    "start_time": "2023-07-30T13:17:10.348Z"
   },
   {
    "duration": 11,
    "start_time": "2023-07-30T13:17:10.365Z"
   },
   {
    "duration": 24,
    "start_time": "2023-07-30T13:17:10.378Z"
   },
   {
    "duration": 29,
    "start_time": "2023-07-30T13:17:10.404Z"
   },
   {
    "duration": 251,
    "start_time": "2023-07-30T13:17:10.435Z"
   },
   {
    "duration": 21,
    "start_time": "2023-07-30T13:17:10.688Z"
   },
   {
    "duration": 14,
    "start_time": "2023-07-30T13:17:10.711Z"
   },
   {
    "duration": 5,
    "start_time": "2023-07-30T13:17:10.727Z"
   },
   {
    "duration": 12,
    "start_time": "2023-07-30T13:17:10.734Z"
   },
   {
    "duration": 92,
    "start_time": "2023-07-30T13:17:10.771Z"
   },
   {
    "duration": 10,
    "start_time": "2023-07-30T13:17:10.865Z"
   },
   {
    "duration": 51,
    "start_time": "2023-07-30T13:17:10.877Z"
   },
   {
    "duration": 12,
    "start_time": "2023-07-30T13:17:10.930Z"
   },
   {
    "duration": 18,
    "start_time": "2023-07-30T13:17:10.944Z"
   },
   {
    "duration": 12,
    "start_time": "2023-07-30T13:17:10.964Z"
   },
   {
    "duration": 22,
    "start_time": "2023-07-30T13:17:10.977Z"
   },
   {
    "duration": 8,
    "start_time": "2023-07-30T13:17:11.001Z"
   },
   {
    "duration": 1013,
    "start_time": "2023-07-30T13:17:11.010Z"
   },
   {
    "duration": 7,
    "start_time": "2023-07-30T13:17:12.025Z"
   },
   {
    "duration": 1711,
    "start_time": "2023-07-30T13:17:12.033Z"
   },
   {
    "duration": 521,
    "start_time": "2023-07-30T13:17:13.746Z"
   },
   {
    "duration": 619,
    "start_time": "2023-07-30T13:17:14.270Z"
   },
   {
    "duration": 487,
    "start_time": "2023-07-30T13:17:14.891Z"
   },
   {
    "duration": 508,
    "start_time": "2023-07-30T13:17:15.382Z"
   },
   {
    "duration": 87,
    "start_time": "2023-07-30T13:17:15.892Z"
   },
   {
    "duration": 8,
    "start_time": "2023-07-30T13:17:15.981Z"
   },
   {
    "duration": 1770,
    "start_time": "2023-07-30T13:17:15.991Z"
   },
   {
    "duration": 8,
    "start_time": "2023-07-30T13:17:17.763Z"
   },
   {
    "duration": 51,
    "start_time": "2023-07-30T13:17:17.773Z"
   },
   {
    "duration": 187,
    "start_time": "2023-07-30T13:17:17.825Z"
   },
   {
    "duration": 0,
    "start_time": "2023-07-30T13:17:18.013Z"
   },
   {
    "duration": 0,
    "start_time": "2023-07-30T13:17:18.015Z"
   },
   {
    "duration": 0,
    "start_time": "2023-07-30T13:17:18.016Z"
   },
   {
    "duration": 0,
    "start_time": "2023-07-30T13:17:18.017Z"
   },
   {
    "duration": 0,
    "start_time": "2023-07-30T13:17:18.018Z"
   },
   {
    "duration": 0,
    "start_time": "2023-07-30T13:17:18.019Z"
   },
   {
    "duration": 0,
    "start_time": "2023-07-30T13:17:18.020Z"
   },
   {
    "duration": 0,
    "start_time": "2023-07-30T13:17:18.021Z"
   },
   {
    "duration": 0,
    "start_time": "2023-07-30T13:17:18.022Z"
   },
   {
    "duration": 0,
    "start_time": "2023-07-30T13:17:18.023Z"
   },
   {
    "duration": 0,
    "start_time": "2023-07-30T13:17:18.024Z"
   },
   {
    "duration": 0,
    "start_time": "2023-07-30T13:17:18.024Z"
   },
   {
    "duration": 0,
    "start_time": "2023-07-30T13:17:18.025Z"
   },
   {
    "duration": 0,
    "start_time": "2023-07-30T13:17:18.027Z"
   },
   {
    "duration": 1,
    "start_time": "2023-07-30T13:17:18.027Z"
   },
   {
    "duration": 0,
    "start_time": "2023-07-30T13:17:18.030Z"
   },
   {
    "duration": 0,
    "start_time": "2023-07-30T13:17:18.031Z"
   },
   {
    "duration": 0,
    "start_time": "2023-07-30T13:17:18.032Z"
   },
   {
    "duration": 0,
    "start_time": "2023-07-30T13:17:18.033Z"
   },
   {
    "duration": 0,
    "start_time": "2023-07-30T13:17:18.034Z"
   },
   {
    "duration": 0,
    "start_time": "2023-07-30T13:17:18.035Z"
   },
   {
    "duration": 0,
    "start_time": "2023-07-30T13:17:18.036Z"
   },
   {
    "duration": 15,
    "start_time": "2023-07-30T13:17:50.222Z"
   },
   {
    "duration": 20,
    "start_time": "2023-07-30T13:18:33.590Z"
   },
   {
    "duration": 7,
    "start_time": "2023-07-30T13:19:45.495Z"
   },
   {
    "duration": 2,
    "start_time": "2023-07-30T13:20:39.558Z"
   },
   {
    "duration": 1655,
    "start_time": "2023-07-30T13:22:01.953Z"
   },
   {
    "duration": 856,
    "start_time": "2023-07-30T13:22:03.610Z"
   },
   {
    "duration": 30,
    "start_time": "2023-07-30T13:22:04.468Z"
   },
   {
    "duration": 27,
    "start_time": "2023-07-30T13:22:04.501Z"
   },
   {
    "duration": 21,
    "start_time": "2023-07-30T13:22:04.531Z"
   },
   {
    "duration": 72,
    "start_time": "2023-07-30T13:22:04.555Z"
   },
   {
    "duration": 23,
    "start_time": "2023-07-30T13:22:04.629Z"
   },
   {
    "duration": 37,
    "start_time": "2023-07-30T13:22:04.655Z"
   },
   {
    "duration": 16,
    "start_time": "2023-07-30T13:22:04.694Z"
   },
   {
    "duration": 18,
    "start_time": "2023-07-30T13:22:04.712Z"
   },
   {
    "duration": 19,
    "start_time": "2023-07-30T13:22:04.732Z"
   },
   {
    "duration": 308,
    "start_time": "2023-07-30T13:22:04.753Z"
   },
   {
    "duration": 255,
    "start_time": "2023-07-30T13:22:05.064Z"
   },
   {
    "duration": 146,
    "start_time": "2023-07-30T13:22:05.322Z"
   },
   {
    "duration": 3,
    "start_time": "2023-07-30T13:22:05.472Z"
   },
   {
    "duration": 33,
    "start_time": "2023-07-30T13:22:05.477Z"
   },
   {
    "duration": 40,
    "start_time": "2023-07-30T13:22:05.512Z"
   },
   {
    "duration": 58,
    "start_time": "2023-07-30T13:22:05.554Z"
   },
   {
    "duration": 22,
    "start_time": "2023-07-30T13:22:05.616Z"
   },
   {
    "duration": 45,
    "start_time": "2023-07-30T13:22:05.640Z"
   },
   {
    "duration": 65,
    "start_time": "2023-07-30T13:22:05.686Z"
   },
   {
    "duration": 312,
    "start_time": "2023-07-30T13:22:05.753Z"
   },
   {
    "duration": 26,
    "start_time": "2023-07-30T13:22:06.067Z"
   },
   {
    "duration": 41,
    "start_time": "2023-07-30T13:22:06.095Z"
   },
   {
    "duration": 5,
    "start_time": "2023-07-30T13:22:06.138Z"
   },
   {
    "duration": 17,
    "start_time": "2023-07-30T13:22:06.145Z"
   },
   {
    "duration": 103,
    "start_time": "2023-07-30T13:22:06.165Z"
   },
   {
    "duration": 12,
    "start_time": "2023-07-30T13:22:06.269Z"
   },
   {
    "duration": 82,
    "start_time": "2023-07-30T13:22:06.282Z"
   },
   {
    "duration": 20,
    "start_time": "2023-07-30T13:22:06.366Z"
   },
   {
    "duration": 31,
    "start_time": "2023-07-30T13:22:06.391Z"
   },
   {
    "duration": 10,
    "start_time": "2023-07-30T13:22:06.425Z"
   },
   {
    "duration": 28,
    "start_time": "2023-07-30T13:22:06.439Z"
   },
   {
    "duration": 64,
    "start_time": "2023-07-30T13:22:06.469Z"
   },
   {
    "duration": 1172,
    "start_time": "2023-07-30T13:22:06.535Z"
   },
   {
    "duration": 9,
    "start_time": "2023-07-30T13:22:07.710Z"
   },
   {
    "duration": 1948,
    "start_time": "2023-07-30T13:22:07.721Z"
   },
   {
    "duration": 546,
    "start_time": "2023-07-30T13:22:09.671Z"
   },
   {
    "duration": 681,
    "start_time": "2023-07-30T13:22:10.219Z"
   },
   {
    "duration": 582,
    "start_time": "2023-07-30T13:22:10.902Z"
   },
   {
    "duration": 511,
    "start_time": "2023-07-30T13:22:11.490Z"
   },
   {
    "duration": 98,
    "start_time": "2023-07-30T13:22:12.003Z"
   },
   {
    "duration": 9,
    "start_time": "2023-07-30T13:22:12.103Z"
   },
   {
    "duration": 1747,
    "start_time": "2023-07-30T13:22:12.115Z"
   },
   {
    "duration": 7,
    "start_time": "2023-07-30T13:22:13.864Z"
   },
   {
    "duration": 28,
    "start_time": "2023-07-30T13:22:13.873Z"
   },
   {
    "duration": 13,
    "start_time": "2023-07-30T13:22:13.903Z"
   },
   {
    "duration": 29,
    "start_time": "2023-07-30T13:22:13.918Z"
   },
   {
    "duration": 9,
    "start_time": "2023-07-30T13:22:13.949Z"
   },
   {
    "duration": 15,
    "start_time": "2023-07-30T13:22:13.960Z"
   },
   {
    "duration": 24,
    "start_time": "2023-07-30T13:22:13.977Z"
   },
   {
    "duration": 2779,
    "start_time": "2023-07-30T13:22:14.003Z"
   },
   {
    "duration": 1087,
    "start_time": "2023-07-30T13:22:16.785Z"
   },
   {
    "duration": 16387,
    "start_time": "2023-07-30T13:22:17.874Z"
   },
   {
    "duration": 11,
    "start_time": "2023-07-30T13:22:34.263Z"
   },
   {
    "duration": 59,
    "start_time": "2023-07-30T13:22:34.277Z"
   },
   {
    "duration": 169,
    "start_time": "2023-07-30T13:22:34.339Z"
   },
   {
    "duration": 0,
    "start_time": "2023-07-30T13:22:34.509Z"
   },
   {
    "duration": 0,
    "start_time": "2023-07-30T13:22:34.510Z"
   },
   {
    "duration": 0,
    "start_time": "2023-07-30T13:22:34.511Z"
   },
   {
    "duration": 0,
    "start_time": "2023-07-30T13:22:34.512Z"
   },
   {
    "duration": 0,
    "start_time": "2023-07-30T13:22:34.513Z"
   },
   {
    "duration": 0,
    "start_time": "2023-07-30T13:22:34.514Z"
   },
   {
    "duration": 0,
    "start_time": "2023-07-30T13:22:34.516Z"
   },
   {
    "duration": 12,
    "start_time": "2023-07-30T13:23:35.700Z"
   },
   {
    "duration": 25,
    "start_time": "2023-07-30T13:23:47.043Z"
   },
   {
    "duration": 10,
    "start_time": "2023-07-30T13:25:50.598Z"
   },
   {
    "duration": 1539,
    "start_time": "2023-07-30T13:26:13.851Z"
   },
   {
    "duration": 831,
    "start_time": "2023-07-30T13:26:15.393Z"
   },
   {
    "duration": 20,
    "start_time": "2023-07-30T13:26:16.226Z"
   },
   {
    "duration": 29,
    "start_time": "2023-07-30T13:26:16.248Z"
   },
   {
    "duration": 22,
    "start_time": "2023-07-30T13:26:16.280Z"
   },
   {
    "duration": 34,
    "start_time": "2023-07-30T13:26:16.304Z"
   },
   {
    "duration": 39,
    "start_time": "2023-07-30T13:26:16.340Z"
   },
   {
    "duration": 42,
    "start_time": "2023-07-30T13:26:16.382Z"
   },
   {
    "duration": 33,
    "start_time": "2023-07-30T13:26:16.426Z"
   },
   {
    "duration": 28,
    "start_time": "2023-07-30T13:26:16.461Z"
   },
   {
    "duration": 91,
    "start_time": "2023-07-30T13:26:16.492Z"
   },
   {
    "duration": 372,
    "start_time": "2023-07-30T13:26:16.586Z"
   },
   {
    "duration": 255,
    "start_time": "2023-07-30T13:26:16.961Z"
   },
   {
    "duration": 147,
    "start_time": "2023-07-30T13:26:17.220Z"
   },
   {
    "duration": 3,
    "start_time": "2023-07-30T13:26:17.370Z"
   },
   {
    "duration": 37,
    "start_time": "2023-07-30T13:26:17.375Z"
   },
   {
    "duration": 15,
    "start_time": "2023-07-30T13:26:17.413Z"
   },
   {
    "duration": 11,
    "start_time": "2023-07-30T13:26:17.430Z"
   },
   {
    "duration": 12,
    "start_time": "2023-07-30T13:26:17.443Z"
   },
   {
    "duration": 20,
    "start_time": "2023-07-30T13:26:17.457Z"
   },
   {
    "duration": 57,
    "start_time": "2023-07-30T13:26:17.479Z"
   },
   {
    "duration": 259,
    "start_time": "2023-07-30T13:26:17.538Z"
   },
   {
    "duration": 20,
    "start_time": "2023-07-30T13:26:17.799Z"
   },
   {
    "duration": 19,
    "start_time": "2023-07-30T13:26:17.821Z"
   },
   {
    "duration": 5,
    "start_time": "2023-07-30T13:26:17.842Z"
   },
   {
    "duration": 12,
    "start_time": "2023-07-30T13:26:17.871Z"
   },
   {
    "duration": 91,
    "start_time": "2023-07-30T13:26:17.885Z"
   },
   {
    "duration": 5,
    "start_time": "2023-07-30T13:26:17.978Z"
   },
   {
    "duration": 75,
    "start_time": "2023-07-30T13:26:17.985Z"
   },
   {
    "duration": 14,
    "start_time": "2023-07-30T13:26:18.062Z"
   },
   {
    "duration": 24,
    "start_time": "2023-07-30T13:26:18.078Z"
   },
   {
    "duration": 18,
    "start_time": "2023-07-30T13:26:18.103Z"
   },
   {
    "duration": 26,
    "start_time": "2023-07-30T13:26:18.123Z"
   },
   {
    "duration": 27,
    "start_time": "2023-07-30T13:26:18.151Z"
   },
   {
    "duration": 1081,
    "start_time": "2023-07-30T13:26:18.180Z"
   },
   {
    "duration": 11,
    "start_time": "2023-07-30T13:26:19.263Z"
   },
   {
    "duration": 1765,
    "start_time": "2023-07-30T13:26:19.276Z"
   },
   {
    "duration": 594,
    "start_time": "2023-07-30T13:26:21.043Z"
   },
   {
    "duration": 653,
    "start_time": "2023-07-30T13:26:21.640Z"
   },
   {
    "duration": 526,
    "start_time": "2023-07-30T13:26:22.295Z"
   },
   {
    "duration": 574,
    "start_time": "2023-07-30T13:26:22.826Z"
   },
   {
    "duration": 94,
    "start_time": "2023-07-30T13:26:23.403Z"
   },
   {
    "duration": 8,
    "start_time": "2023-07-30T13:26:23.499Z"
   },
   {
    "duration": 1824,
    "start_time": "2023-07-30T13:26:23.509Z"
   },
   {
    "duration": 4,
    "start_time": "2023-07-30T13:26:25.335Z"
   },
   {
    "duration": 40,
    "start_time": "2023-07-30T13:26:25.340Z"
   },
   {
    "duration": 43,
    "start_time": "2023-07-30T13:26:25.382Z"
   },
   {
    "duration": 26,
    "start_time": "2023-07-30T13:26:25.427Z"
   },
   {
    "duration": 11,
    "start_time": "2023-07-30T13:26:25.455Z"
   },
   {
    "duration": 28,
    "start_time": "2023-07-30T13:26:25.468Z"
   },
   {
    "duration": 29,
    "start_time": "2023-07-30T13:26:25.498Z"
   },
   {
    "duration": 2793,
    "start_time": "2023-07-30T13:26:25.529Z"
   },
   {
    "duration": 1246,
    "start_time": "2023-07-30T13:26:28.324Z"
   },
   {
    "duration": 15947,
    "start_time": "2023-07-30T13:26:29.572Z"
   },
   {
    "duration": 5,
    "start_time": "2023-07-30T13:26:45.521Z"
   },
   {
    "duration": 16,
    "start_time": "2023-07-30T13:26:45.527Z"
   },
   {
    "duration": 123,
    "start_time": "2023-07-30T13:26:45.545Z"
   },
   {
    "duration": 0,
    "start_time": "2023-07-30T13:26:45.670Z"
   },
   {
    "duration": 0,
    "start_time": "2023-07-30T13:26:45.671Z"
   },
   {
    "duration": 0,
    "start_time": "2023-07-30T13:26:45.672Z"
   },
   {
    "duration": 0,
    "start_time": "2023-07-30T13:26:45.673Z"
   },
   {
    "duration": 1,
    "start_time": "2023-07-30T13:26:45.674Z"
   },
   {
    "duration": 0,
    "start_time": "2023-07-30T13:26:45.676Z"
   },
   {
    "duration": 0,
    "start_time": "2023-07-30T13:26:45.677Z"
   },
   {
    "duration": 0,
    "start_time": "2023-07-30T13:26:45.678Z"
   },
   {
    "duration": 10,
    "start_time": "2023-07-30T13:28:00.991Z"
   },
   {
    "duration": 783,
    "start_time": "2023-07-30T13:28:08.990Z"
   },
   {
    "duration": 1057,
    "start_time": "2023-07-30T13:28:17.116Z"
   },
   {
    "duration": 724,
    "start_time": "2023-07-30T13:30:28.147Z"
   },
   {
    "duration": 9,
    "start_time": "2023-07-30T13:30:36.859Z"
   },
   {
    "duration": 1507,
    "start_time": "2023-07-30T13:30:53.852Z"
   },
   {
    "duration": 814,
    "start_time": "2023-07-30T13:30:55.361Z"
   },
   {
    "duration": 21,
    "start_time": "2023-07-30T13:30:56.176Z"
   },
   {
    "duration": 25,
    "start_time": "2023-07-30T13:30:56.199Z"
   },
   {
    "duration": 26,
    "start_time": "2023-07-30T13:30:56.227Z"
   },
   {
    "duration": 57,
    "start_time": "2023-07-30T13:30:56.255Z"
   },
   {
    "duration": 43,
    "start_time": "2023-07-30T13:30:56.314Z"
   },
   {
    "duration": 45,
    "start_time": "2023-07-30T13:30:56.360Z"
   },
   {
    "duration": 22,
    "start_time": "2023-07-30T13:30:56.407Z"
   },
   {
    "duration": 41,
    "start_time": "2023-07-30T13:30:56.431Z"
   },
   {
    "duration": 31,
    "start_time": "2023-07-30T13:30:56.475Z"
   },
   {
    "duration": 294,
    "start_time": "2023-07-30T13:30:56.508Z"
   },
   {
    "duration": 256,
    "start_time": "2023-07-30T13:30:56.804Z"
   },
   {
    "duration": 126,
    "start_time": "2023-07-30T13:30:57.070Z"
   },
   {
    "duration": 3,
    "start_time": "2023-07-30T13:30:57.197Z"
   },
   {
    "duration": 42,
    "start_time": "2023-07-30T13:30:57.201Z"
   },
   {
    "duration": 15,
    "start_time": "2023-07-30T13:30:57.245Z"
   },
   {
    "duration": 20,
    "start_time": "2023-07-30T13:30:57.262Z"
   },
   {
    "duration": 15,
    "start_time": "2023-07-30T13:30:57.284Z"
   },
   {
    "duration": 27,
    "start_time": "2023-07-30T13:30:57.301Z"
   },
   {
    "duration": 47,
    "start_time": "2023-07-30T13:30:57.329Z"
   },
   {
    "duration": 301,
    "start_time": "2023-07-30T13:30:57.378Z"
   },
   {
    "duration": 19,
    "start_time": "2023-07-30T13:30:57.681Z"
   },
   {
    "duration": 13,
    "start_time": "2023-07-30T13:30:57.703Z"
   },
   {
    "duration": 8,
    "start_time": "2023-07-30T13:30:57.718Z"
   },
   {
    "duration": 21,
    "start_time": "2023-07-30T13:30:57.727Z"
   },
   {
    "duration": 121,
    "start_time": "2023-07-30T13:30:57.750Z"
   },
   {
    "duration": 4,
    "start_time": "2023-07-30T13:30:57.873Z"
   },
   {
    "duration": 54,
    "start_time": "2023-07-30T13:30:57.879Z"
   },
   {
    "duration": 16,
    "start_time": "2023-07-30T13:30:57.935Z"
   },
   {
    "duration": 30,
    "start_time": "2023-07-30T13:30:57.953Z"
   },
   {
    "duration": 8,
    "start_time": "2023-07-30T13:30:57.984Z"
   },
   {
    "duration": 17,
    "start_time": "2023-07-30T13:30:57.993Z"
   },
   {
    "duration": 15,
    "start_time": "2023-07-30T13:30:58.012Z"
   },
   {
    "duration": 1031,
    "start_time": "2023-07-30T13:30:58.029Z"
   },
   {
    "duration": 9,
    "start_time": "2023-07-30T13:30:59.062Z"
   },
   {
    "duration": 1629,
    "start_time": "2023-07-30T13:30:59.074Z"
   },
   {
    "duration": 505,
    "start_time": "2023-07-30T13:31:00.705Z"
   },
   {
    "duration": 638,
    "start_time": "2023-07-30T13:31:01.212Z"
   },
   {
    "duration": 476,
    "start_time": "2023-07-30T13:31:01.852Z"
   },
   {
    "duration": 588,
    "start_time": "2023-07-30T13:31:02.332Z"
   },
   {
    "duration": 105,
    "start_time": "2023-07-30T13:31:02.922Z"
   },
   {
    "duration": 9,
    "start_time": "2023-07-30T13:31:03.029Z"
   },
   {
    "duration": 1710,
    "start_time": "2023-07-30T13:31:03.040Z"
   },
   {
    "duration": 3,
    "start_time": "2023-07-30T13:31:04.751Z"
   },
   {
    "duration": 19,
    "start_time": "2023-07-30T13:31:04.756Z"
   },
   {
    "duration": 19,
    "start_time": "2023-07-30T13:31:04.777Z"
   },
   {
    "duration": 9,
    "start_time": "2023-07-30T13:31:04.798Z"
   },
   {
    "duration": 19,
    "start_time": "2023-07-30T13:31:04.809Z"
   },
   {
    "duration": 11,
    "start_time": "2023-07-30T13:31:04.829Z"
   },
   {
    "duration": 13,
    "start_time": "2023-07-30T13:31:04.842Z"
   },
   {
    "duration": 2614,
    "start_time": "2023-07-30T13:31:04.857Z"
   },
   {
    "duration": 1599,
    "start_time": "2023-07-30T13:31:07.473Z"
   },
   {
    "duration": 16765,
    "start_time": "2023-07-30T13:31:09.081Z"
   },
   {
    "duration": 5,
    "start_time": "2023-07-30T13:31:25.848Z"
   },
   {
    "duration": 36,
    "start_time": "2023-07-30T13:31:25.855Z"
   },
   {
    "duration": 890,
    "start_time": "2023-07-30T13:31:25.892Z"
   },
   {
    "duration": 887,
    "start_time": "2023-07-30T13:31:26.785Z"
   },
   {
    "duration": 507,
    "start_time": "2023-07-30T13:31:27.675Z"
   },
   {
    "duration": 108,
    "start_time": "2023-07-30T13:31:28.277Z"
   },
   {
    "duration": 305,
    "start_time": "2023-07-30T13:31:28.389Z"
   },
   {
    "duration": 0,
    "start_time": "2023-07-30T13:31:28.696Z"
   },
   {
    "duration": 0,
    "start_time": "2023-07-30T13:31:28.698Z"
   },
   {
    "duration": 0,
    "start_time": "2023-07-30T13:31:28.699Z"
   },
   {
    "duration": 0,
    "start_time": "2023-07-30T13:31:28.700Z"
   },
   {
    "duration": 0,
    "start_time": "2023-07-30T13:31:28.702Z"
   },
   {
    "duration": 0,
    "start_time": "2023-07-30T13:31:28.704Z"
   },
   {
    "duration": 5,
    "start_time": "2023-07-30T13:32:02.492Z"
   },
   {
    "duration": 6,
    "start_time": "2023-07-30T13:32:11.110Z"
   },
   {
    "duration": 1547,
    "start_time": "2023-07-30T13:33:08.963Z"
   },
   {
    "duration": 816,
    "start_time": "2023-07-30T13:33:10.512Z"
   },
   {
    "duration": 19,
    "start_time": "2023-07-30T13:33:11.330Z"
   },
   {
    "duration": 32,
    "start_time": "2023-07-30T13:33:11.351Z"
   },
   {
    "duration": 15,
    "start_time": "2023-07-30T13:33:11.385Z"
   },
   {
    "duration": 26,
    "start_time": "2023-07-30T13:33:11.401Z"
   },
   {
    "duration": 44,
    "start_time": "2023-07-30T13:33:11.428Z"
   },
   {
    "duration": 32,
    "start_time": "2023-07-30T13:33:11.474Z"
   },
   {
    "duration": 8,
    "start_time": "2023-07-30T13:33:11.509Z"
   },
   {
    "duration": 14,
    "start_time": "2023-07-30T13:33:11.520Z"
   },
   {
    "duration": 9,
    "start_time": "2023-07-30T13:33:11.536Z"
   },
   {
    "duration": 277,
    "start_time": "2023-07-30T13:33:11.546Z"
   },
   {
    "duration": 382,
    "start_time": "2023-07-30T13:33:11.825Z"
   },
   {
    "duration": 211,
    "start_time": "2023-07-30T13:33:12.209Z"
   },
   {
    "duration": 3,
    "start_time": "2023-07-30T13:33:12.421Z"
   },
   {
    "duration": 13,
    "start_time": "2023-07-30T13:33:12.426Z"
   },
   {
    "duration": 22,
    "start_time": "2023-07-30T13:33:12.441Z"
   },
   {
    "duration": 7,
    "start_time": "2023-07-30T13:33:12.464Z"
   },
   {
    "duration": 23,
    "start_time": "2023-07-30T13:33:12.473Z"
   },
   {
    "duration": 75,
    "start_time": "2023-07-30T13:33:12.498Z"
   },
   {
    "duration": 47,
    "start_time": "2023-07-30T13:33:12.575Z"
   },
   {
    "duration": 294,
    "start_time": "2023-07-30T13:33:12.624Z"
   },
   {
    "duration": 20,
    "start_time": "2023-07-30T13:33:12.920Z"
   },
   {
    "duration": 13,
    "start_time": "2023-07-30T13:33:12.942Z"
   },
   {
    "duration": 37,
    "start_time": "2023-07-30T13:33:12.957Z"
   },
   {
    "duration": 17,
    "start_time": "2023-07-30T13:33:12.997Z"
   },
   {
    "duration": 43,
    "start_time": "2023-07-30T13:33:13.016Z"
   },
   {
    "duration": 29,
    "start_time": "2023-07-30T13:33:13.065Z"
   },
   {
    "duration": 54,
    "start_time": "2023-07-30T13:33:13.096Z"
   },
   {
    "duration": 12,
    "start_time": "2023-07-30T13:33:13.152Z"
   },
   {
    "duration": 102,
    "start_time": "2023-07-30T13:33:13.166Z"
   },
   {
    "duration": 11,
    "start_time": "2023-07-30T13:33:13.269Z"
   },
   {
    "duration": 27,
    "start_time": "2023-07-30T13:33:13.282Z"
   },
   {
    "duration": 13,
    "start_time": "2023-07-30T13:33:13.311Z"
   },
   {
    "duration": 1043,
    "start_time": "2023-07-30T13:33:13.325Z"
   },
   {
    "duration": 10,
    "start_time": "2023-07-30T13:33:14.369Z"
   },
   {
    "duration": 1750,
    "start_time": "2023-07-30T13:33:14.385Z"
   },
   {
    "duration": 597,
    "start_time": "2023-07-30T13:33:16.137Z"
   },
   {
    "duration": 682,
    "start_time": "2023-07-30T13:33:16.736Z"
   },
   {
    "duration": 497,
    "start_time": "2023-07-30T13:33:17.420Z"
   },
   {
    "duration": 525,
    "start_time": "2023-07-30T13:33:17.919Z"
   },
   {
    "duration": 93,
    "start_time": "2023-07-30T13:33:18.446Z"
   },
   {
    "duration": 9,
    "start_time": "2023-07-30T13:33:18.540Z"
   },
   {
    "duration": 1927,
    "start_time": "2023-07-30T13:33:18.550Z"
   },
   {
    "duration": 4,
    "start_time": "2023-07-30T13:33:20.480Z"
   },
   {
    "duration": 12,
    "start_time": "2023-07-30T13:33:20.488Z"
   },
   {
    "duration": 14,
    "start_time": "2023-07-30T13:33:20.502Z"
   },
   {
    "duration": 20,
    "start_time": "2023-07-30T13:33:20.518Z"
   },
   {
    "duration": 11,
    "start_time": "2023-07-30T13:33:20.540Z"
   },
   {
    "duration": 38,
    "start_time": "2023-07-30T13:33:20.553Z"
   },
   {
    "duration": 41,
    "start_time": "2023-07-30T13:33:20.592Z"
   },
   {
    "duration": 2722,
    "start_time": "2023-07-30T13:33:20.635Z"
   },
   {
    "duration": 917,
    "start_time": "2023-07-30T13:33:23.359Z"
   },
   {
    "duration": 16638,
    "start_time": "2023-07-30T13:33:24.278Z"
   },
   {
    "duration": 4,
    "start_time": "2023-07-30T13:33:40.918Z"
   },
   {
    "duration": 37,
    "start_time": "2023-07-30T13:33:40.923Z"
   },
   {
    "duration": 1036,
    "start_time": "2023-07-30T13:33:40.962Z"
   },
   {
    "duration": 872,
    "start_time": "2023-07-30T13:33:42.000Z"
   },
   {
    "duration": 496,
    "start_time": "2023-07-30T13:33:42.877Z"
   },
   {
    "duration": 215,
    "start_time": "2023-07-30T13:33:43.378Z"
   },
   {
    "duration": 0,
    "start_time": "2023-07-30T13:33:43.595Z"
   },
   {
    "duration": 0,
    "start_time": "2023-07-30T13:33:43.596Z"
   },
   {
    "duration": 0,
    "start_time": "2023-07-30T13:33:43.597Z"
   },
   {
    "duration": 0,
    "start_time": "2023-07-30T13:33:43.599Z"
   },
   {
    "duration": 0,
    "start_time": "2023-07-30T13:33:43.600Z"
   },
   {
    "duration": 0,
    "start_time": "2023-07-30T13:33:43.601Z"
   },
   {
    "duration": 0,
    "start_time": "2023-07-30T13:33:43.602Z"
   },
   {
    "duration": 6,
    "start_time": "2023-07-30T13:33:55.275Z"
   },
   {
    "duration": 4,
    "start_time": "2023-07-30T13:34:08.606Z"
   },
   {
    "duration": 5,
    "start_time": "2023-07-30T13:34:09.499Z"
   },
   {
    "duration": 5,
    "start_time": "2023-07-30T13:34:10.187Z"
   },
   {
    "duration": 10,
    "start_time": "2023-07-30T13:34:27.983Z"
   },
   {
    "duration": 6,
    "start_time": "2023-07-30T13:35:13.160Z"
   },
   {
    "duration": 7,
    "start_time": "2023-07-30T13:36:06.357Z"
   },
   {
    "duration": 6,
    "start_time": "2023-07-30T13:36:06.991Z"
   },
   {
    "duration": 5,
    "start_time": "2023-07-30T13:36:07.880Z"
   },
   {
    "duration": 4,
    "start_time": "2023-07-30T13:36:08.498Z"
   },
   {
    "duration": 1542,
    "start_time": "2023-07-30T13:38:48.293Z"
   },
   {
    "duration": 874,
    "start_time": "2023-07-30T13:38:49.837Z"
   },
   {
    "duration": 19,
    "start_time": "2023-07-30T13:38:50.712Z"
   },
   {
    "duration": 29,
    "start_time": "2023-07-30T13:38:50.733Z"
   },
   {
    "duration": 36,
    "start_time": "2023-07-30T13:38:50.764Z"
   },
   {
    "duration": 44,
    "start_time": "2023-07-30T13:38:50.802Z"
   },
   {
    "duration": 30,
    "start_time": "2023-07-30T13:38:50.848Z"
   },
   {
    "duration": 51,
    "start_time": "2023-07-30T13:38:50.881Z"
   },
   {
    "duration": 3,
    "start_time": "2023-07-30T13:38:50.934Z"
   },
   {
    "duration": 11,
    "start_time": "2023-07-30T13:38:50.939Z"
   },
   {
    "duration": 41,
    "start_time": "2023-07-30T13:38:50.952Z"
   },
   {
    "duration": 289,
    "start_time": "2023-07-30T13:38:50.995Z"
   },
   {
    "duration": 254,
    "start_time": "2023-07-30T13:38:51.285Z"
   },
   {
    "duration": 156,
    "start_time": "2023-07-30T13:38:51.542Z"
   },
   {
    "duration": 3,
    "start_time": "2023-07-30T13:38:51.700Z"
   },
   {
    "duration": 24,
    "start_time": "2023-07-30T13:38:51.705Z"
   },
   {
    "duration": 11,
    "start_time": "2023-07-30T13:38:51.731Z"
   },
   {
    "duration": 5,
    "start_time": "2023-07-30T13:38:51.744Z"
   },
   {
    "duration": 11,
    "start_time": "2023-07-30T13:38:51.751Z"
   },
   {
    "duration": 16,
    "start_time": "2023-07-30T13:38:51.763Z"
   },
   {
    "duration": 36,
    "start_time": "2023-07-30T13:38:51.781Z"
   },
   {
    "duration": 316,
    "start_time": "2023-07-30T13:38:51.819Z"
   },
   {
    "duration": 24,
    "start_time": "2023-07-30T13:38:52.137Z"
   },
   {
    "duration": 24,
    "start_time": "2023-07-30T13:38:52.163Z"
   },
   {
    "duration": 26,
    "start_time": "2023-07-30T13:38:52.192Z"
   },
   {
    "duration": 16,
    "start_time": "2023-07-30T13:38:52.220Z"
   },
   {
    "duration": 100,
    "start_time": "2023-07-30T13:38:52.238Z"
   },
   {
    "duration": 4,
    "start_time": "2023-07-30T13:38:52.340Z"
   },
   {
    "duration": 71,
    "start_time": "2023-07-30T13:38:52.346Z"
   },
   {
    "duration": 12,
    "start_time": "2023-07-30T13:38:52.419Z"
   },
   {
    "duration": 10,
    "start_time": "2023-07-30T13:38:52.433Z"
   },
   {
    "duration": 11,
    "start_time": "2023-07-30T13:38:52.445Z"
   },
   {
    "duration": 41,
    "start_time": "2023-07-30T13:38:52.457Z"
   },
   {
    "duration": 33,
    "start_time": "2023-07-30T13:38:52.500Z"
   },
   {
    "duration": 1027,
    "start_time": "2023-07-30T13:38:52.534Z"
   },
   {
    "duration": 12,
    "start_time": "2023-07-30T13:38:53.563Z"
   },
   {
    "duration": 1679,
    "start_time": "2023-07-30T13:38:53.577Z"
   },
   {
    "duration": 515,
    "start_time": "2023-07-30T13:38:55.258Z"
   },
   {
    "duration": 694,
    "start_time": "2023-07-30T13:38:55.774Z"
   },
   {
    "duration": 554,
    "start_time": "2023-07-30T13:38:56.471Z"
   },
   {
    "duration": 535,
    "start_time": "2023-07-30T13:38:57.029Z"
   },
   {
    "duration": 88,
    "start_time": "2023-07-30T13:38:57.565Z"
   },
   {
    "duration": 16,
    "start_time": "2023-07-30T13:38:57.655Z"
   },
   {
    "duration": 1764,
    "start_time": "2023-07-30T13:38:57.674Z"
   },
   {
    "duration": 3,
    "start_time": "2023-07-30T13:38:59.440Z"
   },
   {
    "duration": 6,
    "start_time": "2023-07-30T13:38:59.445Z"
   },
   {
    "duration": 32,
    "start_time": "2023-07-30T13:38:59.453Z"
   },
   {
    "duration": 38,
    "start_time": "2023-07-30T13:38:59.488Z"
   },
   {
    "duration": 8,
    "start_time": "2023-07-30T13:38:59.528Z"
   },
   {
    "duration": 8,
    "start_time": "2023-07-30T13:38:59.538Z"
   },
   {
    "duration": 34,
    "start_time": "2023-07-30T13:38:59.547Z"
   },
   {
    "duration": 12,
    "start_time": "2023-07-30T13:38:59.583Z"
   },
   {
    "duration": 2707,
    "start_time": "2023-07-30T13:38:59.596Z"
   },
   {
    "duration": 1067,
    "start_time": "2023-07-30T13:39:02.305Z"
   },
   {
    "duration": 16410,
    "start_time": "2023-07-30T13:39:03.374Z"
   },
   {
    "duration": 4,
    "start_time": "2023-07-30T13:39:19.786Z"
   },
   {
    "duration": 20,
    "start_time": "2023-07-30T13:39:19.792Z"
   },
   {
    "duration": 1068,
    "start_time": "2023-07-30T13:39:19.814Z"
   },
   {
    "duration": 903,
    "start_time": "2023-07-30T13:39:20.971Z"
   },
   {
    "duration": 406,
    "start_time": "2023-07-30T13:39:21.876Z"
   },
   {
    "duration": 115,
    "start_time": "2023-07-30T13:39:22.370Z"
   },
   {
    "duration": 119,
    "start_time": "2023-07-30T13:39:22.572Z"
   },
   {
    "duration": 46,
    "start_time": "2023-07-30T13:39:22.693Z"
   },
   {
    "duration": 39,
    "start_time": "2023-07-30T13:39:22.740Z"
   },
   {
    "duration": 36,
    "start_time": "2023-07-30T13:39:22.781Z"
   },
   {
    "duration": 48,
    "start_time": "2023-07-30T13:39:22.819Z"
   },
   {
    "duration": 45,
    "start_time": "2023-07-30T13:39:22.869Z"
   },
   {
    "duration": 28,
    "start_time": "2023-07-30T13:39:22.916Z"
   },
   {
    "duration": 1982,
    "start_time": "2023-07-30T18:00:35.760Z"
   },
   {
    "duration": 4375,
    "start_time": "2023-07-30T18:00:37.744Z"
   },
   {
    "duration": 21,
    "start_time": "2023-07-30T18:00:42.124Z"
   },
   {
    "duration": 19,
    "start_time": "2023-07-30T18:00:42.147Z"
   },
   {
    "duration": 24,
    "start_time": "2023-07-30T18:00:42.168Z"
   },
   {
    "duration": 35,
    "start_time": "2023-07-30T18:00:42.198Z"
   },
   {
    "duration": 22,
    "start_time": "2023-07-30T18:00:42.235Z"
   },
   {
    "duration": 65,
    "start_time": "2023-07-30T18:00:42.259Z"
   },
   {
    "duration": 6,
    "start_time": "2023-07-30T18:00:42.326Z"
   },
   {
    "duration": 7,
    "start_time": "2023-07-30T18:00:42.335Z"
   },
   {
    "duration": 5,
    "start_time": "2023-07-30T18:00:42.344Z"
   },
   {
    "duration": 308,
    "start_time": "2023-07-30T18:00:42.351Z"
   },
   {
    "duration": 328,
    "start_time": "2023-07-30T18:00:42.661Z"
   },
   {
    "duration": 172,
    "start_time": "2023-07-30T18:00:42.997Z"
   },
   {
    "duration": 16,
    "start_time": "2023-07-30T18:00:43.171Z"
   },
   {
    "duration": 14,
    "start_time": "2023-07-30T18:00:43.189Z"
   },
   {
    "duration": 10,
    "start_time": "2023-07-30T18:00:43.206Z"
   },
   {
    "duration": 4,
    "start_time": "2023-07-30T18:00:43.219Z"
   },
   {
    "duration": 8,
    "start_time": "2023-07-30T18:00:43.225Z"
   },
   {
    "duration": 10,
    "start_time": "2023-07-30T18:00:43.235Z"
   },
   {
    "duration": 116,
    "start_time": "2023-07-30T18:00:43.247Z"
   },
   {
    "duration": 284,
    "start_time": "2023-07-30T18:00:43.365Z"
   },
   {
    "duration": 18,
    "start_time": "2023-07-30T18:00:43.651Z"
   },
   {
    "duration": 37,
    "start_time": "2023-07-30T18:00:43.671Z"
   },
   {
    "duration": 4,
    "start_time": "2023-07-30T18:00:43.710Z"
   },
   {
    "duration": 14,
    "start_time": "2023-07-30T18:00:43.715Z"
   },
   {
    "duration": 22,
    "start_time": "2023-07-30T18:00:43.731Z"
   },
   {
    "duration": 7,
    "start_time": "2023-07-30T18:00:43.754Z"
   },
   {
    "duration": 68,
    "start_time": "2023-07-30T18:00:43.764Z"
   },
   {
    "duration": 16,
    "start_time": "2023-07-30T18:00:43.834Z"
   },
   {
    "duration": 32,
    "start_time": "2023-07-30T18:00:43.853Z"
   },
   {
    "duration": 20,
    "start_time": "2023-07-30T18:00:43.887Z"
   },
   {
    "duration": 19,
    "start_time": "2023-07-30T18:00:43.917Z"
   },
   {
    "duration": 5,
    "start_time": "2023-07-30T18:00:43.938Z"
   },
   {
    "duration": 1161,
    "start_time": "2023-07-30T18:00:43.945Z"
   },
   {
    "duration": 8,
    "start_time": "2023-07-30T18:00:45.110Z"
   },
   {
    "duration": 1949,
    "start_time": "2023-07-30T18:00:45.120Z"
   },
   {
    "duration": 574,
    "start_time": "2023-07-30T18:00:47.075Z"
   },
   {
    "duration": 747,
    "start_time": "2023-07-30T18:00:47.651Z"
   },
   {
    "duration": 556,
    "start_time": "2023-07-30T18:00:48.400Z"
   },
   {
    "duration": 603,
    "start_time": "2023-07-30T18:00:48.962Z"
   },
   {
    "duration": 144,
    "start_time": "2023-07-30T18:00:49.567Z"
   },
   {
    "duration": 10,
    "start_time": "2023-07-30T18:00:49.717Z"
   },
   {
    "duration": 1987,
    "start_time": "2023-07-30T18:00:49.729Z"
   },
   {
    "duration": 4,
    "start_time": "2023-07-30T18:00:51.719Z"
   },
   {
    "duration": 26,
    "start_time": "2023-07-30T18:00:51.725Z"
   },
   {
    "duration": 19,
    "start_time": "2023-07-30T18:00:51.753Z"
   },
   {
    "duration": 51,
    "start_time": "2023-07-30T18:00:51.774Z"
   },
   {
    "duration": 12,
    "start_time": "2023-07-30T18:00:51.827Z"
   },
   {
    "duration": 7,
    "start_time": "2023-07-30T18:00:51.842Z"
   },
   {
    "duration": 16,
    "start_time": "2023-07-30T18:00:51.851Z"
   },
   {
    "duration": 31,
    "start_time": "2023-07-30T18:00:51.868Z"
   },
   {
    "duration": 2895,
    "start_time": "2023-07-30T18:00:51.904Z"
   },
   {
    "duration": 2415,
    "start_time": "2023-07-30T18:00:54.801Z"
   },
   {
    "duration": 18544,
    "start_time": "2023-07-30T18:00:57.219Z"
   },
   {
    "duration": 5,
    "start_time": "2023-07-30T18:01:15.765Z"
   },
   {
    "duration": 55,
    "start_time": "2023-07-30T18:01:15.771Z"
   },
   {
    "duration": 2461,
    "start_time": "2023-07-30T18:01:15.828Z"
   },
   {
    "duration": 1619,
    "start_time": "2023-07-30T18:01:18.292Z"
   },
   {
    "duration": 1880,
    "start_time": "2023-07-30T18:01:19.913Z"
   },
   {
    "duration": 201,
    "start_time": "2023-07-30T18:01:21.797Z"
   },
   {
    "duration": 17,
    "start_time": "2023-07-30T18:01:22.008Z"
   },
   {
    "duration": 30,
    "start_time": "2023-07-30T18:01:22.077Z"
   },
   {
    "duration": 16,
    "start_time": "2023-07-30T18:01:22.111Z"
   },
   {
    "duration": 8,
    "start_time": "2023-07-30T18:01:22.131Z"
   },
   {
    "duration": 25,
    "start_time": "2023-07-30T18:01:22.142Z"
   },
   {
    "duration": 42,
    "start_time": "2023-07-30T18:01:22.170Z"
   },
   {
    "duration": 21,
    "start_time": "2023-07-30T18:01:22.218Z"
   },
   {
    "duration": 1586,
    "start_time": "2023-07-30T18:04:33.411Z"
   },
   {
    "duration": 1048,
    "start_time": "2023-07-30T18:04:35.006Z"
   },
   {
    "duration": 30,
    "start_time": "2023-07-30T18:04:36.055Z"
   },
   {
    "duration": 29,
    "start_time": "2023-07-30T18:04:36.089Z"
   },
   {
    "duration": 20,
    "start_time": "2023-07-30T18:04:36.121Z"
   },
   {
    "duration": 48,
    "start_time": "2023-07-30T18:04:36.144Z"
   },
   {
    "duration": 29,
    "start_time": "2023-07-30T18:04:36.195Z"
   },
   {
    "duration": 23,
    "start_time": "2023-07-30T18:04:36.226Z"
   },
   {
    "duration": 9,
    "start_time": "2023-07-30T18:04:36.251Z"
   },
   {
    "duration": 67,
    "start_time": "2023-07-30T18:04:36.263Z"
   },
   {
    "duration": 12,
    "start_time": "2023-07-30T18:04:36.332Z"
   },
   {
    "duration": 388,
    "start_time": "2023-07-30T18:04:36.345Z"
   },
   {
    "duration": 263,
    "start_time": "2023-07-30T18:04:36.734Z"
   },
   {
    "duration": 146,
    "start_time": "2023-07-30T18:04:37.007Z"
   },
   {
    "duration": 3,
    "start_time": "2023-07-30T18:04:37.155Z"
   },
   {
    "duration": 19,
    "start_time": "2023-07-30T18:04:37.159Z"
   },
   {
    "duration": 32,
    "start_time": "2023-07-30T18:04:37.182Z"
   },
   {
    "duration": 7,
    "start_time": "2023-07-30T18:04:37.217Z"
   },
   {
    "duration": 9,
    "start_time": "2023-07-30T18:04:37.225Z"
   },
   {
    "duration": 6,
    "start_time": "2023-07-30T18:04:37.235Z"
   },
   {
    "duration": 54,
    "start_time": "2023-07-30T18:04:37.243Z"
   },
   {
    "duration": 262,
    "start_time": "2023-07-30T18:04:37.304Z"
   },
   {
    "duration": 36,
    "start_time": "2023-07-30T18:04:37.568Z"
   },
   {
    "duration": 20,
    "start_time": "2023-07-30T18:04:37.607Z"
   },
   {
    "duration": 4,
    "start_time": "2023-07-30T18:04:37.630Z"
   },
   {
    "duration": 12,
    "start_time": "2023-07-30T18:04:37.637Z"
   },
   {
    "duration": 117,
    "start_time": "2023-07-30T18:04:37.650Z"
   },
   {
    "duration": 4,
    "start_time": "2023-07-30T18:04:37.769Z"
   },
   {
    "duration": 69,
    "start_time": "2023-07-30T18:04:37.781Z"
   },
   {
    "duration": 15,
    "start_time": "2023-07-30T18:04:37.852Z"
   },
   {
    "duration": 28,
    "start_time": "2023-07-30T18:04:37.868Z"
   },
   {
    "duration": 11,
    "start_time": "2023-07-30T18:04:37.899Z"
   },
   {
    "duration": 19,
    "start_time": "2023-07-30T18:04:37.913Z"
   },
   {
    "duration": 29,
    "start_time": "2023-07-30T18:04:37.934Z"
   },
   {
    "duration": 1029,
    "start_time": "2023-07-30T18:04:37.964Z"
   },
   {
    "duration": 8,
    "start_time": "2023-07-30T18:04:38.995Z"
   },
   {
    "duration": 1988,
    "start_time": "2023-07-30T18:04:39.008Z"
   },
   {
    "duration": 545,
    "start_time": "2023-07-30T18:04:41.004Z"
   },
   {
    "duration": 714,
    "start_time": "2023-07-30T18:04:41.551Z"
   },
   {
    "duration": 566,
    "start_time": "2023-07-30T18:04:42.267Z"
   },
   {
    "duration": 600,
    "start_time": "2023-07-30T18:04:42.837Z"
   },
   {
    "duration": 110,
    "start_time": "2023-07-30T18:04:43.440Z"
   },
   {
    "duration": 9,
    "start_time": "2023-07-30T18:04:43.552Z"
   },
   {
    "duration": 1967,
    "start_time": "2023-07-30T18:04:43.563Z"
   },
   {
    "duration": 3,
    "start_time": "2023-07-30T18:04:45.532Z"
   },
   {
    "duration": 22,
    "start_time": "2023-07-30T18:04:45.537Z"
   },
   {
    "duration": 35,
    "start_time": "2023-07-30T18:04:45.561Z"
   },
   {
    "duration": 31,
    "start_time": "2023-07-30T18:04:45.606Z"
   },
   {
    "duration": 3,
    "start_time": "2023-07-30T18:04:45.639Z"
   },
   {
    "duration": 15,
    "start_time": "2023-07-30T18:04:45.644Z"
   },
   {
    "duration": 28,
    "start_time": "2023-07-30T18:04:45.661Z"
   },
   {
    "duration": 13,
    "start_time": "2023-07-30T18:04:45.698Z"
   },
   {
    "duration": 6418,
    "start_time": "2023-07-30T18:04:45.713Z"
   },
   {
    "duration": 2758,
    "start_time": "2023-07-30T18:04:52.134Z"
   },
   {
    "duration": 36976,
    "start_time": "2023-07-30T18:04:54.894Z"
   },
   {
    "duration": 6,
    "start_time": "2023-07-30T18:05:31.871Z"
   },
   {
    "duration": 40,
    "start_time": "2023-07-30T18:05:31.878Z"
   },
   {
    "duration": 3208,
    "start_time": "2023-07-30T18:05:31.920Z"
   },
   {
    "duration": 1048,
    "start_time": "2023-07-30T18:05:35.132Z"
   },
   {
    "duration": 709,
    "start_time": "2023-07-30T18:05:36.192Z"
   },
   {
    "duration": 175,
    "start_time": "2023-07-30T18:05:36.908Z"
   },
   {
    "duration": 86,
    "start_time": "2023-07-30T18:05:37.092Z"
   },
   {
    "duration": 11,
    "start_time": "2023-07-30T18:05:37.186Z"
   },
   {
    "duration": 6,
    "start_time": "2023-07-30T18:05:37.200Z"
   },
   {
    "duration": 10,
    "start_time": "2023-07-30T18:05:37.211Z"
   },
   {
    "duration": 5,
    "start_time": "2023-07-30T18:05:37.223Z"
   },
   {
    "duration": 10,
    "start_time": "2023-07-30T18:05:37.230Z"
   },
   {
    "duration": 7,
    "start_time": "2023-07-30T18:05:37.242Z"
   },
   {
    "duration": 1551,
    "start_time": "2023-07-30T18:25:35.590Z"
   },
   {
    "duration": 841,
    "start_time": "2023-07-30T18:25:37.143Z"
   },
   {
    "duration": 25,
    "start_time": "2023-07-30T18:25:37.986Z"
   },
   {
    "duration": 16,
    "start_time": "2023-07-30T18:25:38.013Z"
   },
   {
    "duration": 12,
    "start_time": "2023-07-30T18:25:38.031Z"
   },
   {
    "duration": 57,
    "start_time": "2023-07-30T18:25:38.044Z"
   },
   {
    "duration": 23,
    "start_time": "2023-07-30T18:25:38.103Z"
   },
   {
    "duration": 20,
    "start_time": "2023-07-30T18:25:38.128Z"
   },
   {
    "duration": 5,
    "start_time": "2023-07-30T18:25:38.149Z"
   },
   {
    "duration": 25,
    "start_time": "2023-07-30T18:25:38.155Z"
   },
   {
    "duration": 12,
    "start_time": "2023-07-30T18:25:38.182Z"
   },
   {
    "duration": 270,
    "start_time": "2023-07-30T18:25:38.197Z"
   },
   {
    "duration": 263,
    "start_time": "2023-07-30T18:25:38.468Z"
   },
   {
    "duration": 134,
    "start_time": "2023-07-30T18:25:38.734Z"
   },
   {
    "duration": 15,
    "start_time": "2023-07-30T18:25:38.870Z"
   },
   {
    "duration": 13,
    "start_time": "2023-07-30T18:25:38.888Z"
   },
   {
    "duration": 7,
    "start_time": "2023-07-30T18:25:38.903Z"
   },
   {
    "duration": 9,
    "start_time": "2023-07-30T18:25:38.912Z"
   },
   {
    "duration": 34,
    "start_time": "2023-07-30T18:25:38.922Z"
   },
   {
    "duration": 8,
    "start_time": "2023-07-30T18:25:38.958Z"
   },
   {
    "duration": 51,
    "start_time": "2023-07-30T18:25:38.967Z"
   },
   {
    "duration": 242,
    "start_time": "2023-07-30T18:25:39.020Z"
   },
   {
    "duration": 24,
    "start_time": "2023-07-30T18:25:39.264Z"
   },
   {
    "duration": 14,
    "start_time": "2023-07-30T18:25:39.294Z"
   },
   {
    "duration": 4,
    "start_time": "2023-07-30T18:25:39.309Z"
   },
   {
    "duration": 16,
    "start_time": "2023-07-30T18:25:39.315Z"
   },
   {
    "duration": 94,
    "start_time": "2023-07-30T18:25:39.333Z"
   },
   {
    "duration": 3,
    "start_time": "2023-07-30T18:25:39.429Z"
   },
   {
    "duration": 63,
    "start_time": "2023-07-30T18:25:39.433Z"
   },
   {
    "duration": 13,
    "start_time": "2023-07-30T18:25:39.498Z"
   },
   {
    "duration": 12,
    "start_time": "2023-07-30T18:25:39.513Z"
   },
   {
    "duration": 20,
    "start_time": "2023-07-30T18:25:39.526Z"
   },
   {
    "duration": 13,
    "start_time": "2023-07-30T18:25:39.548Z"
   },
   {
    "duration": 5,
    "start_time": "2023-07-30T18:25:39.575Z"
   },
   {
    "duration": 1159,
    "start_time": "2023-07-30T18:25:39.582Z"
   },
   {
    "duration": 6,
    "start_time": "2023-07-30T18:25:40.743Z"
   },
   {
    "duration": 1727,
    "start_time": "2023-07-30T18:25:40.751Z"
   },
   {
    "duration": 582,
    "start_time": "2023-07-30T18:25:42.482Z"
   },
   {
    "duration": 731,
    "start_time": "2023-07-30T18:25:43.067Z"
   },
   {
    "duration": 570,
    "start_time": "2023-07-30T18:25:43.800Z"
   },
   {
    "duration": 527,
    "start_time": "2023-07-30T18:25:44.375Z"
   },
   {
    "duration": 127,
    "start_time": "2023-07-30T18:25:44.904Z"
   },
   {
    "duration": 0,
    "start_time": "2023-07-30T18:25:45.033Z"
   },
   {
    "duration": 0,
    "start_time": "2023-07-30T18:25:45.034Z"
   },
   {
    "duration": 0,
    "start_time": "2023-07-30T18:25:45.035Z"
   },
   {
    "duration": 0,
    "start_time": "2023-07-30T18:25:45.037Z"
   },
   {
    "duration": 0,
    "start_time": "2023-07-30T18:25:45.038Z"
   },
   {
    "duration": 0,
    "start_time": "2023-07-30T18:25:45.039Z"
   },
   {
    "duration": 0,
    "start_time": "2023-07-30T18:25:45.040Z"
   },
   {
    "duration": 0,
    "start_time": "2023-07-30T18:25:45.041Z"
   },
   {
    "duration": 0,
    "start_time": "2023-07-30T18:25:45.042Z"
   },
   {
    "duration": 0,
    "start_time": "2023-07-30T18:25:45.043Z"
   },
   {
    "duration": 0,
    "start_time": "2023-07-30T18:25:45.044Z"
   },
   {
    "duration": 0,
    "start_time": "2023-07-30T18:25:45.045Z"
   },
   {
    "duration": 0,
    "start_time": "2023-07-30T18:25:45.046Z"
   },
   {
    "duration": 0,
    "start_time": "2023-07-30T18:25:45.047Z"
   },
   {
    "duration": 0,
    "start_time": "2023-07-30T18:25:45.048Z"
   },
   {
    "duration": 0,
    "start_time": "2023-07-30T18:25:45.049Z"
   },
   {
    "duration": 0,
    "start_time": "2023-07-30T18:25:45.050Z"
   },
   {
    "duration": 0,
    "start_time": "2023-07-30T18:25:45.051Z"
   },
   {
    "duration": 0,
    "start_time": "2023-07-30T18:25:45.052Z"
   },
   {
    "duration": 0,
    "start_time": "2023-07-30T18:25:45.053Z"
   },
   {
    "duration": 0,
    "start_time": "2023-07-30T18:25:45.054Z"
   },
   {
    "duration": 0,
    "start_time": "2023-07-30T18:25:45.055Z"
   },
   {
    "duration": 0,
    "start_time": "2023-07-30T18:25:45.056Z"
   },
   {
    "duration": 0,
    "start_time": "2023-07-30T18:25:45.057Z"
   },
   {
    "duration": 0,
    "start_time": "2023-07-30T18:25:45.058Z"
   },
   {
    "duration": 0,
    "start_time": "2023-07-30T18:25:45.059Z"
   },
   {
    "duration": 66,
    "start_time": "2023-07-30T18:29:45.852Z"
   },
   {
    "duration": 1625,
    "start_time": "2023-07-30T18:29:59.197Z"
   },
   {
    "duration": 823,
    "start_time": "2023-07-30T18:30:00.824Z"
   },
   {
    "duration": 19,
    "start_time": "2023-07-30T18:30:01.648Z"
   },
   {
    "duration": 64,
    "start_time": "2023-07-30T18:30:01.686Z"
   },
   {
    "duration": 62,
    "start_time": "2023-07-30T18:30:01.752Z"
   },
   {
    "duration": 59,
    "start_time": "2023-07-30T18:30:01.815Z"
   },
   {
    "duration": 72,
    "start_time": "2023-07-30T18:30:01.878Z"
   },
   {
    "duration": 83,
    "start_time": "2023-07-30T18:30:01.951Z"
   },
   {
    "duration": 39,
    "start_time": "2023-07-30T18:30:02.036Z"
   },
   {
    "duration": 47,
    "start_time": "2023-07-30T18:30:02.080Z"
   },
   {
    "duration": 50,
    "start_time": "2023-07-30T18:30:02.129Z"
   },
   {
    "duration": 315,
    "start_time": "2023-07-30T18:30:02.183Z"
   },
   {
    "duration": 258,
    "start_time": "2023-07-30T18:30:02.501Z"
   },
   {
    "duration": 151,
    "start_time": "2023-07-30T18:30:02.761Z"
   },
   {
    "duration": 3,
    "start_time": "2023-07-30T18:30:02.913Z"
   },
   {
    "duration": 9,
    "start_time": "2023-07-30T18:30:02.918Z"
   },
   {
    "duration": 14,
    "start_time": "2023-07-30T18:30:02.928Z"
   },
   {
    "duration": 28,
    "start_time": "2023-07-30T18:30:02.943Z"
   },
   {
    "duration": 39,
    "start_time": "2023-07-30T18:30:02.973Z"
   },
   {
    "duration": 55,
    "start_time": "2023-07-30T18:30:03.013Z"
   },
   {
    "duration": 54,
    "start_time": "2023-07-30T18:30:03.070Z"
   },
   {
    "duration": 284,
    "start_time": "2023-07-30T18:30:03.126Z"
   },
   {
    "duration": 22,
    "start_time": "2023-07-30T18:30:03.413Z"
   },
   {
    "duration": 35,
    "start_time": "2023-07-30T18:30:03.437Z"
   },
   {
    "duration": 34,
    "start_time": "2023-07-30T18:30:03.474Z"
   },
   {
    "duration": 43,
    "start_time": "2023-07-30T18:30:03.511Z"
   },
   {
    "duration": 119,
    "start_time": "2023-07-30T18:30:03.555Z"
   },
   {
    "duration": 16,
    "start_time": "2023-07-30T18:30:03.676Z"
   },
   {
    "duration": 66,
    "start_time": "2023-07-30T18:30:03.694Z"
   },
   {
    "duration": 14,
    "start_time": "2023-07-30T18:30:03.762Z"
   },
   {
    "duration": 32,
    "start_time": "2023-07-30T18:30:03.786Z"
   },
   {
    "duration": 7,
    "start_time": "2023-07-30T18:30:03.819Z"
   },
   {
    "duration": 86,
    "start_time": "2023-07-30T18:30:03.828Z"
   },
   {
    "duration": 48,
    "start_time": "2023-07-30T18:30:03.916Z"
   },
   {
    "duration": 1071,
    "start_time": "2023-07-30T18:30:03.966Z"
   },
   {
    "duration": 7,
    "start_time": "2023-07-30T18:30:05.039Z"
   },
   {
    "duration": 1719,
    "start_time": "2023-07-30T18:30:05.048Z"
   },
   {
    "duration": 578,
    "start_time": "2023-07-30T18:30:06.769Z"
   },
   {
    "duration": 685,
    "start_time": "2023-07-30T18:30:07.348Z"
   },
   {
    "duration": 535,
    "start_time": "2023-07-30T18:30:08.035Z"
   },
   {
    "duration": 530,
    "start_time": "2023-07-30T18:30:08.575Z"
   },
   {
    "duration": 71,
    "start_time": "2023-07-30T18:30:09.107Z"
   },
   {
    "duration": 13,
    "start_time": "2023-07-30T18:30:09.180Z"
   },
   {
    "duration": 1822,
    "start_time": "2023-07-30T18:30:09.195Z"
   },
   {
    "duration": 4,
    "start_time": "2023-07-30T18:30:11.019Z"
   },
   {
    "duration": 13,
    "start_time": "2023-07-30T18:30:11.025Z"
   },
   {
    "duration": 14,
    "start_time": "2023-07-30T18:30:11.040Z"
   },
   {
    "duration": 25,
    "start_time": "2023-07-30T18:30:11.055Z"
   },
   {
    "duration": 7,
    "start_time": "2023-07-30T18:30:11.083Z"
   },
   {
    "duration": 12,
    "start_time": "2023-07-30T18:30:11.092Z"
   },
   {
    "duration": 7,
    "start_time": "2023-07-30T18:30:11.106Z"
   },
   {
    "duration": 10,
    "start_time": "2023-07-30T18:30:11.114Z"
   },
   {
    "duration": 5728,
    "start_time": "2023-07-30T18:30:11.126Z"
   },
   {
    "duration": 2121,
    "start_time": "2023-07-30T18:30:16.855Z"
   },
   {
    "duration": 33013,
    "start_time": "2023-07-30T18:30:18.979Z"
   },
   {
    "duration": 5,
    "start_time": "2023-07-30T18:30:51.993Z"
   },
   {
    "duration": 13,
    "start_time": "2023-07-30T18:30:51.999Z"
   },
   {
    "duration": 1671,
    "start_time": "2023-07-30T18:30:52.013Z"
   },
   {
    "duration": 1306,
    "start_time": "2023-07-30T18:30:53.692Z"
   },
   {
    "duration": 973,
    "start_time": "2023-07-30T18:30:55.005Z"
   },
   {
    "duration": 118,
    "start_time": "2023-07-30T18:30:55.993Z"
   },
   {
    "duration": 62,
    "start_time": "2023-07-30T18:30:56.117Z"
   },
   {
    "duration": 117,
    "start_time": "2023-07-30T18:30:56.187Z"
   },
   {
    "duration": 23,
    "start_time": "2023-07-30T18:30:56.305Z"
   },
   {
    "duration": 27,
    "start_time": "2023-07-30T18:30:56.329Z"
   },
   {
    "duration": 38,
    "start_time": "2023-07-30T18:30:56.357Z"
   },
   {
    "duration": 20,
    "start_time": "2023-07-30T18:30:56.396Z"
   },
   {
    "duration": 27,
    "start_time": "2023-07-30T18:30:56.417Z"
   },
   {
    "duration": 1454,
    "start_time": "2023-07-30T18:36:57.411Z"
   },
   {
    "duration": 758,
    "start_time": "2023-07-30T18:36:58.868Z"
   },
   {
    "duration": 19,
    "start_time": "2023-07-30T18:36:59.628Z"
   },
   {
    "duration": 27,
    "start_time": "2023-07-30T18:36:59.648Z"
   },
   {
    "duration": 12,
    "start_time": "2023-07-30T18:36:59.678Z"
   },
   {
    "duration": 24,
    "start_time": "2023-07-30T18:36:59.692Z"
   },
   {
    "duration": 20,
    "start_time": "2023-07-30T18:36:59.718Z"
   },
   {
    "duration": 20,
    "start_time": "2023-07-30T18:36:59.775Z"
   },
   {
    "duration": 18,
    "start_time": "2023-07-30T18:36:59.797Z"
   },
   {
    "duration": 14,
    "start_time": "2023-07-30T18:36:59.817Z"
   },
   {
    "duration": 8,
    "start_time": "2023-07-30T18:36:59.833Z"
   },
   {
    "duration": 255,
    "start_time": "2023-07-30T18:36:59.843Z"
   },
   {
    "duration": 271,
    "start_time": "2023-07-30T18:37:00.100Z"
   },
   {
    "duration": 165,
    "start_time": "2023-07-30T18:37:00.377Z"
   },
   {
    "duration": 3,
    "start_time": "2023-07-30T18:37:00.543Z"
   },
   {
    "duration": 50,
    "start_time": "2023-07-30T18:37:00.548Z"
   },
   {
    "duration": 39,
    "start_time": "2023-07-30T18:37:00.600Z"
   },
   {
    "duration": 34,
    "start_time": "2023-07-30T18:37:00.642Z"
   },
   {
    "duration": 36,
    "start_time": "2023-07-30T18:37:00.678Z"
   },
   {
    "duration": 31,
    "start_time": "2023-07-30T18:37:00.716Z"
   },
   {
    "duration": 66,
    "start_time": "2023-07-30T18:37:00.750Z"
   },
   {
    "duration": 229,
    "start_time": "2023-07-30T18:37:00.818Z"
   },
   {
    "duration": 20,
    "start_time": "2023-07-30T18:37:01.048Z"
   },
   {
    "duration": 27,
    "start_time": "2023-07-30T18:37:01.075Z"
   },
   {
    "duration": 35,
    "start_time": "2023-07-30T18:37:01.104Z"
   },
   {
    "duration": 48,
    "start_time": "2023-07-30T18:37:01.141Z"
   },
   {
    "duration": 117,
    "start_time": "2023-07-30T18:37:01.191Z"
   },
   {
    "duration": 4,
    "start_time": "2023-07-30T18:37:01.310Z"
   },
   {
    "duration": 92,
    "start_time": "2023-07-30T18:37:01.316Z"
   },
   {
    "duration": 16,
    "start_time": "2023-07-30T18:37:01.410Z"
   },
   {
    "duration": 41,
    "start_time": "2023-07-30T18:37:01.428Z"
   },
   {
    "duration": 7,
    "start_time": "2023-07-30T18:37:01.471Z"
   },
   {
    "duration": 42,
    "start_time": "2023-07-30T18:37:01.479Z"
   },
   {
    "duration": 30,
    "start_time": "2023-07-30T18:37:01.523Z"
   },
   {
    "duration": 962,
    "start_time": "2023-07-30T18:37:01.555Z"
   },
   {
    "duration": 6,
    "start_time": "2023-07-30T18:37:02.519Z"
   },
   {
    "duration": 1525,
    "start_time": "2023-07-30T18:37:02.527Z"
   },
   {
    "duration": 458,
    "start_time": "2023-07-30T18:37:04.054Z"
   },
   {
    "duration": 592,
    "start_time": "2023-07-30T18:37:04.513Z"
   },
   {
    "duration": 480,
    "start_time": "2023-07-30T18:37:05.107Z"
   },
   {
    "duration": 458,
    "start_time": "2023-07-30T18:37:05.592Z"
   },
   {
    "duration": 67,
    "start_time": "2023-07-30T18:37:06.052Z"
   },
   {
    "duration": 7,
    "start_time": "2023-07-30T18:37:06.121Z"
   },
   {
    "duration": 1514,
    "start_time": "2023-07-30T18:37:06.130Z"
   },
   {
    "duration": 106,
    "start_time": "2023-07-30T18:37:07.645Z"
   },
   {
    "duration": 0,
    "start_time": "2023-07-30T18:37:07.753Z"
   },
   {
    "duration": 0,
    "start_time": "2023-07-30T18:37:07.754Z"
   },
   {
    "duration": 0,
    "start_time": "2023-07-30T18:37:07.756Z"
   },
   {
    "duration": 0,
    "start_time": "2023-07-30T18:37:07.757Z"
   },
   {
    "duration": 0,
    "start_time": "2023-07-30T18:37:07.759Z"
   },
   {
    "duration": 0,
    "start_time": "2023-07-30T18:37:07.760Z"
   },
   {
    "duration": 0,
    "start_time": "2023-07-30T18:37:07.761Z"
   },
   {
    "duration": 0,
    "start_time": "2023-07-30T18:37:07.762Z"
   },
   {
    "duration": 0,
    "start_time": "2023-07-30T18:37:07.763Z"
   },
   {
    "duration": 1,
    "start_time": "2023-07-30T18:37:07.764Z"
   },
   {
    "duration": 0,
    "start_time": "2023-07-30T18:37:07.765Z"
   },
   {
    "duration": 0,
    "start_time": "2023-07-30T18:37:07.767Z"
   },
   {
    "duration": 1,
    "start_time": "2023-07-30T18:37:07.767Z"
   },
   {
    "duration": 0,
    "start_time": "2023-07-30T18:37:07.768Z"
   },
   {
    "duration": 0,
    "start_time": "2023-07-30T18:37:07.769Z"
   },
   {
    "duration": 0,
    "start_time": "2023-07-30T18:37:07.770Z"
   },
   {
    "duration": 0,
    "start_time": "2023-07-30T18:37:07.772Z"
   },
   {
    "duration": 0,
    "start_time": "2023-07-30T18:37:07.773Z"
   },
   {
    "duration": 0,
    "start_time": "2023-07-30T18:37:07.775Z"
   },
   {
    "duration": 0,
    "start_time": "2023-07-30T18:37:07.776Z"
   },
   {
    "duration": 0,
    "start_time": "2023-07-30T18:37:07.777Z"
   },
   {
    "duration": 0,
    "start_time": "2023-07-30T18:37:07.779Z"
   },
   {
    "duration": 0,
    "start_time": "2023-07-30T18:37:07.780Z"
   },
   {
    "duration": 0,
    "start_time": "2023-07-30T18:37:07.782Z"
   },
   {
    "duration": 0,
    "start_time": "2023-07-30T18:37:07.783Z"
   },
   {
    "duration": 0,
    "start_time": "2023-07-30T18:37:07.784Z"
   },
   {
    "duration": 1436,
    "start_time": "2023-07-30T18:37:26.936Z"
   },
   {
    "duration": 754,
    "start_time": "2023-07-30T18:37:28.374Z"
   },
   {
    "duration": 17,
    "start_time": "2023-07-30T18:37:29.130Z"
   },
   {
    "duration": 26,
    "start_time": "2023-07-30T18:37:29.148Z"
   },
   {
    "duration": 20,
    "start_time": "2023-07-30T18:37:29.176Z"
   },
   {
    "duration": 42,
    "start_time": "2023-07-30T18:37:29.197Z"
   },
   {
    "duration": 34,
    "start_time": "2023-07-30T18:37:29.240Z"
   },
   {
    "duration": 36,
    "start_time": "2023-07-30T18:37:29.276Z"
   },
   {
    "duration": 27,
    "start_time": "2023-07-30T18:37:29.313Z"
   },
   {
    "duration": 31,
    "start_time": "2023-07-30T18:37:29.341Z"
   },
   {
    "duration": 26,
    "start_time": "2023-07-30T18:37:29.373Z"
   },
   {
    "duration": 286,
    "start_time": "2023-07-30T18:37:29.401Z"
   },
   {
    "duration": 227,
    "start_time": "2023-07-30T18:37:29.690Z"
   },
   {
    "duration": 142,
    "start_time": "2023-07-30T18:37:29.922Z"
   },
   {
    "duration": 9,
    "start_time": "2023-07-30T18:37:30.066Z"
   },
   {
    "duration": 43,
    "start_time": "2023-07-30T18:37:30.077Z"
   },
   {
    "duration": 49,
    "start_time": "2023-07-30T18:37:30.122Z"
   },
   {
    "duration": 67,
    "start_time": "2023-07-30T18:37:30.173Z"
   },
   {
    "duration": 41,
    "start_time": "2023-07-30T18:37:30.242Z"
   },
   {
    "duration": 32,
    "start_time": "2023-07-30T18:37:30.284Z"
   },
   {
    "duration": 70,
    "start_time": "2023-07-30T18:37:30.318Z"
   },
   {
    "duration": 250,
    "start_time": "2023-07-30T18:37:30.390Z"
   },
   {
    "duration": 42,
    "start_time": "2023-07-30T18:37:30.642Z"
   },
   {
    "duration": 74,
    "start_time": "2023-07-30T18:37:30.686Z"
   },
   {
    "duration": 68,
    "start_time": "2023-07-30T18:37:30.762Z"
   },
   {
    "duration": 88,
    "start_time": "2023-07-30T18:37:30.833Z"
   },
   {
    "duration": 160,
    "start_time": "2023-07-30T18:37:30.923Z"
   },
   {
    "duration": 4,
    "start_time": "2023-07-30T18:37:31.085Z"
   },
   {
    "duration": 100,
    "start_time": "2023-07-30T18:37:31.090Z"
   },
   {
    "duration": 23,
    "start_time": "2023-07-30T18:37:31.192Z"
   },
   {
    "duration": 90,
    "start_time": "2023-07-30T18:37:31.217Z"
   },
   {
    "duration": 60,
    "start_time": "2023-07-30T18:37:31.308Z"
   },
   {
    "duration": 65,
    "start_time": "2023-07-30T18:37:31.370Z"
   },
   {
    "duration": 28,
    "start_time": "2023-07-30T18:37:31.437Z"
   },
   {
    "duration": 1094,
    "start_time": "2023-07-30T18:37:31.467Z"
   },
   {
    "duration": 14,
    "start_time": "2023-07-30T18:37:32.563Z"
   },
   {
    "duration": 1531,
    "start_time": "2023-07-30T18:37:32.579Z"
   },
   {
    "duration": 450,
    "start_time": "2023-07-30T18:37:34.113Z"
   },
   {
    "duration": 587,
    "start_time": "2023-07-30T18:37:34.565Z"
   },
   {
    "duration": 527,
    "start_time": "2023-07-30T18:37:35.154Z"
   },
   {
    "duration": 513,
    "start_time": "2023-07-30T18:37:35.691Z"
   },
   {
    "duration": 69,
    "start_time": "2023-07-30T18:37:36.206Z"
   },
   {
    "duration": 19,
    "start_time": "2023-07-30T18:37:36.277Z"
   },
   {
    "duration": 1633,
    "start_time": "2023-07-30T18:37:36.298Z"
   },
   {
    "duration": 1860,
    "start_time": "2023-07-30T18:37:37.932Z"
   },
   {
    "duration": 0,
    "start_time": "2023-07-30T18:37:39.794Z"
   },
   {
    "duration": 0,
    "start_time": "2023-07-30T18:37:39.795Z"
   },
   {
    "duration": 0,
    "start_time": "2023-07-30T18:37:39.796Z"
   },
   {
    "duration": 0,
    "start_time": "2023-07-30T18:37:39.797Z"
   },
   {
    "duration": 0,
    "start_time": "2023-07-30T18:37:39.799Z"
   },
   {
    "duration": 0,
    "start_time": "2023-07-30T18:37:39.800Z"
   },
   {
    "duration": 0,
    "start_time": "2023-07-30T18:37:39.801Z"
   },
   {
    "duration": 0,
    "start_time": "2023-07-30T18:37:39.802Z"
   },
   {
    "duration": 0,
    "start_time": "2023-07-30T18:37:39.803Z"
   },
   {
    "duration": 0,
    "start_time": "2023-07-30T18:37:39.804Z"
   },
   {
    "duration": 0,
    "start_time": "2023-07-30T18:37:39.805Z"
   },
   {
    "duration": 0,
    "start_time": "2023-07-30T18:37:39.806Z"
   },
   {
    "duration": 0,
    "start_time": "2023-07-30T18:37:39.808Z"
   },
   {
    "duration": 0,
    "start_time": "2023-07-30T18:37:39.809Z"
   },
   {
    "duration": 0,
    "start_time": "2023-07-30T18:37:39.810Z"
   },
   {
    "duration": 0,
    "start_time": "2023-07-30T18:37:39.811Z"
   },
   {
    "duration": 0,
    "start_time": "2023-07-30T18:37:39.813Z"
   },
   {
    "duration": 0,
    "start_time": "2023-07-30T18:37:39.814Z"
   },
   {
    "duration": 0,
    "start_time": "2023-07-30T18:37:39.815Z"
   },
   {
    "duration": 0,
    "start_time": "2023-07-30T18:37:39.816Z"
   },
   {
    "duration": 0,
    "start_time": "2023-07-30T18:37:39.817Z"
   },
   {
    "duration": 0,
    "start_time": "2023-07-30T18:37:39.818Z"
   },
   {
    "duration": 0,
    "start_time": "2023-07-30T18:37:39.819Z"
   },
   {
    "duration": 0,
    "start_time": "2023-07-30T18:37:39.820Z"
   },
   {
    "duration": 0,
    "start_time": "2023-07-30T18:37:39.821Z"
   },
   {
    "duration": 1710,
    "start_time": "2023-07-30T18:40:18.451Z"
   },
   {
    "duration": 6,
    "start_time": "2023-07-30T18:42:37.205Z"
   },
   {
    "duration": 1567,
    "start_time": "2023-07-30T18:42:38.251Z"
   },
   {
    "duration": 2158,
    "start_time": "2023-07-30T18:43:31.817Z"
   },
   {
    "duration": 1513,
    "start_time": "2023-07-30T18:44:07.007Z"
   },
   {
    "duration": 844,
    "start_time": "2023-07-30T18:44:08.522Z"
   },
   {
    "duration": 28,
    "start_time": "2023-07-30T18:44:09.367Z"
   },
   {
    "duration": 16,
    "start_time": "2023-07-30T18:44:09.397Z"
   },
   {
    "duration": 12,
    "start_time": "2023-07-30T18:44:09.415Z"
   },
   {
    "duration": 25,
    "start_time": "2023-07-30T18:44:09.428Z"
   },
   {
    "duration": 47,
    "start_time": "2023-07-30T18:44:09.454Z"
   },
   {
    "duration": 20,
    "start_time": "2023-07-30T18:44:09.503Z"
   },
   {
    "duration": 16,
    "start_time": "2023-07-30T18:44:09.525Z"
   },
   {
    "duration": 4,
    "start_time": "2023-07-30T18:44:09.543Z"
   },
   {
    "duration": 32,
    "start_time": "2023-07-30T18:44:09.549Z"
   },
   {
    "duration": 271,
    "start_time": "2023-07-30T18:44:09.583Z"
   },
   {
    "duration": 246,
    "start_time": "2023-07-30T18:44:09.856Z"
   },
   {
    "duration": 156,
    "start_time": "2023-07-30T18:44:10.106Z"
   },
   {
    "duration": 13,
    "start_time": "2023-07-30T18:44:10.264Z"
   },
   {
    "duration": 19,
    "start_time": "2023-07-30T18:44:10.280Z"
   },
   {
    "duration": 7,
    "start_time": "2023-07-30T18:44:10.301Z"
   },
   {
    "duration": 10,
    "start_time": "2023-07-30T18:44:10.310Z"
   },
   {
    "duration": 19,
    "start_time": "2023-07-30T18:44:10.321Z"
   },
   {
    "duration": 15,
    "start_time": "2023-07-30T18:44:10.342Z"
   },
   {
    "duration": 42,
    "start_time": "2023-07-30T18:44:10.359Z"
   },
   {
    "duration": 296,
    "start_time": "2023-07-30T18:44:10.403Z"
   },
   {
    "duration": 19,
    "start_time": "2023-07-30T18:44:10.701Z"
   },
   {
    "duration": 11,
    "start_time": "2023-07-30T18:44:10.722Z"
   },
   {
    "duration": 4,
    "start_time": "2023-07-30T18:44:10.734Z"
   },
   {
    "duration": 44,
    "start_time": "2023-07-30T18:44:10.739Z"
   },
   {
    "duration": 82,
    "start_time": "2023-07-30T18:44:10.787Z"
   },
   {
    "duration": 5,
    "start_time": "2023-07-30T18:44:10.871Z"
   },
   {
    "duration": 54,
    "start_time": "2023-07-30T18:44:10.878Z"
   },
   {
    "duration": 13,
    "start_time": "2023-07-30T18:44:10.934Z"
   },
   {
    "duration": 45,
    "start_time": "2023-07-30T18:44:10.949Z"
   },
   {
    "duration": 9,
    "start_time": "2023-07-30T18:44:10.995Z"
   },
   {
    "duration": 16,
    "start_time": "2023-07-30T18:44:11.005Z"
   },
   {
    "duration": 12,
    "start_time": "2023-07-30T18:44:11.023Z"
   },
   {
    "duration": 1008,
    "start_time": "2023-07-30T18:44:11.037Z"
   },
   {
    "duration": 7,
    "start_time": "2023-07-30T18:44:12.047Z"
   },
   {
    "duration": 1675,
    "start_time": "2023-07-30T18:44:12.055Z"
   },
   {
    "duration": 608,
    "start_time": "2023-07-30T18:44:13.732Z"
   },
   {
    "duration": 626,
    "start_time": "2023-07-30T18:44:14.342Z"
   },
   {
    "duration": 493,
    "start_time": "2023-07-30T18:44:14.970Z"
   },
   {
    "duration": 510,
    "start_time": "2023-07-30T18:44:15.467Z"
   },
   {
    "duration": 68,
    "start_time": "2023-07-30T18:44:15.982Z"
   },
   {
    "duration": 8,
    "start_time": "2023-07-30T18:44:16.051Z"
   },
   {
    "duration": 1667,
    "start_time": "2023-07-30T18:44:16.061Z"
   },
   {
    "duration": 2037,
    "start_time": "2023-07-30T18:44:17.730Z"
   },
   {
    "duration": 0,
    "start_time": "2023-07-30T18:44:19.769Z"
   },
   {
    "duration": 0,
    "start_time": "2023-07-30T18:44:19.770Z"
   },
   {
    "duration": 0,
    "start_time": "2023-07-30T18:44:19.771Z"
   },
   {
    "duration": 0,
    "start_time": "2023-07-30T18:44:19.772Z"
   },
   {
    "duration": 0,
    "start_time": "2023-07-30T18:44:19.773Z"
   },
   {
    "duration": 0,
    "start_time": "2023-07-30T18:44:19.774Z"
   },
   {
    "duration": 0,
    "start_time": "2023-07-30T18:44:19.777Z"
   },
   {
    "duration": 0,
    "start_time": "2023-07-30T18:44:19.779Z"
   },
   {
    "duration": 0,
    "start_time": "2023-07-30T18:44:19.780Z"
   },
   {
    "duration": 0,
    "start_time": "2023-07-30T18:44:19.782Z"
   },
   {
    "duration": 0,
    "start_time": "2023-07-30T18:44:19.784Z"
   },
   {
    "duration": 0,
    "start_time": "2023-07-30T18:44:19.785Z"
   },
   {
    "duration": 0,
    "start_time": "2023-07-30T18:44:19.787Z"
   },
   {
    "duration": 0,
    "start_time": "2023-07-30T18:44:19.788Z"
   },
   {
    "duration": 0,
    "start_time": "2023-07-30T18:44:19.789Z"
   },
   {
    "duration": 0,
    "start_time": "2023-07-30T18:44:19.790Z"
   },
   {
    "duration": 0,
    "start_time": "2023-07-30T18:44:19.792Z"
   },
   {
    "duration": 0,
    "start_time": "2023-07-30T18:44:19.794Z"
   },
   {
    "duration": 0,
    "start_time": "2023-07-30T18:44:19.795Z"
   },
   {
    "duration": 0,
    "start_time": "2023-07-30T18:44:19.797Z"
   },
   {
    "duration": 0,
    "start_time": "2023-07-30T18:44:19.799Z"
   },
   {
    "duration": 0,
    "start_time": "2023-07-30T18:44:19.799Z"
   },
   {
    "duration": 0,
    "start_time": "2023-07-30T18:44:19.801Z"
   },
   {
    "duration": 0,
    "start_time": "2023-07-30T18:44:19.802Z"
   },
   {
    "duration": 0,
    "start_time": "2023-07-30T18:44:19.803Z"
   },
   {
    "duration": 0,
    "start_time": "2023-07-30T18:44:19.804Z"
   },
   {
    "duration": 0,
    "start_time": "2023-07-30T18:44:19.805Z"
   },
   {
    "duration": 3160,
    "start_time": "2023-07-30T18:45:06.153Z"
   },
   {
    "duration": 0,
    "start_time": "2023-07-30T18:45:09.315Z"
   },
   {
    "duration": 2195,
    "start_time": "2023-07-30T18:45:32.132Z"
   },
   {
    "duration": 105,
    "start_time": "2023-07-30T18:45:42.653Z"
   },
   {
    "duration": 114,
    "start_time": "2023-07-30T18:45:51.908Z"
   },
   {
    "duration": 101,
    "start_time": "2023-07-30T18:46:11.658Z"
   },
   {
    "duration": 110,
    "start_time": "2023-07-30T18:46:18.517Z"
   },
   {
    "duration": 111,
    "start_time": "2023-07-30T18:46:31.047Z"
   },
   {
    "duration": 106,
    "start_time": "2023-07-30T18:46:41.396Z"
   },
   {
    "duration": 132,
    "start_time": "2023-07-30T18:46:51.321Z"
   },
   {
    "duration": 148,
    "start_time": "2023-07-30T18:46:58.702Z"
   },
   {
    "duration": 106,
    "start_time": "2023-07-30T18:47:12.206Z"
   },
   {
    "duration": 1601,
    "start_time": "2023-07-30T18:47:18.211Z"
   },
   {
    "duration": 947,
    "start_time": "2023-07-30T18:47:19.814Z"
   },
   {
    "duration": 28,
    "start_time": "2023-07-30T18:47:20.763Z"
   },
   {
    "duration": 37,
    "start_time": "2023-07-30T18:47:20.793Z"
   },
   {
    "duration": 20,
    "start_time": "2023-07-30T18:47:20.832Z"
   },
   {
    "duration": 32,
    "start_time": "2023-07-30T18:47:20.854Z"
   },
   {
    "duration": 27,
    "start_time": "2023-07-30T18:47:20.888Z"
   },
   {
    "duration": 64,
    "start_time": "2023-07-30T18:47:20.917Z"
   },
   {
    "duration": 6,
    "start_time": "2023-07-30T18:47:20.987Z"
   },
   {
    "duration": 25,
    "start_time": "2023-07-30T18:47:20.995Z"
   },
   {
    "duration": 15,
    "start_time": "2023-07-30T18:47:21.022Z"
   },
   {
    "duration": 314,
    "start_time": "2023-07-30T18:47:21.038Z"
   },
   {
    "duration": 338,
    "start_time": "2023-07-30T18:47:21.354Z"
   },
   {
    "duration": 147,
    "start_time": "2023-07-30T18:47:21.697Z"
   },
   {
    "duration": 3,
    "start_time": "2023-07-30T18:47:21.846Z"
   },
   {
    "duration": 32,
    "start_time": "2023-07-30T18:47:21.850Z"
   },
   {
    "duration": 17,
    "start_time": "2023-07-30T18:47:21.885Z"
   },
   {
    "duration": 25,
    "start_time": "2023-07-30T18:47:21.904Z"
   },
   {
    "duration": 32,
    "start_time": "2023-07-30T18:47:21.934Z"
   },
   {
    "duration": 42,
    "start_time": "2023-07-30T18:47:21.969Z"
   },
   {
    "duration": 66,
    "start_time": "2023-07-30T18:47:22.013Z"
   },
   {
    "duration": 299,
    "start_time": "2023-07-30T18:47:22.082Z"
   },
   {
    "duration": 24,
    "start_time": "2023-07-30T18:47:22.384Z"
   },
   {
    "duration": 30,
    "start_time": "2023-07-30T18:47:22.410Z"
   },
   {
    "duration": 12,
    "start_time": "2023-07-30T18:47:22.442Z"
   },
   {
    "duration": 22,
    "start_time": "2023-07-30T18:47:22.456Z"
   },
   {
    "duration": 107,
    "start_time": "2023-07-30T18:47:22.482Z"
   },
   {
    "duration": 4,
    "start_time": "2023-07-30T18:47:22.591Z"
   },
   {
    "duration": 196,
    "start_time": "2023-07-30T18:47:22.597Z"
   },
   {
    "duration": 123,
    "start_time": "2023-07-30T18:47:22.796Z"
   },
   {
    "duration": 133,
    "start_time": "2023-07-30T18:47:22.921Z"
   },
   {
    "duration": 14,
    "start_time": "2023-07-30T18:47:23.056Z"
   },
   {
    "duration": 41,
    "start_time": "2023-07-30T18:47:23.072Z"
   },
   {
    "duration": 23,
    "start_time": "2023-07-30T18:47:23.114Z"
   },
   {
    "duration": 1030,
    "start_time": "2023-07-30T18:47:23.139Z"
   },
   {
    "duration": 18,
    "start_time": "2023-07-30T18:47:24.175Z"
   },
   {
    "duration": 1670,
    "start_time": "2023-07-30T18:47:24.195Z"
   },
   {
    "duration": 530,
    "start_time": "2023-07-30T18:47:25.867Z"
   },
   {
    "duration": 653,
    "start_time": "2023-07-30T18:47:26.399Z"
   },
   {
    "duration": 511,
    "start_time": "2023-07-30T18:47:27.054Z"
   },
   {
    "duration": 540,
    "start_time": "2023-07-30T18:47:27.574Z"
   },
   {
    "duration": 80,
    "start_time": "2023-07-30T18:47:28.116Z"
   },
   {
    "duration": 7,
    "start_time": "2023-07-30T18:47:28.198Z"
   },
   {
    "duration": 1781,
    "start_time": "2023-07-30T18:47:28.207Z"
   },
   {
    "duration": 125,
    "start_time": "2023-07-30T18:47:29.993Z"
   },
   {
    "duration": 0,
    "start_time": "2023-07-30T18:47:30.120Z"
   },
   {
    "duration": 0,
    "start_time": "2023-07-30T18:47:30.121Z"
   },
   {
    "duration": 0,
    "start_time": "2023-07-30T18:47:30.122Z"
   },
   {
    "duration": 0,
    "start_time": "2023-07-30T18:47:30.123Z"
   },
   {
    "duration": 0,
    "start_time": "2023-07-30T18:47:30.124Z"
   },
   {
    "duration": 0,
    "start_time": "2023-07-30T18:47:30.125Z"
   },
   {
    "duration": 0,
    "start_time": "2023-07-30T18:47:30.126Z"
   },
   {
    "duration": 0,
    "start_time": "2023-07-30T18:47:30.127Z"
   },
   {
    "duration": 0,
    "start_time": "2023-07-30T18:47:30.128Z"
   },
   {
    "duration": 0,
    "start_time": "2023-07-30T18:47:30.129Z"
   },
   {
    "duration": 0,
    "start_time": "2023-07-30T18:47:30.130Z"
   },
   {
    "duration": 0,
    "start_time": "2023-07-30T18:47:30.131Z"
   },
   {
    "duration": 0,
    "start_time": "2023-07-30T18:47:30.132Z"
   },
   {
    "duration": 0,
    "start_time": "2023-07-30T18:47:30.133Z"
   },
   {
    "duration": 0,
    "start_time": "2023-07-30T18:47:30.134Z"
   },
   {
    "duration": 0,
    "start_time": "2023-07-30T18:47:30.135Z"
   },
   {
    "duration": 0,
    "start_time": "2023-07-30T18:47:30.136Z"
   },
   {
    "duration": 0,
    "start_time": "2023-07-30T18:47:30.137Z"
   },
   {
    "duration": 0,
    "start_time": "2023-07-30T18:47:30.138Z"
   },
   {
    "duration": 0,
    "start_time": "2023-07-30T18:47:30.139Z"
   },
   {
    "duration": 0,
    "start_time": "2023-07-30T18:47:30.140Z"
   },
   {
    "duration": 0,
    "start_time": "2023-07-30T18:47:30.142Z"
   },
   {
    "duration": 0,
    "start_time": "2023-07-30T18:47:30.143Z"
   },
   {
    "duration": 0,
    "start_time": "2023-07-30T18:47:30.145Z"
   },
   {
    "duration": 0,
    "start_time": "2023-07-30T18:47:30.146Z"
   },
   {
    "duration": 0,
    "start_time": "2023-07-30T18:47:30.147Z"
   },
   {
    "duration": 0,
    "start_time": "2023-07-30T18:47:30.149Z"
   },
   {
    "duration": 109,
    "start_time": "2023-07-30T18:47:51.541Z"
   },
   {
    "duration": 148,
    "start_time": "2023-07-30T18:47:58.907Z"
   },
   {
    "duration": 105,
    "start_time": "2023-07-30T18:48:06.901Z"
   },
   {
    "duration": 123,
    "start_time": "2023-07-30T18:48:18.067Z"
   },
   {
    "duration": 111,
    "start_time": "2023-07-30T18:49:01.652Z"
   },
   {
    "duration": 117,
    "start_time": "2023-07-30T18:49:18.403Z"
   },
   {
    "duration": 154,
    "start_time": "2023-07-30T18:49:38.732Z"
   },
   {
    "duration": 131,
    "start_time": "2023-07-30T18:49:42.058Z"
   },
   {
    "duration": 120,
    "start_time": "2023-07-30T18:49:51.449Z"
   },
   {
    "duration": 103,
    "start_time": "2023-07-30T18:51:17.187Z"
   },
   {
    "duration": 1910,
    "start_time": "2023-07-30T18:51:35.202Z"
   },
   {
    "duration": 1761,
    "start_time": "2023-07-30T18:53:35.045Z"
   },
   {
    "duration": 839,
    "start_time": "2023-07-30T18:53:36.808Z"
   },
   {
    "duration": 17,
    "start_time": "2023-07-30T18:53:37.648Z"
   },
   {
    "duration": 34,
    "start_time": "2023-07-30T18:53:37.666Z"
   },
   {
    "duration": 12,
    "start_time": "2023-07-30T18:53:37.703Z"
   },
   {
    "duration": 22,
    "start_time": "2023-07-30T18:53:37.716Z"
   },
   {
    "duration": 18,
    "start_time": "2023-07-30T18:53:37.739Z"
   },
   {
    "duration": 42,
    "start_time": "2023-07-30T18:53:37.758Z"
   },
   {
    "duration": 4,
    "start_time": "2023-07-30T18:53:37.802Z"
   },
   {
    "duration": 8,
    "start_time": "2023-07-30T18:53:37.808Z"
   },
   {
    "duration": 11,
    "start_time": "2023-07-30T18:53:37.817Z"
   },
   {
    "duration": 267,
    "start_time": "2023-07-30T18:53:37.830Z"
   },
   {
    "duration": 228,
    "start_time": "2023-07-30T18:53:38.099Z"
   },
   {
    "duration": 135,
    "start_time": "2023-07-30T18:53:38.329Z"
   },
   {
    "duration": 11,
    "start_time": "2023-07-30T18:53:38.466Z"
   },
   {
    "duration": 6,
    "start_time": "2023-07-30T18:53:38.487Z"
   },
   {
    "duration": 9,
    "start_time": "2023-07-30T18:53:38.495Z"
   },
   {
    "duration": 31,
    "start_time": "2023-07-30T18:53:38.505Z"
   },
   {
    "duration": 44,
    "start_time": "2023-07-30T18:53:38.537Z"
   },
   {
    "duration": 24,
    "start_time": "2023-07-30T18:53:38.587Z"
   },
   {
    "duration": 89,
    "start_time": "2023-07-30T18:53:38.612Z"
   },
   {
    "duration": 256,
    "start_time": "2023-07-30T18:53:38.703Z"
   },
   {
    "duration": 19,
    "start_time": "2023-07-30T18:53:38.961Z"
   },
   {
    "duration": 16,
    "start_time": "2023-07-30T18:53:38.987Z"
   },
   {
    "duration": 10,
    "start_time": "2023-07-30T18:53:39.005Z"
   },
   {
    "duration": 22,
    "start_time": "2023-07-30T18:53:39.017Z"
   },
   {
    "duration": 93,
    "start_time": "2023-07-30T18:53:39.040Z"
   },
   {
    "duration": 3,
    "start_time": "2023-07-30T18:53:39.135Z"
   },
   {
    "duration": 67,
    "start_time": "2023-07-30T18:53:39.140Z"
   },
   {
    "duration": 21,
    "start_time": "2023-07-30T18:53:39.211Z"
   },
   {
    "duration": 25,
    "start_time": "2023-07-30T18:53:39.234Z"
   },
   {
    "duration": 28,
    "start_time": "2023-07-30T18:53:39.261Z"
   },
   {
    "duration": 67,
    "start_time": "2023-07-30T18:53:39.290Z"
   },
   {
    "duration": 31,
    "start_time": "2023-07-30T18:53:39.359Z"
   },
   {
    "duration": 1158,
    "start_time": "2023-07-30T18:53:39.392Z"
   },
   {
    "duration": 8,
    "start_time": "2023-07-30T18:53:40.553Z"
   },
   {
    "duration": 1801,
    "start_time": "2023-07-30T18:53:40.562Z"
   },
   {
    "duration": 540,
    "start_time": "2023-07-30T18:53:42.365Z"
   },
   {
    "duration": 656,
    "start_time": "2023-07-30T18:53:42.907Z"
   },
   {
    "duration": 563,
    "start_time": "2023-07-30T18:53:43.565Z"
   },
   {
    "duration": 530,
    "start_time": "2023-07-30T18:53:44.132Z"
   },
   {
    "duration": 1970,
    "start_time": "2023-07-30T18:53:44.664Z"
   },
   {
    "duration": 0,
    "start_time": "2023-07-30T18:53:46.635Z"
   },
   {
    "duration": 0,
    "start_time": "2023-07-30T18:53:46.637Z"
   },
   {
    "duration": 0,
    "start_time": "2023-07-30T18:53:46.638Z"
   },
   {
    "duration": 0,
    "start_time": "2023-07-30T18:53:46.639Z"
   },
   {
    "duration": 0,
    "start_time": "2023-07-30T18:53:46.640Z"
   },
   {
    "duration": 0,
    "start_time": "2023-07-30T18:53:46.641Z"
   },
   {
    "duration": 0,
    "start_time": "2023-07-30T18:53:46.643Z"
   },
   {
    "duration": 0,
    "start_time": "2023-07-30T18:53:46.644Z"
   },
   {
    "duration": 0,
    "start_time": "2023-07-30T18:53:46.645Z"
   },
   {
    "duration": 0,
    "start_time": "2023-07-30T18:53:46.646Z"
   },
   {
    "duration": 0,
    "start_time": "2023-07-30T18:53:46.647Z"
   },
   {
    "duration": 0,
    "start_time": "2023-07-30T18:53:46.648Z"
   },
   {
    "duration": 0,
    "start_time": "2023-07-30T18:53:46.649Z"
   },
   {
    "duration": 0,
    "start_time": "2023-07-30T18:53:46.650Z"
   },
   {
    "duration": 0,
    "start_time": "2023-07-30T18:53:46.652Z"
   },
   {
    "duration": 0,
    "start_time": "2023-07-30T18:53:46.653Z"
   },
   {
    "duration": 0,
    "start_time": "2023-07-30T18:53:46.654Z"
   },
   {
    "duration": 0,
    "start_time": "2023-07-30T18:53:46.655Z"
   },
   {
    "duration": 0,
    "start_time": "2023-07-30T18:53:46.657Z"
   },
   {
    "duration": 0,
    "start_time": "2023-07-30T18:53:46.658Z"
   },
   {
    "duration": 0,
    "start_time": "2023-07-30T18:53:46.659Z"
   },
   {
    "duration": 0,
    "start_time": "2023-07-30T18:53:46.660Z"
   },
   {
    "duration": 0,
    "start_time": "2023-07-30T18:53:46.661Z"
   },
   {
    "duration": 0,
    "start_time": "2023-07-30T18:53:46.663Z"
   },
   {
    "duration": 0,
    "start_time": "2023-07-30T18:53:46.664Z"
   },
   {
    "duration": 0,
    "start_time": "2023-07-30T18:53:46.666Z"
   },
   {
    "duration": 0,
    "start_time": "2023-07-30T18:53:46.667Z"
   },
   {
    "duration": 0,
    "start_time": "2023-07-30T18:53:46.668Z"
   },
   {
    "duration": 0,
    "start_time": "2023-07-30T18:53:46.669Z"
   },
   {
    "duration": 0,
    "start_time": "2023-07-30T18:53:46.670Z"
   },
   {
    "duration": 0,
    "start_time": "2023-07-30T18:53:46.671Z"
   },
   {
    "duration": 0,
    "start_time": "2023-07-30T18:53:46.672Z"
   },
   {
    "duration": 1733,
    "start_time": "2023-07-30T18:54:24.601Z"
   },
   {
    "duration": 1907,
    "start_time": "2023-07-30T18:54:50.582Z"
   },
   {
    "duration": 1499,
    "start_time": "2023-07-30T19:13:18.421Z"
   },
   {
    "duration": 896,
    "start_time": "2023-07-30T19:13:19.922Z"
   },
   {
    "duration": 19,
    "start_time": "2023-07-30T19:13:20.820Z"
   },
   {
    "duration": 17,
    "start_time": "2023-07-30T19:13:20.840Z"
   },
   {
    "duration": 30,
    "start_time": "2023-07-30T19:13:20.859Z"
   },
   {
    "duration": 28,
    "start_time": "2023-07-30T19:13:20.891Z"
   },
   {
    "duration": 28,
    "start_time": "2023-07-30T19:13:20.920Z"
   },
   {
    "duration": 40,
    "start_time": "2023-07-30T19:13:20.950Z"
   },
   {
    "duration": 6,
    "start_time": "2023-07-30T19:13:20.992Z"
   },
   {
    "duration": 37,
    "start_time": "2023-07-30T19:13:21.000Z"
   },
   {
    "duration": 18,
    "start_time": "2023-07-30T19:13:21.039Z"
   },
   {
    "duration": 287,
    "start_time": "2023-07-30T19:13:21.059Z"
   },
   {
    "duration": 239,
    "start_time": "2023-07-30T19:13:21.347Z"
   },
   {
    "duration": 132,
    "start_time": "2023-07-30T19:13:21.597Z"
   },
   {
    "duration": 3,
    "start_time": "2023-07-30T19:13:21.731Z"
   },
   {
    "duration": 21,
    "start_time": "2023-07-30T19:13:21.736Z"
   },
   {
    "duration": 48,
    "start_time": "2023-07-30T19:13:21.758Z"
   },
   {
    "duration": 34,
    "start_time": "2023-07-30T19:13:21.808Z"
   },
   {
    "duration": 41,
    "start_time": "2023-07-30T19:13:21.844Z"
   },
   {
    "duration": 9,
    "start_time": "2023-07-30T19:13:21.889Z"
   },
   {
    "duration": 21,
    "start_time": "2023-07-30T19:13:21.900Z"
   },
   {
    "duration": 41,
    "start_time": "2023-07-30T19:13:21.922Z"
   },
   {
    "duration": 263,
    "start_time": "2023-07-30T19:13:21.965Z"
   },
   {
    "duration": 19,
    "start_time": "2023-07-30T19:13:22.229Z"
   },
   {
    "duration": 34,
    "start_time": "2023-07-30T19:13:22.250Z"
   },
   {
    "duration": 25,
    "start_time": "2023-07-30T19:13:22.286Z"
   },
   {
    "duration": 28,
    "start_time": "2023-07-30T19:13:22.313Z"
   },
   {
    "duration": 27,
    "start_time": "2023-07-30T19:13:22.343Z"
   },
   {
    "duration": 35,
    "start_time": "2023-07-30T19:13:22.372Z"
   },
   {
    "duration": 45,
    "start_time": "2023-07-30T19:13:22.409Z"
   },
   {
    "duration": 12,
    "start_time": "2023-07-30T19:13:22.456Z"
   },
   {
    "duration": 18,
    "start_time": "2023-07-30T19:13:22.469Z"
   },
   {
    "duration": 9,
    "start_time": "2023-07-30T19:13:22.489Z"
   },
   {
    "duration": 63,
    "start_time": "2023-07-30T19:13:22.499Z"
   },
   {
    "duration": 22,
    "start_time": "2023-07-30T19:13:22.564Z"
   },
   {
    "duration": 1024,
    "start_time": "2023-07-30T19:13:22.588Z"
   },
   {
    "duration": 7,
    "start_time": "2023-07-30T19:13:23.614Z"
   },
   {
    "duration": 1596,
    "start_time": "2023-07-30T19:13:23.622Z"
   },
   {
    "duration": 478,
    "start_time": "2023-07-30T19:13:25.220Z"
   },
   {
    "duration": 471,
    "start_time": "2023-07-30T19:13:25.700Z"
   },
   {
    "duration": 669,
    "start_time": "2023-07-30T19:13:26.179Z"
   },
   {
    "duration": 503,
    "start_time": "2023-07-30T19:13:26.850Z"
   },
   {
    "duration": 2249,
    "start_time": "2023-07-30T19:13:27.355Z"
   },
   {
    "duration": 0,
    "start_time": "2023-07-30T19:13:29.606Z"
   },
   {
    "duration": 0,
    "start_time": "2023-07-30T19:13:29.607Z"
   },
   {
    "duration": 0,
    "start_time": "2023-07-30T19:13:29.608Z"
   },
   {
    "duration": 0,
    "start_time": "2023-07-30T19:13:29.610Z"
   },
   {
    "duration": 0,
    "start_time": "2023-07-30T19:13:29.611Z"
   },
   {
    "duration": 0,
    "start_time": "2023-07-30T19:13:29.611Z"
   },
   {
    "duration": 0,
    "start_time": "2023-07-30T19:13:29.612Z"
   },
   {
    "duration": 0,
    "start_time": "2023-07-30T19:13:29.613Z"
   },
   {
    "duration": 0,
    "start_time": "2023-07-30T19:13:29.615Z"
   },
   {
    "duration": 0,
    "start_time": "2023-07-30T19:13:29.616Z"
   },
   {
    "duration": 0,
    "start_time": "2023-07-30T19:13:29.616Z"
   },
   {
    "duration": 0,
    "start_time": "2023-07-30T19:13:29.618Z"
   },
   {
    "duration": 0,
    "start_time": "2023-07-30T19:13:29.619Z"
   },
   {
    "duration": 0,
    "start_time": "2023-07-30T19:13:29.619Z"
   },
   {
    "duration": 0,
    "start_time": "2023-07-30T19:13:29.620Z"
   },
   {
    "duration": 0,
    "start_time": "2023-07-30T19:13:29.621Z"
   },
   {
    "duration": 0,
    "start_time": "2023-07-30T19:13:29.623Z"
   },
   {
    "duration": 0,
    "start_time": "2023-07-30T19:13:29.624Z"
   },
   {
    "duration": 0,
    "start_time": "2023-07-30T19:13:29.625Z"
   },
   {
    "duration": 0,
    "start_time": "2023-07-30T19:13:29.626Z"
   },
   {
    "duration": 0,
    "start_time": "2023-07-30T19:13:29.628Z"
   },
   {
    "duration": 0,
    "start_time": "2023-07-30T19:13:29.629Z"
   },
   {
    "duration": 0,
    "start_time": "2023-07-30T19:13:29.630Z"
   },
   {
    "duration": 0,
    "start_time": "2023-07-30T19:13:29.631Z"
   },
   {
    "duration": 0,
    "start_time": "2023-07-30T19:13:29.632Z"
   },
   {
    "duration": 0,
    "start_time": "2023-07-30T19:13:29.633Z"
   },
   {
    "duration": 0,
    "start_time": "2023-07-30T19:13:29.634Z"
   },
   {
    "duration": 0,
    "start_time": "2023-07-30T19:13:29.634Z"
   },
   {
    "duration": 0,
    "start_time": "2023-07-30T19:13:29.635Z"
   },
   {
    "duration": 0,
    "start_time": "2023-07-30T19:13:29.636Z"
   },
   {
    "duration": 0,
    "start_time": "2023-07-30T19:13:29.637Z"
   },
   {
    "duration": 0,
    "start_time": "2023-07-30T19:13:29.638Z"
   },
   {
    "duration": 1461,
    "start_time": "2023-07-30T19:15:33.137Z"
   },
   {
    "duration": 846,
    "start_time": "2023-07-30T19:15:34.600Z"
   },
   {
    "duration": 17,
    "start_time": "2023-07-30T19:15:35.448Z"
   },
   {
    "duration": 32,
    "start_time": "2023-07-30T19:15:35.466Z"
   },
   {
    "duration": 13,
    "start_time": "2023-07-30T19:15:35.501Z"
   },
   {
    "duration": 27,
    "start_time": "2023-07-30T19:15:35.516Z"
   },
   {
    "duration": 55,
    "start_time": "2023-07-30T19:15:35.545Z"
   },
   {
    "duration": 21,
    "start_time": "2023-07-30T19:15:35.602Z"
   },
   {
    "duration": 7,
    "start_time": "2023-07-30T19:15:35.625Z"
   },
   {
    "duration": 15,
    "start_time": "2023-07-30T19:15:35.634Z"
   },
   {
    "duration": 14,
    "start_time": "2023-07-30T19:15:35.651Z"
   },
   {
    "duration": 286,
    "start_time": "2023-07-30T19:15:35.666Z"
   },
   {
    "duration": 250,
    "start_time": "2023-07-30T19:15:35.954Z"
   },
   {
    "duration": 136,
    "start_time": "2023-07-30T19:15:36.208Z"
   },
   {
    "duration": 3,
    "start_time": "2023-07-30T19:15:36.346Z"
   },
   {
    "duration": 11,
    "start_time": "2023-07-30T19:15:36.350Z"
   },
   {
    "duration": 31,
    "start_time": "2023-07-30T19:15:36.362Z"
   },
   {
    "duration": 5,
    "start_time": "2023-07-30T19:15:36.395Z"
   },
   {
    "duration": 6,
    "start_time": "2023-07-30T19:15:36.402Z"
   },
   {
    "duration": 4,
    "start_time": "2023-07-30T19:15:36.409Z"
   },
   {
    "duration": 25,
    "start_time": "2023-07-30T19:15:36.415Z"
   },
   {
    "duration": 18,
    "start_time": "2023-07-30T19:15:36.441Z"
   },
   {
    "duration": 256,
    "start_time": "2023-07-30T19:15:36.460Z"
   },
   {
    "duration": 18,
    "start_time": "2023-07-30T19:15:36.718Z"
   },
   {
    "duration": 11,
    "start_time": "2023-07-30T19:15:36.738Z"
   },
   {
    "duration": 4,
    "start_time": "2023-07-30T19:15:36.750Z"
   },
   {
    "duration": 7,
    "start_time": "2023-07-30T19:15:36.774Z"
   },
   {
    "duration": 23,
    "start_time": "2023-07-30T19:15:36.784Z"
   },
   {
    "duration": 4,
    "start_time": "2023-07-30T19:15:36.808Z"
   },
   {
    "duration": 68,
    "start_time": "2023-07-30T19:15:36.814Z"
   },
   {
    "duration": 18,
    "start_time": "2023-07-30T19:15:36.884Z"
   },
   {
    "duration": 15,
    "start_time": "2023-07-30T19:15:36.903Z"
   },
   {
    "duration": 7,
    "start_time": "2023-07-30T19:15:36.920Z"
   },
   {
    "duration": 21,
    "start_time": "2023-07-30T19:15:36.929Z"
   },
   {
    "duration": 9,
    "start_time": "2023-07-30T19:15:36.952Z"
   },
   {
    "duration": 1039,
    "start_time": "2023-07-30T19:15:36.975Z"
   },
   {
    "duration": 7,
    "start_time": "2023-07-30T19:15:38.016Z"
   },
   {
    "duration": 1631,
    "start_time": "2023-07-30T19:15:38.025Z"
   },
   {
    "duration": 501,
    "start_time": "2023-07-30T19:15:39.658Z"
   },
   {
    "duration": 592,
    "start_time": "2023-07-30T19:15:40.161Z"
   },
   {
    "duration": 669,
    "start_time": "2023-07-30T19:15:40.757Z"
   },
   {
    "duration": 527,
    "start_time": "2023-07-30T19:15:41.428Z"
   },
   {
    "duration": 1954,
    "start_time": "2023-07-30T19:15:41.957Z"
   },
   {
    "duration": 0,
    "start_time": "2023-07-30T19:15:43.914Z"
   },
   {
    "duration": 0,
    "start_time": "2023-07-30T19:15:43.916Z"
   },
   {
    "duration": 0,
    "start_time": "2023-07-30T19:15:43.917Z"
   },
   {
    "duration": 0,
    "start_time": "2023-07-30T19:15:43.918Z"
   },
   {
    "duration": 0,
    "start_time": "2023-07-30T19:15:43.919Z"
   },
   {
    "duration": 0,
    "start_time": "2023-07-30T19:15:43.920Z"
   },
   {
    "duration": 0,
    "start_time": "2023-07-30T19:15:43.921Z"
   },
   {
    "duration": 0,
    "start_time": "2023-07-30T19:15:43.922Z"
   },
   {
    "duration": 0,
    "start_time": "2023-07-30T19:15:43.923Z"
   },
   {
    "duration": 0,
    "start_time": "2023-07-30T19:15:43.924Z"
   },
   {
    "duration": 0,
    "start_time": "2023-07-30T19:15:43.925Z"
   },
   {
    "duration": 0,
    "start_time": "2023-07-30T19:15:43.926Z"
   },
   {
    "duration": 0,
    "start_time": "2023-07-30T19:15:43.927Z"
   },
   {
    "duration": 0,
    "start_time": "2023-07-30T19:15:43.928Z"
   },
   {
    "duration": 0,
    "start_time": "2023-07-30T19:15:43.929Z"
   },
   {
    "duration": 0,
    "start_time": "2023-07-30T19:15:43.930Z"
   },
   {
    "duration": 0,
    "start_time": "2023-07-30T19:15:43.932Z"
   },
   {
    "duration": 0,
    "start_time": "2023-07-30T19:15:43.933Z"
   },
   {
    "duration": 0,
    "start_time": "2023-07-30T19:15:43.934Z"
   },
   {
    "duration": 0,
    "start_time": "2023-07-30T19:15:43.935Z"
   },
   {
    "duration": 0,
    "start_time": "2023-07-30T19:15:43.937Z"
   },
   {
    "duration": 0,
    "start_time": "2023-07-30T19:15:43.937Z"
   },
   {
    "duration": 0,
    "start_time": "2023-07-30T19:15:43.939Z"
   },
   {
    "duration": 0,
    "start_time": "2023-07-30T19:15:43.940Z"
   },
   {
    "duration": 0,
    "start_time": "2023-07-30T19:15:43.941Z"
   },
   {
    "duration": 0,
    "start_time": "2023-07-30T19:15:43.942Z"
   },
   {
    "duration": 0,
    "start_time": "2023-07-30T19:15:43.943Z"
   },
   {
    "duration": 0,
    "start_time": "2023-07-30T19:15:43.944Z"
   },
   {
    "duration": 0,
    "start_time": "2023-07-30T19:15:43.945Z"
   },
   {
    "duration": 0,
    "start_time": "2023-07-30T19:15:43.946Z"
   },
   {
    "duration": 0,
    "start_time": "2023-07-30T19:15:43.948Z"
   },
   {
    "duration": 0,
    "start_time": "2023-07-30T19:15:43.949Z"
   },
   {
    "duration": 1548,
    "start_time": "2023-07-31T03:39:03.810Z"
   },
   {
    "duration": 2225,
    "start_time": "2023-07-31T03:39:05.360Z"
   },
   {
    "duration": 20,
    "start_time": "2023-07-31T03:39:07.587Z"
   },
   {
    "duration": 16,
    "start_time": "2023-07-31T03:39:07.609Z"
   },
   {
    "duration": 14,
    "start_time": "2023-07-31T03:39:07.627Z"
   },
   {
    "duration": 33,
    "start_time": "2023-07-31T03:39:07.643Z"
   },
   {
    "duration": 21,
    "start_time": "2023-07-31T03:39:07.678Z"
   },
   {
    "duration": 26,
    "start_time": "2023-07-31T03:39:07.701Z"
   },
   {
    "duration": 26,
    "start_time": "2023-07-31T03:39:07.728Z"
   },
   {
    "duration": 7,
    "start_time": "2023-07-31T03:39:07.756Z"
   },
   {
    "duration": 9,
    "start_time": "2023-07-31T03:39:07.765Z"
   },
   {
    "duration": 269,
    "start_time": "2023-07-31T03:39:07.776Z"
   },
   {
    "duration": 268,
    "start_time": "2023-07-31T03:39:08.048Z"
   },
   {
    "duration": 150,
    "start_time": "2023-07-31T03:39:08.321Z"
   },
   {
    "duration": 3,
    "start_time": "2023-07-31T03:39:08.473Z"
   },
   {
    "duration": 12,
    "start_time": "2023-07-31T03:39:08.477Z"
   },
   {
    "duration": 8,
    "start_time": "2023-07-31T03:39:08.490Z"
   },
   {
    "duration": 7,
    "start_time": "2023-07-31T03:39:08.499Z"
   },
   {
    "duration": 9,
    "start_time": "2023-07-31T03:39:08.508Z"
   },
   {
    "duration": 8,
    "start_time": "2023-07-31T03:39:08.519Z"
   },
   {
    "duration": 30,
    "start_time": "2023-07-31T03:39:08.528Z"
   },
   {
    "duration": 248,
    "start_time": "2023-07-31T03:39:08.559Z"
   },
   {
    "duration": 21,
    "start_time": "2023-07-31T03:39:08.809Z"
   },
   {
    "duration": 28,
    "start_time": "2023-07-31T03:39:08.831Z"
   },
   {
    "duration": 3,
    "start_time": "2023-07-31T03:39:08.861Z"
   },
   {
    "duration": 9,
    "start_time": "2023-07-31T03:39:08.866Z"
   },
   {
    "duration": 18,
    "start_time": "2023-07-31T03:39:08.877Z"
   },
   {
    "duration": 4,
    "start_time": "2023-07-31T03:39:08.897Z"
   },
   {
    "duration": 66,
    "start_time": "2023-07-31T03:39:08.902Z"
   },
   {
    "duration": 12,
    "start_time": "2023-07-31T03:39:08.970Z"
   },
   {
    "duration": 11,
    "start_time": "2023-07-31T03:39:08.984Z"
   },
   {
    "duration": 9,
    "start_time": "2023-07-31T03:39:08.996Z"
   },
   {
    "duration": 27,
    "start_time": "2023-07-31T03:39:09.006Z"
   },
   {
    "duration": 22,
    "start_time": "2023-07-31T03:39:09.035Z"
   },
   {
    "duration": 1056,
    "start_time": "2023-07-31T03:39:09.058Z"
   },
   {
    "duration": 7,
    "start_time": "2023-07-31T03:39:10.115Z"
   },
   {
    "duration": 1615,
    "start_time": "2023-07-31T03:39:10.123Z"
   },
   {
    "duration": 471,
    "start_time": "2023-07-31T03:39:11.740Z"
   },
   {
    "duration": 487,
    "start_time": "2023-07-31T03:39:12.213Z"
   },
   {
    "duration": 638,
    "start_time": "2023-07-31T03:39:12.702Z"
   },
   {
    "duration": 468,
    "start_time": "2023-07-31T03:39:13.346Z"
   },
   {
    "duration": 80,
    "start_time": "2023-07-31T03:39:13.816Z"
   },
   {
    "duration": 7,
    "start_time": "2023-07-31T03:39:13.898Z"
   },
   {
    "duration": 1584,
    "start_time": "2023-07-31T03:39:13.906Z"
   },
   {
    "duration": 3,
    "start_time": "2023-07-31T03:39:15.492Z"
   },
   {
    "duration": 13,
    "start_time": "2023-07-31T03:39:15.497Z"
   },
   {
    "duration": 15,
    "start_time": "2023-07-31T03:39:15.512Z"
   },
   {
    "duration": 43,
    "start_time": "2023-07-31T03:39:15.529Z"
   },
   {
    "duration": 2,
    "start_time": "2023-07-31T03:39:15.574Z"
   },
   {
    "duration": 11,
    "start_time": "2023-07-31T03:39:15.578Z"
   },
   {
    "duration": 11,
    "start_time": "2023-07-31T03:39:15.590Z"
   },
   {
    "duration": 12,
    "start_time": "2023-07-31T03:39:15.603Z"
   },
   {
    "duration": 4985,
    "start_time": "2023-07-31T03:39:15.616Z"
   },
   {
    "duration": 1258,
    "start_time": "2023-07-31T03:39:20.603Z"
   },
   {
    "duration": 29036,
    "start_time": "2023-07-31T03:39:21.953Z"
   },
   {
    "duration": 5,
    "start_time": "2023-07-31T03:39:50.990Z"
   },
   {
    "duration": 33,
    "start_time": "2023-07-31T03:39:50.997Z"
   },
   {
    "duration": 621,
    "start_time": "2023-07-31T03:39:51.032Z"
   },
   {
    "duration": 701,
    "start_time": "2023-07-31T03:39:51.655Z"
   },
   {
    "duration": 305,
    "start_time": "2023-07-31T03:39:52.358Z"
   },
   {
    "duration": 190,
    "start_time": "2023-07-31T03:39:52.665Z"
   },
   {
    "duration": 94,
    "start_time": "2023-07-31T03:39:52.859Z"
   },
   {
    "duration": 97,
    "start_time": "2023-07-31T03:39:52.962Z"
   },
   {
    "duration": 8,
    "start_time": "2023-07-31T03:39:53.061Z"
   },
   {
    "duration": 12,
    "start_time": "2023-07-31T03:39:53.071Z"
   },
   {
    "duration": 11,
    "start_time": "2023-07-31T03:39:53.084Z"
   },
   {
    "duration": 25,
    "start_time": "2023-07-31T03:39:53.097Z"
   },
   {
    "duration": 11,
    "start_time": "2023-07-31T03:39:53.124Z"
   },
   {
    "duration": 2275,
    "start_time": "2023-07-31T17:50:33.978Z"
   },
   {
    "duration": 2636,
    "start_time": "2023-07-31T17:50:36.256Z"
   },
   {
    "duration": 30,
    "start_time": "2023-07-31T17:50:38.894Z"
   },
   {
    "duration": 30,
    "start_time": "2023-07-31T17:50:38.932Z"
   },
   {
    "duration": 16,
    "start_time": "2023-07-31T17:50:38.965Z"
   },
   {
    "duration": 46,
    "start_time": "2023-07-31T17:50:38.983Z"
   },
   {
    "duration": 31,
    "start_time": "2023-07-31T17:50:39.031Z"
   },
   {
    "duration": 46,
    "start_time": "2023-07-31T17:50:39.064Z"
   },
   {
    "duration": 7,
    "start_time": "2023-07-31T17:50:39.112Z"
   },
   {
    "duration": 25,
    "start_time": "2023-07-31T17:50:39.121Z"
   },
   {
    "duration": 9,
    "start_time": "2023-07-31T17:50:39.148Z"
   },
   {
    "duration": 324,
    "start_time": "2023-07-31T17:50:39.159Z"
   },
   {
    "duration": 288,
    "start_time": "2023-07-31T17:50:39.485Z"
   },
   {
    "duration": 169,
    "start_time": "2023-07-31T17:50:39.777Z"
   },
   {
    "duration": 4,
    "start_time": "2023-07-31T17:50:39.948Z"
   },
   {
    "duration": 13,
    "start_time": "2023-07-31T17:50:39.954Z"
   },
   {
    "duration": 18,
    "start_time": "2023-07-31T17:50:39.969Z"
   },
   {
    "duration": 3,
    "start_time": "2023-07-31T17:50:39.989Z"
   },
   {
    "duration": 16,
    "start_time": "2023-07-31T17:50:39.994Z"
   },
   {
    "duration": 40,
    "start_time": "2023-07-31T17:50:40.012Z"
   },
   {
    "duration": 25,
    "start_time": "2023-07-31T17:50:40.054Z"
   },
   {
    "duration": 302,
    "start_time": "2023-07-31T17:50:40.082Z"
   },
   {
    "duration": 36,
    "start_time": "2023-07-31T17:50:40.386Z"
   },
   {
    "duration": 17,
    "start_time": "2023-07-31T17:50:40.424Z"
   },
   {
    "duration": 11,
    "start_time": "2023-07-31T17:50:40.443Z"
   },
   {
    "duration": 15,
    "start_time": "2023-07-31T17:50:40.457Z"
   },
   {
    "duration": 27,
    "start_time": "2023-07-31T17:50:40.476Z"
   },
   {
    "duration": 9,
    "start_time": "2023-07-31T17:50:40.508Z"
   },
   {
    "duration": 85,
    "start_time": "2023-07-31T17:50:40.519Z"
   },
   {
    "duration": 26,
    "start_time": "2023-07-31T17:50:40.606Z"
   },
   {
    "duration": 26,
    "start_time": "2023-07-31T17:50:40.640Z"
   },
   {
    "duration": 11,
    "start_time": "2023-07-31T17:50:40.668Z"
   },
   {
    "duration": 18,
    "start_time": "2023-07-31T17:50:40.681Z"
   },
   {
    "duration": 11,
    "start_time": "2023-07-31T17:50:40.702Z"
   },
   {
    "duration": 1340,
    "start_time": "2023-07-31T17:50:40.715Z"
   },
   {
    "duration": 9,
    "start_time": "2023-07-31T17:50:42.063Z"
   },
   {
    "duration": 1906,
    "start_time": "2023-07-31T17:50:42.075Z"
   },
   {
    "duration": 575,
    "start_time": "2023-07-31T17:50:43.983Z"
   },
   {
    "duration": 618,
    "start_time": "2023-07-31T17:50:44.560Z"
   },
   {
    "duration": 756,
    "start_time": "2023-07-31T17:50:45.179Z"
   },
   {
    "duration": 705,
    "start_time": "2023-07-31T17:50:45.941Z"
   },
   {
    "duration": 92,
    "start_time": "2023-07-31T17:50:46.648Z"
   },
   {
    "duration": 10,
    "start_time": "2023-07-31T17:50:46.742Z"
   },
   {
    "duration": 1764,
    "start_time": "2023-07-31T17:50:46.754Z"
   },
   {
    "duration": 4,
    "start_time": "2023-07-31T17:50:48.520Z"
   },
   {
    "duration": 30,
    "start_time": "2023-07-31T17:50:48.526Z"
   },
   {
    "duration": 18,
    "start_time": "2023-07-31T17:50:48.559Z"
   },
   {
    "duration": 40,
    "start_time": "2023-07-31T17:50:48.579Z"
   },
   {
    "duration": 2604,
    "start_time": "2023-07-31T17:50:48.621Z"
   },
   {
    "duration": 143,
    "start_time": "2023-07-31T17:50:51.227Z"
   },
   {
    "duration": 0,
    "start_time": "2023-07-31T17:50:51.372Z"
   },
   {
    "duration": 1,
    "start_time": "2023-07-31T17:50:51.373Z"
   },
   {
    "duration": 0,
    "start_time": "2023-07-31T17:50:51.375Z"
   },
   {
    "duration": 0,
    "start_time": "2023-07-31T17:50:51.376Z"
   },
   {
    "duration": 0,
    "start_time": "2023-07-31T17:50:51.377Z"
   },
   {
    "duration": 0,
    "start_time": "2023-07-31T17:50:51.379Z"
   },
   {
    "duration": 0,
    "start_time": "2023-07-31T17:50:51.381Z"
   },
   {
    "duration": 0,
    "start_time": "2023-07-31T17:50:51.384Z"
   },
   {
    "duration": 0,
    "start_time": "2023-07-31T17:50:51.385Z"
   },
   {
    "duration": 0,
    "start_time": "2023-07-31T17:50:51.409Z"
   },
   {
    "duration": 0,
    "start_time": "2023-07-31T17:50:51.411Z"
   },
   {
    "duration": 0,
    "start_time": "2023-07-31T17:50:51.413Z"
   },
   {
    "duration": 0,
    "start_time": "2023-07-31T17:50:51.415Z"
   },
   {
    "duration": 0,
    "start_time": "2023-07-31T17:50:51.417Z"
   },
   {
    "duration": 975,
    "start_time": "2023-07-31T17:51:06.958Z"
   },
   {
    "duration": 15185,
    "start_time": "2023-07-31T17:51:12.545Z"
   },
   {
    "duration": 15118,
    "start_time": "2023-07-31T17:54:35.374Z"
   },
   {
    "duration": 5,
    "start_time": "2023-07-31T17:54:50.494Z"
   },
   {
    "duration": 24,
    "start_time": "2023-07-31T17:54:50.500Z"
   },
   {
    "duration": 1008,
    "start_time": "2023-07-31T17:54:50.527Z"
   },
   {
    "duration": 880,
    "start_time": "2023-07-31T17:54:51.537Z"
   },
   {
    "duration": 376,
    "start_time": "2023-07-31T17:55:11.849Z"
   },
   {
    "duration": 16,
    "start_time": "2023-07-31T17:55:13.599Z"
   },
   {
    "duration": 5,
    "start_time": "2023-07-31T17:55:17.250Z"
   },
   {
    "duration": 5,
    "start_time": "2023-07-31T17:55:17.644Z"
   },
   {
    "duration": 5,
    "start_time": "2023-07-31T17:55:18.263Z"
   },
   {
    "duration": 7,
    "start_time": "2023-07-31T17:55:19.605Z"
   },
   {
    "duration": 6,
    "start_time": "2023-07-31T17:55:20.259Z"
   },
   {
    "duration": 5,
    "start_time": "2023-07-31T17:55:20.748Z"
   },
   {
    "duration": 4,
    "start_time": "2023-07-31T17:55:21.401Z"
   },
   {
    "duration": 1604,
    "start_time": "2023-07-31T17:55:32.400Z"
   },
   {
    "duration": 776,
    "start_time": "2023-07-31T17:55:34.007Z"
   },
   {
    "duration": 20,
    "start_time": "2023-07-31T17:55:34.784Z"
   },
   {
    "duration": 23,
    "start_time": "2023-07-31T17:55:34.810Z"
   },
   {
    "duration": 23,
    "start_time": "2023-07-31T17:55:34.835Z"
   },
   {
    "duration": 35,
    "start_time": "2023-07-31T17:55:34.860Z"
   },
   {
    "duration": 39,
    "start_time": "2023-07-31T17:55:34.897Z"
   },
   {
    "duration": 97,
    "start_time": "2023-07-31T17:55:34.937Z"
   },
   {
    "duration": 72,
    "start_time": "2023-07-31T17:55:35.037Z"
   },
   {
    "duration": 29,
    "start_time": "2023-07-31T17:55:35.112Z"
   },
   {
    "duration": 9,
    "start_time": "2023-07-31T17:55:35.143Z"
   },
   {
    "duration": 290,
    "start_time": "2023-07-31T17:55:35.154Z"
   },
   {
    "duration": 249,
    "start_time": "2023-07-31T17:55:35.446Z"
   },
   {
    "duration": 243,
    "start_time": "2023-07-31T17:55:35.697Z"
   },
   {
    "duration": 3,
    "start_time": "2023-07-31T17:55:35.942Z"
   },
   {
    "duration": 66,
    "start_time": "2023-07-31T17:55:35.947Z"
   },
   {
    "duration": 125,
    "start_time": "2023-07-31T17:55:36.015Z"
   },
   {
    "duration": 39,
    "start_time": "2023-07-31T17:55:36.142Z"
   },
   {
    "duration": 86,
    "start_time": "2023-07-31T17:55:36.182Z"
   },
   {
    "duration": 60,
    "start_time": "2023-07-31T17:55:36.271Z"
   },
   {
    "duration": 53,
    "start_time": "2023-07-31T17:55:36.333Z"
   },
   {
    "duration": 303,
    "start_time": "2023-07-31T17:55:36.389Z"
   },
   {
    "duration": 35,
    "start_time": "2023-07-31T17:55:36.694Z"
   },
   {
    "duration": 51,
    "start_time": "2023-07-31T17:55:36.731Z"
   },
   {
    "duration": 4,
    "start_time": "2023-07-31T17:55:36.784Z"
   },
   {
    "duration": 98,
    "start_time": "2023-07-31T17:55:36.790Z"
   },
   {
    "duration": 78,
    "start_time": "2023-07-31T17:55:36.890Z"
   },
   {
    "duration": 4,
    "start_time": "2023-07-31T17:55:36.972Z"
   },
   {
    "duration": 76,
    "start_time": "2023-07-31T17:55:36.978Z"
   },
   {
    "duration": 14,
    "start_time": "2023-07-31T17:55:37.056Z"
   },
   {
    "duration": 14,
    "start_time": "2023-07-31T17:55:37.072Z"
   },
   {
    "duration": 33,
    "start_time": "2023-07-31T17:55:37.088Z"
   },
   {
    "duration": 35,
    "start_time": "2023-07-31T17:55:37.124Z"
   },
   {
    "duration": 18,
    "start_time": "2023-07-31T17:55:37.161Z"
   },
   {
    "duration": 1110,
    "start_time": "2023-07-31T17:55:37.181Z"
   },
   {
    "duration": 18,
    "start_time": "2023-07-31T17:55:38.293Z"
   },
   {
    "duration": 1854,
    "start_time": "2023-07-31T17:55:38.313Z"
   },
   {
    "duration": 532,
    "start_time": "2023-07-31T17:55:40.169Z"
   },
   {
    "duration": 539,
    "start_time": "2023-07-31T17:55:40.704Z"
   },
   {
    "duration": 706,
    "start_time": "2023-07-31T17:55:41.245Z"
   },
   {
    "duration": 545,
    "start_time": "2023-07-31T17:55:41.953Z"
   },
   {
    "duration": 89,
    "start_time": "2023-07-31T17:55:42.499Z"
   },
   {
    "duration": 8,
    "start_time": "2023-07-31T17:55:42.590Z"
   },
   {
    "duration": 1726,
    "start_time": "2023-07-31T17:55:42.600Z"
   },
   {
    "duration": 5,
    "start_time": "2023-07-31T17:55:44.327Z"
   },
   {
    "duration": 45,
    "start_time": "2023-07-31T17:55:44.333Z"
   },
   {
    "duration": 16,
    "start_time": "2023-07-31T17:55:44.380Z"
   },
   {
    "duration": 64,
    "start_time": "2023-07-31T17:55:44.398Z"
   },
   {
    "duration": 2565,
    "start_time": "2023-07-31T17:55:44.465Z"
   },
   {
    "duration": 892,
    "start_time": "2023-07-31T17:55:47.031Z"
   },
   {
    "duration": 14826,
    "start_time": "2023-07-31T17:55:47.925Z"
   },
   {
    "duration": 6,
    "start_time": "2023-07-31T17:56:02.753Z"
   },
   {
    "duration": 57,
    "start_time": "2023-07-31T17:56:02.761Z"
   },
   {
    "duration": 901,
    "start_time": "2023-07-31T17:56:02.820Z"
   },
   {
    "duration": 1104,
    "start_time": "2023-07-31T17:56:03.726Z"
   },
   {
    "duration": 302,
    "start_time": "2023-07-31T17:56:04.833Z"
   },
   {
    "duration": 74,
    "start_time": "2023-07-31T17:56:05.139Z"
   },
   {
    "duration": 99,
    "start_time": "2023-07-31T17:56:05.225Z"
   },
   {
    "duration": 85,
    "start_time": "2023-07-31T17:56:05.326Z"
   },
   {
    "duration": 32,
    "start_time": "2023-07-31T17:56:05.413Z"
   },
   {
    "duration": 7,
    "start_time": "2023-07-31T17:56:05.447Z"
   },
   {
    "duration": 7,
    "start_time": "2023-07-31T17:56:05.457Z"
   },
   {
    "duration": 15,
    "start_time": "2023-07-31T17:56:05.466Z"
   },
   {
    "duration": 9,
    "start_time": "2023-07-31T17:56:05.483Z"
   },
   {
    "duration": 1716,
    "start_time": "2023-07-31T18:10:20.723Z"
   },
   {
    "duration": 834,
    "start_time": "2023-07-31T18:10:22.441Z"
   },
   {
    "duration": 21,
    "start_time": "2023-07-31T18:10:23.276Z"
   },
   {
    "duration": 30,
    "start_time": "2023-07-31T18:10:23.300Z"
   },
   {
    "duration": 18,
    "start_time": "2023-07-31T18:10:23.333Z"
   },
   {
    "duration": 31,
    "start_time": "2023-07-31T18:10:23.354Z"
   },
   {
    "duration": 25,
    "start_time": "2023-07-31T18:10:23.409Z"
   },
   {
    "duration": 27,
    "start_time": "2023-07-31T18:10:23.436Z"
   },
   {
    "duration": 7,
    "start_time": "2023-07-31T18:10:23.466Z"
   },
   {
    "duration": 43,
    "start_time": "2023-07-31T18:10:23.477Z"
   },
   {
    "duration": 21,
    "start_time": "2023-07-31T18:10:23.522Z"
   },
   {
    "duration": 307,
    "start_time": "2023-07-31T18:10:23.545Z"
   },
   {
    "duration": 276,
    "start_time": "2023-07-31T18:10:23.854Z"
   },
   {
    "duration": 157,
    "start_time": "2023-07-31T18:10:24.132Z"
   },
   {
    "duration": 4,
    "start_time": "2023-07-31T18:10:24.290Z"
   },
   {
    "duration": 14,
    "start_time": "2023-07-31T18:10:24.296Z"
   },
   {
    "duration": 34,
    "start_time": "2023-07-31T18:10:24.312Z"
   },
   {
    "duration": 5,
    "start_time": "2023-07-31T18:10:24.348Z"
   },
   {
    "duration": 12,
    "start_time": "2023-07-31T18:10:24.355Z"
   },
   {
    "duration": 8,
    "start_time": "2023-07-31T18:10:24.369Z"
   },
   {
    "duration": 29,
    "start_time": "2023-07-31T18:10:24.380Z"
   },
   {
    "duration": 282,
    "start_time": "2023-07-31T18:10:24.411Z"
   },
   {
    "duration": 43,
    "start_time": "2023-07-31T18:10:24.695Z"
   },
   {
    "duration": 15,
    "start_time": "2023-07-31T18:10:24.741Z"
   },
   {
    "duration": 12,
    "start_time": "2023-07-31T18:10:24.758Z"
   },
   {
    "duration": 15,
    "start_time": "2023-07-31T18:10:24.772Z"
   },
   {
    "duration": 37,
    "start_time": "2023-07-31T18:10:24.790Z"
   },
   {
    "duration": 5,
    "start_time": "2023-07-31T18:10:24.835Z"
   },
   {
    "duration": 96,
    "start_time": "2023-07-31T18:10:24.843Z"
   },
   {
    "duration": 16,
    "start_time": "2023-07-31T18:10:24.941Z"
   },
   {
    "duration": 15,
    "start_time": "2023-07-31T18:10:24.959Z"
   },
   {
    "duration": 33,
    "start_time": "2023-07-31T18:10:24.976Z"
   },
   {
    "duration": 41,
    "start_time": "2023-07-31T18:10:25.011Z"
   },
   {
    "duration": 10,
    "start_time": "2023-07-31T18:10:25.054Z"
   },
   {
    "duration": 1324,
    "start_time": "2023-07-31T18:10:25.067Z"
   },
   {
    "duration": 15,
    "start_time": "2023-07-31T18:10:26.393Z"
   },
   {
    "duration": 2015,
    "start_time": "2023-07-31T18:10:26.411Z"
   },
   {
    "duration": 578,
    "start_time": "2023-07-31T18:10:28.428Z"
   },
   {
    "duration": 696,
    "start_time": "2023-07-31T18:10:29.008Z"
   },
   {
    "duration": 783,
    "start_time": "2023-07-31T18:10:29.706Z"
   },
   {
    "duration": 580,
    "start_time": "2023-07-31T18:10:30.492Z"
   },
   {
    "duration": 100,
    "start_time": "2023-07-31T18:10:31.075Z"
   },
   {
    "duration": 11,
    "start_time": "2023-07-31T18:10:31.177Z"
   },
   {
    "duration": 2036,
    "start_time": "2023-07-31T18:10:31.190Z"
   },
   {
    "duration": 4,
    "start_time": "2023-07-31T18:10:33.230Z"
   },
   {
    "duration": 47,
    "start_time": "2023-07-31T18:10:33.237Z"
   },
   {
    "duration": 11,
    "start_time": "2023-07-31T18:10:33.286Z"
   },
   {
    "duration": 37,
    "start_time": "2023-07-31T18:10:33.300Z"
   },
   {
    "duration": 2590,
    "start_time": "2023-07-31T18:10:33.339Z"
   },
   {
    "duration": 1104,
    "start_time": "2023-07-31T18:10:35.933Z"
   },
   {
    "duration": 15372,
    "start_time": "2023-07-31T18:10:37.039Z"
   },
   {
    "duration": 12,
    "start_time": "2023-07-31T18:10:52.413Z"
   },
   {
    "duration": 62,
    "start_time": "2023-07-31T18:10:52.428Z"
   },
   {
    "duration": 851,
    "start_time": "2023-07-31T18:10:52.493Z"
   },
   {
    "duration": 1231,
    "start_time": "2023-07-31T18:10:53.409Z"
   },
   {
    "duration": 465,
    "start_time": "2023-07-31T18:10:54.644Z"
   },
   {
    "duration": 10,
    "start_time": "2023-07-31T18:10:55.115Z"
   },
   {
    "duration": 125,
    "start_time": "2023-07-31T18:10:55.131Z"
   },
   {
    "duration": 7,
    "start_time": "2023-07-31T18:10:55.258Z"
   },
   {
    "duration": 9,
    "start_time": "2023-07-31T18:10:55.268Z"
   },
   {
    "duration": 32,
    "start_time": "2023-07-31T18:10:55.279Z"
   },
   {
    "duration": 67,
    "start_time": "2023-07-31T18:10:55.313Z"
   },
   {
    "duration": 32,
    "start_time": "2023-07-31T18:10:55.382Z"
   },
   {
    "duration": 45,
    "start_time": "2023-07-31T18:10:55.418Z"
   },
   {
    "duration": 7,
    "start_time": "2023-07-31T18:15:51.807Z"
   },
   {
    "duration": 5,
    "start_time": "2023-07-31T18:16:01.369Z"
   },
   {
    "duration": 6,
    "start_time": "2023-07-31T18:16:17.291Z"
   },
   {
    "duration": 75,
    "start_time": "2023-07-31T18:26:22.246Z"
   },
   {
    "duration": 86,
    "start_time": "2023-07-31T18:26:38.947Z"
   },
   {
    "duration": 77,
    "start_time": "2023-07-31T18:26:44.215Z"
   },
   {
    "duration": 6,
    "start_time": "2023-07-31T18:26:54.446Z"
   },
   {
    "duration": 218,
    "start_time": "2023-07-31T18:27:29.955Z"
   },
   {
    "duration": 6,
    "start_time": "2023-07-31T18:27:33.964Z"
   },
   {
    "duration": 8,
    "start_time": "2023-07-31T18:27:48.520Z"
   },
   {
    "duration": 7,
    "start_time": "2023-07-31T18:28:08.902Z"
   },
   {
    "duration": 1705,
    "start_time": "2023-07-31T20:05:21.245Z"
   },
   {
    "duration": 783,
    "start_time": "2023-07-31T20:05:22.952Z"
   },
   {
    "duration": 26,
    "start_time": "2023-07-31T20:05:23.737Z"
   },
   {
    "duration": 20,
    "start_time": "2023-07-31T20:05:23.766Z"
   },
   {
    "duration": 33,
    "start_time": "2023-07-31T20:05:23.789Z"
   },
   {
    "duration": 125,
    "start_time": "2023-07-31T20:05:23.824Z"
   },
   {
    "duration": 26,
    "start_time": "2023-07-31T20:05:23.952Z"
   },
   {
    "duration": 37,
    "start_time": "2023-07-31T20:05:23.981Z"
   },
   {
    "duration": 25,
    "start_time": "2023-07-31T20:05:24.026Z"
   },
   {
    "duration": 13,
    "start_time": "2023-07-31T20:05:24.052Z"
   },
   {
    "duration": 43,
    "start_time": "2023-07-31T20:05:24.066Z"
   },
   {
    "duration": 280,
    "start_time": "2023-07-31T20:05:24.112Z"
   },
   {
    "duration": 262,
    "start_time": "2023-07-31T20:05:24.394Z"
   },
   {
    "duration": 172,
    "start_time": "2023-07-31T20:05:24.660Z"
   },
   {
    "duration": 3,
    "start_time": "2023-07-31T20:05:24.834Z"
   },
   {
    "duration": 33,
    "start_time": "2023-07-31T20:05:24.839Z"
   },
   {
    "duration": 35,
    "start_time": "2023-07-31T20:05:24.875Z"
   },
   {
    "duration": 44,
    "start_time": "2023-07-31T20:05:24.912Z"
   },
   {
    "duration": 80,
    "start_time": "2023-07-31T20:05:24.958Z"
   },
   {
    "duration": 26,
    "start_time": "2023-07-31T20:05:25.040Z"
   },
   {
    "duration": 26,
    "start_time": "2023-07-31T20:05:25.067Z"
   },
   {
    "duration": 263,
    "start_time": "2023-07-31T20:05:25.094Z"
   },
   {
    "duration": 20,
    "start_time": "2023-07-31T20:05:25.359Z"
   },
   {
    "duration": 40,
    "start_time": "2023-07-31T20:05:25.381Z"
   },
   {
    "duration": 9,
    "start_time": "2023-07-31T20:05:25.432Z"
   },
   {
    "duration": 14,
    "start_time": "2023-07-31T20:05:25.443Z"
   },
   {
    "duration": 33,
    "start_time": "2023-07-31T20:05:25.459Z"
   },
   {
    "duration": 7,
    "start_time": "2023-07-31T20:05:25.494Z"
   },
   {
    "duration": 90,
    "start_time": "2023-07-31T20:05:25.503Z"
   },
   {
    "duration": 22,
    "start_time": "2023-07-31T20:05:25.595Z"
   },
   {
    "duration": 15,
    "start_time": "2023-07-31T20:05:25.626Z"
   },
   {
    "duration": 9,
    "start_time": "2023-07-31T20:05:25.643Z"
   },
   {
    "duration": 38,
    "start_time": "2023-07-31T20:05:25.655Z"
   },
   {
    "duration": 39,
    "start_time": "2023-07-31T20:05:25.695Z"
   },
   {
    "duration": 1236,
    "start_time": "2023-07-31T20:05:25.736Z"
   },
   {
    "duration": 8,
    "start_time": "2023-07-31T20:05:26.975Z"
   },
   {
    "duration": 1907,
    "start_time": "2023-07-31T20:05:26.986Z"
   },
   {
    "duration": 606,
    "start_time": "2023-07-31T20:05:28.895Z"
   },
   {
    "duration": 632,
    "start_time": "2023-07-31T20:05:29.504Z"
   },
   {
    "duration": 743,
    "start_time": "2023-07-31T20:05:30.138Z"
   },
   {
    "duration": 562,
    "start_time": "2023-07-31T20:05:30.885Z"
   },
   {
    "duration": 91,
    "start_time": "2023-07-31T20:05:31.448Z"
   },
   {
    "duration": 9,
    "start_time": "2023-07-31T20:05:31.541Z"
   },
   {
    "duration": 1869,
    "start_time": "2023-07-31T20:05:31.552Z"
   },
   {
    "duration": 5,
    "start_time": "2023-07-31T20:05:33.424Z"
   },
   {
    "duration": 17,
    "start_time": "2023-07-31T20:05:33.431Z"
   },
   {
    "duration": 20,
    "start_time": "2023-07-31T20:05:33.450Z"
   },
   {
    "duration": 30,
    "start_time": "2023-07-31T20:05:33.473Z"
   },
   {
    "duration": 2657,
    "start_time": "2023-07-31T20:05:33.506Z"
   },
   {
    "duration": 844,
    "start_time": "2023-07-31T20:05:36.166Z"
   },
   {
    "duration": 14765,
    "start_time": "2023-07-31T20:05:37.013Z"
   },
   {
    "duration": 6,
    "start_time": "2023-07-31T20:05:51.780Z"
   },
   {
    "duration": 28,
    "start_time": "2023-07-31T20:05:51.788Z"
   },
   {
    "duration": 996,
    "start_time": "2023-07-31T20:05:51.818Z"
   },
   {
    "duration": 1108,
    "start_time": "2023-07-31T20:05:52.821Z"
   },
   {
    "duration": 195,
    "start_time": "2023-07-31T20:05:54.022Z"
   },
   {
    "duration": 112,
    "start_time": "2023-07-31T20:05:54.224Z"
   },
   {
    "duration": 75,
    "start_time": "2023-07-31T20:05:54.339Z"
   },
   {
    "duration": 119,
    "start_time": "2023-07-31T20:05:54.416Z"
   },
   {
    "duration": 11,
    "start_time": "2023-07-31T20:05:54.536Z"
   },
   {
    "duration": 7,
    "start_time": "2023-07-31T20:05:54.549Z"
   },
   {
    "duration": 37,
    "start_time": "2023-07-31T20:05:54.558Z"
   },
   {
    "duration": 34,
    "start_time": "2023-07-31T20:05:54.598Z"
   },
   {
    "duration": 7,
    "start_time": "2023-07-31T20:05:54.634Z"
   },
   {
    "duration": 1536,
    "start_time": "2023-07-31T20:07:53.368Z"
   },
   {
    "duration": 791,
    "start_time": "2023-07-31T20:07:54.907Z"
   },
   {
    "duration": 28,
    "start_time": "2023-07-31T20:07:55.700Z"
   },
   {
    "duration": 25,
    "start_time": "2023-07-31T20:07:55.730Z"
   },
   {
    "duration": 26,
    "start_time": "2023-07-31T20:07:55.759Z"
   },
   {
    "duration": 55,
    "start_time": "2023-07-31T20:07:55.787Z"
   },
   {
    "duration": 76,
    "start_time": "2023-07-31T20:07:55.845Z"
   },
   {
    "duration": 71,
    "start_time": "2023-07-31T20:07:55.924Z"
   },
   {
    "duration": 54,
    "start_time": "2023-07-31T20:07:55.998Z"
   },
   {
    "duration": 19,
    "start_time": "2023-07-31T20:07:56.054Z"
   },
   {
    "duration": 16,
    "start_time": "2023-07-31T20:07:56.076Z"
   },
   {
    "duration": 288,
    "start_time": "2023-07-31T20:07:56.094Z"
   },
   {
    "duration": 234,
    "start_time": "2023-07-31T20:07:56.384Z"
   },
   {
    "duration": 135,
    "start_time": "2023-07-31T20:07:56.621Z"
   },
   {
    "duration": 3,
    "start_time": "2023-07-31T20:07:56.759Z"
   },
   {
    "duration": 14,
    "start_time": "2023-07-31T20:07:56.764Z"
   },
   {
    "duration": 10,
    "start_time": "2023-07-31T20:07:56.780Z"
   },
   {
    "duration": 4,
    "start_time": "2023-07-31T20:07:56.808Z"
   },
   {
    "duration": 9,
    "start_time": "2023-07-31T20:07:56.814Z"
   },
   {
    "duration": 7,
    "start_time": "2023-07-31T20:07:56.826Z"
   },
   {
    "duration": 28,
    "start_time": "2023-07-31T20:07:56.835Z"
   },
   {
    "duration": 320,
    "start_time": "2023-07-31T20:07:56.866Z"
   },
   {
    "duration": 29,
    "start_time": "2023-07-31T20:07:57.188Z"
   },
   {
    "duration": 24,
    "start_time": "2023-07-31T20:07:57.218Z"
   },
   {
    "duration": 14,
    "start_time": "2023-07-31T20:07:57.244Z"
   },
   {
    "duration": 21,
    "start_time": "2023-07-31T20:07:57.261Z"
   },
   {
    "duration": 70,
    "start_time": "2023-07-31T20:07:57.285Z"
   },
   {
    "duration": 4,
    "start_time": "2023-07-31T20:07:57.357Z"
   },
   {
    "duration": 58,
    "start_time": "2023-07-31T20:07:57.362Z"
   },
   {
    "duration": 14,
    "start_time": "2023-07-31T20:07:57.422Z"
   },
   {
    "duration": 26,
    "start_time": "2023-07-31T20:07:57.438Z"
   },
   {
    "duration": 14,
    "start_time": "2023-07-31T20:07:57.467Z"
   },
   {
    "duration": 56,
    "start_time": "2023-07-31T20:07:57.484Z"
   },
   {
    "duration": 14,
    "start_time": "2023-07-31T20:07:57.542Z"
   },
   {
    "duration": 1077,
    "start_time": "2023-07-31T20:07:57.558Z"
   },
   {
    "duration": 9,
    "start_time": "2023-07-31T20:07:58.638Z"
   },
   {
    "duration": 1741,
    "start_time": "2023-07-31T20:07:58.649Z"
   },
   {
    "duration": 544,
    "start_time": "2023-07-31T20:08:00.392Z"
   },
   {
    "duration": 536,
    "start_time": "2023-07-31T20:08:00.938Z"
   },
   {
    "duration": 728,
    "start_time": "2023-07-31T20:08:01.477Z"
   },
   {
    "duration": 606,
    "start_time": "2023-07-31T20:08:02.212Z"
   },
   {
    "duration": 116,
    "start_time": "2023-07-31T20:08:02.820Z"
   },
   {
    "duration": 10,
    "start_time": "2023-07-31T20:08:02.939Z"
   },
   {
    "duration": 1843,
    "start_time": "2023-07-31T20:08:02.952Z"
   },
   {
    "duration": 11,
    "start_time": "2023-07-31T20:08:04.798Z"
   },
   {
    "duration": 39,
    "start_time": "2023-07-31T20:08:04.812Z"
   },
   {
    "duration": 26,
    "start_time": "2023-07-31T20:08:04.854Z"
   },
   {
    "duration": 50,
    "start_time": "2023-07-31T20:08:04.883Z"
   },
   {
    "duration": 2453,
    "start_time": "2023-07-31T20:08:04.935Z"
   },
   {
    "duration": 1024,
    "start_time": "2023-07-31T20:08:07.390Z"
   },
   {
    "duration": 14255,
    "start_time": "2023-07-31T20:08:08.420Z"
   },
   {
    "duration": 6,
    "start_time": "2023-07-31T20:08:22.677Z"
   },
   {
    "duration": 44,
    "start_time": "2023-07-31T20:08:22.685Z"
   },
   {
    "duration": 894,
    "start_time": "2023-07-31T20:08:22.731Z"
   },
   {
    "duration": 1085,
    "start_time": "2023-07-31T20:08:23.627Z"
   },
   {
    "duration": 1703,
    "start_time": "2023-07-31T20:08:24.714Z"
   },
   {
    "duration": 103,
    "start_time": "2023-07-31T20:08:26.433Z"
   },
   {
    "duration": 123,
    "start_time": "2023-07-31T20:08:26.609Z"
   },
   {
    "duration": 26,
    "start_time": "2023-07-31T20:08:26.734Z"
   },
   {
    "duration": 34,
    "start_time": "2023-07-31T20:08:26.763Z"
   },
   {
    "duration": 31,
    "start_time": "2023-07-31T20:08:26.799Z"
   },
   {
    "duration": 69,
    "start_time": "2023-07-31T20:08:26.832Z"
   },
   {
    "duration": 37,
    "start_time": "2023-07-31T20:08:26.903Z"
   },
   {
    "duration": 32,
    "start_time": "2023-07-31T20:08:26.942Z"
   },
   {
    "duration": 53,
    "start_time": "2023-08-01T03:54:23.474Z"
   },
   {
    "duration": 1564,
    "start_time": "2023-08-01T03:54:32.072Z"
   },
   {
    "duration": 1906,
    "start_time": "2023-08-01T03:54:33.638Z"
   },
   {
    "duration": 17,
    "start_time": "2023-08-01T03:54:35.545Z"
   },
   {
    "duration": 14,
    "start_time": "2023-08-01T03:54:35.564Z"
   },
   {
    "duration": 14,
    "start_time": "2023-08-01T03:54:35.580Z"
   },
   {
    "duration": 34,
    "start_time": "2023-08-01T03:54:35.595Z"
   },
   {
    "duration": 39,
    "start_time": "2023-08-01T03:54:35.631Z"
   },
   {
    "duration": 33,
    "start_time": "2023-08-01T03:54:35.671Z"
   },
   {
    "duration": 17,
    "start_time": "2023-08-01T03:54:35.705Z"
   },
   {
    "duration": 18,
    "start_time": "2023-08-01T03:54:35.724Z"
   },
   {
    "duration": 12,
    "start_time": "2023-08-01T03:54:35.744Z"
   },
   {
    "duration": 243,
    "start_time": "2023-08-01T03:54:35.757Z"
   },
   {
    "duration": 202,
    "start_time": "2023-08-01T03:54:36.001Z"
   },
   {
    "duration": 101,
    "start_time": "2023-08-01T03:54:36.204Z"
   },
   {
    "duration": 2,
    "start_time": "2023-08-01T03:54:36.307Z"
   },
   {
    "duration": 11,
    "start_time": "2023-08-01T03:54:36.311Z"
   },
   {
    "duration": 4,
    "start_time": "2023-08-01T03:54:36.324Z"
   },
   {
    "duration": 4,
    "start_time": "2023-08-01T03:54:36.329Z"
   },
   {
    "duration": 6,
    "start_time": "2023-08-01T03:54:36.334Z"
   },
   {
    "duration": 5,
    "start_time": "2023-08-01T03:54:36.341Z"
   },
   {
    "duration": 11,
    "start_time": "2023-08-01T03:54:36.347Z"
   },
   {
    "duration": 224,
    "start_time": "2023-08-01T03:54:36.359Z"
   },
   {
    "duration": 21,
    "start_time": "2023-08-01T03:54:36.585Z"
   },
   {
    "duration": 11,
    "start_time": "2023-08-01T03:54:36.608Z"
   },
   {
    "duration": 4,
    "start_time": "2023-08-01T03:54:36.620Z"
   },
   {
    "duration": 9,
    "start_time": "2023-08-01T03:54:36.625Z"
   },
   {
    "duration": 13,
    "start_time": "2023-08-01T03:54:36.635Z"
   },
   {
    "duration": 3,
    "start_time": "2023-08-01T03:54:36.652Z"
   },
   {
    "duration": 55,
    "start_time": "2023-08-01T03:54:36.657Z"
   },
   {
    "duration": 13,
    "start_time": "2023-08-01T03:54:36.713Z"
   },
   {
    "duration": 11,
    "start_time": "2023-08-01T03:54:36.727Z"
   },
   {
    "duration": 7,
    "start_time": "2023-08-01T03:54:36.740Z"
   },
   {
    "duration": 14,
    "start_time": "2023-08-01T03:54:36.748Z"
   },
   {
    "duration": 5,
    "start_time": "2023-08-01T03:54:36.763Z"
   },
   {
    "duration": 857,
    "start_time": "2023-08-01T03:54:36.799Z"
   },
   {
    "duration": 680,
    "start_time": "2023-08-01T03:54:37.658Z"
   },
   {
    "duration": 6,
    "start_time": "2023-08-01T03:54:38.340Z"
   },
   {
    "duration": 1243,
    "start_time": "2023-08-01T03:54:38.347Z"
   },
   {
    "duration": 385,
    "start_time": "2023-08-01T03:54:39.591Z"
   },
   {
    "duration": 379,
    "start_time": "2023-08-01T03:54:39.978Z"
   },
   {
    "duration": 463,
    "start_time": "2023-08-01T03:54:40.358Z"
   },
   {
    "duration": 376,
    "start_time": "2023-08-01T03:54:40.822Z"
   },
   {
    "duration": 46,
    "start_time": "2023-08-01T03:54:41.200Z"
   },
   {
    "duration": 5,
    "start_time": "2023-08-01T03:54:41.247Z"
   },
   {
    "duration": 1204,
    "start_time": "2023-08-01T03:54:41.253Z"
   },
   {
    "duration": 3,
    "start_time": "2023-08-01T03:54:42.458Z"
   },
   {
    "duration": 5,
    "start_time": "2023-08-01T03:54:42.462Z"
   },
   {
    "duration": 8,
    "start_time": "2023-08-01T03:54:42.468Z"
   },
   {
    "duration": 26,
    "start_time": "2023-08-01T03:54:42.477Z"
   },
   {
    "duration": 2422,
    "start_time": "2023-08-01T03:54:42.504Z"
   },
   {
    "duration": 476,
    "start_time": "2023-08-01T03:54:44.927Z"
   },
   {
    "duration": 14812,
    "start_time": "2023-08-01T03:54:45.405Z"
   },
   {
    "duration": 4,
    "start_time": "2023-08-01T03:55:00.218Z"
   },
   {
    "duration": 77,
    "start_time": "2023-08-01T03:55:00.224Z"
   },
   {
    "duration": 502,
    "start_time": "2023-08-01T03:55:00.302Z"
   },
   {
    "duration": 602,
    "start_time": "2023-08-01T03:55:00.806Z"
   },
   {
    "duration": 395,
    "start_time": "2023-08-01T03:55:01.410Z"
   },
   {
    "duration": 194,
    "start_time": "2023-08-01T03:55:01.807Z"
   },
   {
    "duration": 217,
    "start_time": "2023-08-01T03:55:02.003Z"
   },
   {
    "duration": 31,
    "start_time": "2023-08-01T03:55:02.221Z"
   },
   {
    "duration": 68,
    "start_time": "2023-08-01T03:55:02.253Z"
   },
   {
    "duration": 78,
    "start_time": "2023-08-01T03:55:02.322Z"
   },
   {
    "duration": 70,
    "start_time": "2023-08-01T03:55:02.402Z"
   },
   {
    "duration": 54,
    "start_time": "2023-08-01T03:55:02.474Z"
   },
   {
    "duration": 41,
    "start_time": "2023-08-01T03:55:02.530Z"
   },
   {
    "duration": 622,
    "start_time": "2023-08-01T03:55:20.610Z"
   },
   {
    "duration": 568,
    "start_time": "2023-08-01T03:55:33.348Z"
   },
   {
    "duration": 641,
    "start_time": "2023-08-01T03:55:44.836Z"
   },
   {
    "duration": 629,
    "start_time": "2023-08-01T03:55:58.826Z"
   },
   {
    "duration": 174,
    "start_time": "2023-08-01T03:57:06.106Z"
   },
   {
    "duration": 767,
    "start_time": "2023-08-01T03:57:28.584Z"
   },
   {
    "duration": 685,
    "start_time": "2023-08-01T03:57:37.688Z"
   },
   {
    "duration": 1711,
    "start_time": "2023-08-01T16:07:58.697Z"
   },
   {
    "duration": 3353,
    "start_time": "2023-08-01T16:08:00.411Z"
   },
   {
    "duration": 24,
    "start_time": "2023-08-01T16:08:03.766Z"
   },
   {
    "duration": 17,
    "start_time": "2023-08-01T16:08:03.793Z"
   },
   {
    "duration": 29,
    "start_time": "2023-08-01T16:08:03.812Z"
   },
   {
    "duration": 31,
    "start_time": "2023-08-01T16:08:03.843Z"
   },
   {
    "duration": 23,
    "start_time": "2023-08-01T16:08:03.877Z"
   },
   {
    "duration": 35,
    "start_time": "2023-08-01T16:08:03.902Z"
   },
   {
    "duration": 22,
    "start_time": "2023-08-01T16:08:03.939Z"
   },
   {
    "duration": 9,
    "start_time": "2023-08-01T16:08:03.964Z"
   },
   {
    "duration": 22,
    "start_time": "2023-08-01T16:08:03.975Z"
   },
   {
    "duration": 294,
    "start_time": "2023-08-01T16:08:03.999Z"
   },
   {
    "duration": 231,
    "start_time": "2023-08-01T16:08:04.294Z"
   },
   {
    "duration": 133,
    "start_time": "2023-08-01T16:08:04.527Z"
   },
   {
    "duration": 5,
    "start_time": "2023-08-01T16:08:04.662Z"
   },
   {
    "duration": 7,
    "start_time": "2023-08-01T16:08:04.669Z"
   },
   {
    "duration": 33,
    "start_time": "2023-08-01T16:08:04.678Z"
   },
   {
    "duration": 4,
    "start_time": "2023-08-01T16:08:04.712Z"
   },
   {
    "duration": 6,
    "start_time": "2023-08-01T16:08:04.717Z"
   },
   {
    "duration": 6,
    "start_time": "2023-08-01T16:08:04.724Z"
   },
   {
    "duration": 38,
    "start_time": "2023-08-01T16:08:04.731Z"
   },
   {
    "duration": 264,
    "start_time": "2023-08-01T16:08:04.771Z"
   },
   {
    "duration": 25,
    "start_time": "2023-08-01T16:08:05.037Z"
   },
   {
    "duration": 16,
    "start_time": "2023-08-01T16:08:05.065Z"
   },
   {
    "duration": 3,
    "start_time": "2023-08-01T16:08:05.083Z"
   },
   {
    "duration": 11,
    "start_time": "2023-08-01T16:08:05.088Z"
   },
   {
    "duration": 20,
    "start_time": "2023-08-01T16:08:05.100Z"
   },
   {
    "duration": 9,
    "start_time": "2023-08-01T16:08:05.123Z"
   },
   {
    "duration": 75,
    "start_time": "2023-08-01T16:08:05.133Z"
   },
   {
    "duration": 14,
    "start_time": "2023-08-01T16:08:05.210Z"
   },
   {
    "duration": 13,
    "start_time": "2023-08-01T16:08:05.226Z"
   },
   {
    "duration": 10,
    "start_time": "2023-08-01T16:08:05.257Z"
   },
   {
    "duration": 28,
    "start_time": "2023-08-01T16:08:05.269Z"
   },
   {
    "duration": 22,
    "start_time": "2023-08-01T16:08:05.298Z"
   },
   {
    "duration": 1126,
    "start_time": "2023-08-01T16:08:05.322Z"
   },
   {
    "duration": 668,
    "start_time": "2023-08-01T16:08:06.451Z"
   },
   {
    "duration": 6,
    "start_time": "2023-08-01T16:08:07.121Z"
   },
   {
    "duration": 1742,
    "start_time": "2023-08-01T16:08:07.129Z"
   },
   {
    "duration": 544,
    "start_time": "2023-08-01T16:08:08.874Z"
   },
   {
    "duration": 468,
    "start_time": "2023-08-01T16:08:09.420Z"
   },
   {
    "duration": 615,
    "start_time": "2023-08-01T16:08:09.890Z"
   },
   {
    "duration": 516,
    "start_time": "2023-08-01T16:08:10.507Z"
   },
   {
    "duration": 3,
    "start_time": "2023-08-01T16:08:11.026Z"
   },
   {
    "duration": 120,
    "start_time": "2023-08-01T16:08:11.031Z"
   },
   {
    "duration": 0,
    "start_time": "2023-08-01T16:08:11.157Z"
   },
   {
    "duration": 1,
    "start_time": "2023-08-01T16:08:11.159Z"
   },
   {
    "duration": 0,
    "start_time": "2023-08-01T16:08:11.161Z"
   },
   {
    "duration": 0,
    "start_time": "2023-08-01T16:08:11.162Z"
   },
   {
    "duration": 0,
    "start_time": "2023-08-01T16:08:11.163Z"
   },
   {
    "duration": 0,
    "start_time": "2023-08-01T16:08:11.164Z"
   },
   {
    "duration": 0,
    "start_time": "2023-08-01T16:08:11.165Z"
   },
   {
    "duration": 0,
    "start_time": "2023-08-01T16:08:11.166Z"
   },
   {
    "duration": 0,
    "start_time": "2023-08-01T16:08:11.168Z"
   },
   {
    "duration": 0,
    "start_time": "2023-08-01T16:08:11.169Z"
   },
   {
    "duration": 0,
    "start_time": "2023-08-01T16:08:11.170Z"
   },
   {
    "duration": 0,
    "start_time": "2023-08-01T16:08:11.171Z"
   },
   {
    "duration": 0,
    "start_time": "2023-08-01T16:08:11.174Z"
   },
   {
    "duration": 0,
    "start_time": "2023-08-01T16:08:11.175Z"
   },
   {
    "duration": 0,
    "start_time": "2023-08-01T16:08:11.176Z"
   },
   {
    "duration": 0,
    "start_time": "2023-08-01T16:08:11.178Z"
   },
   {
    "duration": 0,
    "start_time": "2023-08-01T16:08:11.179Z"
   },
   {
    "duration": 0,
    "start_time": "2023-08-01T16:08:11.181Z"
   },
   {
    "duration": 0,
    "start_time": "2023-08-01T16:08:11.182Z"
   },
   {
    "duration": 0,
    "start_time": "2023-08-01T16:08:11.183Z"
   },
   {
    "duration": 0,
    "start_time": "2023-08-01T16:08:11.184Z"
   },
   {
    "duration": 0,
    "start_time": "2023-08-01T16:08:11.185Z"
   },
   {
    "duration": 0,
    "start_time": "2023-08-01T16:08:11.186Z"
   },
   {
    "duration": 0,
    "start_time": "2023-08-01T16:08:11.187Z"
   },
   {
    "duration": 0,
    "start_time": "2023-08-01T16:08:11.188Z"
   },
   {
    "duration": 13,
    "start_time": "2023-08-01T16:09:57.647Z"
   },
   {
    "duration": 1544,
    "start_time": "2023-08-01T16:10:10.808Z"
   },
   {
    "duration": 837,
    "start_time": "2023-08-01T16:10:12.354Z"
   },
   {
    "duration": 20,
    "start_time": "2023-08-01T16:10:13.193Z"
   },
   {
    "duration": 16,
    "start_time": "2023-08-01T16:10:13.215Z"
   },
   {
    "duration": 40,
    "start_time": "2023-08-01T16:10:13.232Z"
   },
   {
    "duration": 24,
    "start_time": "2023-08-01T16:10:13.278Z"
   },
   {
    "duration": 19,
    "start_time": "2023-08-01T16:10:13.304Z"
   },
   {
    "duration": 41,
    "start_time": "2023-08-01T16:10:13.325Z"
   },
   {
    "duration": 6,
    "start_time": "2023-08-01T16:10:13.368Z"
   },
   {
    "duration": 4,
    "start_time": "2023-08-01T16:10:13.378Z"
   },
   {
    "duration": 7,
    "start_time": "2023-08-01T16:10:13.384Z"
   },
   {
    "duration": 287,
    "start_time": "2023-08-01T16:10:13.393Z"
   },
   {
    "duration": 241,
    "start_time": "2023-08-01T16:10:13.682Z"
   },
   {
    "duration": 152,
    "start_time": "2023-08-01T16:10:13.925Z"
   },
   {
    "duration": 4,
    "start_time": "2023-08-01T16:10:14.080Z"
   },
   {
    "duration": 19,
    "start_time": "2023-08-01T16:10:14.086Z"
   },
   {
    "duration": 14,
    "start_time": "2023-08-01T16:10:14.107Z"
   },
   {
    "duration": 5,
    "start_time": "2023-08-01T16:10:14.123Z"
   },
   {
    "duration": 6,
    "start_time": "2023-08-01T16:10:14.130Z"
   },
   {
    "duration": 6,
    "start_time": "2023-08-01T16:10:14.138Z"
   },
   {
    "duration": 44,
    "start_time": "2023-08-01T16:10:14.146Z"
   },
   {
    "duration": 264,
    "start_time": "2023-08-01T16:10:14.192Z"
   },
   {
    "duration": 28,
    "start_time": "2023-08-01T16:10:14.459Z"
   },
   {
    "duration": 12,
    "start_time": "2023-08-01T16:10:14.489Z"
   },
   {
    "duration": 7,
    "start_time": "2023-08-01T16:10:14.502Z"
   },
   {
    "duration": 30,
    "start_time": "2023-08-01T16:10:14.511Z"
   },
   {
    "duration": 39,
    "start_time": "2023-08-01T16:10:14.543Z"
   },
   {
    "duration": 4,
    "start_time": "2023-08-01T16:10:14.585Z"
   },
   {
    "duration": 67,
    "start_time": "2023-08-01T16:10:14.590Z"
   },
   {
    "duration": 17,
    "start_time": "2023-08-01T16:10:14.659Z"
   },
   {
    "duration": 32,
    "start_time": "2023-08-01T16:10:14.678Z"
   },
   {
    "duration": 10,
    "start_time": "2023-08-01T16:10:14.712Z"
   },
   {
    "duration": 35,
    "start_time": "2023-08-01T16:10:14.724Z"
   },
   {
    "duration": 13,
    "start_time": "2023-08-01T16:10:14.762Z"
   },
   {
    "duration": 993,
    "start_time": "2023-08-01T16:10:14.778Z"
   },
   {
    "duration": 709,
    "start_time": "2023-08-01T16:10:15.773Z"
   },
   {
    "duration": 9,
    "start_time": "2023-08-01T16:10:16.484Z"
   },
   {
    "duration": 1621,
    "start_time": "2023-08-01T16:10:16.495Z"
   },
   {
    "duration": 490,
    "start_time": "2023-08-01T16:10:18.118Z"
   },
   {
    "duration": 577,
    "start_time": "2023-08-01T16:10:18.609Z"
   },
   {
    "duration": 661,
    "start_time": "2023-08-01T16:10:19.189Z"
   },
   {
    "duration": 529,
    "start_time": "2023-08-01T16:10:19.856Z"
   },
   {
    "duration": 3,
    "start_time": "2023-08-01T16:10:20.386Z"
   },
   {
    "duration": 31,
    "start_time": "2023-08-01T16:10:20.390Z"
   },
   {
    "duration": 120,
    "start_time": "2023-08-01T16:10:20.422Z"
   },
   {
    "duration": 0,
    "start_time": "2023-08-01T16:10:20.543Z"
   },
   {
    "duration": 0,
    "start_time": "2023-08-01T16:10:20.544Z"
   },
   {
    "duration": 0,
    "start_time": "2023-08-01T16:10:20.545Z"
   },
   {
    "duration": 0,
    "start_time": "2023-08-01T16:10:20.546Z"
   },
   {
    "duration": 0,
    "start_time": "2023-08-01T16:10:20.547Z"
   },
   {
    "duration": 0,
    "start_time": "2023-08-01T16:10:20.548Z"
   },
   {
    "duration": 0,
    "start_time": "2023-08-01T16:10:20.549Z"
   },
   {
    "duration": 0,
    "start_time": "2023-08-01T16:10:20.551Z"
   },
   {
    "duration": 0,
    "start_time": "2023-08-01T16:10:20.552Z"
   },
   {
    "duration": 0,
    "start_time": "2023-08-01T16:10:20.553Z"
   },
   {
    "duration": 0,
    "start_time": "2023-08-01T16:10:20.555Z"
   },
   {
    "duration": 0,
    "start_time": "2023-08-01T16:10:20.557Z"
   },
   {
    "duration": 0,
    "start_time": "2023-08-01T16:10:20.558Z"
   },
   {
    "duration": 0,
    "start_time": "2023-08-01T16:10:20.559Z"
   },
   {
    "duration": 0,
    "start_time": "2023-08-01T16:10:20.561Z"
   },
   {
    "duration": 0,
    "start_time": "2023-08-01T16:10:20.562Z"
   },
   {
    "duration": 0,
    "start_time": "2023-08-01T16:10:20.563Z"
   },
   {
    "duration": 0,
    "start_time": "2023-08-01T16:10:20.565Z"
   },
   {
    "duration": 0,
    "start_time": "2023-08-01T16:10:20.566Z"
   },
   {
    "duration": 0,
    "start_time": "2023-08-01T16:10:20.567Z"
   },
   {
    "duration": 1,
    "start_time": "2023-08-01T16:10:20.568Z"
   },
   {
    "duration": 0,
    "start_time": "2023-08-01T16:10:20.570Z"
   },
   {
    "duration": 0,
    "start_time": "2023-08-01T16:10:20.571Z"
   },
   {
    "duration": 0,
    "start_time": "2023-08-01T16:10:20.573Z"
   },
   {
    "duration": 107,
    "start_time": "2023-08-01T16:13:03.338Z"
   },
   {
    "duration": 124,
    "start_time": "2023-08-01T16:54:32.496Z"
   },
   {
    "duration": 6,
    "start_time": "2023-08-01T16:54:44.506Z"
   },
   {
    "duration": 12,
    "start_time": "2023-08-01T16:57:50.802Z"
   },
   {
    "duration": 144,
    "start_time": "2023-08-01T16:57:51.473Z"
   },
   {
    "duration": 2125,
    "start_time": "2023-08-01T16:58:09.256Z"
   },
   {
    "duration": 1022,
    "start_time": "2023-08-01T16:58:11.384Z"
   },
   {
    "duration": 21,
    "start_time": "2023-08-01T16:58:12.410Z"
   },
   {
    "duration": 28,
    "start_time": "2023-08-01T16:58:12.433Z"
   },
   {
    "duration": 23,
    "start_time": "2023-08-01T16:58:12.464Z"
   },
   {
    "duration": 40,
    "start_time": "2023-08-01T16:58:12.489Z"
   },
   {
    "duration": 35,
    "start_time": "2023-08-01T16:58:12.531Z"
   },
   {
    "duration": 48,
    "start_time": "2023-08-01T16:58:12.568Z"
   },
   {
    "duration": 4,
    "start_time": "2023-08-01T16:58:12.621Z"
   },
   {
    "duration": 32,
    "start_time": "2023-08-01T16:58:12.627Z"
   },
   {
    "duration": 8,
    "start_time": "2023-08-01T16:58:12.661Z"
   },
   {
    "duration": 379,
    "start_time": "2023-08-01T16:58:12.676Z"
   },
   {
    "duration": 326,
    "start_time": "2023-08-01T16:58:13.062Z"
   },
   {
    "duration": 229,
    "start_time": "2023-08-01T16:58:13.392Z"
   },
   {
    "duration": 3,
    "start_time": "2023-08-01T16:58:13.624Z"
   },
   {
    "duration": 19,
    "start_time": "2023-08-01T16:58:13.629Z"
   },
   {
    "duration": 18,
    "start_time": "2023-08-01T16:58:13.650Z"
   },
   {
    "duration": 4,
    "start_time": "2023-08-01T16:58:13.671Z"
   },
   {
    "duration": 7,
    "start_time": "2023-08-01T16:58:13.677Z"
   },
   {
    "duration": 12,
    "start_time": "2023-08-01T16:58:13.686Z"
   },
   {
    "duration": 23,
    "start_time": "2023-08-01T16:58:13.700Z"
   },
   {
    "duration": 394,
    "start_time": "2023-08-01T16:58:13.726Z"
   },
   {
    "duration": 37,
    "start_time": "2023-08-01T16:58:14.124Z"
   },
   {
    "duration": 24,
    "start_time": "2023-08-01T16:58:14.163Z"
   },
   {
    "duration": 6,
    "start_time": "2023-08-01T16:58:14.189Z"
   },
   {
    "duration": 17,
    "start_time": "2023-08-01T16:58:14.197Z"
   },
   {
    "duration": 17,
    "start_time": "2023-08-01T16:58:14.216Z"
   },
   {
    "duration": 27,
    "start_time": "2023-08-01T16:58:14.235Z"
   },
   {
    "duration": 84,
    "start_time": "2023-08-01T16:58:14.265Z"
   },
   {
    "duration": 18,
    "start_time": "2023-08-01T16:58:14.351Z"
   },
   {
    "duration": 36,
    "start_time": "2023-08-01T16:58:14.371Z"
   },
   {
    "duration": 11,
    "start_time": "2023-08-01T16:58:14.410Z"
   },
   {
    "duration": 14,
    "start_time": "2023-08-01T16:58:14.423Z"
   },
   {
    "duration": 22,
    "start_time": "2023-08-01T16:58:14.439Z"
   },
   {
    "duration": 1354,
    "start_time": "2023-08-01T16:58:14.469Z"
   },
   {
    "duration": 807,
    "start_time": "2023-08-01T16:58:15.825Z"
   },
   {
    "duration": 9,
    "start_time": "2023-08-01T16:58:16.634Z"
   },
   {
    "duration": 2228,
    "start_time": "2023-08-01T16:58:16.645Z"
   },
   {
    "duration": 733,
    "start_time": "2023-08-01T16:58:18.876Z"
   },
   {
    "duration": 672,
    "start_time": "2023-08-01T16:58:19.612Z"
   },
   {
    "duration": 963,
    "start_time": "2023-08-01T16:58:20.290Z"
   },
   {
    "duration": 680,
    "start_time": "2023-08-01T16:58:21.255Z"
   },
   {
    "duration": 3,
    "start_time": "2023-08-01T16:58:21.937Z"
   },
   {
    "duration": 39,
    "start_time": "2023-08-01T16:58:21.942Z"
   },
   {
    "duration": 20,
    "start_time": "2023-08-01T16:58:21.983Z"
   },
   {
    "duration": 133,
    "start_time": "2023-08-01T16:58:22.005Z"
   },
   {
    "duration": 0,
    "start_time": "2023-08-01T16:58:22.141Z"
   },
   {
    "duration": 0,
    "start_time": "2023-08-01T16:58:22.142Z"
   },
   {
    "duration": 0,
    "start_time": "2023-08-01T16:58:22.143Z"
   },
   {
    "duration": 0,
    "start_time": "2023-08-01T16:58:22.144Z"
   },
   {
    "duration": 0,
    "start_time": "2023-08-01T16:58:22.145Z"
   },
   {
    "duration": 0,
    "start_time": "2023-08-01T16:58:22.147Z"
   },
   {
    "duration": 0,
    "start_time": "2023-08-01T16:58:22.148Z"
   },
   {
    "duration": 0,
    "start_time": "2023-08-01T16:58:22.149Z"
   },
   {
    "duration": 0,
    "start_time": "2023-08-01T16:58:22.150Z"
   },
   {
    "duration": 0,
    "start_time": "2023-08-01T16:58:22.151Z"
   },
   {
    "duration": 0,
    "start_time": "2023-08-01T16:58:22.152Z"
   },
   {
    "duration": 0,
    "start_time": "2023-08-01T16:58:22.153Z"
   },
   {
    "duration": 0,
    "start_time": "2023-08-01T16:58:22.154Z"
   },
   {
    "duration": 0,
    "start_time": "2023-08-01T16:58:22.155Z"
   },
   {
    "duration": 0,
    "start_time": "2023-08-01T16:58:22.156Z"
   },
   {
    "duration": 0,
    "start_time": "2023-08-01T16:58:22.161Z"
   },
   {
    "duration": 0,
    "start_time": "2023-08-01T16:58:22.163Z"
   },
   {
    "duration": 0,
    "start_time": "2023-08-01T16:58:22.166Z"
   },
   {
    "duration": 0,
    "start_time": "2023-08-01T16:58:22.167Z"
   },
   {
    "duration": 0,
    "start_time": "2023-08-01T16:58:22.169Z"
   },
   {
    "duration": 0,
    "start_time": "2023-08-01T16:58:22.170Z"
   },
   {
    "duration": 0,
    "start_time": "2023-08-01T16:58:22.173Z"
   },
   {
    "duration": 1,
    "start_time": "2023-08-01T16:58:22.174Z"
   },
   {
    "duration": 0,
    "start_time": "2023-08-01T16:58:22.176Z"
   },
   {
    "duration": 148,
    "start_time": "2023-08-01T17:01:06.703Z"
   },
   {
    "duration": 2201,
    "start_time": "2023-08-01T17:03:38.238Z"
   },
   {
    "duration": 11,
    "start_time": "2023-08-01T17:04:38.576Z"
   },
   {
    "duration": 71,
    "start_time": "2023-08-01T17:04:39.071Z"
   },
   {
    "duration": 3,
    "start_time": "2023-08-01T17:05:12.090Z"
   },
   {
    "duration": 11,
    "start_time": "2023-08-01T17:06:04.887Z"
   },
   {
    "duration": 56,
    "start_time": "2023-08-01T17:07:07.037Z"
   },
   {
    "duration": 31,
    "start_time": "2023-08-01T17:09:00.425Z"
   },
   {
    "duration": 12,
    "start_time": "2023-08-01T17:09:00.495Z"
   },
   {
    "duration": 45,
    "start_time": "2023-08-01T17:09:10.494Z"
   },
   {
    "duration": 14,
    "start_time": "2023-08-01T17:09:12.796Z"
   },
   {
    "duration": 41,
    "start_time": "2023-08-01T17:13:57.725Z"
   },
   {
    "duration": 1645,
    "start_time": "2023-08-01T17:14:06.782Z"
   },
   {
    "duration": 942,
    "start_time": "2023-08-01T17:14:08.429Z"
   },
   {
    "duration": 27,
    "start_time": "2023-08-01T17:14:09.377Z"
   },
   {
    "duration": 16,
    "start_time": "2023-08-01T17:14:09.405Z"
   },
   {
    "duration": 28,
    "start_time": "2023-08-01T17:14:09.423Z"
   },
   {
    "duration": 46,
    "start_time": "2023-08-01T17:14:09.453Z"
   },
   {
    "duration": 19,
    "start_time": "2023-08-01T17:14:09.501Z"
   },
   {
    "duration": 38,
    "start_time": "2023-08-01T17:14:09.522Z"
   },
   {
    "duration": 10,
    "start_time": "2023-08-01T17:14:09.564Z"
   },
   {
    "duration": 9,
    "start_time": "2023-08-01T17:14:09.576Z"
   },
   {
    "duration": 8,
    "start_time": "2023-08-01T17:14:09.587Z"
   },
   {
    "duration": 278,
    "start_time": "2023-08-01T17:14:09.598Z"
   },
   {
    "duration": 265,
    "start_time": "2023-08-01T17:14:09.878Z"
   },
   {
    "duration": 169,
    "start_time": "2023-08-01T17:14:10.146Z"
   },
   {
    "duration": 3,
    "start_time": "2023-08-01T17:14:10.316Z"
   },
   {
    "duration": 11,
    "start_time": "2023-08-01T17:14:10.321Z"
   },
   {
    "duration": 12,
    "start_time": "2023-08-01T17:14:10.334Z"
   },
   {
    "duration": 14,
    "start_time": "2023-08-01T17:14:10.347Z"
   },
   {
    "duration": 12,
    "start_time": "2023-08-01T17:14:10.364Z"
   },
   {
    "duration": 14,
    "start_time": "2023-08-01T17:14:10.377Z"
   },
   {
    "duration": 22,
    "start_time": "2023-08-01T17:14:10.393Z"
   },
   {
    "duration": 258,
    "start_time": "2023-08-01T17:14:10.418Z"
   },
   {
    "duration": 27,
    "start_time": "2023-08-01T17:14:10.679Z"
   },
   {
    "duration": 14,
    "start_time": "2023-08-01T17:14:10.708Z"
   },
   {
    "duration": 3,
    "start_time": "2023-08-01T17:14:10.724Z"
   },
   {
    "duration": 29,
    "start_time": "2023-08-01T17:14:10.728Z"
   },
   {
    "duration": 34,
    "start_time": "2023-08-01T17:14:10.759Z"
   },
   {
    "duration": 8,
    "start_time": "2023-08-01T17:14:10.795Z"
   },
   {
    "duration": 59,
    "start_time": "2023-08-01T17:14:10.805Z"
   },
   {
    "duration": 17,
    "start_time": "2023-08-01T17:14:10.866Z"
   },
   {
    "duration": 20,
    "start_time": "2023-08-01T17:14:10.885Z"
   },
   {
    "duration": 7,
    "start_time": "2023-08-01T17:14:10.907Z"
   },
   {
    "duration": 15,
    "start_time": "2023-08-01T17:14:10.916Z"
   },
   {
    "duration": 40,
    "start_time": "2023-08-01T17:14:10.933Z"
   },
   {
    "duration": 1161,
    "start_time": "2023-08-01T17:14:10.976Z"
   },
   {
    "duration": 796,
    "start_time": "2023-08-01T17:14:12.139Z"
   },
   {
    "duration": 7,
    "start_time": "2023-08-01T17:14:12.937Z"
   },
   {
    "duration": 1882,
    "start_time": "2023-08-01T17:14:12.945Z"
   },
   {
    "duration": 575,
    "start_time": "2023-08-01T17:14:14.829Z"
   },
   {
    "duration": 549,
    "start_time": "2023-08-01T17:14:15.407Z"
   },
   {
    "duration": 697,
    "start_time": "2023-08-01T17:14:15.969Z"
   },
   {
    "duration": 529,
    "start_time": "2023-08-01T17:14:16.669Z"
   },
   {
    "duration": 3,
    "start_time": "2023-08-01T17:14:17.200Z"
   },
   {
    "duration": 20,
    "start_time": "2023-08-01T17:14:17.205Z"
   },
   {
    "duration": 10,
    "start_time": "2023-08-01T17:14:17.227Z"
   },
   {
    "duration": 66,
    "start_time": "2023-08-01T17:14:17.256Z"
   },
   {
    "duration": 2,
    "start_time": "2023-08-01T17:14:17.324Z"
   },
   {
    "duration": 159,
    "start_time": "2023-08-01T17:14:17.328Z"
   },
   {
    "duration": 0,
    "start_time": "2023-08-01T17:14:17.491Z"
   },
   {
    "duration": 0,
    "start_time": "2023-08-01T17:14:17.496Z"
   },
   {
    "duration": 0,
    "start_time": "2023-08-01T17:14:17.497Z"
   },
   {
    "duration": 0,
    "start_time": "2023-08-01T17:14:17.498Z"
   },
   {
    "duration": 1,
    "start_time": "2023-08-01T17:14:17.499Z"
   },
   {
    "duration": 0,
    "start_time": "2023-08-01T17:14:17.501Z"
   },
   {
    "duration": 0,
    "start_time": "2023-08-01T17:14:17.502Z"
   },
   {
    "duration": 0,
    "start_time": "2023-08-01T17:14:17.503Z"
   },
   {
    "duration": 0,
    "start_time": "2023-08-01T17:14:17.504Z"
   },
   {
    "duration": 0,
    "start_time": "2023-08-01T17:14:17.505Z"
   },
   {
    "duration": 0,
    "start_time": "2023-08-01T17:14:17.506Z"
   },
   {
    "duration": 0,
    "start_time": "2023-08-01T17:14:17.507Z"
   },
   {
    "duration": 0,
    "start_time": "2023-08-01T17:14:17.508Z"
   },
   {
    "duration": 0,
    "start_time": "2023-08-01T17:14:17.509Z"
   },
   {
    "duration": 0,
    "start_time": "2023-08-01T17:14:17.510Z"
   },
   {
    "duration": 0,
    "start_time": "2023-08-01T17:14:17.511Z"
   },
   {
    "duration": 0,
    "start_time": "2023-08-01T17:14:17.512Z"
   },
   {
    "duration": 0,
    "start_time": "2023-08-01T17:14:17.512Z"
   },
   {
    "duration": 0,
    "start_time": "2023-08-01T17:14:17.513Z"
   },
   {
    "duration": 0,
    "start_time": "2023-08-01T17:14:17.514Z"
   },
   {
    "duration": 0,
    "start_time": "2023-08-01T17:14:17.516Z"
   },
   {
    "duration": 0,
    "start_time": "2023-08-01T17:14:17.517Z"
   },
   {
    "duration": 0,
    "start_time": "2023-08-01T17:14:17.518Z"
   },
   {
    "duration": 0,
    "start_time": "2023-08-01T17:14:17.519Z"
   },
   {
    "duration": 1492,
    "start_time": "2023-08-01T17:20:41.343Z"
   },
   {
    "duration": 788,
    "start_time": "2023-08-01T17:20:42.837Z"
   },
   {
    "duration": 21,
    "start_time": "2023-08-01T17:20:43.626Z"
   },
   {
    "duration": 29,
    "start_time": "2023-08-01T17:20:43.648Z"
   },
   {
    "duration": 19,
    "start_time": "2023-08-01T17:20:43.680Z"
   },
   {
    "duration": 30,
    "start_time": "2023-08-01T17:20:43.701Z"
   },
   {
    "duration": 23,
    "start_time": "2023-08-01T17:20:43.757Z"
   },
   {
    "duration": 29,
    "start_time": "2023-08-01T17:20:43.781Z"
   },
   {
    "duration": 14,
    "start_time": "2023-08-01T17:20:43.812Z"
   },
   {
    "duration": 7,
    "start_time": "2023-08-01T17:20:43.828Z"
   },
   {
    "duration": 4,
    "start_time": "2023-08-01T17:20:43.858Z"
   },
   {
    "duration": 283,
    "start_time": "2023-08-01T17:20:43.863Z"
   },
   {
    "duration": 259,
    "start_time": "2023-08-01T17:20:44.147Z"
   },
   {
    "duration": 131,
    "start_time": "2023-08-01T17:20:44.410Z"
   },
   {
    "duration": 3,
    "start_time": "2023-08-01T17:20:44.542Z"
   },
   {
    "duration": 17,
    "start_time": "2023-08-01T17:20:44.546Z"
   },
   {
    "duration": 6,
    "start_time": "2023-08-01T17:20:44.564Z"
   },
   {
    "duration": 9,
    "start_time": "2023-08-01T17:20:44.571Z"
   },
   {
    "duration": 6,
    "start_time": "2023-08-01T17:20:44.582Z"
   },
   {
    "duration": 7,
    "start_time": "2023-08-01T17:20:44.589Z"
   },
   {
    "duration": 19,
    "start_time": "2023-08-01T17:20:44.598Z"
   },
   {
    "duration": 263,
    "start_time": "2023-08-01T17:20:44.618Z"
   },
   {
    "duration": 22,
    "start_time": "2023-08-01T17:20:44.883Z"
   },
   {
    "duration": 14,
    "start_time": "2023-08-01T17:20:44.907Z"
   },
   {
    "duration": 5,
    "start_time": "2023-08-01T17:20:44.922Z"
   },
   {
    "duration": 28,
    "start_time": "2023-08-01T17:20:44.929Z"
   },
   {
    "duration": 17,
    "start_time": "2023-08-01T17:20:44.960Z"
   },
   {
    "duration": 4,
    "start_time": "2023-08-01T17:20:44.980Z"
   },
   {
    "duration": 79,
    "start_time": "2023-08-01T17:20:44.986Z"
   },
   {
    "duration": 14,
    "start_time": "2023-08-01T17:20:45.067Z"
   },
   {
    "duration": 19,
    "start_time": "2023-08-01T17:20:45.083Z"
   },
   {
    "duration": 11,
    "start_time": "2023-08-01T17:20:45.103Z"
   },
   {
    "duration": 27,
    "start_time": "2023-08-01T17:20:45.116Z"
   },
   {
    "duration": 4,
    "start_time": "2023-08-01T17:20:45.157Z"
   },
   {
    "duration": 999,
    "start_time": "2023-08-01T17:20:45.163Z"
   },
   {
    "duration": 653,
    "start_time": "2023-08-01T17:20:46.164Z"
   },
   {
    "duration": 7,
    "start_time": "2023-08-01T17:20:46.819Z"
   },
   {
    "duration": 1672,
    "start_time": "2023-08-01T17:20:46.828Z"
   },
   {
    "duration": 562,
    "start_time": "2023-08-01T17:20:48.502Z"
   },
   {
    "duration": 494,
    "start_time": "2023-08-01T17:20:49.066Z"
   },
   {
    "duration": 707,
    "start_time": "2023-08-01T17:20:49.564Z"
   },
   {
    "duration": 487,
    "start_time": "2023-08-01T17:20:50.273Z"
   },
   {
    "duration": 72,
    "start_time": "2023-08-01T17:20:50.762Z"
   },
   {
    "duration": 75,
    "start_time": "2023-08-01T17:20:50.836Z"
   },
   {
    "duration": 3,
    "start_time": "2023-08-01T17:20:50.912Z"
   },
   {
    "duration": 4,
    "start_time": "2023-08-01T17:20:50.917Z"
   },
   {
    "duration": 15,
    "start_time": "2023-08-01T17:20:50.923Z"
   },
   {
    "duration": 13,
    "start_time": "2023-08-01T17:20:50.941Z"
   },
   {
    "duration": 10,
    "start_time": "2023-08-01T17:20:50.956Z"
   },
   {
    "duration": 1531,
    "start_time": "2023-08-01T17:20:50.968Z"
   },
   {
    "duration": 115,
    "start_time": "2023-08-01T17:20:52.502Z"
   },
   {
    "duration": 0,
    "start_time": "2023-08-01T17:20:52.619Z"
   },
   {
    "duration": 0,
    "start_time": "2023-08-01T17:20:52.621Z"
   },
   {
    "duration": 0,
    "start_time": "2023-08-01T17:20:52.622Z"
   },
   {
    "duration": 0,
    "start_time": "2023-08-01T17:20:52.624Z"
   },
   {
    "duration": 0,
    "start_time": "2023-08-01T17:20:52.625Z"
   },
   {
    "duration": 0,
    "start_time": "2023-08-01T17:20:52.627Z"
   },
   {
    "duration": 0,
    "start_time": "2023-08-01T17:20:52.628Z"
   },
   {
    "duration": 0,
    "start_time": "2023-08-01T17:20:52.630Z"
   },
   {
    "duration": 0,
    "start_time": "2023-08-01T17:20:52.631Z"
   },
   {
    "duration": 0,
    "start_time": "2023-08-01T17:20:52.657Z"
   },
   {
    "duration": 0,
    "start_time": "2023-08-01T17:20:52.658Z"
   },
   {
    "duration": 0,
    "start_time": "2023-08-01T17:20:52.660Z"
   },
   {
    "duration": 0,
    "start_time": "2023-08-01T17:20:52.661Z"
   },
   {
    "duration": 0,
    "start_time": "2023-08-01T17:20:52.663Z"
   },
   {
    "duration": 0,
    "start_time": "2023-08-01T17:20:52.664Z"
   },
   {
    "duration": 0,
    "start_time": "2023-08-01T17:20:52.666Z"
   },
   {
    "duration": 0,
    "start_time": "2023-08-01T17:20:52.668Z"
   },
   {
    "duration": 0,
    "start_time": "2023-08-01T17:20:52.669Z"
   },
   {
    "duration": 0,
    "start_time": "2023-08-01T17:20:52.671Z"
   },
   {
    "duration": 0,
    "start_time": "2023-08-01T17:20:52.672Z"
   },
   {
    "duration": 0,
    "start_time": "2023-08-01T17:20:52.673Z"
   },
   {
    "duration": 1636,
    "start_time": "2023-08-01T17:21:17.278Z"
   },
   {
    "duration": 787,
    "start_time": "2023-08-01T17:21:18.916Z"
   },
   {
    "duration": 19,
    "start_time": "2023-08-01T17:21:19.704Z"
   },
   {
    "duration": 32,
    "start_time": "2023-08-01T17:21:19.725Z"
   },
   {
    "duration": 13,
    "start_time": "2023-08-01T17:21:19.759Z"
   },
   {
    "duration": 23,
    "start_time": "2023-08-01T17:21:19.774Z"
   },
   {
    "duration": 20,
    "start_time": "2023-08-01T17:21:19.799Z"
   },
   {
    "duration": 63,
    "start_time": "2023-08-01T17:21:19.821Z"
   },
   {
    "duration": 4,
    "start_time": "2023-08-01T17:21:19.887Z"
   },
   {
    "duration": 5,
    "start_time": "2023-08-01T17:21:19.893Z"
   },
   {
    "duration": 6,
    "start_time": "2023-08-01T17:21:19.900Z"
   },
   {
    "duration": 275,
    "start_time": "2023-08-01T17:21:19.908Z"
   },
   {
    "duration": 223,
    "start_time": "2023-08-01T17:21:20.185Z"
   },
   {
    "duration": 128,
    "start_time": "2023-08-01T17:21:20.412Z"
   },
   {
    "duration": 3,
    "start_time": "2023-08-01T17:21:20.542Z"
   },
   {
    "duration": 16,
    "start_time": "2023-08-01T17:21:20.546Z"
   },
   {
    "duration": 6,
    "start_time": "2023-08-01T17:21:20.563Z"
   },
   {
    "duration": 6,
    "start_time": "2023-08-01T17:21:20.571Z"
   },
   {
    "duration": 13,
    "start_time": "2023-08-01T17:21:20.579Z"
   },
   {
    "duration": 9,
    "start_time": "2023-08-01T17:21:20.595Z"
   },
   {
    "duration": 25,
    "start_time": "2023-08-01T17:21:20.606Z"
   },
   {
    "duration": 255,
    "start_time": "2023-08-01T17:21:20.633Z"
   },
   {
    "duration": 22,
    "start_time": "2023-08-01T17:21:20.890Z"
   },
   {
    "duration": 17,
    "start_time": "2023-08-01T17:21:20.914Z"
   },
   {
    "duration": 23,
    "start_time": "2023-08-01T17:21:20.933Z"
   },
   {
    "duration": 8,
    "start_time": "2023-08-01T17:21:20.958Z"
   },
   {
    "duration": 19,
    "start_time": "2023-08-01T17:21:20.967Z"
   },
   {
    "duration": 14,
    "start_time": "2023-08-01T17:21:20.989Z"
   },
   {
    "duration": 64,
    "start_time": "2023-08-01T17:21:21.005Z"
   },
   {
    "duration": 14,
    "start_time": "2023-08-01T17:21:21.071Z"
   },
   {
    "duration": 13,
    "start_time": "2023-08-01T17:21:21.087Z"
   },
   {
    "duration": 14,
    "start_time": "2023-08-01T17:21:21.102Z"
   },
   {
    "duration": 38,
    "start_time": "2023-08-01T17:21:21.119Z"
   },
   {
    "duration": 7,
    "start_time": "2023-08-01T17:21:21.159Z"
   },
   {
    "duration": 1044,
    "start_time": "2023-08-01T17:21:21.168Z"
   },
   {
    "duration": 843,
    "start_time": "2023-08-01T17:21:22.214Z"
   },
   {
    "duration": 8,
    "start_time": "2023-08-01T17:21:23.059Z"
   },
   {
    "duration": 1657,
    "start_time": "2023-08-01T17:21:23.070Z"
   },
   {
    "duration": 480,
    "start_time": "2023-08-01T17:21:24.729Z"
   },
   {
    "duration": 471,
    "start_time": "2023-08-01T17:21:25.211Z"
   },
   {
    "duration": 627,
    "start_time": "2023-08-01T17:21:25.686Z"
   },
   {
    "duration": 451,
    "start_time": "2023-08-01T17:21:26.315Z"
   },
   {
    "duration": 65,
    "start_time": "2023-08-01T17:21:26.768Z"
   },
   {
    "duration": 29,
    "start_time": "2023-08-01T17:21:26.835Z"
   },
   {
    "duration": 3,
    "start_time": "2023-08-01T17:21:26.865Z"
   },
   {
    "duration": 7,
    "start_time": "2023-08-01T17:21:26.869Z"
   },
   {
    "duration": 8,
    "start_time": "2023-08-01T17:21:26.877Z"
   },
   {
    "duration": 4,
    "start_time": "2023-08-01T17:21:26.887Z"
   },
   {
    "duration": 11,
    "start_time": "2023-08-01T17:21:26.892Z"
   },
   {
    "duration": 1611,
    "start_time": "2023-08-01T17:21:26.905Z"
   },
   {
    "duration": 3,
    "start_time": "2023-08-01T17:21:28.518Z"
   },
   {
    "duration": 30,
    "start_time": "2023-08-01T17:21:28.523Z"
   },
   {
    "duration": 3,
    "start_time": "2023-08-01T17:21:28.556Z"
   },
   {
    "duration": 11,
    "start_time": "2023-08-01T17:21:28.561Z"
   },
   {
    "duration": 8,
    "start_time": "2023-08-01T17:21:28.574Z"
   },
   {
    "duration": 20,
    "start_time": "2023-08-01T17:21:28.583Z"
   },
   {
    "duration": 2373,
    "start_time": "2023-08-01T17:21:28.605Z"
   },
   {
    "duration": 1377,
    "start_time": "2023-08-01T17:21:30.980Z"
   },
   {
    "duration": 13502,
    "start_time": "2023-08-01T17:21:32.361Z"
   },
   {
    "duration": 4,
    "start_time": "2023-08-01T17:21:45.865Z"
   },
   {
    "duration": 13,
    "start_time": "2023-08-01T17:21:45.871Z"
   },
   {
    "duration": 779,
    "start_time": "2023-08-01T17:21:45.886Z"
   },
   {
    "duration": 897,
    "start_time": "2023-08-01T17:21:46.667Z"
   },
   {
    "duration": 397,
    "start_time": "2023-08-01T17:21:47.568Z"
   },
   {
    "duration": 105,
    "start_time": "2023-08-01T17:21:48.058Z"
   },
   {
    "duration": 91,
    "start_time": "2023-08-01T17:21:48.166Z"
   },
   {
    "duration": 97,
    "start_time": "2023-08-01T17:21:48.260Z"
   },
   {
    "duration": 4,
    "start_time": "2023-08-01T17:21:48.359Z"
   },
   {
    "duration": 7,
    "start_time": "2023-08-01T17:21:48.365Z"
   },
   {
    "duration": 21,
    "start_time": "2023-08-01T17:21:48.374Z"
   },
   {
    "duration": 6,
    "start_time": "2023-08-01T17:21:48.397Z"
   },
   {
    "duration": 5,
    "start_time": "2023-08-01T17:21:48.405Z"
   },
   {
    "duration": 7,
    "start_time": "2023-08-01T17:30:14.788Z"
   },
   {
    "duration": 4,
    "start_time": "2023-08-01T17:30:15.269Z"
   },
   {
    "duration": 21,
    "start_time": "2023-08-01T17:30:19.216Z"
   },
   {
    "duration": 2428,
    "start_time": "2023-08-01T17:33:08.235Z"
   },
   {
    "duration": 107,
    "start_time": "2023-08-01T17:34:13.686Z"
   },
   {
    "duration": 25,
    "start_time": "2023-08-01T17:34:24.817Z"
   },
   {
    "duration": 2401,
    "start_time": "2023-08-01T17:38:43.791Z"
   },
   {
    "duration": 2290,
    "start_time": "2023-08-01T17:38:52.185Z"
   },
   {
    "duration": 161,
    "start_time": "2023-08-01T17:39:43.157Z"
   },
   {
    "duration": 175,
    "start_time": "2023-08-01T17:39:53.133Z"
   },
   {
    "duration": 161,
    "start_time": "2023-08-01T17:40:06.751Z"
   },
   {
    "duration": 232,
    "start_time": "2023-08-01T17:41:45.033Z"
   },
   {
    "duration": 251,
    "start_time": "2023-08-01T17:42:43.200Z"
   },
   {
    "duration": 1650,
    "start_time": "2023-08-01T17:43:11.889Z"
   },
   {
    "duration": 848,
    "start_time": "2023-08-01T17:43:13.541Z"
   },
   {
    "duration": 20,
    "start_time": "2023-08-01T17:43:14.390Z"
   },
   {
    "duration": 16,
    "start_time": "2023-08-01T17:43:14.412Z"
   },
   {
    "duration": 35,
    "start_time": "2023-08-01T17:43:14.430Z"
   },
   {
    "duration": 31,
    "start_time": "2023-08-01T17:43:14.468Z"
   },
   {
    "duration": 21,
    "start_time": "2023-08-01T17:43:14.501Z"
   },
   {
    "duration": 23,
    "start_time": "2023-08-01T17:43:14.523Z"
   },
   {
    "duration": 8,
    "start_time": "2023-08-01T17:43:14.560Z"
   },
   {
    "duration": 19,
    "start_time": "2023-08-01T17:43:14.569Z"
   },
   {
    "duration": 10,
    "start_time": "2023-08-01T17:43:14.590Z"
   },
   {
    "duration": 273,
    "start_time": "2023-08-01T17:43:14.601Z"
   },
   {
    "duration": 233,
    "start_time": "2023-08-01T17:43:14.880Z"
   },
   {
    "duration": 159,
    "start_time": "2023-08-01T17:43:15.117Z"
   },
   {
    "duration": 5,
    "start_time": "2023-08-01T17:43:15.282Z"
   },
   {
    "duration": 9,
    "start_time": "2023-08-01T17:43:15.288Z"
   },
   {
    "duration": 7,
    "start_time": "2023-08-01T17:43:15.299Z"
   },
   {
    "duration": 10,
    "start_time": "2023-08-01T17:43:15.308Z"
   },
   {
    "duration": 9,
    "start_time": "2023-08-01T17:43:15.320Z"
   },
   {
    "duration": 7,
    "start_time": "2023-08-01T17:43:15.332Z"
   },
   {
    "duration": 34,
    "start_time": "2023-08-01T17:43:15.341Z"
   },
   {
    "duration": 249,
    "start_time": "2023-08-01T17:43:15.385Z"
   },
   {
    "duration": 34,
    "start_time": "2023-08-01T17:43:15.636Z"
   },
   {
    "duration": 15,
    "start_time": "2023-08-01T17:43:15.673Z"
   },
   {
    "duration": 6,
    "start_time": "2023-08-01T17:43:15.690Z"
   },
   {
    "duration": 8,
    "start_time": "2023-08-01T17:43:15.698Z"
   },
   {
    "duration": 15,
    "start_time": "2023-08-01T17:43:15.707Z"
   },
   {
    "duration": 5,
    "start_time": "2023-08-01T17:43:15.724Z"
   },
   {
    "duration": 78,
    "start_time": "2023-08-01T17:43:15.730Z"
   },
   {
    "duration": 14,
    "start_time": "2023-08-01T17:43:15.810Z"
   },
   {
    "duration": 12,
    "start_time": "2023-08-01T17:43:15.825Z"
   },
   {
    "duration": 33,
    "start_time": "2023-08-01T17:43:15.839Z"
   },
   {
    "duration": 21,
    "start_time": "2023-08-01T17:43:15.874Z"
   },
   {
    "duration": 4,
    "start_time": "2023-08-01T17:43:15.897Z"
   },
   {
    "duration": 1085,
    "start_time": "2023-08-01T17:43:15.903Z"
   },
   {
    "duration": 745,
    "start_time": "2023-08-01T17:43:16.993Z"
   },
   {
    "duration": 25,
    "start_time": "2023-08-01T17:43:17.740Z"
   },
   {
    "duration": 1872,
    "start_time": "2023-08-01T17:43:17.767Z"
   },
   {
    "duration": 497,
    "start_time": "2023-08-01T17:43:19.641Z"
   },
   {
    "duration": 502,
    "start_time": "2023-08-01T17:43:20.141Z"
   },
   {
    "duration": 720,
    "start_time": "2023-08-01T17:43:20.647Z"
   },
   {
    "duration": 489,
    "start_time": "2023-08-01T17:43:21.369Z"
   },
   {
    "duration": 75,
    "start_time": "2023-08-01T17:43:21.866Z"
   },
   {
    "duration": 3,
    "start_time": "2023-08-01T17:43:21.943Z"
   },
   {
    "duration": 6,
    "start_time": "2023-08-01T17:43:21.947Z"
   },
   {
    "duration": 22,
    "start_time": "2023-08-01T17:43:21.954Z"
   },
   {
    "duration": 7,
    "start_time": "2023-08-01T17:43:21.978Z"
   },
   {
    "duration": 8,
    "start_time": "2023-08-01T17:43:21.986Z"
   },
   {
    "duration": 9,
    "start_time": "2023-08-01T17:43:21.996Z"
   },
   {
    "duration": 1626,
    "start_time": "2023-08-01T17:43:22.007Z"
   },
   {
    "duration": 2,
    "start_time": "2023-08-01T17:43:23.634Z"
   },
   {
    "duration": 5,
    "start_time": "2023-08-01T17:43:23.638Z"
   },
   {
    "duration": 9,
    "start_time": "2023-08-01T17:43:23.656Z"
   },
   {
    "duration": 4,
    "start_time": "2023-08-01T17:43:23.667Z"
   },
   {
    "duration": 15,
    "start_time": "2023-08-01T17:43:23.674Z"
   },
   {
    "duration": 8,
    "start_time": "2023-08-01T17:43:23.690Z"
   },
   {
    "duration": 21,
    "start_time": "2023-08-01T17:43:23.700Z"
   },
   {
    "duration": 2446,
    "start_time": "2023-08-01T17:43:23.723Z"
   },
   {
    "duration": 327,
    "start_time": "2023-08-01T17:43:26.176Z"
   },
   {
    "duration": 0,
    "start_time": "2023-08-01T17:43:26.505Z"
   },
   {
    "duration": 0,
    "start_time": "2023-08-01T17:43:26.506Z"
   },
   {
    "duration": 0,
    "start_time": "2023-08-01T17:43:26.507Z"
   },
   {
    "duration": 0,
    "start_time": "2023-08-01T17:43:26.509Z"
   },
   {
    "duration": 0,
    "start_time": "2023-08-01T17:43:26.510Z"
   },
   {
    "duration": 0,
    "start_time": "2023-08-01T17:43:26.511Z"
   },
   {
    "duration": 0,
    "start_time": "2023-08-01T17:43:26.512Z"
   },
   {
    "duration": 0,
    "start_time": "2023-08-01T17:43:26.513Z"
   },
   {
    "duration": 0,
    "start_time": "2023-08-01T17:43:26.514Z"
   },
   {
    "duration": 0,
    "start_time": "2023-08-01T17:43:26.515Z"
   },
   {
    "duration": 0,
    "start_time": "2023-08-01T17:43:26.516Z"
   },
   {
    "duration": 0,
    "start_time": "2023-08-01T17:43:26.517Z"
   },
   {
    "duration": 0,
    "start_time": "2023-08-01T17:43:26.518Z"
   },
   {
    "duration": 0,
    "start_time": "2023-08-01T17:43:26.519Z"
   },
   {
    "duration": 0,
    "start_time": "2023-08-01T17:43:26.520Z"
   },
   {
    "duration": 34,
    "start_time": "2023-08-01T17:44:08.608Z"
   },
   {
    "duration": 12,
    "start_time": "2023-08-01T17:44:21.639Z"
   },
   {
    "duration": 3,
    "start_time": "2023-08-01T17:44:27.094Z"
   },
   {
    "duration": 24,
    "start_time": "2023-08-01T17:44:29.947Z"
   },
   {
    "duration": 2357,
    "start_time": "2023-08-01T17:44:31.241Z"
   },
   {
    "duration": 204,
    "start_time": "2023-08-01T17:44:49.414Z"
   },
   {
    "duration": 226,
    "start_time": "2023-08-01T17:45:00.347Z"
   },
   {
    "duration": 222,
    "start_time": "2023-08-01T17:45:23.059Z"
   },
   {
    "duration": 246,
    "start_time": "2023-08-01T17:45:38.348Z"
   },
   {
    "duration": 216,
    "start_time": "2023-08-01T17:47:40.286Z"
   },
   {
    "duration": 231,
    "start_time": "2023-08-01T17:48:39.794Z"
   },
   {
    "duration": 167,
    "start_time": "2023-08-01T17:48:47.940Z"
   },
   {
    "duration": 225,
    "start_time": "2023-08-01T17:49:22.622Z"
   },
   {
    "duration": 216,
    "start_time": "2023-08-01T17:49:30.909Z"
   },
   {
    "duration": 4,
    "start_time": "2023-08-01T17:50:15.095Z"
   },
   {
    "duration": 15,
    "start_time": "2023-08-01T17:50:16.180Z"
   },
   {
    "duration": 2483,
    "start_time": "2023-08-01T17:50:17.601Z"
   },
   {
    "duration": 214,
    "start_time": "2023-08-01T17:50:21.599Z"
   },
   {
    "duration": 11,
    "start_time": "2023-08-01T17:50:48.463Z"
   },
   {
    "duration": 4,
    "start_time": "2023-08-01T17:50:49.023Z"
   },
   {
    "duration": 18,
    "start_time": "2023-08-01T17:50:50.309Z"
   },
   {
    "duration": 4,
    "start_time": "2023-08-01T17:50:51.276Z"
   },
   {
    "duration": 218,
    "start_time": "2023-08-01T17:50:52.191Z"
   },
   {
    "duration": 26,
    "start_time": "2023-08-01T17:53:14.057Z"
   },
   {
    "duration": 1524,
    "start_time": "2023-08-01T17:56:16.101Z"
   },
   {
    "duration": 801,
    "start_time": "2023-08-01T17:56:17.628Z"
   },
   {
    "duration": 34,
    "start_time": "2023-08-01T17:56:18.431Z"
   },
   {
    "duration": 27,
    "start_time": "2023-08-01T17:56:18.467Z"
   },
   {
    "duration": 14,
    "start_time": "2023-08-01T17:56:18.497Z"
   },
   {
    "duration": 46,
    "start_time": "2023-08-01T17:56:18.513Z"
   },
   {
    "duration": 35,
    "start_time": "2023-08-01T17:56:18.565Z"
   },
   {
    "duration": 39,
    "start_time": "2023-08-01T17:56:18.602Z"
   },
   {
    "duration": 13,
    "start_time": "2023-08-01T17:56:18.657Z"
   },
   {
    "duration": 6,
    "start_time": "2023-08-01T17:56:18.671Z"
   },
   {
    "duration": 6,
    "start_time": "2023-08-01T17:56:18.678Z"
   },
   {
    "duration": 322,
    "start_time": "2023-08-01T17:56:18.686Z"
   },
   {
    "duration": 302,
    "start_time": "2023-08-01T17:56:19.010Z"
   },
   {
    "duration": 147,
    "start_time": "2023-08-01T17:56:19.317Z"
   },
   {
    "duration": 5,
    "start_time": "2023-08-01T17:56:19.465Z"
   },
   {
    "duration": 10,
    "start_time": "2023-08-01T17:56:19.472Z"
   },
   {
    "duration": 7,
    "start_time": "2023-08-01T17:56:19.484Z"
   },
   {
    "duration": 13,
    "start_time": "2023-08-01T17:56:19.492Z"
   },
   {
    "duration": 12,
    "start_time": "2023-08-01T17:56:19.506Z"
   },
   {
    "duration": 11,
    "start_time": "2023-08-01T17:56:19.520Z"
   },
   {
    "duration": 20,
    "start_time": "2023-08-01T17:56:19.532Z"
   },
   {
    "duration": 303,
    "start_time": "2023-08-01T17:56:19.554Z"
   },
   {
    "duration": 25,
    "start_time": "2023-08-01T17:56:19.858Z"
   },
   {
    "duration": 16,
    "start_time": "2023-08-01T17:56:19.886Z"
   },
   {
    "duration": 4,
    "start_time": "2023-08-01T17:56:19.904Z"
   },
   {
    "duration": 7,
    "start_time": "2023-08-01T17:56:19.909Z"
   },
   {
    "duration": 21,
    "start_time": "2023-08-01T17:56:19.918Z"
   },
   {
    "duration": 3,
    "start_time": "2023-08-01T17:56:19.941Z"
   },
   {
    "duration": 57,
    "start_time": "2023-08-01T17:56:19.945Z"
   },
   {
    "duration": 18,
    "start_time": "2023-08-01T17:56:20.004Z"
   },
   {
    "duration": 16,
    "start_time": "2023-08-01T17:56:20.025Z"
   },
   {
    "duration": 28,
    "start_time": "2023-08-01T17:56:20.043Z"
   },
   {
    "duration": 15,
    "start_time": "2023-08-01T17:56:20.074Z"
   },
   {
    "duration": 7,
    "start_time": "2023-08-01T17:56:20.090Z"
   },
   {
    "duration": 1363,
    "start_time": "2023-08-01T17:56:20.098Z"
   },
   {
    "duration": 723,
    "start_time": "2023-08-01T17:56:21.471Z"
   },
   {
    "duration": 7,
    "start_time": "2023-08-01T17:56:22.196Z"
   },
   {
    "duration": 1765,
    "start_time": "2023-08-01T17:56:22.205Z"
   },
   {
    "duration": 522,
    "start_time": "2023-08-01T17:56:23.975Z"
   },
   {
    "duration": 496,
    "start_time": "2023-08-01T17:56:24.500Z"
   },
   {
    "duration": 699,
    "start_time": "2023-08-01T17:56:24.999Z"
   },
   {
    "duration": 498,
    "start_time": "2023-08-01T17:56:25.700Z"
   },
   {
    "duration": 93,
    "start_time": "2023-08-01T17:56:26.200Z"
   },
   {
    "duration": 109,
    "start_time": "2023-08-01T17:56:26.296Z"
   },
   {
    "duration": 5,
    "start_time": "2023-08-01T17:56:26.407Z"
   },
   {
    "duration": 6,
    "start_time": "2023-08-01T17:56:26.414Z"
   },
   {
    "duration": 8,
    "start_time": "2023-08-01T17:56:26.422Z"
   },
   {
    "duration": 8,
    "start_time": "2023-08-01T17:56:26.431Z"
   },
   {
    "duration": 8,
    "start_time": "2023-08-01T17:56:26.441Z"
   },
   {
    "duration": 1588,
    "start_time": "2023-08-01T17:56:26.451Z"
   },
   {
    "duration": 3,
    "start_time": "2023-08-01T17:56:28.041Z"
   },
   {
    "duration": 18,
    "start_time": "2023-08-01T17:56:28.045Z"
   },
   {
    "duration": 10,
    "start_time": "2023-08-01T17:56:28.065Z"
   },
   {
    "duration": 14,
    "start_time": "2023-08-01T17:56:28.076Z"
   },
   {
    "duration": 13,
    "start_time": "2023-08-01T17:56:28.092Z"
   },
   {
    "duration": 6,
    "start_time": "2023-08-01T17:56:28.108Z"
   },
   {
    "duration": 25,
    "start_time": "2023-08-01T17:56:28.116Z"
   },
   {
    "duration": 2,
    "start_time": "2023-08-01T17:56:28.143Z"
   },
   {
    "duration": 20,
    "start_time": "2023-08-01T17:56:28.147Z"
   },
   {
    "duration": 21957,
    "start_time": "2023-08-01T17:56:28.169Z"
   },
   {
    "duration": 351,
    "start_time": "2023-08-01T17:56:50.128Z"
   },
   {
    "duration": 0,
    "start_time": "2023-08-01T17:56:50.480Z"
   },
   {
    "duration": 0,
    "start_time": "2023-08-01T17:56:50.482Z"
   },
   {
    "duration": 0,
    "start_time": "2023-08-01T17:56:50.483Z"
   },
   {
    "duration": 0,
    "start_time": "2023-08-01T17:56:50.484Z"
   },
   {
    "duration": 0,
    "start_time": "2023-08-01T17:56:50.486Z"
   },
   {
    "duration": 0,
    "start_time": "2023-08-01T17:56:50.487Z"
   },
   {
    "duration": 0,
    "start_time": "2023-08-01T17:56:50.488Z"
   },
   {
    "duration": 0,
    "start_time": "2023-08-01T17:56:50.489Z"
   },
   {
    "duration": 0,
    "start_time": "2023-08-01T17:56:50.489Z"
   },
   {
    "duration": 0,
    "start_time": "2023-08-01T17:56:50.491Z"
   },
   {
    "duration": 0,
    "start_time": "2023-08-01T17:56:50.492Z"
   },
   {
    "duration": 0,
    "start_time": "2023-08-01T17:56:50.493Z"
   },
   {
    "duration": 1,
    "start_time": "2023-08-01T17:56:50.493Z"
   },
   {
    "duration": 0,
    "start_time": "2023-08-01T17:56:50.495Z"
   },
   {
    "duration": 0,
    "start_time": "2023-08-01T17:56:50.496Z"
   },
   {
    "duration": 13,
    "start_time": "2023-08-01T17:59:03.950Z"
   },
   {
    "duration": 16,
    "start_time": "2023-08-01T17:59:54.188Z"
   },
   {
    "duration": 14,
    "start_time": "2023-08-01T18:03:26.612Z"
   },
   {
    "duration": 15,
    "start_time": "2023-08-01T18:07:18.603Z"
   },
   {
    "duration": 22621,
    "start_time": "2023-08-01T18:07:47.323Z"
   },
   {
    "duration": 23810,
    "start_time": "2023-08-01T18:09:10.883Z"
   },
   {
    "duration": 1644,
    "start_time": "2023-08-01T18:10:00.371Z"
   },
   {
    "duration": 885,
    "start_time": "2023-08-01T18:10:02.018Z"
   },
   {
    "duration": 19,
    "start_time": "2023-08-01T18:10:02.905Z"
   },
   {
    "duration": 39,
    "start_time": "2023-08-01T18:10:02.926Z"
   },
   {
    "duration": 19,
    "start_time": "2023-08-01T18:10:02.967Z"
   },
   {
    "duration": 26,
    "start_time": "2023-08-01T18:10:02.988Z"
   },
   {
    "duration": 45,
    "start_time": "2023-08-01T18:10:03.015Z"
   },
   {
    "duration": 37,
    "start_time": "2023-08-01T18:10:03.061Z"
   },
   {
    "duration": 14,
    "start_time": "2023-08-01T18:10:03.101Z"
   },
   {
    "duration": 22,
    "start_time": "2023-08-01T18:10:03.117Z"
   },
   {
    "duration": 14,
    "start_time": "2023-08-01T18:10:03.141Z"
   },
   {
    "duration": 287,
    "start_time": "2023-08-01T18:10:03.165Z"
   },
   {
    "duration": 255,
    "start_time": "2023-08-01T18:10:03.456Z"
   },
   {
    "duration": 148,
    "start_time": "2023-08-01T18:10:03.714Z"
   },
   {
    "duration": 5,
    "start_time": "2023-08-01T18:10:03.864Z"
   },
   {
    "duration": 21,
    "start_time": "2023-08-01T18:10:03.870Z"
   },
   {
    "duration": 6,
    "start_time": "2023-08-01T18:10:03.893Z"
   },
   {
    "duration": 6,
    "start_time": "2023-08-01T18:10:03.901Z"
   },
   {
    "duration": 6,
    "start_time": "2023-08-01T18:10:03.908Z"
   },
   {
    "duration": 11,
    "start_time": "2023-08-01T18:10:03.916Z"
   },
   {
    "duration": 21,
    "start_time": "2023-08-01T18:10:03.929Z"
   },
   {
    "duration": 286,
    "start_time": "2023-08-01T18:10:03.952Z"
   },
   {
    "duration": 35,
    "start_time": "2023-08-01T18:10:04.241Z"
   },
   {
    "duration": 18,
    "start_time": "2023-08-01T18:10:04.278Z"
   },
   {
    "duration": 4,
    "start_time": "2023-08-01T18:10:04.298Z"
   },
   {
    "duration": 13,
    "start_time": "2023-08-01T18:10:04.303Z"
   },
   {
    "duration": 17,
    "start_time": "2023-08-01T18:10:04.318Z"
   },
   {
    "duration": 22,
    "start_time": "2023-08-01T18:10:04.337Z"
   },
   {
    "duration": 61,
    "start_time": "2023-08-01T18:10:04.361Z"
   },
   {
    "duration": 13,
    "start_time": "2023-08-01T18:10:04.424Z"
   },
   {
    "duration": 44,
    "start_time": "2023-08-01T18:10:04.439Z"
   },
   {
    "duration": 9,
    "start_time": "2023-08-01T18:10:04.485Z"
   },
   {
    "duration": 16,
    "start_time": "2023-08-01T18:10:04.496Z"
   },
   {
    "duration": 7,
    "start_time": "2023-08-01T18:10:04.514Z"
   },
   {
    "duration": 1105,
    "start_time": "2023-08-01T18:10:04.522Z"
   },
   {
    "duration": 783,
    "start_time": "2023-08-01T18:10:05.629Z"
   },
   {
    "duration": 8,
    "start_time": "2023-08-01T18:10:06.413Z"
   },
   {
    "duration": 1870,
    "start_time": "2023-08-01T18:10:06.423Z"
   },
   {
    "duration": 618,
    "start_time": "2023-08-01T18:10:08.296Z"
   },
   {
    "duration": 664,
    "start_time": "2023-08-01T18:10:08.916Z"
   },
   {
    "duration": 673,
    "start_time": "2023-08-01T18:10:09.589Z"
   },
   {
    "duration": 539,
    "start_time": "2023-08-01T18:10:10.265Z"
   },
   {
    "duration": 101,
    "start_time": "2023-08-01T18:10:10.806Z"
   },
   {
    "duration": 4,
    "start_time": "2023-08-01T18:10:10.911Z"
   },
   {
    "duration": 7,
    "start_time": "2023-08-01T18:10:10.917Z"
   },
   {
    "duration": 14,
    "start_time": "2023-08-01T18:10:10.927Z"
   },
   {
    "duration": 14,
    "start_time": "2023-08-01T18:10:10.944Z"
   },
   {
    "duration": 9,
    "start_time": "2023-08-01T18:10:10.960Z"
   },
   {
    "duration": 12,
    "start_time": "2023-08-01T18:10:10.972Z"
   },
   {
    "duration": 1916,
    "start_time": "2023-08-01T18:10:10.986Z"
   },
   {
    "duration": 3,
    "start_time": "2023-08-01T18:10:12.905Z"
   },
   {
    "duration": 7,
    "start_time": "2023-08-01T18:10:12.910Z"
   },
   {
    "duration": 4,
    "start_time": "2023-08-01T18:10:12.920Z"
   },
   {
    "duration": 5,
    "start_time": "2023-08-01T18:10:12.925Z"
   },
   {
    "duration": 7,
    "start_time": "2023-08-01T18:10:12.932Z"
   },
   {
    "duration": 4,
    "start_time": "2023-08-01T18:10:12.941Z"
   },
   {
    "duration": 40,
    "start_time": "2023-08-01T18:10:12.947Z"
   },
   {
    "duration": 6,
    "start_time": "2023-08-01T18:10:12.990Z"
   },
   {
    "duration": 7,
    "start_time": "2023-08-01T18:10:12.998Z"
   },
   {
    "duration": 23231,
    "start_time": "2023-08-01T18:10:13.007Z"
   },
   {
    "duration": 6,
    "start_time": "2023-08-01T18:10:36.239Z"
   },
   {
    "duration": 23234,
    "start_time": "2023-08-01T18:10:36.262Z"
   },
   {
    "duration": 0,
    "start_time": "2023-08-01T18:10:59.500Z"
   },
   {
    "duration": 0,
    "start_time": "2023-08-01T18:10:59.501Z"
   },
   {
    "duration": 0,
    "start_time": "2023-08-01T18:10:59.502Z"
   },
   {
    "duration": 0,
    "start_time": "2023-08-01T18:10:59.504Z"
   },
   {
    "duration": 0,
    "start_time": "2023-08-01T18:10:59.506Z"
   },
   {
    "duration": 0,
    "start_time": "2023-08-01T18:10:59.508Z"
   },
   {
    "duration": 0,
    "start_time": "2023-08-01T18:10:59.509Z"
   },
   {
    "duration": 0,
    "start_time": "2023-08-01T18:10:59.510Z"
   },
   {
    "duration": 0,
    "start_time": "2023-08-01T18:10:59.511Z"
   },
   {
    "duration": 0,
    "start_time": "2023-08-01T18:10:59.513Z"
   },
   {
    "duration": 0,
    "start_time": "2023-08-01T18:10:59.514Z"
   },
   {
    "duration": 0,
    "start_time": "2023-08-01T18:10:59.514Z"
   },
   {
    "duration": 0,
    "start_time": "2023-08-01T18:10:59.515Z"
   },
   {
    "duration": 0,
    "start_time": "2023-08-01T18:10:59.516Z"
   },
   {
    "duration": 0,
    "start_time": "2023-08-01T18:10:59.518Z"
   },
   {
    "duration": 172,
    "start_time": "2023-08-01T18:28:17.336Z"
   },
   {
    "duration": 5,
    "start_time": "2023-08-01T18:29:08.778Z"
   },
   {
    "duration": 16451,
    "start_time": "2023-08-01T18:29:09.848Z"
   },
   {
    "duration": 128,
    "start_time": "2023-08-01T18:30:45.483Z"
   },
   {
    "duration": 5,
    "start_time": "2023-08-01T18:31:10.978Z"
   },
   {
    "duration": 14887,
    "start_time": "2023-08-01T18:31:12.081Z"
   },
   {
    "duration": 8,
    "start_time": "2023-08-01T18:31:33.402Z"
   },
   {
    "duration": 23292,
    "start_time": "2023-08-01T18:32:01.078Z"
   },
   {
    "duration": 24827,
    "start_time": "2023-08-01T18:32:43.601Z"
   },
   {
    "duration": 14,
    "start_time": "2023-08-01T18:39:30.056Z"
   },
   {
    "duration": 15,
    "start_time": "2023-08-01T18:40:40.155Z"
   },
   {
    "duration": 23945,
    "start_time": "2023-08-01T18:41:30.286Z"
   },
   {
    "duration": 11,
    "start_time": "2023-08-01T18:42:42.565Z"
   },
   {
    "duration": 3,
    "start_time": "2023-08-01T18:44:25.686Z"
   },
   {
    "duration": 5,
    "start_time": "2023-08-01T18:44:34.143Z"
   },
   {
    "duration": 24491,
    "start_time": "2023-08-01T18:44:55.500Z"
   },
   {
    "duration": 1109,
    "start_time": "2023-08-01T18:52:36.952Z"
   },
   {
    "duration": 1023,
    "start_time": "2023-08-01T18:52:46.539Z"
   },
   {
    "duration": 116,
    "start_time": "2023-08-01T18:53:10.517Z"
   },
   {
    "duration": 2323,
    "start_time": "2023-08-01T18:53:22.060Z"
   },
   {
    "duration": 2386,
    "start_time": "2023-08-01T18:53:32.986Z"
   },
   {
    "duration": 13997,
    "start_time": "2023-08-01T18:53:47.662Z"
   },
   {
    "duration": 13813,
    "start_time": "2023-08-01T18:54:31.250Z"
   },
   {
    "duration": 31,
    "start_time": "2023-08-01T18:56:58.308Z"
   },
   {
    "duration": 3,
    "start_time": "2023-08-01T18:57:02.239Z"
   },
   {
    "duration": 2617,
    "start_time": "2023-08-01T18:57:02.740Z"
   },
   {
    "duration": 2198,
    "start_time": "2023-08-01T18:57:20.261Z"
   },
   {
    "duration": 2620,
    "start_time": "2023-08-01T18:57:35.654Z"
   },
   {
    "duration": 2572,
    "start_time": "2023-08-01T18:57:49.986Z"
   },
   {
    "duration": 2576,
    "start_time": "2023-08-01T18:58:04.786Z"
   },
   {
    "duration": 2398,
    "start_time": "2023-08-01T18:59:47.561Z"
   },
   {
    "duration": 5,
    "start_time": "2023-08-01T19:02:03.777Z"
   },
   {
    "duration": 2175,
    "start_time": "2023-08-01T19:02:50.423Z"
   },
   {
    "duration": 3222,
    "start_time": "2023-08-01T19:02:52.602Z"
   },
   {
    "duration": 32,
    "start_time": "2023-08-01T19:02:55.830Z"
   },
   {
    "duration": 28,
    "start_time": "2023-08-01T19:02:55.865Z"
   },
   {
    "duration": 26,
    "start_time": "2023-08-01T19:02:55.896Z"
   },
   {
    "duration": 68,
    "start_time": "2023-08-01T19:02:55.924Z"
   },
   {
    "duration": 34,
    "start_time": "2023-08-01T19:02:55.994Z"
   },
   {
    "duration": 53,
    "start_time": "2023-08-01T19:02:56.030Z"
   },
   {
    "duration": 8,
    "start_time": "2023-08-01T19:02:56.086Z"
   },
   {
    "duration": 4,
    "start_time": "2023-08-01T19:02:56.097Z"
   },
   {
    "duration": 5,
    "start_time": "2023-08-01T19:02:56.105Z"
   },
   {
    "duration": 418,
    "start_time": "2023-08-01T19:02:56.112Z"
   },
   {
    "duration": 362,
    "start_time": "2023-08-01T19:02:56.532Z"
   },
   {
    "duration": 224,
    "start_time": "2023-08-01T19:02:56.899Z"
   },
   {
    "duration": 4,
    "start_time": "2023-08-01T19:02:57.129Z"
   },
   {
    "duration": 22,
    "start_time": "2023-08-01T19:02:57.136Z"
   },
   {
    "duration": 9,
    "start_time": "2023-08-01T19:02:57.161Z"
   },
   {
    "duration": 6,
    "start_time": "2023-08-01T19:02:57.173Z"
   },
   {
    "duration": 8,
    "start_time": "2023-08-01T19:02:57.182Z"
   },
   {
    "duration": 12,
    "start_time": "2023-08-01T19:02:57.193Z"
   },
   {
    "duration": 59,
    "start_time": "2023-08-01T19:02:57.208Z"
   },
   {
    "duration": 367,
    "start_time": "2023-08-01T19:02:57.274Z"
   },
   {
    "duration": 40,
    "start_time": "2023-08-01T19:02:57.645Z"
   },
   {
    "duration": 21,
    "start_time": "2023-08-01T19:02:57.688Z"
   },
   {
    "duration": 7,
    "start_time": "2023-08-01T19:02:57.712Z"
   },
   {
    "duration": 39,
    "start_time": "2023-08-01T19:02:57.722Z"
   },
   {
    "duration": 35,
    "start_time": "2023-08-01T19:02:57.764Z"
   },
   {
    "duration": 12,
    "start_time": "2023-08-01T19:02:57.801Z"
   },
   {
    "duration": 83,
    "start_time": "2023-08-01T19:02:57.815Z"
   },
   {
    "duration": 19,
    "start_time": "2023-08-01T19:02:57.902Z"
   },
   {
    "duration": 39,
    "start_time": "2023-08-01T19:02:57.923Z"
   },
   {
    "duration": 13,
    "start_time": "2023-08-01T19:02:57.964Z"
   },
   {
    "duration": 32,
    "start_time": "2023-08-01T19:02:57.980Z"
   },
   {
    "duration": 13,
    "start_time": "2023-08-01T19:02:58.015Z"
   },
   {
    "duration": 1685,
    "start_time": "2023-08-01T19:02:58.031Z"
   },
   {
    "duration": 895,
    "start_time": "2023-08-01T19:02:59.718Z"
   },
   {
    "duration": 9,
    "start_time": "2023-08-01T19:03:00.615Z"
   },
   {
    "duration": 2395,
    "start_time": "2023-08-01T19:03:00.627Z"
   },
   {
    "duration": 537,
    "start_time": "2023-08-01T19:03:03.025Z"
   },
   {
    "duration": 908,
    "start_time": "2023-08-01T19:03:03.565Z"
   },
   {
    "duration": 1022,
    "start_time": "2023-08-01T19:03:04.483Z"
   },
   {
    "duration": 722,
    "start_time": "2023-08-01T19:03:05.508Z"
   },
   {
    "duration": 108,
    "start_time": "2023-08-01T19:03:06.232Z"
   },
   {
    "duration": 17,
    "start_time": "2023-08-01T19:03:06.343Z"
   },
   {
    "duration": 19,
    "start_time": "2023-08-01T19:03:06.362Z"
   },
   {
    "duration": 15,
    "start_time": "2023-08-01T19:03:06.384Z"
   },
   {
    "duration": 17,
    "start_time": "2023-08-01T19:03:06.402Z"
   },
   {
    "duration": 6,
    "start_time": "2023-08-01T19:03:06.422Z"
   },
   {
    "duration": 14,
    "start_time": "2023-08-01T19:03:06.431Z"
   },
   {
    "duration": 2460,
    "start_time": "2023-08-01T19:03:06.449Z"
   },
   {
    "duration": 6,
    "start_time": "2023-08-01T19:03:08.911Z"
   },
   {
    "duration": 17,
    "start_time": "2023-08-01T19:03:08.919Z"
   },
   {
    "duration": 5,
    "start_time": "2023-08-01T19:03:08.940Z"
   },
   {
    "duration": 9,
    "start_time": "2023-08-01T19:03:08.948Z"
   },
   {
    "duration": 10,
    "start_time": "2023-08-01T19:03:08.960Z"
   },
   {
    "duration": 6,
    "start_time": "2023-08-01T19:03:08.973Z"
   },
   {
    "duration": 34,
    "start_time": "2023-08-01T19:03:08.982Z"
   },
   {
    "duration": 2678,
    "start_time": "2023-08-01T19:03:09.019Z"
   },
   {
    "duration": 3,
    "start_time": "2023-08-01T19:03:11.700Z"
   },
   {
    "duration": 25,
    "start_time": "2023-08-01T19:03:11.705Z"
   },
   {
    "duration": 13,
    "start_time": "2023-08-01T19:03:11.732Z"
   },
   {
    "duration": 28454,
    "start_time": "2023-08-01T19:03:11.748Z"
   },
   {
    "duration": 31722,
    "start_time": "2023-08-01T19:03:40.205Z"
   },
   {
    "duration": 6,
    "start_time": "2023-08-01T19:04:11.930Z"
   },
   {
    "duration": 2447,
    "start_time": "2023-08-01T19:04:11.937Z"
   },
   {
    "duration": 4,
    "start_time": "2023-08-01T19:04:14.457Z"
   },
   {
    "duration": 3899,
    "start_time": "2023-08-01T19:04:14.464Z"
   },
   {
    "duration": 2787,
    "start_time": "2023-08-01T19:04:18.386Z"
   },
   {
    "duration": 80,
    "start_time": "2023-08-01T19:04:21.182Z"
   },
   {
    "duration": 16547,
    "start_time": "2023-08-01T19:04:21.269Z"
   },
   {
    "duration": 6,
    "start_time": "2023-08-01T19:04:37.819Z"
   },
   {
    "duration": 40,
    "start_time": "2023-08-01T19:04:37.826Z"
   },
   {
    "duration": 1705,
    "start_time": "2023-08-01T19:04:37.869Z"
   },
   {
    "duration": 1911,
    "start_time": "2023-08-01T19:04:39.578Z"
   },
   {
    "duration": 615,
    "start_time": "2023-08-01T19:04:41.558Z"
   },
   {
    "duration": 376,
    "start_time": "2023-08-01T19:04:42.181Z"
   },
   {
    "duration": 12,
    "start_time": "2023-08-01T19:04:42.565Z"
   },
   {
    "duration": 8,
    "start_time": "2023-08-01T19:04:42.658Z"
   },
   {
    "duration": 11,
    "start_time": "2023-08-01T19:04:42.669Z"
   },
   {
    "duration": 7,
    "start_time": "2023-08-01T19:04:42.683Z"
   },
   {
    "duration": 8,
    "start_time": "2023-08-01T19:04:42.693Z"
   },
   {
    "duration": 11,
    "start_time": "2023-08-01T19:04:42.704Z"
   },
   {
    "duration": 39,
    "start_time": "2023-08-01T19:04:42.719Z"
   },
   {
    "duration": 5,
    "start_time": "2023-08-01T19:06:35.795Z"
   },
   {
    "duration": 5,
    "start_time": "2023-08-01T19:06:46.159Z"
   },
   {
    "duration": 161,
    "start_time": "2023-08-01T19:10:02.019Z"
   },
   {
    "duration": 2008,
    "start_time": "2023-08-01T19:11:06.504Z"
   },
   {
    "duration": 1174,
    "start_time": "2023-08-01T19:11:08.514Z"
   },
   {
    "duration": 31,
    "start_time": "2023-08-01T19:11:09.694Z"
   },
   {
    "duration": 24,
    "start_time": "2023-08-01T19:11:09.731Z"
   },
   {
    "duration": 22,
    "start_time": "2023-08-01T19:11:09.768Z"
   },
   {
    "duration": 38,
    "start_time": "2023-08-01T19:11:09.798Z"
   },
   {
    "duration": 39,
    "start_time": "2023-08-01T19:11:09.838Z"
   },
   {
    "duration": 32,
    "start_time": "2023-08-01T19:11:09.879Z"
   },
   {
    "duration": 7,
    "start_time": "2023-08-01T19:11:09.913Z"
   },
   {
    "duration": 6,
    "start_time": "2023-08-01T19:11:09.927Z"
   },
   {
    "duration": 9,
    "start_time": "2023-08-01T19:11:09.939Z"
   },
   {
    "duration": 367,
    "start_time": "2023-08-01T19:11:09.950Z"
   },
   {
    "duration": 264,
    "start_time": "2023-08-01T19:11:10.319Z"
   },
   {
    "duration": 149,
    "start_time": "2023-08-01T19:11:10.585Z"
   },
   {
    "duration": 3,
    "start_time": "2023-08-01T19:11:10.738Z"
   },
   {
    "duration": 23,
    "start_time": "2023-08-01T19:11:10.744Z"
   },
   {
    "duration": 27,
    "start_time": "2023-08-01T19:11:10.769Z"
   },
   {
    "duration": 6,
    "start_time": "2023-08-01T19:11:10.802Z"
   },
   {
    "duration": 6,
    "start_time": "2023-08-01T19:11:10.810Z"
   },
   {
    "duration": 10,
    "start_time": "2023-08-01T19:11:10.817Z"
   },
   {
    "duration": 19,
    "start_time": "2023-08-01T19:11:10.829Z"
   },
   {
    "duration": 320,
    "start_time": "2023-08-01T19:11:10.850Z"
   },
   {
    "duration": 28,
    "start_time": "2023-08-01T19:11:11.171Z"
   },
   {
    "duration": 21,
    "start_time": "2023-08-01T19:11:11.212Z"
   },
   {
    "duration": 4,
    "start_time": "2023-08-01T19:11:11.236Z"
   },
   {
    "duration": 18,
    "start_time": "2023-08-01T19:11:11.242Z"
   },
   {
    "duration": 63,
    "start_time": "2023-08-01T19:11:11.262Z"
   },
   {
    "duration": 17,
    "start_time": "2023-08-01T19:11:11.338Z"
   },
   {
    "duration": 68,
    "start_time": "2023-08-01T19:11:11.359Z"
   },
   {
    "duration": 15,
    "start_time": "2023-08-01T19:11:11.431Z"
   },
   {
    "duration": 24,
    "start_time": "2023-08-01T19:11:11.448Z"
   },
   {
    "duration": 10,
    "start_time": "2023-08-01T19:11:11.474Z"
   },
   {
    "duration": 15,
    "start_time": "2023-08-01T19:11:11.485Z"
   },
   {
    "duration": 4,
    "start_time": "2023-08-01T19:11:11.502Z"
   },
   {
    "duration": 1161,
    "start_time": "2023-08-01T19:11:11.508Z"
   },
   {
    "duration": 960,
    "start_time": "2023-08-01T19:11:12.671Z"
   },
   {
    "duration": 26,
    "start_time": "2023-08-01T19:11:13.634Z"
   },
   {
    "duration": 2526,
    "start_time": "2023-08-01T19:11:13.663Z"
   },
   {
    "duration": 726,
    "start_time": "2023-08-01T19:11:16.194Z"
   },
   {
    "duration": 726,
    "start_time": "2023-08-01T19:11:16.927Z"
   },
   {
    "duration": 1261,
    "start_time": "2023-08-01T19:11:17.658Z"
   },
   {
    "duration": 1037,
    "start_time": "2023-08-01T19:11:18.922Z"
   },
   {
    "duration": 146,
    "start_time": "2023-08-01T19:11:19.971Z"
   },
   {
    "duration": 8,
    "start_time": "2023-08-01T19:11:20.129Z"
   },
   {
    "duration": 12,
    "start_time": "2023-08-01T19:11:20.143Z"
   },
   {
    "duration": 14,
    "start_time": "2023-08-01T19:11:20.162Z"
   },
   {
    "duration": 4,
    "start_time": "2023-08-01T19:11:20.180Z"
   },
   {
    "duration": 5,
    "start_time": "2023-08-01T19:11:20.189Z"
   },
   {
    "duration": 12,
    "start_time": "2023-08-01T19:11:20.197Z"
   },
   {
    "duration": 2774,
    "start_time": "2023-08-01T19:11:20.212Z"
   },
   {
    "duration": 5,
    "start_time": "2023-08-01T19:11:22.993Z"
   },
   {
    "duration": 11,
    "start_time": "2023-08-01T19:11:22.999Z"
   },
   {
    "duration": 5,
    "start_time": "2023-08-01T19:11:23.013Z"
   },
   {
    "duration": 6,
    "start_time": "2023-08-01T19:11:23.020Z"
   },
   {
    "duration": 8,
    "start_time": "2023-08-01T19:11:23.028Z"
   },
   {
    "duration": 8,
    "start_time": "2023-08-01T19:11:23.057Z"
   },
   {
    "duration": 38,
    "start_time": "2023-08-01T19:11:23.070Z"
   },
   {
    "duration": 2782,
    "start_time": "2023-08-01T19:11:23.113Z"
   },
   {
    "duration": 31154,
    "start_time": "2023-08-01T19:11:25.898Z"
   },
   {
    "duration": 29723,
    "start_time": "2023-08-01T19:11:57.055Z"
   },
   {
    "duration": 5,
    "start_time": "2023-08-01T19:12:26.780Z"
   },
   {
    "duration": 2319,
    "start_time": "2023-08-01T19:12:26.791Z"
   },
   {
    "duration": 13,
    "start_time": "2023-08-01T19:12:29.119Z"
   },
   {
    "duration": 2722,
    "start_time": "2023-08-01T19:12:29.138Z"
   },
   {
    "duration": 5040,
    "start_time": "2023-08-01T19:12:31.868Z"
   },
   {
    "duration": 21,
    "start_time": "2023-08-01T19:12:36.967Z"
   },
   {
    "duration": 19136,
    "start_time": "2023-08-01T19:12:37.013Z"
   },
   {
    "duration": 16,
    "start_time": "2023-08-01T19:12:56.158Z"
   },
   {
    "duration": 23,
    "start_time": "2023-08-01T19:12:56.177Z"
   },
   {
    "duration": 3322,
    "start_time": "2023-08-01T19:12:56.202Z"
   },
   {
    "duration": 1650,
    "start_time": "2023-08-01T19:12:59.529Z"
   },
   {
    "duration": 859,
    "start_time": "2023-08-01T19:13:01.199Z"
   },
   {
    "duration": 161,
    "start_time": "2023-08-01T19:13:02.079Z"
   },
   {
    "duration": 15,
    "start_time": "2023-08-01T19:13:02.242Z"
   },
   {
    "duration": 20,
    "start_time": "2023-08-01T19:13:02.261Z"
   },
   {
    "duration": 85,
    "start_time": "2023-08-01T19:13:02.288Z"
   },
   {
    "duration": 11,
    "start_time": "2023-08-01T19:13:02.375Z"
   },
   {
    "duration": 18,
    "start_time": "2023-08-01T19:13:02.389Z"
   },
   {
    "duration": 16,
    "start_time": "2023-08-01T19:13:02.410Z"
   },
   {
    "duration": 20,
    "start_time": "2023-08-01T19:13:02.431Z"
   },
   {
    "duration": 3817,
    "start_time": "2023-08-01T19:14:40.311Z"
   },
   {
    "duration": 4243,
    "start_time": "2023-08-01T19:15:03.014Z"
   },
   {
    "duration": 5,
    "start_time": "2023-08-01T19:15:09.253Z"
   },
   {
    "duration": 2015,
    "start_time": "2023-08-01T19:19:49.102Z"
   },
   {
    "duration": 3259,
    "start_time": "2023-08-01T19:19:51.120Z"
   },
   {
    "duration": 29,
    "start_time": "2023-08-01T19:19:54.381Z"
   },
   {
    "duration": 26,
    "start_time": "2023-08-01T19:19:54.413Z"
   },
   {
    "duration": 16,
    "start_time": "2023-08-01T19:19:54.443Z"
   },
   {
    "duration": 34,
    "start_time": "2023-08-01T19:19:54.464Z"
   },
   {
    "duration": 34,
    "start_time": "2023-08-01T19:19:54.500Z"
   },
   {
    "duration": 40,
    "start_time": "2023-08-01T19:19:54.557Z"
   },
   {
    "duration": 8,
    "start_time": "2023-08-01T19:19:54.600Z"
   },
   {
    "duration": 8,
    "start_time": "2023-08-01T19:19:54.609Z"
   },
   {
    "duration": 9,
    "start_time": "2023-08-01T19:19:54.618Z"
   },
   {
    "duration": 406,
    "start_time": "2023-08-01T19:19:54.629Z"
   },
   {
    "duration": 271,
    "start_time": "2023-08-01T19:19:55.037Z"
   },
   {
    "duration": 138,
    "start_time": "2023-08-01T19:19:55.311Z"
   },
   {
    "duration": 10,
    "start_time": "2023-08-01T19:19:55.451Z"
   },
   {
    "duration": 26,
    "start_time": "2023-08-01T19:19:55.466Z"
   },
   {
    "duration": 16,
    "start_time": "2023-08-01T19:19:55.495Z"
   },
   {
    "duration": 17,
    "start_time": "2023-08-01T19:19:55.514Z"
   },
   {
    "duration": 6,
    "start_time": "2023-08-01T19:19:55.533Z"
   },
   {
    "duration": 13,
    "start_time": "2023-08-01T19:19:55.542Z"
   },
   {
    "duration": 31,
    "start_time": "2023-08-01T19:19:55.559Z"
   },
   {
    "duration": 262,
    "start_time": "2023-08-01T19:19:55.592Z"
   },
   {
    "duration": 29,
    "start_time": "2023-08-01T19:19:55.862Z"
   },
   {
    "duration": 19,
    "start_time": "2023-08-01T19:19:55.894Z"
   },
   {
    "duration": 5,
    "start_time": "2023-08-01T19:19:55.915Z"
   },
   {
    "duration": 26,
    "start_time": "2023-08-01T19:19:55.922Z"
   },
   {
    "duration": 39,
    "start_time": "2023-08-01T19:19:55.959Z"
   },
   {
    "duration": 4,
    "start_time": "2023-08-01T19:19:56.000Z"
   },
   {
    "duration": 81,
    "start_time": "2023-08-01T19:19:56.007Z"
   },
   {
    "duration": 16,
    "start_time": "2023-08-01T19:19:56.091Z"
   },
   {
    "duration": 15,
    "start_time": "2023-08-01T19:19:56.109Z"
   },
   {
    "duration": 46,
    "start_time": "2023-08-01T19:19:56.127Z"
   },
   {
    "duration": 16,
    "start_time": "2023-08-01T19:19:56.180Z"
   },
   {
    "duration": 18,
    "start_time": "2023-08-01T19:19:56.198Z"
   },
   {
    "duration": 1316,
    "start_time": "2023-08-01T19:19:56.219Z"
   },
   {
    "duration": 1107,
    "start_time": "2023-08-01T19:19:57.537Z"
   },
   {
    "duration": 23,
    "start_time": "2023-08-01T19:19:58.646Z"
   },
   {
    "duration": 2070,
    "start_time": "2023-08-01T19:19:58.671Z"
   },
   {
    "duration": 551,
    "start_time": "2023-08-01T19:20:00.743Z"
   },
   {
    "duration": 527,
    "start_time": "2023-08-01T19:20:01.296Z"
   },
   {
    "duration": 870,
    "start_time": "2023-08-01T19:20:01.828Z"
   },
   {
    "duration": 610,
    "start_time": "2023-08-01T19:20:02.701Z"
   },
   {
    "duration": 89,
    "start_time": "2023-08-01T19:20:03.313Z"
   },
   {
    "duration": 3,
    "start_time": "2023-08-01T19:20:03.405Z"
   },
   {
    "duration": 6,
    "start_time": "2023-08-01T19:20:03.410Z"
   },
   {
    "duration": 7,
    "start_time": "2023-08-01T19:20:03.418Z"
   },
   {
    "duration": 11,
    "start_time": "2023-08-01T19:20:03.426Z"
   },
   {
    "duration": 44,
    "start_time": "2023-08-01T19:20:03.439Z"
   },
   {
    "duration": 10,
    "start_time": "2023-08-01T19:20:03.485Z"
   },
   {
    "duration": 1877,
    "start_time": "2023-08-01T19:20:03.497Z"
   },
   {
    "duration": 5,
    "start_time": "2023-08-01T19:20:05.381Z"
   },
   {
    "duration": 7,
    "start_time": "2023-08-01T19:20:05.388Z"
   },
   {
    "duration": 14,
    "start_time": "2023-08-01T19:20:05.396Z"
   },
   {
    "duration": 6,
    "start_time": "2023-08-01T19:20:05.412Z"
   },
   {
    "duration": 13,
    "start_time": "2023-08-01T19:20:05.420Z"
   },
   {
    "duration": 10,
    "start_time": "2023-08-01T19:20:05.435Z"
   },
   {
    "duration": 29,
    "start_time": "2023-08-01T19:20:05.448Z"
   },
   {
    "duration": 2434,
    "start_time": "2023-08-01T19:20:05.479Z"
   },
   {
    "duration": 26043,
    "start_time": "2023-08-01T19:20:07.916Z"
   },
   {
    "duration": 25016,
    "start_time": "2023-08-01T19:20:33.962Z"
   },
   {
    "duration": 11,
    "start_time": "2023-08-01T19:20:58.980Z"
   },
   {
    "duration": 1567,
    "start_time": "2023-08-01T19:20:58.994Z"
   },
   {
    "duration": 231,
    "start_time": "2023-08-01T19:21:00.566Z"
   },
   {
    "duration": 0,
    "start_time": "2023-08-01T19:21:00.799Z"
   },
   {
    "duration": 0,
    "start_time": "2023-08-01T19:21:00.802Z"
   },
   {
    "duration": 1,
    "start_time": "2023-08-01T19:21:00.803Z"
   },
   {
    "duration": 0,
    "start_time": "2023-08-01T19:21:00.805Z"
   },
   {
    "duration": 0,
    "start_time": "2023-08-01T19:21:00.806Z"
   },
   {
    "duration": 0,
    "start_time": "2023-08-01T19:21:00.808Z"
   },
   {
    "duration": 0,
    "start_time": "2023-08-01T19:21:00.809Z"
   },
   {
    "duration": 0,
    "start_time": "2023-08-01T19:21:00.810Z"
   },
   {
    "duration": 0,
    "start_time": "2023-08-01T19:21:00.812Z"
   },
   {
    "duration": 0,
    "start_time": "2023-08-01T19:21:00.814Z"
   },
   {
    "duration": 0,
    "start_time": "2023-08-01T19:21:00.814Z"
   },
   {
    "duration": 1,
    "start_time": "2023-08-01T19:21:00.815Z"
   },
   {
    "duration": 0,
    "start_time": "2023-08-01T19:21:00.816Z"
   },
   {
    "duration": 0,
    "start_time": "2023-08-01T19:21:00.817Z"
   },
   {
    "duration": 0,
    "start_time": "2023-08-01T19:21:00.819Z"
   },
   {
    "duration": 0,
    "start_time": "2023-08-01T19:21:00.819Z"
   },
   {
    "duration": 0,
    "start_time": "2023-08-01T19:21:00.860Z"
   },
   {
    "duration": 14,
    "start_time": "2023-08-01T19:21:35.298Z"
   },
   {
    "duration": 19,
    "start_time": "2023-08-01T19:22:06.455Z"
   },
   {
    "duration": 14,
    "start_time": "2023-08-01T19:22:10.099Z"
   },
   {
    "duration": 5,
    "start_time": "2023-08-01T19:23:51.055Z"
   },
   {
    "duration": 13,
    "start_time": "2023-08-01T19:23:52.641Z"
   },
   {
    "duration": 118,
    "start_time": "2023-08-01T19:25:04.390Z"
   },
   {
    "duration": 124,
    "start_time": "2023-08-01T19:25:24.094Z"
   },
   {
    "duration": 3404,
    "start_time": "2023-08-01T19:25:34.360Z"
   },
   {
    "duration": 1612,
    "start_time": "2023-08-01T19:27:10.326Z"
   },
   {
    "duration": 891,
    "start_time": "2023-08-01T19:27:11.940Z"
   },
   {
    "duration": 28,
    "start_time": "2023-08-01T19:27:12.833Z"
   },
   {
    "duration": 30,
    "start_time": "2023-08-01T19:27:12.863Z"
   },
   {
    "duration": 23,
    "start_time": "2023-08-01T19:27:12.897Z"
   },
   {
    "duration": 47,
    "start_time": "2023-08-01T19:27:12.923Z"
   },
   {
    "duration": 30,
    "start_time": "2023-08-01T19:27:12.972Z"
   },
   {
    "duration": 27,
    "start_time": "2023-08-01T19:27:13.004Z"
   },
   {
    "duration": 11,
    "start_time": "2023-08-01T19:27:13.033Z"
   },
   {
    "duration": 27,
    "start_time": "2023-08-01T19:27:13.045Z"
   },
   {
    "duration": 17,
    "start_time": "2023-08-01T19:27:13.076Z"
   },
   {
    "duration": 291,
    "start_time": "2023-08-01T19:27:13.095Z"
   },
   {
    "duration": 235,
    "start_time": "2023-08-01T19:27:13.389Z"
   },
   {
    "duration": 156,
    "start_time": "2023-08-01T19:27:13.627Z"
   },
   {
    "duration": 4,
    "start_time": "2023-08-01T19:27:13.790Z"
   },
   {
    "duration": 9,
    "start_time": "2023-08-01T19:27:13.796Z"
   },
   {
    "duration": 7,
    "start_time": "2023-08-01T19:27:13.807Z"
   },
   {
    "duration": 4,
    "start_time": "2023-08-01T19:27:13.815Z"
   },
   {
    "duration": 7,
    "start_time": "2023-08-01T19:27:13.821Z"
   },
   {
    "duration": 6,
    "start_time": "2023-08-01T19:27:13.830Z"
   },
   {
    "duration": 51,
    "start_time": "2023-08-01T19:27:13.838Z"
   },
   {
    "duration": 281,
    "start_time": "2023-08-01T19:27:13.895Z"
   },
   {
    "duration": 24,
    "start_time": "2023-08-01T19:27:14.187Z"
   },
   {
    "duration": 14,
    "start_time": "2023-08-01T19:27:14.213Z"
   },
   {
    "duration": 5,
    "start_time": "2023-08-01T19:27:14.229Z"
   },
   {
    "duration": 6,
    "start_time": "2023-08-01T19:27:14.236Z"
   },
   {
    "duration": 44,
    "start_time": "2023-08-01T19:27:14.244Z"
   },
   {
    "duration": 5,
    "start_time": "2023-08-01T19:27:14.294Z"
   },
   {
    "duration": 79,
    "start_time": "2023-08-01T19:27:14.300Z"
   },
   {
    "duration": 19,
    "start_time": "2023-08-01T19:27:14.381Z"
   },
   {
    "duration": 20,
    "start_time": "2023-08-01T19:27:14.402Z"
   },
   {
    "duration": 11,
    "start_time": "2023-08-01T19:27:14.424Z"
   },
   {
    "duration": 35,
    "start_time": "2023-08-01T19:27:14.437Z"
   },
   {
    "duration": 6,
    "start_time": "2023-08-01T19:27:14.480Z"
   },
   {
    "duration": 1059,
    "start_time": "2023-08-01T19:27:14.488Z"
   },
   {
    "duration": 727,
    "start_time": "2023-08-01T19:27:15.550Z"
   },
   {
    "duration": 8,
    "start_time": "2023-08-01T19:27:16.279Z"
   },
   {
    "duration": 1731,
    "start_time": "2023-08-01T19:27:16.289Z"
   },
   {
    "duration": 585,
    "start_time": "2023-08-01T19:27:18.023Z"
   },
   {
    "duration": 667,
    "start_time": "2023-08-01T19:27:18.611Z"
   },
   {
    "duration": 887,
    "start_time": "2023-08-01T19:27:19.288Z"
   },
   {
    "duration": 853,
    "start_time": "2023-08-01T19:27:20.178Z"
   },
   {
    "duration": 81,
    "start_time": "2023-08-01T19:27:21.033Z"
   },
   {
    "duration": 3,
    "start_time": "2023-08-01T19:27:21.116Z"
   },
   {
    "duration": 7,
    "start_time": "2023-08-01T19:27:21.120Z"
   },
   {
    "duration": 9,
    "start_time": "2023-08-01T19:27:21.128Z"
   },
   {
    "duration": 7,
    "start_time": "2023-08-01T19:27:21.138Z"
   },
   {
    "duration": 6,
    "start_time": "2023-08-01T19:27:21.162Z"
   },
   {
    "duration": 28,
    "start_time": "2023-08-01T19:27:21.169Z"
   },
   {
    "duration": 1729,
    "start_time": "2023-08-01T19:27:21.199Z"
   },
   {
    "duration": 8,
    "start_time": "2023-08-01T19:27:22.932Z"
   },
   {
    "duration": 3,
    "start_time": "2023-08-01T19:27:22.949Z"
   },
   {
    "duration": 11,
    "start_time": "2023-08-01T19:27:22.955Z"
   },
   {
    "duration": 4,
    "start_time": "2023-08-01T19:27:22.968Z"
   },
   {
    "duration": 11,
    "start_time": "2023-08-01T19:27:22.974Z"
   },
   {
    "duration": 12,
    "start_time": "2023-08-01T19:27:22.990Z"
   },
   {
    "duration": 30,
    "start_time": "2023-08-01T19:27:23.004Z"
   },
   {
    "duration": 2567,
    "start_time": "2023-08-01T19:27:23.036Z"
   },
   {
    "duration": 25604,
    "start_time": "2023-08-01T19:27:25.605Z"
   },
   {
    "duration": 25989,
    "start_time": "2023-08-01T19:27:51.214Z"
   },
   {
    "duration": 4,
    "start_time": "2023-08-01T19:28:17.205Z"
   },
   {
    "duration": 1848,
    "start_time": "2023-08-01T19:28:17.211Z"
   },
   {
    "duration": 181,
    "start_time": "2023-08-01T19:28:19.066Z"
   },
   {
    "duration": 0,
    "start_time": "2023-08-01T19:28:19.249Z"
   },
   {
    "duration": 0,
    "start_time": "2023-08-01T19:28:19.251Z"
   },
   {
    "duration": 0,
    "start_time": "2023-08-01T19:28:19.253Z"
   },
   {
    "duration": 0,
    "start_time": "2023-08-01T19:28:19.255Z"
   },
   {
    "duration": 0,
    "start_time": "2023-08-01T19:28:19.261Z"
   },
   {
    "duration": 0,
    "start_time": "2023-08-01T19:28:19.263Z"
   },
   {
    "duration": 0,
    "start_time": "2023-08-01T19:28:19.265Z"
   },
   {
    "duration": 0,
    "start_time": "2023-08-01T19:28:19.266Z"
   },
   {
    "duration": 0,
    "start_time": "2023-08-01T19:28:19.267Z"
   },
   {
    "duration": 0,
    "start_time": "2023-08-01T19:28:19.274Z"
   },
   {
    "duration": 0,
    "start_time": "2023-08-01T19:28:19.275Z"
   },
   {
    "duration": 0,
    "start_time": "2023-08-01T19:28:19.276Z"
   },
   {
    "duration": 0,
    "start_time": "2023-08-01T19:28:19.276Z"
   },
   {
    "duration": 0,
    "start_time": "2023-08-01T19:28:19.277Z"
   },
   {
    "duration": 0,
    "start_time": "2023-08-01T19:28:19.278Z"
   },
   {
    "duration": 0,
    "start_time": "2023-08-01T19:28:19.279Z"
   },
   {
    "duration": 0,
    "start_time": "2023-08-01T19:28:19.279Z"
   },
   {
    "duration": 0,
    "start_time": "2023-08-01T19:28:19.280Z"
   },
   {
    "duration": 0,
    "start_time": "2023-08-01T19:28:19.281Z"
   },
   {
    "duration": 1578,
    "start_time": "2023-08-01T19:29:31.297Z"
   },
   {
    "duration": 853,
    "start_time": "2023-08-01T19:29:32.884Z"
   },
   {
    "duration": 22,
    "start_time": "2023-08-01T19:29:33.739Z"
   },
   {
    "duration": 22,
    "start_time": "2023-08-01T19:29:33.763Z"
   },
   {
    "duration": 17,
    "start_time": "2023-08-01T19:29:33.787Z"
   },
   {
    "duration": 53,
    "start_time": "2023-08-01T19:29:33.806Z"
   },
   {
    "duration": 44,
    "start_time": "2023-08-01T19:29:33.861Z"
   },
   {
    "duration": 25,
    "start_time": "2023-08-01T19:29:33.908Z"
   },
   {
    "duration": 5,
    "start_time": "2023-08-01T19:29:33.935Z"
   },
   {
    "duration": 34,
    "start_time": "2023-08-01T19:29:33.941Z"
   },
   {
    "duration": 5,
    "start_time": "2023-08-01T19:29:33.976Z"
   },
   {
    "duration": 294,
    "start_time": "2023-08-01T19:29:33.983Z"
   },
   {
    "duration": 241,
    "start_time": "2023-08-01T19:29:34.282Z"
   },
   {
    "duration": 143,
    "start_time": "2023-08-01T19:29:34.526Z"
   },
   {
    "duration": 10,
    "start_time": "2023-08-01T19:29:34.671Z"
   },
   {
    "duration": 7,
    "start_time": "2023-08-01T19:29:34.691Z"
   },
   {
    "duration": 7,
    "start_time": "2023-08-01T19:29:34.700Z"
   },
   {
    "duration": 4,
    "start_time": "2023-08-01T19:29:34.709Z"
   },
   {
    "duration": 6,
    "start_time": "2023-08-01T19:29:34.715Z"
   },
   {
    "duration": 7,
    "start_time": "2023-08-01T19:29:34.723Z"
   },
   {
    "duration": 39,
    "start_time": "2023-08-01T19:29:34.732Z"
   },
   {
    "duration": 274,
    "start_time": "2023-08-01T19:29:34.773Z"
   },
   {
    "duration": 35,
    "start_time": "2023-08-01T19:29:35.049Z"
   },
   {
    "duration": 18,
    "start_time": "2023-08-01T19:29:35.086Z"
   },
   {
    "duration": 7,
    "start_time": "2023-08-01T19:29:35.106Z"
   },
   {
    "duration": 12,
    "start_time": "2023-08-01T19:29:35.115Z"
   },
   {
    "duration": 36,
    "start_time": "2023-08-01T19:29:35.129Z"
   },
   {
    "duration": 6,
    "start_time": "2023-08-01T19:29:35.166Z"
   },
   {
    "duration": 69,
    "start_time": "2023-08-01T19:29:35.173Z"
   },
   {
    "duration": 29,
    "start_time": "2023-08-01T19:29:35.244Z"
   },
   {
    "duration": 16,
    "start_time": "2023-08-01T19:29:35.275Z"
   },
   {
    "duration": 7,
    "start_time": "2023-08-01T19:29:35.296Z"
   },
   {
    "duration": 14,
    "start_time": "2023-08-01T19:29:35.305Z"
   },
   {
    "duration": 7,
    "start_time": "2023-08-01T19:29:35.321Z"
   },
   {
    "duration": 1108,
    "start_time": "2023-08-01T19:29:35.330Z"
   },
   {
    "duration": 882,
    "start_time": "2023-08-01T19:29:36.440Z"
   },
   {
    "duration": 11,
    "start_time": "2023-08-01T19:29:37.325Z"
   },
   {
    "duration": 2129,
    "start_time": "2023-08-01T19:29:37.339Z"
   },
   {
    "duration": 613,
    "start_time": "2023-08-01T19:29:39.471Z"
   },
   {
    "duration": 507,
    "start_time": "2023-08-01T19:29:40.086Z"
   },
   {
    "duration": 729,
    "start_time": "2023-08-01T19:29:40.598Z"
   },
   {
    "duration": 556,
    "start_time": "2023-08-01T19:29:41.329Z"
   },
   {
    "duration": 74,
    "start_time": "2023-08-01T19:29:41.892Z"
   },
   {
    "duration": 4,
    "start_time": "2023-08-01T19:29:41.967Z"
   },
   {
    "duration": 3,
    "start_time": "2023-08-01T19:29:41.973Z"
   },
   {
    "duration": 3,
    "start_time": "2023-08-01T19:29:41.978Z"
   },
   {
    "duration": 4,
    "start_time": "2023-08-01T19:29:41.982Z"
   },
   {
    "duration": 23,
    "start_time": "2023-08-01T19:29:41.988Z"
   },
   {
    "duration": 9,
    "start_time": "2023-08-01T19:29:42.013Z"
   },
   {
    "duration": 1700,
    "start_time": "2023-08-01T19:29:42.023Z"
   },
   {
    "duration": 2,
    "start_time": "2023-08-01T19:29:43.725Z"
   },
   {
    "duration": 22,
    "start_time": "2023-08-01T19:29:43.729Z"
   },
   {
    "duration": 17,
    "start_time": "2023-08-01T19:29:43.753Z"
   },
   {
    "duration": 3,
    "start_time": "2023-08-01T19:29:43.775Z"
   },
   {
    "duration": 15,
    "start_time": "2023-08-01T19:29:43.781Z"
   },
   {
    "duration": 4,
    "start_time": "2023-08-01T19:29:43.798Z"
   },
   {
    "duration": 59,
    "start_time": "2023-08-01T19:29:43.804Z"
   },
   {
    "duration": 2527,
    "start_time": "2023-08-01T19:29:43.864Z"
   },
   {
    "duration": 25752,
    "start_time": "2023-08-01T19:29:46.393Z"
   },
   {
    "duration": 25549,
    "start_time": "2023-08-01T19:30:12.147Z"
   },
   {
    "duration": 3,
    "start_time": "2023-08-01T19:30:37.699Z"
   },
   {
    "duration": 2163,
    "start_time": "2023-08-01T19:30:37.704Z"
   },
   {
    "duration": 12,
    "start_time": "2023-08-01T19:30:39.878Z"
   },
   {
    "duration": 4802,
    "start_time": "2023-08-01T19:30:39.895Z"
   },
   {
    "duration": 3503,
    "start_time": "2023-08-01T19:30:44.781Z"
   },
   {
    "duration": 85,
    "start_time": "2023-08-01T19:30:48.292Z"
   },
   {
    "duration": 15733,
    "start_time": "2023-08-01T19:30:48.388Z"
   },
   {
    "duration": 6,
    "start_time": "2023-08-01T19:31:04.123Z"
   },
   {
    "duration": 11,
    "start_time": "2023-08-01T19:31:04.131Z"
   },
   {
    "duration": 1627,
    "start_time": "2023-08-01T19:31:04.158Z"
   },
   {
    "duration": 3474,
    "start_time": "2023-08-01T19:31:05.794Z"
   },
   {
    "duration": 798,
    "start_time": "2023-08-01T19:31:09.309Z"
   },
   {
    "duration": 137,
    "start_time": "2023-08-01T19:31:10.177Z"
   },
   {
    "duration": 48,
    "start_time": "2023-08-01T19:31:10.315Z"
   },
   {
    "duration": 16,
    "start_time": "2023-08-01T19:31:10.365Z"
   },
   {
    "duration": 11,
    "start_time": "2023-08-01T19:31:10.382Z"
   },
   {
    "duration": 4389,
    "start_time": "2023-08-01T19:31:10.398Z"
   },
   {
    "duration": 68,
    "start_time": "2023-08-01T19:31:14.797Z"
   },
   {
    "duration": 17,
    "start_time": "2023-08-01T19:31:14.878Z"
   },
   {
    "duration": 9,
    "start_time": "2023-08-01T19:31:14.903Z"
   },
   {
    "duration": 23,
    "start_time": "2023-08-01T19:31:14.918Z"
   },
   {
    "duration": 2322,
    "start_time": "2023-08-01T19:35:48.269Z"
   },
   {
    "duration": 3166,
    "start_time": "2023-08-01T19:36:07.146Z"
   },
   {
    "duration": 153,
    "start_time": "2023-08-01T19:37:34.279Z"
   },
   {
    "duration": 1899,
    "start_time": "2023-08-01T19:38:20.780Z"
   },
   {
    "duration": 1837,
    "start_time": "2023-08-01T19:38:22.682Z"
   },
   {
    "duration": 3165,
    "start_time": "2023-08-01T19:38:38.592Z"
   },
   {
    "duration": 8,
    "start_time": "2023-08-01T19:39:11.888Z"
   },
   {
    "duration": 1624,
    "start_time": "2023-08-01T19:45:38.797Z"
   },
   {
    "duration": 868,
    "start_time": "2023-08-01T19:45:40.423Z"
   },
   {
    "duration": 19,
    "start_time": "2023-08-01T19:45:41.293Z"
   },
   {
    "duration": 18,
    "start_time": "2023-08-01T19:45:41.314Z"
   },
   {
    "duration": 38,
    "start_time": "2023-08-01T19:45:41.334Z"
   },
   {
    "duration": 35,
    "start_time": "2023-08-01T19:45:41.381Z"
   },
   {
    "duration": 22,
    "start_time": "2023-08-01T19:45:41.419Z"
   },
   {
    "duration": 42,
    "start_time": "2023-08-01T19:45:41.442Z"
   },
   {
    "duration": 4,
    "start_time": "2023-08-01T19:45:41.486Z"
   },
   {
    "duration": 9,
    "start_time": "2023-08-01T19:45:41.492Z"
   },
   {
    "duration": 5,
    "start_time": "2023-08-01T19:45:41.503Z"
   },
   {
    "duration": 294,
    "start_time": "2023-08-01T19:45:41.509Z"
   },
   {
    "duration": 234,
    "start_time": "2023-08-01T19:45:41.805Z"
   },
   {
    "duration": 154,
    "start_time": "2023-08-01T19:45:42.041Z"
   },
   {
    "duration": 3,
    "start_time": "2023-08-01T19:45:42.197Z"
   },
   {
    "duration": 7,
    "start_time": "2023-08-01T19:45:42.202Z"
   },
   {
    "duration": 7,
    "start_time": "2023-08-01T19:45:42.210Z"
   },
   {
    "duration": 4,
    "start_time": "2023-08-01T19:45:42.218Z"
   },
   {
    "duration": 9,
    "start_time": "2023-08-01T19:45:42.224Z"
   },
   {
    "duration": 36,
    "start_time": "2023-08-01T19:45:42.235Z"
   },
   {
    "duration": 20,
    "start_time": "2023-08-01T19:45:42.275Z"
   },
   {
    "duration": 258,
    "start_time": "2023-08-01T19:45:42.299Z"
   },
   {
    "duration": 36,
    "start_time": "2023-08-01T19:45:42.559Z"
   },
   {
    "duration": 14,
    "start_time": "2023-08-01T19:45:42.604Z"
   },
   {
    "duration": 4,
    "start_time": "2023-08-01T19:45:42.619Z"
   },
   {
    "duration": 14,
    "start_time": "2023-08-01T19:45:42.624Z"
   },
   {
    "duration": 23,
    "start_time": "2023-08-01T19:45:42.640Z"
   },
   {
    "duration": 10,
    "start_time": "2023-08-01T19:45:42.667Z"
   },
   {
    "duration": 51,
    "start_time": "2023-08-01T19:45:42.679Z"
   },
   {
    "duration": 11,
    "start_time": "2023-08-01T19:45:42.732Z"
   },
   {
    "duration": 27,
    "start_time": "2023-08-01T19:45:42.745Z"
   },
   {
    "duration": 14,
    "start_time": "2023-08-01T19:45:42.773Z"
   },
   {
    "duration": 15,
    "start_time": "2023-08-01T19:45:42.791Z"
   },
   {
    "duration": 3,
    "start_time": "2023-08-01T19:45:42.808Z"
   },
   {
    "duration": 1053,
    "start_time": "2023-08-01T19:45:42.812Z"
   },
   {
    "duration": 751,
    "start_time": "2023-08-01T19:45:43.871Z"
   },
   {
    "duration": 8,
    "start_time": "2023-08-01T19:45:44.623Z"
   },
   {
    "duration": 1705,
    "start_time": "2023-08-01T19:45:44.633Z"
   },
   {
    "duration": 507,
    "start_time": "2023-08-01T19:45:46.340Z"
   },
   {
    "duration": 520,
    "start_time": "2023-08-01T19:45:46.856Z"
   },
   {
    "duration": 668,
    "start_time": "2023-08-01T19:45:47.385Z"
   },
   {
    "duration": 513,
    "start_time": "2023-08-01T19:45:48.054Z"
   },
   {
    "duration": 70,
    "start_time": "2023-08-01T19:45:48.568Z"
   },
   {
    "duration": 3,
    "start_time": "2023-08-01T19:45:48.640Z"
   },
   {
    "duration": 4,
    "start_time": "2023-08-01T19:45:48.656Z"
   },
   {
    "duration": 17,
    "start_time": "2023-08-01T19:45:48.661Z"
   },
   {
    "duration": 9,
    "start_time": "2023-08-01T19:45:48.680Z"
   },
   {
    "duration": 5,
    "start_time": "2023-08-01T19:45:48.691Z"
   },
   {
    "duration": 7,
    "start_time": "2023-08-01T19:45:48.698Z"
   },
   {
    "duration": 1720,
    "start_time": "2023-08-01T19:45:48.707Z"
   },
   {
    "duration": 2,
    "start_time": "2023-08-01T19:45:50.429Z"
   },
   {
    "duration": 24,
    "start_time": "2023-08-01T19:45:50.433Z"
   },
   {
    "duration": 12,
    "start_time": "2023-08-01T19:45:50.458Z"
   },
   {
    "duration": 10,
    "start_time": "2023-08-01T19:45:50.477Z"
   },
   {
    "duration": 10,
    "start_time": "2023-08-01T19:45:50.489Z"
   },
   {
    "duration": 15,
    "start_time": "2023-08-01T19:45:50.500Z"
   },
   {
    "duration": 25,
    "start_time": "2023-08-01T19:45:50.517Z"
   },
   {
    "duration": 2420,
    "start_time": "2023-08-01T19:45:50.544Z"
   },
   {
    "duration": 25075,
    "start_time": "2023-08-01T19:45:52.971Z"
   },
   {
    "duration": 25203,
    "start_time": "2023-08-01T19:46:18.048Z"
   },
   {
    "duration": 9,
    "start_time": "2023-08-01T19:46:43.261Z"
   },
   {
    "duration": 1588,
    "start_time": "2023-08-01T19:46:43.275Z"
   },
   {
    "duration": 5,
    "start_time": "2023-08-01T19:46:44.865Z"
   },
   {
    "duration": 3694,
    "start_time": "2023-08-01T19:46:44.871Z"
   },
   {
    "duration": 2725,
    "start_time": "2023-08-01T19:46:48.569Z"
   },
   {
    "duration": 6,
    "start_time": "2023-08-01T19:46:51.296Z"
   },
   {
    "duration": 14774,
    "start_time": "2023-08-01T19:46:51.306Z"
   },
   {
    "duration": 8,
    "start_time": "2023-08-01T19:47:06.083Z"
   },
   {
    "duration": 9,
    "start_time": "2023-08-01T19:47:06.093Z"
   },
   {
    "duration": 1162,
    "start_time": "2023-08-01T19:47:06.104Z"
   },
   {
    "duration": 1332,
    "start_time": "2023-08-01T19:47:07.269Z"
   },
   {
    "duration": 676,
    "start_time": "2023-08-01T19:47:08.603Z"
   },
   {
    "duration": 184,
    "start_time": "2023-08-01T19:47:09.300Z"
   },
   {
    "duration": 62,
    "start_time": "2023-08-01T19:47:09.497Z"
   },
   {
    "duration": 11,
    "start_time": "2023-08-01T19:47:09.573Z"
   },
   {
    "duration": 75,
    "start_time": "2023-08-01T19:47:09.594Z"
   },
   {
    "duration": 1601,
    "start_time": "2023-08-01T19:47:09.674Z"
   },
   {
    "duration": 2103,
    "start_time": "2023-08-01T19:47:11.284Z"
   },
   {
    "duration": 70,
    "start_time": "2023-08-01T19:47:13.393Z"
   },
   {
    "duration": 18,
    "start_time": "2023-08-01T19:47:13.476Z"
   },
   {
    "duration": 12,
    "start_time": "2023-08-01T19:47:13.558Z"
   },
   {
    "duration": 13,
    "start_time": "2023-08-01T19:47:13.582Z"
   },
   {
    "duration": 5,
    "start_time": "2023-08-01T19:47:13.597Z"
   },
   {
    "duration": 2151,
    "start_time": "2023-08-02T16:21:22.872Z"
   },
   {
    "duration": 2218,
    "start_time": "2023-08-02T16:21:25.025Z"
   },
   {
    "duration": 18,
    "start_time": "2023-08-02T16:21:27.245Z"
   },
   {
    "duration": 17,
    "start_time": "2023-08-02T16:21:27.265Z"
   },
   {
    "duration": 25,
    "start_time": "2023-08-02T16:21:27.284Z"
   },
   {
    "duration": 27,
    "start_time": "2023-08-02T16:21:27.310Z"
   },
   {
    "duration": 20,
    "start_time": "2023-08-02T16:21:27.339Z"
   },
   {
    "duration": 26,
    "start_time": "2023-08-02T16:21:27.361Z"
   },
   {
    "duration": 17,
    "start_time": "2023-08-02T16:21:27.388Z"
   },
   {
    "duration": 7,
    "start_time": "2023-08-02T16:21:27.407Z"
   },
   {
    "duration": 18,
    "start_time": "2023-08-02T16:21:27.415Z"
   },
   {
    "duration": 258,
    "start_time": "2023-08-02T16:21:27.434Z"
   },
   {
    "duration": 227,
    "start_time": "2023-08-02T16:21:27.694Z"
   },
   {
    "duration": 129,
    "start_time": "2023-08-02T16:21:27.925Z"
   },
   {
    "duration": 15,
    "start_time": "2023-08-02T16:21:28.056Z"
   },
   {
    "duration": 6,
    "start_time": "2023-08-02T16:21:28.073Z"
   },
   {
    "duration": 15,
    "start_time": "2023-08-02T16:21:28.081Z"
   },
   {
    "duration": 10,
    "start_time": "2023-08-02T16:21:28.098Z"
   },
   {
    "duration": 6,
    "start_time": "2023-08-02T16:21:28.110Z"
   },
   {
    "duration": 11,
    "start_time": "2023-08-02T16:21:28.117Z"
   },
   {
    "duration": 17,
    "start_time": "2023-08-02T16:21:28.129Z"
   },
   {
    "duration": 234,
    "start_time": "2023-08-02T16:21:28.147Z"
   },
   {
    "duration": 10,
    "start_time": "2023-08-02T16:21:28.383Z"
   },
   {
    "duration": 20,
    "start_time": "2023-08-02T16:21:28.395Z"
   },
   {
    "duration": 4,
    "start_time": "2023-08-02T16:21:28.417Z"
   },
   {
    "duration": 12,
    "start_time": "2023-08-02T16:21:28.423Z"
   },
   {
    "duration": 24,
    "start_time": "2023-08-02T16:21:28.436Z"
   },
   {
    "duration": 5,
    "start_time": "2023-08-02T16:21:28.471Z"
   },
   {
    "duration": 97,
    "start_time": "2023-08-02T16:21:28.478Z"
   },
   {
    "duration": 13,
    "start_time": "2023-08-02T16:21:28.578Z"
   },
   {
    "duration": 22,
    "start_time": "2023-08-02T16:21:28.592Z"
   },
   {
    "duration": 18,
    "start_time": "2023-08-02T16:21:28.616Z"
   },
   {
    "duration": 29,
    "start_time": "2023-08-02T16:21:28.636Z"
   },
   {
    "duration": 14,
    "start_time": "2023-08-02T16:21:28.667Z"
   },
   {
    "duration": 1052,
    "start_time": "2023-08-02T16:21:28.683Z"
   },
   {
    "duration": 1109,
    "start_time": "2023-08-02T16:21:29.736Z"
   },
   {
    "duration": 7,
    "start_time": "2023-08-02T16:21:30.848Z"
   },
   {
    "duration": 1704,
    "start_time": "2023-08-02T16:21:30.857Z"
   },
   {
    "duration": 539,
    "start_time": "2023-08-02T16:21:32.563Z"
   },
   {
    "duration": 633,
    "start_time": "2023-08-02T16:21:33.104Z"
   },
   {
    "duration": 468,
    "start_time": "2023-08-02T16:21:33.742Z"
   },
   {
    "duration": 464,
    "start_time": "2023-08-02T16:21:34.212Z"
   },
   {
    "duration": 61,
    "start_time": "2023-08-02T16:21:34.678Z"
   },
   {
    "duration": 2,
    "start_time": "2023-08-02T16:21:34.740Z"
   },
   {
    "duration": 12,
    "start_time": "2023-08-02T16:21:34.744Z"
   },
   {
    "duration": 160,
    "start_time": "2023-08-02T16:21:34.758Z"
   },
   {
    "duration": 22,
    "start_time": "2023-08-02T16:21:34.919Z"
   },
   {
    "duration": 7,
    "start_time": "2023-08-02T16:21:34.943Z"
   },
   {
    "duration": 22,
    "start_time": "2023-08-02T16:21:34.952Z"
   },
   {
    "duration": 1683,
    "start_time": "2023-08-02T16:21:34.976Z"
   },
   {
    "duration": 3,
    "start_time": "2023-08-02T16:21:36.661Z"
   },
   {
    "duration": 20,
    "start_time": "2023-08-02T16:21:36.665Z"
   },
   {
    "duration": 10,
    "start_time": "2023-08-02T16:21:36.687Z"
   },
   {
    "duration": 7,
    "start_time": "2023-08-02T16:21:36.698Z"
   },
   {
    "duration": 16,
    "start_time": "2023-08-02T16:21:36.706Z"
   },
   {
    "duration": 8,
    "start_time": "2023-08-02T16:21:36.723Z"
   },
   {
    "duration": 23,
    "start_time": "2023-08-02T16:21:36.733Z"
   },
   {
    "duration": 2673,
    "start_time": "2023-08-02T16:21:36.758Z"
   },
   {
    "duration": 80,
    "start_time": "2023-08-02T16:21:39.432Z"
   },
   {
    "duration": 0,
    "start_time": "2023-08-02T16:21:39.514Z"
   },
   {
    "duration": 0,
    "start_time": "2023-08-02T16:21:39.516Z"
   },
   {
    "duration": 0,
    "start_time": "2023-08-02T16:21:39.517Z"
   },
   {
    "duration": 0,
    "start_time": "2023-08-02T16:21:39.519Z"
   },
   {
    "duration": 0,
    "start_time": "2023-08-02T16:21:39.520Z"
   },
   {
    "duration": 0,
    "start_time": "2023-08-02T16:21:39.522Z"
   },
   {
    "duration": 0,
    "start_time": "2023-08-02T16:21:39.523Z"
   },
   {
    "duration": 0,
    "start_time": "2023-08-02T16:21:39.525Z"
   },
   {
    "duration": 0,
    "start_time": "2023-08-02T16:21:39.527Z"
   },
   {
    "duration": 0,
    "start_time": "2023-08-02T16:21:39.528Z"
   },
   {
    "duration": 0,
    "start_time": "2023-08-02T16:21:39.529Z"
   },
   {
    "duration": 0,
    "start_time": "2023-08-02T16:21:39.530Z"
   },
   {
    "duration": 0,
    "start_time": "2023-08-02T16:21:39.531Z"
   },
   {
    "duration": 0,
    "start_time": "2023-08-02T16:21:39.532Z"
   },
   {
    "duration": 0,
    "start_time": "2023-08-02T16:21:39.534Z"
   },
   {
    "duration": 0,
    "start_time": "2023-08-02T16:21:39.535Z"
   },
   {
    "duration": 0,
    "start_time": "2023-08-02T16:21:39.536Z"
   },
   {
    "duration": 0,
    "start_time": "2023-08-02T16:21:39.537Z"
   },
   {
    "duration": 0,
    "start_time": "2023-08-02T16:21:39.538Z"
   },
   {
    "duration": 0,
    "start_time": "2023-08-02T16:21:39.540Z"
   },
   {
    "duration": 0,
    "start_time": "2023-08-02T16:21:39.541Z"
   },
   {
    "duration": 0,
    "start_time": "2023-08-02T16:21:39.543Z"
   },
   {
    "duration": 0,
    "start_time": "2023-08-02T16:21:39.544Z"
   },
   {
    "duration": 0,
    "start_time": "2023-08-02T16:21:39.546Z"
   },
   {
    "duration": 132,
    "start_time": "2023-08-02T16:22:38.213Z"
   },
   {
    "duration": 85,
    "start_time": "2023-08-02T16:22:45.959Z"
   },
   {
    "duration": 13,
    "start_time": "2023-08-02T16:22:48.351Z"
   },
   {
    "duration": 28,
    "start_time": "2023-08-02T16:23:01.633Z"
   },
   {
    "duration": 84,
    "start_time": "2023-08-02T16:25:23.467Z"
   },
   {
    "duration": 13,
    "start_time": "2023-08-02T16:25:25.419Z"
   },
   {
    "duration": 17,
    "start_time": "2023-08-02T16:26:24.628Z"
   },
   {
    "duration": 2068,
    "start_time": "2023-08-02T16:26:39.160Z"
   },
   {
    "duration": 861,
    "start_time": "2023-08-02T16:26:41.230Z"
   },
   {
    "duration": 19,
    "start_time": "2023-08-02T16:26:42.093Z"
   },
   {
    "duration": 34,
    "start_time": "2023-08-02T16:26:42.114Z"
   },
   {
    "duration": 15,
    "start_time": "2023-08-02T16:26:42.150Z"
   },
   {
    "duration": 41,
    "start_time": "2023-08-02T16:26:42.166Z"
   },
   {
    "duration": 25,
    "start_time": "2023-08-02T16:26:42.209Z"
   },
   {
    "duration": 22,
    "start_time": "2023-08-02T16:26:42.236Z"
   },
   {
    "duration": 14,
    "start_time": "2023-08-02T16:26:42.259Z"
   },
   {
    "duration": 22,
    "start_time": "2023-08-02T16:26:42.275Z"
   },
   {
    "duration": 28,
    "start_time": "2023-08-02T16:26:42.299Z"
   },
   {
    "duration": 302,
    "start_time": "2023-08-02T16:26:42.328Z"
   },
   {
    "duration": 240,
    "start_time": "2023-08-02T16:26:42.632Z"
   },
   {
    "duration": 146,
    "start_time": "2023-08-02T16:26:42.876Z"
   },
   {
    "duration": 4,
    "start_time": "2023-08-02T16:26:43.024Z"
   },
   {
    "duration": 21,
    "start_time": "2023-08-02T16:26:43.030Z"
   },
   {
    "duration": 10,
    "start_time": "2023-08-02T16:26:43.053Z"
   },
   {
    "duration": 38,
    "start_time": "2023-08-02T16:26:43.064Z"
   },
   {
    "duration": 23,
    "start_time": "2023-08-02T16:26:43.104Z"
   },
   {
    "duration": 13,
    "start_time": "2023-08-02T16:26:43.128Z"
   },
   {
    "duration": 36,
    "start_time": "2023-08-02T16:26:43.143Z"
   },
   {
    "duration": 266,
    "start_time": "2023-08-02T16:26:43.181Z"
   },
   {
    "duration": 27,
    "start_time": "2023-08-02T16:26:43.449Z"
   },
   {
    "duration": 16,
    "start_time": "2023-08-02T16:26:43.478Z"
   },
   {
    "duration": 3,
    "start_time": "2023-08-02T16:26:43.496Z"
   },
   {
    "duration": 10,
    "start_time": "2023-08-02T16:26:43.501Z"
   },
   {
    "duration": 19,
    "start_time": "2023-08-02T16:26:43.512Z"
   },
   {
    "duration": 6,
    "start_time": "2023-08-02T16:26:43.533Z"
   },
   {
    "duration": 74,
    "start_time": "2023-08-02T16:26:43.541Z"
   },
   {
    "duration": 13,
    "start_time": "2023-08-02T16:26:43.616Z"
   },
   {
    "duration": 14,
    "start_time": "2023-08-02T16:26:43.631Z"
   },
   {
    "duration": 24,
    "start_time": "2023-08-02T16:26:43.647Z"
   },
   {
    "duration": 22,
    "start_time": "2023-08-02T16:26:43.673Z"
   },
   {
    "duration": 27,
    "start_time": "2023-08-02T16:26:43.697Z"
   },
   {
    "duration": 1023,
    "start_time": "2023-08-02T16:26:43.725Z"
   },
   {
    "duration": 779,
    "start_time": "2023-08-02T16:26:44.750Z"
   },
   {
    "duration": 7,
    "start_time": "2023-08-02T16:26:45.530Z"
   },
   {
    "duration": 1756,
    "start_time": "2023-08-02T16:26:45.538Z"
   },
   {
    "duration": 510,
    "start_time": "2023-08-02T16:26:47.296Z"
   },
   {
    "duration": 512,
    "start_time": "2023-08-02T16:26:47.807Z"
   },
   {
    "duration": 676,
    "start_time": "2023-08-02T16:26:48.324Z"
   },
   {
    "duration": 527,
    "start_time": "2023-08-02T16:26:49.002Z"
   },
   {
    "duration": 74,
    "start_time": "2023-08-02T16:26:49.531Z"
   },
   {
    "duration": 2,
    "start_time": "2023-08-02T16:26:49.607Z"
   },
   {
    "duration": 23,
    "start_time": "2023-08-02T16:26:49.611Z"
   },
   {
    "duration": 20,
    "start_time": "2023-08-02T16:26:49.636Z"
   },
   {
    "duration": 15,
    "start_time": "2023-08-02T16:26:49.658Z"
   },
   {
    "duration": 19,
    "start_time": "2023-08-02T16:26:49.676Z"
   },
   {
    "duration": 10,
    "start_time": "2023-08-02T16:26:49.696Z"
   },
   {
    "duration": 1568,
    "start_time": "2023-08-02T16:26:49.707Z"
   },
   {
    "duration": 2,
    "start_time": "2023-08-02T16:26:51.277Z"
   },
   {
    "duration": 12,
    "start_time": "2023-08-02T16:26:51.281Z"
   },
   {
    "duration": 8,
    "start_time": "2023-08-02T16:26:51.294Z"
   },
   {
    "duration": 9,
    "start_time": "2023-08-02T16:26:51.304Z"
   },
   {
    "duration": 22,
    "start_time": "2023-08-02T16:26:51.315Z"
   },
   {
    "duration": 10,
    "start_time": "2023-08-02T16:26:51.339Z"
   },
   {
    "duration": 30,
    "start_time": "2023-08-02T16:26:51.351Z"
   },
   {
    "duration": 2644,
    "start_time": "2023-08-02T16:26:51.383Z"
   },
   {
    "duration": 178,
    "start_time": "2023-08-02T16:26:54.029Z"
   },
   {
    "duration": 0,
    "start_time": "2023-08-02T16:26:54.208Z"
   },
   {
    "duration": 0,
    "start_time": "2023-08-02T16:26:54.209Z"
   },
   {
    "duration": 0,
    "start_time": "2023-08-02T16:26:54.211Z"
   },
   {
    "duration": 0,
    "start_time": "2023-08-02T16:26:54.212Z"
   },
   {
    "duration": 0,
    "start_time": "2023-08-02T16:26:54.213Z"
   },
   {
    "duration": 0,
    "start_time": "2023-08-02T16:26:54.214Z"
   },
   {
    "duration": 0,
    "start_time": "2023-08-02T16:26:54.215Z"
   },
   {
    "duration": 0,
    "start_time": "2023-08-02T16:26:54.217Z"
   },
   {
    "duration": 0,
    "start_time": "2023-08-02T16:26:54.218Z"
   },
   {
    "duration": 0,
    "start_time": "2023-08-02T16:26:54.219Z"
   },
   {
    "duration": 0,
    "start_time": "2023-08-02T16:26:54.221Z"
   },
   {
    "duration": 0,
    "start_time": "2023-08-02T16:26:54.222Z"
   },
   {
    "duration": 0,
    "start_time": "2023-08-02T16:26:54.223Z"
   },
   {
    "duration": 0,
    "start_time": "2023-08-02T16:26:54.223Z"
   },
   {
    "duration": 0,
    "start_time": "2023-08-02T16:26:54.225Z"
   },
   {
    "duration": 0,
    "start_time": "2023-08-02T16:26:54.226Z"
   },
   {
    "duration": 0,
    "start_time": "2023-08-02T16:26:54.227Z"
   },
   {
    "duration": 0,
    "start_time": "2023-08-02T16:26:54.228Z"
   },
   {
    "duration": 0,
    "start_time": "2023-08-02T16:26:54.229Z"
   },
   {
    "duration": 0,
    "start_time": "2023-08-02T16:26:54.230Z"
   },
   {
    "duration": 0,
    "start_time": "2023-08-02T16:26:54.231Z"
   },
   {
    "duration": 0,
    "start_time": "2023-08-02T16:26:54.232Z"
   },
   {
    "duration": 0,
    "start_time": "2023-08-02T16:26:54.233Z"
   },
   {
    "duration": 0,
    "start_time": "2023-08-02T16:26:54.235Z"
   },
   {
    "duration": 1481,
    "start_time": "2023-08-02T16:30:58.295Z"
   },
   {
    "duration": 799,
    "start_time": "2023-08-02T16:30:59.777Z"
   },
   {
    "duration": 19,
    "start_time": "2023-08-02T16:31:00.577Z"
   },
   {
    "duration": 59,
    "start_time": "2023-08-02T16:31:00.598Z"
   },
   {
    "duration": 34,
    "start_time": "2023-08-02T16:31:00.659Z"
   },
   {
    "duration": 41,
    "start_time": "2023-08-02T16:31:00.694Z"
   },
   {
    "duration": 49,
    "start_time": "2023-08-02T16:31:00.737Z"
   },
   {
    "duration": 55,
    "start_time": "2023-08-02T16:31:00.788Z"
   },
   {
    "duration": 47,
    "start_time": "2023-08-02T16:31:00.845Z"
   },
   {
    "duration": 38,
    "start_time": "2023-08-02T16:31:00.895Z"
   },
   {
    "duration": 59,
    "start_time": "2023-08-02T16:31:00.935Z"
   },
   {
    "duration": 337,
    "start_time": "2023-08-02T16:31:00.996Z"
   },
   {
    "duration": 225,
    "start_time": "2023-08-02T16:31:01.334Z"
   },
   {
    "duration": 128,
    "start_time": "2023-08-02T16:31:01.561Z"
   },
   {
    "duration": 3,
    "start_time": "2023-08-02T16:31:01.690Z"
   },
   {
    "duration": 36,
    "start_time": "2023-08-02T16:31:01.694Z"
   },
   {
    "duration": 25,
    "start_time": "2023-08-02T16:31:01.732Z"
   },
   {
    "duration": 36,
    "start_time": "2023-08-02T16:31:01.759Z"
   },
   {
    "duration": 31,
    "start_time": "2023-08-02T16:31:01.797Z"
   },
   {
    "duration": 39,
    "start_time": "2023-08-02T16:31:01.829Z"
   },
   {
    "duration": 41,
    "start_time": "2023-08-02T16:31:01.870Z"
   },
   {
    "duration": 262,
    "start_time": "2023-08-02T16:31:01.912Z"
   },
   {
    "duration": 18,
    "start_time": "2023-08-02T16:31:02.176Z"
   },
   {
    "duration": 16,
    "start_time": "2023-08-02T16:31:02.196Z"
   },
   {
    "duration": 63,
    "start_time": "2023-08-02T16:31:02.214Z"
   },
   {
    "duration": 27,
    "start_time": "2023-08-02T16:31:02.279Z"
   },
   {
    "duration": 39,
    "start_time": "2023-08-02T16:31:02.308Z"
   },
   {
    "duration": 42,
    "start_time": "2023-08-02T16:31:02.352Z"
   },
   {
    "duration": 84,
    "start_time": "2023-08-02T16:31:02.396Z"
   },
   {
    "duration": 14,
    "start_time": "2023-08-02T16:31:02.482Z"
   },
   {
    "duration": 21,
    "start_time": "2023-08-02T16:31:02.498Z"
   },
   {
    "duration": 17,
    "start_time": "2023-08-02T16:31:02.521Z"
   },
   {
    "duration": 33,
    "start_time": "2023-08-02T16:31:02.540Z"
   },
   {
    "duration": 12,
    "start_time": "2023-08-02T16:31:02.575Z"
   },
   {
    "duration": 1009,
    "start_time": "2023-08-02T16:31:02.589Z"
   },
   {
    "duration": 687,
    "start_time": "2023-08-02T16:31:03.600Z"
   },
   {
    "duration": 8,
    "start_time": "2023-08-02T16:31:04.289Z"
   },
   {
    "duration": 1562,
    "start_time": "2023-08-02T16:31:04.299Z"
   },
   {
    "duration": 479,
    "start_time": "2023-08-02T16:31:05.863Z"
   },
   {
    "duration": 506,
    "start_time": "2023-08-02T16:31:06.344Z"
   },
   {
    "duration": 612,
    "start_time": "2023-08-02T16:31:06.852Z"
   },
   {
    "duration": 484,
    "start_time": "2023-08-02T16:31:07.466Z"
   },
   {
    "duration": 62,
    "start_time": "2023-08-02T16:31:07.952Z"
   },
   {
    "duration": 3,
    "start_time": "2023-08-02T16:31:08.015Z"
   },
   {
    "duration": 18,
    "start_time": "2023-08-02T16:31:08.019Z"
   },
   {
    "duration": 47,
    "start_time": "2023-08-02T16:31:08.039Z"
   },
   {
    "duration": 8,
    "start_time": "2023-08-02T16:31:08.087Z"
   },
   {
    "duration": 7,
    "start_time": "2023-08-02T16:31:08.097Z"
   },
   {
    "duration": 8,
    "start_time": "2023-08-02T16:31:08.106Z"
   },
   {
    "duration": 1564,
    "start_time": "2023-08-02T16:31:08.116Z"
   },
   {
    "duration": 2,
    "start_time": "2023-08-02T16:31:09.682Z"
   },
   {
    "duration": 15,
    "start_time": "2023-08-02T16:31:09.685Z"
   },
   {
    "duration": 6,
    "start_time": "2023-08-02T16:31:09.701Z"
   },
   {
    "duration": 12,
    "start_time": "2023-08-02T16:31:09.709Z"
   },
   {
    "duration": 11,
    "start_time": "2023-08-02T16:31:09.722Z"
   },
   {
    "duration": 9,
    "start_time": "2023-08-02T16:31:09.734Z"
   },
   {
    "duration": 29,
    "start_time": "2023-08-02T16:31:09.745Z"
   },
   {
    "duration": 2483,
    "start_time": "2023-08-02T16:31:09.776Z"
   },
   {
    "duration": 25386,
    "start_time": "2023-08-02T16:31:12.261Z"
   },
   {
    "duration": 25404,
    "start_time": "2023-08-02T16:31:37.649Z"
   },
   {
    "duration": 3,
    "start_time": "2023-08-02T16:32:03.054Z"
   },
   {
    "duration": 718,
    "start_time": "2023-08-02T16:32:03.059Z"
   },
   {
    "duration": 93,
    "start_time": "2023-08-02T16:32:03.779Z"
   },
   {
    "duration": 2002,
    "start_time": "2023-08-02T16:32:03.875Z"
   },
   {
    "duration": 1793,
    "start_time": "2023-08-02T16:32:05.881Z"
   },
   {
    "duration": 8,
    "start_time": "2023-08-02T16:32:07.676Z"
   },
   {
    "duration": 14630,
    "start_time": "2023-08-02T16:32:07.770Z"
   },
   {
    "duration": 5,
    "start_time": "2023-08-02T16:32:22.402Z"
   },
   {
    "duration": 21,
    "start_time": "2023-08-02T16:32:22.409Z"
   },
   {
    "duration": 839,
    "start_time": "2023-08-02T16:32:22.432Z"
   },
   {
    "duration": 700,
    "start_time": "2023-08-02T16:32:23.274Z"
   },
   {
    "duration": 306,
    "start_time": "2023-08-02T16:32:23.976Z"
   },
   {
    "duration": 5,
    "start_time": "2023-08-02T16:32:24.372Z"
   },
   {
    "duration": 191,
    "start_time": "2023-08-02T16:32:24.380Z"
   },
   {
    "duration": 10,
    "start_time": "2023-08-02T16:32:24.573Z"
   },
   {
    "duration": 18,
    "start_time": "2023-08-02T16:32:24.585Z"
   },
   {
    "duration": 972,
    "start_time": "2023-08-02T16:32:24.604Z"
   },
   {
    "duration": 1500,
    "start_time": "2023-08-02T16:32:25.578Z"
   },
   {
    "duration": 93,
    "start_time": "2023-08-02T16:32:27.080Z"
   },
   {
    "duration": 109,
    "start_time": "2023-08-02T16:32:27.176Z"
   },
   {
    "duration": 23,
    "start_time": "2023-08-02T16:32:27.287Z"
   },
   {
    "duration": 14,
    "start_time": "2023-08-02T16:32:27.315Z"
   },
   {
    "duration": 8,
    "start_time": "2023-08-02T16:32:27.331Z"
   },
   {
    "duration": 1881,
    "start_time": "2023-08-02T16:35:23.540Z"
   },
   {
    "duration": 875,
    "start_time": "2023-08-02T16:35:25.424Z"
   },
   {
    "duration": 20,
    "start_time": "2023-08-02T16:35:26.302Z"
   },
   {
    "duration": 17,
    "start_time": "2023-08-02T16:35:26.324Z"
   },
   {
    "duration": 28,
    "start_time": "2023-08-02T16:35:26.344Z"
   },
   {
    "duration": 45,
    "start_time": "2023-08-02T16:35:26.377Z"
   },
   {
    "duration": 25,
    "start_time": "2023-08-02T16:35:26.423Z"
   },
   {
    "duration": 38,
    "start_time": "2023-08-02T16:35:26.450Z"
   },
   {
    "duration": 42,
    "start_time": "2023-08-02T16:35:26.490Z"
   },
   {
    "duration": 27,
    "start_time": "2023-08-02T16:35:26.534Z"
   },
   {
    "duration": 41,
    "start_time": "2023-08-02T16:35:26.563Z"
   },
   {
    "duration": 292,
    "start_time": "2023-08-02T16:35:26.607Z"
   },
   {
    "duration": 246,
    "start_time": "2023-08-02T16:35:26.900Z"
   },
   {
    "duration": 142,
    "start_time": "2023-08-02T16:35:27.150Z"
   },
   {
    "duration": 3,
    "start_time": "2023-08-02T16:35:27.294Z"
   },
   {
    "duration": 16,
    "start_time": "2023-08-02T16:35:27.299Z"
   },
   {
    "duration": 22,
    "start_time": "2023-08-02T16:35:27.316Z"
   },
   {
    "duration": 16,
    "start_time": "2023-08-02T16:35:27.339Z"
   },
   {
    "duration": 21,
    "start_time": "2023-08-02T16:35:27.357Z"
   },
   {
    "duration": 37,
    "start_time": "2023-08-02T16:35:27.380Z"
   },
   {
    "duration": 30,
    "start_time": "2023-08-02T16:35:27.419Z"
   },
   {
    "duration": 252,
    "start_time": "2023-08-02T16:35:27.451Z"
   },
   {
    "duration": 20,
    "start_time": "2023-08-02T16:35:27.705Z"
   },
   {
    "duration": 12,
    "start_time": "2023-08-02T16:35:27.727Z"
   },
   {
    "duration": 4,
    "start_time": "2023-08-02T16:35:27.740Z"
   },
   {
    "duration": 27,
    "start_time": "2023-08-02T16:35:27.745Z"
   },
   {
    "duration": 19,
    "start_time": "2023-08-02T16:35:27.774Z"
   },
   {
    "duration": 4,
    "start_time": "2023-08-02T16:35:27.795Z"
   },
   {
    "duration": 139,
    "start_time": "2023-08-02T16:35:27.802Z"
   },
   {
    "duration": 0,
    "start_time": "2023-08-02T16:35:27.944Z"
   },
   {
    "duration": 0,
    "start_time": "2023-08-02T16:35:27.945Z"
   },
   {
    "duration": 0,
    "start_time": "2023-08-02T16:35:27.947Z"
   },
   {
    "duration": 1,
    "start_time": "2023-08-02T16:35:27.947Z"
   },
   {
    "duration": 0,
    "start_time": "2023-08-02T16:35:27.949Z"
   },
   {
    "duration": 0,
    "start_time": "2023-08-02T16:35:27.950Z"
   },
   {
    "duration": 0,
    "start_time": "2023-08-02T16:35:27.951Z"
   },
   {
    "duration": 0,
    "start_time": "2023-08-02T16:35:27.952Z"
   },
   {
    "duration": 0,
    "start_time": "2023-08-02T16:35:27.953Z"
   },
   {
    "duration": 0,
    "start_time": "2023-08-02T16:35:27.954Z"
   },
   {
    "duration": 0,
    "start_time": "2023-08-02T16:35:27.970Z"
   },
   {
    "duration": 0,
    "start_time": "2023-08-02T16:35:27.971Z"
   },
   {
    "duration": 0,
    "start_time": "2023-08-02T16:35:27.972Z"
   },
   {
    "duration": 0,
    "start_time": "2023-08-02T16:35:27.973Z"
   },
   {
    "duration": 0,
    "start_time": "2023-08-02T16:35:27.975Z"
   },
   {
    "duration": 0,
    "start_time": "2023-08-02T16:35:27.976Z"
   },
   {
    "duration": 0,
    "start_time": "2023-08-02T16:35:27.977Z"
   },
   {
    "duration": 0,
    "start_time": "2023-08-02T16:35:27.978Z"
   },
   {
    "duration": 0,
    "start_time": "2023-08-02T16:35:27.979Z"
   },
   {
    "duration": 0,
    "start_time": "2023-08-02T16:35:27.980Z"
   },
   {
    "duration": 0,
    "start_time": "2023-08-02T16:35:27.981Z"
   },
   {
    "duration": 0,
    "start_time": "2023-08-02T16:35:27.982Z"
   },
   {
    "duration": 0,
    "start_time": "2023-08-02T16:35:27.984Z"
   },
   {
    "duration": 0,
    "start_time": "2023-08-02T16:35:27.985Z"
   },
   {
    "duration": 0,
    "start_time": "2023-08-02T16:35:27.986Z"
   },
   {
    "duration": 0,
    "start_time": "2023-08-02T16:35:27.987Z"
   },
   {
    "duration": 0,
    "start_time": "2023-08-02T16:35:27.988Z"
   },
   {
    "duration": 0,
    "start_time": "2023-08-02T16:35:27.989Z"
   },
   {
    "duration": 0,
    "start_time": "2023-08-02T16:35:27.990Z"
   },
   {
    "duration": 0,
    "start_time": "2023-08-02T16:35:27.991Z"
   },
   {
    "duration": 0,
    "start_time": "2023-08-02T16:35:27.992Z"
   },
   {
    "duration": 0,
    "start_time": "2023-08-02T16:35:27.993Z"
   },
   {
    "duration": 0,
    "start_time": "2023-08-02T16:35:27.994Z"
   },
   {
    "duration": 0,
    "start_time": "2023-08-02T16:35:27.995Z"
   },
   {
    "duration": 0,
    "start_time": "2023-08-02T16:35:27.997Z"
   },
   {
    "duration": 0,
    "start_time": "2023-08-02T16:35:27.998Z"
   },
   {
    "duration": 0,
    "start_time": "2023-08-02T16:35:27.999Z"
   },
   {
    "duration": 0,
    "start_time": "2023-08-02T16:35:28.000Z"
   },
   {
    "duration": 0,
    "start_time": "2023-08-02T16:35:28.001Z"
   },
   {
    "duration": 0,
    "start_time": "2023-08-02T16:35:28.002Z"
   },
   {
    "duration": 0,
    "start_time": "2023-08-02T16:35:28.003Z"
   },
   {
    "duration": 0,
    "start_time": "2023-08-02T16:35:28.004Z"
   },
   {
    "duration": 0,
    "start_time": "2023-08-02T16:35:28.071Z"
   },
   {
    "duration": 0,
    "start_time": "2023-08-02T16:35:28.072Z"
   },
   {
    "duration": 0,
    "start_time": "2023-08-02T16:35:28.073Z"
   },
   {
    "duration": 0,
    "start_time": "2023-08-02T16:35:28.075Z"
   },
   {
    "duration": 0,
    "start_time": "2023-08-02T16:35:28.076Z"
   },
   {
    "duration": 0,
    "start_time": "2023-08-02T16:35:28.079Z"
   },
   {
    "duration": 0,
    "start_time": "2023-08-02T16:35:28.080Z"
   },
   {
    "duration": 0,
    "start_time": "2023-08-02T16:35:28.082Z"
   },
   {
    "duration": 0,
    "start_time": "2023-08-02T16:35:28.083Z"
   },
   {
    "duration": 0,
    "start_time": "2023-08-02T16:35:28.085Z"
   },
   {
    "duration": 0,
    "start_time": "2023-08-02T16:35:28.086Z"
   },
   {
    "duration": 0,
    "start_time": "2023-08-02T16:35:28.088Z"
   },
   {
    "duration": 16,
    "start_time": "2023-08-02T16:37:18.793Z"
   },
   {
    "duration": 16,
    "start_time": "2023-08-02T16:37:30.235Z"
   },
   {
    "duration": 22,
    "start_time": "2023-08-02T16:37:53.397Z"
   },
   {
    "duration": 23,
    "start_time": "2023-08-02T16:37:58.440Z"
   },
   {
    "duration": 43,
    "start_time": "2023-08-02T16:38:15.305Z"
   },
   {
    "duration": 36,
    "start_time": "2023-08-02T16:46:36.256Z"
   },
   {
    "duration": 13,
    "start_time": "2023-08-02T16:46:37.469Z"
   },
   {
    "duration": 12,
    "start_time": "2023-08-02T16:46:42.732Z"
   },
   {
    "duration": 19,
    "start_time": "2023-08-02T16:47:08.332Z"
   },
   {
    "duration": 1489,
    "start_time": "2023-08-02T16:53:25.408Z"
   },
   {
    "duration": 775,
    "start_time": "2023-08-02T16:53:26.899Z"
   },
   {
    "duration": 19,
    "start_time": "2023-08-02T16:53:27.675Z"
   },
   {
    "duration": 16,
    "start_time": "2023-08-02T16:53:27.696Z"
   },
   {
    "duration": 15,
    "start_time": "2023-08-02T16:53:27.714Z"
   },
   {
    "duration": 54,
    "start_time": "2023-08-02T16:53:27.731Z"
   },
   {
    "duration": 20,
    "start_time": "2023-08-02T16:53:27.787Z"
   },
   {
    "duration": 22,
    "start_time": "2023-08-02T16:53:27.809Z"
   },
   {
    "duration": 9,
    "start_time": "2023-08-02T16:53:27.833Z"
   },
   {
    "duration": 16,
    "start_time": "2023-08-02T16:53:27.843Z"
   },
   {
    "duration": 15,
    "start_time": "2023-08-02T16:53:27.860Z"
   },
   {
    "duration": 251,
    "start_time": "2023-08-02T16:53:27.877Z"
   },
   {
    "duration": 236,
    "start_time": "2023-08-02T16:53:28.130Z"
   },
   {
    "duration": 131,
    "start_time": "2023-08-02T16:53:28.370Z"
   },
   {
    "duration": 3,
    "start_time": "2023-08-02T16:53:28.502Z"
   },
   {
    "duration": 8,
    "start_time": "2023-08-02T16:53:28.507Z"
   },
   {
    "duration": 5,
    "start_time": "2023-08-02T16:53:28.517Z"
   },
   {
    "duration": 8,
    "start_time": "2023-08-02T16:53:28.523Z"
   },
   {
    "duration": 7,
    "start_time": "2023-08-02T16:53:28.533Z"
   },
   {
    "duration": 6,
    "start_time": "2023-08-02T16:53:28.541Z"
   },
   {
    "duration": 13,
    "start_time": "2023-08-02T16:53:28.571Z"
   },
   {
    "duration": 253,
    "start_time": "2023-08-02T16:53:28.585Z"
   },
   {
    "duration": 32,
    "start_time": "2023-08-02T16:53:28.840Z"
   },
   {
    "duration": 12,
    "start_time": "2023-08-02T16:53:28.874Z"
   },
   {
    "duration": 4,
    "start_time": "2023-08-02T16:53:28.888Z"
   },
   {
    "duration": 11,
    "start_time": "2023-08-02T16:53:28.895Z"
   },
   {
    "duration": 21,
    "start_time": "2023-08-02T16:53:28.907Z"
   },
   {
    "duration": 10,
    "start_time": "2023-08-02T16:53:28.930Z"
   },
   {
    "duration": 64,
    "start_time": "2023-08-02T16:53:28.942Z"
   },
   {
    "duration": 12,
    "start_time": "2023-08-02T16:53:29.007Z"
   },
   {
    "duration": 11,
    "start_time": "2023-08-02T16:53:29.021Z"
   },
   {
    "duration": 8,
    "start_time": "2023-08-02T16:53:29.034Z"
   },
   {
    "duration": 38,
    "start_time": "2023-08-02T16:53:29.044Z"
   },
   {
    "duration": 17,
    "start_time": "2023-08-02T16:53:29.084Z"
   },
   {
    "duration": 989,
    "start_time": "2023-08-02T16:53:29.103Z"
   },
   {
    "duration": 696,
    "start_time": "2023-08-02T16:53:30.094Z"
   },
   {
    "duration": 8,
    "start_time": "2023-08-02T16:53:30.792Z"
   },
   {
    "duration": 1645,
    "start_time": "2023-08-02T16:53:30.802Z"
   },
   {
    "duration": 484,
    "start_time": "2023-08-02T16:53:32.448Z"
   },
   {
    "duration": 468,
    "start_time": "2023-08-02T16:53:32.934Z"
   },
   {
    "duration": 636,
    "start_time": "2023-08-02T16:53:33.407Z"
   },
   {
    "duration": 466,
    "start_time": "2023-08-02T16:53:34.044Z"
   },
   {
    "duration": 70,
    "start_time": "2023-08-02T16:53:34.512Z"
   },
   {
    "duration": 2,
    "start_time": "2023-08-02T16:53:34.584Z"
   },
   {
    "duration": 8,
    "start_time": "2023-08-02T16:53:34.588Z"
   },
   {
    "duration": 12,
    "start_time": "2023-08-02T16:53:34.597Z"
   },
   {
    "duration": 7,
    "start_time": "2023-08-02T16:53:34.611Z"
   },
   {
    "duration": 18,
    "start_time": "2023-08-02T16:53:34.619Z"
   },
   {
    "duration": 28,
    "start_time": "2023-08-02T16:53:34.638Z"
   },
   {
    "duration": 1554,
    "start_time": "2023-08-02T16:53:34.667Z"
   },
   {
    "duration": 2,
    "start_time": "2023-08-02T16:53:36.223Z"
   },
   {
    "duration": 20,
    "start_time": "2023-08-02T16:53:36.226Z"
   },
   {
    "duration": 17,
    "start_time": "2023-08-02T16:53:36.248Z"
   },
   {
    "duration": 36,
    "start_time": "2023-08-02T16:53:36.267Z"
   },
   {
    "duration": 56,
    "start_time": "2023-08-02T16:53:36.305Z"
   },
   {
    "duration": 31,
    "start_time": "2023-08-02T16:53:36.364Z"
   },
   {
    "duration": 39,
    "start_time": "2023-08-02T16:53:36.396Z"
   },
   {
    "duration": 2595,
    "start_time": "2023-08-02T16:53:36.438Z"
   },
   {
    "duration": 25023,
    "start_time": "2023-08-02T16:53:39.035Z"
   },
   {
    "duration": 24584,
    "start_time": "2023-08-02T16:54:04.059Z"
   },
   {
    "duration": 3,
    "start_time": "2023-08-02T16:54:28.645Z"
   },
   {
    "duration": 628,
    "start_time": "2023-08-02T16:54:28.649Z"
   },
   {
    "duration": 93,
    "start_time": "2023-08-02T16:54:29.279Z"
   },
   {
    "duration": 1698,
    "start_time": "2023-08-02T16:54:29.375Z"
   },
   {
    "duration": 1495,
    "start_time": "2023-08-02T16:54:31.077Z"
   },
   {
    "duration": 96,
    "start_time": "2023-08-02T16:54:32.576Z"
   },
   {
    "duration": 14559,
    "start_time": "2023-08-02T16:54:32.674Z"
   },
   {
    "duration": 4,
    "start_time": "2023-08-02T16:54:47.235Z"
   },
   {
    "duration": 12,
    "start_time": "2023-08-02T16:54:47.241Z"
   },
   {
    "duration": 724,
    "start_time": "2023-08-02T16:54:47.254Z"
   },
   {
    "duration": 792,
    "start_time": "2023-08-02T16:54:47.980Z"
   },
   {
    "duration": 298,
    "start_time": "2023-08-02T16:54:48.773Z"
   },
   {
    "duration": 105,
    "start_time": "2023-08-02T16:54:49.074Z"
   },
   {
    "duration": 8,
    "start_time": "2023-08-02T16:54:49.273Z"
   },
   {
    "duration": 5,
    "start_time": "2023-08-02T16:54:49.372Z"
   },
   {
    "duration": 32,
    "start_time": "2023-08-02T16:54:49.379Z"
   },
   {
    "duration": 1067,
    "start_time": "2023-08-02T16:54:49.412Z"
   },
   {
    "duration": 1311,
    "start_time": "2023-08-02T16:54:50.570Z"
   },
   {
    "duration": 5,
    "start_time": "2023-08-02T16:54:51.972Z"
   },
   {
    "duration": 95,
    "start_time": "2023-08-02T16:54:51.979Z"
   },
   {
    "duration": 24,
    "start_time": "2023-08-02T16:54:52.076Z"
   },
   {
    "duration": 34,
    "start_time": "2023-08-02T16:54:52.101Z"
   },
   {
    "duration": 35,
    "start_time": "2023-08-02T16:54:52.137Z"
   },
   {
    "duration": 1561,
    "start_time": "2023-08-02T17:37:03.591Z"
   },
   {
    "duration": 800,
    "start_time": "2023-08-02T17:37:05.154Z"
   },
   {
    "duration": 17,
    "start_time": "2023-08-02T17:37:05.956Z"
   },
   {
    "duration": 16,
    "start_time": "2023-08-02T17:37:05.975Z"
   },
   {
    "duration": 11,
    "start_time": "2023-08-02T17:37:05.994Z"
   },
   {
    "duration": 24,
    "start_time": "2023-08-02T17:37:06.007Z"
   },
   {
    "duration": 52,
    "start_time": "2023-08-02T17:37:06.033Z"
   },
   {
    "duration": 25,
    "start_time": "2023-08-02T17:37:06.087Z"
   },
   {
    "duration": 14,
    "start_time": "2023-08-02T17:37:06.114Z"
   },
   {
    "duration": 7,
    "start_time": "2023-08-02T17:37:06.130Z"
   },
   {
    "duration": 6,
    "start_time": "2023-08-02T17:37:06.139Z"
   },
   {
    "duration": 344,
    "start_time": "2023-08-02T17:37:06.146Z"
   },
   {
    "duration": 240,
    "start_time": "2023-08-02T17:37:06.492Z"
   },
   {
    "duration": 142,
    "start_time": "2023-08-02T17:37:06.736Z"
   },
   {
    "duration": 3,
    "start_time": "2023-08-02T17:37:06.879Z"
   },
   {
    "duration": 17,
    "start_time": "2023-08-02T17:37:06.884Z"
   },
   {
    "duration": 24,
    "start_time": "2023-08-02T17:37:06.903Z"
   },
   {
    "duration": 25,
    "start_time": "2023-08-02T17:37:06.928Z"
   },
   {
    "duration": 15,
    "start_time": "2023-08-02T17:37:06.955Z"
   },
   {
    "duration": 9,
    "start_time": "2023-08-02T17:37:06.972Z"
   },
   {
    "duration": 17,
    "start_time": "2023-08-02T17:37:06.982Z"
   },
   {
    "duration": 239,
    "start_time": "2023-08-02T17:37:07.000Z"
   },
   {
    "duration": 33,
    "start_time": "2023-08-02T17:37:07.241Z"
   },
   {
    "duration": 13,
    "start_time": "2023-08-02T17:37:07.275Z"
   },
   {
    "duration": 4,
    "start_time": "2023-08-02T17:37:07.289Z"
   },
   {
    "duration": 11,
    "start_time": "2023-08-02T17:37:07.295Z"
   },
   {
    "duration": 20,
    "start_time": "2023-08-02T17:37:07.307Z"
   },
   {
    "duration": 4,
    "start_time": "2023-08-02T17:37:07.329Z"
   },
   {
    "duration": 66,
    "start_time": "2023-08-02T17:37:07.334Z"
   },
   {
    "duration": 12,
    "start_time": "2023-08-02T17:37:07.402Z"
   },
   {
    "duration": 10,
    "start_time": "2023-08-02T17:37:07.416Z"
   },
   {
    "duration": 8,
    "start_time": "2023-08-02T17:37:07.428Z"
   },
   {
    "duration": 38,
    "start_time": "2023-08-02T17:37:07.437Z"
   },
   {
    "duration": 10,
    "start_time": "2023-08-02T17:37:07.477Z"
   },
   {
    "duration": 990,
    "start_time": "2023-08-02T17:37:07.488Z"
   },
   {
    "duration": 751,
    "start_time": "2023-08-02T17:37:08.480Z"
   },
   {
    "duration": 8,
    "start_time": "2023-08-02T17:37:09.232Z"
   },
   {
    "duration": 1547,
    "start_time": "2023-08-02T17:37:09.241Z"
   },
   {
    "duration": 482,
    "start_time": "2023-08-02T17:37:10.789Z"
   },
   {
    "duration": 504,
    "start_time": "2023-08-02T17:37:11.273Z"
   },
   {
    "duration": 596,
    "start_time": "2023-08-02T17:37:11.782Z"
   },
   {
    "duration": 490,
    "start_time": "2023-08-02T17:37:12.380Z"
   },
   {
    "duration": 61,
    "start_time": "2023-08-02T17:37:12.872Z"
   },
   {
    "duration": 4,
    "start_time": "2023-08-02T17:37:12.935Z"
   },
   {
    "duration": 8,
    "start_time": "2023-08-02T17:37:12.941Z"
   },
   {
    "duration": 20,
    "start_time": "2023-08-02T17:37:12.951Z"
   },
   {
    "duration": 11,
    "start_time": "2023-08-02T17:37:12.973Z"
   },
   {
    "duration": 5,
    "start_time": "2023-08-02T17:37:12.986Z"
   },
   {
    "duration": 11,
    "start_time": "2023-08-02T17:37:12.992Z"
   },
   {
    "duration": 1568,
    "start_time": "2023-08-02T17:37:13.005Z"
   },
   {
    "duration": 2,
    "start_time": "2023-08-02T17:37:14.575Z"
   },
   {
    "duration": 6,
    "start_time": "2023-08-02T17:37:14.579Z"
   },
   {
    "duration": 16,
    "start_time": "2023-08-02T17:37:14.587Z"
   },
   {
    "duration": 8,
    "start_time": "2023-08-02T17:37:14.605Z"
   },
   {
    "duration": 12,
    "start_time": "2023-08-02T17:37:14.614Z"
   },
   {
    "duration": 6,
    "start_time": "2023-08-02T17:37:14.628Z"
   },
   {
    "duration": 19,
    "start_time": "2023-08-02T17:37:14.635Z"
   },
   {
    "duration": 2615,
    "start_time": "2023-08-02T17:37:14.656Z"
   },
   {
    "duration": 25236,
    "start_time": "2023-08-02T17:37:17.272Z"
   },
   {
    "duration": 24989,
    "start_time": "2023-08-02T17:37:42.510Z"
   },
   {
    "duration": 4,
    "start_time": "2023-08-02T17:38:07.500Z"
   },
   {
    "duration": 869,
    "start_time": "2023-08-02T17:38:07.505Z"
   },
   {
    "duration": 3,
    "start_time": "2023-08-02T17:38:08.376Z"
   },
   {
    "duration": 1792,
    "start_time": "2023-08-02T17:38:08.380Z"
   },
   {
    "duration": 1503,
    "start_time": "2023-08-02T17:38:10.174Z"
   },
   {
    "duration": 91,
    "start_time": "2023-08-02T17:38:11.681Z"
   },
   {
    "duration": 151,
    "start_time": "2023-08-02T17:38:11.774Z"
   },
   {
    "duration": 0,
    "start_time": "2023-08-02T17:38:11.927Z"
   },
   {
    "duration": 0,
    "start_time": "2023-08-02T17:38:11.928Z"
   },
   {
    "duration": 0,
    "start_time": "2023-08-02T17:38:11.929Z"
   },
   {
    "duration": 0,
    "start_time": "2023-08-02T17:38:11.930Z"
   },
   {
    "duration": 0,
    "start_time": "2023-08-02T17:38:11.931Z"
   },
   {
    "duration": 0,
    "start_time": "2023-08-02T17:38:11.932Z"
   },
   {
    "duration": 0,
    "start_time": "2023-08-02T17:38:11.933Z"
   },
   {
    "duration": 0,
    "start_time": "2023-08-02T17:38:11.934Z"
   },
   {
    "duration": 0,
    "start_time": "2023-08-02T17:38:11.936Z"
   },
   {
    "duration": 0,
    "start_time": "2023-08-02T17:38:11.937Z"
   },
   {
    "duration": 0,
    "start_time": "2023-08-02T17:38:11.938Z"
   },
   {
    "duration": 0,
    "start_time": "2023-08-02T17:38:11.939Z"
   },
   {
    "duration": 0,
    "start_time": "2023-08-02T17:38:11.940Z"
   },
   {
    "duration": 0,
    "start_time": "2023-08-02T17:38:11.971Z"
   },
   {
    "duration": 0,
    "start_time": "2023-08-02T17:38:11.971Z"
   },
   {
    "duration": 0,
    "start_time": "2023-08-02T17:38:11.973Z"
   },
   {
    "duration": 14657,
    "start_time": "2023-08-02T17:39:03.646Z"
   },
   {
    "duration": 4,
    "start_time": "2023-08-02T17:39:30.327Z"
   },
   {
    "duration": 6,
    "start_time": "2023-08-02T17:39:30.721Z"
   },
   {
    "duration": 683,
    "start_time": "2023-08-02T17:39:34.998Z"
   },
   {
    "duration": 580,
    "start_time": "2023-08-02T17:39:37.891Z"
   },
   {
    "duration": 1534,
    "start_time": "2023-08-02T17:40:11.802Z"
   },
   {
    "duration": 796,
    "start_time": "2023-08-02T17:40:13.338Z"
   },
   {
    "duration": 18,
    "start_time": "2023-08-02T17:40:14.136Z"
   },
   {
    "duration": 25,
    "start_time": "2023-08-02T17:40:14.155Z"
   },
   {
    "duration": 13,
    "start_time": "2023-08-02T17:40:14.182Z"
   },
   {
    "duration": 24,
    "start_time": "2023-08-02T17:40:14.197Z"
   },
   {
    "duration": 20,
    "start_time": "2023-08-02T17:40:14.223Z"
   },
   {
    "duration": 23,
    "start_time": "2023-08-02T17:40:14.270Z"
   },
   {
    "duration": 6,
    "start_time": "2023-08-02T17:40:14.295Z"
   },
   {
    "duration": 6,
    "start_time": "2023-08-02T17:40:14.303Z"
   },
   {
    "duration": 15,
    "start_time": "2023-08-02T17:40:14.310Z"
   },
   {
    "duration": 267,
    "start_time": "2023-08-02T17:40:14.327Z"
   },
   {
    "duration": 240,
    "start_time": "2023-08-02T17:40:14.596Z"
   },
   {
    "duration": 132,
    "start_time": "2023-08-02T17:40:14.839Z"
   },
   {
    "duration": 3,
    "start_time": "2023-08-02T17:40:14.973Z"
   },
   {
    "duration": 10,
    "start_time": "2023-08-02T17:40:14.978Z"
   },
   {
    "duration": 5,
    "start_time": "2023-08-02T17:40:14.989Z"
   },
   {
    "duration": 4,
    "start_time": "2023-08-02T17:40:14.996Z"
   },
   {
    "duration": 54,
    "start_time": "2023-08-02T17:40:15.002Z"
   },
   {
    "duration": 10,
    "start_time": "2023-08-02T17:40:15.058Z"
   },
   {
    "duration": 18,
    "start_time": "2023-08-02T17:40:15.069Z"
   },
   {
    "duration": 261,
    "start_time": "2023-08-02T17:40:15.089Z"
   },
   {
    "duration": 25,
    "start_time": "2023-08-02T17:40:15.351Z"
   },
   {
    "duration": 12,
    "start_time": "2023-08-02T17:40:15.378Z"
   },
   {
    "duration": 3,
    "start_time": "2023-08-02T17:40:15.392Z"
   },
   {
    "duration": 9,
    "start_time": "2023-08-02T17:40:15.397Z"
   },
   {
    "duration": 17,
    "start_time": "2023-08-02T17:40:15.407Z"
   },
   {
    "duration": 4,
    "start_time": "2023-08-02T17:40:15.425Z"
   },
   {
    "duration": 72,
    "start_time": "2023-08-02T17:40:15.430Z"
   },
   {
    "duration": 13,
    "start_time": "2023-08-02T17:40:15.504Z"
   },
   {
    "duration": 11,
    "start_time": "2023-08-02T17:40:15.518Z"
   },
   {
    "duration": 7,
    "start_time": "2023-08-02T17:40:15.531Z"
   },
   {
    "duration": 36,
    "start_time": "2023-08-02T17:40:15.539Z"
   },
   {
    "duration": 9,
    "start_time": "2023-08-02T17:40:15.577Z"
   },
   {
    "duration": 1092,
    "start_time": "2023-08-02T17:40:15.587Z"
   },
   {
    "duration": 691,
    "start_time": "2023-08-02T17:40:16.680Z"
   },
   {
    "duration": 7,
    "start_time": "2023-08-02T17:40:17.373Z"
   },
   {
    "duration": 1613,
    "start_time": "2023-08-02T17:40:17.382Z"
   },
   {
    "duration": 492,
    "start_time": "2023-08-02T17:40:18.997Z"
   },
   {
    "duration": 499,
    "start_time": "2023-08-02T17:40:19.490Z"
   },
   {
    "duration": 600,
    "start_time": "2023-08-02T17:40:19.995Z"
   },
   {
    "duration": 480,
    "start_time": "2023-08-02T17:40:20.597Z"
   },
   {
    "duration": 60,
    "start_time": "2023-08-02T17:40:21.079Z"
   },
   {
    "duration": 2,
    "start_time": "2023-08-02T17:40:21.141Z"
   },
   {
    "duration": 6,
    "start_time": "2023-08-02T17:40:21.145Z"
   },
   {
    "duration": 12,
    "start_time": "2023-08-02T17:40:21.153Z"
   },
   {
    "duration": 13,
    "start_time": "2023-08-02T17:40:21.171Z"
   },
   {
    "duration": 6,
    "start_time": "2023-08-02T17:40:21.185Z"
   },
   {
    "duration": 11,
    "start_time": "2023-08-02T17:40:21.192Z"
   },
   {
    "duration": 1501,
    "start_time": "2023-08-02T17:40:21.204Z"
   },
   {
    "duration": 2,
    "start_time": "2023-08-02T17:40:22.707Z"
   },
   {
    "duration": 114,
    "start_time": "2023-08-02T17:40:22.710Z"
   },
   {
    "duration": 10,
    "start_time": "2023-08-02T17:40:22.828Z"
   },
   {
    "duration": 6,
    "start_time": "2023-08-02T17:40:22.840Z"
   },
   {
    "duration": 18,
    "start_time": "2023-08-02T17:40:22.847Z"
   },
   {
    "duration": 11,
    "start_time": "2023-08-02T17:40:22.867Z"
   },
   {
    "duration": 30,
    "start_time": "2023-08-02T17:40:22.879Z"
   },
   {
    "duration": 2475,
    "start_time": "2023-08-02T17:40:22.911Z"
   },
   {
    "duration": 25047,
    "start_time": "2023-08-02T17:40:25.388Z"
   },
   {
    "duration": 24670,
    "start_time": "2023-08-02T17:40:50.436Z"
   },
   {
    "duration": 4,
    "start_time": "2023-08-02T17:41:15.108Z"
   },
   {
    "duration": 759,
    "start_time": "2023-08-02T17:41:15.113Z"
   },
   {
    "duration": 3,
    "start_time": "2023-08-02T17:41:15.875Z"
   },
   {
    "duration": 1898,
    "start_time": "2023-08-02T17:41:15.880Z"
   },
   {
    "duration": 2116,
    "start_time": "2023-08-02T17:41:17.870Z"
   },
   {
    "duration": 8,
    "start_time": "2023-08-02T17:41:20.072Z"
   },
   {
    "duration": 14646,
    "start_time": "2023-08-02T17:41:20.171Z"
   },
   {
    "duration": 5,
    "start_time": "2023-08-02T17:41:34.819Z"
   },
   {
    "duration": 16,
    "start_time": "2023-08-02T17:41:34.826Z"
   },
   {
    "duration": 730,
    "start_time": "2023-08-02T17:41:34.845Z"
   },
   {
    "duration": 994,
    "start_time": "2023-08-02T17:41:35.577Z"
   },
   {
    "duration": 309,
    "start_time": "2023-08-02T17:41:36.573Z"
   },
   {
    "duration": 100,
    "start_time": "2023-08-02T17:41:36.973Z"
   },
   {
    "duration": 99,
    "start_time": "2023-08-02T17:41:37.077Z"
   },
   {
    "duration": 100,
    "start_time": "2023-08-02T17:41:37.181Z"
   },
   {
    "duration": 12,
    "start_time": "2023-08-02T17:41:37.282Z"
   },
   {
    "duration": 1081,
    "start_time": "2023-08-02T17:41:37.296Z"
   },
   {
    "duration": 1592,
    "start_time": "2023-08-02T17:41:38.379Z"
   },
   {
    "duration": 6,
    "start_time": "2023-08-02T17:41:39.973Z"
   },
   {
    "duration": 118,
    "start_time": "2023-08-02T17:41:39.981Z"
   },
   {
    "duration": 16,
    "start_time": "2023-08-02T17:41:40.101Z"
   },
   {
    "duration": 31,
    "start_time": "2023-08-02T17:41:40.118Z"
   },
   {
    "duration": 14,
    "start_time": "2023-08-02T17:41:40.151Z"
   },
   {
    "duration": 4,
    "start_time": "2023-08-02T17:42:11.324Z"
   },
   {
    "duration": 181,
    "start_time": "2023-08-02T17:58:23.393Z"
   },
   {
    "duration": 82040,
    "start_time": "2023-08-02T17:58:32.858Z"
   },
   {
    "duration": 83405,
    "start_time": "2023-08-02T18:00:14.302Z"
   },
   {
    "duration": 81908,
    "start_time": "2023-08-02T18:05:01.799Z"
   },
   {
    "duration": 11,
    "start_time": "2023-08-02T18:09:57.636Z"
   },
   {
    "duration": 5,
    "start_time": "2023-08-02T18:10:15.391Z"
   },
   {
    "duration": 1716,
    "start_time": "2023-08-02T18:10:25.354Z"
   },
   {
    "duration": 798,
    "start_time": "2023-08-02T18:10:27.072Z"
   },
   {
    "duration": 17,
    "start_time": "2023-08-02T18:10:27.872Z"
   },
   {
    "duration": 73,
    "start_time": "2023-08-02T18:10:27.891Z"
   },
   {
    "duration": 23,
    "start_time": "2023-08-02T18:10:27.968Z"
   },
   {
    "duration": 45,
    "start_time": "2023-08-02T18:10:27.993Z"
   },
   {
    "duration": 58,
    "start_time": "2023-08-02T18:10:28.041Z"
   },
   {
    "duration": 19,
    "start_time": "2023-08-02T18:10:28.101Z"
   },
   {
    "duration": 15,
    "start_time": "2023-08-02T18:10:28.122Z"
   },
   {
    "duration": 6,
    "start_time": "2023-08-02T18:10:28.139Z"
   },
   {
    "duration": 25,
    "start_time": "2023-08-02T18:10:28.147Z"
   },
   {
    "duration": 276,
    "start_time": "2023-08-02T18:10:28.175Z"
   },
   {
    "duration": 242,
    "start_time": "2023-08-02T18:10:28.452Z"
   },
   {
    "duration": 155,
    "start_time": "2023-08-02T18:10:28.699Z"
   },
   {
    "duration": 14,
    "start_time": "2023-08-02T18:10:28.856Z"
   },
   {
    "duration": 10,
    "start_time": "2023-08-02T18:10:28.872Z"
   },
   {
    "duration": 21,
    "start_time": "2023-08-02T18:10:28.884Z"
   },
   {
    "duration": 34,
    "start_time": "2023-08-02T18:10:28.908Z"
   },
   {
    "duration": 11,
    "start_time": "2023-08-02T18:10:28.945Z"
   },
   {
    "duration": 12,
    "start_time": "2023-08-02T18:10:28.958Z"
   },
   {
    "duration": 19,
    "start_time": "2023-08-02T18:10:28.972Z"
   },
   {
    "duration": 275,
    "start_time": "2023-08-02T18:10:28.993Z"
   },
   {
    "duration": 21,
    "start_time": "2023-08-02T18:10:29.270Z"
   },
   {
    "duration": 13,
    "start_time": "2023-08-02T18:10:29.293Z"
   },
   {
    "duration": 21,
    "start_time": "2023-08-02T18:10:29.308Z"
   },
   {
    "duration": 10,
    "start_time": "2023-08-02T18:10:29.331Z"
   },
   {
    "duration": 28,
    "start_time": "2023-08-02T18:10:29.342Z"
   },
   {
    "duration": 4,
    "start_time": "2023-08-02T18:10:29.371Z"
   },
   {
    "duration": 51,
    "start_time": "2023-08-02T18:10:29.377Z"
   },
   {
    "duration": 14,
    "start_time": "2023-08-02T18:10:29.430Z"
   },
   {
    "duration": 34,
    "start_time": "2023-08-02T18:10:29.445Z"
   },
   {
    "duration": 8,
    "start_time": "2023-08-02T18:10:29.481Z"
   },
   {
    "duration": 16,
    "start_time": "2023-08-02T18:10:29.490Z"
   },
   {
    "duration": 5,
    "start_time": "2023-08-02T18:10:29.508Z"
   },
   {
    "duration": 990,
    "start_time": "2023-08-02T18:10:29.515Z"
   },
   {
    "duration": 690,
    "start_time": "2023-08-02T18:10:30.507Z"
   },
   {
    "duration": 6,
    "start_time": "2023-08-02T18:10:31.200Z"
   },
   {
    "duration": 1690,
    "start_time": "2023-08-02T18:10:31.208Z"
   },
   {
    "duration": 491,
    "start_time": "2023-08-02T18:10:32.900Z"
   },
   {
    "duration": 499,
    "start_time": "2023-08-02T18:10:33.393Z"
   },
   {
    "duration": 624,
    "start_time": "2023-08-02T18:10:33.897Z"
   },
   {
    "duration": 477,
    "start_time": "2023-08-02T18:10:34.522Z"
   },
   {
    "duration": 61,
    "start_time": "2023-08-02T18:10:35.000Z"
   },
   {
    "duration": 2,
    "start_time": "2023-08-02T18:10:35.071Z"
   },
   {
    "duration": 30,
    "start_time": "2023-08-02T18:10:35.075Z"
   },
   {
    "duration": 47,
    "start_time": "2023-08-02T18:10:35.107Z"
   },
   {
    "duration": 43,
    "start_time": "2023-08-02T18:10:35.155Z"
   },
   {
    "duration": 22,
    "start_time": "2023-08-02T18:10:35.199Z"
   },
   {
    "duration": 37,
    "start_time": "2023-08-02T18:10:35.223Z"
   },
   {
    "duration": 1664,
    "start_time": "2023-08-02T18:10:35.262Z"
   },
   {
    "duration": 3,
    "start_time": "2023-08-02T18:10:36.927Z"
   },
   {
    "duration": 8,
    "start_time": "2023-08-02T18:10:36.931Z"
   },
   {
    "duration": 16,
    "start_time": "2023-08-02T18:10:36.941Z"
   },
   {
    "duration": 11,
    "start_time": "2023-08-02T18:10:36.959Z"
   },
   {
    "duration": 9,
    "start_time": "2023-08-02T18:10:36.971Z"
   },
   {
    "duration": 6,
    "start_time": "2023-08-02T18:10:36.982Z"
   },
   {
    "duration": 44,
    "start_time": "2023-08-02T18:10:36.990Z"
   },
   {
    "duration": 2519,
    "start_time": "2023-08-02T18:10:37.036Z"
   },
   {
    "duration": 24988,
    "start_time": "2023-08-02T18:10:39.556Z"
   },
   {
    "duration": 24930,
    "start_time": "2023-08-02T18:11:04.546Z"
   },
   {
    "duration": 4,
    "start_time": "2023-08-02T18:11:29.477Z"
   },
   {
    "duration": 593,
    "start_time": "2023-08-02T18:11:29.482Z"
   },
   {
    "duration": 93,
    "start_time": "2023-08-02T18:11:30.077Z"
   },
   {
    "duration": 1701,
    "start_time": "2023-08-02T18:11:30.172Z"
   },
   {
    "duration": 1510,
    "start_time": "2023-08-02T18:11:31.875Z"
   },
   {
    "duration": 11,
    "start_time": "2023-08-02T18:11:33.473Z"
   },
   {
    "duration": 14696,
    "start_time": "2023-08-02T18:11:33.572Z"
   },
   {
    "duration": 79134,
    "start_time": "2023-08-02T18:11:48.270Z"
   },
   {
    "duration": 79105,
    "start_time": "2023-08-02T18:13:07.406Z"
   },
   {
    "duration": 4,
    "start_time": "2023-08-02T18:14:26.515Z"
   },
   {
    "duration": 8,
    "start_time": "2023-08-02T18:14:26.521Z"
   },
   {
    "duration": 15,
    "start_time": "2023-08-02T18:14:26.531Z"
   },
   {
    "duration": 802,
    "start_time": "2023-08-02T18:14:26.570Z"
   },
   {
    "duration": 901,
    "start_time": "2023-08-02T18:14:27.374Z"
   },
   {
    "duration": 493,
    "start_time": "2023-08-02T18:14:28.278Z"
   },
   {
    "duration": 106,
    "start_time": "2023-08-02T18:14:28.774Z"
   },
   {
    "duration": 104,
    "start_time": "2023-08-02T18:14:28.970Z"
   },
   {
    "duration": 20,
    "start_time": "2023-08-02T18:14:29.076Z"
   },
   {
    "duration": 11,
    "start_time": "2023-08-02T18:14:29.098Z"
   },
   {
    "duration": 2672,
    "start_time": "2023-08-02T18:14:29.111Z"
   },
   {
    "duration": 1494,
    "start_time": "2023-08-02T18:14:31.785Z"
   },
   {
    "duration": 92,
    "start_time": "2023-08-02T18:14:33.281Z"
   },
   {
    "duration": 97,
    "start_time": "2023-08-02T18:14:33.375Z"
   },
   {
    "duration": 14,
    "start_time": "2023-08-02T18:14:33.474Z"
   },
   {
    "duration": 7,
    "start_time": "2023-08-02T18:14:33.490Z"
   },
   {
    "duration": 8,
    "start_time": "2023-08-02T18:14:33.499Z"
   },
   {
    "duration": 119,
    "start_time": "2023-08-02T18:24:25.850Z"
   },
   {
    "duration": 10,
    "start_time": "2023-08-02T18:26:35.495Z"
   },
   {
    "duration": 10,
    "start_time": "2023-08-02T18:27:45.171Z"
   },
   {
    "duration": 36,
    "start_time": "2023-08-02T18:28:07.239Z"
   },
   {
    "duration": 113,
    "start_time": "2023-08-02T18:28:52.959Z"
   },
   {
    "duration": 174,
    "start_time": "2023-08-02T18:30:13.499Z"
   },
   {
    "duration": 2671,
    "start_time": "2023-08-02T18:30:38.308Z"
   },
   {
    "duration": 4,
    "start_time": "2023-08-02T18:30:45.401Z"
   },
   {
    "duration": 344,
    "start_time": "2023-08-02T18:30:52.633Z"
   },
   {
    "duration": 12,
    "start_time": "2023-08-02T18:31:18.849Z"
   },
   {
    "duration": 1435,
    "start_time": "2023-08-02T18:31:43.131Z"
   },
   {
    "duration": 810,
    "start_time": "2023-08-02T18:31:44.568Z"
   },
   {
    "duration": 20,
    "start_time": "2023-08-02T18:31:45.380Z"
   },
   {
    "duration": 16,
    "start_time": "2023-08-02T18:31:45.403Z"
   },
   {
    "duration": 13,
    "start_time": "2023-08-02T18:31:45.420Z"
   },
   {
    "duration": 55,
    "start_time": "2023-08-02T18:31:45.434Z"
   },
   {
    "duration": 32,
    "start_time": "2023-08-02T18:31:45.492Z"
   },
   {
    "duration": 51,
    "start_time": "2023-08-02T18:31:45.527Z"
   },
   {
    "duration": 20,
    "start_time": "2023-08-02T18:31:45.580Z"
   },
   {
    "duration": 11,
    "start_time": "2023-08-02T18:31:45.603Z"
   },
   {
    "duration": 10,
    "start_time": "2023-08-02T18:31:45.616Z"
   },
   {
    "duration": 270,
    "start_time": "2023-08-02T18:31:45.628Z"
   },
   {
    "duration": 257,
    "start_time": "2023-08-02T18:31:45.900Z"
   },
   {
    "duration": 138,
    "start_time": "2023-08-02T18:31:46.158Z"
   },
   {
    "duration": 3,
    "start_time": "2023-08-02T18:31:46.298Z"
   },
   {
    "duration": 37,
    "start_time": "2023-08-02T18:31:46.302Z"
   },
   {
    "duration": 11,
    "start_time": "2023-08-02T18:31:46.340Z"
   },
   {
    "duration": 24,
    "start_time": "2023-08-02T18:31:46.353Z"
   },
   {
    "duration": 27,
    "start_time": "2023-08-02T18:31:46.380Z"
   },
   {
    "duration": 15,
    "start_time": "2023-08-02T18:31:46.410Z"
   },
   {
    "duration": 41,
    "start_time": "2023-08-02T18:31:46.427Z"
   },
   {
    "duration": 316,
    "start_time": "2023-08-02T18:31:46.470Z"
   },
   {
    "duration": 22,
    "start_time": "2023-08-02T18:31:46.788Z"
   },
   {
    "duration": 61,
    "start_time": "2023-08-02T18:31:46.812Z"
   },
   {
    "duration": 6,
    "start_time": "2023-08-02T18:31:46.876Z"
   },
   {
    "duration": 16,
    "start_time": "2023-08-02T18:31:46.884Z"
   },
   {
    "duration": 33,
    "start_time": "2023-08-02T18:31:46.902Z"
   },
   {
    "duration": 5,
    "start_time": "2023-08-02T18:31:46.943Z"
   },
   {
    "duration": 77,
    "start_time": "2023-08-02T18:31:46.951Z"
   },
   {
    "duration": 19,
    "start_time": "2023-08-02T18:31:47.031Z"
   },
   {
    "duration": 33,
    "start_time": "2023-08-02T18:31:47.053Z"
   },
   {
    "duration": 10,
    "start_time": "2023-08-02T18:31:47.088Z"
   },
   {
    "duration": 17,
    "start_time": "2023-08-02T18:31:47.100Z"
   },
   {
    "duration": 19,
    "start_time": "2023-08-02T18:31:47.119Z"
   },
   {
    "duration": 1157,
    "start_time": "2023-08-02T18:31:47.140Z"
   },
   {
    "duration": 817,
    "start_time": "2023-08-02T18:31:48.302Z"
   },
   {
    "duration": 8,
    "start_time": "2023-08-02T18:31:49.121Z"
   },
   {
    "duration": 1686,
    "start_time": "2023-08-02T18:31:49.131Z"
   },
   {
    "duration": 512,
    "start_time": "2023-08-02T18:31:50.819Z"
   },
   {
    "duration": 496,
    "start_time": "2023-08-02T18:31:51.333Z"
   },
   {
    "duration": 645,
    "start_time": "2023-08-02T18:31:51.830Z"
   },
   {
    "duration": 524,
    "start_time": "2023-08-02T18:31:52.477Z"
   },
   {
    "duration": 71,
    "start_time": "2023-08-02T18:31:53.003Z"
   },
   {
    "duration": 3,
    "start_time": "2023-08-02T18:31:53.076Z"
   },
   {
    "duration": 10,
    "start_time": "2023-08-02T18:31:53.081Z"
   },
   {
    "duration": 8,
    "start_time": "2023-08-02T18:31:53.093Z"
   },
   {
    "duration": 18,
    "start_time": "2023-08-02T18:31:53.102Z"
   },
   {
    "duration": 5,
    "start_time": "2023-08-02T18:31:53.122Z"
   },
   {
    "duration": 13,
    "start_time": "2023-08-02T18:31:53.129Z"
   },
   {
    "duration": 1634,
    "start_time": "2023-08-02T18:31:53.144Z"
   },
   {
    "duration": 3,
    "start_time": "2023-08-02T18:31:54.781Z"
   },
   {
    "duration": 10,
    "start_time": "2023-08-02T18:31:54.785Z"
   },
   {
    "duration": 18,
    "start_time": "2023-08-02T18:31:54.798Z"
   },
   {
    "duration": 9,
    "start_time": "2023-08-02T18:31:54.818Z"
   },
   {
    "duration": 11,
    "start_time": "2023-08-02T18:31:54.829Z"
   },
   {
    "duration": 6,
    "start_time": "2023-08-02T18:31:54.842Z"
   },
   {
    "duration": 26,
    "start_time": "2023-08-02T18:31:54.850Z"
   },
   {
    "duration": 2684,
    "start_time": "2023-08-02T18:31:54.877Z"
   },
   {
    "duration": 25578,
    "start_time": "2023-08-02T18:31:57.563Z"
   },
   {
    "duration": 25514,
    "start_time": "2023-08-02T18:32:23.143Z"
   },
   {
    "duration": 3,
    "start_time": "2023-08-02T18:32:48.659Z"
   },
   {
    "duration": 804,
    "start_time": "2023-08-02T18:32:48.670Z"
   },
   {
    "duration": 3,
    "start_time": "2023-08-02T18:32:49.478Z"
   },
   {
    "duration": 1988,
    "start_time": "2023-08-02T18:32:49.484Z"
   },
   {
    "duration": 1701,
    "start_time": "2023-08-02T18:32:51.477Z"
   },
   {
    "duration": 91,
    "start_time": "2023-08-02T18:32:53.180Z"
   },
   {
    "duration": 14815,
    "start_time": "2023-08-02T18:32:53.274Z"
   },
   {
    "duration": 80002,
    "start_time": "2023-08-02T18:33:08.091Z"
   },
   {
    "duration": 79845,
    "start_time": "2023-08-02T18:34:28.095Z"
   },
   {
    "duration": 4,
    "start_time": "2023-08-02T18:35:47.942Z"
   },
   {
    "duration": 36,
    "start_time": "2023-08-02T18:35:47.948Z"
   },
   {
    "duration": 146,
    "start_time": "2023-08-02T18:35:47.987Z"
   },
   {
    "duration": 740,
    "start_time": "2023-08-02T18:35:48.135Z"
   },
   {
    "duration": 901,
    "start_time": "2023-08-02T18:35:48.877Z"
   },
   {
    "duration": 389,
    "start_time": "2023-08-02T18:35:49.782Z"
   },
   {
    "duration": 99,
    "start_time": "2023-08-02T18:35:50.173Z"
   },
   {
    "duration": 299,
    "start_time": "2023-08-02T18:35:50.276Z"
   },
   {
    "duration": 51,
    "start_time": "2023-08-02T18:35:50.576Z"
   },
   {
    "duration": 31,
    "start_time": "2023-08-02T18:35:50.629Z"
   },
   {
    "duration": 17,
    "start_time": "2023-08-02T18:35:50.661Z"
   },
   {
    "duration": 23,
    "start_time": "2023-08-02T18:35:50.680Z"
   },
   {
    "duration": 263,
    "start_time": "2023-08-02T18:35:50.708Z"
   },
   {
    "duration": 397,
    "start_time": "2023-08-02T18:35:50.974Z"
   },
   {
    "duration": 3,
    "start_time": "2023-08-02T18:35:51.374Z"
   },
   {
    "duration": 20,
    "start_time": "2023-08-02T18:35:51.379Z"
   },
   {
    "duration": 8,
    "start_time": "2023-08-02T18:35:51.400Z"
   },
   {
    "duration": 12,
    "start_time": "2023-08-02T18:35:51.410Z"
   },
   {
    "duration": 30,
    "start_time": "2023-08-02T18:35:51.424Z"
   },
   {
    "duration": 28,
    "start_time": "2023-08-02T18:36:44.447Z"
   },
   {
    "duration": 4,
    "start_time": "2023-08-02T18:36:48.547Z"
   },
   {
    "duration": 4,
    "start_time": "2023-08-02T18:36:52.159Z"
   },
   {
    "duration": 49,
    "start_time": "2023-08-02T18:37:13.331Z"
   },
   {
    "duration": 74,
    "start_time": "2023-08-02T18:37:14.103Z"
   },
   {
    "duration": 3,
    "start_time": "2023-08-02T18:37:14.742Z"
   },
   {
    "duration": 7,
    "start_time": "2023-08-02T18:39:19.039Z"
   },
   {
    "duration": 6,
    "start_time": "2023-08-02T18:39:20.015Z"
   },
   {
    "duration": 6,
    "start_time": "2023-08-02T18:39:21.385Z"
   },
   {
    "duration": 1450,
    "start_time": "2023-08-02T18:39:32.403Z"
   },
   {
    "duration": 803,
    "start_time": "2023-08-02T18:39:33.855Z"
   },
   {
    "duration": 18,
    "start_time": "2023-08-02T18:39:34.660Z"
   },
   {
    "duration": 17,
    "start_time": "2023-08-02T18:39:34.680Z"
   },
   {
    "duration": 12,
    "start_time": "2023-08-02T18:39:34.699Z"
   },
   {
    "duration": 31,
    "start_time": "2023-08-02T18:39:34.713Z"
   },
   {
    "duration": 22,
    "start_time": "2023-08-02T18:39:34.770Z"
   },
   {
    "duration": 30,
    "start_time": "2023-08-02T18:39:34.794Z"
   },
   {
    "duration": 5,
    "start_time": "2023-08-02T18:39:34.826Z"
   },
   {
    "duration": 48,
    "start_time": "2023-08-02T18:39:34.832Z"
   },
   {
    "duration": 7,
    "start_time": "2023-08-02T18:39:34.882Z"
   },
   {
    "duration": 269,
    "start_time": "2023-08-02T18:39:34.890Z"
   },
   {
    "duration": 249,
    "start_time": "2023-08-02T18:39:35.161Z"
   },
   {
    "duration": 169,
    "start_time": "2023-08-02T18:39:35.415Z"
   },
   {
    "duration": 2,
    "start_time": "2023-08-02T18:39:35.586Z"
   },
   {
    "duration": 76,
    "start_time": "2023-08-02T18:39:35.590Z"
   },
   {
    "duration": 27,
    "start_time": "2023-08-02T18:39:35.668Z"
   },
   {
    "duration": 42,
    "start_time": "2023-08-02T18:39:35.697Z"
   },
   {
    "duration": 46,
    "start_time": "2023-08-02T18:39:35.741Z"
   },
   {
    "duration": 51,
    "start_time": "2023-08-02T18:39:35.789Z"
   },
   {
    "duration": 37,
    "start_time": "2023-08-02T18:39:35.842Z"
   },
   {
    "duration": 271,
    "start_time": "2023-08-02T18:39:35.881Z"
   },
   {
    "duration": 21,
    "start_time": "2023-08-02T18:39:36.154Z"
   },
   {
    "duration": 16,
    "start_time": "2023-08-02T18:39:36.177Z"
   },
   {
    "duration": 35,
    "start_time": "2023-08-02T18:39:36.196Z"
   },
   {
    "duration": 29,
    "start_time": "2023-08-02T18:39:36.233Z"
   },
   {
    "duration": 46,
    "start_time": "2023-08-02T18:39:36.264Z"
   },
   {
    "duration": 9,
    "start_time": "2023-08-02T18:39:36.312Z"
   },
   {
    "duration": 68,
    "start_time": "2023-08-02T18:39:36.323Z"
   },
   {
    "duration": 17,
    "start_time": "2023-08-02T18:39:36.394Z"
   },
   {
    "duration": 30,
    "start_time": "2023-08-02T18:39:36.414Z"
   },
   {
    "duration": 21,
    "start_time": "2023-08-02T18:39:36.446Z"
   },
   {
    "duration": 24,
    "start_time": "2023-08-02T18:39:36.469Z"
   },
   {
    "duration": 18,
    "start_time": "2023-08-02T18:39:36.495Z"
   },
   {
    "duration": 1080,
    "start_time": "2023-08-02T18:39:36.515Z"
   },
   {
    "duration": 802,
    "start_time": "2023-08-02T18:39:37.597Z"
   },
   {
    "duration": 6,
    "start_time": "2023-08-02T18:39:38.401Z"
   },
   {
    "duration": 1619,
    "start_time": "2023-08-02T18:39:38.408Z"
   },
   {
    "duration": 481,
    "start_time": "2023-08-02T18:39:40.029Z"
   },
   {
    "duration": 484,
    "start_time": "2023-08-02T18:39:40.512Z"
   },
   {
    "duration": 633,
    "start_time": "2023-08-02T18:39:41.002Z"
   },
   {
    "duration": 493,
    "start_time": "2023-08-02T18:39:41.637Z"
   },
   {
    "duration": 68,
    "start_time": "2023-08-02T18:39:42.132Z"
   },
   {
    "duration": 4,
    "start_time": "2023-08-02T18:39:42.202Z"
   },
   {
    "duration": 6,
    "start_time": "2023-08-02T18:39:42.208Z"
   },
   {
    "duration": 14,
    "start_time": "2023-08-02T18:39:42.216Z"
   },
   {
    "duration": 6,
    "start_time": "2023-08-02T18:39:42.232Z"
   },
   {
    "duration": 5,
    "start_time": "2023-08-02T18:39:42.240Z"
   },
   {
    "duration": 8,
    "start_time": "2023-08-02T18:39:42.247Z"
   },
   {
    "duration": 1576,
    "start_time": "2023-08-02T18:39:42.257Z"
   },
   {
    "duration": 2,
    "start_time": "2023-08-02T18:39:43.835Z"
   },
   {
    "duration": 10,
    "start_time": "2023-08-02T18:39:43.839Z"
   },
   {
    "duration": 7,
    "start_time": "2023-08-02T18:39:43.851Z"
   },
   {
    "duration": 8,
    "start_time": "2023-08-02T18:39:43.859Z"
   },
   {
    "duration": 6,
    "start_time": "2023-08-02T18:39:43.871Z"
   },
   {
    "duration": 20,
    "start_time": "2023-08-02T18:39:43.879Z"
   },
   {
    "duration": 27,
    "start_time": "2023-08-02T18:39:43.900Z"
   },
   {
    "duration": 2528,
    "start_time": "2023-08-02T18:39:43.928Z"
   },
   {
    "duration": 25598,
    "start_time": "2023-08-02T18:39:46.458Z"
   },
   {
    "duration": 25954,
    "start_time": "2023-08-02T18:40:12.058Z"
   },
   {
    "duration": 3,
    "start_time": "2023-08-02T18:40:38.013Z"
   },
   {
    "duration": 754,
    "start_time": "2023-08-02T18:40:38.018Z"
   },
   {
    "duration": 4,
    "start_time": "2023-08-02T18:40:38.774Z"
   },
   {
    "duration": 2092,
    "start_time": "2023-08-02T18:40:38.780Z"
   },
   {
    "duration": 2098,
    "start_time": "2023-08-02T18:40:40.874Z"
   },
   {
    "duration": 5,
    "start_time": "2023-08-02T18:40:42.975Z"
   },
   {
    "duration": 15304,
    "start_time": "2023-08-02T18:40:43.071Z"
   },
   {
    "duration": 82829,
    "start_time": "2023-08-02T18:40:58.377Z"
   },
   {
    "duration": 80969,
    "start_time": "2023-08-02T18:42:21.208Z"
   },
   {
    "duration": 4,
    "start_time": "2023-08-02T18:43:42.179Z"
   },
   {
    "duration": 31,
    "start_time": "2023-08-02T18:43:42.185Z"
   },
   {
    "duration": 47,
    "start_time": "2023-08-02T18:43:42.218Z"
   },
   {
    "duration": 905,
    "start_time": "2023-08-02T18:43:42.267Z"
   },
   {
    "duration": 605,
    "start_time": "2023-08-02T18:43:43.176Z"
   },
   {
    "duration": 395,
    "start_time": "2023-08-02T18:43:43.783Z"
   },
   {
    "duration": 192,
    "start_time": "2023-08-02T18:43:44.180Z"
   },
   {
    "duration": 111,
    "start_time": "2023-08-02T18:43:44.374Z"
   },
   {
    "duration": 8,
    "start_time": "2023-08-02T18:43:44.488Z"
   },
   {
    "duration": 7,
    "start_time": "2023-08-02T18:43:44.499Z"
   },
   {
    "duration": 7,
    "start_time": "2023-08-02T18:43:44.508Z"
   },
   {
    "duration": 7,
    "start_time": "2023-08-02T18:43:44.517Z"
   },
   {
    "duration": 354,
    "start_time": "2023-08-02T18:43:44.525Z"
   },
   {
    "duration": 294,
    "start_time": "2023-08-02T18:43:44.882Z"
   },
   {
    "duration": 93,
    "start_time": "2023-08-02T18:43:45.178Z"
   },
   {
    "duration": 9,
    "start_time": "2023-08-02T18:43:45.273Z"
   },
   {
    "duration": 24,
    "start_time": "2023-08-02T18:43:45.285Z"
   },
   {
    "duration": 18,
    "start_time": "2023-08-02T18:43:45.311Z"
   },
   {
    "duration": 42,
    "start_time": "2023-08-02T18:43:45.331Z"
   },
   {
    "duration": 3,
    "start_time": "2023-08-02T19:04:47.504Z"
   },
   {
    "duration": 1417,
    "start_time": "2023-08-02T19:14:36.327Z"
   },
   {
    "duration": 788,
    "start_time": "2023-08-02T19:14:37.746Z"
   },
   {
    "duration": 17,
    "start_time": "2023-08-02T19:14:38.536Z"
   },
   {
    "duration": 57,
    "start_time": "2023-08-02T19:14:38.554Z"
   },
   {
    "duration": 51,
    "start_time": "2023-08-02T19:14:38.613Z"
   },
   {
    "duration": 42,
    "start_time": "2023-08-02T19:14:38.666Z"
   },
   {
    "duration": 130,
    "start_time": "2023-08-02T19:14:38.709Z"
   },
   {
    "duration": 30,
    "start_time": "2023-08-02T19:14:38.841Z"
   },
   {
    "duration": 19,
    "start_time": "2023-08-02T19:14:38.873Z"
   },
   {
    "duration": 19,
    "start_time": "2023-08-02T19:14:38.894Z"
   },
   {
    "duration": 11,
    "start_time": "2023-08-02T19:14:38.915Z"
   },
   {
    "duration": 279,
    "start_time": "2023-08-02T19:14:38.928Z"
   },
   {
    "duration": 239,
    "start_time": "2023-08-02T19:14:39.209Z"
   },
   {
    "duration": 130,
    "start_time": "2023-08-02T19:14:39.451Z"
   },
   {
    "duration": 3,
    "start_time": "2023-08-02T19:14:39.582Z"
   },
   {
    "duration": 11,
    "start_time": "2023-08-02T19:14:39.587Z"
   },
   {
    "duration": 22,
    "start_time": "2023-08-02T19:14:39.599Z"
   },
   {
    "duration": 41,
    "start_time": "2023-08-02T19:14:39.623Z"
   },
   {
    "duration": 14,
    "start_time": "2023-08-02T19:14:39.665Z"
   },
   {
    "duration": 24,
    "start_time": "2023-08-02T19:14:39.681Z"
   },
   {
    "duration": 14,
    "start_time": "2023-08-02T19:14:39.707Z"
   },
   {
    "duration": 239,
    "start_time": "2023-08-02T19:14:39.723Z"
   },
   {
    "duration": 23,
    "start_time": "2023-08-02T19:14:39.963Z"
   },
   {
    "duration": 12,
    "start_time": "2023-08-02T19:14:39.988Z"
   },
   {
    "duration": 18,
    "start_time": "2023-08-02T19:14:40.002Z"
   },
   {
    "duration": 13,
    "start_time": "2023-08-02T19:14:40.022Z"
   },
   {
    "duration": 35,
    "start_time": "2023-08-02T19:14:40.037Z"
   },
   {
    "duration": 18,
    "start_time": "2023-08-02T19:14:40.074Z"
   },
   {
    "duration": 16,
    "start_time": "2023-08-02T19:14:40.094Z"
   },
   {
    "duration": 9,
    "start_time": "2023-08-02T19:14:40.112Z"
   },
   {
    "duration": 40,
    "start_time": "2023-08-02T19:14:40.123Z"
   },
   {
    "duration": 25,
    "start_time": "2023-08-02T19:14:40.164Z"
   },
   {
    "duration": 10,
    "start_time": "2023-08-02T19:14:40.191Z"
   },
   {
    "duration": 8,
    "start_time": "2023-08-02T19:14:40.203Z"
   },
   {
    "duration": 29,
    "start_time": "2023-08-02T19:14:40.213Z"
   },
   {
    "duration": 12,
    "start_time": "2023-08-02T19:14:40.243Z"
   },
   {
    "duration": 1128,
    "start_time": "2023-08-02T19:14:40.257Z"
   },
   {
    "duration": 876,
    "start_time": "2023-08-02T19:14:41.387Z"
   },
   {
    "duration": 7,
    "start_time": "2023-08-02T19:14:42.265Z"
   },
   {
    "duration": 1569,
    "start_time": "2023-08-02T19:14:42.273Z"
   },
   {
    "duration": 463,
    "start_time": "2023-08-02T19:14:43.847Z"
   },
   {
    "duration": 481,
    "start_time": "2023-08-02T19:14:44.312Z"
   },
   {
    "duration": 620,
    "start_time": "2023-08-02T19:14:44.795Z"
   },
   {
    "duration": 480,
    "start_time": "2023-08-02T19:14:45.417Z"
   },
   {
    "duration": 72,
    "start_time": "2023-08-02T19:14:45.899Z"
   },
   {
    "duration": 2,
    "start_time": "2023-08-02T19:14:45.973Z"
   },
   {
    "duration": 7,
    "start_time": "2023-08-02T19:14:45.977Z"
   },
   {
    "duration": 11,
    "start_time": "2023-08-02T19:14:45.985Z"
   },
   {
    "duration": 16,
    "start_time": "2023-08-02T19:14:45.998Z"
   },
   {
    "duration": 7,
    "start_time": "2023-08-02T19:14:46.016Z"
   },
   {
    "duration": 13,
    "start_time": "2023-08-02T19:14:46.024Z"
   },
   {
    "duration": 1656,
    "start_time": "2023-08-02T19:14:46.039Z"
   },
   {
    "duration": 3,
    "start_time": "2023-08-02T19:14:47.696Z"
   },
   {
    "duration": 9,
    "start_time": "2023-08-02T19:14:47.701Z"
   },
   {
    "duration": 9,
    "start_time": "2023-08-02T19:14:47.712Z"
   },
   {
    "duration": 5,
    "start_time": "2023-08-02T19:14:47.723Z"
   },
   {
    "duration": 8,
    "start_time": "2023-08-02T19:14:47.730Z"
   },
   {
    "duration": 16,
    "start_time": "2023-08-02T19:14:47.739Z"
   },
   {
    "duration": 226,
    "start_time": "2023-08-02T19:14:47.757Z"
   },
   {
    "duration": 0,
    "start_time": "2023-08-02T19:14:47.985Z"
   },
   {
    "duration": 0,
    "start_time": "2023-08-02T19:14:47.986Z"
   },
   {
    "duration": 0,
    "start_time": "2023-08-02T19:14:47.987Z"
   },
   {
    "duration": 0,
    "start_time": "2023-08-02T19:14:47.988Z"
   },
   {
    "duration": 0,
    "start_time": "2023-08-02T19:14:47.989Z"
   },
   {
    "duration": 0,
    "start_time": "2023-08-02T19:14:47.990Z"
   },
   {
    "duration": 0,
    "start_time": "2023-08-02T19:14:47.991Z"
   },
   {
    "duration": 0,
    "start_time": "2023-08-02T19:14:47.992Z"
   },
   {
    "duration": 0,
    "start_time": "2023-08-02T19:14:47.994Z"
   },
   {
    "duration": 0,
    "start_time": "2023-08-02T19:14:47.994Z"
   },
   {
    "duration": 0,
    "start_time": "2023-08-02T19:14:47.996Z"
   },
   {
    "duration": 0,
    "start_time": "2023-08-02T19:14:47.997Z"
   },
   {
    "duration": 0,
    "start_time": "2023-08-02T19:14:47.999Z"
   },
   {
    "duration": 0,
    "start_time": "2023-08-02T19:14:48.000Z"
   },
   {
    "duration": 0,
    "start_time": "2023-08-02T19:14:48.001Z"
   },
   {
    "duration": 0,
    "start_time": "2023-08-02T19:14:48.002Z"
   },
   {
    "duration": 0,
    "start_time": "2023-08-02T19:14:48.003Z"
   },
   {
    "duration": 0,
    "start_time": "2023-08-02T19:14:48.004Z"
   },
   {
    "duration": 0,
    "start_time": "2023-08-02T19:14:48.005Z"
   },
   {
    "duration": 0,
    "start_time": "2023-08-02T19:14:48.005Z"
   },
   {
    "duration": 0,
    "start_time": "2023-08-02T19:14:48.006Z"
   },
   {
    "duration": 0,
    "start_time": "2023-08-02T19:14:48.007Z"
   },
   {
    "duration": 0,
    "start_time": "2023-08-02T19:14:48.008Z"
   },
   {
    "duration": 0,
    "start_time": "2023-08-02T19:14:48.010Z"
   },
   {
    "duration": 0,
    "start_time": "2023-08-02T19:14:48.011Z"
   },
   {
    "duration": 0,
    "start_time": "2023-08-02T19:14:48.011Z"
   },
   {
    "duration": 0,
    "start_time": "2023-08-02T19:14:48.012Z"
   },
   {
    "duration": 0,
    "start_time": "2023-08-02T19:14:48.013Z"
   },
   {
    "duration": 0,
    "start_time": "2023-08-02T19:14:48.015Z"
   },
   {
    "duration": 0,
    "start_time": "2023-08-02T19:14:48.015Z"
   },
   {
    "duration": 0,
    "start_time": "2023-08-02T19:14:48.016Z"
   },
   {
    "duration": 1459,
    "start_time": "2023-08-02T19:15:55.674Z"
   },
   {
    "duration": 769,
    "start_time": "2023-08-02T19:15:57.135Z"
   },
   {
    "duration": 17,
    "start_time": "2023-08-02T19:15:57.906Z"
   },
   {
    "duration": 16,
    "start_time": "2023-08-02T19:15:57.925Z"
   },
   {
    "duration": 28,
    "start_time": "2023-08-02T19:15:57.943Z"
   },
   {
    "duration": 23,
    "start_time": "2023-08-02T19:15:57.973Z"
   },
   {
    "duration": 32,
    "start_time": "2023-08-02T19:15:57.997Z"
   },
   {
    "duration": 21,
    "start_time": "2023-08-02T19:15:58.030Z"
   },
   {
    "duration": 4,
    "start_time": "2023-08-02T19:15:58.053Z"
   },
   {
    "duration": 7,
    "start_time": "2023-08-02T19:15:58.071Z"
   },
   {
    "duration": 13,
    "start_time": "2023-08-02T19:15:58.080Z"
   },
   {
    "duration": 251,
    "start_time": "2023-08-02T19:15:58.095Z"
   },
   {
    "duration": 240,
    "start_time": "2023-08-02T19:15:58.348Z"
   },
   {
    "duration": 142,
    "start_time": "2023-08-02T19:15:58.591Z"
   },
   {
    "duration": 3,
    "start_time": "2023-08-02T19:15:58.735Z"
   },
   {
    "duration": 9,
    "start_time": "2023-08-02T19:15:58.740Z"
   },
   {
    "duration": 9,
    "start_time": "2023-08-02T19:15:58.750Z"
   },
   {
    "duration": 2,
    "start_time": "2023-08-02T19:15:58.770Z"
   },
   {
    "duration": 6,
    "start_time": "2023-08-02T19:15:58.774Z"
   },
   {
    "duration": 31,
    "start_time": "2023-08-02T19:15:58.782Z"
   },
   {
    "duration": 19,
    "start_time": "2023-08-02T19:15:58.815Z"
   },
   {
    "duration": 253,
    "start_time": "2023-08-02T19:15:58.836Z"
   },
   {
    "duration": 18,
    "start_time": "2023-08-02T19:15:59.091Z"
   },
   {
    "duration": 12,
    "start_time": "2023-08-02T19:15:59.111Z"
   },
   {
    "duration": 4,
    "start_time": "2023-08-02T19:15:59.124Z"
   },
   {
    "duration": 9,
    "start_time": "2023-08-02T19:15:59.129Z"
   },
   {
    "duration": 37,
    "start_time": "2023-08-02T19:15:59.140Z"
   },
   {
    "duration": 4,
    "start_time": "2023-08-02T19:15:59.179Z"
   },
   {
    "duration": 11,
    "start_time": "2023-08-02T19:15:59.185Z"
   },
   {
    "duration": 5,
    "start_time": "2023-08-02T19:15:59.198Z"
   },
   {
    "duration": 12,
    "start_time": "2023-08-02T19:15:59.205Z"
   },
   {
    "duration": 7,
    "start_time": "2023-08-02T19:15:59.219Z"
   },
   {
    "duration": 18,
    "start_time": "2023-08-02T19:15:59.228Z"
   },
   {
    "duration": 33,
    "start_time": "2023-08-02T19:15:59.248Z"
   },
   {
    "duration": 8,
    "start_time": "2023-08-02T19:15:59.282Z"
   },
   {
    "duration": 30,
    "start_time": "2023-08-02T19:15:59.291Z"
   },
   {
    "duration": 20,
    "start_time": "2023-08-02T19:15:59.322Z"
   },
   {
    "duration": 1004,
    "start_time": "2023-08-02T19:15:59.344Z"
   },
   {
    "duration": 738,
    "start_time": "2023-08-02T19:16:00.350Z"
   },
   {
    "duration": 8,
    "start_time": "2023-08-02T19:16:01.089Z"
   },
   {
    "duration": 1649,
    "start_time": "2023-08-02T19:16:01.102Z"
   },
   {
    "duration": 493,
    "start_time": "2023-08-02T19:16:02.753Z"
   },
   {
    "duration": 594,
    "start_time": "2023-08-02T19:16:03.248Z"
   },
   {
    "duration": 494,
    "start_time": "2023-08-02T19:16:03.844Z"
   },
   {
    "duration": 503,
    "start_time": "2023-08-02T19:16:04.340Z"
   },
   {
    "duration": 75,
    "start_time": "2023-08-02T19:16:04.844Z"
   },
   {
    "duration": 3,
    "start_time": "2023-08-02T19:16:04.921Z"
   },
   {
    "duration": 13,
    "start_time": "2023-08-02T19:16:04.925Z"
   },
   {
    "duration": 29,
    "start_time": "2023-08-02T19:16:04.940Z"
   },
   {
    "duration": 26,
    "start_time": "2023-08-02T19:16:04.971Z"
   },
   {
    "duration": 14,
    "start_time": "2023-08-02T19:16:04.999Z"
   },
   {
    "duration": 34,
    "start_time": "2023-08-02T19:16:05.015Z"
   },
   {
    "duration": 1650,
    "start_time": "2023-08-02T19:16:05.051Z"
   },
   {
    "duration": 3,
    "start_time": "2023-08-02T19:16:06.704Z"
   },
   {
    "duration": 18,
    "start_time": "2023-08-02T19:16:06.709Z"
   },
   {
    "duration": 6,
    "start_time": "2023-08-02T19:16:06.729Z"
   },
   {
    "duration": 6,
    "start_time": "2023-08-02T19:16:06.737Z"
   },
   {
    "duration": 11,
    "start_time": "2023-08-02T19:16:06.745Z"
   },
   {
    "duration": 21,
    "start_time": "2023-08-02T19:16:06.758Z"
   },
   {
    "duration": 239,
    "start_time": "2023-08-02T19:16:06.781Z"
   },
   {
    "duration": 0,
    "start_time": "2023-08-02T19:16:07.022Z"
   },
   {
    "duration": 0,
    "start_time": "2023-08-02T19:16:07.023Z"
   },
   {
    "duration": 0,
    "start_time": "2023-08-02T19:16:07.024Z"
   },
   {
    "duration": 0,
    "start_time": "2023-08-02T19:16:07.025Z"
   },
   {
    "duration": 0,
    "start_time": "2023-08-02T19:16:07.026Z"
   },
   {
    "duration": 0,
    "start_time": "2023-08-02T19:16:07.027Z"
   },
   {
    "duration": 0,
    "start_time": "2023-08-02T19:16:07.028Z"
   },
   {
    "duration": 0,
    "start_time": "2023-08-02T19:16:07.030Z"
   },
   {
    "duration": 0,
    "start_time": "2023-08-02T19:16:07.031Z"
   },
   {
    "duration": 0,
    "start_time": "2023-08-02T19:16:07.032Z"
   },
   {
    "duration": 0,
    "start_time": "2023-08-02T19:16:07.034Z"
   },
   {
    "duration": 0,
    "start_time": "2023-08-02T19:16:07.035Z"
   },
   {
    "duration": 0,
    "start_time": "2023-08-02T19:16:07.036Z"
   },
   {
    "duration": 0,
    "start_time": "2023-08-02T19:16:07.038Z"
   },
   {
    "duration": 0,
    "start_time": "2023-08-02T19:16:07.040Z"
   },
   {
    "duration": 0,
    "start_time": "2023-08-02T19:16:07.041Z"
   },
   {
    "duration": 0,
    "start_time": "2023-08-02T19:16:07.042Z"
   },
   {
    "duration": 0,
    "start_time": "2023-08-02T19:16:07.043Z"
   },
   {
    "duration": 0,
    "start_time": "2023-08-02T19:16:07.044Z"
   },
   {
    "duration": 0,
    "start_time": "2023-08-02T19:16:07.046Z"
   },
   {
    "duration": 0,
    "start_time": "2023-08-02T19:16:07.048Z"
   },
   {
    "duration": 0,
    "start_time": "2023-08-02T19:16:07.050Z"
   },
   {
    "duration": 0,
    "start_time": "2023-08-02T19:16:07.052Z"
   },
   {
    "duration": 0,
    "start_time": "2023-08-02T19:16:07.053Z"
   },
   {
    "duration": 0,
    "start_time": "2023-08-02T19:16:07.054Z"
   },
   {
    "duration": 0,
    "start_time": "2023-08-02T19:16:07.072Z"
   },
   {
    "duration": 0,
    "start_time": "2023-08-02T19:16:07.073Z"
   },
   {
    "duration": 0,
    "start_time": "2023-08-02T19:16:07.075Z"
   },
   {
    "duration": 0,
    "start_time": "2023-08-02T19:16:07.076Z"
   },
   {
    "duration": 0,
    "start_time": "2023-08-02T19:16:07.078Z"
   },
   {
    "duration": 0,
    "start_time": "2023-08-02T19:16:07.079Z"
   },
   {
    "duration": 96,
    "start_time": "2023-08-02T19:18:15.412Z"
   },
   {
    "duration": 80,
    "start_time": "2023-08-02T19:18:27.896Z"
   },
   {
    "duration": 19,
    "start_time": "2023-08-02T19:18:31.154Z"
   },
   {
    "duration": 1392,
    "start_time": "2023-08-02T19:19:22.091Z"
   },
   {
    "duration": 779,
    "start_time": "2023-08-02T19:19:23.485Z"
   },
   {
    "duration": 19,
    "start_time": "2023-08-02T19:19:24.266Z"
   },
   {
    "duration": 25,
    "start_time": "2023-08-02T19:19:24.286Z"
   },
   {
    "duration": 17,
    "start_time": "2023-08-02T19:19:24.313Z"
   },
   {
    "duration": 35,
    "start_time": "2023-08-02T19:19:24.332Z"
   },
   {
    "duration": 50,
    "start_time": "2023-08-02T19:19:24.369Z"
   },
   {
    "duration": 30,
    "start_time": "2023-08-02T19:19:24.421Z"
   },
   {
    "duration": 27,
    "start_time": "2023-08-02T19:19:24.452Z"
   },
   {
    "duration": 15,
    "start_time": "2023-08-02T19:19:24.480Z"
   },
   {
    "duration": 17,
    "start_time": "2023-08-02T19:19:24.497Z"
   },
   {
    "duration": 269,
    "start_time": "2023-08-02T19:19:24.515Z"
   },
   {
    "duration": 247,
    "start_time": "2023-08-02T19:19:24.786Z"
   },
   {
    "duration": 140,
    "start_time": "2023-08-02T19:19:25.037Z"
   },
   {
    "duration": 3,
    "start_time": "2023-08-02T19:19:25.180Z"
   },
   {
    "duration": 27,
    "start_time": "2023-08-02T19:19:25.185Z"
   },
   {
    "duration": 18,
    "start_time": "2023-08-02T19:19:25.214Z"
   },
   {
    "duration": 19,
    "start_time": "2023-08-02T19:19:25.234Z"
   },
   {
    "duration": 25,
    "start_time": "2023-08-02T19:19:25.255Z"
   },
   {
    "duration": 28,
    "start_time": "2023-08-02T19:19:25.283Z"
   },
   {
    "duration": 45,
    "start_time": "2023-08-02T19:19:25.313Z"
   },
   {
    "duration": 253,
    "start_time": "2023-08-02T19:19:25.360Z"
   },
   {
    "duration": 20,
    "start_time": "2023-08-02T19:19:25.615Z"
   },
   {
    "duration": 33,
    "start_time": "2023-08-02T19:19:25.637Z"
   },
   {
    "duration": 13,
    "start_time": "2023-08-02T19:19:25.672Z"
   },
   {
    "duration": 31,
    "start_time": "2023-08-02T19:19:25.687Z"
   },
   {
    "duration": 35,
    "start_time": "2023-08-02T19:19:25.720Z"
   },
   {
    "duration": 18,
    "start_time": "2023-08-02T19:19:25.757Z"
   },
   {
    "duration": 19,
    "start_time": "2023-08-02T19:19:25.778Z"
   },
   {
    "duration": 15,
    "start_time": "2023-08-02T19:19:25.799Z"
   },
   {
    "duration": 17,
    "start_time": "2023-08-02T19:19:25.816Z"
   },
   {
    "duration": 11,
    "start_time": "2023-08-02T19:19:25.835Z"
   },
   {
    "duration": 16,
    "start_time": "2023-08-02T19:19:25.848Z"
   },
   {
    "duration": 16,
    "start_time": "2023-08-02T19:19:25.866Z"
   },
   {
    "duration": 11,
    "start_time": "2023-08-02T19:19:25.884Z"
   },
   {
    "duration": 22,
    "start_time": "2023-08-02T19:19:25.897Z"
   },
   {
    "duration": 23,
    "start_time": "2023-08-02T19:19:25.920Z"
   },
   {
    "duration": 1076,
    "start_time": "2023-08-02T19:19:25.945Z"
   },
   {
    "duration": 693,
    "start_time": "2023-08-02T19:19:27.023Z"
   },
   {
    "duration": 9,
    "start_time": "2023-08-02T19:19:27.718Z"
   },
   {
    "duration": 1627,
    "start_time": "2023-08-02T19:19:27.732Z"
   },
   {
    "duration": 477,
    "start_time": "2023-08-02T19:19:29.361Z"
   },
   {
    "duration": 618,
    "start_time": "2023-08-02T19:19:29.839Z"
   },
   {
    "duration": 503,
    "start_time": "2023-08-02T19:19:30.460Z"
   },
   {
    "duration": 488,
    "start_time": "2023-08-02T19:19:30.965Z"
   },
   {
    "duration": 71,
    "start_time": "2023-08-02T19:19:31.456Z"
   },
   {
    "duration": 28,
    "start_time": "2023-08-02T19:19:31.529Z"
   },
   {
    "duration": 78,
    "start_time": "2023-08-02T19:19:31.559Z"
   },
   {
    "duration": 70,
    "start_time": "2023-08-02T19:19:31.639Z"
   },
   {
    "duration": 84,
    "start_time": "2023-08-02T19:19:31.711Z"
   },
   {
    "duration": 0,
    "start_time": "2023-08-02T19:19:31.797Z"
   },
   {
    "duration": 0,
    "start_time": "2023-08-02T19:19:31.798Z"
   },
   {
    "duration": 0,
    "start_time": "2023-08-02T19:19:31.799Z"
   },
   {
    "duration": 0,
    "start_time": "2023-08-02T19:19:31.800Z"
   },
   {
    "duration": 0,
    "start_time": "2023-08-02T19:19:31.801Z"
   },
   {
    "duration": 0,
    "start_time": "2023-08-02T19:19:31.802Z"
   },
   {
    "duration": 0,
    "start_time": "2023-08-02T19:19:31.804Z"
   },
   {
    "duration": 0,
    "start_time": "2023-08-02T19:19:31.805Z"
   },
   {
    "duration": 0,
    "start_time": "2023-08-02T19:19:31.806Z"
   },
   {
    "duration": 0,
    "start_time": "2023-08-02T19:19:31.808Z"
   },
   {
    "duration": 0,
    "start_time": "2023-08-02T19:19:31.809Z"
   },
   {
    "duration": 0,
    "start_time": "2023-08-02T19:19:31.810Z"
   },
   {
    "duration": 0,
    "start_time": "2023-08-02T19:19:31.811Z"
   },
   {
    "duration": 0,
    "start_time": "2023-08-02T19:19:31.812Z"
   },
   {
    "duration": 0,
    "start_time": "2023-08-02T19:19:31.814Z"
   },
   {
    "duration": 0,
    "start_time": "2023-08-02T19:19:31.815Z"
   },
   {
    "duration": 0,
    "start_time": "2023-08-02T19:19:31.816Z"
   },
   {
    "duration": 0,
    "start_time": "2023-08-02T19:19:31.817Z"
   },
   {
    "duration": 0,
    "start_time": "2023-08-02T19:19:31.818Z"
   },
   {
    "duration": 0,
    "start_time": "2023-08-02T19:19:31.819Z"
   },
   {
    "duration": 0,
    "start_time": "2023-08-02T19:19:31.820Z"
   },
   {
    "duration": 0,
    "start_time": "2023-08-02T19:19:31.822Z"
   },
   {
    "duration": 0,
    "start_time": "2023-08-02T19:19:31.822Z"
   },
   {
    "duration": 0,
    "start_time": "2023-08-02T19:19:31.823Z"
   },
   {
    "duration": 0,
    "start_time": "2023-08-02T19:19:31.825Z"
   },
   {
    "duration": 0,
    "start_time": "2023-08-02T19:19:31.826Z"
   },
   {
    "duration": 0,
    "start_time": "2023-08-02T19:19:31.827Z"
   },
   {
    "duration": 0,
    "start_time": "2023-08-02T19:19:31.828Z"
   },
   {
    "duration": 0,
    "start_time": "2023-08-02T19:19:31.829Z"
   },
   {
    "duration": 0,
    "start_time": "2023-08-02T19:19:31.830Z"
   },
   {
    "duration": 0,
    "start_time": "2023-08-02T19:19:31.831Z"
   },
   {
    "duration": 0,
    "start_time": "2023-08-02T19:19:31.832Z"
   },
   {
    "duration": 0,
    "start_time": "2023-08-02T19:19:31.833Z"
   },
   {
    "duration": 0,
    "start_time": "2023-08-02T19:19:31.871Z"
   },
   {
    "duration": 0,
    "start_time": "2023-08-02T19:19:31.872Z"
   },
   {
    "duration": 0,
    "start_time": "2023-08-02T19:19:31.873Z"
   },
   {
    "duration": 0,
    "start_time": "2023-08-02T19:19:31.875Z"
   },
   {
    "duration": 0,
    "start_time": "2023-08-02T19:19:31.876Z"
   },
   {
    "duration": 0,
    "start_time": "2023-08-02T19:19:31.877Z"
   },
   {
    "duration": 0,
    "start_time": "2023-08-02T19:19:31.878Z"
   },
   {
    "duration": 0,
    "start_time": "2023-08-02T19:19:31.879Z"
   },
   {
    "duration": 1499,
    "start_time": "2023-08-02T19:20:51.823Z"
   },
   {
    "duration": 1465,
    "start_time": "2023-08-02T19:21:45.632Z"
   },
   {
    "duration": 763,
    "start_time": "2023-08-02T19:21:47.099Z"
   },
   {
    "duration": 19,
    "start_time": "2023-08-02T19:21:47.864Z"
   },
   {
    "duration": 16,
    "start_time": "2023-08-02T19:21:47.884Z"
   },
   {
    "duration": 11,
    "start_time": "2023-08-02T19:21:47.902Z"
   },
   {
    "duration": 22,
    "start_time": "2023-08-02T19:21:47.915Z"
   },
   {
    "duration": 41,
    "start_time": "2023-08-02T19:21:47.939Z"
   },
   {
    "duration": 25,
    "start_time": "2023-08-02T19:21:47.982Z"
   },
   {
    "duration": 9,
    "start_time": "2023-08-02T19:21:48.008Z"
   },
   {
    "duration": 12,
    "start_time": "2023-08-02T19:21:48.018Z"
   },
   {
    "duration": 6,
    "start_time": "2023-08-02T19:21:48.031Z"
   },
   {
    "duration": 252,
    "start_time": "2023-08-02T19:21:48.039Z"
   },
   {
    "duration": 223,
    "start_time": "2023-08-02T19:21:48.293Z"
   },
   {
    "duration": 134,
    "start_time": "2023-08-02T19:21:48.521Z"
   },
   {
    "duration": 3,
    "start_time": "2023-08-02T19:21:48.656Z"
   },
   {
    "duration": 6,
    "start_time": "2023-08-02T19:21:48.671Z"
   },
   {
    "duration": 10,
    "start_time": "2023-08-02T19:21:48.679Z"
   },
   {
    "duration": 9,
    "start_time": "2023-08-02T19:21:48.690Z"
   },
   {
    "duration": 11,
    "start_time": "2023-08-02T19:21:48.700Z"
   },
   {
    "duration": 15,
    "start_time": "2023-08-02T19:21:48.713Z"
   },
   {
    "duration": 15,
    "start_time": "2023-08-02T19:21:48.730Z"
   },
   {
    "duration": 252,
    "start_time": "2023-08-02T19:21:48.747Z"
   },
   {
    "duration": 21,
    "start_time": "2023-08-02T19:21:49.001Z"
   },
   {
    "duration": 13,
    "start_time": "2023-08-02T19:21:49.023Z"
   },
   {
    "duration": 3,
    "start_time": "2023-08-02T19:21:49.038Z"
   },
   {
    "duration": 28,
    "start_time": "2023-08-02T19:21:49.043Z"
   },
   {
    "duration": 17,
    "start_time": "2023-08-02T19:21:49.073Z"
   },
   {
    "duration": 4,
    "start_time": "2023-08-02T19:21:49.092Z"
   },
   {
    "duration": 9,
    "start_time": "2023-08-02T19:21:49.098Z"
   },
   {
    "duration": 26,
    "start_time": "2023-08-02T19:21:49.108Z"
   },
   {
    "duration": 12,
    "start_time": "2023-08-02T19:21:49.136Z"
   },
   {
    "duration": 9,
    "start_time": "2023-08-02T19:21:49.150Z"
   },
   {
    "duration": 16,
    "start_time": "2023-08-02T19:21:49.160Z"
   },
   {
    "duration": 16,
    "start_time": "2023-08-02T19:21:49.178Z"
   },
   {
    "duration": 7,
    "start_time": "2023-08-02T19:21:49.196Z"
   },
   {
    "duration": 29,
    "start_time": "2023-08-02T19:21:49.205Z"
   },
   {
    "duration": 7,
    "start_time": "2023-08-02T19:21:49.236Z"
   },
   {
    "duration": 975,
    "start_time": "2023-08-02T19:21:49.245Z"
   },
   {
    "duration": 742,
    "start_time": "2023-08-02T19:21:50.221Z"
   },
   {
    "duration": 9,
    "start_time": "2023-08-02T19:21:50.965Z"
   },
   {
    "duration": 1519,
    "start_time": "2023-08-02T19:21:50.978Z"
   },
   {
    "duration": 473,
    "start_time": "2023-08-02T19:21:52.499Z"
   },
   {
    "duration": 592,
    "start_time": "2023-08-02T19:21:52.973Z"
   },
   {
    "duration": 454,
    "start_time": "2023-08-02T19:21:53.570Z"
   },
   {
    "duration": 451,
    "start_time": "2023-08-02T19:21:54.026Z"
   },
   {
    "duration": 2,
    "start_time": "2023-08-02T19:21:54.479Z"
   },
   {
    "duration": 27,
    "start_time": "2023-08-02T19:21:54.482Z"
   },
   {
    "duration": 56,
    "start_time": "2023-08-02T19:21:54.511Z"
   },
   {
    "duration": 117,
    "start_time": "2023-08-02T19:21:54.569Z"
   },
   {
    "duration": 0,
    "start_time": "2023-08-02T19:21:54.687Z"
   },
   {
    "duration": 0,
    "start_time": "2023-08-02T19:21:54.688Z"
   },
   {
    "duration": 0,
    "start_time": "2023-08-02T19:21:54.689Z"
   },
   {
    "duration": 0,
    "start_time": "2023-08-02T19:21:54.690Z"
   },
   {
    "duration": 0,
    "start_time": "2023-08-02T19:21:54.691Z"
   },
   {
    "duration": 0,
    "start_time": "2023-08-02T19:21:54.693Z"
   },
   {
    "duration": 0,
    "start_time": "2023-08-02T19:21:54.694Z"
   },
   {
    "duration": 0,
    "start_time": "2023-08-02T19:21:54.694Z"
   },
   {
    "duration": 0,
    "start_time": "2023-08-02T19:21:54.695Z"
   },
   {
    "duration": 0,
    "start_time": "2023-08-02T19:21:54.696Z"
   },
   {
    "duration": 0,
    "start_time": "2023-08-02T19:21:54.697Z"
   },
   {
    "duration": 0,
    "start_time": "2023-08-02T19:21:54.698Z"
   },
   {
    "duration": 0,
    "start_time": "2023-08-02T19:21:54.699Z"
   },
   {
    "duration": 0,
    "start_time": "2023-08-02T19:21:54.700Z"
   },
   {
    "duration": 0,
    "start_time": "2023-08-02T19:21:54.701Z"
   },
   {
    "duration": 0,
    "start_time": "2023-08-02T19:21:54.702Z"
   },
   {
    "duration": 0,
    "start_time": "2023-08-02T19:21:54.703Z"
   },
   {
    "duration": 0,
    "start_time": "2023-08-02T19:21:54.704Z"
   },
   {
    "duration": 0,
    "start_time": "2023-08-02T19:21:54.705Z"
   },
   {
    "duration": 0,
    "start_time": "2023-08-02T19:21:54.706Z"
   },
   {
    "duration": 0,
    "start_time": "2023-08-02T19:21:54.707Z"
   },
   {
    "duration": 0,
    "start_time": "2023-08-02T19:21:54.709Z"
   },
   {
    "duration": 0,
    "start_time": "2023-08-02T19:21:54.709Z"
   },
   {
    "duration": 0,
    "start_time": "2023-08-02T19:21:54.711Z"
   },
   {
    "duration": 0,
    "start_time": "2023-08-02T19:21:54.712Z"
   },
   {
    "duration": 0,
    "start_time": "2023-08-02T19:21:54.713Z"
   },
   {
    "duration": 0,
    "start_time": "2023-08-02T19:21:54.714Z"
   },
   {
    "duration": 0,
    "start_time": "2023-08-02T19:21:54.715Z"
   },
   {
    "duration": 0,
    "start_time": "2023-08-02T19:21:54.716Z"
   },
   {
    "duration": 0,
    "start_time": "2023-08-02T19:21:54.717Z"
   },
   {
    "duration": 0,
    "start_time": "2023-08-02T19:21:54.771Z"
   },
   {
    "duration": 0,
    "start_time": "2023-08-02T19:21:54.772Z"
   },
   {
    "duration": 0,
    "start_time": "2023-08-02T19:21:54.773Z"
   },
   {
    "duration": 0,
    "start_time": "2023-08-02T19:21:54.774Z"
   },
   {
    "duration": 0,
    "start_time": "2023-08-02T19:21:54.775Z"
   },
   {
    "duration": 0,
    "start_time": "2023-08-02T19:21:54.776Z"
   },
   {
    "duration": 0,
    "start_time": "2023-08-02T19:21:54.777Z"
   },
   {
    "duration": 0,
    "start_time": "2023-08-02T19:21:54.778Z"
   },
   {
    "duration": 0,
    "start_time": "2023-08-02T19:21:54.779Z"
   },
   {
    "duration": 0,
    "start_time": "2023-08-02T19:21:54.780Z"
   },
   {
    "duration": 0,
    "start_time": "2023-08-02T19:21:54.781Z"
   },
   {
    "duration": 13,
    "start_time": "2023-08-02T19:26:03.440Z"
   },
   {
    "duration": 1486,
    "start_time": "2023-08-02T19:27:14.466Z"
   },
   {
    "duration": 835,
    "start_time": "2023-08-02T19:27:15.954Z"
   },
   {
    "duration": 20,
    "start_time": "2023-08-02T19:27:16.791Z"
   },
   {
    "duration": 25,
    "start_time": "2023-08-02T19:27:16.813Z"
   },
   {
    "duration": 31,
    "start_time": "2023-08-02T19:27:16.841Z"
   },
   {
    "duration": 25,
    "start_time": "2023-08-02T19:27:16.875Z"
   },
   {
    "duration": 20,
    "start_time": "2023-08-02T19:27:16.901Z"
   },
   {
    "duration": 28,
    "start_time": "2023-08-02T19:27:16.923Z"
   },
   {
    "duration": 21,
    "start_time": "2023-08-02T19:27:16.953Z"
   },
   {
    "duration": 7,
    "start_time": "2023-08-02T19:27:16.975Z"
   },
   {
    "duration": 8,
    "start_time": "2023-08-02T19:27:16.984Z"
   },
   {
    "duration": 257,
    "start_time": "2023-08-02T19:27:16.993Z"
   },
   {
    "duration": 230,
    "start_time": "2023-08-02T19:27:17.252Z"
   },
   {
    "duration": 137,
    "start_time": "2023-08-02T19:27:17.485Z"
   },
   {
    "duration": 2,
    "start_time": "2023-08-02T19:27:17.624Z"
   },
   {
    "duration": 11,
    "start_time": "2023-08-02T19:27:17.628Z"
   },
   {
    "duration": 7,
    "start_time": "2023-08-02T19:27:17.640Z"
   },
   {
    "duration": 6,
    "start_time": "2023-08-02T19:27:17.648Z"
   },
   {
    "duration": 16,
    "start_time": "2023-08-02T19:27:17.656Z"
   },
   {
    "duration": 4,
    "start_time": "2023-08-02T19:27:17.673Z"
   },
   {
    "duration": 19,
    "start_time": "2023-08-02T19:27:17.679Z"
   },
   {
    "duration": 240,
    "start_time": "2023-08-02T19:27:17.699Z"
   },
   {
    "duration": 29,
    "start_time": "2023-08-02T19:27:17.941Z"
   },
   {
    "duration": 14,
    "start_time": "2023-08-02T19:27:17.972Z"
   },
   {
    "duration": 4,
    "start_time": "2023-08-02T19:27:17.987Z"
   },
   {
    "duration": 7,
    "start_time": "2023-08-02T19:27:17.992Z"
   },
   {
    "duration": 16,
    "start_time": "2023-08-02T19:27:18.000Z"
   },
   {
    "duration": 4,
    "start_time": "2023-08-02T19:27:18.017Z"
   },
   {
    "duration": 7,
    "start_time": "2023-08-02T19:27:18.023Z"
   },
   {
    "duration": 197,
    "start_time": "2023-08-02T19:27:18.032Z"
   },
   {
    "duration": 221,
    "start_time": "2023-08-02T19:27:18.230Z"
   },
   {
    "duration": 9,
    "start_time": "2023-08-02T19:27:18.452Z"
   },
   {
    "duration": 29,
    "start_time": "2023-08-02T19:27:18.463Z"
   },
   {
    "duration": 12,
    "start_time": "2023-08-02T19:27:18.494Z"
   },
   {
    "duration": 7,
    "start_time": "2023-08-02T19:27:18.507Z"
   },
   {
    "duration": 15,
    "start_time": "2023-08-02T19:27:18.516Z"
   },
   {
    "duration": 10,
    "start_time": "2023-08-02T19:27:18.533Z"
   },
   {
    "duration": 1054,
    "start_time": "2023-08-02T19:27:18.545Z"
   },
   {
    "duration": 685,
    "start_time": "2023-08-02T19:27:19.600Z"
   },
   {
    "duration": 6,
    "start_time": "2023-08-02T19:27:20.287Z"
   },
   {
    "duration": 1557,
    "start_time": "2023-08-02T19:27:20.298Z"
   },
   {
    "duration": 456,
    "start_time": "2023-08-02T19:27:21.856Z"
   },
   {
    "duration": 586,
    "start_time": "2023-08-02T19:27:22.321Z"
   },
   {
    "duration": 463,
    "start_time": "2023-08-02T19:27:22.909Z"
   },
   {
    "duration": 457,
    "start_time": "2023-08-02T19:27:23.374Z"
   },
   {
    "duration": 12,
    "start_time": "2023-08-02T19:27:23.833Z"
   },
   {
    "duration": 9,
    "start_time": "2023-08-02T19:27:23.846Z"
   },
   {
    "duration": 132,
    "start_time": "2023-08-02T19:27:23.857Z"
   },
   {
    "duration": 0,
    "start_time": "2023-08-02T19:27:23.990Z"
   },
   {
    "duration": 0,
    "start_time": "2023-08-02T19:27:23.991Z"
   },
   {
    "duration": 0,
    "start_time": "2023-08-02T19:27:23.992Z"
   },
   {
    "duration": 0,
    "start_time": "2023-08-02T19:27:23.993Z"
   },
   {
    "duration": 0,
    "start_time": "2023-08-02T19:27:23.994Z"
   },
   {
    "duration": 0,
    "start_time": "2023-08-02T19:27:23.995Z"
   },
   {
    "duration": 0,
    "start_time": "2023-08-02T19:27:23.996Z"
   },
   {
    "duration": 0,
    "start_time": "2023-08-02T19:27:23.997Z"
   },
   {
    "duration": 0,
    "start_time": "2023-08-02T19:27:23.998Z"
   },
   {
    "duration": 0,
    "start_time": "2023-08-02T19:27:23.999Z"
   },
   {
    "duration": 0,
    "start_time": "2023-08-02T19:27:24.000Z"
   },
   {
    "duration": 0,
    "start_time": "2023-08-02T19:27:24.001Z"
   },
   {
    "duration": 0,
    "start_time": "2023-08-02T19:27:24.002Z"
   },
   {
    "duration": 0,
    "start_time": "2023-08-02T19:27:24.004Z"
   },
   {
    "duration": 0,
    "start_time": "2023-08-02T19:27:24.005Z"
   },
   {
    "duration": 1,
    "start_time": "2023-08-02T19:27:24.005Z"
   },
   {
    "duration": 0,
    "start_time": "2023-08-02T19:27:24.007Z"
   },
   {
    "duration": 0,
    "start_time": "2023-08-02T19:27:24.007Z"
   },
   {
    "duration": 0,
    "start_time": "2023-08-02T19:27:24.008Z"
   },
   {
    "duration": 0,
    "start_time": "2023-08-02T19:27:24.009Z"
   },
   {
    "duration": 0,
    "start_time": "2023-08-02T19:27:24.011Z"
   },
   {
    "duration": 0,
    "start_time": "2023-08-02T19:27:24.012Z"
   },
   {
    "duration": 0,
    "start_time": "2023-08-02T19:27:24.012Z"
   },
   {
    "duration": 0,
    "start_time": "2023-08-02T19:27:24.013Z"
   },
   {
    "duration": 0,
    "start_time": "2023-08-02T19:27:24.014Z"
   },
   {
    "duration": 0,
    "start_time": "2023-08-02T19:27:24.015Z"
   },
   {
    "duration": 0,
    "start_time": "2023-08-02T19:27:24.016Z"
   },
   {
    "duration": 0,
    "start_time": "2023-08-02T19:27:24.017Z"
   },
   {
    "duration": 0,
    "start_time": "2023-08-02T19:27:24.018Z"
   },
   {
    "duration": 0,
    "start_time": "2023-08-02T19:27:24.019Z"
   },
   {
    "duration": 0,
    "start_time": "2023-08-02T19:27:24.072Z"
   },
   {
    "duration": 0,
    "start_time": "2023-08-02T19:27:24.073Z"
   },
   {
    "duration": 0,
    "start_time": "2023-08-02T19:27:24.075Z"
   },
   {
    "duration": 0,
    "start_time": "2023-08-02T19:27:24.075Z"
   },
   {
    "duration": 0,
    "start_time": "2023-08-02T19:27:24.077Z"
   },
   {
    "duration": 0,
    "start_time": "2023-08-02T19:27:24.077Z"
   },
   {
    "duration": 0,
    "start_time": "2023-08-02T19:27:24.078Z"
   },
   {
    "duration": 0,
    "start_time": "2023-08-02T19:27:24.079Z"
   },
   {
    "duration": 0,
    "start_time": "2023-08-02T19:27:24.080Z"
   },
   {
    "duration": 0,
    "start_time": "2023-08-02T19:27:24.081Z"
   },
   {
    "duration": 0,
    "start_time": "2023-08-02T19:27:24.082Z"
   },
   {
    "duration": 1391,
    "start_time": "2023-08-02T19:28:09.094Z"
   },
   {
    "duration": 787,
    "start_time": "2023-08-02T19:28:10.487Z"
   },
   {
    "duration": 18,
    "start_time": "2023-08-02T19:28:11.276Z"
   },
   {
    "duration": 16,
    "start_time": "2023-08-02T19:28:11.295Z"
   },
   {
    "duration": 12,
    "start_time": "2023-08-02T19:28:11.313Z"
   },
   {
    "duration": 47,
    "start_time": "2023-08-02T19:28:11.327Z"
   },
   {
    "duration": 21,
    "start_time": "2023-08-02T19:28:11.375Z"
   },
   {
    "duration": 22,
    "start_time": "2023-08-02T19:28:11.398Z"
   },
   {
    "duration": 10,
    "start_time": "2023-08-02T19:28:11.421Z"
   },
   {
    "duration": 6,
    "start_time": "2023-08-02T19:28:11.432Z"
   },
   {
    "duration": 5,
    "start_time": "2023-08-02T19:28:11.439Z"
   },
   {
    "duration": 275,
    "start_time": "2023-08-02T19:28:11.446Z"
   },
   {
    "duration": 226,
    "start_time": "2023-08-02T19:28:11.722Z"
   },
   {
    "duration": 128,
    "start_time": "2023-08-02T19:28:11.951Z"
   },
   {
    "duration": 2,
    "start_time": "2023-08-02T19:28:12.081Z"
   },
   {
    "duration": 8,
    "start_time": "2023-08-02T19:28:12.085Z"
   },
   {
    "duration": 6,
    "start_time": "2023-08-02T19:28:12.094Z"
   },
   {
    "duration": 5,
    "start_time": "2023-08-02T19:28:12.102Z"
   },
   {
    "duration": 9,
    "start_time": "2023-08-02T19:28:12.108Z"
   },
   {
    "duration": 11,
    "start_time": "2023-08-02T19:28:12.118Z"
   },
   {
    "duration": 19,
    "start_time": "2023-08-02T19:28:12.130Z"
   },
   {
    "duration": 251,
    "start_time": "2023-08-02T19:28:12.151Z"
   },
   {
    "duration": 19,
    "start_time": "2023-08-02T19:28:12.404Z"
   },
   {
    "duration": 12,
    "start_time": "2023-08-02T19:28:12.425Z"
   },
   {
    "duration": 4,
    "start_time": "2023-08-02T19:28:12.438Z"
   },
   {
    "duration": 28,
    "start_time": "2023-08-02T19:28:12.443Z"
   },
   {
    "duration": 17,
    "start_time": "2023-08-02T19:28:12.472Z"
   },
   {
    "duration": 3,
    "start_time": "2023-08-02T19:28:12.491Z"
   },
   {
    "duration": 3,
    "start_time": "2023-08-02T19:28:12.496Z"
   },
   {
    "duration": 9,
    "start_time": "2023-08-02T19:28:12.501Z"
   },
   {
    "duration": 14,
    "start_time": "2023-08-02T19:28:12.511Z"
   },
   {
    "duration": 4,
    "start_time": "2023-08-02T19:28:12.526Z"
   },
   {
    "duration": 15,
    "start_time": "2023-08-02T19:28:12.532Z"
   },
   {
    "duration": 29,
    "start_time": "2023-08-02T19:28:12.548Z"
   },
   {
    "duration": 8,
    "start_time": "2023-08-02T19:28:12.578Z"
   },
   {
    "duration": 14,
    "start_time": "2023-08-02T19:28:12.588Z"
   },
   {
    "duration": 5,
    "start_time": "2023-08-02T19:28:12.603Z"
   },
   {
    "duration": 1025,
    "start_time": "2023-08-02T19:28:12.610Z"
   },
   {
    "duration": 729,
    "start_time": "2023-08-02T19:28:13.636Z"
   },
   {
    "duration": 6,
    "start_time": "2023-08-02T19:28:14.370Z"
   },
   {
    "duration": 1508,
    "start_time": "2023-08-02T19:28:14.381Z"
   },
   {
    "duration": 494,
    "start_time": "2023-08-02T19:28:15.890Z"
   },
   {
    "duration": 628,
    "start_time": "2023-08-02T19:28:16.385Z"
   },
   {
    "duration": 453,
    "start_time": "2023-08-02T19:28:17.015Z"
   },
   {
    "duration": 455,
    "start_time": "2023-08-02T19:28:17.471Z"
   },
   {
    "duration": 11,
    "start_time": "2023-08-02T19:28:17.928Z"
   },
   {
    "duration": 16,
    "start_time": "2023-08-02T19:28:17.941Z"
   },
   {
    "duration": 70,
    "start_time": "2023-08-02T19:28:17.958Z"
   },
   {
    "duration": 111,
    "start_time": "2023-08-02T19:28:18.029Z"
   },
   {
    "duration": 0,
    "start_time": "2023-08-02T19:28:18.141Z"
   },
   {
    "duration": 0,
    "start_time": "2023-08-02T19:28:18.143Z"
   },
   {
    "duration": 0,
    "start_time": "2023-08-02T19:28:18.144Z"
   },
   {
    "duration": 0,
    "start_time": "2023-08-02T19:28:18.145Z"
   },
   {
    "duration": 0,
    "start_time": "2023-08-02T19:28:18.146Z"
   },
   {
    "duration": 0,
    "start_time": "2023-08-02T19:28:18.147Z"
   },
   {
    "duration": 0,
    "start_time": "2023-08-02T19:28:18.148Z"
   },
   {
    "duration": 0,
    "start_time": "2023-08-02T19:28:18.149Z"
   },
   {
    "duration": 0,
    "start_time": "2023-08-02T19:28:18.150Z"
   },
   {
    "duration": 0,
    "start_time": "2023-08-02T19:28:18.151Z"
   },
   {
    "duration": 0,
    "start_time": "2023-08-02T19:28:18.170Z"
   },
   {
    "duration": 0,
    "start_time": "2023-08-02T19:28:18.171Z"
   },
   {
    "duration": 0,
    "start_time": "2023-08-02T19:28:18.172Z"
   },
   {
    "duration": 0,
    "start_time": "2023-08-02T19:28:18.173Z"
   },
   {
    "duration": 0,
    "start_time": "2023-08-02T19:28:18.174Z"
   },
   {
    "duration": 0,
    "start_time": "2023-08-02T19:28:18.175Z"
   },
   {
    "duration": 0,
    "start_time": "2023-08-02T19:28:18.176Z"
   },
   {
    "duration": 0,
    "start_time": "2023-08-02T19:28:18.177Z"
   },
   {
    "duration": 0,
    "start_time": "2023-08-02T19:28:18.178Z"
   },
   {
    "duration": 0,
    "start_time": "2023-08-02T19:28:18.179Z"
   },
   {
    "duration": 0,
    "start_time": "2023-08-02T19:28:18.181Z"
   },
   {
    "duration": 0,
    "start_time": "2023-08-02T19:28:18.181Z"
   },
   {
    "duration": 0,
    "start_time": "2023-08-02T19:28:18.182Z"
   },
   {
    "duration": 0,
    "start_time": "2023-08-02T19:28:18.183Z"
   },
   {
    "duration": 0,
    "start_time": "2023-08-02T19:28:18.184Z"
   },
   {
    "duration": 0,
    "start_time": "2023-08-02T19:28:18.185Z"
   },
   {
    "duration": 0,
    "start_time": "2023-08-02T19:28:18.186Z"
   },
   {
    "duration": 0,
    "start_time": "2023-08-02T19:28:18.188Z"
   },
   {
    "duration": 0,
    "start_time": "2023-08-02T19:28:18.189Z"
   },
   {
    "duration": 0,
    "start_time": "2023-08-02T19:28:18.190Z"
   },
   {
    "duration": 0,
    "start_time": "2023-08-02T19:28:18.191Z"
   },
   {
    "duration": 0,
    "start_time": "2023-08-02T19:28:18.192Z"
   },
   {
    "duration": 0,
    "start_time": "2023-08-02T19:28:18.193Z"
   },
   {
    "duration": 0,
    "start_time": "2023-08-02T19:28:18.194Z"
   },
   {
    "duration": 0,
    "start_time": "2023-08-02T19:28:18.195Z"
   },
   {
    "duration": 0,
    "start_time": "2023-08-02T19:28:18.196Z"
   },
   {
    "duration": 0,
    "start_time": "2023-08-02T19:28:18.197Z"
   },
   {
    "duration": 0,
    "start_time": "2023-08-02T19:28:18.198Z"
   },
   {
    "duration": 0,
    "start_time": "2023-08-02T19:28:18.199Z"
   },
   {
    "duration": 0,
    "start_time": "2023-08-02T19:28:18.200Z"
   },
   {
    "duration": 13,
    "start_time": "2023-08-02T19:29:00.519Z"
   },
   {
    "duration": 11,
    "start_time": "2023-08-02T19:29:38.466Z"
   },
   {
    "duration": 1449,
    "start_time": "2023-08-02T19:31:20.486Z"
   },
   {
    "duration": 764,
    "start_time": "2023-08-02T19:31:21.937Z"
   },
   {
    "duration": 20,
    "start_time": "2023-08-02T19:31:22.702Z"
   },
   {
    "duration": 16,
    "start_time": "2023-08-02T19:31:22.724Z"
   },
   {
    "duration": 35,
    "start_time": "2023-08-02T19:31:22.743Z"
   },
   {
    "duration": 24,
    "start_time": "2023-08-02T19:31:22.780Z"
   },
   {
    "duration": 22,
    "start_time": "2023-08-02T19:31:22.806Z"
   },
   {
    "duration": 49,
    "start_time": "2023-08-02T19:31:22.830Z"
   },
   {
    "duration": 17,
    "start_time": "2023-08-02T19:31:22.880Z"
   },
   {
    "duration": 7,
    "start_time": "2023-08-02T19:31:22.898Z"
   },
   {
    "duration": 8,
    "start_time": "2023-08-02T19:31:22.907Z"
   },
   {
    "duration": 253,
    "start_time": "2023-08-02T19:31:22.916Z"
   },
   {
    "duration": 232,
    "start_time": "2023-08-02T19:31:23.171Z"
   },
   {
    "duration": 125,
    "start_time": "2023-08-02T19:31:23.406Z"
   },
   {
    "duration": 2,
    "start_time": "2023-08-02T19:31:23.533Z"
   },
   {
    "duration": 8,
    "start_time": "2023-08-02T19:31:23.537Z"
   },
   {
    "duration": 6,
    "start_time": "2023-08-02T19:31:23.546Z"
   },
   {
    "duration": 19,
    "start_time": "2023-08-02T19:31:23.553Z"
   },
   {
    "duration": 7,
    "start_time": "2023-08-02T19:31:23.574Z"
   },
   {
    "duration": 6,
    "start_time": "2023-08-02T19:31:23.582Z"
   },
   {
    "duration": 22,
    "start_time": "2023-08-02T19:31:23.589Z"
   },
   {
    "duration": 248,
    "start_time": "2023-08-02T19:31:23.613Z"
   },
   {
    "duration": 20,
    "start_time": "2023-08-02T19:31:23.870Z"
   },
   {
    "duration": 12,
    "start_time": "2023-08-02T19:31:23.891Z"
   },
   {
    "duration": 4,
    "start_time": "2023-08-02T19:31:23.904Z"
   },
   {
    "duration": 7,
    "start_time": "2023-08-02T19:31:23.910Z"
   },
   {
    "duration": 18,
    "start_time": "2023-08-02T19:31:23.919Z"
   },
   {
    "duration": 3,
    "start_time": "2023-08-02T19:31:23.939Z"
   },
   {
    "duration": 27,
    "start_time": "2023-08-02T19:31:23.944Z"
   },
   {
    "duration": 7,
    "start_time": "2023-08-02T19:31:23.972Z"
   },
   {
    "duration": 13,
    "start_time": "2023-08-02T19:31:23.980Z"
   },
   {
    "duration": 14,
    "start_time": "2023-08-02T19:31:23.995Z"
   },
   {
    "duration": 20,
    "start_time": "2023-08-02T19:31:24.011Z"
   },
   {
    "duration": 12,
    "start_time": "2023-08-02T19:31:24.033Z"
   },
   {
    "duration": 24,
    "start_time": "2023-08-02T19:31:24.047Z"
   },
   {
    "duration": 12,
    "start_time": "2023-08-02T19:31:24.072Z"
   },
   {
    "duration": 7,
    "start_time": "2023-08-02T19:31:24.085Z"
   },
   {
    "duration": 997,
    "start_time": "2023-08-02T19:31:24.093Z"
   },
   {
    "duration": 747,
    "start_time": "2023-08-02T19:31:25.091Z"
   },
   {
    "duration": 6,
    "start_time": "2023-08-02T19:31:25.840Z"
   },
   {
    "duration": 1817,
    "start_time": "2023-08-02T19:31:25.850Z"
   },
   {
    "duration": 468,
    "start_time": "2023-08-02T19:31:27.669Z"
   },
   {
    "duration": 598,
    "start_time": "2023-08-02T19:31:28.139Z"
   },
   {
    "duration": 484,
    "start_time": "2023-08-02T19:31:28.739Z"
   },
   {
    "duration": 518,
    "start_time": "2023-08-02T19:31:29.225Z"
   },
   {
    "duration": 12,
    "start_time": "2023-08-02T19:31:29.745Z"
   },
   {
    "duration": 18,
    "start_time": "2023-08-02T19:31:29.758Z"
   },
   {
    "duration": 123,
    "start_time": "2023-08-02T19:31:29.778Z"
   },
   {
    "duration": 0,
    "start_time": "2023-08-02T19:31:29.903Z"
   },
   {
    "duration": 0,
    "start_time": "2023-08-02T19:31:29.904Z"
   },
   {
    "duration": 0,
    "start_time": "2023-08-02T19:31:29.905Z"
   },
   {
    "duration": 0,
    "start_time": "2023-08-02T19:31:29.906Z"
   },
   {
    "duration": 0,
    "start_time": "2023-08-02T19:31:29.907Z"
   },
   {
    "duration": 0,
    "start_time": "2023-08-02T19:31:29.909Z"
   },
   {
    "duration": 0,
    "start_time": "2023-08-02T19:31:29.909Z"
   },
   {
    "duration": 0,
    "start_time": "2023-08-02T19:31:29.910Z"
   },
   {
    "duration": 0,
    "start_time": "2023-08-02T19:31:29.912Z"
   },
   {
    "duration": 0,
    "start_time": "2023-08-02T19:31:29.913Z"
   },
   {
    "duration": 0,
    "start_time": "2023-08-02T19:31:29.914Z"
   },
   {
    "duration": 0,
    "start_time": "2023-08-02T19:31:29.915Z"
   },
   {
    "duration": 0,
    "start_time": "2023-08-02T19:31:29.916Z"
   },
   {
    "duration": 0,
    "start_time": "2023-08-02T19:31:29.917Z"
   },
   {
    "duration": 0,
    "start_time": "2023-08-02T19:31:29.918Z"
   },
   {
    "duration": 0,
    "start_time": "2023-08-02T19:31:29.919Z"
   },
   {
    "duration": 0,
    "start_time": "2023-08-02T19:31:29.920Z"
   },
   {
    "duration": 0,
    "start_time": "2023-08-02T19:31:29.921Z"
   },
   {
    "duration": 0,
    "start_time": "2023-08-02T19:31:29.922Z"
   },
   {
    "duration": 0,
    "start_time": "2023-08-02T19:31:29.923Z"
   },
   {
    "duration": 0,
    "start_time": "2023-08-02T19:31:29.924Z"
   },
   {
    "duration": 0,
    "start_time": "2023-08-02T19:31:29.925Z"
   },
   {
    "duration": 0,
    "start_time": "2023-08-02T19:31:29.926Z"
   },
   {
    "duration": 0,
    "start_time": "2023-08-02T19:31:29.928Z"
   },
   {
    "duration": 0,
    "start_time": "2023-08-02T19:31:29.928Z"
   },
   {
    "duration": 0,
    "start_time": "2023-08-02T19:31:29.929Z"
   },
   {
    "duration": 0,
    "start_time": "2023-08-02T19:31:29.972Z"
   },
   {
    "duration": 0,
    "start_time": "2023-08-02T19:31:29.974Z"
   },
   {
    "duration": 0,
    "start_time": "2023-08-02T19:31:29.975Z"
   },
   {
    "duration": 0,
    "start_time": "2023-08-02T19:31:29.976Z"
   },
   {
    "duration": 0,
    "start_time": "2023-08-02T19:31:29.977Z"
   },
   {
    "duration": 0,
    "start_time": "2023-08-02T19:31:29.978Z"
   },
   {
    "duration": 0,
    "start_time": "2023-08-02T19:31:29.980Z"
   },
   {
    "duration": 0,
    "start_time": "2023-08-02T19:31:29.981Z"
   },
   {
    "duration": 0,
    "start_time": "2023-08-02T19:31:29.982Z"
   },
   {
    "duration": 0,
    "start_time": "2023-08-02T19:31:29.983Z"
   },
   {
    "duration": 0,
    "start_time": "2023-08-02T19:31:29.984Z"
   },
   {
    "duration": 0,
    "start_time": "2023-08-02T19:31:29.985Z"
   },
   {
    "duration": 0,
    "start_time": "2023-08-02T19:31:29.986Z"
   },
   {
    "duration": 0,
    "start_time": "2023-08-02T19:31:29.988Z"
   },
   {
    "duration": 0,
    "start_time": "2023-08-02T19:31:29.989Z"
   },
   {
    "duration": 225,
    "start_time": "2023-08-02T19:32:20.756Z"
   },
   {
    "duration": 19,
    "start_time": "2023-08-02T19:32:29.472Z"
   },
   {
    "duration": 1658,
    "start_time": "2023-08-02T19:32:35.859Z"
   },
   {
    "duration": 763,
    "start_time": "2023-08-02T19:32:37.519Z"
   },
   {
    "duration": 20,
    "start_time": "2023-08-02T19:32:38.284Z"
   },
   {
    "duration": 17,
    "start_time": "2023-08-02T19:32:38.306Z"
   },
   {
    "duration": 12,
    "start_time": "2023-08-02T19:32:38.325Z"
   },
   {
    "duration": 49,
    "start_time": "2023-08-02T19:32:38.338Z"
   },
   {
    "duration": 20,
    "start_time": "2023-08-02T19:32:38.388Z"
   },
   {
    "duration": 22,
    "start_time": "2023-08-02T19:32:38.410Z"
   },
   {
    "duration": 6,
    "start_time": "2023-08-02T19:32:38.433Z"
   },
   {
    "duration": 7,
    "start_time": "2023-08-02T19:32:38.440Z"
   },
   {
    "duration": 13,
    "start_time": "2023-08-02T19:32:38.471Z"
   },
   {
    "duration": 250,
    "start_time": "2023-08-02T19:32:38.486Z"
   },
   {
    "duration": 250,
    "start_time": "2023-08-02T19:32:38.737Z"
   },
   {
    "duration": 129,
    "start_time": "2023-08-02T19:32:38.991Z"
   },
   {
    "duration": 3,
    "start_time": "2023-08-02T19:32:39.121Z"
   },
   {
    "duration": 13,
    "start_time": "2023-08-02T19:32:39.126Z"
   },
   {
    "duration": 9,
    "start_time": "2023-08-02T19:32:39.140Z"
   },
   {
    "duration": 7,
    "start_time": "2023-08-02T19:32:39.150Z"
   },
   {
    "duration": 13,
    "start_time": "2023-08-02T19:32:39.159Z"
   },
   {
    "duration": 5,
    "start_time": "2023-08-02T19:32:39.174Z"
   },
   {
    "duration": 29,
    "start_time": "2023-08-02T19:32:39.181Z"
   },
   {
    "duration": 259,
    "start_time": "2023-08-02T19:32:39.212Z"
   },
   {
    "duration": 19,
    "start_time": "2023-08-02T19:32:39.472Z"
   },
   {
    "duration": 12,
    "start_time": "2023-08-02T19:32:39.493Z"
   },
   {
    "duration": 33,
    "start_time": "2023-08-02T19:32:39.507Z"
   },
   {
    "duration": 8,
    "start_time": "2023-08-02T19:32:39.542Z"
   },
   {
    "duration": 22,
    "start_time": "2023-08-02T19:32:39.551Z"
   },
   {
    "duration": 5,
    "start_time": "2023-08-02T19:32:39.575Z"
   },
   {
    "duration": 8,
    "start_time": "2023-08-02T19:32:39.581Z"
   },
   {
    "duration": 7,
    "start_time": "2023-08-02T19:32:39.590Z"
   },
   {
    "duration": 16,
    "start_time": "2023-08-02T19:32:39.598Z"
   },
   {
    "duration": 7,
    "start_time": "2023-08-02T19:32:39.616Z"
   },
   {
    "duration": 18,
    "start_time": "2023-08-02T19:32:39.625Z"
   },
   {
    "duration": 12,
    "start_time": "2023-08-02T19:32:39.645Z"
   },
   {
    "duration": 16,
    "start_time": "2023-08-02T19:32:39.670Z"
   },
   {
    "duration": 26,
    "start_time": "2023-08-02T19:32:39.687Z"
   },
   {
    "duration": 10,
    "start_time": "2023-08-02T19:32:39.714Z"
   },
   {
    "duration": 974,
    "start_time": "2023-08-02T19:32:39.725Z"
   },
   {
    "duration": 675,
    "start_time": "2023-08-02T19:32:40.700Z"
   },
   {
    "duration": 7,
    "start_time": "2023-08-02T19:32:41.377Z"
   },
   {
    "duration": 1614,
    "start_time": "2023-08-02T19:32:41.388Z"
   },
   {
    "duration": 463,
    "start_time": "2023-08-02T19:32:43.004Z"
   },
   {
    "duration": 585,
    "start_time": "2023-08-02T19:32:43.470Z"
   },
   {
    "duration": 444,
    "start_time": "2023-08-02T19:32:44.057Z"
   },
   {
    "duration": 454,
    "start_time": "2023-08-02T19:32:44.503Z"
   },
   {
    "duration": 17,
    "start_time": "2023-08-02T19:32:44.958Z"
   },
   {
    "duration": 7,
    "start_time": "2023-08-02T19:32:44.977Z"
   },
   {
    "duration": 141,
    "start_time": "2023-08-02T19:32:44.985Z"
   },
   {
    "duration": 0,
    "start_time": "2023-08-02T19:32:45.128Z"
   },
   {
    "duration": 0,
    "start_time": "2023-08-02T19:32:45.130Z"
   },
   {
    "duration": 0,
    "start_time": "2023-08-02T19:32:45.131Z"
   },
   {
    "duration": 0,
    "start_time": "2023-08-02T19:32:45.132Z"
   },
   {
    "duration": 0,
    "start_time": "2023-08-02T19:32:45.133Z"
   },
   {
    "duration": 0,
    "start_time": "2023-08-02T19:32:45.134Z"
   },
   {
    "duration": 0,
    "start_time": "2023-08-02T19:32:45.136Z"
   },
   {
    "duration": 0,
    "start_time": "2023-08-02T19:32:45.136Z"
   },
   {
    "duration": 0,
    "start_time": "2023-08-02T19:32:45.137Z"
   },
   {
    "duration": 0,
    "start_time": "2023-08-02T19:32:45.139Z"
   },
   {
    "duration": 0,
    "start_time": "2023-08-02T19:32:45.140Z"
   },
   {
    "duration": 0,
    "start_time": "2023-08-02T19:32:45.141Z"
   },
   {
    "duration": 0,
    "start_time": "2023-08-02T19:32:45.142Z"
   },
   {
    "duration": 0,
    "start_time": "2023-08-02T19:32:45.143Z"
   },
   {
    "duration": 0,
    "start_time": "2023-08-02T19:32:45.144Z"
   },
   {
    "duration": 0,
    "start_time": "2023-08-02T19:32:45.145Z"
   },
   {
    "duration": 0,
    "start_time": "2023-08-02T19:32:45.147Z"
   },
   {
    "duration": 0,
    "start_time": "2023-08-02T19:32:45.148Z"
   },
   {
    "duration": 0,
    "start_time": "2023-08-02T19:32:45.149Z"
   },
   {
    "duration": 0,
    "start_time": "2023-08-02T19:32:45.150Z"
   },
   {
    "duration": 0,
    "start_time": "2023-08-02T19:32:45.151Z"
   },
   {
    "duration": 0,
    "start_time": "2023-08-02T19:32:45.151Z"
   },
   {
    "duration": 0,
    "start_time": "2023-08-02T19:32:45.153Z"
   },
   {
    "duration": 0,
    "start_time": "2023-08-02T19:32:45.154Z"
   },
   {
    "duration": 0,
    "start_time": "2023-08-02T19:32:45.155Z"
   },
   {
    "duration": 0,
    "start_time": "2023-08-02T19:32:45.156Z"
   },
   {
    "duration": 0,
    "start_time": "2023-08-02T19:32:45.157Z"
   },
   {
    "duration": 0,
    "start_time": "2023-08-02T19:32:45.158Z"
   },
   {
    "duration": 0,
    "start_time": "2023-08-02T19:32:45.159Z"
   },
   {
    "duration": 0,
    "start_time": "2023-08-02T19:32:45.160Z"
   },
   {
    "duration": 0,
    "start_time": "2023-08-02T19:32:45.161Z"
   },
   {
    "duration": 0,
    "start_time": "2023-08-02T19:32:45.162Z"
   },
   {
    "duration": 0,
    "start_time": "2023-08-02T19:32:45.163Z"
   },
   {
    "duration": 0,
    "start_time": "2023-08-02T19:32:45.171Z"
   },
   {
    "duration": 0,
    "start_time": "2023-08-02T19:32:45.171Z"
   },
   {
    "duration": 0,
    "start_time": "2023-08-02T19:32:45.172Z"
   },
   {
    "duration": 0,
    "start_time": "2023-08-02T19:32:45.174Z"
   },
   {
    "duration": 0,
    "start_time": "2023-08-02T19:32:45.175Z"
   },
   {
    "duration": 0,
    "start_time": "2023-08-02T19:32:45.176Z"
   },
   {
    "duration": 0,
    "start_time": "2023-08-02T19:32:45.177Z"
   },
   {
    "duration": 0,
    "start_time": "2023-08-02T19:32:45.178Z"
   },
   {
    "duration": 118,
    "start_time": "2023-08-02T19:33:43.133Z"
   },
   {
    "duration": 76,
    "start_time": "2023-08-02T19:33:49.432Z"
   },
   {
    "duration": 96,
    "start_time": "2023-08-02T19:35:06.848Z"
   },
   {
    "duration": 3,
    "start_time": "2023-08-02T19:35:23.477Z"
   },
   {
    "duration": 97,
    "start_time": "2023-08-02T19:35:59.536Z"
   },
   {
    "duration": 111,
    "start_time": "2023-08-02T19:45:58.925Z"
   },
   {
    "duration": 146,
    "start_time": "2023-08-02T19:46:11.722Z"
   },
   {
    "duration": 123,
    "start_time": "2023-08-02T19:46:26.645Z"
   },
   {
    "duration": 1468,
    "start_time": "2023-08-02T19:46:33.230Z"
   },
   {
    "duration": 787,
    "start_time": "2023-08-02T19:46:34.700Z"
   },
   {
    "duration": 20,
    "start_time": "2023-08-02T19:46:35.489Z"
   },
   {
    "duration": 26,
    "start_time": "2023-08-02T19:46:35.510Z"
   },
   {
    "duration": 31,
    "start_time": "2023-08-02T19:46:35.538Z"
   },
   {
    "duration": 50,
    "start_time": "2023-08-02T19:46:35.571Z"
   },
   {
    "duration": 38,
    "start_time": "2023-08-02T19:46:35.622Z"
   },
   {
    "duration": 53,
    "start_time": "2023-08-02T19:46:35.662Z"
   },
   {
    "duration": 26,
    "start_time": "2023-08-02T19:46:35.716Z"
   },
   {
    "duration": 16,
    "start_time": "2023-08-02T19:46:35.743Z"
   },
   {
    "duration": 8,
    "start_time": "2023-08-02T19:46:35.760Z"
   },
   {
    "duration": 278,
    "start_time": "2023-08-02T19:46:35.769Z"
   },
   {
    "duration": 259,
    "start_time": "2023-08-02T19:46:36.048Z"
   },
   {
    "duration": 181,
    "start_time": "2023-08-02T19:46:36.310Z"
   },
   {
    "duration": 3,
    "start_time": "2023-08-02T19:46:36.493Z"
   },
   {
    "duration": 30,
    "start_time": "2023-08-02T19:46:36.498Z"
   },
   {
    "duration": 39,
    "start_time": "2023-08-02T19:46:36.530Z"
   },
   {
    "duration": 34,
    "start_time": "2023-08-02T19:46:36.571Z"
   },
   {
    "duration": 33,
    "start_time": "2023-08-02T19:46:36.607Z"
   },
   {
    "duration": 38,
    "start_time": "2023-08-02T19:46:36.642Z"
   },
   {
    "duration": 32,
    "start_time": "2023-08-02T19:46:36.683Z"
   },
   {
    "duration": 282,
    "start_time": "2023-08-02T19:46:36.716Z"
   },
   {
    "duration": 20,
    "start_time": "2023-08-02T19:46:37.000Z"
   },
   {
    "duration": 31,
    "start_time": "2023-08-02T19:46:37.022Z"
   },
   {
    "duration": 24,
    "start_time": "2023-08-02T19:46:37.055Z"
   },
   {
    "duration": 25,
    "start_time": "2023-08-02T19:46:37.081Z"
   },
   {
    "duration": 29,
    "start_time": "2023-08-02T19:46:37.108Z"
   },
   {
    "duration": 13,
    "start_time": "2023-08-02T19:46:37.138Z"
   },
   {
    "duration": 16,
    "start_time": "2023-08-02T19:46:37.153Z"
   },
   {
    "duration": 40,
    "start_time": "2023-08-02T19:46:37.171Z"
   },
   {
    "duration": 24,
    "start_time": "2023-08-02T19:46:37.213Z"
   },
   {
    "duration": 42,
    "start_time": "2023-08-02T19:46:37.239Z"
   },
   {
    "duration": 30,
    "start_time": "2023-08-02T19:46:37.282Z"
   },
   {
    "duration": 21,
    "start_time": "2023-08-02T19:46:37.314Z"
   },
   {
    "duration": 27,
    "start_time": "2023-08-02T19:46:37.336Z"
   },
   {
    "duration": 34,
    "start_time": "2023-08-02T19:46:37.364Z"
   },
   {
    "duration": 16,
    "start_time": "2023-08-02T19:46:37.399Z"
   },
   {
    "duration": 947,
    "start_time": "2023-08-02T19:46:37.417Z"
   },
   {
    "duration": 711,
    "start_time": "2023-08-02T19:46:38.366Z"
   },
   {
    "duration": 6,
    "start_time": "2023-08-02T19:46:39.079Z"
   },
   {
    "duration": 1598,
    "start_time": "2023-08-02T19:46:39.089Z"
   },
   {
    "duration": 455,
    "start_time": "2023-08-02T19:46:40.689Z"
   },
   {
    "duration": 582,
    "start_time": "2023-08-02T19:46:41.145Z"
   },
   {
    "duration": 454,
    "start_time": "2023-08-02T19:46:41.728Z"
   },
   {
    "duration": 463,
    "start_time": "2023-08-02T19:46:42.183Z"
   },
   {
    "duration": 2,
    "start_time": "2023-08-02T19:46:42.648Z"
   },
   {
    "duration": 19,
    "start_time": "2023-08-02T19:46:42.651Z"
   },
   {
    "duration": 200,
    "start_time": "2023-08-02T19:46:42.672Z"
   },
   {
    "duration": 0,
    "start_time": "2023-08-02T19:46:42.874Z"
   },
   {
    "duration": 0,
    "start_time": "2023-08-02T19:46:42.875Z"
   },
   {
    "duration": 0,
    "start_time": "2023-08-02T19:46:42.876Z"
   },
   {
    "duration": 0,
    "start_time": "2023-08-02T19:46:42.877Z"
   },
   {
    "duration": 0,
    "start_time": "2023-08-02T19:46:42.878Z"
   },
   {
    "duration": 0,
    "start_time": "2023-08-02T19:46:42.879Z"
   },
   {
    "duration": 0,
    "start_time": "2023-08-02T19:46:42.880Z"
   },
   {
    "duration": 0,
    "start_time": "2023-08-02T19:46:42.881Z"
   },
   {
    "duration": 0,
    "start_time": "2023-08-02T19:46:42.882Z"
   },
   {
    "duration": 0,
    "start_time": "2023-08-02T19:46:42.883Z"
   },
   {
    "duration": 0,
    "start_time": "2023-08-02T19:46:42.883Z"
   },
   {
    "duration": 0,
    "start_time": "2023-08-02T19:46:42.884Z"
   },
   {
    "duration": 0,
    "start_time": "2023-08-02T19:46:42.885Z"
   },
   {
    "duration": 0,
    "start_time": "2023-08-02T19:46:42.886Z"
   },
   {
    "duration": 0,
    "start_time": "2023-08-02T19:46:42.887Z"
   },
   {
    "duration": 0,
    "start_time": "2023-08-02T19:46:42.888Z"
   },
   {
    "duration": 0,
    "start_time": "2023-08-02T19:46:42.889Z"
   },
   {
    "duration": 0,
    "start_time": "2023-08-02T19:46:42.890Z"
   },
   {
    "duration": 0,
    "start_time": "2023-08-02T19:46:42.891Z"
   },
   {
    "duration": 0,
    "start_time": "2023-08-02T19:46:42.892Z"
   },
   {
    "duration": 0,
    "start_time": "2023-08-02T19:46:42.893Z"
   },
   {
    "duration": 0,
    "start_time": "2023-08-02T19:46:42.894Z"
   },
   {
    "duration": 0,
    "start_time": "2023-08-02T19:46:42.895Z"
   },
   {
    "duration": 0,
    "start_time": "2023-08-02T19:46:42.895Z"
   },
   {
    "duration": 0,
    "start_time": "2023-08-02T19:46:42.896Z"
   },
   {
    "duration": 0,
    "start_time": "2023-08-02T19:46:42.897Z"
   },
   {
    "duration": 0,
    "start_time": "2023-08-02T19:46:42.898Z"
   },
   {
    "duration": 0,
    "start_time": "2023-08-02T19:46:42.899Z"
   },
   {
    "duration": 0,
    "start_time": "2023-08-02T19:46:42.900Z"
   },
   {
    "duration": 0,
    "start_time": "2023-08-02T19:46:42.901Z"
   },
   {
    "duration": 0,
    "start_time": "2023-08-02T19:46:42.902Z"
   },
   {
    "duration": 0,
    "start_time": "2023-08-02T19:46:42.903Z"
   },
   {
    "duration": 0,
    "start_time": "2023-08-02T19:46:42.904Z"
   },
   {
    "duration": 0,
    "start_time": "2023-08-02T19:46:42.905Z"
   },
   {
    "duration": 0,
    "start_time": "2023-08-02T19:46:42.906Z"
   },
   {
    "duration": 0,
    "start_time": "2023-08-02T19:46:42.907Z"
   },
   {
    "duration": 0,
    "start_time": "2023-08-02T19:46:42.908Z"
   },
   {
    "duration": 0,
    "start_time": "2023-08-02T19:46:42.909Z"
   },
   {
    "duration": 0,
    "start_time": "2023-08-02T19:46:42.971Z"
   },
   {
    "duration": 0,
    "start_time": "2023-08-02T19:46:42.972Z"
   },
   {
    "duration": 0,
    "start_time": "2023-08-02T19:46:42.973Z"
   },
   {
    "duration": 23,
    "start_time": "2023-08-02T19:47:25.715Z"
   },
   {
    "duration": 59,
    "start_time": "2023-08-02T19:47:58.179Z"
   },
   {
    "duration": 40,
    "start_time": "2023-08-02T19:48:10.017Z"
   },
   {
    "duration": 42,
    "start_time": "2023-08-02T19:48:27.283Z"
   },
   {
    "duration": 1409,
    "start_time": "2023-08-02T19:48:47.337Z"
   },
   {
    "duration": 807,
    "start_time": "2023-08-02T19:48:48.748Z"
   },
   {
    "duration": 20,
    "start_time": "2023-08-02T19:48:49.557Z"
   },
   {
    "duration": 17,
    "start_time": "2023-08-02T19:48:49.578Z"
   },
   {
    "duration": 13,
    "start_time": "2023-08-02T19:48:49.598Z"
   },
   {
    "duration": 24,
    "start_time": "2023-08-02T19:48:49.612Z"
   },
   {
    "duration": 43,
    "start_time": "2023-08-02T19:48:49.638Z"
   },
   {
    "duration": 24,
    "start_time": "2023-08-02T19:48:49.683Z"
   },
   {
    "duration": 17,
    "start_time": "2023-08-02T19:48:49.708Z"
   },
   {
    "duration": 11,
    "start_time": "2023-08-02T19:48:49.726Z"
   },
   {
    "duration": 8,
    "start_time": "2023-08-02T19:48:49.738Z"
   },
   {
    "duration": 276,
    "start_time": "2023-08-02T19:48:49.748Z"
   },
   {
    "duration": 253,
    "start_time": "2023-08-02T19:48:50.026Z"
   },
   {
    "duration": 140,
    "start_time": "2023-08-02T19:48:50.282Z"
   },
   {
    "duration": 3,
    "start_time": "2023-08-02T19:48:50.424Z"
   },
   {
    "duration": 19,
    "start_time": "2023-08-02T19:48:50.428Z"
   },
   {
    "duration": 22,
    "start_time": "2023-08-02T19:48:50.449Z"
   },
   {
    "duration": 8,
    "start_time": "2023-08-02T19:48:50.473Z"
   },
   {
    "duration": 9,
    "start_time": "2023-08-02T19:48:50.483Z"
   },
   {
    "duration": 18,
    "start_time": "2023-08-02T19:48:50.494Z"
   },
   {
    "duration": 18,
    "start_time": "2023-08-02T19:48:50.514Z"
   },
   {
    "duration": 263,
    "start_time": "2023-08-02T19:48:50.534Z"
   },
   {
    "duration": 26,
    "start_time": "2023-08-02T19:48:50.799Z"
   },
   {
    "duration": 21,
    "start_time": "2023-08-02T19:48:50.828Z"
   },
   {
    "duration": 4,
    "start_time": "2023-08-02T19:48:50.872Z"
   },
   {
    "duration": 9,
    "start_time": "2023-08-02T19:48:50.878Z"
   },
   {
    "duration": 38,
    "start_time": "2023-08-02T19:48:50.889Z"
   },
   {
    "duration": 4,
    "start_time": "2023-08-02T19:48:50.929Z"
   },
   {
    "duration": 15,
    "start_time": "2023-08-02T19:48:50.935Z"
   },
   {
    "duration": 43,
    "start_time": "2023-08-02T19:48:50.952Z"
   },
   {
    "duration": 51,
    "start_time": "2023-08-02T19:48:50.997Z"
   },
   {
    "duration": 19,
    "start_time": "2023-08-02T19:48:51.051Z"
   },
   {
    "duration": 31,
    "start_time": "2023-08-02T19:48:51.072Z"
   },
   {
    "duration": 22,
    "start_time": "2023-08-02T19:48:51.105Z"
   },
   {
    "duration": 17,
    "start_time": "2023-08-02T19:48:51.129Z"
   },
   {
    "duration": 19,
    "start_time": "2023-08-02T19:48:51.148Z"
   },
   {
    "duration": 10,
    "start_time": "2023-08-02T19:48:51.168Z"
   },
   {
    "duration": 1007,
    "start_time": "2023-08-02T19:48:51.179Z"
   },
   {
    "duration": 801,
    "start_time": "2023-08-02T19:48:52.187Z"
   },
   {
    "duration": 8,
    "start_time": "2023-08-02T19:48:52.990Z"
   },
   {
    "duration": 1620,
    "start_time": "2023-08-02T19:48:53.003Z"
   },
   {
    "duration": 511,
    "start_time": "2023-08-02T19:48:54.625Z"
   },
   {
    "duration": 630,
    "start_time": "2023-08-02T19:48:55.138Z"
   },
   {
    "duration": 500,
    "start_time": "2023-08-02T19:48:55.770Z"
   },
   {
    "duration": 536,
    "start_time": "2023-08-02T19:48:56.273Z"
   },
   {
    "duration": 3,
    "start_time": "2023-08-02T19:48:56.811Z"
   },
   {
    "duration": 11,
    "start_time": "2023-08-02T19:48:56.815Z"
   },
   {
    "duration": 24,
    "start_time": "2023-08-02T19:48:56.828Z"
   },
   {
    "duration": 69,
    "start_time": "2023-08-02T19:48:56.854Z"
   },
   {
    "duration": 3,
    "start_time": "2023-08-02T19:48:56.925Z"
   },
   {
    "duration": 131,
    "start_time": "2023-08-02T19:48:56.930Z"
   },
   {
    "duration": 0,
    "start_time": "2023-08-02T19:48:57.063Z"
   },
   {
    "duration": 0,
    "start_time": "2023-08-02T19:48:57.064Z"
   },
   {
    "duration": 0,
    "start_time": "2023-08-02T19:48:57.071Z"
   },
   {
    "duration": 0,
    "start_time": "2023-08-02T19:48:57.072Z"
   },
   {
    "duration": 0,
    "start_time": "2023-08-02T19:48:57.074Z"
   },
   {
    "duration": 0,
    "start_time": "2023-08-02T19:48:57.075Z"
   },
   {
    "duration": 0,
    "start_time": "2023-08-02T19:48:57.077Z"
   },
   {
    "duration": 0,
    "start_time": "2023-08-02T19:48:57.078Z"
   },
   {
    "duration": 0,
    "start_time": "2023-08-02T19:48:57.080Z"
   },
   {
    "duration": 0,
    "start_time": "2023-08-02T19:48:57.081Z"
   },
   {
    "duration": 0,
    "start_time": "2023-08-02T19:48:57.083Z"
   },
   {
    "duration": 0,
    "start_time": "2023-08-02T19:48:57.084Z"
   },
   {
    "duration": 0,
    "start_time": "2023-08-02T19:48:57.086Z"
   },
   {
    "duration": 0,
    "start_time": "2023-08-02T19:48:57.087Z"
   },
   {
    "duration": 0,
    "start_time": "2023-08-02T19:48:57.088Z"
   },
   {
    "duration": 0,
    "start_time": "2023-08-02T19:48:57.090Z"
   },
   {
    "duration": 0,
    "start_time": "2023-08-02T19:48:57.092Z"
   },
   {
    "duration": 0,
    "start_time": "2023-08-02T19:48:57.093Z"
   },
   {
    "duration": 0,
    "start_time": "2023-08-02T19:48:57.095Z"
   },
   {
    "duration": 0,
    "start_time": "2023-08-02T19:48:57.096Z"
   },
   {
    "duration": 0,
    "start_time": "2023-08-02T19:48:57.098Z"
   },
   {
    "duration": 0,
    "start_time": "2023-08-02T19:48:57.099Z"
   },
   {
    "duration": 0,
    "start_time": "2023-08-02T19:48:57.100Z"
   },
   {
    "duration": 0,
    "start_time": "2023-08-02T19:48:57.101Z"
   },
   {
    "duration": 0,
    "start_time": "2023-08-02T19:48:57.102Z"
   },
   {
    "duration": 0,
    "start_time": "2023-08-02T19:48:57.103Z"
   },
   {
    "duration": 0,
    "start_time": "2023-08-02T19:48:57.104Z"
   },
   {
    "duration": 0,
    "start_time": "2023-08-02T19:48:57.105Z"
   },
   {
    "duration": 0,
    "start_time": "2023-08-02T19:48:57.106Z"
   },
   {
    "duration": 0,
    "start_time": "2023-08-02T19:48:57.107Z"
   },
   {
    "duration": 0,
    "start_time": "2023-08-02T19:48:57.109Z"
   },
   {
    "duration": 0,
    "start_time": "2023-08-02T19:48:57.170Z"
   },
   {
    "duration": 0,
    "start_time": "2023-08-02T19:48:57.172Z"
   },
   {
    "duration": 0,
    "start_time": "2023-08-02T19:48:57.173Z"
   },
   {
    "duration": 0,
    "start_time": "2023-08-02T19:48:57.174Z"
   },
   {
    "duration": 0,
    "start_time": "2023-08-02T19:48:57.176Z"
   },
   {
    "duration": 0,
    "start_time": "2023-08-02T19:48:57.177Z"
   },
   {
    "duration": 0,
    "start_time": "2023-08-02T19:48:57.178Z"
   },
   {
    "duration": 0,
    "start_time": "2023-08-02T19:48:57.179Z"
   },
   {
    "duration": 0,
    "start_time": "2023-08-02T19:48:57.180Z"
   },
   {
    "duration": 11,
    "start_time": "2023-08-02T19:50:17.447Z"
   },
   {
    "duration": 53,
    "start_time": "2023-08-02T19:50:26.427Z"
   },
   {
    "duration": 11,
    "start_time": "2023-08-02T19:50:31.975Z"
   },
   {
    "duration": 1344,
    "start_time": "2023-08-02T19:50:41.922Z"
   },
   {
    "duration": 787,
    "start_time": "2023-08-02T19:50:43.268Z"
   },
   {
    "duration": 19,
    "start_time": "2023-08-02T19:50:44.057Z"
   },
   {
    "duration": 17,
    "start_time": "2023-08-02T19:50:44.077Z"
   },
   {
    "duration": 12,
    "start_time": "2023-08-02T19:50:44.096Z"
   },
   {
    "duration": 22,
    "start_time": "2023-08-02T19:50:44.110Z"
   },
   {
    "duration": 41,
    "start_time": "2023-08-02T19:50:44.133Z"
   },
   {
    "duration": 22,
    "start_time": "2023-08-02T19:50:44.176Z"
   },
   {
    "duration": 8,
    "start_time": "2023-08-02T19:50:44.200Z"
   },
   {
    "duration": 8,
    "start_time": "2023-08-02T19:50:44.210Z"
   },
   {
    "duration": 9,
    "start_time": "2023-08-02T19:50:44.220Z"
   },
   {
    "duration": 255,
    "start_time": "2023-08-02T19:50:44.231Z"
   },
   {
    "duration": 222,
    "start_time": "2023-08-02T19:50:44.487Z"
   },
   {
    "duration": 143,
    "start_time": "2023-08-02T19:50:44.712Z"
   },
   {
    "duration": 3,
    "start_time": "2023-08-02T19:50:44.857Z"
   },
   {
    "duration": 11,
    "start_time": "2023-08-02T19:50:44.870Z"
   },
   {
    "duration": 6,
    "start_time": "2023-08-02T19:50:44.883Z"
   },
   {
    "duration": 9,
    "start_time": "2023-08-02T19:50:44.890Z"
   },
   {
    "duration": 6,
    "start_time": "2023-08-02T19:50:44.900Z"
   },
   {
    "duration": 8,
    "start_time": "2023-08-02T19:50:44.908Z"
   },
   {
    "duration": 15,
    "start_time": "2023-08-02T19:50:44.918Z"
   },
   {
    "duration": 247,
    "start_time": "2023-08-02T19:50:44.934Z"
   },
   {
    "duration": 19,
    "start_time": "2023-08-02T19:50:45.183Z"
   },
   {
    "duration": 11,
    "start_time": "2023-08-02T19:50:45.204Z"
   },
   {
    "duration": 4,
    "start_time": "2023-08-02T19:50:45.217Z"
   },
   {
    "duration": 9,
    "start_time": "2023-08-02T19:50:45.222Z"
   },
   {
    "duration": 41,
    "start_time": "2023-08-02T19:50:45.232Z"
   },
   {
    "duration": 4,
    "start_time": "2023-08-02T19:50:45.275Z"
   },
   {
    "duration": 11,
    "start_time": "2023-08-02T19:50:45.281Z"
   },
   {
    "duration": 7,
    "start_time": "2023-08-02T19:50:45.293Z"
   },
   {
    "duration": 15,
    "start_time": "2023-08-02T19:50:45.301Z"
   },
   {
    "duration": 6,
    "start_time": "2023-08-02T19:50:45.317Z"
   },
   {
    "duration": 15,
    "start_time": "2023-08-02T19:50:45.324Z"
   },
   {
    "duration": 33,
    "start_time": "2023-08-02T19:50:45.340Z"
   },
   {
    "duration": 8,
    "start_time": "2023-08-02T19:50:45.374Z"
   },
   {
    "duration": 18,
    "start_time": "2023-08-02T19:50:45.383Z"
   },
   {
    "duration": 10,
    "start_time": "2023-08-02T19:50:45.403Z"
   },
   {
    "duration": 976,
    "start_time": "2023-08-02T19:50:45.414Z"
   },
   {
    "duration": 745,
    "start_time": "2023-08-02T19:50:46.392Z"
   },
   {
    "duration": 6,
    "start_time": "2023-08-02T19:50:47.139Z"
   },
   {
    "duration": 1494,
    "start_time": "2023-08-02T19:50:47.149Z"
   },
   {
    "duration": 466,
    "start_time": "2023-08-02T19:50:48.644Z"
   },
   {
    "duration": 601,
    "start_time": "2023-08-02T19:50:49.112Z"
   },
   {
    "duration": 467,
    "start_time": "2023-08-02T19:50:49.715Z"
   },
   {
    "duration": 464,
    "start_time": "2023-08-02T19:50:50.184Z"
   },
   {
    "duration": 2,
    "start_time": "2023-08-02T19:50:50.650Z"
   },
   {
    "duration": 16,
    "start_time": "2023-08-02T19:50:50.654Z"
   },
   {
    "duration": 26,
    "start_time": "2023-08-02T19:50:50.672Z"
   },
   {
    "duration": 60,
    "start_time": "2023-08-02T19:50:50.700Z"
   },
   {
    "duration": 3,
    "start_time": "2023-08-02T19:50:50.771Z"
   },
   {
    "duration": 21,
    "start_time": "2023-08-02T19:50:50.775Z"
   },
   {
    "duration": 7,
    "start_time": "2023-08-02T19:50:50.798Z"
   },
   {
    "duration": 1541,
    "start_time": "2023-08-02T19:50:50.807Z"
   },
   {
    "duration": 3,
    "start_time": "2023-08-02T19:50:52.349Z"
   },
   {
    "duration": 12,
    "start_time": "2023-08-02T19:50:52.354Z"
   },
   {
    "duration": 3,
    "start_time": "2023-08-02T19:50:52.370Z"
   },
   {
    "duration": 7,
    "start_time": "2023-08-02T19:50:52.375Z"
   },
   {
    "duration": 8,
    "start_time": "2023-08-02T19:50:52.383Z"
   },
   {
    "duration": 9,
    "start_time": "2023-08-02T19:50:52.393Z"
   },
   {
    "duration": 24,
    "start_time": "2023-08-02T19:50:52.403Z"
   },
   {
    "duration": 1877,
    "start_time": "2023-08-02T19:50:52.429Z"
   },
   {
    "duration": 22605,
    "start_time": "2023-08-02T19:50:54.308Z"
   },
   {
    "duration": 22347,
    "start_time": "2023-08-02T19:51:16.915Z"
   },
   {
    "duration": 8,
    "start_time": "2023-08-02T19:51:39.264Z"
   },
   {
    "duration": 698,
    "start_time": "2023-08-02T19:51:39.274Z"
   },
   {
    "duration": 4,
    "start_time": "2023-08-02T19:51:39.973Z"
   },
   {
    "duration": 1801,
    "start_time": "2023-08-02T19:51:39.979Z"
   },
   {
    "duration": 1905,
    "start_time": "2023-08-02T19:51:41.875Z"
   },
   {
    "duration": 89,
    "start_time": "2023-08-02T19:51:43.782Z"
   },
   {
    "duration": 11306,
    "start_time": "2023-08-02T19:51:43.873Z"
   },
   {
    "duration": 69864,
    "start_time": "2023-08-02T19:51:55.180Z"
   },
   {
    "duration": 70350,
    "start_time": "2023-08-02T19:53:05.046Z"
   },
   {
    "duration": 3,
    "start_time": "2023-08-02T19:54:15.398Z"
   },
   {
    "duration": 9,
    "start_time": "2023-08-02T19:54:15.403Z"
   },
   {
    "duration": 377,
    "start_time": "2023-08-02T19:54:15.413Z"
   },
   {
    "duration": 0,
    "start_time": "2023-08-02T19:54:15.792Z"
   },
   {
    "duration": 0,
    "start_time": "2023-08-02T19:54:15.793Z"
   },
   {
    "duration": 0,
    "start_time": "2023-08-02T19:54:15.794Z"
   },
   {
    "duration": 0,
    "start_time": "2023-08-02T19:54:15.795Z"
   },
   {
    "duration": 0,
    "start_time": "2023-08-02T19:54:15.796Z"
   },
   {
    "duration": 0,
    "start_time": "2023-08-02T19:54:15.797Z"
   },
   {
    "duration": 0,
    "start_time": "2023-08-02T19:54:15.798Z"
   },
   {
    "duration": 0,
    "start_time": "2023-08-02T19:54:15.800Z"
   },
   {
    "duration": 0,
    "start_time": "2023-08-02T19:54:15.801Z"
   },
   {
    "duration": 0,
    "start_time": "2023-08-02T19:54:15.802Z"
   },
   {
    "duration": 0,
    "start_time": "2023-08-02T19:54:15.803Z"
   },
   {
    "duration": 0,
    "start_time": "2023-08-02T19:54:15.805Z"
   },
   {
    "duration": 0,
    "start_time": "2023-08-02T19:54:15.806Z"
   },
   {
    "duration": 0,
    "start_time": "2023-08-02T19:54:15.807Z"
   },
   {
    "duration": 0,
    "start_time": "2023-08-02T19:54:15.808Z"
   },
   {
    "duration": 0,
    "start_time": "2023-08-02T19:54:15.809Z"
   },
   {
    "duration": 1456,
    "start_time": "2023-08-02T19:56:23.087Z"
   },
   {
    "duration": 793,
    "start_time": "2023-08-02T19:56:24.546Z"
   },
   {
    "duration": 19,
    "start_time": "2023-08-02T19:56:25.341Z"
   },
   {
    "duration": 30,
    "start_time": "2023-08-02T19:56:25.361Z"
   },
   {
    "duration": 17,
    "start_time": "2023-08-02T19:56:25.394Z"
   },
   {
    "duration": 30,
    "start_time": "2023-08-02T19:56:25.413Z"
   },
   {
    "duration": 45,
    "start_time": "2023-08-02T19:56:25.445Z"
   },
   {
    "duration": 25,
    "start_time": "2023-08-02T19:56:25.491Z"
   },
   {
    "duration": 9,
    "start_time": "2023-08-02T19:56:25.518Z"
   },
   {
    "duration": 17,
    "start_time": "2023-08-02T19:56:25.529Z"
   },
   {
    "duration": 9,
    "start_time": "2023-08-02T19:56:25.548Z"
   },
   {
    "duration": 265,
    "start_time": "2023-08-02T19:56:25.570Z"
   },
   {
    "duration": 233,
    "start_time": "2023-08-02T19:56:25.836Z"
   },
   {
    "duration": 132,
    "start_time": "2023-08-02T19:56:26.073Z"
   },
   {
    "duration": 3,
    "start_time": "2023-08-02T19:56:26.207Z"
   },
   {
    "duration": 8,
    "start_time": "2023-08-02T19:56:26.211Z"
   },
   {
    "duration": 6,
    "start_time": "2023-08-02T19:56:26.221Z"
   },
   {
    "duration": 9,
    "start_time": "2023-08-02T19:56:26.228Z"
   },
   {
    "duration": 8,
    "start_time": "2023-08-02T19:56:26.238Z"
   },
   {
    "duration": 6,
    "start_time": "2023-08-02T19:56:26.248Z"
   },
   {
    "duration": 14,
    "start_time": "2023-08-02T19:56:26.271Z"
   },
   {
    "duration": 369,
    "start_time": "2023-08-02T19:56:26.287Z"
   },
   {
    "duration": 26,
    "start_time": "2023-08-02T19:56:26.660Z"
   },
   {
    "duration": 13,
    "start_time": "2023-08-02T19:56:26.687Z"
   },
   {
    "duration": 6,
    "start_time": "2023-08-02T19:56:26.702Z"
   },
   {
    "duration": 18,
    "start_time": "2023-08-02T19:56:26.709Z"
   },
   {
    "duration": 25,
    "start_time": "2023-08-02T19:56:26.729Z"
   },
   {
    "duration": 4,
    "start_time": "2023-08-02T19:56:26.755Z"
   },
   {
    "duration": 11,
    "start_time": "2023-08-02T19:56:26.760Z"
   },
   {
    "duration": 6,
    "start_time": "2023-08-02T19:56:26.772Z"
   },
   {
    "duration": 17,
    "start_time": "2023-08-02T19:56:26.780Z"
   },
   {
    "duration": 6,
    "start_time": "2023-08-02T19:56:26.799Z"
   },
   {
    "duration": 16,
    "start_time": "2023-08-02T19:56:26.807Z"
   },
   {
    "duration": 19,
    "start_time": "2023-08-02T19:56:26.825Z"
   },
   {
    "duration": 28,
    "start_time": "2023-08-02T19:56:26.845Z"
   },
   {
    "duration": 18,
    "start_time": "2023-08-02T19:56:26.875Z"
   },
   {
    "duration": 14,
    "start_time": "2023-08-02T19:56:26.895Z"
   },
   {
    "duration": 1063,
    "start_time": "2023-08-02T19:56:26.911Z"
   },
   {
    "duration": 784,
    "start_time": "2023-08-02T19:56:27.976Z"
   },
   {
    "duration": 13,
    "start_time": "2023-08-02T19:56:28.763Z"
   },
   {
    "duration": 1655,
    "start_time": "2023-08-02T19:56:28.783Z"
   },
   {
    "duration": 488,
    "start_time": "2023-08-02T19:56:30.439Z"
   },
   {
    "duration": 615,
    "start_time": "2023-08-02T19:56:30.930Z"
   },
   {
    "duration": 464,
    "start_time": "2023-08-02T19:56:31.547Z"
   },
   {
    "duration": 512,
    "start_time": "2023-08-02T19:56:32.013Z"
   },
   {
    "duration": 2,
    "start_time": "2023-08-02T19:56:32.528Z"
   },
   {
    "duration": 12,
    "start_time": "2023-08-02T19:56:32.533Z"
   },
   {
    "duration": 33,
    "start_time": "2023-08-02T19:56:32.546Z"
   },
   {
    "duration": 73,
    "start_time": "2023-08-02T19:56:32.581Z"
   },
   {
    "duration": 15,
    "start_time": "2023-08-02T19:56:32.656Z"
   },
   {
    "duration": 14,
    "start_time": "2023-08-02T19:56:32.672Z"
   },
   {
    "duration": 7,
    "start_time": "2023-08-02T19:56:32.688Z"
   },
   {
    "duration": 1548,
    "start_time": "2023-08-02T19:56:32.696Z"
   },
   {
    "duration": 3,
    "start_time": "2023-08-02T19:56:34.246Z"
   },
   {
    "duration": 42,
    "start_time": "2023-08-02T19:56:34.251Z"
   },
   {
    "duration": 13,
    "start_time": "2023-08-02T19:56:34.295Z"
   },
   {
    "duration": 33,
    "start_time": "2023-08-02T19:56:34.309Z"
   },
   {
    "duration": 16,
    "start_time": "2023-08-02T19:56:34.344Z"
   },
   {
    "duration": 31,
    "start_time": "2023-08-02T19:56:34.362Z"
   },
   {
    "duration": 33,
    "start_time": "2023-08-02T19:56:34.394Z"
   },
   {
    "duration": 31,
    "start_time": "2023-08-02T19:56:34.428Z"
   },
   {
    "duration": 2911,
    "start_time": "2023-08-02T19:56:34.461Z"
   },
   {
    "duration": 23181,
    "start_time": "2023-08-02T19:56:37.374Z"
   },
   {
    "duration": 22924,
    "start_time": "2023-08-02T19:57:00.558Z"
   },
   {
    "duration": 4,
    "start_time": "2023-08-02T19:57:23.484Z"
   },
   {
    "duration": 986,
    "start_time": "2023-08-02T19:57:23.489Z"
   },
   {
    "duration": 3,
    "start_time": "2023-08-02T19:57:24.478Z"
   },
   {
    "duration": 1697,
    "start_time": "2023-08-02T19:57:24.483Z"
   },
   {
    "duration": 1993,
    "start_time": "2023-08-02T19:57:26.183Z"
   },
   {
    "duration": 91,
    "start_time": "2023-08-02T19:57:28.179Z"
   },
   {
    "duration": 11580,
    "start_time": "2023-08-02T19:57:28.273Z"
   },
   {
    "duration": 71845,
    "start_time": "2023-08-02T19:57:39.854Z"
   },
   {
    "duration": 1654,
    "start_time": "2023-08-02T19:59:35.254Z"
   },
   {
    "duration": 822,
    "start_time": "2023-08-02T19:59:36.910Z"
   },
   {
    "duration": 18,
    "start_time": "2023-08-02T19:59:37.734Z"
   },
   {
    "duration": 28,
    "start_time": "2023-08-02T19:59:37.753Z"
   },
   {
    "duration": 12,
    "start_time": "2023-08-02T19:59:37.783Z"
   },
   {
    "duration": 23,
    "start_time": "2023-08-02T19:59:37.796Z"
   },
   {
    "duration": 20,
    "start_time": "2023-08-02T19:59:37.820Z"
   },
   {
    "duration": 44,
    "start_time": "2023-08-02T19:59:37.842Z"
   },
   {
    "duration": 139,
    "start_time": "2023-08-02T19:59:37.888Z"
   },
   {
    "duration": 11,
    "start_time": "2023-08-02T19:59:38.029Z"
   },
   {
    "duration": 22,
    "start_time": "2023-08-02T19:59:38.041Z"
   },
   {
    "duration": 307,
    "start_time": "2023-08-02T19:59:38.066Z"
   },
   {
    "duration": 232,
    "start_time": "2023-08-02T19:59:38.375Z"
   },
   {
    "duration": 135,
    "start_time": "2023-08-02T19:59:38.611Z"
   },
   {
    "duration": 2,
    "start_time": "2023-08-02T19:59:38.748Z"
   },
   {
    "duration": 18,
    "start_time": "2023-08-02T19:59:38.752Z"
   },
   {
    "duration": 6,
    "start_time": "2023-08-02T19:59:38.772Z"
   },
   {
    "duration": 7,
    "start_time": "2023-08-02T19:59:38.780Z"
   },
   {
    "duration": 24,
    "start_time": "2023-08-02T19:59:38.788Z"
   },
   {
    "duration": 19,
    "start_time": "2023-08-02T19:59:38.814Z"
   },
   {
    "duration": 18,
    "start_time": "2023-08-02T19:59:38.835Z"
   },
   {
    "duration": 270,
    "start_time": "2023-08-02T19:59:38.855Z"
   },
   {
    "duration": 19,
    "start_time": "2023-08-02T19:59:39.127Z"
   },
   {
    "duration": 32,
    "start_time": "2023-08-02T19:59:39.148Z"
   },
   {
    "duration": 5,
    "start_time": "2023-08-02T19:59:39.182Z"
   },
   {
    "duration": 15,
    "start_time": "2023-08-02T19:59:39.188Z"
   },
   {
    "duration": 17,
    "start_time": "2023-08-02T19:59:39.205Z"
   },
   {
    "duration": 4,
    "start_time": "2023-08-02T19:59:39.224Z"
   },
   {
    "duration": 31,
    "start_time": "2023-08-02T19:59:39.233Z"
   },
   {
    "duration": 22,
    "start_time": "2023-08-02T19:59:39.267Z"
   },
   {
    "duration": 27,
    "start_time": "2023-08-02T19:59:39.291Z"
   },
   {
    "duration": 7,
    "start_time": "2023-08-02T19:59:39.320Z"
   },
   {
    "duration": 18,
    "start_time": "2023-08-02T19:59:39.329Z"
   },
   {
    "duration": 12,
    "start_time": "2023-08-02T19:59:39.349Z"
   },
   {
    "duration": 8,
    "start_time": "2023-08-02T19:59:39.363Z"
   },
   {
    "duration": 16,
    "start_time": "2023-08-02T19:59:39.372Z"
   },
   {
    "duration": 15,
    "start_time": "2023-08-02T19:59:39.389Z"
   },
   {
    "duration": 1005,
    "start_time": "2023-08-02T19:59:39.405Z"
   },
   {
    "duration": 711,
    "start_time": "2023-08-02T19:59:40.411Z"
   },
   {
    "duration": 8,
    "start_time": "2023-08-02T19:59:41.124Z"
   },
   {
    "duration": 1502,
    "start_time": "2023-08-02T19:59:41.139Z"
   },
   {
    "duration": 459,
    "start_time": "2023-08-02T19:59:42.642Z"
   },
   {
    "duration": 606,
    "start_time": "2023-08-02T19:59:43.103Z"
   },
   {
    "duration": 459,
    "start_time": "2023-08-02T19:59:43.710Z"
   },
   {
    "duration": 499,
    "start_time": "2023-08-02T19:59:44.170Z"
   },
   {
    "duration": 2,
    "start_time": "2023-08-02T19:59:44.671Z"
   },
   {
    "duration": 13,
    "start_time": "2023-08-02T19:59:44.675Z"
   },
   {
    "duration": 22,
    "start_time": "2023-08-02T19:59:44.689Z"
   },
   {
    "duration": 70,
    "start_time": "2023-08-02T19:59:44.712Z"
   },
   {
    "duration": 2,
    "start_time": "2023-08-02T19:59:44.784Z"
   },
   {
    "duration": 24,
    "start_time": "2023-08-02T19:59:44.787Z"
   },
   {
    "duration": 8,
    "start_time": "2023-08-02T19:59:44.814Z"
   },
   {
    "duration": 1646,
    "start_time": "2023-08-02T19:59:44.823Z"
   },
   {
    "duration": 4,
    "start_time": "2023-08-02T19:59:46.471Z"
   },
   {
    "duration": 24,
    "start_time": "2023-08-02T19:59:46.477Z"
   },
   {
    "duration": 140,
    "start_time": "2023-08-02T19:59:46.505Z"
   },
   {
    "duration": 0,
    "start_time": "2023-08-02T19:59:46.646Z"
   },
   {
    "duration": 0,
    "start_time": "2023-08-02T19:59:46.648Z"
   },
   {
    "duration": 0,
    "start_time": "2023-08-02T19:59:46.649Z"
   },
   {
    "duration": 0,
    "start_time": "2023-08-02T19:59:46.649Z"
   },
   {
    "duration": 0,
    "start_time": "2023-08-02T19:59:46.650Z"
   },
   {
    "duration": 0,
    "start_time": "2023-08-02T19:59:46.651Z"
   },
   {
    "duration": 0,
    "start_time": "2023-08-02T19:59:46.653Z"
   },
   {
    "duration": 0,
    "start_time": "2023-08-02T19:59:46.654Z"
   },
   {
    "duration": 0,
    "start_time": "2023-08-02T19:59:46.655Z"
   },
   {
    "duration": 0,
    "start_time": "2023-08-02T19:59:46.671Z"
   },
   {
    "duration": 0,
    "start_time": "2023-08-02T19:59:46.672Z"
   },
   {
    "duration": 0,
    "start_time": "2023-08-02T19:59:46.673Z"
   },
   {
    "duration": 0,
    "start_time": "2023-08-02T19:59:46.674Z"
   },
   {
    "duration": 0,
    "start_time": "2023-08-02T19:59:46.675Z"
   },
   {
    "duration": 0,
    "start_time": "2023-08-02T19:59:46.676Z"
   },
   {
    "duration": 0,
    "start_time": "2023-08-02T19:59:46.677Z"
   },
   {
    "duration": 0,
    "start_time": "2023-08-02T19:59:46.680Z"
   },
   {
    "duration": 0,
    "start_time": "2023-08-02T19:59:46.681Z"
   },
   {
    "duration": 0,
    "start_time": "2023-08-02T19:59:46.681Z"
   },
   {
    "duration": 0,
    "start_time": "2023-08-02T19:59:46.683Z"
   },
   {
    "duration": 0,
    "start_time": "2023-08-02T19:59:46.684Z"
   },
   {
    "duration": 0,
    "start_time": "2023-08-02T19:59:46.685Z"
   },
   {
    "duration": 0,
    "start_time": "2023-08-02T19:59:46.686Z"
   },
   {
    "duration": 0,
    "start_time": "2023-08-02T19:59:46.687Z"
   },
   {
    "duration": 0,
    "start_time": "2023-08-02T19:59:46.688Z"
   },
   {
    "duration": 0,
    "start_time": "2023-08-02T19:59:46.689Z"
   },
   {
    "duration": 0,
    "start_time": "2023-08-02T19:59:46.690Z"
   },
   {
    "duration": 0,
    "start_time": "2023-08-02T19:59:46.691Z"
   },
   {
    "duration": 0,
    "start_time": "2023-08-02T19:59:46.692Z"
   },
   {
    "duration": 0,
    "start_time": "2023-08-02T19:59:46.693Z"
   },
   {
    "duration": 0,
    "start_time": "2023-08-02T19:59:46.694Z"
   },
   {
    "duration": 0,
    "start_time": "2023-08-02T19:59:46.695Z"
   },
   {
    "duration": 0,
    "start_time": "2023-08-02T19:59:46.697Z"
   },
   {
    "duration": 0,
    "start_time": "2023-08-02T19:59:46.698Z"
   },
   {
    "duration": 0,
    "start_time": "2023-08-02T19:59:46.699Z"
   },
   {
    "duration": 12,
    "start_time": "2023-08-02T20:00:02.397Z"
   },
   {
    "duration": 14,
    "start_time": "2023-08-02T20:00:29.567Z"
   },
   {
    "duration": 11,
    "start_time": "2023-08-02T20:00:38.621Z"
   },
   {
    "duration": 1442,
    "start_time": "2023-08-02T20:00:44.037Z"
   },
   {
    "duration": 771,
    "start_time": "2023-08-02T20:00:45.481Z"
   },
   {
    "duration": 18,
    "start_time": "2023-08-02T20:00:46.254Z"
   },
   {
    "duration": 16,
    "start_time": "2023-08-02T20:00:46.274Z"
   },
   {
    "duration": 12,
    "start_time": "2023-08-02T20:00:46.291Z"
   },
   {
    "duration": 23,
    "start_time": "2023-08-02T20:00:46.304Z"
   },
   {
    "duration": 92,
    "start_time": "2023-08-02T20:00:46.329Z"
   },
   {
    "duration": 31,
    "start_time": "2023-08-02T20:00:46.423Z"
   },
   {
    "duration": 12,
    "start_time": "2023-08-02T20:00:46.456Z"
   },
   {
    "duration": 7,
    "start_time": "2023-08-02T20:00:46.470Z"
   },
   {
    "duration": 13,
    "start_time": "2023-08-02T20:00:46.479Z"
   },
   {
    "duration": 292,
    "start_time": "2023-08-02T20:00:46.494Z"
   },
   {
    "duration": 231,
    "start_time": "2023-08-02T20:00:46.788Z"
   },
   {
    "duration": 128,
    "start_time": "2023-08-02T20:00:47.022Z"
   },
   {
    "duration": 2,
    "start_time": "2023-08-02T20:00:47.152Z"
   },
   {
    "duration": 15,
    "start_time": "2023-08-02T20:00:47.156Z"
   },
   {
    "duration": 8,
    "start_time": "2023-08-02T20:00:47.172Z"
   },
   {
    "duration": 5,
    "start_time": "2023-08-02T20:00:47.182Z"
   },
   {
    "duration": 8,
    "start_time": "2023-08-02T20:00:47.188Z"
   },
   {
    "duration": 10,
    "start_time": "2023-08-02T20:00:47.197Z"
   },
   {
    "duration": 13,
    "start_time": "2023-08-02T20:00:47.208Z"
   },
   {
    "duration": 237,
    "start_time": "2023-08-02T20:00:47.223Z"
   },
   {
    "duration": 18,
    "start_time": "2023-08-02T20:00:47.471Z"
   },
   {
    "duration": 12,
    "start_time": "2023-08-02T20:00:47.491Z"
   },
   {
    "duration": 7,
    "start_time": "2023-08-02T20:00:47.505Z"
   },
   {
    "duration": 6,
    "start_time": "2023-08-02T20:00:47.514Z"
   },
   {
    "duration": 24,
    "start_time": "2023-08-02T20:00:47.522Z"
   },
   {
    "duration": 4,
    "start_time": "2023-08-02T20:00:47.548Z"
   },
   {
    "duration": 19,
    "start_time": "2023-08-02T20:00:47.571Z"
   },
   {
    "duration": 10,
    "start_time": "2023-08-02T20:00:47.593Z"
   },
   {
    "duration": 16,
    "start_time": "2023-08-02T20:00:47.605Z"
   },
   {
    "duration": 6,
    "start_time": "2023-08-02T20:00:47.623Z"
   },
   {
    "duration": 19,
    "start_time": "2023-08-02T20:00:47.630Z"
   },
   {
    "duration": 13,
    "start_time": "2023-08-02T20:00:47.651Z"
   },
   {
    "duration": 9,
    "start_time": "2023-08-02T20:00:47.666Z"
   },
   {
    "duration": 17,
    "start_time": "2023-08-02T20:00:47.677Z"
   },
   {
    "duration": 5,
    "start_time": "2023-08-02T20:00:47.696Z"
   },
   {
    "duration": 983,
    "start_time": "2023-08-02T20:00:47.703Z"
   },
   {
    "duration": 717,
    "start_time": "2023-08-02T20:00:48.687Z"
   },
   {
    "duration": 6,
    "start_time": "2023-08-02T20:00:49.406Z"
   },
   {
    "duration": 1549,
    "start_time": "2023-08-02T20:00:49.417Z"
   },
   {
    "duration": 457,
    "start_time": "2023-08-02T20:00:50.968Z"
   },
   {
    "duration": 591,
    "start_time": "2023-08-02T20:00:51.426Z"
   },
   {
    "duration": 472,
    "start_time": "2023-08-02T20:00:52.019Z"
   },
   {
    "duration": 467,
    "start_time": "2023-08-02T20:00:52.493Z"
   },
   {
    "duration": 2,
    "start_time": "2023-08-02T20:00:52.962Z"
   },
   {
    "duration": 10,
    "start_time": "2023-08-02T20:00:52.971Z"
   },
   {
    "duration": 34,
    "start_time": "2023-08-02T20:00:52.983Z"
   },
   {
    "duration": 68,
    "start_time": "2023-08-02T20:00:53.019Z"
   },
   {
    "duration": 3,
    "start_time": "2023-08-02T20:00:53.088Z"
   },
   {
    "duration": 25,
    "start_time": "2023-08-02T20:00:53.093Z"
   },
   {
    "duration": 13,
    "start_time": "2023-08-02T20:00:53.119Z"
   },
   {
    "duration": 1523,
    "start_time": "2023-08-02T20:00:53.133Z"
   },
   {
    "duration": 2,
    "start_time": "2023-08-02T20:00:54.658Z"
   },
   {
    "duration": 27,
    "start_time": "2023-08-02T20:00:54.661Z"
   },
   {
    "duration": 118,
    "start_time": "2023-08-02T20:00:54.689Z"
   },
   {
    "duration": 0,
    "start_time": "2023-08-02T20:00:54.809Z"
   },
   {
    "duration": 0,
    "start_time": "2023-08-02T20:00:54.810Z"
   },
   {
    "duration": 0,
    "start_time": "2023-08-02T20:00:54.811Z"
   },
   {
    "duration": 0,
    "start_time": "2023-08-02T20:00:54.812Z"
   },
   {
    "duration": 0,
    "start_time": "2023-08-02T20:00:54.813Z"
   },
   {
    "duration": 0,
    "start_time": "2023-08-02T20:00:54.814Z"
   },
   {
    "duration": 0,
    "start_time": "2023-08-02T20:00:54.815Z"
   },
   {
    "duration": 0,
    "start_time": "2023-08-02T20:00:54.817Z"
   },
   {
    "duration": 0,
    "start_time": "2023-08-02T20:00:54.818Z"
   },
   {
    "duration": 0,
    "start_time": "2023-08-02T20:00:54.819Z"
   },
   {
    "duration": 0,
    "start_time": "2023-08-02T20:00:54.820Z"
   },
   {
    "duration": 0,
    "start_time": "2023-08-02T20:00:54.821Z"
   },
   {
    "duration": 0,
    "start_time": "2023-08-02T20:00:54.822Z"
   },
   {
    "duration": 0,
    "start_time": "2023-08-02T20:00:54.824Z"
   },
   {
    "duration": 0,
    "start_time": "2023-08-02T20:00:54.830Z"
   },
   {
    "duration": 0,
    "start_time": "2023-08-02T20:00:54.831Z"
   },
   {
    "duration": 0,
    "start_time": "2023-08-02T20:00:54.833Z"
   },
   {
    "duration": 0,
    "start_time": "2023-08-02T20:00:54.835Z"
   },
   {
    "duration": 0,
    "start_time": "2023-08-02T20:00:54.836Z"
   },
   {
    "duration": 0,
    "start_time": "2023-08-02T20:00:54.836Z"
   },
   {
    "duration": 0,
    "start_time": "2023-08-02T20:00:54.837Z"
   },
   {
    "duration": 0,
    "start_time": "2023-08-02T20:00:54.838Z"
   },
   {
    "duration": 0,
    "start_time": "2023-08-02T20:00:54.839Z"
   },
   {
    "duration": 0,
    "start_time": "2023-08-02T20:00:54.839Z"
   },
   {
    "duration": 0,
    "start_time": "2023-08-02T20:00:54.840Z"
   },
   {
    "duration": 0,
    "start_time": "2023-08-02T20:00:54.841Z"
   },
   {
    "duration": 0,
    "start_time": "2023-08-02T20:00:54.871Z"
   },
   {
    "duration": 0,
    "start_time": "2023-08-02T20:00:54.872Z"
   },
   {
    "duration": 0,
    "start_time": "2023-08-02T20:00:54.874Z"
   },
   {
    "duration": 0,
    "start_time": "2023-08-02T20:00:54.875Z"
   },
   {
    "duration": 0,
    "start_time": "2023-08-02T20:00:54.876Z"
   },
   {
    "duration": 0,
    "start_time": "2023-08-02T20:00:54.877Z"
   },
   {
    "duration": 0,
    "start_time": "2023-08-02T20:00:54.878Z"
   },
   {
    "duration": 0,
    "start_time": "2023-08-02T20:00:54.879Z"
   },
   {
    "duration": 0,
    "start_time": "2023-08-02T20:00:54.880Z"
   },
   {
    "duration": 5,
    "start_time": "2023-08-02T20:01:32.421Z"
   },
   {
    "duration": 12,
    "start_time": "2023-08-02T20:01:34.932Z"
   },
   {
    "duration": 1445,
    "start_time": "2023-08-02T20:01:44.903Z"
   },
   {
    "duration": 813,
    "start_time": "2023-08-02T20:01:46.350Z"
   },
   {
    "duration": 19,
    "start_time": "2023-08-02T20:01:47.165Z"
   },
   {
    "duration": 23,
    "start_time": "2023-08-02T20:01:47.186Z"
   },
   {
    "duration": 14,
    "start_time": "2023-08-02T20:01:47.211Z"
   },
   {
    "duration": 72,
    "start_time": "2023-08-02T20:01:47.227Z"
   },
   {
    "duration": 46,
    "start_time": "2023-08-02T20:01:47.301Z"
   },
   {
    "duration": 28,
    "start_time": "2023-08-02T20:01:47.349Z"
   },
   {
    "duration": 6,
    "start_time": "2023-08-02T20:01:47.378Z"
   },
   {
    "duration": 25,
    "start_time": "2023-08-02T20:01:47.385Z"
   },
   {
    "duration": 26,
    "start_time": "2023-08-02T20:01:47.411Z"
   },
   {
    "duration": 271,
    "start_time": "2023-08-02T20:01:47.438Z"
   },
   {
    "duration": 229,
    "start_time": "2023-08-02T20:01:47.711Z"
   },
   {
    "duration": 135,
    "start_time": "2023-08-02T20:01:47.943Z"
   },
   {
    "duration": 3,
    "start_time": "2023-08-02T20:01:48.080Z"
   },
   {
    "duration": 30,
    "start_time": "2023-08-02T20:01:48.084Z"
   },
   {
    "duration": 27,
    "start_time": "2023-08-02T20:01:48.116Z"
   },
   {
    "duration": 26,
    "start_time": "2023-08-02T20:01:48.144Z"
   },
   {
    "duration": 44,
    "start_time": "2023-08-02T20:01:48.172Z"
   },
   {
    "duration": 45,
    "start_time": "2023-08-02T20:01:48.218Z"
   },
   {
    "duration": 33,
    "start_time": "2023-08-02T20:01:48.264Z"
   },
   {
    "duration": 279,
    "start_time": "2023-08-02T20:01:48.299Z"
   },
   {
    "duration": 18,
    "start_time": "2023-08-02T20:01:48.580Z"
   },
   {
    "duration": 26,
    "start_time": "2023-08-02T20:01:48.600Z"
   },
   {
    "duration": 23,
    "start_time": "2023-08-02T20:01:48.627Z"
   },
   {
    "duration": 13,
    "start_time": "2023-08-02T20:01:48.652Z"
   },
   {
    "duration": 42,
    "start_time": "2023-08-02T20:01:48.667Z"
   },
   {
    "duration": 66,
    "start_time": "2023-08-02T20:01:48.711Z"
   },
   {
    "duration": 14,
    "start_time": "2023-08-02T20:01:48.779Z"
   },
   {
    "duration": 40,
    "start_time": "2023-08-02T20:01:48.795Z"
   },
   {
    "duration": 41,
    "start_time": "2023-08-02T20:01:48.837Z"
   },
   {
    "duration": 11,
    "start_time": "2023-08-02T20:01:48.880Z"
   },
   {
    "duration": 98,
    "start_time": "2023-08-02T20:01:48.893Z"
   },
   {
    "duration": 40,
    "start_time": "2023-08-02T20:01:48.993Z"
   },
   {
    "duration": 13,
    "start_time": "2023-08-02T20:01:49.035Z"
   },
   {
    "duration": 49,
    "start_time": "2023-08-02T20:01:49.050Z"
   },
   {
    "duration": 9,
    "start_time": "2023-08-02T20:01:49.101Z"
   },
   {
    "duration": 1042,
    "start_time": "2023-08-02T20:01:49.111Z"
   },
   {
    "duration": 703,
    "start_time": "2023-08-02T20:01:50.155Z"
   },
   {
    "duration": 11,
    "start_time": "2023-08-02T20:01:50.859Z"
   },
   {
    "duration": 1531,
    "start_time": "2023-08-02T20:01:50.875Z"
   },
   {
    "duration": 466,
    "start_time": "2023-08-02T20:01:52.408Z"
   },
   {
    "duration": 574,
    "start_time": "2023-08-02T20:01:52.876Z"
   },
   {
    "duration": 447,
    "start_time": "2023-08-02T20:01:53.452Z"
   },
   {
    "duration": 467,
    "start_time": "2023-08-02T20:01:53.901Z"
   },
   {
    "duration": 2,
    "start_time": "2023-08-02T20:01:54.371Z"
   },
   {
    "duration": 26,
    "start_time": "2023-08-02T20:01:54.375Z"
   },
   {
    "duration": 29,
    "start_time": "2023-08-02T20:01:54.403Z"
   },
   {
    "duration": 58,
    "start_time": "2023-08-02T20:01:54.433Z"
   },
   {
    "duration": 3,
    "start_time": "2023-08-02T20:01:54.492Z"
   },
   {
    "duration": 21,
    "start_time": "2023-08-02T20:01:54.496Z"
   },
   {
    "duration": 6,
    "start_time": "2023-08-02T20:01:54.519Z"
   },
   {
    "duration": 1531,
    "start_time": "2023-08-02T20:01:54.527Z"
   },
   {
    "duration": 3,
    "start_time": "2023-08-02T20:01:56.060Z"
   },
   {
    "duration": 34,
    "start_time": "2023-08-02T20:01:56.065Z"
   },
   {
    "duration": 7,
    "start_time": "2023-08-02T20:01:56.101Z"
   },
   {
    "duration": 14,
    "start_time": "2023-08-02T20:01:56.110Z"
   },
   {
    "duration": 4,
    "start_time": "2023-08-02T20:01:56.126Z"
   },
   {
    "duration": 18,
    "start_time": "2023-08-02T20:01:56.131Z"
   },
   {
    "duration": 13,
    "start_time": "2023-08-02T20:01:56.150Z"
   },
   {
    "duration": 6,
    "start_time": "2023-08-02T20:01:56.164Z"
   },
   {
    "duration": 30,
    "start_time": "2023-08-02T20:01:56.172Z"
   },
   {
    "duration": 1926,
    "start_time": "2023-08-02T20:01:56.204Z"
   },
   {
    "duration": 21522,
    "start_time": "2023-08-02T20:01:58.132Z"
   },
   {
    "duration": 21795,
    "start_time": "2023-08-02T20:02:19.656Z"
   },
   {
    "duration": 3,
    "start_time": "2023-08-02T20:02:41.452Z"
   },
   {
    "duration": 515,
    "start_time": "2023-08-02T20:02:41.457Z"
   },
   {
    "duration": 94,
    "start_time": "2023-08-02T20:02:41.977Z"
   },
   {
    "duration": 1698,
    "start_time": "2023-08-02T20:02:42.073Z"
   },
   {
    "duration": 1903,
    "start_time": "2023-08-02T20:02:43.774Z"
   },
   {
    "duration": 94,
    "start_time": "2023-08-02T20:02:45.679Z"
   },
   {
    "duration": 11185,
    "start_time": "2023-08-02T20:02:45.775Z"
   },
   {
    "duration": 120,
    "start_time": "2023-08-02T20:02:56.962Z"
   },
   {
    "duration": 0,
    "start_time": "2023-08-02T20:02:57.084Z"
   },
   {
    "duration": 0,
    "start_time": "2023-08-02T20:02:57.085Z"
   },
   {
    "duration": 0,
    "start_time": "2023-08-02T20:02:57.087Z"
   },
   {
    "duration": 1,
    "start_time": "2023-08-02T20:02:57.088Z"
   },
   {
    "duration": 0,
    "start_time": "2023-08-02T20:02:57.090Z"
   },
   {
    "duration": 0,
    "start_time": "2023-08-02T20:02:57.091Z"
   },
   {
    "duration": 0,
    "start_time": "2023-08-02T20:02:57.092Z"
   },
   {
    "duration": 0,
    "start_time": "2023-08-02T20:02:57.094Z"
   },
   {
    "duration": 0,
    "start_time": "2023-08-02T20:02:57.095Z"
   },
   {
    "duration": 0,
    "start_time": "2023-08-02T20:02:57.096Z"
   },
   {
    "duration": 0,
    "start_time": "2023-08-02T20:02:57.097Z"
   },
   {
    "duration": 0,
    "start_time": "2023-08-02T20:02:57.098Z"
   },
   {
    "duration": 0,
    "start_time": "2023-08-02T20:02:57.100Z"
   },
   {
    "duration": 0,
    "start_time": "2023-08-02T20:02:57.100Z"
   },
   {
    "duration": 0,
    "start_time": "2023-08-02T20:02:57.101Z"
   },
   {
    "duration": 0,
    "start_time": "2023-08-02T20:02:57.102Z"
   },
   {
    "duration": 0,
    "start_time": "2023-08-02T20:02:57.103Z"
   },
   {
    "duration": 0,
    "start_time": "2023-08-02T20:02:57.104Z"
   },
   {
    "duration": 4,
    "start_time": "2023-08-02T20:03:27.721Z"
   },
   {
    "duration": 7,
    "start_time": "2023-08-02T20:03:29.168Z"
   },
   {
    "duration": 672,
    "start_time": "2023-08-02T20:03:31.999Z"
   },
   {
    "duration": 606,
    "start_time": "2023-08-02T20:03:33.465Z"
   },
   {
    "duration": 140,
    "start_time": "2023-08-02T20:03:34.839Z"
   },
   {
    "duration": 5,
    "start_time": "2023-08-02T20:03:35.655Z"
   },
   {
    "duration": 6,
    "start_time": "2023-08-02T20:03:36.741Z"
   },
   {
    "duration": 6,
    "start_time": "2023-08-02T20:03:37.003Z"
   },
   {
    "duration": 5,
    "start_time": "2023-08-02T20:03:37.293Z"
   },
   {
    "duration": 2,
    "start_time": "2023-08-02T20:03:39.687Z"
   },
   {
    "duration": 2,
    "start_time": "2023-08-02T20:03:40.489Z"
   },
   {
    "duration": 197,
    "start_time": "2023-08-02T20:03:42.778Z"
   },
   {
    "duration": 295,
    "start_time": "2023-08-02T20:03:42.977Z"
   },
   {
    "duration": 95,
    "start_time": "2023-08-02T20:03:43.275Z"
   },
   {
    "duration": 4,
    "start_time": "2023-08-02T20:03:44.586Z"
   },
   {
    "duration": 4,
    "start_time": "2023-08-02T20:03:45.205Z"
   },
   {
    "duration": 4,
    "start_time": "2023-08-02T20:03:45.519Z"
   },
   {
    "duration": 4,
    "start_time": "2023-08-02T20:03:45.893Z"
   },
   {
    "duration": 1481,
    "start_time": "2023-08-02T20:08:41.689Z"
   },
   {
    "duration": 790,
    "start_time": "2023-08-02T20:08:43.172Z"
   },
   {
    "duration": 19,
    "start_time": "2023-08-02T20:08:43.964Z"
   },
   {
    "duration": 17,
    "start_time": "2023-08-02T20:08:43.984Z"
   },
   {
    "duration": 13,
    "start_time": "2023-08-02T20:08:44.004Z"
   },
   {
    "duration": 26,
    "start_time": "2023-08-02T20:08:44.019Z"
   },
   {
    "duration": 41,
    "start_time": "2023-08-02T20:08:44.047Z"
   },
   {
    "duration": 20,
    "start_time": "2023-08-02T20:08:44.090Z"
   },
   {
    "duration": 8,
    "start_time": "2023-08-02T20:08:44.111Z"
   },
   {
    "duration": 5,
    "start_time": "2023-08-02T20:08:44.121Z"
   },
   {
    "duration": 26,
    "start_time": "2023-08-02T20:08:44.128Z"
   },
   {
    "duration": 289,
    "start_time": "2023-08-02T20:08:44.156Z"
   },
   {
    "duration": 234,
    "start_time": "2023-08-02T20:08:44.447Z"
   },
   {
    "duration": 133,
    "start_time": "2023-08-02T20:08:44.684Z"
   },
   {
    "duration": 4,
    "start_time": "2023-08-02T20:08:44.819Z"
   },
   {
    "duration": 47,
    "start_time": "2023-08-02T20:08:44.825Z"
   },
   {
    "duration": 87,
    "start_time": "2023-08-02T20:08:44.874Z"
   },
   {
    "duration": 53,
    "start_time": "2023-08-02T20:08:44.963Z"
   },
   {
    "duration": 37,
    "start_time": "2023-08-02T20:08:45.018Z"
   },
   {
    "duration": 56,
    "start_time": "2023-08-02T20:08:45.058Z"
   },
   {
    "duration": 38,
    "start_time": "2023-08-02T20:08:45.116Z"
   },
   {
    "duration": 276,
    "start_time": "2023-08-02T20:08:45.156Z"
   },
   {
    "duration": 21,
    "start_time": "2023-08-02T20:08:45.434Z"
   },
   {
    "duration": 26,
    "start_time": "2023-08-02T20:08:45.456Z"
   },
   {
    "duration": 5,
    "start_time": "2023-08-02T20:08:45.484Z"
   },
   {
    "duration": 8,
    "start_time": "2023-08-02T20:08:45.491Z"
   },
   {
    "duration": 24,
    "start_time": "2023-08-02T20:08:45.501Z"
   },
   {
    "duration": 4,
    "start_time": "2023-08-02T20:08:45.526Z"
   },
   {
    "duration": 11,
    "start_time": "2023-08-02T20:08:45.532Z"
   },
   {
    "duration": 29,
    "start_time": "2023-08-02T20:08:45.544Z"
   },
   {
    "duration": 6,
    "start_time": "2023-08-02T20:08:45.574Z"
   },
   {
    "duration": 17,
    "start_time": "2023-08-02T20:08:45.581Z"
   },
   {
    "duration": 12,
    "start_time": "2023-08-02T20:08:45.600Z"
   },
   {
    "duration": 8,
    "start_time": "2023-08-02T20:08:45.614Z"
   },
   {
    "duration": 15,
    "start_time": "2023-08-02T20:08:45.623Z"
   },
   {
    "duration": 5,
    "start_time": "2023-08-02T20:08:45.670Z"
   },
   {
    "duration": 1063,
    "start_time": "2023-08-02T20:08:45.678Z"
   },
   {
    "duration": 736,
    "start_time": "2023-08-02T20:08:46.743Z"
   },
   {
    "duration": 7,
    "start_time": "2023-08-02T20:08:47.480Z"
   },
   {
    "duration": 1537,
    "start_time": "2023-08-02T20:08:47.489Z"
   },
   {
    "duration": 469,
    "start_time": "2023-08-02T20:08:49.031Z"
   },
   {
    "duration": 473,
    "start_time": "2023-08-02T20:08:49.502Z"
   },
   {
    "duration": 598,
    "start_time": "2023-08-02T20:08:49.977Z"
   },
   {
    "duration": 487,
    "start_time": "2023-08-02T20:08:50.577Z"
   },
   {
    "duration": 2,
    "start_time": "2023-08-02T20:08:51.071Z"
   },
   {
    "duration": 8,
    "start_time": "2023-08-02T20:08:51.075Z"
   },
   {
    "duration": 10,
    "start_time": "2023-08-02T20:08:51.084Z"
   },
   {
    "duration": 25,
    "start_time": "2023-08-02T20:08:51.095Z"
   },
   {
    "duration": 68,
    "start_time": "2023-08-02T20:08:51.121Z"
   },
   {
    "duration": 3,
    "start_time": "2023-08-02T20:08:51.190Z"
   },
   {
    "duration": 24,
    "start_time": "2023-08-02T20:08:51.194Z"
   },
   {
    "duration": 8,
    "start_time": "2023-08-02T20:08:51.219Z"
   },
   {
    "duration": 1528,
    "start_time": "2023-08-02T20:08:51.229Z"
   },
   {
    "duration": 19,
    "start_time": "2023-08-02T20:08:52.759Z"
   },
   {
    "duration": 8,
    "start_time": "2023-08-02T20:08:52.780Z"
   },
   {
    "duration": 24,
    "start_time": "2023-08-02T20:08:52.789Z"
   },
   {
    "duration": 6,
    "start_time": "2023-08-02T20:08:52.815Z"
   },
   {
    "duration": 6,
    "start_time": "2023-08-02T20:08:52.823Z"
   },
   {
    "duration": 14,
    "start_time": "2023-08-02T20:08:52.830Z"
   },
   {
    "duration": 19,
    "start_time": "2023-08-02T20:08:52.845Z"
   },
   {
    "duration": 20,
    "start_time": "2023-08-02T20:08:52.866Z"
   },
   {
    "duration": 1942,
    "start_time": "2023-08-02T20:08:52.887Z"
   },
   {
    "duration": 22185,
    "start_time": "2023-08-02T20:08:54.831Z"
   },
   {
    "duration": 21940,
    "start_time": "2023-08-02T20:09:17.019Z"
   },
   {
    "duration": 3,
    "start_time": "2023-08-02T20:09:38.961Z"
   },
   {
    "duration": 611,
    "start_time": "2023-08-02T20:09:38.965Z"
   },
   {
    "duration": 3,
    "start_time": "2023-08-02T20:09:39.578Z"
   },
   {
    "duration": 1605,
    "start_time": "2023-08-02T20:09:39.672Z"
   },
   {
    "duration": 1692,
    "start_time": "2023-08-02T20:09:41.280Z"
   },
   {
    "duration": 5,
    "start_time": "2023-08-02T20:09:42.975Z"
   },
   {
    "duration": 11180,
    "start_time": "2023-08-02T20:09:43.072Z"
   },
   {
    "duration": 4,
    "start_time": "2023-08-02T20:09:54.254Z"
   },
   {
    "duration": 13,
    "start_time": "2023-08-02T20:09:54.259Z"
   },
   {
    "duration": 6,
    "start_time": "2023-08-02T20:09:54.274Z"
   },
   {
    "duration": 15,
    "start_time": "2023-08-02T20:09:54.282Z"
   },
   {
    "duration": 24,
    "start_time": "2023-08-02T20:09:54.299Z"
   },
   {
    "duration": 647,
    "start_time": "2023-08-02T20:09:54.325Z"
   },
   {
    "duration": 899,
    "start_time": "2023-08-02T20:09:54.973Z"
   },
   {
    "duration": 307,
    "start_time": "2023-08-02T20:09:55.874Z"
   },
   {
    "duration": 101,
    "start_time": "2023-08-02T20:09:56.272Z"
   },
   {
    "duration": 106,
    "start_time": "2023-08-02T20:09:56.375Z"
   },
   {
    "duration": 93,
    "start_time": "2023-08-02T20:09:56.484Z"
   },
   {
    "duration": 8,
    "start_time": "2023-08-02T20:09:56.579Z"
   },
   {
    "duration": 13,
    "start_time": "2023-08-02T20:09:56.589Z"
   },
   {
    "duration": 7,
    "start_time": "2023-08-02T20:09:56.604Z"
   },
   {
    "duration": 265,
    "start_time": "2023-08-02T20:09:56.613Z"
   },
   {
    "duration": 298,
    "start_time": "2023-08-02T20:09:56.880Z"
   },
   {
    "duration": 92,
    "start_time": "2023-08-02T20:09:57.180Z"
   },
   {
    "duration": 36,
    "start_time": "2023-08-02T20:09:57.274Z"
   },
   {
    "duration": 21,
    "start_time": "2023-08-02T20:09:57.311Z"
   },
   {
    "duration": 18,
    "start_time": "2023-08-02T20:09:57.334Z"
   },
   {
    "duration": 21,
    "start_time": "2023-08-02T20:09:57.354Z"
   }
  ],
  "kernelspec": {
   "display_name": "Python 3 (ipykernel)",
   "language": "python",
   "name": "python3"
  },
  "language_info": {
   "codemirror_mode": {
    "name": "ipython",
    "version": 3
   },
   "file_extension": ".py",
   "mimetype": "text/x-python",
   "name": "python",
   "nbconvert_exporter": "python",
   "pygments_lexer": "ipython3",
   "version": "3.9.5"
  },
  "toc": {
   "base_numbering": 1,
   "nav_menu": {},
   "number_sections": true,
   "sideBar": true,
   "skip_h1_title": true,
   "title_cell": "Содержание",
   "title_sidebar": "Contents",
   "toc_cell": true,
   "toc_position": {
    "height": "calc(100% - 180px)",
    "left": "10px",
    "top": "150px",
    "width": "172.18px"
   },
   "toc_section_display": true,
   "toc_window_display": true
  }
 },
 "nbformat": 4,
 "nbformat_minor": 2
}
