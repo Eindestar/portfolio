{
 "cells": [
  {
   "cell_type": "markdown",
   "metadata": {
    "toc": true
   },
   "source": [
    "<h1>Содержание<span class=\"tocSkip\"></span></h1>\n",
    "<div class=\"toc\"><ul class=\"toc-item\"><li><span><a href=\"#Подготовка-данных\" data-toc-modified-id=\"Подготовка-данных-1\"><span class=\"toc-item-num\">1&nbsp;&nbsp;</span>Подготовка данных</a></span></li><li><span><a href=\"#Анализ\" data-toc-modified-id=\"Анализ-2\"><span class=\"toc-item-num\">2&nbsp;&nbsp;</span>Анализ</a></span></li><li><span><a href=\"#Обучение\" data-toc-modified-id=\"Обучение-3\"><span class=\"toc-item-num\">3&nbsp;&nbsp;</span>Обучение</a></span><ul class=\"toc-item\"><li><span><a href=\"#Подготовка-данных\" data-toc-modified-id=\"Подготовка-данных-3.1\"><span class=\"toc-item-num\">3.1&nbsp;&nbsp;</span>Подготовка данных</a></span></li><li><span><a href=\"#Обучение-на-модели-LinearRegression\" data-toc-modified-id=\"Обучение-на-модели-LinearRegression-3.2\"><span class=\"toc-item-num\">3.2&nbsp;&nbsp;</span>Обучение на модели LinearRegression</a></span></li><li><span><a href=\"#Обучение-на-модели--RandomForestRegressor\" data-toc-modified-id=\"Обучение-на-модели--RandomForestRegressor-3.3\"><span class=\"toc-item-num\">3.3&nbsp;&nbsp;</span>Обучение на модели  RandomForestRegressor</a></span></li><li><span><a href=\"#Обучение-на-модели--LGBMRegressor\" data-toc-modified-id=\"Обучение-на-модели--LGBMRegressor-3.4\"><span class=\"toc-item-num\">3.4&nbsp;&nbsp;</span>Обучение на модели  LGBMRegressor</a></span></li><li><span><a href=\"#Обучение-на-модели-CatBoostRegressor\" data-toc-modified-id=\"Обучение-на-модели-CatBoostRegressor-3.5\"><span class=\"toc-item-num\">3.5&nbsp;&nbsp;</span>Обучение на модели CatBoostRegressor</a></span></li></ul></li><li><span><a href=\"#Тестирование\" data-toc-modified-id=\"Тестирование-4\"><span class=\"toc-item-num\">4&nbsp;&nbsp;</span>Тестирование</a></span></li><li><span><a href=\"#Чек-лист-проверки\" data-toc-modified-id=\"Чек-лист-проверки-5\"><span class=\"toc-item-num\">5&nbsp;&nbsp;</span>Чек-лист проверки</a></span></li></ul></div>"
   ]
  },
  {
   "cell_type": "markdown",
   "metadata": {},
   "source": [
    "# Проект: Прогнозирование заказов такси"
   ]
  },
  {
   "cell_type": "markdown",
   "metadata": {},
   "source": [
    "Описание исследования:\n",
    "\n",
    "Компания «Чётенькое такси» собрала исторические данные о заказах такси в аэропортах. Чтобы привлекать больше водителей в период пиковой нагрузки, нужно спрогнозировать количество заказов такси на следующий час. Постройте модель для такого предсказания.\n",
    "\n",
    "Цель исследования:\n",
    "\n",
    "Провести анализ данных при помощи которых можно будет спрогнозировать количество заказов такси на следующий час.\n",
    "Значение метрики *RMSE* на тестовой выборке должно быть не больше 48.\n",
    "\n",
    "Задачи исследования:\n",
    "\n",
    "1. Загрузить данные и выполнить их ресемплирование по одному часу.\n",
    "2. Проанализировать данные.\n",
    "3. Обучить разные модели с различными гиперпараметрами. Сделать тестовую выборку размером 10% от исходных данных.\n",
    "4. Проверить данные на тестовой выборке и сделать выводы.\n",
    "\n",
    "Данные лежат в файле `taxi.csv`. Количество заказов находится в столбце `num_orders` (от англ. *number of orders*, «число заказов»)."
   ]
  },
  {
   "cell_type": "markdown",
   "metadata": {},
   "source": [
    "## Подготовка данных"
   ]
  },
  {
   "cell_type": "code",
   "execution_count": 1,
   "metadata": {},
   "outputs": [],
   "source": [
    "#импортируем необходимые библиотеки и инструменты\n",
    "import pandas as pd\n",
    "import numpy as np \n",
    "from sklearn.model_selection import train_test_split\n",
    "from sklearn.linear_model import LinearRegression\n",
    "from sklearn.ensemble import RandomForestRegressor\n",
    "from lightgbm.sklearn import LGBMRegressor\n",
    "from sklearn.model_selection import GridSearchCV\n",
    "from sklearn.model_selection import cross_val_score\n",
    "from sklearn.metrics import mean_squared_error\n",
    "from sklearn.metrics import mean_absolute_error\n",
    "from catboost import CatBoostRegressor, Pool\n",
    "import lightgbm as lgb\n",
    "import matplotlib.pyplot as plt\n",
    "from statsmodels.tsa.seasonal import seasonal_decompose\n",
    "from sklearn.model_selection import TimeSeriesSplit\n",
    "import time"
   ]
  },
  {
   "cell_type": "code",
   "execution_count": 2,
   "metadata": {},
   "outputs": [],
   "source": [
    "#загрузим данные в data\n",
    "data =  pd.read_csv('/datasets/taxi.csv')"
   ]
  },
  {
   "cell_type": "code",
   "execution_count": 3,
   "metadata": {},
   "outputs": [
    {
     "name": "stdout",
     "output_type": "stream",
     "text": [
      "<class 'pandas.core.frame.DataFrame'>\n",
      "RangeIndex: 26496 entries, 0 to 26495\n",
      "Data columns (total 2 columns):\n",
      " #   Column      Non-Null Count  Dtype \n",
      "---  ------      --------------  ----- \n",
      " 0   datetime    26496 non-null  object\n",
      " 1   num_orders  26496 non-null  int64 \n",
      "dtypes: int64(1), object(1)\n",
      "memory usage: 414.1+ KB\n"
     ]
    }
   ],
   "source": [
    "#просмотрим информацию о data\n",
    "data.info()"
   ]
  },
  {
   "cell_type": "markdown",
   "metadata": {},
   "source": [
    "в данных всего 2 столбца. это время и количество заказов, в столбце datetime время является объектом, ниже переведем в подходящий формат"
   ]
  },
  {
   "cell_type": "code",
   "execution_count": 4,
   "metadata": {},
   "outputs": [
    {
     "data": {
      "text/html": [
       "<div>\n",
       "<style scoped>\n",
       "    .dataframe tbody tr th:only-of-type {\n",
       "        vertical-align: middle;\n",
       "    }\n",
       "\n",
       "    .dataframe tbody tr th {\n",
       "        vertical-align: top;\n",
       "    }\n",
       "\n",
       "    .dataframe thead th {\n",
       "        text-align: right;\n",
       "    }\n",
       "</style>\n",
       "<table border=\"1\" class=\"dataframe\">\n",
       "  <thead>\n",
       "    <tr style=\"text-align: right;\">\n",
       "      <th></th>\n",
       "      <th>datetime</th>\n",
       "      <th>num_orders</th>\n",
       "    </tr>\n",
       "  </thead>\n",
       "  <tbody>\n",
       "    <tr>\n",
       "      <th>0</th>\n",
       "      <td>2018-03-01 00:00:00</td>\n",
       "      <td>9</td>\n",
       "    </tr>\n",
       "    <tr>\n",
       "      <th>1</th>\n",
       "      <td>2018-03-01 00:10:00</td>\n",
       "      <td>14</td>\n",
       "    </tr>\n",
       "    <tr>\n",
       "      <th>2</th>\n",
       "      <td>2018-03-01 00:20:00</td>\n",
       "      <td>28</td>\n",
       "    </tr>\n",
       "    <tr>\n",
       "      <th>3</th>\n",
       "      <td>2018-03-01 00:30:00</td>\n",
       "      <td>20</td>\n",
       "    </tr>\n",
       "    <tr>\n",
       "      <th>4</th>\n",
       "      <td>2018-03-01 00:40:00</td>\n",
       "      <td>32</td>\n",
       "    </tr>\n",
       "  </tbody>\n",
       "</table>\n",
       "</div>"
      ],
      "text/plain": [
       "              datetime  num_orders\n",
       "0  2018-03-01 00:00:00           9\n",
       "1  2018-03-01 00:10:00          14\n",
       "2  2018-03-01 00:20:00          28\n",
       "3  2018-03-01 00:30:00          20\n",
       "4  2018-03-01 00:40:00          32"
      ]
     },
     "execution_count": 4,
     "metadata": {},
     "output_type": "execute_result"
    }
   ],
   "source": [
    "# посмотрим на данные таблицы\n",
    "data.head()"
   ]
  },
  {
   "cell_type": "code",
   "execution_count": 5,
   "metadata": {},
   "outputs": [],
   "source": [
    "#Приведём столбец datetime к формату datetime64\n",
    "data['datetime']=pd.to_datetime(data['datetime'])"
   ]
  },
  {
   "cell_type": "code",
   "execution_count": 6,
   "metadata": {},
   "outputs": [],
   "source": [
    "# столбец datetime определим индексом нашей таблицы\n",
    "data=data.set_index('datetime')"
   ]
  },
  {
   "cell_type": "code",
   "execution_count": 7,
   "metadata": {},
   "outputs": [
    {
     "data": {
      "text/html": [
       "<div>\n",
       "<style scoped>\n",
       "    .dataframe tbody tr th:only-of-type {\n",
       "        vertical-align: middle;\n",
       "    }\n",
       "\n",
       "    .dataframe tbody tr th {\n",
       "        vertical-align: top;\n",
       "    }\n",
       "\n",
       "    .dataframe thead th {\n",
       "        text-align: right;\n",
       "    }\n",
       "</style>\n",
       "<table border=\"1\" class=\"dataframe\">\n",
       "  <thead>\n",
       "    <tr style=\"text-align: right;\">\n",
       "      <th></th>\n",
       "      <th>num_orders</th>\n",
       "    </tr>\n",
       "    <tr>\n",
       "      <th>datetime</th>\n",
       "      <th></th>\n",
       "    </tr>\n",
       "  </thead>\n",
       "  <tbody>\n",
       "    <tr>\n",
       "      <th>2018-03-01 00:00:00</th>\n",
       "      <td>9</td>\n",
       "    </tr>\n",
       "    <tr>\n",
       "      <th>2018-03-01 00:10:00</th>\n",
       "      <td>14</td>\n",
       "    </tr>\n",
       "    <tr>\n",
       "      <th>2018-03-01 00:20:00</th>\n",
       "      <td>28</td>\n",
       "    </tr>\n",
       "    <tr>\n",
       "      <th>2018-03-01 00:30:00</th>\n",
       "      <td>20</td>\n",
       "    </tr>\n",
       "    <tr>\n",
       "      <th>2018-03-01 00:40:00</th>\n",
       "      <td>32</td>\n",
       "    </tr>\n",
       "    <tr>\n",
       "      <th>2018-03-01 00:50:00</th>\n",
       "      <td>21</td>\n",
       "    </tr>\n",
       "    <tr>\n",
       "      <th>2018-03-01 01:00:00</th>\n",
       "      <td>7</td>\n",
       "    </tr>\n",
       "    <tr>\n",
       "      <th>2018-03-01 01:10:00</th>\n",
       "      <td>5</td>\n",
       "    </tr>\n",
       "    <tr>\n",
       "      <th>2018-03-01 01:20:00</th>\n",
       "      <td>17</td>\n",
       "    </tr>\n",
       "    <tr>\n",
       "      <th>2018-03-01 01:30:00</th>\n",
       "      <td>12</td>\n",
       "    </tr>\n",
       "  </tbody>\n",
       "</table>\n",
       "</div>"
      ],
      "text/plain": [
       "                     num_orders\n",
       "datetime                       \n",
       "2018-03-01 00:00:00           9\n",
       "2018-03-01 00:10:00          14\n",
       "2018-03-01 00:20:00          28\n",
       "2018-03-01 00:30:00          20\n",
       "2018-03-01 00:40:00          32\n",
       "2018-03-01 00:50:00          21\n",
       "2018-03-01 01:00:00           7\n",
       "2018-03-01 01:10:00           5\n",
       "2018-03-01 01:20:00          17\n",
       "2018-03-01 01:30:00          12"
      ]
     },
     "execution_count": 7,
     "metadata": {},
     "output_type": "execute_result"
    }
   ],
   "source": [
    "# проверим изменения таблицы\n",
    "data.head(10)"
   ]
  },
  {
   "cell_type": "code",
   "execution_count": 8,
   "metadata": {},
   "outputs": [
    {
     "data": {
      "text/html": [
       "<div>\n",
       "<style scoped>\n",
       "    .dataframe tbody tr th:only-of-type {\n",
       "        vertical-align: middle;\n",
       "    }\n",
       "\n",
       "    .dataframe tbody tr th {\n",
       "        vertical-align: top;\n",
       "    }\n",
       "\n",
       "    .dataframe thead th {\n",
       "        text-align: right;\n",
       "    }\n",
       "</style>\n",
       "<table border=\"1\" class=\"dataframe\">\n",
       "  <thead>\n",
       "    <tr style=\"text-align: right;\">\n",
       "      <th></th>\n",
       "      <th>num_orders</th>\n",
       "    </tr>\n",
       "    <tr>\n",
       "      <th>datetime</th>\n",
       "      <th></th>\n",
       "    </tr>\n",
       "  </thead>\n",
       "  <tbody>\n",
       "    <tr>\n",
       "      <th>2018-08-31 23:10:00</th>\n",
       "      <td>32</td>\n",
       "    </tr>\n",
       "    <tr>\n",
       "      <th>2018-08-31 23:20:00</th>\n",
       "      <td>24</td>\n",
       "    </tr>\n",
       "    <tr>\n",
       "      <th>2018-08-31 23:30:00</th>\n",
       "      <td>27</td>\n",
       "    </tr>\n",
       "    <tr>\n",
       "      <th>2018-08-31 23:40:00</th>\n",
       "      <td>39</td>\n",
       "    </tr>\n",
       "    <tr>\n",
       "      <th>2018-08-31 23:50:00</th>\n",
       "      <td>53</td>\n",
       "    </tr>\n",
       "  </tbody>\n",
       "</table>\n",
       "</div>"
      ],
      "text/plain": [
       "                     num_orders\n",
       "datetime                       \n",
       "2018-08-31 23:10:00          32\n",
       "2018-08-31 23:20:00          24\n",
       "2018-08-31 23:30:00          27\n",
       "2018-08-31 23:40:00          39\n",
       "2018-08-31 23:50:00          53"
      ]
     },
     "execution_count": 8,
     "metadata": {},
     "output_type": "execute_result"
    }
   ],
   "source": [
    "data.tail()"
   ]
  },
  {
   "cell_type": "code",
   "execution_count": 9,
   "metadata": {},
   "outputs": [
    {
     "data": {
      "text/html": [
       "<div>\n",
       "<style scoped>\n",
       "    .dataframe tbody tr th:only-of-type {\n",
       "        vertical-align: middle;\n",
       "    }\n",
       "\n",
       "    .dataframe tbody tr th {\n",
       "        vertical-align: top;\n",
       "    }\n",
       "\n",
       "    .dataframe thead th {\n",
       "        text-align: right;\n",
       "    }\n",
       "</style>\n",
       "<table border=\"1\" class=\"dataframe\">\n",
       "  <thead>\n",
       "    <tr style=\"text-align: right;\">\n",
       "      <th></th>\n",
       "      <th>num_orders</th>\n",
       "    </tr>\n",
       "  </thead>\n",
       "  <tbody>\n",
       "    <tr>\n",
       "      <th>count</th>\n",
       "      <td>26496.000000</td>\n",
       "    </tr>\n",
       "    <tr>\n",
       "      <th>mean</th>\n",
       "      <td>14.070463</td>\n",
       "    </tr>\n",
       "    <tr>\n",
       "      <th>std</th>\n",
       "      <td>9.211330</td>\n",
       "    </tr>\n",
       "    <tr>\n",
       "      <th>min</th>\n",
       "      <td>0.000000</td>\n",
       "    </tr>\n",
       "    <tr>\n",
       "      <th>25%</th>\n",
       "      <td>8.000000</td>\n",
       "    </tr>\n",
       "    <tr>\n",
       "      <th>50%</th>\n",
       "      <td>13.000000</td>\n",
       "    </tr>\n",
       "    <tr>\n",
       "      <th>75%</th>\n",
       "      <td>19.000000</td>\n",
       "    </tr>\n",
       "    <tr>\n",
       "      <th>max</th>\n",
       "      <td>119.000000</td>\n",
       "    </tr>\n",
       "  </tbody>\n",
       "</table>\n",
       "</div>"
      ],
      "text/plain": [
       "         num_orders\n",
       "count  26496.000000\n",
       "mean      14.070463\n",
       "std        9.211330\n",
       "min        0.000000\n",
       "25%        8.000000\n",
       "50%       13.000000\n",
       "75%       19.000000\n",
       "max      119.000000"
      ]
     },
     "execution_count": 9,
     "metadata": {},
     "output_type": "execute_result"
    }
   ],
   "source": [
    "# рассмотрим статистические характеристики данных\n",
    "data.describe()"
   ]
  },
  {
   "cell_type": "code",
   "execution_count": 10,
   "metadata": {},
   "outputs": [
    {
     "data": {
      "text/plain": [
       "num_orders    0\n",
       "dtype: int64"
      ]
     },
     "execution_count": 10,
     "metadata": {},
     "output_type": "execute_result"
    }
   ],
   "source": [
    "# проверим пропущенные значения в датафрейме.\n",
    "data.isna().sum()"
   ]
  },
  {
   "cell_type": "markdown",
   "metadata": {},
   "source": [
    "пропущенных значений нет"
   ]
  },
  {
   "cell_type": "code",
   "execution_count": 11,
   "metadata": {},
   "outputs": [],
   "source": [
    "# выполним ресемплирование по одному часу.\n",
    "data = data.resample('1H').sum()"
   ]
  },
  {
   "cell_type": "code",
   "execution_count": 12,
   "metadata": {},
   "outputs": [
    {
     "name": "stdout",
     "output_type": "stream",
     "text": [
      "<class 'pandas.core.frame.DataFrame'>\n",
      "DatetimeIndex: 4416 entries, 2018-03-01 00:00:00 to 2018-08-31 23:00:00\n",
      "Freq: H\n",
      "Data columns (total 1 columns):\n",
      " #   Column      Non-Null Count  Dtype\n",
      "---  ------      --------------  -----\n",
      " 0   num_orders  4416 non-null   int64\n",
      "dtypes: int64(1)\n",
      "memory usage: 69.0 KB\n"
     ]
    }
   ],
   "source": [
    "# проверим\n",
    "data.info()"
   ]
  },
  {
   "cell_type": "code",
   "execution_count": 13,
   "metadata": {},
   "outputs": [
    {
     "data": {
      "text/html": [
       "<div>\n",
       "<style scoped>\n",
       "    .dataframe tbody tr th:only-of-type {\n",
       "        vertical-align: middle;\n",
       "    }\n",
       "\n",
       "    .dataframe tbody tr th {\n",
       "        vertical-align: top;\n",
       "    }\n",
       "\n",
       "    .dataframe thead th {\n",
       "        text-align: right;\n",
       "    }\n",
       "</style>\n",
       "<table border=\"1\" class=\"dataframe\">\n",
       "  <thead>\n",
       "    <tr style=\"text-align: right;\">\n",
       "      <th></th>\n",
       "      <th>num_orders</th>\n",
       "    </tr>\n",
       "    <tr>\n",
       "      <th>datetime</th>\n",
       "      <th></th>\n",
       "    </tr>\n",
       "  </thead>\n",
       "  <tbody>\n",
       "    <tr>\n",
       "      <th>2018-03-01 00:00:00</th>\n",
       "      <td>124</td>\n",
       "    </tr>\n",
       "    <tr>\n",
       "      <th>2018-03-01 01:00:00</th>\n",
       "      <td>85</td>\n",
       "    </tr>\n",
       "    <tr>\n",
       "      <th>2018-03-01 02:00:00</th>\n",
       "      <td>71</td>\n",
       "    </tr>\n",
       "    <tr>\n",
       "      <th>2018-03-01 03:00:00</th>\n",
       "      <td>66</td>\n",
       "    </tr>\n",
       "    <tr>\n",
       "      <th>2018-03-01 04:00:00</th>\n",
       "      <td>43</td>\n",
       "    </tr>\n",
       "  </tbody>\n",
       "</table>\n",
       "</div>"
      ],
      "text/plain": [
       "                     num_orders\n",
       "datetime                       \n",
       "2018-03-01 00:00:00         124\n",
       "2018-03-01 01:00:00          85\n",
       "2018-03-01 02:00:00          71\n",
       "2018-03-01 03:00:00          66\n",
       "2018-03-01 04:00:00          43"
      ]
     },
     "execution_count": 13,
     "metadata": {},
     "output_type": "execute_result"
    }
   ],
   "source": [
    "#проверим еще раз данные\n",
    "data.head()"
   ]
  },
  {
   "cell_type": "markdown",
   "metadata": {},
   "source": [
    "проверим, в хронологическом ли порядке расположены даты и время, используем атрибут индекса таблицы is_monotonic. Если порядок соблюдён, атрибут вернёт True, если нет — False."
   ]
  },
  {
   "cell_type": "code",
   "execution_count": 14,
   "metadata": {},
   "outputs": [
    {
     "name": "stdout",
     "output_type": "stream",
     "text": [
      "True\n"
     ]
    }
   ],
   "source": [
    "print(data.index.is_monotonic)"
   ]
  },
  {
   "cell_type": "markdown",
   "metadata": {},
   "source": [
    "все верно данные находятся в хронологическом порядке"
   ]
  },
  {
   "cell_type": "markdown",
   "metadata": {},
   "source": [
    "Вывод по разделу:\n",
    "\n",
    "Данные содержат информация о заках такси с 1 марта 2018 года, по 31 августа 2018 года.\n",
    "\n",
    "В данном разделе было выполнено:\n",
    "- загрузка данных и ее анализ\n",
    "- Привели столбец datetime к формату datetime64\n",
    "- установка признака \"datetime\" в качестве индекса\n",
    "- Ресемплирование данных по одному часу\n",
    "- проверили что данные в датафрейме расположены в хронологическом порядке.\n",
    "- данные были подготовлены для обучения моделей."
   ]
  },
  {
   "cell_type": "markdown",
   "metadata": {},
   "source": [
    "## Анализ"
   ]
  },
  {
   "cell_type": "markdown",
   "metadata": {},
   "source": [
    "В данной главе проведем анализ данных"
   ]
  },
  {
   "cell_type": "code",
   "execution_count": 15,
   "metadata": {},
   "outputs": [
    {
     "data": {
      "image/png": "[encoded data removed]",
      "text/plain": [
       "<Figure size 1440x432 with 1 Axes>"
      ]
     },
     "metadata": {
      "needs_background": "light"
     },
     "output_type": "display_data"
    }
   ],
   "source": [
    "#построим график данных:\n",
    "figsize = (20,6)\n",
    "data.plot(figsize=figsize)\n",
    "plt.title('график заказов')\n",
    "plt.xlabel('Месяцы')\n",
    "plt.ylabel('Кол-во заказов')\n",
    "plt.show()"
   ]
  },
  {
   "cell_type": "markdown",
   "metadata": {},
   "source": [
    "по графику видно что есть небольшой рост среднего количество заказов с марта по август"
   ]
  },
  {
   "cell_type": "markdown",
   "metadata": {},
   "source": [
    "Разложим временной ряд на тренд и сезоную составляющие и остаток декомпозиции заказа такси."
   ]
  },
  {
   "cell_type": "code",
   "execution_count": 16,
   "metadata": {},
   "outputs": [
    {
     "data": {
      "image/png": "[encoded data removed]",
      "text/plain": [
       "<Figure size 720x864 with 3 Axes>"
      ]
     },
     "metadata": {
      "needs_background": "light"
     },
     "output_type": "display_data"
    }
   ],
   "source": [
    "decomposed = seasonal_decompose(data)\n",
    "plt.figure(figsize=(10, 12))\n",
    "plt.subplot(311)\n",
    "decomposed.trend.plot(ax=plt.gca())\n",
    "plt.title('тренд')\n",
    "\n",
    "plt.subplot(312)\n",
    "decomposed.seasonal.plot(ax=plt.gca())\n",
    "plt.title('сезонность')\n",
    "\n",
    "plt.subplot(313)\n",
    "decomposed.resid.plot(ax=plt.gca())\n",
    "plt.title('остатки')\n",
    "\n",
    "plt.tight_layout()"
   ]
  },
  {
   "cell_type": "markdown",
   "metadata": {},
   "source": [
    "тренд у нас растущий, количество заказов увеличивается, узнать растут заказаны в связи с сезонностью (весна, лето и прочее) или увеличивается количество пользователей данного такси, не предоставляется возможноным так как мало данных и график сезонности тоже не дает ясности.\n",
    "рассмотрим сезонность на более коротком промежутке времени."
   ]
  },
  {
   "cell_type": "code",
   "execution_count": 17,
   "metadata": {},
   "outputs": [],
   "source": [
    "decomposed=seasonal_decompose(data)"
   ]
  },
  {
   "cell_type": "code",
   "execution_count": 18,
   "metadata": {},
   "outputs": [
    {
     "data": {
      "image/png": "[encoded data removed]",
      "text/plain": [
       "<Figure size 432x288 with 1 Axes>"
      ]
     },
     "metadata": {
      "needs_background": "light"
     },
     "output_type": "display_data"
    }
   ],
   "source": [
    "#проверим сезонность за последние 7 дней\n",
    "decomposed.seasonal['2018-08-25':'2018-08-31'].plot();"
   ]
  },
  {
   "cell_type": "markdown",
   "metadata": {},
   "source": [
    "внутри дневная сезонность просматривается, к утру спрос падает, к ночи возрастает."
   ]
  },
  {
   "cell_type": "markdown",
   "metadata": {},
   "source": [
    "## Обучение"
   ]
  },
  {
   "cell_type": "markdown",
   "metadata": {},
   "source": [
    "### Подготовка данных"
   ]
  },
  {
   "cell_type": "markdown",
   "metadata": {},
   "source": [
    "Разбейте датасет о потреблении электроэнергии на обучающую и тестовую выборки в соотношении 4:1. Возьмите данные за доступное время.\n",
    "lag и rolling_mean примем за 24 часа"
   ]
  },
  {
   "cell_type": "code",
   "execution_count": 19,
   "metadata": {},
   "outputs": [
    {
     "name": "stdout",
     "output_type": "stream",
     "text": [
      "                     num_orders  lag_1  lag_2  lag_3  lag_4  lag_5  lag_6  \\\n",
      "datetime                                                                    \n",
      "2018-03-01 00:00:00         124    NaN    NaN    NaN    NaN    NaN    NaN   \n",
      "2018-03-01 01:00:00          85  124.0    NaN    NaN    NaN    NaN    NaN   \n",
      "2018-03-01 02:00:00          71   85.0  124.0    NaN    NaN    NaN    NaN   \n",
      "2018-03-01 03:00:00          66   71.0   85.0  124.0    NaN    NaN    NaN   \n",
      "2018-03-01 04:00:00          43   66.0   71.0   85.0  124.0    NaN    NaN   \n",
      "\n",
      "                     lag_7  lag_8  lag_9  ...  lag_16  lag_17  lag_18  lag_19  \\\n",
      "datetime                                  ...                                   \n",
      "2018-03-01 00:00:00    NaN    NaN    NaN  ...     NaN     NaN     NaN     NaN   \n",
      "2018-03-01 01:00:00    NaN    NaN    NaN  ...     NaN     NaN     NaN     NaN   \n",
      "2018-03-01 02:00:00    NaN    NaN    NaN  ...     NaN     NaN     NaN     NaN   \n",
      "2018-03-01 03:00:00    NaN    NaN    NaN  ...     NaN     NaN     NaN     NaN   \n",
      "2018-03-01 04:00:00    NaN    NaN    NaN  ...     NaN     NaN     NaN     NaN   \n",
      "\n",
      "                     lag_20  lag_21  lag_22  lag_23  lag_24  rolling_mean  \n",
      "datetime                                                                   \n",
      "2018-03-01 00:00:00     NaN     NaN     NaN     NaN     NaN           NaN  \n",
      "2018-03-01 01:00:00     NaN     NaN     NaN     NaN     NaN           NaN  \n",
      "2018-03-01 02:00:00     NaN     NaN     NaN     NaN     NaN           NaN  \n",
      "2018-03-01 03:00:00     NaN     NaN     NaN     NaN     NaN           NaN  \n",
      "2018-03-01 04:00:00     NaN     NaN     NaN     NaN     NaN           NaN  \n",
      "\n",
      "[5 rows x 26 columns]\n",
      "                     num_orders  lag_1  lag_2  lag_3  lag_4  lag_5  lag_6  \\\n",
      "datetime                                                                    \n",
      "2018-08-31 19:00:00         136  207.0  217.0  197.0  116.0  133.0  166.0   \n",
      "2018-08-31 20:00:00         154  136.0  207.0  217.0  197.0  116.0  133.0   \n",
      "2018-08-31 21:00:00         159  154.0  136.0  207.0  217.0  197.0  116.0   \n",
      "2018-08-31 22:00:00         223  159.0  154.0  136.0  207.0  217.0  197.0   \n",
      "2018-08-31 23:00:00         205  223.0  159.0  154.0  136.0  207.0  217.0   \n",
      "\n",
      "                     lag_7  lag_8  lag_9  ...  lag_16  lag_17  lag_18  lag_19  \\\n",
      "datetime                                  ...                                   \n",
      "2018-08-31 19:00:00  136.0  167.0  191.0  ...    99.0   230.0   194.0   276.0   \n",
      "2018-08-31 20:00:00  166.0  136.0  167.0  ...   268.0    99.0   230.0   194.0   \n",
      "2018-08-31 21:00:00  133.0  166.0  136.0  ...    78.0   268.0    99.0   230.0   \n",
      "2018-08-31 22:00:00  116.0  133.0  166.0  ...    35.0    78.0   268.0    99.0   \n",
      "2018-08-31 23:00:00  197.0  116.0  133.0  ...    46.0    35.0    78.0   268.0   \n",
      "\n",
      "                     lag_20  lag_21  lag_22  lag_23  lag_24  rolling_mean  \n",
      "datetime                                                                   \n",
      "2018-08-31 19:00:00   246.0   158.0   198.0   142.0    72.0    164.875000  \n",
      "2018-08-31 20:00:00   276.0   246.0   158.0   198.0   142.0    167.541667  \n",
      "2018-08-31 21:00:00   194.0   276.0   246.0   158.0   198.0    168.041667  \n",
      "2018-08-31 22:00:00   230.0   194.0   276.0   246.0   158.0    166.416667  \n",
      "2018-08-31 23:00:00    99.0   230.0   194.0   276.0   246.0    169.125000  \n",
      "\n",
      "[5 rows x 26 columns]\n"
     ]
    }
   ],
   "source": [
    "def make_features(data, max_lag, rolling_mean_size):\n",
    "    df = data.copy()\n",
    "    df['year'] = data.index.year\n",
    "    df['month'] = data.index.month\n",
    "    df['day'] = data.index.day\n",
    "    df['dayofweek'] = data.index.dayofweek\n",
    "    \n",
    "    for lag in range(1, max_lag + 1):\n",
    "        data['lag_{}'.format(lag)] = data['num_orders'].shift(lag)\n",
    " \n",
    "    data['rolling_mean'] = data['num_orders'].shift().rolling(rolling_mean_size).mean()\n",
    "    return data\n",
    "\n",
    "make_features(data, 24, 24)\n",
    "print(data.head())\n",
    "print(data.tail())"
   ]
  },
  {
   "cell_type": "markdown",
   "metadata": {},
   "source": [
    "Разобьм датасет на обучающую и тестовую выборки в соотношении 4:1. Возьмите данные за доступное время."
   ]
  },
  {
   "cell_type": "code",
   "execution_count": 20,
   "metadata": {},
   "outputs": [],
   "source": [
    "train, test = train_test_split(data, shuffle=False, test_size=0.1)\n",
    "train = train.dropna()\n",
    "\n",
    "features_train = train.drop(['num_orders'], axis=1)\n",
    "target_train = train['num_orders']\n",
    "features_test = test.drop(['num_orders'], axis=1)\n",
    "target_test = test['num_orders']"
   ]
  },
  {
   "cell_type": "markdown",
   "metadata": {},
   "source": [
    "Напечатаем на экране минимальные и максимальные значения индексов выборок. \n",
    "Они нужны, чтобы убедиться в корректности деления."
   ]
  },
  {
   "cell_type": "code",
   "execution_count": 21,
   "metadata": {},
   "outputs": [
    {
     "name": "stdout",
     "output_type": "stream",
     "text": [
      "2018-03-02 00:00:00 2018-08-13 13:00:00\n",
      "2018-08-13 14:00:00 2018-08-31 23:00:00\n"
     ]
    }
   ],
   "source": [
    "print(train.index.min(), train.index.max())\n",
    "print(test.index.min(), test.index.max())"
   ]
  },
  {
   "cell_type": "code",
   "execution_count": 22,
   "metadata": {},
   "outputs": [
    {
     "name": "stdout",
     "output_type": "stream",
     "text": [
      "(3950, 25) (442, 25)\n",
      "(3950,) (442,)\n"
     ]
    }
   ],
   "source": [
    "print(features_train.shape,features_test.shape)\n",
    "print(target_train.shape,target_test.shape)"
   ]
  },
  {
   "cell_type": "markdown",
   "metadata": {},
   "source": [
    "Обучение проведем на 4 моделях LinearRegression, RandomForestRegressor, LGBMRegressor, CatBoostRegressor\n",
    "\n",
    "в обучении будем использовать кросс-валидацию с параметором TimeSeriesSplit"
   ]
  },
  {
   "cell_type": "code",
   "execution_count": 23,
   "metadata": {},
   "outputs": [],
   "source": [
    "# TimeSeriesSplit\n",
    "cv = TimeSeriesSplit(n_splits=5)"
   ]
  },
  {
   "cell_type": "markdown",
   "metadata": {},
   "source": [
    "###  Обучение на модели LinearRegression"
   ]
  },
  {
   "cell_type": "code",
   "execution_count": 24,
   "metadata": {},
   "outputs": [
    {
     "name": "stdout",
     "output_type": "stream",
     "text": [
      "RMSE на тренировочной модели LinearRegression =: 26.0\n",
      "время обучения модели LinearRegression: 0.1\n",
      "CPU times: user 62.1 ms, sys: 51.4 ms, total: 114 ms\n",
      "Wall time: 96.3 ms\n"
     ]
    },
    {
     "name": "stderr",
     "output_type": "stream",
     "text": [
      "/opt/conda/lib/python3.9/site-packages/sklearn/utils/validation.py:70: FutureWarning: Pass fit_intercept=12345 as keyword args. From version 1.0 (renaming of 0.25) passing these as positional arguments will result in an error\n",
      "  warnings.warn(f\"Pass {args_msg} as keyword args. From version \"\n"
     ]
    }
   ],
   "source": [
    "%%time\n",
    "start = time.time()\n",
    "model_lr = LinearRegression(12345)\n",
    "model_lr.fit(features_train, target_train)\n",
    " \n",
    "pred_lr = model_lr.predict(features_train)\n",
    "rmse_lr = mean_squared_error(target_train, pred_lr, squared=False)\n",
    "\n",
    "end = time.time()\n",
    "time_lr = round(end - start,1)\n",
    "\n",
    "print('RMSE на тренировочной модели LinearRegression =:', rmse_lr.round())\n",
    "print('время обучения модели LinearRegression:', time_lr)"
   ]
  },
  {
   "cell_type": "markdown",
   "metadata": {},
   "source": [
    "###  Обучение на модели  RandomForestRegressor"
   ]
  },
  {
   "cell_type": "code",
   "execution_count": 25,
   "metadata": {},
   "outputs": [
    {
     "name": "stdout",
     "output_type": "stream",
     "text": [
      "Лучшая RMSE: 26.25863858900084 при параметрах ,{'max_depth': 9, 'min_samples_leaf': 2}\n",
      "RMSE на тренировочной модели RandomForestRegressor = 26.25863858900084 при параметрах ,{'max_depth': 9, 'min_samples_leaf': 2}\n",
      "время обучения модели RandomForestRegressor: 164.3\n",
      "CPU times: user 2min 43s, sys: 524 ms, total: 2min 43s\n",
      "Wall time: 2min 44s\n"
     ]
    }
   ],
   "source": [
    "%%time\n",
    "start = time.time()\n",
    "model_rfr= RandomForestRegressor(random_state=12345)\n",
    "gscv = GridSearchCV(model_rfr, param_grid = {\"max_depth\" : range(1,10),\"min_samples_leaf\" : range(1,5)}, \n",
    "                    scoring='neg_root_mean_squared_error', cv=cv)\n",
    "\n",
    "rfr_model = gscv.fit(features_train,target_train)\n",
    "\n",
    "end = time.time()\n",
    "time_rfr = round(end - start,1)\n",
    "print(f'Лучшая RMSE: {-rfr_model.best_score_} при параметрах ,{rfr_model.best_params_}')\n",
    "print(f'RMSE на тренировочной модели RandomForestRegressor = {-rfr_model.best_score_} при параметрах ,{rfr_model.best_params_}')\n",
    "print('время обучения модели RandomForestRegressor:', time_rfr)"
   ]
  },
  {
   "cell_type": "markdown",
   "metadata": {},
   "source": [
    "###  Обучение на модели  LGBMRegressor"
   ]
  },
  {
   "cell_type": "code",
   "execution_count": 26,
   "metadata": {},
   "outputs": [
    {
     "name": "stdout",
     "output_type": "stream",
     "text": [
      "RMSE на тренировочной модели LGBMRegressor = 25.90078728590232 при параметрах ,{'max_depth': 14, 'n_estimators': 39}\n",
      "время обучения модели LGBMRegressor: 206.5\n",
      "CPU times: user 41 s, sys: 1.13 s, total: 42.1 s\n",
      "Wall time: 42.2 s\n"
     ]
    }
   ],
   "source": [
    "%%time\n",
    "start_time = time.time()\n",
    "model_lgbm= LGBMRegressor(random_state=12345, n_jobs=2)\n",
    "gscv = GridSearchCV(model_lgbm, param_grid = {\"max_depth\" : range(10,15),\"n_estimators\" : range(20,40)}, \n",
    "                       scoring='neg_root_mean_squared_error', cv=cv)\n",
    "\n",
    "lgbmr_model = gscv.fit(features_train,target_train)\n",
    "end = time.time()\n",
    "time_lgbmr = round(end - start,1)\n",
    "print(f'RMSE на тренировочной модели LGBMRegressor = {-lgbmr_model.best_score_} при параметрах ,{lgbmr_model.best_params_}')\n",
    "print('время обучения модели LGBMRegressor:', time_lgbmr)"
   ]
  },
  {
   "cell_type": "markdown",
   "metadata": {},
   "source": [
    "###  Обучение на модели CatBoostRegressor"
   ]
  },
  {
   "cell_type": "code",
   "execution_count": 27,
   "metadata": {},
   "outputs": [
    {
     "name": "stdout",
     "output_type": "stream",
     "text": [
      "RMSE на тренировочной модели CatBoostRegressor =: 25.64556496310569\n",
      "время обучения модели CatBoostRegressor: 8.5\n",
      "CPU times: user 4.01 s, sys: 117 ms, total: 4.13 s\n",
      "Wall time: 8.48 s\n"
     ]
    }
   ],
   "source": [
    "%%time\n",
    "start = time.time()\n",
    "regressor = CatBoostRegressor(learning_rate=0.1,iterations = 200,random_state=12345, verbose=False,) \n",
    "\n",
    "rmse_cbr = (cross_val_score(regressor,features_train, target_train, cv=cv, \n",
    "                            scoring='neg_mean_squared_error').mean() * -1) ** 0.5\n",
    "end = time.time()\n",
    "time_cbr = round(end - start,1)\n",
    "\n",
    "print('RMSE на тренировочной модели CatBoostRegressor =:', rmse_cbr)\n",
    "print('время обучения модели CatBoostRegressor:', time_cbr)"
   ]
  },
  {
   "cell_type": "code",
   "execution_count": 28,
   "metadata": {},
   "outputs": [
    {
     "name": "stdout",
     "output_type": "stream",
     "text": [
      "                  модель  время, сек   RMSE\n",
      "0       LinearRegression         0.1  25.96\n",
      "1      CatBoostRegressor         8.5  25.65\n",
      "2                    LGB       206.5  25.90\n",
      "3  RandomForestRegressor       164.3  26.26\n"
     ]
    }
   ],
   "source": [
    "models = [['LinearRegression', time_lr, rmse_lr.round(2)], \n",
    "          ['CatBoostRegressor', time_cbr, rmse_cbr.round(2)], \n",
    "          ['LGB', time_lgbmr, -lgbmr_model.best_score_.round(2)], \n",
    "          ['RandomForestRegressor', time_rfr, -rfr_model.best_score_.round(2)]\n",
    "         ]\n",
    "          \n",
    "data_models = pd.DataFrame(models, columns = ['модель', 'время, сек', 'RMSE']) \n",
    "          \n",
    "print(data_models)"
   ]
  },
  {
   "cell_type": "markdown",
   "metadata": {},
   "source": [
    "В результате обучения все модели показали результат меньше RMSE = 48.\n",
    "Лучшими моделями стали CatBoostRegressor показав результат RMSE = 25,65\n",
    "по времени 11,4 сек. стал лучшим CatBoostRegressor, его и будем использовать для тестирование модели"
   ]
  },
  {
   "cell_type": "markdown",
   "metadata": {},
   "source": [
    "## Тестирование"
   ]
  },
  {
   "cell_type": "markdown",
   "metadata": {},
   "source": [
    "Проведем тестирование на модели CatBoostRegressor"
   ]
  },
  {
   "cell_type": "code",
   "execution_count": 29,
   "metadata": {},
   "outputs": [
    {
     "name": "stdout",
     "output_type": "stream",
     "text": [
      "RMSE на тестовой модели: 43.0\n",
      "CPU times: user 1.1 s, sys: 20.3 ms, total: 1.12 s\n",
      "Wall time: 2.02 s\n"
     ]
    }
   ],
   "source": [
    "%%time\n",
    "\n",
    "model = CatBoostRegressor(learning_rate=0.1, \n",
    "                          iterations = 200, \n",
    "                          random_state=12345, \n",
    "                          verbose=False) \n",
    "model.fit(features_train, target_train)\n",
    "cbt_predict = model.predict(features_test)\n",
    "rmse_cbr_test = mean_squared_error(target_test, cbt_predict) ** 0.5\n",
    "print('RMSE на тестовой модели:', rmse_cbr_test.round())"
   ]
  },
  {
   "cell_type": "code",
   "execution_count": 30,
   "metadata": {},
   "outputs": [
    {
     "data": {
      "image/png": "[encoded data removed]",
      "text/plain": [
       "<Figure size 1440x432 with 1 Axes>"
      ]
     },
     "metadata": {
      "needs_background": "light"
     },
     "output_type": "display_data"
    }
   ],
   "source": [
    "fig, ax = plt.subplots(figsize=figsize)\n",
    "ax.plot(target_test.index, target_test, 'b-', label='реальные данные о заказах')\n",
    "ax.plot(target_test.index, cbt_predict, 'r-', label='предсказанные данные о заказах')\n",
    "plt.title('график реальных заказов и предсказанных моделью CatBoostRegressor')\n",
    "plt.xlabel('период: Август')\n",
    "plt.ylabel('Количество заказов')\n",
    "plt.legend()\n",
    "plt.show()"
   ]
  },
  {
   "cell_type": "markdown",
   "metadata": {},
   "source": [
    " <div class=\"alert alert-success\">\n",
    "<h2> Комментарий ревьюера <a class=\"tocSkip\"> </h2>\n",
    "\n",
    "<b>Все отлично!👍:  </b>\n",
    "    \n",
    "Отлично, что  визуализированы результаты, показаны предсказанные значения лучшей модели и реальные тестовые"
   ]
  },
  {
   "cell_type": "markdown",
   "metadata": {},
   "source": [
    "модель CatBoostRegressor показала на тестовой выборки результат RMSE = 43 меньше RMSE = 48\n",
    "данная модель подходит для решения нашего исследования в прогнозе."
   ]
  }
 ],
 "metadata": {
  "ExecuteTimeLog": [
   {
    "duration": 1827,
    "start_time": "2023-09-17T04:21:47.424Z"
   },
   {
    "duration": 67,
    "start_time": "2023-09-17T04:22:06.458Z"
   },
   {
    "duration": 1487,
    "start_time": "2023-09-17T04:26:35.772Z"
   },
   {
    "duration": 113,
    "start_time": "2023-09-17T04:26:37.261Z"
   },
   {
    "duration": 12,
    "start_time": "2023-09-17T04:26:37.375Z"
   },
   {
    "duration": 10,
    "start_time": "2023-09-17T04:26:37.389Z"
   },
   {
    "duration": 9,
    "start_time": "2023-09-17T04:26:37.401Z"
   },
   {
    "duration": 7,
    "start_time": "2023-09-17T04:26:37.411Z"
   },
   {
    "duration": 9,
    "start_time": "2023-09-17T04:26:37.419Z"
   },
   {
    "duration": 25,
    "start_time": "2023-09-17T04:26:37.430Z"
   },
   {
    "duration": 1607,
    "start_time": "2023-09-17T04:31:18.909Z"
   },
   {
    "duration": 45,
    "start_time": "2023-09-17T04:31:20.518Z"
   },
   {
    "duration": 14,
    "start_time": "2023-09-17T04:31:20.564Z"
   },
   {
    "duration": 82,
    "start_time": "2023-09-17T04:31:20.580Z"
   },
   {
    "duration": 20,
    "start_time": "2023-09-17T04:31:20.663Z"
   },
   {
    "duration": 28,
    "start_time": "2023-09-17T04:31:20.685Z"
   },
   {
    "duration": 16,
    "start_time": "2023-09-17T04:31:20.715Z"
   },
   {
    "duration": 134,
    "start_time": "2023-09-17T04:31:20.733Z"
   },
   {
    "duration": 0,
    "start_time": "2023-09-17T04:31:20.868Z"
   },
   {
    "duration": 0,
    "start_time": "2023-09-17T04:31:20.869Z"
   },
   {
    "duration": 0,
    "start_time": "2023-09-17T04:31:20.870Z"
   },
   {
    "duration": 0,
    "start_time": "2023-09-17T04:31:20.871Z"
   },
   {
    "duration": 7,
    "start_time": "2023-09-17T04:31:30.532Z"
   },
   {
    "duration": 13,
    "start_time": "2023-09-17T04:31:33.249Z"
   },
   {
    "duration": 6,
    "start_time": "2023-09-17T04:31:37.907Z"
   },
   {
    "duration": 13,
    "start_time": "2023-09-17T04:31:39.049Z"
   },
   {
    "duration": 11,
    "start_time": "2023-09-17T04:31:46.293Z"
   },
   {
    "duration": 10,
    "start_time": "2023-09-17T04:32:32.184Z"
   },
   {
    "duration": 11,
    "start_time": "2023-09-17T04:32:53.239Z"
   },
   {
    "duration": 10,
    "start_time": "2023-09-17T04:32:56.385Z"
   },
   {
    "duration": 10,
    "start_time": "2023-09-17T04:34:31.386Z"
   },
   {
    "duration": 10,
    "start_time": "2023-09-17T04:34:42.432Z"
   },
   {
    "duration": 10,
    "start_time": "2023-09-17T04:35:22.714Z"
   },
   {
    "duration": 10,
    "start_time": "2023-09-17T04:35:27.736Z"
   },
   {
    "duration": 8,
    "start_time": "2023-09-17T04:36:09.830Z"
   },
   {
    "duration": 11,
    "start_time": "2023-09-17T04:37:52.314Z"
   },
   {
    "duration": 8,
    "start_time": "2023-09-17T04:37:57.614Z"
   },
   {
    "duration": 5,
    "start_time": "2023-09-17T04:38:17.564Z"
   },
   {
    "duration": 5,
    "start_time": "2023-09-17T04:38:35.804Z"
   },
   {
    "duration": 4,
    "start_time": "2023-09-17T04:38:50.924Z"
   },
   {
    "duration": 5,
    "start_time": "2023-09-17T04:38:52.260Z"
   },
   {
    "duration": 4,
    "start_time": "2023-09-17T04:40:12.188Z"
   },
   {
    "duration": 6,
    "start_time": "2023-09-17T04:40:27.442Z"
   },
   {
    "duration": 1554,
    "start_time": "2023-09-17T04:41:52.748Z"
   },
   {
    "duration": 45,
    "start_time": "2023-09-17T04:41:54.304Z"
   },
   {
    "duration": 14,
    "start_time": "2023-09-17T04:41:54.351Z"
   },
   {
    "duration": 10,
    "start_time": "2023-09-17T04:41:54.367Z"
   },
   {
    "duration": 15,
    "start_time": "2023-09-17T04:41:54.380Z"
   },
   {
    "duration": 20,
    "start_time": "2023-09-17T04:41:54.396Z"
   },
   {
    "duration": 24,
    "start_time": "2023-09-17T04:41:54.418Z"
   },
   {
    "duration": 32,
    "start_time": "2023-09-17T04:41:54.444Z"
   },
   {
    "duration": 49,
    "start_time": "2023-09-17T04:41:54.478Z"
   },
   {
    "duration": 13,
    "start_time": "2023-09-17T04:41:54.529Z"
   },
   {
    "duration": 9,
    "start_time": "2023-09-17T04:41:54.543Z"
   },
   {
    "duration": 146,
    "start_time": "2023-09-17T04:41:54.553Z"
   },
   {
    "duration": 0,
    "start_time": "2023-09-17T04:41:54.701Z"
   },
   {
    "duration": 0,
    "start_time": "2023-09-17T04:41:54.703Z"
   },
   {
    "duration": 10,
    "start_time": "2023-09-17T04:42:09.666Z"
   },
   {
    "duration": 9,
    "start_time": "2023-09-17T04:42:10.540Z"
   },
   {
    "duration": 10,
    "start_time": "2023-09-17T04:42:10.984Z"
   },
   {
    "duration": 11,
    "start_time": "2023-09-17T04:42:17.136Z"
   },
   {
    "duration": 7,
    "start_time": "2023-09-17T04:42:22.824Z"
   },
   {
    "duration": 332,
    "start_time": "2023-09-17T04:46:42.705Z"
   },
   {
    "duration": 3,
    "start_time": "2023-09-17T04:48:15.637Z"
   },
   {
    "duration": 331,
    "start_time": "2023-09-17T04:51:34.072Z"
   },
   {
    "duration": 143,
    "start_time": "2023-09-17T04:52:57.224Z"
   },
   {
    "duration": 1733,
    "start_time": "2023-09-17T04:53:14.563Z"
   },
   {
    "duration": 45,
    "start_time": "2023-09-17T04:53:16.298Z"
   },
   {
    "duration": 21,
    "start_time": "2023-09-17T04:53:16.345Z"
   },
   {
    "duration": 11,
    "start_time": "2023-09-17T04:53:16.369Z"
   },
   {
    "duration": 9,
    "start_time": "2023-09-17T04:53:16.382Z"
   },
   {
    "duration": 8,
    "start_time": "2023-09-17T04:53:16.392Z"
   },
   {
    "duration": 22,
    "start_time": "2023-09-17T04:53:16.401Z"
   },
   {
    "duration": 27,
    "start_time": "2023-09-17T04:53:16.425Z"
   },
   {
    "duration": 21,
    "start_time": "2023-09-17T04:53:16.454Z"
   },
   {
    "duration": 7,
    "start_time": "2023-09-17T04:53:16.477Z"
   },
   {
    "duration": 164,
    "start_time": "2023-09-17T04:53:16.486Z"
   },
   {
    "duration": 0,
    "start_time": "2023-09-17T04:53:16.653Z"
   },
   {
    "duration": 0,
    "start_time": "2023-09-17T04:53:16.655Z"
   },
   {
    "duration": 0,
    "start_time": "2023-09-17T04:53:16.656Z"
   },
   {
    "duration": 0,
    "start_time": "2023-09-17T04:53:16.658Z"
   },
   {
    "duration": 0,
    "start_time": "2023-09-17T04:53:16.660Z"
   },
   {
    "duration": 0,
    "start_time": "2023-09-17T04:53:16.662Z"
   },
   {
    "duration": 0,
    "start_time": "2023-09-17T04:53:16.664Z"
   },
   {
    "duration": 10,
    "start_time": "2023-09-17T05:08:28.334Z"
   },
   {
    "duration": 10,
    "start_time": "2023-09-17T05:08:29.011Z"
   },
   {
    "duration": 8,
    "start_time": "2023-09-17T05:08:32.732Z"
   },
   {
    "duration": 3,
    "start_time": "2023-09-17T05:08:45.843Z"
   },
   {
    "duration": 355,
    "start_time": "2023-09-17T05:09:08.286Z"
   },
   {
    "duration": 353,
    "start_time": "2023-09-17T05:09:20.930Z"
   },
   {
    "duration": 1427,
    "start_time": "2023-09-17T05:11:03.867Z"
   },
   {
    "duration": 1509,
    "start_time": "2023-09-17T05:11:10.467Z"
   },
   {
    "duration": 45,
    "start_time": "2023-09-17T05:11:11.978Z"
   },
   {
    "duration": 14,
    "start_time": "2023-09-17T05:11:12.025Z"
   },
   {
    "duration": 26,
    "start_time": "2023-09-17T05:11:12.041Z"
   },
   {
    "duration": 16,
    "start_time": "2023-09-17T05:11:12.070Z"
   },
   {
    "duration": 26,
    "start_time": "2023-09-17T05:11:12.087Z"
   },
   {
    "duration": 39,
    "start_time": "2023-09-17T05:11:12.114Z"
   },
   {
    "duration": 18,
    "start_time": "2023-09-17T05:11:12.155Z"
   },
   {
    "duration": 26,
    "start_time": "2023-09-17T05:11:12.174Z"
   },
   {
    "duration": 13,
    "start_time": "2023-09-17T05:11:12.202Z"
   },
   {
    "duration": 49,
    "start_time": "2023-09-17T05:11:12.217Z"
   },
   {
    "duration": 9,
    "start_time": "2023-09-17T05:11:12.269Z"
   },
   {
    "duration": 17,
    "start_time": "2023-09-17T05:11:12.280Z"
   },
   {
    "duration": 12,
    "start_time": "2023-09-17T05:11:12.300Z"
   },
   {
    "duration": 375,
    "start_time": "2023-09-17T05:11:12.314Z"
   },
   {
    "duration": 1391,
    "start_time": "2023-09-17T05:11:12.691Z"
   },
   {
    "duration": 373,
    "start_time": "2023-09-17T05:11:38.942Z"
   },
   {
    "duration": 16,
    "start_time": "2023-09-17T05:16:37.669Z"
   },
   {
    "duration": 23,
    "start_time": "2023-09-17T05:17:13.643Z"
   },
   {
    "duration": 15,
    "start_time": "2023-09-17T05:17:22.174Z"
   },
   {
    "duration": 1748,
    "start_time": "2023-09-17T05:17:39.074Z"
   },
   {
    "duration": 55,
    "start_time": "2023-09-17T05:17:40.824Z"
   },
   {
    "duration": 13,
    "start_time": "2023-09-17T05:17:40.881Z"
   },
   {
    "duration": 12,
    "start_time": "2023-09-17T05:17:40.896Z"
   },
   {
    "duration": 9,
    "start_time": "2023-09-17T05:17:40.910Z"
   },
   {
    "duration": 34,
    "start_time": "2023-09-17T05:17:40.921Z"
   },
   {
    "duration": 10,
    "start_time": "2023-09-17T05:17:40.957Z"
   },
   {
    "duration": 9,
    "start_time": "2023-09-17T05:17:40.969Z"
   },
   {
    "duration": 16,
    "start_time": "2023-09-17T05:17:40.980Z"
   },
   {
    "duration": 5,
    "start_time": "2023-09-17T05:17:40.999Z"
   },
   {
    "duration": 12,
    "start_time": "2023-09-17T05:17:41.006Z"
   },
   {
    "duration": 17,
    "start_time": "2023-09-17T05:17:41.051Z"
   },
   {
    "duration": 29,
    "start_time": "2023-09-17T05:17:41.070Z"
   },
   {
    "duration": 5,
    "start_time": "2023-09-17T05:17:41.101Z"
   },
   {
    "duration": 370,
    "start_time": "2023-09-17T05:17:41.108Z"
   },
   {
    "duration": 400,
    "start_time": "2023-09-17T05:17:41.480Z"
   },
   {
    "duration": 148,
    "start_time": "2023-09-17T05:17:41.882Z"
   },
   {
    "duration": 0,
    "start_time": "2023-09-17T05:17:42.032Z"
   },
   {
    "duration": 16,
    "start_time": "2023-09-17T05:21:25.769Z"
   },
   {
    "duration": 336,
    "start_time": "2023-09-17T05:21:32.379Z"
   },
   {
    "duration": 11,
    "start_time": "2023-09-17T05:22:45.697Z"
   },
   {
    "duration": 2045,
    "start_time": "2023-09-17T05:24:37.981Z"
   },
   {
    "duration": 65,
    "start_time": "2023-09-17T05:24:40.029Z"
   },
   {
    "duration": 18,
    "start_time": "2023-09-17T05:24:40.097Z"
   },
   {
    "duration": 16,
    "start_time": "2023-09-17T05:24:40.117Z"
   },
   {
    "duration": 20,
    "start_time": "2023-09-17T05:24:40.136Z"
   },
   {
    "duration": 14,
    "start_time": "2023-09-17T05:24:40.158Z"
   },
   {
    "duration": 8,
    "start_time": "2023-09-17T05:24:40.182Z"
   },
   {
    "duration": 10,
    "start_time": "2023-09-17T05:24:40.192Z"
   },
   {
    "duration": 15,
    "start_time": "2023-09-17T05:24:40.204Z"
   },
   {
    "duration": 6,
    "start_time": "2023-09-17T05:24:40.221Z"
   },
   {
    "duration": 25,
    "start_time": "2023-09-17T05:24:40.229Z"
   },
   {
    "duration": 14,
    "start_time": "2023-09-17T05:24:40.256Z"
   },
   {
    "duration": 9,
    "start_time": "2023-09-17T05:24:40.272Z"
   },
   {
    "duration": 4,
    "start_time": "2023-09-17T05:24:40.289Z"
   },
   {
    "duration": 419,
    "start_time": "2023-09-17T05:24:40.295Z"
   },
   {
    "duration": 3,
    "start_time": "2023-09-17T05:24:40.715Z"
   },
   {
    "duration": 18,
    "start_time": "2023-09-17T05:24:40.720Z"
   },
   {
    "duration": 176,
    "start_time": "2023-09-17T05:24:40.740Z"
   },
   {
    "duration": 9,
    "start_time": "2023-09-17T05:24:51.703Z"
   },
   {
    "duration": 149,
    "start_time": "2023-09-17T05:24:52.384Z"
   },
   {
    "duration": 242,
    "start_time": "2023-09-17T05:25:12.774Z"
   },
   {
    "duration": 873,
    "start_time": "2023-09-17T05:26:14.821Z"
   },
   {
    "duration": 11,
    "start_time": "2023-09-17T05:29:18.167Z"
   },
   {
    "duration": 1460,
    "start_time": "2023-09-17T05:31:25.218Z"
   },
   {
    "duration": 19,
    "start_time": "2023-09-17T05:33:15.444Z"
   },
   {
    "duration": 7,
    "start_time": "2023-09-17T05:33:55.363Z"
   },
   {
    "duration": 9,
    "start_time": "2023-09-17T05:33:59.498Z"
   },
   {
    "duration": 10,
    "start_time": "2023-09-17T05:34:51.512Z"
   },
   {
    "duration": 14,
    "start_time": "2023-09-17T05:42:02.423Z"
   },
   {
    "duration": 21,
    "start_time": "2023-09-17T05:42:50.367Z"
   },
   {
    "duration": 1444,
    "start_time": "2023-09-17T05:43:38.135Z"
   },
   {
    "duration": 26,
    "start_time": "2023-09-17T05:44:02.454Z"
   },
   {
    "duration": 47,
    "start_time": "2023-09-17T05:45:40.589Z"
   },
   {
    "duration": 36,
    "start_time": "2023-09-17T05:45:50.831Z"
   },
   {
    "duration": 7,
    "start_time": "2023-09-17T05:46:15.391Z"
   },
   {
    "duration": 67,
    "start_time": "2023-09-17T05:46:19.709Z"
   },
   {
    "duration": 1707,
    "start_time": "2023-09-17T05:53:23.421Z"
   },
   {
    "duration": 65,
    "start_time": "2023-09-17T05:53:25.130Z"
   },
   {
    "duration": 19,
    "start_time": "2023-09-17T05:53:25.197Z"
   },
   {
    "duration": 18,
    "start_time": "2023-09-17T05:53:25.221Z"
   },
   {
    "duration": 28,
    "start_time": "2023-09-17T05:53:25.242Z"
   },
   {
    "duration": 19,
    "start_time": "2023-09-17T05:53:25.272Z"
   },
   {
    "duration": 37,
    "start_time": "2023-09-17T05:53:25.293Z"
   },
   {
    "duration": 28,
    "start_time": "2023-09-17T05:53:25.333Z"
   },
   {
    "duration": 58,
    "start_time": "2023-09-17T05:53:25.364Z"
   },
   {
    "duration": 187,
    "start_time": "2023-09-17T05:53:25.426Z"
   },
   {
    "duration": 60,
    "start_time": "2023-09-17T05:53:25.616Z"
   },
   {
    "duration": 19,
    "start_time": "2023-09-17T05:53:25.678Z"
   },
   {
    "duration": 14,
    "start_time": "2023-09-17T05:53:25.700Z"
   },
   {
    "duration": 16,
    "start_time": "2023-09-17T05:53:25.717Z"
   },
   {
    "duration": 432,
    "start_time": "2023-09-17T05:53:25.736Z"
   },
   {
    "duration": 1023,
    "start_time": "2023-09-17T05:53:26.178Z"
   },
   {
    "duration": 4,
    "start_time": "2023-09-17T05:53:27.203Z"
   },
   {
    "duration": 14,
    "start_time": "2023-09-17T05:53:27.208Z"
   },
   {
    "duration": 201,
    "start_time": "2023-09-17T05:53:27.225Z"
   },
   {
    "duration": 2,
    "start_time": "2023-09-17T05:53:27.428Z"
   },
   {
    "duration": 19,
    "start_time": "2023-09-17T05:53:27.432Z"
   },
   {
    "duration": 20,
    "start_time": "2023-09-17T05:53:27.453Z"
   },
   {
    "duration": 11,
    "start_time": "2023-09-17T05:53:27.476Z"
   },
   {
    "duration": 18,
    "start_time": "2023-09-17T05:53:27.489Z"
   },
   {
    "duration": 155,
    "start_time": "2023-09-17T05:53:27.509Z"
   },
   {
    "duration": 8,
    "start_time": "2023-09-17T05:55:40.964Z"
   },
   {
    "duration": 11,
    "start_time": "2023-09-17T05:55:42.023Z"
   },
   {
    "duration": 17,
    "start_time": "2023-09-17T05:55:49.725Z"
   },
   {
    "duration": 20,
    "start_time": "2023-09-17T05:55:50.707Z"
   },
   {
    "duration": 58,
    "start_time": "2023-09-17T05:55:51.495Z"
   },
   {
    "duration": 1674,
    "start_time": "2023-09-17T05:55:59.663Z"
   },
   {
    "duration": 49,
    "start_time": "2023-09-17T05:56:01.339Z"
   },
   {
    "duration": 14,
    "start_time": "2023-09-17T05:56:01.390Z"
   },
   {
    "duration": 34,
    "start_time": "2023-09-17T05:56:01.405Z"
   },
   {
    "duration": 53,
    "start_time": "2023-09-17T05:56:01.442Z"
   },
   {
    "duration": 33,
    "start_time": "2023-09-17T05:56:01.497Z"
   },
   {
    "duration": 39,
    "start_time": "2023-09-17T05:56:01.532Z"
   },
   {
    "duration": 57,
    "start_time": "2023-09-17T05:56:01.574Z"
   },
   {
    "duration": 80,
    "start_time": "2023-09-17T05:56:01.633Z"
   },
   {
    "duration": 110,
    "start_time": "2023-09-17T05:56:01.715Z"
   },
   {
    "duration": 73,
    "start_time": "2023-09-17T05:56:01.827Z"
   },
   {
    "duration": 49,
    "start_time": "2023-09-17T05:56:01.902Z"
   },
   {
    "duration": 92,
    "start_time": "2023-09-17T05:56:01.954Z"
   },
   {
    "duration": 129,
    "start_time": "2023-09-17T05:56:02.050Z"
   },
   {
    "duration": 488,
    "start_time": "2023-09-17T05:56:02.183Z"
   },
   {
    "duration": 868,
    "start_time": "2023-09-17T05:56:02.673Z"
   },
   {
    "duration": 3,
    "start_time": "2023-09-17T05:56:03.543Z"
   },
   {
    "duration": 16,
    "start_time": "2023-09-17T05:56:03.549Z"
   },
   {
    "duration": 190,
    "start_time": "2023-09-17T05:56:03.567Z"
   },
   {
    "duration": 2,
    "start_time": "2023-09-17T05:56:03.761Z"
   },
   {
    "duration": 14,
    "start_time": "2023-09-17T05:56:03.765Z"
   },
   {
    "duration": 14,
    "start_time": "2023-09-17T05:56:03.781Z"
   },
   {
    "duration": 11,
    "start_time": "2023-09-17T05:56:03.797Z"
   },
   {
    "duration": 52,
    "start_time": "2023-09-17T05:56:03.810Z"
   },
   {
    "duration": 35,
    "start_time": "2023-09-17T05:56:03.864Z"
   },
   {
    "duration": 54,
    "start_time": "2023-09-17T16:45:16.026Z"
   },
   {
    "duration": 1668,
    "start_time": "2023-09-17T16:45:20.810Z"
   },
   {
    "duration": 113,
    "start_time": "2023-09-17T16:45:22.480Z"
   },
   {
    "duration": 14,
    "start_time": "2023-09-17T16:45:22.595Z"
   },
   {
    "duration": 27,
    "start_time": "2023-09-17T16:45:22.612Z"
   },
   {
    "duration": 22,
    "start_time": "2023-09-17T16:45:22.641Z"
   },
   {
    "duration": 15,
    "start_time": "2023-09-17T16:45:22.664Z"
   },
   {
    "duration": 27,
    "start_time": "2023-09-17T16:45:22.680Z"
   },
   {
    "duration": 18,
    "start_time": "2023-09-17T16:45:22.708Z"
   },
   {
    "duration": 34,
    "start_time": "2023-09-17T16:45:22.728Z"
   },
   {
    "duration": 12,
    "start_time": "2023-09-17T16:45:22.764Z"
   },
   {
    "duration": 41,
    "start_time": "2023-09-17T16:45:22.777Z"
   },
   {
    "duration": 40,
    "start_time": "2023-09-17T16:45:22.819Z"
   },
   {
    "duration": 49,
    "start_time": "2023-09-17T16:45:22.861Z"
   },
   {
    "duration": 24,
    "start_time": "2023-09-17T16:45:22.912Z"
   },
   {
    "duration": 320,
    "start_time": "2023-09-17T16:45:22.938Z"
   },
   {
    "duration": 771,
    "start_time": "2023-09-17T16:45:23.259Z"
   },
   {
    "duration": 3,
    "start_time": "2023-09-17T16:45:24.032Z"
   },
   {
    "duration": 13,
    "start_time": "2023-09-17T16:45:24.037Z"
   },
   {
    "duration": 155,
    "start_time": "2023-09-17T16:45:24.052Z"
   },
   {
    "duration": 3,
    "start_time": "2023-09-17T16:45:24.209Z"
   },
   {
    "duration": 14,
    "start_time": "2023-09-17T16:45:24.214Z"
   },
   {
    "duration": 17,
    "start_time": "2023-09-17T16:45:24.230Z"
   },
   {
    "duration": 8,
    "start_time": "2023-09-17T16:45:24.250Z"
   },
   {
    "duration": 27,
    "start_time": "2023-09-17T16:45:24.260Z"
   },
   {
    "duration": 239,
    "start_time": "2023-09-17T16:45:24.289Z"
   },
   {
    "duration": 199,
    "start_time": "2023-09-17T16:45:24.530Z"
   },
   {
    "duration": 5,
    "start_time": "2023-09-17T16:46:37.250Z"
   },
   {
    "duration": 14,
    "start_time": "2023-09-17T16:46:39.914Z"
   },
   {
    "duration": 4,
    "start_time": "2023-09-17T16:46:59.357Z"
   },
   {
    "duration": 7,
    "start_time": "2023-09-17T16:46:59.919Z"
   },
   {
    "duration": 33799,
    "start_time": "2023-09-17T16:47:00.365Z"
   },
   {
    "duration": 33100,
    "start_time": "2023-09-17T17:03:49.605Z"
   },
   {
    "duration": 33003,
    "start_time": "2023-09-17T17:04:46.459Z"
   },
   {
    "duration": 34,
    "start_time": "2023-09-17T17:09:59.692Z"
   },
   {
    "duration": 7,
    "start_time": "2023-09-17T17:10:53.698Z"
   },
   {
    "duration": 35,
    "start_time": "2023-09-17T17:11:29.896Z"
   },
   {
    "duration": 93,
    "start_time": "2023-09-17T17:11:50.735Z"
   },
   {
    "duration": 17,
    "start_time": "2023-09-17T17:18:58.710Z"
   },
   {
    "duration": 17,
    "start_time": "2023-09-17T17:19:33.593Z"
   },
   {
    "duration": 177,
    "start_time": "2023-09-17T17:20:48.851Z"
   },
   {
    "duration": 223,
    "start_time": "2023-09-17T17:21:15.677Z"
   },
   {
    "duration": 70,
    "start_time": "2023-09-17T17:21:39.973Z"
   },
   {
    "duration": 125,
    "start_time": "2023-09-17T17:25:17.610Z"
   },
   {
    "duration": 24,
    "start_time": "2023-09-17T17:25:27.907Z"
   },
   {
    "duration": 1654,
    "start_time": "2023-09-17T17:32:23.823Z"
   },
   {
    "duration": 43,
    "start_time": "2023-09-17T17:32:25.480Z"
   },
   {
    "duration": 18,
    "start_time": "2023-09-17T17:32:25.525Z"
   },
   {
    "duration": 11,
    "start_time": "2023-09-17T17:32:25.546Z"
   },
   {
    "duration": 10,
    "start_time": "2023-09-17T17:32:25.559Z"
   },
   {
    "duration": 7,
    "start_time": "2023-09-17T17:32:25.571Z"
   },
   {
    "duration": 18,
    "start_time": "2023-09-17T17:32:25.580Z"
   },
   {
    "duration": 7,
    "start_time": "2023-09-17T17:32:25.624Z"
   },
   {
    "duration": 23,
    "start_time": "2023-09-17T17:32:25.633Z"
   },
   {
    "duration": 6,
    "start_time": "2023-09-17T17:32:25.659Z"
   },
   {
    "duration": 21,
    "start_time": "2023-09-17T17:32:25.667Z"
   },
   {
    "duration": 34,
    "start_time": "2023-09-17T17:32:25.690Z"
   },
   {
    "duration": 14,
    "start_time": "2023-09-17T17:32:25.726Z"
   },
   {
    "duration": 8,
    "start_time": "2023-09-17T17:32:25.742Z"
   },
   {
    "duration": 402,
    "start_time": "2023-09-17T17:32:25.752Z"
   },
   {
    "duration": 757,
    "start_time": "2023-09-17T17:32:26.156Z"
   },
   {
    "duration": 9,
    "start_time": "2023-09-17T17:32:26.916Z"
   },
   {
    "duration": 15,
    "start_time": "2023-09-17T17:32:26.927Z"
   },
   {
    "duration": 248,
    "start_time": "2023-09-17T17:32:26.944Z"
   },
   {
    "duration": 3,
    "start_time": "2023-09-17T17:32:27.194Z"
   },
   {
    "duration": 10,
    "start_time": "2023-09-17T17:32:27.199Z"
   },
   {
    "duration": 12,
    "start_time": "2023-09-17T17:32:27.225Z"
   },
   {
    "duration": 17,
    "start_time": "2023-09-17T17:32:27.239Z"
   },
   {
    "duration": 101,
    "start_time": "2023-09-17T17:32:27.258Z"
   },
   {
    "duration": 164,
    "start_time": "2023-09-17T17:32:27.362Z"
   },
   {
    "duration": 373,
    "start_time": "2023-09-17T17:32:27.528Z"
   },
   {
    "duration": 0,
    "start_time": "2023-09-17T17:32:27.903Z"
   },
   {
    "duration": 0,
    "start_time": "2023-09-17T17:32:27.904Z"
   },
   {
    "duration": 158,
    "start_time": "2023-09-17T17:44:03.477Z"
   },
   {
    "duration": 170,
    "start_time": "2023-09-17T17:45:05.725Z"
   },
   {
    "duration": 10,
    "start_time": "2023-09-17T17:47:51.245Z"
   },
   {
    "duration": 24,
    "start_time": "2023-09-17T17:48:44.317Z"
   },
   {
    "duration": 15,
    "start_time": "2023-09-17T17:50:13.903Z"
   },
   {
    "duration": 127,
    "start_time": "2023-09-17T17:50:48.987Z"
   },
   {
    "duration": 28198,
    "start_time": "2023-09-17T17:52:26.267Z"
   },
   {
    "duration": 28070,
    "start_time": "2023-09-17T17:52:59.616Z"
   },
   {
    "duration": 28083,
    "start_time": "2023-09-17T17:53:35.751Z"
   },
   {
    "duration": 238393,
    "start_time": "2023-09-17T17:56:28.116Z"
   },
   {
    "duration": 27,
    "start_time": "2023-09-17T18:00:26.511Z"
   },
   {
    "duration": 1670,
    "start_time": "2023-09-17T18:01:17.194Z"
   },
   {
    "duration": 47,
    "start_time": "2023-09-17T18:01:18.866Z"
   },
   {
    "duration": 20,
    "start_time": "2023-09-17T18:01:18.915Z"
   },
   {
    "duration": 16,
    "start_time": "2023-09-17T18:01:18.938Z"
   },
   {
    "duration": 19,
    "start_time": "2023-09-17T18:01:18.956Z"
   },
   {
    "duration": 11,
    "start_time": "2023-09-17T18:01:18.977Z"
   },
   {
    "duration": 27,
    "start_time": "2023-09-17T18:01:18.990Z"
   },
   {
    "duration": 24,
    "start_time": "2023-09-17T18:01:19.019Z"
   },
   {
    "duration": 31,
    "start_time": "2023-09-17T18:01:19.046Z"
   },
   {
    "duration": 7,
    "start_time": "2023-09-17T18:01:19.081Z"
   },
   {
    "duration": 14,
    "start_time": "2023-09-17T18:01:19.090Z"
   },
   {
    "duration": 12,
    "start_time": "2023-09-17T18:01:19.107Z"
   },
   {
    "duration": 22,
    "start_time": "2023-09-17T18:01:19.121Z"
   },
   {
    "duration": 24,
    "start_time": "2023-09-17T18:01:19.145Z"
   },
   {
    "duration": 347,
    "start_time": "2023-09-17T18:01:19.171Z"
   },
   {
    "duration": 866,
    "start_time": "2023-09-17T18:01:19.520Z"
   },
   {
    "duration": 2,
    "start_time": "2023-09-17T18:01:20.389Z"
   },
   {
    "duration": 203,
    "start_time": "2023-09-17T18:01:20.393Z"
   },
   {
    "duration": 187,
    "start_time": "2023-09-17T18:01:20.597Z"
   },
   {
    "duration": 3,
    "start_time": "2023-09-17T18:01:20.786Z"
   },
   {
    "duration": 52,
    "start_time": "2023-09-17T18:01:20.790Z"
   },
   {
    "duration": 125,
    "start_time": "2023-09-17T18:01:20.844Z"
   },
   {
    "duration": 162,
    "start_time": "2023-09-17T18:01:20.971Z"
   },
   {
    "duration": 154,
    "start_time": "2023-09-17T18:01:21.135Z"
   },
   {
    "duration": 34,
    "start_time": "2023-09-17T18:01:21.291Z"
   },
   {
    "duration": 120777,
    "start_time": "2023-09-17T18:01:21.327Z"
   },
   {
    "duration": 185,
    "start_time": "2023-09-17T18:03:22.107Z"
   },
   {
    "duration": 988,
    "start_time": "2023-09-17T18:04:59.761Z"
   },
   {
    "duration": 21278,
    "start_time": "2023-09-17T18:05:28.101Z"
   },
   {
    "duration": 1619,
    "start_time": "2023-09-17T18:07:17.482Z"
   },
   {
    "duration": 64,
    "start_time": "2023-09-17T18:07:19.103Z"
   },
   {
    "duration": 12,
    "start_time": "2023-09-17T18:07:19.168Z"
   },
   {
    "duration": 33,
    "start_time": "2023-09-17T18:07:19.182Z"
   },
   {
    "duration": 33,
    "start_time": "2023-09-17T18:07:19.218Z"
   },
   {
    "duration": 23,
    "start_time": "2023-09-17T18:07:19.253Z"
   },
   {
    "duration": 33,
    "start_time": "2023-09-17T18:07:19.277Z"
   },
   {
    "duration": 53,
    "start_time": "2023-09-17T18:07:19.312Z"
   },
   {
    "duration": 42,
    "start_time": "2023-09-17T18:07:19.367Z"
   },
   {
    "duration": 11,
    "start_time": "2023-09-17T18:07:19.411Z"
   },
   {
    "duration": 40,
    "start_time": "2023-09-17T18:07:19.423Z"
   },
   {
    "duration": 26,
    "start_time": "2023-09-17T18:07:19.465Z"
   },
   {
    "duration": 21,
    "start_time": "2023-09-17T18:07:19.493Z"
   },
   {
    "duration": 3,
    "start_time": "2023-09-17T18:07:19.517Z"
   },
   {
    "duration": 357,
    "start_time": "2023-09-17T18:07:19.521Z"
   },
   {
    "duration": 820,
    "start_time": "2023-09-17T18:07:19.879Z"
   },
   {
    "duration": 2,
    "start_time": "2023-09-17T18:07:20.701Z"
   },
   {
    "duration": 45,
    "start_time": "2023-09-17T18:07:20.705Z"
   },
   {
    "duration": 160,
    "start_time": "2023-09-17T18:07:20.752Z"
   },
   {
    "duration": 2,
    "start_time": "2023-09-17T18:07:20.915Z"
   },
   {
    "duration": 31,
    "start_time": "2023-09-17T18:07:20.926Z"
   },
   {
    "duration": 33,
    "start_time": "2023-09-17T18:07:20.959Z"
   },
   {
    "duration": 37,
    "start_time": "2023-09-17T18:07:20.994Z"
   },
   {
    "duration": 33,
    "start_time": "2023-09-17T18:07:21.033Z"
   },
   {
    "duration": 18,
    "start_time": "2023-09-17T18:07:21.067Z"
   },
   {
    "duration": 64,
    "start_time": "2023-09-17T18:07:21.086Z"
   },
   {
    "duration": 93738,
    "start_time": "2023-09-17T18:07:21.227Z"
   },
   {
    "duration": 17005,
    "start_time": "2023-09-17T18:08:54.967Z"
   },
   {
    "duration": 1628,
    "start_time": "2023-09-17T18:11:58.882Z"
   },
   {
    "duration": 81,
    "start_time": "2023-09-17T18:12:00.512Z"
   },
   {
    "duration": 176,
    "start_time": "2023-09-17T18:12:00.595Z"
   },
   {
    "duration": 299,
    "start_time": "2023-09-17T18:12:00.773Z"
   },
   {
    "duration": 46,
    "start_time": "2023-09-17T18:12:01.074Z"
   },
   {
    "duration": 89,
    "start_time": "2023-09-17T18:12:01.122Z"
   },
   {
    "duration": 97,
    "start_time": "2023-09-17T18:12:01.212Z"
   },
   {
    "duration": 26,
    "start_time": "2023-09-17T18:12:01.311Z"
   },
   {
    "duration": 32,
    "start_time": "2023-09-17T18:12:01.339Z"
   },
   {
    "duration": 7,
    "start_time": "2023-09-17T18:12:01.372Z"
   },
   {
    "duration": 37,
    "start_time": "2023-09-17T18:12:01.381Z"
   },
   {
    "duration": 56,
    "start_time": "2023-09-17T18:12:01.420Z"
   },
   {
    "duration": 33,
    "start_time": "2023-09-17T18:12:01.478Z"
   },
   {
    "duration": 21,
    "start_time": "2023-09-17T18:12:01.514Z"
   },
   {
    "duration": 419,
    "start_time": "2023-09-17T18:12:01.537Z"
   },
   {
    "duration": 966,
    "start_time": "2023-09-17T18:12:01.958Z"
   },
   {
    "duration": 3,
    "start_time": "2023-09-17T18:12:02.925Z"
   },
   {
    "duration": 179,
    "start_time": "2023-09-17T18:12:02.930Z"
   },
   {
    "duration": 190,
    "start_time": "2023-09-17T18:12:03.111Z"
   },
   {
    "duration": 2,
    "start_time": "2023-09-17T18:12:03.303Z"
   },
   {
    "duration": 58,
    "start_time": "2023-09-17T18:12:03.306Z"
   },
   {
    "duration": 28,
    "start_time": "2023-09-17T18:12:03.366Z"
   },
   {
    "duration": 41,
    "start_time": "2023-09-17T18:12:03.396Z"
   },
   {
    "duration": 35,
    "start_time": "2023-09-17T18:12:03.439Z"
   },
   {
    "duration": 23,
    "start_time": "2023-09-17T18:12:03.475Z"
   },
   {
    "duration": 39,
    "start_time": "2023-09-17T18:12:03.500Z"
   },
   {
    "duration": 90,
    "start_time": "2023-09-17T18:12:03.541Z"
   },
   {
    "duration": 92318,
    "start_time": "2023-09-17T18:12:03.633Z"
   },
   {
    "duration": 17480,
    "start_time": "2023-09-17T18:13:35.955Z"
   },
   {
    "duration": 145,
    "start_time": "2023-09-17T18:14:22.953Z"
   },
   {
    "duration": 90620,
    "start_time": "2023-09-17T18:14:54.604Z"
   },
   {
    "duration": 90364,
    "start_time": "2023-09-17T18:21:26.699Z"
   },
   {
    "duration": 15,
    "start_time": "2023-09-17T18:30:53.051Z"
   },
   {
    "duration": 18,
    "start_time": "2023-09-17T18:33:46.345Z"
   },
   {
    "duration": 9,
    "start_time": "2023-09-17T18:36:18.374Z"
   },
   {
    "duration": 8,
    "start_time": "2023-09-17T18:37:05.207Z"
   },
   {
    "duration": 12,
    "start_time": "2023-09-17T18:37:14.993Z"
   },
   {
    "duration": 12,
    "start_time": "2023-09-17T18:43:56.338Z"
   },
   {
    "duration": 13136,
    "start_time": "2023-09-17T18:44:13.738Z"
   },
   {
    "duration": 13429,
    "start_time": "2023-09-17T18:44:36.225Z"
   },
   {
    "duration": 1541,
    "start_time": "2023-09-17T18:55:51.104Z"
   },
   {
    "duration": 43,
    "start_time": "2023-09-17T18:55:52.647Z"
   },
   {
    "duration": 13,
    "start_time": "2023-09-17T18:55:52.692Z"
   },
   {
    "duration": 10,
    "start_time": "2023-09-17T18:55:52.707Z"
   },
   {
    "duration": 9,
    "start_time": "2023-09-17T18:55:52.719Z"
   },
   {
    "duration": 6,
    "start_time": "2023-09-17T18:55:52.730Z"
   },
   {
    "duration": 10,
    "start_time": "2023-09-17T18:55:52.738Z"
   },
   {
    "duration": 11,
    "start_time": "2023-09-17T18:55:52.750Z"
   },
   {
    "duration": 17,
    "start_time": "2023-09-17T18:55:52.762Z"
   },
   {
    "duration": 7,
    "start_time": "2023-09-17T18:55:52.780Z"
   },
   {
    "duration": 42,
    "start_time": "2023-09-17T18:55:52.789Z"
   },
   {
    "duration": 12,
    "start_time": "2023-09-17T18:55:52.833Z"
   },
   {
    "duration": 12,
    "start_time": "2023-09-17T18:55:52.847Z"
   },
   {
    "duration": 31,
    "start_time": "2023-09-17T18:55:52.862Z"
   },
   {
    "duration": 327,
    "start_time": "2023-09-17T18:55:52.895Z"
   },
   {
    "duration": 809,
    "start_time": "2023-09-17T18:55:53.224Z"
   },
   {
    "duration": 3,
    "start_time": "2023-09-17T18:55:54.035Z"
   },
   {
    "duration": 36,
    "start_time": "2023-09-17T18:55:54.039Z"
   },
   {
    "duration": 170,
    "start_time": "2023-09-17T18:55:54.077Z"
   },
   {
    "duration": 2,
    "start_time": "2023-09-17T18:55:54.249Z"
   },
   {
    "duration": 34,
    "start_time": "2023-09-17T18:55:54.253Z"
   },
   {
    "duration": 19,
    "start_time": "2023-09-17T18:55:54.288Z"
   },
   {
    "duration": 40,
    "start_time": "2023-09-17T18:55:54.309Z"
   },
   {
    "duration": 44,
    "start_time": "2023-09-17T18:55:54.350Z"
   },
   {
    "duration": 9,
    "start_time": "2023-09-17T18:55:54.396Z"
   },
   {
    "duration": 34,
    "start_time": "2023-09-17T18:55:54.407Z"
   },
   {
    "duration": 248,
    "start_time": "2023-09-17T18:55:54.443Z"
   },
   {
    "duration": 0,
    "start_time": "2023-09-17T18:55:54.692Z"
   },
   {
    "duration": 0,
    "start_time": "2023-09-17T18:55:54.693Z"
   },
   {
    "duration": 0,
    "start_time": "2023-09-17T18:55:54.695Z"
   },
   {
    "duration": 0,
    "start_time": "2023-09-17T18:55:54.696Z"
   },
   {
    "duration": 0,
    "start_time": "2023-09-17T18:55:54.697Z"
   },
   {
    "duration": 146,
    "start_time": "2023-09-17T18:57:04.779Z"
   },
   {
    "duration": 13,
    "start_time": "2023-09-17T18:57:33.145Z"
   },
   {
    "duration": 1643,
    "start_time": "2023-09-17T18:57:46.047Z"
   },
   {
    "duration": 52,
    "start_time": "2023-09-17T18:57:47.693Z"
   },
   {
    "duration": 17,
    "start_time": "2023-09-17T18:57:47.761Z"
   },
   {
    "duration": 13,
    "start_time": "2023-09-17T18:57:47.781Z"
   },
   {
    "duration": 13,
    "start_time": "2023-09-17T18:57:47.796Z"
   },
   {
    "duration": 14,
    "start_time": "2023-09-17T18:57:47.812Z"
   },
   {
    "duration": 12,
    "start_time": "2023-09-17T18:57:47.828Z"
   },
   {
    "duration": 7,
    "start_time": "2023-09-17T18:57:47.842Z"
   },
   {
    "duration": 13,
    "start_time": "2023-09-17T18:57:47.851Z"
   },
   {
    "duration": 7,
    "start_time": "2023-09-17T18:57:47.867Z"
   },
   {
    "duration": 14,
    "start_time": "2023-09-17T18:57:47.876Z"
   },
   {
    "duration": 12,
    "start_time": "2023-09-17T18:57:47.925Z"
   },
   {
    "duration": 9,
    "start_time": "2023-09-17T18:57:47.938Z"
   },
   {
    "duration": 4,
    "start_time": "2023-09-17T18:57:47.949Z"
   },
   {
    "duration": 348,
    "start_time": "2023-09-17T18:57:47.954Z"
   },
   {
    "duration": 799,
    "start_time": "2023-09-17T18:57:48.304Z"
   },
   {
    "duration": 2,
    "start_time": "2023-09-17T18:57:49.105Z"
   },
   {
    "duration": 22,
    "start_time": "2023-09-17T18:57:49.109Z"
   },
   {
    "duration": 156,
    "start_time": "2023-09-17T18:57:49.132Z"
   },
   {
    "duration": 2,
    "start_time": "2023-09-17T18:57:49.290Z"
   },
   {
    "duration": 10,
    "start_time": "2023-09-17T18:57:49.294Z"
   },
   {
    "duration": 37,
    "start_time": "2023-09-17T18:57:49.305Z"
   },
   {
    "duration": 9,
    "start_time": "2023-09-17T18:57:49.343Z"
   },
   {
    "duration": 16,
    "start_time": "2023-09-17T18:57:49.354Z"
   },
   {
    "duration": 8,
    "start_time": "2023-09-17T18:57:49.372Z"
   },
   {
    "duration": 5,
    "start_time": "2023-09-17T18:57:49.382Z"
   },
   {
    "duration": 48,
    "start_time": "2023-09-17T18:57:49.389Z"
   },
   {
    "duration": 86578,
    "start_time": "2023-09-17T18:57:49.440Z"
   },
   {
    "duration": 14712,
    "start_time": "2023-09-17T18:59:16.020Z"
   },
   {
    "duration": 89638,
    "start_time": "2023-09-17T18:59:30.734Z"
   },
   {
    "duration": 127,
    "start_time": "2023-09-17T19:01:00.374Z"
   },
   {
    "duration": 0,
    "start_time": "2023-09-17T19:01:00.502Z"
   },
   {
    "duration": 13,
    "start_time": "2023-09-17T19:03:08.489Z"
   },
   {
    "duration": 11,
    "start_time": "2023-09-17T19:03:37.505Z"
   },
   {
    "duration": 13932,
    "start_time": "2023-09-17T19:03:39.343Z"
   },
   {
    "duration": 38726,
    "start_time": "2023-09-17T19:04:53.205Z"
   },
   {
    "duration": 37924,
    "start_time": "2023-09-17T19:09:39.056Z"
   },
   {
    "duration": 1510,
    "start_time": "2023-09-17T19:10:28.652Z"
   },
   {
    "duration": 44,
    "start_time": "2023-09-17T19:10:30.164Z"
   },
   {
    "duration": 16,
    "start_time": "2023-09-17T19:10:30.210Z"
   },
   {
    "duration": 95,
    "start_time": "2023-09-17T19:10:30.235Z"
   },
   {
    "duration": 86,
    "start_time": "2023-09-17T19:10:30.333Z"
   },
   {
    "duration": 182,
    "start_time": "2023-09-17T19:10:30.421Z"
   },
   {
    "duration": 130,
    "start_time": "2023-09-17T19:10:30.606Z"
   },
   {
    "duration": 50,
    "start_time": "2023-09-17T19:10:30.738Z"
   },
   {
    "duration": 70,
    "start_time": "2023-09-17T19:10:30.790Z"
   },
   {
    "duration": 59,
    "start_time": "2023-09-17T19:10:30.862Z"
   },
   {
    "duration": 67,
    "start_time": "2023-09-17T19:10:30.923Z"
   },
   {
    "duration": 52,
    "start_time": "2023-09-17T19:10:30.992Z"
   },
   {
    "duration": 46,
    "start_time": "2023-09-17T19:10:31.046Z"
   },
   {
    "duration": 54,
    "start_time": "2023-09-17T19:10:31.095Z"
   },
   {
    "duration": 451,
    "start_time": "2023-09-17T19:10:31.151Z"
   },
   {
    "duration": 873,
    "start_time": "2023-09-17T19:10:31.604Z"
   },
   {
    "duration": 3,
    "start_time": "2023-09-17T19:10:32.480Z"
   },
   {
    "duration": 268,
    "start_time": "2023-09-17T19:10:32.485Z"
   },
   {
    "duration": 281,
    "start_time": "2023-09-17T19:10:32.755Z"
   },
   {
    "duration": 12,
    "start_time": "2023-09-17T19:10:33.040Z"
   },
   {
    "duration": 24,
    "start_time": "2023-09-17T19:10:33.054Z"
   },
   {
    "duration": 68,
    "start_time": "2023-09-17T19:10:33.080Z"
   },
   {
    "duration": 14,
    "start_time": "2023-09-17T19:10:33.150Z"
   },
   {
    "duration": 44,
    "start_time": "2023-09-17T19:10:33.166Z"
   },
   {
    "duration": 29,
    "start_time": "2023-09-17T19:10:33.212Z"
   },
   {
    "duration": 24,
    "start_time": "2023-09-17T19:10:33.243Z"
   },
   {
    "duration": 54,
    "start_time": "2023-09-17T19:10:33.269Z"
   },
   {
    "duration": 93270,
    "start_time": "2023-09-17T19:10:33.325Z"
   },
   {
    "duration": 38428,
    "start_time": "2023-09-17T19:12:06.597Z"
   },
   {
    "duration": 1564,
    "start_time": "2023-09-17T19:13:26.958Z"
   },
   {
    "duration": 56,
    "start_time": "2023-09-17T19:13:28.524Z"
   },
   {
    "duration": 14,
    "start_time": "2023-09-17T19:13:28.582Z"
   },
   {
    "duration": 34,
    "start_time": "2023-09-17T19:13:28.597Z"
   },
   {
    "duration": 23,
    "start_time": "2023-09-17T19:13:28.634Z"
   },
   {
    "duration": 19,
    "start_time": "2023-09-17T19:13:28.660Z"
   },
   {
    "duration": 23,
    "start_time": "2023-09-17T19:13:28.681Z"
   },
   {
    "duration": 16,
    "start_time": "2023-09-17T19:13:28.705Z"
   },
   {
    "duration": 41,
    "start_time": "2023-09-17T19:13:28.722Z"
   },
   {
    "duration": 19,
    "start_time": "2023-09-17T19:13:28.765Z"
   },
   {
    "duration": 22,
    "start_time": "2023-09-17T19:13:28.786Z"
   },
   {
    "duration": 40,
    "start_time": "2023-09-17T19:13:28.810Z"
   },
   {
    "duration": 62,
    "start_time": "2023-09-17T19:13:28.852Z"
   },
   {
    "duration": 38,
    "start_time": "2023-09-17T19:13:28.918Z"
   },
   {
    "duration": 381,
    "start_time": "2023-09-17T19:13:28.959Z"
   },
   {
    "duration": 843,
    "start_time": "2023-09-17T19:13:29.343Z"
   },
   {
    "duration": 2,
    "start_time": "2023-09-17T19:13:30.188Z"
   },
   {
    "duration": 106,
    "start_time": "2023-09-17T19:13:30.192Z"
   },
   {
    "duration": 316,
    "start_time": "2023-09-17T19:13:30.300Z"
   },
   {
    "duration": 14,
    "start_time": "2023-09-17T19:13:30.617Z"
   },
   {
    "duration": 122,
    "start_time": "2023-09-17T19:13:30.633Z"
   },
   {
    "duration": 106,
    "start_time": "2023-09-17T19:13:30.758Z"
   },
   {
    "duration": 89,
    "start_time": "2023-09-17T19:13:30.866Z"
   },
   {
    "duration": 339,
    "start_time": "2023-09-17T19:13:30.958Z"
   },
   {
    "duration": 0,
    "start_time": "2023-09-17T19:13:31.298Z"
   },
   {
    "duration": 0,
    "start_time": "2023-09-17T19:13:31.300Z"
   },
   {
    "duration": 0,
    "start_time": "2023-09-17T19:13:31.301Z"
   },
   {
    "duration": 0,
    "start_time": "2023-09-17T19:13:31.302Z"
   },
   {
    "duration": 0,
    "start_time": "2023-09-17T19:13:31.303Z"
   },
   {
    "duration": 20,
    "start_time": "2023-09-17T19:14:06.171Z"
   },
   {
    "duration": 11,
    "start_time": "2023-09-17T19:14:08.641Z"
   },
   {
    "duration": 4,
    "start_time": "2023-09-17T19:14:10.552Z"
   },
   {
    "duration": 125,
    "start_time": "2023-09-17T19:14:12.223Z"
   },
   {
    "duration": 92756,
    "start_time": "2023-09-17T19:14:17.775Z"
   },
   {
    "duration": 37809,
    "start_time": "2023-09-17T19:15:50.540Z"
   },
   {
    "duration": 92920,
    "start_time": "2023-09-17T19:16:28.352Z"
   },
   {
    "duration": 10,
    "start_time": "2023-09-17T19:18:01.273Z"
   },
   {
    "duration": 38088,
    "start_time": "2023-09-17T19:18:01.285Z"
   },
   {
    "duration": 222,
    "start_time": "2023-09-17T19:20:04.758Z"
   },
   {
    "duration": 236,
    "start_time": "2023-09-17T19:20:12.071Z"
   },
   {
    "duration": 191,
    "start_time": "2023-09-17T19:20:18.283Z"
   },
   {
    "duration": 255,
    "start_time": "2023-09-17T19:20:23.287Z"
   },
   {
    "duration": 2363,
    "start_time": "2023-09-17T19:21:49.302Z"
   },
   {
    "duration": 86,
    "start_time": "2023-09-17T19:22:38.143Z"
   },
   {
    "duration": 1650,
    "start_time": "2023-09-17T19:23:31.235Z"
   },
   {
    "duration": 49,
    "start_time": "2023-09-17T19:23:32.887Z"
   },
   {
    "duration": 370,
    "start_time": "2023-09-17T19:23:32.939Z"
   },
   {
    "duration": 273,
    "start_time": "2023-09-17T19:23:33.310Z"
   },
   {
    "duration": 462,
    "start_time": "2023-09-17T19:23:33.586Z"
   },
   {
    "duration": 112,
    "start_time": "2023-09-17T19:23:34.050Z"
   },
   {
    "duration": 116,
    "start_time": "2023-09-17T19:23:34.164Z"
   },
   {
    "duration": 173,
    "start_time": "2023-09-17T19:23:34.281Z"
   },
   {
    "duration": 143,
    "start_time": "2023-09-17T19:23:34.455Z"
   },
   {
    "duration": 143,
    "start_time": "2023-09-17T19:23:34.599Z"
   },
   {
    "duration": 80,
    "start_time": "2023-09-17T19:23:34.744Z"
   },
   {
    "duration": 77,
    "start_time": "2023-09-17T19:23:34.826Z"
   },
   {
    "duration": 73,
    "start_time": "2023-09-17T19:23:34.904Z"
   },
   {
    "duration": 229,
    "start_time": "2023-09-17T19:23:34.980Z"
   },
   {
    "duration": 688,
    "start_time": "2023-09-17T19:23:35.210Z"
   },
   {
    "duration": 868,
    "start_time": "2023-09-17T19:23:35.900Z"
   },
   {
    "duration": 2,
    "start_time": "2023-09-17T19:23:36.770Z"
   },
   {
    "duration": 279,
    "start_time": "2023-09-17T19:23:36.774Z"
   },
   {
    "duration": 234,
    "start_time": "2023-09-17T19:23:37.055Z"
   },
   {
    "duration": 3,
    "start_time": "2023-09-17T19:23:37.290Z"
   },
   {
    "duration": 127,
    "start_time": "2023-09-17T19:23:37.294Z"
   },
   {
    "duration": 117,
    "start_time": "2023-09-17T19:23:37.422Z"
   },
   {
    "duration": 53,
    "start_time": "2023-09-17T19:23:37.542Z"
   },
   {
    "duration": 328,
    "start_time": "2023-09-17T19:23:37.597Z"
   },
   {
    "duration": 92272,
    "start_time": "2023-09-17T19:23:37.928Z"
   },
   {
    "duration": 37566,
    "start_time": "2023-09-17T19:25:10.202Z"
   },
   {
    "duration": 9741,
    "start_time": "2023-09-17T19:25:47.770Z"
   },
   {
    "duration": 87599,
    "start_time": "2023-09-17T19:25:57.514Z"
   },
   {
    "duration": 19,
    "start_time": "2023-09-17T19:27:25.114Z"
   },
   {
    "duration": 33216,
    "start_time": "2023-09-17T19:27:25.135Z"
   },
   {
    "duration": 2352,
    "start_time": "2023-09-17T19:27:58.352Z"
   },
   {
    "duration": 5,
    "start_time": "2023-09-17T19:28:50.171Z"
   },
   {
    "duration": 1503,
    "start_time": "2023-09-17T19:31:45.384Z"
   },
   {
    "duration": 55,
    "start_time": "2023-09-17T19:31:46.889Z"
   },
   {
    "duration": 14,
    "start_time": "2023-09-17T19:31:46.945Z"
   },
   {
    "duration": 15,
    "start_time": "2023-09-17T19:31:46.960Z"
   },
   {
    "duration": 9,
    "start_time": "2023-09-17T19:31:46.977Z"
   },
   {
    "duration": 7,
    "start_time": "2023-09-17T19:31:46.988Z"
   },
   {
    "duration": 8,
    "start_time": "2023-09-17T19:31:46.996Z"
   },
   {
    "duration": 31,
    "start_time": "2023-09-17T19:31:47.006Z"
   },
   {
    "duration": 13,
    "start_time": "2023-09-17T19:31:47.039Z"
   },
   {
    "duration": 6,
    "start_time": "2023-09-17T19:31:47.053Z"
   },
   {
    "duration": 25,
    "start_time": "2023-09-17T19:31:47.060Z"
   },
   {
    "duration": 12,
    "start_time": "2023-09-17T19:31:47.086Z"
   },
   {
    "duration": 7,
    "start_time": "2023-09-17T19:31:47.100Z"
   },
   {
    "duration": 6,
    "start_time": "2023-09-17T19:31:47.125Z"
   },
   {
    "duration": 330,
    "start_time": "2023-09-17T19:31:47.136Z"
   },
   {
    "duration": 790,
    "start_time": "2023-09-17T19:31:47.468Z"
   },
   {
    "duration": 2,
    "start_time": "2023-09-17T19:31:48.259Z"
   },
   {
    "duration": 13,
    "start_time": "2023-09-17T19:31:48.263Z"
   },
   {
    "duration": 163,
    "start_time": "2023-09-17T19:31:48.277Z"
   },
   {
    "duration": 3,
    "start_time": "2023-09-17T19:31:48.442Z"
   },
   {
    "duration": 21,
    "start_time": "2023-09-17T19:31:48.447Z"
   },
   {
    "duration": 9,
    "start_time": "2023-09-17T19:31:48.470Z"
   },
   {
    "duration": 4,
    "start_time": "2023-09-17T19:31:48.481Z"
   },
   {
    "duration": 45,
    "start_time": "2023-09-17T19:31:48.487Z"
   },
   {
    "duration": 87282,
    "start_time": "2023-09-17T19:31:48.534Z"
   },
   {
    "duration": 33024,
    "start_time": "2023-09-17T19:33:15.818Z"
   },
   {
    "duration": 8148,
    "start_time": "2023-09-17T19:33:48.843Z"
   },
   {
    "duration": 87566,
    "start_time": "2023-09-17T19:33:56.993Z"
   },
   {
    "duration": 9,
    "start_time": "2023-09-17T19:35:24.561Z"
   },
   {
    "duration": 29392,
    "start_time": "2023-09-17T19:35:24.572Z"
   },
   {
    "duration": 2121,
    "start_time": "2023-09-17T19:35:53.966Z"
   },
   {
    "duration": 4,
    "start_time": "2023-09-17T19:35:56.089Z"
   },
   {
    "duration": 1707,
    "start_time": "2023-09-18T04:22:48.168Z"
   },
   {
    "duration": 113,
    "start_time": "2023-09-18T04:22:49.877Z"
   },
   {
    "duration": 14,
    "start_time": "2023-09-18T04:22:49.992Z"
   },
   {
    "duration": 25,
    "start_time": "2023-09-18T04:22:50.007Z"
   },
   {
    "duration": 33,
    "start_time": "2023-09-18T04:22:50.034Z"
   },
   {
    "duration": 21,
    "start_time": "2023-09-18T04:22:50.068Z"
   },
   {
    "duration": 16,
    "start_time": "2023-09-18T04:22:50.090Z"
   },
   {
    "duration": 16,
    "start_time": "2023-09-18T04:22:50.107Z"
   },
   {
    "duration": 40,
    "start_time": "2023-09-18T04:22:50.124Z"
   },
   {
    "duration": 15,
    "start_time": "2023-09-18T04:22:50.166Z"
   },
   {
    "duration": 27,
    "start_time": "2023-09-18T04:22:50.182Z"
   },
   {
    "duration": 15,
    "start_time": "2023-09-18T04:22:50.211Z"
   },
   {
    "duration": 18,
    "start_time": "2023-09-18T04:22:50.228Z"
   },
   {
    "duration": 17,
    "start_time": "2023-09-18T04:22:50.249Z"
   },
   {
    "duration": 334,
    "start_time": "2023-09-18T04:22:50.268Z"
   },
   {
    "duration": 833,
    "start_time": "2023-09-18T04:22:50.603Z"
   },
   {
    "duration": 3,
    "start_time": "2023-09-18T04:22:51.437Z"
   },
   {
    "duration": 28,
    "start_time": "2023-09-18T04:22:51.441Z"
   },
   {
    "duration": 169,
    "start_time": "2023-09-18T04:22:51.471Z"
   },
   {
    "duration": 2,
    "start_time": "2023-09-18T04:22:51.641Z"
   },
   {
    "duration": 91,
    "start_time": "2023-09-18T04:22:51.645Z"
   },
   {
    "duration": 12,
    "start_time": "2023-09-18T04:22:51.738Z"
   },
   {
    "duration": 40,
    "start_time": "2023-09-18T04:22:51.752Z"
   },
   {
    "duration": 108,
    "start_time": "2023-09-18T04:22:51.794Z"
   },
   {
    "duration": 290924,
    "start_time": "2023-09-18T04:22:51.906Z"
   },
   {
    "duration": 72785,
    "start_time": "2023-09-18T04:27:42.831Z"
   },
   {
    "duration": 24115,
    "start_time": "2023-09-18T04:28:55.618Z"
   },
   {
    "duration": 301630,
    "start_time": "2023-09-18T04:29:19.735Z"
   },
   {
    "duration": 135,
    "start_time": "2023-09-18T04:34:21.367Z"
   },
   {
    "duration": 71917,
    "start_time": "2023-09-18T04:34:21.505Z"
   },
   {
    "duration": 4548,
    "start_time": "2023-09-18T04:35:33.424Z"
   },
   {
    "duration": 5,
    "start_time": "2023-09-18T04:35:37.974Z"
   },
   {
    "duration": 1855,
    "start_time": "2023-09-19T05:21:50.093Z"
   },
   {
    "duration": 117,
    "start_time": "2023-09-19T05:21:51.950Z"
   },
   {
    "duration": 16,
    "start_time": "2023-09-19T05:21:52.069Z"
   },
   {
    "duration": 16,
    "start_time": "2023-09-19T05:21:52.087Z"
   },
   {
    "duration": 16,
    "start_time": "2023-09-19T05:21:52.106Z"
   },
   {
    "duration": 16,
    "start_time": "2023-09-19T05:21:52.124Z"
   },
   {
    "duration": 41,
    "start_time": "2023-09-19T05:21:52.142Z"
   },
   {
    "duration": 20,
    "start_time": "2023-09-19T05:21:52.185Z"
   },
   {
    "duration": 18,
    "start_time": "2023-09-19T05:21:52.208Z"
   },
   {
    "duration": 13,
    "start_time": "2023-09-19T05:21:52.229Z"
   },
   {
    "duration": 33,
    "start_time": "2023-09-19T05:21:52.244Z"
   },
   {
    "duration": 12,
    "start_time": "2023-09-19T05:21:52.280Z"
   },
   {
    "duration": 16,
    "start_time": "2023-09-19T05:21:52.294Z"
   },
   {
    "duration": 29,
    "start_time": "2023-09-19T05:21:52.313Z"
   },
   {
    "duration": 369,
    "start_time": "2023-09-19T05:21:52.345Z"
   },
   {
    "duration": 954,
    "start_time": "2023-09-19T05:21:52.716Z"
   },
   {
    "duration": 3,
    "start_time": "2023-09-19T05:21:53.671Z"
   },
   {
    "duration": 14,
    "start_time": "2023-09-19T05:21:53.676Z"
   },
   {
    "duration": 159,
    "start_time": "2023-09-19T05:21:53.691Z"
   },
   {
    "duration": 3,
    "start_time": "2023-09-19T05:21:53.852Z"
   },
   {
    "duration": 70,
    "start_time": "2023-09-19T05:21:53.857Z"
   },
   {
    "duration": 12,
    "start_time": "2023-09-19T05:21:53.929Z"
   },
   {
    "duration": 27,
    "start_time": "2023-09-19T05:21:53.943Z"
   },
   {
    "duration": 39,
    "start_time": "2023-09-19T05:21:53.972Z"
   },
   {
    "duration": 360,
    "start_time": "2023-09-19T05:21:54.012Z"
   },
   {
    "duration": 185,
    "start_time": "2023-09-19T05:21:54.373Z"
   },
   {
    "duration": 92,
    "start_time": "2023-09-19T05:21:54.560Z"
   },
   {
    "duration": 10650,
    "start_time": "2023-09-19T05:21:54.654Z"
   },
   {
    "duration": 14,
    "start_time": "2023-09-19T05:22:05.305Z"
   },
   {
    "duration": 0,
    "start_time": "2023-09-19T05:22:05.321Z"
   },
   {
    "duration": 0,
    "start_time": "2023-09-19T05:22:05.323Z"
   },
   {
    "duration": 0,
    "start_time": "2023-09-19T05:22:05.324Z"
   },
   {
    "duration": 0,
    "start_time": "2023-09-19T05:22:05.326Z"
   },
   {
    "duration": 0,
    "start_time": "2023-09-19T05:22:05.327Z"
   },
   {
    "duration": 0,
    "start_time": "2023-09-19T05:22:05.329Z"
   },
   {
    "duration": 0,
    "start_time": "2023-09-19T05:22:05.330Z"
   },
   {
    "duration": 0,
    "start_time": "2023-09-19T05:22:05.332Z"
   },
   {
    "duration": 1598,
    "start_time": "2023-09-19T05:25:05.696Z"
   },
   {
    "duration": 45,
    "start_time": "2023-09-19T05:25:07.296Z"
   },
   {
    "duration": 13,
    "start_time": "2023-09-19T05:25:07.343Z"
   },
   {
    "duration": 34,
    "start_time": "2023-09-19T05:25:07.358Z"
   },
   {
    "duration": 44,
    "start_time": "2023-09-19T05:25:07.394Z"
   },
   {
    "duration": 11,
    "start_time": "2023-09-19T05:25:07.440Z"
   },
   {
    "duration": 38,
    "start_time": "2023-09-19T05:25:07.453Z"
   },
   {
    "duration": 27,
    "start_time": "2023-09-19T05:25:07.493Z"
   },
   {
    "duration": 36,
    "start_time": "2023-09-19T05:25:07.522Z"
   },
   {
    "duration": 10,
    "start_time": "2023-09-19T05:25:07.562Z"
   },
   {
    "duration": 26,
    "start_time": "2023-09-19T05:25:07.574Z"
   },
   {
    "duration": 26,
    "start_time": "2023-09-19T05:25:07.602Z"
   },
   {
    "duration": 12,
    "start_time": "2023-09-19T05:25:07.630Z"
   },
   {
    "duration": 20,
    "start_time": "2023-09-19T05:25:07.644Z"
   },
   {
    "duration": 372,
    "start_time": "2023-09-19T05:25:07.666Z"
   },
   {
    "duration": 907,
    "start_time": "2023-09-19T05:25:08.040Z"
   },
   {
    "duration": 3,
    "start_time": "2023-09-19T05:25:08.949Z"
   },
   {
    "duration": 46,
    "start_time": "2023-09-19T05:25:08.954Z"
   },
   {
    "duration": 165,
    "start_time": "2023-09-19T05:25:09.002Z"
   },
   {
    "duration": 2,
    "start_time": "2023-09-19T05:25:09.169Z"
   },
   {
    "duration": 61,
    "start_time": "2023-09-19T05:25:09.172Z"
   },
   {
    "duration": 19,
    "start_time": "2023-09-19T05:25:09.235Z"
   },
   {
    "duration": 15,
    "start_time": "2023-09-19T05:25:09.256Z"
   },
   {
    "duration": 59,
    "start_time": "2023-09-19T05:25:09.273Z"
   },
   {
    "duration": 176,
    "start_time": "2023-09-19T05:25:09.334Z"
   },
   {
    "duration": 305006,
    "start_time": "2023-09-19T05:25:09.513Z"
   },
   {
    "duration": 77321,
    "start_time": "2023-09-19T05:30:14.521Z"
   },
   {
    "duration": 12961,
    "start_time": "2023-09-19T05:31:31.846Z"
   },
   {
    "duration": 25,
    "start_time": "2023-09-19T05:31:44.815Z"
   },
   {
    "duration": 0,
    "start_time": "2023-09-19T05:31:44.842Z"
   },
   {
    "duration": 0,
    "start_time": "2023-09-19T05:31:44.844Z"
   },
   {
    "duration": 0,
    "start_time": "2023-09-19T05:31:44.845Z"
   },
   {
    "duration": 0,
    "start_time": "2023-09-19T05:31:44.847Z"
   },
   {
    "duration": 0,
    "start_time": "2023-09-19T05:31:44.847Z"
   },
   {
    "duration": 0,
    "start_time": "2023-09-19T05:31:44.849Z"
   },
   {
    "duration": 0,
    "start_time": "2023-09-19T05:31:44.850Z"
   },
   {
    "duration": 0,
    "start_time": "2023-09-19T05:31:44.851Z"
   },
   {
    "duration": 12,
    "start_time": "2023-09-19T05:33:24.877Z"
   },
   {
    "duration": 14,
    "start_time": "2023-09-19T05:33:48.766Z"
   },
   {
    "duration": 12,
    "start_time": "2023-09-19T05:34:11.285Z"
   },
   {
    "duration": 15,
    "start_time": "2023-09-19T05:34:19.031Z"
   },
   {
    "duration": 11,
    "start_time": "2023-09-19T05:35:20.827Z"
   },
   {
    "duration": 312523,
    "start_time": "2023-09-19T05:35:50.465Z"
   },
   {
    "duration": 11,
    "start_time": "2023-09-19T05:50:53.600Z"
   },
   {
    "duration": 10,
    "start_time": "2023-09-19T05:51:13.702Z"
   },
   {
    "duration": 285974,
    "start_time": "2023-09-19T05:51:25.116Z"
   },
   {
    "duration": 19,
    "start_time": "2023-09-19T05:56:11.092Z"
   },
   {
    "duration": 0,
    "start_time": "2023-09-19T05:56:11.112Z"
   },
   {
    "duration": 0,
    "start_time": "2023-09-19T05:56:11.113Z"
   },
   {
    "duration": 0,
    "start_time": "2023-09-19T05:56:11.114Z"
   },
   {
    "duration": 0,
    "start_time": "2023-09-19T05:56:11.115Z"
   },
   {
    "duration": 0,
    "start_time": "2023-09-19T05:56:11.116Z"
   },
   {
    "duration": 0,
    "start_time": "2023-09-19T05:56:11.117Z"
   },
   {
    "duration": 14,
    "start_time": "2023-09-19T06:00:16.777Z"
   },
   {
    "duration": 410,
    "start_time": "2023-09-19T06:00:55.256Z"
   },
   {
    "duration": 262,
    "start_time": "2023-09-19T06:01:02.750Z"
   },
   {
    "duration": 20,
    "start_time": "2023-09-19T06:01:16.283Z"
   },
   {
    "duration": 252,
    "start_time": "2023-09-19T06:01:16.653Z"
   },
   {
    "duration": 255,
    "start_time": "2023-09-19T06:01:24.922Z"
   },
   {
    "duration": 232,
    "start_time": "2023-09-19T06:01:31.694Z"
   },
   {
    "duration": 2308,
    "start_time": "2023-09-19T06:01:34.062Z"
   },
   {
    "duration": 317,
    "start_time": "2023-09-19T06:01:36.373Z"
   },
   {
    "duration": 279,
    "start_time": "2023-09-19T06:01:48.639Z"
   },
   {
    "duration": 1517,
    "start_time": "2023-09-19T06:03:03.834Z"
   },
   {
    "duration": 44,
    "start_time": "2023-09-19T06:03:05.353Z"
   },
   {
    "duration": 25,
    "start_time": "2023-09-19T06:03:05.399Z"
   },
   {
    "duration": 147,
    "start_time": "2023-09-19T06:03:05.426Z"
   },
   {
    "duration": 33,
    "start_time": "2023-09-19T06:03:05.575Z"
   },
   {
    "duration": 29,
    "start_time": "2023-09-19T06:03:05.610Z"
   },
   {
    "duration": 21,
    "start_time": "2023-09-19T06:03:05.642Z"
   },
   {
    "duration": 95,
    "start_time": "2023-09-19T06:03:05.665Z"
   },
   {
    "duration": 37,
    "start_time": "2023-09-19T06:03:05.762Z"
   },
   {
    "duration": 42,
    "start_time": "2023-09-19T06:03:05.801Z"
   },
   {
    "duration": 195,
    "start_time": "2023-09-19T06:03:05.845Z"
   },
   {
    "duration": 141,
    "start_time": "2023-09-19T06:03:06.042Z"
   },
   {
    "duration": 103,
    "start_time": "2023-09-19T06:03:06.185Z"
   },
   {
    "duration": 27,
    "start_time": "2023-09-19T06:03:06.291Z"
   },
   {
    "duration": 346,
    "start_time": "2023-09-19T06:03:06.320Z"
   },
   {
    "duration": 854,
    "start_time": "2023-09-19T06:03:06.668Z"
   },
   {
    "duration": 2,
    "start_time": "2023-09-19T06:03:07.524Z"
   },
   {
    "duration": 30,
    "start_time": "2023-09-19T06:03:07.528Z"
   },
   {
    "duration": 161,
    "start_time": "2023-09-19T06:03:07.560Z"
   },
   {
    "duration": 3,
    "start_time": "2023-09-19T06:03:07.722Z"
   },
   {
    "duration": 47,
    "start_time": "2023-09-19T06:03:07.726Z"
   },
   {
    "duration": 10,
    "start_time": "2023-09-19T06:03:07.774Z"
   },
   {
    "duration": 4,
    "start_time": "2023-09-19T06:03:07.802Z"
   },
   {
    "duration": 12,
    "start_time": "2023-09-19T06:03:07.808Z"
   },
   {
    "duration": 468,
    "start_time": "2023-09-19T06:03:07.822Z"
   },
   {
    "duration": 285072,
    "start_time": "2023-09-19T06:03:08.291Z"
   },
   {
    "duration": 58254,
    "start_time": "2023-09-19T06:07:53.366Z"
   },
   {
    "duration": 9825,
    "start_time": "2023-09-19T06:08:51.623Z"
   },
   {
    "duration": 11,
    "start_time": "2023-09-19T06:09:01.450Z"
   },
   {
    "duration": 1564,
    "start_time": "2023-09-19T06:11:53.017Z"
   },
   {
    "duration": 48,
    "start_time": "2023-09-19T06:11:54.585Z"
   },
   {
    "duration": 16,
    "start_time": "2023-09-19T06:11:54.636Z"
   },
   {
    "duration": 14,
    "start_time": "2023-09-19T06:11:54.655Z"
   },
   {
    "duration": 13,
    "start_time": "2023-09-19T06:11:54.671Z"
   },
   {
    "duration": 27,
    "start_time": "2023-09-19T06:11:54.685Z"
   },
   {
    "duration": 34,
    "start_time": "2023-09-19T06:11:54.714Z"
   },
   {
    "duration": 32,
    "start_time": "2023-09-19T06:11:54.751Z"
   },
   {
    "duration": 38,
    "start_time": "2023-09-19T06:11:54.786Z"
   },
   {
    "duration": 18,
    "start_time": "2023-09-19T06:11:54.828Z"
   },
   {
    "duration": 26,
    "start_time": "2023-09-19T06:11:54.848Z"
   },
   {
    "duration": 11,
    "start_time": "2023-09-19T06:11:54.877Z"
   },
   {
    "duration": 14,
    "start_time": "2023-09-19T06:11:54.890Z"
   },
   {
    "duration": 5,
    "start_time": "2023-09-19T06:11:54.906Z"
   },
   {
    "duration": 354,
    "start_time": "2023-09-19T06:11:54.912Z"
   },
   {
    "duration": 893,
    "start_time": "2023-09-19T06:11:55.268Z"
   },
   {
    "duration": 7,
    "start_time": "2023-09-19T06:11:56.163Z"
   },
   {
    "duration": 197,
    "start_time": "2023-09-19T06:11:56.171Z"
   },
   {
    "duration": 3,
    "start_time": "2023-09-19T06:11:56.370Z"
   },
   {
    "duration": 70,
    "start_time": "2023-09-19T06:11:56.374Z"
   },
   {
    "duration": 32,
    "start_time": "2023-09-19T06:11:56.446Z"
   },
   {
    "duration": 24,
    "start_time": "2023-09-19T06:11:56.480Z"
   },
   {
    "duration": 50,
    "start_time": "2023-09-19T06:11:56.506Z"
   },
   {
    "duration": 397,
    "start_time": "2023-09-19T06:11:56.557Z"
   },
   {
    "duration": 1593,
    "start_time": "2023-09-19T06:13:55.990Z"
   },
   {
    "duration": 46,
    "start_time": "2023-09-19T06:13:57.584Z"
   },
   {
    "duration": 18,
    "start_time": "2023-09-19T06:13:57.633Z"
   },
   {
    "duration": 36,
    "start_time": "2023-09-19T06:13:57.654Z"
   },
   {
    "duration": 81,
    "start_time": "2023-09-19T06:13:57.691Z"
   },
   {
    "duration": 22,
    "start_time": "2023-09-19T06:13:57.774Z"
   },
   {
    "duration": 57,
    "start_time": "2023-09-19T06:13:57.798Z"
   },
   {
    "duration": 54,
    "start_time": "2023-09-19T06:13:57.857Z"
   },
   {
    "duration": 53,
    "start_time": "2023-09-19T06:13:57.913Z"
   },
   {
    "duration": 14,
    "start_time": "2023-09-19T06:13:57.970Z"
   },
   {
    "duration": 23,
    "start_time": "2023-09-19T06:13:57.986Z"
   },
   {
    "duration": 33,
    "start_time": "2023-09-19T06:13:58.011Z"
   },
   {
    "duration": 29,
    "start_time": "2023-09-19T06:13:58.046Z"
   },
   {
    "duration": 22,
    "start_time": "2023-09-19T06:13:58.077Z"
   },
   {
    "duration": 365,
    "start_time": "2023-09-19T06:13:58.101Z"
   },
   {
    "duration": 943,
    "start_time": "2023-09-19T06:13:58.468Z"
   },
   {
    "duration": 8,
    "start_time": "2023-09-19T06:13:59.413Z"
   },
   {
    "duration": 169,
    "start_time": "2023-09-19T06:13:59.423Z"
   },
   {
    "duration": 3,
    "start_time": "2023-09-19T06:13:59.600Z"
   },
   {
    "duration": 35,
    "start_time": "2023-09-19T06:13:59.606Z"
   },
   {
    "duration": 12,
    "start_time": "2023-09-19T06:13:59.643Z"
   },
   {
    "duration": 11,
    "start_time": "2023-09-19T06:13:59.656Z"
   },
   {
    "duration": 17,
    "start_time": "2023-09-19T06:13:59.668Z"
   },
   {
    "duration": 455,
    "start_time": "2023-09-19T06:13:59.686Z"
   },
   {
    "duration": 295359,
    "start_time": "2023-09-19T06:14:00.142Z"
   },
   {
    "duration": 77926,
    "start_time": "2023-09-19T06:18:55.503Z"
   },
   {
    "duration": 12267,
    "start_time": "2023-09-19T06:20:13.431Z"
   },
   {
    "duration": 13,
    "start_time": "2023-09-19T06:20:25.702Z"
   },
   {
    "duration": 312889,
    "start_time": "2023-09-19T06:20:25.717Z"
   },
   {
    "duration": 420,
    "start_time": "2023-09-19T06:25:38.614Z"
   },
   {
    "duration": 75,
    "start_time": "2023-09-19T06:25:39.036Z"
   },
   {
    "duration": 388,
    "start_time": "2023-09-19T06:25:39.113Z"
   },
   {
    "duration": 69009,
    "start_time": "2023-09-19T06:25:39.503Z"
   },
   {
    "duration": 298,
    "start_time": "2023-09-19T06:26:48.517Z"
   },
   {
    "duration": 2043,
    "start_time": "2023-09-19T06:26:48.817Z"
   },
   {
    "duration": 270,
    "start_time": "2023-09-19T06:26:50.861Z"
   },
   {
    "duration": 10,
    "start_time": "2023-09-19T06:43:06.694Z"
   },
   {
    "duration": 82,
    "start_time": "2023-09-19T06:52:11.066Z"
   },
   {
    "duration": 1579,
    "start_time": "2023-09-19T06:56:38.690Z"
   },
   {
    "duration": 46,
    "start_time": "2023-09-19T06:56:40.271Z"
   },
   {
    "duration": 167,
    "start_time": "2023-09-19T06:56:40.319Z"
   },
   {
    "duration": 29,
    "start_time": "2023-09-19T06:56:40.488Z"
   },
   {
    "duration": 38,
    "start_time": "2023-09-19T06:56:40.520Z"
   },
   {
    "duration": 35,
    "start_time": "2023-09-19T06:56:40.560Z"
   },
   {
    "duration": 54,
    "start_time": "2023-09-19T06:56:40.598Z"
   },
   {
    "duration": 29,
    "start_time": "2023-09-19T06:56:40.654Z"
   },
   {
    "duration": 49,
    "start_time": "2023-09-19T06:56:40.684Z"
   },
   {
    "duration": 42,
    "start_time": "2023-09-19T06:56:40.735Z"
   },
   {
    "duration": 54,
    "start_time": "2023-09-19T06:56:40.779Z"
   },
   {
    "duration": 23,
    "start_time": "2023-09-19T06:56:40.834Z"
   },
   {
    "duration": 43,
    "start_time": "2023-09-19T06:56:40.859Z"
   },
   {
    "duration": 36,
    "start_time": "2023-09-19T06:56:40.906Z"
   },
   {
    "duration": 350,
    "start_time": "2023-09-19T06:56:40.944Z"
   },
   {
    "duration": 925,
    "start_time": "2023-09-19T06:56:41.296Z"
   },
   {
    "duration": 7,
    "start_time": "2023-09-19T06:56:42.222Z"
   },
   {
    "duration": 153,
    "start_time": "2023-09-19T06:56:42.231Z"
   },
   {
    "duration": 43,
    "start_time": "2023-09-19T06:56:42.386Z"
   },
   {
    "duration": 10,
    "start_time": "2023-09-19T06:56:42.431Z"
   },
   {
    "duration": 23,
    "start_time": "2023-09-19T06:56:42.443Z"
   },
   {
    "duration": 55,
    "start_time": "2023-09-19T06:56:42.468Z"
   },
   {
    "duration": 108,
    "start_time": "2023-09-19T06:56:42.525Z"
   },
   {
    "duration": 0,
    "start_time": "2023-09-19T06:56:42.635Z"
   },
   {
    "duration": 0,
    "start_time": "2023-09-19T06:56:42.636Z"
   },
   {
    "duration": 0,
    "start_time": "2023-09-19T06:56:42.637Z"
   },
   {
    "duration": 0,
    "start_time": "2023-09-19T06:56:42.638Z"
   },
   {
    "duration": 0,
    "start_time": "2023-09-19T06:56:42.639Z"
   },
   {
    "duration": 0,
    "start_time": "2023-09-19T06:56:42.640Z"
   },
   {
    "duration": 0,
    "start_time": "2023-09-19T06:56:42.641Z"
   },
   {
    "duration": 0,
    "start_time": "2023-09-19T06:56:42.641Z"
   },
   {
    "duration": 0,
    "start_time": "2023-09-19T06:56:42.642Z"
   },
   {
    "duration": 0,
    "start_time": "2023-09-19T06:56:42.643Z"
   },
   {
    "duration": 0,
    "start_time": "2023-09-19T06:56:42.644Z"
   },
   {
    "duration": 0,
    "start_time": "2023-09-19T06:56:42.645Z"
   },
   {
    "duration": 0,
    "start_time": "2023-09-19T06:56:42.646Z"
   },
   {
    "duration": 221,
    "start_time": "2023-09-19T07:02:36.981Z"
   },
   {
    "duration": 100,
    "start_time": "2023-09-19T07:02:52.501Z"
   },
   {
    "duration": 1640,
    "start_time": "2023-09-19T07:03:20.979Z"
   },
   {
    "duration": 46,
    "start_time": "2023-09-19T07:03:22.622Z"
   },
   {
    "duration": 14,
    "start_time": "2023-09-19T07:03:22.670Z"
   },
   {
    "duration": 14,
    "start_time": "2023-09-19T07:03:22.686Z"
   },
   {
    "duration": 29,
    "start_time": "2023-09-19T07:03:22.703Z"
   },
   {
    "duration": 12,
    "start_time": "2023-09-19T07:03:22.734Z"
   },
   {
    "duration": 16,
    "start_time": "2023-09-19T07:03:22.748Z"
   },
   {
    "duration": 120,
    "start_time": "2023-09-19T07:03:22.765Z"
   },
   {
    "duration": 18,
    "start_time": "2023-09-19T07:03:22.889Z"
   },
   {
    "duration": 6,
    "start_time": "2023-09-19T07:03:22.909Z"
   },
   {
    "duration": 26,
    "start_time": "2023-09-19T07:03:22.916Z"
   },
   {
    "duration": 10,
    "start_time": "2023-09-19T07:03:22.944Z"
   },
   {
    "duration": 11,
    "start_time": "2023-09-19T07:03:22.955Z"
   },
   {
    "duration": 5,
    "start_time": "2023-09-19T07:03:22.969Z"
   },
   {
    "duration": 371,
    "start_time": "2023-09-19T07:03:22.975Z"
   },
   {
    "duration": 901,
    "start_time": "2023-09-19T07:03:23.348Z"
   },
   {
    "duration": 6,
    "start_time": "2023-09-19T07:03:24.251Z"
   },
   {
    "duration": 162,
    "start_time": "2023-09-19T07:03:24.259Z"
   },
   {
    "duration": 33,
    "start_time": "2023-09-19T07:03:24.423Z"
   },
   {
    "duration": 10,
    "start_time": "2023-09-19T07:03:24.457Z"
   },
   {
    "duration": 16,
    "start_time": "2023-09-19T07:03:24.468Z"
   },
   {
    "duration": 6,
    "start_time": "2023-09-19T07:03:24.500Z"
   },
   {
    "duration": 101,
    "start_time": "2023-09-19T07:03:24.508Z"
   },
   {
    "duration": 297576,
    "start_time": "2023-09-19T07:03:24.613Z"
   },
   {
    "duration": 60752,
    "start_time": "2023-09-19T07:08:22.190Z"
   },
   {
    "duration": 11290,
    "start_time": "2023-09-19T07:09:22.944Z"
   },
   {
    "duration": 15,
    "start_time": "2023-09-19T07:09:34.235Z"
   },
   {
    "duration": 296007,
    "start_time": "2023-09-19T07:09:34.252Z"
   },
   {
    "duration": 353,
    "start_time": "2023-09-19T07:14:30.261Z"
   },
   {
    "duration": 189,
    "start_time": "2023-09-19T07:14:30.616Z"
   },
   {
    "duration": 678,
    "start_time": "2023-09-19T07:14:30.808Z"
   },
   {
    "duration": 61519,
    "start_time": "2023-09-19T07:14:31.488Z"
   },
   {
    "duration": 273,
    "start_time": "2023-09-19T07:15:33.009Z"
   },
   {
    "duration": 2392,
    "start_time": "2023-09-19T07:15:33.283Z"
   },
   {
    "duration": 269,
    "start_time": "2023-09-19T07:15:35.677Z"
   },
   {
    "duration": 12,
    "start_time": "2023-09-19T07:15:35.948Z"
   },
   {
    "duration": 1602,
    "start_time": "2023-09-19T07:23:32.992Z"
   },
   {
    "duration": 49,
    "start_time": "2023-09-19T07:23:34.597Z"
   },
   {
    "duration": 16,
    "start_time": "2023-09-19T07:23:34.648Z"
   },
   {
    "duration": 25,
    "start_time": "2023-09-19T07:23:34.667Z"
   },
   {
    "duration": 23,
    "start_time": "2023-09-19T07:23:34.695Z"
   },
   {
    "duration": 25,
    "start_time": "2023-09-19T07:23:34.721Z"
   },
   {
    "duration": 10,
    "start_time": "2023-09-19T07:23:34.748Z"
   },
   {
    "duration": 22,
    "start_time": "2023-09-19T07:23:34.760Z"
   },
   {
    "duration": 29,
    "start_time": "2023-09-19T07:23:34.784Z"
   },
   {
    "duration": 11,
    "start_time": "2023-09-19T07:23:34.815Z"
   },
   {
    "duration": 21,
    "start_time": "2023-09-19T07:23:34.828Z"
   },
   {
    "duration": 14,
    "start_time": "2023-09-19T07:23:34.851Z"
   },
   {
    "duration": 12,
    "start_time": "2023-09-19T07:23:34.867Z"
   },
   {
    "duration": 25,
    "start_time": "2023-09-19T07:23:34.883Z"
   },
   {
    "duration": 364,
    "start_time": "2023-09-19T07:23:34.910Z"
   },
   {
    "duration": 865,
    "start_time": "2023-09-19T07:23:35.277Z"
   },
   {
    "duration": 10,
    "start_time": "2023-09-19T07:23:36.144Z"
   },
   {
    "duration": 183,
    "start_time": "2023-09-19T07:23:36.156Z"
   },
   {
    "duration": 46,
    "start_time": "2023-09-19T07:23:36.341Z"
   },
   {
    "duration": 13,
    "start_time": "2023-09-19T07:23:36.401Z"
   },
   {
    "duration": 30,
    "start_time": "2023-09-19T07:23:36.415Z"
   },
   {
    "duration": 23,
    "start_time": "2023-09-19T07:23:36.447Z"
   },
   {
    "duration": 232,
    "start_time": "2023-09-19T07:23:36.471Z"
   },
   {
    "duration": 243,
    "start_time": "2023-09-19T07:23:36.705Z"
   },
   {
    "duration": 60563,
    "start_time": "2023-09-19T07:23:36.951Z"
   },
   {
    "duration": 10757,
    "start_time": "2023-09-19T07:24:37.516Z"
   },
   {
    "duration": 13,
    "start_time": "2023-09-19T07:24:48.275Z"
   },
   {
    "duration": 1,
    "start_time": "2023-09-19T07:24:48.289Z"
   },
   {
    "duration": 0,
    "start_time": "2023-09-19T07:24:48.291Z"
   },
   {
    "duration": 0,
    "start_time": "2023-09-19T07:24:48.292Z"
   },
   {
    "duration": 0,
    "start_time": "2023-09-19T07:24:48.293Z"
   },
   {
    "duration": 0,
    "start_time": "2023-09-19T07:24:48.295Z"
   },
   {
    "duration": 0,
    "start_time": "2023-09-19T07:24:48.296Z"
   },
   {
    "duration": 0,
    "start_time": "2023-09-19T07:24:48.297Z"
   },
   {
    "duration": 0,
    "start_time": "2023-09-19T07:24:48.298Z"
   },
   {
    "duration": 0,
    "start_time": "2023-09-19T07:24:48.299Z"
   },
   {
    "duration": 1601,
    "start_time": "2023-09-19T07:36:23.368Z"
   },
   {
    "duration": 44,
    "start_time": "2023-09-19T07:36:24.972Z"
   },
   {
    "duration": 14,
    "start_time": "2023-09-19T07:36:25.018Z"
   },
   {
    "duration": 23,
    "start_time": "2023-09-19T07:36:25.033Z"
   },
   {
    "duration": 19,
    "start_time": "2023-09-19T07:36:25.058Z"
   },
   {
    "duration": 30,
    "start_time": "2023-09-19T07:36:25.078Z"
   },
   {
    "duration": 27,
    "start_time": "2023-09-19T07:36:25.110Z"
   },
   {
    "duration": 20,
    "start_time": "2023-09-19T07:36:25.138Z"
   },
   {
    "duration": 20,
    "start_time": "2023-09-19T07:36:25.160Z"
   },
   {
    "duration": 6,
    "start_time": "2023-09-19T07:36:25.182Z"
   },
   {
    "duration": 16,
    "start_time": "2023-09-19T07:36:25.190Z"
   },
   {
    "duration": 10,
    "start_time": "2023-09-19T07:36:25.208Z"
   },
   {
    "duration": 17,
    "start_time": "2023-09-19T07:36:25.220Z"
   },
   {
    "duration": 13,
    "start_time": "2023-09-19T07:36:25.240Z"
   },
   {
    "duration": 360,
    "start_time": "2023-09-19T07:36:25.254Z"
   },
   {
    "duration": 916,
    "start_time": "2023-09-19T07:36:25.616Z"
   },
   {
    "duration": 11,
    "start_time": "2023-09-19T07:36:26.534Z"
   },
   {
    "duration": 159,
    "start_time": "2023-09-19T07:36:26.547Z"
   },
   {
    "duration": 44,
    "start_time": "2023-09-19T07:36:26.708Z"
   },
   {
    "duration": 11,
    "start_time": "2023-09-19T07:36:26.753Z"
   },
   {
    "duration": 6,
    "start_time": "2023-09-19T07:36:26.765Z"
   },
   {
    "duration": 32,
    "start_time": "2023-09-19T07:36:26.772Z"
   },
   {
    "duration": 100,
    "start_time": "2023-09-19T07:36:26.806Z"
   },
   {
    "duration": 296926,
    "start_time": "2023-09-19T07:36:26.909Z"
   },
   {
    "duration": 62079,
    "start_time": "2023-09-19T07:41:23.837Z"
   },
   {
    "duration": 10277,
    "start_time": "2023-09-19T07:42:25.918Z"
   },
   {
    "duration": 8,
    "start_time": "2023-09-19T07:42:36.196Z"
   },
   {
    "duration": 298948,
    "start_time": "2023-09-19T07:42:36.206Z"
   },
   {
    "duration": 364,
    "start_time": "2023-09-19T07:47:35.156Z"
   },
   {
    "duration": 180,
    "start_time": "2023-09-19T07:47:35.522Z"
   },
   {
    "duration": 318,
    "start_time": "2023-09-19T07:47:35.704Z"
   },
   {
    "duration": 63383,
    "start_time": "2023-09-19T07:47:36.024Z"
   },
   {
    "duration": 296,
    "start_time": "2023-09-19T07:48:39.409Z"
   },
   {
    "duration": 2096,
    "start_time": "2023-09-19T07:48:39.707Z"
   },
   {
    "duration": 271,
    "start_time": "2023-09-19T07:48:41.805Z"
   },
   {
    "duration": 8,
    "start_time": "2023-09-19T07:48:42.077Z"
   },
   {
    "duration": 1549,
    "start_time": "2023-09-19T07:52:27.373Z"
   },
   {
    "duration": 45,
    "start_time": "2023-09-19T07:52:28.924Z"
   },
   {
    "duration": 13,
    "start_time": "2023-09-19T07:52:28.970Z"
   },
   {
    "duration": 29,
    "start_time": "2023-09-19T07:52:28.985Z"
   },
   {
    "duration": 12,
    "start_time": "2023-09-19T07:52:29.015Z"
   },
   {
    "duration": 12,
    "start_time": "2023-09-19T07:52:29.029Z"
   },
   {
    "duration": 21,
    "start_time": "2023-09-19T07:52:29.043Z"
   },
   {
    "duration": 19,
    "start_time": "2023-09-19T07:52:29.066Z"
   },
   {
    "duration": 30,
    "start_time": "2023-09-19T07:52:29.087Z"
   },
   {
    "duration": 6,
    "start_time": "2023-09-19T07:52:29.120Z"
   },
   {
    "duration": 21,
    "start_time": "2023-09-19T07:52:29.127Z"
   },
   {
    "duration": 11,
    "start_time": "2023-09-19T07:52:29.150Z"
   },
   {
    "duration": 29,
    "start_time": "2023-09-19T07:52:29.162Z"
   },
   {
    "duration": 18,
    "start_time": "2023-09-19T07:52:29.193Z"
   },
   {
    "duration": 369,
    "start_time": "2023-09-19T07:52:29.213Z"
   },
   {
    "duration": 922,
    "start_time": "2023-09-19T07:52:29.584Z"
   },
   {
    "duration": 8,
    "start_time": "2023-09-19T07:52:30.508Z"
   },
   {
    "duration": 187,
    "start_time": "2023-09-19T07:52:30.517Z"
   },
   {
    "duration": 91,
    "start_time": "2023-09-19T07:52:30.705Z"
   },
   {
    "duration": 114,
    "start_time": "2023-09-19T07:52:30.798Z"
   },
   {
    "duration": 132,
    "start_time": "2023-09-19T07:52:30.913Z"
   },
   {
    "duration": 87,
    "start_time": "2023-09-19T07:52:31.046Z"
   },
   {
    "duration": 170,
    "start_time": "2023-09-19T07:52:31.135Z"
   },
   {
    "duration": 303859,
    "start_time": "2023-09-19T07:52:31.307Z"
   },
   {
    "duration": 64850,
    "start_time": "2023-09-19T07:57:35.168Z"
   },
   {
    "duration": 11327,
    "start_time": "2023-09-19T07:58:40.020Z"
   },
   {
    "duration": 8,
    "start_time": "2023-09-19T07:58:51.350Z"
   },
   {
    "duration": 302292,
    "start_time": "2023-09-19T07:58:51.362Z"
   },
   {
    "duration": 355,
    "start_time": "2023-09-19T08:03:53.656Z"
   },
   {
    "duration": 187,
    "start_time": "2023-09-19T08:03:54.013Z"
   },
   {
    "duration": 298,
    "start_time": "2023-09-19T08:03:54.203Z"
   },
   {
    "duration": 64420,
    "start_time": "2023-09-19T08:03:54.503Z"
   },
   {
    "duration": 327,
    "start_time": "2023-09-19T08:04:58.924Z"
   },
   {
    "duration": 3224,
    "start_time": "2023-09-19T08:04:59.254Z"
   },
   {
    "duration": 277,
    "start_time": "2023-09-19T08:05:02.480Z"
   },
   {
    "duration": 7,
    "start_time": "2023-09-19T08:05:02.759Z"
   },
   {
    "duration": 1788,
    "start_time": "2023-09-19T08:59:04.690Z"
   },
   {
    "duration": 44,
    "start_time": "2023-09-19T08:59:06.480Z"
   },
   {
    "duration": 122,
    "start_time": "2023-09-19T08:59:06.526Z"
   },
   {
    "duration": 35,
    "start_time": "2023-09-19T08:59:06.650Z"
   },
   {
    "duration": 10,
    "start_time": "2023-09-19T08:59:06.687Z"
   },
   {
    "duration": 24,
    "start_time": "2023-09-19T08:59:06.699Z"
   },
   {
    "duration": 32,
    "start_time": "2023-09-19T08:59:06.725Z"
   },
   {
    "duration": 14,
    "start_time": "2023-09-19T08:59:06.758Z"
   },
   {
    "duration": 20,
    "start_time": "2023-09-19T08:59:06.775Z"
   },
   {
    "duration": 7,
    "start_time": "2023-09-19T08:59:06.797Z"
   },
   {
    "duration": 18,
    "start_time": "2023-09-19T08:59:06.806Z"
   },
   {
    "duration": 13,
    "start_time": "2023-09-19T08:59:06.826Z"
   },
   {
    "duration": 15,
    "start_time": "2023-09-19T08:59:06.841Z"
   },
   {
    "duration": 12,
    "start_time": "2023-09-19T08:59:06.861Z"
   },
   {
    "duration": 439,
    "start_time": "2023-09-19T08:59:06.875Z"
   },
   {
    "duration": 953,
    "start_time": "2023-09-19T08:59:07.316Z"
   },
   {
    "duration": 10,
    "start_time": "2023-09-19T08:59:08.272Z"
   },
   {
    "duration": 230,
    "start_time": "2023-09-19T08:59:08.284Z"
   },
   {
    "duration": 64,
    "start_time": "2023-09-19T08:59:08.517Z"
   },
   {
    "duration": 27,
    "start_time": "2023-09-19T08:59:08.582Z"
   },
   {
    "duration": 16,
    "start_time": "2023-09-19T08:59:08.612Z"
   },
   {
    "duration": 23,
    "start_time": "2023-09-19T08:59:08.630Z"
   },
   {
    "duration": 188,
    "start_time": "2023-09-19T08:59:08.655Z"
   },
   {
    "duration": 0,
    "start_time": "2023-09-19T08:59:08.844Z"
   },
   {
    "duration": 0,
    "start_time": "2023-09-19T08:59:08.846Z"
   },
   {
    "duration": 0,
    "start_time": "2023-09-19T08:59:08.848Z"
   },
   {
    "duration": 0,
    "start_time": "2023-09-19T08:59:08.850Z"
   },
   {
    "duration": 0,
    "start_time": "2023-09-19T08:59:08.852Z"
   },
   {
    "duration": 0,
    "start_time": "2023-09-19T08:59:08.853Z"
   },
   {
    "duration": 0,
    "start_time": "2023-09-19T08:59:08.854Z"
   },
   {
    "duration": 0,
    "start_time": "2023-09-19T08:59:08.856Z"
   },
   {
    "duration": 0,
    "start_time": "2023-09-19T08:59:08.858Z"
   },
   {
    "duration": 0,
    "start_time": "2023-09-19T08:59:08.859Z"
   },
   {
    "duration": 0,
    "start_time": "2023-09-19T08:59:08.861Z"
   },
   {
    "duration": 0,
    "start_time": "2023-09-19T08:59:08.862Z"
   },
   {
    "duration": 0,
    "start_time": "2023-09-19T08:59:08.863Z"
   },
   {
    "duration": 1,
    "start_time": "2023-09-19T08:59:08.864Z"
   },
   {
    "duration": 0,
    "start_time": "2023-09-19T08:59:08.866Z"
   },
   {
    "duration": 0,
    "start_time": "2023-09-19T08:59:08.901Z"
   },
   {
    "duration": 0,
    "start_time": "2023-09-19T08:59:08.903Z"
   },
   {
    "duration": 12,
    "start_time": "2023-09-19T09:01:25.496Z"
   },
   {
    "duration": 10,
    "start_time": "2023-09-19T09:01:52.222Z"
   },
   {
    "duration": 5,
    "start_time": "2023-09-19T09:02:53.880Z"
   },
   {
    "duration": 3,
    "start_time": "2023-09-19T09:03:00.100Z"
   },
   {
    "duration": 1598,
    "start_time": "2023-09-19T09:03:05.156Z"
   },
   {
    "duration": 46,
    "start_time": "2023-09-19T09:03:06.755Z"
   },
   {
    "duration": 12,
    "start_time": "2023-09-19T09:03:06.803Z"
   },
   {
    "duration": 44,
    "start_time": "2023-09-19T09:03:06.817Z"
   },
   {
    "duration": 15,
    "start_time": "2023-09-19T09:03:06.863Z"
   },
   {
    "duration": 13,
    "start_time": "2023-09-19T09:03:06.880Z"
   },
   {
    "duration": 28,
    "start_time": "2023-09-19T09:03:06.895Z"
   },
   {
    "duration": 22,
    "start_time": "2023-09-19T09:03:06.925Z"
   },
   {
    "duration": 21,
    "start_time": "2023-09-19T09:03:06.949Z"
   },
   {
    "duration": 12,
    "start_time": "2023-09-19T09:03:06.972Z"
   },
   {
    "duration": 39,
    "start_time": "2023-09-19T09:03:06.985Z"
   },
   {
    "duration": 14,
    "start_time": "2023-09-19T09:03:07.026Z"
   },
   {
    "duration": 25,
    "start_time": "2023-09-19T09:03:07.041Z"
   },
   {
    "duration": 46,
    "start_time": "2023-09-19T09:03:07.069Z"
   },
   {
    "duration": 350,
    "start_time": "2023-09-19T09:03:07.116Z"
   },
   {
    "duration": 888,
    "start_time": "2023-09-19T09:03:07.468Z"
   },
   {
    "duration": 8,
    "start_time": "2023-09-19T09:03:08.358Z"
   },
   {
    "duration": 165,
    "start_time": "2023-09-19T09:03:08.367Z"
   },
   {
    "duration": 49,
    "start_time": "2023-09-19T09:03:08.534Z"
   },
   {
    "duration": 24,
    "start_time": "2023-09-19T09:03:08.585Z"
   },
   {
    "duration": 48,
    "start_time": "2023-09-19T09:03:08.611Z"
   },
   {
    "duration": 23,
    "start_time": "2023-09-19T09:03:08.661Z"
   },
   {
    "duration": 23,
    "start_time": "2023-09-19T09:03:08.686Z"
   },
   {
    "duration": 192,
    "start_time": "2023-09-19T09:03:08.710Z"
   },
   {
    "duration": 112217,
    "start_time": "2023-09-19T09:03:08.903Z"
   },
   {
    "duration": 28409,
    "start_time": "2023-09-19T09:05:01.122Z"
   },
   {
    "duration": 6646,
    "start_time": "2023-09-19T09:05:29.532Z"
   },
   {
    "duration": 8,
    "start_time": "2023-09-19T09:05:36.180Z"
   },
   {
    "duration": 18,
    "start_time": "2023-09-19T09:05:36.189Z"
   },
   {
    "duration": 23,
    "start_time": "2023-09-19T09:05:36.209Z"
   },
   {
    "duration": 14,
    "start_time": "2023-09-19T09:05:36.234Z"
   },
   {
    "duration": 38,
    "start_time": "2023-09-19T09:05:36.249Z"
   },
   {
    "duration": 12,
    "start_time": "2023-09-19T09:05:36.289Z"
   },
   {
    "duration": 29,
    "start_time": "2023-09-19T09:05:36.302Z"
   },
   {
    "duration": 44,
    "start_time": "2023-09-19T09:05:36.333Z"
   },
   {
    "duration": 104,
    "start_time": "2023-09-19T09:05:36.379Z"
   },
   {
    "duration": 54,
    "start_time": "2023-09-19T09:05:36.485Z"
   },
   {
    "duration": 2475,
    "start_time": "2023-09-19T09:05:36.541Z"
   },
   {
    "duration": 430,
    "start_time": "2023-09-19T09:05:39.017Z"
   },
   {
    "duration": 0,
    "start_time": "2023-09-19T09:05:39.450Z"
   },
   {
    "duration": 230,
    "start_time": "2023-09-19T09:07:21.561Z"
   },
   {
    "duration": 281,
    "start_time": "2023-09-19T09:07:39.470Z"
   },
   {
    "duration": 1584,
    "start_time": "2023-09-19T09:10:22.311Z"
   },
   {
    "duration": 43,
    "start_time": "2023-09-19T09:10:23.897Z"
   },
   {
    "duration": 13,
    "start_time": "2023-09-19T09:10:23.942Z"
   },
   {
    "duration": 11,
    "start_time": "2023-09-19T09:10:23.957Z"
   },
   {
    "duration": 17,
    "start_time": "2023-09-19T09:10:23.970Z"
   },
   {
    "duration": 22,
    "start_time": "2023-09-19T09:10:23.988Z"
   },
   {
    "duration": 17,
    "start_time": "2023-09-19T09:10:24.012Z"
   },
   {
    "duration": 20,
    "start_time": "2023-09-19T09:10:24.030Z"
   },
   {
    "duration": 23,
    "start_time": "2023-09-19T09:10:24.051Z"
   },
   {
    "duration": 7,
    "start_time": "2023-09-19T09:10:24.077Z"
   },
   {
    "duration": 25,
    "start_time": "2023-09-19T09:10:24.085Z"
   },
   {
    "duration": 10,
    "start_time": "2023-09-19T09:10:24.111Z"
   },
   {
    "duration": 20,
    "start_time": "2023-09-19T09:10:24.123Z"
   },
   {
    "duration": 41,
    "start_time": "2023-09-19T09:10:24.144Z"
   },
   {
    "duration": 379,
    "start_time": "2023-09-19T09:10:24.187Z"
   },
   {
    "duration": 995,
    "start_time": "2023-09-19T09:10:24.569Z"
   },
   {
    "duration": 8,
    "start_time": "2023-09-19T09:10:25.566Z"
   },
   {
    "duration": 164,
    "start_time": "2023-09-19T09:10:25.576Z"
   },
   {
    "duration": 64,
    "start_time": "2023-09-19T09:10:25.742Z"
   },
   {
    "duration": 12,
    "start_time": "2023-09-19T09:10:25.808Z"
   },
   {
    "duration": 21,
    "start_time": "2023-09-19T09:10:25.824Z"
   },
   {
    "duration": 13,
    "start_time": "2023-09-19T09:10:25.847Z"
   },
   {
    "duration": 36,
    "start_time": "2023-09-19T09:10:25.862Z"
   },
   {
    "duration": 103,
    "start_time": "2023-09-19T09:10:25.900Z"
   },
   {
    "duration": 1677,
    "start_time": "2023-09-19T09:11:12.098Z"
   },
   {
    "duration": 43,
    "start_time": "2023-09-19T09:11:13.777Z"
   },
   {
    "duration": 13,
    "start_time": "2023-09-19T09:11:13.822Z"
   },
   {
    "duration": 22,
    "start_time": "2023-09-19T09:11:13.837Z"
   },
   {
    "duration": 12,
    "start_time": "2023-09-19T09:11:13.860Z"
   },
   {
    "duration": 12,
    "start_time": "2023-09-19T09:11:13.873Z"
   },
   {
    "duration": 15,
    "start_time": "2023-09-19T09:11:13.887Z"
   },
   {
    "duration": 33,
    "start_time": "2023-09-19T09:11:13.903Z"
   },
   {
    "duration": 14,
    "start_time": "2023-09-19T09:11:13.938Z"
   },
   {
    "duration": 5,
    "start_time": "2023-09-19T09:11:13.955Z"
   },
   {
    "duration": 11,
    "start_time": "2023-09-19T09:11:13.962Z"
   },
   {
    "duration": 20,
    "start_time": "2023-09-19T09:11:13.975Z"
   },
   {
    "duration": 7,
    "start_time": "2023-09-19T09:11:13.998Z"
   },
   {
    "duration": 5,
    "start_time": "2023-09-19T09:11:14.007Z"
   },
   {
    "duration": 384,
    "start_time": "2023-09-19T09:11:14.014Z"
   },
   {
    "duration": 978,
    "start_time": "2023-09-19T09:11:14.400Z"
   },
   {
    "duration": 7,
    "start_time": "2023-09-19T09:11:15.380Z"
   },
   {
    "duration": 161,
    "start_time": "2023-09-19T09:11:15.389Z"
   },
   {
    "duration": 62,
    "start_time": "2023-09-19T09:11:15.552Z"
   },
   {
    "duration": 10,
    "start_time": "2023-09-19T09:11:15.616Z"
   },
   {
    "duration": 53,
    "start_time": "2023-09-19T09:11:15.627Z"
   },
   {
    "duration": 57,
    "start_time": "2023-09-19T09:11:15.682Z"
   },
   {
    "duration": 19,
    "start_time": "2023-09-19T09:11:15.741Z"
   },
   {
    "duration": 47,
    "start_time": "2023-09-19T09:11:15.762Z"
   },
   {
    "duration": 184625,
    "start_time": "2023-09-19T09:11:15.904Z"
   },
   {
    "duration": 46599,
    "start_time": "2023-09-19T09:14:20.530Z"
   },
   {
    "duration": 11403,
    "start_time": "2023-09-19T09:15:07.131Z"
   },
   {
    "duration": 7,
    "start_time": "2023-09-19T09:15:18.539Z"
   },
   {
    "duration": 66,
    "start_time": "2023-09-19T09:15:18.548Z"
   },
   {
    "duration": 216,
    "start_time": "2023-09-19T09:15:18.615Z"
   },
   {
    "duration": 211,
    "start_time": "2023-09-19T09:15:18.833Z"
   },
   {
    "duration": 53,
    "start_time": "2023-09-19T09:15:19.046Z"
   },
   {
    "duration": 32,
    "start_time": "2023-09-19T09:15:19.100Z"
   },
   {
    "duration": 30,
    "start_time": "2023-09-19T09:15:19.134Z"
   },
   {
    "duration": 17,
    "start_time": "2023-09-19T09:15:19.166Z"
   },
   {
    "duration": 48,
    "start_time": "2023-09-19T09:15:19.184Z"
   },
   {
    "duration": 22,
    "start_time": "2023-09-19T09:15:19.234Z"
   },
   {
    "duration": 3085,
    "start_time": "2023-09-19T09:15:19.258Z"
   },
   {
    "duration": 356,
    "start_time": "2023-09-19T09:15:22.345Z"
   },
   {
    "duration": 3,
    "start_time": "2023-09-19T09:15:22.704Z"
   },
   {
    "duration": 9,
    "start_time": "2023-09-19T09:17:47.010Z"
   },
   {
    "duration": 8,
    "start_time": "2023-09-19T09:18:05.542Z"
   },
   {
    "duration": 1380,
    "start_time": "2023-09-19T16:56:28.853Z"
   },
   {
    "duration": 45,
    "start_time": "2023-09-19T16:56:30.236Z"
   },
   {
    "duration": 64,
    "start_time": "2023-09-19T16:56:30.283Z"
   },
   {
    "duration": 39,
    "start_time": "2023-09-19T16:56:30.348Z"
   },
   {
    "duration": 35,
    "start_time": "2023-09-19T16:56:30.389Z"
   },
   {
    "duration": 60,
    "start_time": "2023-09-19T16:56:30.426Z"
   },
   {
    "duration": 71,
    "start_time": "2023-09-19T16:56:30.488Z"
   },
   {
    "duration": 62,
    "start_time": "2023-09-19T16:56:30.561Z"
   },
   {
    "duration": 94,
    "start_time": "2023-09-19T16:56:30.624Z"
   },
   {
    "duration": 60,
    "start_time": "2023-09-19T16:56:30.719Z"
   },
   {
    "duration": 53,
    "start_time": "2023-09-19T16:56:30.781Z"
   },
   {
    "duration": 121,
    "start_time": "2023-09-19T16:56:30.836Z"
   },
   {
    "duration": 59,
    "start_time": "2023-09-19T16:56:30.959Z"
   },
   {
    "duration": 30,
    "start_time": "2023-09-19T16:56:31.020Z"
   },
   {
    "duration": 368,
    "start_time": "2023-09-19T16:56:31.052Z"
   },
   {
    "duration": 943,
    "start_time": "2023-09-19T16:56:31.422Z"
   },
   {
    "duration": 8,
    "start_time": "2023-09-19T16:56:32.367Z"
   },
   {
    "duration": 209,
    "start_time": "2023-09-19T16:56:32.377Z"
   },
   {
    "duration": 67,
    "start_time": "2023-09-19T16:56:32.588Z"
   },
   {
    "duration": 12,
    "start_time": "2023-09-19T16:56:32.657Z"
   },
   {
    "duration": 14,
    "start_time": "2023-09-19T16:56:32.672Z"
   },
   {
    "duration": 7,
    "start_time": "2023-09-19T16:56:32.688Z"
   },
   {
    "duration": 9,
    "start_time": "2023-09-19T16:56:32.710Z"
   },
   {
    "duration": 219,
    "start_time": "2023-09-19T16:56:32.722Z"
   },
   {
    "duration": 11075,
    "start_time": "2023-09-19T16:56:32.943Z"
   },
   {
    "duration": 1316,
    "start_time": "2023-09-19T16:56:55.547Z"
   },
   {
    "duration": 44,
    "start_time": "2023-09-19T16:56:56.866Z"
   },
   {
    "duration": 13,
    "start_time": "2023-09-19T16:56:56.912Z"
   },
   {
    "duration": 10,
    "start_time": "2023-09-19T16:56:56.927Z"
   },
   {
    "duration": 14,
    "start_time": "2023-09-19T16:56:56.939Z"
   },
   {
    "duration": 12,
    "start_time": "2023-09-19T16:56:56.955Z"
   },
   {
    "duration": 9,
    "start_time": "2023-09-19T16:56:56.968Z"
   },
   {
    "duration": 8,
    "start_time": "2023-09-19T16:56:56.979Z"
   },
   {
    "duration": 15,
    "start_time": "2023-09-19T16:56:57.010Z"
   },
   {
    "duration": 12,
    "start_time": "2023-09-19T16:56:57.026Z"
   },
   {
    "duration": 19,
    "start_time": "2023-09-19T16:56:57.040Z"
   },
   {
    "duration": 12,
    "start_time": "2023-09-19T16:56:57.061Z"
   },
   {
    "duration": 9,
    "start_time": "2023-09-19T16:56:57.075Z"
   },
   {
    "duration": 23,
    "start_time": "2023-09-19T16:56:57.087Z"
   },
   {
    "duration": 319,
    "start_time": "2023-09-19T16:56:57.112Z"
   },
   {
    "duration": 893,
    "start_time": "2023-09-19T16:56:57.433Z"
   },
   {
    "duration": 7,
    "start_time": "2023-09-19T16:56:58.328Z"
   },
   {
    "duration": 161,
    "start_time": "2023-09-19T16:56:58.336Z"
   },
   {
    "duration": 53,
    "start_time": "2023-09-19T16:56:58.499Z"
   },
   {
    "duration": 11,
    "start_time": "2023-09-19T16:56:58.553Z"
   },
   {
    "duration": 5,
    "start_time": "2023-09-19T16:56:58.565Z"
   },
   {
    "duration": 6,
    "start_time": "2023-09-19T16:56:58.571Z"
   },
   {
    "duration": 30,
    "start_time": "2023-09-19T16:56:58.579Z"
   },
   {
    "duration": 1544,
    "start_time": "2024-03-08T11:07:15.250Z"
   },
   {
    "duration": 134,
    "start_time": "2024-03-08T11:07:16.796Z"
   },
   {
    "duration": 12,
    "start_time": "2024-03-08T11:07:16.932Z"
   },
   {
    "duration": 14,
    "start_time": "2024-03-08T11:07:16.946Z"
   },
   {
    "duration": 16,
    "start_time": "2024-03-08T11:07:16.961Z"
   },
   {
    "duration": 8,
    "start_time": "2024-03-08T11:07:16.978Z"
   },
   {
    "duration": 8,
    "start_time": "2024-03-08T11:07:16.987Z"
   },
   {
    "duration": 14,
    "start_time": "2024-03-08T11:07:16.996Z"
   },
   {
    "duration": 17,
    "start_time": "2024-03-08T11:07:17.012Z"
   },
   {
    "duration": 4,
    "start_time": "2024-03-08T11:07:17.032Z"
   },
   {
    "duration": 19,
    "start_time": "2024-03-08T11:07:17.038Z"
   },
   {
    "duration": 16,
    "start_time": "2024-03-08T11:07:17.058Z"
   },
   {
    "duration": 8,
    "start_time": "2024-03-08T11:07:17.075Z"
   },
   {
    "duration": 7,
    "start_time": "2024-03-08T11:07:17.085Z"
   },
   {
    "duration": 277,
    "start_time": "2024-03-08T11:07:17.093Z"
   },
   {
    "duration": 870,
    "start_time": "2024-03-08T11:07:17.371Z"
   },
   {
    "duration": 7,
    "start_time": "2024-03-08T11:07:18.243Z"
   },
   {
    "duration": 150,
    "start_time": "2024-03-08T11:07:18.251Z"
   },
   {
    "duration": 41,
    "start_time": "2024-03-08T11:07:18.403Z"
   },
   {
    "duration": 9,
    "start_time": "2024-03-08T11:07:18.445Z"
   },
   {
    "duration": 8,
    "start_time": "2024-03-08T11:07:18.455Z"
   },
   {
    "duration": 5,
    "start_time": "2024-03-08T11:07:18.465Z"
   },
   {
    "duration": 23,
    "start_time": "2024-03-08T11:07:18.471Z"
   },
   {
    "duration": 103,
    "start_time": "2024-03-08T11:07:18.496Z"
   },
   {
    "duration": 164284,
    "start_time": "2024-03-08T11:07:18.601Z"
   },
   {
    "duration": 42208,
    "start_time": "2024-03-08T11:10:02.887Z"
   },
   {
    "duration": 8483,
    "start_time": "2024-03-08T11:10:45.098Z"
   },
   {
    "duration": 6,
    "start_time": "2024-03-08T11:10:53.583Z"
   },
   {
    "duration": 2055,
    "start_time": "2024-03-08T11:10:53.591Z"
   },
   {
    "duration": 313,
    "start_time": "2024-03-08T11:10:55.647Z"
   },
   {
    "duration": 2,
    "start_time": "2024-03-08T11:10:55.962Z"
   }
  ],
  "kernelspec": {
   "display_name": "Python 3 (ipykernel)",
   "language": "python",
   "name": "python3"
  },
  "language_info": {
   "codemirror_mode": {
    "name": "ipython",
    "version": 3
   },
   "file_extension": ".py",
   "mimetype": "text/x-python",
   "name": "python",
   "nbconvert_exporter": "python",
   "pygments_lexer": "ipython3",
   "version": "3.9.5"
  },
  "toc": {
   "base_numbering": 1,
   "nav_menu": {},
   "number_sections": true,
   "sideBar": true,
   "skip_h1_title": true,
   "title_cell": "Содержание",
   "title_sidebar": "Contents",
   "toc_cell": true,
   "toc_position": {
    "height": "calc(100% - 180px)",
    "left": "10px",
    "top": "150px",
    "width": "205px"
   },
   "toc_section_display": true,
   "toc_window_display": true
  }
 },
 "nbformat": 4,
 "nbformat_minor": 2
}
