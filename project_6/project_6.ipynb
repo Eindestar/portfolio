{
 "cells": [
  {
   "cell_type": "markdown",
   "metadata": {
    "toc": true
   },
   "source": [
    "<h1>Содержание<span class=\"tocSkip\"></span></h1>\n",
    "<div class=\"toc\"><ul class=\"toc-item\"><li><span><a href=\"#Откройте-и-изучите-файл\" data-toc-modified-id=\"Откройте-и-изучите-файл-1\"><span class=\"toc-item-num\">1&nbsp;&nbsp;</span>Откройте и изучите файл</a></span><ul class=\"toc-item\"><li><span><a href=\"#Импортируем-библиотеки\" data-toc-modified-id=\"Импортируем-библиотеки-1.1\"><span class=\"toc-item-num\">1.1&nbsp;&nbsp;</span>Импортируем библиотеки</a></span></li><li><span><a href=\"#Открыть-и-изучить-файл\" data-toc-modified-id=\"Открыть-и-изучить-файл-1.2\"><span class=\"toc-item-num\">1.2&nbsp;&nbsp;</span>Открыть и изучить файл</a></span></li><li><span><a href=\"#Вывод\" data-toc-modified-id=\"Вывод-1.3\"><span class=\"toc-item-num\">1.3&nbsp;&nbsp;</span>Вывод</a></span></li></ul></li><li><span><a href=\"#Разобьем-данные-на-выборки\" data-toc-modified-id=\"Разобьем-данные-на-выборки-2\"><span class=\"toc-item-num\">2&nbsp;&nbsp;</span>Разобьем данные на выборки</a></span><ul class=\"toc-item\"><li><span><a href=\"#Обучающая\" data-toc-modified-id=\"Обучающая-2.1\"><span class=\"toc-item-num\">2.1&nbsp;&nbsp;</span>Обучающая</a></span></li><li><span><a href=\"#Валидационная-и-тестовая\" data-toc-modified-id=\"Валидационная-и-тестовая-2.2\"><span class=\"toc-item-num\">2.2&nbsp;&nbsp;</span>Валидационная и тестовая</a></span></li></ul></li><li><span><a href=\"#Исследуйте-модели\" data-toc-modified-id=\"Исследуйте-модели-3\"><span class=\"toc-item-num\">3&nbsp;&nbsp;</span>Исследуйте модели</a></span><ul class=\"toc-item\"><li><span><a href=\"#Logistic-Regression-(Логическая-регрессия)\" data-toc-modified-id=\"Logistic-Regression-(Логическая-регрессия)-3.1\"><span class=\"toc-item-num\">3.1&nbsp;&nbsp;</span>Logistic Regression (Логическая регрессия)</a></span></li><li><span><a href=\"#Decision-Tree-(Дерево-решений)\" data-toc-modified-id=\"Decision-Tree-(Дерево-решений)-3.2\"><span class=\"toc-item-num\">3.2&nbsp;&nbsp;</span>Decision Tree (Дерево решений)</a></span></li><li><span><a href=\"#Random-Forest-(Случайный-лес)\" data-toc-modified-id=\"Random-Forest-(Случайный-лес)-3.3\"><span class=\"toc-item-num\">3.3&nbsp;&nbsp;</span>Random Forest (Случайный лес)</a></span></li></ul></li><li><span><a href=\"#Проверьте-модель-на-тестовой-выборке\" data-toc-modified-id=\"Проверьте-модель-на-тестовой-выборке-4\"><span class=\"toc-item-num\">4&nbsp;&nbsp;</span>Проверьте модель на тестовой выборке</a></span></li><li><span><a href=\"#(бонус)-Проверьте-модели-на-адекватность\" data-toc-modified-id=\"(бонус)-Проверьте-модели-на-адекватность-5\"><span class=\"toc-item-num\">5&nbsp;&nbsp;</span>(бонус) Проверьте модели на адекватность</a></span></li><li><span><a href=\"#Вывод-по-проекту\" data-toc-modified-id=\"Вывод-по-проекту-6\"><span class=\"toc-item-num\">6&nbsp;&nbsp;</span>Вывод по проекту</a></span></li><li><span><a href=\"#Чек-лист-готовности-проекта\" data-toc-modified-id=\"Чек-лист-готовности-проекта-7\"><span class=\"toc-item-num\">7&nbsp;&nbsp;</span>Чек-лист готовности проекта</a></span></li></ul></div>"
   ]
  },
  {
   "cell_type": "markdown",
   "metadata": {},
   "source": [
    "# Описание проекта\n",
    "\n",
    "Оператор мобильной связи «Мегалайн» выяснил: многие клиенты пользуются архивными тарифами. Они хотят построить систему, способную проанализировать поведение клиентов и предложить пользователям новый тариф: «Смарт» или «Ультра».\n",
    "\n",
    "\n",
    "В вашем распоряжении данные о поведении клиентов, которые уже перешли на эти тарифы (из проекта курса «Статистический анализ данных»). Нужно построить модель для задачи классификации, которая выберет подходящий тариф. Предобработка данных не понадобится — вы её уже сделали.\n",
    "\n",
    "\n",
    "Постройте модель с максимально большим значением accuracy. Чтобы сдать проект успешно, нужно довести долю правильных ответов по крайней мере до 0.75. Проверить accuracy на тестовой выборке.\n",
    "\n",
    "# План по выполнению проекта\n",
    "- Открыть файл с данными и изучить его. Путь к файлу: /datasets/users_behavior.csv. Скачать датасет\n",
    "- Разделить исходные данные на обучающую, валидационную и тестовую выборки.\n",
    "- Исследовать качество разных моделей, меняя гиперпараметры. Кратко написать выводы исследования.\n",
    "- Проверьте качество модели на тестовой выборке.\n",
    "- Дополнительное задание: проверить модели на вменяемость. \n",
    "\n",
    "# Описание данных\n",
    "Каждый объект в наборе данных — это информация о поведении одного пользователя за месяц. Известно:\n",
    "- сalls — количество звонков,\n",
    "- minutes — суммарная длительность звонков в минутах,\n",
    "- messages — количество sms-сообщений,\n",
    "- mb_used — израсходованный интернет-трафик в Мб,\n",
    "- is_ultra — каким тарифом пользовался в течение месяца («Ультра» — 1, «Смарт» — 0)."
   ]
  },
  {
   "cell_type": "markdown",
   "metadata": {},
   "source": [
    "# Рекомендация тарифов"
   ]
  },
  {
   "cell_type": "markdown",
   "metadata": {},
   "source": [
    "В вашем распоряжении данные о поведении клиентов, которые уже перешли на эти тарифы. Нужно построить модель для задачи классификации, которая выберет подходящий тариф. Предобработка данных не понадобится.\n",
    "\n",
    "Необходимо Построить модель с максимально большим значением *accuracy*. Чтобы сдать проект успешно, нужно довести долю правильных ответов по крайней мере до 0.75. Проверить *accuracy* на тестовой выборке самостоятельно."
   ]
  },
  {
   "cell_type": "markdown",
   "metadata": {},
   "source": [
    "## Откройте и изучите файл"
   ]
  },
  {
   "cell_type": "markdown",
   "metadata": {},
   "source": [
    "### Импортируем библиотеки"
   ]
  },
  {
   "cell_type": "code",
   "execution_count": 1,
   "metadata": {},
   "outputs": [],
   "source": [
    "import pandas as pd\n",
    "import numpy as np\n",
    "from sklearn.model_selection import train_test_split\n",
    "from sklearn.linear_model import LogisticRegression\n",
    "from sklearn.ensemble import RandomForestClassifier\n",
    "from sklearn.tree import DecisionTreeClassifier\n",
    "from sklearn.dummy import DummyClassifier\n",
    "from sklearn.metrics import accuracy_score\n",
    "from sklearn.metrics import roc_curve\n",
    "from sklearn.metrics import auc\n",
    "from tqdm import tqdm\n",
    "import matplotlib.pyplot as plt"
   ]
  },
  {
   "cell_type": "markdown",
   "metadata": {},
   "source": [
    "### Открыть и изучить файл"
   ]
  },
  {
   "cell_type": "code",
   "execution_count": 2,
   "metadata": {},
   "outputs": [],
   "source": [
    "df = pd.read_csv('/datasets/users_behavior.csv')"
   ]
  },
  {
   "cell_type": "code",
   "execution_count": 3,
   "metadata": {},
   "outputs": [
    {
     "data": {
      "text/html": [
       "<div>\n",
       "<style scoped>\n",
       "    .dataframe tbody tr th:only-of-type {\n",
       "        vertical-align: middle;\n",
       "    }\n",
       "\n",
       "    .dataframe tbody tr th {\n",
       "        vertical-align: top;\n",
       "    }\n",
       "\n",
       "    .dataframe thead th {\n",
       "        text-align: right;\n",
       "    }\n",
       "</style>\n",
       "<table border=\"1\" class=\"dataframe\">\n",
       "  <thead>\n",
       "    <tr style=\"text-align: right;\">\n",
       "      <th></th>\n",
       "      <th>calls</th>\n",
       "      <th>minutes</th>\n",
       "      <th>messages</th>\n",
       "      <th>mb_used</th>\n",
       "      <th>is_ultra</th>\n",
       "    </tr>\n",
       "  </thead>\n",
       "  <tbody>\n",
       "    <tr>\n",
       "      <th>0</th>\n",
       "      <td>40.0</td>\n",
       "      <td>311.90</td>\n",
       "      <td>83.0</td>\n",
       "      <td>19915.42</td>\n",
       "      <td>0</td>\n",
       "    </tr>\n",
       "    <tr>\n",
       "      <th>1</th>\n",
       "      <td>85.0</td>\n",
       "      <td>516.75</td>\n",
       "      <td>56.0</td>\n",
       "      <td>22696.96</td>\n",
       "      <td>0</td>\n",
       "    </tr>\n",
       "    <tr>\n",
       "      <th>2</th>\n",
       "      <td>77.0</td>\n",
       "      <td>467.66</td>\n",
       "      <td>86.0</td>\n",
       "      <td>21060.45</td>\n",
       "      <td>0</td>\n",
       "    </tr>\n",
       "    <tr>\n",
       "      <th>3</th>\n",
       "      <td>106.0</td>\n",
       "      <td>745.53</td>\n",
       "      <td>81.0</td>\n",
       "      <td>8437.39</td>\n",
       "      <td>1</td>\n",
       "    </tr>\n",
       "    <tr>\n",
       "      <th>4</th>\n",
       "      <td>66.0</td>\n",
       "      <td>418.74</td>\n",
       "      <td>1.0</td>\n",
       "      <td>14502.75</td>\n",
       "      <td>0</td>\n",
       "    </tr>\n",
       "  </tbody>\n",
       "</table>\n",
       "</div>"
      ],
      "text/plain": [
       "   calls  minutes  messages   mb_used  is_ultra\n",
       "0   40.0   311.90      83.0  19915.42         0\n",
       "1   85.0   516.75      56.0  22696.96         0\n",
       "2   77.0   467.66      86.0  21060.45         0\n",
       "3  106.0   745.53      81.0   8437.39         1\n",
       "4   66.0   418.74       1.0  14502.75         0"
      ]
     },
     "execution_count": 3,
     "metadata": {},
     "output_type": "execute_result"
    }
   ],
   "source": [
    "df.head()"
   ]
  },
  {
   "cell_type": "code",
   "execution_count": 4,
   "metadata": {},
   "outputs": [
    {
     "name": "stdout",
     "output_type": "stream",
     "text": [
      "<class 'pandas.core.frame.DataFrame'>\n",
      "RangeIndex: 3214 entries, 0 to 3213\n",
      "Data columns (total 5 columns):\n",
      " #   Column    Non-Null Count  Dtype  \n",
      "---  ------    --------------  -----  \n",
      " 0   calls     3214 non-null   float64\n",
      " 1   minutes   3214 non-null   float64\n",
      " 2   messages  3214 non-null   float64\n",
      " 3   mb_used   3214 non-null   float64\n",
      " 4   is_ultra  3214 non-null   int64  \n",
      "dtypes: float64(4), int64(1)\n",
      "memory usage: 125.7 KB\n"
     ]
    }
   ],
   "source": [
    "df.info()"
   ]
  },
  {
   "cell_type": "markdown",
   "metadata": {},
   "source": [
    "Можно поменять тип поля messages и calls на целое число (int), т.к. дробных значений сообщений и звонков не бывает."
   ]
  },
  {
   "cell_type": "code",
   "execution_count": 5,
   "metadata": {},
   "outputs": [],
   "source": [
    "df['messages']=df['messages'].astype(\"int\")"
   ]
  },
  {
   "cell_type": "code",
   "execution_count": 6,
   "metadata": {},
   "outputs": [],
   "source": [
    "df['calls']=df['calls'].astype(\"int\")"
   ]
  },
  {
   "cell_type": "markdown",
   "metadata": {},
   "source": [
    "Проверим дубликаты"
   ]
  },
  {
   "cell_type": "code",
   "execution_count": 7,
   "metadata": {},
   "outputs": [
    {
     "data": {
      "text/plain": [
       "0"
      ]
     },
     "execution_count": 7,
     "metadata": {},
     "output_type": "execute_result"
    }
   ],
   "source": [
    "df.duplicated().sum()"
   ]
  },
  {
   "cell_type": "markdown",
   "metadata": {},
   "source": [
    "### Вывод\n",
    "\n",
    "Таблица содержит данные о 3214 пользователях которые перешли на данные тарифы, пропусков и дубликатов не обнаружено. Заменён тип данных в столбце 'messages' и 'calls' на целочисленый."
   ]
  },
  {
   "cell_type": "markdown",
   "metadata": {},
   "source": [
    "## Разобьем данные на выборки"
   ]
  },
  {
   "cell_type": "code",
   "execution_count": 8,
   "metadata": {},
   "outputs": [],
   "source": [
    "features = df.drop(['is_ultra'], axis=1)\n",
    "target = df['is_ultra']"
   ]
  },
  {
   "cell_type": "markdown",
   "metadata": {},
   "source": [
    "Спрятанной тестовой выборки нет. Поэтому, данные разобьем на три части: обучающую, валидационную и тестовую. Исходные данные разбивают в соотношении 3:1:1."
   ]
  },
  {
   "cell_type": "markdown",
   "metadata": {},
   "source": [
    "### Обучающая"
   ]
  },
  {
   "cell_type": "code",
   "execution_count": 9,
   "metadata": {},
   "outputs": [],
   "source": [
    "features_train, features_test, target_train, target_test = train_test_split(features, \n",
    "                                                                            target, \n",
    "                                                                            test_size=0.4, \n",
    "                                                                            random_state=12345\n",
    "                                                                           ) "
   ]
  },
  {
   "cell_type": "markdown",
   "metadata": {},
   "source": [
    "Размер выборки обучающей выборки"
   ]
  },
  {
   "cell_type": "code",
   "execution_count": 10,
   "metadata": {},
   "outputs": [
    {
     "name": "stdout",
     "output_type": "stream",
     "text": [
      "(1928, 4)\n",
      "(1928,)\n"
     ]
    }
   ],
   "source": [
    "print(features_train.shape)\n",
    "print(target_train.shape)"
   ]
  },
  {
   "cell_type": "markdown",
   "metadata": {},
   "source": [
    "### Валидационная и тестовая"
   ]
  },
  {
   "cell_type": "code",
   "execution_count": 11,
   "metadata": {},
   "outputs": [],
   "source": [
    "features_valid, features_test, target_valid, target_test = train_test_split(features_test, \n",
    "                                                                            target_test, \n",
    "                                                                            test_size=0.5, \n",
    "                                                                            random_state=12345\n",
    "                                                                           ) "
   ]
  },
  {
   "cell_type": "markdown",
   "metadata": {},
   "source": [
    "Размер валидационной выборки"
   ]
  },
  {
   "cell_type": "code",
   "execution_count": 12,
   "metadata": {},
   "outputs": [
    {
     "name": "stdout",
     "output_type": "stream",
     "text": [
      "(643, 4)\n",
      "(643,)\n"
     ]
    }
   ],
   "source": [
    "print(features_valid.shape)\n",
    "print(target_valid.shape)"
   ]
  },
  {
   "cell_type": "markdown",
   "metadata": {},
   "source": [
    "Размер тестовой выборки"
   ]
  },
  {
   "cell_type": "code",
   "execution_count": 13,
   "metadata": {},
   "outputs": [
    {
     "name": "stdout",
     "output_type": "stream",
     "text": [
      "(643, 4)\n",
      "(643,)\n"
     ]
    }
   ],
   "source": [
    "print(features_test.shape)\n",
    "print(target_test.shape)"
   ]
  },
  {
   "cell_type": "markdown",
   "metadata": {},
   "source": [
    "## Исследуйте модели"
   ]
  },
  {
   "cell_type": "markdown",
   "metadata": {},
   "source": [
    "Возьмем 3 модели:\n",
    "\n",
    "- Logistic Regression (Логическая регрессия)\n",
    "- Decision Tree (Дерево решений)\n",
    "- Random Forest (Случайный лес)\n"
   ]
  },
  {
   "cell_type": "markdown",
   "metadata": {},
   "source": [
    "### Logistic Regression (Логическая регрессия)"
   ]
  },
  {
   "cell_type": "code",
   "execution_count": 14,
   "metadata": {},
   "outputs": [
    {
     "name": "stdout",
     "output_type": "stream",
     "text": [
      "Accuracy LogisticRegression: 0.7107309486780715"
     ]
    }
   ],
   "source": [
    "model_lr = LogisticRegression(random_state=12345).fit(features_train, target_train)\n",
    "predictions_valid_lr = model_lr.predict(features_valid)\n",
    "accuracy_lr = accuracy_score(predictions_valid_lr, target_valid)\n",
    "print('Accuracy LogisticRegression:', accuracy_lr, end ='')"
   ]
  },
  {
   "cell_type": "markdown",
   "metadata": {},
   "source": [
    "Вывод\n",
    "Accuracy модели LogisticRegression равно 0.7107309486780715"
   ]
  },
  {
   "cell_type": "markdown",
   "metadata": {},
   "source": [
    "### Decision Tree (Дерево решений)"
   ]
  },
  {
   "cell_type": "code",
   "execution_count": 15,
   "metadata": {},
   "outputs": [
    {
     "name": "stderr",
     "output_type": "stream",
     "text": [
      "100%|██████████| 10/10 [00:00<00:00, 136.10it/s]\n"
     ]
    }
   ],
   "source": [
    "best_model_dtc = None\n",
    "best_depth_dtc = 0\n",
    "best_result_dtc = 0\n",
    "for depth in tqdm(range(1, 11)):\n",
    "    model_dtc = DecisionTreeClassifier(random_state=12345, max_depth = depth).fit(features_train, target_train)\n",
    "    predictions_valid_dtc = model_dtc.predict(features_valid)\n",
    "    result_dtc = accuracy_score(predictions_valid_dtc, target_valid)\n",
    "    if best_result_dtc < result_dtc:\n",
    "        best_model_dtc = model_dtc\n",
    "        best_depth_dtc = depth\n",
    "        best_result_dtc = result_dtc"
   ]
  },
  {
   "cell_type": "code",
   "execution_count": 16,
   "metadata": {},
   "outputs": [
    {
     "name": "stdout",
     "output_type": "stream",
     "text": [
      "best max_depth = 3 ;  best Accuracy =  0.7853810264385692"
     ]
    }
   ],
   "source": [
    "print('best max_depth =', \n",
    "      best_depth_dtc, \n",
    "      '; ', \n",
    "      'best Accuracy = ', \n",
    "      best_result_dtc, \n",
    "      end =''\n",
    "     ) "
   ]
  },
  {
   "cell_type": "markdown",
   "metadata": {},
   "source": [
    "Вывод\n",
    "Accuracy лучшей модели из десяти равно 0.7853810264385692, с гиперпараметром max_depth равным - 3, ресурсозатратность же равна, при заданных 10 иттераций, равна 150.06ит/сек."
   ]
  },
  {
   "cell_type": "markdown",
   "metadata": {},
   "source": [
    "### Random Forest (Случайный лес)"
   ]
  },
  {
   "cell_type": "code",
   "execution_count": 17,
   "metadata": {},
   "outputs": [
    {
     "name": "stderr",
     "output_type": "stream",
     "text": [
      "100%|██████████| 10/10 [00:01<00:00,  6.29it/s]\n"
     ]
    }
   ],
   "source": [
    "best_model_rfc = None\n",
    "best_est_rfc = 0\n",
    "best_depth_rfc = 0\n",
    "best_result_rfc = 0\n",
    "for est in tqdm(range(1, 11)):\n",
    "    for depth in range(1, 11):\n",
    "        model_rfc = RandomForestClassifier(random_state=12345, n_estimators=est, max_depth = depth).fit(features_train, \n",
    "                                                                                                        target_train)\n",
    "        predictions_valid_rfc = model_rfc.predict(features_valid)\n",
    "        result_rfc = accuracy_score(predictions_valid_rfc, target_valid)\n",
    "        if best_result_rfc < result_rfc:\n",
    "            best_model_rfc = model_rfc\n",
    "            best_est_rfc = est\n",
    "            best_depth_rfc = depth\n",
    "            best_result_rfc = result_rfc"
   ]
  },
  {
   "cell_type": "code",
   "execution_count": 18,
   "metadata": {},
   "outputs": [
    {
     "name": "stdout",
     "output_type": "stream",
     "text": [
      "best n_estimators = 8 ;  best max_depth = 8 ;  best Accuracy =  0.80248833592535"
     ]
    }
   ],
   "source": [
    "print('best n_estimators =', \n",
    "      best_est_rfc, \n",
    "      '; ', \n",
    "      'best max_depth =', \n",
    "      best_depth_rfc, \n",
    "      '; ', \n",
    "      'best Accuracy = ', \n",
    "      best_result_rfc, \n",
    "      end =''\n",
    "     ) "
   ]
  },
  {
   "cell_type": "markdown",
   "metadata": {},
   "source": [
    "Вывод\n",
    "Accuracy лучшей модели из десяти равно 0.80248833592535, с гиперпараметром n_estimators равным - 8 и max_depth равным 8, ресурсозатратность же равна, при заданных 10 иттераций, равна 5.59ит/сек."
   ]
  },
  {
   "cell_type": "markdown",
   "metadata": {},
   "source": [
    "Вывод\n",
    "- наилучший результат Accuracy у модели решающего дерева - DecisionTree - Accuracy равен 0.7853810264385692, ресурсозатратность же при этом меньшая - при заданных 10 иттераций, равна 150.06ит/сек;\n",
    "- наилучший результат Accuracy у модели случайного леса - RandomForest - 0.80248833592535, ресурсозатратность же, при заданных 10 иттераций, равна 5.59ит/сек.\n",
    "- результат Accuracy у модели логистической регрессии - LogisticRegression - 0.7107309486780715."
   ]
  },
  {
   "cell_type": "markdown",
   "metadata": {},
   "source": [
    "## Проверьте модель на тестовой выборке"
   ]
  },
  {
   "cell_type": "markdown",
   "metadata": {},
   "source": [
    "Наиболее эффективно себя показала модель случайного леса - RandomForest, поэтому проверим ее на тестовой выборке"
   ]
  },
  {
   "cell_type": "code",
   "execution_count": 19,
   "metadata": {},
   "outputs": [
    {
     "name": "stdout",
     "output_type": "stream",
     "text": [
      "Accuracy RandomForestClassifier: 0.7962674961119751\n"
     ]
    }
   ],
   "source": [
    "model_rfc = RandomForestClassifier(random_state=12345, n_estimators = 8, max_depth = 8).fit(features_train, target_train)\n",
    "predictions_test_rfc = model_rfc.predict(features_test)\n",
    "result_test_rfc = accuracy_score(predictions_test_rfc, target_test)\n",
    "print('Accuracy RandomForestClassifier:', result_test_rfc)"
   ]
  },
  {
   "cell_type": "markdown",
   "metadata": {},
   "source": [
    "Вывод\n",
    "Accuracy у модели случайного леса - RandomForest на тестовой выборке равна 0.7962674961119751\n",
    "На тестовой выборке выбранная модель показывает точность близкую к валидационной, но не больше. Это означает отсутствие проблем с переобучение модели."
   ]
  },
  {
   "cell_type": "markdown",
   "metadata": {},
   "source": [
    "## (бонус) Проверьте модели на адекватность"
   ]
  },
  {
   "cell_type": "markdown",
   "metadata": {},
   "source": [
    "Для проверки используем модель DummyClassifier."
   ]
  },
  {
   "cell_type": "code",
   "execution_count": 20,
   "metadata": {},
   "outputs": [
    {
     "name": "stdout",
     "output_type": "stream",
     "text": [
      "Accuracy DummyClassifier: 0.7060653188180405\n"
     ]
    }
   ],
   "source": [
    "model_dc = DummyClassifier(strategy='most_frequent', random_state=12345)\n",
    "model_dc.fit(features_train, target_train)\n",
    "result_dc = model_dc.score(features_valid, target_valid)\n",
    "print('Accuracy DummyClassifier:', result_dc)"
   ]
  },
  {
   "cell_type": "code",
   "execution_count": 21,
   "metadata": {},
   "outputs": [
    {
     "name": "stdout",
     "output_type": "stream",
     "text": [
      "Accuracy RandomForest: 0.7962674961119751\n"
     ]
    }
   ],
   "source": [
    "print('Accuracy RandomForest:', result_test_rfc)"
   ]
  },
  {
   "cell_type": "markdown",
   "metadata": {},
   "source": [
    "Вывод\n",
    "Accuracy модели DummyClassifier ниже, чем у модели RandomForest - модель адекватна и эффективна."
   ]
  },
  {
   "cell_type": "markdown",
   "metadata": {},
   "source": [
    "## Вывод по проекту"
   ]
  },
  {
   "cell_type": "markdown",
   "metadata": {},
   "source": [
    "- В проекте были изучены данные о поведении клиентов, которые уже перешли на эти тарифы.\n",
    "- В данных не было обнаружено ошибок, пропусков, дубликатов, поменяли тип поля messages и calls на целое число (int), т.к. дробных значений сообщений и звонков не бывает.\n",
    "- Для исследования потребовалось разбить выборку на обучающую, валидационную и тестовую.\n",
    "- Были исследованы модели Decision Tree, RandomForest и Logistic Regression;\n",
    "- Наилучшую эффективность (точность/скорость) показала модель RandomForest с гиперпараметрами n_estimators равным - 8 и max_depth равным 8;\n",
    "- модель RandomForest с наилучшими гиперапараметрами была проверена на тестовой выборке и показала результат Accuracy - 0.7962674961119751;\n",
    "- модель RandomForest проверенная на тестовой выборке была проверена на вменяемость - для проверки использовалась модель DummyClassifier, которая показала результат Accuracy - 0.7060653188180405."
   ]
  }
 ],
 "metadata": {
  "ExecuteTimeLog": [
   {
    "duration": 1470,
    "start_time": "2023-06-24T09:57:40.586Z"
   },
   {
    "duration": 1841,
    "start_time": "2023-06-24T17:26:25.105Z"
   },
   {
    "duration": 149,
    "start_time": "2023-06-24T17:26:26.951Z"
   },
   {
    "duration": 16,
    "start_time": "2023-06-24T17:26:27.103Z"
   },
   {
    "duration": 18,
    "start_time": "2023-06-24T17:26:49.927Z"
   },
   {
    "duration": 1609,
    "start_time": "2023-06-24T17:35:14.015Z"
   },
   {
    "duration": 36,
    "start_time": "2023-06-24T17:35:15.626Z"
   },
   {
    "duration": 28,
    "start_time": "2023-06-24T17:35:15.670Z"
   },
   {
    "duration": 93,
    "start_time": "2023-06-24T17:35:15.700Z"
   },
   {
    "duration": 18,
    "start_time": "2023-06-24T17:35:15.795Z"
   },
   {
    "duration": 18,
    "start_time": "2023-06-24T17:35:15.814Z"
   },
   {
    "duration": 1640,
    "start_time": "2023-06-24T18:21:08.271Z"
   },
   {
    "duration": 29,
    "start_time": "2023-06-24T18:21:09.913Z"
   },
   {
    "duration": 22,
    "start_time": "2023-06-24T18:21:09.943Z"
   },
   {
    "duration": 23,
    "start_time": "2023-06-24T18:21:09.968Z"
   },
   {
    "duration": 9,
    "start_time": "2023-06-24T18:21:09.993Z"
   },
   {
    "duration": 10,
    "start_time": "2023-06-24T18:21:10.004Z"
   },
   {
    "duration": 21,
    "start_time": "2023-06-24T18:21:10.016Z"
   },
   {
    "duration": 13,
    "start_time": "2023-06-24T18:21:10.038Z"
   },
   {
    "duration": 18,
    "start_time": "2023-06-24T18:21:10.060Z"
   },
   {
    "duration": 22,
    "start_time": "2023-06-24T18:21:10.082Z"
   },
   {
    "duration": 26,
    "start_time": "2023-06-24T18:21:10.106Z"
   },
   {
    "duration": 12,
    "start_time": "2023-06-24T18:21:10.135Z"
   },
   {
    "duration": 29,
    "start_time": "2023-06-24T18:21:10.149Z"
   },
   {
    "duration": 54,
    "start_time": "2023-06-25T04:08:43.354Z"
   },
   {
    "duration": 7,
    "start_time": "2023-06-25T04:19:20.438Z"
   },
   {
    "duration": 1594,
    "start_time": "2023-06-25T04:20:42.263Z"
   },
   {
    "duration": 119,
    "start_time": "2023-06-25T04:20:43.859Z"
   },
   {
    "duration": 15,
    "start_time": "2023-06-25T04:20:43.980Z"
   },
   {
    "duration": 13,
    "start_time": "2023-06-25T04:20:43.997Z"
   },
   {
    "duration": 6,
    "start_time": "2023-06-25T04:20:44.013Z"
   },
   {
    "duration": 8,
    "start_time": "2023-06-25T04:20:44.020Z"
   },
   {
    "duration": 11,
    "start_time": "2023-06-25T04:20:44.030Z"
   },
   {
    "duration": 12,
    "start_time": "2023-06-25T04:20:44.043Z"
   },
   {
    "duration": 9,
    "start_time": "2023-06-25T04:20:44.057Z"
   },
   {
    "duration": 125,
    "start_time": "2023-06-25T04:20:44.068Z"
   },
   {
    "duration": 0,
    "start_time": "2023-06-25T04:20:44.195Z"
   },
   {
    "duration": 0,
    "start_time": "2023-06-25T04:20:44.196Z"
   },
   {
    "duration": 0,
    "start_time": "2023-06-25T04:20:44.197Z"
   },
   {
    "duration": 0,
    "start_time": "2023-06-25T04:20:44.198Z"
   },
   {
    "duration": 1400,
    "start_time": "2023-06-25T04:21:51.160Z"
   },
   {
    "duration": 30,
    "start_time": "2023-06-25T04:21:52.563Z"
   },
   {
    "duration": 15,
    "start_time": "2023-06-25T04:21:52.597Z"
   },
   {
    "duration": 20,
    "start_time": "2023-06-25T04:21:52.614Z"
   },
   {
    "duration": 20,
    "start_time": "2023-06-25T04:21:52.636Z"
   },
   {
    "duration": 6,
    "start_time": "2023-06-25T04:21:52.657Z"
   },
   {
    "duration": 12,
    "start_time": "2023-06-25T04:21:52.665Z"
   },
   {
    "duration": 6,
    "start_time": "2023-06-25T04:21:52.679Z"
   },
   {
    "duration": 21,
    "start_time": "2023-06-25T04:21:52.686Z"
   },
   {
    "duration": 20,
    "start_time": "2023-06-25T04:21:52.709Z"
   },
   {
    "duration": 8,
    "start_time": "2023-06-25T04:21:52.731Z"
   },
   {
    "duration": 20,
    "start_time": "2023-06-25T04:21:52.741Z"
   },
   {
    "duration": 18,
    "start_time": "2023-06-25T04:21:52.764Z"
   },
   {
    "duration": 28,
    "start_time": "2023-06-25T04:21:52.784Z"
   },
   {
    "duration": 1407,
    "start_time": "2023-06-25T04:29:35.495Z"
   },
   {
    "duration": 31,
    "start_time": "2023-06-25T04:29:36.904Z"
   },
   {
    "duration": 13,
    "start_time": "2023-06-25T04:29:36.936Z"
   },
   {
    "duration": 41,
    "start_time": "2023-06-25T04:29:36.951Z"
   },
   {
    "duration": 19,
    "start_time": "2023-06-25T04:29:36.994Z"
   },
   {
    "duration": 14,
    "start_time": "2023-06-25T04:29:37.015Z"
   },
   {
    "duration": 37,
    "start_time": "2023-06-25T04:29:37.030Z"
   },
   {
    "duration": 13,
    "start_time": "2023-06-25T04:29:37.068Z"
   },
   {
    "duration": 16,
    "start_time": "2023-06-25T04:29:37.083Z"
   },
   {
    "duration": 9,
    "start_time": "2023-06-25T04:29:37.101Z"
   },
   {
    "duration": 12,
    "start_time": "2023-06-25T04:29:37.111Z"
   },
   {
    "duration": 29,
    "start_time": "2023-06-25T04:29:37.124Z"
   },
   {
    "duration": 22,
    "start_time": "2023-06-25T04:29:37.154Z"
   },
   {
    "duration": 122,
    "start_time": "2023-06-25T04:29:37.179Z"
   },
   {
    "duration": 0,
    "start_time": "2023-06-25T04:29:37.303Z"
   },
   {
    "duration": 1415,
    "start_time": "2023-06-25T04:29:56.276Z"
   },
   {
    "duration": 31,
    "start_time": "2023-06-25T04:29:57.693Z"
   },
   {
    "duration": 14,
    "start_time": "2023-06-25T04:29:57.725Z"
   },
   {
    "duration": 14,
    "start_time": "2023-06-25T04:29:57.741Z"
   },
   {
    "duration": 9,
    "start_time": "2023-06-25T04:29:57.757Z"
   },
   {
    "duration": 17,
    "start_time": "2023-06-25T04:29:57.768Z"
   },
   {
    "duration": 16,
    "start_time": "2023-06-25T04:29:57.786Z"
   },
   {
    "duration": 16,
    "start_time": "2023-06-25T04:29:57.804Z"
   },
   {
    "duration": 10,
    "start_time": "2023-06-25T04:29:57.822Z"
   },
   {
    "duration": 7,
    "start_time": "2023-06-25T04:29:57.833Z"
   },
   {
    "duration": 13,
    "start_time": "2023-06-25T04:29:57.841Z"
   },
   {
    "duration": 22,
    "start_time": "2023-06-25T04:29:57.855Z"
   },
   {
    "duration": 12,
    "start_time": "2023-06-25T04:29:57.878Z"
   },
   {
    "duration": 38,
    "start_time": "2023-06-25T04:29:57.892Z"
   },
   {
    "duration": 74,
    "start_time": "2023-06-25T04:36:44.392Z"
   },
   {
    "duration": 4,
    "start_time": "2023-06-25T04:36:45.634Z"
   },
   {
    "duration": 1796,
    "start_time": "2023-06-25T04:43:41.050Z"
   },
   {
    "duration": 5,
    "start_time": "2023-06-25T04:43:44.705Z"
   },
   {
    "duration": 35,
    "start_time": "2023-06-25T04:49:57.806Z"
   },
   {
    "duration": 1544,
    "start_time": "2023-06-25T04:52:20.465Z"
   },
   {
    "duration": 32,
    "start_time": "2023-06-25T04:52:22.012Z"
   },
   {
    "duration": 15,
    "start_time": "2023-06-25T04:52:22.046Z"
   },
   {
    "duration": 23,
    "start_time": "2023-06-25T04:52:22.063Z"
   },
   {
    "duration": 12,
    "start_time": "2023-06-25T04:52:22.089Z"
   },
   {
    "duration": 23,
    "start_time": "2023-06-25T04:52:22.103Z"
   },
   {
    "duration": 27,
    "start_time": "2023-06-25T04:52:22.128Z"
   },
   {
    "duration": 13,
    "start_time": "2023-06-25T04:52:22.157Z"
   },
   {
    "duration": 14,
    "start_time": "2023-06-25T04:52:22.172Z"
   },
   {
    "duration": 16,
    "start_time": "2023-06-25T04:52:22.188Z"
   },
   {
    "duration": 11,
    "start_time": "2023-06-25T04:52:22.206Z"
   },
   {
    "duration": 12,
    "start_time": "2023-06-25T04:52:22.218Z"
   },
   {
    "duration": 10,
    "start_time": "2023-06-25T04:52:22.232Z"
   },
   {
    "duration": 28,
    "start_time": "2023-06-25T04:52:22.246Z"
   },
   {
    "duration": 84,
    "start_time": "2023-06-25T04:52:22.276Z"
   },
   {
    "duration": 5,
    "start_time": "2023-06-25T04:52:22.363Z"
   },
   {
    "duration": 1906,
    "start_time": "2023-06-25T04:52:22.370Z"
   },
   {
    "duration": 5,
    "start_time": "2023-06-25T04:52:24.278Z"
   },
   {
    "duration": 37,
    "start_time": "2023-06-25T04:52:24.285Z"
   },
   {
    "duration": 139,
    "start_time": "2023-06-25T04:52:24.324Z"
   },
   {
    "duration": 0,
    "start_time": "2023-06-25T04:52:24.465Z"
   },
   {
    "duration": 1501,
    "start_time": "2023-06-25T04:53:44.181Z"
   },
   {
    "duration": 31,
    "start_time": "2023-06-25T04:53:45.684Z"
   },
   {
    "duration": 16,
    "start_time": "2023-06-25T04:53:45.717Z"
   },
   {
    "duration": 21,
    "start_time": "2023-06-25T04:53:45.735Z"
   },
   {
    "duration": 4,
    "start_time": "2023-06-25T04:53:45.758Z"
   },
   {
    "duration": 8,
    "start_time": "2023-06-25T04:53:45.764Z"
   },
   {
    "duration": 12,
    "start_time": "2023-06-25T04:53:45.774Z"
   },
   {
    "duration": 9,
    "start_time": "2023-06-25T04:53:45.788Z"
   },
   {
    "duration": 11,
    "start_time": "2023-06-25T04:53:45.798Z"
   },
   {
    "duration": 4,
    "start_time": "2023-06-25T04:53:45.811Z"
   },
   {
    "duration": 35,
    "start_time": "2023-06-25T04:53:45.817Z"
   },
   {
    "duration": 8,
    "start_time": "2023-06-25T04:53:45.855Z"
   },
   {
    "duration": 6,
    "start_time": "2023-06-25T04:53:45.865Z"
   },
   {
    "duration": 46,
    "start_time": "2023-06-25T04:53:45.873Z"
   },
   {
    "duration": 90,
    "start_time": "2023-06-25T04:53:45.921Z"
   },
   {
    "duration": 4,
    "start_time": "2023-06-25T04:53:46.012Z"
   },
   {
    "duration": 1838,
    "start_time": "2023-06-25T04:53:46.018Z"
   },
   {
    "duration": 4,
    "start_time": "2023-06-25T04:53:47.859Z"
   },
   {
    "duration": 40,
    "start_time": "2023-06-25T04:53:47.864Z"
   },
   {
    "duration": 6,
    "start_time": "2023-06-25T04:53:47.906Z"
   },
   {
    "duration": 7,
    "start_time": "2023-06-25T04:53:47.914Z"
   },
   {
    "duration": 1424,
    "start_time": "2023-06-25T04:54:45.972Z"
   },
   {
    "duration": 30,
    "start_time": "2023-06-25T04:54:47.398Z"
   },
   {
    "duration": 15,
    "start_time": "2023-06-25T04:54:47.430Z"
   },
   {
    "duration": 20,
    "start_time": "2023-06-25T04:54:47.446Z"
   },
   {
    "duration": 6,
    "start_time": "2023-06-25T04:54:47.468Z"
   },
   {
    "duration": 9,
    "start_time": "2023-06-25T04:54:47.476Z"
   },
   {
    "duration": 19,
    "start_time": "2023-06-25T04:54:47.487Z"
   },
   {
    "duration": 5,
    "start_time": "2023-06-25T04:54:47.508Z"
   },
   {
    "duration": 14,
    "start_time": "2023-06-25T04:54:47.515Z"
   },
   {
    "duration": 6,
    "start_time": "2023-06-25T04:54:47.531Z"
   },
   {
    "duration": 9,
    "start_time": "2023-06-25T04:54:47.539Z"
   },
   {
    "duration": 11,
    "start_time": "2023-06-25T04:54:47.550Z"
   },
   {
    "duration": 8,
    "start_time": "2023-06-25T04:54:47.562Z"
   },
   {
    "duration": 32,
    "start_time": "2023-06-25T04:54:47.573Z"
   },
   {
    "duration": 89,
    "start_time": "2023-06-25T04:54:47.608Z"
   },
   {
    "duration": 5,
    "start_time": "2023-06-25T04:54:47.699Z"
   },
   {
    "duration": 2091,
    "start_time": "2023-06-25T04:54:47.706Z"
   },
   {
    "duration": 5,
    "start_time": "2023-06-25T04:54:49.799Z"
   },
   {
    "duration": 47,
    "start_time": "2023-06-25T04:54:49.806Z"
   },
   {
    "duration": 5,
    "start_time": "2023-06-25T04:54:49.855Z"
   },
   {
    "duration": 10,
    "start_time": "2023-06-25T04:54:49.862Z"
   },
   {
    "duration": 46,
    "start_time": "2023-06-25T05:19:30.084Z"
   },
   {
    "duration": 1505,
    "start_time": "2023-06-25T05:26:14.617Z"
   },
   {
    "duration": 31,
    "start_time": "2023-06-25T05:26:16.125Z"
   },
   {
    "duration": 15,
    "start_time": "2023-06-25T05:26:16.158Z"
   },
   {
    "duration": 13,
    "start_time": "2023-06-25T05:26:16.174Z"
   },
   {
    "duration": 20,
    "start_time": "2023-06-25T05:26:16.189Z"
   },
   {
    "duration": 24,
    "start_time": "2023-06-25T05:26:16.211Z"
   },
   {
    "duration": 11,
    "start_time": "2023-06-25T05:26:16.236Z"
   },
   {
    "duration": 5,
    "start_time": "2023-06-25T05:26:16.252Z"
   },
   {
    "duration": 38,
    "start_time": "2023-06-25T05:26:16.258Z"
   },
   {
    "duration": 19,
    "start_time": "2023-06-25T05:26:16.297Z"
   },
   {
    "duration": 9,
    "start_time": "2023-06-25T05:26:16.318Z"
   },
   {
    "duration": 10,
    "start_time": "2023-06-25T05:26:16.329Z"
   },
   {
    "duration": 12,
    "start_time": "2023-06-25T05:26:16.341Z"
   },
   {
    "duration": 43,
    "start_time": "2023-06-25T05:26:16.355Z"
   },
   {
    "duration": 74,
    "start_time": "2023-06-25T05:26:16.400Z"
   },
   {
    "duration": 5,
    "start_time": "2023-06-25T05:26:16.475Z"
   },
   {
    "duration": 1892,
    "start_time": "2023-06-25T05:26:16.482Z"
   },
   {
    "duration": 6,
    "start_time": "2023-06-25T05:26:18.376Z"
   },
   {
    "duration": 51,
    "start_time": "2023-06-25T05:26:18.384Z"
   },
   {
    "duration": 7,
    "start_time": "2023-06-25T05:26:18.451Z"
   },
   {
    "duration": 15,
    "start_time": "2023-06-25T05:26:18.461Z"
   },
   {
    "duration": 79,
    "start_time": "2023-07-02T05:40:53.629Z"
   },
   {
    "duration": 64,
    "start_time": "2023-07-02T05:42:38.227Z"
   },
   {
    "duration": 71,
    "start_time": "2023-07-02T05:57:36.420Z"
   },
   {
    "duration": 41,
    "start_time": "2023-07-02T05:59:55.381Z"
   },
   {
    "duration": 1455,
    "start_time": "2023-07-02T06:00:13.383Z"
   },
   {
    "duration": 122,
    "start_time": "2023-07-02T06:00:14.840Z"
   },
   {
    "duration": 12,
    "start_time": "2023-07-02T06:00:14.964Z"
   },
   {
    "duration": 12,
    "start_time": "2023-07-02T06:00:14.978Z"
   },
   {
    "duration": 7,
    "start_time": "2023-07-02T06:00:14.992Z"
   },
   {
    "duration": 46,
    "start_time": "2023-07-02T06:00:15.000Z"
   },
   {
    "duration": 30,
    "start_time": "2023-07-02T06:00:15.048Z"
   },
   {
    "duration": 9,
    "start_time": "2023-07-02T06:00:15.079Z"
   },
   {
    "duration": 37,
    "start_time": "2023-07-02T06:00:15.089Z"
   },
   {
    "duration": 15,
    "start_time": "2023-07-02T06:00:15.128Z"
   },
   {
    "duration": 9,
    "start_time": "2023-07-02T06:00:15.144Z"
   },
   {
    "duration": 11,
    "start_time": "2023-07-02T06:00:15.155Z"
   },
   {
    "duration": 8,
    "start_time": "2023-07-02T06:00:15.167Z"
   },
   {
    "duration": 25,
    "start_time": "2023-07-02T06:00:15.177Z"
   },
   {
    "duration": 81,
    "start_time": "2023-07-02T06:00:15.204Z"
   },
   {
    "duration": 4,
    "start_time": "2023-07-02T06:00:15.286Z"
   },
   {
    "duration": 1605,
    "start_time": "2023-07-02T06:00:15.291Z"
   },
   {
    "duration": 4,
    "start_time": "2023-07-02T06:00:16.898Z"
   },
   {
    "duration": 32,
    "start_time": "2023-07-02T06:00:16.903Z"
   },
   {
    "duration": 5,
    "start_time": "2023-07-02T06:00:16.937Z"
   },
   {
    "duration": 8,
    "start_time": "2023-07-02T06:00:16.943Z"
   },
   {
    "duration": 86,
    "start_time": "2023-07-02T06:03:24.089Z"
   }
  ],
  "kernelspec": {
   "display_name": "Python 3 (ipykernel)",
   "language": "python",
   "name": "python3"
  },
  "language_info": {
   "codemirror_mode": {
    "name": "ipython",
    "version": 3
   },
   "file_extension": ".py",
   "mimetype": "text/x-python",
   "name": "python",
   "nbconvert_exporter": "python",
   "pygments_lexer": "ipython3",
   "version": "3.9.5"
  },
  "toc": {
   "base_numbering": 1,
   "nav_menu": {},
   "number_sections": true,
   "sideBar": true,
   "skip_h1_title": true,
   "title_cell": "Содержание",
   "title_sidebar": "Contents",
   "toc_cell": true,
   "toc_position": {
    "height": "calc(100% - 180px)",
    "left": "10px",
    "top": "150px",
    "width": "260.188px"
   },
   "toc_section_display": true,
   "toc_window_display": true
  }
 },
 "nbformat": 4,
 "nbformat_minor": 2
}
