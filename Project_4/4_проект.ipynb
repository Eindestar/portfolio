{
 "cells": [
  {
   "cell_type": "markdown",
   "id": "804f3bfb",
   "metadata": {
    "toc": true
   },
   "source": [
    "<h1>Содержание<span class=\"tocSkip\"></span></h1>\n",
    "<div class=\"toc\"><ul class=\"toc-item\"><li><span><a href=\"#Шаг-1.-Загрузка-данных\" data-toc-modified-id=\"Шаг-1.-Загрузка-данных-1\"><span class=\"toc-item-num\">1&nbsp;&nbsp;</span>Шаг 1. Загрузка данных</a></span></li><li><span><a href=\"#Шаг-2.-Предобработка-данных\" data-toc-modified-id=\"Шаг-2.-Предобработка-данных-2\"><span class=\"toc-item-num\">2&nbsp;&nbsp;</span>Шаг 2. Предобработка данных</a></span></li><li><span><a href=\"#Шаг-3.-Исследовательский-анализ-данных\" data-toc-modified-id=\"Шаг-3.-Исследовательский-анализ-данных-3\"><span class=\"toc-item-num\">3&nbsp;&nbsp;</span>Шаг 3. Исследовательский анализ данных</a></span></li><li><span><a href=\"#Шаг-4.-Объединение-данных\" data-toc-modified-id=\"Шаг-4.-Объединение-данных-4\"><span class=\"toc-item-num\">4&nbsp;&nbsp;</span>Шаг 4. Объединение данных</a></span></li><li><span><a href=\"#Шаг-5.-Подсчёт-выручки\" data-toc-modified-id=\"Шаг-5.-Подсчёт-выручки-5\"><span class=\"toc-item-num\">5&nbsp;&nbsp;</span>Шаг 5. Подсчёт выручки</a></span></li><li><span><a href=\"#Шаг-6.-Проверка-гипотез\" data-toc-modified-id=\"Шаг-6.-Проверка-гипотез-6\"><span class=\"toc-item-num\">6&nbsp;&nbsp;</span>Шаг 6. Проверка гипотез</a></span></li><li><span><a href=\"#Шаг-7.-Распределения\" data-toc-modified-id=\"Шаг-7.-Распределения-7\"><span class=\"toc-item-num\">7&nbsp;&nbsp;</span>Шаг 7. Распределения</a></span></li></ul></div>"
   ]
  },
  {
   "cell_type": "markdown",
   "id": "6d5e7603",
   "metadata": {},
   "source": [
    "<div style=\"border:solid green 3px; padding: 20px\">\n",
    "<b>Привет, Эйнар!👋</b>\n",
    "    \n",
    "Меня зовут Ольга Вишневская, я буду проверять твой проект. Предлагаю общаться на \"ты\", но если тебе не удобно, пожалуйста дай знать. Моя основная цель — не указать на совершенные тобою ошибки, а поделиться своим опытом и помочь тебе в учебе.\n",
    "\n",
    "\n",
    "Ты можешь найти мои комментарии, обозначенные <font color='green'>зеленым</font>, <font color='gold'>желтым</font> и <font color='red'>красным</font> цветами, например:\n",
    "\n",
    "<p>\n",
    "<div class=\"alert-danger\">\n",
    "<b>Комментарий ревьюера ❌</b>\n",
    "\n",
    "Так выделены самые важные замечания. Без их отработки я не смогу принять проект. </div>\n",
    "\n",
    "<div class=\"alert-warning\">\n",
    "<b>Комментарий ревьюера ⚠️</b>\n",
    "\n",
    "Так выделены небольшие замечания. Не более трёх таких замечаний допустимы. Если их много - постарайся исправить их.</div>\n",
    "<p>\n",
    "<div class=\"alert-success\">\n",
    "<b>Комментарий ревьюера ✔️</b>\n",
    "\n",
    "Так выделены все остальные комментарии.</div>\n",
    "    \n",
    "Пожалуйста, <b>не перемещай, не изменяй и не удаляй мои комментарии</b>, они будут особенно полезны для нашей работы в случае повторной проверки проекта. \n",
    "Предлагаю работать в диалоге: если что-то дорабатываешь или отвечаешь на мой комментарий - пиши об этом и мне будет удобней, если ты выделишь свои комментарии:\n",
    "<p>\n",
    "<div class=\"alert-info\">\n",
    "<b>Комментарий студента</b>\n",
    "\n",
    "Например, так.</div>\n",
    "    \n",
    "    \n",
    "Увидев у тебя неточность, в первый раз я лишь укажу на ее наличие и дам тебе возможность самой найти и исправить ее. На реальной работе твой руководитель будет поступать также. Но если ты пока не справишься с такой задачей - при следующей проверке я дам более точную подсказку!🤓"
   ]
  },
  {
   "cell_type": "markdown",
   "id": "e82d2c96",
   "metadata": {},
   "source": [
    "<div class=\"alert-info\">\n",
    "Привет, Ольга! Спасибо большое за оценку моей работы. Постарался исправить все недочеты.\n",
    "</div>"
   ]
  },
  {
   "cell_type": "markdown",
   "id": "fc7e50f7",
   "metadata": {},
   "source": [
    "<div style=\"border:solid green 3px; padding: 20px\">\n",
    "<p>\n",
    "<div class=\"alert-success\">\n",
    "    \n",
    "Добрый день, Эйнар! Спасибо за обратную связь. Новые комментарии я буду помечать вот так:  \n",
    "<b>Комментарий ревьюера 2, 3, ...</b>"
   ]
  },
  {
   "cell_type": "markdown",
   "id": "9a572740",
   "metadata": {},
   "source": [
    "<p>\n",
    "<div class=\"alert-danger\">\n",
    "<b>Комментарий ревьюера ❌</b> \n",
    "\n",
    "\n",
    "Нужно добавить вступление. Стоит написать заголовок, краткое описание проекта, цель проекта, план работы и описание данных, тогда получатель отчета сможет быстрей его понять. \n",
    "\n",
    "\n",
    "\n",
    "Пример описания данных:\n",
    "    \n",
    "Пользователи — `users_go.csv`\n",
    "* `user_id` - уникальный идентификатор пользователя name имя пользователя\n",
    "age возраст\n",
    "* `city` - город\n",
    "...\n",
    "\n",
    "\n",
    "    \n",
    "Твой проект станет намного удобней в использовании, если ты добавишь интерактивное оглавление — с помощью гиперссылок или в плагине toc. Материал об этом есть в блоке курса Полезные инструкции для учёбы - Оформление проекта - Изменения в Jupyter: автоматическое оглавление и горячие клавиши."
   ]
  },
  {
   "cell_type": "markdown",
   "id": "651048be",
   "metadata": {},
   "source": [
    "<div class=\"alert-info\">\n",
    "Добавил описание и план работы</div>"
   ]
  },
  {
   "cell_type": "markdown",
   "id": "de314886",
   "metadata": {},
   "source": [
    "<b>Описание проекта</b>\n",
    "\n",
    "Для популярного сервиса аренды самокатов GoFast необходимо проанализировать данные и проверить некоторые гипотезы, которые могут помочь бизнесу вырасти. Были переданы данные о некоторых пользователях из нескольких городов, а также об их поездках.\n",
    "\n",
    "Чтобы совершать поездки по городу, пользователи сервиса GoFast пользуются мобильным приложением. Сервисом можно пользоваться:\n",
    "\n",
    "без подписки: \n",
    "- абонентская плата отсутствует;\n",
    "- стоимость одной минуты поездки — 8 рублей;\n",
    "- стоимость старта (начала поездки) — 50 рублей;\n",
    "\n",
    "с подпиской Ultra\n",
    "- абонентская плата — 199 рублей в месяц;\n",
    "- стоимость одной минуты поездки — 6 рублей;\n",
    "- стоимость старта — бесплатно.\n",
    "\n",
    "<b>Описание данных</b>\n",
    "\n",
    "В основных данных есть информация о пользователях, их поездках и подписках. \n",
    "\n",
    "Пользователи — users_go.csv\n",
    "- user_id\t- уникальный идентификатор пользователя\n",
    "- name - имя пользователя\n",
    "- age\t- возраст\n",
    "- city - город\n",
    "- subscription_type - тип подписки (free, ultra)\n",
    "\n",
    "Поездки — rides_go.csv\n",
    "- user_id\t- уникальный идентификатор пользователя\n",
    "- distance - расстояние, которое пользователь проехал в текущей сессии (в метрах)\n",
    "- duration - продолжительность сессии (в минутах) — время с того момента, как пользователь нажал кнопку «Начать поездку» до момента, как он нажал кнопку «Завершить поездку»\n",
    "- date - дата совершения поездки\n",
    "\n",
    "Подписки - subscriptions_go.csv\n",
    "- subscription_type - тип подписки\n",
    "- minute_price - стоимость одной минуты поездки по данной подписке\n",
    "- start_ride_price - стоимость начала поездки\n",
    "- subscription_fee - стоимость ежемесячного платежа\n",
    "\n",
    "<b>План работы</b>\n",
    "\n",
    "<b>Шаг 1. Загрузка данных</b>\n",
    "- 1.1 Считайте CSV-файлы с данными с помощью библиотеки pandas и сохраните их в датафреймы. \n",
    "- 1.2 Вывести первые строки каждого набора данных. Изучить общую информацию о каждом датафрейме.\n",
    "\n",
    "<b>Шаг 2. Предобработка данных</b>\n",
    "- 2.1 Привести столбец date к типу даты pandas.\n",
    "- 2.2 Создать новый столбец с номером месяца на основе столбца date.\n",
    "- 2.3 Проверить наличие пропущенных значений и дубликатов в датафреймах. Обработать их, если такие значения присутствуют.\n",
    "\n",
    "<b>Шаг 3. Исследовательский анализ данных. Описать и визуализировать общую информацию о пользователях и поездках:</b>\n",
    "- 3.1 частота встречаемости городов;\n",
    "- 3.2 соотношение пользователей с подпиской и без подписки;\n",
    "- 3.3 возраст пользователей;\n",
    "- 3.4 расстояние, которое пользователь преодолел за одну поездку;\n",
    "- 3.5 продолжительность поездок.\n",
    "\n",
    "<b>Шаг 4. Объединение данных</b>\n",
    "- 4.1 Объединить данные о пользователях, поездках и подписках в один датафрейм.\n",
    "- 4.2 Создать ещё два датафрейма из датафрейма, созданного на этапе 4.1: c данными о пользователях без подписки и с подпиской \n",
    "- 4.3 Визуализировать информацию о расстоянии и времени поездок для пользователей обеих категорий.\n",
    "\n",
    "<b>Шаг 5. Подсчёт выручки</b>\n",
    "- 5.1 Создать датафрейм с агрегированными данными о поездках на основе датафрейма с объединёнными данными из шага 4: найти суммарное расстояние, количество поездок и суммарное время для каждого пользователя за каждый месяц.\n",
    "- 5.2 В этот же датафрейм добавьте столбец с помесячной выручкой, которую принёс каждый пользователь. \n",
    "\n",
    "<b>Шаг 6. Проверка гипотез</b>\n",
    "Продакт-менеджеры сервиса хотят увеличить количество пользователей с подпиской. Для этого они будут проводить различные акции, но сначала нужно выяснить несколько важных моментов.\n",
    "- 6.1 Важно понять, тратят ли пользователи с подпиской больше времени на поездки? Если да, то пользователи с подпиской могут быть «выгоднее» для компании. Проверьте гипотезу. Используйте исходные данные о продолжительности каждой сессии — отдельно для подписчиков и тех, у кого нет подписки.\n",
    "- 6.2 Расстояние одной поездки в 3130 метров — оптимальное с точки зрения износа самоката. Можно ли сказать, что расстояние, которое проезжают пользователи с подпиской за одну поездку, не превышает 3130 метров? Проверьте гипотезу и сделайте выводы.\n",
    "- 6.3. Проверьте гипотезу о том, будет ли помесячная выручка от пользователей с подпиской по месяцам выше, чем выручка от пользователей без подписки. \n",
    "- 6.4. Представьте такую ситуацию: техническая команда сервиса обновила сервера, с которыми взаимодействует мобильное приложение. Она надеется, что из-за этого количество обращений в техподдержку значимо снизилось. Некоторый файл содержит для каждого пользователя данные о количестве обращений до обновления и после него. Какой тест вам понадобился бы для проверки этой гипотезы?\n",
    "\n",
    "<b>Выводы</b>"
   ]
  },
  {
   "cell_type": "markdown",
   "id": "47654c5c",
   "metadata": {},
   "source": [
    "<p>\n",
    "<div class=\"alert-success\">\n",
    "<b>Комментарий ревьюера 2 ✔️</b>\n",
    "\n",
    "    \n",
    "👍</div>"
   ]
  },
  {
   "cell_type": "code",
   "execution_count": 1,
   "id": "72576667",
   "metadata": {},
   "outputs": [],
   "source": [
    "import pandas as pd\n",
    "import matplotlib.pyplot as plt\n",
    "from scipy import stats as st\n",
    "import numpy as np"
   ]
  },
  {
   "cell_type": "markdown",
   "id": "a5273e10",
   "metadata": {},
   "source": [
    "<p>\n",
    "<div class=\"alert-success\">\n",
    "<b>Комментарий ревьюера ✔️</b>\n",
    "\n",
    "Молодец, что загружаешь все библиотеки в начале проекта. Так сложней случайно удалить ячейку с загрузкой нужной библиотеки и сделать код не работающим. А получатель отчета сразу поймет, какие библиотеки ты используешь и какие ему нужно установить для запуска проекта.    \n"
   ]
  },
  {
   "cell_type": "markdown",
   "id": "c42cbe00",
   "metadata": {},
   "source": [
    "## Шаг 1. Загрузка данных"
   ]
  },
  {
   "cell_type": "markdown",
   "id": "ac8a15c5",
   "metadata": {},
   "source": [
    "1.1 Считаем CSV-файлы с данными с помощью библиотеки pandas и сохраним их в датафреймы."
   ]
  },
  {
   "cell_type": "code",
   "execution_count": 2,
   "id": "eff9f206",
   "metadata": {},
   "outputs": [],
   "source": [
    "user = pd.read_csv('/datasets/users_go.csv')"
   ]
  },
  {
   "cell_type": "code",
   "execution_count": 3,
   "id": "8bc45472",
   "metadata": {},
   "outputs": [],
   "source": [
    "rider = pd.read_csv('/datasets/rides_go.csv')"
   ]
  },
  {
   "cell_type": "code",
   "execution_count": 4,
   "id": "8c7c0188",
   "metadata": {},
   "outputs": [],
   "source": [
    "subscriptions = pd.read_csv('/datasets/subscriptions_go.csv')"
   ]
  },
  {
   "cell_type": "markdown",
   "id": "17465eb6",
   "metadata": {},
   "source": [
    "1.2 Выведем первые строки каждого набора данных. Изучим общую информацию о каждом датафрейме."
   ]
  },
  {
   "cell_type": "code",
   "execution_count": 5,
   "id": "5f00631a",
   "metadata": {},
   "outputs": [
    {
     "data": {
      "text/html": [
       "<div>\n",
       "<style scoped>\n",
       "    .dataframe tbody tr th:only-of-type {\n",
       "        vertical-align: middle;\n",
       "    }\n",
       "\n",
       "    .dataframe tbody tr th {\n",
       "        vertical-align: top;\n",
       "    }\n",
       "\n",
       "    .dataframe thead th {\n",
       "        text-align: right;\n",
       "    }\n",
       "</style>\n",
       "<table border=\"1\" class=\"dataframe\">\n",
       "  <thead>\n",
       "    <tr style=\"text-align: right;\">\n",
       "      <th></th>\n",
       "      <th>user_id</th>\n",
       "      <th>name</th>\n",
       "      <th>age</th>\n",
       "      <th>city</th>\n",
       "      <th>subscription_type</th>\n",
       "    </tr>\n",
       "  </thead>\n",
       "  <tbody>\n",
       "    <tr>\n",
       "      <th>0</th>\n",
       "      <td>1</td>\n",
       "      <td>Кира</td>\n",
       "      <td>22</td>\n",
       "      <td>Тюмень</td>\n",
       "      <td>ultra</td>\n",
       "    </tr>\n",
       "    <tr>\n",
       "      <th>1</th>\n",
       "      <td>2</td>\n",
       "      <td>Станислав</td>\n",
       "      <td>31</td>\n",
       "      <td>Омск</td>\n",
       "      <td>ultra</td>\n",
       "    </tr>\n",
       "    <tr>\n",
       "      <th>2</th>\n",
       "      <td>3</td>\n",
       "      <td>Алексей</td>\n",
       "      <td>20</td>\n",
       "      <td>Москва</td>\n",
       "      <td>ultra</td>\n",
       "    </tr>\n",
       "    <tr>\n",
       "      <th>3</th>\n",
       "      <td>4</td>\n",
       "      <td>Константин</td>\n",
       "      <td>26</td>\n",
       "      <td>Ростов-на-Дону</td>\n",
       "      <td>ultra</td>\n",
       "    </tr>\n",
       "    <tr>\n",
       "      <th>4</th>\n",
       "      <td>5</td>\n",
       "      <td>Адель</td>\n",
       "      <td>28</td>\n",
       "      <td>Омск</td>\n",
       "      <td>ultra</td>\n",
       "    </tr>\n",
       "    <tr>\n",
       "      <th>5</th>\n",
       "      <td>6</td>\n",
       "      <td>Регина</td>\n",
       "      <td>25</td>\n",
       "      <td>Краснодар</td>\n",
       "      <td>ultra</td>\n",
       "    </tr>\n",
       "    <tr>\n",
       "      <th>6</th>\n",
       "      <td>7</td>\n",
       "      <td>Игорь</td>\n",
       "      <td>23</td>\n",
       "      <td>Омск</td>\n",
       "      <td>ultra</td>\n",
       "    </tr>\n",
       "    <tr>\n",
       "      <th>7</th>\n",
       "      <td>8</td>\n",
       "      <td>Юрий</td>\n",
       "      <td>23</td>\n",
       "      <td>Краснодар</td>\n",
       "      <td>ultra</td>\n",
       "    </tr>\n",
       "    <tr>\n",
       "      <th>8</th>\n",
       "      <td>9</td>\n",
       "      <td>Ян</td>\n",
       "      <td>21</td>\n",
       "      <td>Пятигорск</td>\n",
       "      <td>ultra</td>\n",
       "    </tr>\n",
       "    <tr>\n",
       "      <th>9</th>\n",
       "      <td>10</td>\n",
       "      <td>Валерий</td>\n",
       "      <td>18</td>\n",
       "      <td>Екатеринбург</td>\n",
       "      <td>ultra</td>\n",
       "    </tr>\n",
       "  </tbody>\n",
       "</table>\n",
       "</div>"
      ],
      "text/plain": [
       "   user_id        name  age            city subscription_type\n",
       "0        1        Кира   22          Тюмень             ultra\n",
       "1        2   Станислав   31            Омск             ultra\n",
       "2        3     Алексей   20          Москва             ultra\n",
       "3        4  Константин   26  Ростов-на-Дону             ultra\n",
       "4        5       Адель   28            Омск             ultra\n",
       "5        6      Регина   25       Краснодар             ultra\n",
       "6        7       Игорь   23            Омск             ultra\n",
       "7        8        Юрий   23       Краснодар             ultra\n",
       "8        9          Ян   21       Пятигорск             ultra\n",
       "9       10     Валерий   18    Екатеринбург             ultra"
      ]
     },
     "execution_count": 5,
     "metadata": {},
     "output_type": "execute_result"
    }
   ],
   "source": [
    "user.head(10)"
   ]
  },
  {
   "cell_type": "code",
   "execution_count": 6,
   "id": "9a7fcaad",
   "metadata": {},
   "outputs": [
    {
     "data": {
      "text/plain": [
       "array([   1,    2,    3, ..., 1532, 1533, 1534])"
      ]
     },
     "execution_count": 6,
     "metadata": {},
     "output_type": "execute_result"
    }
   ],
   "source": [
    "user['user_id'].unique()"
   ]
  },
  {
   "cell_type": "code",
   "execution_count": 7,
   "id": "87331739",
   "metadata": {},
   "outputs": [
    {
     "name": "stdout",
     "output_type": "stream",
     "text": [
      "<class 'pandas.core.frame.DataFrame'>\n",
      "RangeIndex: 1565 entries, 0 to 1564\n",
      "Data columns (total 5 columns):\n",
      " #   Column             Non-Null Count  Dtype \n",
      "---  ------             --------------  ----- \n",
      " 0   user_id            1565 non-null   int64 \n",
      " 1   name               1565 non-null   object\n",
      " 2   age                1565 non-null   int64 \n",
      " 3   city               1565 non-null   object\n",
      " 4   subscription_type  1565 non-null   object\n",
      "dtypes: int64(2), object(3)\n",
      "memory usage: 61.3+ KB\n"
     ]
    }
   ],
   "source": [
    "user.info()"
   ]
  },
  {
   "cell_type": "code",
   "execution_count": 8,
   "id": "e63fdcc9",
   "metadata": {},
   "outputs": [
    {
     "data": {
      "text/html": [
       "<div>\n",
       "<style scoped>\n",
       "    .dataframe tbody tr th:only-of-type {\n",
       "        vertical-align: middle;\n",
       "    }\n",
       "\n",
       "    .dataframe tbody tr th {\n",
       "        vertical-align: top;\n",
       "    }\n",
       "\n",
       "    .dataframe thead th {\n",
       "        text-align: right;\n",
       "    }\n",
       "</style>\n",
       "<table border=\"1\" class=\"dataframe\">\n",
       "  <thead>\n",
       "    <tr style=\"text-align: right;\">\n",
       "      <th></th>\n",
       "      <th>user_id</th>\n",
       "      <th>distance</th>\n",
       "      <th>duration</th>\n",
       "      <th>date</th>\n",
       "    </tr>\n",
       "  </thead>\n",
       "  <tbody>\n",
       "    <tr>\n",
       "      <th>0</th>\n",
       "      <td>1</td>\n",
       "      <td>4409.919140</td>\n",
       "      <td>25.599769</td>\n",
       "      <td>2021-01-01</td>\n",
       "    </tr>\n",
       "    <tr>\n",
       "      <th>1</th>\n",
       "      <td>1</td>\n",
       "      <td>2617.592153</td>\n",
       "      <td>15.816871</td>\n",
       "      <td>2021-01-18</td>\n",
       "    </tr>\n",
       "    <tr>\n",
       "      <th>2</th>\n",
       "      <td>1</td>\n",
       "      <td>754.159807</td>\n",
       "      <td>6.232113</td>\n",
       "      <td>2021-04-20</td>\n",
       "    </tr>\n",
       "    <tr>\n",
       "      <th>3</th>\n",
       "      <td>1</td>\n",
       "      <td>2694.783254</td>\n",
       "      <td>18.511000</td>\n",
       "      <td>2021-08-11</td>\n",
       "    </tr>\n",
       "    <tr>\n",
       "      <th>4</th>\n",
       "      <td>1</td>\n",
       "      <td>4028.687306</td>\n",
       "      <td>26.265803</td>\n",
       "      <td>2021-08-28</td>\n",
       "    </tr>\n",
       "    <tr>\n",
       "      <th>5</th>\n",
       "      <td>1</td>\n",
       "      <td>2770.890808</td>\n",
       "      <td>16.650138</td>\n",
       "      <td>2021-10-09</td>\n",
       "    </tr>\n",
       "    <tr>\n",
       "      <th>6</th>\n",
       "      <td>1</td>\n",
       "      <td>3039.020292</td>\n",
       "      <td>14.927879</td>\n",
       "      <td>2021-10-19</td>\n",
       "    </tr>\n",
       "    <tr>\n",
       "      <th>7</th>\n",
       "      <td>1</td>\n",
       "      <td>2842.118050</td>\n",
       "      <td>23.117468</td>\n",
       "      <td>2021-11-06</td>\n",
       "    </tr>\n",
       "    <tr>\n",
       "      <th>8</th>\n",
       "      <td>1</td>\n",
       "      <td>3412.690668</td>\n",
       "      <td>15.238072</td>\n",
       "      <td>2021-11-14</td>\n",
       "    </tr>\n",
       "    <tr>\n",
       "      <th>9</th>\n",
       "      <td>1</td>\n",
       "      <td>748.690645</td>\n",
       "      <td>15.041884</td>\n",
       "      <td>2021-11-22</td>\n",
       "    </tr>\n",
       "  </tbody>\n",
       "</table>\n",
       "</div>"
      ],
      "text/plain": [
       "   user_id     distance   duration        date\n",
       "0        1  4409.919140  25.599769  2021-01-01\n",
       "1        1  2617.592153  15.816871  2021-01-18\n",
       "2        1   754.159807   6.232113  2021-04-20\n",
       "3        1  2694.783254  18.511000  2021-08-11\n",
       "4        1  4028.687306  26.265803  2021-08-28\n",
       "5        1  2770.890808  16.650138  2021-10-09\n",
       "6        1  3039.020292  14.927879  2021-10-19\n",
       "7        1  2842.118050  23.117468  2021-11-06\n",
       "8        1  3412.690668  15.238072  2021-11-14\n",
       "9        1   748.690645  15.041884  2021-11-22"
      ]
     },
     "execution_count": 8,
     "metadata": {},
     "output_type": "execute_result"
    }
   ],
   "source": [
    "rider.head(10)"
   ]
  },
  {
   "cell_type": "code",
   "execution_count": 9,
   "id": "12db8b64",
   "metadata": {},
   "outputs": [
    {
     "name": "stdout",
     "output_type": "stream",
     "text": [
      "<class 'pandas.core.frame.DataFrame'>\n",
      "RangeIndex: 18068 entries, 0 to 18067\n",
      "Data columns (total 4 columns):\n",
      " #   Column    Non-Null Count  Dtype  \n",
      "---  ------    --------------  -----  \n",
      " 0   user_id   18068 non-null  int64  \n",
      " 1   distance  18068 non-null  float64\n",
      " 2   duration  18068 non-null  float64\n",
      " 3   date      18068 non-null  object \n",
      "dtypes: float64(2), int64(1), object(1)\n",
      "memory usage: 564.8+ KB\n"
     ]
    }
   ],
   "source": [
    "rider.info()"
   ]
  },
  {
   "cell_type": "code",
   "execution_count": 10,
   "id": "f84467f6",
   "metadata": {
    "scrolled": true
   },
   "outputs": [
    {
     "data": {
      "text/html": [
       "<div>\n",
       "<style scoped>\n",
       "    .dataframe tbody tr th:only-of-type {\n",
       "        vertical-align: middle;\n",
       "    }\n",
       "\n",
       "    .dataframe tbody tr th {\n",
       "        vertical-align: top;\n",
       "    }\n",
       "\n",
       "    .dataframe thead th {\n",
       "        text-align: right;\n",
       "    }\n",
       "</style>\n",
       "<table border=\"1\" class=\"dataframe\">\n",
       "  <thead>\n",
       "    <tr style=\"text-align: right;\">\n",
       "      <th></th>\n",
       "      <th>subscription_type</th>\n",
       "      <th>minute_price</th>\n",
       "      <th>start_ride_price</th>\n",
       "      <th>subscription_fee</th>\n",
       "    </tr>\n",
       "  </thead>\n",
       "  <tbody>\n",
       "    <tr>\n",
       "      <th>0</th>\n",
       "      <td>free</td>\n",
       "      <td>8</td>\n",
       "      <td>50</td>\n",
       "      <td>0</td>\n",
       "    </tr>\n",
       "    <tr>\n",
       "      <th>1</th>\n",
       "      <td>ultra</td>\n",
       "      <td>6</td>\n",
       "      <td>0</td>\n",
       "      <td>199</td>\n",
       "    </tr>\n",
       "  </tbody>\n",
       "</table>\n",
       "</div>"
      ],
      "text/plain": [
       "  subscription_type  minute_price  start_ride_price  subscription_fee\n",
       "0              free             8                50                 0\n",
       "1             ultra             6                 0               199"
      ]
     },
     "execution_count": 10,
     "metadata": {},
     "output_type": "execute_result"
    }
   ],
   "source": [
    "subscriptions.head()"
   ]
  },
  {
   "cell_type": "code",
   "execution_count": 11,
   "id": "5b2db785",
   "metadata": {},
   "outputs": [
    {
     "name": "stdout",
     "output_type": "stream",
     "text": [
      "<class 'pandas.core.frame.DataFrame'>\n",
      "RangeIndex: 2 entries, 0 to 1\n",
      "Data columns (total 4 columns):\n",
      " #   Column             Non-Null Count  Dtype \n",
      "---  ------             --------------  ----- \n",
      " 0   subscription_type  2 non-null      object\n",
      " 1   minute_price       2 non-null      int64 \n",
      " 2   start_ride_price   2 non-null      int64 \n",
      " 3   subscription_fee   2 non-null      int64 \n",
      "dtypes: int64(3), object(1)\n",
      "memory usage: 192.0+ bytes\n"
     ]
    }
   ],
   "source": [
    "subscriptions.info()"
   ]
  },
  {
   "cell_type": "markdown",
   "id": "aa8a740d",
   "metadata": {},
   "source": [
    "<p>\n",
    "<div class=\"alert-danger\">\n",
    "<b>Комментарий ревьюера ❌</b>   \n",
    "    \n",
    "Нужно подвести небольшой итог обзору данных из файлов. Есть ли в данных пропуски? Неправильные типы? "
   ]
  },
  {
   "cell_type": "markdown",
   "id": "90399a7e",
   "metadata": {},
   "source": [
    "<div class=\"alert-info\">\n",
    "Добавил небольшой итог </div>"
   ]
  },
  {
   "cell_type": "markdown",
   "id": "f06866e4",
   "metadata": {},
   "source": [
    "В данном шаге была изучена общая информация о датафреймах. Количество пользователей из разных городов, с подпиской и без, количество, расстояние и время поездок. Пропусков не обнаружено.\n",
    "все данные правильные\n",
    "- user_id, age  - относится к int64\n",
    "- distance, duration - относятся к float64\n",
    "- name, city, subscription_type, date - относятся к object"
   ]
  },
  {
   "cell_type": "markdown",
   "id": "bc5d7b28",
   "metadata": {},
   "source": [
    "<p>\n",
    "<div class=\"alert-success\">\n",
    "<b>Комментарий ревьюера 2 ✔️</b>\n",
    "\n",
    "    \n",
    "👍</div>"
   ]
  },
  {
   "cell_type": "markdown",
   "id": "e95ebca7",
   "metadata": {},
   "source": [
    "## Шаг 2. Предобработка данных"
   ]
  },
  {
   "cell_type": "markdown",
   "id": "033567a3",
   "metadata": {},
   "source": [
    "2.1 Приведем столбец date к типу даты pandas."
   ]
  },
  {
   "cell_type": "code",
   "execution_count": 12,
   "id": "73a2daec",
   "metadata": {},
   "outputs": [],
   "source": [
    "# обработка столбца date, таблицы rider\n",
    "rider['date'] = pd.to_datetime(rider['date'], format='%Y-%m-%d')"
   ]
  },
  {
   "cell_type": "markdown",
   "id": "c05e87a4",
   "metadata": {},
   "source": [
    "2.2 Создайте новый столбец с номером месяца на основе столбца date."
   ]
  },
  {
   "cell_type": "code",
   "execution_count": 13,
   "id": "637cf076",
   "metadata": {},
   "outputs": [],
   "source": [
    "# Создадим столбец month в датафрейме rider с номером месяца из столбца date\n",
    "rider['month'] = rider['date'].dt.month"
   ]
  },
  {
   "cell_type": "code",
   "execution_count": 14,
   "id": "e8936cf4",
   "metadata": {},
   "outputs": [
    {
     "data": {
      "text/html": [
       "<div>\n",
       "<style scoped>\n",
       "    .dataframe tbody tr th:only-of-type {\n",
       "        vertical-align: middle;\n",
       "    }\n",
       "\n",
       "    .dataframe tbody tr th {\n",
       "        vertical-align: top;\n",
       "    }\n",
       "\n",
       "    .dataframe thead th {\n",
       "        text-align: right;\n",
       "    }\n",
       "</style>\n",
       "<table border=\"1\" class=\"dataframe\">\n",
       "  <thead>\n",
       "    <tr style=\"text-align: right;\">\n",
       "      <th></th>\n",
       "      <th>user_id</th>\n",
       "      <th>distance</th>\n",
       "      <th>duration</th>\n",
       "      <th>date</th>\n",
       "      <th>month</th>\n",
       "    </tr>\n",
       "  </thead>\n",
       "  <tbody>\n",
       "    <tr>\n",
       "      <th>0</th>\n",
       "      <td>1</td>\n",
       "      <td>4409.919140</td>\n",
       "      <td>25.599769</td>\n",
       "      <td>2021-01-01</td>\n",
       "      <td>1</td>\n",
       "    </tr>\n",
       "    <tr>\n",
       "      <th>1</th>\n",
       "      <td>1</td>\n",
       "      <td>2617.592153</td>\n",
       "      <td>15.816871</td>\n",
       "      <td>2021-01-18</td>\n",
       "      <td>1</td>\n",
       "    </tr>\n",
       "    <tr>\n",
       "      <th>2</th>\n",
       "      <td>1</td>\n",
       "      <td>754.159807</td>\n",
       "      <td>6.232113</td>\n",
       "      <td>2021-04-20</td>\n",
       "      <td>4</td>\n",
       "    </tr>\n",
       "    <tr>\n",
       "      <th>3</th>\n",
       "      <td>1</td>\n",
       "      <td>2694.783254</td>\n",
       "      <td>18.511000</td>\n",
       "      <td>2021-08-11</td>\n",
       "      <td>8</td>\n",
       "    </tr>\n",
       "    <tr>\n",
       "      <th>4</th>\n",
       "      <td>1</td>\n",
       "      <td>4028.687306</td>\n",
       "      <td>26.265803</td>\n",
       "      <td>2021-08-28</td>\n",
       "      <td>8</td>\n",
       "    </tr>\n",
       "  </tbody>\n",
       "</table>\n",
       "</div>"
      ],
      "text/plain": [
       "   user_id     distance   duration       date  month\n",
       "0        1  4409.919140  25.599769 2021-01-01      1\n",
       "1        1  2617.592153  15.816871 2021-01-18      1\n",
       "2        1   754.159807   6.232113 2021-04-20      4\n",
       "3        1  2694.783254  18.511000 2021-08-11      8\n",
       "4        1  4028.687306  26.265803 2021-08-28      8"
      ]
     },
     "execution_count": 14,
     "metadata": {},
     "output_type": "execute_result"
    }
   ],
   "source": [
    "rider.head()"
   ]
  },
  {
   "cell_type": "code",
   "execution_count": 15,
   "id": "c522ea9e",
   "metadata": {},
   "outputs": [
    {
     "data": {
      "text/plain": [
       "Timestamp('2021-01-01 00:00:00')"
      ]
     },
     "execution_count": 15,
     "metadata": {},
     "output_type": "execute_result"
    }
   ],
   "source": [
    "rider['date'].min()"
   ]
  },
  {
   "cell_type": "code",
   "execution_count": 16,
   "id": "2618e577",
   "metadata": {},
   "outputs": [
    {
     "data": {
      "text/plain": [
       "Timestamp('2021-12-30 00:00:00')"
      ]
     },
     "execution_count": 16,
     "metadata": {},
     "output_type": "execute_result"
    }
   ],
   "source": [
    "rider['date'].max()"
   ]
  },
  {
   "cell_type": "markdown",
   "id": "8cad1c05",
   "metadata": {},
   "source": [
    "<div class=\"alert-info\">\n",
    "попробовал проверить через min() и max() </div>"
   ]
  },
  {
   "cell_type": "markdown",
   "id": "da537cae",
   "metadata": {},
   "source": [
    "Данные берутся за весь 2021 год"
   ]
  },
  {
   "cell_type": "markdown",
   "id": "9da0c6c7",
   "metadata": {},
   "source": [
    "<div class=\"alert-warning\">\n",
    "<b>Комментарий ревьюера ⚠️</b>\n",
    "\n",
    "На этом этапе так же стоит проверить за какой период у нас данные\n"
   ]
  },
  {
   "cell_type": "markdown",
   "id": "d40dbc2a",
   "metadata": {},
   "source": [
    "<p>\n",
    "<div class=\"alert-success\">\n",
    "<b>Комментарий ревьюера 2 ✔️</b>\n",
    "\n",
    "    \n",
    "👍</div>"
   ]
  },
  {
   "cell_type": "markdown",
   "id": "e339e6e9",
   "metadata": {},
   "source": [
    "2.3 Проверим наличие пропущенных значений и дубликатов в датафреймах. Обработаем их, если такие значения присутствуют."
   ]
  },
  {
   "cell_type": "markdown",
   "id": "cdff315d",
   "metadata": {},
   "source": [
    "2.3.1 проверим пропуски"
   ]
  },
  {
   "cell_type": "code",
   "execution_count": 17,
   "id": "690dae83",
   "metadata": {},
   "outputs": [
    {
     "data": {
      "text/plain": [
       "user_id              0\n",
       "name                 0\n",
       "age                  0\n",
       "city                 0\n",
       "subscription_type    0\n",
       "dtype: int64"
      ]
     },
     "execution_count": 17,
     "metadata": {},
     "output_type": "execute_result"
    }
   ],
   "source": [
    "user.isna().sum()"
   ]
  },
  {
   "cell_type": "code",
   "execution_count": 18,
   "id": "414b7b10",
   "metadata": {},
   "outputs": [
    {
     "data": {
      "text/plain": [
       "user_id     0\n",
       "distance    0\n",
       "duration    0\n",
       "date        0\n",
       "month       0\n",
       "dtype: int64"
      ]
     },
     "execution_count": 18,
     "metadata": {},
     "output_type": "execute_result"
    }
   ],
   "source": [
    "rider.isna().sum()"
   ]
  },
  {
   "cell_type": "markdown",
   "id": "d380a982",
   "metadata": {},
   "source": [
    "2.3.2 проверим дубликаты"
   ]
  },
  {
   "cell_type": "code",
   "execution_count": 19,
   "id": "d2de1660",
   "metadata": {},
   "outputs": [
    {
     "data": {
      "text/plain": [
       "31"
      ]
     },
     "execution_count": 19,
     "metadata": {},
     "output_type": "execute_result"
    }
   ],
   "source": [
    "user['user_id'].duplicated().sum()"
   ]
  },
  {
   "cell_type": "code",
   "execution_count": 20,
   "id": "46f444a2",
   "metadata": {},
   "outputs": [
    {
     "data": {
      "text/plain": [
       "0       False\n",
       "1       False\n",
       "2       False\n",
       "3       False\n",
       "4       False\n",
       "        ...  \n",
       "1560     True\n",
       "1561     True\n",
       "1562     True\n",
       "1563     True\n",
       "1564     True\n",
       "Name: user_id, Length: 1565, dtype: bool"
      ]
     },
     "execution_count": 20,
     "metadata": {},
     "output_type": "execute_result"
    }
   ],
   "source": [
    "user['user_id'].duplicated()"
   ]
  },
  {
   "cell_type": "code",
   "execution_count": 21,
   "id": "4457d340",
   "metadata": {},
   "outputs": [
    {
     "data": {
      "text/plain": [
       "user_id  name       age  city            subscription_type\n",
       "209      Андрей     23   Омск            ultra                2\n",
       "807      Александр  28   Екатеринбург    free                 2\n",
       "611      Владимир   28   Омск            ultra                2\n",
       "43       Стефания   22   Омск            ultra                2\n",
       "737      Мелания    27   Ростов-на-Дону  free                 2\n",
       "                                                             ..\n",
       "520      Анжелика   30   Екатеринбург    ultra                1\n",
       "519      Даниэль    22   Ростов-на-Дону  ultra                1\n",
       "518      Алиса      22   Ростов-на-Дону  ultra                1\n",
       "517      Олег       25   Краснодар       ultra                1\n",
       "1534     Альберт    25   Краснодар       free                 1\n",
       "Length: 1534, dtype: int64"
      ]
     },
     "execution_count": 21,
     "metadata": {},
     "output_type": "execute_result"
    }
   ],
   "source": [
    "user.value_counts()"
   ]
  },
  {
   "cell_type": "code",
   "execution_count": 22,
   "id": "27ec7085",
   "metadata": {},
   "outputs": [
    {
     "data": {
      "text/plain": [
       "array([   1,    2,    3, ..., 1532, 1533, 1534])"
      ]
     },
     "execution_count": 22,
     "metadata": {},
     "output_type": "execute_result"
    }
   ],
   "source": [
    "user['user_id'].unique()"
   ]
  },
  {
   "cell_type": "code",
   "execution_count": 23,
   "id": "416d9be7",
   "metadata": {
    "scrolled": false
   },
   "outputs": [
    {
     "data": {
      "text/html": [
       "<div>\n",
       "<style scoped>\n",
       "    .dataframe tbody tr th:only-of-type {\n",
       "        vertical-align: middle;\n",
       "    }\n",
       "\n",
       "    .dataframe tbody tr th {\n",
       "        vertical-align: top;\n",
       "    }\n",
       "\n",
       "    .dataframe thead th {\n",
       "        text-align: right;\n",
       "    }\n",
       "</style>\n",
       "<table border=\"1\" class=\"dataframe\">\n",
       "  <thead>\n",
       "    <tr style=\"text-align: right;\">\n",
       "      <th></th>\n",
       "      <th>user_id</th>\n",
       "      <th>name</th>\n",
       "      <th>age</th>\n",
       "      <th>city</th>\n",
       "      <th>subscription_type</th>\n",
       "    </tr>\n",
       "  </thead>\n",
       "  <tbody>\n",
       "    <tr>\n",
       "      <th>0</th>\n",
       "      <td>1</td>\n",
       "      <td>Кира</td>\n",
       "      <td>22</td>\n",
       "      <td>Тюмень</td>\n",
       "      <td>ultra</td>\n",
       "    </tr>\n",
       "    <tr>\n",
       "      <th>1</th>\n",
       "      <td>2</td>\n",
       "      <td>Станислав</td>\n",
       "      <td>31</td>\n",
       "      <td>Омск</td>\n",
       "      <td>ultra</td>\n",
       "    </tr>\n",
       "    <tr>\n",
       "      <th>2</th>\n",
       "      <td>3</td>\n",
       "      <td>Алексей</td>\n",
       "      <td>20</td>\n",
       "      <td>Москва</td>\n",
       "      <td>ultra</td>\n",
       "    </tr>\n",
       "    <tr>\n",
       "      <th>3</th>\n",
       "      <td>4</td>\n",
       "      <td>Константин</td>\n",
       "      <td>26</td>\n",
       "      <td>Ростов-на-Дону</td>\n",
       "      <td>ultra</td>\n",
       "    </tr>\n",
       "    <tr>\n",
       "      <th>4</th>\n",
       "      <td>5</td>\n",
       "      <td>Адель</td>\n",
       "      <td>28</td>\n",
       "      <td>Омск</td>\n",
       "      <td>ultra</td>\n",
       "    </tr>\n",
       "    <tr>\n",
       "      <th>...</th>\n",
       "      <td>...</td>\n",
       "      <td>...</td>\n",
       "      <td>...</td>\n",
       "      <td>...</td>\n",
       "      <td>...</td>\n",
       "    </tr>\n",
       "    <tr>\n",
       "      <th>1529</th>\n",
       "      <td>1530</td>\n",
       "      <td>Ростислав</td>\n",
       "      <td>29</td>\n",
       "      <td>Сочи</td>\n",
       "      <td>free</td>\n",
       "    </tr>\n",
       "    <tr>\n",
       "      <th>1530</th>\n",
       "      <td>1531</td>\n",
       "      <td>Никита</td>\n",
       "      <td>25</td>\n",
       "      <td>Пятигорск</td>\n",
       "      <td>free</td>\n",
       "    </tr>\n",
       "    <tr>\n",
       "      <th>1531</th>\n",
       "      <td>1532</td>\n",
       "      <td>Алексей</td>\n",
       "      <td>26</td>\n",
       "      <td>Тюмень</td>\n",
       "      <td>free</td>\n",
       "    </tr>\n",
       "    <tr>\n",
       "      <th>1532</th>\n",
       "      <td>1533</td>\n",
       "      <td>Степан</td>\n",
       "      <td>22</td>\n",
       "      <td>Краснодар</td>\n",
       "      <td>free</td>\n",
       "    </tr>\n",
       "    <tr>\n",
       "      <th>1533</th>\n",
       "      <td>1534</td>\n",
       "      <td>Альберт</td>\n",
       "      <td>25</td>\n",
       "      <td>Краснодар</td>\n",
       "      <td>free</td>\n",
       "    </tr>\n",
       "  </tbody>\n",
       "</table>\n",
       "<p>1534 rows × 5 columns</p>\n",
       "</div>"
      ],
      "text/plain": [
       "      user_id        name  age            city subscription_type\n",
       "0           1        Кира   22          Тюмень             ultra\n",
       "1           2   Станислав   31            Омск             ultra\n",
       "2           3     Алексей   20          Москва             ultra\n",
       "3           4  Константин   26  Ростов-на-Дону             ultra\n",
       "4           5       Адель   28            Омск             ultra\n",
       "...       ...         ...  ...             ...               ...\n",
       "1529     1530   Ростислав   29            Сочи              free\n",
       "1530     1531      Никита   25       Пятигорск              free\n",
       "1531     1532     Алексей   26          Тюмень              free\n",
       "1532     1533      Степан   22       Краснодар              free\n",
       "1533     1534     Альберт   25       Краснодар              free\n",
       "\n",
       "[1534 rows x 5 columns]"
      ]
     },
     "execution_count": 23,
     "metadata": {},
     "output_type": "execute_result"
    }
   ],
   "source": [
    "user.drop_duplicates()"
   ]
  },
  {
   "cell_type": "markdown",
   "id": "3276f763",
   "metadata": {},
   "source": [
    "<div class=\"alert-info\">\n",
    "Добавил еще раз функцию но все получилось тоже самое. </div>"
   ]
  },
  {
   "cell_type": "code",
   "execution_count": 24,
   "id": "81feb453",
   "metadata": {},
   "outputs": [],
   "source": [
    "user.drop_duplicates(inplace=True)"
   ]
  },
  {
   "cell_type": "code",
   "execution_count": 25,
   "id": "a3209026",
   "metadata": {},
   "outputs": [
    {
     "data": {
      "text/html": [
       "<div>\n",
       "<style scoped>\n",
       "    .dataframe tbody tr th:only-of-type {\n",
       "        vertical-align: middle;\n",
       "    }\n",
       "\n",
       "    .dataframe tbody tr th {\n",
       "        vertical-align: top;\n",
       "    }\n",
       "\n",
       "    .dataframe thead th {\n",
       "        text-align: right;\n",
       "    }\n",
       "</style>\n",
       "<table border=\"1\" class=\"dataframe\">\n",
       "  <thead>\n",
       "    <tr style=\"text-align: right;\">\n",
       "      <th></th>\n",
       "      <th>user_id</th>\n",
       "      <th>name</th>\n",
       "      <th>age</th>\n",
       "      <th>city</th>\n",
       "      <th>subscription_type</th>\n",
       "    </tr>\n",
       "  </thead>\n",
       "  <tbody>\n",
       "    <tr>\n",
       "      <th>0</th>\n",
       "      <td>1</td>\n",
       "      <td>Кира</td>\n",
       "      <td>22</td>\n",
       "      <td>Тюмень</td>\n",
       "      <td>ultra</td>\n",
       "    </tr>\n",
       "    <tr>\n",
       "      <th>1</th>\n",
       "      <td>2</td>\n",
       "      <td>Станислав</td>\n",
       "      <td>31</td>\n",
       "      <td>Омск</td>\n",
       "      <td>ultra</td>\n",
       "    </tr>\n",
       "    <tr>\n",
       "      <th>2</th>\n",
       "      <td>3</td>\n",
       "      <td>Алексей</td>\n",
       "      <td>20</td>\n",
       "      <td>Москва</td>\n",
       "      <td>ultra</td>\n",
       "    </tr>\n",
       "    <tr>\n",
       "      <th>3</th>\n",
       "      <td>4</td>\n",
       "      <td>Константин</td>\n",
       "      <td>26</td>\n",
       "      <td>Ростов-на-Дону</td>\n",
       "      <td>ultra</td>\n",
       "    </tr>\n",
       "    <tr>\n",
       "      <th>4</th>\n",
       "      <td>5</td>\n",
       "      <td>Адель</td>\n",
       "      <td>28</td>\n",
       "      <td>Омск</td>\n",
       "      <td>ultra</td>\n",
       "    </tr>\n",
       "    <tr>\n",
       "      <th>...</th>\n",
       "      <td>...</td>\n",
       "      <td>...</td>\n",
       "      <td>...</td>\n",
       "      <td>...</td>\n",
       "      <td>...</td>\n",
       "    </tr>\n",
       "    <tr>\n",
       "      <th>1529</th>\n",
       "      <td>1530</td>\n",
       "      <td>Ростислав</td>\n",
       "      <td>29</td>\n",
       "      <td>Сочи</td>\n",
       "      <td>free</td>\n",
       "    </tr>\n",
       "    <tr>\n",
       "      <th>1530</th>\n",
       "      <td>1531</td>\n",
       "      <td>Никита</td>\n",
       "      <td>25</td>\n",
       "      <td>Пятигорск</td>\n",
       "      <td>free</td>\n",
       "    </tr>\n",
       "    <tr>\n",
       "      <th>1531</th>\n",
       "      <td>1532</td>\n",
       "      <td>Алексей</td>\n",
       "      <td>26</td>\n",
       "      <td>Тюмень</td>\n",
       "      <td>free</td>\n",
       "    </tr>\n",
       "    <tr>\n",
       "      <th>1532</th>\n",
       "      <td>1533</td>\n",
       "      <td>Степан</td>\n",
       "      <td>22</td>\n",
       "      <td>Краснодар</td>\n",
       "      <td>free</td>\n",
       "    </tr>\n",
       "    <tr>\n",
       "      <th>1533</th>\n",
       "      <td>1534</td>\n",
       "      <td>Альберт</td>\n",
       "      <td>25</td>\n",
       "      <td>Краснодар</td>\n",
       "      <td>free</td>\n",
       "    </tr>\n",
       "  </tbody>\n",
       "</table>\n",
       "<p>1534 rows × 5 columns</p>\n",
       "</div>"
      ],
      "text/plain": [
       "      user_id        name  age            city subscription_type\n",
       "0           1        Кира   22          Тюмень             ultra\n",
       "1           2   Станислав   31            Омск             ultra\n",
       "2           3     Алексей   20          Москва             ultra\n",
       "3           4  Константин   26  Ростов-на-Дону             ultra\n",
       "4           5       Адель   28            Омск             ultra\n",
       "...       ...         ...  ...             ...               ...\n",
       "1529     1530   Ростислав   29            Сочи              free\n",
       "1530     1531      Никита   25       Пятигорск              free\n",
       "1531     1532     Алексей   26          Тюмень              free\n",
       "1532     1533      Степан   22       Краснодар              free\n",
       "1533     1534     Альберт   25       Краснодар              free\n",
       "\n",
       "[1534 rows x 5 columns]"
      ]
     },
     "execution_count": 25,
     "metadata": {},
     "output_type": "execute_result"
    }
   ],
   "source": [
    "user.drop_duplicates()"
   ]
  },
  {
   "cell_type": "markdown",
   "id": "ac8c67f7",
   "metadata": {},
   "source": [
    "<p>\n",
    "<div class=\"alert-danger\">\n",
    "<b>Комментарий ревьюера ❌</b> \n",
    "\n",
    "Дубликаты не были удалены, т.к. ты не пересохранил датафрейм, можно это сделать двумя способами, или `df_users = df_users.drop_duplicates()` или `df_users.drop_duplicates(inplace=True)`\n",
    "</div>"
   ]
  },
  {
   "cell_type": "markdown",
   "id": "684d1897",
   "metadata": {},
   "source": [
    "<div class=\"alert-info\">\n",
    "извините не могу понять, до обработки дубликатов у меня было 1565 пользователей, после обработки 1534. я попробовал еще раз провести обработку но все осталось прежним, подскажите не пойму? </div>"
   ]
  },
  {
   "cell_type": "markdown",
   "id": "a5c8820e",
   "metadata": {},
   "source": [
    "<p>\n",
    "<div class=\"alert-success\">\n",
    "<b>Комментарий ревьюера 2 ✔️</b>\n",
    "\n",
    "    \n",
    "Теперь все верно 👍 Первый раз ты не сохранил изменения, а просто вывел на экран </div>"
   ]
  },
  {
   "cell_type": "code",
   "execution_count": 26,
   "id": "1b291dc3",
   "metadata": {},
   "outputs": [
    {
     "data": {
      "text/plain": [
       "0"
      ]
     },
     "execution_count": 26,
     "metadata": {},
     "output_type": "execute_result"
    }
   ],
   "source": [
    "rider.duplicated().sum()"
   ]
  },
  {
   "cell_type": "markdown",
   "id": "fb7d476e",
   "metadata": {},
   "source": [
    "Вывод: Проверили наличие пропущенных значений и дубликатов в датафреймах. В датафрейм user были обнаружены и обработаны дубликаты."
   ]
  },
  {
   "cell_type": "markdown",
   "id": "212593c7",
   "metadata": {},
   "source": [
    "## Шаг 3. Исследовательский анализ данных"
   ]
  },
  {
   "cell_type": "markdown",
   "id": "17ba1c15",
   "metadata": {},
   "source": [
    "Визуализируйем общую информацию о пользователях и поездках:"
   ]
  },
  {
   "cell_type": "markdown",
   "id": "4d2f3dad",
   "metadata": {},
   "source": [
    "3.1 частота встречаемости городов;"
   ]
  },
  {
   "cell_type": "code",
   "execution_count": 27,
   "id": "2871e335",
   "metadata": {},
   "outputs": [
    {
     "data": {
      "text/plain": [
       "array(['Тюмень', 'Омск', 'Москва', 'Ростов-на-Дону', 'Краснодар',\n",
       "       'Пятигорск', 'Екатеринбург', 'Сочи'], dtype=object)"
      ]
     },
     "execution_count": 27,
     "metadata": {},
     "output_type": "execute_result"
    }
   ],
   "source": [
    "user['city'].unique()"
   ]
  },
  {
   "cell_type": "code",
   "execution_count": 28,
   "id": "4ecf3626",
   "metadata": {
    "scrolled": true
   },
   "outputs": [
    {
     "data": {
      "image/png": "[encoded data removed]",
      "text/plain": [
       "<Figure size 432x288 with 1 Axes>"
      ]
     },
     "metadata": {
      "needs_background": "light"
     },
     "output_type": "display_data"
    }
   ],
   "source": [
    "city = user['city'].value_counts()\n",
    "plt.xlabel('количество пользователей')\n",
    "plt.ylabel('Города')\n",
    "plt.barh(y=city.index, width=city.values)\n",
    "plt.title(\"распределение пользователей по городам\");"
   ]
  },
  {
   "cell_type": "code",
   "execution_count": 29,
   "id": "108b525b",
   "metadata": {
    "scrolled": true
   },
   "outputs": [
    {
     "data": {
      "text/plain": [
       "Пятигорск         219\n",
       "Екатеринбург      204\n",
       "Ростов-на-Дону    198\n",
       "Краснодар         193\n",
       "Сочи              189\n",
       "Омск              183\n",
       "Тюмень            180\n",
       "Москва            168\n",
       "Name: city, dtype: int64"
      ]
     },
     "execution_count": 29,
     "metadata": {},
     "output_type": "execute_result"
    }
   ],
   "source": [
    "user['city'].value_counts()"
   ]
  },
  {
   "cell_type": "markdown",
   "id": "cfe50733",
   "metadata": {},
   "source": [
    "Выборка сделана на основе 8 городов. Большинство пользователей в Пятигорске и других южных городах, меньше в Москве. Можно предположить что в южных городах сезон использования самокатов практически круглогодичен, поэтому там чаще их используют"
   ]
  },
  {
   "cell_type": "markdown",
   "id": "c87d1cf0",
   "metadata": {},
   "source": [
    "<p>\n",
    "<div class=\"alert-danger\">\n",
    "<b>Комментарий ревьюера ❌</b> \n",
    "\n",
    "- Подписи городов наслаиваются, нужно их развернуть или увеличить график.    \n",
    "- Опиши, пожалуйста, график. После каждого графика обязательно нужно делать вывод о том, какую информацию мы из него получили.\n",
    "- Нужно добавить заголовок на языке заказчика (русском) и подпись оси Y. \n",
    "- Для того, чтобы убрать техническую строку над графиком `<AxesSubplot:>`, нужно добавить `;` после кода, пример:\n",
    "    `df.hist();`\n",
    "- Еще лучше для визуализации подошел бы барплот, развернутый горизонтально и отсортированный по убыванию."
   ]
  },
  {
   "cell_type": "markdown",
   "id": "b031658e",
   "metadata": {},
   "source": [
    "<div class=\"alert-info\">\n",
    "Изменил график, добавил выводы </div>"
   ]
  },
  {
   "cell_type": "markdown",
   "id": "2292db23",
   "metadata": {},
   "source": [
    "<p>\n",
    "<div class=\"alert-success\">\n",
    "<b>Комментарий ревьюера 2 ✔️</b>\n",
    "\n",
    "    \n",
    "Отлично 👍</div>"
   ]
  },
  {
   "cell_type": "markdown",
   "id": "b0e5a6ab",
   "metadata": {},
   "source": [
    "3.2 соотношение пользователей с подпиской и без подписки;"
   ]
  },
  {
   "cell_type": "code",
   "execution_count": 30,
   "id": "a7f48caf",
   "metadata": {
    "scrolled": true
   },
   "outputs": [
    {
     "data": {
      "text/plain": [
       "free     835\n",
       "ultra    699\n",
       "Name: subscription_type, dtype: int64"
      ]
     },
     "execution_count": 30,
     "metadata": {},
     "output_type": "execute_result"
    }
   ],
   "source": [
    "user['subscription_type'].value_counts()"
   ]
  },
  {
   "cell_type": "code",
   "execution_count": 31,
   "id": "d1d449af",
   "metadata": {},
   "outputs": [
    {
     "data": {
      "image/png": "[encoded data removed]",
      "text/plain": [
       "<Figure size 432x288 with 1 Axes>"
      ]
     },
     "metadata": {},
     "output_type": "display_data"
    }
   ],
   "source": [
    "user['subscription_type'].value_counts().plot(\n",
    "    kind= 'pie',\n",
    "    title= 'Соотношение пользователей с подпиской и без подписки',\n",
    "    autopct = \"%.0f%%\",\n",
    "    ylabel= \"\"\n",
    ");"
   ]
  },
  {
   "cell_type": "code",
   "execution_count": 32,
   "id": "151585cc",
   "metadata": {},
   "outputs": [
    {
     "data": {
      "text/plain": [
       "free     54.432855\n",
       "ultra    45.567145\n",
       "Name: subscription_type, dtype: float64"
      ]
     },
     "execution_count": 32,
     "metadata": {},
     "output_type": "execute_result"
    }
   ],
   "source": [
    "user['subscription_type'].value_counts()/user['subscription_type'].value_counts().sum()*100"
   ]
  },
  {
   "cell_type": "markdown",
   "id": "81f6a9bd",
   "metadata": {},
   "source": [
    "<div class=\"alert-info\">\n",
    "попытался добавить график, выдает ошибку, пришлось закоментировать, не могу сообразить</div>"
   ]
  },
  {
   "cell_type": "markdown",
   "id": "96dec611",
   "metadata": {},
   "source": [
    "<div class=\"alert-danger\">\n",
    "<b>Комментарий ревьюера ❌</b>\n",
    "\n",
    "- Какую долю от целого составляют пользователи с платной подпиской, а какую пользователи без подписки? \n",
    "- Нужно добавить визуализацию, хорошо подойдет круговая диаграмма.\n",
    "</div>"
   ]
  },
  {
   "cell_type": "markdown",
   "id": "578fc843",
   "metadata": {},
   "source": [
    "<p>\n",
    "<div class=\"alert-danger\">\n",
    "<b>Комментарий ревьюера 2 ❌</b> \n",
    "    \n",
    "    \n",
    "Вот самый простой вариант:\n",
    "\n",
    "    user['subscription_type'].value_counts().plot(\n",
    "        kind= 'pie',\n",
    "        title= 'Соотношение пользователей с подпиской и без подписки',\n",
    "        autopct = \"%.0f%%\",\n",
    "        ylabel= \"\"\n",
    "    );"
   ]
  },
  {
   "cell_type": "markdown",
   "id": "b03b358f",
   "metadata": {},
   "source": [
    "<div class=\"alert-info\">\n",
    "Спасибо большое за помощь</div>"
   ]
  },
  {
   "cell_type": "markdown",
   "id": "cab63a79",
   "metadata": {},
   "source": [
    "<p>\n",
    "<div class=\"alert-success\">\n",
    "<b>Комментарий ревьюера 3 ✔️</b>\n",
    "\n",
    "    \n",
    "👍</div>"
   ]
  },
  {
   "cell_type": "markdown",
   "id": "29fb6b2a",
   "metadata": {},
   "source": [
    "Пользователей без подписки 54,43% пользователей с подпиской 45,57%"
   ]
  },
  {
   "cell_type": "markdown",
   "id": "ce10b560",
   "metadata": {},
   "source": [
    "3.3 возраст пользователей;"
   ]
  },
  {
   "cell_type": "code",
   "execution_count": 33,
   "id": "b356eca3",
   "metadata": {},
   "outputs": [
    {
     "data": {
      "text/plain": [
       "25    145\n",
       "24    132\n",
       "26    131\n",
       "23    129\n",
       "27    119\n",
       "22    119\n",
       "28    112\n",
       "21     93\n",
       "20     71\n",
       "30     68\n",
       "29     68\n",
       "31     48\n",
       "19     47\n",
       "18     46\n",
       "32     41\n",
       "33     39\n",
       "17     26\n",
       "34     19\n",
       "16     19\n",
       "35     15\n",
       "15     13\n",
       "14      9\n",
       "13      8\n",
       "36      6\n",
       "12      4\n",
       "38      3\n",
       "37      2\n",
       "39      1\n",
       "43      1\n",
       "Name: age, dtype: int64"
      ]
     },
     "execution_count": 33,
     "metadata": {},
     "output_type": "execute_result"
    }
   ],
   "source": [
    "user['age'].value_counts()"
   ]
  },
  {
   "cell_type": "code",
   "execution_count": 34,
   "id": "77b4a1f2",
   "metadata": {},
   "outputs": [
    {
     "data": {
      "image/png": "[encoded data removed]",
      "text/plain": [
       "<Figure size 432x288 with 1 Axes>"
      ]
     },
     "metadata": {
      "needs_background": "light"
     },
     "output_type": "display_data"
    }
   ],
   "source": [
    "user['age'].plot(kind='hist')\n",
    "plt.title('Возраст пользователей')\n",
    "plt.xlabel('Количество пользователей')\n",
    "plt.ylabel('Лет');"
   ]
  },
  {
   "cell_type": "code",
   "execution_count": 35,
   "id": "97ad7e03",
   "metadata": {},
   "outputs": [
    {
     "data": {
      "text/plain": [
       "count    1534.000000\n",
       "mean       24.903520\n",
       "std         4.572367\n",
       "min        12.000000\n",
       "25%        22.000000\n",
       "50%        25.000000\n",
       "75%        28.000000\n",
       "max        43.000000\n",
       "Name: age, dtype: float64"
      ]
     },
     "execution_count": 35,
     "metadata": {},
     "output_type": "execute_result"
    }
   ],
   "source": [
    "user['age'].describe()"
   ]
  },
  {
   "cell_type": "markdown",
   "id": "22d015bb",
   "metadata": {},
   "source": [
    "вывод: минимальный возраст пользователей 14 лет, максимальный 43 года, средний возраст 25 лет."
   ]
  },
  {
   "cell_type": "markdown",
   "id": "e483b2d2",
   "metadata": {},
   "source": [
    "<p>\n",
    "<div class=\"alert-danger\">\n",
    "<b>Комментарий ревьюера ❌</b> \n",
    "\n",
    "Нужно добавить описание графика\n",
    "</div>"
   ]
  },
  {
   "cell_type": "markdown",
   "id": "62e80a91",
   "metadata": {},
   "source": [
    "<p>\n",
    "<div class=\"alert-success\">\n",
    "<b>Комментарий ревьюера 2 ✔️</b>\n",
    "\n",
    "    \n",
    "👍</div>"
   ]
  },
  {
   "cell_type": "markdown",
   "id": "f4d4e8c7",
   "metadata": {},
   "source": [
    "3.4 расстояние, которое пользователь преодолел за одну поездку;"
   ]
  },
  {
   "cell_type": "code",
   "execution_count": 36,
   "id": "4c37bcaf",
   "metadata": {},
   "outputs": [
    {
     "data": {
      "text/plain": [
       "count    18068.000000\n",
       "mean      3070.659976\n",
       "std       1116.831209\n",
       "min          0.855683\n",
       "25%       2543.226360\n",
       "50%       3133.609994\n",
       "75%       3776.222735\n",
       "max       7211.007745\n",
       "Name: distance, dtype: float64"
      ]
     },
     "execution_count": 36,
     "metadata": {},
     "output_type": "execute_result"
    }
   ],
   "source": [
    "rider['distance'].describe()"
   ]
  },
  {
   "cell_type": "code",
   "execution_count": 37,
   "id": "218e5a94",
   "metadata": {},
   "outputs": [
    {
     "data": {
      "image/png": "[encoded data removed]",
      "text/plain": [
       "<Figure size 432x288 with 1 Axes>"
      ]
     },
     "metadata": {
      "needs_background": "light"
     },
     "output_type": "display_data"
    }
   ],
   "source": [
    "rider['distance'].plot(kind='hist', bins=20)\n",
    "plt.title('расстояние, которое проезжает пользователь за одну поездку')\n",
    "plt.xlabel('расстояние, м.')\n",
    "plt.ylabel('количество поездок');"
   ]
  },
  {
   "cell_type": "markdown",
   "id": "b629ba58",
   "metadata": {},
   "source": [
    "Среднее расстояние которое проезжает пользователь составляет 3070 метра. Так же можно выделить два пика. один небольшой от 500 до 1000 метров, небольшие короткие поездки, возможно по паркам. И длительные поездки от 2,5 до 4 км, возможно до работы и учебы."
   ]
  },
  {
   "cell_type": "markdown",
   "id": "3be74a69",
   "metadata": {},
   "source": [
    "<div class=\"alert-warning\">\n",
    "<b>Комментарий ревьюера ⚠️</b>\n",
    "\n",
    "На какие два типа можно разделить все поездки?</div>"
   ]
  },
  {
   "cell_type": "markdown",
   "id": "6828fa09",
   "metadata": {},
   "source": [
    "<p>\n",
    "<div class=\"alert-success\">\n",
    "<b>Комментарий ревьюера 2 ✔️</b>\n",
    "\n",
    "    \n",
    "👍</div>"
   ]
  },
  {
   "cell_type": "markdown",
   "id": "40115b2c",
   "metadata": {},
   "source": [
    "3.5 продолжительность поездок."
   ]
  },
  {
   "cell_type": "code",
   "execution_count": 38,
   "id": "fb54b127",
   "metadata": {},
   "outputs": [
    {
     "data": {
      "text/plain": [
       "count    18068.000000\n",
       "mean        17.805011\n",
       "std          6.091051\n",
       "min          0.500000\n",
       "25%         13.597563\n",
       "50%         17.678395\n",
       "75%         21.724800\n",
       "max         40.823963\n",
       "Name: duration, dtype: float64"
      ]
     },
     "execution_count": 38,
     "metadata": {},
     "output_type": "execute_result"
    }
   ],
   "source": [
    "rider['duration'].describe()"
   ]
  },
  {
   "cell_type": "code",
   "execution_count": 39,
   "id": "ada76953",
   "metadata": {},
   "outputs": [
    {
     "data": {
      "image/png": "[encoded data removed]",
      "text/plain": [
       "<Figure size 432x288 with 1 Axes>"
      ]
     },
     "metadata": {
      "needs_background": "light"
     },
     "output_type": "display_data"
    }
   ],
   "source": [
    "rider['duration'].plot(kind='hist', bins=30)\n",
    "plt.title('продолжительность одной поездки')\n",
    "plt.xlabel('время, мин.')\n",
    "plt.ylabel('количество поездок');"
   ]
  },
  {
   "cell_type": "markdown",
   "id": "e6b76698",
   "metadata": {},
   "source": [
    "Средняя продолжительность поездки составляет 17,8 минут, диапазон продолжительности поездок лежит от 13,6 минут до 21.7 минуты"
   ]
  },
  {
   "cell_type": "markdown",
   "id": "b161df1b",
   "metadata": {},
   "source": [
    "Вывод: Пятигорск встречается чаще чем Москва. Клиентов без подписки на 17,6% больше чем с подпиской. Средний возраст клиентов 25 лет. Среднее расстояние которое преодолел пользователь за одну поездку = 3070 метров. Средняя продолжительность поездки = 17.8 минут"
   ]
  },
  {
   "cell_type": "markdown",
   "id": "168a8704",
   "metadata": {},
   "source": [
    "<p>\n",
    "<div class=\"alert-danger\">\n",
    "<b>Комментарий ревьюера ❌</b> \n",
    "\n",
    "- В каком диапазоне лежит продолжительность основной части поездок?\n",
    "\n",
    "- К каждой гистограмме можно дополнительно вывести описательные статистики методом `describe()` - так легче будет описать распределение.\n",
    "\n",
    "- Если ты используешь визуализацию в проекте, стоит уделять больше времени ее оформлению: ко всем графикам в проекте важно добавлять общий заголовок, подписи к осям, убрать технические строчки `<AxesSubplot:>` можно с помощью метода `plt.show()` или написать `;` после кода . Пожалуйста, скорректируй графики **во всем проекте**"
   ]
  },
  {
   "cell_type": "markdown",
   "id": "32b2f570",
   "metadata": {},
   "source": [
    "<div class=\"alert-info\">\n",
    "добавил к гистограммам описательные статистики методом describe(),\n",
    "    \n",
    "отредактировал гистрограммы </div>"
   ]
  },
  {
   "cell_type": "markdown",
   "id": "7b6a470a",
   "metadata": {},
   "source": [
    "<p>\n",
    "<div class=\"alert-success\">\n",
    "<b>Комментарий ревьюера 2 ✔️</b>\n",
    "\n",
    "    \n",
    "👍</div>"
   ]
  },
  {
   "cell_type": "markdown",
   "id": "4ef51331",
   "metadata": {},
   "source": [
    "## Шаг 4. Объединение данных"
   ]
  },
  {
   "cell_type": "markdown",
   "id": "96354862",
   "metadata": {},
   "source": [
    "4.1 Объединим данные о пользователях, поездках и подписках в один датафрейм. Для этого воспользуемся методом merge()."
   ]
  },
  {
   "cell_type": "code",
   "execution_count": 40,
   "id": "6bf288b5",
   "metadata": {},
   "outputs": [],
   "source": [
    "data = user.merge(\n",
    "    rider, how='outer', on=['user_id'])"
   ]
  },
  {
   "cell_type": "code",
   "execution_count": 41,
   "id": "c798e761",
   "metadata": {},
   "outputs": [
    {
     "data": {
      "text/html": [
       "<div>\n",
       "<style scoped>\n",
       "    .dataframe tbody tr th:only-of-type {\n",
       "        vertical-align: middle;\n",
       "    }\n",
       "\n",
       "    .dataframe tbody tr th {\n",
       "        vertical-align: top;\n",
       "    }\n",
       "\n",
       "    .dataframe thead th {\n",
       "        text-align: right;\n",
       "    }\n",
       "</style>\n",
       "<table border=\"1\" class=\"dataframe\">\n",
       "  <thead>\n",
       "    <tr style=\"text-align: right;\">\n",
       "      <th></th>\n",
       "      <th>user_id</th>\n",
       "      <th>name</th>\n",
       "      <th>age</th>\n",
       "      <th>city</th>\n",
       "      <th>subscription_type</th>\n",
       "      <th>distance</th>\n",
       "      <th>duration</th>\n",
       "      <th>date</th>\n",
       "      <th>month</th>\n",
       "    </tr>\n",
       "  </thead>\n",
       "  <tbody>\n",
       "    <tr>\n",
       "      <th>0</th>\n",
       "      <td>1</td>\n",
       "      <td>Кира</td>\n",
       "      <td>22</td>\n",
       "      <td>Тюмень</td>\n",
       "      <td>ultra</td>\n",
       "      <td>4409.919140</td>\n",
       "      <td>25.599769</td>\n",
       "      <td>2021-01-01</td>\n",
       "      <td>1</td>\n",
       "    </tr>\n",
       "    <tr>\n",
       "      <th>1</th>\n",
       "      <td>1</td>\n",
       "      <td>Кира</td>\n",
       "      <td>22</td>\n",
       "      <td>Тюмень</td>\n",
       "      <td>ultra</td>\n",
       "      <td>2617.592153</td>\n",
       "      <td>15.816871</td>\n",
       "      <td>2021-01-18</td>\n",
       "      <td>1</td>\n",
       "    </tr>\n",
       "    <tr>\n",
       "      <th>2</th>\n",
       "      <td>1</td>\n",
       "      <td>Кира</td>\n",
       "      <td>22</td>\n",
       "      <td>Тюмень</td>\n",
       "      <td>ultra</td>\n",
       "      <td>754.159807</td>\n",
       "      <td>6.232113</td>\n",
       "      <td>2021-04-20</td>\n",
       "      <td>4</td>\n",
       "    </tr>\n",
       "    <tr>\n",
       "      <th>3</th>\n",
       "      <td>1</td>\n",
       "      <td>Кира</td>\n",
       "      <td>22</td>\n",
       "      <td>Тюмень</td>\n",
       "      <td>ultra</td>\n",
       "      <td>2694.783254</td>\n",
       "      <td>18.511000</td>\n",
       "      <td>2021-08-11</td>\n",
       "      <td>8</td>\n",
       "    </tr>\n",
       "    <tr>\n",
       "      <th>4</th>\n",
       "      <td>1</td>\n",
       "      <td>Кира</td>\n",
       "      <td>22</td>\n",
       "      <td>Тюмень</td>\n",
       "      <td>ultra</td>\n",
       "      <td>4028.687306</td>\n",
       "      <td>26.265803</td>\n",
       "      <td>2021-08-28</td>\n",
       "      <td>8</td>\n",
       "    </tr>\n",
       "  </tbody>\n",
       "</table>\n",
       "</div>"
      ],
      "text/plain": [
       "   user_id  name  age    city subscription_type     distance   duration  \\\n",
       "0        1  Кира   22  Тюмень             ultra  4409.919140  25.599769   \n",
       "1        1  Кира   22  Тюмень             ultra  2617.592153  15.816871   \n",
       "2        1  Кира   22  Тюмень             ultra   754.159807   6.232113   \n",
       "3        1  Кира   22  Тюмень             ultra  2694.783254  18.511000   \n",
       "4        1  Кира   22  Тюмень             ultra  4028.687306  26.265803   \n",
       "\n",
       "        date  month  \n",
       "0 2021-01-01      1  \n",
       "1 2021-01-18      1  \n",
       "2 2021-04-20      4  \n",
       "3 2021-08-11      8  \n",
       "4 2021-08-28      8  "
      ]
     },
     "execution_count": 41,
     "metadata": {},
     "output_type": "execute_result"
    }
   ],
   "source": [
    "data.head()"
   ]
  },
  {
   "cell_type": "markdown",
   "id": "99e20066",
   "metadata": {},
   "source": [
    "<div class=\"alert-warning\">\n",
    "<b>Комментарий ревьюера ⚠️</b>\n",
    "\n",
    "Для просмотра датафрейма стоит использовать специальные методы, например, head или tail. Вывод таблицы без них занимает больше времени, следовательно требуется больше ресурсов.\n",
    "Увеличивается итоговый размер проекта. Слишком тяжелый проект может просто не уйти на проверку, ревьюер не сможет его открыть и будет вынужден ждать помощи техподдержки.\n",
    "\n",
    "</div>"
   ]
  },
  {
   "cell_type": "markdown",
   "id": "d8be68fe",
   "metadata": {},
   "source": [
    "<div class=\"alert-info\">\n",
    "добавил head() </div>"
   ]
  },
  {
   "cell_type": "markdown",
   "id": "037b2627",
   "metadata": {},
   "source": [
    "<p>\n",
    "<div class=\"alert-success\">\n",
    "<b>Комментарий ревьюера 2 ✔️</b>\n",
    "\n",
    "    \n",
    "👍</div>"
   ]
  },
  {
   "cell_type": "code",
   "execution_count": 42,
   "id": "1dc98691",
   "metadata": {},
   "outputs": [],
   "source": [
    "data = data.merge(subscriptions, how='outer', on=['subscription_type'])"
   ]
  },
  {
   "cell_type": "code",
   "execution_count": 43,
   "id": "b334fcb4",
   "metadata": {
    "scrolled": false
   },
   "outputs": [
    {
     "data": {
      "text/html": [
       "<div>\n",
       "<style scoped>\n",
       "    .dataframe tbody tr th:only-of-type {\n",
       "        vertical-align: middle;\n",
       "    }\n",
       "\n",
       "    .dataframe tbody tr th {\n",
       "        vertical-align: top;\n",
       "    }\n",
       "\n",
       "    .dataframe thead th {\n",
       "        text-align: right;\n",
       "    }\n",
       "</style>\n",
       "<table border=\"1\" class=\"dataframe\">\n",
       "  <thead>\n",
       "    <tr style=\"text-align: right;\">\n",
       "      <th></th>\n",
       "      <th>user_id</th>\n",
       "      <th>name</th>\n",
       "      <th>age</th>\n",
       "      <th>city</th>\n",
       "      <th>subscription_type</th>\n",
       "      <th>distance</th>\n",
       "      <th>duration</th>\n",
       "      <th>date</th>\n",
       "      <th>month</th>\n",
       "      <th>minute_price</th>\n",
       "      <th>start_ride_price</th>\n",
       "      <th>subscription_fee</th>\n",
       "    </tr>\n",
       "  </thead>\n",
       "  <tbody>\n",
       "    <tr>\n",
       "      <th>0</th>\n",
       "      <td>1</td>\n",
       "      <td>Кира</td>\n",
       "      <td>22</td>\n",
       "      <td>Тюмень</td>\n",
       "      <td>ultra</td>\n",
       "      <td>4409.919140</td>\n",
       "      <td>25.599769</td>\n",
       "      <td>2021-01-01</td>\n",
       "      <td>1</td>\n",
       "      <td>6</td>\n",
       "      <td>0</td>\n",
       "      <td>199</td>\n",
       "    </tr>\n",
       "    <tr>\n",
       "      <th>1</th>\n",
       "      <td>1</td>\n",
       "      <td>Кира</td>\n",
       "      <td>22</td>\n",
       "      <td>Тюмень</td>\n",
       "      <td>ultra</td>\n",
       "      <td>2617.592153</td>\n",
       "      <td>15.816871</td>\n",
       "      <td>2021-01-18</td>\n",
       "      <td>1</td>\n",
       "      <td>6</td>\n",
       "      <td>0</td>\n",
       "      <td>199</td>\n",
       "    </tr>\n",
       "    <tr>\n",
       "      <th>2</th>\n",
       "      <td>1</td>\n",
       "      <td>Кира</td>\n",
       "      <td>22</td>\n",
       "      <td>Тюмень</td>\n",
       "      <td>ultra</td>\n",
       "      <td>754.159807</td>\n",
       "      <td>6.232113</td>\n",
       "      <td>2021-04-20</td>\n",
       "      <td>4</td>\n",
       "      <td>6</td>\n",
       "      <td>0</td>\n",
       "      <td>199</td>\n",
       "    </tr>\n",
       "    <tr>\n",
       "      <th>3</th>\n",
       "      <td>1</td>\n",
       "      <td>Кира</td>\n",
       "      <td>22</td>\n",
       "      <td>Тюмень</td>\n",
       "      <td>ultra</td>\n",
       "      <td>2694.783254</td>\n",
       "      <td>18.511000</td>\n",
       "      <td>2021-08-11</td>\n",
       "      <td>8</td>\n",
       "      <td>6</td>\n",
       "      <td>0</td>\n",
       "      <td>199</td>\n",
       "    </tr>\n",
       "    <tr>\n",
       "      <th>4</th>\n",
       "      <td>1</td>\n",
       "      <td>Кира</td>\n",
       "      <td>22</td>\n",
       "      <td>Тюмень</td>\n",
       "      <td>ultra</td>\n",
       "      <td>4028.687306</td>\n",
       "      <td>26.265803</td>\n",
       "      <td>2021-08-28</td>\n",
       "      <td>8</td>\n",
       "      <td>6</td>\n",
       "      <td>0</td>\n",
       "      <td>199</td>\n",
       "    </tr>\n",
       "    <tr>\n",
       "      <th>...</th>\n",
       "      <td>...</td>\n",
       "      <td>...</td>\n",
       "      <td>...</td>\n",
       "      <td>...</td>\n",
       "      <td>...</td>\n",
       "      <td>...</td>\n",
       "      <td>...</td>\n",
       "      <td>...</td>\n",
       "      <td>...</td>\n",
       "      <td>...</td>\n",
       "      <td>...</td>\n",
       "      <td>...</td>\n",
       "    </tr>\n",
       "    <tr>\n",
       "      <th>18063</th>\n",
       "      <td>1534</td>\n",
       "      <td>Альберт</td>\n",
       "      <td>25</td>\n",
       "      <td>Краснодар</td>\n",
       "      <td>free</td>\n",
       "      <td>3781.098080</td>\n",
       "      <td>19.822962</td>\n",
       "      <td>2021-11-04</td>\n",
       "      <td>11</td>\n",
       "      <td>8</td>\n",
       "      <td>50</td>\n",
       "      <td>0</td>\n",
       "    </tr>\n",
       "    <tr>\n",
       "      <th>18064</th>\n",
       "      <td>1534</td>\n",
       "      <td>Альберт</td>\n",
       "      <td>25</td>\n",
       "      <td>Краснодар</td>\n",
       "      <td>free</td>\n",
       "      <td>2840.423057</td>\n",
       "      <td>21.409799</td>\n",
       "      <td>2021-11-16</td>\n",
       "      <td>11</td>\n",
       "      <td>8</td>\n",
       "      <td>50</td>\n",
       "      <td>0</td>\n",
       "    </tr>\n",
       "    <tr>\n",
       "      <th>18065</th>\n",
       "      <td>1534</td>\n",
       "      <td>Альберт</td>\n",
       "      <td>25</td>\n",
       "      <td>Краснодар</td>\n",
       "      <td>free</td>\n",
       "      <td>3826.185507</td>\n",
       "      <td>18.435051</td>\n",
       "      <td>2021-11-18</td>\n",
       "      <td>11</td>\n",
       "      <td>8</td>\n",
       "      <td>50</td>\n",
       "      <td>0</td>\n",
       "    </tr>\n",
       "    <tr>\n",
       "      <th>18066</th>\n",
       "      <td>1534</td>\n",
       "      <td>Альберт</td>\n",
       "      <td>25</td>\n",
       "      <td>Краснодар</td>\n",
       "      <td>free</td>\n",
       "      <td>2902.308661</td>\n",
       "      <td>16.674362</td>\n",
       "      <td>2021-11-27</td>\n",
       "      <td>11</td>\n",
       "      <td>8</td>\n",
       "      <td>50</td>\n",
       "      <td>0</td>\n",
       "    </tr>\n",
       "    <tr>\n",
       "      <th>18067</th>\n",
       "      <td>1534</td>\n",
       "      <td>Альберт</td>\n",
       "      <td>25</td>\n",
       "      <td>Краснодар</td>\n",
       "      <td>free</td>\n",
       "      <td>2371.711192</td>\n",
       "      <td>15.893917</td>\n",
       "      <td>2021-12-29</td>\n",
       "      <td>12</td>\n",
       "      <td>8</td>\n",
       "      <td>50</td>\n",
       "      <td>0</td>\n",
       "    </tr>\n",
       "  </tbody>\n",
       "</table>\n",
       "<p>18068 rows × 12 columns</p>\n",
       "</div>"
      ],
      "text/plain": [
       "       user_id     name  age       city subscription_type     distance  \\\n",
       "0            1     Кира   22     Тюмень             ultra  4409.919140   \n",
       "1            1     Кира   22     Тюмень             ultra  2617.592153   \n",
       "2            1     Кира   22     Тюмень             ultra   754.159807   \n",
       "3            1     Кира   22     Тюмень             ultra  2694.783254   \n",
       "4            1     Кира   22     Тюмень             ultra  4028.687306   \n",
       "...        ...      ...  ...        ...               ...          ...   \n",
       "18063     1534  Альберт   25  Краснодар              free  3781.098080   \n",
       "18064     1534  Альберт   25  Краснодар              free  2840.423057   \n",
       "18065     1534  Альберт   25  Краснодар              free  3826.185507   \n",
       "18066     1534  Альберт   25  Краснодар              free  2902.308661   \n",
       "18067     1534  Альберт   25  Краснодар              free  2371.711192   \n",
       "\n",
       "        duration       date  month  minute_price  start_ride_price  \\\n",
       "0      25.599769 2021-01-01      1             6                 0   \n",
       "1      15.816871 2021-01-18      1             6                 0   \n",
       "2       6.232113 2021-04-20      4             6                 0   \n",
       "3      18.511000 2021-08-11      8             6                 0   \n",
       "4      26.265803 2021-08-28      8             6                 0   \n",
       "...          ...        ...    ...           ...               ...   \n",
       "18063  19.822962 2021-11-04     11             8                50   \n",
       "18064  21.409799 2021-11-16     11             8                50   \n",
       "18065  18.435051 2021-11-18     11             8                50   \n",
       "18066  16.674362 2021-11-27     11             8                50   \n",
       "18067  15.893917 2021-12-29     12             8                50   \n",
       "\n",
       "       subscription_fee  \n",
       "0                   199  \n",
       "1                   199  \n",
       "2                   199  \n",
       "3                   199  \n",
       "4                   199  \n",
       "...                 ...  \n",
       "18063                 0  \n",
       "18064                 0  \n",
       "18065                 0  \n",
       "18066                 0  \n",
       "18067                 0  \n",
       "\n",
       "[18068 rows x 12 columns]"
      ]
     },
     "execution_count": 43,
     "metadata": {},
     "output_type": "execute_result"
    }
   ],
   "source": [
    "data"
   ]
  },
  {
   "cell_type": "markdown",
   "id": "4685a412",
   "metadata": {},
   "source": [
    "Проверим пропуски"
   ]
  },
  {
   "cell_type": "code",
   "execution_count": 44,
   "id": "a5af3fd4",
   "metadata": {},
   "outputs": [
    {
     "data": {
      "text/plain": [
       "user_id              0\n",
       "name                 0\n",
       "age                  0\n",
       "city                 0\n",
       "subscription_type    0\n",
       "distance             0\n",
       "duration             0\n",
       "date                 0\n",
       "month                0\n",
       "minute_price         0\n",
       "start_ride_price     0\n",
       "subscription_fee     0\n",
       "dtype: int64"
      ]
     },
     "execution_count": 44,
     "metadata": {},
     "output_type": "execute_result"
    }
   ],
   "source": [
    "data.isna().sum()"
   ]
  },
  {
   "cell_type": "markdown",
   "id": "fbeb197d",
   "metadata": {},
   "source": [
    "посчитаем количество уникальных пользователей и дубликаты."
   ]
  },
  {
   "cell_type": "code",
   "execution_count": 45,
   "id": "a7f7a972",
   "metadata": {},
   "outputs": [
    {
     "data": {
      "text/plain": [
       "array([   1,    2,    3, ..., 1532, 1533, 1534])"
      ]
     },
     "execution_count": 45,
     "metadata": {},
     "output_type": "execute_result"
    }
   ],
   "source": [
    "data['user_id'].unique()"
   ]
  },
  {
   "cell_type": "code",
   "execution_count": 46,
   "id": "2448f86c",
   "metadata": {},
   "outputs": [
    {
     "data": {
      "text/plain": [
       "0"
      ]
     },
     "execution_count": 46,
     "metadata": {},
     "output_type": "execute_result"
    }
   ],
   "source": [
    "data.duplicated().sum()"
   ]
  },
  {
   "cell_type": "code",
   "execution_count": 47,
   "id": "620ab69d",
   "metadata": {},
   "outputs": [
    {
     "data": {
      "text/plain": [
       "user_id  name     age  city       subscription_type  distance     duration   date        month  minute_price  start_ride_price  subscription_fee\n",
       "1        Кира     22   Тюмень     ultra              748.690645   15.041884  2021-11-22  11     6             0                 199                 1\n",
       "1105     Богдан   22   Пятигорск  free               3232.037291  19.120140  2021-02-24  2      8             50                0                   1\n",
       "                                                     4661.122393  21.159450  2021-03-25  3      8             50                0                   1\n",
       "                                                     4468.509613  12.937019  2021-11-28  11     8             50                0                   1\n",
       "                                                     4057.692285  21.695055  2021-06-05  6      8             50                0                   1\n",
       "                                                                                                                                                   ..\n",
       "645      Олеся    36   Краснодар  ultra              4040.109793  17.100274  2021-11-26  11     6             0                 199                 1\n",
       "646      Даниил   22   Тюмень     ultra              2635.251399  11.081349  2021-09-06  9      6             0                 199                 1\n",
       "                                                     2853.140708  23.699278  2021-01-28  1      6             0                 199                 1\n",
       "                                                     3442.376310  22.753041  2021-03-17  3      6             0                 199                 1\n",
       "1534     Альберт  25   Краснодар  free               4928.173852  22.560373  2021-09-13  9      8             50                0                   1\n",
       "Length: 18068, dtype: int64"
      ]
     },
     "execution_count": 47,
     "metadata": {},
     "output_type": "execute_result"
    }
   ],
   "source": [
    "data.value_counts()"
   ]
  },
  {
   "cell_type": "markdown",
   "id": "532db9b4",
   "metadata": {},
   "source": [
    "<div class=\"alert-warning\">\n",
    "<b>Комментарий ревьюера ⚠️</b>\n",
    "\n",
    "После объединения данных имеет смысл сравнить количество строк в таблицах до объединения и после, и посчитать количество уникальных пользователей. \n",
    "    \n",
    "Проверить наличие пропусков. </div>"
   ]
  },
  {
   "cell_type": "markdown",
   "id": "f6c53686",
   "metadata": {},
   "source": [
    "Количество уникальных пользователей 1534 столько же сколько и до объединения, строк в data 18068 столько же что и в rider - 18068\n",
    "\n",
    "пропусков и дубликатов не обнаружено."
   ]
  },
  {
   "cell_type": "markdown",
   "id": "0c3cc8e6",
   "metadata": {},
   "source": [
    "<p>\n",
    "<div class=\"alert-success\">\n",
    "<b>Комментарий ревьюера 2 ✔️</b>\n",
    "\n",
    "    \n",
    "👍</div>"
   ]
  },
  {
   "cell_type": "markdown",
   "id": "e809f735",
   "metadata": {},
   "source": [
    "4.2 Создадим ещё два датафрейма из датафрейма data, созданного на этапе 4.1:"
   ]
  },
  {
   "cell_type": "markdown",
   "id": "5c531eaa",
   "metadata": {},
   "source": [
    "4.2.1 Создадим датафрейма с данными о пользователях с подпиской"
   ]
  },
  {
   "cell_type": "code",
   "execution_count": 48,
   "id": "c21b621f",
   "metadata": {},
   "outputs": [],
   "source": [
    "data_ultra = data[data['subscription_type'] == 'ultra']"
   ]
  },
  {
   "cell_type": "markdown",
   "id": "ddf0b0b8",
   "metadata": {},
   "source": [
    "4.2.2 Создадим датафрейма с данными о пользователях без подписки"
   ]
  },
  {
   "cell_type": "code",
   "execution_count": 49,
   "id": "01338056",
   "metadata": {},
   "outputs": [],
   "source": [
    "data_free = data[data['subscription_type'] == 'free']"
   ]
  },
  {
   "cell_type": "code",
   "execution_count": 50,
   "id": "8d0eb958",
   "metadata": {},
   "outputs": [
    {
     "data": {
      "text/html": [
       "<div>\n",
       "<style scoped>\n",
       "    .dataframe tbody tr th:only-of-type {\n",
       "        vertical-align: middle;\n",
       "    }\n",
       "\n",
       "    .dataframe tbody tr th {\n",
       "        vertical-align: top;\n",
       "    }\n",
       "\n",
       "    .dataframe thead th {\n",
       "        text-align: right;\n",
       "    }\n",
       "</style>\n",
       "<table border=\"1\" class=\"dataframe\">\n",
       "  <thead>\n",
       "    <tr style=\"text-align: right;\">\n",
       "      <th></th>\n",
       "      <th>user_id</th>\n",
       "      <th>name</th>\n",
       "      <th>age</th>\n",
       "      <th>city</th>\n",
       "      <th>subscription_type</th>\n",
       "      <th>distance</th>\n",
       "      <th>duration</th>\n",
       "      <th>date</th>\n",
       "      <th>month</th>\n",
       "      <th>minute_price</th>\n",
       "      <th>start_ride_price</th>\n",
       "      <th>subscription_fee</th>\n",
       "    </tr>\n",
       "  </thead>\n",
       "  <tbody>\n",
       "    <tr>\n",
       "      <th>0</th>\n",
       "      <td>1</td>\n",
       "      <td>Кира</td>\n",
       "      <td>22</td>\n",
       "      <td>Тюмень</td>\n",
       "      <td>ultra</td>\n",
       "      <td>4409.919140</td>\n",
       "      <td>25.599769</td>\n",
       "      <td>2021-01-01</td>\n",
       "      <td>1</td>\n",
       "      <td>6</td>\n",
       "      <td>0</td>\n",
       "      <td>199</td>\n",
       "    </tr>\n",
       "    <tr>\n",
       "      <th>1</th>\n",
       "      <td>1</td>\n",
       "      <td>Кира</td>\n",
       "      <td>22</td>\n",
       "      <td>Тюмень</td>\n",
       "      <td>ultra</td>\n",
       "      <td>2617.592153</td>\n",
       "      <td>15.816871</td>\n",
       "      <td>2021-01-18</td>\n",
       "      <td>1</td>\n",
       "      <td>6</td>\n",
       "      <td>0</td>\n",
       "      <td>199</td>\n",
       "    </tr>\n",
       "    <tr>\n",
       "      <th>2</th>\n",
       "      <td>1</td>\n",
       "      <td>Кира</td>\n",
       "      <td>22</td>\n",
       "      <td>Тюмень</td>\n",
       "      <td>ultra</td>\n",
       "      <td>754.159807</td>\n",
       "      <td>6.232113</td>\n",
       "      <td>2021-04-20</td>\n",
       "      <td>4</td>\n",
       "      <td>6</td>\n",
       "      <td>0</td>\n",
       "      <td>199</td>\n",
       "    </tr>\n",
       "    <tr>\n",
       "      <th>3</th>\n",
       "      <td>1</td>\n",
       "      <td>Кира</td>\n",
       "      <td>22</td>\n",
       "      <td>Тюмень</td>\n",
       "      <td>ultra</td>\n",
       "      <td>2694.783254</td>\n",
       "      <td>18.511000</td>\n",
       "      <td>2021-08-11</td>\n",
       "      <td>8</td>\n",
       "      <td>6</td>\n",
       "      <td>0</td>\n",
       "      <td>199</td>\n",
       "    </tr>\n",
       "    <tr>\n",
       "      <th>4</th>\n",
       "      <td>1</td>\n",
       "      <td>Кира</td>\n",
       "      <td>22</td>\n",
       "      <td>Тюмень</td>\n",
       "      <td>ultra</td>\n",
       "      <td>4028.687306</td>\n",
       "      <td>26.265803</td>\n",
       "      <td>2021-08-28</td>\n",
       "      <td>8</td>\n",
       "      <td>6</td>\n",
       "      <td>0</td>\n",
       "      <td>199</td>\n",
       "    </tr>\n",
       "    <tr>\n",
       "      <th>...</th>\n",
       "      <td>...</td>\n",
       "      <td>...</td>\n",
       "      <td>...</td>\n",
       "      <td>...</td>\n",
       "      <td>...</td>\n",
       "      <td>...</td>\n",
       "      <td>...</td>\n",
       "      <td>...</td>\n",
       "      <td>...</td>\n",
       "      <td>...</td>\n",
       "      <td>...</td>\n",
       "      <td>...</td>\n",
       "    </tr>\n",
       "    <tr>\n",
       "      <th>6495</th>\n",
       "      <td>699</td>\n",
       "      <td>Оксана</td>\n",
       "      <td>22</td>\n",
       "      <td>Москва</td>\n",
       "      <td>ultra</td>\n",
       "      <td>3973.046497</td>\n",
       "      <td>24.671163</td>\n",
       "      <td>2021-08-29</td>\n",
       "      <td>8</td>\n",
       "      <td>6</td>\n",
       "      <td>0</td>\n",
       "      <td>199</td>\n",
       "    </tr>\n",
       "    <tr>\n",
       "      <th>6496</th>\n",
       "      <td>699</td>\n",
       "      <td>Оксана</td>\n",
       "      <td>22</td>\n",
       "      <td>Москва</td>\n",
       "      <td>ultra</td>\n",
       "      <td>3288.702563</td>\n",
       "      <td>15.892886</td>\n",
       "      <td>2021-09-12</td>\n",
       "      <td>9</td>\n",
       "      <td>6</td>\n",
       "      <td>0</td>\n",
       "      <td>199</td>\n",
       "    </tr>\n",
       "    <tr>\n",
       "      <th>6497</th>\n",
       "      <td>699</td>\n",
       "      <td>Оксана</td>\n",
       "      <td>22</td>\n",
       "      <td>Москва</td>\n",
       "      <td>ultra</td>\n",
       "      <td>3076.159348</td>\n",
       "      <td>14.389525</td>\n",
       "      <td>2021-09-26</td>\n",
       "      <td>9</td>\n",
       "      <td>6</td>\n",
       "      <td>0</td>\n",
       "      <td>199</td>\n",
       "    </tr>\n",
       "    <tr>\n",
       "      <th>6498</th>\n",
       "      <td>699</td>\n",
       "      <td>Оксана</td>\n",
       "      <td>22</td>\n",
       "      <td>Москва</td>\n",
       "      <td>ultra</td>\n",
       "      <td>4707.845501</td>\n",
       "      <td>15.839579</td>\n",
       "      <td>2021-10-17</td>\n",
       "      <td>10</td>\n",
       "      <td>6</td>\n",
       "      <td>0</td>\n",
       "      <td>199</td>\n",
       "    </tr>\n",
       "    <tr>\n",
       "      <th>6499</th>\n",
       "      <td>699</td>\n",
       "      <td>Оксана</td>\n",
       "      <td>22</td>\n",
       "      <td>Москва</td>\n",
       "      <td>ultra</td>\n",
       "      <td>3202.890770</td>\n",
       "      <td>25.217345</td>\n",
       "      <td>2021-12-03</td>\n",
       "      <td>12</td>\n",
       "      <td>6</td>\n",
       "      <td>0</td>\n",
       "      <td>199</td>\n",
       "    </tr>\n",
       "  </tbody>\n",
       "</table>\n",
       "<p>6500 rows × 12 columns</p>\n",
       "</div>"
      ],
      "text/plain": [
       "      user_id    name  age    city subscription_type     distance   duration  \\\n",
       "0           1    Кира   22  Тюмень             ultra  4409.919140  25.599769   \n",
       "1           1    Кира   22  Тюмень             ultra  2617.592153  15.816871   \n",
       "2           1    Кира   22  Тюмень             ultra   754.159807   6.232113   \n",
       "3           1    Кира   22  Тюмень             ultra  2694.783254  18.511000   \n",
       "4           1    Кира   22  Тюмень             ultra  4028.687306  26.265803   \n",
       "...       ...     ...  ...     ...               ...          ...        ...   \n",
       "6495      699  Оксана   22  Москва             ultra  3973.046497  24.671163   \n",
       "6496      699  Оксана   22  Москва             ultra  3288.702563  15.892886   \n",
       "6497      699  Оксана   22  Москва             ultra  3076.159348  14.389525   \n",
       "6498      699  Оксана   22  Москва             ultra  4707.845501  15.839579   \n",
       "6499      699  Оксана   22  Москва             ultra  3202.890770  25.217345   \n",
       "\n",
       "           date  month  minute_price  start_ride_price  subscription_fee  \n",
       "0    2021-01-01      1             6                 0               199  \n",
       "1    2021-01-18      1             6                 0               199  \n",
       "2    2021-04-20      4             6                 0               199  \n",
       "3    2021-08-11      8             6                 0               199  \n",
       "4    2021-08-28      8             6                 0               199  \n",
       "...         ...    ...           ...               ...               ...  \n",
       "6495 2021-08-29      8             6                 0               199  \n",
       "6496 2021-09-12      9             6                 0               199  \n",
       "6497 2021-09-26      9             6                 0               199  \n",
       "6498 2021-10-17     10             6                 0               199  \n",
       "6499 2021-12-03     12             6                 0               199  \n",
       "\n",
       "[6500 rows x 12 columns]"
      ]
     },
     "execution_count": 50,
     "metadata": {},
     "output_type": "execute_result"
    }
   ],
   "source": [
    "data_ultra"
   ]
  },
  {
   "cell_type": "code",
   "execution_count": 51,
   "id": "05be77d2",
   "metadata": {
    "scrolled": false
   },
   "outputs": [],
   "source": [
    "data_free = data_free.reset_index()"
   ]
  },
  {
   "cell_type": "code",
   "execution_count": 52,
   "id": "4f011036",
   "metadata": {},
   "outputs": [
    {
     "data": {
      "text/html": [
       "<div>\n",
       "<style scoped>\n",
       "    .dataframe tbody tr th:only-of-type {\n",
       "        vertical-align: middle;\n",
       "    }\n",
       "\n",
       "    .dataframe tbody tr th {\n",
       "        vertical-align: top;\n",
       "    }\n",
       "\n",
       "    .dataframe thead th {\n",
       "        text-align: right;\n",
       "    }\n",
       "</style>\n",
       "<table border=\"1\" class=\"dataframe\">\n",
       "  <thead>\n",
       "    <tr style=\"text-align: right;\">\n",
       "      <th></th>\n",
       "      <th>index</th>\n",
       "      <th>user_id</th>\n",
       "      <th>name</th>\n",
       "      <th>age</th>\n",
       "      <th>city</th>\n",
       "      <th>subscription_type</th>\n",
       "      <th>distance</th>\n",
       "      <th>duration</th>\n",
       "      <th>date</th>\n",
       "      <th>month</th>\n",
       "      <th>minute_price</th>\n",
       "      <th>start_ride_price</th>\n",
       "      <th>subscription_fee</th>\n",
       "    </tr>\n",
       "  </thead>\n",
       "  <tbody>\n",
       "    <tr>\n",
       "      <th>0</th>\n",
       "      <td>6500</td>\n",
       "      <td>700</td>\n",
       "      <td>Айдар</td>\n",
       "      <td>22</td>\n",
       "      <td>Омск</td>\n",
       "      <td>free</td>\n",
       "      <td>2515.690719</td>\n",
       "      <td>14.944286</td>\n",
       "      <td>2021-01-02</td>\n",
       "      <td>1</td>\n",
       "      <td>8</td>\n",
       "      <td>50</td>\n",
       "      <td>0</td>\n",
       "    </tr>\n",
       "    <tr>\n",
       "      <th>1</th>\n",
       "      <td>6501</td>\n",
       "      <td>700</td>\n",
       "      <td>Айдар</td>\n",
       "      <td>22</td>\n",
       "      <td>Омск</td>\n",
       "      <td>free</td>\n",
       "      <td>846.932642</td>\n",
       "      <td>16.234663</td>\n",
       "      <td>2021-02-01</td>\n",
       "      <td>2</td>\n",
       "      <td>8</td>\n",
       "      <td>50</td>\n",
       "      <td>0</td>\n",
       "    </tr>\n",
       "    <tr>\n",
       "      <th>2</th>\n",
       "      <td>6502</td>\n",
       "      <td>700</td>\n",
       "      <td>Айдар</td>\n",
       "      <td>22</td>\n",
       "      <td>Омск</td>\n",
       "      <td>free</td>\n",
       "      <td>4004.434142</td>\n",
       "      <td>20.016628</td>\n",
       "      <td>2021-02-04</td>\n",
       "      <td>2</td>\n",
       "      <td>8</td>\n",
       "      <td>50</td>\n",
       "      <td>0</td>\n",
       "    </tr>\n",
       "    <tr>\n",
       "      <th>3</th>\n",
       "      <td>6503</td>\n",
       "      <td>700</td>\n",
       "      <td>Айдар</td>\n",
       "      <td>22</td>\n",
       "      <td>Омск</td>\n",
       "      <td>free</td>\n",
       "      <td>1205.911290</td>\n",
       "      <td>9.782872</td>\n",
       "      <td>2021-02-10</td>\n",
       "      <td>2</td>\n",
       "      <td>8</td>\n",
       "      <td>50</td>\n",
       "      <td>0</td>\n",
       "    </tr>\n",
       "    <tr>\n",
       "      <th>4</th>\n",
       "      <td>6504</td>\n",
       "      <td>700</td>\n",
       "      <td>Айдар</td>\n",
       "      <td>22</td>\n",
       "      <td>Омск</td>\n",
       "      <td>free</td>\n",
       "      <td>3047.379435</td>\n",
       "      <td>17.427673</td>\n",
       "      <td>2021-02-14</td>\n",
       "      <td>2</td>\n",
       "      <td>8</td>\n",
       "      <td>50</td>\n",
       "      <td>0</td>\n",
       "    </tr>\n",
       "    <tr>\n",
       "      <th>...</th>\n",
       "      <td>...</td>\n",
       "      <td>...</td>\n",
       "      <td>...</td>\n",
       "      <td>...</td>\n",
       "      <td>...</td>\n",
       "      <td>...</td>\n",
       "      <td>...</td>\n",
       "      <td>...</td>\n",
       "      <td>...</td>\n",
       "      <td>...</td>\n",
       "      <td>...</td>\n",
       "      <td>...</td>\n",
       "      <td>...</td>\n",
       "    </tr>\n",
       "    <tr>\n",
       "      <th>11563</th>\n",
       "      <td>18063</td>\n",
       "      <td>1534</td>\n",
       "      <td>Альберт</td>\n",
       "      <td>25</td>\n",
       "      <td>Краснодар</td>\n",
       "      <td>free</td>\n",
       "      <td>3781.098080</td>\n",
       "      <td>19.822962</td>\n",
       "      <td>2021-11-04</td>\n",
       "      <td>11</td>\n",
       "      <td>8</td>\n",
       "      <td>50</td>\n",
       "      <td>0</td>\n",
       "    </tr>\n",
       "    <tr>\n",
       "      <th>11564</th>\n",
       "      <td>18064</td>\n",
       "      <td>1534</td>\n",
       "      <td>Альберт</td>\n",
       "      <td>25</td>\n",
       "      <td>Краснодар</td>\n",
       "      <td>free</td>\n",
       "      <td>2840.423057</td>\n",
       "      <td>21.409799</td>\n",
       "      <td>2021-11-16</td>\n",
       "      <td>11</td>\n",
       "      <td>8</td>\n",
       "      <td>50</td>\n",
       "      <td>0</td>\n",
       "    </tr>\n",
       "    <tr>\n",
       "      <th>11565</th>\n",
       "      <td>18065</td>\n",
       "      <td>1534</td>\n",
       "      <td>Альберт</td>\n",
       "      <td>25</td>\n",
       "      <td>Краснодар</td>\n",
       "      <td>free</td>\n",
       "      <td>3826.185507</td>\n",
       "      <td>18.435051</td>\n",
       "      <td>2021-11-18</td>\n",
       "      <td>11</td>\n",
       "      <td>8</td>\n",
       "      <td>50</td>\n",
       "      <td>0</td>\n",
       "    </tr>\n",
       "    <tr>\n",
       "      <th>11566</th>\n",
       "      <td>18066</td>\n",
       "      <td>1534</td>\n",
       "      <td>Альберт</td>\n",
       "      <td>25</td>\n",
       "      <td>Краснодар</td>\n",
       "      <td>free</td>\n",
       "      <td>2902.308661</td>\n",
       "      <td>16.674362</td>\n",
       "      <td>2021-11-27</td>\n",
       "      <td>11</td>\n",
       "      <td>8</td>\n",
       "      <td>50</td>\n",
       "      <td>0</td>\n",
       "    </tr>\n",
       "    <tr>\n",
       "      <th>11567</th>\n",
       "      <td>18067</td>\n",
       "      <td>1534</td>\n",
       "      <td>Альберт</td>\n",
       "      <td>25</td>\n",
       "      <td>Краснодар</td>\n",
       "      <td>free</td>\n",
       "      <td>2371.711192</td>\n",
       "      <td>15.893917</td>\n",
       "      <td>2021-12-29</td>\n",
       "      <td>12</td>\n",
       "      <td>8</td>\n",
       "      <td>50</td>\n",
       "      <td>0</td>\n",
       "    </tr>\n",
       "  </tbody>\n",
       "</table>\n",
       "<p>11568 rows × 13 columns</p>\n",
       "</div>"
      ],
      "text/plain": [
       "       index  user_id     name  age       city subscription_type     distance  \\\n",
       "0       6500      700    Айдар   22       Омск              free  2515.690719   \n",
       "1       6501      700    Айдар   22       Омск              free   846.932642   \n",
       "2       6502      700    Айдар   22       Омск              free  4004.434142   \n",
       "3       6503      700    Айдар   22       Омск              free  1205.911290   \n",
       "4       6504      700    Айдар   22       Омск              free  3047.379435   \n",
       "...      ...      ...      ...  ...        ...               ...          ...   \n",
       "11563  18063     1534  Альберт   25  Краснодар              free  3781.098080   \n",
       "11564  18064     1534  Альберт   25  Краснодар              free  2840.423057   \n",
       "11565  18065     1534  Альберт   25  Краснодар              free  3826.185507   \n",
       "11566  18066     1534  Альберт   25  Краснодар              free  2902.308661   \n",
       "11567  18067     1534  Альберт   25  Краснодар              free  2371.711192   \n",
       "\n",
       "        duration       date  month  minute_price  start_ride_price  \\\n",
       "0      14.944286 2021-01-02      1             8                50   \n",
       "1      16.234663 2021-02-01      2             8                50   \n",
       "2      20.016628 2021-02-04      2             8                50   \n",
       "3       9.782872 2021-02-10      2             8                50   \n",
       "4      17.427673 2021-02-14      2             8                50   \n",
       "...          ...        ...    ...           ...               ...   \n",
       "11563  19.822962 2021-11-04     11             8                50   \n",
       "11564  21.409799 2021-11-16     11             8                50   \n",
       "11565  18.435051 2021-11-18     11             8                50   \n",
       "11566  16.674362 2021-11-27     11             8                50   \n",
       "11567  15.893917 2021-12-29     12             8                50   \n",
       "\n",
       "       subscription_fee  \n",
       "0                     0  \n",
       "1                     0  \n",
       "2                     0  \n",
       "3                     0  \n",
       "4                     0  \n",
       "...                 ...  \n",
       "11563                 0  \n",
       "11564                 0  \n",
       "11565                 0  \n",
       "11566                 0  \n",
       "11567                 0  \n",
       "\n",
       "[11568 rows x 13 columns]"
      ]
     },
     "execution_count": 52,
     "metadata": {},
     "output_type": "execute_result"
    }
   ],
   "source": [
    "data_free"
   ]
  },
  {
   "cell_type": "markdown",
   "id": "7fa39396",
   "metadata": {},
   "source": [
    "<p>\n",
    "<div class=\"alert-danger\">\n",
    "<b>Комментарий ревьюера ❌</b> \n",
    "\n",
    "Количество строк в получившихся датафреймах больше, чем должно быть, скорее всего из-за дубликатов"
   ]
  },
  {
   "cell_type": "markdown",
   "id": "93f34b44",
   "metadata": {},
   "source": [
    "<div class=\"alert-success\">\n",
    "<b>Комментарий ревьюера 2 ✔️</b>\n",
    "\n",
    "Данные объединены верно и отдельные датафреймы созданы правильно. 👍</div>"
   ]
  },
  {
   "cell_type": "markdown",
   "id": "f877a30b",
   "metadata": {},
   "source": [
    "создали два датафрейма с подпиской и без подписки. количество строк в data_ultra - 6500, количество строк в data_free - 11568\n",
    "\n",
    "общая сумма строк составляет 18068 столько же что и до разделения."
   ]
  },
  {
   "cell_type": "markdown",
   "id": "b81c7046",
   "metadata": {},
   "source": [
    "<div class=\"alert-info\">\n",
    "количество строк совпадает, дубликатов так и не выявил, не пойму где я ошибаюсь.</div>"
   ]
  },
  {
   "cell_type": "markdown",
   "id": "d125504b",
   "metadata": {},
   "source": [
    "<div class=\"alert-success\">\n",
    "<b>Комментарий ревьюера 2 ✔️</b>\n",
    "\n",
    "Теперь все верно 👍</div>"
   ]
  },
  {
   "cell_type": "markdown",
   "id": "b0ee1b9d",
   "metadata": {},
   "source": [
    "4.3 Визуализируем информацию о расстоянии и времени поездок для пользователей обеих категорий."
   ]
  },
  {
   "cell_type": "code",
   "execution_count": 53,
   "id": "3390e9a2",
   "metadata": {},
   "outputs": [
    {
     "data": {
      "image/png": "[encoded data removed]",
      "text/plain": [
       "<Figure size 432x288 with 1 Axes>"
      ]
     },
     "metadata": {
      "needs_background": "light"
     },
     "output_type": "display_data"
    }
   ],
   "source": [
    "data_ultra['duration'].plot(kind='hist', bins=30)\n",
    "plt.title('продолжительность одной поездки с подпиской ultra')\n",
    "plt.xlabel('время, мин.')\n",
    "plt.ylabel('количество поездок');\n"
   ]
  },
  {
   "cell_type": "code",
   "execution_count": 54,
   "id": "98bbb281",
   "metadata": {},
   "outputs": [
    {
     "data": {
      "text/plain": [
       "count    6500.000000\n",
       "mean       18.541985\n",
       "std         5.572048\n",
       "min         3.760353\n",
       "25%        14.524654\n",
       "50%        18.178153\n",
       "75%        21.884129\n",
       "max        40.823963\n",
       "Name: duration, dtype: float64"
      ]
     },
     "execution_count": 54,
     "metadata": {},
     "output_type": "execute_result"
    }
   ],
   "source": [
    "data_ultra['duration'].describe()"
   ]
  },
  {
   "cell_type": "code",
   "execution_count": 55,
   "id": "f22e588d",
   "metadata": {},
   "outputs": [
    {
     "data": {
      "image/png": "[encoded data removed]",
      "text/plain": [
       "<Figure size 432x288 with 1 Axes>"
      ]
     },
     "metadata": {
      "needs_background": "light"
     },
     "output_type": "display_data"
    }
   ],
   "source": [
    "data_free['duration'].plot(kind='hist', bins=30)\n",
    "plt.title('продолжительность одной поездки без подписки')\n",
    "plt.xlabel('время, мин.')\n",
    "plt.ylabel('количество поездок');"
   ]
  },
  {
   "cell_type": "code",
   "execution_count": 56,
   "id": "cf8a0c06",
   "metadata": {},
   "outputs": [
    {
     "data": {
      "text/plain": [
       "count    11568.000000\n",
       "mean        17.390909\n",
       "std          6.326803\n",
       "min          0.500000\n",
       "25%         12.958437\n",
       "50%         17.326890\n",
       "75%         21.594071\n",
       "max         34.948498\n",
       "Name: duration, dtype: float64"
      ]
     },
     "execution_count": 56,
     "metadata": {},
     "output_type": "execute_result"
    }
   ],
   "source": [
    "data_free['duration'].describe()"
   ]
  },
  {
   "cell_type": "code",
   "execution_count": 57,
   "id": "7b1b02bc",
   "metadata": {},
   "outputs": [
    {
     "data": {
      "image/png": "[encoded data removed]",
      "text/plain": [
       "<Figure size 432x288 with 1 Axes>"
      ]
     },
     "metadata": {
      "needs_background": "light"
     },
     "output_type": "display_data"
    }
   ],
   "source": [
    "plt.title('Сравнение продолжительности одной поездки в разных тарифах')\n",
    "data.groupby('subscription_type')['duration'].plot(kind='hist', bins=35)\n",
    "plt.legend(['без подписки', 'с подпиской Ultra'])\n",
    "plt.xlabel('время, мин')\n",
    "plt.ylabel('Количество поездок')\n",
    "plt.show()"
   ]
  },
  {
   "cell_type": "code",
   "execution_count": 58,
   "id": "34651902",
   "metadata": {},
   "outputs": [
    {
     "data": {
      "image/png": "[encoded data removed]",
      "text/plain": [
       "<Figure size 432x288 with 1 Axes>"
      ]
     },
     "metadata": {
      "needs_background": "light"
     },
     "output_type": "display_data"
    }
   ],
   "source": [
    "data_ultra['distance'].plot(kind='hist', bins=30)\n",
    "plt.title('расстояние одной поездки c подпиской')\n",
    "plt.xlabel('расстояние, м.')\n",
    "plt.ylabel('количество поездок');"
   ]
  },
  {
   "cell_type": "code",
   "execution_count": 59,
   "id": "f1d61382",
   "metadata": {},
   "outputs": [
    {
     "data": {
      "text/plain": [
       "count    6500.000000\n",
       "mean     3115.445388\n",
       "std       836.895330\n",
       "min       244.210438\n",
       "25%      2785.444017\n",
       "50%      3148.637229\n",
       "75%      3560.574425\n",
       "max      5699.769662\n",
       "Name: distance, dtype: float64"
      ]
     },
     "execution_count": 59,
     "metadata": {},
     "output_type": "execute_result"
    }
   ],
   "source": [
    "data_ultra['distance'].describe()"
   ]
  },
  {
   "cell_type": "code",
   "execution_count": 60,
   "id": "1918bc61",
   "metadata": {},
   "outputs": [
    {
     "data": {
      "image/png": "[encoded data removed]",
      "text/plain": [
       "<Figure size 432x288 with 1 Axes>"
      ]
     },
     "metadata": {
      "needs_background": "light"
     },
     "output_type": "display_data"
    }
   ],
   "source": [
    "data_free['distance'].plot(kind='hist', bins=30)\n",
    "plt.title('расстояние одной поездки без подписки')\n",
    "plt.xlabel('расстояние, м.')\n",
    "plt.ylabel('количество поездок');"
   ]
  },
  {
   "cell_type": "code",
   "execution_count": 61,
   "id": "fed572da",
   "metadata": {},
   "outputs": [
    {
     "data": {
      "text/plain": [
       "count    11568.000000\n",
       "mean      3045.495282\n",
       "std       1246.173806\n",
       "min          0.855683\n",
       "25%       2366.562689\n",
       "50%       3114.648465\n",
       "75%       3905.697894\n",
       "max       7211.007745\n",
       "Name: distance, dtype: float64"
      ]
     },
     "execution_count": 61,
     "metadata": {},
     "output_type": "execute_result"
    }
   ],
   "source": [
    "data_free['distance'].describe()"
   ]
  },
  {
   "cell_type": "code",
   "execution_count": 62,
   "id": "ccbff729",
   "metadata": {},
   "outputs": [
    {
     "data": {
      "image/png": "[encoded data removed]",
      "text/plain": [
       "<Figure size 432x288 with 1 Axes>"
      ]
     },
     "metadata": {
      "needs_background": "light"
     },
     "output_type": "display_data"
    }
   ],
   "source": [
    "plt.title('Сравнение расстояний одной поездки в разных тарифах')\n",
    "data.groupby('subscription_type')['distance'].plot(kind='hist', bins=35)\n",
    "plt.legend(['без подписки', 'с подпиской Ultra'])\n",
    "plt.xlabel('расстояние, м')\n",
    "plt.ylabel('Количество поездок')\n",
    "plt.show()"
   ]
  },
  {
   "cell_type": "markdown",
   "id": "a0555e31",
   "metadata": {},
   "source": [
    "Вывод: \n",
    "\n",
    "Поездки пользователей с подпиской на 2,3% дальше и на 6,5% дольше чем у поездки у пользователей без подписки. \n",
    "\n",
    "средняя продолжительность поездки с подпиской 18,5 мин, без подписки 17,4 мин. \n",
    "\n",
    "среднее расстояние за одну поездку с подпиской 3115 метров, без подписки 3045 метров. \n",
    "\n",
    "Коротких поездок у пользователей без подписки больше чем с подпиской. "
   ]
  },
  {
   "cell_type": "markdown",
   "id": "a05d46ae",
   "metadata": {},
   "source": [
    "<div class=\"alert-warning\">\n",
    "<b>Комментарий ревьюера ⚠️</b>\n",
    "\n",
    "- Удобнее сравнить тарифы, если совместить графики распределений. \n",
    "- Также полезно воспользоваться методом `describe()`\n",
    "\n",
    "</div>"
   ]
  },
  {
   "cell_type": "markdown",
   "id": "3e0c6a5e",
   "metadata": {},
   "source": [
    "<div class=\"alert-info\">\n",
    "добавил метод describe(), подправил и добавил графики распределения </div>"
   ]
  },
  {
   "cell_type": "markdown",
   "id": "f9cb529d",
   "metadata": {},
   "source": [
    "<p>\n",
    "<div class=\"alert-success\">\n",
    "<b>Комментарий ревьюера 2 ✔️</b>\n",
    "\n",
    "    \n",
    "👍</div>"
   ]
  },
  {
   "cell_type": "markdown",
   "id": "402d620f",
   "metadata": {},
   "source": [
    "## Шаг 5. Подсчёт выручки"
   ]
  },
  {
   "cell_type": "code",
   "execution_count": 63,
   "id": "a6c77f14",
   "metadata": {},
   "outputs": [],
   "source": [
    "data['duration'] = np.ceil(data['duration']) "
   ]
  },
  {
   "cell_type": "markdown",
   "id": "348ac47a",
   "metadata": {},
   "source": [
    "5.1 Создадим датафрейм с агрегированными данными о поездках на основе датафрейма с объединёнными данными из шага 4: найдем суммарное расстояние, количество поездок и суммарное время для каждого пользователя за каждый месяц."
   ]
  },
  {
   "cell_type": "code",
   "execution_count": 64,
   "id": "c4081f7e",
   "metadata": {},
   "outputs": [],
   "source": [
    "agg_data = data.pivot_table(index=['user_id', 'month'], \n",
    "                            values = ['distance', 'duration', 'name', 'subscription_type'], \n",
    "                            aggfunc={'distance':'sum', 'duration':'sum', 'name':'count', 'subscription_type': 'min'})\n",
    "agg_data.columns = ['total_distance', 'total_duration', 'trip_count', 'subscription_type']"
   ]
  },
  {
   "cell_type": "markdown",
   "id": "6a0e8e9d",
   "metadata": {},
   "source": [
    "<div class=\"alert-warning\">\n",
    "<b>Комментарий ревьюера ⚠️</b>\n",
    "\n",
    "PEP8 предлагает ограничить длину строки 79 символами. Это рекомендуется делать, чтобы вы имели возможность открывать несколько файлов рядом друг с другом, а также избегать переноса строк.\n",
    "\n",
    "Конечно, не всегда возможно обеспечить длины всех операторов до 79 символов. PEP8 также описывает способы, позволяющие операторам занимать несколько строк. Python предполагает наличие продолжения строки, если код заключен в круглые, квадратные или фигурные скобки:\n",
    "\n",
    "    def function(arg_one, arg_two,\n",
    "                 arg_three, arg_four):\n",
    "        return arg_one \n",
    "Если продолжение строки использовать не представляется возможным, можно также использовать обратную косую черту для разрыва строки:\n",
    "\n",
    "    from mypkg import example1, \\\n",
    "        example2, example3\n",
    "    \n",
    "Важно: если разрыв строки должен произойти вокруг бинарных операторов, таких как сложение или, например, умножение, он должен находиться перед оператором.\n",
    "\n",
    "</div>"
   ]
  },
  {
   "cell_type": "markdown",
   "id": "1926f957",
   "metadata": {},
   "source": [
    "<div class=\"alert-info\">\n",
    "подправил </div>"
   ]
  },
  {
   "cell_type": "markdown",
   "id": "6f24571a",
   "metadata": {},
   "source": [
    "<p>\n",
    "<div class=\"alert-success\">\n",
    "<b>Комментарий ревьюера 2 ✔️</b>\n",
    "\n",
    "    \n",
    "👍</div>"
   ]
  },
  {
   "cell_type": "code",
   "execution_count": 65,
   "id": "fda01cfb",
   "metadata": {},
   "outputs": [
    {
     "data": {
      "text/html": [
       "<div>\n",
       "<style scoped>\n",
       "    .dataframe tbody tr th:only-of-type {\n",
       "        vertical-align: middle;\n",
       "    }\n",
       "\n",
       "    .dataframe tbody tr th {\n",
       "        vertical-align: top;\n",
       "    }\n",
       "\n",
       "    .dataframe thead th {\n",
       "        text-align: right;\n",
       "    }\n",
       "</style>\n",
       "<table border=\"1\" class=\"dataframe\">\n",
       "  <thead>\n",
       "    <tr style=\"text-align: right;\">\n",
       "      <th></th>\n",
       "      <th></th>\n",
       "      <th>total_distance</th>\n",
       "      <th>total_duration</th>\n",
       "      <th>trip_count</th>\n",
       "      <th>subscription_type</th>\n",
       "    </tr>\n",
       "    <tr>\n",
       "      <th>user_id</th>\n",
       "      <th>month</th>\n",
       "      <th></th>\n",
       "      <th></th>\n",
       "      <th></th>\n",
       "      <th></th>\n",
       "    </tr>\n",
       "  </thead>\n",
       "  <tbody>\n",
       "    <tr>\n",
       "      <th rowspan=\"5\" valign=\"top\">1</th>\n",
       "      <th>1</th>\n",
       "      <td>7027.511294</td>\n",
       "      <td>42.0</td>\n",
       "      <td>2</td>\n",
       "      <td>ultra</td>\n",
       "    </tr>\n",
       "    <tr>\n",
       "      <th>4</th>\n",
       "      <td>754.159807</td>\n",
       "      <td>7.0</td>\n",
       "      <td>1</td>\n",
       "      <td>ultra</td>\n",
       "    </tr>\n",
       "    <tr>\n",
       "      <th>8</th>\n",
       "      <td>6723.470560</td>\n",
       "      <td>46.0</td>\n",
       "      <td>2</td>\n",
       "      <td>ultra</td>\n",
       "    </tr>\n",
       "    <tr>\n",
       "      <th>10</th>\n",
       "      <td>5809.911100</td>\n",
       "      <td>32.0</td>\n",
       "      <td>2</td>\n",
       "      <td>ultra</td>\n",
       "    </tr>\n",
       "    <tr>\n",
       "      <th>11</th>\n",
       "      <td>7003.499363</td>\n",
       "      <td>56.0</td>\n",
       "      <td>3</td>\n",
       "      <td>ultra</td>\n",
       "    </tr>\n",
       "  </tbody>\n",
       "</table>\n",
       "</div>"
      ],
      "text/plain": [
       "               total_distance  total_duration  trip_count subscription_type\n",
       "user_id month                                                              \n",
       "1       1         7027.511294            42.0           2             ultra\n",
       "        4          754.159807             7.0           1             ultra\n",
       "        8         6723.470560            46.0           2             ultra\n",
       "        10        5809.911100            32.0           2             ultra\n",
       "        11        7003.499363            56.0           3             ultra"
      ]
     },
     "execution_count": 65,
     "metadata": {},
     "output_type": "execute_result"
    }
   ],
   "source": [
    "agg_data.head()"
   ]
  },
  {
   "cell_type": "code",
   "execution_count": 66,
   "id": "4bc9f358",
   "metadata": {},
   "outputs": [
    {
     "data": {
      "text/html": [
       "<div>\n",
       "<style scoped>\n",
       "    .dataframe tbody tr th:only-of-type {\n",
       "        vertical-align: middle;\n",
       "    }\n",
       "\n",
       "    .dataframe tbody tr th {\n",
       "        vertical-align: top;\n",
       "    }\n",
       "\n",
       "    .dataframe thead th {\n",
       "        text-align: right;\n",
       "    }\n",
       "</style>\n",
       "<table border=\"1\" class=\"dataframe\">\n",
       "  <thead>\n",
       "    <tr style=\"text-align: right;\">\n",
       "      <th></th>\n",
       "      <th></th>\n",
       "      <th>total_distance</th>\n",
       "      <th>total_duration</th>\n",
       "      <th>trip_count</th>\n",
       "      <th>subscription_type</th>\n",
       "    </tr>\n",
       "    <tr>\n",
       "      <th>user_id</th>\n",
       "      <th>month</th>\n",
       "      <th></th>\n",
       "      <th></th>\n",
       "      <th></th>\n",
       "      <th></th>\n",
       "    </tr>\n",
       "  </thead>\n",
       "  <tbody>\n",
       "    <tr>\n",
       "      <th rowspan=\"5\" valign=\"top\">1534</th>\n",
       "      <th>6</th>\n",
       "      <td>3409.468534</td>\n",
       "      <td>26.0</td>\n",
       "      <td>2</td>\n",
       "      <td>free</td>\n",
       "    </tr>\n",
       "    <tr>\n",
       "      <th>8</th>\n",
       "      <td>7622.453034</td>\n",
       "      <td>48.0</td>\n",
       "      <td>2</td>\n",
       "      <td>free</td>\n",
       "    </tr>\n",
       "    <tr>\n",
       "      <th>9</th>\n",
       "      <td>4928.173852</td>\n",
       "      <td>23.0</td>\n",
       "      <td>1</td>\n",
       "      <td>free</td>\n",
       "    </tr>\n",
       "    <tr>\n",
       "      <th>11</th>\n",
       "      <td>13350.015305</td>\n",
       "      <td>78.0</td>\n",
       "      <td>4</td>\n",
       "      <td>free</td>\n",
       "    </tr>\n",
       "    <tr>\n",
       "      <th>12</th>\n",
       "      <td>2371.711192</td>\n",
       "      <td>16.0</td>\n",
       "      <td>1</td>\n",
       "      <td>free</td>\n",
       "    </tr>\n",
       "  </tbody>\n",
       "</table>\n",
       "</div>"
      ],
      "text/plain": [
       "               total_distance  total_duration  trip_count subscription_type\n",
       "user_id month                                                              \n",
       "1534    6         3409.468534            26.0           2              free\n",
       "        8         7622.453034            48.0           2              free\n",
       "        9         4928.173852            23.0           1              free\n",
       "        11       13350.015305            78.0           4              free\n",
       "        12        2371.711192            16.0           1              free"
      ]
     },
     "execution_count": 66,
     "metadata": {},
     "output_type": "execute_result"
    }
   ],
   "source": [
    "agg_data.tail()"
   ]
  },
  {
   "cell_type": "code",
   "execution_count": 67,
   "id": "f3f74462",
   "metadata": {},
   "outputs": [],
   "source": [
    "agg_data = agg_data.reset_index()"
   ]
  },
  {
   "cell_type": "markdown",
   "id": "a03ddae7",
   "metadata": {},
   "source": [
    "5.2 В этот же датафрейм добавим столбец с помесячной выручкой, которую принёс каждый пользователь. Для этого обратимся к информации об условиях оплаты для подписчиков и тех, у кого нет подписки. Продолжительность каждой поездки в каждой строке исходного датафрейма для подсчёта стоимости округляется до следующего целого числа"
   ]
  },
  {
   "cell_type": "markdown",
   "id": "ea5b6213",
   "metadata": {},
   "source": [
    "<div class=\"alert-info\">\n",
    "перенес до агрегации </div>"
   ]
  },
  {
   "cell_type": "markdown",
   "id": "eac1f74e",
   "metadata": {},
   "source": [
    "<p>\n",
    "<div class=\"alert-danger\">\n",
    "<b>Комментарий ревьюера ❌</b> \n",
    "\n",
    "Обрати внимание на подсказку, данную в задании. \n",
    "    \n",
    "    \n",
    "    Продолжительность каждой поездки должна быть округлена...\n",
    "    \n",
    "Нужно округлить длительность поездок **до агрегации**"
   ]
  },
  {
   "cell_type": "markdown",
   "id": "1c45fe82",
   "metadata": {},
   "source": [
    "<p>\n",
    "<div class=\"alert-success\">\n",
    "<b>Комментарий ревьюера 2 ✔️</b>\n",
    "\n",
    "    \n",
    "👍</div>"
   ]
  },
  {
   "cell_type": "code",
   "execution_count": 68,
   "id": "7fbf4266",
   "metadata": {
    "scrolled": true
   },
   "outputs": [],
   "source": [
    "def income_func (row):\n",
    "    if row['user_id'] in data_ultra['user_id'].values:\n",
    "        return 6 * round(row['total_duration']) + 199\n",
    "    if row['user_id'] in data_free['user_id'].values:\n",
    "        return 8 * round(row['total_duration']) + 50 * round(row['trip_count'])\n",
    "\n",
    "agg_data['income'] = agg_data.apply(income_func, axis=1) "
   ]
  },
  {
   "cell_type": "code",
   "execution_count": 69,
   "id": "400bc7d7",
   "metadata": {},
   "outputs": [
    {
     "data": {
      "text/html": [
       "<div>\n",
       "<style scoped>\n",
       "    .dataframe tbody tr th:only-of-type {\n",
       "        vertical-align: middle;\n",
       "    }\n",
       "\n",
       "    .dataframe tbody tr th {\n",
       "        vertical-align: top;\n",
       "    }\n",
       "\n",
       "    .dataframe thead th {\n",
       "        text-align: right;\n",
       "    }\n",
       "</style>\n",
       "<table border=\"1\" class=\"dataframe\">\n",
       "  <thead>\n",
       "    <tr style=\"text-align: right;\">\n",
       "      <th></th>\n",
       "      <th>user_id</th>\n",
       "      <th>month</th>\n",
       "      <th>total_distance</th>\n",
       "      <th>total_duration</th>\n",
       "      <th>trip_count</th>\n",
       "      <th>subscription_type</th>\n",
       "      <th>income</th>\n",
       "    </tr>\n",
       "  </thead>\n",
       "  <tbody>\n",
       "    <tr>\n",
       "      <th>0</th>\n",
       "      <td>1</td>\n",
       "      <td>1</td>\n",
       "      <td>7027.511294</td>\n",
       "      <td>42.0</td>\n",
       "      <td>2</td>\n",
       "      <td>ultra</td>\n",
       "      <td>451</td>\n",
       "    </tr>\n",
       "    <tr>\n",
       "      <th>1</th>\n",
       "      <td>1</td>\n",
       "      <td>4</td>\n",
       "      <td>754.159807</td>\n",
       "      <td>7.0</td>\n",
       "      <td>1</td>\n",
       "      <td>ultra</td>\n",
       "      <td>241</td>\n",
       "    </tr>\n",
       "    <tr>\n",
       "      <th>2</th>\n",
       "      <td>1</td>\n",
       "      <td>8</td>\n",
       "      <td>6723.470560</td>\n",
       "      <td>46.0</td>\n",
       "      <td>2</td>\n",
       "      <td>ultra</td>\n",
       "      <td>475</td>\n",
       "    </tr>\n",
       "    <tr>\n",
       "      <th>3</th>\n",
       "      <td>1</td>\n",
       "      <td>10</td>\n",
       "      <td>5809.911100</td>\n",
       "      <td>32.0</td>\n",
       "      <td>2</td>\n",
       "      <td>ultra</td>\n",
       "      <td>391</td>\n",
       "    </tr>\n",
       "    <tr>\n",
       "      <th>4</th>\n",
       "      <td>1</td>\n",
       "      <td>11</td>\n",
       "      <td>7003.499363</td>\n",
       "      <td>56.0</td>\n",
       "      <td>3</td>\n",
       "      <td>ultra</td>\n",
       "      <td>535</td>\n",
       "    </tr>\n",
       "  </tbody>\n",
       "</table>\n",
       "</div>"
      ],
      "text/plain": [
       "   user_id  month  total_distance  total_duration  trip_count  \\\n",
       "0        1      1     7027.511294            42.0           2   \n",
       "1        1      4      754.159807             7.0           1   \n",
       "2        1      8     6723.470560            46.0           2   \n",
       "3        1     10     5809.911100            32.0           2   \n",
       "4        1     11     7003.499363            56.0           3   \n",
       "\n",
       "  subscription_type  income  \n",
       "0             ultra     451  \n",
       "1             ultra     241  \n",
       "2             ultra     475  \n",
       "3             ultra     391  \n",
       "4             ultra     535  "
      ]
     },
     "execution_count": 69,
     "metadata": {},
     "output_type": "execute_result"
    }
   ],
   "source": [
    "agg_data.head(5)"
   ]
  },
  {
   "cell_type": "code",
   "execution_count": 70,
   "id": "4e35e0ee",
   "metadata": {
    "scrolled": true
   },
   "outputs": [
    {
     "data": {
      "text/html": [
       "<div>\n",
       "<style scoped>\n",
       "    .dataframe tbody tr th:only-of-type {\n",
       "        vertical-align: middle;\n",
       "    }\n",
       "\n",
       "    .dataframe tbody tr th {\n",
       "        vertical-align: top;\n",
       "    }\n",
       "\n",
       "    .dataframe thead th {\n",
       "        text-align: right;\n",
       "    }\n",
       "</style>\n",
       "<table border=\"1\" class=\"dataframe\">\n",
       "  <thead>\n",
       "    <tr style=\"text-align: right;\">\n",
       "      <th></th>\n",
       "      <th>user_id</th>\n",
       "      <th>month</th>\n",
       "      <th>total_distance</th>\n",
       "      <th>total_duration</th>\n",
       "      <th>trip_count</th>\n",
       "      <th>subscription_type</th>\n",
       "      <th>income</th>\n",
       "    </tr>\n",
       "  </thead>\n",
       "  <tbody>\n",
       "    <tr>\n",
       "      <th>11326</th>\n",
       "      <td>1534</td>\n",
       "      <td>6</td>\n",
       "      <td>3409.468534</td>\n",
       "      <td>26.0</td>\n",
       "      <td>2</td>\n",
       "      <td>free</td>\n",
       "      <td>308</td>\n",
       "    </tr>\n",
       "    <tr>\n",
       "      <th>11327</th>\n",
       "      <td>1534</td>\n",
       "      <td>8</td>\n",
       "      <td>7622.453034</td>\n",
       "      <td>48.0</td>\n",
       "      <td>2</td>\n",
       "      <td>free</td>\n",
       "      <td>484</td>\n",
       "    </tr>\n",
       "    <tr>\n",
       "      <th>11328</th>\n",
       "      <td>1534</td>\n",
       "      <td>9</td>\n",
       "      <td>4928.173852</td>\n",
       "      <td>23.0</td>\n",
       "      <td>1</td>\n",
       "      <td>free</td>\n",
       "      <td>234</td>\n",
       "    </tr>\n",
       "    <tr>\n",
       "      <th>11329</th>\n",
       "      <td>1534</td>\n",
       "      <td>11</td>\n",
       "      <td>13350.015305</td>\n",
       "      <td>78.0</td>\n",
       "      <td>4</td>\n",
       "      <td>free</td>\n",
       "      <td>824</td>\n",
       "    </tr>\n",
       "    <tr>\n",
       "      <th>11330</th>\n",
       "      <td>1534</td>\n",
       "      <td>12</td>\n",
       "      <td>2371.711192</td>\n",
       "      <td>16.0</td>\n",
       "      <td>1</td>\n",
       "      <td>free</td>\n",
       "      <td>178</td>\n",
       "    </tr>\n",
       "  </tbody>\n",
       "</table>\n",
       "</div>"
      ],
      "text/plain": [
       "       user_id  month  total_distance  total_duration  trip_count  \\\n",
       "11326     1534      6     3409.468534            26.0           2   \n",
       "11327     1534      8     7622.453034            48.0           2   \n",
       "11328     1534      9     4928.173852            23.0           1   \n",
       "11329     1534     11    13350.015305            78.0           4   \n",
       "11330     1534     12     2371.711192            16.0           1   \n",
       "\n",
       "      subscription_type  income  \n",
       "11326              free     308  \n",
       "11327              free     484  \n",
       "11328              free     234  \n",
       "11329              free     824  \n",
       "11330              free     178  "
      ]
     },
     "execution_count": 70,
     "metadata": {},
     "output_type": "execute_result"
    }
   ],
   "source": [
    "agg_data.tail(5)"
   ]
  },
  {
   "cell_type": "markdown",
   "id": "78aefe75",
   "metadata": {},
   "source": [
    "<p>\n",
    "<div class=\"alert-danger\">\n",
    "<b>Комментарий ревьюера ❌</b> \n",
    "    \n",
    "- Пока что неверно, скорее всего опять из-за дубликатов.\n",
    "    \n",
    "- Для того, чтобы расчет был более автоматизированным и не ошибиться лучше не писать цифры вручную, а обращаться к столбцам."
   ]
  },
  {
   "cell_type": "markdown",
   "id": "04392293",
   "metadata": {},
   "source": [
    "<div class=\"alert-info\">\n",
    "опять же теряюсь в догодках из за дубликатов.\n",
    "пытался вместо цифр обратится к столбцам, пробовал сделать запрос к разным датафреймам, но в процессе, выходят какие то артефакты, огромные цифры или выходит ошибка ядра. пример изложил внизу, обращался и к data и к data_free, и к subscriptions сначала считает все хорошо, потом заменяю другие цифры, но выходят ошибки</div>"
   ]
  },
  {
   "cell_type": "markdown",
   "id": "2bf32e74",
   "metadata": {},
   "source": [
    "<p>\n",
    "<div class=\"alert-success\">\n",
    "<b>Комментарий ревьюера 2 ✔️</b>\n",
    "\n",
    "Расчет верный!\n",
    "    \n",
    "Проще всего добавить столбцы с расценками в итоговый датафрейм и к нис обращаться, а после расчета можно их удалить</div>"
   ]
  },
  {
   "cell_type": "code",
   "execution_count": 71,
   "id": "24506b7a",
   "metadata": {},
   "outputs": [],
   "source": [
    "#def income_func (row):\n",
    "#    if row['user_id'] in data_ultra['user_id'].values:\n",
    "#        return data[data['subscription_type'] == 'ultra']['minute_price']  * round(row['total_duration']) + data[data['subscription_type'] == 'ultra']['subscription_fee']\n",
    "#    if row['user_id'] in data_free['user_id'].values:\n",
    "#        return data_free['minute_price'] * round(row['total_duration']) + data_free['start_ride_price'] * round(row['trip_count'])\n",
    "#\n",
    "# agg_data['income'] = agg_data.apply(income_func, axis=1) "
   ]
  },
  {
   "cell_type": "markdown",
   "id": "41545ac0",
   "metadata": {},
   "source": [
    "## Шаг 6. Проверка гипотез"
   ]
  },
  {
   "cell_type": "markdown",
   "id": "e362c4de",
   "metadata": {},
   "source": [
    "6.1 Важно понять, тратят ли пользователи с подпиской больше времени на поездки? Если да, то пользователи с подпиской могут быть «выгоднее» для компании. Проверьте гипотезу. Используйте исходные данные о продолжительности каждой сессии — отдельно для подписчиков и тех, у кого нет подписки."
   ]
  },
  {
   "cell_type": "markdown",
   "id": "95d67776",
   "metadata": {},
   "source": [
    "Сделаем выборки: два датасета по тарифам."
   ]
  },
  {
   "cell_type": "code",
   "execution_count": 72,
   "id": "7a41d86d",
   "metadata": {
    "scrolled": true
   },
   "outputs": [
    {
     "data": {
      "text/html": [
       "<div>\n",
       "<style scoped>\n",
       "    .dataframe tbody tr th:only-of-type {\n",
       "        vertical-align: middle;\n",
       "    }\n",
       "\n",
       "    .dataframe tbody tr th {\n",
       "        vertical-align: top;\n",
       "    }\n",
       "\n",
       "    .dataframe thead th {\n",
       "        text-align: right;\n",
       "    }\n",
       "</style>\n",
       "<table border=\"1\" class=\"dataframe\">\n",
       "  <thead>\n",
       "    <tr style=\"text-align: right;\">\n",
       "      <th></th>\n",
       "      <th>user_id</th>\n",
       "      <th>age</th>\n",
       "      <th>distance</th>\n",
       "      <th>duration</th>\n",
       "      <th>month</th>\n",
       "      <th>minute_price</th>\n",
       "      <th>start_ride_price</th>\n",
       "      <th>subscription_fee</th>\n",
       "    </tr>\n",
       "  </thead>\n",
       "  <tbody>\n",
       "    <tr>\n",
       "      <th>count</th>\n",
       "      <td>6500.000000</td>\n",
       "      <td>6500.000000</td>\n",
       "      <td>6500.000000</td>\n",
       "      <td>6500.000000</td>\n",
       "      <td>6500.000000</td>\n",
       "      <td>6500.0</td>\n",
       "      <td>6500.0</td>\n",
       "      <td>6500.0</td>\n",
       "    </tr>\n",
       "    <tr>\n",
       "      <th>mean</th>\n",
       "      <td>348.725385</td>\n",
       "      <td>24.892615</td>\n",
       "      <td>3115.445388</td>\n",
       "      <td>18.541985</td>\n",
       "      <td>6.422308</td>\n",
       "      <td>6.0</td>\n",
       "      <td>0.0</td>\n",
       "      <td>199.0</td>\n",
       "    </tr>\n",
       "    <tr>\n",
       "      <th>std</th>\n",
       "      <td>201.099339</td>\n",
       "      <td>4.757208</td>\n",
       "      <td>836.895330</td>\n",
       "      <td>5.572048</td>\n",
       "      <td>3.414616</td>\n",
       "      <td>0.0</td>\n",
       "      <td>0.0</td>\n",
       "      <td>0.0</td>\n",
       "    </tr>\n",
       "    <tr>\n",
       "      <th>min</th>\n",
       "      <td>1.000000</td>\n",
       "      <td>12.000000</td>\n",
       "      <td>244.210438</td>\n",
       "      <td>3.760353</td>\n",
       "      <td>1.000000</td>\n",
       "      <td>6.0</td>\n",
       "      <td>0.0</td>\n",
       "      <td>199.0</td>\n",
       "    </tr>\n",
       "    <tr>\n",
       "      <th>25%</th>\n",
       "      <td>175.000000</td>\n",
       "      <td>22.000000</td>\n",
       "      <td>2785.444017</td>\n",
       "      <td>14.524654</td>\n",
       "      <td>4.000000</td>\n",
       "      <td>6.0</td>\n",
       "      <td>0.0</td>\n",
       "      <td>199.0</td>\n",
       "    </tr>\n",
       "    <tr>\n",
       "      <th>50%</th>\n",
       "      <td>351.000000</td>\n",
       "      <td>25.000000</td>\n",
       "      <td>3148.637229</td>\n",
       "      <td>18.178153</td>\n",
       "      <td>6.000000</td>\n",
       "      <td>6.0</td>\n",
       "      <td>0.0</td>\n",
       "      <td>199.0</td>\n",
       "    </tr>\n",
       "    <tr>\n",
       "      <th>75%</th>\n",
       "      <td>525.000000</td>\n",
       "      <td>28.000000</td>\n",
       "      <td>3560.574425</td>\n",
       "      <td>21.884129</td>\n",
       "      <td>9.000000</td>\n",
       "      <td>6.0</td>\n",
       "      <td>0.0</td>\n",
       "      <td>199.0</td>\n",
       "    </tr>\n",
       "    <tr>\n",
       "      <th>max</th>\n",
       "      <td>699.000000</td>\n",
       "      <td>38.000000</td>\n",
       "      <td>5699.769662</td>\n",
       "      <td>40.823963</td>\n",
       "      <td>12.000000</td>\n",
       "      <td>6.0</td>\n",
       "      <td>0.0</td>\n",
       "      <td>199.0</td>\n",
       "    </tr>\n",
       "  </tbody>\n",
       "</table>\n",
       "</div>"
      ],
      "text/plain": [
       "           user_id          age     distance     duration        month  \\\n",
       "count  6500.000000  6500.000000  6500.000000  6500.000000  6500.000000   \n",
       "mean    348.725385    24.892615  3115.445388    18.541985     6.422308   \n",
       "std     201.099339     4.757208   836.895330     5.572048     3.414616   \n",
       "min       1.000000    12.000000   244.210438     3.760353     1.000000   \n",
       "25%     175.000000    22.000000  2785.444017    14.524654     4.000000   \n",
       "50%     351.000000    25.000000  3148.637229    18.178153     6.000000   \n",
       "75%     525.000000    28.000000  3560.574425    21.884129     9.000000   \n",
       "max     699.000000    38.000000  5699.769662    40.823963    12.000000   \n",
       "\n",
       "       minute_price  start_ride_price  subscription_fee  \n",
       "count        6500.0            6500.0            6500.0  \n",
       "mean            6.0               0.0             199.0  \n",
       "std             0.0               0.0               0.0  \n",
       "min             6.0               0.0             199.0  \n",
       "25%             6.0               0.0             199.0  \n",
       "50%             6.0               0.0             199.0  \n",
       "75%             6.0               0.0             199.0  \n",
       "max             6.0               0.0             199.0  "
      ]
     },
     "execution_count": 72,
     "metadata": {},
     "output_type": "execute_result"
    }
   ],
   "source": [
    "data_ultra.describe()"
   ]
  },
  {
   "cell_type": "code",
   "execution_count": 73,
   "id": "57c12b57",
   "metadata": {
    "scrolled": true
   },
   "outputs": [
    {
     "data": {
      "text/html": [
       "<div>\n",
       "<style scoped>\n",
       "    .dataframe tbody tr th:only-of-type {\n",
       "        vertical-align: middle;\n",
       "    }\n",
       "\n",
       "    .dataframe tbody tr th {\n",
       "        vertical-align: top;\n",
       "    }\n",
       "\n",
       "    .dataframe thead th {\n",
       "        text-align: right;\n",
       "    }\n",
       "</style>\n",
       "<table border=\"1\" class=\"dataframe\">\n",
       "  <thead>\n",
       "    <tr style=\"text-align: right;\">\n",
       "      <th></th>\n",
       "      <th>index</th>\n",
       "      <th>user_id</th>\n",
       "      <th>age</th>\n",
       "      <th>distance</th>\n",
       "      <th>duration</th>\n",
       "      <th>month</th>\n",
       "      <th>minute_price</th>\n",
       "      <th>start_ride_price</th>\n",
       "      <th>subscription_fee</th>\n",
       "    </tr>\n",
       "  </thead>\n",
       "  <tbody>\n",
       "    <tr>\n",
       "      <th>count</th>\n",
       "      <td>11568.000000</td>\n",
       "      <td>11568.000000</td>\n",
       "      <td>11568.000000</td>\n",
       "      <td>11568.000000</td>\n",
       "      <td>11568.000000</td>\n",
       "      <td>11568.000000</td>\n",
       "      <td>11568.0</td>\n",
       "      <td>11568.0</td>\n",
       "      <td>11568.0</td>\n",
       "    </tr>\n",
       "    <tr>\n",
       "      <th>mean</th>\n",
       "      <td>12283.500000</td>\n",
       "      <td>1120.527230</td>\n",
       "      <td>24.893326</td>\n",
       "      <td>3045.495282</td>\n",
       "      <td>17.390909</td>\n",
       "      <td>6.522994</td>\n",
       "      <td>8.0</td>\n",
       "      <td>50.0</td>\n",
       "      <td>0.0</td>\n",
       "    </tr>\n",
       "    <tr>\n",
       "      <th>std</th>\n",
       "      <td>3339.538291</td>\n",
       "      <td>241.165628</td>\n",
       "      <td>4.481100</td>\n",
       "      <td>1246.173806</td>\n",
       "      <td>6.326803</td>\n",
       "      <td>3.449770</td>\n",
       "      <td>0.0</td>\n",
       "      <td>0.0</td>\n",
       "      <td>0.0</td>\n",
       "    </tr>\n",
       "    <tr>\n",
       "      <th>min</th>\n",
       "      <td>6500.000000</td>\n",
       "      <td>700.000000</td>\n",
       "      <td>12.000000</td>\n",
       "      <td>0.855683</td>\n",
       "      <td>0.500000</td>\n",
       "      <td>1.000000</td>\n",
       "      <td>8.0</td>\n",
       "      <td>50.0</td>\n",
       "      <td>0.0</td>\n",
       "    </tr>\n",
       "    <tr>\n",
       "      <th>25%</th>\n",
       "      <td>9391.750000</td>\n",
       "      <td>915.000000</td>\n",
       "      <td>22.000000</td>\n",
       "      <td>2366.562689</td>\n",
       "      <td>12.958437</td>\n",
       "      <td>4.000000</td>\n",
       "      <td>8.0</td>\n",
       "      <td>50.0</td>\n",
       "      <td>0.0</td>\n",
       "    </tr>\n",
       "    <tr>\n",
       "      <th>50%</th>\n",
       "      <td>12283.500000</td>\n",
       "      <td>1123.000000</td>\n",
       "      <td>25.000000</td>\n",
       "      <td>3114.648465</td>\n",
       "      <td>17.326890</td>\n",
       "      <td>7.000000</td>\n",
       "      <td>8.0</td>\n",
       "      <td>50.0</td>\n",
       "      <td>0.0</td>\n",
       "    </tr>\n",
       "    <tr>\n",
       "      <th>75%</th>\n",
       "      <td>15175.250000</td>\n",
       "      <td>1328.000000</td>\n",
       "      <td>28.000000</td>\n",
       "      <td>3905.697894</td>\n",
       "      <td>21.594071</td>\n",
       "      <td>9.000000</td>\n",
       "      <td>8.0</td>\n",
       "      <td>50.0</td>\n",
       "      <td>0.0</td>\n",
       "    </tr>\n",
       "    <tr>\n",
       "      <th>max</th>\n",
       "      <td>18067.000000</td>\n",
       "      <td>1534.000000</td>\n",
       "      <td>43.000000</td>\n",
       "      <td>7211.007745</td>\n",
       "      <td>34.948498</td>\n",
       "      <td>12.000000</td>\n",
       "      <td>8.0</td>\n",
       "      <td>50.0</td>\n",
       "      <td>0.0</td>\n",
       "    </tr>\n",
       "  </tbody>\n",
       "</table>\n",
       "</div>"
      ],
      "text/plain": [
       "              index       user_id           age      distance      duration  \\\n",
       "count  11568.000000  11568.000000  11568.000000  11568.000000  11568.000000   \n",
       "mean   12283.500000   1120.527230     24.893326   3045.495282     17.390909   \n",
       "std     3339.538291    241.165628      4.481100   1246.173806      6.326803   \n",
       "min     6500.000000    700.000000     12.000000      0.855683      0.500000   \n",
       "25%     9391.750000    915.000000     22.000000   2366.562689     12.958437   \n",
       "50%    12283.500000   1123.000000     25.000000   3114.648465     17.326890   \n",
       "75%    15175.250000   1328.000000     28.000000   3905.697894     21.594071   \n",
       "max    18067.000000   1534.000000     43.000000   7211.007745     34.948498   \n",
       "\n",
       "              month  minute_price  start_ride_price  subscription_fee  \n",
       "count  11568.000000       11568.0           11568.0           11568.0  \n",
       "mean       6.522994           8.0              50.0               0.0  \n",
       "std        3.449770           0.0               0.0               0.0  \n",
       "min        1.000000           8.0              50.0               0.0  \n",
       "25%        4.000000           8.0              50.0               0.0  \n",
       "50%        7.000000           8.0              50.0               0.0  \n",
       "75%        9.000000           8.0              50.0               0.0  \n",
       "max       12.000000           8.0              50.0               0.0  "
      ]
     },
     "execution_count": 73,
     "metadata": {},
     "output_type": "execute_result"
    }
   ],
   "source": [
    "data_free.describe()"
   ]
  },
  {
   "cell_type": "markdown",
   "id": "0872ac14",
   "metadata": {},
   "source": [
    "Стандартное отклонения по 'distance' и 'duration' по тарифам\n",
    "\n",
    "free - distance 1246.26, duration - 6.32\n",
    "ultra - distance 836.686986, duration - 5.57"
   ]
  },
  {
   "cell_type": "code",
   "execution_count": 74,
   "id": "d393c4f0",
   "metadata": {},
   "outputs": [
    {
     "data": {
      "image/png": "[encoded data removed]",
      "text/plain": [
       "<Figure size 432x288 with 1 Axes>"
      ]
     },
     "metadata": {
      "needs_background": "light"
     },
     "output_type": "display_data"
    }
   ],
   "source": [
    "plt.title('Сравнение продолжительности поездки в разных тарифах')\n",
    "plt.hist(data_free['duration'], bins=40, label='free', density=True)\n",
    "plt.hist(data_ultra['duration'], bins=40, label='ultra', alpha=0.6, density=True)\n",
    "plt.legend(loc='upper right')\n",
    "plt.show()"
   ]
  },
  {
   "cell_type": "code",
   "execution_count": 75,
   "id": "d68e98a3",
   "metadata": {
    "scrolled": true
   },
   "outputs": [
    {
     "name": "stdout",
     "output_type": "stream",
     "text": [
      "сравнение по тарифам ultra И free\n"
     ]
    },
    {
     "data": {
      "image/png": "[encoded data removed]",
      "text/plain": [
       "<Figure size 1512x432 with 2 Axes>"
      ]
     },
     "metadata": {
      "needs_background": "light"
     },
     "output_type": "display_data"
    }
   ],
   "source": [
    "print('сравнение по тарифам ultra И free')\n",
    "fig = plt.figure(figsize = (21,6))\n",
    "data[data['subscription_type'] == 'ultra'].boxplot('duration', ax = plt.subplot(1,2,1))\n",
    "data[data['subscription_type'] == 'free'].boxplot('duration', ax = plt.subplot(1,2,2));"
   ]
  },
  {
   "cell_type": "markdown",
   "id": "1b2accf9",
   "metadata": {},
   "source": [
    "проверим гипотезу\n",
    "- Нулевая гипотеза: средние значение продолжительности времени на поездку пользователей из двух групп равны.\n",
    "- Альтернативная гипотеза: средние значение продолжительности времени на поездку пользователей с подпиской больше, чем средние значение продолжительности времени на поездку пользователей без подписки."
   ]
  },
  {
   "cell_type": "markdown",
   "id": "2f391127",
   "metadata": {},
   "source": [
    "<p>\n",
    "<div class=\"alert-danger\">\n",
    "<b>Комментарий ревьюера ❌</b> \n",
    "\n",
    "Нужно сформулировать нулевую и альтернативную гипотезы"
   ]
  },
  {
   "cell_type": "markdown",
   "id": "357fc217",
   "metadata": {},
   "source": [
    "<div class=\"alert-info\">\n",
    "сформулировал гипотезу </div>"
   ]
  },
  {
   "cell_type": "markdown",
   "id": "d70d282d",
   "metadata": {},
   "source": [
    "\n",
    "<p>\n",
    "<div class=\"alert-success\">\n",
    "<b>Комментарий ревьюера 2 ✔️</b>\n",
    "\n",
    "    \n",
    "Верно 👍</div>"
   ]
  },
  {
   "cell_type": "code",
   "execution_count": 76,
   "id": "1f1891ea",
   "metadata": {},
   "outputs": [
    {
     "name": "stdout",
     "output_type": "stream",
     "text": [
      "p-значение: 1.2804098316645618e-34\n",
      "Отвергаем нулевую гипотезу.\n"
     ]
    }
   ],
   "source": [
    "alpha = .05 # зададим уровень статистической значимости\n",
    "# проводим ttest для двух выборок.\n",
    "results = st.ttest_ind(\n",
    "    data_ultra['duration'],\n",
    "    data_free['duration'],alternative='greater') \n",
    "\n",
    "# выведим на экран полученное p-значение\n",
    "print('p-значение:', results.pvalue)\n",
    "\n",
    "if results.pvalue < alpha:# сравните p-значение с заданным уровнем стат. значимости\n",
    "    print('Отвергаем нулевую гипотезу.')\n",
    "else:\n",
    "    print('Не получилось отвергнуть нулевую гипотезу')"
   ]
  },
  {
   "cell_type": "markdown",
   "id": "a4dec585",
   "metadata": {},
   "source": [
    "Полученное значение p-value меньше заданного уровня значимости, поэтому можно отвергнуть нулевую гипотезу. Есть основания говорить, что пользователи с подпиской тратят в сервисе времени больше."
   ]
  },
  {
   "cell_type": "markdown",
   "id": "8105786c",
   "metadata": {},
   "source": [
    "<div class=\"alert-warning\">\n",
    "<b>Комментарий ревьюера ⚠️</b>\n",
    "\n",
    "\n",
    "\n",
    "Формулировку вывода стоит поменять, в конце этой статьи есть примеры:\n",
    "    \n",
    "    \n",
    "https://allatambov.github.io/psms/pdf/hypo-test.pdf\n",
    "\n",
    "</div>"
   ]
  },
  {
   "cell_type": "markdown",
   "id": "5f445f07",
   "metadata": {},
   "source": [
    "<p>\n",
    "<div class=\"alert-success\">\n",
    "<b>Комментарий ревьюера 2 ✔️</b>\n",
    "\n",
    "    \n",
    "Пропущено слово \"больше\" </div>"
   ]
  },
  {
   "cell_type": "markdown",
   "id": "3ace14b9",
   "metadata": {},
   "source": [
    "<div class=\"alert-info\">\n",
    "Спасибо)</div>"
   ]
  },
  {
   "cell_type": "markdown",
   "id": "02c678ff",
   "metadata": {},
   "source": [
    "6.2 Расстояние одной поездки в 3130 метров — оптимальное с точки зрения износа самоката. Можно ли сказать, что расстояние, которое проезжают пользователи с подпиской за одну поездку, не превышает 3130 метров? Проверьте гипотезу и сделайте выводы."
   ]
  },
  {
   "cell_type": "code",
   "execution_count": 77,
   "id": "3f6be23f",
   "metadata": {
    "scrolled": false
   },
   "outputs": [
    {
     "name": "stdout",
     "output_type": "stream",
     "text": [
      "тариф ultra\n"
     ]
    },
    {
     "data": {
      "text/plain": [
       "<AxesSubplot:>"
      ]
     },
     "execution_count": 77,
     "metadata": {},
     "output_type": "execute_result"
    },
    {
     "data": {
      "image/png": "[encoded data removed]",
      "text/plain": [
       "<Figure size 1512x432 with 1 Axes>"
      ]
     },
     "metadata": {
      "needs_background": "light"
     },
     "output_type": "display_data"
    }
   ],
   "source": [
    "print('тариф ultra')\n",
    "fig = plt.figure(figsize = (21,6))\n",
    "data[data['subscription_type'] == 'ultra'].boxplot('distance', ax = plt.subplot(1,2,1))"
   ]
  },
  {
   "cell_type": "markdown",
   "id": "f6ab9ed5",
   "metadata": {},
   "source": [
    "<p>\n",
    "<div class=\"alert-danger\">\n",
    "<b>Комментарий ревьюера ❌</b> \n",
    "\n",
    "Нужно сформулировать нулевую и альтернативную гипотезы"
   ]
  },
  {
   "cell_type": "markdown",
   "id": "415b66ce",
   "metadata": {},
   "source": [
    "проверим гипотезу\n",
    "- Нулевая гипотеза: средние расстояние одной поездки равно 3130 метров.\n",
    "- Альтернативная гипотеза: средние расстояние одной поездки больше 3130 метров."
   ]
  },
  {
   "cell_type": "markdown",
   "id": "0628fc71",
   "metadata": {},
   "source": [
    "<p>\n",
    "<div class=\"alert-danger\">\n",
    "<b>Комментарий ревьюера 2 ❌</b> \n",
    "\n",
    "В нулевую гипотезу обычно включается случай с равенством\n",
    "\n",
    "</div>"
   ]
  },
  {
   "cell_type": "markdown",
   "id": "b5a0d7aa",
   "metadata": {},
   "source": [
    "<p>\n",
    "<div class=\"alert-success\">\n",
    "<b>Комментарий ревьюера 3 ✔️</b>\n",
    "\n",
    "    \n",
    "👍</div>"
   ]
  },
  {
   "cell_type": "code",
   "execution_count": 78,
   "id": "f0daae28",
   "metadata": {},
   "outputs": [
    {
     "name": "stdout",
     "output_type": "stream",
     "text": [
      "p-значение: 0.9195368847849785\n",
      "Не отвергаем гипотезу\n"
     ]
    }
   ],
   "source": [
    "interested_value = 3130 # Расстояние одной поездки в 3130 метров — оптимальное с точки зрения износа самоката\n",
    "\n",
    "alpha = 0.05 # уровень статистической значимости\n",
    "\n",
    "results = st.ttest_1samp(\n",
    "    data_ultra['distance'], \n",
    "    interested_value, alternative='greater')\n",
    "\n",
    "print('p-значение:', results.pvalue)\n",
    "\n",
    "if (results.pvalue < alpha):\n",
    "    print('Отвергаем нулевую гипотезу.')\n",
    "else:\n",
    "    print('Не отвергаем гипотезу')"
   ]
  },
  {
   "cell_type": "markdown",
   "id": "2c66cea4",
   "metadata": {},
   "source": [
    "Полученное значение p-value больше заданного уровня значимости, поэтому нельзя отвергнуть нулевую гипотезу. Есть основания говорить, что пользователи с подпиской проезжают меньше 3130 метров за одну поездку."
   ]
  },
  {
   "cell_type": "markdown",
   "id": "9433d784",
   "metadata": {},
   "source": [
    "<p>\n",
    "<div class=\"alert-danger\">\n",
    "<b>Комментарий ревьюера ❌</b> \n",
    "    \n",
    "Ты проверяешь двустороннюю гипотезу. Лучше проверить одностороннюю гипотезу, задав параметр alternative. Где нулевая гипотеза будет, что расстояние, которое проезжают пользователи с подпиской не превышает оптимального расстояния в 3130 м и альтернативную гипотезу о том, что пользователи с подпиской за одну поездку проезжают больше 3130 м. Поскольку оптимальное расстояние по износу составляет 3130 м, значит большее расстояние приводит к повышенному износу самоката."
   ]
  },
  {
   "cell_type": "markdown",
   "id": "46a71cec",
   "metadata": {},
   "source": [
    "<div class=\"alert-info\">\n",
    "подправил </div>"
   ]
  },
  {
   "cell_type": "markdown",
   "id": "7bb07677",
   "metadata": {},
   "source": [
    "<p>\n",
    "<div class=\"alert-danger\">\n",
    "<b>Комментарий ревьюера 2 ❌</b> \n",
    "\n",
    "\n",
    "В связи с тем, что ты задаешь параметр alternative='greater', делить p-value пополам и добавлять условие \"data_ultra['distance'].mean() > interested_value)\" не нужно.\n",
    "    \n",
    "Обрати внимание, что  p-value больше alpha и значит нулевую гипотезу нельзя отклонить\n",
    "\n",
    "</div>"
   ]
  },
  {
   "cell_type": "markdown",
   "id": "cfc8ca80",
   "metadata": {},
   "source": [
    "<div class=\"alert-info\">\n",
    "Надеюсь что в этот раз точно разобрался)</div>"
   ]
  },
  {
   "cell_type": "markdown",
   "id": "6554280a",
   "metadata": {},
   "source": [
    "<div class=\"alert-warning\">\n",
    "<b>Комментарий ревьюера 3 ⚠️</b>\n",
    "\n",
    "\n",
    "Правильнее написать, что есть основания говорить, что пользователи с подпиской проезжают расстояние **равное** или больше 3130 метров\n",
    "</div>"
   ]
  },
  {
   "cell_type": "markdown",
   "id": "1bf5e1c6",
   "metadata": {},
   "source": [
    "6.3. Проверьте гипотезу о том, будет ли помесячная выручка от пользователей с подпиской по месяцам выше, чем выручка от пользователей без подписки. Сделайте вывод."
   ]
  },
  {
   "cell_type": "markdown",
   "id": "7b155c46",
   "metadata": {},
   "source": [
    "<p>\n",
    "<div class=\"alert-danger\">\n",
    "<b>Комментарий ревьюера ❌</b> \n",
    "\n",
    "Нужно сформулировать нулевую и альтернативную гипотезы"
   ]
  },
  {
   "cell_type": "markdown",
   "id": "8952aa66",
   "metadata": {},
   "source": [
    "<div class=\"alert-info\">\n",
    "подправил </div>"
   ]
  },
  {
   "cell_type": "markdown",
   "id": "ff97c7a8",
   "metadata": {},
   "source": [
    "проверим гипотезу\n",
    "- Нулевая гипотеза: средние значения трат пользователей из двух групп равны.\n",
    "- Альтернативная гипотеза: Средняя месячная выручка у пользователей с подпиской выше чем у пользователей без подписки."
   ]
  },
  {
   "cell_type": "markdown",
   "id": "a7d56ac1",
   "metadata": {},
   "source": [
    "<p>\n",
    "<div class=\"alert-danger\">\n",
    "<b>Комментарий ревьюера 2 ❌</b> \n",
    "    \n",
    "Альтернативная гипотеза в случае использования параметра alternative='greater' – Средняя месячная выручка у пользователей с подпиской выше чем у пользователей без подписки"
   ]
  },
  {
   "cell_type": "markdown",
   "id": "a6d815ca",
   "metadata": {},
   "source": [
    "<div class=\"alert-info\">\n",
    "подправил) </div>"
   ]
  },
  {
   "cell_type": "markdown",
   "id": "691ebbba",
   "metadata": {},
   "source": [
    "<p>\n",
    "<div class=\"alert-success\">\n",
    "<b>Комментарий ревьюера 3 ✔️</b>\n",
    "\n",
    "    \n",
    "👍</div>"
   ]
  },
  {
   "cell_type": "code",
   "execution_count": 79,
   "id": "a4185c05",
   "metadata": {},
   "outputs": [
    {
     "name": "stdout",
     "output_type": "stream",
     "text": [
      "p-значение: 1.8850394384715216e-31\n",
      "Отвергаем нулевую гипотезу, что средние значения трат пользователей из двух групп равны.\n"
     ]
    }
   ],
   "source": [
    "alpha = .05 # задайте уровень статистической значимости\n",
    "# проводим ttest для двух выборок.\n",
    "results = st.ttest_ind(\n",
    "    agg_data[agg_data['subscription_type'] == 'ultra']['income'],\n",
    "    agg_data[agg_data['subscription_type'] == 'free']['income'],alternative='greater') \n",
    "\n",
    "# выведите на экран полученное p-значение\n",
    "print('p-значение:', results.pvalue)\n",
    "\n",
    "if results.pvalue < alpha:# сравните p-значение с заданным уровнем стат. значимости\n",
    "    print('Отвергаем нулевую гипотезу, что средние значения трат пользователей из двух групп равны.')\n",
    "else:\n",
    "    print('Не получилось отвергнуть нулевую гипотезу о равенстве среднего значения трат пользователей из двух групп равны')"
   ]
  },
  {
   "cell_type": "markdown",
   "id": "f35817e1",
   "metadata": {},
   "source": [
    "Отвергаем нулевую гипотезу. Есть основания говорить, что пользователи с подпиской тратят больше чем пользователи без подписки."
   ]
  },
  {
   "cell_type": "markdown",
   "id": "b94b8e3d",
   "metadata": {},
   "source": [
    "<p>\n",
    "<div class=\"alert-success\">\n",
    "<b>Комментарий ревьюера ✔️</b>\n",
    "\n",
    "    \n",
    "👌"
   ]
  },
  {
   "cell_type": "markdown",
   "id": "048eb287",
   "metadata": {},
   "source": [
    "6.4. Представьте такую ситуацию: техническая команда сервиса обновила сервера, с которыми взаимодействует мобильное приложение. Она надеется, что из-за этого количество обращений в техподдержку значимо снизилось. Некоторый файл содержит для каждого пользователя данные о количестве обращений до обновления и после него. Какой тест вам понадобился бы для проверки этой гипотезы?"
   ]
  },
  {
   "cell_type": "markdown",
   "id": "9491cb0d",
   "metadata": {},
   "source": [
    "Для проведения проверки по данной гипотезы я бы воспользовался данным тестом ttest_ind()\n",
    "Чтобы проверить такую гипотезу, нужно передать в метод ttest_ind()сначала выборку с суммами количеством обращений после обновления (first_group_total), затем выборку с суммами количеством обращений до обновления (second_group_total). В качестве alternative нужно указать 'greater', то есть «больше»."
   ]
  },
  {
   "cell_type": "markdown",
   "id": "c6e59544",
   "metadata": {},
   "source": [
    "<p>\n",
    "<div class=\"alert-success\">\n",
    "<b>Комментарий ревьюера ✔️</b>\n",
    "\n",
    "    \n",
    "👍</div>"
   ]
  },
  {
   "cell_type": "markdown",
   "id": "6fe574ae",
   "metadata": {},
   "source": [
    "Вывод:\n",
    "\n",
    "В данной работе были обработаны данные о пользователей сервиса проката самокатов GoFast.\n",
    "\n",
    "Исходными данными были датафреймы о пользователях, поездках и подписках.\n",
    "\n",
    "2-ым шагом была проведена предобработка данных:\n",
    "- пропусков данных не было обнаружено.\n",
    "- были обнаружены и удалены дубликаты пользователей в датафрейме user. Из 1565 осталось 1534. в результате было удалено меньше 2% от данных. \n",
    "- Были обработаны и приведены в порядок данные по датам поездок, добавлен столбец с месяцами.\n",
    "\n",
    "3-им шагом был проведен исследовательский анализ данных:\n",
    "- Выборка сделана на основе 8 городов. Большинство пользователей в Пятигорске (219) и других южных городах, меньше в Москве (168). Можно предположить что в южных городах сезон использования самокатов практически круглогодичен, поэтому там чаще их используют.\n",
    "- Обработаны данные о пользователях с подпиской и без. Пользователей без подписки 54,43% пользователей с подпиской 45,57%\n",
    "- Проведено исследование по возрасту пользователей: минимальный возраст пользователей 14 лет, максимальный 43 года, средний возраст 25 лет.\n",
    "- Проведен анализ расстояний преодалеваемых за одну поездку: среднее расстояние которое проезжает пользователь составляет 3070 метра. Так же можно выделить два пика. один небольшой от 500 до 1000 метров, небольшие короткие поездки, возможно по паркам. И длительные поездки от 2,5 до 4 км, возможно до работы и учебы.\n",
    "- Исследовано время потраченное за одну поездку: средняя продолжительность поездки составляет 17,8 минут, диапазон продолжительности поездок лежит от 13,6 минут до 21.7 минуты.\n",
    "\n",
    "4-ым шагом была проведена обработка данных. \n",
    "- объединили данные о пользователях, поездках и подписках в один датафрейм.\n",
    "- провели проверку на обнаружение дубликатов, пропусков и уникальных значениях.\n",
    "- Создадили 2 датафрейма с данными о пользователях с подпиской и без подписки.\n",
    "- Визуализировали информацию о расстоянии и времени поездок для пользователей обеих категорий.\n",
    "- Из данных получили выводы: \n",
    "* Поездки пользователей с подпиской на 2,3% дальше и на 6,5% дольше чем у поездки у пользователей без подписки. \n",
    "\n",
    "* Средняя продолжительность поездки с подпиской 18,5 мин, без подписки 17,4 мин. \n",
    "\n",
    "* Среднее расстояние за одну поездку с подпиской 3115 метров, без подписки 3045 метров. \n",
    "\n",
    "* Коротких поездок у пользователей без подписки больше чем с подпиской. \n",
    "\n",
    "5-ым шагом был подсчет выручки\n",
    "\n",
    "- Создаy датафрейм с агрегированными данными о поездках на основе датафрейма с объединёнными данными.\n",
    "- Найдено суммарное расстояние, количество поездок и суммарное время для каждого пользователя за каждый месяц.\n",
    "- добавлен столбец с помесячной выручкой, которую принёс каждый пользователь. Для этого обратимся к информации об условиях оплаты для подписчиков и тех, у кого нет подписки. \n",
    "\n",
    "6-ым шагом были проведены проверки гипотез:\n",
    "- В первой гипотезе было важно понять, тратят ли пользователи с подпиской больше времени на поездки? Если да, то пользователи с подпиской могут быть «выгоднее» для компании. В результате проверки гипотезы была отвергнута нулевая гипотеза, есть основания говорить, что пользователи с подпиской тратят в сервисе на поездки больше времени времени и могут быть \"выгоднее\" для компании.\n",
    "- Во второй гипотезе было важно понять, что расстояние, которое проезжают пользователи с подпиской за одну поездку, не превышает 3130 метров. В результате проверки гипотезы:  не отвергаем нулевую гипотезу. Есть основания говорить, что пользователи с подпиской тратят проезжают меньше 3130 метров за одну поездку, что оптимально с точки зрения износа самоката.\n",
    "- В третей гипотезе важно понять, будет ли помесячная выручка от пользователей с подпиской по месяцам выше, чем выручка от пользователей без подписки. В результате проверки гиоптезы отвергаем нулевую гипотезу. Есть основания говорить, что пользователи с подпиской тратят больше чем пользователи без подписки.\n",
    "\n",
    "На основании проведеной работы и проверки гипотез можно сделать заключение что для компании пользователи с подпиской Ultra являются более выгодными, чем пользователи без подписки. Пользователи с подпиской тратят больше времени на поездки, чем пользователи без подписки, тем самым приносят больше дохода. Так же пользователи с подпиской в среднем проезжают меньше 3130 метров, что так же оптимально с точки зрения износа самоката, и затрат на амортизацию. С учетом того, что пользователей с подпиской всего 46% от всех зарегистрированных пользователей, для компании будет выгодно перевести клиентов на подписку и привлечь новых клиентов.\n"
   ]
  },
  {
   "cell_type": "markdown",
   "id": "7c58a099",
   "metadata": {},
   "source": [
    "<p>\n",
    "<div class=\"alert-danger\">\n",
    "<b>Комментарий ревьюера ❌</b> \n",
    "    \n",
    "Нужно добавить развернутый итоговый вывод. Вывод - это полный отчет о проделанной работе. Он должен содержать все: от обработки данных до рекомендаций заказчику. Я бы советовала в начале кратко описывать, с какими данными мы работали и что сделали, а затем отвечать на вопрос исследования."
   ]
  },
  {
   "cell_type": "markdown",
   "id": "6e9dd2bb",
   "metadata": {},
   "source": [
    "<p>\n",
    "<div class=\"alert-danger\">\n",
    "<b>Комментарий ревьюера 2 ❌</b> \n",
    "\n",
    "Здорово, что ты пишешь подробный вывод, а еще лучше изложить итоговый вывод в виде связанной истории, с заключением в конце - являются ли подписчики Ultra более выгодными и почему. Поправь вывод после внесения изменений, пожалуйста."
   ]
  },
  {
   "cell_type": "markdown",
   "id": "bad6fca3",
   "metadata": {},
   "source": [
    "<div class=\"alert-info\">\n",
    "Исправил вывод, надеюсь в этот раз разобрался с гипотезами, и добавил заключение.</div>"
   ]
  },
  {
   "cell_type": "markdown",
   "id": "77ba7810",
   "metadata": {},
   "source": [
    "<p>\n",
    "<div class=\"alert-success\">\n",
    "<b>Комментарий ревьюера 3 ✔️</b>\n",
    "\n",
    "    \n",
    "👍 Про расстояние 3130 м нужно поправить</div>"
   ]
  },
  {
   "cell_type": "markdown",
   "id": "61213c5e",
   "metadata": {},
   "source": [
    "## Шаг 7. Распределения"
   ]
  },
  {
   "cell_type": "markdown",
   "id": "fa0edec3",
   "metadata": {},
   "source": [
    "<div style=\"border:solid green 3px; padding: 20px\">\n",
    "\n",
    "**Общий вывод по проекту**\n",
    "\n",
    "Эйнар, спасибо за проделанную работу. Мне понравился твой подход и в целом код работает верно. Ты приложил много усилий, чтобы довести его до конца, ты большой молодец! Есть несколько важных моментов, которые я отметила и которые можно было бы улучшить, подсказки ты найдешь в моих комментариях. \n",
    "\n",
    "**Что нужно переделать, чтобы я приняла твой проект🤓**:\n",
    "    \n",
    "- Написать вступление \n",
    "- Дубликаты не были удалены\n",
    "- Поправить оформление всех графиков в проекте (добавить заголовки, убрать технические строки)\n",
    "- Поправить исследовательский анализ данных\n",
    "- Продолжительность каждой поездки должна быть округлена \n",
    "- Поправить проверку гипотез\n",
    "- После внесения изменений исправить выводы\n",
    "- Написать общий вывод\n",
    "\n",
    "\n",
    "Полезная ссылка про графики:\n",
    "\n",
    "\n",
    "https://habr.com/ru/post/468295/\n",
    "\n",
    "и еще одна\n",
    "\n",
    "https://pyprog.pro/mpl/mpl_short_guide.html\n",
    "\n",
    "    \n",
    "**Рекомендации ты найдешь в моих комментариях!**\n",
    "\n",
    "\n",
    "**Желаю удачи и жду твой проект на повторное ревью!**😉"
   ]
  },
  {
   "cell_type": "markdown",
   "id": "1df68809",
   "metadata": {},
   "source": [
    "<div style=\"border:solid green 3px; padding: 20px\">\n",
    "\n",
    "**Общий вывод по проекту 2**\n",
    "\n",
    "Эйнар, спасибо за исправления и комментарии. Осталась небольшая путаница с проверкой гипотез, поправь, пожалуйста."
   ]
  },
  {
   "cell_type": "markdown",
   "id": "c9bf2f75",
   "metadata": {},
   "source": [
    "<div class=\"alert-info\">\n",
    "Спасибо большое за проверку и оценку моей работы. Надеюсь я все исправил как нужно)</div>"
   ]
  },
  {
   "cell_type": "markdown",
   "id": "af3f4203",
   "metadata": {},
   "source": [
    "<div style=\"border:solid green 3px; padding: 20px\">\n",
    "\n",
    "**Общий вывод по проекту 3**\n",
    "\n",
    "Эйнар, поздравляю со сдачей проекта!  🎉 🎉 🎉\n",
    "\n",
    "Советую тебе бесплатный курс по статистике, можно посмотреть отдельно интересующие тебя темы:\n",
    "\n",
    "https://stepik.org/course/76/"
   ]
  }
 ],
 "metadata": {
  "ExecuteTimeLog": [
   {
    "duration": 381,
    "start_time": "2023-05-30T16:34:03.574Z"
   },
   {
    "duration": 116,
    "start_time": "2023-05-30T16:34:03.957Z"
   },
   {
    "duration": 102,
    "start_time": "2023-05-30T16:34:04.074Z"
   },
   {
    "duration": 74,
    "start_time": "2023-05-30T16:34:04.178Z"
   },
   {
    "duration": 15,
    "start_time": "2023-05-30T16:34:04.253Z"
   },
   {
    "duration": 8,
    "start_time": "2023-05-30T16:34:04.270Z"
   },
   {
    "duration": 77,
    "start_time": "2023-05-30T16:34:04.280Z"
   },
   {
    "duration": 415,
    "start_time": "2023-05-30T16:34:20.853Z"
   },
   {
    "duration": 29,
    "start_time": "2023-05-30T16:34:21.270Z"
   },
   {
    "duration": 38,
    "start_time": "2023-05-30T16:34:21.301Z"
   },
   {
    "duration": 20,
    "start_time": "2023-05-30T16:34:21.341Z"
   },
   {
    "duration": 20,
    "start_time": "2023-05-30T16:34:21.363Z"
   },
   {
    "duration": 12,
    "start_time": "2023-05-30T16:34:21.385Z"
   },
   {
    "duration": 12,
    "start_time": "2023-05-30T16:34:21.399Z"
   },
   {
    "duration": 410,
    "start_time": "2023-05-30T16:37:26.447Z"
   },
   {
    "duration": 28,
    "start_time": "2023-05-30T16:37:26.859Z"
   },
   {
    "duration": 26,
    "start_time": "2023-05-30T16:37:26.889Z"
   },
   {
    "duration": 23,
    "start_time": "2023-05-30T16:37:26.920Z"
   },
   {
    "duration": 15,
    "start_time": "2023-05-30T16:37:26.946Z"
   },
   {
    "duration": 10,
    "start_time": "2023-05-30T16:37:26.962Z"
   },
   {
    "duration": 10,
    "start_time": "2023-05-30T16:37:26.973Z"
   },
   {
    "duration": 10,
    "start_time": "2023-05-30T16:37:26.984Z"
   },
   {
    "duration": 6,
    "start_time": "2023-05-30T16:37:26.996Z"
   },
   {
    "duration": 383,
    "start_time": "2023-05-30T16:41:45.776Z"
   },
   {
    "duration": 29,
    "start_time": "2023-05-30T16:41:46.161Z"
   },
   {
    "duration": 30,
    "start_time": "2023-05-30T16:41:46.192Z"
   },
   {
    "duration": 29,
    "start_time": "2023-05-30T16:41:46.224Z"
   },
   {
    "duration": 14,
    "start_time": "2023-05-30T16:41:46.256Z"
   },
   {
    "duration": 10,
    "start_time": "2023-05-30T16:41:46.271Z"
   },
   {
    "duration": 10,
    "start_time": "2023-05-30T16:41:46.283Z"
   },
   {
    "duration": 11,
    "start_time": "2023-05-30T16:41:46.295Z"
   },
   {
    "duration": 7,
    "start_time": "2023-05-30T16:41:46.308Z"
   },
   {
    "duration": 87,
    "start_time": "2023-05-30T16:41:46.324Z"
   },
   {
    "duration": 0,
    "start_time": "2023-05-30T16:41:46.413Z"
   },
   {
    "duration": 361,
    "start_time": "2023-05-30T16:42:25.289Z"
   },
   {
    "duration": 28,
    "start_time": "2023-05-30T16:42:25.652Z"
   },
   {
    "duration": 28,
    "start_time": "2023-05-30T16:42:25.682Z"
   },
   {
    "duration": 35,
    "start_time": "2023-05-30T16:42:25.711Z"
   },
   {
    "duration": 16,
    "start_time": "2023-05-30T16:42:25.748Z"
   },
   {
    "duration": 21,
    "start_time": "2023-05-30T16:42:25.766Z"
   },
   {
    "duration": 15,
    "start_time": "2023-05-30T16:42:25.788Z"
   },
   {
    "duration": 26,
    "start_time": "2023-05-30T16:42:25.805Z"
   },
   {
    "duration": 11,
    "start_time": "2023-05-30T16:42:25.840Z"
   },
   {
    "duration": 1891,
    "start_time": "2023-05-30T16:42:25.853Z"
   },
   {
    "duration": 0,
    "start_time": "2023-05-30T16:42:27.747Z"
   },
   {
    "duration": 1811,
    "start_time": "2023-05-30T16:47:09.059Z"
   },
   {
    "duration": 10,
    "start_time": "2023-05-30T16:47:14.446Z"
   },
   {
    "duration": 61,
    "start_time": "2023-05-30T16:47:16.613Z"
   },
   {
    "duration": 394,
    "start_time": "2023-05-30T16:48:28.945Z"
   },
   {
    "duration": 29,
    "start_time": "2023-05-30T16:48:29.341Z"
   },
   {
    "duration": 26,
    "start_time": "2023-05-30T16:48:29.371Z"
   },
   {
    "duration": 15,
    "start_time": "2023-05-30T16:48:29.399Z"
   },
   {
    "duration": 32,
    "start_time": "2023-05-30T16:48:29.416Z"
   },
   {
    "duration": 13,
    "start_time": "2023-05-30T16:48:29.450Z"
   },
   {
    "duration": 9,
    "start_time": "2023-05-30T16:48:29.465Z"
   },
   {
    "duration": 10,
    "start_time": "2023-05-30T16:48:29.476Z"
   },
   {
    "duration": 6,
    "start_time": "2023-05-30T16:48:29.488Z"
   },
   {
    "duration": 91,
    "start_time": "2023-05-30T16:48:29.495Z"
   },
   {
    "duration": 0,
    "start_time": "2023-05-30T16:48:29.587Z"
   },
   {
    "duration": 428,
    "start_time": "2023-05-30T16:49:30.668Z"
   },
   {
    "duration": 51,
    "start_time": "2023-05-30T16:49:31.098Z"
   },
   {
    "duration": 27,
    "start_time": "2023-05-30T16:49:31.151Z"
   },
   {
    "duration": 18,
    "start_time": "2023-05-30T16:49:31.180Z"
   },
   {
    "duration": 43,
    "start_time": "2023-05-30T16:49:31.201Z"
   },
   {
    "duration": 32,
    "start_time": "2023-05-30T16:49:31.247Z"
   },
   {
    "duration": 22,
    "start_time": "2023-05-30T16:49:31.281Z"
   },
   {
    "duration": 57,
    "start_time": "2023-05-30T16:49:31.305Z"
   },
   {
    "duration": 20,
    "start_time": "2023-05-30T16:49:31.363Z"
   },
   {
    "duration": 32,
    "start_time": "2023-05-30T16:49:31.384Z"
   },
   {
    "duration": 356,
    "start_time": "2023-05-30T16:52:40.196Z"
   },
   {
    "duration": 28,
    "start_time": "2023-05-30T16:52:40.554Z"
   },
   {
    "duration": 28,
    "start_time": "2023-05-30T16:52:40.584Z"
   },
   {
    "duration": 29,
    "start_time": "2023-05-30T16:52:40.614Z"
   },
   {
    "duration": 27,
    "start_time": "2023-05-30T16:52:40.644Z"
   },
   {
    "duration": 10,
    "start_time": "2023-05-30T16:52:40.672Z"
   },
   {
    "duration": 9,
    "start_time": "2023-05-30T16:52:40.684Z"
   },
   {
    "duration": 10,
    "start_time": "2023-05-30T16:52:40.695Z"
   },
   {
    "duration": 8,
    "start_time": "2023-05-30T16:52:40.707Z"
   },
   {
    "duration": 37,
    "start_time": "2023-05-30T16:52:40.717Z"
   },
   {
    "duration": 7,
    "start_time": "2023-05-30T16:52:40.756Z"
   },
   {
    "duration": 409,
    "start_time": "2023-05-30T16:52:58.940Z"
   },
   {
    "duration": 30,
    "start_time": "2023-05-30T16:52:59.350Z"
   },
   {
    "duration": 29,
    "start_time": "2023-05-30T16:52:59.382Z"
   },
   {
    "duration": 31,
    "start_time": "2023-05-30T16:52:59.413Z"
   },
   {
    "duration": 17,
    "start_time": "2023-05-30T16:52:59.446Z"
   },
   {
    "duration": 11,
    "start_time": "2023-05-30T16:52:59.465Z"
   },
   {
    "duration": 11,
    "start_time": "2023-05-30T16:52:59.478Z"
   },
   {
    "duration": 12,
    "start_time": "2023-05-30T16:52:59.490Z"
   },
   {
    "duration": 6,
    "start_time": "2023-05-30T16:52:59.504Z"
   },
   {
    "duration": 29,
    "start_time": "2023-05-30T16:52:59.511Z"
   },
   {
    "duration": 7,
    "start_time": "2023-05-30T16:52:59.542Z"
   },
   {
    "duration": 9,
    "start_time": "2023-05-30T16:52:59.550Z"
   },
   {
    "duration": 449,
    "start_time": "2023-05-30T17:04:19.112Z"
   },
   {
    "duration": 29,
    "start_time": "2023-05-30T17:04:19.563Z"
   },
   {
    "duration": 39,
    "start_time": "2023-05-30T17:04:19.594Z"
   },
   {
    "duration": 16,
    "start_time": "2023-05-30T17:04:19.635Z"
   },
   {
    "duration": 19,
    "start_time": "2023-05-30T17:04:19.652Z"
   },
   {
    "duration": 22,
    "start_time": "2023-05-30T17:04:19.673Z"
   },
   {
    "duration": 34,
    "start_time": "2023-05-30T17:04:19.696Z"
   },
   {
    "duration": 34,
    "start_time": "2023-05-30T17:04:19.732Z"
   },
   {
    "duration": 11,
    "start_time": "2023-05-30T17:04:19.768Z"
   },
   {
    "duration": 13,
    "start_time": "2023-05-30T17:04:19.781Z"
   },
   {
    "duration": 5,
    "start_time": "2023-05-30T17:04:19.796Z"
   },
   {
    "duration": 25,
    "start_time": "2023-05-30T17:04:19.802Z"
   },
   {
    "duration": 15,
    "start_time": "2023-05-30T17:04:19.829Z"
   },
   {
    "duration": 8,
    "start_time": "2023-05-30T17:04:19.847Z"
   },
   {
    "duration": 470,
    "start_time": "2023-05-30T17:05:42.630Z"
   },
   {
    "duration": 32,
    "start_time": "2023-05-30T17:05:43.102Z"
   },
   {
    "duration": 33,
    "start_time": "2023-05-30T17:05:43.136Z"
   },
   {
    "duration": 16,
    "start_time": "2023-05-30T17:05:43.171Z"
   },
   {
    "duration": 15,
    "start_time": "2023-05-30T17:05:43.189Z"
   },
   {
    "duration": 26,
    "start_time": "2023-05-30T17:05:43.206Z"
   },
   {
    "duration": 15,
    "start_time": "2023-05-30T17:05:43.234Z"
   },
   {
    "duration": 16,
    "start_time": "2023-05-30T17:05:43.250Z"
   },
   {
    "duration": 7,
    "start_time": "2023-05-30T17:05:43.267Z"
   },
   {
    "duration": 10,
    "start_time": "2023-05-30T17:05:43.276Z"
   },
   {
    "duration": 7,
    "start_time": "2023-05-30T17:05:43.288Z"
   },
   {
    "duration": 17,
    "start_time": "2023-05-30T17:05:43.296Z"
   },
   {
    "duration": 27,
    "start_time": "2023-05-30T17:05:43.315Z"
   },
   {
    "duration": 8,
    "start_time": "2023-05-30T17:05:43.344Z"
   },
   {
    "duration": 11,
    "start_time": "2023-05-30T17:05:43.353Z"
   },
   {
    "duration": 17,
    "start_time": "2023-05-30T17:05:43.365Z"
   },
   {
    "duration": 366,
    "start_time": "2023-05-30T17:12:46.159Z"
   },
   {
    "duration": 29,
    "start_time": "2023-05-30T17:12:46.527Z"
   },
   {
    "duration": 27,
    "start_time": "2023-05-30T17:12:46.557Z"
   },
   {
    "duration": 15,
    "start_time": "2023-05-30T17:12:46.585Z"
   },
   {
    "duration": 15,
    "start_time": "2023-05-30T17:12:46.602Z"
   },
   {
    "duration": 11,
    "start_time": "2023-05-30T17:12:46.619Z"
   },
   {
    "duration": 10,
    "start_time": "2023-05-30T17:12:46.632Z"
   },
   {
    "duration": 11,
    "start_time": "2023-05-30T17:12:46.643Z"
   },
   {
    "duration": 6,
    "start_time": "2023-05-30T17:12:46.656Z"
   },
   {
    "duration": 12,
    "start_time": "2023-05-30T17:12:46.663Z"
   },
   {
    "duration": 4,
    "start_time": "2023-05-30T17:12:46.676Z"
   },
   {
    "duration": 11,
    "start_time": "2023-05-30T17:12:46.681Z"
   },
   {
    "duration": 6,
    "start_time": "2023-05-30T17:12:46.717Z"
   },
   {
    "duration": 10,
    "start_time": "2023-05-30T17:12:46.725Z"
   },
   {
    "duration": 67,
    "start_time": "2023-05-30T17:12:46.736Z"
   },
   {
    "duration": 0,
    "start_time": "2023-05-30T17:12:46.817Z"
   },
   {
    "duration": 399,
    "start_time": "2023-05-30T17:13:01.282Z"
   },
   {
    "duration": 30,
    "start_time": "2023-05-30T17:13:01.683Z"
   },
   {
    "duration": 53,
    "start_time": "2023-05-30T17:13:01.714Z"
   },
   {
    "duration": 31,
    "start_time": "2023-05-30T17:13:01.769Z"
   },
   {
    "duration": 39,
    "start_time": "2023-05-30T17:13:01.803Z"
   },
   {
    "duration": 37,
    "start_time": "2023-05-30T17:13:01.844Z"
   },
   {
    "duration": 58,
    "start_time": "2023-05-30T17:13:01.884Z"
   },
   {
    "duration": 39,
    "start_time": "2023-05-30T17:13:01.944Z"
   },
   {
    "duration": 32,
    "start_time": "2023-05-30T17:13:01.985Z"
   },
   {
    "duration": 31,
    "start_time": "2023-05-30T17:13:02.018Z"
   },
   {
    "duration": 36,
    "start_time": "2023-05-30T17:13:02.051Z"
   },
   {
    "duration": 45,
    "start_time": "2023-05-30T17:13:02.088Z"
   },
   {
    "duration": 36,
    "start_time": "2023-05-30T17:13:02.134Z"
   },
   {
    "duration": 20,
    "start_time": "2023-05-30T17:13:02.173Z"
   },
   {
    "duration": 27,
    "start_time": "2023-05-30T17:13:02.195Z"
   },
   {
    "duration": 40,
    "start_time": "2023-05-30T17:13:02.223Z"
   },
   {
    "duration": 404,
    "start_time": "2023-05-30T17:18:04.449Z"
   },
   {
    "duration": 31,
    "start_time": "2023-05-30T17:18:04.858Z"
   },
   {
    "duration": 33,
    "start_time": "2023-05-30T17:18:04.890Z"
   },
   {
    "duration": 17,
    "start_time": "2023-05-30T17:18:04.925Z"
   },
   {
    "duration": 18,
    "start_time": "2023-05-30T17:18:04.946Z"
   },
   {
    "duration": 15,
    "start_time": "2023-05-30T17:18:04.965Z"
   },
   {
    "duration": 20,
    "start_time": "2023-05-30T17:18:04.982Z"
   },
   {
    "duration": 45,
    "start_time": "2023-05-30T17:18:05.004Z"
   },
   {
    "duration": 9,
    "start_time": "2023-05-30T17:18:05.051Z"
   },
   {
    "duration": 18,
    "start_time": "2023-05-30T17:18:05.061Z"
   },
   {
    "duration": 6,
    "start_time": "2023-05-30T17:18:05.081Z"
   },
   {
    "duration": 14,
    "start_time": "2023-05-30T17:18:05.089Z"
   },
   {
    "duration": 18,
    "start_time": "2023-05-30T17:18:05.105Z"
   },
   {
    "duration": 8,
    "start_time": "2023-05-30T17:18:05.125Z"
   },
   {
    "duration": 10,
    "start_time": "2023-05-30T17:18:05.135Z"
   },
   {
    "duration": 6,
    "start_time": "2023-05-30T17:18:05.147Z"
   },
   {
    "duration": 22,
    "start_time": "2023-05-30T17:18:05.155Z"
   },
   {
    "duration": 3,
    "start_time": "2023-05-30T17:18:25.363Z"
   },
   {
    "duration": 414,
    "start_time": "2023-05-30T17:19:12.434Z"
   },
   {
    "duration": 30,
    "start_time": "2023-05-30T17:19:12.850Z"
   },
   {
    "duration": 28,
    "start_time": "2023-05-30T17:19:12.882Z"
   },
   {
    "duration": 22,
    "start_time": "2023-05-30T17:19:12.912Z"
   },
   {
    "duration": 27,
    "start_time": "2023-05-30T17:19:12.937Z"
   },
   {
    "duration": 12,
    "start_time": "2023-05-30T17:19:12.966Z"
   },
   {
    "duration": 11,
    "start_time": "2023-05-30T17:19:12.979Z"
   },
   {
    "duration": 13,
    "start_time": "2023-05-30T17:19:12.992Z"
   },
   {
    "duration": 12,
    "start_time": "2023-05-30T17:19:13.006Z"
   },
   {
    "duration": 19,
    "start_time": "2023-05-30T17:19:13.020Z"
   },
   {
    "duration": 5,
    "start_time": "2023-05-30T17:19:13.042Z"
   },
   {
    "duration": 11,
    "start_time": "2023-05-30T17:19:13.048Z"
   },
   {
    "duration": 13,
    "start_time": "2023-05-30T17:19:13.061Z"
   },
   {
    "duration": 7,
    "start_time": "2023-05-30T17:19:13.076Z"
   },
   {
    "duration": 4,
    "start_time": "2023-05-30T17:19:13.085Z"
   },
   {
    "duration": 7,
    "start_time": "2023-05-30T17:19:13.091Z"
   },
   {
    "duration": 36,
    "start_time": "2023-05-30T17:19:13.099Z"
   },
   {
    "duration": 15,
    "start_time": "2023-05-30T17:19:13.137Z"
   },
   {
    "duration": 436,
    "start_time": "2023-05-30T17:22:35.415Z"
   },
   {
    "duration": 29,
    "start_time": "2023-05-30T17:22:35.853Z"
   },
   {
    "duration": 28,
    "start_time": "2023-05-30T17:22:35.883Z"
   },
   {
    "duration": 19,
    "start_time": "2023-05-30T17:22:35.912Z"
   },
   {
    "duration": 26,
    "start_time": "2023-05-30T17:22:35.934Z"
   },
   {
    "duration": 17,
    "start_time": "2023-05-30T17:22:35.962Z"
   },
   {
    "duration": 18,
    "start_time": "2023-05-30T17:22:35.981Z"
   },
   {
    "duration": 39,
    "start_time": "2023-05-30T17:22:36.001Z"
   },
   {
    "duration": 7,
    "start_time": "2023-05-30T17:22:36.042Z"
   },
   {
    "duration": 21,
    "start_time": "2023-05-30T17:22:36.050Z"
   },
   {
    "duration": 6,
    "start_time": "2023-05-30T17:22:36.072Z"
   },
   {
    "duration": 9,
    "start_time": "2023-05-30T17:22:36.079Z"
   },
   {
    "duration": 11,
    "start_time": "2023-05-30T17:22:36.090Z"
   },
   {
    "duration": 10,
    "start_time": "2023-05-30T17:22:36.103Z"
   },
   {
    "duration": 17,
    "start_time": "2023-05-30T17:22:36.119Z"
   },
   {
    "duration": 16,
    "start_time": "2023-05-30T17:22:36.138Z"
   },
   {
    "duration": 415,
    "start_time": "2023-05-30T17:26:40.495Z"
   },
   {
    "duration": 36,
    "start_time": "2023-05-30T17:26:40.912Z"
   },
   {
    "duration": 27,
    "start_time": "2023-05-30T17:26:40.949Z"
   },
   {
    "duration": 15,
    "start_time": "2023-05-30T17:26:40.978Z"
   },
   {
    "duration": 15,
    "start_time": "2023-05-30T17:26:40.994Z"
   },
   {
    "duration": 21,
    "start_time": "2023-05-30T17:26:41.010Z"
   },
   {
    "duration": 12,
    "start_time": "2023-05-30T17:26:41.033Z"
   },
   {
    "duration": 16,
    "start_time": "2023-05-30T17:26:41.047Z"
   },
   {
    "duration": 8,
    "start_time": "2023-05-30T17:26:41.065Z"
   },
   {
    "duration": 15,
    "start_time": "2023-05-30T17:26:41.075Z"
   },
   {
    "duration": 6,
    "start_time": "2023-05-30T17:26:41.092Z"
   },
   {
    "duration": 8,
    "start_time": "2023-05-30T17:26:41.100Z"
   },
   {
    "duration": 26,
    "start_time": "2023-05-30T17:26:41.109Z"
   },
   {
    "duration": 10,
    "start_time": "2023-05-30T17:26:41.136Z"
   },
   {
    "duration": 10,
    "start_time": "2023-05-30T17:26:41.147Z"
   },
   {
    "duration": 12,
    "start_time": "2023-05-30T17:26:41.159Z"
   },
   {
    "duration": 595,
    "start_time": "2023-05-30T17:26:41.173Z"
   },
   {
    "duration": 659,
    "start_time": "2023-05-30T17:27:10.846Z"
   },
   {
    "duration": 340,
    "start_time": "2023-05-30T17:27:19.602Z"
   },
   {
    "duration": 163,
    "start_time": "2023-05-30T17:27:24.575Z"
   },
   {
    "duration": 11,
    "start_time": "2023-05-30T17:32:25.736Z"
   },
   {
    "duration": 16,
    "start_time": "2023-05-30T17:32:39.415Z"
   },
   {
    "duration": 14,
    "start_time": "2023-05-30T17:33:46.037Z"
   },
   {
    "duration": 20,
    "start_time": "2023-05-30T17:34:08.807Z"
   },
   {
    "duration": 8,
    "start_time": "2023-05-30T17:37:17.882Z"
   },
   {
    "duration": 84,
    "start_time": "2023-05-30T17:38:00.730Z"
   },
   {
    "duration": 8,
    "start_time": "2023-05-30T17:38:05.860Z"
   },
   {
    "duration": 5,
    "start_time": "2023-05-30T17:38:37.032Z"
   },
   {
    "duration": 5,
    "start_time": "2023-05-30T17:39:17.784Z"
   },
   {
    "duration": 7,
    "start_time": "2023-05-30T17:40:16.316Z"
   },
   {
    "duration": 4,
    "start_time": "2023-05-30T17:40:33.665Z"
   },
   {
    "duration": 150,
    "start_time": "2023-05-30T17:40:47.186Z"
   },
   {
    "duration": 1094,
    "start_time": "2023-05-30T17:42:11.151Z"
   },
   {
    "duration": 30,
    "start_time": "2023-05-30T17:42:12.247Z"
   },
   {
    "duration": 30,
    "start_time": "2023-05-30T17:42:12.279Z"
   },
   {
    "duration": 24,
    "start_time": "2023-05-30T17:42:12.312Z"
   },
   {
    "duration": 18,
    "start_time": "2023-05-30T17:42:12.338Z"
   },
   {
    "duration": 19,
    "start_time": "2023-05-30T17:42:12.357Z"
   },
   {
    "duration": 12,
    "start_time": "2023-05-30T17:42:12.378Z"
   },
   {
    "duration": 13,
    "start_time": "2023-05-30T17:42:12.392Z"
   },
   {
    "duration": 20,
    "start_time": "2023-05-30T17:42:12.407Z"
   },
   {
    "duration": 7,
    "start_time": "2023-05-30T17:42:12.431Z"
   },
   {
    "duration": 8,
    "start_time": "2023-05-30T17:42:12.441Z"
   },
   {
    "duration": 5,
    "start_time": "2023-05-30T17:42:12.450Z"
   },
   {
    "duration": 9,
    "start_time": "2023-05-30T17:42:12.457Z"
   },
   {
    "duration": 7,
    "start_time": "2023-05-30T17:42:12.468Z"
   },
   {
    "duration": 6,
    "start_time": "2023-05-30T17:42:12.477Z"
   },
   {
    "duration": 10,
    "start_time": "2023-05-30T17:42:12.519Z"
   },
   {
    "duration": 5,
    "start_time": "2023-05-30T17:42:12.531Z"
   },
   {
    "duration": 10,
    "start_time": "2023-05-30T17:42:12.538Z"
   },
   {
    "duration": 4,
    "start_time": "2023-05-30T17:42:12.549Z"
   },
   {
    "duration": 152,
    "start_time": "2023-05-30T17:42:12.555Z"
   },
   {
    "duration": 121,
    "start_time": "2023-05-30T17:44:47.046Z"
   },
   {
    "duration": 140,
    "start_time": "2023-05-30T17:44:53.959Z"
   },
   {
    "duration": 155,
    "start_time": "2023-05-30T17:45:01.904Z"
   },
   {
    "duration": 143,
    "start_time": "2023-05-30T17:45:10.284Z"
   },
   {
    "duration": 132,
    "start_time": "2023-05-30T17:45:16.944Z"
   },
   {
    "duration": 182,
    "start_time": "2023-05-30T17:45:31.629Z"
   },
   {
    "duration": 248,
    "start_time": "2023-05-30T17:45:40.712Z"
   },
   {
    "duration": 204,
    "start_time": "2023-05-30T17:45:50.151Z"
   },
   {
    "duration": 149,
    "start_time": "2023-05-30T17:47:39.794Z"
   },
   {
    "duration": 158,
    "start_time": "2023-05-30T17:47:45.280Z"
   },
   {
    "duration": 150,
    "start_time": "2023-05-30T17:49:47.964Z"
   },
   {
    "duration": 6,
    "start_time": "2023-05-30T17:50:20.204Z"
   },
   {
    "duration": 4,
    "start_time": "2023-05-30T17:50:42.738Z"
   },
   {
    "duration": 3,
    "start_time": "2023-05-30T17:56:33.365Z"
   },
   {
    "duration": 4,
    "start_time": "2023-05-30T17:56:40.593Z"
   },
   {
    "duration": 141,
    "start_time": "2023-05-30T18:00:04.364Z"
   },
   {
    "duration": 5,
    "start_time": "2023-05-30T18:00:22.999Z"
   },
   {
    "duration": 5,
    "start_time": "2023-05-30T18:03:49.250Z"
   },
   {
    "duration": 5,
    "start_time": "2023-05-30T18:05:02.830Z"
   },
   {
    "duration": 156,
    "start_time": "2023-05-30T18:05:48.893Z"
   },
   {
    "duration": 147,
    "start_time": "2023-05-30T18:07:54.273Z"
   },
   {
    "duration": 168,
    "start_time": "2023-05-30T18:09:25.469Z"
   },
   {
    "duration": 15,
    "start_time": "2023-05-30T18:17:54.887Z"
   },
   {
    "duration": 11,
    "start_time": "2023-05-30T18:22:21.273Z"
   },
   {
    "duration": 18,
    "start_time": "2023-05-30T18:22:39.003Z"
   },
   {
    "duration": 8,
    "start_time": "2023-05-30T18:24:15.553Z"
   },
   {
    "duration": 8,
    "start_time": "2023-05-30T18:24:31.143Z"
   },
   {
    "duration": 1053,
    "start_time": "2023-05-30T18:24:36.623Z"
   },
   {
    "duration": 29,
    "start_time": "2023-05-30T18:24:37.678Z"
   },
   {
    "duration": 34,
    "start_time": "2023-05-30T18:24:37.709Z"
   },
   {
    "duration": 16,
    "start_time": "2023-05-30T18:24:37.745Z"
   },
   {
    "duration": 12,
    "start_time": "2023-05-30T18:24:37.763Z"
   },
   {
    "duration": 26,
    "start_time": "2023-05-30T18:24:37.776Z"
   },
   {
    "duration": 12,
    "start_time": "2023-05-30T18:24:37.804Z"
   },
   {
    "duration": 30,
    "start_time": "2023-05-30T18:24:37.818Z"
   },
   {
    "duration": 15,
    "start_time": "2023-05-30T18:24:37.850Z"
   },
   {
    "duration": 26,
    "start_time": "2023-05-30T18:24:37.866Z"
   },
   {
    "duration": 16,
    "start_time": "2023-05-30T18:24:37.894Z"
   },
   {
    "duration": 8,
    "start_time": "2023-05-30T18:24:37.911Z"
   },
   {
    "duration": 29,
    "start_time": "2023-05-30T18:24:37.921Z"
   },
   {
    "duration": 13,
    "start_time": "2023-05-30T18:24:37.953Z"
   },
   {
    "duration": 12,
    "start_time": "2023-05-30T18:24:37.967Z"
   },
   {
    "duration": 6,
    "start_time": "2023-05-30T18:24:37.980Z"
   },
   {
    "duration": 33,
    "start_time": "2023-05-30T18:24:37.987Z"
   },
   {
    "duration": 19,
    "start_time": "2023-05-30T18:24:38.021Z"
   },
   {
    "duration": 23,
    "start_time": "2023-05-30T18:24:38.042Z"
   },
   {
    "duration": 161,
    "start_time": "2023-05-30T18:24:38.066Z"
   },
   {
    "duration": 6,
    "start_time": "2023-05-30T18:24:38.228Z"
   },
   {
    "duration": 67,
    "start_time": "2023-05-30T18:24:38.236Z"
   },
   {
    "duration": 19,
    "start_time": "2023-05-30T18:24:38.305Z"
   },
   {
    "duration": 149,
    "start_time": "2023-05-30T18:24:38.325Z"
   },
   {
    "duration": 165,
    "start_time": "2023-05-30T18:24:38.476Z"
   },
   {
    "duration": 170,
    "start_time": "2023-05-30T18:24:38.643Z"
   },
   {
    "duration": 10,
    "start_time": "2023-05-30T18:24:38.817Z"
   },
   {
    "duration": 8,
    "start_time": "2023-05-30T18:24:38.829Z"
   },
   {
    "duration": 1157,
    "start_time": "2023-05-30T18:24:50.793Z"
   },
   {
    "duration": 29,
    "start_time": "2023-05-30T18:24:51.952Z"
   },
   {
    "duration": 27,
    "start_time": "2023-05-30T18:24:51.982Z"
   },
   {
    "duration": 31,
    "start_time": "2023-05-30T18:24:52.010Z"
   },
   {
    "duration": 13,
    "start_time": "2023-05-30T18:24:52.043Z"
   },
   {
    "duration": 16,
    "start_time": "2023-05-30T18:24:52.058Z"
   },
   {
    "duration": 21,
    "start_time": "2023-05-30T18:24:52.076Z"
   },
   {
    "duration": 18,
    "start_time": "2023-05-30T18:24:52.099Z"
   },
   {
    "duration": 23,
    "start_time": "2023-05-30T18:24:52.119Z"
   },
   {
    "duration": 12,
    "start_time": "2023-05-30T18:24:52.143Z"
   },
   {
    "duration": 14,
    "start_time": "2023-05-30T18:24:52.156Z"
   },
   {
    "duration": 29,
    "start_time": "2023-05-30T18:24:52.171Z"
   },
   {
    "duration": 13,
    "start_time": "2023-05-30T18:24:52.202Z"
   },
   {
    "duration": 15,
    "start_time": "2023-05-30T18:24:52.218Z"
   },
   {
    "duration": 20,
    "start_time": "2023-05-30T18:24:52.234Z"
   },
   {
    "duration": 27,
    "start_time": "2023-05-30T18:24:52.256Z"
   },
   {
    "duration": 24,
    "start_time": "2023-05-30T18:24:52.285Z"
   },
   {
    "duration": 19,
    "start_time": "2023-05-30T18:24:52.311Z"
   },
   {
    "duration": 22,
    "start_time": "2023-05-30T18:24:52.332Z"
   },
   {
    "duration": 155,
    "start_time": "2023-05-30T18:24:52.355Z"
   },
   {
    "duration": 9,
    "start_time": "2023-05-30T18:24:52.511Z"
   },
   {
    "duration": 13,
    "start_time": "2023-05-30T18:24:52.521Z"
   },
   {
    "duration": 9,
    "start_time": "2023-05-30T18:24:52.536Z"
   },
   {
    "duration": 145,
    "start_time": "2023-05-30T18:24:52.547Z"
   },
   {
    "duration": 161,
    "start_time": "2023-05-30T18:24:52.693Z"
   },
   {
    "duration": 167,
    "start_time": "2023-05-30T18:24:52.856Z"
   },
   {
    "duration": 10,
    "start_time": "2023-05-30T18:24:53.025Z"
   },
   {
    "duration": 27,
    "start_time": "2023-05-30T18:24:53.036Z"
   },
   {
    "duration": 20,
    "start_time": "2023-05-30T18:25:02.358Z"
   },
   {
    "duration": 1020,
    "start_time": "2023-05-30T18:25:36.238Z"
   },
   {
    "duration": 28,
    "start_time": "2023-05-30T18:25:37.260Z"
   },
   {
    "duration": 27,
    "start_time": "2023-05-30T18:25:37.290Z"
   },
   {
    "duration": 15,
    "start_time": "2023-05-30T18:25:37.318Z"
   },
   {
    "duration": 11,
    "start_time": "2023-05-30T18:25:37.335Z"
   },
   {
    "duration": 4,
    "start_time": "2023-05-30T18:25:37.347Z"
   },
   {
    "duration": 12,
    "start_time": "2023-05-30T18:25:37.353Z"
   },
   {
    "duration": 14,
    "start_time": "2023-05-30T18:25:37.367Z"
   },
   {
    "duration": 12,
    "start_time": "2023-05-30T18:25:37.382Z"
   },
   {
    "duration": 22,
    "start_time": "2023-05-30T18:25:37.396Z"
   },
   {
    "duration": 16,
    "start_time": "2023-05-30T18:25:37.420Z"
   },
   {
    "duration": 35,
    "start_time": "2023-05-30T18:25:37.438Z"
   },
   {
    "duration": 29,
    "start_time": "2023-05-30T18:25:37.474Z"
   },
   {
    "duration": 23,
    "start_time": "2023-05-30T18:25:37.505Z"
   },
   {
    "duration": 15,
    "start_time": "2023-05-30T18:25:37.529Z"
   },
   {
    "duration": 6,
    "start_time": "2023-05-30T18:25:37.546Z"
   },
   {
    "duration": 13,
    "start_time": "2023-05-30T18:25:37.554Z"
   },
   {
    "duration": 10,
    "start_time": "2023-05-30T18:25:37.569Z"
   },
   {
    "duration": 7,
    "start_time": "2023-05-30T18:25:37.580Z"
   },
   {
    "duration": 158,
    "start_time": "2023-05-30T18:25:37.588Z"
   },
   {
    "duration": 6,
    "start_time": "2023-05-30T18:25:37.747Z"
   },
   {
    "duration": 19,
    "start_time": "2023-05-30T18:25:37.754Z"
   },
   {
    "duration": 20,
    "start_time": "2023-05-30T18:25:37.774Z"
   },
   {
    "duration": 151,
    "start_time": "2023-05-30T18:25:37.796Z"
   },
   {
    "duration": 197,
    "start_time": "2023-05-30T18:25:37.949Z"
   },
   {
    "duration": 163,
    "start_time": "2023-05-30T18:25:38.149Z"
   },
   {
    "duration": 10,
    "start_time": "2023-05-30T18:25:38.318Z"
   },
   {
    "duration": 16,
    "start_time": "2023-05-30T18:25:38.330Z"
   },
   {
    "duration": 18,
    "start_time": "2023-05-30T18:25:38.348Z"
   },
   {
    "duration": 18,
    "start_time": "2023-05-30T18:25:38.367Z"
   },
   {
    "duration": 1555,
    "start_time": "2023-05-30T18:36:00.086Z"
   },
   {
    "duration": 7,
    "start_time": "2023-05-30T18:36:37.022Z"
   },
   {
    "duration": 10,
    "start_time": "2023-05-30T18:37:01.308Z"
   },
   {
    "duration": 5,
    "start_time": "2023-05-30T18:37:13.904Z"
   },
   {
    "duration": 1084,
    "start_time": "2023-05-30T18:37:28.753Z"
   },
   {
    "duration": 30,
    "start_time": "2023-05-30T18:37:29.839Z"
   },
   {
    "duration": 27,
    "start_time": "2023-05-30T18:37:29.870Z"
   },
   {
    "duration": 15,
    "start_time": "2023-05-30T18:37:29.898Z"
   },
   {
    "duration": 12,
    "start_time": "2023-05-30T18:37:29.915Z"
   },
   {
    "duration": 5,
    "start_time": "2023-05-30T18:37:29.929Z"
   },
   {
    "duration": 11,
    "start_time": "2023-05-30T18:37:29.935Z"
   },
   {
    "duration": 9,
    "start_time": "2023-05-30T18:37:29.948Z"
   },
   {
    "duration": 12,
    "start_time": "2023-05-30T18:37:29.958Z"
   },
   {
    "duration": 6,
    "start_time": "2023-05-30T18:37:29.971Z"
   },
   {
    "duration": 41,
    "start_time": "2023-05-30T18:37:29.978Z"
   },
   {
    "duration": 4,
    "start_time": "2023-05-30T18:37:30.021Z"
   },
   {
    "duration": 34,
    "start_time": "2023-05-30T18:37:30.026Z"
   },
   {
    "duration": 63,
    "start_time": "2023-05-30T18:37:30.063Z"
   },
   {
    "duration": 53,
    "start_time": "2023-05-30T18:37:30.128Z"
   },
   {
    "duration": 51,
    "start_time": "2023-05-30T18:37:30.183Z"
   },
   {
    "duration": 51,
    "start_time": "2023-05-30T18:37:30.236Z"
   },
   {
    "duration": 42,
    "start_time": "2023-05-30T18:37:30.289Z"
   },
   {
    "duration": 43,
    "start_time": "2023-05-30T18:37:30.333Z"
   },
   {
    "duration": 196,
    "start_time": "2023-05-30T18:37:30.377Z"
   },
   {
    "duration": 6,
    "start_time": "2023-05-30T18:37:30.575Z"
   },
   {
    "duration": 54,
    "start_time": "2023-05-30T18:37:30.583Z"
   },
   {
    "duration": 50,
    "start_time": "2023-05-30T18:37:30.638Z"
   },
   {
    "duration": 191,
    "start_time": "2023-05-30T18:37:30.689Z"
   },
   {
    "duration": 172,
    "start_time": "2023-05-30T18:37:30.882Z"
   },
   {
    "duration": 178,
    "start_time": "2023-05-30T18:37:31.056Z"
   },
   {
    "duration": 10,
    "start_time": "2023-05-30T18:37:31.236Z"
   },
   {
    "duration": 70,
    "start_time": "2023-05-30T18:37:31.248Z"
   },
   {
    "duration": 32,
    "start_time": "2023-05-30T18:37:31.320Z"
   },
   {
    "duration": 35,
    "start_time": "2023-05-30T18:37:31.354Z"
   },
   {
    "duration": 32,
    "start_time": "2023-05-30T18:37:31.391Z"
   },
   {
    "duration": 17,
    "start_time": "2023-05-30T18:37:31.424Z"
   },
   {
    "duration": 31,
    "start_time": "2023-05-30T18:37:31.442Z"
   },
   {
    "duration": 39,
    "start_time": "2023-05-30T18:37:31.475Z"
   },
   {
    "duration": 1135,
    "start_time": "2023-05-30T18:44:24.858Z"
   },
   {
    "duration": 32,
    "start_time": "2023-05-30T18:44:25.995Z"
   },
   {
    "duration": 33,
    "start_time": "2023-05-30T18:44:26.029Z"
   },
   {
    "duration": 17,
    "start_time": "2023-05-30T18:44:26.064Z"
   },
   {
    "duration": 29,
    "start_time": "2023-05-30T18:44:26.083Z"
   },
   {
    "duration": 14,
    "start_time": "2023-05-30T18:44:26.114Z"
   },
   {
    "duration": 32,
    "start_time": "2023-05-30T18:44:26.130Z"
   },
   {
    "duration": 21,
    "start_time": "2023-05-30T18:44:26.164Z"
   },
   {
    "duration": 31,
    "start_time": "2023-05-30T18:44:26.186Z"
   },
   {
    "duration": 35,
    "start_time": "2023-05-30T18:44:26.219Z"
   },
   {
    "duration": 23,
    "start_time": "2023-05-30T18:44:26.255Z"
   },
   {
    "duration": 14,
    "start_time": "2023-05-30T18:44:26.280Z"
   },
   {
    "duration": 15,
    "start_time": "2023-05-30T18:44:26.298Z"
   },
   {
    "duration": 40,
    "start_time": "2023-05-30T18:44:26.315Z"
   },
   {
    "duration": 11,
    "start_time": "2023-05-30T18:44:26.357Z"
   },
   {
    "duration": 30,
    "start_time": "2023-05-30T18:44:26.370Z"
   },
   {
    "duration": 17,
    "start_time": "2023-05-30T18:44:26.402Z"
   },
   {
    "duration": 30,
    "start_time": "2023-05-30T18:44:26.421Z"
   },
   {
    "duration": 15,
    "start_time": "2023-05-30T18:44:26.453Z"
   },
   {
    "duration": 168,
    "start_time": "2023-05-30T18:44:26.471Z"
   },
   {
    "duration": 6,
    "start_time": "2023-05-30T18:44:26.641Z"
   },
   {
    "duration": 33,
    "start_time": "2023-05-30T18:44:26.649Z"
   },
   {
    "duration": 25,
    "start_time": "2023-05-30T18:44:26.685Z"
   },
   {
    "duration": 150,
    "start_time": "2023-05-30T18:44:26.712Z"
   },
   {
    "duration": 199,
    "start_time": "2023-05-30T18:44:26.863Z"
   },
   {
    "duration": 195,
    "start_time": "2023-05-30T18:44:27.064Z"
   },
   {
    "duration": 10,
    "start_time": "2023-05-30T18:44:27.260Z"
   },
   {
    "duration": 41,
    "start_time": "2023-05-30T18:44:27.272Z"
   },
   {
    "duration": 37,
    "start_time": "2023-05-30T18:44:27.314Z"
   },
   {
    "duration": 25,
    "start_time": "2023-05-30T18:44:27.353Z"
   },
   {
    "duration": 9,
    "start_time": "2023-05-30T18:44:27.380Z"
   },
   {
    "duration": 75,
    "start_time": "2023-05-30T18:44:27.391Z"
   },
   {
    "duration": 0,
    "start_time": "2023-05-30T18:44:27.468Z"
   },
   {
    "duration": 0,
    "start_time": "2023-05-30T18:44:27.469Z"
   },
   {
    "duration": 0,
    "start_time": "2023-05-30T18:44:27.470Z"
   },
   {
    "duration": 0,
    "start_time": "2023-05-30T18:44:27.471Z"
   },
   {
    "duration": 0,
    "start_time": "2023-05-30T18:44:27.473Z"
   },
   {
    "duration": 0,
    "start_time": "2023-05-30T18:44:27.475Z"
   },
   {
    "duration": 0,
    "start_time": "2023-05-30T18:44:27.476Z"
   },
   {
    "duration": 1148,
    "start_time": "2023-05-30T18:44:37.858Z"
   },
   {
    "duration": 29,
    "start_time": "2023-05-30T18:44:39.008Z"
   },
   {
    "duration": 27,
    "start_time": "2023-05-30T18:44:39.038Z"
   },
   {
    "duration": 16,
    "start_time": "2023-05-30T18:44:39.067Z"
   },
   {
    "duration": 13,
    "start_time": "2023-05-30T18:44:39.086Z"
   },
   {
    "duration": 6,
    "start_time": "2023-05-30T18:44:39.101Z"
   },
   {
    "duration": 11,
    "start_time": "2023-05-30T18:44:39.109Z"
   },
   {
    "duration": 10,
    "start_time": "2023-05-30T18:44:39.122Z"
   },
   {
    "duration": 15,
    "start_time": "2023-05-30T18:44:39.134Z"
   },
   {
    "duration": 7,
    "start_time": "2023-05-30T18:44:39.150Z"
   },
   {
    "duration": 9,
    "start_time": "2023-05-30T18:44:39.159Z"
   },
   {
    "duration": 4,
    "start_time": "2023-05-30T18:44:39.170Z"
   },
   {
    "duration": 13,
    "start_time": "2023-05-30T18:44:39.175Z"
   },
   {
    "duration": 8,
    "start_time": "2023-05-30T18:44:39.191Z"
   },
   {
    "duration": 7,
    "start_time": "2023-05-30T18:44:39.217Z"
   },
   {
    "duration": 5,
    "start_time": "2023-05-30T18:44:39.226Z"
   },
   {
    "duration": 6,
    "start_time": "2023-05-30T18:44:39.233Z"
   },
   {
    "duration": 14,
    "start_time": "2023-05-30T18:44:39.240Z"
   },
   {
    "duration": 4,
    "start_time": "2023-05-30T18:44:39.256Z"
   },
   {
    "duration": 181,
    "start_time": "2023-05-30T18:44:39.262Z"
   },
   {
    "duration": 6,
    "start_time": "2023-05-30T18:44:39.445Z"
   },
   {
    "duration": 6,
    "start_time": "2023-05-30T18:44:39.453Z"
   },
   {
    "duration": 10,
    "start_time": "2023-05-30T18:44:39.460Z"
   },
   {
    "duration": 158,
    "start_time": "2023-05-30T18:44:39.471Z"
   },
   {
    "duration": 173,
    "start_time": "2023-05-30T18:44:39.630Z"
   },
   {
    "duration": 164,
    "start_time": "2023-05-30T18:44:39.804Z"
   },
   {
    "duration": 11,
    "start_time": "2023-05-30T18:44:39.969Z"
   },
   {
    "duration": 36,
    "start_time": "2023-05-30T18:44:39.982Z"
   },
   {
    "duration": 9,
    "start_time": "2023-05-30T18:44:40.020Z"
   },
   {
    "duration": 37,
    "start_time": "2023-05-30T18:44:40.031Z"
   },
   {
    "duration": 24,
    "start_time": "2023-05-30T18:44:40.069Z"
   },
   {
    "duration": 9,
    "start_time": "2023-05-30T18:44:40.095Z"
   },
   {
    "duration": 22,
    "start_time": "2023-05-30T18:44:40.106Z"
   },
   {
    "duration": 23,
    "start_time": "2023-05-30T18:44:40.130Z"
   },
   {
    "duration": 156,
    "start_time": "2023-05-30T18:44:40.155Z"
   },
   {
    "duration": 147,
    "start_time": "2023-05-30T18:44:40.313Z"
   },
   {
    "duration": 166,
    "start_time": "2023-05-30T18:44:40.461Z"
   },
   {
    "duration": 146,
    "start_time": "2023-05-30T18:44:40.628Z"
   },
   {
    "duration": 1158,
    "start_time": "2023-05-30T18:46:30.112Z"
   },
   {
    "duration": 30,
    "start_time": "2023-05-30T18:46:31.272Z"
   },
   {
    "duration": 28,
    "start_time": "2023-05-30T18:46:31.303Z"
   },
   {
    "duration": 20,
    "start_time": "2023-05-30T18:46:31.333Z"
   },
   {
    "duration": 13,
    "start_time": "2023-05-30T18:46:31.356Z"
   },
   {
    "duration": 23,
    "start_time": "2023-05-30T18:46:31.371Z"
   },
   {
    "duration": 25,
    "start_time": "2023-05-30T18:46:31.396Z"
   },
   {
    "duration": 33,
    "start_time": "2023-05-30T18:46:31.423Z"
   },
   {
    "duration": 27,
    "start_time": "2023-05-30T18:46:31.458Z"
   },
   {
    "duration": 26,
    "start_time": "2023-05-30T18:46:31.487Z"
   },
   {
    "duration": 29,
    "start_time": "2023-05-30T18:46:31.515Z"
   },
   {
    "duration": 20,
    "start_time": "2023-05-30T18:46:31.546Z"
   },
   {
    "duration": 31,
    "start_time": "2023-05-30T18:46:31.568Z"
   },
   {
    "duration": 14,
    "start_time": "2023-05-30T18:46:31.602Z"
   },
   {
    "duration": 18,
    "start_time": "2023-05-30T18:46:31.618Z"
   },
   {
    "duration": 19,
    "start_time": "2023-05-30T18:46:31.638Z"
   },
   {
    "duration": 13,
    "start_time": "2023-05-30T18:46:31.659Z"
   },
   {
    "duration": 20,
    "start_time": "2023-05-30T18:46:31.673Z"
   },
   {
    "duration": 17,
    "start_time": "2023-05-30T18:46:31.695Z"
   },
   {
    "duration": 174,
    "start_time": "2023-05-30T18:46:31.713Z"
   },
   {
    "duration": 6,
    "start_time": "2023-05-30T18:46:31.889Z"
   },
   {
    "duration": 11,
    "start_time": "2023-05-30T18:46:31.897Z"
   },
   {
    "duration": 19,
    "start_time": "2023-05-30T18:46:31.909Z"
   },
   {
    "duration": 156,
    "start_time": "2023-05-30T18:46:31.930Z"
   },
   {
    "duration": 178,
    "start_time": "2023-05-30T18:46:32.088Z"
   },
   {
    "duration": 162,
    "start_time": "2023-05-30T18:46:32.267Z"
   },
   {
    "duration": 10,
    "start_time": "2023-05-30T18:46:32.431Z"
   },
   {
    "duration": 17,
    "start_time": "2023-05-30T18:46:32.443Z"
   },
   {
    "duration": 8,
    "start_time": "2023-05-30T18:46:32.462Z"
   },
   {
    "duration": 55,
    "start_time": "2023-05-30T18:46:32.472Z"
   },
   {
    "duration": 9,
    "start_time": "2023-05-30T18:46:32.530Z"
   },
   {
    "duration": 15,
    "start_time": "2023-05-30T18:46:32.540Z"
   },
   {
    "duration": 31,
    "start_time": "2023-05-30T18:46:32.556Z"
   },
   {
    "duration": 29,
    "start_time": "2023-05-30T18:46:32.588Z"
   },
   {
    "duration": 162,
    "start_time": "2023-05-30T18:46:32.619Z"
   },
   {
    "duration": 160,
    "start_time": "2023-05-30T18:46:32.782Z"
   },
   {
    "duration": 148,
    "start_time": "2023-05-30T18:46:32.944Z"
   },
   {
    "duration": 157,
    "start_time": "2023-05-30T18:46:33.094Z"
   },
   {
    "duration": 995,
    "start_time": "2023-05-30T18:55:29.441Z"
   },
   {
    "duration": 3,
    "start_time": "2023-05-30T18:55:31.608Z"
   },
   {
    "duration": 1051,
    "start_time": "2023-05-30T18:55:39.337Z"
   },
   {
    "duration": 29,
    "start_time": "2023-05-30T18:55:40.390Z"
   },
   {
    "duration": 27,
    "start_time": "2023-05-30T18:55:40.420Z"
   },
   {
    "duration": 15,
    "start_time": "2023-05-30T18:55:40.449Z"
   },
   {
    "duration": 12,
    "start_time": "2023-05-30T18:55:40.465Z"
   },
   {
    "duration": 11,
    "start_time": "2023-05-30T18:55:40.478Z"
   },
   {
    "duration": 18,
    "start_time": "2023-05-30T18:55:40.491Z"
   },
   {
    "duration": 15,
    "start_time": "2023-05-30T18:55:40.510Z"
   },
   {
    "duration": 12,
    "start_time": "2023-05-30T18:55:40.527Z"
   },
   {
    "duration": 11,
    "start_time": "2023-05-30T18:55:40.542Z"
   },
   {
    "duration": 9,
    "start_time": "2023-05-30T18:55:40.555Z"
   },
   {
    "duration": 7,
    "start_time": "2023-05-30T18:55:40.565Z"
   },
   {
    "duration": 15,
    "start_time": "2023-05-30T18:55:40.574Z"
   },
   {
    "duration": 33,
    "start_time": "2023-05-30T18:55:40.591Z"
   },
   {
    "duration": 8,
    "start_time": "2023-05-30T18:55:40.625Z"
   },
   {
    "duration": 8,
    "start_time": "2023-05-30T18:55:40.634Z"
   },
   {
    "duration": 9,
    "start_time": "2023-05-30T18:55:40.643Z"
   },
   {
    "duration": 9,
    "start_time": "2023-05-30T18:55:40.653Z"
   },
   {
    "duration": 5,
    "start_time": "2023-05-30T18:55:40.664Z"
   },
   {
    "duration": 190,
    "start_time": "2023-05-30T18:55:40.671Z"
   },
   {
    "duration": 7,
    "start_time": "2023-05-30T18:55:40.864Z"
   },
   {
    "duration": 10,
    "start_time": "2023-05-30T18:55:40.873Z"
   },
   {
    "duration": 18,
    "start_time": "2023-05-30T18:55:40.886Z"
   },
   {
    "duration": 157,
    "start_time": "2023-05-30T18:55:40.906Z"
   },
   {
    "duration": 167,
    "start_time": "2023-05-30T18:55:41.064Z"
   },
   {
    "duration": 182,
    "start_time": "2023-05-30T18:55:41.232Z"
   },
   {
    "duration": 11,
    "start_time": "2023-05-30T18:55:41.416Z"
   },
   {
    "duration": 20,
    "start_time": "2023-05-30T18:55:41.430Z"
   },
   {
    "duration": 11,
    "start_time": "2023-05-30T18:55:41.452Z"
   },
   {
    "duration": 54,
    "start_time": "2023-05-30T18:55:41.465Z"
   },
   {
    "duration": 10,
    "start_time": "2023-05-30T18:55:41.521Z"
   },
   {
    "duration": 7,
    "start_time": "2023-05-30T18:55:41.533Z"
   },
   {
    "duration": 27,
    "start_time": "2023-05-30T18:55:41.542Z"
   },
   {
    "duration": 53,
    "start_time": "2023-05-30T18:55:41.571Z"
   },
   {
    "duration": 184,
    "start_time": "2023-05-30T18:55:41.626Z"
   },
   {
    "duration": 172,
    "start_time": "2023-05-30T18:55:41.812Z"
   },
   {
    "duration": 145,
    "start_time": "2023-05-30T18:55:41.986Z"
   },
   {
    "duration": 192,
    "start_time": "2023-05-30T18:55:42.132Z"
   },
   {
    "duration": 858,
    "start_time": "2023-05-30T18:55:42.326Z"
   },
   {
    "duration": 4,
    "start_time": "2023-05-30T18:55:43.186Z"
   },
   {
    "duration": 1123,
    "start_time": "2023-05-30T18:56:11.599Z"
   },
   {
    "duration": 31,
    "start_time": "2023-05-30T18:56:12.724Z"
   },
   {
    "duration": 27,
    "start_time": "2023-05-30T18:56:12.756Z"
   },
   {
    "duration": 15,
    "start_time": "2023-05-30T18:56:12.785Z"
   },
   {
    "duration": 12,
    "start_time": "2023-05-30T18:56:12.803Z"
   },
   {
    "duration": 4,
    "start_time": "2023-05-30T18:56:12.817Z"
   },
   {
    "duration": 12,
    "start_time": "2023-05-30T18:56:12.823Z"
   },
   {
    "duration": 16,
    "start_time": "2023-05-30T18:56:12.837Z"
   },
   {
    "duration": 14,
    "start_time": "2023-05-30T18:56:12.855Z"
   },
   {
    "duration": 8,
    "start_time": "2023-05-30T18:56:12.872Z"
   },
   {
    "duration": 39,
    "start_time": "2023-05-30T18:56:12.882Z"
   },
   {
    "duration": 5,
    "start_time": "2023-05-30T18:56:12.922Z"
   },
   {
    "duration": 11,
    "start_time": "2023-05-30T18:56:12.929Z"
   },
   {
    "duration": 11,
    "start_time": "2023-05-30T18:56:12.943Z"
   },
   {
    "duration": 9,
    "start_time": "2023-05-30T18:56:12.956Z"
   },
   {
    "duration": 6,
    "start_time": "2023-05-30T18:56:12.967Z"
   },
   {
    "duration": 12,
    "start_time": "2023-05-30T18:56:12.974Z"
   },
   {
    "duration": 12,
    "start_time": "2023-05-30T18:56:13.017Z"
   },
   {
    "duration": 5,
    "start_time": "2023-05-30T18:56:13.030Z"
   },
   {
    "duration": 182,
    "start_time": "2023-05-30T18:56:13.037Z"
   },
   {
    "duration": 6,
    "start_time": "2023-05-30T18:56:13.220Z"
   },
   {
    "duration": 9,
    "start_time": "2023-05-30T18:56:13.228Z"
   },
   {
    "duration": 11,
    "start_time": "2023-05-30T18:56:13.239Z"
   },
   {
    "duration": 170,
    "start_time": "2023-05-30T18:56:13.252Z"
   },
   {
    "duration": 176,
    "start_time": "2023-05-30T18:56:13.424Z"
   },
   {
    "duration": 167,
    "start_time": "2023-05-30T18:56:13.602Z"
   },
   {
    "duration": 11,
    "start_time": "2023-05-30T18:56:13.772Z"
   },
   {
    "duration": 33,
    "start_time": "2023-05-30T18:56:13.785Z"
   },
   {
    "duration": 10,
    "start_time": "2023-05-30T18:56:13.820Z"
   },
   {
    "duration": 19,
    "start_time": "2023-05-30T18:56:13.831Z"
   },
   {
    "duration": 10,
    "start_time": "2023-05-30T18:56:13.852Z"
   },
   {
    "duration": 6,
    "start_time": "2023-05-30T18:56:13.865Z"
   },
   {
    "duration": 47,
    "start_time": "2023-05-30T18:56:13.872Z"
   },
   {
    "duration": 18,
    "start_time": "2023-05-30T18:56:13.920Z"
   },
   {
    "duration": 217,
    "start_time": "2023-05-30T18:56:13.939Z"
   },
   {
    "duration": 173,
    "start_time": "2023-05-30T18:56:14.158Z"
   },
   {
    "duration": 151,
    "start_time": "2023-05-30T18:56:14.332Z"
   },
   {
    "duration": 234,
    "start_time": "2023-05-30T18:56:14.485Z"
   },
   {
    "duration": 900,
    "start_time": "2023-05-30T18:56:14.721Z"
   },
   {
    "duration": 15,
    "start_time": "2023-05-30T18:56:15.622Z"
   },
   {
    "duration": 17,
    "start_time": "2023-05-30T18:56:15.641Z"
   },
   {
    "duration": 19,
    "start_time": "2023-05-30T18:56:15.660Z"
   },
   {
    "duration": 1104,
    "start_time": "2023-05-30T18:59:56.429Z"
   },
   {
    "duration": 29,
    "start_time": "2023-05-30T18:59:57.535Z"
   },
   {
    "duration": 35,
    "start_time": "2023-05-30T18:59:57.566Z"
   },
   {
    "duration": 18,
    "start_time": "2023-05-30T18:59:57.604Z"
   },
   {
    "duration": 14,
    "start_time": "2023-05-30T18:59:57.625Z"
   },
   {
    "duration": 6,
    "start_time": "2023-05-30T18:59:57.641Z"
   },
   {
    "duration": 15,
    "start_time": "2023-05-30T18:59:57.649Z"
   },
   {
    "duration": 12,
    "start_time": "2023-05-30T18:59:57.666Z"
   },
   {
    "duration": 46,
    "start_time": "2023-05-30T18:59:57.680Z"
   },
   {
    "duration": 16,
    "start_time": "2023-05-30T18:59:57.728Z"
   },
   {
    "duration": 18,
    "start_time": "2023-05-30T18:59:57.747Z"
   },
   {
    "duration": 6,
    "start_time": "2023-05-30T18:59:57.767Z"
   },
   {
    "duration": 10,
    "start_time": "2023-05-30T18:59:57.775Z"
   },
   {
    "duration": 12,
    "start_time": "2023-05-30T18:59:57.788Z"
   },
   {
    "duration": 18,
    "start_time": "2023-05-30T18:59:57.801Z"
   },
   {
    "duration": 5,
    "start_time": "2023-05-30T18:59:57.820Z"
   },
   {
    "duration": 14,
    "start_time": "2023-05-30T18:59:57.827Z"
   },
   {
    "duration": 11,
    "start_time": "2023-05-30T18:59:57.842Z"
   },
   {
    "duration": 5,
    "start_time": "2023-05-30T18:59:57.854Z"
   },
   {
    "duration": 190,
    "start_time": "2023-05-30T18:59:57.860Z"
   },
   {
    "duration": 6,
    "start_time": "2023-05-30T18:59:58.052Z"
   },
   {
    "duration": 7,
    "start_time": "2023-05-30T18:59:58.060Z"
   },
   {
    "duration": 11,
    "start_time": "2023-05-30T18:59:58.069Z"
   },
   {
    "duration": 180,
    "start_time": "2023-05-30T18:59:58.081Z"
   },
   {
    "duration": 168,
    "start_time": "2023-05-30T18:59:58.263Z"
   },
   {
    "duration": 171,
    "start_time": "2023-05-30T18:59:58.433Z"
   },
   {
    "duration": 22,
    "start_time": "2023-05-30T18:59:58.606Z"
   },
   {
    "duration": 27,
    "start_time": "2023-05-30T18:59:58.630Z"
   },
   {
    "duration": 18,
    "start_time": "2023-05-30T18:59:58.658Z"
   },
   {
    "duration": 41,
    "start_time": "2023-05-30T18:59:58.678Z"
   },
   {
    "duration": 7,
    "start_time": "2023-05-30T18:59:58.721Z"
   },
   {
    "duration": 7,
    "start_time": "2023-05-30T18:59:58.729Z"
   },
   {
    "duration": 18,
    "start_time": "2023-05-30T18:59:58.738Z"
   },
   {
    "duration": 27,
    "start_time": "2023-05-30T18:59:58.757Z"
   },
   {
    "duration": 184,
    "start_time": "2023-05-30T18:59:58.786Z"
   },
   {
    "duration": 177,
    "start_time": "2023-05-30T18:59:58.972Z"
   },
   {
    "duration": 143,
    "start_time": "2023-05-30T18:59:59.151Z"
   },
   {
    "duration": 151,
    "start_time": "2023-05-30T18:59:59.296Z"
   },
   {
    "duration": 1041,
    "start_time": "2023-05-30T18:59:59.448Z"
   },
   {
    "duration": 16,
    "start_time": "2023-05-30T19:00:00.491Z"
   },
   {
    "duration": 2000,
    "start_time": "2023-05-30T19:10:07.146Z"
   },
   {
    "duration": 1229,
    "start_time": "2023-05-30T19:10:16.025Z"
   },
   {
    "duration": 29,
    "start_time": "2023-05-30T19:10:17.257Z"
   },
   {
    "duration": 27,
    "start_time": "2023-05-30T19:10:17.288Z"
   },
   {
    "duration": 14,
    "start_time": "2023-05-30T19:10:17.317Z"
   },
   {
    "duration": 11,
    "start_time": "2023-05-30T19:10:17.333Z"
   },
   {
    "duration": 5,
    "start_time": "2023-05-30T19:10:17.345Z"
   },
   {
    "duration": 14,
    "start_time": "2023-05-30T19:10:17.352Z"
   },
   {
    "duration": 8,
    "start_time": "2023-05-30T19:10:17.368Z"
   },
   {
    "duration": 13,
    "start_time": "2023-05-30T19:10:17.377Z"
   },
   {
    "duration": 30,
    "start_time": "2023-05-30T19:10:17.392Z"
   },
   {
    "duration": 8,
    "start_time": "2023-05-30T19:10:17.424Z"
   },
   {
    "duration": 6,
    "start_time": "2023-05-30T19:10:17.434Z"
   },
   {
    "duration": 14,
    "start_time": "2023-05-30T19:10:17.441Z"
   },
   {
    "duration": 9,
    "start_time": "2023-05-30T19:10:17.457Z"
   },
   {
    "duration": 9,
    "start_time": "2023-05-30T19:10:17.467Z"
   },
   {
    "duration": 5,
    "start_time": "2023-05-30T19:10:17.478Z"
   },
   {
    "duration": 34,
    "start_time": "2023-05-30T19:10:17.484Z"
   },
   {
    "duration": 10,
    "start_time": "2023-05-30T19:10:17.520Z"
   },
   {
    "duration": 4,
    "start_time": "2023-05-30T19:10:17.532Z"
   },
   {
    "duration": 182,
    "start_time": "2023-05-30T19:10:17.537Z"
   },
   {
    "duration": 6,
    "start_time": "2023-05-30T19:10:17.720Z"
   },
   {
    "duration": 10,
    "start_time": "2023-05-30T19:10:17.728Z"
   },
   {
    "duration": 8,
    "start_time": "2023-05-30T19:10:17.740Z"
   },
   {
    "duration": 170,
    "start_time": "2023-05-30T19:10:17.750Z"
   },
   {
    "duration": 190,
    "start_time": "2023-05-30T19:10:17.922Z"
   },
   {
    "duration": 172,
    "start_time": "2023-05-30T19:10:18.117Z"
   },
   {
    "duration": 10,
    "start_time": "2023-05-30T19:10:18.290Z"
   },
   {
    "duration": 25,
    "start_time": "2023-05-30T19:10:18.304Z"
   },
   {
    "duration": 9,
    "start_time": "2023-05-30T19:10:18.331Z"
   },
   {
    "duration": 34,
    "start_time": "2023-05-30T19:10:18.341Z"
   },
   {
    "duration": 19,
    "start_time": "2023-05-30T19:10:18.377Z"
   },
   {
    "duration": 13,
    "start_time": "2023-05-30T19:10:18.398Z"
   },
   {
    "duration": 22,
    "start_time": "2023-05-30T19:10:18.413Z"
   },
   {
    "duration": 30,
    "start_time": "2023-05-30T19:10:18.437Z"
   },
   {
    "duration": 160,
    "start_time": "2023-05-30T19:10:18.468Z"
   },
   {
    "duration": 169,
    "start_time": "2023-05-30T19:10:18.629Z"
   },
   {
    "duration": 147,
    "start_time": "2023-05-30T19:10:18.799Z"
   },
   {
    "duration": 154,
    "start_time": "2023-05-30T19:10:18.948Z"
   },
   {
    "duration": 842,
    "start_time": "2023-05-30T19:10:19.104Z"
   },
   {
    "duration": 14,
    "start_time": "2023-05-30T19:10:19.948Z"
   },
   {
    "duration": 7,
    "start_time": "2023-05-30T19:10:19.964Z"
   },
   {
    "duration": 399,
    "start_time": "2023-05-30T19:10:19.973Z"
   },
   {
    "duration": 365,
    "start_time": "2023-05-30T19:11:03.225Z"
   },
   {
    "duration": 290,
    "start_time": "2023-05-30T19:14:42.781Z"
   },
   {
    "duration": 348,
    "start_time": "2023-05-30T19:15:15.339Z"
   },
   {
    "duration": 20,
    "start_time": "2023-05-30T19:29:47.796Z"
   },
   {
    "duration": 224,
    "start_time": "2023-05-30T19:30:07.097Z"
   },
   {
    "duration": 4,
    "start_time": "2023-05-30T19:32:16.943Z"
   },
   {
    "duration": 1147,
    "start_time": "2023-05-30T19:32:29.223Z"
   },
   {
    "duration": 31,
    "start_time": "2023-05-30T19:32:30.372Z"
   },
   {
    "duration": 37,
    "start_time": "2023-05-30T19:32:30.405Z"
   },
   {
    "duration": 16,
    "start_time": "2023-05-30T19:32:30.444Z"
   },
   {
    "duration": 65,
    "start_time": "2023-05-30T19:32:30.462Z"
   },
   {
    "duration": 27,
    "start_time": "2023-05-30T19:32:30.529Z"
   },
   {
    "duration": 60,
    "start_time": "2023-05-30T19:32:30.558Z"
   },
   {
    "duration": 47,
    "start_time": "2023-05-30T19:32:30.620Z"
   },
   {
    "duration": 38,
    "start_time": "2023-05-30T19:32:30.668Z"
   },
   {
    "duration": 44,
    "start_time": "2023-05-30T19:32:30.707Z"
   },
   {
    "duration": 27,
    "start_time": "2023-05-30T19:32:30.752Z"
   },
   {
    "duration": 36,
    "start_time": "2023-05-30T19:32:30.781Z"
   },
   {
    "duration": 51,
    "start_time": "2023-05-30T19:32:30.818Z"
   },
   {
    "duration": 62,
    "start_time": "2023-05-30T19:32:30.872Z"
   },
   {
    "duration": 42,
    "start_time": "2023-05-30T19:32:30.936Z"
   },
   {
    "duration": 31,
    "start_time": "2023-05-30T19:32:30.980Z"
   },
   {
    "duration": 27,
    "start_time": "2023-05-30T19:32:31.013Z"
   },
   {
    "duration": 38,
    "start_time": "2023-05-30T19:32:31.042Z"
   },
   {
    "duration": 30,
    "start_time": "2023-05-30T19:32:31.082Z"
   },
   {
    "duration": 229,
    "start_time": "2023-05-30T19:32:31.114Z"
   },
   {
    "duration": 5,
    "start_time": "2023-05-30T19:32:31.345Z"
   },
   {
    "duration": 44,
    "start_time": "2023-05-30T19:32:31.352Z"
   },
   {
    "duration": 41,
    "start_time": "2023-05-30T19:32:31.399Z"
   },
   {
    "duration": 169,
    "start_time": "2023-05-30T19:32:31.442Z"
   },
   {
    "duration": 170,
    "start_time": "2023-05-30T19:32:31.613Z"
   },
   {
    "duration": 179,
    "start_time": "2023-05-30T19:32:31.785Z"
   },
   {
    "duration": 10,
    "start_time": "2023-05-30T19:32:31.966Z"
   },
   {
    "duration": 24,
    "start_time": "2023-05-30T19:32:31.978Z"
   },
   {
    "duration": 21,
    "start_time": "2023-05-30T19:32:32.005Z"
   },
   {
    "duration": 26,
    "start_time": "2023-05-30T19:32:32.028Z"
   },
   {
    "duration": 21,
    "start_time": "2023-05-30T19:32:32.056Z"
   },
   {
    "duration": 18,
    "start_time": "2023-05-30T19:32:32.079Z"
   },
   {
    "duration": 42,
    "start_time": "2023-05-30T19:32:32.099Z"
   },
   {
    "duration": 37,
    "start_time": "2023-05-30T19:32:32.143Z"
   },
   {
    "duration": 173,
    "start_time": "2023-05-30T19:32:32.182Z"
   },
   {
    "duration": 162,
    "start_time": "2023-05-30T19:32:32.357Z"
   },
   {
    "duration": 143,
    "start_time": "2023-05-30T19:32:32.521Z"
   },
   {
    "duration": 152,
    "start_time": "2023-05-30T19:32:32.665Z"
   },
   {
    "duration": 878,
    "start_time": "2023-05-30T19:32:32.819Z"
   },
   {
    "duration": 20,
    "start_time": "2023-05-30T19:32:33.698Z"
   },
   {
    "duration": 5,
    "start_time": "2023-05-30T19:32:33.722Z"
   },
   {
    "duration": 8,
    "start_time": "2023-05-30T19:32:33.728Z"
   },
   {
    "duration": 253,
    "start_time": "2023-05-30T19:32:33.737Z"
   },
   {
    "duration": 1346,
    "start_time": "2023-05-30T19:33:29.684Z"
   },
   {
    "duration": 4,
    "start_time": "2023-05-30T19:34:01.674Z"
   },
   {
    "duration": 1091,
    "start_time": "2023-05-30T19:34:11.127Z"
   },
   {
    "duration": 28,
    "start_time": "2023-05-30T19:34:12.220Z"
   },
   {
    "duration": 27,
    "start_time": "2023-05-30T19:34:12.250Z"
   },
   {
    "duration": 16,
    "start_time": "2023-05-30T19:34:12.279Z"
   },
   {
    "duration": 11,
    "start_time": "2023-05-30T19:34:12.297Z"
   },
   {
    "duration": 4,
    "start_time": "2023-05-30T19:34:12.309Z"
   },
   {
    "duration": 13,
    "start_time": "2023-05-30T19:34:12.314Z"
   },
   {
    "duration": 13,
    "start_time": "2023-05-30T19:34:12.328Z"
   },
   {
    "duration": 12,
    "start_time": "2023-05-30T19:34:12.342Z"
   },
   {
    "duration": 20,
    "start_time": "2023-05-30T19:34:12.356Z"
   },
   {
    "duration": 9,
    "start_time": "2023-05-30T19:34:12.377Z"
   },
   {
    "duration": 7,
    "start_time": "2023-05-30T19:34:12.387Z"
   },
   {
    "duration": 18,
    "start_time": "2023-05-30T19:34:12.395Z"
   },
   {
    "duration": 6,
    "start_time": "2023-05-30T19:34:12.415Z"
   },
   {
    "duration": 8,
    "start_time": "2023-05-30T19:34:12.422Z"
   },
   {
    "duration": 4,
    "start_time": "2023-05-30T19:34:12.431Z"
   },
   {
    "duration": 6,
    "start_time": "2023-05-30T19:34:12.436Z"
   },
   {
    "duration": 9,
    "start_time": "2023-05-30T19:34:12.444Z"
   },
   {
    "duration": 4,
    "start_time": "2023-05-30T19:34:12.454Z"
   },
   {
    "duration": 204,
    "start_time": "2023-05-30T19:34:12.459Z"
   },
   {
    "duration": 6,
    "start_time": "2023-05-30T19:34:12.664Z"
   },
   {
    "duration": 41,
    "start_time": "2023-05-30T19:34:12.671Z"
   },
   {
    "duration": 57,
    "start_time": "2023-05-30T19:34:12.713Z"
   },
   {
    "duration": 199,
    "start_time": "2023-05-30T19:34:12.771Z"
   },
   {
    "duration": 182,
    "start_time": "2023-05-30T19:34:12.972Z"
   },
   {
    "duration": 163,
    "start_time": "2023-05-30T19:34:13.156Z"
   },
   {
    "duration": 11,
    "start_time": "2023-05-30T19:34:13.321Z"
   },
   {
    "duration": 18,
    "start_time": "2023-05-30T19:34:13.334Z"
   },
   {
    "duration": 12,
    "start_time": "2023-05-30T19:34:13.354Z"
   },
   {
    "duration": 21,
    "start_time": "2023-05-30T19:34:13.367Z"
   },
   {
    "duration": 25,
    "start_time": "2023-05-30T19:34:13.389Z"
   },
   {
    "duration": 43,
    "start_time": "2023-05-30T19:34:13.418Z"
   },
   {
    "duration": 41,
    "start_time": "2023-05-30T19:34:13.463Z"
   },
   {
    "duration": 24,
    "start_time": "2023-05-30T19:34:13.506Z"
   },
   {
    "duration": 165,
    "start_time": "2023-05-30T19:34:13.532Z"
   },
   {
    "duration": 185,
    "start_time": "2023-05-30T19:34:13.698Z"
   },
   {
    "duration": 137,
    "start_time": "2023-05-30T19:34:13.885Z"
   },
   {
    "duration": 166,
    "start_time": "2023-05-30T19:34:14.024Z"
   },
   {
    "duration": 972,
    "start_time": "2023-05-30T19:34:14.192Z"
   },
   {
    "duration": 19,
    "start_time": "2023-05-30T19:34:15.166Z"
   },
   {
    "duration": 28,
    "start_time": "2023-05-30T19:34:15.190Z"
   },
   {
    "duration": 5,
    "start_time": "2023-05-30T19:34:15.221Z"
   },
   {
    "duration": 261,
    "start_time": "2023-05-30T19:34:15.227Z"
   },
   {
    "duration": 47,
    "start_time": "2023-05-31T16:51:55.746Z"
   },
   {
    "duration": 9,
    "start_time": "2023-05-31T16:52:10.323Z"
   },
   {
    "duration": 7,
    "start_time": "2023-05-31T16:52:36.877Z"
   },
   {
    "duration": 6,
    "start_time": "2023-05-31T17:08:20.439Z"
   },
   {
    "duration": 7,
    "start_time": "2023-05-31T17:08:22.214Z"
   },
   {
    "duration": 7,
    "start_time": "2023-05-31T17:08:27.698Z"
   },
   {
    "duration": 1199,
    "start_time": "2023-05-31T17:08:55.616Z"
   },
   {
    "duration": 103,
    "start_time": "2023-05-31T17:08:56.818Z"
   },
   {
    "duration": 378,
    "start_time": "2023-05-31T17:08:56.923Z"
   },
   {
    "duration": 55,
    "start_time": "2023-05-31T17:08:57.303Z"
   },
   {
    "duration": 12,
    "start_time": "2023-05-31T17:08:57.360Z"
   },
   {
    "duration": 8,
    "start_time": "2023-05-31T17:08:57.374Z"
   },
   {
    "duration": 21,
    "start_time": "2023-05-31T17:08:57.383Z"
   },
   {
    "duration": 22,
    "start_time": "2023-05-31T17:08:57.407Z"
   },
   {
    "duration": 11,
    "start_time": "2023-05-31T17:08:57.431Z"
   },
   {
    "duration": 17,
    "start_time": "2023-05-31T17:08:57.445Z"
   },
   {
    "duration": 15,
    "start_time": "2023-05-31T17:08:57.464Z"
   },
   {
    "duration": 23,
    "start_time": "2023-05-31T17:08:57.480Z"
   },
   {
    "duration": 17,
    "start_time": "2023-05-31T17:08:57.504Z"
   },
   {
    "duration": 15,
    "start_time": "2023-05-31T17:08:57.523Z"
   },
   {
    "duration": 35,
    "start_time": "2023-05-31T17:08:57.540Z"
   },
   {
    "duration": 28,
    "start_time": "2023-05-31T17:08:57.577Z"
   },
   {
    "duration": 8,
    "start_time": "2023-05-31T17:08:57.606Z"
   },
   {
    "duration": 29,
    "start_time": "2023-05-31T17:08:57.616Z"
   },
   {
    "duration": 8,
    "start_time": "2023-05-31T17:08:57.647Z"
   },
   {
    "duration": 161,
    "start_time": "2023-05-31T17:08:57.657Z"
   },
   {
    "duration": 6,
    "start_time": "2023-05-31T17:08:57.820Z"
   },
   {
    "duration": 7,
    "start_time": "2023-05-31T17:08:57.827Z"
   },
   {
    "duration": 21,
    "start_time": "2023-05-31T17:08:57.836Z"
   },
   {
    "duration": 166,
    "start_time": "2023-05-31T17:08:57.859Z"
   },
   {
    "duration": 178,
    "start_time": "2023-05-31T17:08:58.026Z"
   },
   {
    "duration": 174,
    "start_time": "2023-05-31T17:08:58.206Z"
   },
   {
    "duration": 11,
    "start_time": "2023-05-31T17:08:58.382Z"
   },
   {
    "duration": 24,
    "start_time": "2023-05-31T17:08:58.397Z"
   },
   {
    "duration": 11,
    "start_time": "2023-05-31T17:08:58.422Z"
   },
   {
    "duration": 38,
    "start_time": "2023-05-31T17:08:58.435Z"
   },
   {
    "duration": 7,
    "start_time": "2023-05-31T17:08:58.475Z"
   },
   {
    "duration": 7,
    "start_time": "2023-05-31T17:08:58.484Z"
   },
   {
    "duration": 19,
    "start_time": "2023-05-31T17:08:58.493Z"
   },
   {
    "duration": 44,
    "start_time": "2023-05-31T17:08:58.514Z"
   },
   {
    "duration": 167,
    "start_time": "2023-05-31T17:08:58.560Z"
   },
   {
    "duration": 209,
    "start_time": "2023-05-31T17:08:58.729Z"
   },
   {
    "duration": 189,
    "start_time": "2023-05-31T17:08:58.940Z"
   },
   {
    "duration": 182,
    "start_time": "2023-05-31T17:08:59.130Z"
   },
   {
    "duration": 751,
    "start_time": "2023-05-31T17:08:59.313Z"
   },
   {
    "duration": 14,
    "start_time": "2023-05-31T17:09:00.065Z"
   },
   {
    "duration": 31,
    "start_time": "2023-05-31T17:09:00.081Z"
   },
   {
    "duration": 7,
    "start_time": "2023-05-31T17:09:00.114Z"
   },
   {
    "duration": 229,
    "start_time": "2023-05-31T17:09:00.123Z"
   },
   {
    "duration": 32,
    "start_time": "2023-05-31T17:09:00.357Z"
   },
   {
    "duration": 44,
    "start_time": "2023-05-31T17:09:00.390Z"
   },
   {
    "duration": 315,
    "start_time": "2023-05-31T17:20:19.575Z"
   },
   {
    "duration": 252,
    "start_time": "2023-05-31T17:21:09.701Z"
   },
   {
    "duration": 209,
    "start_time": "2023-05-31T17:24:16.266Z"
   },
   {
    "duration": 322,
    "start_time": "2023-05-31T17:24:28.945Z"
   },
   {
    "duration": 1089,
    "start_time": "2023-05-31T17:26:19.698Z"
   },
   {
    "duration": 29,
    "start_time": "2023-05-31T17:26:20.789Z"
   },
   {
    "duration": 25,
    "start_time": "2023-05-31T17:26:20.820Z"
   },
   {
    "duration": 17,
    "start_time": "2023-05-31T17:26:20.847Z"
   },
   {
    "duration": 13,
    "start_time": "2023-05-31T17:26:20.866Z"
   },
   {
    "duration": 5,
    "start_time": "2023-05-31T17:26:20.880Z"
   },
   {
    "duration": 12,
    "start_time": "2023-05-31T17:26:20.886Z"
   },
   {
    "duration": 34,
    "start_time": "2023-05-31T17:26:20.900Z"
   },
   {
    "duration": 19,
    "start_time": "2023-05-31T17:26:20.935Z"
   },
   {
    "duration": 6,
    "start_time": "2023-05-31T17:26:20.957Z"
   },
   {
    "duration": 11,
    "start_time": "2023-05-31T17:26:20.964Z"
   },
   {
    "duration": 5,
    "start_time": "2023-05-31T17:26:20.977Z"
   },
   {
    "duration": 9,
    "start_time": "2023-05-31T17:26:20.983Z"
   },
   {
    "duration": 18,
    "start_time": "2023-05-31T17:26:20.994Z"
   },
   {
    "duration": 8,
    "start_time": "2023-05-31T17:26:21.014Z"
   },
   {
    "duration": 10,
    "start_time": "2023-05-31T17:26:21.024Z"
   },
   {
    "duration": 24,
    "start_time": "2023-05-31T17:26:21.036Z"
   },
   {
    "duration": 18,
    "start_time": "2023-05-31T17:26:21.061Z"
   },
   {
    "duration": 4,
    "start_time": "2023-05-31T17:26:21.081Z"
   },
   {
    "duration": 185,
    "start_time": "2023-05-31T17:26:21.087Z"
   },
   {
    "duration": 5,
    "start_time": "2023-05-31T17:26:21.274Z"
   },
   {
    "duration": 8,
    "start_time": "2023-05-31T17:26:21.280Z"
   },
   {
    "duration": 16,
    "start_time": "2023-05-31T17:26:21.289Z"
   },
   {
    "duration": 170,
    "start_time": "2023-05-31T17:26:21.306Z"
   },
   {
    "duration": 180,
    "start_time": "2023-05-31T17:26:21.477Z"
   },
   {
    "duration": 186,
    "start_time": "2023-05-31T17:26:21.658Z"
   },
   {
    "duration": 14,
    "start_time": "2023-05-31T17:26:21.846Z"
   },
   {
    "duration": 20,
    "start_time": "2023-05-31T17:26:21.863Z"
   },
   {
    "duration": 8,
    "start_time": "2023-05-31T17:26:21.885Z"
   },
   {
    "duration": 21,
    "start_time": "2023-05-31T17:26:21.895Z"
   },
   {
    "duration": 10,
    "start_time": "2023-05-31T17:26:21.917Z"
   },
   {
    "duration": 32,
    "start_time": "2023-05-31T17:26:21.929Z"
   },
   {
    "duration": 29,
    "start_time": "2023-05-31T17:26:21.962Z"
   },
   {
    "duration": 21,
    "start_time": "2023-05-31T17:26:21.993Z"
   },
   {
    "duration": 176,
    "start_time": "2023-05-31T17:26:22.015Z"
   },
   {
    "duration": 188,
    "start_time": "2023-05-31T17:26:22.193Z"
   },
   {
    "duration": 159,
    "start_time": "2023-05-31T17:26:22.383Z"
   },
   {
    "duration": 162,
    "start_time": "2023-05-31T17:26:22.544Z"
   },
   {
    "duration": 864,
    "start_time": "2023-05-31T17:26:22.708Z"
   },
   {
    "duration": 15,
    "start_time": "2023-05-31T17:26:23.574Z"
   },
   {
    "duration": 12,
    "start_time": "2023-05-31T17:26:23.590Z"
   },
   {
    "duration": 6,
    "start_time": "2023-05-31T17:26:23.604Z"
   },
   {
    "duration": 245,
    "start_time": "2023-05-31T17:26:23.611Z"
   },
   {
    "duration": 34,
    "start_time": "2023-05-31T17:26:23.858Z"
   },
   {
    "duration": 34,
    "start_time": "2023-05-31T17:26:23.893Z"
   },
   {
    "duration": 368,
    "start_time": "2023-05-31T17:26:23.929Z"
   },
   {
    "duration": 226,
    "start_time": "2023-05-31T17:26:24.299Z"
   },
   {
    "duration": 241,
    "start_time": "2023-05-31T17:30:46.286Z"
   },
   {
    "duration": 316,
    "start_time": "2023-05-31T17:30:58.403Z"
   },
   {
    "duration": 262,
    "start_time": "2023-05-31T17:31:46.122Z"
   },
   {
    "duration": 244,
    "start_time": "2023-05-31T17:31:56.984Z"
   },
   {
    "duration": 392,
    "start_time": "2023-05-31T17:34:13.056Z"
   },
   {
    "duration": 258,
    "start_time": "2023-05-31T17:34:19.328Z"
   },
   {
    "duration": 254,
    "start_time": "2023-05-31T17:34:26.374Z"
   },
   {
    "duration": 241,
    "start_time": "2023-05-31T17:34:30.243Z"
   },
   {
    "duration": 257,
    "start_time": "2023-05-31T17:34:33.294Z"
   },
   {
    "duration": 252,
    "start_time": "2023-05-31T17:34:36.612Z"
   },
   {
    "duration": 377,
    "start_time": "2023-05-31T17:34:39.960Z"
   },
   {
    "duration": 241,
    "start_time": "2023-05-31T17:34:50.640Z"
   },
   {
    "duration": 249,
    "start_time": "2023-05-31T17:35:35.320Z"
   },
   {
    "duration": 256,
    "start_time": "2023-05-31T17:35:46.802Z"
   },
   {
    "duration": 277,
    "start_time": "2023-05-31T17:36:34.621Z"
   },
   {
    "duration": 252,
    "start_time": "2023-05-31T17:38:55.946Z"
   },
   {
    "duration": 805,
    "start_time": "2023-05-31T17:39:50.448Z"
   },
   {
    "duration": 969,
    "start_time": "2023-05-31T17:51:41.008Z"
   },
   {
    "duration": 558,
    "start_time": "2023-05-31T17:53:19.530Z"
   },
   {
    "duration": 239,
    "start_time": "2023-05-31T17:55:45.972Z"
   },
   {
    "duration": 557,
    "start_time": "2023-05-31T18:00:54.636Z"
   },
   {
    "duration": 240,
    "start_time": "2023-05-31T18:02:47.998Z"
   },
   {
    "duration": 273,
    "start_time": "2023-05-31T18:04:40.100Z"
   },
   {
    "duration": 319,
    "start_time": "2023-05-31T18:09:45.922Z"
   },
   {
    "duration": 847,
    "start_time": "2023-05-31T18:10:04.880Z"
   },
   {
    "duration": 135,
    "start_time": "2023-05-31T18:34:21.693Z"
   },
   {
    "duration": 6,
    "start_time": "2023-05-31T18:37:26.946Z"
   },
   {
    "duration": 6,
    "start_time": "2023-05-31T18:42:50.684Z"
   },
   {
    "duration": 257,
    "start_time": "2023-05-31T18:43:59.404Z"
   },
   {
    "duration": 7,
    "start_time": "2023-05-31T18:55:54.621Z"
   },
   {
    "duration": 15,
    "start_time": "2023-05-31T19:04:51.974Z"
   },
   {
    "duration": 1238,
    "start_time": "2023-05-31T19:06:39.764Z"
   },
   {
    "duration": 28,
    "start_time": "2023-05-31T19:06:41.005Z"
   },
   {
    "duration": 38,
    "start_time": "2023-05-31T19:06:41.035Z"
   },
   {
    "duration": 20,
    "start_time": "2023-05-31T19:06:41.075Z"
   },
   {
    "duration": 17,
    "start_time": "2023-05-31T19:06:41.099Z"
   },
   {
    "duration": 6,
    "start_time": "2023-05-31T19:06:41.118Z"
   },
   {
    "duration": 13,
    "start_time": "2023-05-31T19:06:41.126Z"
   },
   {
    "duration": 22,
    "start_time": "2023-05-31T19:06:41.141Z"
   },
   {
    "duration": 19,
    "start_time": "2023-05-31T19:06:41.168Z"
   },
   {
    "duration": 15,
    "start_time": "2023-05-31T19:06:41.189Z"
   },
   {
    "duration": 19,
    "start_time": "2023-05-31T19:06:41.221Z"
   },
   {
    "duration": 6,
    "start_time": "2023-05-31T19:06:41.242Z"
   },
   {
    "duration": 24,
    "start_time": "2023-05-31T19:06:41.250Z"
   },
   {
    "duration": 17,
    "start_time": "2023-05-31T19:06:41.278Z"
   },
   {
    "duration": 28,
    "start_time": "2023-05-31T19:06:41.297Z"
   },
   {
    "duration": 15,
    "start_time": "2023-05-31T19:06:41.328Z"
   },
   {
    "duration": 9,
    "start_time": "2023-05-31T19:06:41.346Z"
   },
   {
    "duration": 23,
    "start_time": "2023-05-31T19:06:41.358Z"
   },
   {
    "duration": 21,
    "start_time": "2023-05-31T19:06:41.383Z"
   },
   {
    "duration": 196,
    "start_time": "2023-05-31T19:06:41.407Z"
   },
   {
    "duration": 9,
    "start_time": "2023-05-31T19:06:41.606Z"
   },
   {
    "duration": 10,
    "start_time": "2023-05-31T19:06:41.617Z"
   },
   {
    "duration": 33,
    "start_time": "2023-05-31T19:06:41.630Z"
   },
   {
    "duration": 247,
    "start_time": "2023-05-31T19:06:41.665Z"
   },
   {
    "duration": 211,
    "start_time": "2023-05-31T19:06:41.914Z"
   },
   {
    "duration": 207,
    "start_time": "2023-05-31T19:06:42.128Z"
   },
   {
    "duration": 25,
    "start_time": "2023-05-31T19:06:42.337Z"
   },
   {
    "duration": 24,
    "start_time": "2023-05-31T19:06:42.368Z"
   },
   {
    "duration": 11,
    "start_time": "2023-05-31T19:06:42.399Z"
   },
   {
    "duration": 31,
    "start_time": "2023-05-31T19:06:42.413Z"
   },
   {
    "duration": 17,
    "start_time": "2023-05-31T19:06:42.446Z"
   },
   {
    "duration": 11,
    "start_time": "2023-05-31T19:06:42.468Z"
   },
   {
    "duration": 30,
    "start_time": "2023-05-31T19:06:42.481Z"
   },
   {
    "duration": 25,
    "start_time": "2023-05-31T19:06:42.514Z"
   },
   {
    "duration": 268,
    "start_time": "2023-05-31T19:06:42.541Z"
   },
   {
    "duration": 274,
    "start_time": "2023-05-31T19:06:42.815Z"
   },
   {
    "duration": 271,
    "start_time": "2023-05-31T19:06:43.091Z"
   },
   {
    "duration": 293,
    "start_time": "2023-05-31T19:06:43.365Z"
   },
   {
    "duration": 915,
    "start_time": "2023-05-31T19:06:43.660Z"
   },
   {
    "duration": 23,
    "start_time": "2023-05-31T19:06:44.579Z"
   },
   {
    "duration": 30,
    "start_time": "2023-05-31T19:06:44.608Z"
   },
   {
    "duration": 20,
    "start_time": "2023-05-31T19:06:44.640Z"
   },
   {
    "duration": 386,
    "start_time": "2023-05-31T19:06:44.662Z"
   },
   {
    "duration": 48,
    "start_time": "2023-05-31T19:06:45.050Z"
   },
   {
    "duration": 34,
    "start_time": "2023-05-31T19:06:45.099Z"
   },
   {
    "duration": 456,
    "start_time": "2023-05-31T19:06:45.137Z"
   },
   {
    "duration": 329,
    "start_time": "2023-05-31T19:06:45.601Z"
   },
   {
    "duration": 160,
    "start_time": "2023-05-31T19:06:45.933Z"
   },
   {
    "duration": 0,
    "start_time": "2023-05-31T19:06:46.095Z"
   },
   {
    "duration": 0,
    "start_time": "2023-05-31T19:06:46.097Z"
   },
   {
    "duration": 0,
    "start_time": "2023-05-31T19:06:46.098Z"
   },
   {
    "duration": 0,
    "start_time": "2023-05-31T19:06:46.100Z"
   },
   {
    "duration": 1250,
    "start_time": "2023-05-31T19:09:39.273Z"
   },
   {
    "duration": 32,
    "start_time": "2023-05-31T19:09:40.525Z"
   },
   {
    "duration": 36,
    "start_time": "2023-05-31T19:09:40.560Z"
   },
   {
    "duration": 17,
    "start_time": "2023-05-31T19:09:40.598Z"
   },
   {
    "duration": 15,
    "start_time": "2023-05-31T19:09:40.618Z"
   },
   {
    "duration": 6,
    "start_time": "2023-05-31T19:09:40.635Z"
   },
   {
    "duration": 27,
    "start_time": "2023-05-31T19:09:40.643Z"
   },
   {
    "duration": 11,
    "start_time": "2023-05-31T19:09:40.672Z"
   },
   {
    "duration": 12,
    "start_time": "2023-05-31T19:09:40.685Z"
   },
   {
    "duration": 7,
    "start_time": "2023-05-31T19:09:40.699Z"
   },
   {
    "duration": 16,
    "start_time": "2023-05-31T19:09:40.708Z"
   },
   {
    "duration": 37,
    "start_time": "2023-05-31T19:09:40.727Z"
   },
   {
    "duration": 10,
    "start_time": "2023-05-31T19:09:40.773Z"
   },
   {
    "duration": 14,
    "start_time": "2023-05-31T19:09:40.786Z"
   },
   {
    "duration": 7,
    "start_time": "2023-05-31T19:09:40.802Z"
   },
   {
    "duration": 6,
    "start_time": "2023-05-31T19:09:40.811Z"
   },
   {
    "duration": 7,
    "start_time": "2023-05-31T19:09:40.818Z"
   },
   {
    "duration": 31,
    "start_time": "2023-05-31T19:09:40.827Z"
   },
   {
    "duration": 14,
    "start_time": "2023-05-31T19:09:40.860Z"
   },
   {
    "duration": 189,
    "start_time": "2023-05-31T19:09:40.877Z"
   },
   {
    "duration": 8,
    "start_time": "2023-05-31T19:09:41.073Z"
   },
   {
    "duration": 12,
    "start_time": "2023-05-31T19:09:41.083Z"
   },
   {
    "duration": 17,
    "start_time": "2023-05-31T19:09:41.098Z"
   },
   {
    "duration": 179,
    "start_time": "2023-05-31T19:09:41.117Z"
   },
   {
    "duration": 201,
    "start_time": "2023-05-31T19:09:41.298Z"
   },
   {
    "duration": 209,
    "start_time": "2023-05-31T19:09:41.502Z"
   },
   {
    "duration": 11,
    "start_time": "2023-05-31T19:09:41.713Z"
   },
   {
    "duration": 48,
    "start_time": "2023-05-31T19:09:41.726Z"
   },
   {
    "duration": 14,
    "start_time": "2023-05-31T19:09:41.776Z"
   },
   {
    "duration": 33,
    "start_time": "2023-05-31T19:09:41.792Z"
   },
   {
    "duration": 8,
    "start_time": "2023-05-31T19:09:41.827Z"
   },
   {
    "duration": 25,
    "start_time": "2023-05-31T19:09:41.836Z"
   },
   {
    "duration": 26,
    "start_time": "2023-05-31T19:09:41.863Z"
   },
   {
    "duration": 42,
    "start_time": "2023-05-31T19:09:41.890Z"
   },
   {
    "duration": 200,
    "start_time": "2023-05-31T19:09:41.934Z"
   },
   {
    "duration": 202,
    "start_time": "2023-05-31T19:09:42.135Z"
   },
   {
    "duration": 185,
    "start_time": "2023-05-31T19:09:42.339Z"
   },
   {
    "duration": 194,
    "start_time": "2023-05-31T19:09:42.526Z"
   },
   {
    "duration": 952,
    "start_time": "2023-05-31T19:09:42.722Z"
   },
   {
    "duration": 16,
    "start_time": "2023-05-31T19:09:43.676Z"
   },
   {
    "duration": 5,
    "start_time": "2023-05-31T19:09:43.696Z"
   },
   {
    "duration": 7,
    "start_time": "2023-05-31T19:09:43.703Z"
   },
   {
    "duration": 400,
    "start_time": "2023-05-31T19:09:43.712Z"
   },
   {
    "duration": 50,
    "start_time": "2023-05-31T19:09:44.114Z"
   },
   {
    "duration": 45,
    "start_time": "2023-05-31T19:09:44.168Z"
   },
   {
    "duration": 432,
    "start_time": "2023-05-31T19:09:44.216Z"
   },
   {
    "duration": 290,
    "start_time": "2023-05-31T19:09:44.651Z"
   },
   {
    "duration": 135,
    "start_time": "2023-05-31T19:09:44.944Z"
   },
   {
    "duration": 0,
    "start_time": "2023-05-31T19:09:45.082Z"
   },
   {
    "duration": 0,
    "start_time": "2023-05-31T19:09:45.084Z"
   },
   {
    "duration": 0,
    "start_time": "2023-05-31T19:09:45.084Z"
   },
   {
    "duration": 13,
    "start_time": "2023-05-31T19:12:01.532Z"
   },
   {
    "duration": 12,
    "start_time": "2023-05-31T19:14:35.333Z"
   },
   {
    "duration": 106,
    "start_time": "2023-05-31T19:16:44.916Z"
   },
   {
    "duration": 13,
    "start_time": "2023-05-31T19:17:16.509Z"
   },
   {
    "duration": 12,
    "start_time": "2023-05-31T19:18:20.428Z"
   },
   {
    "duration": 7,
    "start_time": "2023-05-31T19:20:31.883Z"
   },
   {
    "duration": 6,
    "start_time": "2023-05-31T19:26:07.322Z"
   },
   {
    "duration": 7,
    "start_time": "2023-05-31T19:26:45.042Z"
   },
   {
    "duration": 8,
    "start_time": "2023-05-31T19:28:39.456Z"
   },
   {
    "duration": 1191,
    "start_time": "2023-05-31T19:29:54.392Z"
   },
   {
    "duration": 36,
    "start_time": "2023-05-31T19:29:55.586Z"
   },
   {
    "duration": 27,
    "start_time": "2023-05-31T19:29:55.624Z"
   },
   {
    "duration": 24,
    "start_time": "2023-05-31T19:29:55.653Z"
   },
   {
    "duration": 21,
    "start_time": "2023-05-31T19:29:55.679Z"
   },
   {
    "duration": 23,
    "start_time": "2023-05-31T19:29:55.702Z"
   },
   {
    "duration": 46,
    "start_time": "2023-05-31T19:29:55.728Z"
   },
   {
    "duration": 14,
    "start_time": "2023-05-31T19:29:55.776Z"
   },
   {
    "duration": 31,
    "start_time": "2023-05-31T19:29:55.792Z"
   },
   {
    "duration": 18,
    "start_time": "2023-05-31T19:29:55.825Z"
   },
   {
    "duration": 24,
    "start_time": "2023-05-31T19:29:55.846Z"
   },
   {
    "duration": 6,
    "start_time": "2023-05-31T19:29:55.873Z"
   },
   {
    "duration": 12,
    "start_time": "2023-05-31T19:29:55.881Z"
   },
   {
    "duration": 6,
    "start_time": "2023-05-31T19:29:55.897Z"
   },
   {
    "duration": 17,
    "start_time": "2023-05-31T19:29:55.905Z"
   },
   {
    "duration": 18,
    "start_time": "2023-05-31T19:29:55.923Z"
   },
   {
    "duration": 23,
    "start_time": "2023-05-31T19:29:55.942Z"
   },
   {
    "duration": 16,
    "start_time": "2023-05-31T19:29:55.967Z"
   },
   {
    "duration": 5,
    "start_time": "2023-05-31T19:29:55.985Z"
   },
   {
    "duration": 193,
    "start_time": "2023-05-31T19:29:55.991Z"
   },
   {
    "duration": 7,
    "start_time": "2023-05-31T19:29:56.186Z"
   },
   {
    "duration": 17,
    "start_time": "2023-05-31T19:29:56.194Z"
   },
   {
    "duration": 11,
    "start_time": "2023-05-31T19:29:56.213Z"
   },
   {
    "duration": 180,
    "start_time": "2023-05-31T19:29:56.226Z"
   },
   {
    "duration": 193,
    "start_time": "2023-05-31T19:29:56.408Z"
   },
   {
    "duration": 198,
    "start_time": "2023-05-31T19:29:56.603Z"
   },
   {
    "duration": 11,
    "start_time": "2023-05-31T19:29:56.803Z"
   },
   {
    "duration": 43,
    "start_time": "2023-05-31T19:29:56.816Z"
   },
   {
    "duration": 14,
    "start_time": "2023-05-31T19:29:56.861Z"
   },
   {
    "duration": 20,
    "start_time": "2023-05-31T19:29:56.877Z"
   },
   {
    "duration": 8,
    "start_time": "2023-05-31T19:29:56.899Z"
   },
   {
    "duration": 5,
    "start_time": "2023-05-31T19:29:56.909Z"
   },
   {
    "duration": 55,
    "start_time": "2023-05-31T19:29:56.916Z"
   },
   {
    "duration": 19,
    "start_time": "2023-05-31T19:29:56.973Z"
   },
   {
    "duration": 188,
    "start_time": "2023-05-31T19:29:56.994Z"
   },
   {
    "duration": 204,
    "start_time": "2023-05-31T19:29:57.184Z"
   },
   {
    "duration": 176,
    "start_time": "2023-05-31T19:29:57.390Z"
   },
   {
    "duration": 173,
    "start_time": "2023-05-31T19:29:57.569Z"
   },
   {
    "duration": 840,
    "start_time": "2023-05-31T19:29:57.743Z"
   },
   {
    "duration": 16,
    "start_time": "2023-05-31T19:29:58.585Z"
   },
   {
    "duration": 7,
    "start_time": "2023-05-31T19:29:58.605Z"
   },
   {
    "duration": 12,
    "start_time": "2023-05-31T19:29:58.614Z"
   },
   {
    "duration": 378,
    "start_time": "2023-05-31T19:29:58.628Z"
   },
   {
    "duration": 51,
    "start_time": "2023-05-31T19:29:59.009Z"
   },
   {
    "duration": 52,
    "start_time": "2023-05-31T19:29:59.062Z"
   },
   {
    "duration": 379,
    "start_time": "2023-05-31T19:29:59.117Z"
   },
   {
    "duration": 261,
    "start_time": "2023-05-31T19:29:59.498Z"
   },
   {
    "duration": 7,
    "start_time": "2023-05-31T19:29:59.760Z"
   },
   {
    "duration": 139,
    "start_time": "2023-05-31T19:29:59.769Z"
   },
   {
    "duration": 6,
    "start_time": "2023-05-31T19:29:59.911Z"
   },
   {
    "duration": 115,
    "start_time": "2023-05-31T19:29:59.919Z"
   },
   {
    "duration": 12,
    "start_time": "2023-05-31T19:43:20.740Z"
   },
   {
    "duration": 1106,
    "start_time": "2023-05-31T19:43:39.415Z"
   },
   {
    "duration": 28,
    "start_time": "2023-05-31T19:43:40.523Z"
   },
   {
    "duration": 32,
    "start_time": "2023-05-31T19:43:40.553Z"
   },
   {
    "duration": 15,
    "start_time": "2023-05-31T19:43:40.586Z"
   },
   {
    "duration": 14,
    "start_time": "2023-05-31T19:43:40.603Z"
   },
   {
    "duration": 4,
    "start_time": "2023-05-31T19:43:40.619Z"
   },
   {
    "duration": 13,
    "start_time": "2023-05-31T19:43:40.625Z"
   },
   {
    "duration": 30,
    "start_time": "2023-05-31T19:43:40.640Z"
   },
   {
    "duration": 16,
    "start_time": "2023-05-31T19:43:40.672Z"
   },
   {
    "duration": 9,
    "start_time": "2023-05-31T19:43:40.690Z"
   },
   {
    "duration": 11,
    "start_time": "2023-05-31T19:43:40.701Z"
   },
   {
    "duration": 6,
    "start_time": "2023-05-31T19:43:40.714Z"
   },
   {
    "duration": 11,
    "start_time": "2023-05-31T19:43:40.722Z"
   },
   {
    "duration": 13,
    "start_time": "2023-05-31T19:43:40.757Z"
   },
   {
    "duration": 7,
    "start_time": "2023-05-31T19:43:40.772Z"
   },
   {
    "duration": 5,
    "start_time": "2023-05-31T19:43:40.780Z"
   },
   {
    "duration": 5,
    "start_time": "2023-05-31T19:43:40.786Z"
   },
   {
    "duration": 10,
    "start_time": "2023-05-31T19:43:40.793Z"
   },
   {
    "duration": 5,
    "start_time": "2023-05-31T19:43:40.804Z"
   },
   {
    "duration": 213,
    "start_time": "2023-05-31T19:43:40.810Z"
   },
   {
    "duration": 7,
    "start_time": "2023-05-31T19:43:41.025Z"
   },
   {
    "duration": 14,
    "start_time": "2023-05-31T19:43:41.033Z"
   },
   {
    "duration": 26,
    "start_time": "2023-05-31T19:43:41.048Z"
   },
   {
    "duration": 175,
    "start_time": "2023-05-31T19:43:41.076Z"
   },
   {
    "duration": 186,
    "start_time": "2023-05-31T19:43:41.256Z"
   },
   {
    "duration": 187,
    "start_time": "2023-05-31T19:43:41.444Z"
   },
   {
    "duration": 11,
    "start_time": "2023-05-31T19:43:41.633Z"
   },
   {
    "duration": 20,
    "start_time": "2023-05-31T19:43:41.658Z"
   },
   {
    "duration": 14,
    "start_time": "2023-05-31T19:43:41.680Z"
   },
   {
    "duration": 19,
    "start_time": "2023-05-31T19:43:41.696Z"
   },
   {
    "duration": 9,
    "start_time": "2023-05-31T19:43:41.717Z"
   },
   {
    "duration": 6,
    "start_time": "2023-05-31T19:43:41.728Z"
   },
   {
    "duration": 26,
    "start_time": "2023-05-31T19:43:41.759Z"
   },
   {
    "duration": 30,
    "start_time": "2023-05-31T19:43:41.787Z"
   },
   {
    "duration": 183,
    "start_time": "2023-05-31T19:43:41.819Z"
   },
   {
    "duration": 186,
    "start_time": "2023-05-31T19:43:42.004Z"
   },
   {
    "duration": 156,
    "start_time": "2023-05-31T19:43:42.192Z"
   },
   {
    "duration": 171,
    "start_time": "2023-05-31T19:43:42.350Z"
   },
   {
    "duration": 793,
    "start_time": "2023-05-31T19:43:42.523Z"
   },
   {
    "duration": 16,
    "start_time": "2023-05-31T19:43:43.318Z"
   },
   {
    "duration": 27,
    "start_time": "2023-05-31T19:43:43.337Z"
   },
   {
    "duration": 6,
    "start_time": "2023-05-31T19:43:43.365Z"
   },
   {
    "duration": 330,
    "start_time": "2023-05-31T19:43:43.375Z"
   },
   {
    "duration": 33,
    "start_time": "2023-05-31T19:43:43.707Z"
   },
   {
    "duration": 60,
    "start_time": "2023-05-31T19:43:43.743Z"
   },
   {
    "duration": 371,
    "start_time": "2023-05-31T19:43:43.805Z"
   },
   {
    "duration": 247,
    "start_time": "2023-05-31T19:43:44.177Z"
   },
   {
    "duration": 6,
    "start_time": "2023-05-31T19:43:44.425Z"
   },
   {
    "duration": 143,
    "start_time": "2023-05-31T19:43:44.432Z"
   },
   {
    "duration": 6,
    "start_time": "2023-05-31T19:43:44.577Z"
   },
   {
    "duration": 16,
    "start_time": "2023-05-31T19:43:44.584Z"
   },
   {
    "duration": 9,
    "start_time": "2023-05-31T19:44:04.081Z"
   },
   {
    "duration": 50,
    "start_time": "2023-06-01T03:46:42.134Z"
   },
   {
    "duration": 1372,
    "start_time": "2023-06-01T03:52:47.658Z"
   },
   {
    "duration": 75,
    "start_time": "2023-06-01T03:52:49.033Z"
   },
   {
    "duration": 68,
    "start_time": "2023-06-01T03:52:49.110Z"
   },
   {
    "duration": 51,
    "start_time": "2023-06-01T03:52:49.179Z"
   },
   {
    "duration": 14,
    "start_time": "2023-06-01T03:52:49.232Z"
   },
   {
    "duration": 7,
    "start_time": "2023-06-01T03:52:49.248Z"
   },
   {
    "duration": 23,
    "start_time": "2023-06-01T03:52:49.257Z"
   },
   {
    "duration": 13,
    "start_time": "2023-06-01T03:52:49.283Z"
   },
   {
    "duration": 35,
    "start_time": "2023-06-01T03:52:49.298Z"
   },
   {
    "duration": 11,
    "start_time": "2023-06-01T03:52:49.335Z"
   },
   {
    "duration": 15,
    "start_time": "2023-06-01T03:52:49.348Z"
   },
   {
    "duration": 6,
    "start_time": "2023-06-01T03:52:49.365Z"
   },
   {
    "duration": 21,
    "start_time": "2023-06-01T03:52:49.372Z"
   },
   {
    "duration": 13,
    "start_time": "2023-06-01T03:52:49.397Z"
   },
   {
    "duration": 11,
    "start_time": "2023-06-01T03:52:49.412Z"
   },
   {
    "duration": 19,
    "start_time": "2023-06-01T03:52:49.424Z"
   },
   {
    "duration": 9,
    "start_time": "2023-06-01T03:52:49.445Z"
   },
   {
    "duration": 7,
    "start_time": "2023-06-01T03:52:49.456Z"
   },
   {
    "duration": 16,
    "start_time": "2023-06-01T03:52:49.465Z"
   },
   {
    "duration": 7,
    "start_time": "2023-06-01T03:52:49.483Z"
   },
   {
    "duration": 189,
    "start_time": "2023-06-01T03:52:49.492Z"
   },
   {
    "duration": 6,
    "start_time": "2023-06-01T03:52:49.683Z"
   },
   {
    "duration": 12,
    "start_time": "2023-06-01T03:52:49.690Z"
   },
   {
    "duration": 8,
    "start_time": "2023-06-01T03:52:49.703Z"
   },
   {
    "duration": 174,
    "start_time": "2023-06-01T03:52:49.713Z"
   },
   {
    "duration": 197,
    "start_time": "2023-06-01T03:52:49.889Z"
   },
   {
    "duration": 194,
    "start_time": "2023-06-01T03:52:50.088Z"
   },
   {
    "duration": 12,
    "start_time": "2023-06-01T03:52:50.283Z"
   },
   {
    "duration": 19,
    "start_time": "2023-06-01T03:52:50.296Z"
   },
   {
    "duration": 28,
    "start_time": "2023-06-01T03:52:50.317Z"
   },
   {
    "duration": 20,
    "start_time": "2023-06-01T03:52:50.347Z"
   },
   {
    "duration": 11,
    "start_time": "2023-06-01T03:52:50.369Z"
   },
   {
    "duration": 6,
    "start_time": "2023-06-01T03:52:50.382Z"
   },
   {
    "duration": 23,
    "start_time": "2023-06-01T03:52:50.389Z"
   },
   {
    "duration": 43,
    "start_time": "2023-06-01T03:52:50.413Z"
   },
   {
    "duration": 181,
    "start_time": "2023-06-01T03:52:50.457Z"
   },
   {
    "duration": 181,
    "start_time": "2023-06-01T03:52:50.641Z"
   },
   {
    "duration": 161,
    "start_time": "2023-06-01T03:52:50.824Z"
   },
   {
    "duration": 173,
    "start_time": "2023-06-01T03:52:50.987Z"
   },
   {
    "duration": 774,
    "start_time": "2023-06-01T03:52:51.161Z"
   },
   {
    "duration": 16,
    "start_time": "2023-06-01T03:52:51.941Z"
   },
   {
    "duration": 4,
    "start_time": "2023-06-01T03:52:51.959Z"
   },
   {
    "duration": 7,
    "start_time": "2023-06-01T03:52:51.964Z"
   },
   {
    "duration": 317,
    "start_time": "2023-06-01T03:52:51.973Z"
   },
   {
    "duration": 30,
    "start_time": "2023-06-01T03:52:52.291Z"
   },
   {
    "duration": 40,
    "start_time": "2023-06-01T03:52:52.323Z"
   },
   {
    "duration": 333,
    "start_time": "2023-06-01T03:52:52.365Z"
   },
   {
    "duration": 223,
    "start_time": "2023-06-01T03:52:52.699Z"
   },
   {
    "duration": 6,
    "start_time": "2023-06-01T03:52:52.924Z"
   },
   {
    "duration": 122,
    "start_time": "2023-06-01T03:52:52.942Z"
   },
   {
    "duration": 6,
    "start_time": "2023-06-01T03:52:53.065Z"
   },
   {
    "duration": 15,
    "start_time": "2023-06-01T03:52:53.072Z"
   },
   {
    "duration": 4,
    "start_time": "2023-06-01T03:52:53.088Z"
   },
   {
    "duration": 6,
    "start_time": "2023-06-01T03:53:41.468Z"
   },
   {
    "duration": 9,
    "start_time": "2023-06-01T03:54:14.823Z"
   },
   {
    "duration": 9,
    "start_time": "2023-06-01T03:54:45.745Z"
   },
   {
    "duration": 11,
    "start_time": "2023-06-01T03:55:48.798Z"
   },
   {
    "duration": 16,
    "start_time": "2023-06-01T03:57:02.588Z"
   },
   {
    "duration": 78,
    "start_time": "2023-06-01T17:40:31.130Z"
   },
   {
    "duration": 1367,
    "start_time": "2023-06-01T17:40:42.245Z"
   },
   {
    "duration": 101,
    "start_time": "2023-06-01T17:40:43.615Z"
   },
   {
    "duration": 89,
    "start_time": "2023-06-01T17:40:43.717Z"
   },
   {
    "duration": 77,
    "start_time": "2023-06-01T17:40:43.809Z"
   },
   {
    "duration": 11,
    "start_time": "2023-06-01T17:40:43.887Z"
   },
   {
    "duration": 9,
    "start_time": "2023-06-01T17:40:43.900Z"
   },
   {
    "duration": 12,
    "start_time": "2023-06-01T17:40:43.911Z"
   },
   {
    "duration": 60,
    "start_time": "2023-06-01T17:40:43.928Z"
   },
   {
    "duration": 23,
    "start_time": "2023-06-01T17:40:43.990Z"
   },
   {
    "duration": 6,
    "start_time": "2023-06-01T17:40:44.015Z"
   },
   {
    "duration": 44,
    "start_time": "2023-06-01T17:40:44.022Z"
   },
   {
    "duration": 26,
    "start_time": "2023-06-01T17:40:44.070Z"
   },
   {
    "duration": 15,
    "start_time": "2023-06-01T17:40:44.097Z"
   },
   {
    "duration": 14,
    "start_time": "2023-06-01T17:40:44.113Z"
   },
   {
    "duration": 49,
    "start_time": "2023-06-01T17:40:44.133Z"
   },
   {
    "duration": 6,
    "start_time": "2023-06-01T17:40:44.183Z"
   },
   {
    "duration": 8,
    "start_time": "2023-06-01T17:40:44.190Z"
   },
   {
    "duration": 16,
    "start_time": "2023-06-01T17:40:44.199Z"
   },
   {
    "duration": 3,
    "start_time": "2023-06-01T17:40:44.217Z"
   },
   {
    "duration": 87,
    "start_time": "2023-06-01T17:40:44.221Z"
   },
   {
    "duration": 8,
    "start_time": "2023-06-01T17:40:44.310Z"
   },
   {
    "duration": 4,
    "start_time": "2023-06-01T17:40:44.319Z"
   },
   {
    "duration": 204,
    "start_time": "2023-06-01T17:40:44.336Z"
   },
   {
    "duration": 6,
    "start_time": "2023-06-01T17:40:44.542Z"
   },
   {
    "duration": 38,
    "start_time": "2023-06-01T17:40:44.550Z"
   },
   {
    "duration": 10,
    "start_time": "2023-06-01T17:40:44.589Z"
   },
   {
    "duration": 174,
    "start_time": "2023-06-01T17:40:44.600Z"
   },
   {
    "duration": 3,
    "start_time": "2023-06-01T17:40:44.778Z"
   },
   {
    "duration": 233,
    "start_time": "2023-06-01T17:40:44.783Z"
   },
   {
    "duration": 267,
    "start_time": "2023-06-01T17:40:45.018Z"
   },
   {
    "duration": 11,
    "start_time": "2023-06-01T17:40:45.287Z"
   },
   {
    "duration": 28,
    "start_time": "2023-06-01T17:40:45.300Z"
   },
   {
    "duration": 60,
    "start_time": "2023-06-01T17:40:45.331Z"
   },
   {
    "duration": 52,
    "start_time": "2023-06-01T17:40:45.393Z"
   },
   {
    "duration": 41,
    "start_time": "2023-06-01T17:40:45.446Z"
   },
   {
    "duration": 8,
    "start_time": "2023-06-01T17:40:45.488Z"
   },
   {
    "duration": 59,
    "start_time": "2023-06-01T17:40:45.498Z"
   },
   {
    "duration": 36,
    "start_time": "2023-06-01T17:40:45.559Z"
   },
   {
    "duration": 183,
    "start_time": "2023-06-01T17:40:45.597Z"
   },
   {
    "duration": 178,
    "start_time": "2023-06-01T17:40:45.782Z"
   },
   {
    "duration": 158,
    "start_time": "2023-06-01T17:40:45.961Z"
   },
   {
    "duration": 166,
    "start_time": "2023-06-01T17:40:46.123Z"
   },
   {
    "duration": 913,
    "start_time": "2023-06-01T17:40:46.292Z"
   },
   {
    "duration": 31,
    "start_time": "2023-06-01T17:40:47.206Z"
   },
   {
    "duration": 10,
    "start_time": "2023-06-01T17:40:47.244Z"
   },
   {
    "duration": 38,
    "start_time": "2023-06-01T17:40:47.260Z"
   },
   {
    "duration": 360,
    "start_time": "2023-06-01T17:40:47.300Z"
   },
   {
    "duration": 29,
    "start_time": "2023-06-01T17:40:47.662Z"
   },
   {
    "duration": 39,
    "start_time": "2023-06-01T17:40:47.693Z"
   },
   {
    "duration": 323,
    "start_time": "2023-06-01T17:40:47.734Z"
   },
   {
    "duration": 226,
    "start_time": "2023-06-01T17:40:48.060Z"
   },
   {
    "duration": 5,
    "start_time": "2023-06-01T17:40:48.288Z"
   },
   {
    "duration": 139,
    "start_time": "2023-06-01T17:40:48.294Z"
   },
   {
    "duration": 9,
    "start_time": "2023-06-01T17:40:48.436Z"
   },
   {
    "duration": 124,
    "start_time": "2023-06-01T17:40:48.449Z"
   },
   {
    "duration": 106,
    "start_time": "2023-06-01T17:40:48.575Z"
   },
   {
    "duration": 6,
    "start_time": "2023-06-01T17:42:28.054Z"
   },
   {
    "duration": 8,
    "start_time": "2023-06-01T17:48:36.073Z"
   },
   {
    "duration": 4,
    "start_time": "2023-06-01T17:48:46.659Z"
   },
   {
    "duration": 6,
    "start_time": "2023-06-01T17:49:22.033Z"
   },
   {
    "duration": 5,
    "start_time": "2023-06-01T17:49:35.572Z"
   },
   {
    "duration": 1164,
    "start_time": "2023-06-01T18:15:15.106Z"
   },
   {
    "duration": 27,
    "start_time": "2023-06-01T18:15:16.273Z"
   },
   {
    "duration": 26,
    "start_time": "2023-06-01T18:15:16.301Z"
   },
   {
    "duration": 23,
    "start_time": "2023-06-01T18:15:16.332Z"
   },
   {
    "duration": 11,
    "start_time": "2023-06-01T18:15:16.358Z"
   },
   {
    "duration": 5,
    "start_time": "2023-06-01T18:15:16.370Z"
   },
   {
    "duration": 19,
    "start_time": "2023-06-01T18:15:16.376Z"
   },
   {
    "duration": 14,
    "start_time": "2023-06-01T18:15:16.396Z"
   },
   {
    "duration": 13,
    "start_time": "2023-06-01T18:15:16.412Z"
   },
   {
    "duration": 26,
    "start_time": "2023-06-01T18:15:16.434Z"
   },
   {
    "duration": 17,
    "start_time": "2023-06-01T18:15:16.461Z"
   },
   {
    "duration": 27,
    "start_time": "2023-06-01T18:15:16.479Z"
   },
   {
    "duration": 22,
    "start_time": "2023-06-01T18:15:16.507Z"
   },
   {
    "duration": 44,
    "start_time": "2023-06-01T18:15:16.533Z"
   },
   {
    "duration": 19,
    "start_time": "2023-06-01T18:15:16.580Z"
   },
   {
    "duration": 82,
    "start_time": "2023-06-01T18:15:16.600Z"
   },
   {
    "duration": 84,
    "start_time": "2023-06-01T18:15:16.684Z"
   },
   {
    "duration": 89,
    "start_time": "2023-06-01T18:15:16.770Z"
   },
   {
    "duration": 42,
    "start_time": "2023-06-01T18:15:16.860Z"
   },
   {
    "duration": 52,
    "start_time": "2023-06-01T18:15:16.903Z"
   },
   {
    "duration": 18,
    "start_time": "2023-06-01T18:15:16.957Z"
   },
   {
    "duration": 42,
    "start_time": "2023-06-01T18:15:16.976Z"
   },
   {
    "duration": 183,
    "start_time": "2023-06-01T18:15:17.020Z"
   },
   {
    "duration": 5,
    "start_time": "2023-06-01T18:15:17.205Z"
   },
   {
    "duration": 32,
    "start_time": "2023-06-01T18:15:17.211Z"
   },
   {
    "duration": 34,
    "start_time": "2023-06-01T18:15:17.245Z"
   },
   {
    "duration": 186,
    "start_time": "2023-06-01T18:15:17.281Z"
   },
   {
    "duration": 4,
    "start_time": "2023-06-01T18:15:17.469Z"
   },
   {
    "duration": 182,
    "start_time": "2023-06-01T18:15:17.474Z"
   },
   {
    "duration": 5,
    "start_time": "2023-06-01T18:15:17.657Z"
   },
   {
    "duration": 182,
    "start_time": "2023-06-01T18:15:17.663Z"
   },
   {
    "duration": 10,
    "start_time": "2023-06-01T18:15:17.846Z"
   },
   {
    "duration": 19,
    "start_time": "2023-06-01T18:15:17.857Z"
   },
   {
    "duration": 17,
    "start_time": "2023-06-01T18:15:17.877Z"
   },
   {
    "duration": 35,
    "start_time": "2023-06-01T18:15:17.896Z"
   },
   {
    "duration": 76,
    "start_time": "2023-06-01T18:15:17.932Z"
   },
   {
    "duration": 24,
    "start_time": "2023-06-01T18:15:18.009Z"
   },
   {
    "duration": 27,
    "start_time": "2023-06-01T18:15:18.034Z"
   },
   {
    "duration": 40,
    "start_time": "2023-06-01T18:15:18.063Z"
   },
   {
    "duration": 181,
    "start_time": "2023-06-01T18:15:18.104Z"
   },
   {
    "duration": 4,
    "start_time": "2023-06-01T18:15:18.289Z"
   },
   {
    "duration": 197,
    "start_time": "2023-06-01T18:15:18.294Z"
   },
   {
    "duration": 5,
    "start_time": "2023-06-01T18:15:18.492Z"
   },
   {
    "duration": 165,
    "start_time": "2023-06-01T18:15:18.498Z"
   },
   {
    "duration": 4,
    "start_time": "2023-06-01T18:15:18.664Z"
   },
   {
    "duration": 184,
    "start_time": "2023-06-01T18:15:18.669Z"
   },
   {
    "duration": 5,
    "start_time": "2023-06-01T18:15:18.855Z"
   },
   {
    "duration": 772,
    "start_time": "2023-06-01T18:15:18.861Z"
   },
   {
    "duration": 17,
    "start_time": "2023-06-01T18:15:19.635Z"
   },
   {
    "duration": 23,
    "start_time": "2023-06-01T18:15:19.653Z"
   },
   {
    "duration": 19,
    "start_time": "2023-06-01T18:15:19.677Z"
   },
   {
    "duration": 321,
    "start_time": "2023-06-01T18:15:19.698Z"
   },
   {
    "duration": 35,
    "start_time": "2023-06-01T18:15:20.020Z"
   },
   {
    "duration": 31,
    "start_time": "2023-06-01T18:15:20.057Z"
   },
   {
    "duration": 312,
    "start_time": "2023-06-01T18:15:20.090Z"
   },
   {
    "duration": 214,
    "start_time": "2023-06-01T18:15:20.404Z"
   },
   {
    "duration": 14,
    "start_time": "2023-06-01T18:15:20.619Z"
   },
   {
    "duration": 117,
    "start_time": "2023-06-01T18:15:20.641Z"
   },
   {
    "duration": 5,
    "start_time": "2023-06-01T18:15:20.760Z"
   },
   {
    "duration": 36,
    "start_time": "2023-06-01T18:15:20.766Z"
   },
   {
    "duration": 122,
    "start_time": "2023-06-01T18:15:20.803Z"
   },
   {
    "duration": 0,
    "start_time": "2023-06-01T18:15:20.932Z"
   },
   {
    "duration": 1143,
    "start_time": "2023-06-01T18:16:41.200Z"
   },
   {
    "duration": 28,
    "start_time": "2023-06-01T18:16:42.345Z"
   },
   {
    "duration": 27,
    "start_time": "2023-06-01T18:16:42.375Z"
   },
   {
    "duration": 17,
    "start_time": "2023-06-01T18:16:42.404Z"
   },
   {
    "duration": 33,
    "start_time": "2023-06-01T18:16:42.422Z"
   },
   {
    "duration": 58,
    "start_time": "2023-06-01T18:16:42.457Z"
   },
   {
    "duration": 34,
    "start_time": "2023-06-01T18:16:42.517Z"
   },
   {
    "duration": 12,
    "start_time": "2023-06-01T18:16:42.553Z"
   },
   {
    "duration": 35,
    "start_time": "2023-06-01T18:16:42.567Z"
   },
   {
    "duration": 7,
    "start_time": "2023-06-01T18:16:42.606Z"
   },
   {
    "duration": 25,
    "start_time": "2023-06-01T18:16:42.615Z"
   },
   {
    "duration": 15,
    "start_time": "2023-06-01T18:16:42.642Z"
   },
   {
    "duration": 21,
    "start_time": "2023-06-01T18:16:42.658Z"
   },
   {
    "duration": 11,
    "start_time": "2023-06-01T18:16:42.681Z"
   },
   {
    "duration": 22,
    "start_time": "2023-06-01T18:16:42.694Z"
   },
   {
    "duration": 17,
    "start_time": "2023-06-01T18:16:42.718Z"
   },
   {
    "duration": 25,
    "start_time": "2023-06-01T18:16:42.736Z"
   },
   {
    "duration": 32,
    "start_time": "2023-06-01T18:16:42.762Z"
   },
   {
    "duration": 5,
    "start_time": "2023-06-01T18:16:42.796Z"
   },
   {
    "duration": 26,
    "start_time": "2023-06-01T18:16:42.803Z"
   },
   {
    "duration": 13,
    "start_time": "2023-06-01T18:16:42.831Z"
   },
   {
    "duration": 21,
    "start_time": "2023-06-01T18:16:42.846Z"
   },
   {
    "duration": 196,
    "start_time": "2023-06-01T18:16:42.868Z"
   },
   {
    "duration": 6,
    "start_time": "2023-06-01T18:16:43.066Z"
   },
   {
    "duration": 13,
    "start_time": "2023-06-01T18:16:43.073Z"
   },
   {
    "duration": 9,
    "start_time": "2023-06-01T18:16:43.088Z"
   },
   {
    "duration": 181,
    "start_time": "2023-06-01T18:16:43.099Z"
   },
   {
    "duration": 5,
    "start_time": "2023-06-01T18:16:43.284Z"
   },
   {
    "duration": 189,
    "start_time": "2023-06-01T18:16:43.290Z"
   },
   {
    "duration": 5,
    "start_time": "2023-06-01T18:16:43.481Z"
   },
   {
    "duration": 192,
    "start_time": "2023-06-01T18:16:43.487Z"
   },
   {
    "duration": 10,
    "start_time": "2023-06-01T18:16:43.680Z"
   },
   {
    "duration": 37,
    "start_time": "2023-06-01T18:16:43.691Z"
   },
   {
    "duration": 11,
    "start_time": "2023-06-01T18:16:43.732Z"
   },
   {
    "duration": 37,
    "start_time": "2023-06-01T18:16:43.745Z"
   },
   {
    "duration": 23,
    "start_time": "2023-06-01T18:16:43.784Z"
   },
   {
    "duration": 21,
    "start_time": "2023-06-01T18:16:43.809Z"
   },
   {
    "duration": 25,
    "start_time": "2023-06-01T18:16:43.837Z"
   },
   {
    "duration": 36,
    "start_time": "2023-06-01T18:16:43.864Z"
   },
   {
    "duration": 169,
    "start_time": "2023-06-01T18:16:43.902Z"
   },
   {
    "duration": 5,
    "start_time": "2023-06-01T18:16:44.072Z"
   },
   {
    "duration": 206,
    "start_time": "2023-06-01T18:16:44.078Z"
   },
   {
    "duration": 5,
    "start_time": "2023-06-01T18:16:44.285Z"
   },
   {
    "duration": 167,
    "start_time": "2023-06-01T18:16:44.291Z"
   },
   {
    "duration": 4,
    "start_time": "2023-06-01T18:16:44.460Z"
   },
   {
    "duration": 151,
    "start_time": "2023-06-01T18:16:44.466Z"
   },
   {
    "duration": 21,
    "start_time": "2023-06-01T18:16:44.619Z"
   },
   {
    "duration": 891,
    "start_time": "2023-06-01T18:16:44.642Z"
   },
   {
    "duration": 17,
    "start_time": "2023-06-01T18:16:45.535Z"
   },
   {
    "duration": 32,
    "start_time": "2023-06-01T18:16:45.554Z"
   },
   {
    "duration": 18,
    "start_time": "2023-06-01T18:16:45.588Z"
   },
   {
    "duration": 332,
    "start_time": "2023-06-01T18:16:45.608Z"
   },
   {
    "duration": 40,
    "start_time": "2023-06-01T18:16:45.942Z"
   },
   {
    "duration": 42,
    "start_time": "2023-06-01T18:16:45.984Z"
   },
   {
    "duration": 343,
    "start_time": "2023-06-01T18:16:46.029Z"
   },
   {
    "duration": 227,
    "start_time": "2023-06-01T18:16:46.374Z"
   },
   {
    "duration": 6,
    "start_time": "2023-06-01T18:16:46.603Z"
   },
   {
    "duration": 117,
    "start_time": "2023-06-01T18:16:46.628Z"
   },
   {
    "duration": 5,
    "start_time": "2023-06-01T18:16:46.746Z"
   },
   {
    "duration": 33,
    "start_time": "2023-06-01T18:16:46.752Z"
   },
   {
    "duration": 1237,
    "start_time": "2023-06-02T09:14:26.857Z"
   },
   {
    "duration": 38,
    "start_time": "2023-06-02T09:14:28.100Z"
   },
   {
    "duration": 1301,
    "start_time": "2023-06-02T09:14:57.509Z"
   },
   {
    "duration": 28,
    "start_time": "2023-06-02T09:14:58.816Z"
   },
   {
    "duration": 26,
    "start_time": "2023-06-02T09:14:58.846Z"
   },
   {
    "duration": 37,
    "start_time": "2023-06-02T09:14:58.874Z"
   },
   {
    "duration": 13,
    "start_time": "2023-06-02T09:14:58.914Z"
   },
   {
    "duration": 5,
    "start_time": "2023-06-02T09:14:58.929Z"
   },
   {
    "duration": 15,
    "start_time": "2023-06-02T09:14:58.936Z"
   },
   {
    "duration": 11,
    "start_time": "2023-06-02T09:14:58.953Z"
   },
   {
    "duration": 28,
    "start_time": "2023-06-02T09:14:58.966Z"
   },
   {
    "duration": 9,
    "start_time": "2023-06-02T09:14:58.997Z"
   },
   {
    "duration": 10,
    "start_time": "2023-06-02T09:14:59.013Z"
   },
   {
    "duration": 6,
    "start_time": "2023-06-02T09:14:59.026Z"
   },
   {
    "duration": 12,
    "start_time": "2023-06-02T09:14:59.034Z"
   },
   {
    "duration": 49,
    "start_time": "2023-06-02T09:14:59.050Z"
   },
   {
    "duration": 11,
    "start_time": "2023-06-02T09:14:59.104Z"
   },
   {
    "duration": 7,
    "start_time": "2023-06-02T09:14:59.117Z"
   },
   {
    "duration": 8,
    "start_time": "2023-06-02T09:14:59.126Z"
   },
   {
    "duration": 23,
    "start_time": "2023-06-02T09:14:59.136Z"
   },
   {
    "duration": 5,
    "start_time": "2023-06-02T09:14:59.161Z"
   },
   {
    "duration": 39,
    "start_time": "2023-06-02T09:14:59.168Z"
   },
   {
    "duration": 13,
    "start_time": "2023-06-02T09:14:59.209Z"
   },
   {
    "duration": 5,
    "start_time": "2023-06-02T09:14:59.223Z"
   },
   {
    "duration": 235,
    "start_time": "2023-06-02T09:14:59.230Z"
   },
   {
    "duration": 11,
    "start_time": "2023-06-02T09:14:59.467Z"
   },
   {
    "duration": 31,
    "start_time": "2023-06-02T09:14:59.480Z"
   },
   {
    "duration": 6,
    "start_time": "2023-06-02T09:14:59.516Z"
   },
   {
    "duration": 194,
    "start_time": "2023-06-02T09:14:59.524Z"
   },
   {
    "duration": 6,
    "start_time": "2023-06-02T09:14:59.720Z"
   },
   {
    "duration": 230,
    "start_time": "2023-06-02T09:14:59.727Z"
   },
   {
    "duration": 5,
    "start_time": "2023-06-02T09:14:59.959Z"
   },
   {
    "duration": 221,
    "start_time": "2023-06-02T09:14:59.966Z"
   },
   {
    "duration": 12,
    "start_time": "2023-06-02T09:15:00.189Z"
   },
   {
    "duration": 32,
    "start_time": "2023-06-02T09:15:00.206Z"
   },
   {
    "duration": 20,
    "start_time": "2023-06-02T09:15:00.240Z"
   },
   {
    "duration": 50,
    "start_time": "2023-06-02T09:15:00.262Z"
   },
   {
    "duration": 33,
    "start_time": "2023-06-02T09:15:00.314Z"
   },
   {
    "duration": 52,
    "start_time": "2023-06-02T09:15:00.349Z"
   },
   {
    "duration": 39,
    "start_time": "2023-06-02T09:15:00.403Z"
   },
   {
    "duration": 50,
    "start_time": "2023-06-02T09:15:00.443Z"
   },
   {
    "duration": 219,
    "start_time": "2023-06-02T09:15:00.498Z"
   },
   {
    "duration": 7,
    "start_time": "2023-06-02T09:15:00.723Z"
   },
   {
    "duration": 284,
    "start_time": "2023-06-02T09:15:00.733Z"
   },
   {
    "duration": 5,
    "start_time": "2023-06-02T09:15:01.019Z"
   },
   {
    "duration": 219,
    "start_time": "2023-06-02T09:15:01.026Z"
   },
   {
    "duration": 5,
    "start_time": "2023-06-02T09:15:01.253Z"
   },
   {
    "duration": 270,
    "start_time": "2023-06-02T09:15:01.261Z"
   },
   {
    "duration": 6,
    "start_time": "2023-06-02T09:15:01.534Z"
   },
   {
    "duration": 1078,
    "start_time": "2023-06-02T09:15:01.541Z"
   },
   {
    "duration": 16,
    "start_time": "2023-06-02T09:15:02.621Z"
   },
   {
    "duration": 16,
    "start_time": "2023-06-02T09:15:02.638Z"
   },
   {
    "duration": 4,
    "start_time": "2023-06-02T09:15:02.656Z"
   },
   {
    "duration": 378,
    "start_time": "2023-06-02T09:15:02.661Z"
   },
   {
    "duration": 51,
    "start_time": "2023-06-02T09:15:03.041Z"
   },
   {
    "duration": 38,
    "start_time": "2023-06-02T09:15:03.099Z"
   },
   {
    "duration": 415,
    "start_time": "2023-06-02T09:15:03.140Z"
   },
   {
    "duration": 276,
    "start_time": "2023-06-02T09:15:03.557Z"
   },
   {
    "duration": 7,
    "start_time": "2023-06-02T09:15:03.834Z"
   },
   {
    "duration": 171,
    "start_time": "2023-06-02T09:15:03.842Z"
   },
   {
    "duration": 8,
    "start_time": "2023-06-02T09:15:04.014Z"
   },
   {
    "duration": 14,
    "start_time": "2023-06-02T09:15:04.024Z"
   },
   {
    "duration": 9,
    "start_time": "2023-06-02T09:19:09.572Z"
   },
   {
    "duration": 6,
    "start_time": "2023-06-02T09:25:52.151Z"
   },
   {
    "duration": 18,
    "start_time": "2023-06-02T09:29:11.171Z"
   },
   {
    "duration": 117,
    "start_time": "2023-06-02T09:31:23.816Z"
   },
   {
    "duration": 6,
    "start_time": "2023-06-02T09:31:33.817Z"
   },
   {
    "duration": 19,
    "start_time": "2023-06-02T09:32:27.573Z"
   },
   {
    "duration": 7,
    "start_time": "2023-06-02T09:40:21.399Z"
   },
   {
    "duration": 151,
    "start_time": "2023-06-03T04:12:47.057Z"
   },
   {
    "duration": 64,
    "start_time": "2023-06-03T04:23:19.431Z"
   },
   {
    "duration": 1444,
    "start_time": "2023-06-03T04:23:27.660Z"
   },
   {
    "duration": 102,
    "start_time": "2023-06-03T04:23:29.107Z"
   },
   {
    "duration": 112,
    "start_time": "2023-06-03T04:23:29.211Z"
   },
   {
    "duration": 83,
    "start_time": "2023-06-03T04:23:29.325Z"
   },
   {
    "duration": 12,
    "start_time": "2023-06-03T04:23:29.410Z"
   },
   {
    "duration": 4,
    "start_time": "2023-06-03T04:23:29.424Z"
   },
   {
    "duration": 21,
    "start_time": "2023-06-03T04:23:29.430Z"
   },
   {
    "duration": 47,
    "start_time": "2023-06-03T04:23:29.453Z"
   },
   {
    "duration": 12,
    "start_time": "2023-06-03T04:23:29.502Z"
   },
   {
    "duration": 8,
    "start_time": "2023-06-03T04:23:29.517Z"
   },
   {
    "duration": 10,
    "start_time": "2023-06-03T04:23:29.526Z"
   },
   {
    "duration": 18,
    "start_time": "2023-06-03T04:23:29.537Z"
   },
   {
    "duration": 41,
    "start_time": "2023-06-03T04:23:29.556Z"
   },
   {
    "duration": 7,
    "start_time": "2023-06-03T04:23:29.599Z"
   },
   {
    "duration": 11,
    "start_time": "2023-06-03T04:23:29.608Z"
   },
   {
    "duration": 8,
    "start_time": "2023-06-03T04:23:29.621Z"
   },
   {
    "duration": 5,
    "start_time": "2023-06-03T04:23:29.630Z"
   },
   {
    "duration": 23,
    "start_time": "2023-06-03T04:23:29.636Z"
   },
   {
    "duration": 41,
    "start_time": "2023-06-03T04:23:29.660Z"
   },
   {
    "duration": 4,
    "start_time": "2023-06-03T04:23:29.703Z"
   },
   {
    "duration": 25,
    "start_time": "2023-06-03T04:23:29.709Z"
   },
   {
    "duration": 22,
    "start_time": "2023-06-03T04:23:29.736Z"
   },
   {
    "duration": 39,
    "start_time": "2023-06-03T04:23:29.760Z"
   },
   {
    "duration": 208,
    "start_time": "2023-06-03T04:23:29.801Z"
   },
   {
    "duration": 8,
    "start_time": "2023-06-03T04:23:30.012Z"
   },
   {
    "duration": 79,
    "start_time": "2023-06-03T04:23:30.022Z"
   },
   {
    "duration": 26,
    "start_time": "2023-06-03T04:23:30.103Z"
   },
   {
    "duration": 246,
    "start_time": "2023-06-03T04:23:30.133Z"
   },
   {
    "duration": 5,
    "start_time": "2023-06-03T04:23:30.381Z"
   },
   {
    "duration": 240,
    "start_time": "2023-06-03T04:23:30.388Z"
   },
   {
    "duration": 5,
    "start_time": "2023-06-03T04:23:30.630Z"
   },
   {
    "duration": 263,
    "start_time": "2023-06-03T04:23:30.642Z"
   },
   {
    "duration": 10,
    "start_time": "2023-06-03T04:23:30.907Z"
   },
   {
    "duration": 38,
    "start_time": "2023-06-03T04:23:30.919Z"
   },
   {
    "duration": 63,
    "start_time": "2023-06-03T04:23:30.958Z"
   },
   {
    "duration": 83,
    "start_time": "2023-06-03T04:23:31.023Z"
   },
   {
    "duration": 42,
    "start_time": "2023-06-03T04:23:31.108Z"
   },
   {
    "duration": 62,
    "start_time": "2023-06-03T04:23:31.154Z"
   },
   {
    "duration": 96,
    "start_time": "2023-06-03T04:23:31.218Z"
   },
   {
    "duration": 72,
    "start_time": "2023-06-03T04:23:31.316Z"
   },
   {
    "duration": 235,
    "start_time": "2023-06-03T04:23:31.390Z"
   },
   {
    "duration": 77,
    "start_time": "2023-06-03T04:23:31.627Z"
   },
   {
    "duration": 558,
    "start_time": "2023-06-03T04:23:31.706Z"
   },
   {
    "duration": 6,
    "start_time": "2023-06-03T04:23:32.265Z"
   },
   {
    "duration": 263,
    "start_time": "2023-06-03T04:23:32.273Z"
   },
   {
    "duration": 16,
    "start_time": "2023-06-03T04:23:32.543Z"
   },
   {
    "duration": 232,
    "start_time": "2023-06-03T04:23:32.566Z"
   },
   {
    "duration": 6,
    "start_time": "2023-06-03T04:23:32.800Z"
   },
   {
    "duration": 926,
    "start_time": "2023-06-03T04:23:32.808Z"
   },
   {
    "duration": 18,
    "start_time": "2023-06-03T04:23:33.736Z"
   },
   {
    "duration": 37,
    "start_time": "2023-06-03T04:23:33.755Z"
   },
   {
    "duration": 9,
    "start_time": "2023-06-03T04:23:33.794Z"
   },
   {
    "duration": 392,
    "start_time": "2023-06-03T04:23:33.804Z"
   },
   {
    "duration": 52,
    "start_time": "2023-06-03T04:23:34.202Z"
   },
   {
    "duration": 39,
    "start_time": "2023-06-03T04:23:34.260Z"
   },
   {
    "duration": 393,
    "start_time": "2023-06-03T04:23:34.301Z"
   },
   {
    "duration": 266,
    "start_time": "2023-06-03T04:23:34.695Z"
   },
   {
    "duration": 8,
    "start_time": "2023-06-03T04:23:34.966Z"
   },
   {
    "duration": 142,
    "start_time": "2023-06-03T04:23:34.976Z"
   },
   {
    "duration": 7,
    "start_time": "2023-06-03T04:23:35.119Z"
   },
   {
    "duration": 24,
    "start_time": "2023-06-03T04:23:35.128Z"
   },
   {
    "duration": 7,
    "start_time": "2023-06-03T04:24:02.778Z"
   },
   {
    "duration": 6,
    "start_time": "2023-06-03T04:25:30.363Z"
   },
   {
    "duration": 116,
    "start_time": "2023-06-03T04:30:13.940Z"
   },
   {
    "duration": 9,
    "start_time": "2023-06-03T04:30:23.063Z"
   },
   {
    "duration": 17,
    "start_time": "2023-06-03T04:30:32.215Z"
   },
   {
    "duration": 100,
    "start_time": "2023-06-03T04:34:20.867Z"
   },
   {
    "duration": 481,
    "start_time": "2023-06-03T04:35:02.997Z"
   },
   {
    "duration": 117,
    "start_time": "2023-06-03T04:35:42.487Z"
   },
   {
    "duration": 6,
    "start_time": "2023-06-03T04:35:50.108Z"
   },
   {
    "duration": 166,
    "start_time": "2023-06-03T04:38:04.266Z"
   },
   {
    "duration": 399,
    "start_time": "2023-06-03T04:45:24.808Z"
   },
   {
    "duration": 342,
    "start_time": "2023-06-03T04:47:07.516Z"
   },
   {
    "duration": 188,
    "start_time": "2023-06-03T04:48:08.920Z"
   },
   {
    "duration": 28,
    "start_time": "2023-06-03T04:51:57.784Z"
   },
   {
    "duration": 185,
    "start_time": "2023-06-03T04:52:34.883Z"
   },
   {
    "duration": 201,
    "start_time": "2023-06-03T04:52:39.864Z"
   },
   {
    "duration": 11,
    "start_time": "2023-06-03T04:53:44.798Z"
   },
   {
    "duration": 229,
    "start_time": "2023-06-03T04:54:38.140Z"
   },
   {
    "duration": 273,
    "start_time": "2023-06-03T04:55:12.948Z"
   },
   {
    "duration": 131,
    "start_time": "2023-06-03T04:56:53.292Z"
   },
   {
    "duration": 1257,
    "start_time": "2023-06-03T04:57:37.474Z"
   },
   {
    "duration": 57,
    "start_time": "2023-06-03T04:57:38.733Z"
   },
   {
    "duration": 27,
    "start_time": "2023-06-03T04:57:38.793Z"
   },
   {
    "duration": 16,
    "start_time": "2023-06-03T04:57:38.822Z"
   },
   {
    "duration": 16,
    "start_time": "2023-06-03T04:57:38.840Z"
   },
   {
    "duration": 39,
    "start_time": "2023-06-03T04:57:38.858Z"
   },
   {
    "duration": 19,
    "start_time": "2023-06-03T04:57:38.899Z"
   },
   {
    "duration": 14,
    "start_time": "2023-06-03T04:57:38.920Z"
   },
   {
    "duration": 19,
    "start_time": "2023-06-03T04:57:38.936Z"
   },
   {
    "duration": 41,
    "start_time": "2023-06-03T04:57:38.959Z"
   },
   {
    "duration": 15,
    "start_time": "2023-06-03T04:57:39.002Z"
   },
   {
    "duration": 6,
    "start_time": "2023-06-03T04:57:39.019Z"
   },
   {
    "duration": 12,
    "start_time": "2023-06-03T04:57:39.027Z"
   },
   {
    "duration": 53,
    "start_time": "2023-06-03T04:57:39.041Z"
   },
   {
    "duration": 12,
    "start_time": "2023-06-03T04:57:39.096Z"
   },
   {
    "duration": 14,
    "start_time": "2023-06-03T04:57:39.111Z"
   },
   {
    "duration": 60,
    "start_time": "2023-06-03T04:57:39.127Z"
   },
   {
    "duration": 9,
    "start_time": "2023-06-03T04:57:39.190Z"
   },
   {
    "duration": 18,
    "start_time": "2023-06-03T04:57:39.202Z"
   },
   {
    "duration": 15,
    "start_time": "2023-06-03T04:57:39.222Z"
   },
   {
    "duration": 32,
    "start_time": "2023-06-03T04:57:39.239Z"
   },
   {
    "duration": 35,
    "start_time": "2023-06-03T04:57:39.275Z"
   },
   {
    "duration": 9,
    "start_time": "2023-06-03T04:57:39.312Z"
   },
   {
    "duration": 17,
    "start_time": "2023-06-03T04:57:39.323Z"
   },
   {
    "duration": 33,
    "start_time": "2023-06-03T04:57:39.350Z"
   },
   {
    "duration": 12,
    "start_time": "2023-06-03T04:57:39.384Z"
   },
   {
    "duration": 212,
    "start_time": "2023-06-03T04:57:39.398Z"
   },
   {
    "duration": 264,
    "start_time": "2023-06-03T04:57:39.614Z"
   },
   {
    "duration": 0,
    "start_time": "2023-06-03T04:57:39.880Z"
   },
   {
    "duration": 0,
    "start_time": "2023-06-03T04:57:39.881Z"
   },
   {
    "duration": 0,
    "start_time": "2023-06-03T04:57:39.883Z"
   },
   {
    "duration": 0,
    "start_time": "2023-06-03T04:57:39.884Z"
   },
   {
    "duration": 0,
    "start_time": "2023-06-03T04:57:39.887Z"
   },
   {
    "duration": 0,
    "start_time": "2023-06-03T04:57:39.888Z"
   },
   {
    "duration": 0,
    "start_time": "2023-06-03T04:57:39.888Z"
   },
   {
    "duration": 0,
    "start_time": "2023-06-03T04:57:39.891Z"
   },
   {
    "duration": 0,
    "start_time": "2023-06-03T04:57:39.892Z"
   },
   {
    "duration": 0,
    "start_time": "2023-06-03T04:57:39.893Z"
   },
   {
    "duration": 0,
    "start_time": "2023-06-03T04:57:39.893Z"
   },
   {
    "duration": 0,
    "start_time": "2023-06-03T04:57:39.894Z"
   },
   {
    "duration": 0,
    "start_time": "2023-06-03T04:57:39.896Z"
   },
   {
    "duration": 0,
    "start_time": "2023-06-03T04:57:39.897Z"
   },
   {
    "duration": 0,
    "start_time": "2023-06-03T04:57:39.898Z"
   },
   {
    "duration": 0,
    "start_time": "2023-06-03T04:57:39.900Z"
   },
   {
    "duration": 0,
    "start_time": "2023-06-03T04:57:39.901Z"
   },
   {
    "duration": 0,
    "start_time": "2023-06-03T04:57:39.902Z"
   },
   {
    "duration": 0,
    "start_time": "2023-06-03T04:57:39.903Z"
   },
   {
    "duration": 0,
    "start_time": "2023-06-03T04:57:39.904Z"
   },
   {
    "duration": 0,
    "start_time": "2023-06-03T04:57:39.905Z"
   },
   {
    "duration": 0,
    "start_time": "2023-06-03T04:57:39.906Z"
   },
   {
    "duration": 0,
    "start_time": "2023-06-03T04:57:39.907Z"
   },
   {
    "duration": 0,
    "start_time": "2023-06-03T04:57:39.908Z"
   },
   {
    "duration": 0,
    "start_time": "2023-06-03T04:57:39.909Z"
   },
   {
    "duration": 1,
    "start_time": "2023-06-03T04:57:39.910Z"
   },
   {
    "duration": 0,
    "start_time": "2023-06-03T04:57:39.944Z"
   },
   {
    "duration": 0,
    "start_time": "2023-06-03T04:57:39.945Z"
   },
   {
    "duration": 0,
    "start_time": "2023-06-03T04:57:39.945Z"
   },
   {
    "duration": 0,
    "start_time": "2023-06-03T04:57:39.946Z"
   },
   {
    "duration": 0,
    "start_time": "2023-06-03T04:57:39.950Z"
   },
   {
    "duration": 0,
    "start_time": "2023-06-03T04:57:39.953Z"
   },
   {
    "duration": 0,
    "start_time": "2023-06-03T04:57:39.954Z"
   },
   {
    "duration": 0,
    "start_time": "2023-06-03T04:57:39.956Z"
   },
   {
    "duration": 0,
    "start_time": "2023-06-03T04:57:39.957Z"
   },
   {
    "duration": 0,
    "start_time": "2023-06-03T04:57:39.958Z"
   },
   {
    "duration": 0,
    "start_time": "2023-06-03T04:57:39.962Z"
   },
   {
    "duration": 147,
    "start_time": "2023-06-03T04:58:15.831Z"
   },
   {
    "duration": 172,
    "start_time": "2023-06-03T04:58:30.989Z"
   },
   {
    "duration": 191,
    "start_time": "2023-06-03T04:58:39.387Z"
   },
   {
    "duration": 161,
    "start_time": "2023-06-03T05:03:30.662Z"
   },
   {
    "duration": 180,
    "start_time": "2023-06-03T05:04:15.516Z"
   },
   {
    "duration": 312,
    "start_time": "2023-06-03T05:04:44.128Z"
   },
   {
    "duration": 3519,
    "start_time": "2023-06-03T05:04:57.302Z"
   },
   {
    "duration": 3659,
    "start_time": "2023-06-03T05:08:04.896Z"
   },
   {
    "duration": 3447,
    "start_time": "2023-06-03T05:08:11.467Z"
   },
   {
    "duration": 124,
    "start_time": "2023-06-03T05:08:34.490Z"
   },
   {
    "duration": 3533,
    "start_time": "2023-06-03T05:08:39.871Z"
   },
   {
    "duration": 169,
    "start_time": "2023-06-03T05:19:36.626Z"
   },
   {
    "duration": 174,
    "start_time": "2023-06-03T05:21:17.073Z"
   },
   {
    "duration": 151,
    "start_time": "2023-06-03T05:21:25.109Z"
   },
   {
    "duration": 107,
    "start_time": "2023-06-03T05:21:56.219Z"
   },
   {
    "duration": 186,
    "start_time": "2023-06-03T05:22:05.638Z"
   },
   {
    "duration": 147,
    "start_time": "2023-06-03T05:27:23.842Z"
   },
   {
    "duration": 2753,
    "start_time": "2023-06-03T05:27:31.041Z"
   },
   {
    "duration": 2820,
    "start_time": "2023-06-03T05:28:31.636Z"
   },
   {
    "duration": 150,
    "start_time": "2023-06-03T05:29:16.505Z"
   },
   {
    "duration": 136,
    "start_time": "2023-06-03T05:29:41.895Z"
   },
   {
    "duration": 134,
    "start_time": "2023-06-03T05:30:57.196Z"
   },
   {
    "duration": 560,
    "start_time": "2023-06-03T05:31:20.938Z"
   },
   {
    "duration": 172,
    "start_time": "2023-06-03T05:31:37.333Z"
   },
   {
    "duration": 1303,
    "start_time": "2023-06-03T05:31:55.057Z"
   },
   {
    "duration": 41,
    "start_time": "2023-06-03T05:31:56.367Z"
   },
   {
    "duration": 34,
    "start_time": "2023-06-03T05:31:56.411Z"
   },
   {
    "duration": 39,
    "start_time": "2023-06-03T05:31:56.452Z"
   },
   {
    "duration": 20,
    "start_time": "2023-06-03T05:31:56.498Z"
   },
   {
    "duration": 6,
    "start_time": "2023-06-03T05:31:56.522Z"
   },
   {
    "duration": 79,
    "start_time": "2023-06-03T05:31:56.530Z"
   },
   {
    "duration": 22,
    "start_time": "2023-06-03T05:31:56.611Z"
   },
   {
    "duration": 22,
    "start_time": "2023-06-03T05:31:56.635Z"
   },
   {
    "duration": 51,
    "start_time": "2023-06-03T05:31:56.658Z"
   },
   {
    "duration": 20,
    "start_time": "2023-06-03T05:31:56.711Z"
   },
   {
    "duration": 7,
    "start_time": "2023-06-03T05:31:56.733Z"
   },
   {
    "duration": 65,
    "start_time": "2023-06-03T05:31:56.742Z"
   },
   {
    "duration": 6,
    "start_time": "2023-06-03T05:31:56.811Z"
   },
   {
    "duration": 10,
    "start_time": "2023-06-03T05:31:56.819Z"
   },
   {
    "duration": 22,
    "start_time": "2023-06-03T05:31:56.831Z"
   },
   {
    "duration": 50,
    "start_time": "2023-06-03T05:31:56.855Z"
   },
   {
    "duration": 6,
    "start_time": "2023-06-03T05:31:56.907Z"
   },
   {
    "duration": 14,
    "start_time": "2023-06-03T05:31:56.915Z"
   },
   {
    "duration": 37,
    "start_time": "2023-06-03T05:31:56.931Z"
   },
   {
    "duration": 44,
    "start_time": "2023-06-03T05:31:56.982Z"
   },
   {
    "duration": 92,
    "start_time": "2023-06-03T05:31:57.028Z"
   },
   {
    "duration": 7,
    "start_time": "2023-06-03T05:31:57.122Z"
   },
   {
    "duration": 70,
    "start_time": "2023-06-03T05:31:57.131Z"
   },
   {
    "duration": 15,
    "start_time": "2023-06-03T05:31:57.203Z"
   },
   {
    "duration": 68,
    "start_time": "2023-06-03T05:31:57.220Z"
   },
   {
    "duration": 238,
    "start_time": "2023-06-03T05:31:57.290Z"
   },
   {
    "duration": 177,
    "start_time": "2023-06-03T05:31:57.530Z"
   },
   {
    "duration": 2726,
    "start_time": "2023-06-03T05:31:57.709Z"
   },
   {
    "duration": 16,
    "start_time": "2023-06-03T05:32:00.437Z"
   },
   {
    "duration": 57,
    "start_time": "2023-06-03T05:32:00.455Z"
   },
   {
    "duration": 46,
    "start_time": "2023-06-03T05:32:00.515Z"
   },
   {
    "duration": 399,
    "start_time": "2023-06-03T05:32:00.566Z"
   },
   {
    "duration": 5,
    "start_time": "2023-06-03T05:32:00.967Z"
   },
   {
    "duration": 269,
    "start_time": "2023-06-03T05:32:00.982Z"
   },
   {
    "duration": 14,
    "start_time": "2023-06-03T05:32:01.252Z"
   },
   {
    "duration": 245,
    "start_time": "2023-06-03T05:32:01.267Z"
   },
   {
    "duration": 11,
    "start_time": "2023-06-03T05:32:01.514Z"
   },
   {
    "duration": 77,
    "start_time": "2023-06-03T05:32:01.527Z"
   },
   {
    "duration": 33,
    "start_time": "2023-06-03T05:32:01.606Z"
   },
   {
    "duration": 125,
    "start_time": "2023-06-03T05:32:01.647Z"
   },
   {
    "duration": 34,
    "start_time": "2023-06-03T05:32:01.774Z"
   },
   {
    "duration": 19,
    "start_time": "2023-06-03T05:32:01.810Z"
   },
   {
    "duration": 43,
    "start_time": "2023-06-03T05:32:01.831Z"
   },
   {
    "duration": 39,
    "start_time": "2023-06-03T05:32:01.877Z"
   },
   {
    "duration": 220,
    "start_time": "2023-06-03T05:32:01.917Z"
   },
   {
    "duration": 16,
    "start_time": "2023-06-03T05:32:02.149Z"
   },
   {
    "duration": 236,
    "start_time": "2023-06-03T05:32:02.168Z"
   },
   {
    "duration": 5,
    "start_time": "2023-06-03T05:32:02.405Z"
   },
   {
    "duration": 193,
    "start_time": "2023-06-03T05:32:02.411Z"
   },
   {
    "duration": 5,
    "start_time": "2023-06-03T05:32:02.606Z"
   },
   {
    "duration": 192,
    "start_time": "2023-06-03T05:32:02.613Z"
   },
   {
    "duration": 5,
    "start_time": "2023-06-03T05:32:02.807Z"
   },
   {
    "duration": 966,
    "start_time": "2023-06-03T05:32:02.813Z"
   },
   {
    "duration": 18,
    "start_time": "2023-06-03T05:32:03.780Z"
   },
   {
    "duration": 25,
    "start_time": "2023-06-03T05:32:03.800Z"
   },
   {
    "duration": 31,
    "start_time": "2023-06-03T05:32:03.826Z"
   },
   {
    "duration": 430,
    "start_time": "2023-06-03T05:32:03.861Z"
   },
   {
    "duration": 36,
    "start_time": "2023-06-03T05:32:04.293Z"
   },
   {
    "duration": 58,
    "start_time": "2023-06-03T05:32:04.331Z"
   },
   {
    "duration": 300,
    "start_time": "2023-06-03T05:32:04.391Z"
   },
   {
    "duration": 243,
    "start_time": "2023-06-03T05:32:04.693Z"
   },
   {
    "duration": 10,
    "start_time": "2023-06-03T05:32:04.941Z"
   },
   {
    "duration": 205,
    "start_time": "2023-06-03T05:32:04.960Z"
   },
   {
    "duration": 6,
    "start_time": "2023-06-03T05:32:05.167Z"
   },
   {
    "duration": 11,
    "start_time": "2023-06-03T05:32:05.174Z"
   },
   {
    "duration": 295,
    "start_time": "2023-06-03T05:32:23.560Z"
   },
   {
    "duration": 2495,
    "start_time": "2023-06-03T05:33:04.062Z"
   },
   {
    "duration": 2756,
    "start_time": "2023-06-03T05:33:13.610Z"
   },
   {
    "duration": 2815,
    "start_time": "2023-06-03T05:34:04.709Z"
   },
   {
    "duration": 3128,
    "start_time": "2023-06-03T05:34:42.220Z"
   },
   {
    "duration": 2858,
    "start_time": "2023-06-03T05:35:11.134Z"
   },
   {
    "duration": 3044,
    "start_time": "2023-06-03T05:35:24.146Z"
   },
   {
    "duration": 149,
    "start_time": "2023-06-03T05:35:43.376Z"
   },
   {
    "duration": 1227,
    "start_time": "2023-06-03T05:36:06.568Z"
   },
   {
    "duration": 30,
    "start_time": "2023-06-03T05:36:07.798Z"
   },
   {
    "duration": 62,
    "start_time": "2023-06-03T05:36:07.829Z"
   },
   {
    "duration": 16,
    "start_time": "2023-06-03T05:36:07.892Z"
   },
   {
    "duration": 14,
    "start_time": "2023-06-03T05:36:07.910Z"
   },
   {
    "duration": 9,
    "start_time": "2023-06-03T05:36:07.926Z"
   },
   {
    "duration": 61,
    "start_time": "2023-06-03T05:36:07.936Z"
   },
   {
    "duration": 14,
    "start_time": "2023-06-03T05:36:08.000Z"
   },
   {
    "duration": 35,
    "start_time": "2023-06-03T05:36:08.015Z"
   },
   {
    "duration": 65,
    "start_time": "2023-06-03T05:36:08.052Z"
   },
   {
    "duration": 138,
    "start_time": "2023-06-03T05:36:08.119Z"
   },
   {
    "duration": 233,
    "start_time": "2023-06-03T05:36:08.259Z"
   },
   {
    "duration": 20,
    "start_time": "2023-06-03T05:36:08.495Z"
   },
   {
    "duration": 19,
    "start_time": "2023-06-03T05:36:08.519Z"
   },
   {
    "duration": 151,
    "start_time": "2023-06-03T05:36:08.540Z"
   },
   {
    "duration": 35,
    "start_time": "2023-06-03T05:36:08.692Z"
   },
   {
    "duration": 52,
    "start_time": "2023-06-03T05:36:08.729Z"
   },
   {
    "duration": 8,
    "start_time": "2023-06-03T05:36:08.789Z"
   },
   {
    "duration": 16,
    "start_time": "2023-06-03T05:36:08.799Z"
   },
   {
    "duration": 29,
    "start_time": "2023-06-03T05:36:08.816Z"
   },
   {
    "duration": 27,
    "start_time": "2023-06-03T05:36:08.846Z"
   },
   {
    "duration": 36,
    "start_time": "2023-06-03T05:36:08.875Z"
   },
   {
    "duration": 7,
    "start_time": "2023-06-03T05:36:08.913Z"
   },
   {
    "duration": 28,
    "start_time": "2023-06-03T05:36:08.921Z"
   },
   {
    "duration": 14,
    "start_time": "2023-06-03T05:36:08.951Z"
   },
   {
    "duration": 49,
    "start_time": "2023-06-03T05:36:08.968Z"
   },
   {
    "duration": 208,
    "start_time": "2023-06-03T05:36:09.018Z"
   },
   {
    "duration": 273,
    "start_time": "2023-06-03T05:36:09.228Z"
   },
   {
    "duration": 0,
    "start_time": "2023-06-03T05:36:09.504Z"
   },
   {
    "duration": 0,
    "start_time": "2023-06-03T05:36:09.505Z"
   },
   {
    "duration": 0,
    "start_time": "2023-06-03T05:36:09.507Z"
   },
   {
    "duration": 0,
    "start_time": "2023-06-03T05:36:09.507Z"
   },
   {
    "duration": 0,
    "start_time": "2023-06-03T05:36:09.509Z"
   },
   {
    "duration": 0,
    "start_time": "2023-06-03T05:36:09.510Z"
   },
   {
    "duration": 0,
    "start_time": "2023-06-03T05:36:09.511Z"
   },
   {
    "duration": 0,
    "start_time": "2023-06-03T05:36:09.513Z"
   },
   {
    "duration": 0,
    "start_time": "2023-06-03T05:36:09.514Z"
   },
   {
    "duration": 0,
    "start_time": "2023-06-03T05:36:09.516Z"
   },
   {
    "duration": 0,
    "start_time": "2023-06-03T05:36:09.517Z"
   },
   {
    "duration": 1,
    "start_time": "2023-06-03T05:36:09.518Z"
   },
   {
    "duration": 1,
    "start_time": "2023-06-03T05:36:09.548Z"
   },
   {
    "duration": 0,
    "start_time": "2023-06-03T05:36:09.549Z"
   },
   {
    "duration": 0,
    "start_time": "2023-06-03T05:36:09.550Z"
   },
   {
    "duration": 0,
    "start_time": "2023-06-03T05:36:09.551Z"
   },
   {
    "duration": 0,
    "start_time": "2023-06-03T05:36:09.551Z"
   },
   {
    "duration": 0,
    "start_time": "2023-06-03T05:36:09.552Z"
   },
   {
    "duration": 0,
    "start_time": "2023-06-03T05:36:09.553Z"
   },
   {
    "duration": 0,
    "start_time": "2023-06-03T05:36:09.553Z"
   },
   {
    "duration": 0,
    "start_time": "2023-06-03T05:36:09.554Z"
   },
   {
    "duration": 0,
    "start_time": "2023-06-03T05:36:09.554Z"
   },
   {
    "duration": 0,
    "start_time": "2023-06-03T05:36:09.559Z"
   },
   {
    "duration": 0,
    "start_time": "2023-06-03T05:36:09.559Z"
   },
   {
    "duration": 0,
    "start_time": "2023-06-03T05:36:09.560Z"
   },
   {
    "duration": 0,
    "start_time": "2023-06-03T05:36:09.561Z"
   },
   {
    "duration": 0,
    "start_time": "2023-06-03T05:36:09.561Z"
   },
   {
    "duration": 0,
    "start_time": "2023-06-03T05:36:09.562Z"
   },
   {
    "duration": 0,
    "start_time": "2023-06-03T05:36:09.562Z"
   },
   {
    "duration": 0,
    "start_time": "2023-06-03T05:36:09.563Z"
   },
   {
    "duration": 0,
    "start_time": "2023-06-03T05:36:09.564Z"
   },
   {
    "duration": 0,
    "start_time": "2023-06-03T05:36:09.564Z"
   },
   {
    "duration": 0,
    "start_time": "2023-06-03T05:36:09.565Z"
   },
   {
    "duration": 0,
    "start_time": "2023-06-03T05:36:09.566Z"
   },
   {
    "duration": 0,
    "start_time": "2023-06-03T05:36:09.566Z"
   },
   {
    "duration": 0,
    "start_time": "2023-06-03T05:36:09.567Z"
   },
   {
    "duration": 0,
    "start_time": "2023-06-03T05:36:09.568Z"
   },
   {
    "duration": 0,
    "start_time": "2023-06-03T05:36:09.568Z"
   },
   {
    "duration": 192,
    "start_time": "2023-06-03T05:36:40.599Z"
   },
   {
    "duration": 1266,
    "start_time": "2023-06-03T05:37:10.590Z"
   },
   {
    "duration": 52,
    "start_time": "2023-06-03T05:37:11.858Z"
   },
   {
    "duration": 26,
    "start_time": "2023-06-03T05:37:11.912Z"
   },
   {
    "duration": 50,
    "start_time": "2023-06-03T05:37:11.941Z"
   },
   {
    "duration": 23,
    "start_time": "2023-06-03T05:37:11.994Z"
   },
   {
    "duration": 6,
    "start_time": "2023-06-03T05:37:12.019Z"
   },
   {
    "duration": 34,
    "start_time": "2023-06-03T05:37:12.027Z"
   },
   {
    "duration": 35,
    "start_time": "2023-06-03T05:37:12.072Z"
   },
   {
    "duration": 16,
    "start_time": "2023-06-03T05:37:12.109Z"
   },
   {
    "duration": 10,
    "start_time": "2023-06-03T05:37:12.129Z"
   },
   {
    "duration": 48,
    "start_time": "2023-06-03T05:37:12.141Z"
   },
   {
    "duration": 23,
    "start_time": "2023-06-03T05:37:12.190Z"
   },
   {
    "duration": 9,
    "start_time": "2023-06-03T05:37:12.215Z"
   },
   {
    "duration": 7,
    "start_time": "2023-06-03T05:37:12.226Z"
   },
   {
    "duration": 5,
    "start_time": "2023-06-03T05:37:12.235Z"
   },
   {
    "duration": 61,
    "start_time": "2023-06-03T05:37:12.249Z"
   },
   {
    "duration": 9,
    "start_time": "2023-06-03T05:37:12.311Z"
   },
   {
    "duration": 5,
    "start_time": "2023-06-03T05:37:12.322Z"
   },
   {
    "duration": 11,
    "start_time": "2023-06-03T05:37:12.329Z"
   },
   {
    "duration": 60,
    "start_time": "2023-06-03T05:37:12.343Z"
   },
   {
    "duration": 9,
    "start_time": "2023-06-03T05:37:12.404Z"
   },
   {
    "duration": 15,
    "start_time": "2023-06-03T05:37:12.415Z"
   },
   {
    "duration": 5,
    "start_time": "2023-06-03T05:37:12.432Z"
   },
   {
    "duration": 48,
    "start_time": "2023-06-03T05:37:12.439Z"
   },
   {
    "duration": 34,
    "start_time": "2023-06-03T05:37:12.488Z"
   },
   {
    "duration": 4,
    "start_time": "2023-06-03T05:37:12.524Z"
   },
   {
    "duration": 261,
    "start_time": "2023-06-03T05:37:12.530Z"
   },
   {
    "duration": 208,
    "start_time": "2023-06-03T05:37:12.799Z"
   },
   {
    "duration": 12,
    "start_time": "2023-06-03T05:37:13.008Z"
   },
   {
    "duration": 66,
    "start_time": "2023-06-03T05:37:13.023Z"
   },
   {
    "duration": 18,
    "start_time": "2023-06-03T05:37:13.091Z"
   },
   {
    "duration": 197,
    "start_time": "2023-06-03T05:37:13.111Z"
   },
   {
    "duration": 5,
    "start_time": "2023-06-03T05:37:13.310Z"
   },
   {
    "duration": 218,
    "start_time": "2023-06-03T05:37:13.316Z"
   },
   {
    "duration": 25,
    "start_time": "2023-06-03T05:37:13.536Z"
   },
   {
    "duration": 247,
    "start_time": "2023-06-03T05:37:13.563Z"
   },
   {
    "duration": 11,
    "start_time": "2023-06-03T05:37:13.811Z"
   },
   {
    "duration": 36,
    "start_time": "2023-06-03T05:37:13.823Z"
   },
   {
    "duration": 32,
    "start_time": "2023-06-03T05:37:13.860Z"
   },
   {
    "duration": 25,
    "start_time": "2023-06-03T05:37:13.894Z"
   },
   {
    "duration": 9,
    "start_time": "2023-06-03T05:37:13.921Z"
   },
   {
    "duration": 7,
    "start_time": "2023-06-03T05:37:13.932Z"
   },
   {
    "duration": 66,
    "start_time": "2023-06-03T05:37:13.941Z"
   },
   {
    "duration": 19,
    "start_time": "2023-06-03T05:37:14.009Z"
   },
   {
    "duration": 218,
    "start_time": "2023-06-03T05:37:14.030Z"
   },
   {
    "duration": 19,
    "start_time": "2023-06-03T05:37:14.252Z"
   },
   {
    "duration": 230,
    "start_time": "2023-06-03T05:37:14.274Z"
   },
   {
    "duration": 5,
    "start_time": "2023-06-03T05:37:14.506Z"
   },
   {
    "duration": 196,
    "start_time": "2023-06-03T05:37:14.512Z"
   },
   {
    "duration": 6,
    "start_time": "2023-06-03T05:37:14.710Z"
   },
   {
    "duration": 222,
    "start_time": "2023-06-03T05:37:14.718Z"
   },
   {
    "duration": 7,
    "start_time": "2023-06-03T05:37:14.942Z"
   },
   {
    "duration": 1066,
    "start_time": "2023-06-03T05:37:14.952Z"
   },
   {
    "duration": 28,
    "start_time": "2023-06-03T05:37:16.021Z"
   },
   {
    "duration": 46,
    "start_time": "2023-06-03T05:37:16.050Z"
   },
   {
    "duration": 6,
    "start_time": "2023-06-03T05:37:16.098Z"
   },
   {
    "duration": 404,
    "start_time": "2023-06-03T05:37:16.105Z"
   },
   {
    "duration": 50,
    "start_time": "2023-06-03T05:37:16.511Z"
   },
   {
    "duration": 44,
    "start_time": "2023-06-03T05:37:16.563Z"
   },
   {
    "duration": 315,
    "start_time": "2023-06-03T05:37:16.609Z"
   },
   {
    "duration": 279,
    "start_time": "2023-06-03T05:37:16.926Z"
   },
   {
    "duration": 6,
    "start_time": "2023-06-03T05:37:17.207Z"
   },
   {
    "duration": 158,
    "start_time": "2023-06-03T05:37:17.215Z"
   },
   {
    "duration": 14,
    "start_time": "2023-06-03T05:37:17.374Z"
   },
   {
    "duration": 17,
    "start_time": "2023-06-03T05:37:17.390Z"
   },
   {
    "duration": 218,
    "start_time": "2023-06-03T05:38:31.709Z"
   },
   {
    "duration": 127,
    "start_time": "2023-06-03T05:49:03.794Z"
   },
   {
    "duration": 175,
    "start_time": "2023-06-03T05:49:18.191Z"
   },
   {
    "duration": 148,
    "start_time": "2023-06-03T05:49:31.914Z"
   },
   {
    "duration": 143,
    "start_time": "2023-06-03T05:50:36.371Z"
   },
   {
    "duration": 122,
    "start_time": "2023-06-03T06:01:07.631Z"
   },
   {
    "duration": 124,
    "start_time": "2023-06-03T06:01:55.340Z"
   },
   {
    "duration": 122,
    "start_time": "2023-06-03T06:02:20.695Z"
   },
   {
    "duration": 132,
    "start_time": "2023-06-03T06:02:52.727Z"
   },
   {
    "duration": 122,
    "start_time": "2023-06-03T06:03:30.745Z"
   },
   {
    "duration": 231,
    "start_time": "2023-06-03T06:04:40.088Z"
   },
   {
    "duration": 112,
    "start_time": "2023-06-03T06:04:49.761Z"
   },
   {
    "duration": 118,
    "start_time": "2023-06-03T06:05:16.671Z"
   },
   {
    "duration": 1270,
    "start_time": "2023-06-03T06:05:24.893Z"
   },
   {
    "duration": 28,
    "start_time": "2023-06-03T06:05:26.166Z"
   },
   {
    "duration": 29,
    "start_time": "2023-06-03T06:05:26.196Z"
   },
   {
    "duration": 37,
    "start_time": "2023-06-03T06:05:26.227Z"
   },
   {
    "duration": 18,
    "start_time": "2023-06-03T06:05:26.268Z"
   },
   {
    "duration": 10,
    "start_time": "2023-06-03T06:05:26.289Z"
   },
   {
    "duration": 22,
    "start_time": "2023-06-03T06:05:26.301Z"
   },
   {
    "duration": 25,
    "start_time": "2023-06-03T06:05:26.326Z"
   },
   {
    "duration": 33,
    "start_time": "2023-06-03T06:05:26.353Z"
   },
   {
    "duration": 7,
    "start_time": "2023-06-03T06:05:26.388Z"
   },
   {
    "duration": 12,
    "start_time": "2023-06-03T06:05:26.397Z"
   },
   {
    "duration": 10,
    "start_time": "2023-06-03T06:05:26.410Z"
   },
   {
    "duration": 32,
    "start_time": "2023-06-03T06:05:26.422Z"
   },
   {
    "duration": 6,
    "start_time": "2023-06-03T06:05:26.460Z"
   },
   {
    "duration": 18,
    "start_time": "2023-06-03T06:05:26.468Z"
   },
   {
    "duration": 19,
    "start_time": "2023-06-03T06:05:26.488Z"
   },
   {
    "duration": 25,
    "start_time": "2023-06-03T06:05:26.509Z"
   },
   {
    "duration": 13,
    "start_time": "2023-06-03T06:05:26.536Z"
   },
   {
    "duration": 30,
    "start_time": "2023-06-03T06:05:26.551Z"
   },
   {
    "duration": 18,
    "start_time": "2023-06-03T06:05:26.583Z"
   },
   {
    "duration": 11,
    "start_time": "2023-06-03T06:05:26.603Z"
   },
   {
    "duration": 39,
    "start_time": "2023-06-03T06:05:26.616Z"
   },
   {
    "duration": 18,
    "start_time": "2023-06-03T06:05:26.657Z"
   },
   {
    "duration": 15,
    "start_time": "2023-06-03T06:05:26.678Z"
   },
   {
    "duration": 22,
    "start_time": "2023-06-03T06:05:26.696Z"
   },
   {
    "duration": 12,
    "start_time": "2023-06-03T06:05:26.720Z"
   },
   {
    "duration": 190,
    "start_time": "2023-06-03T06:05:26.734Z"
   },
   {
    "duration": 32,
    "start_time": "2023-06-03T06:05:26.926Z"
   },
   {
    "duration": 10,
    "start_time": "2023-06-03T06:05:26.960Z"
   },
   {
    "duration": 263,
    "start_time": "2023-06-03T06:05:26.972Z"
   },
   {
    "duration": 0,
    "start_time": "2023-06-03T06:05:27.246Z"
   },
   {
    "duration": 0,
    "start_time": "2023-06-03T06:05:27.246Z"
   },
   {
    "duration": 0,
    "start_time": "2023-06-03T06:05:27.247Z"
   },
   {
    "duration": 0,
    "start_time": "2023-06-03T06:05:27.248Z"
   },
   {
    "duration": 0,
    "start_time": "2023-06-03T06:05:27.249Z"
   },
   {
    "duration": 0,
    "start_time": "2023-06-03T06:05:27.249Z"
   },
   {
    "duration": 0,
    "start_time": "2023-06-03T06:05:27.250Z"
   },
   {
    "duration": 0,
    "start_time": "2023-06-03T06:05:27.251Z"
   },
   {
    "duration": 0,
    "start_time": "2023-06-03T06:05:27.252Z"
   },
   {
    "duration": 0,
    "start_time": "2023-06-03T06:05:27.252Z"
   },
   {
    "duration": 0,
    "start_time": "2023-06-03T06:05:27.253Z"
   },
   {
    "duration": 0,
    "start_time": "2023-06-03T06:05:27.254Z"
   },
   {
    "duration": 0,
    "start_time": "2023-06-03T06:05:27.254Z"
   },
   {
    "duration": 0,
    "start_time": "2023-06-03T06:05:27.255Z"
   },
   {
    "duration": 0,
    "start_time": "2023-06-03T06:05:27.256Z"
   },
   {
    "duration": 0,
    "start_time": "2023-06-03T06:05:27.256Z"
   },
   {
    "duration": 0,
    "start_time": "2023-06-03T06:05:27.257Z"
   },
   {
    "duration": 0,
    "start_time": "2023-06-03T06:05:27.257Z"
   },
   {
    "duration": 0,
    "start_time": "2023-06-03T06:05:27.258Z"
   },
   {
    "duration": 0,
    "start_time": "2023-06-03T06:05:27.260Z"
   },
   {
    "duration": 0,
    "start_time": "2023-06-03T06:05:27.262Z"
   },
   {
    "duration": 0,
    "start_time": "2023-06-03T06:05:27.264Z"
   },
   {
    "duration": 0,
    "start_time": "2023-06-03T06:05:27.265Z"
   },
   {
    "duration": 0,
    "start_time": "2023-06-03T06:05:27.266Z"
   },
   {
    "duration": 0,
    "start_time": "2023-06-03T06:05:27.267Z"
   },
   {
    "duration": 0,
    "start_time": "2023-06-03T06:05:27.269Z"
   },
   {
    "duration": 0,
    "start_time": "2023-06-03T06:05:27.269Z"
   },
   {
    "duration": 0,
    "start_time": "2023-06-03T06:05:27.270Z"
   },
   {
    "duration": 0,
    "start_time": "2023-06-03T06:05:27.271Z"
   },
   {
    "duration": 0,
    "start_time": "2023-06-03T06:05:27.272Z"
   },
   {
    "duration": 0,
    "start_time": "2023-06-03T06:05:27.273Z"
   },
   {
    "duration": 0,
    "start_time": "2023-06-03T06:05:27.274Z"
   },
   {
    "duration": 0,
    "start_time": "2023-06-03T06:05:27.276Z"
   },
   {
    "duration": 0,
    "start_time": "2023-06-03T06:05:27.277Z"
   },
   {
    "duration": 0,
    "start_time": "2023-06-03T06:05:27.278Z"
   },
   {
    "duration": 126,
    "start_time": "2023-06-03T06:05:49.996Z"
   },
   {
    "duration": 127,
    "start_time": "2023-06-03T06:06:27.548Z"
   },
   {
    "duration": 129,
    "start_time": "2023-06-03T06:06:41.059Z"
   },
   {
    "duration": 120,
    "start_time": "2023-06-03T06:06:53.109Z"
   },
   {
    "duration": 133,
    "start_time": "2023-06-03T06:07:05.927Z"
   },
   {
    "duration": 14168,
    "start_time": "2023-06-03T06:07:13.269Z"
   },
   {
    "duration": 126,
    "start_time": "2023-06-03T06:07:43.229Z"
   },
   {
    "duration": 150,
    "start_time": "2023-06-03T06:08:05.272Z"
   },
   {
    "duration": 121,
    "start_time": "2023-06-03T06:08:26.810Z"
   },
   {
    "duration": 13637,
    "start_time": "2023-06-03T06:11:07.577Z"
   },
   {
    "duration": 126,
    "start_time": "2023-06-03T06:11:35.386Z"
   },
   {
    "duration": 128,
    "start_time": "2023-06-03T06:12:14.220Z"
   },
   {
    "duration": 139,
    "start_time": "2023-06-03T06:13:17.582Z"
   },
   {
    "duration": 171,
    "start_time": "2023-06-03T06:13:29.084Z"
   },
   {
    "duration": 125,
    "start_time": "2023-06-03T06:13:34.966Z"
   },
   {
    "duration": 157,
    "start_time": "2023-06-03T06:13:47.739Z"
   },
   {
    "duration": 142,
    "start_time": "2023-06-03T06:13:57.887Z"
   },
   {
    "duration": 142,
    "start_time": "2023-06-03T06:14:44.363Z"
   },
   {
    "duration": 119,
    "start_time": "2023-06-03T06:15:16.825Z"
   },
   {
    "duration": 13292,
    "start_time": "2023-06-03T06:15:24.559Z"
   },
   {
    "duration": 127,
    "start_time": "2023-06-03T06:15:51.791Z"
   },
   {
    "duration": 13942,
    "start_time": "2023-06-03T06:16:04.650Z"
   },
   {
    "duration": 13495,
    "start_time": "2023-06-03T06:16:49.770Z"
   },
   {
    "duration": 123,
    "start_time": "2023-06-03T06:17:11.159Z"
   },
   {
    "duration": 125,
    "start_time": "2023-06-03T06:17:35.740Z"
   },
   {
    "duration": 118,
    "start_time": "2023-06-03T06:18:09.010Z"
   },
   {
    "duration": 113,
    "start_time": "2023-06-03T06:18:55.209Z"
   },
   {
    "duration": 133,
    "start_time": "2023-06-03T06:22:25.824Z"
   },
   {
    "duration": 141,
    "start_time": "2023-06-03T06:22:39.914Z"
   },
   {
    "duration": 126,
    "start_time": "2023-06-03T06:23:59.685Z"
   },
   {
    "duration": 6,
    "start_time": "2023-06-03T06:26:56.584Z"
   },
   {
    "duration": 6,
    "start_time": "2023-06-03T06:27:47.903Z"
   },
   {
    "duration": 13,
    "start_time": "2023-06-03T06:28:11.068Z"
   },
   {
    "duration": 9,
    "start_time": "2023-06-03T06:28:26.511Z"
   },
   {
    "duration": 115,
    "start_time": "2023-06-03T06:29:24.809Z"
   },
   {
    "duration": 1334,
    "start_time": "2023-06-03T06:31:10.978Z"
   },
   {
    "duration": 35,
    "start_time": "2023-06-03T06:31:12.315Z"
   },
   {
    "duration": 48,
    "start_time": "2023-06-03T06:31:12.352Z"
   },
   {
    "duration": 18,
    "start_time": "2023-06-03T06:31:12.402Z"
   },
   {
    "duration": 15,
    "start_time": "2023-06-03T06:31:12.422Z"
   },
   {
    "duration": 9,
    "start_time": "2023-06-03T06:31:12.439Z"
   },
   {
    "duration": 55,
    "start_time": "2023-06-03T06:31:12.450Z"
   },
   {
    "duration": 13,
    "start_time": "2023-06-03T06:31:12.507Z"
   },
   {
    "duration": 32,
    "start_time": "2023-06-03T06:31:12.521Z"
   },
   {
    "duration": 34,
    "start_time": "2023-06-03T06:31:12.562Z"
   },
   {
    "duration": 23,
    "start_time": "2023-06-03T06:31:12.597Z"
   },
   {
    "duration": 6,
    "start_time": "2023-06-03T06:31:12.622Z"
   },
   {
    "duration": 25,
    "start_time": "2023-06-03T06:31:12.630Z"
   },
   {
    "duration": 39,
    "start_time": "2023-06-03T06:31:12.658Z"
   },
   {
    "duration": 20,
    "start_time": "2023-06-03T06:31:12.699Z"
   },
   {
    "duration": 8,
    "start_time": "2023-06-03T06:31:12.721Z"
   },
   {
    "duration": 15,
    "start_time": "2023-06-03T06:31:12.731Z"
   },
   {
    "duration": 28,
    "start_time": "2023-06-03T06:31:12.747Z"
   },
   {
    "duration": 16,
    "start_time": "2023-06-03T06:31:12.782Z"
   },
   {
    "duration": 14,
    "start_time": "2023-06-03T06:31:12.800Z"
   },
   {
    "duration": 13,
    "start_time": "2023-06-03T06:31:12.815Z"
   },
   {
    "duration": 33,
    "start_time": "2023-06-03T06:31:12.830Z"
   },
   {
    "duration": 28,
    "start_time": "2023-06-03T06:31:12.865Z"
   },
   {
    "duration": 22,
    "start_time": "2023-06-03T06:31:12.896Z"
   },
   {
    "duration": 9,
    "start_time": "2023-06-03T06:31:12.919Z"
   },
   {
    "duration": 8,
    "start_time": "2023-06-03T06:31:12.929Z"
   },
   {
    "duration": 178,
    "start_time": "2023-06-03T06:31:12.938Z"
   },
   {
    "duration": 7,
    "start_time": "2023-06-03T06:31:13.117Z"
   },
   {
    "duration": 32,
    "start_time": "2023-06-03T06:31:13.126Z"
   },
   {
    "duration": 23,
    "start_time": "2023-06-03T06:31:13.168Z"
   },
   {
    "duration": 17,
    "start_time": "2023-06-03T06:31:13.194Z"
   },
   {
    "duration": 15,
    "start_time": "2023-06-03T06:31:13.213Z"
   },
   {
    "duration": 207,
    "start_time": "2023-06-03T06:31:13.230Z"
   },
   {
    "duration": 15,
    "start_time": "2023-06-03T06:31:13.438Z"
   },
   {
    "duration": 255,
    "start_time": "2023-06-03T06:31:13.460Z"
   },
   {
    "duration": 5,
    "start_time": "2023-06-03T06:31:13.717Z"
   },
   {
    "duration": 294,
    "start_time": "2023-06-03T06:31:13.723Z"
   },
   {
    "duration": 12,
    "start_time": "2023-06-03T06:31:14.019Z"
   },
   {
    "duration": 38,
    "start_time": "2023-06-03T06:31:14.033Z"
   },
   {
    "duration": 31,
    "start_time": "2023-06-03T06:31:14.081Z"
   },
   {
    "duration": 88,
    "start_time": "2023-06-03T06:31:14.119Z"
   },
   {
    "duration": 20,
    "start_time": "2023-06-03T06:31:14.216Z"
   },
   {
    "duration": 12,
    "start_time": "2023-06-03T06:31:14.238Z"
   },
   {
    "duration": 65,
    "start_time": "2023-06-03T06:31:14.252Z"
   },
   {
    "duration": 28,
    "start_time": "2023-06-03T06:31:14.319Z"
   },
   {
    "duration": 248,
    "start_time": "2023-06-03T06:31:14.358Z"
   },
   {
    "duration": 5,
    "start_time": "2023-06-03T06:31:14.608Z"
   },
   {
    "duration": 215,
    "start_time": "2023-06-03T06:31:14.614Z"
   },
   {
    "duration": 5,
    "start_time": "2023-06-03T06:31:14.831Z"
   },
   {
    "duration": 221,
    "start_time": "2023-06-03T06:31:14.837Z"
   },
   {
    "duration": 14,
    "start_time": "2023-06-03T06:31:15.059Z"
   },
   {
    "duration": 208,
    "start_time": "2023-06-03T06:31:15.075Z"
   },
   {
    "duration": 5,
    "start_time": "2023-06-03T06:31:15.284Z"
   },
   {
    "duration": 1062,
    "start_time": "2023-06-03T06:31:15.291Z"
   },
   {
    "duration": 26,
    "start_time": "2023-06-03T06:31:16.355Z"
   },
   {
    "duration": 22,
    "start_time": "2023-06-03T06:31:16.382Z"
   },
   {
    "duration": 7,
    "start_time": "2023-06-03T06:31:16.407Z"
   },
   {
    "duration": 414,
    "start_time": "2023-06-03T06:31:16.416Z"
   },
   {
    "duration": 60,
    "start_time": "2023-06-03T06:31:16.832Z"
   },
   {
    "duration": 37,
    "start_time": "2023-06-03T06:31:16.901Z"
   },
   {
    "duration": 334,
    "start_time": "2023-06-03T06:31:16.940Z"
   },
   {
    "duration": 281,
    "start_time": "2023-06-03T06:31:17.276Z"
   },
   {
    "duration": 17,
    "start_time": "2023-06-03T06:31:17.564Z"
   },
   {
    "duration": 178,
    "start_time": "2023-06-03T06:31:17.586Z"
   },
   {
    "duration": 9,
    "start_time": "2023-06-03T06:31:17.766Z"
   },
   {
    "duration": 30,
    "start_time": "2023-06-03T06:31:17.784Z"
   },
   {
    "duration": 225,
    "start_time": "2023-06-03T06:33:34.373Z"
   },
   {
    "duration": 313,
    "start_time": "2023-06-03T06:35:40.362Z"
   },
   {
    "duration": 179,
    "start_time": "2023-06-03T06:35:59.851Z"
   },
   {
    "duration": 144,
    "start_time": "2023-06-03T06:36:14.569Z"
   },
   {
    "duration": 163,
    "start_time": "2023-06-03T06:36:46.700Z"
   },
   {
    "duration": 19,
    "start_time": "2023-06-03T06:37:54.677Z"
   },
   {
    "duration": 1249,
    "start_time": "2023-06-03T06:38:35.770Z"
   },
   {
    "duration": 52,
    "start_time": "2023-06-03T06:38:37.021Z"
   },
   {
    "duration": 33,
    "start_time": "2023-06-03T06:38:37.075Z"
   },
   {
    "duration": 16,
    "start_time": "2023-06-03T06:38:37.110Z"
   },
   {
    "duration": 25,
    "start_time": "2023-06-03T06:38:37.129Z"
   },
   {
    "duration": 21,
    "start_time": "2023-06-03T06:38:37.156Z"
   },
   {
    "duration": 17,
    "start_time": "2023-06-03T06:38:37.178Z"
   },
   {
    "duration": 14,
    "start_time": "2023-06-03T06:38:37.196Z"
   },
   {
    "duration": 13,
    "start_time": "2023-06-03T06:38:37.211Z"
   },
   {
    "duration": 10,
    "start_time": "2023-06-03T06:38:37.226Z"
   },
   {
    "duration": 33,
    "start_time": "2023-06-03T06:38:37.238Z"
   },
   {
    "duration": 9,
    "start_time": "2023-06-03T06:38:37.273Z"
   },
   {
    "duration": 9,
    "start_time": "2023-06-03T06:38:37.284Z"
   },
   {
    "duration": 5,
    "start_time": "2023-06-03T06:38:37.295Z"
   },
   {
    "duration": 6,
    "start_time": "2023-06-03T06:38:37.302Z"
   },
   {
    "duration": 8,
    "start_time": "2023-06-03T06:38:37.309Z"
   },
   {
    "duration": 9,
    "start_time": "2023-06-03T06:38:37.318Z"
   },
   {
    "duration": 28,
    "start_time": "2023-06-03T06:38:37.329Z"
   },
   {
    "duration": 22,
    "start_time": "2023-06-03T06:38:37.369Z"
   },
   {
    "duration": 20,
    "start_time": "2023-06-03T06:38:37.393Z"
   },
   {
    "duration": 7,
    "start_time": "2023-06-03T06:38:37.414Z"
   },
   {
    "duration": 29,
    "start_time": "2023-06-03T06:38:37.423Z"
   },
   {
    "duration": 13,
    "start_time": "2023-06-03T06:38:37.454Z"
   },
   {
    "duration": 27,
    "start_time": "2023-06-03T06:38:37.472Z"
   },
   {
    "duration": 9,
    "start_time": "2023-06-03T06:38:37.500Z"
   },
   {
    "duration": 5,
    "start_time": "2023-06-03T06:38:37.511Z"
   },
   {
    "duration": 167,
    "start_time": "2023-06-03T06:38:37.517Z"
   },
   {
    "duration": 6,
    "start_time": "2023-06-03T06:38:37.685Z"
   },
   {
    "duration": 8,
    "start_time": "2023-06-03T06:38:37.692Z"
   },
   {
    "duration": 6,
    "start_time": "2023-06-03T06:38:37.701Z"
   },
   {
    "duration": 10,
    "start_time": "2023-06-03T06:38:37.709Z"
   },
   {
    "duration": 33,
    "start_time": "2023-06-03T06:38:37.720Z"
   },
   {
    "duration": 148,
    "start_time": "2023-06-03T06:38:37.756Z"
   },
   {
    "duration": 0,
    "start_time": "2023-06-03T06:38:37.906Z"
   },
   {
    "duration": 0,
    "start_time": "2023-06-03T06:38:37.908Z"
   },
   {
    "duration": 0,
    "start_time": "2023-06-03T06:38:37.909Z"
   },
   {
    "duration": 0,
    "start_time": "2023-06-03T06:38:37.911Z"
   },
   {
    "duration": 0,
    "start_time": "2023-06-03T06:38:37.912Z"
   },
   {
    "duration": 0,
    "start_time": "2023-06-03T06:38:37.913Z"
   },
   {
    "duration": 0,
    "start_time": "2023-06-03T06:38:37.914Z"
   },
   {
    "duration": 0,
    "start_time": "2023-06-03T06:38:37.915Z"
   },
   {
    "duration": 0,
    "start_time": "2023-06-03T06:38:37.916Z"
   },
   {
    "duration": 0,
    "start_time": "2023-06-03T06:38:37.917Z"
   },
   {
    "duration": 0,
    "start_time": "2023-06-03T06:38:37.918Z"
   },
   {
    "duration": 0,
    "start_time": "2023-06-03T06:38:37.920Z"
   },
   {
    "duration": 0,
    "start_time": "2023-06-03T06:38:37.947Z"
   },
   {
    "duration": 0,
    "start_time": "2023-06-03T06:38:37.948Z"
   },
   {
    "duration": 0,
    "start_time": "2023-06-03T06:38:37.948Z"
   },
   {
    "duration": 0,
    "start_time": "2023-06-03T06:38:37.949Z"
   },
   {
    "duration": 0,
    "start_time": "2023-06-03T06:38:37.950Z"
   },
   {
    "duration": 0,
    "start_time": "2023-06-03T06:38:37.951Z"
   },
   {
    "duration": 0,
    "start_time": "2023-06-03T06:38:37.952Z"
   },
   {
    "duration": 0,
    "start_time": "2023-06-03T06:38:37.953Z"
   },
   {
    "duration": 0,
    "start_time": "2023-06-03T06:38:37.953Z"
   },
   {
    "duration": 0,
    "start_time": "2023-06-03T06:38:37.954Z"
   },
   {
    "duration": 0,
    "start_time": "2023-06-03T06:38:37.955Z"
   },
   {
    "duration": 0,
    "start_time": "2023-06-03T06:38:37.956Z"
   },
   {
    "duration": 0,
    "start_time": "2023-06-03T06:38:37.956Z"
   },
   {
    "duration": 0,
    "start_time": "2023-06-03T06:38:37.957Z"
   },
   {
    "duration": 0,
    "start_time": "2023-06-03T06:38:37.958Z"
   },
   {
    "duration": 0,
    "start_time": "2023-06-03T06:38:37.959Z"
   },
   {
    "duration": 0,
    "start_time": "2023-06-03T06:38:37.962Z"
   },
   {
    "duration": 0,
    "start_time": "2023-06-03T06:38:37.962Z"
   },
   {
    "duration": 0,
    "start_time": "2023-06-03T06:38:37.969Z"
   },
   {
    "duration": 0,
    "start_time": "2023-06-03T06:38:37.970Z"
   },
   {
    "duration": 0,
    "start_time": "2023-06-03T06:38:37.971Z"
   },
   {
    "duration": 150,
    "start_time": "2023-06-03T06:38:54.391Z"
   },
   {
    "duration": 17,
    "start_time": "2023-06-03T06:39:00.402Z"
   },
   {
    "duration": 43,
    "start_time": "2023-06-03T06:39:14.634Z"
   },
   {
    "duration": 1257,
    "start_time": "2023-06-03T06:40:08.678Z"
   },
   {
    "duration": 49,
    "start_time": "2023-06-03T06:40:09.943Z"
   },
   {
    "duration": 38,
    "start_time": "2023-06-03T06:40:09.994Z"
   },
   {
    "duration": 41,
    "start_time": "2023-06-03T06:40:10.034Z"
   },
   {
    "duration": 38,
    "start_time": "2023-06-03T06:40:10.078Z"
   },
   {
    "duration": 9,
    "start_time": "2023-06-03T06:40:10.119Z"
   },
   {
    "duration": 29,
    "start_time": "2023-06-03T06:40:10.130Z"
   },
   {
    "duration": 61,
    "start_time": "2023-06-03T06:40:10.165Z"
   },
   {
    "duration": 42,
    "start_time": "2023-06-03T06:40:10.228Z"
   },
   {
    "duration": 37,
    "start_time": "2023-06-03T06:40:10.276Z"
   },
   {
    "duration": 21,
    "start_time": "2023-06-03T06:40:10.315Z"
   },
   {
    "duration": 20,
    "start_time": "2023-06-03T06:40:10.338Z"
   },
   {
    "duration": 41,
    "start_time": "2023-06-03T06:40:10.365Z"
   },
   {
    "duration": 11,
    "start_time": "2023-06-03T06:40:10.411Z"
   },
   {
    "duration": 7,
    "start_time": "2023-06-03T06:40:10.425Z"
   },
   {
    "duration": 15,
    "start_time": "2023-06-03T06:40:10.434Z"
   },
   {
    "duration": 41,
    "start_time": "2023-06-03T06:40:10.451Z"
   },
   {
    "duration": 6,
    "start_time": "2023-06-03T06:40:10.495Z"
   },
   {
    "duration": 8,
    "start_time": "2023-06-03T06:40:10.503Z"
   },
   {
    "duration": 13,
    "start_time": "2023-06-03T06:40:10.513Z"
   },
   {
    "duration": 6,
    "start_time": "2023-06-03T06:40:10.528Z"
   },
   {
    "duration": 63,
    "start_time": "2023-06-03T06:40:10.536Z"
   },
   {
    "duration": 19,
    "start_time": "2023-06-03T06:40:10.601Z"
   },
   {
    "duration": 75,
    "start_time": "2023-06-03T06:40:10.622Z"
   },
   {
    "duration": 13,
    "start_time": "2023-06-03T06:40:10.699Z"
   },
   {
    "duration": 6,
    "start_time": "2023-06-03T06:40:10.714Z"
   },
   {
    "duration": 178,
    "start_time": "2023-06-03T06:40:10.722Z"
   },
   {
    "duration": 7,
    "start_time": "2023-06-03T06:40:10.901Z"
   },
   {
    "duration": 13,
    "start_time": "2023-06-03T06:40:10.910Z"
   },
   {
    "duration": 25,
    "start_time": "2023-06-03T06:40:10.926Z"
   },
   {
    "duration": 44,
    "start_time": "2023-06-03T06:40:10.953Z"
   },
   {
    "duration": 8,
    "start_time": "2023-06-03T06:40:10.999Z"
   },
   {
    "duration": 127,
    "start_time": "2023-06-03T06:40:11.009Z"
   },
   {
    "duration": 0,
    "start_time": "2023-06-03T06:40:11.138Z"
   },
   {
    "duration": 0,
    "start_time": "2023-06-03T06:40:11.146Z"
   },
   {
    "duration": 0,
    "start_time": "2023-06-03T06:40:11.147Z"
   },
   {
    "duration": 0,
    "start_time": "2023-06-03T06:40:11.150Z"
   },
   {
    "duration": 0,
    "start_time": "2023-06-03T06:40:11.151Z"
   },
   {
    "duration": 0,
    "start_time": "2023-06-03T06:40:11.152Z"
   },
   {
    "duration": 0,
    "start_time": "2023-06-03T06:40:11.153Z"
   },
   {
    "duration": 0,
    "start_time": "2023-06-03T06:40:11.156Z"
   },
   {
    "duration": 0,
    "start_time": "2023-06-03T06:40:11.157Z"
   },
   {
    "duration": 0,
    "start_time": "2023-06-03T06:40:11.157Z"
   },
   {
    "duration": 0,
    "start_time": "2023-06-03T06:40:11.160Z"
   },
   {
    "duration": 0,
    "start_time": "2023-06-03T06:40:11.161Z"
   },
   {
    "duration": 0,
    "start_time": "2023-06-03T06:40:11.165Z"
   },
   {
    "duration": 0,
    "start_time": "2023-06-03T06:40:11.169Z"
   },
   {
    "duration": 0,
    "start_time": "2023-06-03T06:40:11.179Z"
   },
   {
    "duration": 0,
    "start_time": "2023-06-03T06:40:11.180Z"
   },
   {
    "duration": 0,
    "start_time": "2023-06-03T06:40:11.183Z"
   },
   {
    "duration": 0,
    "start_time": "2023-06-03T06:40:11.185Z"
   },
   {
    "duration": 0,
    "start_time": "2023-06-03T06:40:11.187Z"
   },
   {
    "duration": 0,
    "start_time": "2023-06-03T06:40:11.188Z"
   },
   {
    "duration": 0,
    "start_time": "2023-06-03T06:40:11.190Z"
   },
   {
    "duration": 0,
    "start_time": "2023-06-03T06:40:11.192Z"
   },
   {
    "duration": 0,
    "start_time": "2023-06-03T06:40:11.194Z"
   },
   {
    "duration": 0,
    "start_time": "2023-06-03T06:40:11.196Z"
   },
   {
    "duration": 0,
    "start_time": "2023-06-03T06:40:11.197Z"
   },
   {
    "duration": 0,
    "start_time": "2023-06-03T06:40:11.199Z"
   },
   {
    "duration": 0,
    "start_time": "2023-06-03T06:40:11.200Z"
   },
   {
    "duration": 0,
    "start_time": "2023-06-03T06:40:11.202Z"
   },
   {
    "duration": 0,
    "start_time": "2023-06-03T06:40:11.203Z"
   },
   {
    "duration": 0,
    "start_time": "2023-06-03T06:40:11.245Z"
   },
   {
    "duration": 0,
    "start_time": "2023-06-03T06:40:11.246Z"
   },
   {
    "duration": 0,
    "start_time": "2023-06-03T06:40:11.247Z"
   },
   {
    "duration": 0,
    "start_time": "2023-06-03T06:40:11.251Z"
   },
   {
    "duration": 171,
    "start_time": "2023-06-03T06:40:35.792Z"
   },
   {
    "duration": 120,
    "start_time": "2023-06-03T06:40:45.204Z"
   },
   {
    "duration": 155,
    "start_time": "2023-06-03T06:40:53.371Z"
   },
   {
    "duration": 17,
    "start_time": "2023-06-03T06:41:03.923Z"
   },
   {
    "duration": 18,
    "start_time": "2023-06-03T06:41:08.177Z"
   },
   {
    "duration": 163,
    "start_time": "2023-06-03T06:41:22.023Z"
   },
   {
    "duration": 214,
    "start_time": "2023-06-03T06:41:43.964Z"
   },
   {
    "duration": 29,
    "start_time": "2023-06-03T06:42:10.045Z"
   },
   {
    "duration": 10,
    "start_time": "2023-06-03T06:42:20.013Z"
   },
   {
    "duration": 9,
    "start_time": "2023-06-03T06:42:36.069Z"
   },
   {
    "duration": 17,
    "start_time": "2023-06-03T06:42:42.968Z"
   },
   {
    "duration": 200,
    "start_time": "2023-06-03T06:46:01.316Z"
   },
   {
    "duration": 1221,
    "start_time": "2023-06-03T06:46:57.310Z"
   },
   {
    "duration": 49,
    "start_time": "2023-06-03T06:46:58.534Z"
   },
   {
    "duration": 28,
    "start_time": "2023-06-03T06:46:58.585Z"
   },
   {
    "duration": 15,
    "start_time": "2023-06-03T06:46:58.614Z"
   },
   {
    "duration": 18,
    "start_time": "2023-06-03T06:46:58.631Z"
   },
   {
    "duration": 29,
    "start_time": "2023-06-03T06:46:58.651Z"
   },
   {
    "duration": 14,
    "start_time": "2023-06-03T06:46:58.682Z"
   },
   {
    "duration": 16,
    "start_time": "2023-06-03T06:46:58.698Z"
   },
   {
    "duration": 17,
    "start_time": "2023-06-03T06:46:58.716Z"
   },
   {
    "duration": 19,
    "start_time": "2023-06-03T06:46:58.735Z"
   },
   {
    "duration": 31,
    "start_time": "2023-06-03T06:46:58.756Z"
   },
   {
    "duration": 10,
    "start_time": "2023-06-03T06:46:58.789Z"
   },
   {
    "duration": 10,
    "start_time": "2023-06-03T06:46:58.801Z"
   },
   {
    "duration": 9,
    "start_time": "2023-06-03T06:46:58.814Z"
   },
   {
    "duration": 7,
    "start_time": "2023-06-03T06:46:58.825Z"
   },
   {
    "duration": 10,
    "start_time": "2023-06-03T06:46:58.834Z"
   },
   {
    "duration": 29,
    "start_time": "2023-06-03T06:46:58.853Z"
   },
   {
    "duration": 7,
    "start_time": "2023-06-03T06:46:58.884Z"
   },
   {
    "duration": 8,
    "start_time": "2023-06-03T06:46:58.893Z"
   },
   {
    "duration": 14,
    "start_time": "2023-06-03T06:46:58.903Z"
   },
   {
    "duration": 5,
    "start_time": "2023-06-03T06:46:58.918Z"
   },
   {
    "duration": 15,
    "start_time": "2023-06-03T06:46:58.925Z"
   },
   {
    "duration": 23,
    "start_time": "2023-06-03T06:46:58.946Z"
   },
   {
    "duration": 34,
    "start_time": "2023-06-03T06:46:58.971Z"
   },
   {
    "duration": 9,
    "start_time": "2023-06-03T06:46:59.007Z"
   },
   {
    "duration": 15,
    "start_time": "2023-06-03T06:46:59.017Z"
   },
   {
    "duration": 165,
    "start_time": "2023-06-03T06:46:59.033Z"
   },
   {
    "duration": 7,
    "start_time": "2023-06-03T06:46:59.201Z"
   },
   {
    "duration": 16,
    "start_time": "2023-06-03T06:46:59.210Z"
   },
   {
    "duration": 16,
    "start_time": "2023-06-03T06:46:59.228Z"
   },
   {
    "duration": 45,
    "start_time": "2023-06-03T06:46:59.245Z"
   },
   {
    "duration": 7,
    "start_time": "2023-06-03T06:46:59.292Z"
   },
   {
    "duration": 165,
    "start_time": "2023-06-03T06:46:59.301Z"
   },
   {
    "duration": 7,
    "start_time": "2023-06-03T06:46:59.468Z"
   },
   {
    "duration": 208,
    "start_time": "2023-06-03T06:46:59.477Z"
   },
   {
    "duration": 5,
    "start_time": "2023-06-03T06:46:59.687Z"
   },
   {
    "duration": 222,
    "start_time": "2023-06-03T06:46:59.693Z"
   },
   {
    "duration": 32,
    "start_time": "2023-06-03T06:46:59.917Z"
   },
   {
    "duration": 26,
    "start_time": "2023-06-03T06:46:59.957Z"
   },
   {
    "duration": 20,
    "start_time": "2023-06-03T06:46:59.985Z"
   },
   {
    "duration": 28,
    "start_time": "2023-06-03T06:47:00.009Z"
   },
   {
    "duration": 40,
    "start_time": "2023-06-03T06:47:00.039Z"
   },
   {
    "duration": 18,
    "start_time": "2023-06-03T06:47:00.080Z"
   },
   {
    "duration": 40,
    "start_time": "2023-06-03T06:47:00.100Z"
   },
   {
    "duration": 65,
    "start_time": "2023-06-03T06:47:00.146Z"
   },
   {
    "duration": 196,
    "start_time": "2023-06-03T06:47:00.213Z"
   },
   {
    "duration": 5,
    "start_time": "2023-06-03T06:47:00.412Z"
   },
   {
    "duration": 233,
    "start_time": "2023-06-03T06:47:00.419Z"
   },
   {
    "duration": 7,
    "start_time": "2023-06-03T06:47:00.654Z"
   },
   {
    "duration": 202,
    "start_time": "2023-06-03T06:47:00.663Z"
   },
   {
    "duration": 11,
    "start_time": "2023-06-03T06:47:00.867Z"
   },
   {
    "duration": 219,
    "start_time": "2023-06-03T06:47:00.879Z"
   },
   {
    "duration": 6,
    "start_time": "2023-06-03T06:47:01.099Z"
   },
   {
    "duration": 1012,
    "start_time": "2023-06-03T06:47:01.107Z"
   },
   {
    "duration": 35,
    "start_time": "2023-06-03T06:47:02.121Z"
   },
   {
    "duration": 13,
    "start_time": "2023-06-03T06:47:02.165Z"
   },
   {
    "duration": 27,
    "start_time": "2023-06-03T06:47:02.180Z"
   },
   {
    "duration": 365,
    "start_time": "2023-06-03T06:47:02.209Z"
   },
   {
    "duration": 31,
    "start_time": "2023-06-03T06:47:02.576Z"
   },
   {
    "duration": 56,
    "start_time": "2023-06-03T06:47:02.609Z"
   },
   {
    "duration": 403,
    "start_time": "2023-06-03T06:47:02.666Z"
   },
   {
    "duration": 250,
    "start_time": "2023-06-03T06:47:03.070Z"
   },
   {
    "duration": 21,
    "start_time": "2023-06-03T06:47:03.322Z"
   },
   {
    "duration": 138,
    "start_time": "2023-06-03T06:47:03.354Z"
   },
   {
    "duration": 6,
    "start_time": "2023-06-03T06:47:03.494Z"
   },
   {
    "duration": 20,
    "start_time": "2023-06-03T06:47:03.501Z"
   },
   {
    "duration": 273,
    "start_time": "2023-06-03T06:50:49.573Z"
   },
   {
    "duration": 183,
    "start_time": "2023-06-03T06:51:01.657Z"
   },
   {
    "duration": 167,
    "start_time": "2023-06-03T06:51:18.808Z"
   },
   {
    "duration": 127,
    "start_time": "2023-06-03T06:51:24.068Z"
   },
   {
    "duration": 100,
    "start_time": "2023-06-03T06:51:28.408Z"
   },
   {
    "duration": 162,
    "start_time": "2023-06-03T06:51:31.072Z"
   },
   {
    "duration": 12,
    "start_time": "2023-06-03T06:53:31.671Z"
   },
   {
    "duration": 17,
    "start_time": "2023-06-03T06:53:47.814Z"
   },
   {
    "duration": 162,
    "start_time": "2023-06-03T06:58:56.586Z"
   },
   {
    "duration": 163,
    "start_time": "2023-06-03T06:59:12.667Z"
   },
   {
    "duration": 188,
    "start_time": "2023-06-03T06:59:48.460Z"
   },
   {
    "duration": 188,
    "start_time": "2023-06-03T06:59:58.173Z"
   },
   {
    "duration": 192,
    "start_time": "2023-06-03T07:00:22.061Z"
   },
   {
    "duration": 313,
    "start_time": "2023-06-03T07:00:31.597Z"
   },
   {
    "duration": 198,
    "start_time": "2023-06-03T07:01:37.323Z"
   },
   {
    "duration": 183,
    "start_time": "2023-06-03T07:02:10.106Z"
   },
   {
    "duration": 6,
    "start_time": "2023-06-03T07:02:41.957Z"
   },
   {
    "duration": 1166,
    "start_time": "2023-06-03T07:03:34.459Z"
   },
   {
    "duration": 29,
    "start_time": "2023-06-03T07:03:35.628Z"
   },
   {
    "duration": 27,
    "start_time": "2023-06-03T07:03:35.659Z"
   },
   {
    "duration": 17,
    "start_time": "2023-06-03T07:03:35.689Z"
   },
   {
    "duration": 21,
    "start_time": "2023-06-03T07:03:35.708Z"
   },
   {
    "duration": 17,
    "start_time": "2023-06-03T07:03:35.731Z"
   },
   {
    "duration": 16,
    "start_time": "2023-06-03T07:03:35.750Z"
   },
   {
    "duration": 13,
    "start_time": "2023-06-03T07:03:35.768Z"
   },
   {
    "duration": 14,
    "start_time": "2023-06-03T07:03:35.783Z"
   },
   {
    "duration": 8,
    "start_time": "2023-06-03T07:03:35.800Z"
   },
   {
    "duration": 35,
    "start_time": "2023-06-03T07:03:35.810Z"
   },
   {
    "duration": 14,
    "start_time": "2023-06-03T07:03:35.847Z"
   },
   {
    "duration": 16,
    "start_time": "2023-06-03T07:03:35.862Z"
   },
   {
    "duration": 6,
    "start_time": "2023-06-03T07:03:35.880Z"
   },
   {
    "duration": 8,
    "start_time": "2023-06-03T07:03:35.888Z"
   },
   {
    "duration": 10,
    "start_time": "2023-06-03T07:03:35.898Z"
   },
   {
    "duration": 9,
    "start_time": "2023-06-03T07:03:35.910Z"
   },
   {
    "duration": 8,
    "start_time": "2023-06-03T07:03:35.943Z"
   },
   {
    "duration": 10,
    "start_time": "2023-06-03T07:03:35.953Z"
   },
   {
    "duration": 16,
    "start_time": "2023-06-03T07:03:35.965Z"
   },
   {
    "duration": 4,
    "start_time": "2023-06-03T07:03:35.983Z"
   },
   {
    "duration": 21,
    "start_time": "2023-06-03T07:03:35.989Z"
   },
   {
    "duration": 34,
    "start_time": "2023-06-03T07:03:36.011Z"
   },
   {
    "duration": 17,
    "start_time": "2023-06-03T07:03:36.047Z"
   },
   {
    "duration": 10,
    "start_time": "2023-06-03T07:03:36.066Z"
   },
   {
    "duration": 6,
    "start_time": "2023-06-03T07:03:36.078Z"
   },
   {
    "duration": 173,
    "start_time": "2023-06-03T07:03:36.086Z"
   },
   {
    "duration": 8,
    "start_time": "2023-06-03T07:03:36.264Z"
   },
   {
    "duration": 9,
    "start_time": "2023-06-03T07:03:36.274Z"
   },
   {
    "duration": 43,
    "start_time": "2023-06-03T07:03:36.286Z"
   },
   {
    "duration": 37,
    "start_time": "2023-06-03T07:03:36.332Z"
   },
   {
    "duration": 21,
    "start_time": "2023-06-03T07:03:36.371Z"
   },
   {
    "duration": 191,
    "start_time": "2023-06-03T07:03:36.395Z"
   },
   {
    "duration": 11,
    "start_time": "2023-06-03T07:03:36.589Z"
   },
   {
    "duration": 19,
    "start_time": "2023-06-03T07:03:36.602Z"
   },
   {
    "duration": 207,
    "start_time": "2023-06-03T07:03:36.623Z"
   },
   {
    "duration": 19,
    "start_time": "2023-06-03T07:03:36.832Z"
   },
   {
    "duration": 300,
    "start_time": "2023-06-03T07:03:36.853Z"
   },
   {
    "duration": 11,
    "start_time": "2023-06-03T07:03:37.155Z"
   },
   {
    "duration": 24,
    "start_time": "2023-06-03T07:03:37.168Z"
   },
   {
    "duration": 12,
    "start_time": "2023-06-03T07:03:37.194Z"
   },
   {
    "duration": 49,
    "start_time": "2023-06-03T07:03:37.208Z"
   },
   {
    "duration": 8,
    "start_time": "2023-06-03T07:03:37.259Z"
   },
   {
    "duration": 6,
    "start_time": "2023-06-03T07:03:37.270Z"
   },
   {
    "duration": 21,
    "start_time": "2023-06-03T07:03:37.278Z"
   },
   {
    "duration": 55,
    "start_time": "2023-06-03T07:03:37.301Z"
   },
   {
    "duration": 191,
    "start_time": "2023-06-03T07:03:37.359Z"
   },
   {
    "duration": 5,
    "start_time": "2023-06-03T07:03:37.552Z"
   },
   {
    "duration": 203,
    "start_time": "2023-06-03T07:03:37.558Z"
   },
   {
    "duration": 5,
    "start_time": "2023-06-03T07:03:37.763Z"
   },
   {
    "duration": 222,
    "start_time": "2023-06-03T07:03:37.770Z"
   },
   {
    "duration": 7,
    "start_time": "2023-06-03T07:03:37.994Z"
   },
   {
    "duration": 215,
    "start_time": "2023-06-03T07:03:38.003Z"
   },
   {
    "duration": 7,
    "start_time": "2023-06-03T07:03:38.220Z"
   },
   {
    "duration": 998,
    "start_time": "2023-06-03T07:03:38.229Z"
   },
   {
    "duration": 27,
    "start_time": "2023-06-03T07:03:39.229Z"
   },
   {
    "duration": 6,
    "start_time": "2023-06-03T07:03:39.259Z"
   },
   {
    "duration": 9,
    "start_time": "2023-06-03T07:03:39.267Z"
   },
   {
    "duration": 349,
    "start_time": "2023-06-03T07:03:39.278Z"
   },
   {
    "duration": 42,
    "start_time": "2023-06-03T07:03:39.629Z"
   },
   {
    "duration": 33,
    "start_time": "2023-06-03T07:03:39.673Z"
   },
   {
    "duration": 396,
    "start_time": "2023-06-03T07:03:39.708Z"
   },
   {
    "duration": 258,
    "start_time": "2023-06-03T07:03:40.105Z"
   },
   {
    "duration": 8,
    "start_time": "2023-06-03T07:03:40.365Z"
   },
   {
    "duration": 147,
    "start_time": "2023-06-03T07:03:40.375Z"
   },
   {
    "duration": 6,
    "start_time": "2023-06-03T07:03:40.525Z"
   },
   {
    "duration": 27,
    "start_time": "2023-06-03T07:03:40.542Z"
   },
   {
    "duration": 160,
    "start_time": "2023-06-03T07:08:09.868Z"
   },
   {
    "duration": 222,
    "start_time": "2023-06-03T07:08:34.154Z"
   },
   {
    "duration": 174,
    "start_time": "2023-06-03T07:08:48.873Z"
   },
   {
    "duration": 175,
    "start_time": "2023-06-03T07:09:45.096Z"
   },
   {
    "duration": 174,
    "start_time": "2023-06-03T07:15:29.674Z"
   },
   {
    "duration": 154,
    "start_time": "2023-06-03T07:15:41.481Z"
   },
   {
    "duration": 225,
    "start_time": "2023-06-03T07:15:45.270Z"
   },
   {
    "duration": 465,
    "start_time": "2023-06-03T07:15:53.095Z"
   },
   {
    "duration": 590,
    "start_time": "2023-06-03T07:16:09.078Z"
   },
   {
    "duration": 209,
    "start_time": "2023-06-03T07:16:15.421Z"
   },
   {
    "duration": 192,
    "start_time": "2023-06-03T07:16:20.400Z"
   },
   {
    "duration": 210,
    "start_time": "2023-06-03T07:16:25.543Z"
   },
   {
    "duration": 217,
    "start_time": "2023-06-03T07:18:22.171Z"
   },
   {
    "duration": 116,
    "start_time": "2023-06-03T07:19:50.363Z"
   },
   {
    "duration": 588,
    "start_time": "2023-06-03T07:21:26.075Z"
   },
   {
    "duration": 19,
    "start_time": "2023-06-03T07:21:55.414Z"
   },
   {
    "duration": 9,
    "start_time": "2023-06-03T07:23:22.488Z"
   },
   {
    "duration": 13,
    "start_time": "2023-06-03T07:23:29.813Z"
   },
   {
    "duration": 7,
    "start_time": "2023-06-03T07:24:33.610Z"
   },
   {
    "duration": 6,
    "start_time": "2023-06-03T07:26:34.413Z"
   },
   {
    "duration": 16,
    "start_time": "2023-06-03T07:26:44.688Z"
   },
   {
    "duration": 63,
    "start_time": "2023-06-03T07:27:29.116Z"
   },
   {
    "duration": 36,
    "start_time": "2023-06-03T07:27:50.985Z"
   },
   {
    "duration": 33,
    "start_time": "2023-06-03T07:27:56.497Z"
   },
   {
    "duration": 39,
    "start_time": "2023-06-03T07:30:29.890Z"
   },
   {
    "duration": 46,
    "start_time": "2023-06-03T07:30:41.960Z"
   },
   {
    "duration": 5,
    "start_time": "2023-06-03T07:39:08.900Z"
   },
   {
    "duration": 113,
    "start_time": "2023-06-03T07:39:22.183Z"
   },
   {
    "duration": 1174,
    "start_time": "2023-06-03T07:39:40.419Z"
   },
   {
    "duration": 28,
    "start_time": "2023-06-03T07:39:41.596Z"
   },
   {
    "duration": 46,
    "start_time": "2023-06-03T07:39:41.625Z"
   },
   {
    "duration": 20,
    "start_time": "2023-06-03T07:39:41.678Z"
   },
   {
    "duration": 12,
    "start_time": "2023-06-03T07:39:41.700Z"
   },
   {
    "duration": 5,
    "start_time": "2023-06-03T07:39:41.713Z"
   },
   {
    "duration": 13,
    "start_time": "2023-06-03T07:39:41.720Z"
   },
   {
    "duration": 25,
    "start_time": "2023-06-03T07:39:41.735Z"
   },
   {
    "duration": 36,
    "start_time": "2023-06-03T07:39:41.762Z"
   },
   {
    "duration": 7,
    "start_time": "2023-06-03T07:39:41.801Z"
   },
   {
    "duration": 10,
    "start_time": "2023-06-03T07:39:41.810Z"
   },
   {
    "duration": 5,
    "start_time": "2023-06-03T07:39:41.822Z"
   },
   {
    "duration": 10,
    "start_time": "2023-06-03T07:39:41.828Z"
   },
   {
    "duration": 48,
    "start_time": "2023-06-03T07:39:41.840Z"
   },
   {
    "duration": 6,
    "start_time": "2023-06-03T07:39:41.890Z"
   },
   {
    "duration": 13,
    "start_time": "2023-06-03T07:39:41.897Z"
   },
   {
    "duration": 9,
    "start_time": "2023-06-03T07:39:41.911Z"
   },
   {
    "duration": 4,
    "start_time": "2023-06-03T07:39:41.923Z"
   },
   {
    "duration": 20,
    "start_time": "2023-06-03T07:39:41.928Z"
   },
   {
    "duration": 42,
    "start_time": "2023-06-03T07:39:41.950Z"
   },
   {
    "duration": 6,
    "start_time": "2023-06-03T07:39:41.993Z"
   },
   {
    "duration": 15,
    "start_time": "2023-06-03T07:39:42.000Z"
   },
   {
    "duration": 4,
    "start_time": "2023-06-03T07:39:42.017Z"
   },
   {
    "duration": 17,
    "start_time": "2023-06-03T07:39:42.023Z"
   },
   {
    "duration": 35,
    "start_time": "2023-06-03T07:39:42.049Z"
   },
   {
    "duration": 11,
    "start_time": "2023-06-03T07:39:42.086Z"
   },
   {
    "duration": 176,
    "start_time": "2023-06-03T07:39:42.099Z"
   },
   {
    "duration": 7,
    "start_time": "2023-06-03T07:39:42.280Z"
   },
   {
    "duration": 10,
    "start_time": "2023-06-03T07:39:42.288Z"
   },
   {
    "duration": 15,
    "start_time": "2023-06-03T07:39:42.300Z"
   },
   {
    "duration": 20,
    "start_time": "2023-06-03T07:39:42.316Z"
   },
   {
    "duration": 9,
    "start_time": "2023-06-03T07:39:42.338Z"
   },
   {
    "duration": 219,
    "start_time": "2023-06-03T07:39:42.348Z"
   },
   {
    "duration": 13,
    "start_time": "2023-06-03T07:39:42.569Z"
   },
   {
    "duration": 20,
    "start_time": "2023-06-03T07:39:42.584Z"
   },
   {
    "duration": 189,
    "start_time": "2023-06-03T07:39:42.606Z"
   },
   {
    "duration": 9,
    "start_time": "2023-06-03T07:39:42.797Z"
   },
   {
    "duration": 224,
    "start_time": "2023-06-03T07:39:42.808Z"
   },
   {
    "duration": 27,
    "start_time": "2023-06-03T07:39:43.034Z"
   },
   {
    "duration": 22,
    "start_time": "2023-06-03T07:39:43.071Z"
   },
   {
    "duration": 17,
    "start_time": "2023-06-03T07:39:43.094Z"
   },
   {
    "duration": 21,
    "start_time": "2023-06-03T07:39:43.113Z"
   },
   {
    "duration": 41,
    "start_time": "2023-06-03T07:39:43.136Z"
   },
   {
    "duration": 7,
    "start_time": "2023-06-03T07:39:43.179Z"
   },
   {
    "duration": 19,
    "start_time": "2023-06-03T07:39:43.188Z"
   },
   {
    "duration": 45,
    "start_time": "2023-06-03T07:39:43.209Z"
   },
   {
    "duration": 9,
    "start_time": "2023-06-03T07:39:43.260Z"
   },
   {
    "duration": 11,
    "start_time": "2023-06-03T07:39:43.271Z"
   },
   {
    "duration": 25,
    "start_time": "2023-06-03T07:39:43.284Z"
   },
   {
    "duration": 20,
    "start_time": "2023-06-03T07:39:43.311Z"
   },
   {
    "duration": 147,
    "start_time": "2023-06-03T07:39:43.333Z"
   },
   {
    "duration": 0,
    "start_time": "2023-06-03T07:39:43.481Z"
   },
   {
    "duration": 0,
    "start_time": "2023-06-03T07:39:43.483Z"
   },
   {
    "duration": 0,
    "start_time": "2023-06-03T07:39:43.484Z"
   },
   {
    "duration": 0,
    "start_time": "2023-06-03T07:39:43.485Z"
   },
   {
    "duration": 0,
    "start_time": "2023-06-03T07:39:43.486Z"
   },
   {
    "duration": 0,
    "start_time": "2023-06-03T07:39:43.487Z"
   },
   {
    "duration": 0,
    "start_time": "2023-06-03T07:39:43.488Z"
   },
   {
    "duration": 0,
    "start_time": "2023-06-03T07:39:43.489Z"
   },
   {
    "duration": 0,
    "start_time": "2023-06-03T07:39:43.490Z"
   },
   {
    "duration": 0,
    "start_time": "2023-06-03T07:39:43.491Z"
   },
   {
    "duration": 0,
    "start_time": "2023-06-03T07:39:43.493Z"
   },
   {
    "duration": 0,
    "start_time": "2023-06-03T07:39:43.494Z"
   },
   {
    "duration": 0,
    "start_time": "2023-06-03T07:39:43.495Z"
   },
   {
    "duration": 0,
    "start_time": "2023-06-03T07:39:43.496Z"
   },
   {
    "duration": 0,
    "start_time": "2023-06-03T07:39:43.497Z"
   },
   {
    "duration": 0,
    "start_time": "2023-06-03T07:39:43.498Z"
   },
   {
    "duration": 0,
    "start_time": "2023-06-03T07:39:43.500Z"
   },
   {
    "duration": 0,
    "start_time": "2023-06-03T07:39:43.501Z"
   },
   {
    "duration": 0,
    "start_time": "2023-06-03T07:39:43.502Z"
   },
   {
    "duration": 0,
    "start_time": "2023-06-03T07:39:43.503Z"
   },
   {
    "duration": 0,
    "start_time": "2023-06-03T07:39:43.504Z"
   },
   {
    "duration": 43,
    "start_time": "2023-06-03T07:40:16.113Z"
   },
   {
    "duration": 26,
    "start_time": "2023-06-03T07:41:04.433Z"
   },
   {
    "duration": 31,
    "start_time": "2023-06-03T07:41:12.937Z"
   },
   {
    "duration": 1167,
    "start_time": "2023-06-03T07:51:57.202Z"
   },
   {
    "duration": 30,
    "start_time": "2023-06-03T07:51:58.372Z"
   },
   {
    "duration": 30,
    "start_time": "2023-06-03T07:51:58.404Z"
   },
   {
    "duration": 28,
    "start_time": "2023-06-03T07:51:58.436Z"
   },
   {
    "duration": 17,
    "start_time": "2023-06-03T07:51:58.468Z"
   },
   {
    "duration": 21,
    "start_time": "2023-06-03T07:51:58.487Z"
   },
   {
    "duration": 25,
    "start_time": "2023-06-03T07:51:58.510Z"
   },
   {
    "duration": 29,
    "start_time": "2023-06-03T07:51:58.537Z"
   },
   {
    "duration": 19,
    "start_time": "2023-06-03T07:51:58.568Z"
   },
   {
    "duration": 13,
    "start_time": "2023-06-03T07:51:58.590Z"
   },
   {
    "duration": 9,
    "start_time": "2023-06-03T07:51:58.605Z"
   },
   {
    "duration": 9,
    "start_time": "2023-06-03T07:51:58.616Z"
   },
   {
    "duration": 10,
    "start_time": "2023-06-03T07:51:58.627Z"
   },
   {
    "duration": 38,
    "start_time": "2023-06-03T07:51:58.641Z"
   },
   {
    "duration": 8,
    "start_time": "2023-06-03T07:51:58.681Z"
   },
   {
    "duration": 9,
    "start_time": "2023-06-03T07:51:58.691Z"
   },
   {
    "duration": 9,
    "start_time": "2023-06-03T07:51:58.702Z"
   },
   {
    "duration": 7,
    "start_time": "2023-06-03T07:51:58.713Z"
   },
   {
    "duration": 12,
    "start_time": "2023-06-03T07:51:58.722Z"
   },
   {
    "duration": 34,
    "start_time": "2023-06-03T07:51:58.735Z"
   },
   {
    "duration": 5,
    "start_time": "2023-06-03T07:51:58.770Z"
   },
   {
    "duration": 16,
    "start_time": "2023-06-03T07:51:58.776Z"
   },
   {
    "duration": 5,
    "start_time": "2023-06-03T07:51:58.793Z"
   },
   {
    "duration": 15,
    "start_time": "2023-06-03T07:51:58.800Z"
   },
   {
    "duration": 35,
    "start_time": "2023-06-03T07:51:58.817Z"
   },
   {
    "duration": 7,
    "start_time": "2023-06-03T07:51:58.853Z"
   },
   {
    "duration": 194,
    "start_time": "2023-06-03T07:51:58.862Z"
   },
   {
    "duration": 9,
    "start_time": "2023-06-03T07:51:59.058Z"
   },
   {
    "duration": 10,
    "start_time": "2023-06-03T07:51:59.068Z"
   },
   {
    "duration": 10,
    "start_time": "2023-06-03T07:51:59.079Z"
   },
   {
    "duration": 14,
    "start_time": "2023-06-03T07:51:59.091Z"
   },
   {
    "duration": 19,
    "start_time": "2023-06-03T07:51:59.107Z"
   },
   {
    "duration": 189,
    "start_time": "2023-06-03T07:51:59.128Z"
   },
   {
    "duration": 9,
    "start_time": "2023-06-03T07:51:59.318Z"
   },
   {
    "duration": 36,
    "start_time": "2023-06-03T07:51:59.329Z"
   },
   {
    "duration": 182,
    "start_time": "2023-06-03T07:51:59.366Z"
   },
   {
    "duration": 13,
    "start_time": "2023-06-03T07:51:59.550Z"
   },
   {
    "duration": 244,
    "start_time": "2023-06-03T07:51:59.566Z"
   },
   {
    "duration": 13,
    "start_time": "2023-06-03T07:51:59.813Z"
   },
   {
    "duration": 30,
    "start_time": "2023-06-03T07:51:59.828Z"
   },
   {
    "duration": 25,
    "start_time": "2023-06-03T07:51:59.863Z"
   },
   {
    "duration": 22,
    "start_time": "2023-06-03T07:51:59.891Z"
   },
   {
    "duration": 33,
    "start_time": "2023-06-03T07:51:59.914Z"
   },
   {
    "duration": 22,
    "start_time": "2023-06-03T07:51:59.949Z"
   },
   {
    "duration": 25,
    "start_time": "2023-06-03T07:51:59.973Z"
   },
   {
    "duration": 39,
    "start_time": "2023-06-03T07:52:00.000Z"
   },
   {
    "duration": 16,
    "start_time": "2023-06-03T07:52:00.044Z"
   },
   {
    "duration": 36,
    "start_time": "2023-06-03T07:52:00.062Z"
   },
   {
    "duration": 52,
    "start_time": "2023-06-03T07:52:00.101Z"
   },
   {
    "duration": 19,
    "start_time": "2023-06-03T07:52:00.159Z"
   },
   {
    "duration": 45,
    "start_time": "2023-06-03T07:52:00.181Z"
   },
   {
    "duration": 208,
    "start_time": "2023-06-03T07:52:00.229Z"
   },
   {
    "duration": 14,
    "start_time": "2023-06-03T07:52:00.438Z"
   },
   {
    "duration": 257,
    "start_time": "2023-06-03T07:52:00.454Z"
   },
   {
    "duration": 6,
    "start_time": "2023-06-03T07:52:00.713Z"
   },
   {
    "duration": 190,
    "start_time": "2023-06-03T07:52:00.721Z"
   },
   {
    "duration": 6,
    "start_time": "2023-06-03T07:52:00.913Z"
   },
   {
    "duration": 238,
    "start_time": "2023-06-03T07:52:00.920Z"
   },
   {
    "duration": 7,
    "start_time": "2023-06-03T07:52:01.160Z"
   },
   {
    "duration": 942,
    "start_time": "2023-06-03T07:52:01.169Z"
   },
   {
    "duration": 37,
    "start_time": "2023-06-03T07:52:02.113Z"
   },
   {
    "duration": 5,
    "start_time": "2023-06-03T07:52:02.152Z"
   },
   {
    "duration": 11,
    "start_time": "2023-06-03T07:52:02.159Z"
   },
   {
    "duration": 361,
    "start_time": "2023-06-03T07:52:02.172Z"
   },
   {
    "duration": 46,
    "start_time": "2023-06-03T07:52:02.535Z"
   },
   {
    "duration": 36,
    "start_time": "2023-06-03T07:52:02.583Z"
   },
   {
    "duration": 395,
    "start_time": "2023-06-03T07:52:02.621Z"
   },
   {
    "duration": 259,
    "start_time": "2023-06-03T07:52:03.017Z"
   },
   {
    "duration": 6,
    "start_time": "2023-06-03T07:52:03.278Z"
   },
   {
    "duration": 140,
    "start_time": "2023-06-03T07:52:03.285Z"
   },
   {
    "duration": 5,
    "start_time": "2023-06-03T07:52:03.428Z"
   },
   {
    "duration": 82,
    "start_time": "2023-06-03T07:52:03.441Z"
   },
   {
    "duration": 7,
    "start_time": "2023-06-03T07:53:09.381Z"
   },
   {
    "duration": 189,
    "start_time": "2023-06-03T07:54:46.133Z"
   },
   {
    "duration": 193,
    "start_time": "2023-06-03T07:57:37.692Z"
   },
   {
    "duration": 284,
    "start_time": "2023-06-03T07:59:55.479Z"
   },
   {
    "duration": 282,
    "start_time": "2023-06-03T08:00:50.403Z"
   },
   {
    "duration": 299,
    "start_time": "2023-06-03T08:01:03.782Z"
   },
   {
    "duration": 420,
    "start_time": "2023-06-03T08:02:06.014Z"
   },
   {
    "duration": 266,
    "start_time": "2023-06-03T08:02:10.453Z"
   },
   {
    "duration": 208,
    "start_time": "2023-06-03T08:03:14.097Z"
   },
   {
    "duration": 178,
    "start_time": "2023-06-03T08:04:43.652Z"
   },
   {
    "duration": 192,
    "start_time": "2023-06-03T08:04:47.974Z"
   },
   {
    "duration": 165,
    "start_time": "2023-06-03T08:05:27.572Z"
   },
   {
    "duration": 175,
    "start_time": "2023-06-03T08:05:30.663Z"
   },
   {
    "duration": 295,
    "start_time": "2023-06-03T08:06:20.173Z"
   },
   {
    "duration": 384,
    "start_time": "2023-06-03T08:06:57.003Z"
   },
   {
    "duration": 80,
    "start_time": "2023-06-03T08:09:22.685Z"
   },
   {
    "duration": 1111,
    "start_time": "2023-06-03T08:09:41.420Z"
   },
   {
    "duration": 34,
    "start_time": "2023-06-03T08:09:42.533Z"
   },
   {
    "duration": 27,
    "start_time": "2023-06-03T08:09:42.569Z"
   },
   {
    "duration": 14,
    "start_time": "2023-06-03T08:09:42.598Z"
   },
   {
    "duration": 13,
    "start_time": "2023-06-03T08:09:42.614Z"
   },
   {
    "duration": 4,
    "start_time": "2023-06-03T08:09:42.628Z"
   },
   {
    "duration": 22,
    "start_time": "2023-06-03T08:09:42.634Z"
   },
   {
    "duration": 13,
    "start_time": "2023-06-03T08:09:42.658Z"
   },
   {
    "duration": 14,
    "start_time": "2023-06-03T08:09:42.673Z"
   },
   {
    "duration": 16,
    "start_time": "2023-06-03T08:09:42.690Z"
   },
   {
    "duration": 10,
    "start_time": "2023-06-03T08:09:42.707Z"
   },
   {
    "duration": 6,
    "start_time": "2023-06-03T08:09:42.719Z"
   },
   {
    "duration": 8,
    "start_time": "2023-06-03T08:09:42.727Z"
   },
   {
    "duration": 14,
    "start_time": "2023-06-03T08:09:42.741Z"
   },
   {
    "duration": 7,
    "start_time": "2023-06-03T08:09:42.756Z"
   },
   {
    "duration": 10,
    "start_time": "2023-06-03T08:09:42.764Z"
   },
   {
    "duration": 11,
    "start_time": "2023-06-03T08:09:42.775Z"
   },
   {
    "duration": 4,
    "start_time": "2023-06-03T08:09:42.787Z"
   },
   {
    "duration": 8,
    "start_time": "2023-06-03T08:09:42.793Z"
   },
   {
    "duration": 13,
    "start_time": "2023-06-03T08:09:42.802Z"
   },
   {
    "duration": 4,
    "start_time": "2023-06-03T08:09:42.816Z"
   },
   {
    "duration": 17,
    "start_time": "2023-06-03T08:09:42.843Z"
   },
   {
    "duration": 7,
    "start_time": "2023-06-03T08:09:42.862Z"
   },
   {
    "duration": 15,
    "start_time": "2023-06-03T08:09:42.870Z"
   },
   {
    "duration": 9,
    "start_time": "2023-06-03T08:09:42.887Z"
   },
   {
    "duration": 4,
    "start_time": "2023-06-03T08:09:42.897Z"
   },
   {
    "duration": 184,
    "start_time": "2023-06-03T08:09:42.902Z"
   },
   {
    "duration": 5,
    "start_time": "2023-06-03T08:09:43.090Z"
   },
   {
    "duration": 25,
    "start_time": "2023-06-03T08:09:43.097Z"
   },
   {
    "duration": 8,
    "start_time": "2023-06-03T08:09:43.124Z"
   },
   {
    "duration": 20,
    "start_time": "2023-06-03T08:09:43.133Z"
   },
   {
    "duration": 10,
    "start_time": "2023-06-03T08:09:43.155Z"
   },
   {
    "duration": 149,
    "start_time": "2023-06-03T08:09:43.167Z"
   },
   {
    "duration": 9,
    "start_time": "2023-06-03T08:09:43.318Z"
   },
   {
    "duration": 12,
    "start_time": "2023-06-03T08:09:43.349Z"
   },
   {
    "duration": 172,
    "start_time": "2023-06-03T08:09:43.363Z"
   },
   {
    "duration": 23,
    "start_time": "2023-06-03T08:09:43.537Z"
   },
   {
    "duration": 206,
    "start_time": "2023-06-03T08:09:43.562Z"
   },
   {
    "duration": 11,
    "start_time": "2023-06-03T08:09:43.771Z"
   },
   {
    "duration": 23,
    "start_time": "2023-06-03T08:09:43.783Z"
   },
   {
    "duration": 16,
    "start_time": "2023-06-03T08:09:43.807Z"
   },
   {
    "duration": 41,
    "start_time": "2023-06-03T08:09:43.824Z"
   },
   {
    "duration": 9,
    "start_time": "2023-06-03T08:09:43.867Z"
   },
   {
    "duration": 14,
    "start_time": "2023-06-03T08:09:43.877Z"
   },
   {
    "duration": 23,
    "start_time": "2023-06-03T08:09:43.892Z"
   },
   {
    "duration": 50,
    "start_time": "2023-06-03T08:09:43.917Z"
   },
   {
    "duration": 7,
    "start_time": "2023-06-03T08:09:43.970Z"
   },
   {
    "duration": 5,
    "start_time": "2023-06-03T08:09:43.979Z"
   },
   {
    "duration": 20,
    "start_time": "2023-06-03T08:09:43.985Z"
   },
   {
    "duration": 7,
    "start_time": "2023-06-03T08:09:44.007Z"
   },
   {
    "duration": 25,
    "start_time": "2023-06-03T08:09:44.047Z"
   },
   {
    "duration": 207,
    "start_time": "2023-06-03T08:09:44.073Z"
   },
   {
    "duration": 8,
    "start_time": "2023-06-03T08:09:44.282Z"
   },
   {
    "duration": 216,
    "start_time": "2023-06-03T08:09:44.291Z"
   },
   {
    "duration": 10,
    "start_time": "2023-06-03T08:09:44.509Z"
   },
   {
    "duration": 304,
    "start_time": "2023-06-03T08:09:44.520Z"
   },
   {
    "duration": 164,
    "start_time": "2023-06-03T08:09:44.825Z"
   },
   {
    "duration": 8,
    "start_time": "2023-06-03T08:09:44.991Z"
   },
   {
    "duration": 279,
    "start_time": "2023-06-03T08:09:45.001Z"
   },
   {
    "duration": 8,
    "start_time": "2023-06-03T08:09:45.282Z"
   },
   {
    "duration": 306,
    "start_time": "2023-06-03T08:09:45.292Z"
   },
   {
    "duration": 814,
    "start_time": "2023-06-03T08:09:45.600Z"
   },
   {
    "duration": 15,
    "start_time": "2023-06-03T08:09:46.416Z"
   },
   {
    "duration": 4,
    "start_time": "2023-06-03T08:09:46.433Z"
   },
   {
    "duration": 5,
    "start_time": "2023-06-03T08:09:46.452Z"
   },
   {
    "duration": 374,
    "start_time": "2023-06-03T08:09:46.458Z"
   },
   {
    "duration": 38,
    "start_time": "2023-06-03T08:09:46.833Z"
   },
   {
    "duration": 41,
    "start_time": "2023-06-03T08:09:46.872Z"
   },
   {
    "duration": 298,
    "start_time": "2023-06-03T08:09:46.914Z"
   },
   {
    "duration": 259,
    "start_time": "2023-06-03T08:09:47.214Z"
   },
   {
    "duration": 7,
    "start_time": "2023-06-03T08:09:47.475Z"
   },
   {
    "duration": 139,
    "start_time": "2023-06-03T08:09:47.484Z"
   },
   {
    "duration": 6,
    "start_time": "2023-06-03T08:09:47.625Z"
   },
   {
    "duration": 30,
    "start_time": "2023-06-03T08:09:47.632Z"
   },
   {
    "duration": 912,
    "start_time": "2023-06-03T08:13:21.254Z"
   },
   {
    "duration": 13,
    "start_time": "2023-06-03T08:14:05.956Z"
   },
   {
    "duration": 11,
    "start_time": "2023-06-03T08:14:21.209Z"
   },
   {
    "duration": 4,
    "start_time": "2023-06-03T08:15:33.841Z"
   },
   {
    "duration": 15,
    "start_time": "2023-06-03T08:16:04.041Z"
   },
   {
    "duration": 1299,
    "start_time": "2023-06-03T08:17:30.136Z"
   },
   {
    "duration": 48,
    "start_time": "2023-06-03T08:17:31.437Z"
   },
   {
    "duration": 70,
    "start_time": "2023-06-03T08:17:31.487Z"
   },
   {
    "duration": 37,
    "start_time": "2023-06-03T08:17:31.559Z"
   },
   {
    "duration": 30,
    "start_time": "2023-06-03T08:17:31.598Z"
   },
   {
    "duration": 65,
    "start_time": "2023-06-03T08:17:31.630Z"
   },
   {
    "duration": 31,
    "start_time": "2023-06-03T08:17:31.697Z"
   },
   {
    "duration": 55,
    "start_time": "2023-06-03T08:17:31.730Z"
   },
   {
    "duration": 21,
    "start_time": "2023-06-03T08:17:31.787Z"
   },
   {
    "duration": 32,
    "start_time": "2023-06-03T08:17:31.809Z"
   },
   {
    "duration": 66,
    "start_time": "2023-06-03T08:17:31.852Z"
   },
   {
    "duration": 20,
    "start_time": "2023-06-03T08:17:31.920Z"
   },
   {
    "duration": 61,
    "start_time": "2023-06-03T08:17:31.942Z"
   },
   {
    "duration": 11,
    "start_time": "2023-06-03T08:17:32.007Z"
   },
   {
    "duration": 13,
    "start_time": "2023-06-03T08:17:32.020Z"
   },
   {
    "duration": 23,
    "start_time": "2023-06-03T08:17:32.034Z"
   },
   {
    "duration": 40,
    "start_time": "2023-06-03T08:17:32.064Z"
   },
   {
    "duration": 39,
    "start_time": "2023-06-03T08:17:32.106Z"
   },
   {
    "duration": 41,
    "start_time": "2023-06-03T08:17:32.146Z"
   },
   {
    "duration": 39,
    "start_time": "2023-06-03T08:17:32.188Z"
   },
   {
    "duration": 49,
    "start_time": "2023-06-03T08:17:32.228Z"
   },
   {
    "duration": 33,
    "start_time": "2023-06-03T08:17:32.279Z"
   },
   {
    "duration": 5,
    "start_time": "2023-06-03T08:17:32.314Z"
   },
   {
    "duration": 42,
    "start_time": "2023-06-03T08:17:32.321Z"
   },
   {
    "duration": 19,
    "start_time": "2023-06-03T08:17:32.367Z"
   },
   {
    "duration": 15,
    "start_time": "2023-06-03T08:17:32.387Z"
   },
   {
    "duration": 184,
    "start_time": "2023-06-03T08:17:32.403Z"
   },
   {
    "duration": 7,
    "start_time": "2023-06-03T08:17:32.589Z"
   },
   {
    "duration": 29,
    "start_time": "2023-06-03T08:17:32.597Z"
   },
   {
    "duration": 46,
    "start_time": "2023-06-03T08:17:32.628Z"
   },
   {
    "duration": 77,
    "start_time": "2023-06-03T08:17:32.676Z"
   },
   {
    "duration": 41,
    "start_time": "2023-06-03T08:17:32.754Z"
   },
   {
    "duration": 200,
    "start_time": "2023-06-03T08:17:32.797Z"
   },
   {
    "duration": 9,
    "start_time": "2023-06-03T08:17:32.998Z"
   },
   {
    "duration": 26,
    "start_time": "2023-06-03T08:17:33.009Z"
   },
   {
    "duration": 235,
    "start_time": "2023-06-03T08:17:33.046Z"
   },
   {
    "duration": 10,
    "start_time": "2023-06-03T08:17:33.283Z"
   },
   {
    "duration": 214,
    "start_time": "2023-06-03T08:17:33.295Z"
   },
   {
    "duration": 12,
    "start_time": "2023-06-03T08:17:33.511Z"
   },
   {
    "duration": 29,
    "start_time": "2023-06-03T08:17:33.525Z"
   },
   {
    "duration": 27,
    "start_time": "2023-06-03T08:17:33.559Z"
   },
   {
    "duration": 21,
    "start_time": "2023-06-03T08:17:33.587Z"
   },
   {
    "duration": 15,
    "start_time": "2023-06-03T08:17:33.610Z"
   },
   {
    "duration": 18,
    "start_time": "2023-06-03T08:17:33.627Z"
   },
   {
    "duration": 36,
    "start_time": "2023-06-03T08:17:33.646Z"
   },
   {
    "duration": 34,
    "start_time": "2023-06-03T08:17:33.684Z"
   },
   {
    "duration": 7,
    "start_time": "2023-06-03T08:17:33.719Z"
   },
   {
    "duration": 21,
    "start_time": "2023-06-03T08:17:33.728Z"
   },
   {
    "duration": 32,
    "start_time": "2023-06-03T08:17:33.759Z"
   },
   {
    "duration": 11,
    "start_time": "2023-06-03T08:17:33.792Z"
   },
   {
    "duration": 22,
    "start_time": "2023-06-03T08:17:33.805Z"
   },
   {
    "duration": 201,
    "start_time": "2023-06-03T08:17:33.829Z"
   },
   {
    "duration": 10,
    "start_time": "2023-06-03T08:17:34.032Z"
   },
   {
    "duration": 243,
    "start_time": "2023-06-03T08:17:34.045Z"
   },
   {
    "duration": 9,
    "start_time": "2023-06-03T08:17:34.291Z"
   },
   {
    "duration": 318,
    "start_time": "2023-06-03T08:17:34.302Z"
   },
   {
    "duration": 185,
    "start_time": "2023-06-03T08:17:34.621Z"
   },
   {
    "duration": 10,
    "start_time": "2023-06-03T08:17:34.808Z"
   },
   {
    "duration": 310,
    "start_time": "2023-06-03T08:17:34.819Z"
   },
   {
    "duration": 23,
    "start_time": "2023-06-03T08:17:35.131Z"
   },
   {
    "duration": 313,
    "start_time": "2023-06-03T08:17:35.165Z"
   },
   {
    "duration": 112,
    "start_time": "2023-06-03T08:17:35.480Z"
   },
   {
    "duration": 0,
    "start_time": "2023-06-03T08:17:35.594Z"
   },
   {
    "duration": 0,
    "start_time": "2023-06-03T08:17:35.595Z"
   },
   {
    "duration": 0,
    "start_time": "2023-06-03T08:17:35.597Z"
   },
   {
    "duration": 0,
    "start_time": "2023-06-03T08:17:35.598Z"
   },
   {
    "duration": 0,
    "start_time": "2023-06-03T08:17:35.599Z"
   },
   {
    "duration": 0,
    "start_time": "2023-06-03T08:17:35.600Z"
   },
   {
    "duration": 0,
    "start_time": "2023-06-03T08:17:35.602Z"
   },
   {
    "duration": 0,
    "start_time": "2023-06-03T08:17:35.602Z"
   },
   {
    "duration": 0,
    "start_time": "2023-06-03T08:17:35.604Z"
   },
   {
    "duration": 0,
    "start_time": "2023-06-03T08:17:35.605Z"
   },
   {
    "duration": 0,
    "start_time": "2023-06-03T08:17:35.606Z"
   },
   {
    "duration": 0,
    "start_time": "2023-06-03T08:17:35.607Z"
   },
   {
    "duration": 0,
    "start_time": "2023-06-03T08:17:35.608Z"
   },
   {
    "duration": 1285,
    "start_time": "2023-06-03T08:18:27.721Z"
   },
   {
    "duration": 5,
    "start_time": "2023-06-03T08:18:53.867Z"
   },
   {
    "duration": 1130,
    "start_time": "2023-06-03T08:19:22.482Z"
   },
   {
    "duration": 33,
    "start_time": "2023-06-03T08:19:23.614Z"
   },
   {
    "duration": 31,
    "start_time": "2023-06-03T08:19:23.649Z"
   },
   {
    "duration": 17,
    "start_time": "2023-06-03T08:19:23.682Z"
   },
   {
    "duration": 14,
    "start_time": "2023-06-03T08:19:23.700Z"
   },
   {
    "duration": 4,
    "start_time": "2023-06-03T08:19:23.716Z"
   },
   {
    "duration": 16,
    "start_time": "2023-06-03T08:19:23.722Z"
   },
   {
    "duration": 22,
    "start_time": "2023-06-03T08:19:23.739Z"
   },
   {
    "duration": 15,
    "start_time": "2023-06-03T08:19:23.763Z"
   },
   {
    "duration": 7,
    "start_time": "2023-06-03T08:19:23.781Z"
   },
   {
    "duration": 9,
    "start_time": "2023-06-03T08:19:23.790Z"
   },
   {
    "duration": 5,
    "start_time": "2023-06-03T08:19:23.801Z"
   },
   {
    "duration": 12,
    "start_time": "2023-06-03T08:19:23.807Z"
   },
   {
    "duration": 30,
    "start_time": "2023-06-03T08:19:23.821Z"
   },
   {
    "duration": 9,
    "start_time": "2023-06-03T08:19:23.854Z"
   },
   {
    "duration": 9,
    "start_time": "2023-06-03T08:19:23.865Z"
   },
   {
    "duration": 12,
    "start_time": "2023-06-03T08:19:23.876Z"
   },
   {
    "duration": 6,
    "start_time": "2023-06-03T08:19:23.890Z"
   },
   {
    "duration": 8,
    "start_time": "2023-06-03T08:19:23.897Z"
   },
   {
    "duration": 17,
    "start_time": "2023-06-03T08:19:23.906Z"
   },
   {
    "duration": 27,
    "start_time": "2023-06-03T08:19:23.925Z"
   },
   {
    "duration": 14,
    "start_time": "2023-06-03T08:19:23.954Z"
   },
   {
    "duration": 5,
    "start_time": "2023-06-03T08:19:23.969Z"
   },
   {
    "duration": 99,
    "start_time": "2023-06-03T08:19:23.976Z"
   },
   {
    "duration": 264,
    "start_time": "2023-06-03T08:19:24.077Z"
   },
   {
    "duration": 5,
    "start_time": "2023-06-03T08:19:24.352Z"
   },
   {
    "duration": 156,
    "start_time": "2023-06-03T08:19:24.358Z"
   },
   {
    "duration": 6,
    "start_time": "2023-06-03T08:19:24.518Z"
   },
   {
    "duration": 26,
    "start_time": "2023-06-03T08:19:24.525Z"
   },
   {
    "duration": 12,
    "start_time": "2023-06-03T08:19:24.553Z"
   },
   {
    "duration": 11,
    "start_time": "2023-06-03T08:19:24.567Z"
   },
   {
    "duration": 5,
    "start_time": "2023-06-03T08:19:24.580Z"
   },
   {
    "duration": 172,
    "start_time": "2023-06-03T08:19:24.586Z"
   },
   {
    "duration": 9,
    "start_time": "2023-06-03T08:19:24.760Z"
   },
   {
    "duration": 13,
    "start_time": "2023-06-03T08:19:24.770Z"
   },
   {
    "duration": 187,
    "start_time": "2023-06-03T08:19:24.785Z"
   },
   {
    "duration": 9,
    "start_time": "2023-06-03T08:19:24.974Z"
   },
   {
    "duration": 209,
    "start_time": "2023-06-03T08:19:24.985Z"
   },
   {
    "duration": 13,
    "start_time": "2023-06-03T08:19:25.196Z"
   },
   {
    "duration": 14,
    "start_time": "2023-06-03T08:19:25.210Z"
   },
   {
    "duration": 14,
    "start_time": "2023-06-03T08:19:25.242Z"
   },
   {
    "duration": 26,
    "start_time": "2023-06-03T08:19:25.258Z"
   },
   {
    "duration": 11,
    "start_time": "2023-06-03T08:19:25.286Z"
   },
   {
    "duration": 5,
    "start_time": "2023-06-03T08:19:25.298Z"
   },
   {
    "duration": 41,
    "start_time": "2023-06-03T08:19:25.305Z"
   },
   {
    "duration": 38,
    "start_time": "2023-06-03T08:19:25.348Z"
   },
   {
    "duration": 7,
    "start_time": "2023-06-03T08:19:25.388Z"
   },
   {
    "duration": 6,
    "start_time": "2023-06-03T08:19:25.397Z"
   },
   {
    "duration": 46,
    "start_time": "2023-06-03T08:19:25.405Z"
   },
   {
    "duration": 12,
    "start_time": "2023-06-03T08:19:25.452Z"
   },
   {
    "duration": 23,
    "start_time": "2023-06-03T08:19:25.466Z"
   },
   {
    "duration": 200,
    "start_time": "2023-06-03T08:19:25.490Z"
   },
   {
    "duration": 9,
    "start_time": "2023-06-03T08:19:25.692Z"
   },
   {
    "duration": 203,
    "start_time": "2023-06-03T08:19:25.703Z"
   },
   {
    "duration": 9,
    "start_time": "2023-06-03T08:19:25.908Z"
   },
   {
    "duration": 338,
    "start_time": "2023-06-03T08:19:25.919Z"
   },
   {
    "duration": 176,
    "start_time": "2023-06-03T08:19:26.259Z"
   },
   {
    "duration": 21,
    "start_time": "2023-06-03T08:19:26.436Z"
   },
   {
    "duration": 283,
    "start_time": "2023-06-03T08:19:26.459Z"
   },
   {
    "duration": 10,
    "start_time": "2023-06-03T08:19:26.754Z"
   },
   {
    "duration": 327,
    "start_time": "2023-06-03T08:19:26.766Z"
   },
   {
    "duration": 3,
    "start_time": "2023-06-03T08:19:27.095Z"
   },
   {
    "duration": 857,
    "start_time": "2023-06-03T08:19:27.101Z"
   },
   {
    "duration": 9,
    "start_time": "2023-06-03T08:19:27.960Z"
   },
   {
    "duration": 11,
    "start_time": "2023-06-03T08:19:27.971Z"
   },
   {
    "duration": 9,
    "start_time": "2023-06-03T08:19:27.984Z"
   },
   {
    "duration": 394,
    "start_time": "2023-06-03T08:19:27.995Z"
   },
   {
    "duration": 39,
    "start_time": "2023-06-03T08:19:28.391Z"
   },
   {
    "duration": 47,
    "start_time": "2023-06-03T08:19:28.441Z"
   },
   {
    "duration": 272,
    "start_time": "2023-06-03T08:19:28.490Z"
   },
   {
    "duration": 242,
    "start_time": "2023-06-03T08:19:28.763Z"
   },
   {
    "duration": 6,
    "start_time": "2023-06-03T08:19:29.007Z"
   },
   {
    "duration": 149,
    "start_time": "2023-06-03T08:19:29.015Z"
   },
   {
    "duration": 6,
    "start_time": "2023-06-03T08:19:29.167Z"
   },
   {
    "duration": 31,
    "start_time": "2023-06-03T08:19:29.174Z"
   },
   {
    "duration": 3657,
    "start_time": "2023-06-03T08:28:39.990Z"
   },
   {
    "duration": 17499,
    "start_time": "2023-06-03T08:32:21.868Z"
   },
   {
    "duration": 17863,
    "start_time": "2023-06-03T08:33:05.204Z"
   },
   {
    "duration": 18190,
    "start_time": "2023-06-03T08:33:35.174Z"
   },
   {
    "duration": 17273,
    "start_time": "2023-06-03T08:34:12.744Z"
   },
   {
    "duration": 10,
    "start_time": "2023-06-03T08:35:34.779Z"
   },
   {
    "duration": 16676,
    "start_time": "2023-06-03T08:36:05.610Z"
   },
   {
    "duration": 15239,
    "start_time": "2023-06-03T08:36:40.788Z"
   },
   {
    "duration": 17007,
    "start_time": "2023-06-03T08:37:16.103Z"
   },
   {
    "duration": 14211,
    "start_time": "2023-06-03T08:37:45.908Z"
   },
   {
    "duration": 9668,
    "start_time": "2023-06-03T08:38:21.352Z"
   },
   {
    "duration": 15641,
    "start_time": "2023-06-03T08:38:38.989Z"
   },
   {
    "duration": 15409,
    "start_time": "2023-06-03T08:39:00.576Z"
   },
   {
    "duration": 123,
    "start_time": "2023-06-03T08:39:27.282Z"
   },
   {
    "duration": 31,
    "start_time": "2023-06-03T08:39:55.757Z"
   },
   {
    "duration": 14020,
    "start_time": "2023-06-03T08:40:01.355Z"
   },
   {
    "duration": 13118,
    "start_time": "2023-06-03T08:40:42.112Z"
   },
   {
    "duration": 14193,
    "start_time": "2023-06-03T08:41:11.284Z"
   },
   {
    "duration": 15740,
    "start_time": "2023-06-03T08:47:19.778Z"
   },
   {
    "duration": 9506,
    "start_time": "2023-06-03T08:47:56.654Z"
   },
   {
    "duration": 16979,
    "start_time": "2023-06-03T08:48:48.301Z"
   },
   {
    "duration": 51,
    "start_time": "2023-06-03T08:50:50.388Z"
   },
   {
    "duration": 1212,
    "start_time": "2023-06-03T08:50:59.668Z"
   },
   {
    "duration": 81,
    "start_time": "2023-06-03T08:51:00.882Z"
   },
   {
    "duration": 68,
    "start_time": "2023-06-03T08:51:00.965Z"
   },
   {
    "duration": 60,
    "start_time": "2023-06-03T08:51:01.036Z"
   },
   {
    "duration": 13,
    "start_time": "2023-06-03T08:51:01.098Z"
   },
   {
    "duration": 42,
    "start_time": "2023-06-03T08:51:01.113Z"
   },
   {
    "duration": 39,
    "start_time": "2023-06-03T08:51:01.157Z"
   },
   {
    "duration": 41,
    "start_time": "2023-06-03T08:51:01.197Z"
   },
   {
    "duration": 50,
    "start_time": "2023-06-03T08:51:01.240Z"
   },
   {
    "duration": 19,
    "start_time": "2023-06-03T08:51:01.293Z"
   },
   {
    "duration": 61,
    "start_time": "2023-06-03T08:51:01.314Z"
   },
   {
    "duration": 39,
    "start_time": "2023-06-03T08:51:01.378Z"
   },
   {
    "duration": 47,
    "start_time": "2023-06-03T08:51:01.419Z"
   },
   {
    "duration": 42,
    "start_time": "2023-06-03T08:51:01.468Z"
   },
   {
    "duration": 58,
    "start_time": "2023-06-03T08:51:01.511Z"
   },
   {
    "duration": 50,
    "start_time": "2023-06-03T08:51:01.571Z"
   },
   {
    "duration": 55,
    "start_time": "2023-06-03T08:51:01.622Z"
   },
   {
    "duration": 59,
    "start_time": "2023-06-03T08:51:01.680Z"
   },
   {
    "duration": 35,
    "start_time": "2023-06-03T08:51:01.741Z"
   },
   {
    "duration": 23,
    "start_time": "2023-06-03T08:51:01.778Z"
   },
   {
    "duration": 36,
    "start_time": "2023-06-03T08:51:01.803Z"
   },
   {
    "duration": 50,
    "start_time": "2023-06-03T08:51:01.841Z"
   },
   {
    "duration": 43,
    "start_time": "2023-06-03T08:51:01.893Z"
   },
   {
    "duration": 9,
    "start_time": "2023-06-03T08:51:01.938Z"
   },
   {
    "duration": 39,
    "start_time": "2023-06-03T08:51:01.950Z"
   },
   {
    "duration": 13,
    "start_time": "2023-06-03T08:51:01.990Z"
   },
   {
    "duration": 47,
    "start_time": "2023-06-03T08:51:02.004Z"
   },
   {
    "duration": 156,
    "start_time": "2023-06-03T08:51:02.057Z"
   },
   {
    "duration": 6,
    "start_time": "2023-06-03T08:51:02.215Z"
   },
   {
    "duration": 17,
    "start_time": "2023-06-03T08:51:02.223Z"
   },
   {
    "duration": 29,
    "start_time": "2023-06-03T08:51:02.242Z"
   },
   {
    "duration": 23,
    "start_time": "2023-06-03T08:51:02.273Z"
   },
   {
    "duration": 22,
    "start_time": "2023-06-03T08:51:02.298Z"
   },
   {
    "duration": 164,
    "start_time": "2023-06-03T08:51:02.322Z"
   },
   {
    "duration": 7,
    "start_time": "2023-06-03T08:51:02.488Z"
   },
   {
    "duration": 10,
    "start_time": "2023-06-03T08:51:02.497Z"
   },
   {
    "duration": 198,
    "start_time": "2023-06-03T08:51:02.508Z"
   },
   {
    "duration": 9,
    "start_time": "2023-06-03T08:51:02.708Z"
   },
   {
    "duration": 194,
    "start_time": "2023-06-03T08:51:02.719Z"
   },
   {
    "duration": 13,
    "start_time": "2023-06-03T08:51:02.915Z"
   },
   {
    "duration": 31,
    "start_time": "2023-06-03T08:51:02.930Z"
   },
   {
    "duration": 14,
    "start_time": "2023-06-03T08:51:02.963Z"
   },
   {
    "duration": 24,
    "start_time": "2023-06-03T08:51:02.980Z"
   },
   {
    "duration": 15,
    "start_time": "2023-06-03T08:51:03.006Z"
   },
   {
    "duration": 33,
    "start_time": "2023-06-03T08:51:03.022Z"
   },
   {
    "duration": 25,
    "start_time": "2023-06-03T08:51:03.059Z"
   },
   {
    "duration": 34,
    "start_time": "2023-06-03T08:51:03.085Z"
   },
   {
    "duration": 7,
    "start_time": "2023-06-03T08:51:03.120Z"
   },
   {
    "duration": 7,
    "start_time": "2023-06-03T08:51:03.129Z"
   },
   {
    "duration": 23,
    "start_time": "2023-06-03T08:51:03.137Z"
   },
   {
    "duration": 66,
    "start_time": "2023-06-03T08:51:03.162Z"
   },
   {
    "duration": 27,
    "start_time": "2023-06-03T08:51:03.230Z"
   },
   {
    "duration": 193,
    "start_time": "2023-06-03T08:51:03.258Z"
   },
   {
    "duration": 10,
    "start_time": "2023-06-03T08:51:03.452Z"
   },
   {
    "duration": 195,
    "start_time": "2023-06-03T08:51:03.463Z"
   },
   {
    "duration": 8,
    "start_time": "2023-06-03T08:51:03.661Z"
   },
   {
    "duration": 300,
    "start_time": "2023-06-03T08:51:03.671Z"
   },
   {
    "duration": 193,
    "start_time": "2023-06-03T08:51:03.973Z"
   },
   {
    "duration": 9,
    "start_time": "2023-06-03T08:51:04.168Z"
   },
   {
    "duration": 291,
    "start_time": "2023-06-03T08:51:04.179Z"
   },
   {
    "duration": 9,
    "start_time": "2023-06-03T08:51:04.472Z"
   },
   {
    "duration": 303,
    "start_time": "2023-06-03T08:51:04.483Z"
   },
   {
    "duration": 3,
    "start_time": "2023-06-03T08:51:04.788Z"
   },
   {
    "duration": 859,
    "start_time": "2023-06-03T08:51:04.793Z"
   },
   {
    "duration": 13,
    "start_time": "2023-06-03T08:51:05.654Z"
   },
   {
    "duration": 22,
    "start_time": "2023-06-03T08:51:05.669Z"
   },
   {
    "duration": 8,
    "start_time": "2023-06-03T08:51:05.693Z"
   },
   {
    "duration": 16811,
    "start_time": "2023-06-03T08:51:05.703Z"
   },
   {
    "duration": 0,
    "start_time": "2023-06-03T08:51:22.516Z"
   },
   {
    "duration": 0,
    "start_time": "2023-06-03T08:51:22.517Z"
   },
   {
    "duration": 0,
    "start_time": "2023-06-03T08:51:22.518Z"
   },
   {
    "duration": 0,
    "start_time": "2023-06-03T08:51:22.519Z"
   },
   {
    "duration": 0,
    "start_time": "2023-06-03T08:51:22.520Z"
   },
   {
    "duration": 0,
    "start_time": "2023-06-03T08:51:22.521Z"
   },
   {
    "duration": 0,
    "start_time": "2023-06-03T08:51:22.522Z"
   },
   {
    "duration": 0,
    "start_time": "2023-06-03T08:51:22.524Z"
   },
   {
    "duration": 58,
    "start_time": "2023-06-03T08:53:10.216Z"
   },
   {
    "duration": 1155,
    "start_time": "2023-06-03T08:53:22.667Z"
   },
   {
    "duration": 79,
    "start_time": "2023-06-03T08:53:23.823Z"
   },
   {
    "duration": 75,
    "start_time": "2023-06-03T08:53:23.904Z"
   },
   {
    "duration": 54,
    "start_time": "2023-06-03T08:53:23.981Z"
   },
   {
    "duration": 22,
    "start_time": "2023-06-03T08:53:24.038Z"
   },
   {
    "duration": 18,
    "start_time": "2023-06-03T08:53:24.061Z"
   },
   {
    "duration": 19,
    "start_time": "2023-06-03T08:53:24.081Z"
   },
   {
    "duration": 14,
    "start_time": "2023-06-03T08:53:24.102Z"
   },
   {
    "duration": 32,
    "start_time": "2023-06-03T08:53:24.118Z"
   },
   {
    "duration": 10,
    "start_time": "2023-06-03T08:53:24.154Z"
   },
   {
    "duration": 16,
    "start_time": "2023-06-03T08:53:24.165Z"
   },
   {
    "duration": 31,
    "start_time": "2023-06-03T08:53:24.183Z"
   },
   {
    "duration": 7,
    "start_time": "2023-06-03T08:53:24.216Z"
   },
   {
    "duration": 10,
    "start_time": "2023-06-03T08:53:24.226Z"
   },
   {
    "duration": 20,
    "start_time": "2023-06-03T08:53:24.237Z"
   },
   {
    "duration": 6,
    "start_time": "2023-06-03T08:53:24.258Z"
   },
   {
    "duration": 10,
    "start_time": "2023-06-03T08:53:24.266Z"
   },
   {
    "duration": 8,
    "start_time": "2023-06-03T08:53:24.278Z"
   },
   {
    "duration": 7,
    "start_time": "2023-06-03T08:53:24.288Z"
   },
   {
    "duration": 8,
    "start_time": "2023-06-03T08:53:24.297Z"
   },
   {
    "duration": 15,
    "start_time": "2023-06-03T08:53:24.307Z"
   },
   {
    "duration": 5,
    "start_time": "2023-06-03T08:53:24.353Z"
   },
   {
    "duration": 20,
    "start_time": "2023-06-03T08:53:24.361Z"
   },
   {
    "duration": 5,
    "start_time": "2023-06-03T08:53:24.383Z"
   },
   {
    "duration": 19,
    "start_time": "2023-06-03T08:53:24.390Z"
   },
   {
    "duration": 9,
    "start_time": "2023-06-03T08:53:24.411Z"
   },
   {
    "duration": 25,
    "start_time": "2023-06-03T08:53:24.422Z"
   },
   {
    "duration": 163,
    "start_time": "2023-06-03T08:53:24.448Z"
   },
   {
    "duration": 6,
    "start_time": "2023-06-03T08:53:24.613Z"
   },
   {
    "duration": 34,
    "start_time": "2023-06-03T08:53:24.621Z"
   },
   {
    "duration": 3,
    "start_time": "2023-06-03T08:53:24.658Z"
   },
   {
    "duration": 18,
    "start_time": "2023-06-03T08:53:24.663Z"
   },
   {
    "duration": 6,
    "start_time": "2023-06-03T08:53:24.683Z"
   },
   {
    "duration": 181,
    "start_time": "2023-06-03T08:53:24.691Z"
   },
   {
    "duration": 11,
    "start_time": "2023-06-03T08:53:24.874Z"
   },
   {
    "duration": 16,
    "start_time": "2023-06-03T08:53:24.887Z"
   },
   {
    "duration": 195,
    "start_time": "2023-06-03T08:53:24.905Z"
   },
   {
    "duration": 9,
    "start_time": "2023-06-03T08:53:25.102Z"
   },
   {
    "duration": 207,
    "start_time": "2023-06-03T08:53:25.113Z"
   },
   {
    "duration": 30,
    "start_time": "2023-06-03T08:53:25.322Z"
   },
   {
    "duration": 14,
    "start_time": "2023-06-03T08:53:25.356Z"
   },
   {
    "duration": 11,
    "start_time": "2023-06-03T08:53:25.372Z"
   },
   {
    "duration": 21,
    "start_time": "2023-06-03T08:53:25.385Z"
   },
   {
    "duration": 10,
    "start_time": "2023-06-03T08:53:25.408Z"
   },
   {
    "duration": 13,
    "start_time": "2023-06-03T08:53:25.441Z"
   },
   {
    "duration": 19,
    "start_time": "2023-06-03T08:53:25.456Z"
   },
   {
    "duration": 34,
    "start_time": "2023-06-03T08:53:25.477Z"
   },
   {
    "duration": 6,
    "start_time": "2023-06-03T08:53:25.513Z"
   },
   {
    "duration": 40,
    "start_time": "2023-06-03T08:53:25.521Z"
   },
   {
    "duration": 39,
    "start_time": "2023-06-03T08:53:25.563Z"
   },
   {
    "duration": 9,
    "start_time": "2023-06-03T08:53:25.604Z"
   },
   {
    "duration": 24,
    "start_time": "2023-06-03T08:53:25.615Z"
   },
   {
    "duration": 196,
    "start_time": "2023-06-03T08:53:25.640Z"
   },
   {
    "duration": 19,
    "start_time": "2023-06-03T08:53:25.838Z"
   },
   {
    "duration": 200,
    "start_time": "2023-06-03T08:53:25.859Z"
   },
   {
    "duration": 10,
    "start_time": "2023-06-03T08:53:26.062Z"
   },
   {
    "duration": 325,
    "start_time": "2023-06-03T08:53:26.074Z"
   },
   {
    "duration": 177,
    "start_time": "2023-06-03T08:53:26.400Z"
   },
   {
    "duration": 9,
    "start_time": "2023-06-03T08:53:26.579Z"
   },
   {
    "duration": 305,
    "start_time": "2023-06-03T08:53:26.590Z"
   },
   {
    "duration": 9,
    "start_time": "2023-06-03T08:53:26.897Z"
   },
   {
    "duration": 326,
    "start_time": "2023-06-03T08:53:26.908Z"
   },
   {
    "duration": 18,
    "start_time": "2023-06-03T08:53:27.236Z"
   },
   {
    "duration": 918,
    "start_time": "2023-06-03T08:53:27.256Z"
   },
   {
    "duration": 9,
    "start_time": "2023-06-03T08:53:28.176Z"
   },
   {
    "duration": 12,
    "start_time": "2023-06-03T08:53:28.187Z"
   },
   {
    "duration": 7,
    "start_time": "2023-06-03T08:53:28.200Z"
   },
   {
    "duration": 17128,
    "start_time": "2023-06-03T08:53:28.209Z"
   },
   {
    "duration": 0,
    "start_time": "2023-06-03T08:53:45.339Z"
   },
   {
    "duration": 0,
    "start_time": "2023-06-03T08:53:45.340Z"
   },
   {
    "duration": 0,
    "start_time": "2023-06-03T08:53:45.352Z"
   },
   {
    "duration": 0,
    "start_time": "2023-06-03T08:53:45.353Z"
   },
   {
    "duration": 0,
    "start_time": "2023-06-03T08:53:45.353Z"
   },
   {
    "duration": 0,
    "start_time": "2023-06-03T08:53:45.354Z"
   },
   {
    "duration": 0,
    "start_time": "2023-06-03T08:53:45.355Z"
   },
   {
    "duration": 0,
    "start_time": "2023-06-03T08:53:45.357Z"
   },
   {
    "duration": 1202,
    "start_time": "2023-06-03T08:54:51.655Z"
   },
   {
    "duration": 72,
    "start_time": "2023-06-03T08:54:52.860Z"
   },
   {
    "duration": 71,
    "start_time": "2023-06-03T08:54:52.934Z"
   },
   {
    "duration": 59,
    "start_time": "2023-06-03T08:54:53.007Z"
   },
   {
    "duration": 13,
    "start_time": "2023-06-03T08:54:53.068Z"
   },
   {
    "duration": 7,
    "start_time": "2023-06-03T08:54:53.082Z"
   },
   {
    "duration": 19,
    "start_time": "2023-06-03T08:54:53.090Z"
   },
   {
    "duration": 21,
    "start_time": "2023-06-03T08:54:53.111Z"
   },
   {
    "duration": 19,
    "start_time": "2023-06-03T08:54:53.134Z"
   },
   {
    "duration": 13,
    "start_time": "2023-06-03T08:54:53.155Z"
   },
   {
    "duration": 17,
    "start_time": "2023-06-03T08:54:53.170Z"
   },
   {
    "duration": 18,
    "start_time": "2023-06-03T08:54:53.189Z"
   },
   {
    "duration": 7,
    "start_time": "2023-06-03T08:54:53.209Z"
   },
   {
    "duration": 17,
    "start_time": "2023-06-03T08:54:53.220Z"
   },
   {
    "duration": 12,
    "start_time": "2023-06-03T08:54:53.244Z"
   },
   {
    "duration": 14,
    "start_time": "2023-06-03T08:54:53.257Z"
   },
   {
    "duration": 27,
    "start_time": "2023-06-03T08:54:53.273Z"
   },
   {
    "duration": 13,
    "start_time": "2023-06-03T08:54:53.302Z"
   },
   {
    "duration": 7,
    "start_time": "2023-06-03T08:54:53.316Z"
   },
   {
    "duration": 8,
    "start_time": "2023-06-03T08:54:53.325Z"
   },
   {
    "duration": 22,
    "start_time": "2023-06-03T08:54:53.335Z"
   },
   {
    "duration": 49,
    "start_time": "2023-06-03T08:54:53.359Z"
   },
   {
    "duration": 55,
    "start_time": "2023-06-03T08:54:53.410Z"
   },
   {
    "duration": 13,
    "start_time": "2023-06-03T08:54:53.467Z"
   },
   {
    "duration": 19,
    "start_time": "2023-06-03T08:54:53.482Z"
   },
   {
    "duration": 9,
    "start_time": "2023-06-03T08:54:53.503Z"
   },
   {
    "duration": 5,
    "start_time": "2023-06-03T08:54:53.514Z"
   },
   {
    "duration": 160,
    "start_time": "2023-06-03T08:54:53.521Z"
   },
   {
    "duration": 7,
    "start_time": "2023-06-03T08:54:53.683Z"
   },
   {
    "duration": 13,
    "start_time": "2023-06-03T08:54:53.692Z"
   },
   {
    "duration": 10,
    "start_time": "2023-06-03T08:54:53.706Z"
   },
   {
    "duration": 12,
    "start_time": "2023-06-03T08:54:53.718Z"
   },
   {
    "duration": 22,
    "start_time": "2023-06-03T08:54:53.731Z"
   },
   {
    "duration": 169,
    "start_time": "2023-06-03T08:54:53.755Z"
   },
   {
    "duration": 8,
    "start_time": "2023-06-03T08:54:53.926Z"
   },
   {
    "duration": 25,
    "start_time": "2023-06-03T08:54:53.942Z"
   },
   {
    "duration": 168,
    "start_time": "2023-06-03T08:54:53.969Z"
   },
   {
    "duration": 23,
    "start_time": "2023-06-03T08:54:54.139Z"
   },
   {
    "duration": 191,
    "start_time": "2023-06-03T08:54:54.164Z"
   },
   {
    "duration": 13,
    "start_time": "2023-06-03T08:54:54.357Z"
   },
   {
    "duration": 15,
    "start_time": "2023-06-03T08:54:54.375Z"
   },
   {
    "duration": 15,
    "start_time": "2023-06-03T08:54:54.391Z"
   },
   {
    "duration": 19,
    "start_time": "2023-06-03T08:54:54.408Z"
   },
   {
    "duration": 17,
    "start_time": "2023-06-03T08:54:54.448Z"
   },
   {
    "duration": 4,
    "start_time": "2023-06-03T08:54:54.467Z"
   },
   {
    "duration": 22,
    "start_time": "2023-06-03T08:54:54.473Z"
   },
   {
    "duration": 35,
    "start_time": "2023-06-03T08:54:54.497Z"
   },
   {
    "duration": 22,
    "start_time": "2023-06-03T08:54:54.534Z"
   },
   {
    "duration": 9,
    "start_time": "2023-06-03T08:54:54.558Z"
   },
   {
    "duration": 31,
    "start_time": "2023-06-03T08:54:54.569Z"
   },
   {
    "duration": 11,
    "start_time": "2023-06-03T08:54:54.602Z"
   },
   {
    "duration": 24,
    "start_time": "2023-06-03T08:54:54.614Z"
   },
   {
    "duration": 201,
    "start_time": "2023-06-03T08:54:54.640Z"
   },
   {
    "duration": 9,
    "start_time": "2023-06-03T08:54:54.843Z"
   },
   {
    "duration": 205,
    "start_time": "2023-06-03T08:54:54.853Z"
   },
   {
    "duration": 8,
    "start_time": "2023-06-03T08:54:55.060Z"
   },
   {
    "duration": 297,
    "start_time": "2023-06-03T08:54:55.070Z"
   },
   {
    "duration": 167,
    "start_time": "2023-06-03T08:54:55.369Z"
   },
   {
    "duration": 13,
    "start_time": "2023-06-03T08:54:55.537Z"
   },
   {
    "duration": 286,
    "start_time": "2023-06-03T08:54:55.552Z"
   },
   {
    "duration": 16,
    "start_time": "2023-06-03T08:54:55.841Z"
   },
   {
    "duration": 313,
    "start_time": "2023-06-03T08:54:55.859Z"
   },
   {
    "duration": 4,
    "start_time": "2023-06-03T08:54:56.174Z"
   },
   {
    "duration": 889,
    "start_time": "2023-06-03T08:54:56.180Z"
   },
   {
    "duration": 10,
    "start_time": "2023-06-03T08:54:57.070Z"
   },
   {
    "duration": 14,
    "start_time": "2023-06-03T08:54:57.081Z"
   },
   {
    "duration": 9,
    "start_time": "2023-06-03T08:54:57.096Z"
   },
   {
    "duration": 16116,
    "start_time": "2023-06-03T08:54:57.106Z"
   },
   {
    "duration": 0,
    "start_time": "2023-06-03T08:55:13.224Z"
   },
   {
    "duration": 0,
    "start_time": "2023-06-03T08:55:13.225Z"
   },
   {
    "duration": 0,
    "start_time": "2023-06-03T08:55:13.226Z"
   },
   {
    "duration": 0,
    "start_time": "2023-06-03T08:55:13.227Z"
   },
   {
    "duration": 0,
    "start_time": "2023-06-03T08:55:13.228Z"
   },
   {
    "duration": 0,
    "start_time": "2023-06-03T08:55:13.230Z"
   },
   {
    "duration": 0,
    "start_time": "2023-06-03T08:55:13.231Z"
   },
   {
    "duration": 0,
    "start_time": "2023-06-03T08:55:13.232Z"
   },
   {
    "duration": 7909,
    "start_time": "2023-06-03T08:55:30.172Z"
   },
   {
    "duration": 312,
    "start_time": "2023-06-03T08:56:01.160Z"
   },
   {
    "duration": 313,
    "start_time": "2023-06-03T08:56:15.162Z"
   },
   {
    "duration": 323,
    "start_time": "2023-06-03T08:56:25.008Z"
   },
   {
    "duration": 71,
    "start_time": "2023-06-03T08:57:49.958Z"
   },
   {
    "duration": 5203,
    "start_time": "2023-06-03T08:57:58.456Z"
   },
   {
    "duration": 5231,
    "start_time": "2023-06-03T08:58:34.352Z"
   },
   {
    "duration": 5038,
    "start_time": "2023-06-03T08:58:50.672Z"
   },
   {
    "duration": 1190,
    "start_time": "2023-06-03T08:59:42.626Z"
   },
   {
    "duration": 74,
    "start_time": "2023-06-03T08:59:43.819Z"
   },
   {
    "duration": 67,
    "start_time": "2023-06-03T08:59:43.898Z"
   },
   {
    "duration": 52,
    "start_time": "2023-06-03T08:59:43.967Z"
   },
   {
    "duration": 13,
    "start_time": "2023-06-03T08:59:44.021Z"
   },
   {
    "duration": 16,
    "start_time": "2023-06-03T08:59:44.035Z"
   },
   {
    "duration": 17,
    "start_time": "2023-06-03T08:59:44.053Z"
   },
   {
    "duration": 31,
    "start_time": "2023-06-03T08:59:44.071Z"
   },
   {
    "duration": 20,
    "start_time": "2023-06-03T08:59:44.104Z"
   },
   {
    "duration": 15,
    "start_time": "2023-06-03T08:59:44.126Z"
   },
   {
    "duration": 19,
    "start_time": "2023-06-03T08:59:44.143Z"
   },
   {
    "duration": 32,
    "start_time": "2023-06-03T08:59:44.165Z"
   },
   {
    "duration": 10,
    "start_time": "2023-06-03T08:59:44.200Z"
   },
   {
    "duration": 9,
    "start_time": "2023-06-03T08:59:44.212Z"
   },
   {
    "duration": 10,
    "start_time": "2023-06-03T08:59:44.222Z"
   },
   {
    "duration": 6,
    "start_time": "2023-06-03T08:59:44.233Z"
   },
   {
    "duration": 8,
    "start_time": "2023-06-03T08:59:44.241Z"
   },
   {
    "duration": 17,
    "start_time": "2023-06-03T08:59:44.250Z"
   },
   {
    "duration": 23,
    "start_time": "2023-06-03T08:59:44.268Z"
   },
   {
    "duration": 25,
    "start_time": "2023-06-03T08:59:44.292Z"
   },
   {
    "duration": 28,
    "start_time": "2023-06-03T08:59:44.319Z"
   },
   {
    "duration": 4,
    "start_time": "2023-06-03T08:59:44.348Z"
   },
   {
    "duration": 20,
    "start_time": "2023-06-03T08:59:44.354Z"
   },
   {
    "duration": 8,
    "start_time": "2023-06-03T08:59:44.376Z"
   },
   {
    "duration": 22,
    "start_time": "2023-06-03T08:59:44.386Z"
   },
   {
    "duration": 15,
    "start_time": "2023-06-03T08:59:44.409Z"
   },
   {
    "duration": 15,
    "start_time": "2023-06-03T08:59:44.428Z"
   },
   {
    "duration": 165,
    "start_time": "2023-06-03T08:59:44.444Z"
   },
   {
    "duration": 6,
    "start_time": "2023-06-03T08:59:44.610Z"
   },
   {
    "duration": 16,
    "start_time": "2023-06-03T08:59:44.618Z"
   },
   {
    "duration": 17,
    "start_time": "2023-06-03T08:59:44.642Z"
   },
   {
    "duration": 23,
    "start_time": "2023-06-03T08:59:44.661Z"
   },
   {
    "duration": 17,
    "start_time": "2023-06-03T08:59:44.686Z"
   },
   {
    "duration": 154,
    "start_time": "2023-06-03T08:59:44.705Z"
   },
   {
    "duration": 8,
    "start_time": "2023-06-03T08:59:44.860Z"
   },
   {
    "duration": 17,
    "start_time": "2023-06-03T08:59:44.870Z"
   },
   {
    "duration": 163,
    "start_time": "2023-06-03T08:59:44.889Z"
   },
   {
    "duration": 9,
    "start_time": "2023-06-03T08:59:45.054Z"
   },
   {
    "duration": 198,
    "start_time": "2023-06-03T08:59:45.064Z"
   },
   {
    "duration": 11,
    "start_time": "2023-06-03T08:59:45.264Z"
   },
   {
    "duration": 43,
    "start_time": "2023-06-03T08:59:45.277Z"
   },
   {
    "duration": 47,
    "start_time": "2023-06-03T08:59:45.322Z"
   },
   {
    "duration": 49,
    "start_time": "2023-06-03T08:59:45.371Z"
   },
   {
    "duration": 17,
    "start_time": "2023-06-03T08:59:45.422Z"
   },
   {
    "duration": 17,
    "start_time": "2023-06-03T08:59:45.441Z"
   },
   {
    "duration": 19,
    "start_time": "2023-06-03T08:59:45.460Z"
   },
   {
    "duration": 33,
    "start_time": "2023-06-03T08:59:45.481Z"
   },
   {
    "duration": 8,
    "start_time": "2023-06-03T08:59:45.516Z"
   },
   {
    "duration": 18,
    "start_time": "2023-06-03T08:59:45.526Z"
   },
   {
    "duration": 19,
    "start_time": "2023-06-03T08:59:45.546Z"
   },
   {
    "duration": 13,
    "start_time": "2023-06-03T08:59:45.567Z"
   },
   {
    "duration": 22,
    "start_time": "2023-06-03T08:59:45.582Z"
   },
   {
    "duration": 186,
    "start_time": "2023-06-03T08:59:45.606Z"
   },
   {
    "duration": 9,
    "start_time": "2023-06-03T08:59:45.793Z"
   },
   {
    "duration": 183,
    "start_time": "2023-06-03T08:59:45.804Z"
   },
   {
    "duration": 9,
    "start_time": "2023-06-03T08:59:45.988Z"
   },
   {
    "duration": 296,
    "start_time": "2023-06-03T08:59:45.998Z"
   },
   {
    "duration": 176,
    "start_time": "2023-06-03T08:59:46.296Z"
   },
   {
    "duration": 8,
    "start_time": "2023-06-03T08:59:46.474Z"
   },
   {
    "duration": 260,
    "start_time": "2023-06-03T08:59:46.484Z"
   },
   {
    "duration": 8,
    "start_time": "2023-06-03T08:59:46.746Z"
   },
   {
    "duration": 299,
    "start_time": "2023-06-03T08:59:46.756Z"
   },
   {
    "duration": 4,
    "start_time": "2023-06-03T08:59:47.057Z"
   },
   {
    "duration": 855,
    "start_time": "2023-06-03T08:59:47.063Z"
   },
   {
    "duration": 10,
    "start_time": "2023-06-03T08:59:47.919Z"
   },
   {
    "duration": 19,
    "start_time": "2023-06-03T08:59:47.930Z"
   },
   {
    "duration": 11,
    "start_time": "2023-06-03T08:59:47.951Z"
   },
   {
    "duration": 18025,
    "start_time": "2023-06-03T08:59:47.964Z"
   },
   {
    "duration": 0,
    "start_time": "2023-06-03T09:00:05.991Z"
   },
   {
    "duration": 0,
    "start_time": "2023-06-03T09:00:05.992Z"
   },
   {
    "duration": 0,
    "start_time": "2023-06-03T09:00:05.993Z"
   },
   {
    "duration": 0,
    "start_time": "2023-06-03T09:00:05.994Z"
   },
   {
    "duration": 0,
    "start_time": "2023-06-03T09:00:05.995Z"
   },
   {
    "duration": 0,
    "start_time": "2023-06-03T09:00:05.997Z"
   },
   {
    "duration": 0,
    "start_time": "2023-06-03T09:00:05.997Z"
   },
   {
    "duration": 0,
    "start_time": "2023-06-03T09:00:05.999Z"
   },
   {
    "duration": 1124,
    "start_time": "2023-06-03T09:00:45.909Z"
   },
   {
    "duration": 32,
    "start_time": "2023-06-03T09:00:47.037Z"
   },
   {
    "duration": 32,
    "start_time": "2023-06-03T09:00:47.071Z"
   },
   {
    "duration": 15,
    "start_time": "2023-06-03T09:00:47.105Z"
   },
   {
    "duration": 29,
    "start_time": "2023-06-03T09:00:47.122Z"
   },
   {
    "duration": 17,
    "start_time": "2023-06-03T09:00:47.153Z"
   },
   {
    "duration": 19,
    "start_time": "2023-06-03T09:00:47.172Z"
   },
   {
    "duration": 30,
    "start_time": "2023-06-03T09:00:47.193Z"
   },
   {
    "duration": 22,
    "start_time": "2023-06-03T09:00:47.225Z"
   },
   {
    "duration": 15,
    "start_time": "2023-06-03T09:00:47.249Z"
   },
   {
    "duration": 20,
    "start_time": "2023-06-03T09:00:47.265Z"
   },
   {
    "duration": 21,
    "start_time": "2023-06-03T09:00:47.286Z"
   },
   {
    "duration": 9,
    "start_time": "2023-06-03T09:00:47.308Z"
   },
   {
    "duration": 19,
    "start_time": "2023-06-03T09:00:47.318Z"
   },
   {
    "duration": 15,
    "start_time": "2023-06-03T09:00:47.339Z"
   },
   {
    "duration": 6,
    "start_time": "2023-06-03T09:00:47.356Z"
   },
   {
    "duration": 39,
    "start_time": "2023-06-03T09:00:47.364Z"
   },
   {
    "duration": 28,
    "start_time": "2023-06-03T09:00:47.405Z"
   },
   {
    "duration": 16,
    "start_time": "2023-06-03T09:00:47.435Z"
   },
   {
    "duration": 30,
    "start_time": "2023-06-03T09:00:47.452Z"
   },
   {
    "duration": 26,
    "start_time": "2023-06-03T09:00:47.484Z"
   },
   {
    "duration": 23,
    "start_time": "2023-06-03T09:00:47.512Z"
   },
   {
    "duration": 24,
    "start_time": "2023-06-03T09:00:47.537Z"
   },
   {
    "duration": 27,
    "start_time": "2023-06-03T09:00:47.562Z"
   },
   {
    "duration": 36,
    "start_time": "2023-06-03T09:00:47.591Z"
   },
   {
    "duration": 12,
    "start_time": "2023-06-03T09:00:47.629Z"
   },
   {
    "duration": 8,
    "start_time": "2023-06-03T09:00:47.645Z"
   },
   {
    "duration": 172,
    "start_time": "2023-06-03T09:00:47.654Z"
   },
   {
    "duration": 6,
    "start_time": "2023-06-03T09:00:47.828Z"
   },
   {
    "duration": 6,
    "start_time": "2023-06-03T09:00:47.841Z"
   },
   {
    "duration": 12,
    "start_time": "2023-06-03T09:00:47.848Z"
   },
   {
    "duration": 25,
    "start_time": "2023-06-03T09:00:47.862Z"
   },
   {
    "duration": 14,
    "start_time": "2023-06-03T09:00:47.889Z"
   },
   {
    "duration": 154,
    "start_time": "2023-06-03T09:00:47.904Z"
   },
   {
    "duration": 8,
    "start_time": "2023-06-03T09:00:48.059Z"
   },
   {
    "duration": 21,
    "start_time": "2023-06-03T09:00:48.069Z"
   },
   {
    "duration": 225,
    "start_time": "2023-06-03T09:00:48.092Z"
   },
   {
    "duration": 11,
    "start_time": "2023-06-03T09:00:48.319Z"
   },
   {
    "duration": 237,
    "start_time": "2023-06-03T09:00:48.342Z"
   },
   {
    "duration": 13,
    "start_time": "2023-06-03T09:00:48.580Z"
   },
   {
    "duration": 15,
    "start_time": "2023-06-03T09:00:48.595Z"
   },
   {
    "duration": 15,
    "start_time": "2023-06-03T09:00:48.612Z"
   },
   {
    "duration": 20,
    "start_time": "2023-06-03T09:00:48.642Z"
   },
   {
    "duration": 9,
    "start_time": "2023-06-03T09:00:48.663Z"
   },
   {
    "duration": 5,
    "start_time": "2023-06-03T09:00:48.673Z"
   },
   {
    "duration": 20,
    "start_time": "2023-06-03T09:00:48.680Z"
   },
   {
    "duration": 60,
    "start_time": "2023-06-03T09:00:48.702Z"
   },
   {
    "duration": 6,
    "start_time": "2023-06-03T09:00:48.764Z"
   },
   {
    "duration": 11,
    "start_time": "2023-06-03T09:00:48.772Z"
   },
   {
    "duration": 19,
    "start_time": "2023-06-03T09:00:48.784Z"
   },
   {
    "duration": 2,
    "start_time": "2023-06-03T09:00:48.805Z"
   },
   {
    "duration": 37,
    "start_time": "2023-06-03T09:00:48.809Z"
   },
   {
    "duration": 188,
    "start_time": "2023-06-03T09:00:48.848Z"
   },
   {
    "duration": 8,
    "start_time": "2023-06-03T09:00:49.042Z"
   },
   {
    "duration": 204,
    "start_time": "2023-06-03T09:00:49.051Z"
   },
   {
    "duration": 11,
    "start_time": "2023-06-03T09:00:49.257Z"
   },
   {
    "duration": 312,
    "start_time": "2023-06-03T09:00:49.270Z"
   },
   {
    "duration": 157,
    "start_time": "2023-06-03T09:00:49.584Z"
   },
   {
    "duration": 8,
    "start_time": "2023-06-03T09:00:49.743Z"
   },
   {
    "duration": 265,
    "start_time": "2023-06-03T09:00:49.753Z"
   },
   {
    "duration": 8,
    "start_time": "2023-06-03T09:00:50.020Z"
   },
   {
    "duration": 289,
    "start_time": "2023-06-03T09:00:50.042Z"
   },
   {
    "duration": 10,
    "start_time": "2023-06-03T09:00:50.333Z"
   },
   {
    "duration": 846,
    "start_time": "2023-06-03T09:00:50.344Z"
   },
   {
    "duration": 9,
    "start_time": "2023-06-03T09:00:51.192Z"
   },
   {
    "duration": 21,
    "start_time": "2023-06-03T09:00:51.203Z"
   },
   {
    "duration": 16,
    "start_time": "2023-06-03T09:00:51.226Z"
   },
   {
    "duration": 1229,
    "start_time": "2023-06-03T09:01:10.410Z"
   },
   {
    "duration": 73,
    "start_time": "2023-06-03T09:01:11.641Z"
   },
   {
    "duration": 66,
    "start_time": "2023-06-03T09:01:11.716Z"
   },
   {
    "duration": 52,
    "start_time": "2023-06-03T09:01:11.784Z"
   },
   {
    "duration": 16,
    "start_time": "2023-06-03T09:01:11.838Z"
   },
   {
    "duration": 5,
    "start_time": "2023-06-03T09:01:11.856Z"
   },
   {
    "duration": 14,
    "start_time": "2023-06-03T09:01:11.863Z"
   },
   {
    "duration": 15,
    "start_time": "2023-06-03T09:01:11.879Z"
   },
   {
    "duration": 13,
    "start_time": "2023-06-03T09:01:11.896Z"
   },
   {
    "duration": 31,
    "start_time": "2023-06-03T09:01:11.912Z"
   },
   {
    "duration": 14,
    "start_time": "2023-06-03T09:01:11.945Z"
   },
   {
    "duration": 20,
    "start_time": "2023-06-03T09:01:11.961Z"
   },
   {
    "duration": 6,
    "start_time": "2023-06-03T09:01:11.983Z"
   },
   {
    "duration": 13,
    "start_time": "2023-06-03T09:01:11.990Z"
   },
   {
    "duration": 9,
    "start_time": "2023-06-03T09:01:12.004Z"
   },
   {
    "duration": 7,
    "start_time": "2023-06-03T09:01:12.015Z"
   },
   {
    "duration": 22,
    "start_time": "2023-06-03T09:01:12.024Z"
   },
   {
    "duration": 21,
    "start_time": "2023-06-03T09:01:12.048Z"
   },
   {
    "duration": 7,
    "start_time": "2023-06-03T09:01:12.071Z"
   },
   {
    "duration": 11,
    "start_time": "2023-06-03T09:01:12.079Z"
   },
   {
    "duration": 23,
    "start_time": "2023-06-03T09:01:12.092Z"
   },
   {
    "duration": 4,
    "start_time": "2023-06-03T09:01:12.117Z"
   },
   {
    "duration": 25,
    "start_time": "2023-06-03T09:01:12.123Z"
   },
   {
    "duration": 6,
    "start_time": "2023-06-03T09:01:12.150Z"
   },
   {
    "duration": 15,
    "start_time": "2023-06-03T09:01:12.158Z"
   },
   {
    "duration": 8,
    "start_time": "2023-06-03T09:01:12.174Z"
   },
   {
    "duration": 19,
    "start_time": "2023-06-03T09:01:12.183Z"
   },
   {
    "duration": 174,
    "start_time": "2023-06-03T09:01:12.206Z"
   },
   {
    "duration": 8,
    "start_time": "2023-06-03T09:01:12.382Z"
   },
   {
    "duration": 18,
    "start_time": "2023-06-03T09:01:12.391Z"
   },
   {
    "duration": 7,
    "start_time": "2023-06-03T09:01:12.410Z"
   },
   {
    "duration": 10,
    "start_time": "2023-06-03T09:01:12.418Z"
   },
   {
    "duration": 12,
    "start_time": "2023-06-03T09:01:12.430Z"
   },
   {
    "duration": 157,
    "start_time": "2023-06-03T09:01:12.444Z"
   },
   {
    "duration": 9,
    "start_time": "2023-06-03T09:01:12.603Z"
   },
   {
    "duration": 43,
    "start_time": "2023-06-03T09:01:12.614Z"
   },
   {
    "duration": 174,
    "start_time": "2023-06-03T09:01:12.659Z"
   },
   {
    "duration": 13,
    "start_time": "2023-06-03T09:01:12.834Z"
   },
   {
    "duration": 184,
    "start_time": "2023-06-03T09:01:12.849Z"
   },
   {
    "duration": 13,
    "start_time": "2023-06-03T09:01:13.034Z"
   },
   {
    "duration": 12,
    "start_time": "2023-06-03T09:01:13.048Z"
   },
   {
    "duration": 17,
    "start_time": "2023-06-03T09:01:13.062Z"
   },
   {
    "duration": 20,
    "start_time": "2023-06-03T09:01:13.081Z"
   },
   {
    "duration": 8,
    "start_time": "2023-06-03T09:01:13.103Z"
   },
   {
    "duration": 5,
    "start_time": "2023-06-03T09:01:13.142Z"
   },
   {
    "duration": 22,
    "start_time": "2023-06-03T09:01:13.149Z"
   },
   {
    "duration": 36,
    "start_time": "2023-06-03T09:01:13.173Z"
   },
   {
    "duration": 31,
    "start_time": "2023-06-03T09:01:13.211Z"
   },
   {
    "duration": 6,
    "start_time": "2023-06-03T09:01:13.244Z"
   },
   {
    "duration": 21,
    "start_time": "2023-06-03T09:01:13.251Z"
   },
   {
    "duration": 7,
    "start_time": "2023-06-03T09:01:13.274Z"
   },
   {
    "duration": 29,
    "start_time": "2023-06-03T09:01:13.282Z"
   },
   {
    "duration": 179,
    "start_time": "2023-06-03T09:01:13.313Z"
   },
   {
    "duration": 8,
    "start_time": "2023-06-03T09:01:13.493Z"
   },
   {
    "duration": 185,
    "start_time": "2023-06-03T09:01:13.503Z"
   },
   {
    "duration": 9,
    "start_time": "2023-06-03T09:01:13.690Z"
   },
   {
    "duration": 290,
    "start_time": "2023-06-03T09:01:13.700Z"
   },
   {
    "duration": 168,
    "start_time": "2023-06-03T09:01:13.992Z"
   },
   {
    "duration": 11,
    "start_time": "2023-06-03T09:01:14.163Z"
   },
   {
    "duration": 269,
    "start_time": "2023-06-03T09:01:14.176Z"
   },
   {
    "duration": 8,
    "start_time": "2023-06-03T09:01:14.447Z"
   },
   {
    "duration": 286,
    "start_time": "2023-06-03T09:01:14.457Z"
   },
   {
    "duration": 3,
    "start_time": "2023-06-03T09:01:14.745Z"
   },
   {
    "duration": 802,
    "start_time": "2023-06-03T09:01:14.750Z"
   },
   {
    "duration": 10,
    "start_time": "2023-06-03T09:01:15.554Z"
   },
   {
    "duration": 11,
    "start_time": "2023-06-03T09:01:15.566Z"
   },
   {
    "duration": 8,
    "start_time": "2023-06-03T09:01:15.579Z"
   },
   {
    "duration": 53,
    "start_time": "2023-06-03T09:01:40.180Z"
   },
   {
    "duration": 1208,
    "start_time": "2023-06-03T09:01:48.179Z"
   },
   {
    "duration": 74,
    "start_time": "2023-06-03T09:01:49.389Z"
   },
   {
    "duration": 65,
    "start_time": "2023-06-03T09:01:49.465Z"
   },
   {
    "duration": 68,
    "start_time": "2023-06-03T09:01:49.531Z"
   },
   {
    "duration": 15,
    "start_time": "2023-06-03T09:01:49.603Z"
   },
   {
    "duration": 6,
    "start_time": "2023-06-03T09:01:49.620Z"
   },
   {
    "duration": 16,
    "start_time": "2023-06-03T09:01:49.627Z"
   },
   {
    "duration": 18,
    "start_time": "2023-06-03T09:01:49.645Z"
   },
   {
    "duration": 43,
    "start_time": "2023-06-03T09:01:49.664Z"
   },
   {
    "duration": 7,
    "start_time": "2023-06-03T09:01:49.709Z"
   },
   {
    "duration": 15,
    "start_time": "2023-06-03T09:01:49.717Z"
   },
   {
    "duration": 9,
    "start_time": "2023-06-03T09:01:49.734Z"
   },
   {
    "duration": 13,
    "start_time": "2023-06-03T09:01:49.744Z"
   },
   {
    "duration": 16,
    "start_time": "2023-06-03T09:01:49.762Z"
   },
   {
    "duration": 13,
    "start_time": "2023-06-03T09:01:49.781Z"
   },
   {
    "duration": 5,
    "start_time": "2023-06-03T09:01:49.796Z"
   },
   {
    "duration": 8,
    "start_time": "2023-06-03T09:01:49.803Z"
   },
   {
    "duration": 13,
    "start_time": "2023-06-03T09:01:49.813Z"
   },
   {
    "duration": 17,
    "start_time": "2023-06-03T09:01:49.828Z"
   },
   {
    "duration": 11,
    "start_time": "2023-06-03T09:01:49.847Z"
   },
   {
    "duration": 18,
    "start_time": "2023-06-03T09:01:49.860Z"
   },
   {
    "duration": 5,
    "start_time": "2023-06-03T09:01:49.879Z"
   },
   {
    "duration": 27,
    "start_time": "2023-06-03T09:01:49.886Z"
   },
   {
    "duration": 27,
    "start_time": "2023-06-03T09:01:49.915Z"
   },
   {
    "duration": 16,
    "start_time": "2023-06-03T09:01:49.944Z"
   },
   {
    "duration": 9,
    "start_time": "2023-06-03T09:01:49.961Z"
   },
   {
    "duration": 4,
    "start_time": "2023-06-03T09:01:49.972Z"
   },
   {
    "duration": 177,
    "start_time": "2023-06-03T09:01:49.977Z"
   },
   {
    "duration": 7,
    "start_time": "2023-06-03T09:01:50.155Z"
   },
   {
    "duration": 10,
    "start_time": "2023-06-03T09:01:50.164Z"
   },
   {
    "duration": 24,
    "start_time": "2023-06-03T09:01:50.176Z"
   },
   {
    "duration": 17,
    "start_time": "2023-06-03T09:01:50.201Z"
   },
   {
    "duration": 7,
    "start_time": "2023-06-03T09:01:50.219Z"
   },
   {
    "duration": 158,
    "start_time": "2023-06-03T09:01:50.228Z"
   },
   {
    "duration": 9,
    "start_time": "2023-06-03T09:01:50.388Z"
   },
   {
    "duration": 47,
    "start_time": "2023-06-03T09:01:50.399Z"
   },
   {
    "duration": 156,
    "start_time": "2023-06-03T09:01:50.448Z"
   },
   {
    "duration": 9,
    "start_time": "2023-06-03T09:01:50.607Z"
   },
   {
    "duration": 192,
    "start_time": "2023-06-03T09:01:50.618Z"
   },
   {
    "duration": 10,
    "start_time": "2023-06-03T09:01:50.812Z"
   },
   {
    "duration": 24,
    "start_time": "2023-06-03T09:01:50.826Z"
   },
   {
    "duration": 16,
    "start_time": "2023-06-03T09:01:50.852Z"
   },
   {
    "duration": 22,
    "start_time": "2023-06-03T09:01:50.870Z"
   },
   {
    "duration": 9,
    "start_time": "2023-06-03T09:01:50.894Z"
   },
   {
    "duration": 5,
    "start_time": "2023-06-03T09:01:50.904Z"
   },
   {
    "duration": 17,
    "start_time": "2023-06-03T09:01:50.943Z"
   },
   {
    "duration": 36,
    "start_time": "2023-06-03T09:01:50.962Z"
   },
   {
    "duration": 8,
    "start_time": "2023-06-03T09:01:51.000Z"
   },
   {
    "duration": 39,
    "start_time": "2023-06-03T09:01:51.010Z"
   },
   {
    "duration": 19,
    "start_time": "2023-06-03T09:01:51.051Z"
   },
   {
    "duration": 13,
    "start_time": "2023-06-03T09:01:51.072Z"
   },
   {
    "duration": 29,
    "start_time": "2023-06-03T09:01:51.087Z"
   },
   {
    "duration": 187,
    "start_time": "2023-06-03T09:01:51.118Z"
   },
   {
    "duration": 9,
    "start_time": "2023-06-03T09:01:51.307Z"
   },
   {
    "duration": 196,
    "start_time": "2023-06-03T09:01:51.318Z"
   },
   {
    "duration": 9,
    "start_time": "2023-06-03T09:01:51.517Z"
   },
   {
    "duration": 283,
    "start_time": "2023-06-03T09:01:51.541Z"
   },
   {
    "duration": 162,
    "start_time": "2023-06-03T09:01:51.827Z"
   },
   {
    "duration": 9,
    "start_time": "2023-06-03T09:01:51.991Z"
   },
   {
    "duration": 273,
    "start_time": "2023-06-03T09:01:52.001Z"
   },
   {
    "duration": 9,
    "start_time": "2023-06-03T09:01:52.276Z"
   },
   {
    "duration": 271,
    "start_time": "2023-06-03T09:01:52.286Z"
   },
   {
    "duration": 3,
    "start_time": "2023-06-03T09:01:52.559Z"
   },
   {
    "duration": 783,
    "start_time": "2023-06-03T09:01:52.564Z"
   },
   {
    "duration": 10,
    "start_time": "2023-06-03T09:01:53.349Z"
   },
   {
    "duration": 26,
    "start_time": "2023-06-03T09:01:53.360Z"
   },
   {
    "duration": 7,
    "start_time": "2023-06-03T09:01:53.388Z"
   },
   {
    "duration": 6640,
    "start_time": "2023-06-03T09:01:53.397Z"
   },
   {
    "duration": 0,
    "start_time": "2023-06-03T09:02:00.040Z"
   },
   {
    "duration": 0,
    "start_time": "2023-06-03T09:02:00.041Z"
   },
   {
    "duration": 0,
    "start_time": "2023-06-03T09:02:00.043Z"
   },
   {
    "duration": 0,
    "start_time": "2023-06-03T09:02:00.045Z"
   },
   {
    "duration": 0,
    "start_time": "2023-06-03T09:02:00.047Z"
   },
   {
    "duration": 0,
    "start_time": "2023-06-03T09:02:00.049Z"
   },
   {
    "duration": 0,
    "start_time": "2023-06-03T09:02:00.050Z"
   },
   {
    "duration": 0,
    "start_time": "2023-06-03T09:02:00.051Z"
   },
   {
    "duration": 6902,
    "start_time": "2023-06-03T09:03:45.938Z"
   },
   {
    "duration": 4,
    "start_time": "2023-06-03T09:04:21.959Z"
   },
   {
    "duration": 1085,
    "start_time": "2023-06-03T09:04:27.052Z"
   },
   {
    "duration": 27,
    "start_time": "2023-06-03T09:04:28.141Z"
   },
   {
    "duration": 26,
    "start_time": "2023-06-03T09:04:28.170Z"
   },
   {
    "duration": 15,
    "start_time": "2023-06-03T09:04:28.198Z"
   },
   {
    "duration": 16,
    "start_time": "2023-06-03T09:04:28.214Z"
   },
   {
    "duration": 5,
    "start_time": "2023-06-03T09:04:28.232Z"
   },
   {
    "duration": 19,
    "start_time": "2023-06-03T09:04:28.239Z"
   },
   {
    "duration": 16,
    "start_time": "2023-06-03T09:04:28.260Z"
   },
   {
    "duration": 18,
    "start_time": "2023-06-03T09:04:28.278Z"
   },
   {
    "duration": 9,
    "start_time": "2023-06-03T09:04:28.300Z"
   },
   {
    "duration": 31,
    "start_time": "2023-06-03T09:04:28.311Z"
   },
   {
    "duration": 15,
    "start_time": "2023-06-03T09:04:28.344Z"
   },
   {
    "duration": 14,
    "start_time": "2023-06-03T09:04:28.361Z"
   },
   {
    "duration": 16,
    "start_time": "2023-06-03T09:04:28.377Z"
   },
   {
    "duration": 11,
    "start_time": "2023-06-03T09:04:28.395Z"
   },
   {
    "duration": 10,
    "start_time": "2023-06-03T09:04:28.407Z"
   },
   {
    "duration": 8,
    "start_time": "2023-06-03T09:04:28.418Z"
   },
   {
    "duration": 8,
    "start_time": "2023-06-03T09:04:28.428Z"
   },
   {
    "duration": 8,
    "start_time": "2023-06-03T09:04:28.437Z"
   },
   {
    "duration": 8,
    "start_time": "2023-06-03T09:04:28.446Z"
   },
   {
    "duration": 15,
    "start_time": "2023-06-03T09:04:28.455Z"
   },
   {
    "duration": 5,
    "start_time": "2023-06-03T09:04:28.471Z"
   },
   {
    "duration": 19,
    "start_time": "2023-06-03T09:04:28.477Z"
   },
   {
    "duration": 4,
    "start_time": "2023-06-03T09:04:28.498Z"
   },
   {
    "duration": 17,
    "start_time": "2023-06-03T09:04:28.504Z"
   },
   {
    "duration": 28,
    "start_time": "2023-06-03T09:04:28.522Z"
   },
   {
    "duration": 5,
    "start_time": "2023-06-03T09:04:28.552Z"
   },
   {
    "duration": 156,
    "start_time": "2023-06-03T09:04:28.562Z"
   },
   {
    "duration": 6,
    "start_time": "2023-06-03T09:04:28.720Z"
   },
   {
    "duration": 75,
    "start_time": "2023-06-03T09:04:28.727Z"
   },
   {
    "duration": 30,
    "start_time": "2023-06-03T09:04:28.804Z"
   },
   {
    "duration": 38,
    "start_time": "2023-06-03T09:04:28.836Z"
   },
   {
    "duration": 25,
    "start_time": "2023-06-03T09:04:28.876Z"
   },
   {
    "duration": 162,
    "start_time": "2023-06-03T09:04:28.902Z"
   },
   {
    "duration": 8,
    "start_time": "2023-06-03T09:04:29.065Z"
   },
   {
    "duration": 21,
    "start_time": "2023-06-03T09:04:29.075Z"
   },
   {
    "duration": 177,
    "start_time": "2023-06-03T09:04:29.098Z"
   },
   {
    "duration": 10,
    "start_time": "2023-06-03T09:04:29.277Z"
   },
   {
    "duration": 199,
    "start_time": "2023-06-03T09:04:29.288Z"
   },
   {
    "duration": 11,
    "start_time": "2023-06-03T09:04:29.488Z"
   },
   {
    "duration": 11,
    "start_time": "2023-06-03T09:04:29.501Z"
   },
   {
    "duration": 33,
    "start_time": "2023-06-03T09:04:29.514Z"
   },
   {
    "duration": 19,
    "start_time": "2023-06-03T09:04:29.549Z"
   },
   {
    "duration": 10,
    "start_time": "2023-06-03T09:04:29.570Z"
   },
   {
    "duration": 20,
    "start_time": "2023-06-03T09:04:29.581Z"
   },
   {
    "duration": 20,
    "start_time": "2023-06-03T09:04:29.603Z"
   },
   {
    "duration": 48,
    "start_time": "2023-06-03T09:04:29.625Z"
   },
   {
    "duration": 6,
    "start_time": "2023-06-03T09:04:29.675Z"
   },
   {
    "duration": 13,
    "start_time": "2023-06-03T09:04:29.683Z"
   },
   {
    "duration": 26,
    "start_time": "2023-06-03T09:04:29.698Z"
   },
   {
    "duration": 17,
    "start_time": "2023-06-03T09:04:29.725Z"
   },
   {
    "duration": 18,
    "start_time": "2023-06-03T09:04:29.744Z"
   },
   {
    "duration": 180,
    "start_time": "2023-06-03T09:04:29.764Z"
   },
   {
    "duration": 8,
    "start_time": "2023-06-03T09:04:29.946Z"
   },
   {
    "duration": 201,
    "start_time": "2023-06-03T09:04:29.956Z"
   },
   {
    "duration": 9,
    "start_time": "2023-06-03T09:04:30.159Z"
   },
   {
    "duration": 301,
    "start_time": "2023-06-03T09:04:30.170Z"
   },
   {
    "duration": 169,
    "start_time": "2023-06-03T09:04:30.473Z"
   },
   {
    "duration": 10,
    "start_time": "2023-06-03T09:04:30.644Z"
   },
   {
    "duration": 311,
    "start_time": "2023-06-03T09:04:30.656Z"
   },
   {
    "duration": 9,
    "start_time": "2023-06-03T09:04:30.969Z"
   },
   {
    "duration": 326,
    "start_time": "2023-06-03T09:04:30.979Z"
   },
   {
    "duration": 4,
    "start_time": "2023-06-03T09:04:31.307Z"
   },
   {
    "duration": 856,
    "start_time": "2023-06-03T09:04:31.313Z"
   },
   {
    "duration": 11,
    "start_time": "2023-06-03T09:04:32.171Z"
   },
   {
    "duration": 55,
    "start_time": "2023-06-03T09:04:32.183Z"
   },
   {
    "duration": 34,
    "start_time": "2023-06-03T09:04:32.240Z"
   },
   {
    "duration": 7387,
    "start_time": "2023-06-03T09:04:32.276Z"
   },
   {
    "duration": 0,
    "start_time": "2023-06-03T09:04:39.664Z"
   },
   {
    "duration": 1,
    "start_time": "2023-06-03T09:04:39.665Z"
   },
   {
    "duration": 0,
    "start_time": "2023-06-03T09:04:39.666Z"
   },
   {
    "duration": 0,
    "start_time": "2023-06-03T09:04:39.668Z"
   },
   {
    "duration": 0,
    "start_time": "2023-06-03T09:04:39.669Z"
   },
   {
    "duration": 0,
    "start_time": "2023-06-03T09:04:39.671Z"
   },
   {
    "duration": 0,
    "start_time": "2023-06-03T09:04:39.672Z"
   },
   {
    "duration": 0,
    "start_time": "2023-06-03T09:04:39.673Z"
   },
   {
    "duration": 9014,
    "start_time": "2023-06-03T09:04:55.599Z"
   },
   {
    "duration": 6634,
    "start_time": "2023-06-03T09:05:25.762Z"
   },
   {
    "duration": 1155,
    "start_time": "2023-06-03T09:05:42.748Z"
   },
   {
    "duration": 29,
    "start_time": "2023-06-03T09:05:43.905Z"
   },
   {
    "duration": 27,
    "start_time": "2023-06-03T09:05:43.935Z"
   },
   {
    "duration": 16,
    "start_time": "2023-06-03T09:05:43.964Z"
   },
   {
    "duration": 13,
    "start_time": "2023-06-03T09:05:43.982Z"
   },
   {
    "duration": 6,
    "start_time": "2023-06-03T09:05:43.997Z"
   },
   {
    "duration": 21,
    "start_time": "2023-06-03T09:05:44.004Z"
   },
   {
    "duration": 17,
    "start_time": "2023-06-03T09:05:44.026Z"
   },
   {
    "duration": 22,
    "start_time": "2023-06-03T09:05:44.045Z"
   },
   {
    "duration": 8,
    "start_time": "2023-06-03T09:05:44.071Z"
   },
   {
    "duration": 15,
    "start_time": "2023-06-03T09:05:44.081Z"
   },
   {
    "duration": 23,
    "start_time": "2023-06-03T09:05:44.098Z"
   },
   {
    "duration": 13,
    "start_time": "2023-06-03T09:05:44.125Z"
   },
   {
    "duration": 15,
    "start_time": "2023-06-03T09:05:44.141Z"
   },
   {
    "duration": 28,
    "start_time": "2023-06-03T09:05:44.158Z"
   },
   {
    "duration": 13,
    "start_time": "2023-06-03T09:05:44.188Z"
   },
   {
    "duration": 15,
    "start_time": "2023-06-03T09:05:44.203Z"
   },
   {
    "duration": 11,
    "start_time": "2023-06-03T09:05:44.220Z"
   },
   {
    "duration": 24,
    "start_time": "2023-06-03T09:05:44.233Z"
   },
   {
    "duration": 16,
    "start_time": "2023-06-03T09:05:44.259Z"
   },
   {
    "duration": 15,
    "start_time": "2023-06-03T09:05:44.277Z"
   },
   {
    "duration": 5,
    "start_time": "2023-06-03T09:05:44.293Z"
   },
   {
    "duration": 22,
    "start_time": "2023-06-03T09:05:44.299Z"
   },
   {
    "duration": 5,
    "start_time": "2023-06-03T09:05:44.323Z"
   },
   {
    "duration": 17,
    "start_time": "2023-06-03T09:05:44.330Z"
   },
   {
    "duration": 10,
    "start_time": "2023-06-03T09:05:44.349Z"
   },
   {
    "duration": 15,
    "start_time": "2023-06-03T09:05:44.361Z"
   },
   {
    "duration": 179,
    "start_time": "2023-06-03T09:05:44.380Z"
   },
   {
    "duration": 7,
    "start_time": "2023-06-03T09:05:44.561Z"
   },
   {
    "duration": 24,
    "start_time": "2023-06-03T09:05:44.569Z"
   },
   {
    "duration": 7,
    "start_time": "2023-06-03T09:05:44.595Z"
   },
   {
    "duration": 14,
    "start_time": "2023-06-03T09:05:44.603Z"
   },
   {
    "duration": 8,
    "start_time": "2023-06-03T09:05:44.618Z"
   },
   {
    "duration": 167,
    "start_time": "2023-06-03T09:05:44.627Z"
   },
   {
    "duration": 10,
    "start_time": "2023-06-03T09:05:44.796Z"
   },
   {
    "duration": 11,
    "start_time": "2023-06-03T09:05:44.807Z"
   },
   {
    "duration": 189,
    "start_time": "2023-06-03T09:05:44.820Z"
   },
   {
    "duration": 11,
    "start_time": "2023-06-03T09:05:45.010Z"
   },
   {
    "duration": 212,
    "start_time": "2023-06-03T09:05:45.023Z"
   },
   {
    "duration": 10,
    "start_time": "2023-06-03T09:05:45.237Z"
   },
   {
    "duration": 21,
    "start_time": "2023-06-03T09:05:45.249Z"
   },
   {
    "duration": 30,
    "start_time": "2023-06-03T09:05:45.272Z"
   },
   {
    "duration": 36,
    "start_time": "2023-06-03T09:05:45.304Z"
   },
   {
    "duration": 19,
    "start_time": "2023-06-03T09:05:45.341Z"
   },
   {
    "duration": 9,
    "start_time": "2023-06-03T09:05:45.362Z"
   },
   {
    "duration": 26,
    "start_time": "2023-06-03T09:05:45.373Z"
   },
   {
    "duration": 33,
    "start_time": "2023-06-03T09:05:45.401Z"
   },
   {
    "duration": 9,
    "start_time": "2023-06-03T09:05:45.435Z"
   },
   {
    "duration": 6,
    "start_time": "2023-06-03T09:05:45.446Z"
   },
   {
    "duration": 23,
    "start_time": "2023-06-03T09:05:45.454Z"
   },
   {
    "duration": 23,
    "start_time": "2023-06-03T09:05:45.478Z"
   },
   {
    "duration": 20,
    "start_time": "2023-06-03T09:05:45.502Z"
   },
   {
    "duration": 213,
    "start_time": "2023-06-03T09:05:45.524Z"
   },
   {
    "duration": 9,
    "start_time": "2023-06-03T09:05:45.742Z"
   },
   {
    "duration": 189,
    "start_time": "2023-06-03T09:05:45.753Z"
   },
   {
    "duration": 9,
    "start_time": "2023-06-03T09:05:45.943Z"
   },
   {
    "duration": 364,
    "start_time": "2023-06-03T09:05:45.954Z"
   },
   {
    "duration": 163,
    "start_time": "2023-06-03T09:05:46.320Z"
   },
   {
    "duration": 9,
    "start_time": "2023-06-03T09:05:46.485Z"
   },
   {
    "duration": 308,
    "start_time": "2023-06-03T09:05:46.496Z"
   },
   {
    "duration": 9,
    "start_time": "2023-06-03T09:05:46.805Z"
   },
   {
    "duration": 302,
    "start_time": "2023-06-03T09:05:46.816Z"
   },
   {
    "duration": 4,
    "start_time": "2023-06-03T09:05:47.120Z"
   },
   {
    "duration": 849,
    "start_time": "2023-06-03T09:05:47.126Z"
   },
   {
    "duration": 9,
    "start_time": "2023-06-03T09:05:47.977Z"
   },
   {
    "duration": 16,
    "start_time": "2023-06-03T09:05:47.988Z"
   },
   {
    "duration": 6,
    "start_time": "2023-06-03T09:05:48.006Z"
   },
   {
    "duration": 7157,
    "start_time": "2023-06-03T09:05:48.013Z"
   },
   {
    "duration": 0,
    "start_time": "2023-06-03T09:05:55.171Z"
   },
   {
    "duration": 0,
    "start_time": "2023-06-03T09:05:55.172Z"
   },
   {
    "duration": 0,
    "start_time": "2023-06-03T09:05:55.173Z"
   },
   {
    "duration": 0,
    "start_time": "2023-06-03T09:05:55.175Z"
   },
   {
    "duration": 0,
    "start_time": "2023-06-03T09:05:55.176Z"
   },
   {
    "duration": 0,
    "start_time": "2023-06-03T09:05:55.178Z"
   },
   {
    "duration": 0,
    "start_time": "2023-06-03T09:05:55.179Z"
   },
   {
    "duration": 0,
    "start_time": "2023-06-03T09:05:55.180Z"
   },
   {
    "duration": 6761,
    "start_time": "2023-06-03T09:06:03.593Z"
   },
   {
    "duration": 342,
    "start_time": "2023-06-03T09:06:27.672Z"
   },
   {
    "duration": 311,
    "start_time": "2023-06-03T09:06:33.336Z"
   },
   {
    "duration": 303,
    "start_time": "2023-06-03T09:06:53.494Z"
   },
   {
    "duration": 1163,
    "start_time": "2023-06-03T09:07:03.170Z"
   },
   {
    "duration": 28,
    "start_time": "2023-06-03T09:07:04.335Z"
   },
   {
    "duration": 28,
    "start_time": "2023-06-03T09:07:04.364Z"
   },
   {
    "duration": 18,
    "start_time": "2023-06-03T09:07:04.393Z"
   },
   {
    "duration": 27,
    "start_time": "2023-06-03T09:07:04.413Z"
   },
   {
    "duration": 25,
    "start_time": "2023-06-03T09:07:04.441Z"
   },
   {
    "duration": 28,
    "start_time": "2023-06-03T09:07:04.468Z"
   },
   {
    "duration": 21,
    "start_time": "2023-06-03T09:07:04.498Z"
   },
   {
    "duration": 36,
    "start_time": "2023-06-03T09:07:04.521Z"
   },
   {
    "duration": 10,
    "start_time": "2023-06-03T09:07:04.559Z"
   },
   {
    "duration": 18,
    "start_time": "2023-06-03T09:07:04.570Z"
   },
   {
    "duration": 24,
    "start_time": "2023-06-03T09:07:04.589Z"
   },
   {
    "duration": 14,
    "start_time": "2023-06-03T09:07:04.614Z"
   },
   {
    "duration": 17,
    "start_time": "2023-06-03T09:07:04.632Z"
   },
   {
    "duration": 12,
    "start_time": "2023-06-03T09:07:04.650Z"
   },
   {
    "duration": 13,
    "start_time": "2023-06-03T09:07:04.664Z"
   },
   {
    "duration": 18,
    "start_time": "2023-06-03T09:07:04.678Z"
   },
   {
    "duration": 20,
    "start_time": "2023-06-03T09:07:04.697Z"
   },
   {
    "duration": 16,
    "start_time": "2023-06-03T09:07:04.718Z"
   },
   {
    "duration": 8,
    "start_time": "2023-06-03T09:07:04.736Z"
   },
   {
    "duration": 18,
    "start_time": "2023-06-03T09:07:04.746Z"
   },
   {
    "duration": 6,
    "start_time": "2023-06-03T09:07:04.766Z"
   },
   {
    "duration": 20,
    "start_time": "2023-06-03T09:07:04.773Z"
   },
   {
    "duration": 5,
    "start_time": "2023-06-03T09:07:04.795Z"
   },
   {
    "duration": 26,
    "start_time": "2023-06-03T09:07:04.801Z"
   },
   {
    "duration": 9,
    "start_time": "2023-06-03T09:07:04.841Z"
   },
   {
    "duration": 4,
    "start_time": "2023-06-03T09:07:04.852Z"
   },
   {
    "duration": 161,
    "start_time": "2023-06-03T09:07:04.857Z"
   },
   {
    "duration": 6,
    "start_time": "2023-06-03T09:07:05.020Z"
   },
   {
    "duration": 12,
    "start_time": "2023-06-03T09:07:05.041Z"
   },
   {
    "duration": 9,
    "start_time": "2023-06-03T09:07:05.055Z"
   },
   {
    "duration": 24,
    "start_time": "2023-06-03T09:07:05.065Z"
   },
   {
    "duration": 18,
    "start_time": "2023-06-03T09:07:05.091Z"
   },
   {
    "duration": 159,
    "start_time": "2023-06-03T09:07:05.111Z"
   },
   {
    "duration": 11,
    "start_time": "2023-06-03T09:07:05.272Z"
   },
   {
    "duration": 51,
    "start_time": "2023-06-03T09:07:05.285Z"
   },
   {
    "duration": 185,
    "start_time": "2023-06-03T09:07:05.337Z"
   },
   {
    "duration": 18,
    "start_time": "2023-06-03T09:07:05.524Z"
   },
   {
    "duration": 189,
    "start_time": "2023-06-03T09:07:05.544Z"
   },
   {
    "duration": 15,
    "start_time": "2023-06-03T09:07:05.735Z"
   },
   {
    "duration": 12,
    "start_time": "2023-06-03T09:07:05.755Z"
   },
   {
    "duration": 12,
    "start_time": "2023-06-03T09:07:05.769Z"
   },
   {
    "duration": 20,
    "start_time": "2023-06-03T09:07:05.783Z"
   },
   {
    "duration": 44,
    "start_time": "2023-06-03T09:07:05.804Z"
   },
   {
    "duration": 8,
    "start_time": "2023-06-03T09:07:05.850Z"
   },
   {
    "duration": 38,
    "start_time": "2023-06-03T09:07:05.860Z"
   },
   {
    "duration": 42,
    "start_time": "2023-06-03T09:07:05.900Z"
   },
   {
    "duration": 7,
    "start_time": "2023-06-03T09:07:05.944Z"
   },
   {
    "duration": 10,
    "start_time": "2023-06-03T09:07:05.952Z"
   },
   {
    "duration": 28,
    "start_time": "2023-06-03T09:07:05.964Z"
   },
   {
    "duration": 12,
    "start_time": "2023-06-03T09:07:05.994Z"
   },
   {
    "duration": 23,
    "start_time": "2023-06-03T09:07:06.008Z"
   },
   {
    "duration": 199,
    "start_time": "2023-06-03T09:07:06.033Z"
   },
   {
    "duration": 11,
    "start_time": "2023-06-03T09:07:06.234Z"
   },
   {
    "duration": 202,
    "start_time": "2023-06-03T09:07:06.247Z"
   },
   {
    "duration": 9,
    "start_time": "2023-06-03T09:07:06.451Z"
   },
   {
    "duration": 310,
    "start_time": "2023-06-03T09:07:06.462Z"
   },
   {
    "duration": 172,
    "start_time": "2023-06-03T09:07:06.774Z"
   },
   {
    "duration": 9,
    "start_time": "2023-06-03T09:07:06.947Z"
   },
   {
    "duration": 288,
    "start_time": "2023-06-03T09:07:06.958Z"
   },
   {
    "duration": 9,
    "start_time": "2023-06-03T09:07:07.248Z"
   },
   {
    "duration": 316,
    "start_time": "2023-06-03T09:07:07.259Z"
   },
   {
    "duration": 5,
    "start_time": "2023-06-03T09:07:07.577Z"
   },
   {
    "duration": 951,
    "start_time": "2023-06-03T09:07:07.584Z"
   },
   {
    "duration": 10,
    "start_time": "2023-06-03T09:07:08.537Z"
   },
   {
    "duration": 15,
    "start_time": "2023-06-03T09:07:08.549Z"
   },
   {
    "duration": 6,
    "start_time": "2023-06-03T09:07:08.566Z"
   },
   {
    "duration": 358,
    "start_time": "2023-06-03T09:07:08.573Z"
   },
   {
    "duration": 37,
    "start_time": "2023-06-03T09:07:08.933Z"
   },
   {
    "duration": 73,
    "start_time": "2023-06-03T09:07:08.972Z"
   },
   {
    "duration": 314,
    "start_time": "2023-06-03T09:07:09.047Z"
   },
   {
    "duration": 248,
    "start_time": "2023-06-03T09:07:09.364Z"
   },
   {
    "duration": 7,
    "start_time": "2023-06-03T09:07:09.613Z"
   },
   {
    "duration": 150,
    "start_time": "2023-06-03T09:07:09.623Z"
   },
   {
    "duration": 7,
    "start_time": "2023-06-03T09:07:09.775Z"
   },
   {
    "duration": 20,
    "start_time": "2023-06-03T09:07:09.784Z"
   },
   {
    "duration": 1169,
    "start_time": "2023-06-03T09:08:14.944Z"
   },
   {
    "duration": 28,
    "start_time": "2023-06-03T09:08:16.115Z"
   },
   {
    "duration": 29,
    "start_time": "2023-06-03T09:08:16.145Z"
   },
   {
    "duration": 19,
    "start_time": "2023-06-03T09:08:16.177Z"
   },
   {
    "duration": 36,
    "start_time": "2023-06-03T09:08:16.198Z"
   },
   {
    "duration": 50,
    "start_time": "2023-06-03T09:08:16.236Z"
   },
   {
    "duration": 37,
    "start_time": "2023-06-03T09:08:16.288Z"
   },
   {
    "duration": 92,
    "start_time": "2023-06-03T09:08:16.327Z"
   },
   {
    "duration": 111,
    "start_time": "2023-06-03T09:08:16.421Z"
   },
   {
    "duration": 45,
    "start_time": "2023-06-03T09:08:16.535Z"
   },
   {
    "duration": 139,
    "start_time": "2023-06-03T09:08:16.581Z"
   },
   {
    "duration": 108,
    "start_time": "2023-06-03T09:08:16.722Z"
   },
   {
    "duration": 17,
    "start_time": "2023-06-03T09:08:16.832Z"
   },
   {
    "duration": 61,
    "start_time": "2023-06-03T09:08:16.852Z"
   },
   {
    "duration": 90,
    "start_time": "2023-06-03T09:08:16.915Z"
   },
   {
    "duration": 10,
    "start_time": "2023-06-03T09:08:17.007Z"
   },
   {
    "duration": 32,
    "start_time": "2023-06-03T09:08:17.019Z"
   },
   {
    "duration": 126,
    "start_time": "2023-06-03T09:08:17.053Z"
   },
   {
    "duration": 135,
    "start_time": "2023-06-03T09:08:17.182Z"
   },
   {
    "duration": 48,
    "start_time": "2023-06-03T09:08:17.319Z"
   },
   {
    "duration": 45,
    "start_time": "2023-06-03T09:08:17.369Z"
   },
   {
    "duration": 110,
    "start_time": "2023-06-03T09:08:17.416Z"
   },
   {
    "duration": 124,
    "start_time": "2023-06-03T09:08:17.529Z"
   },
   {
    "duration": 35,
    "start_time": "2023-06-03T09:08:17.655Z"
   },
   {
    "duration": 29,
    "start_time": "2023-06-03T09:08:17.692Z"
   },
   {
    "duration": 113,
    "start_time": "2023-06-03T09:08:17.723Z"
   },
   {
    "duration": 37,
    "start_time": "2023-06-03T09:08:17.841Z"
   },
   {
    "duration": 183,
    "start_time": "2023-06-03T09:08:17.883Z"
   },
   {
    "duration": 8,
    "start_time": "2023-06-03T09:08:18.069Z"
   },
   {
    "duration": 102,
    "start_time": "2023-06-03T09:08:18.079Z"
   },
   {
    "duration": 6,
    "start_time": "2023-06-03T09:08:18.183Z"
   },
   {
    "duration": 51,
    "start_time": "2023-06-03T09:08:18.190Z"
   },
   {
    "duration": 58,
    "start_time": "2023-06-03T09:08:18.244Z"
   },
   {
    "duration": 244,
    "start_time": "2023-06-03T09:08:18.304Z"
   },
   {
    "duration": 10,
    "start_time": "2023-06-03T09:08:18.550Z"
   },
   {
    "duration": 70,
    "start_time": "2023-06-03T09:08:18.562Z"
   },
   {
    "duration": 255,
    "start_time": "2023-06-03T09:08:18.634Z"
   },
   {
    "duration": 11,
    "start_time": "2023-06-03T09:08:18.891Z"
   },
   {
    "duration": 234,
    "start_time": "2023-06-03T09:08:18.904Z"
   },
   {
    "duration": 12,
    "start_time": "2023-06-03T09:08:19.140Z"
   },
   {
    "duration": 173,
    "start_time": "2023-06-03T09:08:19.154Z"
   },
   {
    "duration": 168,
    "start_time": "2023-06-03T09:08:19.329Z"
   },
   {
    "duration": 45,
    "start_time": "2023-06-03T09:08:19.500Z"
   },
   {
    "duration": 112,
    "start_time": "2023-06-03T09:08:19.547Z"
   },
   {
    "duration": 142,
    "start_time": "2023-06-03T09:08:19.661Z"
   },
   {
    "duration": 63,
    "start_time": "2023-06-03T09:08:19.805Z"
   },
   {
    "duration": 91,
    "start_time": "2023-06-03T09:08:19.870Z"
   },
   {
    "duration": 9,
    "start_time": "2023-06-03T09:08:19.963Z"
   },
   {
    "duration": 101,
    "start_time": "2023-06-03T09:08:19.974Z"
   },
   {
    "duration": 236,
    "start_time": "2023-06-03T09:08:20.077Z"
   },
   {
    "duration": 57,
    "start_time": "2023-06-03T09:08:20.315Z"
   },
   {
    "duration": 45,
    "start_time": "2023-06-03T09:08:20.374Z"
   },
   {
    "duration": 227,
    "start_time": "2023-06-03T09:08:20.421Z"
   },
   {
    "duration": 9,
    "start_time": "2023-06-03T09:08:20.650Z"
   },
   {
    "duration": 262,
    "start_time": "2023-06-03T09:08:20.661Z"
   },
   {
    "duration": 21,
    "start_time": "2023-06-03T09:08:20.925Z"
   },
   {
    "duration": 360,
    "start_time": "2023-06-03T09:08:20.948Z"
   },
   {
    "duration": 198,
    "start_time": "2023-06-03T09:08:21.311Z"
   },
   {
    "duration": 10,
    "start_time": "2023-06-03T09:08:21.511Z"
   },
   {
    "duration": 353,
    "start_time": "2023-06-03T09:08:21.523Z"
   },
   {
    "duration": 11,
    "start_time": "2023-06-03T09:08:21.878Z"
   },
   {
    "duration": 384,
    "start_time": "2023-06-03T09:08:21.892Z"
   },
   {
    "duration": 5,
    "start_time": "2023-06-03T09:08:22.278Z"
   },
   {
    "duration": 1006,
    "start_time": "2023-06-03T09:08:22.285Z"
   },
   {
    "duration": 11,
    "start_time": "2023-06-03T09:08:23.293Z"
   },
   {
    "duration": 21,
    "start_time": "2023-06-03T09:08:23.306Z"
   },
   {
    "duration": 35,
    "start_time": "2023-06-03T09:08:23.329Z"
   },
   {
    "duration": 342,
    "start_time": "2023-06-03T09:08:23.366Z"
   },
   {
    "duration": 52,
    "start_time": "2023-06-03T09:08:23.710Z"
   },
   {
    "duration": 38,
    "start_time": "2023-06-03T09:08:23.764Z"
   },
   {
    "duration": 292,
    "start_time": "2023-06-03T09:08:23.804Z"
   },
   {
    "duration": 286,
    "start_time": "2023-06-03T09:08:24.098Z"
   },
   {
    "duration": 7,
    "start_time": "2023-06-03T09:08:24.386Z"
   },
   {
    "duration": 159,
    "start_time": "2023-06-03T09:08:24.395Z"
   },
   {
    "duration": 7,
    "start_time": "2023-06-03T09:08:24.556Z"
   },
   {
    "duration": 15,
    "start_time": "2023-06-03T09:08:24.564Z"
   },
   {
    "duration": 1286,
    "start_time": "2023-06-03T09:09:34.273Z"
   },
   {
    "duration": 29,
    "start_time": "2023-06-03T09:09:35.562Z"
   },
   {
    "duration": 304,
    "start_time": "2023-06-03T09:09:35.593Z"
   },
   {
    "duration": 169,
    "start_time": "2023-06-03T09:09:35.901Z"
   },
   {
    "duration": 151,
    "start_time": "2023-06-03T09:09:36.072Z"
   },
   {
    "duration": 130,
    "start_time": "2023-06-03T09:09:36.225Z"
   },
   {
    "duration": 93,
    "start_time": "2023-06-03T09:09:36.357Z"
   },
   {
    "duration": 87,
    "start_time": "2023-06-03T09:09:36.452Z"
   },
   {
    "duration": 213,
    "start_time": "2023-06-03T09:09:36.542Z"
   },
   {
    "duration": 89,
    "start_time": "2023-06-03T09:09:36.758Z"
   },
   {
    "duration": 85,
    "start_time": "2023-06-03T09:09:36.849Z"
   },
   {
    "duration": 63,
    "start_time": "2023-06-03T09:09:36.937Z"
   },
   {
    "duration": 86,
    "start_time": "2023-06-03T09:09:37.003Z"
   },
   {
    "duration": 84,
    "start_time": "2023-06-03T09:09:37.091Z"
   },
   {
    "duration": 90,
    "start_time": "2023-06-03T09:09:37.177Z"
   },
   {
    "duration": 37,
    "start_time": "2023-06-03T09:09:37.269Z"
   },
   {
    "duration": 113,
    "start_time": "2023-06-03T09:09:37.308Z"
   },
   {
    "duration": 180,
    "start_time": "2023-06-03T09:09:37.422Z"
   },
   {
    "duration": 144,
    "start_time": "2023-06-03T09:09:37.604Z"
   },
   {
    "duration": 112,
    "start_time": "2023-06-03T09:09:37.750Z"
   },
   {
    "duration": 114,
    "start_time": "2023-06-03T09:09:37.864Z"
   },
   {
    "duration": 94,
    "start_time": "2023-06-03T09:09:37.980Z"
   },
   {
    "duration": 129,
    "start_time": "2023-06-03T09:09:38.076Z"
   },
   {
    "duration": 94,
    "start_time": "2023-06-03T09:09:38.207Z"
   },
   {
    "duration": 49,
    "start_time": "2023-06-03T09:09:38.307Z"
   },
   {
    "duration": 146,
    "start_time": "2023-06-03T09:09:38.359Z"
   },
   {
    "duration": 119,
    "start_time": "2023-06-03T09:09:38.508Z"
   },
   {
    "duration": 311,
    "start_time": "2023-06-03T09:09:38.635Z"
   },
   {
    "duration": 7,
    "start_time": "2023-06-03T09:09:38.948Z"
   },
   {
    "duration": 174,
    "start_time": "2023-06-03T09:09:38.957Z"
   },
   {
    "duration": 134,
    "start_time": "2023-06-03T09:09:39.133Z"
   },
   {
    "duration": 80,
    "start_time": "2023-06-03T09:09:39.270Z"
   },
   {
    "duration": 100,
    "start_time": "2023-06-03T09:09:39.352Z"
   },
   {
    "duration": 304,
    "start_time": "2023-06-03T09:09:39.454Z"
   },
   {
    "duration": 10,
    "start_time": "2023-06-03T09:09:39.761Z"
   },
   {
    "duration": 115,
    "start_time": "2023-06-03T09:09:39.773Z"
   },
   {
    "duration": 293,
    "start_time": "2023-06-03T09:09:39.890Z"
   },
   {
    "duration": 11,
    "start_time": "2023-06-03T09:09:40.185Z"
   },
   {
    "duration": 321,
    "start_time": "2023-06-03T09:09:40.199Z"
   },
   {
    "duration": 23,
    "start_time": "2023-06-03T09:09:40.522Z"
   },
   {
    "duration": 143,
    "start_time": "2023-06-03T09:09:40.548Z"
   },
   {
    "duration": 106,
    "start_time": "2023-06-03T09:09:40.694Z"
   },
   {
    "duration": 109,
    "start_time": "2023-06-03T09:09:40.802Z"
   },
   {
    "duration": 34,
    "start_time": "2023-06-03T09:09:40.913Z"
   },
   {
    "duration": 34,
    "start_time": "2023-06-03T09:09:40.949Z"
   },
   {
    "duration": 48,
    "start_time": "2023-06-03T09:09:40.985Z"
   },
   {
    "duration": 103,
    "start_time": "2023-06-03T09:09:41.035Z"
   },
   {
    "duration": 77,
    "start_time": "2023-06-03T09:09:41.141Z"
   },
   {
    "duration": 32,
    "start_time": "2023-06-03T09:09:41.220Z"
   },
   {
    "duration": 63,
    "start_time": "2023-06-03T09:09:41.254Z"
   },
   {
    "duration": 56,
    "start_time": "2023-06-03T09:09:41.319Z"
   },
   {
    "duration": 54,
    "start_time": "2023-06-03T09:09:41.377Z"
   },
   {
    "duration": 240,
    "start_time": "2023-06-03T09:09:41.433Z"
   },
   {
    "duration": 12,
    "start_time": "2023-06-03T09:09:41.676Z"
   },
   {
    "duration": 240,
    "start_time": "2023-06-03T09:09:41.689Z"
   },
   {
    "duration": 18,
    "start_time": "2023-06-03T09:09:41.930Z"
   },
   {
    "duration": 351,
    "start_time": "2023-06-03T09:09:41.950Z"
   },
   {
    "duration": 180,
    "start_time": "2023-06-03T09:09:42.304Z"
   },
   {
    "duration": 10,
    "start_time": "2023-06-03T09:09:42.486Z"
   },
   {
    "duration": 513,
    "start_time": "2023-06-03T09:09:42.498Z"
   },
   {
    "duration": 10,
    "start_time": "2023-06-03T09:09:43.013Z"
   },
   {
    "duration": 344,
    "start_time": "2023-06-03T09:09:43.025Z"
   },
   {
    "duration": 4,
    "start_time": "2023-06-03T09:09:43.371Z"
   },
   {
    "duration": 1055,
    "start_time": "2023-06-03T09:09:43.377Z"
   },
   {
    "duration": 14,
    "start_time": "2023-06-03T09:09:44.434Z"
   },
   {
    "duration": 90,
    "start_time": "2023-06-03T09:09:44.450Z"
   },
   {
    "duration": 29,
    "start_time": "2023-06-03T09:09:44.542Z"
   },
   {
    "duration": 499,
    "start_time": "2023-06-03T09:09:44.573Z"
   },
   {
    "duration": 35,
    "start_time": "2023-06-03T09:09:45.074Z"
   },
   {
    "duration": 73,
    "start_time": "2023-06-03T09:09:45.111Z"
   },
   {
    "duration": 300,
    "start_time": "2023-06-03T09:09:45.186Z"
   },
   {
    "duration": 257,
    "start_time": "2023-06-03T09:09:45.488Z"
   },
   {
    "duration": 6,
    "start_time": "2023-06-03T09:09:45.747Z"
   },
   {
    "duration": 209,
    "start_time": "2023-06-03T09:09:45.755Z"
   },
   {
    "duration": 7,
    "start_time": "2023-06-03T09:09:45.966Z"
   },
   {
    "duration": 27,
    "start_time": "2023-06-03T09:09:45.974Z"
   },
   {
    "duration": 6480,
    "start_time": "2023-06-03T09:12:32.362Z"
   },
   {
    "duration": 1233,
    "start_time": "2023-06-03T09:13:27.416Z"
   },
   {
    "duration": 29,
    "start_time": "2023-06-03T09:13:28.651Z"
   },
   {
    "duration": 28,
    "start_time": "2023-06-03T09:13:28.681Z"
   },
   {
    "duration": 15,
    "start_time": "2023-06-03T09:13:28.711Z"
   },
   {
    "duration": 13,
    "start_time": "2023-06-03T09:13:28.728Z"
   },
   {
    "duration": 8,
    "start_time": "2023-06-03T09:13:28.742Z"
   },
   {
    "duration": 26,
    "start_time": "2023-06-03T09:13:28.751Z"
   },
   {
    "duration": 25,
    "start_time": "2023-06-03T09:13:28.778Z"
   },
   {
    "duration": 15,
    "start_time": "2023-06-03T09:13:28.805Z"
   },
   {
    "duration": 29,
    "start_time": "2023-06-03T09:13:28.822Z"
   },
   {
    "duration": 36,
    "start_time": "2023-06-03T09:13:28.853Z"
   },
   {
    "duration": 15,
    "start_time": "2023-06-03T09:13:28.892Z"
   },
   {
    "duration": 6,
    "start_time": "2023-06-03T09:13:28.909Z"
   },
   {
    "duration": 14,
    "start_time": "2023-06-03T09:13:28.919Z"
   },
   {
    "duration": 8,
    "start_time": "2023-06-03T09:13:28.935Z"
   },
   {
    "duration": 6,
    "start_time": "2023-06-03T09:13:28.944Z"
   },
   {
    "duration": 12,
    "start_time": "2023-06-03T09:13:28.951Z"
   },
   {
    "duration": 9,
    "start_time": "2023-06-03T09:13:28.964Z"
   },
   {
    "duration": 19,
    "start_time": "2023-06-03T09:13:28.975Z"
   },
   {
    "duration": 8,
    "start_time": "2023-06-03T09:13:28.995Z"
   },
   {
    "duration": 17,
    "start_time": "2023-06-03T09:13:29.004Z"
   },
   {
    "duration": 5,
    "start_time": "2023-06-03T09:13:29.022Z"
   },
   {
    "duration": 28,
    "start_time": "2023-06-03T09:13:29.028Z"
   },
   {
    "duration": 5,
    "start_time": "2023-06-03T09:13:29.057Z"
   },
   {
    "duration": 16,
    "start_time": "2023-06-03T09:13:29.064Z"
   },
   {
    "duration": 13,
    "start_time": "2023-06-03T09:13:29.081Z"
   },
   {
    "duration": 5,
    "start_time": "2023-06-03T09:13:29.095Z"
   },
   {
    "duration": 194,
    "start_time": "2023-06-03T09:13:29.102Z"
   },
   {
    "duration": 6,
    "start_time": "2023-06-03T09:13:29.297Z"
   },
   {
    "duration": 39,
    "start_time": "2023-06-03T09:13:29.305Z"
   },
   {
    "duration": 52,
    "start_time": "2023-06-03T09:13:29.345Z"
   },
   {
    "duration": 56,
    "start_time": "2023-06-03T09:13:29.399Z"
   },
   {
    "duration": 8,
    "start_time": "2023-06-03T09:13:29.458Z"
   },
   {
    "duration": 170,
    "start_time": "2023-06-03T09:13:29.468Z"
   },
   {
    "duration": 10,
    "start_time": "2023-06-03T09:13:29.642Z"
   },
   {
    "duration": 25,
    "start_time": "2023-06-03T09:13:29.654Z"
   },
   {
    "duration": 179,
    "start_time": "2023-06-03T09:13:29.681Z"
   },
   {
    "duration": 10,
    "start_time": "2023-06-03T09:13:29.862Z"
   },
   {
    "duration": 209,
    "start_time": "2023-06-03T09:13:29.874Z"
   },
   {
    "duration": 12,
    "start_time": "2023-06-03T09:13:30.085Z"
   },
   {
    "duration": 37,
    "start_time": "2023-06-03T09:13:30.102Z"
   },
   {
    "duration": 25,
    "start_time": "2023-06-03T09:13:30.141Z"
   },
   {
    "duration": 31,
    "start_time": "2023-06-03T09:13:30.167Z"
   },
   {
    "duration": 40,
    "start_time": "2023-06-03T09:13:30.200Z"
   },
   {
    "duration": 12,
    "start_time": "2023-06-03T09:13:30.241Z"
   },
   {
    "duration": 37,
    "start_time": "2023-06-03T09:13:30.254Z"
   },
   {
    "duration": 50,
    "start_time": "2023-06-03T09:13:30.292Z"
   },
   {
    "duration": 7,
    "start_time": "2023-06-03T09:13:30.344Z"
   },
   {
    "duration": 21,
    "start_time": "2023-06-03T09:13:30.352Z"
   },
   {
    "duration": 36,
    "start_time": "2023-06-03T09:13:30.374Z"
   },
   {
    "duration": 13,
    "start_time": "2023-06-03T09:13:30.412Z"
   },
   {
    "duration": 58,
    "start_time": "2023-06-03T09:13:30.427Z"
   },
   {
    "duration": 195,
    "start_time": "2023-06-03T09:13:30.487Z"
   },
   {
    "duration": 10,
    "start_time": "2023-06-03T09:13:30.683Z"
   },
   {
    "duration": 215,
    "start_time": "2023-06-03T09:13:30.695Z"
   },
   {
    "duration": 9,
    "start_time": "2023-06-03T09:13:30.912Z"
   },
   {
    "duration": 304,
    "start_time": "2023-06-03T09:13:30.922Z"
   },
   {
    "duration": 169,
    "start_time": "2023-06-03T09:13:31.228Z"
   },
   {
    "duration": 9,
    "start_time": "2023-06-03T09:13:31.399Z"
   },
   {
    "duration": 303,
    "start_time": "2023-06-03T09:13:31.409Z"
   },
   {
    "duration": 10,
    "start_time": "2023-06-03T09:13:31.714Z"
   },
   {
    "duration": 321,
    "start_time": "2023-06-03T09:13:31.726Z"
   },
   {
    "duration": 3,
    "start_time": "2023-06-03T09:13:32.049Z"
   },
   {
    "duration": 849,
    "start_time": "2023-06-03T09:13:32.054Z"
   },
   {
    "duration": 10,
    "start_time": "2023-06-03T09:13:32.904Z"
   },
   {
    "duration": 35,
    "start_time": "2023-06-03T09:13:32.915Z"
   },
   {
    "duration": 21,
    "start_time": "2023-06-03T09:13:32.952Z"
   },
   {
    "duration": 5830,
    "start_time": "2023-06-03T09:13:32.975Z"
   },
   {
    "duration": 37,
    "start_time": "2023-06-03T09:13:38.807Z"
   },
   {
    "duration": 30,
    "start_time": "2023-06-03T09:13:38.846Z"
   },
   {
    "duration": 268,
    "start_time": "2023-06-03T09:13:38.878Z"
   },
   {
    "duration": 243,
    "start_time": "2023-06-03T09:13:39.148Z"
   },
   {
    "duration": 7,
    "start_time": "2023-06-03T09:13:39.393Z"
   },
   {
    "duration": 143,
    "start_time": "2023-06-03T09:13:39.402Z"
   },
   {
    "duration": 6,
    "start_time": "2023-06-03T09:13:39.547Z"
   },
   {
    "duration": 954,
    "start_time": "2023-06-03T09:13:39.555Z"
   },
   {
    "duration": 1192,
    "start_time": "2023-06-03T09:14:11.503Z"
   },
   {
    "duration": 27,
    "start_time": "2023-06-03T09:14:12.697Z"
   },
   {
    "duration": 26,
    "start_time": "2023-06-03T09:14:12.726Z"
   },
   {
    "duration": 14,
    "start_time": "2023-06-03T09:14:12.755Z"
   },
   {
    "duration": 12,
    "start_time": "2023-06-03T09:14:12.771Z"
   },
   {
    "duration": 5,
    "start_time": "2023-06-03T09:14:12.784Z"
   },
   {
    "duration": 12,
    "start_time": "2023-06-03T09:14:12.790Z"
   },
   {
    "duration": 11,
    "start_time": "2023-06-03T09:14:12.803Z"
   },
   {
    "duration": 34,
    "start_time": "2023-06-03T09:14:12.816Z"
   },
   {
    "duration": 7,
    "start_time": "2023-06-03T09:14:12.853Z"
   },
   {
    "duration": 11,
    "start_time": "2023-06-03T09:14:12.861Z"
   },
   {
    "duration": 8,
    "start_time": "2023-06-03T09:14:12.873Z"
   },
   {
    "duration": 5,
    "start_time": "2023-06-03T09:14:12.882Z"
   },
   {
    "duration": 9,
    "start_time": "2023-06-03T09:14:12.888Z"
   },
   {
    "duration": 6,
    "start_time": "2023-06-03T09:14:12.899Z"
   },
   {
    "duration": 35,
    "start_time": "2023-06-03T09:14:12.906Z"
   },
   {
    "duration": 6,
    "start_time": "2023-06-03T09:14:12.944Z"
   },
   {
    "duration": 9,
    "start_time": "2023-06-03T09:14:12.952Z"
   },
   {
    "duration": 8,
    "start_time": "2023-06-03T09:14:12.963Z"
   },
   {
    "duration": 6,
    "start_time": "2023-06-03T09:14:12.973Z"
   },
   {
    "duration": 16,
    "start_time": "2023-06-03T09:14:12.981Z"
   },
   {
    "duration": 4,
    "start_time": "2023-06-03T09:14:12.998Z"
   },
   {
    "duration": 44,
    "start_time": "2023-06-03T09:14:13.004Z"
   },
   {
    "duration": 5,
    "start_time": "2023-06-03T09:14:13.050Z"
   },
   {
    "duration": 14,
    "start_time": "2023-06-03T09:14:13.056Z"
   },
   {
    "duration": 8,
    "start_time": "2023-06-03T09:14:13.072Z"
   },
   {
    "duration": 4,
    "start_time": "2023-06-03T09:14:13.081Z"
   },
   {
    "duration": 174,
    "start_time": "2023-06-03T09:14:13.090Z"
   },
   {
    "duration": 6,
    "start_time": "2023-06-03T09:14:13.267Z"
   },
   {
    "duration": 28,
    "start_time": "2023-06-03T09:14:13.275Z"
   },
   {
    "duration": 5,
    "start_time": "2023-06-03T09:14:13.305Z"
   },
   {
    "duration": 16,
    "start_time": "2023-06-03T09:14:13.311Z"
   },
   {
    "duration": 9,
    "start_time": "2023-06-03T09:14:13.329Z"
   },
   {
    "duration": 147,
    "start_time": "2023-06-03T09:14:13.340Z"
   },
   {
    "duration": 7,
    "start_time": "2023-06-03T09:14:13.489Z"
   },
   {
    "duration": 26,
    "start_time": "2023-06-03T09:14:13.497Z"
   },
   {
    "duration": 164,
    "start_time": "2023-06-03T09:14:13.525Z"
   },
   {
    "duration": 9,
    "start_time": "2023-06-03T09:14:13.691Z"
   },
   {
    "duration": 200,
    "start_time": "2023-06-03T09:14:13.701Z"
   },
   {
    "duration": 11,
    "start_time": "2023-06-03T09:14:13.902Z"
   },
   {
    "duration": 11,
    "start_time": "2023-06-03T09:14:13.914Z"
   },
   {
    "duration": 11,
    "start_time": "2023-06-03T09:14:13.941Z"
   },
   {
    "duration": 19,
    "start_time": "2023-06-03T09:14:13.954Z"
   },
   {
    "duration": 8,
    "start_time": "2023-06-03T09:14:13.975Z"
   },
   {
    "duration": 4,
    "start_time": "2023-06-03T09:14:13.985Z"
   },
   {
    "duration": 19,
    "start_time": "2023-06-03T09:14:13.991Z"
   },
   {
    "duration": 35,
    "start_time": "2023-06-03T09:14:14.043Z"
   },
   {
    "duration": 9,
    "start_time": "2023-06-03T09:14:14.079Z"
   },
   {
    "duration": 15,
    "start_time": "2023-06-03T09:14:14.089Z"
   },
   {
    "duration": 42,
    "start_time": "2023-06-03T09:14:14.106Z"
   },
   {
    "duration": 13,
    "start_time": "2023-06-03T09:14:14.149Z"
   },
   {
    "duration": 37,
    "start_time": "2023-06-03T09:14:14.163Z"
   },
   {
    "duration": 177,
    "start_time": "2023-06-03T09:14:14.202Z"
   },
   {
    "duration": 9,
    "start_time": "2023-06-03T09:14:14.380Z"
   },
   {
    "duration": 193,
    "start_time": "2023-06-03T09:14:14.391Z"
   },
   {
    "duration": 9,
    "start_time": "2023-06-03T09:14:14.586Z"
   },
   {
    "duration": 295,
    "start_time": "2023-06-03T09:14:14.597Z"
   },
   {
    "duration": 165,
    "start_time": "2023-06-03T09:14:14.893Z"
   },
   {
    "duration": 9,
    "start_time": "2023-06-03T09:14:15.059Z"
   },
   {
    "duration": 276,
    "start_time": "2023-06-03T09:14:15.069Z"
   },
   {
    "duration": 10,
    "start_time": "2023-06-03T09:14:15.346Z"
   },
   {
    "duration": 337,
    "start_time": "2023-06-03T09:14:15.357Z"
   },
   {
    "duration": 3,
    "start_time": "2023-06-03T09:14:15.696Z"
   },
   {
    "duration": 812,
    "start_time": "2023-06-03T09:14:15.701Z"
   },
   {
    "duration": 9,
    "start_time": "2023-06-03T09:14:16.515Z"
   },
   {
    "duration": 28,
    "start_time": "2023-06-03T09:14:16.526Z"
   },
   {
    "duration": 8,
    "start_time": "2023-06-03T09:14:16.556Z"
   },
   {
    "duration": 6048,
    "start_time": "2023-06-03T09:14:16.565Z"
   },
   {
    "duration": 38,
    "start_time": "2023-06-03T09:14:22.615Z"
   },
   {
    "duration": 34,
    "start_time": "2023-06-03T09:14:22.655Z"
   },
   {
    "duration": 271,
    "start_time": "2023-06-03T09:14:22.691Z"
   },
   {
    "duration": 224,
    "start_time": "2023-06-03T09:14:22.964Z"
   },
   {
    "duration": 6,
    "start_time": "2023-06-03T09:14:23.190Z"
   },
   {
    "duration": 125,
    "start_time": "2023-06-03T09:14:23.198Z"
   },
   {
    "duration": 17,
    "start_time": "2023-06-03T09:14:23.325Z"
   },
   {
    "duration": 957,
    "start_time": "2023-06-03T09:14:23.344Z"
   },
   {
    "duration": 106,
    "start_time": "2023-06-03T09:14:53.681Z"
   },
   {
    "duration": 105,
    "start_time": "2023-06-03T09:15:00.989Z"
   },
   {
    "duration": 321,
    "start_time": "2023-06-03T09:15:11.555Z"
   },
   {
    "duration": 5624,
    "start_time": "2023-06-03T09:16:17.495Z"
   },
   {
    "duration": 5798,
    "start_time": "2023-06-03T09:16:30.571Z"
   },
   {
    "duration": 1234,
    "start_time": "2023-06-03T09:17:00.052Z"
   },
   {
    "duration": 76,
    "start_time": "2023-06-03T09:17:01.288Z"
   },
   {
    "duration": 68,
    "start_time": "2023-06-03T09:17:01.366Z"
   },
   {
    "duration": 54,
    "start_time": "2023-06-03T09:17:01.437Z"
   },
   {
    "duration": 14,
    "start_time": "2023-06-03T09:17:01.493Z"
   },
   {
    "duration": 33,
    "start_time": "2023-06-03T09:17:01.509Z"
   },
   {
    "duration": 39,
    "start_time": "2023-06-03T09:17:01.544Z"
   },
   {
    "duration": 85,
    "start_time": "2023-06-03T09:17:01.585Z"
   },
   {
    "duration": 52,
    "start_time": "2023-06-03T09:17:01.672Z"
   },
   {
    "duration": 27,
    "start_time": "2023-06-03T09:17:01.727Z"
   },
   {
    "duration": 29,
    "start_time": "2023-06-03T09:17:01.755Z"
   },
   {
    "duration": 38,
    "start_time": "2023-06-03T09:17:01.785Z"
   },
   {
    "duration": 37,
    "start_time": "2023-06-03T09:17:01.825Z"
   },
   {
    "duration": 62,
    "start_time": "2023-06-03T09:17:01.865Z"
   },
   {
    "duration": 24,
    "start_time": "2023-06-03T09:17:01.929Z"
   },
   {
    "duration": 35,
    "start_time": "2023-06-03T09:17:01.955Z"
   },
   {
    "duration": 14,
    "start_time": "2023-06-03T09:17:01.992Z"
   },
   {
    "duration": 21,
    "start_time": "2023-06-03T09:17:02.008Z"
   },
   {
    "duration": 8,
    "start_time": "2023-06-03T09:17:02.032Z"
   },
   {
    "duration": 17,
    "start_time": "2023-06-03T09:17:02.042Z"
   },
   {
    "duration": 36,
    "start_time": "2023-06-03T09:17:02.061Z"
   },
   {
    "duration": 32,
    "start_time": "2023-06-03T09:17:02.100Z"
   },
   {
    "duration": 24,
    "start_time": "2023-06-03T09:17:02.134Z"
   },
   {
    "duration": 7,
    "start_time": "2023-06-03T09:17:02.160Z"
   },
   {
    "duration": 25,
    "start_time": "2023-06-03T09:17:02.169Z"
   },
   {
    "duration": 40,
    "start_time": "2023-06-03T09:17:02.196Z"
   },
   {
    "duration": 29,
    "start_time": "2023-06-03T09:17:02.238Z"
   },
   {
    "duration": 163,
    "start_time": "2023-06-03T09:17:02.271Z"
   },
   {
    "duration": 8,
    "start_time": "2023-06-03T09:17:02.435Z"
   },
   {
    "duration": 22,
    "start_time": "2023-06-03T09:17:02.445Z"
   },
   {
    "duration": 6,
    "start_time": "2023-06-03T09:17:02.469Z"
   },
   {
    "duration": 16,
    "start_time": "2023-06-03T09:17:02.477Z"
   },
   {
    "duration": 12,
    "start_time": "2023-06-03T09:17:02.495Z"
   },
   {
    "duration": 201,
    "start_time": "2023-06-03T09:17:02.509Z"
   },
   {
    "duration": 9,
    "start_time": "2023-06-03T09:17:02.712Z"
   },
   {
    "duration": 25,
    "start_time": "2023-06-03T09:17:02.723Z"
   },
   {
    "duration": 196,
    "start_time": "2023-06-03T09:17:02.751Z"
   },
   {
    "duration": 11,
    "start_time": "2023-06-03T09:17:02.949Z"
   },
   {
    "duration": 201,
    "start_time": "2023-06-03T09:17:02.962Z"
   },
   {
    "duration": 11,
    "start_time": "2023-06-03T09:17:03.165Z"
   },
   {
    "duration": 17,
    "start_time": "2023-06-03T09:17:03.178Z"
   },
   {
    "duration": 24,
    "start_time": "2023-06-03T09:17:03.197Z"
   },
   {
    "duration": 32,
    "start_time": "2023-06-03T09:17:03.223Z"
   },
   {
    "duration": 9,
    "start_time": "2023-06-03T09:17:03.258Z"
   },
   {
    "duration": 22,
    "start_time": "2023-06-03T09:17:03.268Z"
   },
   {
    "duration": 32,
    "start_time": "2023-06-03T09:17:03.291Z"
   },
   {
    "duration": 36,
    "start_time": "2023-06-03T09:17:03.326Z"
   },
   {
    "duration": 8,
    "start_time": "2023-06-03T09:17:03.363Z"
   },
   {
    "duration": 20,
    "start_time": "2023-06-03T09:17:03.372Z"
   },
   {
    "duration": 36,
    "start_time": "2023-06-03T09:17:03.394Z"
   },
   {
    "duration": 19,
    "start_time": "2023-06-03T09:17:03.432Z"
   },
   {
    "duration": 81,
    "start_time": "2023-06-03T09:17:03.453Z"
   },
   {
    "duration": 227,
    "start_time": "2023-06-03T09:17:03.536Z"
   },
   {
    "duration": 9,
    "start_time": "2023-06-03T09:17:03.765Z"
   },
   {
    "duration": 211,
    "start_time": "2023-06-03T09:17:03.776Z"
   },
   {
    "duration": 10,
    "start_time": "2023-06-03T09:17:03.989Z"
   },
   {
    "duration": 367,
    "start_time": "2023-06-03T09:17:04.001Z"
   },
   {
    "duration": 168,
    "start_time": "2023-06-03T09:17:04.370Z"
   },
   {
    "duration": 8,
    "start_time": "2023-06-03T09:17:04.542Z"
   },
   {
    "duration": 327,
    "start_time": "2023-06-03T09:17:04.552Z"
   },
   {
    "duration": 9,
    "start_time": "2023-06-03T09:17:04.881Z"
   },
   {
    "duration": 312,
    "start_time": "2023-06-03T09:17:04.892Z"
   },
   {
    "duration": 4,
    "start_time": "2023-06-03T09:17:05.206Z"
   },
   {
    "duration": 866,
    "start_time": "2023-06-03T09:17:05.213Z"
   },
   {
    "duration": 11,
    "start_time": "2023-06-03T09:17:06.081Z"
   },
   {
    "duration": 15,
    "start_time": "2023-06-03T09:17:06.094Z"
   },
   {
    "duration": 9,
    "start_time": "2023-06-03T09:17:06.111Z"
   },
   {
    "duration": 6277,
    "start_time": "2023-06-03T09:17:06.122Z"
   },
   {
    "duration": 46,
    "start_time": "2023-06-03T09:17:12.401Z"
   },
   {
    "duration": 37,
    "start_time": "2023-06-03T09:17:12.449Z"
   },
   {
    "duration": 298,
    "start_time": "2023-06-03T09:17:12.488Z"
   },
   {
    "duration": 257,
    "start_time": "2023-06-03T09:17:12.788Z"
   },
   {
    "duration": 7,
    "start_time": "2023-06-03T09:17:13.047Z"
   },
   {
    "duration": 144,
    "start_time": "2023-06-03T09:17:13.056Z"
   },
   {
    "duration": 7,
    "start_time": "2023-06-03T09:17:13.201Z"
   },
   {
    "duration": 1027,
    "start_time": "2023-06-03T09:17:13.210Z"
   },
   {
    "duration": 2750,
    "start_time": "2023-06-03T09:18:28.222Z"
   },
   {
    "duration": 109,
    "start_time": "2023-06-03T09:18:57.084Z"
   },
   {
    "duration": 6071,
    "start_time": "2023-06-03T09:19:45.906Z"
   },
   {
    "duration": 1181,
    "start_time": "2023-06-03T09:20:05.644Z"
   },
   {
    "duration": 31,
    "start_time": "2023-06-03T09:20:06.828Z"
   },
   {
    "duration": 28,
    "start_time": "2023-06-03T09:20:06.863Z"
   },
   {
    "duration": 16,
    "start_time": "2023-06-03T09:20:06.893Z"
   },
   {
    "duration": 13,
    "start_time": "2023-06-03T09:20:06.912Z"
   },
   {
    "duration": 11,
    "start_time": "2023-06-03T09:20:06.926Z"
   },
   {
    "duration": 19,
    "start_time": "2023-06-03T09:20:06.939Z"
   },
   {
    "duration": 34,
    "start_time": "2023-06-03T09:20:06.959Z"
   },
   {
    "duration": 21,
    "start_time": "2023-06-03T09:20:06.995Z"
   },
   {
    "duration": 13,
    "start_time": "2023-06-03T09:20:07.017Z"
   },
   {
    "duration": 14,
    "start_time": "2023-06-03T09:20:07.032Z"
   },
   {
    "duration": 33,
    "start_time": "2023-06-03T09:20:07.048Z"
   },
   {
    "duration": 10,
    "start_time": "2023-06-03T09:20:07.083Z"
   },
   {
    "duration": 18,
    "start_time": "2023-06-03T09:20:07.095Z"
   },
   {
    "duration": 18,
    "start_time": "2023-06-03T09:20:07.115Z"
   },
   {
    "duration": 38,
    "start_time": "2023-06-03T09:20:07.135Z"
   },
   {
    "duration": 12,
    "start_time": "2023-06-03T09:20:07.176Z"
   },
   {
    "duration": 9,
    "start_time": "2023-06-03T09:20:07.189Z"
   },
   {
    "duration": 28,
    "start_time": "2023-06-03T09:20:07.200Z"
   },
   {
    "duration": 9,
    "start_time": "2023-06-03T09:20:07.229Z"
   },
   {
    "duration": 37,
    "start_time": "2023-06-03T09:20:07.240Z"
   },
   {
    "duration": 16,
    "start_time": "2023-06-03T09:20:07.278Z"
   },
   {
    "duration": 14,
    "start_time": "2023-06-03T09:20:07.296Z"
   },
   {
    "duration": 6,
    "start_time": "2023-06-03T09:20:07.312Z"
   },
   {
    "duration": 19,
    "start_time": "2023-06-03T09:20:07.319Z"
   },
   {
    "duration": 9,
    "start_time": "2023-06-03T09:20:07.340Z"
   },
   {
    "duration": 22,
    "start_time": "2023-06-03T09:20:07.350Z"
   },
   {
    "duration": 155,
    "start_time": "2023-06-03T09:20:07.373Z"
   },
   {
    "duration": 13,
    "start_time": "2023-06-03T09:20:07.530Z"
   },
   {
    "duration": 16,
    "start_time": "2023-06-03T09:20:07.544Z"
   },
   {
    "duration": 15,
    "start_time": "2023-06-03T09:20:07.561Z"
   },
   {
    "duration": 26,
    "start_time": "2023-06-03T09:20:07.578Z"
   },
   {
    "duration": 34,
    "start_time": "2023-06-03T09:20:07.606Z"
   },
   {
    "duration": 175,
    "start_time": "2023-06-03T09:20:07.641Z"
   },
   {
    "duration": 12,
    "start_time": "2023-06-03T09:20:07.819Z"
   },
   {
    "duration": 12,
    "start_time": "2023-06-03T09:20:07.843Z"
   },
   {
    "duration": 226,
    "start_time": "2023-06-03T09:20:07.857Z"
   },
   {
    "duration": 13,
    "start_time": "2023-06-03T09:20:08.085Z"
   },
   {
    "duration": 246,
    "start_time": "2023-06-03T09:20:08.099Z"
   },
   {
    "duration": 13,
    "start_time": "2023-06-03T09:20:08.347Z"
   },
   {
    "duration": 20,
    "start_time": "2023-06-03T09:20:08.362Z"
   },
   {
    "duration": 18,
    "start_time": "2023-06-03T09:20:08.384Z"
   },
   {
    "duration": 49,
    "start_time": "2023-06-03T09:20:08.404Z"
   },
   {
    "duration": 25,
    "start_time": "2023-06-03T09:20:08.455Z"
   },
   {
    "duration": 21,
    "start_time": "2023-06-03T09:20:08.482Z"
   },
   {
    "duration": 31,
    "start_time": "2023-06-03T09:20:08.505Z"
   },
   {
    "duration": 62,
    "start_time": "2023-06-03T09:20:08.538Z"
   },
   {
    "duration": 9,
    "start_time": "2023-06-03T09:20:08.601Z"
   },
   {
    "duration": 19,
    "start_time": "2023-06-03T09:20:08.612Z"
   },
   {
    "duration": 33,
    "start_time": "2023-06-03T09:20:08.633Z"
   },
   {
    "duration": 27,
    "start_time": "2023-06-03T09:20:08.668Z"
   },
   {
    "duration": 34,
    "start_time": "2023-06-03T09:20:08.697Z"
   },
   {
    "duration": 181,
    "start_time": "2023-06-03T09:20:08.735Z"
   },
   {
    "duration": 9,
    "start_time": "2023-06-03T09:20:08.918Z"
   },
   {
    "duration": 190,
    "start_time": "2023-06-03T09:20:08.942Z"
   },
   {
    "duration": 19,
    "start_time": "2023-06-03T09:20:09.134Z"
   },
   {
    "duration": 347,
    "start_time": "2023-06-03T09:20:09.155Z"
   },
   {
    "duration": 177,
    "start_time": "2023-06-03T09:20:09.504Z"
   },
   {
    "duration": 10,
    "start_time": "2023-06-03T09:20:09.683Z"
   },
   {
    "duration": 300,
    "start_time": "2023-06-03T09:20:09.694Z"
   },
   {
    "duration": 9,
    "start_time": "2023-06-03T09:20:09.996Z"
   },
   {
    "duration": 356,
    "start_time": "2023-06-03T09:20:10.007Z"
   },
   {
    "duration": 4,
    "start_time": "2023-06-03T09:20:10.365Z"
   },
   {
    "duration": 801,
    "start_time": "2023-06-03T09:20:10.371Z"
   },
   {
    "duration": 11,
    "start_time": "2023-06-03T09:20:11.174Z"
   },
   {
    "duration": 34,
    "start_time": "2023-06-03T09:20:11.187Z"
   },
   {
    "duration": 14,
    "start_time": "2023-06-03T09:20:11.224Z"
   },
   {
    "duration": 5250,
    "start_time": "2023-06-03T09:20:11.241Z"
   },
   {
    "duration": 32,
    "start_time": "2023-06-03T09:20:16.494Z"
   },
   {
    "duration": 46,
    "start_time": "2023-06-03T09:20:16.529Z"
   },
   {
    "duration": 304,
    "start_time": "2023-06-03T09:20:16.577Z"
   },
   {
    "duration": 239,
    "start_time": "2023-06-03T09:20:16.883Z"
   },
   {
    "duration": 6,
    "start_time": "2023-06-03T09:20:17.124Z"
   },
   {
    "duration": 135,
    "start_time": "2023-06-03T09:20:17.143Z"
   },
   {
    "duration": 6,
    "start_time": "2023-06-03T09:20:17.280Z"
   },
   {
    "duration": 1020,
    "start_time": "2023-06-03T09:20:17.288Z"
   },
   {
    "duration": 334,
    "start_time": "2023-06-03T09:21:22.268Z"
   },
   {
    "duration": 109,
    "start_time": "2023-06-03T09:24:09.850Z"
   },
   {
    "duration": 20662,
    "start_time": "2023-06-03T09:24:32.505Z"
   },
   {
    "duration": 13216,
    "start_time": "2023-06-03T09:25:28.305Z"
   },
   {
    "duration": 14452,
    "start_time": "2023-06-03T09:25:54.651Z"
   },
   {
    "duration": 23397,
    "start_time": "2023-06-03T09:27:03.618Z"
   },
   {
    "duration": 17,
    "start_time": "2023-06-03T09:27:48.258Z"
   },
   {
    "duration": 11,
    "start_time": "2023-06-03T09:27:50.651Z"
   },
   {
    "duration": 1247,
    "start_time": "2023-06-03T09:28:00.011Z"
   },
   {
    "duration": 30,
    "start_time": "2023-06-03T09:28:01.260Z"
   },
   {
    "duration": 644,
    "start_time": "2023-06-03T09:28:01.292Z"
   },
   {
    "duration": 334,
    "start_time": "2023-06-03T09:28:01.938Z"
   },
   {
    "duration": 289,
    "start_time": "2023-06-03T09:28:02.273Z"
   },
   {
    "duration": 226,
    "start_time": "2023-06-03T09:28:02.564Z"
   },
   {
    "duration": 137,
    "start_time": "2023-06-03T09:28:02.791Z"
   },
   {
    "duration": 107,
    "start_time": "2023-06-03T09:28:02.930Z"
   },
   {
    "duration": 84,
    "start_time": "2023-06-03T09:28:03.038Z"
   },
   {
    "duration": 77,
    "start_time": "2023-06-03T09:28:03.125Z"
   },
   {
    "duration": 74,
    "start_time": "2023-06-03T09:28:03.204Z"
   },
   {
    "duration": 63,
    "start_time": "2023-06-03T09:28:03.279Z"
   },
   {
    "duration": 74,
    "start_time": "2023-06-03T09:28:03.344Z"
   },
   {
    "duration": 60,
    "start_time": "2023-06-03T09:28:03.420Z"
   },
   {
    "duration": 135,
    "start_time": "2023-06-03T09:28:03.482Z"
   },
   {
    "duration": 50,
    "start_time": "2023-06-03T09:28:03.620Z"
   },
   {
    "duration": 96,
    "start_time": "2023-06-03T09:28:03.672Z"
   },
   {
    "duration": 67,
    "start_time": "2023-06-03T09:28:03.770Z"
   },
   {
    "duration": 98,
    "start_time": "2023-06-03T09:28:03.839Z"
   },
   {
    "duration": 96,
    "start_time": "2023-06-03T09:28:03.939Z"
   },
   {
    "duration": 92,
    "start_time": "2023-06-03T09:28:04.037Z"
   },
   {
    "duration": 81,
    "start_time": "2023-06-03T09:28:04.132Z"
   },
   {
    "duration": 98,
    "start_time": "2023-06-03T09:28:04.215Z"
   },
   {
    "duration": 79,
    "start_time": "2023-06-03T09:28:04.316Z"
   },
   {
    "duration": 67,
    "start_time": "2023-06-03T09:28:04.397Z"
   },
   {
    "duration": 56,
    "start_time": "2023-06-03T09:28:04.466Z"
   },
   {
    "duration": 71,
    "start_time": "2023-06-03T09:28:04.524Z"
   },
   {
    "duration": 182,
    "start_time": "2023-06-03T09:28:04.601Z"
   },
   {
    "duration": 7,
    "start_time": "2023-06-03T09:28:04.785Z"
   },
   {
    "duration": 186,
    "start_time": "2023-06-03T09:28:04.794Z"
   },
   {
    "duration": 79,
    "start_time": "2023-06-03T09:28:04.982Z"
   },
   {
    "duration": 328,
    "start_time": "2023-06-03T09:28:05.063Z"
   },
   {
    "duration": 53,
    "start_time": "2023-06-03T09:28:05.393Z"
   },
   {
    "duration": 228,
    "start_time": "2023-06-03T09:28:05.448Z"
   },
   {
    "duration": 10,
    "start_time": "2023-06-03T09:28:05.678Z"
   },
   {
    "duration": 31,
    "start_time": "2023-06-03T09:28:05.690Z"
   },
   {
    "duration": 218,
    "start_time": "2023-06-03T09:28:05.723Z"
   },
   {
    "duration": 11,
    "start_time": "2023-06-03T09:28:05.944Z"
   },
   {
    "duration": 222,
    "start_time": "2023-06-03T09:28:05.957Z"
   },
   {
    "duration": 12,
    "start_time": "2023-06-03T09:28:06.181Z"
   },
   {
    "duration": 71,
    "start_time": "2023-06-03T09:28:06.195Z"
   },
   {
    "duration": 35,
    "start_time": "2023-06-03T09:28:06.267Z"
   },
   {
    "duration": 55,
    "start_time": "2023-06-03T09:28:06.305Z"
   },
   {
    "duration": 73,
    "start_time": "2023-06-03T09:28:06.362Z"
   },
   {
    "duration": 88,
    "start_time": "2023-06-03T09:28:06.437Z"
   },
   {
    "duration": 99,
    "start_time": "2023-06-03T09:28:06.528Z"
   },
   {
    "duration": 65,
    "start_time": "2023-06-03T09:28:06.629Z"
   },
   {
    "duration": 240,
    "start_time": "2023-06-03T09:28:06.697Z"
   },
   {
    "duration": 77,
    "start_time": "2023-06-03T09:28:06.939Z"
   },
   {
    "duration": 46,
    "start_time": "2023-06-03T09:28:07.018Z"
   },
   {
    "duration": 84,
    "start_time": "2023-06-03T09:28:07.066Z"
   },
   {
    "duration": 79,
    "start_time": "2023-06-03T09:28:07.152Z"
   },
   {
    "duration": 253,
    "start_time": "2023-06-03T09:28:07.233Z"
   },
   {
    "duration": 9,
    "start_time": "2023-06-03T09:28:07.489Z"
   },
   {
    "duration": 240,
    "start_time": "2023-06-03T09:28:07.500Z"
   },
   {
    "duration": 9,
    "start_time": "2023-06-03T09:28:07.742Z"
   },
   {
    "duration": 380,
    "start_time": "2023-06-03T09:28:07.753Z"
   },
   {
    "duration": 219,
    "start_time": "2023-06-03T09:28:08.135Z"
   },
   {
    "duration": 13,
    "start_time": "2023-06-03T09:28:08.357Z"
   },
   {
    "duration": 364,
    "start_time": "2023-06-03T09:28:08.373Z"
   },
   {
    "duration": 12,
    "start_time": "2023-06-03T09:28:08.738Z"
   },
   {
    "duration": 323,
    "start_time": "2023-06-03T09:28:08.752Z"
   },
   {
    "duration": 5,
    "start_time": "2023-06-03T09:28:09.076Z"
   },
   {
    "duration": 1102,
    "start_time": "2023-06-03T09:28:09.083Z"
   },
   {
    "duration": 11,
    "start_time": "2023-06-03T09:28:10.187Z"
   },
   {
    "duration": 63,
    "start_time": "2023-06-03T09:28:10.200Z"
   },
   {
    "duration": 69,
    "start_time": "2023-06-03T09:28:10.265Z"
   },
   {
    "duration": 26985,
    "start_time": "2023-06-03T09:28:10.336Z"
   },
   {
    "duration": 1,
    "start_time": "2023-06-03T09:28:37.323Z"
   },
   {
    "duration": 0,
    "start_time": "2023-06-03T09:28:37.326Z"
   },
   {
    "duration": 0,
    "start_time": "2023-06-03T09:28:37.327Z"
   },
   {
    "duration": 0,
    "start_time": "2023-06-03T09:28:37.328Z"
   },
   {
    "duration": 0,
    "start_time": "2023-06-03T09:28:37.330Z"
   },
   {
    "duration": 0,
    "start_time": "2023-06-03T09:28:37.331Z"
   },
   {
    "duration": 0,
    "start_time": "2023-06-03T09:28:37.332Z"
   },
   {
    "duration": 0,
    "start_time": "2023-06-03T09:28:37.333Z"
   },
   {
    "duration": 0,
    "start_time": "2023-06-03T09:28:37.334Z"
   },
   {
    "duration": 0,
    "start_time": "2023-06-03T09:28:37.335Z"
   },
   {
    "duration": 342,
    "start_time": "2023-06-03T09:29:43.240Z"
   },
   {
    "duration": 11,
    "start_time": "2023-06-03T09:29:45.354Z"
   },
   {
    "duration": 11,
    "start_time": "2023-06-03T09:29:46.223Z"
   },
   {
    "duration": 1132,
    "start_time": "2023-06-03T09:45:03.286Z"
   },
   {
    "duration": 29,
    "start_time": "2023-06-03T09:45:04.420Z"
   },
   {
    "duration": 29,
    "start_time": "2023-06-03T09:45:04.451Z"
   },
   {
    "duration": 16,
    "start_time": "2023-06-03T09:45:04.482Z"
   },
   {
    "duration": 13,
    "start_time": "2023-06-03T09:45:04.499Z"
   },
   {
    "duration": 4,
    "start_time": "2023-06-03T09:45:04.514Z"
   },
   {
    "duration": 21,
    "start_time": "2023-06-03T09:45:04.519Z"
   },
   {
    "duration": 10,
    "start_time": "2023-06-03T09:45:04.542Z"
   },
   {
    "duration": 20,
    "start_time": "2023-06-03T09:45:04.553Z"
   },
   {
    "duration": 10,
    "start_time": "2023-06-03T09:45:04.576Z"
   },
   {
    "duration": 15,
    "start_time": "2023-06-03T09:45:04.588Z"
   },
   {
    "duration": 16,
    "start_time": "2023-06-03T09:45:04.605Z"
   },
   {
    "duration": 11,
    "start_time": "2023-06-03T09:45:04.623Z"
   },
   {
    "duration": 16,
    "start_time": "2023-06-03T09:45:04.636Z"
   },
   {
    "duration": 18,
    "start_time": "2023-06-03T09:45:04.653Z"
   },
   {
    "duration": 10,
    "start_time": "2023-06-03T09:45:04.672Z"
   },
   {
    "duration": 11,
    "start_time": "2023-06-03T09:45:04.684Z"
   },
   {
    "duration": 12,
    "start_time": "2023-06-03T09:45:04.696Z"
   },
   {
    "duration": 5,
    "start_time": "2023-06-03T09:45:04.710Z"
   },
   {
    "duration": 9,
    "start_time": "2023-06-03T09:45:04.716Z"
   },
   {
    "duration": 16,
    "start_time": "2023-06-03T09:45:04.726Z"
   },
   {
    "duration": 4,
    "start_time": "2023-06-03T09:45:04.744Z"
   },
   {
    "duration": 15,
    "start_time": "2023-06-03T09:45:04.749Z"
   },
   {
    "duration": 7,
    "start_time": "2023-06-03T09:45:04.765Z"
   },
   {
    "duration": 16,
    "start_time": "2023-06-03T09:45:04.774Z"
   },
   {
    "duration": 8,
    "start_time": "2023-06-03T09:45:04.792Z"
   },
   {
    "duration": 4,
    "start_time": "2023-06-03T09:45:04.801Z"
   },
   {
    "duration": 172,
    "start_time": "2023-06-03T09:45:04.809Z"
   },
   {
    "duration": 6,
    "start_time": "2023-06-03T09:45:04.983Z"
   },
   {
    "duration": 9,
    "start_time": "2023-06-03T09:45:04.991Z"
   },
   {
    "duration": 11,
    "start_time": "2023-06-03T09:45:05.001Z"
   },
   {
    "duration": 15,
    "start_time": "2023-06-03T09:45:05.014Z"
   },
   {
    "duration": 13,
    "start_time": "2023-06-03T09:45:05.031Z"
   },
   {
    "duration": 167,
    "start_time": "2023-06-03T09:45:05.045Z"
   },
   {
    "duration": 8,
    "start_time": "2023-06-03T09:45:05.214Z"
   },
   {
    "duration": 21,
    "start_time": "2023-06-03T09:45:05.224Z"
   },
   {
    "duration": 178,
    "start_time": "2023-06-03T09:45:05.247Z"
   },
   {
    "duration": 16,
    "start_time": "2023-06-03T09:45:05.427Z"
   },
   {
    "duration": 230,
    "start_time": "2023-06-03T09:45:05.445Z"
   },
   {
    "duration": 12,
    "start_time": "2023-06-03T09:45:05.677Z"
   },
   {
    "duration": 14,
    "start_time": "2023-06-03T09:45:05.691Z"
   },
   {
    "duration": 35,
    "start_time": "2023-06-03T09:45:05.707Z"
   },
   {
    "duration": 23,
    "start_time": "2023-06-03T09:45:05.744Z"
   },
   {
    "duration": 13,
    "start_time": "2023-06-03T09:45:05.770Z"
   },
   {
    "duration": 12,
    "start_time": "2023-06-03T09:45:05.785Z"
   },
   {
    "duration": 46,
    "start_time": "2023-06-03T09:45:05.799Z"
   },
   {
    "duration": 39,
    "start_time": "2023-06-03T09:45:05.848Z"
   },
   {
    "duration": 9,
    "start_time": "2023-06-03T09:45:05.889Z"
   },
   {
    "duration": 7,
    "start_time": "2023-06-03T09:45:05.899Z"
   },
   {
    "duration": 53,
    "start_time": "2023-06-03T09:45:05.907Z"
   },
   {
    "duration": 14,
    "start_time": "2023-06-03T09:45:05.961Z"
   },
   {
    "duration": 25,
    "start_time": "2023-06-03T09:45:05.977Z"
   },
   {
    "duration": 198,
    "start_time": "2023-06-03T09:45:06.004Z"
   },
   {
    "duration": 10,
    "start_time": "2023-06-03T09:45:06.204Z"
   },
   {
    "duration": 196,
    "start_time": "2023-06-03T09:45:06.216Z"
   },
   {
    "duration": 9,
    "start_time": "2023-06-03T09:45:06.414Z"
   },
   {
    "duration": 337,
    "start_time": "2023-06-03T09:45:06.425Z"
   },
   {
    "duration": 168,
    "start_time": "2023-06-03T09:45:06.765Z"
   },
   {
    "duration": 13,
    "start_time": "2023-06-03T09:45:06.936Z"
   },
   {
    "duration": 288,
    "start_time": "2023-06-03T09:45:06.951Z"
   },
   {
    "duration": 10,
    "start_time": "2023-06-03T09:45:07.241Z"
   },
   {
    "duration": 320,
    "start_time": "2023-06-03T09:45:07.253Z"
   },
   {
    "duration": 4,
    "start_time": "2023-06-03T09:45:07.574Z"
   },
   {
    "duration": 958,
    "start_time": "2023-06-03T09:45:07.580Z"
   },
   {
    "duration": 10,
    "start_time": "2023-06-03T09:45:08.539Z"
   },
   {
    "duration": 29,
    "start_time": "2023-06-03T09:45:08.550Z"
   },
   {
    "duration": 6,
    "start_time": "2023-06-03T09:45:08.581Z"
   },
   {
    "duration": 315,
    "start_time": "2023-06-03T09:45:08.589Z"
   },
   {
    "duration": 11,
    "start_time": "2023-06-03T09:45:08.906Z"
   },
   {
    "duration": 27,
    "start_time": "2023-06-03T09:45:08.920Z"
   },
   {
    "duration": 6,
    "start_time": "2023-06-03T09:45:08.949Z"
   },
   {
    "duration": 34,
    "start_time": "2023-06-03T09:45:08.957Z"
   },
   {
    "duration": 57,
    "start_time": "2023-06-03T09:45:08.992Z"
   },
   {
    "duration": 299,
    "start_time": "2023-06-03T09:45:09.050Z"
   },
   {
    "duration": 254,
    "start_time": "2023-06-03T09:45:09.350Z"
   },
   {
    "duration": 6,
    "start_time": "2023-06-03T09:45:09.606Z"
   },
   {
    "duration": 139,
    "start_time": "2023-06-03T09:45:09.614Z"
   },
   {
    "duration": 6,
    "start_time": "2023-06-03T09:45:09.755Z"
   },
   {
    "duration": 10,
    "start_time": "2023-06-03T09:45:09.763Z"
   },
   {
    "duration": 6,
    "start_time": "2023-06-03T09:46:17.722Z"
   },
   {
    "duration": 6,
    "start_time": "2023-06-03T09:56:01.404Z"
   },
   {
    "duration": 1198,
    "start_time": "2023-06-03T09:57:53.528Z"
   },
   {
    "duration": 29,
    "start_time": "2023-06-03T09:57:54.728Z"
   },
   {
    "duration": 27,
    "start_time": "2023-06-03T09:57:54.759Z"
   },
   {
    "duration": 17,
    "start_time": "2023-06-03T09:57:54.789Z"
   },
   {
    "duration": 12,
    "start_time": "2023-06-03T09:57:54.808Z"
   },
   {
    "duration": 4,
    "start_time": "2023-06-03T09:57:54.822Z"
   },
   {
    "duration": 14,
    "start_time": "2023-06-03T09:57:54.828Z"
   },
   {
    "duration": 23,
    "start_time": "2023-06-03T09:57:54.843Z"
   },
   {
    "duration": 15,
    "start_time": "2023-06-03T09:57:54.868Z"
   },
   {
    "duration": 12,
    "start_time": "2023-06-03T09:57:54.886Z"
   },
   {
    "duration": 19,
    "start_time": "2023-06-03T09:57:54.900Z"
   },
   {
    "duration": 12,
    "start_time": "2023-06-03T09:57:54.921Z"
   },
   {
    "duration": 8,
    "start_time": "2023-06-03T09:57:54.935Z"
   },
   {
    "duration": 10,
    "start_time": "2023-06-03T09:57:54.945Z"
   },
   {
    "duration": 10,
    "start_time": "2023-06-03T09:57:54.956Z"
   },
   {
    "duration": 19,
    "start_time": "2023-06-03T09:57:54.968Z"
   },
   {
    "duration": 15,
    "start_time": "2023-06-03T09:57:54.989Z"
   },
   {
    "duration": 12,
    "start_time": "2023-06-03T09:57:55.005Z"
   },
   {
    "duration": 12,
    "start_time": "2023-06-03T09:57:55.018Z"
   },
   {
    "duration": 13,
    "start_time": "2023-06-03T09:57:55.031Z"
   },
   {
    "duration": 24,
    "start_time": "2023-06-03T09:57:55.046Z"
   },
   {
    "duration": 5,
    "start_time": "2023-06-03T09:57:55.071Z"
   },
   {
    "duration": 16,
    "start_time": "2023-06-03T09:57:55.077Z"
   },
   {
    "duration": 5,
    "start_time": "2023-06-03T09:57:55.094Z"
   },
   {
    "duration": 17,
    "start_time": "2023-06-03T09:57:55.101Z"
   },
   {
    "duration": 10,
    "start_time": "2023-06-03T09:57:55.141Z"
   },
   {
    "duration": 5,
    "start_time": "2023-06-03T09:57:55.153Z"
   },
   {
    "duration": 171,
    "start_time": "2023-06-03T09:57:55.162Z"
   },
   {
    "duration": 10,
    "start_time": "2023-06-03T09:57:55.335Z"
   },
   {
    "duration": 8,
    "start_time": "2023-06-03T09:57:55.346Z"
   },
   {
    "duration": 6,
    "start_time": "2023-06-03T09:57:55.356Z"
   },
   {
    "duration": 13,
    "start_time": "2023-06-03T09:57:55.364Z"
   },
   {
    "duration": 13,
    "start_time": "2023-06-03T09:57:55.378Z"
   },
   {
    "duration": 182,
    "start_time": "2023-06-03T09:57:55.392Z"
   },
   {
    "duration": 8,
    "start_time": "2023-06-03T09:57:55.576Z"
   },
   {
    "duration": 24,
    "start_time": "2023-06-03T09:57:55.586Z"
   },
   {
    "duration": 176,
    "start_time": "2023-06-03T09:57:55.612Z"
   },
   {
    "duration": 9,
    "start_time": "2023-06-03T09:57:55.790Z"
   },
   {
    "duration": 199,
    "start_time": "2023-06-03T09:57:55.801Z"
   },
   {
    "duration": 10,
    "start_time": "2023-06-03T09:57:56.002Z"
   },
   {
    "duration": 14,
    "start_time": "2023-06-03T09:57:56.014Z"
   },
   {
    "duration": 23,
    "start_time": "2023-06-03T09:57:56.042Z"
   },
   {
    "duration": 21,
    "start_time": "2023-06-03T09:57:56.068Z"
   },
   {
    "duration": 9,
    "start_time": "2023-06-03T09:57:56.090Z"
   },
   {
    "duration": 5,
    "start_time": "2023-06-03T09:57:56.100Z"
   },
   {
    "duration": 21,
    "start_time": "2023-06-03T09:57:56.106Z"
   },
   {
    "duration": 35,
    "start_time": "2023-06-03T09:57:56.142Z"
   },
   {
    "duration": 6,
    "start_time": "2023-06-03T09:57:56.179Z"
   },
   {
    "duration": 11,
    "start_time": "2023-06-03T09:57:56.187Z"
   },
   {
    "duration": 23,
    "start_time": "2023-06-03T09:57:56.199Z"
   },
   {
    "duration": 6,
    "start_time": "2023-06-03T09:57:56.241Z"
   },
   {
    "duration": 21,
    "start_time": "2023-06-03T09:57:56.249Z"
   },
   {
    "duration": 194,
    "start_time": "2023-06-03T09:57:56.271Z"
   },
   {
    "duration": 8,
    "start_time": "2023-06-03T09:57:56.467Z"
   },
   {
    "duration": 203,
    "start_time": "2023-06-03T09:57:56.476Z"
   },
   {
    "duration": 10,
    "start_time": "2023-06-03T09:57:56.681Z"
   },
   {
    "duration": 349,
    "start_time": "2023-06-03T09:57:56.693Z"
   },
   {
    "duration": 166,
    "start_time": "2023-06-03T09:57:57.044Z"
   },
   {
    "duration": 10,
    "start_time": "2023-06-03T09:57:57.212Z"
   },
   {
    "duration": 296,
    "start_time": "2023-06-03T09:57:57.224Z"
   },
   {
    "duration": 20,
    "start_time": "2023-06-03T09:57:57.523Z"
   },
   {
    "duration": 317,
    "start_time": "2023-06-03T09:57:57.545Z"
   },
   {
    "duration": 5,
    "start_time": "2023-06-03T09:57:57.863Z"
   },
   {
    "duration": 878,
    "start_time": "2023-06-03T09:57:57.869Z"
   },
   {
    "duration": 10,
    "start_time": "2023-06-03T09:57:58.749Z"
   },
   {
    "duration": 13,
    "start_time": "2023-06-03T09:57:58.760Z"
   },
   {
    "duration": 9,
    "start_time": "2023-06-03T09:57:58.775Z"
   },
   {
    "duration": 348,
    "start_time": "2023-06-03T09:57:58.785Z"
   },
   {
    "duration": 12,
    "start_time": "2023-06-03T09:57:59.135Z"
   },
   {
    "duration": 11,
    "start_time": "2023-06-03T09:57:59.149Z"
   },
   {
    "duration": 5,
    "start_time": "2023-06-03T09:57:59.162Z"
   },
   {
    "duration": 35,
    "start_time": "2023-06-03T09:57:59.168Z"
   },
   {
    "duration": 60,
    "start_time": "2023-06-03T09:57:59.205Z"
   },
   {
    "duration": 271,
    "start_time": "2023-06-03T09:57:59.268Z"
   },
   {
    "duration": 233,
    "start_time": "2023-06-03T09:57:59.540Z"
   },
   {
    "duration": 7,
    "start_time": "2023-06-03T09:57:59.775Z"
   },
   {
    "duration": 139,
    "start_time": "2023-06-03T09:57:59.784Z"
   },
   {
    "duration": 126,
    "start_time": "2023-06-03T09:57:59.924Z"
   },
   {
    "duration": 0,
    "start_time": "2023-06-03T09:58:00.052Z"
   },
   {
    "duration": 6,
    "start_time": "2023-06-03T09:59:45.582Z"
   },
   {
    "duration": 7,
    "start_time": "2023-06-03T10:03:43.708Z"
   },
   {
    "duration": 7,
    "start_time": "2023-06-03T10:06:48.780Z"
   },
   {
    "duration": 86,
    "start_time": "2023-06-03T10:09:46.516Z"
   },
   {
    "duration": 9,
    "start_time": "2023-06-03T10:10:12.828Z"
   },
   {
    "duration": 1146,
    "start_time": "2023-06-03T10:13:31.169Z"
   },
   {
    "duration": 28,
    "start_time": "2023-06-03T10:13:32.318Z"
   },
   {
    "duration": 27,
    "start_time": "2023-06-03T10:13:32.348Z"
   },
   {
    "duration": 15,
    "start_time": "2023-06-03T10:13:32.376Z"
   },
   {
    "duration": 13,
    "start_time": "2023-06-03T10:13:32.393Z"
   },
   {
    "duration": 11,
    "start_time": "2023-06-03T10:13:32.408Z"
   },
   {
    "duration": 25,
    "start_time": "2023-06-03T10:13:32.421Z"
   },
   {
    "duration": 29,
    "start_time": "2023-06-03T10:13:32.448Z"
   },
   {
    "duration": 26,
    "start_time": "2023-06-03T10:13:32.479Z"
   },
   {
    "duration": 16,
    "start_time": "2023-06-03T10:13:32.508Z"
   },
   {
    "duration": 25,
    "start_time": "2023-06-03T10:13:32.526Z"
   },
   {
    "duration": 23,
    "start_time": "2023-06-03T10:13:32.552Z"
   },
   {
    "duration": 36,
    "start_time": "2023-06-03T10:13:32.577Z"
   },
   {
    "duration": 45,
    "start_time": "2023-06-03T10:13:32.616Z"
   },
   {
    "duration": 63,
    "start_time": "2023-06-03T10:13:32.663Z"
   },
   {
    "duration": 37,
    "start_time": "2023-06-03T10:13:32.728Z"
   },
   {
    "duration": 24,
    "start_time": "2023-06-03T10:13:32.766Z"
   },
   {
    "duration": 21,
    "start_time": "2023-06-03T10:13:32.791Z"
   },
   {
    "duration": 17,
    "start_time": "2023-06-03T10:13:32.814Z"
   },
   {
    "duration": 12,
    "start_time": "2023-06-03T10:13:32.832Z"
   },
   {
    "duration": 36,
    "start_time": "2023-06-03T10:13:32.846Z"
   },
   {
    "duration": 5,
    "start_time": "2023-06-03T10:13:32.885Z"
   },
   {
    "duration": 60,
    "start_time": "2023-06-03T10:13:32.892Z"
   },
   {
    "duration": 8,
    "start_time": "2023-06-03T10:13:32.954Z"
   },
   {
    "duration": 26,
    "start_time": "2023-06-03T10:13:32.964Z"
   },
   {
    "duration": 13,
    "start_time": "2023-06-03T10:13:32.992Z"
   },
   {
    "duration": 5,
    "start_time": "2023-06-03T10:13:33.007Z"
   },
   {
    "duration": 170,
    "start_time": "2023-06-03T10:13:33.014Z"
   },
   {
    "duration": 6,
    "start_time": "2023-06-03T10:13:33.186Z"
   },
   {
    "duration": 20,
    "start_time": "2023-06-03T10:13:33.194Z"
   },
   {
    "duration": 15,
    "start_time": "2023-06-03T10:13:33.216Z"
   },
   {
    "duration": 21,
    "start_time": "2023-06-03T10:13:33.233Z"
   },
   {
    "duration": 16,
    "start_time": "2023-06-03T10:13:33.256Z"
   },
   {
    "duration": 162,
    "start_time": "2023-06-03T10:13:33.274Z"
   },
   {
    "duration": 10,
    "start_time": "2023-06-03T10:13:33.438Z"
   },
   {
    "duration": 12,
    "start_time": "2023-06-03T10:13:33.449Z"
   },
   {
    "duration": 189,
    "start_time": "2023-06-03T10:13:33.462Z"
   },
   {
    "duration": 10,
    "start_time": "2023-06-03T10:13:33.652Z"
   },
   {
    "duration": 233,
    "start_time": "2023-06-03T10:13:33.663Z"
   },
   {
    "duration": 11,
    "start_time": "2023-06-03T10:13:33.898Z"
   },
   {
    "duration": 28,
    "start_time": "2023-06-03T10:13:33.914Z"
   },
   {
    "duration": 34,
    "start_time": "2023-06-03T10:13:33.944Z"
   },
   {
    "duration": 40,
    "start_time": "2023-06-03T10:13:33.980Z"
   },
   {
    "duration": 31,
    "start_time": "2023-06-03T10:13:34.021Z"
   },
   {
    "duration": 21,
    "start_time": "2023-06-03T10:13:34.054Z"
   },
   {
    "duration": 29,
    "start_time": "2023-06-03T10:13:34.077Z"
   },
   {
    "duration": 70,
    "start_time": "2023-06-03T10:13:34.108Z"
   },
   {
    "duration": 17,
    "start_time": "2023-06-03T10:13:34.180Z"
   },
   {
    "duration": 27,
    "start_time": "2023-06-03T10:13:34.199Z"
   },
   {
    "duration": 30,
    "start_time": "2023-06-03T10:13:34.228Z"
   },
   {
    "duration": 23,
    "start_time": "2023-06-03T10:13:34.261Z"
   },
   {
    "duration": 31,
    "start_time": "2023-06-03T10:13:34.286Z"
   },
   {
    "duration": 194,
    "start_time": "2023-06-03T10:13:34.319Z"
   },
   {
    "duration": 9,
    "start_time": "2023-06-03T10:13:34.515Z"
   },
   {
    "duration": 207,
    "start_time": "2023-06-03T10:13:34.526Z"
   },
   {
    "duration": 17,
    "start_time": "2023-06-03T10:13:34.734Z"
   },
   {
    "duration": 332,
    "start_time": "2023-06-03T10:13:34.753Z"
   },
   {
    "duration": 164,
    "start_time": "2023-06-03T10:13:35.087Z"
   },
   {
    "duration": 10,
    "start_time": "2023-06-03T10:13:35.254Z"
   },
   {
    "duration": 305,
    "start_time": "2023-06-03T10:13:35.265Z"
   },
   {
    "duration": 9,
    "start_time": "2023-06-03T10:13:35.572Z"
   },
   {
    "duration": 309,
    "start_time": "2023-06-03T10:13:35.582Z"
   },
   {
    "duration": 3,
    "start_time": "2023-06-03T10:13:35.893Z"
   },
   {
    "duration": 828,
    "start_time": "2023-06-03T10:13:35.898Z"
   },
   {
    "duration": 13,
    "start_time": "2023-06-03T10:13:36.728Z"
   },
   {
    "duration": 27,
    "start_time": "2023-06-03T10:13:36.743Z"
   },
   {
    "duration": 20,
    "start_time": "2023-06-03T10:13:36.772Z"
   },
   {
    "duration": 323,
    "start_time": "2023-06-03T10:13:36.794Z"
   },
   {
    "duration": 11,
    "start_time": "2023-06-03T10:13:37.119Z"
   },
   {
    "duration": 13,
    "start_time": "2023-06-03T10:13:37.142Z"
   },
   {
    "duration": 14,
    "start_time": "2023-06-03T10:13:37.157Z"
   },
   {
    "duration": 50,
    "start_time": "2023-06-03T10:13:37.172Z"
   },
   {
    "duration": 40,
    "start_time": "2023-06-03T10:13:37.224Z"
   },
   {
    "duration": 275,
    "start_time": "2023-06-03T10:13:37.266Z"
   },
   {
    "duration": 238,
    "start_time": "2023-06-03T10:13:37.544Z"
   },
   {
    "duration": 5,
    "start_time": "2023-06-03T10:13:37.784Z"
   },
   {
    "duration": 136,
    "start_time": "2023-06-03T10:13:37.791Z"
   },
   {
    "duration": 15,
    "start_time": "2023-06-03T10:13:37.929Z"
   },
   {
    "duration": 14,
    "start_time": "2023-06-03T10:13:37.945Z"
   },
   {
    "duration": 1273,
    "start_time": "2023-06-03T10:35:02.657Z"
   },
   {
    "duration": 28,
    "start_time": "2023-06-03T10:35:03.932Z"
   },
   {
    "duration": 28,
    "start_time": "2023-06-03T10:35:03.962Z"
   },
   {
    "duration": 17,
    "start_time": "2023-06-03T10:35:03.992Z"
   },
   {
    "duration": 13,
    "start_time": "2023-06-03T10:35:04.011Z"
   },
   {
    "duration": 22,
    "start_time": "2023-06-03T10:35:04.025Z"
   },
   {
    "duration": 39,
    "start_time": "2023-06-03T10:35:04.049Z"
   },
   {
    "duration": 24,
    "start_time": "2023-06-03T10:35:04.091Z"
   },
   {
    "duration": 41,
    "start_time": "2023-06-03T10:35:04.125Z"
   },
   {
    "duration": 16,
    "start_time": "2023-06-03T10:35:04.169Z"
   },
   {
    "duration": 33,
    "start_time": "2023-06-03T10:35:04.187Z"
   },
   {
    "duration": 34,
    "start_time": "2023-06-03T10:35:04.221Z"
   },
   {
    "duration": 13,
    "start_time": "2023-06-03T10:35:04.257Z"
   },
   {
    "duration": 17,
    "start_time": "2023-06-03T10:35:04.272Z"
   },
   {
    "duration": 17,
    "start_time": "2023-06-03T10:35:04.290Z"
   },
   {
    "duration": 24,
    "start_time": "2023-06-03T10:35:04.309Z"
   },
   {
    "duration": 15,
    "start_time": "2023-06-03T10:35:04.335Z"
   },
   {
    "duration": 17,
    "start_time": "2023-06-03T10:35:04.352Z"
   },
   {
    "duration": 9,
    "start_time": "2023-06-03T10:35:04.371Z"
   },
   {
    "duration": 9,
    "start_time": "2023-06-03T10:35:04.382Z"
   },
   {
    "duration": 23,
    "start_time": "2023-06-03T10:35:04.393Z"
   },
   {
    "duration": 8,
    "start_time": "2023-06-03T10:35:04.419Z"
   },
   {
    "duration": 47,
    "start_time": "2023-06-03T10:35:04.429Z"
   },
   {
    "duration": 15,
    "start_time": "2023-06-03T10:35:04.478Z"
   },
   {
    "duration": 37,
    "start_time": "2023-06-03T10:35:04.495Z"
   },
   {
    "duration": 25,
    "start_time": "2023-06-03T10:35:04.534Z"
   },
   {
    "duration": 9,
    "start_time": "2023-06-03T10:35:04.561Z"
   },
   {
    "duration": 172,
    "start_time": "2023-06-03T10:35:04.576Z"
   },
   {
    "duration": 7,
    "start_time": "2023-06-03T10:35:04.750Z"
   },
   {
    "duration": 20,
    "start_time": "2023-06-03T10:35:04.759Z"
   },
   {
    "duration": 10,
    "start_time": "2023-06-03T10:35:04.781Z"
   },
   {
    "duration": 19,
    "start_time": "2023-06-03T10:35:04.793Z"
   },
   {
    "duration": 9,
    "start_time": "2023-06-03T10:35:04.815Z"
   },
   {
    "duration": 173,
    "start_time": "2023-06-03T10:35:04.826Z"
   },
   {
    "duration": 9,
    "start_time": "2023-06-03T10:35:05.001Z"
   },
   {
    "duration": 22,
    "start_time": "2023-06-03T10:35:05.011Z"
   },
   {
    "duration": 183,
    "start_time": "2023-06-03T10:35:05.034Z"
   },
   {
    "duration": 10,
    "start_time": "2023-06-03T10:35:05.218Z"
   },
   {
    "duration": 202,
    "start_time": "2023-06-03T10:35:05.241Z"
   },
   {
    "duration": 11,
    "start_time": "2023-06-03T10:35:05.446Z"
   },
   {
    "duration": 27,
    "start_time": "2023-06-03T10:35:05.458Z"
   },
   {
    "duration": 30,
    "start_time": "2023-06-03T10:35:05.486Z"
   },
   {
    "duration": 22,
    "start_time": "2023-06-03T10:35:05.519Z"
   },
   {
    "duration": 9,
    "start_time": "2023-06-03T10:35:05.543Z"
   },
   {
    "duration": 7,
    "start_time": "2023-06-03T10:35:05.554Z"
   },
   {
    "duration": 21,
    "start_time": "2023-06-03T10:35:05.562Z"
   },
   {
    "duration": 35,
    "start_time": "2023-06-03T10:35:05.584Z"
   },
   {
    "duration": 8,
    "start_time": "2023-06-03T10:35:05.642Z"
   },
   {
    "duration": 12,
    "start_time": "2023-06-03T10:35:05.652Z"
   },
   {
    "duration": 39,
    "start_time": "2023-06-03T10:35:05.666Z"
   },
   {
    "duration": 19,
    "start_time": "2023-06-03T10:35:05.707Z"
   },
   {
    "duration": 29,
    "start_time": "2023-06-03T10:35:05.728Z"
   },
   {
    "duration": 204,
    "start_time": "2023-06-03T10:35:05.759Z"
   },
   {
    "duration": 10,
    "start_time": "2023-06-03T10:35:05.964Z"
   },
   {
    "duration": 247,
    "start_time": "2023-06-03T10:35:05.976Z"
   },
   {
    "duration": 17,
    "start_time": "2023-06-03T10:35:06.225Z"
   },
   {
    "duration": 318,
    "start_time": "2023-06-03T10:35:06.244Z"
   },
   {
    "duration": 172,
    "start_time": "2023-06-03T10:35:06.564Z"
   },
   {
    "duration": 9,
    "start_time": "2023-06-03T10:35:06.741Z"
   },
   {
    "duration": 319,
    "start_time": "2023-06-03T10:35:06.752Z"
   },
   {
    "duration": 9,
    "start_time": "2023-06-03T10:35:07.073Z"
   },
   {
    "duration": 311,
    "start_time": "2023-06-03T10:35:07.084Z"
   },
   {
    "duration": 4,
    "start_time": "2023-06-03T10:35:07.396Z"
   },
   {
    "duration": 844,
    "start_time": "2023-06-03T10:35:07.402Z"
   },
   {
    "duration": 13,
    "start_time": "2023-06-03T10:35:08.248Z"
   },
   {
    "duration": 25,
    "start_time": "2023-06-03T10:35:08.263Z"
   },
   {
    "duration": 14,
    "start_time": "2023-06-03T10:35:08.290Z"
   },
   {
    "duration": 330,
    "start_time": "2023-06-03T10:35:08.307Z"
   },
   {
    "duration": 10,
    "start_time": "2023-06-03T10:35:08.641Z"
   },
   {
    "duration": 13,
    "start_time": "2023-06-03T10:35:08.653Z"
   },
   {
    "duration": 4,
    "start_time": "2023-06-03T10:35:08.668Z"
   },
   {
    "duration": 34,
    "start_time": "2023-06-03T10:35:08.674Z"
   },
   {
    "duration": 63,
    "start_time": "2023-06-03T10:35:08.710Z"
   },
   {
    "duration": 276,
    "start_time": "2023-06-03T10:35:08.774Z"
   },
   {
    "duration": 247,
    "start_time": "2023-06-03T10:35:09.052Z"
   },
   {
    "duration": 6,
    "start_time": "2023-06-03T10:35:09.301Z"
   },
   {
    "duration": 141,
    "start_time": "2023-06-03T10:35:09.308Z"
   },
   {
    "duration": 7,
    "start_time": "2023-06-03T10:35:09.451Z"
   },
   {
    "duration": 16,
    "start_time": "2023-06-03T10:35:09.460Z"
   },
   {
    "duration": 1399,
    "start_time": "2023-06-03T10:36:03.167Z"
   },
   {
    "duration": 28,
    "start_time": "2023-06-03T10:36:04.568Z"
   },
   {
    "duration": 26,
    "start_time": "2023-06-03T10:36:04.598Z"
   },
   {
    "duration": 15,
    "start_time": "2023-06-03T10:36:04.626Z"
   },
   {
    "duration": 14,
    "start_time": "2023-06-03T10:36:04.642Z"
   },
   {
    "duration": 4,
    "start_time": "2023-06-03T10:36:04.658Z"
   },
   {
    "duration": 21,
    "start_time": "2023-06-03T10:36:04.664Z"
   },
   {
    "duration": 13,
    "start_time": "2023-06-03T10:36:04.686Z"
   },
   {
    "duration": 13,
    "start_time": "2023-06-03T10:36:04.700Z"
   },
   {
    "duration": 27,
    "start_time": "2023-06-03T10:36:04.716Z"
   },
   {
    "duration": 14,
    "start_time": "2023-06-03T10:36:04.745Z"
   },
   {
    "duration": 9,
    "start_time": "2023-06-03T10:36:04.761Z"
   },
   {
    "duration": 5,
    "start_time": "2023-06-03T10:36:04.772Z"
   },
   {
    "duration": 12,
    "start_time": "2023-06-03T10:36:04.780Z"
   },
   {
    "duration": 9,
    "start_time": "2023-06-03T10:36:04.793Z"
   },
   {
    "duration": 9,
    "start_time": "2023-06-03T10:36:04.803Z"
   },
   {
    "duration": 35,
    "start_time": "2023-06-03T10:36:04.814Z"
   },
   {
    "duration": 9,
    "start_time": "2023-06-03T10:36:04.850Z"
   },
   {
    "duration": 11,
    "start_time": "2023-06-03T10:36:04.861Z"
   },
   {
    "duration": 11,
    "start_time": "2023-06-03T10:36:04.874Z"
   },
   {
    "duration": 19,
    "start_time": "2023-06-03T10:36:04.887Z"
   },
   {
    "duration": 4,
    "start_time": "2023-06-03T10:36:04.908Z"
   },
   {
    "duration": 19,
    "start_time": "2023-06-03T10:36:04.914Z"
   },
   {
    "duration": 6,
    "start_time": "2023-06-03T10:36:04.942Z"
   },
   {
    "duration": 18,
    "start_time": "2023-06-03T10:36:04.950Z"
   },
   {
    "duration": 12,
    "start_time": "2023-06-03T10:36:04.970Z"
   },
   {
    "duration": 5,
    "start_time": "2023-06-03T10:36:04.984Z"
   },
   {
    "duration": 170,
    "start_time": "2023-06-03T10:36:04.993Z"
   },
   {
    "duration": 6,
    "start_time": "2023-06-03T10:36:05.165Z"
   },
   {
    "duration": 19,
    "start_time": "2023-06-03T10:36:05.172Z"
   },
   {
    "duration": 14,
    "start_time": "2023-06-03T10:36:05.192Z"
   },
   {
    "duration": 17,
    "start_time": "2023-06-03T10:36:05.207Z"
   },
   {
    "duration": 9,
    "start_time": "2023-06-03T10:36:05.226Z"
   },
   {
    "duration": 161,
    "start_time": "2023-06-03T10:36:05.236Z"
   },
   {
    "duration": 8,
    "start_time": "2023-06-03T10:36:05.399Z"
   },
   {
    "duration": 21,
    "start_time": "2023-06-03T10:36:05.409Z"
   },
   {
    "duration": 177,
    "start_time": "2023-06-03T10:36:05.432Z"
   },
   {
    "duration": 8,
    "start_time": "2023-06-03T10:36:05.610Z"
   },
   {
    "duration": 182,
    "start_time": "2023-06-03T10:36:05.619Z"
   },
   {
    "duration": 10,
    "start_time": "2023-06-03T10:36:05.803Z"
   },
   {
    "duration": 11,
    "start_time": "2023-06-03T10:36:05.814Z"
   },
   {
    "duration": 22,
    "start_time": "2023-06-03T10:36:05.827Z"
   },
   {
    "duration": 20,
    "start_time": "2023-06-03T10:36:05.851Z"
   },
   {
    "duration": 9,
    "start_time": "2023-06-03T10:36:05.873Z"
   },
   {
    "duration": 5,
    "start_time": "2023-06-03T10:36:05.883Z"
   },
   {
    "duration": 53,
    "start_time": "2023-06-03T10:36:05.890Z"
   },
   {
    "duration": 34,
    "start_time": "2023-06-03T10:36:05.945Z"
   },
   {
    "duration": 7,
    "start_time": "2023-06-03T10:36:05.981Z"
   },
   {
    "duration": 12,
    "start_time": "2023-06-03T10:36:05.989Z"
   },
   {
    "duration": 20,
    "start_time": "2023-06-03T10:36:06.003Z"
   },
   {
    "duration": 23,
    "start_time": "2023-06-03T10:36:06.025Z"
   },
   {
    "duration": 22,
    "start_time": "2023-06-03T10:36:06.050Z"
   },
   {
    "duration": 199,
    "start_time": "2023-06-03T10:36:06.074Z"
   },
   {
    "duration": 8,
    "start_time": "2023-06-03T10:36:06.275Z"
   },
   {
    "duration": 199,
    "start_time": "2023-06-03T10:36:06.285Z"
   },
   {
    "duration": 9,
    "start_time": "2023-06-03T10:36:06.485Z"
   },
   {
    "duration": 319,
    "start_time": "2023-06-03T10:36:06.496Z"
   },
   {
    "duration": 165,
    "start_time": "2023-06-03T10:36:06.817Z"
   },
   {
    "duration": 8,
    "start_time": "2023-06-03T10:36:06.984Z"
   },
   {
    "duration": 275,
    "start_time": "2023-06-03T10:36:06.993Z"
   },
   {
    "duration": 9,
    "start_time": "2023-06-03T10:36:07.269Z"
   },
   {
    "duration": 308,
    "start_time": "2023-06-03T10:36:07.280Z"
   },
   {
    "duration": 4,
    "start_time": "2023-06-03T10:36:07.590Z"
   },
   {
    "duration": 965,
    "start_time": "2023-06-03T10:36:07.595Z"
   },
   {
    "duration": 11,
    "start_time": "2023-06-03T10:36:08.561Z"
   },
   {
    "duration": 13,
    "start_time": "2023-06-03T10:36:08.574Z"
   },
   {
    "duration": 6,
    "start_time": "2023-06-03T10:36:08.589Z"
   },
   {
    "duration": 326,
    "start_time": "2023-06-03T10:36:08.597Z"
   },
   {
    "duration": 10,
    "start_time": "2023-06-03T10:36:08.925Z"
   },
   {
    "duration": 10,
    "start_time": "2023-06-03T10:36:08.942Z"
   },
   {
    "duration": 9,
    "start_time": "2023-06-03T10:36:08.954Z"
   },
   {
    "duration": 42,
    "start_time": "2023-06-03T10:36:08.964Z"
   },
   {
    "duration": 50,
    "start_time": "2023-06-03T10:36:09.008Z"
   },
   {
    "duration": 282,
    "start_time": "2023-06-03T10:36:09.059Z"
   },
   {
    "duration": 247,
    "start_time": "2023-06-03T10:36:09.343Z"
   },
   {
    "duration": 7,
    "start_time": "2023-06-03T10:36:09.592Z"
   },
   {
    "duration": 142,
    "start_time": "2023-06-03T10:36:09.600Z"
   },
   {
    "duration": 7,
    "start_time": "2023-06-03T10:36:09.744Z"
   },
   {
    "duration": 22,
    "start_time": "2023-06-03T10:36:09.753Z"
   },
   {
    "duration": 1182,
    "start_time": "2023-06-03T10:38:08.347Z"
   },
   {
    "duration": 29,
    "start_time": "2023-06-03T10:38:09.531Z"
   },
   {
    "duration": 40,
    "start_time": "2023-06-03T10:38:09.561Z"
   },
   {
    "duration": 17,
    "start_time": "2023-06-03T10:38:09.604Z"
   },
   {
    "duration": 16,
    "start_time": "2023-06-03T10:38:09.623Z"
   },
   {
    "duration": 15,
    "start_time": "2023-06-03T10:38:09.641Z"
   },
   {
    "duration": 21,
    "start_time": "2023-06-03T10:38:09.658Z"
   },
   {
    "duration": 23,
    "start_time": "2023-06-03T10:38:09.681Z"
   },
   {
    "duration": 16,
    "start_time": "2023-06-03T10:38:09.706Z"
   },
   {
    "duration": 7,
    "start_time": "2023-06-03T10:38:09.725Z"
   },
   {
    "duration": 13,
    "start_time": "2023-06-03T10:38:09.734Z"
   },
   {
    "duration": 9,
    "start_time": "2023-06-03T10:38:09.749Z"
   },
   {
    "duration": 5,
    "start_time": "2023-06-03T10:38:09.760Z"
   },
   {
    "duration": 12,
    "start_time": "2023-06-03T10:38:09.767Z"
   },
   {
    "duration": 8,
    "start_time": "2023-06-03T10:38:09.780Z"
   },
   {
    "duration": 8,
    "start_time": "2023-06-03T10:38:09.789Z"
   },
   {
    "duration": 14,
    "start_time": "2023-06-03T10:38:09.798Z"
   },
   {
    "duration": 34,
    "start_time": "2023-06-03T10:38:09.814Z"
   },
   {
    "duration": 5,
    "start_time": "2023-06-03T10:38:09.849Z"
   },
   {
    "duration": 8,
    "start_time": "2023-06-03T10:38:09.856Z"
   },
   {
    "duration": 20,
    "start_time": "2023-06-03T10:38:09.865Z"
   },
   {
    "duration": 4,
    "start_time": "2023-06-03T10:38:09.887Z"
   },
   {
    "duration": 15,
    "start_time": "2023-06-03T10:38:09.893Z"
   },
   {
    "duration": 35,
    "start_time": "2023-06-03T10:38:09.910Z"
   },
   {
    "duration": 21,
    "start_time": "2023-06-03T10:38:09.947Z"
   },
   {
    "duration": 9,
    "start_time": "2023-06-03T10:38:09.970Z"
   },
   {
    "duration": 5,
    "start_time": "2023-06-03T10:38:09.981Z"
   },
   {
    "duration": 186,
    "start_time": "2023-06-03T10:38:09.991Z"
   },
   {
    "duration": 6,
    "start_time": "2023-06-03T10:38:10.179Z"
   },
   {
    "duration": 16,
    "start_time": "2023-06-03T10:38:10.186Z"
   },
   {
    "duration": 11,
    "start_time": "2023-06-03T10:38:10.204Z"
   },
   {
    "duration": 15,
    "start_time": "2023-06-03T10:38:10.217Z"
   },
   {
    "duration": 10,
    "start_time": "2023-06-03T10:38:10.233Z"
   },
   {
    "duration": 166,
    "start_time": "2023-06-03T10:38:10.244Z"
   },
   {
    "duration": 10,
    "start_time": "2023-06-03T10:38:10.412Z"
   },
   {
    "duration": 27,
    "start_time": "2023-06-03T10:38:10.424Z"
   },
   {
    "duration": 179,
    "start_time": "2023-06-03T10:38:10.453Z"
   },
   {
    "duration": 14,
    "start_time": "2023-06-03T10:38:10.635Z"
   },
   {
    "duration": 219,
    "start_time": "2023-06-03T10:38:10.651Z"
   },
   {
    "duration": 13,
    "start_time": "2023-06-03T10:38:10.872Z"
   },
   {
    "duration": 12,
    "start_time": "2023-06-03T10:38:10.887Z"
   },
   {
    "duration": 13,
    "start_time": "2023-06-03T10:38:10.901Z"
   },
   {
    "duration": 44,
    "start_time": "2023-06-03T10:38:10.916Z"
   },
   {
    "duration": 9,
    "start_time": "2023-06-03T10:38:10.962Z"
   },
   {
    "duration": 5,
    "start_time": "2023-06-03T10:38:10.972Z"
   },
   {
    "duration": 17,
    "start_time": "2023-06-03T10:38:10.978Z"
   },
   {
    "duration": 68,
    "start_time": "2023-06-03T10:38:10.998Z"
   },
   {
    "duration": 9,
    "start_time": "2023-06-03T10:38:11.068Z"
   },
   {
    "duration": 8,
    "start_time": "2023-06-03T10:38:11.079Z"
   },
   {
    "duration": 21,
    "start_time": "2023-06-03T10:38:11.088Z"
   },
   {
    "duration": 8,
    "start_time": "2023-06-03T10:38:11.110Z"
   },
   {
    "duration": 45,
    "start_time": "2023-06-03T10:38:11.120Z"
   },
   {
    "duration": 181,
    "start_time": "2023-06-03T10:38:11.167Z"
   },
   {
    "duration": 9,
    "start_time": "2023-06-03T10:38:11.350Z"
   },
   {
    "duration": 201,
    "start_time": "2023-06-03T10:38:11.360Z"
   },
   {
    "duration": 10,
    "start_time": "2023-06-03T10:38:11.562Z"
   },
   {
    "duration": 359,
    "start_time": "2023-06-03T10:38:11.574Z"
   },
   {
    "duration": 185,
    "start_time": "2023-06-03T10:38:11.935Z"
   },
   {
    "duration": 19,
    "start_time": "2023-06-03T10:38:12.123Z"
   },
   {
    "duration": 291,
    "start_time": "2023-06-03T10:38:12.144Z"
   },
   {
    "duration": 11,
    "start_time": "2023-06-03T10:38:12.437Z"
   },
   {
    "duration": 307,
    "start_time": "2023-06-03T10:38:12.450Z"
   },
   {
    "duration": 4,
    "start_time": "2023-06-03T10:38:12.759Z"
   },
   {
    "duration": 845,
    "start_time": "2023-06-03T10:38:12.764Z"
   },
   {
    "duration": 10,
    "start_time": "2023-06-03T10:38:13.611Z"
   },
   {
    "duration": 22,
    "start_time": "2023-06-03T10:38:13.622Z"
   },
   {
    "duration": 7,
    "start_time": "2023-06-03T10:38:13.646Z"
   },
   {
    "duration": 329,
    "start_time": "2023-06-03T10:38:13.655Z"
   },
   {
    "duration": 11,
    "start_time": "2023-06-03T10:38:13.986Z"
   },
   {
    "duration": 16,
    "start_time": "2023-06-03T10:38:13.999Z"
   },
   {
    "duration": 6,
    "start_time": "2023-06-03T10:38:14.017Z"
   },
   {
    "duration": 48,
    "start_time": "2023-06-03T10:38:14.024Z"
   },
   {
    "duration": 41,
    "start_time": "2023-06-03T10:38:14.075Z"
   },
   {
    "duration": 325,
    "start_time": "2023-06-03T10:38:14.119Z"
   },
   {
    "duration": 241,
    "start_time": "2023-06-03T10:38:14.445Z"
   },
   {
    "duration": 7,
    "start_time": "2023-06-03T10:38:14.689Z"
   },
   {
    "duration": 149,
    "start_time": "2023-06-03T10:38:14.698Z"
   },
   {
    "duration": 7,
    "start_time": "2023-06-03T10:38:14.849Z"
   },
   {
    "duration": 14,
    "start_time": "2023-06-03T10:38:14.858Z"
   },
   {
    "duration": 1205,
    "start_time": "2023-06-03T10:41:53.150Z"
   },
   {
    "duration": 29,
    "start_time": "2023-06-03T10:41:54.357Z"
   },
   {
    "duration": 28,
    "start_time": "2023-06-03T10:41:54.387Z"
   },
   {
    "duration": 16,
    "start_time": "2023-06-03T10:41:54.418Z"
   },
   {
    "duration": 12,
    "start_time": "2023-06-03T10:41:54.436Z"
   },
   {
    "duration": 7,
    "start_time": "2023-06-03T10:41:54.450Z"
   },
   {
    "duration": 27,
    "start_time": "2023-06-03T10:41:54.458Z"
   },
   {
    "duration": 16,
    "start_time": "2023-06-03T10:41:54.487Z"
   },
   {
    "duration": 26,
    "start_time": "2023-06-03T10:41:54.505Z"
   },
   {
    "duration": 9,
    "start_time": "2023-06-03T10:41:54.534Z"
   },
   {
    "duration": 20,
    "start_time": "2023-06-03T10:41:54.545Z"
   },
   {
    "duration": 12,
    "start_time": "2023-06-03T10:41:54.567Z"
   },
   {
    "duration": 6,
    "start_time": "2023-06-03T10:41:54.581Z"
   },
   {
    "duration": 12,
    "start_time": "2023-06-03T10:41:54.588Z"
   },
   {
    "duration": 9,
    "start_time": "2023-06-03T10:41:54.602Z"
   },
   {
    "duration": 8,
    "start_time": "2023-06-03T10:41:54.613Z"
   },
   {
    "duration": 26,
    "start_time": "2023-06-03T10:41:54.622Z"
   },
   {
    "duration": 12,
    "start_time": "2023-06-03T10:41:54.650Z"
   },
   {
    "duration": 7,
    "start_time": "2023-06-03T10:41:54.664Z"
   },
   {
    "duration": 12,
    "start_time": "2023-06-03T10:41:54.672Z"
   },
   {
    "duration": 34,
    "start_time": "2023-06-03T10:41:54.686Z"
   },
   {
    "duration": 5,
    "start_time": "2023-06-03T10:41:54.721Z"
   },
   {
    "duration": 20,
    "start_time": "2023-06-03T10:41:54.728Z"
   },
   {
    "duration": 5,
    "start_time": "2023-06-03T10:41:54.749Z"
   },
   {
    "duration": 22,
    "start_time": "2023-06-03T10:41:54.756Z"
   },
   {
    "duration": 9,
    "start_time": "2023-06-03T10:41:54.780Z"
   },
   {
    "duration": 4,
    "start_time": "2023-06-03T10:41:54.790Z"
   },
   {
    "duration": 170,
    "start_time": "2023-06-03T10:41:54.799Z"
   },
   {
    "duration": 6,
    "start_time": "2023-06-03T10:41:54.971Z"
   },
   {
    "duration": 8,
    "start_time": "2023-06-03T10:41:54.979Z"
   },
   {
    "duration": 5,
    "start_time": "2023-06-03T10:41:54.989Z"
   },
   {
    "duration": 14,
    "start_time": "2023-06-03T10:41:54.995Z"
   },
   {
    "duration": 12,
    "start_time": "2023-06-03T10:41:55.011Z"
   },
   {
    "duration": 160,
    "start_time": "2023-06-03T10:41:55.041Z"
   },
   {
    "duration": 8,
    "start_time": "2023-06-03T10:41:55.202Z"
   },
   {
    "duration": 12,
    "start_time": "2023-06-03T10:41:55.212Z"
   },
   {
    "duration": 185,
    "start_time": "2023-06-03T10:41:55.225Z"
   },
   {
    "duration": 9,
    "start_time": "2023-06-03T10:41:55.412Z"
   },
   {
    "duration": 201,
    "start_time": "2023-06-03T10:41:55.422Z"
   },
   {
    "duration": 21,
    "start_time": "2023-06-03T10:41:55.625Z"
   },
   {
    "duration": 12,
    "start_time": "2023-06-03T10:41:55.648Z"
   },
   {
    "duration": 13,
    "start_time": "2023-06-03T10:41:55.661Z"
   },
   {
    "duration": 18,
    "start_time": "2023-06-03T10:41:55.675Z"
   },
   {
    "duration": 8,
    "start_time": "2023-06-03T10:41:55.695Z"
   },
   {
    "duration": 14,
    "start_time": "2023-06-03T10:41:55.705Z"
   },
   {
    "duration": 37,
    "start_time": "2023-06-03T10:41:55.721Z"
   },
   {
    "duration": 33,
    "start_time": "2023-06-03T10:41:55.760Z"
   },
   {
    "duration": 7,
    "start_time": "2023-06-03T10:41:55.795Z"
   },
   {
    "duration": 22,
    "start_time": "2023-06-03T10:41:55.804Z"
   },
   {
    "duration": 18,
    "start_time": "2023-06-03T10:41:55.841Z"
   },
   {
    "duration": 8,
    "start_time": "2023-06-03T10:41:55.861Z"
   },
   {
    "duration": 20,
    "start_time": "2023-06-03T10:41:55.870Z"
   },
   {
    "duration": 209,
    "start_time": "2023-06-03T10:41:55.891Z"
   },
   {
    "duration": 9,
    "start_time": "2023-06-03T10:41:56.101Z"
   },
   {
    "duration": 208,
    "start_time": "2023-06-03T10:41:56.112Z"
   },
   {
    "duration": 9,
    "start_time": "2023-06-03T10:41:56.322Z"
   },
   {
    "duration": 313,
    "start_time": "2023-06-03T10:41:56.342Z"
   },
   {
    "duration": 176,
    "start_time": "2023-06-03T10:41:56.657Z"
   },
   {
    "duration": 12,
    "start_time": "2023-06-03T10:41:56.835Z"
   },
   {
    "duration": 277,
    "start_time": "2023-06-03T10:41:56.849Z"
   },
   {
    "duration": 15,
    "start_time": "2023-06-03T10:41:57.128Z"
   },
   {
    "duration": 303,
    "start_time": "2023-06-03T10:41:57.145Z"
   },
   {
    "duration": 4,
    "start_time": "2023-06-03T10:41:57.450Z"
   },
   {
    "duration": 910,
    "start_time": "2023-06-03T10:41:57.455Z"
   },
   {
    "duration": 12,
    "start_time": "2023-06-03T10:41:58.367Z"
   },
   {
    "duration": 23,
    "start_time": "2023-06-03T10:41:58.381Z"
   },
   {
    "duration": 11,
    "start_time": "2023-06-03T10:41:58.407Z"
   },
   {
    "duration": 327,
    "start_time": "2023-06-03T10:41:58.421Z"
   },
   {
    "duration": 10,
    "start_time": "2023-06-03T10:41:58.749Z"
   },
   {
    "duration": 20,
    "start_time": "2023-06-03T10:41:58.761Z"
   },
   {
    "duration": 5,
    "start_time": "2023-06-03T10:41:58.783Z"
   },
   {
    "duration": 37,
    "start_time": "2023-06-03T10:41:58.789Z"
   },
   {
    "duration": 46,
    "start_time": "2023-06-03T10:41:58.827Z"
   },
   {
    "duration": 258,
    "start_time": "2023-06-03T10:41:58.874Z"
   },
   {
    "duration": 263,
    "start_time": "2023-06-03T10:41:59.133Z"
   },
   {
    "duration": 6,
    "start_time": "2023-06-03T10:41:59.397Z"
   },
   {
    "duration": 131,
    "start_time": "2023-06-03T10:41:59.404Z"
   },
   {
    "duration": 6,
    "start_time": "2023-06-03T10:41:59.542Z"
   },
   {
    "duration": 12,
    "start_time": "2023-06-03T10:41:59.550Z"
   },
   {
    "duration": 1275,
    "start_time": "2023-06-03T11:24:18.147Z"
   },
   {
    "duration": 29,
    "start_time": "2023-06-03T11:24:19.424Z"
   },
   {
    "duration": 28,
    "start_time": "2023-06-03T11:24:19.455Z"
   },
   {
    "duration": 16,
    "start_time": "2023-06-03T11:24:19.485Z"
   },
   {
    "duration": 14,
    "start_time": "2023-06-03T11:24:19.503Z"
   },
   {
    "duration": 5,
    "start_time": "2023-06-03T11:24:19.519Z"
   },
   {
    "duration": 31,
    "start_time": "2023-06-03T11:24:19.526Z"
   },
   {
    "duration": 48,
    "start_time": "2023-06-03T11:24:19.558Z"
   },
   {
    "duration": 38,
    "start_time": "2023-06-03T11:24:19.608Z"
   },
   {
    "duration": 7,
    "start_time": "2023-06-03T11:24:19.649Z"
   },
   {
    "duration": 14,
    "start_time": "2023-06-03T11:24:19.658Z"
   },
   {
    "duration": 15,
    "start_time": "2023-06-03T11:24:19.674Z"
   },
   {
    "duration": 5,
    "start_time": "2023-06-03T11:24:19.691Z"
   },
   {
    "duration": 13,
    "start_time": "2023-06-03T11:24:19.698Z"
   },
   {
    "duration": 15,
    "start_time": "2023-06-03T11:24:19.713Z"
   },
   {
    "duration": 14,
    "start_time": "2023-06-03T11:24:19.730Z"
   },
   {
    "duration": 18,
    "start_time": "2023-06-03T11:24:19.746Z"
   },
   {
    "duration": 8,
    "start_time": "2023-06-03T11:24:19.766Z"
   },
   {
    "duration": 7,
    "start_time": "2023-06-03T11:24:19.776Z"
   },
   {
    "duration": 12,
    "start_time": "2023-06-03T11:24:19.785Z"
   },
   {
    "duration": 18,
    "start_time": "2023-06-03T11:24:19.799Z"
   },
   {
    "duration": 23,
    "start_time": "2023-06-03T11:24:19.819Z"
   },
   {
    "duration": 14,
    "start_time": "2023-06-03T11:24:19.844Z"
   },
   {
    "duration": 5,
    "start_time": "2023-06-03T11:24:19.860Z"
   },
   {
    "duration": 24,
    "start_time": "2023-06-03T11:24:19.867Z"
   },
   {
    "duration": 10,
    "start_time": "2023-06-03T11:24:19.893Z"
   },
   {
    "duration": 38,
    "start_time": "2023-06-03T11:24:19.905Z"
   },
   {
    "duration": 184,
    "start_time": "2023-06-03T11:24:19.948Z"
   },
   {
    "duration": 8,
    "start_time": "2023-06-03T11:24:20.134Z"
   },
   {
    "duration": 9,
    "start_time": "2023-06-03T11:24:20.144Z"
   },
   {
    "duration": 4,
    "start_time": "2023-06-03T11:24:20.155Z"
   },
   {
    "duration": 14,
    "start_time": "2023-06-03T11:24:20.161Z"
   },
   {
    "duration": 16,
    "start_time": "2023-06-03T11:24:20.177Z"
   },
   {
    "duration": 177,
    "start_time": "2023-06-03T11:24:20.194Z"
   },
   {
    "duration": 8,
    "start_time": "2023-06-03T11:24:20.373Z"
   },
   {
    "duration": 13,
    "start_time": "2023-06-03T11:24:20.383Z"
   },
   {
    "duration": 190,
    "start_time": "2023-06-03T11:24:20.397Z"
   },
   {
    "duration": 9,
    "start_time": "2023-06-03T11:24:20.589Z"
   },
   {
    "duration": 204,
    "start_time": "2023-06-03T11:24:20.600Z"
   },
   {
    "duration": 12,
    "start_time": "2023-06-03T11:24:20.805Z"
   },
   {
    "duration": 63,
    "start_time": "2023-06-03T11:24:20.819Z"
   },
   {
    "duration": 16,
    "start_time": "2023-06-03T11:24:20.883Z"
   },
   {
    "duration": 24,
    "start_time": "2023-06-03T11:24:20.902Z"
   },
   {
    "duration": 13,
    "start_time": "2023-06-03T11:24:20.929Z"
   },
   {
    "duration": 25,
    "start_time": "2023-06-03T11:24:20.944Z"
   },
   {
    "duration": 25,
    "start_time": "2023-06-03T11:24:20.971Z"
   },
   {
    "duration": 39,
    "start_time": "2023-06-03T11:24:20.998Z"
   },
   {
    "duration": 7,
    "start_time": "2023-06-03T11:24:21.041Z"
   },
   {
    "duration": 19,
    "start_time": "2023-06-03T11:24:21.050Z"
   },
   {
    "duration": 28,
    "start_time": "2023-06-03T11:24:21.071Z"
   },
   {
    "duration": 14,
    "start_time": "2023-06-03T11:24:21.101Z"
   },
   {
    "duration": 44,
    "start_time": "2023-06-03T11:24:21.117Z"
   },
   {
    "duration": 202,
    "start_time": "2023-06-03T11:24:21.163Z"
   },
   {
    "duration": 9,
    "start_time": "2023-06-03T11:24:21.367Z"
   },
   {
    "duration": 208,
    "start_time": "2023-06-03T11:24:21.378Z"
   },
   {
    "duration": 9,
    "start_time": "2023-06-03T11:24:21.588Z"
   },
   {
    "duration": 315,
    "start_time": "2023-06-03T11:24:21.599Z"
   },
   {
    "duration": 189,
    "start_time": "2023-06-03T11:24:21.915Z"
   },
   {
    "duration": 9,
    "start_time": "2023-06-03T11:24:22.107Z"
   },
   {
    "duration": 289,
    "start_time": "2023-06-03T11:24:22.117Z"
   },
   {
    "duration": 10,
    "start_time": "2023-06-03T11:24:22.408Z"
   },
   {
    "duration": 303,
    "start_time": "2023-06-03T11:24:22.420Z"
   },
   {
    "duration": 5,
    "start_time": "2023-06-03T11:24:22.725Z"
   },
   {
    "duration": 826,
    "start_time": "2023-06-03T11:24:22.731Z"
   },
   {
    "duration": 10,
    "start_time": "2023-06-03T11:24:23.558Z"
   },
   {
    "duration": 12,
    "start_time": "2023-06-03T11:24:23.570Z"
   },
   {
    "duration": 5,
    "start_time": "2023-06-03T11:24:23.584Z"
   },
   {
    "duration": 320,
    "start_time": "2023-06-03T11:24:23.590Z"
   },
   {
    "duration": 10,
    "start_time": "2023-06-03T11:24:23.912Z"
   },
   {
    "duration": 22,
    "start_time": "2023-06-03T11:24:23.923Z"
   },
   {
    "duration": 41,
    "start_time": "2023-06-03T11:24:23.947Z"
   },
   {
    "duration": 416,
    "start_time": "2023-06-03T11:24:23.989Z"
   },
   {
    "duration": 36,
    "start_time": "2023-06-03T11:24:24.406Z"
   },
   {
    "duration": 258,
    "start_time": "2023-06-03T11:24:24.444Z"
   },
   {
    "duration": 239,
    "start_time": "2023-06-03T11:24:24.705Z"
   },
   {
    "duration": 6,
    "start_time": "2023-06-03T11:24:24.946Z"
   },
   {
    "duration": 143,
    "start_time": "2023-06-03T11:24:24.959Z"
   },
   {
    "duration": 8,
    "start_time": "2023-06-03T11:24:25.104Z"
   },
   {
    "duration": 29,
    "start_time": "2023-06-03T11:24:25.113Z"
   },
   {
    "duration": 1064,
    "start_time": "2023-06-03T13:52:17.321Z"
   },
   {
    "duration": 29,
    "start_time": "2023-06-03T13:52:18.387Z"
   },
   {
    "duration": 33,
    "start_time": "2023-06-03T13:52:18.418Z"
   },
   {
    "duration": 17,
    "start_time": "2023-06-03T13:52:18.453Z"
   },
   {
    "duration": 10,
    "start_time": "2023-06-03T13:52:18.472Z"
   },
   {
    "duration": 4,
    "start_time": "2023-06-03T13:52:18.483Z"
   },
   {
    "duration": 10,
    "start_time": "2023-06-03T13:52:18.488Z"
   },
   {
    "duration": 17,
    "start_time": "2023-06-03T13:52:18.499Z"
   },
   {
    "duration": 10,
    "start_time": "2023-06-03T13:52:18.517Z"
   },
   {
    "duration": 10,
    "start_time": "2023-06-03T13:52:18.528Z"
   },
   {
    "duration": 14,
    "start_time": "2023-06-03T13:52:18.540Z"
   },
   {
    "duration": 14,
    "start_time": "2023-06-03T13:52:18.556Z"
   },
   {
    "duration": 6,
    "start_time": "2023-06-03T13:52:18.572Z"
   },
   {
    "duration": 37,
    "start_time": "2023-06-03T13:52:18.581Z"
   },
   {
    "duration": 9,
    "start_time": "2023-06-03T13:52:18.620Z"
   },
   {
    "duration": 11,
    "start_time": "2023-06-03T13:52:18.631Z"
   },
   {
    "duration": 14,
    "start_time": "2023-06-03T13:52:18.645Z"
   },
   {
    "duration": 17,
    "start_time": "2023-06-03T13:52:18.660Z"
   },
   {
    "duration": 4,
    "start_time": "2023-06-03T13:52:18.678Z"
   },
   {
    "duration": 6,
    "start_time": "2023-06-03T13:52:18.684Z"
   },
   {
    "duration": 30,
    "start_time": "2023-06-03T13:52:18.691Z"
   },
   {
    "duration": 7,
    "start_time": "2023-06-03T13:52:18.723Z"
   },
   {
    "duration": 22,
    "start_time": "2023-06-03T13:52:18.731Z"
   },
   {
    "duration": 12,
    "start_time": "2023-06-03T13:52:18.754Z"
   },
   {
    "duration": 16,
    "start_time": "2023-06-03T13:52:18.767Z"
   },
   {
    "duration": 7,
    "start_time": "2023-06-03T13:52:18.784Z"
   },
   {
    "duration": 6,
    "start_time": "2023-06-03T13:52:18.815Z"
   },
   {
    "duration": 151,
    "start_time": "2023-06-03T13:52:18.823Z"
   },
   {
    "duration": 5,
    "start_time": "2023-06-03T13:52:18.975Z"
   },
   {
    "duration": 16,
    "start_time": "2023-06-03T13:52:18.982Z"
   },
   {
    "duration": 10,
    "start_time": "2023-06-03T13:52:18.999Z"
   },
   {
    "duration": 15,
    "start_time": "2023-06-03T13:52:19.011Z"
   },
   {
    "duration": 8,
    "start_time": "2023-06-03T13:52:19.027Z"
   },
   {
    "duration": 152,
    "start_time": "2023-06-03T13:52:19.037Z"
   },
   {
    "duration": 8,
    "start_time": "2023-06-03T13:52:19.191Z"
   },
   {
    "duration": 33,
    "start_time": "2023-06-03T13:52:19.201Z"
   },
   {
    "duration": 173,
    "start_time": "2023-06-03T13:52:19.236Z"
   },
   {
    "duration": 12,
    "start_time": "2023-06-03T13:52:19.411Z"
   },
   {
    "duration": 233,
    "start_time": "2023-06-03T13:52:19.425Z"
   },
   {
    "duration": 10,
    "start_time": "2023-06-03T13:52:19.660Z"
   },
   {
    "duration": 15,
    "start_time": "2023-06-03T13:52:19.674Z"
   },
   {
    "duration": 27,
    "start_time": "2023-06-03T13:52:19.690Z"
   },
   {
    "duration": 28,
    "start_time": "2023-06-03T13:52:19.719Z"
   },
   {
    "duration": 10,
    "start_time": "2023-06-03T13:52:19.749Z"
   },
   {
    "duration": 10,
    "start_time": "2023-06-03T13:52:19.763Z"
   },
   {
    "duration": 32,
    "start_time": "2023-06-03T13:52:19.774Z"
   },
   {
    "duration": 52,
    "start_time": "2023-06-03T13:52:19.808Z"
   },
   {
    "duration": 11,
    "start_time": "2023-06-03T13:52:19.863Z"
   },
   {
    "duration": 21,
    "start_time": "2023-06-03T13:52:19.875Z"
   },
   {
    "duration": 25,
    "start_time": "2023-06-03T13:52:19.898Z"
   },
   {
    "duration": 9,
    "start_time": "2023-06-03T13:52:19.928Z"
   },
   {
    "duration": 28,
    "start_time": "2023-06-03T13:52:19.939Z"
   },
   {
    "duration": 192,
    "start_time": "2023-06-03T13:52:19.968Z"
   },
   {
    "duration": 9,
    "start_time": "2023-06-03T13:52:20.161Z"
   },
   {
    "duration": 175,
    "start_time": "2023-06-03T13:52:20.171Z"
   },
   {
    "duration": 13,
    "start_time": "2023-06-03T13:52:20.347Z"
   },
   {
    "duration": 287,
    "start_time": "2023-06-03T13:52:20.362Z"
   },
   {
    "duration": 141,
    "start_time": "2023-06-03T13:52:20.651Z"
   },
   {
    "duration": 8,
    "start_time": "2023-06-03T13:52:20.794Z"
   },
   {
    "duration": 211,
    "start_time": "2023-06-03T13:52:20.821Z"
   },
   {
    "duration": 9,
    "start_time": "2023-06-03T13:52:21.033Z"
   },
   {
    "duration": 334,
    "start_time": "2023-06-03T13:52:21.044Z"
   },
   {
    "duration": 3,
    "start_time": "2023-06-03T13:52:21.379Z"
   },
   {
    "duration": 944,
    "start_time": "2023-06-03T13:52:21.384Z"
   },
   {
    "duration": 9,
    "start_time": "2023-06-03T13:52:22.330Z"
   },
   {
    "duration": 34,
    "start_time": "2023-06-03T13:52:22.340Z"
   },
   {
    "duration": 31,
    "start_time": "2023-06-03T13:52:22.376Z"
   },
   {
    "duration": 290,
    "start_time": "2023-06-03T13:52:22.409Z"
   },
   {
    "duration": 8,
    "start_time": "2023-06-03T13:52:22.701Z"
   },
   {
    "duration": 34,
    "start_time": "2023-06-03T13:52:22.716Z"
   },
   {
    "duration": 19,
    "start_time": "2023-06-03T13:52:22.752Z"
   },
   {
    "duration": 68,
    "start_time": "2023-06-03T13:52:22.773Z"
   },
   {
    "duration": 35,
    "start_time": "2023-06-03T13:52:22.843Z"
   },
   {
    "duration": 229,
    "start_time": "2023-06-03T13:52:22.879Z"
   },
   {
    "duration": 212,
    "start_time": "2023-06-03T13:52:23.109Z"
   },
   {
    "duration": 7,
    "start_time": "2023-06-03T13:52:23.323Z"
   },
   {
    "duration": 122,
    "start_time": "2023-06-03T13:52:23.332Z"
   },
   {
    "duration": 7,
    "start_time": "2023-06-03T13:52:23.456Z"
   },
   {
    "duration": 14,
    "start_time": "2023-06-03T13:52:23.464Z"
   },
   {
    "duration": 18,
    "start_time": "2023-06-03T13:53:49.649Z"
   },
   {
    "duration": 14,
    "start_time": "2023-06-03T13:53:52.141Z"
   },
   {
    "duration": 101,
    "start_time": "2023-06-03T13:56:26.239Z"
   },
   {
    "duration": 86,
    "start_time": "2023-06-03T13:56:31.829Z"
   },
   {
    "duration": 6,
    "start_time": "2023-06-03T13:58:47.499Z"
   },
   {
    "duration": 6,
    "start_time": "2023-06-03T14:03:25.107Z"
   },
   {
    "duration": 7,
    "start_time": "2023-06-03T14:03:38.246Z"
   },
   {
    "duration": 51,
    "start_time": "2023-06-03T14:23:28.385Z"
   },
   {
    "duration": 1260,
    "start_time": "2023-06-03T14:23:40.903Z"
   },
   {
    "duration": 77,
    "start_time": "2023-06-03T14:23:42.165Z"
   },
   {
    "duration": 64,
    "start_time": "2023-06-03T14:23:42.243Z"
   },
   {
    "duration": 54,
    "start_time": "2023-06-03T14:23:42.309Z"
   },
   {
    "duration": 11,
    "start_time": "2023-06-03T14:23:42.365Z"
   },
   {
    "duration": 5,
    "start_time": "2023-06-03T14:23:42.378Z"
   },
   {
    "duration": 12,
    "start_time": "2023-06-03T14:23:42.384Z"
   },
   {
    "duration": 9,
    "start_time": "2023-06-03T14:23:42.398Z"
   },
   {
    "duration": 11,
    "start_time": "2023-06-03T14:23:42.408Z"
   },
   {
    "duration": 6,
    "start_time": "2023-06-03T14:23:42.422Z"
   },
   {
    "duration": 21,
    "start_time": "2023-06-03T14:23:42.429Z"
   },
   {
    "duration": 7,
    "start_time": "2023-06-03T14:23:42.452Z"
   },
   {
    "duration": 5,
    "start_time": "2023-06-03T14:23:42.460Z"
   },
   {
    "duration": 8,
    "start_time": "2023-06-03T14:23:42.466Z"
   },
   {
    "duration": 9,
    "start_time": "2023-06-03T14:23:42.476Z"
   },
   {
    "duration": 7,
    "start_time": "2023-06-03T14:23:42.486Z"
   },
   {
    "duration": 7,
    "start_time": "2023-06-03T14:23:42.494Z"
   },
   {
    "duration": 22,
    "start_time": "2023-06-03T14:23:42.502Z"
   },
   {
    "duration": 23,
    "start_time": "2023-06-03T14:23:42.525Z"
   },
   {
    "duration": 6,
    "start_time": "2023-06-03T14:23:42.550Z"
   },
   {
    "duration": 12,
    "start_time": "2023-06-03T14:23:42.557Z"
   },
   {
    "duration": 4,
    "start_time": "2023-06-03T14:23:42.570Z"
   },
   {
    "duration": 18,
    "start_time": "2023-06-03T14:23:42.575Z"
   },
   {
    "duration": 5,
    "start_time": "2023-06-03T14:23:42.594Z"
   },
   {
    "duration": 18,
    "start_time": "2023-06-03T14:23:42.600Z"
   },
   {
    "duration": 8,
    "start_time": "2023-06-03T14:23:42.619Z"
   },
   {
    "duration": 4,
    "start_time": "2023-06-03T14:23:42.628Z"
   },
   {
    "duration": 149,
    "start_time": "2023-06-03T14:23:42.635Z"
   },
   {
    "duration": 7,
    "start_time": "2023-06-03T14:23:42.785Z"
   },
   {
    "duration": 7,
    "start_time": "2023-06-03T14:23:42.793Z"
   },
   {
    "duration": 88,
    "start_time": "2023-06-03T14:23:42.801Z"
   },
   {
    "duration": 7,
    "start_time": "2023-06-03T14:23:42.891Z"
   },
   {
    "duration": 19,
    "start_time": "2023-06-03T14:23:42.899Z"
   },
   {
    "duration": 139,
    "start_time": "2023-06-03T14:23:42.919Z"
   },
   {
    "duration": 9,
    "start_time": "2023-06-03T14:23:43.060Z"
   },
   {
    "duration": 13,
    "start_time": "2023-06-03T14:23:43.070Z"
   },
   {
    "duration": 157,
    "start_time": "2023-06-03T14:23:43.085Z"
   },
   {
    "duration": 7,
    "start_time": "2023-06-03T14:23:43.244Z"
   },
   {
    "duration": 167,
    "start_time": "2023-06-03T14:23:43.252Z"
   },
   {
    "duration": 10,
    "start_time": "2023-06-03T14:23:43.420Z"
   },
   {
    "duration": 12,
    "start_time": "2023-06-03T14:23:43.431Z"
   },
   {
    "duration": 12,
    "start_time": "2023-06-03T14:23:43.444Z"
   },
   {
    "duration": 18,
    "start_time": "2023-06-03T14:23:43.458Z"
   },
   {
    "duration": 8,
    "start_time": "2023-06-03T14:23:43.478Z"
   },
   {
    "duration": 29,
    "start_time": "2023-06-03T14:23:43.488Z"
   },
   {
    "duration": 14,
    "start_time": "2023-06-03T14:23:43.519Z"
   },
   {
    "duration": 31,
    "start_time": "2023-06-03T14:23:43.535Z"
   },
   {
    "duration": 6,
    "start_time": "2023-06-03T14:23:43.568Z"
   },
   {
    "duration": 7,
    "start_time": "2023-06-03T14:23:43.576Z"
   },
   {
    "duration": 46,
    "start_time": "2023-06-03T14:23:43.584Z"
   },
   {
    "duration": 9,
    "start_time": "2023-06-03T14:23:43.632Z"
   },
   {
    "duration": 18,
    "start_time": "2023-06-03T14:23:43.642Z"
   },
   {
    "duration": 164,
    "start_time": "2023-06-03T14:23:43.661Z"
   },
   {
    "duration": 7,
    "start_time": "2023-06-03T14:23:43.827Z"
   },
   {
    "duration": 173,
    "start_time": "2023-06-03T14:23:43.835Z"
   },
   {
    "duration": 7,
    "start_time": "2023-06-03T14:23:44.015Z"
   },
   {
    "duration": 247,
    "start_time": "2023-06-03T14:23:44.024Z"
   },
   {
    "duration": 197,
    "start_time": "2023-06-03T14:23:44.273Z"
   },
   {
    "duration": 7,
    "start_time": "2023-06-03T14:23:44.471Z"
   },
   {
    "duration": 156,
    "start_time": "2023-06-03T14:23:44.479Z"
   },
   {
    "duration": 8,
    "start_time": "2023-06-03T14:23:44.636Z"
   },
   {
    "duration": 249,
    "start_time": "2023-06-03T14:23:44.646Z"
   },
   {
    "duration": 4,
    "start_time": "2023-06-03T14:23:44.896Z"
   },
   {
    "duration": 948,
    "start_time": "2023-06-03T14:23:44.902Z"
   },
   {
    "duration": 8,
    "start_time": "2023-06-03T14:23:45.852Z"
   },
   {
    "duration": 11,
    "start_time": "2023-06-03T14:23:45.862Z"
   },
   {
    "duration": 5,
    "start_time": "2023-06-03T14:23:45.874Z"
   },
   {
    "duration": 304,
    "start_time": "2023-06-03T14:23:45.880Z"
   },
   {
    "duration": 8,
    "start_time": "2023-06-03T14:23:46.186Z"
   },
   {
    "duration": 13,
    "start_time": "2023-06-03T14:23:46.195Z"
   },
   {
    "duration": 3,
    "start_time": "2023-06-03T14:23:46.216Z"
   },
   {
    "duration": 40,
    "start_time": "2023-06-03T14:23:46.220Z"
   },
   {
    "duration": 29,
    "start_time": "2023-06-03T14:23:46.261Z"
   },
   {
    "duration": 233,
    "start_time": "2023-06-03T14:23:46.291Z"
   },
   {
    "duration": 271,
    "start_time": "2023-06-03T14:23:46.525Z"
   },
   {
    "duration": 6,
    "start_time": "2023-06-03T14:23:46.798Z"
   },
   {
    "duration": 124,
    "start_time": "2023-06-03T14:23:46.806Z"
   },
   {
    "duration": 5,
    "start_time": "2023-06-03T14:23:46.932Z"
   },
   {
    "duration": 12,
    "start_time": "2023-06-03T14:23:46.939Z"
   },
   {
    "duration": 90,
    "start_time": "2023-06-03T14:25:05.071Z"
   },
   {
    "duration": 5,
    "start_time": "2023-06-03T14:34:22.242Z"
   },
   {
    "duration": 18,
    "start_time": "2023-06-03T14:34:46.015Z"
   },
   {
    "duration": 5,
    "start_time": "2023-06-03T14:37:23.608Z"
   },
   {
    "duration": 1092,
    "start_time": "2023-06-03T14:37:58.079Z"
   },
   {
    "duration": 31,
    "start_time": "2023-06-03T14:37:59.172Z"
   },
   {
    "duration": 34,
    "start_time": "2023-06-03T14:37:59.206Z"
   },
   {
    "duration": 17,
    "start_time": "2023-06-03T14:37:59.242Z"
   },
   {
    "duration": 16,
    "start_time": "2023-06-03T14:37:59.261Z"
   },
   {
    "duration": 10,
    "start_time": "2023-06-03T14:37:59.278Z"
   },
   {
    "duration": 18,
    "start_time": "2023-06-03T14:37:59.289Z"
   },
   {
    "duration": 13,
    "start_time": "2023-06-03T14:37:59.309Z"
   },
   {
    "duration": 26,
    "start_time": "2023-06-03T14:37:59.324Z"
   },
   {
    "duration": 18,
    "start_time": "2023-06-03T14:37:59.352Z"
   },
   {
    "duration": 23,
    "start_time": "2023-06-03T14:37:59.371Z"
   },
   {
    "duration": 8,
    "start_time": "2023-06-03T14:37:59.396Z"
   },
   {
    "duration": 5,
    "start_time": "2023-06-03T14:37:59.405Z"
   },
   {
    "duration": 12,
    "start_time": "2023-06-03T14:37:59.411Z"
   },
   {
    "duration": 13,
    "start_time": "2023-06-03T14:37:59.425Z"
   },
   {
    "duration": 17,
    "start_time": "2023-06-03T14:37:59.440Z"
   },
   {
    "duration": 11,
    "start_time": "2023-06-03T14:37:59.458Z"
   },
   {
    "duration": 8,
    "start_time": "2023-06-03T14:37:59.471Z"
   },
   {
    "duration": 15,
    "start_time": "2023-06-03T14:37:59.480Z"
   },
   {
    "duration": 9,
    "start_time": "2023-06-03T14:37:59.496Z"
   },
   {
    "duration": 22,
    "start_time": "2023-06-03T14:37:59.506Z"
   },
   {
    "duration": 5,
    "start_time": "2023-06-03T14:37:59.530Z"
   },
   {
    "duration": 23,
    "start_time": "2023-06-03T14:37:59.537Z"
   },
   {
    "duration": 5,
    "start_time": "2023-06-03T14:37:59.562Z"
   },
   {
    "duration": 16,
    "start_time": "2023-06-03T14:37:59.569Z"
   },
   {
    "duration": 28,
    "start_time": "2023-06-03T14:37:59.587Z"
   },
   {
    "duration": 5,
    "start_time": "2023-06-03T14:37:59.617Z"
   },
   {
    "duration": 142,
    "start_time": "2023-06-03T14:37:59.628Z"
   },
   {
    "duration": 5,
    "start_time": "2023-06-03T14:37:59.772Z"
   },
   {
    "duration": 9,
    "start_time": "2023-06-03T14:37:59.779Z"
   },
   {
    "duration": 95,
    "start_time": "2023-06-03T14:37:59.790Z"
   },
   {
    "duration": 7,
    "start_time": "2023-06-03T14:37:59.886Z"
   },
   {
    "duration": 23,
    "start_time": "2023-06-03T14:37:59.894Z"
   },
   {
    "duration": 135,
    "start_time": "2023-06-03T14:37:59.918Z"
   },
   {
    "duration": 9,
    "start_time": "2023-06-03T14:38:00.054Z"
   },
   {
    "duration": 41,
    "start_time": "2023-06-03T14:38:00.064Z"
   },
   {
    "duration": 159,
    "start_time": "2023-06-03T14:38:00.106Z"
   },
   {
    "duration": 9,
    "start_time": "2023-06-03T14:38:00.267Z"
   },
   {
    "duration": 183,
    "start_time": "2023-06-03T14:38:00.278Z"
   },
   {
    "duration": 10,
    "start_time": "2023-06-03T14:38:00.462Z"
   },
   {
    "duration": 38,
    "start_time": "2023-06-03T14:38:00.474Z"
   },
   {
    "duration": 58,
    "start_time": "2023-06-03T14:38:00.514Z"
   },
   {
    "duration": 70,
    "start_time": "2023-06-03T14:38:00.574Z"
   },
   {
    "duration": 36,
    "start_time": "2023-06-03T14:38:00.646Z"
   },
   {
    "duration": 31,
    "start_time": "2023-06-03T14:38:00.684Z"
   },
   {
    "duration": 51,
    "start_time": "2023-06-03T14:38:00.717Z"
   },
   {
    "duration": 51,
    "start_time": "2023-06-03T14:38:00.770Z"
   },
   {
    "duration": 6,
    "start_time": "2023-06-03T14:38:00.823Z"
   },
   {
    "duration": 47,
    "start_time": "2023-06-03T14:38:00.830Z"
   },
   {
    "duration": 51,
    "start_time": "2023-06-03T14:38:00.879Z"
   },
   {
    "duration": 32,
    "start_time": "2023-06-03T14:38:00.932Z"
   },
   {
    "duration": 57,
    "start_time": "2023-06-03T14:38:00.965Z"
   },
   {
    "duration": 154,
    "start_time": "2023-06-03T14:38:01.024Z"
   },
   {
    "duration": 7,
    "start_time": "2023-06-03T14:38:01.180Z"
   },
   {
    "duration": 170,
    "start_time": "2023-06-03T14:38:01.189Z"
   },
   {
    "duration": 7,
    "start_time": "2023-06-03T14:38:01.360Z"
   },
   {
    "duration": 309,
    "start_time": "2023-06-03T14:38:01.369Z"
   },
   {
    "duration": 267,
    "start_time": "2023-06-03T14:38:01.680Z"
   },
   {
    "duration": 10,
    "start_time": "2023-06-03T14:38:01.949Z"
   },
   {
    "duration": 167,
    "start_time": "2023-06-03T14:38:01.961Z"
   },
   {
    "duration": 9,
    "start_time": "2023-06-03T14:38:02.129Z"
   },
   {
    "duration": 251,
    "start_time": "2023-06-03T14:38:02.139Z"
   },
   {
    "duration": 4,
    "start_time": "2023-06-03T14:38:02.392Z"
   },
   {
    "duration": 841,
    "start_time": "2023-06-03T14:38:02.397Z"
   },
   {
    "duration": 9,
    "start_time": "2023-06-03T14:38:03.239Z"
   },
   {
    "duration": 35,
    "start_time": "2023-06-03T14:38:03.249Z"
   },
   {
    "duration": 20,
    "start_time": "2023-06-03T14:38:03.286Z"
   },
   {
    "duration": 271,
    "start_time": "2023-06-03T14:38:03.308Z"
   },
   {
    "duration": 8,
    "start_time": "2023-06-03T14:38:03.581Z"
   },
   {
    "duration": 21,
    "start_time": "2023-06-03T14:38:03.590Z"
   },
   {
    "duration": 18,
    "start_time": "2023-06-03T14:38:03.613Z"
   },
   {
    "duration": 40,
    "start_time": "2023-06-03T14:38:03.633Z"
   },
   {
    "duration": 37,
    "start_time": "2023-06-03T14:38:03.674Z"
   },
   {
    "duration": 237,
    "start_time": "2023-06-03T14:38:03.713Z"
   },
   {
    "duration": 204,
    "start_time": "2023-06-03T14:38:03.952Z"
   },
   {
    "duration": 6,
    "start_time": "2023-06-03T14:38:04.157Z"
   },
   {
    "duration": 116,
    "start_time": "2023-06-03T14:38:04.164Z"
   },
   {
    "duration": 5,
    "start_time": "2023-06-03T14:38:04.281Z"
   },
   {
    "duration": 12,
    "start_time": "2023-06-03T14:38:04.288Z"
   },
   {
    "duration": 8,
    "start_time": "2023-06-03T14:41:03.350Z"
   },
   {
    "duration": 7,
    "start_time": "2023-06-03T14:41:19.876Z"
   },
   {
    "duration": 7,
    "start_time": "2023-06-03T14:41:57.342Z"
   },
   {
    "duration": 1001,
    "start_time": "2023-06-04T12:27:45.636Z"
   },
   {
    "duration": 27,
    "start_time": "2023-06-04T12:27:46.639Z"
   },
   {
    "duration": 23,
    "start_time": "2023-06-04T12:27:46.668Z"
   },
   {
    "duration": 15,
    "start_time": "2023-06-04T12:27:46.693Z"
   },
   {
    "duration": 11,
    "start_time": "2023-06-04T12:27:46.709Z"
   },
   {
    "duration": 4,
    "start_time": "2023-06-04T12:27:46.721Z"
   },
   {
    "duration": 12,
    "start_time": "2023-06-04T12:27:46.726Z"
   },
   {
    "duration": 9,
    "start_time": "2023-06-04T12:27:46.739Z"
   },
   {
    "duration": 13,
    "start_time": "2023-06-04T12:27:46.750Z"
   },
   {
    "duration": 5,
    "start_time": "2023-06-04T12:27:46.765Z"
   },
   {
    "duration": 12,
    "start_time": "2023-06-04T12:27:46.771Z"
   },
   {
    "duration": 22,
    "start_time": "2023-06-04T12:27:46.784Z"
   },
   {
    "duration": 4,
    "start_time": "2023-06-04T12:27:46.808Z"
   },
   {
    "duration": 19,
    "start_time": "2023-06-04T12:27:46.813Z"
   },
   {
    "duration": 6,
    "start_time": "2023-06-04T12:27:46.833Z"
   },
   {
    "duration": 4,
    "start_time": "2023-06-04T12:27:46.841Z"
   },
   {
    "duration": 10,
    "start_time": "2023-06-04T12:27:46.847Z"
   },
   {
    "duration": 6,
    "start_time": "2023-06-04T12:27:46.859Z"
   },
   {
    "duration": 5,
    "start_time": "2023-06-04T12:27:46.866Z"
   },
   {
    "duration": 7,
    "start_time": "2023-06-04T12:27:46.872Z"
   },
   {
    "duration": 34,
    "start_time": "2023-06-04T12:27:46.880Z"
   },
   {
    "duration": 4,
    "start_time": "2023-06-04T12:27:46.915Z"
   },
   {
    "duration": 15,
    "start_time": "2023-06-04T12:27:46.920Z"
   },
   {
    "duration": 4,
    "start_time": "2023-06-04T12:27:46.937Z"
   },
   {
    "duration": 15,
    "start_time": "2023-06-04T12:27:46.942Z"
   },
   {
    "duration": 7,
    "start_time": "2023-06-04T12:27:46.958Z"
   },
   {
    "duration": 5,
    "start_time": "2023-06-04T12:27:46.966Z"
   },
   {
    "duration": 154,
    "start_time": "2023-06-04T12:27:46.974Z"
   },
   {
    "duration": 5,
    "start_time": "2023-06-04T12:27:47.130Z"
   },
   {
    "duration": 9,
    "start_time": "2023-06-04T12:27:47.136Z"
   },
   {
    "duration": 79,
    "start_time": "2023-06-04T12:27:47.146Z"
   },
   {
    "duration": 7,
    "start_time": "2023-06-04T12:27:47.226Z"
   },
   {
    "duration": 7,
    "start_time": "2023-06-04T12:27:47.234Z"
   },
   {
    "duration": 133,
    "start_time": "2023-06-04T12:27:47.243Z"
   },
   {
    "duration": 7,
    "start_time": "2023-06-04T12:27:47.378Z"
   },
   {
    "duration": 9,
    "start_time": "2023-06-04T12:27:47.386Z"
   },
   {
    "duration": 139,
    "start_time": "2023-06-04T12:27:47.406Z"
   },
   {
    "duration": 7,
    "start_time": "2023-06-04T12:27:47.547Z"
   },
   {
    "duration": 162,
    "start_time": "2023-06-04T12:27:47.556Z"
   },
   {
    "duration": 8,
    "start_time": "2023-06-04T12:27:47.720Z"
   },
   {
    "duration": 16,
    "start_time": "2023-06-04T12:27:47.730Z"
   },
   {
    "duration": 10,
    "start_time": "2023-06-04T12:27:47.747Z"
   },
   {
    "duration": 17,
    "start_time": "2023-06-04T12:27:47.758Z"
   },
   {
    "duration": 7,
    "start_time": "2023-06-04T12:27:47.776Z"
   },
   {
    "duration": 4,
    "start_time": "2023-06-04T12:27:47.806Z"
   },
   {
    "duration": 21,
    "start_time": "2023-06-04T12:27:47.811Z"
   },
   {
    "duration": 28,
    "start_time": "2023-06-04T12:27:47.834Z"
   },
   {
    "duration": 6,
    "start_time": "2023-06-04T12:27:47.863Z"
   },
   {
    "duration": 22,
    "start_time": "2023-06-04T12:27:47.870Z"
   },
   {
    "duration": 22,
    "start_time": "2023-06-04T12:27:47.893Z"
   },
   {
    "duration": 12,
    "start_time": "2023-06-04T12:27:47.917Z"
   },
   {
    "duration": 21,
    "start_time": "2023-06-04T12:27:47.930Z"
   },
   {
    "duration": 148,
    "start_time": "2023-06-04T12:27:47.952Z"
   },
   {
    "duration": 10,
    "start_time": "2023-06-04T12:27:48.102Z"
   },
   {
    "duration": 157,
    "start_time": "2023-06-04T12:27:48.113Z"
   },
   {
    "duration": 8,
    "start_time": "2023-06-04T12:27:48.271Z"
   },
   {
    "duration": 248,
    "start_time": "2023-06-04T12:27:48.280Z"
   },
   {
    "duration": 199,
    "start_time": "2023-06-04T12:27:48.530Z"
   },
   {
    "duration": 7,
    "start_time": "2023-06-04T12:27:48.730Z"
   },
   {
    "duration": 151,
    "start_time": "2023-06-04T12:27:48.738Z"
   },
   {
    "duration": 16,
    "start_time": "2023-06-04T12:27:48.891Z"
   },
   {
    "duration": 240,
    "start_time": "2023-06-04T12:27:48.908Z"
   },
   {
    "duration": 3,
    "start_time": "2023-06-04T12:27:49.150Z"
   },
   {
    "duration": 691,
    "start_time": "2023-06-04T12:27:49.154Z"
   },
   {
    "duration": 8,
    "start_time": "2023-06-04T12:27:49.847Z"
   },
   {
    "duration": 33,
    "start_time": "2023-06-04T12:27:49.856Z"
   },
   {
    "duration": 28,
    "start_time": "2023-06-04T12:27:49.891Z"
   },
   {
    "duration": 285,
    "start_time": "2023-06-04T12:27:49.921Z"
   },
   {
    "duration": 8,
    "start_time": "2023-06-04T12:27:50.208Z"
   },
   {
    "duration": 46,
    "start_time": "2023-06-04T12:27:50.218Z"
   },
   {
    "duration": 11,
    "start_time": "2023-06-04T12:27:50.266Z"
   },
   {
    "duration": 29,
    "start_time": "2023-06-04T12:27:50.278Z"
   },
   {
    "duration": 31,
    "start_time": "2023-06-04T12:27:50.309Z"
   },
   {
    "duration": 224,
    "start_time": "2023-06-04T12:27:50.341Z"
   },
   {
    "duration": 198,
    "start_time": "2023-06-04T12:27:50.566Z"
   },
   {
    "duration": 5,
    "start_time": "2023-06-04T12:27:50.766Z"
   },
   {
    "duration": 114,
    "start_time": "2023-06-04T12:27:50.773Z"
   },
   {
    "duration": 5,
    "start_time": "2023-06-04T12:27:50.889Z"
   },
   {
    "duration": 10,
    "start_time": "2023-06-04T12:27:50.906Z"
   }
  ],
  "kernelspec": {
   "display_name": "Python 3 (ipykernel)",
   "language": "python",
   "name": "python3"
  },
  "language_info": {
   "codemirror_mode": {
    "name": "ipython",
    "version": 3
   },
   "file_extension": ".py",
   "mimetype": "text/x-python",
   "name": "python",
   "nbconvert_exporter": "python",
   "pygments_lexer": "ipython3",
   "version": "3.9.5"
  },
  "toc": {
   "base_numbering": 1,
   "nav_menu": {
    "height": "160px",
    "width": "367.5px"
   },
   "number_sections": true,
   "sideBar": true,
   "skip_h1_title": true,
   "title_cell": "Содержание",
   "title_sidebar": "Contents",
   "toc_cell": true,
   "toc_position": {
    "height": "calc(100% - 180px)",
    "left": "10px",
    "top": "150px",
    "width": "328.496px"
   },
   "toc_section_display": true,
   "toc_window_display": true
  }
 },
 "nbformat": 4,
 "nbformat_minor": 5
}
