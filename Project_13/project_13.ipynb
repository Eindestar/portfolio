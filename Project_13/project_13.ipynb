{
 "cells": [
  {
   "cell_type": "markdown",
   "metadata": {
    "toc": true
   },
   "source": [
    "<h1>Содержание<span class=\"tocSkip\"></span></h1>\n",
    "<div class=\"toc\"><ul class=\"toc-item\"><li><span><a href=\"#Подготовка\" data-toc-modified-id=\"Подготовка-1\"><span class=\"toc-item-num\">1&nbsp;&nbsp;</span>Подготовка</a></span><ul class=\"toc-item\"><li><span><a href=\"#загрузка-и-анализ-данных\" data-toc-modified-id=\"загрузка-и-анализ-данных-1.1\"><span class=\"toc-item-num\">1.1&nbsp;&nbsp;</span>загрузка и анализ данных</a></span></li><li><span><a href=\"#обработка--данных\" data-toc-modified-id=\"обработка--данных-1.2\"><span class=\"toc-item-num\">1.2&nbsp;&nbsp;</span>обработка  данных</a></span></li><li><span><a href=\"#подготовка--данных\" data-toc-modified-id=\"подготовка--данных-1.3\"><span class=\"toc-item-num\">1.3&nbsp;&nbsp;</span>подготовка  данных</a></span></li><li><span><a href=\"#Вывод\" data-toc-modified-id=\"Вывод-1.4\"><span class=\"toc-item-num\">1.4&nbsp;&nbsp;</span>Вывод</a></span></li></ul></li><li><span><a href=\"#Обучение\" data-toc-modified-id=\"Обучение-2\"><span class=\"toc-item-num\">2&nbsp;&nbsp;</span>Обучение</a></span><ul class=\"toc-item\"><li><span><a href=\"#модель-LogisticRegression\" data-toc-modified-id=\"модель-LogisticRegression-2.1\"><span class=\"toc-item-num\">2.1&nbsp;&nbsp;</span>модель LogisticRegression</a></span></li><li><span><a href=\"#модель-DecisionTreeClassifier\" data-toc-modified-id=\"модель-DecisionTreeClassifier-2.2\"><span class=\"toc-item-num\">2.2&nbsp;&nbsp;</span>модель DecisionTreeClassifier</a></span></li><li><span><a href=\"#модель-LGBMClassifier\" data-toc-modified-id=\"модель-LGBMClassifier-2.3\"><span class=\"toc-item-num\">2.3&nbsp;&nbsp;</span>модель LGBMClassifier</a></span></li></ul></li><li><span><a href=\"#Выводы\" data-toc-modified-id=\"Выводы-3\"><span class=\"toc-item-num\">3&nbsp;&nbsp;</span>Выводы</a></span></li></ul></div>"
   ]
  },
  {
   "cell_type": "markdown",
   "metadata": {},
   "source": [
    "# Проект для «Викишоп»"
   ]
  },
  {
   "cell_type": "markdown",
   "metadata": {},
   "source": [
    "**Описание исследования:**\n",
    "\n",
    "Интернет-магазин «Викишоп» запускает новый сервис. Теперь пользователи могут редактировать и дополнять описания товаров, как в вики-сообществах. То есть клиенты предлагают свои правки и комментируют изменения других. Магазину нужен инструмент, который будет искать токсичные комментарии и отправлять их на модерацию. \n",
    "\n",
    "**Цель исследования:**\n",
    "\n",
    "Обучите модель классифицировать комментарии на позитивные и негативные. В вашем распоряжении набор данных с разметкой о токсичности правок.\n",
    "\n",
    "Постройте модель со значением метрики качества *F1* не меньше 0.75. \n",
    "\n",
    "**Задачи исследования:**\n",
    "\n",
    "- 1) подготовить и обработать данные для обучения моделей\n",
    "- 2) выбрать и обучить несколько моделей.\n",
    "- 3) проанализировать результат и выбрать лучшую модель для дальнейшего использования в приложении\n",
    "\n",
    "Для выполнения проекта применять *BERT* необязательно, но вы можете попробовать.\n",
    "\n",
    "**Описание данных**\n",
    "\n",
    "Данные находятся в файле `toxic_comments.csv`. Столбец *text* в нём содержит текст комментария, а *toxic* — целевой признак."
   ]
  },
  {
   "cell_type": "markdown",
   "metadata": {},
   "source": [
    "## Подготовка"
   ]
  },
  {
   "cell_type": "markdown",
   "metadata": {},
   "source": [
    "### загрузка и анализ данных"
   ]
  },
  {
   "cell_type": "code",
   "execution_count": 1,
   "metadata": {},
   "outputs": [
    {
     "name": "stderr",
     "output_type": "stream",
     "text": [
      "[nltk_data] Downloading package stopwords to /home/jovyan/nltk_data...\n",
      "[nltk_data]   Package stopwords is already up-to-date!\n",
      "[nltk_data] Downloading package wordnet to /home/jovyan/nltk_data...\n",
      "[nltk_data]   Package wordnet is already up-to-date!\n",
      "[nltk_data] Downloading package punkt to /home/jovyan/nltk_data...\n",
      "[nltk_data]   Package punkt is already up-to-date!\n",
      "[nltk_data] Downloading package omw-1.4 to /home/jovyan/nltk_data...\n",
      "[nltk_data]   Package omw-1.4 is already up-to-date!\n",
      "[nltk_data] Downloading package averaged_perceptron_tagger to\n",
      "[nltk_data]     /home/jovyan/nltk_data...\n",
      "[nltk_data]   Package averaged_perceptron_tagger is already up-to-\n",
      "[nltk_data]       date!\n"
     ]
    }
   ],
   "source": [
    "import pandas as pd\n",
    "import numpy as np\n",
    "import nltk\n",
    "import re\n",
    "import matplotlib.pyplot as plt\n",
    "import time\n",
    "\n",
    "from tqdm import tqdm\n",
    "\n",
    "from sklearn.metrics import f1_score\n",
    "from sklearn.model_selection import train_test_split\n",
    "from sklearn.model_selection import GridSearchCV\n",
    "from sklearn.linear_model import LogisticRegression\n",
    "from sklearn.ensemble import RandomForestClassifier\n",
    "from sklearn.tree import DecisionTreeClassifier\n",
    "from lightgbm import LGBMClassifier\n",
    "from sklearn.svm import SVC\n",
    "from sklearn.feature_extraction.text import TfidfVectorizer\n",
    "from sklearn.feature_extraction.text import CountVectorizer\n",
    "from sklearn.model_selection import cross_val_score\n",
    "\n",
    "\n",
    "from nltk.corpus import stopwords\n",
    "from nltk.stem import WordNetLemmatizer \n",
    "from nltk.corpus import wordnet\n",
    "nltk.download('stopwords')\n",
    "nltk.download('wordnet')\n",
    "nltk.download('punkt')\n",
    "nltk.download('omw-1.4')\n",
    "nltk.download('averaged_perceptron_tagger')\n",
    "stop_words = stopwords.words('english')\n",
    "\n",
    "tqdm.pandas()"
   ]
  },
  {
   "cell_type": "code",
   "execution_count": 2,
   "metadata": {},
   "outputs": [],
   "source": [
    "#загрузим данные в data\n",
    "data=pd.read_csv('/datasets/toxic_comments.csv')"
   ]
  },
  {
   "cell_type": "code",
   "execution_count": 3,
   "metadata": {},
   "outputs": [
    {
     "name": "stdout",
     "output_type": "stream",
     "text": [
      "<class 'pandas.core.frame.DataFrame'>\n",
      "RangeIndex: 159292 entries, 0 to 159291\n",
      "Data columns (total 3 columns):\n",
      " #   Column      Non-Null Count   Dtype \n",
      "---  ------      --------------   ----- \n",
      " 0   Unnamed: 0  159292 non-null  int64 \n",
      " 1   text        159292 non-null  object\n",
      " 2   toxic       159292 non-null  int64 \n",
      "dtypes: int64(2), object(1)\n",
      "memory usage: 3.6+ MB\n"
     ]
    }
   ],
   "source": [
    "# получим общую информацию\n",
    "data.info()"
   ]
  },
  {
   "cell_type": "code",
   "execution_count": 4,
   "metadata": {},
   "outputs": [
    {
     "data": {
      "text/plain": [
       "(159292, 3)"
      ]
     },
     "execution_count": 4,
     "metadata": {},
     "output_type": "execute_result"
    }
   ],
   "source": [
    "data.shape"
   ]
  },
  {
   "cell_type": "code",
   "execution_count": 5,
   "metadata": {},
   "outputs": [
    {
     "data": {
      "text/html": [
       "<div>\n",
       "<style scoped>\n",
       "    .dataframe tbody tr th:only-of-type {\n",
       "        vertical-align: middle;\n",
       "    }\n",
       "\n",
       "    .dataframe tbody tr th {\n",
       "        vertical-align: top;\n",
       "    }\n",
       "\n",
       "    .dataframe thead th {\n",
       "        text-align: right;\n",
       "    }\n",
       "</style>\n",
       "<table border=\"1\" class=\"dataframe\">\n",
       "  <thead>\n",
       "    <tr style=\"text-align: right;\">\n",
       "      <th></th>\n",
       "      <th>Unnamed: 0</th>\n",
       "      <th>text</th>\n",
       "      <th>toxic</th>\n",
       "    </tr>\n",
       "  </thead>\n",
       "  <tbody>\n",
       "    <tr>\n",
       "      <th>0</th>\n",
       "      <td>0</td>\n",
       "      <td>Explanation\\nWhy the edits made under my usern...</td>\n",
       "      <td>0</td>\n",
       "    </tr>\n",
       "    <tr>\n",
       "      <th>1</th>\n",
       "      <td>1</td>\n",
       "      <td>D'aww! He matches this background colour I'm s...</td>\n",
       "      <td>0</td>\n",
       "    </tr>\n",
       "    <tr>\n",
       "      <th>2</th>\n",
       "      <td>2</td>\n",
       "      <td>Hey man, I'm really not trying to edit war. It...</td>\n",
       "      <td>0</td>\n",
       "    </tr>\n",
       "    <tr>\n",
       "      <th>3</th>\n",
       "      <td>3</td>\n",
       "      <td>\"\\nMore\\nI can't make any real suggestions on ...</td>\n",
       "      <td>0</td>\n",
       "    </tr>\n",
       "    <tr>\n",
       "      <th>4</th>\n",
       "      <td>4</td>\n",
       "      <td>You, sir, are my hero. Any chance you remember...</td>\n",
       "      <td>0</td>\n",
       "    </tr>\n",
       "  </tbody>\n",
       "</table>\n",
       "</div>"
      ],
      "text/plain": [
       "   Unnamed: 0                                               text  toxic\n",
       "0           0  Explanation\\nWhy the edits made under my usern...      0\n",
       "1           1  D'aww! He matches this background colour I'm s...      0\n",
       "2           2  Hey man, I'm really not trying to edit war. It...      0\n",
       "3           3  \"\\nMore\\nI can't make any real suggestions on ...      0\n",
       "4           4  You, sir, are my hero. Any chance you remember...      0"
      ]
     },
     "execution_count": 5,
     "metadata": {},
     "output_type": "execute_result"
    }
   ],
   "source": [
    "#посмотрим на начало и конец таблицы\n",
    "data.head()"
   ]
  },
  {
   "cell_type": "code",
   "execution_count": 6,
   "metadata": {},
   "outputs": [
    {
     "data": {
      "text/html": [
       "<div>\n",
       "<style scoped>\n",
       "    .dataframe tbody tr th:only-of-type {\n",
       "        vertical-align: middle;\n",
       "    }\n",
       "\n",
       "    .dataframe tbody tr th {\n",
       "        vertical-align: top;\n",
       "    }\n",
       "\n",
       "    .dataframe thead th {\n",
       "        text-align: right;\n",
       "    }\n",
       "</style>\n",
       "<table border=\"1\" class=\"dataframe\">\n",
       "  <thead>\n",
       "    <tr style=\"text-align: right;\">\n",
       "      <th></th>\n",
       "      <th>Unnamed: 0</th>\n",
       "      <th>text</th>\n",
       "      <th>toxic</th>\n",
       "    </tr>\n",
       "  </thead>\n",
       "  <tbody>\n",
       "    <tr>\n",
       "      <th>159287</th>\n",
       "      <td>159446</td>\n",
       "      <td>\":::::And for the second time of asking, when ...</td>\n",
       "      <td>0</td>\n",
       "    </tr>\n",
       "    <tr>\n",
       "      <th>159288</th>\n",
       "      <td>159447</td>\n",
       "      <td>You should be ashamed of yourself \\n\\nThat is ...</td>\n",
       "      <td>0</td>\n",
       "    </tr>\n",
       "    <tr>\n",
       "      <th>159289</th>\n",
       "      <td>159448</td>\n",
       "      <td>Spitzer \\n\\nUmm, theres no actual article for ...</td>\n",
       "      <td>0</td>\n",
       "    </tr>\n",
       "    <tr>\n",
       "      <th>159290</th>\n",
       "      <td>159449</td>\n",
       "      <td>And it looks like it was actually you who put ...</td>\n",
       "      <td>0</td>\n",
       "    </tr>\n",
       "    <tr>\n",
       "      <th>159291</th>\n",
       "      <td>159450</td>\n",
       "      <td>\"\\nAnd ... I really don't think you understand...</td>\n",
       "      <td>0</td>\n",
       "    </tr>\n",
       "  </tbody>\n",
       "</table>\n",
       "</div>"
      ],
      "text/plain": [
       "        Unnamed: 0                                               text  toxic\n",
       "159287      159446  \":::::And for the second time of asking, when ...      0\n",
       "159288      159447  You should be ashamed of yourself \\n\\nThat is ...      0\n",
       "159289      159448  Spitzer \\n\\nUmm, theres no actual article for ...      0\n",
       "159290      159449  And it looks like it was actually you who put ...      0\n",
       "159291      159450  \"\\nAnd ... I really don't think you understand...      0"
      ]
     },
     "execution_count": 6,
     "metadata": {},
     "output_type": "execute_result"
    }
   ],
   "source": [
    "data.tail()"
   ]
  },
  {
   "cell_type": "code",
   "execution_count": 7,
   "metadata": {},
   "outputs": [
    {
     "name": "stdout",
     "output_type": "stream",
     "text": [
      "Количество дубликатов = 0\n"
     ]
    }
   ],
   "source": [
    "# проверим наличие дубликатов\n",
    "print('Количество дубликатов =', data.duplicated().sum())"
   ]
  },
  {
   "cell_type": "code",
   "execution_count": 8,
   "metadata": {},
   "outputs": [
    {
     "name": "stdout",
     "output_type": "stream",
     "text": [
      "Количество пропусков = Unnamed: 0    0\n",
      "text          0\n",
      "toxic         0\n",
      "dtype: int64\n"
     ]
    }
   ],
   "source": [
    "#проверим налоичие пропусков\n",
    "print('Количество пропусков =', data.isna().sum())"
   ]
  },
  {
   "cell_type": "code",
   "execution_count": 9,
   "metadata": {},
   "outputs": [
    {
     "data": {
      "text/plain": [
       "0    143106\n",
       "1     16186\n",
       "Name: toxic, dtype: int64"
      ]
     },
     "execution_count": 9,
     "metadata": {},
     "output_type": "execute_result"
    }
   ],
   "source": [
    "#Посмотрим сколько у нас токсичных/нектоксичных текстов\n",
    "data['toxic'].value_counts()"
   ]
  },
  {
   "cell_type": "code",
   "execution_count": 10,
   "metadata": {},
   "outputs": [
    {
     "name": "stdout",
     "output_type": "stream",
     "text": [
      "отношение токсичный коментарием ко всем данным = [0.10161213]\n"
     ]
    }
   ],
   "source": [
    "#Выведем соотношение\n",
    "print('отношение токсичный коментарием ко всем данным =', data['toxic'].value_counts()[1] / data['toxic'].shape)\n"
   ]
  },
  {
   "cell_type": "markdown",
   "metadata": {},
   "source": [
    "вывод:\n",
    "\n",
    "- фаил data состоит из 3 столбцов и 159292 строк\n",
    "- в столбце text размещены комментарии на английском\n",
    "- в стобце toxic критерии 0 не токсичный коментарий, 1 - токсичный\n",
    "- столбец Unnamed: 0 - без названия, значения в нем обычные цифры больше похоже на индексное значение, данный фаил нужно удалить, не имеет никакого значения\n",
    "- в фаилах не обнаружено пропуском и дубликатов\n",
    "- отношение токсичных коментарием ко всем коментария составляет 10,16%\n",
    "- в коментария имеются странные значения \\n"
   ]
  },
  {
   "cell_type": "markdown",
   "metadata": {},
   "source": [
    "### обработка  данных"
   ]
  },
  {
   "cell_type": "markdown",
   "metadata": {},
   "source": [
    "в данном разделе проведем обработку данных, удалим не нужный столбец, очистим и лемматизируем текст."
   ]
  },
  {
   "cell_type": "code",
   "execution_count": 11,
   "metadata": {},
   "outputs": [],
   "source": [
    "#удалим столбец Unnamed:\n",
    "data = data.drop(['Unnamed: 0'], axis=1)"
   ]
  },
  {
   "cell_type": "code",
   "execution_count": 12,
   "metadata": {},
   "outputs": [
    {
     "name": "stdout",
     "output_type": "stream",
     "text": [
      "<class 'pandas.core.frame.DataFrame'>\n",
      "RangeIndex: 159292 entries, 0 to 159291\n",
      "Data columns (total 2 columns):\n",
      " #   Column  Non-Null Count   Dtype \n",
      "---  ------  --------------   ----- \n",
      " 0   text    159292 non-null  object\n",
      " 1   toxic   159292 non-null  int64 \n",
      "dtypes: int64(1), object(1)\n",
      "memory usage: 2.4+ MB\n"
     ]
    }
   ],
   "source": [
    "# проверим\n",
    "data.info()"
   ]
  },
  {
   "cell_type": "code",
   "execution_count": 13,
   "metadata": {},
   "outputs": [
    {
     "data": {
      "text/html": [
       "<div>\n",
       "<style scoped>\n",
       "    .dataframe tbody tr th:only-of-type {\n",
       "        vertical-align: middle;\n",
       "    }\n",
       "\n",
       "    .dataframe tbody tr th {\n",
       "        vertical-align: top;\n",
       "    }\n",
       "\n",
       "    .dataframe thead th {\n",
       "        text-align: right;\n",
       "    }\n",
       "</style>\n",
       "<table border=\"1\" class=\"dataframe\">\n",
       "  <thead>\n",
       "    <tr style=\"text-align: right;\">\n",
       "      <th></th>\n",
       "      <th>text</th>\n",
       "      <th>toxic</th>\n",
       "    </tr>\n",
       "  </thead>\n",
       "  <tbody>\n",
       "    <tr>\n",
       "      <th>0</th>\n",
       "      <td>Explanation\\nWhy the edits made under my usern...</td>\n",
       "      <td>0</td>\n",
       "    </tr>\n",
       "    <tr>\n",
       "      <th>1</th>\n",
       "      <td>D'aww! He matches this background colour I'm s...</td>\n",
       "      <td>0</td>\n",
       "    </tr>\n",
       "    <tr>\n",
       "      <th>2</th>\n",
       "      <td>Hey man, I'm really not trying to edit war. It...</td>\n",
       "      <td>0</td>\n",
       "    </tr>\n",
       "    <tr>\n",
       "      <th>3</th>\n",
       "      <td>\"\\nMore\\nI can't make any real suggestions on ...</td>\n",
       "      <td>0</td>\n",
       "    </tr>\n",
       "    <tr>\n",
       "      <th>4</th>\n",
       "      <td>You, sir, are my hero. Any chance you remember...</td>\n",
       "      <td>0</td>\n",
       "    </tr>\n",
       "  </tbody>\n",
       "</table>\n",
       "</div>"
      ],
      "text/plain": [
       "                                                text  toxic\n",
       "0  Explanation\\nWhy the edits made under my usern...      0\n",
       "1  D'aww! He matches this background colour I'm s...      0\n",
       "2  Hey man, I'm really not trying to edit war. It...      0\n",
       "3  \"\\nMore\\nI can't make any real suggestions on ...      0\n",
       "4  You, sir, are my hero. Any chance you remember...      0"
      ]
     },
     "execution_count": 13,
     "metadata": {},
     "output_type": "execute_result"
    }
   ],
   "source": [
    "data.head()"
   ]
  },
  {
   "cell_type": "code",
   "execution_count": 14,
   "metadata": {},
   "outputs": [],
   "source": [
    "#создадим функцию очищения текстов:\n",
    "def clear_text(text):\n",
    "    text = text.lower()\n",
    "    text = re.sub(r\"[^a-zA-Z']\", ' ', text)\n",
    "    text = ' '.join(text.split())\n",
    "    return text\n",
    "\n",
    "# Метод для лемматизации текста\n",
    "#def lemmatize(text):\n",
    "   # m = WordNetLemmatizer()\n",
    "   # txt_list =  nltk.word_tokenize(text)\n",
    "   # txt_list = ' '.join([m.lemmatize(word) for word in txt_list])\n",
    "  #  return txt_list"
   ]
  },
  {
   "cell_type": "code",
   "execution_count": 15,
   "metadata": {},
   "outputs": [
    {
     "name": "stdout",
     "output_type": "stream",
     "text": [
      "CPU times: user 3.94 s, sys: 80.6 ms, total: 4.02 s\n",
      "Wall time: 4.03 s\n"
     ]
    }
   ],
   "source": [
    "%%time\n",
    "#очистим:\n",
    "data['lemm_text'] = data['text'].apply(clear_text) "
   ]
  },
  {
   "cell_type": "code",
   "execution_count": 16,
   "metadata": {},
   "outputs": [],
   "source": [
    "#создадим функцию РОS-тэгирования:\n",
    "def get_wordnet_pos(word):\n",
    "    tag = nltk.pos_tag([word])[0][1][0].upper()\n",
    "    tag_dict = {\"J\": wordnet.ADJ,               #прилагательное\n",
    "                \"N\": wordnet.NOUN,              #существительное\n",
    "                \"V\": wordnet.VERB,              #глагол\n",
    "                \"R\": wordnet.ADV                #наречие\n",
    "               }  \n",
    "    return tag_dict.get(tag, wordnet.NOUN)\n",
    "\n",
    "lemmatizer = WordNetLemmatizer()\n",
    "\n",
    "#Метод для лемматизации текста:\n",
    "def lemm_text(text):\n",
    "    text = [lemmatizer.lemmatize(w, get_wordnet_pos(w)) for w in nltk.word_tokenize(text)]\n",
    "    return ' '.join(text)"
   ]
  },
  {
   "cell_type": "code",
   "execution_count": 18,
   "metadata": {},
   "outputs": [
    {
     "name": "stderr",
     "output_type": "stream",
     "text": [
      "100%|██████████| 159292/159292 [18:16<00:00, 145.27it/s]"
     ]
    },
    {
     "name": "stdout",
     "output_type": "stream",
     "text": [
      "CPU times: user 16min 30s, sys: 1min 29s, total: 18min\n",
      "Wall time: 18min 16s\n"
     ]
    },
    {
     "name": "stderr",
     "output_type": "stream",
     "text": [
      "\n"
     ]
    }
   ],
   "source": [
    "%%time\n",
    "#леммализирую тексты постов:\n",
    "data['lemm_text'] = data['lemm_text'].progress_apply(lemm_text) "
   ]
  },
  {
   "cell_type": "code",
   "execution_count": 19,
   "metadata": {},
   "outputs": [],
   "source": [
    "#применим методы и добавим новый столбец lemm_text с \n",
    "#data['lemm_text'] = data['text'].progress_apply(lambda x: lemmatize(clear_text(x)))"
   ]
  },
  {
   "cell_type": "code",
   "execution_count": 22,
   "metadata": {},
   "outputs": [
    {
     "data": {
      "text/html": [
       "<div>\n",
       "<style scoped>\n",
       "    .dataframe tbody tr th:only-of-type {\n",
       "        vertical-align: middle;\n",
       "    }\n",
       "\n",
       "    .dataframe tbody tr th {\n",
       "        vertical-align: top;\n",
       "    }\n",
       "\n",
       "    .dataframe thead th {\n",
       "        text-align: right;\n",
       "    }\n",
       "</style>\n",
       "<table border=\"1\" class=\"dataframe\">\n",
       "  <thead>\n",
       "    <tr style=\"text-align: right;\">\n",
       "      <th></th>\n",
       "      <th>text</th>\n",
       "      <th>toxic</th>\n",
       "      <th>lemm_text</th>\n",
       "    </tr>\n",
       "  </thead>\n",
       "  <tbody>\n",
       "    <tr>\n",
       "      <th>0</th>\n",
       "      <td>explanation why the edits made under my userna...</td>\n",
       "      <td>0</td>\n",
       "      <td>explanation why the edits make under my userna...</td>\n",
       "    </tr>\n",
       "    <tr>\n",
       "      <th>1</th>\n",
       "      <td>d'aww he matches this background colour i'm se...</td>\n",
       "      <td>0</td>\n",
       "      <td>d'aww he match this background colour i 'm see...</td>\n",
       "    </tr>\n",
       "    <tr>\n",
       "      <th>2</th>\n",
       "      <td>hey man i'm really not trying to edit war it's...</td>\n",
       "      <td>0</td>\n",
       "      <td>hey man i 'm really not try to edit war it 's ...</td>\n",
       "    </tr>\n",
       "    <tr>\n",
       "      <th>3</th>\n",
       "      <td>more i can't make any real suggestions on impr...</td>\n",
       "      <td>0</td>\n",
       "      <td>more i ca n't make any real suggestion on impr...</td>\n",
       "    </tr>\n",
       "    <tr>\n",
       "      <th>4</th>\n",
       "      <td>you sir are my hero any chance you remember wh...</td>\n",
       "      <td>0</td>\n",
       "      <td>you sir be my hero any chance you remember wha...</td>\n",
       "    </tr>\n",
       "  </tbody>\n",
       "</table>\n",
       "</div>"
      ],
      "text/plain": [
       "                                                text  toxic  \\\n",
       "0  explanation why the edits made under my userna...      0   \n",
       "1  d'aww he matches this background colour i'm se...      0   \n",
       "2  hey man i'm really not trying to edit war it's...      0   \n",
       "3  more i can't make any real suggestions on impr...      0   \n",
       "4  you sir are my hero any chance you remember wh...      0   \n",
       "\n",
       "                                           lemm_text  \n",
       "0  explanation why the edits make under my userna...  \n",
       "1  d'aww he match this background colour i 'm see...  \n",
       "2  hey man i 'm really not try to edit war it 's ...  \n",
       "3  more i ca n't make any real suggestion on impr...  \n",
       "4  you sir be my hero any chance you remember wha...  "
      ]
     },
     "execution_count": 22,
     "metadata": {},
     "output_type": "execute_result"
    }
   ],
   "source": [
    "data.head()"
   ]
  },
  {
   "cell_type": "markdown",
   "metadata": {},
   "source": [
    "### подготовка  данных"
   ]
  },
  {
   "cell_type": "code",
   "execution_count": 23,
   "metadata": {},
   "outputs": [],
   "source": [
    "# делим данные на признаки и целевую переменную \n",
    "features = data['lemm_text']\n",
    "target = data['toxic']"
   ]
  },
  {
   "cell_type": "code",
   "execution_count": 24,
   "metadata": {},
   "outputs": [],
   "source": [
    "#разделяю выборки на обучающую и тестовую в соотношении 90/10:\n",
    "features_train, features_test, target_train, target_test = train_test_split(features, \n",
    "                                                                              target, \n",
    "                                                                              test_size=.1, \n",
    "                                                                              random_state=12345)"
   ]
  },
  {
   "cell_type": "code",
   "execution_count": 25,
   "metadata": {},
   "outputs": [
    {
     "name": "stdout",
     "output_type": "stream",
     "text": [
      "(143362,)\n",
      "(143362,)\n",
      "(15930,)\n",
      "(15930,)\n"
     ]
    }
   ],
   "source": [
    "print(features_train.shape)\n",
    "print(target_train.shape)         \n",
    "print(features_test.shape)      \n",
    "print(target_test.shape)           "
   ]
  },
  {
   "cell_type": "markdown",
   "metadata": {},
   "source": [
    "Векторизуем данные с учетом стоп-слов"
   ]
  },
  {
   "cell_type": "code",
   "execution_count": 26,
   "metadata": {},
   "outputs": [
    {
     "name": "stderr",
     "output_type": "stream",
     "text": [
      "100%|██████████| 143362/143362 [00:05<00:00, 27774.87it/s]\n"
     ]
    }
   ],
   "source": [
    "stopwords_ = set(stopwords.words('english'))\n",
    "count_tf_idf = TfidfVectorizer(stop_words=stopwords_)\n",
    "tf_idf = count_tf_idf.fit_transform(tqdm(features_train))"
   ]
  },
  {
   "cell_type": "code",
   "execution_count": 27,
   "metadata": {},
   "outputs": [],
   "source": [
    "tf_idf_test = count_tf_idf.transform(features_test)"
   ]
  },
  {
   "cell_type": "code",
   "execution_count": 28,
   "metadata": {},
   "outputs": [
    {
     "name": "stdout",
     "output_type": "stream",
     "text": [
      "Размер матрицы обучающей выборки: (143362, 142866)\n",
      "Размер матрицы тестовой выборки: (15930, 142866)\n"
     ]
    }
   ],
   "source": [
    "print(\"Размер матрицы обучающей выборки:\", tf_idf.shape)\n",
    "print(\"Размер матрицы тестовой выборки:\", tf_idf_test.shape)"
   ]
  },
  {
   "cell_type": "markdown",
   "metadata": {},
   "source": [
    "### Вывод"
   ]
  },
  {
   "cell_type": "markdown",
   "metadata": {},
   "source": [
    "данном разделе провели: загрузку данных, их обработку и подготовку для обучения.\n",
    "\n",
    "в разделе 1.1:\n",
    "- фаил data состоит из 3 столбцов и 159292 строк\n",
    "- в столбце text размещены комментарии на английском\n",
    "- в стобце toxic критерии 0 не токсичный коментарий, 1 - токсичный\n",
    "- столбец Unnamed: 0 - без названия, значения в нем обычные цифры больше похоже на индексное значение, данный фаил нужно удалить, не имеет никакого значения\n",
    "- в фаилах не обнаружено пропуском и дубликатов\n",
    "- отношение токсичных коментарием ко всем коментария составляет 10,16%\n",
    "- в коментария имеются странные значения \\n\n",
    "\n",
    "в разделе 1.2:\n",
    "- удалили лишний столбец Unnamed: 0\n",
    "- провели очистку текста\n",
    "- провели лиматизацию\n",
    "\n",
    "в разделе 1.3:\n",
    "- провели подготовку данных для обучения\n",
    "- разделили выборку обучающую и тестовую (90 на 10)\n",
    "- обучающую выборку преобразовали\n",
    "\n",
    "приступим к обучению моделей"
   ]
  },
  {
   "cell_type": "markdown",
   "metadata": {},
   "source": [
    "## Обучение"
   ]
  },
  {
   "cell_type": "markdown",
   "metadata": {},
   "source": [
    "в данной разделе проведем обучернию трех моделей: LogisticRegression, DecisionTreeClassifier, LGBMClassifier"
   ]
  },
  {
   "cell_type": "markdown",
   "metadata": {},
   "source": [
    "### модель LogisticRegression"
   ]
  },
  {
   "cell_type": "markdown",
   "metadata": {},
   "source": [
    "Обучим логистическую модель, "
   ]
  },
  {
   "cell_type": "code",
   "execution_count": 38,
   "metadata": {},
   "outputs": [
    {
     "name": "stdout",
     "output_type": "stream",
     "text": [
      "f1 модели Логистической регрессии: =  0.75\n",
      "CPU times: user 1min 14s, sys: 1min 16s, total: 2min 30s\n",
      "Wall time: 2min 30s\n"
     ]
    }
   ],
   "source": [
    "%%time\n",
    "model_lr = LogisticRegression(fit_intercept=True, \n",
    "                              class_weight='balanced', \n",
    "                              random_state=12345,\n",
    "                              solver='liblinear'\n",
    "                             )\n",
    "#Определяю словарь с набором параметров\n",
    "parametrs = {'C': [0.1, 1, 5]}\n",
    "\n",
    "\n",
    "model_lr_grid = GridSearchCV(model_lr, parametrs, scoring='f1', cv=3)\n",
    "model_lr_grid.fit(tf_idf, target_train)\n",
    "\n",
    "f1_lr = (model_lr_grid.best_score_.mean()).round(2)\n",
    "print('f1 модели Логистической регрессии: = ', f1_lr)"
   ]
  },
  {
   "cell_type": "markdown",
   "metadata": {},
   "source": [
    "### модель DecisionTreeClassifier"
   ]
  },
  {
   "cell_type": "code",
   "execution_count": 33,
   "metadata": {},
   "outputs": [
    {
     "name": "stdout",
     "output_type": "stream",
     "text": [
      "F1 дерева решений = 0.65\n",
      "при параметрах {'class_weight': 'balanced', 'max_depth': 150, 'random_state': 12345}\n",
      "CPU times: user 15min 40s, sys: 1.79 s, total: 15min 41s\n",
      "Wall time: 15min 43s\n"
     ]
    }
   ],
   "source": [
    "%%time\n",
    "model_dtc = DecisionTreeClassifier()\n",
    "parameters = [{'max_depth':[x for x in range(75,151,25)],\n",
    "                'random_state':[12345],\n",
    "                'class_weight':['balanced']}]\n",
    "\n",
    "gscv_dtc = GridSearchCV(model_dtc, parameters, scoring='f1', cv=3, n_jobs=-1)\n",
    "\n",
    "gscv_dtc.fit(tf_idf,target_train)\n",
    "\n",
    "\n",
    "f1_dtc = (gscv_dtc.best_score_.mean()).round(2)\n",
    "#mts = gscv_dtc.cv_results_['mean_test_score']\n",
    "#f1_dtc = (max(mts)).round(2)\n",
    "\n",
    "print('F1 дерева решений =', f1_dtc)\n",
    "print('при параметрах', gscv_dtc.best_params_)"
   ]
  },
  {
   "cell_type": "markdown",
   "metadata": {},
   "source": [
    "### модель LGBMClassifier"
   ]
  },
  {
   "cell_type": "code",
   "execution_count": 31,
   "metadata": {},
   "outputs": [
    {
     "name": "stdout",
     "output_type": "stream",
     "text": [
      "Взвешенная метрика F1 по результатам кросс-валидации, LGBM: 0.74\n",
      "CPU times: user 7min 50s, sys: 1.57 s, total: 7min 51s\n",
      "Wall time: 7min 54s\n"
     ]
    }
   ],
   "source": [
    "%%time\n",
    "lgbm_modelc = LGBMClassifier(random_state = 12345, learning_rate = 0.5, max_depth = 5, num_leaves = 10)\n",
    "scores = cross_val_score(lgbm_modelc, tf_idf, target_train, cv=3, scoring='f1')\n",
    "f1_lgbmc =  scores.mean().round(2)\n",
    "print('Взвешенная метрика F1 по результатам кросс-валидации, LGBM:', f1_lgbmc)"
   ]
  },
  {
   "cell_type": "markdown",
   "metadata": {},
   "source": [
    "## Выводы"
   ]
  },
  {
   "cell_type": "markdown",
   "metadata": {},
   "source": [
    "построим таблицу моделей и результатов обучения f1"
   ]
  },
  {
   "cell_type": "code",
   "execution_count": 34,
   "metadata": {},
   "outputs": [
    {
     "name": "stdout",
     "output_type": "stream",
     "text": [
      "                   модель    f1\n",
      "0      LogisticRegression  0.75\n",
      "1  DecisionTreeClassifier  0.65\n",
      "2          LGBMClassifier  0.74\n"
     ]
    }
   ],
   "source": [
    "models = [['LogisticRegression', f1_lr], \n",
    "          ['DecisionTreeClassifier', f1_dtc], \n",
    "          ['LGBMClassifier', f1_lgbmc], \n",
    "         ]\n",
    "          \n",
    "data_models = pd.DataFrame(models, columns = ['модель', 'f1']) \n",
    "          \n",
    "print(data_models)"
   ]
  },
  {
   "cell_type": "markdown",
   "metadata": {},
   "source": [
    "проверим LogisticRegression на тестовой выборке"
   ]
  },
  {
   "cell_type": "code",
   "execution_count": 36,
   "metadata": {},
   "outputs": [
    {
     "name": "stdout",
     "output_type": "stream",
     "text": [
      "F1 модели LogisticRegression на тестовой выборке:= 0.76\n"
     ]
    }
   ],
   "source": [
    "predictions = model_lr_grid.predict(tf_idf_test)\n",
    "f1_lr_test = (f1_score(target_test, predictions)).round(2)\n",
    "\n",
    "print('F1 модели LogisticRegression на тестовой выборке:=', f1_lr_test)"
   ]
  },
  {
   "cell_type": "markdown",
   "metadata": {},
   "source": [
    "лучшей моделью обучения текстов показала себя LogisticRegression с метриков f1 = 0.75"
   ]
  },
  {
   "cell_type": "markdown",
   "metadata": {},
   "source": [
    "В данной работе целью исследования было обучить модель классифицировать комментарии на позитивные и негативные. \n",
    "\n",
    "В вашем распоряжении набор данных с разметкой о токсичности правок. Данный фаил data состоит из 3 столбцов и 159292 строк.\n",
    "\n",
    "в первой часте работы был проведен анализ данных, проверка на наличие пропусков, дубликатов, в каком формате находятся данные, есть ошибки и некорректные данные\n",
    "\n",
    "отношение токсичных коментариев ко всем коментариям составляет 10,16%\n",
    "\n",
    "провели коррекцию данных\n",
    "- удалили лишний столбец Unnamed: 0\n",
    "- провели очистку текста\n",
    "- провели лиматизацию\n",
    "\n",
    "для обчениея моделей провели подготовку данных для обучения:\n",
    "\n",
    "- разделили выборку обучающую и тестовую (90 на 10)\n",
    "- обучающую выборку преобразовали\n",
    "\n",
    "во 2 разделе провели обучерние трех моделей: LogisticRegression, DecisionTreeClassifier, LGBMClassifier с подбором лучших парамертов\n",
    "\n",
    "В данной работе были обучены модели для того чтобы классифицировать комментарии на позитивные и негативные.\n",
    "\n",
    "Необходимо было построить модель со значением метрики качества F1 не меньше 0.75.\n",
    "\n",
    "с данной работой справилась только одна модель LogisticRegression, все остальные были ниже 0.75\n"
   ]
  }
 ],
 "metadata": {
  "ExecuteTimeLog": [
   {
    "duration": 1756,
    "start_time": "2023-09-24T04:06:21.705Z"
   },
   {
    "duration": 0,
    "start_time": "2023-09-24T04:06:23.465Z"
   },
   {
    "duration": 0,
    "start_time": "2023-09-24T04:06:23.467Z"
   },
   {
    "duration": 0,
    "start_time": "2023-09-24T04:06:23.468Z"
   },
   {
    "duration": 0,
    "start_time": "2023-09-24T04:06:23.469Z"
   },
   {
    "duration": 0,
    "start_time": "2023-09-24T04:06:23.471Z"
   },
   {
    "duration": 1621,
    "start_time": "2023-09-24T04:07:07.810Z"
   },
   {
    "duration": 2734,
    "start_time": "2023-09-24T04:07:09.433Z"
   },
   {
    "duration": 30,
    "start_time": "2023-09-24T04:07:12.169Z"
   },
   {
    "duration": 11,
    "start_time": "2023-09-24T04:07:12.200Z"
   },
   {
    "duration": 9,
    "start_time": "2023-09-24T04:07:12.212Z"
   },
   {
    "duration": 20,
    "start_time": "2023-09-24T04:07:12.222Z"
   },
   {
    "duration": 233,
    "start_time": "2023-09-24T04:11:42.234Z"
   },
   {
    "duration": 125,
    "start_time": "2023-09-24T04:13:27.152Z"
   },
   {
    "duration": 26,
    "start_time": "2023-09-24T04:13:32.724Z"
   },
   {
    "duration": 5,
    "start_time": "2023-09-24T04:19:01.943Z"
   },
   {
    "duration": 8,
    "start_time": "2023-09-24T04:22:45.356Z"
   },
   {
    "duration": 200,
    "start_time": "2023-09-24T04:24:45.802Z"
   },
   {
    "duration": 8,
    "start_time": "2023-09-24T04:25:34.657Z"
   },
   {
    "duration": 5,
    "start_time": "2023-09-24T04:25:58.815Z"
   },
   {
    "duration": 7,
    "start_time": "2023-09-24T04:26:16.069Z"
   },
   {
    "duration": 9,
    "start_time": "2023-09-24T04:26:29.382Z"
   },
   {
    "duration": 15,
    "start_time": "2023-09-24T04:33:35.955Z"
   },
   {
    "duration": 35,
    "start_time": "2023-09-24T04:33:58.061Z"
   },
   {
    "duration": 12,
    "start_time": "2023-09-24T04:33:58.353Z"
   },
   {
    "duration": 32,
    "start_time": "2023-09-24T04:34:18.783Z"
   },
   {
    "duration": 7,
    "start_time": "2023-09-24T04:34:19.672Z"
   },
   {
    "duration": 1972,
    "start_time": "2023-09-24T04:56:32.472Z"
   },
   {
    "duration": 13,
    "start_time": "2023-09-24T07:55:30.790Z"
   },
   {
    "duration": 2167,
    "start_time": "2023-09-24T07:55:36.947Z"
   },
   {
    "duration": 2881,
    "start_time": "2023-09-24T07:55:39.116Z"
   },
   {
    "duration": 43,
    "start_time": "2023-09-24T07:55:41.999Z"
   },
   {
    "duration": 30,
    "start_time": "2023-09-24T07:55:42.045Z"
   },
   {
    "duration": 57,
    "start_time": "2023-09-24T07:55:42.077Z"
   },
   {
    "duration": 43,
    "start_time": "2023-09-24T07:55:42.141Z"
   },
   {
    "duration": 267,
    "start_time": "2023-09-24T07:55:42.186Z"
   },
   {
    "duration": 26,
    "start_time": "2023-09-24T07:55:42.455Z"
   },
   {
    "duration": 71,
    "start_time": "2023-09-24T07:55:42.483Z"
   },
   {
    "duration": 32,
    "start_time": "2023-09-24T07:55:42.556Z"
   },
   {
    "duration": 58,
    "start_time": "2023-09-24T07:55:42.591Z"
   },
   {
    "duration": 42,
    "start_time": "2023-09-24T07:55:42.654Z"
   },
   {
    "duration": 49,
    "start_time": "2023-09-24T07:55:42.698Z"
   },
   {
    "duration": 32,
    "start_time": "2023-09-24T07:55:42.750Z"
   },
   {
    "duration": 21,
    "start_time": "2023-09-24T07:55:42.785Z"
   },
   {
    "duration": 4603,
    "start_time": "2023-09-24T07:56:51.788Z"
   },
   {
    "duration": 6,
    "start_time": "2023-09-24T07:57:34.770Z"
   },
   {
    "duration": 162,
    "start_time": "2023-09-24T08:19:50.883Z"
   },
   {
    "duration": 2053,
    "start_time": "2023-09-24T08:21:02.594Z"
   },
   {
    "duration": 887,
    "start_time": "2023-09-24T08:21:04.649Z"
   },
   {
    "duration": 35,
    "start_time": "2023-09-24T08:21:05.542Z"
   },
   {
    "duration": 12,
    "start_time": "2023-09-24T08:21:05.579Z"
   },
   {
    "duration": 13,
    "start_time": "2023-09-24T08:21:05.593Z"
   },
   {
    "duration": 6,
    "start_time": "2023-09-24T08:21:05.608Z"
   },
   {
    "duration": 267,
    "start_time": "2023-09-24T08:21:05.624Z"
   },
   {
    "duration": 50,
    "start_time": "2023-09-24T08:21:05.893Z"
   },
   {
    "duration": 63,
    "start_time": "2023-09-24T08:21:05.945Z"
   },
   {
    "duration": 43,
    "start_time": "2023-09-24T08:21:06.011Z"
   },
   {
    "duration": 20,
    "start_time": "2023-09-24T08:21:06.057Z"
   },
   {
    "duration": 69,
    "start_time": "2023-09-24T08:21:06.078Z"
   },
   {
    "duration": 9,
    "start_time": "2023-09-24T08:21:06.148Z"
   },
   {
    "duration": 16,
    "start_time": "2023-09-24T08:21:06.159Z"
   },
   {
    "duration": 7,
    "start_time": "2023-09-24T08:21:06.177Z"
   },
   {
    "duration": 12,
    "start_time": "2023-09-24T08:21:06.186Z"
   },
   {
    "duration": 143,
    "start_time": "2023-09-24T08:21:06.199Z"
   },
   {
    "duration": 0,
    "start_time": "2023-09-24T08:21:06.344Z"
   },
   {
    "duration": 1952,
    "start_time": "2023-09-24T08:21:56.820Z"
   },
   {
    "duration": 918,
    "start_time": "2023-09-24T08:21:58.774Z"
   },
   {
    "duration": 47,
    "start_time": "2023-09-24T08:21:59.693Z"
   },
   {
    "duration": 6,
    "start_time": "2023-09-24T08:21:59.741Z"
   },
   {
    "duration": 14,
    "start_time": "2023-09-24T08:21:59.749Z"
   },
   {
    "duration": 7,
    "start_time": "2023-09-24T08:21:59.765Z"
   },
   {
    "duration": 257,
    "start_time": "2023-09-24T08:21:59.774Z"
   },
   {
    "duration": 26,
    "start_time": "2023-09-24T08:22:00.033Z"
   },
   {
    "duration": 6,
    "start_time": "2023-09-24T08:22:00.061Z"
   },
   {
    "duration": 28,
    "start_time": "2023-09-24T08:22:00.068Z"
   },
   {
    "duration": 86,
    "start_time": "2023-09-24T08:22:00.099Z"
   },
   {
    "duration": 112,
    "start_time": "2023-09-24T08:22:00.186Z"
   },
   {
    "duration": 54,
    "start_time": "2023-09-24T08:22:00.300Z"
   },
   {
    "duration": 47,
    "start_time": "2023-09-24T08:22:00.358Z"
   },
   {
    "duration": 51,
    "start_time": "2023-09-24T08:22:00.407Z"
   },
   {
    "duration": 90,
    "start_time": "2023-09-24T08:22:00.460Z"
   },
   {
    "duration": 139,
    "start_time": "2023-09-24T08:22:00.552Z"
   },
   {
    "duration": 151,
    "start_time": "2023-09-24T08:22:00.693Z"
   },
   {
    "duration": 100474,
    "start_time": "2023-09-24T08:22:38.446Z"
   },
   {
    "duration": 7,
    "start_time": "2023-09-24T08:24:59.274Z"
   },
   {
    "duration": 167,
    "start_time": "2023-09-24T08:25:27.116Z"
   },
   {
    "duration": 7,
    "start_time": "2023-09-24T08:25:28.938Z"
   },
   {
    "duration": 77446,
    "start_time": "2023-09-24T08:25:29.561Z"
   },
   {
    "duration": 7,
    "start_time": "2023-09-24T08:26:47.009Z"
   },
   {
    "duration": 11,
    "start_time": "2023-09-24T08:30:06.911Z"
   },
   {
    "duration": 136,
    "start_time": "2023-09-24T08:30:07.522Z"
   },
   {
    "duration": 32,
    "start_time": "2023-09-24T08:30:28.552Z"
   },
   {
    "duration": 5,
    "start_time": "2023-09-24T08:32:38.192Z"
   },
   {
    "duration": 193,
    "start_time": "2023-09-24T09:04:40.506Z"
   },
   {
    "duration": 552,
    "start_time": "2023-09-24T09:05:01.560Z"
   },
   {
    "duration": 19,
    "start_time": "2023-09-24T09:05:55.999Z"
   },
   {
    "duration": 3629,
    "start_time": "2023-09-24T09:06:31.954Z"
   },
   {
    "duration": 1107,
    "start_time": "2023-09-24T09:06:35.586Z"
   },
   {
    "duration": 46,
    "start_time": "2023-09-24T09:06:36.695Z"
   },
   {
    "duration": 40,
    "start_time": "2023-09-24T09:06:36.744Z"
   },
   {
    "duration": 28,
    "start_time": "2023-09-24T09:06:36.787Z"
   },
   {
    "duration": 28,
    "start_time": "2023-09-24T09:06:36.817Z"
   },
   {
    "duration": 330,
    "start_time": "2023-09-24T09:06:36.848Z"
   },
   {
    "duration": 28,
    "start_time": "2023-09-24T09:06:37.180Z"
   },
   {
    "duration": 70,
    "start_time": "2023-09-24T09:06:37.225Z"
   },
   {
    "duration": 42,
    "start_time": "2023-09-24T09:06:37.298Z"
   },
   {
    "duration": 85,
    "start_time": "2023-09-24T09:06:37.346Z"
   },
   {
    "duration": 56,
    "start_time": "2023-09-24T09:06:37.436Z"
   },
   {
    "duration": 62,
    "start_time": "2023-09-24T09:06:37.495Z"
   },
   {
    "duration": 77,
    "start_time": "2023-09-24T09:06:37.561Z"
   },
   {
    "duration": 36,
    "start_time": "2023-09-24T09:06:37.644Z"
   },
   {
    "duration": 30,
    "start_time": "2023-09-24T09:06:37.683Z"
   },
   {
    "duration": 289,
    "start_time": "2023-09-24T09:06:37.716Z"
   },
   {
    "duration": 8,
    "start_time": "2023-09-24T09:06:38.007Z"
   },
   {
    "duration": 122225,
    "start_time": "2023-09-24T09:06:38.023Z"
   },
   {
    "duration": 16,
    "start_time": "2023-09-24T09:08:40.250Z"
   },
   {
    "duration": 155,
    "start_time": "2023-09-24T09:08:40.269Z"
   },
   {
    "duration": 170,
    "start_time": "2023-09-24T09:08:40.428Z"
   },
   {
    "duration": 116,
    "start_time": "2023-09-24T09:08:40.600Z"
   },
   {
    "duration": 163,
    "start_time": "2023-09-24T09:08:40.718Z"
   },
   {
    "duration": 0,
    "start_time": "2023-09-24T09:08:40.883Z"
   },
   {
    "duration": 0,
    "start_time": "2023-09-24T09:08:40.885Z"
   },
   {
    "duration": 14,
    "start_time": "2023-09-24T09:09:10.793Z"
   },
   {
    "duration": 25,
    "start_time": "2023-09-24T09:09:18.517Z"
   },
   {
    "duration": 185,
    "start_time": "2023-09-24T09:09:20.678Z"
   },
   {
    "duration": 209,
    "start_time": "2023-09-24T09:09:26.585Z"
   },
   {
    "duration": 117,
    "start_time": "2023-09-24T09:10:43.260Z"
   },
   {
    "duration": 13,
    "start_time": "2023-09-24T09:30:58.522Z"
   },
   {
    "duration": 30,
    "start_time": "2023-09-24T09:31:24.322Z"
   },
   {
    "duration": 9,
    "start_time": "2023-09-24T09:32:02.345Z"
   },
   {
    "duration": 12,
    "start_time": "2023-09-24T09:32:03.064Z"
   },
   {
    "duration": 107,
    "start_time": "2023-09-24T09:32:51.992Z"
   },
   {
    "duration": 122,
    "start_time": "2023-09-24T09:40:28.766Z"
   },
   {
    "duration": 4,
    "start_time": "2023-09-24T09:40:55.299Z"
   },
   {
    "duration": 188,
    "start_time": "2023-09-24T09:40:55.904Z"
   },
   {
    "duration": 2626,
    "start_time": "2023-09-24T09:42:05.158Z"
   },
   {
    "duration": 7,
    "start_time": "2023-09-24T09:43:15.943Z"
   },
   {
    "duration": 3152,
    "start_time": "2023-09-24T09:48:01.254Z"
   },
   {
    "duration": 2246,
    "start_time": "2023-09-24T09:48:04.408Z"
   },
   {
    "duration": 39,
    "start_time": "2023-09-24T09:48:06.656Z"
   },
   {
    "duration": 103,
    "start_time": "2023-09-24T09:48:06.697Z"
   },
   {
    "duration": 166,
    "start_time": "2023-09-24T09:48:06.802Z"
   },
   {
    "duration": 39,
    "start_time": "2023-09-24T09:48:06.970Z"
   },
   {
    "duration": 274,
    "start_time": "2023-09-24T09:48:07.011Z"
   },
   {
    "duration": 39,
    "start_time": "2023-09-24T09:48:07.287Z"
   },
   {
    "duration": 9,
    "start_time": "2023-09-24T09:48:07.327Z"
   },
   {
    "duration": 48,
    "start_time": "2023-09-24T09:48:07.345Z"
   },
   {
    "duration": 113,
    "start_time": "2023-09-24T09:48:07.395Z"
   },
   {
    "duration": 56,
    "start_time": "2023-09-24T09:48:07.510Z"
   },
   {
    "duration": 14,
    "start_time": "2023-09-24T09:48:07.568Z"
   },
   {
    "duration": 32,
    "start_time": "2023-09-24T09:48:07.583Z"
   },
   {
    "duration": 40,
    "start_time": "2023-09-24T09:48:07.617Z"
   },
   {
    "duration": 26,
    "start_time": "2023-09-24T09:48:07.659Z"
   },
   {
    "duration": 303,
    "start_time": "2023-09-24T09:48:07.687Z"
   },
   {
    "duration": 7,
    "start_time": "2023-09-24T09:48:07.992Z"
   },
   {
    "duration": 107639,
    "start_time": "2023-09-24T09:48:08.001Z"
   },
   {
    "duration": 8,
    "start_time": "2023-09-24T09:49:55.646Z"
   },
   {
    "duration": 14,
    "start_time": "2023-09-24T09:49:55.656Z"
   },
   {
    "duration": 34,
    "start_time": "2023-09-24T09:49:55.671Z"
   },
   {
    "duration": 5,
    "start_time": "2023-09-24T09:49:55.707Z"
   },
   {
    "duration": 23,
    "start_time": "2023-09-24T09:49:55.714Z"
   },
   {
    "duration": 8,
    "start_time": "2023-09-24T09:49:55.740Z"
   },
   {
    "duration": 2204,
    "start_time": "2023-09-24T10:01:44.850Z"
   },
   {
    "duration": 1021,
    "start_time": "2023-09-24T10:01:47.056Z"
   },
   {
    "duration": 55,
    "start_time": "2023-09-24T10:01:48.079Z"
   },
   {
    "duration": 15,
    "start_time": "2023-09-24T10:01:48.145Z"
   },
   {
    "duration": 15,
    "start_time": "2023-09-24T10:01:48.165Z"
   },
   {
    "duration": 8,
    "start_time": "2023-09-24T10:01:48.182Z"
   },
   {
    "duration": 274,
    "start_time": "2023-09-24T10:01:48.191Z"
   },
   {
    "duration": 30,
    "start_time": "2023-09-24T10:01:48.467Z"
   },
   {
    "duration": 28,
    "start_time": "2023-09-24T10:01:48.499Z"
   },
   {
    "duration": 11,
    "start_time": "2023-09-24T10:01:48.532Z"
   },
   {
    "duration": 21,
    "start_time": "2023-09-24T10:01:48.551Z"
   },
   {
    "duration": 47,
    "start_time": "2023-09-24T10:01:48.574Z"
   },
   {
    "duration": 29,
    "start_time": "2023-09-24T10:01:48.623Z"
   },
   {
    "duration": 11,
    "start_time": "2023-09-24T10:01:48.656Z"
   },
   {
    "duration": 6,
    "start_time": "2023-09-24T10:01:48.669Z"
   },
   {
    "duration": 12,
    "start_time": "2023-09-24T10:01:48.677Z"
   },
   {
    "duration": 11,
    "start_time": "2023-09-24T10:01:48.691Z"
   },
   {
    "duration": 6,
    "start_time": "2023-09-24T10:01:48.704Z"
   },
   {
    "duration": 30,
    "start_time": "2023-09-24T10:01:48.712Z"
   },
   {
    "duration": 161,
    "start_time": "2023-09-24T10:01:48.749Z"
   },
   {
    "duration": 0,
    "start_time": "2023-09-24T10:01:48.912Z"
   },
   {
    "duration": 0,
    "start_time": "2023-09-24T10:01:48.914Z"
   },
   {
    "duration": 3,
    "start_time": "2023-09-24T10:03:03.598Z"
   },
   {
    "duration": 3,
    "start_time": "2023-09-24T10:03:04.669Z"
   },
   {
    "duration": 9,
    "start_time": "2023-09-24T10:03:05.167Z"
   },
   {
    "duration": 25,
    "start_time": "2023-09-24T10:03:14.246Z"
   },
   {
    "duration": 27555,
    "start_time": "2023-09-24T10:04:44.264Z"
   },
   {
    "duration": 2715,
    "start_time": "2023-09-24T10:06:36.521Z"
   },
   {
    "duration": 968,
    "start_time": "2023-09-24T10:06:39.241Z"
   },
   {
    "duration": 46,
    "start_time": "2023-09-24T10:06:40.211Z"
   },
   {
    "duration": 26,
    "start_time": "2023-09-24T10:06:40.260Z"
   },
   {
    "duration": 75,
    "start_time": "2023-09-24T10:06:40.288Z"
   },
   {
    "duration": 39,
    "start_time": "2023-09-24T10:06:40.365Z"
   },
   {
    "duration": 340,
    "start_time": "2023-09-24T10:06:40.406Z"
   },
   {
    "duration": 29,
    "start_time": "2023-09-24T10:06:40.750Z"
   },
   {
    "duration": 78,
    "start_time": "2023-09-24T10:06:40.781Z"
   },
   {
    "duration": 190,
    "start_time": "2023-09-24T10:06:40.862Z"
   },
   {
    "duration": 119,
    "start_time": "2023-09-24T10:06:41.053Z"
   },
   {
    "duration": 124,
    "start_time": "2023-09-24T10:06:41.174Z"
   },
   {
    "duration": 61,
    "start_time": "2023-09-24T10:06:41.300Z"
   },
   {
    "duration": 167,
    "start_time": "2023-09-24T10:06:41.364Z"
   },
   {
    "duration": 65,
    "start_time": "2023-09-24T10:06:41.534Z"
   },
   {
    "duration": 75,
    "start_time": "2023-09-24T10:06:41.602Z"
   },
   {
    "duration": 55,
    "start_time": "2023-09-24T10:06:41.679Z"
   },
   {
    "duration": 79,
    "start_time": "2023-09-24T10:06:41.736Z"
   },
   {
    "duration": 83,
    "start_time": "2023-09-24T10:06:41.818Z"
   },
   {
    "duration": 78,
    "start_time": "2023-09-24T10:06:41.903Z"
   },
   {
    "duration": 874675,
    "start_time": "2023-09-24T10:06:41.983Z"
   },
   {
    "duration": 0,
    "start_time": "2023-09-24T10:21:16.660Z"
   },
   {
    "duration": 1345,
    "start_time": "2023-09-24T12:20:31.243Z"
   },
   {
    "duration": 2832,
    "start_time": "2023-09-24T12:21:44.863Z"
   },
   {
    "duration": 2742,
    "start_time": "2023-09-24T12:21:47.697Z"
   },
   {
    "duration": 43,
    "start_time": "2023-09-24T12:21:50.440Z"
   },
   {
    "duration": 7,
    "start_time": "2023-09-24T12:21:50.485Z"
   },
   {
    "duration": 15,
    "start_time": "2023-09-24T12:21:50.494Z"
   },
   {
    "duration": 11,
    "start_time": "2023-09-24T12:21:50.511Z"
   },
   {
    "duration": 278,
    "start_time": "2023-09-24T12:21:50.525Z"
   },
   {
    "duration": 26,
    "start_time": "2023-09-24T12:21:50.805Z"
   },
   {
    "duration": 29,
    "start_time": "2023-09-24T12:21:50.833Z"
   },
   {
    "duration": 18,
    "start_time": "2023-09-24T12:21:50.864Z"
   },
   {
    "duration": 13,
    "start_time": "2023-09-24T12:21:50.884Z"
   },
   {
    "duration": 41,
    "start_time": "2023-09-24T12:21:50.899Z"
   },
   {
    "duration": 21,
    "start_time": "2023-09-24T12:21:50.942Z"
   },
   {
    "duration": 7,
    "start_time": "2023-09-24T12:21:50.967Z"
   },
   {
    "duration": 18,
    "start_time": "2023-09-24T12:21:50.976Z"
   },
   {
    "duration": 6,
    "start_time": "2023-09-24T12:21:50.996Z"
   },
   {
    "duration": 11,
    "start_time": "2023-09-24T12:21:51.004Z"
   },
   {
    "duration": 21,
    "start_time": "2023-09-24T12:21:51.017Z"
   },
   {
    "duration": 21,
    "start_time": "2023-09-24T12:21:51.040Z"
   },
   {
    "duration": 810556,
    "start_time": "2023-09-24T12:21:51.064Z"
   },
   {
    "duration": 5,
    "start_time": "2023-09-24T12:35:21.621Z"
   },
   {
    "duration": 151,
    "start_time": "2023-09-24T12:35:21.628Z"
   },
   {
    "duration": 1,
    "start_time": "2023-09-24T12:35:21.780Z"
   },
   {
    "duration": 0,
    "start_time": "2023-09-24T12:35:21.782Z"
   },
   {
    "duration": 2,
    "start_time": "2023-09-24T12:37:49.366Z"
   },
   {
    "duration": 14,
    "start_time": "2023-09-24T12:37:50.821Z"
   },
   {
    "duration": 2,
    "start_time": "2023-09-24T12:38:12.402Z"
   },
   {
    "duration": 5594,
    "start_time": "2023-09-24T12:38:13.439Z"
   },
   {
    "duration": 2,
    "start_time": "2023-09-24T12:38:39.062Z"
   },
   {
    "duration": 5822,
    "start_time": "2023-09-24T12:38:39.067Z"
   },
   {
    "duration": 3,
    "start_time": "2023-09-24T12:39:03.026Z"
   },
   {
    "duration": 19871,
    "start_time": "2023-09-24T12:39:04.330Z"
   },
   {
    "duration": 3,
    "start_time": "2023-09-24T12:40:05.263Z"
   },
   {
    "duration": 1979,
    "start_time": "2023-09-24T13:25:13.466Z"
   },
   {
    "duration": 979,
    "start_time": "2023-09-24T13:25:15.448Z"
   },
   {
    "duration": 33,
    "start_time": "2023-09-24T13:25:16.429Z"
   },
   {
    "duration": 5,
    "start_time": "2023-09-24T13:25:16.464Z"
   },
   {
    "duration": 11,
    "start_time": "2023-09-24T13:25:16.471Z"
   },
   {
    "duration": 9,
    "start_time": "2023-09-24T13:25:16.483Z"
   },
   {
    "duration": 273,
    "start_time": "2023-09-24T13:25:16.494Z"
   },
   {
    "duration": 27,
    "start_time": "2023-09-24T13:25:16.768Z"
   },
   {
    "duration": 6,
    "start_time": "2023-09-24T13:25:16.798Z"
   },
   {
    "duration": 5,
    "start_time": "2023-09-24T13:25:16.806Z"
   },
   {
    "duration": 35,
    "start_time": "2023-09-24T13:25:16.813Z"
   },
   {
    "duration": 32,
    "start_time": "2023-09-24T13:25:16.850Z"
   },
   {
    "duration": 6,
    "start_time": "2023-09-24T13:25:16.884Z"
   },
   {
    "duration": 4,
    "start_time": "2023-09-24T13:25:16.893Z"
   },
   {
    "duration": 6,
    "start_time": "2023-09-24T13:25:16.898Z"
   },
   {
    "duration": 12,
    "start_time": "2023-09-24T13:25:16.905Z"
   },
   {
    "duration": 30,
    "start_time": "2023-09-24T13:25:16.918Z"
   },
   {
    "duration": 5,
    "start_time": "2023-09-24T13:25:16.949Z"
   },
   {
    "duration": 10,
    "start_time": "2023-09-24T13:25:16.956Z"
   },
   {
    "duration": 2762,
    "start_time": "2023-09-26T04:27:43.618Z"
   },
   {
    "duration": 2443,
    "start_time": "2023-09-26T04:27:46.382Z"
   },
   {
    "duration": 32,
    "start_time": "2023-09-26T04:27:48.827Z"
   },
   {
    "duration": 8,
    "start_time": "2023-09-26T04:27:48.861Z"
   },
   {
    "duration": 19,
    "start_time": "2023-09-26T04:27:48.871Z"
   },
   {
    "duration": 9,
    "start_time": "2023-09-26T04:27:48.892Z"
   },
   {
    "duration": 278,
    "start_time": "2023-09-26T04:27:48.902Z"
   },
   {
    "duration": 28,
    "start_time": "2023-09-26T04:27:49.182Z"
   },
   {
    "duration": 11,
    "start_time": "2023-09-26T04:27:49.212Z"
   },
   {
    "duration": 20,
    "start_time": "2023-09-26T04:27:49.227Z"
   },
   {
    "duration": 16,
    "start_time": "2023-09-26T04:27:49.248Z"
   },
   {
    "duration": 33,
    "start_time": "2023-09-26T04:27:49.266Z"
   },
   {
    "duration": 9,
    "start_time": "2023-09-26T04:27:49.301Z"
   },
   {
    "duration": 4,
    "start_time": "2023-09-26T04:27:49.313Z"
   },
   {
    "duration": 28,
    "start_time": "2023-09-26T04:27:49.319Z"
   },
   {
    "duration": 4,
    "start_time": "2023-09-26T04:27:49.349Z"
   },
   {
    "duration": 11,
    "start_time": "2023-09-26T04:27:49.355Z"
   },
   {
    "duration": 5,
    "start_time": "2023-09-26T04:27:49.368Z"
   },
   {
    "duration": 11,
    "start_time": "2023-09-26T04:27:49.375Z"
   },
   {
    "duration": 761524,
    "start_time": "2023-09-26T04:27:49.387Z"
   },
   {
    "duration": 5,
    "start_time": "2023-09-26T04:40:30.913Z"
   },
   {
    "duration": 53,
    "start_time": "2023-09-26T04:40:30.920Z"
   },
   {
    "duration": 2076,
    "start_time": "2023-09-26T05:06:30.787Z"
   },
   {
    "duration": 928,
    "start_time": "2023-09-26T05:06:32.865Z"
   },
   {
    "duration": 32,
    "start_time": "2023-09-26T05:06:33.794Z"
   },
   {
    "duration": 81,
    "start_time": "2023-09-26T05:06:33.828Z"
   },
   {
    "duration": 34,
    "start_time": "2023-09-26T05:06:33.911Z"
   },
   {
    "duration": 30,
    "start_time": "2023-09-26T05:06:33.946Z"
   },
   {
    "duration": 280,
    "start_time": "2023-09-26T05:06:33.978Z"
   },
   {
    "duration": 27,
    "start_time": "2023-09-26T05:06:34.260Z"
   },
   {
    "duration": 227,
    "start_time": "2023-09-26T05:06:34.288Z"
   },
   {
    "duration": 56,
    "start_time": "2023-09-26T05:06:34.517Z"
   },
   {
    "duration": 46,
    "start_time": "2023-09-26T05:06:34.575Z"
   },
   {
    "duration": 67,
    "start_time": "2023-09-26T05:06:34.623Z"
   },
   {
    "duration": 22,
    "start_time": "2023-09-26T05:06:34.691Z"
   },
   {
    "duration": 22,
    "start_time": "2023-09-26T05:06:34.716Z"
   },
   {
    "duration": 33,
    "start_time": "2023-09-26T05:06:34.739Z"
   },
   {
    "duration": 21,
    "start_time": "2023-09-26T05:06:34.774Z"
   },
   {
    "duration": 33,
    "start_time": "2023-09-26T05:06:34.797Z"
   },
   {
    "duration": 199,
    "start_time": "2023-09-26T05:06:34.832Z"
   },
   {
    "duration": 0,
    "start_time": "2023-09-26T05:06:35.033Z"
   },
   {
    "duration": 0,
    "start_time": "2023-09-26T05:06:35.034Z"
   },
   {
    "duration": 0,
    "start_time": "2023-09-26T05:06:35.037Z"
   },
   {
    "duration": 0,
    "start_time": "2023-09-26T05:06:35.038Z"
   },
   {
    "duration": 0,
    "start_time": "2023-09-26T05:06:35.047Z"
   },
   {
    "duration": 0,
    "start_time": "2023-09-26T05:06:35.048Z"
   },
   {
    "duration": 0,
    "start_time": "2023-09-26T05:06:35.049Z"
   },
   {
    "duration": 0,
    "start_time": "2023-09-26T05:06:35.050Z"
   },
   {
    "duration": 0,
    "start_time": "2023-09-26T05:06:35.051Z"
   },
   {
    "duration": 0,
    "start_time": "2023-09-26T05:06:35.052Z"
   },
   {
    "duration": 1,
    "start_time": "2023-09-26T05:06:35.053Z"
   },
   {
    "duration": 0,
    "start_time": "2023-09-26T05:06:35.055Z"
   },
   {
    "duration": 0,
    "start_time": "2023-09-26T05:06:35.056Z"
   },
   {
    "duration": 0,
    "start_time": "2023-09-26T05:06:35.057Z"
   },
   {
    "duration": 0,
    "start_time": "2023-09-26T05:06:35.058Z"
   },
   {
    "duration": 0,
    "start_time": "2023-09-26T05:06:35.060Z"
   },
   {
    "duration": 0,
    "start_time": "2023-09-26T05:06:35.061Z"
   },
   {
    "duration": 0,
    "start_time": "2023-09-26T05:06:35.062Z"
   },
   {
    "duration": 4,
    "start_time": "2023-09-26T05:07:46.107Z"
   },
   {
    "duration": 12,
    "start_time": "2023-09-26T05:07:46.870Z"
   },
   {
    "duration": 1962,
    "start_time": "2023-09-26T05:10:47.855Z"
   },
   {
    "duration": 948,
    "start_time": "2023-09-26T05:10:49.819Z"
   },
   {
    "duration": 33,
    "start_time": "2023-09-26T05:10:50.769Z"
   },
   {
    "duration": 6,
    "start_time": "2023-09-26T05:10:50.804Z"
   },
   {
    "duration": 14,
    "start_time": "2023-09-26T05:10:50.811Z"
   },
   {
    "duration": 34,
    "start_time": "2023-09-26T05:10:50.827Z"
   },
   {
    "duration": 257,
    "start_time": "2023-09-26T05:10:50.862Z"
   },
   {
    "duration": 29,
    "start_time": "2023-09-26T05:10:51.121Z"
   },
   {
    "duration": 15,
    "start_time": "2023-09-26T05:10:51.151Z"
   },
   {
    "duration": 26,
    "start_time": "2023-09-26T05:10:51.169Z"
   },
   {
    "duration": 11,
    "start_time": "2023-09-26T05:10:51.199Z"
   },
   {
    "duration": 52,
    "start_time": "2023-09-26T05:10:51.212Z"
   },
   {
    "duration": 8,
    "start_time": "2023-09-26T05:10:51.266Z"
   },
   {
    "duration": 6,
    "start_time": "2023-09-26T05:10:51.275Z"
   },
   {
    "duration": 24,
    "start_time": "2023-09-26T05:10:51.282Z"
   },
   {
    "duration": 15,
    "start_time": "2023-09-26T05:10:51.307Z"
   },
   {
    "duration": 152,
    "start_time": "2023-09-26T05:10:51.323Z"
   },
   {
    "duration": 0,
    "start_time": "2023-09-26T05:10:51.477Z"
   },
   {
    "duration": 0,
    "start_time": "2023-09-26T05:10:51.478Z"
   },
   {
    "duration": 0,
    "start_time": "2023-09-26T05:10:51.479Z"
   },
   {
    "duration": 0,
    "start_time": "2023-09-26T05:10:51.481Z"
   },
   {
    "duration": 0,
    "start_time": "2023-09-26T05:10:51.482Z"
   },
   {
    "duration": 0,
    "start_time": "2023-09-26T05:10:51.484Z"
   },
   {
    "duration": 0,
    "start_time": "2023-09-26T05:10:51.485Z"
   },
   {
    "duration": 0,
    "start_time": "2023-09-26T05:10:51.487Z"
   },
   {
    "duration": 0,
    "start_time": "2023-09-26T05:10:51.488Z"
   },
   {
    "duration": 0,
    "start_time": "2023-09-26T05:10:51.490Z"
   },
   {
    "duration": 0,
    "start_time": "2023-09-26T05:10:51.491Z"
   },
   {
    "duration": 0,
    "start_time": "2023-09-26T05:10:51.493Z"
   },
   {
    "duration": 0,
    "start_time": "2023-09-26T05:10:51.494Z"
   },
   {
    "duration": 0,
    "start_time": "2023-09-26T05:10:51.495Z"
   },
   {
    "duration": 0,
    "start_time": "2023-09-26T05:10:51.497Z"
   },
   {
    "duration": 0,
    "start_time": "2023-09-26T05:10:51.498Z"
   },
   {
    "duration": 0,
    "start_time": "2023-09-26T05:10:51.500Z"
   },
   {
    "duration": 0,
    "start_time": "2023-09-26T05:10:51.501Z"
   },
   {
    "duration": 1727,
    "start_time": "2023-09-26T05:11:35.462Z"
   },
   {
    "duration": 1006,
    "start_time": "2023-09-26T05:11:37.191Z"
   },
   {
    "duration": 34,
    "start_time": "2023-09-26T05:11:38.199Z"
   },
   {
    "duration": 13,
    "start_time": "2023-09-26T05:11:38.235Z"
   },
   {
    "duration": 26,
    "start_time": "2023-09-26T05:11:38.250Z"
   },
   {
    "duration": 15,
    "start_time": "2023-09-26T05:11:38.278Z"
   },
   {
    "duration": 261,
    "start_time": "2023-09-26T05:11:38.295Z"
   },
   {
    "duration": 27,
    "start_time": "2023-09-26T05:11:38.558Z"
   },
   {
    "duration": 6,
    "start_time": "2023-09-26T05:11:38.587Z"
   },
   {
    "duration": 5,
    "start_time": "2023-09-26T05:11:38.596Z"
   },
   {
    "duration": 31,
    "start_time": "2023-09-26T05:11:38.602Z"
   },
   {
    "duration": 43,
    "start_time": "2023-09-26T05:11:38.634Z"
   },
   {
    "duration": 8,
    "start_time": "2023-09-26T05:11:38.679Z"
   },
   {
    "duration": 20,
    "start_time": "2023-09-26T05:11:38.688Z"
   },
   {
    "duration": 6,
    "start_time": "2023-09-26T05:11:38.710Z"
   },
   {
    "duration": 12,
    "start_time": "2023-09-26T05:11:38.717Z"
   },
   {
    "duration": 164,
    "start_time": "2023-09-26T05:11:38.731Z"
   },
   {
    "duration": 0,
    "start_time": "2023-09-26T05:11:38.897Z"
   },
   {
    "duration": 0,
    "start_time": "2023-09-26T05:11:38.898Z"
   },
   {
    "duration": 0,
    "start_time": "2023-09-26T05:11:38.899Z"
   },
   {
    "duration": 0,
    "start_time": "2023-09-26T05:11:38.900Z"
   },
   {
    "duration": 0,
    "start_time": "2023-09-26T05:11:38.901Z"
   },
   {
    "duration": 0,
    "start_time": "2023-09-26T05:11:38.902Z"
   },
   {
    "duration": 0,
    "start_time": "2023-09-26T05:11:38.903Z"
   },
   {
    "duration": 0,
    "start_time": "2023-09-26T05:11:38.904Z"
   },
   {
    "duration": 0,
    "start_time": "2023-09-26T05:11:38.905Z"
   },
   {
    "duration": 0,
    "start_time": "2023-09-26T05:11:38.906Z"
   },
   {
    "duration": 0,
    "start_time": "2023-09-26T05:11:38.908Z"
   },
   {
    "duration": 0,
    "start_time": "2023-09-26T05:11:38.909Z"
   },
   {
    "duration": 0,
    "start_time": "2023-09-26T05:11:38.910Z"
   },
   {
    "duration": 0,
    "start_time": "2023-09-26T05:11:38.911Z"
   },
   {
    "duration": 0,
    "start_time": "2023-09-26T05:11:38.912Z"
   },
   {
    "duration": 0,
    "start_time": "2023-09-26T05:11:38.914Z"
   },
   {
    "duration": 0,
    "start_time": "2023-09-26T05:11:38.915Z"
   },
   {
    "duration": 0,
    "start_time": "2023-09-26T05:11:38.916Z"
   },
   {
    "duration": 13,
    "start_time": "2023-09-26T05:12:55.501Z"
   },
   {
    "duration": 7,
    "start_time": "2023-09-26T05:13:52.598Z"
   },
   {
    "duration": 4872,
    "start_time": "2023-09-26T05:13:53.440Z"
   },
   {
    "duration": 98834,
    "start_time": "2023-09-26T05:14:09.660Z"
   },
   {
    "duration": 8,
    "start_time": "2023-09-26T05:17:33.386Z"
   },
   {
    "duration": 13,
    "start_time": "2023-09-26T05:17:38.271Z"
   },
   {
    "duration": 2112,
    "start_time": "2023-09-26T05:19:39.804Z"
   },
   {
    "duration": 932,
    "start_time": "2023-09-26T05:19:41.919Z"
   },
   {
    "duration": 28,
    "start_time": "2023-09-26T05:19:42.853Z"
   },
   {
    "duration": 6,
    "start_time": "2023-09-26T05:19:42.883Z"
   },
   {
    "duration": 22,
    "start_time": "2023-09-26T05:19:42.891Z"
   },
   {
    "duration": 7,
    "start_time": "2023-09-26T05:19:42.915Z"
   },
   {
    "duration": 267,
    "start_time": "2023-09-26T05:19:42.924Z"
   },
   {
    "duration": 28,
    "start_time": "2023-09-26T05:19:43.193Z"
   },
   {
    "duration": 10,
    "start_time": "2023-09-26T05:19:43.222Z"
   },
   {
    "duration": 18,
    "start_time": "2023-09-26T05:19:43.233Z"
   },
   {
    "duration": 21,
    "start_time": "2023-09-26T05:19:43.252Z"
   },
   {
    "duration": 39,
    "start_time": "2023-09-26T05:19:43.275Z"
   },
   {
    "duration": 11,
    "start_time": "2023-09-26T05:19:43.315Z"
   },
   {
    "duration": 19,
    "start_time": "2023-09-26T05:19:43.328Z"
   },
   {
    "duration": 16,
    "start_time": "2023-09-26T05:19:43.349Z"
   },
   {
    "duration": 17,
    "start_time": "2023-09-26T05:19:43.367Z"
   },
   {
    "duration": 22,
    "start_time": "2023-09-26T05:19:43.386Z"
   },
   {
    "duration": 100215,
    "start_time": "2023-09-26T05:19:43.409Z"
   },
   {
    "duration": 9,
    "start_time": "2023-09-26T05:21:23.626Z"
   },
   {
    "duration": 7,
    "start_time": "2023-09-26T05:21:23.647Z"
   },
   {
    "duration": 15,
    "start_time": "2023-09-26T05:21:23.655Z"
   },
   {
    "duration": 32,
    "start_time": "2023-09-26T05:21:23.672Z"
   },
   {
    "duration": 57,
    "start_time": "2023-09-26T05:21:23.706Z"
   },
   {
    "duration": 147,
    "start_time": "2023-09-26T05:21:23.764Z"
   },
   {
    "duration": 0,
    "start_time": "2023-09-26T05:21:23.913Z"
   },
   {
    "duration": 0,
    "start_time": "2023-09-26T05:21:23.915Z"
   },
   {
    "duration": 0,
    "start_time": "2023-09-26T05:21:23.916Z"
   },
   {
    "duration": 0,
    "start_time": "2023-09-26T05:21:23.918Z"
   },
   {
    "duration": 0,
    "start_time": "2023-09-26T05:21:23.919Z"
   },
   {
    "duration": 0,
    "start_time": "2023-09-26T05:21:23.921Z"
   },
   {
    "duration": 0,
    "start_time": "2023-09-26T05:21:23.922Z"
   },
   {
    "duration": 0,
    "start_time": "2023-09-26T05:21:23.946Z"
   },
   {
    "duration": 0,
    "start_time": "2023-09-26T05:21:23.947Z"
   },
   {
    "duration": 0,
    "start_time": "2023-09-26T05:21:23.948Z"
   },
   {
    "duration": 0,
    "start_time": "2023-09-26T05:21:23.949Z"
   },
   {
    "duration": 0,
    "start_time": "2023-09-26T05:21:23.950Z"
   },
   {
    "duration": 46,
    "start_time": "2023-09-26T05:21:49.359Z"
   },
   {
    "duration": 4,
    "start_time": "2023-09-26T05:21:50.183Z"
   },
   {
    "duration": 4,
    "start_time": "2023-09-26T05:21:53.146Z"
   },
   {
    "duration": 9,
    "start_time": "2023-09-26T05:21:54.518Z"
   },
   {
    "duration": 8,
    "start_time": "2023-09-26T05:22:17.955Z"
   },
   {
    "duration": 4,
    "start_time": "2023-09-26T05:22:20.959Z"
   },
   {
    "duration": 17,
    "start_time": "2023-09-26T05:22:27.202Z"
   },
   {
    "duration": 10,
    "start_time": "2023-09-26T05:23:29.298Z"
   },
   {
    "duration": 4,
    "start_time": "2023-09-26T05:23:34.193Z"
   },
   {
    "duration": 4,
    "start_time": "2023-09-26T05:23:38.638Z"
   },
   {
    "duration": 9,
    "start_time": "2023-09-26T05:24:36.960Z"
   },
   {
    "duration": 4,
    "start_time": "2023-09-26T05:24:38.501Z"
   },
   {
    "duration": 4,
    "start_time": "2023-09-26T05:24:41.104Z"
   },
   {
    "duration": 1970,
    "start_time": "2023-09-26T05:25:52.127Z"
   },
   {
    "duration": 939,
    "start_time": "2023-09-26T05:25:54.100Z"
   },
   {
    "duration": 33,
    "start_time": "2023-09-26T05:25:55.040Z"
   },
   {
    "duration": 15,
    "start_time": "2023-09-26T05:25:55.075Z"
   },
   {
    "duration": 68,
    "start_time": "2023-09-26T05:25:55.092Z"
   },
   {
    "duration": 18,
    "start_time": "2023-09-26T05:25:55.163Z"
   },
   {
    "duration": 312,
    "start_time": "2023-09-26T05:25:55.183Z"
   },
   {
    "duration": 29,
    "start_time": "2023-09-26T05:25:55.497Z"
   },
   {
    "duration": 19,
    "start_time": "2023-09-26T05:25:55.528Z"
   },
   {
    "duration": 6,
    "start_time": "2023-09-26T05:25:55.549Z"
   },
   {
    "duration": 10,
    "start_time": "2023-09-26T05:25:55.557Z"
   },
   {
    "duration": 39,
    "start_time": "2023-09-26T05:25:55.569Z"
   },
   {
    "duration": 16,
    "start_time": "2023-09-26T05:25:55.610Z"
   },
   {
    "duration": 6,
    "start_time": "2023-09-26T05:25:55.648Z"
   },
   {
    "duration": 5,
    "start_time": "2023-09-26T05:25:55.655Z"
   },
   {
    "duration": 29,
    "start_time": "2023-09-26T05:25:55.662Z"
   },
   {
    "duration": 9,
    "start_time": "2023-09-26T05:25:55.693Z"
   },
   {
    "duration": 100995,
    "start_time": "2023-09-26T05:25:55.704Z"
   },
   {
    "duration": 8,
    "start_time": "2023-09-26T05:27:36.701Z"
   },
   {
    "duration": 10,
    "start_time": "2023-09-26T05:27:36.710Z"
   },
   {
    "duration": 48,
    "start_time": "2023-09-26T05:27:36.722Z"
   },
   {
    "duration": 33,
    "start_time": "2023-09-26T05:27:36.772Z"
   },
   {
    "duration": 4,
    "start_time": "2023-09-26T05:27:36.807Z"
   },
   {
    "duration": 12,
    "start_time": "2023-09-26T05:27:36.812Z"
   },
   {
    "duration": 27,
    "start_time": "2023-09-26T05:27:36.825Z"
   },
   {
    "duration": 32,
    "start_time": "2023-09-26T05:27:36.853Z"
   },
   {
    "duration": 182,
    "start_time": "2023-09-26T05:27:36.886Z"
   },
   {
    "duration": 0,
    "start_time": "2023-09-26T05:27:37.069Z"
   },
   {
    "duration": 0,
    "start_time": "2023-09-26T05:27:37.071Z"
   },
   {
    "duration": 0,
    "start_time": "2023-09-26T05:27:37.072Z"
   },
   {
    "duration": 0,
    "start_time": "2023-09-26T05:27:37.075Z"
   },
   {
    "duration": 0,
    "start_time": "2023-09-26T05:27:37.076Z"
   },
   {
    "duration": 0,
    "start_time": "2023-09-26T05:27:37.078Z"
   },
   {
    "duration": 0,
    "start_time": "2023-09-26T05:27:37.079Z"
   },
   {
    "duration": 0,
    "start_time": "2023-09-26T05:27:37.080Z"
   },
   {
    "duration": 2736,
    "start_time": "2023-09-26T06:32:30.086Z"
   },
   {
    "duration": 2435,
    "start_time": "2023-09-26T06:32:32.824Z"
   },
   {
    "duration": 37,
    "start_time": "2023-09-26T06:32:35.261Z"
   },
   {
    "duration": 39,
    "start_time": "2023-09-26T06:32:35.301Z"
   },
   {
    "duration": 48,
    "start_time": "2023-09-26T06:32:35.342Z"
   },
   {
    "duration": 40,
    "start_time": "2023-09-26T06:32:35.392Z"
   },
   {
    "duration": 280,
    "start_time": "2023-09-26T06:32:35.434Z"
   },
   {
    "duration": 27,
    "start_time": "2023-09-26T06:32:35.716Z"
   },
   {
    "duration": 37,
    "start_time": "2023-09-26T06:32:35.745Z"
   },
   {
    "duration": 23,
    "start_time": "2023-09-26T06:32:35.785Z"
   },
   {
    "duration": 28,
    "start_time": "2023-09-26T06:32:35.810Z"
   },
   {
    "duration": 44,
    "start_time": "2023-09-26T06:32:35.840Z"
   },
   {
    "duration": 14,
    "start_time": "2023-09-26T06:32:35.886Z"
   },
   {
    "duration": 20,
    "start_time": "2023-09-26T06:32:35.902Z"
   },
   {
    "duration": 7,
    "start_time": "2023-09-26T06:32:35.924Z"
   },
   {
    "duration": 23,
    "start_time": "2023-09-26T06:32:35.933Z"
   },
   {
    "duration": 22,
    "start_time": "2023-09-26T06:32:35.958Z"
   },
   {
    "duration": 96891,
    "start_time": "2023-09-26T06:32:35.982Z"
   },
   {
    "duration": 7,
    "start_time": "2023-09-26T06:34:12.875Z"
   },
   {
    "duration": 35,
    "start_time": "2023-09-26T06:34:12.884Z"
   },
   {
    "duration": 12,
    "start_time": "2023-09-26T06:34:12.921Z"
   },
   {
    "duration": 36,
    "start_time": "2023-09-26T06:34:12.935Z"
   },
   {
    "duration": 4,
    "start_time": "2023-09-26T06:34:12.973Z"
   },
   {
    "duration": 6919,
    "start_time": "2023-09-26T06:34:12.979Z"
   },
   {
    "duration": 709,
    "start_time": "2023-09-26T06:34:19.900Z"
   },
   {
    "duration": 4,
    "start_time": "2023-09-26T06:34:20.611Z"
   },
   {
    "duration": 245524,
    "start_time": "2023-09-26T06:34:20.617Z"
   },
   {
    "duration": 0,
    "start_time": "2023-09-26T06:38:26.143Z"
   },
   {
    "duration": 0,
    "start_time": "2023-09-26T06:38:26.145Z"
   },
   {
    "duration": 0,
    "start_time": "2023-09-26T06:38:26.146Z"
   },
   {
    "duration": 0,
    "start_time": "2023-09-26T06:38:26.147Z"
   },
   {
    "duration": 1,
    "start_time": "2023-09-26T06:38:26.148Z"
   },
   {
    "duration": 0,
    "start_time": "2023-09-26T06:38:26.150Z"
   },
   {
    "duration": 0,
    "start_time": "2023-09-26T06:38:26.151Z"
   },
   {
    "duration": 0,
    "start_time": "2023-09-26T06:38:26.152Z"
   },
   {
    "duration": 245351,
    "start_time": "2023-09-26T06:42:09.569Z"
   },
   {
    "duration": 130,
    "start_time": "2023-09-26T06:47:48.063Z"
   },
   {
    "duration": 3,
    "start_time": "2023-09-26T06:47:55.495Z"
   },
   {
    "duration": 3,
    "start_time": "2023-09-26T06:48:16.626Z"
   },
   {
    "duration": 4,
    "start_time": "2023-09-26T06:48:20.072Z"
   },
   {
    "duration": 99359,
    "start_time": "2023-09-26T06:48:22.175Z"
   },
   {
    "duration": 13,
    "start_time": "2023-09-26T06:53:01.981Z"
   },
   {
    "duration": 13,
    "start_time": "2023-09-26T06:54:49.114Z"
   },
   {
    "duration": 27,
    "start_time": "2023-09-26T06:55:08.881Z"
   },
   {
    "duration": 4,
    "start_time": "2023-09-26T06:55:09.360Z"
   },
   {
    "duration": 2056,
    "start_time": "2023-09-26T07:09:11.934Z"
   },
   {
    "duration": 908,
    "start_time": "2023-09-26T07:09:13.992Z"
   },
   {
    "duration": 35,
    "start_time": "2023-09-26T07:09:14.901Z"
   },
   {
    "duration": 6,
    "start_time": "2023-09-26T07:09:14.938Z"
   },
   {
    "duration": 13,
    "start_time": "2023-09-26T07:09:14.946Z"
   },
   {
    "duration": 10,
    "start_time": "2023-09-26T07:09:14.960Z"
   },
   {
    "duration": 278,
    "start_time": "2023-09-26T07:09:14.971Z"
   },
   {
    "duration": 27,
    "start_time": "2023-09-26T07:09:15.251Z"
   },
   {
    "duration": 16,
    "start_time": "2023-09-26T07:09:15.280Z"
   },
   {
    "duration": 36,
    "start_time": "2023-09-26T07:09:15.299Z"
   },
   {
    "duration": 18,
    "start_time": "2023-09-26T07:09:15.337Z"
   },
   {
    "duration": 38,
    "start_time": "2023-09-26T07:09:15.357Z"
   },
   {
    "duration": 10,
    "start_time": "2023-09-26T07:09:15.397Z"
   },
   {
    "duration": 5,
    "start_time": "2023-09-26T07:09:15.409Z"
   },
   {
    "duration": 98981,
    "start_time": "2023-09-26T07:09:15.416Z"
   },
   {
    "duration": 16,
    "start_time": "2023-09-26T07:10:54.399Z"
   },
   {
    "duration": 34,
    "start_time": "2023-09-26T07:10:54.417Z"
   },
   {
    "duration": 5,
    "start_time": "2023-09-26T07:10:54.453Z"
   },
   {
    "duration": 42,
    "start_time": "2023-09-26T07:10:54.460Z"
   },
   {
    "duration": 4,
    "start_time": "2023-09-26T07:10:54.504Z"
   },
   {
    "duration": 7221,
    "start_time": "2023-09-26T07:10:54.510Z"
   },
   {
    "duration": 725,
    "start_time": "2023-09-26T07:11:01.733Z"
   },
   {
    "duration": 5,
    "start_time": "2023-09-26T07:11:02.460Z"
   },
   {
    "duration": 469,
    "start_time": "2023-09-26T07:11:02.466Z"
   },
   {
    "duration": 0,
    "start_time": "2023-09-26T07:11:02.938Z"
   },
   {
    "duration": 0,
    "start_time": "2023-09-26T07:11:02.939Z"
   },
   {
    "duration": 0,
    "start_time": "2023-09-26T07:11:02.940Z"
   },
   {
    "duration": 0,
    "start_time": "2023-09-26T07:11:02.941Z"
   },
   {
    "duration": 0,
    "start_time": "2023-09-26T07:11:02.942Z"
   },
   {
    "duration": 0,
    "start_time": "2023-09-26T07:11:02.943Z"
   },
   {
    "duration": 0,
    "start_time": "2023-09-26T07:11:02.944Z"
   },
   {
    "duration": 0,
    "start_time": "2023-09-26T07:11:02.946Z"
   },
   {
    "duration": 0,
    "start_time": "2023-09-26T07:11:02.947Z"
   },
   {
    "duration": 0,
    "start_time": "2023-09-26T07:11:02.948Z"
   },
   {
    "duration": 0,
    "start_time": "2023-09-26T07:11:02.950Z"
   },
   {
    "duration": 0,
    "start_time": "2023-09-26T07:11:02.951Z"
   },
   {
    "duration": 0,
    "start_time": "2023-09-26T07:11:02.952Z"
   },
   {
    "duration": 0,
    "start_time": "2023-09-26T07:11:02.953Z"
   },
   {
    "duration": 0,
    "start_time": "2023-09-26T07:11:02.954Z"
   },
   {
    "duration": 0,
    "start_time": "2023-09-26T07:11:02.955Z"
   },
   {
    "duration": 0,
    "start_time": "2023-09-26T07:11:02.957Z"
   },
   {
    "duration": 13,
    "start_time": "2023-09-26T07:12:07.588Z"
   },
   {
    "duration": 11,
    "start_time": "2023-09-26T07:12:15.186Z"
   },
   {
    "duration": 254762,
    "start_time": "2023-09-26T07:12:27.953Z"
   },
   {
    "duration": 3,
    "start_time": "2023-09-26T07:17:19.486Z"
   },
   {
    "duration": 92,
    "start_time": "2023-09-26T07:19:03.982Z"
   },
   {
    "duration": 2079,
    "start_time": "2023-09-26T07:34:46.614Z"
   },
   {
    "duration": 946,
    "start_time": "2023-09-26T07:34:48.696Z"
   },
   {
    "duration": 34,
    "start_time": "2023-09-26T07:34:49.644Z"
   },
   {
    "duration": 30,
    "start_time": "2023-09-26T07:34:49.680Z"
   },
   {
    "duration": 10,
    "start_time": "2023-09-26T07:34:49.712Z"
   },
   {
    "duration": 7,
    "start_time": "2023-09-26T07:34:49.724Z"
   },
   {
    "duration": 261,
    "start_time": "2023-09-26T07:34:49.733Z"
   },
   {
    "duration": 30,
    "start_time": "2023-09-26T07:34:49.996Z"
   },
   {
    "duration": 13,
    "start_time": "2023-09-26T07:34:50.027Z"
   },
   {
    "duration": 6,
    "start_time": "2023-09-26T07:34:50.043Z"
   },
   {
    "duration": 10,
    "start_time": "2023-09-26T07:34:50.051Z"
   },
   {
    "duration": 55,
    "start_time": "2023-09-26T07:34:50.063Z"
   },
   {
    "duration": 8,
    "start_time": "2023-09-26T07:34:50.120Z"
   },
   {
    "duration": 5,
    "start_time": "2023-09-26T07:34:50.129Z"
   },
   {
    "duration": 98962,
    "start_time": "2023-09-26T07:34:50.136Z"
   },
   {
    "duration": 8,
    "start_time": "2023-09-26T07:36:29.109Z"
   },
   {
    "duration": 11,
    "start_time": "2023-09-26T07:36:29.119Z"
   },
   {
    "duration": 51,
    "start_time": "2023-09-26T07:36:29.131Z"
   },
   {
    "duration": 4,
    "start_time": "2023-09-26T07:36:29.184Z"
   },
   {
    "duration": 7150,
    "start_time": "2023-09-26T07:36:29.189Z"
   },
   {
    "duration": 719,
    "start_time": "2023-09-26T07:36:36.341Z"
   },
   {
    "duration": 4,
    "start_time": "2023-09-26T07:36:37.062Z"
   },
   {
    "duration": 2095,
    "start_time": "2023-09-26T07:42:31.758Z"
   },
   {
    "duration": 925,
    "start_time": "2023-09-26T07:42:33.855Z"
   },
   {
    "duration": 36,
    "start_time": "2023-09-26T07:42:34.782Z"
   },
   {
    "duration": 6,
    "start_time": "2023-09-26T07:42:34.819Z"
   },
   {
    "duration": 10,
    "start_time": "2023-09-26T07:42:34.827Z"
   },
   {
    "duration": 42,
    "start_time": "2023-09-26T07:42:34.839Z"
   },
   {
    "duration": 253,
    "start_time": "2023-09-26T07:42:34.883Z"
   },
   {
    "duration": 28,
    "start_time": "2023-09-26T07:42:35.138Z"
   },
   {
    "duration": 31,
    "start_time": "2023-09-26T07:42:35.168Z"
   },
   {
    "duration": 46,
    "start_time": "2023-09-26T07:42:35.201Z"
   },
   {
    "duration": 16,
    "start_time": "2023-09-26T07:42:35.249Z"
   },
   {
    "duration": 48,
    "start_time": "2023-09-26T07:42:35.267Z"
   },
   {
    "duration": 34,
    "start_time": "2023-09-26T07:42:35.317Z"
   },
   {
    "duration": 20,
    "start_time": "2023-09-26T07:42:35.354Z"
   },
   {
    "duration": 99375,
    "start_time": "2023-09-26T07:42:35.376Z"
   },
   {
    "duration": 8,
    "start_time": "2023-09-26T07:44:14.753Z"
   },
   {
    "duration": 7,
    "start_time": "2023-09-26T07:44:14.763Z"
   },
   {
    "duration": 50,
    "start_time": "2023-09-26T07:44:14.771Z"
   },
   {
    "duration": 4,
    "start_time": "2023-09-26T07:44:14.823Z"
   },
   {
    "duration": 7094,
    "start_time": "2023-09-26T07:44:14.828Z"
   },
   {
    "duration": 788,
    "start_time": "2023-09-26T07:44:21.924Z"
   },
   {
    "duration": 4,
    "start_time": "2023-09-26T07:44:22.713Z"
   },
   {
    "duration": 240,
    "start_time": "2023-09-26T07:44:22.719Z"
   },
   {
    "duration": 3,
    "start_time": "2023-09-26T07:44:22.961Z"
   },
   {
    "duration": 21,
    "start_time": "2023-09-26T07:44:22.965Z"
   },
   {
    "duration": 17,
    "start_time": "2023-09-26T07:44:22.988Z"
   },
   {
    "duration": 18,
    "start_time": "2023-09-26T07:44:23.007Z"
   },
   {
    "duration": 2136,
    "start_time": "2023-09-26T07:48:28.622Z"
   },
   {
    "duration": 943,
    "start_time": "2023-09-26T07:48:30.760Z"
   },
   {
    "duration": 36,
    "start_time": "2023-09-26T07:48:31.704Z"
   },
   {
    "duration": 60,
    "start_time": "2023-09-26T07:48:31.742Z"
   },
   {
    "duration": 37,
    "start_time": "2023-09-26T07:48:31.804Z"
   },
   {
    "duration": 26,
    "start_time": "2023-09-26T07:48:31.843Z"
   },
   {
    "duration": 260,
    "start_time": "2023-09-26T07:48:31.870Z"
   },
   {
    "duration": 26,
    "start_time": "2023-09-26T07:48:32.132Z"
   },
   {
    "duration": 32,
    "start_time": "2023-09-26T07:48:32.160Z"
   },
   {
    "duration": 29,
    "start_time": "2023-09-26T07:48:32.194Z"
   },
   {
    "duration": 21,
    "start_time": "2023-09-26T07:48:32.225Z"
   },
   {
    "duration": 44,
    "start_time": "2023-09-26T07:48:32.248Z"
   },
   {
    "duration": 14,
    "start_time": "2023-09-26T07:48:32.294Z"
   },
   {
    "duration": 15,
    "start_time": "2023-09-26T07:48:32.311Z"
   },
   {
    "duration": 100397,
    "start_time": "2023-09-26T07:48:32.329Z"
   },
   {
    "duration": 8,
    "start_time": "2023-09-26T07:50:12.728Z"
   },
   {
    "duration": 8,
    "start_time": "2023-09-26T07:50:12.738Z"
   },
   {
    "duration": 66,
    "start_time": "2023-09-26T07:50:12.747Z"
   },
   {
    "duration": 5,
    "start_time": "2023-09-26T07:50:12.815Z"
   },
   {
    "duration": 7155,
    "start_time": "2023-09-26T07:50:12.822Z"
   },
   {
    "duration": 741,
    "start_time": "2023-09-26T07:50:19.979Z"
   },
   {
    "duration": 4,
    "start_time": "2023-09-26T07:50:20.722Z"
   },
   {
    "duration": 1185,
    "start_time": "2023-09-26T07:50:20.728Z"
   },
   {
    "duration": 3,
    "start_time": "2023-09-26T07:50:21.916Z"
   },
   {
    "duration": 52,
    "start_time": "2023-09-26T07:50:21.922Z"
   },
   {
    "duration": 20,
    "start_time": "2023-09-26T07:50:21.976Z"
   },
   {
    "duration": 25,
    "start_time": "2023-09-26T07:50:21.998Z"
   },
   {
    "duration": 2137,
    "start_time": "2023-09-26T07:54:05.309Z"
   },
   {
    "duration": 945,
    "start_time": "2023-09-26T07:54:07.448Z"
   },
   {
    "duration": 37,
    "start_time": "2023-09-26T07:54:08.395Z"
   },
   {
    "duration": 18,
    "start_time": "2023-09-26T07:54:08.434Z"
   },
   {
    "duration": 32,
    "start_time": "2023-09-26T07:54:08.454Z"
   },
   {
    "duration": 21,
    "start_time": "2023-09-26T07:54:08.488Z"
   },
   {
    "duration": 271,
    "start_time": "2023-09-26T07:54:08.511Z"
   },
   {
    "duration": 34,
    "start_time": "2023-09-26T07:54:08.784Z"
   },
   {
    "duration": 23,
    "start_time": "2023-09-26T07:54:08.820Z"
   },
   {
    "duration": 19,
    "start_time": "2023-09-26T07:54:08.846Z"
   },
   {
    "duration": 17,
    "start_time": "2023-09-26T07:54:08.867Z"
   },
   {
    "duration": 41,
    "start_time": "2023-09-26T07:54:08.886Z"
   },
   {
    "duration": 7,
    "start_time": "2023-09-26T07:54:08.929Z"
   },
   {
    "duration": 11,
    "start_time": "2023-09-26T07:54:08.937Z"
   },
   {
    "duration": 100225,
    "start_time": "2023-09-26T07:54:08.950Z"
   },
   {
    "duration": 8,
    "start_time": "2023-09-26T07:55:49.177Z"
   },
   {
    "duration": 8,
    "start_time": "2023-09-26T07:55:49.186Z"
   },
   {
    "duration": 73,
    "start_time": "2023-09-26T07:55:49.196Z"
   },
   {
    "duration": 4,
    "start_time": "2023-09-26T07:55:49.271Z"
   },
   {
    "duration": 6933,
    "start_time": "2023-09-26T07:55:49.276Z"
   },
   {
    "duration": 748,
    "start_time": "2023-09-26T07:55:56.211Z"
   },
   {
    "duration": 5,
    "start_time": "2023-09-26T07:55:56.961Z"
   },
   {
    "duration": 1037,
    "start_time": "2023-09-26T07:55:56.968Z"
   },
   {
    "duration": 3,
    "start_time": "2023-09-26T07:55:58.007Z"
   },
   {
    "duration": 11,
    "start_time": "2023-09-26T07:55:58.012Z"
   },
   {
    "duration": 6,
    "start_time": "2023-09-26T07:55:58.025Z"
   },
   {
    "duration": 6,
    "start_time": "2023-09-26T07:55:58.033Z"
   },
   {
    "duration": 2117,
    "start_time": "2023-09-26T08:09:24.793Z"
   },
   {
    "duration": 943,
    "start_time": "2023-09-26T08:09:26.913Z"
   },
   {
    "duration": 52,
    "start_time": "2023-09-26T08:09:27.858Z"
   },
   {
    "duration": 9,
    "start_time": "2023-09-26T08:09:27.912Z"
   },
   {
    "duration": 11,
    "start_time": "2023-09-26T08:09:27.925Z"
   },
   {
    "duration": 13,
    "start_time": "2023-09-26T08:09:27.937Z"
   },
   {
    "duration": 299,
    "start_time": "2023-09-26T08:09:27.952Z"
   },
   {
    "duration": 30,
    "start_time": "2023-09-26T08:09:28.253Z"
   },
   {
    "duration": 28,
    "start_time": "2023-09-26T08:09:28.285Z"
   },
   {
    "duration": 5,
    "start_time": "2023-09-26T08:09:28.315Z"
   },
   {
    "duration": 24,
    "start_time": "2023-09-26T08:09:28.322Z"
   },
   {
    "duration": 46,
    "start_time": "2023-09-26T08:09:28.348Z"
   },
   {
    "duration": 23,
    "start_time": "2023-09-26T08:09:28.396Z"
   },
   {
    "duration": 21,
    "start_time": "2023-09-26T08:09:28.422Z"
   },
   {
    "duration": 100327,
    "start_time": "2023-09-26T08:09:28.445Z"
   },
   {
    "duration": 9,
    "start_time": "2023-09-26T08:11:08.774Z"
   },
   {
    "duration": 192,
    "start_time": "2023-09-26T08:11:08.785Z"
   },
   {
    "duration": 134,
    "start_time": "2023-09-26T08:11:08.979Z"
   },
   {
    "duration": 3,
    "start_time": "2023-09-26T08:11:09.115Z"
   },
   {
    "duration": 6965,
    "start_time": "2023-09-26T08:11:09.120Z"
   },
   {
    "duration": 719,
    "start_time": "2023-09-26T08:11:16.087Z"
   },
   {
    "duration": 4,
    "start_time": "2023-09-26T08:11:16.808Z"
   },
   {
    "duration": 88028,
    "start_time": "2023-09-26T08:11:16.813Z"
   },
   {
    "duration": 110,
    "start_time": "2023-09-26T08:12:44.843Z"
   },
   {
    "duration": 0,
    "start_time": "2023-09-26T08:12:44.955Z"
   },
   {
    "duration": 0,
    "start_time": "2023-09-26T08:12:44.956Z"
   },
   {
    "duration": 0,
    "start_time": "2023-09-26T08:12:44.957Z"
   },
   {
    "duration": 0,
    "start_time": "2023-09-26T08:12:44.958Z"
   },
   {
    "duration": 0,
    "start_time": "2023-09-26T08:12:44.960Z"
   },
   {
    "duration": 0,
    "start_time": "2023-09-26T08:12:44.961Z"
   },
   {
    "duration": 0,
    "start_time": "2023-09-26T08:12:44.962Z"
   },
   {
    "duration": 0,
    "start_time": "2023-09-26T08:12:44.964Z"
   },
   {
    "duration": 138,
    "start_time": "2023-09-26T08:13:53.998Z"
   },
   {
    "duration": 9550,
    "start_time": "2023-09-26T08:14:25.761Z"
   },
   {
    "duration": 51,
    "start_time": "2023-09-26T08:15:31.950Z"
   },
   {
    "duration": 2432,
    "start_time": "2023-09-26T08:16:59.747Z"
   },
   {
    "duration": 2598,
    "start_time": "2023-09-26T08:17:02.181Z"
   },
   {
    "duration": 34,
    "start_time": "2023-09-26T08:17:04.781Z"
   },
   {
    "duration": 12,
    "start_time": "2023-09-26T08:17:04.816Z"
   },
   {
    "duration": 19,
    "start_time": "2023-09-26T08:17:04.829Z"
   },
   {
    "duration": 33,
    "start_time": "2023-09-26T08:17:04.850Z"
   },
   {
    "duration": 266,
    "start_time": "2023-09-26T08:17:04.884Z"
   },
   {
    "duration": 28,
    "start_time": "2023-09-26T08:17:05.152Z"
   },
   {
    "duration": 41,
    "start_time": "2023-09-26T08:17:05.182Z"
   },
   {
    "duration": 36,
    "start_time": "2023-09-26T08:17:05.226Z"
   },
   {
    "duration": 25,
    "start_time": "2023-09-26T08:17:05.264Z"
   },
   {
    "duration": 59,
    "start_time": "2023-09-26T08:17:05.291Z"
   },
   {
    "duration": 19,
    "start_time": "2023-09-26T08:17:05.352Z"
   },
   {
    "duration": 39,
    "start_time": "2023-09-26T08:17:05.373Z"
   },
   {
    "duration": 99573,
    "start_time": "2023-09-26T08:17:05.413Z"
   },
   {
    "duration": 8,
    "start_time": "2023-09-26T08:18:44.988Z"
   },
   {
    "duration": 40,
    "start_time": "2023-09-26T08:18:45.010Z"
   },
   {
    "duration": 82,
    "start_time": "2023-09-26T08:18:45.051Z"
   },
   {
    "duration": 3,
    "start_time": "2023-09-26T08:18:45.135Z"
   },
   {
    "duration": 7049,
    "start_time": "2023-09-26T08:18:45.140Z"
   },
   {
    "duration": 785,
    "start_time": "2023-09-26T08:18:52.191Z"
   },
   {
    "duration": 4,
    "start_time": "2023-09-26T08:18:52.978Z"
   },
   {
    "duration": 133875,
    "start_time": "2023-09-26T08:18:52.984Z"
   },
   {
    "duration": 3,
    "start_time": "2023-09-26T08:21:06.860Z"
   },
   {
    "duration": 6,
    "start_time": "2023-09-26T08:21:06.865Z"
   },
   {
    "duration": 9,
    "start_time": "2023-09-26T08:21:06.873Z"
   },
   {
    "duration": 6,
    "start_time": "2023-09-26T08:21:06.884Z"
   },
   {
    "duration": 18,
    "start_time": "2023-09-26T08:21:06.893Z"
   },
   {
    "duration": 4,
    "start_time": "2023-09-26T08:21:06.913Z"
   },
   {
    "duration": 10635,
    "start_time": "2023-09-26T08:21:06.919Z"
   },
   {
    "duration": 54,
    "start_time": "2023-09-26T08:22:38.790Z"
   },
   {
    "duration": 2067,
    "start_time": "2023-09-26T08:23:25.940Z"
   },
   {
    "duration": 2471,
    "start_time": "2023-09-26T08:23:28.009Z"
   },
   {
    "duration": 33,
    "start_time": "2023-09-26T08:23:30.482Z"
   },
   {
    "duration": 25,
    "start_time": "2023-09-26T08:23:30.517Z"
   },
   {
    "duration": 28,
    "start_time": "2023-09-26T08:23:30.544Z"
   },
   {
    "duration": 46,
    "start_time": "2023-09-26T08:23:30.574Z"
   },
   {
    "duration": 296,
    "start_time": "2023-09-26T08:23:30.622Z"
   },
   {
    "duration": 27,
    "start_time": "2023-09-26T08:23:30.920Z"
   },
   {
    "duration": 40,
    "start_time": "2023-09-26T08:23:30.949Z"
   },
   {
    "duration": 61,
    "start_time": "2023-09-26T08:23:30.991Z"
   },
   {
    "duration": 47,
    "start_time": "2023-09-26T08:23:31.055Z"
   },
   {
    "duration": 66,
    "start_time": "2023-09-26T08:23:31.103Z"
   },
   {
    "duration": 29,
    "start_time": "2023-09-26T08:23:31.171Z"
   },
   {
    "duration": 84,
    "start_time": "2023-09-26T08:23:31.204Z"
   },
   {
    "duration": 99618,
    "start_time": "2023-09-26T08:23:31.290Z"
   },
   {
    "duration": 9,
    "start_time": "2023-09-26T08:25:10.910Z"
   },
   {
    "duration": 4,
    "start_time": "2023-09-26T08:25:10.921Z"
   },
   {
    "duration": 37,
    "start_time": "2023-09-26T08:25:10.927Z"
   },
   {
    "duration": 6,
    "start_time": "2023-09-26T08:25:10.965Z"
   },
   {
    "duration": 7178,
    "start_time": "2023-09-26T08:25:10.972Z"
   },
   {
    "duration": 714,
    "start_time": "2023-09-26T08:25:18.152Z"
   },
   {
    "duration": 5,
    "start_time": "2023-09-26T08:25:18.869Z"
   },
   {
    "duration": 7,
    "start_time": "2023-09-26T08:25:18.875Z"
   },
   {
    "duration": 6,
    "start_time": "2023-09-26T08:25:18.884Z"
   },
   {
    "duration": 18,
    "start_time": "2023-09-26T08:25:18.891Z"
   },
   {
    "duration": 3,
    "start_time": "2023-09-26T08:25:18.911Z"
   },
   {
    "duration": 10,
    "start_time": "2023-09-26T08:25:18.916Z"
   },
   {
    "duration": 5,
    "start_time": "2023-09-26T08:25:18.927Z"
   },
   {
    "duration": 215387,
    "start_time": "2023-09-26T08:25:18.934Z"
   },
   {
    "duration": 0,
    "start_time": "2023-09-26T08:28:54.322Z"
   },
   {
    "duration": 0,
    "start_time": "2023-09-26T08:28:54.327Z"
   },
   {
    "duration": 2,
    "start_time": "2023-09-26T08:28:58.938Z"
   },
   {
    "duration": 3,
    "start_time": "2023-09-26T08:28:59.716Z"
   },
   {
    "duration": 76,
    "start_time": "2023-09-26T08:29:00.351Z"
   },
   {
    "duration": 42,
    "start_time": "2023-09-26T08:29:36.771Z"
   },
   {
    "duration": 203,
    "start_time": "2023-09-26T08:30:01.995Z"
   },
   {
    "duration": 3,
    "start_time": "2023-09-26T08:30:38.562Z"
   },
   {
    "duration": 158,
    "start_time": "2023-09-26T08:30:39.292Z"
   },
   {
    "duration": 3,
    "start_time": "2023-09-26T08:31:28.012Z"
   },
   {
    "duration": 2083,
    "start_time": "2023-09-26T08:32:45.328Z"
   },
   {
    "duration": 915,
    "start_time": "2023-09-26T08:32:47.414Z"
   },
   {
    "duration": 34,
    "start_time": "2023-09-26T08:32:48.331Z"
   },
   {
    "duration": 6,
    "start_time": "2023-09-26T08:32:48.368Z"
   },
   {
    "duration": 34,
    "start_time": "2023-09-26T08:32:48.376Z"
   },
   {
    "duration": 7,
    "start_time": "2023-09-26T08:32:48.413Z"
   },
   {
    "duration": 259,
    "start_time": "2023-09-26T08:32:48.422Z"
   },
   {
    "duration": 30,
    "start_time": "2023-09-26T08:32:48.683Z"
   },
   {
    "duration": 5,
    "start_time": "2023-09-26T08:32:48.715Z"
   },
   {
    "duration": 15,
    "start_time": "2023-09-26T08:32:48.723Z"
   },
   {
    "duration": 11,
    "start_time": "2023-09-26T08:32:48.740Z"
   },
   {
    "duration": 56,
    "start_time": "2023-09-26T08:32:48.753Z"
   },
   {
    "duration": 7,
    "start_time": "2023-09-26T08:32:48.811Z"
   },
   {
    "duration": 6,
    "start_time": "2023-09-26T08:32:48.820Z"
   },
   {
    "duration": 99673,
    "start_time": "2023-09-26T08:32:48.828Z"
   },
   {
    "duration": 8,
    "start_time": "2023-09-26T08:34:28.510Z"
   },
   {
    "duration": 22,
    "start_time": "2023-09-26T08:34:28.520Z"
   },
   {
    "duration": 47,
    "start_time": "2023-09-26T08:34:28.543Z"
   },
   {
    "duration": 4,
    "start_time": "2023-09-26T08:34:28.592Z"
   },
   {
    "duration": 7196,
    "start_time": "2023-09-26T08:34:28.598Z"
   },
   {
    "duration": 728,
    "start_time": "2023-09-26T08:34:35.796Z"
   },
   {
    "duration": 4,
    "start_time": "2023-09-26T08:34:36.526Z"
   },
   {
    "duration": 5,
    "start_time": "2023-09-26T08:34:36.531Z"
   },
   {
    "duration": 5,
    "start_time": "2023-09-26T08:34:36.538Z"
   },
   {
    "duration": 6,
    "start_time": "2023-09-26T08:34:36.544Z"
   },
   {
    "duration": 7,
    "start_time": "2023-09-26T08:34:36.552Z"
   },
   {
    "duration": 8,
    "start_time": "2023-09-26T08:34:36.560Z"
   },
   {
    "duration": 12,
    "start_time": "2023-09-26T08:34:36.572Z"
   },
   {
    "duration": 5,
    "start_time": "2023-09-26T08:34:36.586Z"
   },
   {
    "duration": 629891,
    "start_time": "2023-09-26T08:34:36.613Z"
   },
   {
    "duration": 266,
    "start_time": "2023-09-26T08:46:49.549Z"
   },
   {
    "duration": 3,
    "start_time": "2023-09-26T08:47:33.193Z"
   },
   {
    "duration": 147,
    "start_time": "2023-09-26T08:47:33.687Z"
   },
   {
    "duration": 3,
    "start_time": "2023-09-26T08:47:54.324Z"
   },
   {
    "duration": 149,
    "start_time": "2023-09-26T08:47:54.903Z"
   },
   {
    "duration": 1103277,
    "start_time": "2023-09-26T08:49:21.889Z"
   },
   {
    "duration": 13,
    "start_time": "2023-09-26T09:07:45.168Z"
   },
   {
    "duration": 1965,
    "start_time": "2023-09-26T09:08:54.504Z"
   },
   {
    "duration": 317272,
    "start_time": "2023-09-26T09:09:39.312Z"
   },
   {
    "duration": 251868,
    "start_time": "2023-09-26T09:14:56.586Z"
   },
   {
    "duration": 3,
    "start_time": "2023-09-26T09:19:08.456Z"
   },
   {
    "duration": 3,
    "start_time": "2023-09-26T09:19:34.407Z"
   },
   {
    "duration": 13,
    "start_time": "2023-09-26T09:19:35.159Z"
   },
   {
    "duration": 55,
    "start_time": "2023-09-26T09:22:14.459Z"
   },
   {
    "duration": 0,
    "start_time": "2023-09-26T09:22:14.516Z"
   },
   {
    "duration": 0,
    "start_time": "2023-09-26T09:22:14.518Z"
   },
   {
    "duration": 0,
    "start_time": "2023-09-26T09:22:14.519Z"
   },
   {
    "duration": 0,
    "start_time": "2023-09-26T09:22:14.520Z"
   },
   {
    "duration": 0,
    "start_time": "2023-09-26T09:22:14.522Z"
   },
   {
    "duration": 0,
    "start_time": "2023-09-26T09:22:14.523Z"
   },
   {
    "duration": 0,
    "start_time": "2023-09-26T09:22:14.524Z"
   },
   {
    "duration": 0,
    "start_time": "2023-09-26T09:22:14.525Z"
   },
   {
    "duration": 8,
    "start_time": "2023-09-26T09:22:14.528Z"
   },
   {
    "duration": 0,
    "start_time": "2023-09-26T09:22:14.537Z"
   },
   {
    "duration": 0,
    "start_time": "2023-09-26T09:22:14.539Z"
   },
   {
    "duration": 0,
    "start_time": "2023-09-26T09:22:14.540Z"
   },
   {
    "duration": 0,
    "start_time": "2023-09-26T09:22:14.541Z"
   },
   {
    "duration": 0,
    "start_time": "2023-09-26T09:22:14.542Z"
   },
   {
    "duration": 0,
    "start_time": "2023-09-26T09:22:14.543Z"
   },
   {
    "duration": 0,
    "start_time": "2023-09-26T09:22:14.544Z"
   },
   {
    "duration": 0,
    "start_time": "2023-09-26T09:22:14.545Z"
   },
   {
    "duration": 0,
    "start_time": "2023-09-26T09:22:14.547Z"
   },
   {
    "duration": 7,
    "start_time": "2023-09-26T09:22:14.614Z"
   },
   {
    "duration": 0,
    "start_time": "2023-09-26T09:22:14.623Z"
   },
   {
    "duration": 0,
    "start_time": "2023-09-26T09:22:14.624Z"
   },
   {
    "duration": 0,
    "start_time": "2023-09-26T09:22:14.625Z"
   },
   {
    "duration": 0,
    "start_time": "2023-09-26T09:22:14.626Z"
   },
   {
    "duration": 0,
    "start_time": "2023-09-26T09:22:14.628Z"
   },
   {
    "duration": 3,
    "start_time": "2023-09-26T09:22:14.727Z"
   },
   {
    "duration": 14,
    "start_time": "2023-09-26T09:22:14.732Z"
   },
   {
    "duration": 8,
    "start_time": "2023-09-26T09:22:14.748Z"
   },
   {
    "duration": 703,
    "start_time": "2023-09-26T09:22:14.758Z"
   },
   {
    "duration": 156,
    "start_time": "2023-09-26T09:22:15.463Z"
   },
   {
    "duration": 8,
    "start_time": "2023-09-26T09:22:15.620Z"
   },
   {
    "duration": 0,
    "start_time": "2023-09-26T09:22:15.630Z"
   },
   {
    "duration": 0,
    "start_time": "2023-09-26T09:22:15.631Z"
   },
   {
    "duration": 1967,
    "start_time": "2023-09-26T09:22:39.075Z"
   },
   {
    "duration": 998,
    "start_time": "2023-09-26T09:22:41.044Z"
   },
   {
    "duration": 34,
    "start_time": "2023-09-26T09:22:42.044Z"
   },
   {
    "duration": 27,
    "start_time": "2023-09-26T09:22:42.081Z"
   },
   {
    "duration": 26,
    "start_time": "2023-09-26T09:22:42.110Z"
   },
   {
    "duration": 19,
    "start_time": "2023-09-26T09:22:42.138Z"
   },
   {
    "duration": 256,
    "start_time": "2023-09-26T09:22:42.160Z"
   },
   {
    "duration": 28,
    "start_time": "2023-09-26T09:22:42.418Z"
   },
   {
    "duration": 10,
    "start_time": "2023-09-26T09:22:42.448Z"
   },
   {
    "duration": 8,
    "start_time": "2023-09-26T09:22:42.461Z"
   },
   {
    "duration": 38,
    "start_time": "2023-09-26T09:22:42.471Z"
   },
   {
    "duration": 32,
    "start_time": "2023-09-26T09:22:42.511Z"
   },
   {
    "duration": 7,
    "start_time": "2023-09-26T09:22:42.545Z"
   },
   {
    "duration": 6,
    "start_time": "2023-09-26T09:22:42.554Z"
   },
   {
    "duration": 4,
    "start_time": "2023-09-26T09:22:42.562Z"
   },
   {
    "duration": 204,
    "start_time": "2023-09-26T09:22:42.568Z"
   },
   {
    "duration": 0,
    "start_time": "2023-09-26T09:22:42.775Z"
   },
   {
    "duration": 0,
    "start_time": "2023-09-26T09:22:42.778Z"
   },
   {
    "duration": 0,
    "start_time": "2023-09-26T09:22:42.779Z"
   },
   {
    "duration": 0,
    "start_time": "2023-09-26T09:22:42.781Z"
   },
   {
    "duration": 0,
    "start_time": "2023-09-26T09:22:42.783Z"
   },
   {
    "duration": 0,
    "start_time": "2023-09-26T09:22:42.784Z"
   },
   {
    "duration": 0,
    "start_time": "2023-09-26T09:22:42.786Z"
   },
   {
    "duration": 0,
    "start_time": "2023-09-26T09:22:42.787Z"
   },
   {
    "duration": 0,
    "start_time": "2023-09-26T09:22:42.788Z"
   },
   {
    "duration": 0,
    "start_time": "2023-09-26T09:22:42.809Z"
   },
   {
    "duration": 0,
    "start_time": "2023-09-26T09:22:42.811Z"
   },
   {
    "duration": 0,
    "start_time": "2023-09-26T09:22:42.813Z"
   },
   {
    "duration": 0,
    "start_time": "2023-09-26T09:22:42.815Z"
   },
   {
    "duration": 0,
    "start_time": "2023-09-26T09:22:42.817Z"
   },
   {
    "duration": 0,
    "start_time": "2023-09-26T09:22:42.819Z"
   },
   {
    "duration": 0,
    "start_time": "2023-09-26T09:22:42.820Z"
   },
   {
    "duration": 0,
    "start_time": "2023-09-26T09:22:42.822Z"
   },
   {
    "duration": 0,
    "start_time": "2023-09-26T09:22:42.823Z"
   },
   {
    "duration": 4,
    "start_time": "2023-09-26T09:23:35.617Z"
   },
   {
    "duration": 12,
    "start_time": "2023-09-26T09:23:36.211Z"
   },
   {
    "duration": 1973,
    "start_time": "2023-09-26T09:25:11.449Z"
   },
   {
    "duration": 0,
    "start_time": "2023-09-26T09:25:13.424Z"
   },
   {
    "duration": 0,
    "start_time": "2023-09-26T09:25:13.425Z"
   },
   {
    "duration": 0,
    "start_time": "2023-09-26T09:25:13.427Z"
   },
   {
    "duration": 0,
    "start_time": "2023-09-26T09:25:13.428Z"
   },
   {
    "duration": 0,
    "start_time": "2023-09-26T09:25:13.430Z"
   },
   {
    "duration": 0,
    "start_time": "2023-09-26T09:25:13.431Z"
   },
   {
    "duration": 0,
    "start_time": "2023-09-26T09:25:13.432Z"
   },
   {
    "duration": 0,
    "start_time": "2023-09-26T09:25:13.433Z"
   },
   {
    "duration": 0,
    "start_time": "2023-09-26T09:25:13.435Z"
   },
   {
    "duration": 0,
    "start_time": "2023-09-26T09:25:13.436Z"
   },
   {
    "duration": 0,
    "start_time": "2023-09-26T09:25:13.437Z"
   },
   {
    "duration": 0,
    "start_time": "2023-09-26T09:25:13.439Z"
   },
   {
    "duration": 0,
    "start_time": "2023-09-26T09:25:13.440Z"
   },
   {
    "duration": 0,
    "start_time": "2023-09-26T09:25:13.441Z"
   },
   {
    "duration": 0,
    "start_time": "2023-09-26T09:25:13.442Z"
   },
   {
    "duration": 0,
    "start_time": "2023-09-26T09:25:13.444Z"
   },
   {
    "duration": 0,
    "start_time": "2023-09-26T09:25:13.445Z"
   },
   {
    "duration": 1,
    "start_time": "2023-09-26T09:25:13.445Z"
   },
   {
    "duration": 0,
    "start_time": "2023-09-26T09:25:13.447Z"
   },
   {
    "duration": 0,
    "start_time": "2023-09-26T09:25:13.448Z"
   },
   {
    "duration": 0,
    "start_time": "2023-09-26T09:25:13.449Z"
   },
   {
    "duration": 0,
    "start_time": "2023-09-26T09:25:13.450Z"
   },
   {
    "duration": 0,
    "start_time": "2023-09-26T09:25:13.451Z"
   },
   {
    "duration": 0,
    "start_time": "2023-09-26T09:25:13.452Z"
   },
   {
    "duration": 0,
    "start_time": "2023-09-26T09:25:13.453Z"
   },
   {
    "duration": 0,
    "start_time": "2023-09-26T09:25:13.454Z"
   },
   {
    "duration": 0,
    "start_time": "2023-09-26T09:25:13.509Z"
   },
   {
    "duration": 0,
    "start_time": "2023-09-26T09:25:13.511Z"
   },
   {
    "duration": 0,
    "start_time": "2023-09-26T09:25:13.512Z"
   },
   {
    "duration": 0,
    "start_time": "2023-09-26T09:25:13.513Z"
   },
   {
    "duration": 0,
    "start_time": "2023-09-26T09:25:13.514Z"
   },
   {
    "duration": 0,
    "start_time": "2023-09-26T09:25:13.515Z"
   },
   {
    "duration": 9407,
    "start_time": "2023-09-26T09:25:37.550Z"
   },
   {
    "duration": 976,
    "start_time": "2023-09-26T09:25:46.959Z"
   },
   {
    "duration": 32,
    "start_time": "2023-09-26T09:25:47.936Z"
   },
   {
    "duration": 28,
    "start_time": "2023-09-26T09:25:47.971Z"
   },
   {
    "duration": 62,
    "start_time": "2023-09-26T09:25:48.001Z"
   },
   {
    "duration": 40,
    "start_time": "2023-09-26T09:25:48.065Z"
   },
   {
    "duration": 273,
    "start_time": "2023-09-26T09:25:48.107Z"
   },
   {
    "duration": 33,
    "start_time": "2023-09-26T09:25:48.382Z"
   },
   {
    "duration": 36,
    "start_time": "2023-09-26T09:25:48.416Z"
   },
   {
    "duration": 30,
    "start_time": "2023-09-26T09:25:48.454Z"
   },
   {
    "duration": 31,
    "start_time": "2023-09-26T09:25:48.486Z"
   },
   {
    "duration": 68,
    "start_time": "2023-09-26T09:25:48.519Z"
   },
   {
    "duration": 32,
    "start_time": "2023-09-26T09:25:48.589Z"
   },
   {
    "duration": 39,
    "start_time": "2023-09-26T09:25:48.624Z"
   },
   {
    "duration": 99967,
    "start_time": "2023-09-26T09:25:48.665Z"
   },
   {
    "duration": 9,
    "start_time": "2023-09-26T09:27:28.634Z"
   },
   {
    "duration": 15,
    "start_time": "2023-09-26T09:27:28.645Z"
   },
   {
    "duration": 36,
    "start_time": "2023-09-26T09:27:28.662Z"
   },
   {
    "duration": 4,
    "start_time": "2023-09-26T09:27:28.710Z"
   },
   {
    "duration": 7404,
    "start_time": "2023-09-26T09:27:28.716Z"
   },
   {
    "duration": 754,
    "start_time": "2023-09-26T09:27:36.121Z"
   },
   {
    "duration": 4,
    "start_time": "2023-09-26T09:27:36.877Z"
   },
   {
    "duration": 26,
    "start_time": "2023-09-26T09:27:36.882Z"
   },
   {
    "duration": 8,
    "start_time": "2023-09-26T09:27:36.910Z"
   },
   {
    "duration": 11,
    "start_time": "2023-09-26T09:27:36.919Z"
   },
   {
    "duration": 14,
    "start_time": "2023-09-26T09:27:36.932Z"
   },
   {
    "duration": 9,
    "start_time": "2023-09-26T09:27:36.948Z"
   },
   {
    "duration": 7,
    "start_time": "2023-09-26T09:27:36.961Z"
   },
   {
    "duration": 62,
    "start_time": "2023-09-26T09:27:36.970Z"
   },
   {
    "duration": 319497,
    "start_time": "2023-09-26T09:27:37.034Z"
   },
   {
    "duration": 3,
    "start_time": "2023-09-26T09:32:56.533Z"
   },
   {
    "duration": 174,
    "start_time": "2023-09-26T09:32:56.537Z"
   },
   {
    "duration": 0,
    "start_time": "2023-09-26T09:32:56.713Z"
   },
   {
    "duration": 62,
    "start_time": "2023-09-26T09:36:04.566Z"
   },
   {
    "duration": 132521,
    "start_time": "2023-09-26T09:36:13.839Z"
   },
   {
    "duration": 335,
    "start_time": "2023-09-26T09:40:42.163Z"
   },
   {
    "duration": 8,
    "start_time": "2023-09-26T09:42:15.929Z"
   },
   {
    "duration": 270621,
    "start_time": "2023-09-26T09:42:20.735Z"
   },
   {
    "duration": 135377,
    "start_time": "2023-09-26T09:56:09.747Z"
   },
   {
    "duration": 210226,
    "start_time": "2023-09-26T10:04:26.530Z"
   },
   {
    "duration": 105,
    "start_time": "2023-09-26T10:12:37.507Z"
   },
   {
    "duration": 36,
    "start_time": "2023-09-26T10:13:52.759Z"
   },
   {
    "duration": 4,
    "start_time": "2023-09-26T10:14:00.064Z"
   },
   {
    "duration": 61,
    "start_time": "2023-09-26T10:38:36.006Z"
   },
   {
    "duration": 2047,
    "start_time": "2023-09-26T10:38:42.150Z"
   },
   {
    "duration": 954,
    "start_time": "2023-09-26T10:38:44.200Z"
   },
   {
    "duration": 36,
    "start_time": "2023-09-26T10:38:45.156Z"
   },
   {
    "duration": 20,
    "start_time": "2023-09-26T10:38:45.194Z"
   },
   {
    "duration": 18,
    "start_time": "2023-09-26T10:38:45.216Z"
   },
   {
    "duration": 10,
    "start_time": "2023-09-26T10:38:45.239Z"
   },
   {
    "duration": 280,
    "start_time": "2023-09-26T10:38:45.251Z"
   },
   {
    "duration": 29,
    "start_time": "2023-09-26T10:38:45.533Z"
   },
   {
    "duration": 24,
    "start_time": "2023-09-26T10:38:45.564Z"
   },
   {
    "duration": 10,
    "start_time": "2023-09-26T10:38:45.591Z"
   },
   {
    "duration": 35,
    "start_time": "2023-09-26T10:38:45.602Z"
   },
   {
    "duration": 53,
    "start_time": "2023-09-26T10:38:45.640Z"
   },
   {
    "duration": 18,
    "start_time": "2023-09-26T10:38:45.695Z"
   },
   {
    "duration": 15,
    "start_time": "2023-09-26T10:38:45.715Z"
   },
   {
    "duration": 102178,
    "start_time": "2023-09-26T10:38:45.731Z"
   },
   {
    "duration": 8,
    "start_time": "2023-09-26T10:40:27.911Z"
   },
   {
    "duration": 10,
    "start_time": "2023-09-26T10:40:27.921Z"
   },
   {
    "duration": 38,
    "start_time": "2023-09-26T10:40:27.933Z"
   },
   {
    "duration": 4,
    "start_time": "2023-09-26T10:40:27.973Z"
   },
   {
    "duration": 7145,
    "start_time": "2023-09-26T10:40:27.979Z"
   },
   {
    "duration": 754,
    "start_time": "2023-09-26T10:40:35.126Z"
   },
   {
    "duration": 4,
    "start_time": "2023-09-26T10:40:35.882Z"
   },
   {
    "duration": 27,
    "start_time": "2023-09-26T10:40:35.887Z"
   },
   {
    "duration": 0,
    "start_time": "2023-09-26T10:40:35.915Z"
   },
   {
    "duration": 0,
    "start_time": "2023-09-26T10:40:35.917Z"
   },
   {
    "duration": 0,
    "start_time": "2023-09-26T10:40:35.918Z"
   },
   {
    "duration": 0,
    "start_time": "2023-09-26T10:40:35.919Z"
   },
   {
    "duration": 0,
    "start_time": "2023-09-26T10:40:35.920Z"
   },
   {
    "duration": 0,
    "start_time": "2023-09-26T10:40:35.921Z"
   },
   {
    "duration": 0,
    "start_time": "2023-09-26T10:40:35.922Z"
   },
   {
    "duration": 0,
    "start_time": "2023-09-26T10:40:35.923Z"
   },
   {
    "duration": 0,
    "start_time": "2023-09-26T10:40:35.924Z"
   },
   {
    "duration": 0,
    "start_time": "2023-09-26T10:40:35.925Z"
   },
   {
    "duration": 7,
    "start_time": "2023-09-26T10:46:00.536Z"
   },
   {
    "duration": 8,
    "start_time": "2023-09-26T10:46:53.014Z"
   },
   {
    "duration": 7,
    "start_time": "2023-09-26T10:47:00.476Z"
   },
   {
    "duration": 6,
    "start_time": "2023-09-26T10:47:27.967Z"
   },
   {
    "duration": 6,
    "start_time": "2023-09-26T10:48:02.190Z"
   },
   {
    "duration": 2144,
    "start_time": "2023-09-26T10:48:30.215Z"
   },
   {
    "duration": 1021,
    "start_time": "2023-09-26T10:48:32.362Z"
   },
   {
    "duration": 42,
    "start_time": "2023-09-26T10:48:33.385Z"
   },
   {
    "duration": 7,
    "start_time": "2023-09-26T10:48:33.428Z"
   },
   {
    "duration": 10,
    "start_time": "2023-09-26T10:48:33.438Z"
   },
   {
    "duration": 9,
    "start_time": "2023-09-26T10:48:33.450Z"
   },
   {
    "duration": 283,
    "start_time": "2023-09-26T10:48:33.461Z"
   },
   {
    "duration": 29,
    "start_time": "2023-09-26T10:48:33.746Z"
   },
   {
    "duration": 13,
    "start_time": "2023-09-26T10:48:33.777Z"
   },
   {
    "duration": 22,
    "start_time": "2023-09-26T10:48:33.792Z"
   },
   {
    "duration": 12,
    "start_time": "2023-09-26T10:48:33.816Z"
   },
   {
    "duration": 35,
    "start_time": "2023-09-26T10:48:33.830Z"
   },
   {
    "duration": 8,
    "start_time": "2023-09-26T10:48:33.867Z"
   },
   {
    "duration": 37,
    "start_time": "2023-09-26T10:48:33.878Z"
   },
   {
    "duration": 104148,
    "start_time": "2023-09-26T10:48:33.917Z"
   },
   {
    "duration": 9,
    "start_time": "2023-09-26T10:50:18.066Z"
   },
   {
    "duration": 4,
    "start_time": "2023-09-26T10:50:18.077Z"
   },
   {
    "duration": 57,
    "start_time": "2023-09-26T10:50:18.083Z"
   },
   {
    "duration": 4,
    "start_time": "2023-09-26T10:50:18.142Z"
   },
   {
    "duration": 7492,
    "start_time": "2023-09-26T10:50:18.148Z"
   },
   {
    "duration": 820,
    "start_time": "2023-09-26T10:50:25.643Z"
   },
   {
    "duration": 4,
    "start_time": "2023-09-26T10:50:26.465Z"
   },
   {
    "duration": 202077,
    "start_time": "2023-09-26T10:50:26.471Z"
   },
   {
    "duration": 275108,
    "start_time": "2023-09-26T10:53:48.550Z"
   },
   {
    "duration": 2,
    "start_time": "2023-09-26T10:58:23.660Z"
   },
   {
    "duration": 10,
    "start_time": "2023-09-26T10:58:23.665Z"
   },
   {
    "duration": 7,
    "start_time": "2023-09-26T10:58:23.677Z"
   },
   {
    "duration": 14,
    "start_time": "2023-09-26T10:58:23.686Z"
   },
   {
    "duration": 207834,
    "start_time": "2023-09-26T10:58:23.709Z"
   },
   {
    "duration": 447,
    "start_time": "2023-09-26T11:01:51.545Z"
   },
   {
    "duration": 3,
    "start_time": "2023-09-26T11:01:51.993Z"
   },
   {
    "duration": 87062,
    "start_time": "2023-09-26T11:01:51.997Z"
   },
   {
    "duration": 13,
    "start_time": "2023-09-26T11:03:19.061Z"
   },
   {
    "duration": 7,
    "start_time": "2023-09-26T11:03:50.055Z"
   },
   {
    "duration": 181552,
    "start_time": "2023-09-26T11:05:57.825Z"
   },
   {
    "duration": 3,
    "start_time": "2023-09-26T11:08:59.379Z"
   },
   {
    "duration": 89791,
    "start_time": "2023-09-26T11:08:59.384Z"
   },
   {
    "duration": 7,
    "start_time": "2023-09-26T11:10:29.177Z"
   },
   {
    "duration": 2232,
    "start_time": "2023-09-26T11:25:08.600Z"
   },
   {
    "duration": 960,
    "start_time": "2023-09-26T11:25:10.834Z"
   },
   {
    "duration": 39,
    "start_time": "2023-09-26T11:25:11.797Z"
   },
   {
    "duration": 7,
    "start_time": "2023-09-26T11:25:11.840Z"
   },
   {
    "duration": 10,
    "start_time": "2023-09-26T11:25:11.849Z"
   },
   {
    "duration": 10,
    "start_time": "2023-09-26T11:25:11.861Z"
   },
   {
    "duration": 296,
    "start_time": "2023-09-26T11:25:11.873Z"
   },
   {
    "duration": 29,
    "start_time": "2023-09-26T11:25:12.171Z"
   },
   {
    "duration": 6,
    "start_time": "2023-09-26T11:25:12.211Z"
   },
   {
    "duration": 12,
    "start_time": "2023-09-26T11:25:12.219Z"
   },
   {
    "duration": 20,
    "start_time": "2023-09-26T11:25:12.234Z"
   },
   {
    "duration": 62,
    "start_time": "2023-09-26T11:25:12.256Z"
   },
   {
    "duration": 8,
    "start_time": "2023-09-26T11:25:12.320Z"
   },
   {
    "duration": 6,
    "start_time": "2023-09-26T11:25:12.330Z"
   },
   {
    "duration": 104083,
    "start_time": "2023-09-26T11:25:12.338Z"
   },
   {
    "duration": 9,
    "start_time": "2023-09-26T11:26:56.423Z"
   },
   {
    "duration": 41,
    "start_time": "2023-09-26T11:26:56.433Z"
   },
   {
    "duration": 80,
    "start_time": "2023-09-26T11:26:56.476Z"
   },
   {
    "duration": 25,
    "start_time": "2023-09-26T11:26:56.558Z"
   },
   {
    "duration": 7577,
    "start_time": "2023-09-26T11:26:56.585Z"
   },
   {
    "duration": 736,
    "start_time": "2023-09-26T11:27:04.164Z"
   },
   {
    "duration": 8,
    "start_time": "2023-09-26T11:27:04.902Z"
   },
   {
    "duration": 198635,
    "start_time": "2023-09-26T11:27:04.911Z"
   },
   {
    "duration": 501265,
    "start_time": "2023-09-26T11:30:23.548Z"
   },
   {
    "duration": 2270948,
    "start_time": "2023-09-26T11:38:44.815Z"
   },
   {
    "duration": 7,
    "start_time": "2023-09-26T12:16:35.766Z"
   },
   {
    "duration": 16,
    "start_time": "2023-09-26T12:16:35.810Z"
   },
   {
    "duration": 4646,
    "start_time": "2023-09-26T16:13:10.683Z"
   },
   {
    "duration": 2426,
    "start_time": "2023-09-26T16:13:15.332Z"
   },
   {
    "duration": 32,
    "start_time": "2023-09-26T16:13:17.760Z"
   },
   {
    "duration": 85,
    "start_time": "2023-09-26T16:13:17.794Z"
   },
   {
    "duration": 18,
    "start_time": "2023-09-26T16:13:17.881Z"
   },
   {
    "duration": 7,
    "start_time": "2023-09-26T16:13:17.901Z"
   },
   {
    "duration": 243,
    "start_time": "2023-09-26T16:13:17.910Z"
   },
   {
    "duration": 26,
    "start_time": "2023-09-26T16:13:18.155Z"
   },
   {
    "duration": 7,
    "start_time": "2023-09-26T16:13:18.182Z"
   },
   {
    "duration": 6,
    "start_time": "2023-09-26T16:13:18.210Z"
   },
   {
    "duration": 9,
    "start_time": "2023-09-26T16:13:18.218Z"
   },
   {
    "duration": 38,
    "start_time": "2023-09-26T16:13:18.229Z"
   },
   {
    "duration": 22,
    "start_time": "2023-09-26T16:13:18.269Z"
   },
   {
    "duration": 7,
    "start_time": "2023-09-26T16:13:18.293Z"
   },
   {
    "duration": 4,
    "start_time": "2023-09-26T16:13:18.309Z"
   },
   {
    "duration": 98002,
    "start_time": "2023-09-26T16:13:18.315Z"
   },
   {
    "duration": 140,
    "start_time": "2023-09-26T16:14:56.319Z"
   },
   {
    "duration": 0,
    "start_time": "2023-09-26T16:14:56.460Z"
   },
   {
    "duration": 0,
    "start_time": "2023-09-26T16:14:56.462Z"
   },
   {
    "duration": 0,
    "start_time": "2023-09-26T16:14:56.463Z"
   },
   {
    "duration": 0,
    "start_time": "2023-09-26T16:14:56.464Z"
   },
   {
    "duration": 0,
    "start_time": "2023-09-26T16:14:56.466Z"
   },
   {
    "duration": 0,
    "start_time": "2023-09-26T16:14:56.466Z"
   },
   {
    "duration": 0,
    "start_time": "2023-09-26T16:14:56.468Z"
   },
   {
    "duration": 0,
    "start_time": "2023-09-26T16:14:56.469Z"
   },
   {
    "duration": 0,
    "start_time": "2023-09-26T16:14:56.470Z"
   },
   {
    "duration": 0,
    "start_time": "2023-09-26T16:14:56.471Z"
   },
   {
    "duration": 0,
    "start_time": "2023-09-26T16:14:56.472Z"
   },
   {
    "duration": 0,
    "start_time": "2023-09-26T16:14:56.473Z"
   },
   {
    "duration": 537,
    "start_time": "2023-09-26T16:15:34.037Z"
   },
   {
    "duration": 38,
    "start_time": "2023-09-26T16:16:02.608Z"
   },
   {
    "duration": 774,
    "start_time": "2023-09-26T16:16:26.250Z"
   },
   {
    "duration": 5,
    "start_time": "2023-09-26T16:17:22.904Z"
   },
   {
    "duration": 8,
    "start_time": "2023-09-26T16:17:39.686Z"
   },
   {
    "duration": 196,
    "start_time": "2023-09-26T16:18:46.111Z"
   },
   {
    "duration": 704,
    "start_time": "2023-09-26T16:18:56.045Z"
   },
   {
    "duration": 3990,
    "start_time": "2023-09-27T06:30:13.690Z"
   },
   {
    "duration": 3173,
    "start_time": "2023-09-27T06:30:17.682Z"
   },
   {
    "duration": 29,
    "start_time": "2023-09-27T06:30:20.856Z"
   },
   {
    "duration": 9,
    "start_time": "2023-09-27T06:30:20.887Z"
   },
   {
    "duration": 12,
    "start_time": "2023-09-27T06:30:20.897Z"
   },
   {
    "duration": 8,
    "start_time": "2023-09-27T06:30:20.911Z"
   },
   {
    "duration": 231,
    "start_time": "2023-09-27T06:30:20.921Z"
   },
   {
    "duration": 24,
    "start_time": "2023-09-27T06:30:21.154Z"
   },
   {
    "duration": 20,
    "start_time": "2023-09-27T06:30:21.179Z"
   },
   {
    "duration": 5,
    "start_time": "2023-09-27T06:30:21.201Z"
   },
   {
    "duration": 14,
    "start_time": "2023-09-27T06:30:21.208Z"
   },
   {
    "duration": 34,
    "start_time": "2023-09-27T06:30:21.224Z"
   },
   {
    "duration": 6,
    "start_time": "2023-09-27T06:30:21.259Z"
   },
   {
    "duration": 4,
    "start_time": "2023-09-27T06:30:21.266Z"
   },
   {
    "duration": 12,
    "start_time": "2023-09-27T06:30:21.271Z"
   },
   {
    "duration": 13,
    "start_time": "2023-09-27T06:30:21.285Z"
   },
   {
    "duration": 44051,
    "start_time": "2023-09-27T06:30:21.300Z"
   },
   {
    "duration": 0,
    "start_time": "2023-09-27T06:31:05.353Z"
   },
   {
    "duration": 0,
    "start_time": "2023-09-27T06:31:05.354Z"
   },
   {
    "duration": 0,
    "start_time": "2023-09-27T06:31:05.356Z"
   },
   {
    "duration": 0,
    "start_time": "2023-09-27T06:31:05.357Z"
   },
   {
    "duration": 0,
    "start_time": "2023-09-27T06:31:05.358Z"
   },
   {
    "duration": 0,
    "start_time": "2023-09-27T06:31:05.359Z"
   },
   {
    "duration": 0,
    "start_time": "2023-09-27T06:31:05.360Z"
   },
   {
    "duration": 0,
    "start_time": "2023-09-27T06:31:05.362Z"
   },
   {
    "duration": 0,
    "start_time": "2023-09-27T06:31:05.363Z"
   },
   {
    "duration": 0,
    "start_time": "2023-09-27T06:31:05.364Z"
   },
   {
    "duration": 0,
    "start_time": "2023-09-27T06:31:05.365Z"
   },
   {
    "duration": 0,
    "start_time": "2023-09-27T06:31:05.366Z"
   },
   {
    "duration": 1835,
    "start_time": "2023-09-27T06:32:15.360Z"
   },
   {
    "duration": 800,
    "start_time": "2023-09-27T06:32:17.197Z"
   },
   {
    "duration": 26,
    "start_time": "2023-09-27T06:32:17.999Z"
   },
   {
    "duration": 19,
    "start_time": "2023-09-27T06:32:18.026Z"
   },
   {
    "duration": 11,
    "start_time": "2023-09-27T06:32:18.048Z"
   },
   {
    "duration": 7,
    "start_time": "2023-09-27T06:32:18.061Z"
   },
   {
    "duration": 232,
    "start_time": "2023-09-27T06:32:18.070Z"
   },
   {
    "duration": 25,
    "start_time": "2023-09-27T06:32:18.304Z"
   },
   {
    "duration": 18,
    "start_time": "2023-09-27T06:32:18.331Z"
   },
   {
    "duration": 4,
    "start_time": "2023-09-27T06:32:18.351Z"
   },
   {
    "duration": 12,
    "start_time": "2023-09-27T06:32:18.356Z"
   },
   {
    "duration": 31,
    "start_time": "2023-09-27T06:32:18.369Z"
   },
   {
    "duration": 14,
    "start_time": "2023-09-27T06:32:18.401Z"
   },
   {
    "duration": 37,
    "start_time": "2023-09-27T06:32:18.417Z"
   },
   {
    "duration": 10,
    "start_time": "2023-09-27T06:32:18.455Z"
   },
   {
    "duration": 14,
    "start_time": "2023-09-27T06:32:18.466Z"
   },
   {
    "duration": 85277,
    "start_time": "2023-09-27T06:32:18.482Z"
   },
   {
    "duration": 7,
    "start_time": "2023-09-27T06:33:43.760Z"
   },
   {
    "duration": 41,
    "start_time": "2023-09-27T06:33:43.768Z"
   },
   {
    "duration": 37,
    "start_time": "2023-09-27T06:33:43.811Z"
   },
   {
    "duration": 3,
    "start_time": "2023-09-27T06:33:43.850Z"
   },
   {
    "duration": 6339,
    "start_time": "2023-09-27T06:33:43.854Z"
   },
   {
    "duration": 652,
    "start_time": "2023-09-27T06:33:50.195Z"
   },
   {
    "duration": 4,
    "start_time": "2023-09-27T06:33:50.849Z"
   },
   {
    "duration": 145920,
    "start_time": "2023-09-27T06:33:50.855Z"
   },
   {
    "duration": 97,
    "start_time": "2023-09-27T06:36:16.777Z"
   },
   {
    "duration": 1793,
    "start_time": "2023-09-27T06:39:22.242Z"
   },
   {
    "duration": 861,
    "start_time": "2023-09-27T06:39:24.037Z"
   },
   {
    "duration": 21,
    "start_time": "2023-09-27T06:39:24.900Z"
   },
   {
    "duration": 5,
    "start_time": "2023-09-27T06:39:24.923Z"
   },
   {
    "duration": 21,
    "start_time": "2023-09-27T06:39:24.930Z"
   },
   {
    "duration": 6,
    "start_time": "2023-09-27T06:39:24.953Z"
   },
   {
    "duration": 248,
    "start_time": "2023-09-27T06:39:24.962Z"
   },
   {
    "duration": 33,
    "start_time": "2023-09-27T06:39:25.211Z"
   },
   {
    "duration": 6,
    "start_time": "2023-09-27T06:39:25.246Z"
   },
   {
    "duration": 13,
    "start_time": "2023-09-27T06:39:25.254Z"
   },
   {
    "duration": 13,
    "start_time": "2023-09-27T06:39:25.269Z"
   },
   {
    "duration": 29,
    "start_time": "2023-09-27T06:39:25.283Z"
   },
   {
    "duration": 6,
    "start_time": "2023-09-27T06:39:25.313Z"
   },
   {
    "duration": 5,
    "start_time": "2023-09-27T06:39:25.321Z"
   },
   {
    "duration": 2,
    "start_time": "2023-09-27T06:39:25.345Z"
   },
   {
    "duration": 84085,
    "start_time": "2023-09-27T06:39:25.349Z"
   },
   {
    "duration": 8,
    "start_time": "2023-09-27T06:40:49.436Z"
   },
   {
    "duration": 477,
    "start_time": "2023-09-27T06:40:49.446Z"
   },
   {
    "duration": 0,
    "start_time": "2023-09-27T06:40:49.926Z"
   },
   {
    "duration": 0,
    "start_time": "2023-09-27T06:40:49.927Z"
   },
   {
    "duration": 0,
    "start_time": "2023-09-27T06:40:49.928Z"
   },
   {
    "duration": 0,
    "start_time": "2023-09-27T06:40:49.929Z"
   },
   {
    "duration": 0,
    "start_time": "2023-09-27T06:40:49.930Z"
   },
   {
    "duration": 0,
    "start_time": "2023-09-27T06:40:49.931Z"
   },
   {
    "duration": 0,
    "start_time": "2023-09-27T06:40:49.933Z"
   },
   {
    "duration": 0,
    "start_time": "2023-09-27T06:40:49.934Z"
   },
   {
    "duration": 0,
    "start_time": "2023-09-27T06:40:49.935Z"
   },
   {
    "duration": 0,
    "start_time": "2023-09-27T06:40:49.937Z"
   },
   {
    "duration": 0,
    "start_time": "2023-09-27T06:40:49.938Z"
   },
   {
    "duration": 0,
    "start_time": "2023-09-27T06:40:49.939Z"
   },
   {
    "duration": 313,
    "start_time": "2023-09-27T06:42:13.584Z"
   },
   {
    "duration": 4,
    "start_time": "2023-09-27T06:42:15.422Z"
   },
   {
    "duration": 1905,
    "start_time": "2023-09-27T06:53:01.380Z"
   },
   {
    "duration": 804,
    "start_time": "2023-09-27T06:53:03.287Z"
   },
   {
    "duration": 27,
    "start_time": "2023-09-27T06:53:04.093Z"
   },
   {
    "duration": 10,
    "start_time": "2023-09-27T06:53:04.122Z"
   },
   {
    "duration": 16,
    "start_time": "2023-09-27T06:53:04.134Z"
   },
   {
    "duration": 19,
    "start_time": "2023-09-27T06:53:04.151Z"
   },
   {
    "duration": 262,
    "start_time": "2023-09-27T06:53:04.172Z"
   },
   {
    "duration": 34,
    "start_time": "2023-09-27T06:53:04.436Z"
   },
   {
    "duration": 5,
    "start_time": "2023-09-27T06:53:04.472Z"
   },
   {
    "duration": 5,
    "start_time": "2023-09-27T06:53:04.480Z"
   },
   {
    "duration": 9,
    "start_time": "2023-09-27T06:53:04.486Z"
   },
   {
    "duration": 54,
    "start_time": "2023-09-27T06:53:04.496Z"
   },
   {
    "duration": 7,
    "start_time": "2023-09-27T06:53:04.551Z"
   },
   {
    "duration": 16,
    "start_time": "2023-09-27T06:53:04.559Z"
   },
   {
    "duration": 3819,
    "start_time": "2023-09-27T06:53:04.576Z"
   },
   {
    "duration": 4,
    "start_time": "2023-09-27T06:53:08.397Z"
   },
   {
    "duration": 715,
    "start_time": "2023-09-27T06:53:08.402Z"
   },
   {
    "duration": 2,
    "start_time": "2023-09-27T06:53:09.119Z"
   },
   {
    "duration": 15,
    "start_time": "2023-09-27T06:53:09.123Z"
   },
   {
    "duration": 3,
    "start_time": "2023-09-27T06:53:09.140Z"
   },
   {
    "duration": 12,
    "start_time": "2023-09-27T06:53:09.145Z"
   },
   {
    "duration": 1247,
    "start_time": "2023-09-27T06:53:09.159Z"
   },
   {
    "duration": 0,
    "start_time": "2023-09-27T06:53:10.408Z"
   },
   {
    "duration": 0,
    "start_time": "2023-09-27T06:53:10.410Z"
   },
   {
    "duration": 0,
    "start_time": "2023-09-27T06:53:10.412Z"
   },
   {
    "duration": 0,
    "start_time": "2023-09-27T06:53:10.413Z"
   },
   {
    "duration": 0,
    "start_time": "2023-09-27T06:53:10.414Z"
   },
   {
    "duration": 0,
    "start_time": "2023-09-27T06:53:10.416Z"
   },
   {
    "duration": 0,
    "start_time": "2023-09-27T06:53:10.417Z"
   },
   {
    "duration": 0,
    "start_time": "2023-09-27T06:53:10.419Z"
   },
   {
    "duration": 0,
    "start_time": "2023-09-27T06:53:10.420Z"
   },
   {
    "duration": 0,
    "start_time": "2023-09-27T06:53:10.421Z"
   },
   {
    "duration": 1876,
    "start_time": "2023-09-27T06:54:00.466Z"
   },
   {
    "duration": 792,
    "start_time": "2023-09-27T06:54:02.344Z"
   },
   {
    "duration": 26,
    "start_time": "2023-09-27T06:54:03.138Z"
   },
   {
    "duration": 6,
    "start_time": "2023-09-27T06:54:03.166Z"
   },
   {
    "duration": 11,
    "start_time": "2023-09-27T06:54:03.173Z"
   },
   {
    "duration": 9,
    "start_time": "2023-09-27T06:54:03.186Z"
   },
   {
    "duration": 233,
    "start_time": "2023-09-27T06:54:03.197Z"
   },
   {
    "duration": 27,
    "start_time": "2023-09-27T06:54:03.432Z"
   },
   {
    "duration": 5,
    "start_time": "2023-09-27T06:54:03.461Z"
   },
   {
    "duration": 5,
    "start_time": "2023-09-27T06:54:03.469Z"
   },
   {
    "duration": 10,
    "start_time": "2023-09-27T06:54:03.475Z"
   },
   {
    "duration": 58,
    "start_time": "2023-09-27T06:54:03.487Z"
   },
   {
    "duration": 8,
    "start_time": "2023-09-27T06:54:03.547Z"
   },
   {
    "duration": 5,
    "start_time": "2023-09-27T06:54:03.556Z"
   },
   {
    "duration": 3884,
    "start_time": "2023-09-27T06:54:03.562Z"
   },
   {
    "duration": 5,
    "start_time": "2023-09-27T06:54:07.447Z"
   },
   {
    "duration": 1953,
    "start_time": "2023-09-27T07:19:43.565Z"
   },
   {
    "duration": 880,
    "start_time": "2023-09-27T07:19:45.521Z"
   },
   {
    "duration": 28,
    "start_time": "2023-09-27T07:19:46.402Z"
   },
   {
    "duration": 15,
    "start_time": "2023-09-27T07:19:46.432Z"
   },
   {
    "duration": 26,
    "start_time": "2023-09-27T07:19:46.450Z"
   },
   {
    "duration": 11,
    "start_time": "2023-09-27T07:19:46.478Z"
   },
   {
    "duration": 235,
    "start_time": "2023-09-27T07:19:46.491Z"
   },
   {
    "duration": 29,
    "start_time": "2023-09-27T07:19:46.728Z"
   },
   {
    "duration": 11,
    "start_time": "2023-09-27T07:19:46.759Z"
   },
   {
    "duration": 6,
    "start_time": "2023-09-27T07:19:46.773Z"
   },
   {
    "duration": 66,
    "start_time": "2023-09-27T07:19:46.780Z"
   },
   {
    "duration": 50,
    "start_time": "2023-09-27T07:19:46.848Z"
   },
   {
    "duration": 51,
    "start_time": "2023-09-27T07:19:46.900Z"
   },
   {
    "duration": 20,
    "start_time": "2023-09-27T07:19:46.953Z"
   },
   {
    "duration": 4357,
    "start_time": "2023-09-27T07:19:46.975Z"
   },
   {
    "duration": 12,
    "start_time": "2023-09-27T07:19:51.334Z"
   },
   {
    "duration": 561730,
    "start_time": "2023-09-27T07:19:51.347Z"
   },
   {
    "duration": 2,
    "start_time": "2023-09-27T07:29:13.078Z"
   },
   {
    "duration": 61,
    "start_time": "2023-09-27T07:29:13.082Z"
   },
   {
    "duration": 21,
    "start_time": "2023-09-27T07:29:13.144Z"
   },
   {
    "duration": 20,
    "start_time": "2023-09-27T07:29:13.166Z"
   },
   {
    "duration": 1505,
    "start_time": "2023-09-27T07:29:13.187Z"
   },
   {
    "duration": 0,
    "start_time": "2023-09-27T07:29:14.695Z"
   },
   {
    "duration": 0,
    "start_time": "2023-09-27T07:29:14.696Z"
   },
   {
    "duration": 0,
    "start_time": "2023-09-27T07:29:14.697Z"
   },
   {
    "duration": 0,
    "start_time": "2023-09-27T07:29:14.698Z"
   },
   {
    "duration": 0,
    "start_time": "2023-09-27T07:29:14.699Z"
   },
   {
    "duration": 0,
    "start_time": "2023-09-27T07:29:14.700Z"
   },
   {
    "duration": 0,
    "start_time": "2023-09-27T07:29:14.701Z"
   },
   {
    "duration": 0,
    "start_time": "2023-09-27T07:29:14.701Z"
   },
   {
    "duration": 0,
    "start_time": "2023-09-27T07:29:14.703Z"
   },
   {
    "duration": 0,
    "start_time": "2023-09-27T07:29:14.703Z"
   },
   {
    "duration": 1795,
    "start_time": "2023-09-27T07:30:09.960Z"
   },
   {
    "duration": 802,
    "start_time": "2023-09-27T07:30:11.757Z"
   },
   {
    "duration": 26,
    "start_time": "2023-09-27T07:30:12.560Z"
   },
   {
    "duration": 12,
    "start_time": "2023-09-27T07:30:12.588Z"
   },
   {
    "duration": 21,
    "start_time": "2023-09-27T07:30:12.601Z"
   },
   {
    "duration": 6,
    "start_time": "2023-09-27T07:30:12.624Z"
   },
   {
    "duration": 236,
    "start_time": "2023-09-27T07:30:12.632Z"
   },
   {
    "duration": 24,
    "start_time": "2023-09-27T07:30:12.869Z"
   },
   {
    "duration": 8,
    "start_time": "2023-09-27T07:30:12.895Z"
   },
   {
    "duration": 5,
    "start_time": "2023-09-27T07:30:12.905Z"
   },
   {
    "duration": 33,
    "start_time": "2023-09-27T07:30:12.911Z"
   },
   {
    "duration": 30,
    "start_time": "2023-09-27T07:30:12.946Z"
   },
   {
    "duration": 7,
    "start_time": "2023-09-27T07:30:12.978Z"
   },
   {
    "duration": 5,
    "start_time": "2023-09-27T07:30:12.986Z"
   },
   {
    "duration": 4040,
    "start_time": "2023-09-27T07:30:12.993Z"
   },
   {
    "duration": 11,
    "start_time": "2023-09-27T07:30:17.035Z"
   },
   {
    "duration": 8,
    "start_time": "2023-09-27T07:30:17.048Z"
   },
   {
    "duration": 1096562,
    "start_time": "2023-09-27T07:30:17.057Z"
   },
   {
    "duration": 2,
    "start_time": "2023-09-27T07:48:33.620Z"
   },
   {
    "duration": 15,
    "start_time": "2023-09-27T07:48:33.623Z"
   },
   {
    "duration": 15,
    "start_time": "2023-09-27T07:48:33.639Z"
   },
   {
    "duration": 15,
    "start_time": "2023-09-27T07:48:33.655Z"
   },
   {
    "duration": 19,
    "start_time": "2023-09-27T07:48:33.671Z"
   },
   {
    "duration": 45,
    "start_time": "2023-09-27T07:48:33.691Z"
   },
   {
    "duration": 3,
    "start_time": "2023-09-27T07:48:33.737Z"
   },
   {
    "duration": 6026,
    "start_time": "2023-09-27T07:48:33.742Z"
   },
   {
    "duration": 582,
    "start_time": "2023-09-27T07:48:39.769Z"
   },
   {
    "duration": 3,
    "start_time": "2023-09-27T07:48:40.354Z"
   },
   {
    "duration": 148016,
    "start_time": "2023-09-27T07:48:40.358Z"
   },
   {
    "duration": 911832,
    "start_time": "2023-09-27T07:51:08.375Z"
   },
   {
    "duration": 474790,
    "start_time": "2023-09-27T08:06:20.209Z"
   },
   {
    "duration": 14,
    "start_time": "2023-09-27T08:14:15.002Z"
   },
   {
    "duration": 0,
    "start_time": "2023-09-27T08:14:15.017Z"
   },
   {
    "duration": 943067,
    "start_time": "2023-09-27T08:15:19.777Z"
   },
   {
    "duration": 11,
    "start_time": "2023-09-27T08:31:31.869Z"
   },
   {
    "duration": 12,
    "start_time": "2023-09-27T08:31:38.878Z"
   },
   {
    "duration": 10,
    "start_time": "2023-09-27T08:32:09.459Z"
   },
   {
    "duration": 10,
    "start_time": "2023-09-27T08:32:34.270Z"
   },
   {
    "duration": 150931,
    "start_time": "2023-09-27T08:32:47.544Z"
   }
  ],
  "kernelspec": {
   "display_name": "Python 3 (ipykernel)",
   "language": "python",
   "name": "python3"
  },
  "language_info": {
   "codemirror_mode": {
    "name": "ipython",
    "version": 3
   },
   "file_extension": ".py",
   "mimetype": "text/x-python",
   "name": "python",
   "nbconvert_exporter": "python",
   "pygments_lexer": "ipython3",
   "version": "3.9.5"
  },
  "toc": {
   "base_numbering": 1,
   "nav_menu": {},
   "number_sections": true,
   "sideBar": true,
   "skip_h1_title": true,
   "title_cell": "Содержание",
   "title_sidebar": "Contents",
   "toc_cell": true,
   "toc_position": {
    "height": "calc(100% - 180px)",
    "left": "10px",
    "top": "150px",
    "width": "172.391px"
   },
   "toc_section_display": true,
   "toc_window_display": true
  }
 },
 "nbformat": 4,
 "nbformat_minor": 2
}
