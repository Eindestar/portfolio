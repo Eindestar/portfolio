{
 "cells": [
  {
   "cell_type": "markdown",
   "metadata": {
    "toc": true
   },
   "source": [
    "<h1>Содержание<span class=\"tocSkip\"></span></h1>\n",
    "<div class=\"toc\"><ul class=\"toc-item\"><li><span><a href=\"#Загрузка-данных\" data-toc-modified-id=\"Загрузка-данных-1\"><span class=\"toc-item-num\">1&nbsp;&nbsp;</span>Загрузка данных</a></span></li><li><span><a href=\"#Умножение-матриц\" data-toc-modified-id=\"Умножение-матриц-2\"><span class=\"toc-item-num\">2&nbsp;&nbsp;</span>Умножение матриц</a></span></li><li><span><a href=\"#Алгоритм-преобразования\" data-toc-modified-id=\"Алгоритм-преобразования-3\"><span class=\"toc-item-num\">3&nbsp;&nbsp;</span>Алгоритм преобразования</a></span></li><li><span><a href=\"#Проверка-алгоритма\" data-toc-modified-id=\"Проверка-алгоритма-4\"><span class=\"toc-item-num\">4&nbsp;&nbsp;</span>Проверка алгоритма</a></span><ul class=\"toc-item\"><li><span><a href=\"#Исследуем-качество-модели-до-изменений\" data-toc-modified-id=\"Исследуем-качество-модели-до-изменений-4.1\"><span class=\"toc-item-num\">4.1&nbsp;&nbsp;</span>Исследуем качество модели до изменений</a></span></li><li><span><a href=\"#Исследуем-качество-модели-после-изменений\" data-toc-modified-id=\"Исследуем-качество-модели-после-изменений-4.2\"><span class=\"toc-item-num\">4.2&nbsp;&nbsp;</span>Исследуем качество модели после изменений</a></span></li></ul></li><li><span><a href=\"#Вывод:\" data-toc-modified-id=\"Вывод:-5\"><span class=\"toc-item-num\">5&nbsp;&nbsp;</span>Вывод:</a></span></li></ul></div>"
   ]
  },
  {
   "cell_type": "markdown",
   "metadata": {},
   "source": [
    "# Защита персональных данных клиентов"
   ]
  },
  {
   "cell_type": "markdown",
   "metadata": {},
   "source": [
    "Вам нужно защитить данные клиентов страховой компании «Хоть потоп». Разработайте такой метод преобразования данных, чтобы по ним было сложно восстановить персональную информацию. Обоснуйте корректность его работы.\n",
    "\n",
    "Нужно защитить данные, чтобы при преобразовании качество моделей машинного обучения не ухудшилось. Подбирать наилучшую модель не требуется."
   ]
  },
  {
   "cell_type": "markdown",
   "metadata": {},
   "source": [
    "## Загрузка данных"
   ]
  },
  {
   "cell_type": "code",
   "execution_count": 1,
   "metadata": {},
   "outputs": [],
   "source": [
    "import pandas as pd \n",
    "import numpy as np\n",
    "import seaborn as sns\n",
    "import matplotlib.pyplot as plt\n",
    "\n",
    "from sklearn.model_selection import train_test_split\n",
    "from sklearn.linear_model import LinearRegression\n",
    "from sklearn.metrics import r2_score\n",
    "from sklearn.metrics import mean_squared_error"
   ]
  },
  {
   "cell_type": "code",
   "execution_count": 2,
   "metadata": {},
   "outputs": [],
   "source": [
    "#data = pd.read_csv('/datasets/insurance.csv')"
   ]
  },
  {
   "cell_type": "code",
   "execution_count": 3,
   "metadata": {},
   "outputs": [],
   "source": [
    "data = pd.read_csv('https://code.s3.yandex.net/datasets/insurance.csv')"
   ]
  },
  {
   "cell_type": "code",
   "execution_count": 4,
   "metadata": {},
   "outputs": [
    {
     "data": {
      "text/html": [
       "<div>\n",
       "<style scoped>\n",
       "    .dataframe tbody tr th:only-of-type {\n",
       "        vertical-align: middle;\n",
       "    }\n",
       "\n",
       "    .dataframe tbody tr th {\n",
       "        vertical-align: top;\n",
       "    }\n",
       "\n",
       "    .dataframe thead th {\n",
       "        text-align: right;\n",
       "    }\n",
       "</style>\n",
       "<table border=\"1\" class=\"dataframe\">\n",
       "  <thead>\n",
       "    <tr style=\"text-align: right;\">\n",
       "      <th></th>\n",
       "      <th>Пол</th>\n",
       "      <th>Возраст</th>\n",
       "      <th>Зарплата</th>\n",
       "      <th>Члены семьи</th>\n",
       "      <th>Страховые выплаты</th>\n",
       "    </tr>\n",
       "  </thead>\n",
       "  <tbody>\n",
       "    <tr>\n",
       "      <th>0</th>\n",
       "      <td>1</td>\n",
       "      <td>41.0</td>\n",
       "      <td>49600.0</td>\n",
       "      <td>1</td>\n",
       "      <td>0</td>\n",
       "    </tr>\n",
       "    <tr>\n",
       "      <th>1</th>\n",
       "      <td>0</td>\n",
       "      <td>46.0</td>\n",
       "      <td>38000.0</td>\n",
       "      <td>1</td>\n",
       "      <td>1</td>\n",
       "    </tr>\n",
       "    <tr>\n",
       "      <th>2</th>\n",
       "      <td>0</td>\n",
       "      <td>29.0</td>\n",
       "      <td>21000.0</td>\n",
       "      <td>0</td>\n",
       "      <td>0</td>\n",
       "    </tr>\n",
       "    <tr>\n",
       "      <th>3</th>\n",
       "      <td>0</td>\n",
       "      <td>21.0</td>\n",
       "      <td>41700.0</td>\n",
       "      <td>2</td>\n",
       "      <td>0</td>\n",
       "    </tr>\n",
       "    <tr>\n",
       "      <th>4</th>\n",
       "      <td>1</td>\n",
       "      <td>28.0</td>\n",
       "      <td>26100.0</td>\n",
       "      <td>0</td>\n",
       "      <td>0</td>\n",
       "    </tr>\n",
       "  </tbody>\n",
       "</table>\n",
       "</div>"
      ],
      "text/plain": [
       "   Пол  Возраст  Зарплата  Члены семьи  Страховые выплаты\n",
       "0    1     41.0   49600.0            1                  0\n",
       "1    0     46.0   38000.0            1                  1\n",
       "2    0     29.0   21000.0            0                  0\n",
       "3    0     21.0   41700.0            2                  0\n",
       "4    1     28.0   26100.0            0                  0"
      ]
     },
     "execution_count": 4,
     "metadata": {},
     "output_type": "execute_result"
    }
   ],
   "source": [
    "data.head()"
   ]
  },
  {
   "cell_type": "code",
   "execution_count": 5,
   "metadata": {},
   "outputs": [
    {
     "name": "stdout",
     "output_type": "stream",
     "text": [
      "<class 'pandas.core.frame.DataFrame'>\n",
      "RangeIndex: 5000 entries, 0 to 4999\n",
      "Data columns (total 5 columns):\n",
      " #   Column             Non-Null Count  Dtype  \n",
      "---  ------             --------------  -----  \n",
      " 0   Пол                5000 non-null   int64  \n",
      " 1   Возраст            5000 non-null   float64\n",
      " 2   Зарплата           5000 non-null   float64\n",
      " 3   Члены семьи        5000 non-null   int64  \n",
      " 4   Страховые выплаты  5000 non-null   int64  \n",
      "dtypes: float64(2), int64(3)\n",
      "memory usage: 195.4 KB\n"
     ]
    }
   ],
   "source": [
    "data.info()"
   ]
  },
  {
   "cell_type": "code",
   "execution_count": 6,
   "metadata": {},
   "outputs": [
    {
     "data": {
      "text/plain": [
       "(5000, 5)"
      ]
     },
     "execution_count": 6,
     "metadata": {},
     "output_type": "execute_result"
    }
   ],
   "source": [
    "data.shape"
   ]
  },
  {
   "cell_type": "code",
   "execution_count": 7,
   "metadata": {},
   "outputs": [
    {
     "data": {
      "text/plain": [
       "<bound method NDFrame.describe of       Пол  Возраст  Зарплата  Члены семьи  Страховые выплаты\n",
       "0       1     41.0   49600.0            1                  0\n",
       "1       0     46.0   38000.0            1                  1\n",
       "2       0     29.0   21000.0            0                  0\n",
       "3       0     21.0   41700.0            2                  0\n",
       "4       1     28.0   26100.0            0                  0\n",
       "...   ...      ...       ...          ...                ...\n",
       "4995    0     28.0   35700.0            2                  0\n",
       "4996    0     34.0   52400.0            1                  0\n",
       "4997    0     20.0   33900.0            2                  0\n",
       "4998    1     22.0   32700.0            3                  0\n",
       "4999    1     28.0   40600.0            1                  0\n",
       "\n",
       "[5000 rows x 5 columns]>"
      ]
     },
     "execution_count": 7,
     "metadata": {},
     "output_type": "execute_result"
    }
   ],
   "source": [
    "data.describe"
   ]
  },
  {
   "cell_type": "markdown",
   "metadata": {},
   "source": [
    "Проверим на дубликаты"
   ]
  },
  {
   "cell_type": "code",
   "execution_count": 8,
   "metadata": {},
   "outputs": [
    {
     "data": {
      "text/plain": [
       "153"
      ]
     },
     "execution_count": 8,
     "metadata": {},
     "output_type": "execute_result"
    }
   ],
   "source": [
    "data.duplicated().sum()"
   ]
  },
  {
   "cell_type": "code",
   "execution_count": 9,
   "metadata": {},
   "outputs": [
    {
     "name": "stdout",
     "output_type": "stream",
     "text": [
      "отношение дубликатов ко всем данным: 0.0306\n"
     ]
    }
   ],
   "source": [
    "print('отношение дубликатов ко всем данным:', data.duplicated().sum()/len(data))"
   ]
  },
  {
   "cell_type": "markdown",
   "metadata": {},
   "source": [
    "количество дубликатов в данных составляет 3%, предлагаю оставить эти данных, так как возможно клиенты одного возраста, могут иметь одинаковую зарплату и состав семьи, так как данные обезличины, нет возможности проверить"
   ]
  },
  {
   "cell_type": "markdown",
   "metadata": {},
   "source": [
    "рассмотрим данные более подробно с помощью графиков"
   ]
  },
  {
   "cell_type": "code",
   "execution_count": 10,
   "metadata": {},
   "outputs": [
    {
     "data": {
      "image/png": "[encoded data removed]",
      "text/plain": [
       "<Figure size 360x360 with 1 Axes>"
      ]
     },
     "metadata": {
      "needs_background": "light"
     },
     "output_type": "display_data"
    }
   ],
   "source": [
    "sns.displot(data['Пол'],kind='hist', bins = 3 );    "
   ]
  },
  {
   "cell_type": "markdown",
   "metadata": {},
   "source": [
    "Количество мужчин и женщин примерно одинаково"
   ]
  },
  {
   "cell_type": "markdown",
   "metadata": {},
   "source": [
    "для более четкого графика сначала найдем уникальные значения возрастов"
   ]
  },
  {
   "cell_type": "code",
   "execution_count": 11,
   "metadata": {},
   "outputs": [
    {
     "data": {
      "text/plain": [
       "46"
      ]
     },
     "execution_count": 11,
     "metadata": {},
     "output_type": "execute_result"
    }
   ],
   "source": [
    "len(data['Возраст'].unique())"
   ]
  },
  {
   "cell_type": "code",
   "execution_count": 12,
   "metadata": {},
   "outputs": [
    {
     "data": {
      "image/png": "[encoded data removed]",
      "text/plain": [
       "<Figure size 360x360 with 1 Axes>"
      ]
     },
     "metadata": {
      "needs_background": "light"
     },
     "output_type": "display_data"
    }
   ],
   "source": [
    "sns.displot(data['Возраст'],kind='hist', bins = 46); "
   ]
  },
  {
   "cell_type": "markdown",
   "metadata": {},
   "source": [
    "по графику видно что выделяются количество клиенты моложе 20 лет, после 35 лет клиенты идут на убыль"
   ]
  },
  {
   "cell_type": "code",
   "execution_count": 13,
   "metadata": {},
   "outputs": [
    {
     "data": {
      "image/png": "[encoded data removed]",
      "text/plain": [
       "<Figure size 360x360 with 1 Axes>"
      ]
     },
     "metadata": {
      "needs_background": "light"
     },
     "output_type": "display_data"
    }
   ],
   "source": [
    "sns.displot(data['Зарплата'],kind='hist'); "
   ]
  },
  {
   "cell_type": "markdown",
   "metadata": {},
   "source": [
    "по графику видно что средняя зарплата клиентов примерно 45 тыс рублей."
   ]
  },
  {
   "cell_type": "code",
   "execution_count": 14,
   "metadata": {},
   "outputs": [
    {
     "data": {
      "image/png": "[encoded data removed]",
      "text/plain": [
       "<Figure size 360x360 with 1 Axes>"
      ]
     },
     "metadata": {
      "needs_background": "light"
     },
     "output_type": "display_data"
    }
   ],
   "source": [
    "sns.displot(data['Члены семьи'],kind='hist'); "
   ]
  },
  {
   "cell_type": "markdown",
   "metadata": {},
   "source": [
    "Большинство клиентов либо проживают одни, либо имеют одного или двух членов семьи"
   ]
  },
  {
   "cell_type": "code",
   "execution_count": 15,
   "metadata": {},
   "outputs": [
    {
     "data": {
      "image/png": "[encoded data removed]",
      "text/plain": [
       "<Figure size 360x360 with 1 Axes>"
      ]
     },
     "metadata": {
      "needs_background": "light"
     },
     "output_type": "display_data"
    }
   ],
   "source": [
    "sns.displot(data['Страховые выплаты'],kind='hist'); "
   ]
  },
  {
   "cell_type": "markdown",
   "metadata": {},
   "source": [
    "Большинство клиентов не обращалось за страховыми выплатами"
   ]
  },
  {
   "cell_type": "markdown",
   "metadata": {},
   "source": [
    "Вывод:\n",
    "Загрузив и изучив данные мы узнали:\n",
    "- данные состоят из 5 столбцов и 5000 строк\n",
    "- данные содержат признаки клиентов: пол, возраст, доход, члены семьи и страховые выплаты\n",
    "- в данных были обнаружены 3% дубликатов, дубликаты не стал удалять, так как они безличные и могут совпадать\n",
    "- пропусков не обнаружно\n",
    "- так же было выяснинено что мужчин и женщин примерно одинаковое количество, средняя зарплата 45 тыс. рублей, клиентов старше 35 лет становится меньше. большинство не обращалось за страховыми выплатами."
   ]
  },
  {
   "cell_type": "markdown",
   "metadata": {},
   "source": [
    "## Умножение матриц"
   ]
  },
  {
   "cell_type": "markdown",
   "metadata": {},
   "source": [
    "В этом задании вы можете записывать формулы в *Jupyter Notebook.*\n",
    "\n",
    "Чтобы записать формулу внутри текста, окружите её символами доллара \\\\$; если снаружи —  двойными символами \\\\$\\\\$. Эти формулы записываются на языке вёрстки *LaTeX.* \n",
    "\n",
    "Для примера мы записали формулы линейной регрессии. Можете их скопировать и отредактировать, чтобы решить задачу.\n",
    "\n",
    "Работать в *LaTeX* необязательно."
   ]
  },
  {
   "cell_type": "markdown",
   "metadata": {},
   "source": [
    "Обозначения:\n",
    "\n",
    "- $X$ — матрица признаков (нулевой столбец состоит из единиц)\n",
    "\n",
    "- $y$ — вектор целевого признака\n",
    "\n",
    "- $P$ — матрица, на которую умножаются признаки\n",
    "\n",
    "- $w$ — вектор весов линейной регрессии (нулевой элемент равен сдвигу)"
   ]
  },
  {
   "cell_type": "markdown",
   "metadata": {},
   "source": [
    "Предсказания:\n",
    "\n",
    "$$\n",
    "a = Xw\n",
    "$$\n",
    "\n",
    "Задача обучения:\n",
    "\n",
    "$$\n",
    "w = \\arg\\min_w MSE(Xw, y)\n",
    "$$\n",
    "\n",
    "Формула обучения:\n",
    "\n",
    "$$\n",
    "w = (X^T X)^{-1} X^T y\n",
    "$$"
   ]
  },
  {
   "cell_type": "markdown",
   "metadata": {},
   "source": [
    "**Вопрос:** Признаки умножают на обратимую матрицу. Изменится ли качество линейной регрессии? (Её можно обучить заново.)"
   ]
  },
  {
   "cell_type": "markdown",
   "metadata": {},
   "source": [
    "**Ответ:** качество линейной регрессии не изменится\n",
    "\n",
    "**Обоснование:** \n",
    "В решении нам понадобится использовать правила работы с матрицами:\n",
    "\n",
    "$$\n",
    "(AB)C=A(BC)\n",
    "$$\n",
    "\n",
    "$$\n",
    "(AB)^T = B^T * A^T\n",
    "$$\n",
    "\n",
    "$$\n",
    "(AB)^{-1} = B^{-1} * A^{-1}\n",
    "$$\n",
    "\n",
    "$$\n",
    "AA^{-1} = A^{-1}*A = E\n",
    "$$"
   ]
  },
  {
   "cell_type": "markdown",
   "metadata": {},
   "source": [
    "Чтобы предсказания были равны до и после преоразования докажем\n",
    "\n",
    "$$\n",
    "a = Xw = Xp*wp=XPwp=ap\n",
    "$$\n",
    "\n",
    "для этого нужно чтобы\n",
    "\n",
    "$$\n",
    "wp = P^{-1}w\n",
    "$$\n",
    "\n",
    "Умножим матрицу X на матрицу P(обратимую): wp - вектор весов после преоразования\n",
    "$$\n",
    "wp = ((X*P)^T XP)^{-1} (XP)^T y\n",
    "$$\n",
    "\n",
    "с помощью правил умножим значения внутри скобок\n",
    "\n",
    "$$\n",
    "wp = (P^TX^TXP)^{-1} P^TX^Ty\n",
    "$$\n",
    "\n",
    "Сгруппируем\n",
    "\n",
    "$$ \n",
    "wp = ((P^TX^T)(XP))^{-1} P^TX^Ty\n",
    "$$\n",
    "\n",
    "расскроем первые скобки\n",
    "$$\n",
    "wp = (XP)^{-1} (P^TX^T)^{-1} P^TX^Ty\n",
    "$$\n",
    "\n",
    "$$\n",
    "wp = P^{-1} X^{-1} X^{T-1} P^{T-1} P^TX^Ty\n",
    "$$\n",
    "\n",
    "в формуле получилась единичная матрица Е, можем ее сократить\n",
    "$$\n",
    "E = P^{T-1} P^T\n",
    "$$\n",
    "\n",
    "$$\n",
    "wp = P^{-1}X^{-1}X^{T-1}X^Ty\n",
    "$$\n",
    "\n",
    "$$\n",
    "wp = P^{-1}(X^TX)^{-1}X^Ty\n",
    "$$\n",
    "\n",
    "так как \n",
    "$$\n",
    "w = (X^T X)^{-1} X^T y\n",
    "$$\n",
    "\n",
    "получим \n",
    "$$\n",
    "wp = P^{-1}w\n",
    "$$\n",
    "\n",
    "что и требовалось доказать \n",
    "\n",
    "$$\n",
    "wp / w= P^{-1}\n",
    "$$"
   ]
  },
  {
   "cell_type": "markdown",
   "metadata": {},
   "source": [
    "## Алгоритм преобразования"
   ]
  },
  {
   "cell_type": "markdown",
   "metadata": {},
   "source": [
    "**Алгоритм**\n",
    "Для защиты данных мы домножим их на случайную обратную матрицу, \n",
    "- 1) Разделим данные на две выборки: Обучающую и тестовую\n",
    "- 2) С помощью линейной регресии обучим модель до преоразования\n",
    "- 3) Вычислим коэффициент R2\n",
    "- 4) Для преобразования создадим случайную матрицу, проверим ее на обратимость.\n",
    "- 5) умножим данную матрицу на обучающую и тестовую выборку\n",
    "- 6) обучим с помощью линейной регрессии преобразованную модель\n",
    "- 7) Вычислим коэффициент R2 после преобразования\n",
    "- 8) Сравним коэффициенты R2 до и после преобразования. ( Они должны быть равны)"
   ]
  },
  {
   "cell_type": "markdown",
   "metadata": {},
   "source": [
    "**Обоснование**\n",
    "\n",
    "Так как во второй части выяснили что при умножении признаков из тренировочной и тестовой выборки на случайную обратимую матрицу, качество модели не изменится\n"
   ]
  },
  {
   "cell_type": "markdown",
   "metadata": {},
   "source": [
    "## Проверка алгоритма"
   ]
  },
  {
   "cell_type": "markdown",
   "metadata": {},
   "source": [
    "### Исследуем качество модели до изменений"
   ]
  },
  {
   "cell_type": "markdown",
   "metadata": {},
   "source": [
    "Выделим признаки и целевые признаки\n",
    "Признаки: пол, возраст и зарплата застрахованного, количество членов его семьи.\n",
    "Целевой признак: количество страховых выплат клиенту за последние 5 лет."
   ]
  },
  {
   "cell_type": "code",
   "execution_count": 16,
   "metadata": {},
   "outputs": [],
   "source": [
    "features = data.drop('Страховые выплаты',axis=1)"
   ]
  },
  {
   "cell_type": "code",
   "execution_count": 17,
   "metadata": {},
   "outputs": [],
   "source": [
    "target = data['Страховые выплаты']"
   ]
  },
  {
   "cell_type": "markdown",
   "metadata": {},
   "source": [
    "Разобьем данные на обучающую и тестовую выборку, 75% и 25%"
   ]
  },
  {
   "cell_type": "code",
   "execution_count": 18,
   "metadata": {},
   "outputs": [],
   "source": [
    "features_train, features_test, target_train, target_test = train_test_split(\n",
    "    features, target, test_size=0.25, random_state=12345)"
   ]
  },
  {
   "cell_type": "markdown",
   "metadata": {},
   "source": [
    "Обучим модель линейной регрессии"
   ]
  },
  {
   "cell_type": "code",
   "execution_count": 19,
   "metadata": {},
   "outputs": [],
   "source": [
    "model = LinearRegression()\n",
    "model.fit(features_train, target_train)\n",
    "predicted_d = model.predict(features_test)\n",
    "R2d = r2_score(target_test, model.predict(features_test))\n",
    "MSEd = mean_squared_error(predicted_d,target_test)"
   ]
  },
  {
   "cell_type": "markdown",
   "metadata": {},
   "source": [
    "вычислим коэффициент R2 для модели до изменений"
   ]
  },
  {
   "cell_type": "code",
   "execution_count": 20,
   "metadata": {},
   "outputs": [
    {
     "name": "stdout",
     "output_type": "stream",
     "text": [
      "R2 до преобразования 0.43522757127026546\n"
     ]
    }
   ],
   "source": [
    "print(\"R2 до преобразования\", R2d)"
   ]
  },
  {
   "cell_type": "code",
   "execution_count": 21,
   "metadata": {},
   "outputs": [
    {
     "name": "stdout",
     "output_type": "stream",
     "text": [
      "MSE до преобразования 0.11660517472525592\n"
     ]
    }
   ],
   "source": [
    "print('MSE до преобразования', MSEd)"
   ]
  },
  {
   "cell_type": "markdown",
   "metadata": {},
   "source": [
    "### Исследуем качество модели после изменений"
   ]
  },
  {
   "cell_type": "markdown",
   "metadata": {},
   "source": [
    "Изменим признаки исходной матрицы данных. Для этого воспользуемся методом умножения их на произвольную обратимую матрицу"
   ]
  },
  {
   "cell_type": "markdown",
   "metadata": {},
   "source": [
    "Создадим рандомную обратимую матрицу 4 на 4 по количеству признаков основной матрицы:"
   ]
  },
  {
   "cell_type": "code",
   "execution_count": 22,
   "metadata": {},
   "outputs": [
    {
     "name": "stdout",
     "output_type": "stream",
     "text": [
      "(3750, 4)\n",
      "(1250, 4)\n"
     ]
    }
   ],
   "source": [
    "print(features_train.shape)\n",
    "print(features_test.shape)"
   ]
  },
  {
   "cell_type": "code",
   "execution_count": 23,
   "metadata": {},
   "outputs": [],
   "source": [
    "random_matrix = np.random.randn(4, 4)"
   ]
  },
  {
   "cell_type": "code",
   "execution_count": 24,
   "metadata": {},
   "outputs": [
    {
     "data": {
      "text/plain": [
       "array([[ 0.40928982,  1.98561597, -1.12728941,  0.44233011],\n",
       "       [ 1.26111333,  0.63830391, -0.34781327, -0.37837636],\n",
       "       [ 0.46782007,  1.96600562, -0.24320226,  0.15383817],\n",
       "       [-1.73135423,  0.14283251, -1.33317859, -1.93746583]])"
      ]
     },
     "execution_count": 24,
     "metadata": {},
     "output_type": "execute_result"
    }
   ],
   "source": [
    "random_matrix"
   ]
  },
  {
   "cell_type": "markdown",
   "metadata": {},
   "source": [
    "Проверим получившеюся матрицу на обратимость. Для этого умножим её на обратную ей матрицу. округлим значения."
   ]
  },
  {
   "cell_type": "code",
   "execution_count": 25,
   "metadata": {},
   "outputs": [
    {
     "data": {
      "text/plain": [
       "array([[ 1., -0., -0.,  0.],\n",
       "       [ 0.,  1., -0., -0.],\n",
       "       [-0.,  0.,  1.,  0.],\n",
       "       [ 0.,  0., -0.,  1.]])"
      ]
     },
     "execution_count": 25,
     "metadata": {},
     "output_type": "execute_result"
    }
   ],
   "source": [
    "np.round(random_matrix @ np.linalg.inv(random_matrix))"
   ]
  },
  {
   "cell_type": "markdown",
   "metadata": {},
   "source": [
    "в результате получилась единичная матрица. это означет что рандомная матрица обратима."
   ]
  },
  {
   "cell_type": "markdown",
   "metadata": {},
   "source": [
    "Далее перемножим тестовую и тренировочную матрицы на получившуюся рандомную обратимую матрицу:"
   ]
  },
  {
   "cell_type": "code",
   "execution_count": 26,
   "metadata": {},
   "outputs": [],
   "source": [
    "matrix_features_train = features_train.dot(random_matrix)\n",
    "matrix_features_test = features_test.dot(random_matrix)"
   ]
  },
  {
   "cell_type": "markdown",
   "metadata": {},
   "source": [
    "Обучим новую модель"
   ]
  },
  {
   "cell_type": "code",
   "execution_count": 27,
   "metadata": {},
   "outputs": [],
   "source": [
    "model.fit(matrix_features_train, target_train)\n",
    "predicted_p = model.predict(matrix_features_test)\n",
    "R2p = model.score(matrix_features_test, target_test)\n",
    "MSEp = mean_squared_error(predicted_p,target_test)"
   ]
  },
  {
   "cell_type": "code",
   "execution_count": 28,
   "metadata": {},
   "outputs": [
    {
     "name": "stdout",
     "output_type": "stream",
     "text": [
      "R2 после преобразования:  0.43522757127009315\n"
     ]
    }
   ],
   "source": [
    "print('R2 после преобразования: ', R2p)"
   ]
  },
  {
   "cell_type": "code",
   "execution_count": 29,
   "metadata": {},
   "outputs": [
    {
     "name": "stdout",
     "output_type": "stream",
     "text": [
      "MSE после преобразования: 0.11660517472529147\n"
     ]
    }
   ],
   "source": [
    "print('MSE после преобразования:', MSEp)"
   ]
  },
  {
   "cell_type": "code",
   "execution_count": 30,
   "metadata": {},
   "outputs": [
    {
     "name": "stdout",
     "output_type": "stream",
     "text": [
      "Соотношение качества модели до преобразования к преобразованию равна: 1.000000000000396\n"
     ]
    }
   ],
   "source": [
    "print('Соотношение качества модели до преобразования к преобразованию равна:', R2d/R2p)"
   ]
  },
  {
   "cell_type": "markdown",
   "metadata": {},
   "source": [
    "## Вывод:\n",
    "\n",
    "В данной работе нам нужно было защитить данные, чтобы при преобразовании качество моделей машинного обучения не ухудшилось. Подбирать наилучшую модель от нас не требовалось.\n",
    "\n",
    "Преобразовать данные нужно было так, что бы результаты качества моделей машинного обучения не изменились и не ухудшились.\n",
    "\n",
    "В данной работе мы сначала заругили и изучили данные, разработали алгоритм по которому были преобразованны данные.\n",
    "Методом преобразования был выбран метод умножения признаков исходных данных на обратимую матрицу.\n",
    "\n",
    "В результате проверки алгоритма качества модели до преобразования и после преобразования равны.\n",
    "что и требовалось сделать в данной работе "
   ]
  }
 ],
 "metadata": {
  "ExecuteTimeLog": [
   {
    "duration": 1866,
    "start_time": "2023-08-18T03:21:53.476Z"
   },
   {
    "duration": 102,
    "start_time": "2023-08-18T03:21:55.344Z"
   },
   {
    "duration": 14,
    "start_time": "2023-08-18T03:21:55.448Z"
   },
   {
    "duration": 13,
    "start_time": "2023-08-18T03:21:55.464Z"
   },
   {
    "duration": 10,
    "start_time": "2023-08-18T03:21:55.480Z"
   },
   {
    "duration": 25,
    "start_time": "2023-08-18T03:21:55.492Z"
   },
   {
    "duration": 111,
    "start_time": "2023-08-18T03:23:10.371Z"
   },
   {
    "duration": 8,
    "start_time": "2023-08-18T03:23:15.511Z"
   },
   {
    "duration": 11,
    "start_time": "2023-08-18T03:23:29.066Z"
   },
   {
    "duration": 499,
    "start_time": "2023-08-18T03:30:03.579Z"
   },
   {
    "duration": 292,
    "start_time": "2023-08-18T03:30:19.573Z"
   },
   {
    "duration": 1509,
    "start_time": "2023-08-18T03:35:30.974Z"
   },
   {
    "duration": 31,
    "start_time": "2023-08-18T03:35:32.485Z"
   },
   {
    "duration": 17,
    "start_time": "2023-08-18T03:35:32.520Z"
   },
   {
    "duration": 12,
    "start_time": "2023-08-18T03:35:32.540Z"
   },
   {
    "duration": 17,
    "start_time": "2023-08-18T03:35:32.554Z"
   },
   {
    "duration": 15,
    "start_time": "2023-08-18T03:35:32.573Z"
   },
   {
    "duration": 24,
    "start_time": "2023-08-18T03:35:32.590Z"
   },
   {
    "duration": 333,
    "start_time": "2023-08-18T03:35:32.615Z"
   },
   {
    "duration": 327,
    "start_time": "2023-08-18T03:35:32.950Z"
   },
   {
    "duration": 311,
    "start_time": "2023-08-18T03:35:33.280Z"
   },
   {
    "duration": 352,
    "start_time": "2023-08-18T03:35:33.593Z"
   },
   {
    "duration": 361,
    "start_time": "2023-08-18T03:35:33.947Z"
   },
   {
    "duration": 370,
    "start_time": "2023-08-18T03:35:34.310Z"
   },
   {
    "duration": 1727,
    "start_time": "2023-08-21T17:07:59.008Z"
   },
   {
    "duration": 81,
    "start_time": "2023-08-21T17:08:00.737Z"
   },
   {
    "duration": 13,
    "start_time": "2023-08-21T17:08:00.821Z"
   },
   {
    "duration": 59,
    "start_time": "2023-08-21T17:08:00.836Z"
   },
   {
    "duration": 40,
    "start_time": "2023-08-21T17:08:00.898Z"
   },
   {
    "duration": 61,
    "start_time": "2023-08-21T17:08:00.940Z"
   },
   {
    "duration": 26,
    "start_time": "2023-08-21T17:08:01.003Z"
   },
   {
    "duration": 413,
    "start_time": "2023-08-21T17:08:01.031Z"
   },
   {
    "duration": 293,
    "start_time": "2023-08-21T17:08:01.446Z"
   },
   {
    "duration": 391,
    "start_time": "2023-08-21T17:08:01.740Z"
   },
   {
    "duration": 0,
    "start_time": "2023-08-21T17:08:02.133Z"
   },
   {
    "duration": 0,
    "start_time": "2023-08-21T17:08:02.135Z"
   },
   {
    "duration": 0,
    "start_time": "2023-08-21T17:08:02.137Z"
   },
   {
    "duration": 263,
    "start_time": "2023-08-21T17:08:22.322Z"
   },
   {
    "duration": 216,
    "start_time": "2023-08-21T17:08:27.837Z"
   },
   {
    "duration": 408,
    "start_time": "2023-08-21T17:10:10.622Z"
   },
   {
    "duration": 315,
    "start_time": "2023-08-21T17:10:25.622Z"
   },
   {
    "duration": 386,
    "start_time": "2023-08-21T17:10:31.980Z"
   },
   {
    "duration": 340,
    "start_time": "2023-08-21T17:10:38.515Z"
   },
   {
    "duration": 391,
    "start_time": "2023-08-21T17:10:52.076Z"
   },
   {
    "duration": 439,
    "start_time": "2023-08-21T17:10:56.404Z"
   },
   {
    "duration": 473,
    "start_time": "2023-08-21T17:11:02.722Z"
   },
   {
    "duration": 372,
    "start_time": "2023-08-21T17:11:16.680Z"
   },
   {
    "duration": 346,
    "start_time": "2023-08-21T17:11:23.612Z"
   },
   {
    "duration": 308,
    "start_time": "2023-08-21T17:11:27.628Z"
   },
   {
    "duration": 371,
    "start_time": "2023-08-21T17:11:42.068Z"
   },
   {
    "duration": 1367,
    "start_time": "2023-08-21T17:12:27.762Z"
   },
   {
    "duration": 31,
    "start_time": "2023-08-21T17:12:29.133Z"
   },
   {
    "duration": 13,
    "start_time": "2023-08-21T17:12:29.165Z"
   },
   {
    "duration": 11,
    "start_time": "2023-08-21T17:12:29.180Z"
   },
   {
    "duration": 4,
    "start_time": "2023-08-21T17:12:29.193Z"
   },
   {
    "duration": 13,
    "start_time": "2023-08-21T17:12:29.199Z"
   },
   {
    "duration": 12,
    "start_time": "2023-08-21T17:12:29.213Z"
   },
   {
    "duration": 289,
    "start_time": "2023-08-21T17:12:29.227Z"
   },
   {
    "duration": 286,
    "start_time": "2023-08-21T17:12:29.518Z"
   },
   {
    "duration": 343,
    "start_time": "2023-08-21T17:12:29.809Z"
   },
   {
    "duration": 365,
    "start_time": "2023-08-21T17:12:30.154Z"
   },
   {
    "duration": 323,
    "start_time": "2023-08-21T17:12:30.522Z"
   },
   {
    "duration": 380,
    "start_time": "2023-08-21T17:12:30.848Z"
   },
   {
    "duration": 1522,
    "start_time": "2023-08-22T18:22:08.302Z"
   },
   {
    "duration": 94,
    "start_time": "2023-08-22T18:22:09.826Z"
   },
   {
    "duration": 12,
    "start_time": "2023-08-22T18:22:09.921Z"
   },
   {
    "duration": 14,
    "start_time": "2023-08-22T18:22:09.935Z"
   },
   {
    "duration": 5,
    "start_time": "2023-08-22T18:22:09.950Z"
   },
   {
    "duration": 15,
    "start_time": "2023-08-22T18:22:09.956Z"
   },
   {
    "duration": 18,
    "start_time": "2023-08-22T18:22:09.973Z"
   },
   {
    "duration": 379,
    "start_time": "2023-08-22T18:22:09.993Z"
   },
   {
    "duration": 262,
    "start_time": "2023-08-22T18:22:10.374Z"
   },
   {
    "duration": 320,
    "start_time": "2023-08-22T18:22:10.638Z"
   },
   {
    "duration": 398,
    "start_time": "2023-08-22T18:22:10.959Z"
   },
   {
    "duration": 282,
    "start_time": "2023-08-22T18:22:11.359Z"
   },
   {
    "duration": 265,
    "start_time": "2023-08-22T18:22:11.642Z"
   },
   {
    "duration": 3,
    "start_time": "2023-08-22T18:22:11.909Z"
   },
   {
    "duration": 5,
    "start_time": "2023-08-22T18:22:11.914Z"
   },
   {
    "duration": 7,
    "start_time": "2023-08-22T18:22:11.920Z"
   },
   {
    "duration": 26,
    "start_time": "2023-08-22T18:22:11.928Z"
   },
   {
    "duration": 96,
    "start_time": "2023-08-22T18:22:11.955Z"
   },
   {
    "duration": 98,
    "start_time": "2023-08-22T18:37:47.840Z"
   },
   {
    "duration": 308,
    "start_time": "2023-08-22T18:37:53.793Z"
   },
   {
    "duration": 270,
    "start_time": "2023-08-22T18:39:09.999Z"
   },
   {
    "duration": 314,
    "start_time": "2023-08-22T18:39:15.715Z"
   },
   {
    "duration": 362,
    "start_time": "2023-08-22T18:39:30.423Z"
   },
   {
    "duration": 302,
    "start_time": "2023-08-22T18:39:37.849Z"
   },
   {
    "duration": 317,
    "start_time": "2023-08-22T18:52:52.394Z"
   },
   {
    "duration": 374,
    "start_time": "2023-08-22T18:53:05.620Z"
   },
   {
    "duration": 3,
    "start_time": "2023-08-22T18:59:00.251Z"
   },
   {
    "duration": 4,
    "start_time": "2023-08-22T18:59:00.834Z"
   },
   {
    "duration": 5,
    "start_time": "2023-08-22T18:59:51.573Z"
   },
   {
    "duration": 5,
    "start_time": "2023-08-22T19:00:01.358Z"
   },
   {
    "duration": 5,
    "start_time": "2023-08-22T19:01:07.232Z"
   },
   {
    "duration": 3,
    "start_time": "2023-08-22T19:05:04.744Z"
   },
   {
    "duration": 3,
    "start_time": "2023-08-22T19:05:58.953Z"
   },
   {
    "duration": 8,
    "start_time": "2023-08-22T19:07:14.141Z"
   },
   {
    "duration": 4,
    "start_time": "2023-08-22T19:07:34.453Z"
   },
   {
    "duration": 115,
    "start_time": "2023-08-23T17:00:07.187Z"
   },
   {
    "duration": 43,
    "start_time": "2023-08-23T17:00:12.881Z"
   },
   {
    "duration": 1795,
    "start_time": "2023-08-23T17:00:20.403Z"
   },
   {
    "duration": 96,
    "start_time": "2023-08-23T17:00:22.200Z"
   },
   {
    "duration": 15,
    "start_time": "2023-08-23T17:00:22.297Z"
   },
   {
    "duration": 12,
    "start_time": "2023-08-23T17:00:22.314Z"
   },
   {
    "duration": 4,
    "start_time": "2023-08-23T17:00:22.328Z"
   },
   {
    "duration": 12,
    "start_time": "2023-08-23T17:00:22.333Z"
   },
   {
    "duration": 17,
    "start_time": "2023-08-23T17:00:22.346Z"
   },
   {
    "duration": 345,
    "start_time": "2023-08-23T17:00:22.370Z"
   },
   {
    "duration": 325,
    "start_time": "2023-08-23T17:00:22.717Z"
   },
   {
    "duration": 4,
    "start_time": "2023-08-23T17:00:23.044Z"
   },
   {
    "duration": 379,
    "start_time": "2023-08-23T17:00:23.050Z"
   },
   {
    "duration": 407,
    "start_time": "2023-08-23T17:00:23.431Z"
   },
   {
    "duration": 379,
    "start_time": "2023-08-23T17:00:23.840Z"
   },
   {
    "duration": 444,
    "start_time": "2023-08-23T17:00:24.223Z"
   },
   {
    "duration": 9,
    "start_time": "2023-08-23T17:00:24.675Z"
   },
   {
    "duration": 31,
    "start_time": "2023-08-23T17:00:24.686Z"
   },
   {
    "duration": 35,
    "start_time": "2023-08-23T17:00:24.719Z"
   },
   {
    "duration": 30,
    "start_time": "2023-08-23T17:00:24.756Z"
   },
   {
    "duration": 75,
    "start_time": "2023-08-23T17:00:24.789Z"
   },
   {
    "duration": 10,
    "start_time": "2023-08-23T17:00:24.867Z"
   },
   {
    "duration": 12,
    "start_time": "2023-08-23T17:00:24.881Z"
   },
   {
    "duration": 81,
    "start_time": "2023-08-23T17:00:24.895Z"
   },
   {
    "duration": 9,
    "start_time": "2023-08-23T17:00:24.983Z"
   },
   {
    "duration": 6,
    "start_time": "2023-08-23T17:00:24.994Z"
   },
   {
    "duration": 87,
    "start_time": "2023-08-23T17:00:25.002Z"
   },
   {
    "duration": 68,
    "start_time": "2023-08-23T17:00:25.092Z"
   },
   {
    "duration": 339,
    "start_time": "2023-08-23T17:03:32.488Z"
   },
   {
    "duration": 122,
    "start_time": "2023-08-23T17:13:36.388Z"
   },
   {
    "duration": 3,
    "start_time": "2023-08-23T17:13:43.494Z"
   },
   {
    "duration": 21,
    "start_time": "2023-08-23T17:58:54.984Z"
   },
   {
    "duration": 4,
    "start_time": "2023-08-23T17:59:34.050Z"
   },
   {
    "duration": 18,
    "start_time": "2023-08-23T17:59:40.725Z"
   },
   {
    "duration": 15,
    "start_time": "2023-08-23T18:00:18.692Z"
   },
   {
    "duration": 11,
    "start_time": "2023-08-23T18:00:41.428Z"
   },
   {
    "duration": 3,
    "start_time": "2023-08-23T18:00:43.489Z"
   },
   {
    "duration": 15,
    "start_time": "2023-08-23T18:00:44.282Z"
   },
   {
    "duration": 3,
    "start_time": "2023-08-23T18:00:48.783Z"
   },
   {
    "duration": 4,
    "start_time": "2023-08-23T18:01:28.648Z"
   },
   {
    "duration": 1779,
    "start_time": "2023-08-23T18:05:01.554Z"
   },
   {
    "duration": 35,
    "start_time": "2023-08-23T18:05:03.334Z"
   },
   {
    "duration": 18,
    "start_time": "2023-08-23T18:05:03.372Z"
   },
   {
    "duration": 14,
    "start_time": "2023-08-23T18:05:03.393Z"
   },
   {
    "duration": 33,
    "start_time": "2023-08-23T18:05:03.409Z"
   },
   {
    "duration": 46,
    "start_time": "2023-08-23T18:05:03.444Z"
   },
   {
    "duration": 7,
    "start_time": "2023-08-23T18:05:03.492Z"
   },
   {
    "duration": 322,
    "start_time": "2023-08-23T18:05:03.501Z"
   },
   {
    "duration": 376,
    "start_time": "2023-08-23T18:05:03.824Z"
   },
   {
    "duration": 5,
    "start_time": "2023-08-23T18:05:04.202Z"
   },
   {
    "duration": 436,
    "start_time": "2023-08-23T18:05:04.210Z"
   },
   {
    "duration": 416,
    "start_time": "2023-08-23T18:05:04.648Z"
   },
   {
    "duration": 379,
    "start_time": "2023-08-23T18:05:05.066Z"
   },
   {
    "duration": 413,
    "start_time": "2023-08-23T18:05:05.448Z"
   },
   {
    "duration": 5,
    "start_time": "2023-08-23T18:05:05.863Z"
   },
   {
    "duration": 16,
    "start_time": "2023-08-23T18:05:05.869Z"
   },
   {
    "duration": 24,
    "start_time": "2023-08-23T18:05:05.887Z"
   },
   {
    "duration": 9,
    "start_time": "2023-08-23T18:05:05.913Z"
   },
   {
    "duration": 118,
    "start_time": "2023-08-23T18:05:05.924Z"
   },
   {
    "duration": 0,
    "start_time": "2023-08-23T18:05:06.044Z"
   },
   {
    "duration": 0,
    "start_time": "2023-08-23T18:05:06.046Z"
   },
   {
    "duration": 0,
    "start_time": "2023-08-23T18:05:06.059Z"
   },
   {
    "duration": 0,
    "start_time": "2023-08-23T18:05:06.061Z"
   },
   {
    "duration": 0,
    "start_time": "2023-08-23T18:05:06.062Z"
   },
   {
    "duration": 0,
    "start_time": "2023-08-23T18:05:06.065Z"
   },
   {
    "duration": 0,
    "start_time": "2023-08-23T18:05:06.066Z"
   },
   {
    "duration": 0,
    "start_time": "2023-08-23T18:05:06.067Z"
   },
   {
    "duration": 0,
    "start_time": "2023-08-23T18:05:06.069Z"
   },
   {
    "duration": 0,
    "start_time": "2023-08-23T18:05:06.071Z"
   },
   {
    "duration": 7,
    "start_time": "2023-08-23T18:07:06.878Z"
   },
   {
    "duration": 5,
    "start_time": "2023-08-23T18:07:10.644Z"
   },
   {
    "duration": 4,
    "start_time": "2023-08-23T18:07:36.172Z"
   },
   {
    "duration": 1398,
    "start_time": "2023-08-23T18:07:45.408Z"
   },
   {
    "duration": 32,
    "start_time": "2023-08-23T18:07:46.809Z"
   },
   {
    "duration": 15,
    "start_time": "2023-08-23T18:07:46.842Z"
   },
   {
    "duration": 13,
    "start_time": "2023-08-23T18:07:46.859Z"
   },
   {
    "duration": 11,
    "start_time": "2023-08-23T18:07:46.875Z"
   },
   {
    "duration": 13,
    "start_time": "2023-08-23T18:07:46.888Z"
   },
   {
    "duration": 6,
    "start_time": "2023-08-23T18:07:46.903Z"
   },
   {
    "duration": 364,
    "start_time": "2023-08-23T18:07:46.911Z"
   },
   {
    "duration": 275,
    "start_time": "2023-08-23T18:07:47.277Z"
   },
   {
    "duration": 4,
    "start_time": "2023-08-23T18:07:47.558Z"
   },
   {
    "duration": 388,
    "start_time": "2023-08-23T18:07:47.564Z"
   },
   {
    "duration": 365,
    "start_time": "2023-08-23T18:07:47.954Z"
   },
   {
    "duration": 358,
    "start_time": "2023-08-23T18:07:48.321Z"
   },
   {
    "duration": 362,
    "start_time": "2023-08-23T18:07:48.682Z"
   },
   {
    "duration": 4,
    "start_time": "2023-08-23T18:07:49.045Z"
   },
   {
    "duration": 16,
    "start_time": "2023-08-23T18:07:49.051Z"
   },
   {
    "duration": 29,
    "start_time": "2023-08-23T18:07:49.070Z"
   },
   {
    "duration": 15,
    "start_time": "2023-08-23T18:07:49.101Z"
   },
   {
    "duration": 6,
    "start_time": "2023-08-23T18:07:49.118Z"
   },
   {
    "duration": 8,
    "start_time": "2023-08-23T18:07:49.126Z"
   },
   {
    "duration": 3,
    "start_time": "2023-08-23T18:07:49.136Z"
   },
   {
    "duration": 4,
    "start_time": "2023-08-23T18:07:49.141Z"
   },
   {
    "duration": 6,
    "start_time": "2023-08-23T18:07:49.146Z"
   },
   {
    "duration": 8,
    "start_time": "2023-08-23T18:07:49.154Z"
   },
   {
    "duration": 21,
    "start_time": "2023-08-23T18:07:49.164Z"
   },
   {
    "duration": 17,
    "start_time": "2023-08-23T18:07:49.266Z"
   },
   {
    "duration": 194,
    "start_time": "2023-08-23T18:07:49.284Z"
   },
   {
    "duration": 0,
    "start_time": "2023-08-23T18:07:49.479Z"
   },
   {
    "duration": 0,
    "start_time": "2023-08-23T18:07:49.481Z"
   },
   {
    "duration": 3,
    "start_time": "2023-08-23T18:08:11.110Z"
   },
   {
    "duration": 8,
    "start_time": "2023-08-23T18:08:19.454Z"
   },
   {
    "duration": 10,
    "start_time": "2023-08-23T18:08:27.338Z"
   },
   {
    "duration": 3,
    "start_time": "2023-08-23T18:08:27.818Z"
   },
   {
    "duration": 4,
    "start_time": "2023-08-23T18:08:28.520Z"
   },
   {
    "duration": 4,
    "start_time": "2023-08-23T18:08:53.472Z"
   },
   {
    "duration": 4,
    "start_time": "2023-08-23T18:08:58.122Z"
   },
   {
    "duration": 1575,
    "start_time": "2023-08-23T18:09:08.041Z"
   },
   {
    "duration": 33,
    "start_time": "2023-08-23T18:09:09.619Z"
   },
   {
    "duration": 18,
    "start_time": "2023-08-23T18:09:09.655Z"
   },
   {
    "duration": 16,
    "start_time": "2023-08-23T18:09:09.675Z"
   },
   {
    "duration": 6,
    "start_time": "2023-08-23T18:09:09.694Z"
   },
   {
    "duration": 21,
    "start_time": "2023-08-23T18:09:09.701Z"
   },
   {
    "duration": 12,
    "start_time": "2023-08-23T18:09:09.724Z"
   },
   {
    "duration": 355,
    "start_time": "2023-08-23T18:09:09.738Z"
   },
   {
    "duration": 291,
    "start_time": "2023-08-23T18:09:10.095Z"
   },
   {
    "duration": 4,
    "start_time": "2023-08-23T18:09:10.389Z"
   },
   {
    "duration": 336,
    "start_time": "2023-08-23T18:09:10.395Z"
   },
   {
    "duration": 384,
    "start_time": "2023-08-23T18:09:10.733Z"
   },
   {
    "duration": 352,
    "start_time": "2023-08-23T18:09:11.119Z"
   },
   {
    "duration": 373,
    "start_time": "2023-08-23T18:09:11.474Z"
   },
   {
    "duration": 12,
    "start_time": "2023-08-23T18:09:11.849Z"
   },
   {
    "duration": 6,
    "start_time": "2023-08-23T18:09:11.863Z"
   },
   {
    "duration": 7,
    "start_time": "2023-08-23T18:09:11.870Z"
   },
   {
    "duration": 7,
    "start_time": "2023-08-23T18:09:11.879Z"
   },
   {
    "duration": 6,
    "start_time": "2023-08-23T18:09:11.888Z"
   },
   {
    "duration": 7,
    "start_time": "2023-08-23T18:09:11.896Z"
   },
   {
    "duration": 5,
    "start_time": "2023-08-23T18:09:11.904Z"
   },
   {
    "duration": 4,
    "start_time": "2023-08-23T18:09:11.911Z"
   },
   {
    "duration": 44,
    "start_time": "2023-08-23T18:09:11.917Z"
   },
   {
    "duration": 12,
    "start_time": "2023-08-23T18:09:11.963Z"
   },
   {
    "duration": 8,
    "start_time": "2023-08-23T18:09:11.977Z"
   },
   {
    "duration": 83,
    "start_time": "2023-08-23T18:09:11.986Z"
   },
   {
    "duration": 4,
    "start_time": "2023-08-23T18:09:12.071Z"
   },
   {
    "duration": 84,
    "start_time": "2023-08-23T18:09:12.077Z"
   },
   {
    "duration": 19,
    "start_time": "2023-08-23T18:09:12.163Z"
   },
   {
    "duration": 6,
    "start_time": "2023-08-23T18:44:00.889Z"
   },
   {
    "duration": 292,
    "start_time": "2023-08-23T18:48:54.071Z"
   },
   {
    "duration": 297,
    "start_time": "2023-08-23T18:49:02.031Z"
   },
   {
    "duration": 279,
    "start_time": "2023-08-23T18:49:07.903Z"
   },
   {
    "duration": 296,
    "start_time": "2023-08-23T18:49:14.323Z"
   },
   {
    "duration": 279,
    "start_time": "2023-08-23T18:49:21.445Z"
   },
   {
    "duration": 1558,
    "start_time": "2023-08-23T19:11:19.023Z"
   },
   {
    "duration": 33,
    "start_time": "2023-08-23T19:11:20.583Z"
   },
   {
    "duration": 14,
    "start_time": "2023-08-23T19:11:20.617Z"
   },
   {
    "duration": 12,
    "start_time": "2023-08-23T19:11:20.633Z"
   },
   {
    "duration": 12,
    "start_time": "2023-08-23T19:11:20.647Z"
   },
   {
    "duration": 10,
    "start_time": "2023-08-23T19:11:20.660Z"
   },
   {
    "duration": 7,
    "start_time": "2023-08-23T19:11:20.671Z"
   },
   {
    "duration": 7,
    "start_time": "2023-08-23T19:11:20.680Z"
   },
   {
    "duration": 349,
    "start_time": "2023-08-23T19:11:20.689Z"
   },
   {
    "duration": 6,
    "start_time": "2023-08-23T19:11:21.041Z"
   },
   {
    "duration": 369,
    "start_time": "2023-08-23T19:11:21.058Z"
   },
   {
    "duration": 384,
    "start_time": "2023-08-23T19:11:21.429Z"
   },
   {
    "duration": 380,
    "start_time": "2023-08-23T19:11:21.815Z"
   },
   {
    "duration": 338,
    "start_time": "2023-08-23T19:11:22.198Z"
   },
   {
    "duration": 5,
    "start_time": "2023-08-23T19:11:22.538Z"
   },
   {
    "duration": 15,
    "start_time": "2023-08-23T19:11:22.544Z"
   },
   {
    "duration": 10,
    "start_time": "2023-08-23T19:11:22.561Z"
   },
   {
    "duration": 11,
    "start_time": "2023-08-23T19:11:22.573Z"
   },
   {
    "duration": 6,
    "start_time": "2023-08-23T19:11:22.585Z"
   },
   {
    "duration": 5,
    "start_time": "2023-08-23T19:11:22.592Z"
   },
   {
    "duration": 13,
    "start_time": "2023-08-23T19:11:22.599Z"
   },
   {
    "duration": 6,
    "start_time": "2023-08-23T19:11:22.614Z"
   },
   {
    "duration": 16,
    "start_time": "2023-08-23T19:11:22.622Z"
   },
   {
    "duration": 25,
    "start_time": "2023-08-23T19:11:22.640Z"
   },
   {
    "duration": 10,
    "start_time": "2023-08-23T19:11:22.667Z"
   },
   {
    "duration": 255,
    "start_time": "2023-08-23T19:11:22.679Z"
   },
   {
    "duration": 4,
    "start_time": "2023-08-23T19:11:22.936Z"
   },
   {
    "duration": 19,
    "start_time": "2023-08-23T19:11:22.941Z"
   },
   {
    "duration": 4,
    "start_time": "2023-08-23T19:11:22.961Z"
   },
   {
    "duration": 1937,
    "start_time": "2023-08-24T13:01:28.157Z"
   },
   {
    "duration": 76,
    "start_time": "2023-08-24T13:01:30.097Z"
   },
   {
    "duration": 17,
    "start_time": "2023-08-24T13:01:30.174Z"
   },
   {
    "duration": 136,
    "start_time": "2023-08-24T13:01:30.194Z"
   },
   {
    "duration": 173,
    "start_time": "2023-08-24T13:01:30.332Z"
   },
   {
    "duration": 69,
    "start_time": "2023-08-24T13:01:30.507Z"
   },
   {
    "duration": 60,
    "start_time": "2023-08-24T13:01:30.578Z"
   },
   {
    "duration": 54,
    "start_time": "2023-08-24T13:01:30.640Z"
   },
   {
    "duration": 348,
    "start_time": "2023-08-24T13:01:30.695Z"
   },
   {
    "duration": 4,
    "start_time": "2023-08-24T13:01:31.045Z"
   },
   {
    "duration": 392,
    "start_time": "2023-08-24T13:01:31.051Z"
   },
   {
    "duration": 344,
    "start_time": "2023-08-24T13:01:31.445Z"
   },
   {
    "duration": 344,
    "start_time": "2023-08-24T13:01:31.791Z"
   },
   {
    "duration": 386,
    "start_time": "2023-08-24T13:01:32.137Z"
   },
   {
    "duration": 10,
    "start_time": "2023-08-24T13:01:32.525Z"
   },
   {
    "duration": 115,
    "start_time": "2023-08-24T13:01:32.536Z"
   },
   {
    "duration": 69,
    "start_time": "2023-08-24T13:01:32.653Z"
   },
   {
    "duration": 55,
    "start_time": "2023-08-24T13:01:32.724Z"
   },
   {
    "duration": 59,
    "start_time": "2023-08-24T13:01:32.782Z"
   },
   {
    "duration": 94,
    "start_time": "2023-08-24T13:01:32.845Z"
   },
   {
    "duration": 29,
    "start_time": "2023-08-24T13:01:32.941Z"
   },
   {
    "duration": 22,
    "start_time": "2023-08-24T13:01:32.972Z"
   },
   {
    "duration": 19,
    "start_time": "2023-08-24T13:01:32.996Z"
   },
   {
    "duration": 15,
    "start_time": "2023-08-24T13:01:33.017Z"
   },
   {
    "duration": 251,
    "start_time": "2023-08-24T13:01:33.035Z"
   },
   {
    "duration": 12,
    "start_time": "2023-08-24T13:01:33.288Z"
   },
   {
    "duration": 10,
    "start_time": "2023-08-24T13:01:33.302Z"
   },
   {
    "duration": 35,
    "start_time": "2023-08-24T13:01:33.315Z"
   },
   {
    "duration": 36,
    "start_time": "2023-08-24T13:01:33.352Z"
   },
   {
    "duration": 1808,
    "start_time": "2023-08-28T17:06:08.728Z"
   },
   {
    "duration": 8,
    "start_time": "2023-08-28T17:06:10.539Z"
   },
   {
    "duration": 103,
    "start_time": "2023-08-28T17:06:10.549Z"
   },
   {
    "duration": 15,
    "start_time": "2023-08-28T17:06:10.654Z"
   },
   {
    "duration": 13,
    "start_time": "2023-08-28T17:06:10.672Z"
   },
   {
    "duration": 8,
    "start_time": "2023-08-28T17:06:10.686Z"
   },
   {
    "duration": 12,
    "start_time": "2023-08-28T17:06:10.695Z"
   },
   {
    "duration": 39,
    "start_time": "2023-08-28T17:06:10.709Z"
   },
   {
    "duration": 6,
    "start_time": "2023-08-28T17:06:10.749Z"
   },
   {
    "duration": 361,
    "start_time": "2023-08-28T17:06:10.757Z"
   },
   {
    "duration": 4,
    "start_time": "2023-08-28T17:06:11.120Z"
   },
   {
    "duration": 365,
    "start_time": "2023-08-28T17:06:11.126Z"
   },
   {
    "duration": 403,
    "start_time": "2023-08-28T17:06:11.493Z"
   },
   {
    "duration": 360,
    "start_time": "2023-08-28T17:06:11.898Z"
   },
   {
    "duration": 287,
    "start_time": "2023-08-28T17:06:12.260Z"
   },
   {
    "duration": 4,
    "start_time": "2023-08-28T17:06:12.548Z"
   },
   {
    "duration": 4,
    "start_time": "2023-08-28T17:06:12.554Z"
   },
   {
    "duration": 6,
    "start_time": "2023-08-28T17:06:12.560Z"
   },
   {
    "duration": 80,
    "start_time": "2023-08-28T17:06:12.567Z"
   },
   {
    "duration": 6,
    "start_time": "2023-08-28T17:06:12.649Z"
   },
   {
    "duration": 92,
    "start_time": "2023-08-28T17:06:12.657Z"
   },
   {
    "duration": 9,
    "start_time": "2023-08-28T17:06:12.750Z"
   },
   {
    "duration": 4,
    "start_time": "2023-08-28T17:06:12.761Z"
   },
   {
    "duration": 29,
    "start_time": "2023-08-28T17:06:12.766Z"
   },
   {
    "duration": 7,
    "start_time": "2023-08-28T17:06:12.797Z"
   },
   {
    "duration": 45,
    "start_time": "2023-08-28T17:06:12.806Z"
   },
   {
    "duration": 166,
    "start_time": "2023-08-28T17:06:12.853Z"
   },
   {
    "duration": 11,
    "start_time": "2023-08-28T17:06:13.021Z"
   },
   {
    "duration": 20,
    "start_time": "2023-08-28T17:06:13.034Z"
   },
   {
    "duration": 11,
    "start_time": "2023-08-28T17:06:13.056Z"
   }
  ],
  "kernelspec": {
   "display_name": "Python 3 (ipykernel)",
   "language": "python",
   "name": "python3"
  },
  "language_info": {
   "codemirror_mode": {
    "name": "ipython",
    "version": 3
   },
   "file_extension": ".py",
   "mimetype": "text/x-python",
   "name": "python",
   "nbconvert_exporter": "python",
   "pygments_lexer": "ipython3",
   "version": "3.9.5"
  },
  "toc": {
   "base_numbering": 1,
   "nav_menu": {},
   "number_sections": true,
   "sideBar": true,
   "skip_h1_title": true,
   "title_cell": "Содержание",
   "title_sidebar": "Contents",
   "toc_cell": true,
   "toc_position": {
    "height": "1624.55px",
    "left": "40px",
    "top": "170.781px",
    "width": "346.354px"
   },
   "toc_section_display": true,
   "toc_window_display": true
  }
 },
 "nbformat": 4,
 "nbformat_minor": 2
}
